{
 "cells": [
  {
   "cell_type": "markdown",
   "metadata": {},
   "source": [
    "## Combining the MF catalgoues\n",
    "### Creates the file \"name_field\"_all.fits, for all fields\n",
    "### The RA and Dec from \"name_field\"_all.fits is used as input for XID+"
   ]
  },
  {
   "cell_type": "code",
   "execution_count": 63,
   "metadata": {
    "collapsed": true
   },
   "outputs": [],
   "source": [
    "import numpy as np\n",
    "from astropy.io import fits\n",
    "from astropy.table import Table, vstack\n",
    "import os\n",
    "%matplotlib inline  \n",
    "\n",
    "import matplotlib.pyplot as plt\n",
    "from astropy.wcs import WCS\n",
    "from matplotlib.patches import Ellipse\n",
    "from astropy.coordinates import SkyCoord\n",
    "from astropy import units as u\n",
    "from astropy.table import Column\n"
   ]
  },
  {
   "cell_type": "code",
   "execution_count": 71,
   "metadata": {
    "collapsed": true
   },
   "outputs": [],
   "source": [
    "# The SPIRE fields in HELP:\n",
    "all_names =  ['GAMA-09_SPIRE','GAMA-12_SPIRE','GAMA-15_SPIRE','HATLAS-NGP_SPIRE','HATLAS-SGP_SPIRE','SSDF_SPIRE','AKARI-SEP_SPIRE','Bootes_SPIRE','CDFS-SWIRE_SPIRE','COSMOS_SPIRE','EGS_SPIRE',\\\n",
    "              'ELAIS-N1_SPIRE','ELAIS-N2_SPIRE','ELAIS-S1_SPIRE','HDF-N_SPIRE','Lockman-SWIRE_SPIRE','SA13_SPIRE',\\\n",
    "              'SPIRE-NEP_SPIRE','xFLS_SPIRE','XMM-13hr_SPIRE','XMM-LSS_SPIRE']\n"
   ]
  },
  {
   "cell_type": "code",
   "execution_count": 39,
   "metadata": {
    "collapsed": true
   },
   "outputs": [],
   "source": [
    "band = ['250','350','500']"
   ]
  },
  {
   "cell_type": "code",
   "execution_count": 40,
   "metadata": {
    "collapsed": true
   },
   "outputs": [],
   "source": [
    "# loops over the matched filterd catalogues and creates a merged catalgoue for every field.\n",
    "# Duplicated are removed in the 350um catalogue when the object is within a 12 arcsec radius of a 250um detection\n",
    "# Duplicated are removed in the 500um catalogue when the object is within a 18 arcsec radius of a 250um or\n",
    "# 350um detection\n",
    "\n",
    "for j in range(np.size(all_names)):\n",
    "    name = all_names[j]+'250_cat_MF.fits'\n",
    "    cat1=Table.read(name)\n",
    "\n",
    "    RA,DEC = cat1['RA'],cat1['Dec']\n",
    "    cat1.add_column(Column(np.zeros(np.size(RA))),name='flag')\n",
    "\n",
    "    cat1['F_BLIND_pix_SPIRE_250'].name = 'F_BLIND_pix_SPIRE'\n",
    "    cat1['FErr_BLIND_pix_SPIRE_250'].name = 'FErr_BLIND_pix_SPIRE'\n",
    "\n",
    "    name = all_names[j]+'350_cat_MF.fits'\n",
    "    cat2=Table.read(name)\n",
    "\n",
    "    RA_m,DEC_m = cat2['RA'],cat2['Dec']\n",
    "    cat2.add_column(Column(np.zeros(np.size(RA_m))+1),name='flag')\n",
    "\n",
    "    cat2['F_BLIND_pix_SPIRE_350'].name = 'F_BLIND_pix_SPIRE'\n",
    "    cat2['FErr_BLIND_pix_SPIRE_350'].name = 'FErr_BLIND_pix_SPIRE'\n",
    "\n",
    "\n",
    "    catalog = SkyCoord(ra=RA, dec=DEC)  \n",
    "    c = SkyCoord(ra=RA_m, dec=DEC_m)\n",
    "\n",
    "    idx, d2d, d3d = c.match_to_catalog_sky(catalog) \n",
    "    use = np.array(d2d)*3600 > 12.\n",
    "    cat2 = cat2[use]\n",
    "\n",
    "    cat_all = vstack([cat1, cat2])\n",
    "\n",
    "    name = all_names[j]+'500_cat_MF.fits'\n",
    "    cat3=Table.read(name)\n",
    "\n",
    "    RA_m,DEC_m = cat3['RA'],cat3['Dec']\n",
    "    cat3.add_column(Column(np.zeros(np.size(RA_m))+2),name='flag')\n",
    "\n",
    "    cat3['F_BLIND_pix_SPIRE_500'].name = 'F_BLIND_pix_SPIRE'\n",
    "    cat3['FErr_BLIND_pix_SPIRE_500'].name = 'FErr_BLIND_pix_SPIRE'\n",
    "\n",
    "    catalog = SkyCoord(ra=cat_all['RA'], dec=cat_all['Dec'])  \n",
    "    c = SkyCoord(ra=RA_m, dec=DEC_m)\n",
    "\n",
    "    idx, d2d, d3d = c.match_to_catalog_sky(catalog) \n",
    "    use = np.array(d2d)*3600 > 18.\n",
    "    cat3 = cat3[use]\n",
    "\n",
    "    cat_all = vstack([cat_all, cat3])\n",
    "\n",
    "    cat_all.write(all_names[j]+'_all.fits', format='fits',overwrite=True)\n",
    "\n"
   ]
  }
 ],
 "metadata": {
  "kernelspec": {
   "display_name": "Python 2",
   "language": "python",
   "name": "python2"
  },
  "language_info": {
   "codemirror_mode": {
    "name": "ipython",
    "version": 2
   },
   "file_extension": ".py",
   "mimetype": "text/x-python",
   "name": "python",
   "nbconvert_exporter": "python",
   "pygments_lexer": "ipython2",
   "version": "2.7.14"
  }
 },
 "nbformat": 4,
 "nbformat_minor": 1
}
