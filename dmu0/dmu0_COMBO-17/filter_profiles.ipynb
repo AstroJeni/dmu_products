{
 "cells": [
  {
   "cell_type": "markdown",
   "metadata": {},
   "source": [
    "# Filter transmission profiles for COMBO-17"
   ]
  },
  {
   "cell_type": "code",
   "execution_count": 1,
   "metadata": {
    "collapsed": true
   },
   "outputs": [],
   "source": [
    "from glob import glob\n",
    "\n",
    "import numpy as np\n",
    "from astropy.table import Table as astropy_table\n",
    "from astropy.io.votable.tree import VOTableFile, Resource, Table, Field, Param\n",
    "\n",
    "from matplotlib import pyplot as plt\n",
    "plt.style.use('ggplot')"
   ]
  },
  {
   "cell_type": "markdown",
   "metadata": {},
   "source": [
    "There are two sources for transmission profiles for COMBO-17:\n",
    "\n",
    "- The project provides total **efficiency** curves for the filter used on this page \n",
    "  http://www.mpia.de/COMBO/combo_filters.html\n",
    "\n",
    "- The Spanish Virtual Observatory provides the LaSilla/WFI **transmission** curves\n",
    "  taken from the ESO web page \n",
    "  (http://www.eso.org/sci/facilities/lasilla/instruments/wfi/inst.html).\n",
    "  \n",
    "The profiles given by SVO/ESO does not seem to take into account the CDD response while the files provided by the project do. For instance, compare the I band provided by ESO (the response table contains only the blue line):\n",
    "\n",
    "![I band](http://www.ls.eso.org/sci/facilities/lasilla/instruments/wfi/inst/filters/845.gif)\n",
    "\n",
    "to the one from the COMBO-17 page:"
   ]
  },
  {
   "cell_type": "code",
   "execution_count": 2,
   "metadata": {
    "collapsed": false
   },
   "outputs": [
    {
     "data": {
      "image/png": "[encoded data removed]",
      "text/plain": [
       "<matplotlib.figure.Figure at 0x7f01c83ddf28>"
      ]
     },
     "metadata": {},
     "output_type": "display_data"
    }
   ],
   "source": [
    "i_band = astropy_table.read(\"data/combo_filters/epsi_I.fits\")\n",
    "plt.plot(i_band['lamb_I__D'], i_band['epsi_I__D']);"
   ]
  },
  {
   "cell_type": "markdown",
   "metadata": {},
   "source": [
    "We will then use the files from the COMBO-17 page and convert them to VO-table to be ingested in the HELP filter database."
   ]
  },
  {
   "cell_type": "code",
   "execution_count": 3,
   "metadata": {
    "collapsed": false
   },
   "outputs": [],
   "source": [
    "# Filter and band name were choosen to reflect the names from the ESO/WFI web page.\n",
    "\n",
    "filter_name = {\n",
    "    '420m': \"wfi_416nm\",\n",
    "    '464m': \"wfi_461nm\",\n",
    "    '485m': \"wfi_485nm\",\n",
    "    '518m': \"wfi_518nm\",\n",
    "    '571m': \"wfi_571nm\",\n",
    "    '604m': \"wfi_604nm\",\n",
    "    '646m': \"wfi_646nm\",\n",
    "    '696m': \"wfi_696nm\",\n",
    "    '753m': \"wfi_753nm\",\n",
    "    '815m': \"wfi_815nm\",\n",
    "    '855m': \"wfi_856nm\",\n",
    "    '915m': \"wfi_914nm\",\n",
    "    'B': \"wfi_b\",\n",
    "    'I': \"wfi_i\",\n",
    "    'R': \"wfi_r\",\n",
    "    'U': \"wfi_u\",\n",
    "    'V': \"wfi_v\"\n",
    "}\n",
    "\n",
    "filter_band_name = {\n",
    "    '420m': \"WFI 416/20\",\n",
    "    '464m': \"WFI 461/13\",\n",
    "    '485m': \"WFI 485/31\",\n",
    "    '518m': \"WFI 518/16\",\n",
    "    '571m': \"WFI 571/25\",\n",
    "    '604m': \"WFI 604/21\",\n",
    "    '646m': \"WFI 646/27\",\n",
    "    '696m': \"WFI 696/20\",\n",
    "    '753m': \"WFI 753/18\",\n",
    "    '815m': \"WFI 815/20\",\n",
    "    '855m': \"WFI 856/14\",\n",
    "    '915m': \"WFI 914/27\",\n",
    "    'B': \"WFI B/99\",\n",
    "    'I': \"WFI Ic/Iwp\",\n",
    "    'R': \"WFI Rc/162\",\n",
    "    'U': \"WFI U/38\",\n",
    "    'V': \"WFI V/89\"  \n",
    "}\n",
    "\n",
    "description = {\n",
    "    band: \"Efficiency of filter {} of the WFI instrument on La Silla telescope. It includes two telescope \"\n",
    "          \"mirrors, the CCD detector and an average La Silla atmosphere.\".format(filter_band_name[band][4:])\n",
    "    for band in filter_band_name\n",
    "}\n",
    "\n",
    "facility = \"La Silla\"\n",
    "instrument = \"WFI\""
   ]
  },
  {
   "cell_type": "code",
   "execution_count": 4,
   "metadata": {
    "collapsed": false
   },
   "outputs": [],
   "source": [
    "for f in glob(\"data/combo_filters/*fits\"):\n",
    "    name = f[24:][:-5]\n",
    "    orig_table = astropy_table.read(f)\n",
    "    wave, trans = orig_table.columns[0], orig_table.columns[1]\n",
    "    \n",
    "    votable = VOTableFile()\n",
    "    resource = Resource()\n",
    "    votable.resources.append(resource)\n",
    "    table = Table(votable)\n",
    "    resource.tables.append(table)\n",
    "    \n",
    "    table.fields.extend([\n",
    "            Field(votable, name=\"Wavelength\", datatype=\"float\", unit=\"nm\"),\n",
    "            Field(votable, name=\"Transmission\", datatype=\"float\", unit=\"\"),\n",
    "        ])\n",
    "    table.create_arrays(len(wave))\n",
    "\n",
    "    table.array[\"Wavelength\"] = wave\n",
    "    table.array[\"Transmission\"] = trans\n",
    "    \n",
    "    table.params.extend([\n",
    "            Param(votable, name=\"Description\", datatype='char', arraysize='*',\n",
    "                 value=description[name]),\n",
    "            Param(votable, name=\"Band\", datatype='char', arraysize='*',\n",
    "                 value=filter_band_name[name]),\n",
    "            Param(votable, name=\"Facility\", datatype='char', arraysize='*',\n",
    "                 value=\"La Silla\"),\n",
    "            Param(votable, name=\"Instrument\", datatype='char', arraysize='*',\n",
    "                 value=\"WFI\"),\n",
    "            Param(votable, name=\"AdditionalProcessing\", datatype='char', arraysize='*'),\n",
    "        ])\n",
    "        \n",
    "    table.get_field_by_id(\"AdditionalProcessing\").description = \\\n",
    "        \"Efficiency profile taken from the COMBO-17 project - http://www.mpia.de/COMBO/combo_filters.html\"\n",
    "    \n",
    "    votable.to_xml(\"data/help_filters/{}.xml\".format(filter_name[name]))"
   ]
  }
 ],
 "metadata": {
  "kernelspec": {
   "display_name": "Python 3",
   "language": "python",
   "name": "python3"
  },
  "language_info": {
   "codemirror_mode": {
    "name": "ipython",
    "version": 3
   },
   "file_extension": ".py",
   "mimetype": "text/x-python",
   "name": "python",
   "nbconvert_exporter": "python",
   "pygments_lexer": "ipython3",
   "version": "3.6.3"
  }
 },
 "nbformat": 4,
 "nbformat_minor": 2
}
