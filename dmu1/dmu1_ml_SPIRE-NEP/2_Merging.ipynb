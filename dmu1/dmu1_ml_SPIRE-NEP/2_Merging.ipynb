{
 "cells": [
  {
   "cell_type": "markdown",
   "metadata": {},
   "source": [
    "# SPIRE-NEP master catalogue\n",
    "\n",
    "This notebook presents the merge of the various pristine catalogues to produce HELP mater catalogue on SPIRE-NEP."
   ]
  },
  {
   "cell_type": "code",
   "execution_count": 1,
   "metadata": {},
   "outputs": [
    {
     "name": "stdout",
     "output_type": "stream",
     "text": [
      "This notebook was run with herschelhelp_internal version: \n",
      "04829ed (Thu Nov 2 16:57:19 2017 +0000) [with local modifications]\n"
     ]
    }
   ],
   "source": [
    "from herschelhelp_internal import git_version\n",
    "print(\"This notebook was run with herschelhelp_internal version: \\n{}\".format(git_version()))"
   ]
  },
  {
   "cell_type": "code",
   "execution_count": 2,
   "metadata": {},
   "outputs": [
    {
     "name": "stderr",
     "output_type": "stream",
     "text": [
      "/Users/rs548/anaconda/envs/herschelhelp_internal/lib/python3.6/site-packages/seaborn/apionly.py:6: UserWarning: As seaborn no longer sets a default style on import, the seaborn.apionly module is deprecated. It will be removed in a future version.\n",
      "  warnings.warn(msg, UserWarning)\n"
     ]
    }
   ],
   "source": [
    "%matplotlib inline\n",
    "#%config InlineBackend.figure_format = 'svg'\n",
    "\n",
    "import matplotlib.pyplot as plt\n",
    "plt.rc('figure', figsize=(10, 6))\n",
    "\n",
    "import os\n",
    "import time\n",
    "\n",
    "from astropy import units as u\n",
    "from astropy.coordinates import SkyCoord\n",
    "from astropy.table import Column, Table\n",
    "import numpy as np\n",
    "from pymoc import MOC\n",
    "\n",
    "from herschelhelp_internal.masterlist import merge_catalogues, nb_merge_dist_plot, specz_merge\n",
    "from herschelhelp_internal.utils import coords_to_hpidx, ebv, gen_help_id, inMoc"
   ]
  },
  {
   "cell_type": "code",
   "execution_count": 3,
   "metadata": {
    "collapsed": true
   },
   "outputs": [],
   "source": [
    "TMP_DIR = os.environ.get('TMP_DIR', \"./data_tmp\")\n",
    "OUT_DIR = os.environ.get('OUT_DIR', \"./data\")\n",
    "SUFFIX = os.environ.get('SUFFIX', time.strftime(\"_%Y%m%d\"))\n",
    "\n",
    "try:\n",
    "    os.makedirs(OUT_DIR)\n",
    "except FileExistsError:\n",
    "    pass"
   ]
  },
  {
   "cell_type": "markdown",
   "metadata": {},
   "source": [
    "## I - Reading the prepared pristine catalogues"
   ]
  },
  {
   "cell_type": "code",
   "execution_count": 4,
   "metadata": {
    "collapsed": true
   },
   "outputs": [],
   "source": [
    "ps1 = Table.read(\"{}/PS1.fits\".format(TMP_DIR))"
   ]
  },
  {
   "cell_type": "markdown",
   "metadata": {},
   "source": [
    "## II - Merging tables\n",
    "\n",
    "We first merge the optical catalogues and then add the infrared ones: DECaLS, HSC, KIDS, PanSTARRS, UKIDSS-LAS, and VISTA-VIKING.\n",
    "\n",
    "At every step, we look at the distribution of the distances to the nearest source in the merged catalogue to determine the best crossmatching radius."
   ]
  },
  {
   "cell_type": "markdown",
   "metadata": {},
   "source": [
    "### DECaLS"
   ]
  },
  {
   "cell_type": "code",
   "execution_count": 5,
   "metadata": {
    "collapsed": true
   },
   "outputs": [],
   "source": [
    "master_catalogue = ps1\n",
    "master_catalogue['ps1_ra'].name = 'ra'\n",
    "master_catalogue['ps1_dec'].name = 'dec'"
   ]
  },
  {
   "cell_type": "markdown",
   "metadata": {},
   "source": [
    "### Cleaning\n",
    "\n",
    "When we merge the catalogues, astropy masks the non-existent values (e.g. when a row comes only from a catalogue and has no counterparts in the other, the columns from the latest are masked for that row). We indicate to use NaN for masked values for floats columns, False for flag columns and -1 for ID columns."
   ]
  },
  {
   "cell_type": "code",
   "execution_count": 6,
   "metadata": {
    "collapsed": true
   },
   "outputs": [],
   "source": [
    "for col in master_catalogue.colnames:\n",
    "    if \"m_\" in col or \"merr_\" in col or \"f_\" in col or \"ferr_\" in col or \"stellarity\" in col:\n",
    "        master_catalogue[col].fill_value = np.nan\n",
    "    elif \"flag\" in col:\n",
    "        master_catalogue[col].fill_value = 0\n",
    "    elif \"id\" in col:\n",
    "        master_catalogue[col].fill_value = -1\n",
    "        \n",
    "master_catalogue = master_catalogue.filled()"
   ]
  },
  {
   "cell_type": "code",
   "execution_count": 7,
   "metadata": {},
   "outputs": [
    {
     "data": {
      "text/html": [
       "&lt;Table length=10&gt;\n",
       "<table id=\"table4658799448-188404\" class=\"table-striped table-bordered table-condensed\">\n",
       "<thead><tr><th>idx</th><th>ps1_id</th><th>ra</th><th>dec</th><th>m_ap_gpc1_g</th><th>merr_ap_gpc1_g</th><th>m_gpc1_g</th><th>merr_gpc1_g</th><th>m_ap_gpc1_r</th><th>merr_ap_gpc1_r</th><th>m_gpc1_r</th><th>merr_gpc1_r</th><th>m_ap_gpc1_i</th><th>merr_ap_gpc1_i</th><th>m_gpc1_i</th><th>merr_gpc1_i</th><th>m_ap_gpc1_z</th><th>merr_ap_gpc1_z</th><th>m_gpc1_z</th><th>merr_gpc1_z</th><th>m_ap_gpc1_y</th><th>merr_ap_gpc1_y</th><th>m_gpc1_y</th><th>merr_gpc1_y</th><th>f_ap_gpc1_g</th><th>ferr_ap_gpc1_g</th><th>f_gpc1_g</th><th>ferr_gpc1_g</th><th>flag_gpc1_g</th><th>f_ap_gpc1_r</th><th>ferr_ap_gpc1_r</th><th>f_gpc1_r</th><th>ferr_gpc1_r</th><th>flag_gpc1_r</th><th>f_ap_gpc1_i</th><th>ferr_ap_gpc1_i</th><th>f_gpc1_i</th><th>ferr_gpc1_i</th><th>flag_gpc1_i</th><th>f_ap_gpc1_z</th><th>ferr_ap_gpc1_z</th><th>f_gpc1_z</th><th>ferr_gpc1_z</th><th>flag_gpc1_z</th><th>f_ap_gpc1_y</th><th>ferr_ap_gpc1_y</th><th>f_gpc1_y</th><th>ferr_gpc1_y</th><th>flag_gpc1_y</th><th>ps1_flag_cleaned</th><th>ps1_flag_gaia</th></tr></thead>\n",
       "<thead><tr><th></th><th></th><th>deg</th><th>deg</th><th></th><th></th><th></th><th></th><th></th><th></th><th></th><th></th><th></th><th></th><th></th><th></th><th></th><th></th><th></th><th></th><th></th><th></th><th></th><th></th><th></th><th></th><th></th><th></th><th></th><th></th><th></th><th></th><th></th><th></th><th></th><th></th><th></th><th></th><th></th><th></th><th></th><th></th><th></th><th></th><th></th><th></th><th></th><th></th><th></th><th></th><th></th></tr></thead>\n",
       "<tr><td>0</td><td>190722653882417246</td><td>265.388181797</td><td>68.9387146457</td><td>19.2134990692</td><td>0.00342800002545</td><td>nan</td><td>nan</td><td>nan</td><td>4.99999987369e-05</td><td>nan</td><td>nan</td><td>18.8502006531</td><td>0.00138799997512</td><td>nan</td><td>nan</td><td>18.7789993286</td><td>0.00228199991398</td><td>nan</td><td>nan</td><td>19.0373001099</td><td>0.00218400009908</td><td>nan</td><td>nan</td><td>74.9204491495</td><td>0.236546686447</td><td>nan</td><td>nan</td><td>False</td><td>nan</td><td>nan</td><td>nan</td><td>nan</td><td>False</td><td>104.693504787</td><td>0.13383967616</td><td>nan</td><td>nan</td><td>False</td><td>111.789308198</td><td>0.234958722546</td><td>nan</td><td>nan</td><td>False</td><td>88.1211093989</td><td>0.177258997917</td><td>nan</td><td>nan</td><td>False</td><td>False</td><td>3</td></tr>\n",
       "<tr><td>1</td><td>190482652731951974</td><td>265.273177477</td><td>68.7343304857</td><td>13.1686000824</td><td>0.000174000000698</td><td>13.2056999207</td><td>0.000456999987364</td><td>12.7111997604</td><td>0.000100999997812</td><td>12.6421003342</td><td>0.000666000007186</td><td>12.8554000854</td><td>8.80000006873e-05</td><td>12.869799614</td><td>0.000577000027988</td><td>12.5587997437</td><td>0.000125000005937</td><td>12.6094999313</td><td>0.000254999991739</td><td>12.5476999283</td><td>0.000113000001875</td><td>12.5921001434</td><td>0.000345999986166</td><td>19613.7198148</td><td>3.14329322952</td><td>18954.8360235</td><td>7.97832823965</td><td>False</td><td>29889.5994995</td><td>2.780463128</td><td>31853.6985917</td><td>19.5393350595</td><td>False</td><td>26172.1840563</td><td>2.12128158281</td><td>25827.3682268</td><td>13.7256104424</td><td>False</td><td>34393.7953297</td><td>3.95973220896</td><td>32824.6442134</td><td>7.70931646802</td><td>False</td><td>34747.2171764</td><td>3.61638083806</td><td>33354.923016</td><td>10.6294722894</td><td>False</td><td>True</td><td>3</td></tr>\n",
       "<tr><td>2</td><td>190722653912264533</td><td>265.391174867</td><td>68.9364847957</td><td>12.7490997314</td><td>0.00017499999376</td><td>12.785200119</td><td>0.000911000010092</td><td>12.4386997223</td><td>0.000100999997812</td><td>12.4645004272</td><td>0.000361000013072</td><td>12.2482995987</td><td>6.60000005155e-05</td><td>12.288599968</td><td>0.000490000005811</td><td>12.2592000961</td><td>0.000113000001875</td><td>12.29529953</td><td>0.000292999990052</td><td>12.1958999634</td><td>9.40000027185e-05</td><td>12.1674003601</td><td>0.000339999998687</td><td>28864.2387026</td><td>4.65236543712</td><td>27920.2917696</td><td>23.4268563325</td><td>False</td><td>38416.7048576</td><td>3.57369229244</td><td>37514.5575839</td><td>12.4733390292</td><td>False</td><td>45780.4608845</td><td>2.78291396081</td><td>44112.3315367</td><td>19.9081900508</td><td>False</td><td>45323.1370016</td><td>4.71708923743</td><td>43840.9733774</td><td>11.8310550087</td><td>False</td><td>48044.0947342</td><td>4.15952329473</td><td>49321.9065446</td><td>15.4452325408</td><td>False</td><td>False</td><td>3</td></tr>\n",
       "<tr><td>3</td><td>190672651606062514</td><td>265.160522787</td><td>68.8931333257</td><td>12.815199852</td><td>0.000167000005604</td><td>12.9259004593</td><td>0.000843000016175</td><td>12.7364997864</td><td>0.000109000000521</td><td>13.3079996109</td><td>0.00110700004734</td><td>15.7264995575</td><td>0.000335999997333</td><td>nan</td><td>nan</td><td>12.2652997971</td><td>0.000119999996969</td><td>nan</td><td>nan</td><td>16.6851997375</td><td>0.000732999993488</td><td>nan</td><td>nan</td><td>27159.3929856</td><td>4.17745927686</td><td>24526.7393785</td><td>19.0433381536</td><td>False</td><td>29201.1587594</td><td>2.93158347859</td><td>17250.4391546</td><td>17.5882842232</td><td>False</td><td>1859.51710233</td><td>0.575459986215</td><td>nan</td><td>nan</td><td>False</td><td>45069.2240732</td><td>4.98123460235</td><td>nan</td><td>nan</td><td>False</td><td>768.988960157</td><td>0.519158245177</td><td>nan</td><td>nan</td><td>False</td><td>True</td><td>3</td></tr>\n",
       "<tr><td>4</td><td>190622643128955464</td><td>264.312914227</td><td>68.8539061457</td><td>nan</td><td>nan</td><td>13.0476999283</td><td>0.00121300003957</td><td>12.7306995392</td><td>0.000109000000521</td><td>12.7356996536</td><td>0.000487999990582</td><td>nan</td><td>nan</td><td>13.108499527</td><td>0.00134499999695</td><td>12.265999794</td><td>0.000119999996969</td><td>12.3839998245</td><td>0.000560000014957</td><td>12.206199646</td><td>9.300000238e-05</td><td>12.241399765</td><td>0.000284999987343</td><td>nan</td><td>nan</td><td>21924.0118777</td><td>24.4938200998</td><td>False</td><td>29357.5753567</td><td>2.94728656476</td><td>29222.6864701</td><td>13.1345631284</td><td>False</td><td>nan</td><td>nan</td><td>20730.0423443</td><td>25.6801852675</td><td>False</td><td>45040.1763622</td><td>4.97802413076</td><td>40401.740067</td><td>20.8383721043</td><td>False</td><td>47590.4861874</td><td>4.07641866348</td><td>46072.3212757</td><td>12.0937396422</td><td>False</td><td>False</td><td>3</td></tr>\n",
       "<tr><td>5</td><td>190412643390086959</td><td>264.339006877</td><td>68.6801702857</td><td>12.9955997467</td><td>0.000155999994604</td><td>13.0321998596</td><td>0.000372999988031</td><td>12.8657999039</td><td>0.000110000000859</td><td>12.8879995346</td><td>0.000265000009676</td><td>12.7673997879</td><td>8.09999983176e-05</td><td>12.7856998444</td><td>0.00034900000901</td><td>12.6052999496</td><td>0.000125999999</td><td>12.6520004272</td><td>0.000241999994614</td><td>12.5761003494</td><td>0.000113000001875</td><td>12.6241998672</td><td>0.000371000001905</td><td>23001.7088163</td><td>3.30491553611</td><td>22239.245863</td><td>7.64019695056</td><td>False</td><td>25922.6883368</td><td>2.62632463284</td><td>25398.0390244</td><td>6.19900170754</td><td>False</td><td>28381.8097692</td><td>2.11738959563</td><td>27907.44402</td><td>8.97059356751</td><td>False</td><td>32951.8665512</td><td>3.82407359568</td><td>31564.5664921</td><td>7.0354335497</td><td>False</td><td>33850.0925341</td><td>3.52301093309</td><td>32383.2217005</td><td>11.0654643918</td><td>False</td><td>False</td><td>3</td></tr>\n",
       "<tr><td>6</td><td>190952649882595991</td><td>264.988190407</td><td>69.1293964657</td><td>13.8341999054</td><td>0.000265999988187</td><td>13.8683004379</td><td>0.0010300000431</td><td>12.7707004547</td><td>0.000111000001198</td><td>nan</td><td>nan</td><td>nan</td><td>1.80000006367e-05</td><td>nan</td><td>nan</td><td>12.3580999374</td><td>0.000125000005937</td><td>nan</td><td>nan</td><td>nan</td><td>0.000691999972332</td><td>nan</td><td>nan</td><td>10624.7822425</td><td>2.60301898252</td><td>10296.2676823</td><td>9.76770979</td><td>False</td><td>28295.6593322</td><td>2.89280048505</td><td>nan</td><td>nan</td><td>False</td><td>nan</td><td>nan</td><td>nan</td><td>nan</td><td>False</td><td>41377.097719</td><td>4.76371464622</td><td>nan</td><td>nan</td><td>False</td><td>nan</td><td>nan</td><td>nan</td><td>nan</td><td>False</td><td>True</td><td>3</td></tr>\n",
       "<tr><td>7</td><td>190662649544425294</td><td>264.954403137</td><td>68.8871358757</td><td>13.3626003265</td><td>0.000213999999687</td><td>13.4056997299</td><td>0.000449000013759</td><td>12.7811002731</td><td>0.000112000001536</td><td>12.8009996414</td><td>0.000246999989031</td><td>12.3708000183</td><td>7.20000025467e-05</td><td>12.405500412</td><td>0.000479999987874</td><td>12.2262001038</td><td>0.000118000003567</td><td>12.265999794</td><td>0.000285999994958</td><td>12.0875997543</td><td>8.80000006873e-05</td><td>12.1350002289</td><td>0.000260000000708</td><td>16404.3818289</td><td>3.23332471632</td><td>15765.9486612</td><td>6.51991813001</td><td>False</td><td>28025.9208239</td><td>2.89103666395</td><td>27516.940416</td><td>6.2599772865</td><td>False</td><td>40895.9209504</td><td>2.71199062873</td><td>39609.543319</td><td>17.5112336031</td><td>False</td><td>46721.8422232</td><td>5.07782417575</td><td>45040.1763622</td><td>11.8642909355</td><td>False</td><td>53083.5670329</td><td>4.30247597428</td><td>50815.9335437</td><td>12.1688331838</td><td>False</td><td>False</td><td>3</td></tr>\n",
       "<tr><td>8</td><td>190482652739931913</td><td>265.273932197</td><td>68.7343666057</td><td>14.8704996109</td><td>0.000380999990739</td><td>nan</td><td>nan</td><td>13.0739002228</td><td>0.00011899999663</td><td>nan</td><td>nan</td><td>nan</td><td>1.59999999596e-05</td><td>nan</td><td>nan</td><td>12.7314996719</td><td>0.000134999994771</td><td>nan</td><td>nan</td><td>12.8277997971</td><td>0.000127999999677</td><td>nan</td><td>nan</td><td>4090.72378222</td><td>1.43549208022</td><td>nan</td><td>nan</td><td>False</td><td>21401.2879744</td><td>2.34564637862</td><td>nan</td><td>nan</td><td>False</td><td>nan</td><td>nan</td><td>nan</td><td>nan</td><td>False</td><td>29335.9482762</td><td>3.64761978695</td><td>nan</td><td>nan</td><td>False</td><td>26846.0306186</td><td>3.16494181133</td><td>nan</td><td>nan</td><td>False</td><td>True</td><td>2</td></tr>\n",
       "<tr><td>9</td><td>190572663265346158</td><td>266.326548637</td><td>68.8128311657</td><td>13.3256998062</td><td>0.000243000002229</td><td>13.3695001602</td><td>0.000342999992426</td><td>12.9804000854</td><td>0.000121999997646</td><td>13.0089998245</td><td>0.000273000012385</td><td>12.730799675</td><td>7.50000035623e-05</td><td>12.7702999115</td><td>0.000159999995958</td><td>12.7189998627</td><td>0.000140999996802</td><td>12.7716999054</td><td>0.000257000006968</td><td>12.6738996506</td><td>0.00011600000289</td><td>12.7285995483</td><td>0.000364000006812</td><td>16971.4941011</td><td>3.79841170103</td><td>16300.4628345</td><td>5.14955530106</td><td>False</td><td>23325.9835932</td><td>2.62105097995</td><td>22719.5680493</td><td>5.71266052624</td><td>False</td><td>29354.8678769</td><td>2.02776253172</td><td>28306.0999208</td><td>4.17134093261</td><td>False</td><td>29675.6373343</td><td>3.8538502731</td><td>28269.6243675</td><td>6.69158275057</td><td>False</td><td>30934.2890864</td><td>3.3050179295</td><td>29414.4126426</td><td>9.86136996753</td><td>False</td><td>True</td><td>3</td></tr>\n",
       "</table><style>table.dataTable {clear: both; width: auto !important; margin: 0 !important;}\n",
       ".dataTables_info, .dataTables_length, .dataTables_filter, .dataTables_paginate{\n",
       "display: inline-block; margin-right: 1em; }\n",
       ".paginate_button { margin-right: 5px; }\n",
       "</style>\n",
       "<script>\n",
       "\n",
       "var astropy_sort_num = function(a, b) {\n",
       "    var a_num = parseFloat(a);\n",
       "    var b_num = parseFloat(b);\n",
       "\n",
       "    if (isNaN(a_num) && isNaN(b_num))\n",
       "        return ((a < b) ? -1 : ((a > b) ? 1 : 0));\n",
       "    else if (!isNaN(a_num) && !isNaN(b_num))\n",
       "        return ((a_num < b_num) ? -1 : ((a_num > b_num) ? 1 : 0));\n",
       "    else\n",
       "        return isNaN(a_num) ? -1 : 1;\n",
       "}\n",
       "\n",
       "require.config({paths: {\n",
       "    datatables: 'https://cdn.datatables.net/1.10.12/js/jquery.dataTables.min'\n",
       "}});\n",
       "require([\"datatables\"], function(){\n",
       "    console.log(\"$('#table4658799448-188404').dataTable()\");\n",
       "    \n",
       "jQuery.extend( jQuery.fn.dataTableExt.oSort, {\n",
       "    \"optionalnum-asc\": astropy_sort_num,\n",
       "    \"optionalnum-desc\": function (a,b) { return -astropy_sort_num(a, b); }\n",
       "});\n",
       "\n",
       "    $('#table4658799448-188404').dataTable({\n",
       "        order: [],\n",
       "        pageLength: 50,\n",
       "        lengthMenu: [[10, 25, 50, 100, 500, 1000, -1], [10, 25, 50, 100, 500, 1000, 'All']],\n",
       "        pagingType: \"full_numbers\",\n",
       "        columnDefs: [{targets: [0, 1, 2, 3, 4, 5, 6, 7, 8, 9, 10, 11, 12, 13, 14, 15, 16, 17, 18, 19, 20, 21, 22, 23, 24, 25, 26, 27, 29, 30, 31, 32, 34, 35, 36, 37, 39, 40, 41, 42, 44, 45, 46, 47, 50], type: \"optionalnum\"}]\n",
       "    });\n",
       "});\n",
       "</script>\n"
      ],
      "text/plain": [
       "<IPython.core.display.HTML object>"
      ]
     },
     "execution_count": 7,
     "metadata": {},
     "output_type": "execute_result"
    }
   ],
   "source": [
    "master_catalogue[:10].show_in_notebook()"
   ]
  },
  {
   "cell_type": "markdown",
   "metadata": {},
   "source": [
    "## III - Merging flags and stellarity\n",
    "\n",
    "Each pristine catalogue contains a flag indicating if the source was associated to a another nearby source that was removed during the cleaning process.  We merge these flags in a single one."
   ]
  },
  {
   "cell_type": "code",
   "execution_count": 8,
   "metadata": {
    "collapsed": true
   },
   "outputs": [],
   "source": [
    "flag_cleaned_columns = [column for column in master_catalogue.colnames\n",
    "                        if 'flag_cleaned' in column]\n",
    "\n",
    "flag_column = np.zeros(len(master_catalogue), dtype=bool)\n",
    "for column in flag_cleaned_columns:\n",
    "    flag_column |= master_catalogue[column]\n",
    "    \n",
    "master_catalogue.add_column(Column(data=flag_column, name=\"flag_cleaned\"))\n",
    "master_catalogue.remove_columns(flag_cleaned_columns)"
   ]
  },
  {
   "cell_type": "markdown",
   "metadata": {},
   "source": [
    "Each pristine catalogue contains a flag indicating the probability of a source being a Gaia object (0: not a Gaia object, 1: possibly, 2: probably, 3: definitely).  We merge these flags taking the highest value."
   ]
  },
  {
   "cell_type": "code",
   "execution_count": 9,
   "metadata": {
    "collapsed": true
   },
   "outputs": [],
   "source": [
    "flag_gaia_columns = [column for column in master_catalogue.colnames\n",
    "                     if 'flag_gaia' in column]\n",
    "\n",
    "master_catalogue.add_column(Column(\n",
    "    data=np.max([master_catalogue[column] for column in flag_gaia_columns], axis=0),\n",
    "    name=\"flag_gaia\"\n",
    "))\n",
    "master_catalogue.remove_columns(flag_gaia_columns)"
   ]
  },
  {
   "cell_type": "markdown",
   "metadata": {},
   "source": [
    "Each prisitine catalogue may contain one or several stellarity columns indicating the probability (0 to 1) of each source being a star.  We merge these columns taking the highest value."
   ]
  },
  {
   "cell_type": "code",
   "execution_count": 11,
   "metadata": {},
   "outputs": [],
   "source": [
    "# No ps1 stellarity\n",
    "#stellarity_columns = [column for column in master_catalogue.colnames\n",
    "#                      if 'stellarity' in column]\n",
    "#\n",
    "#master_catalogue.add_column(Column(\n",
    "#    data=np.nanmax([master_catalogue[column] for column in stellarity_columns], axis=0),\n",
    "#    name=\"stellarity\"\n",
    "#))\n",
    "#master_catalogue.remove_columns(stellarity_columns)"
   ]
  },
  {
   "cell_type": "markdown",
   "metadata": {},
   "source": [
    "## IV - Adding E(B-V) column"
   ]
  },
  {
   "cell_type": "code",
   "execution_count": 12,
   "metadata": {
    "collapsed": true
   },
   "outputs": [],
   "source": [
    "master_catalogue.add_column(\n",
    "    ebv(master_catalogue['ra'], master_catalogue['dec'])\n",
    ")"
   ]
  },
  {
   "cell_type": "markdown",
   "metadata": {},
   "source": [
    "## V - Adding HELP unique identifiers and field columns"
   ]
  },
  {
   "cell_type": "code",
   "execution_count": 13,
   "metadata": {
    "collapsed": true
   },
   "outputs": [],
   "source": [
    "master_catalogue.add_column(Column(gen_help_id(master_catalogue['ra'], master_catalogue['dec']),\n",
    "                                   name=\"help_id\"))\n",
    "master_catalogue.add_column(Column(np.full(len(master_catalogue), \"SPIRE-NEP\", dtype='<U18'),\n",
    "                                   name=\"field\"))"
   ]
  },
  {
   "cell_type": "code",
   "execution_count": 14,
   "metadata": {},
   "outputs": [
    {
     "name": "stdout",
     "output_type": "stream",
     "text": [
      "OK!\n"
     ]
    }
   ],
   "source": [
    "# Check that the HELP Ids are unique\n",
    "if len(master_catalogue) != len(np.unique(master_catalogue['help_id'])):\n",
    "    print(\"The HELP IDs are not unique!!!\")\n",
    "else:\n",
    "    print(\"OK!\")"
   ]
  },
  {
   "cell_type": "markdown",
   "metadata": {},
   "source": [
    "## VI - Cross-matching with spec-z catalogue"
   ]
  },
  {
   "cell_type": "code",
   "execution_count": 15,
   "metadata": {
    "collapsed": true
   },
   "outputs": [],
   "source": [
    "#specz =  Table.read(\"../../dmu23/dmu23_GAMA-12/data/GAMA12-specz-v2-PRIVATE.csv\")"
   ]
  },
  {
   "cell_type": "code",
   "execution_count": 16,
   "metadata": {
    "collapsed": true
   },
   "outputs": [],
   "source": [
    "#specz.rename_column('RA', 'ra')\n",
    "#specz.rename_column('DEC', 'dec')\n",
    "#specz.rename_column('OBJID', 'specz_id')\n",
    "#specz.rename_column('Z_SPEC', 'z_spec')\n",
    "#specz.rename_column('Z_SOURCE', 'z_source')\n",
    "#specz.rename_column('Z_QUAL', 'z_qual')\n",
    "#specz.rename_column('REL', 'rel')\n",
    "#specz.rename_column('AGN', 'agn')"
   ]
  },
  {
   "cell_type": "code",
   "execution_count": 17,
   "metadata": {},
   "outputs": [],
   "source": [
    "#specz[:10].show_in_notebook()"
   ]
  },
  {
   "cell_type": "code",
   "execution_count": 18,
   "metadata": {},
   "outputs": [],
   "source": [
    "#nb_merge_dist_plot(\n",
    "#    SkyCoord(master_catalogue['ra'], master_catalogue['dec']),\n",
    "#    SkyCoord(specz['ra'] * u.deg, specz['dec'] * u.deg)\n",
    "#)"
   ]
  },
  {
   "cell_type": "code",
   "execution_count": 19,
   "metadata": {
    "collapsed": true
   },
   "outputs": [],
   "source": [
    "#master_catalogue = specz_merge(master_catalogue, specz, radius=1. * u.arcsec)"
   ]
  },
  {
   "cell_type": "markdown",
   "metadata": {},
   "source": [
    "## VII - Choosing between multiple values for the same filter\n",
    "\n",
    "We only have PanSTARRS on SPIRE-NEP"
   ]
  },
  {
   "cell_type": "markdown",
   "metadata": {},
   "source": [
    "## VIII.a Wavelength domain coverage\n",
    "\n",
    "We add a binary `flag_optnir_obs` indicating that a source was observed in a given wavelenght domain:\n",
    "\n",
    "- 1 for observation in optical;\n",
    "- 2 for observation in near-infrared;\n",
    "- 4 for observation in mid-infrared (IRAC).\n",
    "\n",
    "It's an integer binary flag, so a source observed both in optical and near-infrared by not in mid-infrared would have this flag at 1 + 2 = 3.\n",
    "\n",
    "*Note 1: The observation flag is based on the creation of multi-order coverage maps from the catalogues, this may not be accurate, especially on the edges of the coverage.*\n",
    "\n",
    "*Note 2: Being on the observation coverage does not mean having fluxes in that wavelength domain. For sources observed in one domain but having no flux in it, one must take into consideration de different depths in the catalogue we are using.*"
   ]
  },
  {
   "cell_type": "code",
   "execution_count": 20,
   "metadata": {
    "collapsed": true
   },
   "outputs": [],
   "source": [
    "ps1_moc = MOC(filename=\"../../dmu0/dmu0_PanSTARRS1-3SS/data/PanSTARRS1-3SS_SPIRE-NEP_MOC.fits\")"
   ]
  },
  {
   "cell_type": "code",
   "execution_count": 21,
   "metadata": {
    "collapsed": true
   },
   "outputs": [],
   "source": [
    "was_observed_optical = inMoc(\n",
    "    master_catalogue['ra'], master_catalogue['dec'],\n",
    "    ps1_moc) \n",
    "\n",
    "was_observed_nir = np.zeros(len(master_catalogue), dtype=bool)\n",
    "\n",
    "was_observed_mir = np.zeros(len(master_catalogue), dtype=bool)\n"
   ]
  },
  {
   "cell_type": "code",
   "execution_count": 22,
   "metadata": {
    "collapsed": true
   },
   "outputs": [],
   "source": [
    "master_catalogue.add_column(\n",
    "    Column(\n",
    "        1 * was_observed_optical + 2 * was_observed_nir + 4 * was_observed_mir,\n",
    "        name=\"flag_optnir_obs\")\n",
    ")"
   ]
  },
  {
   "cell_type": "markdown",
   "metadata": {},
   "source": [
    "## VIII.b Wavelength domain detection\n",
    "\n",
    "We add a binary `flag_optnir_det` indicating that a source was detected in a given wavelenght domain:\n",
    "\n",
    "- 1 for detection in optical;\n",
    "- 2 for detection in near-infrared;\n",
    "- 4 for detection in mid-infrared (IRAC).\n",
    "\n",
    "It's an integer binary flag, so a source detected both in optical and near-infrared by not in mid-infrared would have this flag at 1 + 2 = 3.\n",
    "\n",
    "*Note 1: We use the total flux columns to know if the source has flux, in some catalogues, we may have aperture flux and no total flux.*\n",
    "\n",
    "To get rid of artefacts (chip edges, star flares, etc.) we consider that a source is detected in one wavelength domain when it has a flux value in **at least two bands**. That means that good sources will be excluded from this flag when they are on the coverage of only one band."
   ]
  },
  {
   "cell_type": "code",
   "execution_count": 23,
   "metadata": {
    "collapsed": true
   },
   "outputs": [],
   "source": [
    "# SpARCS is a catalogue of sources detected in r (with fluxes measured at \n",
    "# this prior position in the other bands).  Thus, we are only using the r\n",
    "# CFHT band.\n",
    "# Check to use catalogue flags from HSC and PanSTARRS.\n",
    "nb_optical_flux = (\n",
    "    1 * ~np.isnan(master_catalogue['f_gpc1_g']) +\n",
    "    1 * ~np.isnan(master_catalogue['f_gpc1_r']) +\n",
    "    1 * ~np.isnan(master_catalogue['f_gpc1_i']) +\n",
    "    1 * ~np.isnan(master_catalogue['f_gpc1_z']) +\n",
    "    1 * ~np.isnan(master_catalogue['f_gpc1_y']) \n",
    ")\n",
    "\n",
    "nb_nir_flux = np.zeros(len(master_catalogue), dtype=float)\n",
    "\n",
    "nb_mir_flux = np.zeros(len(master_catalogue), dtype=float)"
   ]
  },
  {
   "cell_type": "code",
   "execution_count": 24,
   "metadata": {
    "collapsed": true
   },
   "outputs": [],
   "source": [
    "has_optical_flux = nb_optical_flux >= 2\n",
    "has_nir_flux = nb_nir_flux >= 2\n",
    "has_mir_flux = nb_mir_flux >= 2\n",
    "\n",
    "master_catalogue.add_column(\n",
    "    Column(\n",
    "        1 * has_optical_flux + 2 * has_nir_flux + 4 * has_mir_flux,\n",
    "        name=\"flag_optnir_det\")\n",
    ")"
   ]
  },
  {
   "cell_type": "markdown",
   "metadata": {},
   "source": [
    "## IX - Cross-identification table\n",
    "\n",
    "We are producing a table associating to each HELP identifier, the identifiers of the sources in the pristine catalogue. This can be used to easily get additional information from them.\n",
    "\n",
    "For convenience, we also cross-match the master list with the SDSS catalogue and add the objID associated with each source, if any. **TODO: should we correct the astrometry with respect to Gaia positions?**"
   ]
  },
  {
   "cell_type": "code",
   "execution_count": 25,
   "metadata": {},
   "outputs": [
    {
     "name": "stdout",
     "output_type": "stream",
     "text": [
      "14 master list rows had multiple associations.\n"
     ]
    }
   ],
   "source": [
    "#\n",
    "# Addind SDSS ids\n",
    "#\n",
    "sdss = Table.read(\"../../dmu0/dmu0_SDSS-DR13/data/SDSS-DR13_SPIRE-NEP.fits\")['objID', 'ra', 'dec']\n",
    "sdss_coords = SkyCoord(sdss['ra'] * u.deg, sdss['dec'] * u.deg)\n",
    "idx_ml, d2d, _ = sdss_coords.match_to_catalog_sky(SkyCoord(master_catalogue['ra'], master_catalogue['dec']))\n",
    "idx_sdss = np.arange(len(sdss))\n",
    "\n",
    "# Limit the cross-match to 1 arcsec\n",
    "mask = d2d <= 1. * u.arcsec\n",
    "idx_ml = idx_ml[mask]\n",
    "idx_sdss = idx_sdss[mask]\n",
    "d2d = d2d[mask]\n",
    "nb_orig_matches = len(idx_ml)\n",
    "\n",
    "# In case of multiple associations of one master list object to an SDSS object, we keep only the\n",
    "# association to the nearest one.\n",
    "sort_idx = np.argsort(d2d)\n",
    "idx_ml = idx_ml[sort_idx]\n",
    "idx_sdss = idx_sdss[sort_idx]\n",
    "_, unique_idx = np.unique(idx_ml, return_index=True)\n",
    "idx_ml = idx_ml[unique_idx]\n",
    "idx_sdss = idx_sdss[unique_idx]\n",
    "print(\"{} master list rows had multiple associations.\".format(nb_orig_matches - len(idx_ml)))\n",
    "\n",
    "# Adding the ObjID to the master list\n",
    "master_catalogue.add_column(Column(data=np.full(len(master_catalogue), -1, dtype='>i8'), name=\"sdss_id\"))\n",
    "master_catalogue['sdss_id'][idx_ml] = sdss['objID'][idx_sdss]"
   ]
  },
  {
   "cell_type": "code",
   "execution_count": 26,
   "metadata": {},
   "outputs": [
    {
     "name": "stdout",
     "output_type": "stream",
     "text": [
      "['ps1_id', 'help_id', 'sdss_id']\n"
     ]
    }
   ],
   "source": [
    "id_names = []\n",
    "for col in master_catalogue.colnames:\n",
    "    if '_id' in col:\n",
    "        id_names += [col]\n",
    "    if '_intid' in col:\n",
    "        id_names += [col]\n",
    "        \n",
    "print(id_names)"
   ]
  },
  {
   "cell_type": "code",
   "execution_count": 27,
   "metadata": {
    "collapsed": true
   },
   "outputs": [],
   "source": [
    "master_catalogue[id_names].write(\n",
    "    \"{}/master_list_cross_ident_spire-nep{}.fits\".format(OUT_DIR, SUFFIX), overwrite=True)\n",
    "id_names.remove('help_id')\n",
    "master_catalogue.remove_columns(id_names)"
   ]
  },
  {
   "cell_type": "markdown",
   "metadata": {},
   "source": [
    "## X - Adding HEALPix index\n",
    "\n",
    "We are adding a column with a HEALPix index at order 13 associated with each source."
   ]
  },
  {
   "cell_type": "code",
   "execution_count": 28,
   "metadata": {
    "collapsed": true
   },
   "outputs": [],
   "source": [
    "master_catalogue.add_column(Column(\n",
    "    data=coords_to_hpidx(master_catalogue['ra'], master_catalogue['dec'], order=13),\n",
    "    name=\"hp_idx\"\n",
    "))"
   ]
  },
  {
   "cell_type": "markdown",
   "metadata": {},
   "source": [
    "## XI - Saving the catalogue"
   ]
  },
  {
   "cell_type": "code",
   "execution_count": 32,
   "metadata": {
    "collapsed": true
   },
   "outputs": [],
   "source": [
    "columns = [\"help_id\", \"field\", \"ra\", \"dec\", \"hp_idx\"]\n",
    "\n",
    "bands = [column[5:] for column in master_catalogue.colnames if 'f_ap' in column]\n",
    "for band in bands:\n",
    "    columns += [\"f_ap_{}\".format(band), \"ferr_ap_{}\".format(band),\n",
    "                \"m_ap_{}\".format(band), \"merr_ap_{}\".format(band),\n",
    "                \"f_{}\".format(band), \"ferr_{}\".format(band),\n",
    "                \"m_{}\".format(band), \"merr_{}\".format(band),\n",
    "                \"flag_{}\".format(band)]    \n",
    "    \n",
    "columns += [\"flag_cleaned\", \"flag_gaia\", \n",
    "            \"flag_optnir_obs\", \"flag_optnir_det\", \"ebv\"] #\"stellarity\", \"flag_merged\""
   ]
  },
  {
   "cell_type": "code",
   "execution_count": 33,
   "metadata": {},
   "outputs": [
    {
     "name": "stdout",
     "output_type": "stream",
     "text": [
      "Missing columns: set()\n"
     ]
    }
   ],
   "source": [
    "# We check for columns in the master catalogue that we will not save to disk.\n",
    "print(\"Missing columns: {}\".format(set(master_catalogue.colnames) - set(columns)))"
   ]
  },
  {
   "cell_type": "code",
   "execution_count": 34,
   "metadata": {},
   "outputs": [],
   "source": [
    "master_catalogue[columns].write(\"{}/master_catalogue_spire-nep{}.fits\".format(OUT_DIR, SUFFIX))"
   ]
  }
 ],
 "metadata": {
  "kernelspec": {
   "display_name": "Python (herschelhelp_internal)",
   "language": "python",
   "name": "helpint"
  },
  "language_info": {
   "codemirror_mode": {
    "name": "ipython",
    "version": 3
   },
   "file_extension": ".py",
   "mimetype": "text/x-python",
   "name": "python",
   "nbconvert_exporter": "python",
   "pygments_lexer": "ipython3",
   "version": "3.6.1"
  }
 },
 "nbformat": 4,
 "nbformat_minor": 2
}
