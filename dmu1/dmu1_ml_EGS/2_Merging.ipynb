{
 "cells": [
  {
   "cell_type": "markdown",
   "metadata": {},
   "source": [
    "# EGS master catalogue\n",
    "\n",
    "This notebook presents the merge of the various pristine catalogues to produce HELP mater catalogue on EGS."
   ]
  },
  {
   "cell_type": "code",
   "execution_count": null,
   "metadata": {},
   "outputs": [],
   "source": [
    "from herschelhelp_internal import git_version\n",
    "print(\"This notebook was run with herschelhelp_internal version: \\n{}\".format(git_version()))\n",
    "import datetime\n",
    "print(\"This notebook was executed on: \\n{}\".format(datetime.datetime.now()))"
   ]
  },
  {
   "cell_type": "code",
   "execution_count": null,
   "metadata": {},
   "outputs": [],
   "source": [
    "%matplotlib inline\n",
    "#%config InlineBackend.figure_format = 'svg'\n",
    "\n",
    "import matplotlib.pyplot as plt\n",
    "plt.rc('figure', figsize=(10, 6))\n",
    "\n",
    "import os\n",
    "import time\n",
    "\n",
    "from astropy import units as u\n",
    "from astropy.coordinates import SkyCoord\n",
    "from astropy.table import Column, Table\n",
    "import numpy as np\n",
    "from pymoc import MOC\n",
    "\n",
    "from herschelhelp_internal.masterlist import merge_catalogues, nb_merge_dist_plot, specz_merge\n",
    "from herschelhelp_internal.utils import coords_to_hpidx, ebv, gen_help_id, inMoc"
   ]
  },
  {
   "cell_type": "code",
   "execution_count": null,
   "metadata": {
    "collapsed": true
   },
   "outputs": [],
   "source": [
    "TMP_DIR = os.environ.get('TMP_DIR', \"./data_tmp\")\n",
    "OUT_DIR = os.environ.get('OUT_DIR', \"./data\")\n",
    "SUFFIX = os.environ.get('SUFFIX', time.strftime(\"_%Y%m%d\"))\n",
    "\n",
    "try:\n",
    "    os.makedirs(OUT_DIR)\n",
    "except FileExistsError:\n",
    "    pass"
   ]
  },
  {
   "cell_type": "markdown",
   "metadata": {},
   "source": [
    "## I - Reading the prepared pristine catalogues"
   ]
  },
  {
   "cell_type": "code",
   "execution_count": null,
   "metadata": {
    "collapsed": true
   },
   "outputs": [],
   "source": [
    "aegis = Table.read(\"{}/AEGIS.fits\".format(TMP_DIR))\n",
    "candels = Table.read(\"{}/CANDELS-EGS.fits\".format(TMP_DIR))\n",
    "wirds = Table.read(\"{}/CFHT-WIRDS.fits\".format(TMP_DIR))\n",
    "cfhtls_wide = Table.read(\"{}/CFHTLS-WIDE.fits\".format(TMP_DIR))\n",
    "cfhtls_deep = Table.read(\"{}/CFHTLS-DEEP.fits\".format(TMP_DIR))\n",
    "cfhtlens = Table.read(\"{}/CFHTLENS.fits\".format(TMP_DIR))\n",
    "deep = Table.read(\"{}/DEEP2.fits\".format(TMP_DIR))\n",
    "irac = Table.read(\"{}/IRAC-EGS.fits\".format(TMP_DIR))\n",
    "hsc = Table.read(\"{}/HSC.fits\".format(TMP_DIR))\n",
    "ps1 = Table.read(\"{}/PS1.fits\".format(TMP_DIR))\n",
    "legacy = Table.read(\"{}/LegacySurvey.fits\".format(TMP_DIR))\n",
    "uhs = Table.read(\"{}/UHS.fits\".format(TMP_DIR))"
   ]
  },
  {
   "cell_type": "markdown",
   "metadata": {},
   "source": [
    "## II - Merging tables\n",
    "\n",
    "We first merge the optical catalogues and then add the infrared ones.\n",
    "\n",
    "At every step, we look at the distribution of the distances to the nearest source in the merged catalogue to determine the best crossmatching radius."
   ]
  },
  {
   "cell_type": "markdown",
   "metadata": {},
   "source": [
    "### HSC"
   ]
  },
  {
   "cell_type": "code",
   "execution_count": null,
   "metadata": {
    "collapsed": true
   },
   "outputs": [],
   "source": [
    "master_catalogue = hsc\n",
    "master_catalogue['hsc_ra'].name = 'ra'\n",
    "master_catalogue['hsc_dec'].name = 'dec'"
   ]
  },
  {
   "cell_type": "markdown",
   "metadata": {},
   "source": [
    "### Add PanSTARRS"
   ]
  },
  {
   "cell_type": "code",
   "execution_count": null,
   "metadata": {},
   "outputs": [],
   "source": [
    "nb_merge_dist_plot(\n",
    "    SkyCoord(master_catalogue['ra'], master_catalogue['dec']),\n",
    "    SkyCoord(ps1['ps1_ra'], ps1['ps1_dec'])\n",
    ")"
   ]
  },
  {
   "cell_type": "code",
   "execution_count": null,
   "metadata": {
    "collapsed": true
   },
   "outputs": [],
   "source": [
    "# Given the graph above, we use 0.8 arc-second radius\n",
    "master_catalogue = merge_catalogues(master_catalogue, ps1, \"ps1_ra\", \"ps1_dec\", radius=0.8*u.arcsec)"
   ]
  },
  {
   "cell_type": "markdown",
   "metadata": {},
   "source": [
    "### AEGIS"
   ]
  },
  {
   "cell_type": "code",
   "execution_count": null,
   "metadata": {},
   "outputs": [],
   "source": [
    "nb_merge_dist_plot(\n",
    "    SkyCoord(master_catalogue['ra'], master_catalogue['dec']),\n",
    "    SkyCoord(aegis['aegis_ra'], aegis['aegis_dec'])\n",
    ")"
   ]
  },
  {
   "cell_type": "code",
   "execution_count": null,
   "metadata": {
    "collapsed": true
   },
   "outputs": [],
   "source": [
    "# Given the graph above, we use 0.8 arc-second radius\n",
    "master_catalogue = merge_catalogues(master_catalogue, aegis, \"aegis_ra\", \"aegis_dec\", radius=0.8*u.arcsec)"
   ]
  },
  {
   "cell_type": "markdown",
   "metadata": {},
   "source": [
    "### CANDELS"
   ]
  },
  {
   "cell_type": "code",
   "execution_count": null,
   "metadata": {},
   "outputs": [],
   "source": [
    "nb_merge_dist_plot(\n",
    "    SkyCoord(master_catalogue['ra'], master_catalogue['dec']),\n",
    "    SkyCoord(candels['candels-egs_ra'], candels['candels-egs_dec'])\n",
    ")"
   ]
  },
  {
   "cell_type": "code",
   "execution_count": null,
   "metadata": {
    "collapsed": true
   },
   "outputs": [],
   "source": [
    "# Given the graph above, we use 0.8 arc-second radius\n",
    "master_catalogue = merge_catalogues(master_catalogue, candels, \"candels-egs_ra\", \"candels-egs_dec\", radius=0.8*u.arcsec)"
   ]
  },
  {
   "cell_type": "markdown",
   "metadata": {},
   "source": [
    "### CFHT-WIRDS"
   ]
  },
  {
   "cell_type": "code",
   "execution_count": null,
   "metadata": {},
   "outputs": [],
   "source": [
    "nb_merge_dist_plot(\n",
    "    SkyCoord(master_catalogue['ra'], master_catalogue['dec']),\n",
    "    SkyCoord(wirds['wirds_ra'], wirds['wirds_dec'])\n",
    ")"
   ]
  },
  {
   "cell_type": "code",
   "execution_count": null,
   "metadata": {
    "collapsed": true
   },
   "outputs": [],
   "source": [
    "# Given the graph above, we use 0.8 arc-second radius\n",
    "master_catalogue = merge_catalogues(master_catalogue, wirds, \"wirds_ra\", \"wirds_dec\", radius=0.8*u.arcsec)"
   ]
  },
  {
   "cell_type": "markdown",
   "metadata": {},
   "source": [
    "### CFHTLS-WIDE"
   ]
  },
  {
   "cell_type": "code",
   "execution_count": null,
   "metadata": {},
   "outputs": [],
   "source": [
    "nb_merge_dist_plot(\n",
    "    SkyCoord(master_catalogue['ra'], master_catalogue['dec']),\n",
    "    SkyCoord(cfhtls_wide['cfhtls-wide_ra'], cfhtls_wide['cfhtls-wide_dec'])\n",
    ")"
   ]
  },
  {
   "cell_type": "code",
   "execution_count": null,
   "metadata": {
    "collapsed": true
   },
   "outputs": [],
   "source": [
    "# Given the graph above, we use 0.8 arc-second radius\n",
    "master_catalogue = merge_catalogues(master_catalogue, \n",
    "                                    cfhtls_wide, \n",
    "                                    \"cfhtls-wide_ra\", \n",
    "                                    \"cfhtls-wide_dec\", \n",
    "                                    radius=0.8*u.arcsec)"
   ]
  },
  {
   "cell_type": "markdown",
   "metadata": {},
   "source": [
    "### CFHTLS-DEEP"
   ]
  },
  {
   "cell_type": "code",
   "execution_count": null,
   "metadata": {},
   "outputs": [],
   "source": [
    "nb_merge_dist_plot(\n",
    "    SkyCoord(master_catalogue['ra'], master_catalogue['dec']),\n",
    "    SkyCoord(cfhtls_deep['cfhtls-deep_ra'], cfhtls_deep['cfhtls-deep_dec'])\n",
    ")"
   ]
  },
  {
   "cell_type": "code",
   "execution_count": null,
   "metadata": {},
   "outputs": [],
   "source": [
    "# Given the graph above, we use 0.8 arc-second radius\n",
    "master_catalogue = merge_catalogues(master_catalogue, \n",
    "                                    cfhtls_deep, \n",
    "                                    \"cfhtls-deep_ra\", \n",
    "                                    \"cfhtls-deep_dec\", \n",
    "                                    radius=0.8*u.arcsec)"
   ]
  },
  {
   "cell_type": "markdown",
   "metadata": {},
   "source": [
    "### CFHTLenS"
   ]
  },
  {
   "cell_type": "code",
   "execution_count": null,
   "metadata": {},
   "outputs": [],
   "source": [
    "nb_merge_dist_plot(\n",
    "    SkyCoord(master_catalogue['ra'], master_catalogue['dec']),\n",
    "    SkyCoord(cfhtlens['cfhtlens_ra'], cfhtlens['cfhtlens_dec'])\n",
    ")"
   ]
  },
  {
   "cell_type": "code",
   "execution_count": null,
   "metadata": {},
   "outputs": [],
   "source": [
    "# Given the graph above, we use 0.8 arc-second radius\n",
    "master_catalogue = merge_catalogues(master_catalogue, cfhtlens, \"cfhtlens_ra\", \"cfhtlens_dec\", radius=0.8*u.arcsec)"
   ]
  },
  {
   "cell_type": "markdown",
   "metadata": {},
   "source": [
    "### DEEP2"
   ]
  },
  {
   "cell_type": "code",
   "execution_count": null,
   "metadata": {},
   "outputs": [],
   "source": [
    "nb_merge_dist_plot(\n",
    "    SkyCoord(master_catalogue['ra'], master_catalogue['dec']),\n",
    "    SkyCoord(deep['deep2_ra'], deep['deep2_dec'])\n",
    ")"
   ]
  },
  {
   "cell_type": "code",
   "execution_count": null,
   "metadata": {
    "collapsed": true
   },
   "outputs": [],
   "source": [
    "# Given the graph above, we use 0.8 arc-second radius\n",
    "master_catalogue = merge_catalogues(master_catalogue, deep, \"deep2_ra\", \"deep2_dec\", radius=0.8*u.arcsec)"
   ]
  },
  {
   "cell_type": "markdown",
   "metadata": {},
   "source": [
    "### IRAC-EGS"
   ]
  },
  {
   "cell_type": "code",
   "execution_count": null,
   "metadata": {},
   "outputs": [],
   "source": [
    "nb_merge_dist_plot(\n",
    "    SkyCoord(master_catalogue['ra'], master_catalogue['dec']),\n",
    "    SkyCoord(irac['irac-egs_ra'], irac['irac-egs_dec'])\n",
    ")"
   ]
  },
  {
   "cell_type": "code",
   "execution_count": null,
   "metadata": {
    "collapsed": true
   },
   "outputs": [],
   "source": [
    "# Given the graph above, we use 0.8 arc-second radius\n",
    "master_catalogue = merge_catalogues(master_catalogue, irac, \"irac-egs_ra\", \"irac-egs_dec\", radius=0.8*u.arcsec)"
   ]
  },
  {
   "cell_type": "markdown",
   "metadata": {},
   "source": [
    "### Legacy Survey"
   ]
  },
  {
   "cell_type": "code",
   "execution_count": null,
   "metadata": {},
   "outputs": [],
   "source": [
    "nb_merge_dist_plot(\n",
    "    SkyCoord(master_catalogue['ra'], master_catalogue['dec']),\n",
    "    SkyCoord(legacy['legacy_ra'], legacy['legacy_dec'])\n",
    ")"
   ]
  },
  {
   "cell_type": "code",
   "execution_count": null,
   "metadata": {
    "collapsed": true
   },
   "outputs": [],
   "source": [
    "# Given the graph above, we use 0.8 arc-second radius\n",
    "master_catalogue = merge_catalogues(master_catalogue, legacy, \"legacy_ra\", \"legacy_dec\", radius=0.8*u.arcsec)"
   ]
  },
  {
   "cell_type": "markdown",
   "metadata": {},
   "source": [
    "### UHS"
   ]
  },
  {
   "cell_type": "code",
   "execution_count": null,
   "metadata": {},
   "outputs": [],
   "source": [
    "nb_merge_dist_plot(\n",
    "    SkyCoord(master_catalogue['ra'], master_catalogue['dec']),\n",
    "    SkyCoord(uhs['uhs_ra'], uhs['uhs_dec'])\n",
    ")"
   ]
  },
  {
   "cell_type": "code",
   "execution_count": null,
   "metadata": {
    "collapsed": true
   },
   "outputs": [],
   "source": [
    "# Given the graph above, we use 0.8 arc-second radius\n",
    "master_catalogue = merge_catalogues(master_catalogue, uhs, \"uhs_ra\", \"uhs_dec\", radius=0.8*u.arcsec)"
   ]
  },
  {
   "cell_type": "markdown",
   "metadata": {},
   "source": [
    "### Cleaning\n",
    "\n",
    "When we merge the catalogues, astropy masks the non-existent values (e.g. when a row comes only from a catalogue and has no counterparts in the other, the columns from the latest are masked for that row). We indicate to use NaN for masked values for floats columns, False for flag columns and -1 for ID columns."
   ]
  },
  {
   "cell_type": "code",
   "execution_count": null,
   "metadata": {
    "collapsed": true
   },
   "outputs": [],
   "source": [
    "for col in master_catalogue.colnames:\n",
    "    if \"m_\" in col or \"merr_\" in col or \"f_\" in col or \"ferr_\" in col or \"stellarity\" in col:\n",
    "        master_catalogue[col].fill_value = np.nan\n",
    "    elif \"flag\" in col:\n",
    "        master_catalogue[col].fill_value = 0\n",
    "    elif \"id\" in col:\n",
    "        master_catalogue[col].fill_value = -1\n",
    "        \n",
    "master_catalogue = master_catalogue.filled()"
   ]
  },
  {
   "cell_type": "code",
   "execution_count": null,
   "metadata": {},
   "outputs": [],
   "source": [
    "master_catalogue[:10].show_in_notebook()"
   ]
  },
  {
   "cell_type": "markdown",
   "metadata": {},
   "source": [
    "## III - Merging flags and stellarity\n",
    "\n",
    "Each pristine catalogue contains a flag indicating if the source was associated to a another nearby source that was removed during the cleaning process.  We merge these flags in a single one."
   ]
  },
  {
   "cell_type": "code",
   "execution_count": null,
   "metadata": {
    "collapsed": true
   },
   "outputs": [],
   "source": [
    "flag_cleaned_columns = [column for column in master_catalogue.colnames\n",
    "                        if 'flag_cleaned' in column]\n",
    "\n",
    "flag_column = np.zeros(len(master_catalogue), dtype=bool)\n",
    "for column in flag_cleaned_columns:\n",
    "    flag_column |= master_catalogue[column]\n",
    "    \n",
    "master_catalogue.add_column(Column(data=flag_column, name=\"flag_cleaned\"))\n",
    "master_catalogue.remove_columns(flag_cleaned_columns)"
   ]
  },
  {
   "cell_type": "markdown",
   "metadata": {},
   "source": [
    "Each pristine catalogue contains a flag indicating the probability of a source being a Gaia object (0: not a Gaia object, 1: possibly, 2: probably, 3: definitely).  We merge these flags taking the highest value."
   ]
  },
  {
   "cell_type": "code",
   "execution_count": null,
   "metadata": {
    "collapsed": true
   },
   "outputs": [],
   "source": [
    "flag_gaia_columns = [column for column in master_catalogue.colnames\n",
    "                     if 'flag_gaia' in column]\n",
    "\n",
    "master_catalogue.add_column(Column(\n",
    "    data=np.max([master_catalogue[column] for column in flag_gaia_columns], axis=0),\n",
    "    name=\"flag_gaia\"\n",
    "))\n",
    "master_catalogue.remove_columns(flag_gaia_columns)"
   ]
  },
  {
   "cell_type": "markdown",
   "metadata": {},
   "source": [
    "Each prisitine catalogue may contain one or several stellarity columns indicating the probability (0 to 1) of each source being a star.  We merge these columns taking the highest value.  We keep trace of the origin of the stellarity."
   ]
  },
  {
   "cell_type": "code",
   "execution_count": null,
   "metadata": {},
   "outputs": [],
   "source": [
    "stellarity_columns = [column for column in master_catalogue.colnames\n",
    "                      if 'stellarity' in column]\n",
    "\n",
    "print(\", \".join(stellarity_columns))"
   ]
  },
  {
   "cell_type": "code",
   "execution_count": null,
   "metadata": {
    "collapsed": true
   },
   "outputs": [],
   "source": [
    "# We create an masked array with all the stellarities and get the maximum value, as well as its\n",
    "# origin.  Some sources may not have an associated stellarity.\n",
    "stellarity_array = np.array([master_catalogue[column] for column in stellarity_columns])\n",
    "stellarity_array = np.ma.masked_array(stellarity_array, np.isnan(stellarity_array))\n",
    "\n",
    "max_stellarity = np.max(stellarity_array, axis=0)\n",
    "max_stellarity.fill_value = np.nan\n",
    "\n",
    "no_stellarity_mask = max_stellarity.mask\n",
    "\n",
    "master_catalogue.add_column(Column(data=max_stellarity.filled(), name=\"stellarity\"))\n",
    "\n",
    "stellarity_origin = np.full(len(master_catalogue), \"NO_INFORMATION\", dtype=\"S20\")\n",
    "stellarity_origin[~no_stellarity_mask] = np.array(stellarity_columns)[np.argmax(stellarity_array, axis=0)[~no_stellarity_mask]]\n",
    "\n",
    "master_catalogue.add_column(Column(data=stellarity_origin, name=\"stellarity_origin\"))\n",
    "\n",
    "master_catalogue.remove_columns(stellarity_columns)"
   ]
  },
  {
   "cell_type": "markdown",
   "metadata": {},
   "source": [
    "## IV - Adding E(B-V) column"
   ]
  },
  {
   "cell_type": "code",
   "execution_count": null,
   "metadata": {
    "collapsed": true
   },
   "outputs": [],
   "source": [
    "master_catalogue.add_column(\n",
    "    ebv(master_catalogue['ra'], master_catalogue['dec'])\n",
    ")"
   ]
  },
  {
   "cell_type": "markdown",
   "metadata": {},
   "source": [
    "## V - Adding HELP unique identifiers and field columns"
   ]
  },
  {
   "cell_type": "code",
   "execution_count": null,
   "metadata": {
    "collapsed": true
   },
   "outputs": [],
   "source": [
    "master_catalogue.add_column(Column(gen_help_id(master_catalogue['ra'], master_catalogue['dec']),\n",
    "                                   name=\"help_id\"))\n",
    "master_catalogue.add_column(Column(np.full(len(master_catalogue), \"EGS\", dtype='<U18'),\n",
    "                                   name=\"field\"))"
   ]
  },
  {
   "cell_type": "code",
   "execution_count": null,
   "metadata": {},
   "outputs": [],
   "source": [
    "# Check that the HELP Ids are unique\n",
    "if len(master_catalogue) != len(np.unique(master_catalogue['help_id'])):\n",
    "    print(\"The HELP IDs are not unique!!!\")\n",
    "else:\n",
    "    print(\"OK!\")"
   ]
  },
  {
   "cell_type": "markdown",
   "metadata": {},
   "source": [
    "## VI - Cross-matching with spec-z catalogue"
   ]
  },
  {
   "cell_type": "code",
   "execution_count": null,
   "metadata": {
    "collapsed": true
   },
   "outputs": [],
   "source": [
    "specz =  Table.read(\"../../dmu23/dmu23_EGS/data/EGS-specz-v2.1.csv\")\n",
    "for col in specz.colnames:\n",
    "    specz[col].name = specz[col].name.lower()\n",
    "\n",
    "specz['objid'].name = 'specz_id'\n"
   ]
  },
  {
   "cell_type": "code",
   "execution_count": null,
   "metadata": {},
   "outputs": [],
   "source": [
    "nb_merge_dist_plot(\n",
    "    SkyCoord(master_catalogue['ra'], master_catalogue['dec']),\n",
    "    SkyCoord(specz['ra'] * u.deg, specz['dec'] * u.deg)\n",
    ")"
   ]
  },
  {
   "cell_type": "code",
   "execution_count": null,
   "metadata": {
    "collapsed": true
   },
   "outputs": [],
   "source": [
    "master_catalogue = specz_merge(master_catalogue, specz, radius=1. * u.arcsec)"
   ]
  },
  {
   "cell_type": "markdown",
   "metadata": {},
   "source": [
    "## VII - Choosing between multiple values for the same filter\n",
    "\n",
    "There are many different bands to choose between here."
   ]
  },
  {
   "cell_type": "markdown",
   "metadata": {},
   "source": [
    "### CFHT Megacam\n",
    "\n",
    "CFHT-WIRDS is the only survey that has J, H and Ks so we take them directly. After that we need to select ugriz bands from between CFHTLS, CFHT-WIRDS and CFHTLenS. We take these in order of depth.\n",
    "\n",
    "|  Survey     | Bands         | Notes|\n",
    "|:------------|:--------------|:-----|\n",
    "| CFHTLS-DEEP | u, g, r, i, z |      |\n",
    "| CFHTLS-WIDE | u, g, r, i, z |      |\n",
    "| CFHT-WIRDS  | u, g, r, i, z | Ks selected so may have unique objects       |\n",
    "| CFHTLenS    | u, g, r, i, z | Reprocessing of CFHTLS-WIDE so not used      |\n",
    "| CANDELS-EGS | u, g, r, i, z | Priors from very deep data so may have unique objects     |\n",
    "| IRAC-EGS | u, g, r, i, z | Priors from IRAC so may have unique objects     |"
   ]
  },
  {
   "cell_type": "code",
   "execution_count": null,
   "metadata": {
    "collapsed": true
   },
   "outputs": [],
   "source": [
    "megacam_origin = Table()\n",
    "megacam_origin.add_column(master_catalogue['help_id'])"
   ]
  },
  {
   "cell_type": "code",
   "execution_count": null,
   "metadata": {
    "collapsed": true
   },
   "outputs": [],
   "source": [
    "megacam_stats = Table()\n",
    "megacam_stats.add_column(Column(data=['u','g','r','i','z'], name=\"Band\"))\n",
    "for col in [\"CFHTLS-DEEP\", \"CFHTLS-WIDE\", \"CFHT-WIRDS\", \"CFHTLenS\", \"CANDELS\", \"IRAC-EGS\"]:\n",
    "    megacam_stats.add_column(Column(data=np.full(6, 0), name=\"{}\".format(col)))\n",
    "    megacam_stats.add_column(Column(data=np.full(6, 0), name=\"use {}\".format(col)))\n",
    "    megacam_stats.add_column(Column(data=np.full(6, 0), name=\"{} ap\".format(col)))\n",
    "    megacam_stats.add_column(Column(data=np.full(6, 0), name=\"use {} ap\".format(col)))"
   ]
  },
  {
   "cell_type": "code",
   "execution_count": null,
   "metadata": {
    "collapsed": true
   },
   "outputs": [],
   "source": [
    "megacam_bands = ['u','g','r','i','z'] \n",
    "for band in megacam_bands:\n",
    "\n",
    "    # Megacam total flux \n",
    "    has_cfhtls_deep = ~np.isnan(master_catalogue['f_cfhtls-deep_' + band])\n",
    "    has_cfhtls_wide = ~np.isnan(master_catalogue['f_cfhtls-wide_' + band])\n",
    "    has_wirds = ~np.isnan(master_catalogue['f_wirds_' + band])\n",
    "    has_cfhtlens = ~np.isnan(master_catalogue['f_cfhtlens_' + band])\n",
    "    has_candels = ~np.isnan(master_catalogue['f_candels-megacam_' + band])\n",
    "    has_irac = ~np.isnan(master_catalogue['f_irac-megacam_' + band])\n",
    "    \n",
    "\n",
    "    use_cfhtls_deep = has_cfhtls_deep \n",
    "    use_cfhtls_wide = has_cfhtls_wide & ~has_cfhtls_deep \n",
    "    use_wirds =       has_wirds       & ~has_cfhtls_deep & ~has_cfhtls_wide  \n",
    "    use_cfhtlens =    np.zeros(len(master_catalogue), dtype=bool) #We still merge CFHTLenS to keep ids in cross id\n",
    "    use_candels =     has_candels     & ~has_cfhtls_deep & ~has_cfhtls_wide & ~has_wirds & ~has_cfhtlens \n",
    "    use_irac = has_irac &~has_candels     & ~has_cfhtls_deep & ~has_cfhtls_wide & ~has_wirds & ~has_cfhtlens \n",
    "\n",
    "    f_megacam = np.full(len(master_catalogue), np.nan)\n",
    "    f_megacam[use_cfhtls_deep] = master_catalogue['f_cfhtls-deep_' + band][use_cfhtls_deep]\n",
    "    f_megacam[use_cfhtls_wide] = master_catalogue['f_cfhtls-wide_' + band][use_cfhtls_wide]\n",
    "    f_megacam[use_wirds] = master_catalogue['f_wirds_' + band][use_wirds]\n",
    "    f_megacam[use_cfhtlens] = master_catalogue['f_cfhtlens_' + band][use_cfhtlens]\n",
    "    f_megacam[use_candels] = master_catalogue['f_candels-megacam_' + band][use_candels]\n",
    "    f_megacam[use_irac] = master_catalogue['f_irac-megacam_' + band][use_irac]\n",
    "\n",
    "    ferr_megacam = np.full(len(master_catalogue), np.nan)\n",
    "    ferr_megacam[use_cfhtls_deep] = master_catalogue['ferr_cfhtls-deep_' + band][use_cfhtls_deep]\n",
    "    ferr_megacam[use_cfhtls_wide] = master_catalogue['ferr_cfhtls-wide_' + band][use_cfhtls_wide]\n",
    "    ferr_megacam[use_wirds] = master_catalogue['ferr_wirds_' + band][use_wirds]\n",
    "    ferr_megacam[use_cfhtlens] = master_catalogue['ferr_cfhtlens_' + band][use_cfhtlens]\n",
    "    ferr_megacam[use_candels] = master_catalogue['ferr_candels-megacam_' + band][use_candels]\n",
    "    ferr_megacam[use_irac] = master_catalogue['ferr_irac-megacam_' + band][use_irac]\n",
    "    \n",
    "    m_megacam = np.full(len(master_catalogue), np.nan)\n",
    "    m_megacam[use_cfhtls_deep] = master_catalogue['m_cfhtls-deep_' + band][use_cfhtls_deep]\n",
    "    m_megacam[use_cfhtls_wide] = master_catalogue['m_cfhtls-wide_' + band][use_cfhtls_wide]\n",
    "    m_megacam[use_wirds] = master_catalogue['m_wirds_' + band][use_wirds]\n",
    "    m_megacam[use_cfhtlens] = master_catalogue['m_cfhtlens_' + band][use_cfhtlens]\n",
    "    m_megacam[use_candels] = master_catalogue['m_candels-megacam_' + band][use_candels]\n",
    "    m_megacam[use_irac] = master_catalogue['m_irac-megacam_' + band][use_irac]\n",
    "\n",
    "    merr_megacam = np.full(len(master_catalogue), np.nan)\n",
    "    merr_megacam[use_cfhtls_deep] = master_catalogue['merr_cfhtls-deep_' + band][use_cfhtls_deep]\n",
    "    merr_megacam[use_cfhtls_wide] = master_catalogue['merr_cfhtls-wide_' + band][use_cfhtls_wide]\n",
    "    merr_megacam[use_wirds] = master_catalogue['merr_wirds_' + band][use_wirds]\n",
    "    merr_megacam[use_cfhtlens] = master_catalogue['merr_cfhtlens_' + band][use_cfhtlens]\n",
    "    merr_megacam[use_candels] = master_catalogue['merr_candels-megacam_' + band][use_candels]\n",
    "    merr_megacam[use_irac] = master_catalogue['merr_irac-megacam_' + band][use_irac]\n",
    "\n",
    "    flag_megacam = np.full(len(master_catalogue), False, dtype=bool)\n",
    "    flag_megacam[use_cfhtls_deep] = master_catalogue['flag_cfhtls-deep_' + band][use_cfhtls_deep]\n",
    "    flag_megacam[use_cfhtls_wide] = master_catalogue['flag_cfhtls-wide_' + band][use_cfhtls_wide]\n",
    "    flag_megacam[use_wirds] = master_catalogue['flag_wirds_' + band][use_wirds]\n",
    "    flag_megacam[use_cfhtlens] = master_catalogue['flag_cfhtlens_' + band][use_cfhtlens]\n",
    "    flag_megacam[use_candels] = master_catalogue['flag_candels-megacam_' + band][use_candels]\n",
    "    flag_megacam[use_irac] = master_catalogue['flag_irac-megacam_' + band][use_irac]\n",
    "\n",
    "    master_catalogue.add_column(Column(data=f_megacam, name=\"f_megacam_\" + band))\n",
    "    master_catalogue.add_column(Column(data=ferr_megacam, name=\"ferr_megacam_\" + band))\n",
    "    master_catalogue.add_column(Column(data=m_megacam, name=\"m_megacam_\" + band))\n",
    "    master_catalogue.add_column(Column(data=merr_megacam, name=\"merr_megacam_\" + band))\n",
    "    master_catalogue.add_column(Column(data=flag_megacam, name=\"flag_megacam_\" + band))\n",
    "\n",
    "    old_columns = ['f_cfhtls-deep_' + band,\n",
    "                    'ferr_cfhtls-deep_' + band,\n",
    "                    'm_cfhtls-deep_' + band, \n",
    "                    'merr_cfhtls-deep_' + band,\n",
    "                    'flag_cfhtls-deep_' + band,\n",
    "                   'f_cfhtls-wide_' + band,\n",
    "                    'ferr_cfhtls-wide_' + band,\n",
    "                    'm_cfhtls-wide_' + band, \n",
    "                    'merr_cfhtls-wide_' + band,\n",
    "                    'flag_cfhtls-wide_' + band,\n",
    "                  'f_wirds_' + band,\n",
    "                    'ferr_wirds_' + band,\n",
    "                    'm_wirds_' + band, \n",
    "                    'merr_wirds_' + band,\n",
    "                    'flag_wirds_' + band,\n",
    "                  'f_cfhtlens_' + band,\n",
    "                    'ferr_cfhtlens_' + band,\n",
    "                    'm_cfhtlens_' + band, \n",
    "                    'merr_cfhtlens_' + band,\n",
    "                    'flag_cfhtlens_' + band,\n",
    "                  'f_candels-megacam_' + band,\n",
    "                    'ferr_candels-megacam_' + band,\n",
    "                    'm_candels-megacam_' + band, \n",
    "                    'merr_candels-megacam_' + band,\n",
    "                    'flag_candels-megacam_' + band,\n",
    "                  'f_irac-megacam_' + band,\n",
    "                    'ferr_irac-megacam_' + band,\n",
    "                    'm_irac-megacam_' + band, \n",
    "                    'merr_irac-megacam_' + band,\n",
    "                    'flag_irac-megacam_' + band,]\n",
    "\n",
    "    \n",
    "    master_catalogue.remove_columns(old_columns)\n",
    "\n",
    "    origin = np.full(len(master_catalogue), '     ', dtype='<U5')\n",
    "    origin[use_cfhtls_deep] = \"CFHTLS-DEEP\"\n",
    "    origin[use_cfhtls_wide] = \"CFHTLS-WIDE\"\n",
    "    origin[use_wirds] = \"CFHT-WIRDS\"\n",
    "    origin[use_cfhtlens] = \"CFHTLenS\"\n",
    "    origin[use_candels] = \"CANDELS\"\n",
    "    origin[use_irac] = \"IRAC-EGS\"\n",
    "    \n",
    "    megacam_origin.add_column(Column(data=origin, name= 'f_megacam_' + band ))\n",
    "    \n",
    "    # Megacam aperture flux \n",
    "    has_ap_cfhtls_deep = ~np.isnan(master_catalogue['f_ap_cfhtls-deep_' + band])\n",
    "    has_ap_cfhtls_wide = ~np.isnan(master_catalogue['f_ap_cfhtls-wide_' + band])\n",
    "    has_ap_wirds = ~np.isnan(master_catalogue['f_ap_wirds_' + band])\n",
    "    has_ap_cfhtlens = ~np.isnan(master_catalogue['f_ap_cfhtlens_' + band])\n",
    "    has_ap_candels = ~np.isnan(master_catalogue['f_ap_candels-megacam_' + band])\n",
    "    \n",
    "    use_ap_cfhtls_deep = has_ap_cfhtls_deep\n",
    "    use_ap_cfhtls_wide = has_ap_cfhtls_wide & ~has_ap_cfhtls_deep\n",
    "    use_ap_wirds       = has_ap_wirds       & ~has_ap_cfhtls_deep & ~has_ap_cfhtls_wide\n",
    "    use_ap_cfhtlens    = has_ap_cfhtlens    & ~has_ap_cfhtls_deep & ~has_ap_cfhtls_wide & ~has_ap_wirds   \n",
    "    use_ap_candels     = has_ap_candels     & ~has_ap_cfhtls_deep & ~has_ap_cfhtls_wide & ~has_ap_wirds & ~has_ap_cfhtlens   \n",
    "\n",
    "    f_ap_megacam = np.full(len(master_catalogue), np.nan)\n",
    "    f_ap_megacam[use_ap_cfhtls_deep] = master_catalogue['f_ap_cfhtls-deep_' + band][use_ap_cfhtls_deep]\n",
    "    f_ap_megacam[use_ap_cfhtls_wide] = master_catalogue['f_ap_cfhtls-wide_' + band][use_ap_cfhtls_wide]\n",
    "    f_ap_megacam[use_ap_wirds] = master_catalogue['f_ap_wirds_' + band][use_ap_wirds]\n",
    "    f_ap_megacam[use_ap_cfhtlens] = master_catalogue['f_ap_cfhtlens_' + band][use_ap_cfhtlens]\n",
    "    f_ap_megacam[use_ap_candels] = master_catalogue['f_ap_candels-megacam_' + band][use_ap_candels]\n",
    "\n",
    "    ferr_ap_megacam = np.full(len(master_catalogue), np.nan)\n",
    "    ferr_ap_megacam[use_ap_cfhtls_deep] = master_catalogue['ferr_ap_cfhtls-deep_' + band][use_ap_cfhtls_deep]\n",
    "    ferr_ap_megacam[use_ap_cfhtls_wide] = master_catalogue['ferr_ap_cfhtls-wide_' + band][use_ap_cfhtls_wide]\n",
    "    ferr_ap_megacam[use_ap_wirds] = master_catalogue['ferr_ap_wirds_' + band][use_ap_wirds]\n",
    "    ferr_ap_megacam[use_ap_cfhtlens] = master_catalogue['ferr_ap_cfhtlens_' + band][use_ap_cfhtlens]\n",
    "    ferr_ap_megacam[use_ap_candels] = master_catalogue['ferr_ap_candels-megacam_' + band][use_ap_candels]\n",
    "    \n",
    "    m_ap_megacam = np.full(len(master_catalogue), np.nan)\n",
    "    m_ap_megacam[use_ap_cfhtls_deep] = master_catalogue['m_ap_cfhtls-deep_' + band][use_ap_cfhtls_deep]\n",
    "    m_ap_megacam[use_ap_cfhtls_wide] = master_catalogue['m_ap_cfhtls-wide_' + band][use_ap_cfhtls_wide]\n",
    "    m_ap_megacam[use_ap_wirds] = master_catalogue['m_ap_wirds_' + band][use_ap_wirds]\n",
    "    m_ap_megacam[use_ap_cfhtlens] = master_catalogue['m_ap_cfhtlens_' + band][use_ap_cfhtlens]\n",
    "    m_ap_megacam[use_ap_candels] = master_catalogue['m_ap_candels-megacam_' + band][use_ap_candels]\n",
    "\n",
    "    merr_ap_megacam = np.full(len(master_catalogue), np.nan)\n",
    "    merr_ap_megacam[use_ap_cfhtls_deep] = master_catalogue['merr_ap_cfhtls-deep_' + band][use_ap_cfhtls_deep]\n",
    "    merr_ap_megacam[use_ap_cfhtls_wide] = master_catalogue['merr_ap_cfhtls-wide_' + band][use_ap_cfhtls_wide]\n",
    "    merr_ap_megacam[use_ap_wirds] = master_catalogue['merr_ap_wirds_' + band][use_ap_wirds]\n",
    "    merr_ap_megacam[use_ap_cfhtlens] = master_catalogue['merr_ap_cfhtlens_' + band][use_ap_cfhtlens]\n",
    "    merr_ap_megacam[use_ap_candels] = master_catalogue['merr_ap_candels-megacam_' + band][use_ap_candels]\n",
    "\n",
    "    master_catalogue.add_column(Column(data=f_ap_megacam, name=\"f_ap_megacam_\" + band))\n",
    "    master_catalogue.add_column(Column(data=ferr_ap_megacam, name=\"ferr_ap_megacam_\" + band))\n",
    "    master_catalogue.add_column(Column(data=m_ap_megacam, name=\"m_ap_megacam_\" + band))\n",
    "    master_catalogue.add_column(Column(data=merr_ap_megacam, name=\"merr_ap_megacam_\" + band))\n",
    "\n",
    "\n",
    "    old_ap_columns = ['f_ap_cfhtls-deep_' + band,\n",
    "                    'ferr_ap_cfhtls-deep_' + band,\n",
    "                    'm_ap_cfhtls-deep_' + band, \n",
    "                    'merr_ap_cfhtls-deep_' + band,\n",
    "                  'f_ap_cfhtls-wide_' + band,\n",
    "                    'ferr_ap_cfhtls-wide_' + band,\n",
    "                    'm_ap_cfhtls-wide_' + band, \n",
    "                    'merr_ap_cfhtls-wide_' + band,\n",
    "                  'f_ap_wirds_' + band,\n",
    "                    'ferr_ap_wirds_' + band,\n",
    "                    'm_ap_wirds_' + band, \n",
    "                    'merr_ap_wirds_' + band,\n",
    "                  'f_ap_cfhtlens_' + band,\n",
    "                    'ferr_ap_cfhtlens_' + band,\n",
    "                    'm_ap_cfhtlens_' + band, \n",
    "                    'merr_ap_cfhtlens_' + band,\n",
    "                  'f_ap_candels-megacam_' + band,\n",
    "                    'ferr_ap_candels-megacam_' + band,\n",
    "                    'm_ap_candels-megacam_' + band, \n",
    "                    'merr_ap_candels-megacam_' + band]\n",
    "\n",
    "    \n",
    "    master_catalogue.remove_columns(old_ap_columns)\n",
    "\n",
    "    origin_ap = np.full(len(master_catalogue), '     ', dtype='<U5')\n",
    "    origin_ap[use_ap_cfhtls_deep] = \"CFHTLS-DEEP\"\n",
    "    origin_ap[use_ap_cfhtls_wide] = \"CFHTLS-WIDE\"\n",
    "    origin_ap[use_ap_wirds] = \"CFHT-WIRDS\"\n",
    "    origin_ap[use_ap_cfhtlens] = \"CFHTLenS\"\n",
    "    origin_ap[use_ap_candels] = \"CANDELS\"\n",
    "    \n",
    "    megacam_origin.add_column(Column(data=origin_ap, name= 'f_ap_megacam_' + band ))\n",
    "    \n",
    "\n",
    "   \n",
    "    megacam_stats['CFHTLS-DEEP'][megacam_stats['Band'] == band] = np.sum(has_cfhtls_deep)\n",
    "    megacam_stats['CFHTLS-WIDE'][megacam_stats['Band'] == band] = np.sum(has_cfhtls_wide)\n",
    "    megacam_stats['CFHT-WIRDS'][megacam_stats['Band'] == band] = np.sum(has_wirds)\n",
    "    megacam_stats['CFHTLenS'][megacam_stats['Band'] == band] = np.sum(has_cfhtlens)\n",
    "    megacam_stats['CANDELS'][megacam_stats['Band'] == band] = np.sum(has_candels)\n",
    "    megacam_stats['use CFHTLS-DEEP'][megacam_stats['Band'] == band] = np.sum(use_cfhtls_deep)\n",
    "    megacam_stats['use CFHTLS-WIDE'][megacam_stats['Band'] == band] = np.sum(use_cfhtls_wide)\n",
    "    megacam_stats['use CFHT-WIRDS'][megacam_stats['Band'] == band] = np.sum(use_wirds)\n",
    "    megacam_stats['use CFHTLenS'][megacam_stats['Band'] == band] = np.sum(use_cfhtlens)\n",
    "    megacam_stats['use CANDELS'][megacam_stats['Band'] == band] = np.sum(use_candels)    \n",
    "    megacam_stats['CFHTLS-DEEP ap'][megacam_stats['Band'] == band] = np.sum(has_ap_cfhtls_deep)\n",
    "    megacam_stats['CFHTLS-WIDE ap'][megacam_stats['Band'] == band] = np.sum(has_ap_cfhtls_wide)\n",
    "    megacam_stats['CFHT-WIRDS ap'][megacam_stats['Band'] == band] = np.sum(has_ap_wirds)\n",
    "    megacam_stats['CFHTLenS ap'][megacam_stats['Band'] == band] = np.sum(has_ap_cfhtlens)\n",
    "    megacam_stats['CANDELS ap'][megacam_stats['Band'] == band] = np.sum(has_ap_candels)\n",
    "    megacam_stats['use CFHTLS-DEEP ap'][megacam_stats['Band'] == band] = np.sum(use_ap_cfhtls_deep)\n",
    "    megacam_stats['use CFHTLS-WIDE ap'][megacam_stats['Band'] == band] = np.sum(use_ap_cfhtls_wide)\n",
    "    megacam_stats['use CFHT-WIRDS ap'][megacam_stats['Band'] == band] = np.sum(use_ap_wirds)\n",
    "    megacam_stats['use CFHTLenS ap'][megacam_stats['Band'] == band] = np.sum(use_ap_cfhtlens)\n",
    "    megacam_stats['use CANDELS ap'][megacam_stats['Band'] == band] = np.sum(use_ap_candels)"
   ]
  },
  {
   "cell_type": "code",
   "execution_count": null,
   "metadata": {},
   "outputs": [],
   "source": [
    "megacam_stats.show_in_notebook()"
   ]
  },
  {
   "cell_type": "code",
   "execution_count": null,
   "metadata": {
    "collapsed": true
   },
   "outputs": [],
   "source": [
    "megacam_origin.write(\"{}/egs_megacam_fluxes_origins{}.fits\".format(OUT_DIR, SUFFIX), overwrite=True)"
   ]
  },
  {
   "cell_type": "markdown",
   "metadata": {},
   "source": [
    "## CFHT WIRCAM"
   ]
  },
  {
   "cell_type": "markdown",
   "metadata": {},
   "source": [
    "We have WIRCAM J,H, and Ks from both CFHT-WIRDS (Ks prior and blind) and CANDELS-EGS. Since the CANDELS will have very deep priors the WIRCAM fluxes are worth keepting to constrain photo-z. We therefor take the CFHT-WIRDS fluxes if they are there but keep all the CANDELS fluxes for sources that only have those."
   ]
  },
  {
   "cell_type": "code",
   "execution_count": null,
   "metadata": {
    "collapsed": true
   },
   "outputs": [],
   "source": [
    "wircam_origin = Table()\n",
    "wircam_origin.add_column(master_catalogue['help_id'])"
   ]
  },
  {
   "cell_type": "code",
   "execution_count": null,
   "metadata": {
    "collapsed": true
   },
   "outputs": [],
   "source": [
    "wircam_stats = Table()\n",
    "wircam_stats.add_column(Column(data=['j', 'h', 'k'], name=\"Band\"))\n",
    "for col in [\"CFHT-WIRDS\", \"CANDELS\"]:\n",
    "    wircam_stats.add_column(Column(data=np.full(3, 0), name=\"{}\".format(col)))\n",
    "    wircam_stats.add_column(Column(data=np.full(3, 0), name=\"use {}\".format(col)))\n",
    "    wircam_stats.add_column(Column(data=np.full(3, 0), name=\"{} ap\".format(col)))\n",
    "    wircam_stats.add_column(Column(data=np.full(3, 0), name=\"use {} ap\".format(col)))"
   ]
  },
  {
   "cell_type": "code",
   "execution_count": null,
   "metadata": {
    "collapsed": true
   },
   "outputs": [],
   "source": [
    "wircam_bands = ['j', 'h', 'k'] \n",
    "for band in wircam_bands:\n",
    "\n",
    "    # wircam total flux \n",
    "    has_wirds = ~np.isnan(master_catalogue['f_wirds_' + band])\n",
    "    has_candels = ~np.isnan(master_catalogue['f_candels-wircam_' + band])\n",
    "    \n",
    "    use_wirds =       has_wirds        \n",
    "    use_candels =     has_candels & ~has_wirds \n",
    "\n",
    "    f_wircam = np.full(len(master_catalogue), np.nan)\n",
    "    f_wircam[use_wirds] = master_catalogue['f_wirds_' + band][use_wirds]\n",
    "    f_wircam[use_candels] = master_catalogue['f_candels-wircam_' + band][use_candels]\n",
    "\n",
    "    ferr_wircam = np.full(len(master_catalogue), np.nan)\n",
    "    ferr_wircam[use_wirds] = master_catalogue['ferr_wirds_' + band][use_wirds]\n",
    "    ferr_wircam[use_candels] = master_catalogue['ferr_candels-wircam_' + band][use_candels]\n",
    "    \n",
    "    m_wircam = np.full(len(master_catalogue), np.nan)\n",
    "    m_wircam[use_wirds] = master_catalogue['m_wirds_' + band][use_wirds]\n",
    "    m_wircam[use_candels] = master_catalogue['m_candels-wircam_' + band][use_candels]\n",
    "\n",
    "    merr_wircam = np.full(len(master_catalogue), np.nan)\n",
    "    merr_wircam[use_wirds] = master_catalogue['merr_wirds_' + band][use_wirds]\n",
    "    merr_wircam[use_candels] = master_catalogue['merr_candels-wircam_' + band][use_candels]\n",
    "\n",
    "    flag_wircam = np.full(len(master_catalogue), False, dtype=bool)\n",
    "    flag_wircam[use_wirds] = master_catalogue['flag_wirds_' + band][use_wirds]\n",
    "    flag_wircam[use_candels] = master_catalogue['flag_candels-wircam_' + band][use_candels]\n",
    "\n",
    "    master_catalogue.add_column(Column(data=f_wircam, name=\"f_wircam_\" + band))\n",
    "    master_catalogue.add_column(Column(data=ferr_wircam, name=\"ferr_wircam_\" + band))\n",
    "    master_catalogue.add_column(Column(data=m_wircam, name=\"m_wircam_\" + band))\n",
    "    master_catalogue.add_column(Column(data=merr_wircam, name=\"merr_wircam_\" + band))\n",
    "    master_catalogue.add_column(Column(data=flag_wircam, name=\"flag_wircam_\" + band))\n",
    "\n",
    "    old_columns = ['f_wirds_' + band,\n",
    "                    'ferr_wirds_' + band,\n",
    "                    'm_wirds_' + band, \n",
    "                    'merr_wirds_' + band,\n",
    "                    'flag_wirds_' + band,\n",
    "                  'f_candels-wircam_' + band,\n",
    "                    'ferr_candels-wircam_' + band,\n",
    "                    'm_candels-wircam_' + band, \n",
    "                    'merr_candels-wircam_' + band,\n",
    "                    'flag_candels-wircam_' + band,]\n",
    "\n",
    "    \n",
    "    master_catalogue.remove_columns(old_columns)\n",
    "\n",
    "    origin = np.full(len(master_catalogue), '     ', dtype='<U5')\n",
    "    origin[use_wirds] = \"CFHT-WIRDS\"\n",
    "    origin[use_candels] = \"CANDELS\"\n",
    "    \n",
    "    wircam_origin.add_column(Column(data=origin, name= 'f_wircam_' + band ))\n",
    "    \n",
    "    # wircam aperture flux \n",
    "    has_ap_wirds = ~np.isnan(master_catalogue['f_ap_wirds_' + band])\n",
    "    has_ap_candels = ~np.isnan(master_catalogue['f_ap_candels-wircam_' + band])\n",
    "    \n",
    "    use_ap_wirds       = has_ap_wirds      \n",
    "    use_ap_candels     = has_ap_candels     & ~has_ap_wirds  \n",
    "\n",
    "    f_ap_wircam = np.full(len(master_catalogue), np.nan)\n",
    "    f_ap_wircam[use_ap_wirds] = master_catalogue['f_ap_wirds_' + band][use_ap_wirds]\n",
    "    f_ap_wircam[use_ap_candels] = master_catalogue['f_ap_candels-wircam_' + band][use_ap_candels]\n",
    "\n",
    "    ferr_ap_wircam = np.full(len(master_catalogue), np.nan)\n",
    "    ferr_ap_wircam[use_ap_wirds] = master_catalogue['ferr_ap_wirds_' + band][use_ap_wirds]\n",
    "    ferr_ap_wircam[use_ap_candels] = master_catalogue['ferr_ap_candels-wircam_' + band][use_ap_candels]\n",
    "    \n",
    "    m_ap_wircam = np.full(len(master_catalogue), np.nan)\n",
    "    m_ap_wircam[use_ap_wirds] = master_catalogue['m_ap_wirds_' + band][use_ap_wirds]\n",
    "    m_ap_wircam[use_ap_candels] = master_catalogue['m_ap_candels-wircam_' + band][use_ap_candels]\n",
    "\n",
    "    merr_ap_wircam = np.full(len(master_catalogue), np.nan)\n",
    "    merr_ap_wircam[use_ap_wirds] = master_catalogue['merr_ap_wirds_' + band][use_ap_wirds]\n",
    "    merr_ap_wircam[use_ap_candels] = master_catalogue['merr_ap_candels-wircam_' + band][use_ap_candels]\n",
    "\n",
    "    master_catalogue.add_column(Column(data=f_ap_wircam, name=\"f_ap_wircam_\" + band))\n",
    "    master_catalogue.add_column(Column(data=ferr_ap_wircam, name=\"ferr_ap_wircam_\" + band))\n",
    "    master_catalogue.add_column(Column(data=m_ap_wircam, name=\"m_ap_wircam_\" + band))\n",
    "    master_catalogue.add_column(Column(data=merr_ap_wircam, name=\"merr_ap_wircam_\" + band))\n",
    "\n",
    "\n",
    "    old_ap_columns = ['f_ap_wirds_' + band,\n",
    "                    'ferr_ap_wirds_' + band,\n",
    "                    'm_ap_wirds_' + band, \n",
    "                    'merr_ap_wirds_' + band,\n",
    "                  'f_ap_candels-wircam_' + band,\n",
    "                    'ferr_ap_candels-wircam_' + band,\n",
    "                    'm_ap_candels-wircam_' + band, \n",
    "                    'merr_ap_candels-wircam_' + band]\n",
    "\n",
    "    \n",
    "    master_catalogue.remove_columns(old_ap_columns)\n",
    "\n",
    "    origin_ap = np.full(len(master_catalogue), '     ', dtype='<U5')\n",
    "    origin_ap[use_ap_wirds] = \"CFHT-WIRDS\"\n",
    "    origin_ap[use_ap_candels] = \"CANDELS\"\n",
    "    \n",
    "    wircam_origin.add_column(Column(data=origin_ap, name= 'f_ap_wircam_' + band ))\n",
    "    \n",
    "\n",
    "   \n",
    "\n",
    "    wircam_stats['CFHT-WIRDS'][wircam_stats['Band'] == band] = np.sum(has_wirds)\n",
    "    wircam_stats['CANDELS'][wircam_stats['Band'] == band] = np.sum(has_candels)\n",
    "    wircam_stats['use CFHT-WIRDS'][wircam_stats['Band'] == band] = np.sum(use_wirds)\n",
    "    wircam_stats['use CANDELS'][wircam_stats['Band'] == band] = np.sum(use_candels)    \n",
    "    wircam_stats['CFHT-WIRDS ap'][wircam_stats['Band'] == band] = np.sum(has_ap_wirds)\n",
    "    wircam_stats['CANDELS ap'][wircam_stats['Band'] == band] = np.sum(has_ap_candels)\n",
    "    wircam_stats['use CFHT-WIRDS ap'][wircam_stats['Band'] == band] = np.sum(use_ap_wirds)\n",
    "    wircam_stats['use CANDELS ap'][wircam_stats['Band'] == band] = np.sum(use_ap_candels)"
   ]
  },
  {
   "cell_type": "code",
   "execution_count": null,
   "metadata": {},
   "outputs": [],
   "source": [
    "wircam_stats.show_in_notebook()"
   ]
  },
  {
   "cell_type": "code",
   "execution_count": null,
   "metadata": {
    "collapsed": true
   },
   "outputs": [],
   "source": [
    "wircam_origin.write(\"{}/egs_wircam_fluxes_origins{}.fits\".format(OUT_DIR, SUFFIX), overwrite=True)"
   ]
  },
  {
   "cell_type": "markdown",
   "metadata": {},
   "source": [
    "### IRAC\n",
    "\n",
    "We have IRAC from the IRAC-EGS catalogue and from CANDELS. We take the CANDELS fluxes preferentially."
   ]
  },
  {
   "cell_type": "code",
   "execution_count": null,
   "metadata": {
    "collapsed": true
   },
   "outputs": [],
   "source": [
    "irac_origin = Table()\n",
    "irac_origin.add_column(master_catalogue['help_id'])"
   ]
  },
  {
   "cell_type": "code",
   "execution_count": null,
   "metadata": {
    "collapsed": true
   },
   "outputs": [],
   "source": [
    "irac_stats = Table()\n",
    "irac_stats.add_column(Column(data=['i1', 'i2', 'i3', 'i4'], name=\"Band\"))\n",
    "for col in [\"CANDELS\", \"IRAC-EGS\"]:\n",
    "    irac_stats.add_column(Column(data=np.full(4, 0), name=\"{}\".format(col)))\n",
    "    irac_stats.add_column(Column(data=np.full(4, 0), name=\"use {}\".format(col)))\n",
    "    irac_stats.add_column(Column(data=np.full(4, 0), name=\"{} ap\".format(col)))\n",
    "    irac_stats.add_column(Column(data=np.full(4, 0), name=\"use {} ap\".format(col)))"
   ]
  },
  {
   "cell_type": "code",
   "execution_count": null,
   "metadata": {},
   "outputs": [],
   "source": [
    "irac_bands = ['i1', 'i2', 'i3', 'i4'] \n",
    "for band in irac_bands:\n",
    "\n",
    "    # IRAC total flux \n",
    "    has_candels = ~np.isnan(master_catalogue['f_candels-irac_' + band])\n",
    "    has_irac = ~np.isnan(master_catalogue['f_irac-egs_' + band])\n",
    "    \n",
    "    \n",
    "    use_candels =       has_candels       \n",
    "    use_irac =     has_irac & ~has_candels\n",
    "\n",
    "    f_irac = np.full(len(master_catalogue), np.nan)\n",
    "    f_irac[use_candels] = master_catalogue['f_candels-irac_' + band][use_candels]\n",
    "    f_irac[use_irac] = master_catalogue['f_irac-egs_' + band][use_irac]\n",
    "    \n",
    "    ferr_irac = np.full(len(master_catalogue), np.nan)\n",
    "    ferr_irac[use_candels] = master_catalogue['ferr_candels-irac_' + band][use_candels]\n",
    "    ferr_irac[use_irac] = master_catalogue['ferr_irac-egs_' + band][use_irac]\n",
    "    \n",
    "    m_irac = np.full(len(master_catalogue), np.nan)\n",
    "    m_irac[use_candels] = master_catalogue['m_candels-irac_' + band][use_candels]\n",
    "    m_irac[use_irac] = master_catalogue['m_irac-egs_' + band][use_irac]\n",
    "    \n",
    "    merr_irac = np.full(len(master_catalogue), np.nan)\n",
    "    merr_irac[use_candels] = master_catalogue['merr_candels-irac_' + band][use_candels]\n",
    "    merr_irac[use_irac] = master_catalogue['merr_irac-egs_' + band][use_irac]\n",
    "    \n",
    "    flag_irac = np.full(len(master_catalogue), np.nan)\n",
    "    flag_irac[use_candels] = master_catalogue['flag_candels-irac_' + band][use_candels]\n",
    "    flag_irac[use_irac] = master_catalogue['flag_irac-egs_' + band][use_irac]\n",
    "\n",
    "\n",
    "\n",
    "    master_catalogue.add_column(Column(data=f_irac, name=\"f_irac_\" + band))\n",
    "    master_catalogue.add_column(Column(data=ferr_irac, name=\"ferr_irac_\" + band))\n",
    "    master_catalogue.add_column(Column(data=m_irac, name=\"m_irac_\" + band))\n",
    "    master_catalogue.add_column(Column(data=merr_irac, name=\"merr_irac_\" + band))\n",
    "    master_catalogue.add_column(Column(data=flag_irac, name=\"flag_irac_\" + band))\n",
    "\n",
    "    old_columns = ['f_candels-irac_' + band,\n",
    "                    'ferr_candels-irac_' + band,\n",
    "                    'm_candels-irac_' + band, \n",
    "                    'merr_candels-irac_' + band,\n",
    "                    'flag_candels-irac_' + band,\n",
    "                  'f_irac-egs_' + band,\n",
    "                    'ferr_irac-egs_' + band,\n",
    "                    'm_irac-egs_' + band, \n",
    "                    'merr_irac-egs_' + band,\n",
    "                    'flag_irac-egs_' + band,]\n",
    "\n",
    "    \n",
    "    master_catalogue.remove_columns(old_columns)\n",
    "\n",
    "    origin = np.full(len(master_catalogue), '     ', dtype='<U5')\n",
    "    origin[use_candels] = \"CANDELS\"\n",
    "    origin[use_irac] = \"IRAC-EGS\"\n",
    "    \n",
    "    irac_origin.add_column(Column(data=origin, name= 'f_irac_' + band ))\n",
    "    \n",
    "  \n",
    " \n",
    "    \n",
    "\n",
    "   \n",
    "\n",
    "    irac_stats['CANDELS'][irac_stats['Band'] == band] = np.sum(has_candels)\n",
    "    irac_stats['IRAC-EGS'][irac_stats['Band'] == band] = np.sum(has_irac)\n",
    "    irac_stats['use CANDELS'][irac_stats['Band'] == band] = np.sum(use_candels)\n",
    "    irac_stats['use IRAC-EGS'][irac_stats['Band'] == band] = np.sum(use_irac)    \n"
   ]
  },
  {
   "cell_type": "code",
   "execution_count": null,
   "metadata": {
    "collapsed": true
   },
   "outputs": [],
   "source": [
    "irac_stats.show_in_notebook()"
   ]
  },
  {
   "cell_type": "code",
   "execution_count": null,
   "metadata": {
    "collapsed": true
   },
   "outputs": [],
   "source": [
    "irac_origin.write(\"{}/egs_irac_fluxes_origins{}.fits\".format(OUT_DIR, SUFFIX), overwrite=True)"
   ]
  },
  {
   "cell_type": "markdown",
   "metadata": {},
   "source": [
    "### AEGIS\n",
    "We have AEGIS (WIRCS instrument on Palomar telescope) data from the AEGIS catalogue and from IRAC-EGS. We take the AEGIS fluxes preferentially "
   ]
  },
  {
   "cell_type": "code",
   "execution_count": null,
   "metadata": {
    "collapsed": true
   },
   "outputs": [],
   "source": [
    "aegis_origin = Table()\n",
    "aegis_origin.add_column(master_catalogue['help_id'])"
   ]
  },
  {
   "cell_type": "code",
   "execution_count": null,
   "metadata": {
    "collapsed": true
   },
   "outputs": [],
   "source": [
    "aegis_stats = Table()\n",
    "aegis_stats.add_column(Column(data=['j',  'k'], name=\"Band\"))\n",
    "for col in [\"AEGIS\", \"IRAC-EGS\"]:\n",
    "    aegis_stats.add_column(Column(data=np.full(2, 0), name=\"{}\".format(col)))\n",
    "    aegis_stats.add_column(Column(data=np.full(2, 0), name=\"use {}\".format(col)))\n",
    "    aegis_stats.add_column(Column(data=np.full(2, 0), name=\"{} ap\".format(col)))\n",
    "    aegis_stats.add_column(Column(data=np.full(2, 0), name=\"use {} ap\".format(col)))"
   ]
  },
  {
   "cell_type": "code",
   "execution_count": null,
   "metadata": {
    "collapsed": true
   },
   "outputs": [],
   "source": [
    "aegis_bands = ['j',  'k'] \n",
    "for band in aegis_bands:\n",
    "\n",
    "    # wircam total flux \n",
    "    has_aegis = ~np.isnan(master_catalogue['f_aegis_' + band])\n",
    "    has_irac = ~np.isnan(master_catalogue['f_irac-aegis_' + band])\n",
    "    \n",
    "    use_aegis =       has_aegis        \n",
    "    use_irac =     has_irac & ~has_aegis\n",
    "\n",
    "    f_aegis = np.full(len(master_catalogue), np.nan)\n",
    "    f_aegis[use_aegis] = master_catalogue['f_aegis_' + band][use_aegis]\n",
    "    f_aegis[use_irac] = master_catalogue['f_irac-aegis_' + band][use_irac]\n",
    "\n",
    "    ferr_aegis = np.full(len(master_catalogue), np.nan)\n",
    "    ferr_aegis[use_aegis] = master_catalogue['ferr_aegis_' + band][use_aegis]\n",
    "    ferr_aegis[use_irac] = master_catalogue['ferr_irac-aegis_' + band][use_irac]\n",
    "    \n",
    "    m_aegis = np.full(len(master_catalogue), np.nan)\n",
    "    m_aegis[use_aegis] = master_catalogue['m_aegis_' + band][use_aegis]\n",
    "    m_aegis[use_irac] = master_catalogue['m_irac-aegis_' + band][use_irac]\n",
    "    \n",
    "    merr_aegis = np.full(len(master_catalogue), np.nan)\n",
    "    merr_aegis[use_aegis] = master_catalogue['merr_aegis_' + band][use_aegis]\n",
    "    merr_aegis[use_irac] = master_catalogue['merr_irac-aegis_' + band][use_irac]\n",
    "    \n",
    "    flag_aegis = np.full(len(master_catalogue), np.nan)\n",
    "    flag_aegis[use_aegis] = master_catalogue['flag_aegis_' + band][use_aegis]\n",
    "    flag_aegis[use_irac] = master_catalogue['flag_irac-aegis_' + band][use_irac]\n",
    "\n",
    "    master_catalogue.add_column(Column(data=f_aegis, name=\"f_wircs_\" + band))\n",
    "    master_catalogue.add_column(Column(data=ferr_aegis, name=\"ferr_wircs_\" + band))\n",
    "    master_catalogue.add_column(Column(data=m_aegis, name=\"m_wircs_\" + band))\n",
    "    master_catalogue.add_column(Column(data=merr_aegis, name=\"merr_wircs_\" + band))\n",
    "    master_catalogue.add_column(Column(data=flag_aegis, name=\"flag_wircs_\" + band))\n",
    "\n",
    "    old_columns = ['f_aegis_' + band,\n",
    "                    'ferr_aegis_' + band,\n",
    "                    'm_aegis_' + band, \n",
    "                    'merr_aegis_' + band,\n",
    "                    'flag_aegis_' + band,\n",
    "                  'f_irac-aegis_' + band,\n",
    "                    'ferr_irac-aegis_' + band,\n",
    "                    'm_irac-aegis_' + band, \n",
    "                    'merr_irac-aegis_' + band,\n",
    "                    'flag_irac-aegis_' + band,]\n",
    "\n",
    "    \n",
    "    master_catalogue.remove_columns(old_columns)\n",
    "\n",
    "    origin = np.full(len(master_catalogue), '     ', dtype='<U5')\n",
    "    origin[use_aegis] = \"AEGIS\"\n",
    "    origin[use_irac] = \"IRAC-EGS\"\n",
    "    \n",
    "    aegis_origin.add_column(Column(data=origin, name= 'f_wircs_' + band ))\n",
    "    \n",
    "    # wircam aperture flux \n",
    "    if band == 'k':\n",
    "        \n",
    "        has_ap_aegis = ~np.isnan(master_catalogue['f_ap_aegis_' + band])\n",
    "        \n",
    "        master_catalogue.rename_column('f_ap_aegis_k', 'f_ap_wircs_k')\n",
    "        master_catalogue.rename_column('ferr_ap_aegis_k', 'ferr_ap_wircs_k')\n",
    "        master_catalogue.rename_column('m_ap_aegis_k', 'm_ap_wircs_k')\n",
    "        master_catalogue.rename_column('merr_ap_aegis_k', 'merr_ap_wircs_k')\n",
    "        \n",
    "        origin_ap = np.full(len(master_catalogue), '     ', dtype='<U5')\n",
    "        origin_ap[use_ap_aegis] = \"AEGIS\"\n",
    "       \n",
    "    \n",
    "        aegis_origin.add_column(Column(data=origin_ap, name= 'f_ap_wircs_' + band ))\n",
    "        aegis_stats['AEGIS ap'][wircam_stats['Band'] == band] = np.sum(has_ap_aegis)\n",
    "        \n",
    "        aegis_stats['use AEGIS ap'][wircam_stats['Band'] == band] = np.sum(use_ap_aegis)\n",
    "        \n",
    "    \n",
    "\n",
    "   \n",
    "\n",
    "    aegis_stats['AEGIS'][aegis_stats['Band'] == band] = np.sum(has_aegis)\n",
    "    aegis_stats['IRAC-EGS'][aegis_stats['Band'] == band] = np.sum(has_irac)\n",
    "    aegis_stats['use AEGIS'][aegis_stats['Band'] == band] = np.sum(use_aegis)\n",
    "    aegis_stats['use IRAC-EGS'][aegis_stats['Band'] == band] = np.sum(use_irac)    \n",
    "    "
   ]
  },
  {
   "cell_type": "code",
   "execution_count": null,
   "metadata": {
    "collapsed": true
   },
   "outputs": [],
   "source": [
    "aegis_stats.show_in_notebook()"
   ]
  },
  {
   "cell_type": "code",
   "execution_count": null,
   "metadata": {
    "collapsed": true
   },
   "outputs": [],
   "source": [
    "aegis_origin.write(\"{}/egs_aegis_fluxes_origins{}.fits\".format(OUT_DIR, SUFFIX), overwrite=True)"
   ]
  },
  {
   "cell_type": "markdown",
   "metadata": {},
   "source": [
    "### HST: CANDELS vs IRAC-EGS\n",
    "We take CANDELS over IRAC"
   ]
  },
  {
   "cell_type": "code",
   "execution_count": null,
   "metadata": {
    "collapsed": true
   },
   "outputs": [],
   "source": [
    "hst_origin = Table()\n",
    "hst_origin.add_column(master_catalogue['help_id'])"
   ]
  },
  {
   "cell_type": "code",
   "execution_count": null,
   "metadata": {
    "collapsed": true
   },
   "outputs": [],
   "source": [
    "hst_stats = Table()\n",
    "hst_stats.add_column(Column(data=['f814w',  'f606w'], name=\"Band\"))\n",
    "for col in [\"CANDELS\", \"IRAC-EGS\"]:\n",
    "    hst_stats.add_column(Column(data=np.full(2, 0), name=\"{}\".format(col)))\n",
    "    hst_stats.add_column(Column(data=np.full(2, 0), name=\"use {}\".format(col)))\n",
    "    hst_stats.add_column(Column(data=np.full(2, 0), name=\"{} ap\".format(col)))\n",
    "    hst_stats.add_column(Column(data=np.full(2, 0), name=\"use {} ap\".format(col)))"
   ]
  },
  {
   "cell_type": "code",
   "execution_count": null,
   "metadata": {
    "collapsed": true
   },
   "outputs": [],
   "source": [
    "hst_bands = ['f814w',  'f606w']\n",
    "\n",
    "for band in hst_bands:\n",
    "\n",
    "    # HST total flux \n",
    "    has_candels = ~np.isnan(master_catalogue['f_acs_' + band])\n",
    "    has_irac = ~np.isnan(master_catalogue['f_irac-acs_' + band])\n",
    "    \n",
    "    use_candels =       has_candels        \n",
    "    use_irac =     has_irac & ~has_candels\n",
    "\n",
    "    master_catalogue['f_acs_' + band][use_irac] = master_catalogue['f_irac-acs_' + band][use_irac]\n",
    "    master_catalogue['ferr_acs_' + band][use_irac] = master_catalogue['ferr_irac-acs_' + band][use_irac]\n",
    "    master_catalogue['m_acs_' + band][use_irac] = master_catalogue['m_irac-acs_' + band][use_irac]\n",
    "    master_catalogue['merr_acs_' + band][use_irac] = master_catalogue['merr_irac-acs_' + band][use_irac]\n",
    "    master_catalogue['flag_acs_' + band][use_irac] = master_catalogue['flag_irac-acs_' + band][use_irac]\n",
    "\n",
    "    old_columns = ['f_irac-acs_' + band,\n",
    "                    'ferr_irac-acs_' + band,\n",
    "                    'm_irac-acs_' + band, \n",
    "                    'merr_irac-acs_' + band,\n",
    "                    'flag_irac-acs_' + band,]\n",
    "\n",
    "    \n",
    "    master_catalogue.remove_columns(old_columns)\n",
    "\n",
    "    origin = np.full(len(master_catalogue), '     ', dtype='<U5')\n",
    "    origin[use_candels] = \"CANDELS\"\n",
    "    origin[use_irac] = \"IRAC-EGS\"\n",
    "    \n",
    "    hst_origin.add_column(Column(data=origin, name= 'f_cfht12k_' + band ))\n",
    "    \n",
    "\n",
    "        \n",
    "    \n",
    "\n",
    "   \n",
    "\n",
    "    hst_stats['CANDELS'][hst_stats['Band'] == band] = np.sum(has_candels)\n",
    "    hst_stats['IRAC-EGS'][hst_stats['Band'] == band] = np.sum(has_irac)\n",
    "    hst_stats['use CANDELS'][hst_stats['Band'] == band] = np.sum(use_candels)\n",
    "    hst_stats['use IRAC-EGS'][hst_stats['Band'] == band] = np.sum(use_irac)    \n",
    "    "
   ]
  },
  {
   "cell_type": "code",
   "execution_count": null,
   "metadata": {
    "collapsed": true
   },
   "outputs": [],
   "source": [
    "hst_stats.show_in_notebook()"
   ]
  },
  {
   "cell_type": "code",
   "execution_count": null,
   "metadata": {
    "collapsed": true
   },
   "outputs": [],
   "source": [
    "hst_origin.write(\"{}/egs_hst_fluxes_origins{}.fits\".format(OUT_DIR, SUFFIX), overwrite=True)"
   ]
  },
  {
   "cell_type": "markdown",
   "metadata": {},
   "source": [
    "### CFHT12k : DEEP2 vs IRAC-EGS\n",
    "We take DEEP2 preferentially"
   ]
  },
  {
   "cell_type": "code",
   "execution_count": null,
   "metadata": {
    "collapsed": true
   },
   "outputs": [],
   "source": [
    "cfht12k_origin = Table()\n",
    "cfht12k_origin.add_column(master_catalogue['help_id'])"
   ]
  },
  {
   "cell_type": "code",
   "execution_count": null,
   "metadata": {
    "collapsed": true
   },
   "outputs": [],
   "source": [
    "cfht12k_stats = Table()\n",
    "cfht12k_stats.add_column(Column(data=['b',  'r', 'i'], name=\"Band\"))\n",
    "for col in [\"DEEP2\", \"IRAC-EGS\"]:\n",
    "    cfht12k_stats.add_column(Column(data=np.full(3, 0), name=\"{}\".format(col)))\n",
    "    cfht12k_stats.add_column(Column(data=np.full(3, 0), name=\"use {}\".format(col)))\n",
    "    cfht12k_stats.add_column(Column(data=np.full(3, 0), name=\"{} ap\".format(col)))\n",
    "    cfht12k_stats.add_column(Column(data=np.full(3, 0), name=\"use {} ap\".format(col)))"
   ]
  },
  {
   "cell_type": "code",
   "execution_count": null,
   "metadata": {
    "collapsed": true
   },
   "outputs": [],
   "source": [
    "cfht12k_bands = ['b', 'r', 'i']\n",
    "\n",
    "for band in cfht12k_bands:\n",
    "\n",
    "    # cfht12k total flux \n",
    "    has_deep2 = ~np.isnan(master_catalogue['f_deep2_' + band])\n",
    "    has_irac = ~np.isnan(master_catalogue['f_cfht12k_' + band])\n",
    "    \n",
    "    use_deep2 =       has_deep2        \n",
    "    use_irac =     has_irac & ~has_deep2\n",
    "\n",
    "    master_catalogue['f_cfht12k_' + band][use_deep2] = master_catalogue['f_deep2_' + band][use_deep2]\n",
    "    master_catalogue['ferr_cfht12k_' + band][use_deep2] = master_catalogue['ferr_deep2_' + band][use_deep2]\n",
    "    master_catalogue['m_cfht12k_' + band][use_deep2] = master_catalogue['m_deep2_' + band][use_deep2]\n",
    "    master_catalogue['merr_cfht12k_' + band][use_deep2] = master_catalogue['merr_deep2_' + band][use_deep2]\n",
    "    master_catalogue['flag_cfht12k_' + band][use_deep2] = master_catalogue['flag_deep2_' + band][use_deep2]\n",
    "\n",
    "    old_columns = ['f_deep2_' + band,\n",
    "                    'ferr_deep2_' + band,\n",
    "                    'm_deep2_' + band, \n",
    "                    'merr_deep2_' + band,\n",
    "                    'flag_deep2_' + band,]\n",
    "\n",
    "    \n",
    "    master_catalogue.remove_columns(old_columns)\n",
    "\n",
    "    origin = np.full(len(master_catalogue), '     ', dtype='<U5')\n",
    "    origin[use_deep2] = \"DEEP2\"\n",
    "    origin[use_irac] = \"IRAC-EGS\"\n",
    "    \n",
    "    cfht12k_origin.add_column(Column(data=origin, name= 'f_cfht12k_' + band ))\n",
    "    \n",
    "\n",
    "        \n",
    "    \n",
    "\n",
    "   \n",
    "\n",
    "    cfht12k_stats['DEEP2'][cfht12k_stats['Band'] == band] = np.sum(has_deep2)\n",
    "    cfht12k_stats['IRAC-EGS'][cfht12k_stats['Band'] == band] = np.sum(has_irac)\n",
    "    cfht12k_stats['use DEEP2'][cfht12k_stats['Band'] == band] = np.sum(use_deep2)\n",
    "    cfht12k_stats['use IRAC-EGS'][cfht12k_stats['Band'] == band] = np.sum(use_irac)    \n",
    "    "
   ]
  },
  {
   "cell_type": "code",
   "execution_count": null,
   "metadata": {
    "collapsed": true
   },
   "outputs": [],
   "source": [
    "cfht12k_stats.show_in_notebook()"
   ]
  },
  {
   "cell_type": "code",
   "execution_count": null,
   "metadata": {
    "collapsed": true
   },
   "outputs": [],
   "source": [
    "cfht12k_origin.write(\"{}/egs_cfht12k_fluxes_origins{}.fits\".format(OUT_DIR, SUFFIX), overwrite=True)"
   ]
  },
  {
   "cell_type": "markdown",
   "metadata": {},
   "source": [
    "## VIII.a Wavelength domain coverage\n",
    "\n",
    "We add a binary `flag_optnir_obs` indicating that a source was observed in a given wavelength domain:\n",
    "\n",
    "- 1 for observation in optical;\n",
    "- 2 for observation in near-infrared;\n",
    "- 4 for observation in mid-infrared (IRAC).\n",
    "\n",
    "It's an integer binary flag, so a source observed both in optical and near-infrared by not in mid-infrared would have this flag at 1 + 2 = 3.\n",
    "\n",
    "*Note 1: The observation flag is based on the creation of multi-order coverage maps from the catalogues, this may not be accurate, especially on the edges of the coverage.*\n",
    "\n",
    "*Note 2: Being on the observation coverage does not mean having fluxes in that wavelength domain. For sources observed in one domain but having no flux in it, one must take into consideration de different depths in the catalogue we are using.*"
   ]
  },
  {
   "cell_type": "code",
   "execution_count": null,
   "metadata": {
    "collapsed": true
   },
   "outputs": [],
   "source": [
    "aegis_moc =  MOC(filename=\"../../dmu0/dmu0_AEGIS/data/EGS_Palomar_20160804_MOC.fits\")\n",
    "candels_moc =  MOC(filename=\"../../dmu0/dmu0_CANDELS-EGS/data/hlsp_candels_hst_wfc3_egs-tot-multiband_f160w_v1_MOC.fits\")\n",
    "wirds_moc =  MOC(filename=\"../../dmu0/dmu0_CFHT-WIRDS/data/EGS_Ks-priors_MOC.fits\")\n",
    "cfhtls_deep_moc =  MOC(filename=\"../../dmu0/dmu0_CFHTLS/data/CFHTLS-DEEP_EGS_MOC.fits\")\n",
    "cfhtls_wide_moc =  MOC(filename=\"../../dmu0/dmu0_CFHTLS/data/CFHTLS-WIDE_EGS_MOC.fits\")\n",
    "cfhtlens_moc =  MOC(filename=\"../../dmu0/dmu0_CFHTLenS/data/CFHTLenS_EGS_MOC.fits\")\n",
    "deep_moc =  MOC(filename=\"../../dmu0/dmu0_DEEP2/data/DEEP2_EGS_MOC.fits\")\n",
    "irac_moc =  MOC(filename=\"../../dmu0/dmu0_IRAC-EGS/data/IRAC_EGS_MOC.fits\")\n",
    "hsc_moc =  MOC(filename=\"../../dmu0/dmu0_HSC/data/HSC-PDR1_wide_EGS_MOC.fits\")\n",
    "ps1_moc =  MOC(filename=\"../../dmu0/dmu0_PanSTARRS1-3SS/data/PanSTARRS1-3SS_EGS_MOC.fits\")\n",
    "legacy_moc =  MOC(filename=\"../../dmu0/dmu0_LegacySurvey/data/LegacySurvey-dr4_EGS_MOC.fits\")\n",
    "uhs_moc =  MOC(filename=\"../../dmu0/dmu0_UHS/data/UHS-DR1_EGS_MOC.fits\")"
   ]
  },
  {
   "cell_type": "code",
   "execution_count": null,
   "metadata": {
    "collapsed": true
   },
   "outputs": [],
   "source": [
    "was_observed_optical = inMoc(\n",
    "    master_catalogue['ra'], master_catalogue['dec'],\n",
    "    aegis_moc + candels_moc + cfhtls_deep_moc + cfhtls_wide_moc + cfhtlens_moc + deep_moc + hsc_moc + ps1_moc + legacy_moc) \n",
    "\n",
    "was_observed_nir = inMoc(\n",
    "    master_catalogue['ra'], master_catalogue['dec'],\n",
    "    wirds_moc + uhs_moc \n",
    ")\n",
    "\n",
    "was_observed_mir = inMoc(\n",
    "    master_catalogue['ra'], master_catalogue['dec'],\n",
    "    irac_moc\n",
    ")"
   ]
  },
  {
   "cell_type": "code",
   "execution_count": null,
   "metadata": {
    "collapsed": true
   },
   "outputs": [],
   "source": [
    "master_catalogue.add_column(\n",
    "    Column(\n",
    "        1 * was_observed_optical + 2 * was_observed_nir + 4 * was_observed_mir,\n",
    "        name=\"flag_optnir_obs\")\n",
    ")"
   ]
  },
  {
   "cell_type": "markdown",
   "metadata": {},
   "source": [
    "## VIII.b Wavelength domain detection\n",
    "\n",
    "We add a binary `flag_optnir_det` indicating that a source was detected in a given wavelength domain:\n",
    "\n",
    "- 1 for detection in optical;\n",
    "- 2 for detection in near-infrared;\n",
    "- 4 for detection in mid-infrared (IRAC).\n",
    "\n",
    "It's an integer binary flag, so a source detected both in optical and near-infrared by not in mid-infrared would have this flag at 1 + 2 = 3.\n",
    "\n",
    "*Note 1: We use the total flux columns to know if the source has flux, in some catalogues, we may have aperture flux and no total flux.*\n",
    "\n",
    "To get rid of artefacts (chip edges, star flares, etc.) we consider that a source is detected in one wavelength domain when it has a flux value in **at least two bands**. That means that good sources will be excluded from this flag when they are on the coverage of only one band."
   ]
  },
  {
   "cell_type": "code",
   "execution_count": null,
   "metadata": {
    "collapsed": true
   },
   "outputs": [],
   "source": [
    "#Rename UHS to UKIDSS\n",
    "for col in master_catalogue.colnames:\n",
    "    if col.endswith('_uhs_j'):\n",
    "        master_catalogue.rename_column(col, col.replace('_uhs_j', '_ukidss_j'))\n",
    "    if col.endswith('_wircam_k'):\n",
    "        master_catalogue.rename_column(col, col.replace('_wircam_k', '_wircam_ks'))"
   ]
  },
  {
   "cell_type": "code",
   "execution_count": null,
   "metadata": {
    "collapsed": true
   },
   "outputs": [],
   "source": [
    "\n",
    "nb_optical_flux = (\n",
    "#HSC\n",
    "    1 * ~np.isnan(master_catalogue['f_suprime_g']) +\n",
    "    1 * ~np.isnan(master_catalogue['f_suprime_r']) +\n",
    "    1 * ~np.isnan(master_catalogue['f_suprime_i']) +\n",
    "    1 * ~np.isnan(master_catalogue['f_suprime_z']) +\n",
    "    1 * ~np.isnan(master_catalogue['f_suprime_y']) +\n",
    "#PS1\n",
    "    1 * ~np.isnan(master_catalogue['f_gpc1_g']) +\n",
    "    1 * ~np.isnan(master_catalogue['f_gpc1_r']) +\n",
    "    1 * ~np.isnan(master_catalogue['f_gpc1_i']) +\n",
    "    1 * ~np.isnan(master_catalogue['f_gpc1_z']) +\n",
    "    1 * ~np.isnan(master_catalogue['f_gpc1_y']) +\n",
    "#CFHT\n",
    "    1 * ~np.isnan(master_catalogue['f_megacam_u']) +\n",
    "    1 * ~np.isnan(master_catalogue['f_megacam_g']) +\n",
    "    1 * ~np.isnan(master_catalogue['f_megacam_r']) +\n",
    "    1 * ~np.isnan(master_catalogue['f_megacam_i']) +\n",
    "    1 * ~np.isnan(master_catalogue['f_megacam_z']) \n",
    "\n",
    ")\n",
    "\n",
    "nb_nir_flux = (\n",
    "    1 * ~np.isnan(master_catalogue['f_ukidss_j']) +\n",
    "    1 * ~np.isnan(master_catalogue['f_wircam_j']) +\n",
    "    1 * ~np.isnan(master_catalogue['f_wircam_h']) +\n",
    "    1 * ~np.isnan(master_catalogue['f_wircam_ks']) \n",
    "    \n",
    ")\n",
    "\n",
    "nb_mir_flux = (\n",
    "    1 * ~np.isnan(master_catalogue['f_irac_i1']) +\n",
    "    1 * ~np.isnan(master_catalogue['f_irac_i2']) +\n",
    "    1 * ~np.isnan(master_catalogue['f_irac_i3']) +\n",
    "    1 * ~np.isnan(master_catalogue['f_irac_i4'])\n",
    ")"
   ]
  },
  {
   "cell_type": "code",
   "execution_count": null,
   "metadata": {
    "collapsed": true
   },
   "outputs": [],
   "source": [
    "has_optical_flux = nb_optical_flux >= 2\n",
    "has_nir_flux = nb_nir_flux >= 2\n",
    "has_mir_flux = nb_mir_flux >= 2\n",
    "\n",
    "master_catalogue.add_column(\n",
    "    Column(\n",
    "        1 * has_optical_flux + 2 * has_nir_flux + 4 * has_mir_flux,\n",
    "        name=\"flag_optnir_det\")\n",
    ")"
   ]
  },
  {
   "cell_type": "markdown",
   "metadata": {},
   "source": [
    "## IX - Cross-identification table\n",
    "\n",
    "We are producing a table associating to each HELP identifier, the identifiers of the sources in the pristine catalogues. This can be used to easily get additional information from them.\n",
    "\n",
    "For convenience, we also cross-match the master list with the SDSS catalogue and add the objID associated with each source, if any. **TODO: should we correct the astrometry with respect to Gaia positions?**"
   ]
  },
  {
   "cell_type": "code",
   "execution_count": null,
   "metadata": {},
   "outputs": [],
   "source": [
    "#\n",
    "# Addind SDSS ids\n",
    "#\n",
    "sdss = Table.read(\"../../dmu0/dmu0_SDSS-DR13/data/SDSS-DR13_EGS.fits\")['objID', 'ra', 'dec']\n",
    "sdss_coords = SkyCoord(sdss['ra'] * u.deg, sdss['dec'] * u.deg)\n",
    "idx_ml, d2d, _ = sdss_coords.match_to_catalog_sky(SkyCoord(master_catalogue['ra'], master_catalogue['dec']))\n",
    "idx_sdss = np.arange(len(sdss))\n",
    "\n",
    "# Limit the cross-match to 1 arcsec\n",
    "mask = d2d <= 1. * u.arcsec\n",
    "idx_ml = idx_ml[mask]\n",
    "idx_sdss = idx_sdss[mask]\n",
    "d2d = d2d[mask]\n",
    "nb_orig_matches = len(idx_ml)\n",
    "\n",
    "# In case of multiple associations of one master list object to an SDSS object, we keep only the\n",
    "# association to the nearest one.\n",
    "sort_idx = np.argsort(d2d)\n",
    "idx_ml = idx_ml[sort_idx]\n",
    "idx_sdss = idx_sdss[sort_idx]\n",
    "_, unique_idx = np.unique(idx_ml, return_index=True)\n",
    "idx_ml = idx_ml[unique_idx]\n",
    "idx_sdss = idx_sdss[unique_idx]\n",
    "print(\"{} master list rows had multiple associations.\".format(nb_orig_matches - len(idx_ml)))\n",
    "\n",
    "# Adding the ObjID to the master list\n",
    "master_catalogue.add_column(Column(data=np.full(len(master_catalogue), -1, dtype='>i8'), name=\"sdss_id\"))\n",
    "master_catalogue['sdss_id'][idx_ml] = sdss['objID'][idx_sdss]"
   ]
  },
  {
   "cell_type": "code",
   "execution_count": null,
   "metadata": {},
   "outputs": [],
   "source": [
    "\n",
    "id_names = []\n",
    "for col in master_catalogue.colnames:\n",
    "    if '_id' in col:\n",
    "        id_names += [col]\n",
    "    if '_intid' in col:\n",
    "        id_names += [col]\n",
    "        \n",
    "print(id_names)"
   ]
  },
  {
   "cell_type": "code",
   "execution_count": null,
   "metadata": {
    "collapsed": true
   },
   "outputs": [],
   "source": [
    "master_catalogue[id_names].write(\n",
    "    \"{}/master_list_cross_ident_egs{}.fits\".format(OUT_DIR, SUFFIX), overwrite=True)\n",
    "id_names.remove('help_id')\n",
    "master_catalogue.remove_columns(id_names)"
   ]
  },
  {
   "cell_type": "markdown",
   "metadata": {},
   "source": [
    "## X - Adding HEALPix index\n",
    "\n",
    "We are adding a column with a HEALPix index at order 13 associated with each source."
   ]
  },
  {
   "cell_type": "code",
   "execution_count": null,
   "metadata": {
    "collapsed": true
   },
   "outputs": [],
   "source": [
    "master_catalogue.add_column(Column(\n",
    "    data=coords_to_hpidx(master_catalogue['ra'], master_catalogue['dec'], order=13),\n",
    "    name=\"hp_idx\"\n",
    "))"
   ]
  },
  {
   "cell_type": "markdown",
   "metadata": {},
   "source": [
    "## XI - Saving the catalogue"
   ]
  },
  {
   "cell_type": "code",
   "execution_count": null,
   "metadata": {
    "collapsed": true
   },
   "outputs": [],
   "source": [
    "columns = [\"help_id\", \"field\", \"ra\", \"dec\", \"hp_idx\"]\n",
    "\n",
    "bands = [column[5:] for column in master_catalogue.colnames if 'f_ap' in column]\n",
    "for band in bands:\n",
    "    columns += [\"f_ap_{}\".format(band), \"ferr_ap_{}\".format(band),\n",
    "                \"m_ap_{}\".format(band), \"merr_ap_{}\".format(band),\n",
    "                \"f_{}\".format(band), \"ferr_{}\".format(band),\n",
    "                \"m_{}\".format(band), \"merr_{}\".format(band),\n",
    "                \"flag_{}\".format(band)]    \n",
    "    \n",
    "columns += [\"stellarity\", \"stellarity_origin\", \"flag_cleaned\", \"flag_merged\", \"flag_gaia\", \"flag_optnir_obs\", \n",
    "            \"flag_optnir_det\", \"zspec\", \"zspec_qual\", \"zspec_association_flag\", \"ebv\"]"
   ]
  },
  {
   "cell_type": "code",
   "execution_count": null,
   "metadata": {},
   "outputs": [],
   "source": [
    "# We check for columns in the master catalogue that we will not save to disk.\n",
    "print(\"Missing columns: {}\".format(set(master_catalogue.colnames) - set(columns)))"
   ]
  },
  {
   "cell_type": "code",
   "execution_count": null,
   "metadata": {
    "collapsed": true
   },
   "outputs": [],
   "source": [
    "master_catalogue[columns].write(\"{}/master_catalogue_egs{}.fits\".format(OUT_DIR, SUFFIX))"
   ]
  }
 ],
 "metadata": {
  "kernelspec": {
   "display_name": "Python (herschelhelp_internal)",
   "language": "python",
   "name": "helpint"
  },
  "language_info": {
   "codemirror_mode": {
    "name": "ipython",
    "version": 3
   },
   "file_extension": ".py",
   "mimetype": "text/x-python",
   "name": "python",
   "nbconvert_exporter": "python",
   "pygments_lexer": "ipython3",
   "version": "3.6.1"
  }
 },
 "nbformat": 4,
 "nbformat_minor": 2
}
