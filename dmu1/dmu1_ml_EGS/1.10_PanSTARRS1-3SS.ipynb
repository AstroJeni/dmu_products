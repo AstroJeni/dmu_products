{
 "cells": [
  {
   "cell_type": "markdown",
   "metadata": {},
   "source": [
    "# EGS master catalogue\n",
    "## Preparation of Pan-STARRS1 - 3pi Steradian Survey (3SS) data\n",
    "\n",
    "This catalogue comes from `dmu0_PanSTARRS1-3SS`.\n",
    "\n",
    "In the catalogue, we keep:\n",
    "\n",
    "- The `uniquePspsSTid` as unique object identifier;\n",
    "- The r-band position which is given for all the sources;\n",
    "- The grizy `<band>FApMag` aperture magnitude (see below);\n",
    "- The grizy `<band>FKronMag` as total magnitude.\n",
    "\n",
    "The Pan-STARRS1-3SS catalogue provides for each band an aperture magnitude defined as “In PS1, an 'optimal' aperture radius is determined based on the local PSF. The wings of the same analytic PSF are then used to extrapolate the flux measured inside this aperture to a 'total' flux.”\n",
    "\n",
    "The observations used for the catalogue where done between 2010 and 2015 ([ref](https://confluence.stsci.edu/display/PANSTARRS/PS1+Image+data+products)).\n",
    "\n",
    "**TODO**: Check if the detection flag can be used to know in which bands an object was detected to construct the coverage maps.\n",
    "\n",
    "**TODO**: Check for stellarity."
   ]
  },
  {
   "cell_type": "code",
   "execution_count": null,
   "metadata": {},
   "outputs": [],
   "source": [
    "from herschelhelp_internal import git_version\n",
    "print(\"This notebook was run with herschelhelp_internal version: \\n{}\".format(git_version()))"
   ]
  },
  {
   "cell_type": "code",
   "execution_count": null,
   "metadata": {},
   "outputs": [],
   "source": [
    "%matplotlib inline\n",
    "#%config InlineBackend.figure_format = 'svg'\n",
    "\n",
    "import matplotlib.pyplot as plt\n",
    "plt.rc('figure', figsize=(10, 6))\n",
    "\n",
    "from collections import OrderedDict\n",
    "import os\n",
    "\n",
    "from astropy import units as u\n",
    "from astropy.coordinates import SkyCoord\n",
    "from astropy.table import Column, Table\n",
    "import numpy as np\n",
    "\n",
    "from herschelhelp_internal.flagging import  gaia_flag_column\n",
    "from herschelhelp_internal.masterlist import nb_astcor_diag_plot, remove_duplicates\n",
    "from herschelhelp_internal.utils import astrometric_correction, mag_to_flux"
   ]
  },
  {
   "cell_type": "code",
   "execution_count": null,
   "metadata": {
    "collapsed": true
   },
   "outputs": [],
   "source": [
    "OUT_DIR =  os.environ.get('TMP_DIR', \"./data_tmp\")\n",
    "try:\n",
    "    os.makedirs(OUT_DIR)\n",
    "except FileExistsError:\n",
    "    pass\n",
    "\n",
    "RA_COL = \"ps1_ra\"\n",
    "DEC_COL = \"ps1_dec\""
   ]
  },
  {
   "cell_type": "markdown",
   "metadata": {},
   "source": [
    "## I - Column selection"
   ]
  },
  {
   "cell_type": "code",
   "execution_count": null,
   "metadata": {
    "collapsed": true
   },
   "outputs": [],
   "source": [
    "imported_columns = OrderedDict({\n",
    "        \"objID\": \"ps1_id\",\n",
    "        \"raMean\": \"ps1_ra\",\n",
    "        \"decMean\": \"ps1_dec\",\n",
    "        \"gFApMag\": \"m_ap_gpc1_g\",\n",
    "        \"gFApMagErr\": \"merr_ap_gpc1_g\",\n",
    "        \"gFKronMag\": \"m_gpc1_g\",\n",
    "        \"gFKronMagErr\": \"merr_gpc1_g\",\n",
    "        \"rFApMag\": \"m_ap_gpc1_r\",\n",
    "        \"rFApMagErr\": \"merr_ap_gpc1_r\",\n",
    "        \"rFKronMag\": \"m_gpc1_r\",\n",
    "        \"rFKronMagErr\": \"merr_gpc1_r\",\n",
    "        \"iFApMag\": \"m_ap_gpc1_i\",\n",
    "        \"iFApMagErr\": \"merr_ap_gpc1_i\",\n",
    "        \"iFKronMag\": \"m_gpc1_i\",\n",
    "        \"iFKronMagErr\": \"merr_gpc1_i\",\n",
    "        \"zFApMag\": \"m_ap_gpc1_z\",\n",
    "        \"zFApMagErr\": \"merr_ap_gpc1_z\",\n",
    "        \"zFKronMag\": \"m_gpc1_z\",\n",
    "        \"zFKronMagErr\": \"merr_gpc1_z\",\n",
    "        \"yFApMag\": \"m_ap_gpc1_y\",\n",
    "        \"yFApMagErr\": \"merr_ap_gpc1_y\",\n",
    "        \"yFKronMag\": \"m_gpc1_y\",\n",
    "        \"yFKronMagErr\": \"merr_gpc1_y\"\n",
    "    })\n",
    "\n",
    "\n",
    "catalogue = Table.read(\"../../dmu0/dmu0_PanSTARRS1-3SS/data/PanSTARRS1-3SS_EGS_v2.fits\")[list(imported_columns)]\n",
    "for column in imported_columns:\n",
    "    catalogue[column].name = imported_columns[column]\n",
    "\n",
    "epoch = 2012\n",
    "\n",
    "# Clean table metadata\n",
    "catalogue.meta = None"
   ]
  },
  {
   "cell_type": "code",
   "execution_count": null,
   "metadata": {
    "collapsed": true
   },
   "outputs": [],
   "source": [
    "# Adding flux and band-flag columns\n",
    "for col in catalogue.colnames:\n",
    "    if col.startswith('m_'):\n",
    "        \n",
    "        errcol = \"merr{}\".format(col[1:])\n",
    "        \n",
    "        # -999 is used for missing values\n",
    "        catalogue[col][catalogue[col] < -900] = np.nan\n",
    "        catalogue[errcol][catalogue[errcol] < -900] = np.nan     \n",
    "        \n",
    "        flux, error = mag_to_flux(np.array(catalogue[col]), np.array(catalogue[errcol]))\n",
    "        \n",
    "        # Fluxes are added in µJy\n",
    "        catalogue.add_column(Column(flux * 1.e6, name=\"f{}\".format(col[1:])))\n",
    "        catalogue.add_column(Column(error * 1.e6, name=\"f{}\".format(errcol[1:])))\n",
    "        \n",
    "        # Band-flag column\n",
    "        if \"ap\" not in col:\n",
    "            catalogue.add_column(Column(np.zeros(len(catalogue), dtype=bool), name=\"flag{}\".format(col[1:])))\n",
    "        \n",
    "# TODO: Set to True the flag columns for fluxes that should not be used for SED fitting."
   ]
  },
  {
   "cell_type": "code",
   "execution_count": null,
   "metadata": {},
   "outputs": [],
   "source": [
    "catalogue[:10].show_in_notebook()"
   ]
  },
  {
   "cell_type": "markdown",
   "metadata": {},
   "source": [
    "## II - Removal of duplicated sources"
   ]
  },
  {
   "cell_type": "markdown",
   "metadata": {},
   "source": [
    "We remove duplicated objects from the input catalogues."
   ]
  },
  {
   "cell_type": "code",
   "execution_count": null,
   "metadata": {
    "collapsed": true
   },
   "outputs": [],
   "source": [
    "SORT_COLS = ['merr_ap_gpc1_r', 'merr_ap_gpc1_g', 'merr_ap_gpc1_i', 'merr_ap_gpc1_z', 'merr_ap_gpc1_y']\n",
    "FLAG_NAME = 'ps1_flag_cleaned'\n",
    "\n",
    "nb_orig_sources = len(catalogue)\n",
    "\n",
    "catalogue = remove_duplicates(catalogue, RA_COL, DEC_COL,  sort_col=SORT_COLS, flag_name=FLAG_NAME)\n",
    "\n",
    "nb_sources = len(catalogue)\n",
    "\n",
    "print(\"The initial catalogue had {} sources.\".format(nb_orig_sources))\n",
    "print(\"The cleaned catalogue has {} sources ({} removed).\".format(nb_sources, nb_orig_sources - nb_sources))\n",
    "print(\"The cleaned catalogue has {} sources flagged as having been cleaned\".format(np.sum(catalogue[FLAG_NAME])))"
   ]
  },
  {
   "cell_type": "markdown",
   "metadata": {},
   "source": [
    "## III - Astrometry correction\n",
    "\n",
    "We match the astrometry to the Gaia one. We limit the Gaia catalogue to sources with a g band flux between the 30th and the 70th percentile. Some quick tests show that this give the lower dispersion in the results."
   ]
  },
  {
   "cell_type": "code",
   "execution_count": null,
   "metadata": {
    "collapsed": true
   },
   "outputs": [],
   "source": [
    "gaia = Table.read(\"../../dmu0/dmu0_GAIA/data/GAIA_EGS.fits\")\n",
    "gaia_coords = SkyCoord(gaia['ra'], gaia['dec'])"
   ]
  },
  {
   "cell_type": "code",
   "execution_count": null,
   "metadata": {},
   "outputs": [],
   "source": [
    "catalogue[RA_COL].unit = u.deg\n",
    "catalogue[DEC_COL].unit = u.deg\n",
    "nb_astcor_diag_plot(catalogue[RA_COL], catalogue[DEC_COL], \n",
    "                    gaia_coords.ra, gaia_coords.dec)"
   ]
  },
  {
   "cell_type": "code",
   "execution_count": null,
   "metadata": {},
   "outputs": [],
   "source": [
    "delta_ra, delta_dec =  astrometric_correction(\n",
    "    SkyCoord(catalogue[RA_COL], catalogue[DEC_COL]),\n",
    "    gaia_coords\n",
    ")\n",
    "\n",
    "print(\"RA correction: {}\".format(delta_ra))\n",
    "print(\"Dec correction: {}\".format(delta_dec))"
   ]
  },
  {
   "cell_type": "code",
   "execution_count": null,
   "metadata": {
    "collapsed": true
   },
   "outputs": [],
   "source": [
    "catalogue[RA_COL] +=  delta_ra.to(u.deg)\n",
    "catalogue[DEC_COL] += delta_dec.to(u.deg)"
   ]
  },
  {
   "cell_type": "code",
   "execution_count": null,
   "metadata": {},
   "outputs": [],
   "source": [
    "nb_astcor_diag_plot(catalogue[RA_COL], catalogue[DEC_COL], \n",
    "                    gaia_coords.ra, gaia_coords.dec)"
   ]
  },
  {
   "cell_type": "markdown",
   "metadata": {},
   "source": [
    "## IV - Flagging Gaia objects"
   ]
  },
  {
   "cell_type": "code",
   "execution_count": null,
   "metadata": {
    "collapsed": true
   },
   "outputs": [],
   "source": [
    "catalogue.add_column(\n",
    "    gaia_flag_column(SkyCoord(catalogue[RA_COL], catalogue[DEC_COL]), epoch, gaia)\n",
    ")"
   ]
  },
  {
   "cell_type": "code",
   "execution_count": null,
   "metadata": {},
   "outputs": [],
   "source": [
    "GAIA_FLAG_NAME = \"ps1_flag_gaia\"\n",
    "\n",
    "catalogue['flag_gaia'].name = GAIA_FLAG_NAME\n",
    "print(\"{} sources flagged.\".format(np.sum(catalogue[GAIA_FLAG_NAME] > 0)))"
   ]
  },
  {
   "cell_type": "markdown",
   "metadata": {},
   "source": [
    "# V - Saving to disk"
   ]
  },
  {
   "cell_type": "code",
   "execution_count": null,
   "metadata": {
    "collapsed": true
   },
   "outputs": [],
   "source": [
    "catalogue.write(\"{}/PS1.fits\".format(OUT_DIR), overwrite=True)"
   ]
  }
 ],
 "metadata": {
  "anaconda-cloud": {},
  "kernelspec": {
   "display_name": "Python (herschelhelp_internal)",
   "language": "python",
   "name": "helpint"
  },
  "language_info": {
   "codemirror_mode": {
    "name": "ipython",
    "version": 3
   },
   "file_extension": ".py",
   "mimetype": "text/x-python",
   "name": "python",
   "nbconvert_exporter": "python",
   "pygments_lexer": "ipython3",
   "version": "3.6.1"
  }
 },
 "nbformat": 4,
 "nbformat_minor": 1
}
