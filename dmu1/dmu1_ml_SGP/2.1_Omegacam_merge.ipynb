{
 "cells": [
  {
   "cell_type": "markdown",
   "metadata": {},
   "source": [
    "# HATLAS-SGP master catalogue\n",
    "\n",
    "This notebook presents the merge of the various pristine catalogues to produce HELP mater catalogue on GAMA-09."
   ]
  },
  {
   "cell_type": "code",
   "execution_count": 1,
   "metadata": {},
   "outputs": [
    {
     "name": "stdout",
     "output_type": "stream",
     "text": [
      "This notebook was run with herschelhelp_internal version: \n",
      "0246c5d (Thu Jan 25 17:01:47 2018 +0000) [with local modifications]\n",
      "This notebook was executed on: \n",
      "2018-02-21 21:17:54.577861\n"
     ]
    }
   ],
   "source": [
    "from herschelhelp_internal import git_version\n",
    "print(\"This notebook was run with herschelhelp_internal version: \\n{}\".format(git_version()))\n",
    "import datetime\n",
    "print(\"This notebook was executed on: \\n{}\".format(datetime.datetime.now()))"
   ]
  },
  {
   "cell_type": "code",
   "execution_count": 2,
   "metadata": {},
   "outputs": [],
   "source": [
    "%matplotlib inline\n",
    "#%config InlineBackend.figure_format = 'svg'\n",
    "\n",
    "import matplotlib.pyplot as plt\n",
    "plt.rc('figure', figsize=(10, 6))\n",
    "\n",
    "import os\n",
    "import time\n",
    "\n",
    "from astropy import units as u\n",
    "from astropy.coordinates import SkyCoord\n",
    "from astropy.table import Column, Table\n",
    "import numpy as np\n",
    "from pymoc import MOC\n",
    "\n",
    "from herschelhelp_internal.masterlist import merge_catalogues, nb_merge_dist_plot, specz_merge\n",
    "from herschelhelp_internal.utils import coords_to_hpidx, ebv, gen_help_id, inMoc"
   ]
  },
  {
   "cell_type": "code",
   "execution_count": 3,
   "metadata": {
    "collapsed": true
   },
   "outputs": [],
   "source": [
    "TMP_DIR = os.environ.get('TMP_DIR', \"./data_tmp\")\n",
    "OUT_DIR = os.environ.get('OUT_DIR', \"./data\")\n",
    "SUFFIX = os.environ.get('SUFFIX', time.strftime(\"_%Y%m%d\"))\n",
    "\n",
    "try:\n",
    "    os.makedirs(OUT_DIR)\n",
    "except FileExistsError:\n",
    "    pass"
   ]
  },
  {
   "cell_type": "markdown",
   "metadata": {},
   "source": [
    "## I - Reading the prepared pristine catalogues"
   ]
  },
  {
   "cell_type": "code",
   "execution_count": 4,
   "metadata": {
    "collapsed": true
   },
   "outputs": [],
   "source": [
    "atlas = Table.read(\"{}/ATLAS.fits\".format(TMP_DIR))\n",
    "kids = Table.read(\"{}/KIDS.fits\".format(TMP_DIR))\n"
   ]
  },
  {
   "cell_type": "markdown",
   "metadata": {},
   "source": [
    "## II - Merging tables\n",
    "\n"
   ]
  },
  {
   "cell_type": "markdown",
   "metadata": {},
   "source": [
    "### ATLAS"
   ]
  },
  {
   "cell_type": "code",
   "execution_count": 5,
   "metadata": {
    "collapsed": true
   },
   "outputs": [],
   "source": [
    "master_catalogue = atlas\n",
    "master_catalogue['atlas_ra'].name = 'ra'\n",
    "master_catalogue['atlas_dec'].name = 'dec'"
   ]
  },
  {
   "cell_type": "markdown",
   "metadata": {},
   "source": [
    "### Add KIDS"
   ]
  },
  {
   "cell_type": "code",
   "execution_count": 6,
   "metadata": {},
   "outputs": [
    {
     "data": {
      "image/png": "[encoded data removed]",
      "text/plain": [
       "<matplotlib.figure.Figure at 0x7f5c6f5d35c0>"
      ]
     },
     "metadata": {},
     "output_type": "display_data"
    }
   ],
   "source": [
    "nb_merge_dist_plot(\n",
    "    SkyCoord(master_catalogue['ra'], master_catalogue['dec']),\n",
    "    SkyCoord(kids['kids_ra'], kids['kids_dec'])\n",
    ")"
   ]
  },
  {
   "cell_type": "code",
   "execution_count": 7,
   "metadata": {
    "collapsed": true
   },
   "outputs": [],
   "source": [
    "# Given the graph above, we use 0.8 arc-second radius\n",
    "master_catalogue = merge_catalogues(master_catalogue, kids, \"kids_ra\", \"kids_dec\", radius=0.8*u.arcsec)"
   ]
  },
  {
   "cell_type": "code",
   "execution_count": 8,
   "metadata": {
    "collapsed": true
   },
   "outputs": [],
   "source": [
    "master_catalogue.add_column(Column(data=(np.char.array(master_catalogue['kids_id'].astype(str)) \n",
    "                                    +  np.char.array(master_catalogue['atlas_id'].astype(str) )), \n",
    "                              name=\"omegacam_intid\"))"
   ]
  },
  {
   "cell_type": "markdown",
   "metadata": {},
   "source": [
    "## Cleaning"
   ]
  },
  {
   "cell_type": "code",
   "execution_count": 9,
   "metadata": {
    "collapsed": true
   },
   "outputs": [],
   "source": [
    "for col in master_catalogue.colnames:\n",
    "    if \"m_\" in col or \"merr_\" in col or \"f_\" in col or \"ferr_\" in col or \"stellarity\" in col:\n",
    "        master_catalogue[col].fill_value = np.nan\n",
    "    elif \"flag\" in col:\n",
    "        master_catalogue[col].fill_value = 0\n",
    "    elif \"id\" in col:\n",
    "        master_catalogue[col].fill_value = -1\n",
    "        \n",
    "master_catalogue = master_catalogue.filled()"
   ]
  },
  {
   "cell_type": "markdown",
   "metadata": {},
   "source": [
    "## VI - Choosing between multiple values for the same filter\n",
    "\n",
    "### ATLAS and KIDS\n",
    "The ATLAS and KIDS surveys are both on the VLT Survey Telescope (VST). KIDS is significantly deeper so we take KIDS fluxes if available.\n",
    "\n",
    "| Survey      | Bands observed   |\n",
    "|-------------|------------------|\n",
    "| ATLAS       | u, ul, griz      |\n",
    "| KIDS        | ugri             |\n"
   ]
  },
  {
   "cell_type": "code",
   "execution_count": 10,
   "metadata": {
    "collapsed": true
   },
   "outputs": [],
   "source": [
    "omegacam_origin = Table()\n",
    "omegacam_origin.add_column(master_catalogue['omegacam_intid'])"
   ]
  },
  {
   "cell_type": "code",
   "execution_count": 11,
   "metadata": {
    "collapsed": true
   },
   "outputs": [
    {
     "name": "stderr",
     "output_type": "stream",
     "text": [
      "/opt/anaconda3/envs/herschelhelp_internal/lib/python3.6/site-packages/numpy/core/numeric.py:301: FutureWarning: in the future, full(4, 0) will return an array of dtype('int64')\n",
      "  format(shape, fill_value, array(fill_value).dtype), FutureWarning)\n"
     ]
    }
   ],
   "source": [
    "omegacam_stats = Table()\n",
    "omegacam_stats.add_column(Column(data=['u', 'g','r','i'], name=\"Band\"))\n",
    "for col in [\"ATLAS\",  \"KIDS\"]:\n",
    "    omegacam_stats.add_column(Column(data=np.full(4, 0), name=\"{}\".format(col)))\n",
    "    omegacam_stats.add_column(Column(data=np.full(4, 0), name=\"use {}\".format(col)))\n",
    "    omegacam_stats.add_column(Column(data=np.full(4, 0), name=\"{} ap\".format(col)))\n",
    "    omegacam_stats.add_column(Column(data=np.full(4, 0), name=\"use {} ap\".format(col)))\n",
    "    \n",
    "#ul and z only in ATLAS so we can just rename those columns\n",
    "for col in master_catalogue.colnames:\n",
    "    if ('atlas_ul' in col) or ('atlas_z' in col):\n",
    "        master_catalogue[col].name = col.replace('atlas', 'omegacam')"
   ]
  },
  {
   "cell_type": "code",
   "execution_count": 12,
   "metadata": {
    "collapsed": true
   },
   "outputs": [],
   "source": [
    "omegacam_bands = ['u','g','r','i']\n",
    "for band in omegacam_bands:\n",
    "\n",
    "    # omegacam total flux \n",
    "    has_kids = ~np.isnan(master_catalogue['f_kids_' + band])\n",
    "    has_atlas  = ~np.isnan(master_catalogue['f_atlas_' + band])\n",
    "\n",
    "    \n",
    "\n",
    "    use_kids = has_kids\n",
    "    use_atlas = has_atlas & ~has_kids\n",
    "\n",
    "\n",
    "    f_omegacam = np.full(len(master_catalogue), np.nan)\n",
    "    f_omegacam[use_kids] = master_catalogue['f_kids_' + band][use_kids]\n",
    "    f_omegacam[use_atlas] = master_catalogue['f_atlas_' + band][use_atlas]\n",
    "  \n",
    "\n",
    "    ferr_omegacam = np.full(len(master_catalogue), np.nan)\n",
    "    ferr_omegacam[use_kids] = master_catalogue['ferr_kids_' + band][use_kids]\n",
    "    ferr_omegacam[use_atlas] = master_catalogue['ferr_atlas_' + band][use_atlas]\n",
    "\n",
    "    \n",
    "    m_omegacam = np.full(len(master_catalogue), np.nan)\n",
    "    m_omegacam[use_kids] = master_catalogue['m_kids_' + band][use_kids]\n",
    "    m_omegacam[use_atlas] = master_catalogue['m_atlas_' + band][use_atlas]\n",
    "   \n",
    "\n",
    "    merr_omegacam = np.full(len(master_catalogue), np.nan)\n",
    "    merr_omegacam[use_kids] = master_catalogue['merr_kids_' + band][use_kids]\n",
    "    merr_omegacam[use_atlas] = master_catalogue['merr_atlas_' + band][use_atlas]\n",
    "\n",
    "\n",
    "    flag_omegacam = np.full(len(master_catalogue), False, dtype=bool)\n",
    "    flag_omegacam[use_kids] = master_catalogue['flag_kids_' + band][use_kids]\n",
    "    flag_omegacam[use_atlas] = master_catalogue['flag_atlas_' + band][use_atlas]\n",
    "\n",
    "\n",
    "    master_catalogue.add_column(Column(data=f_omegacam, name=\"f_omegacam_\" + band))\n",
    "    master_catalogue.add_column(Column(data=ferr_omegacam, name=\"ferr_omegacam_\" + band))\n",
    "    master_catalogue.add_column(Column(data=m_omegacam, name=\"m_omegacam_\" + band))\n",
    "    master_catalogue.add_column(Column(data=merr_omegacam, name=\"merr_omegacam_\" + band))\n",
    "    master_catalogue.add_column(Column(data=flag_omegacam, name=\"flag_omegacam_\" + band))\n",
    "\n",
    "    old_kids_columns = ['f_kids_' + band,\n",
    "                               'ferr_kids_' + band,\n",
    "                               'm_kids_' + band, \n",
    "                               'merr_kids_' + band,\n",
    "                               'flag_kids_' + band]\n",
    "    old_atlas_columns = ['f_atlas_' + band,\n",
    "                               'ferr_atlas_' + band,\n",
    "                               'm_atlas_' + band, \n",
    "                               'merr_atlas_' + band,\n",
    "                               'flag_atlas_' + band]\n",
    "\n",
    "    \n",
    "    old_columns = old_kids_columns + old_atlas_columns \n",
    "    master_catalogue.remove_columns(old_columns)\n",
    "\n",
    "    origin = np.full(len(master_catalogue), '     ', dtype='<U5')\n",
    "    origin[use_kids] = \"kids\"\n",
    "    origin[use_atlas] = \"atlas\"\n",
    "   \n",
    "    \n",
    "    omegacam_origin.add_column(Column(data=origin, name= 'f_omegacam_' + band ))\n",
    "    \n",
    "  \n",
    "    # omegacam aperture flux \n",
    "    has_ap_kids = ~np.isnan(master_catalogue['f_ap_kids_' + band])\n",
    "    has_ap_atlas  = ~np.isnan(master_catalogue['f_ap_atlas_' + band])\n",
    "  \n",
    "    \n",
    "\n",
    "    use_ap_kids = has_ap_kids\n",
    "    use_ap_atlas = has_ap_atlas & ~has_ap_kids\n",
    "\n",
    "\n",
    "    f_ap_omegacam = np.full(len(master_catalogue), np.nan)\n",
    "    f_ap_omegacam[use_ap_kids] = master_catalogue['f_ap_kids_' + band][use_ap_kids]\n",
    "    f_ap_omegacam[use_ap_atlas] = master_catalogue['f_ap_atlas_' + band][use_ap_atlas]\n",
    "  \n",
    "\n",
    "    ferr_ap_omegacam = np.full(len(master_catalogue), np.nan)\n",
    "    ferr_ap_omegacam[use_ap_kids] = master_catalogue['ferr_ap_kids_' + band][use_ap_kids]\n",
    "    ferr_ap_omegacam[use_ap_atlas] = master_catalogue['ferr_ap_atlas_' + band][use_ap_atlas]\n",
    "   \n",
    "    \n",
    "    m_ap_omegacam = np.full(len(master_catalogue), np.nan)\n",
    "    m_ap_omegacam[use_ap_kids] = master_catalogue['m_ap_kids_' + band][use_ap_kids]\n",
    "    m_ap_omegacam[use_ap_atlas] = master_catalogue['m_ap_atlas_' + band][use_ap_atlas]\n",
    "   \n",
    "\n",
    "    merr_ap_omegacam = np.full(len(master_catalogue), np.nan)\n",
    "    merr_ap_omegacam[use_ap_kids] = master_catalogue['merr_ap_kids_' + band][use_ap_kids]\n",
    "    merr_ap_omegacam[use_ap_atlas] = master_catalogue['merr_ap_atlas_' + band][use_ap_atlas]\n",
    "\n",
    "\n",
    "\n",
    "    master_catalogue.add_column(Column(data=f_ap_omegacam, name=\"f_ap_omegacam_\" + band))\n",
    "    master_catalogue.add_column(Column(data=ferr_ap_omegacam, name=\"ferr_ap_omegacam_\" + band))\n",
    "    master_catalogue.add_column(Column(data=m_ap_omegacam, name=\"m_ap_omegacam_\" + band))\n",
    "    master_catalogue.add_column(Column(data=merr_ap_omegacam, name=\"merr_ap_omegacam_\" + band))\n",
    "\n",
    "\n",
    "    old_ap_kids_columns = ['f_ap_kids_' + band,\n",
    "                               'ferr_ap_kids_' + band,\n",
    "                               'm_ap_kids_' + band, \n",
    "                               'merr_ap_kids_' + band]\n",
    "    old_ap_atlas_columns = ['f_ap_atlas_' + band,\n",
    "                               'ferr_ap_atlas_' + band,\n",
    "                               'm_ap_atlas_' + band, \n",
    "                               'merr_ap_atlas_' + band]\n",
    "\n",
    "    \n",
    "    old_ap_columns = old_ap_kids_columns + old_ap_atlas_columns \n",
    "    master_catalogue.remove_columns(old_ap_columns)\n",
    "\n",
    "    origin_ap = np.full(len(master_catalogue), '     ', dtype='<U5')\n",
    "    origin_ap[use_ap_kids] = \"kids\"\n",
    "    origin_ap[use_ap_atlas] = \"atlas\"\n",
    "  \n",
    "    \n",
    "    omegacam_origin.add_column(Column(data=origin_ap, name= 'f_ap_omegacam_' + band ))\n",
    "\n",
    "   \n",
    "    omegacam_stats['KIDS'][omegacam_stats['Band'] == band] = np.sum(has_kids)\n",
    "    omegacam_stats['ATLAS'][omegacam_stats['Band'] == band] = np.sum(has_atlas)\n",
    "\n",
    "    omegacam_stats['use KIDS'][omegacam_stats['Band'] == band] = np.sum(use_kids)\n",
    "    omegacam_stats['use ATLAS'][omegacam_stats['Band'] == band] = np.sum(use_atlas)\n",
    "\n",
    "    omegacam_stats['KIDS ap'][omegacam_stats['Band'] == band] = np.sum(has_ap_kids)\n",
    "    omegacam_stats['ATLAS ap'][omegacam_stats['Band'] == band] = np.sum(has_ap_atlas)\n",
    "   \n",
    "    omegacam_stats['use KIDS ap'][omegacam_stats['Band'] == band] = np.sum(use_ap_kids)\n",
    "    omegacam_stats['use ATLAS ap'][omegacam_stats['Band'] == band] = np.sum(use_ap_atlas)"
   ]
  },
  {
   "cell_type": "code",
   "execution_count": 13,
   "metadata": {},
   "outputs": [
    {
     "data": {
      "text/html": [
       "&lt;Table length=4&gt;\n",
       "<table id=\"table140034982081536-312780\" class=\"table-striped table-bordered table-condensed\">\n",
       "<thead><tr><th>idx</th><th>Band</th><th>ATLAS</th><th>use ATLAS</th><th>ATLAS ap</th><th>use ATLAS ap</th><th>KIDS</th><th>use KIDS</th><th>KIDS ap</th><th>use KIDS ap</th></tr></thead>\n",
       "<tr><td>0</td><td>u</td><td>1050318.0</td><td>895887.0</td><td>916026.0</td><td>761965.0</td><td>6705188.0</td><td>6705188.0</td><td>6705188.0</td><td>6705188.0</td></tr>\n",
       "<tr><td>1</td><td>g</td><td>3618643.0</td><td>2658537.0</td><td>3580843.0</td><td>2620748.0</td><td>8819714.0</td><td>8819714.0</td><td>8819714.0</td><td>8819714.0</td></tr>\n",
       "<tr><td>2</td><td>r</td><td>4487236.0</td><td>3372392.0</td><td>4469703.0</td><td>3354910.0</td><td>9604235.0</td><td>9604235.0</td><td>9604235.0</td><td>9604235.0</td></tr>\n",
       "<tr><td>3</td><td>i</td><td>4155027.0</td><td>3041240.0</td><td>4152537.0</td><td>3038758.0</td><td>8261916.0</td><td>8261916.0</td><td>8261916.0</td><td>8261916.0</td></tr>\n",
       "</table><style>table.dataTable {clear: both; width: auto !important; margin: 0 !important;}\n",
       ".dataTables_info, .dataTables_length, .dataTables_filter, .dataTables_paginate{\n",
       "display: inline-block; margin-right: 1em; }\n",
       ".paginate_button { margin-right: 5px; }\n",
       "</style>\n",
       "<script>\n",
       "require.config({paths: {\n",
       "    datatables: 'https://cdn.datatables.net/1.10.12/js/jquery.dataTables.min'\n",
       "}});\n",
       "require([\"datatables\"], function(){\n",
       "    console.log(\"$('#table140034982081536-312780').dataTable()\");\n",
       "    $('#table140034982081536-312780').dataTable({\n",
       "        \"order\": [],\n",
       "        \"iDisplayLength\": 50,\n",
       "        \"aLengthMenu\": [[10, 25, 50, 100, 500, 1000, -1], [10, 25, 50, 100, 500, 1000, 'All']],\n",
       "        \"pagingType\": \"full_numbers\"\n",
       "    });\n",
       "});\n",
       "</script>\n"
      ],
      "text/plain": [
       "<IPython.core.display.HTML object>"
      ]
     },
     "execution_count": 13,
     "metadata": {},
     "output_type": "execute_result"
    }
   ],
   "source": [
    "omegacam_stats.show_in_notebook()"
   ]
  },
  {
   "cell_type": "code",
   "execution_count": 14,
   "metadata": {
    "collapsed": true
   },
   "outputs": [],
   "source": [
    "omegacam_origin.write(\"{}/hatlas-sgp_omegacam_fluxes_origins{}.fits\".format(OUT_DIR, SUFFIX), overwrite=True)"
   ]
  },
  {
   "cell_type": "code",
   "execution_count": 15,
   "metadata": {
    "collapsed": true
   },
   "outputs": [],
   "source": [
    "#band ul is actually the same as u but measured in a different way. we remove it.\n",
    "for col in master_catalogue.colnames:\n",
    "    if col.endswith('_ul'):\n",
    "        master_catalogue.remove_column(col)\n",
    "        \n",
    "master_catalogue['flag_merged'].name = 'omegacam_flag_merged'"
   ]
  },
  {
   "cell_type": "markdown",
   "metadata": {},
   "source": [
    "## X - Saving the catalogue"
   ]
  },
  {
   "cell_type": "code",
   "execution_count": 16,
   "metadata": {
    "collapsed": true
   },
   "outputs": [],
   "source": [
    "columns = [\"help_id\", \"field\", \"ra\", \"dec\", \"hp_idx\"]\n",
    "\n",
    "bands = [column[5:] for column in master_catalogue.colnames if 'f_ap' in column]\n",
    "for band in bands:\n",
    "    columns += [\"f_ap_{}\".format(band), \"ferr_ap_{}\".format(band),\n",
    "                \"m_ap_{}\".format(band), \"merr_ap_{}\".format(band),\n",
    "                \"f_{}\".format(band), \"ferr_{}\".format(band),\n",
    "                \"m_{}\".format(band), \"merr_{}\".format(band),\n",
    "                \"flag_{}\".format(band)]    \n",
    "    \n",
    "columns += [\"stellarity\", \"flag_cleaned\", \"flag_merged\", \"flag_gaia\", \"flag_optnir_obs\", \"flag_optnir_det\", \"ebv\"]"
   ]
  },
  {
   "cell_type": "code",
   "execution_count": 17,
   "metadata": {},
   "outputs": [
    {
     "name": "stdout",
     "output_type": "stream",
     "text": [
      "Missing columns: {'atlas_flag_cleaned', 'omegacam_intid', 'atlas_flag_gaia', 'kids_id', 'kids_flag_gaia', 'kids_stellarity', 'kids_flag_cleaned', 'atlas_id', 'omegacam_flag_merged', 'atlas_stellarity'}\n"
     ]
    }
   ],
   "source": [
    "# We check for columns in the master catalogue that we will not save to disk.\n",
    "print(\"Missing columns: {}\".format(set(master_catalogue.colnames) - set(columns)))"
   ]
  },
  {
   "cell_type": "code",
   "execution_count": 18,
   "metadata": {
    "collapsed": true
   },
   "outputs": [],
   "source": [
    "master_catalogue['ra'].name = 'omegacam_ra'\n",
    "master_catalogue['dec'].name = 'omegacam_dec'\n",
    "master_catalogue.write(\"{}/omegacam_merged_hatlas-sgp.fits\".format(TMP_DIR), overwrite=True)"
   ]
  }
 ],
 "metadata": {
  "kernelspec": {
   "display_name": "Python (herschelhelp_internal)",
   "language": "python",
   "name": "helpint"
  },
  "language_info": {
   "codemirror_mode": {
    "name": "ipython",
    "version": 3
   },
   "file_extension": ".py",
   "mimetype": "text/x-python",
   "name": "python",
   "nbconvert_exporter": "python",
   "pygments_lexer": "ipython3",
   "version": "3.6.1"
  }
 },
 "nbformat": 4,
 "nbformat_minor": 2
}
