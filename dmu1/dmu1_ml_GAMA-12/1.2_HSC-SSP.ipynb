{
 "cells": [
  {
   "cell_type": "markdown",
   "metadata": {},
   "source": [
    "# GAMA-12 master catalogue\n",
    "## Preparation of Hyper Suprime-Cam Subaru Strategic Program Catalogues (HSC-SSP) data\n",
    "\n",
    "This catalogue comes from `dmu0_HSC`.\n",
    "\n",
    "In the catalogue, we keep:\n",
    "\n",
    "- The `object_id` as unique object identifier;\n",
    "- The position;\n",
    "- The g, r, i, z, y (no N921) aperture magnitude in 2” that we aperture correct;\n",
    "- The g, r, i, z, y (no N921) kron fluxes and magnitudes.\n",
    "- The extended flag that we convert to a stellariy.\n",
    "\n",
    "**Note**: On ELAIS-N1 the HSC-SSP catalogue does not contain any N816 magnitudes.\n",
    "\n",
    "We use 2016 as the epoch."
   ]
  },
  {
   "cell_type": "code",
   "execution_count": null,
   "metadata": {},
   "outputs": [],
   "source": [
    "from herschelhelp_internal import git_version\n",
    "print(\"This notebook was run with herschelhelp_internal version: \\n{}\".format(git_version()))"
   ]
  },
  {
   "cell_type": "code",
   "execution_count": null,
   "metadata": {
    "collapsed": true
   },
   "outputs": [],
   "source": [
    "%matplotlib inline\n",
    "#%config InlineBackend.figure_format = 'svg'\n",
    "\n",
    "import matplotlib.pyplot as plt\n",
    "plt.rc('figure', figsize=(10, 6))\n",
    "plt.style.use('ggplot')\n",
    "\n",
    "from collections import OrderedDict\n",
    "import os\n",
    "\n",
    "from astropy import units as u\n",
    "from astropy import visualization as vis\n",
    "from astropy.coordinates import SkyCoord\n",
    "from astropy.table import Column, Table\n",
    "import numpy as np\n",
    "\n",
    "from herschelhelp_internal.flagging import  gaia_flag_column\n",
    "from herschelhelp_internal.masterlist import nb_astcor_diag_plot, nb_plot_mag_ap_evol, \\\n",
    "    nb_plot_mag_vs_apcor, remove_duplicates\n",
    "from herschelhelp_internal.utils import astrometric_correction, mag_to_flux, aperture_correction"
   ]
  },
  {
   "cell_type": "code",
   "execution_count": null,
   "metadata": {
    "collapsed": true
   },
   "outputs": [],
   "source": [
    "OUT_DIR =  os.environ.get('TMP_DIR', \"./data_tmp\")\n",
    "try:\n",
    "    os.makedirs(OUT_DIR)\n",
    "except FileExistsError:\n",
    "    pass\n",
    "\n",
    "RA_COL = \"hsc_ra\"\n",
    "DEC_COL = \"hsc_dec\""
   ]
  },
  {
   "cell_type": "code",
   "execution_count": null,
   "metadata": {
    "collapsed": true
   },
   "outputs": [],
   "source": [
    "# Pritine HSC catalogue\n",
    "orig_hsc = Table.read(\"../../dmu0/dmu0_HSC/data/HSC-PDR1_wide_GAMA-12.fits\")"
   ]
  },
  {
   "cell_type": "markdown",
   "metadata": {},
   "source": [
    "## I - Aperture correction\n",
    "\n",
    "To compute aperture correction we need to dertermine two parametres: the target aperture and the range of magnitudes for the stars that will be used to compute the correction.\n",
    "\n",
    "**Target aperture**: To determine the target aperture, we simulate a curve of growth using the provided apertures and draw two figures:\n",
    "\n",
    "- The evolution of the magnitudes of the objects by plotting on the same plot aperture number vs the mean magnitude.\n",
    "- The mean gain (loss when negative) of magnitude is each aperture compared to the previous (except for the first of course).\n",
    "\n",
    "As target aperture, we should use the smallest (i.e. less noisy) aperture for which most of the flux is captures.\n",
    "\n",
    "**Magnitude range**: To know what limits in aperture to use when doing the aperture correction, we plot for each magnitude bin the correction that is computed and its RMS. We should then use the wide limits (to use more stars) where the correction is stable and with few dispersion."
   ]
  },
  {
   "cell_type": "code",
   "execution_count": null,
   "metadata": {},
   "outputs": [],
   "source": [
    "bands = [\"g\", \"r\", \"i\", \"z\", \"y\"] #, \"n921\"]\n",
    "apertures = [\"10\", \"15\", \"20\", \"30\", \"40\", \"57\", \"84\", \"118\", \"168\", \"235\"]\n",
    "\n",
    "magnitudes = {}\n",
    "magnitude_errors ={}\n",
    "stellarities = {}\n",
    "\n",
    "for band in bands:\n",
    "    magnitudes[band] = np.array(\n",
    "        [orig_hsc[\"{}mag_aperture{}\".format(band, aperture)] for aperture in apertures]\n",
    "    )\n",
    "    # Some sources have an infinite magnitude\n",
    "    mask = np.isinf(magnitudes[band])\n",
    "    magnitudes[band][mask] = np.nan\n",
    "    try:\n",
    "        magnitude_errors[band] = np.array(\n",
    "        [orig_hsc[\"{}mag_aperture{}_err\".format(band, aperture)] for aperture in apertures]\n",
    "        )\n",
    "        magnitude_errors[band][mask] = np.nan\n",
    "    except KeyError:\n",
    "        print(\"No error column for a \" + band + \" band aperture magnitude.\")\n",
    "        \n",
    "    stellarities[band] = 1 - np.array(orig_hsc[\"{}classification_extendedness\".format(band)])\n",
    "    \n",
    "mag_corr = {}"
   ]
  },
  {
   "cell_type": "markdown",
   "metadata": {},
   "source": [
    "### I.a - g band"
   ]
  },
  {
   "cell_type": "code",
   "execution_count": null,
   "metadata": {},
   "outputs": [],
   "source": [
    "nb_plot_mag_ap_evol(magnitudes['g'], stellarities['g'], labels=apertures)"
   ]
  },
  {
   "cell_type": "markdown",
   "metadata": {},
   "source": [
    "We will use aperture 40 as target."
   ]
  },
  {
   "cell_type": "code",
   "execution_count": null,
   "metadata": {},
   "outputs": [],
   "source": [
    "nb_plot_mag_vs_apcor(orig_hsc['gmag_aperture20'], orig_hsc['gmag_aperture40'], stellarities['g'])"
   ]
  },
  {
   "cell_type": "markdown",
   "metadata": {},
   "source": [
    "We will use magnitudes between 18.5 and 20.8"
   ]
  },
  {
   "cell_type": "code",
   "execution_count": null,
   "metadata": {},
   "outputs": [],
   "source": [
    "# Aperture correction\n",
    "mag_corr['g'], num, std = aperture_correction(\n",
    "    orig_hsc['gmag_aperture20'], orig_hsc['gmag_aperture40'], \n",
    "    stellarities['g'],\n",
    "    mag_min=18.5, mag_max=20.8)\n",
    "print(\"Aperture correction for g band:\")\n",
    "print(\"Correction: {}\".format(mag_corr['g']))\n",
    "print(\"Number of source used: {}\".format(num))\n",
    "print(\"RMS: {}\".format(std))"
   ]
  },
  {
   "cell_type": "markdown",
   "metadata": {},
   "source": [
    "### I.b - r band"
   ]
  },
  {
   "cell_type": "code",
   "execution_count": null,
   "metadata": {},
   "outputs": [],
   "source": [
    "nb_plot_mag_ap_evol(magnitudes['r'], stellarities['r'], labels=apertures)"
   ]
  },
  {
   "cell_type": "markdown",
   "metadata": {},
   "source": [
    "We will use aperture 40 as target."
   ]
  },
  {
   "cell_type": "code",
   "execution_count": null,
   "metadata": {},
   "outputs": [],
   "source": [
    "nb_plot_mag_vs_apcor(orig_hsc['rmag_aperture20'], orig_hsc['rmag_aperture40'], stellarities['r'])"
   ]
  },
  {
   "cell_type": "markdown",
   "metadata": {},
   "source": [
    "We use magnitudes between 17.6 and 19.7."
   ]
  },
  {
   "cell_type": "code",
   "execution_count": null,
   "metadata": {},
   "outputs": [],
   "source": [
    "# Aperture correction\n",
    "mag_corr['r'], num, std = aperture_correction(\n",
    "    orig_hsc['rmag_aperture20'], orig_hsc['rmag_aperture40'], \n",
    "    stellarities['r'],\n",
    "    mag_min=17.6, mag_max=19.7)\n",
    "print(\"Aperture correction for r band:\")\n",
    "print(\"Correction: {}\".format(mag_corr['r']))\n",
    "print(\"Number of source used: {}\".format(num))\n",
    "print(\"RMS: {}\".format(std))"
   ]
  },
  {
   "cell_type": "markdown",
   "metadata": {},
   "source": [
    "### I.c - i band"
   ]
  },
  {
   "cell_type": "code",
   "execution_count": null,
   "metadata": {},
   "outputs": [],
   "source": [
    "nb_plot_mag_ap_evol(magnitudes['i'], stellarities['i'], labels=apertures)"
   ]
  },
  {
   "cell_type": "markdown",
   "metadata": {},
   "source": [
    "We will use aperture 40 as target."
   ]
  },
  {
   "cell_type": "code",
   "execution_count": null,
   "metadata": {},
   "outputs": [],
   "source": [
    "nb_plot_mag_vs_apcor(orig_hsc['imag_aperture20'], orig_hsc['imag_aperture40'], stellarities['i'])"
   ]
  },
  {
   "cell_type": "markdown",
   "metadata": {},
   "source": [
    "We use magnitudes between 18.5 and 19.8."
   ]
  },
  {
   "cell_type": "code",
   "execution_count": null,
   "metadata": {},
   "outputs": [],
   "source": [
    "# Aperture correction\n",
    "mag_corr['i'], num, std = aperture_correction(\n",
    "    orig_hsc['imag_aperture20'], orig_hsc['imag_aperture40'], \n",
    "    stellarities['i'],\n",
    "    mag_min=18.5, mag_max=19.8)\n",
    "print(\"Aperture correction for i band:\")\n",
    "print(\"Correction: {}\".format(mag_corr['i']))\n",
    "print(\"Number of source used: {}\".format(num))\n",
    "print(\"RMS: {}\".format(std))"
   ]
  },
  {
   "cell_type": "markdown",
   "metadata": {},
   "source": [
    "### I.d - z band"
   ]
  },
  {
   "cell_type": "code",
   "execution_count": null,
   "metadata": {},
   "outputs": [],
   "source": [
    "nb_plot_mag_ap_evol(magnitudes['z'], stellarities['z'], labels=apertures)"
   ]
  },
  {
   "cell_type": "markdown",
   "metadata": {},
   "source": [
    "We will use aperture 40 as target."
   ]
  },
  {
   "cell_type": "code",
   "execution_count": null,
   "metadata": {},
   "outputs": [],
   "source": [
    "nb_plot_mag_vs_apcor(orig_hsc['zmag_aperture20'], orig_hsc['zmag_aperture40'], stellarities['z'])"
   ]
  },
  {
   "cell_type": "markdown",
   "metadata": {},
   "source": [
    "We use magnitudes between 17.5 and 19.8."
   ]
  },
  {
   "cell_type": "code",
   "execution_count": null,
   "metadata": {},
   "outputs": [],
   "source": [
    "# Aperture correction\n",
    "mag_corr['z'], num, std = aperture_correction(\n",
    "    orig_hsc['zmag_aperture20'], orig_hsc['zmag_aperture40'], \n",
    "    stellarities['z'],\n",
    "    mag_min=17.5, mag_max=19.8)\n",
    "print(\"Aperture correction for z band:\")\n",
    "print(\"Correction: {}\".format(mag_corr['z']))\n",
    "print(\"Number of source used: {}\".format(num))\n",
    "print(\"RMS: {}\".format(std))"
   ]
  },
  {
   "cell_type": "markdown",
   "metadata": {},
   "source": [
    "### I.e - y band"
   ]
  },
  {
   "cell_type": "code",
   "execution_count": null,
   "metadata": {},
   "outputs": [],
   "source": [
    "nb_plot_mag_ap_evol(magnitudes['y'], stellarities['y'], labels=apertures)"
   ]
  },
  {
   "cell_type": "markdown",
   "metadata": {},
   "source": [
    "We will use aperture 40 as target."
   ]
  },
  {
   "cell_type": "code",
   "execution_count": null,
   "metadata": {},
   "outputs": [],
   "source": [
    "nb_plot_mag_vs_apcor(orig_hsc['ymag_aperture20'], orig_hsc['ymag_aperture40'], stellarities['y'])"
   ]
  },
  {
   "cell_type": "markdown",
   "metadata": {},
   "source": [
    "We use magnitudes between 17 and 18.7."
   ]
  },
  {
   "cell_type": "code",
   "execution_count": null,
   "metadata": {},
   "outputs": [],
   "source": [
    "# Aperture correction\n",
    "mag_corr['y'], num, std = aperture_correction(\n",
    "    orig_hsc['ymag_aperture20'], orig_hsc['ymag_aperture40'], \n",
    "    stellarities['y'],\n",
    "    mag_min=17, mag_max=18.7)\n",
    "print(\"Aperture correction for y band:\")\n",
    "print(\"Correction: {}\".format(mag_corr['y']))\n",
    "print(\"Number of source used: {}\".format(num))\n",
    "print(\"RMS: {}\".format(std))"
   ]
  },
  {
   "cell_type": "markdown",
   "metadata": {},
   "source": [
    "## II - Stellarity\n",
    "\n",
    "HSC does not provide a 0 to 1 stellarity value but a 0/1 extended flag in each band. We are using the same method as UKIDSS ([cf this page](http://wsa.roe.ac.uk/www/gloss_p.html#dxssource_pstar)) to compute a stellarity based on the class in each band:\n",
    "\n",
    "\\begin{equation*}\n",
    "P(star) = \\frac{ \\prod_{i} P(star)_i }{ \\prod_{i} P(star)_i + \\prod_{i} P(galaxy)_i }\n",
    "\\end{equation*}\n",
    "\n",
    "where $i$ is the band, and with using the same probabilities as UKDISS:\n",
    "\n",
    "| HSC flag | UKIDSS flag | Meaning         | P(star) | P(galaxy) | P(noise) | P(saturated) |\n",
    "|:--------:|:-----------:|:----------------|--------:|----------:|---------:|-------------:|\n",
    "|          |      -9     | Saturated       |     0.0 |       0.0 |      5.0 |         95.0 |\n",
    "|          |      -3     | Probable galaxy |    25.0 |      70.0 |      5.0 |          0.0 |\n",
    "|          |      -2     | Probable star   |    70.0 |      25.0 |      5.0 |          0.0 |\n",
    "|     0    |      -1     | Star            |    90.0 |       5.0 |      5.0 |          0.0 |\n",
    "|          |      0      | Noise           |     5.0 |       5.0 |     90.0 |          0.0 |\n",
    "|     1    |      +1     | Galaxy          |     5.0 |      90.0 |      5.0 |          0.0 |"
   ]
  },
  {
   "cell_type": "code",
   "execution_count": null,
   "metadata": {
    "collapsed": true
   },
   "outputs": [],
   "source": [
    "# We are creating an array containing the extended flag in all band.\n",
    "# Some sources have no flag in some band, there will be NaN in the array.\n",
    "hsc_ext_flag = np.array([\n",
    "    orig_hsc[colname] for colname in \n",
    "    ['gclassification_extendedness',\n",
    "     'rclassification_extendedness',\n",
    "     'iclassification_extendedness',\n",
    "     'zclassification_extendedness',\n",
    "     'yclassification_extendedness']\n",
    "])"
   ]
  },
  {
   "cell_type": "code",
   "execution_count": null,
   "metadata": {
    "collapsed": true
   },
   "outputs": [],
   "source": [
    "hsc_pstar = 0.9 * (hsc_ext_flag == 0) + 0.05 * (hsc_ext_flag == 1)\n",
    "hsc_pgal = 0.05 * (hsc_ext_flag == 0) + 0.9 * (hsc_ext_flag == 1)\n",
    "\n",
    "# We put back the NaN values\n",
    "hsc_pstar[np.isnan(hsc_ext_flag)] = np.nan\n",
    "hsc_pgal[np.isnan(hsc_ext_flag)] = np.nan"
   ]
  },
  {
   "cell_type": "code",
   "execution_count": null,
   "metadata": {
    "collapsed": true
   },
   "outputs": [],
   "source": [
    "stellarity = np.nanprod(hsc_pstar, axis=0) / np.nansum(\n",
    "    [np.nanprod(hsc_pgal, axis=0), np.nanprod(hsc_pstar, axis=0)], axis=0)\n",
    "\n",
    "stellarity = np.round(stellarity, 3)"
   ]
  },
  {
   "cell_type": "code",
   "execution_count": null,
   "metadata": {},
   "outputs": [],
   "source": [
    "vis.hist(stellarity, bins='scott');"
   ]
  },
  {
   "cell_type": "code",
   "execution_count": null,
   "metadata": {
    "collapsed": true
   },
   "outputs": [],
   "source": [
    "orig_hsc.add_column(Column(data=stellarity, name=\"stellarity\"))"
   ]
  },
  {
   "cell_type": "markdown",
   "metadata": {},
   "source": [
    "## II - Column selection"
   ]
  },
  {
   "cell_type": "code",
   "execution_count": null,
   "metadata": {
    "collapsed": true
   },
   "outputs": [],
   "source": [
    "imported_columns = OrderedDict({\n",
    "        \"object_id\": \"hsc_id\",\n",
    "        \"ra\": \"hsc_ra\",\n",
    "        \"dec\": \"hsc_dec\",\n",
    "        \"gmag_aperture20\": \"m_ap_suprime_g\",\n",
    "        \"gmag_aperture20_err\": \"merr_ap_suprime_g\",\n",
    "        \"gmag_kron\": \"m_suprime_g\",\n",
    "        \"gmag_kron_err\": \"merr_suprime_g\",\n",
    "        \"rmag_aperture20\": \"m_ap_suprime_r\",\n",
    "        \"rmag_aperture20_err\": \"merr_ap_suprime_r\",\n",
    "        \"rmag_kron\": \"m_suprime_r\",\n",
    "        \"rmag_kron_err\": \"merr_suprime_r\",\n",
    "        \"imag_aperture20\": \"m_ap_suprime_i\",\n",
    "        \"imag_aperture20_err\": \"merr_ap_suprime_i\",\n",
    "        \"imag_kron\": \"m_suprime_i\",\n",
    "        \"imag_kron_err\": \"merr_suprime_i\",\n",
    "        \"zmag_aperture20\": \"m_ap_suprime_z\",\n",
    "        \"zmag_aperture20_err\": \"merr_ap_suprime_z\",\n",
    "        \"zmag_kron\": \"m_suprime_z\",\n",
    "        \"zmag_kron_err\": \"merr_suprime_z\",\n",
    "        \"ymag_aperture20\": \"m_ap_suprime_y\",\n",
    "        \"ymag_aperture20_err\": \"merr_ap_suprime_y\",\n",
    "        \"ymag_kron\": \"m_suprime_y\",\n",
    "        \"ymag_kron_err\": \"merr_suprime_y\",\n",
    "        \"stellarity\": \"hsc_stellarity\"\n",
    "    })\n",
    "\n",
    "\n",
    "catalogue = orig_hsc[list(imported_columns)]\n",
    "for column in imported_columns:\n",
    "    catalogue[column].name = imported_columns[column]\n",
    "\n",
    "epoch = 2017\n",
    "\n",
    "# Clean table metadata\n",
    "catalogue.meta = None"
   ]
  },
  {
   "cell_type": "code",
   "execution_count": null,
   "metadata": {
    "collapsed": true
   },
   "outputs": [],
   "source": [
    "# Aperture correction\n",
    "for band in bands:\n",
    "    catalogue[\"m_ap_suprime_{}\".format(band)] += mag_corr[band]"
   ]
  },
  {
   "cell_type": "code",
   "execution_count": null,
   "metadata": {
    "collapsed": true
   },
   "outputs": [],
   "source": [
    "# Adding flux and band-flag columns\n",
    "for col in catalogue.colnames:\n",
    "    if col.startswith('m_'):\n",
    "        \n",
    "        errcol = \"merr{}\".format(col[1:])\n",
    "        flux, error = mag_to_flux(np.array(catalogue[col]), np.array(catalogue[errcol]))\n",
    "        \n",
    "        # Fluxes are added in µJy\n",
    "        catalogue.add_column(Column(flux * 1.e6, name=\"f{}\".format(col[1:])))\n",
    "        catalogue.add_column(Column(error * 1.e6, name=\"f{}\".format(errcol[1:])))\n",
    "        \n",
    "        # Band-flag column\n",
    "        if 'ap' not in col:\n",
    "            catalogue.add_column(Column(np.zeros(len(catalogue), dtype=bool), name=\"flag{}\".format(col[1:])))\n",
    "        \n",
    "# TODO: Set to True the flag columns for fluxes that should not be used for SED fitting."
   ]
  },
  {
   "cell_type": "code",
   "execution_count": null,
   "metadata": {},
   "outputs": [],
   "source": [
    "catalogue[:10].show_in_notebook()"
   ]
  },
  {
   "cell_type": "markdown",
   "metadata": {},
   "source": [
    "## III - Removal of duplicated sources"
   ]
  },
  {
   "cell_type": "markdown",
   "metadata": {},
   "source": [
    "We remove duplicated objects from the input catalogues."
   ]
  },
  {
   "cell_type": "code",
   "execution_count": null,
   "metadata": {},
   "outputs": [],
   "source": [
    "SORT_COLS = [\n",
    "        'merr_ap_suprime_i', 'merr_ap_suprime_r', 'merr_ap_suprime_z',\n",
    "        'merr_ap_suprime_y', 'merr_ap_suprime_g']\n",
    "FLAG_NAME = 'hsc_flag_cleaned'\n",
    "\n",
    "nb_orig_sources = len(catalogue)\n",
    "\n",
    "catalogue = remove_duplicates(\n",
    "    catalogue, RA_COL, DEC_COL, \n",
    "    sort_col= SORT_COLS,\n",
    "    flag_name=FLAG_NAME)\n",
    "\n",
    "nb_sources = len(catalogue)\n",
    "\n",
    "print(\"The initial catalogue had {} sources.\".format(nb_orig_sources))\n",
    "print(\"The cleaned catalogue has {} sources ({} removed).\".format(nb_sources, nb_orig_sources - nb_sources))\n",
    "print(\"The cleaned catalogue has {} sources flagged as having been cleaned\".format(np.sum(catalogue[FLAG_NAME])))"
   ]
  },
  {
   "cell_type": "markdown",
   "metadata": {},
   "source": [
    "## III - Astrometry correction\n",
    "\n",
    "We match the astrometry to the Gaia one. We limit the Gaia catalogue to sources with a g band flux between the 30th and the 70th percentile. Some quick tests show that this give the lower dispersion in the results."
   ]
  },
  {
   "cell_type": "code",
   "execution_count": null,
   "metadata": {
    "collapsed": true
   },
   "outputs": [],
   "source": [
    "gaia = Table.read(\"../../dmu0/dmu0_GAIA/data/GAIA_GAMA-12.fits\")\n",
    "gaia_coords = SkyCoord(gaia['ra'], gaia['dec'])"
   ]
  },
  {
   "cell_type": "code",
   "execution_count": null,
   "metadata": {},
   "outputs": [],
   "source": [
    "nb_astcor_diag_plot(catalogue[RA_COL], catalogue[DEC_COL], \n",
    "                    gaia_coords.ra, gaia_coords.dec)"
   ]
  },
  {
   "cell_type": "code",
   "execution_count": null,
   "metadata": {},
   "outputs": [],
   "source": [
    "delta_ra, delta_dec =  astrometric_correction(\n",
    "    SkyCoord(catalogue[RA_COL], catalogue[DEC_COL]),\n",
    "    gaia_coords\n",
    ")\n",
    "\n",
    "print(\"RA correction: {}\".format(delta_ra))\n",
    "print(\"Dec correction: {}\".format(delta_dec))"
   ]
  },
  {
   "cell_type": "code",
   "execution_count": null,
   "metadata": {
    "collapsed": true
   },
   "outputs": [],
   "source": [
    "catalogue[RA_COL] +=  delta_ra.to(u.deg)\n",
    "catalogue[DEC_COL] += delta_dec.to(u.deg)"
   ]
  },
  {
   "cell_type": "code",
   "execution_count": null,
   "metadata": {},
   "outputs": [],
   "source": [
    "nb_astcor_diag_plot(catalogue[RA_COL], catalogue[DEC_COL], \n",
    "                    gaia_coords.ra, gaia_coords.dec)"
   ]
  },
  {
   "cell_type": "markdown",
   "metadata": {},
   "source": [
    "## IV - Flagging Gaia objects"
   ]
  },
  {
   "cell_type": "code",
   "execution_count": null,
   "metadata": {
    "collapsed": true
   },
   "outputs": [],
   "source": [
    "catalogue.add_column(\n",
    "    gaia_flag_column(SkyCoord(catalogue[RA_COL], catalogue[DEC_COL]), epoch, gaia)\n",
    ")"
   ]
  },
  {
   "cell_type": "code",
   "execution_count": null,
   "metadata": {},
   "outputs": [],
   "source": [
    "GAIA_FLAG_NAME = \"hsc_flag_gaia\"\n",
    "\n",
    "catalogue['flag_gaia'].name = GAIA_FLAG_NAME\n",
    "print(\"{} sources flagged.\".format(np.sum(catalogue[GAIA_FLAG_NAME] > 0)))"
   ]
  },
  {
   "cell_type": "markdown",
   "metadata": {},
   "source": [
    "## V - Flagging objects near bright stars"
   ]
  },
  {
   "cell_type": "markdown",
   "metadata": {},
   "source": [
    "# VI - Saving to disk"
   ]
  },
  {
   "cell_type": "code",
   "execution_count": null,
   "metadata": {
    "collapsed": true
   },
   "outputs": [],
   "source": [
    "catalogue.write(\"{}/HSC-SSP.fits\".format(OUT_DIR), overwrite=True)"
   ]
  }
 ],
 "metadata": {
  "anaconda-cloud": {},
  "kernelspec": {
   "display_name": "Python (herschelhelp_internal)",
   "language": "python",
   "name": "helpint"
  },
  "language_info": {
   "codemirror_mode": {
    "name": "ipython",
    "version": 3
   },
   "file_extension": ".py",
   "mimetype": "text/x-python",
   "name": "python",
   "nbconvert_exporter": "python",
   "pygments_lexer": "ipython3",
   "version": "3.6.1"
  }
 },
 "nbformat": 4,
 "nbformat_minor": 1
}
