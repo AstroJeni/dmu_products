{
 "cells": [
  {
   "cell_type": "markdown",
   "metadata": {},
   "source": [
    "# GAMA-12 master catalogue\n",
    "## Preparation of DECam Legacy Survey data\n",
    "\n",
    "This catalogue comes from `dmu0_DECaLS`.\n",
    "\n",
    "In the catalogue, we keep:\n",
    "\n",
    "- The `object_id` as unique object identifier;\n",
    "- The position;\n",
    "- The g, r, i, z, Y aperture magnitude (2”);\n",
    "- The g, r, i, z, Y kron fluxes and magnitudes.\n"
   ]
  },
  {
   "cell_type": "code",
   "execution_count": null,
   "metadata": {},
   "outputs": [],
   "source": [
    "from herschelhelp_internal import git_version\n",
    "print(\"This notebook was run with herschelhelp_internal version: \\n{}\".format(git_version()))"
   ]
  },
  {
   "cell_type": "code",
   "execution_count": null,
   "metadata": {
    "collapsed": true
   },
   "outputs": [],
   "source": [
    "%matplotlib inline\n",
    "#%config InlineBackend.figure_format = 'svg'\n",
    "\n",
    "import matplotlib.pyplot as plt\n",
    "plt.rc('figure', figsize=(10, 6))\n",
    "\n",
    "from collections import OrderedDict\n",
    "import os\n",
    "\n",
    "from astropy import units as u\n",
    "from astropy.coordinates import SkyCoord\n",
    "from astropy.table import Column, Table\n",
    "import numpy as np\n",
    "\n",
    "from herschelhelp_internal.flagging import  gaia_flag_column\n",
    "from herschelhelp_internal.masterlist import nb_astcor_diag_plot, remove_duplicates\n",
    "from herschelhelp_internal.utils import astrometric_correction, flux_to_mag"
   ]
  },
  {
   "cell_type": "code",
   "execution_count": null,
   "metadata": {
    "collapsed": true
   },
   "outputs": [],
   "source": [
    "OUT_DIR =  os.environ.get('TMP_DIR', \"./data_tmp\")\n",
    "try:\n",
    "    os.makedirs(OUT_DIR)\n",
    "except FileExistsError:\n",
    "    pass\n",
    "\n",
    "RA_COL = \"decals_ra\"\n",
    "DEC_COL = \"decals_dec\""
   ]
  },
  {
   "cell_type": "markdown",
   "metadata": {},
   "source": [
    "## I - Column selection"
   ]
  },
  {
   "cell_type": "code",
   "execution_count": null,
   "metadata": {},
   "outputs": [],
   "source": [
    "imported_columns = OrderedDict({\n",
    "        \"objid\": \"decals_id\",\n",
    "        \"ra\": \"decals_ra\",\n",
    "        \"dec\": \"decals_dec\",\n",
    "        \"decam_flux\": \"decam_flux_TEMP\",\n",
    "        \"decam_flux_ivar\": \"decam_flux_ivar_TEMP\",\n",
    "        \"decam_apflux\": \"decam_apflux_TEMP\",\n",
    "        \"decam_apflux_ivar\": \"decam_apflux_ivar_TEMP\",\n",
    "       \n",
    "    })\n",
    "\n",
    "\n",
    "catalogue = Table.read(\"../../dmu0/dmu0_DECaLS/data/DECaLS_GAMA-12.fits\")[list(imported_columns)]\n",
    "for column in imported_columns:\n",
    "    catalogue[column].name = imported_columns[column]\n",
    "\n",
    "epoch = 2017\n",
    "\n",
    "catalogue.add_column(Column(catalogue[\"decam_flux_TEMP\"][:,0], name=\"f_decam_g\"))\n",
    "catalogue.add_column(Column(catalogue[\"decam_flux_TEMP\"][:,1], name=\"f_decam_r\"))\n",
    "catalogue.add_column(Column(catalogue[\"decam_flux_TEMP\"][:,2], name=\"f_decam_i\"))\n",
    "catalogue.add_column(Column(catalogue[\"decam_flux_TEMP\"][:,3], name=\"f_decam_z\"))\n",
    "catalogue.add_column(Column(catalogue[\"decam_flux_TEMP\"][:,4], name=\"f_decam_y\"))\n",
    "\n",
    "catalogue.add_column(Column(catalogue[\"decam_flux_ivar_TEMP\"][:,0], name=\"ferr_decam_g\"))\n",
    "catalogue.add_column(Column(catalogue[\"decam_flux_ivar_TEMP\"][:,1], name=\"ferr_decam_r\"))\n",
    "catalogue.add_column(Column(catalogue[\"decam_flux_ivar_TEMP\"][:,2], name=\"ferr_decam_i\"))\n",
    "catalogue.add_column(Column(catalogue[\"decam_flux_ivar_TEMP\"][:,3], name=\"ferr_decam_z\"))\n",
    "catalogue.add_column(Column(catalogue[\"decam_flux_ivar_TEMP\"][:,4], name=\"ferr_decam_y\"))\n",
    "\n",
    "#For the aperture fluxes, there are 8 (0-7), we take 4 (2.0\")\n",
    "#DECam aperture fluxes on the co-added images in apertures of radius [0.5,0.75,1.0,1.5,2.0,3.5,5.0,7.0] arcsec in ugrizY\n",
    "catalogue.add_column(Column(catalogue[\"decam_apflux_TEMP\"][:,0], name=\"f_ap_decam_g\")[:,4])\n",
    "catalogue.add_column(Column(catalogue[\"decam_apflux_TEMP\"][:,1], name=\"f_ap_decam_r\")[:,4])\n",
    "catalogue.add_column(Column(catalogue[\"decam_apflux_TEMP\"][:,2], name=\"f_ap_decam_i\")[:,4])\n",
    "catalogue.add_column(Column(catalogue[\"decam_apflux_TEMP\"][:,3], name=\"f_ap_decam_z\")[:,4])\n",
    "catalogue.add_column(Column(catalogue[\"decam_apflux_TEMP\"][:,4], name=\"f_ap_decam_y\")[:,4])\n",
    "\n",
    "catalogue.add_column(Column(catalogue[\"decam_apflux_ivar_TEMP\"][:,0], name=\"ferr_ap_decam_g\")[:,4])\n",
    "catalogue.add_column(Column(catalogue[\"decam_apflux_ivar_TEMP\"][:,1], name=\"ferr_ap_decam_r\")[:,4])\n",
    "catalogue.add_column(Column(catalogue[\"decam_apflux_ivar_TEMP\"][:,2], name=\"ferr_ap_decam_i\")[:,4])\n",
    "catalogue.add_column(Column(catalogue[\"decam_apflux_ivar_TEMP\"][:,3], name=\"ferr_ap_decam_z\")[:,4])\n",
    "catalogue.add_column(Column(catalogue[\"decam_apflux_ivar_TEMP\"][:,4], name=\"ferr_ap_decam_y\")[:,4])\n",
    "\n",
    "catalogue.remove_columns([\"decam_flux_TEMP\", \n",
    "                          \"decam_flux_ivar_TEMP\", \n",
    "                          \"decam_apflux_TEMP\", \n",
    "                          \"decam_apflux_ivar_TEMP\"])\n",
    "\n",
    "# Clean table metadata\n",
    "catalogue.meta = None"
   ]
  },
  {
   "cell_type": "code",
   "execution_count": null,
   "metadata": {},
   "outputs": [],
   "source": [
    "\n",
    "\n",
    "# Adding flux and band-flag columns\n",
    "for col in catalogue.colnames:\n",
    "    catalogue[col].unit = None\n",
    "    if col.startswith('f_'):\n",
    "        \n",
    "        #Replace 0 flux with NaN and \n",
    "        catalogue[col][catalogue[col] == 0.0] = np.nan\n",
    "        \n",
    "        #Replace 1/sigma^2 with sigma \n",
    "        errcol = \"ferr{}\".format(col[1:])\n",
    "        catalogue[errcol][catalogue[errcol] == 0.0] = np.nan\n",
    "        catalogue[errcol] = np.sqrt(1/np.array(catalogue[errcol]))\n",
    "        #catalogue[errcol][catalogue[errcol] == None] = np.nan\n",
    "        \n",
    "        #Replace nanomaggies with uJy\n",
    "        #a nanomaggy is approximately 3.631×10-6 Jy - http://www.sdss3.org/dr8/algorithms/magnitudes.php#nmgy\n",
    "        catalogue[col] = catalogue[col]  * 3.631        \n",
    "        catalogue[errcol] = catalogue[errcol]  * 3.631\n",
    "        \n",
    "        #Compute magnitudes and errors in magnitudes. This function expects Jy so must multiply uJy by 1.e-6\n",
    "        mag, error = flux_to_mag(np.array(catalogue[col])* 1.e-6, np.array(catalogue[errcol])* 1.e-6)\n",
    "        \n",
    "        \n",
    "        catalogue.add_column(Column(mag, name=\"m{}\".format(col[1:])))\n",
    "        catalogue.add_column(Column(error, name=\"m{}\".format(errcol[1:])))\n",
    "        \n",
    "        # Band-flag column\n",
    "        if 'ap' not in col:\n",
    "            catalogue.add_column(Column(np.zeros(len(catalogue), dtype=bool), name=\"flag{}\".format(col[1:])))\n",
    "        \n",
    "#remove units from table\n",
    "for col in catalogue.colnames:\n",
    "    catalogue[col].unit = None"
   ]
  },
  {
   "cell_type": "code",
   "execution_count": null,
   "metadata": {},
   "outputs": [],
   "source": [
    "catalogue[:10].show_in_notebook()"
   ]
  },
  {
   "cell_type": "markdown",
   "metadata": {},
   "source": [
    "## II - Removal of duplicated sources"
   ]
  },
  {
   "cell_type": "markdown",
   "metadata": {},
   "source": [
    "We remove duplicated objects from the input catalogues."
   ]
  },
  {
   "cell_type": "code",
   "execution_count": null,
   "metadata": {},
   "outputs": [],
   "source": [
    "SORT_COLS = [] #TODO add order\n",
    "FLAG_NAME = 'decals_flag_cleaned'\n",
    "\n",
    "nb_orig_sources = len(catalogue)\n",
    "\n",
    "catalogue = remove_duplicates(\n",
    "    catalogue, RA_COL, DEC_COL, \n",
    "    sort_col= SORT_COLS,\n",
    "    flag_name=FLAG_NAME)\n",
    "\n",
    "nb_sources = len(catalogue)\n",
    "\n",
    "print(\"The initial catalogue had {} sources.\".format(nb_orig_sources))\n",
    "print(\"The cleaned catalogue has {} sources ({} removed).\".format(nb_sources, nb_orig_sources - nb_sources))\n",
    "print(\"The cleaned catalogue has {} sources flagged as having been cleaned\".format(np.sum(catalogue[FLAG_NAME])))"
   ]
  },
  {
   "cell_type": "markdown",
   "metadata": {},
   "source": [
    "## III - Astrometry correction\n",
    "\n",
    "We match the astrometry to the Gaia one. We limit the Gaia catalogue to sources with a g band flux between the 30th and the 70th percentile. Some quick tests show that this give the lower dispersion in the results."
   ]
  },
  {
   "cell_type": "code",
   "execution_count": null,
   "metadata": {
    "collapsed": true
   },
   "outputs": [],
   "source": [
    "gaia = Table.read(\"../../dmu0/dmu0_GAIA/data/GAIA_GAMA-12.fits\")\n",
    "gaia_coords = SkyCoord(gaia['ra'], gaia['dec'])"
   ]
  },
  {
   "cell_type": "code",
   "execution_count": null,
   "metadata": {},
   "outputs": [],
   "source": [
    "nb_astcor_diag_plot(catalogue[RA_COL], catalogue[DEC_COL], \n",
    "                    gaia_coords.ra, gaia_coords.dec, near_ra0=True)"
   ]
  },
  {
   "cell_type": "code",
   "execution_count": null,
   "metadata": {},
   "outputs": [],
   "source": [
    "delta_ra, delta_dec =  astrometric_correction(\n",
    "    SkyCoord(catalogue[RA_COL], catalogue[DEC_COL]),\n",
    "    gaia_coords, near_ra0=True\n",
    ")\n",
    "\n",
    "print(\"RA correction: {}\".format(delta_ra))\n",
    "print(\"Dec correction: {}\".format(delta_dec))"
   ]
  },
  {
   "cell_type": "code",
   "execution_count": null,
   "metadata": {
    "collapsed": true
   },
   "outputs": [],
   "source": [
    "catalogue[RA_COL] +=  delta_ra.to(u.deg)\n",
    "catalogue[DEC_COL] += delta_dec.to(u.deg)"
   ]
  },
  {
   "cell_type": "code",
   "execution_count": null,
   "metadata": {},
   "outputs": [],
   "source": [
    "nb_astcor_diag_plot(catalogue[RA_COL], catalogue[DEC_COL], \n",
    "                    gaia_coords.ra, gaia_coords.dec, near_ra0=True)"
   ]
  },
  {
   "cell_type": "markdown",
   "metadata": {},
   "source": [
    "## IV - Flagging Gaia objects"
   ]
  },
  {
   "cell_type": "code",
   "execution_count": null,
   "metadata": {
    "collapsed": true
   },
   "outputs": [],
   "source": [
    "catalogue.add_column(\n",
    "    gaia_flag_column(SkyCoord(catalogue[RA_COL], catalogue[DEC_COL]), epoch, gaia)\n",
    ")"
   ]
  },
  {
   "cell_type": "code",
   "execution_count": null,
   "metadata": {},
   "outputs": [],
   "source": [
    "GAIA_FLAG_NAME = \"decals_flag_gaia\"\n",
    "\n",
    "catalogue['flag_gaia'].name = GAIA_FLAG_NAME\n",
    "print(\"{} sources flagged.\".format(np.sum(catalogue[GAIA_FLAG_NAME] > 0)))"
   ]
  },
  {
   "cell_type": "markdown",
   "metadata": {},
   "source": [
    "## V - Flagging objects near bright stars"
   ]
  },
  {
   "cell_type": "markdown",
   "metadata": {},
   "source": [
    "# VI - Saving to disk"
   ]
  },
  {
   "cell_type": "code",
   "execution_count": null,
   "metadata": {
    "collapsed": true
   },
   "outputs": [],
   "source": [
    "catalogue.write(\"{}/DECaLS.fits\".format(OUT_DIR), overwrite=True)"
   ]
  }
 ],
 "metadata": {
  "anaconda-cloud": {},
  "kernelspec": {
   "display_name": "Python (herschelhelp_internal)",
   "language": "python",
   "name": "helpint"
  },
  "language_info": {
   "codemirror_mode": {
    "name": "ipython",
    "version": 3
   },
   "file_extension": ".py",
   "mimetype": "text/x-python",
   "name": "python",
   "nbconvert_exporter": "python",
   "pygments_lexer": "ipython3",
   "version": "3.6.1"
  }
 },
 "nbformat": 4,
 "nbformat_minor": 1
}
