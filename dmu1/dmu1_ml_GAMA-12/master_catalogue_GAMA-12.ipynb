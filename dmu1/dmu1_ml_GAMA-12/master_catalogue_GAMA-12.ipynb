{
 "cells": [
  {
   "cell_type": "markdown",
   "metadata": {},
   "source": [
    "# HELP - GAMA-12 Master List Creation\n",
    "\n",
    "This notebook presents the creation of the HELP master list on the GAMA-12 field.\t\t\n",
    "\n",
    "<table>\n",
    "  <tr>\n",
    "    <th>Survey/Telescope/Instrument</th>\n",
    "    <th>Filters</th>\n",
    "    <th>Location</th>\n",
    "    <th>Notes</th>\n",
    "  </tr>\n",
    "  <tr>\n",
    "    <td>VIKING/VISTA/VIRCAM</td>\n",
    "    <td></td>\n",
    "    <td>dmu0_VISTA-VIKING</td>\n",
    "    <td></td>\n",
    "  </tr>\n",
    "  <tr>\n",
    "    <td>HSC SSC PDR1/Subaru/HSC</td>\n",
    "    <td></td>\n",
    "    <td></td>\n",
    "    <td></td>\n",
    "  </tr>\n",
    "  <tr>\n",
    "    <td>PS1 3PS/Pan-STARRS1</td>\n",
    "    <td>grizy</td>\n",
    "    <td></td>\n",
    "    <td></td>\n",
    "  </tr>\n",
    "  <tr>\n",
    "    <td>KIDS\tVST\tOmegaCAM\t</td>\n",
    "    <td>u,g,r,i</td>\n",
    "    <td>???</td>\n",
    "    <td>???</td>\n",
    "  </tr>\n",
    "</table>"
   ]
  },
  {
   "cell_type": "code",
   "execution_count": null,
   "metadata": {
    "collapsed": true
   },
   "outputs": [],
   "source": [
    "from herschelhelp_internal import git_version\n",
    "print(\"This notebook was run with herschelhelp_internal version: \\n{}\".format(git_version()))"
   ]
  }
 ],
 "metadata": {
  "anaconda-cloud": {},
  "kernelspec": {
   "display_name": "Python (herschelhelp_internal)",
   "language": "python",
   "name": "helpint"
  },
  "language_info": {
   "codemirror_mode": {
    "name": "ipython",
    "version": 3
   },
   "file_extension": ".py",
   "mimetype": "text/x-python",
   "name": "python",
   "nbconvert_exporter": "python",
   "pygments_lexer": "ipython3",
   "version": "3.6.1"
  }
 },
 "nbformat": 4,
 "nbformat_minor": 1
}
