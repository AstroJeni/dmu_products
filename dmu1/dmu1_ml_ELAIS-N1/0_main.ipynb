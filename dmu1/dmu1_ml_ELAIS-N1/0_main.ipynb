{
 "cells": [
  {
   "cell_type": "markdown",
   "metadata": {},
   "source": [
    "# ELAIS-N1 master list creation"
   ]
  },
  {
   "cell_type": "markdown",
   "metadata": {},
   "source": [
    "This folder contains the Jupyter notebooks used to create HELP mater list on ELAIS-N1.\n",
    "\n",
    "## Pristine catalogue preparations\n",
    "\n",
    "For each pristine catalogue, a specific notebook is used for its preparation: the selection of columns, the conversion of some magnitudes or fluxes when needed, the removal of duplicated sources, the correction of astrometry using Gaia as reference, and the flagging of possible Gaia objects.\n",
    "\n",
    "- [1.1_INT-WFC.ipynb](1.1_INT-WFC.ipynb) for Isaac Newton Telescope / Wide Field Camera (INT/WFC) data\n",
    "- [1.2_UKIDSS-DXS.ipynb](1.2_UKIDSS-DXS.ipynb) for UKIRT Infrared Deep Sky Survey / Deep Extragalactic Survey (UKIDSS/DXS) data\n",
    "- [1.3_HSC-SSP.ipynb](1.3_HSC-SSP.ipynb) for Hyper Suprime-Cam Subaru Strategic Program Catalogues (HSC-SSP) data\n",
    "- [1.4_PanSTARRS-3SS.ipynb](1.4_PanSTARRS-3SS.ipynb) for Pan-STARRS1 - 3pi Steradian Survey (3SS) data\n",
    "- [1.5_SpARCS.ipynb](1.5_SpARCS.ipynb) for Spitzer Adaptation of the Red-sequence Cluster Survey (SpARCS) data\n",
    "- [1.6_SERVS.ipynb](1.6_SERVS.ipynb) for Spitzer datafusion SERVS data\n",
    "- [1.7_SWIRE.ipynb](1.7_SWIRE.ipynb) for Spitzer datafusion SWIRE data\n",
    "\n",
    "## Catalogue merging\n",
    "\n",
    "The [2_Merging.ipynb](2_Merging.ipynb) notebook performs the merging of the pristine catalogues into the master list.\n",
    "\n",
    "## Diagnostics\n",
    "\n",
    "The [3_Checks_and_diagnostics.ipynb](3_Checks_and_diagnostics.ipynb) notebook presents some checks and diagnostic plots on the final master list.\n"
   ]
  }
 ],
 "metadata": {
  "anaconda-cloud": {},
  "kernelspec": {
   "display_name": "Python [default]",
   "language": "python",
   "name": "python3"
  },
  "language_info": {
   "codemirror_mode": {
    "name": "ipython",
    "version": 3
   },
   "file_extension": ".py",
   "mimetype": "text/x-python",
   "name": "python",
   "nbconvert_exporter": "python",
   "pygments_lexer": "ipython3",
   "version": "3.5.2"
  }
 },
 "nbformat": 4,
 "nbformat_minor": 2
}
