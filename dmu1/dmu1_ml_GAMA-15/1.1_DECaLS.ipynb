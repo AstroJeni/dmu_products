{
 "cells": [
  {
   "cell_type": "markdown",
   "metadata": {},
   "source": [
    "# GAMA-15 master catalogue\n",
    "## Preparation of DECam Legacy Survey data\n",
    "\n",
    "This catalogue comes from `dmu0_DECaLS`.\n",
    "\n",
    "In the catalogue, we keep:\n",
    "\n",
    "- The `object_id` as unique object identifier;\n",
    "- The position;\n",
    "- The u, g, r, i, z, Y aperture magnitude (2”);\n",
    "- The u, g, r, i, z, Y kron fluxes and magnitudes.\n",
    "\n",
    "We check for all ugrizY then only take bands for which there are measurements"
   ]
  },
  {
   "cell_type": "code",
   "execution_count": null,
   "metadata": {},
   "outputs": [],
   "source": [
    "from herschelhelp_internal import git_version\n",
    "print(\"This notebook was run with herschelhelp_internal version: \\n{}\".format(git_version()))"
   ]
  },
  {
   "cell_type": "code",
   "execution_count": null,
   "metadata": {
    "collapsed": true
   },
   "outputs": [],
   "source": [
    "%matplotlib inline\n",
    "#%config InlineBackend.figure_format = 'svg'\n",
    "\n",
    "import matplotlib.pyplot as plt\n",
    "plt.rc('figure', figsize=(10, 6))\n",
    "plt.style.use('ggplot')\n",
    "\n",
    "from collections import OrderedDict\n",
    "import os\n",
    "\n",
    "from astropy import units as u\n",
    "from astropy import visualization as vis\n",
    "from astropy.coordinates import SkyCoord\n",
    "from astropy.table import Column, Table\n",
    "import numpy as np\n",
    "\n",
    "from herschelhelp_internal.flagging import  gaia_flag_column\n",
    "from herschelhelp_internal.masterlist import nb_astcor_diag_plot, nb_plot_mag_ap_evol, \\\n",
    "    nb_plot_mag_vs_apcor, remove_duplicates\n",
    "from herschelhelp_internal.utils import astrometric_correction, mag_to_flux, aperture_correction, flux_to_mag"
   ]
  },
  {
   "cell_type": "code",
   "execution_count": null,
   "metadata": {
    "collapsed": true
   },
   "outputs": [],
   "source": [
    "OUT_DIR =  os.environ.get('TMP_DIR', \"./data_tmp\")\n",
    "try:\n",
    "    os.makedirs(OUT_DIR)\n",
    "except FileExistsError:\n",
    "    pass\n",
    "\n",
    "RA_COL = \"decals_ra\"\n",
    "DEC_COL = \"decals_dec\""
   ]
  },
  {
   "cell_type": "code",
   "execution_count": null,
   "metadata": {},
   "outputs": [],
   "source": [
    "# Pritine LS catalogue\n",
    "orig_decals = Table.read(\"../../dmu0/dmu0_DECaLS/data/DECaLS_GAMA-15.fits\")"
   ]
  },
  {
   "cell_type": "markdown",
   "metadata": {},
   "source": [
    "## I - Aperture correction\n",
    "\n",
    "To compute aperture correction we need to dertermine two parametres: the target aperture and the range of magnitudes for the stars that will be used to compute the correction.\n",
    "\n",
    "**Target aperture**: To determine the target aperture, we simulate a curve of growth using the provided apertures and draw two figures:\n",
    "\n",
    "- The evolution of the magnitudes of the objects by plotting on the same plot aperture number vs the mean magnitude.\n",
    "- The mean gain (loss when negative) of magnitude is each aperture compared to the previous (except for the first of course).\n",
    "\n",
    "As target aperture, we should use the smallest (i.e. less noisy) aperture for which most of the flux is captures.\n",
    "\n",
    "**Magnitude range**: To know what limits in aperture to use when doing the aperture correction, we plot for each magnitude bin the correction that is computed and its RMS. We should then use the wide limits (to use more stars) where the correction is stable and with few dispersion."
   ]
  },
  {
   "cell_type": "code",
   "execution_count": null,
   "metadata": {},
   "outputs": [],
   "source": [
    "bands = [\"u\", \"g\", \"r\", \"i\", \"z\", \"y\"]\n",
    "band_index = {\"u\":0,\"g\":1, \"r\":2, \"i\":3, \"z\":4, \"y\":5}\n",
    "apertures      = [0,      1,   2,   3,    4,   5,   6,   7] \n",
    "aperture_sizes = [0.5, 0.75, 1.0, 1.5,  2.0, 3.5, 5.0, 7.0] #arcsec aperture sizes\n",
    "\n",
    "flux = {}\n",
    "flux_errors ={}\n",
    "magnitudes = {}\n",
    "flux_errors ={}\n",
    "magnitude_errors = {}\n",
    "stellarities = {}\n",
    "\n",
    "flux_to_mag_vect = np.vectorize(flux_to_mag)\n",
    "\n",
    "for band in bands:\n",
    "    flux[band] = np.transpose(np.array(orig_decals[\"decam_apflux\"][:,band_index[band]])) #np.transpose(np.array( orig_decals[\"decam_apflux\"], dtype=np.float )) \n",
    "    flux_errors[band] = np.transpose(np.array(orig_decals[\"decam_apflux_ivar\"][:,band_index[band]])) #np.transpose(np.array( orig_legacy[\"apflux_ivar_{}\".format(band)], dtype=np.float  ))\n",
    "    \n",
    "    magnitudes[band], magnitude_errors[band] = flux_to_mag_vect(flux[band] * 3.631e-6 ,flux_errors[band] * 3.631e-6)\n",
    "    \n",
    "    stellarities[band] = np.full(len(orig_decals),0., dtype='float32')\n",
    "    stellarities[band][np.array( orig_decals[\"type\"]) == \"PSF \" ] = 1.\n",
    "    stellarities[band][np.array( orig_decals[\"type\"]) == \"PSF\" ] = 1.\n",
    "    \n",
    "    # Some sources have an infinite magnitude\n",
    "    mask = np.isinf(magnitudes[band])\n",
    "    magnitudes[band][mask] = np.nan\n",
    "    magnitude_errors[band][mask] = np.nan\n",
    "    \n",
    "\n",
    "    \n",
    "    \n",
    "mag_corr = {}"
   ]
  },
  {
   "cell_type": "markdown",
   "metadata": {},
   "source": [
    "### 1.a u band"
   ]
  },
  {
   "cell_type": "code",
   "execution_count": null,
   "metadata": {},
   "outputs": [],
   "source": [
    "nb_plot_mag_ap_evol(magnitudes['u'], stellarities['u'], labels=apertures)"
   ]
  },
  {
   "cell_type": "markdown",
   "metadata": {},
   "source": [
    "u band is all nan"
   ]
  },
  {
   "cell_type": "code",
   "execution_count": null,
   "metadata": {},
   "outputs": [],
   "source": [
    "nb_plot_mag_vs_apcor(magnitudes['u'][4], \n",
    "                     magnitudes['u'][5], \n",
    "                     stellarities['u'])"
   ]
  },
  {
   "cell_type": "code",
   "execution_count": null,
   "metadata": {
    "collapsed": true
   },
   "outputs": [],
   "source": [
    "# Aperture correction\n",
    "mag_corr['u'] = np.nan\n",
    "#mag_corr['u'], num, std = aperture_correction(\n",
    "#    magnitudes['u'][4], magnitudes['u'][5], \n",
    "#    stellarities['u'],\n",
    "#    mag_min=16.0, mag_max=19.0)\n",
    "#print(\"Aperture correction for g band:\")\n",
    "#print(\"Correction: {}\".format(mag_corr['g']))\n",
    "#print(\"Number of source used: {}\".format(num))\n",
    "#print(\"RMS: {}\".format(std))"
   ]
  },
  {
   "cell_type": "markdown",
   "metadata": {},
   "source": [
    "### I.a - g band"
   ]
  },
  {
   "cell_type": "code",
   "execution_count": null,
   "metadata": {},
   "outputs": [],
   "source": [
    "nb_plot_mag_ap_evol(magnitudes['g'], stellarities['g'], labels=apertures)"
   ]
  },
  {
   "cell_type": "markdown",
   "metadata": {},
   "source": [
    "We will use aperture 5 as target."
   ]
  },
  {
   "cell_type": "code",
   "execution_count": null,
   "metadata": {},
   "outputs": [],
   "source": [
    "nb_plot_mag_vs_apcor(magnitudes['g'][4], \n",
    "                     magnitudes['g'][5], \n",
    "                     stellarities['g'])"
   ]
  },
  {
   "cell_type": "markdown",
   "metadata": {},
   "source": [
    "We will use magnitudes between 16.0 and 19.0"
   ]
  },
  {
   "cell_type": "code",
   "execution_count": null,
   "metadata": {
    "collapsed": true
   },
   "outputs": [],
   "source": [
    "# Aperture correction\n",
    "#mag_corr['g'] = np.nan\n",
    "mag_corr['g'], num, std = aperture_correction(\n",
    "    magnitudes['g'][4], magnitudes['g'][5], \n",
    "    stellarities['g'],\n",
    "    mag_min=16.0, mag_max=19.0)\n",
    "print(\"Aperture correction for g band:\")\n",
    "print(\"Correction: {}\".format(mag_corr['g']))\n",
    "print(\"Number of source used: {}\".format(num)) \n",
    "print(\"RMS: {}\".format(std))\n"
   ]
  },
  {
   "cell_type": "markdown",
   "metadata": {},
   "source": [
    "### I.b - r band"
   ]
  },
  {
   "cell_type": "code",
   "execution_count": null,
   "metadata": {},
   "outputs": [],
   "source": [
    "nb_plot_mag_ap_evol(magnitudes['r'], stellarities['r'], labels=apertures)"
   ]
  },
  {
   "cell_type": "markdown",
   "metadata": {},
   "source": [
    "We will use aperture 5 as target."
   ]
  },
  {
   "cell_type": "code",
   "execution_count": null,
   "metadata": {},
   "outputs": [],
   "source": [
    "nb_plot_mag_vs_apcor(magnitudes['r'][4], \n",
    "                     magnitudes['r'][5], \n",
    "                     stellarities['r'])"
   ]
  },
  {
   "cell_type": "markdown",
   "metadata": {},
   "source": [
    "We use magnitudes between 16.0 and 18.0."
   ]
  },
  {
   "cell_type": "code",
   "execution_count": null,
   "metadata": {
    "collapsed": true
   },
   "outputs": [],
   "source": [
    "# Aperture correction\n",
    "#mag_corr['r'] = np.nan\n",
    "mag_corr['r'], num, std = aperture_correction(\n",
    "    magnitudes['r'][4], magnitudes['r'][5], \n",
    "    stellarities['r'],\n",
    "    mag_min=16.0, mag_max=18.0)\n",
    "print(\"Aperture correction for r band:\")\n",
    "print(\"Correction: {}\".format(mag_corr['r']))\n",
    "print(\"Number of source used: {}\".format(num))\n",
    "print(\"RMS: {}\".format(std))"
   ]
  },
  {
   "cell_type": "markdown",
   "metadata": {},
   "source": [
    "### I.d - i band"
   ]
  },
  {
   "cell_type": "code",
   "execution_count": null,
   "metadata": {},
   "outputs": [],
   "source": [
    "nb_plot_mag_ap_evol(magnitudes['i'], stellarities['i'], labels=apertures)"
   ]
  },
  {
   "cell_type": "code",
   "execution_count": null,
   "metadata": {},
   "outputs": [],
   "source": [
    "nb_plot_mag_vs_apcor(magnitudes['i'][4], \n",
    "                     magnitudes['i'][4], \n",
    "                     stellarities['i'])"
   ]
  },
  {
   "cell_type": "code",
   "execution_count": null,
   "metadata": {
    "collapsed": true
   },
   "outputs": [],
   "source": [
    "# Aperture correction\n",
    "mag_corr['i'] = np.nan\n",
    "#mag_corr['i'], num, std = aperture_correction(\n",
    "#    magnitudes['i'][4], magnitudes['i'][5], \n",
    "#    stellarities['i'],\n",
    "#    mag_min=16.0, mag_max=17.5)\n",
    "#print(\"Aperture correction for i band:\")\n",
    "#print(\"Correction: {}\".format(mag_corr['i']))\n",
    "#print(\"Number of source used: {}\".format(num))\n",
    "#print(\"RMS: {}\".format(std))"
   ]
  },
  {
   "cell_type": "markdown",
   "metadata": {},
   "source": [
    "### I.e - z band"
   ]
  },
  {
   "cell_type": "code",
   "execution_count": null,
   "metadata": {},
   "outputs": [],
   "source": [
    "nb_plot_mag_ap_evol(magnitudes['z'], stellarities['z'], labels=apertures)"
   ]
  },
  {
   "cell_type": "markdown",
   "metadata": {},
   "source": [
    "We will use aperture 4 as target."
   ]
  },
  {
   "cell_type": "code",
   "execution_count": null,
   "metadata": {},
   "outputs": [],
   "source": [
    "nb_plot_mag_vs_apcor(magnitudes['z'][4], \n",
    "                     magnitudes['z'][4], \n",
    "                     stellarities['z'])"
   ]
  },
  {
   "cell_type": "markdown",
   "metadata": {},
   "source": [
    "We use magnitudes between 16.0 and 17.5."
   ]
  },
  {
   "cell_type": "code",
   "execution_count": null,
   "metadata": {},
   "outputs": [],
   "source": [
    "# Aperture correction\n",
    "#mag_corr['z'] = np.nan\n",
    "mag_corr['z'], num, std = aperture_correction(\n",
    "    magnitudes['z'][4], magnitudes['z'][4], \n",
    "    stellarities['z'],\n",
    "    mag_min=16.0, mag_max=17.5)\n",
    "print(\"Aperture correction for z band:\")\n",
    "print(\"Correction: {}\".format(mag_corr['z']))\n",
    "print(\"Number of source used: {}\".format(num))\n",
    "print(\"RMS: {}\".format(std))"
   ]
  },
  {
   "cell_type": "markdown",
   "metadata": {},
   "source": [
    "### I.f - Y band"
   ]
  },
  {
   "cell_type": "code",
   "execution_count": null,
   "metadata": {},
   "outputs": [],
   "source": [
    "nb_plot_mag_ap_evol(magnitudes['y'], stellarities['y'], labels=apertures)"
   ]
  },
  {
   "cell_type": "code",
   "execution_count": null,
   "metadata": {},
   "outputs": [],
   "source": [
    "nb_plot_mag_vs_apcor(magnitudes['y'][4], \n",
    "                     magnitudes['y'][4], \n",
    "                     stellarities['y'])"
   ]
  },
  {
   "cell_type": "code",
   "execution_count": null,
   "metadata": {
    "collapsed": true
   },
   "outputs": [],
   "source": [
    "# Aperture correction\n",
    "mag_corr['y'] = np.nan\n",
    "#mag_corr['y'], num, std = aperture_correction(\n",
    "#    magnitudes['y'][4], magnitudes['y'][5], \n",
    "#    stellarities['y'],\n",
    "#    mag_min=16.0, mag_max=17.5)\n",
    "#print(\"Aperture correction for y band:\")\n",
    "#print(\"Correction: {}\".format(mag_corr['y']))\n",
    "#print(\"Number of source used: {}\".format(num))\n",
    "#print(\"RMS: {}\".format(std))\n"
   ]
  },
  {
   "cell_type": "markdown",
   "metadata": {},
   "source": [
    "## II - Stellarity\n",
    "\n",
    "Legacy Survey does not provide a 0 to 1 stellarity so we replace items flagged as PSF accpording to the following table:\n",
    "\n",
    "\\begin{equation*}\n",
    "P(star) = \\frac{ \\prod_{i} P(star)_i }{ \\prod_{i} P(star)_i + \\prod_{i} P(galaxy)_i }\n",
    "\\end{equation*}\n",
    "\n",
    "where $i$ is the band, and with using the same probabilities as UKDISS:\n",
    "\n",
    "| HSC flag | UKIDSS flag | Meaning         | P(star) | P(galaxy) | P(noise) | P(saturated) |\n",
    "|:--------:|:-----------:|:----------------|--------:|----------:|---------:|-------------:|\n",
    "|          |      -9     | Saturated       |     0.0 |       0.0 |      5.0 |         95.0 |\n",
    "|          |      -3     | Probable galaxy |    25.0 |      70.0 |      5.0 |          0.0 |\n",
    "|          |      -2     | Probable star   |    70.0 |      25.0 |      5.0 |          0.0 |\n",
    "|     0    |      -1     | Star            |    90.0 |       5.0 |      5.0 |          0.0 |\n",
    "|          |      0      | Noise           |     5.0 |       5.0 |     90.0 |          0.0 |\n",
    "|     1    |      +1     | Galaxy          |     5.0 |      90.0 |      5.0 |          0.0 |"
   ]
  },
  {
   "cell_type": "code",
   "execution_count": null,
   "metadata": {
    "collapsed": true
   },
   "outputs": [],
   "source": [
    "stellarities['g'][np.isclose(stellarities['g'], 1.)] = 0.9\n",
    "stellarities['g'][np.isclose(stellarities['g'], 0.)] = 0.05"
   ]
  },
  {
   "cell_type": "markdown",
   "metadata": {},
   "source": [
    "## II - Column selection"
   ]
  },
  {
   "cell_type": "code",
   "execution_count": null,
   "metadata": {
    "collapsed": true
   },
   "outputs": [],
   "source": [
    "imported_columns = OrderedDict({\n",
    "        \"objid\": \"decals_id\",\n",
    "        \"brickid\": \"brickid\",\n",
    "        \"ra\": \"decals_ra\",\n",
    "        \"dec\": \"decals_dec\",\n",
    "        \"decam_flux\": \"decam_flux_TEMP\",\n",
    "        \"decam_flux_ivar\": \"decam_flux_ivar_TEMP\",\n",
    "        \"decam_apflux\": \"decam_apflux_TEMP\",\n",
    "        \"decam_apflux_ivar\": \"decam_apflux_ivar_TEMP\",\n",
    "       \n",
    "    })\n",
    "\n",
    "\n",
    "catalogue = Table.read(\"../../dmu0/dmu0_DECaLS/data/DECaLS_GAMA-15.fits\")[list(imported_columns)]\n",
    "for column in imported_columns:\n",
    "    catalogue[column].name = imported_columns[column]\n",
    "    \n",
    "catalogue[\"decals_id\"] = 100000*catalogue[\"brickid\"].astype(np.int64) + catalogue[\"decals_id\"].astype(np.int64)\n",
    "catalogue.remove_columns(\"brickid\")\n",
    "\n",
    "epoch = 2017\n",
    "\n",
    "#catalogue.add_column(Column(catalogue[\"decam_flux_TEMP\"][:,0], name=\"f_decam_u\"))\n",
    "catalogue.add_column(Column(catalogue[\"decam_flux_TEMP\"][:,1], name=\"f_decam_g\"))\n",
    "catalogue.add_column(Column(catalogue[\"decam_flux_TEMP\"][:,2], name=\"f_decam_r\"))\n",
    "#catalogue.add_column(Column(catalogue[\"decam_flux_TEMP\"][:,3], name=\"f_decam_i\"))\n",
    "catalogue.add_column(Column(catalogue[\"decam_flux_TEMP\"][:,4], name=\"f_decam_z\"))\n",
    "#catalogue.add_column(Column(catalogue[\"decam_flux_TEMP\"][:,5], name=\"f_decam_y\"))\n",
    "\n",
    "#catalogue.add_column(Column(catalogue[\"decam_flux_ivar_TEMP\"][:,0], name=\"ferr_decam_u\"))\n",
    "catalogue.add_column(Column(catalogue[\"decam_flux_ivar_TEMP\"][:,1], name=\"ferr_decam_g\"))\n",
    "catalogue.add_column(Column(catalogue[\"decam_flux_ivar_TEMP\"][:,2], name=\"ferr_decam_r\"))\n",
    "#catalogue.add_column(Column(catalogue[\"decam_flux_ivar_TEMP\"][:,3], name=\"ferr_decam_i\"))\n",
    "catalogue.add_column(Column(catalogue[\"decam_flux_ivar_TEMP\"][:,4], name=\"ferr_decam_z\"))\n",
    "#catalogue.add_column(Column(catalogue[\"decam_flux_ivar_TEMP\"][:,5], name=\"ferr_decam_y\"))\n",
    "\n",
    "#For the aperture fluxes, there are 8 (0-7), we take 4 (2.0\")\n",
    "#DECam aperture fluxes on the co-added images in apertures of radius [0.5,0.75,1.0,1.5,2.0,3.5,5.0,7.0] arcsec in ugrizY\n",
    "#catalogue.add_column(Column(catalogue[\"decam_apflux_TEMP\"][:,0], name=\"f_ap_decam_u\")[:,4])\n",
    "catalogue.add_column(Column(catalogue[\"decam_apflux_TEMP\"][:,1], name=\"f_ap_decam_g\")[:,4])\n",
    "catalogue.add_column(Column(catalogue[\"decam_apflux_TEMP\"][:,2], name=\"f_ap_decam_r\")[:,4])\n",
    "#catalogue.add_column(Column(catalogue[\"decam_apflux_TEMP\"][:,3], name=\"f_ap_decam_i\")[:,4])\n",
    "catalogue.add_column(Column(catalogue[\"decam_apflux_TEMP\"][:,4], name=\"f_ap_decam_z\")[:,4])\n",
    "#catalogue.add_column(Column(catalogue[\"decam_apflux_TEMP\"][:,5], name=\"f_ap_decam_y\")[:,4])\n",
    "\n",
    "#catalogue.add_column(Column(catalogue[\"decam_apflux_ivar_TEMP\"][:,0], name=\"ferr_ap_decam_u\")[:,4])\n",
    "catalogue.add_column(Column(catalogue[\"decam_apflux_ivar_TEMP\"][:,1], name=\"ferr_ap_decam_g\")[:,4])\n",
    "catalogue.add_column(Column(catalogue[\"decam_apflux_ivar_TEMP\"][:,2], name=\"ferr_ap_decam_r\")[:,4])\n",
    "#catalogue.add_column(Column(catalogue[\"decam_apflux_ivar_TEMP\"][:,3], name=\"ferr_ap_decam_i\")[:,4])\n",
    "catalogue.add_column(Column(catalogue[\"decam_apflux_ivar_TEMP\"][:,4], name=\"ferr_ap_decam_z\")[:,4])\n",
    "#catalogue.add_column(Column(catalogue[\"decam_apflux_ivar_TEMP\"][:,5], name=\"ferr_ap_decam_y\")[:,4])\n",
    "\n",
    "catalogue.remove_columns([\"decam_flux_TEMP\", \n",
    "                          \"decam_flux_ivar_TEMP\", \n",
    "                          \"decam_apflux_TEMP\", \n",
    "                          \"decam_apflux_ivar_TEMP\"])\n",
    "\n",
    "# Clean table metadata\n",
    "catalogue.meta = None"
   ]
  },
  {
   "cell_type": "code",
   "execution_count": null,
   "metadata": {},
   "outputs": [],
   "source": [
    "flux_to_mag_vect = np.vectorize(flux_to_mag)\n",
    "\n",
    "\n",
    "# Adding flux and band-flag columns\n",
    "for col in catalogue.colnames:\n",
    "    catalogue[col].unit = None\n",
    "    if col.startswith('f_'):\n",
    "        \n",
    "        #Replace 0 flux with NaN and \n",
    "        catalogue[col][catalogue[col] == 0.0] = np.nan\n",
    "        \n",
    "        #Replace 1/sigma^2 with sigma \n",
    "        errcol = \"ferr{}\".format(col[1:])\n",
    "        catalogue[errcol][catalogue[errcol] == 0.0] = np.nan\n",
    "        catalogue[errcol] = np.sqrt(1/np.array(catalogue[errcol]))\n",
    "        #catalogue[errcol][catalogue[errcol] == None] = np.nan\n",
    "        \n",
    "        #Replace nanomaggies with uJy\n",
    "        #a nanomaggy is approximately 3.631×10-6 Jy - http://www.sdss3.org/dr8/algorithms/magnitudes.php#nmgy\n",
    "        catalogue[col] = catalogue[col]  * 3.631        \n",
    "        catalogue[errcol] = catalogue[errcol]  * 3.631\n",
    "        \n",
    "        #Compute magnitudes and errors in magnitudes. This function expects Jy so must multiply uJy by 1.e-6\n",
    "        mag, error = flux_to_mag(np.array(catalogue[col])* 1.e-6, np.array(catalogue[errcol])* 1.e-6)\n",
    "        \n",
    "        if 'ap' in col:\n",
    "            mag += mag_corr[col[-1]]\n",
    "            catalogue[col],catalogue[errcol] = mag_to_flux(mag,error)\n",
    "        \n",
    "        catalogue.add_column(Column(mag, name=\"m{}\".format(col[1:])))\n",
    "        catalogue.add_column(Column(error, name=\"m{}\".format(errcol[1:])))\n",
    "        \n",
    "        # Band-flag column\n",
    "        if 'ap' not in col:\n",
    "            catalogue.add_column(Column(np.zeros(len(catalogue), dtype=bool), name=\"flag{}\".format(col[1:])))\n",
    "        \n",
    "#remove units from table\n",
    "for col in catalogue.colnames:\n",
    "    catalogue[col].unit = None\n",
    "    \n",
    "catalogue.add_column(Column(data=stellarities['g'], name=\"decals_stellarity\")) #Stelarites computed earlier"
   ]
  },
  {
   "cell_type": "code",
   "execution_count": null,
   "metadata": {
    "scrolled": true
   },
   "outputs": [],
   "source": [
    "catalogue[:10].show_in_notebook()"
   ]
  },
  {
   "cell_type": "markdown",
   "metadata": {},
   "source": [
    "## III - Removal of duplicated sources"
   ]
  },
  {
   "cell_type": "markdown",
   "metadata": {},
   "source": [
    "We remove duplicated objects from the input catalogues."
   ]
  },
  {
   "cell_type": "code",
   "execution_count": null,
   "metadata": {},
   "outputs": [],
   "source": [
    "SORT_COLS = [#'merr_ap_decam_u',\n",
    "             'merr_ap_decam_g',\n",
    "             'merr_ap_decam_r',\n",
    "             #'merr_ap_decam_i',\n",
    "             'merr_ap_decam_z',\n",
    "             #'merr_ap_decam_y'\n",
    "]\n",
    "FLAG_NAME = 'decals_flag_cleaned'\n",
    "\n",
    "nb_orig_sources = len(catalogue)\n",
    "\n",
    "catalogue = remove_duplicates(\n",
    "    catalogue, RA_COL, DEC_COL, \n",
    "    sort_col= SORT_COLS,\n",
    "    flag_name=FLAG_NAME)\n",
    "\n",
    "nb_sources = len(catalogue)\n",
    "\n",
    "print(\"The initial catalogue had {} sources.\".format(nb_orig_sources))\n",
    "print(\"The cleaned catalogue has {} sources ({} removed).\".format(nb_sources, nb_orig_sources - nb_sources))\n",
    "print(\"The cleaned catalogue has {} sources flagged as having been cleaned\".format(np.sum(catalogue[FLAG_NAME])))"
   ]
  },
  {
   "cell_type": "markdown",
   "metadata": {},
   "source": [
    "## III - Astrometry correction\n",
    "\n",
    "We match the astrometry to the Gaia one. We limit the Gaia catalogue to sources with a g band flux between the 30th and the 70th percentile. Some quick tests show that this give the lower dispersion in the results."
   ]
  },
  {
   "cell_type": "code",
   "execution_count": null,
   "metadata": {
    "collapsed": true
   },
   "outputs": [],
   "source": [
    "gaia = Table.read(\"../../dmu0/dmu0_GAIA/data/GAIA_GAMA-15.fits\")\n",
    "gaia_coords = SkyCoord(gaia['ra'], gaia['dec'])"
   ]
  },
  {
   "cell_type": "code",
   "execution_count": null,
   "metadata": {},
   "outputs": [],
   "source": [
    "nb_astcor_diag_plot(catalogue[RA_COL], catalogue[DEC_COL], \n",
    "                    gaia_coords.ra, gaia_coords.dec, near_ra0=True)"
   ]
  },
  {
   "cell_type": "code",
   "execution_count": null,
   "metadata": {},
   "outputs": [],
   "source": [
    "delta_ra, delta_dec =  astrometric_correction(\n",
    "    SkyCoord(catalogue[RA_COL], catalogue[DEC_COL]),\n",
    "    gaia_coords\n",
    ")\n",
    "\n",
    "print(\"RA correction: {}\".format(delta_ra))\n",
    "print(\"Dec correction: {}\".format(delta_dec))"
   ]
  },
  {
   "cell_type": "code",
   "execution_count": null,
   "metadata": {
    "collapsed": true
   },
   "outputs": [],
   "source": [
    "catalogue[RA_COL] = catalogue[RA_COL] +  delta_ra.to(u.deg)\n",
    "catalogue[DEC_COL] = catalogue[DEC_COL] +  delta_dec.to(u.deg)\n",
    "catalogue[RA_COL].unit = u.deg\n",
    "catalogue[DEC_COL].unit = u.deg"
   ]
  },
  {
   "cell_type": "code",
   "execution_count": null,
   "metadata": {},
   "outputs": [],
   "source": [
    "nb_astcor_diag_plot(catalogue[RA_COL], catalogue[DEC_COL], \n",
    "                    gaia_coords.ra, gaia_coords.dec, near_ra0=True)"
   ]
  },
  {
   "cell_type": "markdown",
   "metadata": {},
   "source": [
    "## IV - Flagging Gaia objects"
   ]
  },
  {
   "cell_type": "code",
   "execution_count": null,
   "metadata": {
    "collapsed": true
   },
   "outputs": [],
   "source": [
    "catalogue.add_column(\n",
    "    gaia_flag_column(SkyCoord(catalogue[RA_COL], catalogue[DEC_COL]), epoch, gaia)\n",
    ")"
   ]
  },
  {
   "cell_type": "code",
   "execution_count": null,
   "metadata": {},
   "outputs": [],
   "source": [
    "GAIA_FLAG_NAME = \"decals_flag_gaia\"\n",
    "\n",
    "catalogue['flag_gaia'].name = GAIA_FLAG_NAME\n",
    "print(\"{} sources flagged.\".format(np.sum(catalogue[GAIA_FLAG_NAME] > 0)))"
   ]
  },
  {
   "cell_type": "markdown",
   "metadata": {},
   "source": [
    "# V - Saving to disk"
   ]
  },
  {
   "cell_type": "code",
   "execution_count": null,
   "metadata": {
    "collapsed": true
   },
   "outputs": [],
   "source": [
    "catalogue.write(\"{}/DECaLS.fits\".format(OUT_DIR), overwrite=True)"
   ]
  }
 ],
 "metadata": {
  "anaconda-cloud": {},
  "kernelspec": {
   "display_name": "Python (herschelhelp_internal)",
   "language": "python",
   "name": "helpint"
  },
  "language_info": {
   "codemirror_mode": {
    "name": "ipython",
    "version": 3
   },
   "file_extension": ".py",
   "mimetype": "text/x-python",
   "name": "python",
   "nbconvert_exporter": "python",
   "pygments_lexer": "ipython3",
   "version": "3.6.1"
  }
 },
 "nbformat": 4,
 "nbformat_minor": 1
}
