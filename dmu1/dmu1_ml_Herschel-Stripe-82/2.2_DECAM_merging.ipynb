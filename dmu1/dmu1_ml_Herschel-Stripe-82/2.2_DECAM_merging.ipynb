{
 "cells": [
  {
   "cell_type": "markdown",
   "metadata": {},
   "source": [
    "# Herschel Stripe 82 DECAM merging\n",
    "\n",
    "Both DES and DECaLS provide DECam fluxes which have overlapping coverage. We chose which to use DES preferentially. In this notebook we cross match both catalogues and take the DES fluxes where available, using DECaLS otherwise"
   ]
  },
  {
   "cell_type": "code",
   "execution_count": null,
   "metadata": {},
   "outputs": [],
   "source": [
    "from herschelhelp_internal import git_version\n",
    "print(\"This notebook was run with herschelhelp_internal version: \\n{}\".format(git_version()))"
   ]
  },
  {
   "cell_type": "code",
   "execution_count": null,
   "metadata": {},
   "outputs": [],
   "source": [
    "%matplotlib inline\n",
    "#%config InlineBackend.figure_format = 'svg'\n",
    "\n",
    "import matplotlib.pyplot as plt\n",
    "plt.rc('figure', figsize=(10, 6))\n",
    "\n",
    "import os\n",
    "import time\n",
    "\n",
    "from astropy import units as u\n",
    "from astropy.coordinates import SkyCoord\n",
    "from astropy.table import Column, Table\n",
    "import numpy as np\n",
    "from pymoc import MOC\n",
    "\n",
    "from herschelhelp_internal.masterlist import merge_catalogues, nb_merge_dist_plot\n",
    "from herschelhelp_internal.utils import coords_to_hpidx, ebv, gen_help_id, inMoc"
   ]
  },
  {
   "cell_type": "code",
   "execution_count": null,
   "metadata": {
    "collapsed": true
   },
   "outputs": [],
   "source": [
    "TMP_DIR = os.environ.get('TMP_DIR', \"./data_tmp\")\n",
    "OUT_DIR = os.environ.get('OUT_DIR', \"./data\")\n",
    "SUFFIX = os.environ.get('SUFFIX', time.strftime(\"_%Y%m%d\"))\n",
    "\n",
    "try:\n",
    "    os.makedirs(OUT_DIR)\n",
    "except FileExistsError:\n",
    "    pass"
   ]
  },
  {
   "cell_type": "markdown",
   "metadata": {},
   "source": [
    "## I - Reading the prepared pristine catalogues"
   ]
  },
  {
   "cell_type": "code",
   "execution_count": null,
   "metadata": {
    "collapsed": true
   },
   "outputs": [],
   "source": [
    "des = Table.read(\"{}/des.fits\".format(TMP_DIR))\n",
    "decals = Table.read(\"{}/DECALS.fits\".format(TMP_DIR))"
   ]
  },
  {
   "cell_type": "code",
   "execution_count": null,
   "metadata": {},
   "outputs": [],
   "source": [
    "for col in des.colnames:\n",
    "    if '_decam_' in col:\n",
    "        des[col].name = col.replace('_decam_', '_des-decam_')\n",
    "        \n",
    "for col in decals.colnames:\n",
    "    if '_decam_' in col:\n",
    "        decals[col].name = col.replace('_decam_', '_decals-decam_')"
   ]
  },
  {
   "cell_type": "markdown",
   "metadata": {},
   "source": [
    "## II - Merging tables\n",
    "\n",
    "We first merge the optical catalogues and then add the infrared ones: HSC, VHS, VICS82, UKIDSS-LAS, PanSTARRS, SHELA, SpIES.\n",
    "\n",
    "At every step, we look at the distribution of the distances to the nearest source in the merged catalogue to determine the best crossmatching radius."
   ]
  },
  {
   "cell_type": "markdown",
   "metadata": {},
   "source": [
    "### DES"
   ]
  },
  {
   "cell_type": "code",
   "execution_count": null,
   "metadata": {
    "collapsed": true
   },
   "outputs": [],
   "source": [
    "master_catalogue = des\n",
    "master_catalogue['des_ra'].name = 'ra'\n",
    "master_catalogue['des_dec'].name = 'dec'\n"
   ]
  },
  {
   "cell_type": "markdown",
   "metadata": {},
   "source": [
    "## Add DECaLS"
   ]
  },
  {
   "cell_type": "code",
   "execution_count": null,
   "metadata": {
    "scrolled": true
   },
   "outputs": [],
   "source": [
    "nb_merge_dist_plot(\n",
    "    SkyCoord(master_catalogue['ra'], master_catalogue['dec']),\n",
    "    SkyCoord(decals['decals_ra'], decals['decals_dec'])\n",
    ")"
   ]
  },
  {
   "cell_type": "code",
   "execution_count": null,
   "metadata": {
    "collapsed": true
   },
   "outputs": [],
   "source": [
    "# Given the graph above, we use 0.8 arc-second radius\n",
    "master_catalogue = merge_catalogues(master_catalogue, decals, \"decals_ra\", \"decals_dec\", radius=0.8*u.arcsec)\n"
   ]
  },
  {
   "cell_type": "markdown",
   "metadata": {},
   "source": [
    "### Cleaning\n",
    "\n",
    "When we merge the catalogues, astropy masks the non-existent values (e.g. when a row comes only from a catalogue and has no counterparts in the other, the columns from the latest are masked for that row). We indicate to use NaN for masked values for floats columns, False for flag columns and -1 for ID columns."
   ]
  },
  {
   "cell_type": "code",
   "execution_count": null,
   "metadata": {
    "collapsed": true
   },
   "outputs": [],
   "source": [
    "for col in master_catalogue.colnames:\n",
    "    if \"m_\" in col or \"merr_\" in col or \"f_\" in col or \"ferr_\" in col or \"stellarity\" in col:\n",
    "        master_catalogue[col].fill_value = np.nan\n",
    "    elif \"flag\" in col:\n",
    "        master_catalogue[col].fill_value = 0\n",
    "    elif \"id\" in col:\n",
    "        master_catalogue[col].fill_value = -1\n",
    "        \n",
    "master_catalogue = master_catalogue.filled()"
   ]
  },
  {
   "cell_type": "code",
   "execution_count": null,
   "metadata": {},
   "outputs": [],
   "source": [
    "master_catalogue[:10].show_in_notebook()"
   ]
  },
  {
   "cell_type": "markdown",
   "metadata": {},
   "source": [
    "## III - Merging flags and stellarity\n",
    "\n",
    "Each pristine catalogue contains a flag indicating if the source was associated to a another nearby source that was removed during the cleaning process.  We merge these flags in a single one."
   ]
  },
  {
   "cell_type": "code",
   "execution_count": null,
   "metadata": {
    "collapsed": true
   },
   "outputs": [],
   "source": [
    "flag_cleaned_columns = [column for column in master_catalogue.colnames\n",
    "                        if 'flag_cleaned' in column]\n",
    "\n",
    "flag_column = np.zeros(len(master_catalogue), dtype=bool)\n",
    "for column in flag_cleaned_columns:\n",
    "    flag_column |= master_catalogue[column]\n",
    "    \n",
    "master_catalogue.add_column(Column(data=flag_column, name=\"decam_flag_cleaned\"))\n",
    "master_catalogue.remove_columns(flag_cleaned_columns)"
   ]
  },
  {
   "cell_type": "markdown",
   "metadata": {},
   "source": [
    "Each pristine catalogue contains a flag indicating the probability of a source being a Gaia object (0: not a Gaia object, 1: possibly, 2: probably, 3: definitely).  We merge these flags taking the highest value."
   ]
  },
  {
   "cell_type": "code",
   "execution_count": null,
   "metadata": {
    "collapsed": true
   },
   "outputs": [],
   "source": [
    "flag_gaia_columns = [column for column in master_catalogue.colnames\n",
    "                     if 'flag_gaia' in column]\n",
    "\n",
    "master_catalogue.add_column(Column(\n",
    "    data=np.max([master_catalogue[column] for column in flag_gaia_columns], axis=0),\n",
    "    name=\"decam_flag_gaia\"\n",
    "))\n",
    "master_catalogue.remove_columns(flag_gaia_columns)"
   ]
  },
  {
   "cell_type": "markdown",
   "metadata": {},
   "source": [
    "Each prisitine catalogue may contain one or several stellarity columns indicating the probability (0 to 1) of each source being a star.  We merge these columns taking the highest value."
   ]
  },
  {
   "cell_type": "code",
   "execution_count": null,
   "metadata": {},
   "outputs": [],
   "source": [
    "stellarity_columns = [column for column in master_catalogue.colnames\n",
    "                      if 'stellarity' in column]\n",
    "\n",
    "master_catalogue.add_column(Column(\n",
    "    data=np.nanmax([master_catalogue[column] for column in stellarity_columns], axis=0),\n",
    "    name=\"decam_stellarity\"\n",
    "))\n",
    "master_catalogue.remove_columns(stellarity_columns)"
   ]
  },
  {
   "cell_type": "markdown",
   "metadata": {},
   "source": [
    "## VIII - Cross-identification table\n",
    "\n",
    "We are producing a table associating to each HELP identifier, the identifiers of the sources in the pristine catalogue. This can be used to easily get additional information from them."
   ]
  },
  {
   "cell_type": "code",
   "execution_count": null,
   "metadata": {
    "collapsed": true
   },
   "outputs": [],
   "source": [
    "master_catalogue.add_column(Column(data=(np.char.array(master_catalogue['des_id'].astype(str)) \n",
    "                                    +  np.char.array(master_catalogue['decals_id'].astype(str) )), \n",
    "                              name=\"decam_intid\"))\n"
   ]
  },
  {
   "cell_type": "code",
   "execution_count": null,
   "metadata": {},
   "outputs": [],
   "source": [
    "\n",
    "id_names = []\n",
    "for col in master_catalogue.colnames:\n",
    "    if '_id' in col:\n",
    "        id_names += [col]\n",
    "    if '_intid' in col:\n",
    "        id_names += [col]\n",
    "        \n",
    "print(id_names)"
   ]
  },
  {
   "cell_type": "markdown",
   "metadata": {},
   "source": [
    "## VI - Choosing between multiple values for the same filter\n",
    "\n"
   ]
  },
  {
   "cell_type": "code",
   "execution_count": null,
   "metadata": {
    "collapsed": true
   },
   "outputs": [],
   "source": [
    "decam_origin = Table()\n",
    "decam_origin.add_column(master_catalogue['decam_intid'])"
   ]
  },
  {
   "cell_type": "code",
   "execution_count": null,
   "metadata": {
    "collapsed": true
   },
   "outputs": [],
   "source": [
    "decam_stats = Table()\n",
    "decam_stats.add_column(Column(data=['g','r','i','z','y'], name=\"Band\"))\n",
    "for col in [\"DES\", \"DECaLS\"]:\n",
    "    decam_stats.add_column(Column(data=np.full(5, 0), name=\"{}\".format(col)))\n",
    "    decam_stats.add_column(Column(data=np.full(5, 0), name=\"use {}\".format(col)))\n",
    "    decam_stats.add_column(Column(data=np.full(5, 0), name=\"{} ap\".format(col)))\n",
    "    decam_stats.add_column(Column(data=np.full(5, 0), name=\"use {} ap\".format(col)))"
   ]
  },
  {
   "cell_type": "code",
   "execution_count": null,
   "metadata": {},
   "outputs": [],
   "source": [
    "decam_bands = ['g','r','i','z','y'] # Lowercase naming convention (k is Ks)\n",
    "for band in decam_bands:\n",
    "    if (band == 'i') or (band == 'y'):\n",
    "        master_catalogue[\"f_des-decam_{}\".format(band)].name = \"f_decam_{}\".format(band)\n",
    "        master_catalogue[\"ferr_des-decam_{}\".format(band)].name = \"ferr_decam_{}\".format(band)\n",
    "        master_catalogue[\"m_des-decam_{}\".format(band)].name = \"m_decam_{}\".format(band)\n",
    "        master_catalogue[\"merr_des-decam_{}\".format(band)].name = \"merr_decam_{}\".format(band)\n",
    "        master_catalogue[\"f_ap_des-decam_{}\".format(band)].name = \"f_ap_decam_{}\".format(band)\n",
    "        master_catalogue[\"ferr_ap_des-decam_{}\".format(band)].name = \"ferr_ap_decam_{}\".format(band)\n",
    "        master_catalogue[\"m_ap_des-decam_{}\".format(band)].name = \"m_ap_decam_{}\".format(band)\n",
    "        master_catalogue[\"merr_ap_des-decam_{}\".format(band)].name = \"merr_ap_decam_{}\".format(band)\n",
    "        master_catalogue[\"flag_des-decam_{}\".format(band)].name = \"flag_decam_{}\".format(band)\n",
    "        \n",
    "        continue\n",
    "\n",
    "    # DECam total flux \n",
    "    has_des = ~np.isnan(master_catalogue['f_des-decam_' + band])\n",
    "    has_decals = ~np.isnan(master_catalogue['f_decals-decam_' + band])\n",
    "\n",
    "    use_des = has_des \n",
    "    use_decals = has_decals & ~has_des\n",
    "\n",
    "\n",
    "    f_decam = np.full(len(master_catalogue), np.nan)\n",
    "    f_decam[use_des] = master_catalogue['f_des-decam_' + band][use_des]\n",
    "    f_decam[use_decals] = master_catalogue['f_decals-decam_' + band][use_decals]\n",
    "\n",
    "    ferr_decam = np.full(len(master_catalogue), np.nan)\n",
    "    ferr_decam[use_des] = master_catalogue['ferr_des-decam_' + band][use_des]\n",
    "    ferr_decam[use_decals] = master_catalogue['ferr_decals-decam_' + band][use_decals]\n",
    "    \n",
    "    m_decam = np.full(len(master_catalogue), np.nan)\n",
    "    m_decam[use_des] = master_catalogue['m_des-decam_' + band][use_des]\n",
    "    m_decam[use_decals] = master_catalogue['m_decals-decam_' + band][use_decals]\n",
    "    \n",
    "    merr_decam = np.full(len(master_catalogue), np.nan)\n",
    "    merr_decam[use_des] = master_catalogue['merr_des-decam_' + band][use_des]\n",
    "    merr_decam[use_decals] = master_catalogue['merr_decals-decam_' + band][use_decals]\n",
    "    \n",
    "    flag_decam = np.full(len(master_catalogue), False, dtype=bool)\n",
    "    flag_decam[use_des] = master_catalogue['flag_des-decam_' + band][use_des]\n",
    "    flag_decam[use_decals] = master_catalogue['flag_decals-decam_' + band][use_decals]\n",
    "\n",
    "    master_catalogue.add_column(Column(data=f_decam, name=\"f_decam_\" + band))\n",
    "    master_catalogue.add_column(Column(data=ferr_decam, name=\"ferr_decam_\" + band))\n",
    "    master_catalogue.add_column(Column(data=m_decam, name=\"m_decam_\" + band))\n",
    "    master_catalogue.add_column(Column(data=merr_decam, name=\"merr_decam_\" + band))\n",
    "    master_catalogue.add_column(Column(data=flag_decam, name=\"flag_decam_\" + band))\n",
    "\n",
    "\n",
    "    old_des_columns = ['f_des-decam_' + band,\n",
    "                               'ferr_des-decam_' + band,\n",
    "                               'm_des-decam_' + band, \n",
    "                               'merr_des-decam_' + band,\n",
    "                               'flag_des-decam_' + band]\n",
    "    old_decals_columns =      ['f_decals-decam_' + band,\n",
    "                               'ferr_decals-decam_' + band,\n",
    "                               'm_decals-decam_' + band, \n",
    "                               'merr_decals-decam_' + band,\n",
    "                               'flag_decals-decam_' + band]\n",
    "    \n",
    "    old_columns = old_des_columns + old_decals_columns\n",
    "    master_catalogue.remove_columns(old_columns)\n",
    "\n",
    "    origin = np.full(len(master_catalogue), '     ', dtype='<U5')\n",
    "    origin[use_des] = \"DES\"\n",
    "    origin[use_decals] = \"DECaLS\"\n",
    "\n",
    "    \n",
    "    decam_origin.add_column(Column(data=origin, name= 'f_decam_' + band ))\n",
    "    \n",
    "    # DECam aperture flux \n",
    " \n",
    "    has_ap_des = ~np.isnan(master_catalogue['f_ap_des-decam_' + band])\n",
    "    has_ap_decals = ~np.isnan(master_catalogue['f_ap_decals-decam_' + band])\n",
    "\n",
    "    use_ap_des = has_ap_des \n",
    "    use_ap_decals = has_ap_decals & ~has_ap_des\n",
    "\n",
    "\n",
    "    f_ap_decam = np.full(len(master_catalogue), np.nan)\n",
    "    f_ap_decam[use_ap_des] = master_catalogue['f_ap_des-decam_' + band][use_ap_des]\n",
    "    f_ap_decam[use_ap_decals] = master_catalogue['f_ap_decals-decam_' + band][use_ap_decals]\n",
    "\n",
    "    ferr_ap_decam = np.full(len(master_catalogue), np.nan)\n",
    "    ferr_ap_decam[use_ap_des] = master_catalogue['ferr_ap_des-decam_' + band][use_ap_des]\n",
    "    ferr_ap_decam[use_ap_decals] = master_catalogue['ferr_ap_decals-decam_' + band][use_ap_decals]\n",
    "    \n",
    "    m_ap_decam = np.full(len(master_catalogue), np.nan)\n",
    "    m_ap_decam[use_ap_des] = master_catalogue['m_ap_des-decam_' + band][use_ap_des]\n",
    "    m_ap_decam[use_ap_decals] = master_catalogue['m_ap_decals-decam_' + band][use_ap_decals]\n",
    "    \n",
    "    merr_ap_decam = np.full(len(master_catalogue), np.nan)\n",
    "    merr_ap_decam[use_ap_des] = master_catalogue['merr_ap_des-decam_' + band][use_ap_des]\n",
    "    merr_ap_decam[use_ap_decals] = master_catalogue['merr_ap_decals-decam_' + band][use_ap_decals]\n",
    "    \n",
    "\n",
    "    master_catalogue.add_column(Column(data=f_ap_decam, name=\"f_ap_decam_\" + band))\n",
    "    master_catalogue.add_column(Column(data=ferr_ap_decam, name=\"ferr_ap_decam_\" + band))\n",
    "    master_catalogue.add_column(Column(data=m_ap_decam, name=\"m_ap_decam_\" + band))\n",
    "    master_catalogue.add_column(Column(data=merr_ap_decam, name=\"merr_ap_decam_\" + band))\n",
    "  \n",
    "\n",
    "\n",
    "    old_ap_des_columns = ['f_ap_des-decam_' + band,\n",
    "                               'ferr_ap_des-decam_' + band,\n",
    "                               'm_ap_des-decam_' + band, \n",
    "                               'merr_ap_des-decam_' + band]\n",
    "    old_ap_decals_columns =      ['f_ap_decals-decam_' + band,\n",
    "                               'ferr_ap_decals-decam_' + band,\n",
    "                               'm_ap_decals-decam_' + band, \n",
    "                               'merr_ap_decals-decam_' + band]\n",
    "    \n",
    "    old_ap_columns = old_ap_des_columns + old_ap_decals_columns\n",
    "    master_catalogue.remove_columns(old_ap_columns)\n",
    "\n",
    "    origin_ap = np.full(len(master_catalogue), '     ', dtype='<U5')\n",
    "    origin_ap[use_ap_des] = \"DES\"\n",
    "    origin_ap[use_ap_decals] = \"DECaLS\"\n",
    "\n",
    "    \n",
    "    decam_origin.add_column(Column(data=origin_ap, name= 'f_ap_decam_' + band ))    \n",
    "\n",
    "   \n",
    "    decam_stats['DES'][decam_stats['Band'] == band] = np.sum(has_des)\n",
    "    decam_stats['DECaLS'][decam_stats['Band'] == band] = np.sum(has_decals)\n",
    "\n",
    "    decam_stats['use DES'][decam_stats['Band'] == band] = np.sum(use_des)\n",
    "    decam_stats['use DECaLS'][decam_stats['Band'] == band] = np.sum(use_decals)\n",
    "\n",
    "    decam_stats['DES ap'][decam_stats['Band'] == band] = np.sum(has_ap_des)\n",
    "    decam_stats['DECaLS ap'][decam_stats['Band'] == band] = np.sum(has_ap_decals)\n",
    "\n",
    "    decam_stats['use DES ap'][decam_stats['Band'] == band] = np.sum(use_ap_des)\n",
    "    decam_stats['use DECaLS ap'][decam_stats['Band'] == band] = np.sum(use_ap_decals)\n"
   ]
  },
  {
   "cell_type": "code",
   "execution_count": null,
   "metadata": {
    "collapsed": true
   },
   "outputs": [],
   "source": [
    "decam_stats.show_in_notebook()"
   ]
  },
  {
   "cell_type": "code",
   "execution_count": null,
   "metadata": {
    "collapsed": true
   },
   "outputs": [],
   "source": [
    "decam_origin.write(\"{}/herschel-stripe-82_decam_fluxes_origins{}.fits\".format(OUT_DIR, SUFFIX), overwrite=True)"
   ]
  },
  {
   "cell_type": "markdown",
   "metadata": {},
   "source": [
    "## IX - Saving the catalogue"
   ]
  },
  {
   "cell_type": "code",
   "execution_count": null,
   "metadata": {},
   "outputs": [],
   "source": [
    "master_catalogue.colnames"
   ]
  },
  {
   "cell_type": "code",
   "execution_count": null,
   "metadata": {
    "collapsed": true
   },
   "outputs": [],
   "source": [
    "master_catalogue[\"ra\"].name = \"decam_ra\"\n",
    "master_catalogue[\"dec\"].name = \"decam_dec\"\n",
    "master_catalogue[\"flag_merged\"].name = \"decam_flag_merged\""
   ]
  },
  {
   "cell_type": "code",
   "execution_count": null,
   "metadata": {
    "collapsed": true
   },
   "outputs": [],
   "source": [
    "columns = [\"decam_intid\", \"des_id\", \"decals_id\",\n",
    "           'decam_ra', 'decam_dec', 'decam_flag_merged',  \n",
    "           'decam_flag_cleaned',  'decam_flag_gaia', 'decam_stellarity']\n",
    "\n",
    "bands = [column[5:] for column in master_catalogue.colnames if 'f_ap' in column]\n",
    "for band in bands:\n",
    "    columns += [\"f_ap_{}\".format(band), \"ferr_ap_{}\".format(band),\n",
    "                \"m_ap_{}\".format(band), \"merr_ap_{}\".format(band),\n",
    "                \"f_{}\".format(band), \"ferr_{}\".format(band),\n",
    "                \"m_{}\".format(band), \"merr_{}\".format(band),\n",
    "                \"flag_{}\".format(band)]    \n"
   ]
  },
  {
   "cell_type": "code",
   "execution_count": null,
   "metadata": {},
   "outputs": [],
   "source": [
    "# We check for columns in the master catalogue that we will not save to disk.\n",
    "print(\"Missing columns: {}\".format(set(master_catalogue.colnames) - set(columns)))"
   ]
  },
  {
   "cell_type": "code",
   "execution_count": null,
   "metadata": {},
   "outputs": [],
   "source": [
    "master_catalogue[:10].show_in_notebook()"
   ]
  },
  {
   "cell_type": "code",
   "execution_count": null,
   "metadata": {
    "collapsed": true
   },
   "outputs": [],
   "source": [
    "master_catalogue[columns].write(\"{}/decam_merged_catalogue_herschel-stripe-82.fits\".format(TMP_DIR), overwrite=True)"
   ]
  }
 ],
 "metadata": {
  "kernelspec": {
   "display_name": "Python (herschelhelp_internal)",
   "language": "python",
   "name": "helpint"
  },
  "language_info": {
   "codemirror_mode": {
    "name": "ipython",
    "version": 3
   },
   "file_extension": ".py",
   "mimetype": "text/x-python",
   "name": "python",
   "nbconvert_exporter": "python",
   "pygments_lexer": "ipython3",
   "version": "3.6.1"
  }
 },
 "nbformat": 4,
 "nbformat_minor": 2
}
