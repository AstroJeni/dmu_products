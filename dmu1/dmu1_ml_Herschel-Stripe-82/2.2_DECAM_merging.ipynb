{
 "cells": [
  {
   "cell_type": "markdown",
   "metadata": {},
   "source": [
    "# Herschel Stripe 82 DECAM merging\n",
    "\n",
    "Both DES and DECaLS provide DECam fluxes which have overlapping coverage. We chose which to use DES preferentially. In this notebook we cross match both catalogues and take the DES fluxes where available, using DECaLS otherwise"
   ]
  },
  {
   "cell_type": "code",
   "execution_count": 1,
   "metadata": {},
   "outputs": [
    {
     "name": "stdout",
     "output_type": "stream",
     "text": [
      "This notebook was run with herschelhelp_internal version: \n",
      "33f5ec7 (Wed Dec 6 16:56:17 2017 +0000)\n"
     ]
    }
   ],
   "source": [
    "from herschelhelp_internal import git_version\n",
    "print(\"This notebook was run with herschelhelp_internal version: \\n{}\".format(git_version()))\n",
    "import datetime\n",
    "print(\"This notebook was executed on: \\n{}\".format(datetime.datetime.now()))"
   ]
  },
  {
   "cell_type": "code",
   "execution_count": 2,
   "metadata": {
    "collapsed": true
   },
   "outputs": [],
   "source": [
    "%matplotlib inline\n",
    "#%config InlineBackend.figure_format = 'svg'\n",
    "\n",
    "import matplotlib.pyplot as plt\n",
    "plt.rc('figure', figsize=(10, 6))\n",
    "\n",
    "import os\n",
    "import time\n",
    "\n",
    "from astropy import units as u\n",
    "from astropy.coordinates import SkyCoord\n",
    "from astropy.table import Column, Table\n",
    "import numpy as np\n",
    "from pymoc import MOC\n",
    "\n",
    "from herschelhelp_internal.masterlist import merge_catalogues, nb_merge_dist_plot\n",
    "from herschelhelp_internal.utils import coords_to_hpidx, ebv, gen_help_id, inMoc"
   ]
  },
  {
   "cell_type": "code",
   "execution_count": 3,
   "metadata": {
    "collapsed": true
   },
   "outputs": [],
   "source": [
    "TMP_DIR = os.environ.get('TMP_DIR', \"./data_tmp\")\n",
    "OUT_DIR = os.environ.get('OUT_DIR', \"./data\")\n",
    "SUFFIX = os.environ.get('SUFFIX', time.strftime(\"_%Y%m%d\"))\n",
    "\n",
    "try:\n",
    "    os.makedirs(OUT_DIR)\n",
    "except FileExistsError:\n",
    "    pass"
   ]
  },
  {
   "cell_type": "markdown",
   "metadata": {},
   "source": [
    "## I - Reading the prepared pristine catalogues"
   ]
  },
  {
   "cell_type": "code",
   "execution_count": 4,
   "metadata": {
    "collapsed": true
   },
   "outputs": [],
   "source": [
    "des = Table.read(\"{}/DES.fits\".format(TMP_DIR))\n",
    "decals = Table.read(\"{}/DECaLS.fits\".format(TMP_DIR))"
   ]
  },
  {
   "cell_type": "code",
   "execution_count": 5,
   "metadata": {
    "collapsed": true
   },
   "outputs": [],
   "source": [
    "for col in des.colnames:\n",
    "    if '_decam_' in col:\n",
    "        des[col].name = col.replace('_decam_', '_des-decam_')\n",
    "        \n",
    "for col in decals.colnames:\n",
    "    if '_decam_' in col:\n",
    "        decals[col].name = col.replace('_decam_', '_decals-decam_')"
   ]
  },
  {
   "cell_type": "markdown",
   "metadata": {},
   "source": [
    "## II - Merging tables\n",
    "\n",
    "We first merge the optical catalogues and then add the infrared ones: HSC, VHS, VICS82, UKIDSS-LAS, PanSTARRS, SHELA, SpIES.\n",
    "\n",
    "At every step, we look at the distribution of the distances to the nearest source in the merged catalogue to determine the best crossmatching radius."
   ]
  },
  {
   "cell_type": "markdown",
   "metadata": {},
   "source": [
    "### DES"
   ]
  },
  {
   "cell_type": "code",
   "execution_count": 6,
   "metadata": {
    "collapsed": true
   },
   "outputs": [],
   "source": [
    "master_catalogue = des\n",
    "master_catalogue['des_ra'].name = 'ra'\n",
    "master_catalogue['des_dec'].name = 'dec'\n"
   ]
  },
  {
   "cell_type": "markdown",
   "metadata": {},
   "source": [
    "## Add DECaLS"
   ]
  },
  {
   "cell_type": "code",
   "execution_count": 7,
   "metadata": {
    "scrolled": true
   },
   "outputs": [
    {
     "data": {
      "image/png": "[encoded data removed]",
      "text/plain": [
       "<matplotlib.figure.Figure at 0x7fe0b4782390>"
      ]
     },
     "metadata": {},
     "output_type": "display_data"
    }
   ],
   "source": [
    "nb_merge_dist_plot(\n",
    "    SkyCoord(master_catalogue['ra'], master_catalogue['dec']),\n",
    "    SkyCoord(decals['decals_ra'], decals['decals_dec'])\n",
    ")"
   ]
  },
  {
   "cell_type": "code",
   "execution_count": 8,
   "metadata": {
    "collapsed": true
   },
   "outputs": [],
   "source": [
    "# Given the graph above, we use 0.8 arc-second radius\n",
    "master_catalogue = merge_catalogues(master_catalogue, decals, \"decals_ra\", \"decals_dec\", radius=0.8*u.arcsec)\n"
   ]
  },
  {
   "cell_type": "markdown",
   "metadata": {},
   "source": [
    "### Cleaning\n",
    "\n",
    "When we merge the catalogues, astropy masks the non-existent values (e.g. when a row comes only from a catalogue and has no counterparts in the other, the columns from the latest are masked for that row). We indicate to use NaN for masked values for floats columns, False for flag columns and -1 for ID columns."
   ]
  },
  {
   "cell_type": "code",
   "execution_count": 9,
   "metadata": {
    "collapsed": true
   },
   "outputs": [],
   "source": [
    "for col in master_catalogue.colnames:\n",
    "    if \"m_\" in col or \"merr_\" in col or \"f_\" in col or \"ferr_\" in col or \"stellarity\" in col:\n",
    "        master_catalogue[col].fill_value = np.nan\n",
    "    elif \"flag\" in col:\n",
    "        master_catalogue[col].fill_value = 0\n",
    "    elif \"id\" in col:\n",
    "        master_catalogue[col].fill_value = -1\n",
    "        \n",
    "master_catalogue = master_catalogue.filled()"
   ]
  },
  {
   "cell_type": "code",
   "execution_count": 10,
   "metadata": {},
   "outputs": [
    {
     "data": {
      "text/html": [
       "&lt;Table length=10&gt;\n",
       "<table id=\"table140602499700048-135513\" class=\"table-striped table-bordered table-condensed\">\n",
       "<thead><tr><th>idx</th><th>des_id</th><th>ra</th><th>dec</th><th>des_stellarity</th><th>f_des-decam_g</th><th>ferr_des-decam_g</th><th>f_ap_des-decam_g</th><th>ferr_ap_des-decam_g</th><th>m_des-decam_g</th><th>merr_des-decam_g</th><th>m_ap_des-decam_g</th><th>merr_ap_des-decam_g</th><th>f_des-decam_r</th><th>ferr_des-decam_r</th><th>f_ap_des-decam_r</th><th>ferr_ap_des-decam_r</th><th>m_des-decam_r</th><th>merr_des-decam_r</th><th>m_ap_des-decam_r</th><th>merr_ap_des-decam_r</th><th>f_des-decam_i</th><th>ferr_des-decam_i</th><th>f_ap_des-decam_i</th><th>ferr_ap_des-decam_i</th><th>m_des-decam_i</th><th>merr_des-decam_i</th><th>m_ap_des-decam_i</th><th>merr_ap_des-decam_i</th><th>f_des-decam_z</th><th>ferr_des-decam_z</th><th>f_ap_des-decam_z</th><th>ferr_ap_des-decam_z</th><th>m_des-decam_z</th><th>merr_des-decam_z</th><th>m_ap_des-decam_z</th><th>merr_ap_des-decam_z</th><th>f_des-decam_y</th><th>ferr_des-decam_y</th><th>f_ap_des-decam_y</th><th>ferr_ap_des-decam_y</th><th>m_des-decam_y</th><th>merr_des-decam_y</th><th>m_ap_des-decam_y</th><th>merr_ap_des-decam_y</th><th>flag_des-decam_g</th><th>flag_des-decam_r</th><th>flag_des-decam_i</th><th>flag_des-decam_z</th><th>flag_des-decam_y</th><th>des_flag_cleaned</th><th>des_flag_gaia</th><th>flag_merged</th><th>decals_id</th><th>f_decals-decam_g</th><th>f_decals-decam_r</th><th>f_decals-decam_z</th><th>ferr_decals-decam_g</th><th>ferr_decals-decam_r</th><th>ferr_decals-decam_z</th><th>f_ap_decals-decam_g</th><th>f_ap_decals-decam_r</th><th>f_ap_decals-decam_z</th><th>ferr_ap_decals-decam_g</th><th>ferr_ap_decals-decam_r</th><th>ferr_ap_decals-decam_z</th><th>m_decals-decam_g</th><th>merr_decals-decam_g</th><th>flag_decals-decam_g</th><th>m_decals-decam_r</th><th>merr_decals-decam_r</th><th>flag_decals-decam_r</th><th>m_decals-decam_z</th><th>merr_decals-decam_z</th><th>flag_decals-decam_z</th><th>m_ap_decals-decam_g</th><th>merr_ap_decals-decam_g</th><th>m_ap_decals-decam_r</th><th>merr_ap_decals-decam_r</th><th>m_ap_decals-decam_z</th><th>merr_ap_decals-decam_z</th><th>decals_stellarity</th><th>decals_flag_cleaned</th><th>decals_flag_gaia</th></tr></thead>\n",
       "<thead><tr><th></th><th></th><th>deg</th><th>deg</th><th></th><th></th><th></th><th></th><th></th><th></th><th></th><th></th><th></th><th></th><th></th><th></th><th></th><th></th><th></th><th></th><th></th><th></th><th></th><th></th><th></th><th></th><th></th><th></th><th></th><th></th><th></th><th></th><th></th><th></th><th></th><th></th><th></th><th></th><th></th><th></th><th></th><th></th><th></th><th></th><th></th><th></th><th></th><th></th><th></th><th></th><th></th><th></th><th></th><th></th><th></th><th></th><th></th><th></th><th></th><th></th><th></th><th></th><th></th><th></th><th></th><th></th><th></th><th></th><th></th><th></th><th></th><th></th><th></th><th></th><th></th><th></th><th></th><th></th><th></th><th></th><th></th><th></th><th></th><th></th></tr></thead>\n",
       "<tr><td>0</td><td>64025141</td><td>29.9625519246</td><td>1.85748200298</td><td>0.999808073044</td><td>1226219.875</td><td>191.736251831</td><td>1185565.375</td><td>200.387084961</td><td>14.7785787582</td><td>0.000169810955413</td><td>14.8151865005</td><td>0.000183507610927</td><td>129274.351562</td><td>223.634292603</td><td>nan</td><td>nan</td><td>17.2212200165</td><td>0.00187869311776</td><td>nan</td><td>nan</td><td>122975.796875</td><td>305.33404541</td><td>nan</td><td>nan</td><td>17.2754516602</td><td>0.00269640679471</td><td>nan</td><td>nan</td><td>175457.9375</td><td>452.632263184</td><td>nan</td><td>nan</td><td>16.8895683289</td><td>0.00280157546513</td><td>nan</td><td>nan</td><td>2259996.75</td><td>1764.57043457</td><td>2091240.875</td><td>926.711364746</td><td>14.114730835</td><td>0.000847931951284</td><td>14.1989898682</td><td>0.000481116527226</td><td>False</td><td>False</td><td>False</td><td>False</td><td>False</td><td>False</td><td>3</td><td>False</td><td>-1</td><td>nan</td><td>nan</td><td>nan</td><td>nan</td><td>nan</td><td>nan</td><td>nan</td><td>nan</td><td>nan</td><td>nan</td><td>nan</td><td>nan</td><td>nan</td><td>nan</td><td>False</td><td>nan</td><td>nan</td><td>False</td><td>nan</td><td>nan</td><td>False</td><td>nan</td><td>nan</td><td>nan</td><td>nan</td><td>nan</td><td>nan</td><td>nan</td><td>False</td><td>0</td></tr>\n",
       "<tr><td>1</td><td>125273261</td><td>350.182969925</td><td>-1.11147799702</td><td>0.999714136124</td><td>869456.625</td><td>182.245361328</td><td>844920.75</td><td>172.278808594</td><td>15.1518802643</td><td>0.000227634664043</td><td>15.1829605103</td><td>0.000221373542445</td><td>188962.421875</td><td>269.825866699</td><td>nan</td><td>nan</td><td>16.8090610504</td><td>0.00155073637143</td><td>nan</td><td>nan</td><td>370653.46875</td><td>478.868347168</td><td>nan</td><td>nan</td><td>16.0775794983</td><td>0.00140306528192</td><td>nan</td><td>nan</td><td>863439.8125</td><td>852.663024902</td><td>nan</td><td>nan</td><td>15.1594200134</td><td>0.00107244541869</td><td>nan</td><td>nan</td><td>3775638.0</td><td>2503.95800781</td><td>nan</td><td>nan</td><td>13.5575237274</td><td>0.000720222247764</td><td>nan</td><td>nan</td><td>False</td><td>False</td><td>False</td><td>False</td><td>False</td><td>False</td><td>2</td><td>False</td><td>-1</td><td>nan</td><td>nan</td><td>nan</td><td>nan</td><td>nan</td><td>nan</td><td>nan</td><td>nan</td><td>nan</td><td>nan</td><td>nan</td><td>nan</td><td>nan</td><td>nan</td><td>False</td><td>nan</td><td>nan</td><td>False</td><td>nan</td><td>nan</td><td>False</td><td>nan</td><td>nan</td><td>nan</td><td>nan</td><td>nan</td><td>nan</td><td>nan</td><td>False</td><td>0</td></tr>\n",
       "<tr><td>2</td><td>150219124</td><td>350.996516925</td><td>0.656925002982</td><td>0.999798774719</td><td>936951.875</td><td>173.370422363</td><td>1093840.0</td><td>225.214385986</td><td>15.0707063675</td><td>0.000200949783903</td><td>14.9026155472</td><td>0.000223538430873</td><td>158837.0625</td><td>226.541000366</td><td>nan</td><td>nan</td><td>16.9976196289</td><td>0.001548905042</td><td>nan</td><td>nan</td><td>118778.40625</td><td>370.132171631</td><td>nan</td><td>nan</td><td>17.3131561279</td><td>0.00338414660655</td><td>nan</td><td>nan</td><td>114568.265625</td><td>708.203369141</td><td>nan</td><td>nan</td><td>17.3523387909</td><td>0.00671310536563</td><td>nan</td><td>nan</td><td>2264981.25</td><td>1661.47009277</td><td>2107426.25</td><td>930.810974121</td><td>14.1123380661</td><td>0.000796631968115</td><td>14.1906194687</td><td>0.000479533482576</td><td>False</td><td>False</td><td>False</td><td>False</td><td>False</td><td>False</td><td>3</td><td>False</td><td>-1</td><td>nan</td><td>nan</td><td>nan</td><td>nan</td><td>nan</td><td>nan</td><td>nan</td><td>nan</td><td>nan</td><td>nan</td><td>nan</td><td>nan</td><td>nan</td><td>nan</td><td>False</td><td>nan</td><td>nan</td><td>False</td><td>nan</td><td>nan</td><td>False</td><td>nan</td><td>nan</td><td>nan</td><td>nan</td><td>nan</td><td>nan</td><td>nan</td><td>False</td><td>0</td></tr>\n",
       "<tr><td>3</td><td>261792502</td><td>29.3728699246</td><td>1.62974200298</td><td>0.998975515366</td><td>1431206.25</td><td>274.892608643</td><td>1998341.375</td><td>421.073120117</td><td>14.6107444763</td><td>0.000208588651731</td><td>14.2483263016</td><td>0.000228769276873</td><td>164487.609375</td><td>294.765197754</td><td>nan</td><td>nan</td><td>16.9596672058</td><td>0.00194613449275</td><td>nan</td><td>nan</td><td>206637.71875</td><td>431.723175049</td><td>nan</td><td>nan</td><td>16.7119750977</td><td>0.00226895348169</td><td>nan</td><td>nan</td><td>232513.9375</td><td>618.275024414</td><td>nan</td><td>nan</td><td>16.5838775635</td><td>0.00288776960224</td><td>nan</td><td>nan</td><td>4495535.0</td><td>2464.61425781</td><td>4078118.25</td><td>1596.16650391</td><td>13.3680467606</td><td>0.000595384335611</td><td>13.4738512039</td><td>0.000424940604717</td><td>False</td><td>False</td><td>False</td><td>False</td><td>False</td><td>False</td><td>3</td><td>False</td><td>-1</td><td>nan</td><td>nan</td><td>nan</td><td>nan</td><td>nan</td><td>nan</td><td>nan</td><td>nan</td><td>nan</td><td>nan</td><td>nan</td><td>nan</td><td>nan</td><td>nan</td><td>False</td><td>nan</td><td>nan</td><td>False</td><td>nan</td><td>nan</td><td>False</td><td>nan</td><td>nan</td><td>nan</td><td>nan</td><td>nan</td><td>nan</td><td>nan</td><td>False</td><td>0</td></tr>\n",
       "<tr><td>4</td><td>125271997</td><td>350.189563925</td><td>-1.07921499702</td><td>0.999656677246</td><td>804168.3125</td><td>132.33934021</td><td>789748.125</td><td>166.813858032</td><td>15.2366323471</td><td>0.000178719463293</td><td>15.256278038</td><td>0.00022932603315</td><td>539343.0625</td><td>165.776672363</td><td>nan</td><td>nan</td><td>15.670337677</td><td>0.000333801406668</td><td>nan</td><td>nan</td><td>83426.6875</td><td>219.439315796</td><td>nan</td><td>nan</td><td>17.6967372894</td><td>0.00285653304309</td><td>nan</td><td>nan</td><td>134751.375</td><td>383.3722229</td><td>nan</td><td>nan</td><td>17.1761665344</td><td>0.00308970664628</td><td>nan</td><td>nan</td><td>1783992.375</td><td>1082.56225586</td><td>1728807.75</td><td>858.635437012</td><td>14.3715171814</td><td>0.00065900653135</td><td>14.4056329727</td><td>0.000539227388799</td><td>False</td><td>False</td><td>False</td><td>False</td><td>False</td><td>False</td><td>3</td><td>False</td><td>-1</td><td>nan</td><td>nan</td><td>nan</td><td>nan</td><td>nan</td><td>nan</td><td>nan</td><td>nan</td><td>nan</td><td>nan</td><td>nan</td><td>nan</td><td>nan</td><td>nan</td><td>False</td><td>nan</td><td>nan</td><td>False</td><td>nan</td><td>nan</td><td>False</td><td>nan</td><td>nan</td><td>nan</td><td>nan</td><td>nan</td><td>nan</td><td>nan</td><td>False</td><td>0</td></tr>\n",
       "<tr><td>5</td><td>124464173</td><td>350.223941925</td><td>-1.03165599702</td><td>0.99947810173</td><td>835825.375</td><td>159.350280762</td><td>814527.6875</td><td>172.410888672</td><td>15.1947107315</td><td>0.000207046119613</td><td>15.222735405</td><td>0.000229809869779</td><td>98441.3828125</td><td>169.477966309</td><td>nan</td><td>nan</td><td>17.5170555115</td><td>0.00186967174523</td><td>nan</td><td>nan</td><td>92859.53125</td><td>295.037261963</td><td>nan</td><td>nan</td><td>17.5804328918</td><td>0.00345048541203</td><td>nan</td><td>nan</td><td>120258.085938</td><td>563.893554688</td><td>nan</td><td>nan</td><td>17.2997150421</td><td>0.00509228464216</td><td>nan</td><td>nan</td><td>2310694.0</td><td>1721.43835449</td><td>2170654.75</td><td>958.139770508</td><td>14.0906438828</td><td>0.000809056509752</td><td>14.1585226059</td><td>0.000479234353406</td><td>False</td><td>False</td><td>False</td><td>False</td><td>False</td><td>False</td><td>3</td><td>False</td><td>-1</td><td>nan</td><td>nan</td><td>nan</td><td>nan</td><td>nan</td><td>nan</td><td>nan</td><td>nan</td><td>nan</td><td>nan</td><td>nan</td><td>nan</td><td>nan</td><td>nan</td><td>False</td><td>nan</td><td>nan</td><td>False</td><td>nan</td><td>nan</td><td>False</td><td>nan</td><td>nan</td><td>nan</td><td>nan</td><td>nan</td><td>nan</td><td>nan</td><td>False</td><td>0</td></tr>\n",
       "<tr><td>6</td><td>153178552</td><td>34.2107509246</td><td>-1.87568699702</td><td>0.999409258366</td><td>1194559.125</td><td>229.461120605</td><td>1343470.625</td><td>287.500335693</td><td>14.8069810867</td><td>0.000208608151297</td><td>14.6794300079</td><td>0.000232337872148</td><td>168767.53125</td><td>257.985229492</td><td>nan</td><td>nan</td><td>16.9317779541</td><td>0.00166010577232</td><td>nan</td><td>nan</td><td>131898.140625</td><td>430.940032959</td><td>nan</td><td>nan</td><td>17.1994037628</td><td>0.00354819907807</td><td>nan</td><td>nan</td><td>310448.9375</td><td>814.665283203</td><td>nan</td><td>nan</td><td>16.2700252533</td><td>0.00284982938319</td><td>nan</td><td>nan</td><td>4468266.5</td><td>2079.61889648</td><td>4054576.0</td><td>1137.19018555</td><td>13.3746519089</td><td>0.000505445699673</td><td>13.4801368713</td><td>0.000304507149849</td><td>False</td><td>False</td><td>False</td><td>False</td><td>False</td><td>False</td><td>3</td><td>False</td><td>-1</td><td>nan</td><td>nan</td><td>nan</td><td>nan</td><td>nan</td><td>nan</td><td>nan</td><td>nan</td><td>nan</td><td>nan</td><td>nan</td><td>nan</td><td>nan</td><td>nan</td><td>False</td><td>nan</td><td>nan</td><td>False</td><td>nan</td><td>nan</td><td>False</td><td>nan</td><td>nan</td><td>nan</td><td>nan</td><td>nan</td><td>nan</td><td>nan</td><td>False</td><td>0</td></tr>\n",
       "<tr><td>7</td><td>267640824</td><td>26.2999769246</td><td>-1.65480299702</td><td>0.963919997215</td><td>1106874.75</td><td>213.492858887</td><td>1388185.375</td><td>298.03414917</td><td>14.8897533417</td><td>0.000209466554224</td><td>14.6438808441</td><td>0.000233092549024</td><td>86074.1875</td><td>228.121170044</td><td>nan</td><td>nan</td><td>17.6628170013</td><td>0.00287821004167</td><td>nan</td><td>nan</td><td>128024.570312</td><td>379.106140137</td><td>nan</td><td>nan</td><td>17.2317657471</td><td>0.00321586127393</td><td>nan</td><td>nan</td><td>211762.359375</td><td>506.39276123</td><td>nan</td><td>nan</td><td>16.6853790283</td><td>0.00259697972797</td><td>nan</td><td>nan</td><td>2466106.75</td><td>2710.65307617</td><td>2352393.75</td><td>1732.2800293</td><td>14.0199699402</td><td>0.00119369092863</td><td>14.0712251663</td><td>0.000799498986453</td><td>False</td><td>False</td><td>False</td><td>False</td><td>False</td><td>False</td><td>3</td><td>False</td><td>-1</td><td>nan</td><td>nan</td><td>nan</td><td>nan</td><td>nan</td><td>nan</td><td>nan</td><td>nan</td><td>nan</td><td>nan</td><td>nan</td><td>nan</td><td>nan</td><td>nan</td><td>False</td><td>nan</td><td>nan</td><td>False</td><td>nan</td><td>nan</td><td>False</td><td>nan</td><td>nan</td><td>nan</td><td>nan</td><td>nan</td><td>nan</td><td>nan</td><td>False</td><td>0</td></tr>\n",
       "<tr><td>8</td><td>134678356</td><td>353.311040925</td><td>1.66696000298</td><td>0.999602854252</td><td>1565344.625</td><td>275.976470947</td><td>2097140.875</td><td>453.639770508</td><td>14.5134754181</td><td>0.000191466111573</td><td>14.1959314346</td><td>0.000234851497225</td><td>141477.46875</td><td>260.866790771</td><td>nan</td><td>nan</td><td>17.1232814789</td><td>0.00200244854204</td><td>nan</td><td>nan</td><td>124092.34375</td><td>395.45010376</td><td>nan</td><td>nan</td><td>17.2656383514</td><td>0.00346080027521</td><td>nan</td><td>nan</td><td>187019.109375</td><td>839.995361328</td><td>nan</td><td>nan</td><td>16.8202857971</td><td>0.00487776333466</td><td>nan</td><td>nan</td><td>3591049.25</td><td>2398.54296875</td><td>4093995.25</td><td>1697.79077148</td><td>13.6119470596</td><td>0.000725363963284</td><td>13.4696311951</td><td>0.000450242689112</td><td>False</td><td>False</td><td>False</td><td>False</td><td>False</td><td>False</td><td>3</td><td>False</td><td>-1</td><td>nan</td><td>nan</td><td>nan</td><td>nan</td><td>nan</td><td>nan</td><td>nan</td><td>nan</td><td>nan</td><td>nan</td><td>nan</td><td>nan</td><td>nan</td><td>nan</td><td>False</td><td>nan</td><td>nan</td><td>False</td><td>nan</td><td>nan</td><td>False</td><td>nan</td><td>nan</td><td>nan</td><td>nan</td><td>nan</td><td>nan</td><td>nan</td><td>False</td><td>0</td></tr>\n",
       "<tr><td>9</td><td>126554203</td><td>350.500060925</td><td>-0.462603997018</td><td>0.99980533123</td><td>850827.5</td><td>172.456573486</td><td>921857.875</td><td>200.229248047</td><td>15.1753959656</td><td>0.000220124333282</td><td>15.0883398056</td><td>0.000235816056374</td><td>120392.539062</td><td>190.972717285</td><td>nan</td><td>nan</td><td>17.2985019684</td><td>0.00172266794834</td><td>nan</td><td>nan</td><td>83080.921875</td><td>316.647796631</td><td>nan</td><td>nan</td><td>17.7012462616</td><td>0.00413909135386</td><td>nan</td><td>nan</td><td>79674.5390625</td><td>615.690246582</td><td>nan</td><td>nan</td><td>17.7467002869</td><td>0.00839213654399</td><td>nan</td><td>nan</td><td>1796321.875</td><td>1744.85766602</td><td>1688718.25</td><td>804.237426758</td><td>14.3640394211</td><td>0.00105488637928</td><td>14.4311075211</td><td>0.000517055217642</td><td>False</td><td>False</td><td>False</td><td>False</td><td>False</td><td>False</td><td>3</td><td>False</td><td>-1</td><td>nan</td><td>nan</td><td>nan</td><td>nan</td><td>nan</td><td>nan</td><td>nan</td><td>nan</td><td>nan</td><td>nan</td><td>nan</td><td>nan</td><td>nan</td><td>nan</td><td>False</td><td>nan</td><td>nan</td><td>False</td><td>nan</td><td>nan</td><td>False</td><td>nan</td><td>nan</td><td>nan</td><td>nan</td><td>nan</td><td>nan</td><td>nan</td><td>False</td><td>0</td></tr>\n",
       "</table><style>table.dataTable {clear: both; width: auto !important; margin: 0 !important;}\n",
       ".dataTables_info, .dataTables_length, .dataTables_filter, .dataTables_paginate{\n",
       "display: inline-block; margin-right: 1em; }\n",
       ".paginate_button { margin-right: 5px; }\n",
       "</style>\n",
       "<script>\n",
       "require.config({paths: {\n",
       "    datatables: 'https://cdn.datatables.net/1.10.12/js/jquery.dataTables.min'\n",
       "}});\n",
       "require([\"datatables\"], function(){\n",
       "    console.log(\"$('#table140602499700048-135513').dataTable()\");\n",
       "    $('#table140602499700048-135513').dataTable({\n",
       "        \"order\": [],\n",
       "        \"iDisplayLength\": 50,\n",
       "        \"aLengthMenu\": [[10, 25, 50, 100, 500, 1000, -1], [10, 25, 50, 100, 500, 1000, 'All']],\n",
       "        \"pagingType\": \"full_numbers\"\n",
       "    });\n",
       "});\n",
       "</script>\n"
      ],
      "text/plain": [
       "<IPython.core.display.HTML object>"
      ]
     },
     "execution_count": 10,
     "metadata": {},
     "output_type": "execute_result"
    }
   ],
   "source": [
    "master_catalogue[:10].show_in_notebook()"
   ]
  },
  {
   "cell_type": "markdown",
   "metadata": {},
   "source": [
    "## III - Merging flags and stellarity\n",
    "\n",
    "Each pristine catalogue contains a flag indicating if the source was associated to a another nearby source that was removed during the cleaning process.  We merge these flags in a single one."
   ]
  },
  {
   "cell_type": "code",
   "execution_count": 11,
   "metadata": {
    "collapsed": true
   },
   "outputs": [],
   "source": [
    "flag_cleaned_columns = [column for column in master_catalogue.colnames\n",
    "                        if 'flag_cleaned' in column]\n",
    "\n",
    "flag_column = np.zeros(len(master_catalogue), dtype=bool)\n",
    "for column in flag_cleaned_columns:\n",
    "    flag_column |= master_catalogue[column]\n",
    "    \n",
    "master_catalogue.add_column(Column(data=flag_column, name=\"decam_flag_cleaned\"))\n",
    "master_catalogue.remove_columns(flag_cleaned_columns)"
   ]
  },
  {
   "cell_type": "markdown",
   "metadata": {},
   "source": [
    "Each pristine catalogue contains a flag indicating the probability of a source being a Gaia object (0: not a Gaia object, 1: possibly, 2: probably, 3: definitely).  We merge these flags taking the highest value."
   ]
  },
  {
   "cell_type": "code",
   "execution_count": 12,
   "metadata": {
    "collapsed": true
   },
   "outputs": [],
   "source": [
    "flag_gaia_columns = [column for column in master_catalogue.colnames\n",
    "                     if 'flag_gaia' in column]\n",
    "\n",
    "master_catalogue.add_column(Column(\n",
    "    data=np.max([master_catalogue[column] for column in flag_gaia_columns], axis=0),\n",
    "    name=\"decam_flag_gaia\"\n",
    "))\n",
    "master_catalogue.remove_columns(flag_gaia_columns)"
   ]
  },
  {
   "cell_type": "markdown",
   "metadata": {},
   "source": [
    "Each prisitine catalogue may contain one or several stellarity columns indicating the probability (0 to 1) of each source being a star.  We merge these columns taking the highest value."
   ]
  },
  {
   "cell_type": "code",
   "execution_count": 13,
   "metadata": {
    "collapsed": true
   },
   "outputs": [],
   "source": [
    "stellarity_columns = [column for column in master_catalogue.colnames\n",
    "                      if 'stellarity' in column]\n",
    "\n",
    "master_catalogue.add_column(Column(\n",
    "    data=np.nanmax([master_catalogue[column] for column in stellarity_columns], axis=0),\n",
    "    name=\"decam_stellarity\"\n",
    "))\n",
    "master_catalogue.remove_columns(stellarity_columns)"
   ]
  },
  {
   "cell_type": "markdown",
   "metadata": {},
   "source": [
    "## VIII - Cross-identification table\n",
    "\n",
    "We are producing a table associating to each HELP identifier, the identifiers of the sources in the pristine catalogue. This can be used to easily get additional information from them."
   ]
  },
  {
   "cell_type": "code",
   "execution_count": 14,
   "metadata": {
    "collapsed": true
   },
   "outputs": [],
   "source": [
    "master_catalogue.add_column(Column(data=(np.char.array(master_catalogue['des_id'].astype(str)) \n",
    "                                    +  np.char.array(master_catalogue['decals_id'].astype(str) )), \n",
    "                              name=\"decam_intid\"))\n"
   ]
  },
  {
   "cell_type": "code",
   "execution_count": 15,
   "metadata": {},
   "outputs": [
    {
     "name": "stdout",
     "output_type": "stream",
     "text": [
      "['des_id', 'decals_id', 'decam_intid']\n"
     ]
    }
   ],
   "source": [
    "\n",
    "id_names = []\n",
    "for col in master_catalogue.colnames:\n",
    "    if '_id' in col:\n",
    "        id_names += [col]\n",
    "    if '_intid' in col:\n",
    "        id_names += [col]\n",
    "        \n",
    "print(id_names)"
   ]
  },
  {
   "cell_type": "markdown",
   "metadata": {},
   "source": [
    "## VI - Choosing between multiple values for the same filter\n",
    "\n"
   ]
  },
  {
   "cell_type": "code",
   "execution_count": 16,
   "metadata": {
    "collapsed": true
   },
   "outputs": [],
   "source": [
    "decam_origin = Table()\n",
    "decam_origin.add_column(master_catalogue['decam_intid'])"
   ]
  },
  {
   "cell_type": "code",
   "execution_count": 17,
   "metadata": {
    "collapsed": true
   },
   "outputs": [
    {
     "name": "stderr",
     "output_type": "stream",
     "text": [
      "/opt/anaconda3/envs/herschelhelp_internal/lib/python3.6/site-packages/numpy/core/numeric.py:301: FutureWarning: in the future, full(5, 0) will return an array of dtype('int64')\n",
      "  format(shape, fill_value, array(fill_value).dtype), FutureWarning)\n"
     ]
    }
   ],
   "source": [
    "decam_stats = Table()\n",
    "decam_stats.add_column(Column(data=['g','r','i','z','y'], name=\"Band\"))\n",
    "for col in [\"DES\", \"DECaLS\"]:\n",
    "    decam_stats.add_column(Column(data=np.full(5, 0), name=\"{}\".format(col)))\n",
    "    decam_stats.add_column(Column(data=np.full(5, 0), name=\"use {}\".format(col)))\n",
    "    decam_stats.add_column(Column(data=np.full(5, 0), name=\"{} ap\".format(col)))\n",
    "    decam_stats.add_column(Column(data=np.full(5, 0), name=\"use {} ap\".format(col)))"
   ]
  },
  {
   "cell_type": "code",
   "execution_count": 18,
   "metadata": {
    "collapsed": true
   },
   "outputs": [],
   "source": [
    "decam_bands = ['g','r','i','z','y'] # Lowercase naming convention (k is Ks)\n",
    "for band in decam_bands:\n",
    "    if (band == 'i') or (band == 'y'):\n",
    "        master_catalogue[\"f_des-decam_{}\".format(band)].name = \"f_decam_{}\".format(band)\n",
    "        master_catalogue[\"ferr_des-decam_{}\".format(band)].name = \"ferr_decam_{}\".format(band)\n",
    "        master_catalogue[\"m_des-decam_{}\".format(band)].name = \"m_decam_{}\".format(band)\n",
    "        master_catalogue[\"merr_des-decam_{}\".format(band)].name = \"merr_decam_{}\".format(band)\n",
    "        master_catalogue[\"f_ap_des-decam_{}\".format(band)].name = \"f_ap_decam_{}\".format(band)\n",
    "        master_catalogue[\"ferr_ap_des-decam_{}\".format(band)].name = \"ferr_ap_decam_{}\".format(band)\n",
    "        master_catalogue[\"m_ap_des-decam_{}\".format(band)].name = \"m_ap_decam_{}\".format(band)\n",
    "        master_catalogue[\"merr_ap_des-decam_{}\".format(band)].name = \"merr_ap_decam_{}\".format(band)\n",
    "        master_catalogue[\"flag_des-decam_{}\".format(band)].name = \"flag_decam_{}\".format(band)\n",
    "        \n",
    "        continue\n",
    "\n",
    "    # DECam total flux \n",
    "    has_des = ~np.isnan(master_catalogue['f_des-decam_' + band])\n",
    "    has_decals = ~np.isnan(master_catalogue['f_decals-decam_' + band])\n",
    "\n",
    "    use_des = has_des \n",
    "    use_decals = has_decals & ~has_des\n",
    "\n",
    "\n",
    "    f_decam = np.full(len(master_catalogue), np.nan)\n",
    "    f_decam[use_des] = master_catalogue['f_des-decam_' + band][use_des]\n",
    "    f_decam[use_decals] = master_catalogue['f_decals-decam_' + band][use_decals]\n",
    "\n",
    "    ferr_decam = np.full(len(master_catalogue), np.nan)\n",
    "    ferr_decam[use_des] = master_catalogue['ferr_des-decam_' + band][use_des]\n",
    "    ferr_decam[use_decals] = master_catalogue['ferr_decals-decam_' + band][use_decals]\n",
    "    \n",
    "    m_decam = np.full(len(master_catalogue), np.nan)\n",
    "    m_decam[use_des] = master_catalogue['m_des-decam_' + band][use_des]\n",
    "    m_decam[use_decals] = master_catalogue['m_decals-decam_' + band][use_decals]\n",
    "    \n",
    "    merr_decam = np.full(len(master_catalogue), np.nan)\n",
    "    merr_decam[use_des] = master_catalogue['merr_des-decam_' + band][use_des]\n",
    "    merr_decam[use_decals] = master_catalogue['merr_decals-decam_' + band][use_decals]\n",
    "    \n",
    "    flag_decam = np.full(len(master_catalogue), False, dtype=bool)\n",
    "    flag_decam[use_des] = master_catalogue['flag_des-decam_' + band][use_des]\n",
    "    flag_decam[use_decals] = master_catalogue['flag_decals-decam_' + band][use_decals]\n",
    "\n",
    "    master_catalogue.add_column(Column(data=f_decam, name=\"f_decam_\" + band))\n",
    "    master_catalogue.add_column(Column(data=ferr_decam, name=\"ferr_decam_\" + band))\n",
    "    master_catalogue.add_column(Column(data=m_decam, name=\"m_decam_\" + band))\n",
    "    master_catalogue.add_column(Column(data=merr_decam, name=\"merr_decam_\" + band))\n",
    "    master_catalogue.add_column(Column(data=flag_decam, name=\"flag_decam_\" + band))\n",
    "\n",
    "\n",
    "    old_des_columns = ['f_des-decam_' + band,\n",
    "                               'ferr_des-decam_' + band,\n",
    "                               'm_des-decam_' + band, \n",
    "                               'merr_des-decam_' + band,\n",
    "                               'flag_des-decam_' + band]\n",
    "    old_decals_columns =      ['f_decals-decam_' + band,\n",
    "                               'ferr_decals-decam_' + band,\n",
    "                               'm_decals-decam_' + band, \n",
    "                               'merr_decals-decam_' + band,\n",
    "                               'flag_decals-decam_' + band]\n",
    "    \n",
    "    old_columns = old_des_columns + old_decals_columns\n",
    "    master_catalogue.remove_columns(old_columns)\n",
    "\n",
    "    origin = np.full(len(master_catalogue), '     ', dtype='<U5')\n",
    "    origin[use_des] = \"DES\"\n",
    "    origin[use_decals] = \"DECaLS\"\n",
    "\n",
    "    \n",
    "    decam_origin.add_column(Column(data=origin, name= 'f_decam_' + band ))\n",
    "    \n",
    "    # DECam aperture flux \n",
    " \n",
    "    has_ap_des = ~np.isnan(master_catalogue['f_ap_des-decam_' + band])\n",
    "    has_ap_decals = ~np.isnan(master_catalogue['f_ap_decals-decam_' + band])\n",
    "\n",
    "    use_ap_des = has_ap_des \n",
    "    use_ap_decals = has_ap_decals & ~has_ap_des\n",
    "\n",
    "\n",
    "    f_ap_decam = np.full(len(master_catalogue), np.nan)\n",
    "    f_ap_decam[use_ap_des] = master_catalogue['f_ap_des-decam_' + band][use_ap_des]\n",
    "    f_ap_decam[use_ap_decals] = master_catalogue['f_ap_decals-decam_' + band][use_ap_decals]\n",
    "\n",
    "    ferr_ap_decam = np.full(len(master_catalogue), np.nan)\n",
    "    ferr_ap_decam[use_ap_des] = master_catalogue['ferr_ap_des-decam_' + band][use_ap_des]\n",
    "    ferr_ap_decam[use_ap_decals] = master_catalogue['ferr_ap_decals-decam_' + band][use_ap_decals]\n",
    "    \n",
    "    m_ap_decam = np.full(len(master_catalogue), np.nan)\n",
    "    m_ap_decam[use_ap_des] = master_catalogue['m_ap_des-decam_' + band][use_ap_des]\n",
    "    m_ap_decam[use_ap_decals] = master_catalogue['m_ap_decals-decam_' + band][use_ap_decals]\n",
    "    \n",
    "    merr_ap_decam = np.full(len(master_catalogue), np.nan)\n",
    "    merr_ap_decam[use_ap_des] = master_catalogue['merr_ap_des-decam_' + band][use_ap_des]\n",
    "    merr_ap_decam[use_ap_decals] = master_catalogue['merr_ap_decals-decam_' + band][use_ap_decals]\n",
    "    \n",
    "\n",
    "    master_catalogue.add_column(Column(data=f_ap_decam, name=\"f_ap_decam_\" + band))\n",
    "    master_catalogue.add_column(Column(data=ferr_ap_decam, name=\"ferr_ap_decam_\" + band))\n",
    "    master_catalogue.add_column(Column(data=m_ap_decam, name=\"m_ap_decam_\" + band))\n",
    "    master_catalogue.add_column(Column(data=merr_ap_decam, name=\"merr_ap_decam_\" + band))\n",
    "  \n",
    "\n",
    "\n",
    "    old_ap_des_columns = ['f_ap_des-decam_' + band,\n",
    "                               'ferr_ap_des-decam_' + band,\n",
    "                               'm_ap_des-decam_' + band, \n",
    "                               'merr_ap_des-decam_' + band]\n",
    "    old_ap_decals_columns =      ['f_ap_decals-decam_' + band,\n",
    "                               'ferr_ap_decals-decam_' + band,\n",
    "                               'm_ap_decals-decam_' + band, \n",
    "                               'merr_ap_decals-decam_' + band]\n",
    "    \n",
    "    old_ap_columns = old_ap_des_columns + old_ap_decals_columns\n",
    "    master_catalogue.remove_columns(old_ap_columns)\n",
    "\n",
    "    origin_ap = np.full(len(master_catalogue), '     ', dtype='<U5')\n",
    "    origin_ap[use_ap_des] = \"DES\"\n",
    "    origin_ap[use_ap_decals] = \"DECaLS\"\n",
    "\n",
    "    \n",
    "    decam_origin.add_column(Column(data=origin_ap, name= 'f_ap_decam_' + band ))    \n",
    "\n",
    "   \n",
    "    decam_stats['DES'][decam_stats['Band'] == band] = np.sum(has_des)\n",
    "    decam_stats['DECaLS'][decam_stats['Band'] == band] = np.sum(has_decals)\n",
    "\n",
    "    decam_stats['use DES'][decam_stats['Band'] == band] = np.sum(use_des)\n",
    "    decam_stats['use DECaLS'][decam_stats['Band'] == band] = np.sum(use_decals)\n",
    "\n",
    "    decam_stats['DES ap'][decam_stats['Band'] == band] = np.sum(has_ap_des)\n",
    "    decam_stats['DECaLS ap'][decam_stats['Band'] == band] = np.sum(has_ap_decals)\n",
    "\n",
    "    decam_stats['use DES ap'][decam_stats['Band'] == band] = np.sum(use_ap_des)\n",
    "    decam_stats['use DECaLS ap'][decam_stats['Band'] == band] = np.sum(use_ap_decals)\n"
   ]
  },
  {
   "cell_type": "code",
   "execution_count": 19,
   "metadata": {
    "collapsed": true
   },
   "outputs": [
    {
     "data": {
      "text/html": [
       "&lt;Table length=5&gt;\n",
       "<table id=\"table140602584592112-54018\" class=\"table-striped table-bordered table-condensed\">\n",
       "<thead><tr><th>idx</th><th>Band</th><th>DES</th><th>use DES</th><th>DES ap</th><th>use DES ap</th><th>DECaLS</th><th>use DECaLS</th><th>DECaLS ap</th><th>use DECaLS ap</th></tr></thead>\n",
       "<tr><td>0</td><td>g</td><td>18518553.0</td><td>18518553.0</td><td>5631580.0</td><td>5631580.0</td><td>23814977.0</td><td>6954360.0</td><td>22206932.0</td><td>16740308.0</td></tr>\n",
       "<tr><td>1</td><td>r</td><td>18518555.0</td><td>18518555.0</td><td>9546560.0</td><td>9546560.0</td><td>23839774.0</td><td>6996445.0</td><td>22971963.0</td><td>13802842.0</td></tr>\n",
       "<tr><td>2</td><td>i</td><td>0.0</td><td>0.0</td><td>0.0</td><td>0.0</td><td>0.0</td><td>0.0</td><td>0.0</td><td>0.0</td></tr>\n",
       "<tr><td>3</td><td>z</td><td>18518555.0</td><td>18518555.0</td><td>8032595.0</td><td>8032595.0</td><td>24032002.0</td><td>7169236.0</td><td>22011790.0</td><td>14236760.0</td></tr>\n",
       "<tr><td>4</td><td>y</td><td>0.0</td><td>0.0</td><td>0.0</td><td>0.0</td><td>0.0</td><td>0.0</td><td>0.0</td><td>0.0</td></tr>\n",
       "</table><style>table.dataTable {clear: both; width: auto !important; margin: 0 !important;}\n",
       ".dataTables_info, .dataTables_length, .dataTables_filter, .dataTables_paginate{\n",
       "display: inline-block; margin-right: 1em; }\n",
       ".paginate_button { margin-right: 5px; }\n",
       "</style>\n",
       "<script>\n",
       "require.config({paths: {\n",
       "    datatables: 'https://cdn.datatables.net/1.10.12/js/jquery.dataTables.min'\n",
       "}});\n",
       "require([\"datatables\"], function(){\n",
       "    console.log(\"$('#table140602584592112-54018').dataTable()\");\n",
       "    $('#table140602584592112-54018').dataTable({\n",
       "        \"order\": [],\n",
       "        \"iDisplayLength\": 50,\n",
       "        \"aLengthMenu\": [[10, 25, 50, 100, 500, 1000, -1], [10, 25, 50, 100, 500, 1000, 'All']],\n",
       "        \"pagingType\": \"full_numbers\"\n",
       "    });\n",
       "});\n",
       "</script>\n"
      ],
      "text/plain": [
       "<IPython.core.display.HTML object>"
      ]
     },
     "execution_count": 19,
     "metadata": {},
     "output_type": "execute_result"
    }
   ],
   "source": [
    "decam_stats.show_in_notebook()"
   ]
  },
  {
   "cell_type": "code",
   "execution_count": 20,
   "metadata": {
    "collapsed": true
   },
   "outputs": [],
   "source": [
    "decam_origin.write(\"{}/herschel-stripe-82_decam_fluxes_origins{}.fits\".format(OUT_DIR, SUFFIX), overwrite=True)"
   ]
  },
  {
   "cell_type": "markdown",
   "metadata": {},
   "source": [
    "## IX - Saving the catalogue"
   ]
  },
  {
   "cell_type": "code",
   "execution_count": 21,
   "metadata": {},
   "outputs": [
    {
     "data": {
      "text/plain": [
       "['des_id',\n",
       " 'ra',\n",
       " 'dec',\n",
       " 'f_decam_i',\n",
       " 'ferr_decam_i',\n",
       " 'f_ap_decam_i',\n",
       " 'ferr_ap_decam_i',\n",
       " 'm_decam_i',\n",
       " 'merr_decam_i',\n",
       " 'm_ap_decam_i',\n",
       " 'merr_ap_decam_i',\n",
       " 'f_decam_y',\n",
       " 'ferr_decam_y',\n",
       " 'f_ap_decam_y',\n",
       " 'ferr_ap_decam_y',\n",
       " 'm_decam_y',\n",
       " 'merr_decam_y',\n",
       " 'm_ap_decam_y',\n",
       " 'merr_ap_decam_y',\n",
       " 'flag_decam_i',\n",
       " 'flag_decam_y',\n",
       " 'flag_merged',\n",
       " 'decals_id',\n",
       " 'decam_flag_cleaned',\n",
       " 'decam_flag_gaia',\n",
       " 'decam_stellarity',\n",
       " 'decam_intid',\n",
       " 'f_decam_g',\n",
       " 'ferr_decam_g',\n",
       " 'm_decam_g',\n",
       " 'merr_decam_g',\n",
       " 'flag_decam_g',\n",
       " 'f_ap_decam_g',\n",
       " 'ferr_ap_decam_g',\n",
       " 'm_ap_decam_g',\n",
       " 'merr_ap_decam_g',\n",
       " 'f_decam_r',\n",
       " 'ferr_decam_r',\n",
       " 'm_decam_r',\n",
       " 'merr_decam_r',\n",
       " 'flag_decam_r',\n",
       " 'f_ap_decam_r',\n",
       " 'ferr_ap_decam_r',\n",
       " 'm_ap_decam_r',\n",
       " 'merr_ap_decam_r',\n",
       " 'f_decam_z',\n",
       " 'ferr_decam_z',\n",
       " 'm_decam_z',\n",
       " 'merr_decam_z',\n",
       " 'flag_decam_z',\n",
       " 'f_ap_decam_z',\n",
       " 'ferr_ap_decam_z',\n",
       " 'm_ap_decam_z',\n",
       " 'merr_ap_decam_z']"
      ]
     },
     "execution_count": 21,
     "metadata": {},
     "output_type": "execute_result"
    }
   ],
   "source": [
    "master_catalogue.colnames"
   ]
  },
  {
   "cell_type": "code",
   "execution_count": 22,
   "metadata": {
    "collapsed": true
   },
   "outputs": [],
   "source": [
    "master_catalogue[\"ra\"].name = \"decam_ra\"\n",
    "master_catalogue[\"dec\"].name = \"decam_dec\"\n",
    "master_catalogue[\"flag_merged\"].name = \"decam_flag_merged\""
   ]
  },
  {
   "cell_type": "code",
   "execution_count": 23,
   "metadata": {
    "collapsed": true
   },
   "outputs": [],
   "source": [
    "columns = [\"decam_intid\", \"des_id\", \"decals_id\",\n",
    "           'decam_ra', 'decam_dec', 'decam_flag_merged',  \n",
    "           'decam_flag_cleaned',  'decam_flag_gaia', 'decam_stellarity']\n",
    "\n",
    "bands = [column[5:] for column in master_catalogue.colnames if 'f_ap' in column]\n",
    "for band in bands:\n",
    "    columns += [\"f_ap_{}\".format(band), \"ferr_ap_{}\".format(band),\n",
    "                \"m_ap_{}\".format(band), \"merr_ap_{}\".format(band),\n",
    "                \"f_{}\".format(band), \"ferr_{}\".format(band),\n",
    "                \"m_{}\".format(band), \"merr_{}\".format(band),\n",
    "                \"flag_{}\".format(band)]    \n"
   ]
  },
  {
   "cell_type": "code",
   "execution_count": 24,
   "metadata": {},
   "outputs": [
    {
     "name": "stdout",
     "output_type": "stream",
     "text": [
      "Missing columns: set()\n"
     ]
    }
   ],
   "source": [
    "# We check for columns in the master catalogue that we will not save to disk.\n",
    "print(\"Missing columns: {}\".format(set(master_catalogue.colnames) - set(columns)))"
   ]
  },
  {
   "cell_type": "code",
   "execution_count": 25,
   "metadata": {},
   "outputs": [
    {
     "data": {
      "text/html": [
       "&lt;Table length=10&gt;\n",
       "<table id=\"table140602613020600-814312\" class=\"table-striped table-bordered table-condensed\">\n",
       "<thead><tr><th>idx</th><th>des_id</th><th>decam_ra</th><th>decam_dec</th><th>f_decam_i</th><th>ferr_decam_i</th><th>f_ap_decam_i</th><th>ferr_ap_decam_i</th><th>m_decam_i</th><th>merr_decam_i</th><th>m_ap_decam_i</th><th>merr_ap_decam_i</th><th>f_decam_y</th><th>ferr_decam_y</th><th>f_ap_decam_y</th><th>ferr_ap_decam_y</th><th>m_decam_y</th><th>merr_decam_y</th><th>m_ap_decam_y</th><th>merr_ap_decam_y</th><th>flag_decam_i</th><th>flag_decam_y</th><th>decam_flag_merged</th><th>decals_id</th><th>decam_flag_cleaned</th><th>decam_flag_gaia</th><th>decam_stellarity</th><th>decam_intid</th><th>f_decam_g</th><th>ferr_decam_g</th><th>m_decam_g</th><th>merr_decam_g</th><th>flag_decam_g</th><th>f_ap_decam_g</th><th>ferr_ap_decam_g</th><th>m_ap_decam_g</th><th>merr_ap_decam_g</th><th>f_decam_r</th><th>ferr_decam_r</th><th>m_decam_r</th><th>merr_decam_r</th><th>flag_decam_r</th><th>f_ap_decam_r</th><th>ferr_ap_decam_r</th><th>m_ap_decam_r</th><th>merr_ap_decam_r</th><th>f_decam_z</th><th>ferr_decam_z</th><th>m_decam_z</th><th>merr_decam_z</th><th>flag_decam_z</th><th>f_ap_decam_z</th><th>ferr_ap_decam_z</th><th>m_ap_decam_z</th><th>merr_ap_decam_z</th></tr></thead>\n",
       "<thead><tr><th></th><th></th><th>deg</th><th>deg</th><th></th><th></th><th></th><th></th><th></th><th></th><th></th><th></th><th></th><th></th><th></th><th></th><th></th><th></th><th></th><th></th><th></th><th></th><th></th><th></th><th></th><th></th><th></th><th></th><th></th><th></th><th></th><th></th><th></th><th></th><th></th><th></th><th></th><th></th><th></th><th></th><th></th><th></th><th></th><th></th><th></th><th></th><th></th><th></th><th></th><th></th><th></th><th></th><th></th><th></th><th></th></tr></thead>\n",
       "<tr><td>0</td><td>64025141</td><td>29.9625519246</td><td>1.85748200298</td><td>122975.796875</td><td>305.33404541</td><td>nan</td><td>nan</td><td>17.2754516602</td><td>0.00269640679471</td><td>nan</td><td>nan</td><td>2259996.75</td><td>1764.57043457</td><td>2091240.875</td><td>926.711364746</td><td>14.114730835</td><td>0.000847931951284</td><td>14.1989898682</td><td>0.000481116527226</td><td>False</td><td>False</td><td>False</td><td>-1</td><td>False</td><td>3</td><td>0.999808073044</td><td>64025141-1</td><td>1226219.875</td><td>191.736251831</td><td>14.7785787582</td><td>0.000169810955413</td><td>False</td><td>1185565.375</td><td>200.387084961</td><td>14.8151865005</td><td>0.000183507610927</td><td>129274.351562</td><td>223.634292603</td><td>17.2212200165</td><td>0.00187869311776</td><td>False</td><td>nan</td><td>nan</td><td>nan</td><td>nan</td><td>175457.9375</td><td>452.632263184</td><td>16.8895683289</td><td>0.00280157546513</td><td>False</td><td>nan</td><td>nan</td><td>nan</td><td>nan</td></tr>\n",
       "<tr><td>1</td><td>125273261</td><td>350.182969925</td><td>-1.11147799702</td><td>370653.46875</td><td>478.868347168</td><td>nan</td><td>nan</td><td>16.0775794983</td><td>0.00140306528192</td><td>nan</td><td>nan</td><td>3775638.0</td><td>2503.95800781</td><td>nan</td><td>nan</td><td>13.5575237274</td><td>0.000720222247764</td><td>nan</td><td>nan</td><td>False</td><td>False</td><td>False</td><td>-1</td><td>False</td><td>2</td><td>0.999714136124</td><td>125273261-1</td><td>869456.625</td><td>182.245361328</td><td>15.1518802643</td><td>0.000227634664043</td><td>False</td><td>844920.75</td><td>172.278808594</td><td>15.1829605103</td><td>0.000221373542445</td><td>188962.421875</td><td>269.825866699</td><td>16.8090610504</td><td>0.00155073637143</td><td>False</td><td>nan</td><td>nan</td><td>nan</td><td>nan</td><td>863439.8125</td><td>852.663024902</td><td>15.1594200134</td><td>0.00107244541869</td><td>False</td><td>nan</td><td>nan</td><td>nan</td><td>nan</td></tr>\n",
       "<tr><td>2</td><td>150219124</td><td>350.996516925</td><td>0.656925002982</td><td>118778.40625</td><td>370.132171631</td><td>nan</td><td>nan</td><td>17.3131561279</td><td>0.00338414660655</td><td>nan</td><td>nan</td><td>2264981.25</td><td>1661.47009277</td><td>2107426.25</td><td>930.810974121</td><td>14.1123380661</td><td>0.000796631968115</td><td>14.1906194687</td><td>0.000479533482576</td><td>False</td><td>False</td><td>False</td><td>-1</td><td>False</td><td>3</td><td>0.999798774719</td><td>150219124-1</td><td>936951.875</td><td>173.370422363</td><td>15.0707063675</td><td>0.000200949783903</td><td>False</td><td>1093840.0</td><td>225.214385986</td><td>14.9026155472</td><td>0.000223538430873</td><td>158837.0625</td><td>226.541000366</td><td>16.9976196289</td><td>0.001548905042</td><td>False</td><td>nan</td><td>nan</td><td>nan</td><td>nan</td><td>114568.265625</td><td>708.203369141</td><td>17.3523387909</td><td>0.00671310536563</td><td>False</td><td>nan</td><td>nan</td><td>nan</td><td>nan</td></tr>\n",
       "<tr><td>3</td><td>261792502</td><td>29.3728699246</td><td>1.62974200298</td><td>206637.71875</td><td>431.723175049</td><td>nan</td><td>nan</td><td>16.7119750977</td><td>0.00226895348169</td><td>nan</td><td>nan</td><td>4495535.0</td><td>2464.61425781</td><td>4078118.25</td><td>1596.16650391</td><td>13.3680467606</td><td>0.000595384335611</td><td>13.4738512039</td><td>0.000424940604717</td><td>False</td><td>False</td><td>False</td><td>-1</td><td>False</td><td>3</td><td>0.998975515366</td><td>261792502-1</td><td>1431206.25</td><td>274.892608643</td><td>14.6107444763</td><td>0.000208588651731</td><td>False</td><td>1998341.375</td><td>421.073120117</td><td>14.2483263016</td><td>0.000228769276873</td><td>164487.609375</td><td>294.765197754</td><td>16.9596672058</td><td>0.00194613449275</td><td>False</td><td>nan</td><td>nan</td><td>nan</td><td>nan</td><td>232513.9375</td><td>618.275024414</td><td>16.5838775635</td><td>0.00288776960224</td><td>False</td><td>nan</td><td>nan</td><td>nan</td><td>nan</td></tr>\n",
       "<tr><td>4</td><td>125271997</td><td>350.189563925</td><td>-1.07921499702</td><td>83426.6875</td><td>219.439315796</td><td>nan</td><td>nan</td><td>17.6967372894</td><td>0.00285653304309</td><td>nan</td><td>nan</td><td>1783992.375</td><td>1082.56225586</td><td>1728807.75</td><td>858.635437012</td><td>14.3715171814</td><td>0.00065900653135</td><td>14.4056329727</td><td>0.000539227388799</td><td>False</td><td>False</td><td>False</td><td>-1</td><td>False</td><td>3</td><td>0.999656677246</td><td>125271997-1</td><td>804168.3125</td><td>132.33934021</td><td>15.2366323471</td><td>0.000178719463293</td><td>False</td><td>789748.125</td><td>166.813858032</td><td>15.256278038</td><td>0.00022932603315</td><td>539343.0625</td><td>165.776672363</td><td>15.670337677</td><td>0.000333801406668</td><td>False</td><td>nan</td><td>nan</td><td>nan</td><td>nan</td><td>134751.375</td><td>383.3722229</td><td>17.1761665344</td><td>0.00308970664628</td><td>False</td><td>nan</td><td>nan</td><td>nan</td><td>nan</td></tr>\n",
       "<tr><td>5</td><td>124464173</td><td>350.223941925</td><td>-1.03165599702</td><td>92859.53125</td><td>295.037261963</td><td>nan</td><td>nan</td><td>17.5804328918</td><td>0.00345048541203</td><td>nan</td><td>nan</td><td>2310694.0</td><td>1721.43835449</td><td>2170654.75</td><td>958.139770508</td><td>14.0906438828</td><td>0.000809056509752</td><td>14.1585226059</td><td>0.000479234353406</td><td>False</td><td>False</td><td>False</td><td>-1</td><td>False</td><td>3</td><td>0.99947810173</td><td>124464173-1</td><td>835825.375</td><td>159.350280762</td><td>15.1947107315</td><td>0.000207046119613</td><td>False</td><td>814527.6875</td><td>172.410888672</td><td>15.222735405</td><td>0.000229809869779</td><td>98441.3828125</td><td>169.477966309</td><td>17.5170555115</td><td>0.00186967174523</td><td>False</td><td>nan</td><td>nan</td><td>nan</td><td>nan</td><td>120258.085938</td><td>563.893554688</td><td>17.2997150421</td><td>0.00509228464216</td><td>False</td><td>nan</td><td>nan</td><td>nan</td><td>nan</td></tr>\n",
       "<tr><td>6</td><td>153178552</td><td>34.2107509246</td><td>-1.87568699702</td><td>131898.140625</td><td>430.940032959</td><td>nan</td><td>nan</td><td>17.1994037628</td><td>0.00354819907807</td><td>nan</td><td>nan</td><td>4468266.5</td><td>2079.61889648</td><td>4054576.0</td><td>1137.19018555</td><td>13.3746519089</td><td>0.000505445699673</td><td>13.4801368713</td><td>0.000304507149849</td><td>False</td><td>False</td><td>False</td><td>-1</td><td>False</td><td>3</td><td>0.999409258366</td><td>153178552-1</td><td>1194559.125</td><td>229.461120605</td><td>14.8069810867</td><td>0.000208608151297</td><td>False</td><td>1343470.625</td><td>287.500335693</td><td>14.6794300079</td><td>0.000232337872148</td><td>168767.53125</td><td>257.985229492</td><td>16.9317779541</td><td>0.00166010577232</td><td>False</td><td>nan</td><td>nan</td><td>nan</td><td>nan</td><td>310448.9375</td><td>814.665283203</td><td>16.2700252533</td><td>0.00284982938319</td><td>False</td><td>nan</td><td>nan</td><td>nan</td><td>nan</td></tr>\n",
       "<tr><td>7</td><td>267640824</td><td>26.2999769246</td><td>-1.65480299702</td><td>128024.570312</td><td>379.106140137</td><td>nan</td><td>nan</td><td>17.2317657471</td><td>0.00321586127393</td><td>nan</td><td>nan</td><td>2466106.75</td><td>2710.65307617</td><td>2352393.75</td><td>1732.2800293</td><td>14.0199699402</td><td>0.00119369092863</td><td>14.0712251663</td><td>0.000799498986453</td><td>False</td><td>False</td><td>False</td><td>-1</td><td>False</td><td>3</td><td>0.963919997215</td><td>267640824-1</td><td>1106874.75</td><td>213.492858887</td><td>14.8897533417</td><td>0.000209466554224</td><td>False</td><td>1388185.375</td><td>298.03414917</td><td>14.6438808441</td><td>0.000233092549024</td><td>86074.1875</td><td>228.121170044</td><td>17.6628170013</td><td>0.00287821004167</td><td>False</td><td>nan</td><td>nan</td><td>nan</td><td>nan</td><td>211762.359375</td><td>506.39276123</td><td>16.6853790283</td><td>0.00259697972797</td><td>False</td><td>nan</td><td>nan</td><td>nan</td><td>nan</td></tr>\n",
       "<tr><td>8</td><td>134678356</td><td>353.311040925</td><td>1.66696000298</td><td>124092.34375</td><td>395.45010376</td><td>nan</td><td>nan</td><td>17.2656383514</td><td>0.00346080027521</td><td>nan</td><td>nan</td><td>3591049.25</td><td>2398.54296875</td><td>4093995.25</td><td>1697.79077148</td><td>13.6119470596</td><td>0.000725363963284</td><td>13.4696311951</td><td>0.000450242689112</td><td>False</td><td>False</td><td>False</td><td>-1</td><td>False</td><td>3</td><td>0.999602854252</td><td>134678356-1</td><td>1565344.625</td><td>275.976470947</td><td>14.5134754181</td><td>0.000191466111573</td><td>False</td><td>2097140.875</td><td>453.639770508</td><td>14.1959314346</td><td>0.000234851497225</td><td>141477.46875</td><td>260.866790771</td><td>17.1232814789</td><td>0.00200244854204</td><td>False</td><td>nan</td><td>nan</td><td>nan</td><td>nan</td><td>187019.109375</td><td>839.995361328</td><td>16.8202857971</td><td>0.00487776333466</td><td>False</td><td>nan</td><td>nan</td><td>nan</td><td>nan</td></tr>\n",
       "<tr><td>9</td><td>126554203</td><td>350.500060925</td><td>-0.462603997018</td><td>83080.921875</td><td>316.647796631</td><td>nan</td><td>nan</td><td>17.7012462616</td><td>0.00413909135386</td><td>nan</td><td>nan</td><td>1796321.875</td><td>1744.85766602</td><td>1688718.25</td><td>804.237426758</td><td>14.3640394211</td><td>0.00105488637928</td><td>14.4311075211</td><td>0.000517055217642</td><td>False</td><td>False</td><td>False</td><td>-1</td><td>False</td><td>3</td><td>0.99980533123</td><td>126554203-1</td><td>850827.5</td><td>172.456573486</td><td>15.1753959656</td><td>0.000220124333282</td><td>False</td><td>921857.875</td><td>200.229248047</td><td>15.0883398056</td><td>0.000235816056374</td><td>120392.539062</td><td>190.972717285</td><td>17.2985019684</td><td>0.00172266794834</td><td>False</td><td>nan</td><td>nan</td><td>nan</td><td>nan</td><td>79674.5390625</td><td>615.690246582</td><td>17.7467002869</td><td>0.00839213654399</td><td>False</td><td>nan</td><td>nan</td><td>nan</td><td>nan</td></tr>\n",
       "</table><style>table.dataTable {clear: both; width: auto !important; margin: 0 !important;}\n",
       ".dataTables_info, .dataTables_length, .dataTables_filter, .dataTables_paginate{\n",
       "display: inline-block; margin-right: 1em; }\n",
       ".paginate_button { margin-right: 5px; }\n",
       "</style>\n",
       "<script>\n",
       "require.config({paths: {\n",
       "    datatables: 'https://cdn.datatables.net/1.10.12/js/jquery.dataTables.min'\n",
       "}});\n",
       "require([\"datatables\"], function(){\n",
       "    console.log(\"$('#table140602613020600-814312').dataTable()\");\n",
       "    $('#table140602613020600-814312').dataTable({\n",
       "        \"order\": [],\n",
       "        \"iDisplayLength\": 50,\n",
       "        \"aLengthMenu\": [[10, 25, 50, 100, 500, 1000, -1], [10, 25, 50, 100, 500, 1000, 'All']],\n",
       "        \"pagingType\": \"full_numbers\"\n",
       "    });\n",
       "});\n",
       "</script>\n"
      ],
      "text/plain": [
       "<IPython.core.display.HTML object>"
      ]
     },
     "execution_count": 25,
     "metadata": {},
     "output_type": "execute_result"
    }
   ],
   "source": [
    "master_catalogue[:10].show_in_notebook()"
   ]
  },
  {
   "cell_type": "code",
   "execution_count": 26,
   "metadata": {
    "collapsed": true
   },
   "outputs": [],
   "source": [
    "master_catalogue[columns].write(\"{}/decam_merged_catalogue_herschel-stripe-82.fits\".format(TMP_DIR), overwrite=True)"
   ]
  }
 ],
 "metadata": {
  "kernelspec": {
   "display_name": "Python (herschelhelp_internal)",
   "language": "python",
   "name": "helpint"
  },
  "language_info": {
   "codemirror_mode": {
    "name": "ipython",
    "version": 3
   },
   "file_extension": ".py",
   "mimetype": "text/x-python",
   "name": "python",
   "nbconvert_exporter": "python",
   "pygments_lexer": "ipython3",
   "version": "3.6.1"
  }
 },
 "nbformat": 4,
 "nbformat_minor": 2
}
