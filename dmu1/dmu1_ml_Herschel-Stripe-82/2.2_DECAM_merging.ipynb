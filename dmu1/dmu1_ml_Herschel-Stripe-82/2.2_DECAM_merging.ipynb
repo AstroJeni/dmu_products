{
 "cells": [
  {
   "cell_type": "markdown",
   "metadata": {},
   "source": [
    "# Herschel Stripe 82 DECAM merging\n",
    "\n",
    "Both DES and DECaLS provide DECam fluxes which have overlapping coverage. We chose which to use DES preferentially. In this notebook we cross match both catalogues and take the DES fluxes where available, using DECaLS otherwise"
   ]
  },
  {
   "cell_type": "code",
   "execution_count": 1,
   "metadata": {},
   "outputs": [
    {
     "name": "stdout",
     "output_type": "stream",
     "text": [
      "This notebook was run with herschelhelp_internal version: \n",
      "0246c5d (Thu Jan 25 17:01:47 2018 +0000) [with local modifications]\n",
      "This notebook was executed on: \n",
      "2018-02-23 14:04:23.926432\n"
     ]
    }
   ],
   "source": [
    "from herschelhelp_internal import git_version\n",
    "print(\"This notebook was run with herschelhelp_internal version: \\n{}\".format(git_version()))\n",
    "import datetime\n",
    "print(\"This notebook was executed on: \\n{}\".format(datetime.datetime.now()))"
   ]
  },
  {
   "cell_type": "code",
   "execution_count": 2,
   "metadata": {},
   "outputs": [
    {
     "name": "stderr",
     "output_type": "stream",
     "text": [
      "/Users/rs548/anaconda/envs/herschelhelp_internal/lib/python3.6/site-packages/seaborn/apionly.py:6: UserWarning: As seaborn no longer sets a default style on import, the seaborn.apionly module is deprecated. It will be removed in a future version.\n",
      "  warnings.warn(msg, UserWarning)\n"
     ]
    }
   ],
   "source": [
    "%matplotlib inline\n",
    "#%config InlineBackend.figure_format = 'svg'\n",
    "\n",
    "import matplotlib.pyplot as plt\n",
    "plt.rc('figure', figsize=(10, 6))\n",
    "\n",
    "import os\n",
    "import time\n",
    "\n",
    "from astropy import units as u\n",
    "from astropy.coordinates import SkyCoord\n",
    "from astropy.table import Column, Table\n",
    "import numpy as np\n",
    "from pymoc import MOC\n",
    "\n",
    "from herschelhelp_internal.masterlist import merge_catalogues, nb_merge_dist_plot\n",
    "from herschelhelp_internal.utils import coords_to_hpidx, ebv, gen_help_id, inMoc"
   ]
  },
  {
   "cell_type": "code",
   "execution_count": 3,
   "metadata": {
    "collapsed": true
   },
   "outputs": [],
   "source": [
    "TMP_DIR = os.environ.get('TMP_DIR', \"./data_tmp\")\n",
    "OUT_DIR = os.environ.get('OUT_DIR', \"./data\")\n",
    "SUFFIX = os.environ.get('SUFFIX', time.strftime(\"_%Y%m%d\"))\n",
    "\n",
    "try:\n",
    "    os.makedirs(OUT_DIR)\n",
    "except FileExistsError:\n",
    "    pass"
   ]
  },
  {
   "cell_type": "markdown",
   "metadata": {},
   "source": [
    "## I - Reading the prepared pristine catalogues"
   ]
  },
  {
   "cell_type": "code",
   "execution_count": 4,
   "metadata": {
    "collapsed": true
   },
   "outputs": [],
   "source": [
    "des = Table.read(\"{}/DES.fits\".format(TMP_DIR))\n",
    "decals = Table.read(\"{}/DECaLS.fits\".format(TMP_DIR))"
   ]
  },
  {
   "cell_type": "code",
   "execution_count": 5,
   "metadata": {
    "collapsed": true
   },
   "outputs": [],
   "source": [
    "for col in des.colnames:\n",
    "    if '_decam_' in col:\n",
    "        des[col].name = col.replace('_decam_', '_des-decam_')\n",
    "        \n",
    "for col in decals.colnames:\n",
    "    if '_decam_' in col:\n",
    "        decals[col].name = col.replace('_decam_', '_decals-decam_')"
   ]
  },
  {
   "cell_type": "markdown",
   "metadata": {},
   "source": [
    "## II - Merging tables\n",
    "\n",
    "We first merge DES and DECaLS.\n",
    "\n",
    "At every step, we look at the distribution of the distances to the nearest source in the merged catalogue to determine the best crossmatching radius."
   ]
  },
  {
   "cell_type": "markdown",
   "metadata": {},
   "source": [
    "### DES"
   ]
  },
  {
   "cell_type": "code",
   "execution_count": 6,
   "metadata": {
    "collapsed": true
   },
   "outputs": [],
   "source": [
    "master_catalogue = des\n",
    "master_catalogue['des_ra'].name = 'ra'\n",
    "master_catalogue['des_dec'].name = 'dec'\n"
   ]
  },
  {
   "cell_type": "markdown",
   "metadata": {},
   "source": [
    "## Add DECaLS"
   ]
  },
  {
   "cell_type": "code",
   "execution_count": 7,
   "metadata": {
    "scrolled": true
   },
   "outputs": [
    {
     "data": {
      "image/png": "[encoded data removed]",
      "text/plain": [
       "<matplotlib.figure.Figure at 0x10a5f8860>"
      ]
     },
     "metadata": {},
     "output_type": "display_data"
    }
   ],
   "source": [
    "nb_merge_dist_plot(\n",
    "    SkyCoord(master_catalogue['ra'], master_catalogue['dec']),\n",
    "    SkyCoord(decals['decals_ra'], decals['decals_dec'])\n",
    ")"
   ]
  },
  {
   "cell_type": "code",
   "execution_count": 8,
   "metadata": {
    "collapsed": true
   },
   "outputs": [],
   "source": [
    "# Given the graph above, we use 0.8 arc-second radius\n",
    "master_catalogue = merge_catalogues(master_catalogue, decals, \"decals_ra\", \"decals_dec\", radius=0.8*u.arcsec)\n"
   ]
  },
  {
   "cell_type": "markdown",
   "metadata": {},
   "source": [
    "### Cleaning\n",
    "\n",
    "When we merge the catalogues, astropy masks the non-existent values (e.g. when a row comes only from a catalogue and has no counterparts in the other, the columns from the latest are masked for that row). We indicate to use NaN for masked values for floats columns, False for flag columns and -1 for ID columns."
   ]
  },
  {
   "cell_type": "code",
   "execution_count": 9,
   "metadata": {
    "collapsed": true
   },
   "outputs": [],
   "source": [
    "for col in master_catalogue.colnames:\n",
    "    if (col.startswith(\"m_\")  \n",
    "        or col.startswith(\"merr_\") \n",
    "        or col.startswith(\"f_\")\n",
    "        or col.startswith(\"ferr_\")\n",
    "        or \"stellarity\" in col):\n",
    "        master_catalogue[col].fill_value = np.nan\n",
    "    elif \"flag\" in col:\n",
    "        master_catalogue[col].fill_value = 0\n",
    "    elif \"id\" in col:\n",
    "        master_catalogue[col].fill_value = -1\n",
    "        \n",
    "master_catalogue = master_catalogue.filled()"
   ]
  },
  {
   "cell_type": "code",
   "execution_count": 10,
   "metadata": {},
   "outputs": [
    {
     "data": {
      "text/html": [
       "<i>Table length=10</i>\n",
       "<table id=\"table4544794072-162900\" class=\"table-striped table-bordered table-condensed\">\n",
       "<thead><tr><th>idx</th><th>des_id</th><th>ra</th><th>dec</th><th>des_stellarity</th><th>m_des-decam_g</th><th>merr_des-decam_g</th><th>m_ap_des-decam_g</th><th>merr_ap_des-decam_g</th><th>m_des-decam_r</th><th>merr_des-decam_r</th><th>m_ap_des-decam_r</th><th>merr_ap_des-decam_r</th><th>m_des-decam_i</th><th>merr_des-decam_i</th><th>m_ap_des-decam_i</th><th>merr_ap_des-decam_i</th><th>m_des-decam_z</th><th>merr_des-decam_z</th><th>m_ap_des-decam_z</th><th>merr_ap_des-decam_z</th><th>m_des-decam_y</th><th>merr_des-decam_y</th><th>m_ap_des-decam_y</th><th>merr_ap_des-decam_y</th><th>f_des-decam_g</th><th>ferr_des-decam_g</th><th>flag_des-decam_g</th><th>f_ap_des-decam_g</th><th>ferr_ap_des-decam_g</th><th>f_des-decam_r</th><th>ferr_des-decam_r</th><th>flag_des-decam_r</th><th>f_ap_des-decam_r</th><th>ferr_ap_des-decam_r</th><th>f_des-decam_i</th><th>ferr_des-decam_i</th><th>flag_des-decam_i</th><th>f_ap_des-decam_i</th><th>ferr_ap_des-decam_i</th><th>f_des-decam_z</th><th>ferr_des-decam_z</th><th>flag_des-decam_z</th><th>f_ap_des-decam_z</th><th>ferr_ap_des-decam_z</th><th>f_des-decam_y</th><th>ferr_des-decam_y</th><th>flag_des-decam_y</th><th>f_ap_des-decam_y</th><th>ferr_ap_des-decam_y</th><th>des_flag_cleaned</th><th>des_flag_gaia</th><th>flag_merged</th><th>decals_id</th><th>f_decals-decam_g</th><th>f_decals-decam_r</th><th>f_decals-decam_z</th><th>ferr_decals-decam_g</th><th>ferr_decals-decam_r</th><th>ferr_decals-decam_z</th><th>f_ap_decals-decam_g</th><th>f_ap_decals-decam_r</th><th>f_ap_decals-decam_z</th><th>ferr_ap_decals-decam_g</th><th>ferr_ap_decals-decam_r</th><th>ferr_ap_decals-decam_z</th><th>m_decals-decam_g</th><th>merr_decals-decam_g</th><th>flag_decals-decam_g</th><th>m_decals-decam_r</th><th>merr_decals-decam_r</th><th>flag_decals-decam_r</th><th>m_decals-decam_z</th><th>merr_decals-decam_z</th><th>flag_decals-decam_z</th><th>m_ap_decals-decam_g</th><th>merr_ap_decals-decam_g</th><th>m_ap_decals-decam_r</th><th>merr_ap_decals-decam_r</th><th>m_ap_decals-decam_z</th><th>merr_ap_decals-decam_z</th><th>decals_stellarity</th><th>decals_flag_cleaned</th><th>decals_flag_gaia</th></tr></thead>\n",
       "<thead><tr><th></th><th></th><th>deg</th><th>deg</th><th></th><th></th><th></th><th></th><th></th><th></th><th></th><th></th><th></th><th></th><th></th><th></th><th></th><th></th><th></th><th></th><th></th><th></th><th></th><th></th><th></th><th></th><th></th><th></th><th></th><th></th><th></th><th></th><th></th><th></th><th></th><th></th><th></th><th></th><th></th><th></th><th></th><th></th><th></th><th></th><th></th><th></th><th></th><th></th><th></th><th></th><th></th><th></th><th></th><th></th><th></th><th></th><th></th><th></th><th></th><th></th><th></th><th></th><th></th><th></th><th></th><th></th><th></th><th></th><th></th><th></th><th></th><th></th><th></th><th></th><th></th><th></th><th></th><th></th><th></th><th></th><th></th><th></th><th></th><th></th></tr></thead>\n",
       "<tr><td>0</td><td>210041514</td><td>359.892977925</td><td>0.367974002986</td><td>0.881769835949</td><td>14.9816560745</td><td>0.00025292247301</td><td>15.5667815208</td><td>0.000383811449865</td><td>16.7191429138</td><td>0.00139471329749</td><td>19.1890349388</td><td>0.00440756930038</td><td>16.4214878082</td><td>0.00168689282145</td><td>19.1177177429</td><td>0.00522434711456</td><td>16.4228744507</td><td>0.00277040083893</td><td>19.1842050552</td><td>0.00908541306853</td><td>13.5741052628</td><td>0.000610945455264</td><td>14.4282951355</td><td>0.000553833204322</td><td>3692.64510478</td><td>0.860202439373</td><td>False</td><td>2154.20679606</td><td>0.761519446511</td><td>745.320101562</td><td>0.9574221178</td><td>False</td><td>76.6277413196</td><td>0.311071951656</td><td>980.403553531</td><td>1.5232389869</td><td>False</td><td>81.8300662592</td><td>0.39375003677</td><td>979.15223536</td><td>2.49843761532</td><td>False</td><td>76.9693781638</td><td>0.644077807465</td><td>13500.7499876</td><td>7.59689306799</td><td>False</td><td>6147.26514789</td><td>3.13571523152</td><td>False</td><td>2</td><td>False</td><td>-1</td><td>nan</td><td>nan</td><td>nan</td><td>nan</td><td>nan</td><td>nan</td><td>nan</td><td>nan</td><td>nan</td><td>nan</td><td>nan</td><td>nan</td><td>nan</td><td>nan</td><td>False</td><td>nan</td><td>nan</td><td>False</td><td>nan</td><td>nan</td><td>False</td><td>nan</td><td>nan</td><td>nan</td><td>nan</td><td>nan</td><td>nan</td><td>nan</td><td>False</td><td>0</td></tr>\n",
       "<tr><td>1</td><td>210049504</td><td>0.160542924565</td><td>0.205238002986</td><td>0.997282147408</td><td>15.7015552521</td><td>0.000365317362593</td><td>15.520761013</td><td>0.000415669434005</td><td>15.9015636444</td><td>0.000433418201283</td><td>16.1707091331</td><td>0.000512694532517</td><td>15.6857252121</td><td>0.00051945168525</td><td>16.0738124847</td><td>0.000497912522405</td><td>17.846704483</td><td>0.00574673619121</td><td>20.0109910965</td><td>0.0175491515547</td><td>14.6830263138</td><td>0.00114923610818</td><td>14.7159118652</td><td>0.000817235501017</td><td>1902.73321359</td><td>0.640212121747</td><td>False</td><td>2247.47875328</td><td>0.860437569662</td><td>1582.61232009</td><td>0.631767626514</td><td>False</td><td>1235.14045553</td><td>0.583244581573</td><td>1930.67829927</td><td>0.923699598332</td><td>False</td><td>1350.43910707</td><td>0.619303785958</td><td>263.826372892</td><td>1.39641706581</td><td>False</td><td>35.942109371</td><td>0.580945465191</td><td>4861.71475524</td><td>5.14605492558</td><td>False</td><td>4716.6674135</td><td>3.55024364105</td><td>False</td><td>3</td><td>False</td><td>-1</td><td>nan</td><td>nan</td><td>nan</td><td>nan</td><td>nan</td><td>nan</td><td>nan</td><td>nan</td><td>nan</td><td>nan</td><td>nan</td><td>nan</td><td>nan</td><td>nan</td><td>False</td><td>nan</td><td>nan</td><td>False</td><td>nan</td><td>nan</td><td>False</td><td>nan</td><td>nan</td><td>nan</td><td>nan</td><td>nan</td><td>nan</td><td>nan</td><td>False</td><td>0</td></tr>\n",
       "<tr><td>2</td><td>210071422</td><td>359.687218925</td><td>-0.248564997014</td><td>0.998134076595</td><td>16.2338562012</td><td>0.000376639771275</td><td>16.0349955559</td><td>0.000441186042735</td><td>18.3342227936</td><td>0.00270066922531</td><td>19.6227545738</td><td>0.00703104399145</td><td>17.8540401459</td><td>0.00280675385147</td><td>19.0973320007</td><td>0.00561516638845</td><td>17.294095993</td><td>0.0021134102717</td><td>18.4640989304</td><td>0.00356928119436</td><td>14.759305954</td><td>0.000769833219238</td><td>14.8272590637</td><td>0.000752407358959</td><td>1165.35305638</td><td>0.404258701778</td><td>False</td><td>1399.59305136</td><td>0.568720944427</td><td>168.387900687</td><td>0.418849458372</td><td>False</td><td>51.3923137303</td><td>0.332807929842</td><td>262.049865813</td><td>0.677429256687</td><td>False</td><td>83.3810192627</td><td>0.43122656751</td><td>438.895979771</td><td>0.854321029171</td><td>False</td><td>149.403381749</td><td>0.491153079831</td><td>4531.87182709</td><td>3.21329017356</td><td>False</td><td>4256.92868376</td><td>2.95002087449</td><td>False</td><td>2</td><td>False</td><td>-1</td><td>nan</td><td>nan</td><td>nan</td><td>nan</td><td>nan</td><td>nan</td><td>nan</td><td>nan</td><td>nan</td><td>nan</td><td>nan</td><td>nan</td><td>nan</td><td>nan</td><td>False</td><td>nan</td><td>nan</td><td>False</td><td>nan</td><td>nan</td><td>False</td><td>nan</td><td>nan</td><td>nan</td><td>nan</td><td>nan</td><td>nan</td><td>nan</td><td>False</td><td>0</td></tr>\n",
       "<tr><td>3</td><td>176016997</td><td>0.048767924565</td><td>-0.360533997014</td><td>0.028626749292</td><td>12.0326576233</td><td>7.33365232009e-05</td><td>16.0328230858</td><td>0.000449042272521</td><td>11.5847291946</td><td>9.55625146162e-05</td><td>16.1380133629</td><td>0.000715533038601</td><td>11.0719156265</td><td>6.43320454401e-05</td><td>15.6539125443</td><td>0.000334238313371</td><td>10.347738266</td><td>5.6350720115e-05</td><td>15.3527355194</td><td>0.00039162900066</td><td>8.72742080688</td><td>4.16031689383e-05</td><td>13.5503330231</td><td>0.000361032638466</td><td>55838.912392</td><td>3.77166357371</td><td>False</td><td>1402.39632718</td><td>0.580007584688</td><td>84354.5129358</td><td>7.42457453296</td><td>False</td><td>1272.90107965</td><td>0.838880359123</td><td>135280.048219</td><td>8.01561389501</td><td>False</td><td>1988.0851543</td><td>0.612021802257</td><td>263575.290351</td><td>13.6798030228</td><td>False</td><td>2623.64935598</td><td>0.946359871636</td><td>1172280.86807</td><td>44.9193816913</td><td>False</td><td>13799.6093036</td><td>4.58869229454</td><td>False</td><td>3</td><td>False</td><td>-1</td><td>nan</td><td>nan</td><td>nan</td><td>nan</td><td>nan</td><td>nan</td><td>nan</td><td>nan</td><td>nan</td><td>nan</td><td>nan</td><td>nan</td><td>nan</td><td>nan</td><td>False</td><td>nan</td><td>nan</td><td>False</td><td>nan</td><td>nan</td><td>False</td><td>nan</td><td>nan</td><td>nan</td><td>nan</td><td>nan</td><td>nan</td><td>nan</td><td>False</td><td>0</td></tr>\n",
       "<tr><td>4</td><td>210071450</td><td>359.943739925</td><td>-0.280024997014</td><td>0.845089673996</td><td>11.8702526093</td><td>9.27881264943e-05</td><td>15.6917071342</td><td>0.000499932386447</td><td>10.979675293</td><td>6.97759096511e-05</td><td>15.6515927315</td><td>0.000491334474646</td><td>10.1300258636</td><td>4.78345573356e-05</td><td>15.1707696915</td><td>0.000400815508328</td><td>9.13844299316</td><td>4.18967210862e-05</td><td>14.5679073334</td><td>0.000437994516687</td><td>7.43378686905</td><td>2.41684520006e-05</td><td>13.039932251</td><td>0.000309406023007</td><td>64848.35387</td><td>5.54200664532</td><td>False</td><td>1920.07037241</td><td>0.884105512201</td><td>147275.288723</td><td>9.46479190316</td><td>False</td><td>1992.33749098</td><td>0.90160399014</td><td>322099.206215</td><td>14.1908070118</td><td>False</td><td>3102.35950838</td><td>1.14528169727</td><td>802828.539585</td><td>30.9797934854</td><td>False</td><td>5405.51487332</td><td>2.1806271763</td><td>3859093.06799</td><td>85.9032840306</td><td>False</td><td>22081.4251495</td><td>6.29262053516</td><td>False</td><td>0</td><td>False</td><td>-1</td><td>nan</td><td>nan</td><td>nan</td><td>nan</td><td>nan</td><td>nan</td><td>nan</td><td>nan</td><td>nan</td><td>nan</td><td>nan</td><td>nan</td><td>nan</td><td>nan</td><td>False</td><td>nan</td><td>nan</td><td>False</td><td>nan</td><td>nan</td><td>False</td><td>nan</td><td>nan</td><td>nan</td><td>nan</td><td>nan</td><td>nan</td><td>nan</td><td>False</td><td>0</td></tr>\n",
       "<tr><td>5</td><td>140297248</td><td>0.426987924565</td><td>-0.218350997014</td><td>0.844959974289</td><td>12.7359676361</td><td>0.000104759958049</td><td>16.1428179741</td><td>0.000535343075171</td><td>12.7043027878</td><td>0.00017487576406</td><td>16.6041674614</td><td>0.000740584626328</td><td>12.6151475906</td><td>0.000200767826755</td><td>16.4963588715</td><td>0.000679498363752</td><td>12.0481653214</td><td>0.000196836495888</td><td>16.1089296341</td><td>0.000686748942826</td><td>10.6105470657</td><td>0.000156094829435</td><td>14.3630523682</td><td>0.000687785912305</td><td>29215.4745878</td><td>2.81892772737</td><td>False</td><td>1267.2806694</td><td>0.624857057994</td><td>30080.0729305</td><td>4.84489299854</td><td>False</td><td>828.577270244</td><td>0.56517557891</td><td>32654.3440146</td><td>6.03824543492</td><td>False</td><td>915.074496207</td><td>0.572691248721</td><td>55047.0273871</td><td>9.97964692756</td><td>False</td><td>1307.45920306</td><td>0.826992985545</td><td>206909.853735</td><td>29.7471505379</td><td>False</td><td>6527.98357066</td><td>4.13530940203</td><td>False</td><td>3</td><td>False</td><td>-1</td><td>nan</td><td>nan</td><td>nan</td><td>nan</td><td>nan</td><td>nan</td><td>nan</td><td>nan</td><td>nan</td><td>nan</td><td>nan</td><td>nan</td><td>nan</td><td>nan</td><td>False</td><td>nan</td><td>nan</td><td>False</td><td>nan</td><td>nan</td><td>False</td><td>nan</td><td>nan</td><td>nan</td><td>nan</td><td>nan</td><td>nan</td><td>nan</td><td>False</td><td>0</td></tr>\n",
       "<tr><td>6</td><td>210062860</td><td>0.292554924565</td><td>-0.0764439970141</td><td>0.844918310642</td><td>12.5001726151</td><td>9.41814068938e-05</td><td>16.0725836754</td><td>0.00055243895622</td><td>12.306842804</td><td>9.72210618784e-05</td><td>16.1907801628</td><td>0.000474407803267</td><td>12.0332384109</td><td>0.0001108980141</td><td>15.9718704224</td><td>0.00042517244583</td><td>11.6290454865</td><td>0.000126962273498</td><td>15.9479951859</td><td>0.000502600334585</td><td>10.0267438889</td><td>0.000112012356112</td><td>13.9254159927</td><td>0.000481629103888</td><td>36302.0335634</td><td>3.14899381556</td><td>False</td><td>1351.96836585</td><td>0.687901895136</td><td>43377.3361923</td><td>3.88417616322</td><td>False</td><td>1212.51727519</td><td>0.529804251185</td><td>55809.0507381</td><td>5.70038363696</td><td>False</td><td>1483.37799098</td><td>0.580888291051</td><td>80980.7520078</td><td>9.46961180758</td><td>False</td><td>1516.3586243</td><td>0.70194062663</td><td>354243.952144</td><td>36.5463540262</td><td>False</td><td>9768.62870616</td><td>4.33333241476</td><td>False</td><td>3</td><td>False</td><td>-1</td><td>nan</td><td>nan</td><td>nan</td><td>nan</td><td>nan</td><td>nan</td><td>nan</td><td>nan</td><td>nan</td><td>nan</td><td>nan</td><td>nan</td><td>nan</td><td>nan</td><td>False</td><td>nan</td><td>nan</td><td>False</td><td>nan</td><td>nan</td><td>False</td><td>nan</td><td>nan</td><td>nan</td><td>nan</td><td>nan</td><td>nan</td><td>nan</td><td>False</td><td>0</td></tr>\n",
       "<tr><td>7</td><td>140272011</td><td>0.365085924565</td><td>0.301455002986</td><td>0.844670176506</td><td>13.3980941772</td><td>0.000166977493791</td><td>16.4518446922</td><td>0.000757231609896</td><td>13.0460681915</td><td>0.000180445902515</td><td>16.5921797752</td><td>0.00073634221917</td><td>12.7543973923</td><td>0.000173685199115</td><td>16.5405521393</td><td>0.000636877433863</td><td>12.213558197</td><td>0.000177956899279</td><td>16.1123743057</td><td>0.000677042757161</td><td>10.6583948135</td><td>0.000133399254992</td><td>14.2002696991</td><td>0.000570548581891</td><td>15876.7764236</td><td>2.44172048889</td><td>False</td><td>953.371407981</td><td>0.664915624007</td><td>21956.9859202</td><td>3.64918119477</td><td>False</td><td>837.77633769</td><td>0.568176767948</td><td>28723.7437131</td><td>4.59493671141</td><td>False</td><td>878.575613179</td><td>0.515359973743</td><td>47269.0333613</td><td>7.7476007266</td><td>False</td><td>1303.31765312</td><td>0.812722071398</td><td>197989.46157</td><td>24.3260255611</td><td>False</td><td>7583.89166208</td><td>3.98529459923</td><td>False</td><td>3</td><td>False</td><td>-1</td><td>nan</td><td>nan</td><td>nan</td><td>nan</td><td>nan</td><td>nan</td><td>nan</td><td>nan</td><td>nan</td><td>nan</td><td>nan</td><td>nan</td><td>nan</td><td>nan</td><td>False</td><td>nan</td><td>nan</td><td>False</td><td>nan</td><td>nan</td><td>False</td><td>nan</td><td>nan</td><td>nan</td><td>nan</td><td>nan</td><td>nan</td><td>nan</td><td>False</td><td>0</td></tr>\n",
       "<tr><td>8</td><td>210060377</td><td>359.915509925</td><td>-0.00297799701414</td><td>0.984903872013</td><td>19.0235481262</td><td>0.00158060784452</td><td>18.5896372795</td><td>0.00172486912925</td><td>19.6872558594</td><td>0.00353816640563</td><td>19.5921015739</td><td>0.0039409850724</td><td>19.7900772095</td><td>0.00659643253312</td><td>19.7896499634</td><td>0.00752942357212</td><td>20.483007431</td><td>0.0183366797864</td><td>20.5179586411</td><td>0.0209404844791</td><td>18.3266792297</td><td>0.00720566371456</td><td>18.1020307541</td><td>0.00741032371297</td><td>89.244353853</td><td>0.12992136134</td><td>False</td><td>133.089896767</td><td>0.211435018324</td><td>48.4281251708</td><td>0.157816203251</td><td>False</td><td>52.8639207722</td><td>0.191884475915</td><td>44.052353564</td><td>0.267641787145</td><td>False</td><td>44.0696919373</td><td>0.305616940685</td><td>23.2700345224</td><td>0.393000776604</td><td>False</td><td>22.5328716846</td><td>0.434589219474</td><td>169.561913182</td><td>1.12532502815</td><td>False</td><td>208.539197695</td><td>1.42331346693</td><td>False</td><td>0</td><td>False</td><td>-1</td><td>nan</td><td>nan</td><td>nan</td><td>nan</td><td>nan</td><td>nan</td><td>nan</td><td>nan</td><td>nan</td><td>nan</td><td>nan</td><td>nan</td><td>nan</td><td>nan</td><td>False</td><td>nan</td><td>nan</td><td>False</td><td>nan</td><td>nan</td><td>False</td><td>nan</td><td>nan</td><td>nan</td><td>nan</td><td>nan</td><td>nan</td><td>nan</td><td>False</td><td>0</td></tr>\n",
       "<tr><td>9</td><td>140292642</td><td>0.404471924565</td><td>-0.0992569970141</td><td>0.98364597559</td><td>18.8029556274</td><td>0.0016173889162</td><td>18.7681269646</td><td>0.00175501604099</td><td>19.5836849213</td><td>0.00517251947895</td><td>20.2000250816</td><td>0.00623997440562</td><td>19.7985477448</td><td>0.0104324445128</td><td>20.7930641174</td><td>0.0176648069173</td><td>19.5165252686</td><td>0.0120060341433</td><td>20.3465013504</td><td>0.0168841555715</td><td>18.3579883575</td><td>0.013879397884</td><td>18.6718740463</td><td>0.0131696909666</td><td>109.349738557</td><td>0.16289505163</td><td>False</td><td>112.91436959</td><td>0.182518119061</td><td>53.2753156446</td><td>0.253807146443</td><td>False</td><td>30.1988195719</td><td>0.173559526138</td><td>43.7100096228</td><td>0.41999359333</td><td>False</td><td>17.4893775456</td><td>0.2845502214</td><td>56.6747864753</td><td>0.626707867438</td><td>False</td><td>26.3875737331</td><td>0.410350044616</td><td>164.74212248</td><td>2.10596409711</td><td>False</td><td>123.381595352</td><td>1.49658588765</td><td>False</td><td>0</td><td>False</td><td>-1</td><td>nan</td><td>nan</td><td>nan</td><td>nan</td><td>nan</td><td>nan</td><td>nan</td><td>nan</td><td>nan</td><td>nan</td><td>nan</td><td>nan</td><td>nan</td><td>nan</td><td>False</td><td>nan</td><td>nan</td><td>False</td><td>nan</td><td>nan</td><td>False</td><td>nan</td><td>nan</td><td>nan</td><td>nan</td><td>nan</td><td>nan</td><td>nan</td><td>False</td><td>0</td></tr>\n",
       "</table><style>table.dataTable {clear: both; width: auto !important; margin: 0 !important;}\n",
       ".dataTables_info, .dataTables_length, .dataTables_filter, .dataTables_paginate{\n",
       "display: inline-block; margin-right: 1em; }\n",
       ".paginate_button { margin-right: 5px; }\n",
       "</style>\n",
       "<script>\n",
       "\n",
       "var astropy_sort_num = function(a, b) {\n",
       "    var a_num = parseFloat(a);\n",
       "    var b_num = parseFloat(b);\n",
       "\n",
       "    if (isNaN(a_num) && isNaN(b_num))\n",
       "        return ((a < b) ? -1 : ((a > b) ? 1 : 0));\n",
       "    else if (!isNaN(a_num) && !isNaN(b_num))\n",
       "        return ((a_num < b_num) ? -1 : ((a_num > b_num) ? 1 : 0));\n",
       "    else\n",
       "        return isNaN(a_num) ? -1 : 1;\n",
       "}\n",
       "\n",
       "require.config({paths: {\n",
       "    datatables: 'https://cdn.datatables.net/1.10.12/js/jquery.dataTables.min'\n",
       "}});\n",
       "require([\"datatables\"], function(){\n",
       "    console.log(\"$('#table4544794072-162900').dataTable()\");\n",
       "    \n",
       "jQuery.extend( jQuery.fn.dataTableExt.oSort, {\n",
       "    \"optionalnum-asc\": astropy_sort_num,\n",
       "    \"optionalnum-desc\": function (a,b) { return -astropy_sort_num(a, b); }\n",
       "});\n",
       "\n",
       "    $('#table4544794072-162900').dataTable({\n",
       "        order: [],\n",
       "        pageLength: 50,\n",
       "        lengthMenu: [[10, 25, 50, 100, 500, 1000, -1], [10, 25, 50, 100, 500, 1000, 'All']],\n",
       "        pagingType: \"full_numbers\",\n",
       "        columnDefs: [{targets: [0, 1, 2, 3, 4, 5, 6, 7, 8, 9, 10, 11, 12, 13, 14, 15, 16, 17, 18, 19, 20, 21, 22, 23, 24, 25, 26, 28, 29, 30, 31, 33, 34, 35, 36, 38, 39, 40, 41, 43, 44, 45, 46, 48, 49, 51, 53, 54, 55, 56, 57, 58, 59, 60, 61, 62, 63, 64, 65, 66, 67, 69, 70, 72, 73, 75, 76, 77, 78, 79, 80, 81, 83], type: \"optionalnum\"}]\n",
       "    });\n",
       "});\n",
       "</script>\n"
      ],
      "text/plain": [
       "<IPython.core.display.HTML object>"
      ]
     },
     "execution_count": 10,
     "metadata": {},
     "output_type": "execute_result"
    }
   ],
   "source": [
    "master_catalogue[:10].show_in_notebook()"
   ]
  },
  {
   "cell_type": "markdown",
   "metadata": {},
   "source": [
    "## III - Merging flags and stellarity\n",
    "\n",
    "Each pristine catalogue contains a flag indicating if the source was associated to a another nearby source that was removed during the cleaning process.  We merge these flags in a single one."
   ]
  },
  {
   "cell_type": "code",
   "execution_count": 11,
   "metadata": {
    "collapsed": true
   },
   "outputs": [],
   "source": [
    "flag_cleaned_columns = [column for column in master_catalogue.colnames\n",
    "                        if 'flag_cleaned' in column]\n",
    "\n",
    "flag_column = np.zeros(len(master_catalogue), dtype=bool)\n",
    "for column in flag_cleaned_columns:\n",
    "    flag_column |= master_catalogue[column]\n",
    "    \n",
    "master_catalogue.add_column(Column(data=flag_column, name=\"decam_flag_cleaned\"))\n",
    "master_catalogue.remove_columns(flag_cleaned_columns)"
   ]
  },
  {
   "cell_type": "markdown",
   "metadata": {},
   "source": [
    "Each pristine catalogue contains a flag indicating the probability of a source being a Gaia object (0: not a Gaia object, 1: possibly, 2: probably, 3: definitely).  We merge these flags taking the highest value."
   ]
  },
  {
   "cell_type": "code",
   "execution_count": 12,
   "metadata": {
    "collapsed": true
   },
   "outputs": [],
   "source": [
    "flag_gaia_columns = [column for column in master_catalogue.colnames\n",
    "                     if 'flag_gaia' in column]\n",
    "\n",
    "master_catalogue.add_column(Column(\n",
    "    data=np.max([master_catalogue[column] for column in flag_gaia_columns], axis=0),\n",
    "    name=\"decam_flag_gaia\"\n",
    "))\n",
    "master_catalogue.remove_columns(flag_gaia_columns)"
   ]
  },
  {
   "cell_type": "markdown",
   "metadata": {},
   "source": [
    "Each prisitine catalogue may contain one or several stellarity columns indicating the probability (0 to 1) of each source being a star.  We merge these columns taking the highest value."
   ]
  },
  {
   "cell_type": "code",
   "execution_count": 13,
   "metadata": {
    "collapsed": true
   },
   "outputs": [],
   "source": [
    "stellarity_columns = [column for column in master_catalogue.colnames\n",
    "                      if 'stellarity' in column]\n",
    "\n",
    "master_catalogue.add_column(Column(\n",
    "    data=np.nanmax([master_catalogue[column] for column in stellarity_columns], axis=0),\n",
    "    name=\"decam_stellarity\"\n",
    "))\n",
    "master_catalogue.remove_columns(stellarity_columns)"
   ]
  },
  {
   "cell_type": "markdown",
   "metadata": {},
   "source": [
    "## VIII - Cross-identification table\n",
    "\n",
    "We are producing a table associating to each HELP identifier, the identifiers of the sources in the pristine catalogue. This can be used to easily get additional information from them."
   ]
  },
  {
   "cell_type": "code",
   "execution_count": 14,
   "metadata": {
    "collapsed": true
   },
   "outputs": [],
   "source": [
    "master_catalogue.add_column(Column(data=np.arange(len(master_catalogue)), \n",
    "                              name=\"decam_intid\"))\n"
   ]
  },
  {
   "cell_type": "code",
   "execution_count": 15,
   "metadata": {},
   "outputs": [
    {
     "name": "stdout",
     "output_type": "stream",
     "text": [
      "['des_id', 'decals_id', 'decam_intid']\n"
     ]
    }
   ],
   "source": [
    "\n",
    "id_names = []\n",
    "for col in master_catalogue.colnames:\n",
    "    if '_id' in col:\n",
    "        id_names += [col]\n",
    "    if '_intid' in col:\n",
    "        id_names += [col]\n",
    "        \n",
    "print(id_names)"
   ]
  },
  {
   "cell_type": "markdown",
   "metadata": {},
   "source": [
    "## VI - Choosing between multiple values for the same filter\n",
    "\n"
   ]
  },
  {
   "cell_type": "code",
   "execution_count": 16,
   "metadata": {
    "collapsed": true
   },
   "outputs": [],
   "source": [
    "decam_origin = Table()\n",
    "decam_origin.add_column(master_catalogue['decam_intid'])"
   ]
  },
  {
   "cell_type": "code",
   "execution_count": 17,
   "metadata": {
    "collapsed": true
   },
   "outputs": [],
   "source": [
    "decam_stats = Table()\n",
    "decam_stats.add_column(Column(data=['g','r','i','z','y'], name=\"Band\"))\n",
    "for col in [\"DES\", \"DECaLS\"]:\n",
    "    decam_stats.add_column(Column(data=np.full(5, 0), name=\"{}\".format(col)))\n",
    "    decam_stats.add_column(Column(data=np.full(5, 0), name=\"use {}\".format(col)))\n",
    "    decam_stats.add_column(Column(data=np.full(5, 0), name=\"{} ap\".format(col)))\n",
    "    decam_stats.add_column(Column(data=np.full(5, 0), name=\"use {} ap\".format(col)))"
   ]
  },
  {
   "cell_type": "code",
   "execution_count": 18,
   "metadata": {
    "collapsed": true
   },
   "outputs": [],
   "source": [
    "decam_bands = ['g','r','i','z','y'] # Lowercase naming convention (k is Ks)\n",
    "for band in decam_bands:\n",
    "    if (band == 'i') or (band == 'y'):\n",
    "        master_catalogue[\"f_des-decam_{}\".format(band)].name = \"f_decam_{}\".format(band)\n",
    "        master_catalogue[\"ferr_des-decam_{}\".format(band)].name = \"ferr_decam_{}\".format(band)\n",
    "        master_catalogue[\"m_des-decam_{}\".format(band)].name = \"m_decam_{}\".format(band)\n",
    "        master_catalogue[\"merr_des-decam_{}\".format(band)].name = \"merr_decam_{}\".format(band)\n",
    "        master_catalogue[\"f_ap_des-decam_{}\".format(band)].name = \"f_ap_decam_{}\".format(band)\n",
    "        master_catalogue[\"ferr_ap_des-decam_{}\".format(band)].name = \"ferr_ap_decam_{}\".format(band)\n",
    "        master_catalogue[\"m_ap_des-decam_{}\".format(band)].name = \"m_ap_decam_{}\".format(band)\n",
    "        master_catalogue[\"merr_ap_des-decam_{}\".format(band)].name = \"merr_ap_decam_{}\".format(band)\n",
    "        master_catalogue[\"flag_des-decam_{}\".format(band)].name = \"flag_decam_{}\".format(band)\n",
    "        \n",
    "        continue\n",
    "\n",
    "    # DECam total flux \n",
    "    has_des = ~np.isnan(master_catalogue['f_des-decam_' + band])\n",
    "    has_decals = ~np.isnan(master_catalogue['f_decals-decam_' + band])\n",
    "\n",
    "    use_des = has_des \n",
    "    use_decals = has_decals & ~has_des\n",
    "\n",
    "\n",
    "    f_decam = np.full(len(master_catalogue), np.nan)\n",
    "    f_decam[use_des] = master_catalogue['f_des-decam_' + band][use_des]\n",
    "    f_decam[use_decals] = master_catalogue['f_decals-decam_' + band][use_decals]\n",
    "\n",
    "    ferr_decam = np.full(len(master_catalogue), np.nan)\n",
    "    ferr_decam[use_des] = master_catalogue['ferr_des-decam_' + band][use_des]\n",
    "    ferr_decam[use_decals] = master_catalogue['ferr_decals-decam_' + band][use_decals]\n",
    "    \n",
    "    m_decam = np.full(len(master_catalogue), np.nan)\n",
    "    m_decam[use_des] = master_catalogue['m_des-decam_' + band][use_des]\n",
    "    m_decam[use_decals] = master_catalogue['m_decals-decam_' + band][use_decals]\n",
    "    \n",
    "    merr_decam = np.full(len(master_catalogue), np.nan)\n",
    "    merr_decam[use_des] = master_catalogue['merr_des-decam_' + band][use_des]\n",
    "    merr_decam[use_decals] = master_catalogue['merr_decals-decam_' + band][use_decals]\n",
    "    \n",
    "    flag_decam = np.full(len(master_catalogue), False, dtype=bool)\n",
    "    flag_decam[use_des] = master_catalogue['flag_des-decam_' + band][use_des]\n",
    "    flag_decam[use_decals] = master_catalogue['flag_decals-decam_' + band][use_decals]\n",
    "\n",
    "    master_catalogue.add_column(Column(data=f_decam, name=\"f_decam_\" + band))\n",
    "    master_catalogue.add_column(Column(data=ferr_decam, name=\"ferr_decam_\" + band))\n",
    "    master_catalogue.add_column(Column(data=m_decam, name=\"m_decam_\" + band))\n",
    "    master_catalogue.add_column(Column(data=merr_decam, name=\"merr_decam_\" + band))\n",
    "    master_catalogue.add_column(Column(data=flag_decam, name=\"flag_decam_\" + band))\n",
    "\n",
    "\n",
    "    old_des_columns = ['f_des-decam_' + band,\n",
    "                               'ferr_des-decam_' + band,\n",
    "                               'm_des-decam_' + band, \n",
    "                               'merr_des-decam_' + band,\n",
    "                               'flag_des-decam_' + band]\n",
    "    old_decals_columns =      ['f_decals-decam_' + band,\n",
    "                               'ferr_decals-decam_' + band,\n",
    "                               'm_decals-decam_' + band, \n",
    "                               'merr_decals-decam_' + band,\n",
    "                               'flag_decals-decam_' + band]\n",
    "    \n",
    "    old_columns = old_des_columns + old_decals_columns\n",
    "    master_catalogue.remove_columns(old_columns)\n",
    "\n",
    "    origin = np.full(len(master_catalogue), '     ', dtype='<U5')\n",
    "    origin[use_des] = \"DES\"\n",
    "    origin[use_decals] = \"DECaLS\"\n",
    "\n",
    "    \n",
    "    decam_origin.add_column(Column(data=origin, name= 'f_decam_' + band ))\n",
    "    \n",
    "    # DECam aperture flux \n",
    " \n",
    "    has_ap_des = ~np.isnan(master_catalogue['f_ap_des-decam_' + band])\n",
    "    has_ap_decals = ~np.isnan(master_catalogue['f_ap_decals-decam_' + band])\n",
    "\n",
    "    use_ap_des = has_ap_des \n",
    "    use_ap_decals = has_ap_decals & ~has_ap_des\n",
    "\n",
    "\n",
    "    f_ap_decam = np.full(len(master_catalogue), np.nan)\n",
    "    f_ap_decam[use_ap_des] = master_catalogue['f_ap_des-decam_' + band][use_ap_des]\n",
    "    f_ap_decam[use_ap_decals] = master_catalogue['f_ap_decals-decam_' + band][use_ap_decals]\n",
    "\n",
    "    ferr_ap_decam = np.full(len(master_catalogue), np.nan)\n",
    "    ferr_ap_decam[use_ap_des] = master_catalogue['ferr_ap_des-decam_' + band][use_ap_des]\n",
    "    ferr_ap_decam[use_ap_decals] = master_catalogue['ferr_ap_decals-decam_' + band][use_ap_decals]\n",
    "    \n",
    "    m_ap_decam = np.full(len(master_catalogue), np.nan)\n",
    "    m_ap_decam[use_ap_des] = master_catalogue['m_ap_des-decam_' + band][use_ap_des]\n",
    "    m_ap_decam[use_ap_decals] = master_catalogue['m_ap_decals-decam_' + band][use_ap_decals]\n",
    "    \n",
    "    merr_ap_decam = np.full(len(master_catalogue), np.nan)\n",
    "    merr_ap_decam[use_ap_des] = master_catalogue['merr_ap_des-decam_' + band][use_ap_des]\n",
    "    merr_ap_decam[use_ap_decals] = master_catalogue['merr_ap_decals-decam_' + band][use_ap_decals]\n",
    "    \n",
    "\n",
    "    master_catalogue.add_column(Column(data=f_ap_decam, name=\"f_ap_decam_\" + band))\n",
    "    master_catalogue.add_column(Column(data=ferr_ap_decam, name=\"ferr_ap_decam_\" + band))\n",
    "    master_catalogue.add_column(Column(data=m_ap_decam, name=\"m_ap_decam_\" + band))\n",
    "    master_catalogue.add_column(Column(data=merr_ap_decam, name=\"merr_ap_decam_\" + band))\n",
    "  \n",
    "\n",
    "\n",
    "    old_ap_des_columns = ['f_ap_des-decam_' + band,\n",
    "                               'ferr_ap_des-decam_' + band,\n",
    "                               'm_ap_des-decam_' + band, \n",
    "                               'merr_ap_des-decam_' + band]\n",
    "    old_ap_decals_columns =      ['f_ap_decals-decam_' + band,\n",
    "                               'ferr_ap_decals-decam_' + band,\n",
    "                               'm_ap_decals-decam_' + band, \n",
    "                               'merr_ap_decals-decam_' + band]\n",
    "    \n",
    "    old_ap_columns = old_ap_des_columns + old_ap_decals_columns\n",
    "    master_catalogue.remove_columns(old_ap_columns)\n",
    "\n",
    "    origin_ap = np.full(len(master_catalogue), '     ', dtype='<U5')\n",
    "    origin_ap[use_ap_des] = \"DES\"\n",
    "    origin_ap[use_ap_decals] = \"DECaLS\"\n",
    "\n",
    "    \n",
    "    decam_origin.add_column(Column(data=origin_ap, name= 'f_ap_decam_' + band ))    \n",
    "\n",
    "   \n",
    "    decam_stats['DES'][decam_stats['Band'] == band] = np.sum(has_des)\n",
    "    decam_stats['DECaLS'][decam_stats['Band'] == band] = np.sum(has_decals)\n",
    "\n",
    "    decam_stats['use DES'][decam_stats['Band'] == band] = np.sum(use_des)\n",
    "    decam_stats['use DECaLS'][decam_stats['Band'] == band] = np.sum(use_decals)\n",
    "\n",
    "    decam_stats['DES ap'][decam_stats['Band'] == band] = np.sum(has_ap_des)\n",
    "    decam_stats['DECaLS ap'][decam_stats['Band'] == band] = np.sum(has_ap_decals)\n",
    "\n",
    "    decam_stats['use DES ap'][decam_stats['Band'] == band] = np.sum(use_ap_des)\n",
    "    decam_stats['use DECaLS ap'][decam_stats['Band'] == band] = np.sum(use_ap_decals)\n"
   ]
  },
  {
   "cell_type": "code",
   "execution_count": 19,
   "metadata": {},
   "outputs": [
    {
     "data": {
      "text/html": [
       "<i>Table length=5</i>\n",
       "<table id=\"table4527356000-135972\" class=\"table-striped table-bordered table-condensed\">\n",
       "<thead><tr><th>idx</th><th>Band</th><th>DES</th><th>use DES</th><th>DES ap</th><th>use DES ap</th><th>DECaLS</th><th>use DECaLS</th><th>DECaLS ap</th><th>use DECaLS ap</th></tr></thead>\n",
       "<tr><td>0</td><td>g</td><td>40656</td><td>40656</td><td>41037</td><td>41037</td><td>237952</td><td>199617</td><td>220615</td><td>183640</td></tr>\n",
       "<tr><td>1</td><td>r</td><td>41657</td><td>41657</td><td>41764</td><td>41764</td><td>237927</td><td>198691</td><td>225560</td><td>187196</td></tr>\n",
       "<tr><td>2</td><td>i</td><td>0</td><td>0</td><td>0</td><td>0</td><td>0</td><td>0</td><td>0</td><td>0</td></tr>\n",
       "<tr><td>3</td><td>z</td><td>41678</td><td>41678</td><td>41789</td><td>41789</td><td>237935</td><td>198677</td><td>222329</td><td>183922</td></tr>\n",
       "<tr><td>4</td><td>y</td><td>0</td><td>0</td><td>0</td><td>0</td><td>0</td><td>0</td><td>0</td><td>0</td></tr>\n",
       "</table><style>table.dataTable {clear: both; width: auto !important; margin: 0 !important;}\n",
       ".dataTables_info, .dataTables_length, .dataTables_filter, .dataTables_paginate{\n",
       "display: inline-block; margin-right: 1em; }\n",
       ".paginate_button { margin-right: 5px; }\n",
       "</style>\n",
       "<script>\n",
       "\n",
       "var astropy_sort_num = function(a, b) {\n",
       "    var a_num = parseFloat(a);\n",
       "    var b_num = parseFloat(b);\n",
       "\n",
       "    if (isNaN(a_num) && isNaN(b_num))\n",
       "        return ((a < b) ? -1 : ((a > b) ? 1 : 0));\n",
       "    else if (!isNaN(a_num) && !isNaN(b_num))\n",
       "        return ((a_num < b_num) ? -1 : ((a_num > b_num) ? 1 : 0));\n",
       "    else\n",
       "        return isNaN(a_num) ? -1 : 1;\n",
       "}\n",
       "\n",
       "require.config({paths: {\n",
       "    datatables: 'https://cdn.datatables.net/1.10.12/js/jquery.dataTables.min'\n",
       "}});\n",
       "require([\"datatables\"], function(){\n",
       "    console.log(\"$('#table4527356000-135972').dataTable()\");\n",
       "    \n",
       "jQuery.extend( jQuery.fn.dataTableExt.oSort, {\n",
       "    \"optionalnum-asc\": astropy_sort_num,\n",
       "    \"optionalnum-desc\": function (a,b) { return -astropy_sort_num(a, b); }\n",
       "});\n",
       "\n",
       "    $('#table4527356000-135972').dataTable({\n",
       "        order: [],\n",
       "        pageLength: 50,\n",
       "        lengthMenu: [[10, 25, 50, 100, 500, 1000, -1], [10, 25, 50, 100, 500, 1000, 'All']],\n",
       "        pagingType: \"full_numbers\",\n",
       "        columnDefs: [{targets: [0, 2, 3, 4, 5, 6, 7, 8, 9], type: \"optionalnum\"}]\n",
       "    });\n",
       "});\n",
       "</script>\n"
      ],
      "text/plain": [
       "<IPython.core.display.HTML object>"
      ]
     },
     "execution_count": 19,
     "metadata": {},
     "output_type": "execute_result"
    }
   ],
   "source": [
    "decam_stats.show_in_notebook()"
   ]
  },
  {
   "cell_type": "code",
   "execution_count": 20,
   "metadata": {
    "collapsed": true
   },
   "outputs": [],
   "source": [
    "decam_origin.write(\"{}/herschel-stripe-82_decam_fluxes_origins{}.fits\".format(OUT_DIR, SUFFIX), overwrite=True)"
   ]
  },
  {
   "cell_type": "markdown",
   "metadata": {},
   "source": [
    "## IX - Saving the catalogue"
   ]
  },
  {
   "cell_type": "code",
   "execution_count": 21,
   "metadata": {},
   "outputs": [
    {
     "data": {
      "text/plain": [
       "['des_id',\n",
       " 'ra',\n",
       " 'dec',\n",
       " 'm_decam_i',\n",
       " 'merr_decam_i',\n",
       " 'm_ap_decam_i',\n",
       " 'merr_ap_decam_i',\n",
       " 'm_decam_y',\n",
       " 'merr_decam_y',\n",
       " 'm_ap_decam_y',\n",
       " 'merr_ap_decam_y',\n",
       " 'f_decam_i',\n",
       " 'ferr_decam_i',\n",
       " 'flag_decam_i',\n",
       " 'f_ap_decam_i',\n",
       " 'ferr_ap_decam_i',\n",
       " 'f_decam_y',\n",
       " 'ferr_decam_y',\n",
       " 'flag_decam_y',\n",
       " 'f_ap_decam_y',\n",
       " 'ferr_ap_decam_y',\n",
       " 'flag_merged',\n",
       " 'decals_id',\n",
       " 'decam_flag_cleaned',\n",
       " 'decam_flag_gaia',\n",
       " 'decam_stellarity',\n",
       " 'decam_intid',\n",
       " 'f_decam_g',\n",
       " 'ferr_decam_g',\n",
       " 'm_decam_g',\n",
       " 'merr_decam_g',\n",
       " 'flag_decam_g',\n",
       " 'f_ap_decam_g',\n",
       " 'ferr_ap_decam_g',\n",
       " 'm_ap_decam_g',\n",
       " 'merr_ap_decam_g',\n",
       " 'f_decam_r',\n",
       " 'ferr_decam_r',\n",
       " 'm_decam_r',\n",
       " 'merr_decam_r',\n",
       " 'flag_decam_r',\n",
       " 'f_ap_decam_r',\n",
       " 'ferr_ap_decam_r',\n",
       " 'm_ap_decam_r',\n",
       " 'merr_ap_decam_r',\n",
       " 'f_decam_z',\n",
       " 'ferr_decam_z',\n",
       " 'm_decam_z',\n",
       " 'merr_decam_z',\n",
       " 'flag_decam_z',\n",
       " 'f_ap_decam_z',\n",
       " 'ferr_ap_decam_z',\n",
       " 'm_ap_decam_z',\n",
       " 'merr_ap_decam_z']"
      ]
     },
     "execution_count": 21,
     "metadata": {},
     "output_type": "execute_result"
    }
   ],
   "source": [
    "master_catalogue.colnames"
   ]
  },
  {
   "cell_type": "code",
   "execution_count": 22,
   "metadata": {
    "collapsed": true
   },
   "outputs": [],
   "source": [
    "master_catalogue[\"ra\"].name = \"decam_ra\"\n",
    "master_catalogue[\"dec\"].name = \"decam_dec\"\n",
    "master_catalogue[\"flag_merged\"].name = \"decam_flag_merged\""
   ]
  },
  {
   "cell_type": "code",
   "execution_count": 23,
   "metadata": {
    "collapsed": true
   },
   "outputs": [],
   "source": [
    "columns = [\"decam_intid\", \"des_id\", \"decals_id\",\n",
    "           'decam_ra', 'decam_dec', 'decam_flag_merged',  \n",
    "           'decam_flag_cleaned',  'decam_flag_gaia', 'decam_stellarity']\n",
    "\n",
    "bands = [column[5:] for column in master_catalogue.colnames if 'f_ap' in column]\n",
    "for band in bands:\n",
    "    columns += [\"f_ap_{}\".format(band), \"ferr_ap_{}\".format(band),\n",
    "                \"m_ap_{}\".format(band), \"merr_ap_{}\".format(band),\n",
    "                \"f_{}\".format(band), \"ferr_{}\".format(band),\n",
    "                \"m_{}\".format(band), \"merr_{}\".format(band),\n",
    "                \"flag_{}\".format(band)]    \n"
   ]
  },
  {
   "cell_type": "code",
   "execution_count": 24,
   "metadata": {},
   "outputs": [
    {
     "name": "stdout",
     "output_type": "stream",
     "text": [
      "Missing columns: set()\n"
     ]
    }
   ],
   "source": [
    "# We check for columns in the master catalogue that we will not save to disk.\n",
    "print(\"Missing columns: {}\".format(set(master_catalogue.colnames) - set(columns)))"
   ]
  },
  {
   "cell_type": "code",
   "execution_count": 25,
   "metadata": {},
   "outputs": [
    {
     "data": {
      "text/html": [
       "<i>Table length=10</i>\n",
       "<table id=\"table4615980704-425417\" class=\"table-striped table-bordered table-condensed\">\n",
       "<thead><tr><th>idx</th><th>des_id</th><th>decam_ra</th><th>decam_dec</th><th>m_decam_i</th><th>merr_decam_i</th><th>m_ap_decam_i</th><th>merr_ap_decam_i</th><th>m_decam_y</th><th>merr_decam_y</th><th>m_ap_decam_y</th><th>merr_ap_decam_y</th><th>f_decam_i</th><th>ferr_decam_i</th><th>flag_decam_i</th><th>f_ap_decam_i</th><th>ferr_ap_decam_i</th><th>f_decam_y</th><th>ferr_decam_y</th><th>flag_decam_y</th><th>f_ap_decam_y</th><th>ferr_ap_decam_y</th><th>decam_flag_merged</th><th>decals_id</th><th>decam_flag_cleaned</th><th>decam_flag_gaia</th><th>decam_stellarity</th><th>decam_intid</th><th>f_decam_g</th><th>ferr_decam_g</th><th>m_decam_g</th><th>merr_decam_g</th><th>flag_decam_g</th><th>f_ap_decam_g</th><th>ferr_ap_decam_g</th><th>m_ap_decam_g</th><th>merr_ap_decam_g</th><th>f_decam_r</th><th>ferr_decam_r</th><th>m_decam_r</th><th>merr_decam_r</th><th>flag_decam_r</th><th>f_ap_decam_r</th><th>ferr_ap_decam_r</th><th>m_ap_decam_r</th><th>merr_ap_decam_r</th><th>f_decam_z</th><th>ferr_decam_z</th><th>m_decam_z</th><th>merr_decam_z</th><th>flag_decam_z</th><th>f_ap_decam_z</th><th>ferr_ap_decam_z</th><th>m_ap_decam_z</th><th>merr_ap_decam_z</th></tr></thead>\n",
       "<thead><tr><th></th><th></th><th>deg</th><th>deg</th><th></th><th></th><th></th><th></th><th></th><th></th><th></th><th></th><th></th><th></th><th></th><th></th><th></th><th></th><th></th><th></th><th></th><th></th><th></th><th></th><th></th><th></th><th></th><th></th><th></th><th></th><th></th><th></th><th></th><th></th><th></th><th></th><th></th><th></th><th></th><th></th><th></th><th></th><th></th><th></th><th></th><th></th><th></th><th></th><th></th><th></th><th></th><th></th><th></th><th></th><th></th></tr></thead>\n",
       "<tr><td>0</td><td>210041514</td><td>359.892977925</td><td>0.367974002986</td><td>16.4214878082</td><td>0.00168689282145</td><td>19.1177177429</td><td>0.00522434711456</td><td>13.5741052628</td><td>0.000610945455264</td><td>14.4282951355</td><td>0.000553833204322</td><td>980.403553531</td><td>1.5232389869</td><td>False</td><td>81.8300662592</td><td>0.39375003677</td><td>13500.7499876</td><td>7.59689306799</td><td>False</td><td>6147.26514789</td><td>3.13571523152</td><td>False</td><td>-1</td><td>False</td><td>2</td><td>0.881769835949</td><td>0</td><td>3692.64510478</td><td>0.860202439373</td><td>14.9816560745</td><td>0.00025292247301</td><td>False</td><td>2154.20679606</td><td>0.761519446511</td><td>15.5667815208</td><td>0.000383811449865</td><td>745.320101562</td><td>0.9574221178</td><td>16.7191429138</td><td>0.00139471329749</td><td>False</td><td>76.6277413196</td><td>0.311071951656</td><td>19.1890349388</td><td>0.00440756930038</td><td>979.15223536</td><td>2.49843761532</td><td>16.4228744507</td><td>0.00277040083893</td><td>False</td><td>76.9693781638</td><td>0.644077807465</td><td>19.1842050552</td><td>0.00908541306853</td></tr>\n",
       "<tr><td>1</td><td>210049504</td><td>0.160542924565</td><td>0.205238002986</td><td>15.6857252121</td><td>0.00051945168525</td><td>16.0738124847</td><td>0.000497912522405</td><td>14.6830263138</td><td>0.00114923610818</td><td>14.7159118652</td><td>0.000817235501017</td><td>1930.67829927</td><td>0.923699598332</td><td>False</td><td>1350.43910707</td><td>0.619303785958</td><td>4861.71475524</td><td>5.14605492558</td><td>False</td><td>4716.6674135</td><td>3.55024364105</td><td>False</td><td>-1</td><td>False</td><td>3</td><td>0.997282147408</td><td>1</td><td>1902.73321359</td><td>0.640212121747</td><td>15.7015552521</td><td>0.000365317362593</td><td>False</td><td>2247.47875328</td><td>0.860437569662</td><td>15.520761013</td><td>0.000415669434005</td><td>1582.61232009</td><td>0.631767626514</td><td>15.9015636444</td><td>0.000433418201283</td><td>False</td><td>1235.14045553</td><td>0.583244581573</td><td>16.1707091331</td><td>0.000512694532517</td><td>263.826372892</td><td>1.39641706581</td><td>17.846704483</td><td>0.00574673619121</td><td>False</td><td>35.942109371</td><td>0.580945465191</td><td>20.0109910965</td><td>0.0175491515547</td></tr>\n",
       "<tr><td>2</td><td>210071422</td><td>359.687218925</td><td>-0.248564997014</td><td>17.8540401459</td><td>0.00280675385147</td><td>19.0973320007</td><td>0.00561516638845</td><td>14.759305954</td><td>0.000769833219238</td><td>14.8272590637</td><td>0.000752407358959</td><td>262.049865813</td><td>0.677429256687</td><td>False</td><td>83.3810192627</td><td>0.43122656751</td><td>4531.87182709</td><td>3.21329017356</td><td>False</td><td>4256.92868376</td><td>2.95002087449</td><td>False</td><td>-1</td><td>False</td><td>2</td><td>0.998134076595</td><td>2</td><td>1165.35305638</td><td>0.404258701778</td><td>16.2338562012</td><td>0.000376639771275</td><td>False</td><td>1399.59305136</td><td>0.568720944427</td><td>16.0349955559</td><td>0.000441186042735</td><td>168.387900687</td><td>0.418849458372</td><td>18.3342227936</td><td>0.00270066922531</td><td>False</td><td>51.3923137303</td><td>0.332807929842</td><td>19.6227545738</td><td>0.00703104399145</td><td>438.895979771</td><td>0.854321029171</td><td>17.294095993</td><td>0.0021134102717</td><td>False</td><td>149.403381749</td><td>0.491153079831</td><td>18.4640989304</td><td>0.00356928119436</td></tr>\n",
       "<tr><td>3</td><td>176016997</td><td>0.048767924565</td><td>-0.360533997014</td><td>11.0719156265</td><td>6.43320454401e-05</td><td>15.6539125443</td><td>0.000334238313371</td><td>8.72742080688</td><td>4.16031689383e-05</td><td>13.5503330231</td><td>0.000361032638466</td><td>135280.048219</td><td>8.01561389501</td><td>False</td><td>1988.0851543</td><td>0.612021802257</td><td>1172280.86807</td><td>44.9193816913</td><td>False</td><td>13799.6093036</td><td>4.58869229454</td><td>False</td><td>-1</td><td>False</td><td>3</td><td>0.028626749292</td><td>3</td><td>55838.912392</td><td>3.77166357371</td><td>12.0326576233</td><td>7.33365232009e-05</td><td>False</td><td>1402.39632718</td><td>0.580007584688</td><td>16.0328230858</td><td>0.000449042272521</td><td>84354.5129358</td><td>7.42457453296</td><td>11.5847291946</td><td>9.55625146162e-05</td><td>False</td><td>1272.90107965</td><td>0.838880359123</td><td>16.1380133629</td><td>0.000715533038601</td><td>263575.290351</td><td>13.6798030228</td><td>10.347738266</td><td>5.6350720115e-05</td><td>False</td><td>2623.64935598</td><td>0.946359871636</td><td>15.3527355194</td><td>0.00039162900066</td></tr>\n",
       "<tr><td>4</td><td>210071450</td><td>359.943739925</td><td>-0.280024997014</td><td>10.1300258636</td><td>4.78345573356e-05</td><td>15.1707696915</td><td>0.000400815508328</td><td>7.43378686905</td><td>2.41684520006e-05</td><td>13.039932251</td><td>0.000309406023007</td><td>322099.206215</td><td>14.1908070118</td><td>False</td><td>3102.35950838</td><td>1.14528169727</td><td>3859093.06799</td><td>85.9032840306</td><td>False</td><td>22081.4251495</td><td>6.29262053516</td><td>False</td><td>-1</td><td>False</td><td>0</td><td>0.845089673996</td><td>4</td><td>64848.35387</td><td>5.54200664532</td><td>11.8702526093</td><td>9.27881264943e-05</td><td>False</td><td>1920.07037241</td><td>0.884105512201</td><td>15.6917071342</td><td>0.000499932386447</td><td>147275.288723</td><td>9.46479190316</td><td>10.979675293</td><td>6.97759096511e-05</td><td>False</td><td>1992.33749098</td><td>0.90160399014</td><td>15.6515927315</td><td>0.000491334474646</td><td>802828.539585</td><td>30.9797934854</td><td>9.13844299316</td><td>4.18967210862e-05</td><td>False</td><td>5405.51487332</td><td>2.1806271763</td><td>14.5679073334</td><td>0.000437994516687</td></tr>\n",
       "<tr><td>5</td><td>140297248</td><td>0.426987924565</td><td>-0.218350997014</td><td>12.6151475906</td><td>0.000200767826755</td><td>16.4963588715</td><td>0.000679498363752</td><td>10.6105470657</td><td>0.000156094829435</td><td>14.3630523682</td><td>0.000687785912305</td><td>32654.3440146</td><td>6.03824543492</td><td>False</td><td>915.074496207</td><td>0.572691248721</td><td>206909.853735</td><td>29.7471505379</td><td>False</td><td>6527.98357066</td><td>4.13530940203</td><td>False</td><td>-1</td><td>False</td><td>3</td><td>0.844959974289</td><td>5</td><td>29215.4745878</td><td>2.81892772737</td><td>12.7359676361</td><td>0.000104759958049</td><td>False</td><td>1267.2806694</td><td>0.624857057994</td><td>16.1428179741</td><td>0.000535343075171</td><td>30080.0729305</td><td>4.84489299854</td><td>12.7043027878</td><td>0.00017487576406</td><td>False</td><td>828.577270244</td><td>0.56517557891</td><td>16.6041674614</td><td>0.000740584626328</td><td>55047.0273871</td><td>9.97964692756</td><td>12.0481653214</td><td>0.000196836495888</td><td>False</td><td>1307.45920306</td><td>0.826992985545</td><td>16.1089296341</td><td>0.000686748942826</td></tr>\n",
       "<tr><td>6</td><td>210062860</td><td>0.292554924565</td><td>-0.0764439970141</td><td>12.0332384109</td><td>0.0001108980141</td><td>15.9718704224</td><td>0.00042517244583</td><td>10.0267438889</td><td>0.000112012356112</td><td>13.9254159927</td><td>0.000481629103888</td><td>55809.0507381</td><td>5.70038363696</td><td>False</td><td>1483.37799098</td><td>0.580888291051</td><td>354243.952144</td><td>36.5463540262</td><td>False</td><td>9768.62870616</td><td>4.33333241476</td><td>False</td><td>-1</td><td>False</td><td>3</td><td>0.844918310642</td><td>6</td><td>36302.0335634</td><td>3.14899381556</td><td>12.5001726151</td><td>9.41814068938e-05</td><td>False</td><td>1351.96836585</td><td>0.687901895136</td><td>16.0725836754</td><td>0.00055243895622</td><td>43377.3361923</td><td>3.88417616322</td><td>12.306842804</td><td>9.72210618784e-05</td><td>False</td><td>1212.51727519</td><td>0.529804251185</td><td>16.1907801628</td><td>0.000474407803267</td><td>80980.7520078</td><td>9.46961180758</td><td>11.6290454865</td><td>0.000126962273498</td><td>False</td><td>1516.3586243</td><td>0.70194062663</td><td>15.9479951859</td><td>0.000502600334585</td></tr>\n",
       "<tr><td>7</td><td>140272011</td><td>0.365085924565</td><td>0.301455002986</td><td>12.7543973923</td><td>0.000173685199115</td><td>16.5405521393</td><td>0.000636877433863</td><td>10.6583948135</td><td>0.000133399254992</td><td>14.2002696991</td><td>0.000570548581891</td><td>28723.7437131</td><td>4.59493671141</td><td>False</td><td>878.575613179</td><td>0.515359973743</td><td>197989.46157</td><td>24.3260255611</td><td>False</td><td>7583.89166208</td><td>3.98529459923</td><td>False</td><td>-1</td><td>False</td><td>3</td><td>0.844670176506</td><td>7</td><td>15876.7764236</td><td>2.44172048889</td><td>13.3980941772</td><td>0.000166977493791</td><td>False</td><td>953.371407981</td><td>0.664915624007</td><td>16.4518446922</td><td>0.000757231609896</td><td>21956.9859202</td><td>3.64918119477</td><td>13.0460681915</td><td>0.000180445902515</td><td>False</td><td>837.77633769</td><td>0.568176767948</td><td>16.5921797752</td><td>0.00073634221917</td><td>47269.0333613</td><td>7.7476007266</td><td>12.213558197</td><td>0.000177956899279</td><td>False</td><td>1303.31765312</td><td>0.812722071398</td><td>16.1123743057</td><td>0.000677042757161</td></tr>\n",
       "<tr><td>8</td><td>210060377</td><td>359.915509925</td><td>-0.00297799701414</td><td>19.7900772095</td><td>0.00659643253312</td><td>19.7896499634</td><td>0.00752942357212</td><td>18.3266792297</td><td>0.00720566371456</td><td>18.1020307541</td><td>0.00741032371297</td><td>44.052353564</td><td>0.267641787145</td><td>False</td><td>44.0696919373</td><td>0.305616940685</td><td>169.561913182</td><td>1.12532502815</td><td>False</td><td>208.539197695</td><td>1.42331346693</td><td>False</td><td>-1</td><td>False</td><td>0</td><td>0.984903872013</td><td>8</td><td>89.244353853</td><td>0.12992136134</td><td>19.0235481262</td><td>0.00158060784452</td><td>False</td><td>133.089896767</td><td>0.211435018324</td><td>18.5896372795</td><td>0.00172486912925</td><td>48.4281251708</td><td>0.157816203251</td><td>19.6872558594</td><td>0.00353816640563</td><td>False</td><td>52.8639207722</td><td>0.191884475915</td><td>19.5921015739</td><td>0.0039409850724</td><td>23.2700345224</td><td>0.393000776604</td><td>20.483007431</td><td>0.0183366797864</td><td>False</td><td>22.5328716846</td><td>0.434589219474</td><td>20.5179586411</td><td>0.0209404844791</td></tr>\n",
       "<tr><td>9</td><td>140292642</td><td>0.404471924565</td><td>-0.0992569970141</td><td>19.7985477448</td><td>0.0104324445128</td><td>20.7930641174</td><td>0.0176648069173</td><td>18.3579883575</td><td>0.013879397884</td><td>18.6718740463</td><td>0.0131696909666</td><td>43.7100096228</td><td>0.41999359333</td><td>False</td><td>17.4893775456</td><td>0.2845502214</td><td>164.74212248</td><td>2.10596409711</td><td>False</td><td>123.381595352</td><td>1.49658588765</td><td>False</td><td>-1</td><td>False</td><td>0</td><td>0.98364597559</td><td>9</td><td>109.349738557</td><td>0.16289505163</td><td>18.8029556274</td><td>0.0016173889162</td><td>False</td><td>112.91436959</td><td>0.182518119061</td><td>18.7681269646</td><td>0.00175501604099</td><td>53.2753156446</td><td>0.253807146443</td><td>19.5836849213</td><td>0.00517251947895</td><td>False</td><td>30.1988195719</td><td>0.173559526138</td><td>20.2000250816</td><td>0.00623997440562</td><td>56.6747864753</td><td>0.626707867438</td><td>19.5165252686</td><td>0.0120060341433</td><td>False</td><td>26.3875737331</td><td>0.410350044616</td><td>20.3465013504</td><td>0.0168841555715</td></tr>\n",
       "</table><style>table.dataTable {clear: both; width: auto !important; margin: 0 !important;}\n",
       ".dataTables_info, .dataTables_length, .dataTables_filter, .dataTables_paginate{\n",
       "display: inline-block; margin-right: 1em; }\n",
       ".paginate_button { margin-right: 5px; }\n",
       "</style>\n",
       "<script>\n",
       "\n",
       "var astropy_sort_num = function(a, b) {\n",
       "    var a_num = parseFloat(a);\n",
       "    var b_num = parseFloat(b);\n",
       "\n",
       "    if (isNaN(a_num) && isNaN(b_num))\n",
       "        return ((a < b) ? -1 : ((a > b) ? 1 : 0));\n",
       "    else if (!isNaN(a_num) && !isNaN(b_num))\n",
       "        return ((a_num < b_num) ? -1 : ((a_num > b_num) ? 1 : 0));\n",
       "    else\n",
       "        return isNaN(a_num) ? -1 : 1;\n",
       "}\n",
       "\n",
       "require.config({paths: {\n",
       "    datatables: 'https://cdn.datatables.net/1.10.12/js/jquery.dataTables.min'\n",
       "}});\n",
       "require([\"datatables\"], function(){\n",
       "    console.log(\"$('#table4615980704-425417').dataTable()\");\n",
       "    \n",
       "jQuery.extend( jQuery.fn.dataTableExt.oSort, {\n",
       "    \"optionalnum-asc\": astropy_sort_num,\n",
       "    \"optionalnum-desc\": function (a,b) { return -astropy_sort_num(a, b); }\n",
       "});\n",
       "\n",
       "    $('#table4615980704-425417').dataTable({\n",
       "        order: [],\n",
       "        pageLength: 50,\n",
       "        lengthMenu: [[10, 25, 50, 100, 500, 1000, -1], [10, 25, 50, 100, 500, 1000, 'All']],\n",
       "        pagingType: \"full_numbers\",\n",
       "        columnDefs: [{targets: [0, 1, 2, 3, 4, 5, 6, 7, 8, 9, 10, 11, 12, 13, 15, 16, 17, 18, 20, 21, 23, 25, 26, 27, 28, 29, 30, 31, 33, 34, 35, 36, 37, 38, 39, 40, 42, 43, 44, 45, 46, 47, 48, 49, 51, 52, 53, 54], type: \"optionalnum\"}]\n",
       "    });\n",
       "});\n",
       "</script>\n"
      ],
      "text/plain": [
       "<IPython.core.display.HTML object>"
      ]
     },
     "execution_count": 25,
     "metadata": {},
     "output_type": "execute_result"
    }
   ],
   "source": [
    "master_catalogue[:10].show_in_notebook()"
   ]
  },
  {
   "cell_type": "code",
   "execution_count": 26,
   "metadata": {
    "collapsed": true
   },
   "outputs": [],
   "source": [
    "master_catalogue[columns].write(\"{}/decam_merged_catalogue_herschel-stripe-82.fits\".format(TMP_DIR), overwrite=True)"
   ]
  }
 ],
 "metadata": {
  "kernelspec": {
   "display_name": "Python (herschelhelp_internal)",
   "language": "python",
   "name": "helpint"
  },
  "language_info": {
   "codemirror_mode": {
    "name": "ipython",
    "version": 3
   },
   "file_extension": ".py",
   "mimetype": "text/x-python",
   "name": "python",
   "nbconvert_exporter": "python",
   "pygments_lexer": "ipython3",
   "version": "3.6.1"
  }
 },
 "nbformat": 4,
 "nbformat_minor": 2
}
