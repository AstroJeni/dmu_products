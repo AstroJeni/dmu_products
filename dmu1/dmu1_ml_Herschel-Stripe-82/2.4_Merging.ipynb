{
 "cells": [
  {
   "cell_type": "markdown",
   "metadata": {},
   "source": [
    "# Herschel Stripe 82 master catalogue\n",
    "\n",
    "This notebook presents the merge of the various pristine catalogues to produce HELP mater catalogue on Herschel Stripe 82."
   ]
  },
  {
   "cell_type": "code",
   "execution_count": 1,
   "metadata": {},
   "outputs": [
    {
     "name": "stdout",
     "output_type": "stream",
     "text": [
      "This notebook was run with herschelhelp_internal version: \n",
      "0246c5d (Thu Jan 25 17:01:47 2018 +0000) [with local modifications]\n",
      "This notebook was executed on: \n",
      "2018-02-27 12:09:02.360306\n"
     ]
    }
   ],
   "source": [
    "from herschelhelp_internal import git_version\n",
    "print(\"This notebook was run with herschelhelp_internal version: \\n{}\".format(git_version()))\n",
    "import datetime\n",
    "print(\"This notebook was executed on: \\n{}\".format(datetime.datetime.now()))"
   ]
  },
  {
   "cell_type": "code",
   "execution_count": 2,
   "metadata": {},
   "outputs": [
    {
     "name": "stderr",
     "output_type": "stream",
     "text": [
      "/Users/rs548/anaconda/envs/herschelhelp_internal/lib/python3.6/site-packages/seaborn/apionly.py:6: UserWarning: As seaborn no longer sets a default style on import, the seaborn.apionly module is deprecated. It will be removed in a future version.\n",
      "  warnings.warn(msg, UserWarning)\n"
     ]
    }
   ],
   "source": [
    "%matplotlib inline\n",
    "#%config InlineBackend.figure_format = 'svg'\n",
    "\n",
    "import matplotlib.pyplot as plt\n",
    "plt.rc('figure', figsize=(10, 6))\n",
    "\n",
    "import os\n",
    "import time\n",
    "\n",
    "from astropy import units as u\n",
    "from astropy.coordinates import SkyCoord\n",
    "from astropy.table import Column, Table, join\n",
    "import numpy as np\n",
    "from pymoc import MOC\n",
    "\n",
    "from herschelhelp_internal.masterlist import merge_catalogues, nb_merge_dist_plot, specz_merge\n",
    "from herschelhelp_internal.utils import coords_to_hpidx, ebv, gen_help_id, inMoc"
   ]
  },
  {
   "cell_type": "code",
   "execution_count": 3,
   "metadata": {
    "collapsed": true
   },
   "outputs": [],
   "source": [
    "TMP_DIR = os.environ.get('TMP_DIR', \"./data_tmp\")\n",
    "\n",
    "SUFFIX = os.environ.get('SUFFIX', time.strftime(\"_%Y%m%d\"))\n",
    "OUT_DIR = os.environ.get('OUT_DIR', \"./data\")\n",
    "\n",
    "try:\n",
    "    os.makedirs(OUT_DIR)\n",
    "except FileExistsError:\n",
    "    pass"
   ]
  },
  {
   "cell_type": "markdown",
   "metadata": {},
   "source": [
    "## I - Reading the prepared pristine catalogues"
   ]
  },
  {
   "cell_type": "code",
   "execution_count": 4,
   "metadata": {
    "collapsed": true
   },
   "outputs": [],
   "source": [
    "hsc =    Table.read(\"{}/HSC-SSP.fits\".format(TMP_DIR)   )[\"hsc_id\",      \"hsc_ra\",    \"hsc_dec\",\n",
    "                                                          \"hsc_flag_gaia\"]\n",
    "#vhs =    Table.read(\"{}/VISTA-VHS.fits\".format(TMP_DIR) )[\"vhs_id\",      \"vhs_ra\",    \"vhs_dec\",    \n",
    "#                                                          \"vhs_stellarity\", \"vhs_flag_gaia\"]\n",
    "#vics82 = Table.read(\"{}/VICS82.fits\".format(TMP_DIR)    )[\"vics82_id\",   \"vics82_ra\", \"vics82_dec\", \n",
    "#                                                          \"vics82_stellarity\", \"vics82_flag_gaia\"]\n",
    "vista = Table.read(\"{}/vista_merged_catalogue_herschel-stripe-82.fits\".format(TMP_DIR)    )[\n",
    "                                                           \"vics82_id\", \"vhs_id\", \"vista_intid\",  \n",
    "                                                           \"vista_ra\", \"vista_dec\", \n",
    "                                                          \"vista_stellarity\", \"vista_flag_gaia\"]\n",
    "\n",
    "las =    Table.read(\"{}/UKIDSS-LAS.fits\".format(TMP_DIR))[\"las_id\",      \"las_ra\",    \"las_dec\",    \n",
    "                                                          \"las_stellarity\", \"las_flag_gaia\"]\n",
    "  \n",
    "ps1 =    Table.read(\"{}/PS1.fits\".format(TMP_DIR)       )[\"ps1_id\",      \"ps1_ra\",    \"ps1_dec\",\n",
    "                                                         \"ps1_flag_gaia\"]\n",
    "#shela =  Table.read(\"{}/SHELA.fits\".format(TMP_DIR)     )[\"shela_intid\", \"shela_ra\",  \"shela_dec\"]\n",
    "#spies =  Table.read(\"{}/SpIES.fits\".format(TMP_DIR)     )[\"spies_intid\", \"spies_ra\",  \"spies_dec\",  \"spies_stellarity_irac2\"]\n",
    "irac =   Table.read(\"{}/irac_merged_catalogue_herschel-stripe-82.fits\".format(TMP_DIR)      )[\n",
    "                                                          \"irac_intid\",  \"irac_ra\",   \"irac_dec\",   \n",
    "                                                          \"irac_stellarity\", \"irac_flag_gaia\",\n",
    "                                                         \"shela_intid\", \"spies_intid\"]\n",
    "#decals = Table.read(\"{}/DECaLS.fits\".format(TMP_DIR)    )[\"decals_id\",   \"decals_ra\", \"decals_dec\", \n",
    "#                                                          \"decals_stellarity\", \"decals_flag_gaia\"]\n",
    "decam = Table.read(\"{}/decam_merged_catalogue_herschel-stripe-82.fits\".format(TMP_DIR)    )[\n",
    "                                                          \"decam_intid\", \"des_id\", \"decals_id\",   \n",
    "                                                          \"decam_ra\", \"decam_dec\", \n",
    "                                                          \"decam_stellarity\", \"decam_flag_gaia\"]\n",
    "rcs =    Table.read(\"{}/RCSLenS.fits\".format(TMP_DIR)   )[\"rcs_id\",      \"rcs_ra\",    \"rcs_dec\",    \n",
    "                                                          \"rcs_stellarity\", \"rcs_flag_gaia\"]\n",
    "#We choose to use the official SDSS not IAC because it has greater coverage\n",
    "#SDSS-S82_IAC.fits\n",
    "#SDSS-S82.fits\n",
    "sdss =   Table.read(\"{}/SDSS-S82.fits\".format(TMP_DIR)  )[\"sdss_id\",     \"sdss_ra\",   \"sdss_dec\",   \n",
    "                                                          \"sdss_stellarity\", \"sdss_flag_gaia\"]"
   ]
  },
  {
   "cell_type": "markdown",
   "metadata": {},
   "source": [
    "## II - Merging tables\n",
    "\n",
    "We first merge the optical catalogues and then add the infrared ones: HSC, VHS, VICS82, UKIDSS-LAS, PanSTARRS, SHELA, SpIES.\n",
    "\n",
    "At every step, we look at the distribution of the distances to the nearest source in the merged catalogue to determine the best crossmatching radius."
   ]
  },
  {
   "cell_type": "markdown",
   "metadata": {},
   "source": [
    "### HSC"
   ]
  },
  {
   "cell_type": "code",
   "execution_count": 5,
   "metadata": {
    "collapsed": true
   },
   "outputs": [],
   "source": [
    "master_catalogue = hsc\n",
    "master_catalogue['hsc_ra'].name = 'ra'\n",
    "master_catalogue['hsc_dec'].name = 'dec'\n",
    "del hsc"
   ]
  },
  {
   "cell_type": "markdown",
   "metadata": {},
   "source": [
    "### Add VISTA (VHS and VICS82 pre-merge)"
   ]
  },
  {
   "cell_type": "code",
   "execution_count": 6,
   "metadata": {},
   "outputs": [
    {
     "name": "stdout",
     "output_type": "stream",
     "text": [
      "HELP Warning: There weren't any cross matches. The two surveys probably don't overlap.\n"
     ]
    }
   ],
   "source": [
    "nb_merge_dist_plot(\n",
    "    SkyCoord(master_catalogue['ra'], master_catalogue['dec']),\n",
    "    SkyCoord(vista['vista_ra'], vista['vista_dec'])\n",
    ")"
   ]
  },
  {
   "cell_type": "code",
   "execution_count": 7,
   "metadata": {
    "collapsed": true
   },
   "outputs": [],
   "source": [
    "# Given the graph above, we use 0.8 arc-second radius\n",
    "master_catalogue = merge_catalogues(master_catalogue, vista, \"vista_ra\", \"vista_dec\", radius=0.8*u.arcsec)\n",
    "del vista"
   ]
  },
  {
   "cell_type": "markdown",
   "metadata": {},
   "source": [
    "### Add LAS"
   ]
  },
  {
   "cell_type": "code",
   "execution_count": 8,
   "metadata": {},
   "outputs": [
    {
     "data": {
      "image/png": "[encoded data removed]",
      "text/plain": [
       "<matplotlib.figure.Figure at 0x11fb1dc18>"
      ]
     },
     "metadata": {},
     "output_type": "display_data"
    }
   ],
   "source": [
    "nb_merge_dist_plot(\n",
    "    SkyCoord(master_catalogue['ra'], master_catalogue['dec']),\n",
    "    SkyCoord(las['las_ra'], las['las_dec'])\n",
    ")"
   ]
  },
  {
   "cell_type": "code",
   "execution_count": 9,
   "metadata": {
    "collapsed": true
   },
   "outputs": [],
   "source": [
    "# Given the graph above, we use 0.8 arc-second radius\n",
    "master_catalogue = merge_catalogues(master_catalogue, las, \"las_ra\", \"las_dec\", radius=0.8*u.arcsec)\n",
    "del las"
   ]
  },
  {
   "cell_type": "markdown",
   "metadata": {},
   "source": [
    "### Add PanSTARRS"
   ]
  },
  {
   "cell_type": "code",
   "execution_count": 10,
   "metadata": {},
   "outputs": [
    {
     "data": {
      "image/png": "[encoded data removed]",
      "text/plain": [
       "<matplotlib.figure.Figure at 0x112ba6f98>"
      ]
     },
     "metadata": {},
     "output_type": "display_data"
    }
   ],
   "source": [
    "nb_merge_dist_plot(\n",
    "    SkyCoord(master_catalogue['ra'], master_catalogue['dec']),\n",
    "    SkyCoord(ps1['ps1_ra'], ps1['ps1_dec'])\n",
    ")"
   ]
  },
  {
   "cell_type": "code",
   "execution_count": 11,
   "metadata": {
    "collapsed": true
   },
   "outputs": [],
   "source": [
    "# Given the graph above, we use 0.8 arc-second radius\n",
    "master_catalogue = merge_catalogues(master_catalogue, ps1, \"ps1_ra\", \"ps1_dec\", radius=0.8*u.arcsec)\n",
    "del ps1"
   ]
  },
  {
   "cell_type": "markdown",
   "metadata": {},
   "source": [
    "## Add SDSS\n",
    "We are waiting for a new SDSS-82 catalogue, which does not suffer from the issue of multiple sources per object due to including all exposure extractions."
   ]
  },
  {
   "cell_type": "code",
   "execution_count": 12,
   "metadata": {},
   "outputs": [
    {
     "data": {
      "image/png": "[encoded data removed]",
      "text/plain": [
       "<matplotlib.figure.Figure at 0x11a1bab00>"
      ]
     },
     "metadata": {},
     "output_type": "display_data"
    }
   ],
   "source": [
    "nb_merge_dist_plot(\n",
    "    SkyCoord(master_catalogue['ra'], master_catalogue['dec']),\n",
    "    SkyCoord(sdss['sdss_ra'], sdss['sdss_dec'])\n",
    ")"
   ]
  },
  {
   "cell_type": "code",
   "execution_count": 13,
   "metadata": {
    "collapsed": true
   },
   "outputs": [],
   "source": [
    "# Given the graph above, we use 0.8 arc-second radius\n",
    "master_catalogue = merge_catalogues(master_catalogue, sdss, \"sdss_ra\", \"sdss_dec\", radius=0.8*u.arcsec)\n",
    "del sdss"
   ]
  },
  {
   "cell_type": "markdown",
   "metadata": {},
   "source": [
    "## Add DECam (DECaLS and DES)"
   ]
  },
  {
   "cell_type": "code",
   "execution_count": 14,
   "metadata": {},
   "outputs": [
    {
     "data": {
      "image/png": "[encoded data removed]",
      "text/plain": [
       "<matplotlib.figure.Figure at 0x11fb266d8>"
      ]
     },
     "metadata": {},
     "output_type": "display_data"
    }
   ],
   "source": [
    "nb_merge_dist_plot(\n",
    "    SkyCoord(master_catalogue['ra'], master_catalogue['dec']),\n",
    "    SkyCoord(decam['decam_ra'], decam['decam_dec'])\n",
    ")"
   ]
  },
  {
   "cell_type": "code",
   "execution_count": 15,
   "metadata": {
    "collapsed": true
   },
   "outputs": [],
   "source": [
    "# Given the graph above, we use 0.8 arc-second radius\n",
    "master_catalogue = merge_catalogues(master_catalogue, decam, \"decam_ra\", \"decam_dec\", radius=0.8*u.arcsec)\n",
    "del decam"
   ]
  },
  {
   "cell_type": "markdown",
   "metadata": {},
   "source": [
    "## Add RCSLenS"
   ]
  },
  {
   "cell_type": "code",
   "execution_count": 16,
   "metadata": {},
   "outputs": [
    {
     "data": {
      "image/png": "[encoded data removed]",
      "text/plain": [
       "<matplotlib.figure.Figure at 0x119b744a8>"
      ]
     },
     "metadata": {},
     "output_type": "display_data"
    }
   ],
   "source": [
    "nb_merge_dist_plot(\n",
    "    SkyCoord(master_catalogue['ra'], master_catalogue['dec']),\n",
    "    SkyCoord(rcs['rcs_ra'], rcs['rcs_dec'])\n",
    ")"
   ]
  },
  {
   "cell_type": "code",
   "execution_count": 17,
   "metadata": {
    "collapsed": true
   },
   "outputs": [],
   "source": [
    "# Given the graph above, we use 0.8 arc-second radius\n",
    "master_catalogue = merge_catalogues(master_catalogue, rcs, \"rcs_ra\", \"rcs_dec\", radius=0.8*u.arcsec)\n",
    "del rcs"
   ]
  },
  {
   "cell_type": "markdown",
   "metadata": {},
   "source": [
    "## Add IRAC (SHELA and SpIES)"
   ]
  },
  {
   "cell_type": "code",
   "execution_count": 18,
   "metadata": {},
   "outputs": [
    {
     "name": "stdout",
     "output_type": "stream",
     "text": [
      "HELP Warning: There weren't any cross matches. The two surveys probably don't overlap.\n"
     ]
    }
   ],
   "source": [
    "nb_merge_dist_plot(\n",
    "    SkyCoord(master_catalogue['ra'], master_catalogue['dec']),\n",
    "    SkyCoord(irac['irac_ra'], irac['irac_dec'])\n",
    ")"
   ]
  },
  {
   "cell_type": "code",
   "execution_count": 19,
   "metadata": {
    "collapsed": true
   },
   "outputs": [],
   "source": [
    "# Given the graph above, we use 1 arc-second radius\n",
    "master_catalogue = merge_catalogues(master_catalogue, irac, \"irac_ra\", \"irac_dec\", radius=1.5*u.arcsec)\n",
    "del irac"
   ]
  },
  {
   "cell_type": "markdown",
   "metadata": {},
   "source": [
    "### Cleaning\n",
    "\n",
    "When we merge the catalogues, astropy masks the non-existent values (e.g. when a row comes only from a catalogue and has no counterparts in the other, the columns from the latest are masked for that row). We indicate to use NaN for masked values for floats columns, False for flag columns and -1 for ID columns."
   ]
  },
  {
   "cell_type": "code",
   "execution_count": 20,
   "metadata": {
    "collapsed": true
   },
   "outputs": [],
   "source": [
    "for col in master_catalogue.colnames:\n",
    "    if (col.startswith(\"m_\") or col.startswith(\"merr_\") or col.startswith(\"f_\") or col.startswith(\"ferr_\")):\n",
    "        master_catalogue[col] = master_catalogue[col].astype(float)\n",
    "        master_catalogue[col].fill_value = np.nan\n",
    "    if \"stellarity\" in col:\n",
    "        master_catalogue[col].fill_value = np.nan\n",
    "    elif \"flag\" in col:\n",
    "        master_catalogue[col].fill_value = 0\n",
    "    elif \"id\" in col:\n",
    "        master_catalogue[col].fill_value = -1\n",
    "        \n",
    "master_catalogue = master_catalogue.filled()"
   ]
  },
  {
   "cell_type": "code",
   "execution_count": 21,
   "metadata": {},
   "outputs": [
    {
     "data": {
      "text/html": [
       "<i>Table length=10</i>\n",
       "<table id=\"table4826799128-542852\" class=\"table-striped table-bordered table-condensed\">\n",
       "<thead><tr><th>idx</th><th>hsc_id</th><th>ra</th><th>dec</th><th>hsc_flag_gaia</th><th>flag_merged</th><th>vics82_id</th><th>vhs_id</th><th>vista_intid</th><th>vista_stellarity</th><th>vista_flag_gaia</th><th>las_id</th><th>las_stellarity</th><th>las_flag_gaia</th><th>ps1_id</th><th>ps1_flag_gaia</th><th>sdss_id</th><th>sdss_stellarity</th><th>sdss_flag_gaia</th><th>decam_intid</th><th>des_id</th><th>decals_id</th><th>decam_stellarity</th><th>decam_flag_gaia</th><th>rcs_id</th><th>rcs_stellarity</th><th>rcs_flag_gaia</th><th>irac_intid</th><th>irac_stellarity</th><th>irac_flag_gaia</th><th>shela_intid</th><th>spies_intid</th></tr></thead>\n",
       "<thead><tr><th></th><th></th><th>deg</th><th>deg</th><th></th><th></th><th></th><th></th><th></th><th></th><th></th><th></th><th></th><th></th><th></th><th></th><th></th><th></th><th></th><th></th><th></th><th></th><th></th><th></th><th></th><th></th><th></th><th></th><th></th><th></th><th></th><th></th></tr></thead>\n",
       "<tr><td>0</td><td>42697064458515903</td><td>353.750052436</td><td>0.188432480658</td><td>3</td><td>False</td><td></td><td>-1</td><td>-1</td><td>nan</td><td>0</td><td>-1</td><td>nan</td><td>0</td><td>-1</td><td>0</td><td>-1</td><td>nan</td><td>0</td><td>-1</td><td>-1</td><td>-1</td><td>nan</td><td>0</td><td></td><td>nan</td><td>0</td><td>-1</td><td>nan</td><td>0</td><td>-1</td><td>-1</td></tr>\n",
       "<tr><td>1</td><td>42697064458508303</td><td>353.65256585</td><td>0.11614505011</td><td>0</td><td>False</td><td></td><td>-1</td><td>-1</td><td>nan</td><td>0</td><td>-1</td><td>nan</td><td>0</td><td>-1</td><td>0</td><td>-1</td><td>nan</td><td>0</td><td>-1</td><td>-1</td><td>-1</td><td>nan</td><td>0</td><td></td><td>nan</td><td>0</td><td>-1</td><td>nan</td><td>0</td><td>-1</td><td>-1</td></tr>\n",
       "<tr><td>2</td><td>42696922724569878</td><td>353.923288143</td><td>0.0796050602125</td><td>0</td><td>False</td><td></td><td>-1</td><td>-1</td><td>nan</td><td>0</td><td>-1</td><td>nan</td><td>0</td><td>-1</td><td>0</td><td>-1</td><td>nan</td><td>0</td><td>-1</td><td>-1</td><td>-1</td><td>nan</td><td>0</td><td></td><td>nan</td><td>0</td><td>-1</td><td>nan</td><td>0</td><td>-1</td><td>-1</td></tr>\n",
       "<tr><td>3</td><td>42697197602501563</td><td>353.517178604</td><td>0.0166990365285</td><td>0</td><td>False</td><td></td><td>-1</td><td>-1</td><td>nan</td><td>0</td><td>-1</td><td>nan</td><td>0</td><td>-1</td><td>0</td><td>-1</td><td>nan</td><td>0</td><td>-1</td><td>-1</td><td>-1</td><td>nan</td><td>0</td><td></td><td>nan</td><td>0</td><td>-1</td><td>nan</td><td>0</td><td>-1</td><td>-1</td></tr>\n",
       "<tr><td>4</td><td>42697068753489548</td><td>353.643185102</td><td>0.459447199211</td><td>0</td><td>False</td><td></td><td>-1</td><td>-1</td><td>nan</td><td>0</td><td>-1</td><td>nan</td><td>0</td><td>-1</td><td>0</td><td>-1</td><td>nan</td><td>0</td><td>-1</td><td>-1</td><td>-1</td><td>nan</td><td>0</td><td></td><td>nan</td><td>0</td><td>-1</td><td>nan</td><td>0</td><td>-1</td><td>-1</td></tr>\n",
       "<tr><td>5</td><td>42697201897474038</td><td>353.467280913</td><td>0.223988663735</td><td>1</td><td>False</td><td></td><td>-1</td><td>-1</td><td>nan</td><td>0</td><td>-1</td><td>nan</td><td>0</td><td>-1</td><td>0</td><td>-1</td><td>nan</td><td>0</td><td>-1</td><td>-1</td><td>-1</td><td>nan</td><td>0</td><td></td><td>nan</td><td>0</td><td>-1</td><td>nan</td><td>0</td><td>-1</td><td>-1</td></tr>\n",
       "<tr><td>6</td><td>41628364926116242</td><td>353.768172259</td><td>-0.168958232332</td><td>0</td><td>False</td><td></td><td>-1</td><td>-1</td><td>nan</td><td>0</td><td>-1</td><td>nan</td><td>0</td><td>-1</td><td>0</td><td>-1</td><td>nan</td><td>0</td><td>-1</td><td>-1</td><td>-1</td><td>nan</td><td>0</td><td></td><td>nan</td><td>0</td><td>-1</td><td>nan</td><td>0</td><td>-1</td><td>-1</td></tr>\n",
       "<tr><td>7</td><td>42697206192439190</td><td>353.588835503</td><td>0.373914162051</td><td>2</td><td>False</td><td></td><td>-1</td><td>-1</td><td>nan</td><td>0</td><td>-1</td><td>nan</td><td>0</td><td>-1</td><td>0</td><td>-1</td><td>nan</td><td>0</td><td>-1</td><td>-1</td><td>-1</td><td>nan</td><td>0</td><td></td><td>nan</td><td>0</td><td>-1</td><td>nan</td><td>0</td><td>-1</td><td>-1</td></tr>\n",
       "<tr><td>8</td><td>42697060163548288</td><td>353.676114547</td><td>0.0526360491363</td><td>0</td><td>False</td><td></td><td>-1</td><td>-1</td><td>nan</td><td>0</td><td>-1</td><td>nan</td><td>0</td><td>-1</td><td>0</td><td>-1</td><td>nan</td><td>0</td><td>-1</td><td>-1</td><td>-1</td><td>nan</td><td>0</td><td></td><td>nan</td><td>0</td><td>-1</td><td>nan</td><td>0</td><td>-1</td><td>-1</td></tr>\n",
       "<tr><td>9</td><td>42697210487404068</td><td>353.516284125</td><td>0.53220784816</td><td>3</td><td>True</td><td></td><td>-1</td><td>-1</td><td>nan</td><td>0</td><td>-1</td><td>nan</td><td>0</td><td>-1</td><td>0</td><td>-1</td><td>nan</td><td>0</td><td>-1</td><td>-1</td><td>-1</td><td>nan</td><td>0</td><td></td><td>nan</td><td>0</td><td>-1</td><td>nan</td><td>0</td><td>-1</td><td>-1</td></tr>\n",
       "</table><style>table.dataTable {clear: both; width: auto !important; margin: 0 !important;}\n",
       ".dataTables_info, .dataTables_length, .dataTables_filter, .dataTables_paginate{\n",
       "display: inline-block; margin-right: 1em; }\n",
       ".paginate_button { margin-right: 5px; }\n",
       "</style>\n",
       "<script>\n",
       "\n",
       "var astropy_sort_num = function(a, b) {\n",
       "    var a_num = parseFloat(a);\n",
       "    var b_num = parseFloat(b);\n",
       "\n",
       "    if (isNaN(a_num) && isNaN(b_num))\n",
       "        return ((a < b) ? -1 : ((a > b) ? 1 : 0));\n",
       "    else if (!isNaN(a_num) && !isNaN(b_num))\n",
       "        return ((a_num < b_num) ? -1 : ((a_num > b_num) ? 1 : 0));\n",
       "    else\n",
       "        return isNaN(a_num) ? -1 : 1;\n",
       "}\n",
       "\n",
       "require.config({paths: {\n",
       "    datatables: 'https://cdn.datatables.net/1.10.12/js/jquery.dataTables.min'\n",
       "}});\n",
       "require([\"datatables\"], function(){\n",
       "    console.log(\"$('#table4826799128-542852').dataTable()\");\n",
       "    \n",
       "jQuery.extend( jQuery.fn.dataTableExt.oSort, {\n",
       "    \"optionalnum-asc\": astropy_sort_num,\n",
       "    \"optionalnum-desc\": function (a,b) { return -astropy_sort_num(a, b); }\n",
       "});\n",
       "\n",
       "    $('#table4826799128-542852').dataTable({\n",
       "        order: [],\n",
       "        pageLength: 50,\n",
       "        lengthMenu: [[10, 25, 50, 100, 500, 1000, -1], [10, 25, 50, 100, 500, 1000, 'All']],\n",
       "        pagingType: \"full_numbers\",\n",
       "        columnDefs: [{targets: [0, 1, 2, 3, 4, 7, 8, 9, 10, 11, 12, 13, 14, 15, 16, 17, 18, 19, 20, 21, 22, 23, 25, 26, 28, 29, 30], type: \"optionalnum\"}]\n",
       "    });\n",
       "});\n",
       "</script>\n"
      ],
      "text/plain": [
       "<IPython.core.display.HTML object>"
      ]
     },
     "execution_count": 21,
     "metadata": {},
     "output_type": "execute_result"
    }
   ],
   "source": [
    "master_catalogue[:10].show_in_notebook()"
   ]
  },
  {
   "cell_type": "markdown",
   "metadata": {},
   "source": [
    "## III - Merging flags and stellarity\n",
    "\n",
    "Each pristine catalogue contains a flag indicating if the source was associated to a another nearby source that was removed during the cleaning process.  We merge these flags in a single one.\n",
    "\n",
    "This now happens in the final merging loop"
   ]
  },
  {
   "cell_type": "markdown",
   "metadata": {},
   "source": [
    "Each pristine catalogue contains a flag indicating the probability of a source being a Gaia object (0: not a Gaia object, 1: possibly, 2: probably, 3: definitely).  We merge these flags taking the highest value."
   ]
  },
  {
   "cell_type": "code",
   "execution_count": 22,
   "metadata": {
    "collapsed": true
   },
   "outputs": [],
   "source": [
    "flag_gaia_columns = [column for column in master_catalogue.colnames\n",
    "                     if 'flag_gaia' in column]\n",
    "\n",
    "master_catalogue.add_column(Column(\n",
    "    data=np.max([master_catalogue[column] for column in flag_gaia_columns], axis=0),\n",
    "    name=\"flag_gaia\"\n",
    "))\n",
    "master_catalogue.remove_columns(flag_gaia_columns)"
   ]
  },
  {
   "cell_type": "markdown",
   "metadata": {},
   "source": [
    "Each prisitine catalogue may contain one or several stellarity columns indicating the probability (0 to 1) of each source being a star.  We merge these columns taking the highest value."
   ]
  },
  {
   "cell_type": "code",
   "execution_count": 23,
   "metadata": {},
   "outputs": [
    {
     "name": "stdout",
     "output_type": "stream",
     "text": [
      "vista_stellarity, las_stellarity, sdss_stellarity, decam_stellarity, rcs_stellarity, irac_stellarity\n"
     ]
    }
   ],
   "source": [
    "stellarity_columns = [column for column in master_catalogue.colnames\n",
    "                      if 'stellarity' in column]\n",
    "\n",
    "print(\", \".join(stellarity_columns))"
   ]
  },
  {
   "cell_type": "code",
   "execution_count": 24,
   "metadata": {
    "collapsed": true
   },
   "outputs": [],
   "source": [
    "\n",
    "# We create an masked array with all the stellarities and get the maximum value, as well as its\n",
    "# origin.  Some sources may not have an associated stellarity.\n",
    "stellarity_array = np.array([master_catalogue[column] for column in stellarity_columns])\n",
    "stellarity_array = np.ma.masked_array(stellarity_array, np.isnan(stellarity_array))\n",
    "\n",
    "max_stellarity = np.max(stellarity_array, axis=0)\n",
    "max_stellarity.fill_value = np.nan\n",
    "\n",
    "no_stellarity_mask = max_stellarity.mask\n",
    "\n",
    "master_catalogue.add_column(Column(data=max_stellarity.filled(), name=\"stellarity\"))\n",
    "\n",
    "stellarity_origin = np.full(len(master_catalogue), \"NO_INFORMATION\", dtype=\"S20\")\n",
    "stellarity_origin[~no_stellarity_mask] = np.array(stellarity_columns)[np.argmax(stellarity_array, axis=0)[~no_stellarity_mask]]\n",
    "\n",
    "master_catalogue.add_column(Column(data=stellarity_origin, name=\"stellarity_origin\"))\n",
    "\n",
    "master_catalogue.remove_columns(stellarity_columns)"
   ]
  },
  {
   "cell_type": "markdown",
   "metadata": {},
   "source": [
    "## IV - Adding E(B-V) column"
   ]
  },
  {
   "cell_type": "code",
   "execution_count": 25,
   "metadata": {
    "collapsed": true
   },
   "outputs": [],
   "source": [
    "master_catalogue.add_column(\n",
    "    ebv(master_catalogue['ra'], master_catalogue['dec'])\n",
    ")"
   ]
  },
  {
   "cell_type": "markdown",
   "metadata": {},
   "source": [
    "## V - Adding HELP unique identifiers and field columns"
   ]
  },
  {
   "cell_type": "code",
   "execution_count": 26,
   "metadata": {
    "collapsed": true
   },
   "outputs": [],
   "source": [
    "master_catalogue.add_column(Column(gen_help_id(master_catalogue['ra'], master_catalogue['dec']),\n",
    "                                   name=\"help_id\"))\n",
    "master_catalogue.add_column(Column(np.full(len(master_catalogue), \"Herschel-Stripe-82\", dtype='<U18'),\n",
    "                                   name=\"field\"))"
   ]
  },
  {
   "cell_type": "code",
   "execution_count": 27,
   "metadata": {},
   "outputs": [
    {
     "name": "stdout",
     "output_type": "stream",
     "text": [
      "OK!\n"
     ]
    }
   ],
   "source": [
    "# Check that the HELP Ids are unique\n",
    "if len(master_catalogue) != len(np.unique(master_catalogue['help_id'])):\n",
    "    print(\"The HELP IDs are not unique!!!\")\n",
    "else:\n",
    "    print(\"OK!\")"
   ]
  },
  {
   "cell_type": "markdown",
   "metadata": {
    "collapsed": true
   },
   "source": [
    "## VI - Adding spec-z"
   ]
  },
  {
   "cell_type": "code",
   "execution_count": 28,
   "metadata": {
    "collapsed": true
   },
   "outputs": [],
   "source": [
    "specz =  Table.read(\"../../dmu23/dmu23_Herschel-Stripe-82/data/HELP-SPECZ_Herschel-Stripe-82_20170202.fits\")"
   ]
  },
  {
   "cell_type": "code",
   "execution_count": 29,
   "metadata": {},
   "outputs": [
    {
     "data": {
      "image/png": "[encoded data removed]",
      "text/plain": [
       "<matplotlib.figure.Figure at 0x1238022e8>"
      ]
     },
     "metadata": {},
     "output_type": "display_data"
    }
   ],
   "source": [
    "nb_merge_dist_plot(\n",
    "    SkyCoord(master_catalogue['ra'], master_catalogue['dec']),\n",
    "    SkyCoord(specz['ra'] , specz['dec'] )\n",
    ")"
   ]
  },
  {
   "cell_type": "code",
   "execution_count": 30,
   "metadata": {
    "collapsed": true
   },
   "outputs": [],
   "source": [
    "master_catalogue = specz_merge(master_catalogue, specz, radius=1. * u.arcsec)"
   ]
  },
  {
   "cell_type": "markdown",
   "metadata": {},
   "source": [
    "## VII.a Wavelength domain coverage\n",
    "\n",
    "We add a binary `flag_optnir_obs` indicating that a source was observed in a given wavelength domain:\n",
    "\n",
    "- 1 for observation in optical;\n",
    "- 2 for observation in near-infrared;\n",
    "- 4 for observation in mid-infrared (IRAC).\n",
    "\n",
    "It's an integer binary flag, so a source observed both in optical and near-infrared by not in mid-infrared would have this flag at 1 + 2 = 3.\n",
    "\n",
    "*Note 1: The observation flag is based on the creation of multi-order coverage maps from the catalogues, this may not be accurate, especially on the edges of the coverage.*\n",
    "\n",
    "*Note 2: Being on the observation coverage does not mean having fluxes in that wavelength domain. For sources observed in one domain but having no flux in it, one must take into consideration de different depths in the catalogue we are using.*"
   ]
  },
  {
   "cell_type": "code",
   "execution_count": 31,
   "metadata": {
    "collapsed": true
   },
   "outputs": [],
   "source": [
    "hsc_moc = MOC(filename=\"../../dmu0/dmu0_HSC/data/HSC-PDR1_deep_Herschel-Stripe-82_MOC.fits\")\n",
    "vhs_moc = MOC(filename=\"../../dmu0/dmu0_VISTA-VHS/data/VHS_Herschel-Stripe-82_MOC.fits\")\n",
    "vics82_moc = MOC(filename=\"../../dmu0/dmu0_VICS82/data/VICS82_FULL_SDSS_FEB2017_K22_HELP-coverage_intIDs_MOC.fits\")\n",
    "las_moc = MOC(filename=\"../../dmu0/dmu0_UKIDSS-LAS/data/UKIDSS-LAS_Herschel-Stripe-82_MOC.fits\")\n",
    "ps1_moc = MOC(filename=\"../../dmu0/dmu0_PanSTARRS1-3SS/data/PanSTARRS1-3SS_Herschel-Stripe-82_v2_MOC.fits\")\n",
    "shela_moc = MOC(filename=\"../../dmu0/dmu0_SHELA/data/shela_irac_v1.3_flux_cat_MOC.fits\")\n",
    "spies_moc = MOC(filename=\"../../dmu0/dmu0_SpIES/data/SpIES_ch1andch2_HELP-coverage_MOC.fits\")\n",
    "decals_moc = MOC(filename=\"../../dmu0/dmu0_DECaLS/data/DECaLS_Herschel-Stripe-82_MOC.fits\")\n",
    "des_moc = MOC(filename=\"../../dmu0/dmu0_DES/data/DES-DR1_Herschel-Stripe-82_MOC.fits\")\n",
    "decam_moc = decals_moc + des_moc\n",
    "rcs_moc = MOC(filename=\"../../dmu0/dmu0_RCSLenS/data/RCSLenS_Herschel-Stripe-82_MOC.fits\")\n",
    "sdss_moc = MOC(filename=\"../../dmu0/dmu0_SDSS-S82/data/dmu0_SDSS-S82_MOC.fits\")\n",
    "#sdss_moc = MOC(filename=\"../../dmu0/dmu0_IAC_Stripe82_Legacy_Project/data/dmu0_IAC_Stripe82_Legacy_Project_MOC.fits\")"
   ]
  },
  {
   "cell_type": "code",
   "execution_count": 32,
   "metadata": {
    "collapsed": true
   },
   "outputs": [],
   "source": [
    "was_observed_optical = inMoc(\n",
    "    master_catalogue['ra'], master_catalogue['dec'],\n",
    "    hsc_moc + ps1_moc + decam_moc + rcs_moc + sdss_moc) \n",
    "\n",
    "was_observed_nir = inMoc(\n",
    "    master_catalogue['ra'], master_catalogue['dec'],\n",
    "    las_moc + vics82_moc + vhs_moc\n",
    ")\n",
    "\n",
    "was_observed_mir = inMoc(\n",
    "    master_catalogue['ra'], master_catalogue['dec'],\n",
    "    shela_moc + spies_moc\n",
    ")"
   ]
  },
  {
   "cell_type": "code",
   "execution_count": 33,
   "metadata": {
    "collapsed": true
   },
   "outputs": [],
   "source": [
    "master_catalogue.add_column(\n",
    "    Column(\n",
    "        1 * was_observed_optical + 2 * was_observed_nir + 4 * was_observed_mir,\n",
    "        name=\"flag_optnir_obs\")\n",
    ")"
   ]
  },
  {
   "cell_type": "markdown",
   "metadata": {},
   "source": [
    "## VII.b Wavelength domain detection\n",
    "\n",
    "We add a binary `flag_optnir_det` indicating that a source was detected in a given wavelength domain:\n",
    "\n",
    "- 1 for detection in optical;\n",
    "- 2 for detection in near-infrared;\n",
    "- 4 for detection in mid-infrared (IRAC).\n",
    "\n",
    "It's an integer binary flag, so a source detected both in optical and near-infrared by not in mid-infrared would have this flag at 1 + 2 = 3.\n",
    "\n",
    "*Note 1: We use the total flux columns to know if the source has flux, in some catalogues, we may have aperture flux and no total flux.*\n",
    "\n",
    "To get rid of artefacts (chip edges, star flares, etc.) we consider that a source is detected in one wavelength domain when it has a flux value in **at least two bands**. That means that good sources will be excluded from this flag when they are on the coverage of only one band.\n",
    "\n",
    "This now takes place at the end of the notebook when teh photometry is folded in."
   ]
  },
  {
   "cell_type": "markdown",
   "metadata": {},
   "source": [
    "## VIII - Cross-identification table\n",
    "\n",
    "We are producing a table associating to each HELP identifier, the identifiers of the sources in the pristine catalogue. This can be used to easily get additional information from them."
   ]
  },
  {
   "cell_type": "code",
   "execution_count": 34,
   "metadata": {},
   "outputs": [
    {
     "name": "stdout",
     "output_type": "stream",
     "text": [
      "0 master list rows had multiple associations.\n"
     ]
    }
   ],
   "source": [
    "#\n",
    "# Addind SDSS ids\n",
    "#\n",
    "sdss_dr13 = Table.read(\"../../dmu0/dmu0_SDSS-DR13/data/SDSS-DR13_Herschel-Stripe-82.fits\")['objID', 'ra', 'dec']\n",
    "sdss_dr13_coords = SkyCoord(sdss_dr13['ra'] * u.deg, sdss_dr13['dec'] * u.deg)\n",
    "idx_ml, d2d, _ = sdss_dr13_coords.match_to_catalog_sky(SkyCoord(master_catalogue['ra'], master_catalogue['dec']))\n",
    "idx_sdss_dr13 = np.arange(len(sdss_dr13))\n",
    "\n",
    "# Limit the cross-match to 1 arcsec\n",
    "mask = d2d <= 1. * u.arcsec\n",
    "idx_ml = idx_ml[mask]\n",
    "idx_sdss_dr13 = idx_sdss_dr13[mask]\n",
    "d2d = d2d[mask]\n",
    "nb_orig_matches = len(idx_ml)\n",
    "\n",
    "# In case of multiple associations of one master list object to an SDSS object, we keep only the\n",
    "# association to the nearest one.\n",
    "sort_idx = np.argsort(d2d)\n",
    "idx_ml = idx_ml[sort_idx]\n",
    "idx_sdss_dr13 = idx_sdss_dr13[sort_idx]\n",
    "_, unique_idx = np.unique(idx_ml, return_index=True)\n",
    "idx_ml = idx_ml[unique_idx]\n",
    "idx_sdss_dr13 = idx_sdss_dr13[unique_idx]\n",
    "print(\"{} master list rows had multiple associations.\".format(nb_orig_matches - len(idx_ml)))\n",
    "\n",
    "# Adding the ObjID to the master list\n",
    "master_catalogue.add_column(Column(data=np.full(len(master_catalogue), -1, dtype='>i8'), name=\"sdss_dr13_id\"))\n",
    "master_catalogue['sdss_dr13_id'][idx_ml] = sdss_dr13['objID'][idx_sdss_dr13]"
   ]
  },
  {
   "cell_type": "code",
   "execution_count": 35,
   "metadata": {},
   "outputs": [
    {
     "name": "stdout",
     "output_type": "stream",
     "text": [
      "['hsc_id', 'vics82_id', 'vhs_id', 'vista_intid', 'las_id', 'ps1_id', 'sdss_id', 'decam_intid', 'des_id', 'decals_id', 'rcs_id', 'irac_intid', 'shela_intid', 'spies_intid', 'help_id', 'specz_id', 'sdss_dr13_id']\n"
     ]
    }
   ],
   "source": [
    "\n",
    "id_names = []\n",
    "for col in master_catalogue.colnames:\n",
    "    if '_id' in col:\n",
    "        id_names += [col]\n",
    "    if '_intid' in col:\n",
    "        id_names += [col]\n",
    "        \n",
    "print(id_names)"
   ]
  },
  {
   "cell_type": "code",
   "execution_count": 36,
   "metadata": {
    "collapsed": true
   },
   "outputs": [],
   "source": [
    "master_catalogue[id_names].write(\n",
    "    \"{}/master_list_cross_ident_herschel-stripe-82{}.fits\".format(OUT_DIR, SUFFIX), overwrite=True)\n",
    "id_names.remove('help_id')\n",
    "old_id_names =[\"shela_intid\",\"spies_intid\",\"decals_id\",\"des_id\",\"vhs_id\", \"vics82_id\"] \n",
    "#id_names.remove(old_id_names)\n",
    "master_catalogue.remove_columns(old_id_names)"
   ]
  },
  {
   "cell_type": "markdown",
   "metadata": {},
   "source": [
    "## IX - Adding HEALPix index\n",
    "\n",
    "We are adding a column with a HEALPix index at order 13 associated with each source."
   ]
  },
  {
   "cell_type": "code",
   "execution_count": 37,
   "metadata": {
    "collapsed": true
   },
   "outputs": [],
   "source": [
    "master_catalogue.add_column(Column(\n",
    "    data=coords_to_hpidx(master_catalogue['ra'], master_catalogue['dec'], order=13),\n",
    "    name=\"hp_idx\"\n",
    "))"
   ]
  },
  {
   "cell_type": "markdown",
   "metadata": {},
   "source": [
    "## X - Saving the catalogue"
   ]
  },
  {
   "cell_type": "code",
   "execution_count": 38,
   "metadata": {
    "collapsed": true
   },
   "outputs": [],
   "source": [
    "columns = [\"help_id\", \"field\", \"ra\", \"dec\", \"hp_idx\"]\n",
    "\n",
    "bands = [column[5:] for column in master_catalogue.colnames if 'f_ap' in column]\n",
    "for band in bands:\n",
    "    columns += [\"f_ap_{}\".format(band), \"ferr_ap_{}\".format(band),\n",
    "                \"m_ap_{}\".format(band), \"merr_ap_{}\".format(band),\n",
    "                \"f_{}\".format(band), \"ferr_{}\".format(band),\n",
    "                \"m_{}\".format(band), \"merr_{}\".format(band),\n",
    "                \"flag_{}\".format(band)]    \n",
    "    \n",
    "columns += [\"stellarity\", \"flag_cleaned\", \"flag_merged\", \"flag_gaia\",  \"flag_optnir_obs\",  \"ebv\"] #\"flag_gaia\",\"flag_optnir_det\","
   ]
  },
  {
   "cell_type": "code",
   "execution_count": 39,
   "metadata": {},
   "outputs": [
    {
     "name": "stdout",
     "output_type": "stream",
     "text": [
      "Missing columns: {'zspec_association_flag', 'ps1_id', 'specz_id', 'las_id', 'irac_intid', 'zspec_qual', 'vista_intid', 'sdss_dr13_id', 'hsc_id', 'sdss_id', 'decam_intid', 'rcs_id', 'stellarity_origin', 'zspec'}\n"
     ]
    }
   ],
   "source": [
    "# We check for columns in the master catalogue that we will not save to disk.\n",
    "print(\"Missing columns: {}\".format(set(master_catalogue.colnames) - set(columns)))"
   ]
  },
  {
   "cell_type": "code",
   "execution_count": 40,
   "metadata": {
    "collapsed": true
   },
   "outputs": [],
   "source": [
    "#master_catalogue[columns].write(\"{}/master_catalogue_herschel-stripe-82_low_memory{}.fits\".format(OUT_DIR, SUFFIX), overwrite=True)"
   ]
  },
  {
   "cell_type": "markdown",
   "metadata": {},
   "source": [
    "## XI - folding in the photometry\n",
    "On HS82 there is too much data to load all in to memory at once so we perform the cross matching without photometry columns. Only now do we fold in the photometry data by first cutting the catalogue up in to manageable sizes."
   ]
  },
  {
   "cell_type": "code",
   "execution_count": 41,
   "metadata": {},
   "outputs": [
    {
     "name": "stdout",
     "output_type": "stream",
     "text": [
      "12\n"
     ]
    }
   ],
   "source": [
    "split_length = 100000 #number of sources to include in every sub catalogue\n",
    "num_files = int(np.ceil(len(master_catalogue)/split_length))\n",
    "print(num_files)"
   ]
  },
  {
   "cell_type": "code",
   "execution_count": 42,
   "metadata": {
    "collapsed": true
   },
   "outputs": [],
   "source": [
    "surveys = [\n",
    "    ['hsc',    \"HSC-SSP.fits\" ,     Table.read(\"{}/HSC-SSP.fits\".format(TMP_DIR)   ), \"hsc_id\"],   \n",
    "    \n",
    "   # ['vhs',    \"VISTA-VHS.fits\" ,   Table.read(\"{}/VISTA-VHS.fits\".format(TMP_DIR) ), \"vhs_id\"],     \n",
    "   # ['vics82', \"VICS82.fits\" ,      Table.read(\"{}/VICS82.fits\".format(TMP_DIR)    ), \"vics82_id\"],  \n",
    "    ['vista', \n",
    "     \"vista_merged_catalogue_herschel-stripe-82.fits\" ,      \n",
    "     Table.read(\"{}/vista_merged_catalogue_herschel-stripe-82.fits\".format(TMP_DIR)    ), \"vista_intid\"],\n",
    "    \n",
    "    ['las',    \"UKIDSS-LAS.fits\" ,  Table.read(\"{}/UKIDSS-LAS.fits\".format(TMP_DIR)), \"las_id\"], \n",
    "    \n",
    "    ['ps1',    \"PS1.fits\" ,         Table.read(\"{}/PS1.fits\".format(TMP_DIR)       ), \"ps1_id\"],    \n",
    "    \n",
    "    #['shela',  \"SHELA.fits\" ,       Table.read(\"{}/SHELA.fits\".format(TMP_DIR)     ), \"shela_intid\"], \n",
    "    #['spies',  \"SpIES.fits\" ,       Table.read(\"{}/SpIES.fits\".format(TMP_DIR)     ), \"spies_intid\"], \n",
    "    ['irac',   \n",
    "     \"irac_merged_catalogue_herschel-stripe-82.fits\" ,       \n",
    "     Table.read(\"{}/irac_merged_catalogue_herschel-stripe-82.fits\".format(TMP_DIR)      ), \n",
    "     \"irac_intid\"], \n",
    "    \n",
    "    #['decals', \"DECaLS.fits\" ,      Table.read(\"{}/DECaLS.fits\".format(TMP_DIR)    ), \"decals_id\"],  \n",
    "    ['decam', \n",
    "     \"decam_merged_catalogue_herschel-stripe-82.fits\" ,     \n",
    "     Table.read(\"{}/decam_merged_catalogue_herschel-stripe-82.fits\".format(TMP_DIR)    ), \n",
    "     \"decam_intid\"],  \n",
    "    \n",
    "    ['rcs',    \"RCSLenS.fits\" ,     Table.read(\"{}/RCSLenS.fits\".format(TMP_DIR)   ), \"rcs_id\"],    \n",
    "    \n",
    "    ['sdss',   \"SDSS-S82.fits\" ,    Table.read(\"{}/SDSS-S82.fits\".format(TMP_DIR)  ), \"sdss_id\"],  \n",
    "    #['sdss',   \"SDSS-S82_IAC.fits\" ,    Table.read(\"{}/SDSS-S82_IAC.fits\".format(TMP_DIR)  ), \"sdss_id\"],\n",
    "]"
   ]
  },
  {
   "cell_type": "code",
   "execution_count": 43,
   "metadata": {
    "collapsed": true
   },
   "outputs": [],
   "source": [
    "#Sort catalogue by HELP id so that it is split up in RA strips\n",
    "master_catalogue.sort('help_id')"
   ]
  },
  {
   "cell_type": "code",
   "execution_count": 44,
   "metadata": {
    "collapsed": true
   },
   "outputs": [],
   "source": [
    "n=0\n",
    "for sub_file in range(num_files):\n",
    "    # the following used to have a -1 which was wrong as it left out objects\n",
    "    sub_catalogue = master_catalogue[n*split_length:(n+1)*split_length].copy()\n",
    "    #print(n)\n",
    "    for survey in surveys:\n",
    "        #print(survey[0])\n",
    "        sub_catalogue = join(sub_catalogue, \n",
    "                               survey[2], #Table.read(\"{}/{}\".format(TMP_DIR, survey[1])),\n",
    "                               join_type='left',\n",
    "                               metadata_conflicts='silent',\n",
    "                               keys=survey[3]\n",
    "                            )\n",
    "    #print('Finished join')\n",
    "    \n",
    "    # Combine merge flags\n",
    "    \n",
    "    sub_catalogue['flag_merged'].name = 'flag_merged_tmp'\n",
    "    flag_merged_columns = [column for column in sub_catalogue.colnames\n",
    "                            if 'flag_merged' in column]\n",
    "    \n",
    "    flag_merged_column = np.zeros(len(sub_catalogue), dtype=bool)\n",
    "    for column in flag_merged_columns:\n",
    "        flag_merged_column |= sub_catalogue[column]\n",
    "    \n",
    "    sub_catalogue.add_column(Column(data=flag_merged_column, name=\"flag_merged\"))\n",
    "    sub_catalogue.remove_columns(flag_merged_columns)\n",
    "    \n",
    "    #flag cleaned\n",
    "    flag_cleaned_columns = [column for column in sub_catalogue.colnames\n",
    "                        if 'flag_cleaned' in column]\n",
    "\n",
    "    flag_column = np.zeros(len(sub_catalogue), dtype=bool)\n",
    "    for column in flag_cleaned_columns:\n",
    "        flag_column |= sub_catalogue[column]\n",
    "    \n",
    "    sub_catalogue.add_column(Column(data=flag_column, name=\"flag_cleaned\"))\n",
    "    sub_catalogue.remove_columns(flag_cleaned_columns)\n",
    "\n",
    "    #Remove stellarity and gaia flag columns which have been added back in\n",
    "    sub_catalogue.remove_columns(flag_gaia_columns)\n",
    "    sub_catalogue.remove_columns(stellarity_columns)\n",
    "    #sub_catalogue.remove_columns(flag_cleaned_columns)\n",
    "    \n",
    "    #Add flag fill values\n",
    "    \n",
    "    for col in sub_catalogue.colnames:\n",
    "        if (col.startswith(\"m_\") or col.startswith(\"merr_\") or col.startswith(\"f_\") or col.startswith(\"ferr_\")):\n",
    "            sub_catalogue[col] = sub_catalogue[col].astype(float)\n",
    "            sub_catalogue[col].fill_value = np.nan\n",
    "        if \"stellarity\" in col:\n",
    "            sub_catalogue[col].fill_value = np.nan\n",
    "        elif \"flag\" in col:\n",
    "            sub_catalogue[col].fill_value = 0\n",
    "        elif col.endswith(\"id\"):\n",
    "            sub_catalogue[col].fill_value = -1\n",
    "        #Remove residual ra decs from join\n",
    "        if col.endswith('_ra'):\n",
    "            sub_catalogue.remove_column(col)\n",
    "        if col.endswith('_dec'):\n",
    "            sub_catalogue.remove_column(col)\n",
    "        \n",
    "    sub_catalogue = sub_catalogue.filled()\n",
    "    \n",
    "    #Adding detection flag\n",
    "    \n",
    "    nb_optical_flux = (\n",
    "        1 * ~np.isnan(sub_catalogue['f_sdss_u']) +\n",
    "        1 * ~np.isnan(sub_catalogue['f_sdss_g']) +\n",
    "        1 * ~np.isnan(sub_catalogue['f_sdss_r']) +\n",
    "        1 * ~np.isnan(sub_catalogue['f_sdss_i']) +\n",
    "        1 * ~np.isnan(sub_catalogue['f_sdss_z']) +\n",
    "        1 * ~np.isnan(sub_catalogue['f_suprime_g']) +\n",
    "        1 * ~np.isnan(sub_catalogue['f_suprime_r']) +\n",
    "        1 * ~np.isnan(sub_catalogue['f_suprime_i']) +\n",
    "        1 * ~np.isnan(sub_catalogue['f_suprime_z']) +\n",
    "        1 * ~np.isnan(sub_catalogue['f_suprime_y']) +\n",
    "        1 * ~np.isnan(sub_catalogue['f_suprime_n921']) +\n",
    "        1 * ~np.isnan(sub_catalogue['f_suprime_n816']) +\n",
    "        1 * ~np.isnan(sub_catalogue['f_gpc1_g']) +\n",
    "        1 * ~np.isnan(sub_catalogue['f_gpc1_r']) +\n",
    "        1 * ~np.isnan(sub_catalogue['f_gpc1_i']) +\n",
    "        1 * ~np.isnan(sub_catalogue['f_gpc1_z']) +\n",
    "        1 * ~np.isnan(sub_catalogue['f_gpc1_y']) +\n",
    "        1 * ~np.isnan(sub_catalogue['f_decam_g']) +\n",
    "        1 * ~np.isnan(sub_catalogue['f_decam_r']) +\n",
    "        1 * ~np.isnan(sub_catalogue['f_decam_i']) +\n",
    "        1 * ~np.isnan(sub_catalogue['f_decam_z']) +\n",
    "        1 * ~np.isnan(sub_catalogue['f_decam_y']) \n",
    "    )\n",
    "\n",
    "    nb_nir_flux = (\n",
    "        #1 * ~np.isnan(sub_catalogue['f_ukidss_y']) +\n",
    "        1 * ~np.isnan(sub_catalogue['f_ukidss_j']) +\n",
    "        1 * ~np.isnan(sub_catalogue['f_ukidss_h']) +\n",
    "        1 * ~np.isnan(sub_catalogue['f_ukidss_k']) +\n",
    "        \n",
    "        1 * ~np.isnan(sub_catalogue['f_vista_j']) +\n",
    "        1 * ~np.isnan(sub_catalogue['f_vista_h']) +\n",
    "        1 * ~np.isnan(sub_catalogue['f_vista_ks']) \n",
    "    )\n",
    "\n",
    "    nb_mir_flux = (\n",
    "        1 * ~np.isnan(sub_catalogue['f_irac_i1']) +\n",
    "        1 * ~np.isnan(sub_catalogue['f_irac_i2']) \n",
    "    )\n",
    "\n",
    "\n",
    "    has_optical_flux = nb_optical_flux >= 2\n",
    "    has_nir_flux = nb_nir_flux >= 2\n",
    "    has_mir_flux = nb_mir_flux >= 2\n",
    "\n",
    "    sub_catalogue.add_column(\n",
    "    Column(\n",
    "        1 * has_optical_flux + 2 * has_nir_flux + 4 * has_mir_flux,\n",
    "        name=\"flag_optnir_det\")\n",
    "        )\n",
    "    \n",
    "    \n",
    "    # Remove id names and write file\n",
    "    sub_catalogue.remove_columns(id_names)\n",
    "                          \n",
    "    sub_catalogue.write(\"{}/tiles/sub_catalogue_herschel-stripe-82{}_{}.fits\".format(OUT_DIR, SUFFIX, n), overwrite=True)\n",
    "    del sub_catalogue\n",
    "    n += 1"
   ]
  },
  {
   "cell_type": "markdown",
   "metadata": {},
   "source": [
    "## How to generate final catalogue\n",
    "After this notebook has been run there will be a set of sub catalogues in data/tiles/\n",
    "\n",
    "These need to be stacked using stilts:\n",
    "\n",
    "<pre>\n",
    "suffix=20180111\n",
    "\n",
    "ls ./data/tiles/sub_catalogue_herschel-stripe-82_$suffix_*.fits > ./data/tiles/fits_list_$suffix.lis\n",
    "\n",
    "stilts tcat in=@./data/tiles/fits_list_$suffix.lis out=./data/master_catalogue_herschel-stripe-82_$suffix.fits\n",
    "</pre>\n",
    "\n",
    "For many purposes this file may be too large. In order to run checks and diagnostics we typically take a subset using something like:\n",
    "\n",
    "<pre>\n",
    "stilts tpipe cmd='every 10' ./data/master_catalogue_herschel-stripe-82_$suffix.fits omode=out out=./data/master_catalogue_herschel-stripe-82_RANDOM10PCSAMPLE_$suffix.fits\n",
    "</pre>"
   ]
  }
 ],
 "metadata": {
  "kernelspec": {
   "display_name": "Python (herschelhelp_internal)",
   "language": "python",
   "name": "helpint"
  },
  "language_info": {
   "codemirror_mode": {
    "name": "ipython",
    "version": 3
   },
   "file_extension": ".py",
   "mimetype": "text/x-python",
   "name": "python",
   "nbconvert_exporter": "python",
   "pygments_lexer": "ipython3",
   "version": "3.6.1"
  }
 },
 "nbformat": 4,
 "nbformat_minor": 2
}
