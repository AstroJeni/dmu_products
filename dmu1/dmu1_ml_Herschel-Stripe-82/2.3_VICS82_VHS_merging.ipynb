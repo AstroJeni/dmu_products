{
 "cells": [
  {
   "cell_type": "markdown",
   "metadata": {},
   "source": [
    "# Herschel Stripe 82 VICS82 - VHS merging\n",
    "\n",
    "VICS 82 and VHS contain VISTA J and Ks fluxes which need to be merged"
   ]
  },
  {
   "cell_type": "code",
   "execution_count": 1,
   "metadata": {},
   "outputs": [
    {
     "name": "stdout",
     "output_type": "stream",
     "text": [
      "This notebook was run with herschelhelp_internal version: \n",
      "0246c5d (Thu Jan 25 17:01:47 2018 +0000) [with local modifications]\n",
      "This notebook was executed on: \n",
      "2018-02-20 18:50:49.783850\n"
     ]
    }
   ],
   "source": [
    "from herschelhelp_internal import git_version\n",
    "print(\"This notebook was run with herschelhelp_internal version: \\n{}\".format(git_version()))\n",
    "import datetime\n",
    "print(\"This notebook was executed on: \\n{}\".format(datetime.datetime.now()))"
   ]
  },
  {
   "cell_type": "code",
   "execution_count": 26,
   "metadata": {
    "collapsed": true
   },
   "outputs": [],
   "source": [
    "%matplotlib inline\n",
    "#%config InlineBackend.figure_format = 'svg'\n",
    "\n",
    "import matplotlib.pyplot as plt\n",
    "plt.rc('figure', figsize=(10, 6))\n",
    "\n",
    "import os\n",
    "import time\n",
    "from collections import OrderedDict\n",
    "\n",
    "from astropy import units as u\n",
    "from astropy.coordinates import SkyCoord\n",
    "from astropy.table import Column, Table\n",
    "import numpy as np\n",
    "from pymoc import MOC\n",
    "\n",
    "from herschelhelp_internal.masterlist import merge_catalogues, nb_merge_dist_plot\n",
    "from herschelhelp_internal.utils import coords_to_hpidx, ebv, gen_help_id, inMoc"
   ]
  },
  {
   "cell_type": "code",
   "execution_count": 3,
   "metadata": {
    "collapsed": true
   },
   "outputs": [],
   "source": [
    "TMP_DIR = os.environ.get('TMP_DIR', \"./data_tmp\")\n",
    "OUT_DIR = os.environ.get('OUT_DIR', \"./data\")\n",
    "SUFFIX = os.environ.get('SUFFIX', time.strftime(\"_%Y%m%d\"))\n",
    "\n",
    "try:\n",
    "    os.makedirs(OUT_DIR)\n",
    "except FileExistsError:\n",
    "    pass"
   ]
  },
  {
   "cell_type": "markdown",
   "metadata": {},
   "source": [
    "## I - Reading the prepared pristine catalogues"
   ]
  },
  {
   "cell_type": "code",
   "execution_count": 4,
   "metadata": {
    "collapsed": true
   },
   "outputs": [],
   "source": [
    "vics82 = Table.read(\"{}/VICS82.fits\".format(TMP_DIR))\n",
    "vhs = Table.read(\"{}/VISTA-VHS.fits\".format(TMP_DIR))"
   ]
  },
  {
   "cell_type": "markdown",
   "metadata": {},
   "source": [
    "## II - Merging tables\n",
    "\n",
    "We first merge the optical catalogues and then add the infrared ones:  VHS, VICS82, \n",
    "\n",
    "At every step, we look at the distribution of the distances to the nearest source in the merged catalogue to determine the best crossmatching radius."
   ]
  },
  {
   "cell_type": "markdown",
   "metadata": {},
   "source": [
    "### VHS"
   ]
  },
  {
   "cell_type": "code",
   "execution_count": 5,
   "metadata": {
    "collapsed": true
   },
   "outputs": [],
   "source": [
    "master_catalogue = vhs\n",
    "master_catalogue['vhs_ra'].name = 'ra'\n",
    "master_catalogue['vhs_dec'].name = 'dec'\n"
   ]
  },
  {
   "cell_type": "markdown",
   "metadata": {},
   "source": [
    "## Add VICS82"
   ]
  },
  {
   "cell_type": "code",
   "execution_count": 6,
   "metadata": {
    "scrolled": true
   },
   "outputs": [
    {
     "name": "stdout",
     "output_type": "stream",
     "text": [
      "HELP Warning: There weren't any cross matches. The two surveys probably don't overlap.\n"
     ]
    }
   ],
   "source": [
    "nb_merge_dist_plot(\n",
    "    SkyCoord(master_catalogue['ra'], master_catalogue['dec']),\n",
    "    SkyCoord(vics82['vics82_ra'], vics82['vics82_dec'])\n",
    ")"
   ]
  },
  {
   "cell_type": "code",
   "execution_count": 7,
   "metadata": {
    "collapsed": true
   },
   "outputs": [],
   "source": [
    "# Given the graph above, we use 0.8 arc-second radius\n",
    "master_catalogue = merge_catalogues(master_catalogue, vics82, \"vics82_ra\", \"vics82_dec\", radius=0.8*u.arcsec)\n"
   ]
  },
  {
   "cell_type": "markdown",
   "metadata": {},
   "source": [
    "### Cleaning\n",
    "\n",
    "When we merge the catalogues, astropy masks the non-existent values (e.g. when a row comes only from a catalogue and has no counterparts in the other, the columns from the latest are masked for that row). We indicate to use NaN for masked values for floats columns, False for flag columns and -1 for ID columns."
   ]
  },
  {
   "cell_type": "code",
   "execution_count": 8,
   "metadata": {
    "collapsed": true
   },
   "outputs": [],
   "source": [
    "for col in master_catalogue.colnames:\n",
    "    if \"m_\" in col or \"merr_\" in col or \"f_\" in col or \"ferr_\" in col or \"stellarity\" in col:\n",
    "        master_catalogue[col].fill_value = np.nan\n",
    "    elif \"flag\" in col:\n",
    "        master_catalogue[col].fill_value = 0\n",
    "    elif \"id\" in col:\n",
    "        master_catalogue[col].fill_value = -1\n",
    "        \n",
    "master_catalogue = master_catalogue.filled()"
   ]
  },
  {
   "cell_type": "code",
   "execution_count": 9,
   "metadata": {},
   "outputs": [
    {
     "data": {
      "text/html": [
       "<i>Table length=10</i>\n",
       "<table id=\"table4529610312-135997\" class=\"table-striped table-bordered table-condensed\">\n",
       "<thead><tr><th>idx</th><th>vhs_id</th><th>ra</th><th>dec</th><th>vhs_stellarity</th><th>m_vhs_y</th><th>merr_vhs_y</th><th>m_ap_vhs_y</th><th>merr_ap_vhs_y</th><th>m_vhs_j</th><th>merr_vhs_j</th><th>m_ap_vhs_j</th><th>merr_ap_vhs_j</th><th>m_vhs_h</th><th>merr_vhs_h</th><th>m_ap_vhs_h</th><th>merr_ap_vhs_h</th><th>m_vhs_k</th><th>merr_vhs_k</th><th>m_ap_vhs_k</th><th>merr_ap_vhs_k</th><th>f_vhs_y</th><th>ferr_vhs_y</th><th>flag_vhs_y</th><th>f_ap_vhs_y</th><th>ferr_ap_vhs_y</th><th>f_vhs_j</th><th>ferr_vhs_j</th><th>flag_vhs_j</th><th>f_ap_vhs_j</th><th>ferr_ap_vhs_j</th><th>f_vhs_h</th><th>ferr_vhs_h</th><th>flag_vhs_h</th><th>f_ap_vhs_h</th><th>ferr_ap_vhs_h</th><th>f_vhs_k</th><th>ferr_vhs_k</th><th>flag_vhs_k</th><th>f_ap_vhs_k</th><th>ferr_ap_vhs_k</th><th>vhs_flag_cleaned</th><th>vhs_flag_gaia</th><th>flag_merged</th><th>vics82_id</th><th>vics82_stellarity</th><th>vics82_flag_cleaned</th><th>f_wircam_j</th><th>f_vista_j</th><th>ferr_wircam_j</th><th>ferr_vista_j</th><th>m_wircam_j</th><th>m_vista_j</th><th>merr_wircam_j</th><th>merr_vista_j</th><th>flag_wircam_j</th><th>flag_vista_j</th><th>f_ap_wircam_j</th><th>f_ap_vista_j</th><th>ferr_ap_wircam_j</th><th>ferr_ap_vista_j</th><th>m_ap_wircam_j</th><th>m_ap_vista_j</th><th>merr_ap_wircam_j</th><th>merr_ap_vista_j</th><th>f_wircam_ks</th><th>f_vista_ks</th><th>ferr_wircam_ks</th><th>ferr_vista_ks</th><th>m_wircam_ks</th><th>m_vista_ks</th><th>merr_wircam_ks</th><th>merr_vista_ks</th><th>flag_wircam_ks</th><th>flag_vista_ks</th><th>f_ap_wircam_ks</th><th>f_ap_vista_ks</th><th>ferr_ap_wircam_ks</th><th>ferr_ap_vista_ks</th><th>m_ap_wircam_ks</th><th>m_ap_vista_ks</th><th>merr_ap_wircam_ks</th><th>merr_ap_vista_ks</th><th>vics82_flag_gaia</th></tr></thead>\n",
       "<thead><tr><th></th><th></th><th>deg</th><th>deg</th><th></th><th></th><th></th><th></th><th></th><th></th><th></th><th></th><th></th><th></th><th></th><th></th><th></th><th></th><th></th><th></th><th></th><th></th><th></th><th></th><th></th><th></th><th></th><th></th><th></th><th></th><th></th><th></th><th></th><th></th><th></th><th></th><th></th><th></th><th></th><th></th><th></th><th></th><th></th><th></th><th></th><th></th><th></th><th></th><th></th><th></th><th></th><th></th><th></th><th></th><th></th><th></th><th></th><th></th><th></th><th></th><th></th><th></th><th></th><th></th><th></th><th></th><th></th><th></th><th></th><th></th><th></th><th></th><th></th><th></th><th></th><th></th><th></th><th></th><th></th><th></th><th></th><th></th><th></th><th></th></tr></thead>\n",
       "<tr><td>0</td><td>472448751411</td><td>0.781408839858</td><td>0.0890078729011</td><td>0.999657</td><td>nan</td><td>nan</td><td>nan</td><td>nan</td><td>10.6256</td><td>0.000379132</td><td>11.0127</td><td>0.000459667</td><td>10.2142</td><td>0.000453802</td><td>10.5483</td><td>0.000520294</td><td>10.0804</td><td>0.000651023</td><td>10.2967</td><td>0.000605307</td><td>nan</td><td>nan</td><td>False</td><td>nan</td><td>nan</td><td>204058.0</td><td>71.2559</td><td>False</td><td>142869.0</td><td>60.4863</td><td>298085.0</td><td>124.59</td><td>False</td><td>219116.0</td><td>105.002</td><td>337159.0</td><td>202.166</td><td>False</td><td>276273.0</td><td>154.024</td><td>False</td><td>3</td><td>False</td><td>-1</td><td>nan</td><td>False</td><td>nan</td><td>nan</td><td>nan</td><td>nan</td><td>nan</td><td>nan</td><td>nan</td><td>nan</td><td>False</td><td>False</td><td>nan</td><td>nan</td><td>nan</td><td>nan</td><td>nan</td><td>nan</td><td>nan</td><td>nan</td><td>nan</td><td>nan</td><td>nan</td><td>nan</td><td>nan</td><td>nan</td><td>nan</td><td>nan</td><td>False</td><td>False</td><td>nan</td><td>nan</td><td>nan</td><td>nan</td><td>nan</td><td>nan</td><td>nan</td><td>nan</td><td>0</td></tr>\n",
       "<tr><td>1</td><td>472448749614</td><td>0.143494283104</td><td>0.174711331143</td><td>0.999657</td><td>nan</td><td>nan</td><td>nan</td><td>nan</td><td>10.6885</td><td>0.000386127</td><td>11.014</td><td>0.000463202</td><td>10.1433</td><td>0.00046483</td><td>10.4889</td><td>0.000548676</td><td>10.1333</td><td>0.000672656</td><td>10.3985</td><td>0.000638829</td><td>nan</td><td>nan</td><td>False</td><td>nan</td><td>nan</td><td>192582.0</td><td>68.4889</td><td>False</td><td>142689.0</td><td>60.8748</td><td>318178.0</td><td>136.219</td><td>False</td><td>231430.0</td><td>116.953</td><td>321125.0</td><td>198.949</td><td>False</td><td>251531.0</td><td>147.997</td><td>False</td><td>3</td><td>False</td><td>-1</td><td>nan</td><td>False</td><td>nan</td><td>nan</td><td>nan</td><td>nan</td><td>nan</td><td>nan</td><td>nan</td><td>nan</td><td>False</td><td>False</td><td>nan</td><td>nan</td><td>nan</td><td>nan</td><td>nan</td><td>nan</td><td>nan</td><td>nan</td><td>nan</td><td>nan</td><td>nan</td><td>nan</td><td>nan</td><td>nan</td><td>nan</td><td>nan</td><td>False</td><td>False</td><td>nan</td><td>nan</td><td>nan</td><td>nan</td><td>nan</td><td>nan</td><td>nan</td><td>nan</td><td>0</td></tr>\n",
       "<tr><td>2</td><td>472471300934</td><td>0.0496896315432</td><td>-0.360734598751</td><td>0.9</td><td>nan</td><td>nan</td><td>nan</td><td>nan</td><td>nan</td><td>nan</td><td>nan</td><td>nan</td><td>9.50416</td><td>0.000348363</td><td>10.9399</td><td>0.00055988</td><td>nan</td><td>nan</td><td>nan</td><td>nan</td><td>nan</td><td>nan</td><td>False</td><td>nan</td><td>nan</td><td>nan</td><td>nan</td><td>False</td><td>nan</td><td>nan</td><td>573237.0</td><td>183.925</td><td>False</td><td>152766.0</td><td>78.7765</td><td>nan</td><td>nan</td><td>False</td><td>nan</td><td>nan</td><td>False</td><td>0</td><td>False</td><td>-1</td><td>nan</td><td>False</td><td>nan</td><td>nan</td><td>nan</td><td>nan</td><td>nan</td><td>nan</td><td>nan</td><td>nan</td><td>False</td><td>False</td><td>nan</td><td>nan</td><td>nan</td><td>nan</td><td>nan</td><td>nan</td><td>nan</td><td>nan</td><td>nan</td><td>nan</td><td>nan</td><td>nan</td><td>nan</td><td>nan</td><td>nan</td><td>nan</td><td>False</td><td>False</td><td>nan</td><td>nan</td><td>nan</td><td>nan</td><td>nan</td><td>nan</td><td>nan</td><td>nan</td><td>0</td></tr>\n",
       "<tr><td>3</td><td>472471300942</td><td>0.0481301624509</td><td>-0.361356272804</td><td>0.9</td><td>nan</td><td>nan</td><td>nan</td><td>nan</td><td>nan</td><td>nan</td><td>nan</td><td>nan</td><td>9.29619</td><td>0.000309161</td><td>10.9588</td><td>0.000567745</td><td>nan</td><td>nan</td><td>nan</td><td>nan</td><td>nan</td><td>nan</td><td>False</td><td>nan</td><td>nan</td><td>nan</td><td>nan</td><td>False</td><td>nan</td><td>nan</td><td>694263.0</td><td>197.69</td><td>False</td><td>150130.0</td><td>78.505</td><td>nan</td><td>nan</td><td>False</td><td>nan</td><td>nan</td><td>False</td><td>0</td><td>False</td><td>-1</td><td>nan</td><td>False</td><td>nan</td><td>nan</td><td>nan</td><td>nan</td><td>nan</td><td>nan</td><td>nan</td><td>nan</td><td>False</td><td>False</td><td>nan</td><td>nan</td><td>nan</td><td>nan</td><td>nan</td><td>nan</td><td>nan</td><td>nan</td><td>nan</td><td>nan</td><td>nan</td><td>nan</td><td>nan</td><td>nan</td><td>nan</td><td>nan</td><td>False</td><td>False</td><td>nan</td><td>nan</td><td>nan</td><td>nan</td><td>nan</td><td>nan</td><td>nan</td><td>nan</td><td>0</td></tr>\n",
       "<tr><td>4</td><td>472471275977</td><td>0.292573308208</td><td>-0.0763851838315</td><td>0.944606</td><td>nan</td><td>nan</td><td>nan</td><td>nan</td><td>9.74752</td><td>0.000326092</td><td>12.8316</td><td>0.0010375</td><td>10.4151</td><td>0.000434455</td><td>11.003</td><td>0.000570257</td><td>9.23457</td><td>0.000457213</td><td>10.5647</td><td>0.000651892</td><td>nan</td><td>nan</td><td>False</td><td>nan</td><td>nan</td><td>458132.0</td><td>137.596</td><td>False</td><td>26753.4</td><td>25.5647</td><td>247723.0</td><td>99.1259</td><td>False</td><td>144145.0</td><td>75.7089</td><td>734804.0</td><td>309.432</td><td>False</td><td>215824.0</td><td>129.584</td><td>False</td><td>3</td><td>False</td><td>-1</td><td>nan</td><td>False</td><td>nan</td><td>nan</td><td>nan</td><td>nan</td><td>nan</td><td>nan</td><td>nan</td><td>nan</td><td>False</td><td>False</td><td>nan</td><td>nan</td><td>nan</td><td>nan</td><td>nan</td><td>nan</td><td>nan</td><td>nan</td><td>nan</td><td>nan</td><td>nan</td><td>nan</td><td>nan</td><td>nan</td><td>nan</td><td>nan</td><td>False</td><td>False</td><td>nan</td><td>nan</td><td>nan</td><td>nan</td><td>nan</td><td>nan</td><td>nan</td><td>nan</td><td>0</td></tr>\n",
       "<tr><td>5</td><td>472471300019</td><td>0.291958731973</td><td>-0.0763485415078</td><td>0.9</td><td>nan</td><td>nan</td><td>nan</td><td>nan</td><td>nan</td><td>nan</td><td>nan</td><td>nan</td><td>10.9348</td><td>0.000587732</td><td>11.0332</td><td>0.000578617</td><td>nan</td><td>nan</td><td>nan</td><td>nan</td><td>nan</td><td>nan</td><td>False</td><td>nan</td><td>nan</td><td>nan</td><td>nan</td><td>False</td><td>nan</td><td>nan</td><td>153483.0</td><td>83.0836</td><td>False</td><td>140193.0</td><td>74.7123</td><td>nan</td><td>nan</td><td>False</td><td>nan</td><td>nan</td><td>False</td><td>1</td><td>False</td><td>-1</td><td>nan</td><td>False</td><td>nan</td><td>nan</td><td>nan</td><td>nan</td><td>nan</td><td>nan</td><td>nan</td><td>nan</td><td>False</td><td>False</td><td>nan</td><td>nan</td><td>nan</td><td>nan</td><td>nan</td><td>nan</td><td>nan</td><td>nan</td><td>nan</td><td>nan</td><td>nan</td><td>nan</td><td>nan</td><td>nan</td><td>nan</td><td>nan</td><td>False</td><td>False</td><td>nan</td><td>nan</td><td>nan</td><td>nan</td><td>nan</td><td>nan</td><td>nan</td><td>nan</td><td>0</td></tr>\n",
       "<tr><td>6</td><td>472448745265</td><td>0.860644844416</td><td>0.349445245846</td><td>0.999657</td><td>nan</td><td>nan</td><td>nan</td><td>nan</td><td>11.2264</td><td>0.000499981</td><td>11.3788</td><td>0.000538974</td><td>10.2137</td><td>0.000431752</td><td>10.8897</td><td>0.0005881</td><td>10.5377</td><td>0.000861176</td><td>10.5895</td><td>0.000701524</td><td>nan</td><td>nan</td><td>False</td><td>nan</td><td>nan</td><td>117337.0</td><td>54.0335</td><td>False</td><td>101973.0</td><td>50.6207</td><td>298203.0</td><td>118.583</td><td>False</td><td>159995.0</td><td>86.6629</td><td>221260.0</td><td>175.497</td><td>False</td><td>210959.0</td><td>136.307</td><td>False</td><td>3</td><td>False</td><td>-1</td><td>nan</td><td>False</td><td>nan</td><td>nan</td><td>nan</td><td>nan</td><td>nan</td><td>nan</td><td>nan</td><td>nan</td><td>False</td><td>False</td><td>nan</td><td>nan</td><td>nan</td><td>nan</td><td>nan</td><td>nan</td><td>nan</td><td>nan</td><td>nan</td><td>nan</td><td>nan</td><td>nan</td><td>nan</td><td>nan</td><td>nan</td><td>nan</td><td>False</td><td>False</td><td>nan</td><td>nan</td><td>nan</td><td>nan</td><td>nan</td><td>nan</td><td>nan</td><td>nan</td><td>0</td></tr>\n",
       "<tr><td>7</td><td>472448749010</td><td>0.115629264879</td><td>0.205031201445</td><td>0.999657</td><td>nan</td><td>nan</td><td>nan</td><td>nan</td><td>10.8643</td><td>0.000494574</td><td>11.3358</td><td>0.000539237</td><td>9.6931</td><td>0.000346525</td><td>10.6582</td><td>0.00060412</td><td>9.55339</td><td>0.000504579</td><td>10.9281</td><td>0.000827971</td><td>nan</td><td>nan</td><td>False</td><td>nan</td><td>nan</td><td>163790.0</td><td>74.6098</td><td>False</td><td>106095.0</td><td>52.6926</td><td>481681.0</td><td>153.734</td><td>False</td><td>198016.0</td><td>110.179</td><td>547829.0</td><td>254.595</td><td>False</td><td>154444.0</td><td>117.777</td><td>False</td><td>2</td><td>False</td><td>-1</td><td>nan</td><td>False</td><td>nan</td><td>nan</td><td>nan</td><td>nan</td><td>nan</td><td>nan</td><td>nan</td><td>nan</td><td>False</td><td>False</td><td>nan</td><td>nan</td><td>nan</td><td>nan</td><td>nan</td><td>nan</td><td>nan</td><td>nan</td><td>nan</td><td>nan</td><td>nan</td><td>nan</td><td>nan</td><td>nan</td><td>nan</td><td>nan</td><td>False</td><td>False</td><td>nan</td><td>nan</td><td>nan</td><td>nan</td><td>nan</td><td>nan</td><td>nan</td><td>nan</td><td>0</td></tr>\n",
       "<tr><td>8</td><td>472448746108</td><td>0.166968009683</td><td>0.314988087561</td><td>0.999657</td><td>nan</td><td>nan</td><td>nan</td><td>nan</td><td>10.5193</td><td>0.000368633</td><td>11.2975</td><td>0.000524949</td><td>9.9222</td><td>0.000421064</td><td>10.6818</td><td>0.000608234</td><td>9.93099</td><td>0.000615049</td><td>10.4298</td><td>0.000651801</td><td>nan</td><td>nan</td><td>False</td><td>nan</td><td>nan</td><td>225044.0</td><td>76.4076</td><td>False</td><td>109905.0</td><td>53.1384</td><td>390048.0</td><td>151.266</td><td>False</td><td>193767.0</td><td>108.549</td><td>386906.0</td><td>219.175</td><td>False</td><td>244384.0</td><td>146.711</td><td>False</td><td>3</td><td>False</td><td>-1</td><td>nan</td><td>False</td><td>nan</td><td>nan</td><td>nan</td><td>nan</td><td>nan</td><td>nan</td><td>nan</td><td>nan</td><td>False</td><td>False</td><td>nan</td><td>nan</td><td>nan</td><td>nan</td><td>nan</td><td>nan</td><td>nan</td><td>nan</td><td>nan</td><td>nan</td><td>nan</td><td>nan</td><td>nan</td><td>nan</td><td>nan</td><td>nan</td><td>False</td><td>False</td><td>nan</td><td>nan</td><td>nan</td><td>nan</td><td>nan</td><td>nan</td><td>nan</td><td>nan</td><td>0</td></tr>\n",
       "<tr><td>9</td><td>472448755325</td><td>0.115791204221</td><td>0.205536736947</td><td>0.9</td><td>nan</td><td>nan</td><td>nan</td><td>nan</td><td>nan</td><td>nan</td><td>nan</td><td>nan</td><td>9.89384</td><td>0.000396417</td><td>10.6729</td><td>0.000609985</td><td>nan</td><td>nan</td><td>nan</td><td>nan</td><td>nan</td><td>nan</td><td>False</td><td>nan</td><td>nan</td><td>nan</td><td>nan</td><td>False</td><td>nan</td><td>nan</td><td>400372.0</td><td>146.181</td><td>False</td><td>195357.0</td><td>109.755</td><td>nan</td><td>nan</td><td>False</td><td>nan</td><td>nan</td><td>False</td><td>2</td><td>False</td><td>-1</td><td>nan</td><td>False</td><td>nan</td><td>nan</td><td>nan</td><td>nan</td><td>nan</td><td>nan</td><td>nan</td><td>nan</td><td>False</td><td>False</td><td>nan</td><td>nan</td><td>nan</td><td>nan</td><td>nan</td><td>nan</td><td>nan</td><td>nan</td><td>nan</td><td>nan</td><td>nan</td><td>nan</td><td>nan</td><td>nan</td><td>nan</td><td>nan</td><td>False</td><td>False</td><td>nan</td><td>nan</td><td>nan</td><td>nan</td><td>nan</td><td>nan</td><td>nan</td><td>nan</td><td>0</td></tr>\n",
       "</table><style>table.dataTable {clear: both; width: auto !important; margin: 0 !important;}\n",
       ".dataTables_info, .dataTables_length, .dataTables_filter, .dataTables_paginate{\n",
       "display: inline-block; margin-right: 1em; }\n",
       ".paginate_button { margin-right: 5px; }\n",
       "</style>\n",
       "<script>\n",
       "\n",
       "var astropy_sort_num = function(a, b) {\n",
       "    var a_num = parseFloat(a);\n",
       "    var b_num = parseFloat(b);\n",
       "\n",
       "    if (isNaN(a_num) && isNaN(b_num))\n",
       "        return ((a < b) ? -1 : ((a > b) ? 1 : 0));\n",
       "    else if (!isNaN(a_num) && !isNaN(b_num))\n",
       "        return ((a_num < b_num) ? -1 : ((a_num > b_num) ? 1 : 0));\n",
       "    else\n",
       "        return isNaN(a_num) ? -1 : 1;\n",
       "}\n",
       "\n",
       "require.config({paths: {\n",
       "    datatables: 'https://cdn.datatables.net/1.10.12/js/jquery.dataTables.min'\n",
       "}});\n",
       "require([\"datatables\"], function(){\n",
       "    console.log(\"$('#table4529610312-135997').dataTable()\");\n",
       "    \n",
       "jQuery.extend( jQuery.fn.dataTableExt.oSort, {\n",
       "    \"optionalnum-asc\": astropy_sort_num,\n",
       "    \"optionalnum-desc\": function (a,b) { return -astropy_sort_num(a, b); }\n",
       "});\n",
       "\n",
       "    $('#table4529610312-135997').dataTable({\n",
       "        order: [],\n",
       "        pageLength: 50,\n",
       "        lengthMenu: [[10, 25, 50, 100, 500, 1000, -1], [10, 25, 50, 100, 500, 1000, 'All']],\n",
       "        pagingType: \"full_numbers\",\n",
       "        columnDefs: [{targets: [0, 1, 2, 3, 4, 5, 6, 7, 8, 9, 10, 11, 12, 13, 14, 15, 16, 17, 18, 19, 20, 21, 22, 24, 25, 26, 27, 29, 30, 31, 32, 34, 35, 36, 37, 39, 40, 42, 45, 47, 48, 49, 50, 51, 52, 53, 54, 57, 58, 59, 60, 61, 62, 63, 64, 65, 66, 67, 68, 69, 70, 71, 72, 75, 76, 77, 78, 79, 80, 81, 82, 83], type: \"optionalnum\"}]\n",
       "    });\n",
       "});\n",
       "</script>\n"
      ],
      "text/plain": [
       "<IPython.core.display.HTML object>"
      ]
     },
     "execution_count": 9,
     "metadata": {},
     "output_type": "execute_result"
    }
   ],
   "source": [
    "master_catalogue[:10].show_in_notebook()"
   ]
  },
  {
   "cell_type": "markdown",
   "metadata": {},
   "source": [
    "## III - Merging flags and stellarity\n",
    "\n",
    "Each pristine catalogue contains a flag indicating if the source was associated to a another nearby source that was removed during the cleaning process.  We merge these flags in a single one."
   ]
  },
  {
   "cell_type": "code",
   "execution_count": 10,
   "metadata": {
    "collapsed": true
   },
   "outputs": [],
   "source": [
    "flag_cleaned_columns = [column for column in master_catalogue.colnames\n",
    "                        if 'flag_cleaned' in column]\n",
    "\n",
    "flag_column = np.zeros(len(master_catalogue), dtype=bool)\n",
    "for column in flag_cleaned_columns:\n",
    "    flag_column |= master_catalogue[column]\n",
    "    \n",
    "master_catalogue.add_column(Column(data=flag_column, name=\"vista_flag_cleaned\"))\n",
    "master_catalogue.remove_columns(flag_cleaned_columns)"
   ]
  },
  {
   "cell_type": "markdown",
   "metadata": {},
   "source": [
    "Each pristine catalogue contains a flag indicating the probability of a source being a Gaia object (0: not a Gaia object, 1: possibly, 2: probably, 3: definitely).  We merge these flags taking the highest value."
   ]
  },
  {
   "cell_type": "code",
   "execution_count": 11,
   "metadata": {
    "collapsed": true
   },
   "outputs": [],
   "source": [
    "flag_gaia_columns = [column for column in master_catalogue.colnames\n",
    "                     if 'flag_gaia' in column]\n",
    "\n",
    "master_catalogue.add_column(Column(\n",
    "    data=np.max([master_catalogue[column] for column in flag_gaia_columns], axis=0),\n",
    "    name=\"vista_flag_gaia\"\n",
    "))\n",
    "master_catalogue.remove_columns(flag_gaia_columns)"
   ]
  },
  {
   "cell_type": "markdown",
   "metadata": {},
   "source": [
    "Each prisitine catalogue may contain one or several stellarity columns indicating the probability (0 to 1) of each source being a star.  We merge these columns taking the highest value."
   ]
  },
  {
   "cell_type": "code",
   "execution_count": 12,
   "metadata": {
    "collapsed": true
   },
   "outputs": [],
   "source": [
    "stellarity_columns = [column for column in master_catalogue.colnames\n",
    "                      if 'stellarity' in column]\n",
    "\n",
    "master_catalogue.add_column(Column(\n",
    "    data=np.nanmax([master_catalogue[column] for column in stellarity_columns], axis=0),\n",
    "    name=\"vista_stellarity\"\n",
    "))\n",
    "master_catalogue.remove_columns(stellarity_columns)"
   ]
  },
  {
   "cell_type": "markdown",
   "metadata": {},
   "source": [
    "## VIII - Cross-identification table\n",
    "\n",
    "We are producing a table associating to each HELP identifier, the identifiers of the sources in the pristine catalogue. This can be used to easily get additional information from them."
   ]
  },
  {
   "cell_type": "code",
   "execution_count": 13,
   "metadata": {
    "collapsed": true
   },
   "outputs": [],
   "source": [
    "master_catalogue.add_column(Column(data=np.arange(len(master_catalogue)), \n",
    "                              name=\"vista_intid\"))\n"
   ]
  },
  {
   "cell_type": "code",
   "execution_count": 14,
   "metadata": {},
   "outputs": [
    {
     "name": "stdout",
     "output_type": "stream",
     "text": [
      "['vhs_id', 'vics82_id', 'vista_intid']\n"
     ]
    }
   ],
   "source": [
    "\n",
    "id_names = []\n",
    "for col in master_catalogue.colnames:\n",
    "    if '_id' in col:\n",
    "        id_names += [col]\n",
    "    if '_intid' in col:\n",
    "        id_names += [col]\n",
    "        \n",
    "print(id_names)"
   ]
  },
  {
   "cell_type": "markdown",
   "metadata": {},
   "source": [
    "## VI - Choosing between multiple values for the same filter\n",
    "\n"
   ]
  },
  {
   "cell_type": "code",
   "execution_count": 15,
   "metadata": {
    "collapsed": true
   },
   "outputs": [],
   "source": [
    "vista_origin = Table()\n",
    "vista_origin.add_column(master_catalogue['vista_intid'])"
   ]
  },
  {
   "cell_type": "code",
   "execution_count": 16,
   "metadata": {
    "collapsed": true
   },
   "outputs": [],
   "source": [
    "vista_stats = Table()\n",
    "vista_stats.add_column(Column(data=['j','ks'], name=\"Band\"))\n",
    "for col in [\"VHS\", \"VICS82\"]:\n",
    "    vista_stats.add_column(Column(data=np.full(2, 0), name=\"{}\".format(col)))\n",
    "    vista_stats.add_column(Column(data=np.full(2, 0), name=\"use {}\".format(col)))\n",
    "    vista_stats.add_column(Column(data=np.full(2, 0), name=\"{} ap\".format(col)))\n",
    "    vista_stats.add_column(Column(data=np.full(2, 0), name=\"use {} ap\".format(col)))"
   ]
  },
  {
   "cell_type": "code",
   "execution_count": 17,
   "metadata": {
    "collapsed": true
   },
   "outputs": [],
   "source": [
    "vista_bands = ['j','ks'] # Lowercase naming convention (k is Ks)\n",
    "for band in vista_bands:\n",
    "\n",
    "\n",
    "    # VISTA total flux \n",
    "    has_vhs = ~np.isnan(master_catalogue['f_vhs_' + band.strip('s')])\n",
    "    has_vics82 = ~np.isnan(master_catalogue['f_vista_' + band])\n",
    "\n",
    "    use_vhs = has_vhs \n",
    "    use_vics82 = has_vics82 & ~has_vhs\n",
    "\n",
    "\n",
    "    master_catalogue['f_vista_' + band][use_vhs] = master_catalogue['f_vhs_' + band.strip('s')][use_vhs]\n",
    "    master_catalogue['ferr_vista_' + band][use_vhs] = master_catalogue['ferr_vhs_' + band.strip('s')][use_vhs]\n",
    "    master_catalogue['m_vista_' + band][use_vhs] = master_catalogue['m_vhs_' + band.strip('s')][use_vhs]\n",
    "    master_catalogue['merr_vista_' + band][use_vhs] = master_catalogue['merr_vhs_' + band.strip('s')][use_vhs]\n",
    "    master_catalogue['flag_vista_' + band][use_vhs] = master_catalogue['flag_vhs_' + band.strip('s')][use_vhs]\n",
    "\n",
    "    master_catalogue.remove_columns(['f_vhs_' + band.strip('s'),\n",
    "                               'ferr_vhs_' + band.strip('s'),\n",
    "                               'm_vhs_' + band.strip('s'), \n",
    "                               'merr_vhs_' + band.strip('s'),\n",
    "                               'flag_vhs_' + band.strip('s')])\n",
    "\n",
    "    origin = np.full(len(master_catalogue), '     ', dtype='<U5')\n",
    "    origin[use_vhs] = \"VHS\"\n",
    "    origin[use_vics82] = \"VICS82\"\n",
    "\n",
    "    \n",
    "    vista_origin.add_column(Column(data=origin, name= 'f_vista_' + band ))\n",
    "    \n",
    "    # VISTA aperture flux \n",
    "    has_ap_vhs = ~np.isnan(master_catalogue['f_ap_vhs_' + band.strip('s')])\n",
    "    has_ap_vics82 = ~np.isnan(master_catalogue['f_ap_vista_' + band])\n",
    "\n",
    "    use_ap_vhs = has_ap_vhs \n",
    "    use_ap_vics82 = has_ap_vics82 & ~has_ap_vhs\n",
    "\n",
    "\n",
    "    master_catalogue['f_ap_vista_' + band][use_ap_vhs] = master_catalogue['f_ap_vhs_' + band.strip('s')][use_ap_vhs]\n",
    "    master_catalogue['ferr_ap_vista_' + band][use_ap_vhs] = master_catalogue['ferr_ap_vhs_' + band.strip('s')][use_ap_vhs]\n",
    "    master_catalogue['m_ap_vista_' + band][use_ap_vhs] = master_catalogue['m_ap_vhs_' + band.strip('s')][use_ap_vhs]\n",
    "    master_catalogue['merr_ap_vista_' + band][use_ap_vhs] = master_catalogue['merr_ap_vhs_' + band.strip('s')][use_ap_vhs]\n",
    "  \n",
    "\n",
    "    master_catalogue.remove_columns(['f_ap_vhs_' + band.strip('s'),\n",
    "                               'ferr_ap_vhs_' + band.strip('s'),\n",
    "                               'm_ap_vhs_' + band.strip('s'), \n",
    "                               'merr_ap_vhs_' + band.strip('s')])\n",
    "\n",
    "    origin_ap = np.full(len(master_catalogue), '     ', dtype='<U5')\n",
    "    origin_ap[use_ap_vhs] = \"VHS\"\n",
    "    origin_ap[use_ap_vics82] = \"VICS82\"\n",
    "\n",
    "    \n",
    "    vista_origin.add_column(Column(data=origin_ap, name= 'f_ap_vista_' + band ))   \n",
    "\n",
    "   \n",
    "    vista_stats['VHS'][vista_stats['Band'] == band] = np.sum(has_vhs)\n",
    "    vista_stats['VICS82'][vista_stats['Band'] == band] = np.sum(has_vics82)\n",
    "\n",
    "    vista_stats['use VHS'][vista_stats['Band'] == band] = np.sum(use_vhs)\n",
    "    vista_stats['use VICS82'][vista_stats['Band'] == band] = np.sum(use_vics82)\n",
    "\n",
    "    vista_stats['VHS ap'][vista_stats['Band'] == band] = np.sum(has_ap_vhs)\n",
    "    vista_stats['VICS82 ap'][vista_stats['Band'] == band] = np.sum(has_ap_vics82)\n",
    "\n",
    "    vista_stats['use VHS ap'][vista_stats['Band'] == band] = np.sum(use_ap_vhs)\n",
    "    vista_stats['use VICS82 ap'][vista_stats['Band'] == band] = np.sum(use_ap_vics82)\n"
   ]
  },
  {
   "cell_type": "code",
   "execution_count": 18,
   "metadata": {},
   "outputs": [
    {
     "data": {
      "text/html": [
       "<i>Table length=2</i>\n",
       "<table id=\"table4787159616-351256\" class=\"table-striped table-bordered table-condensed\">\n",
       "<thead><tr><th>idx</th><th>Band</th><th>VHS</th><th>use VHS</th><th>VHS ap</th><th>use VHS ap</th><th>VICS82</th><th>use VICS82</th><th>VICS82 ap</th><th>use VICS82 ap</th></tr></thead>\n",
       "<tr><td>0</td><td>j</td><td>43636</td><td>43636</td><td>43633</td><td>43633</td><td>34934</td><td>34934</td><td>34900</td><td>34900</td></tr>\n",
       "<tr><td>1</td><td>ks</td><td>35049</td><td>35049</td><td>35042</td><td>35042</td><td>41273</td><td>41273</td><td>41094</td><td>41094</td></tr>\n",
       "</table><style>table.dataTable {clear: both; width: auto !important; margin: 0 !important;}\n",
       ".dataTables_info, .dataTables_length, .dataTables_filter, .dataTables_paginate{\n",
       "display: inline-block; margin-right: 1em; }\n",
       ".paginate_button { margin-right: 5px; }\n",
       "</style>\n",
       "<script>\n",
       "\n",
       "var astropy_sort_num = function(a, b) {\n",
       "    var a_num = parseFloat(a);\n",
       "    var b_num = parseFloat(b);\n",
       "\n",
       "    if (isNaN(a_num) && isNaN(b_num))\n",
       "        return ((a < b) ? -1 : ((a > b) ? 1 : 0));\n",
       "    else if (!isNaN(a_num) && !isNaN(b_num))\n",
       "        return ((a_num < b_num) ? -1 : ((a_num > b_num) ? 1 : 0));\n",
       "    else\n",
       "        return isNaN(a_num) ? -1 : 1;\n",
       "}\n",
       "\n",
       "require.config({paths: {\n",
       "    datatables: 'https://cdn.datatables.net/1.10.12/js/jquery.dataTables.min'\n",
       "}});\n",
       "require([\"datatables\"], function(){\n",
       "    console.log(\"$('#table4787159616-351256').dataTable()\");\n",
       "    \n",
       "jQuery.extend( jQuery.fn.dataTableExt.oSort, {\n",
       "    \"optionalnum-asc\": astropy_sort_num,\n",
       "    \"optionalnum-desc\": function (a,b) { return -astropy_sort_num(a, b); }\n",
       "});\n",
       "\n",
       "    $('#table4787159616-351256').dataTable({\n",
       "        order: [],\n",
       "        pageLength: 50,\n",
       "        lengthMenu: [[10, 25, 50, 100, 500, 1000, -1], [10, 25, 50, 100, 500, 1000, 'All']],\n",
       "        pagingType: \"full_numbers\",\n",
       "        columnDefs: [{targets: [0, 2, 3, 4, 5, 6, 7, 8, 9], type: \"optionalnum\"}]\n",
       "    });\n",
       "});\n",
       "</script>\n"
      ],
      "text/plain": [
       "<IPython.core.display.HTML object>"
      ]
     },
     "execution_count": 18,
     "metadata": {},
     "output_type": "execute_result"
    }
   ],
   "source": [
    "vista_stats.show_in_notebook()"
   ]
  },
  {
   "cell_type": "code",
   "execution_count": 19,
   "metadata": {
    "collapsed": true
   },
   "outputs": [],
   "source": [
    "vista_origin.write(\"{}/herschel-stripe-82_vista_fluxes_origins{}.fits\".format(OUT_DIR, SUFFIX), overwrite=True)"
   ]
  },
  {
   "cell_type": "markdown",
   "metadata": {},
   "source": [
    "## Rename old vhs cols"
   ]
  },
  {
   "cell_type": "code",
   "execution_count": 27,
   "metadata": {
    "collapsed": true
   },
   "outputs": [],
   "source": [
    "\n",
    "renaming = OrderedDict({\n",
    "    '_vhs_y': '_vista_y',\n",
    "    '_vhs_h': '_vista_h',\n",
    "\n",
    "})\n",
    "\n",
    "\n",
    "for col in master_catalogue.colnames:\n",
    "    for rename_col in list(renaming):\n",
    "        if rename_col in col:\n",
    "            master_catalogue.rename_column(col, col.replace(rename_col, renaming[rename_col]))"
   ]
  },
  {
   "cell_type": "markdown",
   "metadata": {},
   "source": [
    "## IX - Saving the catalogue"
   ]
  },
  {
   "cell_type": "code",
   "execution_count": 28,
   "metadata": {},
   "outputs": [
    {
     "ename": "KeyError",
     "evalue": "'ra'",
     "output_type": "error",
     "traceback": [
      "\u001b[0;31m---------------------------------------------------------------------------\u001b[0m",
      "\u001b[0;31mKeyError\u001b[0m                                  Traceback (most recent call last)",
      "\u001b[0;32m<ipython-input-28-dd342df28680>\u001b[0m in \u001b[0;36m<module>\u001b[0;34m()\u001b[0m\n\u001b[0;32m----> 1\u001b[0;31m \u001b[0mmaster_catalogue\u001b[0m\u001b[0;34m[\u001b[0m\u001b[0;34m\"ra\"\u001b[0m\u001b[0;34m]\u001b[0m\u001b[0;34m.\u001b[0m\u001b[0mname\u001b[0m \u001b[0;34m=\u001b[0m \u001b[0;34m\"vista_ra\"\u001b[0m\u001b[0;34m\u001b[0m\u001b[0m\n\u001b[0m\u001b[1;32m      2\u001b[0m \u001b[0mmaster_catalogue\u001b[0m\u001b[0;34m[\u001b[0m\u001b[0;34m\"dec\"\u001b[0m\u001b[0;34m]\u001b[0m\u001b[0;34m.\u001b[0m\u001b[0mname\u001b[0m \u001b[0;34m=\u001b[0m \u001b[0;34m\"vista_dec\"\u001b[0m\u001b[0;34m\u001b[0m\u001b[0m\n\u001b[1;32m      3\u001b[0m \u001b[0mmaster_catalogue\u001b[0m\u001b[0;34m[\u001b[0m\u001b[0;34m\"flag_merged\"\u001b[0m\u001b[0;34m]\u001b[0m\u001b[0;34m.\u001b[0m\u001b[0mname\u001b[0m \u001b[0;34m=\u001b[0m \u001b[0;34m\"vista_flag_merged\"\u001b[0m\u001b[0;34m\u001b[0m\u001b[0m\n",
      "\u001b[0;32m/Users/rs548/anaconda/envs/herschelhelp_internal/lib/python3.6/site-packages/astropy/table/table.py\u001b[0m in \u001b[0;36m__getitem__\u001b[0;34m(self, item)\u001b[0m\n\u001b[1;32m   1220\u001b[0m     \u001b[0;32mdef\u001b[0m \u001b[0m__getitem__\u001b[0m\u001b[0;34m(\u001b[0m\u001b[0mself\u001b[0m\u001b[0;34m,\u001b[0m \u001b[0mitem\u001b[0m\u001b[0;34m)\u001b[0m\u001b[0;34m:\u001b[0m\u001b[0;34m\u001b[0m\u001b[0m\n\u001b[1;32m   1221\u001b[0m         \u001b[0;32mif\u001b[0m \u001b[0misinstance\u001b[0m\u001b[0;34m(\u001b[0m\u001b[0mitem\u001b[0m\u001b[0;34m,\u001b[0m \u001b[0mstr\u001b[0m\u001b[0;34m)\u001b[0m\u001b[0;34m:\u001b[0m\u001b[0;34m\u001b[0m\u001b[0m\n\u001b[0;32m-> 1222\u001b[0;31m             \u001b[0;32mreturn\u001b[0m \u001b[0mself\u001b[0m\u001b[0;34m.\u001b[0m\u001b[0mcolumns\u001b[0m\u001b[0;34m[\u001b[0m\u001b[0mitem\u001b[0m\u001b[0;34m]\u001b[0m\u001b[0;34m\u001b[0m\u001b[0m\n\u001b[0m\u001b[1;32m   1223\u001b[0m         \u001b[0;32melif\u001b[0m \u001b[0misinstance\u001b[0m\u001b[0;34m(\u001b[0m\u001b[0mitem\u001b[0m\u001b[0;34m,\u001b[0m \u001b[0;34m(\u001b[0m\u001b[0mint\u001b[0m\u001b[0;34m,\u001b[0m \u001b[0mnp\u001b[0m\u001b[0;34m.\u001b[0m\u001b[0minteger\u001b[0m\u001b[0;34m)\u001b[0m\u001b[0;34m)\u001b[0m\u001b[0;34m:\u001b[0m\u001b[0;34m\u001b[0m\u001b[0m\n\u001b[1;32m   1224\u001b[0m             \u001b[0;32mreturn\u001b[0m \u001b[0mself\u001b[0m\u001b[0;34m.\u001b[0m\u001b[0mRow\u001b[0m\u001b[0;34m(\u001b[0m\u001b[0mself\u001b[0m\u001b[0;34m,\u001b[0m \u001b[0mitem\u001b[0m\u001b[0;34m)\u001b[0m\u001b[0;34m\u001b[0m\u001b[0m\n",
      "\u001b[0;32m/Users/rs548/anaconda/envs/herschelhelp_internal/lib/python3.6/site-packages/astropy/table/table.py\u001b[0m in \u001b[0;36m__getitem__\u001b[0;34m(self, item)\u001b[0m\n\u001b[1;32m    104\u001b[0m         \"\"\"\n\u001b[1;32m    105\u001b[0m         \u001b[0;32mif\u001b[0m \u001b[0misinstance\u001b[0m\u001b[0;34m(\u001b[0m\u001b[0mitem\u001b[0m\u001b[0;34m,\u001b[0m \u001b[0mstr\u001b[0m\u001b[0;34m)\u001b[0m\u001b[0;34m:\u001b[0m\u001b[0;34m\u001b[0m\u001b[0m\n\u001b[0;32m--> 106\u001b[0;31m             \u001b[0;32mreturn\u001b[0m \u001b[0mOrderedDict\u001b[0m\u001b[0;34m.\u001b[0m\u001b[0m__getitem__\u001b[0m\u001b[0;34m(\u001b[0m\u001b[0mself\u001b[0m\u001b[0;34m,\u001b[0m \u001b[0mitem\u001b[0m\u001b[0;34m)\u001b[0m\u001b[0;34m\u001b[0m\u001b[0m\n\u001b[0m\u001b[1;32m    107\u001b[0m         \u001b[0;32melif\u001b[0m \u001b[0misinstance\u001b[0m\u001b[0;34m(\u001b[0m\u001b[0mitem\u001b[0m\u001b[0;34m,\u001b[0m \u001b[0;34m(\u001b[0m\u001b[0mint\u001b[0m\u001b[0;34m,\u001b[0m \u001b[0mnp\u001b[0m\u001b[0;34m.\u001b[0m\u001b[0minteger\u001b[0m\u001b[0;34m)\u001b[0m\u001b[0;34m)\u001b[0m\u001b[0;34m:\u001b[0m\u001b[0;34m\u001b[0m\u001b[0m\n\u001b[1;32m    108\u001b[0m             \u001b[0;32mreturn\u001b[0m \u001b[0mself\u001b[0m\u001b[0;34m.\u001b[0m\u001b[0mvalues\u001b[0m\u001b[0;34m(\u001b[0m\u001b[0;34m)\u001b[0m\u001b[0;34m[\u001b[0m\u001b[0mitem\u001b[0m\u001b[0;34m]\u001b[0m\u001b[0;34m\u001b[0m\u001b[0m\n",
      "\u001b[0;31mKeyError\u001b[0m: 'ra'"
     ]
    }
   ],
   "source": [
    "master_catalogue[\"ra\"].name = \"vista_ra\"\n",
    "master_catalogue[\"dec\"].name = \"vista_dec\"\n",
    "master_catalogue[\"flag_merged\"].name = \"vista_flag_merged\""
   ]
  },
  {
   "cell_type": "code",
   "execution_count": 29,
   "metadata": {
    "collapsed": true
   },
   "outputs": [],
   "source": [
    "columns = [\"vhs_id\", \"vics82_id\", \"vista_intid\",\n",
    "           'vista_ra', 'vista_dec', 'vista_flag_merged',  \n",
    "           'vista_flag_cleaned',  'vista_flag_gaia', 'vista_stellarity']\n",
    "\n",
    "bands = [column[5:] for column in master_catalogue.colnames if 'f_ap' in column]\n",
    "for band in bands:\n",
    "    columns += [\"f_ap_{}\".format(band), \"ferr_ap_{}\".format(band),\n",
    "                \"m_ap_{}\".format(band), \"merr_ap_{}\".format(band),\n",
    "                \"f_{}\".format(band), \"ferr_{}\".format(band),\n",
    "                \"m_{}\".format(band), \"merr_{}\".format(band),\n",
    "                \"flag_{}\".format(band)]    \n"
   ]
  },
  {
   "cell_type": "code",
   "execution_count": 30,
   "metadata": {},
   "outputs": [
    {
     "name": "stdout",
     "output_type": "stream",
     "text": [
      "Missing columns: set()\n"
     ]
    }
   ],
   "source": [
    "# We check for columns in the master catalogue that we will not save to disk.\n",
    "print(\"Missing columns: {}\".format(set(master_catalogue.colnames) - set(columns)))"
   ]
  },
  {
   "cell_type": "code",
   "execution_count": 31,
   "metadata": {},
   "outputs": [
    {
     "data": {
      "text/html": [
       "<i>Table length=10</i>\n",
       "<table id=\"table4799852672-533200\" class=\"table-striped table-bordered table-condensed\">\n",
       "<thead><tr><th>idx</th><th>vhs_id</th><th>vista_ra</th><th>vista_dec</th><th>m_vista_y</th><th>merr_vista_y</th><th>m_ap_vista_y</th><th>merr_ap_vista_y</th><th>m_vista_h</th><th>merr_vista_h</th><th>m_ap_vista_h</th><th>merr_ap_vista_h</th><th>f_vista_y</th><th>ferr_vista_y</th><th>flag_vista_y</th><th>f_ap_vista_y</th><th>ferr_ap_vista_y</th><th>f_vista_h</th><th>ferr_vista_h</th><th>flag_vista_h</th><th>f_ap_vista_h</th><th>ferr_ap_vista_h</th><th>vista_flag_merged</th><th>vics82_id</th><th>f_wircam_j</th><th>f_vista_j</th><th>ferr_wircam_j</th><th>ferr_vista_j</th><th>m_wircam_j</th><th>m_vista_j</th><th>merr_wircam_j</th><th>merr_vista_j</th><th>flag_wircam_j</th><th>flag_vista_j</th><th>f_ap_wircam_j</th><th>f_ap_vista_j</th><th>ferr_ap_wircam_j</th><th>ferr_ap_vista_j</th><th>m_ap_wircam_j</th><th>m_ap_vista_j</th><th>merr_ap_wircam_j</th><th>merr_ap_vista_j</th><th>f_wircam_ks</th><th>f_vista_ks</th><th>ferr_wircam_ks</th><th>ferr_vista_ks</th><th>m_wircam_ks</th><th>m_vista_ks</th><th>merr_wircam_ks</th><th>merr_vista_ks</th><th>flag_wircam_ks</th><th>flag_vista_ks</th><th>f_ap_wircam_ks</th><th>f_ap_vista_ks</th><th>ferr_ap_wircam_ks</th><th>ferr_ap_vista_ks</th><th>m_ap_wircam_ks</th><th>m_ap_vista_ks</th><th>merr_ap_wircam_ks</th><th>merr_ap_vista_ks</th><th>vista_flag_cleaned</th><th>vista_flag_gaia</th><th>vista_stellarity</th><th>vista_intid</th></tr></thead>\n",
       "<thead><tr><th></th><th></th><th>deg</th><th>deg</th><th></th><th></th><th></th><th></th><th></th><th></th><th></th><th></th><th></th><th></th><th></th><th></th><th></th><th></th><th></th><th></th><th></th><th></th><th></th><th></th><th></th><th></th><th></th><th></th><th></th><th></th><th></th><th></th><th></th><th></th><th></th><th></th><th></th><th></th><th></th><th></th><th></th><th></th><th></th><th></th><th></th><th></th><th></th><th></th><th></th><th></th><th></th><th></th><th></th><th></th><th></th><th></th><th></th><th></th><th></th><th></th><th></th><th></th><th></th><th></th></tr></thead>\n",
       "<tr><td>0</td><td>472448751411</td><td>0.781408839858</td><td>0.0890078729011</td><td>nan</td><td>nan</td><td>nan</td><td>nan</td><td>10.2142</td><td>0.000453802</td><td>10.5483</td><td>0.000520294</td><td>nan</td><td>nan</td><td>False</td><td>nan</td><td>nan</td><td>298085.0</td><td>124.59</td><td>False</td><td>219116.0</td><td>105.002</td><td>False</td><td>-1</td><td>nan</td><td>204058.4375</td><td>nan</td><td>71.2558517456</td><td>nan</td><td>10.6256132126</td><td>nan</td><td>0.00037913187407</td><td>False</td><td>False</td><td>nan</td><td>142869.0</td><td>nan</td><td>60.486289978</td><td>nan</td><td>11.0127</td><td>nan</td><td>0.000459667207906</td><td>nan</td><td>337159.25</td><td>nan</td><td>202.165557861</td><td>nan</td><td>10.080411911</td><td>nan</td><td>0.000651023117825</td><td>False</td><td>False</td><td>nan</td><td>276273.0</td><td>nan</td><td>154.024353027</td><td>nan</td><td>10.2967</td><td>nan</td><td>0.000605307111982</td><td>False</td><td>3</td><td>0.999657213688</td><td>0</td></tr>\n",
       "<tr><td>1</td><td>472448749614</td><td>0.143494283104</td><td>0.174711331143</td><td>nan</td><td>nan</td><td>nan</td><td>nan</td><td>10.1433</td><td>0.00046483</td><td>10.4889</td><td>0.000548676</td><td>nan</td><td>nan</td><td>False</td><td>nan</td><td>nan</td><td>318178.0</td><td>136.219</td><td>False</td><td>231430.0</td><td>116.953</td><td>False</td><td>-1</td><td>nan</td><td>192581.65625</td><td>nan</td><td>68.4889373779</td><td>nan</td><td>10.6884622574</td><td>nan</td><td>0.000386126688682</td><td>False</td><td>False</td><td>nan</td><td>142689.0</td><td>nan</td><td>60.8748054504</td><td>nan</td><td>11.014</td><td>nan</td><td>0.000463202042738</td><td>nan</td><td>321124.75</td><td>nan</td><td>198.949264526</td><td>nan</td><td>10.1333150864</td><td>nan</td><td>0.000672655762173</td><td>False</td><td>False</td><td>nan</td><td>251531.0</td><td>nan</td><td>147.996856689</td><td>nan</td><td>10.3985</td><td>nan</td><td>0.000638829253148</td><td>False</td><td>3</td><td>0.999657213688</td><td>1</td></tr>\n",
       "<tr><td>2</td><td>472471300934</td><td>0.0496896315432</td><td>-0.360734598751</td><td>nan</td><td>nan</td><td>nan</td><td>nan</td><td>9.50416</td><td>0.000348363</td><td>10.9399</td><td>0.00055988</td><td>nan</td><td>nan</td><td>False</td><td>nan</td><td>nan</td><td>573237.0</td><td>183.925</td><td>False</td><td>152766.0</td><td>78.7765</td><td>False</td><td>-1</td><td>nan</td><td>nan</td><td>nan</td><td>nan</td><td>nan</td><td>nan</td><td>nan</td><td>nan</td><td>False</td><td>False</td><td>nan</td><td>nan</td><td>nan</td><td>nan</td><td>nan</td><td>nan</td><td>nan</td><td>nan</td><td>nan</td><td>nan</td><td>nan</td><td>nan</td><td>nan</td><td>nan</td><td>nan</td><td>nan</td><td>False</td><td>False</td><td>nan</td><td>nan</td><td>nan</td><td>nan</td><td>nan</td><td>nan</td><td>nan</td><td>nan</td><td>False</td><td>0</td><td>0.899999976158</td><td>2</td></tr>\n",
       "<tr><td>3</td><td>472471300942</td><td>0.0481301624509</td><td>-0.361356272804</td><td>nan</td><td>nan</td><td>nan</td><td>nan</td><td>9.29619</td><td>0.000309161</td><td>10.9588</td><td>0.000567745</td><td>nan</td><td>nan</td><td>False</td><td>nan</td><td>nan</td><td>694263.0</td><td>197.69</td><td>False</td><td>150130.0</td><td>78.505</td><td>False</td><td>-1</td><td>nan</td><td>nan</td><td>nan</td><td>nan</td><td>nan</td><td>nan</td><td>nan</td><td>nan</td><td>False</td><td>False</td><td>nan</td><td>nan</td><td>nan</td><td>nan</td><td>nan</td><td>nan</td><td>nan</td><td>nan</td><td>nan</td><td>nan</td><td>nan</td><td>nan</td><td>nan</td><td>nan</td><td>nan</td><td>nan</td><td>False</td><td>False</td><td>nan</td><td>nan</td><td>nan</td><td>nan</td><td>nan</td><td>nan</td><td>nan</td><td>nan</td><td>False</td><td>0</td><td>0.899999976158</td><td>3</td></tr>\n",
       "<tr><td>4</td><td>472471275977</td><td>0.292573308208</td><td>-0.0763851838315</td><td>nan</td><td>nan</td><td>nan</td><td>nan</td><td>10.4151</td><td>0.000434455</td><td>11.003</td><td>0.000570257</td><td>nan</td><td>nan</td><td>False</td><td>nan</td><td>nan</td><td>247723.0</td><td>99.1259</td><td>False</td><td>144145.0</td><td>75.7089</td><td>False</td><td>-1</td><td>nan</td><td>458131.5</td><td>nan</td><td>137.595962524</td><td>nan</td><td>9.74752426147</td><td>nan</td><td>0.000326091801981</td><td>False</td><td>False</td><td>nan</td><td>26753.4</td><td>nan</td><td>25.5647392273</td><td>nan</td><td>12.8316</td><td>nan</td><td>0.001037496957</td><td>nan</td><td>734804.1875</td><td>nan</td><td>309.432281494</td><td>nan</td><td>9.23457050323</td><td>nan</td><td>0.000457212707261</td><td>False</td><td>False</td><td>nan</td><td>215824.0</td><td>nan</td><td>129.583984375</td><td>nan</td><td>10.5647</td><td>nan</td><td>0.000651891517919</td><td>False</td><td>3</td><td>0.944606423378</td><td>4</td></tr>\n",
       "<tr><td>5</td><td>472471300019</td><td>0.291958731973</td><td>-0.0763485415078</td><td>nan</td><td>nan</td><td>nan</td><td>nan</td><td>10.9348</td><td>0.000587732</td><td>11.0332</td><td>0.000578617</td><td>nan</td><td>nan</td><td>False</td><td>nan</td><td>nan</td><td>153483.0</td><td>83.0836</td><td>False</td><td>140193.0</td><td>74.7123</td><td>False</td><td>-1</td><td>nan</td><td>nan</td><td>nan</td><td>nan</td><td>nan</td><td>nan</td><td>nan</td><td>nan</td><td>False</td><td>False</td><td>nan</td><td>nan</td><td>nan</td><td>nan</td><td>nan</td><td>nan</td><td>nan</td><td>nan</td><td>nan</td><td>nan</td><td>nan</td><td>nan</td><td>nan</td><td>nan</td><td>nan</td><td>nan</td><td>False</td><td>False</td><td>nan</td><td>nan</td><td>nan</td><td>nan</td><td>nan</td><td>nan</td><td>nan</td><td>nan</td><td>False</td><td>1</td><td>0.899999976158</td><td>5</td></tr>\n",
       "<tr><td>6</td><td>472448745265</td><td>0.860644844416</td><td>0.349445245846</td><td>nan</td><td>nan</td><td>nan</td><td>nan</td><td>10.2137</td><td>0.000431752</td><td>10.8897</td><td>0.0005881</td><td>nan</td><td>nan</td><td>False</td><td>nan</td><td>nan</td><td>298203.0</td><td>118.583</td><td>False</td><td>159995.0</td><td>86.6629</td><td>False</td><td>-1</td><td>nan</td><td>117336.515625</td><td>nan</td><td>54.0334510803</td><td>nan</td><td>11.2264165878</td><td>nan</td><td>0.000499981397297</td><td>False</td><td>False</td><td>nan</td><td>101973.0</td><td>nan</td><td>50.620716095</td><td>nan</td><td>11.3788</td><td>nan</td><td>0.000538974127267</td><td>nan</td><td>221259.5625</td><td>nan</td><td>175.496902466</td><td>nan</td><td>10.5377445221</td><td>nan</td><td>0.000861175591126</td><td>False</td><td>False</td><td>nan</td><td>210959.0</td><td>nan</td><td>136.306625366</td><td>nan</td><td>10.5895</td><td>nan</td><td>0.000701524375472</td><td>False</td><td>3</td><td>0.999657213688</td><td>6</td></tr>\n",
       "<tr><td>7</td><td>472448749010</td><td>0.115629264879</td><td>0.205031201445</td><td>nan</td><td>nan</td><td>nan</td><td>nan</td><td>9.6931</td><td>0.000346525</td><td>10.6582</td><td>0.00060412</td><td>nan</td><td>nan</td><td>False</td><td>nan</td><td>nan</td><td>481681.0</td><td>153.734</td><td>False</td><td>198016.0</td><td>110.179</td><td>False</td><td>-1</td><td>nan</td><td>163790.5</td><td>nan</td><td>74.6097793579</td><td>nan</td><td>10.8642778397</td><td>nan</td><td>0.000494574138429</td><td>False</td><td>False</td><td>nan</td><td>106095.0</td><td>nan</td><td>52.692565918</td><td>nan</td><td>11.3358</td><td>nan</td><td>0.000539237109479</td><td>nan</td><td>547829.1875</td><td>nan</td><td>254.595245361</td><td>nan</td><td>9.55338668823</td><td>nan</td><td>0.00050457927864</td><td>False</td><td>False</td><td>nan</td><td>154444.0</td><td>nan</td><td>117.77747345</td><td>nan</td><td>10.9281</td><td>nan</td><td>0.00082797097275</td><td>False</td><td>2</td><td>0.999657213688</td><td>7</td></tr>\n",
       "<tr><td>8</td><td>472448746108</td><td>0.166968009683</td><td>0.314988087561</td><td>nan</td><td>nan</td><td>nan</td><td>nan</td><td>9.9222</td><td>0.000421064</td><td>10.6818</td><td>0.000608234</td><td>nan</td><td>nan</td><td>False</td><td>nan</td><td>nan</td><td>390048.0</td><td>151.266</td><td>False</td><td>193767.0</td><td>108.549</td><td>False</td><td>-1</td><td>nan</td><td>225043.59375</td><td>nan</td><td>76.4076156616</td><td>nan</td><td>10.5193328857</td><td>nan</td><td>0.00036863310379</td><td>False</td><td>False</td><td>nan</td><td>109905.0</td><td>nan</td><td>53.1384048462</td><td>nan</td><td>11.2975</td><td>nan</td><td>0.000524948700331</td><td>nan</td><td>386905.84375</td><td>nan</td><td>219.174835205</td><td>nan</td><td>9.93098640442</td><td>nan</td><td>0.000615048978943</td><td>False</td><td>False</td><td>nan</td><td>244384.0</td><td>nan</td><td>146.711273193</td><td>nan</td><td>10.4298</td><td>nan</td><td>0.000651801296044</td><td>False</td><td>3</td><td>0.999657213688</td><td>8</td></tr>\n",
       "<tr><td>9</td><td>472448755325</td><td>0.115791204221</td><td>0.205536736947</td><td>nan</td><td>nan</td><td>nan</td><td>nan</td><td>9.89384</td><td>0.000396417</td><td>10.6729</td><td>0.000609985</td><td>nan</td><td>nan</td><td>False</td><td>nan</td><td>nan</td><td>400372.0</td><td>146.181</td><td>False</td><td>195357.0</td><td>109.755</td><td>False</td><td>-1</td><td>nan</td><td>nan</td><td>nan</td><td>nan</td><td>nan</td><td>nan</td><td>nan</td><td>nan</td><td>False</td><td>False</td><td>nan</td><td>nan</td><td>nan</td><td>nan</td><td>nan</td><td>nan</td><td>nan</td><td>nan</td><td>nan</td><td>nan</td><td>nan</td><td>nan</td><td>nan</td><td>nan</td><td>nan</td><td>nan</td><td>False</td><td>False</td><td>nan</td><td>nan</td><td>nan</td><td>nan</td><td>nan</td><td>nan</td><td>nan</td><td>nan</td><td>False</td><td>2</td><td>0.899999976158</td><td>9</td></tr>\n",
       "</table><style>table.dataTable {clear: both; width: auto !important; margin: 0 !important;}\n",
       ".dataTables_info, .dataTables_length, .dataTables_filter, .dataTables_paginate{\n",
       "display: inline-block; margin-right: 1em; }\n",
       ".paginate_button { margin-right: 5px; }\n",
       "</style>\n",
       "<script>\n",
       "\n",
       "var astropy_sort_num = function(a, b) {\n",
       "    var a_num = parseFloat(a);\n",
       "    var b_num = parseFloat(b);\n",
       "\n",
       "    if (isNaN(a_num) && isNaN(b_num))\n",
       "        return ((a < b) ? -1 : ((a > b) ? 1 : 0));\n",
       "    else if (!isNaN(a_num) && !isNaN(b_num))\n",
       "        return ((a_num < b_num) ? -1 : ((a_num > b_num) ? 1 : 0));\n",
       "    else\n",
       "        return isNaN(a_num) ? -1 : 1;\n",
       "}\n",
       "\n",
       "require.config({paths: {\n",
       "    datatables: 'https://cdn.datatables.net/1.10.12/js/jquery.dataTables.min'\n",
       "}});\n",
       "require([\"datatables\"], function(){\n",
       "    console.log(\"$('#table4799852672-533200').dataTable()\");\n",
       "    \n",
       "jQuery.extend( jQuery.fn.dataTableExt.oSort, {\n",
       "    \"optionalnum-asc\": astropy_sort_num,\n",
       "    \"optionalnum-desc\": function (a,b) { return -astropy_sort_num(a, b); }\n",
       "});\n",
       "\n",
       "    $('#table4799852672-533200').dataTable({\n",
       "        order: [],\n",
       "        pageLength: 50,\n",
       "        lengthMenu: [[10, 25, 50, 100, 500, 1000, -1], [10, 25, 50, 100, 500, 1000, 'All']],\n",
       "        pagingType: \"full_numbers\",\n",
       "        columnDefs: [{targets: [0, 1, 2, 3, 4, 5, 6, 7, 8, 9, 10, 11, 12, 13, 15, 16, 17, 18, 20, 21, 24, 25, 26, 27, 28, 29, 30, 31, 34, 35, 36, 37, 38, 39, 40, 41, 42, 43, 44, 45, 46, 47, 48, 49, 52, 53, 54, 55, 56, 57, 58, 59, 61, 62, 63], type: \"optionalnum\"}]\n",
       "    });\n",
       "});\n",
       "</script>\n"
      ],
      "text/plain": [
       "<IPython.core.display.HTML object>"
      ]
     },
     "execution_count": 31,
     "metadata": {},
     "output_type": "execute_result"
    }
   ],
   "source": [
    "master_catalogue[:10].show_in_notebook()"
   ]
  },
  {
   "cell_type": "code",
   "execution_count": 32,
   "metadata": {
    "collapsed": true
   },
   "outputs": [],
   "source": [
    "master_catalogue[columns].write(\"{}/vista_merged_catalogue_herschel-stripe-82.fits\".format(TMP_DIR), overwrite=True)"
   ]
  }
 ],
 "metadata": {
  "kernelspec": {
   "display_name": "Python (herschelhelp_internal)",
   "language": "python",
   "name": "helpint"
  },
  "language_info": {
   "codemirror_mode": {
    "name": "ipython",
    "version": 3
   },
   "file_extension": ".py",
   "mimetype": "text/x-python",
   "name": "python",
   "nbconvert_exporter": "python",
   "pygments_lexer": "ipython3",
   "version": "3.6.1"
  }
 },
 "nbformat": 4,
 "nbformat_minor": 2
}
