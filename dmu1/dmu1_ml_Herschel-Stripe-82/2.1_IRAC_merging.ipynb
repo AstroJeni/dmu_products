{
 "cells": [
  {
   "cell_type": "markdown",
   "metadata": {},
   "source": [
    "# Herschel Stripe 82 IRAC merging\n",
    "\n",
    "Both SHELA and SpIES provide IRAC fluxes which have marginally overlapping coverage. We chose which to use here since in order to run in low memory mode we must have one catalogue per band before merging"
   ]
  },
  {
   "cell_type": "code",
   "execution_count": 1,
   "metadata": {},
   "outputs": [
    {
     "name": "stdout",
     "output_type": "stream",
     "text": [
      "This notebook was run with herschelhelp_internal version: \n",
      "44f1ae0 (Thu Nov 30 18:27:54 2017 +0000) [with local modifications]\n"
     ]
    }
   ],
   "source": [
    "from herschelhelp_internal import git_version\n",
    "print(\"This notebook was run with herschelhelp_internal version: \\n{}\".format(git_version()))"
   ]
  },
  {
   "cell_type": "code",
   "execution_count": 2,
   "metadata": {},
   "outputs": [
    {
     "name": "stderr",
     "output_type": "stream",
     "text": [
      "/Users/rs548/anaconda/envs/herschelhelp_internal/lib/python3.6/site-packages/seaborn/apionly.py:6: UserWarning: As seaborn no longer sets a default style on import, the seaborn.apionly module is deprecated. It will be removed in a future version.\n",
      "  warnings.warn(msg, UserWarning)\n"
     ]
    }
   ],
   "source": [
    "%matplotlib inline\n",
    "#%config InlineBackend.figure_format = 'svg'\n",
    "\n",
    "import matplotlib.pyplot as plt\n",
    "plt.rc('figure', figsize=(10, 6))\n",
    "\n",
    "import os\n",
    "import time\n",
    "\n",
    "from astropy import units as u\n",
    "from astropy.coordinates import SkyCoord\n",
    "from astropy.table import Column, Table\n",
    "import numpy as np\n",
    "from pymoc import MOC\n",
    "\n",
    "from herschelhelp_internal.masterlist import merge_catalogues, nb_merge_dist_plot\n",
    "from herschelhelp_internal.utils import coords_to_hpidx, ebv, gen_help_id, inMoc"
   ]
  },
  {
   "cell_type": "code",
   "execution_count": 3,
   "metadata": {
    "collapsed": true
   },
   "outputs": [],
   "source": [
    "TMP_DIR = os.environ.get('TMP_DIR', \"./data_tmp\")\n",
    "OUT_DIR = os.environ.get('OUT_DIR', \"./data\")\n",
    "SUFFIX = os.environ.get('SUFFIX', time.strftime(\"_%Y%m%d\"))\n",
    "\n",
    "try:\n",
    "    os.makedirs(OUT_DIR)\n",
    "except FileExistsError:\n",
    "    pass"
   ]
  },
  {
   "cell_type": "markdown",
   "metadata": {},
   "source": [
    "## I - Reading the prepared pristine catalogues"
   ]
  },
  {
   "cell_type": "code",
   "execution_count": 4,
   "metadata": {
    "collapsed": true
   },
   "outputs": [],
   "source": [
    "shela = Table.read(\"{}/SHELA.fits\".format(TMP_DIR))\n",
    "spies= Table.read(\"{}/SpIES.fits\".format(TMP_DIR))"
   ]
  },
  {
   "cell_type": "markdown",
   "metadata": {},
   "source": [
    "## II - Merging tables\n",
    "\n",
    "We first merge the optical catalogues and then add the infrared ones: HSC, VHS, VICS82, UKIDSS-LAS, PanSTARRS, SHELA, SpIES.\n",
    "\n",
    "At every step, we look at the distribution of the distances to the nearest source in the merged catalogue to determine the best crossmatching radius."
   ]
  },
  {
   "cell_type": "markdown",
   "metadata": {},
   "source": [
    "### SHELA"
   ]
  },
  {
   "cell_type": "code",
   "execution_count": 5,
   "metadata": {
    "collapsed": true
   },
   "outputs": [],
   "source": [
    "master_catalogue = shela\n",
    "master_catalogue['shela_ra'].name = 'ra'\n",
    "master_catalogue['shela_dec'].name = 'dec'\n"
   ]
  },
  {
   "cell_type": "markdown",
   "metadata": {},
   "source": [
    "## Add SpIES"
   ]
  },
  {
   "cell_type": "code",
   "execution_count": 6,
   "metadata": {
    "scrolled": true
   },
   "outputs": [
    {
     "data": {
      "image/png": "[encoded data removed]",
      "text/plain": [
       "<matplotlib.figure.Figure at 0x10ee04a20>"
      ]
     },
     "metadata": {},
     "output_type": "display_data"
    }
   ],
   "source": [
    "nb_merge_dist_plot(\n",
    "    SkyCoord(master_catalogue['ra'], master_catalogue['dec']),\n",
    "    SkyCoord(spies['spies_ra'], spies['spies_dec'])\n",
    ")"
   ]
  },
  {
   "cell_type": "code",
   "execution_count": 7,
   "metadata": {
    "collapsed": true
   },
   "outputs": [],
   "source": [
    "# Given the graph above, we use 1 arc-second radius\n",
    "master_catalogue = merge_catalogues(master_catalogue, spies, \"spies_ra\", \"spies_dec\", radius=1.5*u.arcsec)\n",
    "del spies"
   ]
  },
  {
   "cell_type": "markdown",
   "metadata": {},
   "source": [
    "### Cleaning\n",
    "\n",
    "When we merge the catalogues, astropy masks the non-existent values (e.g. when a row comes only from a catalogue and has no counterparts in the other, the columns from the latest are masked for that row). We indicate to use NaN for masked values for floats columns, False for flag columns and -1 for ID columns."
   ]
  },
  {
   "cell_type": "code",
   "execution_count": 8,
   "metadata": {
    "collapsed": true
   },
   "outputs": [],
   "source": [
    "for col in master_catalogue.colnames:\n",
    "    if \"m_\" in col or \"merr_\" in col or \"f_\" in col or \"ferr_\" in col or \"stellarity\" in col:\n",
    "        master_catalogue[col].fill_value = np.nan\n",
    "    elif \"flag\" in col:\n",
    "        master_catalogue[col].fill_value = 0\n",
    "    elif \"id\" in col:\n",
    "        master_catalogue[col].fill_value = -1\n",
    "        \n",
    "master_catalogue = master_catalogue.filled()"
   ]
  },
  {
   "cell_type": "code",
   "execution_count": 9,
   "metadata": {},
   "outputs": [
    {
     "data": {
      "text/html": [
       "&lt;Table length=10&gt;\n",
       "<table id=\"table4520946264-43489\" class=\"table-striped table-bordered table-condensed\">\n",
       "<thead><tr><th>idx</th><th>shela_intid</th><th>ra</th><th>dec</th><th>f_shela_irac1</th><th>ferr_shela_irac1</th><th>f_ap_shela_irac1</th><th>ferr_ap_shela_irac1</th><th>f_shela_irac2</th><th>ferr_shela_irac2</th><th>f_ap_shela_irac2</th><th>ferr_ap_shela_irac2</th><th>m_shela_irac1</th><th>merr_shela_irac1</th><th>flag_shela_irac1</th><th>m_ap_shela_irac1</th><th>merr_ap_shela_irac1</th><th>m_shela_irac2</th><th>merr_shela_irac2</th><th>flag_shela_irac2</th><th>m_ap_shela_irac2</th><th>merr_ap_shela_irac2</th><th>shela_flag_cleaned</th><th>shela_flag_gaia</th><th>flag_merged</th><th>spies_intid</th><th>f_ap_spies_irac1</th><th>ferr_ap_spies_irac1</th><th>f_spies_irac1</th><th>ferr_spies_irac1</th><th>spies_stellarity_irac1</th><th>f_ap_spies_irac2</th><th>ferr_ap_spies_irac2</th><th>f_spies_irac2</th><th>ferr_spies_irac2</th><th>spies_stellarity_irac2</th><th>m_ap_spies_irac1</th><th>merr_ap_spies_irac1</th><th>m_spies_irac1</th><th>merr_spies_irac1</th><th>flag_spies_irac1</th><th>m_ap_spies_irac2</th><th>merr_ap_spies_irac2</th><th>m_spies_irac2</th><th>merr_spies_irac2</th><th>flag_spies_irac2</th><th>spies_flag_cleaned</th><th>spies_flag_gaia</th></tr></thead>\n",
       "<thead><tr><th></th><th></th><th>deg</th><th>deg</th><th></th><th></th><th></th><th></th><th></th><th></th><th></th><th></th><th></th><th></th><th></th><th></th><th></th><th></th><th></th><th></th><th></th><th></th><th></th><th></th><th></th><th></th><th></th><th></th><th></th><th></th><th></th><th></th><th></th><th></th><th></th><th></th><th></th><th></th><th></th><th></th><th></th><th></th><th></th><th></th><th></th><th></th><th></th><th></th></tr></thead>\n",
       "<tr><td>0</td><td>2051282</td><td>14.3497916167</td><td>0.961694679608</td><td>0.465728</td><td>0.691827</td><td>1.6928</td><td>0.480812</td><td>2.2341</td><td>0.981212</td><td>1.80439</td><td>0.652208</td><td>24.7297</td><td>1.61283</td><td>False</td><td>23.3285</td><td>0.308385</td><td>23.0272</td><td>0.476854</td><td>False</td><td>23.2592</td><td>0.392445</td><td>False</td><td>0</td><td>False</td><td>-1</td><td>nan</td><td>nan</td><td>nan</td><td>nan</td><td>nan</td><td>nan</td><td>nan</td><td>nan</td><td>nan</td><td>nan</td><td>nan</td><td>nan</td><td>nan</td><td>nan</td><td>False</td><td>nan</td><td>nan</td><td>nan</td><td>nan</td><td>False</td><td>False</td><td>0</td></tr>\n",
       "<tr><td>1</td><td>2050914</td><td>14.3505791631</td><td>0.960059016932</td><td>3.15072</td><td>0.864269</td><td>2.73617</td><td>0.505765</td><td>4.49474</td><td>1.15394</td><td>5.66121</td><td>0.690359</td><td>22.654</td><td>0.297826</td><td>False</td><td>22.8072</td><td>0.200692</td><td>22.2682</td><td>0.278742</td><td>False</td><td>22.0177</td><td>0.132401</td><td>False</td><td>0</td><td>False</td><td>-1</td><td>nan</td><td>nan</td><td>nan</td><td>nan</td><td>nan</td><td>nan</td><td>nan</td><td>nan</td><td>nan</td><td>nan</td><td>nan</td><td>nan</td><td>nan</td><td>nan</td><td>False</td><td>nan</td><td>nan</td><td>nan</td><td>nan</td><td>False</td><td>False</td><td>0</td></tr>\n",
       "<tr><td>2</td><td>1107254</td><td>14.2593305003</td><td>-0.0511404322214</td><td>3.10307</td><td>1.79801</td><td>2.85276</td><td>0.525083</td><td>6.56224</td><td>2.54211</td><td>3.02767</td><td>0.708096</td><td>22.6705</td><td>0.629107</td><td>False</td><td>22.7618</td><td>0.199842</td><td>21.8574</td><td>0.420597</td><td>False</td><td>22.6972</td><td>0.253926</td><td>False</td><td>0</td><td>False</td><td>-1</td><td>nan</td><td>nan</td><td>nan</td><td>nan</td><td>nan</td><td>nan</td><td>nan</td><td>nan</td><td>nan</td><td>nan</td><td>nan</td><td>nan</td><td>nan</td><td>nan</td><td>False</td><td>nan</td><td>nan</td><td>nan</td><td>nan</td><td>False</td><td>False</td><td>0</td></tr>\n",
       "<tr><td>3</td><td>1985925</td><td>14.3825699079</td><td>0.890590828022</td><td>0.752242</td><td>1.47509</td><td>1.20344</td><td>0.530947</td><td>5.90514</td><td>1.81347</td><td>4.64077</td><td>0.683744</td><td>24.2091</td><td>2.12905</td><td>False</td><td>23.6989</td><td>0.479016</td><td>21.9719</td><td>0.333431</td><td>False</td><td>22.2335</td><td>0.159966</td><td>False</td><td>0</td><td>False</td><td>-1</td><td>nan</td><td>nan</td><td>nan</td><td>nan</td><td>nan</td><td>nan</td><td>nan</td><td>nan</td><td>nan</td><td>nan</td><td>nan</td><td>nan</td><td>nan</td><td>nan</td><td>False</td><td>nan</td><td>nan</td><td>nan</td><td>nan</td><td>False</td><td>False</td><td>0</td></tr>\n",
       "<tr><td>4</td><td>1106574</td><td>14.2546009134</td><td>-0.049770916218</td><td>3.35767</td><td>1.136</td><td>2.63861</td><td>0.531049</td><td>0.539227</td><td>1.59332</td><td>2.12192</td><td>0.720747</td><td>22.5849</td><td>0.367337</td><td>False</td><td>22.8466</td><td>0.218516</td><td>24.5706</td><td>3.20816</td><td>False</td><td>23.0832</td><td>0.368789</td><td>False</td><td>0</td><td>False</td><td>-1</td><td>nan</td><td>nan</td><td>nan</td><td>nan</td><td>nan</td><td>nan</td><td>nan</td><td>nan</td><td>nan</td><td>nan</td><td>nan</td><td>nan</td><td>nan</td><td>nan</td><td>False</td><td>nan</td><td>nan</td><td>nan</td><td>nan</td><td>False</td><td>False</td><td>0</td></tr>\n",
       "<tr><td>5</td><td>2105673</td><td>14.4939441121</td><td>1.02178011252</td><td>0.798558</td><td>0.470993</td><td>1.02898</td><td>0.533446</td><td>2.5592</td><td>0.593959</td><td>3.57916</td><td>0.676669</td><td>24.1442</td><td>0.640372</td><td>False</td><td>23.869</td><td>0.562872</td><td>22.8797</td><td>0.251986</td><td>False</td><td>22.5155</td><td>0.205267</td><td>False</td><td>0</td><td>False</td><td>-1</td><td>nan</td><td>nan</td><td>nan</td><td>nan</td><td>nan</td><td>nan</td><td>nan</td><td>nan</td><td>nan</td><td>nan</td><td>nan</td><td>nan</td><td>nan</td><td>nan</td><td>False</td><td>nan</td><td>nan</td><td>nan</td><td>nan</td><td>False</td><td>False</td><td>0</td></tr>\n",
       "<tr><td>6</td><td>2080939</td><td>14.4193031782</td><td>0.993783913697</td><td>2.26207</td><td>0.928799</td><td>2.6498</td><td>0.540235</td><td>3.75859</td><td>1.18044</td><td>3.90746</td><td>0.681168</td><td>23.0137</td><td>0.4458</td><td>False</td><td>22.842</td><td>0.221358</td><td>22.4624</td><td>0.340993</td><td>False</td><td>22.4203</td><td>0.189271</td><td>False</td><td>0</td><td>False</td><td>-1</td><td>nan</td><td>nan</td><td>nan</td><td>nan</td><td>nan</td><td>nan</td><td>nan</td><td>nan</td><td>nan</td><td>nan</td><td>nan</td><td>nan</td><td>nan</td><td>nan</td><td>False</td><td>nan</td><td>nan</td><td>nan</td><td>nan</td><td>False</td><td>False</td><td>0</td></tr>\n",
       "<tr><td>7</td><td>2081956</td><td>14.419016466</td><td>0.992921647166</td><td>3.33556</td><td>1.04483</td><td>4.11171</td><td>0.544713</td><td>3.20046</td><td>1.39965</td><td>5.0543</td><td>0.707561</td><td>22.5921</td><td>0.340097</td><td>False</td><td>22.3649</td><td>0.143836</td><td>22.637</td><td>0.474823</td><td>False</td><td>22.1408</td><td>0.151994</td><td>False</td><td>0</td><td>False</td><td>-1</td><td>nan</td><td>nan</td><td>nan</td><td>nan</td><td>nan</td><td>nan</td><td>nan</td><td>nan</td><td>nan</td><td>nan</td><td>nan</td><td>nan</td><td>nan</td><td>nan</td><td>False</td><td>nan</td><td>nan</td><td>nan</td><td>nan</td><td>False</td><td>False</td><td>0</td></tr>\n",
       "<tr><td>8</td><td>2111783</td><td>14.4902358517</td><td>1.02805449882</td><td>2.6552</td><td>0.667202</td><td>3.32084</td><td>0.545219</td><td>3.44337</td><td>0.848919</td><td>4.39883</td><td>0.687474</td><td>22.8398</td><td>0.272826</td><td>False</td><td>22.5969</td><td>0.178257</td><td>22.5575</td><td>0.267674</td><td>False</td><td>22.2917</td><td>0.169685</td><td>False</td><td>0</td><td>False</td><td>-1</td><td>nan</td><td>nan</td><td>nan</td><td>nan</td><td>nan</td><td>nan</td><td>nan</td><td>nan</td><td>nan</td><td>nan</td><td>nan</td><td>nan</td><td>nan</td><td>nan</td><td>False</td><td>nan</td><td>nan</td><td>nan</td><td>nan</td><td>False</td><td>False</td><td>0</td></tr>\n",
       "<tr><td>9</td><td>2055344</td><td>14.3469393345</td><td>0.966328568643</td><td>0.249007</td><td>0.866207</td><td>1.0363</td><td>0.545875</td><td>2.38862</td><td>0.975837</td><td>2.50467</td><td>0.621138</td><td>25.4095</td><td>3.7769</td><td>False</td><td>23.8613</td><td>0.571919</td><td>22.9546</td><td>0.443563</td><td>False</td><td>22.9031</td><td>0.269254</td><td>False</td><td>0</td><td>False</td><td>-1</td><td>nan</td><td>nan</td><td>nan</td><td>nan</td><td>nan</td><td>nan</td><td>nan</td><td>nan</td><td>nan</td><td>nan</td><td>nan</td><td>nan</td><td>nan</td><td>nan</td><td>False</td><td>nan</td><td>nan</td><td>nan</td><td>nan</td><td>False</td><td>False</td><td>0</td></tr>\n",
       "</table><style>table.dataTable {clear: both; width: auto !important; margin: 0 !important;}\n",
       ".dataTables_info, .dataTables_length, .dataTables_filter, .dataTables_paginate{\n",
       "display: inline-block; margin-right: 1em; }\n",
       ".paginate_button { margin-right: 5px; }\n",
       "</style>\n",
       "<script>\n",
       "\n",
       "var astropy_sort_num = function(a, b) {\n",
       "    var a_num = parseFloat(a);\n",
       "    var b_num = parseFloat(b);\n",
       "\n",
       "    if (isNaN(a_num) && isNaN(b_num))\n",
       "        return ((a < b) ? -1 : ((a > b) ? 1 : 0));\n",
       "    else if (!isNaN(a_num) && !isNaN(b_num))\n",
       "        return ((a_num < b_num) ? -1 : ((a_num > b_num) ? 1 : 0));\n",
       "    else\n",
       "        return isNaN(a_num) ? -1 : 1;\n",
       "}\n",
       "\n",
       "require.config({paths: {\n",
       "    datatables: 'https://cdn.datatables.net/1.10.12/js/jquery.dataTables.min'\n",
       "}});\n",
       "require([\"datatables\"], function(){\n",
       "    console.log(\"$('#table4520946264-43489').dataTable()\");\n",
       "    \n",
       "jQuery.extend( jQuery.fn.dataTableExt.oSort, {\n",
       "    \"optionalnum-asc\": astropy_sort_num,\n",
       "    \"optionalnum-desc\": function (a,b) { return -astropy_sort_num(a, b); }\n",
       "});\n",
       "\n",
       "    $('#table4520946264-43489').dataTable({\n",
       "        order: [],\n",
       "        pageLength: 50,\n",
       "        lengthMenu: [[10, 25, 50, 100, 500, 1000, -1], [10, 25, 50, 100, 500, 1000, 'All']],\n",
       "        pagingType: \"full_numbers\",\n",
       "        columnDefs: [{targets: [0, 1, 2, 3, 4, 5, 6, 7, 8, 9, 10, 11, 12, 13, 15, 16, 17, 18, 20, 21, 23, 26, 27, 28, 29, 30, 31, 32, 33, 34, 35, 36, 37, 38, 39, 41, 42, 43, 44, 47], type: \"optionalnum\"}]\n",
       "    });\n",
       "});\n",
       "</script>\n"
      ],
      "text/plain": [
       "<IPython.core.display.HTML object>"
      ]
     },
     "execution_count": 9,
     "metadata": {},
     "output_type": "execute_result"
    }
   ],
   "source": [
    "master_catalogue[:10].show_in_notebook()"
   ]
  },
  {
   "cell_type": "markdown",
   "metadata": {},
   "source": [
    "## III - Merging flags and stellarity\n",
    "\n",
    "Each pristine catalogue contains a flag indicating if the source was associated to a another nearby source that was removed during the cleaning process.  We merge these flags in a single one."
   ]
  },
  {
   "cell_type": "code",
   "execution_count": 10,
   "metadata": {
    "collapsed": true
   },
   "outputs": [],
   "source": [
    "flag_cleaned_columns = [column for column in master_catalogue.colnames\n",
    "                        if 'flag_cleaned' in column]\n",
    "\n",
    "flag_column = np.zeros(len(master_catalogue), dtype=bool)\n",
    "for column in flag_cleaned_columns:\n",
    "    flag_column |= master_catalogue[column]\n",
    "    \n",
    "master_catalogue.add_column(Column(data=flag_column, name=\"irac_flag_cleaned\"))\n",
    "master_catalogue.remove_columns(flag_cleaned_columns)"
   ]
  },
  {
   "cell_type": "markdown",
   "metadata": {},
   "source": [
    "Each pristine catalogue contains a flag indicating the probability of a source being a Gaia object (0: not a Gaia object, 1: possibly, 2: probably, 3: definitely).  We merge these flags taking the highest value."
   ]
  },
  {
   "cell_type": "code",
   "execution_count": 11,
   "metadata": {
    "collapsed": true
   },
   "outputs": [],
   "source": [
    "flag_gaia_columns = [column for column in master_catalogue.colnames\n",
    "                     if 'flag_gaia' in column]\n",
    "\n",
    "master_catalogue.add_column(Column(\n",
    "    data=np.max([master_catalogue[column] for column in flag_gaia_columns], axis=0),\n",
    "    name=\"irac_flag_gaia\"\n",
    "))\n",
    "master_catalogue.remove_columns(flag_gaia_columns)"
   ]
  },
  {
   "cell_type": "markdown",
   "metadata": {},
   "source": [
    "Each prisitine catalogue may contain one or several stellarity columns indicating the probability (0 to 1) of each source being a star.  We merge these columns taking the highest value."
   ]
  },
  {
   "cell_type": "code",
   "execution_count": 12,
   "metadata": {},
   "outputs": [
    {
     "name": "stderr",
     "output_type": "stream",
     "text": [
      "/Users/rs548/anaconda/envs/herschelhelp_internal/lib/python3.6/site-packages/ipykernel/__main__.py:5: RuntimeWarning: All-NaN axis encountered\n"
     ]
    }
   ],
   "source": [
    "stellarity_columns = [column for column in master_catalogue.colnames\n",
    "                      if 'stellarity' in column]\n",
    "\n",
    "master_catalogue.add_column(Column(\n",
    "    data=np.nanmax([master_catalogue[column] for column in stellarity_columns], axis=0),\n",
    "    name=\"irac_stellarity\"\n",
    "))\n",
    "master_catalogue.remove_columns(stellarity_columns)"
   ]
  },
  {
   "cell_type": "markdown",
   "metadata": {},
   "source": [
    "## VIII - Cross-identification table\n",
    "\n",
    "We are producing a table associating to each HELP identifier, the identifiers of the sources in the pristine catalogue. This can be used to easily get additional information from them."
   ]
  },
  {
   "cell_type": "code",
   "execution_count": 22,
   "metadata": {
    "collapsed": true
   },
   "outputs": [],
   "source": [
    "master_catalogue.add_column(Column(data=(np.char.array(master_catalogue['shela_intid'].astype(str)) \n",
    "                                    +  np.char.array(master_catalogue['spies_intid'].astype(str) )), \n",
    "                              name=\"irac_intid\"))\n"
   ]
  },
  {
   "cell_type": "code",
   "execution_count": 23,
   "metadata": {},
   "outputs": [
    {
     "name": "stdout",
     "output_type": "stream",
     "text": [
      "['shela_intid', 'spies_intid', 'irac_intid']\n"
     ]
    }
   ],
   "source": [
    "\n",
    "id_names = []\n",
    "for col in master_catalogue.colnames:\n",
    "    if '_id' in col:\n",
    "        id_names += [col]\n",
    "    if '_intid' in col:\n",
    "        id_names += [col]\n",
    "        \n",
    "print(id_names)"
   ]
  },
  {
   "cell_type": "code",
   "execution_count": 24,
   "metadata": {
    "collapsed": true
   },
   "outputs": [],
   "source": [
    "#master_catalogue[id_names].write(\n",
    "#    \"{}/master_list_irac_cross_ident_herschel-stripe-82{}.fits\".format(OUT_DIR, SUFFIX), overwrite=True)\n",
    "\n",
    "#Lets leave the shela and spies ids in so that the final cross ident table is complete\n",
    "#master_catalogue.remove_columns(['shela_intid', 'spies_intid'])"
   ]
  },
  {
   "cell_type": "markdown",
   "metadata": {},
   "source": [
    "## VI - Choosing between multiple values for the same filter\n",
    "\n",
    "Both SHELA and SpIES provide IRAC1 and IRAC2 fluxes. SpIES seems to go deeper and neither apear to suffer from the bright drop off that affects both SERVS and SWIRE."
   ]
  },
  {
   "cell_type": "code",
   "execution_count": 13,
   "metadata": {
    "collapsed": true
   },
   "outputs": [],
   "source": [
    "seip = Table.read(\"../../dmu0/dmu0_SEIP/data/SEIP_Herschel-Stripe-82.fits\")\n",
    "seip_coords = SkyCoord(seip['ra'], seip['dec'])\n",
    "idx, d2d, _ = seip_coords.match_to_catalog_sky(SkyCoord(master_catalogue['ra'], master_catalogue['dec']))\n",
    "mask = d2d <= 2 * u.arcsec"
   ]
  },
  {
   "cell_type": "code",
   "execution_count": 14,
   "metadata": {},
   "outputs": [
    {
     "data": {
      "image/png": "[encoded data removed]",
      "text/plain": [
       "<matplotlib.figure.Figure at 0x11b3a3dd8>"
      ]
     },
     "metadata": {},
     "output_type": "display_data"
    }
   ],
   "source": [
    "# servs -> shela and swire -> spies\n",
    "fig, ax = plt.subplots()\n",
    "ax.scatter(seip['i1_f_ap1'][mask], master_catalogue[idx[mask]]['f_ap_shela_irac1'], label=\"SHELA\", s=2.)\n",
    "ax.scatter(seip['i1_f_ap1'][mask], master_catalogue[idx[mask]]['f_ap_spies_irac1'], label=\"SpIES\", s=2.)\n",
    "ax.set_xscale('log')\n",
    "ax.set_yscale('log')\n",
    "ax.set_xlabel(\"SEIP flux [μJy]\")\n",
    "ax.set_ylabel(\"SHELA/SpIES flux [μJy]\")\n",
    "ax.set_title(\"IRAC 1\")\n",
    "ax.legend()\n",
    "ax.axvline(2000, color=\"black\", linestyle=\"--\", linewidth=1.)\n",
    "ax.plot(seip['i1_f_ap1'][mask], seip['i1_f_ap1'][mask], linewidth=.1, color=\"black\", alpha=.5);"
   ]
  },
  {
   "cell_type": "code",
   "execution_count": 15,
   "metadata": {},
   "outputs": [
    {
     "data": {
      "image/png": "[encoded data removed]",
      "text/plain": [
       "<matplotlib.figure.Figure at 0x11b8e5630>"
      ]
     },
     "metadata": {},
     "output_type": "display_data"
    }
   ],
   "source": [
    "fig, ax = plt.subplots()\n",
    "ax.scatter(seip['i2_f_ap1'][mask], master_catalogue[idx[mask]]['f_ap_shela_irac2'], label=\"SHELA\", s=2.)\n",
    "ax.scatter(seip['i2_f_ap1'][mask], master_catalogue[idx[mask]]['f_ap_spies_irac2'], label=\"SpIES\", s=2.)\n",
    "ax.set_xscale('log')\n",
    "ax.set_yscale('log')\n",
    "ax.set_xlabel(\"SEIP flux [μJy]\")\n",
    "ax.set_ylabel(\"SHELA/SpIES flux [μJy]\")\n",
    "ax.set_title(\"IRAC 2\")\n",
    "ax.legend()\n",
    "ax.axvline(2000, color=\"black\", linestyle=\"--\", linewidth=1.)\n",
    "\n",
    "ax.plot(seip['i1_f_ap2'][mask], seip['i1_f_ap2'][mask], linewidth=.1, color=\"black\", alpha=.5);"
   ]
  },
  {
   "cell_type": "markdown",
   "metadata": {},
   "source": [
    "When both SHELA and SpIES fluxes are provided, we use the SpIES flux.\n",
    "\n",
    "We create a table indicating for each source the origin on the IRAC1 and IRAC2 fluxes that will be saved separately."
   ]
  },
  {
   "cell_type": "code",
   "execution_count": 16,
   "metadata": {
    "collapsed": true
   },
   "outputs": [],
   "source": [
    "irac_origin = Table()\n",
    "irac_origin.add_column(master_catalogue['irac_intid'])"
   ]
  },
  {
   "cell_type": "code",
   "execution_count": 17,
   "metadata": {},
   "outputs": [
    {
     "name": "stdout",
     "output_type": "stream",
     "text": [
      "64790 sources with SHELA flux\n",
      "62528 sources with SpIES flux\n",
      "20523 sources with SHELA and SpIES flux\n",
      "64790 sources for which we use SHELA\n",
      "42005 sources for which we use SpIES\n"
     ]
    }
   ],
   "source": [
    "# IRAC1 aperture flux and magnitudes\n",
    "has_shela = ~np.isnan(master_catalogue['f_ap_shela_irac1'])\n",
    "has_spies = ~np.isnan(master_catalogue['f_ap_spies_irac1'])\n",
    "has_both = has_shela & has_spies\n",
    "\n",
    "print(\"{} sources with SHELA flux\".format(np.sum(has_shela)))\n",
    "print(\"{} sources with SpIES flux\".format(np.sum(has_spies)))\n",
    "print(\"{} sources with SHELA and SpIES flux\".format(np.sum(has_both)))\n",
    "\n",
    "use_shela = has_shela\n",
    "use_spies = (has_spies & ~has_shela)\n",
    "\n",
    "print(\"{} sources for which we use SHELA\".format(np.sum(use_shela)))\n",
    "print(\"{} sources for which we use SpIES\".format(np.sum(use_spies)))\n",
    "\n",
    "f_ap_irac = np.full(len(master_catalogue), np.nan)\n",
    "f_ap_irac[use_shela] = master_catalogue['f_ap_shela_irac1'][use_shela]\n",
    "f_ap_irac[use_spies] = master_catalogue['f_ap_spies_irac1'][use_spies]\n",
    "\n",
    "ferr_ap_irac = np.full(len(master_catalogue), np.nan)\n",
    "ferr_ap_irac[use_shela] = master_catalogue['ferr_ap_shela_irac1'][use_shela]\n",
    "ferr_ap_irac[use_spies] = master_catalogue['ferr_ap_spies_irac1'][use_spies]\n",
    "\n",
    "m_ap_irac = np.full(len(master_catalogue), np.nan)\n",
    "m_ap_irac[use_shela] = master_catalogue['m_ap_shela_irac1'][use_shela]\n",
    "m_ap_irac[use_spies] = master_catalogue['m_ap_spies_irac1'][use_spies]\n",
    "\n",
    "merr_ap_irac = np.full(len(master_catalogue), np.nan)\n",
    "merr_ap_irac[use_shela] = master_catalogue['merr_ap_shela_irac1'][use_shela]\n",
    "merr_ap_irac[use_spies] = master_catalogue['merr_ap_spies_irac1'][use_spies]\n",
    "\n",
    "master_catalogue.add_column(Column(data=f_ap_irac, name=\"f_ap_irac_i1\"))\n",
    "master_catalogue.add_column(Column(data=ferr_ap_irac, name=\"ferr_ap_irac_i1\"))\n",
    "master_catalogue.add_column(Column(data=m_ap_irac, name=\"m_ap_irac_i1\"))\n",
    "master_catalogue.add_column(Column(data=merr_ap_irac, name=\"merr_ap_irac_i1\"))\n",
    "\n",
    "master_catalogue.remove_columns(['f_ap_shela_irac1', 'f_ap_spies_irac1', \n",
    "                                 'ferr_ap_shela_irac1', 'ferr_ap_spies_irac1', \n",
    "                                 'm_ap_shela_irac1', 'm_ap_spies_irac1',\n",
    "                                 'merr_ap_shela_irac1', 'merr_ap_spies_irac1'])\n",
    "\n",
    "origin = np.full(len(master_catalogue), '     ', dtype='<U5')\n",
    "origin[use_shela] = \"SHELA\"\n",
    "origin[use_spies] = \"SpIES\"\n",
    "irac_origin.add_column(Column(data=origin, name=\"IRAC1_ap\"))"
   ]
  },
  {
   "cell_type": "code",
   "execution_count": 18,
   "metadata": {},
   "outputs": [
    {
     "name": "stdout",
     "output_type": "stream",
     "text": [
      "64790 sources with SHELA total flux\n",
      "62528 sources with SpIES total flux\n",
      "20523 sources with SHELA and SpIES total flux\n",
      "64790 sources for which we use SHELA\n",
      "42005 sources for which we use SpIES\n"
     ]
    }
   ],
   "source": [
    "# IRAC1 total flux and magnitudes\n",
    "has_shela = ~np.isnan(master_catalogue['f_shela_irac1'])\n",
    "has_spies = ~np.isnan(master_catalogue['f_spies_irac1'])\n",
    "has_both = has_shela & has_spies\n",
    "\n",
    "print(\"{} sources with SHELA total flux\".format(np.sum(has_shela)))\n",
    "print(\"{} sources with SpIES total flux\".format(np.sum(has_spies)))\n",
    "print(\"{} sources with SHELA and SpIES total flux\".format(np.sum(has_both)))\n",
    "\n",
    "use_shela = has_shela\n",
    "use_spies = (has_spies & ~has_shela)\n",
    "\n",
    "print(\"{} sources for which we use SHELA\".format(np.sum(use_shela)))\n",
    "print(\"{} sources for which we use SpIES\".format(np.sum(use_spies)))\n",
    "\n",
    "f_ap_irac = np.full(len(master_catalogue), np.nan)\n",
    "f_ap_irac[use_shela] = master_catalogue['f_shela_irac1'][use_shela]\n",
    "f_ap_irac[use_spies] = master_catalogue['f_spies_irac1'][use_spies]\n",
    "\n",
    "ferr_ap_irac = np.full(len(master_catalogue), np.nan)\n",
    "ferr_ap_irac[use_shela] = master_catalogue['ferr_shela_irac1'][use_shela]\n",
    "ferr_ap_irac[use_spies] = master_catalogue['ferr_spies_irac1'][use_spies]\n",
    "\n",
    "flag_irac = np.full(len(master_catalogue), False, dtype=bool)\n",
    "flag_irac[use_shela] = master_catalogue['flag_shela_irac1'][use_shela]\n",
    "flag_irac[use_spies] = master_catalogue['flag_spies_irac1'][use_spies]\n",
    "\n",
    "m_ap_irac = np.full(len(master_catalogue), np.nan)\n",
    "m_ap_irac[use_shela] = master_catalogue['m_shela_irac1'][use_shela]\n",
    "m_ap_irac[use_spies] = master_catalogue['m_spies_irac1'][use_spies]\n",
    "\n",
    "merr_ap_irac = np.full(len(master_catalogue), np.nan)\n",
    "merr_ap_irac[use_shela] = master_catalogue['merr_shela_irac1'][use_shela]\n",
    "merr_ap_irac[use_spies] = master_catalogue['merr_spies_irac1'][use_spies]\n",
    "\n",
    "master_catalogue.add_column(Column(data=f_ap_irac, name=\"f_irac_i1\"))\n",
    "master_catalogue.add_column(Column(data=ferr_ap_irac, name=\"ferr_irac_i1\"))\n",
    "master_catalogue.add_column(Column(data=m_ap_irac, name=\"m_irac_i1\"))\n",
    "master_catalogue.add_column(Column(data=merr_ap_irac, name=\"merr_irac_i1\"))\n",
    "master_catalogue.add_column(Column(data=flag_irac, name=\"flag_irac_i1\"))\n",
    "\n",
    "master_catalogue.remove_columns(['f_shela_irac1', 'f_spies_irac1', \n",
    "                                 'ferr_shela_irac1', 'ferr_spies_irac1', \n",
    "                                 'm_shela_irac1', 'm_spies_irac1',\n",
    "                                 'merr_shela_irac1', 'merr_spies_irac1',\n",
    "                                'flag_shela_irac1', 'flag_spies_irac1'])\n",
    "\n",
    "origin = np.full(len(master_catalogue), '     ', dtype='<U5')\n",
    "origin[use_shela] = \"SHELA\"\n",
    "origin[use_spies] = \"SpIES\"\n",
    "irac_origin.add_column(Column(data=origin, name=\"IRAC1_total\"))"
   ]
  },
  {
   "cell_type": "code",
   "execution_count": 19,
   "metadata": {},
   "outputs": [
    {
     "name": "stdout",
     "output_type": "stream",
     "text": [
      "67537 sources with SHELA flux\n",
      "62528 sources with SpIES flux\n",
      "22955 sources with SHELA and SpIES flux\n",
      "67537 sources for which we use SHELA\n",
      "39573 sources for which we use SpIES\n"
     ]
    }
   ],
   "source": [
    "# IRAC2 aperture flux and magnitudes\n",
    "has_shela = ~np.isnan(master_catalogue['f_ap_shela_irac2'])\n",
    "has_spies = ~np.isnan(master_catalogue['f_ap_spies_irac2'])\n",
    "has_both = has_shela & has_spies\n",
    "\n",
    "print(\"{} sources with SHELA flux\".format(np.sum(has_shela)))\n",
    "print(\"{} sources with SpIES flux\".format(np.sum(has_spies)))\n",
    "print(\"{} sources with SHELA and SpIES flux\".format(np.sum(has_both)))\n",
    "\n",
    "use_shela = has_shela\n",
    "use_spies = (has_spies & ~has_shela)\n",
    "\n",
    "print(\"{} sources for which we use SHELA\".format(np.sum(use_shela)))\n",
    "print(\"{} sources for which we use SpIES\".format(np.sum(use_spies)))\n",
    "\n",
    "f_ap_irac = np.full(len(master_catalogue), np.nan)\n",
    "f_ap_irac[use_shela] = master_catalogue['f_ap_shela_irac2'][use_shela]\n",
    "f_ap_irac[use_spies] = master_catalogue['f_ap_spies_irac2'][use_spies]\n",
    "\n",
    "ferr_ap_irac = np.full(len(master_catalogue), np.nan)\n",
    "ferr_ap_irac[use_shela] = master_catalogue['ferr_ap_shela_irac2'][use_shela]\n",
    "ferr_ap_irac[use_spies] = master_catalogue['ferr_ap_spies_irac2'][use_spies]\n",
    "\n",
    "m_ap_irac = np.full(len(master_catalogue), np.nan)\n",
    "m_ap_irac[use_shela] = master_catalogue['m_ap_shela_irac2'][use_shela]\n",
    "m_ap_irac[use_spies] = master_catalogue['m_ap_spies_irac2'][use_spies]\n",
    "\n",
    "merr_ap_irac = np.full(len(master_catalogue), np.nan)\n",
    "merr_ap_irac[use_shela] = master_catalogue['merr_ap_shela_irac2'][use_shela]\n",
    "merr_ap_irac[use_spies] = master_catalogue['merr_ap_spies_irac2'][use_spies]\n",
    "\n",
    "master_catalogue.add_column(Column(data=f_ap_irac, name=\"f_ap_irac_i2\"))\n",
    "master_catalogue.add_column(Column(data=ferr_ap_irac, name=\"ferr_ap_irac_i2\"))\n",
    "master_catalogue.add_column(Column(data=m_ap_irac, name=\"m_ap_irac_i2\"))\n",
    "master_catalogue.add_column(Column(data=merr_ap_irac, name=\"merr_ap_irac_i2\"))\n",
    "\n",
    "master_catalogue.remove_columns(['f_ap_shela_irac2', 'f_ap_spies_irac2', \n",
    "                                 'ferr_ap_shela_irac2', 'ferr_ap_spies_irac2', \n",
    "                                 'm_ap_shela_irac2', 'm_ap_spies_irac2',\n",
    "                                 'merr_ap_shela_irac2', 'merr_ap_spies_irac2'])\n",
    "\n",
    "origin = np.full(len(master_catalogue), '     ', dtype='<U5')\n",
    "origin[use_shela] = \"SHELA\"\n",
    "origin[use_spies] = \"SpIES\"\n",
    "irac_origin.add_column(Column(data=origin, name=\"IRAC2_ap\"))"
   ]
  },
  {
   "cell_type": "code",
   "execution_count": 20,
   "metadata": {},
   "outputs": [
    {
     "name": "stdout",
     "output_type": "stream",
     "text": [
      "67537 sources with SHELA total flux\n",
      "62528 sources with SpIES total flux\n",
      "22955 sources with SHELA and SpIES total flux\n",
      "67537 sources for which we use SHELA\n",
      "39573 sources for which we use SpIES\n"
     ]
    }
   ],
   "source": [
    "# IRAC2 total flux and magnitudes\n",
    "has_shela = ~np.isnan(master_catalogue['f_shela_irac2'])\n",
    "has_spies = ~np.isnan(master_catalogue['f_spies_irac2'])\n",
    "has_both = has_shela & has_spies\n",
    "\n",
    "print(\"{} sources with SHELA total flux\".format(np.sum(has_shela)))\n",
    "print(\"{} sources with SpIES total flux\".format(np.sum(has_spies)))\n",
    "print(\"{} sources with SHELA and SpIES total flux\".format(np.sum(has_both)))\n",
    "\n",
    "use_shela = has_shela\n",
    "use_spies = (has_spies & ~has_shela)\n",
    "\n",
    "print(\"{} sources for which we use SHELA\".format(np.sum(use_shela)))\n",
    "print(\"{} sources for which we use SpIES\".format(np.sum(use_spies)))\n",
    "\n",
    "f_ap_irac = np.full(len(master_catalogue), np.nan)\n",
    "f_ap_irac[use_shela] = master_catalogue['f_shela_irac2'][use_shela]\n",
    "f_ap_irac[use_spies] = master_catalogue['f_spies_irac2'][use_spies]\n",
    "\n",
    "ferr_ap_irac = np.full(len(master_catalogue), np.nan)\n",
    "ferr_ap_irac[use_shela] = master_catalogue['ferr_shela_irac2'][use_shela]\n",
    "ferr_ap_irac[use_spies] = master_catalogue['ferr_spies_irac2'][use_spies]\n",
    "\n",
    "flag_irac = np.full(len(master_catalogue), False, dtype=bool)\n",
    "flag_irac[use_shela] = master_catalogue['flag_shela_irac2'][use_shela]\n",
    "flag_irac[use_spies] = master_catalogue['flag_spies_irac2'][use_spies]\n",
    "\n",
    "m_ap_irac = np.full(len(master_catalogue), np.nan)\n",
    "m_ap_irac[use_shela] = master_catalogue['m_shela_irac2'][use_shela]\n",
    "m_ap_irac[use_spies] = master_catalogue['m_spies_irac2'][use_spies]\n",
    "\n",
    "merr_ap_irac = np.full(len(master_catalogue), np.nan)\n",
    "merr_ap_irac[use_shela] = master_catalogue['merr_shela_irac2'][use_shela]\n",
    "merr_ap_irac[use_spies] = master_catalogue['merr_spies_irac2'][use_spies]\n",
    "\n",
    "master_catalogue.add_column(Column(data=f_ap_irac, name=\"f_irac_i2\"))\n",
    "master_catalogue.add_column(Column(data=ferr_ap_irac, name=\"ferr_irac_i2\"))\n",
    "master_catalogue.add_column(Column(data=m_ap_irac, name=\"m_irac_i2\"))\n",
    "master_catalogue.add_column(Column(data=merr_ap_irac, name=\"merr_irac_i2\"))\n",
    "master_catalogue.add_column(Column(data=flag_irac, name=\"flag_irac_i2\"))\n",
    "\n",
    "master_catalogue.remove_columns(['f_shela_irac2', 'f_spies_irac2', \n",
    "                                 'ferr_shela_irac2', 'ferr_spies_irac2', \n",
    "                                 'm_shela_irac2', 'm_spies_irac2',\n",
    "                                 'merr_shela_irac2', 'merr_spies_irac2',\n",
    "                                'flag_shela_irac2', 'flag_spies_irac2'])\n",
    "\n",
    "origin = np.full(len(master_catalogue), '     ', dtype='<U5')\n",
    "origin[use_shela] = \"SHELA\"\n",
    "origin[use_spies] = \"SpIES\"\n",
    "irac_origin.add_column(Column(data=origin, name=\"IRAC2_total\"))"
   ]
  },
  {
   "cell_type": "code",
   "execution_count": 21,
   "metadata": {
    "collapsed": true
   },
   "outputs": [],
   "source": [
    "irac_origin.write(\"{}/herschel-stripe-82_irac_fluxes_origins{}.fits\".format(OUT_DIR, SUFFIX), overwrite = True)"
   ]
  },
  {
   "cell_type": "markdown",
   "metadata": {},
   "source": [
    "## IX - Saving the catalogue"
   ]
  },
  {
   "cell_type": "code",
   "execution_count": 25,
   "metadata": {},
   "outputs": [
    {
     "data": {
      "text/plain": [
       "['shela_intid',\n",
       " 'ra',\n",
       " 'dec',\n",
       " 'flag_merged',\n",
       " 'spies_intid',\n",
       " 'irac_flag_cleaned',\n",
       " 'irac_flag_gaia',\n",
       " 'irac_stellarity',\n",
       " 'f_ap_irac_i1',\n",
       " 'ferr_ap_irac_i1',\n",
       " 'm_ap_irac_i1',\n",
       " 'merr_ap_irac_i1',\n",
       " 'f_irac_i1',\n",
       " 'ferr_irac_i1',\n",
       " 'm_irac_i1',\n",
       " 'merr_irac_i1',\n",
       " 'flag_irac_i1',\n",
       " 'f_ap_irac_i2',\n",
       " 'ferr_ap_irac_i2',\n",
       " 'm_ap_irac_i2',\n",
       " 'merr_ap_irac_i2',\n",
       " 'f_irac_i2',\n",
       " 'ferr_irac_i2',\n",
       " 'm_irac_i2',\n",
       " 'merr_irac_i2',\n",
       " 'flag_irac_i2',\n",
       " 'irac_intid']"
      ]
     },
     "execution_count": 25,
     "metadata": {},
     "output_type": "execute_result"
    }
   ],
   "source": [
    "master_catalogue.colnames"
   ]
  },
  {
   "cell_type": "code",
   "execution_count": 26,
   "metadata": {
    "collapsed": true
   },
   "outputs": [],
   "source": [
    "master_catalogue[\"ra\"].name = \"irac_ra\"\n",
    "master_catalogue[\"dec\"].name = \"irac_dec\"\n",
    "master_catalogue[\"flag_merged\"].name = \"irac_flag_merged\""
   ]
  },
  {
   "cell_type": "code",
   "execution_count": 32,
   "metadata": {
    "collapsed": true
   },
   "outputs": [],
   "source": [
    "columns = [\"irac_intid\", \"shela_intid\", \"spies_intid\",\n",
    "           'irac_ra', 'irac_dec', 'irac_flag_merged',  \n",
    "           'irac_flag_cleaned',  'irac_flag_gaia', 'irac_stellarity']\n",
    "\n",
    "bands = [column[5:] for column in master_catalogue.colnames if 'f_ap' in column]\n",
    "for band in bands:\n",
    "    columns += [\"f_ap_{}\".format(band), \"ferr_ap_{}\".format(band),\n",
    "                \"m_ap_{}\".format(band), \"merr_ap_{}\".format(band),\n",
    "                \"f_{}\".format(band), \"ferr_{}\".format(band),\n",
    "                \"m_{}\".format(band), \"merr_{}\".format(band),\n",
    "                \"flag_{}\".format(band)]    \n"
   ]
  },
  {
   "cell_type": "code",
   "execution_count": 33,
   "metadata": {},
   "outputs": [
    {
     "name": "stdout",
     "output_type": "stream",
     "text": [
      "Missing columns: set()\n"
     ]
    }
   ],
   "source": [
    "# We check for columns in the master catalogue that we will not save to disk.\n",
    "print(\"Missing columns: {}\".format(set(master_catalogue.colnames) - set(columns)))"
   ]
  },
  {
   "cell_type": "code",
   "execution_count": 37,
   "metadata": {},
   "outputs": [
    {
     "data": {
      "text/html": [
       "&lt;Table length=10&gt;\n",
       "<table id=\"table4729024808-856026\" class=\"table-striped table-bordered table-condensed\">\n",
       "<thead><tr><th>idx</th><th>shela_intid</th><th>irac_ra</th><th>irac_dec</th><th>irac_flag_merged</th><th>spies_intid</th><th>irac_flag_cleaned</th><th>irac_flag_gaia</th><th>irac_stellarity</th><th>f_ap_irac_i1</th><th>ferr_ap_irac_i1</th><th>m_ap_irac_i1</th><th>merr_ap_irac_i1</th><th>f_irac_i1</th><th>ferr_irac_i1</th><th>m_irac_i1</th><th>merr_irac_i1</th><th>flag_irac_i1</th><th>f_ap_irac_i2</th><th>ferr_ap_irac_i2</th><th>m_ap_irac_i2</th><th>merr_ap_irac_i2</th><th>f_irac_i2</th><th>ferr_irac_i2</th><th>m_irac_i2</th><th>merr_irac_i2</th><th>flag_irac_i2</th><th>irac_intid</th></tr></thead>\n",
       "<thead><tr><th></th><th></th><th>deg</th><th>deg</th><th></th><th></th><th></th><th></th><th></th><th></th><th></th><th></th><th></th><th></th><th></th><th></th><th></th><th></th><th></th><th></th><th></th><th></th><th></th><th></th><th></th><th></th><th></th><th></th></tr></thead>\n",
       "<tr><td>0</td><td>2051282</td><td>14.3497916167</td><td>0.961694679608</td><td>False</td><td>-1</td><td>False</td><td>0</td><td>nan</td><td>1.69280123711</td><td>0.480811774731</td><td>23.3284912109</td><td>0.308385133743</td><td>0.465728461742</td><td>0.691826999187</td><td>24.7296676636</td><td>1.61283159256</td><td>False</td><td>1.80439436436</td><td>0.65220785141</td><td>23.2591705322</td><td>0.392445057631</td><td>2.23409605026</td><td>0.981211781502</td><td>23.0272445679</td><td>0.476853758097</td><td>False</td><td>2051282-1</td></tr>\n",
       "<tr><td>1</td><td>2050914</td><td>14.3505791631</td><td>0.960059016932</td><td>False</td><td>-1</td><td>False</td><td>0</td><td>nan</td><td>2.73616528511</td><td>0.505764901638</td><td>22.8071517944</td><td>0.200692266226</td><td>3.15072250366</td><td>0.864268958569</td><td>22.6539764404</td><td>0.297826290131</td><td>False</td><td>5.66121339798</td><td>0.690359175205</td><td>22.0177230835</td><td>0.1324005723</td><td>4.49474191666</td><td>1.15393900871</td><td>22.2682418823</td><td>0.278741985559</td><td>False</td><td>2050914-1</td></tr>\n",
       "<tr><td>2</td><td>1107254</td><td>14.2593305003</td><td>-0.0511404322214</td><td>False</td><td>-1</td><td>False</td><td>0</td><td>nan</td><td>2.85275697708</td><td>0.5250826478</td><td>22.7618408203</td><td>0.199842199683</td><td>3.10307025909</td><td>1.79800748825</td><td>22.6705245972</td><td>0.629106521606</td><td>False</td><td>3.02767157555</td><td>0.708095729351</td><td>22.697227478</td><td>0.253926217556</td><td>6.56224393845</td><td>2.54210805893</td><td>21.8573684692</td><td>0.420596778393</td><td>False</td><td>1107254-1</td></tr>\n",
       "<tr><td>3</td><td>1985925</td><td>14.3825699079</td><td>0.890590828022</td><td>False</td><td>-1</td><td>False</td><td>0</td><td>nan</td><td>1.20344221592</td><td>0.530946552753</td><td>23.6989364624</td><td>0.479015856981</td><td>0.752241671085</td><td>1.47508919239</td><td>24.2091064453</td><td>2.12904691696</td><td>False</td><td>4.6407699585</td><td>0.6837438941</td><td>22.2335281372</td><td>0.159966021776</td><td>5.9051399231</td><td>1.81347489357</td><td>21.9719238281</td><td>0.333430767059</td><td>False</td><td>1985925-1</td></tr>\n",
       "<tr><td>4</td><td>1106574</td><td>14.2546009134</td><td>-0.049770916218</td><td>False</td><td>-1</td><td>False</td><td>0</td><td>nan</td><td>2.63860559464</td><td>0.531048536301</td><td>22.8465652466</td><td>0.218516409397</td><td>3.35767173767</td><td>1.13600027561</td><td>22.5849075317</td><td>0.36733686924</td><td>False</td><td>2.12191796303</td><td>0.7207467556</td><td>23.0831832886</td><td>0.368789374828</td><td>0.539226949215</td><td>1.59332203865</td><td>24.5705718994</td><td>3.2081618309</td><td>False</td><td>1106574-1</td></tr>\n",
       "<tr><td>5</td><td>2105673</td><td>14.4939441121</td><td>1.02178011252</td><td>False</td><td>-1</td><td>False</td><td>0</td><td>nan</td><td>1.02897584438</td><td>0.533446073532</td><td>23.8689880371</td><td>0.562871992588</td><td>0.798558413982</td><td>0.47099301219</td><td>24.1442337036</td><td>0.640371620655</td><td>False</td><td>3.57916164398</td><td>0.676669120789</td><td>22.5155487061</td><td>0.205267101526</td><td>2.5592007637</td><td>0.593959152699</td><td>22.879737854</td><td>0.251986086369</td><td>False</td><td>2105673-1</td></tr>\n",
       "<tr><td>6</td><td>2080939</td><td>14.4193031782</td><td>0.993783913697</td><td>False</td><td>-1</td><td>False</td><td>0</td><td>nan</td><td>2.64979624748</td><td>0.5402354002</td><td>22.8419723511</td><td>0.221357837319</td><td>2.26207256317</td><td>0.928799331188</td><td>23.0137329102</td><td>0.445799589157</td><td>False</td><td>3.90746164322</td><td>0.681167721748</td><td>22.4202651978</td><td>0.189270809293</td><td>3.75858736038</td><td>1.18044435978</td><td>22.4624404907</td><td>0.340992748737</td><td>False</td><td>2080939-1</td></tr>\n",
       "<tr><td>7</td><td>2081956</td><td>14.419016466</td><td>0.992921647166</td><td>False</td><td>-1</td><td>False</td><td>0</td><td>nan</td><td>4.11171388626</td><td>0.544712722301</td><td>22.364944458</td><td>0.143836453557</td><td>3.33555984497</td><td>1.04483377934</td><td>22.5920791626</td><td>0.340096980333</td><td>False</td><td>5.05429983139</td><td>0.707560956478</td><td>22.1408462524</td><td>0.151994258165</td><td>3.20046138763</td><td>1.39965081215</td><td>22.63697052</td><td>0.474822640419</td><td>False</td><td>2081956-1</td></tr>\n",
       "<tr><td>8</td><td>2111783</td><td>14.4902358517</td><td>1.02805449882</td><td>False</td><td>-1</td><td>False</td><td>0</td><td>nan</td><td>3.32084274292</td><td>0.545219421387</td><td>22.5968856812</td><td>0.178257286549</td><td>2.65519571304</td><td>0.667202472687</td><td>22.8397598267</td><td>0.272825777531</td><td>False</td><td>4.39882707596</td><td>0.687474489212</td><td>22.2916564941</td><td>0.169685199857</td><td>3.44337272644</td><td>0.84891885519</td><td>22.5575408936</td><td>0.267674148083</td><td>False</td><td>2111783-1</td></tr>\n",
       "<tr><td>9</td><td>2055344</td><td>14.3469393345</td><td>0.966328568643</td><td>False</td><td>-1</td><td>False</td><td>0</td><td>nan</td><td>1.03629505634</td><td>0.545875251293</td><td>23.861289978</td><td>0.571918666363</td><td>0.249006673694</td><td>0.866207301617</td><td>25.4094696045</td><td>3.77689743042</td><td>False</td><td>2.50466990471</td><td>0.621137738228</td><td>22.9031295776</td><td>0.269253730774</td><td>2.3886153698</td><td>0.975837469101</td><td>22.9546356201</td><td>0.443563252687</td><td>False</td><td>2055344-1</td></tr>\n",
       "</table><style>table.dataTable {clear: both; width: auto !important; margin: 0 !important;}\n",
       ".dataTables_info, .dataTables_length, .dataTables_filter, .dataTables_paginate{\n",
       "display: inline-block; margin-right: 1em; }\n",
       ".paginate_button { margin-right: 5px; }\n",
       "</style>\n",
       "<script>\n",
       "\n",
       "var astropy_sort_num = function(a, b) {\n",
       "    var a_num = parseFloat(a);\n",
       "    var b_num = parseFloat(b);\n",
       "\n",
       "    if (isNaN(a_num) && isNaN(b_num))\n",
       "        return ((a < b) ? -1 : ((a > b) ? 1 : 0));\n",
       "    else if (!isNaN(a_num) && !isNaN(b_num))\n",
       "        return ((a_num < b_num) ? -1 : ((a_num > b_num) ? 1 : 0));\n",
       "    else\n",
       "        return isNaN(a_num) ? -1 : 1;\n",
       "}\n",
       "\n",
       "require.config({paths: {\n",
       "    datatables: 'https://cdn.datatables.net/1.10.12/js/jquery.dataTables.min'\n",
       "}});\n",
       "require([\"datatables\"], function(){\n",
       "    console.log(\"$('#table4729024808-856026').dataTable()\");\n",
       "    \n",
       "jQuery.extend( jQuery.fn.dataTableExt.oSort, {\n",
       "    \"optionalnum-asc\": astropy_sort_num,\n",
       "    \"optionalnum-desc\": function (a,b) { return -astropy_sort_num(a, b); }\n",
       "});\n",
       "\n",
       "    $('#table4729024808-856026').dataTable({\n",
       "        order: [],\n",
       "        pageLength: 50,\n",
       "        lengthMenu: [[10, 25, 50, 100, 500, 1000, -1], [10, 25, 50, 100, 500, 1000, 'All']],\n",
       "        pagingType: \"full_numbers\",\n",
       "        columnDefs: [{targets: [0, 1, 2, 3, 7, 8, 9, 10, 11, 12, 13, 14, 15, 16, 18, 19, 20, 21, 22, 23, 24, 25], type: \"optionalnum\"}]\n",
       "    });\n",
       "});\n",
       "</script>\n"
      ],
      "text/plain": [
       "<IPython.core.display.HTML object>"
      ]
     },
     "execution_count": 37,
     "metadata": {},
     "output_type": "execute_result"
    }
   ],
   "source": [
    "master_catalogue[:10].show_in_notebook()"
   ]
  },
  {
   "cell_type": "code",
   "execution_count": 36,
   "metadata": {
    "collapsed": true
   },
   "outputs": [],
   "source": [
    "master_catalogue[columns].write(\"{}/IRAC.fits\".format(TMP_DIR, SUFFIX), overwrite=True)"
   ]
  }
 ],
 "metadata": {
  "kernelspec": {
   "display_name": "Python (herschelhelp_internal)",
   "language": "python",
   "name": "helpint"
  },
  "language_info": {
   "codemirror_mode": {
    "name": "ipython",
    "version": 3
   },
   "file_extension": ".py",
   "mimetype": "text/x-python",
   "name": "python",
   "nbconvert_exporter": "python",
   "pygments_lexer": "ipython3",
   "version": "3.6.1"
  }
 },
 "nbformat": 4,
 "nbformat_minor": 2
}
