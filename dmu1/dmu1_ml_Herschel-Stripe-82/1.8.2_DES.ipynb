{
 "cells": [
  {
   "cell_type": "markdown",
   "metadata": {},
   "source": [
    "# Herschel Stripe 82 master catalogue\n",
    "## Preparation of DES data\n",
    "\n",
    "Blanco DES catalogue: the catalogue comes from `dmu0_DES`.\n",
    "\n",
    "In the catalogue, we keep:\n",
    "\n",
    "- The identifier (it's unique in the catalogue);\n",
    "- The position;\n",
    "- The G band stellarity;\n",
    "- The magnitude for each band.\n",
    "- The auto/kron magnitudes/fluxes to be used as total magnitude.\n",
    "- The aperture magnitudes, which are used to compute a corrected 2 arcsec aperture magnitude.\n",
    "\n",
    "We don't know when the maps have been observed. We will take the final observation date as 2017."
   ]
  },
  {
   "cell_type": "code",
   "execution_count": null,
   "metadata": {
    "collapsed": true
   },
   "outputs": [],
   "source": [
    "from herschelhelp_internal import git_version\n",
    "print(\"This notebook was run with herschelhelp_internal version: \\n{}\".format(git_version()))"
   ]
  },
  {
   "cell_type": "code",
   "execution_count": null,
   "metadata": {
    "collapsed": true
   },
   "outputs": [],
   "source": [
    "%matplotlib inline\n",
    "#%config InlineBackend.figure_format = 'svg'\n",
    "\n",
    "import matplotlib.pyplot as plt\n",
    "plt.rc('figure', figsize=(10, 6))\n",
    "\n",
    "from collections import OrderedDict\n",
    "import os\n",
    "\n",
    "from astropy import units as u\n",
    "from astropy.coordinates import SkyCoord\n",
    "from astropy.table import Column, Table\n",
    "import numpy as np\n",
    "\n",
    "from herschelhelp_internal.flagging import  gaia_flag_column\n",
    "from herschelhelp_internal.masterlist import nb_astcor_diag_plot, remove_duplicates, \\\n",
    "                                            nb_plot_mag_ap_evol, nb_plot_mag_vs_apcor \n",
    "from herschelhelp_internal.utils import astrometric_correction, mag_to_flux, flux_to_mag, aperture_correction"
   ]
  },
  {
   "cell_type": "code",
   "execution_count": null,
   "metadata": {
    "collapsed": true
   },
   "outputs": [],
   "source": [
    "OUT_DIR =  os.environ.get('TMP_DIR', \"./data_tmp\")\n",
    "try:\n",
    "    os.makedirs(OUT_DIR)\n",
    "except FileExistsError:\n",
    "    pass\n",
    "\n",
    "RA_COL = \"des_ra\"\n",
    "DEC_COL = \"des_dec\""
   ]
  },
  {
   "cell_type": "code",
   "execution_count": null,
   "metadata": {
    "collapsed": true
   },
   "outputs": [],
   "source": [
    "# Pristine HSC catalogue\n",
    "orig_des = Table.read(\"../../dmu0/dmu0_DES/data/DES-DR1_Herschel-Stripe-82.fits\")"
   ]
  },
  {
   "cell_type": "markdown",
   "metadata": {},
   "source": [
    "## 1 - Aperture correction\n",
    "\n",
    "To compute aperture correction we need to dertermine two parametres: the target aperture and the range of magnitudes for the stars that will be used to compute the correction.\n",
    "\n",
    "Target aperture: To determine the target aperture, we simulate a curve of growth using the provided apertures and draw two figures:\n",
    "\n",
    "The evolution of the magnitudes of the objects by plotting on the same plot aperture number vs the mean magnitude.\n",
    "The mean gain (loss when negative) of magnitude is each aperture compared to the previous (except for the first of course).\n",
    "As target aperture, we should use the smallest (i.e. less noisy) aperture for which most of the flux is captures.\n",
    "\n",
    "Magnitude range: To know what limits in aperture to use when doing the aperture correction, we plot for each magnitude bin the correction that is computed and its RMS. We should then use the wide limits (to use more stars) where the correction is stable and with few dispersion."
   ]
  },
  {
   "cell_type": "code",
   "execution_count": null,
   "metadata": {
    "collapsed": true
   },
   "outputs": [],
   "source": [
    "bands = [\"g\", \"r\", \"i\", \"z\", \"y\"]\n",
    "apertures = [\"1\", \"2\", \"3\", \"4\",  \"5\", \"6\", \"7\", \"8\", \"9\", \"10\", \"11\"] #Removed \"40\" and \"235\" because they lack errors\n",
    "\n",
    "magnitudes = {}\n",
    "stellarities = {}\n",
    "\n",
    "for band in bands:\n",
    "    magnitudes[band] = np.array(\n",
    "        [orig_des[\"MAG_APER_{}_{}\".format(aperture, band.upper())] for aperture in apertures]\n",
    "    )\n",
    "\n",
    "    stellarities[band] = 1 - np.array(orig_des[\"CLASS_STAR_{}\".format(band.upper())])\n",
    "    \n",
    "    # Some sources have an infinite magnitude\n",
    "    mask = np.isclose(magnitudes[band], 99.)\n",
    "    magnitudes[band][mask] = np.nan\n",
    "\n",
    "    \n",
    "mag_corr = {}"
   ]
  },
  {
   "cell_type": "markdown",
   "metadata": {},
   "source": [
    "### I.a - g band"
   ]
  },
  {
   "cell_type": "code",
   "execution_count": null,
   "metadata": {
    "collapsed": true
   },
   "outputs": [],
   "source": [
    "\n",
    "nb_plot_mag_ap_evol(magnitudes['g'], stellarities['g'], labels=apertures)"
   ]
  },
  {
   "cell_type": "markdown",
   "metadata": {},
   "source": [
    "We will use aperture 10 as target."
   ]
  },
  {
   "cell_type": "code",
   "execution_count": null,
   "metadata": {
    "collapsed": true
   },
   "outputs": [],
   "source": [
    "nb_plot_mag_vs_apcor(orig_des['MAG_APER_4_G'], orig_des['MAG_APER_10_G'], stellarities['g'])"
   ]
  },
  {
   "cell_type": "markdown",
   "metadata": {},
   "source": [
    "\n",
    "We will use magnitudes between 18.0 and 21.0"
   ]
  },
  {
   "cell_type": "code",
   "execution_count": null,
   "metadata": {
    "collapsed": true
   },
   "outputs": [],
   "source": [
    "# Aperture correction\n",
    "mag_corr['g'], num, std = aperture_correction(\n",
    "    orig_des['MAG_APER_4_G'], orig_des['MAG_APER_10_G'], \n",
    "    stellarities['g'],\n",
    "    mag_min=18.0, mag_max=21.0)\n",
    "print(\"Aperture correction for g band:\")\n",
    "print(\"Correction: {}\".format(mag_corr['g']))\n",
    "print(\"Number of source used: {}\".format(num))\n",
    "print(\"RMS: {}\".format(std))"
   ]
  },
  {
   "cell_type": "markdown",
   "metadata": {},
   "source": [
    "### I.b - r band"
   ]
  },
  {
   "cell_type": "code",
   "execution_count": null,
   "metadata": {
    "collapsed": true
   },
   "outputs": [],
   "source": [
    "\n",
    "nb_plot_mag_ap_evol(magnitudes['r'], stellarities['r'], labels=apertures)"
   ]
  },
  {
   "cell_type": "markdown",
   "metadata": {},
   "source": [
    "We will use aperture 10 as target."
   ]
  },
  {
   "cell_type": "code",
   "execution_count": null,
   "metadata": {
    "collapsed": true
   },
   "outputs": [],
   "source": [
    "\n",
    "nb_plot_mag_vs_apcor(orig_des['MAG_APER_4_R'], orig_des['MAG_APER_10_R'], stellarities['r'])"
   ]
  },
  {
   "cell_type": "markdown",
   "metadata": {},
   "source": [
    "We use magnitudes between 17.0 and 20.0."
   ]
  },
  {
   "cell_type": "code",
   "execution_count": null,
   "metadata": {
    "collapsed": true
   },
   "outputs": [],
   "source": [
    "# Aperture correction\n",
    "mag_corr['r'], num, std = aperture_correction(\n",
    "    orig_des['MAG_APER_4_R'], orig_des['MAG_APER_10_R'], \n",
    "    stellarities['r'],\n",
    "    mag_min=17.0, mag_max=20.0)\n",
    "print(\"Aperture correction for r band:\")\n",
    "print(\"Correction: {}\".format(mag_corr['r']))\n",
    "print(\"Number of source used: {}\".format(num))\n",
    "print(\"RMS: {}\".format(std))"
   ]
  },
  {
   "cell_type": "markdown",
   "metadata": {},
   "source": [
    "### I.b - i band"
   ]
  },
  {
   "cell_type": "code",
   "execution_count": null,
   "metadata": {
    "collapsed": true
   },
   "outputs": [],
   "source": [
    "nb_plot_mag_ap_evol(magnitudes['i'], stellarities['i'], labels=apertures)"
   ]
  },
  {
   "cell_type": "markdown",
   "metadata": {},
   "source": [
    "We will use aperture 10 as target."
   ]
  },
  {
   "cell_type": "code",
   "execution_count": null,
   "metadata": {
    "collapsed": true
   },
   "outputs": [],
   "source": [
    "nb_plot_mag_vs_apcor(orig_des['MAG_APER_4_I'], orig_des['MAG_APER_10_I'], stellarities['i'])"
   ]
  },
  {
   "cell_type": "markdown",
   "metadata": {},
   "source": [
    "We use magnitudes between 17.5 and 20.0."
   ]
  },
  {
   "cell_type": "code",
   "execution_count": null,
   "metadata": {
    "collapsed": true
   },
   "outputs": [],
   "source": [
    "# Aperture correction\n",
    "mag_corr['i'], num, std = aperture_correction(\n",
    "    orig_des['MAG_APER_4_I'], orig_des['MAG_APER_10_I'], \n",
    "    stellarities['i'],\n",
    "    mag_min=17.5, mag_max=20.0)\n",
    "print(\"Aperture correction for i band:\")\n",
    "print(\"Correction: {}\".format(mag_corr['i']))\n",
    "print(\"Number of source used: {}\".format(num))\n",
    "print(\"RMS: {}\".format(std))"
   ]
  },
  {
   "cell_type": "markdown",
   "metadata": {},
   "source": [
    "### I.b - z band"
   ]
  },
  {
   "cell_type": "code",
   "execution_count": null,
   "metadata": {
    "collapsed": true
   },
   "outputs": [],
   "source": [
    "\n",
    "nb_plot_mag_ap_evol(magnitudes['z'], stellarities['z'], labels=apertures)"
   ]
  },
  {
   "cell_type": "markdown",
   "metadata": {},
   "source": [
    "We will use aperture 57 as target."
   ]
  },
  {
   "cell_type": "code",
   "execution_count": null,
   "metadata": {
    "collapsed": true
   },
   "outputs": [],
   "source": [
    "\n",
    "nb_plot_mag_vs_apcor(orig_des['MAG_APER_4_Z'], orig_des['MAG_APER_10_Z'], stellarities['z'])"
   ]
  },
  {
   "cell_type": "markdown",
   "metadata": {},
   "source": [
    "We use magnitudes between 17.5 and 20.0."
   ]
  },
  {
   "cell_type": "code",
   "execution_count": null,
   "metadata": {
    "collapsed": true
   },
   "outputs": [],
   "source": [
    "# Aperture correction\n",
    "mag_corr['z'], num, std = aperture_correction(\n",
    "    orig_des['MAG_APER_4_Z'], orig_des['MAG_APER_10_Z'], \n",
    "    stellarities['z'],\n",
    "    mag_min=17.5, mag_max=20.0)\n",
    "print(\"Aperture correction for z band:\")\n",
    "print(\"Correction: {}\".format(mag_corr['z']))\n",
    "print(\"Number of source used: {}\".format(num))\n",
    "print(\"RMS: {}\".format(std))"
   ]
  },
  {
   "cell_type": "markdown",
   "metadata": {},
   "source": [
    "### I.b - y band"
   ]
  },
  {
   "cell_type": "code",
   "execution_count": null,
   "metadata": {
    "collapsed": true
   },
   "outputs": [],
   "source": [
    "nb_plot_mag_ap_evol(magnitudes['y'], stellarities['y'], labels=apertures)"
   ]
  },
  {
   "cell_type": "markdown",
   "metadata": {},
   "source": [
    "We will use aperture 10 as target."
   ]
  },
  {
   "cell_type": "code",
   "execution_count": null,
   "metadata": {
    "collapsed": true
   },
   "outputs": [],
   "source": [
    "\n",
    "nb_plot_mag_vs_apcor(orig_des['MAG_APER_4_Y'], orig_des['MAG_APER_10_Y'], stellarities['y'])"
   ]
  },
  {
   "cell_type": "markdown",
   "metadata": {},
   "source": [
    "\n",
    "We use magnitudes between 17.0 and 19.0."
   ]
  },
  {
   "cell_type": "code",
   "execution_count": null,
   "metadata": {
    "collapsed": true
   },
   "outputs": [],
   "source": [
    "# Aperture correction\n",
    "mag_corr['y'], num, std = aperture_correction(\n",
    "    orig_des['MAG_APER_4_Y'], orig_des['MAG_APER_10_Y'], \n",
    "    stellarities['y'],\n",
    "    mag_min=17.0, mag_max=19.0)\n",
    "print(\"Aperture correction for y band:\")\n",
    "print(\"Correction: {}\".format(mag_corr['y']))\n",
    "print(\"Number of source used: {}\".format(num))\n",
    "print(\"RMS: {}\".format(std))"
   ]
  },
  {
   "cell_type": "markdown",
   "metadata": {},
   "source": [
    "## 2 - Column selection"
   ]
  },
  {
   "cell_type": "code",
   "execution_count": null,
   "metadata": {
    "collapsed": true
   },
   "outputs": [],
   "source": [
    "\n",
    "imported_columns = OrderedDict({\n",
    "        'COADD_OBJECT_ID': \"des_id\",\n",
    "        'RA': \"des_ra\",\n",
    "        'DEC': \"des_dec\",\n",
    "        'CLASS_STAR_G':  \"des_stellarity\",\n",
    "    \n",
    "        'MAG_AUTO_G': \"m_decam_g\", \n",
    "        'MAGERR_AUTO_G': \"merr_decam_g\", \n",
    "        'MAG_APER_4_G': \"m_ap_decam_g\", \n",
    "        'MAGERR_APER_4_G': \"merr_ap_decam_g\",\n",
    "    \n",
    "        'MAG_AUTO_R': \"m_decam_r\", \n",
    "        'MAGERR_AUTO_R': \"merr_decam_r\", \n",
    "        'MAG_APER_4_R': \"m_ap_decam_r\", \n",
    "        'MAGERR_APER_4_R': \"merr_ap_decam_r\",\n",
    "    \n",
    "        'MAG_AUTO_I': \"m_decam_i\", \n",
    "        'MAGERR_AUTO_I': \"merr_decam_i\", \n",
    "        'MAG_APER_4_I': \"m_ap_decam_i\", \n",
    "        'MAGERR_APER_4_I': \"merr_ap_decam_i\",\n",
    "    \n",
    "        'MAG_AUTO_Z': \"m_decam_z\", \n",
    "        'MAGERR_AUTO_Z': \"merr_decam_z\", \n",
    "        'MAG_APER_4_Z': \"m_ap_decam_z\", \n",
    "        'MAGERR_APER_4_Z': \"merr_ap_decam_z\",\n",
    "    \n",
    "        'MAG_AUTO_Y': \"m_decam_y\", \n",
    "        'MAGERR_AUTO_Y': \"merr_decam_y\", \n",
    "        'MAG_APER_4_Y': \"m_ap_decam_y\", \n",
    "        'MAGERR_APER_4_Y': \"merr_ap_decam_y\",\n",
    "\n",
    "    })\n",
    "\n",
    "\n",
    "catalogue = Table.read(\"../../dmu0/dmu0_DES/data/DES-DR1_Herschel-Stripe-82.fits\")[list(imported_columns)]\n",
    "for column in imported_columns:\n",
    "    catalogue[column].name = imported_columns[column]\n",
    "\n",
    "epoch = 2017\n",
    "\n",
    "# Clean table metadata\n",
    "catalogue.meta = None"
   ]
  },
  {
   "cell_type": "code",
   "execution_count": null,
   "metadata": {
    "collapsed": true
   },
   "outputs": [],
   "source": [
    "# Aperture correction\n",
    "for band in bands:\n",
    "    catalogue[\"m_ap_decam_{}\".format(band)] += mag_corr[band]"
   ]
  },
  {
   "cell_type": "code",
   "execution_count": null,
   "metadata": {
    "collapsed": true
   },
   "outputs": [],
   "source": [
    "# Adding flux and band-flag columns\n",
    "for col in catalogue.colnames:\n",
    "\n",
    "            \n",
    "    if col.startswith('m_'):\n",
    "        \n",
    "        errcol = \"merr{}\".format(col[1:])\n",
    "        \n",
    "        # Some objects have -99.0 values\n",
    "        mask = (np.isclose(catalogue[col], 99.) )\n",
    "        catalogue[col][mask] = np.nan\n",
    "        catalogue[errcol][mask] = np.nan\n",
    "        \n",
    "        flux, error = mag_to_flux(np.array(catalogue[col]), np.array(catalogue[errcol]))\n",
    "            \n",
    "        # Fluxes are added in µJy\n",
    "        catalogue.add_column(Column(flux * 1.e6, name=\"f{}\".format(col[1:])))\n",
    "        catalogue.add_column(Column(error * 1.e6, name=\"f{}\".format(errcol[1:])))\n",
    "        \n",
    "        # Band-flag column\n",
    "        if 'ap' not in col:\n",
    "            catalogue.add_column(Column(np.zeros(len(catalogue), dtype=bool), name=\"flag{}\".format(col[1:])))\n",
    "        \n",
    "# TODO: Set to True the flag columns for fluxes that should not be used for SED fitting.            \n",
    "        \n"
   ]
  },
  {
   "cell_type": "code",
   "execution_count": null,
   "metadata": {
    "collapsed": true
   },
   "outputs": [],
   "source": [
    "catalogue[:10].show_in_notebook()"
   ]
  },
  {
   "cell_type": "markdown",
   "metadata": {},
   "source": [
    "## II - Removal of duplicated sources"
   ]
  },
  {
   "cell_type": "markdown",
   "metadata": {},
   "source": [
    "We remove duplicated objects from the input catalogues."
   ]
  },
  {
   "cell_type": "code",
   "execution_count": null,
   "metadata": {
    "collapsed": true
   },
   "outputs": [],
   "source": [
    "SORT_COLS = ['merr_ap_decam_g', 'merr_ap_decam_r','merr_ap_decam_i','merr_ap_decam_z','merr_ap_decam_y']\n",
    "FLAG_NAME = 'des_flag_cleaned'\n",
    "\n",
    "nb_orig_sources = len(catalogue)\n",
    "\n",
    "catalogue = remove_duplicates(catalogue, RA_COL, DEC_COL, sort_col=SORT_COLS,flag_name=FLAG_NAME)\n",
    "\n",
    "nb_sources = len(catalogue)\n",
    "\n",
    "print(\"The initial catalogue had {} sources.\".format(nb_orig_sources))\n",
    "print(\"The cleaned catalogue has {} sources ({} removed).\".format(nb_sources, nb_orig_sources - nb_sources))\n",
    "print(\"The cleaned catalogue has {} sources flagged as having been cleaned\".format(np.sum(catalogue[FLAG_NAME])))"
   ]
  },
  {
   "cell_type": "markdown",
   "metadata": {},
   "source": [
    "## III - Astrometry correction\n",
    "\n",
    "We match the astrometry to the Gaia one. We limit the Gaia catalogue to sources with a g band flux between the 30th and the 70th percentile. Some quick tests show that this give the lower dispersion in the results."
   ]
  },
  {
   "cell_type": "code",
   "execution_count": null,
   "metadata": {
    "collapsed": true
   },
   "outputs": [],
   "source": [
    "gaia = Table.read(\"../../dmu0/dmu0_GAIA/data/GAIA_Herschel-Stripe-82.fits\")\n",
    "gaia_coords = SkyCoord(gaia['ra'], gaia['dec'])"
   ]
  },
  {
   "cell_type": "code",
   "execution_count": null,
   "metadata": {
    "collapsed": true
   },
   "outputs": [],
   "source": [
    "nb_astcor_diag_plot(catalogue[RA_COL], catalogue[DEC_COL], \n",
    "                    gaia_coords.ra, gaia_coords.dec)"
   ]
  },
  {
   "cell_type": "code",
   "execution_count": null,
   "metadata": {
    "collapsed": true
   },
   "outputs": [],
   "source": [
    "delta_ra, delta_dec =  astrometric_correction(\n",
    "    SkyCoord(catalogue[RA_COL], catalogue[DEC_COL]),\n",
    "    gaia_coords\n",
    ")\n",
    "\n",
    "print(\"RA correction: {}\".format(delta_ra))\n",
    "print(\"Dec correction: {}\".format(delta_dec))"
   ]
  },
  {
   "cell_type": "code",
   "execution_count": null,
   "metadata": {
    "collapsed": true
   },
   "outputs": [],
   "source": [
    "catalogue[RA_COL] = catalogue[RA_COL] + delta_ra.to(u.deg)\n",
    "catalogue[DEC_COL] = catalogue[DEC_COL] + delta_dec.to(u.deg)"
   ]
  },
  {
   "cell_type": "code",
   "execution_count": null,
   "metadata": {
    "collapsed": true
   },
   "outputs": [],
   "source": [
    "catalogue[RA_COL].unit = u.deg\n",
    "catalogue[DEC_COL].unit = u.deg"
   ]
  },
  {
   "cell_type": "code",
   "execution_count": null,
   "metadata": {
    "collapsed": true
   },
   "outputs": [],
   "source": [
    "nb_astcor_diag_plot(catalogue[RA_COL], catalogue[DEC_COL], \n",
    "                    gaia_coords.ra, gaia_coords.dec)"
   ]
  },
  {
   "cell_type": "markdown",
   "metadata": {},
   "source": [
    "## IV - Flagging Gaia objects"
   ]
  },
  {
   "cell_type": "code",
   "execution_count": null,
   "metadata": {
    "collapsed": true
   },
   "outputs": [],
   "source": [
    "catalogue.add_column(\n",
    "    gaia_flag_column(SkyCoord(catalogue[RA_COL], catalogue[DEC_COL]), epoch, gaia)\n",
    ")"
   ]
  },
  {
   "cell_type": "code",
   "execution_count": null,
   "metadata": {
    "collapsed": true
   },
   "outputs": [],
   "source": [
    "GAIA_FLAG_NAME = \"des_flag_gaia\"\n",
    "\n",
    "catalogue['flag_gaia'].name = GAIA_FLAG_NAME\n",
    "print(\"{} sources flagged.\".format(np.sum(catalogue[GAIA_FLAG_NAME] > 0)))"
   ]
  },
  {
   "cell_type": "markdown",
   "metadata": {},
   "source": [
    "## V - Flagging objects near bright stars"
   ]
  },
  {
   "cell_type": "markdown",
   "metadata": {},
   "source": [
    "# VI - Saving to disk"
   ]
  },
  {
   "cell_type": "code",
   "execution_count": null,
   "metadata": {
    "collapsed": true
   },
   "outputs": [],
   "source": [
    "catalogue.write(\"{}/DES.fits\".format(OUT_DIR), overwrite=True)"
   ]
  }
 ],
 "metadata": {
  "anaconda-cloud": {},
  "kernelspec": {
   "display_name": "Python (herschelhelp_internal)",
   "language": "python",
   "name": "helpint"
  },
  "language_info": {
   "codemirror_mode": {
    "name": "ipython",
    "version": 3
   },
   "file_extension": ".py",
   "mimetype": "text/x-python",
   "name": "python",
   "nbconvert_exporter": "python",
   "pygments_lexer": "ipython3",
   "version": "3.6.1"
  }
 },
 "nbformat": 4,
 "nbformat_minor": 1
}
