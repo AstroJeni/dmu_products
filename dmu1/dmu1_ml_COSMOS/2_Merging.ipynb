{
 "cells": [
  {
   "cell_type": "markdown",
   "metadata": {
    "deletable": true,
    "editable": true
   },
   "source": [
    "# COSMOS master catalogue\n",
    "\n",
    "This notebook presents the merge of the various pristine catalogues to produce HELP mater catalogue on COSMOS."
   ]
  },
  {
   "cell_type": "code",
   "execution_count": 1,
   "metadata": {
    "collapsed": false,
    "deletable": true,
    "editable": true
   },
   "outputs": [
    {
     "name": "stdout",
     "output_type": "stream",
     "text": [
      "This notebook was run with herschelhelp_internal version: \n",
      "0246c5d (Thu Jan 25 17:01:47 2018 +0000) [with local modifications]\n",
      "This notebook was executed on: \n",
      "2018-03-13 20:14:56.180271\n"
     ]
    }
   ],
   "source": [
    "from herschelhelp_internal import git_version\n",
    "print(\"This notebook was run with herschelhelp_internal version: \\n{}\".format(git_version()))\n",
    "import datetime\n",
    "print(\"This notebook was executed on: \\n{}\".format(datetime.datetime.now()))"
   ]
  },
  {
   "cell_type": "code",
   "execution_count": 2,
   "metadata": {
    "collapsed": true,
    "deletable": true,
    "editable": true
   },
   "outputs": [],
   "source": [
    "%matplotlib inline\n",
    "#%config InlineBackend.figure_format = 'svg'\n",
    "\n",
    "import matplotlib.pyplot as plt\n",
    "plt.rc('figure', figsize=(10, 6))\n",
    "\n",
    "from collections import OrderedDict\n",
    "import os\n",
    "import time\n",
    "\n",
    "from astropy import units as u\n",
    "from astropy.coordinates import SkyCoord\n",
    "from astropy.table import Column, Table\n",
    "import numpy as np\n",
    "from pymoc import MOC\n",
    "\n",
    "from herschelhelp_internal.masterlist import merge_catalogues, nb_merge_dist_plot, specz_merge\n",
    "from herschelhelp_internal.utils import coords_to_hpidx, ebv, gen_help_id, inMoc"
   ]
  },
  {
   "cell_type": "code",
   "execution_count": 3,
   "metadata": {
    "collapsed": true,
    "deletable": true,
    "editable": true
   },
   "outputs": [],
   "source": [
    "TMP_DIR = os.environ.get('TMP_DIR', \"./data_tmp\")\n",
    "OUT_DIR = os.environ.get('OUT_DIR', \"./data\")\n",
    "SUFFIX = os.environ.get('SUFFIX', time.strftime(\"_%Y%m%d\"))\n",
    "\n",
    "try:\n",
    "    os.makedirs(OUT_DIR)\n",
    "except FileExistsError:\n",
    "    pass"
   ]
  },
  {
   "cell_type": "markdown",
   "metadata": {
    "deletable": true,
    "editable": true
   },
   "source": [
    "## I - Reading the prepared pristine catalogues"
   ]
  },
  {
   "cell_type": "code",
   "execution_count": 4,
   "metadata": {
    "collapsed": true,
    "deletable": true,
    "editable": true
   },
   "outputs": [],
   "source": [
    "#COSMOS was originally run with the official LAigle et al 2015 catalogue \n",
    "#so all those ids and photometry values must be preserved\n",
    "cosmos2015 = Table.read(\"{}/COSMOS2015_HELP.fits\".format(TMP_DIR))"
   ]
  },
  {
   "cell_type": "code",
   "execution_count": 5,
   "metadata": {
    "collapsed": true,
    "deletable": true,
    "editable": true
   },
   "outputs": [],
   "source": [
    "candels = Table.read(\"{}/CANDELS.fits\".format(TMP_DIR))\n",
    "cfhtls = Table.read(\"{}/CFHTLS.fits\".format(TMP_DIR))\n",
    "decals = Table.read(\"{}/DECaLS.fits\".format(TMP_DIR))\n",
    "hsc_deep = Table.read(\"{}/HSC-DEEP.fits\".format(TMP_DIR))\n",
    "hsc_udeep = Table.read(\"{}/HSC-UDEEP.fits\".format(TMP_DIR))\n",
    "kids = Table.read(\"{}/KIDS.fits\".format(TMP_DIR))\n",
    "ps1 = Table.read(\"{}/PS1.fits\".format(TMP_DIR))\n",
    "las = Table.read(\"{}/UKIDSS-LAS.fits\".format(TMP_DIR))\n",
    "wirds = Table.read(\"{}/CFHT-WIRDS.fits\".format(TMP_DIR))\n",
    "\n"
   ]
  },
  {
   "cell_type": "markdown",
   "metadata": {
    "deletable": true,
    "editable": true
   },
   "source": [
    "## II - Merging tables\n",
    "\n",
    "We first merge the optical catalogues and then add the infrared ones: CANDELS, CFHTLS, DECaLS, HSC, KIDS, PanSTARRS, UKIDSS-LAS, and CFHT-WIRDS.\n",
    "\n",
    "At every step, we look at the distribution of the distances to the nearest source in the merged catalogue to determine the best crossmatching radius."
   ]
  },
  {
   "cell_type": "markdown",
   "metadata": {
    "deletable": true,
    "editable": true
   },
   "source": [
    "### COSMOS 2015"
   ]
  },
  {
   "cell_type": "code",
   "execution_count": 6,
   "metadata": {
    "collapsed": true,
    "deletable": true,
    "editable": true
   },
   "outputs": [],
   "source": [
    "master_catalogue = cosmos2015\n",
    "master_catalogue['cosmos_ra'].name = 'ra'\n",
    "master_catalogue['cosmos_dec'].name = 'dec'"
   ]
  },
  {
   "cell_type": "markdown",
   "metadata": {
    "deletable": true,
    "editable": true
   },
   "source": [
    "### Add CANDELS"
   ]
  },
  {
   "cell_type": "code",
   "execution_count": 7,
   "metadata": {
    "collapsed": false,
    "deletable": true,
    "editable": true
   },
   "outputs": [
    {
     "data": {
      "image/png": "[encoded data removed]",
      "text/plain": [
       "<matplotlib.figure.Figure at 0x7f5601ca6908>"
      ]
     },
     "metadata": {},
     "output_type": "display_data"
    }
   ],
   "source": [
    "nb_merge_dist_plot(\n",
    "    SkyCoord(master_catalogue['ra'], master_catalogue['dec']),\n",
    "    SkyCoord(candels['candels_ra'], candels['candels_dec'])\n",
    ")"
   ]
  },
  {
   "cell_type": "code",
   "execution_count": 8,
   "metadata": {
    "collapsed": true,
    "deletable": true,
    "editable": true
   },
   "outputs": [],
   "source": [
    "# Given the graph above, we use 0.8 arc-second radius\n",
    "master_catalogue = merge_catalogues(master_catalogue, candels, \"candels_ra\", \"candels_dec\", radius=0.8*u.arcsec)"
   ]
  },
  {
   "cell_type": "markdown",
   "metadata": {
    "deletable": true,
    "editable": true
   },
   "source": [
    "### Add CFHTLS"
   ]
  },
  {
   "cell_type": "code",
   "execution_count": 9,
   "metadata": {
    "collapsed": false,
    "deletable": true,
    "editable": true
   },
   "outputs": [
    {
     "data": {
      "image/png": "[encoded data removed]",
      "text/plain": [
       "<matplotlib.figure.Figure at 0x7f55bf165dd8>"
      ]
     },
     "metadata": {},
     "output_type": "display_data"
    }
   ],
   "source": [
    "nb_merge_dist_plot(\n",
    "    SkyCoord(master_catalogue['ra'], master_catalogue['dec']),\n",
    "    SkyCoord(cfhtls['cfhtls_ra'], cfhtls['cfhtls_dec'])\n",
    ")"
   ]
  },
  {
   "cell_type": "code",
   "execution_count": 10,
   "metadata": {
    "collapsed": true,
    "deletable": true,
    "editable": true
   },
   "outputs": [],
   "source": [
    "# Given the graph above, we use 0.8 arc-second radius\n",
    "master_catalogue = merge_catalogues(master_catalogue, cfhtls, \"cfhtls_ra\", \"cfhtls_dec\", radius=0.8*u.arcsec)"
   ]
  },
  {
   "cell_type": "markdown",
   "metadata": {
    "deletable": true,
    "editable": true
   },
   "source": [
    "### Add DECaLS"
   ]
  },
  {
   "cell_type": "code",
   "execution_count": 11,
   "metadata": {
    "collapsed": false,
    "deletable": true,
    "editable": true
   },
   "outputs": [
    {
     "data": {
      "image/png": "[encoded data removed]",
      "text/plain": [
       "<matplotlib.figure.Figure at 0x7f55f5c21c50>"
      ]
     },
     "metadata": {},
     "output_type": "display_data"
    }
   ],
   "source": [
    "nb_merge_dist_plot(\n",
    "    SkyCoord(master_catalogue['ra'], master_catalogue['dec']),\n",
    "    SkyCoord(decals['decals_ra'], decals['decals_dec'])\n",
    ")"
   ]
  },
  {
   "cell_type": "code",
   "execution_count": 12,
   "metadata": {
    "collapsed": true,
    "deletable": true,
    "editable": true
   },
   "outputs": [],
   "source": [
    "# Given the graph above, we use 0.8 arc-second radius\n",
    "master_catalogue = merge_catalogues(master_catalogue, decals, \"decals_ra\", \"decals_dec\", radius=0.8*u.arcsec)"
   ]
  },
  {
   "cell_type": "markdown",
   "metadata": {
    "deletable": true,
    "editable": true
   },
   "source": [
    "### Add HSC-UDEEP"
   ]
  },
  {
   "cell_type": "code",
   "execution_count": 13,
   "metadata": {
    "collapsed": false,
    "deletable": true,
    "editable": true
   },
   "outputs": [
    {
     "data": {
      "image/png": "[encoded data removed]",
      "text/plain": [
       "<matplotlib.figure.Figure at 0x7f5600e902e8>"
      ]
     },
     "metadata": {},
     "output_type": "display_data"
    }
   ],
   "source": [
    "nb_merge_dist_plot(\n",
    "    SkyCoord(master_catalogue['ra'], master_catalogue['dec']),\n",
    "    SkyCoord(hsc_udeep['hsc-udeep_ra'], hsc_udeep['hsc-udeep_dec'])\n",
    ")"
   ]
  },
  {
   "cell_type": "code",
   "execution_count": 14,
   "metadata": {
    "collapsed": true,
    "deletable": true,
    "editable": true
   },
   "outputs": [],
   "source": [
    "# Given the graph above, we use 0.8 arc-second radius\n",
    "master_catalogue = merge_catalogues(master_catalogue, hsc_udeep, \"hsc-udeep_ra\", \"hsc-udeep_dec\", radius=0.8*u.arcsec)"
   ]
  },
  {
   "cell_type": "markdown",
   "metadata": {
    "deletable": true,
    "editable": true
   },
   "source": [
    "### Add HSC-DEEP"
   ]
  },
  {
   "cell_type": "code",
   "execution_count": 15,
   "metadata": {
    "collapsed": false,
    "deletable": true,
    "editable": true
   },
   "outputs": [
    {
     "data": {
      "image/png": "[encoded data removed]",
      "text/plain": [
       "<matplotlib.figure.Figure at 0x7f55bf1b14a8>"
      ]
     },
     "metadata": {},
     "output_type": "display_data"
    }
   ],
   "source": [
    "nb_merge_dist_plot(\n",
    "    SkyCoord(master_catalogue['ra'], master_catalogue['dec']),\n",
    "    SkyCoord(hsc_deep['hsc-deep_ra'], hsc_deep['hsc-deep_dec'])\n",
    ")"
   ]
  },
  {
   "cell_type": "code",
   "execution_count": 16,
   "metadata": {
    "collapsed": true,
    "deletable": true,
    "editable": true
   },
   "outputs": [],
   "source": [
    "# Given the graph above, we use 0.8 arc-second radius\n",
    "master_catalogue = merge_catalogues(master_catalogue, hsc_deep, \"hsc-deep_ra\", \"hsc-deep_dec\", radius=0.8*u.arcsec)"
   ]
  },
  {
   "cell_type": "markdown",
   "metadata": {
    "deletable": true,
    "editable": true
   },
   "source": [
    "### Add KIDS"
   ]
  },
  {
   "cell_type": "code",
   "execution_count": 17,
   "metadata": {
    "collapsed": false,
    "deletable": true,
    "editable": true
   },
   "outputs": [
    {
     "data": {
      "image/png": "[encoded data removed]",
      "text/plain": [
       "<matplotlib.figure.Figure at 0x7f55be4a0e80>"
      ]
     },
     "metadata": {},
     "output_type": "display_data"
    }
   ],
   "source": [
    "nb_merge_dist_plot(\n",
    "    SkyCoord(master_catalogue['ra'], master_catalogue['dec']),\n",
    "    SkyCoord(kids['kids_ra'], kids['kids_dec'])\n",
    ")"
   ]
  },
  {
   "cell_type": "code",
   "execution_count": 18,
   "metadata": {
    "collapsed": true,
    "deletable": true,
    "editable": true
   },
   "outputs": [],
   "source": [
    "# Given the graph above, we use 0.8 arc-second radius\n",
    "master_catalogue = merge_catalogues(master_catalogue, kids, \"kids_ra\", \"kids_dec\", radius=0.8*u.arcsec)"
   ]
  },
  {
   "cell_type": "markdown",
   "metadata": {
    "deletable": true,
    "editable": true
   },
   "source": [
    "### Add UKIDSS LAS"
   ]
  },
  {
   "cell_type": "code",
   "execution_count": 19,
   "metadata": {
    "collapsed": false,
    "deletable": true,
    "editable": true
   },
   "outputs": [
    {
     "data": {
      "image/png": "[encoded data removed]",
      "text/plain": [
       "<matplotlib.figure.Figure at 0x7f5584eb2f98>"
      ]
     },
     "metadata": {},
     "output_type": "display_data"
    }
   ],
   "source": [
    "nb_merge_dist_plot(\n",
    "    SkyCoord(master_catalogue['ra'], master_catalogue['dec']),\n",
    "    SkyCoord(las['las_ra'], las['las_dec'])\n",
    ")"
   ]
  },
  {
   "cell_type": "code",
   "execution_count": 20,
   "metadata": {
    "collapsed": true,
    "deletable": true,
    "editable": true
   },
   "outputs": [],
   "source": [
    "# Given the graph above, we use 0.8 arc-second radius\n",
    "master_catalogue = merge_catalogues(master_catalogue, las, \"las_ra\", \"las_dec\", radius=0.8*u.arcsec)"
   ]
  },
  {
   "cell_type": "markdown",
   "metadata": {
    "deletable": true,
    "editable": true
   },
   "source": [
    "### Add CFHT-WIRDS"
   ]
  },
  {
   "cell_type": "code",
   "execution_count": 21,
   "metadata": {
    "collapsed": false,
    "deletable": true,
    "editable": true
   },
   "outputs": [
    {
     "data": {
      "image/png": "[encoded data removed]",
      "text/plain": [
       "<matplotlib.figure.Figure at 0x7f55be516dd8>"
      ]
     },
     "metadata": {},
     "output_type": "display_data"
    }
   ],
   "source": [
    "nb_merge_dist_plot(\n",
    "    SkyCoord(master_catalogue['ra'], master_catalogue['dec']),\n",
    "    SkyCoord(wirds['wirds_ra'], wirds['wirds_dec'])\n",
    ")"
   ]
  },
  {
   "cell_type": "code",
   "execution_count": 22,
   "metadata": {
    "collapsed": true,
    "deletable": true,
    "editable": true
   },
   "outputs": [],
   "source": [
    "#Given the graph above, we use 1 arc-second radius\n",
    "master_catalogue = merge_catalogues(master_catalogue, wirds, \"wirds_ra\", \"wirds_dec\", radius=1.*u.arcsec)"
   ]
  },
  {
   "cell_type": "markdown",
   "metadata": {
    "deletable": true,
    "editable": true
   },
   "source": [
    "## Add PanSTARRS"
   ]
  },
  {
   "cell_type": "code",
   "execution_count": 23,
   "metadata": {
    "collapsed": false,
    "deletable": true,
    "editable": true
   },
   "outputs": [
    {
     "data": {
      "image/png": "[encoded data removed]",
      "text/plain": [
       "<matplotlib.figure.Figure at 0x7f55bf1d0c50>"
      ]
     },
     "metadata": {},
     "output_type": "display_data"
    }
   ],
   "source": [
    "nb_merge_dist_plot(\n",
    "    SkyCoord(master_catalogue['ra'], master_catalogue['dec']),\n",
    "    SkyCoord(ps1['ps1_ra'], ps1['ps1_dec'])\n",
    ")"
   ]
  },
  {
   "cell_type": "code",
   "execution_count": 24,
   "metadata": {
    "collapsed": true,
    "deletable": true,
    "editable": true
   },
   "outputs": [],
   "source": [
    "#Given the graph above, we use 1 arc-second radius\n",
    "master_catalogue = merge_catalogues(master_catalogue, ps1, \"ps1_ra\", \"ps1_dec\", radius=1.*u.arcsec)"
   ]
  },
  {
   "cell_type": "markdown",
   "metadata": {
    "deletable": true,
    "editable": true
   },
   "source": [
    "### Cleaning\n",
    "\n",
    "When we merge the catalogues, astropy masks the non-existent values (e.g. when a row comes only from a catalogue and has no counterparts in the other, the columns from the latest are masked for that row). We indicate to use NaN for masked values for floats columns, False for flag columns and -1 for ID columns."
   ]
  },
  {
   "cell_type": "code",
   "execution_count": 25,
   "metadata": {
    "collapsed": true,
    "deletable": true,
    "editable": true
   },
   "outputs": [],
   "source": [
    "for col in master_catalogue.colnames:\n",
    "    #print(col)\n",
    "    if (col.startswith(\"m_\") \n",
    "        or col.startswith(\"merr_\") \n",
    "        or col.startswith(\"f_\") \n",
    "        or col.startswith(\"ferr_\") \n",
    "        or \"stellarity\" in col):\n",
    "        master_catalogue[col] = master_catalogue[col].astype(float)\n",
    "        master_catalogue[col].fill_value = np.nan\n",
    "    elif \"flag\" in col:\n",
    "        master_catalogue[col].fill_value = 0\n",
    "    elif \"id\" in col:\n",
    "        master_catalogue[col].fill_value = -1\n",
    "        \n",
    "master_catalogue = master_catalogue.filled()"
   ]
  },
  {
   "cell_type": "code",
   "execution_count": 26,
   "metadata": {
    "collapsed": false,
    "deletable": true,
    "editable": true
   },
   "outputs": [
    {
     "data": {
      "text/html": [
       "<i>Table length=10</i>\n",
       "<table id=\"table140006255205680-130307\" class=\"table-striped table-bordered table-condensed\">\n",
       "<thead><tr><th>idx</th><th>help_id</th><th>cosmos_id</th><th>ra</th><th>dec</th><th>cosmos_stellarity</th><th>m_cosmos-vista_ks</th><th>merr_cosmos-vista_ks</th><th>f_ap_cosmos-vista_ks</th><th>ferr_ap_cosmos-vista_ks</th><th>m_cosmos-vista_y</th><th>merr_cosmos-vista_y</th><th>f_ap_cosmos-vista_y</th><th>ferr_ap_cosmos-vista_y</th><th>m_cosmos-vista_h</th><th>merr_cosmos-vista_h</th><th>f_ap_cosmos-vista_h</th><th>ferr_ap_cosmos-vista_h</th><th>m_cosmos-vista_j</th><th>merr_cosmos-vista_j</th><th>f_ap_cosmos-vista_j</th><th>ferr_ap_cosmos-vista_j</th><th>m_cosmos-megacam_u</th><th>merr_cosmos-megacam_u</th><th>f_ap_cosmos-megacam_u</th><th>ferr_ap_cosmos-megacam_u</th><th>m_cosmos-suprime_b</th><th>merr_cosmos-suprime_b</th><th>f_ap_cosmos-suprime_b</th><th>ferr_ap_cosmos-suprime_b</th><th>m_cosmos-suprime_v</th><th>merr_cosmos-suprime_v</th><th>f_ap_cosmos-suprime_v</th><th>ferr_ap_cosmos-suprime_v</th><th>m_cosmos-suprime_ip</th><th>merr_cosmos-suprime_ip</th><th>f_ap_cosmos-suprime_ip</th><th>ferr_ap_cosmos-suprime_ip</th><th>m_cosmos-suprime_rc</th><th>merr_cosmos-suprime_rc</th><th>f_ap_cosmos-suprime_rc</th><th>ferr_ap_cosmos-suprime_rc</th><th>m_cosmos-suprime_zp</th><th>merr_cosmos-suprime_zp</th><th>f_ap_cosmos-suprime_zp</th><th>ferr_ap_cosmos-suprime_zp</th><th>m_cosmos-suprime_zpp</th><th>merr_cosmos-suprime_zpp</th><th>f_ap_cosmos-suprime_zpp</th><th>ferr_ap_cosmos-suprime_zpp</th><th>m_cosmos-suprime_ia484</th><th>merr_cosmos-suprime_ia484</th><th>f_ap_cosmos-suprime_ia484</th><th>ferr_ap_cosmos-suprime_ia484</th><th>m_cosmos-suprime_ia527</th><th>merr_cosmos-suprime_ia527</th><th>f_ap_cosmos-suprime_ia527</th><th>ferr_ap_cosmos-suprime_ia527</th><th>m_cosmos-suprime_ia624</th><th>merr_cosmos-suprime_ia624</th><th>f_ap_cosmos-suprime_ia624</th><th>ferr_ap_cosmos-suprime_ia624</th><th>m_cosmos-suprime_ia679</th><th>merr_cosmos-suprime_ia679</th><th>f_ap_cosmos-suprime_ia679</th><th>ferr_ap_cosmos-suprime_ia679</th><th>m_cosmos-suprime_ia738</th><th>merr_cosmos-suprime_ia738</th><th>f_ap_cosmos-suprime_ia738</th><th>ferr_ap_cosmos-suprime_ia738</th><th>m_cosmos-suprime_ia767</th><th>merr_cosmos-suprime_ia767</th><th>f_ap_cosmos-suprime_ia767</th><th>ferr_ap_cosmos-suprime_ia767</th><th>m_cosmos-suprime_ib427</th><th>merr_cosmos-suprime_ib427</th><th>f_ap_cosmos-suprime_ib427</th><th>ferr_ap_cosmos-suprime_ib427</th><th>m_cosmos-suprime_ib464</th><th>merr_cosmos-suprime_ib464</th><th>f_ap_cosmos-suprime_ib464</th><th>ferr_ap_cosmos-suprime_ib464</th><th>m_cosmos-suprime_ib505</th><th>merr_cosmos-suprime_ib505</th><th>f_ap_cosmos-suprime_ib505</th><th>ferr_ap_cosmos-suprime_ib505</th><th>m_cosmos-suprime_ib574</th><th>merr_cosmos-suprime_ib574</th><th>f_ap_cosmos-suprime_ib574</th><th>ferr_ap_cosmos-suprime_ib574</th><th>m_cosmos-suprime_ib709</th><th>merr_cosmos-suprime_ib709</th><th>f_ap_cosmos-suprime_ib709</th><th>ferr_ap_cosmos-suprime_ib709</th><th>m_cosmos-suprime_ib827</th><th>merr_cosmos-suprime_ib827</th><th>f_ap_cosmos-suprime_ib827</th><th>ferr_ap_cosmos-suprime_ib827</th><th>m_cosmos-suprime_nb711</th><th>merr_cosmos-suprime_nb711</th><th>f_ap_cosmos-suprime_nb711</th><th>ferr_ap_cosmos-suprime_nb711</th><th>m_cosmos-suprime_nb816</th><th>merr_cosmos-suprime_nb816</th><th>f_ap_cosmos-suprime_nb816</th><th>ferr_ap_cosmos-suprime_nb816</th><th>m_cosmos-wircam_h</th><th>merr_cosmos-wircam_h</th><th>f_ap_cosmos-wircam_h</th><th>ferr_ap_cosmos-wircam_h</th><th>m_cosmos-wircam_ks</th><th>merr_cosmos-wircam_ks</th><th>f_ap_cosmos-wircam_ks</th><th>ferr_ap_cosmos-wircam_ks</th><th>m_cosmos-suprime_y</th><th>merr_cosmos-suprime_y</th><th>f_ap_cosmos-suprime_y</th><th>ferr_ap_cosmos-suprime_y</th><th>f_cosmos-irac_i1</th><th>ferr_cosmos-irac_i1</th><th>m_cosmos-irac_i1</th><th>merr_cosmos-irac_i1</th><th>f_cosmos-irac_i2</th><th>ferr_cosmos-irac_i2</th><th>m_cosmos-irac_i2</th><th>merr_cosmos-irac_i2</th><th>f_cosmos-irac_i3</th><th>ferr_cosmos-irac_i3</th><th>m_cosmos-irac_i3</th><th>merr_cosmos-irac_i3</th><th>f_cosmos-irac_i4</th><th>ferr_cosmos-irac_i4</th><th>m_cosmos-irac_i4</th><th>merr_cosmos-irac_i4</th><th>f_cosmos-vista_ks</th><th>ferr_cosmos-vista_ks</th><th>flag_cosmos-vista_ks</th><th>m_ap_cosmos-vista_ks</th><th>merr_ap_cosmos-vista_ks</th><th>f_cosmos-vista_y</th><th>ferr_cosmos-vista_y</th><th>flag_cosmos-vista_y</th><th>m_ap_cosmos-vista_y</th><th>merr_ap_cosmos-vista_y</th><th>f_cosmos-vista_h</th><th>ferr_cosmos-vista_h</th><th>flag_cosmos-vista_h</th><th>m_ap_cosmos-vista_h</th><th>merr_ap_cosmos-vista_h</th><th>f_cosmos-vista_j</th><th>ferr_cosmos-vista_j</th><th>flag_cosmos-vista_j</th><th>m_ap_cosmos-vista_j</th><th>merr_ap_cosmos-vista_j</th><th>f_cosmos-megacam_u</th><th>ferr_cosmos-megacam_u</th><th>flag_cosmos-megacam_u</th><th>m_ap_cosmos-megacam_u</th><th>merr_ap_cosmos-megacam_u</th><th>f_cosmos-suprime_b</th><th>ferr_cosmos-suprime_b</th><th>flag_cosmos-suprime_b</th><th>m_ap_cosmos-suprime_b</th><th>merr_ap_cosmos-suprime_b</th><th>f_cosmos-suprime_v</th><th>ferr_cosmos-suprime_v</th><th>flag_cosmos-suprime_v</th><th>m_ap_cosmos-suprime_v</th><th>merr_ap_cosmos-suprime_v</th><th>f_cosmos-suprime_ip</th><th>ferr_cosmos-suprime_ip</th><th>flag_cosmos-suprime_ip</th><th>m_ap_cosmos-suprime_ip</th><th>merr_ap_cosmos-suprime_ip</th><th>f_cosmos-suprime_rc</th><th>ferr_cosmos-suprime_rc</th><th>flag_cosmos-suprime_rc</th><th>m_ap_cosmos-suprime_rc</th><th>merr_ap_cosmos-suprime_rc</th><th>f_cosmos-suprime_zp</th><th>ferr_cosmos-suprime_zp</th><th>flag_cosmos-suprime_zp</th><th>m_ap_cosmos-suprime_zp</th><th>merr_ap_cosmos-suprime_zp</th><th>f_cosmos-suprime_zpp</th><th>ferr_cosmos-suprime_zpp</th><th>flag_cosmos-suprime_zpp</th><th>m_ap_cosmos-suprime_zpp</th><th>merr_ap_cosmos-suprime_zpp</th><th>f_cosmos-suprime_ia484</th><th>ferr_cosmos-suprime_ia484</th><th>flag_cosmos-suprime_ia484</th><th>m_ap_cosmos-suprime_ia484</th><th>merr_ap_cosmos-suprime_ia484</th><th>f_cosmos-suprime_ia527</th><th>ferr_cosmos-suprime_ia527</th><th>flag_cosmos-suprime_ia527</th><th>m_ap_cosmos-suprime_ia527</th><th>merr_ap_cosmos-suprime_ia527</th><th>f_cosmos-suprime_ia624</th><th>ferr_cosmos-suprime_ia624</th><th>flag_cosmos-suprime_ia624</th><th>m_ap_cosmos-suprime_ia624</th><th>merr_ap_cosmos-suprime_ia624</th><th>f_cosmos-suprime_ia679</th><th>ferr_cosmos-suprime_ia679</th><th>flag_cosmos-suprime_ia679</th><th>m_ap_cosmos-suprime_ia679</th><th>merr_ap_cosmos-suprime_ia679</th><th>f_cosmos-suprime_ia738</th><th>ferr_cosmos-suprime_ia738</th><th>flag_cosmos-suprime_ia738</th><th>m_ap_cosmos-suprime_ia738</th><th>merr_ap_cosmos-suprime_ia738</th><th>f_cosmos-suprime_ia767</th><th>ferr_cosmos-suprime_ia767</th><th>flag_cosmos-suprime_ia767</th><th>m_ap_cosmos-suprime_ia767</th><th>merr_ap_cosmos-suprime_ia767</th><th>f_cosmos-suprime_ib427</th><th>ferr_cosmos-suprime_ib427</th><th>flag_cosmos-suprime_ib427</th><th>m_ap_cosmos-suprime_ib427</th><th>merr_ap_cosmos-suprime_ib427</th><th>f_cosmos-suprime_ib464</th><th>ferr_cosmos-suprime_ib464</th><th>flag_cosmos-suprime_ib464</th><th>m_ap_cosmos-suprime_ib464</th><th>merr_ap_cosmos-suprime_ib464</th><th>f_cosmos-suprime_ib505</th><th>ferr_cosmos-suprime_ib505</th><th>flag_cosmos-suprime_ib505</th><th>m_ap_cosmos-suprime_ib505</th><th>merr_ap_cosmos-suprime_ib505</th><th>f_cosmos-suprime_ib574</th><th>ferr_cosmos-suprime_ib574</th><th>flag_cosmos-suprime_ib574</th><th>m_ap_cosmos-suprime_ib574</th><th>merr_ap_cosmos-suprime_ib574</th><th>f_cosmos-suprime_ib709</th><th>ferr_cosmos-suprime_ib709</th><th>flag_cosmos-suprime_ib709</th><th>m_ap_cosmos-suprime_ib709</th><th>merr_ap_cosmos-suprime_ib709</th><th>f_cosmos-suprime_ib827</th><th>ferr_cosmos-suprime_ib827</th><th>flag_cosmos-suprime_ib827</th><th>m_ap_cosmos-suprime_ib827</th><th>merr_ap_cosmos-suprime_ib827</th><th>f_cosmos-suprime_nb711</th><th>ferr_cosmos-suprime_nb711</th><th>flag_cosmos-suprime_nb711</th><th>m_ap_cosmos-suprime_nb711</th><th>merr_ap_cosmos-suprime_nb711</th><th>f_cosmos-suprime_nb816</th><th>ferr_cosmos-suprime_nb816</th><th>flag_cosmos-suprime_nb816</th><th>m_ap_cosmos-suprime_nb816</th><th>merr_ap_cosmos-suprime_nb816</th><th>f_cosmos-wircam_h</th><th>ferr_cosmos-wircam_h</th><th>flag_cosmos-wircam_h</th><th>m_ap_cosmos-wircam_h</th><th>merr_ap_cosmos-wircam_h</th><th>f_cosmos-wircam_ks</th><th>ferr_cosmos-wircam_ks</th><th>flag_cosmos-wircam_ks</th><th>m_ap_cosmos-wircam_ks</th><th>merr_ap_cosmos-wircam_ks</th><th>f_cosmos-suprime_y</th><th>ferr_cosmos-suprime_y</th><th>flag_cosmos-suprime_y</th><th>m_ap_cosmos-suprime_y</th><th>merr_ap_cosmos-suprime_y</th><th>flag_cosmos-irac_i1</th><th>flag_cosmos-irac_i2</th><th>flag_cosmos-irac_i3</th><th>flag_cosmos-irac_i4</th><th>ps1_flag_cleaned</th><th>cosmos_flag_gaia</th><th>flag_merged</th><th>candels_id</th><th>candels_stellarity</th><th>f_ap_candels_f140w</th><th>ferr_ap_candels_f140w</th><th>f_candels_f140w</th><th>ferr_candels_f140w</th><th>f_ap_candels_f160w</th><th>ferr_ap_candels_f160w</th><th>f_candels_f160w</th><th>ferr_candels_f160w</th><th>f_candels_f606w</th><th>ferr_candels_f606w</th><th>f_candels_f814w</th><th>ferr_candels_f814w</th><th>f_candels_f125w</th><th>ferr_candels_f125w</th><th>m_ap_candels_f140w</th><th>merr_ap_candels_f140w</th><th>m_candels_f140w</th><th>merr_candels_f140w</th><th>flag_candels_f140w</th><th>m_ap_candels_f160w</th><th>merr_ap_candels_f160w</th><th>m_candels_f160w</th><th>merr_candels_f160w</th><th>flag_candels_f160w</th><th>m_candels_f606w</th><th>merr_candels_f606w</th><th>flag_candels_f606w</th><th>m_candels_f814w</th><th>merr_candels_f814w</th><th>flag_candels_f814w</th><th>m_candels_f125w</th><th>merr_candels_f125w</th><th>flag_candels_f125w</th><th>candels_flag_cleaned</th><th>candels_flag_gaia</th><th>cfhtls_id</th><th>cfhtls_stellarity</th><th>m_megacam_u</th><th>merr_megacam_u</th><th>m_megacam_g</th><th>merr_megacam_g</th><th>m_megacam_r</th><th>merr_megacam_r</th><th>m_megacam_i</th><th>merr_megacam_i</th><th>m_megacam_z</th><th>merr_megacam_z</th><th>m_ap_megacam_u</th><th>merr_ap_megacam_u</th><th>m_ap_megacam_g</th><th>merr_ap_megacam_g</th><th>m_ap_megacam_r</th><th>merr_ap_megacam_r</th><th>m_ap_megacam_i</th><th>merr_ap_megacam_i</th><th>m_ap_megacam_z</th><th>merr_ap_megacam_z</th><th>f_megacam_u</th><th>ferr_megacam_u</th><th>flag_megacam_u</th><th>f_megacam_g</th><th>ferr_megacam_g</th><th>flag_megacam_g</th><th>f_megacam_r</th><th>ferr_megacam_r</th><th>flag_megacam_r</th><th>f_megacam_i</th><th>ferr_megacam_i</th><th>flag_megacam_i</th><th>f_megacam_z</th><th>ferr_megacam_z</th><th>flag_megacam_z</th><th>f_ap_megacam_u</th><th>ferr_ap_megacam_u</th><th>f_ap_megacam_g</th><th>ferr_ap_megacam_g</th><th>f_ap_megacam_r</th><th>ferr_ap_megacam_r</th><th>f_ap_megacam_i</th><th>ferr_ap_megacam_i</th><th>f_ap_megacam_z</th><th>ferr_ap_megacam_z</th><th>cfhtls_flag_cleaned</th><th>cfhtls_flag_gaia</th><th>decals_id</th><th>f_decam_g</th><th>f_decam_r</th><th>f_decam_z</th><th>ferr_decam_g</th><th>ferr_decam_r</th><th>ferr_decam_z</th><th>f_ap_decam_g</th><th>f_ap_decam_r</th><th>f_ap_decam_z</th><th>ferr_ap_decam_g</th><th>ferr_ap_decam_r</th><th>ferr_ap_decam_z</th><th>m_decam_g</th><th>merr_decam_g</th><th>flag_decam_g</th><th>m_decam_r</th><th>merr_decam_r</th><th>flag_decam_r</th><th>m_decam_z</th><th>merr_decam_z</th><th>flag_decam_z</th><th>m_ap_decam_g</th><th>merr_ap_decam_g</th><th>m_ap_decam_r</th><th>merr_ap_decam_r</th><th>m_ap_decam_z</th><th>merr_ap_decam_z</th><th>decals_stellarity</th><th>decals_flag_cleaned</th><th>decals_flag_gaia</th><th>hsc-udeep_id</th><th>m_ap_hsc-udeep_g</th><th>merr_ap_hsc-udeep_g</th><th>m_hsc-udeep_g</th><th>merr_hsc-udeep_g</th><th>m_ap_hsc-udeep_r</th><th>merr_ap_hsc-udeep_r</th><th>m_hsc-udeep_r</th><th>merr_hsc-udeep_r</th><th>m_ap_hsc-udeep_i</th><th>merr_ap_hsc-udeep_i</th><th>m_hsc-udeep_i</th><th>merr_hsc-udeep_i</th><th>m_ap_hsc-udeep_z</th><th>merr_ap_hsc-udeep_z</th><th>m_hsc-udeep_z</th><th>merr_hsc-udeep_z</th><th>m_ap_hsc-udeep_y</th><th>merr_ap_hsc-udeep_y</th><th>m_hsc-udeep_y</th><th>merr_hsc-udeep_y</th><th>m_ap_hsc-udeep_n921</th><th>merr_ap_hsc-udeep_n921</th><th>m_hsc-udeep_n921</th><th>merr_hsc-udeep_n921</th><th>hsc-udeep_stellarity</th><th>f_ap_hsc-udeep_g</th><th>ferr_ap_hsc-udeep_g</th><th>f_hsc-udeep_g</th><th>ferr_hsc-udeep_g</th><th>flag_hsc-udeep_g</th><th>f_ap_hsc-udeep_r</th><th>ferr_ap_hsc-udeep_r</th><th>f_hsc-udeep_r</th><th>ferr_hsc-udeep_r</th><th>flag_hsc-udeep_r</th><th>f_ap_hsc-udeep_i</th><th>ferr_ap_hsc-udeep_i</th><th>f_hsc-udeep_i</th><th>ferr_hsc-udeep_i</th><th>flag_hsc-udeep_i</th><th>f_ap_hsc-udeep_z</th><th>ferr_ap_hsc-udeep_z</th><th>f_hsc-udeep_z</th><th>ferr_hsc-udeep_z</th><th>flag_hsc-udeep_z</th><th>f_ap_hsc-udeep_y</th><th>ferr_ap_hsc-udeep_y</th><th>f_hsc-udeep_y</th><th>ferr_hsc-udeep_y</th><th>flag_hsc-udeep_y</th><th>f_ap_hsc-udeep_n921</th><th>ferr_ap_hsc-udeep_n921</th><th>f_hsc-udeep_n921</th><th>ferr_hsc-udeep_n921</th><th>flag_hsc-udeep_n921</th><th>hsc-udeep_flag_cleaned</th><th>hsc-udeep_flag_gaia</th><th>hsc-deep_id</th><th>m_ap_hsc-deep_g</th><th>merr_ap_hsc-deep_g</th><th>m_hsc-deep_g</th><th>merr_hsc-deep_g</th><th>m_ap_hsc-deep_r</th><th>merr_ap_hsc-deep_r</th><th>m_hsc-deep_r</th><th>merr_hsc-deep_r</th><th>m_ap_hsc-deep_i</th><th>merr_ap_hsc-deep_i</th><th>m_hsc-deep_i</th><th>merr_hsc-deep_i</th><th>m_ap_hsc-deep_z</th><th>merr_ap_hsc-deep_z</th><th>m_hsc-deep_z</th><th>merr_hsc-deep_z</th><th>m_ap_hsc-deep_y</th><th>merr_ap_hsc-deep_y</th><th>m_hsc-deep_y</th><th>merr_hsc-deep_y</th><th>m_ap_hsc-deep_n921</th><th>merr_ap_hsc-deep_n921</th><th>m_hsc-deep_n921</th><th>merr_hsc-deep_n921</th><th>hsc-deep_stellarity</th><th>f_ap_hsc-deep_g</th><th>ferr_ap_hsc-deep_g</th><th>f_hsc-deep_g</th><th>ferr_hsc-deep_g</th><th>flag_hsc-deep_g</th><th>f_ap_hsc-deep_r</th><th>ferr_ap_hsc-deep_r</th><th>f_hsc-deep_r</th><th>ferr_hsc-deep_r</th><th>flag_hsc-deep_r</th><th>f_ap_hsc-deep_i</th><th>ferr_ap_hsc-deep_i</th><th>f_hsc-deep_i</th><th>ferr_hsc-deep_i</th><th>flag_hsc-deep_i</th><th>f_ap_hsc-deep_z</th><th>ferr_ap_hsc-deep_z</th><th>f_hsc-deep_z</th><th>ferr_hsc-deep_z</th><th>flag_hsc-deep_z</th><th>f_ap_hsc-deep_y</th><th>ferr_ap_hsc-deep_y</th><th>f_hsc-deep_y</th><th>ferr_hsc-deep_y</th><th>flag_hsc-deep_y</th><th>f_ap_hsc-deep_n921</th><th>ferr_ap_hsc-deep_n921</th><th>f_hsc-deep_n921</th><th>ferr_hsc-deep_n921</th><th>flag_hsc-deep_n921</th><th>hsc-deep_flag_cleaned</th><th>hsc-deep_flag_gaia</th><th>kids_id</th><th>kids_stellarity</th><th>m_kids_u</th><th>merr_kids_u</th><th>m_kids_g</th><th>merr_kids_g</th><th>m_kids_r</th><th>merr_kids_r</th><th>m_kids_i</th><th>merr_kids_i</th><th>f_ap_kids_u</th><th>ferr_ap_kids_u</th><th>f_ap_kids_g</th><th>ferr_ap_kids_g</th><th>f_ap_kids_r</th><th>ferr_ap_kids_r</th><th>f_ap_kids_i</th><th>ferr_ap_kids_i</th><th>f_kids_u</th><th>ferr_kids_u</th><th>flag_kids_u</th><th>f_kids_g</th><th>ferr_kids_g</th><th>flag_kids_g</th><th>f_kids_r</th><th>ferr_kids_r</th><th>flag_kids_r</th><th>f_kids_i</th><th>ferr_kids_i</th><th>flag_kids_i</th><th>m_ap_kids_u</th><th>merr_ap_kids_u</th><th>m_ap_kids_g</th><th>merr_ap_kids_g</th><th>m_ap_kids_r</th><th>merr_ap_kids_r</th><th>m_ap_kids_i</th><th>merr_ap_kids_i</th><th>kids_flag_cleaned</th><th>kids_flag_gaia</th><th>las_id</th><th>m_ukidss_y</th><th>merr_ukidss_y</th><th>m_ap_ukidss_y</th><th>merr_ap_ukidss_y</th><th>m_ukidss_j</th><th>merr_ukidss_j</th><th>m_ap_ukidss_j</th><th>merr_ap_ukidss_j</th><th>m_ap_ukidss_h</th><th>merr_ap_ukidss_h</th><th>m_ukidss_h</th><th>merr_ukidss_h</th><th>m_ap_ukidss_k</th><th>merr_ap_ukidss_k</th><th>m_ukidss_k</th><th>merr_ukidss_k</th><th>las_stellarity</th><th>f_ukidss_y</th><th>ferr_ukidss_y</th><th>flag_ukidss_y</th><th>f_ap_ukidss_y</th><th>ferr_ap_ukidss_y</th><th>f_ukidss_j</th><th>ferr_ukidss_j</th><th>flag_ukidss_j</th><th>f_ap_ukidss_j</th><th>ferr_ap_ukidss_j</th><th>f_ap_ukidss_h</th><th>ferr_ap_ukidss_h</th><th>f_ukidss_h</th><th>ferr_ukidss_h</th><th>flag_ukidss_h</th><th>f_ap_ukidss_k</th><th>ferr_ap_ukidss_k</th><th>f_ukidss_k</th><th>ferr_ukidss_k</th><th>flag_ukidss_k</th><th>las_flag_cleaned</th><th>las_flag_gaia</th><th>wirds_id</th><th>m_wirds_u</th><th>merr_wirds_u</th><th>m_ap_wirds_u</th><th>merr_ap_wirds_u</th><th>m_wirds_g</th><th>merr_wirds_g</th><th>m_ap_wirds_g</th><th>merr_ap_wirds_g</th><th>m_wirds_r</th><th>merr_wirds_r</th><th>m_ap_wirds_r</th><th>merr_ap_wirds_r</th><th>m_wirds_i</th><th>merr_wirds_i</th><th>m_ap_wirds_i</th><th>merr_ap_wirds_i</th><th>m_wirds_z</th><th>merr_wirds_z</th><th>m_ap_wirds_z</th><th>merr_ap_wirds_z</th><th>m_wirds_j</th><th>merr_wirds_j</th><th>m_ap_wirds_j</th><th>merr_ap_wirds_j</th><th>m_wirds_h</th><th>merr_wirds_h</th><th>m_ap_wirds_h</th><th>merr_ap_wirds_h</th><th>m_wirds_k</th><th>merr_wirds_k</th><th>m_ap_wirds_k</th><th>merr_ap_wirds_k</th><th>f_wirds_u</th><th>ferr_wirds_u</th><th>flag_wirds_u</th><th>f_ap_wirds_u</th><th>ferr_ap_wirds_u</th><th>f_wirds_g</th><th>ferr_wirds_g</th><th>flag_wirds_g</th><th>f_ap_wirds_g</th><th>ferr_ap_wirds_g</th><th>f_wirds_r</th><th>ferr_wirds_r</th><th>flag_wirds_r</th><th>f_ap_wirds_r</th><th>ferr_ap_wirds_r</th><th>f_wirds_i</th><th>ferr_wirds_i</th><th>flag_wirds_i</th><th>f_ap_wirds_i</th><th>ferr_ap_wirds_i</th><th>f_wirds_z</th><th>ferr_wirds_z</th><th>flag_wirds_z</th><th>f_ap_wirds_z</th><th>ferr_ap_wirds_z</th><th>f_wirds_j</th><th>ferr_wirds_j</th><th>flag_wirds_j</th><th>f_ap_wirds_j</th><th>ferr_ap_wirds_j</th><th>f_wirds_h</th><th>ferr_wirds_h</th><th>flag_wirds_h</th><th>f_ap_wirds_h</th><th>ferr_ap_wirds_h</th><th>f_wirds_k</th><th>ferr_wirds_k</th><th>flag_wirds_k</th><th>f_ap_wirds_k</th><th>ferr_ap_wirds_k</th><th>wirds_flag_cleaned</th><th>cfht-wirds_flag_gaia</th><th>ps1_flag_cleaned_1</th><th>ps1_id</th><th>m_ap_gpc1_g</th><th>merr_ap_gpc1_g</th><th>m_gpc1_g</th><th>merr_gpc1_g</th><th>m_ap_gpc1_r</th><th>merr_ap_gpc1_r</th><th>m_gpc1_r</th><th>merr_gpc1_r</th><th>m_ap_gpc1_i</th><th>merr_ap_gpc1_i</th><th>m_gpc1_i</th><th>merr_gpc1_i</th><th>m_ap_gpc1_z</th><th>merr_ap_gpc1_z</th><th>m_gpc1_z</th><th>merr_gpc1_z</th><th>m_ap_gpc1_y</th><th>merr_ap_gpc1_y</th><th>m_gpc1_y</th><th>merr_gpc1_y</th><th>f_ap_gpc1_g</th><th>ferr_ap_gpc1_g</th><th>f_gpc1_g</th><th>ferr_gpc1_g</th><th>flag_gpc1_g</th><th>f_ap_gpc1_r</th><th>ferr_ap_gpc1_r</th><th>f_gpc1_r</th><th>ferr_gpc1_r</th><th>flag_gpc1_r</th><th>f_ap_gpc1_i</th><th>ferr_ap_gpc1_i</th><th>f_gpc1_i</th><th>ferr_gpc1_i</th><th>flag_gpc1_i</th><th>f_ap_gpc1_z</th><th>ferr_ap_gpc1_z</th><th>f_gpc1_z</th><th>ferr_gpc1_z</th><th>flag_gpc1_z</th><th>f_ap_gpc1_y</th><th>ferr_ap_gpc1_y</th><th>f_gpc1_y</th><th>ferr_gpc1_y</th><th>flag_gpc1_y</th><th>ps1_flag_cleaned_2</th><th>ps1_flag_gaia</th></tr></thead>\n",
       "<thead><tr><th></th><th></th><th></th><th>deg</th><th>deg</th><th></th><th>mag</th><th>mag</th><th>uJy</th><th>uJy</th><th>mag</th><th>mag</th><th>uJy</th><th>uJy</th><th>mag</th><th>mag</th><th>uJy</th><th>uJy</th><th>mag</th><th>mag</th><th>uJy</th><th>uJy</th><th>mag</th><th>mag</th><th>uJy</th><th>uJy</th><th>mag</th><th>mag</th><th>uJy</th><th>uJy</th><th>mag</th><th>mag</th><th>uJy</th><th>uJy</th><th>mag</th><th>mag</th><th>uJy</th><th>uJy</th><th>mag</th><th>mag</th><th>uJy</th><th>uJy</th><th>mag</th><th>mag</th><th>uJy</th><th>uJy</th><th>mag</th><th>mag</th><th>uJy</th><th>uJy</th><th>mag</th><th>mag</th><th>uJy</th><th>uJy</th><th>mag</th><th>mag</th><th>uJy</th><th>uJy</th><th>mag</th><th>mag</th><th>uJy</th><th>uJy</th><th>mag</th><th>mag</th><th>uJy</th><th>uJy</th><th>mag</th><th>mag</th><th>uJy</th><th>uJy</th><th>mag</th><th>mag</th><th>uJy</th><th>uJy</th><th>mag</th><th>mag</th><th>uJy</th><th>uJy</th><th>mag</th><th>mag</th><th>uJy</th><th>uJy</th><th>mag</th><th>mag</th><th>uJy</th><th>uJy</th><th>mag</th><th>mag</th><th>uJy</th><th>uJy</th><th>mag</th><th>mag</th><th>uJy</th><th>uJy</th><th>mag</th><th>mag</th><th>uJy</th><th>uJy</th><th>mag</th><th>mag</th><th>uJy</th><th>uJy</th><th>mag</th><th>mag</th><th>uJy</th><th>uJy</th><th>mag</th><th>mag</th><th>uJy</th><th>uJy</th><th>mag</th><th>mag</th><th>uJy</th><th>uJy</th><th>mag</th><th>mag</th><th>uJy</th><th>uJy</th><th>uJy</th><th>uJy</th><th>mag</th><th>mag</th><th>uJy</th><th>uJy</th><th>mag</th><th>mag</th><th>uJy</th><th>uJy</th><th>mag</th><th>mag</th><th>uJy</th><th>uJy</th><th>mag</th><th>mag</th><th></th><th></th><th></th><th></th><th></th><th></th><th></th><th></th><th></th><th></th><th></th><th></th><th></th><th></th><th></th><th></th><th></th><th></th><th></th><th></th><th></th><th></th><th></th><th></th><th></th><th></th><th></th><th></th><th></th><th></th><th></th><th></th><th></th><th></th><th></th><th></th><th></th><th></th><th></th><th></th><th></th><th></th><th></th><th></th><th></th><th></th><th></th><th></th><th></th><th></th><th></th><th></th><th></th><th></th><th></th><th></th><th></th><th></th><th></th><th></th><th></th><th></th><th></th><th></th><th></th><th></th><th></th><th></th><th></th><th></th><th></th><th></th><th></th><th></th><th></th><th></th><th></th><th></th><th></th><th></th><th></th><th></th><th></th><th></th><th></th><th></th><th></th><th></th><th></th><th></th><th></th><th></th><th></th><th></th><th></th><th></th><th></th><th></th><th></th><th></th><th></th><th></th><th></th><th></th><th></th><th></th><th></th><th></th><th></th><th></th><th></th><th></th><th></th><th></th><th></th><th></th><th></th><th></th><th></th><th></th><th></th><th></th><th></th><th></th><th></th><th></th><th></th><th></th><th></th><th></th><th></th><th></th><th></th><th></th><th></th><th></th><th></th><th></th><th></th><th></th><th></th><th></th><th></th><th></th><th></th><th></th><th></th><th></th><th></th><th>uJy</th><th>uJy</th><th>uJy</th><th>uJy</th><th>uJy</th><th>uJy</th><th>uJy</th><th>uJy</th><th>uJy</th><th>uJy</th><th>uJy</th><th>uJy</th><th>uJy</th><th>uJy</th><th></th><th></th><th></th><th></th><th></th><th></th><th></th><th></th><th></th><th></th><th></th><th></th><th></th><th></th><th></th><th></th><th></th><th></th><th></th><th></th><th></th><th></th><th></th><th>mag</th><th>mag</th><th>mag</th><th>mag</th><th>mag</th><th>mag</th><th>mag</th><th>mag</th><th>mag</th><th>mag</th><th>mag</th><th>mag</th><th>mag</th><th>mag</th><th>mag</th><th>mag</th><th>mag</th><th>mag</th><th>mag</th><th>mag</th><th></th><th></th><th></th><th></th><th></th><th></th><th></th><th></th><th></th><th></th><th></th><th></th><th></th><th></th><th></th><th></th><th></th><th></th><th></th><th></th><th></th><th></th><th></th><th></th><th></th><th></th><th></th><th></th><th></th><th></th><th></th><th></th><th></th><th></th><th></th><th></th><th></th><th></th><th></th><th></th><th></th><th></th><th></th><th></th><th></th><th></th><th></th><th></th><th></th><th></th><th></th><th></th><th></th><th></th><th></th><th></th><th></th><th></th><th></th><th></th><th></th><th></th><th></th><th></th><th></th><th></th><th></th><th></th><th></th><th></th><th></th><th></th><th></th><th></th><th></th><th></th><th></th><th></th><th></th><th></th><th></th><th></th><th></th><th></th><th></th><th></th><th></th><th></th><th></th><th></th><th></th><th></th><th></th><th></th><th></th><th></th><th></th><th></th><th></th><th></th><th></th><th></th><th></th><th></th><th></th><th></th><th></th><th></th><th></th><th></th><th></th><th></th><th></th><th></th><th></th><th></th><th></th><th></th><th></th><th></th><th></th><th></th><th></th><th></th><th></th><th></th><th></th><th></th><th></th><th></th><th></th><th></th><th></th><th></th><th></th><th></th><th></th><th></th><th></th><th></th><th></th><th></th><th></th><th></th><th></th><th></th><th></th><th></th><th></th><th></th><th></th><th></th><th></th><th></th><th></th><th></th><th></th><th></th><th></th><th></th><th></th><th></th><th></th><th></th><th></th><th></th><th></th><th></th><th></th><th></th><th></th><th></th><th></th><th></th><th></th><th></th><th>mag</th><th>mag</th><th>mag</th><th>mag</th><th>mag</th><th>mag</th><th>mag</th><th>mag</th><th>uJy</th><th>uJy</th><th>uJy</th><th>uJy</th><th>uJy</th><th>uJy</th><th>uJy</th><th>uJy</th><th></th><th></th><th></th><th></th><th></th><th></th><th></th><th></th><th></th><th></th><th></th><th></th><th></th><th></th><th></th><th></th><th></th><th></th><th></th><th></th><th></th><th></th><th></th><th></th><th></th><th></th><th></th><th></th><th></th><th></th><th></th><th></th><th></th><th></th><th></th><th></th><th></th><th></th><th></th><th></th><th></th><th></th><th></th><th></th><th></th><th></th><th></th><th></th><th></th><th></th><th></th><th></th><th></th><th></th><th></th><th></th><th></th><th></th><th></th><th></th><th></th><th></th><th></th><th></th><th></th><th></th><th></th><th></th><th></th><th></th><th></th><th></th><th></th><th></th><th></th><th></th><th></th><th></th><th></th><th></th><th></th><th></th><th></th><th></th><th></th><th></th><th></th><th></th><th></th><th></th><th></th><th></th><th></th><th></th><th></th><th></th><th></th><th></th><th></th><th></th><th></th><th></th><th></th><th></th><th></th><th></th><th></th><th></th><th></th><th></th><th></th><th></th><th></th><th></th><th></th><th></th><th></th><th></th><th></th><th></th><th></th><th></th><th></th><th></th><th></th><th></th><th></th><th></th><th></th><th></th><th></th><th></th><th></th><th></th><th></th><th></th><th></th><th></th><th></th><th></th><th></th><th></th><th></th><th></th><th></th><th></th><th></th><th></th><th></th><th></th><th></th><th></th><th></th><th></th><th></th><th></th><th></th><th></th><th></th><th></th><th></th><th></th><th></th><th></th><th></th><th></th><th></th><th></th><th></th><th></th><th></th><th></th><th></th><th></th><th></th><th></th><th></th><th></th><th></th><th></th><th></th><th></th><th></th><th></th><th></th><th></th></tr></thead>\n",
       "<tr><td>0</td><td>HELP_J095914.43+021600.80</td><td>COSMOS2015_J095914.43+021600.80</td><td>149.810113605</td><td>2.26688583986</td><td>1.0</td><td>nan</td><td>nan</td><td>-2.22482995014e-05</td><td>0.0321263000369</td><td>nan</td><td>nan</td><td>0.030790200457</td><td>0.0447486005723</td><td>nan</td><td>nan</td><td>nan</td><td>nan</td><td>26.3257007599</td><td>0.333140999079</td><td>0.0817134007812</td><td>0.0697752013803</td><td>27.7229003906</td><td>0.379294991493</td><td>-0.00163483002689</td><td>0.0165330991149</td><td>29.3367996216</td><td>1.4130500555</td><td>0.00668556010351</td><td>0.00960237998515</td><td>27.5137004852</td><td>0.470728993416</td><td>0.0135164000094</td><td>0.0183342993259</td><td>27.7040996552</td><td>0.865401983261</td><td>0.0188004001975</td><td>0.0216425005347</td><td>27.5158004761</td><td>0.450976997614</td><td>0.0247978009284</td><td>0.0147521002218</td><td>nan</td><td>nan</td><td>-0.0180395003408</td><td>0.148266002536</td><td>27.113199234</td><td>0.52871799469</td><td>0.0212169997394</td><td>0.0357417017221</td><td>nan</td><td>nan</td><td>nan</td><td>nan</td><td>31.638999939</td><td>38.7386016846</td><td>-0.00277781998739</td><td>0.0303927008063</td><td>27.1289997101</td><td>0.849375009537</td><td>0.0426197983325</td><td>0.0390538983047</td><td>25.6261005402</td><td>0.204623997211</td><td>0.0746800005436</td><td>0.0542262010276</td><td>nan</td><td>nan</td><td>-0.0401588007808</td><td>0.0494364984334</td><td>nan</td><td>nan</td><td>-0.0329038985074</td><td>0.0625786036253</td><td>nan</td><td>nan</td><td>-0.0176042001694</td><td>0.0339404009283</td><td>nan</td><td>nan</td><td>nan</td><td>nan</td><td>nan</td><td>nan</td><td>-0.0356898009777</td><td>0.0410397015512</td><td>32.5750999451</td><td>129.850997925</td><td>0.0323950983584</td><td>0.0547765009105</td><td>nan</td><td>nan</td><td>-0.0363387987018</td><td>0.0410583987832</td><td>nan</td><td>nan</td><td>-0.023999100551</td><td>0.0625353977084</td><td>nan</td><td>nan</td><td>0.0373064987361</td><td>0.0778475999832</td><td>nan</td><td>nan</td><td>-0.00767386006191</td><td>0.0644085034728</td><td>25.4703998566</td><td>0.913335025311</td><td>0.0904728993773</td><td>0.287485003471</td><td>nan</td><td>nan</td><td>nan</td><td>nan</td><td>nan</td><td>nan</td><td>0.0302143990993</td><td>0.12773899734</td><td>0.186370998621</td><td>0.0950023978949</td><td>25.7241001129</td><td>0.553453981876</td><td>-99.9000015259</td><td>-99.9000015259</td><td>-99.9000015259</td><td>-99.9000015259</td><td>0.0</td><td>2.30679988861</td><td>-99.9000015259</td><td>-99.9000015259</td><td>0.0</td><td>2.68687009811</td><td>-99.9000015259</td><td>-99.9000015259</td><td>nan</td><td>nan</td><td>False</td><td>nan</td><td>-1567.79125977</td><td>nan</td><td>nan</td><td>False</td><td>27.6789703369</td><td>1.577942729</td><td>nan</td><td>nan</td><td>False</td><td>nan</td><td>nan</td><td>0.10708270967</td><td>0.0328566357493</td><td>False</td><td>26.6192703247</td><td>0.92711186409</td><td>0.0295691955835</td><td>0.0103298090398</td><td>False</td><td>nan</td><td>-10.980091095</td><td>0.00668775243685</td><td>0.00870389118791</td><td>False</td><td>29.3371582031</td><td>1.55942821503</td><td>0.0358525142074</td><td>0.0155441239476</td><td>False</td><td>28.572845459</td><td>1.47274518013</td><td>0.0300857052207</td><td>0.0239802524447</td><td>False</td><td>28.2145843506</td><td>1.24986946583</td><td>0.0357832238078</td><td>0.0148631036282</td><td>False</td><td>27.9139709473</td><td>0.64589959383</td><td>nan</td><td>nan</td><td>False</td><td>nan</td><td>-8.92362594604</td><td>0.0518465973437</td><td>0.0252475980669</td><td>False</td><td>28.0832901001</td><td>1.829007864</td><td>nan</td><td>nan</td><td>False</td><td>nan</td><td>nan</td><td>0.000802416529041</td><td>0.0286298766732</td><td>False</td><td>nan</td><td>-11.8792629242</td><td>0.0510975159705</td><td>0.0399737507105</td><td>False</td><td>27.3259735107</td><td>0.994895040989</td><td>0.203966960311</td><td>0.0384407714009</td><td>False</td><td>26.7169952393</td><td>0.788368284702</td><td>nan</td><td>nan</td><td>False</td><td>nan</td><td>-1.33656859398</td><td>nan</td><td>nan</td><td>False</td><td>nan</td><td>-2.06491804123</td><td>nan</td><td>nan</td><td>False</td><td>nan</td><td>-2.09326887131</td><td>nan</td><td>nan</td><td>False</td><td>nan</td><td>nan</td><td>nan</td><td>nan</td><td>False</td><td>nan</td><td>-1.24848794937</td><td>0.000338812707923</td><td>0.0405210442841</td><td>False</td><td>27.6238021851</td><td>1.83585870266</td><td>nan</td><td>nan</td><td>False</td><td>nan</td><td>-1.22674918175</td><td>nan</td><td>nan</td><td>False</td><td>nan</td><td>-2.8291451931</td><td>nan</td><td>nan</td><td>False</td><td>27.4705429077</td><td>2.26560950279</td><td>nan</td><td>nan</td><td>False</td><td>nan</td><td>-9.11283779144</td><td>0.235418185592</td><td>0.198036745191</td><td>False</td><td>26.5087051392</td><td>3.45001459122</td><td>nan</td><td>nan</td><td>False</td><td>nan</td><td>nan</td><td>nan</td><td>nan</td><td>False</td><td>27.69947052</td><td>4.59022378922</td><td>False</td><td>False</td><td>False</td><td>False</td><td>False</td><td>0</td><td>False</td><td>-1</td><td>nan</td><td>nan</td><td>nan</td><td>nan</td><td>nan</td><td>nan</td><td>nan</td><td>nan</td><td>nan</td><td>nan</td><td>nan</td><td>nan</td><td>nan</td><td>nan</td><td>nan</td><td>nan</td><td>nan</td><td>nan</td><td>nan</td><td>False</td><td>nan</td><td>nan</td><td>nan</td><td>nan</td><td>False</td><td>nan</td><td>nan</td><td>False</td><td>nan</td><td>nan</td><td>False</td><td>nan</td><td>nan</td><td>False</td><td>False</td><td>0</td><td></td><td>nan</td><td>nan</td><td>nan</td><td>nan</td><td>nan</td><td>nan</td><td>nan</td><td>nan</td><td>nan</td><td>nan</td><td>nan</td><td>nan</td><td>nan</td><td>nan</td><td>nan</td><td>nan</td><td>nan</td><td>nan</td><td>nan</td><td>nan</td><td>nan</td><td>nan</td><td>nan</td><td>False</td><td>nan</td><td>nan</td><td>False</td><td>nan</td><td>nan</td><td>False</td><td>nan</td><td>nan</td><td>False</td><td>nan</td><td>nan</td><td>False</td><td>nan</td><td>nan</td><td>nan</td><td>nan</td><td>nan</td><td>nan</td><td>nan</td><td>nan</td><td>nan</td><td>nan</td><td>False</td><td>0</td><td>-1</td><td>nan</td><td>nan</td><td>nan</td><td>nan</td><td>nan</td><td>nan</td><td>nan</td><td>nan</td><td>nan</td><td>nan</td><td>nan</td><td>nan</td><td>nan</td><td>nan</td><td>False</td><td>nan</td><td>nan</td><td>False</td><td>nan</td><td>nan</td><td>False</td><td>nan</td><td>nan</td><td>nan</td><td>nan</td><td>nan</td><td>nan</td><td>nan</td><td>False</td><td>0</td><td>-1</td><td>nan</td><td>nan</td><td>nan</td><td>nan</td><td>nan</td><td>nan</td><td>nan</td><td>nan</td><td>nan</td><td>nan</td><td>nan</td><td>nan</td><td>nan</td><td>nan</td><td>nan</td><td>nan</td><td>nan</td><td>nan</td><td>nan</td><td>nan</td><td>nan</td><td>nan</td><td>nan</td><td>nan</td><td>nan</td><td>nan</td><td>nan</td><td>nan</td><td>nan</td><td>False</td><td>nan</td><td>nan</td><td>nan</td><td>nan</td><td>False</td><td>nan</td><td>nan</td><td>nan</td><td>nan</td><td>False</td><td>nan</td><td>nan</td><td>nan</td><td>nan</td><td>False</td><td>nan</td><td>nan</td><td>nan</td><td>nan</td><td>False</td><td>nan</td><td>nan</td><td>nan</td><td>nan</td><td>False</td><td>False</td><td>0</td><td>-1</td><td>nan</td><td>nan</td><td>nan</td><td>nan</td><td>nan</td><td>nan</td><td>nan</td><td>nan</td><td>nan</td><td>nan</td><td>nan</td><td>nan</td><td>nan</td><td>nan</td><td>nan</td><td>nan</td><td>nan</td><td>nan</td><td>nan</td><td>nan</td><td>nan</td><td>nan</td><td>nan</td><td>nan</td><td>nan</td><td>nan</td><td>nan</td><td>nan</td><td>nan</td><td>False</td><td>nan</td><td>nan</td><td>nan</td><td>nan</td><td>False</td><td>nan</td><td>nan</td><td>nan</td><td>nan</td><td>False</td><td>nan</td><td>nan</td><td>nan</td><td>nan</td><td>False</td><td>nan</td><td>nan</td><td>nan</td><td>nan</td><td>False</td><td>nan</td><td>nan</td><td>nan</td><td>nan</td><td>False</td><td>False</td><td>0</td><td></td><td>nan</td><td>nan</td><td>nan</td><td>nan</td><td>nan</td><td>nan</td><td>nan</td><td>nan</td><td>nan</td><td>nan</td><td>nan</td><td>nan</td><td>nan</td><td>nan</td><td>nan</td><td>nan</td><td>nan</td><td>nan</td><td>nan</td><td>False</td><td>nan</td><td>nan</td><td>False</td><td>nan</td><td>nan</td><td>False</td><td>nan</td><td>nan</td><td>False</td><td>nan</td><td>nan</td><td>nan</td><td>nan</td><td>nan</td><td>nan</td><td>nan</td><td>nan</td><td>False</td><td>0</td><td>-1</td><td>nan</td><td>nan</td><td>nan</td><td>nan</td><td>nan</td><td>nan</td><td>nan</td><td>nan</td><td>nan</td><td>nan</td><td>nan</td><td>nan</td><td>nan</td><td>nan</td><td>nan</td><td>nan</td><td>nan</td><td>nan</td><td>nan</td><td>False</td><td>nan</td><td>nan</td><td>nan</td><td>nan</td><td>False</td><td>nan</td><td>nan</td><td>nan</td><td>nan</td><td>nan</td><td>nan</td><td>False</td><td>nan</td><td>nan</td><td>nan</td><td>nan</td><td>False</td><td>False</td><td>0</td><td>-1</td><td>nan</td><td>nan</td><td>nan</td><td>nan</td><td>nan</td><td>nan</td><td>nan</td><td>nan</td><td>nan</td><td>nan</td><td>nan</td><td>nan</td><td>nan</td><td>nan</td><td>nan</td><td>nan</td><td>nan</td><td>nan</td><td>nan</td><td>nan</td><td>nan</td><td>nan</td><td>nan</td><td>nan</td><td>nan</td><td>nan</td><td>nan</td><td>nan</td><td>nan</td><td>nan</td><td>nan</td><td>nan</td><td>nan</td><td>nan</td><td>False</td><td>nan</td><td>nan</td><td>nan</td><td>nan</td><td>False</td><td>nan</td><td>nan</td><td>nan</td><td>nan</td><td>False</td><td>nan</td><td>nan</td><td>nan</td><td>nan</td><td>False</td><td>nan</td><td>nan</td><td>nan</td><td>nan</td><td>False</td><td>nan</td><td>nan</td><td>nan</td><td>nan</td><td>False</td><td>nan</td><td>nan</td><td>nan</td><td>nan</td><td>False</td><td>nan</td><td>nan</td><td>nan</td><td>nan</td><td>False</td><td>nan</td><td>nan</td><td>False</td><td>0</td><td>False</td><td>-1</td><td>nan</td><td>nan</td><td>nan</td><td>nan</td><td>nan</td><td>nan</td><td>nan</td><td>nan</td><td>nan</td><td>nan</td><td>nan</td><td>nan</td><td>nan</td><td>nan</td><td>nan</td><td>nan</td><td>nan</td><td>nan</td><td>nan</td><td>nan</td><td>nan</td><td>nan</td><td>nan</td><td>nan</td><td>False</td><td>nan</td><td>nan</td><td>nan</td><td>nan</td><td>False</td><td>nan</td><td>nan</td><td>nan</td><td>nan</td><td>False</td><td>nan</td><td>nan</td><td>nan</td><td>nan</td><td>False</td><td>nan</td><td>nan</td><td>nan</td><td>nan</td><td>False</td><td>False</td><td>0</td></tr>\n",
       "<tr><td>1</td><td>HELP_J095802.73+023603.69</td><td>COSMOS2015_J095802.73+023603.69</td><td>149.511346949</td><td>2.60102176021</td><td>1.0</td><td>26.0226993561</td><td>0.868928015232</td><td>-0.000109344997327</td><td>0.0930308029056</td><td>28.2310009003</td><td>2.48985004425</td><td>-0.0336701013148</td><td>0.0348929017782</td><td>nan</td><td>nan</td><td>nan</td><td>nan</td><td>nan</td><td>nan</td><td>nan</td><td>nan</td><td>nan</td><td>nan</td><td>-0.00840788986534</td><td>0.023738399148</td><td>30.4843006134</td><td>3.69773006439</td><td>0.00237260991707</td><td>0.0101004000753</td><td>nan</td><td>nan</td><td>-0.00711438013241</td><td>0.0186650995165</td><td>nan</td><td>nan</td><td>nan</td><td>nan</td><td>29.2800006866</td><td>2.0281701088</td><td>0.00743439001963</td><td>0.0153112998232</td><td>nan</td><td>nan</td><td>-0.0691116005182</td><td>0.153556004167</td><td>nan</td><td>nan</td><td>-0.0190398003906</td><td>0.0356316007674</td><td>nan</td><td>nan</td><td>-0.0276903007179</td><td>0.033716801554</td><td>nan</td><td>nan</td><td>nan</td><td>nan</td><td>27.1798992157</td><td>0.636424005032</td><td>0.0292974002659</td><td>0.0328896008432</td><td>27.9263000488</td><td>1.37174999714</td><td>0.00819857046008</td><td>0.0516379997134</td><td>nan</td><td>nan</td><td>nan</td><td>nan</td><td>nan</td><td>nan</td><td>-0.052322100848</td><td>0.0608161985874</td><td>nan</td><td>nan</td><td>nan</td><td>nan</td><td>nan</td><td>nan</td><td>nan</td><td>nan</td><td>27.3505001068</td><td>0.868309020996</td><td>0.0352732986212</td><td>0.0441102012992</td><td>nan</td><td>nan</td><td>-0.0173962004483</td><td>0.0530298016965</td><td>26.6252002716</td><td>0.437537014484</td><td>0.0619481988251</td><td>0.0459740012884</td><td>26.5417995453</td><td>0.475531995296</td><td>0.0618820004165</td><td>0.0712374970317</td><td>nan</td><td>nan</td><td>-0.0216846000403</td><td>0.0783277973533</td><td>nan</td><td>nan</td><td>-0.0157574992627</td><td>0.0644380003214</td><td>24.9981994629</td><td>0.493488997221</td><td>0.358429998159</td><td>0.282492995262</td><td>nan</td><td>nan</td><td>-0.121949002147</td><td>0.348091989756</td><td>nan</td><td>nan</td><td>-0.0614776015282</td><td>0.179080992937</td><td>0.0567952990532</td><td>0.0419224016368</td><td>27.0142002106</td><td>0.801415026188</td><td>-99.9000015259</td><td>-99.9000015259</td><td>-99.9000015259</td><td>-99.9000015259</td><td>0.0</td><td>2.70620989799</td><td>-99.9000015259</td><td>-99.9000015259</td><td>0.0</td><td>3.59382009506</td><td>-99.9000015259</td><td>-99.9000015259</td><td>0.141553267837</td><td>0.113286823034</td><td>False</td><td>nan</td><td>-923.745117188</td><td>0.0185182336718</td><td>0.0424666963518</td><td>False</td><td>nan</td><td>-1.12516701221</td><td>nan</td><td>nan</td><td>False</td><td>nan</td><td>nan</td><td>nan</td><td>nan</td><td>False</td><td>nan</td><td>nan</td><td>nan</td><td>nan</td><td>False</td><td>nan</td><td>-3.06541132927</td><td>0.00232423259877</td><td>0.00791572127491</td><td>False</td><td>30.4619369507</td><td>4.62206983566</td><td>nan</td><td>nan</td><td>False</td><td>nan</td><td>-2.84850859642</td><td>nan</td><td>nan</td><td>False</td><td>nan</td><td>nan</td><td>0.00704692397267</td><td>0.0131637500599</td><td>False</td><td>29.2218856812</td><td>2.23609900475</td><td>nan</td><td>nan</td><td>False</td><td>nan</td><td>-2.41234922409</td><td>nan</td><td>nan</td><td>False</td><td>nan</td><td>-2.03187632561</td><td>nan</td><td>nan</td><td>False</td><td>nan</td><td>-1.32203507423</td><td>nan</td><td>nan</td><td>False</td><td>nan</td><td>nan</td><td>0.0487573668361</td><td>0.0285800192505</td><td>False</td><td>27.732925415</td><td>1.21886003017</td><td>0.0245176944882</td><td>0.0309763513505</td><td>False</td><td>29.1156539917</td><td>6.83841657639</td><td>nan</td><td>nan</td><td>False</td><td>nan</td><td>nan</td><td>nan</td><td>nan</td><td>False</td><td>nan</td><td>-1.2619972229</td><td>nan</td><td>nan</td><td>False</td><td>nan</td><td>nan</td><td>nan</td><td>nan</td><td>False</td><td>nan</td><td>nan</td><td>0.0416677072644</td><td>0.0333234220743</td><td>False</td><td>27.5313796997</td><td>1.35774207115</td><td>nan</td><td>nan</td><td>False</td><td>nan</td><td>-3.30970978737</td><td>0.0812680274248</td><td>0.0327499173582</td><td>False</td><td>26.9199295044</td><td>0.805764079094</td><td>0.0877566859126</td><td>0.0384357795119</td><td>False</td><td>26.9210891724</td><td>1.24988079071</td><td>nan</td><td>nan</td><td>False</td><td>nan</td><td>-3.92182993889</td><td>nan</td><td>nan</td><td>False</td><td>nan</td><td>-4.43996047974</td><td>0.363680452108</td><td>0.165300101042</td><td>False</td><td>25.0139846802</td><td>0.855712115765</td><td>nan</td><td>nan</td><td>False</td><td>nan</td><td>-3.099132061</td><td>nan</td><td>nan</td><td>False</td><td>nan</td><td>-3.16269207001</td><td>False</td><td>False</td><td>False</td><td>False</td><td>False</td><td>0</td><td>False</td><td>-1</td><td>nan</td><td>nan</td><td>nan</td><td>nan</td><td>nan</td><td>nan</td><td>nan</td><td>nan</td><td>nan</td><td>nan</td><td>nan</td><td>nan</td><td>nan</td><td>nan</td><td>nan</td><td>nan</td><td>nan</td><td>nan</td><td>nan</td><td>False</td><td>nan</td><td>nan</td><td>nan</td><td>nan</td><td>False</td><td>nan</td><td>nan</td><td>False</td><td>nan</td><td>nan</td><td>False</td><td>nan</td><td>nan</td><td>False</td><td>False</td><td>0</td><td></td><td>nan</td><td>nan</td><td>nan</td><td>nan</td><td>nan</td><td>nan</td><td>nan</td><td>nan</td><td>nan</td><td>nan</td><td>nan</td><td>nan</td><td>nan</td><td>nan</td><td>nan</td><td>nan</td><td>nan</td><td>nan</td><td>nan</td><td>nan</td><td>nan</td><td>nan</td><td>nan</td><td>False</td><td>nan</td><td>nan</td><td>False</td><td>nan</td><td>nan</td><td>False</td><td>nan</td><td>nan</td><td>False</td><td>nan</td><td>nan</td><td>False</td><td>nan</td><td>nan</td><td>nan</td><td>nan</td><td>nan</td><td>nan</td><td>nan</td><td>nan</td><td>nan</td><td>nan</td><td>False</td><td>0</td><td>-1</td><td>nan</td><td>nan</td><td>nan</td><td>nan</td><td>nan</td><td>nan</td><td>nan</td><td>nan</td><td>nan</td><td>nan</td><td>nan</td><td>nan</td><td>nan</td><td>nan</td><td>False</td><td>nan</td><td>nan</td><td>False</td><td>nan</td><td>nan</td><td>False</td><td>nan</td><td>nan</td><td>nan</td><td>nan</td><td>nan</td><td>nan</td><td>nan</td><td>False</td><td>0</td><td>-1</td><td>nan</td><td>nan</td><td>nan</td><td>nan</td><td>nan</td><td>nan</td><td>nan</td><td>nan</td><td>nan</td><td>nan</td><td>nan</td><td>nan</td><td>nan</td><td>nan</td><td>nan</td><td>nan</td><td>nan</td><td>nan</td><td>nan</td><td>nan</td><td>nan</td><td>nan</td><td>nan</td><td>nan</td><td>nan</td><td>nan</td><td>nan</td><td>nan</td><td>nan</td><td>False</td><td>nan</td><td>nan</td><td>nan</td><td>nan</td><td>False</td><td>nan</td><td>nan</td><td>nan</td><td>nan</td><td>False</td><td>nan</td><td>nan</td><td>nan</td><td>nan</td><td>False</td><td>nan</td><td>nan</td><td>nan</td><td>nan</td><td>False</td><td>nan</td><td>nan</td><td>nan</td><td>nan</td><td>False</td><td>False</td><td>0</td><td>-1</td><td>nan</td><td>nan</td><td>nan</td><td>nan</td><td>nan</td><td>nan</td><td>nan</td><td>nan</td><td>nan</td><td>nan</td><td>nan</td><td>nan</td><td>nan</td><td>nan</td><td>nan</td><td>nan</td><td>nan</td><td>nan</td><td>nan</td><td>nan</td><td>nan</td><td>nan</td><td>nan</td><td>nan</td><td>nan</td><td>nan</td><td>nan</td><td>nan</td><td>nan</td><td>False</td><td>nan</td><td>nan</td><td>nan</td><td>nan</td><td>False</td><td>nan</td><td>nan</td><td>nan</td><td>nan</td><td>False</td><td>nan</td><td>nan</td><td>nan</td><td>nan</td><td>False</td><td>nan</td><td>nan</td><td>nan</td><td>nan</td><td>False</td><td>nan</td><td>nan</td><td>nan</td><td>nan</td><td>False</td><td>False</td><td>0</td><td></td><td>nan</td><td>nan</td><td>nan</td><td>nan</td><td>nan</td><td>nan</td><td>nan</td><td>nan</td><td>nan</td><td>nan</td><td>nan</td><td>nan</td><td>nan</td><td>nan</td><td>nan</td><td>nan</td><td>nan</td><td>nan</td><td>nan</td><td>False</td><td>nan</td><td>nan</td><td>False</td><td>nan</td><td>nan</td><td>False</td><td>nan</td><td>nan</td><td>False</td><td>nan</td><td>nan</td><td>nan</td><td>nan</td><td>nan</td><td>nan</td><td>nan</td><td>nan</td><td>False</td><td>0</td><td>-1</td><td>nan</td><td>nan</td><td>nan</td><td>nan</td><td>nan</td><td>nan</td><td>nan</td><td>nan</td><td>nan</td><td>nan</td><td>nan</td><td>nan</td><td>nan</td><td>nan</td><td>nan</td><td>nan</td><td>nan</td><td>nan</td><td>nan</td><td>False</td><td>nan</td><td>nan</td><td>nan</td><td>nan</td><td>False</td><td>nan</td><td>nan</td><td>nan</td><td>nan</td><td>nan</td><td>nan</td><td>False</td><td>nan</td><td>nan</td><td>nan</td><td>nan</td><td>False</td><td>False</td><td>0</td><td>-1</td><td>nan</td><td>nan</td><td>nan</td><td>nan</td><td>nan</td><td>nan</td><td>nan</td><td>nan</td><td>nan</td><td>nan</td><td>nan</td><td>nan</td><td>nan</td><td>nan</td><td>nan</td><td>nan</td><td>nan</td><td>nan</td><td>nan</td><td>nan</td><td>nan</td><td>nan</td><td>nan</td><td>nan</td><td>nan</td><td>nan</td><td>nan</td><td>nan</td><td>nan</td><td>nan</td><td>nan</td><td>nan</td><td>nan</td><td>nan</td><td>False</td><td>nan</td><td>nan</td><td>nan</td><td>nan</td><td>False</td><td>nan</td><td>nan</td><td>nan</td><td>nan</td><td>False</td><td>nan</td><td>nan</td><td>nan</td><td>nan</td><td>False</td><td>nan</td><td>nan</td><td>nan</td><td>nan</td><td>False</td><td>nan</td><td>nan</td><td>nan</td><td>nan</td><td>False</td><td>nan</td><td>nan</td><td>nan</td><td>nan</td><td>False</td><td>nan</td><td>nan</td><td>nan</td><td>nan</td><td>False</td><td>nan</td><td>nan</td><td>False</td><td>0</td><td>False</td><td>-1</td><td>nan</td><td>nan</td><td>nan</td><td>nan</td><td>nan</td><td>nan</td><td>nan</td><td>nan</td><td>nan</td><td>nan</td><td>nan</td><td>nan</td><td>nan</td><td>nan</td><td>nan</td><td>nan</td><td>nan</td><td>nan</td><td>nan</td><td>nan</td><td>nan</td><td>nan</td><td>nan</td><td>nan</td><td>False</td><td>nan</td><td>nan</td><td>nan</td><td>nan</td><td>False</td><td>nan</td><td>nan</td><td>nan</td><td>nan</td><td>False</td><td>nan</td><td>nan</td><td>nan</td><td>nan</td><td>False</td><td>nan</td><td>nan</td><td>nan</td><td>nan</td><td>False</td><td>False</td><td>0</td></tr>\n",
       "<tr><td>2</td><td>HELP_J095901.32+013751.84</td><td>COSMOS2015_J095901.32+013751.84</td><td>149.755485395</td><td>1.63106399148</td><td>1.0</td><td>nan</td><td>nan</td><td>-6.758159725e-05</td><td>0.0515539981425</td><td>24.6923999786</td><td>0.132742002606</td><td>0.142518997192</td><td>0.0601480007172</td><td>nan</td><td>nan</td><td>0.0649041980505</td><td>0.133227005601</td><td>25.9407997131</td><td>0.705336987972</td><td>0.184148997068</td><td>0.0947631001472</td><td>nan</td><td>nan</td><td>nan</td><td>nan</td><td>27.5902004242</td><td>0.50796598196</td><td>0.0162078998983</td><td>0.00927828997374</td><td>30.997800827</td><td>21.4993991852</td><td>-0.0124703003094</td><td>0.017312599346</td><td>nan</td><td>nan</td><td>0.0408557988703</td><td>0.0217528995126</td><td>nan</td><td>nan</td><td>-0.00640051998198</td><td>0.0134477000684</td><td>nan</td><td>nan</td><td>0.00949071999639</td><td>0.147536993027</td><td>nan</td><td>nan</td><td>-0.0349087007344</td><td>0.0355607010424</td><td>26.9417991638</td><td>0.94508600235</td><td>0.0136617003009</td><td>0.0325365997851</td><td>nan</td><td>nan</td><td>0.00808280985802</td><td>0.0270215999335</td><td>nan</td><td>nan</td><td>nan</td><td>nan</td><td>nan</td><td>nan</td><td>0.0107546998188</td><td>0.0520065017045</td><td>nan</td><td>nan</td><td>0.0372431986034</td><td>0.044126201421</td><td>nan</td><td>nan</td><td>-0.0279331002384</td><td>0.0592668987811</td><td>nan</td><td>nan</td><td>0.0110777001828</td><td>0.0336522012949</td><td>nan</td><td>nan</td><td>nan</td><td>nan</td><td>26.0104999542</td><td>0.487657994032</td><td>-0.0244522001594</td><td>0.0377418994904</td><td>nan</td><td>nan</td><td>nan</td><td>nan</td><td>26.3598003387</td><td>0.64717900753</td><td>0.0877742990851</td><td>0.0388326011598</td><td>nan</td><td>nan</td><td>0.00138230994344</td><td>0.0646786019206</td><td>25.9932003021</td><td>1.14011001587</td><td>-0.0352880991995</td><td>0.0687372013927</td><td>nan</td><td>nan</td><td>-0.0494238995016</td><td>0.0650350004435</td><td>23.7922000885</td><td>0.472476989031</td><td>0.0611784011126</td><td>0.358990013599</td><td>nan</td><td>nan</td><td>nan</td><td>nan</td><td>27.5501003265</td><td>7.79917001724</td><td>0.0692218020558</td><td>0.195297002792</td><td>0.525366008282</td><td>0.0650418028235</td><td>24.5988006592</td><td>0.134416997433</td><td>0.769980013371</td><td>0.0724262967706</td><td>24.1837997437</td><td>0.10212700069</td><td>0.0</td><td>2.05527997017</td><td>-99.9000015259</td><td>-99.9000015259</td><td>0.0</td><td>3.15706992149</td><td>-99.9000015259</td><td>-99.9000015259</td><td>nan</td><td>nan</td><td>False</td><td>nan</td><td>-828.243774414</td><td>0.481991827488</td><td>0.0589282736182</td><td>False</td><td>26.0153198242</td><td>0.458218634129</td><td>nan</td><td>nan</td><td>False</td><td>26.8693161011</td><td>2.22865986824</td><td>0.152644112706</td><td>0.099163621664</td><td>False</td><td>25.7370758057</td><td>0.558719992638</td><td>nan</td><td>nan</td><td>False</td><td>nan</td><td>nan</td><td>0.0334133133292</td><td>0.0156325511634</td><td>False</td><td>28.3756866455</td><td>0.621534883976</td><td>0.00144836877007</td><td>0.028680132702</td><td>False</td><td>nan</td><td>-1.50733447075</td><td>nan</td><td>nan</td><td>False</td><td>27.3718643188</td><td>0.578079760075</td><td>nan</td><td>nan</td><td>False</td><td>nan</td><td>-2.28116679192</td><td>nan</td><td>nan</td><td>False</td><td>28.9567565918</td><td>16.8781967163</td><td>nan</td><td>nan</td><td>False</td><td>nan</td><td>-1.10601472855</td><td>0.0607128143311</td><td>0.0528478547931</td><td>False</td><td>28.5612411499</td><td>2.58578085899</td><td>nan</td><td>nan</td><td>False</td><td>29.1310958862</td><td>3.62971878052</td><td>nan</td><td>nan</td><td>False</td><td>nan</td><td>nan</td><td>nan</td><td>nan</td><td>False</td><td>28.8210067749</td><td>5.25029468536</td><td>nan</td><td>nan</td><td>False</td><td>27.4723815918</td><td>1.28639364243</td><td>nan</td><td>nan</td><td>False</td><td>nan</td><td>-2.30365467072</td><td>nan</td><td>nan</td><td>False</td><td>28.7888793945</td><td>3.29828500748</td><td>nan</td><td>nan</td><td>False</td><td>nan</td><td>nan</td><td>0.143152803183</td><td>0.0642970278859</td><td>False</td><td>nan</td><td>-1.67583048344</td><td>nan</td><td>nan</td><td>False</td><td>nan</td><td>nan</td><td>0.103771932423</td><td>0.0618557445705</td><td>False</td><td>26.5415878296</td><td>0.480345159769</td><td>nan</td><td>nan</td><td>False</td><td>31.0484848022</td><td>50.8018455505</td><td>0.145452007651</td><td>0.152736261487</td><td>False</td><td>nan</td><td>-2.11489033699</td><td>nan</td><td>nan</td><td>False</td><td>nan</td><td>-1.42867827415</td><td>1.10438346863</td><td>0.480591654778</td><td>False</td><td>26.9335098267</td><td>6.37101364136</td><td>nan</td><td>nan</td><td>False</td><td>nan</td><td>nan</td><td>0.034670483321</td><td>0.249048531055</td><td>False</td><td>26.7993927002</td><td>3.06321120262</td><td>False</td><td>False</td><td>False</td><td>False</td><td>False</td><td>0</td><td>False</td><td>-1</td><td>nan</td><td>nan</td><td>nan</td><td>nan</td><td>nan</td><td>nan</td><td>nan</td><td>nan</td><td>nan</td><td>nan</td><td>nan</td><td>nan</td><td>nan</td><td>nan</td><td>nan</td><td>nan</td><td>nan</td><td>nan</td><td>nan</td><td>False</td><td>nan</td><td>nan</td><td>nan</td><td>nan</td><td>False</td><td>nan</td><td>nan</td><td>False</td><td>nan</td><td>nan</td><td>False</td><td>nan</td><td>nan</td><td>False</td><td>False</td><td>0</td><td></td><td>nan</td><td>nan</td><td>nan</td><td>nan</td><td>nan</td><td>nan</td><td>nan</td><td>nan</td><td>nan</td><td>nan</td><td>nan</td><td>nan</td><td>nan</td><td>nan</td><td>nan</td><td>nan</td><td>nan</td><td>nan</td><td>nan</td><td>nan</td><td>nan</td><td>nan</td><td>nan</td><td>False</td><td>nan</td><td>nan</td><td>False</td><td>nan</td><td>nan</td><td>False</td><td>nan</td><td>nan</td><td>False</td><td>nan</td><td>nan</td><td>False</td><td>nan</td><td>nan</td><td>nan</td><td>nan</td><td>nan</td><td>nan</td><td>nan</td><td>nan</td><td>nan</td><td>nan</td><td>False</td><td>0</td><td>-1</td><td>nan</td><td>nan</td><td>nan</td><td>nan</td><td>nan</td><td>nan</td><td>nan</td><td>nan</td><td>nan</td><td>nan</td><td>nan</td><td>nan</td><td>nan</td><td>nan</td><td>False</td><td>nan</td><td>nan</td><td>False</td><td>nan</td><td>nan</td><td>False</td><td>nan</td><td>nan</td><td>nan</td><td>nan</td><td>nan</td><td>nan</td><td>nan</td><td>False</td><td>0</td><td>-1</td><td>nan</td><td>nan</td><td>nan</td><td>nan</td><td>nan</td><td>nan</td><td>nan</td><td>nan</td><td>nan</td><td>nan</td><td>nan</td><td>nan</td><td>nan</td><td>nan</td><td>nan</td><td>nan</td><td>nan</td><td>nan</td><td>nan</td><td>nan</td><td>nan</td><td>nan</td><td>nan</td><td>nan</td><td>nan</td><td>nan</td><td>nan</td><td>nan</td><td>nan</td><td>False</td><td>nan</td><td>nan</td><td>nan</td><td>nan</td><td>False</td><td>nan</td><td>nan</td><td>nan</td><td>nan</td><td>False</td><td>nan</td><td>nan</td><td>nan</td><td>nan</td><td>False</td><td>nan</td><td>nan</td><td>nan</td><td>nan</td><td>False</td><td>nan</td><td>nan</td><td>nan</td><td>nan</td><td>False</td><td>False</td><td>0</td><td>-1</td><td>nan</td><td>nan</td><td>nan</td><td>nan</td><td>nan</td><td>nan</td><td>nan</td><td>nan</td><td>nan</td><td>nan</td><td>nan</td><td>nan</td><td>nan</td><td>nan</td><td>nan</td><td>nan</td><td>nan</td><td>nan</td><td>nan</td><td>nan</td><td>nan</td><td>nan</td><td>nan</td><td>nan</td><td>nan</td><td>nan</td><td>nan</td><td>nan</td><td>nan</td><td>False</td><td>nan</td><td>nan</td><td>nan</td><td>nan</td><td>False</td><td>nan</td><td>nan</td><td>nan</td><td>nan</td><td>False</td><td>nan</td><td>nan</td><td>nan</td><td>nan</td><td>False</td><td>nan</td><td>nan</td><td>nan</td><td>nan</td><td>False</td><td>nan</td><td>nan</td><td>nan</td><td>nan</td><td>False</td><td>False</td><td>0</td><td></td><td>nan</td><td>nan</td><td>nan</td><td>nan</td><td>nan</td><td>nan</td><td>nan</td><td>nan</td><td>nan</td><td>nan</td><td>nan</td><td>nan</td><td>nan</td><td>nan</td><td>nan</td><td>nan</td><td>nan</td><td>nan</td><td>nan</td><td>False</td><td>nan</td><td>nan</td><td>False</td><td>nan</td><td>nan</td><td>False</td><td>nan</td><td>nan</td><td>False</td><td>nan</td><td>nan</td><td>nan</td><td>nan</td><td>nan</td><td>nan</td><td>nan</td><td>nan</td><td>False</td><td>0</td><td>-1</td><td>nan</td><td>nan</td><td>nan</td><td>nan</td><td>nan</td><td>nan</td><td>nan</td><td>nan</td><td>nan</td><td>nan</td><td>nan</td><td>nan</td><td>nan</td><td>nan</td><td>nan</td><td>nan</td><td>nan</td><td>nan</td><td>nan</td><td>False</td><td>nan</td><td>nan</td><td>nan</td><td>nan</td><td>False</td><td>nan</td><td>nan</td><td>nan</td><td>nan</td><td>nan</td><td>nan</td><td>False</td><td>nan</td><td>nan</td><td>nan</td><td>nan</td><td>False</td><td>False</td><td>0</td><td>-1</td><td>nan</td><td>nan</td><td>nan</td><td>nan</td><td>nan</td><td>nan</td><td>nan</td><td>nan</td><td>nan</td><td>nan</td><td>nan</td><td>nan</td><td>nan</td><td>nan</td><td>nan</td><td>nan</td><td>nan</td><td>nan</td><td>nan</td><td>nan</td><td>nan</td><td>nan</td><td>nan</td><td>nan</td><td>nan</td><td>nan</td><td>nan</td><td>nan</td><td>nan</td><td>nan</td><td>nan</td><td>nan</td><td>nan</td><td>nan</td><td>False</td><td>nan</td><td>nan</td><td>nan</td><td>nan</td><td>False</td><td>nan</td><td>nan</td><td>nan</td><td>nan</td><td>False</td><td>nan</td><td>nan</td><td>nan</td><td>nan</td><td>False</td><td>nan</td><td>nan</td><td>nan</td><td>nan</td><td>False</td><td>nan</td><td>nan</td><td>nan</td><td>nan</td><td>False</td><td>nan</td><td>nan</td><td>nan</td><td>nan</td><td>False</td><td>nan</td><td>nan</td><td>nan</td><td>nan</td><td>False</td><td>nan</td><td>nan</td><td>False</td><td>0</td><td>False</td><td>-1</td><td>nan</td><td>nan</td><td>nan</td><td>nan</td><td>nan</td><td>nan</td><td>nan</td><td>nan</td><td>nan</td><td>nan</td><td>nan</td><td>nan</td><td>nan</td><td>nan</td><td>nan</td><td>nan</td><td>nan</td><td>nan</td><td>nan</td><td>nan</td><td>nan</td><td>nan</td><td>nan</td><td>nan</td><td>False</td><td>nan</td><td>nan</td><td>nan</td><td>nan</td><td>False</td><td>nan</td><td>nan</td><td>nan</td><td>nan</td><td>False</td><td>nan</td><td>nan</td><td>nan</td><td>nan</td><td>False</td><td>nan</td><td>nan</td><td>nan</td><td>nan</td><td>False</td><td>False</td><td>0</td></tr>\n",
       "<tr><td>3</td><td>HELP_J095824.46+014508.83</td><td>COSMOS2015_J095824.46+014508.83</td><td>149.601900709</td><td>1.75245014897</td><td>1.0</td><td>27.6261997223</td><td>4.17363977432</td><td>-0.00020735799626</td><td>0.0952583998442</td><td>25.2341003418</td><td>0.16923700273</td><td>0.180306002498</td><td>0.0981604978442</td><td>25.9004001617</td><td>0.514002025127</td><td>0.212567999959</td><td>0.139146000147</td><td>28.4370994568</td><td>3.98148989677</td><td>-0.0126521997154</td><td>0.0430211015046</td><td>26.3362007141</td><td>0.139533996582</td><td>0.0803482979536</td><td>0.024009199813</td><td>26.2574005127</td><td>0.09491019696</td><td>0.0827549993992</td><td>0.0124647999182</td><td>26.4137001038</td><td>0.178158000112</td><td>0.0792997032404</td><td>0.0220145005733</td><td>27.0146999359</td><td>0.559795022011</td><td>0.0517462007701</td><td>0.029144000262</td><td>26.1040000916</td><td>0.150810003281</td><td>0.102058000863</td><td>0.0202019996941</td><td>27.8973007202</td><td>2.30044007301</td><td>0.0571906007826</td><td>0.149860993028</td><td>25.5529003143</td><td>0.117623001337</td><td>0.187386006117</td><td>0.0368454009295</td><td>26.739200592</td><td>0.363094002008</td><td>0.036930501461</td><td>0.0315768010914</td><td>26.9512004852</td><td>0.425455987453</td><td>0.0544700995088</td><td>0.0273189004511</td><td>26.3057003021</td><td>0.322894006968</td><td>0.0883743017912</td><td>0.0348839014769</td><td>26.0361995697</td><td>0.257685005665</td><td>0.117931999266</td><td>0.0517279990017</td><td>26.2444992065</td><td>0.367621988058</td><td>0.0867974981666</td><td>0.0447417981923</td><td>25.8362998962</td><td>0.306928992271</td><td>0.108396999538</td><td>0.0650826990604</td><td>26.6317996979</td><td>0.347876012325</td><td>0.0485648997128</td><td>0.0331768989563</td><td>26.066400528</td><td>0.224573999643</td><td>0.104328997433</td><td>0.03778360039</td><td>26.4678993225</td><td>0.350522011518</td><td>0.0992612019181</td><td>0.0375351011753</td><td>nan</td><td>nan</td><td>0.0554000996053</td><td>0.0439070984721</td><td>27.7637004852</td><td>1.09690999985</td><td>0.0174307990819</td><td>0.0376198999584</td><td>26.0846004486</td><td>0.304396986961</td><td>0.158902004361</td><td>0.0658503994346</td><td>27.0361003876</td><td>1.37987005711</td><td>-0.00228588003665</td><td>0.0668881013989</td><td>27.3286991119</td><td>0.85594701767</td><td>-0.00245652999729</td><td>0.0647568032146</td><td>26.9694004059</td><td>3.40187001228</td><td>-0.121726997197</td><td>0.294510990381</td><td>24.6884994507</td><td>0.601435005665</td><td>0.207607001066</td><td>0.427302002907</td><td>nan</td><td>nan</td><td>-0.031763099134</td><td>0.189425006509</td><td>0.112595997751</td><td>0.0151650002226</td><td>26.2712001801</td><td>0.146233007312</td><td>0.146381005645</td><td>0.0357018001378</td><td>25.9862995148</td><td>0.264807999134</td><td>0.0</td><td>3.16672992706</td><td>-99.9000015259</td><td>-99.9000015259</td><td>0.0</td><td>3.0843501091</td><td>-99.9000015259</td><td>-99.9000015259</td><td>0.0323236249387</td><td>0.124254100025</td><td>False</td><td>nan</td><td>-498.77746582</td><td>0.292657494545</td><td>0.0456174127758</td><td>False</td><td>25.759979248</td><td>0.591086268425</td><td>0.158430799842</td><td>0.075003258884</td><td>False</td><td>25.5812606812</td><td>0.71071767807</td><td>0.0153165217489</td><td>0.0561670251191</td><td>False</td><td>nan</td><td>-3.69181394577</td><td>0.106052130461</td><td>0.0136293489486</td><td>False</td><td>26.6375656128</td><td>0.324433207512</td><td>0.114035412669</td><td>0.00996846519411</td><td>False</td><td>26.6055221558</td><td>0.16353674233</td><td>0.0987460389733</td><td>0.0162031967193</td><td>False</td><td>26.6518249512</td><td>0.301412701607</td><td>0.0567701272666</td><td>0.029270125553</td><td>False</td><td>27.1153030396</td><td>0.611497938633</td><td>0.131340786815</td><td>0.0182433854789</td><td>False</td><td>26.3778839111</td><td>0.214917421341</td><td>0.0251813884825</td><td>0.0533539094031</td><td>False</td><td>27.006690979</td><td>2.84503912926</td><td>0.218192353845</td><td>0.0236378218979</td><td>False</td><td>25.7181549072</td><td>0.213486507535</td><td>0.073167771101</td><td>0.0244689062238</td><td>False</td><td>27.4815368652</td><td>0.928340315819</td><td>0.0601893365383</td><td>0.0235857591033</td><td>False</td><td>27.0596084595</td><td>0.544539451599</td><td>0.109073616564</td><td>0.0324380993843</td><td>False</td><td>26.5341873169</td><td>0.428571581841</td><td>0.139804199338</td><td>0.0331806614995</td><td>False</td><td>26.2209243774</td><td>0.476231724024</td><td>0.115398481488</td><td>0.0390730425715</td><td>False</td><td>26.5537338257</td><td>0.559668064117</td><td>0.168066084385</td><td>0.0475109443069</td><td>False</td><td>26.312461853</td><td>0.651887476444</td><td>0.0807755589485</td><td>0.0258809439838</td><td>False</td><td>27.1841964722</td><td>0.741715908051</td><td>0.135968893766</td><td>0.0281238462776</td><td>False</td><td>26.3539886475</td><td>0.393208235502</td><td>0.0939377844334</td><td>0.0303271301091</td><td>False</td><td>26.4080505371</td><td>0.410565435886</td><td>nan</td><td>nan</td><td>False</td><td>27.0412216187</td><td>0.860495269299</td><td>0.0284786727279</td><td>0.0287717599422</td><td>False</td><td>28.2967071533</td><td>2.34328222275</td><td>0.133708700538</td><td>0.0374865680933</td><td>False</td><td>25.8971786499</td><td>0.449938714504</td><td>0.0556621141732</td><td>0.0707413852215</td><td>False</td><td>nan</td><td>-31.7701835632</td><td>0.0425128303468</td><td>0.0335152596235</td><td>False</td><td>nan</td><td>-28.6211833954</td><td>0.0591888204217</td><td>0.185452669859</td><td>False</td><td>nan</td><td>-2.62687182426</td><td>0.483726531267</td><td>0.267956495285</td><td>False</td><td>25.6068954468</td><td>2.23468971252</td><td>nan</td><td>nan</td><td>False</td><td>nan</td><td>-6.47498464584</td><td>False</td><td>False</td><td>False</td><td>False</td><td>False</td><td>0</td><td>False</td><td>-1</td><td>nan</td><td>nan</td><td>nan</td><td>nan</td><td>nan</td><td>nan</td><td>nan</td><td>nan</td><td>nan</td><td>nan</td><td>nan</td><td>nan</td><td>nan</td><td>nan</td><td>nan</td><td>nan</td><td>nan</td><td>nan</td><td>nan</td><td>False</td><td>nan</td><td>nan</td><td>nan</td><td>nan</td><td>False</td><td>nan</td><td>nan</td><td>False</td><td>nan</td><td>nan</td><td>False</td><td>nan</td><td>nan</td><td>False</td><td>False</td><td>0</td><td></td><td>nan</td><td>nan</td><td>nan</td><td>nan</td><td>nan</td><td>nan</td><td>nan</td><td>nan</td><td>nan</td><td>nan</td><td>nan</td><td>nan</td><td>nan</td><td>nan</td><td>nan</td><td>nan</td><td>nan</td><td>nan</td><td>nan</td><td>nan</td><td>nan</td><td>nan</td><td>nan</td><td>False</td><td>nan</td><td>nan</td><td>False</td><td>nan</td><td>nan</td><td>False</td><td>nan</td><td>nan</td><td>False</td><td>nan</td><td>nan</td><td>False</td><td>nan</td><td>nan</td><td>nan</td><td>nan</td><td>nan</td><td>nan</td><td>nan</td><td>nan</td><td>nan</td><td>nan</td><td>False</td><td>0</td><td>-1</td><td>nan</td><td>nan</td><td>nan</td><td>nan</td><td>nan</td><td>nan</td><td>nan</td><td>nan</td><td>nan</td><td>nan</td><td>nan</td><td>nan</td><td>nan</td><td>nan</td><td>False</td><td>nan</td><td>nan</td><td>False</td><td>nan</td><td>nan</td><td>False</td><td>nan</td><td>nan</td><td>nan</td><td>nan</td><td>nan</td><td>nan</td><td>nan</td><td>False</td><td>0</td><td>-1</td><td>nan</td><td>nan</td><td>nan</td><td>nan</td><td>nan</td><td>nan</td><td>nan</td><td>nan</td><td>nan</td><td>nan</td><td>nan</td><td>nan</td><td>nan</td><td>nan</td><td>nan</td><td>nan</td><td>nan</td><td>nan</td><td>nan</td><td>nan</td><td>nan</td><td>nan</td><td>nan</td><td>nan</td><td>nan</td><td>nan</td><td>nan</td><td>nan</td><td>nan</td><td>False</td><td>nan</td><td>nan</td><td>nan</td><td>nan</td><td>False</td><td>nan</td><td>nan</td><td>nan</td><td>nan</td><td>False</td><td>nan</td><td>nan</td><td>nan</td><td>nan</td><td>False</td><td>nan</td><td>nan</td><td>nan</td><td>nan</td><td>False</td><td>nan</td><td>nan</td><td>nan</td><td>nan</td><td>False</td><td>False</td><td>0</td><td>-1</td><td>nan</td><td>nan</td><td>nan</td><td>nan</td><td>nan</td><td>nan</td><td>nan</td><td>nan</td><td>nan</td><td>nan</td><td>nan</td><td>nan</td><td>nan</td><td>nan</td><td>nan</td><td>nan</td><td>nan</td><td>nan</td><td>nan</td><td>nan</td><td>nan</td><td>nan</td><td>nan</td><td>nan</td><td>nan</td><td>nan</td><td>nan</td><td>nan</td><td>nan</td><td>False</td><td>nan</td><td>nan</td><td>nan</td><td>nan</td><td>False</td><td>nan</td><td>nan</td><td>nan</td><td>nan</td><td>False</td><td>nan</td><td>nan</td><td>nan</td><td>nan</td><td>False</td><td>nan</td><td>nan</td><td>nan</td><td>nan</td><td>False</td><td>nan</td><td>nan</td><td>nan</td><td>nan</td><td>False</td><td>False</td><td>0</td><td></td><td>nan</td><td>nan</td><td>nan</td><td>nan</td><td>nan</td><td>nan</td><td>nan</td><td>nan</td><td>nan</td><td>nan</td><td>nan</td><td>nan</td><td>nan</td><td>nan</td><td>nan</td><td>nan</td><td>nan</td><td>nan</td><td>nan</td><td>False</td><td>nan</td><td>nan</td><td>False</td><td>nan</td><td>nan</td><td>False</td><td>nan</td><td>nan</td><td>False</td><td>nan</td><td>nan</td><td>nan</td><td>nan</td><td>nan</td><td>nan</td><td>nan</td><td>nan</td><td>False</td><td>0</td><td>-1</td><td>nan</td><td>nan</td><td>nan</td><td>nan</td><td>nan</td><td>nan</td><td>nan</td><td>nan</td><td>nan</td><td>nan</td><td>nan</td><td>nan</td><td>nan</td><td>nan</td><td>nan</td><td>nan</td><td>nan</td><td>nan</td><td>nan</td><td>False</td><td>nan</td><td>nan</td><td>nan</td><td>nan</td><td>False</td><td>nan</td><td>nan</td><td>nan</td><td>nan</td><td>nan</td><td>nan</td><td>False</td><td>nan</td><td>nan</td><td>nan</td><td>nan</td><td>False</td><td>False</td><td>0</td><td>-1</td><td>nan</td><td>nan</td><td>nan</td><td>nan</td><td>nan</td><td>nan</td><td>nan</td><td>nan</td><td>nan</td><td>nan</td><td>nan</td><td>nan</td><td>nan</td><td>nan</td><td>nan</td><td>nan</td><td>nan</td><td>nan</td><td>nan</td><td>nan</td><td>nan</td><td>nan</td><td>nan</td><td>nan</td><td>nan</td><td>nan</td><td>nan</td><td>nan</td><td>nan</td><td>nan</td><td>nan</td><td>nan</td><td>nan</td><td>nan</td><td>False</td><td>nan</td><td>nan</td><td>nan</td><td>nan</td><td>False</td><td>nan</td><td>nan</td><td>nan</td><td>nan</td><td>False</td><td>nan</td><td>nan</td><td>nan</td><td>nan</td><td>False</td><td>nan</td><td>nan</td><td>nan</td><td>nan</td><td>False</td><td>nan</td><td>nan</td><td>nan</td><td>nan</td><td>False</td><td>nan</td><td>nan</td><td>nan</td><td>nan</td><td>False</td><td>nan</td><td>nan</td><td>nan</td><td>nan</td><td>False</td><td>nan</td><td>nan</td><td>False</td><td>0</td><td>False</td><td>-1</td><td>nan</td><td>nan</td><td>nan</td><td>nan</td><td>nan</td><td>nan</td><td>nan</td><td>nan</td><td>nan</td><td>nan</td><td>nan</td><td>nan</td><td>nan</td><td>nan</td><td>nan</td><td>nan</td><td>nan</td><td>nan</td><td>nan</td><td>nan</td><td>nan</td><td>nan</td><td>nan</td><td>nan</td><td>False</td><td>nan</td><td>nan</td><td>nan</td><td>nan</td><td>False</td><td>nan</td><td>nan</td><td>nan</td><td>nan</td><td>False</td><td>nan</td><td>nan</td><td>nan</td><td>nan</td><td>False</td><td>nan</td><td>nan</td><td>nan</td><td>nan</td><td>False</td><td>False</td><td>0</td></tr>\n",
       "<tr><td>4</td><td>HELP_J095836.75+014228.42</td><td>COSMOS2015_J095836.75+014228.42</td><td>149.653097394</td><td>1.70789184178</td><td>1.0</td><td>nan</td><td>nan</td><td>-0.000246579991654</td><td>0.103220000863</td><td>26.0520000458</td><td>0.31101500988</td><td>0.0806664004922</td><td>0.102963000536</td><td>25.2325992584</td><td>0.246350005269</td><td>0.258816987276</td><td>0.149388998747</td><td>27.0683994293</td><td>0.989932000637</td><td>0.0398198999465</td><td>0.11974799633</td><td>nan</td><td>nan</td><td>nan</td><td>nan</td><td>28.2203998566</td><td>0.397868007421</td><td>0.0198852997273</td><td>0.0100728999823</td><td>27.3540992737</td><td>0.321458995342</td><td>0.0392105989158</td><td>0.0195471998304</td><td>27.7285995483</td><td>0.684507012367</td><td>0.0340216010809</td><td>0.0221338998526</td><td>26.8106994629</td><td>0.248740002513</td><td>0.0696393027902</td><td>0.020188299939</td><td>26.1644992828</td><td>0.386931985617</td><td>0.123733997345</td><td>0.153600007296</td><td>25.9248008728</td><td>0.144228994846</td><td>0.140121996403</td><td>0.0390227995813</td><td>27.0694007874</td><td>0.405708998442</td><td>0.0480844005942</td><td>0.0315652005374</td><td>28.7667999268</td><td>1.92421996593</td><td>0.00769595010206</td><td>0.0280857998878</td><td>26.6567993164</td><td>0.388253986835</td><td>0.0653655976057</td><td>0.0365901999176</td><td>26.6417999268</td><td>0.405050009489</td><td>0.129982993007</td><td>0.0567753985524</td><td>26.0825996399</td><td>0.295464009047</td><td>0.118578001857</td><td>0.0502335987985</td><td>27.043800354</td><td>0.783704996109</td><td>0.0753687024117</td><td>0.0646798983216</td><td>nan</td><td>nan</td><td>-0.00613234983757</td><td>0.0331675000489</td><td>nan</td><td>nan</td><td>0.0137437004596</td><td>0.0432870984077</td><td>26.9246006012</td><td>0.606145977974</td><td>0.0325868017972</td><td>0.0514783002436</td><td>27.1798992157</td><td>0.56678301096</td><td>0.0431457012892</td><td>0.0456913001835</td><td>26.4111995697</td><td>0.278153002262</td><td>0.0891596004367</td><td>0.0399947017431</td><td>25.8218002319</td><td>0.194416001439</td><td>0.143153995275</td><td>0.0636655986309</td><td>26.0065002441</td><td>0.459255993366</td><td>0.156662002206</td><td>0.0694921016693</td><td>26.8216991425</td><td>0.442831993103</td><td>0.0651032030582</td><td>0.0643173009157</td><td>25.3099994659</td><td>0.562014997005</td><td>0.331806004047</td><td>0.272588998079</td><td>28.498500824</td><td>16.3486995697</td><td>0.0366594009101</td><td>0.423794001341</td><td>25.9675006866</td><td>0.632786989212</td><td>0.125418007374</td><td>0.176188006997</td><td>-99.9000015259</td><td>-99.9000015259</td><td>-99.9000015259</td><td>-99.9000015259</td><td>0.135895997286</td><td>0.0644180998206</td><td>26.0669994354</td><td>0.514665007591</td><td>0.0</td><td>2.46672010422</td><td>-99.9000015259</td><td>-99.9000015259</td><td>0.0</td><td>2.71726989746</td><td>-99.9000015259</td><td>-99.9000015259</td><td>nan</td><td>nan</td><td>False</td><td>nan</td><td>-454.496307373</td><td>0.137784302235</td><td>0.0394690558314</td><td>False</td><td>26.6332702637</td><td>1.38583910465</td><td>0.29306229949</td><td>0.0664948746562</td><td>False</td><td>25.3675231934</td><td>0.626686215401</td><td>0.0540306568146</td><td>0.0492630489171</td><td>False</td><td>27.3997497559</td><td>3.26506924629</td><td>nan</td><td>nan</td><td>False</td><td>nan</td><td>nan</td><td>0.0186999365687</td><td>0.00685259094462</td><td>False</td><td>28.1536712646</td><td>0.549979686737</td><td>0.0415298193693</td><td>0.0122959278524</td><td>False</td><td>27.4164962769</td><td>0.541259348392</td><td>0.0294144153595</td><td>0.0185444448143</td><td>False</td><td>27.5706176758</td><td>0.706362307072</td><td>0.0685046538711</td><td>0.0156942792237</td><td>False</td><td>26.7928695679</td><td>0.314752817154</td><td>0.124222464859</td><td>0.0442700944841</td><td>False</td><td>26.1687774658</td><td>1.34780323505</td><td>0.154910087585</td><td>0.0205782279372</td><td>False</td><td>26.0337295532</td><td>0.302368402481</td><td>0.0539808534086</td><td>0.0201711207628</td><td>False</td><td>27.1949920654</td><td>0.712735891342</td><td>0.0113052418455</td><td>0.0200359635055</td><td>False</td><td>29.1843490601</td><td>3.96231412888</td><td>0.0789369270205</td><td>0.0282274633646</td><td>False</td><td>26.8616256714</td><td>0.607770860195</td><td>0.0800349637866</td><td>0.0298582315445</td><td>False</td><td>26.1152877808</td><td>0.474239736795</td><td>0.133955270052</td><td>0.0364535711706</td><td>False</td><td>26.2149887085</td><td>0.459954053164</td><td>0.0552687719464</td><td>0.0398940481246</td><td>False</td><td>26.7070236206</td><td>0.931756734848</td><td>nan</td><td>nan</td><td>False</td><td>nan</td><td>-5.87232494354</td><td>nan</td><td>nan</td><td>False</td><td>28.5547409058</td><td>3.41962981224</td><td>0.0616821795702</td><td>0.0344359949231</td><td>False</td><td>27.6173934937</td><td>1.7151683569</td><td>0.0487573668361</td><td>0.0254526361823</td><td>False</td><td>27.3126602173</td><td>1.14979469776</td><td>0.0989737734199</td><td>0.0253559313715</td><td>False</td><td>26.5245819092</td><td>0.487033307552</td><td>0.170325562358</td><td>0.0304991342127</td><td>False</td><td>26.0104904175</td><td>0.482864916325</td><td>0.143681108952</td><td>0.0607757270336</td><td>False</td><td>25.9125900269</td><td>0.481610655785</td><td>0.0678141415119</td><td>0.027658900246</td><td>False</td><td>26.8659973145</td><td>1.07262945175</td><td>0.272897690535</td><td>0.141261383891</td><td>False</td><td>25.0977935791</td><td>0.891966223717</td><td>0.0144743714482</td><td>0.217950865626</td><td>False</td><td>27.4895401001</td><td>12.5514450073</td><td>0.148935899138</td><td>0.0868025794625</td><td>False</td><td>26.1540985107</td><td>1.52524900436</td><td>False</td><td>False</td><td>False</td><td>False</td><td>False</td><td>0</td><td>False</td><td>-1</td><td>nan</td><td>nan</td><td>nan</td><td>nan</td><td>nan</td><td>nan</td><td>nan</td><td>nan</td><td>nan</td><td>nan</td><td>nan</td><td>nan</td><td>nan</td><td>nan</td><td>nan</td><td>nan</td><td>nan</td><td>nan</td><td>nan</td><td>False</td><td>nan</td><td>nan</td><td>nan</td><td>nan</td><td>False</td><td>nan</td><td>nan</td><td>False</td><td>nan</td><td>nan</td><td>False</td><td>nan</td><td>nan</td><td>False</td><td>False</td><td>0</td><td></td><td>nan</td><td>nan</td><td>nan</td><td>nan</td><td>nan</td><td>nan</td><td>nan</td><td>nan</td><td>nan</td><td>nan</td><td>nan</td><td>nan</td><td>nan</td><td>nan</td><td>nan</td><td>nan</td><td>nan</td><td>nan</td><td>nan</td><td>nan</td><td>nan</td><td>nan</td><td>nan</td><td>False</td><td>nan</td><td>nan</td><td>False</td><td>nan</td><td>nan</td><td>False</td><td>nan</td><td>nan</td><td>False</td><td>nan</td><td>nan</td><td>False</td><td>nan</td><td>nan</td><td>nan</td><td>nan</td><td>nan</td><td>nan</td><td>nan</td><td>nan</td><td>nan</td><td>nan</td><td>False</td><td>0</td><td>-1</td><td>nan</td><td>nan</td><td>nan</td><td>nan</td><td>nan</td><td>nan</td><td>nan</td><td>nan</td><td>nan</td><td>nan</td><td>nan</td><td>nan</td><td>nan</td><td>nan</td><td>False</td><td>nan</td><td>nan</td><td>False</td><td>nan</td><td>nan</td><td>False</td><td>nan</td><td>nan</td><td>nan</td><td>nan</td><td>nan</td><td>nan</td><td>nan</td><td>False</td><td>0</td><td>-1</td><td>nan</td><td>nan</td><td>nan</td><td>nan</td><td>nan</td><td>nan</td><td>nan</td><td>nan</td><td>nan</td><td>nan</td><td>nan</td><td>nan</td><td>nan</td><td>nan</td><td>nan</td><td>nan</td><td>nan</td><td>nan</td><td>nan</td><td>nan</td><td>nan</td><td>nan</td><td>nan</td><td>nan</td><td>nan</td><td>nan</td><td>nan</td><td>nan</td><td>nan</td><td>False</td><td>nan</td><td>nan</td><td>nan</td><td>nan</td><td>False</td><td>nan</td><td>nan</td><td>nan</td><td>nan</td><td>False</td><td>nan</td><td>nan</td><td>nan</td><td>nan</td><td>False</td><td>nan</td><td>nan</td><td>nan</td><td>nan</td><td>False</td><td>nan</td><td>nan</td><td>nan</td><td>nan</td><td>False</td><td>False</td><td>0</td><td>-1</td><td>nan</td><td>nan</td><td>nan</td><td>nan</td><td>nan</td><td>nan</td><td>nan</td><td>nan</td><td>nan</td><td>nan</td><td>nan</td><td>nan</td><td>nan</td><td>nan</td><td>nan</td><td>nan</td><td>nan</td><td>nan</td><td>nan</td><td>nan</td><td>nan</td><td>nan</td><td>nan</td><td>nan</td><td>nan</td><td>nan</td><td>nan</td><td>nan</td><td>nan</td><td>False</td><td>nan</td><td>nan</td><td>nan</td><td>nan</td><td>False</td><td>nan</td><td>nan</td><td>nan</td><td>nan</td><td>False</td><td>nan</td><td>nan</td><td>nan</td><td>nan</td><td>False</td><td>nan</td><td>nan</td><td>nan</td><td>nan</td><td>False</td><td>nan</td><td>nan</td><td>nan</td><td>nan</td><td>False</td><td>False</td><td>0</td><td></td><td>nan</td><td>nan</td><td>nan</td><td>nan</td><td>nan</td><td>nan</td><td>nan</td><td>nan</td><td>nan</td><td>nan</td><td>nan</td><td>nan</td><td>nan</td><td>nan</td><td>nan</td><td>nan</td><td>nan</td><td>nan</td><td>nan</td><td>False</td><td>nan</td><td>nan</td><td>False</td><td>nan</td><td>nan</td><td>False</td><td>nan</td><td>nan</td><td>False</td><td>nan</td><td>nan</td><td>nan</td><td>nan</td><td>nan</td><td>nan</td><td>nan</td><td>nan</td><td>False</td><td>0</td><td>-1</td><td>nan</td><td>nan</td><td>nan</td><td>nan</td><td>nan</td><td>nan</td><td>nan</td><td>nan</td><td>nan</td><td>nan</td><td>nan</td><td>nan</td><td>nan</td><td>nan</td><td>nan</td><td>nan</td><td>nan</td><td>nan</td><td>nan</td><td>False</td><td>nan</td><td>nan</td><td>nan</td><td>nan</td><td>False</td><td>nan</td><td>nan</td><td>nan</td><td>nan</td><td>nan</td><td>nan</td><td>False</td><td>nan</td><td>nan</td><td>nan</td><td>nan</td><td>False</td><td>False</td><td>0</td><td>-1</td><td>nan</td><td>nan</td><td>nan</td><td>nan</td><td>nan</td><td>nan</td><td>nan</td><td>nan</td><td>nan</td><td>nan</td><td>nan</td><td>nan</td><td>nan</td><td>nan</td><td>nan</td><td>nan</td><td>nan</td><td>nan</td><td>nan</td><td>nan</td><td>nan</td><td>nan</td><td>nan</td><td>nan</td><td>nan</td><td>nan</td><td>nan</td><td>nan</td><td>nan</td><td>nan</td><td>nan</td><td>nan</td><td>nan</td><td>nan</td><td>False</td><td>nan</td><td>nan</td><td>nan</td><td>nan</td><td>False</td><td>nan</td><td>nan</td><td>nan</td><td>nan</td><td>False</td><td>nan</td><td>nan</td><td>nan</td><td>nan</td><td>False</td><td>nan</td><td>nan</td><td>nan</td><td>nan</td><td>False</td><td>nan</td><td>nan</td><td>nan</td><td>nan</td><td>False</td><td>nan</td><td>nan</td><td>nan</td><td>nan</td><td>False</td><td>nan</td><td>nan</td><td>nan</td><td>nan</td><td>False</td><td>nan</td><td>nan</td><td>False</td><td>0</td><td>False</td><td>-1</td><td>nan</td><td>nan</td><td>nan</td><td>nan</td><td>nan</td><td>nan</td><td>nan</td><td>nan</td><td>nan</td><td>nan</td><td>nan</td><td>nan</td><td>nan</td><td>nan</td><td>nan</td><td>nan</td><td>nan</td><td>nan</td><td>nan</td><td>nan</td><td>nan</td><td>nan</td><td>nan</td><td>nan</td><td>False</td><td>nan</td><td>nan</td><td>nan</td><td>nan</td><td>False</td><td>nan</td><td>nan</td><td>nan</td><td>nan</td><td>False</td><td>nan</td><td>nan</td><td>nan</td><td>nan</td><td>False</td><td>nan</td><td>nan</td><td>nan</td><td>nan</td><td>False</td><td>False</td><td>0</td></tr>\n",
       "<tr><td>5</td><td>HELP_J095739.74+020106.13</td><td>COSMOS2015_J095739.74+020106.13</td><td>149.415582</td><td>2.01836706221</td><td>1.0</td><td>26.7628993988</td><td>0.753624975681</td><td>-0.000113380003313</td><td>0.0412022992969</td><td>25.6324996948</td><td>0.11337800324</td><td>0.171386003494</td><td>0.0564917996526</td><td>28.5618000031</td><td>4.18720006943</td><td>0.0126599995419</td><td>0.125743001699</td><td>25.2994995117</td><td>0.139348000288</td><td>0.247887000442</td><td>0.0894107967615</td><td>27.4813995361</td><td>0.320217013359</td><td>0.0309725999832</td><td>0.0208007991314</td><td>26.9248008728</td><td>0.146365001798</td><td>0.0490317009389</td><td>0.0109968995675</td><td>26.789100647</td><td>0.221683993936</td><td>0.0528322011232</td><td>0.0204211995006</td><td>26.5202007294</td><td>0.256989985704</td><td>0.0753317028284</td><td>0.0228457003832</td><td>26.7376995087</td><td>0.200891003013</td><td>0.068857498467</td><td>0.0163049995899</td><td>25.491399765</td><td>0.251448988914</td><td>0.201304003596</td><td>0.165234997869</td><td>26.1494998932</td><td>0.185737997293</td><td>0.0898322016001</td><td>0.0362550988793</td><td>31.0365009308</td><td>18.6769008636</td><td>0.0221161004156</td><td>0.0336868017912</td><td>26.6819992065</td><td>0.329160004854</td><td>0.0654738992453</td><td>0.0292892996222</td><td>26.3227996826</td><td>0.304084986448</td><td>0.0866943001747</td><td>0.0349376015365</td><td>25.9986991882</td><td>0.254842013121</td><td>0.136864006519</td><td>0.057227101177</td><td>26.060300827</td><td>0.334156990051</td><td>0.124164000154</td><td>0.0522492006421</td><td>26.683599472</td><td>0.592015981674</td><td>0.0977313965559</td><td>0.0620034001768</td><td>26.8917999268</td><td>0.430472999811</td><td>0.0672165974975</td><td>0.0349991992116</td><td>nan</td><td>nan</td><td>-0.0067922398448</td><td>0.0412194989622</td><td>26.550699234</td><td>0.420152008533</td><td>0.0779111012816</td><td>0.0449797995389</td><td>nan</td><td>nan</td><td>0.00306477001868</td><td>0.0530688017607</td><td>26.4974002838</td><td>0.371378004551</td><td>0.0971691980958</td><td>0.0443970002234</td><td>26.5650005341</td><td>0.468791007996</td><td>0.0366749018431</td><td>0.0691251009703</td><td>27.0240001678</td><td>1.50836002827</td><td>0.036743298173</td><td>0.0798444002867</td><td>27.5359992981</td><td>0.961488008499</td><td>0.0413306988776</td><td>0.0648398995399</td><td>nan</td><td>nan</td><td>-0.313125014305</td><td>0.361483007669</td><td>25.4489994049</td><td>0.969497978687</td><td>0.18642899394</td><td>0.371540009975</td><td>nan</td><td>nan</td><td>0.0376974008977</td><td>0.200175002217</td><td>-0.0186358001083</td><td>0.0352833010256</td><td>-99.9000015259</td><td>-99.9000015259</td><td>-99.9000015259</td><td>-99.9000015259</td><td>-99.9000015259</td><td>-99.9000015259</td><td>0.0</td><td>2.16131997108</td><td>-99.9000015259</td><td>-99.9000015259</td><td>0.0</td><td>3.47568011284</td><td>-99.9000015259</td><td>-99.9000015259</td><td>0.0715880021453</td><td>0.0496902577579</td><td>False</td><td>nan</td><td>-394.55657959</td><td>0.202768340707</td><td>0.0211740843952</td><td>False</td><td>25.8150634766</td><td>0.357877492905</td><td>0.013654621318</td><td>0.0526597835124</td><td>False</td><td>28.643913269</td><td>10.783864975</td><td>0.275549650192</td><td>0.035365216434</td><td>False</td><td>25.4143676758</td><td>0.391616106033</td><td>0.0369351617992</td><td>0.0108933160082</td><td>False</td><td>27.6725540161</td><td>0.729166388512</td><td>0.0616708025336</td><td>0.0083136651665</td><td>False</td><td>27.1738052368</td><td>0.243510439992</td><td>0.0698810443282</td><td>0.0142682082951</td><td>False</td><td>27.0927581787</td><td>0.41966894269</td><td>0.0895198956132</td><td>0.0211890470237</td><td>False</td><td>26.7075576782</td><td>0.329269081354</td><td>0.0732689797878</td><td>0.0135567719117</td><td>False</td><td>26.8051223755</td><td>0.2570951581</td><td>0.230908572674</td><td>0.0534768253565</td><td>False</td><td>25.64037323</td><td>0.891197443008</td><td>0.125950440764</td><td>0.0215464700013</td><td>False</td><td>26.516418457</td><td>0.438188880682</td><td>0.00139765220229</td><td>0.024042500183</td><td>False</td><td>28.038230896</td><td>1.65377163887</td><td>0.0771259143949</td><td>0.0233820769936</td><td>False</td><td>26.8598327637</td><td>0.485696613789</td><td>0.107369259</td><td>0.0300711914897</td><td>False</td><td>26.5550231934</td><td>0.437549173832</td><td>0.144717171788</td><td>0.0339677520096</td><td>False</td><td>26.0592803955</td><td>0.453980088234</td><td>0.136734932661</td><td>0.0420829057693</td><td>False</td><td>26.1650085449</td><td>0.456886380911</td><td>0.077012270689</td><td>0.0419922396541</td><td>False</td><td>26.4249191284</td><td>0.688819944859</td><td>0.0635740458965</td><td>0.0252058561891</td><td>False</td><td>26.8313064575</td><td>0.565335035324</td><td>nan</td><td>nan</td><td>False</td><td>nan</td><td>-6.58891630173</td><td>0.0870402529836</td><td>0.0336823426187</td><td>False</td><td>26.671005249</td><td>0.626819431782</td><td>nan</td><td>nan</td><td>False</td><td>30.1840133667</td><td>18.8003387451</td><td>0.0914196521044</td><td>0.0312702544034</td><td>False</td><td>26.4311752319</td><td>0.496077239513</td><td>0.085901260376</td><td>0.0370898023248</td><td>False</td><td>27.4890823364</td><td>2.04640293121</td><td>0.0562858991325</td><td>0.0781952440739</td><td>False</td><td>27.4870529175</td><td>2.35934042931</td><td>0.0351236723363</td><td>0.0311042312533</td><td>False</td><td>27.3593215942</td><td>1.70331084728</td><td>nan</td><td>nan</td><td>False</td><td>nan</td><td>-1.25341367722</td><td>0.240104436874</td><td>0.214399009943</td><td>False</td><td>25.7237167358</td><td>2.16379666328</td><td>nan</td><td>nan</td><td>False</td><td>27.4592208862</td><td>5.76531076431</td><td>False</td><td>False</td><td>False</td><td>False</td><td>False</td><td>0</td><td>False</td><td>-1</td><td>nan</td><td>nan</td><td>nan</td><td>nan</td><td>nan</td><td>nan</td><td>nan</td><td>nan</td><td>nan</td><td>nan</td><td>nan</td><td>nan</td><td>nan</td><td>nan</td><td>nan</td><td>nan</td><td>nan</td><td>nan</td><td>nan</td><td>False</td><td>nan</td><td>nan</td><td>nan</td><td>nan</td><td>False</td><td>nan</td><td>nan</td><td>False</td><td>nan</td><td>nan</td><td>False</td><td>nan</td><td>nan</td><td>False</td><td>False</td><td>0</td><td></td><td>nan</td><td>nan</td><td>nan</td><td>nan</td><td>nan</td><td>nan</td><td>nan</td><td>nan</td><td>nan</td><td>nan</td><td>nan</td><td>nan</td><td>nan</td><td>nan</td><td>nan</td><td>nan</td><td>nan</td><td>nan</td><td>nan</td><td>nan</td><td>nan</td><td>nan</td><td>nan</td><td>False</td><td>nan</td><td>nan</td><td>False</td><td>nan</td><td>nan</td><td>False</td><td>nan</td><td>nan</td><td>False</td><td>nan</td><td>nan</td><td>False</td><td>nan</td><td>nan</td><td>nan</td><td>nan</td><td>nan</td><td>nan</td><td>nan</td><td>nan</td><td>nan</td><td>nan</td><td>False</td><td>0</td><td>-1</td><td>nan</td><td>nan</td><td>nan</td><td>nan</td><td>nan</td><td>nan</td><td>nan</td><td>nan</td><td>nan</td><td>nan</td><td>nan</td><td>nan</td><td>nan</td><td>nan</td><td>False</td><td>nan</td><td>nan</td><td>False</td><td>nan</td><td>nan</td><td>False</td><td>nan</td><td>nan</td><td>nan</td><td>nan</td><td>nan</td><td>nan</td><td>nan</td><td>False</td><td>0</td><td>-1</td><td>nan</td><td>nan</td><td>nan</td><td>nan</td><td>nan</td><td>nan</td><td>nan</td><td>nan</td><td>nan</td><td>nan</td><td>nan</td><td>nan</td><td>nan</td><td>nan</td><td>nan</td><td>nan</td><td>nan</td><td>nan</td><td>nan</td><td>nan</td><td>nan</td><td>nan</td><td>nan</td><td>nan</td><td>nan</td><td>nan</td><td>nan</td><td>nan</td><td>nan</td><td>False</td><td>nan</td><td>nan</td><td>nan</td><td>nan</td><td>False</td><td>nan</td><td>nan</td><td>nan</td><td>nan</td><td>False</td><td>nan</td><td>nan</td><td>nan</td><td>nan</td><td>False</td><td>nan</td><td>nan</td><td>nan</td><td>nan</td><td>False</td><td>nan</td><td>nan</td><td>nan</td><td>nan</td><td>False</td><td>False</td><td>0</td><td>-1</td><td>nan</td><td>nan</td><td>nan</td><td>nan</td><td>nan</td><td>nan</td><td>nan</td><td>nan</td><td>nan</td><td>nan</td><td>nan</td><td>nan</td><td>nan</td><td>nan</td><td>nan</td><td>nan</td><td>nan</td><td>nan</td><td>nan</td><td>nan</td><td>nan</td><td>nan</td><td>nan</td><td>nan</td><td>nan</td><td>nan</td><td>nan</td><td>nan</td><td>nan</td><td>False</td><td>nan</td><td>nan</td><td>nan</td><td>nan</td><td>False</td><td>nan</td><td>nan</td><td>nan</td><td>nan</td><td>False</td><td>nan</td><td>nan</td><td>nan</td><td>nan</td><td>False</td><td>nan</td><td>nan</td><td>nan</td><td>nan</td><td>False</td><td>nan</td><td>nan</td><td>nan</td><td>nan</td><td>False</td><td>False</td><td>0</td><td></td><td>nan</td><td>nan</td><td>nan</td><td>nan</td><td>nan</td><td>nan</td><td>nan</td><td>nan</td><td>nan</td><td>nan</td><td>nan</td><td>nan</td><td>nan</td><td>nan</td><td>nan</td><td>nan</td><td>nan</td><td>nan</td><td>nan</td><td>False</td><td>nan</td><td>nan</td><td>False</td><td>nan</td><td>nan</td><td>False</td><td>nan</td><td>nan</td><td>False</td><td>nan</td><td>nan</td><td>nan</td><td>nan</td><td>nan</td><td>nan</td><td>nan</td><td>nan</td><td>False</td><td>0</td><td>-1</td><td>nan</td><td>nan</td><td>nan</td><td>nan</td><td>nan</td><td>nan</td><td>nan</td><td>nan</td><td>nan</td><td>nan</td><td>nan</td><td>nan</td><td>nan</td><td>nan</td><td>nan</td><td>nan</td><td>nan</td><td>nan</td><td>nan</td><td>False</td><td>nan</td><td>nan</td><td>nan</td><td>nan</td><td>False</td><td>nan</td><td>nan</td><td>nan</td><td>nan</td><td>nan</td><td>nan</td><td>False</td><td>nan</td><td>nan</td><td>nan</td><td>nan</td><td>False</td><td>False</td><td>0</td><td>-1</td><td>nan</td><td>nan</td><td>nan</td><td>nan</td><td>nan</td><td>nan</td><td>nan</td><td>nan</td><td>nan</td><td>nan</td><td>nan</td><td>nan</td><td>nan</td><td>nan</td><td>nan</td><td>nan</td><td>nan</td><td>nan</td><td>nan</td><td>nan</td><td>nan</td><td>nan</td><td>nan</td><td>nan</td><td>nan</td><td>nan</td><td>nan</td><td>nan</td><td>nan</td><td>nan</td><td>nan</td><td>nan</td><td>nan</td><td>nan</td><td>False</td><td>nan</td><td>nan</td><td>nan</td><td>nan</td><td>False</td><td>nan</td><td>nan</td><td>nan</td><td>nan</td><td>False</td><td>nan</td><td>nan</td><td>nan</td><td>nan</td><td>False</td><td>nan</td><td>nan</td><td>nan</td><td>nan</td><td>False</td><td>nan</td><td>nan</td><td>nan</td><td>nan</td><td>False</td><td>nan</td><td>nan</td><td>nan</td><td>nan</td><td>False</td><td>nan</td><td>nan</td><td>nan</td><td>nan</td><td>False</td><td>nan</td><td>nan</td><td>False</td><td>0</td><td>False</td><td>-1</td><td>nan</td><td>nan</td><td>nan</td><td>nan</td><td>nan</td><td>nan</td><td>nan</td><td>nan</td><td>nan</td><td>nan</td><td>nan</td><td>nan</td><td>nan</td><td>nan</td><td>nan</td><td>nan</td><td>nan</td><td>nan</td><td>nan</td><td>nan</td><td>nan</td><td>nan</td><td>nan</td><td>nan</td><td>False</td><td>nan</td><td>nan</td><td>nan</td><td>nan</td><td>False</td><td>nan</td><td>nan</td><td>nan</td><td>nan</td><td>False</td><td>nan</td><td>nan</td><td>nan</td><td>nan</td><td>False</td><td>nan</td><td>nan</td><td>nan</td><td>nan</td><td>False</td><td>False</td><td>0</td></tr>\n",
       "<tr><td>6</td><td>HELP_J100054.82+014728.67</td><td>COSMOS2015_J100054.82+014728.67</td><td>150.228391945</td><td>1.79129408283</td><td>1.0</td><td>29.2465991974</td><td>6.05383014679</td><td>-0.000237561005633</td><td>0.0405572988093</td><td>27.1159992218</td><td>0.336439996958</td><td>0.0502315014601</td><td>0.045074198395</td><td>nan</td><td>nan</td><td>-0.00480272015557</td><td>0.0361643992364</td><td>26.9808998108</td><td>0.451631993055</td><td>0.0548005998135</td><td>0.0638862028718</td><td>29.4596996307</td><td>1.33456003666</td><td>0.00622601993382</td><td>0.0168471001089</td><td>27.989900589</td><td>0.324928998947</td><td>0.0230085998774</td><td>0.0107559002936</td><td>27.9109992981</td><td>0.544492006302</td><td>0.0250893998891</td><td>0.0213009994477</td><td>26.8572998047</td><td>0.24190300703</td><td>0.0654063001275</td><td>0.018897999078</td><td>28.4127998352</td><td>0.722095012665</td><td>0.0156159000471</td><td>0.0146786002442</td><td>27.1576004028</td><td>0.816769003868</td><td>0.0513276010752</td><td>0.139272004366</td><td>26.3866004944</td><td>0.180571004748</td><td>0.102343000472</td><td>0.0342869982123</td><td>nan</td><td>nan</td><td>-0.0124096004292</td><td>0.035115301609</td><td>27.6854991913</td><td>0.638763010502</td><td>0.0292589999735</td><td>0.0272396001965</td><td>27.4171009064</td><td>0.648198008537</td><td>0.0395639017224</td><td>0.0327850989997</td><td>nan</td><td>nan</td><td>-0.0372850000858</td><td>0.0510088987648</td><td>27.3796005249</td><td>0.833254992962</td><td>0.0412346981466</td><td>0.0465188995004</td><td>27.7444000244</td><td>1.26174998283</td><td>0.0302250999957</td><td>0.0599373988807</td><td>29.2280006409</td><td>2.89006996155</td><td>0.00541462004185</td><td>0.0329351983964</td><td>26.9734992981</td><td>0.380688011646</td><td>0.0616338998079</td><td>0.0360668003559</td><td>nan</td><td>nan</td><td>-0.00759246014059</td><td>0.0388716012239</td><td>26.7691993713</td><td>0.365110993385</td><td>0.0688109993935</td><td>0.0464650988579</td><td>27.3020992279</td><td>0.591785013676</td><td>0.0455163009465</td><td>0.0405858010054</td><td>25.7651004791</td><td>0.164149001241</td><td>0.174545004964</td><td>0.061018999666</td><td>25.9951000214</td><td>0.454319000244</td><td>0.144473001361</td><td>0.0750107988715</td><td>26.3269996643</td><td>0.259514987469</td><td>0.10660199821</td><td>0.0643362030387</td><td>nan</td><td>nan</td><td>-0.11388900131</td><td>0.357834011316</td><td>nan</td><td>nan</td><td>-0.186820998788</td><td>0.375277012587</td><td>25.8616008759</td><td>0.368202000856</td><td>0.16353200376</td><td>0.121230997145</td><td>0.100625999272</td><td>0.0230882000178</td><td>26.3931999207</td><td>0.249117001891</td><td>-99.9000015259</td><td>-99.9000015259</td><td>-99.9000015259</td><td>-99.9000015259</td><td>0.0</td><td>2.32438993454</td><td>-99.9000015259</td><td>-99.9000015259</td><td>0.0</td><td>2.16131997108</td><td>-99.9000015259</td><td>-99.9000015259</td><td>0.00726709002629</td><td>0.0405197180808</td><td>False</td><td>nan</td><td>-185.360916138</td><td>0.0517130531371</td><td>0.0160244610161</td><td>False</td><td>27.1475601196</td><td>0.9742628932</td><td>nan</td><td>nan</td><td>False</td><td>nan</td><td>-8.17557430267</td><td>0.0585652664304</td><td>0.0243613030761</td><td>False</td><td>27.0530395508</td><td>1.26574456692</td><td>0.00597200496122</td><td>0.00734064076096</td><td>False</td><td>29.4144744873</td><td>2.9379131794</td><td>0.0231227464974</td><td>0.00691995956004</td><td>False</td><td>27.9952774048</td><td>0.50755238533</td><td>0.0248656794429</td><td>0.0124700302258</td><td>False</td><td>27.9012756348</td><td>0.921794295311</td><td>0.0656266137958</td><td>0.0146216703579</td><td>False</td><td>26.8609542847</td><td>0.313704371452</td><td>0.0156631823629</td><td>0.0104171764106</td><td>False</td><td>28.4160842896</td><td>1.02056801319</td><td>0.0497690662742</td><td>0.03743987903</td><td>False</td><td>27.1241226196</td><td>2.9460299015</td><td>0.101241752505</td><td>0.0168377216905</td><td>False</td><td>26.3748550415</td><td>0.363743811846</td><td>nan</td><td>nan</td><td>False</td><td>nan</td><td>-3.07229495049</td><td>0.0306055545807</td><td>0.0180059354752</td><td>False</td><td>27.7343521118</td><td>1.01080071926</td><td>0.039188593626</td><td>0.0233960766345</td><td>False</td><td>27.40675354</td><td>0.899708211422</td><td>nan</td><td>nan</td><td>False</td><td>nan</td><td>-1.48537492752</td><td>0.040565751493</td><td>0.0311324372888</td><td>False</td><td>27.3618469238</td><td>1.2248724699</td><td>0.0289894342422</td><td>0.0336890481412</td><td>False</td><td>27.6990814209</td><td>2.15305161476</td><td>0.00739263417199</td><td>0.0196781046689</td><td>False</td><td>29.566078186</td><td>6.60414457321</td><td>0.0589658170938</td><td>0.0206749849021</td><td>False</td><td>26.925453186</td><td>0.635348916054</td><td>nan</td><td>nan</td><td>False</td><td>nan</td><td>-5.55871248245</td><td>0.0711738094687</td><td>0.0239343028516</td><td>False</td><td>26.8058547974</td><td>0.733150839806</td><td>0.0435672514141</td><td>0.0237465109676</td><td>False</td><td>27.2545852661</td><td>0.968124985695</td><td>0.179456695914</td><td>0.0271314866841</td><td>False</td><td>25.7952346802</td><td>0.379561334848</td><td>0.145197674632</td><td>0.0607569888234</td><td>False</td><td>26.0005340576</td><td>0.56371730566</td><td>0.106954753399</td><td>0.0255645513535</td><td>False</td><td>26.3305892944</td><td>0.655261099339</td><td>nan</td><td>nan</td><td>False</td><td>nan</td><td>-3.41133308411</td><td>nan</td><td>nan</td><td>False</td><td>nan</td><td>-2.18097448349</td><td>0.164194911718</td><td>0.0556828565896</td><td>False</td><td>25.8659973145</td><td>0.804887533188</td><td>False</td><td>False</td><td>False</td><td>False</td><td>False</td><td>0</td><td>False</td><td>-1</td><td>nan</td><td>nan</td><td>nan</td><td>nan</td><td>nan</td><td>nan</td><td>nan</td><td>nan</td><td>nan</td><td>nan</td><td>nan</td><td>nan</td><td>nan</td><td>nan</td><td>nan</td><td>nan</td><td>nan</td><td>nan</td><td>nan</td><td>False</td><td>nan</td><td>nan</td><td>nan</td><td>nan</td><td>False</td><td>nan</td><td>nan</td><td>False</td><td>nan</td><td>nan</td><td>False</td><td>nan</td><td>nan</td><td>False</td><td>False</td><td>0</td><td></td><td>nan</td><td>nan</td><td>nan</td><td>nan</td><td>nan</td><td>nan</td><td>nan</td><td>nan</td><td>nan</td><td>nan</td><td>nan</td><td>nan</td><td>nan</td><td>nan</td><td>nan</td><td>nan</td><td>nan</td><td>nan</td><td>nan</td><td>nan</td><td>nan</td><td>nan</td><td>nan</td><td>False</td><td>nan</td><td>nan</td><td>False</td><td>nan</td><td>nan</td><td>False</td><td>nan</td><td>nan</td><td>False</td><td>nan</td><td>nan</td><td>False</td><td>nan</td><td>nan</td><td>nan</td><td>nan</td><td>nan</td><td>nan</td><td>nan</td><td>nan</td><td>nan</td><td>nan</td><td>False</td><td>0</td><td>-1</td><td>nan</td><td>nan</td><td>nan</td><td>nan</td><td>nan</td><td>nan</td><td>nan</td><td>nan</td><td>nan</td><td>nan</td><td>nan</td><td>nan</td><td>nan</td><td>nan</td><td>False</td><td>nan</td><td>nan</td><td>False</td><td>nan</td><td>nan</td><td>False</td><td>nan</td><td>nan</td><td>nan</td><td>nan</td><td>nan</td><td>nan</td><td>nan</td><td>False</td><td>0</td><td>-1</td><td>nan</td><td>nan</td><td>nan</td><td>nan</td><td>nan</td><td>nan</td><td>nan</td><td>nan</td><td>nan</td><td>nan</td><td>nan</td><td>nan</td><td>nan</td><td>nan</td><td>nan</td><td>nan</td><td>nan</td><td>nan</td><td>nan</td><td>nan</td><td>nan</td><td>nan</td><td>nan</td><td>nan</td><td>nan</td><td>nan</td><td>nan</td><td>nan</td><td>nan</td><td>False</td><td>nan</td><td>nan</td><td>nan</td><td>nan</td><td>False</td><td>nan</td><td>nan</td><td>nan</td><td>nan</td><td>False</td><td>nan</td><td>nan</td><td>nan</td><td>nan</td><td>False</td><td>nan</td><td>nan</td><td>nan</td><td>nan</td><td>False</td><td>nan</td><td>nan</td><td>nan</td><td>nan</td><td>False</td><td>False</td><td>0</td><td>-1</td><td>nan</td><td>nan</td><td>nan</td><td>nan</td><td>nan</td><td>nan</td><td>nan</td><td>nan</td><td>nan</td><td>nan</td><td>nan</td><td>nan</td><td>nan</td><td>nan</td><td>nan</td><td>nan</td><td>nan</td><td>nan</td><td>nan</td><td>nan</td><td>nan</td><td>nan</td><td>nan</td><td>nan</td><td>nan</td><td>nan</td><td>nan</td><td>nan</td><td>nan</td><td>False</td><td>nan</td><td>nan</td><td>nan</td><td>nan</td><td>False</td><td>nan</td><td>nan</td><td>nan</td><td>nan</td><td>False</td><td>nan</td><td>nan</td><td>nan</td><td>nan</td><td>False</td><td>nan</td><td>nan</td><td>nan</td><td>nan</td><td>False</td><td>nan</td><td>nan</td><td>nan</td><td>nan</td><td>False</td><td>False</td><td>0</td><td></td><td>nan</td><td>nan</td><td>nan</td><td>nan</td><td>nan</td><td>nan</td><td>nan</td><td>nan</td><td>nan</td><td>nan</td><td>nan</td><td>nan</td><td>nan</td><td>nan</td><td>nan</td><td>nan</td><td>nan</td><td>nan</td><td>nan</td><td>False</td><td>nan</td><td>nan</td><td>False</td><td>nan</td><td>nan</td><td>False</td><td>nan</td><td>nan</td><td>False</td><td>nan</td><td>nan</td><td>nan</td><td>nan</td><td>nan</td><td>nan</td><td>nan</td><td>nan</td><td>False</td><td>0</td><td>-1</td><td>nan</td><td>nan</td><td>nan</td><td>nan</td><td>nan</td><td>nan</td><td>nan</td><td>nan</td><td>nan</td><td>nan</td><td>nan</td><td>nan</td><td>nan</td><td>nan</td><td>nan</td><td>nan</td><td>nan</td><td>nan</td><td>nan</td><td>False</td><td>nan</td><td>nan</td><td>nan</td><td>nan</td><td>False</td><td>nan</td><td>nan</td><td>nan</td><td>nan</td><td>nan</td><td>nan</td><td>False</td><td>nan</td><td>nan</td><td>nan</td><td>nan</td><td>False</td><td>False</td><td>0</td><td>-1</td><td>nan</td><td>nan</td><td>nan</td><td>nan</td><td>nan</td><td>nan</td><td>nan</td><td>nan</td><td>nan</td><td>nan</td><td>nan</td><td>nan</td><td>nan</td><td>nan</td><td>nan</td><td>nan</td><td>nan</td><td>nan</td><td>nan</td><td>nan</td><td>nan</td><td>nan</td><td>nan</td><td>nan</td><td>nan</td><td>nan</td><td>nan</td><td>nan</td><td>nan</td><td>nan</td><td>nan</td><td>nan</td><td>nan</td><td>nan</td><td>False</td><td>nan</td><td>nan</td><td>nan</td><td>nan</td><td>False</td><td>nan</td><td>nan</td><td>nan</td><td>nan</td><td>False</td><td>nan</td><td>nan</td><td>nan</td><td>nan</td><td>False</td><td>nan</td><td>nan</td><td>nan</td><td>nan</td><td>False</td><td>nan</td><td>nan</td><td>nan</td><td>nan</td><td>False</td><td>nan</td><td>nan</td><td>nan</td><td>nan</td><td>False</td><td>nan</td><td>nan</td><td>nan</td><td>nan</td><td>False</td><td>nan</td><td>nan</td><td>False</td><td>0</td><td>False</td><td>-1</td><td>nan</td><td>nan</td><td>nan</td><td>nan</td><td>nan</td><td>nan</td><td>nan</td><td>nan</td><td>nan</td><td>nan</td><td>nan</td><td>nan</td><td>nan</td><td>nan</td><td>nan</td><td>nan</td><td>nan</td><td>nan</td><td>nan</td><td>nan</td><td>nan</td><td>nan</td><td>nan</td><td>nan</td><td>False</td><td>nan</td><td>nan</td><td>nan</td><td>nan</td><td>False</td><td>nan</td><td>nan</td><td>nan</td><td>nan</td><td>False</td><td>nan</td><td>nan</td><td>nan</td><td>nan</td><td>False</td><td>nan</td><td>nan</td><td>nan</td><td>nan</td><td>False</td><td>False</td><td>0</td></tr>\n",
       "<tr><td>7</td><td>HELP_J100148.56+015305.15</td><td>COSMOS2015_J100148.56+015305.15</td><td>150.452331512</td><td>1.88475989727</td><td>1.0</td><td>23.8195991516</td><td>0.0921522974968</td><td>-0.000252103985986</td><td>0.0323684997857</td><td>23.3584003448</td><td>0.0269904006273</td><td>0.415197014809</td><td>0.0467310994864</td><td>nan</td><td>nan</td><td>nan</td><td>nan</td><td>25.2387008667</td><td>0.236827999353</td><td>0.0658366978168</td><td>0.0685736984015</td><td>26.0846004486</td><td>0.178726002574</td><td>0.00367368990555</td><td>0.0177814997733</td><td>27.5030994415</td><td>0.624872028828</td><td>0.00124364998192</td><td>0.0112725002691</td><td>26.26720047</td><td>0.302100986242</td><td>-0.0181316994131</td><td>0.0193975009024</td><td>25.8335990906</td><td>0.316940009594</td><td>-0.0135044995695</td><td>0.0223655998707</td><td>25.7278995514</td><td>0.173035994172</td><td>-0.0136021999642</td><td>0.0140941003338</td><td>24.7469005585</td><td>0.27194198966</td><td>0.0535918995738</td><td>0.148923993111</td><td>26.9836006165</td><td>0.895524978638</td><td>-0.0219509005547</td><td>0.0345788002014</td><td>26.147600174</td><td>0.482416003942</td><td>-0.0140969995409</td><td>0.0334184989333</td><td>26.1597995758</td><td>0.479447990656</td><td>-0.00156860996503</td><td>0.029427299276</td><td>27.0347003937</td><td>1.34309005737</td><td>0.0252924002707</td><td>0.0343060009181</td><td>25.5088005066</td><td>0.358393996954</td><td>-0.0303502995521</td><td>0.0537494011223</td><td>26.4827003479</td><td>1.1038299799</td><td>nan</td><td>nan</td><td>nan</td><td>nan</td><td>nan</td><td>nan</td><td>26.9158992767</td><td>0.969923973083</td><td>0.00950601045042</td><td>0.0328750982881</td><td>26.4088001251</td><td>0.694472014904</td><td>0.0856193006039</td><td>0.0393217988312</td><td>25.0349998474</td><td>0.241332992911</td><td>0.0335065983236</td><td>0.0443288013339</td><td>24.7001991272</td><td>0.162542000413</td><td>-0.0242353007197</td><td>0.0489732995629</td><td>25.9818000793</td><td>0.506787002087</td><td>0.0119542004541</td><td>0.0414104014635</td><td>26.4953994751</td><td>0.983574986458</td><td>nan</td><td>nan</td><td>24.3694000244</td><td>0.279796987772</td><td>-0.0150197995827</td><td>0.0730174034834</td><td>25.3043994904</td><td>0.285836994648</td><td>0.0464681982994</td><td>0.064169600606</td><td>nan</td><td>nan</td><td>nan</td><td>nan</td><td>24.4470996857</td><td>0.731725990772</td><td>0.185175001621</td><td>0.307033985853</td><td>24.7178001404</td><td>0.369619995356</td><td>0.0362976007164</td><td>0.123525999486</td><td>0.1432390064</td><td>0.0625796020031</td><td>26.0097999573</td><td>0.474346995354</td><td>-99.9000015259</td><td>-99.9000015259</td><td>-99.9000015259</td><td>-99.9000015259</td><td>0.0</td><td>0.349896013737</td><td>-99.9000015259</td><td>-99.9000015259</td><td>0.0</td><td>1.08697998524</td><td>-99.9000015259</td><td>-99.9000015259</td><td>1.07686257362</td><td>0.091399140656</td><td>False</td><td>nan</td><td>-139.401428223</td><td>1.6467949152</td><td>0.0409378036857</td><td>False</td><td>24.8543701172</td><td>0.122201368213</td><td>nan</td><td>nan</td><td>False</td><td>nan</td><td>nan</td><td>0.291420102119</td><td>0.0635664910078</td><td>False</td><td>26.8538284302</td><td>1.13087296486</td><td>0.133708700538</td><td>0.0220101531595</td><td>False</td><td>29.9872512817</td><td>5.2552113533</td><td>0.0362043008208</td><td>0.0208366028965</td><td>False</td><td>31.1632537842</td><td>9.84116172791</td><td>0.113010726869</td><td>0.0314447022974</td><td>False</td><td>nan</td><td>-1.16153311729</td><td>0.168484568596</td><td>0.04918275401</td><td>False</td><td>nan</td><td>-1.79815173149</td><td>0.185711935163</td><td>0.0295972917229</td><td>False</td><td>nan</td><td>-1.12499988079</td><td>0.458394736052</td><td>0.114813134074</td><td>False</td><td>27.077255249</td><td>3.01710057259</td><td>0.0584197379649</td><td>0.0481851249933</td><td>False</td><td>nan</td><td>-1.71033787727</td><td>0.126171067357</td><td>0.05606052652</td><td>False</td><td>nan</td><td>-2.57385802269</td><td>0.124761283398</td><td>0.0550930760801</td><td>False</td><td>nan</td><td>-20.3685321808</td><td>0.0557339079678</td><td>0.0689446106553</td><td>False</td><td>27.8925247192</td><td>1.47266626358</td><td>0.227237313986</td><td>0.075009457767</td><td>False</td><td>nan</td><td>-1.92280364037</td><td>0.0926658883691</td><td>0.0942101553082</td><td>False</td><td>nan</td><td>nan</td><td>nan</td><td>nan</td><td>False</td><td>nan</td><td>nan</td><td>0.0621784850955</td><td>0.0555460937321</td><td>False</td><td>28.9550018311</td><td>3.75485444069</td><td>0.0991927608848</td><td>0.0634468942881</td><td>False</td><td>26.568572998</td><td>0.498638749123</td><td>0.351560473442</td><td>0.0781434252858</td><td>False</td><td>27.5871734619</td><td>1.43641495705</td><td>0.478542178869</td><td>0.0716409757733</td><td>False</td><td>nan</td><td>-2.19399309158</td><td>0.146987274289</td><td>0.06860896945</td><td>False</td><td>28.706199646</td><td>3.76108574867</td><td>0.0915883332491</td><td>0.0829704254866</td><td>False</td><td>nan</td><td>nan</td><td>0.648992478848</td><td>0.167247012258</td><td>False</td><td>nan</td><td>-5.2782087326</td><td>0.274309009314</td><td>0.0722161233425</td><td>False</td><td>27.2321090698</td><td>1.49933195114</td><td>nan</td><td>nan</td><td>False</td><td>nan</td><td>nan</td><td>0.604171037674</td><td>0.407177746296</td><td>False</td><td>25.731048584</td><td>1.80023169518</td><td>0.470846891403</td><td>0.160291627049</td><td>False</td><td>27.5003051758</td><td>3.69491744041</td><td>False</td><td>False</td><td>False</td><td>False</td><td>False</td><td>0</td><td>False</td><td>-1</td><td>nan</td><td>nan</td><td>nan</td><td>nan</td><td>nan</td><td>nan</td><td>nan</td><td>nan</td><td>nan</td><td>nan</td><td>nan</td><td>nan</td><td>nan</td><td>nan</td><td>nan</td><td>nan</td><td>nan</td><td>nan</td><td>nan</td><td>False</td><td>nan</td><td>nan</td><td>nan</td><td>nan</td><td>False</td><td>nan</td><td>nan</td><td>False</td><td>nan</td><td>nan</td><td>False</td><td>nan</td><td>nan</td><td>False</td><td>False</td><td>0</td><td></td><td>nan</td><td>nan</td><td>nan</td><td>nan</td><td>nan</td><td>nan</td><td>nan</td><td>nan</td><td>nan</td><td>nan</td><td>nan</td><td>nan</td><td>nan</td><td>nan</td><td>nan</td><td>nan</td><td>nan</td><td>nan</td><td>nan</td><td>nan</td><td>nan</td><td>nan</td><td>nan</td><td>False</td><td>nan</td><td>nan</td><td>False</td><td>nan</td><td>nan</td><td>False</td><td>nan</td><td>nan</td><td>False</td><td>nan</td><td>nan</td><td>False</td><td>nan</td><td>nan</td><td>nan</td><td>nan</td><td>nan</td><td>nan</td><td>nan</td><td>nan</td><td>nan</td><td>nan</td><td>False</td><td>0</td><td>-1</td><td>nan</td><td>nan</td><td>nan</td><td>nan</td><td>nan</td><td>nan</td><td>nan</td><td>nan</td><td>nan</td><td>nan</td><td>nan</td><td>nan</td><td>nan</td><td>nan</td><td>False</td><td>nan</td><td>nan</td><td>False</td><td>nan</td><td>nan</td><td>False</td><td>nan</td><td>nan</td><td>nan</td><td>nan</td><td>nan</td><td>nan</td><td>nan</td><td>False</td><td>0</td><td>-1</td><td>nan</td><td>nan</td><td>nan</td><td>nan</td><td>nan</td><td>nan</td><td>nan</td><td>nan</td><td>nan</td><td>nan</td><td>nan</td><td>nan</td><td>nan</td><td>nan</td><td>nan</td><td>nan</td><td>nan</td><td>nan</td><td>nan</td><td>nan</td><td>nan</td><td>nan</td><td>nan</td><td>nan</td><td>nan</td><td>nan</td><td>nan</td><td>nan</td><td>nan</td><td>False</td><td>nan</td><td>nan</td><td>nan</td><td>nan</td><td>False</td><td>nan</td><td>nan</td><td>nan</td><td>nan</td><td>False</td><td>nan</td><td>nan</td><td>nan</td><td>nan</td><td>False</td><td>nan</td><td>nan</td><td>nan</td><td>nan</td><td>False</td><td>nan</td><td>nan</td><td>nan</td><td>nan</td><td>False</td><td>False</td><td>0</td><td>-1</td><td>nan</td><td>nan</td><td>nan</td><td>nan</td><td>nan</td><td>nan</td><td>nan</td><td>nan</td><td>nan</td><td>nan</td><td>nan</td><td>nan</td><td>nan</td><td>nan</td><td>nan</td><td>nan</td><td>nan</td><td>nan</td><td>nan</td><td>nan</td><td>nan</td><td>nan</td><td>nan</td><td>nan</td><td>nan</td><td>nan</td><td>nan</td><td>nan</td><td>nan</td><td>False</td><td>nan</td><td>nan</td><td>nan</td><td>nan</td><td>False</td><td>nan</td><td>nan</td><td>nan</td><td>nan</td><td>False</td><td>nan</td><td>nan</td><td>nan</td><td>nan</td><td>False</td><td>nan</td><td>nan</td><td>nan</td><td>nan</td><td>False</td><td>nan</td><td>nan</td><td>nan</td><td>nan</td><td>False</td><td>False</td><td>0</td><td></td><td>nan</td><td>nan</td><td>nan</td><td>nan</td><td>nan</td><td>nan</td><td>nan</td><td>nan</td><td>nan</td><td>nan</td><td>nan</td><td>nan</td><td>nan</td><td>nan</td><td>nan</td><td>nan</td><td>nan</td><td>nan</td><td>nan</td><td>False</td><td>nan</td><td>nan</td><td>False</td><td>nan</td><td>nan</td><td>False</td><td>nan</td><td>nan</td><td>False</td><td>nan</td><td>nan</td><td>nan</td><td>nan</td><td>nan</td><td>nan</td><td>nan</td><td>nan</td><td>False</td><td>0</td><td>-1</td><td>nan</td><td>nan</td><td>nan</td><td>nan</td><td>nan</td><td>nan</td><td>nan</td><td>nan</td><td>nan</td><td>nan</td><td>nan</td><td>nan</td><td>nan</td><td>nan</td><td>nan</td><td>nan</td><td>nan</td><td>nan</td><td>nan</td><td>False</td><td>nan</td><td>nan</td><td>nan</td><td>nan</td><td>False</td><td>nan</td><td>nan</td><td>nan</td><td>nan</td><td>nan</td><td>nan</td><td>False</td><td>nan</td><td>nan</td><td>nan</td><td>nan</td><td>False</td><td>False</td><td>0</td><td>-1</td><td>nan</td><td>nan</td><td>nan</td><td>nan</td><td>nan</td><td>nan</td><td>nan</td><td>nan</td><td>nan</td><td>nan</td><td>nan</td><td>nan</td><td>nan</td><td>nan</td><td>nan</td><td>nan</td><td>nan</td><td>nan</td><td>nan</td><td>nan</td><td>nan</td><td>nan</td><td>nan</td><td>nan</td><td>nan</td><td>nan</td><td>nan</td><td>nan</td><td>nan</td><td>nan</td><td>nan</td><td>nan</td><td>nan</td><td>nan</td><td>False</td><td>nan</td><td>nan</td><td>nan</td><td>nan</td><td>False</td><td>nan</td><td>nan</td><td>nan</td><td>nan</td><td>False</td><td>nan</td><td>nan</td><td>nan</td><td>nan</td><td>False</td><td>nan</td><td>nan</td><td>nan</td><td>nan</td><td>False</td><td>nan</td><td>nan</td><td>nan</td><td>nan</td><td>False</td><td>nan</td><td>nan</td><td>nan</td><td>nan</td><td>False</td><td>nan</td><td>nan</td><td>nan</td><td>nan</td><td>False</td><td>nan</td><td>nan</td><td>False</td><td>0</td><td>False</td><td>-1</td><td>nan</td><td>nan</td><td>nan</td><td>nan</td><td>nan</td><td>nan</td><td>nan</td><td>nan</td><td>nan</td><td>nan</td><td>nan</td><td>nan</td><td>nan</td><td>nan</td><td>nan</td><td>nan</td><td>nan</td><td>nan</td><td>nan</td><td>nan</td><td>nan</td><td>nan</td><td>nan</td><td>nan</td><td>False</td><td>nan</td><td>nan</td><td>nan</td><td>nan</td><td>False</td><td>nan</td><td>nan</td><td>nan</td><td>nan</td><td>False</td><td>nan</td><td>nan</td><td>nan</td><td>nan</td><td>False</td><td>nan</td><td>nan</td><td>nan</td><td>nan</td><td>False</td><td>False</td><td>0</td></tr>\n",
       "<tr><td>8</td><td>HELP_J095825.28+024722.91</td><td>COSMOS2015_J095825.28+024722.91</td><td>149.605323992</td><td>2.78969543945</td><td>1.0</td><td>24.8917999268</td><td>0.480482012033</td><td>-0.00125734996982</td><td>0.143710002303</td><td>nan</td><td>nan</td><td>nan</td><td>nan</td><td>25.0116004944</td><td>0.287907004356</td><td>0.294364988804</td><td>0.186651006341</td><td>nan</td><td>nan</td><td>0.0108300000429</td><td>0.13997900486</td><td>nan</td><td>nan</td><td>-0.0177820008248</td><td>0.0252989009023</td><td>28.5652999878</td><td>0.619309008121</td><td>0.0139325000346</td><td>0.0100066000596</td><td>31.7926006317</td><td>20.278799057</td><td>0.00307240011171</td><td>0.0181124992669</td><td>27.5018005371</td><td>0.596764981747</td><td>0.0331011004746</td><td>0.0209750998765</td><td>27.6758995056</td><td>0.426218003035</td><td>0.0306991003454</td><td>0.0141307003796</td><td>nan</td><td>nan</td><td>0.00648852996528</td><td>0.146638005972</td><td>25.8094997406</td><td>0.140628993511</td><td>0.150001004338</td><td>0.0368462987244</td><td>29.9316005707</td><td>7.33446979523</td><td>0.00788004044443</td><td>0.0356824994087</td><td>nan</td><td>nan</td><td>-0.0120665999129</td><td>0.0303269997239</td><td>nan</td><td>nan</td><td>-0.0183895993978</td><td>0.0339297987521</td><td>nan</td><td>nan</td><td>0.0292734000832</td><td>0.0532453991473</td><td>27.2714004517</td><td>1.05308997631</td><td>0.0466811992228</td><td>0.0525940991938</td><td>26.6506004333</td><td>0.53700697422</td><td>0.0328675992787</td><td>0.0565650984645</td><td>nan</td><td>nan</td><td>-0.0241027008742</td><td>0.0371447987854</td><td>27.8416996002</td><td>1.10362994671</td><td>0.00515910983086</td><td>0.0379700995982</td><td>26.8213996887</td><td>0.551451027393</td><td>0.0497836992145</td><td>0.0448064990342</td><td>nan</td><td>nan</td><td>0.0122240995988</td><td>0.0479318983853</td><td>29.6933002472</td><td>6.50205993652</td><td>0.00954562984407</td><td>0.0397778004408</td><td>26.1105003357</td><td>0.287932008505</td><td>0.120894998312</td><td>0.0628973990679</td><td>28.1147003174</td><td>3.69744992256</td><td>0.0264545995742</td><td>0.0695372000337</td><td>27.317199707</td><td>0.809386014938</td><td>0.0293275993317</td><td>0.0649005994201</td><td>nan</td><td>nan</td><td>nan</td><td>nan</td><td>24.5543994904</td><td>0.420446008444</td><td>0.452688992023</td><td>0.356633007526</td><td>25.0270004272</td><td>0.442968994379</td><td>0.225009992719</td><td>0.253668993711</td><td>0.0</td><td>0.138348996639</td><td>-99.9000015259</td><td>-99.9000015259</td><td>0.444795012474</td><td>0.109278999269</td><td>24.7796001434</td><td>0.266748994589</td><td>-0.456066995859</td><td>0.738372981548</td><td>-99.9000015259</td><td>-99.9000015259</td><td>0.0</td><td>4.19750976562</td><td>-99.9000015259</td><td>-99.9000015259</td><td>0.401125311852</td><td>0.177514106035</td><td>False</td><td>nan</td><td>-124.095230103</td><td>nan</td><td>nan</td><td>False</td><td>nan</td><td>nan</td><td>0.359219461679</td><td>0.0952549949288</td><td>False</td><td>25.2277832031</td><td>0.68844383955</td><td>nan</td><td>nan</td><td>False</td><td>28.8134307861</td><td>14.0332660675</td><td>nan</td><td>nan</td><td>False</td><td>nan</td><td>-1.54470419884</td><td>0.0136106749997</td><td>0.00776359252632</td><td>False</td><td>28.5399246216</td><td>0.779797434807</td><td>0.000696561357472</td><td>0.0130099998787</td><td>False</td><td>30.181312561</td><td>6.40066242218</td><td>0.0362476147711</td><td>0.0199231710285</td><td>False</td><td>27.6003952026</td><td>0.687996029854</td><td>0.030877366662</td><td>0.0121212583035</td><td>False</td><td>27.6821899414</td><td>0.499760955572</td><td>nan</td><td>nan</td><td>False</td><td>29.3696365356</td><td>24.5371704102</td><td>0.172266110778</td><td>0.0223126113415</td><td>False</td><td>25.9597702026</td><td>0.266700595617</td><td>0.00386686855927</td><td>0.0261218417436</td><td>False</td><td>29.1586837769</td><td>4.91644430161</td><td>nan</td><td>nan</td><td>False</td><td>nan</td><td>-2.72878217697</td><td>nan</td><td>nan</td><td>False</td><td>nan</td><td>-2.003241539</td><td>nan</td><td>nan</td><td>False</td><td>27.7338180542</td><td>1.97484588623</td><td>0.0448166802526</td><td>0.043469119817</td><td>False</td><td>27.2271499634</td><td>1.22326159477</td><td>0.0793888941407</td><td>0.0392658859491</td><td>False</td><td>27.6080856323</td><td>1.86855053902</td><td>nan</td><td>nan</td><td>False</td><td>nan</td><td>-1.67323362827</td><td>0.0265045128763</td><td>0.0269413255155</td><td>False</td><td>29.6185684204</td><td>7.99081850052</td><td>0.0678328350186</td><td>0.034452650696</td><td>False</td><td>27.1572875977</td><td>0.977188050747</td><td>nan</td><td>nan</td><td>False</td><td>28.6819610596</td><td>4.25727796555</td><td>0.0048159295693</td><td>0.028840765357</td><td>False</td><td>28.9504928589</td><td>4.52439451218</td><td>0.130556926131</td><td>0.0346230715513</td><td>False</td><td>26.193977356</td><td>0.564870178699</td><td>0.0206119846553</td><td>0.0701936408877</td><td>False</td><td>27.84375</td><td>2.85391020775</td><td>0.042965516448</td><td>0.0320295915008</td><td>False</td><td>27.731803894</td><td>2.40268301964</td><td>nan</td><td>nan</td><td>False</td><td>nan</td><td>nan</td><td>0.547318637371</td><td>0.211946457624</td><td>False</td><td>24.7605056763</td><td>0.855353951454</td><td>0.354160070419</td><td>0.144493594766</td><td>False</td><td>25.5195007324</td><td>1.22402381897</td><td>False</td><td>False</td><td>False</td><td>False</td><td>False</td><td>0</td><td>False</td><td>-1</td><td>nan</td><td>nan</td><td>nan</td><td>nan</td><td>nan</td><td>nan</td><td>nan</td><td>nan</td><td>nan</td><td>nan</td><td>nan</td><td>nan</td><td>nan</td><td>nan</td><td>nan</td><td>nan</td><td>nan</td><td>nan</td><td>nan</td><td>False</td><td>nan</td><td>nan</td><td>nan</td><td>nan</td><td>False</td><td>nan</td><td>nan</td><td>False</td><td>nan</td><td>nan</td><td>False</td><td>nan</td><td>nan</td><td>False</td><td>False</td><td>0</td><td></td><td>nan</td><td>nan</td><td>nan</td><td>nan</td><td>nan</td><td>nan</td><td>nan</td><td>nan</td><td>nan</td><td>nan</td><td>nan</td><td>nan</td><td>nan</td><td>nan</td><td>nan</td><td>nan</td><td>nan</td><td>nan</td><td>nan</td><td>nan</td><td>nan</td><td>nan</td><td>nan</td><td>False</td><td>nan</td><td>nan</td><td>False</td><td>nan</td><td>nan</td><td>False</td><td>nan</td><td>nan</td><td>False</td><td>nan</td><td>nan</td><td>False</td><td>nan</td><td>nan</td><td>nan</td><td>nan</td><td>nan</td><td>nan</td><td>nan</td><td>nan</td><td>nan</td><td>nan</td><td>False</td><td>0</td><td>-1</td><td>nan</td><td>nan</td><td>nan</td><td>nan</td><td>nan</td><td>nan</td><td>nan</td><td>nan</td><td>nan</td><td>nan</td><td>nan</td><td>nan</td><td>nan</td><td>nan</td><td>False</td><td>nan</td><td>nan</td><td>False</td><td>nan</td><td>nan</td><td>False</td><td>nan</td><td>nan</td><td>nan</td><td>nan</td><td>nan</td><td>nan</td><td>nan</td><td>False</td><td>0</td><td>-1</td><td>nan</td><td>nan</td><td>nan</td><td>nan</td><td>nan</td><td>nan</td><td>nan</td><td>nan</td><td>nan</td><td>nan</td><td>nan</td><td>nan</td><td>nan</td><td>nan</td><td>nan</td><td>nan</td><td>nan</td><td>nan</td><td>nan</td><td>nan</td><td>nan</td><td>nan</td><td>nan</td><td>nan</td><td>nan</td><td>nan</td><td>nan</td><td>nan</td><td>nan</td><td>False</td><td>nan</td><td>nan</td><td>nan</td><td>nan</td><td>False</td><td>nan</td><td>nan</td><td>nan</td><td>nan</td><td>False</td><td>nan</td><td>nan</td><td>nan</td><td>nan</td><td>False</td><td>nan</td><td>nan</td><td>nan</td><td>nan</td><td>False</td><td>nan</td><td>nan</td><td>nan</td><td>nan</td><td>False</td><td>False</td><td>0</td><td>-1</td><td>nan</td><td>nan</td><td>nan</td><td>nan</td><td>nan</td><td>nan</td><td>nan</td><td>nan</td><td>nan</td><td>nan</td><td>nan</td><td>nan</td><td>nan</td><td>nan</td><td>nan</td><td>nan</td><td>nan</td><td>nan</td><td>nan</td><td>nan</td><td>nan</td><td>nan</td><td>nan</td><td>nan</td><td>nan</td><td>nan</td><td>nan</td><td>nan</td><td>nan</td><td>False</td><td>nan</td><td>nan</td><td>nan</td><td>nan</td><td>False</td><td>nan</td><td>nan</td><td>nan</td><td>nan</td><td>False</td><td>nan</td><td>nan</td><td>nan</td><td>nan</td><td>False</td><td>nan</td><td>nan</td><td>nan</td><td>nan</td><td>False</td><td>nan</td><td>nan</td><td>nan</td><td>nan</td><td>False</td><td>False</td><td>0</td><td></td><td>nan</td><td>nan</td><td>nan</td><td>nan</td><td>nan</td><td>nan</td><td>nan</td><td>nan</td><td>nan</td><td>nan</td><td>nan</td><td>nan</td><td>nan</td><td>nan</td><td>nan</td><td>nan</td><td>nan</td><td>nan</td><td>nan</td><td>False</td><td>nan</td><td>nan</td><td>False</td><td>nan</td><td>nan</td><td>False</td><td>nan</td><td>nan</td><td>False</td><td>nan</td><td>nan</td><td>nan</td><td>nan</td><td>nan</td><td>nan</td><td>nan</td><td>nan</td><td>False</td><td>0</td><td>-1</td><td>nan</td><td>nan</td><td>nan</td><td>nan</td><td>nan</td><td>nan</td><td>nan</td><td>nan</td><td>nan</td><td>nan</td><td>nan</td><td>nan</td><td>nan</td><td>nan</td><td>nan</td><td>nan</td><td>nan</td><td>nan</td><td>nan</td><td>False</td><td>nan</td><td>nan</td><td>nan</td><td>nan</td><td>False</td><td>nan</td><td>nan</td><td>nan</td><td>nan</td><td>nan</td><td>nan</td><td>False</td><td>nan</td><td>nan</td><td>nan</td><td>nan</td><td>False</td><td>False</td><td>0</td><td>-1</td><td>nan</td><td>nan</td><td>nan</td><td>nan</td><td>nan</td><td>nan</td><td>nan</td><td>nan</td><td>nan</td><td>nan</td><td>nan</td><td>nan</td><td>nan</td><td>nan</td><td>nan</td><td>nan</td><td>nan</td><td>nan</td><td>nan</td><td>nan</td><td>nan</td><td>nan</td><td>nan</td><td>nan</td><td>nan</td><td>nan</td><td>nan</td><td>nan</td><td>nan</td><td>nan</td><td>nan</td><td>nan</td><td>nan</td><td>nan</td><td>False</td><td>nan</td><td>nan</td><td>nan</td><td>nan</td><td>False</td><td>nan</td><td>nan</td><td>nan</td><td>nan</td><td>False</td><td>nan</td><td>nan</td><td>nan</td><td>nan</td><td>False</td><td>nan</td><td>nan</td><td>nan</td><td>nan</td><td>False</td><td>nan</td><td>nan</td><td>nan</td><td>nan</td><td>False</td><td>nan</td><td>nan</td><td>nan</td><td>nan</td><td>False</td><td>nan</td><td>nan</td><td>nan</td><td>nan</td><td>False</td><td>nan</td><td>nan</td><td>False</td><td>0</td><td>False</td><td>-1</td><td>nan</td><td>nan</td><td>nan</td><td>nan</td><td>nan</td><td>nan</td><td>nan</td><td>nan</td><td>nan</td><td>nan</td><td>nan</td><td>nan</td><td>nan</td><td>nan</td><td>nan</td><td>nan</td><td>nan</td><td>nan</td><td>nan</td><td>nan</td><td>nan</td><td>nan</td><td>nan</td><td>nan</td><td>False</td><td>nan</td><td>nan</td><td>nan</td><td>nan</td><td>False</td><td>nan</td><td>nan</td><td>nan</td><td>nan</td><td>False</td><td>nan</td><td>nan</td><td>nan</td><td>nan</td><td>False</td><td>nan</td><td>nan</td><td>nan</td><td>nan</td><td>False</td><td>False</td><td>0</td></tr>\n",
       "<tr><td>9</td><td>HELP_J100154.84+020628.04</td><td>COSMOS2015_J100154.84+020628.04</td><td>150.478458692</td><td>2.1077854526</td><td>1.0</td><td>25.0359992981</td><td>0.235457003117</td><td>-0.000308199989377</td><td>0.0347601994872</td><td>nan</td><td>nan</td><td>0.0850899964571</td><td>0.0486276000738</td><td>26.2490997314</td><td>0.763034999371</td><td>0.0665256977081</td><td>0.10621599853</td><td>nan</td><td>nan</td><td>0.01931639947</td><td>0.0723173990846</td><td>nan</td><td>nan</td><td>-0.0049238097854</td><td>0.0161146000028</td><td>nan</td><td>nan</td><td>-0.00734747992828</td><td>0.00969650037587</td><td>nan</td><td>nan</td><td>nan</td><td>nan</td><td>nan</td><td>nan</td><td>-0.00651116017252</td><td>0.0210823006928</td><td>28.9533996582</td><td>2.48433995247</td><td>0.00451043993235</td><td>0.0138349998742</td><td>25.5673999786</td><td>0.466715991497</td><td>0.0328546985984</td><td>0.155055001378</td><td>nan</td><td>nan</td><td>0.0317820012569</td><td>0.0360142998397</td><td>26.4190006256</td><td>0.451943010092</td><td>0.0108315004036</td><td>0.0314282998443</td><td>nan</td><td>nan</td><td>nan</td><td>nan</td><td>nan</td><td>nan</td><td>0.0124145997688</td><td>0.0344319008291</td><td>25.2262992859</td><td>0.218173995614</td><td>0.10095000267</td><td>0.0549835003912</td><td>nan</td><td>nan</td><td>0.00527642993256</td><td>0.0458666011691</td><td>nan</td><td>nan</td><td>-0.0181246008724</td><td>0.05750240013</td><td>nan</td><td>nan</td><td>nan</td><td>nan</td><td>nan</td><td>nan</td><td>0.0134757999331</td><td>0.0385274998844</td><td>nan</td><td>nan</td><td>-0.0404996983707</td><td>0.0419806987047</td><td>30.2437992096</td><td>19.2409992218</td><td>-0.0188413001597</td><td>0.0456095002592</td><td>nan</td><td>nan</td><td>-0.0298832003027</td><td>0.0406818017364</td><td>nan</td><td>nan</td><td>-0.0178236998618</td><td>0.0660225972533</td><td>27.5821990967</td><td>4.14896011353</td><td>0.0341668985784</td><td>0.0716423988342</td><td>nan</td><td>nan</td><td>0.0163899995387</td><td>0.0641952008009</td><td>23.7045993805</td><td>0.251141995192</td><td>0.0944764018059</td><td>0.262015014887</td><td>23.7250995636</td><td>0.284247010946</td><td>-0.0857834964991</td><td>0.291734993458</td><td>25.2273006439</td><td>0.438151985407</td><td>0.102124996483</td><td>0.118270002306</td><td>-99.9000015259</td><td>-99.9000015259</td><td>-99.9000015259</td><td>-99.9000015259</td><td>0.104681000113</td><td>0.0434598997235</td><td>26.3502998352</td><td>0.45076200366</td><td>0.0</td><td>2.60392999649</td><td>-99.9000015259</td><td>-99.9000015259</td><td>0.0</td><td>2.40874004364</td><td>-99.9000015259</td><td>-99.9000015259</td><td>0.351236730814</td><td>0.0761705711484</td><td>False</td><td>nan</td><td>-122.45426178</td><td>nan</td><td>nan</td><td>False</td><td>26.5753097534</td><td>0.62048125267</td><td>0.114910565317</td><td>0.0807569846511</td><td>False</td><td>26.8425216675</td><td>1.7335036993</td><td>nan</td><td>nan</td><td>False</td><td>28.1851882935</td><td>4.06481647491</td><td>nan</td><td>nan</td><td>False</td><td>nan</td><td>-3.55338740349</td><td>nan</td><td>nan</td><td>False</td><td>nan</td><td>-1.43285059929</td><td>nan</td><td>nan</td><td>False</td><td>nan</td><td>nan</td><td>nan</td><td>nan</td><td>False</td><td>nan</td><td>-3.51547431946</td><td>0.00952005758882</td><td>0.0217834301293</td><td>False</td><td>29.7644577026</td><td>3.3303091526</td><td>0.21529789269</td><td>0.0925482362509</td><td>False</td><td>27.608505249</td><td>5.12404108047</td><td>nan</td><td>nan</td><td>False</td><td>27.6445465088</td><td>1.2303198576</td><td>0.0982651934028</td><td>0.0409033671021</td><td>False</td><td>28.8132781982</td><td>3.15033388138</td><td>nan</td><td>nan</td><td>False</td><td>nan</td><td>nan</td><td>nan</td><td>nan</td><td>False</td><td>28.6651687622</td><td>3.01128983498</td><td>0.294767796993</td><td>0.0592323169112</td><td>False</td><td>26.3897323608</td><td>0.591357767582</td><td>nan</td><td>nan</td><td>False</td><td>29.5941543579</td><td>9.43801498413</td><td>nan</td><td>nan</td><td>False</td><td>nan</td><td>-3.44462394714</td><td>nan</td><td>nan</td><td>False</td><td>nan</td><td>nan</td><td>nan</td><td>nan</td><td>False</td><td>28.5761184692</td><td>3.10413479805</td><td>nan</td><td>nan</td><td>False</td><td>nan</td><td>-1.12543952465</td><td>0.00290055130608</td><td>0.0514024570584</td><td>False</td><td>nan</td><td>-2.62826251984</td><td>nan</td><td>nan</td><td>False</td><td>nan</td><td>-1.47807812691</td><td>nan</td><td>nan</td><td>False</td><td>nan</td><td>-4.02178668976</td><td>0.0336604677141</td><td>0.128627881408</td><td>False</td><td>27.5659866333</td><td>2.27661108971</td><td>nan</td><td>nan</td><td>False</td><td>28.3635559082</td><td>4.25253534317</td><td>1.19718229771</td><td>0.276920646429</td><td>False</td><td>26.4616928101</td><td>3.01111364365</td><td>1.17478966713</td><td>0.307561308146</td><td>False</td><td>nan</td><td>-3.69240307808</td><td>0.294496059418</td><td>0.118844740093</td><td>False</td><td>26.3771743774</td><td>1.25738096237</td><td>False</td><td>False</td><td>False</td><td>False</td><td>False</td><td>0</td><td>False</td><td>-1</td><td>nan</td><td>nan</td><td>nan</td><td>nan</td><td>nan</td><td>nan</td><td>nan</td><td>nan</td><td>nan</td><td>nan</td><td>nan</td><td>nan</td><td>nan</td><td>nan</td><td>nan</td><td>nan</td><td>nan</td><td>nan</td><td>nan</td><td>False</td><td>nan</td><td>nan</td><td>nan</td><td>nan</td><td>False</td><td>nan</td><td>nan</td><td>False</td><td>nan</td><td>nan</td><td>False</td><td>nan</td><td>nan</td><td>False</td><td>False</td><td>0</td><td></td><td>nan</td><td>nan</td><td>nan</td><td>nan</td><td>nan</td><td>nan</td><td>nan</td><td>nan</td><td>nan</td><td>nan</td><td>nan</td><td>nan</td><td>nan</td><td>nan</td><td>nan</td><td>nan</td><td>nan</td><td>nan</td><td>nan</td><td>nan</td><td>nan</td><td>nan</td><td>nan</td><td>False</td><td>nan</td><td>nan</td><td>False</td><td>nan</td><td>nan</td><td>False</td><td>nan</td><td>nan</td><td>False</td><td>nan</td><td>nan</td><td>False</td><td>nan</td><td>nan</td><td>nan</td><td>nan</td><td>nan</td><td>nan</td><td>nan</td><td>nan</td><td>nan</td><td>nan</td><td>False</td><td>0</td><td>-1</td><td>nan</td><td>nan</td><td>nan</td><td>nan</td><td>nan</td><td>nan</td><td>nan</td><td>nan</td><td>nan</td><td>nan</td><td>nan</td><td>nan</td><td>nan</td><td>nan</td><td>False</td><td>nan</td><td>nan</td><td>False</td><td>nan</td><td>nan</td><td>False</td><td>nan</td><td>nan</td><td>nan</td><td>nan</td><td>nan</td><td>nan</td><td>nan</td><td>False</td><td>0</td><td>-1</td><td>nan</td><td>nan</td><td>nan</td><td>nan</td><td>nan</td><td>nan</td><td>nan</td><td>nan</td><td>nan</td><td>nan</td><td>nan</td><td>nan</td><td>nan</td><td>nan</td><td>nan</td><td>nan</td><td>nan</td><td>nan</td><td>nan</td><td>nan</td><td>nan</td><td>nan</td><td>nan</td><td>nan</td><td>nan</td><td>nan</td><td>nan</td><td>nan</td><td>nan</td><td>False</td><td>nan</td><td>nan</td><td>nan</td><td>nan</td><td>False</td><td>nan</td><td>nan</td><td>nan</td><td>nan</td><td>False</td><td>nan</td><td>nan</td><td>nan</td><td>nan</td><td>False</td><td>nan</td><td>nan</td><td>nan</td><td>nan</td><td>False</td><td>nan</td><td>nan</td><td>nan</td><td>nan</td><td>False</td><td>False</td><td>0</td><td>-1</td><td>nan</td><td>nan</td><td>nan</td><td>nan</td><td>nan</td><td>nan</td><td>nan</td><td>nan</td><td>nan</td><td>nan</td><td>nan</td><td>nan</td><td>nan</td><td>nan</td><td>nan</td><td>nan</td><td>nan</td><td>nan</td><td>nan</td><td>nan</td><td>nan</td><td>nan</td><td>nan</td><td>nan</td><td>nan</td><td>nan</td><td>nan</td><td>nan</td><td>nan</td><td>False</td><td>nan</td><td>nan</td><td>nan</td><td>nan</td><td>False</td><td>nan</td><td>nan</td><td>nan</td><td>nan</td><td>False</td><td>nan</td><td>nan</td><td>nan</td><td>nan</td><td>False</td><td>nan</td><td>nan</td><td>nan</td><td>nan</td><td>False</td><td>nan</td><td>nan</td><td>nan</td><td>nan</td><td>False</td><td>False</td><td>0</td><td></td><td>nan</td><td>nan</td><td>nan</td><td>nan</td><td>nan</td><td>nan</td><td>nan</td><td>nan</td><td>nan</td><td>nan</td><td>nan</td><td>nan</td><td>nan</td><td>nan</td><td>nan</td><td>nan</td><td>nan</td><td>nan</td><td>nan</td><td>False</td><td>nan</td><td>nan</td><td>False</td><td>nan</td><td>nan</td><td>False</td><td>nan</td><td>nan</td><td>False</td><td>nan</td><td>nan</td><td>nan</td><td>nan</td><td>nan</td><td>nan</td><td>nan</td><td>nan</td><td>False</td><td>0</td><td>-1</td><td>nan</td><td>nan</td><td>nan</td><td>nan</td><td>nan</td><td>nan</td><td>nan</td><td>nan</td><td>nan</td><td>nan</td><td>nan</td><td>nan</td><td>nan</td><td>nan</td><td>nan</td><td>nan</td><td>nan</td><td>nan</td><td>nan</td><td>False</td><td>nan</td><td>nan</td><td>nan</td><td>nan</td><td>False</td><td>nan</td><td>nan</td><td>nan</td><td>nan</td><td>nan</td><td>nan</td><td>False</td><td>nan</td><td>nan</td><td>nan</td><td>nan</td><td>False</td><td>False</td><td>0</td><td>-1</td><td>nan</td><td>nan</td><td>nan</td><td>nan</td><td>nan</td><td>nan</td><td>nan</td><td>nan</td><td>nan</td><td>nan</td><td>nan</td><td>nan</td><td>nan</td><td>nan</td><td>nan</td><td>nan</td><td>nan</td><td>nan</td><td>nan</td><td>nan</td><td>nan</td><td>nan</td><td>nan</td><td>nan</td><td>nan</td><td>nan</td><td>nan</td><td>nan</td><td>nan</td><td>nan</td><td>nan</td><td>nan</td><td>nan</td><td>nan</td><td>False</td><td>nan</td><td>nan</td><td>nan</td><td>nan</td><td>False</td><td>nan</td><td>nan</td><td>nan</td><td>nan</td><td>False</td><td>nan</td><td>nan</td><td>nan</td><td>nan</td><td>False</td><td>nan</td><td>nan</td><td>nan</td><td>nan</td><td>False</td><td>nan</td><td>nan</td><td>nan</td><td>nan</td><td>False</td><td>nan</td><td>nan</td><td>nan</td><td>nan</td><td>False</td><td>nan</td><td>nan</td><td>nan</td><td>nan</td><td>False</td><td>nan</td><td>nan</td><td>False</td><td>0</td><td>False</td><td>-1</td><td>nan</td><td>nan</td><td>nan</td><td>nan</td><td>nan</td><td>nan</td><td>nan</td><td>nan</td><td>nan</td><td>nan</td><td>nan</td><td>nan</td><td>nan</td><td>nan</td><td>nan</td><td>nan</td><td>nan</td><td>nan</td><td>nan</td><td>nan</td><td>nan</td><td>nan</td><td>nan</td><td>nan</td><td>False</td><td>nan</td><td>nan</td><td>nan</td><td>nan</td><td>False</td><td>nan</td><td>nan</td><td>nan</td><td>nan</td><td>False</td><td>nan</td><td>nan</td><td>nan</td><td>nan</td><td>False</td><td>nan</td><td>nan</td><td>nan</td><td>nan</td><td>False</td><td>False</td><td>0</td></tr>\n",
       "</table><style>table.dataTable {clear: both; width: auto !important; margin: 0 !important;}\n",
       ".dataTables_info, .dataTables_length, .dataTables_filter, .dataTables_paginate{\n",
       "display: inline-block; margin-right: 1em; }\n",
       ".paginate_button { margin-right: 5px; }\n",
       "</style>\n",
       "<script>\n",
       "\n",
       "var astropy_sort_num = function(a, b) {\n",
       "    var a_num = parseFloat(a);\n",
       "    var b_num = parseFloat(b);\n",
       "\n",
       "    if (isNaN(a_num) && isNaN(b_num))\n",
       "        return ((a < b) ? -1 : ((a > b) ? 1 : 0));\n",
       "    else if (!isNaN(a_num) && !isNaN(b_num))\n",
       "        return ((a_num < b_num) ? -1 : ((a_num > b_num) ? 1 : 0));\n",
       "    else\n",
       "        return isNaN(a_num) ? -1 : 1;\n",
       "}\n",
       "\n",
       "require.config({paths: {\n",
       "    datatables: 'https://cdn.datatables.net/1.10.12/js/jquery.dataTables.min'\n",
       "}});\n",
       "require([\"datatables\"], function(){\n",
       "    console.log(\"$('#table140006255205680-130307').dataTable()\");\n",
       "    \n",
       "jQuery.extend( jQuery.fn.dataTableExt.oSort, {\n",
       "    \"optionalnum-asc\": astropy_sort_num,\n",
       "    \"optionalnum-desc\": function (a,b) { return -astropy_sort_num(a, b); }\n",
       "});\n",
       "\n",
       "    $('#table140006255205680-130307').dataTable({\n",
       "        order: [],\n",
       "        pageLength: 50,\n",
       "        lengthMenu: [[10, 25, 50, 100, 500, 1000, -1], [10, 25, 50, 100, 500, 1000, 'All']],\n",
       "        pagingType: \"full_numbers\",\n",
       "        columnDefs: [{targets: [0, 3, 4, 5, 6, 7, 8, 9, 10, 11, 12, 13, 14, 15, 16, 17, 18, 19, 20, 21, 22, 23, 24, 25, 26, 27, 28, 29, 30, 31, 32, 33, 34, 35, 36, 37, 38, 39, 40, 41, 42, 43, 44, 45, 46, 47, 48, 49, 50, 51, 52, 53, 54, 55, 56, 57, 58, 59, 60, 61, 62, 63, 64, 65, 66, 67, 68, 69, 70, 71, 72, 73, 74, 75, 76, 77, 78, 79, 80, 81, 82, 83, 84, 85, 86, 87, 88, 89, 90, 91, 92, 93, 94, 95, 96, 97, 98, 99, 100, 101, 102, 103, 104, 105, 106, 107, 108, 109, 110, 111, 112, 113, 114, 115, 116, 117, 118, 119, 120, 121, 122, 123, 124, 125, 126, 127, 128, 129, 130, 131, 132, 133, 134, 135, 137, 138, 139, 140, 142, 143, 144, 145, 147, 148, 149, 150, 152, 153, 154, 155, 157, 158, 159, 160, 162, 163, 164, 165, 167, 168, 169, 170, 172, 173, 174, 175, 177, 178, 179, 180, 182, 183, 184, 185, 187, 188, 189, 190, 192, 193, 194, 195, 197, 198, 199, 200, 202, 203, 204, 205, 207, 208, 209, 210, 212, 213, 214, 215, 217, 218, 219, 220, 222, 223, 224, 225, 227, 228, 229, 230, 232, 233, 234, 235, 237, 238, 239, 240, 242, 243, 244, 245, 247, 248, 249, 250, 252, 253, 254, 255, 257, 258, 259, 260, 262, 263, 264, 265, 267, 268, 269, 270, 272, 273, 279, 281, 282, 283, 284, 285, 286, 287, 288, 289, 290, 291, 292, 293, 294, 295, 296, 297, 298, 299, 300, 302, 303, 304, 305, 307, 308, 310, 311, 313, 314, 317, 319, 320, 321, 322, 323, 324, 325, 326, 327, 328, 329, 330, 331, 332, 333, 334, 335, 336, 337, 338, 339, 340, 341, 343, 344, 346, 347, 349, 350, 352, 353, 355, 356, 357, 358, 359, 360, 361, 362, 363, 364, 366, 367, 368, 369, 370, 371, 372, 373, 374, 375, 376, 377, 378, 379, 380, 381, 383, 384, 386, 387, 389, 390, 391, 392, 393, 394, 395, 397, 398, 399, 400, 401, 402, 403, 404, 405, 406, 407, 408, 409, 410, 411, 412, 413, 414, 415, 416, 417, 418, 419, 420, 421, 422, 423, 424, 425, 426, 427, 429, 430, 431, 432, 434, 435, 436, 437, 439, 440, 441, 442, 444, 445, 446, 447, 449, 450, 451, 452, 455, 456, 457, 458, 459, 460, 461, 462, 463, 464, 465, 466, 467, 468, 469, 470, 471, 472, 473, 474, 475, 476, 477, 478, 479, 480, 481, 482, 483, 484, 485, 487, 488, 489, 490, 492, 493, 494, 495, 497, 498, 499, 500, 502, 503, 504, 505, 507, 508, 509, 510, 513, 515, 516, 517, 518, 519, 520, 521, 522, 523, 524, 525, 526, 527, 528, 529, 530, 531, 532, 533, 535, 536, 538, 539, 541, 542, 544, 545, 546, 547, 548, 549, 550, 551, 553, 554, 555, 556, 557, 558, 559, 560, 561, 562, 563, 564, 565, 566, 567, 568, 569, 570, 571, 572, 573, 575, 576, 577, 578, 580, 581, 582, 583, 584, 585, 587, 588, 589, 590, 593, 594, 595, 596, 597, 598, 599, 600, 601, 602, 603, 604, 605, 606, 607, 608, 609, 610, 611, 612, 613, 614, 615, 616, 617, 618, 619, 620, 621, 622, 623, 624, 625, 626, 627, 628, 630, 631, 632, 633, 635, 636, 637, 638, 640, 641, 642, 643, 645, 646, 647, 648, 650, 651, 652, 653, 655, 656, 657, 658, 660, 661, 662, 663, 665, 666, 668, 670, 671, 672, 673, 674, 675, 676, 677, 678, 679, 680, 681, 682, 683, 684, 685, 686, 687, 688, 689, 690, 691, 692, 693, 694, 696, 697, 698, 699, 701, 702, 703, 704, 706, 707, 708, 709, 711, 712, 713, 714, 717], type: \"optionalnum\"}]\n",
       "    });\n",
       "});\n",
       "</script>\n"
      ],
      "text/plain": [
       "<IPython.core.display.HTML object>"
      ]
     },
     "execution_count": 26,
     "metadata": {},
     "output_type": "execute_result"
    }
   ],
   "source": [
    "master_catalogue[:10].show_in_notebook()"
   ]
  },
  {
   "cell_type": "markdown",
   "metadata": {
    "deletable": true,
    "editable": true
   },
   "source": [
    "## III - Merging flags and stellarity\n",
    "\n",
    "Each pristine catalogue contains a flag indicating if the source was associated to a another nearby source that was removed during the cleaning process.  We merge these flags in a single one."
   ]
  },
  {
   "cell_type": "code",
   "execution_count": 27,
   "metadata": {
    "collapsed": true,
    "deletable": true,
    "editable": true
   },
   "outputs": [],
   "source": [
    "flag_cleaned_columns = [column for column in master_catalogue.colnames\n",
    "                        if 'flag_cleaned' in column]\n",
    "\n",
    "flag_column = np.zeros(len(master_catalogue), dtype=bool)\n",
    "for column in flag_cleaned_columns:\n",
    "    flag_column |= master_catalogue[column]\n",
    "    \n",
    "master_catalogue.add_column(Column(data=flag_column, name=\"flag_cleaned\"))\n",
    "master_catalogue.remove_columns(flag_cleaned_columns)"
   ]
  },
  {
   "cell_type": "markdown",
   "metadata": {
    "deletable": true,
    "editable": true
   },
   "source": [
    "Wirds was created with a merge so contains a flag to be merged with the merg flag produced here"
   ]
  },
  {
   "cell_type": "code",
   "execution_count": 28,
   "metadata": {
    "collapsed": true,
    "deletable": true,
    "editable": true
   },
   "outputs": [],
   "source": [
    "# master_catalogue['flag_merged'] |= master_catalogue['wirds_flag_merged']\n",
    "# master_catalogue.remove_columns('wirds_flag_merged')"
   ]
  },
  {
   "cell_type": "markdown",
   "metadata": {
    "deletable": true,
    "editable": true
   },
   "source": [
    "Each pristine catalogue contains a flag indicating the probability of a source being a Gaia object (0: not a Gaia object, 1: possibly, 2: probably, 3: definitely).  We merge these flags taking the highest value."
   ]
  },
  {
   "cell_type": "code",
   "execution_count": 29,
   "metadata": {
    "collapsed": true,
    "deletable": true,
    "editable": true
   },
   "outputs": [],
   "source": [
    "flag_gaia_columns = [column for column in master_catalogue.colnames\n",
    "                     if 'flag_gaia' in column]\n",
    "\n",
    "master_catalogue.add_column(Column(\n",
    "    data=np.max([master_catalogue[column] for column in flag_gaia_columns], axis=0),\n",
    "    name=\"flag_gaia\"\n",
    "))\n",
    "master_catalogue.remove_columns(flag_gaia_columns)"
   ]
  },
  {
   "cell_type": "markdown",
   "metadata": {
    "deletable": true,
    "editable": true
   },
   "source": [
    "Each prisitine catalogue may contain one or several stellarity columns indicating the probability (0 to 1) of each source being a star.  We merge these columns taking the highest value."
   ]
  },
  {
   "cell_type": "code",
   "execution_count": 30,
   "metadata": {
    "collapsed": false,
    "deletable": true,
    "editable": true
   },
   "outputs": [
    {
     "name": "stdout",
     "output_type": "stream",
     "text": [
      "cosmos_stellarity, candels_stellarity, cfhtls_stellarity, decals_stellarity, hsc-udeep_stellarity, hsc-deep_stellarity, kids_stellarity, las_stellarity\n"
     ]
    }
   ],
   "source": [
    "stellarity_columns = [column for column in master_catalogue.colnames\n",
    "                      if 'stellarity' in column]\n",
    "\n",
    "print(\", \".join(stellarity_columns))"
   ]
  },
  {
   "cell_type": "code",
   "execution_count": 31,
   "metadata": {
    "collapsed": true,
    "deletable": true,
    "editable": true
   },
   "outputs": [],
   "source": [
    "\n",
    "# We create an masked array with all the stellarities and get the maximum value, as well as its\n",
    "# origin.  Some sources may not have an associated stellarity.\n",
    "stellarity_array = np.array([master_catalogue[column] for column in stellarity_columns])\n",
    "stellarity_array = np.ma.masked_array(stellarity_array, np.isnan(stellarity_array))\n",
    "\n",
    "max_stellarity = np.max(stellarity_array, axis=0)\n",
    "max_stellarity.fill_value = np.nan\n",
    "\n",
    "no_stellarity_mask = max_stellarity.mask\n",
    "\n",
    "master_catalogue.add_column(Column(data=max_stellarity.filled(), name=\"stellarity\"))\n",
    "\n",
    "stellarity_origin = np.full(len(master_catalogue), \"NO_INFORMATION\", dtype=\"S20\")\n",
    "stellarity_origin[~no_stellarity_mask] = np.array(stellarity_columns)[np.argmax(stellarity_array, axis=0)[~no_stellarity_mask]]\n",
    "\n",
    "master_catalogue.add_column(Column(data=stellarity_origin, name=\"stellarity_origin\"))\n",
    "\n",
    "master_catalogue.remove_columns(stellarity_columns)"
   ]
  },
  {
   "cell_type": "markdown",
   "metadata": {
    "deletable": true,
    "editable": true
   },
   "source": [
    "## IV - Adding E(B-V) column"
   ]
  },
  {
   "cell_type": "code",
   "execution_count": 32,
   "metadata": {
    "collapsed": true,
    "deletable": true,
    "editable": true
   },
   "outputs": [],
   "source": [
    "master_catalogue.add_column(\n",
    "    ebv(master_catalogue['ra'], master_catalogue['dec'])\n",
    ")"
   ]
  },
  {
   "cell_type": "markdown",
   "metadata": {
    "deletable": true,
    "editable": true
   },
   "source": [
    "## V a - Adding HELP unique identifiers and field columns\n",
    "\n",
    "First we make a help_id column using the old values where we have them"
   ]
  },
  {
   "cell_type": "code",
   "execution_count": 33,
   "metadata": {
    "collapsed": true,
    "deletable": true,
    "editable": true
   },
   "outputs": [],
   "source": [
    "#master_catalogue.add_column(Column(gen_help_id(master_catalogue['ra'], master_catalogue['dec']),\n",
    "#                                   name=\"help_id\"))\n",
    "#Use HELP ids from original cat to make sure they are identical\n",
    "\n",
    "master_catalogue['help_id'] = master_catalogue['help_id'].astype('S27')\n",
    "master_catalogue.add_column(Column(gen_help_id(master_catalogue['ra'], master_catalogue['dec']),\n",
    "                                   name=\"help_id_temp\"))\n",
    "mask = (master_catalogue['help_id'] == '-1') | (master_catalogue['help_id'] == '')\n",
    "master_catalogue['help_id'][mask] = master_catalogue['help_id_temp'][mask]\n",
    "master_catalogue.remove_column('help_id_temp')\n",
    "\n",
    "master_catalogue.add_column(Column(np.full(len(master_catalogue), \"COSMOS\", dtype='<U18'),\n",
    "                                   name=\"field\"))"
   ]
  },
  {
   "cell_type": "code",
   "execution_count": 34,
   "metadata": {
    "collapsed": false,
    "deletable": true,
    "editable": true
   },
   "outputs": [
    {
     "name": "stdout",
     "output_type": "stream",
     "text": [
      "OK!\n"
     ]
    }
   ],
   "source": [
    "# Check that the HELP Ids are unique\n",
    "if len(master_catalogue) != len(np.unique(master_catalogue['help_id'])):\n",
    "    print(\"The HELP IDs are not unique!!!\")\n",
    "else:\n",
    "    print(\"OK!\")"
   ]
  },
  {
   "cell_type": "markdown",
   "metadata": {
    "deletable": true,
    "editable": true
   },
   "source": [
    "We now make a second help_id column using only the new naming convention but keeping the old column to permit joining in the old products"
   ]
  },
  {
   "cell_type": "code",
   "execution_count": null,
   "metadata": {
    "collapsed": true,
    "deletable": true,
    "editable": true
   },
   "outputs": [],
   "source": [
    "master_catalogue['help_id'].name = 'old_help_id'\n",
    "master_catalogue.add_column(Column(gen_help_id(master_catalogue['ra'], master_catalogue['dec']),\n",
    "                                   name=\"help_id\"))"
   ]
  },
  {
   "cell_type": "code",
   "execution_count": null,
   "metadata": {
    "collapsed": true,
    "deletable": true,
    "editable": true
   },
   "outputs": [],
   "source": [
    "# Check that the HELP Ids are unique\n",
    "if len(master_catalogue) != len(np.unique(master_catalogue['help_id'])):\n",
    "    print(\"The HELP IDs are not unique!!!\")\n",
    "else:\n",
    "    print(\"OK!\")"
   ]
  },
  {
   "cell_type": "markdown",
   "metadata": {
    "deletable": true,
    "editable": true
   },
   "source": [
    "## V b - Adding spec-z"
   ]
  },
  {
   "cell_type": "code",
   "execution_count": 35,
   "metadata": {
    "collapsed": true,
    "deletable": true,
    "editable": true
   },
   "outputs": [],
   "source": [
    "specz =  Table.read(\"../../dmu23/dmu23_COSMOS/data/COSMOS-specz-v2.5-public_helpcoverage_helpid_20160512.fits\")"
   ]
  },
  {
   "cell_type": "code",
   "execution_count": 36,
   "metadata": {
    "collapsed": false,
    "deletable": true,
    "editable": true
   },
   "outputs": [
    {
     "data": {
      "image/png": "[encoded data removed]",
      "text/plain": [
       "<matplotlib.figure.Figure at 0x7f55bf1c9630>"
      ]
     },
     "metadata": {},
     "output_type": "display_data"
    }
   ],
   "source": [
    "nb_merge_dist_plot(\n",
    "    SkyCoord(master_catalogue['ra'], master_catalogue['dec']),\n",
    "    SkyCoord(specz['ra'] * u.deg, specz['dec'] * u.deg)\n",
    ")"
   ]
  },
  {
   "cell_type": "code",
   "execution_count": 37,
   "metadata": {
    "collapsed": true,
    "deletable": true,
    "editable": true
   },
   "outputs": [],
   "source": [
    "master_catalogue = specz_merge(master_catalogue, specz, radius=1. * u.arcsec)"
   ]
  },
  {
   "cell_type": "markdown",
   "metadata": {
    "deletable": true,
    "editable": true
   },
   "source": [
    "## VI - Choosing between multiple values for the same filter\n",
    "\n",
    "### VI.a HSC-DEEP and HSC-UDEEP and COSMOS\n",
    "\n",
    "On COSMOS2015 we have early HSC y band photometry. To ensure values are the same as for the original run, we take fluxes in this order: COSMOS, HSC-DEEP, HSC-UDEEP."
   ]
  },
  {
   "cell_type": "code",
   "execution_count": 38,
   "metadata": {
    "collapsed": true,
    "deletable": true,
    "editable": true
   },
   "outputs": [],
   "source": [
    "suprime_origin = Table()\n",
    "suprime_origin.add_column(master_catalogue['help_id'])"
   ]
  },
  {
   "cell_type": "code",
   "execution_count": 39,
   "metadata": {
    "collapsed": true,
    "deletable": true,
    "editable": true
   },
   "outputs": [
    {
     "name": "stderr",
     "output_type": "stream",
     "text": [
      "/opt/anaconda3/envs/herschelhelp_internal/lib/python3.6/site-packages/numpy/core/numeric.py:301: FutureWarning: in the future, full(6, 0) will return an array of dtype('int64')\n",
      "  format(shape, fill_value, array(fill_value).dtype), FutureWarning)\n"
     ]
    }
   ],
   "source": [
    "suprime_stats = Table()\n",
    "suprime_stats.add_column(Column(data=['g','r','i','z','y', 'n921'], name=\"Band\"))\n",
    "for col in [\"HSC-UDEEP\",  \"HSC-DEEP\", \"COSMOS2015\"]:\n",
    "    suprime_stats.add_column(Column(data=np.full(6, 0), name=\"{}\".format(col)))\n",
    "    suprime_stats.add_column(Column(data=np.full(6, 0), name=\"use {}\".format(col)))\n",
    "    suprime_stats.add_column(Column(data=np.full(6, 0), name=\"{} ap\".format(col)))\n",
    "    suprime_stats.add_column(Column(data=np.full(6, 0), name=\"use {} ap\".format(col)))\n",
    "    "
   ]
  },
  {
   "cell_type": "code",
   "execution_count": 40,
   "metadata": {
    "collapsed": true,
    "deletable": true,
    "editable": true
   },
   "outputs": [],
   "source": [
    "suprime_bands = ['g','r','i','z','y', 'n921'] \n",
    "for band in suprime_bands:\n",
    "\n",
    "    # Suprime total flux \n",
    "    has_hsc_udeep = ~np.isnan(master_catalogue['f_hsc-udeep_' + band])\n",
    "    has_hsc_deep  = ~np.isnan(master_catalogue['f_hsc-deep_' + band])\n",
    "    if band == 'y':\n",
    "        has_cosmos = ~np.isnan(master_catalogue['f_cosmos-suprime_y'])\n",
    "    elif band != 'y':\n",
    "        has_cosmos = np.full(len(master_catalogue), False, dtype=bool)\n",
    "    \n",
    "    use_cosmos = has_cosmos\n",
    "    use_hsc_udeep = has_hsc_udeep & ~has_cosmos\n",
    "    use_hsc_deep = has_hsc_deep & ~has_hsc_udeep & ~has_cosmos\n",
    "    \n",
    " \n",
    "    f_suprime = np.full(len(master_catalogue), np.nan)\n",
    "    if band == 'y':\n",
    "        f_suprime[use_cosmos] = master_catalogue['f_cosmos-suprime_y'][use_cosmos]\n",
    "    f_suprime[use_hsc_udeep] = master_catalogue['f_hsc-udeep_' + band][use_hsc_udeep]\n",
    "    f_suprime[use_hsc_deep] = master_catalogue['f_hsc-deep_' + band][use_hsc_deep]\n",
    " \n",
    "\n",
    "    ferr_suprime = np.full(len(master_catalogue), np.nan)\n",
    "    if band == 'y':\n",
    "        ferr_suprime[use_cosmos] = master_catalogue['ferr_cosmos-suprime_y'][use_cosmos]\n",
    "    ferr_suprime[use_hsc_udeep] = master_catalogue['ferr_hsc-udeep_' + band][use_hsc_udeep]\n",
    "    ferr_suprime[use_hsc_deep] = master_catalogue['ferr_hsc-deep_' + band][use_hsc_deep]\n",
    "\n",
    "    \n",
    "    m_suprime = np.full(len(master_catalogue), np.nan)\n",
    "    if band == 'y':\n",
    "        m_suprime[use_cosmos] = master_catalogue['m_cosmos-suprime_y'][use_cosmos]\n",
    "    m_suprime[use_hsc_udeep] = master_catalogue['m_hsc-udeep_' + band][use_hsc_udeep]\n",
    "    m_suprime[use_hsc_deep] = master_catalogue['m_hsc-deep_' + band][use_hsc_deep]\n",
    "\n",
    "\n",
    "    merr_suprime = np.full(len(master_catalogue), np.nan)\n",
    "    if band == 'y':\n",
    "        merr_suprime[use_cosmos] = master_catalogue['merr_cosmos-suprime_y'][use_cosmos]\n",
    "    merr_suprime[use_hsc_udeep] = master_catalogue['merr_hsc-udeep_' + band][use_hsc_udeep]\n",
    "    merr_suprime[use_hsc_deep] = master_catalogue['merr_hsc-deep_' + band][use_hsc_deep]\n",
    "\n",
    "\n",
    "    flag_suprime = np.full(len(master_catalogue), False, dtype=bool)\n",
    "    if band == 'y':\n",
    "        flag_suprime[use_cosmos] = master_catalogue['flag_cosmos-suprime_y'][use_cosmos]\n",
    "    flag_suprime[use_hsc_udeep] = master_catalogue['flag_hsc-udeep_' + band][use_hsc_udeep]\n",
    "    flag_suprime[use_hsc_deep] = master_catalogue['flag_hsc-deep_' + band][use_hsc_deep]\n",
    "\n",
    "\n",
    "    master_catalogue.add_column(Column(data=f_suprime, name=\"f_suprime_\" + band))\n",
    "    master_catalogue.add_column(Column(data=ferr_suprime, name=\"ferr_suprime_\" + band))\n",
    "    master_catalogue.add_column(Column(data=m_suprime, name=\"m_suprime_\" + band))\n",
    "    master_catalogue.add_column(Column(data=merr_suprime, name=\"merr_suprime_\" + band))\n",
    "    master_catalogue.add_column(Column(data=flag_suprime, name=\"flag_suprime_\" + band))\n",
    "\n",
    "    old_hsc_udeep_columns = ['f_hsc-udeep_' + band,\n",
    "                               'ferr_hsc-udeep_' + band,\n",
    "                               'm_hsc-udeep_' + band, \n",
    "                               'merr_hsc-udeep_' + band,\n",
    "                               'flag_hsc-udeep_' + band]\n",
    "    old_hsc_deep_columns = ['f_hsc-deep_' + band,\n",
    "                               'ferr_hsc-deep_' + band,\n",
    "                               'm_hsc-deep_' + band, \n",
    "                               'merr_hsc-deep_' + band,\n",
    "                               'flag_hsc-deep_' + band]\n",
    "    old_cosmos_columns = ['f_cosmos-suprime_' + band,\n",
    "                               'ferr_cosmos-suprime_' + band,\n",
    "                               'm_cosmos-suprime_' + band, \n",
    "                               'merr_cosmos-suprime_' + band,\n",
    "                               'flag_cosmos-suprime_' + band]\n",
    "    \n",
    "    old_columns = old_hsc_udeep_columns + old_hsc_deep_columns\n",
    "    if band == 'y':\n",
    "        old_columns += old_cosmos_columns\n",
    "    master_catalogue.remove_columns(old_columns)\n",
    "\n",
    "    origin = np.full(len(master_catalogue), '     ', dtype='<U5')\n",
    "    origin[use_hsc_udeep] = \"HSC-UDEEP\"\n",
    "    origin[use_hsc_deep] = \"HSC-DEEP\"\n",
    "    origin[use_cosmos] = \"COSMOS2015\"\n",
    " \n",
    "    \n",
    "    suprime_origin.add_column(Column(data=origin, name= 'f_suprime_' + band ))\n",
    "    \n",
    "  \n",
    "    # Suprime aperture flux \n",
    "    has_ap_hsc_udeep = ~np.isnan(master_catalogue['f_ap_hsc-udeep_' + band])\n",
    "    has_ap_hsc_deep  = ~np.isnan(master_catalogue['f_ap_hsc-deep_' + band])\n",
    "    if band == 'y':\n",
    "        has_ap_cosmos = ~np.isnan(master_catalogue['f_ap_cosmos-suprime_y'])\n",
    "    elif band != 'y':\n",
    "        has_ap_cosmos = np.full(len(master_catalogue), False, dtype=bool)\n",
    " \n",
    "    \n",
    "    use_ap_cosmos = has_ap_cosmos\n",
    "    use_ap_hsc_udeep = has_ap_hsc_udeep & ~has_cosmos\n",
    "    use_ap_hsc_deep = has_ap_hsc_deep & ~has_ap_hsc_udeep & ~has_cosmos\n",
    "  \n",
    "\n",
    "    f_ap_suprime = np.full(len(master_catalogue), np.nan)\n",
    "    if band == 'y':\n",
    "        f_ap_suprime[use_ap_cosmos] = master_catalogue['f_ap_cosmos-suprime_y'][use_ap_cosmos]\n",
    "    f_ap_suprime[use_ap_hsc_udeep] = master_catalogue['f_ap_hsc-udeep_' + band][use_ap_hsc_udeep]\n",
    "    f_ap_suprime[use_ap_hsc_deep] = master_catalogue['f_ap_hsc-deep_' + band][use_ap_hsc_deep]\n",
    "\n",
    "\n",
    "    ferr_ap_suprime = np.full(len(master_catalogue), np.nan)\n",
    "    if band == 'y':\n",
    "        ferr_ap_suprime[use_ap_cosmos] = master_catalogue['ferr_ap_cosmos-suprime_y'][use_ap_cosmos]\n",
    "    ferr_ap_suprime[use_ap_hsc_udeep] = master_catalogue['ferr_ap_hsc-udeep_' + band][use_ap_hsc_udeep]\n",
    "    ferr_ap_suprime[use_ap_hsc_deep] = master_catalogue['ferr_ap_hsc-deep_' + band][use_ap_hsc_deep]\n",
    "   \n",
    "    \n",
    "    m_ap_suprime = np.full(len(master_catalogue), np.nan)\n",
    "    if band == 'y':\n",
    "        m_ap_suprime[use_ap_cosmos] = master_catalogue['m_ap_cosmos-suprime_y'][use_ap_cosmos]\n",
    "    m_ap_suprime[use_ap_hsc_udeep] = master_catalogue['m_ap_hsc-udeep_' + band][use_ap_hsc_udeep]\n",
    "    m_ap_suprime[use_ap_hsc_deep] = master_catalogue['m_ap_hsc-deep_' + band][use_ap_hsc_deep]\n",
    "  \n",
    "\n",
    "    merr_ap_suprime = np.full(len(master_catalogue), np.nan)\n",
    "    if band == 'y':\n",
    "        merr_ap_suprime[use_ap_cosmos] = master_catalogue['merr_ap_cosmos-suprime_y'][use_ap_cosmos]\n",
    "    merr_ap_suprime[use_ap_hsc_udeep] = master_catalogue['merr_ap_hsc-udeep_' + band][use_ap_hsc_udeep]\n",
    "    merr_ap_suprime[use_ap_hsc_deep] = master_catalogue['merr_ap_hsc-deep_' + band][use_ap_hsc_deep]\n",
    "  \n",
    "\n",
    "\n",
    "    master_catalogue.add_column(Column(data=f_ap_suprime, name=\"f_ap_suprime_\" + band))\n",
    "    master_catalogue.add_column(Column(data=ferr_ap_suprime, name=\"ferr_ap_suprime_\" + band))\n",
    "    master_catalogue.add_column(Column(data=m_ap_suprime, name=\"m_ap_suprime_\" + band))\n",
    "    master_catalogue.add_column(Column(data=merr_ap_suprime, name=\"merr_ap_suprime_\" + band))\n",
    "\n",
    "\n",
    "    old_ap_hsc_udeep_columns = ['f_ap_hsc-udeep_' + band,\n",
    "                               'ferr_ap_hsc-udeep_' + band,\n",
    "                               'm_ap_hsc-udeep_' + band, \n",
    "                               'merr_ap_hsc-udeep_' + band]\n",
    "    old_ap_hsc_deep_columns = ['f_ap_hsc-deep_' + band,\n",
    "                               'ferr_ap_hsc-deep_' + band,\n",
    "                               'm_ap_hsc-deep_' + band, \n",
    "                               'merr_ap_hsc-deep_' + band]\n",
    "    old_ap_cosmos_columns = ['f_ap_cosmos-suprime_' + band,\n",
    "                               'ferr_ap_cosmos-suprime_' + band,\n",
    "                               'm_ap_cosmos-suprime_' + band, \n",
    "                               'merr_ap_cosmos-suprime_' + band]\n",
    "\n",
    "    \n",
    "    old_ap_columns = old_ap_hsc_udeep_columns + old_ap_hsc_deep_columns \n",
    "    if band == 'y':\n",
    "        old_ap_columns += old_ap_cosmos_columns\n",
    "    master_catalogue.remove_columns(old_ap_columns)\n",
    "\n",
    "    origin_ap = np.full(len(master_catalogue), '     ', dtype='<U5')\n",
    "    origin_ap[use_ap_hsc_udeep] = \"HSC-UDEEP\"\n",
    "    origin_ap[use_ap_hsc_deep] = \"HSC-DEEP\"\n",
    "    origin_ap[use_ap_cosmos] = \"COSMOS2015\"\n",
    "\n",
    "    \n",
    "    suprime_origin.add_column(Column(data=origin_ap, name= 'f_ap_suprime_' + band ))\n",
    "\n",
    "   \n",
    "    suprime_stats['HSC-UDEEP'][suprime_stats['Band'] == band] = np.sum(has_hsc_udeep)\n",
    "    suprime_stats['HSC-DEEP'][suprime_stats['Band'] == band] = np.sum(has_hsc_deep)\n",
    "    suprime_stats['COSMOS2015'][suprime_stats['Band'] == band] = np.sum(has_cosmos)\n",
    "\n",
    "    suprime_stats['use HSC-UDEEP'][suprime_stats['Band'] == band] = np.sum(use_hsc_udeep)\n",
    "    suprime_stats['use HSC-DEEP'][suprime_stats['Band'] == band] = np.sum(use_hsc_deep)\n",
    "    suprime_stats['use COSMOS2015'][suprime_stats['Band'] == band] = np.sum(use_cosmos)\n",
    "\n",
    "    suprime_stats['HSC-UDEEP ap'][suprime_stats['Band'] == band] = np.sum(has_ap_hsc_udeep)\n",
    "    suprime_stats['HSC-DEEP ap'][suprime_stats['Band'] == band] = np.sum(has_ap_hsc_deep)\n",
    "    suprime_stats['COSMOS2015 ap'][suprime_stats['Band'] == band] = np.sum(has_ap_cosmos)\n",
    "    \n",
    "    suprime_stats['use HSC-UDEEP ap'][suprime_stats['Band'] == band] = np.sum(use_ap_hsc_udeep)\n",
    "    suprime_stats['use HSC-DEEP ap'][suprime_stats['Band'] == band] = np.sum(use_ap_hsc_deep)\n",
    "    suprime_stats['use COSMOS2015 ap'][suprime_stats['Band'] == band] = np.sum(use_ap_cosmos)"
   ]
  },
  {
   "cell_type": "code",
   "execution_count": 41,
   "metadata": {
    "collapsed": false,
    "deletable": true,
    "editable": true
   },
   "outputs": [
    {
     "data": {
      "text/html": [
       "<i>Table length=6</i>\n",
       "<table id=\"table140006254811120-643995\" class=\"table-striped table-bordered table-condensed\">\n",
       "<thead><tr><th>idx</th><th>Band</th><th>HSC-UDEEP</th><th>use HSC-UDEEP</th><th>HSC-UDEEP ap</th><th>use HSC-UDEEP ap</th><th>HSC-DEEP</th><th>use HSC-DEEP</th><th>HSC-DEEP ap</th><th>use HSC-DEEP ap</th><th>COSMOS2015</th><th>use COSMOS2015</th><th>COSMOS2015 ap</th><th>use COSMOS2015 ap</th></tr></thead>\n",
       "<tr><td>0</td><td>g</td><td>1146131.0</td><td>1146131.0</td><td>1257414.0</td><td>1257414.0</td><td>1643773.0</td><td>956277.0</td><td>1838222.0</td><td>1044705.0</td><td>0.0</td><td>0.0</td><td>0.0</td><td>0.0</td></tr>\n",
       "<tr><td>1</td><td>r</td><td>1156722.0</td><td>1156722.0</td><td>1268883.0</td><td>1268883.0</td><td>1679055.0</td><td>989440.0</td><td>1903240.0</td><td>1102607.0</td><td>0.0</td><td>0.0</td><td>0.0</td><td>0.0</td></tr>\n",
       "<tr><td>2</td><td>i</td><td>1160356.0</td><td>1160356.0</td><td>1291883.0</td><td>1291883.0</td><td>1714230.0</td><td>987298.0</td><td>1953737.0</td><td>1086535.0</td><td>0.0</td><td>0.0</td><td>0.0</td><td>0.0</td></tr>\n",
       "<tr><td>3</td><td>z</td><td>1132842.0</td><td>1132842.0</td><td>1260729.0</td><td>1260729.0</td><td>1701530.0</td><td>984971.0</td><td>1933534.0</td><td>1081349.0</td><td>0.0</td><td>0.0</td><td>0.0</td><td>0.0</td></tr>\n",
       "<tr><td>4</td><td>y</td><td>1035328.0</td><td>500551.0</td><td>1157878.0</td><td>574161.0</td><td>1467985.0</td><td>798995.0</td><td>1669840.0</td><td>893700.0</td><td>661669.0</td><td>661669.0</td><td>693726.0</td><td>693726.0</td></tr>\n",
       "<tr><td>5</td><td>n921</td><td>1088153.0</td><td>1088153.0</td><td>1207243.0</td><td>1207243.0</td><td>879166.0</td><td>494988.0</td><td>996296.0</td><td>546326.0</td><td>0.0</td><td>0.0</td><td>0.0</td><td>0.0</td></tr>\n",
       "</table><style>table.dataTable {clear: both; width: auto !important; margin: 0 !important;}\n",
       ".dataTables_info, .dataTables_length, .dataTables_filter, .dataTables_paginate{\n",
       "display: inline-block; margin-right: 1em; }\n",
       ".paginate_button { margin-right: 5px; }\n",
       "</style>\n",
       "<script>\n",
       "\n",
       "var astropy_sort_num = function(a, b) {\n",
       "    var a_num = parseFloat(a);\n",
       "    var b_num = parseFloat(b);\n",
       "\n",
       "    if (isNaN(a_num) && isNaN(b_num))\n",
       "        return ((a < b) ? -1 : ((a > b) ? 1 : 0));\n",
       "    else if (!isNaN(a_num) && !isNaN(b_num))\n",
       "        return ((a_num < b_num) ? -1 : ((a_num > b_num) ? 1 : 0));\n",
       "    else\n",
       "        return isNaN(a_num) ? -1 : 1;\n",
       "}\n",
       "\n",
       "require.config({paths: {\n",
       "    datatables: 'https://cdn.datatables.net/1.10.12/js/jquery.dataTables.min'\n",
       "}});\n",
       "require([\"datatables\"], function(){\n",
       "    console.log(\"$('#table140006254811120-643995').dataTable()\");\n",
       "    \n",
       "jQuery.extend( jQuery.fn.dataTableExt.oSort, {\n",
       "    \"optionalnum-asc\": astropy_sort_num,\n",
       "    \"optionalnum-desc\": function (a,b) { return -astropy_sort_num(a, b); }\n",
       "});\n",
       "\n",
       "    $('#table140006254811120-643995').dataTable({\n",
       "        order: [],\n",
       "        pageLength: 50,\n",
       "        lengthMenu: [[10, 25, 50, 100, 500, 1000, -1], [10, 25, 50, 100, 500, 1000, 'All']],\n",
       "        pagingType: \"full_numbers\",\n",
       "        columnDefs: [{targets: [0, 2, 3, 4, 5, 6, 7, 8, 9, 10, 11, 12, 13], type: \"optionalnum\"}]\n",
       "    });\n",
       "});\n",
       "</script>\n"
      ],
      "text/plain": [
       "<IPython.core.display.HTML object>"
      ]
     },
     "execution_count": 41,
     "metadata": {},
     "output_type": "execute_result"
    }
   ],
   "source": [
    "suprime_stats.show_in_notebook()"
   ]
  },
  {
   "cell_type": "code",
   "execution_count": 42,
   "metadata": {
    "collapsed": true,
    "deletable": true,
    "editable": true
   },
   "outputs": [],
   "source": [
    "suprime_origin.write(\"{}/cosmos_suprime_fluxes_origins{}.fits\".format(OUT_DIR, SUFFIX), overwrite=True)"
   ]
  },
  {
   "cell_type": "markdown",
   "metadata": {
    "deletable": true,
    "editable": true
   },
   "source": [
    "## VII.b Megacam\n",
    "\n",
    "### COSMOS vs CFHT-WIRDS vs CFHTLS\n",
    "\n",
    "We take COSMOS over CFHTLS over CFHT-WIRDS"
   ]
  },
  {
   "cell_type": "code",
   "execution_count": 43,
   "metadata": {
    "collapsed": true,
    "deletable": true,
    "editable": true
   },
   "outputs": [],
   "source": [
    "megacam_origin = Table()\n",
    "megacam_origin.add_column(master_catalogue['help_id'])"
   ]
  },
  {
   "cell_type": "code",
   "execution_count": 44,
   "metadata": {
    "collapsed": true,
    "deletable": true,
    "editable": true
   },
   "outputs": [
    {
     "name": "stderr",
     "output_type": "stream",
     "text": [
      "/opt/anaconda3/envs/herschelhelp_internal/lib/python3.6/site-packages/numpy/core/numeric.py:301: FutureWarning: in the future, full(5, 0) will return an array of dtype('int64')\n",
      "  format(shape, fill_value, array(fill_value).dtype), FutureWarning)\n"
     ]
    }
   ],
   "source": [
    "megacam_stats = Table()\n",
    "megacam_stats.add_column(Column(data=['u','g','r','i','z'], name=\"Band\"))\n",
    "for col in [\"COSMOS2015\", \"CFHTLS\",  \"CFHT-WIRDS\"]:\n",
    "    megacam_stats.add_column(Column(data=np.full(5, 0), name=\"{}\".format(col)))\n",
    "    megacam_stats.add_column(Column(data=np.full(5, 0), name=\"use {}\".format(col)))\n",
    "    megacam_stats.add_column(Column(data=np.full(5, 0), name=\"{} ap\".format(col)))\n",
    "    megacam_stats.add_column(Column(data=np.full(5, 0), name=\"use {} ap\".format(col)))"
   ]
  },
  {
   "cell_type": "code",
   "execution_count": 45,
   "metadata": {
    "collapsed": true,
    "deletable": true,
    "editable": true
   },
   "outputs": [],
   "source": [
    "megacam_bands = ['u','g','r','i','z'] \n",
    "for band in megacam_bands:\n",
    "\n",
    "    # megacam total flux \n",
    "    has_cfhtls = ~np.isnan(master_catalogue['f_megacam_' + band])\n",
    "    has_wirds  = ~np.isnan(master_catalogue['f_wirds_' + band])\n",
    "    if band == 'u':\n",
    "        has_cosmos  = ~np.isnan(master_catalogue['f_cosmos-megacam_' + band])\n",
    "    elif band != 'u':\n",
    "        has_cosmos = np.full(len(master_catalogue), False, dtype=bool)\n",
    "        \n",
    "    \n",
    "    use_cosmos = has_cosmos\n",
    "    use_cfhtls = has_cfhtls & ~has_cosmos\n",
    "    use_wirds = has_wirds & ~has_cfhtls & ~has_cosmos\n",
    " \n",
    "    master_catalogue['f_megacam_' + band][use_wirds] = master_catalogue['f_wirds_' + band][use_wirds]\n",
    "    master_catalogue['ferr_megacam_' + band][use_wirds] = master_catalogue['ferr_wirds_' + band][use_wirds]\n",
    "    master_catalogue['m_megacam_' + band][use_wirds] = master_catalogue['m_wirds_' + band][use_wirds]\n",
    "    master_catalogue['merr_megacam_' + band][use_wirds] = master_catalogue['merr_wirds_' + band][use_wirds]\n",
    "    master_catalogue['flag_megacam_' + band][use_wirds] = master_catalogue['flag_wirds_' + band][use_wirds]\n",
    "\n",
    "\n",
    "    master_catalogue.remove_columns(['f_wirds_' + band,\n",
    "                               'ferr_wirds_' + band,\n",
    "                               'm_wirds_' + band, \n",
    "                               'merr_wirds_' + band,\n",
    "                               'flag_wirds_' + band])\n",
    " \n",
    "    if band == 'u':\n",
    "        master_catalogue['f_megacam_' + band][use_cosmos] = master_catalogue['f_cosmos-megacam_' + band][use_cosmos]\n",
    "        master_catalogue['ferr_megacam_' + band][use_cosmos] = master_catalogue['ferr_cosmos-megacam_' + band][use_cosmos]\n",
    "        master_catalogue['m_megacam_' + band][use_cosmos] = master_catalogue['m_cosmos-megacam_' + band][use_cosmos]\n",
    "        master_catalogue['merr_megacam_' + band][use_cosmos] = master_catalogue['merr_cosmos-megacam_' + band][use_cosmos]\n",
    "        master_catalogue['flag_megacam_' + band][use_cosmos] = master_catalogue['flag_cosmos-megacam_' + band][use_cosmos]\n",
    "        \n",
    "        master_catalogue.remove_columns(['f_cosmos-megacam_' + band,\n",
    "                               'ferr_cosmos-megacam_' + band,\n",
    "                               'm_cosmos-megacam_' + band, \n",
    "                               'merr_cosmos-megacam_' + band,\n",
    "                               'flag_cosmos-megacam_' + band])\n",
    "        \n",
    "    origin = np.full(len(master_catalogue), '     ', dtype='<U5')\n",
    "    origin[use_cfhtls] = \"CFHTLS\"\n",
    "    origin[use_wirds] = \"CFHT-WIRDS\"\n",
    "    origin[use_cosmos] = \"COSMOS2015\"\n",
    " \n",
    "    \n",
    "    megacam_origin.add_column(Column(data=origin, name= 'f_megacam_' + band ))\n",
    "    \n",
    "  \n",
    "    # Megacam aperture flux \n",
    "    has_ap_cfhtls = ~np.isnan(master_catalogue['f_ap_megacam_' + band])\n",
    "    has_ap_wirds  = ~np.isnan(master_catalogue['f_ap_wirds_' + band])\n",
    "    if band == 'u':\n",
    "        has_ap_cosmos  = ~np.isnan(master_catalogue['f_ap_cosmos-megacam_' + band])\n",
    "    elif band != 'u':\n",
    "        has_ap_cosmos = np.full(len(master_catalogue), False, dtype=bool)\n",
    "    \n",
    "    use_ap_cosmos =  has_ap_cosmos\n",
    "    use_ap_cfhtls = has_ap_cfhtls & ~has_ap_cosmos\n",
    "    use_ap_wirds = has_ap_wirds & ~has_ap_cfhtls & ~has_ap_cosmos\n",
    "  \n",
    "\n",
    "    master_catalogue['f_ap_megacam_' + band][use_ap_wirds] = master_catalogue['f_ap_wirds_' + band][use_ap_wirds]\n",
    "    master_catalogue['ferr_ap_megacam_' + band][use_ap_wirds] = master_catalogue['ferr_ap_wirds_' + band][use_ap_wirds]\n",
    "    master_catalogue['m_ap_megacam_' + band][use_ap_wirds] = master_catalogue['m_ap_wirds_' + band][use_ap_wirds]\n",
    "    master_catalogue['merr_ap_megacam_' + band][use_ap_wirds] = master_catalogue['merr_ap_wirds_' + band][use_ap_wirds]\n",
    "\n",
    "    master_catalogue.remove_columns(['f_ap_wirds_' + band,\n",
    "                               'ferr_ap_wirds_' + band,\n",
    "                               'm_ap_wirds_' + band, \n",
    "                               'merr_ap_wirds_' + band])\n",
    "    \n",
    "    if band == 'u':\n",
    "        master_catalogue['f_ap_megacam_' + band][use_ap_cosmos] = master_catalogue['f_ap_cosmos-megacam_' + band][use_ap_cosmos]\n",
    "        master_catalogue['ferr_ap_megacam_' + band][use_ap_cosmos] = master_catalogue['ferr_ap_cosmos-megacam_' + band][use_ap_cosmos]\n",
    "        master_catalogue['m_ap_megacam_' + band][use_ap_cosmos] = master_catalogue['m_ap_cosmos-megacam_' + band][use_ap_cosmos]\n",
    "        master_catalogue['merr_ap_megacam_' + band][use_ap_cosmos] = master_catalogue['merr_ap_cosmos-megacam_' + band][use_ap_cosmos]\n",
    "        \n",
    "        \n",
    "        master_catalogue.remove_columns(['f_ap_cosmos-megacam_' + band,\n",
    "                               'ferr_ap_cosmos-megacam_' + band,\n",
    "                               'm_ap_cosmos-megacam_' + band, \n",
    "                               'merr_ap_cosmos-megacam_' + band])\n",
    "\n",
    "    origin_ap = np.full(len(master_catalogue), '     ', dtype='<U5')\n",
    "    origin_ap[use_ap_cfhtls] = \"CFHTLS\"\n",
    "    origin_ap[use_ap_wirds] = \"CFHT-WIRDS\"\n",
    "    origin_ap[use_ap_cosmos] = \"COSMOS2015\"\n",
    "    \n",
    "    megacam_origin.add_column(Column(data=origin_ap, name= 'f_ap_megacam_' + band ))\n",
    "\n",
    "   \n",
    "    megacam_stats['CFHTLS'][megacam_stats['Band'] == band] = np.sum(has_cfhtls)\n",
    "    megacam_stats['CFHT-WIRDS'][megacam_stats['Band'] == band] = np.sum(has_wirds)\n",
    "    megacam_stats['COSMOS2015'][megacam_stats['Band'] == band] = np.sum(has_cosmos)\n",
    "\n",
    "    megacam_stats['use CFHTLS'][megacam_stats['Band'] == band] = np.sum(use_cfhtls)\n",
    "    megacam_stats['use CFHT-WIRDS'][megacam_stats['Band'] == band] = np.sum(use_wirds)\n",
    "    megacam_stats['use COSMOS2015'][megacam_stats['Band'] == band] = np.sum(use_cosmos)\n",
    "\n",
    "    megacam_stats['CFHTLS ap'][megacam_stats['Band'] == band] = np.sum(has_ap_cfhtls)\n",
    "    megacam_stats['CFHT-WIRDS ap'][megacam_stats['Band'] == band] = np.sum(has_ap_wirds)\n",
    "    megacam_stats['COSMOS2015 ap'][megacam_stats['Band'] == band] = np.sum(has_ap_cosmos)\n",
    "\n",
    "    megacam_stats['use CFHTLS ap'][megacam_stats['Band'] == band] = np.sum(use_ap_cfhtls)\n",
    "    megacam_stats['use CFHT-WIRDS ap'][megacam_stats['Band'] == band] = np.sum(use_ap_wirds)\n",
    "    megacam_stats['use COSMOS2015 ap'][megacam_stats['Band'] == band] = np.sum(use_ap_cosmos)\n"
   ]
  },
  {
   "cell_type": "code",
   "execution_count": 46,
   "metadata": {
    "collapsed": false,
    "deletable": true,
    "editable": true
   },
   "outputs": [
    {
     "data": {
      "text/html": [
       "<i>Table length=5</i>\n",
       "<table id=\"table140006255075848-461183\" class=\"table-striped table-bordered table-condensed\">\n",
       "<thead><tr><th>idx</th><th>Band</th><th>COSMOS2015</th><th>use COSMOS2015</th><th>COSMOS2015 ap</th><th>use COSMOS2015 ap</th><th>CFHTLS</th><th>use CFHTLS</th><th>CFHTLS ap</th><th>use CFHTLS ap</th><th>CFHT-WIRDS</th><th>use CFHT-WIRDS</th><th>CFHT-WIRDS ap</th><th>use CFHT-WIRDS ap</th></tr></thead>\n",
       "<tr><td>0</td><td>u</td><td>640825.0</td><td>640825.0</td><td>688187.0</td><td>688187.0</td><td>455496.0</td><td>183226.0</td><td>459328.0</td><td>182038.0</td><td>156347.0</td><td>17152.0</td><td>157331.0</td><td>16078.0</td></tr>\n",
       "<tr><td>1</td><td>g</td><td>0.0</td><td>0.0</td><td>0.0</td><td>0.0</td><td>516573.0</td><td>516573.0</td><td>518549.0</td><td>518549.0</td><td>164107.0</td><td>31365.0</td><td>163978.0</td><td>30985.0</td></tr>\n",
       "<tr><td>2</td><td>r</td><td>0.0</td><td>0.0</td><td>0.0</td><td>0.0</td><td>526336.0</td><td>526336.0</td><td>529160.0</td><td>529160.0</td><td>165217.0</td><td>31524.0</td><td>165010.0</td><td>31136.0</td></tr>\n",
       "<tr><td>3</td><td>i</td><td>0.0</td><td>0.0</td><td>0.0</td><td>0.0</td><td>520668.0</td><td>520668.0</td><td>523948.0</td><td>523948.0</td><td>165648.0</td><td>31737.0</td><td>165316.0</td><td>31298.0</td></tr>\n",
       "<tr><td>4</td><td>z</td><td>0.0</td><td>0.0</td><td>0.0</td><td>0.0</td><td>474766.0</td><td>474766.0</td><td>480581.0</td><td>480581.0</td><td>164234.0</td><td>30996.0</td><td>164359.0</td><td>30824.0</td></tr>\n",
       "</table><style>table.dataTable {clear: both; width: auto !important; margin: 0 !important;}\n",
       ".dataTables_info, .dataTables_length, .dataTables_filter, .dataTables_paginate{\n",
       "display: inline-block; margin-right: 1em; }\n",
       ".paginate_button { margin-right: 5px; }\n",
       "</style>\n",
       "<script>\n",
       "\n",
       "var astropy_sort_num = function(a, b) {\n",
       "    var a_num = parseFloat(a);\n",
       "    var b_num = parseFloat(b);\n",
       "\n",
       "    if (isNaN(a_num) && isNaN(b_num))\n",
       "        return ((a < b) ? -1 : ((a > b) ? 1 : 0));\n",
       "    else if (!isNaN(a_num) && !isNaN(b_num))\n",
       "        return ((a_num < b_num) ? -1 : ((a_num > b_num) ? 1 : 0));\n",
       "    else\n",
       "        return isNaN(a_num) ? -1 : 1;\n",
       "}\n",
       "\n",
       "require.config({paths: {\n",
       "    datatables: 'https://cdn.datatables.net/1.10.12/js/jquery.dataTables.min'\n",
       "}});\n",
       "require([\"datatables\"], function(){\n",
       "    console.log(\"$('#table140006255075848-461183').dataTable()\");\n",
       "    \n",
       "jQuery.extend( jQuery.fn.dataTableExt.oSort, {\n",
       "    \"optionalnum-asc\": astropy_sort_num,\n",
       "    \"optionalnum-desc\": function (a,b) { return -astropy_sort_num(a, b); }\n",
       "});\n",
       "\n",
       "    $('#table140006255075848-461183').dataTable({\n",
       "        order: [],\n",
       "        pageLength: 50,\n",
       "        lengthMenu: [[10, 25, 50, 100, 500, 1000, -1], [10, 25, 50, 100, 500, 1000, 'All']],\n",
       "        pagingType: \"full_numbers\",\n",
       "        columnDefs: [{targets: [0, 2, 3, 4, 5, 6, 7, 8, 9, 10, 11, 12, 13], type: \"optionalnum\"}]\n",
       "    });\n",
       "});\n",
       "</script>\n"
      ],
      "text/plain": [
       "<IPython.core.display.HTML object>"
      ]
     },
     "execution_count": 46,
     "metadata": {},
     "output_type": "execute_result"
    }
   ],
   "source": [
    "megacam_stats.show_in_notebook()"
   ]
  },
  {
   "cell_type": "code",
   "execution_count": 47,
   "metadata": {
    "collapsed": true,
    "deletable": true,
    "editable": true
   },
   "outputs": [],
   "source": [
    "megacam_origin.write(\"{}/cosmos_megacam_fluxes_origins{}.fits\".format(OUT_DIR, SUFFIX), overwrite=True)"
   ]
  },
  {
   "cell_type": "markdown",
   "metadata": {
    "deletable": true,
    "editable": true
   },
   "source": [
    "## WIRcam\n",
    "\n",
    "### COSMOS vs WIRDS\n",
    "\n",
    "We take COSMOS over WIRDS to ensure values are the same as for the original run"
   ]
  },
  {
   "cell_type": "code",
   "execution_count": 48,
   "metadata": {
    "collapsed": true,
    "deletable": true,
    "editable": true
   },
   "outputs": [],
   "source": [
    "wircam_origin = Table()\n",
    "wircam_origin.add_column(master_catalogue['help_id'])"
   ]
  },
  {
   "cell_type": "code",
   "execution_count": 49,
   "metadata": {
    "collapsed": true,
    "deletable": true,
    "editable": true
   },
   "outputs": [
    {
     "name": "stderr",
     "output_type": "stream",
     "text": [
      "/opt/anaconda3/envs/herschelhelp_internal/lib/python3.6/site-packages/numpy/core/numeric.py:301: FutureWarning: in the future, full(2, 0) will return an array of dtype('int64')\n",
      "  format(shape, fill_value, array(fill_value).dtype), FutureWarning)\n"
     ]
    }
   ],
   "source": [
    "wircam_stats = Table()\n",
    "wircam_stats.add_column(Column(data=['h','ks'], name=\"Band\"))\n",
    "for col in [\"CFHT-WIRDS\",   \"COSMOS2015\"]:\n",
    "    wircam_stats.add_column(Column(data=np.full(2, 0), name=\"{}\".format(col)))\n",
    "    wircam_stats.add_column(Column(data=np.full(2, 0), name=\"use {}\".format(col)))\n",
    "    wircam_stats.add_column(Column(data=np.full(2, 0), name=\"{} ap\".format(col)))\n",
    "    wircam_stats.add_column(Column(data=np.full(2, 0), name=\"use {} ap\".format(col)))\n",
    "    "
   ]
  },
  {
   "cell_type": "code",
   "execution_count": 50,
   "metadata": {
    "collapsed": true,
    "deletable": true,
    "editable": true
   },
   "outputs": [],
   "source": [
    "wircam_bands = ['h','ks'] \n",
    "for band in wircam_bands:\n",
    "\n",
    "    # wircam total flux \n",
    "    has_wirds = ~np.isnan(master_catalogue['f_wirds_' + band.rstrip('s')])\n",
    "\n",
    "    has_cosmos = ~np.isnan(master_catalogue['f_cosmos-wircam_' + band])\n",
    "\n",
    "    \n",
    "    use_cosmos = has_cosmos\n",
    "    use_wirds = has_wirds & ~has_cosmos\n",
    "\n",
    "    \n",
    " \n",
    "    f_wircam = np.full(len(master_catalogue), np.nan)\n",
    "    f_wircam[use_cosmos] = master_catalogue['f_cosmos-wircam_' + band][use_cosmos]\n",
    "    f_wircam[use_wirds] = master_catalogue['f_wirds_' + band.rstrip('s').rstrip('s')][use_wirds]\n",
    "\n",
    " \n",
    "\n",
    "    ferr_wircam = np.full(len(master_catalogue), np.nan)\n",
    "    ferr_wircam[use_cosmos] = master_catalogue['ferr_cosmos-wircam_' + band][use_cosmos]\n",
    "    ferr_wircam[use_wirds] = master_catalogue['ferr_wirds_' + band.rstrip('s')][use_wirds]\n",
    "\n",
    "\n",
    "    \n",
    "    m_wircam = np.full(len(master_catalogue), np.nan)\n",
    "    m_wircam[use_cosmos] = master_catalogue['m_cosmos-wircam_' + band][use_cosmos]\n",
    "    m_wircam[use_wirds] = master_catalogue['m_wirds_' + band.rstrip('s')][use_wirds]\n",
    "\n",
    "\n",
    "    merr_wircam = np.full(len(master_catalogue), np.nan)\n",
    "    merr_wircam[use_cosmos] = master_catalogue['merr_cosmos-wircam_' + band][use_cosmos]\n",
    "    merr_wircam[use_wirds] = master_catalogue['merr_wirds_' + band.rstrip('s')][use_wirds]\n",
    "\n",
    "\n",
    "\n",
    "    flag_wircam = np.full(len(master_catalogue), False, dtype=bool)\n",
    "    flag_wircam[use_cosmos] = master_catalogue['flag_cosmos-wircam_' + band][use_cosmos]\n",
    "    flag_wircam[use_wirds] = master_catalogue['flag_wirds_' + band.rstrip('s')][use_wirds]\n",
    "\n",
    "\n",
    "\n",
    "    master_catalogue.add_column(Column(data=f_wircam, name=\"f_wircam_\" + band))\n",
    "    master_catalogue.add_column(Column(data=ferr_wircam, name=\"ferr_wircam_\" + band))\n",
    "    master_catalogue.add_column(Column(data=m_wircam, name=\"m_wircam_\" + band))\n",
    "    master_catalogue.add_column(Column(data=merr_wircam, name=\"merr_wircam_\" + band))\n",
    "    master_catalogue.add_column(Column(data=flag_wircam, name=\"flag_wircam_\" + band))\n",
    "\n",
    "    old_wirds_columns = ['f_wirds_' + band.rstrip('s'),\n",
    "                               'ferr_wirds_' + band.rstrip('s'),\n",
    "                               'm_wirds_' + band.rstrip('s'), \n",
    "                               'merr_wirds_' + band.rstrip('s'),\n",
    "                               'flag_wirds_' + band.rstrip('s')]\n",
    "\n",
    "    old_cosmos_columns = ['f_cosmos-wircam_' + band,\n",
    "                               'ferr_cosmos-wircam_' + band,\n",
    "                               'm_cosmos-wircam_' + band, \n",
    "                               'merr_cosmos-wircam_' + band,\n",
    "                               'flag_cosmos-wircam_' + band]\n",
    "    \n",
    "    old_columns = old_wirds_columns + old_cosmos_columns\n",
    "    master_catalogue.remove_columns(old_columns)\n",
    "\n",
    "    origin = np.full(len(master_catalogue), '     ', dtype='<U5')\n",
    "    origin[use_wirds] = \"CFHT-WIRDS\"\n",
    "    origin[use_cosmos] = \"COSMOS2015\"\n",
    " \n",
    "    \n",
    "    wircam_origin.add_column(Column(data=origin, name= 'f_wircam_' + band ))\n",
    "    \n",
    "  \n",
    "    # wircam aperture flux \n",
    "    has_ap_wirds = ~np.isnan(master_catalogue['f_ap_wirds_' + band.rstrip('s')])\n",
    "    has_ap_cosmos = ~np.isnan(master_catalogue['f_ap_cosmos-wircam_' + band])\n",
    "    \n",
    " \n",
    "    \n",
    "    use_ap_cosmos = has_ap_cosmos\n",
    "    use_ap_wirds = has_ap_wirds & ~has_cosmos\n",
    "\n",
    "  \n",
    "\n",
    "    f_ap_wircam = np.full(len(master_catalogue), np.nan)\n",
    "    f_ap_wircam[use_ap_cosmos] = master_catalogue['f_ap_cosmos-wircam_' + band][use_ap_cosmos]\n",
    "    f_ap_wircam[use_ap_wirds] = master_catalogue['f_ap_wirds_' + band.rstrip('s')][use_ap_wirds]\n",
    "\n",
    "\n",
    "\n",
    "    ferr_ap_wircam = np.full(len(master_catalogue), np.nan)\n",
    "    ferr_ap_wircam[use_ap_cosmos] = master_catalogue['ferr_ap_cosmos-wircam_' + band][use_ap_cosmos]\n",
    "    ferr_ap_wircam[use_ap_wirds] = master_catalogue['ferr_ap_wirds_' + band.rstrip('s')][use_ap_wirds]\n",
    "\n",
    "   \n",
    "    \n",
    "    m_ap_wircam = np.full(len(master_catalogue), np.nan)\n",
    "    m_ap_wircam[use_ap_cosmos] = master_catalogue['m_ap_cosmos-wircam_' + band][use_ap_cosmos]\n",
    "    m_ap_wircam[use_ap_wirds] = master_catalogue['m_ap_wirds_' + band.rstrip('s')][use_ap_wirds]\n",
    "\n",
    "  \n",
    "\n",
    "    merr_ap_wircam = np.full(len(master_catalogue), np.nan)\n",
    "    merr_ap_wircam[use_ap_cosmos] = master_catalogue['merr_ap_cosmos-wircam_' + band][use_ap_cosmos]\n",
    "    merr_ap_wircam[use_ap_wirds] = master_catalogue['merr_ap_wirds_' + band.rstrip('s')][use_ap_wirds]\n",
    "\n",
    "  \n",
    "\n",
    "\n",
    "    master_catalogue.add_column(Column(data=f_ap_wircam, name=\"f_ap_wircam_\" + band))\n",
    "    master_catalogue.add_column(Column(data=ferr_ap_wircam, name=\"ferr_ap_wircam_\" + band))\n",
    "    master_catalogue.add_column(Column(data=m_ap_wircam, name=\"m_ap_wircam_\" + band))\n",
    "    master_catalogue.add_column(Column(data=merr_ap_wircam, name=\"merr_ap_wircam_\" + band))\n",
    "\n",
    "\n",
    "    old_ap_wirds_columns = ['f_ap_wirds_' + band.rstrip('s'),\n",
    "                               'ferr_ap_wirds_' + band.rstrip('s'),\n",
    "                               'm_ap_wirds_' + band.rstrip('s'), \n",
    "                               'merr_ap_wirds_' + band.rstrip('s')]\n",
    "\n",
    "    old_ap_cosmos_columns = ['f_ap_cosmos-wircam_' + band,\n",
    "                               'ferr_ap_cosmos-wircam_' + band,\n",
    "                               'm_ap_cosmos-wircam_' + band, \n",
    "                               'merr_ap_cosmos-wircam_' + band]\n",
    "\n",
    "    \n",
    "    old_ap_columns = old_ap_wirds_columns + old_ap_cosmos_columns\n",
    "    master_catalogue.remove_columns(old_ap_columns)\n",
    "\n",
    "    origin_ap = np.full(len(master_catalogue), '     ', dtype='<U5')\n",
    "    origin_ap[use_ap_wirds] = \"CFHT-WIRDS\"\n",
    "    origin_ap[use_ap_cosmos] = \"COSMOS2015\"\n",
    "\n",
    "    \n",
    "    wircam_origin.add_column(Column(data=origin_ap, name= 'f_ap_wircam_' + band ))\n",
    "\n",
    "   \n",
    "    wircam_stats['CFHT-WIRDS'][wircam_stats['Band'] == band] = np.sum(has_wirds)\n",
    "    wircam_stats['COSMOS2015'][wircam_stats['Band'] == band] = np.sum(has_cosmos)\n",
    "\n",
    "    wircam_stats['use CFHT-WIRDS'][wircam_stats['Band'] == band] = np.sum(use_wirds)\n",
    "    wircam_stats['use COSMOS2015'][wircam_stats['Band'] == band] = np.sum(use_cosmos)\n",
    "\n",
    "    wircam_stats['CFHT-WIRDS ap'][wircam_stats['Band'] == band] = np.sum(has_ap_wirds)\n",
    "    wircam_stats['COSMOS2015 ap'][wircam_stats['Band'] == band] = np.sum(has_ap_cosmos)\n",
    "    \n",
    "    wircam_stats['use CFHT-WIRDS ap'][wircam_stats['Band'] == band] = np.sum(use_ap_wirds)\n",
    "    wircam_stats['use COSMOS2015 ap'][wircam_stats['Band'] == band] = np.sum(use_ap_cosmos)"
   ]
  },
  {
   "cell_type": "code",
   "execution_count": 51,
   "metadata": {
    "collapsed": false,
    "deletable": true,
    "editable": true
   },
   "outputs": [
    {
     "data": {
      "text/html": [
       "<i>Table length=2</i>\n",
       "<table id=\"table140007173182408-171754\" class=\"table-striped table-bordered table-condensed\">\n",
       "<thead><tr><th>idx</th><th>Band</th><th>CFHT-WIRDS</th><th>use CFHT-WIRDS</th><th>CFHT-WIRDS ap</th><th>use CFHT-WIRDS ap</th><th>COSMOS2015</th><th>use COSMOS2015</th><th>COSMOS2015 ap</th><th>use COSMOS2015 ap</th></tr></thead>\n",
       "<tr><td>0</td><td>h</td><td>164175.0</td><td>32620.0</td><td>165228.0</td><td>33198.0</td><td>589027.0</td><td>589027.0</td><td>684053.0</td><td>684053.0</td></tr>\n",
       "<tr><td>1</td><td>ks</td><td>169103.0</td><td>35504.0</td><td>170077.0</td><td>36333.0</td><td>594551.0</td><td>594551.0</td><td>681987.0</td><td>681987.0</td></tr>\n",
       "</table><style>table.dataTable {clear: both; width: auto !important; margin: 0 !important;}\n",
       ".dataTables_info, .dataTables_length, .dataTables_filter, .dataTables_paginate{\n",
       "display: inline-block; margin-right: 1em; }\n",
       ".paginate_button { margin-right: 5px; }\n",
       "</style>\n",
       "<script>\n",
       "\n",
       "var astropy_sort_num = function(a, b) {\n",
       "    var a_num = parseFloat(a);\n",
       "    var b_num = parseFloat(b);\n",
       "\n",
       "    if (isNaN(a_num) && isNaN(b_num))\n",
       "        return ((a < b) ? -1 : ((a > b) ? 1 : 0));\n",
       "    else if (!isNaN(a_num) && !isNaN(b_num))\n",
       "        return ((a_num < b_num) ? -1 : ((a_num > b_num) ? 1 : 0));\n",
       "    else\n",
       "        return isNaN(a_num) ? -1 : 1;\n",
       "}\n",
       "\n",
       "require.config({paths: {\n",
       "    datatables: 'https://cdn.datatables.net/1.10.12/js/jquery.dataTables.min'\n",
       "}});\n",
       "require([\"datatables\"], function(){\n",
       "    console.log(\"$('#table140007173182408-171754').dataTable()\");\n",
       "    \n",
       "jQuery.extend( jQuery.fn.dataTableExt.oSort, {\n",
       "    \"optionalnum-asc\": astropy_sort_num,\n",
       "    \"optionalnum-desc\": function (a,b) { return -astropy_sort_num(a, b); }\n",
       "});\n",
       "\n",
       "    $('#table140007173182408-171754').dataTable({\n",
       "        order: [],\n",
       "        pageLength: 50,\n",
       "        lengthMenu: [[10, 25, 50, 100, 500, 1000, -1], [10, 25, 50, 100, 500, 1000, 'All']],\n",
       "        pagingType: \"full_numbers\",\n",
       "        columnDefs: [{targets: [0, 2, 3, 4, 5, 6, 7, 8, 9], type: \"optionalnum\"}]\n",
       "    });\n",
       "});\n",
       "</script>\n"
      ],
      "text/plain": [
       "<IPython.core.display.HTML object>"
      ]
     },
     "execution_count": 51,
     "metadata": {},
     "output_type": "execute_result"
    }
   ],
   "source": [
    "wircam_stats.show_in_notebook()"
   ]
  },
  {
   "cell_type": "code",
   "execution_count": 52,
   "metadata": {
    "collapsed": true,
    "deletable": true,
    "editable": true
   },
   "outputs": [],
   "source": [
    "wircam_origin.write(\"{}/cosmos_wircam_fluxes_origins{}.fits\".format(OUT_DIR, SUFFIX), overwrite=True)"
   ]
  },
  {
   "cell_type": "markdown",
   "metadata": {
    "deletable": true,
    "editable": true
   },
   "source": [
    "## Final renaming\n",
    "\n",
    "We rename some columns in line with HELP filter naming standards"
   ]
  },
  {
   "cell_type": "code",
   "execution_count": 53,
   "metadata": {
    "collapsed": true,
    "deletable": true,
    "editable": true
   },
   "outputs": [],
   "source": [
    "renaming = OrderedDict({\n",
    "    '_wirds_j':'_wircam_j',\n",
    "    #'_wirds_h': '_wircam_h', #These two now merged with COSMOS\n",
    "    #'_wirds_k': '_wircam_ks',\n",
    "    '_kids_': '_omegacam_',\n",
    "    '_cosmos-suprime_': '_suprime_',\n",
    "    '_cosmos-vista_':'_vista_',\n",
    "    '_cosmos-irac_':'_irac_',\n",
    "    '_candels_f140w':'_wfc3_f140w',\n",
    "    '_candels_f160w':'_wfc3_f160w',\n",
    "    '_candels_f125w':'_wfc3_f125w',\n",
    "    '_candels_f606w': '_acs_f606w',\n",
    "    '_candels_f814w':'_acs_f814w',\n",
    "})\n",
    "\n",
    "\n",
    "for col in master_catalogue.colnames:\n",
    "    for rename_col in list(renaming):\n",
    "        if rename_col in col:\n",
    "            master_catalogue.rename_column(col, col.replace(rename_col, renaming[rename_col]))      "
   ]
  },
  {
   "cell_type": "markdown",
   "metadata": {
    "deletable": true,
    "editable": true
   },
   "source": [
    "## VII.a Wavelength domain coverage\n",
    "\n",
    "We add a binary `flag_optnir_obs` indicating that a source was observed in a given wavelength domain:\n",
    "\n",
    "- 1 for observation in optical;\n",
    "- 2 for observation in near-infrared;\n",
    "- 4 for observation in mid-infrared (IRAC).\n",
    "\n",
    "It's an integer binary flag, so a source observed both in optical and near-infrared by not in mid-infrared would have this flag at 1 + 2 = 3.\n",
    "\n",
    "*Note 1: The observation flag is based on the creation of multi-order coverage maps from the catalogues, this may not be accurate, especially on the edges of the coverage.*\n",
    "\n",
    "*Note 2: Being on the observation coverage does not mean having fluxes in that wavelength domain. For sources observed in one domain but having no flux in it, one must take into consideration de different depths in the catalogue we are using.*"
   ]
  },
  {
   "cell_type": "code",
   "execution_count": 54,
   "metadata": {
    "collapsed": true,
    "deletable": true,
    "editable": true
   },
   "outputs": [],
   "source": [
    "candels_moc = MOC(filename=\"../../dmu0/dmu0_CANDELS-3D-HST/data/CANDELS-3D-HST_COSMOS_MOC.fits\")\n",
    "cfhtls_moc = MOC(filename=\"../../dmu0/dmu0_CFHTLS/data/CFHTLS-DEEP_COSMOS_MOC.fits\")\n",
    "decals_moc = MOC(filename=\"../../dmu0/dmu0_DECaLS/data/DECaLS_COSMOS_MOC.fits\")\n",
    "hsc_udeep_moc = MOC(filename=\"../../dmu0/dmu0_HSC/data/HSC-PDR1_deep_COSMOS_MOC.fits\")\n",
    "hsc_deep_moc = MOC(filename=\"../../dmu0/dmu0_HSC/data/HSC-PDR1_uDeep_COSMOS_MOC.fits\")\n",
    "kids_moc = MOC(filename=\"../../dmu0/dmu0_KIDS/data/KIDS-DR3_COSMOS_MOC.fits\")\n",
    "ps1_moc = MOC(filename=\"../../dmu0/dmu0_PanSTARRS1-3SS/data/PanSTARRS1-3SS_COSMOS_MOC.fits\")\n",
    "las_moc = MOC(filename=\"../../dmu0/dmu0_UKIDSS-LAS/data/UKIDSS-LAS_COSMOS_MOC.fits\")\n",
    "wirds_moc = MOC(filename=\"../../dmu0/dmu0_CFHT-WIRDS/data/COSMOS_Ks-priors_MOC.fits\")\n",
    "\n"
   ]
  },
  {
   "cell_type": "code",
   "execution_count": 55,
   "metadata": {
    "collapsed": true,
    "deletable": true,
    "editable": true
   },
   "outputs": [],
   "source": [
    "was_observed_optical = inMoc(\n",
    "    master_catalogue['ra'], master_catalogue['dec'],\n",
    "    candels_moc + \n",
    "    cfhtls_moc + \n",
    "    decals_moc + \n",
    "    hsc_udeep_moc + \n",
    "    hsc_deep_moc + \n",
    "    kids_moc +\n",
    "    ps1_moc) \n",
    "\n",
    "was_observed_nir = inMoc(\n",
    "    master_catalogue['ra'], master_catalogue['dec'],\n",
    "    las_moc + wirds_moc\n",
    ")\n",
    "\n",
    "was_observed_mir = np.zeros(len(master_catalogue), dtype=bool)\n",
    "\n",
    "#was_observed_mir = inMoc(\n",
    "#    master_catalogue['ra'], master_catalogue['dec'],   \n",
    "#)"
   ]
  },
  {
   "cell_type": "code",
   "execution_count": 56,
   "metadata": {
    "collapsed": true,
    "deletable": true,
    "editable": true
   },
   "outputs": [],
   "source": [
    "master_catalogue.add_column(\n",
    "    Column(\n",
    "        1 * was_observed_optical + 2 * was_observed_nir + 4 * was_observed_mir,\n",
    "        name=\"flag_optnir_obs\")\n",
    ")"
   ]
  },
  {
   "cell_type": "markdown",
   "metadata": {
    "deletable": true,
    "editable": true
   },
   "source": [
    "## VII.b Wavelength domain detection\n",
    "\n",
    "We add a binary `flag_optnir_det` indicating that a source was detected in a given wavelength domain:\n",
    "\n",
    "- 1 for detection in optical;\n",
    "- 2 for detection in near-infrared;\n",
    "- 4 for detection in mid-infrared (IRAC).\n",
    "\n",
    "It's an integer binary flag, so a source detected both in optical and near-infrared by not in mid-infrared would have this flag at 1 + 2 = 3.\n",
    "\n",
    "*Note 1: We use the total flux columns to know if the source has flux, in some catalogues, we may have aperture flux and no total flux.*\n",
    "\n",
    "To get rid of artefacts (chip edges, star flares, etc.) we consider that a source is detected in one wavelength domain when it has a flux value in **at least two bands**. That means that good sources will be excluded from this flag when they are on the coverage of only one band."
   ]
  },
  {
   "cell_type": "code",
   "execution_count": 57,
   "metadata": {
    "collapsed": true,
    "deletable": true,
    "editable": true
   },
   "outputs": [],
   "source": [
    "nb_optical_flux = (\n",
    "    1 * ~np.isnan(master_catalogue['f_megacam_u']) +\n",
    "    1 * ~np.isnan(master_catalogue['f_megacam_g']) +\n",
    "    1 * ~np.isnan(master_catalogue['f_megacam_r']) +\n",
    "    1 * ~np.isnan(master_catalogue['f_megacam_i']) +\n",
    "    1 * ~np.isnan(master_catalogue['f_megacam_z']) +\n",
    "    \n",
    "    1 * ~np.isnan(master_catalogue['f_suprime_g']) +\n",
    "    1 * ~np.isnan(master_catalogue['f_suprime_r']) +\n",
    "    1 * ~np.isnan(master_catalogue['f_suprime_i']) +\n",
    "    1 * ~np.isnan(master_catalogue['f_suprime_z']) +\n",
    "    1 * ~np.isnan(master_catalogue['f_suprime_y']) +\n",
    "    1 * ~np.isnan(master_catalogue['f_suprime_n921']) +\n",
    "    \n",
    "    1 * ~np.isnan(master_catalogue['f_gpc1_g']) +\n",
    "    1 * ~np.isnan(master_catalogue['f_gpc1_r']) +\n",
    "    1 * ~np.isnan(master_catalogue['f_gpc1_i']) +\n",
    "    1 * ~np.isnan(master_catalogue['f_gpc1_z']) +\n",
    "    1 * ~np.isnan(master_catalogue['f_gpc1_y']) +\n",
    "    \n",
    "    1 * ~np.isnan(master_catalogue['f_decam_g']) +\n",
    "    1 * ~np.isnan(master_catalogue['f_decam_r']) +\n",
    "    1 * ~np.isnan(master_catalogue['f_decam_z']) +\n",
    "    \n",
    "    1 * ~np.isnan(master_catalogue['f_omegacam_u']) +\n",
    "    1 * ~np.isnan(master_catalogue['f_omegacam_g']) +\n",
    "    1 * ~np.isnan(master_catalogue['f_omegacam_r']) +\n",
    "    1 * ~np.isnan(master_catalogue['f_omegacam_i']) \n",
    ")\n",
    "\n",
    "nb_nir_flux = (\n",
    "    \n",
    "    1 * ~np.isnan(master_catalogue['f_vista_j']) +\n",
    "    1 * ~np.isnan(master_catalogue['f_vista_h']) +\n",
    "    1 * ~np.isnan(master_catalogue['f_vista_ks']) +\n",
    "    \n",
    "    1 * ~np.isnan(master_catalogue['f_wircam_j']) +\n",
    "    1 * ~np.isnan(master_catalogue['f_wircam_h']) +\n",
    "    1 * ~np.isnan(master_catalogue['f_wircam_ks']) +\n",
    "    \n",
    "    1 * ~np.isnan(master_catalogue['f_ukidss_y']) +\n",
    "    1 * ~np.isnan(master_catalogue['f_ukidss_j']) +\n",
    "    1 * ~np.isnan(master_catalogue['f_ukidss_h']) +\n",
    "    1 * ~np.isnan(master_catalogue['f_ukidss_k'])\n",
    ")\n",
    "\n",
    "nb_mir_flux = np.zeros(len(master_catalogue), dtype=bool)"
   ]
  },
  {
   "cell_type": "code",
   "execution_count": 58,
   "metadata": {
    "collapsed": true,
    "deletable": true,
    "editable": true
   },
   "outputs": [],
   "source": [
    "has_optical_flux = nb_optical_flux >= 2\n",
    "has_nir_flux = nb_nir_flux >= 2\n",
    "has_mir_flux = nb_mir_flux >= 2\n",
    "\n",
    "master_catalogue.add_column(\n",
    "    Column(\n",
    "        1 * has_optical_flux + 2 * has_nir_flux + 4 * has_mir_flux,\n",
    "        name=\"flag_optnir_det\")\n",
    ")"
   ]
  },
  {
   "cell_type": "markdown",
   "metadata": {
    "deletable": true,
    "editable": true
   },
   "source": [
    "## VIII - Cross-identification table\n",
    "\n",
    "We are producing a table associating to each HELP identifier, the identifiers of the sources in the pristine catalogue. This can be used to easily get additional information from them."
   ]
  },
  {
   "cell_type": "code",
   "execution_count": 59,
   "metadata": {
    "collapsed": true,
    "deletable": true,
    "editable": true
   },
   "outputs": [
    {
     "name": "stdout",
     "output_type": "stream",
     "text": [
      "64 master list rows had multiple associations.\n"
     ]
    }
   ],
   "source": [
    "\n",
    "#\n",
    "# Addind SDSS ids\n",
    "#\n",
    "sdss = Table.read(\"../../dmu0/dmu0_SDSS-DR13/data/SDSS-DR13_COSMOS.fits\")['objID', 'ra', 'dec']\n",
    "sdss_coords = SkyCoord(sdss['ra'] * u.deg, sdss['dec'] * u.deg)\n",
    "idx_ml, d2d, _ = sdss_coords.match_to_catalog_sky(SkyCoord(master_catalogue['ra'], master_catalogue['dec']))\n",
    "idx_sdss = np.arange(len(sdss))\n",
    "\n",
    "# Limit the cross-match to 1 arcsec\n",
    "mask = d2d <= 1. * u.arcsec\n",
    "idx_ml = idx_ml[mask]\n",
    "idx_sdss = idx_sdss[mask]\n",
    "d2d = d2d[mask]\n",
    "nb_orig_matches = len(idx_ml)\n",
    "\n",
    "# In case of multiple associations of one master list object to an SDSS object, we keep only the\n",
    "# association to the nearest one.\n",
    "sort_idx = np.argsort(d2d)\n",
    "idx_ml = idx_ml[sort_idx]\n",
    "idx_sdss = idx_sdss[sort_idx]\n",
    "_, unique_idx = np.unique(idx_ml, return_index=True)\n",
    "idx_ml = idx_ml[unique_idx]\n",
    "idx_sdss = idx_sdss[unique_idx]\n",
    "print(\"{} master list rows had multiple associations.\".format(nb_orig_matches - len(idx_ml)))\n",
    "\n",
    "# Adding the ObjID to the master list\n",
    "master_catalogue.add_column(Column(data=np.full(len(master_catalogue), -1, dtype='>i8'), name=\"sdss_id\"))\n",
    "master_catalogue['sdss_id'][idx_ml] = sdss['objID'][idx_sdss]"
   ]
  },
  {
   "cell_type": "code",
   "execution_count": 60,
   "metadata": {
    "collapsed": true,
    "deletable": true,
    "editable": true
   },
   "outputs": [
    {
     "name": "stdout",
     "output_type": "stream",
     "text": [
      "['help_id', 'cosmos_id', 'candels_id', 'cfhtls_id', 'decals_id', 'hsc-udeep_id', 'hsc-deep_id', 'kids_id', 'las_id', 'wirds_id', 'ps1_id', 'specz_id', 'sdss_id']\n"
     ]
    }
   ],
   "source": [
    "id_names = []\n",
    "for col in master_catalogue.colnames:\n",
    "    if '_id' in col:\n",
    "        id_names += [col]\n",
    "    if '_intid' in col:\n",
    "        id_names += [col]\n",
    "        \n",
    "print(id_names)"
   ]
  },
  {
   "cell_type": "code",
   "execution_count": 61,
   "metadata": {
    "collapsed": true,
    "deletable": true,
    "editable": true
   },
   "outputs": [],
   "source": [
    "master_catalogue[id_names].write(\n",
    "    \"{}/master_list_cross_ident_cosmos{}.fits\".format(OUT_DIR, SUFFIX), overwrite=True)\n",
    "id_names.remove('help_id', 'old_help_id')\n",
    "master_catalogue.remove_columns(id_names)"
   ]
  },
  {
   "cell_type": "markdown",
   "metadata": {
    "deletable": true,
    "editable": true
   },
   "source": [
    "## IX - Adding HEALPix index\n",
    "\n",
    "We are adding a column with a HEALPix index at order 13 associated with each source."
   ]
  },
  {
   "cell_type": "code",
   "execution_count": 62,
   "metadata": {
    "collapsed": true,
    "deletable": true,
    "editable": true
   },
   "outputs": [],
   "source": [
    "master_catalogue.add_column(Column(\n",
    "    data=coords_to_hpidx(master_catalogue['ra'], master_catalogue['dec'], order=13),\n",
    "    name=\"hp_idx\"\n",
    "))"
   ]
  },
  {
   "cell_type": "markdown",
   "metadata": {
    "deletable": true,
    "editable": true
   },
   "source": [
    "## IX - Saving the catalogue"
   ]
  },
  {
   "cell_type": "code",
   "execution_count": 63,
   "metadata": {
    "collapsed": true,
    "deletable": true,
    "editable": true
   },
   "outputs": [],
   "source": [
    "columns = [\"help_id\", \"old_help_id\", \"field\", \"ra\", \"dec\", \"hp_idx\"]\n",
    "\n",
    "bands = [column[5:] for column in master_catalogue.colnames if 'f_ap' in column]\n",
    "for band in bands:\n",
    "    columns += [\"f_ap_{}\".format(band), \"ferr_ap_{}\".format(band),\n",
    "                \"m_ap_{}\".format(band), \"merr_ap_{}\".format(band),\n",
    "                \"f_{}\".format(band), \"ferr_{}\".format(band),\n",
    "                \"m_{}\".format(band), \"merr_{}\".format(band),\n",
    "                \"flag_{}\".format(band)]    \n",
    "    \n",
    "# columns += ['f_wfc3_f125w', 'ferr_wfc3_f125w', 'm_wfc3_f125w', 'merr_wfc3_f125w', 'flag_wfc3_f125w',\n",
    "#            'f_acs_f606w', 'ferr_acs_f606w', 'm_acs_f606w', 'merr_acs_f606w', 'flag_acs_f606w',\n",
    "#            'f_acs_f814w', 'ferr_acs_f814w', 'm_acs_f814w', 'merr_acs_f814w', 'flag_acs_f814w'\n",
    "#           ]\n",
    "\n",
    "for tot_band in ['wfc3_f125w', 'acs_f606w', 'acs_f814w', 'irac_i1', 'irac_i2', 'irac_i3', 'irac_i4']:\n",
    "    columns += ['f_' + tot_band,'ferr_' + tot_band,'m_' + tot_band,'merr_' + tot_band,'flag_' + tot_band,]\n",
    "    \n",
    "columns += [\"stellarity\", \"stellarity_origin\", \"flag_cleaned\", \n",
    "            \"flag_merged\", \"flag_gaia\", \"flag_optnir_obs\", \"flag_optnir_det\", \"ebv\",'zspec_association_flag', 'zspec_qual', 'zspec']"
   ]
  },
  {
   "cell_type": "code",
   "execution_count": 64,
   "metadata": {
    "collapsed": false,
    "deletable": true,
    "editable": true
   },
   "outputs": [
    {
     "name": "stdout",
     "output_type": "stream",
     "text": [
      "Missing columns: set()\n"
     ]
    }
   ],
   "source": [
    "# We check for columns in the master catalogue that we will not save to disk.\n",
    "print(\"Missing columns: {}\".format(set(master_catalogue.colnames) - set(columns)))"
   ]
  },
  {
   "cell_type": "code",
   "execution_count": 65,
   "metadata": {
    "collapsed": true,
    "deletable": true,
    "editable": true
   },
   "outputs": [],
   "source": [
    "master_catalogue[columns].write(\"{}/master_catalogue_cosmos{}.fits\".format(OUT_DIR, SUFFIX), overwrite = True)"
   ]
  }
 ],
 "metadata": {
  "kernelspec": {
   "display_name": "Python (herschelhelp_internal)",
   "language": "python",
   "name": "helpint"
  },
  "language_info": {
   "codemirror_mode": {
    "name": "ipython",
    "version": 3
   },
   "file_extension": ".py",
   "mimetype": "text/x-python",
   "name": "python",
   "nbconvert_exporter": "python",
   "pygments_lexer": "ipython3",
   "version": "3.6.4"
  }
 },
 "nbformat": 4,
 "nbformat_minor": 2
}
