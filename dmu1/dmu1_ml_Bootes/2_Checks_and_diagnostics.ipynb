{
 "cells": [
  {
   "cell_type": "markdown",
   "metadata": {
    "collapsed": true
   },
   "source": [
    "# Bootes master catalogue\n",
    "## Checks and diagnostics"
   ]
  },
  {
   "cell_type": "code",
   "execution_count": 1,
   "metadata": {},
   "outputs": [
    {
     "name": "stdout",
     "output_type": "stream",
     "text": [
      "This notebook was run with herschelhelp_internal version: \n",
      "04829ed (Thu Nov 2 16:57:19 2017 +0000) [with local modifications]\n"
     ]
    }
   ],
   "source": [
    "from herschelhelp_internal import git_version\n",
    "print(\"This notebook was run with herschelhelp_internal version: \\n{}\".format(git_version()))"
   ]
  },
  {
   "cell_type": "code",
   "execution_count": 2,
   "metadata": {},
   "outputs": [
    {
     "name": "stderr",
     "output_type": "stream",
     "text": [
      "/Users/rs548/anaconda/envs/herschelhelp_internal/lib/python3.6/site-packages/seaborn/apionly.py:6: UserWarning: As seaborn no longer sets a default style on import, the seaborn.apionly module is deprecated. It will be removed in a future version.\n",
      "  warnings.warn(msg, UserWarning)\n"
     ]
    }
   ],
   "source": [
    "%matplotlib inline\n",
    "#%config InlineBackend.figure_format = 'svg'\n",
    "\n",
    "import matplotlib.pyplot as plt\n",
    "plt.rc('figure', figsize=(10, 6))\n",
    "plt.style.use('ggplot')\n",
    "\n",
    "import locale\n",
    "locale.setlocale(locale.LC_ALL, 'en_GB')\n",
    "\n",
    "import os\n",
    "import time\n",
    "import itertools\n",
    "\n",
    "from astropy.coordinates import SkyCoord\n",
    "from astropy.table import Table\n",
    "from astropy import units as u\n",
    "from astropy import visualization as vis\n",
    "import numpy as np\n",
    "from matplotlib_venn import venn3\n",
    "\n",
    "from herschelhelp_internal.masterlist import nb_compare_mags, nb_ccplots, nb_histograms, find_last_ml_suffix"
   ]
  },
  {
   "cell_type": "code",
   "execution_count": 4,
   "metadata": {},
   "outputs": [
    {
     "name": "stdout",
     "output_type": "stream",
     "text": [
      "Diagnostics done using: master_catalogue_bootes_20171121.fits\n"
     ]
    }
   ],
   "source": [
    "OUT_DIR = os.environ.get('OUT_DIR', \"./data\")\n",
    "SUFFIX = find_last_ml_suffix()\n",
    "#SUFFIX = \"20171016\"\n",
    "\n",
    "master_catalogue_filename = \"master_catalogue_bootes_{}.fits\".format(SUFFIX)\n",
    "master_catalogue = Table.read(\"{}/{}\".format(OUT_DIR, master_catalogue_filename))\n",
    "\n",
    "print(\"Diagnostics done using: {}\".format(master_catalogue_filename))"
   ]
  },
  {
   "cell_type": "markdown",
   "metadata": {},
   "source": [
    "## I - Summary of wavelength domains"
   ]
  },
  {
   "cell_type": "code",
   "execution_count": null,
   "metadata": {
    "collapsed": true
   },
   "outputs": [],
   "source": [
    "flag_obs = master_catalogue['flag_optnir_obs']\n",
    "flag_det = master_catalogue['flag_optnir_det']"
   ]
  },
  {
   "cell_type": "code",
   "execution_count": null,
   "metadata": {},
   "outputs": [],
   "source": [
    "venn3(\n",
    "    [\n",
    "        np.sum(flag_obs == 4),\n",
    "        np.sum(flag_obs == 2),\n",
    "        np.sum(flag_obs == 6),\n",
    "        np.sum(flag_obs == 1),\n",
    "        np.sum(flag_obs == 5),\n",
    "        np.sum(flag_obs == 3),\n",
    "        np.sum(flag_obs == 7)\n",
    "    ],\n",
    "    set_labels=('Optical', 'near-IR', 'mid-IR'),\n",
    "    subset_label_formatter=lambda x: \"{}%\".format(int(100*x/len(flag_obs)))\n",
    ")\n",
    "plt.title(\"Wavelength domain observations\");"
   ]
  },
  {
   "cell_type": "code",
   "execution_count": null,
   "metadata": {},
   "outputs": [],
   "source": [
    "venn3(\n",
    "    [\n",
    "        np.sum(flag_det[flag_obs == 7] == 4),\n",
    "        np.sum(flag_det[flag_obs == 7] == 2),\n",
    "        np.sum(flag_det[flag_obs == 7] == 6),\n",
    "        np.sum(flag_det[flag_obs == 7] == 1),\n",
    "        np.sum(flag_det[flag_obs == 7] == 5),\n",
    "        np.sum(flag_det[flag_obs == 7] == 3),\n",
    "        np.sum(flag_det[flag_obs == 7] == 7)\n",
    "    ],\n",
    "    set_labels=('mid-IR', 'near-IR', 'Optical'),\n",
    "    subset_label_formatter=lambda x: \"{}%\".format(int(100*x/np.sum(flag_det != 0)))\n",
    ")\n",
    "plt.title(\"Detection of the {} sources detected\\n in any wavelength domains \"\n",
    "          \"(among {} sources)\".format(\n",
    "              locale.format('%d', np.sum(flag_det != 0), grouping=True),\n",
    "              locale.format('%d', len(flag_det), grouping=True)));"
   ]
  },
  {
   "cell_type": "markdown",
   "metadata": {},
   "source": [
    "## II - Comparing magnitudes in similar filters\n",
    "\n",
    "The master list if composed of several catalogues containing magnitudes in similar filters on different instruments. We are comparing the magnitudes in these corresponding filters."
   ]
  },
  {
   "cell_type": "code",
   "execution_count": null,
   "metadata": {
    "collapsed": true
   },
   "outputs": [],
   "source": [
    "u_bands = [\"WFC u\", \"Megacam u\"]\n",
    "g_bands = [\"WFC g\", \"Megacam g\", \"SUPRIME g\", \"GPC1 g\"]\n",
    "r_bands = [\"WFC r\", \"Megacam r\", \"SUPRIME r\", \"GPC1 r\"]\n",
    "i_bands = [\"WFC i\", \"SUPRIME i\", \"GPC1 i\"]\n",
    "z_bands = [\"WFC z\", \"Megacam z\", \"SUPRIME z\", \"GPC1 z\"]\n",
    "y_bands = [\"SUPRIME y\", \"GPC1 y\"]"
   ]
  },
  {
   "cell_type": "markdown",
   "metadata": {},
   "source": [
    "### II.a - Comparing depths\n",
    "\n",
    "We compare the histograms of the total aperture magnitudes of similar bands."
   ]
  },
  {
   "cell_type": "code",
   "execution_count": null,
   "metadata": {
    "scrolled": false
   },
   "outputs": [],
   "source": [
    "for bands in [u_bands, g_bands, r_bands, i_bands, z_bands, y_bands]:\n",
    "    colnames = [\"m_{}\".format(band.replace(\" \", \"_\").lower()) for band in bands]\n",
    "    nb_histograms(master_catalogue, colnames, bands)"
   ]
  },
  {
   "cell_type": "markdown",
   "metadata": {},
   "source": [
    "### II.b - Comparing magnitudes\n",
    "\n",
    "We compare one to one each magnitude in similar bands."
   ]
  },
  {
   "cell_type": "code",
   "execution_count": null,
   "metadata": {
    "scrolled": false
   },
   "outputs": [],
   "source": [
    "for band_of_a_kind in [u_bands, g_bands, r_bands, i_bands, z_bands, y_bands]:\n",
    "    for band1, band2 in itertools.combinations(band_of_a_kind, 2):\n",
    "        \n",
    "        basecol1, basecol2 = band1.replace(\" \", \"_\").lower(), band2.replace(\" \", \"_\").lower()\n",
    "        \n",
    "        col1, col2 = \"m_ap_{}\".format(basecol1), \"m_ap_{}\".format(basecol2)\n",
    "        nb_compare_mags(master_catalogue[col1], master_catalogue[col2], \n",
    "                        labels=(\"{} (aperture)\".format(band1), \"{} (aperture)\".format(band2)))\n",
    "        \n",
    "        col1, col2 = \"m_{}\".format(basecol1), \"m_{}\".format(basecol2)\n",
    "        nb_compare_mags(master_catalogue[col1], master_catalogue[col2], \n",
    "                        labels=(\"{} (total)\".format(band1), \"{} (total)\".format(band2)))"
   ]
  },
  {
   "cell_type": "markdown",
   "metadata": {},
   "source": [
    "## III - Comparing magnitudes to reference bands\n",
    "\n",
    "Cross-match the master list to SDSS and 2MASS to compare its magnitudes to SDSS and 2MASS ones."
   ]
  },
  {
   "cell_type": "code",
   "execution_count": null,
   "metadata": {
    "collapsed": true
   },
   "outputs": [],
   "source": [
    "master_catalogue_coords = SkyCoord(master_catalogue['ra'], master_catalogue['dec'])"
   ]
  },
  {
   "cell_type": "markdown",
   "metadata": {},
   "source": [
    "### III.a - Comparing u, g, r, i, and z bands to SDSS\n",
    "\n",
    "The catalogue is cross-matched to SDSS-DR13 withing 0.2 arcsecond. \n",
    "\n",
    "We compare the u, g, r, i, and z magnitudes to those from SDSS using `fiberMag` for the aperture magnitude and `petroMag`  for the total magnitude."
   ]
  },
  {
   "cell_type": "code",
   "execution_count": null,
   "metadata": {
    "collapsed": true
   },
   "outputs": [],
   "source": [
    "sdss = Table.read(\"../../dmu0/dmu0_SDSS-DR13/data/SDSS-DR13_ELAIS-N1.fits\")\n",
    "sdss_coords = SkyCoord(sdss['ra'] * u.deg, sdss['dec'] * u.deg)\n",
    "\n",
    "idx, d2d, _ = sdss_coords.match_to_catalog_sky(master_catalogue_coords)\n",
    "mask = (d2d < 0.2 * u.arcsec)\n",
    "\n",
    "sdss = sdss[mask]\n",
    "ml_sdss_idx = idx[mask]"
   ]
  },
  {
   "cell_type": "code",
   "execution_count": null,
   "metadata": {
    "scrolled": false
   },
   "outputs": [],
   "source": [
    "for band_of_a_kind in [u_bands, g_bands, r_bands, i_bands, z_bands]:\n",
    "    for band in band_of_a_kind:\n",
    "        \n",
    "        sdss_mag_ap = sdss[\"fiberMag_{}\".format(band[-1])]\n",
    "        master_cat_mag_ap = master_catalogue[\"m_ap_{}\".format(band.replace(\" \", \"_\").lower())][ml_sdss_idx]\n",
    "    \n",
    "        nb_compare_mags(sdss_mag_ap, master_cat_mag_ap,\n",
    "                        labels=(\"SDSS {} (fiberMag)\".format(band[-1]), \"{} (aperture)\".format(band)))\n",
    "    \n",
    "        sdss_mag_tot = sdss[\"petroMag_{}\".format(band[-1])]\n",
    "        master_cat_mag_tot = master_catalogue[\"m_ap_{}\".format(band.replace(\" \", \"_\").lower())][ml_sdss_idx]\n",
    "        \n",
    "        nb_compare_mags(sdss_mag_ap, master_cat_mag_ap,\n",
    "                        labels=(\"SDSS {} (petroMag)\".format(band[-1]), \"{} (total)\".format(band)))"
   ]
  },
  {
   "cell_type": "markdown",
   "metadata": {},
   "source": [
    "### III.b - Comparing J and K bands to 2MASS\n",
    "\n",
    "The catalogue is cross-matched to 2MASS-PSC withing 0.2 arcsecond. We compare the UKIDSS total J and K magnitudes to those from 2MASS.\n",
    "\n",
    "The 2MASS magnitudes are “*Vega-like*” and we have to convert them to AB magnitudes using the zero points provided on [this page](http://www.ipac.caltech.edu/2mass/releases/allsky/doc/sec6_4a.html):\n",
    "\n",
    "| Band | Fν - 0 mag (Jy) |\n",
    "|------|-----------------|\n",
    "| J    | 1594            |\n",
    "| H    | 1024            |\n",
    "| Ks   | 666.7           |\n",
    "\n",
    "In addition, UKIDSS uses a K band whereas 2MASS uses a Ks (“short”) band, [this page](http://www.ipac.caltech.edu/2mass/releases/allsky/doc/sec6_4b.html) give a correction to convert the K band in a Ks band with the formula:\n",
    "\n",
    "$$K_{s(2MASS)} = K_{UKIRT} + 0.003 + 0.004 * (J−K)_{UKIRT}$$"
   ]
  },
  {
   "cell_type": "code",
   "execution_count": null,
   "metadata": {
    "collapsed": true
   },
   "outputs": [],
   "source": [
    "# The AB zero point is 3631 Jy\n",
    "j_2mass_to_ab = 2.5 * np.log10(3631/1595)\n",
    "k_2mass_to_ab = 2.5 * np.log10(3631/666.7)"
   ]
  },
  {
   "cell_type": "code",
   "execution_count": null,
   "metadata": {
    "collapsed": true
   },
   "outputs": [],
   "source": [
    "twomass = Table.read(\"../../dmu0/dmu0_2MASS-point-sources/data/2MASS-PSC_ELAIS-N1.fits\")\n",
    "twomass_coords = SkyCoord(twomass['raj2000'], twomass['dej2000'])\n",
    "\n",
    "idx, d2d, _ = twomass_coords.match_to_catalog_sky(master_catalogue_coords)\n",
    "mask = (d2d < 0.2 * u.arcsec)\n",
    "\n",
    "twomass = twomass[mask]\n",
    "ml_twomass_idx = idx[mask]"
   ]
  },
  {
   "cell_type": "code",
   "execution_count": null,
   "metadata": {},
   "outputs": [],
   "source": [
    "nb_compare_mags(twomass['jmag'] + j_2mass_to_ab, master_catalogue['m_ukidss_j'][ml_twomass_idx],\n",
    "                labels=(\"2MASS J\", \"UKIDSS J (total)\"))"
   ]
  },
  {
   "cell_type": "code",
   "execution_count": null,
   "metadata": {},
   "outputs": [],
   "source": [
    "ukidss_ks_like = master_catalogue['m_ukidss_k'] + 0.003 + 0.004 * (\n",
    "    master_catalogue['m_ukidss_j'] - master_catalogue['m_ukidss_k'])\n",
    "nb_compare_mags(twomass['kmag'] + k_2mass_to_ab, ukidss_ks_like[ml_twomass_idx],\n",
    "                labels=(\"2MASS Ks\", \"UKIDSS Ks-like (total)\"))"
   ]
  },
  {
   "cell_type": "markdown",
   "metadata": {},
   "source": [
    "## Keeping only sources with good signal to noise ratio\n",
    "\n",
    "From here, we are only comparing sources with a signal to noise ratio above 3, i.e. roughly we a magnitude error below 0.3.\n",
    "\n",
    "*To make it easier, we are setting to NaN in the catalogue the magnitudes associated with an error above 0.3 so we can't use these magnitudes after the next cell.*"
   ]
  },
  {
   "cell_type": "code",
   "execution_count": null,
   "metadata": {
    "collapsed": true
   },
   "outputs": [],
   "source": [
    "for error_column in [_ for _ in master_catalogue.colnames if _.startswith('merr_')]:\n",
    "    column = error_column.replace(\"merr\", \"m\")\n",
    "    keep_mask = np.isfinite(master_catalogue[error_column])\n",
    "    keep_mask[keep_mask] &= master_catalogue[keep_mask][error_column] <= 0.3\n",
    "    master_catalogue[column][~keep_mask] = np.nan"
   ]
  },
  {
   "cell_type": "markdown",
   "metadata": {
    "collapsed": true
   },
   "source": [
    "## IV - Comparing aperture magnitudes to total ones."
   ]
  },
  {
   "cell_type": "code",
   "execution_count": null,
   "metadata": {},
   "outputs": [],
   "source": [
    "nb_ccplots(\n",
    "    master_catalogue['m_megacam_r'],\n",
    "    master_catalogue['m_ap_megacam_r'] - master_catalogue['m_megacam_r'],\n",
    "    \"r total magnitude (CFHT)\", \"r aperture mag - total mag (CFHT)\",\n",
    "    master_catalogue[\"stellarity\"],\n",
    "    invert_x=True\n",
    ")"
   ]
  },
  {
   "cell_type": "markdown",
   "metadata": {
    "collapsed": true
   },
   "source": [
    "## V - Color-color and magnitude-color plots"
   ]
  },
  {
   "cell_type": "code",
   "execution_count": null,
   "metadata": {
    "scrolled": false
   },
   "outputs": [],
   "source": [
    "nb_ccplots(\n",
    "    master_catalogue['m_wfc_g'] - master_catalogue['m_wfc_i'],\n",
    "    master_catalogue['m_ukidss_j'] - master_catalogue['m_ukidss_k'],\n",
    "    \"g - i (WFC)\", \"J - K (UKIDSS)\",\n",
    "    master_catalogue[\"stellarity\"]\n",
    ")"
   ]
  },
  {
   "cell_type": "code",
   "execution_count": null,
   "metadata": {},
   "outputs": [],
   "source": [
    "nb_ccplots(\n",
    "    master_catalogue['m_wfc_i'] - master_catalogue['m_irac_i1'],\n",
    "    master_catalogue['m_wfc_g'] - master_catalogue['m_wfc_i'],\n",
    "    \"WFC i - IRAC1\", \"g - i (WFC)\",\n",
    "    master_catalogue[\"stellarity\"]\n",
    ")"
   ]
  },
  {
   "cell_type": "code",
   "execution_count": null,
   "metadata": {},
   "outputs": [],
   "source": [
    "nb_ccplots(\n",
    "    master_catalogue['m_megacam_u'] - master_catalogue['m_megacam_g'],\n",
    "    master_catalogue['m_megacam_g'] - master_catalogue['m_megacam_r'],\n",
    "    \"u - g (CFHT)\", \"g - r (CFHT)\",\n",
    "    master_catalogue[\"stellarity\"]\n",
    ")"
   ]
  },
  {
   "cell_type": "code",
   "execution_count": null,
   "metadata": {},
   "outputs": [],
   "source": [
    "nb_ccplots(\n",
    "    master_catalogue['m_ukidss_j'] - master_catalogue['m_ukidss_k'],\n",
    "    master_catalogue['m_wfc_g'] - master_catalogue['m_ukidss_j'],\n",
    "    \"J - K (UKIDSS)\", \"g - J (WFC, UKIDSS)\",\n",
    "    master_catalogue[\"stellarity\"]\n",
    ")"
   ]
  },
  {
   "cell_type": "code",
   "execution_count": null,
   "metadata": {},
   "outputs": [],
   "source": [
    "nb_ccplots(\n",
    "    master_catalogue['m_wfc_i'] - master_catalogue['m_wfc_z'],\n",
    "    master_catalogue['m_wfc_z'] - master_catalogue['m_ukidss_j'],\n",
    "    \"i - z (WFC)\", \"z - J (WFC, UKIDSS)\",\n",
    "    master_catalogue[\"stellarity\"]\n",
    ")"
   ]
  },
  {
   "cell_type": "code",
   "execution_count": null,
   "metadata": {},
   "outputs": [],
   "source": [
    "nb_ccplots(\n",
    "    master_catalogue['m_irac_i3'] - master_catalogue['m_irac_i4'],\n",
    "    master_catalogue['m_irac_i1'] - master_catalogue['m_irac_i2'],\n",
    "    \"IRAC3 - IRAC4\", \"IRAC1 - IRAC2\",\n",
    "    master_catalogue[\"stellarity\"]\n",
    ")"
   ]
  }
 ],
 "metadata": {
  "anaconda-cloud": {},
  "kernelspec": {
   "display_name": "Python (herschelhelp_internal)",
   "language": "python",
   "name": "helpint"
  },
  "language_info": {
   "codemirror_mode": {
    "name": "ipython",
    "version": 3
   },
   "file_extension": ".py",
   "mimetype": "text/x-python",
   "name": "python",
   "nbconvert_exporter": "python",
   "pygments_lexer": "ipython3",
   "version": "3.6.1"
  }
 },
 "nbformat": 4,
 "nbformat_minor": 2
}
