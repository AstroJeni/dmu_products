{
 "cells": [
  {
   "cell_type": "markdown",
   "metadata": {},
   "source": [
    "# HELP - Bootes Master List Creation\n",
    "\n",
    "This notebook presents the creation of the HELP master list on the Bootes field. This field has already been ingested into HeDAM based on Eduardo's masterlist. Ken said that Michael Brown has a precompiled masterlist for the Bootes field and therefore this notebook will probably only involve mild reformatting of that if we can get it. Ken will therefore include all the necessary code here.\n",
    "\n",
    "\n",
    "\n",
    "<table>\n",
    "  <tr>\n",
    "    <th>Survey/Telescope/Instrument</th>\n",
    "    <th>Filters</th>\n",
    "    <th>Location</th>\n",
    "    <th>Notes</th>\n",
    "  </tr>\n",
    "  <tr>\n",
    "    <td>PS1 3PS/Pan-STARRS1</td>\n",
    "    <td>grizy</td>\n",
    "    <td></td>\n",
    "    <td></td>\n",
    "  </tr>\n",
    "  <tr>\n",
    "    <td>LBT Bootes/LBT/LBC</td>\n",
    "    <td>U,Y</td>\n",
    "    <td></td>\n",
    "    <td></td>\n",
    "  </tr>\n",
    "  <tr>\n",
    "    <td>NDWFS</td>\n",
    "    <td>B,R,I,K</td>\n",
    "    <td>dmu0_NDWFS</td>\n",
    "    <td></td>\n",
    "  </tr>\n",
    "  <tr>\n",
    "    <td>zBootes</td>\n",
    "    <td>z</td>\n",
    "    <td>dmu0_zBootes</td>\n",
    "    <td></td>\n",
    "  </tr>\n",
    "  <tr>\n",
    "    <td>z-band Bootes/Subaru</td>\n",
    "    <td>z</td>\n",
    "    <td></td>\n",
    "    <td></td>\n",
    "  </tr>\n",
    "  <tr>\n",
    "    <td>IBIS</td>\n",
    "    <td>J,H,K</td>\n",
    "    <td>dmu0_IBIS</td>\n",
    "    <td></td>\n",
    "  </tr>\n",
    "  <tr>\n",
    "    <td>SDWFS/Spitzer/IRAC</td>\n",
    "    <td>IRAC1234</td>\n",
    "    <td>dmu0_SDWFS</td>\n",
    "    <td></td>\n",
    "  </tr>\n",
    "</table>"
   ]
  },
  {
   "cell_type": "code",
   "execution_count": null,
   "metadata": {
    "collapsed": true
   },
   "outputs": [],
   "source": [
    "from herschelhelp_internal import git_version\n",
    "print(\"This notebook was run with herschelhelp_internal version: \\n{}\".format(git_version()))"
   ]
  }
 ],
 "metadata": {
  "anaconda-cloud": {},
  "kernelspec": {
   "display_name": "Python (herschelhelp_internal)",
   "language": "python",
   "name": "helpint"
  },
  "language_info": {
   "codemirror_mode": {
    "name": "ipython",
    "version": 3
   },
   "file_extension": ".py",
   "mimetype": "text/x-python",
   "name": "python",
   "nbconvert_exporter": "python",
   "pygments_lexer": "ipython3",
   "version": "3.6.1"
  }
 },
 "nbformat": 4,
 "nbformat_minor": 1
}
