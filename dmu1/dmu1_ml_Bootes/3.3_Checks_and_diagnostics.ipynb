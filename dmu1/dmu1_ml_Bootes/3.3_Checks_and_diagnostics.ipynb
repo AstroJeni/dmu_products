{
 "cells": [
  {
   "cell_type": "markdown",
   "metadata": {
    "collapsed": true,
    "deletable": true,
    "editable": true
   },
   "source": [
    "# Bootes master catalogue\n",
    "## Checks and diagnostics"
   ]
  },
  {
   "cell_type": "code",
   "execution_count": null,
   "metadata": {
    "collapsed": false,
    "deletable": true,
    "editable": true
   },
   "outputs": [],
   "source": [
    "from herschelhelp_internal import git_version\n",
    "print(\"This notebook was run with herschelhelp_internal version: \\n{}\".format(git_version()))\n",
    "import datetime\n",
    "print(\"This notebook was executed on: \\n{}\".format(datetime.datetime.now()))"
   ]
  },
  {
   "cell_type": "code",
   "execution_count": null,
   "metadata": {
    "collapsed": true,
    "deletable": true,
    "editable": true
   },
   "outputs": [],
   "source": [
    "%matplotlib inline\n",
    "#%config InlineBackend.figure_format = 'svg'\n",
    "\n",
    "import matplotlib.pyplot as plt\n",
    "plt.rc('figure', figsize=(10, 6))\n",
    "plt.style.use('ggplot')\n",
    "\n",
    "import locale\n",
    "locale.setlocale(locale.LC_ALL, 'en_GB')\n",
    "\n",
    "import os\n",
    "import time\n",
    "import itertools\n",
    "\n",
    "from astropy.coordinates import SkyCoord\n",
    "from astropy.table import Table\n",
    "from astropy import units as u\n",
    "from astropy import visualization as vis\n",
    "import numpy as np\n",
    "from matplotlib_venn import venn3\n",
    "\n",
    "from herschelhelp_internal.masterlist import (nb_compare_mags, nb_ccplots, nb_histograms, find_last_ml_suffix,\n",
    "                                              quick_checks)"
   ]
  },
  {
   "cell_type": "code",
   "execution_count": null,
   "metadata": {
    "collapsed": false,
    "deletable": true,
    "editable": true
   },
   "outputs": [],
   "source": [
    "OUT_DIR = os.environ.get('OUT_DIR', \"./data\")\n",
    "SUFFIX = find_last_ml_suffix()\n",
    "#SUFFIX = \"20171016\"\n",
    "\n",
    "master_catalogue_filename = \"master_catalogue_bootes_{}.fits\".format(SUFFIX)\n",
    "master_catalogue = Table.read(\"{}/{}\".format(OUT_DIR, master_catalogue_filename))\n",
    "\n",
    "print(\"Diagnostics done using: {}\".format(master_catalogue_filename))"
   ]
  },
  {
   "cell_type": "markdown",
   "metadata": {
    "deletable": true,
    "editable": true
   },
   "source": [
    "## 0 - Quick checks"
   ]
  },
  {
   "cell_type": "code",
   "execution_count": null,
   "metadata": {
    "collapsed": false,
    "deletable": true,
    "editable": true
   },
   "outputs": [],
   "source": [
    "quick_checks(master_catalogue).show_in_notebook()"
   ]
  },
  {
   "cell_type": "markdown",
   "metadata": {
    "deletable": true,
    "editable": true
   },
   "source": [
    "## I - Summary of wavelength domains"
   ]
  },
  {
   "cell_type": "code",
   "execution_count": null,
   "metadata": {
    "collapsed": true,
    "deletable": true,
    "editable": true
   },
   "outputs": [],
   "source": [
    "flag_obs = master_catalogue['flag_optnir_obs']\n",
    "flag_det = master_catalogue['flag_optnir_det']"
   ]
  },
  {
   "cell_type": "code",
   "execution_count": null,
   "metadata": {
    "collapsed": false,
    "deletable": true,
    "editable": true
   },
   "outputs": [],
   "source": [
    "venn3(\n",
    "    [\n",
    "        np.sum(flag_obs == 4),\n",
    "        np.sum(flag_obs == 2),\n",
    "        np.sum(flag_obs == 6),\n",
    "        np.sum(flag_obs == 1),\n",
    "        np.sum(flag_obs == 5),\n",
    "        np.sum(flag_obs == 3),\n",
    "        np.sum(flag_obs == 7)\n",
    "    ],\n",
    "    set_labels=('mid-IR', 'near-IR', 'Optical'),\n",
    "    subset_label_formatter=lambda x: \"{}%\".format(int(100*x/len(flag_obs)))\n",
    ")\n",
    "plt.title(\"Wavelength domain observations\");"
   ]
  },
  {
   "cell_type": "code",
   "execution_count": null,
   "metadata": {
    "collapsed": false,
    "deletable": true,
    "editable": true
   },
   "outputs": [],
   "source": [
    "venn3(\n",
    "    [\n",
    "        np.sum(flag_det[flag_obs == 7] == 4),\n",
    "        np.sum(flag_det[flag_obs == 7] == 2),\n",
    "        np.sum(flag_det[flag_obs == 7] == 6),\n",
    "        np.sum(flag_det[flag_obs == 7] == 1),\n",
    "        np.sum(flag_det[flag_obs == 7] == 5),\n",
    "        np.sum(flag_det[flag_obs == 7] == 3),\n",
    "        np.sum(flag_det[flag_obs == 7] == 7)\n",
    "    ],\n",
    "    set_labels=('mid-IR', 'near-IR', 'Optical'),\n",
    "    subset_label_formatter=lambda x: \"{}%\".format(int(100*x/np.sum(flag_det != 0)))\n",
    ")\n",
    "plt.title(\"Detection of the {} sources detected\\n in any wavelength domains \"\n",
    "          \"(among {} sources)\".format(\n",
    "              locale.format('%d', np.sum(flag_det != 0), grouping=True),\n",
    "              locale.format('%d', len(flag_det), grouping=True)));"
   ]
  },
  {
   "cell_type": "markdown",
   "metadata": {
    "deletable": true,
    "editable": true
   },
   "source": [
    "## II - Comparing magnitudes in similar filters\n",
    "\n",
    "The master list if composed of several catalogues containing magnitudes in similar filters on different instruments. We are comparing the magnitudes in these corresponding filters."
   ]
  },
  {
   "cell_type": "code",
   "execution_count": null,
   "metadata": {
    "collapsed": true,
    "deletable": true,
    "editable": true
   },
   "outputs": [],
   "source": [
    "u_bands = [\"LBC u\"]\n",
    "g_bands = [\"GPC1 g\", \"90prime g\"]\n",
    "r_bands = [\"GPC1 r\", \"90prime r\", \"Mosaic r\"]\n",
    "i_bands = [\"GPC1 i\",              \"Mosaic i\"]\n",
    "z_bands = [\"GPC1 z\", \"90prime z\", \"Mosaic z\", \"Suprime z\"]\n",
    "y_bands = [\"GPC1 y\", \"LBC y\"]\n",
    "\n",
    "j_bands = [\"Newfirm J\", \"UKIDSS J\"]\n",
    "h_bands = [\"Newfirm H\"]\n",
    "k_bands = [\"Newfirm K\",           \"TIFKAM ks\"]"
   ]
  },
  {
   "cell_type": "markdown",
   "metadata": {
    "deletable": true,
    "editable": true
   },
   "source": [
    "### II.a - Comparing depths\n",
    "\n",
    "We compare the histograms of the total aperture magnitudes of similar bands."
   ]
  },
  {
   "cell_type": "code",
   "execution_count": null,
   "metadata": {
    "collapsed": false,
    "deletable": true,
    "editable": true,
    "scrolled": false
   },
   "outputs": [],
   "source": [
    "for bands in [g_bands, r_bands, i_bands, z_bands, y_bands, j_bands, h_bands, k_bands]:\n",
    "    colnames = [\"m_{}\".format(band.replace(\" \", \"_\").lower()) for band in bands]\n",
    "    nb_histograms(master_catalogue, colnames, bands)"
   ]
  },
  {
   "cell_type": "markdown",
   "metadata": {
    "deletable": true,
    "editable": true
   },
   "source": [
    "### II.b - Comparing magnitudes\n",
    "\n",
    "We compare one to one each magnitude in similar bands."
   ]
  },
  {
   "cell_type": "code",
   "execution_count": null,
   "metadata": {
    "collapsed": false,
    "deletable": true,
    "editable": true,
    "scrolled": false
   },
   "outputs": [],
   "source": [
    "for band_of_a_kind in [u_bands, g_bands, r_bands, i_bands, z_bands, y_bands, j_bands, h_bands, k_bands]:\n",
    "    for band1, band2 in itertools.combinations(band_of_a_kind, 2):\n",
    "        \n",
    "        basecol1, basecol2 = band1.replace(\" \", \"_\").lower(), band2.replace(\" \", \"_\").lower()\n",
    "        \n",
    "        try:\n",
    "            col1, col2 = \"m_ap_{}\".format(basecol1), \"m_ap_{}\".format(basecol2)\n",
    "            nb_compare_mags(master_catalogue[col1], master_catalogue[col2], \n",
    "                        labels=(\"{} (aperture)\".format(band1), \"{} (aperture)\".format(band2)))\n",
    "        except KeyError:\n",
    "            print(\"One of {} and {} is empty or missing any cross matches.\".format(col1, col2))\n",
    "    \n",
    "        try:\n",
    "            col1, col2 = \"m_{}\".format(basecol1), \"m_{}\".format(basecol2)\n",
    "            nb_compare_mags(master_catalogue[col1], master_catalogue[col2], \n",
    "                        labels=(\"{} (total)\".format(band1), \"{} (total)\".format(band2)))\n",
    "        except KeyError:\n",
    "            print(\"One of {} and {} is empty or missing any cross matches.\".format(col1, col2))"
   ]
  },
  {
   "cell_type": "markdown",
   "metadata": {
    "deletable": true,
    "editable": true
   },
   "source": [
    "## III - Comparing magnitudes to reference bands\n",
    "\n",
    "Cross-match the master list to SDSS and 2MASS to compare its magnitudes to SDSS and 2MASS ones."
   ]
  },
  {
   "cell_type": "code",
   "execution_count": null,
   "metadata": {
    "collapsed": true,
    "deletable": true,
    "editable": true
   },
   "outputs": [],
   "source": [
    "master_catalogue_coords = SkyCoord(master_catalogue['ra'], master_catalogue['dec'])"
   ]
  },
  {
   "cell_type": "markdown",
   "metadata": {
    "deletable": true,
    "editable": true
   },
   "source": [
    "### III.a - Comparing u, g, r, i, and z bands to SDSS\n",
    "\n",
    "The catalogue is cross-matched to SDSS-DR13 withing 0.2 arcsecond. \n",
    "\n",
    "We compare the u, g, r, i, and z magnitudes to those from SDSS using `fiberMag` for the aperture magnitude and `petroMag`  for the total magnitude."
   ]
  },
  {
   "cell_type": "code",
   "execution_count": null,
   "metadata": {
    "collapsed": true,
    "deletable": true,
    "editable": true
   },
   "outputs": [],
   "source": [
    "sdss = Table.read(\"../../dmu0/dmu0_SDSS-DR13/data/SDSS-DR13_Bootes.fits\")\n",
    "sdss_coords = SkyCoord(sdss['ra'] * u.deg, sdss['dec'] * u.deg)\n",
    "\n",
    "idx, d2d, _ = sdss_coords.match_to_catalog_sky(master_catalogue_coords)\n",
    "mask = (d2d < 0.2 * u.arcsec)\n",
    "\n",
    "sdss = sdss[mask]\n",
    "ml_sdss_idx = idx[mask]"
   ]
  },
  {
   "cell_type": "code",
   "execution_count": null,
   "metadata": {
    "collapsed": false,
    "deletable": true,
    "editable": true,
    "scrolled": false
   },
   "outputs": [],
   "source": [
    "\n",
    "for  band_of_a_kind in [u_bands, g_bands, r_bands, i_bands, z_bands]:\n",
    "    for band in band_of_a_kind:\n",
    "        \n",
    "        sdss_mag_ap_colname = \"fiberMag_{}\".format(band[-1])\n",
    "        sdss_mag_tot_colname = \"petroMag_{}\".format(band[-1])\n",
    "        master_cat_mag_ap_colname = \"m_ap_{}\".format(band.replace(\" \", \"_\").lower())\n",
    "        master_cat_mag_tot_colname = \"m_{}\".format(band.replace(\" \", \"_\").lower())\n",
    "        \n",
    "        # Set SDSS magnitudes to NaN when the magnitude  is negative as SDSS uses large\n",
    "        # negative numbers for missing magnitudes\n",
    "        sdss[sdss_mag_ap_colname][sdss[sdss_mag_ap_colname] < 0.] = np.nan\n",
    "        sdss[sdss_mag_tot_colname][sdss[sdss_mag_tot_colname] < 0.] = np.nan\n",
    "  \n",
    "        try:\n",
    "            sdss_mag_ap = sdss[sdss_mag_ap_colname]\n",
    "            master_cat_mag_ap = master_catalogue[master_cat_mag_ap_colname][ml_sdss_idx]\n",
    "    \n",
    "            nb_compare_mags(sdss_mag_ap, master_cat_mag_ap,\n",
    "                            labels=(\"SDSS (Main survey DR13) {} (fiberMag)\".format(band[-1]), \"{} (aperture)\".format(band)))\n",
    "        except KeyError:\n",
    "            print(\"No aperture mags for {}\".format(master_cat_mag_ap_colname))\n",
    "            \n",
    "        try:\n",
    "            sdss_mag_tot = sdss[sdss_mag_tot_colname]\n",
    "            master_cat_mag_tot = master_catalogue[master_cat_mag_tot_colname][ml_sdss_idx]\n",
    "        \n",
    "            nb_compare_mags(sdss_mag_tot, master_cat_mag_tot,\n",
    "                        labels=(\"SDSS (Main survey DR13) {} (petroMag)\".format(band[-1]), \"{} (total)\".format(band)))\n",
    "        except KeyError:\n",
    "            print(\"No total mags for {}\".format(master_cat_mag_ap_colname))"
   ]
  },
  {
   "cell_type": "markdown",
   "metadata": {
    "deletable": true,
    "editable": true
   },
   "source": [
    "### III.b - Comparing J and K bands to 2MASS\n",
    "\n",
    "The catalogue is cross-matched to 2MASS-PSC withing 0.2 arcsecond. We compare the UKIDSS total J and K magnitudes to those from 2MASS.\n",
    "\n",
    "The 2MASS magnitudes are “*Vega-like*” and we have to convert them to AB magnitudes using the zero points provided on [this page](http://www.ipac.caltech.edu/2mass/releases/allsky/doc/sec6_4a.html):\n",
    "\n",
    "| Band | Fν - 0 mag (Jy) |\n",
    "|------|-----------------|\n",
    "| J    | 1594            |\n",
    "| H    | 1024            |\n",
    "| Ks   | 666.7           |\n",
    "\n",
    "In addition, UKIDSS uses a K band whereas 2MASS uses a Ks (“short”) band, [this page](http://www.ipac.caltech.edu/2mass/releases/allsky/doc/sec6_4b.html) give a correction to convert the K band in a Ks band with the formula:\n",
    "\n",
    "$$K_{s(2MASS)} = K_{UKIRT} + 0.003 + 0.004 * (J−K)_{UKIRT}$$"
   ]
  },
  {
   "cell_type": "code",
   "execution_count": null,
   "metadata": {
    "collapsed": true,
    "deletable": true,
    "editable": true
   },
   "outputs": [],
   "source": [
    "# The AB zero point is 3631 Jy\n",
    "j_2mass_to_ab = 2.5 * np.log10(3631/1595)\n",
    "k_2mass_to_ab = 2.5 * np.log10(3631/666.7)"
   ]
  },
  {
   "cell_type": "code",
   "execution_count": null,
   "metadata": {
    "collapsed": true,
    "deletable": true,
    "editable": true
   },
   "outputs": [],
   "source": [
    "twomass = Table.read(\"../../dmu0/dmu0_2MASS-point-sources/data/2MASS-PSC_Bootes.fits\")\n",
    "twomass_coords = SkyCoord(twomass['raj2000'], twomass['dej2000'])\n",
    "\n",
    "idx, d2d, _ = twomass_coords.match_to_catalog_sky(master_catalogue_coords)\n",
    "mask = (d2d < 0.2 * u.arcsec)\n",
    "\n",
    "twomass = twomass[mask]\n",
    "ml_twomass_idx = idx[mask]"
   ]
  },
  {
   "cell_type": "code",
   "execution_count": null,
   "metadata": {
    "collapsed": false,
    "deletable": true,
    "editable": true
   },
   "outputs": [],
   "source": [
    "nb_compare_mags(twomass['jmag'] + j_2mass_to_ab, master_catalogue['m_newfirm_j'][ml_twomass_idx],\n",
    "                labels=(\"2MASS J\", \"UKIDSS J (total)\"))"
   ]
  },
  {
   "cell_type": "markdown",
   "metadata": {
    "deletable": true,
    "editable": true
   },
   "source": [
    "## Keeping only sources with good signal to noise ratio\n",
    "\n",
    "From here, we are only comparing sources with a signal to noise ratio above 3, i.e. roughly we a magnitude error below 0.3.\n",
    "\n",
    "*To make it easier, we are setting to NaN in the catalogue the magnitudes associated with an error above 0.3 so we can't use these magnitudes after the next cell.*"
   ]
  },
  {
   "cell_type": "code",
   "execution_count": null,
   "metadata": {
    "collapsed": true,
    "deletable": true,
    "editable": true
   },
   "outputs": [],
   "source": [
    "for error_column in [_ for _ in master_catalogue.colnames if _.startswith('merr_')]:\n",
    "    column = error_column.replace(\"merr\", \"m\")\n",
    "    keep_mask = np.isfinite(master_catalogue[error_column])\n",
    "    keep_mask[keep_mask] &= master_catalogue[keep_mask][error_column] <= 0.3\n",
    "    master_catalogue[column][~keep_mask] = np.nan"
   ]
  },
  {
   "cell_type": "markdown",
   "metadata": {
    "collapsed": true,
    "deletable": true,
    "editable": true
   },
   "source": [
    "## IV - Comparing aperture magnitudes to total ones."
   ]
  },
  {
   "cell_type": "code",
   "execution_count": null,
   "metadata": {
    "collapsed": false,
    "deletable": true,
    "editable": true
   },
   "outputs": [],
   "source": [
    "nb_ccplots(\n",
    "    master_catalogue['m_gpc1_r'],\n",
    "    master_catalogue['m_ap_gpc1_r'] - master_catalogue['m_gpc1_r'],\n",
    "    \"r total magnitude (GPC1)\", \"r aperture mag - total mag (GPC1)\",\n",
    "    master_catalogue[\"stellarity\"],\n",
    "    invert_x=True\n",
    ")"
   ]
  },
  {
   "cell_type": "markdown",
   "metadata": {
    "collapsed": true,
    "deletable": true,
    "editable": true
   },
   "source": [
    "## V - Color-color and magnitude-color plots"
   ]
  },
  {
   "cell_type": "code",
   "execution_count": null,
   "metadata": {
    "collapsed": false,
    "deletable": true,
    "editable": true,
    "scrolled": false
   },
   "outputs": [],
   "source": [
    "nb_ccplots(\n",
    "    master_catalogue['m_gpc1_g'] - master_catalogue['m_gpc1_i'],\n",
    "    master_catalogue['m_newfirm_j'] - master_catalogue['m_newfirm_k'],\n",
    "    \"g - i (GPC1)\", \"J - K (NEWFIRM)\",\n",
    "    master_catalogue[\"stellarity\"]\n",
    ")"
   ]
  },
  {
   "cell_type": "code",
   "execution_count": null,
   "metadata": {
    "collapsed": false,
    "deletable": true,
    "editable": true
   },
   "outputs": [],
   "source": [
    "nb_ccplots(\n",
    "    master_catalogue['m_gpc1_i'] - master_catalogue['m_irac_i1'],\n",
    "    master_catalogue['m_gpc1_g'] - master_catalogue['m_mosaic_i'],\n",
    "    \"GPC1 i - IRAC1\", \"GPC1 g - Mosaic i\",\n",
    "    master_catalogue[\"stellarity\"]\n",
    ")"
   ]
  },
  {
   "cell_type": "code",
   "execution_count": null,
   "metadata": {
    "collapsed": false,
    "deletable": true,
    "editable": true
   },
   "outputs": [],
   "source": [
    "nb_ccplots(\n",
    "    master_catalogue['m_newfirm_j'] - master_catalogue['m_newfirm_k'],\n",
    "    master_catalogue['m_irac_i1'] - master_catalogue['m_irac_i2'],\n",
    "    \"IRAC3 - IRAC4\", \"IRAC1 - IRAC2\",\n",
    "    master_catalogue[\"stellarity\"]\n",
    ")"
   ]
  }
 ],
 "metadata": {
  "anaconda-cloud": {},
  "kernelspec": {
   "display_name": "Python (herschelhelp_internal)",
   "language": "python",
   "name": "helpint"
  },
  "language_info": {
   "codemirror_mode": {
    "name": "ipython",
    "version": 3
   },
   "file_extension": ".py",
   "mimetype": "text/x-python",
   "name": "python",
   "nbconvert_exporter": "python",
   "pygments_lexer": "ipython3",
   "version": "3.6.4"
  }
 },
 "nbformat": 4,
 "nbformat_minor": 2
}
