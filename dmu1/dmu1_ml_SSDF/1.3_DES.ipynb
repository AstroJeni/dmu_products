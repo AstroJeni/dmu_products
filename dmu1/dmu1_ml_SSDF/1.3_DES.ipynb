{
 "cells": [
  {
   "cell_type": "markdown",
   "metadata": {},
   "source": [
    "# SSDF master catalogue\n",
    "## Preparation of DES data\n",
    "\n",
    "Blanco DES catalogue: the catalogue comes from `dmu0_DES`.\n",
    "\n",
    "In the catalogue, we keep:\n",
    "\n",
    "- The identifier (it's unique in the catalogue);\n",
    "- The position;\n",
    "- The G band stellarity;\n",
    "- The magnitude for each band.\n",
    "- The auto/kron magnitudes/fluxes to be used as total magnitude.\n",
    "- The PSF fitted madnitudes/fluxes are used as aperture magnitudes.\n",
    "\n",
    "We don't know when the maps have been observed. We will take the final observation date as 2017."
   ]
  },
  {
   "cell_type": "code",
   "execution_count": null,
   "metadata": {
    "collapsed": true
   },
   "outputs": [],
   "source": [
    "from herschelhelp_internal import git_version\n",
    "print(\"This notebook was run with herschelhelp_internal version: \\n{}\".format(git_version()))"
   ]
  },
  {
   "cell_type": "code",
   "execution_count": null,
   "metadata": {
    "collapsed": true
   },
   "outputs": [],
   "source": [
    "%matplotlib inline\n",
    "#%config InlineBackend.figure_format = 'svg'\n",
    "\n",
    "import matplotlib.pyplot as plt\n",
    "plt.rc('figure', figsize=(10, 6))\n",
    "\n",
    "from collections import OrderedDict\n",
    "import os\n",
    "\n",
    "from astropy import units as u\n",
    "from astropy.coordinates import SkyCoord\n",
    "from astropy.table import Column, Table\n",
    "import numpy as np\n",
    "\n",
    "from herschelhelp_internal.flagging import  gaia_flag_column\n",
    "from herschelhelp_internal.masterlist import nb_astcor_diag_plot, remove_duplicates\n",
    "from herschelhelp_internal.utils import astrometric_correction, mag_to_flux"
   ]
  },
  {
   "cell_type": "code",
   "execution_count": null,
   "metadata": {
    "collapsed": true
   },
   "outputs": [],
   "source": [
    "OUT_DIR =  os.environ.get('TMP_DIR', \"./data_tmp\")\n",
    "try:\n",
    "    os.makedirs(OUT_DIR)\n",
    "except FileExistsError:\n",
    "    pass\n",
    "\n",
    "RA_COL = \"des_ra\"\n",
    "DEC_COL = \"des_dec\""
   ]
  },
  {
   "cell_type": "markdown",
   "metadata": {},
   "source": [
    "## I - Column selection"
   ]
  },
  {
   "cell_type": "code",
   "execution_count": null,
   "metadata": {
    "collapsed": true
   },
   "outputs": [],
   "source": [
    "\n",
    "imported_columns = OrderedDict({\n",
    "        'COADD_OBJECT_ID': \"des_id\",\n",
    "        'RA': \"des_ra\",\n",
    "        'DEC': \"des_dec\",\n",
    "        'CLASS_STAR_G':  \"des_stellarity\",\n",
    "        'FLUX_AUTO_G': \"f_decam_g\", \n",
    "        'FLUXERR_AUTO_G': \"ferr_decam_g\", \n",
    "        'WAVG_FLUX_PSF_G': \"f_ap_decam_g\", \n",
    "        'WAVG_FLUXERR_PSF_G': \"ferr_ap_decam_g\",\n",
    "        'MAG_AUTO_G': \"m_decam_g\", \n",
    "        'MAGERR_AUTO_G': \"merr_decam_g\", \n",
    "        'WAVG_MAG_PSF_G': \"m_ap_decam_g\", \n",
    "        'WAVG_MAGERR_PSF_G': \"merr_ap_decam_g\",\n",
    "    \n",
    "        'FLUXERR_AUTO_R': \"ferr_decam_r\", \n",
    "        'WAVG_FLUX_PSF_R': \"f_ap_decam_r\", \n",
    "        'WAVG_FLUXERR_PSF_R': \"ferr_ap_decam_r\",\n",
    "        'MAG_AUTO_R': \"m_decam_r\", \n",
    "        'MAGERR_AUTO_R': \"merr_decam_r\", \n",
    "        'WAVG_MAG_PSF_R': \"m_ap_decam_r\", \n",
    "        'WAVG_MAGERR_PSF_R': \"merr_ap_decam_r\",\n",
    "    \n",
    "        'FLUXERR_AUTO_I': \"ferr_decam_i\", \n",
    "        'WAVG_FLUX_PSF_I': \"f_ap_decam_i\", \n",
    "        'WAVG_FLUXERR_PSF_I': \"ferr_ap_decam_i\",\n",
    "        'MAG_AUTO_I': \"m_decam_i\", \n",
    "        'MAGERR_AUTO_I': \"merr_decam_i\", \n",
    "        'WAVG_MAG_PSF_I': \"m_ap_decam_i\", \n",
    "        'WAVG_MAGERR_PSF_I': \"merr_ap_decam_i\",\n",
    "    \n",
    "        'FLUXERR_AUTO_Z': \"ferr_decam_z\", \n",
    "        'WAVG_FLUX_PSF_Z': \"f_ap_decam_z\", \n",
    "        'WAVG_FLUXERR_PSF_Z': \"ferr_ap_decam_z\",\n",
    "        'MAG_AUTO_Z': \"m_decam_z\", \n",
    "        'MAGERR_AUTO_Z': \"merr_decam_z\", \n",
    "        'WAVG_MAG_PSF_Z': \"m_ap_decam_z\", \n",
    "        'WAVG_MAGERR_PSF_Z': \"merr_ap_decam_z\",\n",
    "    \n",
    "        'FLUXERR_AUTO_Y': \"ferr_decam_y\", \n",
    "        'WAVG_FLUX_PSF_Y': \"f_ap_decam_y\", \n",
    "        'WAVG_FLUXERR_PSF_Y': \"ferr_ap_decam_y\",\n",
    "        'MAG_AUTO_Y': \"m_decam_y\", \n",
    "        'MAGERR_AUTO_Y': \"merr_decam_y\", \n",
    "        'WAVG_MAG_PSF_Y': \"m_ap_decam_y\", \n",
    "        'WAVG_MAGERR_PSF_Y': \"merr_ap_decam_y\",\n",
    "\n",
    "    })\n",
    "\n",
    "\n",
    "catalogue = Table.read(\"../../dmu0/dmu0_DES/data/DES-DR1_SSDF.fits\")[list(imported_columns)]\n",
    "for column in imported_columns:\n",
    "    catalogue[column].name = imported_columns[column]\n",
    "\n",
    "epoch = 2017\n",
    "\n",
    "# Clean table metadata\n",
    "catalogue.meta = None"
   ]
  },
  {
   "cell_type": "code",
   "execution_count": null,
   "metadata": {
    "collapsed": true
   },
   "outputs": [],
   "source": [
    "# Adding flux and band-flag columns\n",
    "for col in catalogue.colnames:\n",
    "    if col.startswith('m_'):\n",
    "        \n",
    "        errcol = \"merr{}\".format(col[1:])\n",
    "        f_col = \"f{}\".format(col[1:])\n",
    "        f_errcol = \"ferr{}\".format(col[1:])\n",
    "        \n",
    "        # Some object have a magnitude to 99., we suppose this means a missing value\n",
    "        mask =(catalogue[col] > 90. )\n",
    "        catalogue[col][mask] = np.nan\n",
    "        catalogue[errcol][mask] = np.nan\n",
    " \n",
    "\n",
    "        \n",
    "        # Band-flag column\n",
    "        if \"ap\" not in col:\n",
    "            catalogue.add_column(Column(np.zeros(len(catalogue), dtype=bool), name=\"flag{}\".format(col[1:])))\n",
    "            \n",
    "    if col.startswith('f_'):\n",
    "        \n",
    "        errcol = \"ferr{}\".format(col[1:])\n",
    "        # Some objects have -99.0 values\n",
    "        mask = (np.isclose(catalogue[col], -99.) )\n",
    "        catalogue[col][mask] = np.nan\n",
    "        catalogue[errcol][mask] = np.nan\n",
    "            \n",
    "            \n",
    "        \n"
   ]
  },
  {
   "cell_type": "code",
   "execution_count": null,
   "metadata": {
    "collapsed": true
   },
   "outputs": [],
   "source": [
    "catalogue[:10].show_in_notebook()"
   ]
  },
  {
   "cell_type": "markdown",
   "metadata": {},
   "source": [
    "## II - Removal of duplicated sources"
   ]
  },
  {
   "cell_type": "markdown",
   "metadata": {},
   "source": [
    "We remove duplicated objects from the input catalogues."
   ]
  },
  {
   "cell_type": "code",
   "execution_count": null,
   "metadata": {
    "collapsed": true
   },
   "outputs": [],
   "source": [
    "SORT_COLS = ['merr_ap_decam_g', 'merr_ap_decam_r','merr_ap_decam_i','merr_ap_decam_z','merr_ap_decam_y']\n",
    "FLAG_NAME = 'des_flag_cleaned'\n",
    "\n",
    "nb_orig_sources = len(catalogue)\n",
    "\n",
    "catalogue = remove_duplicates(catalogue, RA_COL, DEC_COL, sort_col=SORT_COLS,flag_name=FLAG_NAME)\n",
    "\n",
    "nb_sources = len(catalogue)\n",
    "\n",
    "print(\"The initial catalogue had {} sources.\".format(nb_orig_sources))\n",
    "print(\"The cleaned catalogue has {} sources ({} removed).\".format(nb_sources, nb_orig_sources - nb_sources))\n",
    "print(\"The cleaned catalogue has {} sources flagged as having been cleaned\".format(np.sum(catalogue[FLAG_NAME])))"
   ]
  },
  {
   "cell_type": "markdown",
   "metadata": {},
   "source": [
    "## III - Astrometry correction\n",
    "\n",
    "We match the astrometry to the Gaia one. We limit the Gaia catalogue to sources with a g band flux between the 30th and the 70th percentile. Some quick tests show that this give the lower dispersion in the results."
   ]
  },
  {
   "cell_type": "code",
   "execution_count": null,
   "metadata": {
    "collapsed": true
   },
   "outputs": [],
   "source": [
    "gaia = Table.read(\"../../dmu0/dmu0_GAIA/data/GAIA_SSDF.fits\")\n",
    "gaia_coords = SkyCoord(gaia['ra'], gaia['dec'])"
   ]
  },
  {
   "cell_type": "code",
   "execution_count": null,
   "metadata": {
    "collapsed": true
   },
   "outputs": [],
   "source": [
    "nb_astcor_diag_plot(catalogue[RA_COL], catalogue[DEC_COL], \n",
    "                    gaia_coords.ra, gaia_coords.dec, near_ra0=True)"
   ]
  },
  {
   "cell_type": "code",
   "execution_count": null,
   "metadata": {
    "collapsed": true
   },
   "outputs": [],
   "source": [
    "delta_ra, delta_dec =  astrometric_correction(\n",
    "    SkyCoord(catalogue[RA_COL], catalogue[DEC_COL]),\n",
    "    gaia_coords\n",
    ")\n",
    "\n",
    "print(\"RA correction: {}\".format(delta_ra))\n",
    "print(\"Dec correction: {}\".format(delta_dec))"
   ]
  },
  {
   "cell_type": "code",
   "execution_count": null,
   "metadata": {
    "collapsed": true
   },
   "outputs": [],
   "source": [
    "catalogue[RA_COL] +=  delta_ra.to(u.deg)\n",
    "catalogue[DEC_COL] += delta_dec.to(u.deg)"
   ]
  },
  {
   "cell_type": "code",
   "execution_count": null,
   "metadata": {
    "collapsed": true
   },
   "outputs": [],
   "source": [
    "nb_astcor_diag_plot(catalogue[RA_COL], catalogue[DEC_COL], \n",
    "                    gaia_coords.ra, gaia_coords.dec, near_ra0=True)"
   ]
  },
  {
   "cell_type": "markdown",
   "metadata": {},
   "source": [
    "## IV - Flagging Gaia objects"
   ]
  },
  {
   "cell_type": "code",
   "execution_count": null,
   "metadata": {
    "collapsed": true
   },
   "outputs": [],
   "source": [
    "catalogue.add_column(\n",
    "    gaia_flag_column(SkyCoord(catalogue[RA_COL], catalogue[DEC_COL]), epoch, gaia)\n",
    ")"
   ]
  },
  {
   "cell_type": "code",
   "execution_count": null,
   "metadata": {
    "collapsed": true
   },
   "outputs": [],
   "source": [
    "GAIA_FLAG_NAME = \"des_flag_gaia\"\n",
    "\n",
    "catalogue['flag_gaia'].name = GAIA_FLAG_NAME\n",
    "print(\"{} sources flagged.\".format(np.sum(catalogue[GAIA_FLAG_NAME] > 0)))"
   ]
  },
  {
   "cell_type": "markdown",
   "metadata": {},
   "source": [
    "## V - Flagging objects near bright stars"
   ]
  },
  {
   "cell_type": "markdown",
   "metadata": {},
   "source": [
    "# VI - Saving to disk"
   ]
  },
  {
   "cell_type": "code",
   "execution_count": null,
   "metadata": {
    "collapsed": true
   },
   "outputs": [],
   "source": [
    "catalogue.write(\"{}/DES.fits\".format(OUT_DIR), overwrite=True)"
   ]
  }
 ],
 "metadata": {
  "anaconda-cloud": {},
  "kernelspec": {
   "display_name": "Python (herschelhelp_internal)",
   "language": "python",
   "name": "helpint"
  },
  "language_info": {
   "codemirror_mode": {
    "name": "ipython",
    "version": 3
   },
   "file_extension": ".py",
   "mimetype": "text/x-python",
   "name": "python",
   "nbconvert_exporter": "python",
   "pygments_lexer": "ipython3",
   "version": "3.6.1"
  }
 },
 "nbformat": 4,
 "nbformat_minor": 1
}
