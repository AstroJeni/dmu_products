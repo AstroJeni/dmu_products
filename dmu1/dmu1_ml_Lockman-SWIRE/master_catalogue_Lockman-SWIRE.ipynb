{
 "cells": [
  {
   "cell_type": "markdown",
   "metadata": {},
   "source": [
    "# HELP - Lockman SWIRE Master List Creation\n",
    "\n",
    "This notebook presents the creation of the HELP master list on the Lockman SWIRE field.\n",
    "\n",
    "<table>\n",
    "  <tr>\n",
    "    <th>Survey/Telescope/Instrument</th>\n",
    "    <th>Filters</th>\n",
    "    <th>Location</th>\n",
    "    <th>Notes</th>\n",
    "  </tr>\n",
    "  <tr>\n",
    "    <td>UKIDSS DXS/UKIRT/WFCAM/</td>\n",
    "    <td>J,K</td>\n",
    "    <td>dmu0_UKIDSS-DXS</td>\n",
    "    <td></td>\n",
    "  </tr>\n",
    "  <tr>\n",
    "    <td>SWIRE/Spitzer/IRAC MIPS</td>\n",
    "    <td>IRAC1234 & MIPS123</td>\n",
    "    <td>dmu0_DataFusion-Spitzer</td>\n",
    "    <td></td>\n",
    "  </tr>\n",
    "  <tr>\n",
    "    <td>SERVS/Spitzer/IRAC\t\t</td>\n",
    "    <td>IRAC12</td>\n",
    "    <td>dmu0_DataFusion-Spitzer</td>\n",
    "    <td></td>\n",
    "  </tr>\n",
    "  <tr>\n",
    "    <td>PS1 3PSS/Pan-STARRS1</td>\n",
    "    <td>grizy</td>\n",
    "    <td>dmu0_PanSTARRS1-3SS</td>\n",
    "    <td></td>\n",
    "  </tr>\n",
    "  <tr>\n",
    "    <td>PS1 MDS/Pan-STARRS1</td>\n",
    "    <td>grizy</td>\n",
    "    <td></td>\n",
    "    <td>Awaiting release...</td>\n",
    "  </tr>\n",
    "  <tr>\n",
    "    <td>SpARCS/CFHT/MegaCam</td>\n",
    "    <td></td>\n",
    "    <td>dmu0_SpARCS</td>\n",
    "    <td></td>\n",
    "  </tr>\n",
    "  <tr>\n",
    "    <td>INT/WFC\t\t\t\t</td>\n",
    "    <td>u,g,r,i,z</td>\n",
    "    <td>dmu0_INTWFC</td>\n",
    "    <td></td>\n",
    "  </tr>\n",
    "</table>"
   ]
  },
  {
   "cell_type": "code",
   "execution_count": 1,
   "metadata": {
    "collapsed": false
   },
   "outputs": [
    {
     "name": "stdout",
     "output_type": "stream",
     "text": [
      "This notebook was run with herschelhelp_internal version: \n",
      "7452f47 (Thu Mar 23 14:08:22 2017 +0000)\n"
     ]
    }
   ],
   "source": [
    "from herschelhelp_internal import git_version\n",
    "print(\"This notebook was run with herschelhelp_internal version: \\n{}\".format(git_version()))"
   ]
  },
  {
   "cell_type": "code",
   "execution_count": 2,
   "metadata": {
    "collapsed": false
   },
   "outputs": [
    {
     "name": "stderr",
     "output_type": "stream",
     "text": [
      "/Users/rs548/anaconda/envs/herschelhelp_internal/lib/python3.6/site-packages/IPython/html.py:14: ShimWarning: The `IPython.html` package has been deprecated since IPython 4.0. You should import from `notebook` instead. `IPython.html.widgets` has moved to `ipywidgets`.\n",
      "  \"`IPython.html.widgets` has moved to `ipywidgets`.\", ShimWarning)\n"
     ]
    }
   ],
   "source": [
    "%matplotlib inline\n",
    "#%config InlineBackend.figure_format = 'svg'\n",
    "\n",
    "import matplotlib.pyplot as plt\n",
    "plt.rc('figure', figsize=(10, 6))\n",
    "\n",
    "from astropy.table import Column, Table\n",
    "from astropy import units as u\n",
    "from astropy.coordinates import SkyCoord\n",
    "import numpy as np\n",
    "import seaborn as sns\n",
    "from pymoc import MOC\n",
    "from matplotlib_venn import venn3\n",
    "\n",
    "from herschelhelp_internal import flagging, utils, masterlist"
   ]
  },
  {
   "cell_type": "code",
   "execution_count": 3,
   "metadata": {
    "collapsed": false
   },
   "outputs": [
    {
     "data": {
      "text/plain": [
       "'en_GB'"
      ]
     },
     "execution_count": 3,
     "metadata": {},
     "output_type": "execute_result"
    }
   ],
   "source": [
    "import locale\n",
    "locale.setlocale(locale.LC_ALL, 'en_GB')"
   ]
  },
  {
   "cell_type": "code",
   "execution_count": 4,
   "metadata": {
    "collapsed": true
   },
   "outputs": [],
   "source": [
    "import logging\n",
    "logger = logging.getLogger()\n",
    "logger.setLevel(logging.INFO)"
   ]
  },
  {
   "cell_type": "markdown",
   "metadata": {},
   "source": [
    "## I - Pristine catalogues preparation\n",
    "\n",
    "### I.a - Isaac Newton Telescope / Wide Field Camera (INT/WFC)\n",
    "\n",
    "Isaac Newton Telescope / Wide Field Camera (INT/WFC) catalogue: the catalogue comes from `dmu0_INTWFC`.\n",
    "\n",
    "In the catalogue, we keep:\n",
    "\n",
    "- The identifier (it's unique in the catalogue);\n",
    "- The position;\n",
    "- The stellarity;\n",
    "- The magnitude for each band in aperture 4 ($1.2 * \\sqrt{2}$ arcsec = 1.7 arcsec).\n",
    "    TODO: Replace this with the 3 arcsec one under recomendation of Mattia.\n",
    "- The kron magnitude to be used as total magnitude (no “auto” magnitude is provided).\n",
    "\n",
    "We don't know when the maps have been observed. We will use the year of the reference paper."
   ]
  },
  {
   "cell_type": "code",
   "execution_count": null,
   "metadata": {
    "collapsed": true
   },
   "outputs": [],
   "source": [
    "wfc = Table.read(\"../../dmu0/dmu0_INTWFC/data/lh_intwfc_v2.1_HELP_coverage.fits\")[\n",
    "    'id', 'ra', 'decl', 'pstar',     \n",
    "    'umag4', 'uemag4', 'ukronmag', 'uekronmag',\n",
    "    'gmag4', 'gemag4', 'gkronmag', 'gekronmag',\n",
    "    'rmag4', 'remag4', 'rkronmag', 'rekronmag',\n",
    "    'imag4', 'iemag4', 'ikronmag', 'iekronmag',\n",
    "    'zmag4', 'zemag4', 'zkronmag', 'zekronmag']\n",
    "wfc = Table(wfc.as_array(), names=[\n",
    "    'wfc_id', 'wfc_ra', 'wfc_dec', 'wfc_stellarity',\n",
    "    'm_app_wfc_u', 'merr_app_wfc_u', 'm_wfc_u', 'merr_wfc_u',\n",
    "    'm_app_wfc_g', 'merr_app_wfc_g', 'm_wfc_g', 'merr_wfc_g',\n",
    "    'm_app_wfc_r', 'merr_app_wfc_r', 'm_wfc_r', 'merr_wfc_r',\n",
    "    'm_app_wfc_i', 'merr_app_wfc_i', 'm_wfc_i', 'merr_wfc_i',\n",
    "    'm_app_wfc_z', 'merr_app_wfc_z', 'm_wfc_z', 'merr_wfc_z',\n",
    "])\n",
    "wfc_epoch = 2011\n",
    "wfc_moc = MOC(filename=\"../../dmu0/dmu0_INTWFC/data/lh_intwfc_v2.1_HELP_coverage_MOC.fits\")\n",
    "\n",
    "# Adding flux and band-flag columns\n",
    "for col in wfc.colnames:\n",
    "    if col.startswith('m_'):\n",
    "        \n",
    "        errcol = \"merr{}\".format(col[1:])\n",
    "        flux, error = utils.mag_to_flux(np.array(wfc[col]), np.array(wfc[errcol]))\n",
    "\n",
    "        # Fluxes are added in µJy\n",
    "        wfc.add_column(Column(flux * 1.e6, name=\"f{}\".format(col[1:])))\n",
    "        wfc.add_column(Column(error * 1.e6, name=\"f{}\".format(errcol[1:])))\n",
    "        \n",
    "        # Band-flag column\n",
    "        wfc.add_column(Column(np.zeros(len(wfc), dtype=bool), name=\"flag{}\".format(col[1:])))\n",
    "        \n",
    "# TODO: Set to True the flag columns for fluxes that should not be used for SED fitting."
   ]
  },
  {
   "cell_type": "code",
   "execution_count": null,
   "metadata": {
    "collapsed": true
   },
   "outputs": [],
   "source": [
    "wfc[:10].show_in_notebook()"
   ]
  },
  {
   "cell_type": "markdown",
   "metadata": {},
   "source": [
    "### I.b - UKIRT Infrared Deep Sky Survey / Deep Extragalactic Survey (UKIDSS/DXS)\n",
    "\n",
    "The catalogue was provided by Eduardo from an extraction made by Mattia. The catalogue is quite different from what can be extracted from the UKIDSS database (FIXME: Mattia to explain why). The descriptions of the columns of the DXS table in the UKIDSS database is available there: http://horus.roe.ac.uk/wsa/www/WSA_TABLE_dxsSourceSchema.html. It is stored in `dmu0_UKIDSS-DXS`.\n",
    "\n",
    "In the catalogue, we keep:\n",
    "\n",
    "- The identifier (it's unique in the catalogue);\n",
    "- The position;\n",
    "- The stellarity;\n",
    "- The magnitude for each band in apertude 3 (2 arcsec).\n",
    "- The kron magnitude to be used as total magnitude (no “auto” magnitude is provided).\n",
    "\n",
    "The catalogue has been cross-matched with 2MASS catalogue to check that the magnitudes are AB ones.\n",
    "\n",
    "A query to the UKIDSS database with 242.9+55.071 position returns a list of images taken between 2007 and 2009. Let's take 2008 for the epoch.\n"
   ]
  },
  {
   "cell_type": "code",
   "execution_count": null,
   "metadata": {
    "collapsed": true
   },
   "outputs": [],
   "source": [
    "dxs = Table.read(\"../../dmu0/dmu0_ELAIS-N1_DXS/data/en1_ukidss_dr10plus_merged_HELP_coverage.fits\")[\n",
    "    'sourceid', 'RA', 'Dec', 'PSTAR',     \n",
    "    'JAPERMAG3', 'JAPERMAG3ERR', 'JKRONMAG', 'JKRONMAGERR',\n",
    "    'HAPERMAG3', 'HAPERMAG3ERR', 'HKRONMAG', 'HKRONMAGERR',\n",
    "    'KAPERMAG3', 'KAPERMAG3ERR', 'KKRONMAG', 'KKRONMAGERR']\n",
    "dxs = Table(dxs.as_array(), names=[\n",
    "    'dxs_id', 'dxs_ra', 'dxs_dec', 'dxs_stellarity',\n",
    "    'm_app_ukidss_j', 'merr_app_ukidss_j', 'm_ukidss_j', 'merr_ukidss_j',\n",
    "    'm_app_ukidss_h', 'merr_app_ukidss_h', 'm_ukidss_h', 'merr_ukidss_h',\n",
    "    'm_app_ukidss_k', 'merr_app_ukidss_k', 'm_ukidss_k', 'merr_ukidss_k'\n",
    "])\n",
    "dxs_epoch = 2008\n",
    "dxs_moc = MOC(filename=\"../../dmu0/dmu0_ELAIS-N1_DXS/data/en1_ukidss_dr10plus_merged_HELP_coverage_MOC.fits\")\n",
    "\n",
    "# Adding flux and band-flag columns\n",
    "for col in dxs.colnames:\n",
    "    if col.startswith('m_'):\n",
    "        errcol = \"merr{}\".format(col[1:])\n",
    "        \n",
    "        # DXS uses a huge negative number for missing values\n",
    "        dxs[col][dxs[col] < -100] = np.nan\n",
    "        dxs[errcol][dxs[errcol] < -100] = np.nan\n",
    "        \n",
    "        flux, error = utils.mag_to_flux(np.array(dxs[col]), np.array(dxs[errcol]))\n",
    "\n",
    "        # Fluxes are added in µJy\n",
    "        dxs.add_column(Column(flux * 1.e6, name=\"f{}\".format(col[1:])))\n",
    "        dxs.add_column(Column(error * 1.e6, name=\"f{}\".format(errcol[1:])))\n",
    "        \n",
    "        # Band-flag column\n",
    "        dxs.add_column(Column(np.zeros(len(dxs), dtype=bool), name=\"flag{}\".format(col[1:])))\n",
    "        \n",
    "# TODO: Set to True the flag columns for fluxes that should not be used for SED fitting.        \n",
    "        "
   ]
  },
  {
   "cell_type": "code",
   "execution_count": null,
   "metadata": {
    "collapsed": true
   },
   "outputs": [],
   "source": [
    "dxs[:10].show_in_notebook()"
   ]
  },
  {
   "cell_type": "markdown",
   "metadata": {},
   "source": [
    "### I.c - Spitzer datafusion SERVS\n",
    "\n",
    "The Spitzer catalogues were produced by the datafusion team are available in the HELP virtual observatory server. They are described there: http://vohedamtest.lam.fr/browse/df_spitzer/q.\n",
    "\n",
    "Lucia told Yannick that the magnitudes are aperture corrected.\n",
    "\n",
    "In the catalouge, we keep:\n",
    "\n",
    "- The internal identifier (this one is only in HeDaM data);\n",
    "- The position;\n",
    "- The fluxes in aperture 2 (1.9 arcsec);\n",
    "- The “auto” flux (which seems to be the Kron flux);\n",
    "- The stellarity in each band\n",
    "\n",
    "A query of the position in the Spitzer heritage archive show that the SERVS-ELAIS-N1 images were observed in 2009. Let's take this as epoch."
   ]
  },
  {
   "cell_type": "code",
   "execution_count": null,
   "metadata": {
    "collapsed": true
   },
   "outputs": [],
   "source": [
    "servs = Table.read(\"../../dmu0/dmu0_DataFusion-Spitzer/data/DF-SERVS_ELAIS-N1.fits\")[\n",
    "    'internal_id', 'ra_12', 'dec_12',   \n",
    "    'flux_aper_2_1', 'fluxerr_aper_2_1', 'flux_auto_1', 'fluxerr_auto_1', 'class_star_1',\n",
    "    'flux_aper_2_2', 'fluxerr_aper_2_2', 'flux_auto_2', 'fluxerr_auto_2', 'class_star_2']\n",
    "\n",
    "servs = Table(servs.as_array(), names=[\n",
    "    'servs_intid', 'servs_ra', 'servs_dec',\n",
    "    'f_app_servs_irac1', 'ferr_app_servs_irac1', 'f_servs_irac1', 'ferr_servs_irac1', 'servs_stellarity_irac1',\n",
    "    'f_app_servs_irac2', 'ferr_app_servs_irac2', 'f_servs_irac2', 'ferr_servs_irac2', 'servs_stellarity_irac2'\n",
    "])\n",
    "servs_epoch = 2009\n",
    "servs_moc = MOC(filename=\"../../dmu0/dmu0_DataFusion-Spitzer/data/DF-SERVS_ELAIS-N1_MOC.fits\")\n",
    "\n",
    "# Adding magnitude and band-flag columns\n",
    "for col in servs.colnames:\n",
    "    if col.startswith('f_'):\n",
    "        errcol = \"ferr{}\".format(col[1:])\n",
    "        \n",
    "        magnitude, error = utils.flux_to_mag(\n",
    "            np.array(servs[col])/1.e6, np.array(servs[errcol])/1.e6)\n",
    "        # Note that some fluxes are 0.\n",
    "        \n",
    "        servs.add_column(Column(magnitude, name=\"m{}\".format(col[1:])))\n",
    "        servs.add_column(Column(error, name=\"m{}\".format(errcol[1:])))\n",
    "        \n",
    "        # Band-flag column\n",
    "        servs.add_column(Column(np.zeros(len(servs), dtype=bool), name=\"flag{}\".format(col[1:])))\n",
    "        \n",
    "# TODO: Set to True the flag columns for fluxes that should not be used for SED fitting."
   ]
  },
  {
   "cell_type": "code",
   "execution_count": null,
   "metadata": {
    "collapsed": true
   },
   "outputs": [],
   "source": [
    "servs[:10].show_in_notebook()"
   ]
  },
  {
   "cell_type": "markdown",
   "metadata": {},
   "source": [
    "### I.d - Spitzer datafusion SWIRE\n",
    "\n",
    "The Spitzer catalogues were produced by the datafusion team are available in the HELP virtual observatory server. They are described there: http://vohedamtest.lam.fr/browse/df_spitzer/q.\n",
    "\n",
    "Lucia told that the magnitudes are aperture corrected.\n",
    "\n",
    "In the catalouge, we keep:\n",
    "\n",
    "We keep:\n",
    "- The internal identifier (this one is only in HeDaM data);\n",
    "- The position;\n",
    "- The fluxes in aperture 2 (1.9 arcsec) for IRAC bands.\n",
    "- The Kron flux;\n",
    "- The stellarity in each band\n",
    "\n",
    "A query of the position in the Spitzer heritage archive show that the ELAIS-N1 images were observed in 2004. Let's take this as epoch.\n",
    "\n",
    "We do not use the MIPS fluxes as they will be extracted on MIPS maps using XID+."
   ]
  },
  {
   "cell_type": "code",
   "execution_count": null,
   "metadata": {
    "collapsed": true
   },
   "outputs": [],
   "source": [
    "swire = Table.read(\"../../dmu0/dmu0_DataFusion-Spitzer/data/DF-SWIRE_Lockman-SWIRE.fits\")[\n",
    "    'internal_id', 'ra_spitzer', 'dec_spitzer',      \n",
    "    'flux_ap2_36', 'uncf_ap2_36', 'flux_kr_36', 'uncf_kr_36', 'stell_36',\n",
    "    'flux_ap2_45', 'uncf_ap2_45', 'flux_kr_45', 'uncf_kr_45', 'stell_45',\n",
    "    'flux_ap2_58', 'uncf_ap2_58', 'flux_kr_58', 'uncf_kr_58', 'stell_58',\n",
    "    'flux_ap2_80', 'uncf_ap2_80', 'flux_kr_80', 'uncf_kr_80', 'stell_80']\n",
    "\n",
    "swire = Table(swire.as_array(), names=[\n",
    "    'swire_intid', 'swire_ra', 'swire_dec',\n",
    "    'f_app_swire_irac1', 'ferr_app_swire_irac1', 'f_swire_irac1', 'ferr_swire_irac1', 'swire_stellarity_irac1',\n",
    "    'f_app_swire_irac2', 'ferr_app_swire_irac2', 'f_swire_irac2', 'ferr_swire_irac2', 'swire_stellarity_irac2',\n",
    "    'f_app_swire_irac3', 'ferr_app_swire_irac3', 'f_swire_irac3', 'ferr_swire_irac3', 'swire_stellarity_irac3',\n",
    "    'f_app_swire_irac4', 'ferr_app_swire_irac4', 'f_swire_irac4', 'ferr_swire_irac4', 'swire_stellarity_irac4'\n",
    "])\n",
    "swire_epoch = 2004\n",
    "swire_moc = MOC(filename=\"../../dmu0/dmu0_DataFusion-Spitzer/data/DF-SWIRE_Lockman-SWIRE_MOC.fits\")\n",
    "        \n",
    "# Adding magnitude and band-flag columns\n",
    "for col in swire.colnames:\n",
    "    if col.startswith('f_'):\n",
    "        errcol = \"ferr{}\".format(col[1:])\n",
    "        \n",
    "        magnitude, error = utils.flux_to_mag(\n",
    "            np.array(swire[col])/1.e6, np.array(swire[errcol])/1.e6)\n",
    "        # Note that some fluxes are 0.\n",
    "        \n",
    "        swire.add_column(Column(magnitude, name=\"m{}\".format(col[1:])))\n",
    "        swire.add_column(Column(error, name=\"m{}\".format(errcol[1:])))\n",
    "        \n",
    "        # Band-flag column\n",
    "        swire.add_column(Column(\n",
    "                np.zeros(len(swire), dtype=bool), name=\"flag{}\".format(col[1:])))\n",
    "        \n",
    "# TODO: Set to True the flag columns for fluxes that should not be used for SED fitting."
   ]
  },
  {
   "cell_type": "code",
   "execution_count": null,
   "metadata": {
    "collapsed": true
   },
   "outputs": [],
   "source": [
    "swire[:10].show_in_notebook()"
   ]
  },
  {
   "cell_type": "markdown",
   "metadata": {},
   "source": [
    "### I.e -  Spitzer Adaptation of the Red-sequence Cluster Survey (SpARCS)\n",
    "\n",
    "This catalogue comes from `dmu0_SpARCS`. Alexandru Tudorica confirmed that the magnitudes are AB ones and are not aperture corrected.\n",
    "\n",
    "In the catalogue, we keep:\n",
    "\n",
    "- The internal identifier (this one is only in HeDaM data);\n",
    "- The position;\n",
    "- The ugrz magnitudes in the 8th aperture (11×0.186=2.046 arcsec).\n",
    "- The \"auto\" magnitudes.\n",
    "\n",
    "Note that there are y band columns because we combined all the SpARCS data in HeDaM, but there is no y data for the ELAIS-N1 sources.\n",
    "\n",
    "The maps on the web page indicate they were observed in 2012 (or late 2011). Let's use 2012 as epoch.\n",
    "\n",
    "There is a second notebook `sparcs_aperture_correction.ipynb` detailing how we choose some values for the aperture correction."
   ]
  },
  {
   "cell_type": "code",
   "execution_count": null,
   "metadata": {
    "collapsed": true
   },
   "outputs": [],
   "source": [
    "AP_INDEX = 7  # Index of the aperture to keep (2.046 arcsec).\n",
    "\n",
    "# Index of the target aperture when doing aperture correction\n",
    "# (see 'sparcs_aperture_correction' notebook).\n",
    "AP_TARG_INDEX = {\n",
    "    'u': 15,\n",
    "    'g': 15,\n",
    "    'r': 15,\n",
    "    'z': 15\n",
    "}\n",
    "\n",
    "# Magnitude range for aperture correction (see 'sparcs_aperture_correction' notebook).\n",
    "APCOR_MAG_LIMITS = {\n",
    "    'u': (17., 22.),\n",
    "    'g': (17., 23.),\n",
    "    'r': (16., 23.),\n",
    "    'z': (16., 22.)\n",
    "}\n",
    "\n",
    "sparcs_epoch = 2012\n",
    "sparcs_moc = MOC(filename=\"../../dmu0/dmu0_SpARCS/data/SpARCS_HELP_Lockman-SWIRE_MOC.fits\")\n",
    "\n",
    "sparcs_tmp = Table.read(\"../../dmu0/dmu0_SpARCS/data/SpARCS_HELP_Lockman-SWIRE.fits\")[\n",
    "    'internal_id', 'ALPHA_J2000', 'DELTA_J2000', 'CLASS_STAR',      \n",
    "    'MAG_APER_r', 'MAGERR_APER_r', 'MAG_AUTO_r', 'MAGERR_AUTO_r',\n",
    "    'MAG_APER_u', 'MAGERR_APER_u', 'MAG_AUTO_u', 'MAGERR_AUTO_u',\n",
    "    'MAG_APER_g', 'MAGERR_APER_g', 'MAG_AUTO_g', 'MAGERR_AUTO_g',\n",
    "    'MAG_APER_z', 'MAGERR_APER_z', 'MAG_AUTO_z', 'MAGERR_AUTO_z']\n",
    "\n",
    "sparcs = Table(\n",
    "    data = sparcs_tmp['internal_id', 'ALPHA_J2000', 'DELTA_J2000', 'CLASS_STAR'],\n",
    "    names = ['sparcs_intid', 'sparcs_ra', 'sparcs_dec', 'sparcs_stellarity'])\n",
    "\n",
    "for band in ['u', 'g', 'r', 'z']:\n",
    "    \n",
    "    # Aperture magnitudes\n",
    "    mag_aper = sparcs_tmp[\"MAG_APER_{}\".format(band)][:, AP_INDEX]\n",
    "    mag_aper_target = sparcs_tmp[\"MAG_APER_{}\".format(band)][:, AP_TARG_INDEX[band]]\n",
    "    magerr_aper = sparcs_tmp[\"MAGERR_APER_{}\".format(band)][:, AP_INDEX]\n",
    "    \n",
    "    # Set bad values (99.0) to NaN\n",
    "    mask = (mag_aper > 90) | (mag_aper_target > 90) | (magerr_aper > 90)\n",
    "    mag_aper[mask] = np.nan\n",
    "    mag_aper_target[mask] = np.nan\n",
    "    magerr_aper[mask] = np.nan\n",
    "    \n",
    "    # Aperture correction\n",
    "    mag_diff, num, std = utils.aperture_correction(\n",
    "        mag_aper, mag_aper_target, sparcs['sparcs_stellarity'],\n",
    "        mag_min=APCOR_MAG_LIMITS[band][0], mag_max=APCOR_MAG_LIMITS[band][1]\n",
    "        )\n",
    "    print(\"Aperture correction for SpARCS band {}:\".format(band))\n",
    "    print(\"Difference: {}\".format(mag_diff))\n",
    "    print(\"Number of source used: {}\".format(num))\n",
    "    print(\"RMS: {}\".format(std))\n",
    "    print(\"\")\n",
    "    mag_aper += mag_diff\n",
    "    \n",
    "    sparcs.add_column(Column(\n",
    "        data = mag_aper.data,\n",
    "        name = \"m_app_cfht_megacam_{}\".format(band)\n",
    "    ))\n",
    "    sparcs.add_column(Column(\n",
    "        data = magerr_aper.data,\n",
    "        name = \"merr_app_cfht_megacam_{}\".format(band)\n",
    "    ))\n",
    "    \n",
    "    # Computing the aperture flux columns\n",
    "    flux_aper, fluxerr_aper = utils.mag_to_flux(mag_aper.data, magerr_aper.data)\n",
    "    \n",
    "    sparcs.add_column(Column(\n",
    "        data = flux_aper * 1.e6,\n",
    "        name = \"f_app_cfht_megacam_{}\".format(band)\n",
    "    ))\n",
    "    sparcs.add_column(Column(\n",
    "        data = fluxerr_aper * 1.e6,\n",
    "        name = \"ferr_app_cfht_megacam_{}\".format(band)\n",
    "    ))\n",
    "    \n",
    "    # Auto magnitudes\n",
    "    mag_auto = sparcs_tmp[\"MAG_AUTO_{}\".format(band)]\n",
    "    magerr_auto = sparcs_tmp[\"MAGERR_AUTO_{}\".format(band)]\n",
    "    \n",
    "    # Set bad values (99.0) to NaN\n",
    "    mask = (mag_auto > 90) | (magerr_auto > 90)\n",
    "    mag_auto[mask] = np.nan\n",
    "    magerr_auto[mask] = np.nan    \n",
    "    \n",
    "    sparcs.add_column(Column(\n",
    "        data = mag_auto,\n",
    "        name = \"m_cfht_megacam_{}\".format(band)\n",
    "    ))\n",
    "    sparcs.add_column(Column(\n",
    "        data = magerr_auto,\n",
    "        name = \"merr_cfht_megacam_{}\".format(band)\n",
    "    ))\n",
    "    \n",
    "    # Computing the flux columns\n",
    "    flux, fluxerr = utils.mag_to_flux(mag_auto, magerr_auto)\n",
    "    \n",
    "    sparcs.add_column(Column(\n",
    "        data = flux * 1.e6,\n",
    "        name = \"f_cfht_megacam_{}\".format(band)\n",
    "    ))\n",
    "    sparcs.add_column(Column(\n",
    "        data = fluxerr * 1.e6,\n",
    "        name = \"ferr_cfht_megacam_{}\".format(band)\n",
    "    ))\n",
    "    \n",
    "    # Band-flag column\n",
    "    sparcs.add_column(Column(np.zeros(len(sparcs), dtype=bool), \n",
    "                             name=\"flag_cfht_megacam_{}\".format(band)\n",
    "    ))\n",
    "        \n",
    "# TODO: Set to True the flag columns for fluxes that should not be used for SED fitting."
   ]
  },
  {
   "cell_type": "code",
   "execution_count": null,
   "metadata": {
    "collapsed": true
   },
   "outputs": [],
   "source": [
    "sparcs[:10].show_in_notebook()"
   ]
  },
  {
   "cell_type": "markdown",
   "metadata": {},
   "source": [
    "### I.e -  Pan-STARRS1 telescope PS1 3PSS survey\n",
    "\n",
    "This catalogue comes from `dmu0_PanSTARRS1-3SS`. \n",
    "\n",
    "In the catalogue, we keep: ?????\n",
    "\n",
    "- The internal identifier (this one is only in HeDaM data);\n",
    "- The position;\n",
    "- The ugrz magnitudes in the 8th aperture (11×0.186=2.046 arcsec).\n",
    "- The \"auto\" magnitudes.\n",
    "\n",
    "Epoch?\n",
    "\n"
   ]
  },
  {
   "cell_type": "code",
   "execution_count": null,
   "metadata": {
    "collapsed": true
   },
   "outputs": [],
   "source": [
    "#TODO - Everything!\n",
    "panstarrs = Table.read(\"../../dmu0/dmu0_PanSTARRS1-3SS/data/PanSTARRS1-3SS_Lockman-SWIRE.fits\")[\n",
    "    'internal_id', 'ra_12', 'dec_12',   \n",
    "    'flux_aper_2_1', 'fluxerr_aper_2_1', 'flux_auto_1', 'fluxerr_auto_1', 'class_star_1',\n",
    "    'flux_aper_2_2', 'fluxerr_aper_2_2', 'flux_auto_2', 'fluxerr_auto_2', 'class_star_2']\n",
    "\n",
    "panstarrs = Table(servs.as_array(), names=[\n",
    "    'servs_intid', 'servs_ra', 'servs_dec',\n",
    "    'f_app_servs_irac1', 'ferr_app_servs_irac1', 'f_servs_irac1', 'ferr_servs_irac1', 'servs_stellarity_irac1',\n",
    "    'f_app_servs_irac2', 'ferr_app_servs_irac2', 'f_servs_irac2', 'ferr_servs_irac2', 'servs_stellarity_irac2'\n",
    "])\n",
    "panstarrs_epoch = 2009 \n",
    "panstarrs_moc = MOC(filename=\"../../dmu0/dmu0_DataFusion-Spitzer/data/DF-SERVS_ELAIS-N1_MOC.fits\")\n",
    "\n",
    "# Adding magnitude and band-flag columns\n",
    "for col in panstarrs.colnames:\n",
    "    if col.startswith('f_'):\n",
    "        errcol = \"ferr{}\".format(col[1:])\n",
    "        \n",
    "        magnitude, error = utils.flux_to_mag(\n",
    "            np.array(servs[col])/1.e6, np.array(servs[errcol])/1.e6)\n",
    "        # Note that some fluxes are 0.\n",
    "        \n",
    "        servs.add_column(Column(magnitude, name=\"m{}\".format(col[1:])))\n",
    "        servs.add_column(Column(error, name=\"m{}\".format(errcol[1:])))\n",
    "        \n",
    "        # Band-flag column\n",
    "        servs.add_column(Column(np.zeros(len(servs), dtype=bool), name=\"flag{}\".format(col[1:])))\n",
    "        \n",
    "# TODO: Set to True the flag columns for fluxes that should not be used for SED fitting."
   ]
  },
  {
   "cell_type": "code",
   "execution_count": null,
   "metadata": {
    "collapsed": true
   },
   "outputs": [],
   "source": [
    "panstarrs[:10].show_in_notebook()"
   ]
  },
  {
   "cell_type": "markdown",
   "metadata": {
    "collapsed": true
   },
   "source": [
    "## II - Removal of duplicated sources\n"
   ]
  },
  {
   "cell_type": "code",
   "execution_count": null,
   "metadata": {
    "collapsed": true
   },
   "outputs": [],
   "source": [
    "nb_wfc_orig = len(wfc)\n",
    "wfc = masterlist.remove_duplicates(\n",
    "    wfc, 'wfc_ra', 'wfc_dec', \n",
    "    sort_col=['merr_app_wfc_r', 'merr_app_wfc_u', 'merr_app_wfc_g', 'merr_app_wfc_z'],\n",
    "    flag_name='wfc_flag_cleaned')\n",
    "nb_wfc = len(wfc)\n",
    "print(\"WFC initial catalogue as {} sources.\".format(nb_wfc_orig))\n",
    "print(\"WFC cleaned catalogue as {} sources ({} removed).\".format(nb_wfc, nb_wfc_orig - nb_wfc))\n",
    "print(\"WFC has {} sources flagged as having been cleaned\".format(np.sum(wfc['wfc_flag_cleaned'])))"
   ]
  },
  {
   "cell_type": "code",
   "execution_count": null,
   "metadata": {
    "collapsed": true
   },
   "outputs": [],
   "source": [
    "nb_dxs_orig = len(dxs)\n",
    "dxs = masterlist.remove_duplicates(\n",
    "    dxs, 'dxs_ra', 'dxs_dec', \n",
    "    sort_col=['merr_app_ukidss_j', 'merr_app_ukidss_h', 'merr_app_ukidss_k'],\n",
    "    flag_name='dxs_flag_cleaned')\n",
    "nb_dxs = len(dxs)\n",
    "print(\"DXS initial catalogue as {} sources.\".format(nb_dxs_orig))\n",
    "print(\"DXS cleaned catalogue as {} sources ({} removed).\".format(nb_dxs, nb_dxs_orig - nb_dxs))\n",
    "print(\"DXS has {} sources flagged as having been cleaned\".format(np.sum(dxs['dxs_flag_cleaned'])))"
   ]
  },
  {
   "cell_type": "code",
   "execution_count": null,
   "metadata": {
    "collapsed": true
   },
   "outputs": [],
   "source": [
    "nb_servs_orig = len(servs)\n",
    "servs = masterlist.remove_duplicates(\n",
    "    servs, 'servs_ra', 'servs_dec', \n",
    "    sort_col=['ferr_app_servs_irac1', 'ferr_app_servs_irac2'],\n",
    "    flag_name='servs_flag_cleaned')\n",
    "nb_servs = len(servs)\n",
    "print(\"SERVS initial catalogue as {} sources.\".format(nb_servs_orig))\n",
    "print(\"SERVS cleaned catalogue as {} sources ({} removed).\".format(nb_servs, nb_servs_orig - nb_servs))\n",
    "print(\"SERVS has {} sources flagged as having been cleaned\".format(np.sum(servs['servs_flag_cleaned'])))"
   ]
  },
  {
   "cell_type": "code",
   "execution_count": null,
   "metadata": {
    "collapsed": true
   },
   "outputs": [],
   "source": [
    "nb_swire_orig = len(swire)\n",
    "swire = masterlist.remove_duplicates(\n",
    "    swire, 'swire_ra', 'swire_dec', \n",
    "    sort_col=['ferr_app_swire_irac1', 'ferr_app_swire_irac2', \n",
    "              'ferr_app_swire_irac3', 'ferr_app_swire_irac4'],\n",
    "    flag_name='swire_flag_cleaned')\n",
    "nb_swire = len(swire)\n",
    "print(\"SWIRE initial catalogue as {} sources.\".format(nb_swire_orig))\n",
    "print(\"SWIRE cleaned catalogue as {} sources ({} removed).\".format(nb_swire, nb_swire_orig - nb_swire))\n",
    "print(\"SWIRE has {} sources flagged as having been cleaned\".format(np.sum(swire['swire_flag_cleaned'])))"
   ]
  },
  {
   "cell_type": "code",
   "execution_count": null,
   "metadata": {
    "collapsed": true
   },
   "outputs": [],
   "source": [
    "nb_sparcs_orig = len(sparcs)\n",
    "sparcs = masterlist.remove_duplicates(\n",
    "    sparcs, 'sparcs_ra', 'sparcs_dec', \n",
    "    sort_col=['merr_app_cfht_megacam_r', 'merr_app_cfht_megacam_u',\n",
    "              'merr_app_cfht_megacam_g', 'merr_app_cfht_megacam_z'],\n",
    "    flag_name='sparcs_flag_cleaned')\n",
    "nb_sparcs = len(sparcs)\n",
    "print(\"SpARCS initial catalogue as {} sources.\".format(nb_sparcs_orig))\n",
    "print(\"SpARCS cleaned catalogue as {} sources ({} removed).\".format(nb_sparcs, nb_sparcs_orig - nb_sparcs))\n",
    "print(\"SpARCS has {} sources flagged as having been cleaned\".format(np.sum(sparcs['sparcs_flag_cleaned'])))"
   ]
  },
  {
   "cell_type": "code",
   "execution_count": null,
   "metadata": {
    "collapsed": true
   },
   "outputs": [],
   "source": [
    "nb_panstarrs_orig = len(panstarrs)\n",
    "panstarrs = masterlist.remove_duplicates(\n",
    "    panstarrs, 'panstarrs_ra', 'panstarrs_dec', \n",
    "    sort_col=['merr_app_panstarrs_g', \n",
    "              'merr_app_panstarrs_r',\n",
    "              'merr_app_panstarrs_i', \n",
    "              'merr_app_panstarrs_z', \n",
    "              'merr_app_panstarrs_y'],\n",
    "    flag_name='panstarrs_flag_cleaned')\n",
    "nb_panstarrs = len(panstarrs)\n",
    "print(\"PanSTARRS initial catalogue as {} sources.\".format(nb_panstarrs_orig))\n",
    "print(\"PanSTARRS cleaned catalogue as {} sources ({} removed).\".format(nb_panstarrs, nb_panstarrs_orig - nb_panstarrs))\n",
    "print(\"PanSTARRS has {} sources flagged as having been cleaned\".format(np.sum(panstarrs['panstarrs_flag_cleaned'])))"
   ]
  },
  {
   "cell_type": "markdown",
   "metadata": {},
   "source": [
    "## III - Astrometry correction\n",
    "\n",
    "We match the astrometry to the Gaia one. We limit the Gaia catalogue to sources with a g band flux between the 30th and the 70th percentile. Some quick tests show that this give the lower dispersion in the results."
   ]
  },
  {
   "cell_type": "code",
   "execution_count": null,
   "metadata": {
    "collapsed": true
   },
   "outputs": [],
   "source": [
    "gaia = Table.read(\"../../dmu0/dmu0_GAIA/data/GAIA_ELAIS-N1.fits\")\n",
    "gaia_coords = SkyCoord(gaia['ra'], gaia['dec'])"
   ]
  },
  {
   "cell_type": "code",
   "execution_count": null,
   "metadata": {
    "collapsed": true
   },
   "outputs": [],
   "source": [
    "masterlist.nb_astcor_diag_plot(\n",
    "    wfc['wfc_ra'], wfc['wfc_dec'], gaia_coords.ra, gaia_coords.dec)"
   ]
  },
  {
   "cell_type": "code",
   "execution_count": null,
   "metadata": {
    "collapsed": true
   },
   "outputs": [],
   "source": [
    "wfc_delta_ra, wfc_delta_dec = utils.astrometric_correction(\n",
    "    SkyCoord(wfc['wfc_ra'], wfc['wfc_dec']),\n",
    "    gaia_coords\n",
    ")\n",
    "wfc['wfc_ra'] += wfc_delta_ra.to(u.deg)\n",
    "wfc['wfc_dec'] += wfc_delta_dec.to(u.deg)\n",
    "\n",
    "print(\"WFC delta RA / delta Dec: {} / {}\".format(wfc_delta_ra, wfc_delta_dec))"
   ]
  },
  {
   "cell_type": "code",
   "execution_count": null,
   "metadata": {
    "collapsed": true
   },
   "outputs": [],
   "source": [
    "masterlist.nb_astcor_diag_plot(\n",
    "    dxs['dxs_ra'], dxs['dxs_dec'], gaia_coords.ra, gaia_coords.dec)"
   ]
  },
  {
   "cell_type": "code",
   "execution_count": null,
   "metadata": {
    "collapsed": true
   },
   "outputs": [],
   "source": [
    "dxs_delta_ra, dxs_delta_dec = utils.astrometric_correction(\n",
    "    SkyCoord(dxs['dxs_ra'], dxs['dxs_dec']),\n",
    "    gaia_coords\n",
    ")\n",
    "dxs['dxs_ra'] += dxs_delta_ra.to(u.deg)\n",
    "dxs['dxs_dec'] += dxs_delta_dec.to(u.deg)\n",
    "\n",
    "print(\"DXS delta RA / delta Dec: {} / {}\".format(dxs_delta_ra, dxs_delta_dec))"
   ]
  },
  {
   "cell_type": "code",
   "execution_count": null,
   "metadata": {
    "collapsed": true
   },
   "outputs": [],
   "source": [
    "masterlist.nb_astcor_diag_plot(\n",
    "    servs['servs_ra'], servs['servs_dec'], gaia_coords.ra, gaia_coords.dec)"
   ]
  },
  {
   "cell_type": "code",
   "execution_count": null,
   "metadata": {
    "collapsed": true
   },
   "outputs": [],
   "source": [
    "servs_delta_ra, servs_delta_dec = utils.astrometric_correction(\n",
    "    SkyCoord(servs['servs_ra'], servs['servs_dec']),\n",
    "    gaia_coords\n",
    ")\n",
    "servs['servs_ra'] += servs_delta_ra.to(u.deg)\n",
    "servs['servs_dec'] += servs_delta_dec.to(u.deg)\n",
    "\n",
    "print(\"SERVS delta RA / delta Dec: {} / {}\".format(servs_delta_ra, servs_delta_dec))"
   ]
  },
  {
   "cell_type": "code",
   "execution_count": null,
   "metadata": {
    "collapsed": true
   },
   "outputs": [],
   "source": [
    "masterlist.nb_astcor_diag_plot(\n",
    "    swire['swire_ra'], swire['swire_dec'], gaia_coords.ra, gaia_coords.dec)"
   ]
  },
  {
   "cell_type": "code",
   "execution_count": null,
   "metadata": {
    "collapsed": true
   },
   "outputs": [],
   "source": [
    "swire_delta_ra, swire_delta_dec = utils.astrometric_correction(\n",
    "    SkyCoord(swire['swire_ra'], swire['swire_dec']),\n",
    "    gaia_coords\n",
    ")\n",
    "swire['swire_ra'] += swire_delta_ra.to(u.deg)\n",
    "swire['swire_dec'] += swire_delta_dec.to(u.deg)\n",
    "\n",
    "print(\"SWIRE delta RA / delta Dec: {} / {}\".format(swire_delta_ra, swire_delta_dec))"
   ]
  },
  {
   "cell_type": "code",
   "execution_count": null,
   "metadata": {
    "collapsed": true
   },
   "outputs": [],
   "source": [
    "masterlist.nb_astcor_diag_plot(\n",
    "    sparcs['sparcs_ra'], sparcs['sparcs_dec'], gaia_coords.ra, gaia_coords.dec)"
   ]
  },
  {
   "cell_type": "code",
   "execution_count": null,
   "metadata": {
    "collapsed": true
   },
   "outputs": [],
   "source": [
    "sparcs_delta_ra, sparcs_delta_dec = utils.astrometric_correction(\n",
    "    SkyCoord(sparcs['sparcs_ra'], sparcs['sparcs_dec']),\n",
    "    gaia_coords\n",
    ")\n",
    "sparcs['sparcs_ra'] += sparcs_delta_ra.to(u.deg)\n",
    "sparcs['sparcs_dec'] += sparcs_delta_dec.to(u.deg)\n",
    "\n",
    "print(\"SpARCS delta RA / delta Dec: {} / {}\".format(sparcs_delta_ra, sparcs_delta_dec))"
   ]
  },
  {
   "cell_type": "code",
   "execution_count": null,
   "metadata": {
    "collapsed": true
   },
   "outputs": [],
   "source": [
    "masterlist.nb_astcor_diag_plot(\n",
    "    panstarrs['panstarrs_ra'], panstarrs['panstarrs_dec'], gaia_coords.ra, gaia_coords.dec)"
   ]
  },
  {
   "cell_type": "code",
   "execution_count": null,
   "metadata": {
    "collapsed": true
   },
   "outputs": [],
   "source": [
    "panstarrs_delta_ra, panstarrs_delta_dec = utils.astrometric_correction(\n",
    "    SkyCoord(panstarrs['panstarrs_ra'], panstarrs['panstarrs_dec']),\n",
    "    gaia_coords\n",
    ")\n",
    "panstarrs['panstarrs_ra'] += panstarrs_delta_ra.to(u.deg)\n",
    "panstarrs['panstarrs_dec'] += panstarrs_delta_dec.to(u.deg)\n",
    "\n",
    "print(\"PanSTARRS delta RA / delta Dec: {} / {}\".format(sparcs_delta_ra, sparcs_delta_dec))"
   ]
  },
  {
   "cell_type": "markdown",
   "metadata": {},
   "source": [
    "## IV - Flagging Gaia objects"
   ]
  },
  {
   "cell_type": "code",
   "execution_count": null,
   "metadata": {
    "collapsed": true
   },
   "outputs": [],
   "source": [
    "wfc.add_column(\n",
    "    flagging.gaia_flag_column(\n",
    "        SkyCoord(wfc['wfc_ra'], wfc['wfc_dec']),\n",
    "        wfc_epoch,\n",
    "        gaia\n",
    "    )\n",
    ")\n",
    "wfc['flag_gaia'].name = 'wfc_flag_gaia'\n",
    "print(\"{} sources flagged.\".format(np.sum(wfc['wfc_flag_gaia'] > 0)))"
   ]
  },
  {
   "cell_type": "code",
   "execution_count": null,
   "metadata": {
    "collapsed": true
   },
   "outputs": [],
   "source": [
    "dxs.add_column(\n",
    "    flagging.gaia_flag_column(\n",
    "        SkyCoord(dxs['dxs_ra'], dxs['dxs_dec']),\n",
    "        dxs_epoch,\n",
    "        gaia\n",
    "    )\n",
    ")\n",
    "dxs['flag_gaia'].name = 'dxs_flag_gaia'\n",
    "print(\"{} sources flagged.\".format(np.sum(dxs['dxs_flag_gaia'] > 0)))"
   ]
  },
  {
   "cell_type": "code",
   "execution_count": null,
   "metadata": {
    "collapsed": true
   },
   "outputs": [],
   "source": [
    "servs.add_column(\n",
    "    flagging.gaia_flag_column(\n",
    "        SkyCoord(servs['servs_ra'], servs['servs_dec']),\n",
    "        servs_epoch,\n",
    "        gaia\n",
    "    )\n",
    ")\n",
    "servs['flag_gaia'].name = 'servs_flag_gaia'\n",
    "print(\"{} sources flagged.\".format(np.sum(servs['servs_flag_gaia'] > 0)))"
   ]
  },
  {
   "cell_type": "code",
   "execution_count": null,
   "metadata": {
    "collapsed": true
   },
   "outputs": [],
   "source": [
    "swire.add_column(\n",
    "    flagging.gaia_flag_column(\n",
    "        SkyCoord(swire['swire_ra'], swire['swire_dec']),\n",
    "        swire_epoch,\n",
    "        gaia\n",
    "    )\n",
    ")\n",
    "swire['flag_gaia'].name = 'swire_flag_gaia'\n",
    "print(\"{} sources flagged.\".format(np.sum(swire['swire_flag_gaia'] > 0)))"
   ]
  },
  {
   "cell_type": "code",
   "execution_count": null,
   "metadata": {
    "collapsed": true
   },
   "outputs": [],
   "source": [
    "sparcs.add_column(\n",
    "    flagging.gaia_flag_column(\n",
    "        SkyCoord(sparcs['sparcs_ra'], sparcs['sparcs_dec']),\n",
    "        sparcs_epoch,\n",
    "        gaia\n",
    "    )\n",
    ")\n",
    "sparcs['flag_gaia'].name = 'sparcs_flag_gaia'\n",
    "print(\"{} sources flagged.\".format(np.sum(sparcs['sparcs_flag_gaia'] > 0)))"
   ]
  },
  {
   "cell_type": "code",
   "execution_count": null,
   "metadata": {
    "collapsed": true
   },
   "outputs": [],
   "source": [
    "panstarrs.add_column(\n",
    "    flagging.gaia_flag_column(\n",
    "        SkyCoord(panstarrs['panstarrs_ra'], panstarrs['panstarrs_dec']),\n",
    "        panstarrs_epoch,\n",
    "        gaia\n",
    "    )\n",
    ")\n",
    "panstarrs['flag_gaia'].name = 'panstarrs_flag_gaia'\n",
    "print(\"{} sources flagged.\".format(np.sum(panstarrs['panstarrs_flag_gaia'] > 0)))"
   ]
  },
  {
   "cell_type": "markdown",
   "metadata": {},
   "source": [
    "## IV - Flagging objects near bright stars\n"
   ]
  },
  {
   "cell_type": "markdown",
   "metadata": {},
   "source": [
    "## V- Merging the catalogues"
   ]
  },
  {
   "cell_type": "code",
   "execution_count": null,
   "metadata": {
    "collapsed": true
   },
   "outputs": [],
   "source": [
    "masterlist.nb_merge_dist_plot(\n",
    "    SkyCoord(wfc['wfc_ra'], wfc['wfc_dec']),\n",
    "    SkyCoord(dxs['dxs_ra'], dxs['dxs_dec'])\n",
    ")"
   ]
  },
  {
   "cell_type": "code",
   "execution_count": null,
   "metadata": {
    "collapsed": true
   },
   "outputs": [],
   "source": [
    "# Given the graph above, we use 0.8 arc-second radius\n",
    "wfc['wfc_ra'].name = 'ra'\n",
    "wfc['wfc_dec'].name = 'dec'\n",
    "masterlist_catalogue = masterlist.merge_catalogues(\n",
    "    wfc, dxs, \"dxs_ra\", \"dxs_dec\")"
   ]
  },
  {
   "cell_type": "code",
   "execution_count": null,
   "metadata": {
    "collapsed": true
   },
   "outputs": [],
   "source": [
    "masterlist.nb_merge_dist_plot(\n",
    "    SkyCoord(masterlist_catalogue['ra'], masterlist_catalogue['dec']),\n",
    "    SkyCoord(servs['servs_ra'], servs['servs_dec'])\n",
    ")"
   ]
  },
  {
   "cell_type": "code",
   "execution_count": null,
   "metadata": {
    "collapsed": true
   },
   "outputs": [],
   "source": [
    "# Given the graph above, we use 1.2 arc-second radius\n",
    "masterlist_catalogue = masterlist.merge_catalogues(\n",
    "    masterlist_catalogue, servs, \"servs_ra\", \"servs_dec\")"
   ]
  },
  {
   "cell_type": "code",
   "execution_count": null,
   "metadata": {
    "collapsed": true
   },
   "outputs": [],
   "source": [
    "masterlist.nb_merge_dist_plot(\n",
    "    SkyCoord(masterlist_catalogue['ra'], masterlist_catalogue['dec']),\n",
    "    SkyCoord(swire['swire_ra'], swire['swire_dec'])\n",
    ")"
   ]
  },
  {
   "cell_type": "code",
   "execution_count": null,
   "metadata": {
    "collapsed": true
   },
   "outputs": [],
   "source": [
    "masterlist_catalogue = masterlist.merge_catalogues(\n",
    "    masterlist_catalogue, swire, \"swire_ra\", \"swire_dec\")"
   ]
  },
  {
   "cell_type": "code",
   "execution_count": null,
   "metadata": {
    "collapsed": true
   },
   "outputs": [],
   "source": [
    "masterlist.nb_merge_dist_plot(\n",
    "    SkyCoord(masterlist_catalogue['ra'], masterlist_catalogue['dec']),\n",
    "    SkyCoord(sparcs['sparcs_ra'], sparcs['sparcs_dec'])\n",
    ")"
   ]
  },
  {
   "cell_type": "code",
   "execution_count": null,
   "metadata": {
    "collapsed": true
   },
   "outputs": [],
   "source": [
    "# Given the graph above, we use 1 arc-second radius\n",
    "masterlist_catalogue = masterlist.merge_catalogues(\n",
    "    masterlist_catalogue, sparcs, \"sparcs_ra\", \"sparcs_dec\", radius=1. * u.arcsec)"
   ]
  },
  {
   "cell_type": "code",
   "execution_count": null,
   "metadata": {
    "collapsed": true
   },
   "outputs": [],
   "source": [
    "masterlist.nb_merge_dist_plot(\n",
    "    SkyCoord(masterlist_catalogue['ra'], masterlist_catalogue['dec']),\n",
    "    SkyCoord(panstarrs['panstarrs_ra'], panstarrs['panstarrs_dec'])\n",
    ")"
   ]
  },
  {
   "cell_type": "code",
   "execution_count": null,
   "metadata": {
    "collapsed": true
   },
   "outputs": [],
   "source": [
    "# Given the graph above, we use ?????? arc-second radius\n",
    "masterlist_catalogue = masterlist.merge_catalogues(\n",
    "    masterlist_catalogue, panstarrs, \"panstarrs_ra\", \"panstarrs_dec\", radius=1. * u.arcsec)"
   ]
  },
  {
   "cell_type": "code",
   "execution_count": null,
   "metadata": {
    "collapsed": true
   },
   "outputs": [],
   "source": [
    "# When we merge the catalogues, astropy masks the non-existent values (e.g. when a row comes\n",
    "# only from a catalogue and has no counterparts in the other, the columns from the latest\n",
    "# are masked for that row). We indicate to use NaN for masked values for floats columns and\n",
    "# False for flag columns.\n",
    "for col in masterlist_catalogue.colnames:\n",
    "    if \"m_\" in col or \"merr_\" in col or \"f_\" in col or \"ferr_\" in col or \"stellarity\" in col:\n",
    "        masterlist_catalogue[col].fill_value = np.nan\n",
    "    elif \"flag\" in col:\n",
    "        masterlist_catalogue[col].fill_value = False"
   ]
  },
  {
   "cell_type": "code",
   "execution_count": null,
   "metadata": {
    "collapsed": true
   },
   "outputs": [],
   "source": [
    "masterlist_catalogue[:10].show_in_notebook()"
   ]
  },
  {
   "cell_type": "markdown",
   "metadata": {},
   "source": [
    "## VI - Merging flags and stellarity\n"
   ]
  },
  {
   "cell_type": "code",
   "execution_count": null,
   "metadata": {
    "collapsed": true
   },
   "outputs": [],
   "source": [
    "masterlist_catalogue.add_column(Column(\n",
    "    data=(masterlist_catalogue['wfc_flag_cleaned'] | \n",
    "          masterlist_catalogue['dxs_flag_cleaned'] |\n",
    "          masterlist_catalogue['servs_flag_cleaned'] | \n",
    "          masterlist_catalogue['swire_flag_cleaned'] |\n",
    "          masterlist_catalogue['sparcs_flag_cleaned']),\n",
    "    name=\"flag_cleaned\"\n",
    "))\n",
    "masterlist_catalogue.remove_columns(['wfc_flag_cleaned', 'dxs_flag_cleaned',\n",
    "                                     'servs_flag_cleaned', 'swire_flag_cleaned',\n",
    "                                     'sparcs_flag_cleaned'])"
   ]
  },
  {
   "cell_type": "code",
   "execution_count": null,
   "metadata": {
    "collapsed": true
   },
   "outputs": [],
   "source": [
    "masterlist_catalogue.add_column(Column(\n",
    "    data=(masterlist_catalogue['wfc_flag_gaia'] | \n",
    "          masterlist_catalogue['dxs_flag_gaia'] |\n",
    "          masterlist_catalogue['servs_flag_gaia'] | \n",
    "          masterlist_catalogue['swire_flag_gaia'] |\n",
    "          masterlist_catalogue['sparcs_flag_gaia']),\n",
    "    name=\"flag_gaia\"\n",
    "))\n",
    "masterlist_catalogue.remove_columns(['wfc_flag_gaia', 'dxs_flag_gaia',\n",
    "                                     'servs_flag_gaia', 'swire_flag_gaia',\n",
    "                                     'sparcs_flag_gaia'])"
   ]
  },
  {
   "cell_type": "code",
   "execution_count": null,
   "metadata": {
    "collapsed": true
   },
   "outputs": [],
   "source": [
    "masterlist_catalogue.add_column(Column(\n",
    "    data=np.nanmax([masterlist_catalogue['wfc_stellarity'],\n",
    "                     masterlist_catalogue['dxs_stellarity'],\n",
    "                     masterlist_catalogue['servs_stellarity_irac1'],\n",
    "                     masterlist_catalogue['servs_stellarity_irac2'],\n",
    "                     masterlist_catalogue['swire_stellarity_irac1'],\n",
    "                     masterlist_catalogue['swire_stellarity_irac2'],\n",
    "                     masterlist_catalogue['swire_stellarity_irac3'],\n",
    "                     masterlist_catalogue['swire_stellarity_irac4'],\n",
    "                     masterlist_catalogue['sparcs_stellarity']],\n",
    "                   axis=0),\n",
    "    name='stellarity'\n",
    "))\n",
    "masterlist_catalogue.remove_columns(\n",
    "    ['wfc_stellarity',\n",
    "     'dxs_stellarity',\n",
    "     'servs_stellarity_irac1',\n",
    "     'servs_stellarity_irac2',\n",
    "     'swire_stellarity_irac1',\n",
    "     'swire_stellarity_irac2',\n",
    "     'swire_stellarity_irac3',\n",
    "     'swire_stellarity_irac4',\n",
    "     'sparcs_stellarity']\n",
    ")"
   ]
  },
  {
   "cell_type": "markdown",
   "metadata": {},
   "source": [
    "## VII - E(B-V)"
   ]
  },
  {
   "cell_type": "code",
   "execution_count": null,
   "metadata": {
    "collapsed": true
   },
   "outputs": [],
   "source": [
    "masterlist_catalogue.add_column(\n",
    "    utils.ebv(masterlist_catalogue['ra'], masterlist_catalogue['dec'])\n",
    ")"
   ]
  },
  {
   "cell_type": "markdown",
   "metadata": {},
   "source": [
    "## VIII - Choosing between multiple values for the same filter\n",
    "\n",
    "We have IRAC1 and IRAC2 observation for both SERVS and SWIRE.  We must choose which one to use, remove the unused columns, and rename the ones we keep to names like `f_irac1`..."
   ]
  },
  {
   "cell_type": "markdown",
   "metadata": {},
   "source": [
    "# IX - Domains of observation\n",
    "\n",
    "We define three wavelength domains: optical, near-infrared, and mid-infrated (IRAC). We add binary flags combining in an integer the three domains:\n",
    "\n",
    "- 1 for observation if optical;\n",
    "- 2 for observation in near-infrared;\n",
    "- 4 for observation in mid-infrared (IRAC).\n",
    "\n",
    "We add two flags:\n",
    "\n",
    "- `flag_optnir_obs` indicating if the source was observed in this wavelength domain (i.e. is on the coverage of the catalogue;\n",
    "- `flag_optnir_flux` indicating if the source has measured flux in this wavelengh domain.\n",
    "\n",
    "*Note 1: We use the total flux columns to know if the source has flux, in some catalogues, we may have aperture flux and no total flux.*\n",
    "\n",
    "*Note 2: The observation flag is based on the creation of multi-order coverage maps from the catalogues, this may not be accurate, especially on the edges of the coverage.*\n",
    "\n",
    "*Note 3: For sources observed in one domain but having no flux in it, one must take into consideration de different depths in the catalogue we are using.*"
   ]
  },
  {
   "cell_type": "code",
   "execution_count": null,
   "metadata": {
    "collapsed": true
   },
   "outputs": [],
   "source": [
    "was_observed_optical = utils.inMoc(\n",
    "    masterlist_catalogue['ra'], masterlist_catalogue['dec'],\n",
    "    wfc_moc + sparcs_moc + panstarrs_moc) \n",
    "\n",
    "was_observed_nir = utils.inMoc(\n",
    "    masterlist_catalogue['ra'], masterlist_catalogue['dec'],\n",
    "    dxs_moc\n",
    ")\n",
    "\n",
    "was_observed_mir = utils.inMoc(\n",
    "    masterlist_catalogue['ra'], masterlist_catalogue['dec'],\n",
    "    servs_moc + swire_moc\n",
    ")"
   ]
  },
  {
   "cell_type": "code",
   "execution_count": null,
   "metadata": {
    "collapsed": true
   },
   "outputs": [],
   "source": [
    "masterlist_catalogue.add_column(\n",
    "    Column(\n",
    "        1 * was_observed_optical + 2 * was_observed_nir + 4 * was_observed_mir,\n",
    "        name=\"flag_optnir_obs\")\n",
    ")"
   ]
  },
  {
   "cell_type": "code",
   "execution_count": null,
   "metadata": {
    "collapsed": true
   },
   "outputs": [],
   "source": [
    "has_optical_flux = (\n",
    "    ~np.isnan(masterlist_catalogue['f_wfc_u'].filled()) |\n",
    "    ~np.isnan(masterlist_catalogue['f_wfc_g'].filled()) |\n",
    "    ~np.isnan(masterlist_catalogue['f_wfc_r'].filled()) |\n",
    "    ~np.isnan(masterlist_catalogue['f_wfc_i'].filled()) |\n",
    "    ~np.isnan(masterlist_catalogue['f_wfc_z'].filled()) |\n",
    "    ~np.isnan(masterlist_catalogue['f_cfht_megacam_u'].filled()) |\n",
    "    ~np.isnan(masterlist_catalogue['f_cfht_megacam_g'].filled()) |\n",
    "    ~np.isnan(masterlist_catalogue['f_cfht_megacam_r'].filled()) |\n",
    "    ~np.isnan(masterlist_catalogue['f_cfht_megacam_z'].filled())\n",
    ")\n",
    "\n",
    "has_nir_flux = (\n",
    "    ~np.isnan(masterlist_catalogue['f_ukidss_j'].filled()) |\n",
    "    ~np.isnan(masterlist_catalogue['f_ukidss_h'].filled()) |\n",
    "    ~np.isnan(masterlist_catalogue['f_ukidss_k'].filled())\n",
    ")\n",
    "\n",
    "has_mir_flux = (\n",
    "    ~np.isnan(masterlist_catalogue['f_servs_irac1'].filled()) |\n",
    "    ~np.isnan(masterlist_catalogue['f_servs_irac2'].filled()) |\n",
    "    ~np.isnan(masterlist_catalogue['f_swire_irac1'].filled()) |\n",
    "    ~np.isnan(masterlist_catalogue['f_swire_irac2'].filled()) |\n",
    "    ~np.isnan(masterlist_catalogue['f_swire_irac3'].filled()) |\n",
    "    ~np.isnan(masterlist_catalogue['f_swire_irac4'].filled())\n",
    ")"
   ]
  },
  {
   "cell_type": "code",
   "execution_count": null,
   "metadata": {
    "collapsed": true
   },
   "outputs": [],
   "source": [
    "masterlist_catalogue.add_column(\n",
    "    Column(\n",
    "        1 * has_optical_flux + 2 * has_nir_flux + 4 * has_mir_flux,\n",
    "        name=\"flag_optnir_flux\")\n",
    ")"
   ]
  },
  {
   "cell_type": "code",
   "execution_count": null,
   "metadata": {
    "collapsed": true
   },
   "outputs": [],
   "source": [
    "flag_obs = masterlist_catalogue['flag_optnir_obs']\n",
    "flag_flux = masterlist_catalogue['flag_optnir_flux']"
   ]
  },
  {
   "cell_type": "code",
   "execution_count": null,
   "metadata": {
    "collapsed": true
   },
   "outputs": [],
   "source": [
    "venn3(\n",
    "    [\n",
    "        np.sum(flag_obs == 4),\n",
    "        np.sum(flag_obs == 2),\n",
    "        np.sum(flag_obs == 6),\n",
    "        np.sum(flag_obs == 1),\n",
    "        np.sum(flag_obs == 5),\n",
    "        np.sum(flag_obs == 3),\n",
    "        np.sum(flag_obs == 7)\n",
    "    ],\n",
    "    set_labels=('Optical', 'near-IR', 'mid-IR'),\n",
    "    subset_label_formatter=lambda x: \"{}%\".format(int(100*x/len(flag_obs)))\n",
    ")\n",
    "plt.title(\"Wavelength domain observations\")"
   ]
  },
  {
   "cell_type": "code",
   "execution_count": null,
   "metadata": {
    "collapsed": true
   },
   "outputs": [],
   "source": [
    "venn3(\n",
    "    [\n",
    "        np.sum(flag_flux[flag_obs == 7] == 4),\n",
    "        np.sum(flag_flux[flag_obs == 7] == 2),\n",
    "        np.sum(flag_flux[flag_obs == 7] == 6),\n",
    "        np.sum(flag_flux[flag_obs == 7] == 1),\n",
    "        np.sum(flag_flux[flag_obs == 7] == 5),\n",
    "        np.sum(flag_flux[flag_obs == 7] == 3),\n",
    "        np.sum(flag_flux[flag_obs == 7] == 7)\n",
    "    ],\n",
    "    set_labels=('mid-IR', 'near-IR', 'Optical'),\n",
    "    subset_label_formatter=lambda x: \"{}%\".format(int(100*x/np.sum(flag_flux != 0)))\n",
    ")\n",
    "plt.title(\"Flux availability for the {} sources observed\\n in all wavelength domains \"\n",
    "          \"(among {} sources)\".format(\n",
    "              locale.format('%d', np.sum(flag_flux != 0), grouping=True),\n",
    "              locale.format('%d', len(flag_flux), grouping=True)))"
   ]
  },
  {
   "cell_type": "markdown",
   "metadata": {},
   "source": [
    "## X - Number of bands with observation"
   ]
  },
  {
   "cell_type": "code",
   "execution_count": null,
   "metadata": {
    "collapsed": true
   },
   "outputs": [],
   "source": [
    "# We consider that a source is observed in a band when both the aperture and the full\n",
    "# magnitudes are provided (some buggy catalogues miss some).\n",
    "\n",
    "nb_bands = np.zeros(len(masterlist_catalogue), dtype=int)\n",
    "for col in masterlist_catalogue.colnames:\n",
    "    if 'm_app_' in col:\n",
    "        fullmag_col = col.replace('m_app_', 'm_')\n",
    "        nb_bands += (\n",
    "            ~np.isnan(masterlist_catalogue[col].filled())\n",
    "            & ~np.isnan(masterlist_catalogue[fullmag_col].filled())\n",
    "        )"
   ]
  },
  {
   "cell_type": "code",
   "execution_count": null,
   "metadata": {
    "collapsed": true
   },
   "outputs": [],
   "source": [
    "sns.distplot(nb_bands, kde=False)"
   ]
  },
  {
   "cell_type": "markdown",
   "metadata": {},
   "source": [
    "## X - Adding the HELP Id and field columns"
   ]
  },
  {
   "cell_type": "code",
   "execution_count": null,
   "metadata": {
    "collapsed": true
   },
   "outputs": [],
   "source": [
    "masterlist_catalogue.add_column(Column(\n",
    "    utils.gen_help_id(masterlist_catalogue['ra'], masterlist_catalogue['dec']),\n",
    "    name=\"help_id\"\n",
    "))\n",
    "masterlist_catalogue.add_column(Column(\n",
    "    np.full(len(masterlist_catalogue), \"Lockman-SWIRE\", dtype='<U18'),\n",
    "    name=\"field\"\n",
    "))"
   ]
  },
  {
   "cell_type": "code",
   "execution_count": null,
   "metadata": {
    "collapsed": true
   },
   "outputs": [],
   "source": [
    "# Check that the HELP Ids are unique\n",
    "if len(masterlist_catalogue) != len(np.unique(masterlist_catalogue['help_id'])):\n",
    "    print(\"The HELP IDs are not unique!!!\")\n",
    "else:\n",
    "    print(\"OK!\")"
   ]
  },
  {
   "cell_type": "markdown",
   "metadata": {},
   "source": [
    "## XI - Cross-identification table\n",
    "\n",
    "We are producing a table associating to each HELP identifier, the identifiers of the sources in the pristine catalogue. This can be used to easily get additional information from them."
   ]
  },
  {
   "cell_type": "code",
   "execution_count": null,
   "metadata": {
    "collapsed": true
   },
   "outputs": [],
   "source": [
    "cross_ident_table = masterlist_catalogue[\n",
    "    'help_id', 'wfc_id', 'dxs_id', 'servs_intid', 'swire_intid', 'sparcs_intid', 'panstarrs_intid']\n",
    "cross_ident_table.write(\"data/master_list_cross_ident_lockman-swire.fits\")"
   ]
  },
  {
   "cell_type": "markdown",
   "metadata": {},
   "source": [
    "## XII - Cleaning and saving the master catalogue"
   ]
  },
  {
   "cell_type": "code",
   "execution_count": null,
   "metadata": {
    "collapsed": true
   },
   "outputs": [],
   "source": [
    "masterlist_catalogue.remove_columns([\n",
    "    'wfc_id', 'dxs_id', 'servs_intid', 'swire_intid', 'sparcs_intid', 'panstarrs_intid'])"
   ]
  },
  {
   "cell_type": "code",
   "execution_count": null,
   "metadata": {
    "collapsed": true
   },
   "outputs": [],
   "source": [
    "# We may want to reorder the column even if this will be done at the ingestion in HeDaM.\n",
    "masterlist_catalogue.write(\"data/master_catalogue_elais-n1.fits\")"
   ]
  }
 ],
 "metadata": {
  "anaconda-cloud": {},
  "kernelspec": {
   "display_name": "Python (herschelhelp_internal)",
   "language": "python",
   "name": "helpint"
  },
  "language_info": {
   "codemirror_mode": {
    "name": "ipython",
    "version": 3
   },
   "file_extension": ".py",
   "mimetype": "text/x-python",
   "name": "python",
   "nbconvert_exporter": "python",
   "pygments_lexer": "ipython3",
   "version": "3.6.1"
  }
 },
 "nbformat": 4,
 "nbformat_minor": 1
}
