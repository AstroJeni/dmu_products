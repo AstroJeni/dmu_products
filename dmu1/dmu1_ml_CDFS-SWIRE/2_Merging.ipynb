{
 "cells": [
  {
   "cell_type": "markdown",
   "metadata": {},
   "source": [
    "# CDFS SWIRE master catalogue\n",
    "\n",
    "This notebook presents the merge of the various pristine catalogues to produce HELP master catalogue on CDFS SWIRE."
   ]
  },
  {
   "cell_type": "code",
   "execution_count": null,
   "metadata": {
    "collapsed": true
   },
   "outputs": [],
   "source": [
    "from herschelhelp_internal import git_version\n",
    "print(\"This notebook was run with herschelhelp_internal version: \\n{}\".format(git_version()))"
   ]
  },
  {
   "cell_type": "code",
   "execution_count": null,
   "metadata": {
    "collapsed": true
   },
   "outputs": [],
   "source": [
    "%matplotlib inline\n",
    "#%config InlineBackend.figure_format = 'svg'\n",
    "\n",
    "import matplotlib.pyplot as plt\n",
    "plt.rc('figure', figsize=(10, 6))\n",
    "\n",
    "import os\n",
    "import time\n",
    "\n",
    "from astropy import units as u\n",
    "from astropy.coordinates import SkyCoord\n",
    "from astropy.table import Column, Table\n",
    "import numpy as np\n",
    "from pymoc import MOC\n",
    "\n",
    "from herschelhelp_internal.masterlist import merge_catalogues, specz_merge, nb_merge_dist_plot\n",
    "from herschelhelp_internal.utils import coords_to_hpidx, ebv, gen_help_id, inMoc"
   ]
  },
  {
   "cell_type": "code",
   "execution_count": null,
   "metadata": {
    "collapsed": true
   },
   "outputs": [],
   "source": [
    "TMP_DIR = os.environ.get('TMP_DIR', \"./data_tmp\")\n",
    "OUT_DIR = os.environ.get('OUT_DIR', \"./data\")\n",
    "SUFFIX = os.environ.get('SUFFIX', time.strftime(\"_%Y%m%d\"))\n",
    "\n",
    "try:\n",
    "    os.makedirs(OUT_DIR)\n",
    "except FileExistsError:\n",
    "    pass"
   ]
  },
  {
   "cell_type": "markdown",
   "metadata": {},
   "source": [
    "## I - Reading the prepared pristine catalogues"
   ]
  },
  {
   "cell_type": "code",
   "execution_count": null,
   "metadata": {
    "collapsed": true
   },
   "outputs": [],
   "source": [
    "atlas = Table.read(\"{}/ATLAS.fits\".format(TMP_DIR))\n",
    "combo = Table.read(\"{}/COMBO.fits\".format(TMP_DIR))\n",
    "#fireworks = Table.read(\"{}/Fireworks.fits\".format(TMP_DIR))\n",
    "ps1 = Table.read(\"{}/PS1.fits\".format(TMP_DIR))\n",
    "servs = Table.read(\"{}/SERVS.fits\".format(TMP_DIR))\n",
    "swire= Table.read(\"{}/SWIRE.fits\".format(TMP_DIR))\n",
    "video= Table.read(\"{}/VISTA-VIDEO.fits\".format(TMP_DIR))\n",
    "vhs= Table.read(\"{}/VISTA-VHS.fits\".format(TMP_DIR))\n",
    "des= Table.read(\"{}/DES.fits\".format(TMP_DIR))\n",
    "candels= Table.read(\"{}/CANDELS.fits\".format(TMP_DIR))"
   ]
  },
  {
   "cell_type": "markdown",
   "metadata": {},
   "source": [
    "## II - Merging tables\n",
    "\n",
    "We first merge the optical catalogues and then add the infrared ones: PS1, COMBO, ATLAS, VIDEO, VHS, SERVS, SWIRE. Fireworks is no longer included.\n",
    "\n",
    "At every step, we look at the distribution of the distances to the nearest source in the merged catalogue to determine the best crossmatching radius."
   ]
  },
  {
   "cell_type": "markdown",
   "metadata": {},
   "source": [
    "### PanSTARRS"
   ]
  },
  {
   "cell_type": "code",
   "execution_count": null,
   "metadata": {
    "collapsed": true
   },
   "outputs": [],
   "source": [
    "master_catalogue = ps1\n",
    "master_catalogue['ps1_ra'].name = 'ra'\n",
    "master_catalogue['ps1_dec'].name = 'dec'"
   ]
  },
  {
   "cell_type": "markdown",
   "metadata": {},
   "source": [
    "### Add Fireworks\n",
    "\n",
    "We are no longer including Fireworks under Mattia's advice. I leave the code in the notebook commented out in case the user wishes to include it."
   ]
  },
  {
   "cell_type": "code",
   "execution_count": null,
   "metadata": {
    "collapsed": true
   },
   "outputs": [],
   "source": [
    "#nb_merge_dist_plot(\n",
    "#    SkyCoord(master_catalogue['ra'], master_catalogue['dec']),\n",
    "#    SkyCoord(fireworks['fireworks_ra'], fireworks['fireworks_dec'])\n",
    "#)"
   ]
  },
  {
   "cell_type": "code",
   "execution_count": null,
   "metadata": {
    "collapsed": true
   },
   "outputs": [],
   "source": [
    "# Given the graph above, we use 0.8 arc-second radius\n",
    "#master_catalogue = merge_catalogues(master_catalogue, fireworks, \"fireworks_ra\", \"fireworks_dec\", radius=0.8*u.arcsec)"
   ]
  },
  {
   "cell_type": "markdown",
   "metadata": {},
   "source": [
    "### Add COMBO"
   ]
  },
  {
   "cell_type": "code",
   "execution_count": null,
   "metadata": {
    "collapsed": true
   },
   "outputs": [],
   "source": [
    "nb_merge_dist_plot(\n",
    "    SkyCoord(master_catalogue['ra'], master_catalogue['dec']),\n",
    "    SkyCoord(combo['combo_ra'], combo['combo_dec'])\n",
    ")"
   ]
  },
  {
   "cell_type": "code",
   "execution_count": null,
   "metadata": {
    "collapsed": true
   },
   "outputs": [],
   "source": [
    "# Given the graph above, we use 0.8 arc-second radius\n",
    "master_catalogue = merge_catalogues(master_catalogue, combo, \"combo_ra\", \"combo_dec\", radius=0.8*u.arcsec)"
   ]
  },
  {
   "cell_type": "markdown",
   "metadata": {},
   "source": [
    "### Add ATLAS"
   ]
  },
  {
   "cell_type": "code",
   "execution_count": null,
   "metadata": {
    "collapsed": true
   },
   "outputs": [],
   "source": [
    "nb_merge_dist_plot(\n",
    "    SkyCoord(master_catalogue['ra'], master_catalogue['dec']),\n",
    "    SkyCoord(atlas['atlas_ra'], atlas['atlas_dec'])\n",
    ")"
   ]
  },
  {
   "cell_type": "code",
   "execution_count": null,
   "metadata": {
    "collapsed": true
   },
   "outputs": [],
   "source": [
    "# Given the graph above, we use 0.8 arc-second radius\n",
    "master_catalogue = merge_catalogues(master_catalogue, atlas, \"atlas_ra\", \"atlas_dec\", radius=0.8*u.arcsec)"
   ]
  },
  {
   "cell_type": "markdown",
   "metadata": {},
   "source": [
    "### Add VIDEO"
   ]
  },
  {
   "cell_type": "code",
   "execution_count": null,
   "metadata": {
    "collapsed": true
   },
   "outputs": [],
   "source": [
    "nb_merge_dist_plot(\n",
    "    SkyCoord(master_catalogue['ra'], master_catalogue['dec']),\n",
    "    SkyCoord(video['video_ra'], video['video_dec'])\n",
    ")"
   ]
  },
  {
   "cell_type": "code",
   "execution_count": null,
   "metadata": {
    "collapsed": true
   },
   "outputs": [],
   "source": [
    "# Given the graph above, we use 0.8 arc-second radius\n",
    "master_catalogue = merge_catalogues(master_catalogue, video, \"video_ra\", \"video_dec\", radius=0.8*u.arcsec)"
   ]
  },
  {
   "cell_type": "markdown",
   "metadata": {},
   "source": [
    "### Add VHS"
   ]
  },
  {
   "cell_type": "code",
   "execution_count": null,
   "metadata": {
    "collapsed": true
   },
   "outputs": [],
   "source": [
    "nb_merge_dist_plot(\n",
    "    SkyCoord(master_catalogue['ra'], master_catalogue['dec']),\n",
    "    SkyCoord(vhs['vhs_ra'], vhs['vhs_dec'])\n",
    ")"
   ]
  },
  {
   "cell_type": "code",
   "execution_count": null,
   "metadata": {
    "collapsed": true
   },
   "outputs": [],
   "source": [
    "# Given the graph above, we use 0.8 arc-second radius\n",
    "master_catalogue = merge_catalogues(master_catalogue, vhs, \"vhs_ra\", \"vhs_dec\", radius=0.8*u.arcsec)"
   ]
  },
  {
   "cell_type": "markdown",
   "metadata": {},
   "source": [
    "### Add SERVS"
   ]
  },
  {
   "cell_type": "code",
   "execution_count": null,
   "metadata": {
    "collapsed": true
   },
   "outputs": [],
   "source": [
    "nb_merge_dist_plot(\n",
    "    SkyCoord(master_catalogue['ra'], master_catalogue['dec']),\n",
    "    SkyCoord(servs['servs_ra'], servs['servs_dec'])\n",
    ")"
   ]
  },
  {
   "cell_type": "code",
   "execution_count": null,
   "metadata": {
    "collapsed": true
   },
   "outputs": [],
   "source": [
    "# Given the graph above, we use 1 arc-second radius\n",
    "master_catalogue = merge_catalogues(master_catalogue, servs, \"servs_ra\", \"servs_dec\", radius=1.*u.arcsec)"
   ]
  },
  {
   "cell_type": "markdown",
   "metadata": {},
   "source": [
    "### Add SWIRE"
   ]
  },
  {
   "cell_type": "code",
   "execution_count": null,
   "metadata": {
    "collapsed": true
   },
   "outputs": [],
   "source": [
    "nb_merge_dist_plot(\n",
    "    SkyCoord(master_catalogue['ra'], master_catalogue['dec']),\n",
    "    SkyCoord(swire['swire_ra'], swire['swire_dec'])\n",
    ")"
   ]
  },
  {
   "cell_type": "code",
   "execution_count": null,
   "metadata": {
    "collapsed": true
   },
   "outputs": [],
   "source": [
    "# Given the graph above, we use 1 arc-second radius\n",
    "master_catalogue = merge_catalogues(master_catalogue, swire, \"swire_ra\", \"swire_dec\", radius=1.*u.arcsec)"
   ]
  },
  {
   "cell_type": "markdown",
   "metadata": {},
   "source": [
    "### Add DES\n",
    "\n",
    "DES and CANDELS are added at the end because they were not in teh original masterlist. By adding them at the end we ensure that the original HELP ids are maintained."
   ]
  },
  {
   "cell_type": "code",
   "execution_count": null,
   "metadata": {
    "collapsed": true
   },
   "outputs": [],
   "source": [
    "nb_merge_dist_plot(\n",
    "    SkyCoord(master_catalogue['ra'], master_catalogue['dec']),\n",
    "    SkyCoord(des['des_ra'], des['des_dec'])\n",
    ")"
   ]
  },
  {
   "cell_type": "code",
   "execution_count": null,
   "metadata": {
    "collapsed": true
   },
   "outputs": [],
   "source": [
    "# Given the graph above, we use 0.8 arc-second radius\n",
    "master_catalogue = merge_catalogues(master_catalogue, des, \"des_ra\", \"des_dec\", radius=0.8*u.arcsec)"
   ]
  },
  {
   "cell_type": "markdown",
   "metadata": {},
   "source": [
    "### Add CANDELS"
   ]
  },
  {
   "cell_type": "code",
   "execution_count": null,
   "metadata": {
    "collapsed": true
   },
   "outputs": [],
   "source": [
    "nb_merge_dist_plot(\n",
    "    SkyCoord(master_catalogue['ra'], master_catalogue['dec']),\n",
    "    SkyCoord(candels['candels_ra'], candels['candels_dec'])\n",
    ")"
   ]
  },
  {
   "cell_type": "code",
   "execution_count": null,
   "metadata": {
    "collapsed": true
   },
   "outputs": [],
   "source": [
    "# Given the graph above, we use 0.8 arc-second radius\n",
    "master_catalogue = merge_catalogues(master_catalogue, candels, \"candels_ra\", \"candels_dec\", radius=0.8*u.arcsec)"
   ]
  },
  {
   "cell_type": "markdown",
   "metadata": {},
   "source": [
    "### Cleaning\n",
    "\n",
    "When we merge the catalogues, astropy masks the non-existent values (e.g. when a row comes only from a catalogue and has no counterparts in the other, the columns from the latest are masked for that row). We indicate to use NaN for masked values for floats columns, False for flag columns and -1 for ID columns."
   ]
  },
  {
   "cell_type": "code",
   "execution_count": null,
   "metadata": {
    "collapsed": true
   },
   "outputs": [],
   "source": [
    "for col in master_catalogue.colnames:\n",
    "    if \"m_\" in col or \"merr_\" in col or \"f_\" in col or \"ferr_\" in col or \"stellarity\" in col:\n",
    "        master_catalogue[col].fill_value = np.nan\n",
    "    elif \"flag\" in col:\n",
    "        master_catalogue[col].fill_value = 0\n",
    "    elif \"id\" in col:\n",
    "        master_catalogue[col].fill_value = -1\n",
    "        \n",
    "master_catalogue = master_catalogue.filled()"
   ]
  },
  {
   "cell_type": "code",
   "execution_count": null,
   "metadata": {
    "collapsed": true
   },
   "outputs": [],
   "source": [
    "master_catalogue[:10].show_in_notebook()"
   ]
  },
  {
   "cell_type": "markdown",
   "metadata": {},
   "source": [
    "## III - Merging flags and stellarity\n",
    "\n",
    "Each pristine catalogue contains a flag indicating if the source was associated to a another nearby source that was removed during the cleaning process.  We merge these flags in a single one."
   ]
  },
  {
   "cell_type": "code",
   "execution_count": null,
   "metadata": {
    "collapsed": true
   },
   "outputs": [],
   "source": [
    "flag_cleaned_columns = [column for column in master_catalogue.colnames\n",
    "                        if 'flag_cleaned' in column]\n",
    "\n",
    "flag_column = np.zeros(len(master_catalogue), dtype=bool)\n",
    "for column in flag_cleaned_columns:\n",
    "    flag_column |= master_catalogue[column]\n",
    "    \n",
    "master_catalogue.add_column(Column(data=flag_column, name=\"flag_cleaned\"))\n",
    "master_catalogue.remove_columns(flag_cleaned_columns)"
   ]
  },
  {
   "cell_type": "markdown",
   "metadata": {},
   "source": [
    "Each pristine catalogue contains a flag indicating the probability of a source being a Gaia object (0: not a Gaia object, 1: possibly, 2: probably, 3: definitely).  We merge these flags taking the highest value."
   ]
  },
  {
   "cell_type": "code",
   "execution_count": null,
   "metadata": {
    "collapsed": true
   },
   "outputs": [],
   "source": [
    "flag_gaia_columns = [column for column in master_catalogue.colnames\n",
    "                     if 'flag_gaia' in column]\n",
    "\n",
    "master_catalogue.add_column(Column(\n",
    "    data=np.max([master_catalogue[column] for column in flag_gaia_columns], axis=0),\n",
    "    name=\"flag_gaia\"\n",
    "))\n",
    "master_catalogue.remove_columns(flag_gaia_columns)"
   ]
  },
  {
   "cell_type": "markdown",
   "metadata": {},
   "source": [
    "Each prisitine catalogue may contain one or several stellarity columns indicating the probability (0 to 1) of each source being a star.  We merge these columns taking the highest value."
   ]
  },
  {
   "cell_type": "code",
   "execution_count": null,
   "metadata": {
    "collapsed": true
   },
   "outputs": [],
   "source": [
    "stellarity_columns = [column for column in master_catalogue.colnames\n",
    "                      if 'stellarity' in column]\n",
    "\n",
    "master_catalogue.add_column(Column(\n",
    "    data=np.nanmax([master_catalogue[column] for column in stellarity_columns], axis=0),\n",
    "    name=\"stellarity\"\n",
    "))\n",
    "master_catalogue.remove_columns(stellarity_columns)"
   ]
  },
  {
   "cell_type": "markdown",
   "metadata": {},
   "source": [
    "## IV - Adding E(B-V) column"
   ]
  },
  {
   "cell_type": "code",
   "execution_count": null,
   "metadata": {
    "collapsed": true
   },
   "outputs": [],
   "source": [
    "master_catalogue.add_column(\n",
    "    ebv(master_catalogue['ra'], master_catalogue['dec'])\n",
    ")"
   ]
  },
  {
   "cell_type": "markdown",
   "metadata": {},
   "source": [
    "## V - Adding HELP unique identifiers and field columns"
   ]
  },
  {
   "cell_type": "code",
   "execution_count": null,
   "metadata": {
    "collapsed": true
   },
   "outputs": [],
   "source": [
    "master_catalogue.add_column(Column(gen_help_id(master_catalogue['ra'], master_catalogue['dec']),\n",
    "                                   name=\"help_id\"))\n",
    "master_catalogue.add_column(Column(np.full(len(master_catalogue), \"CDFS-SWIRE\", dtype='<U18'),\n",
    "                                   name=\"field\"))"
   ]
  },
  {
   "cell_type": "code",
   "execution_count": null,
   "metadata": {
    "collapsed": true
   },
   "outputs": [],
   "source": [
    "# Check that the HELP Ids are unique\n",
    "if len(master_catalogue) != len(np.unique(master_catalogue['help_id'])):\n",
    "    print(\"The HELP IDs are not unique!!!\")\n",
    "else:\n",
    "    print(\"OK!\")"
   ]
  },
  {
   "cell_type": "markdown",
   "metadata": {},
   "source": [
    "# VI - Cross-matching with the spec-z catalogue"
   ]
  },
  {
   "cell_type": "code",
   "execution_count": null,
   "metadata": {
    "collapsed": true
   },
   "outputs": [],
   "source": [
    "specz =  Table.read(\"../../dmu23/dmu23_CDFS-SWIRE/data/CDFS_SWIRE-specz-v2.3.fits\")"
   ]
  },
  {
   "cell_type": "code",
   "execution_count": null,
   "metadata": {
    "collapsed": true
   },
   "outputs": [],
   "source": [
    "nb_merge_dist_plot(\n",
    "    SkyCoord(master_catalogue['ra'], master_catalogue['dec']),\n",
    "    SkyCoord(specz['ra'] * u.deg, specz['dec'] * u.deg)\n",
    ")"
   ]
  },
  {
   "cell_type": "code",
   "execution_count": null,
   "metadata": {
    "collapsed": true
   },
   "outputs": [],
   "source": [
    "master_catalogue = specz_merge(master_catalogue, specz, radius=1. * u.arcsec)"
   ]
  },
  {
   "cell_type": "markdown",
   "metadata": {},
   "source": [
    "## VII - Choosing between multiple values for the same filter\n",
    "\n",
    "### VII.a SERVS vs SWIRE vs CANDELS\n",
    "\n",
    "Both SERVS and SWIRE provide IRAC1 and IRAC2 fluxes. SERVS is deeper but tends to under-estimate flux of bright sources (Mattia said over 2000 µJy) as illustrated by this comparison of SWIRE, SERVS, and Spitzer-EIP fluxes. On a small section there are also CANDELS forced irac fluxes which since thay are very deep we always take preferentially."
   ]
  },
  {
   "cell_type": "code",
   "execution_count": null,
   "metadata": {
    "collapsed": true
   },
   "outputs": [],
   "source": [
    "seip = Table.read(\"../../dmu0/dmu0_SEIP/data/SEIP_CDFS-SWIRE.fits\")\n",
    "seip_coords = SkyCoord(seip['ra'], seip['dec'])\n",
    "idx, d2d, _ = seip_coords.match_to_catalog_sky(SkyCoord(master_catalogue['ra'], master_catalogue['dec']))\n",
    "mask = d2d <= 2 * u.arcsec"
   ]
  },
  {
   "cell_type": "code",
   "execution_count": null,
   "metadata": {
    "collapsed": true
   },
   "outputs": [],
   "source": [
    "fig, ax = plt.subplots()\n",
    "ax.scatter(seip['i1_f_ap1'][mask], master_catalogue[idx[mask]]['f_ap_servs_irac1'], label=\"SERVS\", s=2.)\n",
    "ax.scatter(seip['i1_f_ap1'][mask], master_catalogue[idx[mask]]['f_ap_swire_irac1'], label=\"SWIRE\", s=2.)\n",
    "ax.set_xscale('log')\n",
    "ax.set_yscale('log')\n",
    "ax.set_xlabel(\"SEIP flux [μJy]\")\n",
    "ax.set_ylabel(\"SERVS/SWIRE flux [μJy]\")\n",
    "ax.set_title(\"IRAC 1\")\n",
    "ax.legend()\n",
    "ax.axvline(2000, color=\"black\", linestyle=\"--\", linewidth=1.)\n",
    "ax.plot(seip['i1_f_ap1'][mask], seip['i1_f_ap1'][mask], linewidth=.1, color=\"black\", alpha=.5);"
   ]
  },
  {
   "cell_type": "code",
   "execution_count": null,
   "metadata": {
    "collapsed": true
   },
   "outputs": [],
   "source": [
    "fig, ax = plt.subplots()\n",
    "ax.scatter(seip['i2_f_ap1'][mask], master_catalogue[idx[mask]]['f_ap_servs_irac2'], label=\"SERVS\", s=2.)\n",
    "ax.scatter(seip['i2_f_ap1'][mask], master_catalogue[idx[mask]]['f_ap_swire_irac2'], label=\"SWIRE\", s=2.)\n",
    "ax.set_xscale('log')\n",
    "ax.set_yscale('log')\n",
    "ax.set_xlabel(\"SEIP flux [μJy]\")\n",
    "ax.set_ylabel(\"SERVS/SWIRE flux [μJy]\")\n",
    "ax.set_title(\"IRAC 2\")\n",
    "ax.legend()\n",
    "ax.axvline(2000, color=\"black\", linestyle=\"--\", linewidth=1.)\n",
    "\n",
    "ax.plot(seip['i1_f_ap2'][mask], seip['i1_f_ap2'][mask], linewidth=.1, color=\"black\", alpha=.5);"
   ]
  },
  {
   "cell_type": "markdown",
   "metadata": {},
   "source": [
    "When both SWIRE and SERVS fluxes are provided, we use the SERVS flux below 2000 μJy and the SWIRE flux over.\n",
    "\n",
    "We create a table indicating for each source the origin on the IRAC1 and IRAC2 fluxes that will be saved separately."
   ]
  },
  {
   "cell_type": "code",
   "execution_count": null,
   "metadata": {
    "collapsed": true
   },
   "outputs": [],
   "source": [
    "irac_origin = Table()\n",
    "irac_origin.add_column(master_catalogue['help_id'])"
   ]
  },
  {
   "cell_type": "code",
   "execution_count": null,
   "metadata": {
    "collapsed": true
   },
   "outputs": [],
   "source": [
    "# IRAC1 aperture flux and magnitudes\n",
    "has_servs = ~np.isnan(master_catalogue['f_ap_servs_irac1'])\n",
    "has_swire = ~np.isnan(master_catalogue['f_ap_swire_irac1'])\n",
    "has_both = has_servs & has_swire\n",
    "\n",
    "\n",
    "\n",
    "print(\"{} sources with SERVS flux\".format(np.sum(has_servs)))\n",
    "print(\"{} sources with SWIRE flux\".format(np.sum(has_swire)))\n",
    "print(\"{} sources with SERVS and SWIRE flux\".format(np.sum(has_both)))\n",
    "\n",
    "has_servs_above_limit = has_servs.copy()\n",
    "has_servs_above_limit[has_servs] = master_catalogue['f_ap_servs_irac1'][has_servs] > 2000\n",
    "\n",
    "\n",
    "use_swire = ((has_swire & ~has_servs) | (has_both & has_servs_above_limit))\n",
    "use_servs =  ((has_servs & ~(has_both & has_servs_above_limit)))\n",
    "\n",
    "print(\"{} sources for which we use SERVS\".format(np.sum(use_servs)))\n",
    "print(\"{} sources for which we use SWIRE\".format(np.sum(use_swire)))\n",
    "\n",
    "\n",
    "f_ap_irac = np.full(len(master_catalogue), np.nan)\n",
    "f_ap_irac[use_servs] = master_catalogue['f_ap_servs_irac1'][use_servs]\n",
    "f_ap_irac[use_swire] = master_catalogue['f_ap_swire_irac1'][use_swire]\n",
    "\n",
    "\n",
    "ferr_ap_irac = np.full(len(master_catalogue), np.nan)\n",
    "ferr_ap_irac[use_servs] = master_catalogue['ferr_ap_servs_irac1'][use_servs]\n",
    "ferr_ap_irac[use_swire] = master_catalogue['ferr_ap_swire_irac1'][use_swire]\n",
    "\n",
    "\n",
    "m_ap_irac = np.full(len(master_catalogue), np.nan)\n",
    "m_ap_irac[use_servs] = master_catalogue['m_ap_servs_irac1'][use_servs]\n",
    "m_ap_irac[use_swire] = master_catalogue['m_ap_swire_irac1'][use_swire]\n",
    "\n",
    "\n",
    "merr_ap_irac = np.full(len(master_catalogue), np.nan)\n",
    "merr_ap_irac[use_servs] = master_catalogue['merr_ap_servs_irac1'][use_servs]\n",
    "merr_ap_irac[use_swire] = master_catalogue['merr_ap_swire_irac1'][use_swire]\n",
    "\n",
    "\n",
    "master_catalogue.add_column(Column(data=f_ap_irac, name=\"f_ap_irac_i1\"))\n",
    "master_catalogue.add_column(Column(data=ferr_ap_irac, name=\"ferr_ap_irac_i1\"))\n",
    "master_catalogue.add_column(Column(data=m_ap_irac, name=\"m_ap_irac_i1\"))\n",
    "master_catalogue.add_column(Column(data=merr_ap_irac, name=\"merr_ap_irac_i1\"))\n",
    "\n",
    "master_catalogue.remove_columns(['f_ap_servs_irac1', 'f_ap_swire_irac1', 'ferr_ap_servs_irac1',\n",
    "                                     'ferr_ap_swire_irac1', 'm_ap_servs_irac1', 'm_ap_swire_irac1',\n",
    "                                     'merr_ap_servs_irac1', 'merr_ap_swire_irac1'])\n",
    "\n",
    "origin = np.full(len(master_catalogue), '     ', dtype='<U5')\n",
    "origin[use_servs] = \"SERVS\"\n",
    "origin[use_swire] = \"SWIRE\"\n",
    "\n",
    "irac_origin.add_column(Column(data=origin, name=\"IRAC1_ap\"))"
   ]
  },
  {
   "cell_type": "code",
   "execution_count": null,
   "metadata": {
    "collapsed": true
   },
   "outputs": [],
   "source": [
    "# IRAC1 total flux and magnitudes\n",
    "has_servs = ~np.isnan(master_catalogue['f_servs_irac1'])\n",
    "has_swire = ~np.isnan(master_catalogue['f_swire_irac1'])\n",
    "has_both = has_servs & has_swire\n",
    "\n",
    "has_candels = ~np.isnan(master_catalogue['f_candels-irac_i1'])\n",
    "\n",
    "print(\"{} sources with SERVS flux\".format(np.sum(has_servs)))\n",
    "print(\"{} sources with SWIRE flux\".format(np.sum(has_swire)))\n",
    "print(\"{} sources with SERVS and SWIRE flux\".format(np.sum(has_both)))\n",
    "print(\"{} sources with CANDELS flux\".format(np.sum(has_candels)))\n",
    "\n",
    "has_servs_above_limit = has_servs.copy()\n",
    "has_servs_above_limit[has_servs] = master_catalogue['f_servs_irac1'][has_servs] > 2000\n",
    "\n",
    "use_candels = has_candels\n",
    "use_swire = ~has_candels & ((has_swire & ~has_servs) | (has_both & has_servs_above_limit))\n",
    "use_servs = ~has_candels & ((has_servs & ~(has_both & has_servs_above_limit)))\n",
    "\n",
    "print(\"{} sources for which we use SERVS\".format(np.sum(use_servs)))\n",
    "print(\"{} sources for which we use SWIRE\".format(np.sum(use_swire)))\n",
    "print(\"{} sources for which we use CANDELS\".format(np.sum(use_candels)))\n",
    "\n",
    "f_irac = np.full(len(master_catalogue), np.nan)\n",
    "f_irac[use_servs] = master_catalogue['f_servs_irac1'][use_servs]\n",
    "f_irac[use_swire] = master_catalogue['f_swire_irac1'][use_swire]\n",
    "f_irac[use_candels] = master_catalogue['f_candels-irac_i1'][use_candels]\n",
    "\n",
    "ferr_irac = np.full(len(master_catalogue), np.nan)\n",
    "ferr_irac[use_servs] = master_catalogue['ferr_servs_irac1'][use_servs]\n",
    "ferr_irac[use_swire] = master_catalogue['ferr_swire_irac1'][use_swire]\n",
    "ferr_irac[use_candels] = master_catalogue['ferr_candels-irac_i1'][use_candels]\n",
    "\n",
    "flag_irac = np.full(len(master_catalogue), False, dtype=bool)\n",
    "flag_irac[use_servs] = master_catalogue['flag_servs_irac1'][use_servs]\n",
    "flag_irac[use_swire] = master_catalogue['flag_swire_irac1'][use_swire]\n",
    "flag_irac[use_candels] = master_catalogue['flag_candels-irac_i1'][use_candels]\n",
    "\n",
    "m_irac = np.full(len(master_catalogue), np.nan)\n",
    "m_irac[use_servs] = master_catalogue['m_servs_irac1'][use_servs]\n",
    "m_irac[use_swire] = master_catalogue['m_swire_irac1'][use_swire]\n",
    "m_irac[use_candels] = master_catalogue['m_candels-irac_i1'][use_candels]\n",
    "\n",
    "merr_irac = np.full(len(master_catalogue), np.nan)\n",
    "merr_irac[use_servs] = master_catalogue['merr_servs_irac1'][use_servs]\n",
    "merr_irac[use_swire] = master_catalogue['merr_swire_irac1'][use_swire]\n",
    "merr_irac[use_candels] = master_catalogue['merr_candels-irac_i1'][use_candels]\n",
    "\n",
    "master_catalogue.add_column(Column(data=f_irac, name=\"f_irac_i1\"))\n",
    "master_catalogue.add_column(Column(data=ferr_irac, name=\"ferr_irac_i1\"))\n",
    "master_catalogue.add_column(Column(data=m_irac, name=\"m_irac_i1\"))\n",
    "master_catalogue.add_column(Column(data=merr_irac, name=\"merr_irac_i1\"))\n",
    "master_catalogue.add_column(Column(data=flag_irac, name=\"flag_irac_i1\"))\n",
    "\n",
    "master_catalogue.remove_columns(['f_servs_irac1', 'f_swire_irac1', 'ferr_servs_irac1',\n",
    "                                 'ferr_swire_irac1', 'm_servs_irac1', 'flag_servs_irac1', 'm_swire_irac1',\n",
    "                                 'merr_servs_irac1', 'merr_swire_irac1', 'flag_swire_irac1',\n",
    "                                 \n",
    "                                'f_candels-irac_i1',\n",
    "                                 'ferr_candels-irac_i1',\n",
    "                                 'm_candels-irac_i1',\n",
    "                                 'merr_candels-irac_i1',\n",
    "                                'flag_candels-irac_i1'])\n",
    "\n",
    "origin = np.full(len(master_catalogue), '     ', dtype='<U5')\n",
    "origin[use_servs] = \"SERVS\"\n",
    "origin[use_swire] = \"SWIRE\"\n",
    "origin[use_candels] = \"CANDELS\"\n",
    "irac_origin.add_column(Column(data=origin, name=\"IRAC1_total\"))"
   ]
  },
  {
   "cell_type": "code",
   "execution_count": null,
   "metadata": {
    "collapsed": true
   },
   "outputs": [],
   "source": [
    "# IRAC2 aperture flux and magnitudes\n",
    "has_servs = ~np.isnan(master_catalogue['f_ap_servs_irac2'])\n",
    "has_swire = ~np.isnan(master_catalogue['f_ap_swire_irac2'])\n",
    "has_both = has_servs & has_swire\n",
    "\n",
    "print(\"{} sources with SERVS flux\".format(np.sum(has_servs)))\n",
    "print(\"{} sources with SWIRE flux\".format(np.sum(has_swire)))\n",
    "print(\"{} sources with SERVS and SWIRE flux\".format(np.sum(has_both)))\n",
    "\n",
    "has_servs_above_limit = has_servs.copy()\n",
    "has_servs_above_limit[has_servs] = master_catalogue['f_ap_servs_irac2'][has_servs] > 2000\n",
    "\n",
    "use_swire = (has_swire & ~has_servs) | (has_both & has_servs_above_limit)\n",
    "use_servs = (has_servs & ~(has_both & has_servs_above_limit))\n",
    "\n",
    "print(\"{} sources for which we use SERVS\".format(np.sum(use_servs)))\n",
    "print(\"{} sources for which we use SWIRE\".format(np.sum(use_swire)))\n",
    "\n",
    "f_ap_irac = np.full(len(master_catalogue), np.nan)\n",
    "f_ap_irac[use_servs] = master_catalogue['f_ap_servs_irac2'][use_servs]\n",
    "f_ap_irac[use_swire] = master_catalogue['f_ap_swire_irac2'][use_swire]\n",
    "\n",
    "ferr_ap_irac = np.full(len(master_catalogue), np.nan)\n",
    "ferr_ap_irac[use_servs] = master_catalogue['ferr_ap_servs_irac2'][use_servs]\n",
    "ferr_ap_irac[use_swire] = master_catalogue['ferr_ap_swire_irac2'][use_swire]\n",
    "\n",
    "m_ap_irac = np.full(len(master_catalogue), np.nan)\n",
    "m_ap_irac[use_servs] = master_catalogue['m_ap_servs_irac2'][use_servs]\n",
    "m_ap_irac[use_swire] = master_catalogue['m_ap_swire_irac2'][use_swire]\n",
    "\n",
    "merr_ap_irac = np.full(len(master_catalogue), np.nan)\n",
    "merr_ap_irac[use_servs] = master_catalogue['merr_ap_servs_irac2'][use_servs]\n",
    "merr_ap_irac[use_swire] = master_catalogue['merr_ap_swire_irac2'][use_swire]\n",
    "\n",
    "master_catalogue.add_column(Column(data=f_ap_irac, name=\"f_ap_irac_i2\"))\n",
    "master_catalogue.add_column(Column(data=ferr_ap_irac, name=\"ferr_ap_irac_i2\"))\n",
    "master_catalogue.add_column(Column(data=m_ap_irac, name=\"m_ap_irac_i2\"))\n",
    "master_catalogue.add_column(Column(data=merr_ap_irac, name=\"merr_ap_irac_i2\"))\n",
    "\n",
    "master_catalogue.remove_columns(['f_ap_servs_irac2', 'f_ap_swire_irac2', 'ferr_ap_servs_irac2',\n",
    "                                 'ferr_ap_swire_irac2', 'm_ap_servs_irac2', 'm_ap_swire_irac2',\n",
    "                                 'merr_ap_servs_irac2', 'merr_ap_swire_irac2'])\n",
    "\n",
    "origin = np.full(len(master_catalogue), '     ', dtype='<U5')\n",
    "origin[use_servs] = \"SERVS\"\n",
    "origin[use_swire] = \"SWIRE\"\n",
    "irac_origin.add_column(Column(data=origin, name=\"IRAC2_ap\"))"
   ]
  },
  {
   "cell_type": "code",
   "execution_count": null,
   "metadata": {
    "collapsed": true
   },
   "outputs": [],
   "source": [
    "# IRAC2 total flux and magnitudes\n",
    "has_servs = ~np.isnan(master_catalogue['f_servs_irac2'])\n",
    "has_swire = ~np.isnan(master_catalogue['f_swire_irac2'])\n",
    "has_both = has_servs & has_swire\n",
    "\n",
    "has_candels = ~np.isnan(master_catalogue['f_candels-irac_i2'])\n",
    "\n",
    "print(\"{} sources with SERVS flux\".format(np.sum(has_servs)))\n",
    "print(\"{} sources with SWIRE flux\".format(np.sum(has_swire)))\n",
    "print(\"{} sources with SERVS and SWIRE flux\".format(np.sum(has_both)))\n",
    "print(\"{} sources with CANDELS flux\".format(np.sum(has_candels)))\n",
    "\n",
    "has_servs_above_limit = has_servs.copy()\n",
    "has_servs_above_limit[has_servs] = master_catalogue['f_servs_irac2'][has_servs] > 2000\n",
    "\n",
    "use_candels = has_candels\n",
    "use_swire = ~has_candels & ((has_swire & ~has_servs) | (has_both & has_servs_above_limit))\n",
    "use_servs = ~has_candels & ((has_servs & ~(has_both & has_servs_above_limit)))\n",
    "\n",
    "print(\"{} sources for which we use SERVS\".format(np.sum(use_servs)))\n",
    "print(\"{} sources for which we use SWIRE\".format(np.sum(use_swire)))\n",
    "print(\"{} sources for which we use CANDELS\".format(np.sum(use_candels)))\n",
    "\n",
    "f_irac = np.full(len(master_catalogue), np.nan)\n",
    "f_irac[use_servs] = master_catalogue['f_servs_irac2'][use_servs]\n",
    "f_irac[use_swire] = master_catalogue['f_swire_irac2'][use_swire]\n",
    "f_irac[use_candels] = master_catalogue['f_candels-irac_i2'][use_candels]\n",
    "\n",
    "ferr_irac = np.full(len(master_catalogue), np.nan)\n",
    "ferr_irac[use_servs] = master_catalogue['ferr_servs_irac2'][use_servs]\n",
    "ferr_irac[use_swire] = master_catalogue['ferr_swire_irac2'][use_swire]\n",
    "ferr_irac[use_candels] = master_catalogue['ferr_candels-irac_i2'][use_candels]\n",
    "\n",
    "flag_irac = np.full(len(master_catalogue), False, dtype=bool)\n",
    "flag_irac[use_servs] = master_catalogue['flag_servs_irac2'][use_servs]\n",
    "flag_irac[use_swire] = master_catalogue['flag_swire_irac2'][use_swire]\n",
    "flag_irac[use_candels] = master_catalogue['flag_candels-irac_i2'][use_candels]\n",
    "\n",
    "m_irac = np.full(len(master_catalogue), np.nan)\n",
    "m_irac[use_servs] = master_catalogue['m_servs_irac2'][use_servs]\n",
    "m_irac[use_swire] = master_catalogue['m_swire_irac2'][use_swire]\n",
    "m_irac[use_candels] = master_catalogue['m_candels-irac_i2'][use_candels]\n",
    "\n",
    "merr_irac = np.full(len(master_catalogue), np.nan)\n",
    "merr_irac[use_servs] = master_catalogue['merr_servs_irac2'][use_servs]\n",
    "merr_irac[use_swire] = master_catalogue['merr_swire_irac2'][use_swire]\n",
    "merr_irac[use_candels] = master_catalogue['merr_candels-irac_i2'][use_candels]\n",
    "\n",
    "master_catalogue.add_column(Column(data=f_irac, name=\"f_irac_i2\"))\n",
    "master_catalogue.add_column(Column(data=ferr_irac, name=\"ferr_irac_i2\"))\n",
    "master_catalogue.add_column(Column(data=m_irac, name=\"m_irac_i2\"))\n",
    "master_catalogue.add_column(Column(data=merr_irac, name=\"merr_irac_i2\"))\n",
    "master_catalogue.add_column(Column(data=flag_irac, name=\"flag_irac_i2\"))\n",
    "\n",
    "master_catalogue.remove_columns(['f_servs_irac2', 'f_swire_irac2', 'ferr_servs_irac2',\n",
    "                                 'ferr_swire_irac2', 'm_servs_irac2', 'flag_servs_irac2', 'm_swire_irac2',\n",
    "                                 'merr_servs_irac2', 'merr_swire_irac2', 'flag_swire_irac2',\n",
    "                                \n",
    "                                'f_candels-irac_i2',\n",
    "                                'ferr_candels-irac_i2',\n",
    "                                'm_candels-irac_i2',\n",
    "                                'merr_candels-irac_i2',\n",
    "                                'flag_candels-irac_i2'])\n",
    "\n",
    "origin = np.full(len(master_catalogue), '     ', dtype='<U5')\n",
    "origin[use_servs] = \"SERVS\"\n",
    "origin[use_swire] = \"SWIRE\"\n",
    "origin[use_candels] = \"CANDELS\"\n",
    "irac_origin.add_column(Column(data=origin, name=\"IRAC2_total\"))"
   ]
  },
  {
   "cell_type": "code",
   "execution_count": null,
   "metadata": {
    "collapsed": true
   },
   "outputs": [],
   "source": [
    "has_candels_irac_i3 = ~np.isnan(master_catalogue['f_candels-irac_i3'])\n",
    "has_candels_irac_i4 = ~np.isnan(master_catalogue['f_candels-irac_i4'])\n",
    "has_swire_irac_i3 = ~np.isnan(master_catalogue['f_irac3'])\n",
    "has_swire_irac_i4 = ~np.isnan(master_catalogue['f_irac4'])\n",
    "\n",
    "use_candels_irac_i3 = has_candels_irac_i3 & ~has_swire_irac_i3\n",
    "use_candels_irac_i4 = has_candels_irac_i4 & ~has_swire_irac_i4\n",
    "\n",
    "for col in master_catalogue.colnames:\n",
    "    if '_irac3' in col:\n",
    "        master_catalogue[col].name = col.replace('_irac3', '_irac_i3')\n",
    "    if '_irac4' in col:\n",
    "        master_catalogue[col].name = col.replace('_irac4', '_irac_i4')\n",
    "\n",
    "master_catalogue['f_irac_i3'][use_candels_irac_i3] = master_catalogue['f_candels-irac_i3'][use_candels_irac_i3]\n",
    "master_catalogue['ferr_irac_i3'][use_candels_irac_i3] = master_catalogue['ferr_candels-irac_i3'][use_candels_irac_i3]\n",
    "master_catalogue['m_irac_i3'][use_candels_irac_i3] = master_catalogue['m_candels-irac_i3'][use_candels_irac_i3]\n",
    "master_catalogue['merr_irac_i3'][use_candels_irac_i3] = master_catalogue['merr_candels-irac_i3'][use_candels_irac_i3]\n",
    "master_catalogue['flag_irac_i3'][use_candels_irac_i3] = master_catalogue['flag_candels-irac_i3'][use_candels_irac_i3]\n",
    "\n",
    "master_catalogue['f_irac_i4'][use_candels_irac_i3] = master_catalogue['f_candels-irac_i4'][use_candels_irac_i3]\n",
    "master_catalogue['ferr_irac_i4'][use_candels_irac_i3] = master_catalogue['ferr_candels-irac_i4'][use_candels_irac_i3]\n",
    "master_catalogue['m_irac_i4'][use_candels_irac_i3] = master_catalogue['m_candels-irac_i4'][use_candels_irac_i3]\n",
    "master_catalogue['merr_irac_i4'][use_candels_irac_i3] = master_catalogue['merr_candels-irac_i4'][use_candels_irac_i3]\n",
    "master_catalogue['flag_irac_i4'][use_candels_irac_i3] = master_catalogue['flag_candels-irac_i4'][use_candels_irac_i3]\n",
    "\n",
    "origin = np.full(len(master_catalogue), '     ', dtype='<U5')\n",
    "origin[has_swire_irac_i3] = \"SWIRE\"\n",
    "origin[use_candels_irac_i3] = \"CANDELS\"\n",
    "irac_origin.add_column(Column(data=origin, name=\"IRAC3_total\"))\n",
    "\n",
    "origin = np.full(len(master_catalogue), '     ', dtype='<U5')\n",
    "origin[has_swire_irac_i4] = \"SWIRE\"\n",
    "origin[use_candels_irac_i4] = \"CANDELS\"\n",
    "irac_origin.add_column(Column(data=origin, name=\"IRAC4_total\"))\n",
    "\n",
    "master_catalogue.remove_columns(['f_candels-irac_i3',    'f_candels-irac_i4',\n",
    "                                 'ferr_candels-irac_i3', 'ferr_candels-irac_i4',\n",
    "                                 'm_candels-irac_i3',    'm_candels-irac_i4',\n",
    "                                 'merr_candels-irac_i3', 'merr_candels-irac_i4',\n",
    "                                 'flag_candels-irac_i3', 'flag_candels-irac_i4'])"
   ]
  },
  {
   "cell_type": "code",
   "execution_count": null,
   "metadata": {
    "collapsed": true
   },
   "outputs": [],
   "source": [
    "irac_origin.write(\"{}/cdfs-swire_irac_fluxes_origins{}.fits\".format(OUT_DIR, SUFFIX), overwrite=True)"
   ]
  },
  {
   "cell_type": "markdown",
   "metadata": {},
   "source": [
    "## VII.b VIDEO vs VHS\n",
    "VIDEO is deeper than VHS so we take VIDEO flux for any source that has both."
   ]
  },
  {
   "cell_type": "code",
   "execution_count": null,
   "metadata": {
    "collapsed": true
   },
   "outputs": [],
   "source": [
    "vista_origin = Table()\n",
    "vista_origin.add_column(master_catalogue['help_id'])"
   ]
  },
  {
   "cell_type": "code",
   "execution_count": null,
   "metadata": {
    "collapsed": true
   },
   "outputs": [],
   "source": [
    "vista_bands = ['y','j','h','k'] # Lowercase naming convention (k is Ks)\n",
    "for band in vista_bands:\n",
    "    print('For VISTA band ' + band + ':')\n",
    "    # VISTA total flux \n",
    "    has_video = ~np.isnan(master_catalogue['f_video_' + band])\n",
    "    has_vhs = ~np.isnan(master_catalogue['f_vhs_' + band])\n",
    "    has_both = has_video & has_vhs\n",
    "\n",
    "    print(\"{} sources with VIDEO flux\".format(np.sum(has_video)))\n",
    "    print(\"{} sources with VHS flux\".format(np.sum(has_vhs)))\n",
    "    print(\"{} sources with VIDEO and VHS flux\".format(np.sum(has_both)))\n",
    "\n",
    "\n",
    "    use_video = has_video \n",
    "    use_vhs = has_vhs & ~has_both\n",
    "\n",
    "    print(\"{} sources for which we use VIDEO\".format(np.sum(use_video)))\n",
    "    print(\"{} sources for which we use VHS\".format(np.sum(use_vhs)))\n",
    "\n",
    "    f_vista = np.full(len(master_catalogue), np.nan)\n",
    "    f_vista[use_video] = master_catalogue['f_video_' + band][use_video]\n",
    "    f_vista[use_vhs] = master_catalogue['f_vhs_' + band][use_vhs]\n",
    "\n",
    "    ferr_vista = np.full(len(master_catalogue), np.nan)\n",
    "    ferr_vista[use_video] = master_catalogue['ferr_video_' + band][use_video]\n",
    "    ferr_vista[use_vhs] = master_catalogue['ferr_vhs_' + band][use_vhs]\n",
    "    \n",
    "    m_vista = np.full(len(master_catalogue), np.nan)\n",
    "    m_vista[use_video] = master_catalogue['m_video_' + band][use_video]\n",
    "    m_vista[use_vhs] = master_catalogue['m_vhs_' + band][use_vhs]\n",
    "\n",
    "    merr_vista = np.full(len(master_catalogue), np.nan)\n",
    "    merr_vista[use_video] = master_catalogue['merr_video_' + band][use_video]\n",
    "    merr_vista[use_vhs] = master_catalogue['merr_vhs_' + band][use_vhs]\n",
    "\n",
    "    flag_vista = np.full(len(master_catalogue), False, dtype=bool)\n",
    "    flag_vista[use_video] = master_catalogue['flag_video_' + band][use_video]\n",
    "    flag_vista[use_vhs] = master_catalogue['flag_vhs_' + band][use_vhs]\n",
    "\n",
    "    master_catalogue.add_column(Column(data=f_vista, name=\"f_vista_\" + band))\n",
    "    master_catalogue.add_column(Column(data=ferr_vista, name=\"ferr_vista_\" + band))\n",
    "    master_catalogue.add_column(Column(data=m_vista, name=\"m_vista_\" + band))\n",
    "    master_catalogue.add_column(Column(data=merr_vista, name=\"merr_vista_\" + band))\n",
    "    master_catalogue.add_column(Column(data=flag_vista, name=\"flag_vista_\" + band))\n",
    "\n",
    "    master_catalogue.remove_columns(['f_video_' + band, \n",
    "                                     'f_vhs_' + band, \n",
    "                                     'ferr_video_' + band,\n",
    "                                     'ferr_vhs_' + band, \n",
    "                                     'm_video_' + band, \n",
    "                                     'm_vhs_' + band, \n",
    "                                     'merr_video_' + band,\n",
    "                                     'merr_vhs_' + band,\n",
    "                                     'flag_video_' + band, \n",
    "                                     'flag_vhs_' + band])\n",
    "\n",
    "    origin = np.full(len(master_catalogue), '     ', dtype='<U5')\n",
    "    origin[use_video] = \"VIDEO\"\n",
    "    origin[use_vhs] = \"VHS\"\n",
    "    \n",
    "    vista_origin.add_column(Column(data=origin, name= 'f_vista_' + band ))\n",
    "    \n",
    "    \n",
    "    \n",
    "    # VISTA Aperture flux\n",
    "    has_ap_video = ~np.isnan(master_catalogue['f_ap_video_' + band])\n",
    "    has_ap_vhs = ~np.isnan(master_catalogue['f_ap_vhs_' + band])\n",
    "    has_ap_both = has_ap_video & has_ap_vhs\n",
    "\n",
    "    print(\"{} sources with VIDEO aperture flux\".format(np.sum(has_ap_video)))\n",
    "    print(\"{} sources with VHS aperture flux\".format(np.sum(has_ap_vhs)))\n",
    "    print(\"{} sources with VIDEO and VHS aperture flux\".format(np.sum(has_ap_both)))\n",
    "\n",
    "\n",
    "    use_ap_video = has_ap_video \n",
    "    use_ap_vhs = has_ap_vhs & ~has_ap_both\n",
    "\n",
    "    print(\"{} sources for which we use VIDEO aperture fluxes\".format(np.sum(use_ap_video)))\n",
    "    print(\"{} sources for which we use VHS aperture fluxes\".format(np.sum(use_ap_vhs)))\n",
    "\n",
    "    f_ap_vista = np.full(len(master_catalogue), np.nan)\n",
    "    f_ap_vista[use_ap_video] = master_catalogue['f_ap_video_' + band][use_ap_video]\n",
    "    f_ap_vista[use_ap_vhs] = master_catalogue['f_ap_vhs_' + band][use_ap_vhs]\n",
    "\n",
    "    ferr_ap_vista = np.full(len(master_catalogue), np.nan)\n",
    "    ferr_ap_vista[use_ap_video] = master_catalogue['ferr_ap_video_' + band][use_ap_video]\n",
    "    ferr_ap_vista[use_ap_vhs] = master_catalogue['ferr_ap_vhs_' + band][use_ap_vhs]\n",
    "    \n",
    "    m_ap_vista = np.full(len(master_catalogue), np.nan)\n",
    "    m_ap_vista[use_ap_video] = master_catalogue['m_ap_video_' + band][use_ap_video]\n",
    "    m_ap_vista[use_ap_vhs] = master_catalogue['m_ap_vhs_' + band][use_ap_vhs]\n",
    "\n",
    "    merr_ap_vista = np.full(len(master_catalogue), np.nan)\n",
    "    merr_ap_vista[use_ap_video] = master_catalogue['merr_ap_video_' + band][use_ap_video]\n",
    "    merr_ap_vista[use_ap_vhs] = master_catalogue['merr_ap_vhs_' + band][use_ap_vhs]\n",
    "\n",
    "\n",
    "    master_catalogue.add_column(Column(data=f_ap_vista, name=\"f_ap_vista_\" + band))\n",
    "    master_catalogue.add_column(Column(data=ferr_ap_vista, name=\"ferr_ap_vista_\" + band))\n",
    "    master_catalogue.add_column(Column(data=m_ap_vista, name=\"m_ap_vista_\" + band))\n",
    "    master_catalogue.add_column(Column(data=merr_vista, name=\"merr_ap_vista_\" + band))\n",
    "\n",
    "\n",
    "    master_catalogue.remove_columns(['f_ap_video_' + band, \n",
    "                                     'f_ap_vhs_' + band, \n",
    "                                     'ferr_ap_video_' + band,\n",
    "                                     'ferr_ap_vhs_' + band,\n",
    "                                     'm_ap_video_' + band, \n",
    "                                     'm_ap_vhs_' + band, \n",
    "                                     'merr_ap_video_' + band,\n",
    "                                     'merr_ap_vhs_' + band])\n",
    "\n",
    "    origin_ap = np.full(len(master_catalogue), '     ', dtype='<U5')\n",
    "    origin_ap[use_ap_video] = \"VIDEO\"\n",
    "    origin_ap[use_ap_vhs] = \"VHS\"\n",
    "    \n",
    "    vista_origin.add_column(Column(data=origin_ap, name= 'f_ap_vista_' + band ))\n",
    "                  "
   ]
  },
  {
   "cell_type": "code",
   "execution_count": null,
   "metadata": {
    "collapsed": true
   },
   "outputs": [],
   "source": [
    "      \n",
    "#Z band only in VIDEO\n",
    "               \n",
    "master_catalogue['f_ap_video_z'].name = 'f_ap_vista_z'\n",
    "master_catalogue['ferr_ap_video_z'].name = 'ferr_ap_vista_z'\n",
    "master_catalogue['f_video_z'].name = 'f_vista_z'\n",
    "master_catalogue['ferr_video_z'].name = 'ferr_vista_z'\n",
    "master_catalogue['m_ap_video_z'].name = 'm_ap_vista_z'\n",
    "master_catalogue['merr_ap_video_z'].name = 'merr_ap_vista_z'\n",
    "master_catalogue['m_video_z'].name = 'm_vista_z'\n",
    "master_catalogue['merr_video_z'].name = 'merr_vista_z'\n",
    "master_catalogue['flag_video_z'].name = 'flag_vista_z'"
   ]
  },
  {
   "cell_type": "code",
   "execution_count": null,
   "metadata": {
    "collapsed": true
   },
   "outputs": [],
   "source": [
    "vista_origin.write(\"{}/cdfs-swire_vista_fluxes_origins{}.fits\".format(OUT_DIR, SUFFIX), overwrite=True)"
   ]
  },
  {
   "cell_type": "markdown",
   "metadata": {},
   "source": [
    "## VIII.a Wavelength domain coverage\n",
    "\n",
    "We add a binary `flag_optnir_obs` indicating that a source was observed in a given wavelength domain:\n",
    "\n",
    "- 1 for observation in optical;\n",
    "- 2 for observation in near-infrared;\n",
    "- 4 for observation in mid-infrared (IRAC).\n",
    "\n",
    "It's an integer binary flag, so a source observed both in optical and near-infrared by not in mid-infrared would have this flag at 1 + 2 = 3.\n",
    "\n",
    "*Note 1: The observation flag is based on the creation of multi-order coverage maps from the catalogues, this may not be accurate, especially on the edges of the coverage.*\n",
    "\n",
    "*Note 2: Being on the observation coverage does not mean having fluxes in that wavelength domain. For sources observed in one domain but having no flux in it, one must take into consideration de different depths in the catalogue we are using.*"
   ]
  },
  {
   "cell_type": "code",
   "execution_count": null,
   "metadata": {
    "collapsed": true
   },
   "outputs": [],
   "source": [
    "atlas_moc = MOC(filename=\"../../dmu0/dmu0_ATLAS/data/ATLAS_CDFS-SWIRE_MOC.fits\")\n",
    "combo_moc = MOC(filename=\"../../dmu0/dmu0_COMBO-17/data/table3_MOC.fits\")\n",
    "#fireworks_moc = MOC(filename=\"../../dmu0/dmu0_Fireworks/data/Fireworks_MOC.fits\")\n",
    "ps1_moc = MOC(filename=\"../../dmu0/dmu0_PanSTARRS1-3SS/data/PanSTARRS1-3SS_CDFS-SWIRE_MOC.fits\")\n",
    "servs_moc = MOC(filename=\"../../dmu0/dmu0_DataFusion-Spitzer/data/DF-SERVS_CDFS-SWIRE_MOC.fits\")\n",
    "swire_moc = MOC(filename=\"../../dmu0/dmu0_DataFusion-Spitzer/data/DF-SWIRE_CDFS-SWIRE_MOC.fits\")\n",
    "video_moc= MOC(filename=\"../../dmu0/dmu0_VISTA-VIDEO-private/data/VIDEO-all_2017-02-12_fullcat_errfix_CDFS-SWIRE_MOC.fits\")\n",
    "vhs_moc= MOC(filename=\"../../dmu0/dmu0_VISTA-VHS/data/VHS_CDFS-SWIRE_MOC.fits\")\n",
    "des_moc =MOC(filename=\"../../dmu0/dmu0_DES/data/DES-DR1_CDFS-SWIRE_MOC.fits\")\n",
    "candels_moc =MOC(filename=\"../../dmu0/dmu0_CANDELS-GOODS-S/data/hlsp_candels_hst_wfc3_goodss-tot-multiband_f160w_v1_MOC.fits\")"
   ]
  },
  {
   "cell_type": "code",
   "execution_count": null,
   "metadata": {
    "collapsed": true
   },
   "outputs": [],
   "source": [
    "was_observed_optical = inMoc(\n",
    "    master_catalogue['ra'], master_catalogue['dec'],\n",
    "    ps1_moc + atlas_moc + combo_moc + des_moc + candels_moc ) #+ fireworks_moc\n",
    "\n",
    "was_observed_nir = inMoc(\n",
    "    master_catalogue['ra'], master_catalogue['dec'],\n",
    "    vhs_moc + video_moc\n",
    ")\n",
    "\n",
    "was_observed_mir = inMoc(\n",
    "    master_catalogue['ra'], master_catalogue['dec'],\n",
    "    servs_moc + swire_moc\n",
    ")"
   ]
  },
  {
   "cell_type": "code",
   "execution_count": null,
   "metadata": {
    "collapsed": true
   },
   "outputs": [],
   "source": [
    "master_catalogue.add_column(\n",
    "    Column(\n",
    "        1 * was_observed_optical + 2 * was_observed_nir + 4 * was_observed_mir,\n",
    "        name=\"flag_optnir_obs\")\n",
    ")"
   ]
  },
  {
   "cell_type": "markdown",
   "metadata": {},
   "source": [
    "## VIII.b Wavelength domain detection\n",
    "\n",
    "We add a binary `flag_optnir_det` indicating that a source was detected in a given wavelength domain:\n",
    "\n",
    "- 1 for detection in optical;\n",
    "- 2 for detection in near-infrared;\n",
    "- 4 for detection in mid-infrared (IRAC).\n",
    "\n",
    "It's an integer binary flag, so a source detected both in optical and near-infrared by not in mid-infrared would have this flag at 1 + 2 = 3.\n",
    "\n",
    "*Note 1: We use the total flux columns to know if the source has flux, in some catalogues, we may have aperture flux and no total flux.*\n",
    "\n",
    "To get rid of artefacts (chip edges, star flares, etc.) we consider that a source is detected in one wavelength domain when it has a flux value in **at least two bands**. That means that good sources will be excluded from this flag when they are on the coverage of only one band."
   ]
  },
  {
   "cell_type": "code",
   "execution_count": null,
   "metadata": {
    "collapsed": true
   },
   "outputs": [],
   "source": [
    "# SpARCS is a catalogue of sources detected in r (with fluxes measured at \n",
    "# this prior position in the other bands).  Thus, we are only using the r\n",
    "# CFHT band.\n",
    "# Check to use catalogue flags from HSC and PanSTARRS.\n",
    "nb_optical_flux = (\n",
    "    1 * ~np.isnan(master_catalogue['f_ps1_g']) +\n",
    "    1 * ~np.isnan(master_catalogue['f_ps1_r']) +\n",
    "    1 * ~np.isnan(master_catalogue['f_ps1_i']) +\n",
    "    1 * ~np.isnan(master_catalogue['f_ps1_z']) +\n",
    "    1 * ~np.isnan(master_catalogue['f_ps1_y']) +\n",
    "    \n",
    "    1 * ~np.isnan(master_catalogue['f_atlas_u']) +\n",
    "    1 * ~np.isnan(master_catalogue['f_atlas_g']) +\n",
    "    1 * ~np.isnan(master_catalogue['f_atlas_r']) +\n",
    "    1 * ~np.isnan(master_catalogue['f_atlas_i']) +\n",
    "    1 * ~np.isnan(master_catalogue['f_atlas_z']) +\n",
    "    #DES\n",
    "    1 * ~np.isnan(master_catalogue['f_decam_g']) +\n",
    "    1 * ~np.isnan(master_catalogue['f_decam_r']) +    \n",
    "    1 * ~np.isnan(master_catalogue['f_decam_i']) +\n",
    "    1 * ~np.isnan(master_catalogue['f_decam_z']) +\n",
    "    1 * ~np.isnan(master_catalogue['f_decam_y']) \n",
    "\n",
    ")\n",
    "\n",
    "nb_nir_flux = (\n",
    "\n",
    "    1 * ~np.isnan(master_catalogue['f_vista_y']) +\n",
    "    1 * ~np.isnan(master_catalogue['f_vista_h']) +\n",
    "    1 * ~np.isnan(master_catalogue['f_vista_j']) +\n",
    "    1 * ~np.isnan(master_catalogue['f_vista_k'])\n",
    ")\n",
    "\n",
    "nb_mir_flux = (\n",
    "    1 * ~np.isnan(master_catalogue['f_irac_i1']) +\n",
    "    1 * ~np.isnan(master_catalogue['f_irac_i2']) +\n",
    "    1 * ~np.isnan(master_catalogue['f_irac_i3']) +\n",
    "    1 * ~np.isnan(master_catalogue['f_irac_i4'])\n",
    ")"
   ]
  },
  {
   "cell_type": "code",
   "execution_count": null,
   "metadata": {
    "collapsed": true
   },
   "outputs": [],
   "source": [
    "has_optical_flux = nb_optical_flux >= 2\n",
    "has_nir_flux = nb_nir_flux >= 2\n",
    "has_mir_flux = nb_mir_flux >= 2\n",
    "\n",
    "master_catalogue.add_column(\n",
    "    Column(\n",
    "        1 * has_optical_flux + 2 * has_nir_flux + 4 * has_mir_flux,\n",
    "        name=\"flag_optnir_det\")\n",
    ")"
   ]
  },
  {
   "cell_type": "markdown",
   "metadata": {},
   "source": [
    "## IX - Cross-identification table\n",
    "We are producing a table associating to each HELP identifier, the identifiers of the sources in the pristine catalogues. This can be used to easily get additional information from them."
   ]
  },
  {
   "cell_type": "code",
   "execution_count": null,
   "metadata": {
    "collapsed": true
   },
   "outputs": [],
   "source": [
    "master_catalogue['help_id', \n",
    "                 'atlas_id', \n",
    "                 'combo_id', \n",
    "                 #'fireworks_id', \n",
    "                 'ps1_id', \n",
    "                 'servs_intid', \n",
    "                 'swire_intid', \n",
    "                 'video_id',\n",
    "                 'vhs_id', \n",
    "                 'specz_id',\n",
    "                'des_id',\n",
    "                'candels_id'].write(\n",
    "    \"{}/master_list_cross_ident_cdfs-swire{}.fits\".format(OUT_DIR, SUFFIX), overwrite=True)\n",
    "master_catalogue.remove_columns(['atlas_id', \n",
    "                 'combo_id', \n",
    "                 #'fireworks_id', \n",
    "                 'ps1_id', \n",
    "                 'servs_intid', \n",
    "                 'swire_intid', \n",
    "                 'video_id',\n",
    "                 'vhs_id', \n",
    "                 'specz_id',\n",
    "                'des_id',\n",
    "                'candels_id'])"
   ]
  },
  {
   "cell_type": "markdown",
   "metadata": {},
   "source": [
    "## X - Adding HEALPix index\n",
    "\n",
    "We are adding a column with a HEALPix index at order 13 associated with each source."
   ]
  },
  {
   "cell_type": "code",
   "execution_count": null,
   "metadata": {
    "collapsed": true
   },
   "outputs": [],
   "source": [
    "master_catalogue.add_column(Column(\n",
    "    data=coords_to_hpidx(master_catalogue['ra'], master_catalogue['dec'], order=13),\n",
    "    name=\"hp_idx\"\n",
    "))"
   ]
  },
  {
   "cell_type": "markdown",
   "metadata": {},
   "source": [
    "## XI - Renaming columns\n",
    "\n",
    "We rename some columns to follow the intrument_filter standard."
   ]
  },
  {
   "cell_type": "code",
   "execution_count": null,
   "metadata": {
    "collapsed": true
   },
   "outputs": [],
   "source": [
    "# PanSTARRS: The column name must use the instrument name gpc1\n",
    "for col in master_catalogue.colnames:\n",
    "        if 'ps1' in col:\n",
    "            master_catalogue[col].name = col.replace(\"ps1\", \"gpc1\")"
   ]
  },
  {
   "cell_type": "code",
   "execution_count": null,
   "metadata": {
    "collapsed": true
   },
   "outputs": [],
   "source": [
    "# COMBO-17: The instrument name is wfi\n",
    "new_name = {\n",
    "    'combo_420': \"wfi_416nm\",\n",
    "    'combo_462': \"wfi_461nm\",\n",
    "    'combo_485': \"wfi_485nm\",\n",
    "    'combo_518': \"wfi_518nm\",\n",
    "    'combo_571': \"wfi_571nm\",\n",
    "    'combo_604': \"wfi_604nm\",\n",
    "    'combo_646': \"wfi_646nm\",\n",
    "    'combo_696': \"wfi_696nm\",\n",
    "    'combo_753': \"wfi_753nm\",\n",
    "    'combo_815': \"wfi_815nm\",\n",
    "    'combo_856': \"wfi_856nm\",\n",
    "    'combo_914': \"wfi_914nm\",\n",
    "    'combo_b': \"wfi_b\",\n",
    "    'combo_i': \"wfi_i\",\n",
    "    'combo_r': \"wfi_r\",\n",
    "    'combo_u': \"wfi_u\",\n",
    "    'combo_v': \"wfi_v\"\n",
    "}\n",
    "\n",
    "for col in master_catalogue.colnames:\n",
    "    if 'combo' in col:\n",
    "        for old_name in new_name:\n",
    "            if old_name in col:\n",
    "                master_catalogue[col].name = col.replace(old_name, new_name[old_name])"
   ]
  },
  {
   "cell_type": "code",
   "execution_count": null,
   "metadata": {
    "collapsed": true
   },
   "outputs": [],
   "source": [
    "# ATLAS: The instrument is omegacam\n",
    "# The catalogue contains a \"UL\" band that is not described anywhere except with\n",
    "# “Bandpass UL comes from CASU created list driven measurement”. We are removing it.\n",
    "master_catalogue.remove_columns(['m_ap_atlas_ul', 'merr_ap_atlas_ul', 'm_atlas_ul', 'merr_atlas_ul',\n",
    "                                 'f_ap_atlas_ul', 'ferr_ap_atlas_ul', 'f_atlas_ul', 'ferr_atlas_ul',\n",
    "                                 'flag_atlas_ul'])\n",
    "for col in master_catalogue.colnames:\n",
    "        if 'atlas' in col:\n",
    "            master_catalogue[col].name = col.replace(\"atlas\", \"omegacam\")"
   ]
  },
  {
   "cell_type": "code",
   "execution_count": null,
   "metadata": {
    "collapsed": true
   },
   "outputs": [],
   "source": [
    "# VISTA: The instrument is vircam but vista is used in the filter names.\n",
    "# The K band is in fact a Ks one.\n",
    "for col in master_catalogue.colnames:\n",
    "        if 'vista_k' in col:\n",
    "            master_catalogue[col].name = col.replace(\"vista_k\", \"vista_ks\")"
   ]
  },
  {
   "cell_type": "markdown",
   "metadata": {},
   "source": [
    "## XII - Saving the catalogue"
   ]
  },
  {
   "cell_type": "code",
   "execution_count": null,
   "metadata": {
    "collapsed": true
   },
   "outputs": [],
   "source": [
    "columns = [\"help_id\", \"field\", \"ra\", \"dec\", \"hp_idx\"]\n",
    "\n",
    "bands = [column[5:] for column in master_catalogue.colnames if 'f_ap' in column]\n",
    "\n",
    "\n",
    "bands_no_ap = (set([column[5:] for column in master_catalogue.colnames if 'flag' in column]) \n",
    "               - set(bands) \n",
    "               - set(['cleaned', 'gaia', 'merged', 'optnir_det', 'optnir_obs', '_association_flag'])\n",
    "              )\n",
    "\n",
    "\n",
    "for band in bands:\n",
    "    columns += [\"f_ap_{}\".format(band), \"ferr_ap_{}\".format(band),\n",
    "                \"m_ap_{}\".format(band), \"merr_ap_{}\".format(band),\n",
    "                \"f_{}\".format(band), \"ferr_{}\".format(band),\n",
    "                \"m_{}\".format(band), \"merr_{}\".format(band),\n",
    "                #\"flag_{}\".format(band)\n",
    "               ]    \n",
    "\n",
    "for band in bands_no_ap:\n",
    "    columns += [\"f_{}\".format(band), \"ferr_{}\".format(band),\n",
    "                \"m_{}\".format(band), \"merr_{}\".format(band),\n",
    "                #\"flag_{}\".format(band)\n",
    "               ]   \n",
    "    \n",
    "columns += [\"stellarity\", \"flag_cleaned\", \"flag_merged\", \"flag_gaia\", \"flag_optnir_obs\", \"flag_optnir_det\",\n",
    "            \"zspec\", \"zspec_qual\", \"zspec_association_flag\", \"ebv\"]"
   ]
  },
  {
   "cell_type": "code",
   "execution_count": null,
   "metadata": {
    "collapsed": true
   },
   "outputs": [],
   "source": [
    "# We check for columns in the master catalogue that we will not save to disk.\n",
    "print(\"Missing columns: {}\".format(set(master_catalogue.colnames) - set(columns)))"
   ]
  },
  {
   "cell_type": "code",
   "execution_count": null,
   "metadata": {
    "collapsed": true
   },
   "outputs": [],
   "source": [
    "master_catalogue[columns].write(\"{}/master_catalogue_cdfs-swire{}.fits\".format(OUT_DIR, SUFFIX), overwrite=True)"
   ]
  }
 ],
 "metadata": {
  "kernelspec": {
   "display_name": "Python (herschelhelp_internal)",
   "language": "python",
   "name": "helpint"
  },
  "language_info": {
   "codemirror_mode": {
    "name": "ipython",
    "version": 3
   },
   "file_extension": ".py",
   "mimetype": "text/x-python",
   "name": "python",
   "nbconvert_exporter": "python",
   "pygments_lexer": "ipython3",
   "version": "3.6.1"
  }
 },
 "nbformat": 4,
 "nbformat_minor": 2
}
