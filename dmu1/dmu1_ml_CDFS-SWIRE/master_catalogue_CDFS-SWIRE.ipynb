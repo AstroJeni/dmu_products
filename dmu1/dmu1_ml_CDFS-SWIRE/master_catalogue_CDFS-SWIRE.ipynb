{
 "cells": [
  {
   "cell_type": "markdown",
   "metadata": {},
   "source": [
    "# HELP - CDFS-SWIRE Master List Creation\n",
    "\n",
    "This notebook presents the creation of the HELP master catalogue on the CDFS-SWIRE field. The following table summarises the list of used catalogues.\n",
    "\n",
    "| Survey    | Telescope / Instrument      |      Filters (detection band in bold)      | Location                    |\n",
    "|-----------|-----------------------------|:------------------------------------------:|-----------------------------|\n",
    "| VIDEO     | VISTA/VIRCAM                | **u**,**g**,**r**,**i**,**z** |dmu0_VISTA-VIDEO, dmu0_VISTA-VIDEO-private|\n",
    "| SWIRE     | Spitzer / IRAC              | **IRAC1**,**IRAC2**,**IRAC3**,**IRAC4**    | dmu0_DataFusion-Spitzer     |\n",
    "| SERVS     | Spitzer / IRAC              | **IRAC1**, **IRAC2**                       | dmu0_DataFusion-Spitzer     |\n",
    "| PS1 3PSS  | Pan-STARRS1 / Pan-STARRS1   | grizy                                      | dmu0_PanSTARRS1-3SS         |\n",
    "| PS1 MDS\t| Pan-STARRS1 / Pan-STARRS1   |\tgrizy                                      | ...awaiting release         |\n",
    "| VOICE\t    | VST/OmegaCAM\t              | u,g,r,i                                    | ...waiting for Mattia       |\n",
    "| CTIO/CDFS | CTIO/MOSAIC\t              | g,r,i                                      | ...waiting for Mattia       |\n",
    "| DES-DEEP\t| Blanco/DECAM\t              | grizy                                      | ...awaiting release         |\n",
    "| Fireworks\t| HST\tACS\t                  | U38, B435, B, V, V606, R, i775, I, z850, J, H, **Ks**, IRAC1, IRAC2, IRAC3, IRAC4   | dmu0_Fireworks              |\n",
    "| COMBO-17\t| ESO/MPG \t/WFI\t          |                                            | dmu0_COMBO-17               |\n",
    "| GOODS\t    | Spitzer\t\t              |                                            | ...unknown status           |\n"
   ]
  },
  {
   "cell_type": "code",
   "execution_count": 1,
   "metadata": {
    "collapsed": false
   },
   "outputs": [
    {
     "name": "stdout",
     "output_type": "stream",
     "text": [
      "This notebook was run with herschelhelp_internal version: \n",
      "c40aaa9 (Wed May 31 17:58:17 2017 +0100) [with local modifications]\n"
     ]
    }
   ],
   "source": [
    "from herschelhelp_internal import git_version\n",
    "print(\"This notebook was run with herschelhelp_internal version: \\n{}\".format(git_version()))"
   ]
  },
  {
   "cell_type": "code",
   "execution_count": 2,
   "metadata": {
    "collapsed": false
   },
   "outputs": [
    {
     "name": "stderr",
     "output_type": "stream",
     "text": [
      "/Users/rs548/anaconda/envs/herschelhelp_internal/lib/python3.6/site-packages/IPython/html.py:14: ShimWarning: The `IPython.html` package has been deprecated since IPython 4.0. You should import from `notebook` instead. `IPython.html.widgets` has moved to `ipywidgets`.\n",
      "  \"`IPython.html.widgets` has moved to `ipywidgets`.\", ShimWarning)\n"
     ]
    }
   ],
   "source": [
    "%matplotlib inline\n",
    "#%config InlineBackend.figure_format = 'svg'\n",
    "\n",
    "import matplotlib.pyplot as plt\n",
    "plt.rc('figure', figsize=(10, 6))\n",
    "\n",
    "from astropy.table import Column, Table\n",
    "from astropy import units as u\n",
    "from astropy.coordinates import SkyCoord\n",
    "import matplotlib as mpl\n",
    "import numpy as np\n",
    "import seaborn as sns\n",
    "from pymoc import MOC\n",
    "from matplotlib_venn import venn3\n",
    "\n",
    "from herschelhelp_internal import flagging, utils, masterlist, starmask"
   ]
  },
  {
   "cell_type": "code",
   "execution_count": 3,
   "metadata": {
    "collapsed": false
   },
   "outputs": [
    {
     "data": {
      "text/plain": [
       "'en_GB'"
      ]
     },
     "execution_count": 3,
     "metadata": {},
     "output_type": "execute_result"
    }
   ],
   "source": [
    "import locale\n",
    "locale.setlocale(locale.LC_ALL, 'en_GB')"
   ]
  },
  {
   "cell_type": "code",
   "execution_count": 4,
   "metadata": {
    "collapsed": true
   },
   "outputs": [],
   "source": [
    "import logging\n",
    "logger = logging.getLogger()\n",
    "logger.setLevel(logging.INFO)"
   ]
  },
  {
   "cell_type": "markdown",
   "metadata": {},
   "source": [
    "## I - Pristine catalogues preparation\n",
    "\n",
    "### I.a -VIDEO/VISTA/VIRCAM\n",
    "\n",
    "The catalogue comes from `dmu0_VISTA_VIDEO-private`.\n",
    "\n",
    "There is an old public version of the catalogue but we are using the newer private version in the hope that it will be public by the time we publish the masterlist.\n",
    "\n",
    "Filters: Z,Y,J,H,K \n",
    "\n",
    "In the catalogue, we keep:\n",
    "\n",
    "- The identifier (it's unique in the catalogue);\n",
    "- The position (degrees);\n",
    "- The stellarity;\n",
    "- The magnitude for each band in apertude 3, which is 2 arcsec (rs548 presumes same for private catalogue).\n",
    "- The “auto” magnitude is provided, we presume this is standard Sextractor units etc.\n",
    "\n",
    "Yannick said the dates of observation for VIDEO are from 2009/11 to 2016/12. There is a paper from 2012 (Jarvis et al). So will use 2012."
   ]
  },
  {
   "cell_type": "code",
   "execution_count": 6,
   "metadata": {
    "collapsed": false
   },
   "outputs": [],
   "source": [
    "#Both flux and mag available in pristine catalogues\n",
    "#I think these are still 2 arcsec aperture phtometriers and need to be replaceed with 3 arcsec.\n",
    "#There is a PSTAR for each band and they vary quite a bit. I took the J band because it is in the middle\n",
    "video = Table.read(\"../../dmu0/dmu0_VISTA-VIDEO-private/data/VIDEO-all_2016-04-14_fullcat_errfix_CDFS-SWIRE.fits\")[\n",
    "    'ID', 'ALPHA_J2000', 'DELTA_J2000', 'J_CLASS_STAR',     \n",
    "    'Z_MAG_APER_3', 'Z_MAGERR_APER_3', 'Z_MAG_AUTO', 'Z_MAGERR_AUTO',\n",
    "    'Z_FLUX_APER_3', 'Z_FLUXERR_APER_3', 'Z_FLUX_AUTO', 'Z_FLUXERR_AUTO',\n",
    "    'Y_MAG_APER_3', 'Y_MAGERR_APER_3', 'Y_MAG_AUTO', 'Y_MAGERR_AUTO',\n",
    "    'Y_FLUX_APER_3', 'Y_FLUXERR_APER_3', 'Y_FLUX_AUTO', 'Y_FLUXERR_AUTO',\n",
    "    'J_MAG_APER_3', 'J_MAGERR_APER_3', 'J_MAG_AUTO', 'J_MAGERR_AUTO',\n",
    "    'J_FLUX_APER_3', 'J_FLUXERR_APER_3', 'J_FLUX_AUTO', 'J_FLUXERR_AUTO',\n",
    "    'H_MAG_APER_3', 'H_MAGERR_APER_3', 'H_MAG_AUTO', 'H_MAGERR_AUTO',\n",
    "    'H_FLUX_APER_3', 'H_FLUXERR_APER_3', 'H_FLUX_AUTO', 'H_FLUXERR_AUTO',\n",
    "    'K_MAG_APER_3', 'K_MAGERR_APER_3', 'K_MAG_AUTO', 'K_MAGERR_AUTO',\n",
    "    'K_FLUX_APER_3', 'K_FLUXERR_APER_3', 'K_FLUX_AUTO', 'K_FLUXERR_AUTO']\n",
    "video = Table(video.as_array(), names=[\n",
    "    'video_id', 'video_ra', 'video_dec', 'video_stellarity',\n",
    "    'm_app_video_z', 'merr_app_video_z', 'm_video_z', 'merr_video_z',\n",
    "    'f_app_video_z', 'ferr_app_video_z', 'f_video_z', 'ferr_video_z',\n",
    "    'm_app_video_y', 'merr_app_video_y', 'm_video_y', 'merr_video_y',\n",
    "    'f_app_video_y', 'ferr_app_video_y', 'f_video_y', 'ferr_video_y',\n",
    "    'm_app_video_j', 'merr_app_video_j', 'm_video_j', 'merr_video_j',\n",
    "    'f_app_video_j', 'ferr_app_video_j', 'f_video_j', 'ferr_video_j',\n",
    "    'm_app_video_h', 'merr_app_video_h', 'm_video_h', 'merr_video_h',\n",
    "    'f_app_video_h', 'ferr_app_video_h', 'f_video_h', 'ferr_video_h',\n",
    "    'm_app_video_k', 'merr_app_video_k', 'm_video_k', 'merr_video_k',\n",
    "    'f_app_video_k', 'ferr_app_video_k', 'f_video_k', 'ferr_video_k',\n",
    "])\n",
    "\n",
    "video_epoch = 2012\n",
    "#MOC made using stilts: stilts pixfoot in=VIDEO-all_2016-04-14_fullcat_errfix_ELAIS-S1.fits\n",
    "#out=VIDEO-all_2016-04-14_fullcat_errfix_ELAIS-S1_MOC.fits ra=ALPHA_J2000 dec=DELTA_J2000 order=13\n",
    "video_moc = MOC(filename=\"../../dmu0/dmu0_VISTA-VIDEO-private/data/VIDEO-all_2016-04-14_fullcat_errfix_CDFS-SWIRE_MOC.fits\")\n",
    "\n",
    "# Adding band-flag columns\n",
    "for col in video.colnames:\n",
    "    if col.startswith('m_'):\n",
    "        \n",
    "        #errcol = \"merr{}\".format(col[1:])\n",
    "        #flux, error = utils.mag_to_flux(np.array(video[col]), np.array(video[errcol]))\n",
    "\n",
    "        # Fluxes are added in µJy\n",
    "        #video.add_column(Column(flux * 1.e6, name=\"f{}\".format(col[1:])))\n",
    "        #video.add_column(Column(error * 1.e6, name=\"f{}\".format(errcol[1:])))\n",
    "        \n",
    "        # Band-flag column\n",
    "        video.add_column(Column(np.zeros(len(video), dtype=bool), name=\"flag{}\".format(col[1:])))\n",
    "        \n",
    "# TODO: Set to True the flag columns for fluxes that should not be used for SED fitting."
   ]
  },
  {
   "cell_type": "code",
   "execution_count": 7,
   "metadata": {
    "collapsed": false
   },
   "outputs": [
    {
     "data": {
      "text/html": [
       "&lt;Table length=10&gt;\n",
       "<table id=\"table4715129824-960985\" class=\"table-striped table-bordered table-condensed\">\n",
       "<thead><tr><th>idx</th><th>video_id</th><th>video_ra</th><th>video_dec</th><th>video_stellarity</th><th>m_app_video_z</th><th>merr_app_video_z</th><th>m_video_z</th><th>merr_video_z</th><th>f_app_video_z</th><th>ferr_app_video_z</th><th>f_video_z</th><th>ferr_video_z</th><th>m_app_video_y</th><th>merr_app_video_y</th><th>m_video_y</th><th>merr_video_y</th><th>f_app_video_y</th><th>ferr_app_video_y</th><th>f_video_y</th><th>ferr_video_y</th><th>m_app_video_j</th><th>merr_app_video_j</th><th>m_video_j</th><th>merr_video_j</th><th>f_app_video_j</th><th>ferr_app_video_j</th><th>f_video_j</th><th>ferr_video_j</th><th>m_app_video_h</th><th>merr_app_video_h</th><th>m_video_h</th><th>merr_video_h</th><th>f_app_video_h</th><th>ferr_app_video_h</th><th>f_video_h</th><th>ferr_video_h</th><th>m_app_video_k</th><th>merr_app_video_k</th><th>m_video_k</th><th>merr_video_k</th><th>f_app_video_k</th><th>ferr_app_video_k</th><th>f_video_k</th><th>ferr_video_k</th><th>flag_app_video_z</th><th>flag_video_z</th><th>flag_app_video_y</th><th>flag_video_y</th><th>flag_app_video_j</th><th>flag_video_j</th><th>flag_app_video_h</th><th>flag_video_h</th><th>flag_app_video_k</th><th>flag_video_k</th></tr></thead>\n",
       "<tr><td>0</td><td>1307519</td><td>52.5764425036</td><td>-28.0036165902</td><td>0.0103968</td><td>23.1244</td><td>0.0856302</td><td>22.9351</td><td>0.138891</td><td>562.637</td><td>44.3758</td><td>669.844</td><td>85.6917</td><td>22.8123</td><td>0.087532</td><td>22.6132</td><td>0.145146</td><td>750.06</td><td>60.4718</td><td>900.997</td><td>120.453</td><td>22.5619</td><td>0.0792798</td><td>22.4394</td><td>0.137883</td><td>944.59</td><td>68.9757</td><td>1057.4</td><td>134.289</td><td>22.2869</td><td>0.0997219</td><td>22.1966</td><td>0.17553</td><td>1216.91</td><td>111.774</td><td>1322.44</td><td>213.805</td><td>21.6483</td><td>0.0821624</td><td>21.5571</td><td>0.143083</td><td>2191.18</td><td>165.822</td><td>2383.2</td><td>314.079</td><td>False</td><td>False</td><td>False</td><td>False</td><td>False</td><td>False</td><td>False</td><td>False</td><td>False</td><td>False</td></tr>\n",
       "<tr><td>1</td><td>1307537</td><td>52.5603041414</td><td>-28.0034513965</td><td>0.0729567</td><td>23.9185</td><td>0.177761</td><td>23.9029</td><td>0.336246</td><td>270.763</td><td>44.332</td><td>274.681</td><td>85.07</td><td>23.5323</td><td>0.169923</td><td>23.5279</td><td>0.33662</td><td>386.446</td><td>60.4827</td><td>388.002</td><td>120.299</td><td>23.5371</td><td>0.194704</td><td>23.4868</td><td>0.360703</td><td>384.726</td><td>68.995</td><td>402.968</td><td>133.878</td><td>23.2214</td><td>0.235867</td><td>23.1842</td><td>0.434417</td><td>514.565</td><td>111.789</td><td>532.494</td><td>213.065</td><td>22.9315</td><td>0.267905</td><td>22.9023</td><td>0.492546</td><td>672.046</td><td>165.832</td><td>690.365</td><td>313.196</td><td>False</td><td>False</td><td>False</td><td>False</td><td>False</td><td>False</td><td>False</td><td>False</td><td>False</td><td>False</td></tr>\n",
       "<tr><td>2</td><td>1307545</td><td>52.56806518</td><td>-28.0034720553</td><td>0.0404727</td><td>21.4484</td><td>0.0182901</td><td>21.2843</td><td>0.0305287</td><td>2634.17</td><td>44.3761</td><td>3064.05</td><td>86.1577</td><td>21.2754</td><td>0.0212568</td><td>21.1132</td><td>0.0365021</td><td>3089.02</td><td>60.4795</td><td>3586.77</td><td>120.59</td><td>21.0487</td><td>0.0196787</td><td>20.9174</td><td>0.0340309</td><td>3806.45</td><td>68.9933</td><td>4295.74</td><td>134.649</td><td>20.828</td><td>0.0260207</td><td>20.752</td><td>0.0465374</td><td>4664.45</td><td>111.792</td><td>5002.51</td><td>214.427</td><td>20.6027</td><td>0.0313811</td><td>20.4955</td><td>0.053958</td><td>5740.28</td><td>165.917</td><td>6336.06</td><td>314.895</td><td>False</td><td>False</td><td>False</td><td>False</td><td>False</td><td>False</td><td>False</td><td>False</td><td>False</td><td>False</td></tr>\n",
       "<tr><td>3</td><td>1307547</td><td>52.6574343795</td><td>-28.0038182732</td><td>0.00168766</td><td>26.6988</td><td>2.30199</td><td>26.9262</td><td>5.41295</td><td>20.9152</td><td>44.3462</td><td>16.9637</td><td>84.5755</td><td>24.5844</td><td>0.447751</td><td>24.6243</td><td>0.922916</td><td>146.635</td><td>60.4735</td><td>141.349</td><td>120.156</td><td>24.1176</td><td>0.332201</td><td>24.2266</td><td>0.710945</td><td>225.41</td><td>68.9706</td><td>203.871</td><td>133.5</td><td>22.8995</td><td>0.175361</td><td>22.9562</td><td>0.351068</td><td>692.145</td><td>111.795</td><td>656.931</td><td>212.423</td><td>22.6307</td><td>0.203072</td><td>22.6578</td><td>0.392258</td><td>886.622</td><td>165.836</td><td>864.739</td><td>312.426</td><td>False</td><td>False</td><td>False</td><td>False</td><td>False</td><td>False</td><td>False</td><td>False</td><td>False</td><td>False</td></tr>\n",
       "<tr><td>4</td><td>1307553</td><td>52.7597187859</td><td>-28.0042276187</td><td>0.762026</td><td>23.2616</td><td>0.0954313</td><td>23.4266</td><td>0.214152</td><td>495.872</td><td>43.5863</td><td>425.969</td><td>84.0214</td><td>23.0878</td><td>0.112845</td><td>23.2196</td><td>0.252911</td><td>581.936</td><td>60.4851</td><td>515.424</td><td>120.067</td><td>23.1501</td><td>0.136275</td><td>23.1841</td><td>0.271659</td><td>549.468</td><td>68.9681</td><td>532.567</td><td>133.257</td><td>22.7953</td><td>0.158786</td><td>22.8781</td><td>0.32586</td><td>761.873</td><td>111.426</td><td>705.945</td><td>211.881</td><td>22.956</td><td>0.274104</td><td>22.9585</td><td>0.5166</td><td>657.057</td><td>165.885</td><td>655.539</td><td>311.92</td><td>False</td><td>False</td><td>False</td><td>False</td><td>False</td><td>False</td><td>False</td><td>False</td><td>False</td><td>False</td></tr>\n",
       "<tr><td>5</td><td>1307559</td><td>52.6922441369</td><td>-28.0039817321</td><td>0.981548</td><td>21.4363</td><td>0.0180672</td><td>21.4903</td><td>0.0361918</td><td>2663.65</td><td>44.3259</td><td>2534.33</td><td>84.4819</td><td>21.0571</td><td>0.0173892</td><td>21.1005</td><td>0.0359413</td><td>3777.21</td><td>60.498</td><td>3629.2</td><td>120.142</td><td>20.8283</td><td>0.016076</td><td>20.8697</td><td>0.0322816</td><td>4663.03</td><td>69.0455</td><td>4488.85</td><td>133.469</td><td>20.8261</td><td>0.0259885</td><td>20.854</td><td>0.0506186</td><td>4672.75</td><td>111.852</td><td>4554.28</td><td>212.334</td><td>20.9607</td><td>0.0436281</td><td>20.9933</td><td>0.0846454</td><td>4127.81</td><td>165.873</td><td>4005.8</td><td>312.308</td><td>False</td><td>False</td><td>False</td><td>False</td><td>False</td><td>False</td><td>False</td><td>False</td><td>False</td><td>False</td></tr>\n",
       "<tr><td>6</td><td>1307566</td><td>52.5415573606</td><td>-28.0032513622</td><td>0.00021876</td><td>23.2598</td><td>0.0957977</td><td>23.0407</td><td>0.153296</td><td>496.683</td><td>43.8253</td><td>607.726</td><td>85.8083</td><td>23.3198</td><td>0.139642</td><td>23.2777</td><td>0.26807</td><td>469.998</td><td>60.4509</td><td>488.565</td><td>120.631</td><td>22.8386</td><td>0.102236</td><td>23.0488</td><td>0.242567</td><td>732.049</td><td>68.9342</td><td>603.21</td><td>134.769</td><td>22.6178</td><td>0.134811</td><td>22.4296</td><td>0.218087</td><td>897.213</td><td>111.406</td><td>1067.0</td><td>214.33</td><td>22.4988</td><td>0.179821</td><td>22.5501</td><td>0.358374</td><td>1001.07</td><td>165.804</td><td>954.879</td><td>315.192</td><td>False</td><td>False</td><td>False</td><td>False</td><td>False</td><td>False</td><td>False</td><td>False</td><td>False</td><td>False</td></tr>\n",
       "<tr><td>7</td><td>1307567</td><td>52.7803303559</td><td>-28.0042248642</td><td>0.0792431</td><td>25.1813</td><td>0.559335</td><td>26.1469</td><td>2.62526</td><td>84.6218</td><td>43.5958</td><td>34.7742</td><td>84.0851</td><td>24.8803</td><td>0.587909</td><td>24.9757</td><td>1.27495</td><td>111.659</td><td>60.4635</td><td>102.259</td><td>120.084</td><td>24.4588</td><td>0.454699</td><td>24.5408</td><td>0.948184</td><td>164.622</td><td>68.9451</td><td>152.647</td><td>133.313</td><td>24.1258</td><td>0.540691</td><td>24.4213</td><td>1.35057</td><td>223.7</td><td>111.405</td><td>170.402</td><td>211.974</td><td>23.6682</td><td>0.528232</td><td>23.8754</td><td>1.20255</td><td>340.983</td><td>165.901</td><td>281.738</td><td>312.062</td><td>False</td><td>False</td><td>False</td><td>False</td><td>False</td><td>False</td><td>False</td><td>False</td><td>False</td><td>False</td></tr>\n",
       "<tr><td>8</td><td>1307569</td><td>52.5512615392</td><td>-28.0032722393</td><td>0.277955</td><td>25.1053</td><td>0.530278</td><td>26.0181</td><td>2.32274</td><td>90.7531</td><td>44.3256</td><td>39.1527</td><td>83.763</td><td>25.176</td><td>0.772322</td><td>25.7911</td><td>2.69837</td><td>85.0361</td><td>60.4912</td><td>48.2573</td><td>119.937</td><td>25.0471</td><td>0.782493</td><td>25.493</td><td>2.2725</td><td>95.7523</td><td>69.0113</td><td>63.5052</td><td>132.924</td><td>23.9428</td><td>0.458521</td><td>25.3109</td><td>3.05594</td><td>264.777</td><td>111.823</td><td>75.1003</td><td>211.386</td><td>25.5503</td><td>2.9897</td><td>25.0269</td><td>3.46334</td><td>60.2394</td><td>165.882</td><td>97.5543</td><td>311.195</td><td>False</td><td>False</td><td>False</td><td>False</td><td>False</td><td>False</td><td>False</td><td>False</td><td>False</td><td>False</td></tr>\n",
       "<tr><td>9</td><td>1307584</td><td>52.5398251319</td><td>-28.003179841</td><td>0.0298891</td><td>21.9313</td><td>0.0280753</td><td>21.9112</td><td>0.053598</td><td>1688.34</td><td>43.6591</td><td>1719.97</td><td>84.9101</td><td>21.5823</td><td>0.0281466</td><td>21.5696</td><td>0.0554462</td><td>2328.52</td><td>60.3666</td><td>2355.86</td><td>120.313</td><td>21.1682</td><td>0.0218965</td><td>21.1422</td><td>0.0416451</td><td>3409.62</td><td>68.7655</td><td>3492.45</td><td>133.963</td><td>20.7114</td><td>0.0232366</td><td>20.6878</td><td>0.0435761</td><td>5193.17</td><td>111.146</td><td>5307.54</td><td>213.025</td><td>20.3171</td><td>0.0240628</td><td>20.2874</td><td>0.0443499</td><td>7467.42</td><td>165.504</td><td>7674.15</td><td>313.482</td><td>False</td><td>False</td><td>False</td><td>False</td><td>False</td><td>False</td><td>False</td><td>False</td><td>False</td><td>False</td></tr>\n",
       "</table><style>table.dataTable {clear: both; width: auto !important; margin: 0 !important;}\n",
       ".dataTables_info, .dataTables_length, .dataTables_filter, .dataTables_paginate{\n",
       "display: inline-block; margin-right: 1em; }\n",
       ".paginate_button { margin-right: 5px; }\n",
       "</style>\n",
       "<script>\n",
       "\n",
       "var astropy_sort_num = function(a, b) {\n",
       "    var a_num = parseFloat(a);\n",
       "    var b_num = parseFloat(b);\n",
       "\n",
       "    if (isNaN(a_num) && isNaN(b_num))\n",
       "        return ((a < b) ? -1 : ((a > b) ? 1 : 0));\n",
       "    else if (!isNaN(a_num) && !isNaN(b_num))\n",
       "        return ((a_num < b_num) ? -1 : ((a_num > b_num) ? 1 : 0));\n",
       "    else\n",
       "        return isNaN(a_num) ? -1 : 1;\n",
       "}\n",
       "\n",
       "require.config({paths: {\n",
       "    datatables: 'https://cdn.datatables.net/1.10.12/js/jquery.dataTables.min'\n",
       "}});\n",
       "require([\"datatables\"], function(){\n",
       "    console.log(\"$('#table4715129824-960985').dataTable()\");\n",
       "    \n",
       "jQuery.extend( jQuery.fn.dataTableExt.oSort, {\n",
       "    \"optionalnum-asc\": astropy_sort_num,\n",
       "    \"optionalnum-desc\": function (a,b) { return -astropy_sort_num(a, b); }\n",
       "});\n",
       "\n",
       "    $('#table4715129824-960985').dataTable({\n",
       "        order: [],\n",
       "        pageLength: 50,\n",
       "        lengthMenu: [[10, 25, 50, 100, 500, 1000, -1], [10, 25, 50, 100, 500, 1000, 'All']],\n",
       "        pagingType: \"full_numbers\",\n",
       "        columnDefs: [{targets: [0, 1, 2, 3, 4, 5, 6, 7, 8, 9, 10, 11, 12, 13, 14, 15, 16, 17, 18, 19, 20, 21, 22, 23, 24, 25, 26, 27, 28, 29, 30, 31, 32, 33, 34, 35, 36, 37, 38, 39, 40, 41, 42, 43, 44], type: \"optionalnum\"}]\n",
       "    });\n",
       "});\n",
       "</script>\n"
      ],
      "text/plain": [
       "<IPython.core.display.HTML object>"
      ]
     },
     "execution_count": 7,
     "metadata": {},
     "output_type": "execute_result"
    }
   ],
   "source": [
    "video[:10].show_in_notebook()"
   ]
  },
  {
   "cell_type": "markdown",
   "metadata": {},
   "source": [
    "### I.b - Spitzer datafusion SERVS\n",
    "\n",
    "The Spitzer catalogues were produced by the datafusion team are available in the HELP virtual observatory server. They are described there: http://vohedamtest.lam.fr/browse/df_spitzer/q.\n",
    "\n",
    "Lucia told that the magnitudes are aperture corrected.\n",
    "\n",
    "In the catalouge, we keep:\n",
    "\n",
    "- The internal identifier (this one is only in HeDaM data);\n",
    "- The position;\n",
    "- The fluxes in aperture 2 (1.9 arcsec);\n",
    "- The “auto” flux (which seems to be the Kron flux);\n",
    "- The stellarity in each band\n",
    "\n",
    "A query of the position in the Spitzer heritage archive show that the SERVS-ELAIS-N1 images were observed in 2009. Let's take this as epoch."
   ]
  },
  {
   "cell_type": "code",
   "execution_count": 9,
   "metadata": {
    "collapsed": false
   },
   "outputs": [
    {
     "name": "stderr",
     "output_type": "stream",
     "text": [
      "/Users/rs548/GitHub/herschelhelp_internal/herschelhelp_internal/utils.py:76: RuntimeWarning: invalid value encountered in log10\n",
      "  magnitudes = 2.5 * (23 - np.log10(fluxes)) - 48.6\n"
     ]
    }
   ],
   "source": [
    "servs = Table.read(\"../../dmu0/dmu0_DataFusion-Spitzer/data/DF-SERVS_CDFS-SWIRE.fits\")[\n",
    "    'internal_id', 'ra_12', 'dec_12',   \n",
    "    'flux_aper_2_1', 'fluxerr_aper_2_1', 'flux_auto_1', 'fluxerr_auto_1', 'class_star_1',\n",
    "    'flux_aper_2_2', 'fluxerr_aper_2_2', 'flux_auto_2', 'fluxerr_auto_2', 'class_star_2']\n",
    "\n",
    "servs = Table(servs.as_array(), names=[\n",
    "    'servs_intid', 'servs_ra', 'servs_dec',\n",
    "    'f_app_servs_irac1', 'ferr_app_servs_irac1', 'f_servs_irac1', 'ferr_servs_irac1', 'servs_stellarity_irac1',\n",
    "    'f_app_servs_irac2', 'ferr_app_servs_irac2', 'f_servs_irac2', 'ferr_servs_irac2', 'servs_stellarity_irac2'\n",
    "])\n",
    "servs_epoch = 2009\n",
    "servs_moc = MOC(filename=\"../../dmu0/dmu0_DataFusion-Spitzer/data/DF-SERVS_CDFS-SWIRE_MOC.fits\")\n",
    "\n",
    "# Adding magnitude and band-flag columns\n",
    "for col in servs.colnames:\n",
    "    if col.startswith('f_'):\n",
    "        errcol = \"ferr{}\".format(col[1:])\n",
    "        \n",
    "        magnitude, error = utils.flux_to_mag(\n",
    "            np.array(servs[col])/1.e6, np.array(servs[errcol])/1.e6)\n",
    "        # Note that some fluxes are 0.\n",
    "        \n",
    "        servs.add_column(Column(magnitude, name=\"m{}\".format(col[1:])))\n",
    "        servs.add_column(Column(error, name=\"m{}\".format(errcol[1:])))\n",
    "        \n",
    "        # Band-flag column\n",
    "        servs.add_column(Column(np.zeros(len(servs), dtype=bool), name=\"flag{}\".format(col[1:])))\n",
    "        \n",
    "# TODO: Set to True the flag columns for fluxes that should not be used for SED fitting."
   ]
  },
  {
   "cell_type": "code",
   "execution_count": 10,
   "metadata": {
    "collapsed": false
   },
   "outputs": [
    {
     "data": {
      "text/html": [
       "&lt;Table masked=True length=10&gt;\n",
       "<table id=\"table4714724040-852628\" class=\"table-striped table-bordered table-condensed\">\n",
       "<thead><tr><th>idx</th><th>servs_intid</th><th>servs_ra</th><th>servs_dec</th><th>f_app_servs_irac1</th><th>ferr_app_servs_irac1</th><th>f_servs_irac1</th><th>ferr_servs_irac1</th><th>servs_stellarity_irac1</th><th>f_app_servs_irac2</th><th>ferr_app_servs_irac2</th><th>f_servs_irac2</th><th>ferr_servs_irac2</th><th>servs_stellarity_irac2</th><th>m_app_servs_irac1</th><th>merr_app_servs_irac1</th><th>flag_app_servs_irac1</th><th>m_servs_irac1</th><th>merr_servs_irac1</th><th>flag_servs_irac1</th><th>m_app_servs_irac2</th><th>merr_app_servs_irac2</th><th>flag_app_servs_irac2</th><th>m_servs_irac2</th><th>merr_servs_irac2</th><th>flag_servs_irac2</th></tr></thead>\n",
       "<tr><td>0</td><td>763670</td><td>52.5304604</td><td>-27.9983577</td><td>nan</td><td>nan</td><td>nan</td><td>nan</td><td>nan</td><td>-0.134956646213</td><td>0.484765812009</td><td>-0.343099350045</td><td>0.441702320138</td><td>0.03</td><td>nan</td><td>nan</td><td>False</td><td>nan</td><td>nan</td><td>False</td><td>nan</td><td>-3.89997682735</td><td>False</td><td>nan</td><td>-1.39776481837</td><td>False</td></tr>\n",
       "<tr><td>1</td><td>763797</td><td>52.5314016</td><td>-27.9972923</td><td>nan</td><td>nan</td><td>nan</td><td>nan</td><td>nan</td><td>0.51079663679</td><td>0.514715193284</td><td>-0.364548270618</td><td>0.854743044328</td><td>0.01</td><td>nan</td><td>nan</td><td>False</td><td>nan</td><td>nan</td><td>False</td><td>24.6293799273</td><td>1.09406538774</td><td>False</td><td>nan</td><td>-2.54568611015</td><td>False</td></tr>\n",
       "<tr><td>2</td><td>424913</td><td>52.5289081</td><td>-27.9931454</td><td>4.03532899085</td><td>0.375223398818</td><td>2.65236576715</td><td>0.593315167577</td><td>0.31</td><td>4.27969028198</td><td>0.483283984068</td><td>3.95912366056</td><td>0.546072840276</td><td>0.67</td><td>22.3853026312</td><td>0.100956732373</td><td>False</td><td>22.8409164649</td><td>0.242871389101</td><td>False</td><td>22.3214691486</td><td>0.122606750515</td><td>False</td><td>22.4060023328</td><td>0.149753102948</td><td>False</td></tr>\n",
       "<tr><td>3</td><td>763878</td><td>52.530666</td><td>-27.9948181</td><td>nan</td><td>nan</td><td>nan</td><td>nan</td><td>nan</td><td>9.3956923803</td><td>0.488043472599</td><td>7.37509960684</td><td>0.561865778001</td><td>0.55</td><td>nan</td><td>nan</td><td>False</td><td>nan</td><td>nan</td><td>False</td><td>21.4676780267</td><td>0.0563967450453</td><td>False</td><td>21.7305802745</td><td>0.0827159021452</td><td>False</td></tr>\n",
       "<tr><td>4</td><td>424063</td><td>52.53300045</td><td>-27.99605695</td><td>2.07879361106</td><td>0.393492846997</td><td>1.23500891797</td><td>1.16624229009</td><td>0.05</td><td>2.00907092872</td><td>0.479472184446</td><td>1.51239916477</td><td>0.94836417509</td><td>0.09</td><td>23.1054715665</td><td>0.205517963893</td><td>False</td><td>23.6708247659</td><td>1.02528124247</td><td>False</td><td>23.1425118264</td><td>0.259114948301</td><td>False</td><td>23.4508339279</td><td>0.680821137818</td><td>False</td></tr>\n",
       "<tr><td>5</td><td>763451</td><td>52.5337783</td><td>-27.9962791</td><td>nan</td><td>nan</td><td>nan</td><td>nan</td><td>nan</td><td>0.89352664257</td><td>0.484976488361</td><td>0.779084740156</td><td>0.54101862617</td><td>0.15</td><td>nan</td><td>nan</td><td>False</td><td>nan</td><td>nan</td><td>False</td><td>24.0222312337</td><td>0.589301434096</td><td>False</td><td>24.1710382551</td><td>0.75396613437</td><td>False</td></tr>\n",
       "<tr><td>6</td><td>763376</td><td>52.5349252</td><td>-27.996121</td><td>nan</td><td>nan</td><td>nan</td><td>nan</td><td>nan</td><td>0.485477051589</td><td>0.478385936232</td><td>0.45539647404</td><td>0.414164691747</td><td>0.49</td><td>nan</td><td>nan</td><td>False</td><td>nan</td><td>nan</td><td>False</td><td>24.6845782357</td><td>1.06987741051</td><td>False</td><td>24.7540258407</td><td>0.987433206439</td><td>False</td></tr>\n",
       "<tr><td>7</td><td>423891</td><td>52.5332938</td><td>-27.9931574</td><td>0.930696067594</td><td>0.402707362708</td><td>0.310153068172</td><td>0.467980197875</td><td>0.02</td><td>0.69938862107</td><td>0.420433388104</td><td>0.42389964919</td><td>0.367812838535</td><td>0.26</td><td>23.9779803027</td><td>0.469792426162</td><td>False</td><td>25.1710597956</td><td>1.63823316963</td><td>False</td><td>24.2882035947</td><td>0.652683983413</td><td>False</td><td>24.8318423571</td><td>0.942080787602</td><td>False</td></tr>\n",
       "<tr><td>8</td><td>763475</td><td>52.5339033</td><td>-27.9940559</td><td>nan</td><td>nan</td><td>nan</td><td>nan</td><td>nan</td><td>0.0758123461801</td><td>0.428785724178</td><td>0.244294915666</td><td>0.187243615906</td><td>0.2</td><td>nan</td><td>nan</td><td>False</td><td>nan</td><td>nan</td><td>False</td><td>26.7006501574</td><td>6.14079643067</td><td>False</td><td>25.430213929</td><td>0.832179304039</td><td>False</td></tr>\n",
       "<tr><td>9</td><td>763268</td><td>52.5353224</td><td>-27.9985832</td><td>nan</td><td>nan</td><td>nan</td><td>nan</td><td>nan</td><td>0.0455483927188</td><td>0.482642260591</td><td>-0.00235812422749</td><td>0.438264222059</td><td>0.04</td><td>nan</td><td>nan</td><td>False</td><td>nan</td><td>nan</td><td>False</td><td>27.2538173588</td><td>11.5047347445</td><td>False</td><td>nan</td><td>-201.787220364</td><td>False</td></tr>\n",
       "</table><style>table.dataTable {clear: both; width: auto !important; margin: 0 !important;}\n",
       ".dataTables_info, .dataTables_length, .dataTables_filter, .dataTables_paginate{\n",
       "display: inline-block; margin-right: 1em; }\n",
       ".paginate_button { margin-right: 5px; }\n",
       "</style>\n",
       "<script>\n",
       "\n",
       "var astropy_sort_num = function(a, b) {\n",
       "    var a_num = parseFloat(a);\n",
       "    var b_num = parseFloat(b);\n",
       "\n",
       "    if (isNaN(a_num) && isNaN(b_num))\n",
       "        return ((a < b) ? -1 : ((a > b) ? 1 : 0));\n",
       "    else if (!isNaN(a_num) && !isNaN(b_num))\n",
       "        return ((a_num < b_num) ? -1 : ((a_num > b_num) ? 1 : 0));\n",
       "    else\n",
       "        return isNaN(a_num) ? -1 : 1;\n",
       "}\n",
       "\n",
       "require.config({paths: {\n",
       "    datatables: 'https://cdn.datatables.net/1.10.12/js/jquery.dataTables.min'\n",
       "}});\n",
       "require([\"datatables\"], function(){\n",
       "    console.log(\"$('#table4714724040-852628').dataTable()\");\n",
       "    \n",
       "jQuery.extend( jQuery.fn.dataTableExt.oSort, {\n",
       "    \"optionalnum-asc\": astropy_sort_num,\n",
       "    \"optionalnum-desc\": function (a,b) { return -astropy_sort_num(a, b); }\n",
       "});\n",
       "\n",
       "    $('#table4714724040-852628').dataTable({\n",
       "        order: [],\n",
       "        pageLength: 50,\n",
       "        lengthMenu: [[10, 25, 50, 100, 500, 1000, -1], [10, 25, 50, 100, 500, 1000, 'All']],\n",
       "        pagingType: \"full_numbers\",\n",
       "        columnDefs: [{targets: [0, 1, 2, 3, 4, 5, 6, 7, 8, 9, 10, 11, 12, 13, 14, 15, 17, 18, 20, 21, 23, 24], type: \"optionalnum\"}]\n",
       "    });\n",
       "});\n",
       "</script>\n"
      ],
      "text/plain": [
       "<IPython.core.display.HTML object>"
      ]
     },
     "execution_count": 10,
     "metadata": {},
     "output_type": "execute_result"
    }
   ],
   "source": [
    "servs[:10].show_in_notebook()"
   ]
  },
  {
   "cell_type": "markdown",
   "metadata": {},
   "source": [
    "### I.c - Spitzer datafusion SWIRE\n",
    "\n",
    "The Spitzer catalogues were produced by the datafusion team are available in the HELP virtual observatory server. They are described there: http://vohedamtest.lam.fr/browse/df_spitzer/q.\n",
    "\n",
    "Lucia told that the magnitudes are aperture corrected.\n",
    "\n",
    "In the catalouge, we keep:\n",
    "\n",
    "We keep:\n",
    "- The internal identifier (this one is only in HeDaM data);\n",
    "- The position;\n",
    "- The fluxes in aperture 2 (1.9 arcsec) for IRAC bands.\n",
    "- The Kron flux;\n",
    "- The stellarity in each band\n",
    "\n",
    "A query of the position in the Spitzer heritage archive show that the ELAIS-N1 images were observed in 2004. Let's take this as epoch.\n",
    "\n",
    "We do not use the MIPS fluxes as they will be extracted on MIPS maps using XID+."
   ]
  },
  {
   "cell_type": "code",
   "execution_count": 11,
   "metadata": {
    "collapsed": false
   },
   "outputs": [],
   "source": [
    "swire = Table.read(\"../../dmu0/dmu0_DataFusion-Spitzer/data/DF-SWIRE_CDFS-SWIRE.fits\")[\n",
    "    'internal_id', 'ra_spitzer', 'dec_spitzer',      \n",
    "    'flux_ap2_36', 'uncf_ap2_36', 'flux_kr_36', 'uncf_kr_36', 'stell_36',\n",
    "    'flux_ap2_45', 'uncf_ap2_45', 'flux_kr_45', 'uncf_kr_45', 'stell_45',\n",
    "    'flux_ap2_58', 'uncf_ap2_58', 'flux_kr_58', 'uncf_kr_58', 'stell_58',\n",
    "    'flux_ap2_80', 'uncf_ap2_80', 'flux_kr_80', 'uncf_kr_80', 'stell_80']\n",
    "\n",
    "swire = Table(swire.as_array(), names=[\n",
    "    'swire_intid', 'swire_ra', 'swire_dec',\n",
    "    'f_app_swire_irac1', 'ferr_app_swire_irac1', 'f_swire_irac1', 'ferr_swire_irac1', 'swire_stellarity_irac1',\n",
    "    'f_app_swire_irac2', 'ferr_app_swire_irac2', 'f_swire_irac2', 'ferr_swire_irac2', 'swire_stellarity_irac2',\n",
    "    'f_app_irac3', 'ferr_app_irac3', 'f_irac3', 'ferr_irac3', 'swire_stellarity_irac3',\n",
    "    'f_app_irac4', 'ferr_app_irac4', 'f_irac4', 'ferr_irac4', 'swire_stellarity_irac4'\n",
    "])\n",
    "swire_epoch = 2004\n",
    "swire_moc = MOC(filename=\"../../dmu0/dmu0_DataFusion-Spitzer/data/DF-SWIRE_CDFS-SWIRE_MOC.fits\")\n",
    "        \n",
    "# Adding magnitude and band-flag columns\n",
    "for col in swire.colnames:\n",
    "    if col.startswith('f_'):\n",
    "        errcol = \"ferr{}\".format(col[1:])\n",
    "        \n",
    "        magnitude, error = utils.flux_to_mag(\n",
    "            np.array(swire[col])/1.e6, np.array(swire[errcol])/1.e6)\n",
    "        # Note that some fluxes are 0.\n",
    "        \n",
    "        swire.add_column(Column(magnitude, name=\"m{}\".format(col[1:])))\n",
    "        swire.add_column(Column(error, name=\"m{}\".format(errcol[1:])))\n",
    "        \n",
    "        # Band-flag column\n",
    "        swire.add_column(Column(\n",
    "                np.zeros(len(swire), dtype=bool), name=\"flag{}\".format(col[1:])))\n",
    "        \n",
    "# TODO: Set to True the flag columns for fluxes that should not be used for SED fitting."
   ]
  },
  {
   "cell_type": "code",
   "execution_count": 12,
   "metadata": {
    "collapsed": false
   },
   "outputs": [
    {
     "data": {
      "text/html": [
       "&lt;Table masked=True length=10&gt;\n",
       "<table id=\"table4714861792-636470\" class=\"table-striped table-bordered table-condensed\">\n",
       "<thead><tr><th>idx</th><th>swire_intid</th><th>swire_ra</th><th>swire_dec</th><th>f_app_swire_irac1</th><th>ferr_app_swire_irac1</th><th>f_swire_irac1</th><th>ferr_swire_irac1</th><th>swire_stellarity_irac1</th><th>f_app_swire_irac2</th><th>ferr_app_swire_irac2</th><th>f_swire_irac2</th><th>ferr_swire_irac2</th><th>swire_stellarity_irac2</th><th>f_app_irac3</th><th>ferr_app_irac3</th><th>f_irac3</th><th>ferr_irac3</th><th>swire_stellarity_irac3</th><th>f_app_irac4</th><th>ferr_app_irac4</th><th>f_irac4</th><th>ferr_irac4</th><th>swire_stellarity_irac4</th><th>m_app_swire_irac1</th><th>merr_app_swire_irac1</th><th>flag_app_swire_irac1</th><th>m_swire_irac1</th><th>merr_swire_irac1</th><th>flag_swire_irac1</th><th>m_app_swire_irac2</th><th>merr_app_swire_irac2</th><th>flag_app_swire_irac2</th><th>m_swire_irac2</th><th>merr_swire_irac2</th><th>flag_swire_irac2</th><th>m_app_irac3</th><th>merr_app_irac3</th><th>flag_app_irac3</th><th>m_irac3</th><th>merr_irac3</th><th>flag_irac3</th><th>m_app_irac4</th><th>merr_app_irac4</th><th>flag_app_irac4</th><th>m_irac4</th><th>merr_irac4</th><th>flag_irac4</th></tr></thead>\n",
       "<tr><td>0</td><td>300465</td><td>52.528312</td><td>-28.00234</td><td>9.69</td><td>0.7</td><td>13.23</td><td>1.11</td><td>0.43</td><td>nan</td><td>nan</td><td>nan</td><td>nan</td><td>nan</td><td>nan</td><td>nan</td><td>nan</td><td>nan</td><td>nan</td><td>nan</td><td>nan</td><td>nan</td><td>nan</td><td>nan</td><td>21.4341905574</td><td>0.0784329559681</td><td>False</td><td>21.0961003895</td><td>0.0910935137779</td><td>False</td><td>nan</td><td>nan</td><td>False</td><td>nan</td><td>nan</td><td>False</td><td>nan</td><td>nan</td><td>False</td><td>nan</td><td>nan</td><td>False</td><td>nan</td><td>nan</td><td>False</td><td>nan</td><td>nan</td><td>False</td></tr>\n",
       "<tr><td>1</td><td>300519</td><td>52.532072</td><td>-28.00108</td><td>nan</td><td>nan</td><td>nan</td><td>nan</td><td>nan</td><td>25.92</td><td>1.05</td><td>28.06</td><td>1.38</td><td>0.31</td><td>nan</td><td>nan</td><td>nan</td><td>nan</td><td>nan</td><td>nan</td><td>nan</td><td>nan</td><td>nan</td><td>nan</td><td>nan</td><td>nan</td><td>False</td><td>nan</td><td>nan</td><td>False</td><td>20.365912507</td><td>0.0439823694057</td><td>False</td><td>20.2797808333</td><td>0.0533968625291</td><td>False</td><td>nan</td><td>nan</td><td>False</td><td>nan</td><td>nan</td><td>False</td><td>nan</td><td>nan</td><td>False</td><td>nan</td><td>nan</td><td>False</td></tr>\n",
       "<tr><td>2</td><td>300425</td><td>52.539842</td><td>-28.00315</td><td>29.76</td><td>0.88</td><td>31.36</td><td>1.15</td><td>0.66</td><td>21.13</td><td>1.01</td><td>18.29</td><td>1.07</td><td>0.71</td><td>nan</td><td>nan</td><td>nan</td><td>nan</td><td>nan</td><td>nan</td><td>nan</td><td>nan</td><td>nan</td><td>nan</td><td>20.2159176828</td><td>0.0321051028289</td><td>False</td><td>20.159059865</td><td>0.0398149437332</td><td>False</td><td>20.5877512574</td><td>0.0518974712166</td><td>False</td><td>20.7444657363</td><td>0.0635176456583</td><td>False</td><td>nan</td><td>nan</td><td>False</td><td>nan</td><td>nan</td><td>False</td><td>nan</td><td>nan</td><td>False</td><td>nan</td><td>nan</td><td>False</td></tr>\n",
       "<tr><td>3</td><td>300422</td><td>52.541612</td><td>-28.00324</td><td>8.36</td><td>0.64</td><td>15.37</td><td>1.12</td><td>0.01</td><td>nan</td><td>nan</td><td>nan</td><td>nan</td><td>nan</td><td>nan</td><td>nan</td><td>nan</td><td>nan</td><td>nan</td><td>nan</td><td>nan</td><td>nan</td><td>nan</td><td>nan</td><td>21.5944843064</td><td>0.0831185611298</td><td>False</td><td>20.9333153313</td><td>0.0791167566252</td><td>False</td><td>nan</td><td>nan</td><td>False</td><td>nan</td><td>nan</td><td>False</td><td>nan</td><td>nan</td><td>False</td><td>nan</td><td>nan</td><td>False</td><td>nan</td><td>nan</td><td>False</td><td>nan</td><td>nan</td><td>False</td></tr>\n",
       "<tr><td>4</td><td>300589</td><td>52.531762</td><td>-27.99931</td><td>nan</td><td>nan</td><td>nan</td><td>nan</td><td>nan</td><td>23.4</td><td>1.01</td><td>17.95</td><td>0.81</td><td>0.82</td><td>nan</td><td>nan</td><td>nan</td><td>nan</td><td>nan</td><td>nan</td><td>nan</td><td>nan</td><td>nan</td><td>nan</td><td>nan</td><td>nan</td><td>False</td><td>nan</td><td>nan</td><td>False</td><td>20.4769603565</td><td>0.0468629729404</td><td>False</td><td>20.7648388677</td><td>0.0489942242816</td><td>False</td><td>nan</td><td>nan</td><td>False</td><td>nan</td><td>nan</td><td>False</td><td>nan</td><td>nan</td><td>False</td><td>nan</td><td>nan</td><td>False</td></tr>\n",
       "<tr><td>5</td><td>300799</td><td>52.530612</td><td>-27.99477</td><td>10.43</td><td>0.64</td><td>9.12</td><td>0.7</td><td>0.51</td><td>8.82</td><td>0.88</td><td>7.0</td><td>0.93</td><td>0.07</td><td>nan</td><td>nan</td><td>nan</td><td>nan</td><td>nan</td><td>nan</td><td>nan</td><td>nan</td><td>nan</td><td>nan</td><td>21.3542892289</td><td>0.0666223558049</td><td>False</td><td>21.5000129042</td><td>0.0833350157161</td><td>False</td><td>21.5363285372</td><td>0.10832742179</td><td>False</td><td>21.7872549</td><td>0.144247810061</td><td>False</td><td>nan</td><td>nan</td><td>False</td><td>nan</td><td>nan</td><td>False</td><td>nan</td><td>nan</td><td>False</td><td>nan</td><td>nan</td><td>False</td></tr>\n",
       "<tr><td>6</td><td>300534</td><td>52.537432</td><td>-28.00087</td><td>15.85</td><td>0.75</td><td>11.8</td><td>1.01</td><td>0.27</td><td>13.86</td><td>0.92</td><td>11.4</td><td>0.92</td><td>0.33</td><td>nan</td><td>nan</td><td>nan</td><td>nan</td><td>nan</td><td>nan</td><td>nan</td><td>nan</td><td>nan</td><td>nan</td><td>20.8999268336</td><td>0.0513755301936</td><td>False</td><td>21.2202949817</td><td>0.0929316582039</td><td>False</td><td>21.0455919243</td><td>0.0720690698685</td><td>False</td><td>21.2577378717</td><td>0.0876208165243</td><td>False</td><td>nan</td><td>nan</td><td>False</td><td>nan</td><td>nan</td><td>False</td><td>nan</td><td>nan</td><td>False</td><td>nan</td><td>nan</td><td>False</td></tr>\n",
       "<tr><td>7</td><td>300636</td><td>52.537982</td><td>-27.99816</td><td>26.97</td><td>0.86</td><td>27.11</td><td>1.03</td><td>0.62</td><td>22.38</td><td>1.0</td><td>18.45</td><td>1.0</td><td>0.9</td><td>nan</td><td>nan</td><td>nan</td><td>nan</td><td>nan</td><td>nan</td><td>nan</td><td>nan</td><td>nan</td><td>nan</td><td>20.3227976339</td><td>0.0346211767183</td><td>False</td><td>20.317176206</td><td>0.0412507669089</td><td>False</td><td>20.5253497945</td><td>0.0485136820714</td><td>False</td><td>20.7350090738</td><td>0.0588474907728</td><td>False</td><td>nan</td><td>nan</td><td>False</td><td>nan</td><td>nan</td><td>False</td><td>nan</td><td>nan</td><td>False</td><td>nan</td><td>nan</td><td>False</td></tr>\n",
       "<tr><td>8</td><td>300482</td><td>52.542172</td><td>-28.00188</td><td>12.58</td><td>0.69</td><td>11.28</td><td>0.94</td><td>0.15</td><td>14.26</td><td>0.93</td><td>11.69</td><td>0.96</td><td>0.64</td><td>nan</td><td>nan</td><td>nan</td><td>nan</td><td>nan</td><td>nan</td><td>nan</td><td>nan</td><td>nan</td><td>nan</td><td>21.1507983972</td><td>0.059551508846</td><td>False</td><td>21.2692272509</td><td>0.0904780170632</td><td>False</td><td>21.0147011862</td><td>0.070808882919</td><td>False</td><td>21.2304637221</td><td>0.0891622546251</td><td>False</td><td>nan</td><td>nan</td><td>False</td><td>nan</td><td>nan</td><td>False</td><td>nan</td><td>nan</td><td>False</td><td>nan</td><td>nan</td><td>False</td></tr>\n",
       "<tr><td>9</td><td>300691</td><td>52.536442</td><td>-27.99719</td><td>3.4</td><td>0.56</td><td>3.66</td><td>0.58</td><td>0.42</td><td>nan</td><td>nan</td><td>nan</td><td>nan</td><td>nan</td><td>nan</td><td>nan</td><td>nan</td><td>nan</td><td>nan</td><td>nan</td><td>nan</td><td>nan</td><td>nan</td><td>nan</td><td>22.5713027074</td><td>0.178827139607</td><td>False</td><td>22.4912972865</td><td>0.172056557038</td><td>False</td><td>nan</td><td>nan</td><td>False</td><td>nan</td><td>nan</td><td>False</td><td>nan</td><td>nan</td><td>False</td><td>nan</td><td>nan</td><td>False</td><td>nan</td><td>nan</td><td>False</td><td>nan</td><td>nan</td><td>False</td></tr>\n",
       "</table><style>table.dataTable {clear: both; width: auto !important; margin: 0 !important;}\n",
       ".dataTables_info, .dataTables_length, .dataTables_filter, .dataTables_paginate{\n",
       "display: inline-block; margin-right: 1em; }\n",
       ".paginate_button { margin-right: 5px; }\n",
       "</style>\n",
       "<script>\n",
       "\n",
       "var astropy_sort_num = function(a, b) {\n",
       "    var a_num = parseFloat(a);\n",
       "    var b_num = parseFloat(b);\n",
       "\n",
       "    if (isNaN(a_num) && isNaN(b_num))\n",
       "        return ((a < b) ? -1 : ((a > b) ? 1 : 0));\n",
       "    else if (!isNaN(a_num) && !isNaN(b_num))\n",
       "        return ((a_num < b_num) ? -1 : ((a_num > b_num) ? 1 : 0));\n",
       "    else\n",
       "        return isNaN(a_num) ? -1 : 1;\n",
       "}\n",
       "\n",
       "require.config({paths: {\n",
       "    datatables: 'https://cdn.datatables.net/1.10.12/js/jquery.dataTables.min'\n",
       "}});\n",
       "require([\"datatables\"], function(){\n",
       "    console.log(\"$('#table4714861792-636470').dataTable()\");\n",
       "    \n",
       "jQuery.extend( jQuery.fn.dataTableExt.oSort, {\n",
       "    \"optionalnum-asc\": astropy_sort_num,\n",
       "    \"optionalnum-desc\": function (a,b) { return -astropy_sort_num(a, b); }\n",
       "});\n",
       "\n",
       "    $('#table4714861792-636470').dataTable({\n",
       "        order: [],\n",
       "        pageLength: 50,\n",
       "        lengthMenu: [[10, 25, 50, 100, 500, 1000, -1], [10, 25, 50, 100, 500, 1000, 'All']],\n",
       "        pagingType: \"full_numbers\",\n",
       "        columnDefs: [{targets: [0, 1, 2, 3, 4, 5, 6, 7, 8, 9, 10, 11, 12, 13, 14, 15, 16, 17, 18, 19, 20, 21, 22, 23, 24, 25, 27, 28, 30, 31, 33, 34, 36, 37, 39, 40, 42, 43, 45, 46], type: \"optionalnum\"}]\n",
       "    });\n",
       "});\n",
       "</script>\n"
      ],
      "text/plain": [
       "<IPython.core.display.HTML object>"
      ]
     },
     "execution_count": 12,
     "metadata": {},
     "output_type": "execute_result"
    }
   ],
   "source": [
    "swire[:10].show_in_notebook()"
   ]
  },
  {
   "cell_type": "markdown",
   "metadata": {},
   "source": [
    "### I.d -  PS1 3PSS  \n",
    "\n",
    "This catalogue comes from `dmu0_SpARCS`. Alexandru Tudorica confirmed that the magnitudes are AB ones and are not aperture corrected.\n",
    "\n",
    "In the catalogue, we keep:\n",
    "\n",
    "- The internal identifier (this one is only in HeDaM data);\n",
    "- The position;\n",
    "- The ugrz magnitudes in the 8th aperture (11×0.186=2.046 arcsec).\n",
    "- The \"auto\" magnitudes.\n",
    "\n",
    "Note that there are y band columns because we combined all the SpARCS data in HeDaM, but there is no y data for the ELAIS-N1 sources.\n",
    "\n",
    "The maps on the web page indicate they were observed in 2012 (or late 2011). Let's use 2012 as epoch.\n",
    "\n",
    "There is a second notebook `sparcs_aperture_correction.ipynb` detailing how we choose some values for the aperture correction."
   ]
  },
  {
   "cell_type": "code",
   "execution_count": 15,
   "metadata": {
    "collapsed": false
   },
   "outputs": [
    {
     "name": "stderr",
     "output_type": "stream",
     "text": [
      "/Users/rs548/anaconda/envs/herschelhelp_internal/lib/python3.6/site-packages/astropy/table/column.py:1096: MaskedArrayFutureWarning: setting an item on a masked array which has a shared mask will not copy the mask and also change the original mask array in the future.\n",
      "Check the NumPy 1.11 release notes for more information.\n",
      "  ma.MaskedArray.__setitem__(self, index, value)\n"
     ]
    }
   ],
   "source": [
    "#Use r band radec because readme states that is only band with radec for every source\n",
    "#Can not find stallarity - perhaps this is a flag id?\n",
    "panstarrs = Table.read(\"../../dmu0/dmu0_PanSTARRS1-3SS/data/PanSTARRS1-3SS_CDFS-SWIRE.fits\")[\n",
    "    'uniquePspsSTid', 'rra', 'rdec',   \n",
    "    'gApMag', 'gApMagErr', 'gKronMag', 'gKronMagErr', \n",
    "    'rApMag', 'rApMagErr', 'rKronMag', 'rKronMagErr',\n",
    "    'iApMag', 'iApMagErr', 'iKronMag', 'iKronMagErr',\n",
    "    'zApMag', 'zApMagErr', 'zKronMag', 'zKronMagErr',\n",
    "    'yApMag', 'yApMagErr', 'yKronMag', 'yKronMagErr']\n",
    "\n",
    "panstarrs = Table(panstarrs.as_array(), names=[\n",
    "    'panstarrs_intid', 'panstarrs_ra', 'panstarrs_dec',\n",
    "    'm_app_panstarrs_g', 'merr_app_panstarrs_g', 'm_panstarrs_g', 'merr_panstarrs_g', \n",
    "    'm_app_panstarrs_r', 'merr_app_panstarrs_r', 'm_panstarrs_r', 'merr_panstarrs_r', \n",
    "    'm_app_panstarrs_i', 'merr_app_panstarrs_i', 'm_panstarrs_i', 'merr_panstarrs_i', \n",
    "    'm_app_panstarrs_z', 'merr_app_panstarrs_z', 'm_panstarrs_z', 'merr_panstarrs_z', \n",
    "    'm_app_panstarrs_y', 'merr_app_panstarrs_y', 'm_panstarrs_y', 'merr_panstarrs_y'\n",
    "])\n",
    "panstarrs_epoch = 2009 #table says e.g. 55962.33945\n",
    "panstarrs_moc = MOC(filename=\"../../dmu0/dmu0_PanSTARRS1-3SS/data/PanSTARRS1-3SS_CDFS-SWIRE_MOC.fits\")\n",
    "\n",
    "# Replace values with -999. with NaN\n",
    "#panstarrs[panstarrs == -999.] = np.nan #fancy numpy doesn't work\n",
    "for col in panstarrs.colnames:\n",
    "    if col.startswith('m'): # | col.endswith('ra') | col.endswith('dec'):\n",
    "        panstarrs[col][np.where(panstarrs[col] == -999.)] = np.nan\n",
    "\n",
    "# Adding flux and band-flag columns\n",
    "for col in panstarrs.colnames:\n",
    "    if col.startswith('m_'):\n",
    "        \n",
    "        errcol = \"merr{}\".format(col[1:])\n",
    "        flux, error = utils.mag_to_flux(np.array(panstarrs[col]), np.array(panstarrs[errcol]))\n",
    "\n",
    "        # Fluxes are added in µJy\n",
    "        panstarrs.add_column(Column(flux * 1.e6, name=\"f{}\".format(col[1:])))\n",
    "        panstarrs.add_column(Column(error * 1.e6, name=\"f{}\".format(errcol[1:])))\n",
    "        \n",
    "        # Band-flag column\n",
    "        panstarrs.add_column(Column(np.zeros(len(panstarrs), dtype=bool), name=\"flag{}\".format(col[1:])))\n",
    "        "
   ]
  },
  {
   "cell_type": "code",
   "execution_count": 16,
   "metadata": {
    "collapsed": false
   },
   "outputs": [
    {
     "data": {
      "text/html": [
       "&lt;Table masked=True length=10&gt;\n",
       "<table id=\"table4719305000-186177\" class=\"table-striped table-bordered table-condensed\">\n",
       "<thead><tr><th>idx</th><th>panstarrs_intid</th><th>panstarrs_ra</th><th>panstarrs_dec</th><th>m_app_panstarrs_g</th><th>merr_app_panstarrs_g</th><th>m_panstarrs_g</th><th>merr_panstarrs_g</th><th>m_app_panstarrs_r</th><th>merr_app_panstarrs_r</th><th>m_panstarrs_r</th><th>merr_panstarrs_r</th><th>m_app_panstarrs_i</th><th>merr_app_panstarrs_i</th><th>m_panstarrs_i</th><th>merr_panstarrs_i</th><th>m_app_panstarrs_z</th><th>merr_app_panstarrs_z</th><th>m_panstarrs_z</th><th>merr_panstarrs_z</th><th>m_app_panstarrs_y</th><th>merr_app_panstarrs_y</th><th>m_panstarrs_y</th><th>merr_panstarrs_y</th><th>f_app_panstarrs_g</th><th>ferr_app_panstarrs_g</th><th>flag_app_panstarrs_g</th><th>f_panstarrs_g</th><th>ferr_panstarrs_g</th><th>flag_panstarrs_g</th><th>f_app_panstarrs_r</th><th>ferr_app_panstarrs_r</th><th>flag_app_panstarrs_r</th><th>f_panstarrs_r</th><th>ferr_panstarrs_r</th><th>flag_panstarrs_r</th><th>f_app_panstarrs_i</th><th>ferr_app_panstarrs_i</th><th>flag_app_panstarrs_i</th><th>f_panstarrs_i</th><th>ferr_panstarrs_i</th><th>flag_panstarrs_i</th><th>f_app_panstarrs_z</th><th>ferr_app_panstarrs_z</th><th>flag_app_panstarrs_z</th><th>f_panstarrs_z</th><th>ferr_panstarrs_z</th><th>flag_panstarrs_z</th><th>f_app_panstarrs_y</th><th>ferr_app_panstarrs_y</th><th>flag_app_panstarrs_y</th><th>f_panstarrs_y</th><th>ferr_panstarrs_y</th><th>flag_panstarrs_y</th></tr></thead>\n",
       "<tr><td>0</td><td>1044575000001629</td><td>52.52906269</td><td>-28.00194851</td><td>23.5210990906</td><td>0.021276999265</td><td>nan</td><td>nan</td><td>nan</td><td>0.012261999771</td><td>21.4883995056</td><td>0.123677000403</td><td>nan</td><td>0.00909699965268</td><td>nan</td><td>nan</td><td>21.6175994873</td><td>0.00822700001299</td><td>nan</td><td>nan</td><td>20.8388996124</td><td>0.005795000121</td><td>nan</td><td>nan</td><td>1.41762173685</td><td>0.0277809071123</td><td>False</td><td>nan</td><td>nan</td><td>False</td><td>nan</td><td>nan</td><td>False</td><td>9.21807416052</td><td>1.05003752907</td><td>False</td><td>nan</td><td>nan</td><td>False</td><td>nan</td><td>nan</td><td>False</td><td>8.18389794665</td><td>0.0620122348489</td><td>False</td><td>nan</td><td>nan</td><td>False</td><td>16.7664128178</td><td>0.0894889236283</td><td>False</td><td>nan</td><td>nan</td><td>False</td></tr>\n",
       "<tr><td>1</td><td>1044575000000385</td><td>52.5315548</td><td>-28.00073337</td><td>nan</td><td>0.0181089993566</td><td>nan</td><td>nan</td><td>nan</td><td>0.00812599994242</td><td>21.9500007629</td><td>0.163737997413</td><td>nan</td><td>0.0118119996041</td><td>nan</td><td>nan</td><td>23.0020008087</td><td>0.0155649995431</td><td>nan</td><td>nan</td><td>nan</td><td>0.0148600004613</td><td>nan</td><td>nan</td><td>nan</td><td>nan</td><td>False</td><td>nan</td><td>nan</td><td>False</td><td>nan</td><td>nan</td><td>False</td><td>6.0255916266</td><td>0.908709041701</td><td>False</td><td>nan</td><td>nan</td><td>False</td><td>nan</td><td>nan</td><td>False</td><td>2.2866498997</td><td>0.0327811714191</td><td>False</td><td>nan</td><td>nan</td><td>False</td><td>nan</td><td>nan</td><td>False</td><td>nan</td><td>nan</td><td>False</td></tr>\n",
       "<tr><td>2</td><td>1044031000004158</td><td>52.53204583</td><td>-28.00106594</td><td>nan</td><td>0.0184179991484</td><td>nan</td><td>nan</td><td>nan</td><td>0.0889360010624</td><td>nan</td><td>nan</td><td>23.0331001282</td><td>0.0100750001147</td><td>22.9598007202</td><td>0.302852988243</td><td>21.5739002228</td><td>0.00722299981862</td><td>nan</td><td>nan</td><td>nan</td><td>0.0197410006076</td><td>nan</td><td>nan</td><td>nan</td><td>nan</td><td>False</td><td>nan</td><td>nan</td><td>False</td><td>nan</td><td>nan</td><td>False</td><td>nan</td><td>nan</td><td>False</td><td>2.2220813213</td><td>0.020619621478</td><td>False</td><td>2.37727658017</td><td>0.663112561807</td><td>False</td><td>8.52000620169</td><td>0.056680437642</td><td>False</td><td>nan</td><td>nan</td><td>False</td><td>nan</td><td>nan</td><td>False</td><td>nan</td><td>nan</td><td>False</td></tr>\n",
       "<tr><td>3</td><td>1044575000001637</td><td>52.53203882</td><td>-28.00106933</td><td>nan</td><td>0.019756000489</td><td>nan</td><td>nan</td><td>nan</td><td>0.00677399989218</td><td>nan</td><td>nan</td><td>22.8180999756</td><td>0.00951300002635</td><td>22.7593002319</td><td>0.246711999178</td><td>21.5007991791</td><td>0.00779600022361</td><td>nan</td><td>nan</td><td>23.3540992737</td><td>0.0184550005943</td><td>nan</td><td>nan</td><td>nan</td><td>nan</td><td>False</td><td>nan</td><td>nan</td><td>False</td><td>nan</td><td>nan</td><td>False</td><td>nan</td><td>nan</td><td>False</td><td>2.70869439931</td><td>0.0237330299746</td><td>False</td><td>2.85943288329</td><td>0.649749359061</td><td>False</td><td>9.11339781509</td><td>0.0654376736199</td><td>False</td><td>nan</td><td>nan</td><td>False</td><td>1.6533328337</td><td>0.0281028285643</td><td>False</td><td>nan</td><td>nan</td><td>False</td></tr>\n",
       "<tr><td>4</td><td>1044031000001432</td><td>52.53986429</td><td>-28.00321425</td><td>22.7817001343</td><td>0.0133130000904</td><td>nan</td><td>nan</td><td>22.9813995361</td><td>0.0137729998678</td><td>nan</td><td>nan</td><td>21.7229995728</td><td>0.00551000004634</td><td>22.0044002533</td><td>0.134818002582</td><td>23.3511009216</td><td>0.0163739994168</td><td>nan</td><td>nan</td><td>22.9706993103</td><td>0.0138830002397</td><td>nan</td><td>nan</td><td>2.80104409886</td><td>0.0343456358717</td><td>False</td><td>nan</td><td>nan</td><td>False</td><td>2.33045212498</td><td>0.029562721284</td><td>False</td><td>nan</td><td>nan</td><td>False</td><td>7.42677335964</td><td>0.0376901142068</td><td>False</td><td>5.73112523546</td><td>0.711645106245</td><td>False</td><td>1.65790496194</td><td>0.0250028826164</td><td>False</td><td>nan</td><td>nan</td><td>False</td><td>2.35353291191</td><td>0.0300939563746</td><td>False</td><td>nan</td><td>nan</td><td>False</td></tr>\n",
       "<tr><td>5</td><td>1044575000000405</td><td>52.53986334</td><td>-28.00321892</td><td>22.6770000458</td><td>0.0144239999354</td><td>nan</td><td>nan</td><td>nan</td><td>0.0168180000037</td><td>nan</td><td>nan</td><td>21.7572002411</td><td>0.00583600020036</td><td>21.9636001587</td><td>0.136280998588</td><td>23.129699707</td><td>0.0165069997311</td><td>nan</td><td>nan</td><td>21.5256004333</td><td>0.00795099977404</td><td>nan</td><td>nan</td><td>3.08460800771</td><td>0.0409790016294</td><td>False</td><td>nan</td><td>nan</td><td>False</td><td>nan</td><td>nan</td><td>False</td><td>nan</td><td>nan</td><td>False</td><td>7.19647636771</td><td>0.0386821746754</td><td>False</td><td>5.9505887454</td><td>0.746914557011</td><td>False</td><td>2.03291919807</td><td>0.0309075045198</td><td>False</td><td>nan</td><td>nan</td><td>False</td><td>8.907581952</td><td>0.0652314823593</td><td>False</td><td>nan</td><td>nan</td><td>False</td></tr>\n",
       "<tr><td>6</td><td>1044031000004216</td><td>52.54063684</td><td>-28.00058516</td><td>24.0830993652</td><td>0.0242420006543</td><td>nan</td><td>nan</td><td>22.4395008087</td><td>0.0107310004532</td><td>22.4022006989</td><td>0.234465003014</td><td>22.4631004333</td><td>0.00774799985811</td><td>22.809299469</td><td>0.268458008766</td><td>22.5202999115</td><td>0.0111689995974</td><td>22.6072006226</td><td>0.352306991816</td><td>22.2401008606</td><td>0.00991700030863</td><td>nan</td><td>nan</td><td>0.844812349765</td><td>0.0188627232343</td><td>False</td><td>nan</td><td>nan</td><td>False</td><td>3.83883703965</td><td>0.0379415937608</td><td>False</td><td>3.97301056984</td><td>0.857972619085</td><td>False</td><td>3.75629616316</td><td>0.0268055739614</td><td>False</td><td>2.73073912264</td><td>0.675199725412</td><td>False</td><td>3.56352684991</td><td>0.0366581033014</td><td>False</td><td>3.28942319879</td><td>1.06737418067</td><td>False</td><td>4.61274721974</td><td>0.0421323479878</td><td>False</td><td>nan</td><td>nan</td><td>False</td></tr>\n",
       "<tr><td>7</td><td>1044575000001653</td><td>52.54064133</td><td>-28.00058897</td><td>22.7679004669</td><td>0.0150410002097</td><td>nan</td><td>nan</td><td>23.9377994537</td><td>0.0244059991091</td><td>22.0965995789</td><td>0.183246001601</td><td>22.3726997375</td><td>0.00774900009856</td><td>22.7560997009</td><td>0.252505987883</td><td>22.5433998108</td><td>0.0126010002568</td><td>22.6937007904</td><td>0.366243988276</td><td>22.4710998535</td><td>0.0122880004346</td><td>nan</td><td>nan</td><td>2.83687247301</td><td>0.0392999692509</td><td>False</td><td>nan</td><td>nan</td><td>False</td><td>0.965784472055</td><td>0.021709633391</td><td>False</td><td>5.26453683191</td><td>0.888526439942</td><td>False</td><td>4.08244276733</td><td>0.0291367730649</td><td>False</td><td>2.86787434956</td><td>0.666971813766</td><td>False</td><td>3.48851083088</td><td>0.0404874827635</td><td>False</td><td>3.03752376068</td><td>1.02462717161</td><td>False</td><td>3.72872245889</td><td>0.0422004378179</td><td>False</td><td>nan</td><td>nan</td><td>False</td></tr>\n",
       "<tr><td>8</td><td>1044031000001521</td><td>52.55305421</td><td>-28.00180904</td><td>nan</td><td>0.0333749987185</td><td>nan</td><td>nan</td><td>22.198600769</td><td>0.00960399955511</td><td>22.2385997772</td><td>0.251520007849</td><td>20.9841995239</td><td>0.00392099982128</td><td>21.0683994293</td><td>0.0837699994445</td><td>20.878200531</td><td>0.00524300010875</td><td>20.910900116</td><td>0.109474003315</td><td>21.6018009186</td><td>0.00739100016654</td><td>nan</td><td>nan</td><td>nan</td><td>nan</td><td>False</td><td>nan</td><td>nan</td><td>False</td><td>4.79247319388</td><td>0.0423923511256</td><td>False</td><td>4.61912897878</td><td>1.07006043632</td><td>False</td><td>14.6662873753</td><td>0.0529654532338</td><td>False</td><td>13.5718867886</td><td>1.04713920726</td><td>False</td><td>16.1703636826</td><td>0.0780863879963</td><td>False</td><td>15.6906145428</td><td>1.58207341797</td><td>False</td><td>8.30385262043</td><td>0.0565273367799</td><td>False</td><td>nan</td><td>nan</td><td>False</td></tr>\n",
       "<tr><td>9</td><td>1044575000000438</td><td>52.55307747</td><td>-28.00181305</td><td>nan</td><td>0.0658299997449</td><td>nan</td><td>nan</td><td>22.3220996857</td><td>0.0115970000625</td><td>22.4843006134</td><td>0.333447992802</td><td>21.0140991211</td><td>0.00414500012994</td><td>21.0568008423</td><td>0.0828860029578</td><td>20.8761997223</td><td>0.00584799982607</td><td>20.8551006317</td><td>0.104299999774</td><td>21.8036994934</td><td>0.00903700012714</td><td>nan</td><td>nan</td><td>nan</td><td>nan</td><td>False</td><td>nan</td><td>nan</td><td>False</td><td>4.27720558989</td><td>0.0456858243059</td><td>False</td><td>3.68366183575</td><td>1.13131499153</td><td>False</td><td>14.2679096832</td><td>0.0544704019555</td><td>False</td><td>13.717648271</td><td>1.04721665372</td><td>False</td><td>16.2001901117</td><td>0.0872575755882</td><td>False</td><td>16.5180869286</td><td>1.58679102287</td><td>False</td><td>6.89477665747</td><td>0.0573878786183</td><td>False</td><td>nan</td><td>nan</td><td>False</td></tr>\n",
       "</table><style>table.dataTable {clear: both; width: auto !important; margin: 0 !important;}\n",
       ".dataTables_info, .dataTables_length, .dataTables_filter, .dataTables_paginate{\n",
       "display: inline-block; margin-right: 1em; }\n",
       ".paginate_button { margin-right: 5px; }\n",
       "</style>\n",
       "<script>\n",
       "\n",
       "var astropy_sort_num = function(a, b) {\n",
       "    var a_num = parseFloat(a);\n",
       "    var b_num = parseFloat(b);\n",
       "\n",
       "    if (isNaN(a_num) && isNaN(b_num))\n",
       "        return ((a < b) ? -1 : ((a > b) ? 1 : 0));\n",
       "    else if (!isNaN(a_num) && !isNaN(b_num))\n",
       "        return ((a_num < b_num) ? -1 : ((a_num > b_num) ? 1 : 0));\n",
       "    else\n",
       "        return isNaN(a_num) ? -1 : 1;\n",
       "}\n",
       "\n",
       "require.config({paths: {\n",
       "    datatables: 'https://cdn.datatables.net/1.10.12/js/jquery.dataTables.min'\n",
       "}});\n",
       "require([\"datatables\"], function(){\n",
       "    console.log(\"$('#table4719305000-186177').dataTable()\");\n",
       "    \n",
       "jQuery.extend( jQuery.fn.dataTableExt.oSort, {\n",
       "    \"optionalnum-asc\": astropy_sort_num,\n",
       "    \"optionalnum-desc\": function (a,b) { return -astropy_sort_num(a, b); }\n",
       "});\n",
       "\n",
       "    $('#table4719305000-186177').dataTable({\n",
       "        order: [],\n",
       "        pageLength: 50,\n",
       "        lengthMenu: [[10, 25, 50, 100, 500, 1000, -1], [10, 25, 50, 100, 500, 1000, 'All']],\n",
       "        pagingType: \"full_numbers\",\n",
       "        columnDefs: [{targets: [0, 1, 2, 3, 4, 5, 6, 7, 8, 9, 10, 11, 12, 13, 14, 15, 16, 17, 18, 19, 20, 21, 22, 23, 24, 25, 27, 28, 30, 31, 33, 34, 36, 37, 39, 40, 42, 43, 45, 46, 48, 49, 51, 52], type: \"optionalnum\"}]\n",
       "    });\n",
       "});\n",
       "</script>\n"
      ],
      "text/plain": [
       "<IPython.core.display.HTML object>"
      ]
     },
     "execution_count": 16,
     "metadata": {},
     "output_type": "execute_result"
    }
   ],
   "source": [
    "panstarrs[:10].show_in_notebook()"
   ]
  },
  {
   "cell_type": "markdown",
   "metadata": {},
   "source": [
    "### 1.e - Fireworks "
   ]
  },
  {
   "cell_type": "code",
   "execution_count": 28,
   "metadata": {
    "collapsed": false
   },
   "outputs": [],
   "source": [
    "#Based on PanSTARRS\n",
    "fireworks = Table.read(\"../../dmu0/dmu0_Fireworks/data/fireworks.fits\")[\n",
    "    'Seq', 'RAJ2000', 'DEJ2000',   \n",
    "    'FU38', 'e_FU38', \n",
    "    'FB435', 'e_FB435', \n",
    "    'FB', 'e_FB',\n",
    "    'FV', 'e_FV',\n",
    "    'FV606', 'e_FV606',\n",
    "    'FRc', 'e_FRc',\n",
    "    'Fi775', 'e_Fi775',\n",
    "    'FI', 'e_FI',\n",
    "    'Fz850', 'e_Fz850',\n",
    "    'FJ', 'e_FJ',\n",
    "    'FH', 'e_FH',\n",
    "    'FKs', 'e_FKs',\n",
    "    'F3.6', 'e_F3.6',\n",
    "    'F4.5', 'e_F4.5',\n",
    "    'F5.8', 'e_F5.8',\n",
    "    'F8.0', 'e_F8.0',\n",
    "    'FKs.t', 'e_FKs.t',\n",
    "    'F24.t', 'e_F24.t'\n",
    "    ]\n",
    "\n",
    "#Are these aperture magnitudes - in the readme only Ks band fluxes have an associated apperture\n",
    "fireworks = Table(fireworks.as_array(), names=[\n",
    "    'fireworks_intid', 'fireworks_ra', 'fireworks_dec',\n",
    "    'm_fireworks_FU38',  'merr_fireworks_FU38', \n",
    "    'm_fireworks_FB435', 'merr_fireworks_FB435', \n",
    "    'm_fireworks_FB',    'merr_fireworks_FB',\n",
    "    'm_fireworks_FV',    'merr_fireworks_FV',\n",
    "    'm_fireworks_FV606', 'merr_fireworks_FV606',\n",
    "    'm_fireworks_FRc',   'merr_fireworks_FRc',\n",
    "    'm_fireworks_Fi775', 'merr_fireworks_Fi775',\n",
    "    'm_fireworks_FI',    'merr_fireworks_FI',\n",
    "    'm_fireworks_Fz850', 'merr_fireworks_Fz850',\n",
    "    'm_fireworks_FJ',    'merr_fireworks_FJ',\n",
    "    'm_fireworks_FH',    'merr_fireworks_FH',\n",
    "    'm_fireworks_FKs',   'merr_fireworks_FKs',\n",
    "    'm_fireworks_F3.6',  'merr_fireworks_F3.6',\n",
    "    'm_fireworks_F4.5',  'merr_fireworks_F4.5',\n",
    "    'm_fireworks_F5.8',  'merr_fireworks_F5.8',\n",
    "    'm_fireworks_F8.0',  'merr_fireworks_F8.0',\n",
    "    'm_fireworks_FKs.t', 'merr_fireworks_FKs.t',\n",
    "    'm_fireworks_F24.t', 'merr_fireworks_F24.t'\n",
    "])\n",
    "fireworks_epoch = 2008 #Paper is from 2008 - Input surveys will have individual epochs\n",
    "fireworks_moc = MOC(filename=\"../../dmu0/dmu0_Fireworks/data/fireworks_MOC.fits\")\n",
    "\n",
    "\n",
    "# Add flux and band-flag columns\n",
    "for col in fireworks.colnames:\n",
    "    if col.startswith('m_'):\n",
    "        \n",
    "        errcol = \"merr{}\".format(col[1:])\n",
    "        flux, error = utils.mag_to_flux(np.array(fireworks[col]), np.array(fireworks[errcol]))\n",
    "\n",
    "        # Fluxes are added in µJy\n",
    "        fireworks.add_column(Column(flux * 1.e6, name=\"f{}\".format(col[1:])))\n",
    "        fireworks.add_column(Column(error * 1.e6, name=\"f{}\".format(errcol[1:])))\n",
    "        \n",
    "        # Band-flag column\n",
    "        fireworks.add_column(Column(np.zeros(len(fireworks), dtype=bool), name=\"flag{}\".format(col[1:])))"
   ]
  },
  {
   "cell_type": "code",
   "execution_count": 29,
   "metadata": {
    "collapsed": false
   },
   "outputs": [
    {
     "data": {
      "text/html": [
       "&lt;Table masked=True length=10&gt;\n",
       "<table id=\"table5014762720-463724\" class=\"table-striped table-bordered table-condensed\">\n",
       "<thead><tr><th>idx</th><th>fireworks_intid</th><th>fireworks_ra</th><th>fireworks_dec</th><th>m_fireworks_FU38</th><th>merr_fireworks_FU38</th><th>m_fireworks_FB435</th><th>merr_fireworks_FB435</th><th>m_fireworks_FB</th><th>merr_fireworks_FB</th><th>m_fireworks_FV</th><th>merr_fireworks_FV</th><th>m_fireworks_FV606</th><th>merr_fireworks_FV606</th><th>m_fireworks_FRc</th><th>merr_fireworks_FRc</th><th>m_fireworks_Fi775</th><th>merr_fireworks_Fi775</th><th>m_fireworks_FI</th><th>merr_fireworks_FI</th><th>m_fireworks_Fz850</th><th>merr_fireworks_Fz850</th><th>m_fireworks_FJ</th><th>merr_fireworks_FJ</th><th>m_fireworks_FH</th><th>merr_fireworks_FH</th><th>m_fireworks_FKs</th><th>merr_fireworks_FKs</th><th>m_fireworks_F3.6</th><th>merr_fireworks_F3.6</th><th>m_fireworks_F4.5</th><th>merr_fireworks_F4.5</th><th>m_fireworks_F5.8</th><th>merr_fireworks_F5.8</th><th>m_fireworks_F8.0</th><th>merr_fireworks_F8.0</th><th>m_fireworks_FKs.t</th><th>merr_fireworks_FKs.t</th><th>m_fireworks_F24.t</th><th>merr_fireworks_F24.t</th><th>f_fireworks_FU38</th><th>ferr_fireworks_FU38</th><th>flag_fireworks_FU38</th><th>f_fireworks_FB435</th><th>ferr_fireworks_FB435</th><th>flag_fireworks_FB435</th><th>f_fireworks_FB</th><th>ferr_fireworks_FB</th><th>flag_fireworks_FB</th><th>f_fireworks_FV</th><th>ferr_fireworks_FV</th><th>flag_fireworks_FV</th><th>f_fireworks_FV606</th><th>ferr_fireworks_FV606</th><th>flag_fireworks_FV606</th><th>f_fireworks_FRc</th><th>ferr_fireworks_FRc</th><th>flag_fireworks_FRc</th><th>f_fireworks_Fi775</th><th>ferr_fireworks_Fi775</th><th>flag_fireworks_Fi775</th><th>f_fireworks_FI</th><th>ferr_fireworks_FI</th><th>flag_fireworks_FI</th><th>f_fireworks_Fz850</th><th>ferr_fireworks_Fz850</th><th>flag_fireworks_Fz850</th><th>f_fireworks_FJ</th><th>ferr_fireworks_FJ</th><th>flag_fireworks_FJ</th><th>f_fireworks_FH</th><th>ferr_fireworks_FH</th><th>flag_fireworks_FH</th><th>f_fireworks_FKs</th><th>ferr_fireworks_FKs</th><th>flag_fireworks_FKs</th><th>f_fireworks_F3.6</th><th>ferr_fireworks_F3.6</th><th>flag_fireworks_F3.6</th><th>f_fireworks_F4.5</th><th>ferr_fireworks_F4.5</th><th>flag_fireworks_F4.5</th><th>f_fireworks_F5.8</th><th>ferr_fireworks_F5.8</th><th>flag_fireworks_F5.8</th><th>f_fireworks_F8.0</th><th>ferr_fireworks_F8.0</th><th>flag_fireworks_F8.0</th><th>f_fireworks_FKs.t</th><th>ferr_fireworks_FKs.t</th><th>flag_fireworks_FKs.t</th><th>f_fireworks_F24.t</th><th>ferr_fireworks_F24.t</th><th>flag_fireworks_F24.t</th></tr></thead>\n",
       "<tr><td>0</td><td>1</td><td>53.2033631</td><td>-27.9372714</td><td>0.379</td><td>0.03749</td><td>0.07</td><td>nan</td><td>0.536</td><td>0.01313</td><td>0.721</td><td>0.01757</td><td>1.179</td><td>0.04691</td><td>1.445</td><td>0.01582</td><td>2.636</td><td>0.06975</td><td>2.337</td><td>0.09936</td><td>3.067</td><td>0.09619</td><td>4.073</td><td>0.202</td><td>0.163</td><td>14.31</td><td>6.378</td><td>0.34084</td><td>6.152</td><td>0.07331</td><td>3.937</td><td>0.10984</td><td>3.846</td><td>0.77398</td><td>2.242</td><td>0.66438</td><td>7.421</td><td>0.3966</td><td>-20.498</td><td>7.01084</td><td>2560943517.16</td><td>88428268.3376</td><td>False</td><td>3404081897.01</td><td>nan</td><td>False</td><td>2216154325.96</td><td>26800346.3202</td><td>False</td><td>1868959971.65</td><td>30244571.8933</td><td>False</td><td>1225744632.05</td><td>52959163.043</td><td>False</td><td>959400631.516</td><td>13979194.8763</td><td>False</td><td>320331760.085</td><td>20578792.6828</td><td>False</td><td>421890746.568</td><td>38608885.2847</td><td>False</td><td>215377335.566</td><td>19081196.535</td><td>False</td><td>85270733.7344</td><td>15864524.1255</td><td>False</td><td>3124640085.81</td><td>41182747182.9</td><td>False</td><td>10204694.3194</td><td>3203511.12599</td><td>False</td><td>12566085.2008</td><td>848474.705026</td><td>False</td><td>96649586.4314</td><td>9777688.65688</td><td>False</td><td>105099342.719</td><td>74921319.6731</td><td>False</td><td>460468578.379</td><td>281768363.957</td><td>False</td><td>3904810.83749</td><td>1426357.49951</td><td>False</td><td>5.74380913496e+17</td><td>3.70890522572e+18</td><td>False</td></tr>\n",
       "<tr><td>1</td><td>2</td><td>53.2103094</td><td>-27.937425</td><td>0.295</td><td>0.04015</td><td>0.148</td><td>nan</td><td>1.008</td><td>0.01386</td><td>1.655</td><td>0.01861</td><td>2.027</td><td>0.04063</td><td>2.418</td><td>0.01656</td><td>3.004</td><td>0.05869</td><td>3.398</td><td>0.10536</td><td>3.512</td><td>0.08694</td><td>3.946</td><td>0.276</td><td>-0.171</td><td>14.31</td><td>5.323</td><td>0.53908</td><td>4.408</td><td>0.08874</td><td>3.763</td><td>0.12677</td><td>-0.363</td><td>0.0</td><td>1.979</td><td>0.74863</td><td>5.976</td><td>0.60521</td><td>-0.363</td><td>0.0</td><td>2766941645.41</td><td>102320164.49</td><td>False</td><td>3168108159.33</td><td>nan</td><td>False</td><td>1434828518.23</td><td>18316349.0133</td><td>False</td><td>790678628.0</td><td>13552582.2963</td><td>False</td><td>561306407.675</td><td>21004991.1239</td><td>False</td><td>391561514.84</td><td>5972222.95556</td><td>False</td><td>228244331.217</td><td>12337858.6257</td><td>False</td><td>158781536.421</td><td>15408183.5016</td><td>False</td><td>142955214.004</td><td>11447095.7596</td><td>False</td><td>95851739.7686</td><td>24366029.299</td><td>False</td><td>4250108331.76</td><td>56016415369.6</td><td>False</td><td>26964973.6354</td><td>13388406.8006</td><td>False</td><td>62632536.4758</td><td>5119117.57433</td><td>False</td><td>113448824.421</td><td>13246226.3014</td><td>False</td><td>5072242398.93</td><td>0.0</td><td>False</td><td>586678266.402</td><td>404522708.787</td><td>False</td><td>14777467.0617</td><td>8237241.05471</td><td>False</td><td>5072242398.93</td><td>0.0</td><td>False</td></tr>\n",
       "<tr><td>2</td><td>3</td><td>53.2042533</td><td>-27.9371053</td><td>0.239</td><td>0.04178</td><td>0.109</td><td>nan</td><td>2.189</td><td>0.01459</td><td>5.447</td><td>0.01962</td><td>8.797</td><td>0.04467</td><td>13.027</td><td>0.01763</td><td>30.494</td><td>0.06376</td><td>42.097</td><td>0.11064</td><td>47.728</td><td>0.09499</td><td>66.075</td><td>0.249</td><td>0.163</td><td>14.31</td><td>58.354</td><td>0.4049</td><td>35.166</td><td>0.07526</td><td>24.012</td><td>0.11089</td><td>14.707</td><td>0.76757</td><td>8.857</td><td>0.66592</td><td>64.601</td><td>0.44825</td><td>-11.14</td><td>6.91829</td><td>2913399222.57</td><td>112109938.847</td><td>False</td><td>3283976192.5</td><td>nan</td><td>False</td><td>483503920.592</td><td>6497270.85688</td><td>False</td><td>24054703.0499</td><td>434685.029172</td><td>False</td><td>1099512.06688</td><td>45236.7746532</td><td>False</td><td>22346.0105773</td><td>362.850722626</td><td>False</td><td>0.00230356250012</td><td>0.00013527700777</td><td>False</td><td>5.2625956208e-08</td><td>5.36275364986e-09</td><td>False</td><td>2.9430659897e-10</td><td>2.57485968632e-11</td><td>False</td><td>1.34896288259e-17</td><td>3.09367741716e-18</td><td>False</td><td>3124640085.81</td><td>41182747182.9</td><td>False</td><td>1.65348401217e-14</td><td>6.16628305839e-15</td><td>False</td><td>3.11601830311e-05</td><td>2.15993108145e-06</td><td>False</td><td>0.901986422074</td><td>0.0921229981145</td><td>False</td><td>4755.54176315</td><td>3361.96875</td><td>False</td><td>1040399.17705</td><td>638113.214744</td><td>False</td><td>5.24324317246e-17</td><td>2.16469133271e-17</td><td>False</td><td>1.03752841582e+14</td><td>6.61111090559e+14</td><td>False</td></tr>\n",
       "<tr><td>3</td><td>4</td><td>53.1488222</td><td>-27.9376047</td><td>0.349</td><td>0.04305</td><td>0.487</td><td>0.02308</td><td>0.46</td><td>0.01467</td><td>0.572</td><td>0.01963</td><td>0.741</td><td>0.02594</td><td>0.845</td><td>0.01759</td><td>1.515</td><td>0.03693</td><td>1.983</td><td>0.11174</td><td>2.569</td><td>0.05305</td><td>3.534</td><td>0.248</td><td>0.055</td><td>14.31</td><td>6.592</td><td>0.39171</td><td>7.791</td><td>0.03393</td><td>5.861</td><td>0.05457</td><td>4.707</td><td>0.31134</td><td>6.994</td><td>0.32636</td><td>10.279</td><td>1.5538</td><td>45.7</td><td>5.27653</td><td>2632691674.22</td><td>104387581.512</td><td>False</td><td>2318462095.41</td><td>49284628.1884</td><td>False</td><td>2376840286.62</td><td>32114842.3088</td><td>False</td><td>2143877665.97</td><td>38761089.8473</td><td>False</td><td>1834847607.76</td><td>43837487.1692</td><td>False</td><td>1667247212.55</td><td>27011053.2745</td><td>False</td><td>899497581.53</td><td>30595319.1395</td><td>False</td><td>584520840.359</td><td>60156747.482</td><td>False</td><td>340721861.659</td><td>16647961.7073</td><td>False</td><td>140087698.395</td><td>31998333.5269</td><td>False</td><td>3451437393.36</td><td>45489934739.7</td><td>False</td><td>8379150.67438</td><td>3023015.25571</td><td>False</td><td>2777154.23588</td><td>86787.9718947</td><td>False</td><td>16428578.9814</td><td>825713.972772</td><td>False</td><td>47555417.6315</td><td>13636741.2826</td><td>False</td><td>5786287.38818</td><td>1739292.42088</td><td>False</td><td>280801.872812</td><td>401856.314695</td><td>False</td><td>1.90546071796e-09</td><td>9.26027942892e-09</td><td>False</td></tr>\n",
       "<tr><td>4</td><td>5</td><td>53.1564111</td><td>-27.9386647</td><td>0.0</td><td>0.01675</td><td>-0.011</td><td>0.00939</td><td>0.001</td><td>0.00578</td><td>-0.004</td><td>0.00778</td><td>-0.009</td><td>0.01009</td><td>-0.003</td><td>0.00701</td><td>0.004</td><td>0.01604</td><td>0.024</td><td>0.04537</td><td>-0.004</td><td>0.02234</td><td>-0.036</td><td>14.31</td><td>-0.025</td><td>14.31</td><td>0.434</td><td>0.31075</td><td>-0.075</td><td>0.03698</td><td>-0.168</td><td>0.05578</td><td>-0.901</td><td>0.32067</td><td>-0.708</td><td>0.31673</td><td>0.68</td><td>0.48759</td><td>-10.378</td><td>5.95989</td><td>3630780547.7</td><td>56013213.806</td><td>False</td><td>3667752315.99</td><td>31720591.1494</td><td>False</td><td>3627438014.76</td><td>19310944.6231</td><td>False</td><td>3644181507.89</td><td>26112910.3065</td><td>False</td><td>3661002285.47</td><td>34022548.8461</td><td>False</td><td>3640826637.89</td><td>23506810.0518</td><td>False</td><td>3617428867.64</td><td>53441672.8324</td><td>False</td><td>3551403349.83</td><td>148403607.871</td><td>False</td><td>3644181507.89</td><td>74982315.713</td><td>False</td><td>3753185242.38</td><td>49466970506.3</td><td>False</td><td>3715352290.97</td><td>48968332317.6</td><td>False</td><td>2434445183.69</td><td>696765786.677</td><td>False</td><td>3890451449.94</td><td>132508148.838</td><td>False</td><td>4238381057.74</td><td>217748007.633</td><td>False</td><td>8325302067.49</td><td>2458861187.72</td><td>False</td><td>6969473963.56</td><td>2033128746.01</td><td>False</td><td>1940885877.59</td><td>871626589.321</td><td>False</td><td>5.14280431949e+13</td><td>2.82301979996e+14</td><td>False</td></tr>\n",
       "<tr><td>5</td><td>6</td><td>53.1297942</td><td>-27.9382439</td><td>0.497</td><td>0.04684</td><td>0.625</td><td>0.02433</td><td>0.919</td><td>0.01612</td><td>1.376</td><td>0.02154</td><td>1.414</td><td>0.02527</td><td>1.749</td><td>0.01872</td><td>1.974</td><td>0.03583</td><td>2.09</td><td>0.1209</td><td>2.213</td><td>0.05169</td><td>2.525</td><td>0.392</td><td>0.006</td><td>14.31</td><td>2.595</td><td>0.37657</td><td>2.194</td><td>0.05846</td><td>1.57</td><td>0.09251</td><td>0.709</td><td>0.52826</td><td>0.592</td><td>0.56638</td><td>2.263</td><td>1.5004</td><td>7.907</td><td>5.0047</td><td>2297206307.16</td><td>99104315.5379</td><td>False</td><td>2041737944.67</td><td>45752811.7568</td><td>False</td><td>1557399389.08</td><td>23122815.6913</td><td>False</td><td>1022350938.5</td><td>20282495.0654</td><td>False</td><td>987188301.068</td><td>22976343.8473</td><td>False</td><td>725103497.617</td><td>12502058.4336</td><td>False</td><td>589386250.241</td><td>19450129.0954</td><td>False</td><td>529663443.892</td><td>58979621.4641</td><td>False</td><td>472933414.919</td><td>22515531.9589</td><td>False</td><td>354813389.234</td><td>128103721.668</td><td>False</td><td>3610771451.0</td><td>47589957153.0</td><td>False</td><td>332659553.294</td><td>115377572.78</td><td>False</td><td>481282421.868</td><td>25914002.1849</td><td>False</td><td>855066712.885</td><td>72855838.5198</td><td>False</td><td>1889731054.43</td><td>919440028.286</td><td>False</td><td>2104747488.66</td><td>1097952594.19</td><td>False</td><td>451647904.929</td><td>624141033.14</td><td>False</td><td>2495743.79483</td><td>11504128.6412</td><td>False</td></tr>\n",
       "<tr><td>6</td><td>7</td><td>53.1597975</td><td>-27.9386511</td><td>0.004</td><td>0.02228</td><td>0.113</td><td>nan</td><td>0.0</td><td>0.00764</td><td>-0.003</td><td>0.01036</td><td>0.02</td><td>nan</td><td>0.007</td><td>0.00926</td><td>0.041</td><td>nan</td><td>-0.003</td><td>0.05832</td><td>0.077</td><td>nan</td><td>-0.081</td><td>14.31</td><td>0.029</td><td>14.31</td><td>0.436</td><td>0.29995</td><td>0.239</td><td>0.03598</td><td>0.34</td><td>0.05453</td><td>-0.475</td><td>0.35662</td><td>0.077</td><td>0.35789</td><td>0.684</td><td>0.47064</td><td>0.425</td><td>6.70151</td><td>3617428867.64</td><td>74231949.5453</td><td>False</td><td>3271899836.23</td><td>nan</td><td>False</td><td>3630780547.7</td><td>25548713.6405</td><td>False</td><td>3640826637.89</td><td>34740449.6629</td><td>False</td><td>3564511334.26</td><td>nan</td><td>False</td><td>3607447338.64</td><td>30767107.341</td><td>False</td><td>3496230040.03</td><td>nan</td><td>False</td><td>3640826637.89</td><td>195565928.99</td><td>False</td><td>3382205566.7</td><td>nan</td><td>False</td><td>3912010393.87</td><td>51560285538.1</td><td>False</td><td>3535086133.62</td><td>46592424891.4</td><td>False</td><td>2429964897.7</td><td>671312209.975</td><td>False</td><td>2913399222.57</td><td>96546567.7286</td><td>False</td><td>2654605561.98</td><td>133324872.709</td><td>False</td><td>5623413251.9</td><td>1847061583.75</td><td>False</td><td>3382205566.7</td><td>1114872604.38</td><td>False</td><td>1933748545.3</td><td>838232538.778</td><td>False</td><td>2454708915.69</td><td>15151246014.9</td><td>False</td></tr>\n",
       "<tr><td>7</td><td>8</td><td>53.1559294</td><td>-27.93864</td><td>-0.019</td><td>0.02712</td><td>0.002</td><td>0.00928</td><td>-0.01</td><td>0.00939</td><td>0.023</td><td>0.01252</td><td>-0.009</td><td>0.01012</td><td>0.009</td><td>0.01128</td><td>0.001</td><td>0.01605</td><td>-0.017</td><td>0.07367</td><td>-0.008</td><td>0.02229</td><td>-0.035</td><td>14.31</td><td>-0.025</td><td>14.31</td><td>0.472</td><td>0.28056</td><td>-0.076</td><td>0.03431</td><td>-0.135</td><td>0.05334</td><td>-0.292</td><td>0.30584</td><td>-0.737</td><td>0.2988</td><td>0.779</td><td>0.41097</td><td>-14.357</td><td>6.06506</td><td>3694877122.54</td><td>92292277.9255</td><td>False</td><td>3624098559.0</td><td>30975880.2185</td><td>False</td><td>3664375746.48</td><td>31691388.8555</td><td>False</td><td>3554675819.99</td><td>40990197.3161</td><td>False</td><td>3661002285.47</td><td>34123706.0775</td><td>False</td><td>3600808291.73</td><td>37409747.7387</td><td>False</td><td>3627438014.76</td><td>53622951.7647</td><td>False</td><td>3688077172.26</td><td>250245542.232</td><td>False</td><td>3657631930.09</td><td>75090630.0854</td><td>False</td><td>3749730022.45</td><td>49421430717.9</td><td>False</td><td>3715352290.97</td><td>48968332317.6</td><td>False</td><td>2350715115.94</td><td>607437267.024</td><td>False</td><td>3894036338.8</td><td>123054187.747</td><td>False</td><td>4111497211.05</td><td>201989452.204</td><td>False</td><td>4751163763.78</td><td>1338350806.71</td><td>False</td><td>7158136899.11</td><td>1969954852.83</td><td>False</td><td>1771740039.94</td><td>670634359.455</td><td>False</td><td>2.00816780418e+15</td><td>1.12178797843e+16</td><td>False</td></tr>\n",
       "<tr><td>8</td><td>9</td><td>53.1508114</td><td>-27.9385994</td><td>-0.015</td><td>0.03074</td><td>-0.004</td><td>0.00808</td><td>0.004</td><td>0.01046</td><td>0.002</td><td>0.01413</td><td>-0.008</td><td>0.00832</td><td>0.005</td><td>0.01268</td><td>-0.006</td><td>0.01316</td><td>-0.032</td><td>0.08013</td><td>-0.019</td><td>0.01826</td><td>-0.029</td><td>14.31</td><td>-0.055</td><td>14.31</td><td>0.837</td><td>0.27788</td><td>0.15</td><td>0.03444</td><td>0.002</td><td>0.05391</td><td>0.226</td><td>0.30696</td><td>1.227</td><td>0.32625</td><td>1.313</td><td>0.43601</td><td>3.454</td><td>5.44554</td><td>3681289736.43</td><td>104226833.371</td><td>False</td><td>3644181507.89</td><td>27119834.8685</td><td>False</td><td>3617428867.64</td><td>34850367.6949</td><td>False</td><td>3624098559.0</td><td>47164783.1344</td><td>False</td><td>3657631930.09</td><td>28028445.1463</td><td>False</td><td>3614098626.4</td><td>42208015.5215</td><td>False</td><td>3650900524.84</td><td>44251864.0314</td><td>False</td><td>3739383436.43</td><td>275975686.772</td><td>False</td><td>3694877122.54</td><td>62140744.6504</td><td>False</td><td>3729065399.62</td><td>49149071049.4</td><td>False</td><td>3819442708.4</td><td>50340243714.5</td><td>False</td><td>1679577313.99</td><td>429865875.307</td><td>False</td><td>3162277660.17</td><td>100308751.001</td><td>False</td><td>3624098559.0</td><td>179947166.226</td><td>False</td><td>2948492313.89</td><td>833599539.839</td><td>False</td><td>1172735305.78</td><td>352392129.722</td><td>False</td><td>1083427862.15</td><td>435083015.659</td><td>False</td><td>150799534.18</td><td>756339239.459</td><td>False</td></tr>\n",
       "<tr><td>9</td><td>10</td><td>53.1419553</td><td>-27.9386</td><td>-0.036</td><td>0.0245</td><td>-0.009</td><td>0.00965</td><td>0.011</td><td>0.00834</td><td>0.002</td><td>0.01102</td><td>0.004</td><td>0.00918</td><td>0.008</td><td>0.01</td><td>-0.007</td><td>0.01416</td><td>-0.041</td><td>0.06486</td><td>0.005</td><td>0.02018</td><td>-0.035</td><td>14.31</td><td>-0.06</td><td>14.31</td><td>0.525</td><td>0.27571</td><td>0.083</td><td>0.04027</td><td>-0.04</td><td>0.05866</td><td>0.09</td><td>0.36393</td><td>-0.477</td><td>0.30665</td><td>0.824</td><td>0.43261</td><td>-5.626</td><td>4.84518</td><td>3753185242.38</td><td>84691878.2254</td><td>False</td><td>3661002285.47</td><td>32538909.4514</td><td>False</td><td>3594181463.15</td><td>27608431.285</td><td>False</td><td>3624098559.0</td><td>36783857.7595</td><td>False</td><td>3617428867.64</td><td>30585695.5487</td><td>False</td><td>3604126286.49</td><td>33195229.8422</td><td>False</td><td>3654264677.51</td><td>47658342.4286</td><td>False</td><td>3770509158.33</td><td>225243685.287</td><td>False</td><td>3614098626.4</td><td>67173324.3868</td><td>False</td><td>3749730022.45</td><td>49421430717.9</td><td>False</td><td>3837072454.92</td><td>50572603722.1</td><td>False</td><td>2238721138.57</td><td>568497027.556</td><td>False</td><td>3363566357.48</td><td>124754813.022</td><td>False</td><td>3767037989.84</td><td>203524988.405</td><td>False</td><td>3341950400.26</td><td>1120194761.71</td><td>False</td><td>5633781508.51</td><td>1591177573.35</td><td>False</td><td>1699808513.2</td><td>677286211.581</td><td>False</td><td>646249172495.0</td><td>2.88393585096e+12</td><td>False</td></tr>\n",
       "</table><style>table.dataTable {clear: both; width: auto !important; margin: 0 !important;}\n",
       ".dataTables_info, .dataTables_length, .dataTables_filter, .dataTables_paginate{\n",
       "display: inline-block; margin-right: 1em; }\n",
       ".paginate_button { margin-right: 5px; }\n",
       "</style>\n",
       "<script>\n",
       "\n",
       "var astropy_sort_num = function(a, b) {\n",
       "    var a_num = parseFloat(a);\n",
       "    var b_num = parseFloat(b);\n",
       "\n",
       "    if (isNaN(a_num) && isNaN(b_num))\n",
       "        return ((a < b) ? -1 : ((a > b) ? 1 : 0));\n",
       "    else if (!isNaN(a_num) && !isNaN(b_num))\n",
       "        return ((a_num < b_num) ? -1 : ((a_num > b_num) ? 1 : 0));\n",
       "    else\n",
       "        return isNaN(a_num) ? -1 : 1;\n",
       "}\n",
       "\n",
       "require.config({paths: {\n",
       "    datatables: 'https://cdn.datatables.net/1.10.12/js/jquery.dataTables.min'\n",
       "}});\n",
       "require([\"datatables\"], function(){\n",
       "    console.log(\"$('#table5014762720-463724').dataTable()\");\n",
       "    \n",
       "jQuery.extend( jQuery.fn.dataTableExt.oSort, {\n",
       "    \"optionalnum-asc\": astropy_sort_num,\n",
       "    \"optionalnum-desc\": function (a,b) { return -astropy_sort_num(a, b); }\n",
       "});\n",
       "\n",
       "    $('#table5014762720-463724').dataTable({\n",
       "        order: [],\n",
       "        pageLength: 50,\n",
       "        lengthMenu: [[10, 25, 50, 100, 500, 1000, -1], [10, 25, 50, 100, 500, 1000, 'All']],\n",
       "        pagingType: \"full_numbers\",\n",
       "        columnDefs: [{targets: [0, 1, 2, 3, 4, 5, 6, 7, 8, 9, 10, 11, 12, 13, 14, 15, 16, 17, 18, 19, 20, 21, 22, 23, 24, 25, 26, 27, 28, 29, 30, 31, 32, 33, 34, 35, 36, 37, 38, 39, 40, 41, 43, 44, 46, 47, 49, 50, 52, 53, 55, 56, 58, 59, 61, 62, 64, 65, 67, 68, 70, 71, 73, 74, 76, 77, 79, 80, 82, 83, 85, 86, 88, 89, 91, 92], type: \"optionalnum\"}]\n",
       "    });\n",
       "});\n",
       "</script>\n"
      ],
      "text/plain": [
       "<IPython.core.display.HTML object>"
      ]
     },
     "execution_count": 29,
     "metadata": {},
     "output_type": "execute_result"
    }
   ],
   "source": [
    "fireworks[:10].show_in_notebook()"
   ]
  },
  {
   "cell_type": "markdown",
   "metadata": {},
   "source": [
    "### 1.f - COMBO-17"
   ]
  },
  {
   "cell_type": "code",
   "execution_count": 35,
   "metadata": {
    "collapsed": false
   },
   "outputs": [
    {
     "name": "stderr",
     "output_type": "stream",
     "text": [
      "WARNING: UnitsWarning: 'Mpc @H0=100' did not parse as fits unit: Invalid character at col 4 [astropy.units.core]\n",
      "WARNING: UnitsWarning: 'mag @H0=100' did not parse as fits unit: Invalid character at col 4 [astropy.units.core]\n",
      "WARNING: UnitsWarning: 'phot/m^2/s/nm' did not parse as fits unit: At col 0, Unit 'phot' not supported by the FITS standard. Did you mean photon? [astropy.units.core]\n"
     ]
    }
   ],
   "source": [
    "#Based on PanSTARRS\n",
    "combo = Table.read(\"../../dmu0/dmu0_COMBO-17/data/table3.fits\")[\n",
    "    'Seq', 'ra', 'dec',  'stellarity',\n",
    "    'Rmag',    'e_Rmag',  \n",
    "    'UjMag',   'e_UjMag', \n",
    "    'BjMag',   'e_BjMag',\n",
    "    'VjMag',   'e_VjMag',\n",
    "    'usMag',   'e_usMag',\n",
    "    'gsMag',   'e_gsMag',\n",
    "    'rsMag',   'e_rsMag',\n",
    "    'UbMag',   'e_UbMag',\n",
    "    'BbMag',   'e_BbMag',\n",
    "    'VbMag',   'e_VbMag',\n",
    "    'S280Mag', 'e_S280Mag',\n",
    "    'S145Mag', 'e_S145Mag'\n",
    "]\n",
    "\n",
    "combo = Table(combo.as_array(), names=[\n",
    "    'combo_intid', 'combo_ra', 'combo_dec', 'combo_stellarity',\n",
    "    'm_combo_R',    'merr_combo_R',  \n",
    "    'm_combo_Uj',   'merr_combo_Uj', \n",
    "    'm_combo_Bj',   'merr_combo_Bj',\n",
    "    'm_combo_Vj',   'merr_combo_Vj',\n",
    "    'm_combo_us',   'merr_combo_us',\n",
    "    'm_combo_gs',   'merr_combo_gs',\n",
    "    'm_combo_rs',   'merr_combo_rs',\n",
    "    'm_combo_Ub',   'merr_combo_Ub',\n",
    "    'm_combo_Bb',   'merr_combo_Bb',\n",
    "    'm_combo_Vb',   'merr_combo_Vb',\n",
    "    'm_combo_S280', 'merr_combo_S280',\n",
    "    'm_combo_S145', 'merr_combo_S145'\n",
    "])\n",
    "combo_epoch = 2009 #table says e.g. 55962.33945\n",
    "combo_moc = MOC(filename=\"../../dmu0/dmu0_COMBO-17/data/table3_MOC.fits\")\n",
    "\n",
    "#Replace 0.0 with NaN values\n",
    "for col in panstarrs.colnames:\n",
    "    if col.startswith('m'): # | col.endswith('ra') | col.endswith('dec'):\n",
    "        panstarrs[col][np.where(panstarrs[col] == 0.0)] = np.nan\n",
    "\n",
    "# Add flux and band-flag columns\n",
    "for col in combo.colnames:\n",
    "    if col.startswith('m_'):\n",
    "        \n",
    "        errcol = \"merr{}\".format(col[1:])\n",
    "        flux, error = utils.mag_to_flux(np.array(combo[col]), np.array(combo[errcol]))\n",
    "\n",
    "        # Fluxes are added in µJy\n",
    "        combo.add_column(Column(flux * 1.e6, name=\"f{}\".format(col[1:])))\n",
    "        combo.add_column(Column(error * 1.e6, name=\"f{}\".format(errcol[1:])))\n",
    "        \n",
    "        # Band-flag column\n",
    "        combo.add_column(Column(np.zeros(len(combo), dtype=bool), name=\"flag{}\".format(col[1:])))"
   ]
  },
  {
   "cell_type": "code",
   "execution_count": 36,
   "metadata": {
    "collapsed": false
   },
   "outputs": [
    {
     "data": {
      "text/html": [
       "&lt;Table masked=True length=10&gt;\n",
       "<table id=\"table4715681944-173172\" class=\"table-striped table-bordered table-condensed\">\n",
       "<thead><tr><th>idx</th><th>combo_intid</th><th>combo_ra</th><th>combo_dec</th><th>combo_stellarity</th><th>m_combo_R</th><th>merr_combo_R</th><th>m_combo_Uj</th><th>merr_combo_Uj</th><th>m_combo_Bj</th><th>merr_combo_Bj</th><th>m_combo_Vj</th><th>merr_combo_Vj</th><th>m_combo_us</th><th>merr_combo_us</th><th>m_combo_gs</th><th>merr_combo_gs</th><th>m_combo_rs</th><th>merr_combo_rs</th><th>m_combo_Ub</th><th>merr_combo_Ub</th><th>m_combo_Bb</th><th>merr_combo_Bb</th><th>m_combo_Vb</th><th>merr_combo_Vb</th><th>m_combo_S280</th><th>merr_combo_S280</th><th>m_combo_S145</th><th>merr_combo_S145</th><th>f_combo_R</th><th>ferr_combo_R</th><th>flag_combo_R</th><th>f_combo_Uj</th><th>ferr_combo_Uj</th><th>flag_combo_Uj</th><th>f_combo_Bj</th><th>ferr_combo_Bj</th><th>flag_combo_Bj</th><th>f_combo_Vj</th><th>ferr_combo_Vj</th><th>flag_combo_Vj</th><th>f_combo_us</th><th>ferr_combo_us</th><th>flag_combo_us</th><th>f_combo_gs</th><th>ferr_combo_gs</th><th>flag_combo_gs</th><th>f_combo_rs</th><th>ferr_combo_rs</th><th>flag_combo_rs</th><th>f_combo_Ub</th><th>ferr_combo_Ub</th><th>flag_combo_Ub</th><th>f_combo_Bb</th><th>ferr_combo_Bb</th><th>flag_combo_Bb</th><th>f_combo_Vb</th><th>ferr_combo_Vb</th><th>flag_combo_Vb</th><th>f_combo_S280</th><th>ferr_combo_S280</th><th>flag_combo_S280</th><th>f_combo_S145</th><th>ferr_combo_S145</th><th>flag_combo_S145</th></tr></thead>\n",
       "<tr><td>0</td><td>7864</td><td>52.9043509407</td><td>-28.004407161</td><td>0.704</td><td>25.9685</td><td>0.2545</td><td>-16.8335858104</td><td>0.289280533791</td><td>-16.1213024315</td><td>0.939844787121</td><td>-16.41656581</td><td>0.939844787121</td><td>-16.9804966689</td><td>0.289280533791</td><td>-16.2014578601</td><td>0.939844787121</td><td>-16.6361515477</td><td>0.939844787121</td><td>0.0</td><td>0.0</td><td>0.0</td><td>0.0</td><td>0.0</td><td>0.0</td><td>-16.8034956128</td><td>0.609699368477</td><td>nan</td><td>nan</td><td>0.148806</td><td>0.0348805</td><td>False</td><td>1.96532475335e+16</td><td>5.23635659592e+15</td><td>False</td><td>1.01981400693e+16</td><td>8.82780618392e+15</td><td>False</td><td>1.33852449747e+16</td><td>1.15866567392e+16</td><td>False</td><td>2.25008366885e+16</td><td>5.99506032816e+15</td><td>False</td><td>1.09795146886e+16</td><td>9.50418674442e+15</td><td>False</td><td>1.63855347398e+16</td><td>1.41837946841e+16</td><td>False</td><td>3630780547.7</td><td>0.0</td><td>False</td><td>3630780547.7</td><td>0.0</td><td>False</td><td>3630780547.7</td><td>0.0</td><td>False</td><td>1.91160538442e+16</td><td>1.07346940311e+16</td><td>False</td><td>nan</td><td>nan</td><td>False</td></tr>\n",
       "<tr><td>1</td><td>7867</td><td>52.9248830635</td><td>-28.0045354786</td><td>0.659</td><td>25.7862</td><td>0.2353</td><td>-17.6367689613</td><td>0.273388147354</td><td>-17.4349329199</td><td>0.523457169533</td><td>-17.798817823</td><td>0.523457169533</td><td>-17.7750868334</td><td>0.273388147354</td><td>-17.5348377222</td><td>0.523457169533</td><td>-18.0605224591</td><td>0.523457169533</td><td>0.0</td><td>0.0</td><td>0.0</td><td>0.0</td><td>0.0</td><td>0.0</td><td>-18.2183962955</td><td>0.354991674423</td><td>nan</td><td>nan</td><td>0.175997</td><td>0.038142</td><td>False</td><td>4.11820142481e+16</td><td>1.03696225015e+16</td><td>False</td><td>3.41958314623e+16</td><td>1.64865582161e+16</td><td>False</td><td>4.7810923141e+16</td><td>2.30506916786e+16</td><td>False</td><td>4.67772550611e+16</td><td>1.17785029581e+16</td><td>False</td><td>3.74916961709e+16</td><td>1.80755666732e+16</td><td>False</td><td>6.08427707855e+16</td><td>2.93336304365e+16</td><td>False</td><td>3630780547.7</td><td>0.0</td><td>False</td><td>3630780547.7</td><td>0.0</td><td>False</td><td>3630780547.7</td><td>0.0</td><td>False</td><td>7.03652958866e+16</td><td>2.3006595984e+16</td><td>False</td><td>nan</td><td>nan</td><td>False</td></tr>\n",
       "<tr><td>2</td><td>7868</td><td>52.8874689235</td><td>-28.0044207329</td><td>0.15</td><td>25.622</td><td>0.2452</td><td>nan</td><td>nan</td><td>nan</td><td>nan</td><td>nan</td><td>nan</td><td>nan</td><td>nan</td><td>nan</td><td>nan</td><td>nan</td><td>nan</td><td>0.0</td><td>0.0</td><td>0.0</td><td>0.0</td><td>0.0</td><td>0.0</td><td>nan</td><td>nan</td><td>nan</td><td>nan</td><td>0.20473</td><td>0.0462358</td><td>False</td><td>nan</td><td>nan</td><td>False</td><td>nan</td><td>nan</td><td>False</td><td>nan</td><td>nan</td><td>False</td><td>nan</td><td>nan</td><td>False</td><td>nan</td><td>nan</td><td>False</td><td>nan</td><td>nan</td><td>False</td><td>3630780547.7</td><td>0.0</td><td>False</td><td>3630780547.7</td><td>0.0</td><td>False</td><td>3630780547.7</td><td>0.0</td><td>False</td><td>nan</td><td>nan</td><td>False</td><td>nan</td><td>nan</td><td>False</td></tr>\n",
       "<tr><td>3</td><td>7875</td><td>52.8439537238</td><td>-28.00426117</td><td>0.673</td><td>25.548</td><td>0.2829</td><td>-17.5415660518</td><td>0.31585970521</td><td>-17.3753730331</td><td>0.570135295391</td><td>-17.7927575649</td><td>0.570135295391</td><td>-17.6741450974</td><td>0.31585970521</td><td>-17.4914362224</td><td>0.570135295391</td><td>-18.0691218723</td><td>0.570135295391</td><td>0.0</td><td>0.0</td><td>0.0</td><td>0.0</td><td>0.0</td><td>0.0</td><td>-17.8953102303</td><td>0.443313926458</td><td>nan</td><td>nan</td><td>0.219185</td><td>0.0571109</td><td>False</td><td>3.77247543695e+16</td><td>1.09747927186e+16</td><td>False</td><td>3.23704855089e+16</td><td>1.69981955439e+16</td><td>False</td><td>4.75448001198e+16</td><td>2.49664407817e+16</td><td>False</td><td>4.26243764695e+16</td><td>1.24001787243e+16</td><td>False</td><td>3.60225529976e+16</td><td>1.89159473581e+16</td><td>False</td><td>6.1326580402e+16</td><td>3.220344673e+16</td><td>False</td><td>3630780547.7</td><td>0.0</td><td>False</td><td>3630780547.7</td><td>0.0</td><td>False</td><td>3630780547.7</td><td>0.0</td><td>False</td><td>5.22545475972e+16</td><td>2.13359088231e+16</td><td>False</td><td>nan</td><td>nan</td><td>False</td></tr>\n",
       "<tr><td>4</td><td>7885</td><td>53.0014692079</td><td>-28.0045796817</td><td>0.811</td><td>25.4399</td><td>0.1976</td><td>-13.6272840924</td><td>0.273518174887</td><td>-13.2421196937</td><td>0.288551092148</td><td>-13.1350464832</td><td>0.240335285664</td><td>-13.8384368202</td><td>0.273518174887</td><td>-13.0698528306</td><td>0.240335285664</td><td>-13.3800255777</td><td>0.240335285664</td><td>0.0</td><td>0.0</td><td>0.0</td><td>0.0</td><td>0.0</td><td>0.0</td><td>-14.6258954687</td><td>0.333708137274</td><td>nan</td><td>nan</td><td>0.242129</td><td>0.0440666</td><td>False</td><td>1.02544798722e+15</td><td>2.58330394322e+14</td><td>False</td><td>7.1919701713e+14</td><td>1.91137666638e+14</td><td>False</td><td>6.5165629257e+14</td><td>1.44248667902e+14</td><td>False</td><td>1.24558889621e+15</td><td>3.13788192803e+14</td><td>False</td><td>6.13678816593e+14</td><td>1.35842088571e+14</td><td>False</td><td>8.1660160856e+14</td><td>1.80760464657e+14</td><td>False</td><td>3630780547.7</td><td>0.0</td><td>False</td><td>3630780547.7</td><td>0.0</td><td>False</td><td>3630780547.7</td><td>0.0</td><td>False</td><td>2.5725166096e+15</td><td>7.90679837454e+14</td><td>False</td><td>nan</td><td>nan</td><td>False</td></tr>\n",
       "<tr><td>5</td><td>7887</td><td>52.8518140423</td><td>-28.0042462602</td><td>0.539</td><td>25.6635</td><td>0.2468</td><td>nan</td><td>nan</td><td>nan</td><td>nan</td><td>nan</td><td>nan</td><td>nan</td><td>nan</td><td>nan</td><td>nan</td><td>nan</td><td>nan</td><td>0.0</td><td>0.0</td><td>0.0</td><td>0.0</td><td>0.0</td><td>0.0</td><td>nan</td><td>nan</td><td>nan</td><td>nan</td><td>0.197067</td><td>0.0447956</td><td>False</td><td>nan</td><td>nan</td><td>False</td><td>nan</td><td>nan</td><td>False</td><td>nan</td><td>nan</td><td>False</td><td>nan</td><td>nan</td><td>False</td><td>nan</td><td>nan</td><td>False</td><td>nan</td><td>nan</td><td>False</td><td>3630780547.7</td><td>0.0</td><td>False</td><td>3630780547.7</td><td>0.0</td><td>False</td><td>3630780547.7</td><td>0.0</td><td>False</td><td>nan</td><td>nan</td><td>False</td><td>nan</td><td>nan</td><td>False</td></tr>\n",
       "<tr><td>6</td><td>7894</td><td>53.0542662631</td><td>-28.0046649671</td><td>0.649</td><td>25.7197</td><td>0.2736</td><td>-19.1058117585</td><td>0.621791422367</td><td>-19.549504787</td><td>0.621791422367</td><td>-20.3519224384</td><td>0.621791422367</td><td>-19.2591911865</td><td>0.621791422367</td><td>-19.7916215665</td><td>0.621791422367</td><td>-20.7522793633</td><td>0.621791422367</td><td>0.0</td><td>0.0</td><td>0.0</td><td>0.0</td><td>0.0</td><td>0.0</td><td>-19.1053513143</td><td>0.316757708788</td><td>nan</td><td>nan</td><td>0.187117</td><td>0.0471526</td><td>False</td><td>1.59339959856e+17</td><td>9.12525711537e+16</td><td>False</td><td>2.39773904154e+17</td><td>1.37316372298e+17</td><td>False</td><td>5.02075437506e+17</td><td>2.87534116532e+17</td><td>False</td><td>1.83517073319e+17</td><td>1.05098587988e+17</td><td>False</td><td>2.99673697649e+17</td><td>1.7162044877e+17</td><td>False</td><td>7.25958417575e+17</td><td>4.15749898608e+17</td><td>False</td><td>3630780547.7</td><td>0.0</td><td>False</td><td>3630780547.7</td><td>0.0</td><td>False</td><td>3630780547.7</td><td>0.0</td><td>False</td><td>1.59272400523e+17</td><td>4.64668677729e+16</td><td>False</td><td>nan</td><td>nan</td><td>False</td></tr>\n",
       "<tr><td>7</td><td>7895</td><td>53.0362850205</td><td>-28.0046263561</td><td>0.851</td><td>25.2427</td><td>0.2106</td><td>-14.8538581474</td><td>0.352725178003</td><td>-14.8985563911</td><td>0.352725178003</td><td>-15.0244020585</td><td>0.249942615628</td><td>-14.8996544375</td><td>0.429799079895</td><td>-14.7189453223</td><td>0.249942615628</td><td>-15.3277023943</td><td>0.249942615628</td><td>0.0</td><td>0.0</td><td>0.0</td><td>0.0</td><td>0.0</td><td>0.0</td><td>-12.1616804168</td><td>15.1624803543</td><td>nan</td><td>nan</td><td>0.290349</td><td>0.0563189</td><td>False</td><td>3.1735347558e+15</td><td>1.03099224907e+15</td><td>False</td><td>3.3069113784e+15</td><td>1.07432256516e+15</td><td>False</td><td>3.71330671875e+15</td><td>8.5482421038e+14</td><td>False</td><td>3.31025747547e+15</td><td>1.31039713969e+15</td><td>False</td><td>2.80270977968e+15</td><td>6.45199644361e+14</td><td>False</td><td>4.90999395821e+15</td><td>1.13030838177e+15</td><td>False</td><td>3630780547.7</td><td>0.0</td><td>False</td><td>3630780547.7</td><td>0.0</td><td>False</td><td>3630780547.7</td><td>0.0</td><td>False</td><td>2.65871733213e+14</td><td>3.71294142532e+15</td><td>False</td><td>nan</td><td>nan</td><td>False</td></tr>\n",
       "<tr><td>8</td><td>7901</td><td>52.9945313501</td><td>-28.0043777052</td><td>0.446</td><td>24.7174</td><td>0.2015</td><td>-18.490456304</td><td>0.249816209078</td><td>-18.0641236866</td><td>0.802215516567</td><td>-18.3702796352</td><td>0.802215516567</td><td>-18.6361460708</td><td>0.249816209078</td><td>-18.1475605902</td><td>0.802215516567</td><td>-18.5928893271</td><td>0.802215516567</td><td>0.0</td><td>0.0</td><td>0.0</td><td>0.0</td><td>0.0</td><td>0.0</td><td>-19.1750674614</td><td>0.37174937129</td><td>nan</td><td>nan</td><td>0.47103</td><td>0.0874177</td><td>False</td><td>9.04029331687e+16</td><td>2.08007414276e+16</td><td>False</td><td>6.10449123701e+16</td><td>4.51041198554e+16</td><td>False</td><td>8.09304311561e+16</td><td>5.97968892917e+16</td><td>False</td><td>1.03385213354e+17</td><td>2.37878242998e+16</td><td>False</td><td>6.59210681906e+16</td><td>4.87069543591e+16</td><td>False</td><td>9.93472227344e+16</td><td>7.34044634932e+16</td><td>False</td><td>3630780547.7</td><td>0.0</td><td>False</td><td>3630780547.7</td><td>0.0</td><td>False</td><td>3630780547.7</td><td>0.0</td><td>False</td><td>1.69834917488e+17</td><td>5.81504268926e+16</td><td>False</td><td>nan</td><td>nan</td><td>False</td></tr>\n",
       "<tr><td>9</td><td>7904</td><td>52.9548080832</td><td>-28.0044722793</td><td>0.818</td><td>25.08</td><td>0.1576</td><td>-16.9132467782</td><td>2.82962179184</td><td>-16.7638318067</td><td>2.82962179184</td><td>-16.9964418711</td><td>2.82962179184</td><td>-17.0715315606</td><td>2.82962179184</td><td>-16.8257664299</td><td>2.82962179184</td><td>-17.2026231481</td><td>2.82962179184</td><td>0.0</td><td>0.0</td><td>0.0</td><td>0.0</td><td>0.0</td><td>0.0</td><td>-18.9827965693</td><td>0.203668400645</td><td>nan</td><td>nan</td><td>0.337277</td><td>0.0489575</td><td>False</td><td>2.11494321478e+16</td><td>5.51191844098e+16</td><td>False</td><td>1.84303135021e+16</td><td>4.80326772631e+16</td><td>False</td><td>2.28337240614e+16</td><td>5.95087489115e+16</td><td>False</td><td>2.44687973555e+16</td><td>6.37700409306e+16</td><td>False</td><td>1.95122149663e+16</td><td>5.08523050386e+16</td><td>False</td><td>2.76089098865e+16</td><td>7.19537330721e+16</td><td>False</td><td>3630780547.7</td><td>0.0</td><td>False</td><td>3630780547.7</td><td>0.0</td><td>False</td><td>3630780547.7</td><td>0.0</td><td>False</td><td>1.42271734988e+17</td><td>2.66881187116e+16</td><td>False</td><td>nan</td><td>nan</td><td>False</td></tr>\n",
       "</table><style>table.dataTable {clear: both; width: auto !important; margin: 0 !important;}\n",
       ".dataTables_info, .dataTables_length, .dataTables_filter, .dataTables_paginate{\n",
       "display: inline-block; margin-right: 1em; }\n",
       ".paginate_button { margin-right: 5px; }\n",
       "</style>\n",
       "<script>\n",
       "\n",
       "var astropy_sort_num = function(a, b) {\n",
       "    var a_num = parseFloat(a);\n",
       "    var b_num = parseFloat(b);\n",
       "\n",
       "    if (isNaN(a_num) && isNaN(b_num))\n",
       "        return ((a < b) ? -1 : ((a > b) ? 1 : 0));\n",
       "    else if (!isNaN(a_num) && !isNaN(b_num))\n",
       "        return ((a_num < b_num) ? -1 : ((a_num > b_num) ? 1 : 0));\n",
       "    else\n",
       "        return isNaN(a_num) ? -1 : 1;\n",
       "}\n",
       "\n",
       "require.config({paths: {\n",
       "    datatables: 'https://cdn.datatables.net/1.10.12/js/jquery.dataTables.min'\n",
       "}});\n",
       "require([\"datatables\"], function(){\n",
       "    console.log(\"$('#table4715681944-173172').dataTable()\");\n",
       "    \n",
       "jQuery.extend( jQuery.fn.dataTableExt.oSort, {\n",
       "    \"optionalnum-asc\": astropy_sort_num,\n",
       "    \"optionalnum-desc\": function (a,b) { return -astropy_sort_num(a, b); }\n",
       "});\n",
       "\n",
       "    $('#table4715681944-173172').dataTable({\n",
       "        order: [],\n",
       "        pageLength: 50,\n",
       "        lengthMenu: [[10, 25, 50, 100, 500, 1000, -1], [10, 25, 50, 100, 500, 1000, 'All']],\n",
       "        pagingType: \"full_numbers\",\n",
       "        columnDefs: [{targets: [0, 1, 2, 3, 4, 5, 6, 7, 8, 9, 10, 11, 12, 13, 14, 15, 16, 17, 18, 19, 20, 21, 22, 23, 24, 25, 26, 27, 28, 29, 30, 32, 33, 35, 36, 38, 39, 41, 42, 44, 45, 47, 48, 50, 51, 53, 54, 56, 57, 59, 60, 62, 63], type: \"optionalnum\"}]\n",
       "    });\n",
       "});\n",
       "</script>\n"
      ],
      "text/plain": [
       "<IPython.core.display.HTML object>"
      ]
     },
     "execution_count": 36,
     "metadata": {},
     "output_type": "execute_result"
    }
   ],
   "source": [
    "combo[:10].show_in_notebook()"
   ]
  },
  {
   "cell_type": "markdown",
   "metadata": {},
   "source": [
    "## II - Removal of duplicated sources"
   ]
  },
  {
   "cell_type": "markdown",
   "metadata": {},
   "source": [
    "We remove duplicated objects from the input catalogues."
   ]
  },
  {
   "cell_type": "code",
   "execution_count": 38,
   "metadata": {
    "collapsed": false
   },
   "outputs": [
    {
     "name": "stdout",
     "output_type": "stream",
     "text": [
      "VIDEO initial catalogue as 190847 sources.\n",
      "VIDEO cleaned catalogue as 190396 sources (451 removed).\n",
      "VIDEO has 449 sources flagged as having been cleaned\n"
     ]
    }
   ],
   "source": [
    "nb_video_orig = len(video)\n",
    "video = masterlist.remove_duplicates(\n",
    "    video, 'video_ra', 'video_dec', \n",
    "    sort_col=['merr_app_video_z', 'merr_app_video_y', 'merr_app_video_j', 'merr_app_video_h', 'merr_app_video_k'],\n",
    "    flag_name='video_flag_cleaned')\n",
    "nb_video = len(video)\n",
    "print(\"VIDEO initial catalogue as {} sources.\".format(nb_video_orig))\n",
    "print(\"VIDEO cleaned catalogue as {} sources ({} removed).\".format(nb_video, nb_video_orig - nb_video))\n",
    "print(\"VIDEO has {} sources flagged as having been cleaned\".format(np.sum(video['video_flag_cleaned'])))"
   ]
  },
  {
   "cell_type": "code",
   "execution_count": 39,
   "metadata": {
    "collapsed": false
   },
   "outputs": [
    {
     "name": "stderr",
     "output_type": "stream",
     "text": [
      "/Users/rs548/anaconda/envs/herschelhelp_internal/lib/python3.6/site-packages/astropy/table/column.py:1096: MaskedArrayFutureWarning: setting an item on a masked array which has a shared mask will not copy the mask and also change the original mask array in the future.\n",
      "Check the NumPy 1.11 release notes for more information.\n",
      "  ma.MaskedArray.__setitem__(self, index, value)\n"
     ]
    },
    {
     "name": "stdout",
     "output_type": "stream",
     "text": [
      "SERVS initial catalogue as 152497 sources.\n",
      "SERVS cleaned catalogue as 152497 sources (0 removed).\n",
      "SERVS has 0 sources flagged as having been cleaned\n"
     ]
    }
   ],
   "source": [
    "nb_servs_orig = len(servs)\n",
    "servs = masterlist.remove_duplicates(\n",
    "    servs, 'servs_ra', 'servs_dec', \n",
    "    sort_col=['ferr_app_servs_irac1', 'ferr_app_servs_irac2'],\n",
    "    flag_name='servs_flag_cleaned')\n",
    "nb_servs = len(servs)\n",
    "print(\"SERVS initial catalogue as {} sources.\".format(nb_servs_orig))\n",
    "print(\"SERVS cleaned catalogue as {} sources ({} removed).\".format(nb_servs, nb_servs_orig - nb_servs))\n",
    "print(\"SERVS has {} sources flagged as having been cleaned\".format(np.sum(servs['servs_flag_cleaned'])))"
   ]
  },
  {
   "cell_type": "code",
   "execution_count": 40,
   "metadata": {
    "collapsed": false
   },
   "outputs": [
    {
     "name": "stderr",
     "output_type": "stream",
     "text": [
      "/Users/rs548/anaconda/envs/herschelhelp_internal/lib/python3.6/site-packages/astropy/table/column.py:1096: MaskedArrayFutureWarning: setting an item on a masked array which has a shared mask will not copy the mask and also change the original mask array in the future.\n",
      "Check the NumPy 1.11 release notes for more information.\n",
      "  ma.MaskedArray.__setitem__(self, index, value)\n"
     ]
    },
    {
     "name": "stdout",
     "output_type": "stream",
     "text": [
      "SWIRE initial catalogue as 56221 sources.\n",
      "SWIRE cleaned catalogue as 56221 sources (0 removed).\n",
      "SWIRE has 0 sources flagged as having been cleaned\n"
     ]
    }
   ],
   "source": [
    "nb_swire_orig = len(swire)\n",
    "swire = masterlist.remove_duplicates(\n",
    "    swire, 'swire_ra', 'swire_dec', \n",
    "    sort_col=['ferr_app_swire_irac1', 'ferr_app_swire_irac2', \n",
    "              'ferr_app_irac3', 'ferr_app_irac4'],\n",
    "    flag_name='swire_flag_cleaned')\n",
    "nb_swire = len(swire)\n",
    "print(\"SWIRE initial catalogue as {} sources.\".format(nb_swire_orig))\n",
    "print(\"SWIRE cleaned catalogue as {} sources ({} removed).\".format(nb_swire, nb_swire_orig - nb_swire))\n",
    "print(\"SWIRE has {} sources flagged as having been cleaned\".format(np.sum(swire['swire_flag_cleaned'])))"
   ]
  },
  {
   "cell_type": "code",
   "execution_count": 42,
   "metadata": {
    "collapsed": false
   },
   "outputs": [
    {
     "name": "stderr",
     "output_type": "stream",
     "text": [
      "/Users/rs548/anaconda/envs/herschelhelp_internal/lib/python3.6/site-packages/astropy/table/column.py:1096: MaskedArrayFutureWarning: setting an item on a masked array which has a shared mask will not copy the mask and also change the original mask array in the future.\n",
      "Check the NumPy 1.11 release notes for more information.\n",
      "  ma.MaskedArray.__setitem__(self, index, value)\n"
     ]
    },
    {
     "name": "stdout",
     "output_type": "stream",
     "text": [
      "PanSTARRS initial catalogue as 43975 sources.\n",
      "PanSTARRS cleaned catalogue as 37491 sources (6484 removed).\n",
      "PanSTARRS has 5897 sources flagged as having been cleaned\n"
     ]
    }
   ],
   "source": [
    "nb_panstarrs_orig = len(panstarrs)\n",
    "panstarrs = masterlist.remove_duplicates(\n",
    "    panstarrs, 'panstarrs_ra', 'panstarrs_dec', \n",
    "    sort_col=['merr_app_panstarrs_g', \n",
    "              'merr_app_panstarrs_r',\n",
    "              'merr_app_panstarrs_i', \n",
    "              'merr_app_panstarrs_z', \n",
    "              'merr_app_panstarrs_y'],\n",
    "    flag_name='panstarrs_flag_cleaned')\n",
    "nb_panstarrs = len(panstarrs)\n",
    "print(\"PanSTARRS initial catalogue as {} sources.\".format(nb_panstarrs_orig))\n",
    "print(\"PanSTARRS cleaned catalogue as {} sources ({} removed).\".format(nb_panstarrs, nb_panstarrs_orig - nb_panstarrs))\n",
    "print(\"PanSTARRS has {} sources flagged as having been cleaned\".format(np.sum(panstarrs['panstarrs_flag_cleaned'])))"
   ]
  },
  {
   "cell_type": "code",
   "execution_count": 45,
   "metadata": {
    "collapsed": false
   },
   "outputs": [
    {
     "name": "stderr",
     "output_type": "stream",
     "text": [
      "/Users/rs548/anaconda/envs/herschelhelp_internal/lib/python3.6/site-packages/astropy/table/column.py:1096: MaskedArrayFutureWarning: setting an item on a masked array which has a shared mask will not copy the mask and also change the original mask array in the future.\n",
      "Check the NumPy 1.11 release notes for more information.\n",
      "  ma.MaskedArray.__setitem__(self, index, value)\n"
     ]
    },
    {
     "ename": "ValueError",
     "evalue": "Duplicate column names",
     "output_type": "error",
     "traceback": [
      "\u001b[0;31m---------------------------------------------------------------------------\u001b[0m",
      "\u001b[0;31mValueError\u001b[0m                                Traceback (most recent call last)",
      "\u001b[0;32m<ipython-input-45-05703b1e180a>\u001b[0m in \u001b[0;36m<module>\u001b[0;34m()\u001b[0m\n\u001b[1;32m     20\u001b[0m      \u001b[0;34m'merr_fireworks_FKs.t'\u001b[0m\u001b[0;34m,\u001b[0m\u001b[0;34m\u001b[0m\u001b[0m\n\u001b[1;32m     21\u001b[0m      'merr_fireworks_F24.t'],\n\u001b[0;32m---> 22\u001b[0;31m     flag_name='fireworks_flag_cleaned')\n\u001b[0m\u001b[1;32m     23\u001b[0m \u001b[0mnb_fireworks\u001b[0m \u001b[0;34m=\u001b[0m \u001b[0mlen\u001b[0m\u001b[0;34m(\u001b[0m\u001b[0mfireworks\u001b[0m\u001b[0;34m)\u001b[0m\u001b[0;34m\u001b[0m\u001b[0m\n\u001b[1;32m     24\u001b[0m \u001b[0mprint\u001b[0m\u001b[0;34m(\u001b[0m\u001b[0;34m\"Fireworks initial catalogue as {} sources.\"\u001b[0m\u001b[0;34m.\u001b[0m\u001b[0mformat\u001b[0m\u001b[0;34m(\u001b[0m\u001b[0mnb_fireworks_orig\u001b[0m\u001b[0;34m)\u001b[0m\u001b[0;34m)\u001b[0m\u001b[0;34m\u001b[0m\u001b[0m\n",
      "\u001b[0;32m/Users/rs548/GitHub/herschelhelp_internal/herschelhelp_internal/masterlist.py\u001b[0m in \u001b[0;36mremove_duplicates\u001b[0;34m(table, ra_col, dec_col, radius, sort_col, reverse, flag_name)\u001b[0m\n\u001b[1;32m     88\u001b[0m         \u001b[0mname\u001b[0m\u001b[0;34m=\u001b[0m\u001b[0mflag_name\u001b[0m\u001b[0;34m,\u001b[0m\u001b[0;34m\u001b[0m\u001b[0m\n\u001b[1;32m     89\u001b[0m         \u001b[0mdata\u001b[0m\u001b[0;34m=\u001b[0m\u001b[0mnp\u001b[0m\u001b[0;34m.\u001b[0m\u001b[0mzeros\u001b[0m\u001b[0;34m(\u001b[0m\u001b[0mlen\u001b[0m\u001b[0;34m(\u001b[0m\u001b[0mtable\u001b[0m\u001b[0;34m)\u001b[0m\u001b[0;34m)\u001b[0m\u001b[0;34m,\u001b[0m\u001b[0;34m\u001b[0m\u001b[0m\n\u001b[0;32m---> 90\u001b[0;31m         \u001b[0mdtype\u001b[0m\u001b[0;34m=\u001b[0m\u001b[0mbool\u001b[0m\u001b[0;34m\u001b[0m\u001b[0m\n\u001b[0m\u001b[1;32m     91\u001b[0m     ))\n\u001b[1;32m     92\u001b[0m     \u001b[0mtable\u001b[0m\u001b[0;34m[\u001b[0m\u001b[0mflag_name\u001b[0m\u001b[0;34m]\u001b[0m\u001b[0;34m.\u001b[0m\u001b[0mfill_value\u001b[0m \u001b[0;34m=\u001b[0m \u001b[0;32mFalse\u001b[0m\u001b[0;34m\u001b[0m\u001b[0m\n",
      "\u001b[0;32m/Users/rs548/anaconda/envs/herschelhelp_internal/lib/python3.6/site-packages/astropy/table/table.py\u001b[0m in \u001b[0;36madd_column\u001b[0;34m(self, col, index, rename_duplicate)\u001b[0m\n\u001b[1;32m   1525\u001b[0m         \u001b[0;32mif\u001b[0m \u001b[0mindex\u001b[0m \u001b[0;32mis\u001b[0m \u001b[0;32mNone\u001b[0m\u001b[0;34m:\u001b[0m\u001b[0;34m\u001b[0m\u001b[0m\n\u001b[1;32m   1526\u001b[0m             \u001b[0mindex\u001b[0m \u001b[0;34m=\u001b[0m \u001b[0mlen\u001b[0m\u001b[0;34m(\u001b[0m\u001b[0mself\u001b[0m\u001b[0;34m.\u001b[0m\u001b[0mcolumns\u001b[0m\u001b[0;34m)\u001b[0m\u001b[0;34m\u001b[0m\u001b[0m\n\u001b[0;32m-> 1527\u001b[0;31m         \u001b[0mself\u001b[0m\u001b[0;34m.\u001b[0m\u001b[0madd_columns\u001b[0m\u001b[0;34m(\u001b[0m\u001b[0;34m[\u001b[0m\u001b[0mcol\u001b[0m\u001b[0;34m]\u001b[0m\u001b[0;34m,\u001b[0m \u001b[0;34m[\u001b[0m\u001b[0mindex\u001b[0m\u001b[0;34m]\u001b[0m\u001b[0;34m,\u001b[0m \u001b[0mrename_duplicate\u001b[0m\u001b[0;34m=\u001b[0m\u001b[0mrename_duplicate\u001b[0m\u001b[0;34m)\u001b[0m\u001b[0;34m\u001b[0m\u001b[0m\n\u001b[0m\u001b[1;32m   1528\u001b[0m \u001b[0;34m\u001b[0m\u001b[0m\n\u001b[1;32m   1529\u001b[0m     \u001b[0;32mdef\u001b[0m \u001b[0madd_columns\u001b[0m\u001b[0;34m(\u001b[0m\u001b[0mself\u001b[0m\u001b[0;34m,\u001b[0m \u001b[0mcols\u001b[0m\u001b[0;34m,\u001b[0m \u001b[0mindexes\u001b[0m\u001b[0;34m=\u001b[0m\u001b[0;32mNone\u001b[0m\u001b[0;34m,\u001b[0m \u001b[0mcopy\u001b[0m\u001b[0;34m=\u001b[0m\u001b[0;32mTrue\u001b[0m\u001b[0;34m,\u001b[0m \u001b[0mrename_duplicate\u001b[0m\u001b[0;34m=\u001b[0m\u001b[0;32mFalse\u001b[0m\u001b[0;34m)\u001b[0m\u001b[0;34m:\u001b[0m\u001b[0;34m\u001b[0m\u001b[0m\n",
      "\u001b[0;32m/Users/rs548/anaconda/envs/herschelhelp_internal/lib/python3.6/site-packages/astropy/table/table.py\u001b[0m in \u001b[0;36madd_columns\u001b[0;34m(self, cols, indexes, copy, rename_duplicate)\u001b[0m\n\u001b[1;32m   1633\u001b[0m                 \u001b[0mexisting_names\u001b[0m\u001b[0;34m.\u001b[0m\u001b[0madd\u001b[0m\u001b[0;34m(\u001b[0m\u001b[0mnew_name\u001b[0m\u001b[0;34m)\u001b[0m\u001b[0;34m\u001b[0m\u001b[0m\n\u001b[1;32m   1634\u001b[0m \u001b[0;34m\u001b[0m\u001b[0m\n\u001b[0;32m-> 1635\u001b[0;31m         \u001b[0mself\u001b[0m\u001b[0;34m.\u001b[0m\u001b[0m_init_from_cols\u001b[0m\u001b[0;34m(\u001b[0m\u001b[0mnewcols\u001b[0m\u001b[0;34m)\u001b[0m\u001b[0;34m\u001b[0m\u001b[0m\n\u001b[0m\u001b[1;32m   1636\u001b[0m \u001b[0;34m\u001b[0m\u001b[0m\n\u001b[1;32m   1637\u001b[0m     \u001b[0;32mdef\u001b[0m \u001b[0m_replace_column_warnings\u001b[0m\u001b[0;34m(\u001b[0m\u001b[0mself\u001b[0m\u001b[0;34m,\u001b[0m \u001b[0mname\u001b[0m\u001b[0;34m,\u001b[0m \u001b[0mcol\u001b[0m\u001b[0;34m)\u001b[0m\u001b[0;34m:\u001b[0m\u001b[0;34m\u001b[0m\u001b[0m\n",
      "\u001b[0;32m/Users/rs548/anaconda/envs/herschelhelp_internal/lib/python3.6/site-packages/astropy/table/table.py\u001b[0m in \u001b[0;36m_init_from_cols\u001b[0;34m(self, cols)\u001b[0m\n\u001b[1;32m    735\u001b[0m         \u001b[0;31m# convert columns with units to a Quantity mixin.\u001b[0m\u001b[0;34m\u001b[0m\u001b[0;34m\u001b[0m\u001b[0m\n\u001b[1;32m    736\u001b[0m         \u001b[0mnewcols\u001b[0m \u001b[0;34m=\u001b[0m \u001b[0;34m[\u001b[0m\u001b[0mself\u001b[0m\u001b[0;34m.\u001b[0m\u001b[0m_convert_col_for_table\u001b[0m\u001b[0;34m(\u001b[0m\u001b[0mcol\u001b[0m\u001b[0;34m)\u001b[0m \u001b[0;32mfor\u001b[0m \u001b[0mcol\u001b[0m \u001b[0;32min\u001b[0m \u001b[0mcols\u001b[0m\u001b[0;34m]\u001b[0m\u001b[0;34m\u001b[0m\u001b[0m\n\u001b[0;32m--> 737\u001b[0;31m         \u001b[0mself\u001b[0m\u001b[0;34m.\u001b[0m\u001b[0m_make_table_from_cols\u001b[0m\u001b[0;34m(\u001b[0m\u001b[0mself\u001b[0m\u001b[0;34m,\u001b[0m \u001b[0mnewcols\u001b[0m\u001b[0;34m)\u001b[0m\u001b[0;34m\u001b[0m\u001b[0m\n\u001b[0m\u001b[1;32m    738\u001b[0m \u001b[0;34m\u001b[0m\u001b[0m\n\u001b[1;32m    739\u001b[0m         \u001b[0;31m# Deduplicate indices.  It may happen that after pickling or when\u001b[0m\u001b[0;34m\u001b[0m\u001b[0;34m\u001b[0m\u001b[0m\n",
      "\u001b[0;32m/Users/rs548/anaconda/envs/herschelhelp_internal/lib/python3.6/site-packages/astropy/table/table.py\u001b[0m in \u001b[0;36m_make_table_from_cols\u001b[0;34m(table, cols)\u001b[0m\n\u001b[1;32m    780\u001b[0m             \u001b[0;32mraise\u001b[0m \u001b[0mTypeError\u001b[0m\u001b[0;34m(\u001b[0m\u001b[0;34m'Cannot have None for column name'\u001b[0m\u001b[0;34m)\u001b[0m\u001b[0;34m\u001b[0m\u001b[0m\n\u001b[1;32m    781\u001b[0m         \u001b[0;32mif\u001b[0m \u001b[0mlen\u001b[0m\u001b[0;34m(\u001b[0m\u001b[0mcolnames\u001b[0m\u001b[0;34m)\u001b[0m \u001b[0;34m!=\u001b[0m \u001b[0mlen\u001b[0m\u001b[0;34m(\u001b[0m\u001b[0mcols\u001b[0m\u001b[0;34m)\u001b[0m\u001b[0;34m:\u001b[0m\u001b[0;34m\u001b[0m\u001b[0m\n\u001b[0;32m--> 782\u001b[0;31m             \u001b[0;32mraise\u001b[0m \u001b[0mValueError\u001b[0m\u001b[0;34m(\u001b[0m\u001b[0;34m'Duplicate column names'\u001b[0m\u001b[0;34m)\u001b[0m\u001b[0;34m\u001b[0m\u001b[0m\n\u001b[0m\u001b[1;32m    783\u001b[0m \u001b[0;34m\u001b[0m\u001b[0m\n\u001b[1;32m    784\u001b[0m         \u001b[0mcolumns\u001b[0m \u001b[0;34m=\u001b[0m \u001b[0mtable\u001b[0m\u001b[0;34m.\u001b[0m\u001b[0mTableColumns\u001b[0m\u001b[0;34m(\u001b[0m\u001b[0;34m(\u001b[0m\u001b[0mcol\u001b[0m\u001b[0;34m.\u001b[0m\u001b[0minfo\u001b[0m\u001b[0;34m.\u001b[0m\u001b[0mname\u001b[0m\u001b[0;34m,\u001b[0m \u001b[0mcol\u001b[0m\u001b[0;34m)\u001b[0m \u001b[0;32mfor\u001b[0m \u001b[0mcol\u001b[0m \u001b[0;32min\u001b[0m \u001b[0mcols\u001b[0m\u001b[0;34m)\u001b[0m\u001b[0;34m\u001b[0m\u001b[0m\n",
      "\u001b[0;31mValueError\u001b[0m: Duplicate column names"
     ]
    }
   ],
   "source": [
    "nb_fireworks_orig = len(fireworks)\n",
    "fireworks = masterlist.remove_duplicates(\n",
    "    fireworks, 'fireworks_ra', 'fireworks_dec', \n",
    "    sort_col=['merr_fireworks_FU38', \n",
    "     'merr_fireworks_FB435', \n",
    "     'merr_fireworks_FB',\n",
    "     'merr_fireworks_FV',\n",
    "     'merr_fireworks_FV606',\n",
    "     'merr_fireworks_FRc',\n",
    "     'merr_fireworks_Fi775',\n",
    "     'merr_fireworks_FI',\n",
    "     'merr_fireworks_Fz850',\n",
    "     'merr_fireworks_FJ',\n",
    "     'merr_fireworks_FH',\n",
    "     'merr_fireworks_FKs',\n",
    "     'merr_fireworks_F3.6',\n",
    "     'merr_fireworks_F4.5',\n",
    "     'merr_fireworks_F5.8',\n",
    "     'merr_fireworks_F8.0',\n",
    "     'merr_fireworks_FKs.t',\n",
    "     'merr_fireworks_F24.t'],\n",
    "    flag_name='fireworks_flag_cleaned')\n",
    "nb_fireworks = len(fireworks)\n",
    "print(\"Fireworks initial catalogue as {} sources.\".format(nb_fireworks_orig))\n",
    "print(\"Fireworks cleaned catalogue as {} sources ({} removed).\".format(nb_fireworks, nb_fireworks_orig - nb_fireworks))\n",
    "print(\"Fireworks has {} sources flagged as having been cleaned\".format(np.sum(fireworks['fireworks_flag_cleaned'])))"
   ]
  },
  {
   "cell_type": "code",
   "execution_count": 46,
   "metadata": {
    "collapsed": false
   },
   "outputs": [
    {
     "name": "stderr",
     "output_type": "stream",
     "text": [
      "/Users/rs548/anaconda/envs/herschelhelp_internal/lib/python3.6/site-packages/astropy/table/column.py:1096: MaskedArrayFutureWarning: setting an item on a masked array which has a shared mask will not copy the mask and also change the original mask array in the future.\n",
      "Check the NumPy 1.11 release notes for more information.\n",
      "  ma.MaskedArray.__setitem__(self, index, value)\n"
     ]
    },
    {
     "name": "stdout",
     "output_type": "stream",
     "text": [
      "COMBO initial catalogue as 55551 sources.\n",
      "COMBO cleaned catalogue as 55551 sources (0 removed).\n",
      "COMBO has 0 sources flagged as having been cleaned\n"
     ]
    }
   ],
   "source": [
    "nb_combo_orig = len(combo)\n",
    "combo = masterlist.remove_duplicates(\n",
    "    combo, 'combo_ra', 'combo_dec', \n",
    "    sort_col=['merr_combo_R',  \n",
    "     'merr_combo_Uj', \n",
    "     'merr_combo_Bj',\n",
    "     'merr_combo_Vj',\n",
    "     'merr_combo_us',\n",
    "     'merr_combo_gs',\n",
    "     'merr_combo_rs',\n",
    "     'merr_combo_Ub',\n",
    "     'merr_combo_Bb',\n",
    "     'merr_combo_Vb',\n",
    "     'merr_combo_S280',\n",
    "     'merr_combo_S145'],\n",
    "    flag_name='combo_flag_cleaned')\n",
    "nb_combo = len(combo)\n",
    "print(\"COMBO initial catalogue as {} sources.\".format(nb_combo_orig))\n",
    "print(\"COMBO cleaned catalogue as {} sources ({} removed).\".format(nb_combo, nb_combo_orig - nb_combo))\n",
    "print(\"COMBO has {} sources flagged as having been cleaned\".format(np.sum(combo['combo_flag_cleaned'])))"
   ]
  },
  {
   "cell_type": "markdown",
   "metadata": {},
   "source": [
    "## III - Astrometry correction\n",
    "\n",
    "We match the astrometry to the Gaia one. We limit the Gaia catalogue to sources with a g band flux between the 30th and the 70th percentile. Some quick tests show that this give the lower dispersion in the results."
   ]
  },
  {
   "cell_type": "code",
   "execution_count": 47,
   "metadata": {
    "collapsed": true
   },
   "outputs": [],
   "source": [
    "gaia = Table.read(\"../../dmu0/dmu0_GAIA/data/GAIA_ELAIS-N1.fits\")\n",
    "gaia_coords = SkyCoord(gaia['ra'], gaia['dec'])"
   ]
  },
  {
   "cell_type": "code",
   "execution_count": 48,
   "metadata": {
    "collapsed": false
   },
   "outputs": [
    {
     "ename": "NameError",
     "evalue": "name 'wfc' is not defined",
     "output_type": "error",
     "traceback": [
      "\u001b[0;31m---------------------------------------------------------------------------\u001b[0m",
      "\u001b[0;31mNameError\u001b[0m                                 Traceback (most recent call last)",
      "\u001b[0;32m<ipython-input-48-5e7652792fd2>\u001b[0m in \u001b[0;36m<module>\u001b[0;34m()\u001b[0m\n\u001b[1;32m      1\u001b[0m masterlist.nb_astcor_diag_plot(\n\u001b[0;32m----> 2\u001b[0;31m     wfc['wfc_ra'], wfc['wfc_dec'], gaia_coords.ra, gaia_coords.dec)\n\u001b[0m",
      "\u001b[0;31mNameError\u001b[0m: name 'wfc' is not defined"
     ]
    }
   ],
   "source": [
    "masterlist.nb_astcor_diag_plot(\n",
    "    wfc['wfc_ra'], wfc['wfc_dec'], gaia_coords.ra, gaia_coords.dec)"
   ]
  },
  {
   "cell_type": "code",
   "execution_count": null,
   "metadata": {
    "collapsed": false
   },
   "outputs": [],
   "source": [
    "wfc_delta_ra, wfc_delta_dec = utils.astrometric_correction(\n",
    "    SkyCoord(wfc['wfc_ra'], wfc['wfc_dec']),\n",
    "    gaia_coords\n",
    ")\n",
    "wfc['wfc_ra'] += wfc_delta_ra.to(u.deg)\n",
    "wfc['wfc_dec'] += wfc_delta_dec.to(u.deg)\n",
    "\n",
    "print(\"WFC delta RA / delta Dec: {} / {}\".format(wfc_delta_ra, wfc_delta_dec))"
   ]
  },
  {
   "cell_type": "code",
   "execution_count": null,
   "metadata": {
    "collapsed": false
   },
   "outputs": [],
   "source": [
    "masterlist.nb_astcor_diag_plot(\n",
    "    dxs['dxs_ra'], dxs['dxs_dec'], gaia_coords.ra, gaia_coords.dec)"
   ]
  },
  {
   "cell_type": "code",
   "execution_count": null,
   "metadata": {
    "collapsed": false
   },
   "outputs": [],
   "source": [
    "dxs_delta_ra, dxs_delta_dec = utils.astrometric_correction(\n",
    "    SkyCoord(dxs['dxs_ra'], dxs['dxs_dec']),\n",
    "    gaia_coords\n",
    ")\n",
    "dxs['dxs_ra'] += dxs_delta_ra.to(u.deg)\n",
    "dxs['dxs_dec'] += dxs_delta_dec.to(u.deg)\n",
    "\n",
    "print(\"DXS delta RA / delta Dec: {} / {}\".format(dxs_delta_ra, dxs_delta_dec))"
   ]
  },
  {
   "cell_type": "code",
   "execution_count": null,
   "metadata": {
    "collapsed": false
   },
   "outputs": [],
   "source": [
    "masterlist.nb_astcor_diag_plot(\n",
    "    servs['servs_ra'], servs['servs_dec'], gaia_coords.ra, gaia_coords.dec)"
   ]
  },
  {
   "cell_type": "code",
   "execution_count": null,
   "metadata": {
    "collapsed": false
   },
   "outputs": [],
   "source": [
    "servs_delta_ra, servs_delta_dec = utils.astrometric_correction(\n",
    "    SkyCoord(servs['servs_ra'], servs['servs_dec']),\n",
    "    gaia_coords\n",
    ")\n",
    "servs['servs_ra'] += servs_delta_ra.to(u.deg)\n",
    "servs['servs_dec'] += servs_delta_dec.to(u.deg)\n",
    "\n",
    "print(\"SERVS delta RA / delta Dec: {} / {}\".format(servs_delta_ra, servs_delta_dec))"
   ]
  },
  {
   "cell_type": "code",
   "execution_count": null,
   "metadata": {
    "collapsed": false
   },
   "outputs": [],
   "source": [
    "masterlist.nb_astcor_diag_plot(\n",
    "    swire['swire_ra'], swire['swire_dec'], gaia_coords.ra, gaia_coords.dec)"
   ]
  },
  {
   "cell_type": "code",
   "execution_count": null,
   "metadata": {
    "collapsed": false
   },
   "outputs": [],
   "source": [
    "swire_delta_ra, swire_delta_dec = utils.astrometric_correction(\n",
    "    SkyCoord(swire['swire_ra'], swire['swire_dec']),\n",
    "    gaia_coords\n",
    ")\n",
    "swire['swire_ra'] += swire_delta_ra.to(u.deg)\n",
    "swire['swire_dec'] += swire_delta_dec.to(u.deg)\n",
    "\n",
    "print(\"SWIRE delta RA / delta Dec: {} / {}\".format(swire_delta_ra, swire_delta_dec))"
   ]
  },
  {
   "cell_type": "code",
   "execution_count": null,
   "metadata": {
    "collapsed": false
   },
   "outputs": [],
   "source": [
    "masterlist.nb_astcor_diag_plot(\n",
    "    sparcs['sparcs_ra'], sparcs['sparcs_dec'], gaia_coords.ra, gaia_coords.dec)"
   ]
  },
  {
   "cell_type": "code",
   "execution_count": null,
   "metadata": {
    "collapsed": false
   },
   "outputs": [],
   "source": [
    "sparcs_delta_ra, sparcs_delta_dec = utils.astrometric_correction(\n",
    "    SkyCoord(sparcs['sparcs_ra'], sparcs['sparcs_dec']),\n",
    "    gaia_coords\n",
    ")\n",
    "sparcs['sparcs_ra'] += sparcs_delta_ra.to(u.deg)\n",
    "sparcs['sparcs_dec'] += sparcs_delta_dec.to(u.deg)\n",
    "\n",
    "print(\"SpARCS delta RA / delta Dec: {} / {}\".format(sparcs_delta_ra, sparcs_delta_dec))"
   ]
  },
  {
   "cell_type": "markdown",
   "metadata": {},
   "source": [
    "## IV - Flagging Gaia objects"
   ]
  },
  {
   "cell_type": "code",
   "execution_count": null,
   "metadata": {
    "collapsed": false
   },
   "outputs": [],
   "source": [
    "wfc.add_column(\n",
    "    flagging.gaia_flag_column(\n",
    "        SkyCoord(wfc['wfc_ra'], wfc['wfc_dec']),\n",
    "        wfc_epoch,\n",
    "        gaia\n",
    "    )\n",
    ")\n",
    "wfc['flag_gaia'].name = 'wfc_flag_gaia'\n",
    "print(\"{} sources flagged.\".format(np.sum(wfc['wfc_flag_gaia'] > 0)))"
   ]
  },
  {
   "cell_type": "code",
   "execution_count": null,
   "metadata": {
    "collapsed": false
   },
   "outputs": [],
   "source": [
    "dxs.add_column(\n",
    "    flagging.gaia_flag_column(\n",
    "        SkyCoord(dxs['dxs_ra'], dxs['dxs_dec']),\n",
    "        dxs_epoch,\n",
    "        gaia\n",
    "    )\n",
    ")\n",
    "dxs['flag_gaia'].name = 'dxs_flag_gaia'\n",
    "print(\"{} sources flagged.\".format(np.sum(dxs['dxs_flag_gaia'] > 0)))"
   ]
  },
  {
   "cell_type": "code",
   "execution_count": null,
   "metadata": {
    "collapsed": false
   },
   "outputs": [],
   "source": [
    "servs.add_column(\n",
    "    flagging.gaia_flag_column(\n",
    "        SkyCoord(servs['servs_ra'], servs['servs_dec']),\n",
    "        servs_epoch,\n",
    "        gaia\n",
    "    )\n",
    ")\n",
    "servs['flag_gaia'].name = 'servs_flag_gaia'\n",
    "print(\"{} sources flagged.\".format(np.sum(servs['servs_flag_gaia'] > 0)))"
   ]
  },
  {
   "cell_type": "code",
   "execution_count": null,
   "metadata": {
    "collapsed": false
   },
   "outputs": [],
   "source": [
    "swire.add_column(\n",
    "    flagging.gaia_flag_column(\n",
    "        SkyCoord(swire['swire_ra'], swire['swire_dec']),\n",
    "        swire_epoch,\n",
    "        gaia\n",
    "    )\n",
    ")\n",
    "swire['flag_gaia'].name = 'swire_flag_gaia'\n",
    "print(\"{} sources flagged.\".format(np.sum(swire['swire_flag_gaia'] > 0)))"
   ]
  },
  {
   "cell_type": "code",
   "execution_count": null,
   "metadata": {
    "collapsed": false
   },
   "outputs": [],
   "source": [
    "sparcs.add_column(\n",
    "    flagging.gaia_flag_column(\n",
    "        SkyCoord(sparcs['sparcs_ra'], sparcs['sparcs_dec']),\n",
    "        sparcs_epoch,\n",
    "        gaia\n",
    "    )\n",
    ")\n",
    "sparcs['flag_gaia'].name = 'sparcs_flag_gaia'\n",
    "print(\"{} sources flagged.\".format(np.sum(sparcs['sparcs_flag_gaia'] > 0)))"
   ]
  },
  {
   "cell_type": "markdown",
   "metadata": {},
   "source": [
    "## IV - Flagging objects near bright stars"
   ]
  },
  {
   "cell_type": "code",
   "execution_count": null,
   "metadata": {
    "collapsed": false
   },
   "outputs": [],
   "source": [
    "#This section may be superseeded by merely using multiband detection as evidence of good data\n",
    "#starmask.flag_artefacts"
   ]
  },
  {
   "cell_type": "markdown",
   "metadata": {},
   "source": [
    "## V- Merging the catalogues"
   ]
  },
  {
   "cell_type": "code",
   "execution_count": null,
   "metadata": {
    "collapsed": false
   },
   "outputs": [],
   "source": [
    "masterlist.nb_merge_dist_plot(\n",
    "    SkyCoord(wfc['wfc_ra'], wfc['wfc_dec']),\n",
    "    SkyCoord(dxs['dxs_ra'], dxs['dxs_dec'])\n",
    ")"
   ]
  },
  {
   "cell_type": "code",
   "execution_count": null,
   "metadata": {
    "collapsed": true
   },
   "outputs": [],
   "source": [
    "# Given the graph above, we use 0.8 arc-second radius\n",
    "wfc['wfc_ra'].name = 'ra'\n",
    "wfc['wfc_dec'].name = 'dec'\n",
    "masterlist_catalogue = masterlist.merge_catalogues(\n",
    "    wfc, dxs, \"dxs_ra\", \"dxs_dec\")"
   ]
  },
  {
   "cell_type": "code",
   "execution_count": null,
   "metadata": {
    "collapsed": false
   },
   "outputs": [],
   "source": [
    "masterlist.nb_merge_dist_plot(\n",
    "    SkyCoord(masterlist_catalogue['ra'], masterlist_catalogue['dec']),\n",
    "    SkyCoord(servs['servs_ra'], servs['servs_dec'])\n",
    ")"
   ]
  },
  {
   "cell_type": "code",
   "execution_count": null,
   "metadata": {
    "collapsed": true
   },
   "outputs": [],
   "source": [
    "# Given the graph above, we use 1.2 arc-second radius\n",
    "masterlist_catalogue = masterlist.merge_catalogues(\n",
    "    masterlist_catalogue, servs, \"servs_ra\", \"servs_dec\")"
   ]
  },
  {
   "cell_type": "code",
   "execution_count": null,
   "metadata": {
    "collapsed": false
   },
   "outputs": [],
   "source": [
    "masterlist.nb_merge_dist_plot(\n",
    "    SkyCoord(masterlist_catalogue['ra'], masterlist_catalogue['dec']),\n",
    "    SkyCoord(swire['swire_ra'], swire['swire_dec'])\n",
    ")"
   ]
  },
  {
   "cell_type": "code",
   "execution_count": null,
   "metadata": {
    "collapsed": true
   },
   "outputs": [],
   "source": [
    "masterlist_catalogue = masterlist.merge_catalogues(\n",
    "    masterlist_catalogue, swire, \"swire_ra\", \"swire_dec\")"
   ]
  },
  {
   "cell_type": "code",
   "execution_count": null,
   "metadata": {
    "collapsed": false
   },
   "outputs": [],
   "source": [
    "masterlist.nb_merge_dist_plot(\n",
    "    SkyCoord(masterlist_catalogue['ra'], masterlist_catalogue['dec']),\n",
    "    SkyCoord(sparcs['sparcs_ra'], sparcs['sparcs_dec'])\n",
    ")"
   ]
  },
  {
   "cell_type": "code",
   "execution_count": null,
   "metadata": {
    "collapsed": true
   },
   "outputs": [],
   "source": [
    "# Given the graph above, we use 1 arc-second radius\n",
    "masterlist_catalogue = masterlist.merge_catalogues(\n",
    "    masterlist_catalogue, sparcs, \"sparcs_ra\", \"sparcs_dec\", radius=1. * u.arcsec)"
   ]
  },
  {
   "cell_type": "code",
   "execution_count": null,
   "metadata": {
    "collapsed": true
   },
   "outputs": [],
   "source": [
    "# When we merge the catalogues, astropy masks the non-existent values (e.g. when a row comes\n",
    "# only from a catalogue and has no counterparts in the other, the columns from the latest\n",
    "# are masked for that row). We indicate to use NaN for masked values for floats columns,\n",
    "# False for flag columns and -1 for ID columns.\n",
    "for col in masterlist_catalogue.colnames:\n",
    "    if \"m_\" in col or \"merr_\" in col or \"f_\" in col or \"ferr_\" in col or \"stellarity\" in col:\n",
    "        masterlist_catalogue[col].fill_value = np.nan\n",
    "    elif \"flag\" in col:\n",
    "        masterlist_catalogue[col].fill_value = False\n",
    "    elif \"id\" in col:\n",
    "        masterlist_catalogue[col].fill_value = -1\n",
    "        \n",
    "masterlist_catalogue = masterlist_catalogue.filled()"
   ]
  },
  {
   "cell_type": "code",
   "execution_count": null,
   "metadata": {
    "collapsed": false,
    "scrolled": false
   },
   "outputs": [],
   "source": [
    "masterlist_catalogue[:10].show_in_notebook()"
   ]
  },
  {
   "cell_type": "markdown",
   "metadata": {},
   "source": [
    "## VI - Merging flags and stellarity"
   ]
  },
  {
   "cell_type": "code",
   "execution_count": null,
   "metadata": {
    "collapsed": true
   },
   "outputs": [],
   "source": [
    "masterlist_catalogue.add_column(Column(\n",
    "    data=(masterlist_catalogue['wfc_flag_cleaned'] | \n",
    "          masterlist_catalogue['dxs_flag_cleaned'] |\n",
    "          masterlist_catalogue['servs_flag_cleaned'] | \n",
    "          masterlist_catalogue['swire_flag_cleaned'] |\n",
    "          masterlist_catalogue['sparcs_flag_cleaned']),\n",
    "    name=\"flag_cleaned\"\n",
    "))\n",
    "masterlist_catalogue.remove_columns(['wfc_flag_cleaned', 'dxs_flag_cleaned',\n",
    "                                     'servs_flag_cleaned', 'swire_flag_cleaned',\n",
    "                                     'sparcs_flag_cleaned'])"
   ]
  },
  {
   "cell_type": "code",
   "execution_count": null,
   "metadata": {
    "collapsed": true
   },
   "outputs": [],
   "source": [
    "masterlist_catalogue.add_column(Column(\n",
    "    data=(masterlist_catalogue['wfc_flag_gaia'] | \n",
    "          masterlist_catalogue['dxs_flag_gaia'] |\n",
    "          masterlist_catalogue['servs_flag_gaia'] | \n",
    "          masterlist_catalogue['swire_flag_gaia'] |\n",
    "          masterlist_catalogue['sparcs_flag_gaia']),\n",
    "    name=\"flag_gaia\"\n",
    "))\n",
    "masterlist_catalogue.remove_columns(['wfc_flag_gaia', 'dxs_flag_gaia',\n",
    "                                     'servs_flag_gaia', 'swire_flag_gaia',\n",
    "                                     'sparcs_flag_gaia'])"
   ]
  },
  {
   "cell_type": "code",
   "execution_count": null,
   "metadata": {
    "collapsed": true
   },
   "outputs": [],
   "source": [
    "masterlist_catalogue.add_column(Column(\n",
    "    data=np.nanmax([masterlist_catalogue['wfc_stellarity'],\n",
    "                     masterlist_catalogue['dxs_stellarity'],\n",
    "                     masterlist_catalogue['servs_stellarity_irac1'],\n",
    "                     masterlist_catalogue['servs_stellarity_irac2'],\n",
    "                     masterlist_catalogue['swire_stellarity_irac1'],\n",
    "                     masterlist_catalogue['swire_stellarity_irac2'],\n",
    "                     masterlist_catalogue['swire_stellarity_irac3'],\n",
    "                     masterlist_catalogue['swire_stellarity_irac4'],\n",
    "                     masterlist_catalogue['sparcs_stellarity']],\n",
    "                   axis=0),\n",
    "    name='stellarity'\n",
    "))\n",
    "masterlist_catalogue.remove_columns(\n",
    "    ['wfc_stellarity',\n",
    "     'dxs_stellarity',\n",
    "     'servs_stellarity_irac1',\n",
    "     'servs_stellarity_irac2',\n",
    "     'swire_stellarity_irac1',\n",
    "     'swire_stellarity_irac2',\n",
    "     'swire_stellarity_irac3',\n",
    "     'swire_stellarity_irac4',\n",
    "     'sparcs_stellarity']\n",
    ")"
   ]
  },
  {
   "cell_type": "markdown",
   "metadata": {},
   "source": [
    "## VII - E(B-V)"
   ]
  },
  {
   "cell_type": "code",
   "execution_count": null,
   "metadata": {
    "collapsed": true
   },
   "outputs": [],
   "source": [
    "masterlist_catalogue.add_column(\n",
    "    utils.ebv(masterlist_catalogue['ra'], masterlist_catalogue['dec'])\n",
    ")"
   ]
  },
  {
   "cell_type": "markdown",
   "metadata": {},
   "source": [
    "## VIII - Adding HELP unique identifiers and field columns"
   ]
  },
  {
   "cell_type": "code",
   "execution_count": null,
   "metadata": {
    "collapsed": true
   },
   "outputs": [],
   "source": [
    "masterlist_catalogue.add_column(Column(\n",
    "    utils.gen_help_id(masterlist_catalogue['ra'], masterlist_catalogue['dec']),\n",
    "    name=\"help_id\"\n",
    "))\n",
    "masterlist_catalogue.add_column(Column(\n",
    "    np.full(len(masterlist_catalogue), \"ELAIS-N1\", dtype='<U18'),\n",
    "    name=\"field\"\n",
    "))"
   ]
  },
  {
   "cell_type": "code",
   "execution_count": null,
   "metadata": {
    "collapsed": false
   },
   "outputs": [],
   "source": [
    "# Check that the HELP Ids are unique\n",
    "if len(masterlist_catalogue) != len(np.unique(masterlist_catalogue['help_id'])):\n",
    "    print(\"The HELP IDs are not unique!!!\")\n",
    "else:\n",
    "    print(\"OK!\")"
   ]
  },
  {
   "cell_type": "markdown",
   "metadata": {},
   "source": [
    "## IX - Choosing between multiple values for the same filter\n",
    "\n",
    "Both SERVS and SWIRE provide IRAC1 and IRAC2 fluxes. SERVS is deeper but tends to under-estimate flux of bright sources (Mattia said over 2000 µJy) as illustrated by this comparison of SWIRE, SERVS, and Spitzer-EIP fluxes."
   ]
  },
  {
   "cell_type": "code",
   "execution_count": null,
   "metadata": {
    "collapsed": false
   },
   "outputs": [],
   "source": [
    "seip = Table.read(\"../../dmu0/dmu0_SEIP/data/SEIP_ELAIS-N1.fits\")\n",
    "seip_coords = SkyCoord(seip['ra'], seip['dec'])\n",
    "idx, d2d, _ = seip_coords.match_to_catalog_sky(SkyCoord(masterlist_catalogue['ra'], masterlist_catalogue['dec']))\n",
    "mask = d2d <= 2 * u.arcsec"
   ]
  },
  {
   "cell_type": "code",
   "execution_count": null,
   "metadata": {
    "collapsed": false
   },
   "outputs": [],
   "source": [
    "fig, ax = plt.subplots()\n",
    "ax.scatter(seip['i1_f_ap1'][mask], masterlist_catalogue[idx[mask]]['f_app_servs_irac1'], label=\"SERVS\", s=2.)\n",
    "ax.scatter(seip['i1_f_ap1'][mask], masterlist_catalogue[idx[mask]]['f_app_swire_irac1'], label=\"SWIRE\", s=2.)\n",
    "ax.set_xscale('log')\n",
    "ax.set_yscale('log')\n",
    "ax.set_xlabel(\"SEIP flux [μJy]\")\n",
    "ax.set_ylabel(\"SERVS/SWIRE flux [μJy]\")\n",
    "ax.set_title(\"IRAC 1\")\n",
    "ax.legend()\n",
    "ax.axvline(2000, color=\"black\", linestyle=\"--\", linewidth=1.)\n",
    "ax.plot(seip['i1_f_ap1'][mask], seip['i1_f_ap1'][mask], linewidth=.1, color=\"black\", alpha=.5)"
   ]
  },
  {
   "cell_type": "code",
   "execution_count": null,
   "metadata": {
    "collapsed": false
   },
   "outputs": [],
   "source": [
    "fig, ax = plt.subplots()\n",
    "ax.scatter(seip['i2_f_ap1'][mask], masterlist_catalogue[idx[mask]]['f_app_servs_irac2'], label=\"SERVS\", s=2.)\n",
    "ax.scatter(seip['i2_f_ap1'][mask], masterlist_catalogue[idx[mask]]['f_app_swire_irac2'], label=\"SWIRE\", s=2.)\n",
    "ax.set_xscale('log')\n",
    "ax.set_yscale('log')\n",
    "ax.set_xlabel(\"SEIP flux [μJy]\")\n",
    "ax.set_ylabel(\"SERVS/SWIRE flux [μJy]\")\n",
    "ax.set_title(\"IRAC 2\")\n",
    "ax.legend()\n",
    "ax.axvline(2000, color=\"black\", linestyle=\"--\", linewidth=1.)\n",
    "\n",
    "ax.plot(seip['i1_f_ap2'][mask], seip['i1_f_ap2'][mask], linewidth=.1, color=\"black\", alpha=.5)"
   ]
  },
  {
   "cell_type": "markdown",
   "metadata": {},
   "source": [
    "When both SWIRE and SERVS fluxes are provided, we use the SERVS flux below 2000 μJy and the SWIRE flux over.\n",
    "\n",
    "We create a table indicating for each source the origin on the IRAC1 and IRAC2 fluxes that will be saved separately."
   ]
  },
  {
   "cell_type": "code",
   "execution_count": null,
   "metadata": {
    "collapsed": true
   },
   "outputs": [],
   "source": [
    "irac_origin = Table()\n",
    "irac_origin.add_column(masterlist_catalogue['help_id'])"
   ]
  },
  {
   "cell_type": "code",
   "execution_count": null,
   "metadata": {
    "collapsed": false
   },
   "outputs": [],
   "source": [
    "# IRAC1 aperture flux and magnitudes\n",
    "has_servs = ~np.isnan(masterlist_catalogue['f_app_servs_irac1'])\n",
    "has_swire = ~np.isnan(masterlist_catalogue['f_app_swire_irac1'])\n",
    "has_both = has_servs & has_swire\n",
    "\n",
    "print(\"{} sources with SERVS flux\".format(np.sum(has_servs)))\n",
    "print(\"{} sources with SWIRE flux\".format(np.sum(has_swire)))\n",
    "print(\"{} sources with SERVS and SWIRE flux\".format(np.sum(has_both)))\n",
    "\n",
    "has_servs_above_limit = has_servs.copy()\n",
    "has_servs_above_limit[has_servs] = masterlist_catalogue['f_app_servs_irac1'][has_servs] > 2000\n",
    "\n",
    "use_swire = (has_swire & ~has_servs) | (has_both & has_servs_above_limit)\n",
    "use_servs = (has_servs & ~(has_both & has_servs_above_limit))\n",
    "\n",
    "print(\"{} sources for which we use SERVS\".format(np.sum(use_servs)))\n",
    "print(\"{} sources for which we use SWIRE\".format(np.sum(use_swire)))\n",
    "\n",
    "f_app_irac = np.full(len(masterlist_catalogue), np.nan)\n",
    "f_app_irac[use_servs] = masterlist_catalogue['f_app_servs_irac1'][use_servs]\n",
    "f_app_irac[use_swire] = masterlist_catalogue['f_app_swire_irac1'][use_swire]\n",
    "\n",
    "ferr_app_irac = np.full(len(masterlist_catalogue), np.nan)\n",
    "ferr_app_irac[use_servs] = masterlist_catalogue['ferr_app_servs_irac1'][use_servs]\n",
    "ferr_app_irac[use_swire] = masterlist_catalogue['ferr_app_swire_irac1'][use_swire]\n",
    "\n",
    "m_app_irac = np.full(len(masterlist_catalogue), np.nan)\n",
    "m_app_irac[use_servs] = masterlist_catalogue['m_app_servs_irac1'][use_servs]\n",
    "m_app_irac[use_swire] = masterlist_catalogue['m_app_swire_irac1'][use_swire]\n",
    "\n",
    "merr_app_irac = np.full(len(masterlist_catalogue), np.nan)\n",
    "merr_app_irac[use_servs] = masterlist_catalogue['merr_app_servs_irac1'][use_servs]\n",
    "merr_app_irac[use_swire] = masterlist_catalogue['merr_app_swire_irac1'][use_swire]\n",
    "\n",
    "masterlist_catalogue.add_column(Column(data=f_app_irac, name=\"f_app_irac1\"))\n",
    "masterlist_catalogue.add_column(Column(data=ferr_app_irac, name=\"ferr_app_irac1\"))\n",
    "masterlist_catalogue.add_column(Column(data=m_app_irac, name=\"m_app_irac1\"))\n",
    "masterlist_catalogue.add_column(Column(data=merr_app_irac, name=\"merr_app_irac1\"))\n",
    "\n",
    "masterlist_catalogue.remove_columns(['f_app_servs_irac1', 'f_app_swire_irac1', 'ferr_app_servs_irac1',\n",
    "                                     'ferr_app_swire_irac1', 'm_app_servs_irac1', 'm_app_swire_irac1',\n",
    "                                     'merr_app_servs_irac1', 'merr_app_swire_irac1'])\n",
    "\n",
    "origin = np.full(len(masterlist_catalogue), '     ', dtype='<U5')\n",
    "origin[use_servs] = \"SERVS\"\n",
    "origin[use_swire] = \"SWIRE\"\n",
    "irac_origin.add_column(Column(data=origin, name=\"IRAC1_app\"))"
   ]
  },
  {
   "cell_type": "code",
   "execution_count": null,
   "metadata": {
    "collapsed": false
   },
   "outputs": [],
   "source": [
    "# IRAC1 total flux and magnitudes\n",
    "has_servs = ~np.isnan(masterlist_catalogue['f_servs_irac1'])\n",
    "has_swire = ~np.isnan(masterlist_catalogue['f_swire_irac1'])\n",
    "has_both = has_servs & has_swire\n",
    "\n",
    "print(\"{} sources with SERVS flux\".format(np.sum(has_servs)))\n",
    "print(\"{} sources with SWIRE flux\".format(np.sum(has_swire)))\n",
    "print(\"{} sources with SERVS and SWIRE flux\".format(np.sum(has_both)))\n",
    "\n",
    "has_servs_above_limit = has_servs.copy()\n",
    "has_servs_above_limit[has_servs] = masterlist_catalogue['f_servs_irac1'][has_servs] > 2000\n",
    "\n",
    "use_swire = (has_swire & ~has_servs) | (has_both & has_servs_above_limit)\n",
    "use_servs = (has_servs & ~(has_both & has_servs_above_limit))\n",
    "\n",
    "print(\"{} sources for which we use SERVS\".format(np.sum(use_servs)))\n",
    "print(\"{} sources for which we use SWIRE\".format(np.sum(use_swire)))\n",
    "\n",
    "f_app_irac = np.full(len(masterlist_catalogue), np.nan)\n",
    "f_app_irac[use_servs] = masterlist_catalogue['f_servs_irac1'][use_servs]\n",
    "f_app_irac[use_swire] = masterlist_catalogue['f_swire_irac1'][use_swire]\n",
    "\n",
    "ferr_app_irac = np.full(len(masterlist_catalogue), np.nan)\n",
    "ferr_app_irac[use_servs] = masterlist_catalogue['ferr_servs_irac1'][use_servs]\n",
    "ferr_app_irac[use_swire] = masterlist_catalogue['ferr_swire_irac1'][use_swire]\n",
    "\n",
    "m_app_irac = np.full(len(masterlist_catalogue), np.nan)\n",
    "m_app_irac[use_servs] = masterlist_catalogue['m_servs_irac1'][use_servs]\n",
    "m_app_irac[use_swire] = masterlist_catalogue['m_swire_irac1'][use_swire]\n",
    "\n",
    "merr_app_irac = np.full(len(masterlist_catalogue), np.nan)\n",
    "merr_app_irac[use_servs] = masterlist_catalogue['merr_servs_irac1'][use_servs]\n",
    "merr_app_irac[use_swire] = masterlist_catalogue['merr_swire_irac1'][use_swire]\n",
    "\n",
    "masterlist_catalogue.add_column(Column(data=f_app_irac, name=\"f_irac1\"))\n",
    "masterlist_catalogue.add_column(Column(data=ferr_app_irac, name=\"ferr_irac1\"))\n",
    "masterlist_catalogue.add_column(Column(data=m_app_irac, name=\"m_irac1\"))\n",
    "masterlist_catalogue.add_column(Column(data=merr_app_irac, name=\"merr_irac1\"))\n",
    "\n",
    "masterlist_catalogue.remove_columns(['f_servs_irac1', 'f_swire_irac1', 'ferr_servs_irac1',\n",
    "                                     'ferr_swire_irac1', 'm_servs_irac1', 'm_swire_irac1',\n",
    "                                     'merr_servs_irac1', 'merr_swire_irac1'])\n",
    "\n",
    "origin = np.full(len(masterlist_catalogue), '     ', dtype='<U5')\n",
    "origin[use_servs] = \"SERVS\"\n",
    "origin[use_swire] = \"SWIRE\"\n",
    "irac_origin.add_column(Column(data=origin, name=\"IRAC1_total\"))"
   ]
  },
  {
   "cell_type": "code",
   "execution_count": null,
   "metadata": {
    "collapsed": false
   },
   "outputs": [],
   "source": [
    "# IRAC2 aperture flux and magnitudes\n",
    "has_servs = ~np.isnan(masterlist_catalogue['f_app_servs_irac2'])\n",
    "has_swire = ~np.isnan(masterlist_catalogue['f_app_swire_irac2'])\n",
    "has_both = has_servs & has_swire\n",
    "\n",
    "print(\"{} sources with SERVS flux\".format(np.sum(has_servs)))\n",
    "print(\"{} sources with SWIRE flux\".format(np.sum(has_swire)))\n",
    "print(\"{} sources with SERVS and SWIRE flux\".format(np.sum(has_both)))\n",
    "\n",
    "has_servs_above_limit = has_servs.copy()\n",
    "has_servs_above_limit[has_servs] = masterlist_catalogue['f_app_servs_irac2'][has_servs] > 2000\n",
    "\n",
    "use_swire = (has_swire & ~has_servs) | (has_both & has_servs_above_limit)\n",
    "use_servs = (has_servs & ~(has_both & has_servs_above_limit))\n",
    "\n",
    "print(\"{} sources for which we use SERVS\".format(np.sum(use_servs)))\n",
    "print(\"{} sources for which we use SWIRE\".format(np.sum(use_swire)))\n",
    "\n",
    "f_app_irac = np.full(len(masterlist_catalogue), np.nan)\n",
    "f_app_irac[use_servs] = masterlist_catalogue['f_app_servs_irac2'][use_servs]\n",
    "f_app_irac[use_swire] = masterlist_catalogue['f_app_swire_irac2'][use_swire]\n",
    "\n",
    "ferr_app_irac = np.full(len(masterlist_catalogue), np.nan)\n",
    "ferr_app_irac[use_servs] = masterlist_catalogue['ferr_app_servs_irac2'][use_servs]\n",
    "ferr_app_irac[use_swire] = masterlist_catalogue['ferr_app_swire_irac2'][use_swire]\n",
    "\n",
    "m_app_irac = np.full(len(masterlist_catalogue), np.nan)\n",
    "m_app_irac[use_servs] = masterlist_catalogue['m_app_servs_irac2'][use_servs]\n",
    "m_app_irac[use_swire] = masterlist_catalogue['m_app_swire_irac2'][use_swire]\n",
    "\n",
    "merr_app_irac = np.full(len(masterlist_catalogue), np.nan)\n",
    "merr_app_irac[use_servs] = masterlist_catalogue['merr_app_servs_irac2'][use_servs]\n",
    "merr_app_irac[use_swire] = masterlist_catalogue['merr_app_swire_irac2'][use_swire]\n",
    "\n",
    "masterlist_catalogue.add_column(Column(data=f_app_irac, name=\"f_app_irac2\"))\n",
    "masterlist_catalogue.add_column(Column(data=ferr_app_irac, name=\"ferr_app_irac2\"))\n",
    "masterlist_catalogue.add_column(Column(data=m_app_irac, name=\"m_app_irac2\"))\n",
    "masterlist_catalogue.add_column(Column(data=merr_app_irac, name=\"merr_app_irac2\"))\n",
    "\n",
    "masterlist_catalogue.remove_columns(['f_app_servs_irac2', 'f_app_swire_irac2', 'ferr_app_servs_irac2',\n",
    "                                     'ferr_app_swire_irac2', 'm_app_servs_irac2', 'm_app_swire_irac2',\n",
    "                                     'merr_app_servs_irac2', 'merr_app_swire_irac2'])\n",
    "\n",
    "origin = np.full(len(masterlist_catalogue), '     ', dtype='<U5')\n",
    "origin[use_servs] = \"SERVS\"\n",
    "origin[use_swire] = \"SWIRE\"\n",
    "irac_origin.add_column(Column(data=origin, name=\"IRAC2_app\"))"
   ]
  },
  {
   "cell_type": "code",
   "execution_count": null,
   "metadata": {
    "collapsed": false
   },
   "outputs": [],
   "source": [
    "# IRAC2 total flux and magnitudes\n",
    "has_servs = ~np.isnan(masterlist_catalogue['f_servs_irac2'])\n",
    "has_swire = ~np.isnan(masterlist_catalogue['f_swire_irac2'])\n",
    "has_both = has_servs & has_swire\n",
    "\n",
    "print(\"{} sources with SERVS flux\".format(np.sum(has_servs)))\n",
    "print(\"{} sources with SWIRE flux\".format(np.sum(has_swire)))\n",
    "print(\"{} sources with SERVS and SWIRE flux\".format(np.sum(has_both)))\n",
    "\n",
    "has_servs_above_limit = has_servs.copy()\n",
    "has_servs_above_limit[has_servs] = masterlist_catalogue['f_servs_irac2'][has_servs] > 2000\n",
    "\n",
    "use_swire = (has_swire & ~has_servs) | (has_both & has_servs_above_limit)\n",
    "use_servs = (has_servs & ~(has_both & has_servs_above_limit))\n",
    "\n",
    "print(\"{} sources for which we use SERVS\".format(np.sum(use_servs)))\n",
    "print(\"{} sources for which we use SWIRE\".format(np.sum(use_swire)))\n",
    "\n",
    "f_app_irac = np.full(len(masterlist_catalogue), np.nan)\n",
    "f_app_irac[use_servs] = masterlist_catalogue['f_servs_irac2'][use_servs]\n",
    "f_app_irac[use_swire] = masterlist_catalogue['f_swire_irac2'][use_swire]\n",
    "\n",
    "ferr_app_irac = np.full(len(masterlist_catalogue), np.nan)\n",
    "ferr_app_irac[use_servs] = masterlist_catalogue['ferr_servs_irac2'][use_servs]\n",
    "ferr_app_irac[use_swire] = masterlist_catalogue['ferr_swire_irac2'][use_swire]\n",
    "\n",
    "m_app_irac = np.full(len(masterlist_catalogue), np.nan)\n",
    "m_app_irac[use_servs] = masterlist_catalogue['m_servs_irac2'][use_servs]\n",
    "m_app_irac[use_swire] = masterlist_catalogue['m_swire_irac2'][use_swire]\n",
    "\n",
    "merr_app_irac = np.full(len(masterlist_catalogue), np.nan)\n",
    "merr_app_irac[use_servs] = masterlist_catalogue['merr_servs_irac2'][use_servs]\n",
    "merr_app_irac[use_swire] = masterlist_catalogue['merr_swire_irac2'][use_swire]\n",
    "\n",
    "masterlist_catalogue.add_column(Column(data=f_app_irac, name=\"f_irac2\"))\n",
    "masterlist_catalogue.add_column(Column(data=ferr_app_irac, name=\"ferr_irac2\"))\n",
    "masterlist_catalogue.add_column(Column(data=m_app_irac, name=\"m_irac2\"))\n",
    "masterlist_catalogue.add_column(Column(data=merr_app_irac, name=\"merr_irac2\"))\n",
    "\n",
    "masterlist_catalogue.remove_columns(['f_servs_irac2', 'f_swire_irac2', 'ferr_servs_irac2',\n",
    "                                     'ferr_swire_irac2', 'm_servs_irac2', 'm_swire_irac2',\n",
    "                                     'merr_servs_irac2', 'merr_swire_irac2'])\n",
    "\n",
    "origin = np.full(len(masterlist_catalogue), '     ', dtype='<U5')\n",
    "origin[use_servs] = \"SERVS\"\n",
    "origin[use_swire] = \"SWIRE\"\n",
    "irac_origin.add_column(Column(data=origin, name=\"IRAC2_total\"))"
   ]
  },
  {
   "cell_type": "code",
   "execution_count": null,
   "metadata": {
    "collapsed": true
   },
   "outputs": [],
   "source": [
    "irac_origin.write(\"data/elais-n1_irac_fluxes_origins.fits\")"
   ]
  },
  {
   "cell_type": "markdown",
   "metadata": {},
   "source": [
    "\n",
    "## X.a Wavelenght domain coverage\n",
    "\n",
    "We add a binary `flag_optnir_obs` indicating that a source was observed in a given wavelenght domain:\n",
    "\n",
    "- 1 for observation in optical;\n",
    "- 2 for observation in near-infrared;\n",
    "- 4 for observation in mid-infrared (IRAC).\n",
    "\n",
    "It's an integer binary flag, so a source observed both in optical and near-infrared by not in mid-infrared would have this flag at 1 + 2 = 3.\n",
    "\n",
    "*Note 1: The observation flag is based on the creation of multi-order coverage maps from the catalogues, this may not be accurate, especially on the edges of the coverage.*\n",
    "\n",
    "*Note 2: Being on the observation coverage does not mean having fluxes in that wavelength domain. For sources observed in one domain but having no flux in it, one must take into consideration de different depths in the catalogue we are using.*"
   ]
  },
  {
   "cell_type": "code",
   "execution_count": null,
   "metadata": {
    "collapsed": true
   },
   "outputs": [],
   "source": [
    "was_observed_optical = utils.inMoc(\n",
    "    masterlist_catalogue['ra'], masterlist_catalogue['dec'],\n",
    "    wfc_moc + sparcs_moc) \n",
    "\n",
    "was_observed_nir = utils.inMoc(\n",
    "    masterlist_catalogue['ra'], masterlist_catalogue['dec'],\n",
    "    dxs_moc\n",
    ")\n",
    "\n",
    "was_observed_mir = utils.inMoc(\n",
    "    masterlist_catalogue['ra'], masterlist_catalogue['dec'],\n",
    "    servs_moc + swire_moc\n",
    ")"
   ]
  },
  {
   "cell_type": "code",
   "execution_count": null,
   "metadata": {
    "collapsed": true
   },
   "outputs": [],
   "source": [
    "masterlist_catalogue.add_column(\n",
    "    Column(\n",
    "        1 * was_observed_optical + 2 * was_observed_nir + 4 * was_observed_mir,\n",
    "        name=\"flag_optnir_obs\")\n",
    ")"
   ]
  },
  {
   "cell_type": "markdown",
   "metadata": {},
   "source": [
    "## X.b Wavelength domain detection\n",
    "\n",
    "We add a binary `flag_optnir_det` indicating that a source was detected in a given wavelenght domain:\n",
    "\n",
    "- 1 for detection in optical;\n",
    "- 2 for detection in near-infrared;\n",
    "- 4 for detection in mid-infrared (IRAC).\n",
    "\n",
    "It's an integer binary flag, so a source detected both in optical and near-infrared by not in mid-infrared would have this flag at 1 + 2 = 3.\n",
    "\n",
    "*Note 1: We use the total flux columns to know if the source has flux, in some catalogues, we may have aperture flux and no total flux.*\n",
    "\n",
    "To get rid of artefacts (chip edges, star flares, etc.) we consider that a source is detected in one wavelength domain when it has a flux value in **at least two bands**. That means that good sources will be excluded from this flag when they are on the coverage of only one band."
   ]
  },
  {
   "cell_type": "code",
   "execution_count": null,
   "metadata": {
    "collapsed": true
   },
   "outputs": [],
   "source": [
    "# SpARCS is a catalogue of sources detected in r (with fluxes measured at \n",
    "# this prior position in the other bands).  Thus, we are only using the r\n",
    "# CFHT band.\n",
    "nb_optical_flux = (\n",
    "    1 * ~np.isnan(masterlist_catalogue['f_wfc_u']) +\n",
    "    1 * ~np.isnan(masterlist_catalogue['f_wfc_g']) +\n",
    "    1 * ~np.isnan(masterlist_catalogue['f_wfc_r']) +\n",
    "    1 * ~np.isnan(masterlist_catalogue['f_wfc_i']) +\n",
    "    1 * ~np.isnan(masterlist_catalogue['f_wfc_z']) +\n",
    "    1 * ~np.isnan(masterlist_catalogue['f_cfht_megacam_r'])\n",
    ")\n",
    "\n",
    "nb_nir_flux = (\n",
    "    1 * ~np.isnan(masterlist_catalogue['f_ukidss_j']) +\n",
    "    1 * ~np.isnan(masterlist_catalogue['f_ukidss_h']) +\n",
    "    1 * ~np.isnan(masterlist_catalogue['f_ukidss_k'])\n",
    ")\n",
    "\n",
    "nb_mir_flux = (\n",
    "    1 * ~np.isnan(masterlist_catalogue['f_irac1']) +\n",
    "    1 * ~np.isnan(masterlist_catalogue['f_irac2']) +\n",
    "    1 * ~np.isnan(masterlist_catalogue['f_irac3']) +\n",
    "    1 * ~np.isnan(masterlist_catalogue['f_irac4'])\n",
    ")"
   ]
  },
  {
   "cell_type": "code",
   "execution_count": null,
   "metadata": {
    "collapsed": true
   },
   "outputs": [],
   "source": [
    "has_optical_flux = nb_optical_flux >= 2\n",
    "has_nir_flux = nb_nir_flux >= 2\n",
    "has_mir_flux = nb_mir_flux >= 2\n",
    "\n",
    "masterlist_catalogue.add_column(\n",
    "    Column(\n",
    "        1 * has_optical_flux + 2 * has_nir_flux + 4 * has_mir_flux,\n",
    "        name=\"flag_optnir_det\")\n",
    ")"
   ]
  },
  {
   "cell_type": "markdown",
   "metadata": {},
   "source": [
    "## X.c Summary of wavelength domains"
   ]
  },
  {
   "cell_type": "code",
   "execution_count": null,
   "metadata": {
    "collapsed": true
   },
   "outputs": [],
   "source": [
    "flag_obs = masterlist_catalogue['flag_optnir_obs']\n",
    "flag_det = masterlist_catalogue['flag_optnir_det']"
   ]
  },
  {
   "cell_type": "code",
   "execution_count": null,
   "metadata": {
    "collapsed": false
   },
   "outputs": [],
   "source": [
    "venn3(\n",
    "    [\n",
    "        np.sum(flag_obs == 4),\n",
    "        np.sum(flag_obs == 2),\n",
    "        np.sum(flag_obs == 6),\n",
    "        np.sum(flag_obs == 1),\n",
    "        np.sum(flag_obs == 5),\n",
    "        np.sum(flag_obs == 3),\n",
    "        np.sum(flag_obs == 7)\n",
    "    ],\n",
    "    set_labels=('Optical', 'near-IR', 'mid-IR'),\n",
    "    subset_label_formatter=lambda x: \"{}%\".format(int(100*x/len(flag_obs)))\n",
    ")\n",
    "plt.title(\"Wavelength domain observations\")"
   ]
  },
  {
   "cell_type": "code",
   "execution_count": null,
   "metadata": {
    "collapsed": false
   },
   "outputs": [],
   "source": [
    "venn3(\n",
    "    [\n",
    "        np.sum(flag_det[flag_obs == 7] == 4),\n",
    "        np.sum(flag_det[flag_obs == 7] == 2),\n",
    "        np.sum(flag_det[flag_obs == 7] == 6),\n",
    "        np.sum(flag_det[flag_obs == 7] == 1),\n",
    "        np.sum(flag_det[flag_obs == 7] == 5),\n",
    "        np.sum(flag_det[flag_obs == 7] == 3),\n",
    "        np.sum(flag_det[flag_obs == 7] == 7)\n",
    "    ],\n",
    "    set_labels=('mid-IR', 'near-IR', 'Optical'),\n",
    "    subset_label_formatter=lambda x: \"{}%\".format(int(100*x/np.sum(flag_det != 0)))\n",
    ")\n",
    "plt.title(\"Detection of the {} sources detected\\n in any wavelength domains \"\n",
    "          \"(among {} sources)\".format(\n",
    "              locale.format('%d', np.sum(flag_det != 0), grouping=True),\n",
    "              locale.format('%d', len(flag_det), grouping=True)))"
   ]
  },
  {
   "cell_type": "markdown",
   "metadata": {},
   "source": [
    "## XI - Cross-identification table\n",
    "\n",
    "We are producing a table associating to each HELP identifier, the identifiers of the sources in the pristine catalogue. This can be used to easily get additional information from them."
   ]
  },
  {
   "cell_type": "code",
   "execution_count": null,
   "metadata": {
    "collapsed": true
   },
   "outputs": [],
   "source": [
    "cross_ident_table = masterlist_catalogue[\n",
    "    'help_id', 'wfc_id', 'dxs_id', 'servs_intid', 'swire_intid', 'sparcs_intid']\n",
    "cross_ident_table.write(\"data/master_list_cross_ident_elais-n1.fits\")"
   ]
  },
  {
   "cell_type": "markdown",
   "metadata": {},
   "source": [
    "## XII - Cleaning and saving the master catalogue"
   ]
  },
  {
   "cell_type": "code",
   "execution_count": null,
   "metadata": {
    "collapsed": true
   },
   "outputs": [],
   "source": [
    "masterlist_catalogue.remove_columns([\n",
    "    'wfc_id', 'dxs_id', 'servs_intid', 'swire_intid', 'sparcs_intid'])"
   ]
  },
  {
   "cell_type": "code",
   "execution_count": null,
   "metadata": {
    "collapsed": true
   },
   "outputs": [],
   "source": [
    "# We may want to reorder the column even if this will be done at the ingestion in HeDaM."
   ]
  },
  {
   "cell_type": "code",
   "execution_count": null,
   "metadata": {
    "collapsed": true
   },
   "outputs": [],
   "source": [
    "masterlist_catalogue.write(\"data/master_catalogue_elais-n1.fits\")"
   ]
  }
 ],
 "metadata": {
  "anaconda-cloud": {},
  "kernelspec": {
   "display_name": "Python (herschelhelp_internal)",
   "language": "python",
   "name": "helpint"
  },
  "language_info": {
   "codemirror_mode": {
    "name": "ipython",
    "version": 3
   },
   "file_extension": ".py",
   "mimetype": "text/x-python",
   "name": "python",
   "nbconvert_exporter": "python",
   "pygments_lexer": "ipython3",
   "version": "3.6.1"
  }
 },
 "nbformat": 4,
 "nbformat_minor": 1
}
