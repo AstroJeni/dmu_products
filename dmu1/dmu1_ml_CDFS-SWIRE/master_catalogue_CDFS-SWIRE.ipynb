{
 "cells": [
  {
   "cell_type": "markdown",
   "metadata": {},
   "source": [
    "# HELP - CDFS-SWIRE Master List Creation\n",
    "\n",
    "This notebook presents the creation of the HELP master catalogue on the CDFS-SWIRE field. The following table summarises the list of used catalogues.\n",
    "\n",
    "| Survey    | Telescope / Instrument      |      Filters (detection band in bold)      | Location                    |\n",
    "|-----------|-----------------------------|:------------------------------------------:|-----------------------------|\n",
    "| VIDEO     | VISTA/VIRCAM                | **u**,**g**,**r**,**i**,**z** |dmu0_VISTA-VIDEO, dmu0_VISTA-VIDEO-private|\n",
    "| SWIRE     | Spitzer / IRAC              | **IRAC1**,**IRAC2**,**IRAC3**,**IRAC4**    | dmu0_DataFusion-Spitzer     |\n",
    "| SERVS     | Spitzer / IRAC              | **IRAC1**, **IRAC2**                       | dmu0_DataFusion-Spitzer     |\n",
    "| PS1 3PSS  | Pan-STARRS1 / Pan-STARRS1   | grizy                                      | dmu0_PanSTARRS1-3SS         |\n",
    "| PS1 MDS\t| Pan-STARRS1 / Pan-STARRS1   |\tgrizy                                      | ...awaiting release         |\n",
    "| VOICE\t    | VST/OmegaCAM\t              | u,g,r,i                                    | ...waiting for Mattia       |\n",
    "| CTIO/CDFS | CTIO/MOSAIC\t              | g,r,i                                      | ...waiting for Mattia       |\n",
    "| DES-DEEP\t| Blanco/DECAM\t              | grizy                                      | ...awaiting release         |\n",
    "| Fireworks\t| HST\tACS\t                  | U38, B435, B, V, V606, R, i775, I, z850, J, H, **Ks**, IRAC1, IRAC2, IRAC3, IRAC4   | dmu0_Fireworks              |\n",
    "| COMBO-17\t| ESO/MPG \t/WFI\t          |                                            | dmu0_COMBO-17               |\n",
    "| GOODS\t    | Spitzer\t\t              |                                            | ...unknown status           |\n"
   ]
  },
  {
   "cell_type": "code",
   "execution_count": null,
   "metadata": {
    "collapsed": false
   },
   "outputs": [],
   "source": [
    "from herschelhelp_internal import git_version\n",
    "print(\"This notebook was run with herschelhelp_internal version: \\n{}\".format(git_version()))"
   ]
  },
  {
   "cell_type": "code",
   "execution_count": 5,
   "metadata": {
    "collapsed": false
   },
   "outputs": [],
   "source": [
    "%matplotlib inline\n",
    "#%config InlineBackend.figure_format = 'svg'\n",
    "\n",
    "import matplotlib.pyplot as plt\n",
    "plt.rc('figure', figsize=(10, 6))\n",
    "\n",
    "from astropy.table import Column, Table\n",
    "from astropy import units as u\n",
    "from astropy.coordinates import SkyCoord\n",
    "import matplotlib as mpl\n",
    "import numpy as np\n",
    "import seaborn as sns\n",
    "from pymoc import MOC\n",
    "from matplotlib_venn import venn3\n",
    "\n",
    "from herschelhelp_internal import flagging, utils, masterlist, starmask"
   ]
  },
  {
   "cell_type": "code",
   "execution_count": null,
   "metadata": {
    "collapsed": false
   },
   "outputs": [],
   "source": [
    "import locale\n",
    "locale.setlocale(locale.LC_ALL, 'en_GB')"
   ]
  },
  {
   "cell_type": "code",
   "execution_count": null,
   "metadata": {
    "collapsed": true
   },
   "outputs": [],
   "source": [
    "import logging\n",
    "logger = logging.getLogger()\n",
    "logger.setLevel(logging.INFO)"
   ]
  },
  {
   "cell_type": "markdown",
   "metadata": {},
   "source": [
    "## I - Pristine catalogues preparation\n",
    "\n",
    "### I.a -VIDEO/VISTA/VIRCAM\n",
    "\n",
    "The catalogue comes from `dmu0_VISTA_VIDEO-private`.\n",
    "\n",
    "There is an old public version of the catalogue but we are using the newer private version in the hope that it will be public by the time we publish the masterlist.\n",
    "\n",
    "Filters: Z,Y,J,H,K \n",
    "\n",
    "In the catalogue, we keep:\n",
    "\n",
    "- The identifier (it's unique in the catalogue);\n",
    "- The position (degrees);\n",
    "- The stellarity;\n",
    "- The magnitude for each band in apertude 3, which is 2 arcsec (rs548 presumes same for private catalogue).\n",
    "- The “auto” magnitude is provided, we presume this is standard Sextractor units etc.\n",
    "\n",
    "Yannick said the dates of observation for VIDEO are from 2009/11 to 2016/12. There is a paper from 2012 (Jarvis et al). So will use 2012."
   ]
  },
  {
   "cell_type": "code",
   "execution_count": null,
   "metadata": {
    "collapsed": true
   },
   "outputs": [],
   "source": [
    "#Both flux and mag available in pristine catalogues\n",
    "#I think these are still 2 arcsec aperture phtometriers and need to be replaceed with 3 arcsec.\n",
    "#There is a PSTAR for each band and they vary quite a bit. I took the J band because it is in the middle\n",
    "video = Table.read(\"../../dmu0/dmu0_VISTA-VIDEO-private/data/VIDEO-all_2016-04-14_fullcat_errfix_CDFS-SWIRE.fits\")[\n",
    "    'ID', 'ALPHA_J2000', 'DELTA_J2000', 'J_CLASS_STAR',     \n",
    "    'Z_MAG_APER_3', 'Z_MAGERR_APER_3', 'Z_MAG_AUTO', 'Z_MAGERR_AUTO',\n",
    "    'Z_FLUX_APER_3', 'Z_FLUXERR_APER_3', 'Z_FLUX_AUTO', 'Z_FLUXERR_AUTO',\n",
    "    'Y_MAG_APER_3', 'Y_MAGERR_APER_3', 'Y_MAG_AUTO', 'Y_MAGERR_AUTO',\n",
    "    'Y_FLUX_APER_3', 'Y_FLUXERR_APER_3', 'Y_FLUX_AUTO', 'Y_FLUXERR_AUTO',\n",
    "    'J_MAG_APER_3', 'J_MAGERR_APER_3', 'J_MAG_AUTO', 'J_MAGERR_AUTO',\n",
    "    'J_FLUX_APER_3', 'J_FLUXERR_APER_3', 'J_FLUX_AUTO', 'J_FLUXERR_AUTO',\n",
    "    'H_MAG_APER_3', 'H_MAGERR_APER_3', 'H_MAG_AUTO', 'H_MAGERR_AUTO',\n",
    "    'H_FLUX_APER_3', 'H_FLUXERR_APER_3', 'H_FLUX_AUTO', 'H_FLUXERR_AUTO',\n",
    "    'K_MAG_APER_3', 'K_MAGERR_APER_3', 'K_MAG_AUTO', 'K_MAGERR_AUTO',\n",
    "    'K_FLUX_APER_3', 'K_FLUXERR_APER_3', 'K_FLUX_AUTO', 'K_FLUXERR_AUTO']\n",
    "video = Table(video.as_array(), names=[\n",
    "    'video_id', 'video_ra', 'video_dec', 'video_stellarity',\n",
    "    'm_app_video_z', 'merr_app_video_z', 'm_video_z', 'merr_video_z',\n",
    "    'f_app_video_z', 'ferr_app_video_z', 'f_video_z', 'ferr_video_z',\n",
    "    'm_app_video_y', 'merr_app_video_y', 'm_video_y', 'merr_video_y',\n",
    "    'f_app_video_y', 'ferr_app_video_y', 'f_video_y', 'ferr_video_y',\n",
    "    'm_app_video_j', 'merr_app_video_j', 'm_video_j', 'merr_video_j',\n",
    "    'f_app_video_j', 'ferr_app_video_j', 'f_video_j', 'ferr_video_j',\n",
    "    'm_app_video_h', 'merr_app_video_h', 'm_video_h', 'merr_video_h',\n",
    "    'f_app_video_h', 'ferr_app_video_h', 'f_video_h', 'ferr_video_h',\n",
    "    'm_app_video_k', 'merr_app_video_k', 'm_video_k', 'merr_video_k',\n",
    "    'f_app_video_k', 'ferr_app_video_k', 'f_video_k', 'ferr_video_k',\n",
    "])\n",
    "\n",
    "video_epoch = 2012\n",
    "#MOC made using stilts: stilts pixfoot in=VIDEO-all_2016-04-14_fullcat_errfix_ELAIS-S1.fits\n",
    "#out=VIDEO-all_2016-04-14_fullcat_errfix_ELAIS-S1_MOC.fits ra=ALPHA_J2000 dec=DELTA_J2000 order=13\n",
    "video_moc = MOC(filename=\"../../dmu0/dmu0_VISTA-VIDEO-private/data/VIDEO-all_2016-04-14_fullcat_errfix_CDFS-SWIRE_MOC.fits\")\n",
    "\n",
    "# Adding band-flag columns\n",
    "for col in video.colnames:\n",
    "    if col.startswith('m_'):\n",
    "        \n",
    "        #errcol = \"merr{}\".format(col[1:])\n",
    "        #flux, error = utils.mag_to_flux(np.array(video[col]), np.array(video[errcol]))\n",
    "\n",
    "        # Fluxes are added in µJy\n",
    "        #video.add_column(Column(flux * 1.e6, name=\"f{}\".format(col[1:])))\n",
    "        #video.add_column(Column(error * 1.e6, name=\"f{}\".format(errcol[1:])))\n",
    "        \n",
    "        # Band-flag column\n",
    "        video.add_column(Column(np.zeros(len(video), dtype=bool), name=\"flag{}\".format(col[1:])))\n",
    "        \n",
    "# TODO: Set to True the flag columns for fluxes that should not be used for SED fitting."
   ]
  },
  {
   "cell_type": "code",
   "execution_count": null,
   "metadata": {
    "collapsed": false
   },
   "outputs": [],
   "source": [
    "video[:10].show_in_notebook()"
   ]
  },
  {
   "cell_type": "markdown",
   "metadata": {},
   "source": [
    "### I.b - Spitzer datafusion SERVS\n",
    "\n",
    "The Spitzer catalogues were produced by the datafusion team are available in the HELP virtual observatory server. They are described there: http://vohedamtest.lam.fr/browse/df_spitzer/q.\n",
    "\n",
    "Lucia told that the magnitudes are aperture corrected.\n",
    "\n",
    "In the catalouge, we keep:\n",
    "\n",
    "- The internal identifier (this one is only in HeDaM data);\n",
    "- The position;\n",
    "- The fluxes in aperture 2 (1.9 arcsec);\n",
    "- The “auto” flux (which seems to be the Kron flux);\n",
    "- The stellarity in each band\n",
    "\n",
    "A query of the position in the Spitzer heritage archive show that the SERVS-ELAIS-N1 images were observed in 2009. Let's take this as epoch."
   ]
  },
  {
   "cell_type": "code",
   "execution_count": null,
   "metadata": {
    "collapsed": false
   },
   "outputs": [],
   "source": [
    "servs = Table.read(\"../../dmu0/dmu0_DataFusion-Spitzer/data/DF-CDFS-SWIRE.fits\")[\n",
    "    'internal_id', 'ra_12', 'dec_12',   \n",
    "    'flux_aper_2_1', 'fluxerr_aper_2_1', 'flux_auto_1', 'fluxerr_auto_1', 'class_star_1',\n",
    "    'flux_aper_2_2', 'fluxerr_aper_2_2', 'flux_auto_2', 'fluxerr_auto_2', 'class_star_2']\n",
    "\n",
    "servs = Table(servs.as_array(), names=[\n",
    "    'servs_intid', 'servs_ra', 'servs_dec',\n",
    "    'f_app_servs_irac1', 'ferr_app_servs_irac1', 'f_servs_irac1', 'ferr_servs_irac1', 'servs_stellarity_irac1',\n",
    "    'f_app_servs_irac2', 'ferr_app_servs_irac2', 'f_servs_irac2', 'ferr_servs_irac2', 'servs_stellarity_irac2'\n",
    "])\n",
    "servs_epoch = 2009\n",
    "servs_moc = MOC(filename=\"../../dmu0/dmu0_DataFusion-Spitzer/data/DF-CDFS-SWIRE_MOC.fits\")\n",
    "\n",
    "# Adding magnitude and band-flag columns\n",
    "for col in servs.colnames:\n",
    "    if col.startswith('f_'):\n",
    "        errcol = \"ferr{}\".format(col[1:])\n",
    "        \n",
    "        magnitude, error = utils.flux_to_mag(\n",
    "            np.array(servs[col])/1.e6, np.array(servs[errcol])/1.e6)\n",
    "        # Note that some fluxes are 0.\n",
    "        \n",
    "        servs.add_column(Column(magnitude, name=\"m{}\".format(col[1:])))\n",
    "        servs.add_column(Column(error, name=\"m{}\".format(errcol[1:])))\n",
    "        \n",
    "        # Band-flag column\n",
    "        servs.add_column(Column(np.zeros(len(servs), dtype=bool), name=\"flag{}\".format(col[1:])))\n",
    "        \n",
    "# TODO: Set to True the flag columns for fluxes that should not be used for SED fitting."
   ]
  },
  {
   "cell_type": "code",
   "execution_count": null,
   "metadata": {
    "collapsed": false
   },
   "outputs": [],
   "source": [
    "servs[:10].show_in_notebook()"
   ]
  },
  {
   "cell_type": "markdown",
   "metadata": {},
   "source": [
    "### I.c - Spitzer datafusion SWIRE\n",
    "\n",
    "The Spitzer catalogues were produced by the datafusion team are available in the HELP virtual observatory server. They are described there: http://vohedamtest.lam.fr/browse/df_spitzer/q.\n",
    "\n",
    "Lucia told that the magnitudes are aperture corrected.\n",
    "\n",
    "In the catalouge, we keep:\n",
    "\n",
    "We keep:\n",
    "- The internal identifier (this one is only in HeDaM data);\n",
    "- The position;\n",
    "- The fluxes in aperture 2 (1.9 arcsec) for IRAC bands.\n",
    "- The Kron flux;\n",
    "- The stellarity in each band\n",
    "\n",
    "A query of the position in the Spitzer heritage archive show that the ELAIS-N1 images were observed in 2004. Let's take this as epoch.\n",
    "\n",
    "We do not use the MIPS fluxes as they will be extracted on MIPS maps using XID+."
   ]
  },
  {
   "cell_type": "code",
   "execution_count": null,
   "metadata": {
    "collapsed": false
   },
   "outputs": [],
   "source": [
    "swire = Table.read(\"../../dmu0/dmu0_DataFusion-Spitzer/data/DF-SWIRE_CDFS-SWIRE.fits\")[\n",
    "    'internal_id', 'ra_spitzer', 'dec_spitzer',      \n",
    "    'flux_ap2_36', 'uncf_ap2_36', 'flux_kr_36', 'uncf_kr_36', 'stell_36',\n",
    "    'flux_ap2_45', 'uncf_ap2_45', 'flux_kr_45', 'uncf_kr_45', 'stell_45',\n",
    "    'flux_ap2_58', 'uncf_ap2_58', 'flux_kr_58', 'uncf_kr_58', 'stell_58',\n",
    "    'flux_ap2_80', 'uncf_ap2_80', 'flux_kr_80', 'uncf_kr_80', 'stell_80']\n",
    "\n",
    "swire = Table(swire.as_array(), names=[\n",
    "    'swire_intid', 'swire_ra', 'swire_dec',\n",
    "    'f_app_swire_irac1', 'ferr_app_swire_irac1', 'f_swire_irac1', 'ferr_swire_irac1', 'swire_stellarity_irac1',\n",
    "    'f_app_swire_irac2', 'ferr_app_swire_irac2', 'f_swire_irac2', 'ferr_swire_irac2', 'swire_stellarity_irac2',\n",
    "    'f_app_irac3', 'ferr_app_irac3', 'f_irac3', 'ferr_irac3', 'swire_stellarity_irac3',\n",
    "    'f_app_irac4', 'ferr_app_irac4', 'f_irac4', 'ferr_irac4', 'swire_stellarity_irac4'\n",
    "])\n",
    "swire_epoch = 2004\n",
    "swire_moc = MOC(filename=\"../../dmu0/dmu0_DataFusion-Spitzer/data/DF-SWIRE_CDFS-SWIRE_MOC.fits\")\n",
    "        \n",
    "# Adding magnitude and band-flag columns\n",
    "for col in swire.colnames:\n",
    "    if col.startswith('f_'):\n",
    "        errcol = \"ferr{}\".format(col[1:])\n",
    "        \n",
    "        magnitude, error = utils.flux_to_mag(\n",
    "            np.array(swire[col])/1.e6, np.array(swire[errcol])/1.e6)\n",
    "        # Note that some fluxes are 0.\n",
    "        \n",
    "        swire.add_column(Column(magnitude, name=\"m{}\".format(col[1:])))\n",
    "        swire.add_column(Column(error, name=\"m{}\".format(errcol[1:])))\n",
    "        \n",
    "        # Band-flag column\n",
    "        swire.add_column(Column(\n",
    "                np.zeros(len(swire), dtype=bool), name=\"flag{}\".format(col[1:])))\n",
    "        \n",
    "# TODO: Set to True the flag columns for fluxes that should not be used for SED fitting."
   ]
  },
  {
   "cell_type": "code",
   "execution_count": null,
   "metadata": {
    "collapsed": false
   },
   "outputs": [],
   "source": [
    "swire[:10].show_in_notebook()"
   ]
  },
  {
   "cell_type": "markdown",
   "metadata": {},
   "source": [
    "### I.d -  PS1 3PSS  \n",
    "\n",
    "This catalogue comes from `dmu0_SpARCS`. Alexandru Tudorica confirmed that the magnitudes are AB ones and are not aperture corrected.\n",
    "\n",
    "In the catalogue, we keep:\n",
    "\n",
    "- The internal identifier (this one is only in HeDaM data);\n",
    "- The position;\n",
    "- The ugrz magnitudes in the 8th aperture (11×0.186=2.046 arcsec).\n",
    "- The \"auto\" magnitudes.\n",
    "\n",
    "Note that there are y band columns because we combined all the SpARCS data in HeDaM, but there is no y data for the ELAIS-N1 sources.\n",
    "\n",
    "The maps on the web page indicate they were observed in 2012 (or late 2011). Let's use 2012 as epoch.\n",
    "\n",
    "There is a second notebook `sparcs_aperture_correction.ipynb` detailing how we choose some values for the aperture correction."
   ]
  },
  {
   "cell_type": "code",
   "execution_count": null,
   "metadata": {
    "collapsed": false
   },
   "outputs": [],
   "source": [
    "#Use r band radec because readme states that is only band with radec for every source\n",
    "#Can not find stallarity - perhaps this is a flag id?\n",
    "panstarrs = Table.read(\"../../dmu0/dmu0_PanSTARRS1-3SS/data/PanSTARRS1-3SS_CDFS-SWIRE.fits\")[\n",
    "    'uniquePspsSTid', 'rra', 'rdec',   \n",
    "    'gApMag', 'gApMagErr', 'gKronMag', 'gKronMagErr', \n",
    "    'rApMag', 'rApMagErr', 'rKronMag', 'rKronMagErr',\n",
    "    'iApMag', 'iApMagErr', 'iKronMag', 'iKronMagErr',\n",
    "    'zApMag', 'zApMagErr', 'zKronMag', 'zKronMagErr',\n",
    "    'yApMag', 'yApMagErr', 'yKronMag', 'yKronMagErr']\n",
    "\n",
    "panstarrs = Table(panstarrs.as_array(), names=[\n",
    "    'panstarrs_intid', 'panstarrs_ra', 'panstarrs_dec',\n",
    "    'm_app_panstarrs_g', 'merr_app_panstarrs_g', 'm_panstarrs_g', 'merr_panstarrs_g', \n",
    "    'm_app_panstarrs_r', 'merr_app_panstarrs_r', 'm_panstarrs_r', 'merr_panstarrs_r', \n",
    "    'm_app_panstarrs_i', 'merr_app_panstarrs_i', 'm_panstarrs_i', 'merr_panstarrs_i', \n",
    "    'm_app_panstarrs_z', 'merr_app_panstarrs_z', 'm_panstarrs_z', 'merr_panstarrs_z', \n",
    "    'm_app_panstarrs_y', 'merr_app_panstarrs_y', 'm_panstarrs_y', 'merr_panstarrs_y'\n",
    "])\n",
    "panstarrs_epoch = 2009 #table says e.g. 55962.33945\n",
    "panstarrs_moc = MOC(filename=\"../../dmu0/dmu0_PanSTARRS1-3SS/data/PanSTARRS1-3SS_CDFS-SWIRE_MOC.fits\")\n",
    "\n",
    "# Replace values with -999. with NaN\n",
    "#panstarrs[panstarrs == -999.] = np.nan #fancy numpy doesn't work\n",
    "for col in panstarrs.colnames:\n",
    "    if col.startswith('m'): # | col.endswith('ra') | col.endswith('dec'):\n",
    "        panstarrs[col][np.where(panstarrs[col] == -999.)] = np.nan\n",
    "\n",
    "# Adding flux and band-flag columns\n",
    "for col in panstarrs.colnames:\n",
    "    if col.startswith('m_'):\n",
    "        \n",
    "        errcol = \"merr{}\".format(col[1:])\n",
    "        flux, error = utils.mag_to_flux(np.array(panstarrs[col]), np.array(panstarrs[errcol]))\n",
    "\n",
    "        # Fluxes are added in µJy\n",
    "        panstarrs.add_column(Column(flux * 1.e6, name=\"f{}\".format(col[1:])))\n",
    "        panstarrs.add_column(Column(error * 1.e6, name=\"f{}\".format(errcol[1:])))\n",
    "        \n",
    "        # Band-flag column\n",
    "        panstarrs.add_column(Column(np.zeros(len(panstarrs), dtype=bool), name=\"flag{}\".format(col[1:])))\n",
    "        "
   ]
  },
  {
   "cell_type": "code",
   "execution_count": null,
   "metadata": {
    "collapsed": false
   },
   "outputs": [],
   "source": [
    "panstarrs[:10].show_in_notebook()"
   ]
  },
  {
   "cell_type": "markdown",
   "metadata": {},
   "source": [
    "### 1.e - Fireworks "
   ]
  },
  {
   "cell_type": "code",
   "execution_count": null,
   "metadata": {
    "collapsed": true
   },
   "outputs": [],
   "source": [
    "#Based on PanSTARRS\n",
    "fireworks = Table.read(\"../../dmu0/dmu0_Fireworks/data/fireworks.fits\")[\n",
    "    'seq', 'RAJ2000', 'DEJ2000',   \n",
    "    'FU38', 'e_FU38', \n",
    "    'FB435', 'e_FB435', \n",
    "    'FB', 'e_FB',\n",
    "    'FV', 'e_FV',\n",
    "    'FV606', 'e_FV606',\n",
    "    'FRc', 'e_FRc',\n",
    "    'Fi775', 'e_Fi775',\n",
    "    'FI', 'e_FI',\n",
    "    'Fz850', 'e_Fz850',\n",
    "    'FJ', 'e_FJ',\n",
    "    'FH', 'e_FH',\n",
    "    'FKs', 'e_FKs',\n",
    "    'F3.6', 'e_F3.6',\n",
    "    'F4.5', 'e_F4.5',\n",
    "    'F5.8', 'e_F5.8',\n",
    "    'F8.0', 'e_F8.0',\n",
    "    'FKs.t', 'e_FKs.t',\n",
    "    'F24.t', 'e_F24.t'\n",
    "    ]\n",
    "\n",
    "#Are these aperture magnitudes - in the readme only Ks band fluxes have an associated apperture\n",
    "fireworks = Table(fireworks.as_array(), names=[\n",
    "    'fireworks_intid', 'fireworks_ra', 'fireworks_dec',\n",
    "    'm_fireworks_FU38',  'merr_fireworks_FU38', \n",
    "    'm_fireworks_FB435', 'merr_fireworks_FB435', \n",
    "    'm_fireworks_FB',    'merr_fireworks_FB',\n",
    "    'm_fireworks_FV',    'merr_fireworks_FV',\n",
    "    'm_fireworks_FV606', 'merr_fireworks_FV606',\n",
    "    'm_fireworks_FRc',   'merr_fireworks_FRc',\n",
    "    'm_fireworks_Fi775', 'merr_fireworks_Fi775',\n",
    "    'm_fireworks_FI',    'merr_fireworks_FI',\n",
    "    'm_fireworks_Fz850', 'merr_fireworks_Fz850',\n",
    "    'm_fireworks_FJ',    'merr_fireworks_FJ',\n",
    "    'm_fireworks_FH',    'merr_fireworks_FH',\n",
    "    'm_fireworks_FKs',   'merr_fireworks_FKs',\n",
    "    'm_fireworks_F3.6',  'merr_fireworks_F3.6',\n",
    "    'm_fireworks_F4.5',  'merr_fireworks_F4.5',\n",
    "    'm_fireworks_F5.8',  'merr_fireworks_F5.8',\n",
    "    'm_fireworks_F8.0',  'merr_fireworks_F8.0',\n",
    "    'm_fireworks_FKs.t', 'merr_fireworks_FKs.t',\n",
    "    'm_fireworks_F24.t', 'merr_fireworks_F24.t'\n",
    "])\n",
    "fireworks_epoch = 2008 #Paper is from 2008 - Input surveys will have individual epochs\n",
    "fireworks_moc = MOC(filename=\"../../dmu0/dmu0_Fireworks/data/fireworks_MOC.fits\")\n",
    "\n",
    "#Add flux and aperture magnitudes"
   ]
  },
  {
   "cell_type": "code",
   "execution_count": null,
   "metadata": {
    "collapsed": true
   },
   "outputs": [],
   "source": [
    "fireworks[:10].show_in_notebook()"
   ]
  },
  {
   "cell_type": "markdown",
   "metadata": {},
   "source": [
    "### 1.f - COMBO-17"
   ]
  },
  {
   "cell_type": "code",
   "execution_count": null,
   "metadata": {
    "collapsed": true
   },
   "outputs": [],
   "source": [
    "#Based on PanSTARRS\n",
    "combo = Table.read(\"../../dmu0/dmu0_COMBO-17/data/table3.fits\")[\n",
    "    'seq', 'ra', 'dec',  'stellarity',\n",
    "    'Rmag',    'e_Rmag',  \n",
    "    'UjMag',   'e_UjMag', \n",
    "    'BjMag',   'e_BjMag',\n",
    "    'VjMag',   'e_VjMag',\n",
    "    'usMag',   'e_usMag',\n",
    "    'gsMag',   'e_gsMag',\n",
    "    'rsMag',   'e_rsMag',\n",
    "    'UbMag',   'e_UbMag',\n",
    "    'BbMag',   'e_BbMag',\n",
    "    'VbMag',   'e_VbMag',\n",
    "    'S280Mag', 'e_S280Mag',\n",
    "    'S145Mag', 'e_S145Mag'\n",
    "]\n",
    "\n",
    "combo = Table(fireworks.as_array(), names=[\n",
    "    'combo_intid', 'combo_ra', 'combo_dec',\n",
    "    'm_fireworks_R',    'e_Rmag',  \n",
    "    'm_fireworks_Uj',   'e_Uj', \n",
    "    'm_fireworks_Bj',   'e_Bj',\n",
    "    'm_fireworks_Vj',   'e_Vj',\n",
    "    'm_fireworks_us',   'e_us',\n",
    "    'm_fireworks_gs',   'e_gs',\n",
    "    'm_fireworks_rs',   'e_rs',\n",
    "    'm_fireworks_Ub',   'e_Ub',\n",
    "    'm_fireworks_Bb',   'e_Bb',\n",
    "    'm_fireworks_Vb',   'e_Vb',\n",
    "    'm_fireworks_S280', 'e_S280',\n",
    "    'm_fireworks_S145', 'e_S145'\n",
    "])\n",
    "combo_epoch = 2009 #table says e.g. 55962.33945\n",
    "combo_moc = MOC(filename=\"../../dmu0/dmu0_COMBO-17/data/table3_MOC.fits\")"
   ]
  },
  {
   "cell_type": "code",
   "execution_count": null,
   "metadata": {
    "collapsed": true
   },
   "outputs": [],
   "source": [
    "combo[:10].show_in_notebook()"
   ]
  },
  {
   "cell_type": "markdown",
   "metadata": {},
   "source": [
    "## II - Removal of duplicated sources"
   ]
  },
  {
   "cell_type": "markdown",
   "metadata": {},
   "source": [
    "We remove duplicated objects from the input catalogues."
   ]
  },
  {
   "cell_type": "code",
   "execution_count": null,
   "metadata": {
    "collapsed": false
   },
   "outputs": [],
   "source": [
    "nb_video_orig = len(video)\n",
    "video = masterlist.remove_duplicates(\n",
    "    video, 'video_ra', 'video_dec', \n",
    "    sort_col=['merr_app_video_r', 'merr_app_video_u', 'merr_app_video_g', 'merr_app_video_z'],\n",
    "    flag_name='video_flag_cleaned')\n",
    "nb_wfc = len(wfc)\n",
    "print(\"VIDEO initial catalogue as {} sources.\".format(nb_video_orig))\n",
    "print(\"VIDEO cleaned catalogue as {} sources ({} removed).\".format(nb_video, nb_video_orig - nb_video))\n",
    "print(\"VIDEO has {} sources flagged as having been cleaned\".format(np.sum(video['video_flag_cleaned'])))"
   ]
  },
  {
   "cell_type": "code",
   "execution_count": null,
   "metadata": {
    "collapsed": false
   },
   "outputs": [],
   "source": [
    "nb_servs_orig = len(servs)\n",
    "servs = masterlist.remove_duplicates(\n",
    "    servs, 'servs_ra', 'servs_dec', \n",
    "    sort_col=['ferr_app_servs_irac1', 'ferr_app_servs_irac2'],\n",
    "    flag_name='servs_flag_cleaned')\n",
    "nb_servs = len(servs)\n",
    "print(\"SERVS initial catalogue as {} sources.\".format(nb_servs_orig))\n",
    "print(\"SERVS cleaned catalogue as {} sources ({} removed).\".format(nb_servs, nb_servs_orig - nb_servs))\n",
    "print(\"SERVS has {} sources flagged as having been cleaned\".format(np.sum(servs['servs_flag_cleaned'])))"
   ]
  },
  {
   "cell_type": "code",
   "execution_count": null,
   "metadata": {
    "collapsed": false
   },
   "outputs": [],
   "source": [
    "nb_swire_orig = len(swire)\n",
    "swire = masterlist.remove_duplicates(\n",
    "    swire, 'swire_ra', 'swire_dec', \n",
    "    sort_col=['ferr_app_swire_irac1', 'ferr_app_swire_irac2', \n",
    "              'ferr_app_irac3', 'ferr_app_irac4'],\n",
    "    flag_name='swire_flag_cleaned')\n",
    "nb_swire = len(swire)\n",
    "print(\"SWIRE initial catalogue as {} sources.\".format(nb_swire_orig))\n",
    "print(\"SWIRE cleaned catalogue as {} sources ({} removed).\".format(nb_swire, nb_swire_orig - nb_swire))\n",
    "print(\"SWIRE has {} sources flagged as having been cleaned\".format(np.sum(swire['swire_flag_cleaned'])))"
   ]
  },
  {
   "cell_type": "code",
   "execution_count": null,
   "metadata": {
    "collapsed": false
   },
   "outputs": [],
   "source": [
    "nb_panstarrs_orig = len(sparcs)\n",
    "sparcs = masterlist.remove_duplicates(\n",
    "    sparcs, 'sparcs_ra', 'sparcs_dec', \n",
    "    sort_col=['merr_app_cfht_megacam_r', 'merr_app_cfht_megacam_u',\n",
    "              'merr_app_cfht_megacam_g', 'merr_app_cfht_megacam_z'],\n",
    "    flag_name='sparcs_flag_cleaned')\n",
    "nb_sparcs = len(sparcs)\n",
    "print(\"SpARCS initial catalogue as {} sources.\".format(nb_sparcs_orig))\n",
    "print(\"SpARCS cleaned catalogue as {} sources ({} removed).\".format(nb_sparcs, nb_sparcs_orig - nb_sparcs))\n",
    "print(\"SpARCS has {} sources flagged as having been cleaned\".format(np.sum(sparcs['sparcs_flag_cleaned'])))"
   ]
  },
  {
   "cell_type": "code",
   "execution_count": null,
   "metadata": {
    "collapsed": true
   },
   "outputs": [],
   "source": [
    "nb_fireworks_orig = len(fireworks)"
   ]
  },
  {
   "cell_type": "code",
   "execution_count": null,
   "metadata": {
    "collapsed": true
   },
   "outputs": [],
   "source": [
    "nb_combo_orig = len(combo)"
   ]
  },
  {
   "cell_type": "markdown",
   "metadata": {},
   "source": [
    "## III - Astrometry correction\n",
    "\n",
    "We match the astrometry to the Gaia one. We limit the Gaia catalogue to sources with a g band flux between the 30th and the 70th percentile. Some quick tests show that this give the lower dispersion in the results."
   ]
  },
  {
   "cell_type": "code",
   "execution_count": null,
   "metadata": {
    "collapsed": true
   },
   "outputs": [],
   "source": [
    "gaia = Table.read(\"../../dmu0/dmu0_GAIA/data/GAIA_ELAIS-N1.fits\")\n",
    "gaia_coords = SkyCoord(gaia['ra'], gaia['dec'])"
   ]
  },
  {
   "cell_type": "code",
   "execution_count": null,
   "metadata": {
    "collapsed": false
   },
   "outputs": [],
   "source": [
    "masterlist.nb_astcor_diag_plot(\n",
    "    wfc['wfc_ra'], wfc['wfc_dec'], gaia_coords.ra, gaia_coords.dec)"
   ]
  },
  {
   "cell_type": "code",
   "execution_count": null,
   "metadata": {
    "collapsed": false
   },
   "outputs": [],
   "source": [
    "wfc_delta_ra, wfc_delta_dec = utils.astrometric_correction(\n",
    "    SkyCoord(wfc['wfc_ra'], wfc['wfc_dec']),\n",
    "    gaia_coords\n",
    ")\n",
    "wfc['wfc_ra'] += wfc_delta_ra.to(u.deg)\n",
    "wfc['wfc_dec'] += wfc_delta_dec.to(u.deg)\n",
    "\n",
    "print(\"WFC delta RA / delta Dec: {} / {}\".format(wfc_delta_ra, wfc_delta_dec))"
   ]
  },
  {
   "cell_type": "code",
   "execution_count": null,
   "metadata": {
    "collapsed": false
   },
   "outputs": [],
   "source": [
    "masterlist.nb_astcor_diag_plot(\n",
    "    dxs['dxs_ra'], dxs['dxs_dec'], gaia_coords.ra, gaia_coords.dec)"
   ]
  },
  {
   "cell_type": "code",
   "execution_count": null,
   "metadata": {
    "collapsed": false
   },
   "outputs": [],
   "source": [
    "dxs_delta_ra, dxs_delta_dec = utils.astrometric_correction(\n",
    "    SkyCoord(dxs['dxs_ra'], dxs['dxs_dec']),\n",
    "    gaia_coords\n",
    ")\n",
    "dxs['dxs_ra'] += dxs_delta_ra.to(u.deg)\n",
    "dxs['dxs_dec'] += dxs_delta_dec.to(u.deg)\n",
    "\n",
    "print(\"DXS delta RA / delta Dec: {} / {}\".format(dxs_delta_ra, dxs_delta_dec))"
   ]
  },
  {
   "cell_type": "code",
   "execution_count": null,
   "metadata": {
    "collapsed": false
   },
   "outputs": [],
   "source": [
    "masterlist.nb_astcor_diag_plot(\n",
    "    servs['servs_ra'], servs['servs_dec'], gaia_coords.ra, gaia_coords.dec)"
   ]
  },
  {
   "cell_type": "code",
   "execution_count": null,
   "metadata": {
    "collapsed": false
   },
   "outputs": [],
   "source": [
    "servs_delta_ra, servs_delta_dec = utils.astrometric_correction(\n",
    "    SkyCoord(servs['servs_ra'], servs['servs_dec']),\n",
    "    gaia_coords\n",
    ")\n",
    "servs['servs_ra'] += servs_delta_ra.to(u.deg)\n",
    "servs['servs_dec'] += servs_delta_dec.to(u.deg)\n",
    "\n",
    "print(\"SERVS delta RA / delta Dec: {} / {}\".format(servs_delta_ra, servs_delta_dec))"
   ]
  },
  {
   "cell_type": "code",
   "execution_count": null,
   "metadata": {
    "collapsed": false
   },
   "outputs": [],
   "source": [
    "masterlist.nb_astcor_diag_plot(\n",
    "    swire['swire_ra'], swire['swire_dec'], gaia_coords.ra, gaia_coords.dec)"
   ]
  },
  {
   "cell_type": "code",
   "execution_count": null,
   "metadata": {
    "collapsed": false
   },
   "outputs": [],
   "source": [
    "swire_delta_ra, swire_delta_dec = utils.astrometric_correction(\n",
    "    SkyCoord(swire['swire_ra'], swire['swire_dec']),\n",
    "    gaia_coords\n",
    ")\n",
    "swire['swire_ra'] += swire_delta_ra.to(u.deg)\n",
    "swire['swire_dec'] += swire_delta_dec.to(u.deg)\n",
    "\n",
    "print(\"SWIRE delta RA / delta Dec: {} / {}\".format(swire_delta_ra, swire_delta_dec))"
   ]
  },
  {
   "cell_type": "code",
   "execution_count": null,
   "metadata": {
    "collapsed": false
   },
   "outputs": [],
   "source": [
    "masterlist.nb_astcor_diag_plot(\n",
    "    sparcs['sparcs_ra'], sparcs['sparcs_dec'], gaia_coords.ra, gaia_coords.dec)"
   ]
  },
  {
   "cell_type": "code",
   "execution_count": null,
   "metadata": {
    "collapsed": false
   },
   "outputs": [],
   "source": [
    "sparcs_delta_ra, sparcs_delta_dec = utils.astrometric_correction(\n",
    "    SkyCoord(sparcs['sparcs_ra'], sparcs['sparcs_dec']),\n",
    "    gaia_coords\n",
    ")\n",
    "sparcs['sparcs_ra'] += sparcs_delta_ra.to(u.deg)\n",
    "sparcs['sparcs_dec'] += sparcs_delta_dec.to(u.deg)\n",
    "\n",
    "print(\"SpARCS delta RA / delta Dec: {} / {}\".format(sparcs_delta_ra, sparcs_delta_dec))"
   ]
  },
  {
   "cell_type": "markdown",
   "metadata": {},
   "source": [
    "## IV - Flagging Gaia objects"
   ]
  },
  {
   "cell_type": "code",
   "execution_count": null,
   "metadata": {
    "collapsed": false
   },
   "outputs": [],
   "source": [
    "wfc.add_column(\n",
    "    flagging.gaia_flag_column(\n",
    "        SkyCoord(wfc['wfc_ra'], wfc['wfc_dec']),\n",
    "        wfc_epoch,\n",
    "        gaia\n",
    "    )\n",
    ")\n",
    "wfc['flag_gaia'].name = 'wfc_flag_gaia'\n",
    "print(\"{} sources flagged.\".format(np.sum(wfc['wfc_flag_gaia'] > 0)))"
   ]
  },
  {
   "cell_type": "code",
   "execution_count": null,
   "metadata": {
    "collapsed": false
   },
   "outputs": [],
   "source": [
    "dxs.add_column(\n",
    "    flagging.gaia_flag_column(\n",
    "        SkyCoord(dxs['dxs_ra'], dxs['dxs_dec']),\n",
    "        dxs_epoch,\n",
    "        gaia\n",
    "    )\n",
    ")\n",
    "dxs['flag_gaia'].name = 'dxs_flag_gaia'\n",
    "print(\"{} sources flagged.\".format(np.sum(dxs['dxs_flag_gaia'] > 0)))"
   ]
  },
  {
   "cell_type": "code",
   "execution_count": null,
   "metadata": {
    "collapsed": false
   },
   "outputs": [],
   "source": [
    "servs.add_column(\n",
    "    flagging.gaia_flag_column(\n",
    "        SkyCoord(servs['servs_ra'], servs['servs_dec']),\n",
    "        servs_epoch,\n",
    "        gaia\n",
    "    )\n",
    ")\n",
    "servs['flag_gaia'].name = 'servs_flag_gaia'\n",
    "print(\"{} sources flagged.\".format(np.sum(servs['servs_flag_gaia'] > 0)))"
   ]
  },
  {
   "cell_type": "code",
   "execution_count": null,
   "metadata": {
    "collapsed": false
   },
   "outputs": [],
   "source": [
    "swire.add_column(\n",
    "    flagging.gaia_flag_column(\n",
    "        SkyCoord(swire['swire_ra'], swire['swire_dec']),\n",
    "        swire_epoch,\n",
    "        gaia\n",
    "    )\n",
    ")\n",
    "swire['flag_gaia'].name = 'swire_flag_gaia'\n",
    "print(\"{} sources flagged.\".format(np.sum(swire['swire_flag_gaia'] > 0)))"
   ]
  },
  {
   "cell_type": "code",
   "execution_count": null,
   "metadata": {
    "collapsed": false
   },
   "outputs": [],
   "source": [
    "sparcs.add_column(\n",
    "    flagging.gaia_flag_column(\n",
    "        SkyCoord(sparcs['sparcs_ra'], sparcs['sparcs_dec']),\n",
    "        sparcs_epoch,\n",
    "        gaia\n",
    "    )\n",
    ")\n",
    "sparcs['flag_gaia'].name = 'sparcs_flag_gaia'\n",
    "print(\"{} sources flagged.\".format(np.sum(sparcs['sparcs_flag_gaia'] > 0)))"
   ]
  },
  {
   "cell_type": "markdown",
   "metadata": {},
   "source": [
    "## IV - Flagging objects near bright stars"
   ]
  },
  {
   "cell_type": "code",
   "execution_count": null,
   "metadata": {
    "collapsed": false
   },
   "outputs": [],
   "source": []
  },
  {
   "cell_type": "markdown",
   "metadata": {},
   "source": [
    "## V- Merging the catalogues"
   ]
  },
  {
   "cell_type": "code",
   "execution_count": null,
   "metadata": {
    "collapsed": false
   },
   "outputs": [],
   "source": [
    "masterlist.nb_merge_dist_plot(\n",
    "    SkyCoord(wfc['wfc_ra'], wfc['wfc_dec']),\n",
    "    SkyCoord(dxs['dxs_ra'], dxs['dxs_dec'])\n",
    ")"
   ]
  },
  {
   "cell_type": "code",
   "execution_count": null,
   "metadata": {
    "collapsed": true
   },
   "outputs": [],
   "source": [
    "# Given the graph above, we use 0.8 arc-second radius\n",
    "wfc['wfc_ra'].name = 'ra'\n",
    "wfc['wfc_dec'].name = 'dec'\n",
    "masterlist_catalogue = masterlist.merge_catalogues(\n",
    "    wfc, dxs, \"dxs_ra\", \"dxs_dec\")"
   ]
  },
  {
   "cell_type": "code",
   "execution_count": null,
   "metadata": {
    "collapsed": false
   },
   "outputs": [],
   "source": [
    "masterlist.nb_merge_dist_plot(\n",
    "    SkyCoord(masterlist_catalogue['ra'], masterlist_catalogue['dec']),\n",
    "    SkyCoord(servs['servs_ra'], servs['servs_dec'])\n",
    ")"
   ]
  },
  {
   "cell_type": "code",
   "execution_count": null,
   "metadata": {
    "collapsed": true
   },
   "outputs": [],
   "source": [
    "# Given the graph above, we use 1.2 arc-second radius\n",
    "masterlist_catalogue = masterlist.merge_catalogues(\n",
    "    masterlist_catalogue, servs, \"servs_ra\", \"servs_dec\")"
   ]
  },
  {
   "cell_type": "code",
   "execution_count": null,
   "metadata": {
    "collapsed": false
   },
   "outputs": [],
   "source": [
    "masterlist.nb_merge_dist_plot(\n",
    "    SkyCoord(masterlist_catalogue['ra'], masterlist_catalogue['dec']),\n",
    "    SkyCoord(swire['swire_ra'], swire['swire_dec'])\n",
    ")"
   ]
  },
  {
   "cell_type": "code",
   "execution_count": null,
   "metadata": {
    "collapsed": true
   },
   "outputs": [],
   "source": [
    "masterlist_catalogue = masterlist.merge_catalogues(\n",
    "    masterlist_catalogue, swire, \"swire_ra\", \"swire_dec\")"
   ]
  },
  {
   "cell_type": "code",
   "execution_count": null,
   "metadata": {
    "collapsed": false
   },
   "outputs": [],
   "source": [
    "masterlist.nb_merge_dist_plot(\n",
    "    SkyCoord(masterlist_catalogue['ra'], masterlist_catalogue['dec']),\n",
    "    SkyCoord(sparcs['sparcs_ra'], sparcs['sparcs_dec'])\n",
    ")"
   ]
  },
  {
   "cell_type": "code",
   "execution_count": null,
   "metadata": {
    "collapsed": true
   },
   "outputs": [],
   "source": [
    "# Given the graph above, we use 1 arc-second radius\n",
    "masterlist_catalogue = masterlist.merge_catalogues(\n",
    "    masterlist_catalogue, sparcs, \"sparcs_ra\", \"sparcs_dec\", radius=1. * u.arcsec)"
   ]
  },
  {
   "cell_type": "code",
   "execution_count": null,
   "metadata": {
    "collapsed": true
   },
   "outputs": [],
   "source": [
    "# When we merge the catalogues, astropy masks the non-existent values (e.g. when a row comes\n",
    "# only from a catalogue and has no counterparts in the other, the columns from the latest\n",
    "# are masked for that row). We indicate to use NaN for masked values for floats columns,\n",
    "# False for flag columns and -1 for ID columns.\n",
    "for col in masterlist_catalogue.colnames:\n",
    "    if \"m_\" in col or \"merr_\" in col or \"f_\" in col or \"ferr_\" in col or \"stellarity\" in col:\n",
    "        masterlist_catalogue[col].fill_value = np.nan\n",
    "    elif \"flag\" in col:\n",
    "        masterlist_catalogue[col].fill_value = False\n",
    "    elif \"id\" in col:\n",
    "        masterlist_catalogue[col].fill_value = -1\n",
    "        \n",
    "masterlist_catalogue = masterlist_catalogue.filled()"
   ]
  },
  {
   "cell_type": "code",
   "execution_count": null,
   "metadata": {
    "collapsed": false,
    "scrolled": false
   },
   "outputs": [],
   "source": [
    "masterlist_catalogue[:10].show_in_notebook()"
   ]
  },
  {
   "cell_type": "markdown",
   "metadata": {},
   "source": [
    "## VI - Merging flags and stellarity"
   ]
  },
  {
   "cell_type": "code",
   "execution_count": null,
   "metadata": {
    "collapsed": true
   },
   "outputs": [],
   "source": [
    "masterlist_catalogue.add_column(Column(\n",
    "    data=(masterlist_catalogue['wfc_flag_cleaned'] | \n",
    "          masterlist_catalogue['dxs_flag_cleaned'] |\n",
    "          masterlist_catalogue['servs_flag_cleaned'] | \n",
    "          masterlist_catalogue['swire_flag_cleaned'] |\n",
    "          masterlist_catalogue['sparcs_flag_cleaned']),\n",
    "    name=\"flag_cleaned\"\n",
    "))\n",
    "masterlist_catalogue.remove_columns(['wfc_flag_cleaned', 'dxs_flag_cleaned',\n",
    "                                     'servs_flag_cleaned', 'swire_flag_cleaned',\n",
    "                                     'sparcs_flag_cleaned'])"
   ]
  },
  {
   "cell_type": "code",
   "execution_count": null,
   "metadata": {
    "collapsed": true
   },
   "outputs": [],
   "source": [
    "masterlist_catalogue.add_column(Column(\n",
    "    data=(masterlist_catalogue['wfc_flag_gaia'] | \n",
    "          masterlist_catalogue['dxs_flag_gaia'] |\n",
    "          masterlist_catalogue['servs_flag_gaia'] | \n",
    "          masterlist_catalogue['swire_flag_gaia'] |\n",
    "          masterlist_catalogue['sparcs_flag_gaia']),\n",
    "    name=\"flag_gaia\"\n",
    "))\n",
    "masterlist_catalogue.remove_columns(['wfc_flag_gaia', 'dxs_flag_gaia',\n",
    "                                     'servs_flag_gaia', 'swire_flag_gaia',\n",
    "                                     'sparcs_flag_gaia'])"
   ]
  },
  {
   "cell_type": "code",
   "execution_count": null,
   "metadata": {
    "collapsed": true
   },
   "outputs": [],
   "source": [
    "masterlist_catalogue.add_column(Column(\n",
    "    data=np.nanmax([masterlist_catalogue['wfc_stellarity'],\n",
    "                     masterlist_catalogue['dxs_stellarity'],\n",
    "                     masterlist_catalogue['servs_stellarity_irac1'],\n",
    "                     masterlist_catalogue['servs_stellarity_irac2'],\n",
    "                     masterlist_catalogue['swire_stellarity_irac1'],\n",
    "                     masterlist_catalogue['swire_stellarity_irac2'],\n",
    "                     masterlist_catalogue['swire_stellarity_irac3'],\n",
    "                     masterlist_catalogue['swire_stellarity_irac4'],\n",
    "                     masterlist_catalogue['sparcs_stellarity']],\n",
    "                   axis=0),\n",
    "    name='stellarity'\n",
    "))\n",
    "masterlist_catalogue.remove_columns(\n",
    "    ['wfc_stellarity',\n",
    "     'dxs_stellarity',\n",
    "     'servs_stellarity_irac1',\n",
    "     'servs_stellarity_irac2',\n",
    "     'swire_stellarity_irac1',\n",
    "     'swire_stellarity_irac2',\n",
    "     'swire_stellarity_irac3',\n",
    "     'swire_stellarity_irac4',\n",
    "     'sparcs_stellarity']\n",
    ")"
   ]
  },
  {
   "cell_type": "markdown",
   "metadata": {},
   "source": [
    "## VII - E(B-V)"
   ]
  },
  {
   "cell_type": "code",
   "execution_count": null,
   "metadata": {
    "collapsed": true
   },
   "outputs": [],
   "source": [
    "masterlist_catalogue.add_column(\n",
    "    utils.ebv(masterlist_catalogue['ra'], masterlist_catalogue['dec'])\n",
    ")"
   ]
  },
  {
   "cell_type": "markdown",
   "metadata": {},
   "source": [
    "## VIII - Adding HELP unique identifiers and field columns"
   ]
  },
  {
   "cell_type": "code",
   "execution_count": null,
   "metadata": {
    "collapsed": true
   },
   "outputs": [],
   "source": [
    "masterlist_catalogue.add_column(Column(\n",
    "    utils.gen_help_id(masterlist_catalogue['ra'], masterlist_catalogue['dec']),\n",
    "    name=\"help_id\"\n",
    "))\n",
    "masterlist_catalogue.add_column(Column(\n",
    "    np.full(len(masterlist_catalogue), \"ELAIS-N1\", dtype='<U18'),\n",
    "    name=\"field\"\n",
    "))"
   ]
  },
  {
   "cell_type": "code",
   "execution_count": null,
   "metadata": {
    "collapsed": false
   },
   "outputs": [],
   "source": [
    "# Check that the HELP Ids are unique\n",
    "if len(masterlist_catalogue) != len(np.unique(masterlist_catalogue['help_id'])):\n",
    "    print(\"The HELP IDs are not unique!!!\")\n",
    "else:\n",
    "    print(\"OK!\")"
   ]
  },
  {
   "cell_type": "markdown",
   "metadata": {},
   "source": [
    "## IX - Choosing between multiple values for the same filter\n",
    "\n",
    "Both SERVS and SWIRE provide IRAC1 and IRAC2 fluxes. SERVS is deeper but tends to under-estimate flux of bright sources (Mattia said over 2000 µJy) as illustrated by this comparison of SWIRE, SERVS, and Spitzer-EIP fluxes."
   ]
  },
  {
   "cell_type": "code",
   "execution_count": null,
   "metadata": {
    "collapsed": false
   },
   "outputs": [],
   "source": [
    "seip = Table.read(\"../../dmu0/dmu0_SEIP/data/SEIP_ELAIS-N1.fits\")\n",
    "seip_coords = SkyCoord(seip['ra'], seip['dec'])\n",
    "idx, d2d, _ = seip_coords.match_to_catalog_sky(SkyCoord(masterlist_catalogue['ra'], masterlist_catalogue['dec']))\n",
    "mask = d2d <= 2 * u.arcsec"
   ]
  },
  {
   "cell_type": "code",
   "execution_count": null,
   "metadata": {
    "collapsed": false
   },
   "outputs": [],
   "source": [
    "fig, ax = plt.subplots()\n",
    "ax.scatter(seip['i1_f_ap1'][mask], masterlist_catalogue[idx[mask]]['f_app_servs_irac1'], label=\"SERVS\", s=2.)\n",
    "ax.scatter(seip['i1_f_ap1'][mask], masterlist_catalogue[idx[mask]]['f_app_swire_irac1'], label=\"SWIRE\", s=2.)\n",
    "ax.set_xscale('log')\n",
    "ax.set_yscale('log')\n",
    "ax.set_xlabel(\"SEIP flux [μJy]\")\n",
    "ax.set_ylabel(\"SERVS/SWIRE flux [μJy]\")\n",
    "ax.set_title(\"IRAC 1\")\n",
    "ax.legend()\n",
    "ax.axvline(2000, color=\"black\", linestyle=\"--\", linewidth=1.)\n",
    "ax.plot(seip['i1_f_ap1'][mask], seip['i1_f_ap1'][mask], linewidth=.1, color=\"black\", alpha=.5)"
   ]
  },
  {
   "cell_type": "code",
   "execution_count": null,
   "metadata": {
    "collapsed": false
   },
   "outputs": [],
   "source": [
    "fig, ax = plt.subplots()\n",
    "ax.scatter(seip['i2_f_ap1'][mask], masterlist_catalogue[idx[mask]]['f_app_servs_irac2'], label=\"SERVS\", s=2.)\n",
    "ax.scatter(seip['i2_f_ap1'][mask], masterlist_catalogue[idx[mask]]['f_app_swire_irac2'], label=\"SWIRE\", s=2.)\n",
    "ax.set_xscale('log')\n",
    "ax.set_yscale('log')\n",
    "ax.set_xlabel(\"SEIP flux [μJy]\")\n",
    "ax.set_ylabel(\"SERVS/SWIRE flux [μJy]\")\n",
    "ax.set_title(\"IRAC 2\")\n",
    "ax.legend()\n",
    "ax.axvline(2000, color=\"black\", linestyle=\"--\", linewidth=1.)\n",
    "\n",
    "ax.plot(seip['i1_f_ap2'][mask], seip['i1_f_ap2'][mask], linewidth=.1, color=\"black\", alpha=.5)"
   ]
  },
  {
   "cell_type": "markdown",
   "metadata": {},
   "source": [
    "When both SWIRE and SERVS fluxes are provided, we use the SERVS flux below 2000 μJy and the SWIRE flux over.\n",
    "\n",
    "We create a table indicating for each source the origin on the IRAC1 and IRAC2 fluxes that will be saved separately."
   ]
  },
  {
   "cell_type": "code",
   "execution_count": null,
   "metadata": {
    "collapsed": true
   },
   "outputs": [],
   "source": [
    "irac_origin = Table()\n",
    "irac_origin.add_column(masterlist_catalogue['help_id'])"
   ]
  },
  {
   "cell_type": "code",
   "execution_count": null,
   "metadata": {
    "collapsed": false
   },
   "outputs": [],
   "source": [
    "# IRAC1 aperture flux and magnitudes\n",
    "has_servs = ~np.isnan(masterlist_catalogue['f_app_servs_irac1'])\n",
    "has_swire = ~np.isnan(masterlist_catalogue['f_app_swire_irac1'])\n",
    "has_both = has_servs & has_swire\n",
    "\n",
    "print(\"{} sources with SERVS flux\".format(np.sum(has_servs)))\n",
    "print(\"{} sources with SWIRE flux\".format(np.sum(has_swire)))\n",
    "print(\"{} sources with SERVS and SWIRE flux\".format(np.sum(has_both)))\n",
    "\n",
    "has_servs_above_limit = has_servs.copy()\n",
    "has_servs_above_limit[has_servs] = masterlist_catalogue['f_app_servs_irac1'][has_servs] > 2000\n",
    "\n",
    "use_swire = (has_swire & ~has_servs) | (has_both & has_servs_above_limit)\n",
    "use_servs = (has_servs & ~(has_both & has_servs_above_limit))\n",
    "\n",
    "print(\"{} sources for which we use SERVS\".format(np.sum(use_servs)))\n",
    "print(\"{} sources for which we use SWIRE\".format(np.sum(use_swire)))\n",
    "\n",
    "f_app_irac = np.full(len(masterlist_catalogue), np.nan)\n",
    "f_app_irac[use_servs] = masterlist_catalogue['f_app_servs_irac1'][use_servs]\n",
    "f_app_irac[use_swire] = masterlist_catalogue['f_app_swire_irac1'][use_swire]\n",
    "\n",
    "ferr_app_irac = np.full(len(masterlist_catalogue), np.nan)\n",
    "ferr_app_irac[use_servs] = masterlist_catalogue['ferr_app_servs_irac1'][use_servs]\n",
    "ferr_app_irac[use_swire] = masterlist_catalogue['ferr_app_swire_irac1'][use_swire]\n",
    "\n",
    "m_app_irac = np.full(len(masterlist_catalogue), np.nan)\n",
    "m_app_irac[use_servs] = masterlist_catalogue['m_app_servs_irac1'][use_servs]\n",
    "m_app_irac[use_swire] = masterlist_catalogue['m_app_swire_irac1'][use_swire]\n",
    "\n",
    "merr_app_irac = np.full(len(masterlist_catalogue), np.nan)\n",
    "merr_app_irac[use_servs] = masterlist_catalogue['merr_app_servs_irac1'][use_servs]\n",
    "merr_app_irac[use_swire] = masterlist_catalogue['merr_app_swire_irac1'][use_swire]\n",
    "\n",
    "masterlist_catalogue.add_column(Column(data=f_app_irac, name=\"f_app_irac1\"))\n",
    "masterlist_catalogue.add_column(Column(data=ferr_app_irac, name=\"ferr_app_irac1\"))\n",
    "masterlist_catalogue.add_column(Column(data=m_app_irac, name=\"m_app_irac1\"))\n",
    "masterlist_catalogue.add_column(Column(data=merr_app_irac, name=\"merr_app_irac1\"))\n",
    "\n",
    "masterlist_catalogue.remove_columns(['f_app_servs_irac1', 'f_app_swire_irac1', 'ferr_app_servs_irac1',\n",
    "                                     'ferr_app_swire_irac1', 'm_app_servs_irac1', 'm_app_swire_irac1',\n",
    "                                     'merr_app_servs_irac1', 'merr_app_swire_irac1'])\n",
    "\n",
    "origin = np.full(len(masterlist_catalogue), '     ', dtype='<U5')\n",
    "origin[use_servs] = \"SERVS\"\n",
    "origin[use_swire] = \"SWIRE\"\n",
    "irac_origin.add_column(Column(data=origin, name=\"IRAC1_app\"))"
   ]
  },
  {
   "cell_type": "code",
   "execution_count": null,
   "metadata": {
    "collapsed": false
   },
   "outputs": [],
   "source": [
    "# IRAC1 total flux and magnitudes\n",
    "has_servs = ~np.isnan(masterlist_catalogue['f_servs_irac1'])\n",
    "has_swire = ~np.isnan(masterlist_catalogue['f_swire_irac1'])\n",
    "has_both = has_servs & has_swire\n",
    "\n",
    "print(\"{} sources with SERVS flux\".format(np.sum(has_servs)))\n",
    "print(\"{} sources with SWIRE flux\".format(np.sum(has_swire)))\n",
    "print(\"{} sources with SERVS and SWIRE flux\".format(np.sum(has_both)))\n",
    "\n",
    "has_servs_above_limit = has_servs.copy()\n",
    "has_servs_above_limit[has_servs] = masterlist_catalogue['f_servs_irac1'][has_servs] > 2000\n",
    "\n",
    "use_swire = (has_swire & ~has_servs) | (has_both & has_servs_above_limit)\n",
    "use_servs = (has_servs & ~(has_both & has_servs_above_limit))\n",
    "\n",
    "print(\"{} sources for which we use SERVS\".format(np.sum(use_servs)))\n",
    "print(\"{} sources for which we use SWIRE\".format(np.sum(use_swire)))\n",
    "\n",
    "f_app_irac = np.full(len(masterlist_catalogue), np.nan)\n",
    "f_app_irac[use_servs] = masterlist_catalogue['f_servs_irac1'][use_servs]\n",
    "f_app_irac[use_swire] = masterlist_catalogue['f_swire_irac1'][use_swire]\n",
    "\n",
    "ferr_app_irac = np.full(len(masterlist_catalogue), np.nan)\n",
    "ferr_app_irac[use_servs] = masterlist_catalogue['ferr_servs_irac1'][use_servs]\n",
    "ferr_app_irac[use_swire] = masterlist_catalogue['ferr_swire_irac1'][use_swire]\n",
    "\n",
    "m_app_irac = np.full(len(masterlist_catalogue), np.nan)\n",
    "m_app_irac[use_servs] = masterlist_catalogue['m_servs_irac1'][use_servs]\n",
    "m_app_irac[use_swire] = masterlist_catalogue['m_swire_irac1'][use_swire]\n",
    "\n",
    "merr_app_irac = np.full(len(masterlist_catalogue), np.nan)\n",
    "merr_app_irac[use_servs] = masterlist_catalogue['merr_servs_irac1'][use_servs]\n",
    "merr_app_irac[use_swire] = masterlist_catalogue['merr_swire_irac1'][use_swire]\n",
    "\n",
    "masterlist_catalogue.add_column(Column(data=f_app_irac, name=\"f_irac1\"))\n",
    "masterlist_catalogue.add_column(Column(data=ferr_app_irac, name=\"ferr_irac1\"))\n",
    "masterlist_catalogue.add_column(Column(data=m_app_irac, name=\"m_irac1\"))\n",
    "masterlist_catalogue.add_column(Column(data=merr_app_irac, name=\"merr_irac1\"))\n",
    "\n",
    "masterlist_catalogue.remove_columns(['f_servs_irac1', 'f_swire_irac1', 'ferr_servs_irac1',\n",
    "                                     'ferr_swire_irac1', 'm_servs_irac1', 'm_swire_irac1',\n",
    "                                     'merr_servs_irac1', 'merr_swire_irac1'])\n",
    "\n",
    "origin = np.full(len(masterlist_catalogue), '     ', dtype='<U5')\n",
    "origin[use_servs] = \"SERVS\"\n",
    "origin[use_swire] = \"SWIRE\"\n",
    "irac_origin.add_column(Column(data=origin, name=\"IRAC1_total\"))"
   ]
  },
  {
   "cell_type": "code",
   "execution_count": null,
   "metadata": {
    "collapsed": false
   },
   "outputs": [],
   "source": [
    "# IRAC2 aperture flux and magnitudes\n",
    "has_servs = ~np.isnan(masterlist_catalogue['f_app_servs_irac2'])\n",
    "has_swire = ~np.isnan(masterlist_catalogue['f_app_swire_irac2'])\n",
    "has_both = has_servs & has_swire\n",
    "\n",
    "print(\"{} sources with SERVS flux\".format(np.sum(has_servs)))\n",
    "print(\"{} sources with SWIRE flux\".format(np.sum(has_swire)))\n",
    "print(\"{} sources with SERVS and SWIRE flux\".format(np.sum(has_both)))\n",
    "\n",
    "has_servs_above_limit = has_servs.copy()\n",
    "has_servs_above_limit[has_servs] = masterlist_catalogue['f_app_servs_irac2'][has_servs] > 2000\n",
    "\n",
    "use_swire = (has_swire & ~has_servs) | (has_both & has_servs_above_limit)\n",
    "use_servs = (has_servs & ~(has_both & has_servs_above_limit))\n",
    "\n",
    "print(\"{} sources for which we use SERVS\".format(np.sum(use_servs)))\n",
    "print(\"{} sources for which we use SWIRE\".format(np.sum(use_swire)))\n",
    "\n",
    "f_app_irac = np.full(len(masterlist_catalogue), np.nan)\n",
    "f_app_irac[use_servs] = masterlist_catalogue['f_app_servs_irac2'][use_servs]\n",
    "f_app_irac[use_swire] = masterlist_catalogue['f_app_swire_irac2'][use_swire]\n",
    "\n",
    "ferr_app_irac = np.full(len(masterlist_catalogue), np.nan)\n",
    "ferr_app_irac[use_servs] = masterlist_catalogue['ferr_app_servs_irac2'][use_servs]\n",
    "ferr_app_irac[use_swire] = masterlist_catalogue['ferr_app_swire_irac2'][use_swire]\n",
    "\n",
    "m_app_irac = np.full(len(masterlist_catalogue), np.nan)\n",
    "m_app_irac[use_servs] = masterlist_catalogue['m_app_servs_irac2'][use_servs]\n",
    "m_app_irac[use_swire] = masterlist_catalogue['m_app_swire_irac2'][use_swire]\n",
    "\n",
    "merr_app_irac = np.full(len(masterlist_catalogue), np.nan)\n",
    "merr_app_irac[use_servs] = masterlist_catalogue['merr_app_servs_irac2'][use_servs]\n",
    "merr_app_irac[use_swire] = masterlist_catalogue['merr_app_swire_irac2'][use_swire]\n",
    "\n",
    "masterlist_catalogue.add_column(Column(data=f_app_irac, name=\"f_app_irac2\"))\n",
    "masterlist_catalogue.add_column(Column(data=ferr_app_irac, name=\"ferr_app_irac2\"))\n",
    "masterlist_catalogue.add_column(Column(data=m_app_irac, name=\"m_app_irac2\"))\n",
    "masterlist_catalogue.add_column(Column(data=merr_app_irac, name=\"merr_app_irac2\"))\n",
    "\n",
    "masterlist_catalogue.remove_columns(['f_app_servs_irac2', 'f_app_swire_irac2', 'ferr_app_servs_irac2',\n",
    "                                     'ferr_app_swire_irac2', 'm_app_servs_irac2', 'm_app_swire_irac2',\n",
    "                                     'merr_app_servs_irac2', 'merr_app_swire_irac2'])\n",
    "\n",
    "origin = np.full(len(masterlist_catalogue), '     ', dtype='<U5')\n",
    "origin[use_servs] = \"SERVS\"\n",
    "origin[use_swire] = \"SWIRE\"\n",
    "irac_origin.add_column(Column(data=origin, name=\"IRAC2_app\"))"
   ]
  },
  {
   "cell_type": "code",
   "execution_count": null,
   "metadata": {
    "collapsed": false
   },
   "outputs": [],
   "source": [
    "# IRAC2 total flux and magnitudes\n",
    "has_servs = ~np.isnan(masterlist_catalogue['f_servs_irac2'])\n",
    "has_swire = ~np.isnan(masterlist_catalogue['f_swire_irac2'])\n",
    "has_both = has_servs & has_swire\n",
    "\n",
    "print(\"{} sources with SERVS flux\".format(np.sum(has_servs)))\n",
    "print(\"{} sources with SWIRE flux\".format(np.sum(has_swire)))\n",
    "print(\"{} sources with SERVS and SWIRE flux\".format(np.sum(has_both)))\n",
    "\n",
    "has_servs_above_limit = has_servs.copy()\n",
    "has_servs_above_limit[has_servs] = masterlist_catalogue['f_servs_irac2'][has_servs] > 2000\n",
    "\n",
    "use_swire = (has_swire & ~has_servs) | (has_both & has_servs_above_limit)\n",
    "use_servs = (has_servs & ~(has_both & has_servs_above_limit))\n",
    "\n",
    "print(\"{} sources for which we use SERVS\".format(np.sum(use_servs)))\n",
    "print(\"{} sources for which we use SWIRE\".format(np.sum(use_swire)))\n",
    "\n",
    "f_app_irac = np.full(len(masterlist_catalogue), np.nan)\n",
    "f_app_irac[use_servs] = masterlist_catalogue['f_servs_irac2'][use_servs]\n",
    "f_app_irac[use_swire] = masterlist_catalogue['f_swire_irac2'][use_swire]\n",
    "\n",
    "ferr_app_irac = np.full(len(masterlist_catalogue), np.nan)\n",
    "ferr_app_irac[use_servs] = masterlist_catalogue['ferr_servs_irac2'][use_servs]\n",
    "ferr_app_irac[use_swire] = masterlist_catalogue['ferr_swire_irac2'][use_swire]\n",
    "\n",
    "m_app_irac = np.full(len(masterlist_catalogue), np.nan)\n",
    "m_app_irac[use_servs] = masterlist_catalogue['m_servs_irac2'][use_servs]\n",
    "m_app_irac[use_swire] = masterlist_catalogue['m_swire_irac2'][use_swire]\n",
    "\n",
    "merr_app_irac = np.full(len(masterlist_catalogue), np.nan)\n",
    "merr_app_irac[use_servs] = masterlist_catalogue['merr_servs_irac2'][use_servs]\n",
    "merr_app_irac[use_swire] = masterlist_catalogue['merr_swire_irac2'][use_swire]\n",
    "\n",
    "masterlist_catalogue.add_column(Column(data=f_app_irac, name=\"f_irac2\"))\n",
    "masterlist_catalogue.add_column(Column(data=ferr_app_irac, name=\"ferr_irac2\"))\n",
    "masterlist_catalogue.add_column(Column(data=m_app_irac, name=\"m_irac2\"))\n",
    "masterlist_catalogue.add_column(Column(data=merr_app_irac, name=\"merr_irac2\"))\n",
    "\n",
    "masterlist_catalogue.remove_columns(['f_servs_irac2', 'f_swire_irac2', 'ferr_servs_irac2',\n",
    "                                     'ferr_swire_irac2', 'm_servs_irac2', 'm_swire_irac2',\n",
    "                                     'merr_servs_irac2', 'merr_swire_irac2'])\n",
    "\n",
    "origin = np.full(len(masterlist_catalogue), '     ', dtype='<U5')\n",
    "origin[use_servs] = \"SERVS\"\n",
    "origin[use_swire] = \"SWIRE\"\n",
    "irac_origin.add_column(Column(data=origin, name=\"IRAC2_total\"))"
   ]
  },
  {
   "cell_type": "code",
   "execution_count": null,
   "metadata": {
    "collapsed": true
   },
   "outputs": [],
   "source": [
    "irac_origin.write(\"data/elais-n1_irac_fluxes_origins.fits\")"
   ]
  },
  {
   "cell_type": "markdown",
   "metadata": {},
   "source": [
    "\n",
    "## X.a Wavelenght domain coverage\n",
    "\n",
    "We add a binary `flag_optnir_obs` indicating that a source was observed in a given wavelenght domain:\n",
    "\n",
    "- 1 for observation in optical;\n",
    "- 2 for observation in near-infrared;\n",
    "- 4 for observation in mid-infrared (IRAC).\n",
    "\n",
    "It's an integer binary flag, so a source observed both in optical and near-infrared by not in mid-infrared would have this flag at 1 + 2 = 3.\n",
    "\n",
    "*Note 1: The observation flag is based on the creation of multi-order coverage maps from the catalogues, this may not be accurate, especially on the edges of the coverage.*\n",
    "\n",
    "*Note 2: Being on the observation coverage does not mean having fluxes in that wavelength domain. For sources observed in one domain but having no flux in it, one must take into consideration de different depths in the catalogue we are using.*"
   ]
  },
  {
   "cell_type": "code",
   "execution_count": null,
   "metadata": {
    "collapsed": true
   },
   "outputs": [],
   "source": [
    "was_observed_optical = utils.inMoc(\n",
    "    masterlist_catalogue['ra'], masterlist_catalogue['dec'],\n",
    "    wfc_moc + sparcs_moc) \n",
    "\n",
    "was_observed_nir = utils.inMoc(\n",
    "    masterlist_catalogue['ra'], masterlist_catalogue['dec'],\n",
    "    dxs_moc\n",
    ")\n",
    "\n",
    "was_observed_mir = utils.inMoc(\n",
    "    masterlist_catalogue['ra'], masterlist_catalogue['dec'],\n",
    "    servs_moc + swire_moc\n",
    ")"
   ]
  },
  {
   "cell_type": "code",
   "execution_count": null,
   "metadata": {
    "collapsed": true
   },
   "outputs": [],
   "source": [
    "masterlist_catalogue.add_column(\n",
    "    Column(\n",
    "        1 * was_observed_optical + 2 * was_observed_nir + 4 * was_observed_mir,\n",
    "        name=\"flag_optnir_obs\")\n",
    ")"
   ]
  },
  {
   "cell_type": "markdown",
   "metadata": {},
   "source": [
    "## X.b Wavelenght domain detection\n",
    "\n",
    "We add a binary `flag_optnir_det` indicating that a source was detected in a given wavelenght domain:\n",
    "\n",
    "- 1 for detection in optical;\n",
    "- 2 for detection in near-infrared;\n",
    "- 4 for detection in mid-infrared (IRAC).\n",
    "\n",
    "It's an integer binary flag, so a source detected both in optical and near-infrared by not in mid-infrared would have this flag at 1 + 2 = 3.\n",
    "\n",
    "*Note 1: We use the total flux columns to know if the source has flux, in some catalogues, we may have aperture flux and no total flux.*\n",
    "\n",
    "To get rid of artefacts (chip edges, star flares, etc.) we consider that a source is detected in one wavelength domain when it has a flux value in **at least two bands**. That means that good sources will be excluded from this flag when they are on the coverage of only one band."
   ]
  },
  {
   "cell_type": "code",
   "execution_count": null,
   "metadata": {
    "collapsed": true
   },
   "outputs": [],
   "source": [
    "# SpARCS is a catalogue of sources detected in r (with fluxes measured at \n",
    "# this prior position in the other bands).  Thus, we are only using the r\n",
    "# CFHT band.\n",
    "nb_optical_flux = (\n",
    "    1 * ~np.isnan(masterlist_catalogue['f_wfc_u']) +\n",
    "    1 * ~np.isnan(masterlist_catalogue['f_wfc_g']) +\n",
    "    1 * ~np.isnan(masterlist_catalogue['f_wfc_r']) +\n",
    "    1 * ~np.isnan(masterlist_catalogue['f_wfc_i']) +\n",
    "    1 * ~np.isnan(masterlist_catalogue['f_wfc_z']) +\n",
    "    1 * ~np.isnan(masterlist_catalogue['f_cfht_megacam_r'])\n",
    ")\n",
    "\n",
    "nb_nir_flux = (\n",
    "    1 * ~np.isnan(masterlist_catalogue['f_ukidss_j']) +\n",
    "    1 * ~np.isnan(masterlist_catalogue['f_ukidss_h']) +\n",
    "    1 * ~np.isnan(masterlist_catalogue['f_ukidss_k'])\n",
    ")\n",
    "\n",
    "nb_mir_flux = (\n",
    "    1 * ~np.isnan(masterlist_catalogue['f_irac1']) +\n",
    "    1 * ~np.isnan(masterlist_catalogue['f_irac2']) +\n",
    "    1 * ~np.isnan(masterlist_catalogue['f_irac3']) +\n",
    "    1 * ~np.isnan(masterlist_catalogue['f_irac4'])\n",
    ")"
   ]
  },
  {
   "cell_type": "code",
   "execution_count": null,
   "metadata": {
    "collapsed": true
   },
   "outputs": [],
   "source": [
    "has_optical_flux = nb_optical_flux >= 2\n",
    "has_nir_flux = nb_nir_flux >= 2\n",
    "has_mir_flux = nb_mir_flux >= 2\n",
    "\n",
    "masterlist_catalogue.add_column(\n",
    "    Column(\n",
    "        1 * has_optical_flux + 2 * has_nir_flux + 4 * has_mir_flux,\n",
    "        name=\"flag_optnir_det\")\n",
    ")"
   ]
  },
  {
   "cell_type": "markdown",
   "metadata": {},
   "source": [
    "## X.c Summary of wavelength domains"
   ]
  },
  {
   "cell_type": "code",
   "execution_count": null,
   "metadata": {
    "collapsed": true
   },
   "outputs": [],
   "source": [
    "flag_obs = masterlist_catalogue['flag_optnir_obs']\n",
    "flag_det = masterlist_catalogue['flag_optnir_det']"
   ]
  },
  {
   "cell_type": "code",
   "execution_count": null,
   "metadata": {
    "collapsed": false
   },
   "outputs": [],
   "source": [
    "venn3(\n",
    "    [\n",
    "        np.sum(flag_obs == 4),\n",
    "        np.sum(flag_obs == 2),\n",
    "        np.sum(flag_obs == 6),\n",
    "        np.sum(flag_obs == 1),\n",
    "        np.sum(flag_obs == 5),\n",
    "        np.sum(flag_obs == 3),\n",
    "        np.sum(flag_obs == 7)\n",
    "    ],\n",
    "    set_labels=('Optical', 'near-IR', 'mid-IR'),\n",
    "    subset_label_formatter=lambda x: \"{}%\".format(int(100*x/len(flag_obs)))\n",
    ")\n",
    "plt.title(\"Wavelength domain observations\")"
   ]
  },
  {
   "cell_type": "code",
   "execution_count": null,
   "metadata": {
    "collapsed": false
   },
   "outputs": [],
   "source": [
    "venn3(\n",
    "    [\n",
    "        np.sum(flag_det[flag_obs == 7] == 4),\n",
    "        np.sum(flag_det[flag_obs == 7] == 2),\n",
    "        np.sum(flag_det[flag_obs == 7] == 6),\n",
    "        np.sum(flag_det[flag_obs == 7] == 1),\n",
    "        np.sum(flag_det[flag_obs == 7] == 5),\n",
    "        np.sum(flag_det[flag_obs == 7] == 3),\n",
    "        np.sum(flag_det[flag_obs == 7] == 7)\n",
    "    ],\n",
    "    set_labels=('mid-IR', 'near-IR', 'Optical'),\n",
    "    subset_label_formatter=lambda x: \"{}%\".format(int(100*x/np.sum(flag_det != 0)))\n",
    ")\n",
    "plt.title(\"Detection of the {} sources detected\\n in any wavelength domains \"\n",
    "          \"(among {} sources)\".format(\n",
    "              locale.format('%d', np.sum(flag_det != 0), grouping=True),\n",
    "              locale.format('%d', len(flag_det), grouping=True)))"
   ]
  },
  {
   "cell_type": "markdown",
   "metadata": {},
   "source": [
    "## XI - Cross-identification table\n",
    "\n",
    "We are producing a table associating to each HELP identifier, the identifiers of the sources in the pristine catalogue. This can be used to easily get additional information from them."
   ]
  },
  {
   "cell_type": "code",
   "execution_count": null,
   "metadata": {
    "collapsed": true
   },
   "outputs": [],
   "source": [
    "cross_ident_table = masterlist_catalogue[\n",
    "    'help_id', 'wfc_id', 'dxs_id', 'servs_intid', 'swire_intid', 'sparcs_intid']\n",
    "cross_ident_table.write(\"data/master_list_cross_ident_elais-n1.fits\")"
   ]
  },
  {
   "cell_type": "markdown",
   "metadata": {},
   "source": [
    "## XII - Cleaning and saving the master catalogue"
   ]
  },
  {
   "cell_type": "code",
   "execution_count": null,
   "metadata": {
    "collapsed": true
   },
   "outputs": [],
   "source": [
    "masterlist_catalogue.remove_columns([\n",
    "    'wfc_id', 'dxs_id', 'servs_intid', 'swire_intid', 'sparcs_intid'])"
   ]
  },
  {
   "cell_type": "code",
   "execution_count": null,
   "metadata": {
    "collapsed": true
   },
   "outputs": [],
   "source": [
    "# We may want to reorder the column even if this will be done at the ingestion in HeDaM."
   ]
  },
  {
   "cell_type": "code",
   "execution_count": null,
   "metadata": {
    "collapsed": true
   },
   "outputs": [],
   "source": [
    "masterlist_catalogue.write(\"data/master_catalogue_elais-n1.fits\")"
   ]
  }
 ],
 "metadata": {
  "anaconda-cloud": {},
  "kernelspec": {
   "display_name": "Python (herschelhelp_internal)",
   "language": "python",
   "name": "helpint"
  },
  "language_info": {
   "codemirror_mode": {
    "name": "ipython",
    "version": 3
   },
   "file_extension": ".py",
   "mimetype": "text/x-python",
   "name": "python",
   "nbconvert_exporter": "python",
   "pygments_lexer": "ipython3",
   "version": "3.6.1"
  }
 },
 "nbformat": 4,
 "nbformat_minor": 1
}
