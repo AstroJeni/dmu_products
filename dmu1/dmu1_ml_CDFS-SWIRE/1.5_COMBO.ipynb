{
 "cells": [
  {
   "cell_type": "markdown",
   "metadata": {},
   "source": [
    "# CDFS SWIRE master catalogue\n",
    "## Preparation of COMBO data\n",
    "\n",
    "Classifying Objects by Medium-Band Observations - a spectrophotometric 17-filter survey (COMBO-17). COMBO catalogue: the catalogue comes from `dmu0_COMBO-17`.\n",
    "\n",
    "In the catalogue, we keep:\n",
    "\n",
    "- The identifier (it's unique in the catalogue);\n",
    "- The position;\n",
    "- The stellarity;\n",
    "- The total magnitude (aperture magnitudes are not provided.\n",
    "\n",
    "We don't know when the maps have been observed. We will use the year of the reference paper."
   ]
  },
  {
   "cell_type": "code",
   "execution_count": 1,
   "metadata": {
    "collapsed": false
   },
   "outputs": [
    {
     "name": "stdout",
     "output_type": "stream",
     "text": [
      "This notebook was run with herschelhelp_internal version: \n",
      "f5975da (Wed Jul 12 18:03:06 2017 +0100)\n"
     ]
    }
   ],
   "source": [
    "from herschelhelp_internal import git_version\n",
    "print(\"This notebook was run with herschelhelp_internal version: \\n{}\".format(git_version()))"
   ]
  },
  {
   "cell_type": "code",
   "execution_count": 2,
   "metadata": {
    "collapsed": false
   },
   "outputs": [
    {
     "name": "stderr",
     "output_type": "stream",
     "text": [
      "/Users/rs548/anaconda/envs/herschelhelp_internal/lib/python3.6/site-packages/IPython/html.py:14: ShimWarning: The `IPython.html` package has been deprecated since IPython 4.0. You should import from `notebook` instead. `IPython.html.widgets` has moved to `ipywidgets`.\n",
      "  \"`IPython.html.widgets` has moved to `ipywidgets`.\", ShimWarning)\n"
     ]
    }
   ],
   "source": [
    "%matplotlib inline\n",
    "#%config InlineBackend.figure_format = 'svg'\n",
    "\n",
    "import matplotlib.pyplot as plt\n",
    "plt.rc('figure', figsize=(10, 6))\n",
    "\n",
    "from collections import OrderedDict\n",
    "import os\n",
    "\n",
    "from astropy import units as u\n",
    "from astropy import constants as const\n",
    "from astropy.coordinates import SkyCoord\n",
    "from astropy.table import Column, Table\n",
    "import numpy as np\n",
    "\n",
    "from herschelhelp_internal.flagging import  gaia_flag_column\n",
    "from herschelhelp_internal.masterlist import nb_astcor_diag_plot, remove_duplicates\n",
    "from herschelhelp_internal.utils import astrometric_correction, mag_to_flux, flux_to_mag"
   ]
  },
  {
   "cell_type": "code",
   "execution_count": 3,
   "metadata": {
    "collapsed": true
   },
   "outputs": [],
   "source": [
    "OUT_DIR =  os.environ.get('TMP_DIR', \"./data_tmp\")\n",
    "try:\n",
    "    os.makedirs(OUT_DIR)\n",
    "except FileExistsError:\n",
    "    pass\n",
    "\n",
    "RA_COL = \"combo_ra\"\n",
    "DEC_COL = \"combo_dec\""
   ]
  },
  {
   "cell_type": "markdown",
   "metadata": {},
   "source": [
    "## I - Column selection"
   ]
  },
  {
   "cell_type": "code",
   "execution_count": 10,
   "metadata": {
    "collapsed": false
   },
   "outputs": [
    {
     "name": "stderr",
     "output_type": "stream",
     "text": [
      "WARNING: UnitsWarning: 'Mpc @H0=100' did not parse as fits unit: Invalid character at col 4 [astropy.units.core]\n",
      "WARNING: UnitsWarning: 'mag @H0=100' did not parse as fits unit: Invalid character at col 4 [astropy.units.core]\n",
      "WARNING: UnitsWarning: 'phot/m^2/s/nm' did not parse as fits unit: At col 0, Unit 'phot' not supported by the FITS standard. Did you mean photon? [astropy.units.core]\n"
     ]
    }
   ],
   "source": [
    "imported_columns = OrderedDict({\n",
    "    'Seq':'combo_id', \n",
    "    'ra':'combo_ra', \n",
    "    'dec':'combo_dec',  \n",
    "    #'dl':'combo_dl',\n",
    "    'stellarity':'combo_stellarity',\n",
    "    #'Rmag':'m_combo_r',    #The first bands are fitted absolute magnitudes\n",
    "    #'e_Rmag':'merr_combo_r',  \n",
    "    #'UjMag':'m_combo_uj',   \n",
    "    #'e_UjMag':'merr_combo_uj', \n",
    "    #'BjMag':'m_combo_bj',   \n",
    "    #'e_BjMag':'merr_combo_bj',\n",
    "    #'VjMag':'m_combo_vj',   \n",
    "    #'e_VjMag':'merr_combo_vj',\n",
    "    #'usMag':'m_combo_us',   \n",
    "    #'e_usMag':'merr_combo_us',\n",
    "    #'gsMag':'m_combo_gs',   \n",
    "    #'e_gsMag':'merr_combo_gs',\n",
    "    #'rsMag':'m_combo_rs',   \n",
    "    #'e_rsMag':'merr_combo_rs',\n",
    "    #'UbMag':'m_combo_ub',   \n",
    "    #'e_UbMag':'merr_combo_ub',\n",
    "    #'BbMag':'m_combo_bb',   \n",
    "    #'e_BbMag':'merr_combo_bb',\n",
    "    #'VbMag':'m_combo_vb',   \n",
    "    #'e_VbMag':'merr_combo_vb',\n",
    "    #'S280Mag':'m_combo_s280', \n",
    "    #'e_S280Mag':'merr_combo_s280',\n",
    "    ##'S145Mag':'m_combo_s145', \n",
    "    #'e_S145Mag':'merr_combo_s145',\n",
    "    'W420F_E':'f_combo_420', #The following values are given as fluxes\n",
    "    'e_W420F_E':'ferr_combo_420',\n",
    "    'W462F_E':'f_combo_462',\n",
    "    'e_W462F_E':'ferr_combo_462',\n",
    "    'W485F_D':'f_combo_485',\n",
    "    'e_W485F_D':'ferr_combo_485',\n",
    "    'W518F_E':'f_combo_518',\n",
    "    'e_W518F_E':'ferr_combo_518',\n",
    "    'W571F_S':'f_combo_571',   #Combined flux from two runs\n",
    "    'e_W571F_S':'ferr_combo_571',\n",
    "    'W604F_E':'f_combo_604',\n",
    "    'e_W604F_E':'ferr_combo_604',\n",
    "    'W646F_D':'f_combo_646',\n",
    "    'e_W646F_D':'ferr_combo_646',\n",
    "    'W696F_E':'f_combo_696',\n",
    "    'e_W696F_E':'ferr_combo_696',\n",
    "    'W753F_E':'f_combo_753',\n",
    "    'e_W753F_E':'ferr_combo_753',\n",
    "    'W815F_S':'f_combo_815',\n",
    "    'e_W815F_S':'ferr_combo_815',\n",
    "    'W856F_D':'f_combo_856',\n",
    "    'e_W856F_D':'ferr_combo_856',\n",
    "    'W914F_D':'f_combo_914', #Two runs but no combined - taking first\n",
    "    'e_W914F_D':'ferr_combo_914',\n",
    "    'UF_S':'f_combo_u',\n",
    "    'e_UF_S':'ferr_combo_u',\n",
    "    'BF_S':'f_combo_b',\n",
    "    'e_BF_S':'ferr_combo_b',\n",
    "    'VF_D':'f_combo_v',\n",
    "    'e_VF_D':'ferr_combo_v',\n",
    "    'RF_S':'f_combo_r',\n",
    "    'e_RF_S':'ferr_combo_r',\n",
    "    'IF_D':'f_combo_i',\n",
    "    'e_IF_D':'ferr_combo_i'\n",
    "    })\n",
    "\n",
    "\n",
    " \n",
    "\n",
    "catalogue = Table.read(\"../../dmu0/dmu0_COMBO-17/data/table3.fits\")[list(imported_columns)]\n",
    "for column in imported_columns:\n",
    "    catalogue[column].name = imported_columns[column]\n",
    "\n",
    "epoch = 2000 #table says 1999 to 2001\n",
    "\n",
    "# Clean table metadata\n",
    "catalogue.meta = None"
   ]
  },
  {
   "cell_type": "markdown",
   "metadata": {},
   "source": [
    "## Unit conversion\n",
    "The flux is presented in $\\textrm{photons} .\\textrm{s}^{-1} .  \\textrm{m}^{-2}  .\\textrm{nm}^{-1}$. We wish to convert these to micro Jansky; $10^{-32} \\textrm{ W} . \\textrm{m}^{-2}  . \\textrm{Hz}^{-1} $.\n",
    "\n",
    "To convert $\\textrm{photons} . \\textrm{s}^{-1} $ to $\\textrm{W}$ we must multiply by the average photon energy $h c / \\lambda$. We presume that the COMBO mid point wavelength was used.\n",
    "\n",
    "To convert $\\textrm{nm}^{-1}$ to $\\textrm{Hz}^{-1}$ we must differenciate:\n",
    "\n",
    "$c = \\nu \\lambda $\n",
    "\n",
    "$\\nu = c / \\lambda$\n",
    "\n",
    "$\\frac{d \\nu}{d \\lambda} = - c /\\lambda^{2}$\n",
    "\n",
    "$d \\lambda = -  (\\lambda^{2} / c )\\times d \\nu$\n",
    "\n",
    "\n",
    "\n",
    "The net result of this is to multiply by $\\lambda^2 / c$.\n",
    "\n",
    "Combining these two unit conversions leads to overall multiplying by $ h \\lambda$:\n",
    "\n",
    "$(\\lambda^2 / c ) \\times (h c / \\lambda) = h \\lambda$\n",
    "\n",
    "$\\frac{\\lambda^2 }{ c } \\times \\frac{h c }{ \\lambda} = h \\lambda$"
   ]
  },
  {
   "cell_type": "code",
   "execution_count": 49,
   "metadata": {
    "collapsed": false
   },
   "outputs": [
    {
     "name": "stdout",
     "output_type": "stream",
     "text": [
      "flux_lambda: 0.0064185 1 / (m2 nm s)\n",
      "flux_nu: 1.78623595647189e-33 J / m2\n",
      "flux_nu in Jy: 1.7862359564718896e-07 Jy\n"
     ]
    }
   ],
   "source": [
    "#Example conversion from photon s^-1 m^-2 nm^-1 to Jy\n",
    "flux_lambda = 0.0064185 * (u.m **-2) * (u.s ** -1) *( u.nm ** -1)\n",
    "\n",
    "wavelength = 420 * u.nm\n",
    "flux_nu = flux_lambda * const.h *  wavelength\n",
    "print('flux_lambda:', flux_lambda)\n",
    "#print('f_lambda:', flux_lambda.decompose())\n",
    "print('flux_nu:', flux_nu)\n",
    "print('flux_nu in Jy:',flux_nu.to(u.Jy))\n"
   ]
  },
  {
   "cell_type": "code",
   "execution_count": 11,
   "metadata": {
    "collapsed": false
   },
   "outputs": [
    {
     "name": "stderr",
     "output_type": "stream",
     "text": [
      "/Users/rs548/GitHub/herschelhelp_internal/herschelhelp_internal/utils.py:76: RuntimeWarning: invalid value encountered in log10\n",
      "  magnitudes = 2.5 * (23 - np.log10(fluxes)) - 48.6\n"
     ]
    }
   ],
   "source": [
    "#Replace 0.0 with NaN values\n",
    "for col in catalogue.colnames:\n",
    "    if col.startswith('m'): # | col.endswith('ra') | col.endswith('dec'):\n",
    "        catalogue[col][np.where(catalogue[col] == 0.0)] = np.nan\n",
    "\n",
    "# Add flux and band-flag columns\n",
    "for col in catalogue.colnames:\n",
    "    if col.startswith('f_'):\n",
    "        catalogue[col] = catalogue[col] \n",
    "        errcol = \"ferr{}\".format(col[1:])\n",
    "        magnitude, error = flux_to_mag(np.array(catalogue[col])*1.e-6, np.array(catalogue[errcol])*1.e-6)\n",
    "\n",
    "        # Fluxes are added in µJy\n",
    "        catalogue.add_column(Column(magnitude, name=\"m{}\".format(col[1:])))\n",
    "        catalogue.add_column(Column(error, name=\"m{}\".format(errcol[1:])))\n",
    "        \n",
    "        #We add NAN filled aperture columns because no aperture fluxes are present\n",
    "        nancol = np.zeros(len(catalogue))\n",
    "        nancol.fill(np.nan)\n",
    "        catalogue.add_column(Column(nancol, \n",
    "                                    name=\"m_ap{}\".format(col[1:])))\n",
    "        catalogue.add_column(Column(nancol, \n",
    "                                    name=\"merr_ap{}\".format(col[1:])))\n",
    "        catalogue.add_column(Column(nancol, \n",
    "                                    name=\"f_ap{}\".format(col[1:])))\n",
    "        catalogue.add_column(Column(nancol, \n",
    "                                    name=\"ferr_ap{}\".format(col[1:])))\n",
    "        \n",
    "        # \n",
    "        \n",
    "        # Band-flag column\n",
    "        catalogue.add_column(Column(np.zeros(len(catalogue), dtype=bool), name=\"flag{}\".format(col[1:])))"
   ]
  },
  {
   "cell_type": "code",
   "execution_count": 12,
   "metadata": {
    "collapsed": false
   },
   "outputs": [
    {
     "data": {
      "text/html": [
       "&lt;Table masked=True length=10&gt;\n",
       "<table id=\"table4640612648-352799\" class=\"table-striped table-bordered table-condensed\">\n",
       "<thead><tr><th>idx</th><th>combo_id</th><th>combo_ra</th><th>combo_dec</th><th>combo_stellarity</th><th>f_combo_420</th><th>ferr_combo_420</th><th>f_combo_462</th><th>ferr_combo_462</th><th>f_combo_485</th><th>ferr_combo_485</th><th>f_combo_518</th><th>ferr_combo_518</th><th>f_combo_571</th><th>ferr_combo_571</th><th>f_combo_604</th><th>ferr_combo_604</th><th>f_combo_646</th><th>ferr_combo_646</th><th>f_combo_696</th><th>ferr_combo_696</th><th>f_combo_753</th><th>ferr_combo_753</th><th>f_combo_815</th><th>ferr_combo_815</th><th>f_combo_856</th><th>ferr_combo_856</th><th>f_combo_914</th><th>ferr_combo_914</th><th>f_combo_u</th><th>ferr_combo_u</th><th>f_combo_b</th><th>ferr_combo_b</th><th>f_combo_v</th><th>ferr_combo_v</th><th>f_combo_r</th><th>ferr_combo_r</th><th>f_combo_i</th><th>ferr_combo_i</th><th>m_combo_420</th><th>merr_combo_420</th><th>m_ap_combo_420</th><th>merr_ap_combo_420</th><th>f_ap_combo_420</th><th>ferr_ap_combo_420</th><th>flag_combo_420</th><th>m_combo_462</th><th>merr_combo_462</th><th>m_ap_combo_462</th><th>merr_ap_combo_462</th><th>f_ap_combo_462</th><th>ferr_ap_combo_462</th><th>flag_combo_462</th><th>m_combo_485</th><th>merr_combo_485</th><th>m_ap_combo_485</th><th>merr_ap_combo_485</th><th>f_ap_combo_485</th><th>ferr_ap_combo_485</th><th>flag_combo_485</th><th>m_combo_518</th><th>merr_combo_518</th><th>m_ap_combo_518</th><th>merr_ap_combo_518</th><th>f_ap_combo_518</th><th>ferr_ap_combo_518</th><th>flag_combo_518</th><th>m_combo_571</th><th>merr_combo_571</th><th>m_ap_combo_571</th><th>merr_ap_combo_571</th><th>f_ap_combo_571</th><th>ferr_ap_combo_571</th><th>flag_combo_571</th><th>m_combo_604</th><th>merr_combo_604</th><th>m_ap_combo_604</th><th>merr_ap_combo_604</th><th>f_ap_combo_604</th><th>ferr_ap_combo_604</th><th>flag_combo_604</th><th>m_combo_646</th><th>merr_combo_646</th><th>m_ap_combo_646</th><th>merr_ap_combo_646</th><th>f_ap_combo_646</th><th>ferr_ap_combo_646</th><th>flag_combo_646</th><th>m_combo_696</th><th>merr_combo_696</th><th>m_ap_combo_696</th><th>merr_ap_combo_696</th><th>f_ap_combo_696</th><th>ferr_ap_combo_696</th><th>flag_combo_696</th><th>m_combo_753</th><th>merr_combo_753</th><th>m_ap_combo_753</th><th>merr_ap_combo_753</th><th>f_ap_combo_753</th><th>ferr_ap_combo_753</th><th>flag_combo_753</th><th>m_combo_815</th><th>merr_combo_815</th><th>m_ap_combo_815</th><th>merr_ap_combo_815</th><th>f_ap_combo_815</th><th>ferr_ap_combo_815</th><th>flag_combo_815</th><th>m_combo_856</th><th>merr_combo_856</th><th>m_ap_combo_856</th><th>merr_ap_combo_856</th><th>f_ap_combo_856</th><th>ferr_ap_combo_856</th><th>flag_combo_856</th><th>m_combo_914</th><th>merr_combo_914</th><th>m_ap_combo_914</th><th>merr_ap_combo_914</th><th>f_ap_combo_914</th><th>ferr_ap_combo_914</th><th>flag_combo_914</th><th>m_combo_u</th><th>merr_combo_u</th><th>m_ap_combo_u</th><th>merr_ap_combo_u</th><th>f_ap_combo_u</th><th>ferr_ap_combo_u</th><th>flag_combo_u</th><th>m_combo_b</th><th>merr_combo_b</th><th>m_ap_combo_b</th><th>merr_ap_combo_b</th><th>f_ap_combo_b</th><th>ferr_ap_combo_b</th><th>flag_combo_b</th><th>m_combo_v</th><th>merr_combo_v</th><th>m_ap_combo_v</th><th>merr_ap_combo_v</th><th>f_ap_combo_v</th><th>ferr_ap_combo_v</th><th>flag_combo_v</th><th>m_combo_r</th><th>merr_combo_r</th><th>m_ap_combo_r</th><th>merr_ap_combo_r</th><th>f_ap_combo_r</th><th>ferr_ap_combo_r</th><th>flag_combo_r</th><th>m_combo_i</th><th>merr_combo_i</th><th>m_ap_combo_i</th><th>merr_ap_combo_i</th><th>f_ap_combo_i</th><th>ferr_ap_combo_i</th><th>flag_combo_i</th></tr></thead>\n",
       "<thead><tr><th></th><th></th><th></th><th></th><th></th><th>phot/m^2/s/nm</th><th>phot/m^2/s/nm</th><th>phot/m^2/s/nm</th><th>phot/m^2/s/nm</th><th>phot/m^2/s/nm</th><th>phot/m^2/s/nm</th><th>phot/m^2/s/nm</th><th>phot/m^2/s/nm</th><th>phot/m^2/s/nm</th><th>phot/m^2/s/nm</th><th>phot/m^2/s/nm</th><th>phot/m^2/s/nm</th><th>phot/m^2/s/nm</th><th>phot/m^2/s/nm</th><th>phot/m^2/s/nm</th><th>phot/m^2/s/nm</th><th>phot/m^2/s/nm</th><th>phot/m^2/s/nm</th><th>phot/m^2/s/nm</th><th>phot/m^2/s/nm</th><th>phot/m^2/s/nm</th><th>phot/m^2/s/nm</th><th>phot/m^2/s/nm</th><th>phot/m^2/s/nm</th><th>phot/m^2/s/nm</th><th>phot/m^2/s/nm</th><th>phot/m^2/s/nm</th><th>phot/m^2/s/nm</th><th>phot/m^2/s/nm</th><th>phot/m^2/s/nm</th><th>phot/m^2/s/nm</th><th>phot/m^2/s/nm</th><th>phot/m^2/s/nm</th><th>phot/m^2/s/nm</th><th></th><th></th><th></th><th></th><th></th><th></th><th></th><th></th><th></th><th></th><th></th><th></th><th></th><th></th><th></th><th></th><th></th><th></th><th></th><th></th><th></th><th></th><th></th><th></th><th></th><th></th><th></th><th></th><th></th><th></th><th></th><th></th><th></th><th></th><th></th><th></th><th></th><th></th><th></th><th></th><th></th><th></th><th></th><th></th><th></th><th></th><th></th><th></th><th></th><th></th><th></th><th></th><th></th><th></th><th></th><th></th><th></th><th></th><th></th><th></th><th></th><th></th><th></th><th></th><th></th><th></th><th></th><th></th><th></th><th></th><th></th><th></th><th></th><th></th><th></th><th></th><th></th><th></th><th></th><th></th><th></th><th></th><th></th><th></th><th></th><th></th><th></th><th></th><th></th><th></th><th></th><th></th><th></th><th></th><th></th><th></th><th></th><th></th><th></th><th></th><th></th><th></th><th></th><th></th><th></th><th></th><th></th><th></th><th></th><th></th><th></th><th></th><th></th><th></th><th></th><th></th><th></th><th></th><th></th></tr></thead>\n",
       "<tr><td>0</td><td>7864</td><td>52.9043509407</td><td>-28.004407161</td><td>0.704</td><td>0.0064185</td><td>0.00297409</td><td>0.00875974</td><td>0.00258908</td><td>0.00924363</td><td>0.00384037</td><td>0.010762</td><td>0.00314495</td><td>0.00418278</td><td>0.00290015</td><td>0.00520915</td><td>0.00312953</td><td>0.0103215</td><td>0.00948629</td><td>0.00915815</td><td>0.00275962</td><td>0.0168907</td><td>0.00568383</td><td>0.00671985</td><td>0.00305952</td><td>0.0188677</td><td>0.00513084</td><td>0.0120776</td><td>0.00749415</td><td>0.00727563</td><td>0.00203166</td><td>0.00538465</td><td>0.00134767</td><td>0.00324916</td><td>0.00163189</td><td>0.00515757</td><td>0.000448774</td><td>0.00463687</td><td>0.00384278</td><td>29.3814</td><td>0.503089</td><td>nan</td><td>nan</td><td>nan</td><td>nan</td><td>False</td><td>29.0438</td><td>0.320907</td><td>nan</td><td>nan</td><td>nan</td><td>nan</td><td>False</td><td>28.9854</td><td>0.451081</td><td>nan</td><td>nan</td><td>nan</td><td>nan</td><td>False</td><td>28.8203</td><td>0.317282</td><td>nan</td><td>nan</td><td>nan</td><td>nan</td><td>False</td><td>29.8463</td><td>0.7528</td><td>nan</td><td>nan</td><td>nan</td><td>nan</td><td>False</td><td>29.6081</td><td>0.652284</td><td>nan</td><td>nan</td><td>nan</td><td>nan</td><td>False</td><td>28.8656</td><td>0.997878</td><td>nan</td><td>nan</td><td>nan</td><td>nan</td><td>False</td><td>28.9955</td><td>0.327164</td><td>nan</td><td>nan</td><td>nan</td><td>nan</td><td>False</td><td>28.3309</td><td>0.365356</td><td>nan</td><td>nan</td><td>nan</td><td>nan</td><td>False</td><td>29.3316</td><td>0.494331</td><td>nan</td><td>nan</td><td>nan</td><td>nan</td><td>False</td><td>28.2107</td><td>0.295253</td><td>nan</td><td>nan</td><td>nan</td><td>nan</td><td>False</td><td>28.695</td><td>0.673697</td><td>nan</td><td>nan</td><td>nan</td><td>nan</td><td>False</td><td>29.2453</td><td>0.303183</td><td>nan</td><td>nan</td><td>nan</td><td>nan</td><td>False</td><td>29.5721</td><td>0.271739</td><td>nan</td><td>nan</td><td>nan</td><td>nan</td><td>False</td><td>30.1206</td><td>0.545313</td><td>nan</td><td>nan</td><td>nan</td><td>nan</td><td>False</td><td>29.6189</td><td>0.0944727</td><td>nan</td><td>nan</td><td>nan</td><td>nan</td><td>False</td><td>29.7344</td><td>0.899797</td><td>nan</td><td>nan</td><td>nan</td><td>nan</td><td>False</td></tr>\n",
       "<tr><td>1</td><td>7867</td><td>52.9248830635</td><td>-28.0045354786</td><td>0.659</td><td>0.00463079</td><td>0.0032505</td><td>0.00338548</td><td>0.00308433</td><td>-0.000137605</td><td>0.00585987</td><td>-0.000174394</td><td>0.00486506</td><td>0.000402967</td><td>0.00304126</td><td>0.00648565</td><td>0.00318298</td><td>0.0169759</td><td>0.0107069</td><td>0.00969231</td><td>0.00308387</td><td>-0.00404857</td><td>0.0163453</td><td>0.0131301</td><td>0.00510829</td><td>0.004714</td><td>0.00706417</td><td>0.00619553</td><td>0.00761731</td><td>0.00419335</td><td>0.00211581</td><td>0.00480832</td><td>0.00113224</td><td>0.00663834</td><td>0.0015068</td><td>0.00521354</td><td>0.000465252</td><td>0.00876837</td><td>0.00369139</td><td>29.7359</td><td>0.762113</td><td>nan</td><td>nan</td><td>nan</td><td>nan</td><td>False</td><td>30.076</td><td>0.989154</td><td>nan</td><td>nan</td><td>nan</td><td>nan</td><td>False</td><td>nan</td><td>-46.2356</td><td>nan</td><td>nan</td><td>nan</td><td>nan</td><td>False</td><td>nan</td><td>-30.2888</td><td>nan</td><td>nan</td><td>nan</td><td>nan</td><td>False</td><td>32.3868</td><td>8.19424</td><td>nan</td><td>nan</td><td>nan</td><td>nan</td><td>False</td><td>29.3701</td><td>0.532849</td><td>nan</td><td>nan</td><td>nan</td><td>nan</td><td>False</td><td>28.3254</td><td>0.684788</td><td>nan</td><td>nan</td><td>nan</td><td>nan</td><td>False</td><td>28.9339</td><td>0.345457</td><td>nan</td><td>nan</td><td>nan</td><td>nan</td><td>False</td><td>nan</td><td>-4.38344</td><td>nan</td><td>nan</td><td>nan</td><td>nan</td><td>False</td><td>28.6043</td><td>0.422406</td><td>nan</td><td>nan</td><td>nan</td><td>nan</td><td>False</td><td>29.7165</td><td>1.62703</td><td>nan</td><td>nan</td><td>nan</td><td>nan</td><td>False</td><td>29.4198</td><td>1.3349</td><td>nan</td><td>nan</td><td>nan</td><td>nan</td><td>False</td><td>29.8436</td><td>0.547823</td><td>nan</td><td>nan</td><td>nan</td><td>nan</td><td>False</td><td>29.695</td><td>0.255665</td><td>nan</td><td>nan</td><td>nan</td><td>nan</td><td>False</td><td>29.3449</td><td>0.246445</td><td>nan</td><td>nan</td><td>nan</td><td>nan</td><td>False</td><td>29.6072</td><td>0.0968902</td><td>nan</td><td>nan</td><td>nan</td><td>nan</td><td>False</td><td>29.0427</td><td>0.457083</td><td>nan</td><td>nan</td><td>nan</td><td>nan</td><td>False</td></tr>\n",
       "<tr><td>2</td><td>7868</td><td>52.8874689235</td><td>-28.0044207329</td><td>0.15</td><td>0.00152323</td><td>0.00272541</td><td>0.00848082</td><td>0.00312976</td><td>0.00299487</td><td>0.00378812</td><td>0.00377467</td><td>0.00359369</td><td>0.0032281</td><td>0.00350627</td><td>0.00776273</td><td>0.00369708</td><td>-0.00409093</td><td>0.00683444</td><td>0.00604675</td><td>0.00298109</td><td>0.00472501</td><td>0.00430161</td><td>0.0149203</td><td>0.0034194</td><td>0.0187631</td><td>0.00661381</td><td>0.0424033</td><td>0.00684939</td><td>0.00421909</td><td>0.00203462</td><td>0.00124577</td><td>0.00104905</td><td>0.00355616</td><td>0.00125972</td><td>0.00536856</td><td>0.000396934</td><td>0.0225957</td><td>0.00388995</td><td>30.9431</td><td>1.94262</td><td>nan</td><td>nan</td><td>nan</td><td>nan</td><td>False</td><td>29.0789</td><td>0.40068</td><td>nan</td><td>nan</td><td>nan</td><td>nan</td><td>False</td><td>30.2091</td><td>1.37331</td><td>nan</td><td>nan</td><td>nan</td><td>nan</td><td>False</td><td>29.9578</td><td>1.03368</td><td>nan</td><td>nan</td><td>nan</td><td>nan</td><td>False</td><td>30.1276</td><td>1.1793</td><td>nan</td><td>nan</td><td>nan</td><td>nan</td><td>False</td><td>29.175</td><td>0.517093</td><td>nan</td><td>nan</td><td>nan</td><td>nan</td><td>False</td><td>nan</td><td>-1.81386</td><td>nan</td><td>nan</td><td>nan</td><td>nan</td><td>False</td><td>29.4462</td><td>0.535276</td><td>nan</td><td>nan</td><td>nan</td><td>nan</td><td>False</td><td>29.714</td><td>0.988444</td><td>nan</td><td>nan</td><td>nan</td><td>nan</td><td>False</td><td>28.4656</td><td>0.248827</td><td>nan</td><td>nan</td><td>nan</td><td>nan</td><td>False</td><td>28.2167</td><td>0.382712</td><td>nan</td><td>nan</td><td>nan</td><td>nan</td><td>False</td><td>27.3315</td><td>0.175379</td><td>nan</td><td>nan</td><td>nan</td><td>nan</td><td>False</td><td>29.837</td><td>0.523586</td><td>nan</td><td>nan</td><td>nan</td><td>nan</td><td>False</td><td>31.1614</td><td>0.914283</td><td>nan</td><td>nan</td><td>nan</td><td>nan</td><td>False</td><td>30.0225</td><td>0.384606</td><td>nan</td><td>nan</td><td>nan</td><td>nan</td><td>False</td><td>29.5754</td><td>0.0802759</td><td>nan</td><td>nan</td><td>nan</td><td>nan</td><td>False</td><td>28.0149</td><td>0.186915</td><td>nan</td><td>nan</td><td>nan</td><td>nan</td><td>False</td></tr>\n",
       "<tr><td>3</td><td>7875</td><td>52.8439537238</td><td>-28.00426117</td><td>0.673</td><td>-0.000128757</td><td>0.002704</td><td>0.00355115</td><td>0.00268296</td><td>0.00321908</td><td>0.00525595</td><td>0.00410222</td><td>0.00449129</td><td>0.00865924</td><td>0.00502994</td><td>0.00202056</td><td>0.00401471</td><td>0.00699884</td><td>0.00768352</td><td>0.00579463</td><td>0.00313958</td><td>0.0155168</td><td>0.00613744</td><td>0.0122474</td><td>0.00332623</td><td>0.019902</td><td>0.00545365</td><td>0.00242355</td><td>0.00785777</td><td>0.000860018</td><td>0.0019374</td><td>0.00101368</td><td>0.00106395</td><td>0.00494573</td><td>0.00148753</td><td>0.00485464</td><td>0.000441463</td><td>0.0083227</td><td>0.00371868</td><td>nan</td><td>-22.8014</td><td>nan</td><td>nan</td><td>nan</td><td>nan</td><td>False</td><td>30.0241</td><td>0.820293</td><td>nan</td><td>nan</td><td>nan</td><td>nan</td><td>False</td><td>30.1307</td><td>1.77273</td><td>nan</td><td>nan</td><td>nan</td><td>nan</td><td>False</td><td>29.8675</td><td>1.18871</td><td>nan</td><td>nan</td><td>nan</td><td>nan</td><td>False</td><td>29.0563</td><td>0.630678</td><td>nan</td><td>nan</td><td>nan</td><td>nan</td><td>False</td><td>30.6363</td><td>2.15729</td><td>nan</td><td>nan</td><td>nan</td><td>nan</td><td>False</td><td>29.2874</td><td>1.19195</td><td>nan</td><td>nan</td><td>nan</td><td>nan</td><td>False</td><td>29.4924</td><td>0.588262</td><td>nan</td><td>nan</td><td>nan</td><td>nan</td><td>False</td><td>28.423</td><td>0.429448</td><td>nan</td><td>nan</td><td>nan</td><td>nan</td><td>False</td><td>28.6799</td><td>0.294872</td><td>nan</td><td>nan</td><td>nan</td><td>nan</td><td>False</td><td>28.1528</td><td>0.297519</td><td>nan</td><td>nan</td><td>nan</td><td>nan</td><td>False</td><td>30.4389</td><td>3.52024</td><td>nan</td><td>nan</td><td>nan</td><td>nan</td><td>False</td><td>31.5637</td><td>2.44588</td><td>nan</td><td>nan</td><td>nan</td><td>nan</td><td>False</td><td>31.3852</td><td>1.13958</td><td>nan</td><td>nan</td><td>nan</td><td>nan</td><td>False</td><td>29.6644</td><td>0.326557</td><td>nan</td><td>nan</td><td>nan</td><td>nan</td><td>False</td><td>29.6846</td><td>0.0987327</td><td>nan</td><td>nan</td><td>nan</td><td>nan</td><td>False</td><td>29.0993</td><td>0.485119</td><td>nan</td><td>nan</td><td>nan</td><td>nan</td><td>False</td></tr>\n",
       "<tr><td>4</td><td>7885</td><td>53.0014692079</td><td>-28.0045796817</td><td>0.811</td><td>0.00581942</td><td>0.00378147</td><td>0.0108617</td><td>0.00271151</td><td>0.001893</td><td>0.00336044</td><td>0.00823688</td><td>0.00501484</td><td>0.00818861</td><td>0.00324341</td><td>0.00502902</td><td>0.00343446</td><td>0.00950016</td><td>0.00563068</td><td>0.00860797</td><td>0.0038057</td><td>0.0131617</td><td>0.00606408</td><td>0.000292486</td><td>0.00310653</td><td>0.00183838</td><td>0.00561281</td><td>0.0182595</td><td>0.00700958</td><td>0.00962079</td><td>0.0022135</td><td>0.00707889</td><td>0.00104728</td><td>0.00749568</td><td>0.0012779</td><td>0.00520082</td><td>0.000447489</td><td>0.00154925</td><td>0.00503535</td><td>29.4878</td><td>0.705513</td><td>nan</td><td>nan</td><td>nan</td><td>nan</td><td>False</td><td>28.8103</td><td>0.271044</td><td>nan</td><td>nan</td><td>nan</td><td>nan</td><td>False</td><td>30.7071</td><td>1.9274</td><td>nan</td><td>nan</td><td>nan</td><td>nan</td><td>False</td><td>29.1106</td><td>0.661026</td><td>nan</td><td>nan</td><td>nan</td><td>nan</td><td>False</td><td>29.117</td><td>0.430046</td><td>nan</td><td>nan</td><td>nan</td><td>nan</td><td>False</td><td>29.6463</td><td>0.741479</td><td>nan</td><td>nan</td><td>nan</td><td>nan</td><td>False</td><td>28.9557</td><td>0.643508</td><td>nan</td><td>nan</td><td>nan</td><td>nan</td><td>False</td><td>29.0628</td><td>0.480019</td><td>nan</td><td>nan</td><td>nan</td><td>nan</td><td>False</td><td>28.6017</td><td>0.500237</td><td>nan</td><td>nan</td><td>nan</td><td>nan</td><td>False</td><td>32.7347</td><td>11.5317</td><td>nan</td><td>nan</td><td>nan</td><td>nan</td><td>False</td><td>30.7389</td><td>3.31489</td><td>nan</td><td>nan</td><td>nan</td><td>nan</td><td>False</td><td>28.2463</td><td>0.416799</td><td>nan</td><td>nan</td><td>nan</td><td>nan</td><td>False</td><td>28.942</td><td>0.2498</td><td>nan</td><td>nan</td><td>nan</td><td>nan</td><td>False</td><td>29.2751</td><td>0.160628</td><td>nan</td><td>nan</td><td>nan</td><td>nan</td><td>False</td><td>29.213</td><td>0.185101</td><td>nan</td><td>nan</td><td>nan</td><td>nan</td><td>False</td><td>29.6098</td><td>0.093419</td><td>nan</td><td>nan</td><td>nan</td><td>nan</td><td>False</td><td>30.9247</td><td>3.52883</td><td>nan</td><td>nan</td><td>nan</td><td>nan</td><td>False</td></tr>\n",
       "<tr><td>5</td><td>7887</td><td>52.8518140423</td><td>-28.0042462602</td><td>0.539</td><td>0.00514167</td><td>0.00353689</td><td>0.00820861</td><td>0.00311851</td><td>-0.00370447</td><td>0.00681698</td><td>0.00408834</td><td>0.0043194</td><td>0.00412881</td><td>0.00411162</td><td>0.00456532</td><td>0.00376264</td><td>-0.00330883</td><td>0.00596726</td><td>0.00561114</td><td>0.00326967</td><td>0.0132651</td><td>0.00524003</td><td>0.00750362</td><td>0.00316442</td><td>0.030973</td><td>0.00756998</td><td>0.0212501</td><td>0.00610337</td><td>0.00493489</td><td>0.00185149</td><td>0.00277962</td><td>0.000834325</td><td>0.00511059</td><td>0.00182079</td><td>0.00361802</td><td>0.000508886</td><td>0.00944366</td><td>0.00450493</td><td>29.6222</td><td>0.746863</td><td>nan</td><td>nan</td><td>nan</td><td>nan</td><td>False</td><td>29.1143</td><td>0.412479</td><td>nan</td><td>nan</td><td>nan</td><td>nan</td><td>False</td><td>nan</td><td>-1.99797</td><td>nan</td><td>nan</td><td>nan</td><td>nan</td><td>False</td><td>29.8711</td><td>1.1471</td><td>nan</td><td>nan</td><td>nan</td><td>nan</td><td>False</td><td>29.8604</td><td>1.08121</td><td>nan</td><td>nan</td><td>nan</td><td>nan</td><td>False</td><td>29.7513</td><td>0.894841</td><td>nan</td><td>nan</td><td>nan</td><td>nan</td><td>False</td><td>nan</td><td>-1.95805</td><td>nan</td><td>nan</td><td>nan</td><td>nan</td><td>False</td><td>29.5274</td><td>0.63267</td><td>nan</td><td>nan</td><td>nan</td><td>nan</td><td>False</td><td>28.5932</td><td>0.428893</td><td>nan</td><td>nan</td><td>nan</td><td>nan</td><td>False</td><td>29.2118</td><td>0.457876</td><td>nan</td><td>nan</td><td>nan</td><td>nan</td><td>False</td><td>27.6725</td><td>0.265361</td><td>nan</td><td>nan</td><td>nan</td><td>nan</td><td>False</td><td>28.0816</td><td>0.311841</td><td>nan</td><td>nan</td><td>nan</td><td>nan</td><td>False</td><td>29.6668</td><td>0.407351</td><td>nan</td><td>nan</td><td>nan</td><td>nan</td><td>False</td><td>30.29</td><td>0.325893</td><td>nan</td><td>nan</td><td>nan</td><td>nan</td><td>False</td><td>29.6288</td><td>0.386825</td><td>nan</td><td>nan</td><td>nan</td><td>nan</td><td>False</td><td>30.0038</td><td>0.152712</td><td>nan</td><td>nan</td><td>nan</td><td>nan</td><td>False</td><td>28.9622</td><td>0.517931</td><td>nan</td><td>nan</td><td>nan</td><td>nan</td><td>False</td></tr>\n",
       "<tr><td>6</td><td>7894</td><td>53.0542662631</td><td>-28.0046649671</td><td>0.649</td><td>0.00633998</td><td>0.00381262</td><td>-0.00232804</td><td>0.00390136</td><td>-0.000417442</td><td>0.00735444</td><td>0.00657333</td><td>0.00336608</td><td>0.000383581</td><td>0.00289406</td><td>0.00207858</td><td>0.00402535</td><td>0.0126184</td><td>0.00633334</td><td>0.0168703</td><td>0.00341211</td><td>0.00950193</td><td>0.00542406</td><td>0.0113573</td><td>0.00298699</td><td>0.016616</td><td>0.00545916</td><td>0.0134934</td><td>0.00720157</td><td>0.00502285</td><td>0.00240667</td><td>0.00162904</td><td>0.00103082</td><td>0.000271607</td><td>0.0013044</td><td>0.0042493</td><td>0.00048725</td><td>0.00781453</td><td>0.00395648</td><td>29.3948</td><td>0.65292</td><td>nan</td><td>nan</td><td>nan</td><td>nan</td><td>False</td><td>nan</td><td>-1.81949</td><td>nan</td><td>nan</td><td>nan</td><td>nan</td><td>False</td><td>nan</td><td>-19.1284</td><td>nan</td><td>nan</td><td>nan</td><td>nan</td><td>False</td><td>29.3555</td><td>0.555984</td><td>nan</td><td>nan</td><td>nan</td><td>nan</td><td>False</td><td>32.4404</td><td>8.19172</td><td>nan</td><td>nan</td><td>nan</td><td>nan</td><td>False</td><td>30.6056</td><td>2.10262</td><td>nan</td><td>nan</td><td>nan</td><td>nan</td><td>False</td><td>28.6475</td><td>0.544945</td><td>nan</td><td>nan</td><td>nan</td><td>nan</td><td>False</td><td>28.3322</td><td>0.219596</td><td>nan</td><td>nan</td><td>nan</td><td>nan</td><td>False</td><td>28.9555</td><td>0.619779</td><td>nan</td><td>nan</td><td>nan</td><td>nan</td><td>False</td><td>28.7618</td><td>0.285551</td><td>nan</td><td>nan</td><td>nan</td><td>nan</td><td>False</td><td>28.3487</td><td>0.356717</td><td>nan</td><td>nan</td><td>nan</td><td>nan</td><td>False</td><td>28.5747</td><td>0.579468</td><td>nan</td><td>nan</td><td>nan</td><td>nan</td><td>False</td><td>29.6476</td><td>0.520224</td><td>nan</td><td>nan</td><td>nan</td><td>nan</td><td>False</td><td>30.8702</td><td>0.68703</td><td>nan</td><td>nan</td><td>nan</td><td>nan</td><td>False</td><td>32.8151</td><td>5.2143</td><td>nan</td><td>nan</td><td>nan</td><td>nan</td><td>False</td><td>29.8292</td><td>0.124497</td><td>nan</td><td>nan</td><td>nan</td><td>nan</td><td>False</td><td>29.1677</td><td>0.549706</td><td>nan</td><td>nan</td><td>nan</td><td>nan</td><td>False</td></tr>\n",
       "<tr><td>7</td><td>7895</td><td>53.0362850205</td><td>-28.0046263561</td><td>0.851</td><td>0.0018803</td><td>0.00324508</td><td>0.00329633</td><td>0.00332421</td><td>-0.00351172</td><td>0.00449143</td><td>0.00202216</td><td>0.0034836</td><td>0.00929253</td><td>0.003249</td><td>0.0058004</td><td>0.00400439</td><td>-0.000488845</td><td>0.0056663</td><td>0.00637148</td><td>0.00343146</td><td>0.00647888</td><td>0.00641764</td><td>0.00299794</td><td>0.00362954</td><td>0.00889008</td><td>0.00616268</td><td>0.0147879</td><td>0.00781446</td><td>0.000203401</td><td>0.00284212</td><td>0.0030425</td><td>0.00101251</td><td>0.00568805</td><td>0.00138764</td><td>0.00573748</td><td>0.000476476</td><td>0.00917021</td><td>0.00399913</td><td>30.7144</td><td>1.87379</td><td>nan</td><td>nan</td><td>nan</td><td>nan</td><td>False</td><td>30.1049</td><td>1.09492</td><td>nan</td><td>nan</td><td>nan</td><td>nan</td><td>False</td><td>nan</td><td>-1.38864</td><td>nan</td><td>nan</td><td>nan</td><td>nan</td><td>False</td><td>30.6355</td><td>1.87041</td><td>nan</td><td>nan</td><td>nan</td><td>nan</td><td>False</td><td>28.9797</td><td>0.379612</td><td>nan</td><td>nan</td><td>nan</td><td>nan</td><td>False</td><td>29.4914</td><td>0.749553</td><td>nan</td><td>nan</td><td>nan</td><td>nan</td><td>False</td><td>nan</td><td>-12.585</td><td>nan</td><td>nan</td><td>nan</td><td>nan</td><td>False</td><td>29.3894</td><td>0.58474</td><td>nan</td><td>nan</td><td>nan</td><td>nan</td><td>False</td><td>29.3713</td><td>1.07547</td><td>nan</td><td>nan</td><td>nan</td><td>nan</td><td>False</td><td>30.2079</td><td>1.31448</td><td>nan</td><td>nan</td><td>nan</td><td>nan</td><td>False</td><td>29.0277</td><td>0.752642</td><td>nan</td><td>nan</td><td>nan</td><td>nan</td><td>False</td><td>28.4752</td><td>0.573743</td><td>nan</td><td>nan</td><td>nan</td><td>nan</td><td>False</td><td>33.1291</td><td>15.171</td><td>nan</td><td>nan</td><td>nan</td><td>nan</td><td>False</td><td>30.1919</td><td>0.36132</td><td>nan</td><td>nan</td><td>nan</td><td>nan</td><td>False</td><td>29.5126</td><td>0.264873</td><td>nan</td><td>nan</td><td>nan</td><td>nan</td><td>False</td><td>29.5032</td><td>0.0901664</td><td>nan</td><td>nan</td><td>nan</td><td>nan</td><td>False</td><td>28.9941</td><td>0.47349</td><td>nan</td><td>nan</td><td>nan</td><td>nan</td><td>False</td></tr>\n",
       "<tr><td>8</td><td>7901</td><td>52.9945313501</td><td>-28.0043777052</td><td>0.446</td><td>0.00719767</td><td>0.00294578</td><td>0.0119218</td><td>0.00453761</td><td>0.00222782</td><td>0.00323955</td><td>0.00415028</td><td>0.00386146</td><td>0.00680326</td><td>0.00302087</td><td>0.00461962</td><td>0.00424037</td><td>0.0109642</td><td>0.00790343</td><td>0.00753001</td><td>0.00314068</td><td>0.0157673</td><td>0.00596014</td><td>0.0084462</td><td>0.00282609</td><td>0.0191813</td><td>0.00680576</td><td>0.00368453</td><td>0.00709246</td><td>0.00759308</td><td>0.00203961</td><td>0.00533281</td><td>0.00102693</td><td>0.00563681</td><td>0.0015376</td><td>0.00426097</td><td>0.000426706</td><td>0.00549394</td><td>0.00389908</td><td>29.257</td><td>0.444358</td><td>nan</td><td>nan</td><td>nan</td><td>nan</td><td>False</td><td>28.7091</td><td>0.413246</td><td>nan</td><td>nan</td><td>nan</td><td>nan</td><td>False</td><td>30.5303</td><td>1.5788</td><td>nan</td><td>nan</td><td>nan</td><td>nan</td><td>False</td><td>29.8548</td><td>1.01018</td><td>nan</td><td>nan</td><td>nan</td><td>nan</td><td>False</td><td>29.3182</td><td>0.482102</td><td>nan</td><td>nan</td><td>nan</td><td>nan</td><td>False</td><td>29.7385</td><td>0.996601</td><td>nan</td><td>nan</td><td>nan</td><td>nan</td><td>False</td><td>28.8001</td><td>0.782639</td><td>nan</td><td>nan</td><td>nan</td><td>nan</td><td>False</td><td>29.208</td><td>0.452847</td><td>nan</td><td>nan</td><td>nan</td><td>nan</td><td>False</td><td>28.4056</td><td>0.410415</td><td>nan</td><td>nan</td><td>nan</td><td>nan</td><td>False</td><td>29.0833</td><td>0.363287</td><td>nan</td><td>nan</td><td>nan</td><td>nan</td><td>False</td><td>28.1928</td><td>0.385231</td><td>nan</td><td>nan</td><td>nan</td><td>nan</td><td>False</td><td>29.984</td><td>2.08996</td><td>nan</td><td>nan</td><td>nan</td><td>nan</td><td>False</td><td>29.199</td><td>0.291644</td><td>nan</td><td>nan</td><td>nan</td><td>nan</td><td>False</td><td>29.5826</td><td>0.209078</td><td>nan</td><td>nan</td><td>nan</td><td>nan</td><td>False</td><td>29.5224</td><td>0.296166</td><td>nan</td><td>nan</td><td>nan</td><td>nan</td><td>False</td><td>29.8262</td><td>0.108729</td><td>nan</td><td>nan</td><td>nan</td><td>nan</td><td>False</td><td>29.5503</td><td>0.770553</td><td>nan</td><td>nan</td><td>nan</td><td>nan</td><td>False</td></tr>\n",
       "<tr><td>9</td><td>7904</td><td>52.9548080832</td><td>-28.0044722793</td><td>0.818</td><td>0.0135754</td><td>0.00335201</td><td>0.00367499</td><td>0.00313055</td><td>0.00803576</td><td>0.00443378</td><td>0.00883589</td><td>0.00417468</td><td>0.00485626</td><td>0.003277</td><td>0.0126173</td><td>0.00316208</td><td>0.00769668</td><td>0.00857697</td><td>0.00993884</td><td>0.00431794</td><td>0.00427411</td><td>0.00563376</td><td>0.0070943</td><td>0.00370879</td><td>0.0142282</td><td>0.00829986</td><td>0.0118764</td><td>0.00701846</td><td>0.00375018</td><td>0.00232993</td><td>0.00499806</td><td>0.0010646</td><td>0.00667525</td><td>0.00201787</td><td>0.00699592</td><td>0.000525532</td><td>0.00223625</td><td>0.00581933</td><td>28.5681</td><td>0.268088</td><td>nan</td><td>nan</td><td>nan</td><td>nan</td><td>False</td><td>29.9869</td><td>0.92489</td><td>nan</td><td>nan</td><td>nan</td><td>nan</td><td>False</td><td>29.1374</td><td>0.599061</td><td>nan</td><td>nan</td><td>nan</td><td>nan</td><td>False</td><td>29.0344</td><td>0.512976</td><td>nan</td><td>nan</td><td>nan</td><td>nan</td><td>False</td><td>29.6842</td><td>0.732654</td><td>nan</td><td>nan</td><td>nan</td><td>nan</td><td>False</td><td>28.6476</td><td>0.272102</td><td>nan</td><td>nan</td><td>nan</td><td>nan</td><td>False</td><td>29.1842</td><td>1.20991</td><td>nan</td><td>nan</td><td>nan</td><td>nan</td><td>False</td><td>28.9067</td><td>0.471699</td><td>nan</td><td>nan</td><td>nan</td><td>nan</td><td>False</td><td>29.8229</td><td>1.43112</td><td>nan</td><td>nan</td><td>nan</td><td>nan</td><td>False</td><td>29.2727</td><td>0.567605</td><td>nan</td><td>nan</td><td>nan</td><td>nan</td><td>False</td><td>28.5171</td><td>0.633351</td><td>nan</td><td>nan</td><td>nan</td><td>nan</td><td>False</td><td>28.7133</td><td>0.641625</td><td>nan</td><td>nan</td><td>nan</td><td>nan</td><td>False</td><td>29.9649</td><td>0.674553</td><td>nan</td><td>nan</td><td>nan</td><td>nan</td><td>False</td><td>29.653</td><td>0.231265</td><td>nan</td><td>nan</td><td>nan</td><td>nan</td><td>False</td><td>29.3388</td><td>0.328209</td><td>nan</td><td>nan</td><td>nan</td><td>nan</td><td>False</td><td>29.2879</td><td>0.0815603</td><td>nan</td><td>nan</td><td>nan</td><td>nan</td><td>False</td><td>30.5262</td><td>2.82537</td><td>nan</td><td>nan</td><td>nan</td><td>nan</td><td>False</td></tr>\n",
       "</table><style>table.dataTable {clear: both; width: auto !important; margin: 0 !important;}\n",
       ".dataTables_info, .dataTables_length, .dataTables_filter, .dataTables_paginate{\n",
       "display: inline-block; margin-right: 1em; }\n",
       ".paginate_button { margin-right: 5px; }\n",
       "</style>\n",
       "<script>\n",
       "\n",
       "var astropy_sort_num = function(a, b) {\n",
       "    var a_num = parseFloat(a);\n",
       "    var b_num = parseFloat(b);\n",
       "\n",
       "    if (isNaN(a_num) && isNaN(b_num))\n",
       "        return ((a < b) ? -1 : ((a > b) ? 1 : 0));\n",
       "    else if (!isNaN(a_num) && !isNaN(b_num))\n",
       "        return ((a_num < b_num) ? -1 : ((a_num > b_num) ? 1 : 0));\n",
       "    else\n",
       "        return isNaN(a_num) ? -1 : 1;\n",
       "}\n",
       "\n",
       "require.config({paths: {\n",
       "    datatables: 'https://cdn.datatables.net/1.10.12/js/jquery.dataTables.min'\n",
       "}});\n",
       "require([\"datatables\"], function(){\n",
       "    console.log(\"$('#table4640612648-352799').dataTable()\");\n",
       "    \n",
       "jQuery.extend( jQuery.fn.dataTableExt.oSort, {\n",
       "    \"optionalnum-asc\": astropy_sort_num,\n",
       "    \"optionalnum-desc\": function (a,b) { return -astropy_sort_num(a, b); }\n",
       "});\n",
       "\n",
       "    $('#table4640612648-352799').dataTable({\n",
       "        order: [],\n",
       "        pageLength: 50,\n",
       "        lengthMenu: [[10, 25, 50, 100, 500, 1000, -1], [10, 25, 50, 100, 500, 1000, 'All']],\n",
       "        pagingType: \"full_numbers\",\n",
       "        columnDefs: [{targets: [0, 1, 2, 3, 4, 5, 6, 7, 8, 9, 10, 11, 12, 13, 14, 15, 16, 17, 18, 19, 20, 21, 22, 23, 24, 25, 26, 27, 28, 29, 30, 31, 32, 33, 34, 35, 36, 37, 38, 39, 40, 41, 42, 43, 44, 46, 47, 48, 49, 50, 51, 53, 54, 55, 56, 57, 58, 60, 61, 62, 63, 64, 65, 67, 68, 69, 70, 71, 72, 74, 75, 76, 77, 78, 79, 81, 82, 83, 84, 85, 86, 88, 89, 90, 91, 92, 93, 95, 96, 97, 98, 99, 100, 102, 103, 104, 105, 106, 107, 109, 110, 111, 112, 113, 114, 116, 117, 118, 119, 120, 121, 123, 124, 125, 126, 127, 128, 130, 131, 132, 133, 134, 135, 137, 138, 139, 140, 141, 142, 144, 145, 146, 147, 148, 149, 151, 152, 153, 154, 155, 156], type: \"optionalnum\"}]\n",
       "    });\n",
       "});\n",
       "</script>\n"
      ],
      "text/plain": [
       "<IPython.core.display.HTML object>"
      ]
     },
     "execution_count": 12,
     "metadata": {},
     "output_type": "execute_result"
    }
   ],
   "source": [
    "catalogue[:10].show_in_notebook()"
   ]
  },
  {
   "cell_type": "markdown",
   "metadata": {},
   "source": [
    "## II - Removal of duplicated sources"
   ]
  },
  {
   "cell_type": "markdown",
   "metadata": {},
   "source": [
    "We remove duplicated objects from the input catalogues."
   ]
  },
  {
   "cell_type": "code",
   "execution_count": null,
   "metadata": {
    "collapsed": false
   },
   "outputs": [],
   "source": [
    "SORT_COLS = ['merr_combo_r',  \n",
    "     'merr_combo_uj', \n",
    "     'merr_combo_bj',\n",
    "     'merr_combo_vj',\n",
    "     'merr_combo_us',\n",
    "     'merr_combo_gs',\n",
    "     'merr_combo_rs',\n",
    "     'merr_combo_ub',\n",
    "     'merr_combo_bb',\n",
    "     'merr_combo_vb',\n",
    "     'merr_combo_s280',\n",
    "     'merr_combo_s145']\n",
    "FLAG_NAME = 'combo_flag_cleaned'\n",
    "\n",
    "nb_orig_sources = len(catalogue)\n",
    "\n",
    "catalogue = remove_duplicates(catalogue, RA_COL, DEC_COL, sort_col=SORT_COLS,flag_name=FLAG_NAME)\n",
    "\n",
    "nb_sources = len(catalogue)\n",
    "\n",
    "print(\"The initial catalogue had {} sources.\".format(nb_orig_sources))\n",
    "print(\"The cleaned catalogue has {} sources ({} removed).\".format(nb_sources, nb_orig_sources - nb_sources))\n",
    "print(\"The cleaned catalogue has {} sources flagged as having been cleaned\".format(np.sum(catalogue[FLAG_NAME])))"
   ]
  },
  {
   "cell_type": "markdown",
   "metadata": {},
   "source": [
    "## III - Astrometry correction\n",
    "\n",
    "We match the astrometry to the Gaia one. We limit the Gaia catalogue to sources with a g band flux between the 30th and the 70th percentile. Some quick tests show that this give the lower dispersion in the results."
   ]
  },
  {
   "cell_type": "code",
   "execution_count": null,
   "metadata": {
    "collapsed": true
   },
   "outputs": [],
   "source": [
    "gaia = Table.read(\"../../dmu0/dmu0_GAIA/data/GAIA_CDFS-SWIRE.fits\")\n",
    "gaia_coords = SkyCoord(gaia['ra'], gaia['dec'])"
   ]
  },
  {
   "cell_type": "code",
   "execution_count": null,
   "metadata": {
    "collapsed": false
   },
   "outputs": [],
   "source": [
    "nb_astcor_diag_plot(catalogue[RA_COL], catalogue[DEC_COL], \n",
    "                    gaia_coords.ra, gaia_coords.dec)"
   ]
  },
  {
   "cell_type": "code",
   "execution_count": null,
   "metadata": {
    "collapsed": false
   },
   "outputs": [],
   "source": [
    "delta_ra, delta_dec =  astrometric_correction(\n",
    "    SkyCoord(catalogue[RA_COL], catalogue[DEC_COL]),\n",
    "    gaia_coords\n",
    ")\n",
    "\n",
    "print(\"RA correction: {}\".format(delta_ra))\n",
    "print(\"Dec correction: {}\".format(delta_dec))"
   ]
  },
  {
   "cell_type": "code",
   "execution_count": null,
   "metadata": {
    "collapsed": true
   },
   "outputs": [],
   "source": [
    "catalogue[RA_COL] +=  delta_ra.to(u.deg)\n",
    "catalogue[DEC_COL] += delta_dec.to(u.deg)"
   ]
  },
  {
   "cell_type": "code",
   "execution_count": null,
   "metadata": {
    "collapsed": false
   },
   "outputs": [],
   "source": [
    "nb_astcor_diag_plot(catalogue[RA_COL], catalogue[DEC_COL], \n",
    "                    gaia_coords.ra, gaia_coords.dec)"
   ]
  },
  {
   "cell_type": "markdown",
   "metadata": {},
   "source": [
    "## IV - Flagging Gaia objects"
   ]
  },
  {
   "cell_type": "code",
   "execution_count": null,
   "metadata": {
    "collapsed": true
   },
   "outputs": [],
   "source": [
    "catalogue.add_column(\n",
    "    gaia_flag_column(SkyCoord(catalogue[RA_COL], catalogue[DEC_COL]), epoch, gaia)\n",
    ")"
   ]
  },
  {
   "cell_type": "code",
   "execution_count": null,
   "metadata": {
    "collapsed": false
   },
   "outputs": [],
   "source": [
    "GAIA_FLAG_NAME = \"combo_flag_gaia\"\n",
    "\n",
    "catalogue['flag_gaia'].name = GAIA_FLAG_NAME\n",
    "print(\"{} sources flagged.\".format(np.sum(catalogue[GAIA_FLAG_NAME] > 0)))"
   ]
  },
  {
   "cell_type": "markdown",
   "metadata": {},
   "source": [
    "## V - Flagging objects near bright stars"
   ]
  },
  {
   "cell_type": "markdown",
   "metadata": {},
   "source": [
    "# VI - Saving to disk"
   ]
  },
  {
   "cell_type": "code",
   "execution_count": null,
   "metadata": {
    "collapsed": true
   },
   "outputs": [],
   "source": [
    "catalogue.write(\"{}/COMBO.fits\".format(OUT_DIR), overwrite=True)"
   ]
  }
 ],
 "metadata": {
  "anaconda-cloud": {},
  "kernelspec": {
   "display_name": "Python (herschelhelp_internal)",
   "language": "python",
   "name": "helpint"
  },
  "language_info": {
   "codemirror_mode": {
    "name": "ipython",
    "version": 3
   },
   "file_extension": ".py",
   "mimetype": "text/x-python",
   "name": "python",
   "nbconvert_exporter": "python",
   "pygments_lexer": "ipython3",
   "version": "3.6.1"
  }
 },
 "nbformat": 4,
 "nbformat_minor": 1
}
