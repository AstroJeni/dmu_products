{
 "cells": [
  {
   "cell_type": "markdown",
   "metadata": {},
   "source": [
    "# CDFS-SWIRE Master List Creation\n",
    "\n",
    "## Preparation of VIDEO/VISTA/VIRCAM data\n",
    "\n",
    "\n",
    "The catalogue comes from `dmu0_VISTA_VIDEO-private`.\n",
    "\n",
    "There is an old public version of the catalogue but we are using the newer private version in the hope that it will be public by the time we publish the masterlist.\n",
    "\n",
    "Filters: Z,Y,J,H,K \n",
    "\n",
    "In the catalogue, we keep:\n",
    "\n",
    "- The identifier (it's unique in the catalogue);\n",
    "- The position (degrees);\n",
    "- The stellarity;\n",
    "- The magnitude for each band in apertude 3, which is 2 arcsec (rs548 presumes same for private catalogue).\n",
    "- The “auto” magnitude is provided, we presume this is standard Sextractor units etc.\n",
    "\n",
    "Yannick said the dates of observation for VIDEO are from 2009/11 to 2016/12. There is a paper from 2012 (Jarvis et al). So will use 2012.\n",
    "\n"
   ]
  },
  {
   "cell_type": "code",
   "execution_count": 1,
   "metadata": {
    "collapsed": false
   },
   "outputs": [
    {
     "name": "stdout",
     "output_type": "stream",
     "text": [
      "This notebook was run with herschelhelp_internal version: \n",
      "c40aaa9 (Wed May 31 17:58:17 2017 +0100) [with local modifications]\n"
     ]
    }
   ],
   "source": [
    "from herschelhelp_internal import git_version\n",
    "print(\"This notebook was run with herschelhelp_internal version: \\n{}\".format(git_version()))"
   ]
  },
  {
   "cell_type": "code",
   "execution_count": 2,
   "metadata": {
    "collapsed": false
   },
   "outputs": [
    {
     "name": "stderr",
     "output_type": "stream",
     "text": [
      "/Users/rs548/anaconda/envs/herschelhelp_internal/lib/python3.6/site-packages/IPython/html.py:14: ShimWarning: The `IPython.html` package has been deprecated since IPython 4.0. You should import from `notebook` instead. `IPython.html.widgets` has moved to `ipywidgets`.\n",
      "  \"`IPython.html.widgets` has moved to `ipywidgets`.\", ShimWarning)\n"
     ]
    }
   ],
   "source": [
    "%matplotlib inline\n",
    "#%config InlineBackend.figure_format = 'svg'\n",
    "\n",
    "import matplotlib.pyplot as plt\n",
    "plt.rc('figure', figsize=(10, 6))\n",
    "\n",
    "from astropy.table import Column, Table\n",
    "from astropy import units as u\n",
    "from astropy.coordinates import SkyCoord\n",
    "import matplotlib as mpl\n",
    "import numpy as np\n",
    "import seaborn as sns\n",
    "from pymoc import MOC\n",
    "from matplotlib_venn import venn3\n",
    "\n",
    "from herschelhelp_internal import flagging, utils, masterlist, starmask"
   ]
  },
  {
   "cell_type": "code",
   "execution_count": 3,
   "metadata": {
    "collapsed": false
   },
   "outputs": [
    {
     "data": {
      "text/plain": [
       "'en_GB'"
      ]
     },
     "execution_count": 3,
     "metadata": {},
     "output_type": "execute_result"
    }
   ],
   "source": [
    "import locale\n",
    "locale.setlocale(locale.LC_ALL, 'en_GB')"
   ]
  },
  {
   "cell_type": "code",
   "execution_count": 4,
   "metadata": {
    "collapsed": true
   },
   "outputs": [],
   "source": [
    "import logging\n",
    "logger = logging.getLogger()\n",
    "logger.setLevel(logging.INFO)"
   ]
  },
  {
   "cell_type": "code",
   "execution_count": null,
   "metadata": {
    "collapsed": true
   },
   "outputs": [],
   "source": [
    "OUT_DIR =  os.environ.get('TMP_DIR', \"./data_tmp\")\n",
    "try:\n",
    "    os.makedirs(OUT_DIR)\n",
    "except FileExistsError:\n",
    "    pass\n",
    "\n",
    "RA_COL = \"wfc_ra\"\n",
    "DEC_COL = \"wfc_dec\""
   ]
  },
  {
   "cell_type": "markdown",
   "metadata": {},
   "source": [
    "## I - Column selection"
   ]
  },
  {
   "cell_type": "code",
   "execution_count": null,
   "metadata": {
    "collapsed": true
   },
   "outputs": [],
   "source": [
    "imported_columns = OrderedDict({\n",
    "        'ID':              'video_id', \n",
    "        'ALPHA_J2000':     'video_ra', \n",
    "        'DELTA_J2000':     'video_dec', \n",
    "        'J_CLASS_STAR':    'video_stellarity', \n",
    "        'Z_MAG_APER_3':    'm_ap_video_z', \n",
    "        'Z_MAGERR_APER_3': 'merr_ap_video_z', \n",
    "        'Z_MAG_AUTO':      'm_video_z', \n",
    "        'Z_MAGERR_AUTO':   'merr_video_z',\n",
    "        'Z_FLUX_APER_3':   'f_ap_video_z', \n",
    "        'Z_FLUXERR_APER_3':'ferr_ap_video_z', \n",
    "        'Z_FLUX_AUTO':     'f_video_z', \n",
    "        'Z_FLUXERR_AUTO':  'ferr_video_z',\n",
    "        'Y_MAG_APER_3':    'm_ap_video_y', \n",
    "        'Y_MAGERR_APER_3': 'merr_ap_video_y', \n",
    "        'Y_MAG_AUTO':      'm_video_y', \n",
    "        'Y_MAGERR_AUTO':   'merr_video_y',\n",
    "        'Y_FLUX_APER_3':   'f_ap_video_y', \n",
    "        'Y_FLUXERR_APER_3':'ferr_ap_video_y', \n",
    "        'Y_FLUX_AUTO':     'f_video_y', \n",
    "        'Y_FLUXERR_AUTO':  'ferr_video_y',\n",
    "        'J_MAG_APER_3':    'm_ap_video_j', \n",
    "        'J_MAGERR_APER_3': 'merr_ap_video_j', \n",
    "        'J_MAG_AUTO':      'm_video_j', \n",
    "        'J_MAGERR_AUTO':   'merr_video_j',\n",
    "        'J_FLUX_APER_3':   'f_ap_video_j', \n",
    "        'J_FLUXERR_APER_3':'ferr_ap_video_j', \n",
    "        'J_FLUX_AUTO':     'f_video_j', \n",
    "        'J_FLUXERR_AUTO':  'ferr_video_j',\n",
    "        'H_MAG_APER_3':    'm_ap_video_h', \n",
    "        'H_MAGERR_APER_3': 'merr_ap_video_h', \n",
    "        'H_MAG_AUTO':      'm_video_h', \n",
    "        'H_MAGERR_AUTO':   'merr_video_h',\n",
    "        'H_FLUX_APER_3':   'f_ap_video_h', \n",
    "        'H_FLUXERR_APER_3':'ferr_ap_video_h', \n",
    "        'H_FLUX_AUTO':     'f_video_h', \n",
    "        'H_FLUXERR_AUTO':  'ferr_video_h',    \n",
    "        'K_MAG_APER_3':    'm_ap_video_k', \n",
    "        'K_MAGERR_APER_3': 'merr_ap_video_k', \n",
    "        'K_MAG_AUTO':      'm_video_k', \n",
    "        'K_MAGERR_AUTO':   'merr_video_k',\n",
    "        'K_FLUX_APER_3':   'f_ap_video_k', \n",
    "        'K_FLUXERR_APER_3':'ferr_ap_video_k', \n",
    "        'K_FLUX_AUTO':     'f_video_k', \n",
    "        'K_FLUXERR_AUTO':  'ferr_video_k'\n",
    "})\n",
    "\n",
    "\n",
    "catalogue = Table.read(\"../../dmu0/dmu0_VISTA-VIDEO-private/data/VIDEO-all_2016-04-14_fullcat_errfix_CDFS-SWIRE.fits\"\n",
    "                      )[list(imported_columns)]\n",
    "for column in imported_columns:\n",
    "    catalogue[column].name = imported_columns[column]\n",
    "    \n",
    "    \n",
    "video_epoch = 2012\n",
    "#MOC made using stilts: stilts pixfoot in=VIDEO-all_2016-04-14_fullcat_errfix_ELAIS-S1.fits\n",
    "#out=VIDEO-all_2016-04-14_fullcat_errfix_ELAIS-S1_MOC.fits ra=ALPHA_J2000 dec=DELTA_J2000 order=13\n",
    "video_moc = MOC(filename=\"../../dmu0/dmu0_VISTA-VIDEO-private/data/VIDEO-all_2016-04-14_fullcat_errfix_CDFS-SWIRE_MOC.fits\")\n",
    "\n",
    "# Adding band-flag columns\n",
    "for col in video.colnames:\n",
    "    if col.startswith('m_'):\n",
    "        \n",
    "        #errcol = \"merr{}\".format(col[1:])\n",
    "        #flux, error = utils.mag_to_flux(np.array(video[col]), np.array(video[errcol]))\n",
    "\n",
    "        # Fluxes are added in µJy\n",
    "        #video.add_column(Column(flux * 1.e6, name=\"f{}\".format(col[1:])))\n",
    "        #video.add_column(Column(error * 1.e6, name=\"f{}\".format(errcol[1:])))\n",
    "        \n",
    "        # Band-flag column\n",
    "        video.add_column(Column(np.zeros(len(video), dtype=bool), name=\"flag{}\".format(col[1:])))\n",
    "        \n",
    "# TODO: Set to True the flag columns for fluxes that should not be used for SED fitting.\n"
   ]
  },
  {
   "cell_type": "code",
   "execution_count": 6,
   "metadata": {
    "collapsed": false
   },
   "outputs": [],
   "source": [
    "#Both flux and mag available in pristine catalogues\n",
    "#I think these are still 2 arcsec aperture phtometriers and need to be replaceed with 3 arcsec.\n",
    "#There is a PSTAR for each band and they vary quite a bit. I took the J band because it is in the middle\n",
    "video = Table.read(\"../../dmu0/dmu0_VISTA-VIDEO-private/data/VIDEO-all_2016-04-14_fullcat_errfix_CDFS-SWIRE.fits\")[\n",
    "    'ID', 'ALPHA_J2000', 'DELTA_J2000', 'J_CLASS_STAR',     \n",
    "    'Z_MAG_APER_3', 'Z_MAGERR_APER_3', 'Z_MAG_AUTO', 'Z_MAGERR_AUTO',\n",
    "    'Z_FLUX_APER_3', 'Z_FLUXERR_APER_3', 'Z_FLUX_AUTO', 'Z_FLUXERR_AUTO',\n",
    "    'Y_MAG_APER_3', 'Y_MAGERR_APER_3', 'Y_MAG_AUTO', 'Y_MAGERR_AUTO',\n",
    "    'Y_FLUX_APER_3', 'Y_FLUXERR_APER_3', 'Y_FLUX_AUTO', 'Y_FLUXERR_AUTO',\n",
    "    'J_MAG_APER_3', 'J_MAGERR_APER_3', 'J_MAG_AUTO', 'J_MAGERR_AUTO',\n",
    "    'J_FLUX_APER_3', 'J_FLUXERR_APER_3', 'J_FLUX_AUTO', 'J_FLUXERR_AUTO',\n",
    "    'H_MAG_APER_3', 'H_MAGERR_APER_3', 'H_MAG_AUTO', 'H_MAGERR_AUTO',\n",
    "    'H_FLUX_APER_3', 'H_FLUXERR_APER_3', 'H_FLUX_AUTO', 'H_FLUXERR_AUTO',\n",
    "    'K_MAG_APER_3', 'K_MAGERR_APER_3', 'K_MAG_AUTO', 'K_MAGERR_AUTO',\n",
    "    'K_FLUX_APER_3', 'K_FLUXERR_APER_3', 'K_FLUX_AUTO', 'K_FLUXERR_AUTO']\n",
    "video = Table(video.as_array(), names=[\n",
    "    'video_id', 'video_ra', 'video_dec', 'video_stellarity',\n",
    "    'm_ap_video_z', 'merr_ap_video_z', 'm_video_z', 'merr_video_z',\n",
    "    'f_ap_video_z', 'ferr_ap_video_z', 'f_video_z', 'ferr_video_z',\n",
    "    'm_ap_video_y', 'merr_ap_video_y', 'm_video_y', 'merr_video_y',\n",
    "    'f_ap_video_y', 'ferr_ap_video_y', 'f_video_y', 'ferr_video_y',\n",
    "    'm_ap_video_j', 'merr_ap_video_j', 'm_video_j', 'merr_video_j',\n",
    "    'f_ap_video_j', 'ferr_ap_video_j', 'f_video_j', 'ferr_video_j',\n",
    "    'm_ap_video_h', 'merr_ap_video_h', 'm_video_h', 'merr_video_h',\n",
    "    'f_ap_video_h', 'ferr_ap_video_h', 'f_video_h', 'ferr_video_h',\n",
    "    'm_ap_video_k', 'merr_ap_video_k', 'm_video_k', 'merr_video_k',\n",
    "    'f_ap_video_k', 'ferr_ap_video_k', 'f_video_k', 'ferr_video_k',\n",
    "])\n",
    "\n",
    "video_epoch = 2012\n",
    "#MOC made using stilts: stilts pixfoot in=VIDEO-all_2016-04-14_fullcat_errfix_ELAIS-S1.fits\n",
    "#out=VIDEO-all_2016-04-14_fullcat_errfix_ELAIS-S1_MOC.fits ra=ALPHA_J2000 dec=DELTA_J2000 order=13\n",
    "video_moc = MOC(filename=\"../../dmu0/dmu0_VISTA-VIDEO-private/data/VIDEO-all_2016-04-14_fullcat_errfix_CDFS-SWIRE_MOC.fits\")\n",
    "\n",
    "# Adding band-flag columns\n",
    "for col in video.colnames:\n",
    "    if col.startswith('m_'):\n",
    "        \n",
    "        #errcol = \"merr{}\".format(col[1:])\n",
    "        #flux, error = utils.mag_to_flux(np.array(video[col]), np.array(video[errcol]))\n",
    "\n",
    "        # Fluxes are added in µJy\n",
    "        #video.add_column(Column(flux * 1.e6, name=\"f{}\".format(col[1:])))\n",
    "        #video.add_column(Column(error * 1.e6, name=\"f{}\".format(errcol[1:])))\n",
    "        \n",
    "        # Band-flag column\n",
    "        video.add_column(Column(np.zeros(len(video), dtype=bool), name=\"flag{}\".format(col[1:])))\n",
    "        \n",
    "# TODO: Set to True the flag columns for fluxes that should not be used for SED fitting."
   ]
  },
  {
   "cell_type": "code",
   "execution_count": 7,
   "metadata": {
    "collapsed": false
   },
   "outputs": [
    {
     "data": {
      "text/html": [
       "&lt;Table length=10&gt;\n",
       "<table id=\"table4715129824-960985\" class=\"table-striped table-bordered table-condensed\">\n",
       "<thead><tr><th>idx</th><th>video_id</th><th>video_ra</th><th>video_dec</th><th>video_stellarity</th><th>m_app_video_z</th><th>merr_app_video_z</th><th>m_video_z</th><th>merr_video_z</th><th>f_app_video_z</th><th>ferr_app_video_z</th><th>f_video_z</th><th>ferr_video_z</th><th>m_app_video_y</th><th>merr_app_video_y</th><th>m_video_y</th><th>merr_video_y</th><th>f_app_video_y</th><th>ferr_app_video_y</th><th>f_video_y</th><th>ferr_video_y</th><th>m_app_video_j</th><th>merr_app_video_j</th><th>m_video_j</th><th>merr_video_j</th><th>f_app_video_j</th><th>ferr_app_video_j</th><th>f_video_j</th><th>ferr_video_j</th><th>m_app_video_h</th><th>merr_app_video_h</th><th>m_video_h</th><th>merr_video_h</th><th>f_app_video_h</th><th>ferr_app_video_h</th><th>f_video_h</th><th>ferr_video_h</th><th>m_app_video_k</th><th>merr_app_video_k</th><th>m_video_k</th><th>merr_video_k</th><th>f_app_video_k</th><th>ferr_app_video_k</th><th>f_video_k</th><th>ferr_video_k</th><th>flag_app_video_z</th><th>flag_video_z</th><th>flag_app_video_y</th><th>flag_video_y</th><th>flag_app_video_j</th><th>flag_video_j</th><th>flag_app_video_h</th><th>flag_video_h</th><th>flag_app_video_k</th><th>flag_video_k</th></tr></thead>\n",
       "<tr><td>0</td><td>1307519</td><td>52.5764425036</td><td>-28.0036165902</td><td>0.0103968</td><td>23.1244</td><td>0.0856302</td><td>22.9351</td><td>0.138891</td><td>562.637</td><td>44.3758</td><td>669.844</td><td>85.6917</td><td>22.8123</td><td>0.087532</td><td>22.6132</td><td>0.145146</td><td>750.06</td><td>60.4718</td><td>900.997</td><td>120.453</td><td>22.5619</td><td>0.0792798</td><td>22.4394</td><td>0.137883</td><td>944.59</td><td>68.9757</td><td>1057.4</td><td>134.289</td><td>22.2869</td><td>0.0997219</td><td>22.1966</td><td>0.17553</td><td>1216.91</td><td>111.774</td><td>1322.44</td><td>213.805</td><td>21.6483</td><td>0.0821624</td><td>21.5571</td><td>0.143083</td><td>2191.18</td><td>165.822</td><td>2383.2</td><td>314.079</td><td>False</td><td>False</td><td>False</td><td>False</td><td>False</td><td>False</td><td>False</td><td>False</td><td>False</td><td>False</td></tr>\n",
       "<tr><td>1</td><td>1307537</td><td>52.5603041414</td><td>-28.0034513965</td><td>0.0729567</td><td>23.9185</td><td>0.177761</td><td>23.9029</td><td>0.336246</td><td>270.763</td><td>44.332</td><td>274.681</td><td>85.07</td><td>23.5323</td><td>0.169923</td><td>23.5279</td><td>0.33662</td><td>386.446</td><td>60.4827</td><td>388.002</td><td>120.299</td><td>23.5371</td><td>0.194704</td><td>23.4868</td><td>0.360703</td><td>384.726</td><td>68.995</td><td>402.968</td><td>133.878</td><td>23.2214</td><td>0.235867</td><td>23.1842</td><td>0.434417</td><td>514.565</td><td>111.789</td><td>532.494</td><td>213.065</td><td>22.9315</td><td>0.267905</td><td>22.9023</td><td>0.492546</td><td>672.046</td><td>165.832</td><td>690.365</td><td>313.196</td><td>False</td><td>False</td><td>False</td><td>False</td><td>False</td><td>False</td><td>False</td><td>False</td><td>False</td><td>False</td></tr>\n",
       "<tr><td>2</td><td>1307545</td><td>52.56806518</td><td>-28.0034720553</td><td>0.0404727</td><td>21.4484</td><td>0.0182901</td><td>21.2843</td><td>0.0305287</td><td>2634.17</td><td>44.3761</td><td>3064.05</td><td>86.1577</td><td>21.2754</td><td>0.0212568</td><td>21.1132</td><td>0.0365021</td><td>3089.02</td><td>60.4795</td><td>3586.77</td><td>120.59</td><td>21.0487</td><td>0.0196787</td><td>20.9174</td><td>0.0340309</td><td>3806.45</td><td>68.9933</td><td>4295.74</td><td>134.649</td><td>20.828</td><td>0.0260207</td><td>20.752</td><td>0.0465374</td><td>4664.45</td><td>111.792</td><td>5002.51</td><td>214.427</td><td>20.6027</td><td>0.0313811</td><td>20.4955</td><td>0.053958</td><td>5740.28</td><td>165.917</td><td>6336.06</td><td>314.895</td><td>False</td><td>False</td><td>False</td><td>False</td><td>False</td><td>False</td><td>False</td><td>False</td><td>False</td><td>False</td></tr>\n",
       "<tr><td>3</td><td>1307547</td><td>52.6574343795</td><td>-28.0038182732</td><td>0.00168766</td><td>26.6988</td><td>2.30199</td><td>26.9262</td><td>5.41295</td><td>20.9152</td><td>44.3462</td><td>16.9637</td><td>84.5755</td><td>24.5844</td><td>0.447751</td><td>24.6243</td><td>0.922916</td><td>146.635</td><td>60.4735</td><td>141.349</td><td>120.156</td><td>24.1176</td><td>0.332201</td><td>24.2266</td><td>0.710945</td><td>225.41</td><td>68.9706</td><td>203.871</td><td>133.5</td><td>22.8995</td><td>0.175361</td><td>22.9562</td><td>0.351068</td><td>692.145</td><td>111.795</td><td>656.931</td><td>212.423</td><td>22.6307</td><td>0.203072</td><td>22.6578</td><td>0.392258</td><td>886.622</td><td>165.836</td><td>864.739</td><td>312.426</td><td>False</td><td>False</td><td>False</td><td>False</td><td>False</td><td>False</td><td>False</td><td>False</td><td>False</td><td>False</td></tr>\n",
       "<tr><td>4</td><td>1307553</td><td>52.7597187859</td><td>-28.0042276187</td><td>0.762026</td><td>23.2616</td><td>0.0954313</td><td>23.4266</td><td>0.214152</td><td>495.872</td><td>43.5863</td><td>425.969</td><td>84.0214</td><td>23.0878</td><td>0.112845</td><td>23.2196</td><td>0.252911</td><td>581.936</td><td>60.4851</td><td>515.424</td><td>120.067</td><td>23.1501</td><td>0.136275</td><td>23.1841</td><td>0.271659</td><td>549.468</td><td>68.9681</td><td>532.567</td><td>133.257</td><td>22.7953</td><td>0.158786</td><td>22.8781</td><td>0.32586</td><td>761.873</td><td>111.426</td><td>705.945</td><td>211.881</td><td>22.956</td><td>0.274104</td><td>22.9585</td><td>0.5166</td><td>657.057</td><td>165.885</td><td>655.539</td><td>311.92</td><td>False</td><td>False</td><td>False</td><td>False</td><td>False</td><td>False</td><td>False</td><td>False</td><td>False</td><td>False</td></tr>\n",
       "<tr><td>5</td><td>1307559</td><td>52.6922441369</td><td>-28.0039817321</td><td>0.981548</td><td>21.4363</td><td>0.0180672</td><td>21.4903</td><td>0.0361918</td><td>2663.65</td><td>44.3259</td><td>2534.33</td><td>84.4819</td><td>21.0571</td><td>0.0173892</td><td>21.1005</td><td>0.0359413</td><td>3777.21</td><td>60.498</td><td>3629.2</td><td>120.142</td><td>20.8283</td><td>0.016076</td><td>20.8697</td><td>0.0322816</td><td>4663.03</td><td>69.0455</td><td>4488.85</td><td>133.469</td><td>20.8261</td><td>0.0259885</td><td>20.854</td><td>0.0506186</td><td>4672.75</td><td>111.852</td><td>4554.28</td><td>212.334</td><td>20.9607</td><td>0.0436281</td><td>20.9933</td><td>0.0846454</td><td>4127.81</td><td>165.873</td><td>4005.8</td><td>312.308</td><td>False</td><td>False</td><td>False</td><td>False</td><td>False</td><td>False</td><td>False</td><td>False</td><td>False</td><td>False</td></tr>\n",
       "<tr><td>6</td><td>1307566</td><td>52.5415573606</td><td>-28.0032513622</td><td>0.00021876</td><td>23.2598</td><td>0.0957977</td><td>23.0407</td><td>0.153296</td><td>496.683</td><td>43.8253</td><td>607.726</td><td>85.8083</td><td>23.3198</td><td>0.139642</td><td>23.2777</td><td>0.26807</td><td>469.998</td><td>60.4509</td><td>488.565</td><td>120.631</td><td>22.8386</td><td>0.102236</td><td>23.0488</td><td>0.242567</td><td>732.049</td><td>68.9342</td><td>603.21</td><td>134.769</td><td>22.6178</td><td>0.134811</td><td>22.4296</td><td>0.218087</td><td>897.213</td><td>111.406</td><td>1067.0</td><td>214.33</td><td>22.4988</td><td>0.179821</td><td>22.5501</td><td>0.358374</td><td>1001.07</td><td>165.804</td><td>954.879</td><td>315.192</td><td>False</td><td>False</td><td>False</td><td>False</td><td>False</td><td>False</td><td>False</td><td>False</td><td>False</td><td>False</td></tr>\n",
       "<tr><td>7</td><td>1307567</td><td>52.7803303559</td><td>-28.0042248642</td><td>0.0792431</td><td>25.1813</td><td>0.559335</td><td>26.1469</td><td>2.62526</td><td>84.6218</td><td>43.5958</td><td>34.7742</td><td>84.0851</td><td>24.8803</td><td>0.587909</td><td>24.9757</td><td>1.27495</td><td>111.659</td><td>60.4635</td><td>102.259</td><td>120.084</td><td>24.4588</td><td>0.454699</td><td>24.5408</td><td>0.948184</td><td>164.622</td><td>68.9451</td><td>152.647</td><td>133.313</td><td>24.1258</td><td>0.540691</td><td>24.4213</td><td>1.35057</td><td>223.7</td><td>111.405</td><td>170.402</td><td>211.974</td><td>23.6682</td><td>0.528232</td><td>23.8754</td><td>1.20255</td><td>340.983</td><td>165.901</td><td>281.738</td><td>312.062</td><td>False</td><td>False</td><td>False</td><td>False</td><td>False</td><td>False</td><td>False</td><td>False</td><td>False</td><td>False</td></tr>\n",
       "<tr><td>8</td><td>1307569</td><td>52.5512615392</td><td>-28.0032722393</td><td>0.277955</td><td>25.1053</td><td>0.530278</td><td>26.0181</td><td>2.32274</td><td>90.7531</td><td>44.3256</td><td>39.1527</td><td>83.763</td><td>25.176</td><td>0.772322</td><td>25.7911</td><td>2.69837</td><td>85.0361</td><td>60.4912</td><td>48.2573</td><td>119.937</td><td>25.0471</td><td>0.782493</td><td>25.493</td><td>2.2725</td><td>95.7523</td><td>69.0113</td><td>63.5052</td><td>132.924</td><td>23.9428</td><td>0.458521</td><td>25.3109</td><td>3.05594</td><td>264.777</td><td>111.823</td><td>75.1003</td><td>211.386</td><td>25.5503</td><td>2.9897</td><td>25.0269</td><td>3.46334</td><td>60.2394</td><td>165.882</td><td>97.5543</td><td>311.195</td><td>False</td><td>False</td><td>False</td><td>False</td><td>False</td><td>False</td><td>False</td><td>False</td><td>False</td><td>False</td></tr>\n",
       "<tr><td>9</td><td>1307584</td><td>52.5398251319</td><td>-28.003179841</td><td>0.0298891</td><td>21.9313</td><td>0.0280753</td><td>21.9112</td><td>0.053598</td><td>1688.34</td><td>43.6591</td><td>1719.97</td><td>84.9101</td><td>21.5823</td><td>0.0281466</td><td>21.5696</td><td>0.0554462</td><td>2328.52</td><td>60.3666</td><td>2355.86</td><td>120.313</td><td>21.1682</td><td>0.0218965</td><td>21.1422</td><td>0.0416451</td><td>3409.62</td><td>68.7655</td><td>3492.45</td><td>133.963</td><td>20.7114</td><td>0.0232366</td><td>20.6878</td><td>0.0435761</td><td>5193.17</td><td>111.146</td><td>5307.54</td><td>213.025</td><td>20.3171</td><td>0.0240628</td><td>20.2874</td><td>0.0443499</td><td>7467.42</td><td>165.504</td><td>7674.15</td><td>313.482</td><td>False</td><td>False</td><td>False</td><td>False</td><td>False</td><td>False</td><td>False</td><td>False</td><td>False</td><td>False</td></tr>\n",
       "</table><style>table.dataTable {clear: both; width: auto !important; margin: 0 !important;}\n",
       ".dataTables_info, .dataTables_length, .dataTables_filter, .dataTables_paginate{\n",
       "display: inline-block; margin-right: 1em; }\n",
       ".paginate_button { margin-right: 5px; }\n",
       "</style>\n",
       "<script>\n",
       "\n",
       "var astropy_sort_num = function(a, b) {\n",
       "    var a_num = parseFloat(a);\n",
       "    var b_num = parseFloat(b);\n",
       "\n",
       "    if (isNaN(a_num) && isNaN(b_num))\n",
       "        return ((a < b) ? -1 : ((a > b) ? 1 : 0));\n",
       "    else if (!isNaN(a_num) && !isNaN(b_num))\n",
       "        return ((a_num < b_num) ? -1 : ((a_num > b_num) ? 1 : 0));\n",
       "    else\n",
       "        return isNaN(a_num) ? -1 : 1;\n",
       "}\n",
       "\n",
       "require.config({paths: {\n",
       "    datatables: 'https://cdn.datatables.net/1.10.12/js/jquery.dataTables.min'\n",
       "}});\n",
       "require([\"datatables\"], function(){\n",
       "    console.log(\"$('#table4715129824-960985').dataTable()\");\n",
       "    \n",
       "jQuery.extend( jQuery.fn.dataTableExt.oSort, {\n",
       "    \"optionalnum-asc\": astropy_sort_num,\n",
       "    \"optionalnum-desc\": function (a,b) { return -astropy_sort_num(a, b); }\n",
       "});\n",
       "\n",
       "    $('#table4715129824-960985').dataTable({\n",
       "        order: [],\n",
       "        pageLength: 50,\n",
       "        lengthMenu: [[10, 25, 50, 100, 500, 1000, -1], [10, 25, 50, 100, 500, 1000, 'All']],\n",
       "        pagingType: \"full_numbers\",\n",
       "        columnDefs: [{targets: [0, 1, 2, 3, 4, 5, 6, 7, 8, 9, 10, 11, 12, 13, 14, 15, 16, 17, 18, 19, 20, 21, 22, 23, 24, 25, 26, 27, 28, 29, 30, 31, 32, 33, 34, 35, 36, 37, 38, 39, 40, 41, 42, 43, 44], type: \"optionalnum\"}]\n",
       "    });\n",
       "});\n",
       "</script>\n"
      ],
      "text/plain": [
       "<IPython.core.display.HTML object>"
      ]
     },
     "execution_count": 7,
     "metadata": {},
     "output_type": "execute_result"
    }
   ],
   "source": [
    "video[:10].show_in_notebook()"
   ]
  },
  {
   "cell_type": "markdown",
   "metadata": {},
   "source": [
    "## II - Removal of duplicated sources"
   ]
  },
  {
   "cell_type": "markdown",
   "metadata": {},
   "source": [
    "We remove duplicated objects from the input catalogues."
   ]
  },
  {
   "cell_type": "code",
   "execution_count": 38,
   "metadata": {
    "collapsed": false
   },
   "outputs": [
    {
     "name": "stdout",
     "output_type": "stream",
     "text": [
      "VIDEO initial catalogue as 190847 sources.\n",
      "VIDEO cleaned catalogue as 190396 sources (451 removed).\n",
      "VIDEO has 449 sources flagged as having been cleaned\n"
     ]
    }
   ],
   "source": [
    "nb_video_orig = len(video)\n",
    "video = masterlist.remove_duplicates(\n",
    "    video, 'video_ra', 'video_dec', \n",
    "    sort_col=['merr_ap_video_z', 'merr_ap_video_y', 'merr_ap_video_j', 'merr_ap_video_h', 'merr_ap_video_k'],\n",
    "    flag_name='video_flag_cleaned')\n",
    "nb_video = len(video)\n",
    "print(\"VIDEO initial catalogue as {} sources.\".format(nb_video_orig))\n",
    "print(\"VIDEO cleaned catalogue as {} sources ({} removed).\".format(nb_video, nb_video_orig - nb_video))\n",
    "print(\"VIDEO has {} sources flagged as having been cleaned\".format(np.sum(video['video_flag_cleaned'])))"
   ]
  },
  {
   "cell_type": "markdown",
   "metadata": {},
   "source": [
    "## III - Astrometry correction\n",
    "\n",
    "We match the astrometry to the Gaia one. We limit the Gaia catalogue to sources with a g band flux between the 30th and the 70th percentile. Some quick tests show that this give the lower dispersion in the results."
   ]
  },
  {
   "cell_type": "code",
   "execution_count": 47,
   "metadata": {
    "collapsed": true
   },
   "outputs": [],
   "source": [
    "gaia = Table.read(\"../../dmu0/dmu0_GAIA/data/GAIA_CDFS-SWIRE.fits\")\n",
    "gaia_coords = SkyCoord(gaia['ra'], gaia['dec'])"
   ]
  },
  {
   "cell_type": "code",
   "execution_count": 48,
   "metadata": {
    "collapsed": false
   },
   "outputs": [
    {
     "ename": "NameError",
     "evalue": "name 'wfc' is not defined",
     "output_type": "error",
     "traceback": [
      "\u001b[0;31m---------------------------------------------------------------------------\u001b[0m",
      "\u001b[0;31mNameError\u001b[0m                                 Traceback (most recent call last)",
      "\u001b[0;32m<ipython-input-48-5e7652792fd2>\u001b[0m in \u001b[0;36m<module>\u001b[0;34m()\u001b[0m\n\u001b[1;32m      1\u001b[0m masterlist.nb_astcor_diag_plot(\n\u001b[0;32m----> 2\u001b[0;31m     wfc['wfc_ra'], wfc['wfc_dec'], gaia_coords.ra, gaia_coords.dec)\n\u001b[0m",
      "\u001b[0;31mNameError\u001b[0m: name 'wfc' is not defined"
     ]
    }
   ],
   "source": [
    "masterlist.nb_astcor_diag_plot(\n",
    "    video['video_ra'], video['video_dec'], gaia_coords.ra, gaia_coords.dec)"
   ]
  },
  {
   "cell_type": "code",
   "execution_count": null,
   "metadata": {
    "collapsed": false
   },
   "outputs": [],
   "source": [
    "video_delta_ra, video_delta_dec = utils.astrometric_correction(\n",
    "    SkyCoord(video['video_ra'], video['video_dec']),\n",
    "    gaia_coords\n",
    ")\n",
    "video['video_ra'] += video_delta_ra.to(u.deg)\n",
    "video['wfc_dec'] += video_delta_dec.to(u.deg)\n",
    "\n",
    "print(\"VIDEO delta RA / delta Dec: {} / {}\".format(video_delta_ra, video_delta_dec))"
   ]
  },
  {
   "cell_type": "markdown",
   "metadata": {},
   "source": [
    "## IV - Flagging Gaia objects"
   ]
  },
  {
   "cell_type": "code",
   "execution_count": null,
   "metadata": {
    "collapsed": false
   },
   "outputs": [],
   "source": [
    "catalogue.add_column(\n",
    "    flagging.gaia_flag_column(\n",
    "        SkyCoord(wfc['video_ra'], wfc['video_dec']),\n",
    "        epoch,\n",
    "        gaia\n",
    "    )\n",
    ")\n",
    "catalogue['flag_gaia'].name = 'video_flag_gaia'\n",
    "print(\"{} sources flagged.\".format(np.sum(catalogue['video_flag_gaia'] > 0)))"
   ]
  },
  {
   "cell_type": "markdown",
   "metadata": {},
   "source": [
    "## IV - Flagging objects near bright stars"
   ]
  },
  {
   "cell_type": "code",
   "execution_count": null,
   "metadata": {
    "collapsed": false
   },
   "outputs": [],
   "source": [
    "#This section may be superseeded by merely using multiband detection as evidence of good data\n",
    "#starmask.flag_artefacts"
   ]
  },
  {
   "cell_type": "markdown",
   "metadata": {},
   "source": [
    "## V - Saving to disk"
   ]
  },
  {
   "cell_type": "code",
   "execution_count": null,
   "metadata": {
    "collapsed": true
   },
   "outputs": [],
   "source": [
    "catalogue.write(\"{}/VIDEO.fits\".format(OUT_DIR), overwrite=True)"
   ]
  }
 ],
 "metadata": {
  "anaconda-cloud": {},
  "kernelspec": {
   "display_name": "Python (herschelhelp_internal)",
   "language": "python",
   "name": "helpint"
  },
  "language_info": {
   "codemirror_mode": {
    "name": "ipython",
    "version": 3
   },
   "file_extension": ".py",
   "mimetype": "text/x-python",
   "name": "python",
   "nbconvert_exporter": "python",
   "pygments_lexer": "ipython3",
   "version": "3.6.1"
  }
 },
 "nbformat": 4,
 "nbformat_minor": 1
}
