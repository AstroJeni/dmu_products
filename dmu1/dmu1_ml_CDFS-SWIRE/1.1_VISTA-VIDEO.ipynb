{
 "cells": [
  {
   "cell_type": "markdown",
   "metadata": {},
   "source": [
    "# CDFS-SWIRE Master List Creation\n",
    "\n",
    "## Preparation of VIDEO/VISTA/VIRCAM data\n",
    "\n",
    "\n",
    "The catalogue comes from `dmu0_VISTA_VIDEO-private`.\n",
    "\n",
    "There is an old public version of the catalogue but we are using the newer private version in the hope that it will be public by the time we publish the masterlist.\n",
    "\n",
    "Filters: Z, Y, J, H, Ks \n",
    "\n",
    "In the catalogue, we keep:\n",
    "\n",
    "- The identifier (it's unique in the catalogue);\n",
    "- The position (degrees);\n",
    "- The stellarity;\n",
    "- The magnitude for each band in apertude 3, which is 2 arcsec (rs548 presumes same for private catalogue).\n",
    "- The “auto” magnitude is provided, we presume this is standard Sextractor units etc.\n",
    "\n",
    "Yannick said the dates of observation for VIDEO are from 2009/11 to 2016/12. There is a paper from 2012 (Jarvis et al). So will use 2012.\n",
    "\n"
   ]
  },
  {
   "cell_type": "code",
   "execution_count": null,
   "metadata": {},
   "outputs": [],
   "source": [
    "from herschelhelp_internal import git_version\n",
    "print(\"This notebook was run with herschelhelp_internal version: \\n{}\".format(git_version()))"
   ]
  },
  {
   "cell_type": "code",
   "execution_count": null,
   "metadata": {
    "collapsed": true
   },
   "outputs": [],
   "source": [
    "%matplotlib inline\n",
    "#%config InlineBackend.figure_format = 'svg'\n",
    "\n",
    "import matplotlib.pyplot as plt\n",
    "plt.rc('figure', figsize=(10, 6))\n",
    "\n",
    "from collections import OrderedDict\n",
    "import os\n",
    "\n",
    "from astropy import units as u\n",
    "from astropy.coordinates import SkyCoord\n",
    "from astropy.table import Column, Table\n",
    "import numpy as np\n",
    "\n",
    "from herschelhelp_internal.flagging import  gaia_flag_column\n",
    "from herschelhelp_internal.masterlist import nb_astcor_diag_plot, remove_duplicates\n",
    "from herschelhelp_internal.utils import astrometric_correction, mag_to_flux"
   ]
  },
  {
   "cell_type": "code",
   "execution_count": null,
   "metadata": {},
   "outputs": [],
   "source": [
    "import locale\n",
    "locale.setlocale(locale.LC_ALL, 'en_GB')"
   ]
  },
  {
   "cell_type": "code",
   "execution_count": null,
   "metadata": {
    "collapsed": true
   },
   "outputs": [],
   "source": [
    "import logging\n",
    "logger = logging.getLogger()\n",
    "logger.setLevel(logging.INFO)"
   ]
  },
  {
   "cell_type": "code",
   "execution_count": null,
   "metadata": {
    "collapsed": true
   },
   "outputs": [],
   "source": [
    "OUT_DIR =  os.environ.get('TMP_DIR', \"./data_tmp\")\n",
    "try:\n",
    "    os.makedirs(OUT_DIR)\n",
    "except FileExistsError:\n",
    "    pass\n",
    "\n",
    "RA_COL = \"video_ra\"\n",
    "DEC_COL = \"video_dec\""
   ]
  },
  {
   "cell_type": "markdown",
   "metadata": {},
   "source": [
    "## I - Column selection"
   ]
  },
  {
   "cell_type": "code",
   "execution_count": null,
   "metadata": {
    "collapsed": true
   },
   "outputs": [],
   "source": [
    "# TODO: Check that the aperture magnitudes are aperture corrected.\n",
    "\n",
    "imported_columns = OrderedDict({\n",
    "        'ID':              'video_id', \n",
    "        'ALPHA_J2000':     'video_ra', \n",
    "        'DELTA_J2000':     'video_dec', \n",
    "        'J_CLASS_STAR':    'video_stellarity', \n",
    "        'Z_MAG_APER_3':    'm_ap_video_z', \n",
    "        'Z_MAGERR_APER_3': 'merr_ap_video_z', \n",
    "        'Z_MAG_AUTO':      'm_video_z', \n",
    "        'Z_MAGERR_AUTO':   'merr_video_z',\n",
    "        #'Z_FLUX_APER_3':   'f_ap_video_z', \n",
    "        #'Z_FLUXERR_APER_3':'ferr_ap_video_z', \n",
    "        #'Z_FLUX_AUTO':     'f_video_z', \n",
    "        #'Z_FLUXERR_AUTO':  'ferr_video_z',\n",
    "        'Y_MAG_APER_3':    'm_ap_video_y', \n",
    "        'Y_MAGERR_APER_3': 'merr_ap_video_y', \n",
    "        'Y_MAG_AUTO':      'm_video_y', \n",
    "        'Y_MAGERR_AUTO':   'merr_video_y',\n",
    "        #'Y_FLUX_APER_3':   'f_ap_video_y', \n",
    "        #'Y_FLUXERR_APER_3':'ferr_ap_video_y', \n",
    "        #'Y_FLUX_AUTO':     'f_video_y', \n",
    "        #'Y_FLUXERR_AUTO':  'ferr_video_y',\n",
    "        'J_MAG_APER_3':    'm_ap_video_j', \n",
    "        'J_MAGERR_APER_3': 'merr_ap_video_j', \n",
    "        'J_MAG_AUTO':      'm_video_j', \n",
    "        'J_MAGERR_AUTO':   'merr_video_j',\n",
    "        #'J_FLUX_APER_3':   'f_ap_video_j', \n",
    "        #'J_FLUXERR_APER_3':'ferr_ap_video_j', \n",
    "        #'J_FLUX_AUTO':     'f_video_j', \n",
    "        #'J_FLUXERR_AUTO':  'ferr_video_j',\n",
    "        'H_MAG_APER_3':    'm_ap_video_h', \n",
    "        'H_MAGERR_APER_3': 'merr_ap_video_h', \n",
    "        'H_MAG_AUTO':      'm_video_h', \n",
    "        'H_MAGERR_AUTO':   'merr_video_h',\n",
    "        #'H_FLUX_APER_3':   'f_ap_video_h', \n",
    "        #'H_FLUXERR_APER_3':'ferr_ap_video_h', \n",
    "        #'H_FLUX_AUTO':     'f_video_h', \n",
    "        #'H_FLUXERR_AUTO':  'ferr_video_h',    \n",
    "        'K_MAG_APER_3':    'm_ap_video_k', \n",
    "        'K_MAGERR_APER_3': 'merr_ap_video_k', \n",
    "        'K_MAG_AUTO':      'm_video_k', \n",
    "        'K_MAGERR_AUTO':   'merr_video_k',\n",
    "        #'K_FLUX_APER_3':   'f_ap_video_k', \n",
    "        #'K_FLUXERR_APER_3':'ferr_ap_video_k', \n",
    "        #'K_FLUX_AUTO':     'f_video_k', \n",
    "        #'K_FLUXERR_AUTO':  'ferr_video_k'\n",
    "})\n",
    "\n",
    "\n",
    "catalogue = Table.read(\"../../dmu0/dmu0_VISTA-VIDEO-private/data/VIDEO-all_2017-02-12_fullcat_errfix_CDFS-SWIRE.fits\"\n",
    "                      )[list(imported_columns)]\n",
    "for column in imported_columns:\n",
    "    catalogue[column].name = imported_columns[column]\n",
    "    \n",
    "    \n",
    "epoch = 2012\n",
    "\n",
    "# Clean table metadata\n",
    "catalogue.meta = None"
   ]
  },
  {
   "cell_type": "code",
   "execution_count": null,
   "metadata": {
    "collapsed": true
   },
   "outputs": [],
   "source": [
    "# The fluxes are wrong so we recalcualte them from the magnitudes\n",
    "for col in catalogue.colnames:\n",
    "    if col.startswith('m_'):\n",
    "        \n",
    "        errcol = \"merr{}\".format(col[1:])\n",
    "        flux, error = mag_to_flux(np.array(catalogue[col]), np.array(catalogue[errcol]))\n",
    "\n",
    "        # Fluxes are added in µJy\n",
    "        catalogue.add_column(Column(flux * 1.e6, name=\"f{}\".format(col[1:])))\n",
    "        catalogue.add_column(Column(error * 1.e6, name=\"f{}\".format(errcol[1:])))\n",
    "        \n"
   ]
  },
  {
   "cell_type": "code",
   "execution_count": null,
   "metadata": {
    "collapsed": true
   },
   "outputs": [],
   "source": [
    "# Correct wrong values.\n",
    "# The catalogue contains negative fluxes and 99 in the associated magnitude. These\n",
    "# values may be considered as upper limits but we don't want this information in the\n",
    "# master list.  Also, some sources may have a very low signal to noise with the error\n",
    "# on magnitude superior to 99.  In all these cases, we set the magnitude, the flux, and\n",
    "# the associated errors to NaN.\n",
    "\n",
    "band_names = [_[8:] for _ in catalogue.colnames if _.startswith(\"merr_ap_\")]\n",
    "\n",
    "for band in band_names:\n",
    "    \n",
    "    # Total fluxes and magnitudes\n",
    "    mask = catalogue[\"m_{}\".format(band)] > 90.\n",
    "    mask &= catalogue[\"merr_{}\".format(band)] > 90.\n",
    "    mask &= catalogue[\"f_{}\".format(band)] < 0.\n",
    "    catalogue[\"m_{}\".format(band)][mask] = np.nan\n",
    "    catalogue[\"merr_{}\".format(band)][mask] = np.nan\n",
    "    catalogue[\"f_{}\".format(band)][mask] = np.nan\n",
    "    catalogue[\"ferr_{}\".format(band)][mask] = np.nan\n",
    "    \n",
    "    # Aperture fluxes and magnitudes\n",
    "    mask = catalogue[\"m_ap_{}\".format(band)] > 90.\n",
    "    mask &= catalogue[\"merr_ap_{}\".format(band)] > 90.\n",
    "    mask &= catalogue[\"f_ap_{}\".format(band)] < 0.\n",
    "    catalogue[\"m_ap_{}\".format(band)][mask] = np.nan\n",
    "    catalogue[\"merr_ap_{}\".format(band)][mask] = np.nan\n",
    "    catalogue[\"f_ap_{}\".format(band)][mask] = np.nan\n",
    "    catalogue[\"ferr_ap_{}\".format(band)][mask] = np.nan\n",
    "    \n",
    "    # Adding the band-flag column\n",
    "    catalogue.add_column(Column(np.zeros(len(catalogue), dtype=bool), name=\"flag_{}\".format(band)))\n"
   ]
  },
  {
   "cell_type": "code",
   "execution_count": null,
   "metadata": {},
   "outputs": [],
   "source": [
    "catalogue[:10].show_in_notebook()"
   ]
  },
  {
   "cell_type": "markdown",
   "metadata": {},
   "source": [
    "## II - Correct z band fluxes and magnitudes\n",
    "\n",
    "We discovered that the catalogue contains some wrong z magnitudes in the CDFS-SWIRE field. Strangely, Sextractor affected some magnitudes to sources which are not on the z image. Boris found a way to get rid of these magnitudes: all the wrong sources have a Z_MAGERR_AUTO to 0.\n",
    "\n",
    "But we have to look at these sources in another catalogue because the VIDEO catalogue we use has been processed to correct for wrong error. We use the `video_id` column (which is unique within a field) to find the sources identified in the other catalogue and set their flux, magnitudes, and associated errors to NaN."
   ]
  },
  {
   "cell_type": "code",
   "execution_count": null,
   "metadata": {
    "collapsed": true
   },
   "outputs": [],
   "source": [
    "not_errfix_catalogue = Table.read(\"../../dmu0/dmu0_VISTA-VIDEO-private/data/VIDEO-cdfs_2017-02-12_fullcat.fits\")"
   ]
  },
  {
   "cell_type": "code",
   "execution_count": null,
   "metadata": {
    "collapsed": true
   },
   "outputs": [],
   "source": [
    "# Identifiers of the sources with bad z measurements\n",
    "bad_z_sources_ids = not_errfix_catalogue['ID'][not_errfix_catalogue['Z_MAGERR_AUTO'] == 0]\n",
    "\n",
    "# Mask of the bad z sources in our catalogue\n",
    "bad_z_sources_mask = np.in1d(catalogue['video_id'], bad_z_sources_ids)\n",
    "\n",
    "# Check that we caught all the bad sources\n",
    "assert len(bad_z_sources_ids) == np.sum(bad_z_sources_mask)"
   ]
  },
  {
   "cell_type": "code",
   "execution_count": null,
   "metadata": {
    "collapsed": true
   },
   "outputs": [],
   "source": [
    "del not_errfix_catalogue"
   ]
  },
  {
   "cell_type": "code",
   "execution_count": null,
   "metadata": {
    "collapsed": true
   },
   "outputs": [],
   "source": [
    "# Set the z flux, magnitudes, and associated error of the bad z sources to NaN\n",
    "catalogue['m_video_z'][bad_z_sources_mask] = np.nan\n",
    "catalogue['merr_video_z'][bad_z_sources_mask] = np.nan\n",
    "catalogue['f_video_z'][bad_z_sources_mask] = np.nan\n",
    "catalogue['ferr_video_z'][bad_z_sources_mask] = np.nan\n",
    "catalogue['m_ap_video_z'][bad_z_sources_mask] = np.nan\n",
    "catalogue['merr_ap_video_z'][bad_z_sources_mask] = np.nan\n",
    "catalogue['f_ap_video_z'][bad_z_sources_mask] = np.nan\n",
    "catalogue['ferr_ap_video_z'][bad_z_sources_mask] = np.nan"
   ]
  },
  {
   "cell_type": "markdown",
   "metadata": {},
   "source": [
    "## III - Removal of duplicated sources"
   ]
  },
  {
   "cell_type": "markdown",
   "metadata": {},
   "source": [
    "We remove duplicated objects from the input catalogues."
   ]
  },
  {
   "cell_type": "code",
   "execution_count": null,
   "metadata": {},
   "outputs": [],
   "source": [
    "SORT_COLS = ['merr_ap_video_z', 'merr_ap_video_y', 'merr_ap_video_j', 'merr_ap_video_h', 'merr_ap_video_k']\n",
    "FLAG_NAME = 'video_flag_cleaned'\n",
    "\n",
    "nb_orig_sources = len(catalogue)\n",
    "\n",
    "catalogue = remove_duplicates(catalogue, RA_COL, DEC_COL, sort_col=SORT_COLS,flag_name=FLAG_NAME)\n",
    "\n",
    "nb_sources = len(catalogue)\n",
    "\n",
    "print(\"The initial catalogue had {} sources.\".format(nb_orig_sources))\n",
    "print(\"The cleaned catalogue has {} sources ({} removed).\".format(nb_sources, nb_orig_sources - nb_sources))\n",
    "print(\"The cleaned catalogue has {} sources flagged as having been cleaned\".format(np.sum(catalogue[FLAG_NAME])))"
   ]
  },
  {
   "cell_type": "markdown",
   "metadata": {},
   "source": [
    "## IV - Astrometry correction\n",
    "\n",
    "We match the astrometry to the Gaia one. We limit the Gaia catalogue to sources with a g band flux between the 30th and the 70th percentile. Some quick tests show that this give the lower dispersion in the results."
   ]
  },
  {
   "cell_type": "code",
   "execution_count": null,
   "metadata": {
    "collapsed": true
   },
   "outputs": [],
   "source": [
    "gaia = Table.read(\"../../dmu0/dmu0_GAIA/data/GAIA_CDFS-SWIRE.fits\")\n",
    "gaia_coords = SkyCoord(gaia['ra'], gaia['dec'])"
   ]
  },
  {
   "cell_type": "code",
   "execution_count": null,
   "metadata": {},
   "outputs": [],
   "source": [
    "nb_astcor_diag_plot(catalogue[RA_COL], catalogue[DEC_COL], \n",
    "                    gaia_coords.ra, gaia_coords.dec)"
   ]
  },
  {
   "cell_type": "code",
   "execution_count": null,
   "metadata": {},
   "outputs": [],
   "source": [
    "delta_ra, delta_dec =  astrometric_correction(\n",
    "    SkyCoord(catalogue[RA_COL], catalogue[DEC_COL]),\n",
    "    gaia_coords\n",
    ")\n",
    "\n",
    "print(\"RA correction: {}\".format(delta_ra))\n",
    "print(\"Dec correction: {}\".format(delta_dec))"
   ]
  },
  {
   "cell_type": "code",
   "execution_count": null,
   "metadata": {
    "collapsed": true
   },
   "outputs": [],
   "source": [
    "catalogue[RA_COL] +=  delta_ra.to(u.deg)\n",
    "catalogue[DEC_COL] += delta_dec.to(u.deg)"
   ]
  },
  {
   "cell_type": "code",
   "execution_count": null,
   "metadata": {},
   "outputs": [],
   "source": [
    "nb_astcor_diag_plot(catalogue[RA_COL], catalogue[DEC_COL], \n",
    "                    gaia_coords.ra, gaia_coords.dec)"
   ]
  },
  {
   "cell_type": "markdown",
   "metadata": {},
   "source": [
    "## V - Flagging Gaia objects"
   ]
  },
  {
   "cell_type": "code",
   "execution_count": null,
   "metadata": {
    "collapsed": true
   },
   "outputs": [],
   "source": [
    "catalogue.add_column(\n",
    "    gaia_flag_column(SkyCoord(catalogue[RA_COL], catalogue[DEC_COL]), epoch, gaia)\n",
    ")"
   ]
  },
  {
   "cell_type": "code",
   "execution_count": null,
   "metadata": {},
   "outputs": [],
   "source": [
    "GAIA_FLAG_NAME = \"video_flag_gaia\"\n",
    "\n",
    "catalogue['flag_gaia'].name = GAIA_FLAG_NAME\n",
    "print(\"{} sources flagged.\".format(np.sum(catalogue[GAIA_FLAG_NAME] > 0)))"
   ]
  },
  {
   "cell_type": "markdown",
   "metadata": {},
   "source": [
    "## VI - Saving to disk"
   ]
  },
  {
   "cell_type": "code",
   "execution_count": null,
   "metadata": {
    "collapsed": true
   },
   "outputs": [],
   "source": [
    "catalogue.write(\"{}/VISTA-VIDEO.fits\".format(OUT_DIR), overwrite=True)"
   ]
  }
 ],
 "metadata": {
  "anaconda-cloud": {},
  "kernelspec": {
   "display_name": "Python (herschelhelp_internal)",
   "language": "python",
   "name": "helpint"
  },
  "language_info": {
   "codemirror_mode": {
    "name": "ipython",
    "version": 3
   },
   "file_extension": ".py",
   "mimetype": "text/x-python",
   "name": "python",
   "nbconvert_exporter": "python",
   "pygments_lexer": "ipython3",
   "version": "3.6.1"
  }
 },
 "nbformat": 4,
 "nbformat_minor": 1
}
