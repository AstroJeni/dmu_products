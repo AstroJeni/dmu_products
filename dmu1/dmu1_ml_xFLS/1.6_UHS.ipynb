{
 "cells": [
  {
   "cell_type": "markdown",
   "metadata": {},
   "source": [
    "# xFLS master catalogue\n",
    "## Preparation of UKIRT Hemisphere Survey (UHS) data\n",
    "\n",
    "The catalogue comes from `dmu0_UHS`. This is a J band only survey documented in https://arxiv.org/pdf/1707.09975.pdf\n",
    "\n",
    "In the catalogue, we keep:\n",
    "\n",
    "- The identifier (it's unique in the catalogue);\n",
    "- The position;\n",
    "- The stellarity;\n",
    "- The magnitude for each band in aperture 4 (2 arcsec aperture corrected).\n",
    "- The kron magnitude to be used as total magnitude (no “auto” magnitude is provided).\n",
    "\n",
    "We don't know when the maps have been observed. We will use the year of the reference paper."
   ]
  },
  {
   "cell_type": "code",
   "execution_count": null,
   "metadata": {},
   "outputs": [],
   "source": [
    "from herschelhelp_internal import git_version\n",
    "print(\"This notebook was run with herschelhelp_internal version: \\n{}\".format(git_version()))"
   ]
  },
  {
   "cell_type": "code",
   "execution_count": null,
   "metadata": {},
   "outputs": [],
   "source": [
    "%matplotlib inline\n",
    "#%config InlineBackend.figure_format = 'svg'\n",
    "\n",
    "import matplotlib.pyplot as plt\n",
    "plt.rc('figure', figsize=(10, 6))\n",
    "\n",
    "from collections import OrderedDict\n",
    "import os\n",
    "\n",
    "from astropy import units as u\n",
    "from astropy.coordinates import SkyCoord\n",
    "from astropy.table import Column, Table\n",
    "import numpy as np\n",
    "\n",
    "from herschelhelp_internal.flagging import  gaia_flag_column\n",
    "from herschelhelp_internal.masterlist import nb_astcor_diag_plot, remove_duplicates\n",
    "from herschelhelp_internal.utils import astrometric_correction, mag_to_flux"
   ]
  },
  {
   "cell_type": "code",
   "execution_count": null,
   "metadata": {
    "collapsed": true
   },
   "outputs": [],
   "source": [
    "OUT_DIR =  os.environ.get('TMP_DIR', \"./data_tmp\")\n",
    "try:\n",
    "    os.makedirs(OUT_DIR)\n",
    "except FileExistsError:\n",
    "    pass\n",
    "\n",
    "RA_COL = \"uhs_ra\"\n",
    "DEC_COL = \"uhs_dec\""
   ]
  },
  {
   "cell_type": "markdown",
   "metadata": {},
   "source": [
    "## I - Column selection"
   ]
  },
  {
   "cell_type": "code",
   "execution_count": null,
   "metadata": {
    "collapsed": true
   },
   "outputs": [],
   "source": [
    "imported_columns = OrderedDict({\n",
    "        'SOURCEID': \"uhs_id\",\n",
    "        'RA': \"uhs_ra\",\n",
    "        'DEC': \"uhs_dec\",\n",
    "        'PSTAR':  \"uhs_stellarity\",\n",
    "        'JPETROMAG': \"m_wfcam_j\", \n",
    "        'JPETROMAGERR': \"merr_wfcam_j\", \n",
    "        'JAPERMAG4': \"m_ap_wfcam_j\", \n",
    "        'JAPERMAG4ERR': \"merr_ap_wfcam_j\", \n",
    "\n",
    "    })\n",
    "\n",
    "\n",
    "catalogue = Table.read(\"../../dmu0/dmu0_UHS/data/UHS-DR1_xFLS.fits\")[list(imported_columns)]\n",
    "for column in imported_columns:\n",
    "    catalogue[column].name = imported_columns[column]\n",
    "\n",
    "epoch = 2011\n",
    "\n",
    "# Clean table metadata\n",
    "catalogue.meta = None"
   ]
  },
  {
   "cell_type": "code",
   "execution_count": null,
   "metadata": {},
   "outputs": [],
   "source": [
    "#Vega to AB\n",
    "#Vega ZPT (1548.66 Jy) from http://svo2.cab.inta-csic.es/svo/theory/fps3/index.php?id=UKIRT/WFCAM.J\n",
    "\n",
    "vega_to_ab = {\n",
    "    \"j\": -2.5*np.log10(1548.66 / 3631)\n",
    "}\n",
    "print(vega_to_ab[\"j\"])"
   ]
  },
  {
   "cell_type": "code",
   "execution_count": null,
   "metadata": {
    "collapsed": true
   },
   "outputs": [],
   "source": [
    "# Adding flux and band-flag columns\n",
    "for col in catalogue.colnames:\n",
    "    if col.startswith('m_'):\n",
    "        \n",
    "        errcol = \"merr{}\".format(col[1:])\n",
    "        \n",
    "        # Some object have a magnitude to 0, we suppose this means missing value\n",
    "        catalogue[col][catalogue[col] <= 0] = np.nan\n",
    "        catalogue[errcol][catalogue[errcol] <= 0] = np.nan  \n",
    "        \n",
    "        # Convert magnitude from Vega to AB\n",
    "        catalogue[col] += vega_to_ab[col[-1]]        \n",
    "\n",
    "        flux, error = mag_to_flux(np.array(catalogue[col]), np.array(catalogue[errcol]))\n",
    "        \n",
    "        # Fluxes are added in µJy\n",
    "        catalogue.add_column(Column(flux * 1.e6, name=\"f{}\".format(col[1:])))\n",
    "        catalogue.add_column(Column(error * 1.e6, name=\"f{}\".format(errcol[1:])))\n",
    "        \n",
    "        # Band-flag column\n",
    "        if \"ap\" not in col:\n",
    "            catalogue.add_column(Column(np.zeros(len(catalogue), dtype=bool), name=\"flag{}\".format(col[1:])))\n",
    "        \n",
    "# TODO: Set to True the flag columns for fluxes that should not be used for SED fitting."
   ]
  },
  {
   "cell_type": "code",
   "execution_count": null,
   "metadata": {},
   "outputs": [],
   "source": [
    "catalogue[:10].show_in_notebook()"
   ]
  },
  {
   "cell_type": "markdown",
   "metadata": {},
   "source": [
    "## II - Removal of duplicated sources"
   ]
  },
  {
   "cell_type": "markdown",
   "metadata": {},
   "source": [
    "We remove duplicated objects from the input catalogues."
   ]
  },
  {
   "cell_type": "code",
   "execution_count": null,
   "metadata": {},
   "outputs": [],
   "source": [
    "SORT_COLS = ['merr_ap_wfcam_j']\n",
    "FLAG_NAME = 'uhs_flag_cleaned'\n",
    "\n",
    "nb_orig_sources = len(catalogue)\n",
    "\n",
    "catalogue = remove_duplicates(catalogue, RA_COL, DEC_COL, sort_col=SORT_COLS,flag_name=FLAG_NAME)\n",
    "\n",
    "nb_sources = len(catalogue)\n",
    "\n",
    "print(\"The initial catalogue had {} sources.\".format(nb_orig_sources))\n",
    "print(\"The cleaned catalogue has {} sources ({} removed).\".format(nb_sources, nb_orig_sources - nb_sources))\n",
    "print(\"The cleaned catalogue has {} sources flagged as having been cleaned\".format(np.sum(catalogue[FLAG_NAME])))"
   ]
  },
  {
   "cell_type": "markdown",
   "metadata": {},
   "source": [
    "## III - Astrometry correction\n",
    "\n",
    "We match the astrometry to the Gaia one. We limit the Gaia catalogue to sources with a g band flux between the 30th and the 70th percentile. Some quick tests show that this give the lower dispersion in the results."
   ]
  },
  {
   "cell_type": "code",
   "execution_count": null,
   "metadata": {
    "collapsed": true
   },
   "outputs": [],
   "source": [
    "gaia = Table.read(\"../../dmu0/dmu0_GAIA/data/GAIA_xFLS.fits\")\n",
    "gaia_coords = SkyCoord(gaia['ra'], gaia['dec'])"
   ]
  },
  {
   "cell_type": "code",
   "execution_count": null,
   "metadata": {},
   "outputs": [],
   "source": [
    "nb_astcor_diag_plot(catalogue[RA_COL], catalogue[DEC_COL], \n",
    "                    gaia_coords.ra, gaia_coords.dec)"
   ]
  },
  {
   "cell_type": "code",
   "execution_count": null,
   "metadata": {},
   "outputs": [],
   "source": [
    "delta_ra, delta_dec =  astrometric_correction(\n",
    "    SkyCoord(catalogue[RA_COL], catalogue[DEC_COL]),\n",
    "    gaia_coords\n",
    ")\n",
    "\n",
    "print(\"RA correction: {}\".format(delta_ra))\n",
    "print(\"Dec correction: {}\".format(delta_dec))"
   ]
  },
  {
   "cell_type": "code",
   "execution_count": null,
   "metadata": {
    "collapsed": true
   },
   "outputs": [],
   "source": [
    "catalogue[RA_COL] +=  delta_ra.to(u.deg)\n",
    "catalogue[DEC_COL] += delta_dec.to(u.deg)"
   ]
  },
  {
   "cell_type": "code",
   "execution_count": null,
   "metadata": {},
   "outputs": [],
   "source": [
    "nb_astcor_diag_plot(catalogue[RA_COL], catalogue[DEC_COL], \n",
    "                    gaia_coords.ra, gaia_coords.dec)"
   ]
  },
  {
   "cell_type": "markdown",
   "metadata": {},
   "source": [
    "## IV - Flagging Gaia objects"
   ]
  },
  {
   "cell_type": "code",
   "execution_count": null,
   "metadata": {
    "collapsed": true
   },
   "outputs": [],
   "source": [
    "catalogue.add_column(\n",
    "    gaia_flag_column(SkyCoord(catalogue[RA_COL], catalogue[DEC_COL]), epoch, gaia)\n",
    ")"
   ]
  },
  {
   "cell_type": "code",
   "execution_count": null,
   "metadata": {},
   "outputs": [],
   "source": [
    "GAIA_FLAG_NAME = \"uhs_flag_gaia\"\n",
    "\n",
    "catalogue['flag_gaia'].name = GAIA_FLAG_NAME\n",
    "print(\"{} sources flagged.\".format(np.sum(catalogue[GAIA_FLAG_NAME] > 0)))"
   ]
  },
  {
   "cell_type": "markdown",
   "metadata": {},
   "source": [
    "# V - Saving to disk"
   ]
  },
  {
   "cell_type": "code",
   "execution_count": null,
   "metadata": {
    "collapsed": true
   },
   "outputs": [],
   "source": [
    "catalogue.write(\"{}/UHS.fits\".format(OUT_DIR), overwrite=True)"
   ]
  }
 ],
 "metadata": {
  "anaconda-cloud": {},
  "kernelspec": {
   "display_name": "Python (herschelhelp_internal)",
   "language": "python",
   "name": "helpint"
  },
  "language_info": {
   "codemirror_mode": {
    "name": "ipython",
    "version": 3
   },
   "file_extension": ".py",
   "mimetype": "text/x-python",
   "name": "python",
   "nbconvert_exporter": "python",
   "pygments_lexer": "ipython3",
   "version": "3.6.1"
  }
 },
 "nbformat": 4,
 "nbformat_minor": 1
}
