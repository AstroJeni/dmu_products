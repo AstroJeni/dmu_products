{
 "cells": [
  {
   "cell_type": "markdown",
   "metadata": {},
   "source": [
    "# Masterlist overview\n",
    "\n",
    "This notebook summarises some important properties of the data presented here. This includes\n",
    "\n",
    "- The area covered by each field\n",
    "- The number of total sources in each field\n",
    "- The number of bands which we have data for in each field\n",
    "- The size of the masterlist in each field"
   ]
  },
  {
   "cell_type": "code",
   "execution_count": 1,
   "metadata": {
    "collapsed": true
   },
   "outputs": [],
   "source": [
    "from astropy.table import Table, Column\n",
    "import numpy as np"
   ]
  },
  {
   "cell_type": "code",
   "execution_count": 2,
   "metadata": {
    "collapsed": true
   },
   "outputs": [],
   "source": [
    "dr1 = [\n",
    "# Field                suffix\n",
    "['AKARI-NEP',          '20171202' ],\n",
    "['AKARI-SEP',          '20180122'  ],\n",
    "['Bootes',             '20180111'  ],\n",
    "['CDFS-SWIRE',         '20180129' ],\n",
    "['COSMOS',             '20180112' ],\n",
    "['EGS',                '20171202' ],\n",
    "['ELAIS-N1',           '20171016' ],\n",
    "['ELAIS-N2',           '20171207' ],\n",
    "['ELAIS-S1',           '20180122' ],\n",
    "['GAMA-09',            '20171216' ],\n",
    "['GAMA-12',            '20180129' ],\n",
    "['GAMA-15',            '20180129' ],\n",
    "['HDF-N',              '20171212' ],\n",
    "['Herschel-Stripe-82', '20180113' ],\n",
    "['Lockman-SWIRE',      '20171201' ],\n",
    "['NGP',                '20171207' ],\n",
    "['SA13',               '20171123' ],\n",
    "['SGP',                '20180124' ],\n",
    "['SPIRE-NEP',          '20171122' ],\n",
    "['SSDF',               '20180122' ],\n",
    "['xFLS',               '20171201' ],\n",
    "['XMM-13hr',           '20171123' ],\n",
    "['XMM-LSS',            '20180130' ]]"
   ]
  },
  {
   "cell_type": "code",
   "execution_count": 4,
   "metadata": {},
   "outputs": [],
   "source": [
    "masterlist_summary = Table()\n",
    "masterlist_summary.add_column(Column(data = np.array(dr1)[:,0], name = 'Field'))\n",
    "masterlist_summary.add_column(Column(data =np.full(len(masterlist_summary), 0, dtype=int), name = '#Objects'))\n",
    "masterlist_summary.add_column(Column(data =np.full(len(masterlist_summary), np.nan, dtype=float), name = '#Area (sq. degrees)'))\n",
    "masterlist_summary.add_column(Column(data =np.full(len(masterlist_summary), np.nan, dtype=float), name = '#Size (MB)'))"
   ]
  },
  {
   "cell_type": "code",
   "execution_count": null,
   "metadata": {},
   "outputs": [],
   "source": [
    "for field in dr1:\n",
    "    number_objects = len(Table.read('dmu1_{}/data/master_catalogue_{}_{}.fits'.format(field[0], field[0], field[1])))\n",
    "    masterlist_summary[masterlist_summary['Field'] == field[0]]['#Objects'] = number_objects\n",
    "    \n",
    "    area = 10.\n",
    "    \n",
    "    size = 10."
   ]
  },
  {
   "cell_type": "code",
   "execution_count": 5,
   "metadata": {},
   "outputs": [
    {
     "data": {
      "text/html": [
       "&lt;Table length=23&gt;\n",
       "<table id=\"table4569981840-979669\" class=\"table-striped table-bordered table-condensed\">\n",
       "<thead><tr><th>idx</th><th>Field</th><th>#Objects</th><th>#Area (sq. degrees)</th><th>#Size (MB)</th></tr></thead>\n",
       "<tr><td>0</td><td>AKARI-NEP</td><td>0</td><td>nan</td><td>nan</td></tr>\n",
       "<tr><td>1</td><td>AKARI-SEP</td><td>0</td><td>nan</td><td>nan</td></tr>\n",
       "<tr><td>2</td><td>Bootes</td><td>0</td><td>nan</td><td>nan</td></tr>\n",
       "<tr><td>3</td><td>CDFS-SWIRE</td><td>0</td><td>nan</td><td>nan</td></tr>\n",
       "<tr><td>4</td><td>COSMOS</td><td>0</td><td>nan</td><td>nan</td></tr>\n",
       "<tr><td>5</td><td>EGS</td><td>0</td><td>nan</td><td>nan</td></tr>\n",
       "<tr><td>6</td><td>ELAIS-N1</td><td>0</td><td>nan</td><td>nan</td></tr>\n",
       "<tr><td>7</td><td>ELAIS-N2</td><td>0</td><td>nan</td><td>nan</td></tr>\n",
       "<tr><td>8</td><td>ELAIS-S1</td><td>0</td><td>nan</td><td>nan</td></tr>\n",
       "<tr><td>9</td><td>GAMA-09</td><td>0</td><td>nan</td><td>nan</td></tr>\n",
       "<tr><td>10</td><td>GAMA-12</td><td>0</td><td>nan</td><td>nan</td></tr>\n",
       "<tr><td>11</td><td>GAMA-15</td><td>0</td><td>nan</td><td>nan</td></tr>\n",
       "<tr><td>12</td><td>HDF-N</td><td>0</td><td>nan</td><td>nan</td></tr>\n",
       "<tr><td>13</td><td>Herschel-Stripe-82</td><td>0</td><td>nan</td><td>nan</td></tr>\n",
       "<tr><td>14</td><td>Lockman-SWIRE</td><td>0</td><td>nan</td><td>nan</td></tr>\n",
       "<tr><td>15</td><td>NGP</td><td>0</td><td>nan</td><td>nan</td></tr>\n",
       "<tr><td>16</td><td>SA13</td><td>0</td><td>nan</td><td>nan</td></tr>\n",
       "<tr><td>17</td><td>SGP</td><td>0</td><td>nan</td><td>nan</td></tr>\n",
       "<tr><td>18</td><td>SPIRE-NEP</td><td>0</td><td>nan</td><td>nan</td></tr>\n",
       "<tr><td>19</td><td>SSDF</td><td>0</td><td>nan</td><td>nan</td></tr>\n",
       "<tr><td>20</td><td>xFLS</td><td>0</td><td>nan</td><td>nan</td></tr>\n",
       "<tr><td>21</td><td>XMM-13hr</td><td>0</td><td>nan</td><td>nan</td></tr>\n",
       "<tr><td>22</td><td>XMM-LSS</td><td>0</td><td>nan</td><td>nan</td></tr>\n",
       "</table><style>table.dataTable {clear: both; width: auto !important; margin: 0 !important;}\n",
       ".dataTables_info, .dataTables_length, .dataTables_filter, .dataTables_paginate{\n",
       "display: inline-block; margin-right: 1em; }\n",
       ".paginate_button { margin-right: 5px; }\n",
       "</style>\n",
       "<script>\n",
       "\n",
       "var astropy_sort_num = function(a, b) {\n",
       "    var a_num = parseFloat(a);\n",
       "    var b_num = parseFloat(b);\n",
       "\n",
       "    if (isNaN(a_num) && isNaN(b_num))\n",
       "        return ((a < b) ? -1 : ((a > b) ? 1 : 0));\n",
       "    else if (!isNaN(a_num) && !isNaN(b_num))\n",
       "        return ((a_num < b_num) ? -1 : ((a_num > b_num) ? 1 : 0));\n",
       "    else\n",
       "        return isNaN(a_num) ? -1 : 1;\n",
       "}\n",
       "\n",
       "require.config({paths: {\n",
       "    datatables: 'https://cdn.datatables.net/1.10.12/js/jquery.dataTables.min'\n",
       "}});\n",
       "require([\"datatables\"], function(){\n",
       "    console.log(\"$('#table4569981840-979669').dataTable()\");\n",
       "    \n",
       "jQuery.extend( jQuery.fn.dataTableExt.oSort, {\n",
       "    \"optionalnum-asc\": astropy_sort_num,\n",
       "    \"optionalnum-desc\": function (a,b) { return -astropy_sort_num(a, b); }\n",
       "});\n",
       "\n",
       "    $('#table4569981840-979669').dataTable({\n",
       "        order: [],\n",
       "        pageLength: 50,\n",
       "        lengthMenu: [[10, 25, 50, 100, 500, 1000, -1], [10, 25, 50, 100, 500, 1000, 'All']],\n",
       "        pagingType: \"full_numbers\",\n",
       "        columnDefs: [{targets: [0, 2, 3, 4], type: \"optionalnum\"}]\n",
       "    });\n",
       "});\n",
       "</script>\n"
      ],
      "text/plain": [
       "<IPython.core.display.HTML object>"
      ]
     },
     "execution_count": 5,
     "metadata": {},
     "output_type": "execute_result"
    }
   ],
   "source": [
    "masterlist_summary.show_in_notebook()"
   ]
  },
  {
   "cell_type": "code",
   "execution_count": null,
   "metadata": {
    "collapsed": true
   },
   "outputs": [],
   "source": [
    "masterlist_summary.write('dr1_definition.fits')"
   ]
  }
 ],
 "metadata": {
  "kernelspec": {
   "display_name": "Python (herschelhelp_internal)",
   "language": "python",
   "name": "helpint"
  },
  "language_info": {
   "codemirror_mode": {
    "name": "ipython",
    "version": 3
   },
   "file_extension": ".py",
   "mimetype": "text/x-python",
   "name": "python",
   "nbconvert_exporter": "python",
   "pygments_lexer": "ipython3",
   "version": "3.6.1"
  }
 },
 "nbformat": 4,
 "nbformat_minor": 2
}
