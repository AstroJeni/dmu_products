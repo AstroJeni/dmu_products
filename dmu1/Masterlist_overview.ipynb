{
 "cells": [
  {
   "cell_type": "markdown",
   "metadata": {},
   "source": [
    "# Masterlist overview\n",
    "\n",
    "This notebook summarises some important properties of the data presented here. This includes\n",
    "\n",
    "- The area covered by each field\n",
    "- The number of total sources in each field\n",
    "- The number of bands which we have data for in each field\n",
    "- The size of the masterlist in each field"
   ]
  },
  {
   "cell_type": "code",
   "execution_count": 1,
   "metadata": {},
   "outputs": [],
   "source": [
    "from astropy.table import Table, Column\n",
    "import numpy as np\n",
    "\n",
    "from pymoc import MOC\n",
    "\n",
    "import os\n",
    "#import humanfriendly"
   ]
  },
  {
   "cell_type": "code",
   "execution_count": 5,
   "metadata": {
    "collapsed": true
   },
   "outputs": [],
   "source": [
    "dr1 = [\n",
    "# Field                suffix\n",
    "['AKARI-NEP',          '20171202' ],\n",
    "['AKARI-SEP',          '20180122' ],\n",
    "['Bootes',             '20180111' ],\n",
    "['CDFS-SWIRE',         '20180129' ],\n",
    "['COSMOS',             '20180112' ],\n",
    "['EGS',                '20171202' ],\n",
    "['ELAIS-N1',           '20171016' ],\n",
    "['ELAIS-N2',           '20171207' ],\n",
    "['ELAIS-S1',           '20180122' ],\n",
    "['GAMA-09',            '20171216' ],\n",
    "['GAMA-12',            '20180129' ],\n",
    "['GAMA-15',            '20180129' ],\n",
    "['HDF-N',              '20171212' ],\n",
    "['Herschel-Stripe-82', '20180113' ],\n",
    "['Lockman-SWIRE',      '20171201' ],\n",
    "['NGP',                '20171207' ],\n",
    "['SA13',               '20171123' ],\n",
    "['SGP',                '20180124' ],\n",
    "['SPIRE-NEP',          '20171122' ],\n",
    "['SSDF',               '20180122' ],\n",
    "['xFLS',               '20171201' ],\n",
    "['XMM-13hr',           '20171123' ],\n",
    "['XMM-LSS',            '20180130' ]]"
   ]
  },
  {
   "cell_type": "code",
   "execution_count": 6,
   "metadata": {},
   "outputs": [],
   "source": [
    "masterlist_summary = Table()\n",
    "masterlist_summary.add_column(Column(data = np.array(dr1)[:,0], name = 'Field'))\n",
    "masterlist_summary.add_column(Column(data =np.full(len(masterlist_summary), 0, dtype=int), name = '#Objects'))\n",
    "masterlist_summary.add_column(Column(data =np.full(len(masterlist_summary), np.nan, dtype=float), name = '#Area (sq. degrees)'))\n",
    "masterlist_summary.add_column(Column(data =np.full(len(masterlist_summary), np.nan, dtype=float), name = '#File size'))"
   ]
  },
  {
   "cell_type": "code",
   "execution_count": null,
   "metadata": {},
   "outputs": [],
   "source": [
    "help_moc = MOC(filename='../dmu2/help_coverage_MOC.fits')\n",
    "print('Total HELP area: {} sqare degrees'.format(round(help_moc.area_sq_deg)))"
   ]
  },
  {
   "cell_type": "code",
   "execution_count": null,
   "metadata": {},
   "outputs": [],
   "source": [
    "for field in dr1:\n",
    "    number_objects = len(Table.read('dmu1_{}/data/master_list_cross_ident_{}_{}.fits'.format(field[0], \n",
    "                                                                                      field[0].lower(), \n",
    "                                                                                      field[1])))\n",
    "    masterlist_summary[masterlist_summary['Field'] == field[0]]['#Objects'] = number_objects\n",
    "    \n",
    "    \n",
    "    moc = MOC(filename='../dmu2/dmu2_field_coverages/{}_MOC.fits'.format(field[0]))\n",
    "    area = round(moc.area_sq_deg)\n",
    "    masterlist_summary[masterlist_summary['Field'] == field[0]]['#Area (sq. degrees)'] = area\n",
    "    \n",
    "    size = os.stat('dmu1_{}/data/master_catalogue_{}_{}.fits'.format(field[0], \n",
    "                                                                                      field[0].lower(), \n",
    "                                                                                      field[1])).st_size\n",
    "    #Can't install packages on Vulcain\n",
    "    #size_readable = humanfriendly.format_size(size)\n",
    "    masterlist_summary[masterlist_summary['Field'] == field[0]]['#File size'] = size\n",
    "    \n",
    "    #TODO:\n",
    "    num_surveys = 0.\n",
    "    \n",
    "    num_bands = 0."
   ]
  },
  {
   "cell_type": "code",
   "execution_count": null,
   "metadata": {},
   "outputs": [],
   "source": [
    "masterlist_summary.show_in_notebook()"
   ]
  },
  {
   "cell_type": "code",
   "execution_count": null,
   "metadata": {
    "collapsed": true
   },
   "outputs": [],
   "source": [
    "masterlist_summary.write('dr1_overview.fits')"
   ]
  }
 ],
 "metadata": {
  "kernelspec": {
   "display_name": "Python (herschelhelp_internal)",
   "language": "python",
   "name": "helpint"
  },
  "language_info": {
   "codemirror_mode": {
    "name": "ipython",
    "version": 3
   },
   "file_extension": ".py",
   "mimetype": "text/x-python",
   "name": "python",
   "nbconvert_exporter": "python",
   "pygments_lexer": "ipython3",
   "version": "3.6.1"
  }
 },
 "nbformat": 4,
 "nbformat_minor": 2
}
