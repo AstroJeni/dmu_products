{
 "cells": [
  {
   "cell_type": "markdown",
   "metadata": {},
   "source": [
    "# Masterlist overview\n",
    "\n",
    "This notebook summarises some important properties of the data presented here. This includes\n",
    "\n",
    "- The area covered by each field\n",
    "- The number of total sources in each field\n",
    "- The number of bands which we have data for in each field\n",
    "- The size of the masterlist in each field"
   ]
  },
  {
   "cell_type": "code",
   "execution_count": 1,
   "metadata": {
    "collapsed": true
   },
   "outputs": [],
   "source": [
    "from astropy.table import Table, Column\n",
    "from astropy import units as u\n",
    "import numpy as np\n",
    "\n",
    "from pymoc import MOC\n",
    "\n",
    "import os\n",
    "#import humanfriendly"
   ]
  },
  {
   "cell_type": "code",
   "execution_count": 2,
   "metadata": {
    "collapsed": true
   },
   "outputs": [],
   "source": [
    "dr1 = [\n",
    "# Field                suffix\n",
    "['AKARI-NEP',          '20171202' ],\n",
    "['AKARI-SEP',          '20180122' ],\n",
    "['Bootes',             '20180111' ],\n",
    "['CDFS-SWIRE',         '20180129' ],\n",
    "['COSMOS',             '20180112' ],\n",
    "['EGS',                '20171202' ],\n",
    "['ELAIS-N1',           '20171016' ],\n",
    "['ELAIS-N2',           '20171207' ],\n",
    "['ELAIS-S1',           '20180122' ],\n",
    "['GAMA-09',            '20171206' ],\n",
    "['GAMA-12',            '20180129' ],\n",
    "['GAMA-15',            '20180129' ],\n",
    "['HDF-N',              '20171212' ],\n",
    "['Herschel-Stripe-82', '20180113' ],\n",
    "['Lockman-SWIRE',      '20171201' ],\n",
    "['NGP',                '20171207' ],\n",
    "['SA13',               '20171123' ],\n",
    "['SGP',                '20180124' ],\n",
    "['SPIRE-NEP',          '20171122' ],\n",
    "['SSDF',               '20180122' ],\n",
    "['xFLS',               '20171201' ],\n",
    "['XMM-13hr',           '20171123' ],\n",
    "['XMM-LSS',            '20180130' ]]"
   ]
  },
  {
   "cell_type": "code",
   "execution_count": 3,
   "metadata": {
    "collapsed": true
   },
   "outputs": [],
   "source": [
    "masterlist_summary = Table()\n",
    "masterlist_summary.add_column(Column(data = np.array(dr1)[:,0], name = 'field'))\n",
    "masterlist_summary.add_column(Column(data =np.full(len(masterlist_summary), 0, dtype=int), name = 'suffix'))\n",
    "masterlist_summary.add_column(Column(data =np.full(len(masterlist_summary), 0, dtype=int), name = 'objects'))\n",
    "masterlist_summary.add_column(Column(data =np.full(len(masterlist_summary), np.nan, dtype=float), name = 'area'))\n",
    "masterlist_summary.add_column(Column(data =np.full(len(masterlist_summary), np.nan, dtype=float), name = 'file_size'))"
   ]
  },
  {
   "cell_type": "code",
   "execution_count": 4,
   "metadata": {},
   "outputs": [
    {
     "name": "stdout",
     "output_type": "stream",
     "text": [
      "Total HELP area: 1270 sqare degrees\n"
     ]
    }
   ],
   "source": [
    "help_moc = MOC(filename='../dmu2/help_coverage_MOC.fits')\n",
    "print('Total HELP area: {} sqare degrees'.format(round(help_moc.area_sq_deg)))"
   ]
  },
  {
   "cell_type": "code",
   "execution_count": 5,
   "metadata": {
    "collapsed": true
   },
   "outputs": [],
   "source": [
    "for field in dr1:\n",
    "    number_objects = len(Table.read('dmu1_ml_{}/data/master_list_cross_ident_{}_{}.fits'.format(field[0], \n",
    "                                                                                      field[0].lower(), \n",
    "                                                                                      field[1])))\n",
    "    masterlist_summary['objects'][masterlist_summary['field'] == field[0]] = number_objects\n",
    "    \n",
    "    \n",
    "    moc = MOC(filename='../dmu2/dmu2_field_coverages/{}_MOC.fits'.format(field[0]))\n",
    "    area = round(moc.area_sq_deg)\n",
    "    masterlist_summary['area'][masterlist_summary['field'] == field[0]] = area\n",
    "    \n",
    "    masterlist_summary['suffix'][masterlist_summary['field'] == field[0]] = field[1]\n",
    "    \n",
    "    size = os.stat('dmu1_ml_{}/data/master_catalogue_{}_{}.fits'.format(field[0], \n",
    "                                                                                      field[0].lower(), \n",
    "                                                                                      field[1])).st_size\n",
    "    #Can't install packages on Vulcain\n",
    "    #size_readable = humanfriendly.format_size(size)\n",
    "    masterlist_summary['file_size'][masterlist_summary['field'] == field[0]] = size\n",
    "    \n",
    "    #TODO:\n",
    "    num_surveys = 0.\n",
    "    \n",
    "    num_bands = 0."
   ]
  },
  {
   "cell_type": "code",
   "execution_count": 6,
   "metadata": {},
   "outputs": [
    {
     "data": {
      "text/html": [
       "&lt;Table length=23&gt;\n",
       "<table id=\"table140510157949976-989224\" class=\"table-striped table-bordered table-condensed\">\n",
       "<thead><tr><th>idx</th><th>Field</th><th>#Objects</th><th>#Area (sq. degrees)</th><th>#File size</th></tr></thead>\n",
       "<tr><td>0</td><td>AKARI-NEP</td><td>285786</td><td>9.0</td><td>241231680.0</td></tr>\n",
       "<tr><td>1</td><td>AKARI-SEP</td><td>844172</td><td>9.0</td><td>524255040.0</td></tr>\n",
       "<tr><td>2</td><td>Bootes</td><td>3388482</td><td>11.0</td><td>4537221120.0</td></tr>\n",
       "<tr><td>3</td><td>CDFS-SWIRE</td><td>2171051</td><td>13.0</td><td>5731646400.0</td></tr>\n",
       "<tr><td>4</td><td>COSMOS</td><td>2779194</td><td>5.0</td><td>4630199040.0</td></tr>\n",
       "<tr><td>5</td><td>EGS</td><td>1412613</td><td>4.0</td><td>3890416320.0</td></tr>\n",
       "<tr><td>6</td><td>ELAIS-N1</td><td>4026292</td><td>14.0</td><td>5242279680.0</td></tr>\n",
       "<tr><td>7</td><td>ELAIS-N2</td><td>1783240</td><td>9.0</td><td>1941984000.0</td></tr>\n",
       "<tr><td>8</td><td>ELAIS-S1</td><td>1655564</td><td>9.0</td><td>1908901440.0</td></tr>\n",
       "<tr><td>9</td><td>GAMA-09</td><td>12937982</td><td>62.0</td><td>19652852160.0</td></tr>\n",
       "<tr><td>10</td><td>GAMA-12</td><td>12369415</td><td>63.0</td><td>14385677760.0</td></tr>\n",
       "<tr><td>11</td><td>GAMA-15</td><td>14232880</td><td>62.0</td><td>16310928960.0</td></tr>\n",
       "<tr><td>12</td><td>HDF-N</td><td>130679</td><td>1.0</td><td>188346240.0</td></tr>\n",
       "<tr><td>13</td><td>Herschel-Stripe-82</td><td>49243287</td><td>363.0</td><td>111585386880.0</td></tr>\n",
       "<tr><td>14</td><td>Lockman-SWIRE</td><td>4366298</td><td>22.0</td><td>5108604480.0</td></tr>\n",
       "<tr><td>15</td><td>NGP</td><td>6759591</td><td>178.0</td><td>4704701760.0</td></tr>\n",
       "<tr><td>16</td><td>SA13</td><td>9799</td><td>0.0</td><td>2554560.0</td></tr>\n",
       "<tr><td>17</td><td>SGP</td><td>29790690</td><td>295.0</td><td>48529091520.0</td></tr>\n",
       "<tr><td>18</td><td>SPIRE-NEP</td><td>2674</td><td>0.0</td><td>1157760.0</td></tr>\n",
       "<tr><td>19</td><td>SSDF</td><td>12661903</td><td>111.0</td><td>7825080960.0</td></tr>\n",
       "<tr><td>20</td><td>xFLS</td><td>977148</td><td>7.0</td><td>1050474240.0</td></tr>\n",
       "<tr><td>21</td><td>XMM-13hr</td><td>38629</td><td>1.0</td><td>10019520.0</td></tr>\n",
       "<tr><td>22</td><td>XMM-LSS</td><td>8752529</td><td>22.0</td><td>33819894720.0</td></tr>\n",
       "</table><style>table.dataTable {clear: both; width: auto !important; margin: 0 !important;}\n",
       ".dataTables_info, .dataTables_length, .dataTables_filter, .dataTables_paginate{\n",
       "display: inline-block; margin-right: 1em; }\n",
       ".paginate_button { margin-right: 5px; }\n",
       "</style>\n",
       "<script>\n",
       "require.config({paths: {\n",
       "    datatables: 'https://cdn.datatables.net/1.10.12/js/jquery.dataTables.min'\n",
       "}});\n",
       "require([\"datatables\"], function(){\n",
       "    console.log(\"$('#table140510157949976-989224').dataTable()\");\n",
       "    $('#table140510157949976-989224').dataTable({\n",
       "        \"order\": [],\n",
       "        \"iDisplayLength\": 50,\n",
       "        \"aLengthMenu\": [[10, 25, 50, 100, 500, 1000, -1], [10, 25, 50, 100, 500, 1000, 'All']],\n",
       "        \"pagingType\": \"full_numbers\"\n",
       "    });\n",
       "});\n",
       "</script>\n"
      ],
      "text/plain": [
       "<IPython.core.display.HTML object>"
      ]
     },
     "execution_count": 6,
     "metadata": {},
     "output_type": "execute_result"
    }
   ],
   "source": [
    "masterlist_summary.show_in_notebook()"
   ]
  },
  {
   "cell_type": "code",
   "execution_count": 2,
   "metadata": {},
   "outputs": [
    {
     "name": "stdout",
     "output_type": "stream",
     "text": [
      "Total number of objects in HELP: 170619898\n"
     ]
    }
   ],
   "source": [
    "print('Total number of objects in HELP: {}'.format(np.sum(masterlist_summary['Objects'])))"
   ]
  },
  {
   "cell_type": "code",
   "execution_count": 7,
   "metadata": {},
   "outputs": [
    {
     "name": "stderr",
     "output_type": "stream",
     "text": [
      "WARNING: VerifyWarning: It is strongly recommended that column names contain only upper and lower-case ASCII letters, digits, or underscores for maximum compatibility with other software (got '#Objects'). [astropy.io.fits.column]\n",
      "WARNING: VerifyWarning: It is strongly recommended that column names contain only upper and lower-case ASCII letters, digits, or underscores for maximum compatibility with other software (got '#Area (sq. degrees)'). [astropy.io.fits.column]\n",
      "WARNING: VerifyWarning: It is strongly recommended that column names contain only upper and lower-case ASCII letters, digits, or underscores for maximum compatibility with other software (got '#File size'). [astropy.io.fits.column]\n"
     ]
    }
   ],
   "source": [
    "masterlist_summary.write('dr1_overview.fits', overwrite=True)"
   ]
  }
 ],
 "metadata": {
  "kernelspec": {
   "display_name": "Python (herschelhelp_internal)",
   "language": "python",
   "name": "helpint"
  },
  "language_info": {
   "codemirror_mode": {
    "name": "ipython",
    "version": 3
   },
   "file_extension": ".py",
   "mimetype": "text/x-python",
   "name": "python",
   "nbconvert_exporter": "python",
   "pygments_lexer": "ipython3",
   "version": "3.6.1"
  }
 },
 "nbformat": 4,
 "nbformat_minor": 2
}
