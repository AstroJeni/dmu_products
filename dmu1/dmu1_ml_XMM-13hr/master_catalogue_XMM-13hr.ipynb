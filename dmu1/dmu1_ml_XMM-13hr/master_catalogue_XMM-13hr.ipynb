{
 "cells": [
  {
   "cell_type": "markdown",
   "metadata": {},
   "source": [
    "# HELP - XMM-13hr Master List Creation\n",
    "\n",
    "This notebook presents the creation of the HELP master list on the XMM-13hr field.\n",
    "\n",
    "<table>\n",
    "  <tr>\n",
    "    <th>Survey/Telescope/Instrument</th>\n",
    "    <th>Filters</th>\n",
    "    <th>Location</th>\n",
    "    <th>Notes</th>\n",
    "  </tr>\n",
    "  <tr>\n",
    "    <td>UKIDSS DXS/UKIRT/WFCAM</td>\n",
    "    <td>J,K</td>\n",
    "    <td>dmu0_UKIDSS-DXS, dmu0_ELAIS-N1_DXS</td>\n",
    "    <td></td>\n",
    "  </tr>\n",
    "  <tr>\n",
    "    <td>UKIDSS LAS/UKIRT/WFCAM\t\t</td>\n",
    "    <td>Y,J,H,K</td>\n",
    "    <td>dmu0_UKIDSS-LAS</td>\n",
    "    <td></td>\n",
    "  </tr>\n",
    "  <tr>\n",
    "    <td>PS1 3PS\tPan-STARRS1\t\t</td>\n",
    "    <td>grizy</td>\n",
    "    <td></td>\n",
    "    <td></td>\n",
    "  </tr>\n",
    "  <tr>\n",
    "    <td>2MASS</td>\n",
    "    <td>???</td>\n",
    "    <td>dmu0_2MASS</td>\n",
    "    <td>???</td>\n",
    "  </tr>\n",
    "</table>\n",
    "\n"
   ]
  },
  {
   "cell_type": "code",
   "execution_count": null,
   "metadata": {
    "collapsed": true
   },
   "outputs": [],
   "source": [
    "from herschelhelp_internal import git_version\n",
    "print(\"This notebook was run with herschelhelp_internal version: \\n{}\".format(git_version()))"
   ]
  }
 ],
 "metadata": {
  "anaconda-cloud": {},
  "kernelspec": {
   "display_name": "Python (herschelhelp_internal)",
   "language": "python",
   "name": "helpint"
  },
  "language_info": {
   "codemirror_mode": {
    "name": "ipython",
    "version": 3
   },
   "file_extension": ".py",
   "mimetype": "text/x-python",
   "name": "python",
   "nbconvert_exporter": "python",
   "pygments_lexer": "ipython3",
   "version": "3.6.1"
  }
 },
 "nbformat": 4,
 "nbformat_minor": 1
}
