{
 "cells": [
  {
   "cell_type": "markdown",
   "metadata": {},
   "source": [
    "# XMM-LSS master catalogue\n",
    "\n",
    "This notebook presents the merge of the various pristine catalogues to produce the HELP master catalogue on XMM-LSS."
   ]
  },
  {
   "cell_type": "code",
   "execution_count": 1,
   "metadata": {},
   "outputs": [
    {
     "name": "stdout",
     "output_type": "stream",
     "text": [
      "This notebook was run with herschelhelp_internal version: \n",
      "0246c5d (Thu Jan 25 17:01:47 2018 +0000)\n"
     ]
    }
   ],
   "source": [
    "from herschelhelp_internal import git_version\n",
    "print(\"This notebook was run with herschelhelp_internal version: \\n{}\".format(git_version()))"
   ]
  },
  {
   "cell_type": "code",
   "execution_count": 2,
   "metadata": {},
   "outputs": [
    {
     "name": "stderr",
     "output_type": "stream",
     "text": [
      "/Users/rs548/anaconda/envs/herschelhelp_internal/lib/python3.6/site-packages/seaborn/apionly.py:6: UserWarning: As seaborn no longer sets a default style on import, the seaborn.apionly module is deprecated. It will be removed in a future version.\n",
      "  warnings.warn(msg, UserWarning)\n"
     ]
    }
   ],
   "source": [
    "%matplotlib inline\n",
    "#%config InlineBackend.figure_format = 'svg'\n",
    "\n",
    "import matplotlib.pyplot as plt\n",
    "plt.rc('figure', figsize=(10, 6))\n",
    "\n",
    "import os\n",
    "import time\n",
    "\n",
    "from astropy import units as u\n",
    "from astropy.coordinates import SkyCoord\n",
    "from astropy.table import Column, Table\n",
    "import numpy as np\n",
    "from pymoc import MOC\n",
    "\n",
    "from herschelhelp_internal.masterlist import merge_catalogues, nb_merge_dist_plot, specz_merge\n",
    "from herschelhelp_internal.utils import coords_to_hpidx, ebv, gen_help_id, inMoc"
   ]
  },
  {
   "cell_type": "code",
   "execution_count": 3,
   "metadata": {
    "collapsed": true
   },
   "outputs": [],
   "source": [
    "TMP_DIR = os.environ.get('TMP_DIR', \"./data_tmp\")\n",
    "OUT_DIR = os.environ.get('OUT_DIR', \"./data\")\n",
    "SUFFIX = os.environ.get('SUFFIX', time.strftime(\"_%Y%m%d\"))\n",
    "\n",
    "try:\n",
    "    os.makedirs(OUT_DIR)\n",
    "except FileExistsError:\n",
    "    pass"
   ]
  },
  {
   "cell_type": "markdown",
   "metadata": {},
   "source": [
    "## I - Reading the prepared pristine catalogues"
   ]
  },
  {
   "cell_type": "code",
   "execution_count": 4,
   "metadata": {
    "collapsed": true
   },
   "outputs": [],
   "source": [
    "candels = Table.read(\"{}/CANDELS-UDS.fits\".format(TMP_DIR))           # 1.2\n",
    "#cfht_wirds = Table.read(\"{}/CFHT-WIRDS.fits\".format(TMP_DIR))     # 1.3\n",
    "#cfhtls_wide = Table.read(\"{}/CFHTLS-WIDE.fits\".format(TMP_DIR))   # 1.4a\n",
    "#cfhtls_deep = Table.read(\"{}/CFHTLS-DEEP.fits\".format(TMP_DIR))   # 1.4b\n",
    "#We no longer use CFHTLenS as it is the same raw data set as CFHTLS-WIDE\n",
    "# cfhtlens = Table.read(\"{}/CFHTLENS.fits\".format(TMP_DIR))         # 1.5\n",
    "#decals = Table.read(\"{}/DECaLS.fits\".format(TMP_DIR))             # 1.6\n",
    "#servs = Table.read(\"{}/SERVS.fits\".format(TMP_DIR))               # 1.8\n",
    "#swire = Table.read(\"{}/SWIRE.fits\".format(TMP_DIR))               # 1.7\n",
    "#hsc_wide = Table.read(\"{}/HSC-WIDE.fits\".format(TMP_DIR))         # 1.9a\n",
    "#hsc_deep = Table.read(\"{}/HSC-DEEP.fits\".format(TMP_DIR))         # 1.9b\n",
    "#hsc_udeep = Table.read(\"{}/HSC-UDEEP.fits\".format(TMP_DIR))       # 1.9c\n",
    "#ps1 = Table.read(\"{}/PS1.fits\".format(TMP_DIR))                   # 1.10\n",
    "#sxds = Table.read(\"{}/SXDS.fits\".format(TMP_DIR))                 # 1.11\n",
    "#sparcs = Table.read(\"{}/SpARCS.fits\".format(TMP_DIR))             # 1.12\n",
    "dxs = Table.read(\"{}/UKIDSS-DXS.fits\".format(TMP_DIR))            # 1.13\n",
    "uds = Table.read(\"{}/UKIDSS-UDS.fits\".format(TMP_DIR))            # 1.14\n",
    "#vipers = Table.read(\"{}/VIPERS.fits\".format(TMP_DIR))             # 1.15\n",
    "#vhs = Table.read(\"{}/VISTA-VHS.fits\".format(TMP_DIR))             # 1.16\n",
    "#video = Table.read(\"{}/VISTA-VIDEO.fits\".format(TMP_DIR))         # 1.17\n",
    "#viking = Table.read(\"{}/VISTA-VIKING.fits\".format(TMP_DIR))       # 1.18"
   ]
  },
  {
   "cell_type": "markdown",
   "metadata": {},
   "source": [
    "## II - Merging tables\n",
    "\n",
    "We first merge the optical catalogues and then add the infrared ones. We start with PanSTARRS because it coevrs the whole field.\n",
    "\n",
    "At every step, we look at the distribution of the distances to the nearest source in the merged catalogue to determine the best crossmatching radius."
   ]
  },
  {
   "cell_type": "markdown",
   "metadata": {},
   "source": [
    "### Start with CANDELS"
   ]
  },
  {
   "cell_type": "code",
   "execution_count": 5,
   "metadata": {},
   "outputs": [
    {
     "name": "stdout",
     "output_type": "stream",
     "text": [
      "f_acs_f606w  removed.\n",
      "ferr_acs_f606w  removed.\n",
      "f_ap_acs_f606w  removed.\n",
      "ferr_ap_acs_f606w  removed.\n",
      "f_acs_f814w  removed.\n",
      "ferr_acs_f814w  removed.\n",
      "f_ap_acs_f814w  removed.\n",
      "ferr_ap_acs_f814w  removed.\n",
      "f_wfc3_f125w  removed.\n",
      "ferr_wfc3_f125w  removed.\n",
      "f_ap_wfc3_f125w  removed.\n",
      "ferr_ap_wfc3_f125w  removed.\n",
      "f_wfc3_f160w  removed.\n",
      "ferr_wfc3_f160w  removed.\n",
      "f_ap_wfc3_f160w  removed.\n",
      "ferr_ap_wfc3_f160w  removed.\n",
      "f_candels-megacam_u  removed.\n",
      "ferr_candels-megacam_u  removed.\n",
      "f_suprime_b  removed.\n",
      "ferr_suprime_b  removed.\n",
      "f_suprime_v  removed.\n",
      "ferr_suprime_v  removed.\n",
      "f_suprime_rc  removed.\n",
      "ferr_suprime_rc  removed.\n",
      "f_suprime_ip  removed.\n",
      "ferr_suprime_ip  removed.\n",
      "f_suprime_zp  removed.\n",
      "ferr_suprime_zp  removed.\n",
      "f_hawki_k  removed.\n",
      "ferr_hawki_y  removed.\n",
      "ferr_hawki_k  removed.\n",
      "f_candels-irac_i1  removed.\n",
      "ferr_candels-irac_i1  removed.\n",
      "f_candels-irac_i2  removed.\n",
      "ferr_candels-irac_i2  removed.\n",
      "f_candels-irac_i3  removed.\n",
      "ferr_candels-irac_i3  removed.\n",
      "f_candels-irac_i4  removed.\n",
      "ferr_candels-irac_i4  removed.\n",
      "m_acs_f606w  removed.\n",
      "merr_acs_f606w  removed.\n",
      "flag_acs_f606w  removed.\n",
      "m_ap_acs_f606w  removed.\n",
      "merr_ap_acs_f606w  removed.\n",
      "m_acs_f814w  removed.\n",
      "merr_acs_f814w  removed.\n",
      "flag_acs_f814w  removed.\n",
      "m_ap_acs_f814w  removed.\n",
      "merr_ap_acs_f814w  removed.\n",
      "m_wfc3_f125w  removed.\n",
      "merr_wfc3_f125w  removed.\n",
      "flag_wfc3_f125w  removed.\n",
      "m_ap_wfc3_f125w  removed.\n",
      "merr_ap_wfc3_f125w  removed.\n",
      "m_wfc3_f160w  removed.\n",
      "merr_wfc3_f160w  removed.\n",
      "flag_wfc3_f160w  removed.\n",
      "m_ap_wfc3_f160w  removed.\n",
      "merr_ap_wfc3_f160w  removed.\n",
      "m_candels-megacam_u  removed.\n",
      "merr_candels-megacam_u  removed.\n",
      "flag_candels-megacam_u  removed.\n",
      "m_suprime_b  removed.\n",
      "merr_suprime_b  removed.\n",
      "flag_suprime_b  removed.\n",
      "m_suprime_v  removed.\n",
      "merr_suprime_v  removed.\n",
      "flag_suprime_v  removed.\n",
      "m_suprime_rc  removed.\n",
      "merr_suprime_rc  removed.\n",
      "flag_suprime_rc  removed.\n",
      "m_suprime_ip  removed.\n",
      "merr_suprime_ip  removed.\n",
      "flag_suprime_ip  removed.\n",
      "m_suprime_zp  removed.\n",
      "merr_suprime_zp  removed.\n",
      "flag_suprime_zp  removed.\n",
      "m_hawki_k  removed.\n",
      "merr_hawki_k  removed.\n",
      "flag_hawki_k  removed.\n",
      "m_candels-irac_i1  removed.\n",
      "merr_candels-irac_i1  removed.\n",
      "flag_candels-irac_i1  removed.\n",
      "m_candels-irac_i2  removed.\n",
      "merr_candels-irac_i2  removed.\n",
      "flag_candels-irac_i2  removed.\n",
      "m_candels-irac_i3  removed.\n",
      "merr_candels-irac_i3  removed.\n",
      "flag_candels-irac_i3  removed.\n",
      "m_candels-irac_i4  removed.\n",
      "merr_candels-irac_i4  removed.\n",
      "flag_candels-irac_i4  removed.\n"
     ]
    }
   ],
   "source": [
    "master_catalogue = candels\n",
    "master_catalogue['candels_ra'].name = 'ra'\n",
    "master_catalogue['candels_dec'].name = 'dec'\n",
    "del candels\n",
    "unused_bands = [ 'candels-megacam', 'candels-irac', 'hawki', 'suprime', 'wfc3', 'acs']\n",
    "for col in master_catalogue.colnames:\n",
    "    \n",
    "    for band in unused_bands:\n",
    "        if band in col:\n",
    "            master_catalogue.remove_column(col)\n",
    "            print(col, ' removed.')"
   ]
  },
  {
   "cell_type": "markdown",
   "metadata": {},
   "source": [
    "### Add DXS"
   ]
  },
  {
   "cell_type": "code",
   "execution_count": 6,
   "metadata": {},
   "outputs": [
    {
     "name": "stdout",
     "output_type": "stream",
     "text": [
      "HELP Warning: There weren't any cross matches. The two surveys probably don't overlap.\n"
     ]
    }
   ],
   "source": [
    "nb_merge_dist_plot(\n",
    "    SkyCoord(master_catalogue['ra'], master_catalogue['dec']),\n",
    "    SkyCoord(dxs['dxs_ra'], dxs['dxs_dec'])\n",
    ")"
   ]
  },
  {
   "cell_type": "code",
   "execution_count": 7,
   "metadata": {
    "collapsed": true
   },
   "outputs": [],
   "source": [
    "# Given the graph above, we use 0.8 arc-second radius\n",
    "master_catalogue = merge_catalogues(master_catalogue, dxs, \"dxs_ra\", \"dxs_dec\", radius=0.8*u.arcsec)"
   ]
  },
  {
   "cell_type": "markdown",
   "metadata": {},
   "source": [
    "### Add UDS"
   ]
  },
  {
   "cell_type": "code",
   "execution_count": 8,
   "metadata": {},
   "outputs": [
    {
     "data": {
      "image/png": "[encoded data removed]",
      "text/plain": [
       "<matplotlib.figure.Figure at 0x10de906a0>"
      ]
     },
     "metadata": {},
     "output_type": "display_data"
    }
   ],
   "source": [
    "nb_merge_dist_plot(\n",
    "    SkyCoord(master_catalogue['ra'], master_catalogue['dec']),\n",
    "    SkyCoord(uds['uds_ra'], uds['uds_dec'])\n",
    ")"
   ]
  },
  {
   "cell_type": "code",
   "execution_count": 9,
   "metadata": {},
   "outputs": [
    {
     "name": "stderr",
     "output_type": "stream",
     "text": [
      "WARNING: MergeConflictWarning: Cannot merge meta key 'DATE-HDU' types <class 'str'> and <class 'str'>, choosing DATE-HDU='2017-10-27T13:11:22' [astropy.utils.metadata]\n",
      "WARNING: MergeConflictWarning: Cannot merge meta key 'DATE-HDU' types <class 'str'> and <class 'str'>, choosing DATE-HDU='2017-10-27T13:11:22' [astropy.utils.metadata]\n"
     ]
    }
   ],
   "source": [
    "# Given the graph above, we use 0.6 arc-second radius\n",
    "master_catalogue = merge_catalogues(master_catalogue, uds, \"uds_ra\", \"uds_dec\", radius=0.6*u.arcsec)"
   ]
  },
  {
   "cell_type": "markdown",
   "metadata": {},
   "source": [
    "### Cleaning\n",
    "\n",
    "When we merge the catalogues, astropy masks the non-existent values (e.g. when a row comes only from a catalogue and has no counterparts in the other, the columns from the latest are masked for that row). We indicate to use NaN for masked values for floats columns, False for flag columns and -1 for ID columns."
   ]
  },
  {
   "cell_type": "code",
   "execution_count": 10,
   "metadata": {
    "collapsed": true
   },
   "outputs": [],
   "source": [
    "for col in master_catalogue.colnames:\n",
    "    if \"m_\" in col or \"merr_\" in col or \"f_\" in col or \"ferr_\" in col or \"stellarity\" in col:\n",
    "        master_catalogue[col] = master_catalogue[col].astype(float)\n",
    "        master_catalogue[col].fill_value = np.nan\n",
    "    elif \"flag\" in col:\n",
    "        master_catalogue[col].fill_value = 0\n",
    "    elif \"id\" in col:\n",
    "        master_catalogue[col].fill_value = -1\n",
    "        \n",
    "master_catalogue = master_catalogue.filled()"
   ]
  },
  {
   "cell_type": "code",
   "execution_count": 11,
   "metadata": {
    "collapsed": true
   },
   "outputs": [],
   "source": [
    "#Since this is not the final merged catalogue. We rename column names to make them unique\n",
    "master_catalogue['ra'].name = 'ukidss_ra'\n",
    "master_catalogue['dec'].name = 'ukidss_dec'\n",
    "master_catalogue['flag_merged'].name = 'ukidss_flag_merged'"
   ]
  },
  {
   "cell_type": "code",
   "execution_count": 12,
   "metadata": {},
   "outputs": [
    {
     "data": {
      "text/html": [
       "&lt;Table length=10&gt;\n",
       "<table id=\"table4553550816-388378\" class=\"table-striped table-bordered table-condensed\">\n",
       "<thead><tr><th>idx</th><th>candels_id</th><th>ukidss_ra</th><th>ukidss_dec</th><th>candels_stellarity</th><th>f_candels-ukidss_j</th><th>ferr_candels-ukidss_j</th><th>f_candels-ukidss_h</th><th>ferr_candels-ukidss_h</th><th>f_candels-ukidss_k</th><th>ferr_candels-ukidss_k</th><th>m_candels-ukidss_j</th><th>merr_candels-ukidss_j</th><th>flag_candels-ukidss_j</th><th>m_candels-ukidss_h</th><th>merr_candels-ukidss_h</th><th>flag_candels-ukidss_h</th><th>m_candels-ukidss_k</th><th>merr_candels-ukidss_k</th><th>flag_candels-ukidss_k</th><th>candels_flag_cleaned</th><th>candels_flag_gaia</th><th>ukidss_flag_merged</th><th>dxs_id</th><th>m_ap_ukidss_j</th><th>merr_ap_ukidss_j</th><th>m_ukidss_j</th><th>merr_ukidss_j</th><th>m_ap_ukidss_k</th><th>merr_ap_ukidss_k</th><th>m_ukidss_k</th><th>merr_ukidss_k</th><th>dxs_stellarity</th><th>f_ap_ukidss_j</th><th>ferr_ap_ukidss_j</th><th>f_ukidss_j</th><th>ferr_ukidss_j</th><th>flag_ukidss_j</th><th>f_ap_ukidss_k</th><th>ferr_ap_ukidss_k</th><th>f_ukidss_k</th><th>ferr_ukidss_k</th><th>flag_ukidss_k</th><th>dxs_flag_cleaned</th><th>dxs_flag_gaia</th><th>uds_id</th><th>m_ap_uds_j</th><th>merr_ap_uds_j</th><th>m_uds_j</th><th>merr_uds_j</th><th>m_ap_uds_h</th><th>merr_ap_uds_h</th><th>m_uds_h</th><th>merr_uds_h</th><th>m_ap_uds_k</th><th>merr_ap_uds_k</th><th>m_uds_k</th><th>merr_uds_k</th><th>uds_stellarity</th><th>f_ap_uds_j</th><th>ferr_ap_uds_j</th><th>f_uds_j</th><th>ferr_uds_j</th><th>flag_uds_j</th><th>f_ap_uds_h</th><th>ferr_ap_uds_h</th><th>f_uds_h</th><th>ferr_uds_h</th><th>flag_uds_h</th><th>f_ap_uds_k</th><th>ferr_ap_uds_k</th><th>f_uds_k</th><th>ferr_uds_k</th><th>flag_uds_k</th><th>uds_flag_cleaned</th><th>uds_flag_gaia</th></tr></thead>\n",
       "<thead><tr><th></th><th></th><th>deg</th><th>deg</th><th></th><th></th><th></th><th></th><th></th><th></th><th></th><th></th><th></th><th></th><th></th><th></th><th></th><th></th><th></th><th></th><th></th><th></th><th></th><th></th><th></th><th></th><th></th><th></th><th></th><th></th><th></th><th></th><th></th><th></th><th></th><th></th><th></th><th></th><th></th><th></th><th></th><th></th><th></th><th></th><th></th><th></th><th></th><th></th><th></th><th></th><th></th><th></th><th></th><th></th><th></th><th></th><th></th><th></th><th></th><th></th><th></th><th></th><th></th><th></th><th></th><th></th><th></th><th></th><th></th><th></th><th></th><th></th><th></th><th></th><th></th><th></th></tr></thead>\n",
       "<tr><td>0</td><td>35489</td><td>34.4574665693</td><td>-5.12505315973</td><td>0.810000002384</td><td>-0.0070204</td><td>0.0061551</td><td>-0.0050178</td><td>0.012634</td><td>-0.0071996</td><td>0.0065574</td><td>nan</td><td>-0.951913696357</td><td>False</td><td>nan</td><td>-2.73370624794</td><td>False</td><td>nan</td><td>-0.988889186772</td><td>False</td><td>False</td><td>0</td><td>False</td><td>-1</td><td>nan</td><td>nan</td><td>nan</td><td>nan</td><td>nan</td><td>nan</td><td>nan</td><td>nan</td><td>nan</td><td>nan</td><td>nan</td><td>nan</td><td>nan</td><td>False</td><td>nan</td><td>nan</td><td>nan</td><td>nan</td><td>False</td><td>False</td><td>0</td><td>-1</td><td>nan</td><td>nan</td><td>nan</td><td>nan</td><td>nan</td><td>nan</td><td>nan</td><td>nan</td><td>nan</td><td>nan</td><td>nan</td><td>nan</td><td>nan</td><td>nan</td><td>nan</td><td>nan</td><td>nan</td><td>False</td><td>nan</td><td>nan</td><td>nan</td><td>nan</td><td>False</td><td>nan</td><td>nan</td><td>nan</td><td>nan</td><td>False</td><td>False</td><td>0</td></tr>\n",
       "<tr><td>1</td><td>27199</td><td>34.3561903693</td><td>-5.27671705973</td><td>0.980000019073</td><td>0.0391383</td><td>0.0175715</td><td>0.1145652</td><td>0.0375973</td><td>0.038752</td><td>0.0205879</td><td>27.4184951054</td><td>0.487451261856</td><td>False</td><td>26.252368206</td><td>0.356310204243</td><td>False</td><td>27.4292646963</td><td>0.576822574575</td><td>False</td><td>False</td><td>0</td><td>False</td><td>-1</td><td>nan</td><td>nan</td><td>nan</td><td>nan</td><td>nan</td><td>nan</td><td>nan</td><td>nan</td><td>nan</td><td>nan</td><td>nan</td><td>nan</td><td>nan</td><td>False</td><td>nan</td><td>nan</td><td>nan</td><td>nan</td><td>False</td><td>False</td><td>0</td><td>-1</td><td>nan</td><td>nan</td><td>nan</td><td>nan</td><td>nan</td><td>nan</td><td>nan</td><td>nan</td><td>nan</td><td>nan</td><td>nan</td><td>nan</td><td>nan</td><td>nan</td><td>nan</td><td>nan</td><td>nan</td><td>False</td><td>nan</td><td>nan</td><td>nan</td><td>nan</td><td>False</td><td>nan</td><td>nan</td><td>nan</td><td>nan</td><td>False</td><td>False</td><td>0</td></tr>\n",
       "<tr><td>2</td><td>72</td><td>34.4389173693</td><td>-5.27655485973</td><td>0.00999999977648</td><td>0.1376875</td><td>0.0291017</td><td>0.2253812</td><td>0.0621794</td><td>0.11561</td><td>0.0345045</td><td>26.0527637138</td><td>0.229481756223</td><td>False</td><td>25.5177057828</td><td>0.299538851378</td><td>False</td><td>26.242511497</td><td>0.324044502007</td><td>False</td><td>False</td><td>0</td><td>False</td><td>-1</td><td>nan</td><td>nan</td><td>nan</td><td>nan</td><td>nan</td><td>nan</td><td>nan</td><td>nan</td><td>nan</td><td>nan</td><td>nan</td><td>nan</td><td>nan</td><td>False</td><td>nan</td><td>nan</td><td>nan</td><td>nan</td><td>False</td><td>False</td><td>0</td><td>-1</td><td>nan</td><td>nan</td><td>nan</td><td>nan</td><td>nan</td><td>nan</td><td>nan</td><td>nan</td><td>nan</td><td>nan</td><td>nan</td><td>nan</td><td>nan</td><td>nan</td><td>nan</td><td>nan</td><td>nan</td><td>False</td><td>nan</td><td>nan</td><td>nan</td><td>nan</td><td>False</td><td>nan</td><td>nan</td><td>nan</td><td>nan</td><td>False</td><td>False</td><td>0</td></tr>\n",
       "<tr><td>3</td><td>29734</td><td>34.3542499693</td><td>-5.23240925973</td><td>0.829999983311</td><td>0.0215244</td><td>0.0392939</td><td>0.0705578</td><td>0.0821216</td><td>0.1340444</td><td>0.048435</td><td>28.0676723645</td><td>1.98206732156</td><td>False</td><td>26.7786374225</td><td>1.26367877559</td><td>False</td><td>26.0818783123</td><td>0.392315032015</td><td>False</td><td>False</td><td>0</td><td>False</td><td>-1</td><td>nan</td><td>nan</td><td>nan</td><td>nan</td><td>nan</td><td>nan</td><td>nan</td><td>nan</td><td>nan</td><td>nan</td><td>nan</td><td>nan</td><td>nan</td><td>False</td><td>nan</td><td>nan</td><td>nan</td><td>nan</td><td>False</td><td>False</td><td>0</td><td>-1</td><td>nan</td><td>nan</td><td>nan</td><td>nan</td><td>nan</td><td>nan</td><td>nan</td><td>nan</td><td>nan</td><td>nan</td><td>nan</td><td>nan</td><td>nan</td><td>nan</td><td>nan</td><td>nan</td><td>nan</td><td>False</td><td>nan</td><td>nan</td><td>nan</td><td>nan</td><td>False</td><td>nan</td><td>nan</td><td>nan</td><td>nan</td><td>False</td><td>False</td><td>0</td></tr>\n",
       "<tr><td>4</td><td>29795</td><td>34.5105653693</td><td>-5.23129955973</td><td>0.889999985695</td><td>-0.016015</td><td>0.0413541</td><td>0.0534729</td><td>0.0856599</td><td>0.0532227</td><td>0.0496026</td><td>nan</td><td>-2.80359934968</td><td>False</td><td>27.0796656553</td><td>1.73927456199</td><td>False</td><td>27.0847577434</td><td>1.0118866324</td><td>False</td><td>False</td><td>0</td><td>False</td><td>-1</td><td>nan</td><td>nan</td><td>nan</td><td>nan</td><td>nan</td><td>nan</td><td>nan</td><td>nan</td><td>nan</td><td>nan</td><td>nan</td><td>nan</td><td>nan</td><td>False</td><td>nan</td><td>nan</td><td>nan</td><td>nan</td><td>False</td><td>False</td><td>0</td><td>-1</td><td>nan</td><td>nan</td><td>nan</td><td>nan</td><td>nan</td><td>nan</td><td>nan</td><td>nan</td><td>nan</td><td>nan</td><td>nan</td><td>nan</td><td>nan</td><td>nan</td><td>nan</td><td>nan</td><td>nan</td><td>False</td><td>nan</td><td>nan</td><td>nan</td><td>nan</td><td>False</td><td>nan</td><td>nan</td><td>nan</td><td>nan</td><td>False</td><td>False</td><td>0</td></tr>\n",
       "<tr><td>5</td><td>29791</td><td>34.4299348693</td><td>-5.23140595973</td><td>0.730000019073</td><td>0.0508796</td><td>0.0415829</td><td>0.1190635</td><td>0.0867619</td><td>0.1122186</td><td>0.0518169</td><td>27.1336407791</td><td>0.887350923137</td><td>False</td><td>26.2105533876</td><td>0.791178959325</td><td>False</td><td>26.2748378843</td><td>0.501338319569</td><td>False</td><td>False</td><td>0</td><td>False</td><td>-1</td><td>nan</td><td>nan</td><td>nan</td><td>nan</td><td>nan</td><td>nan</td><td>nan</td><td>nan</td><td>nan</td><td>nan</td><td>nan</td><td>nan</td><td>nan</td><td>False</td><td>nan</td><td>nan</td><td>nan</td><td>nan</td><td>False</td><td>False</td><td>0</td><td>-1</td><td>nan</td><td>nan</td><td>nan</td><td>nan</td><td>nan</td><td>nan</td><td>nan</td><td>nan</td><td>nan</td><td>nan</td><td>nan</td><td>nan</td><td>nan</td><td>nan</td><td>nan</td><td>nan</td><td>nan</td><td>False</td><td>nan</td><td>nan</td><td>nan</td><td>nan</td><td>False</td><td>nan</td><td>nan</td><td>nan</td><td>nan</td><td>False</td><td>False</td><td>0</td></tr>\n",
       "<tr><td>6</td><td>8057</td><td>34.5051666693</td><td>-5.23047325973</td><td>0.0799999982119</td><td>0.0836337</td><td>0.0426707</td><td>0.0894166</td><td>0.0886213</td><td>0.0878248</td><td>0.0518163</td><td>26.5940467234</td><td>0.553952818928</td><td>False</td><td>26.5214546197</td><td>1.07607931774</td><td>False</td><td>26.5409570763</td><td>0.640580256449</td><td>False</td><td>False</td><td>0</td><td>False</td><td>-1</td><td>nan</td><td>nan</td><td>nan</td><td>nan</td><td>nan</td><td>nan</td><td>nan</td><td>nan</td><td>nan</td><td>nan</td><td>nan</td><td>nan</td><td>nan</td><td>False</td><td>nan</td><td>nan</td><td>nan</td><td>nan</td><td>False</td><td>False</td><td>0</td><td>-1</td><td>nan</td><td>nan</td><td>nan</td><td>nan</td><td>nan</td><td>nan</td><td>nan</td><td>nan</td><td>nan</td><td>nan</td><td>nan</td><td>nan</td><td>nan</td><td>nan</td><td>nan</td><td>nan</td><td>nan</td><td>False</td><td>nan</td><td>nan</td><td>nan</td><td>nan</td><td>False</td><td>nan</td><td>nan</td><td>nan</td><td>nan</td><td>False</td><td>False</td><td>0</td></tr>\n",
       "<tr><td>7</td><td>34215</td><td>34.4212012693</td><td>-5.15455295973</td><td>0.910000026226</td><td>0.0121109</td><td>0.041225</td><td>0.122509</td><td>0.0855445</td><td>-0.0360971</td><td>0.0509523</td><td>28.6920589546</td><td>3.69580089351</td><td>False</td><td>26.1795800128</td><td>0.758138265498</td><td>False</td><td>nan</td><td>-1.53255405076</td><td>False</td><td>False</td><td>0</td><td>False</td><td>-1</td><td>nan</td><td>nan</td><td>nan</td><td>nan</td><td>nan</td><td>nan</td><td>nan</td><td>nan</td><td>nan</td><td>nan</td><td>nan</td><td>nan</td><td>nan</td><td>False</td><td>nan</td><td>nan</td><td>nan</td><td>nan</td><td>False</td><td>False</td><td>0</td><td>-1</td><td>nan</td><td>nan</td><td>nan</td><td>nan</td><td>nan</td><td>nan</td><td>nan</td><td>nan</td><td>nan</td><td>nan</td><td>nan</td><td>nan</td><td>nan</td><td>nan</td><td>nan</td><td>nan</td><td>nan</td><td>False</td><td>nan</td><td>nan</td><td>nan</td><td>nan</td><td>False</td><td>nan</td><td>nan</td><td>nan</td><td>nan</td><td>False</td><td>False</td><td>0</td></tr>\n",
       "<tr><td>8</td><td>29842</td><td>34.3557057693</td><td>-5.23030265973</td><td>0.810000002384</td><td>nan</td><td>nan</td><td>nan</td><td>nan</td><td>nan</td><td>nan</td><td>nan</td><td>nan</td><td>False</td><td>nan</td><td>nan</td><td>False</td><td>nan</td><td>nan</td><td>False</td><td>False</td><td>0</td><td>False</td><td>-1</td><td>nan</td><td>nan</td><td>nan</td><td>nan</td><td>nan</td><td>nan</td><td>nan</td><td>nan</td><td>nan</td><td>nan</td><td>nan</td><td>nan</td><td>nan</td><td>False</td><td>nan</td><td>nan</td><td>nan</td><td>nan</td><td>False</td><td>False</td><td>0</td><td>-1</td><td>nan</td><td>nan</td><td>nan</td><td>nan</td><td>nan</td><td>nan</td><td>nan</td><td>nan</td><td>nan</td><td>nan</td><td>nan</td><td>nan</td><td>nan</td><td>nan</td><td>nan</td><td>nan</td><td>nan</td><td>False</td><td>nan</td><td>nan</td><td>nan</td><td>nan</td><td>False</td><td>nan</td><td>nan</td><td>nan</td><td>nan</td><td>False</td><td>False</td><td>0</td></tr>\n",
       "<tr><td>9</td><td>7713</td><td>34.4335831693</td><td>-5.23246385973</td><td>0.370000004768</td><td>0.0890695</td><td>0.0403058</td><td>0.096579</td><td>0.0844482</td><td>0.0929031</td><td>0.0501408</td><td>26.5256774641</td><td>0.491318198954</td><td>False</td><td>26.4377932392</td><td>0.949362368286</td><td>False</td><td>26.4799244855</td><td>0.585983480589</td><td>False</td><td>False</td><td>0</td><td>False</td><td>-1</td><td>nan</td><td>nan</td><td>nan</td><td>nan</td><td>nan</td><td>nan</td><td>nan</td><td>nan</td><td>nan</td><td>nan</td><td>nan</td><td>nan</td><td>nan</td><td>False</td><td>nan</td><td>nan</td><td>nan</td><td>nan</td><td>False</td><td>False</td><td>0</td><td>-1</td><td>nan</td><td>nan</td><td>nan</td><td>nan</td><td>nan</td><td>nan</td><td>nan</td><td>nan</td><td>nan</td><td>nan</td><td>nan</td><td>nan</td><td>nan</td><td>nan</td><td>nan</td><td>nan</td><td>nan</td><td>False</td><td>nan</td><td>nan</td><td>nan</td><td>nan</td><td>False</td><td>nan</td><td>nan</td><td>nan</td><td>nan</td><td>False</td><td>False</td><td>0</td></tr>\n",
       "</table><style>table.dataTable {clear: both; width: auto !important; margin: 0 !important;}\n",
       ".dataTables_info, .dataTables_length, .dataTables_filter, .dataTables_paginate{\n",
       "display: inline-block; margin-right: 1em; }\n",
       ".paginate_button { margin-right: 5px; }\n",
       "</style>\n",
       "<script>\n",
       "\n",
       "var astropy_sort_num = function(a, b) {\n",
       "    var a_num = parseFloat(a);\n",
       "    var b_num = parseFloat(b);\n",
       "\n",
       "    if (isNaN(a_num) && isNaN(b_num))\n",
       "        return ((a < b) ? -1 : ((a > b) ? 1 : 0));\n",
       "    else if (!isNaN(a_num) && !isNaN(b_num))\n",
       "        return ((a_num < b_num) ? -1 : ((a_num > b_num) ? 1 : 0));\n",
       "    else\n",
       "        return isNaN(a_num) ? -1 : 1;\n",
       "}\n",
       "\n",
       "require.config({paths: {\n",
       "    datatables: 'https://cdn.datatables.net/1.10.12/js/jquery.dataTables.min'\n",
       "}});\n",
       "require([\"datatables\"], function(){\n",
       "    console.log(\"$('#table4553550816-388378').dataTable()\");\n",
       "    \n",
       "jQuery.extend( jQuery.fn.dataTableExt.oSort, {\n",
       "    \"optionalnum-asc\": astropy_sort_num,\n",
       "    \"optionalnum-desc\": function (a,b) { return -astropy_sort_num(a, b); }\n",
       "});\n",
       "\n",
       "    $('#table4553550816-388378').dataTable({\n",
       "        order: [],\n",
       "        pageLength: 50,\n",
       "        lengthMenu: [[10, 25, 50, 100, 500, 1000, -1], [10, 25, 50, 100, 500, 1000, 'All']],\n",
       "        pagingType: \"full_numbers\",\n",
       "        columnDefs: [{targets: [0, 1, 2, 3, 4, 5, 6, 7, 8, 9, 10, 11, 12, 14, 15, 17, 18, 21, 23, 24, 25, 26, 27, 28, 29, 30, 31, 32, 33, 34, 35, 36, 38, 39, 40, 41, 44, 45, 46, 47, 48, 49, 50, 51, 52, 53, 54, 55, 56, 57, 58, 59, 60, 61, 62, 64, 65, 66, 67, 69, 70, 71, 72, 75], type: \"optionalnum\"}]\n",
       "    });\n",
       "});\n",
       "</script>\n"
      ],
      "text/plain": [
       "<IPython.core.display.HTML object>"
      ]
     },
     "execution_count": 12,
     "metadata": {},
     "output_type": "execute_result"
    }
   ],
   "source": [
    "master_catalogue[:10].show_in_notebook()"
   ]
  },
  {
   "cell_type": "markdown",
   "metadata": {},
   "source": [
    "## V - Adding unique identifier"
   ]
  },
  {
   "cell_type": "code",
   "execution_count": 13,
   "metadata": {
    "collapsed": true
   },
   "outputs": [],
   "source": [
    "master_catalogue.add_column(Column(data=(np.char.array(master_catalogue['dxs_id'].astype(str)) \n",
    "                                    +  np.char.array(master_catalogue['uds_id'].astype(str) )\n",
    "                                        +  np.char.array(master_catalogue['candels_id'].astype(str) )), \n",
    "                              name=\"ukidss_intid\"))\n",
    "\n"
   ]
  },
  {
   "cell_type": "code",
   "execution_count": 14,
   "metadata": {},
   "outputs": [
    {
     "name": "stdout",
     "output_type": "stream",
     "text": [
      "['candels_id', 'dxs_id', 'uds_id', 'ukidss_intid']\n"
     ]
    }
   ],
   "source": [
    "id_names = []\n",
    "for col in master_catalogue.colnames:\n",
    "    if '_id' in col:\n",
    "        id_names += [col]\n",
    "    if '_intid' in col:\n",
    "        id_names += [col]\n",
    "        \n",
    "print(id_names)"
   ]
  },
  {
   "cell_type": "markdown",
   "metadata": {},
   "source": [
    "## VII - Choosing between multiple values for the same filter\n",
    "\n"
   ]
  },
  {
   "cell_type": "markdown",
   "metadata": {},
   "source": [
    "### VII.  UKIDSS DXS and UDS\n",
    "\n",
    "There is no overlap between UDS and DXS. We choose the UDS fluxes over CANDELS-UDS."
   ]
  },
  {
   "cell_type": "code",
   "execution_count": 15,
   "metadata": {
    "collapsed": true
   },
   "outputs": [],
   "source": [
    "for col in master_catalogue.colnames:\n",
    "    if 'uds_h' in col:\n",
    "        master_catalogue[col].name = col.replace('uds_h', 'ukidss_h')\n",
    "\n",
    "        \n",
    "\n",
    "has_uds_j =     ~np.isnan(master_catalogue['f_uds_j'])\n",
    "has_uds_h =     ~np.isnan(master_catalogue['f_ukidss_h'])\n",
    "has_uds_k =     ~np.isnan(master_catalogue['f_uds_k'])\n",
    "has_ukidss_k =  ~np.isnan(master_catalogue['f_ukidss_k'])\n",
    "has_ukidss_j =  ~np.isnan(master_catalogue['f_ukidss_j'])\n",
    "has_candels_j =     ~np.isnan(master_catalogue['f_candels-ukidss_j'])\n",
    "has_candels_h =     ~np.isnan(master_catalogue['f_candels-ukidss_h'])\n",
    "has_candels_k =     ~np.isnan(master_catalogue['f_candels-ukidss_k'])\n",
    "\n",
    "use_candels_j = has_candels_j & ~has_uds_j & ~has_ukidss_j \n",
    "use_candels_h = has_candels_h & ~has_uds_h \n",
    "use_candels_k = has_candels_k & ~has_uds_k & ~has_ukidss_k \n",
    "\n",
    "master_catalogue['f_ukidss_j'][has_uds_j] = master_catalogue['f_uds_j'][has_uds_j]\n",
    "master_catalogue['ferr_ukidss_j'][has_uds_j] = master_catalogue['ferr_uds_j'][has_uds_j]\n",
    "master_catalogue['m_ukidss_j'][has_uds_j] = master_catalogue['m_uds_j'][has_uds_j]\n",
    "master_catalogue['merr_ukidss_j'][has_uds_j] = master_catalogue['merr_uds_j'][has_uds_j]\n",
    "master_catalogue['flag_ukidss_j'][has_uds_j] = master_catalogue['flag_uds_j'][has_uds_j]\n",
    "\n",
    "master_catalogue['f_ukidss_j'][use_candels_j] = master_catalogue['f_candels-ukidss_j'][use_candels_j]\n",
    "master_catalogue['ferr_ukidss_j'][use_candels_j] = master_catalogue['ferr_candels-ukidss_j'][use_candels_j]\n",
    "master_catalogue['m_ukidss_j'][use_candels_j] = master_catalogue['m_candels-ukidss_j'][use_candels_j]\n",
    "master_catalogue['merr_ukidss_j'][use_candels_j] = master_catalogue['merr_candels-ukidss_j'][use_candels_j]\n",
    "master_catalogue['flag_ukidss_j'][use_candels_j] = master_catalogue['flag_candels-ukidss_j'][use_candels_j]\n",
    "\n",
    "\n",
    "master_catalogue['f_ukidss_h'][use_candels_h] = master_catalogue['f_candels-ukidss_h'][use_candels_h]\n",
    "master_catalogue['ferr_ukidss_h'][use_candels_h] = master_catalogue['ferr_candels-ukidss_h'][use_candels_h]\n",
    "master_catalogue['m_ukidss_h'][use_candels_h] = master_catalogue['m_candels-ukidss_h'][use_candels_h]\n",
    "master_catalogue['merr_ukidss_h'][use_candels_h] = master_catalogue['merr_candels-ukidss_h'][use_candels_h]\n",
    "master_catalogue['flag_ukidss_h'][use_candels_h] = master_catalogue['flag_candels-ukidss_h'][use_candels_h]\n",
    "\n",
    "\n",
    "master_catalogue['f_ukidss_k'][has_uds_k] = master_catalogue['f_uds_k'][has_uds_k]\n",
    "master_catalogue['ferr_ukidss_k'][has_uds_k] = master_catalogue['ferr_uds_k'][has_uds_k]\n",
    "master_catalogue['m_ukidss_k'][has_uds_k] = master_catalogue['m_uds_k'][has_uds_k]\n",
    "master_catalogue['merr_ukidss_k'][has_uds_k] = master_catalogue['merr_uds_k'][has_uds_k]\n",
    "master_catalogue['flag_ukidss_k'][has_uds_k] = master_catalogue['flag_uds_k'][has_uds_k]\n",
    "\n",
    "master_catalogue['f_ukidss_k'][use_candels_k] = master_catalogue['f_candels-ukidss_k'][use_candels_k]\n",
    "master_catalogue['ferr_ukidss_k'][use_candels_k] = master_catalogue['ferr_candels-ukidss_k'][use_candels_k]\n",
    "master_catalogue['m_ukidss_k'][use_candels_k] = master_catalogue['m_candels-ukidss_k'][use_candels_k]\n",
    "master_catalogue['merr_ukidss_k'][use_candels_k] = master_catalogue['merr_candels-ukidss_k'][use_candels_k]\n",
    "master_catalogue['flag_ukidss_k'][use_candels_k] = master_catalogue['flag_candels-ukidss_k'][use_candels_k]\n",
    "\n",
    "\n",
    "\n",
    "has_ap_uds_k =  ~np.isnan(master_catalogue['f_ap_uds_k'])\n",
    "has_ap_uds_j =  ~np.isnan(master_catalogue['f_ap_uds_j'])\n",
    "has_ap_ukidss_k =  ~np.isnan(master_catalogue['f_ap_ukidss_k'])\n",
    "has_ap_ukidss_j =  ~np.isnan(master_catalogue['f_ap_ukidss_j'])\n",
    "\n",
    "master_catalogue['f_ap_ukidss_k'][has_ap_uds_k] = master_catalogue['f_ap_uds_k'][has_ap_uds_k]\n",
    "master_catalogue['ferr_ap_ukidss_k'][has_ap_uds_k] = master_catalogue['ferr_ap_uds_k'][has_ap_uds_k]\n",
    "master_catalogue['m_ap_ukidss_k'][has_ap_uds_k] = master_catalogue['m_ap_uds_k'][has_ap_uds_k]\n",
    "master_catalogue['merr_ap_ukidss_k'][has_ap_uds_k] = master_catalogue['merr_ap_uds_k'][has_ap_uds_k]\n",
    "\n",
    "master_catalogue['f_ap_ukidss_j'][has_ap_uds_j] = master_catalogue['f_ap_uds_j'][has_ap_uds_j]\n",
    "master_catalogue['ferr_ap_ukidss_j'][has_ap_uds_j] = master_catalogue['ferr_ap_uds_j'][has_ap_uds_j]\n",
    "master_catalogue['m_ap_ukidss_j'][has_ap_uds_j] = master_catalogue['m_ap_uds_j'][has_ap_uds_j]\n",
    "master_catalogue['merr_ap_ukidss_j'][has_ap_uds_j] = master_catalogue['merr_ap_uds_j'][has_ap_uds_j]\n",
    "\n",
    "master_catalogue.remove_columns(['f_candels-ukidss_j','ferr_candels-ukidss_j',\n",
    "                                 'm_candels-ukidss_j','merr_candels-ukidss_j','flag_candels-ukidss_j',\n",
    "                                 'f_candels-ukidss_h','ferr_candels-ukidss_h',\n",
    "                                 'm_candels-ukidss_h','merr_candels-ukidss_h','flag_candels-ukidss_h',\n",
    "                                 'f_candels-ukidss_k','ferr_candels-ukidss_k',\n",
    "                                 'm_candels-ukidss_k','merr_candels-ukidss_k','flag_candels-ukidss_k',\n",
    "                                 \n",
    "                               'f_uds_j','ferr_uds_j','m_uds_j','merr_uds_j','flag_uds_j',\n",
    "                               'f_uds_k','ferr_uds_k','m_uds_k','merr_uds_k','flag_uds_k',\n",
    "                               'f_ap_uds_j','ferr_ap_uds_j','m_ap_uds_j','merr_ap_uds_j',\n",
    "                               'f_ap_uds_k','ferr_ap_uds_k','m_ap_uds_k','merr_ap_uds_k'])\n",
    "\n",
    "\n",
    "ukidss_origin = Table()\n",
    "ukidss_origin.add_column(master_catalogue['ukidss_intid'])\n",
    "\n",
    "origin = np.full(len(master_catalogue), '     ', dtype='<U5')\n",
    "origin[has_uds_j] = \"UDS\"\n",
    "origin[has_ukidss_j] = \"DXS\"\n",
    "origin[use_candels_j] = \"CANDELS\"\n",
    "ukidss_origin.add_column(Column(data=origin, name= 'f_ukidss_j' ))\n",
    "\n",
    "origin = np.full(len(master_catalogue), '     ', dtype='<U5')\n",
    "origin[has_uds_h] = \"UDS\"\n",
    "origin[use_candels_h] = \"CANDELS\"\n",
    "ukidss_origin.add_column(Column(data=origin, name= 'f_ukidss_h' ))\n",
    "\n",
    "origin = np.full(len(master_catalogue), '     ', dtype='<U5')\n",
    "origin[has_uds_k] = \"UDS\"\n",
    "origin[has_ukidss_k] = \"DXS\"\n",
    "origin[use_candels_k] = \"CANDELS\"\n",
    "ukidss_origin.add_column(Column(data=origin, name= 'f_ukidss_k' ))\n",
    "\n",
    "origin_ap = np.full(len(master_catalogue), '     ', dtype='<U5')\n",
    "origin_ap[has_ap_uds_k] = \"UDS\"\n",
    "origin_ap[has_ap_ukidss_k] = \"DXS\"\n",
    "ukidss_origin.add_column(Column(data=origin_ap, name= 'f_ap_ukidss_k' ))\n",
    "origin_ap = np.full(len(master_catalogue), '     ', dtype='<U5')\n",
    "origin_ap[has_ap_uds_j] = \"UDS\"\n",
    "origin_ap[has_ap_ukidss_j] = \"DXS\"\n",
    "ukidss_origin.add_column(Column(data=origin_ap, name= 'f_ap_ukidss_j' ))\n",
    "\n",
    "ukidss_origin.write(\"{}/xmm-lss_ukidss_fluxes_origins{}.fits\".format(OUT_DIR, SUFFIX), overwrite=True)"
   ]
  },
  {
   "cell_type": "markdown",
   "metadata": {},
   "source": [
    "## IX - Cross-identification table\n",
    "\n",
    "We are producing a table associating to each HELP identifier, the identifiers of the sources in the pristine catalogues. This can be used to easily get additional information from them.\n",
    "\n",
    "For convenience, we also cross-match the master list with the SDSS catalogue and add the objID associated with each source, if any. **TODO: should we correct the astrometry with respect to Gaia positions?**"
   ]
  },
  {
   "cell_type": "markdown",
   "metadata": {},
   "source": [
    "## XI - Saving the catalogue"
   ]
  },
  {
   "cell_type": "code",
   "execution_count": 16,
   "metadata": {
    "collapsed": true
   },
   "outputs": [],
   "source": [
    "columns = [\"help_id\", \"field\", \"ra\", \"dec\", \"hp_idx\"]\n",
    "\n",
    "bands = [column[5:] for column in master_catalogue.colnames if 'f_ap' in column]\n",
    "for band in bands:\n",
    "    columns += [\"f_ap_{}\".format(band), \"ferr_ap_{}\".format(band),\n",
    "                \"m_ap_{}\".format(band), \"merr_ap_{}\".format(band),\n",
    "                \"f_{}\".format(band), \"ferr_{}\".format(band),\n",
    "                \"m_{}\".format(band), \"merr_{}\".format(band),\n",
    "                \"flag_{}\".format(band)]    \n",
    "    \n",
    "columns += [\"stellarity\", \"stellarity_origin\", \"flag_cleaned\", \"flag_merged\", \"flag_gaia\", \"flag_optnir_obs\", \"flag_optnir_det\", \n",
    "            \"zspec\", \"zspec_qual\", \"zspec_association_flag\", \"ebv\"]"
   ]
  },
  {
   "cell_type": "code",
   "execution_count": 17,
   "metadata": {},
   "outputs": [
    {
     "name": "stdout",
     "output_type": "stream",
     "text": [
      "Missing columns: {'candels_id', 'uds_id', 'dxs_flag_gaia', 'ukidss_flag_merged', 'candels_flag_cleaned', 'dxs_stellarity', 'dxs_id', 'uds_stellarity', 'ukidss_ra', 'ukidss_intid', 'candels_stellarity', 'uds_flag_gaia', 'dxs_flag_cleaned', 'ukidss_dec', 'candels_flag_gaia', 'uds_flag_cleaned'}\n"
     ]
    }
   ],
   "source": [
    "# We check for columns in the master catalogue that we will not save to disk.\n",
    "print(\"Missing columns: {}\".format(set(master_catalogue.colnames) - set(columns)))"
   ]
  },
  {
   "cell_type": "code",
   "execution_count": 18,
   "metadata": {
    "collapsed": true
   },
   "outputs": [],
   "source": [
    "master_catalogue.write(\"{}/ukidss_merged_catalogue_xmm-lss.fits\".format(TMP_DIR), overwrite = True)"
   ]
  }
 ],
 "metadata": {
  "kernelspec": {
   "display_name": "Python (herschelhelp_internal)",
   "language": "python",
   "name": "helpint"
  },
  "language_info": {
   "codemirror_mode": {
    "name": "ipython",
    "version": 3
   },
   "file_extension": ".py",
   "mimetype": "text/x-python",
   "name": "python",
   "nbconvert_exporter": "python",
   "pygments_lexer": "ipython3",
   "version": "3.6.1"
  }
 },
 "nbformat": 4,
 "nbformat_minor": 2
}
