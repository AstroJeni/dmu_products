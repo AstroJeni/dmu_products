{
 "cells": [
  {
   "cell_type": "markdown",
   "metadata": {},
   "source": [
    "# XMM-LSS master catalogue\n",
    "\n",
    "This notebook presents the merge of the various pristine catalogues to produce the HELP master catalogue on XMM-LSS."
   ]
  },
  {
   "cell_type": "code",
   "execution_count": 1,
   "metadata": {},
   "outputs": [
    {
     "name": "stdout",
     "output_type": "stream",
     "text": [
      "This notebook was run with herschelhelp_internal version: \n",
      "33f5ec7 (Wed Dec 6 16:56:17 2017 +0000) [with local modifications]\n"
     ]
    }
   ],
   "source": [
    "from herschelhelp_internal import git_version\n",
    "print(\"This notebook was run with herschelhelp_internal version: \\n{}\".format(git_version()))"
   ]
  },
  {
   "cell_type": "code",
   "execution_count": 2,
   "metadata": {},
   "outputs": [
    {
     "name": "stderr",
     "output_type": "stream",
     "text": [
      "/Users/rs548/anaconda/envs/herschelhelp_internal/lib/python3.6/site-packages/seaborn/apionly.py:6: UserWarning: As seaborn no longer sets a default style on import, the seaborn.apionly module is deprecated. It will be removed in a future version.\n",
      "  warnings.warn(msg, UserWarning)\n"
     ]
    }
   ],
   "source": [
    "%matplotlib inline\n",
    "#%config InlineBackend.figure_format = 'svg'\n",
    "\n",
    "import matplotlib.pyplot as plt\n",
    "plt.rc('figure', figsize=(10, 6))\n",
    "\n",
    "import os\n",
    "import time\n",
    "\n",
    "from astropy import units as u\n",
    "from astropy.coordinates import SkyCoord\n",
    "from astropy.table import Column, Table\n",
    "import numpy as np\n",
    "from pymoc import MOC\n",
    "\n",
    "from herschelhelp_internal.masterlist import merge_catalogues, nb_merge_dist_plot, specz_merge\n",
    "from herschelhelp_internal.utils import coords_to_hpidx, ebv, gen_help_id, inMoc"
   ]
  },
  {
   "cell_type": "code",
   "execution_count": 3,
   "metadata": {
    "collapsed": true
   },
   "outputs": [],
   "source": [
    "TMP_DIR = os.environ.get('TMP_DIR', \"./data_tmp\")\n",
    "OUT_DIR = os.environ.get('OUT_DIR', \"./data\")\n",
    "SUFFIX = os.environ.get('SUFFIX', time.strftime(\"_%Y%m%d\"))\n",
    "\n",
    "try:\n",
    "    os.makedirs(OUT_DIR)\n",
    "except FileExistsError:\n",
    "    pass"
   ]
  },
  {
   "cell_type": "markdown",
   "metadata": {},
   "source": [
    "## I - Reading the prepared pristine catalogues"
   ]
  },
  {
   "cell_type": "code",
   "execution_count": 4,
   "metadata": {
    "collapsed": true
   },
   "outputs": [],
   "source": [
    "#candels = Table.read(\"{}/CANDELS.fits\".format(TMP_DIR))           # 1.1\n",
    "#cfht_wirds = Table.read(\"{}/CFHT-WIRDS.fits\".format(TMP_DIR))     # 1.3\n",
    "#cfhtls_wide = Table.read(\"{}/CFHTLS-WIDE.fits\".format(TMP_DIR))   # 1.4a\n",
    "#cfhtls_deep = Table.read(\"{}/CFHTLS-DEEP.fits\".format(TMP_DIR))   # 1.4b\n",
    "#We no longer use CFHTLenS as it is the same raw data set as CFHTLS-WIDE\n",
    "# cfhtlens = Table.read(\"{}/CFHTLENS.fits\".format(TMP_DIR))         # 1.5\n",
    "#decals = Table.read(\"{}/DECaLS.fits\".format(TMP_DIR))             # 1.6\n",
    "#servs = Table.read(\"{}/SERVS.fits\".format(TMP_DIR))               # 1.8\n",
    "#swire = Table.read(\"{}/SWIRE.fits\".format(TMP_DIR))               # 1.7\n",
    "#hsc_wide = Table.read(\"{}/HSC-WIDE.fits\".format(TMP_DIR))         # 1.9a\n",
    "#hsc_deep = Table.read(\"{}/HSC-DEEP.fits\".format(TMP_DIR))         # 1.9b\n",
    "#hsc_udeep = Table.read(\"{}/HSC-UDEEP.fits\".format(TMP_DIR))       # 1.9c\n",
    "#ps1 = Table.read(\"{}/PS1.fits\".format(TMP_DIR))                   # 1.10\n",
    "#sxds = Table.read(\"{}/SXDS.fits\".format(TMP_DIR))                 # 1.11\n",
    "#sparcs = Table.read(\"{}/SpARCS.fits\".format(TMP_DIR))             # 1.12\n",
    "#dxs = Table.read(\"{}/UKIDSS-DXS.fits\".format(TMP_DIR))            # 1.13\n",
    "#uds = Table.read(\"{}/UKIDSS-UDS.fits\".format(TMP_DIR))            # 1.14\n",
    "#vipers = Table.read(\"{}/VIPERS.fits\".format(TMP_DIR))             # 1.15\n",
    "vhs = Table.read(\"{}/VISTA-VHS.fits\".format(TMP_DIR))             # 1.16\n",
    "video = Table.read(\"{}/VISTA-VIDEO.fits\".format(TMP_DIR))         # 1.17\n",
    "viking = Table.read(\"{}/VISTA-VIKING.fits\".format(TMP_DIR))       # 1.18"
   ]
  },
  {
   "cell_type": "markdown",
   "metadata": {},
   "source": [
    "## II - Merging tables\n",
    "\n",
    "We first merge the optical catalogues and then add the infrared ones. We start with PanSTARRS because it coevrs the whole field.\n",
    "\n",
    "At every step, we look at the distribution of the distances to the nearest source in the merged catalogue to determine the best crossmatching radius."
   ]
  },
  {
   "cell_type": "markdown",
   "metadata": {},
   "source": [
    "### Start with VHS"
   ]
  },
  {
   "cell_type": "code",
   "execution_count": 5,
   "metadata": {
    "collapsed": true
   },
   "outputs": [],
   "source": [
    "master_catalogue = vhs\n",
    "master_catalogue['vhs_ra'].name = 'ra'\n",
    "master_catalogue['vhs_dec'].name = 'dec'"
   ]
  },
  {
   "cell_type": "markdown",
   "metadata": {},
   "source": [
    "### Add VIDEO"
   ]
  },
  {
   "cell_type": "code",
   "execution_count": 6,
   "metadata": {},
   "outputs": [
    {
     "data": {
      "image/png": "[encoded data removed]",
      "text/plain": [
       "<matplotlib.figure.Figure at 0x10f9e69b0>"
      ]
     },
     "metadata": {},
     "output_type": "display_data"
    }
   ],
   "source": [
    "nb_merge_dist_plot(\n",
    "    SkyCoord(master_catalogue['ra'], master_catalogue['dec']),\n",
    "    SkyCoord(video['video_ra'], video['video_dec'])\n",
    ")"
   ]
  },
  {
   "cell_type": "code",
   "execution_count": 7,
   "metadata": {},
   "outputs": [
    {
     "name": "stderr",
     "output_type": "stream",
     "text": [
      "WARNING: MergeConflictWarning: Cannot merge meta key 'DATE-HDU' types <class 'str'> and <class 'str'>, choosing DATE-HDU='2017-10-26T17:48:54' [astropy.utils.metadata]\n",
      "WARNING: MergeConflictWarning: Cannot merge meta key 'DATE-HDU' types <class 'str'> and <class 'str'>, choosing DATE-HDU='2017-10-26T17:48:54' [astropy.utils.metadata]\n"
     ]
    }
   ],
   "source": [
    "# Given the graph above, we use 0.8 arc-second radius\n",
    "master_catalogue = merge_catalogues(master_catalogue, video, \"video_ra\", \"video_dec\", radius=0.8*u.arcsec)"
   ]
  },
  {
   "cell_type": "markdown",
   "metadata": {},
   "source": [
    "### Add VIKING"
   ]
  },
  {
   "cell_type": "code",
   "execution_count": 8,
   "metadata": {},
   "outputs": [
    {
     "data": {
      "image/png": "[encoded data removed]",
      "text/plain": [
       "<matplotlib.figure.Figure at 0x119433cf8>"
      ]
     },
     "metadata": {},
     "output_type": "display_data"
    }
   ],
   "source": [
    "nb_merge_dist_plot(\n",
    "    SkyCoord(master_catalogue['ra'], master_catalogue['dec']),\n",
    "    SkyCoord(viking['viking_ra'], viking['viking_dec'])\n",
    ")"
   ]
  },
  {
   "cell_type": "code",
   "execution_count": 9,
   "metadata": {},
   "outputs": [
    {
     "name": "stderr",
     "output_type": "stream",
     "text": [
      "WARNING: MergeConflictWarning: Cannot merge meta key 'DATE-HDU' types <class 'str'> and <class 'str'>, choosing DATE-HDU='2017-10-27T11:26:49' [astropy.utils.metadata]\n",
      "WARNING: MergeConflictWarning: Cannot merge meta key 'DATE-HDU' types <class 'str'> and <class 'str'>, choosing DATE-HDU='2017-10-27T11:26:49' [astropy.utils.metadata]\n"
     ]
    }
   ],
   "source": [
    "# Given the graph above, we use 0.8 arc-second radius\n",
    "master_catalogue = merge_catalogues(master_catalogue, viking, \"viking_ra\", \"viking_dec\", radius=0.8*u.arcsec)"
   ]
  },
  {
   "cell_type": "markdown",
   "metadata": {},
   "source": [
    "### Cleaning\n",
    "\n",
    "When we merge the catalogues, astropy masks the non-existent values (e.g. when a row comes only from a catalogue and has no counterparts in the other, the columns from the latest are masked for that row). We indicate to use NaN for masked values for floats columns, False for flag columns and -1 for ID columns."
   ]
  },
  {
   "cell_type": "code",
   "execution_count": 10,
   "metadata": {
    "collapsed": true
   },
   "outputs": [],
   "source": [
    "for col in master_catalogue.colnames:\n",
    "    if \"m_\" in col or \"merr_\" in col or \"f_\" in col or \"ferr_\" in col or \"stellarity\" in col:\n",
    "        master_catalogue[col] = master_catalogue[col].astype(float)\n",
    "        master_catalogue[col].fill_value = np.nan\n",
    "    elif \"flag\" in col:\n",
    "        master_catalogue[col].fill_value = 0\n",
    "    elif \"id\" in col:\n",
    "        master_catalogue[col].fill_value = -1\n",
    "        \n",
    "master_catalogue = master_catalogue.filled()"
   ]
  },
  {
   "cell_type": "code",
   "execution_count": 11,
   "metadata": {
    "collapsed": true
   },
   "outputs": [],
   "source": [
    "#Since this is not the final merged catalogue. We rename column names to make them unique\n",
    "master_catalogue['ra'].name = 'vircam_ra'\n",
    "master_catalogue['dec'].name = 'vircam_dec'\n",
    "master_catalogue['flag_merged'].name = 'vircam_flag_merged'"
   ]
  },
  {
   "cell_type": "code",
   "execution_count": 12,
   "metadata": {},
   "outputs": [
    {
     "data": {
      "text/html": [
       "&lt;Table length=10&gt;\n",
       "<table id=\"table4719991496-646434\" class=\"table-striped table-bordered table-condensed\">\n",
       "<thead><tr><th>idx</th><th>vhs_id</th><th>vircam_ra</th><th>vircam_dec</th><th>vhs_stellarity</th><th>m_vhs_y</th><th>merr_vhs_y</th><th>m_ap_vhs_y</th><th>merr_ap_vhs_y</th><th>m_vhs_j</th><th>merr_vhs_j</th><th>m_ap_vhs_j</th><th>merr_ap_vhs_j</th><th>m_vhs_h</th><th>merr_vhs_h</th><th>m_ap_vhs_h</th><th>merr_ap_vhs_h</th><th>m_vhs_k</th><th>merr_vhs_k</th><th>m_ap_vhs_k</th><th>merr_ap_vhs_k</th><th>f_vhs_y</th><th>ferr_vhs_y</th><th>flag_vhs_y</th><th>f_ap_vhs_y</th><th>ferr_ap_vhs_y</th><th>f_vhs_j</th><th>ferr_vhs_j</th><th>flag_vhs_j</th><th>f_ap_vhs_j</th><th>ferr_ap_vhs_j</th><th>f_vhs_h</th><th>ferr_vhs_h</th><th>flag_vhs_h</th><th>f_ap_vhs_h</th><th>ferr_ap_vhs_h</th><th>f_vhs_k</th><th>ferr_vhs_k</th><th>flag_vhs_k</th><th>f_ap_vhs_k</th><th>ferr_ap_vhs_k</th><th>vhs_flag_cleaned</th><th>vhs_flag_gaia</th><th>vircam_flag_merged</th><th>video_id</th><th>video_stellarity</th><th>m_ap_video_z</th><th>merr_ap_video_z</th><th>m_video_z</th><th>merr_video_z</th><th>f_ap_video_z</th><th>ferr_ap_video_z</th><th>f_video_z</th><th>ferr_video_z</th><th>m_ap_video_y</th><th>merr_ap_video_y</th><th>m_video_y</th><th>merr_video_y</th><th>f_ap_video_y</th><th>ferr_ap_video_y</th><th>f_video_y</th><th>ferr_video_y</th><th>m_ap_video_j</th><th>merr_ap_video_j</th><th>m_video_j</th><th>merr_video_j</th><th>f_ap_video_j</th><th>ferr_ap_video_j</th><th>f_video_j</th><th>ferr_video_j</th><th>m_ap_video_h</th><th>merr_ap_video_h</th><th>m_video_h</th><th>merr_video_h</th><th>f_ap_video_h</th><th>ferr_ap_video_h</th><th>f_video_h</th><th>ferr_video_h</th><th>m_ap_video_k</th><th>merr_ap_video_k</th><th>m_video_k</th><th>merr_video_k</th><th>f_ap_video_k</th><th>ferr_ap_video_k</th><th>f_video_k</th><th>ferr_video_k</th><th>flag_video_z</th><th>flag_video_y</th><th>flag_video_j</th><th>flag_video_h</th><th>flag_video_k</th><th>video_flag_cleaned</th><th>video_flag_gaia</th><th>viking_id</th><th>viking_stellarity</th><th>m_viking_z</th><th>merr_viking_z</th><th>m_ap_viking_z</th><th>merr_ap_viking_z</th><th>m_viking_y</th><th>merr_viking_y</th><th>m_ap_viking_y</th><th>merr_ap_viking_y</th><th>m_viking_j</th><th>merr_viking_j</th><th>m_ap_viking_j</th><th>merr_ap_viking_j</th><th>m_viking_h</th><th>merr_viking_h</th><th>m_ap_viking_h</th><th>merr_ap_viking_h</th><th>m_viking_k</th><th>merr_viking_k</th><th>m_ap_viking_k</th><th>merr_ap_viking_k</th><th>f_viking_z</th><th>ferr_viking_z</th><th>flag_viking_z</th><th>f_ap_viking_z</th><th>ferr_ap_viking_z</th><th>f_viking_y</th><th>ferr_viking_y</th><th>flag_viking_y</th><th>f_ap_viking_y</th><th>ferr_ap_viking_y</th><th>f_viking_j</th><th>ferr_viking_j</th><th>flag_viking_j</th><th>f_ap_viking_j</th><th>ferr_ap_viking_j</th><th>f_viking_h</th><th>ferr_viking_h</th><th>flag_viking_h</th><th>f_ap_viking_h</th><th>ferr_ap_viking_h</th><th>f_viking_k</th><th>ferr_viking_k</th><th>flag_viking_k</th><th>f_ap_viking_k</th><th>ferr_ap_viking_k</th><th>viking_flag_cleaned</th><th>viking_flag_gaia</th></tr></thead>\n",
       "<thead><tr><th></th><th></th><th>deg</th><th>deg</th><th></th><th></th><th></th><th></th><th></th><th></th><th></th><th></th><th></th><th></th><th></th><th></th><th></th><th></th><th></th><th></th><th></th><th></th><th></th><th></th><th></th><th></th><th></th><th></th><th></th><th></th><th></th><th></th><th></th><th></th><th></th><th></th><th></th><th></th><th></th><th></th><th></th><th></th><th></th><th></th><th></th><th></th><th></th><th></th><th></th><th></th><th></th><th></th><th></th><th></th><th></th><th></th><th></th><th></th><th></th><th></th><th></th><th></th><th></th><th></th><th></th><th></th><th></th><th></th><th></th><th></th><th></th><th></th><th></th><th></th><th></th><th></th><th></th><th></th><th></th><th></th><th></th><th></th><th></th><th></th><th></th><th></th><th></th><th></th><th></th><th></th><th></th><th></th><th></th><th></th><th></th><th></th><th></th><th></th><th></th><th></th><th></th><th></th><th></th><th></th><th></th><th></th><th></th><th></th><th></th><th></th><th></th><th></th><th></th><th></th><th></th><th></th><th></th><th></th><th></th><th></th><th></th><th></th><th></th><th></th><th></th><th></th><th></th><th></th><th></th><th></th><th></th><th></th><th></th><th></th><th></th><th></th><th></th><th></th><th></th><th></th><th></th><th></th></tr></thead>\n",
       "<tr><td>0</td><td>472511809653</td><td>34.9201754247</td><td>-4.345667767</td><td>0.0524781383574</td><td>nan</td><td>nan</td><td>nan</td><td>nan</td><td>9.2613992691</td><td>0.000139235809911</td><td>13.6462526321</td><td>0.00106575945392</td><td>10.6136102676</td><td>0.000282026128843</td><td>12.2605009079</td><td>0.000574934645556</td><td>9.51158809662</td><td>0.000179869588464</td><td>15.1603183746</td><td>0.0029498480726</td><td>nan</td><td>nan</td><td>False</td><td>nan</td><td>nan</td><td>716869.5625</td><td>91.9320068359</td><td>False</td><td>12632.7773438</td><td>12.400343895</td><td>206326.859375</td><td>53.5945701599</td><td>False</td><td>45268.8554688</td><td>23.971414566</td><td>569330.6875</td><td>94.3187408447</td><td>False</td><td>3132.3659668</td><td>8.51035881042</td><td>False</td><td>0</td><td>False</td><td>-1</td><td>nan</td><td>nan</td><td>nan</td><td>nan</td><td>nan</td><td>nan</td><td>nan</td><td>nan</td><td>nan</td><td>nan</td><td>nan</td><td>nan</td><td>nan</td><td>nan</td><td>nan</td><td>nan</td><td>nan</td><td>nan</td><td>nan</td><td>nan</td><td>nan</td><td>nan</td><td>nan</td><td>nan</td><td>nan</td><td>nan</td><td>nan</td><td>nan</td><td>nan</td><td>nan</td><td>nan</td><td>nan</td><td>nan</td><td>nan</td><td>nan</td><td>nan</td><td>nan</td><td>nan</td><td>nan</td><td>nan</td><td>nan</td><td>False</td><td>False</td><td>False</td><td>False</td><td>False</td><td>False</td><td>0</td><td>-1</td><td>nan</td><td>nan</td><td>nan</td><td>nan</td><td>nan</td><td>nan</td><td>nan</td><td>nan</td><td>nan</td><td>nan</td><td>nan</td><td>nan</td><td>nan</td><td>nan</td><td>nan</td><td>nan</td><td>nan</td><td>nan</td><td>nan</td><td>nan</td><td>nan</td><td>nan</td><td>nan</td><td>False</td><td>nan</td><td>nan</td><td>nan</td><td>nan</td><td>False</td><td>nan</td><td>nan</td><td>nan</td><td>nan</td><td>False</td><td>nan</td><td>nan</td><td>nan</td><td>nan</td><td>False</td><td>nan</td><td>nan</td><td>nan</td><td>nan</td><td>False</td><td>nan</td><td>nan</td><td>False</td><td>0</td></tr>\n",
       "<tr><td>1</td><td>472511816927</td><td>34.9198005174</td><td>-4.34503351374</td><td>0.899999976158</td><td>nan</td><td>nan</td><td>nan</td><td>nan</td><td>nan</td><td>nan</td><td>nan</td><td>nan</td><td>11.1817598343</td><td>0.000340650090948</td><td>12.2731513977</td><td>0.000578326231334</td><td>nan</td><td>nan</td><td>nan</td><td>nan</td><td>nan</td><td>nan</td><td>False</td><td>nan</td><td>nan</td><td>nan</td><td>nan</td><td>False</td><td>nan</td><td>nan</td><td>122263.234375</td><td>38.3601341248</td><td>False</td><td>44744.4648438</td><td>23.8335056305</td><td>nan</td><td>nan</td><td>False</td><td>nan</td><td>nan</td><td>False</td><td>0</td><td>False</td><td>-1</td><td>nan</td><td>nan</td><td>nan</td><td>nan</td><td>nan</td><td>nan</td><td>nan</td><td>nan</td><td>nan</td><td>nan</td><td>nan</td><td>nan</td><td>nan</td><td>nan</td><td>nan</td><td>nan</td><td>nan</td><td>nan</td><td>nan</td><td>nan</td><td>nan</td><td>nan</td><td>nan</td><td>nan</td><td>nan</td><td>nan</td><td>nan</td><td>nan</td><td>nan</td><td>nan</td><td>nan</td><td>nan</td><td>nan</td><td>nan</td><td>nan</td><td>nan</td><td>nan</td><td>nan</td><td>nan</td><td>nan</td><td>nan</td><td>False</td><td>False</td><td>False</td><td>False</td><td>False</td><td>False</td><td>0</td><td>-1</td><td>nan</td><td>nan</td><td>nan</td><td>nan</td><td>nan</td><td>nan</td><td>nan</td><td>nan</td><td>nan</td><td>nan</td><td>nan</td><td>nan</td><td>nan</td><td>nan</td><td>nan</td><td>nan</td><td>nan</td><td>nan</td><td>nan</td><td>nan</td><td>nan</td><td>nan</td><td>nan</td><td>False</td><td>nan</td><td>nan</td><td>nan</td><td>nan</td><td>False</td><td>nan</td><td>nan</td><td>nan</td><td>nan</td><td>False</td><td>nan</td><td>nan</td><td>nan</td><td>nan</td><td>False</td><td>nan</td><td>nan</td><td>nan</td><td>nan</td><td>False</td><td>nan</td><td>nan</td><td>False</td><td>0</td></tr>\n",
       "<tr><td>2</td><td>472511816928</td><td>34.919461689</td><td>-4.34539258754</td><td>0.899999976158</td><td>nan</td><td>nan</td><td>nan</td><td>nan</td><td>nan</td><td>nan</td><td>nan</td><td>nan</td><td>11.8767585754</td><td>0.000443481811089</td><td>12.3065862656</td><td>0.000587735383306</td><td>nan</td><td>nan</td><td>nan</td><td>nan</td><td>nan</td><td>nan</td><td>False</td><td>nan</td><td>nan</td><td>nan</td><td>nan</td><td>False</td><td>nan</td><td>nan</td><td>64460.9023438</td><td>26.3298187256</td><td>False</td><td>43387.5742188</td><td>23.4867477417</td><td>nan</td><td>nan</td><td>False</td><td>nan</td><td>nan</td><td>False</td><td>0</td><td>False</td><td>-1</td><td>nan</td><td>nan</td><td>nan</td><td>nan</td><td>nan</td><td>nan</td><td>nan</td><td>nan</td><td>nan</td><td>nan</td><td>nan</td><td>nan</td><td>nan</td><td>nan</td><td>nan</td><td>nan</td><td>nan</td><td>nan</td><td>nan</td><td>nan</td><td>nan</td><td>nan</td><td>nan</td><td>nan</td><td>nan</td><td>nan</td><td>nan</td><td>nan</td><td>nan</td><td>nan</td><td>nan</td><td>nan</td><td>nan</td><td>nan</td><td>nan</td><td>nan</td><td>nan</td><td>nan</td><td>nan</td><td>nan</td><td>nan</td><td>False</td><td>False</td><td>False</td><td>False</td><td>False</td><td>False</td><td>0</td><td>-1</td><td>nan</td><td>nan</td><td>nan</td><td>nan</td><td>nan</td><td>nan</td><td>nan</td><td>nan</td><td>nan</td><td>nan</td><td>nan</td><td>nan</td><td>nan</td><td>nan</td><td>nan</td><td>nan</td><td>nan</td><td>nan</td><td>nan</td><td>nan</td><td>nan</td><td>nan</td><td>nan</td><td>False</td><td>nan</td><td>nan</td><td>nan</td><td>nan</td><td>False</td><td>nan</td><td>nan</td><td>nan</td><td>nan</td><td>False</td><td>nan</td><td>nan</td><td>nan</td><td>nan</td><td>False</td><td>nan</td><td>nan</td><td>nan</td><td>nan</td><td>False</td><td>nan</td><td>nan</td><td>False</td><td>0</td></tr>\n",
       "<tr><td>3</td><td>472513626818</td><td>34.9496993878</td><td>-4.73448657243</td><td>0.999657213688</td><td>nan</td><td>nan</td><td>nan</td><td>nan</td><td>11.8575630188</td><td>0.000447144702775</td><td>12.279835701</td><td>0.000488313206006</td><td>12.3878736496</td><td>0.000710735097528</td><td>12.9805545807</td><td>0.000630383787211</td><td>12.4333953857</td><td>0.000892549112905</td><td>12.7061347961</td><td>0.000668392167427</td><td>nan</td><td>nan</td><td>False</td><td>nan</td><td>nan</td><td>65610.6953125</td><td>27.0208110809</td><td>False</td><td>44469.8398438</td><td>20.0004482269</td><td>40257.8320312</td><td>26.3532295227</td><td>False</td><td>23322.6582031</td><td>13.5412502289</td><td>38604.8320312</td><td>31.7358016968</td><td>False</td><td>30029.3535156</td><td>18.4864273071</td><td>False</td><td>3</td><td>False</td><td>-1</td><td>nan</td><td>nan</td><td>nan</td><td>nan</td><td>nan</td><td>nan</td><td>nan</td><td>nan</td><td>nan</td><td>nan</td><td>nan</td><td>nan</td><td>nan</td><td>nan</td><td>nan</td><td>nan</td><td>nan</td><td>nan</td><td>nan</td><td>nan</td><td>nan</td><td>nan</td><td>nan</td><td>nan</td><td>nan</td><td>nan</td><td>nan</td><td>nan</td><td>nan</td><td>nan</td><td>nan</td><td>nan</td><td>nan</td><td>nan</td><td>nan</td><td>nan</td><td>nan</td><td>nan</td><td>nan</td><td>nan</td><td>nan</td><td>False</td><td>False</td><td>False</td><td>False</td><td>False</td><td>False</td><td>0</td><td>-1</td><td>nan</td><td>nan</td><td>nan</td><td>nan</td><td>nan</td><td>nan</td><td>nan</td><td>nan</td><td>nan</td><td>nan</td><td>nan</td><td>nan</td><td>nan</td><td>nan</td><td>nan</td><td>nan</td><td>nan</td><td>nan</td><td>nan</td><td>nan</td><td>nan</td><td>nan</td><td>nan</td><td>False</td><td>nan</td><td>nan</td><td>nan</td><td>nan</td><td>False</td><td>nan</td><td>nan</td><td>nan</td><td>nan</td><td>False</td><td>nan</td><td>nan</td><td>nan</td><td>nan</td><td>False</td><td>nan</td><td>nan</td><td>nan</td><td>nan</td><td>False</td><td>nan</td><td>nan</td><td>False</td><td>0</td></tr>\n",
       "<tr><td>4</td><td>472513905444</td><td>35.5914522314</td><td>-4.63384427773</td><td>0.999657213688</td><td>nan</td><td>nan</td><td>nan</td><td>nan</td><td>12.5342321396</td><td>0.00058465579059</td><td>12.5510997772</td><td>0.000641558435746</td><td>12.7914218903</td><td>0.000702866585925</td><td>12.9090576172</td><td>0.000639853591565</td><td>13.0732336044</td><td>0.00107998400927</td><td>13.1219234467</td><td>0.000825843948405</td><td>nan</td><td>nan</td><td>False</td><td>nan</td><td>nan</td><td>35180.8984375</td><td>18.9444885254</td><td>False</td><td>34638.5703125</td><td>20.467830658</td><td>27760.7460938</td><td>17.9713077545</td><td>False</td><td>24910.1796875</td><td>14.6802406311</td><td>21414.421875</td><td>21.3009700775</td><td>False</td><td>20475.3066406</td><td>15.5741415024</td><td>False</td><td>3</td><td>False</td><td>-1</td><td>nan</td><td>nan</td><td>nan</td><td>nan</td><td>nan</td><td>nan</td><td>nan</td><td>nan</td><td>nan</td><td>nan</td><td>nan</td><td>nan</td><td>nan</td><td>nan</td><td>nan</td><td>nan</td><td>nan</td><td>nan</td><td>nan</td><td>nan</td><td>nan</td><td>nan</td><td>nan</td><td>nan</td><td>nan</td><td>nan</td><td>nan</td><td>nan</td><td>nan</td><td>nan</td><td>nan</td><td>nan</td><td>nan</td><td>nan</td><td>nan</td><td>nan</td><td>nan</td><td>nan</td><td>nan</td><td>nan</td><td>nan</td><td>False</td><td>False</td><td>False</td><td>False</td><td>False</td><td>False</td><td>0</td><td>-1</td><td>nan</td><td>nan</td><td>nan</td><td>nan</td><td>nan</td><td>nan</td><td>nan</td><td>nan</td><td>nan</td><td>nan</td><td>nan</td><td>nan</td><td>nan</td><td>nan</td><td>nan</td><td>nan</td><td>nan</td><td>nan</td><td>nan</td><td>nan</td><td>nan</td><td>nan</td><td>nan</td><td>False</td><td>nan</td><td>nan</td><td>nan</td><td>nan</td><td>False</td><td>nan</td><td>nan</td><td>nan</td><td>nan</td><td>False</td><td>nan</td><td>nan</td><td>nan</td><td>nan</td><td>False</td><td>nan</td><td>nan</td><td>nan</td><td>nan</td><td>False</td><td>nan</td><td>nan</td><td>False</td><td>0</td></tr>\n",
       "<tr><td>5</td><td>472513905677</td><td>35.4576644537</td><td>-4.64700197731</td><td>0.999657213688</td><td>nan</td><td>nan</td><td>nan</td><td>nan</td><td>12.0554552078</td><td>0.000456336216303</td><td>12.3094120026</td><td>0.000550942728296</td><td>12.4324302673</td><td>0.000616645382252</td><td>12.9260206223</td><td>0.000650018802844</td><td>12.5705528259</td><td>0.000815670762677</td><td>12.8014297485</td><td>0.000727331207599</td><td>nan</td><td>nan</td><td>False</td><td>nan</td><td>nan</td><td>54678.6484375</td><td>22.9815006256</td><td>False</td><td>43274.7929688</td><td>21.9592323303</td><td>38639.1679688</td><td>21.9451694489</td><td>False</td><td>24524.0136719</td><td>14.6822681427</td><td>34023.4804688</td><td>25.5604953766</td><td>False</td><td>27506.0332031</td><td>18.4262046814</td><td>False</td><td>3</td><td>False</td><td>-1</td><td>nan</td><td>nan</td><td>nan</td><td>nan</td><td>nan</td><td>nan</td><td>nan</td><td>nan</td><td>nan</td><td>nan</td><td>nan</td><td>nan</td><td>nan</td><td>nan</td><td>nan</td><td>nan</td><td>nan</td><td>nan</td><td>nan</td><td>nan</td><td>nan</td><td>nan</td><td>nan</td><td>nan</td><td>nan</td><td>nan</td><td>nan</td><td>nan</td><td>nan</td><td>nan</td><td>nan</td><td>nan</td><td>nan</td><td>nan</td><td>nan</td><td>nan</td><td>nan</td><td>nan</td><td>nan</td><td>nan</td><td>nan</td><td>False</td><td>False</td><td>False</td><td>False</td><td>False</td><td>False</td><td>0</td><td>-1</td><td>nan</td><td>nan</td><td>nan</td><td>nan</td><td>nan</td><td>nan</td><td>nan</td><td>nan</td><td>nan</td><td>nan</td><td>nan</td><td>nan</td><td>nan</td><td>nan</td><td>nan</td><td>nan</td><td>nan</td><td>nan</td><td>nan</td><td>nan</td><td>nan</td><td>nan</td><td>nan</td><td>False</td><td>nan</td><td>nan</td><td>nan</td><td>nan</td><td>False</td><td>nan</td><td>nan</td><td>nan</td><td>nan</td><td>False</td><td>nan</td><td>nan</td><td>nan</td><td>nan</td><td>False</td><td>nan</td><td>nan</td><td>nan</td><td>nan</td><td>False</td><td>nan</td><td>nan</td><td>False</td><td>0</td></tr>\n",
       "<tr><td>6</td><td>472513625400</td><td>34.7828431928</td><td>-4.63923327174</td><td>0.999657213688</td><td>nan</td><td>nan</td><td>nan</td><td>nan</td><td>12.0426502228</td><td>0.000464528158773</td><td>12.5478944778</td><td>0.000555973150767</td><td>12.4303922653</td><td>0.000716264010407</td><td>13.0441446304</td><td>0.000651467533316</td><td>12.5164966583</td><td>0.000928568828385</td><td>12.7678461075</td><td>0.000681061937939</td><td>nan</td><td>nan</td><td>False</td><td>nan</td><td>nan</td><td>55327.328125</td><td>23.6715888977</td><td>False</td><td>34740.9804688</td><td>17.7898197174</td><td>38711.765625</td><td>25.5382900238</td><td>False</td><td>21995.9160156</td><td>13.1980724335</td><td>35760.3046875</td><td>30.5837669373</td><td>False</td><td>28370.1367188</td><td>17.7960529327</td><td>False</td><td>3</td><td>False</td><td>-1</td><td>nan</td><td>nan</td><td>nan</td><td>nan</td><td>nan</td><td>nan</td><td>nan</td><td>nan</td><td>nan</td><td>nan</td><td>nan</td><td>nan</td><td>nan</td><td>nan</td><td>nan</td><td>nan</td><td>nan</td><td>nan</td><td>nan</td><td>nan</td><td>nan</td><td>nan</td><td>nan</td><td>nan</td><td>nan</td><td>nan</td><td>nan</td><td>nan</td><td>nan</td><td>nan</td><td>nan</td><td>nan</td><td>nan</td><td>nan</td><td>nan</td><td>nan</td><td>nan</td><td>nan</td><td>nan</td><td>nan</td><td>nan</td><td>False</td><td>False</td><td>False</td><td>False</td><td>False</td><td>False</td><td>0</td><td>-1</td><td>nan</td><td>nan</td><td>nan</td><td>nan</td><td>nan</td><td>nan</td><td>nan</td><td>nan</td><td>nan</td><td>nan</td><td>nan</td><td>nan</td><td>nan</td><td>nan</td><td>nan</td><td>nan</td><td>nan</td><td>nan</td><td>nan</td><td>nan</td><td>nan</td><td>nan</td><td>nan</td><td>False</td><td>nan</td><td>nan</td><td>nan</td><td>nan</td><td>False</td><td>nan</td><td>nan</td><td>nan</td><td>nan</td><td>False</td><td>nan</td><td>nan</td><td>nan</td><td>nan</td><td>False</td><td>nan</td><td>nan</td><td>nan</td><td>nan</td><td>False</td><td>nan</td><td>nan</td><td>False</td><td>0</td></tr>\n",
       "<tr><td>7</td><td>472513905779</td><td>35.4705389463</td><td>-4.65295637423</td><td>0.999657213688</td><td>nan</td><td>nan</td><td>nan</td><td>nan</td><td>12.2651319504</td><td>0.000505974108819</td><td>12.4242429733</td><td>0.000581087020691</td><td>12.6637201309</td><td>0.000660904450342</td><td>12.9663829803</td><td>0.000662990263663</td><td>12.8380403519</td><td>0.000947787659243</td><td>12.94140625</td><td>0.000780079571996</td><td>nan</td><td>nan</td><td>False</td><td>nan</td><td>nan</td><td>45076.1796875</td><td>21.0063743591</td><td>False</td><td>38931.640625</td><td>20.8362503052</td><td>31225.6757812</td><td>19.0075511932</td><td>False</td><td>23629.0742188</td><td>14.4287786484</td><td>26594.0019531</td><td>23.2150917053</td><td>False</td><td>24178.9492188</td><td>17.3720874786</td><td>False</td><td>3</td><td>False</td><td>-1</td><td>nan</td><td>nan</td><td>nan</td><td>nan</td><td>nan</td><td>nan</td><td>nan</td><td>nan</td><td>nan</td><td>nan</td><td>nan</td><td>nan</td><td>nan</td><td>nan</td><td>nan</td><td>nan</td><td>nan</td><td>nan</td><td>nan</td><td>nan</td><td>nan</td><td>nan</td><td>nan</td><td>nan</td><td>nan</td><td>nan</td><td>nan</td><td>nan</td><td>nan</td><td>nan</td><td>nan</td><td>nan</td><td>nan</td><td>nan</td><td>nan</td><td>nan</td><td>nan</td><td>nan</td><td>nan</td><td>nan</td><td>nan</td><td>False</td><td>False</td><td>False</td><td>False</td><td>False</td><td>False</td><td>0</td><td>-1</td><td>nan</td><td>nan</td><td>nan</td><td>nan</td><td>nan</td><td>nan</td><td>nan</td><td>nan</td><td>nan</td><td>nan</td><td>nan</td><td>nan</td><td>nan</td><td>nan</td><td>nan</td><td>nan</td><td>nan</td><td>nan</td><td>nan</td><td>nan</td><td>nan</td><td>nan</td><td>nan</td><td>False</td><td>nan</td><td>nan</td><td>nan</td><td>nan</td><td>False</td><td>nan</td><td>nan</td><td>nan</td><td>nan</td><td>False</td><td>nan</td><td>nan</td><td>nan</td><td>nan</td><td>False</td><td>nan</td><td>nan</td><td>nan</td><td>nan</td><td>False</td><td>nan</td><td>nan</td><td>False</td><td>0</td></tr>\n",
       "<tr><td>8</td><td>472511816929</td><td>34.9195587275</td><td>-4.34592897396</td><td>0.899999976158</td><td>nan</td><td>nan</td><td>nan</td><td>nan</td><td>nan</td><td>nan</td><td>nan</td><td>nan</td><td>11.6520757675</td><td>0.000394851114834</td><td>12.5825939178</td><td>0.000670730660204</td><td>nan</td><td>nan</td><td>nan</td><td>nan</td><td>nan</td><td>nan</td><td>False</td><td>nan</td><td>nan</td><td>nan</td><td>nan</td><td>False</td><td>nan</td><td>nan</td><td>79281.0859375</td><td>28.8322563171</td><td>False</td><td>33648.234375</td><td>20.7867279053</td><td>nan</td><td>nan</td><td>False</td><td>nan</td><td>nan</td><td>False</td><td>0</td><td>False</td><td>-1</td><td>nan</td><td>nan</td><td>nan</td><td>nan</td><td>nan</td><td>nan</td><td>nan</td><td>nan</td><td>nan</td><td>nan</td><td>nan</td><td>nan</td><td>nan</td><td>nan</td><td>nan</td><td>nan</td><td>nan</td><td>nan</td><td>nan</td><td>nan</td><td>nan</td><td>nan</td><td>nan</td><td>nan</td><td>nan</td><td>nan</td><td>nan</td><td>nan</td><td>nan</td><td>nan</td><td>nan</td><td>nan</td><td>nan</td><td>nan</td><td>nan</td><td>nan</td><td>nan</td><td>nan</td><td>nan</td><td>nan</td><td>nan</td><td>False</td><td>False</td><td>False</td><td>False</td><td>False</td><td>False</td><td>0</td><td>-1</td><td>nan</td><td>nan</td><td>nan</td><td>nan</td><td>nan</td><td>nan</td><td>nan</td><td>nan</td><td>nan</td><td>nan</td><td>nan</td><td>nan</td><td>nan</td><td>nan</td><td>nan</td><td>nan</td><td>nan</td><td>nan</td><td>nan</td><td>nan</td><td>nan</td><td>nan</td><td>nan</td><td>False</td><td>nan</td><td>nan</td><td>nan</td><td>nan</td><td>False</td><td>nan</td><td>nan</td><td>nan</td><td>nan</td><td>False</td><td>nan</td><td>nan</td><td>nan</td><td>nan</td><td>False</td><td>nan</td><td>nan</td><td>nan</td><td>nan</td><td>False</td><td>nan</td><td>nan</td><td>False</td><td>0</td></tr>\n",
       "<tr><td>9</td><td>472513903003</td><td>35.4329027535</td><td>-4.50352475152</td><td>0.999657213688</td><td>nan</td><td>nan</td><td>nan</td><td>nan</td><td>12.3622283936</td><td>0.000529772310983</td><td>12.5180215836</td><td>0.000586790614761</td><td>12.7372112274</td><td>0.000689678301569</td><td>13.0147666931</td><td>0.000671552261338</td><td>12.9064025879</td><td>0.000970188644715</td><td>12.9907054901</td><td>0.000796831969637</td><td>nan</td><td>nan</td><td>False</td><td>nan</td><td>nan</td><td>41220.046875</td><td>20.1128406525</td><td>False</td><td>35710.1132812</td><td>19.2996768951</td><td>29182.0175781</td><td>18.5369186401</td><td>False</td><td>22599.2070312</td><td>13.9781179428</td><td>24971.1621094</td><td>22.3136501312</td><td>False</td><td>23105.6230469</td><td>16.9574337006</td><td>False</td><td>3</td><td>False</td><td>-1</td><td>nan</td><td>nan</td><td>nan</td><td>nan</td><td>nan</td><td>nan</td><td>nan</td><td>nan</td><td>nan</td><td>nan</td><td>nan</td><td>nan</td><td>nan</td><td>nan</td><td>nan</td><td>nan</td><td>nan</td><td>nan</td><td>nan</td><td>nan</td><td>nan</td><td>nan</td><td>nan</td><td>nan</td><td>nan</td><td>nan</td><td>nan</td><td>nan</td><td>nan</td><td>nan</td><td>nan</td><td>nan</td><td>nan</td><td>nan</td><td>nan</td><td>nan</td><td>nan</td><td>nan</td><td>nan</td><td>nan</td><td>nan</td><td>False</td><td>False</td><td>False</td><td>False</td><td>False</td><td>False</td><td>0</td><td>-1</td><td>nan</td><td>nan</td><td>nan</td><td>nan</td><td>nan</td><td>nan</td><td>nan</td><td>nan</td><td>nan</td><td>nan</td><td>nan</td><td>nan</td><td>nan</td><td>nan</td><td>nan</td><td>nan</td><td>nan</td><td>nan</td><td>nan</td><td>nan</td><td>nan</td><td>nan</td><td>nan</td><td>False</td><td>nan</td><td>nan</td><td>nan</td><td>nan</td><td>False</td><td>nan</td><td>nan</td><td>nan</td><td>nan</td><td>False</td><td>nan</td><td>nan</td><td>nan</td><td>nan</td><td>False</td><td>nan</td><td>nan</td><td>nan</td><td>nan</td><td>False</td><td>nan</td><td>nan</td><td>False</td><td>0</td></tr>\n",
       "</table><style>table.dataTable {clear: both; width: auto !important; margin: 0 !important;}\n",
       ".dataTables_info, .dataTables_length, .dataTables_filter, .dataTables_paginate{\n",
       "display: inline-block; margin-right: 1em; }\n",
       ".paginate_button { margin-right: 5px; }\n",
       "</style>\n",
       "<script>\n",
       "\n",
       "var astropy_sort_num = function(a, b) {\n",
       "    var a_num = parseFloat(a);\n",
       "    var b_num = parseFloat(b);\n",
       "\n",
       "    if (isNaN(a_num) && isNaN(b_num))\n",
       "        return ((a < b) ? -1 : ((a > b) ? 1 : 0));\n",
       "    else if (!isNaN(a_num) && !isNaN(b_num))\n",
       "        return ((a_num < b_num) ? -1 : ((a_num > b_num) ? 1 : 0));\n",
       "    else\n",
       "        return isNaN(a_num) ? -1 : 1;\n",
       "}\n",
       "\n",
       "require.config({paths: {\n",
       "    datatables: 'https://cdn.datatables.net/1.10.12/js/jquery.dataTables.min'\n",
       "}});\n",
       "require([\"datatables\"], function(){\n",
       "    console.log(\"$('#table4719991496-646434').dataTable()\");\n",
       "    \n",
       "jQuery.extend( jQuery.fn.dataTableExt.oSort, {\n",
       "    \"optionalnum-asc\": astropy_sort_num,\n",
       "    \"optionalnum-desc\": function (a,b) { return -astropy_sort_num(a, b); }\n",
       "});\n",
       "\n",
       "    $('#table4719991496-646434').dataTable({\n",
       "        order: [],\n",
       "        pageLength: 50,\n",
       "        lengthMenu: [[10, 25, 50, 100, 500, 1000, -1], [10, 25, 50, 100, 500, 1000, 'All']],\n",
       "        pagingType: \"full_numbers\",\n",
       "        columnDefs: [{targets: [0, 1, 2, 3, 4, 5, 6, 7, 8, 9, 10, 11, 12, 13, 14, 15, 16, 17, 18, 19, 20, 21, 22, 24, 25, 26, 27, 29, 30, 31, 32, 34, 35, 36, 37, 39, 40, 42, 44, 45, 46, 47, 48, 49, 50, 51, 52, 53, 54, 55, 56, 57, 58, 59, 60, 61, 62, 63, 64, 65, 66, 67, 68, 69, 70, 71, 72, 73, 74, 75, 76, 77, 78, 79, 80, 81, 82, 83, 84, 85, 92, 93, 94, 95, 96, 97, 98, 99, 100, 101, 102, 103, 104, 105, 106, 107, 108, 109, 110, 111, 112, 113, 114, 115, 116, 118, 119, 120, 121, 123, 124, 125, 126, 128, 129, 130, 131, 133, 134, 135, 136, 138, 139, 141], type: \"optionalnum\"}]\n",
       "    });\n",
       "});\n",
       "</script>\n"
      ],
      "text/plain": [
       "<IPython.core.display.HTML object>"
      ]
     },
     "execution_count": 12,
     "metadata": {},
     "output_type": "execute_result"
    }
   ],
   "source": [
    "master_catalogue[:10].show_in_notebook()"
   ]
  },
  {
   "cell_type": "code",
   "execution_count": 13,
   "metadata": {
    "collapsed": true
   },
   "outputs": [],
   "source": [
    "\n",
    "master_catalogue.add_column(Column(data=(np.char.array(master_catalogue['vhs_id'].astype(str)) \n",
    "                                    +  np.char.array(master_catalogue['video_id'].astype(str) )\n",
    "                                    +  np.char.array(master_catalogue['viking_id'].astype(str))), \n",
    "                              name=\"vircam_intid\"))"
   ]
  },
  {
   "cell_type": "code",
   "execution_count": 14,
   "metadata": {},
   "outputs": [
    {
     "name": "stdout",
     "output_type": "stream",
     "text": [
      "['vhs_id', 'video_id', 'viking_id', 'vircam_intid']\n"
     ]
    }
   ],
   "source": [
    "id_names = []\n",
    "for col in master_catalogue.colnames:\n",
    "    if '_id' in col:\n",
    "        id_names += [col]\n",
    "    if '_intid' in col:\n",
    "        id_names += [col]\n",
    "        \n",
    "print(id_names)"
   ]
  },
  {
   "cell_type": "markdown",
   "metadata": {},
   "source": [
    "## VII - Choosing between multiple values for the same filter\n",
    "\n"
   ]
  },
  {
   "cell_type": "markdown",
   "metadata": {},
   "source": [
    "### VII.c VISTA VIDEO, VHS, and VIKING: VISTA fluxes\n",
    "\n",
    "According to Mattia Vacari VIDEO is deeper than VIKING which is deeper than VHS"
   ]
  },
  {
   "cell_type": "code",
   "execution_count": 15,
   "metadata": {
    "collapsed": true
   },
   "outputs": [],
   "source": [
    "vista_origin = Table()\n",
    "vista_origin.add_column(master_catalogue['vircam_intid'])"
   ]
  },
  {
   "cell_type": "code",
   "execution_count": 16,
   "metadata": {
    "collapsed": true
   },
   "outputs": [],
   "source": [
    "vista_stats = Table()\n",
    "vista_stats.add_column(Column(data=['y','j','h','k','z'], name=\"Band\"))\n",
    "vista_stats.add_column(Column(data=np.full(5, 0), name=\"VIDEO\"))\n",
    "vista_stats.add_column(Column(data=np.full(5, 0), name=\"VIKING\"))\n",
    "vista_stats.add_column(Column(data=np.full(5, 0), name=\"VHS\"))\n",
    "vista_stats.add_column(Column(data=np.full(5, 0), name=\"use VIDEO\"))\n",
    "vista_stats.add_column(Column(data=np.full(5, 0), name=\"use VIKING\"))\n",
    "vista_stats.add_column(Column(data=np.full(5, 0), name=\"use VHS\"))\n",
    "vista_stats.add_column(Column(data=np.full(5, 0), name=\"VIDEO ap\"))\n",
    "vista_stats.add_column(Column(data=np.full(5, 0), name=\"VIKING ap\"))\n",
    "vista_stats.add_column(Column(data=np.full(5, 0), name=\"VHS ap\"))\n",
    "vista_stats.add_column(Column(data=np.full(5, 0), name=\"use VIDEO ap\"))\n",
    "vista_stats.add_column(Column(data=np.full(5, 0), name=\"use VIKING ap\"))\n",
    "vista_stats.add_column(Column(data=np.full(5, 0), name=\"use VHS ap\"))"
   ]
  },
  {
   "cell_type": "code",
   "execution_count": 17,
   "metadata": {
    "collapsed": true
   },
   "outputs": [],
   "source": [
    "\n",
    "vista_bands = ['y','j','h','k','z'] # Lowercase naming convention (k is Ks)\n",
    "for band in vista_bands:\n",
    "    #print('For VISTA band ' + band + ':')\n",
    "    # VISTA total flux \n",
    "    has_video = ~np.isnan(master_catalogue['f_video_' + band])\n",
    "    has_viking = ~np.isnan(master_catalogue['f_viking_' + band])\n",
    "    if band == 'z':\n",
    "        has_vhs = np.full(len(master_catalogue), False)\n",
    "    else:\n",
    "        has_vhs = ~np.isnan(master_catalogue['f_vhs_' + band])\n",
    "    \n",
    "\n",
    "    #print(\"{} sources with VIDEO flux\".format(np.sum(has_video)))\n",
    "    #print(\"{} sources with VIKING flux\".format(np.sum(has_viking)))\n",
    "    #print(\"{} sources with VHS flux\".format(np.sum(has_vhs)))\n",
    "    #print(\"{} sources with VIDEO, VIKING, and VHS flux\".format(np.sum(has_video & has_viking & has_vhs)))\n",
    "\n",
    "\n",
    "    use_video = has_video \n",
    "    use_viking = has_viking & ~has_video\n",
    "    use_vhs = has_vhs & ~has_video & ~has_viking\n",
    "\n",
    "    #print(\"{} sources for which we use VIDEO\".format(np.sum(use_video)))\n",
    "    #print(\"{} sources for which we use VIKING\".format(np.sum(use_viking)))\n",
    "    #print(\"{} sources for which we use VHS\".format(np.sum(use_vhs)))\n",
    "\n",
    "    f_vista = np.full(len(master_catalogue), np.nan)\n",
    "    f_vista[use_video] = master_catalogue['f_video_' + band][use_video]\n",
    "    f_vista[use_viking] = master_catalogue['f_viking_' + band][use_viking]\n",
    "    if not (band == 'z'):\n",
    "        f_vista[use_vhs] = master_catalogue['f_vhs_' + band][use_vhs]\n",
    "\n",
    "    ferr_vista = np.full(len(master_catalogue), np.nan)\n",
    "    ferr_vista[use_video] = master_catalogue['ferr_video_' + band][use_video]\n",
    "    ferr_vista[use_viking] = master_catalogue['ferr_viking_' + band][use_viking]\n",
    "    if not (band == 'z'):\n",
    "        ferr_vista[use_vhs] = master_catalogue['ferr_vhs_' + band][use_vhs]\n",
    "    \n",
    "    m_vista = np.full(len(master_catalogue), np.nan)\n",
    "    m_vista[use_video] = master_catalogue['m_video_' + band][use_video]\n",
    "    m_vista[use_viking] = master_catalogue['m_viking_' + band][use_viking]\n",
    "    if not (band == 'z'):\n",
    "        m_vista[use_vhs] = master_catalogue['m_vhs_' + band][use_vhs]\n",
    "\n",
    "    merr_vista = np.full(len(master_catalogue), np.nan)\n",
    "    merr_vista[use_video] = master_catalogue['merr_video_' + band][use_video]\n",
    "    merr_vista[use_viking] = master_catalogue['merr_viking_' + band][use_viking]\n",
    "    if not (band == 'z'):\n",
    "        merr_vista[use_vhs] = master_catalogue['merr_vhs_' + band][use_vhs]\n",
    "\n",
    "    flag_vista = np.full(len(master_catalogue), False, dtype=bool)\n",
    "    flag_vista[use_video] = master_catalogue['flag_video_' + band][use_video]\n",
    "    flag_vista[use_viking] = master_catalogue['flag_viking_' + band][use_viking]\n",
    "    if not (band == 'z'):\n",
    "        flag_vista[use_vhs] = master_catalogue['flag_vhs_' + band][use_vhs]\n",
    "\n",
    "    master_catalogue.add_column(Column(data=f_vista, name=\"f_vista_\" + band))\n",
    "    master_catalogue.add_column(Column(data=ferr_vista, name=\"ferr_vista_\" + band))\n",
    "    master_catalogue.add_column(Column(data=m_vista, name=\"m_vista_\" + band))\n",
    "    master_catalogue.add_column(Column(data=merr_vista, name=\"merr_vista_\" + band))\n",
    "    master_catalogue.add_column(Column(data=flag_vista, name=\"flag_vista_\" + band))\n",
    "\n",
    "    old_video_and_viking_columns = ['f_video_' + band, \n",
    "                                     'f_viking_' + band, \n",
    "                                     'ferr_video_' + band,\n",
    "                                     'ferr_viking_' + band, \n",
    "                                     'm_video_' + band, \n",
    "                                     'm_viking_' + band, \n",
    "                                     'merr_video_' + band,\n",
    "                                     'merr_viking_' + band,\n",
    "                                     'flag_video_' + band, \n",
    "                                     'flag_viking_' + band]\n",
    "    old_vhs_columns = ['f_vhs_' + band, \n",
    "                       'ferr_vhs_' + band, \n",
    "                       'm_vhs_' + band, \n",
    "                       'merr_vhs_' + band,\n",
    "                       'flag_vhs_' + band]\n",
    "    \n",
    "    if not (band == 'z'):\n",
    "        old_columns = old_video_and_viking_columns + old_vhs_columns\n",
    "    else:\n",
    "        old_columns = old_video_and_viking_columns\n",
    "    master_catalogue.remove_columns(old_columns)\n",
    "\n",
    "    origin = np.full(len(master_catalogue), '     ', dtype='<U5')\n",
    "    origin[use_video] = \"VIDEO\"\n",
    "    origin[use_viking] = \"VIKING\"\n",
    "    origin[use_vhs] = \"VHS\"\n",
    "    \n",
    "    vista_origin.add_column(Column(data=origin, name= 'f_vista_' + band ))\n",
    "    \n",
    "    \n",
    "    \n",
    "    # VISTA Aperture flux\n",
    "    has_ap_video = ~np.isnan(master_catalogue['f_ap_video_' + band])\n",
    "    has_ap_viking = ~np.isnan(master_catalogue['f_ap_viking_' + band])\n",
    "    if (band == 'z'):\n",
    "        has_ap_vhs = np.full(len(master_catalogue), False)\n",
    "    else:\n",
    "        has_ap_vhs = ~np.isnan(master_catalogue['f_ap_vhs_' + band])\n",
    "\n",
    "    #print(\"{} sources with VIDEO aperture flux\".format(np.sum(has_ap_video)))\n",
    "    #print(\"{} sources with VIKING aperture flux\".format(np.sum(has_ap_viking)))\n",
    "    #print(\"{} sources with VHS aperture flux\".format(np.sum(has_ap_vhs)))\n",
    "    #print(\"{} sources with VIDEO, VIKING and VHS aperture flux\".format(np.sum(has_ap_video & has_ap_viking & has_ap_vhs)))\n",
    "\n",
    "    use_ap_video = has_ap_video \n",
    "    use_ap_viking = has_ap_viking & ~has_ap_video\n",
    "    use_ap_vhs = has_ap_vhs & ~has_ap_video & ~has_ap_viking\n",
    "\n",
    "    #print(\"{} sources for which we use VIDEO aperture fluxes\".format(np.sum(use_ap_video)))\n",
    "    #print(\"{} sources for which we use VIKING aperture fluxes\".format(np.sum(use_ap_viking)))\n",
    "    #print(\"{} sources for which we use VHS aperture fluxes\".format(np.sum(use_ap_vhs)))\n",
    "\n",
    "    f_ap_vista = np.full(len(master_catalogue), np.nan)\n",
    "    f_ap_vista[use_ap_video] = master_catalogue['f_ap_video_' + band][use_ap_video]\n",
    "    f_ap_vista[use_ap_viking] = master_catalogue['f_ap_viking_' + band][use_ap_viking]\n",
    "    if not (band == 'z'):\n",
    "        f_ap_vista[use_ap_vhs] = master_catalogue['f_ap_vhs_' + band][use_ap_vhs]\n",
    "\n",
    "    ferr_ap_vista = np.full(len(master_catalogue), np.nan)\n",
    "    ferr_ap_vista[use_ap_video] = master_catalogue['ferr_ap_video_' + band][use_ap_video]\n",
    "    ferr_ap_vista[use_ap_viking] = master_catalogue['ferr_ap_viking_' + band][use_ap_viking]\n",
    "    if not (band == 'z'):\n",
    "        ferr_ap_vista[use_ap_vhs] = master_catalogue['ferr_ap_vhs_' + band][use_ap_vhs]\n",
    "    \n",
    "    m_ap_vista = np.full(len(master_catalogue), np.nan)\n",
    "    m_ap_vista[use_ap_video] = master_catalogue['m_ap_video_' + band][use_ap_video]\n",
    "    m_ap_vista[use_ap_viking] = master_catalogue['m_ap_viking_' + band][use_ap_viking]\n",
    "    if not (band == 'z'):\n",
    "        m_ap_vista[use_ap_vhs] = master_catalogue['m_ap_vhs_' + band][use_ap_vhs]\n",
    "\n",
    "    merr_ap_vista = np.full(len(master_catalogue), np.nan)\n",
    "    merr_ap_vista[use_ap_video] = master_catalogue['merr_ap_video_' + band][use_ap_video]\n",
    "    merr_ap_vista[use_ap_viking] = master_catalogue['merr_ap_viking_' + band][use_ap_viking]\n",
    "    if not (band == 'z'):\n",
    "        merr_ap_vista[use_ap_vhs] = master_catalogue['merr_ap_vhs_' + band][use_ap_vhs]\n",
    "\n",
    "\n",
    "    master_catalogue.add_column(Column(data=f_ap_vista, name=\"f_ap_vista_\" + band))\n",
    "    master_catalogue.add_column(Column(data=ferr_ap_vista, name=\"ferr_ap_vista_\" + band))\n",
    "    master_catalogue.add_column(Column(data=m_ap_vista, name=\"m_ap_vista_\" + band))\n",
    "    master_catalogue.add_column(Column(data=merr_vista, name=\"merr_ap_vista_\" + band))\n",
    "\n",
    "\n",
    "    ap_old_video_and_viking_columns = ['f_ap_video_' + band, \n",
    "                                     'f_ap_viking_' + band, \n",
    "                                     'ferr_ap_video_' + band,\n",
    "                                     'ferr_ap_viking_' + band, \n",
    "                                     'm_ap_video_' + band, \n",
    "                                     'm_ap_viking_' + band, \n",
    "                                     'merr_ap_video_' + band,\n",
    "                                     'merr_ap_viking_' + band]\n",
    "    ap_old_vhs_columns = ['f_ap_vhs_' + band, \n",
    "                       'ferr_ap_vhs_' + band, \n",
    "                       'm_ap_vhs_' + band, \n",
    "                       'merr_ap_vhs_' + band]\n",
    "    \n",
    "    if not (band == 'z'):\n",
    "        ap_old_columns = ap_old_video_and_viking_columns + ap_old_vhs_columns\n",
    "    else:\n",
    "        ap_old_columns = ap_old_video_and_viking_columns\n",
    "    master_catalogue.remove_columns(ap_old_columns)\n",
    "\n",
    "    origin_ap = np.full(len(master_catalogue), '     ', dtype='<U5')\n",
    "    origin_ap[use_ap_video] = \"VIDEO\"\n",
    "    origin_ap[use_ap_viking] = \"VIKING\"\n",
    "    origin_ap[use_ap_vhs] = \"VHS\"\n",
    "    \n",
    "    vista_origin.add_column(Column(data=origin_ap, name= 'f_ap_vista_' + band ))\n",
    "    \n",
    "    vista_stats['VIDEO'][vista_stats['Band'] == band] = np.sum(has_video)\n",
    "    vista_stats['VIKING'][vista_stats['Band'] == band] = np.sum(has_viking)\n",
    "    vista_stats['VHS'][vista_stats['Band'] == band] = np.sum(has_vhs)\n",
    "    vista_stats['use VIDEO'][vista_stats['Band'] == band] = np.sum(use_video)\n",
    "    vista_stats['use VIKING'][vista_stats['Band'] == band] = np.sum(use_viking)\n",
    "    vista_stats['use VHS'][vista_stats['Band'] == band] = np.sum(use_vhs)\n",
    "    vista_stats['VIDEO ap'][vista_stats['Band'] == band] = np.sum(has_ap_video)\n",
    "    vista_stats['VIKING ap'][vista_stats['Band'] == band] = np.sum(has_ap_viking)\n",
    "    vista_stats['VHS ap'][vista_stats['Band'] == band] = np.sum(has_ap_vhs)\n",
    "    vista_stats['use VIDEO ap'][vista_stats['Band'] == band] = np.sum(use_ap_video)\n",
    "    vista_stats['use VIKING ap'][vista_stats['Band'] == band] = np.sum(use_ap_viking)\n",
    "    vista_stats['use VHS ap'][vista_stats['Band'] == band] = np.sum(use_ap_vhs)"
   ]
  },
  {
   "cell_type": "code",
   "execution_count": 18,
   "metadata": {
    "collapsed": true
   },
   "outputs": [],
   "source": [
    "for col in master_catalogue.colnames:\n",
    "    if 'vista' in col:\n",
    "        master_catalogue[col].name  = col.replace('vista', 'vircam')"
   ]
  },
  {
   "cell_type": "markdown",
   "metadata": {},
   "source": [
    "### Vista origin overview\n",
    "For each band show how many objects have fluxes from each survey for both total and aperture photometries."
   ]
  },
  {
   "cell_type": "code",
   "execution_count": 19,
   "metadata": {},
   "outputs": [
    {
     "data": {
      "text/html": [
       "&lt;Table length=5&gt;\n",
       "<table id=\"table4722020248-466921\" class=\"table-striped table-bordered table-condensed\">\n",
       "<thead><tr><th>idx</th><th>Band</th><th>VIDEO</th><th>VIKING</th><th>VHS</th><th>use VIDEO</th><th>use VIKING</th><th>use VHS</th><th>VIDEO ap</th><th>VIKING ap</th><th>VHS ap</th><th>use VIDEO ap</th><th>use VIKING ap</th><th>use VHS ap</th></tr></thead>\n",
       "<tr><td>0</td><td>y</td><td>6336</td><td>1996</td><td>0</td><td>6336</td><td>1983</td><td>0</td><td>6314</td><td>1996</td><td>0</td><td>6314</td><td>1983</td><td>0</td></tr>\n",
       "<tr><td>1</td><td>j</td><td>6341</td><td>3330</td><td>7240</td><td>6341</td><td>2904</td><td>6631</td><td>6321</td><td>3330</td><td>7238</td><td>6321</td><td>2904</td><td>6629</td></tr>\n",
       "<tr><td>2</td><td>h</td><td>6307</td><td>3521</td><td>6938</td><td>6307</td><td>3051</td><td>6286</td><td>6256</td><td>3521</td><td>6936</td><td>6256</td><td>3051</td><td>6284</td></tr>\n",
       "<tr><td>3</td><td>k</td><td>6228</td><td>3816</td><td>6261</td><td>6228</td><td>3238</td><td>5649</td><td>6126</td><td>3816</td><td>6261</td><td>6126</td><td>3238</td><td>5649</td></tr>\n",
       "<tr><td>4</td><td>z</td><td>1093</td><td>3396</td><td>0</td><td>1093</td><td>3393</td><td>0</td><td>1093</td><td>3396</td><td>0</td><td>1093</td><td>3393</td><td>0</td></tr>\n",
       "</table><style>table.dataTable {clear: both; width: auto !important; margin: 0 !important;}\n",
       ".dataTables_info, .dataTables_length, .dataTables_filter, .dataTables_paginate{\n",
       "display: inline-block; margin-right: 1em; }\n",
       ".paginate_button { margin-right: 5px; }\n",
       "</style>\n",
       "<script>\n",
       "\n",
       "var astropy_sort_num = function(a, b) {\n",
       "    var a_num = parseFloat(a);\n",
       "    var b_num = parseFloat(b);\n",
       "\n",
       "    if (isNaN(a_num) && isNaN(b_num))\n",
       "        return ((a < b) ? -1 : ((a > b) ? 1 : 0));\n",
       "    else if (!isNaN(a_num) && !isNaN(b_num))\n",
       "        return ((a_num < b_num) ? -1 : ((a_num > b_num) ? 1 : 0));\n",
       "    else\n",
       "        return isNaN(a_num) ? -1 : 1;\n",
       "}\n",
       "\n",
       "require.config({paths: {\n",
       "    datatables: 'https://cdn.datatables.net/1.10.12/js/jquery.dataTables.min'\n",
       "}});\n",
       "require([\"datatables\"], function(){\n",
       "    console.log(\"$('#table4722020248-466921').dataTable()\");\n",
       "    \n",
       "jQuery.extend( jQuery.fn.dataTableExt.oSort, {\n",
       "    \"optionalnum-asc\": astropy_sort_num,\n",
       "    \"optionalnum-desc\": function (a,b) { return -astropy_sort_num(a, b); }\n",
       "});\n",
       "\n",
       "    $('#table4722020248-466921').dataTable({\n",
       "        order: [],\n",
       "        pageLength: 50,\n",
       "        lengthMenu: [[10, 25, 50, 100, 500, 1000, -1], [10, 25, 50, 100, 500, 1000, 'All']],\n",
       "        pagingType: \"full_numbers\",\n",
       "        columnDefs: [{targets: [0, 2, 3, 4, 5, 6, 7, 8, 9, 10, 11, 12, 13], type: \"optionalnum\"}]\n",
       "    });\n",
       "});\n",
       "</script>\n"
      ],
      "text/plain": [
       "<IPython.core.display.HTML object>"
      ]
     },
     "execution_count": 19,
     "metadata": {},
     "output_type": "execute_result"
    }
   ],
   "source": [
    "vista_stats.show_in_notebook()"
   ]
  },
  {
   "cell_type": "code",
   "execution_count": 20,
   "metadata": {},
   "outputs": [],
   "source": [
    "vista_origin.write(\"{}/xmm-lss_vista_fluxes_origins{}.fits\".format(OUT_DIR, SUFFIX), overwrite=True)"
   ]
  },
  {
   "cell_type": "markdown",
   "metadata": {},
   "source": [
    "## XI - Saving the catalogue"
   ]
  },
  {
   "cell_type": "code",
   "execution_count": 21,
   "metadata": {
    "collapsed": true
   },
   "outputs": [],
   "source": [
    "columns = [\"help_id\", \"field\", \"ra\", \"dec\", \"hp_idx\"]\n",
    "\n",
    "bands = [column[5:] for column in master_catalogue.colnames if 'f_ap' in column]\n",
    "for band in bands:\n",
    "    columns += [\"f_ap_{}\".format(band), \"ferr_ap_{}\".format(band),\n",
    "                \"m_ap_{}\".format(band), \"merr_ap_{}\".format(band),\n",
    "                \"f_{}\".format(band), \"ferr_{}\".format(band),\n",
    "                \"m_{}\".format(band), \"merr_{}\".format(band),\n",
    "                \"flag_{}\".format(band)]    \n",
    "    \n",
    "columns += [\"stellarity\", \"stellarity_origin\", \"flag_cleaned\", \"flag_merged\", \"flag_gaia\", \"flag_optnir_obs\", \"flag_optnir_det\", \n",
    "            \"zspec\", \"zspec_qual\", \"zspec_association_flag\", \"ebv\"]"
   ]
  },
  {
   "cell_type": "code",
   "execution_count": 22,
   "metadata": {},
   "outputs": [
    {
     "name": "stdout",
     "output_type": "stream",
     "text": [
      "Missing columns: {'video_flag_cleaned', 'viking_flag_cleaned', 'video_stellarity', 'video_flag_gaia', 'vhs_flag_cleaned', 'video_id', 'vircam_flag_merged', 'vhs_flag_gaia', 'vircam_intid', 'vhs_stellarity', 'vircam_ra', 'vircam_dec', 'vhs_id', 'viking_stellarity', 'viking_flag_gaia', 'viking_id'}\n"
     ]
    }
   ],
   "source": [
    "# We check for columns in the master catalogue that we will not save to disk.\n",
    "print(\"Missing columns: {}\".format(set(master_catalogue.colnames) - set(columns)))"
   ]
  },
  {
   "cell_type": "code",
   "execution_count": 23,
   "metadata": {
    "collapsed": true
   },
   "outputs": [],
   "source": [
    "master_catalogue.write(\"{}/vircam_merged_catalogue_xmm-lss.fits\".format(TMP_DIR), overwrite=True)"
   ]
  }
 ],
 "metadata": {
  "kernelspec": {
   "display_name": "Python (herschelhelp_internal)",
   "language": "python",
   "name": "helpint"
  },
  "language_info": {
   "codemirror_mode": {
    "name": "ipython",
    "version": 3
   },
   "file_extension": ".py",
   "mimetype": "text/x-python",
   "name": "python",
   "nbconvert_exporter": "python",
   "pygments_lexer": "ipython3",
   "version": "3.6.1"
  }
 },
 "nbformat": 4,
 "nbformat_minor": 2
}
