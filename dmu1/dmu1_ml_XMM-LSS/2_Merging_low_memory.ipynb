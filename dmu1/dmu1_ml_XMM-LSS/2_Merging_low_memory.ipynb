{
 "cells": [
  {
   "cell_type": "markdown",
   "metadata": {},
   "source": [
    "# XMM-LSS master catalogue\n",
    "\n",
    "This notebook presents the merge of the various pristine catalogues to produce the HELP master catalogue on XMM-LSS."
   ]
  },
  {
   "cell_type": "code",
   "execution_count": 1,
   "metadata": {},
   "outputs": [
    {
     "name": "stdout",
     "output_type": "stream",
     "text": [
      "This notebook was run with herschelhelp_internal version: \n",
      "44f1ae0 (Thu Nov 30 18:27:54 2017 +0000)\n"
     ]
    }
   ],
   "source": [
    "from herschelhelp_internal import git_version\n",
    "print(\"This notebook was run with herschelhelp_internal version: \\n{}\".format(git_version()))"
   ]
  },
  {
   "cell_type": "code",
   "execution_count": 2,
   "metadata": {},
   "outputs": [
    {
     "name": "stderr",
     "output_type": "stream",
     "text": [
      "/Users/rs548/anaconda/envs/herschelhelp_internal/lib/python3.6/site-packages/seaborn/apionly.py:6: UserWarning: As seaborn no longer sets a default style on import, the seaborn.apionly module is deprecated. It will be removed in a future version.\n",
      "  warnings.warn(msg, UserWarning)\n"
     ]
    }
   ],
   "source": [
    "%matplotlib inline\n",
    "#%config InlineBackend.figure_format = 'svg'\n",
    "\n",
    "import matplotlib.pyplot as plt\n",
    "plt.rc('figure', figsize=(10, 6))\n",
    "\n",
    "import os\n",
    "import time\n",
    "\n",
    "from astropy import units as u\n",
    "from astropy.coordinates import SkyCoord\n",
    "from astropy.table import Column, Table, join\n",
    "import numpy as np\n",
    "from pymoc import MOC\n",
    "\n",
    "from herschelhelp_internal.masterlist import merge_catalogues, nb_merge_dist_plot, specz_merge\n",
    "from herschelhelp_internal.utils import coords_to_hpidx, ebv, gen_help_id, inMoc"
   ]
  },
  {
   "cell_type": "code",
   "execution_count": 3,
   "metadata": {
    "collapsed": true
   },
   "outputs": [],
   "source": [
    "TMP_DIR = os.environ.get('TMP_DIR', \"./data_tmp\")\n",
    "OUT_DIR = os.environ.get('OUT_DIR', \"./data\")\n",
    "SUFFIX = os.environ.get('SUFFIX', time.strftime(\"_%Y%m%d\"))\n",
    "\n",
    "try:\n",
    "    os.makedirs(OUT_DIR)\n",
    "except FileExistsError:\n",
    "    pass"
   ]
  },
  {
   "cell_type": "markdown",
   "metadata": {},
   "source": [
    "## I - Reading the prepared pristine catalogues"
   ]
  },
  {
   "cell_type": "code",
   "execution_count": 4,
   "metadata": {
    "collapsed": true
   },
   "outputs": [],
   "source": [
    "candels = Table.read(\"{}/CANDELS.fits\".format(TMP_DIR)\n",
    "                    )[\"candels_id\",\n",
    "                      \"candels_ra\",\n",
    "                      \"candels_dec\",\n",
    "                      \"candels_stellarity\"]           # 1.1\n",
    "cfht_wirds = Table.read(\"{}/CFHT-WIRDS.fits\".format(TMP_DIR)\n",
    "                       )[\"wirds_intid\",\n",
    "                         \"wirds_ra\",\n",
    "                         \"wirds_dec\",\n",
    "                         \"wirds_stellarity\", \n",
    "                         'flag_merged']     # 1.3\n",
    "cfhtls_wide = Table.read(\"{}/CFHTLS-WIDE.fits\".format(TMP_DIR)\n",
    "                        )[\"cfhtls-wide_id\",\n",
    "                          \"cfhtls-wide_ra\",\n",
    "                          \"cfhtls-wide_dec\",\n",
    "                          \"cfhtls-wide_stellarity\"]   # 1.4a\n",
    "cfhtls_deep = Table.read(\"{}/CFHTLS-DEEP.fits\".format(TMP_DIR)\n",
    "                        )[\"cfhtls-deep_id\",\n",
    "                          \"cfhtls-deep_ra\",\n",
    "                          \"cfhtls-deep_dec\",\n",
    "                          \"cfhtls-deep_stellarity\"]   # 1.4b\n",
    "#We no longer use CFHTLenS as it is the same raw data set as CFHTLS-WIDE\n",
    "# cfhtlens = Table.read(\"{}/CFHTLENS.fits\".format(TMP_DIR))         # 1.5\n",
    "decals = Table.read(\"{}/DECaLS.fits\".format(TMP_DIR)\n",
    "                   )[\"decals_id\",\n",
    "                     \"decals_ra\",\n",
    "                     \"decals_dec\"]             # 1.6\n",
    "servs = Table.read(\"{}/SERVS.fits\".format(TMP_DIR)\n",
    "                  )[\"servs_intid\",\n",
    "                    \"servs_ra\",\n",
    "                    \"servs_dec\"]               # 1.8\n",
    "swire = Table.read(\"{}/SWIRE.fits\".format(TMP_DIR)\n",
    "                  )[\"swire_intid\",\n",
    "                    \"swire_ra\",\n",
    "                    \"swire_dec\"]               # 1.7\n",
    "hsc_wide = Table.read(\"{}/HSC-WIDE.fits\".format(TMP_DIR)\n",
    "                     )[\"hsc-wide_id\",\n",
    "                       \"hsc-wide_ra\",\n",
    "                       \"hsc-wide_dec\", \n",
    "                       \"hsc-wide_stellarity\"]         # 1.9a\n",
    "hsc_deep = Table.read(\"{}/HSC-DEEP.fits\".format(TMP_DIR)\n",
    "                     )[\"hsc-deep_id\",\n",
    "                       \"hsc-deep_ra\",\n",
    "                       \"hsc-deep_dec\", \n",
    "                       \"hsc-deep_stellarity\"]         # 1.9b\n",
    "hsc_udeep = Table.read(\"{}/HSC-UDEEP.fits\".format(TMP_DIR)\n",
    "                      )[\"hsc-udeep_id\",\n",
    "                        \"hsc-udeep_ra\",\n",
    "                        \"hsc-udeep_dec\", \n",
    "                        \"hsc-udeep_stellarity\"]       # 1.9c\n",
    "ps1 = Table.read(\"{}/PS1.fits\".format(TMP_DIR)\n",
    "                )[\"ps1_id\",\n",
    "                  \"ps1_ra\",\n",
    "                  \"ps1_dec\"]                   # 1.10\n",
    "sxds = Table.read(\"{}/SXDS.fits\".format(TMP_DIR)\n",
    "                 )[\"sxds_b_id\", \n",
    "                   \"sxds_ra\", \n",
    "                   \"sxds_dec\",\n",
    "                   'flag_merged']                 # 1.11\n",
    "sparcs = Table.read(\"{}/SpARCS.fits\".format(TMP_DIR)\n",
    "                   )['sparcs_intid', \n",
    "                     'sparcs_ra', \n",
    "                     'sparcs_dec', \n",
    "                     'sparcs_stellarity']             # 1.12\n",
    "dxs = Table.read(\"{}/UKIDSS-DXS.fits\".format(TMP_DIR)\n",
    "                )['dxs_id',\n",
    "                  'dxs_ra',\n",
    "                  'dxs_dec', \n",
    "                  'dxs_stellarity']            # 1.13\n",
    "uds = Table.read(\"{}/UKIDSS-UDS.fits\".format(TMP_DIR)\n",
    "                )['uds_id',\n",
    "                  'uds_ra',\n",
    "                  'uds_dec',\n",
    "                  'uds_stellarity']            # 1.14\n",
    "vipers = Table.read(\"{}/VIPERS.fits\".format(TMP_DIR)\n",
    "                   )[\"vipers_id\",\n",
    "                     \"vipers_ra\",\n",
    "                     \"vipers_dec\"]             # 1.15\n",
    "vhs = Table.read(\"{}/VISTA-VHS.fits\".format(TMP_DIR)\n",
    "                )[\"vhs_id\",\n",
    "                  \"vhs_ra\",\n",
    "                  \"vhs_dec\",\n",
    "                  \"vhs_stellarity\"]             # 1.16\n",
    "video = Table.read(\"{}/VISTA-VIDEO.fits\".format(TMP_DIR)\n",
    "                  )['video_id',\n",
    "                    'video_ra',\n",
    "                    'video_dec',\n",
    "                    'video_stellarity',\n",
    "                    'video_flag_gaia']         # 1.17\n",
    "viking = Table.read(\"{}/VISTA-VIKING.fits\".format(TMP_DIR)\n",
    "                   )[\"viking_id\",\n",
    "                     \"viking_ra\",\n",
    "                     \"viking_dec\",\n",
    "                     \"viking_stellarity\",\n",
    "                     \"viking_flag_gaia\"]       # 1.18"
   ]
  },
  {
   "cell_type": "markdown",
   "metadata": {},
   "source": [
    "## II - Merging tables\n",
    "\n",
    "We first merge the optical catalogues and then add the infrared ones. We start with PanSTARRS because it coevrs the whole field.\n",
    "\n",
    "At every step, we look at the distribution of the distances to the nearest source in the merged catalogue to determine the best crossmatching radius."
   ]
  },
  {
   "cell_type": "markdown",
   "metadata": {},
   "source": [
    "### Add PanSTARRS"
   ]
  },
  {
   "cell_type": "code",
   "execution_count": 5,
   "metadata": {
    "collapsed": true
   },
   "outputs": [],
   "source": [
    "master_catalogue = ps1\n",
    "master_catalogue['ps1_ra'].name = 'ra'\n",
    "master_catalogue['ps1_dec'].name = 'dec'"
   ]
  },
  {
   "cell_type": "markdown",
   "metadata": {},
   "source": [
    "### CANDELS"
   ]
  },
  {
   "cell_type": "code",
   "execution_count": 6,
   "metadata": {},
   "outputs": [
    {
     "name": "stdout",
     "output_type": "stream",
     "text": [
      "HELP Warning: There weren't any cross matches. The two surveys probably don't overlap.\n"
     ]
    }
   ],
   "source": [
    "nb_merge_dist_plot(\n",
    "    SkyCoord(master_catalogue['ra'], master_catalogue['dec']),\n",
    "    SkyCoord(candels['candels_ra'], candels['candels_dec'])\n",
    ")"
   ]
  },
  {
   "cell_type": "code",
   "execution_count": 7,
   "metadata": {
    "collapsed": true
   },
   "outputs": [],
   "source": [
    "# Given the graph above, we use 0.8 arc-second radius\n",
    "master_catalogue = merge_catalogues(master_catalogue, candels, \"candels_ra\", \"candels_dec\", radius=0.8*u.arcsec)"
   ]
  },
  {
   "cell_type": "markdown",
   "metadata": {},
   "source": [
    "### Add CFHT-WIRDS"
   ]
  },
  {
   "cell_type": "code",
   "execution_count": 8,
   "metadata": {},
   "outputs": [
    {
     "name": "stdout",
     "output_type": "stream",
     "text": [
      "HELP Warning: There weren't any cross matches. The two surveys probably don't overlap.\n"
     ]
    }
   ],
   "source": [
    "nb_merge_dist_plot(\n",
    "    SkyCoord(master_catalogue['ra'], master_catalogue['dec']),\n",
    "    SkyCoord(cfht_wirds['wirds_ra'], cfht_wirds['wirds_dec'])\n",
    ")"
   ]
  },
  {
   "cell_type": "markdown",
   "metadata": {},
   "source": [
    "Because CFHT-WIRDS is made by merging the different bands it has a flag_merged columns which must be removed. We throw this information away because one can get back to the original object using the combined id as described in the notebook."
   ]
  },
  {
   "cell_type": "code",
   "execution_count": 9,
   "metadata": {
    "collapsed": true
   },
   "outputs": [],
   "source": [
    "cfht_wirds['flag_merged'].name = 'flag_merged_wirds'"
   ]
  },
  {
   "cell_type": "code",
   "execution_count": 10,
   "metadata": {},
   "outputs": [
    {
     "name": "stderr",
     "output_type": "stream",
     "text": [
      "WARNING: MergeConflictWarning: Cannot merge meta key 'EXTNAME' types <class 'str'> and <class 'str'>, choosing EXTNAME='/Users/rs548/GitHub/dmu_products/dmu1/dmu1_ml_XMM-LSS/data_tmp/CF...' [astropy.utils.metadata]\n",
      "WARNING: MergeConflictWarning: Cannot merge meta key 'DATE-HDU' types <class 'str'> and <class 'str'>, choosing DATE-HDU='2017-10-26T17:44:50' [astropy.utils.metadata]\n",
      "WARNING: MergeConflictWarning: Cannot merge meta key 'EXTNAME' types <class 'str'> and <class 'str'>, choosing EXTNAME='/Users/rs548/GitHub/dmu_products/dmu1/dmu1_ml_XMM-LSS/data_tmp/CF...' [astropy.utils.metadata]\n",
      "WARNING: MergeConflictWarning: Cannot merge meta key 'DATE-HDU' types <class 'str'> and <class 'str'>, choosing DATE-HDU='2017-10-26T17:44:50' [astropy.utils.metadata]\n"
     ]
    }
   ],
   "source": [
    "# Given the graph above, we use 0.8 arc-second radius\n",
    "master_catalogue = merge_catalogues(master_catalogue, cfht_wirds, \"wirds_ra\", \"wirds_dec\", radius=0.8*u.arcsec)"
   ]
  },
  {
   "cell_type": "markdown",
   "metadata": {},
   "source": [
    "### Add CFHTLS"
   ]
  },
  {
   "cell_type": "code",
   "execution_count": 11,
   "metadata": {},
   "outputs": [
    {
     "data": {
      "image/png": "[encoded data removed]",
      "text/plain": [
       "<matplotlib.figure.Figure at 0x105bf5278>"
      ]
     },
     "metadata": {},
     "output_type": "display_data"
    }
   ],
   "source": [
    "nb_merge_dist_plot(\n",
    "    SkyCoord(master_catalogue['ra'], master_catalogue['dec']),\n",
    "    SkyCoord(cfhtls_wide['cfhtls-wide_ra'], cfhtls_wide['cfhtls-wide_dec'])\n",
    ")"
   ]
  },
  {
   "cell_type": "code",
   "execution_count": 12,
   "metadata": {
    "collapsed": true
   },
   "outputs": [],
   "source": [
    "# Given the graph above, we use 0.8 arc-second radius\n",
    "master_catalogue = merge_catalogues(master_catalogue, \n",
    "                                    cfhtls_wide, \n",
    "                                    \"cfhtls-wide_ra\", \n",
    "                                    \"cfhtls-wide_dec\", \n",
    "                                    radius=0.8*u.arcsec)\n",
    "master_catalogue = merge_catalogues(master_catalogue, \n",
    "                                    cfhtls_deep, \n",
    "                                    \"cfhtls-deep_ra\", \n",
    "                                    \"cfhtls-deep_dec\", \n",
    "                                    radius=0.8*u.arcsec)"
   ]
  },
  {
   "cell_type": "markdown",
   "metadata": {},
   "source": [
    "### Add CFHT-LenS\n",
    "\n",
    "CFHTLenS is no longer included since it is made from the same raw data as CFHTLS"
   ]
  },
  {
   "cell_type": "code",
   "execution_count": 13,
   "metadata": {},
   "outputs": [
    {
     "data": {
      "text/plain": [
       "\"\\nnb_merge_dist_plot(\\n    SkyCoord(master_catalogue['ra'], master_catalogue['dec']),\\n    SkyCoord(cfhtlens['cfhtlens_ra'], cfhtlens['cfhtlens_dec'])\\n)\\n\""
      ]
     },
     "execution_count": 13,
     "metadata": {},
     "output_type": "execute_result"
    }
   ],
   "source": [
    "\"\"\"\n",
    "nb_merge_dist_plot(\n",
    "    SkyCoord(master_catalogue['ra'], master_catalogue['dec']),\n",
    "    SkyCoord(cfhtlens['cfhtlens_ra'], cfhtlens['cfhtlens_dec'])\n",
    ")\n",
    "\"\"\""
   ]
  },
  {
   "cell_type": "code",
   "execution_count": 14,
   "metadata": {},
   "outputs": [
    {
     "data": {
      "text/plain": [
       "'# Given the graph above, we use 0.8 arc-second radius\\nmaster_catalogue = merge_catalogues(master_catalogue, \\n                                    cfhtlens, \\n                                    \"cfhtlens_ra\", \\n                                    \"cfhtlens_dec\", \\n                                    radius=0.8*u.arcsec)'"
      ]
     },
     "execution_count": 14,
     "metadata": {},
     "output_type": "execute_result"
    }
   ],
   "source": [
    "\"\"\"# Given the graph above, we use 0.8 arc-second radius\n",
    "master_catalogue = merge_catalogues(master_catalogue, \n",
    "                                    cfhtlens, \n",
    "                                    \"cfhtlens_ra\", \n",
    "                                    \"cfhtlens_dec\", \n",
    "                                    radius=0.8*u.arcsec)\"\"\""
   ]
  },
  {
   "cell_type": "markdown",
   "metadata": {},
   "source": [
    "### Add HSC-PSS"
   ]
  },
  {
   "cell_type": "code",
   "execution_count": 15,
   "metadata": {},
   "outputs": [
    {
     "data": {
      "image/png": "[encoded data removed]",
      "text/plain": [
       "<matplotlib.figure.Figure at 0x1058e6cc0>"
      ]
     },
     "metadata": {},
     "output_type": "display_data"
    }
   ],
   "source": [
    "nb_merge_dist_plot(\n",
    "    SkyCoord(master_catalogue['ra'], master_catalogue['dec']),\n",
    "    SkyCoord(hsc_wide['hsc-wide_ra'], hsc_wide['hsc-wide_dec'])\n",
    ")"
   ]
  },
  {
   "cell_type": "code",
   "execution_count": 16,
   "metadata": {},
   "outputs": [
    {
     "name": "stderr",
     "output_type": "stream",
     "text": [
      "WARNING: MergeConflictWarning: Cannot merge meta key 'EXTNAME' types <class 'str'> and <class 'str'>, choosing EXTNAME='/Users/rs548/GitHub/dmu_products/dmu1/dmu1_ml_XMM-LSS/data_tmp/HS...' [astropy.utils.metadata]\n",
      "WARNING: MergeConflictWarning: Cannot merge meta key 'DATE-HDU' types <class 'str'> and <class 'str'>, choosing DATE-HDU='2017-10-27T11:26:18' [astropy.utils.metadata]\n",
      "WARNING: MergeConflictWarning: Cannot merge meta key 'EXTNAME' types <class 'str'> and <class 'str'>, choosing EXTNAME='/Users/rs548/GitHub/dmu_products/dmu1/dmu1_ml_XMM-LSS/data_tmp/HS...' [astropy.utils.metadata]\n",
      "WARNING: MergeConflictWarning: Cannot merge meta key 'DATE-HDU' types <class 'str'> and <class 'str'>, choosing DATE-HDU='2017-10-27T11:26:18' [astropy.utils.metadata]\n"
     ]
    }
   ],
   "source": [
    "# Given the graph above, we use 0.8 arc-second radius\n",
    "master_catalogue = merge_catalogues(master_catalogue, hsc_wide, \"hsc-wide_ra\", \"hsc-wide_dec\", radius=0.8*u.arcsec)\n",
    "master_catalogue = merge_catalogues(master_catalogue, hsc_deep, \"hsc-deep_ra\", \"hsc-deep_dec\", radius=0.8*u.arcsec)\n",
    "master_catalogue = merge_catalogues(master_catalogue, hsc_udeep, \"hsc-udeep_ra\", \"hsc-udeep_dec\", radius=0.8*u.arcsec)"
   ]
  },
  {
   "cell_type": "markdown",
   "metadata": {},
   "source": [
    "### Add DECaLS"
   ]
  },
  {
   "cell_type": "code",
   "execution_count": 17,
   "metadata": {},
   "outputs": [
    {
     "data": {
      "image/png": "[encoded data removed]",
      "text/plain": [
       "<matplotlib.figure.Figure at 0x105bf5278>"
      ]
     },
     "metadata": {},
     "output_type": "display_data"
    }
   ],
   "source": [
    "nb_merge_dist_plot(\n",
    "    SkyCoord(master_catalogue['ra'], master_catalogue['dec']),\n",
    "    SkyCoord(decals['decals_ra'], decals['decals_dec'])\n",
    ")"
   ]
  },
  {
   "cell_type": "code",
   "execution_count": 18,
   "metadata": {
    "collapsed": true
   },
   "outputs": [],
   "source": [
    "# Given the graph above, we use 0.8 arc-second radius\n",
    "master_catalogue = merge_catalogues(master_catalogue, decals, \"decals_ra\", \"decals_dec\", radius=0.8*u.arcsec)"
   ]
  },
  {
   "cell_type": "markdown",
   "metadata": {},
   "source": [
    "### Add SpARCS"
   ]
  },
  {
   "cell_type": "code",
   "execution_count": 19,
   "metadata": {},
   "outputs": [
    {
     "name": "stdout",
     "output_type": "stream",
     "text": [
      "HELP Warning: There weren't any cross matches. The two surveys probably don't overlap.\n"
     ]
    }
   ],
   "source": [
    "nb_merge_dist_plot(\n",
    "    SkyCoord(master_catalogue['ra'], master_catalogue['dec']),\n",
    "    SkyCoord(sparcs['sparcs_ra'], sparcs['sparcs_dec'])\n",
    ")"
   ]
  },
  {
   "cell_type": "code",
   "execution_count": 20,
   "metadata": {},
   "outputs": [
    {
     "name": "stderr",
     "output_type": "stream",
     "text": [
      "WARNING: MergeConflictWarning: Cannot merge meta key 'EXTNAME' types <class 'str'> and <class 'str'>, choosing EXTNAME='/Users/rs548/GitHub/dmu_products/dmu1/dmu1_ml_XMM-LSS/data_tmp/Sp...' [astropy.utils.metadata]\n",
      "WARNING: MergeConflictWarning: Cannot merge meta key 'DATE-HDU' types <class 'str'> and <class 'str'>, choosing DATE-HDU='2017-11-01T10:29:56' [astropy.utils.metadata]\n",
      "WARNING: MergeConflictWarning: Cannot merge meta key 'EXTNAME' types <class 'str'> and <class 'str'>, choosing EXTNAME='/Users/rs548/GitHub/dmu_products/dmu1/dmu1_ml_XMM-LSS/data_tmp/Sp...' [astropy.utils.metadata]\n",
      "WARNING: MergeConflictWarning: Cannot merge meta key 'DATE-HDU' types <class 'str'> and <class 'str'>, choosing DATE-HDU='2017-11-01T10:29:56' [astropy.utils.metadata]\n"
     ]
    }
   ],
   "source": [
    "# Given the graph above, we use 0.8 arc-second radius\n",
    "master_catalogue = merge_catalogues(master_catalogue, sparcs, \"sparcs_ra\", \"sparcs_dec\", radius=0.8*u.arcsec)"
   ]
  },
  {
   "cell_type": "markdown",
   "metadata": {},
   "source": [
    "### Add SXDS"
   ]
  },
  {
   "cell_type": "code",
   "execution_count": 21,
   "metadata": {},
   "outputs": [
    {
     "name": "stdout",
     "output_type": "stream",
     "text": [
      "HELP Warning: There weren't any cross matches. The two surveys probably don't overlap.\n"
     ]
    }
   ],
   "source": [
    "nb_merge_dist_plot(\n",
    "    SkyCoord(master_catalogue['ra'], master_catalogue['dec']),\n",
    "    SkyCoord(sxds['sxds_ra'], sxds['sxds_dec'])\n",
    ")"
   ]
  },
  {
   "cell_type": "markdown",
   "metadata": {},
   "source": [
    "It is strange that this does not peak at zero. This is bservable in the original band cross match. It implies there is a persistent offset. Perhaps each band should be astrometrically corrected before the original merge."
   ]
  },
  {
   "cell_type": "code",
   "execution_count": 22,
   "metadata": {
    "collapsed": true
   },
   "outputs": [],
   "source": [
    "sxds['flag_merged'].name = 'flag_merged_sxds'"
   ]
  },
  {
   "cell_type": "code",
   "execution_count": 23,
   "metadata": {},
   "outputs": [
    {
     "name": "stderr",
     "output_type": "stream",
     "text": [
      "WARNING: MergeConflictWarning: Cannot merge meta key 'EXTNAME' types <class 'str'> and <class 'str'>, choosing EXTNAME='/Users/rs548/GitHub/dmu_products/dmu1/dmu1_ml_XMM-LSS/data_tmp/SX...' [astropy.utils.metadata]\n",
      "WARNING: MergeConflictWarning: Cannot merge meta key 'DATE-HDU' types <class 'str'> and <class 'str'>, choosing DATE-HDU='2017-10-26T17:47:19' [astropy.utils.metadata]\n",
      "WARNING: MergeConflictWarning: Cannot merge meta key 'EXTNAME' types <class 'str'> and <class 'str'>, choosing EXTNAME='/Users/rs548/GitHub/dmu_products/dmu1/dmu1_ml_XMM-LSS/data_tmp/SX...' [astropy.utils.metadata]\n",
      "WARNING: MergeConflictWarning: Cannot merge meta key 'DATE-HDU' types <class 'str'> and <class 'str'>, choosing DATE-HDU='2017-10-26T17:47:19' [astropy.utils.metadata]\n"
     ]
    }
   ],
   "source": [
    "# Given the graph above, we use 0.8 arc-second radius\n",
    "master_catalogue = merge_catalogues(master_catalogue, sxds, \"sxds_ra\", \"sxds_dec\", radius=0.8*u.arcsec)"
   ]
  },
  {
   "cell_type": "markdown",
   "metadata": {},
   "source": [
    "### Add DXS"
   ]
  },
  {
   "cell_type": "code",
   "execution_count": 24,
   "metadata": {},
   "outputs": [
    {
     "data": {
      "image/png": "[encoded data removed]",
      "text/plain": [
       "<matplotlib.figure.Figure at 0x10399f978>"
      ]
     },
     "metadata": {},
     "output_type": "display_data"
    }
   ],
   "source": [
    "nb_merge_dist_plot(\n",
    "    SkyCoord(master_catalogue['ra'], master_catalogue['dec']),\n",
    "    SkyCoord(dxs['dxs_ra'], dxs['dxs_dec'])\n",
    ")"
   ]
  },
  {
   "cell_type": "code",
   "execution_count": 25,
   "metadata": {},
   "outputs": [
    {
     "name": "stderr",
     "output_type": "stream",
     "text": [
      "WARNING: MergeConflictWarning: Cannot merge meta key 'EXTNAME' types <class 'str'> and <class 'str'>, choosing EXTNAME='/Users/rs548/GitHub/dmu_products/dmu1/dmu1_ml_XMM-LSS/data_tmp/UK...' [astropy.utils.metadata]\n",
      "WARNING: MergeConflictWarning: Cannot merge meta key 'DATE-HDU' types <class 'str'> and <class 'str'>, choosing DATE-HDU='2017-10-27T13:11:51' [astropy.utils.metadata]\n",
      "WARNING: MergeConflictWarning: Cannot merge meta key 'EXTNAME' types <class 'str'> and <class 'str'>, choosing EXTNAME='/Users/rs548/GitHub/dmu_products/dmu1/dmu1_ml_XMM-LSS/data_tmp/UK...' [astropy.utils.metadata]\n",
      "WARNING: MergeConflictWarning: Cannot merge meta key 'DATE-HDU' types <class 'str'> and <class 'str'>, choosing DATE-HDU='2017-10-27T13:11:51' [astropy.utils.metadata]\n"
     ]
    }
   ],
   "source": [
    "# Given the graph above, we use 0.8 arc-second radius\n",
    "master_catalogue = merge_catalogues(master_catalogue, dxs, \"dxs_ra\", \"dxs_dec\", radius=0.8*u.arcsec)"
   ]
  },
  {
   "cell_type": "markdown",
   "metadata": {},
   "source": [
    "### Add UDS"
   ]
  },
  {
   "cell_type": "code",
   "execution_count": 26,
   "metadata": {},
   "outputs": [
    {
     "data": {
      "image/png": "[encoded data removed]",
      "text/plain": [
       "<matplotlib.figure.Figure at 0x10f093f60>"
      ]
     },
     "metadata": {},
     "output_type": "display_data"
    }
   ],
   "source": [
    "nb_merge_dist_plot(\n",
    "    SkyCoord(master_catalogue['ra'], master_catalogue['dec']),\n",
    "    SkyCoord(uds['uds_ra'], uds['uds_dec'])\n",
    ")"
   ]
  },
  {
   "cell_type": "code",
   "execution_count": 27,
   "metadata": {},
   "outputs": [
    {
     "name": "stderr",
     "output_type": "stream",
     "text": [
      "WARNING: MergeConflictWarning: Cannot merge meta key 'DATE-HDU' types <class 'str'> and <class 'str'>, choosing DATE-HDU='2017-10-27T13:11:22' [astropy.utils.metadata]\n",
      "WARNING: MergeConflictWarning: Cannot merge meta key 'DATE-HDU' types <class 'str'> and <class 'str'>, choosing DATE-HDU='2017-10-27T13:11:22' [astropy.utils.metadata]\n"
     ]
    }
   ],
   "source": [
    "# Given the graph above, we use 0.8 arc-second radius\n",
    "master_catalogue = merge_catalogues(master_catalogue, uds, \"uds_ra\", \"uds_dec\", radius=0.8*u.arcsec)"
   ]
  },
  {
   "cell_type": "markdown",
   "metadata": {},
   "source": [
    "### Add VIPERS"
   ]
  },
  {
   "cell_type": "code",
   "execution_count": 28,
   "metadata": {},
   "outputs": [
    {
     "data": {
      "image/png": "[encoded data removed]",
      "text/plain": [
       "<matplotlib.figure.Figure at 0x10ee7ce48>"
      ]
     },
     "metadata": {},
     "output_type": "display_data"
    }
   ],
   "source": [
    "nb_merge_dist_plot(\n",
    "    SkyCoord(master_catalogue['ra'], master_catalogue['dec']),\n",
    "    SkyCoord(vipers['vipers_ra'], vipers['vipers_dec'])\n",
    ")"
   ]
  },
  {
   "cell_type": "code",
   "execution_count": 29,
   "metadata": {},
   "outputs": [
    {
     "name": "stderr",
     "output_type": "stream",
     "text": [
      "WARNING: MergeConflictWarning: Cannot merge meta key 'EXTNAME' types <class 'str'> and <class 'str'>, choosing EXTNAME='/Users/rs548/GitHub/dmu_products/dmu1/dmu1_ml_XMM-LSS/data_tmp/VI...' [astropy.utils.metadata]\n",
      "WARNING: MergeConflictWarning: Cannot merge meta key 'DATE-HDU' types <class 'str'> and <class 'str'>, choosing DATE-HDU='2017-11-01T10:29:26' [astropy.utils.metadata]\n",
      "WARNING: MergeConflictWarning: Cannot merge meta key 'EXTNAME' types <class 'str'> and <class 'str'>, choosing EXTNAME='/Users/rs548/GitHub/dmu_products/dmu1/dmu1_ml_XMM-LSS/data_tmp/VI...' [astropy.utils.metadata]\n",
      "WARNING: MergeConflictWarning: Cannot merge meta key 'DATE-HDU' types <class 'str'> and <class 'str'>, choosing DATE-HDU='2017-11-01T10:29:26' [astropy.utils.metadata]\n"
     ]
    }
   ],
   "source": [
    "# Given the graph above, we use 0.8 arc-second radius\n",
    "master_catalogue = merge_catalogues(master_catalogue, vipers, \"vipers_ra\", \"vipers_dec\", radius=0.8*u.arcsec)"
   ]
  },
  {
   "cell_type": "markdown",
   "metadata": {},
   "source": [
    "### Add VIDEO"
   ]
  },
  {
   "cell_type": "code",
   "execution_count": 30,
   "metadata": {},
   "outputs": [
    {
     "name": "stdout",
     "output_type": "stream",
     "text": [
      "HELP Warning: There weren't any cross matches. The two surveys probably don't overlap.\n"
     ]
    }
   ],
   "source": [
    "nb_merge_dist_plot(\n",
    "    SkyCoord(master_catalogue['ra'], master_catalogue['dec']),\n",
    "    SkyCoord(video['video_ra'], video['video_dec'])\n",
    ")"
   ]
  },
  {
   "cell_type": "code",
   "execution_count": 31,
   "metadata": {},
   "outputs": [
    {
     "name": "stderr",
     "output_type": "stream",
     "text": [
      "WARNING: MergeConflictWarning: Cannot merge meta key 'DATE-HDU' types <class 'str'> and <class 'str'>, choosing DATE-HDU='2017-10-26T17:48:54' [astropy.utils.metadata]\n",
      "WARNING: MergeConflictWarning: Cannot merge meta key 'DATE-HDU' types <class 'str'> and <class 'str'>, choosing DATE-HDU='2017-10-26T17:48:54' [astropy.utils.metadata]\n"
     ]
    }
   ],
   "source": [
    "# Given the graph above, we use 0.8 arc-second radius\n",
    "master_catalogue = merge_catalogues(master_catalogue, video, \"video_ra\", \"video_dec\", radius=0.8*u.arcsec)"
   ]
  },
  {
   "cell_type": "markdown",
   "metadata": {},
   "source": [
    "### Add VHS"
   ]
  },
  {
   "cell_type": "code",
   "execution_count": 32,
   "metadata": {},
   "outputs": [
    {
     "data": {
      "image/png": "[encoded data removed]",
      "text/plain": [
       "<matplotlib.figure.Figure at 0x11165eb70>"
      ]
     },
     "metadata": {},
     "output_type": "display_data"
    }
   ],
   "source": [
    "nb_merge_dist_plot(\n",
    "    SkyCoord(master_catalogue['ra'], master_catalogue['dec']),\n",
    "    SkyCoord(vhs['vhs_ra'], vhs['vhs_dec'])\n",
    ")"
   ]
  },
  {
   "cell_type": "code",
   "execution_count": 33,
   "metadata": {},
   "outputs": [
    {
     "name": "stderr",
     "output_type": "stream",
     "text": [
      "WARNING: MergeConflictWarning: Cannot merge meta key 'DATE-HDU' types <class 'str'> and <class 'str'>, choosing DATE-HDU='2017-10-27T11:29:07' [astropy.utils.metadata]\n",
      "WARNING: MergeConflictWarning: Cannot merge meta key 'DATE-HDU' types <class 'str'> and <class 'str'>, choosing DATE-HDU='2017-10-27T11:29:07' [astropy.utils.metadata]\n"
     ]
    }
   ],
   "source": [
    "# Given the graph above, we use 0.8 arc-second radius\n",
    "master_catalogue = merge_catalogues(master_catalogue, vhs, \"vhs_ra\", \"vhs_dec\", radius=0.8*u.arcsec)"
   ]
  },
  {
   "cell_type": "markdown",
   "metadata": {},
   "source": [
    "### Add VIKING"
   ]
  },
  {
   "cell_type": "code",
   "execution_count": 34,
   "metadata": {},
   "outputs": [
    {
     "data": {
      "image/png": "[encoded data removed]",
      "text/plain": [
       "<matplotlib.figure.Figure at 0x1116bc160>"
      ]
     },
     "metadata": {},
     "output_type": "display_data"
    }
   ],
   "source": [
    "nb_merge_dist_plot(\n",
    "    SkyCoord(master_catalogue['ra'], master_catalogue['dec']),\n",
    "    SkyCoord(viking['viking_ra'], viking['viking_dec'])\n",
    ")"
   ]
  },
  {
   "cell_type": "code",
   "execution_count": 35,
   "metadata": {},
   "outputs": [
    {
     "name": "stderr",
     "output_type": "stream",
     "text": [
      "WARNING: MergeConflictWarning: Cannot merge meta key 'DATE-HDU' types <class 'str'> and <class 'str'>, choosing DATE-HDU='2017-10-27T11:26:49' [astropy.utils.metadata]\n",
      "WARNING: MergeConflictWarning: Cannot merge meta key 'DATE-HDU' types <class 'str'> and <class 'str'>, choosing DATE-HDU='2017-10-27T11:26:49' [astropy.utils.metadata]\n"
     ]
    }
   ],
   "source": [
    "# Given the graph above, we use 0.8 arc-second radius\n",
    "master_catalogue = merge_catalogues(master_catalogue, viking, \"viking_ra\", \"viking_dec\", radius=0.8*u.arcsec)"
   ]
  },
  {
   "cell_type": "markdown",
   "metadata": {},
   "source": [
    "### Add SERVS"
   ]
  },
  {
   "cell_type": "code",
   "execution_count": 36,
   "metadata": {},
   "outputs": [
    {
     "data": {
      "image/png": "[encoded data removed]",
      "text/plain": [
       "<matplotlib.figure.Figure at 0x10ef9fb38>"
      ]
     },
     "metadata": {},
     "output_type": "display_data"
    }
   ],
   "source": [
    "nb_merge_dist_plot(\n",
    "    SkyCoord(master_catalogue['ra'], master_catalogue['dec']),\n",
    "    SkyCoord(servs['servs_ra'], servs['servs_dec'])\n",
    ")"
   ]
  },
  {
   "cell_type": "code",
   "execution_count": 37,
   "metadata": {
    "collapsed": true
   },
   "outputs": [],
   "source": [
    "# Given the graph above, we use 1 arc-second radius\n",
    "master_catalogue = merge_catalogues(master_catalogue, servs, \"servs_ra\", \"servs_dec\", radius=1.*u.arcsec)"
   ]
  },
  {
   "cell_type": "markdown",
   "metadata": {},
   "source": [
    "### Add SWIRE"
   ]
  },
  {
   "cell_type": "code",
   "execution_count": 38,
   "metadata": {},
   "outputs": [
    {
     "data": {
      "image/png": "[encoded data removed]",
      "text/plain": [
       "<matplotlib.figure.Figure at 0x11163be48>"
      ]
     },
     "metadata": {},
     "output_type": "display_data"
    }
   ],
   "source": [
    "nb_merge_dist_plot(\n",
    "    SkyCoord(master_catalogue['ra'], master_catalogue['dec']),\n",
    "    SkyCoord(swire['swire_ra'], swire['swire_dec'])\n",
    ")"
   ]
  },
  {
   "cell_type": "code",
   "execution_count": 39,
   "metadata": {
    "collapsed": true
   },
   "outputs": [],
   "source": [
    "# Given the graph above, we use 1 arc-second radius\n",
    "master_catalogue = merge_catalogues(master_catalogue, swire, \"swire_ra\", \"swire_dec\", radius=1.*u.arcsec)"
   ]
  },
  {
   "cell_type": "markdown",
   "metadata": {},
   "source": [
    "### Cleaning\n",
    "\n",
    "When we merge the catalogues, astropy masks the non-existent values (e.g. when a row comes only from a catalogue and has no counterparts in the other, the columns from the latest are masked for that row). We indicate to use NaN for masked values for floats columns, False for flag columns and -1 for ID columns."
   ]
  },
  {
   "cell_type": "code",
   "execution_count": 40,
   "metadata": {
    "collapsed": true
   },
   "outputs": [],
   "source": [
    "for col in master_catalogue.colnames:\n",
    "    if \"m_\" in col or \"merr_\" in col or \"f_\" in col or \"ferr_\" in col or \"stellarity\" in col:\n",
    "        master_catalogue[col] = master_catalogue[col].astype(float)\n",
    "        master_catalogue[col].fill_value = np.nan\n",
    "    elif \"flag\" in col:\n",
    "        master_catalogue[col].fill_value = 0\n",
    "    elif \"id\" in col:\n",
    "        master_catalogue[col].fill_value = -1\n",
    "        \n",
    "master_catalogue = master_catalogue.filled()"
   ]
  },
  {
   "cell_type": "code",
   "execution_count": 41,
   "metadata": {},
   "outputs": [
    {
     "data": {
      "text/html": [
       "&lt;Table length=10&gt;\n",
       "<table id=\"table4544912968-765259\" class=\"table-striped table-bordered table-condensed\">\n",
       "<thead><tr><th>idx</th><th>ps1_id</th><th>ra</th><th>dec</th><th>flag_merged</th><th>candels_id</th><th>candels_stellarity</th><th>wirds_intid</th><th>wirds_stellarity</th><th>flag_merged_wirds</th><th>cfhtls-wide_id</th><th>cfhtls-wide_stellarity</th><th>cfhtls-deep_id</th><th>cfhtls-deep_stellarity</th><th>hsc-wide_id</th><th>hsc-wide_stellarity</th><th>hsc-deep_id</th><th>hsc-deep_stellarity</th><th>hsc-udeep_id</th><th>hsc-udeep_stellarity</th><th>decals_id</th><th>sparcs_intid</th><th>sparcs_stellarity</th><th>sxds_b_id</th><th>flag_merged_sxds</th><th>dxs_id</th><th>dxs_stellarity</th><th>uds_id</th><th>uds_stellarity</th><th>vipers_id</th><th>video_id</th><th>video_stellarity</th><th>video_flag_gaia</th><th>vhs_id</th><th>vhs_stellarity</th><th>viking_id</th><th>viking_stellarity</th><th>viking_flag_gaia</th><th>servs_intid</th><th>swire_intid</th></tr></thead>\n",
       "<thead><tr><th></th><th></th><th>deg</th><th>deg</th><th></th><th></th><th></th><th></th><th></th><th></th><th></th><th></th><th></th><th></th><th></th><th></th><th></th><th></th><th></th><th></th><th></th><th></th><th></th><th></th><th></th><th></th><th></th><th></th><th></th><th></th><th></th><th></th><th></th><th></th><th></th><th></th><th></th><th></th><th></th><th></th></tr></thead>\n",
       "<tr><td>0</td><td>103040354349392544</td><td>35.4349721923</td><td>-4.13153415525</td><td>False</td><td>-1</td><td>nan</td><td>-1</td><td>nan</td><td>False</td><td>-1</td><td>nan</td><td>-1</td><td>nan</td><td>-1</td><td>nan</td><td>-1</td><td>nan</td><td>-1</td><td>nan</td><td>-1</td><td>-1</td><td>nan</td><td>-1</td><td>False</td><td>-1</td><td>nan</td><td>-1</td><td>nan</td><td>-1</td><td>-1</td><td>nan</td><td>0</td><td>-1</td><td>nan</td><td>-1</td><td>nan</td><td>0</td><td>-1</td><td>-1</td></tr>\n",
       "<tr><td>1</td><td>102780349050858385</td><td>34.9051226823</td><td>-4.34320021525</td><td>False</td><td>-1</td><td>nan</td><td>-1</td><td>nan</td><td>False</td><td>-1</td><td>nan</td><td>-1</td><td>nan</td><td>-1</td><td>nan</td><td>-1</td><td>nan</td><td>-1</td><td>nan</td><td>-1</td><td>-1</td><td>nan</td><td>-1</td><td>False</td><td>-1</td><td>nan</td><td>-1</td><td>nan</td><td>-1</td><td>-1</td><td>nan</td><td>0</td><td>-1</td><td>nan</td><td>-1</td><td>nan</td><td>0</td><td>-1</td><td>-1</td></tr>\n",
       "<tr><td>2</td><td>103140350761899669</td><td>35.0762068823</td><td>-4.04235938525</td><td>False</td><td>-1</td><td>nan</td><td>-1</td><td>nan</td><td>False</td><td>-1</td><td>nan</td><td>-1</td><td>nan</td><td>-1</td><td>nan</td><td>-1</td><td>nan</td><td>-1</td><td>nan</td><td>-1</td><td>-1</td><td>nan</td><td>-1</td><td>False</td><td>-1</td><td>nan</td><td>-1</td><td>nan</td><td>-1</td><td>-1</td><td>nan</td><td>0</td><td>-1</td><td>nan</td><td>-1</td><td>nan</td><td>0</td><td>-1</td><td>-1</td></tr>\n",
       "<tr><td>3</td><td>102900349018459901</td><td>34.9018332223</td><td>-4.24209351525</td><td>False</td><td>-1</td><td>nan</td><td>-1</td><td>nan</td><td>False</td><td>-1</td><td>nan</td><td>-1</td><td>nan</td><td>-1</td><td>nan</td><td>-1</td><td>nan</td><td>-1</td><td>nan</td><td>-1</td><td>-1</td><td>nan</td><td>-1</td><td>False</td><td>-1</td><td>nan</td><td>-1</td><td>nan</td><td>-1</td><td>-1</td><td>nan</td><td>0</td><td>-1</td><td>nan</td><td>-1</td><td>nan</td><td>0</td><td>-1</td><td>-1</td></tr>\n",
       "<tr><td>4</td><td>103160348848772693</td><td>34.8848419323</td><td>-4.03145872525</td><td>False</td><td>-1</td><td>nan</td><td>-1</td><td>nan</td><td>False</td><td>-1</td><td>nan</td><td>-1</td><td>nan</td><td>-1</td><td>nan</td><td>-1</td><td>nan</td><td>-1</td><td>nan</td><td>-1</td><td>-1</td><td>nan</td><td>-1</td><td>False</td><td>-1</td><td>nan</td><td>-1</td><td>nan</td><td>-1</td><td>-1</td><td>nan</td><td>0</td><td>-1</td><td>nan</td><td>-1</td><td>nan</td><td>0</td><td>-1</td><td>-1</td></tr>\n",
       "<tr><td>5</td><td>103140350759269559</td><td>35.0759661923</td><td>-4.04239428525</td><td>False</td><td>-1</td><td>nan</td><td>-1</td><td>nan</td><td>False</td><td>-1</td><td>nan</td><td>-1</td><td>nan</td><td>-1</td><td>nan</td><td>-1</td><td>nan</td><td>-1</td><td>nan</td><td>-1</td><td>-1</td><td>nan</td><td>-1</td><td>False</td><td>-1</td><td>nan</td><td>-1</td><td>nan</td><td>-1</td><td>-1</td><td>nan</td><td>0</td><td>-1</td><td>nan</td><td>-1</td><td>nan</td><td>0</td><td>-1</td><td>-1</td></tr>\n",
       "<tr><td>6</td><td>103090355560196593</td><td>35.5558866523</td><td>-4.08643243525</td><td>False</td><td>-1</td><td>nan</td><td>-1</td><td>nan</td><td>False</td><td>-1</td><td>nan</td><td>-1</td><td>nan</td><td>-1</td><td>nan</td><td>-1</td><td>nan</td><td>-1</td><td>nan</td><td>-1</td><td>-1</td><td>nan</td><td>-1</td><td>False</td><td>-1</td><td>nan</td><td>-1</td><td>nan</td><td>-1</td><td>-1</td><td>nan</td><td>0</td><td>-1</td><td>nan</td><td>-1</td><td>nan</td><td>0</td><td>-1</td><td>-1</td></tr>\n",
       "<tr><td>7</td><td>103210354713793274</td><td>35.4714062823</td><td>-3.98929835525</td><td>False</td><td>-1</td><td>nan</td><td>-1</td><td>nan</td><td>False</td><td>-1</td><td>nan</td><td>-1</td><td>nan</td><td>-1</td><td>nan</td><td>-1</td><td>nan</td><td>-1</td><td>nan</td><td>-1</td><td>-1</td><td>nan</td><td>-1</td><td>False</td><td>-1</td><td>nan</td><td>-1</td><td>nan</td><td>-1</td><td>-1</td><td>nan</td><td>0</td><td>-1</td><td>nan</td><td>-1</td><td>nan</td><td>0</td><td>-1</td><td>-1</td></tr>\n",
       "<tr><td>8</td><td>102540353459707198</td><td>35.3460365923</td><td>-4.54431680525</td><td>False</td><td>-1</td><td>nan</td><td>-1</td><td>nan</td><td>False</td><td>-1</td><td>nan</td><td>-1</td><td>nan</td><td>-1</td><td>nan</td><td>-1</td><td>nan</td><td>-1</td><td>nan</td><td>-1</td><td>-1</td><td>nan</td><td>-1</td><td>False</td><td>-1</td><td>nan</td><td>-1</td><td>nan</td><td>-1</td><td>-1</td><td>nan</td><td>0</td><td>-1</td><td>nan</td><td>-1</td><td>nan</td><td>0</td><td>-1</td><td>-1</td></tr>\n",
       "<tr><td>9</td><td>102780349048768164</td><td>34.9048964923</td><td>-4.34362877525</td><td>False</td><td>-1</td><td>nan</td><td>-1</td><td>nan</td><td>False</td><td>-1</td><td>nan</td><td>-1</td><td>nan</td><td>-1</td><td>nan</td><td>-1</td><td>nan</td><td>-1</td><td>nan</td><td>-1</td><td>-1</td><td>nan</td><td>-1</td><td>False</td><td>-1</td><td>nan</td><td>-1</td><td>nan</td><td>-1</td><td>-1</td><td>nan</td><td>0</td><td>-1</td><td>nan</td><td>-1</td><td>nan</td><td>0</td><td>-1</td><td>-1</td></tr>\n",
       "</table><style>table.dataTable {clear: both; width: auto !important; margin: 0 !important;}\n",
       ".dataTables_info, .dataTables_length, .dataTables_filter, .dataTables_paginate{\n",
       "display: inline-block; margin-right: 1em; }\n",
       ".paginate_button { margin-right: 5px; }\n",
       "</style>\n",
       "<script>\n",
       "\n",
       "var astropy_sort_num = function(a, b) {\n",
       "    var a_num = parseFloat(a);\n",
       "    var b_num = parseFloat(b);\n",
       "\n",
       "    if (isNaN(a_num) && isNaN(b_num))\n",
       "        return ((a < b) ? -1 : ((a > b) ? 1 : 0));\n",
       "    else if (!isNaN(a_num) && !isNaN(b_num))\n",
       "        return ((a_num < b_num) ? -1 : ((a_num > b_num) ? 1 : 0));\n",
       "    else\n",
       "        return isNaN(a_num) ? -1 : 1;\n",
       "}\n",
       "\n",
       "require.config({paths: {\n",
       "    datatables: 'https://cdn.datatables.net/1.10.12/js/jquery.dataTables.min'\n",
       "}});\n",
       "require([\"datatables\"], function(){\n",
       "    console.log(\"$('#table4544912968-765259').dataTable()\");\n",
       "    \n",
       "jQuery.extend( jQuery.fn.dataTableExt.oSort, {\n",
       "    \"optionalnum-asc\": astropy_sort_num,\n",
       "    \"optionalnum-desc\": function (a,b) { return -astropy_sort_num(a, b); }\n",
       "});\n",
       "\n",
       "    $('#table4544912968-765259').dataTable({\n",
       "        order: [],\n",
       "        pageLength: 50,\n",
       "        lengthMenu: [[10, 25, 50, 100, 500, 1000, -1], [10, 25, 50, 100, 500, 1000, 'All']],\n",
       "        pagingType: \"full_numbers\",\n",
       "        columnDefs: [{targets: [0, 1, 2, 3, 5, 6, 7, 8, 11, 13, 14, 15, 16, 17, 18, 19, 20, 21, 22, 25, 26, 27, 28, 29, 30, 31, 32, 33, 34, 35, 36, 37, 38, 39], type: \"optionalnum\"}]\n",
       "    });\n",
       "});\n",
       "</script>\n"
      ],
      "text/plain": [
       "<IPython.core.display.HTML object>"
      ]
     },
     "execution_count": 41,
     "metadata": {},
     "output_type": "execute_result"
    }
   ],
   "source": [
    "master_catalogue[:10].show_in_notebook()"
   ]
  },
  {
   "cell_type": "markdown",
   "metadata": {},
   "source": [
    "## III - Merging flags and stellarity\n",
    "\n",
    "Each pristine catalogue contains a flag indicating if the source was associated to a another nearby source that was removed during the cleaning process.  We merge these flags in a single one."
   ]
  },
  {
   "cell_type": "code",
   "execution_count": 42,
   "metadata": {
    "collapsed": true
   },
   "outputs": [],
   "source": [
    "flag_cleaned_columns = [column for column in master_catalogue.colnames\n",
    "                        if 'flag_cleaned' in column]\n",
    "\n",
    "flag_column = np.zeros(len(master_catalogue), dtype=bool)\n",
    "for column in flag_cleaned_columns:\n",
    "    flag_column |= master_catalogue[column]\n",
    "    \n",
    "master_catalogue.add_column(Column(data=flag_column, name=\"flag_cleaned\"))\n",
    "master_catalogue.remove_columns(flag_cleaned_columns)"
   ]
  },
  {
   "cell_type": "markdown",
   "metadata": {},
   "source": [
    "combining the flag_merged column which contains information regarding multiple associations"
   ]
  },
  {
   "cell_type": "code",
   "execution_count": 43,
   "metadata": {
    "collapsed": true
   },
   "outputs": [],
   "source": [
    "master_catalogue['flag_merged'].name = 'flag_merged_tmp'\n",
    "flag_merged_columns = [column for column in master_catalogue.colnames\n",
    "                        if 'flag_merged' in column]\n",
    "\n",
    "flag_merged_column = np.zeros(len(master_catalogue), dtype=bool)\n",
    "for column in flag_merged_columns:\n",
    "    flag_merged_column |= master_catalogue[column]\n",
    "    \n",
    "master_catalogue.add_column(Column(data=flag_merged_column, name=\"flag_merged\"))\n",
    "master_catalogue.remove_columns(flag_merged_columns)"
   ]
  },
  {
   "cell_type": "markdown",
   "metadata": {},
   "source": [
    "Each pristine catalogue contains a flag indicating the probability of a source being a Gaia object (0: not a Gaia object, 1: possibly, 2: probably, 3: definitely).  We merge these flags taking the highest value."
   ]
  },
  {
   "cell_type": "code",
   "execution_count": 44,
   "metadata": {
    "collapsed": true
   },
   "outputs": [],
   "source": [
    "flag_gaia_columns = [column for column in master_catalogue.colnames\n",
    "                     if 'flag_gaia' in column]\n",
    "\n",
    "master_catalogue.add_column(Column(\n",
    "    data=np.max([master_catalogue[column] for column in flag_gaia_columns], axis=0),\n",
    "    name=\"flag_gaia\"\n",
    "))\n",
    "master_catalogue.remove_columns(flag_gaia_columns)"
   ]
  },
  {
   "cell_type": "markdown",
   "metadata": {},
   "source": [
    "Each prisitine catalogue may contain one or several stellarity columns indicating the probability (0 to 1) of each source being a star.  We merge these columns taking the highest value. We keep trace of the origin of the stellarity."
   ]
  },
  {
   "cell_type": "code",
   "execution_count": 45,
   "metadata": {},
   "outputs": [
    {
     "name": "stdout",
     "output_type": "stream",
     "text": [
      "candels_stellarity, wirds_stellarity, cfhtls-wide_stellarity, cfhtls-deep_stellarity, hsc-wide_stellarity, hsc-deep_stellarity, hsc-udeep_stellarity, sparcs_stellarity, dxs_stellarity, uds_stellarity, video_stellarity, vhs_stellarity, viking_stellarity\n"
     ]
    }
   ],
   "source": [
    "stellarity_columns = [column for column in master_catalogue.colnames\n",
    "                      if 'stellarity' in column]\n",
    "\n",
    "print(\", \".join(stellarity_columns))"
   ]
  },
  {
   "cell_type": "code",
   "execution_count": 46,
   "metadata": {
    "collapsed": true
   },
   "outputs": [],
   "source": [
    "\n",
    "# We create an masked array with all the stellarities and get the maximum value, as well as its\n",
    "# origin.  Some sources may not have an associated stellarity.\n",
    "stellarity_array = np.array([master_catalogue[column] for column in stellarity_columns])\n",
    "stellarity_array = np.ma.masked_array(stellarity_array, np.isnan(stellarity_array))\n",
    "\n",
    "max_stellarity = np.max(stellarity_array, axis=0)\n",
    "max_stellarity.fill_value = np.nan\n",
    "\n",
    "no_stellarity_mask = max_stellarity.mask\n",
    "\n",
    "master_catalogue.add_column(Column(data=max_stellarity.filled(), name=\"stellarity\"))\n",
    "\n",
    "stellarity_origin = np.full(len(master_catalogue), \"NO_INFORMATION\", dtype=\"S20\")\n",
    "stellarity_origin[~no_stellarity_mask] = np.array(stellarity_columns)[np.argmax(stellarity_array, axis=0)[~no_stellarity_mask]]\n",
    "\n",
    "master_catalogue.add_column(Column(data=stellarity_origin, name=\"stellarity_origin\"))\n",
    "\n",
    "master_catalogue.remove_columns(stellarity_columns)"
   ]
  },
  {
   "cell_type": "markdown",
   "metadata": {},
   "source": [
    "## IV - Adding E(B-V) column"
   ]
  },
  {
   "cell_type": "code",
   "execution_count": 47,
   "metadata": {
    "collapsed": true
   },
   "outputs": [],
   "source": [
    "master_catalogue.add_column(\n",
    "    ebv(master_catalogue['ra'], master_catalogue['dec'])\n",
    ")"
   ]
  },
  {
   "cell_type": "markdown",
   "metadata": {},
   "source": [
    "## V - Adding HELP unique identifiers and field columns"
   ]
  },
  {
   "cell_type": "code",
   "execution_count": 48,
   "metadata": {
    "collapsed": true
   },
   "outputs": [],
   "source": [
    "master_catalogue.add_column(Column(gen_help_id(master_catalogue['ra'], master_catalogue['dec']),\n",
    "                                   name=\"help_id\"))\n",
    "master_catalogue.add_column(Column(np.full(len(master_catalogue), \"XMM-LSS\", dtype='<U18'),\n",
    "                                   name=\"field\"))"
   ]
  },
  {
   "cell_type": "code",
   "execution_count": 49,
   "metadata": {},
   "outputs": [
    {
     "name": "stdout",
     "output_type": "stream",
     "text": [
      "OK!\n"
     ]
    }
   ],
   "source": [
    "# Check that the HELP Ids are unique\n",
    "if len(master_catalogue) != len(np.unique(master_catalogue['help_id'])):\n",
    "    print(\"The HELP IDs are not unique!!!\")\n",
    "else:\n",
    "    print(\"OK!\")"
   ]
  },
  {
   "cell_type": "markdown",
   "metadata": {},
   "source": [
    "## VI - Cross-matching with spec-z catalogue"
   ]
  },
  {
   "cell_type": "code",
   "execution_count": 50,
   "metadata": {
    "collapsed": true
   },
   "outputs": [],
   "source": [
    "specz =  Table.read(\"../../dmu23/dmu23_XMM-LSS/data/XMM-LSS-specz-v2.8.fits\")"
   ]
  },
  {
   "cell_type": "code",
   "execution_count": 51,
   "metadata": {
    "collapsed": true
   },
   "outputs": [],
   "source": [
    "specz['objid'].name = 'specz_id'"
   ]
  },
  {
   "cell_type": "code",
   "execution_count": 52,
   "metadata": {},
   "outputs": [
    {
     "data": {
      "image/png": "[encoded data removed]",
      "text/plain": [
       "<matplotlib.figure.Figure at 0x13a632e48>"
      ]
     },
     "metadata": {},
     "output_type": "display_data"
    }
   ],
   "source": [
    "nb_merge_dist_plot(\n",
    "    SkyCoord(master_catalogue['ra'], master_catalogue['dec']),\n",
    "    SkyCoord(specz['ra'] * u.deg, specz['dec'] * u.deg)\n",
    ")"
   ]
  },
  {
   "cell_type": "code",
   "execution_count": 53,
   "metadata": {
    "collapsed": true
   },
   "outputs": [],
   "source": [
    "master_catalogue = specz_merge(master_catalogue, specz, radius=1. * u.arcsec)"
   ]
  },
  {
   "cell_type": "markdown",
   "metadata": {},
   "source": [
    "## VII - Choosing between multiple values for the same filter\n",
    "\n"
   ]
  },
  {
   "cell_type": "markdown",
   "metadata": {},
   "source": [
    "### VII.a SERVS and SWIRE IRAC fluxes\n",
    "\n",
    "Both SERVS and SWIRE provide IRAC1 and IRAC2 fluxes. SERVS is deeper but tends to under-estimate flux of bright sources (Mattia said over 2000 µJy) as illustrated by this comparison of SWIRE, SERVS, and Spitzer-EIP fluxes."
   ]
  },
  {
   "cell_type": "code",
   "execution_count": 54,
   "metadata": {},
   "outputs": [
    {
     "data": {
      "text/plain": [
       "'seip = Table.read(\"../../dmu0/dmu0_SEIP/data/SEIP_XMM-LSS.fits\")\\nseip_coords = SkyCoord(seip[\\'ra\\'], seip[\\'dec\\'])\\nidx, d2d, _ = seip_coords.match_to_catalog_sky(SkyCoord(master_catalogue[\\'ra\\'], master_catalogue[\\'dec\\']))\\nmask = d2d <= 2 * u.arcsec'"
      ]
     },
     "execution_count": 54,
     "metadata": {},
     "output_type": "execute_result"
    }
   ],
   "source": [
    "\"\"\"seip = Table.read(\"../../dmu0/dmu0_SEIP/data/SEIP_XMM-LSS.fits\")\n",
    "seip_coords = SkyCoord(seip['ra'], seip['dec'])\n",
    "idx, d2d, _ = seip_coords.match_to_catalog_sky(SkyCoord(master_catalogue['ra'], master_catalogue['dec']))\n",
    "mask = d2d <= 2 * u.arcsec\"\"\""
   ]
  },
  {
   "cell_type": "code",
   "execution_count": 55,
   "metadata": {},
   "outputs": [
    {
     "data": {
      "text/plain": [
       "'fig, ax = plt.subplots()\\nax.scatter(seip[\\'i1_f_ap1\\'][mask], master_catalogue[idx[mask]][\\'f_ap_servs_irac_i1\\'], label=\"SERVS\", s=2.)\\nax.scatter(seip[\\'i1_f_ap1\\'][mask], master_catalogue[idx[mask]][\\'f_ap_swire_irac_i1\\'], label=\"SWIRE\", s=2.)\\nax.set_xscale(\\'log\\')\\nax.set_yscale(\\'log\\')\\nax.set_xlabel(\"SEIP flux [μJy]\")\\nax.set_ylabel(\"SERVS/SWIRE flux [μJy]\")\\nax.set_title(\"IRAC 1\")\\nax.legend()\\nax.axvline(2000, color=\"black\", linestyle=\"--\", linewidth=1.)\\nax.plot(seip[\\'i1_f_ap1\\'][mask], seip[\\'i1_f_ap1\\'][mask], linewidth=.1, color=\"black\", alpha=.5);'"
      ]
     },
     "execution_count": 55,
     "metadata": {},
     "output_type": "execute_result"
    }
   ],
   "source": [
    "\"\"\"fig, ax = plt.subplots()\n",
    "ax.scatter(seip['i1_f_ap1'][mask], master_catalogue[idx[mask]]['f_ap_servs_irac_i1'], label=\"SERVS\", s=2.)\n",
    "ax.scatter(seip['i1_f_ap1'][mask], master_catalogue[idx[mask]]['f_ap_swire_irac_i1'], label=\"SWIRE\", s=2.)\n",
    "ax.set_xscale('log')\n",
    "ax.set_yscale('log')\n",
    "ax.set_xlabel(\"SEIP flux [μJy]\")\n",
    "ax.set_ylabel(\"SERVS/SWIRE flux [μJy]\")\n",
    "ax.set_title(\"IRAC 1\")\n",
    "ax.legend()\n",
    "ax.axvline(2000, color=\"black\", linestyle=\"--\", linewidth=1.)\n",
    "ax.plot(seip['i1_f_ap1'][mask], seip['i1_f_ap1'][mask], linewidth=.1, color=\"black\", alpha=.5);\"\"\""
   ]
  },
  {
   "cell_type": "code",
   "execution_count": 56,
   "metadata": {},
   "outputs": [
    {
     "data": {
      "text/plain": [
       "'fig, ax = plt.subplots()\\nax.scatter(seip[\\'i2_f_ap1\\'][mask], master_catalogue[idx[mask]][\\'f_ap_servs_irac_i2\\'], label=\"SERVS\", s=2.)\\nax.scatter(seip[\\'i2_f_ap1\\'][mask], master_catalogue[idx[mask]][\\'f_ap_swire_irac_i2\\'], label=\"SWIRE\", s=2.)\\nax.set_xscale(\\'log\\')\\nax.set_yscale(\\'log\\')\\nax.set_xlabel(\"SEIP flux [μJy]\")\\nax.set_ylabel(\"SERVS/SWIRE flux [μJy]\")\\nax.set_title(\"IRAC 2\")\\nax.legend()\\nax.axvline(2000, color=\"black\", linestyle=\"--\", linewidth=1.)\\n\\nax.plot(seip[\\'i1_f_ap2\\'][mask], seip[\\'i1_f_ap2\\'][mask], linewidth=.1, color=\"black\", alpha=.5);'"
      ]
     },
     "execution_count": 56,
     "metadata": {},
     "output_type": "execute_result"
    }
   ],
   "source": [
    "\"\"\"fig, ax = plt.subplots()\n",
    "ax.scatter(seip['i2_f_ap1'][mask], master_catalogue[idx[mask]]['f_ap_servs_irac_i2'], label=\"SERVS\", s=2.)\n",
    "ax.scatter(seip['i2_f_ap1'][mask], master_catalogue[idx[mask]]['f_ap_swire_irac_i2'], label=\"SWIRE\", s=2.)\n",
    "ax.set_xscale('log')\n",
    "ax.set_yscale('log')\n",
    "ax.set_xlabel(\"SEIP flux [μJy]\")\n",
    "ax.set_ylabel(\"SERVS/SWIRE flux [μJy]\")\n",
    "ax.set_title(\"IRAC 2\")\n",
    "ax.legend()\n",
    "ax.axvline(2000, color=\"black\", linestyle=\"--\", linewidth=1.)\n",
    "\n",
    "ax.plot(seip['i1_f_ap2'][mask], seip['i1_f_ap2'][mask], linewidth=.1, color=\"black\", alpha=.5);\"\"\""
   ]
  },
  {
   "cell_type": "markdown",
   "metadata": {},
   "source": [
    "When both SWIRE and SERVS fluxes are provided, we use the SERVS flux below 2000 μJy and the SWIRE flux over.\n",
    "\n",
    "We create a table indicating for each source the origin on the IRAC1 and IRAC2 fluxes that will be saved separately."
   ]
  },
  {
   "cell_type": "code",
   "execution_count": 57,
   "metadata": {},
   "outputs": [
    {
     "data": {
      "text/plain": [
       "\"irac_origin = Table()\\nirac_origin.add_column(master_catalogue['help_id'])\""
      ]
     },
     "execution_count": 57,
     "metadata": {},
     "output_type": "execute_result"
    }
   ],
   "source": [
    "\"\"\"irac_origin = Table()\n",
    "irac_origin.add_column(master_catalogue['help_id'])\"\"\""
   ]
  },
  {
   "cell_type": "code",
   "execution_count": 58,
   "metadata": {},
   "outputs": [
    {
     "data": {
      "text/plain": [
       "'# IRAC1 aperture flux and magnitudes\\nhas_servs = ~np.isnan(master_catalogue[\\'f_ap_servs_irac_i1\\'])\\nhas_swire = ~np.isnan(master_catalogue[\\'f_ap_swire_irac_i1\\'])\\nhas_both = has_servs & has_swire\\n\\nprint(\"{} sources with SERVS flux\".format(np.sum(has_servs)))\\nprint(\"{} sources with SWIRE flux\".format(np.sum(has_swire)))\\nprint(\"{} sources with SERVS and SWIRE flux\".format(np.sum(has_both)))\\n\\nhas_servs_above_limit = has_servs.copy()\\nhas_servs_above_limit[has_servs] = master_catalogue[\\'f_ap_servs_irac_i1\\'][has_servs] > 2000\\n\\nuse_swire = (has_swire & ~has_servs) | (has_both & has_servs_above_limit)\\nuse_servs = (has_servs & ~(has_both & has_servs_above_limit))\\n\\nprint(\"{} sources for which we use SERVS\".format(np.sum(use_servs)))\\nprint(\"{} sources for which we use SWIRE\".format(np.sum(use_swire)))\\n\\nf_ap_irac_i = np.full(len(master_catalogue), np.nan)\\nf_ap_irac_i[use_servs] = master_catalogue[\\'f_ap_servs_irac_i1\\'][use_servs]\\nf_ap_irac_i[use_swire] = master_catalogue[\\'f_ap_swire_irac_i1\\'][use_swire]\\n\\nferr_ap_irac_i = np.full(len(master_catalogue), np.nan)\\nferr_ap_irac_i[use_servs] = master_catalogue[\\'ferr_ap_servs_irac_i1\\'][use_servs]\\nferr_ap_irac_i[use_swire] = master_catalogue[\\'ferr_ap_swire_irac_i1\\'][use_swire]\\n\\nm_ap_irac_i = np.full(len(master_catalogue), np.nan)\\nm_ap_irac_i[use_servs] = master_catalogue[\\'m_ap_servs_irac_i1\\'][use_servs]\\nm_ap_irac_i[use_swire] = master_catalogue[\\'m_ap_swire_irac_i1\\'][use_swire]\\n\\nmerr_ap_irac_i = np.full(len(master_catalogue), np.nan)\\nmerr_ap_irac_i[use_servs] = master_catalogue[\\'merr_ap_servs_irac_i1\\'][use_servs]\\nmerr_ap_irac_i[use_swire] = master_catalogue[\\'merr_ap_swire_irac_i1\\'][use_swire]\\n\\nmaster_catalogue.add_column(Column(data=f_ap_irac_i, name=\"f_ap_irac_i1\"))\\nmaster_catalogue.add_column(Column(data=ferr_ap_irac_i, name=\"ferr_ap_irac_i1\"))\\nmaster_catalogue.add_column(Column(data=m_ap_irac_i, name=\"m_ap_irac_i1\"))\\nmaster_catalogue.add_column(Column(data=merr_ap_irac_i, name=\"merr_ap_irac_i1\"))\\n\\nmaster_catalogue.remove_columns([\\'f_ap_servs_irac_i1\\', \\'f_ap_swire_irac_i1\\', \\'ferr_ap_servs_irac_i1\\',\\n                                     \\'ferr_ap_swire_irac_i1\\', \\'m_ap_servs_irac_i1\\', \\'m_ap_swire_irac_i1\\',\\n                                     \\'merr_ap_servs_irac_i1\\', \\'merr_ap_swire_irac_i1\\'])\\n\\norigin = np.full(len(master_catalogue), \\'     \\', dtype=\\'<U5\\')\\norigin[use_servs] = \"SERVS\"\\norigin[use_swire] = \"SWIRE\"\\nirac_origin.add_column(Column(data=origin, name=\"IRAC1_app\"))'"
      ]
     },
     "execution_count": 58,
     "metadata": {},
     "output_type": "execute_result"
    }
   ],
   "source": [
    "\"\"\"# IRAC1 aperture flux and magnitudes\n",
    "has_servs = ~np.isnan(master_catalogue['f_ap_servs_irac_i1'])\n",
    "has_swire = ~np.isnan(master_catalogue['f_ap_swire_irac_i1'])\n",
    "has_both = has_servs & has_swire\n",
    "\n",
    "print(\"{} sources with SERVS flux\".format(np.sum(has_servs)))\n",
    "print(\"{} sources with SWIRE flux\".format(np.sum(has_swire)))\n",
    "print(\"{} sources with SERVS and SWIRE flux\".format(np.sum(has_both)))\n",
    "\n",
    "has_servs_above_limit = has_servs.copy()\n",
    "has_servs_above_limit[has_servs] = master_catalogue['f_ap_servs_irac_i1'][has_servs] > 2000\n",
    "\n",
    "use_swire = (has_swire & ~has_servs) | (has_both & has_servs_above_limit)\n",
    "use_servs = (has_servs & ~(has_both & has_servs_above_limit))\n",
    "\n",
    "print(\"{} sources for which we use SERVS\".format(np.sum(use_servs)))\n",
    "print(\"{} sources for which we use SWIRE\".format(np.sum(use_swire)))\n",
    "\n",
    "f_ap_irac_i = np.full(len(master_catalogue), np.nan)\n",
    "f_ap_irac_i[use_servs] = master_catalogue['f_ap_servs_irac_i1'][use_servs]\n",
    "f_ap_irac_i[use_swire] = master_catalogue['f_ap_swire_irac_i1'][use_swire]\n",
    "\n",
    "ferr_ap_irac_i = np.full(len(master_catalogue), np.nan)\n",
    "ferr_ap_irac_i[use_servs] = master_catalogue['ferr_ap_servs_irac_i1'][use_servs]\n",
    "ferr_ap_irac_i[use_swire] = master_catalogue['ferr_ap_swire_irac_i1'][use_swire]\n",
    "\n",
    "m_ap_irac_i = np.full(len(master_catalogue), np.nan)\n",
    "m_ap_irac_i[use_servs] = master_catalogue['m_ap_servs_irac_i1'][use_servs]\n",
    "m_ap_irac_i[use_swire] = master_catalogue['m_ap_swire_irac_i1'][use_swire]\n",
    "\n",
    "merr_ap_irac_i = np.full(len(master_catalogue), np.nan)\n",
    "merr_ap_irac_i[use_servs] = master_catalogue['merr_ap_servs_irac_i1'][use_servs]\n",
    "merr_ap_irac_i[use_swire] = master_catalogue['merr_ap_swire_irac_i1'][use_swire]\n",
    "\n",
    "master_catalogue.add_column(Column(data=f_ap_irac_i, name=\"f_ap_irac_i1\"))\n",
    "master_catalogue.add_column(Column(data=ferr_ap_irac_i, name=\"ferr_ap_irac_i1\"))\n",
    "master_catalogue.add_column(Column(data=m_ap_irac_i, name=\"m_ap_irac_i1\"))\n",
    "master_catalogue.add_column(Column(data=merr_ap_irac_i, name=\"merr_ap_irac_i1\"))\n",
    "\n",
    "master_catalogue.remove_columns(['f_ap_servs_irac_i1', 'f_ap_swire_irac_i1', 'ferr_ap_servs_irac_i1',\n",
    "                                     'ferr_ap_swire_irac_i1', 'm_ap_servs_irac_i1', 'm_ap_swire_irac_i1',\n",
    "                                     'merr_ap_servs_irac_i1', 'merr_ap_swire_irac_i1'])\n",
    "\n",
    "origin = np.full(len(master_catalogue), '     ', dtype='<U5')\n",
    "origin[use_servs] = \"SERVS\"\n",
    "origin[use_swire] = \"SWIRE\"\n",
    "irac_origin.add_column(Column(data=origin, name=\"IRAC1_app\"))\"\"\""
   ]
  },
  {
   "cell_type": "code",
   "execution_count": 59,
   "metadata": {},
   "outputs": [
    {
     "data": {
      "text/plain": [
       "'# IRAC1 total flux and magnitudes\\nhas_servs = ~np.isnan(master_catalogue[\\'f_servs_irac_i1\\'])\\nhas_swire = ~np.isnan(master_catalogue[\\'f_swire_irac_i1\\'])\\nhas_both = has_servs & has_swire\\n\\nprint(\"{} sources with SERVS flux\".format(np.sum(has_servs)))\\nprint(\"{} sources with SWIRE flux\".format(np.sum(has_swire)))\\nprint(\"{} sources with SERVS and SWIRE flux\".format(np.sum(has_both)))\\n\\nhas_servs_above_limit = has_servs.copy()\\nhas_servs_above_limit[has_servs] = master_catalogue[\\'f_servs_irac_i1\\'][has_servs] > 2000\\n\\nuse_swire = (has_swire & ~has_servs) | (has_both & has_servs_above_limit)\\nuse_servs = (has_servs & ~(has_both & has_servs_above_limit))\\n\\nprint(\"{} sources for which we use SERVS\".format(np.sum(use_servs)))\\nprint(\"{} sources for which we use SWIRE\".format(np.sum(use_swire)))\\n\\nf_ap_irac_i = np.full(len(master_catalogue), np.nan)\\nf_ap_irac_i[use_servs] = master_catalogue[\\'f_servs_irac_i1\\'][use_servs]\\nf_ap_irac_i[use_swire] = master_catalogue[\\'f_swire_irac_i1\\'][use_swire]\\n\\nferr_ap_irac_i = np.full(len(master_catalogue), np.nan)\\nferr_ap_irac_i[use_servs] = master_catalogue[\\'ferr_servs_irac_i1\\'][use_servs]\\nferr_ap_irac_i[use_swire] = master_catalogue[\\'ferr_swire_irac_i1\\'][use_swire]\\n\\nflag_irac_i = np.full(len(master_catalogue), False, dtype=bool)\\nflag_irac_i[use_servs] = master_catalogue[\\'flag_servs_irac_i1\\'][use_servs]\\nflag_irac_i[use_swire] = master_catalogue[\\'flag_swire_irac_i1\\'][use_swire]\\n\\nm_ap_irac_i = np.full(len(master_catalogue), np.nan)\\nm_ap_irac_i[use_servs] = master_catalogue[\\'m_servs_irac_i1\\'][use_servs]\\nm_ap_irac_i[use_swire] = master_catalogue[\\'m_swire_irac_i1\\'][use_swire]\\n\\nmerr_ap_irac_i = np.full(len(master_catalogue), np.nan)\\nmerr_ap_irac_i[use_servs] = master_catalogue[\\'merr_servs_irac_i1\\'][use_servs]\\nmerr_ap_irac_i[use_swire] = master_catalogue[\\'merr_swire_irac_i1\\'][use_swire]\\n\\nmaster_catalogue.add_column(Column(data=f_ap_irac_i, name=\"f_irac_i1\"))\\nmaster_catalogue.add_column(Column(data=ferr_ap_irac_i, name=\"ferr_irac_i1\"))\\nmaster_catalogue.add_column(Column(data=m_ap_irac_i, name=\"m_irac_i1\"))\\nmaster_catalogue.add_column(Column(data=merr_ap_irac_i, name=\"merr_irac_i1\"))\\nmaster_catalogue.add_column(Column(data=flag_irac_i, name=\"flag_irac_i1\"))\\n\\nmaster_catalogue.remove_columns([\\'f_servs_irac_i1\\', \\'f_swire_irac_i1\\', \\'ferr_servs_irac_i1\\',\\n                                 \\'ferr_swire_irac_i1\\', \\'m_servs_irac_i1\\', \\'flag_servs_irac_i1\\', \\'m_swire_irac_i1\\',\\n                                 \\'merr_servs_irac_i1\\', \\'merr_swire_irac_i1\\', \\'flag_swire_irac_i1\\'])\\n\\norigin = np.full(len(master_catalogue), \\'     \\', dtype=\\'<U5\\')\\norigin[use_servs] = \"SERVS\"\\norigin[use_swire] = \"SWIRE\"\\nirac_origin.add_column(Column(data=origin, name=\"IRAC1_total\"))'"
      ]
     },
     "execution_count": 59,
     "metadata": {},
     "output_type": "execute_result"
    }
   ],
   "source": [
    "\"\"\"# IRAC1 total flux and magnitudes\n",
    "has_servs = ~np.isnan(master_catalogue['f_servs_irac_i1'])\n",
    "has_swire = ~np.isnan(master_catalogue['f_swire_irac_i1'])\n",
    "has_both = has_servs & has_swire\n",
    "\n",
    "print(\"{} sources with SERVS flux\".format(np.sum(has_servs)))\n",
    "print(\"{} sources with SWIRE flux\".format(np.sum(has_swire)))\n",
    "print(\"{} sources with SERVS and SWIRE flux\".format(np.sum(has_both)))\n",
    "\n",
    "has_servs_above_limit = has_servs.copy()\n",
    "has_servs_above_limit[has_servs] = master_catalogue['f_servs_irac_i1'][has_servs] > 2000\n",
    "\n",
    "use_swire = (has_swire & ~has_servs) | (has_both & has_servs_above_limit)\n",
    "use_servs = (has_servs & ~(has_both & has_servs_above_limit))\n",
    "\n",
    "print(\"{} sources for which we use SERVS\".format(np.sum(use_servs)))\n",
    "print(\"{} sources for which we use SWIRE\".format(np.sum(use_swire)))\n",
    "\n",
    "f_ap_irac_i = np.full(len(master_catalogue), np.nan)\n",
    "f_ap_irac_i[use_servs] = master_catalogue['f_servs_irac_i1'][use_servs]\n",
    "f_ap_irac_i[use_swire] = master_catalogue['f_swire_irac_i1'][use_swire]\n",
    "\n",
    "ferr_ap_irac_i = np.full(len(master_catalogue), np.nan)\n",
    "ferr_ap_irac_i[use_servs] = master_catalogue['ferr_servs_irac_i1'][use_servs]\n",
    "ferr_ap_irac_i[use_swire] = master_catalogue['ferr_swire_irac_i1'][use_swire]\n",
    "\n",
    "flag_irac_i = np.full(len(master_catalogue), False, dtype=bool)\n",
    "flag_irac_i[use_servs] = master_catalogue['flag_servs_irac_i1'][use_servs]\n",
    "flag_irac_i[use_swire] = master_catalogue['flag_swire_irac_i1'][use_swire]\n",
    "\n",
    "m_ap_irac_i = np.full(len(master_catalogue), np.nan)\n",
    "m_ap_irac_i[use_servs] = master_catalogue['m_servs_irac_i1'][use_servs]\n",
    "m_ap_irac_i[use_swire] = master_catalogue['m_swire_irac_i1'][use_swire]\n",
    "\n",
    "merr_ap_irac_i = np.full(len(master_catalogue), np.nan)\n",
    "merr_ap_irac_i[use_servs] = master_catalogue['merr_servs_irac_i1'][use_servs]\n",
    "merr_ap_irac_i[use_swire] = master_catalogue['merr_swire_irac_i1'][use_swire]\n",
    "\n",
    "master_catalogue.add_column(Column(data=f_ap_irac_i, name=\"f_irac_i1\"))\n",
    "master_catalogue.add_column(Column(data=ferr_ap_irac_i, name=\"ferr_irac_i1\"))\n",
    "master_catalogue.add_column(Column(data=m_ap_irac_i, name=\"m_irac_i1\"))\n",
    "master_catalogue.add_column(Column(data=merr_ap_irac_i, name=\"merr_irac_i1\"))\n",
    "master_catalogue.add_column(Column(data=flag_irac_i, name=\"flag_irac_i1\"))\n",
    "\n",
    "master_catalogue.remove_columns(['f_servs_irac_i1', 'f_swire_irac_i1', 'ferr_servs_irac_i1',\n",
    "                                 'ferr_swire_irac_i1', 'm_servs_irac_i1', 'flag_servs_irac_i1', 'm_swire_irac_i1',\n",
    "                                 'merr_servs_irac_i1', 'merr_swire_irac_i1', 'flag_swire_irac_i1'])\n",
    "\n",
    "origin = np.full(len(master_catalogue), '     ', dtype='<U5')\n",
    "origin[use_servs] = \"SERVS\"\n",
    "origin[use_swire] = \"SWIRE\"\n",
    "irac_origin.add_column(Column(data=origin, name=\"IRAC1_total\"))\"\"\""
   ]
  },
  {
   "cell_type": "code",
   "execution_count": 60,
   "metadata": {},
   "outputs": [
    {
     "data": {
      "text/plain": [
       "'# IRAC2 aperture flux and magnitudes\\nhas_servs = ~np.isnan(master_catalogue[\\'f_ap_servs_irac_i2\\'])\\nhas_swire = ~np.isnan(master_catalogue[\\'f_ap_swire_irac_i2\\'])\\nhas_both = has_servs & has_swire\\n\\nprint(\"{} sources with SERVS flux\".format(np.sum(has_servs)))\\nprint(\"{} sources with SWIRE flux\".format(np.sum(has_swire)))\\nprint(\"{} sources with SERVS and SWIRE flux\".format(np.sum(has_both)))\\n\\nhas_servs_above_limit = has_servs.copy()\\nhas_servs_above_limit[has_servs] = master_catalogue[\\'f_ap_servs_irac_i2\\'][has_servs] > 2000\\n\\nuse_swire = (has_swire & ~has_servs) | (has_both & has_servs_above_limit)\\nuse_servs = (has_servs & ~(has_both & has_servs_above_limit))\\n\\nprint(\"{} sources for which we use SERVS\".format(np.sum(use_servs)))\\nprint(\"{} sources for which we use SWIRE\".format(np.sum(use_swire)))\\n\\nf_ap_irac_i = np.full(len(master_catalogue), np.nan)\\nf_ap_irac_i[use_servs] = master_catalogue[\\'f_ap_servs_irac_i2\\'][use_servs]\\nf_ap_irac_i[use_swire] = master_catalogue[\\'f_ap_swire_irac_i2\\'][use_swire]\\n\\nferr_ap_irac_i = np.full(len(master_catalogue), np.nan)\\nferr_ap_irac_i[use_servs] = master_catalogue[\\'ferr_ap_servs_irac_i2\\'][use_servs]\\nferr_ap_irac_i[use_swire] = master_catalogue[\\'ferr_ap_swire_irac_i2\\'][use_swire]\\n\\nm_ap_irac_i = np.full(len(master_catalogue), np.nan)\\nm_ap_irac_i[use_servs] = master_catalogue[\\'m_ap_servs_irac_i2\\'][use_servs]\\nm_ap_irac_i[use_swire] = master_catalogue[\\'m_ap_swire_irac_i2\\'][use_swire]\\n\\nmerr_ap_irac_i = np.full(len(master_catalogue), np.nan)\\nmerr_ap_irac_i[use_servs] = master_catalogue[\\'merr_ap_servs_irac_i2\\'][use_servs]\\nmerr_ap_irac_i[use_swire] = master_catalogue[\\'merr_ap_swire_irac_i2\\'][use_swire]\\n\\nmaster_catalogue.add_column(Column(data=f_ap_irac_i, name=\"f_ap_irac_i2\"))\\nmaster_catalogue.add_column(Column(data=ferr_ap_irac_i, name=\"ferr_ap_irac_i2\"))\\nmaster_catalogue.add_column(Column(data=m_ap_irac_i, name=\"m_ap_irac_i2\"))\\nmaster_catalogue.add_column(Column(data=merr_ap_irac_i, name=\"merr_ap_irac_i2\"))\\n\\nmaster_catalogue.remove_columns([\\'f_ap_servs_irac_i2\\', \\'f_ap_swire_irac_i2\\', \\'ferr_ap_servs_irac_i2\\',\\n                                 \\'ferr_ap_swire_irac_i2\\', \\'m_ap_servs_irac_i2\\', \\'m_ap_swire_irac_i2\\',\\n                                 \\'merr_ap_servs_irac_i2\\', \\'merr_ap_swire_irac_i2\\'])\\n\\norigin = np.full(len(master_catalogue), \\'     \\', dtype=\\'<U5\\')\\norigin[use_servs] = \"SERVS\"\\norigin[use_swire] = \"SWIRE\"\\nirac_origin.add_column(Column(data=origin, name=\"IRAC2_app\"))'"
      ]
     },
     "execution_count": 60,
     "metadata": {},
     "output_type": "execute_result"
    }
   ],
   "source": [
    "\"\"\"# IRAC2 aperture flux and magnitudes\n",
    "has_servs = ~np.isnan(master_catalogue['f_ap_servs_irac_i2'])\n",
    "has_swire = ~np.isnan(master_catalogue['f_ap_swire_irac_i2'])\n",
    "has_both = has_servs & has_swire\n",
    "\n",
    "print(\"{} sources with SERVS flux\".format(np.sum(has_servs)))\n",
    "print(\"{} sources with SWIRE flux\".format(np.sum(has_swire)))\n",
    "print(\"{} sources with SERVS and SWIRE flux\".format(np.sum(has_both)))\n",
    "\n",
    "has_servs_above_limit = has_servs.copy()\n",
    "has_servs_above_limit[has_servs] = master_catalogue['f_ap_servs_irac_i2'][has_servs] > 2000\n",
    "\n",
    "use_swire = (has_swire & ~has_servs) | (has_both & has_servs_above_limit)\n",
    "use_servs = (has_servs & ~(has_both & has_servs_above_limit))\n",
    "\n",
    "print(\"{} sources for which we use SERVS\".format(np.sum(use_servs)))\n",
    "print(\"{} sources for which we use SWIRE\".format(np.sum(use_swire)))\n",
    "\n",
    "f_ap_irac_i = np.full(len(master_catalogue), np.nan)\n",
    "f_ap_irac_i[use_servs] = master_catalogue['f_ap_servs_irac_i2'][use_servs]\n",
    "f_ap_irac_i[use_swire] = master_catalogue['f_ap_swire_irac_i2'][use_swire]\n",
    "\n",
    "ferr_ap_irac_i = np.full(len(master_catalogue), np.nan)\n",
    "ferr_ap_irac_i[use_servs] = master_catalogue['ferr_ap_servs_irac_i2'][use_servs]\n",
    "ferr_ap_irac_i[use_swire] = master_catalogue['ferr_ap_swire_irac_i2'][use_swire]\n",
    "\n",
    "m_ap_irac_i = np.full(len(master_catalogue), np.nan)\n",
    "m_ap_irac_i[use_servs] = master_catalogue['m_ap_servs_irac_i2'][use_servs]\n",
    "m_ap_irac_i[use_swire] = master_catalogue['m_ap_swire_irac_i2'][use_swire]\n",
    "\n",
    "merr_ap_irac_i = np.full(len(master_catalogue), np.nan)\n",
    "merr_ap_irac_i[use_servs] = master_catalogue['merr_ap_servs_irac_i2'][use_servs]\n",
    "merr_ap_irac_i[use_swire] = master_catalogue['merr_ap_swire_irac_i2'][use_swire]\n",
    "\n",
    "master_catalogue.add_column(Column(data=f_ap_irac_i, name=\"f_ap_irac_i2\"))\n",
    "master_catalogue.add_column(Column(data=ferr_ap_irac_i, name=\"ferr_ap_irac_i2\"))\n",
    "master_catalogue.add_column(Column(data=m_ap_irac_i, name=\"m_ap_irac_i2\"))\n",
    "master_catalogue.add_column(Column(data=merr_ap_irac_i, name=\"merr_ap_irac_i2\"))\n",
    "\n",
    "master_catalogue.remove_columns(['f_ap_servs_irac_i2', 'f_ap_swire_irac_i2', 'ferr_ap_servs_irac_i2',\n",
    "                                 'ferr_ap_swire_irac_i2', 'm_ap_servs_irac_i2', 'm_ap_swire_irac_i2',\n",
    "                                 'merr_ap_servs_irac_i2', 'merr_ap_swire_irac_i2'])\n",
    "\n",
    "origin = np.full(len(master_catalogue), '     ', dtype='<U5')\n",
    "origin[use_servs] = \"SERVS\"\n",
    "origin[use_swire] = \"SWIRE\"\n",
    "irac_origin.add_column(Column(data=origin, name=\"IRAC2_app\"))\"\"\""
   ]
  },
  {
   "cell_type": "code",
   "execution_count": 61,
   "metadata": {},
   "outputs": [
    {
     "data": {
      "text/plain": [
       "'# IRAC2 total flux and magnitudes\\nhas_servs = ~np.isnan(master_catalogue[\\'f_servs_irac_i2\\'])\\nhas_swire = ~np.isnan(master_catalogue[\\'f_swire_irac_i2\\'])\\nhas_both = has_servs & has_swire\\n\\nprint(\"{} sources with SERVS flux\".format(np.sum(has_servs)))\\nprint(\"{} sources with SWIRE flux\".format(np.sum(has_swire)))\\nprint(\"{} sources with SERVS and SWIRE flux\".format(np.sum(has_both)))\\n\\nhas_servs_above_limit = has_servs.copy()\\nhas_servs_above_limit[has_servs] = master_catalogue[\\'f_servs_irac_i2\\'][has_servs] > 2000\\n\\nuse_swire = (has_swire & ~has_servs) | (has_both & has_servs_above_limit)\\nuse_servs = (has_servs & ~(has_both & has_servs_above_limit))\\n\\nprint(\"{} sources for which we use SERVS\".format(np.sum(use_servs)))\\nprint(\"{} sources for which we use SWIRE\".format(np.sum(use_swire)))\\n\\nf_ap_irac_i = np.full(len(master_catalogue), np.nan)\\nf_ap_irac_i[use_servs] = master_catalogue[\\'f_servs_irac_i2\\'][use_servs]\\nf_ap_irac_i[use_swire] = master_catalogue[\\'f_swire_irac_i2\\'][use_swire]\\n\\nferr_ap_irac_i = np.full(len(master_catalogue), np.nan)\\nferr_ap_irac_i[use_servs] = master_catalogue[\\'ferr_servs_irac_i2\\'][use_servs]\\nferr_ap_irac_i[use_swire] = master_catalogue[\\'ferr_swire_irac_i2\\'][use_swire]\\n\\nflag_irac_i = np.full(len(master_catalogue), False, dtype=bool)\\nflag_irac_i[use_servs] = master_catalogue[\\'flag_servs_irac_i2\\'][use_servs]\\nflag_irac_i[use_swire] = master_catalogue[\\'flag_swire_irac_i2\\'][use_swire]\\n\\nm_ap_irac_i = np.full(len(master_catalogue), np.nan)\\nm_ap_irac_i[use_servs] = master_catalogue[\\'m_servs_irac_i2\\'][use_servs]\\nm_ap_irac_i[use_swire] = master_catalogue[\\'m_swire_irac_i2\\'][use_swire]\\n\\nmerr_ap_irac_i = np.full(len(master_catalogue), np.nan)\\nmerr_ap_irac_i[use_servs] = master_catalogue[\\'merr_servs_irac_i2\\'][use_servs]\\nmerr_ap_irac_i[use_swire] = master_catalogue[\\'merr_swire_irac_i2\\'][use_swire]\\n\\nmaster_catalogue.add_column(Column(data=f_ap_irac_i, name=\"f_irac_i2\"))\\nmaster_catalogue.add_column(Column(data=ferr_ap_irac_i, name=\"ferr_irac_i2\"))\\nmaster_catalogue.add_column(Column(data=m_ap_irac_i, name=\"m_irac_i2\"))\\nmaster_catalogue.add_column(Column(data=merr_ap_irac_i, name=\"merr_irac_i2\"))\\nmaster_catalogue.add_column(Column(data=flag_irac_i, name=\"flag_irac_i2\"))\\n\\nmaster_catalogue.remove_columns([\\'f_servs_irac_i2\\', \\'f_swire_irac_i2\\', \\'ferr_servs_irac_i2\\',\\n                                 \\'ferr_swire_irac_i2\\', \\'m_servs_irac_i2\\', \\'flag_servs_irac_i2\\', \\'m_swire_irac_i2\\',\\n                                 \\'merr_servs_irac_i2\\', \\'merr_swire_irac_i2\\', \\'flag_swire_irac_i2\\'])\\n\\norigin = np.full(len(master_catalogue), \\'     \\', dtype=\\'<U5\\')\\norigin[use_servs] = \"SERVS\"\\norigin[use_swire] = \"SWIRE\"\\nirac_origin.add_column(Column(data=origin, name=\"IRAC2_total\"))'"
      ]
     },
     "execution_count": 61,
     "metadata": {},
     "output_type": "execute_result"
    }
   ],
   "source": [
    "\"\"\"# IRAC2 total flux and magnitudes\n",
    "has_servs = ~np.isnan(master_catalogue['f_servs_irac_i2'])\n",
    "has_swire = ~np.isnan(master_catalogue['f_swire_irac_i2'])\n",
    "has_both = has_servs & has_swire\n",
    "\n",
    "print(\"{} sources with SERVS flux\".format(np.sum(has_servs)))\n",
    "print(\"{} sources with SWIRE flux\".format(np.sum(has_swire)))\n",
    "print(\"{} sources with SERVS and SWIRE flux\".format(np.sum(has_both)))\n",
    "\n",
    "has_servs_above_limit = has_servs.copy()\n",
    "has_servs_above_limit[has_servs] = master_catalogue['f_servs_irac_i2'][has_servs] > 2000\n",
    "\n",
    "use_swire = (has_swire & ~has_servs) | (has_both & has_servs_above_limit)\n",
    "use_servs = (has_servs & ~(has_both & has_servs_above_limit))\n",
    "\n",
    "print(\"{} sources for which we use SERVS\".format(np.sum(use_servs)))\n",
    "print(\"{} sources for which we use SWIRE\".format(np.sum(use_swire)))\n",
    "\n",
    "f_ap_irac_i = np.full(len(master_catalogue), np.nan)\n",
    "f_ap_irac_i[use_servs] = master_catalogue['f_servs_irac_i2'][use_servs]\n",
    "f_ap_irac_i[use_swire] = master_catalogue['f_swire_irac_i2'][use_swire]\n",
    "\n",
    "ferr_ap_irac_i = np.full(len(master_catalogue), np.nan)\n",
    "ferr_ap_irac_i[use_servs] = master_catalogue['ferr_servs_irac_i2'][use_servs]\n",
    "ferr_ap_irac_i[use_swire] = master_catalogue['ferr_swire_irac_i2'][use_swire]\n",
    "\n",
    "flag_irac_i = np.full(len(master_catalogue), False, dtype=bool)\n",
    "flag_irac_i[use_servs] = master_catalogue['flag_servs_irac_i2'][use_servs]\n",
    "flag_irac_i[use_swire] = master_catalogue['flag_swire_irac_i2'][use_swire]\n",
    "\n",
    "m_ap_irac_i = np.full(len(master_catalogue), np.nan)\n",
    "m_ap_irac_i[use_servs] = master_catalogue['m_servs_irac_i2'][use_servs]\n",
    "m_ap_irac_i[use_swire] = master_catalogue['m_swire_irac_i2'][use_swire]\n",
    "\n",
    "merr_ap_irac_i = np.full(len(master_catalogue), np.nan)\n",
    "merr_ap_irac_i[use_servs] = master_catalogue['merr_servs_irac_i2'][use_servs]\n",
    "merr_ap_irac_i[use_swire] = master_catalogue['merr_swire_irac_i2'][use_swire]\n",
    "\n",
    "master_catalogue.add_column(Column(data=f_ap_irac_i, name=\"f_irac_i2\"))\n",
    "master_catalogue.add_column(Column(data=ferr_ap_irac_i, name=\"ferr_irac_i2\"))\n",
    "master_catalogue.add_column(Column(data=m_ap_irac_i, name=\"m_irac_i2\"))\n",
    "master_catalogue.add_column(Column(data=merr_ap_irac_i, name=\"merr_irac_i2\"))\n",
    "master_catalogue.add_column(Column(data=flag_irac_i, name=\"flag_irac_i2\"))\n",
    "\n",
    "master_catalogue.remove_columns(['f_servs_irac_i2', 'f_swire_irac_i2', 'ferr_servs_irac_i2',\n",
    "                                 'ferr_swire_irac_i2', 'm_servs_irac_i2', 'flag_servs_irac_i2', 'm_swire_irac_i2',\n",
    "                                 'merr_servs_irac_i2', 'merr_swire_irac_i2', 'flag_swire_irac_i2'])\n",
    "\n",
    "origin = np.full(len(master_catalogue), '     ', dtype='<U5')\n",
    "origin[use_servs] = \"SERVS\"\n",
    "origin[use_swire] = \"SWIRE\"\n",
    "irac_origin.add_column(Column(data=origin, name=\"IRAC2_total\"))\"\"\""
   ]
  },
  {
   "cell_type": "code",
   "execution_count": 62,
   "metadata": {
    "collapsed": true
   },
   "outputs": [],
   "source": [
    "#irac_origin.write(\"{}/xmm-lss_irac_i_fluxes_origins{}.fits\".format(OUT_DIR, SUFFIX))"
   ]
  },
  {
   "cell_type": "markdown",
   "metadata": {},
   "source": [
    "### VII.b SpARCS, CFHTLS, CFHT-WIRDS amd CFHTLenS: CFHT Megacam fluxes\n",
    "\n",
    "According to Mattia CFHTLenS is built on the same data as CFHTLS-WIDE and should not be included. I have therefore excluded it from the merge above.\n",
    "\n",
    "CFHTLS-DEEP is prefferred to CFHTLS-WIDE which is prefferred to SpARCS\n",
    "\n",
    "|             |                  |\n",
    "|-------------|------------------|\n",
    "| CFHTLS-WIDE | u, g, r, i, z    |\n",
    "| CFHTLS-DEEP | u, g, r, i, z, y |\n",
    "| SpARCS      | u, g, r, z, y    |\n"
   ]
  },
  {
   "cell_type": "code",
   "execution_count": 63,
   "metadata": {},
   "outputs": [
    {
     "data": {
      "text/plain": [
       "\"megacam_origin = Table()\\nmegacam_origin.add_column(master_catalogue['help_id'])\""
      ]
     },
     "execution_count": 63,
     "metadata": {},
     "output_type": "execute_result"
    }
   ],
   "source": [
    "\"\"\"megacam_origin = Table()\n",
    "megacam_origin.add_column(master_catalogue['help_id'])\"\"\""
   ]
  },
  {
   "cell_type": "code",
   "execution_count": 64,
   "metadata": {},
   "outputs": [
    {
     "data": {
      "text/plain": [
       "'megacam_stats = Table()\\nmegacam_stats.add_column(Column(data=[\\'u\\',\\'g\\',\\'r\\',\\'i\\',\\'z\\',\\'y\\'], name=\"Band\"))\\nfor col in [\"CFHTLS-DEEP\", \"CFHTLS-WIDE\", \"SpARCS\"]:\\n    megacam_stats.add_column(Column(data=np.full(6, 0), name=\"{}\".format(col)))\\n    megacam_stats.add_column(Column(data=np.full(6, 0), name=\"use {}\".format(col)))\\n    megacam_stats.add_column(Column(data=np.full(6, 0), name=\"{} ap\".format(col)))\\n    megacam_stats.add_column(Column(data=np.full(6, 0), name=\"use {} ap\".format(col)))\\n    '"
      ]
     },
     "execution_count": 64,
     "metadata": {},
     "output_type": "execute_result"
    }
   ],
   "source": [
    "\"\"\"megacam_stats = Table()\n",
    "megacam_stats.add_column(Column(data=['u','g','r','i','z','y'], name=\"Band\"))\n",
    "for col in [\"CFHTLS-DEEP\", \"CFHTLS-WIDE\", \"SpARCS\"]:\n",
    "    megacam_stats.add_column(Column(data=np.full(6, 0), name=\"{}\".format(col)))\n",
    "    megacam_stats.add_column(Column(data=np.full(6, 0), name=\"use {}\".format(col)))\n",
    "    megacam_stats.add_column(Column(data=np.full(6, 0), name=\"{} ap\".format(col)))\n",
    "    megacam_stats.add_column(Column(data=np.full(6, 0), name=\"use {} ap\".format(col)))\n",
    "    \"\"\""
   ]
  },
  {
   "cell_type": "code",
   "execution_count": 65,
   "metadata": {},
   "outputs": [
    {
     "data": {
      "text/plain": [
       "'\\nmegacam_bands = [\\'u\\',\\'g\\',\\'r\\',\\'i\\',\\'z\\',\\'y\\'] # Lowercase naming convention (k is Ks)\\nfor band in megacam_bands:\\n\\n    # Megacam total flux \\n    has_cfhtls_deep = ~np.isnan(master_catalogue[\\'f_cfhtls-deep_\\' + band])\\n    if band == \\'y\\':\\n        has_cfhtls_wide = np.full(len(master_catalogue), False)\\n    else:\\n        has_cfhtls_wide = ~np.isnan(master_catalogue[\\'f_cfhtls-wide_\\' + band])\\n    if band == \\'i\\':\\n        has_sparcs = np.full(len(master_catalogue), False)\\n    else:\\n        has_sparcs = ~np.isnan(master_catalogue[\\'f_sparcs_\\' + band])\\n    \\n\\n    use_cfhtls_deep = has_cfhtls_deep \\n    use_cfhtls_wide = has_cfhtls_wide & ~has_cfhtls_deep\\n    use_sparcs = has_sparcs & ~has_cfhtls_wide & ~has_cfhtls_deep\\n\\n    f_megacam = np.full(len(master_catalogue), np.nan)\\n    f_megacam[use_cfhtls_deep] = master_catalogue[\\'f_cfhtls-deep_\\' + band][use_cfhtls_deep]\\n    if not (band == \\'y\\'):\\n        f_megacam[use_cfhtls_wide] = master_catalogue[\\'f_cfhtls-wide_\\' + band][use_cfhtls_wide]\\n    if not (band == \\'i\\'):\\n        f_megacam[use_sparcs] = master_catalogue[\\'f_sparcs_\\' + band][use_sparcs]\\n\\n    ferr_megacam = np.full(len(master_catalogue), np.nan)\\n    ferr_megacam[use_cfhtls_deep] = master_catalogue[\\'ferr_cfhtls-deep_\\' + band][use_cfhtls_deep]\\n    if not (band == \\'y\\'):\\n        ferr_megacam[use_cfhtls_wide] = master_catalogue[\\'ferr_cfhtls-wide_\\' + band][use_cfhtls_wide]\\n    if not (band == \\'i\\'):\\n        ferr_megacam[use_sparcs] = master_catalogue[\\'ferr_sparcs_\\' + band][use_sparcs]\\n    \\n    m_megacam = np.full(len(master_catalogue), np.nan)\\n    m_megacam[use_cfhtls_deep] = master_catalogue[\\'m_cfhtls-deep_\\' + band][use_cfhtls_deep]\\n    if not (band == \\'y\\'):\\n        m_megacam[use_cfhtls_wide] = master_catalogue[\\'m_cfhtls-wide_\\' + band][use_cfhtls_wide]\\n    if not (band == \\'i\\'):\\n        m_megacam[use_sparcs] = master_catalogue[\\'m_sparcs_\\' + band][use_sparcs]\\n\\n    merr_megacam = np.full(len(master_catalogue), np.nan)\\n    merr_megacam[use_cfhtls_deep] = master_catalogue[\\'merr_cfhtls-deep_\\' + band][use_cfhtls_deep]\\n    if not (band == \\'y\\'):\\n        merr_megacam[use_cfhtls_wide] = master_catalogue[\\'merr_cfhtls-wide_\\' + band][use_cfhtls_wide]\\n    if not (band == \\'i\\'):\\n        merr_megacam[use_sparcs] = master_catalogue[\\'merr_sparcs_\\' + band][use_sparcs]\\n\\n    flag_megacam = np.full(len(master_catalogue), False, dtype=bool)\\n    flag_megacam[use_cfhtls_deep] = master_catalogue[\\'flag_cfhtls-deep_\\' + band][use_cfhtls_deep]\\n    if not (band == \\'y\\'):\\n        flag_megacam[use_cfhtls_wide] = master_catalogue[\\'flag_cfhtls-wide_\\' + band][use_cfhtls_wide]\\n    if not (band == \\'i\\'):\\n        flag_megacam[use_sparcs] = master_catalogue[\\'flag_sparcs_\\' + band][use_sparcs]\\n\\n    master_catalogue.add_column(Column(data=f_megacam, name=\"f_megacam_\" + band))\\n    master_catalogue.add_column(Column(data=ferr_megacam, name=\"ferr_megacam_\" + band))\\n    master_catalogue.add_column(Column(data=m_megacam, name=\"m_megacam_\" + band))\\n    master_catalogue.add_column(Column(data=merr_megacam, name=\"merr_megacam_\" + band))\\n    master_catalogue.add_column(Column(data=flag_megacam, name=\"flag_megacam_\" + band))\\n\\n    old_cfhtls_deep_columns = [\\'f_cfhtls-deep_\\' + band,\\n                               \\'ferr_cfhtls-deep_\\' + band,\\n                               \\'m_cfhtls-deep_\\' + band, \\n                               \\'merr_cfhtls-deep_\\' + band,\\n                               \\'flag_cfhtls-deep_\\' + band]\\n    old_cfhtls_wide_columns = [\\'f_cfhtls-wide_\\' + band,\\n                               \\'ferr_cfhtls-wide_\\' + band,\\n                               \\'m_cfhtls-wide_\\' + band, \\n                               \\'merr_cfhtls-wide_\\' + band,\\n                               \\'flag_cfhtls-wide_\\' + band]\\n    old_sparcs_columns =      [\\'f_sparcs_\\' + band,\\n                               \\'ferr_sparcs_\\' + band,\\n                               \\'m_sparcs_\\' + band, \\n                               \\'merr_sparcs_\\' + band,\\n                               \\'flag_sparcs_\\' + band]\\n    \\n    if (band == \\'i\\'):\\n        old_columns = old_cfhtls_deep_columns + old_cfhtls_wide_columns\\n    elif (band == \\'y\\'):\\n        old_columns = old_cfhtls_deep_columns + old_sparcs_columns\\n    else:\\n        old_columns = old_cfhtls_deep_columns + old_cfhtls_wide_columns + old_sparcs_columns\\n    master_catalogue.remove_columns(old_columns)\\n\\n    origin = np.full(len(master_catalogue), \\'     \\', dtype=\\'<U5\\')\\n    origin[use_cfhtls_deep] = \"CFHTLS-DEEP\"\\n    origin[use_cfhtls_wide] = \"CFHTLS-WIDE\"\\n    origin[use_sparcs] = \"SpARCS\"\\n    \\n    megacam_origin.add_column(Column(data=origin, name= \\'f_megacam_\\' + band ))\\n    \\n    # Megacam aperture flux \\n    has_ap_cfhtls_deep = ~np.isnan(master_catalogue[\\'f_ap_cfhtls-deep_\\' + band])\\n    if band == \\'y\\':\\n        has_ap_cfhtls_wide = np.full(len(master_catalogue), False)\\n    else:\\n        has_ap_cfhtls_wide = ~np.isnan(master_catalogue[\\'f_ap_cfhtls-wide_\\' + band])\\n    if band == \\'i\\':\\n        has_ap_sparcs = np.full(len(master_catalogue), False)\\n    else:\\n        has_ap_sparcs = ~np.isnan(master_catalogue[\\'f_ap_sparcs_\\' + band])\\n    \\n\\n    use_ap_cfhtls_deep = has_ap_cfhtls_deep \\n    use_ap_cfhtls_wide = has_ap_cfhtls_wide & ~has_ap_cfhtls_deep\\n    use_ap_sparcs = has_ap_sparcs & ~has_ap_cfhtls_wide & ~has_ap_cfhtls_deep\\n\\n    f_ap_megacam = np.full(len(master_catalogue), np.nan)\\n    f_ap_megacam[use_ap_cfhtls_deep] = master_catalogue[\\'f_ap_cfhtls-deep_\\' + band][use_ap_cfhtls_deep]\\n    if not (band == \\'y\\'):\\n        f_ap_megacam[use_ap_cfhtls_wide] = master_catalogue[\\'f_ap_cfhtls-wide_\\' + band][use_ap_cfhtls_wide]\\n    if not (band == \\'i\\'):\\n        f_ap_megacam[use_ap_sparcs] = master_catalogue[\\'f_ap_sparcs_\\' + band][use_ap_sparcs]\\n\\n    ferr_ap_megacam = np.full(len(master_catalogue), np.nan)\\n    ferr_ap_megacam[use_ap_cfhtls_deep] = master_catalogue[\\'ferr_ap_cfhtls-deep_\\' + band][use_ap_cfhtls_deep]\\n    if not (band == \\'y\\'):\\n        ferr_ap_megacam[use_ap_cfhtls_wide] = master_catalogue[\\'ferr_ap_cfhtls-wide_\\' + band][use_ap_cfhtls_wide]\\n    if not (band == \\'i\\'):\\n        ferr_ap_megacam[use_ap_sparcs] = master_catalogue[\\'ferr_ap_sparcs_\\' + band][use_ap_sparcs]\\n    \\n    m_ap_megacam = np.full(len(master_catalogue), np.nan)\\n    m_ap_megacam[use_ap_cfhtls_deep] = master_catalogue[\\'m_ap_cfhtls-deep_\\' + band][use_ap_cfhtls_deep]\\n    if not (band == \\'y\\'):\\n        m_ap_megacam[use_ap_cfhtls_wide] = master_catalogue[\\'m_ap_cfhtls-wide_\\' + band][use_ap_cfhtls_wide]\\n    if not (band == \\'i\\'):\\n        m_ap_megacam[use_ap_sparcs] = master_catalogue[\\'m_ap_sparcs_\\' + band][use_ap_sparcs]\\n\\n    merr_ap_megacam = np.full(len(master_catalogue), np.nan)\\n    merr_ap_megacam[use_ap_cfhtls_deep] = master_catalogue[\\'merr_ap_cfhtls-deep_\\' + band][use_ap_cfhtls_deep]\\n    if not (band == \\'y\\'):\\n        merr_ap_megacam[use_ap_cfhtls_wide] = master_catalogue[\\'merr_ap_cfhtls-wide_\\' + band][use_ap_cfhtls_wide]\\n    if not (band == \\'i\\'):\\n        merr_ap_megacam[use_ap_sparcs] = master_catalogue[\\'merr_ap_sparcs_\\' + band][use_ap_sparcs]\\n\\n\\n\\n    master_catalogue.add_column(Column(data=f_ap_megacam, name=\"f_ap_megacam_\" + band))\\n    master_catalogue.add_column(Column(data=ferr_ap_megacam, name=\"ferr_ap_megacam_\" + band))\\n    master_catalogue.add_column(Column(data=m_ap_megacam, name=\"m_ap_megacam_\" + band))\\n    master_catalogue.add_column(Column(data=merr_ap_megacam, name=\"merr_ap_megacam_\" + band))\\n\\n\\n    old_ap_cfhtls_deep_columns = [\\'f_ap_cfhtls-deep_\\' + band,\\n                               \\'ferr_ap_cfhtls-deep_\\' + band,\\n                               \\'m_ap_cfhtls-deep_\\' + band, \\n                               \\'merr_ap_cfhtls-deep_\\' + band]\\n    old_ap_cfhtls_wide_columns = [\\'f_ap_cfhtls-wide_\\' + band,\\n                               \\'ferr_ap_cfhtls-wide_\\' + band,\\n                               \\'m_ap_cfhtls-wide_\\' + band, \\n                               \\'merr_ap_cfhtls-wide_\\' + band]\\n    old_ap_sparcs_columns =      [\\'f_ap_sparcs_\\' + band,\\n                               \\'ferr_ap_sparcs_\\' + band,\\n                               \\'m_ap_sparcs_\\' + band, \\n                               \\'merr_ap_sparcs_\\' + band]\\n    \\n    if (band == \\'i\\'):\\n        old_ap_columns = old_ap_cfhtls_deep_columns + old_ap_cfhtls_wide_columns\\n    elif (band == \\'y\\'):\\n        old_ap_columns = old_ap_cfhtls_deep_columns + old_ap_sparcs_columns\\n    else:\\n        old_ap_columns = old_ap_cfhtls_deep_columns + old_ap_cfhtls_wide_columns + old_ap_sparcs_columns\\n    master_catalogue.remove_columns(old_ap_columns)\\n\\n    origin_ap = np.full(len(master_catalogue), \\'     \\', dtype=\\'<U5\\')\\n    origin_ap[use_ap_cfhtls_deep] = \"CFHTLS-DEEP\"\\n    origin_ap[use_ap_cfhtls_wide] = \"CFHTLS-WIDE\"\\n    origin_ap[use_ap_sparcs] = \"SpARCS\"\\n    \\n    megacam_origin.add_column(Column(data=origin_ap, name= \\'f_ap_megacam_\\' + band ))\\n    \\n\\n   \\n    megacam_stats[\\'CFHTLS-DEEP\\'][megacam_stats[\\'Band\\'] == band] = np.sum(has_cfhtls_deep)\\n    megacam_stats[\\'CFHTLS-WIDE\\'][megacam_stats[\\'Band\\'] == band] = np.sum(has_cfhtls_wide)\\n    megacam_stats[\\'SpARCS\\'][megacam_stats[\\'Band\\'] == band] = np.sum(has_sparcs)\\n    megacam_stats[\\'use CFHTLS-DEEP\\'][megacam_stats[\\'Band\\'] == band] = np.sum(use_cfhtls_deep)\\n    megacam_stats[\\'use CFHTLS-WIDE\\'][megacam_stats[\\'Band\\'] == band] = np.sum(use_cfhtls_wide)\\n    megacam_stats[\\'use SpARCS\\'][megacam_stats[\\'Band\\'] == band] = np.sum(use_sparcs)\\n    megacam_stats[\\'CFHTLS-DEEP ap\\'][megacam_stats[\\'Band\\'] == band] = np.sum(has_ap_cfhtls_deep)\\n    megacam_stats[\\'CFHTLS-WIDE ap\\'][megacam_stats[\\'Band\\'] == band] = np.sum(has_ap_cfhtls_wide)\\n    megacam_stats[\\'SpARCS ap\\'][megacam_stats[\\'Band\\'] == band] = np.sum(has_ap_sparcs)\\n    megacam_stats[\\'use CFHTLS-DEEP ap\\'][megacam_stats[\\'Band\\'] == band] = np.sum(use_ap_cfhtls_deep)\\n    megacam_stats[\\'use CFHTLS-WIDE ap\\'][megacam_stats[\\'Band\\'] == band] = np.sum(use_ap_cfhtls_wide)\\n    megacam_stats[\\'use SpARCS ap\\'][megacam_stats[\\'Band\\'] == band] = np.sum(use_ap_sparcs)'"
      ]
     },
     "execution_count": 65,
     "metadata": {},
     "output_type": "execute_result"
    }
   ],
   "source": [
    "\"\"\"\n",
    "megacam_bands = ['u','g','r','i','z','y'] # Lowercase naming convention (k is Ks)\n",
    "for band in megacam_bands:\n",
    "\n",
    "    # Megacam total flux \n",
    "    has_cfhtls_deep = ~np.isnan(master_catalogue['f_cfhtls-deep_' + band])\n",
    "    if band == 'y':\n",
    "        has_cfhtls_wide = np.full(len(master_catalogue), False)\n",
    "    else:\n",
    "        has_cfhtls_wide = ~np.isnan(master_catalogue['f_cfhtls-wide_' + band])\n",
    "    if band == 'i':\n",
    "        has_sparcs = np.full(len(master_catalogue), False)\n",
    "    else:\n",
    "        has_sparcs = ~np.isnan(master_catalogue['f_sparcs_' + band])\n",
    "    \n",
    "\n",
    "    use_cfhtls_deep = has_cfhtls_deep \n",
    "    use_cfhtls_wide = has_cfhtls_wide & ~has_cfhtls_deep\n",
    "    use_sparcs = has_sparcs & ~has_cfhtls_wide & ~has_cfhtls_deep\n",
    "\n",
    "    f_megacam = np.full(len(master_catalogue), np.nan)\n",
    "    f_megacam[use_cfhtls_deep] = master_catalogue['f_cfhtls-deep_' + band][use_cfhtls_deep]\n",
    "    if not (band == 'y'):\n",
    "        f_megacam[use_cfhtls_wide] = master_catalogue['f_cfhtls-wide_' + band][use_cfhtls_wide]\n",
    "    if not (band == 'i'):\n",
    "        f_megacam[use_sparcs] = master_catalogue['f_sparcs_' + band][use_sparcs]\n",
    "\n",
    "    ferr_megacam = np.full(len(master_catalogue), np.nan)\n",
    "    ferr_megacam[use_cfhtls_deep] = master_catalogue['ferr_cfhtls-deep_' + band][use_cfhtls_deep]\n",
    "    if not (band == 'y'):\n",
    "        ferr_megacam[use_cfhtls_wide] = master_catalogue['ferr_cfhtls-wide_' + band][use_cfhtls_wide]\n",
    "    if not (band == 'i'):\n",
    "        ferr_megacam[use_sparcs] = master_catalogue['ferr_sparcs_' + band][use_sparcs]\n",
    "    \n",
    "    m_megacam = np.full(len(master_catalogue), np.nan)\n",
    "    m_megacam[use_cfhtls_deep] = master_catalogue['m_cfhtls-deep_' + band][use_cfhtls_deep]\n",
    "    if not (band == 'y'):\n",
    "        m_megacam[use_cfhtls_wide] = master_catalogue['m_cfhtls-wide_' + band][use_cfhtls_wide]\n",
    "    if not (band == 'i'):\n",
    "        m_megacam[use_sparcs] = master_catalogue['m_sparcs_' + band][use_sparcs]\n",
    "\n",
    "    merr_megacam = np.full(len(master_catalogue), np.nan)\n",
    "    merr_megacam[use_cfhtls_deep] = master_catalogue['merr_cfhtls-deep_' + band][use_cfhtls_deep]\n",
    "    if not (band == 'y'):\n",
    "        merr_megacam[use_cfhtls_wide] = master_catalogue['merr_cfhtls-wide_' + band][use_cfhtls_wide]\n",
    "    if not (band == 'i'):\n",
    "        merr_megacam[use_sparcs] = master_catalogue['merr_sparcs_' + band][use_sparcs]\n",
    "\n",
    "    flag_megacam = np.full(len(master_catalogue), False, dtype=bool)\n",
    "    flag_megacam[use_cfhtls_deep] = master_catalogue['flag_cfhtls-deep_' + band][use_cfhtls_deep]\n",
    "    if not (band == 'y'):\n",
    "        flag_megacam[use_cfhtls_wide] = master_catalogue['flag_cfhtls-wide_' + band][use_cfhtls_wide]\n",
    "    if not (band == 'i'):\n",
    "        flag_megacam[use_sparcs] = master_catalogue['flag_sparcs_' + band][use_sparcs]\n",
    "\n",
    "    master_catalogue.add_column(Column(data=f_megacam, name=\"f_megacam_\" + band))\n",
    "    master_catalogue.add_column(Column(data=ferr_megacam, name=\"ferr_megacam_\" + band))\n",
    "    master_catalogue.add_column(Column(data=m_megacam, name=\"m_megacam_\" + band))\n",
    "    master_catalogue.add_column(Column(data=merr_megacam, name=\"merr_megacam_\" + band))\n",
    "    master_catalogue.add_column(Column(data=flag_megacam, name=\"flag_megacam_\" + band))\n",
    "\n",
    "    old_cfhtls_deep_columns = ['f_cfhtls-deep_' + band,\n",
    "                               'ferr_cfhtls-deep_' + band,\n",
    "                               'm_cfhtls-deep_' + band, \n",
    "                               'merr_cfhtls-deep_' + band,\n",
    "                               'flag_cfhtls-deep_' + band]\n",
    "    old_cfhtls_wide_columns = ['f_cfhtls-wide_' + band,\n",
    "                               'ferr_cfhtls-wide_' + band,\n",
    "                               'm_cfhtls-wide_' + band, \n",
    "                               'merr_cfhtls-wide_' + band,\n",
    "                               'flag_cfhtls-wide_' + band]\n",
    "    old_sparcs_columns =      ['f_sparcs_' + band,\n",
    "                               'ferr_sparcs_' + band,\n",
    "                               'm_sparcs_' + band, \n",
    "                               'merr_sparcs_' + band,\n",
    "                               'flag_sparcs_' + band]\n",
    "    \n",
    "    if (band == 'i'):\n",
    "        old_columns = old_cfhtls_deep_columns + old_cfhtls_wide_columns\n",
    "    elif (band == 'y'):\n",
    "        old_columns = old_cfhtls_deep_columns + old_sparcs_columns\n",
    "    else:\n",
    "        old_columns = old_cfhtls_deep_columns + old_cfhtls_wide_columns + old_sparcs_columns\n",
    "    master_catalogue.remove_columns(old_columns)\n",
    "\n",
    "    origin = np.full(len(master_catalogue), '     ', dtype='<U5')\n",
    "    origin[use_cfhtls_deep] = \"CFHTLS-DEEP\"\n",
    "    origin[use_cfhtls_wide] = \"CFHTLS-WIDE\"\n",
    "    origin[use_sparcs] = \"SpARCS\"\n",
    "    \n",
    "    megacam_origin.add_column(Column(data=origin, name= 'f_megacam_' + band ))\n",
    "    \n",
    "    # Megacam aperture flux \n",
    "    has_ap_cfhtls_deep = ~np.isnan(master_catalogue['f_ap_cfhtls-deep_' + band])\n",
    "    if band == 'y':\n",
    "        has_ap_cfhtls_wide = np.full(len(master_catalogue), False)\n",
    "    else:\n",
    "        has_ap_cfhtls_wide = ~np.isnan(master_catalogue['f_ap_cfhtls-wide_' + band])\n",
    "    if band == 'i':\n",
    "        has_ap_sparcs = np.full(len(master_catalogue), False)\n",
    "    else:\n",
    "        has_ap_sparcs = ~np.isnan(master_catalogue['f_ap_sparcs_' + band])\n",
    "    \n",
    "\n",
    "    use_ap_cfhtls_deep = has_ap_cfhtls_deep \n",
    "    use_ap_cfhtls_wide = has_ap_cfhtls_wide & ~has_ap_cfhtls_deep\n",
    "    use_ap_sparcs = has_ap_sparcs & ~has_ap_cfhtls_wide & ~has_ap_cfhtls_deep\n",
    "\n",
    "    f_ap_megacam = np.full(len(master_catalogue), np.nan)\n",
    "    f_ap_megacam[use_ap_cfhtls_deep] = master_catalogue['f_ap_cfhtls-deep_' + band][use_ap_cfhtls_deep]\n",
    "    if not (band == 'y'):\n",
    "        f_ap_megacam[use_ap_cfhtls_wide] = master_catalogue['f_ap_cfhtls-wide_' + band][use_ap_cfhtls_wide]\n",
    "    if not (band == 'i'):\n",
    "        f_ap_megacam[use_ap_sparcs] = master_catalogue['f_ap_sparcs_' + band][use_ap_sparcs]\n",
    "\n",
    "    ferr_ap_megacam = np.full(len(master_catalogue), np.nan)\n",
    "    ferr_ap_megacam[use_ap_cfhtls_deep] = master_catalogue['ferr_ap_cfhtls-deep_' + band][use_ap_cfhtls_deep]\n",
    "    if not (band == 'y'):\n",
    "        ferr_ap_megacam[use_ap_cfhtls_wide] = master_catalogue['ferr_ap_cfhtls-wide_' + band][use_ap_cfhtls_wide]\n",
    "    if not (band == 'i'):\n",
    "        ferr_ap_megacam[use_ap_sparcs] = master_catalogue['ferr_ap_sparcs_' + band][use_ap_sparcs]\n",
    "    \n",
    "    m_ap_megacam = np.full(len(master_catalogue), np.nan)\n",
    "    m_ap_megacam[use_ap_cfhtls_deep] = master_catalogue['m_ap_cfhtls-deep_' + band][use_ap_cfhtls_deep]\n",
    "    if not (band == 'y'):\n",
    "        m_ap_megacam[use_ap_cfhtls_wide] = master_catalogue['m_ap_cfhtls-wide_' + band][use_ap_cfhtls_wide]\n",
    "    if not (band == 'i'):\n",
    "        m_ap_megacam[use_ap_sparcs] = master_catalogue['m_ap_sparcs_' + band][use_ap_sparcs]\n",
    "\n",
    "    merr_ap_megacam = np.full(len(master_catalogue), np.nan)\n",
    "    merr_ap_megacam[use_ap_cfhtls_deep] = master_catalogue['merr_ap_cfhtls-deep_' + band][use_ap_cfhtls_deep]\n",
    "    if not (band == 'y'):\n",
    "        merr_ap_megacam[use_ap_cfhtls_wide] = master_catalogue['merr_ap_cfhtls-wide_' + band][use_ap_cfhtls_wide]\n",
    "    if not (band == 'i'):\n",
    "        merr_ap_megacam[use_ap_sparcs] = master_catalogue['merr_ap_sparcs_' + band][use_ap_sparcs]\n",
    "\n",
    "\n",
    "\n",
    "    master_catalogue.add_column(Column(data=f_ap_megacam, name=\"f_ap_megacam_\" + band))\n",
    "    master_catalogue.add_column(Column(data=ferr_ap_megacam, name=\"ferr_ap_megacam_\" + band))\n",
    "    master_catalogue.add_column(Column(data=m_ap_megacam, name=\"m_ap_megacam_\" + band))\n",
    "    master_catalogue.add_column(Column(data=merr_ap_megacam, name=\"merr_ap_megacam_\" + band))\n",
    "\n",
    "\n",
    "    old_ap_cfhtls_deep_columns = ['f_ap_cfhtls-deep_' + band,\n",
    "                               'ferr_ap_cfhtls-deep_' + band,\n",
    "                               'm_ap_cfhtls-deep_' + band, \n",
    "                               'merr_ap_cfhtls-deep_' + band]\n",
    "    old_ap_cfhtls_wide_columns = ['f_ap_cfhtls-wide_' + band,\n",
    "                               'ferr_ap_cfhtls-wide_' + band,\n",
    "                               'm_ap_cfhtls-wide_' + band, \n",
    "                               'merr_ap_cfhtls-wide_' + band]\n",
    "    old_ap_sparcs_columns =      ['f_ap_sparcs_' + band,\n",
    "                               'ferr_ap_sparcs_' + band,\n",
    "                               'm_ap_sparcs_' + band, \n",
    "                               'merr_ap_sparcs_' + band]\n",
    "    \n",
    "    if (band == 'i'):\n",
    "        old_ap_columns = old_ap_cfhtls_deep_columns + old_ap_cfhtls_wide_columns\n",
    "    elif (band == 'y'):\n",
    "        old_ap_columns = old_ap_cfhtls_deep_columns + old_ap_sparcs_columns\n",
    "    else:\n",
    "        old_ap_columns = old_ap_cfhtls_deep_columns + old_ap_cfhtls_wide_columns + old_ap_sparcs_columns\n",
    "    master_catalogue.remove_columns(old_ap_columns)\n",
    "\n",
    "    origin_ap = np.full(len(master_catalogue), '     ', dtype='<U5')\n",
    "    origin_ap[use_ap_cfhtls_deep] = \"CFHTLS-DEEP\"\n",
    "    origin_ap[use_ap_cfhtls_wide] = \"CFHTLS-WIDE\"\n",
    "    origin_ap[use_ap_sparcs] = \"SpARCS\"\n",
    "    \n",
    "    megacam_origin.add_column(Column(data=origin_ap, name= 'f_ap_megacam_' + band ))\n",
    "    \n",
    "\n",
    "   \n",
    "    megacam_stats['CFHTLS-DEEP'][megacam_stats['Band'] == band] = np.sum(has_cfhtls_deep)\n",
    "    megacam_stats['CFHTLS-WIDE'][megacam_stats['Band'] == band] = np.sum(has_cfhtls_wide)\n",
    "    megacam_stats['SpARCS'][megacam_stats['Band'] == band] = np.sum(has_sparcs)\n",
    "    megacam_stats['use CFHTLS-DEEP'][megacam_stats['Band'] == band] = np.sum(use_cfhtls_deep)\n",
    "    megacam_stats['use CFHTLS-WIDE'][megacam_stats['Band'] == band] = np.sum(use_cfhtls_wide)\n",
    "    megacam_stats['use SpARCS'][megacam_stats['Band'] == band] = np.sum(use_sparcs)\n",
    "    megacam_stats['CFHTLS-DEEP ap'][megacam_stats['Band'] == band] = np.sum(has_ap_cfhtls_deep)\n",
    "    megacam_stats['CFHTLS-WIDE ap'][megacam_stats['Band'] == band] = np.sum(has_ap_cfhtls_wide)\n",
    "    megacam_stats['SpARCS ap'][megacam_stats['Band'] == band] = np.sum(has_ap_sparcs)\n",
    "    megacam_stats['use CFHTLS-DEEP ap'][megacam_stats['Band'] == band] = np.sum(use_ap_cfhtls_deep)\n",
    "    megacam_stats['use CFHTLS-WIDE ap'][megacam_stats['Band'] == band] = np.sum(use_ap_cfhtls_wide)\n",
    "    megacam_stats['use SpARCS ap'][megacam_stats['Band'] == band] = np.sum(use_ap_sparcs)\"\"\""
   ]
  },
  {
   "cell_type": "code",
   "execution_count": 66,
   "metadata": {
    "collapsed": true
   },
   "outputs": [],
   "source": [
    "#megacam_stats.show_in_notebook()"
   ]
  },
  {
   "cell_type": "code",
   "execution_count": 67,
   "metadata": {
    "collapsed": true
   },
   "outputs": [],
   "source": [
    "#megacam_origin.write(\"{}/xmm-lss_megacam_fluxes_origins{}.fits\".format(OUT_DIR, SUFFIX))"
   ]
  },
  {
   "cell_type": "markdown",
   "metadata": {},
   "source": [
    "### VII.c VISTA VIDEO, VHS, and VIKING: VISTA fluxes\n",
    "\n",
    "According to Mattia Vacari VIDEO is deeper than VIKING which is deeper than VHS"
   ]
  },
  {
   "cell_type": "code",
   "execution_count": 68,
   "metadata": {},
   "outputs": [
    {
     "data": {
      "text/plain": [
       "\"vista_origin = Table()\\nvista_origin.add_column(master_catalogue['help_id'])\""
      ]
     },
     "execution_count": 68,
     "metadata": {},
     "output_type": "execute_result"
    }
   ],
   "source": [
    "\"\"\"vista_origin = Table()\n",
    "vista_origin.add_column(master_catalogue['help_id'])\"\"\""
   ]
  },
  {
   "cell_type": "code",
   "execution_count": 69,
   "metadata": {},
   "outputs": [
    {
     "data": {
      "text/plain": [
       "'vista_stats = Table()\\nvista_stats.add_column(Column(data=[\\'y\\',\\'j\\',\\'h\\',\\'k\\',\\'z\\'], name=\"Band\"))\\nvista_stats.add_column(Column(data=np.full(5, 0), name=\"VIDEO\"))\\nvista_stats.add_column(Column(data=np.full(5, 0), name=\"VIKING\"))\\nvista_stats.add_column(Column(data=np.full(5, 0), name=\"VHS\"))\\nvista_stats.add_column(Column(data=np.full(5, 0), name=\"use VIDEO\"))\\nvista_stats.add_column(Column(data=np.full(5, 0), name=\"use VIKING\"))\\nvista_stats.add_column(Column(data=np.full(5, 0), name=\"use VHS\"))\\nvista_stats.add_column(Column(data=np.full(5, 0), name=\"VIDEO ap\"))\\nvista_stats.add_column(Column(data=np.full(5, 0), name=\"VIKING ap\"))\\nvista_stats.add_column(Column(data=np.full(5, 0), name=\"VHS ap\"))\\nvista_stats.add_column(Column(data=np.full(5, 0), name=\"use VIDEO ap\"))\\nvista_stats.add_column(Column(data=np.full(5, 0), name=\"use VIKING ap\"))\\nvista_stats.add_column(Column(data=np.full(5, 0), name=\"use VHS ap\"))'"
      ]
     },
     "execution_count": 69,
     "metadata": {},
     "output_type": "execute_result"
    }
   ],
   "source": [
    "\"\"\"vista_stats = Table()\n",
    "vista_stats.add_column(Column(data=['y','j','h','k','z'], name=\"Band\"))\n",
    "vista_stats.add_column(Column(data=np.full(5, 0), name=\"VIDEO\"))\n",
    "vista_stats.add_column(Column(data=np.full(5, 0), name=\"VIKING\"))\n",
    "vista_stats.add_column(Column(data=np.full(5, 0), name=\"VHS\"))\n",
    "vista_stats.add_column(Column(data=np.full(5, 0), name=\"use VIDEO\"))\n",
    "vista_stats.add_column(Column(data=np.full(5, 0), name=\"use VIKING\"))\n",
    "vista_stats.add_column(Column(data=np.full(5, 0), name=\"use VHS\"))\n",
    "vista_stats.add_column(Column(data=np.full(5, 0), name=\"VIDEO ap\"))\n",
    "vista_stats.add_column(Column(data=np.full(5, 0), name=\"VIKING ap\"))\n",
    "vista_stats.add_column(Column(data=np.full(5, 0), name=\"VHS ap\"))\n",
    "vista_stats.add_column(Column(data=np.full(5, 0), name=\"use VIDEO ap\"))\n",
    "vista_stats.add_column(Column(data=np.full(5, 0), name=\"use VIKING ap\"))\n",
    "vista_stats.add_column(Column(data=np.full(5, 0), name=\"use VHS ap\"))\"\"\""
   ]
  },
  {
   "cell_type": "code",
   "execution_count": 70,
   "metadata": {},
   "outputs": [
    {
     "data": {
      "text/plain": [
       "'\\nvista_bands = [\\'y\\',\\'j\\',\\'h\\',\\'k\\',\\'z\\'] # Lowercase naming convention (k is Ks)\\nfor band in vista_bands:\\n    #print(\\'For VISTA band \\' + band + \\':\\')\\n    # VISTA total flux \\n    has_video = ~np.isnan(master_catalogue[\\'f_video_\\' + band])\\n    has_viking = ~np.isnan(master_catalogue[\\'f_viking_\\' + band])\\n    if band == \\'z\\':\\n        has_vhs = np.full(len(master_catalogue), False)\\n    else:\\n        has_vhs = ~np.isnan(master_catalogue[\\'f_vhs_\\' + band])\\n    \\n\\n    #print(\"{} sources with VIDEO flux\".format(np.sum(has_video)))\\n    #print(\"{} sources with VIKING flux\".format(np.sum(has_viking)))\\n    #print(\"{} sources with VHS flux\".format(np.sum(has_vhs)))\\n    #print(\"{} sources with VIDEO, VIKING, and VHS flux\".format(np.sum(has_video & has_viking & has_vhs)))\\n\\n\\n    use_video = has_video \\n    use_viking = has_viking & ~has_video\\n    use_vhs = has_vhs & ~has_video & ~has_viking\\n\\n    #print(\"{} sources for which we use VIDEO\".format(np.sum(use_video)))\\n    #print(\"{} sources for which we use VIKING\".format(np.sum(use_viking)))\\n    #print(\"{} sources for which we use VHS\".format(np.sum(use_vhs)))\\n\\n    f_vista = np.full(len(master_catalogue), np.nan)\\n    f_vista[use_video] = master_catalogue[\\'f_video_\\' + band][use_video]\\n    f_vista[use_viking] = master_catalogue[\\'f_viking_\\' + band][use_viking]\\n    if not (band == \\'z\\'):\\n        f_vista[use_vhs] = master_catalogue[\\'f_vhs_\\' + band][use_vhs]\\n\\n    ferr_vista = np.full(len(master_catalogue), np.nan)\\n    ferr_vista[use_video] = master_catalogue[\\'ferr_video_\\' + band][use_video]\\n    ferr_vista[use_viking] = master_catalogue[\\'ferr_viking_\\' + band][use_viking]\\n    if not (band == \\'z\\'):\\n        ferr_vista[use_vhs] = master_catalogue[\\'ferr_vhs_\\' + band][use_vhs]\\n    \\n    m_vista = np.full(len(master_catalogue), np.nan)\\n    m_vista[use_video] = master_catalogue[\\'m_video_\\' + band][use_video]\\n    m_vista[use_viking] = master_catalogue[\\'m_viking_\\' + band][use_viking]\\n    if not (band == \\'z\\'):\\n        m_vista[use_vhs] = master_catalogue[\\'m_vhs_\\' + band][use_vhs]\\n\\n    merr_vista = np.full(len(master_catalogue), np.nan)\\n    merr_vista[use_video] = master_catalogue[\\'merr_video_\\' + band][use_video]\\n    merr_vista[use_viking] = master_catalogue[\\'merr_viking_\\' + band][use_viking]\\n    if not (band == \\'z\\'):\\n        merr_vista[use_vhs] = master_catalogue[\\'merr_vhs_\\' + band][use_vhs]\\n\\n    flag_vista = np.full(len(master_catalogue), False, dtype=bool)\\n    flag_vista[use_video] = master_catalogue[\\'flag_video_\\' + band][use_video]\\n    flag_vista[use_viking] = master_catalogue[\\'flag_viking_\\' + band][use_viking]\\n    if not (band == \\'z\\'):\\n        flag_vista[use_vhs] = master_catalogue[\\'flag_vhs_\\' + band][use_vhs]\\n\\n    master_catalogue.add_column(Column(data=f_vista, name=\"f_vista_\" + band))\\n    master_catalogue.add_column(Column(data=ferr_vista, name=\"ferr_vista_\" + band))\\n    master_catalogue.add_column(Column(data=m_vista, name=\"m_vista_\" + band))\\n    master_catalogue.add_column(Column(data=merr_vista, name=\"merr_vista_\" + band))\\n    master_catalogue.add_column(Column(data=flag_vista, name=\"flag_vista_\" + band))\\n\\n    old_video_and_viking_columns = [\\'f_video_\\' + band, \\n                                     \\'f_viking_\\' + band, \\n                                     \\'ferr_video_\\' + band,\\n                                     \\'ferr_viking_\\' + band, \\n                                     \\'m_video_\\' + band, \\n                                     \\'m_viking_\\' + band, \\n                                     \\'merr_video_\\' + band,\\n                                     \\'merr_viking_\\' + band,\\n                                     \\'flag_video_\\' + band, \\n                                     \\'flag_viking_\\' + band]\\n    old_vhs_columns = [\\'f_vhs_\\' + band, \\n                       \\'ferr_vhs_\\' + band, \\n                       \\'m_vhs_\\' + band, \\n                       \\'merr_vhs_\\' + band,\\n                       \\'flag_vhs_\\' + band]\\n    \\n    if not (band == \\'z\\'):\\n        old_columns = old_video_and_viking_columns + old_vhs_columns\\n    else:\\n        old_columns = old_video_and_viking_columns\\n    master_catalogue.remove_columns(old_columns)\\n\\n    origin = np.full(len(master_catalogue), \\'     \\', dtype=\\'<U5\\')\\n    origin[use_video] = \"VIDEO\"\\n    origin[use_viking] = \"VIKING\"\\n    origin[use_vhs] = \"VHS\"\\n    \\n    vista_origin.add_column(Column(data=origin, name= \\'f_vista_\\' + band ))\\n    \\n    \\n    \\n    # VISTA Aperture flux\\n    has_ap_video = ~np.isnan(master_catalogue[\\'f_ap_video_\\' + band])\\n    has_ap_viking = ~np.isnan(master_catalogue[\\'f_ap_viking_\\' + band])\\n    if (band == \\'z\\'):\\n        has_ap_vhs = np.full(len(master_catalogue), False)\\n    else:\\n        has_ap_vhs = ~np.isnan(master_catalogue[\\'f_ap_vhs_\\' + band])\\n\\n    #print(\"{} sources with VIDEO aperture flux\".format(np.sum(has_ap_video)))\\n    #print(\"{} sources with VIKING aperture flux\".format(np.sum(has_ap_viking)))\\n    #print(\"{} sources with VHS aperture flux\".format(np.sum(has_ap_vhs)))\\n    #print(\"{} sources with VIDEO, VIKING and VHS aperture flux\".format(np.sum(has_ap_video & has_ap_viking & has_ap_vhs)))\\n\\n    use_ap_video = has_ap_video \\n    use_ap_viking = has_ap_viking & ~has_ap_video\\n    use_ap_vhs = has_ap_vhs & ~has_ap_video & ~has_ap_viking\\n\\n    #print(\"{} sources for which we use VIDEO aperture fluxes\".format(np.sum(use_ap_video)))\\n    #print(\"{} sources for which we use VIKING aperture fluxes\".format(np.sum(use_ap_viking)))\\n    #print(\"{} sources for which we use VHS aperture fluxes\".format(np.sum(use_ap_vhs)))\\n\\n    f_ap_vista = np.full(len(master_catalogue), np.nan)\\n    f_ap_vista[use_ap_video] = master_catalogue[\\'f_ap_video_\\' + band][use_ap_video]\\n    f_ap_vista[use_ap_viking] = master_catalogue[\\'f_ap_viking_\\' + band][use_ap_viking]\\n    if not (band == \\'z\\'):\\n        f_ap_vista[use_ap_vhs] = master_catalogue[\\'f_ap_vhs_\\' + band][use_ap_vhs]\\n\\n    ferr_ap_vista = np.full(len(master_catalogue), np.nan)\\n    ferr_ap_vista[use_ap_video] = master_catalogue[\\'ferr_ap_video_\\' + band][use_ap_video]\\n    ferr_ap_vista[use_ap_viking] = master_catalogue[\\'ferr_ap_viking_\\' + band][use_ap_viking]\\n    if not (band == \\'z\\'):\\n        ferr_ap_vista[use_ap_vhs] = master_catalogue[\\'ferr_ap_vhs_\\' + band][use_ap_vhs]\\n    \\n    m_ap_vista = np.full(len(master_catalogue), np.nan)\\n    m_ap_vista[use_ap_video] = master_catalogue[\\'m_ap_video_\\' + band][use_ap_video]\\n    m_ap_vista[use_ap_viking] = master_catalogue[\\'m_ap_viking_\\' + band][use_ap_viking]\\n    if not (band == \\'z\\'):\\n        m_ap_vista[use_ap_vhs] = master_catalogue[\\'m_ap_vhs_\\' + band][use_ap_vhs]\\n\\n    merr_ap_vista = np.full(len(master_catalogue), np.nan)\\n    merr_ap_vista[use_ap_video] = master_catalogue[\\'merr_ap_video_\\' + band][use_ap_video]\\n    merr_ap_vista[use_ap_viking] = master_catalogue[\\'merr_ap_viking_\\' + band][use_ap_viking]\\n    if not (band == \\'z\\'):\\n        merr_ap_vista[use_ap_vhs] = master_catalogue[\\'merr_ap_vhs_\\' + band][use_ap_vhs]\\n\\n\\n    master_catalogue.add_column(Column(data=f_ap_vista, name=\"f_ap_vista_\" + band))\\n    master_catalogue.add_column(Column(data=ferr_ap_vista, name=\"ferr_ap_vista_\" + band))\\n    master_catalogue.add_column(Column(data=m_ap_vista, name=\"m_ap_vista_\" + band))\\n    master_catalogue.add_column(Column(data=merr_vista, name=\"merr_ap_vista_\" + band))\\n\\n\\n    ap_old_video_and_viking_columns = [\\'f_ap_video_\\' + band, \\n                                     \\'f_ap_viking_\\' + band, \\n                                     \\'ferr_ap_video_\\' + band,\\n                                     \\'ferr_ap_viking_\\' + band, \\n                                     \\'m_ap_video_\\' + band, \\n                                     \\'m_ap_viking_\\' + band, \\n                                     \\'merr_ap_video_\\' + band,\\n                                     \\'merr_ap_viking_\\' + band]\\n    ap_old_vhs_columns = [\\'f_ap_vhs_\\' + band, \\n                       \\'ferr_ap_vhs_\\' + band, \\n                       \\'m_ap_vhs_\\' + band, \\n                       \\'merr_ap_vhs_\\' + band]\\n    \\n    if not (band == \\'z\\'):\\n        ap_old_columns = ap_old_video_and_viking_columns + ap_old_vhs_columns\\n    else:\\n        ap_old_columns = ap_old_video_and_viking_columns\\n    master_catalogue.remove_columns(ap_old_columns)\\n\\n    origin_ap = np.full(len(master_catalogue), \\'     \\', dtype=\\'<U5\\')\\n    origin_ap[use_ap_video] = \"VIDEO\"\\n    origin_ap[use_ap_viking] = \"VIKING\"\\n    origin_ap[use_ap_vhs] = \"VHS\"\\n    \\n    vista_origin.add_column(Column(data=origin_ap, name= \\'f_ap_vista_\\' + band ))\\n    \\n    vista_stats[\\'VIDEO\\'][vista_stats[\\'Band\\'] == band] = np.sum(has_video)\\n    vista_stats[\\'VIKING\\'][vista_stats[\\'Band\\'] == band] = np.sum(has_viking)\\n    vista_stats[\\'VHS\\'][vista_stats[\\'Band\\'] == band] = np.sum(has_vhs)\\n    vista_stats[\\'use VIDEO\\'][vista_stats[\\'Band\\'] == band] = np.sum(use_video)\\n    vista_stats[\\'use VIKING\\'][vista_stats[\\'Band\\'] == band] = np.sum(use_viking)\\n    vista_stats[\\'use VHS\\'][vista_stats[\\'Band\\'] == band] = np.sum(use_vhs)\\n    vista_stats[\\'VIDEO ap\\'][vista_stats[\\'Band\\'] == band] = np.sum(has_ap_video)\\n    vista_stats[\\'VIKING ap\\'][vista_stats[\\'Band\\'] == band] = np.sum(has_ap_viking)\\n    vista_stats[\\'VHS ap\\'][vista_stats[\\'Band\\'] == band] = np.sum(has_ap_vhs)\\n    vista_stats[\\'use VIDEO ap\\'][vista_stats[\\'Band\\'] == band] = np.sum(use_ap_video)\\n    vista_stats[\\'use VIKING ap\\'][vista_stats[\\'Band\\'] == band] = np.sum(use_ap_viking)\\n    vista_stats[\\'use VHS ap\\'][vista_stats[\\'Band\\'] == band] = np.sum(use_ap_vhs)'"
      ]
     },
     "execution_count": 70,
     "metadata": {},
     "output_type": "execute_result"
    }
   ],
   "source": [
    "\"\"\"\n",
    "vista_bands = ['y','j','h','k','z'] # Lowercase naming convention (k is Ks)\n",
    "for band in vista_bands:\n",
    "    #print('For VISTA band ' + band + ':')\n",
    "    # VISTA total flux \n",
    "    has_video = ~np.isnan(master_catalogue['f_video_' + band])\n",
    "    has_viking = ~np.isnan(master_catalogue['f_viking_' + band])\n",
    "    if band == 'z':\n",
    "        has_vhs = np.full(len(master_catalogue), False)\n",
    "    else:\n",
    "        has_vhs = ~np.isnan(master_catalogue['f_vhs_' + band])\n",
    "    \n",
    "\n",
    "    #print(\"{} sources with VIDEO flux\".format(np.sum(has_video)))\n",
    "    #print(\"{} sources with VIKING flux\".format(np.sum(has_viking)))\n",
    "    #print(\"{} sources with VHS flux\".format(np.sum(has_vhs)))\n",
    "    #print(\"{} sources with VIDEO, VIKING, and VHS flux\".format(np.sum(has_video & has_viking & has_vhs)))\n",
    "\n",
    "\n",
    "    use_video = has_video \n",
    "    use_viking = has_viking & ~has_video\n",
    "    use_vhs = has_vhs & ~has_video & ~has_viking\n",
    "\n",
    "    #print(\"{} sources for which we use VIDEO\".format(np.sum(use_video)))\n",
    "    #print(\"{} sources for which we use VIKING\".format(np.sum(use_viking)))\n",
    "    #print(\"{} sources for which we use VHS\".format(np.sum(use_vhs)))\n",
    "\n",
    "    f_vista = np.full(len(master_catalogue), np.nan)\n",
    "    f_vista[use_video] = master_catalogue['f_video_' + band][use_video]\n",
    "    f_vista[use_viking] = master_catalogue['f_viking_' + band][use_viking]\n",
    "    if not (band == 'z'):\n",
    "        f_vista[use_vhs] = master_catalogue['f_vhs_' + band][use_vhs]\n",
    "\n",
    "    ferr_vista = np.full(len(master_catalogue), np.nan)\n",
    "    ferr_vista[use_video] = master_catalogue['ferr_video_' + band][use_video]\n",
    "    ferr_vista[use_viking] = master_catalogue['ferr_viking_' + band][use_viking]\n",
    "    if not (band == 'z'):\n",
    "        ferr_vista[use_vhs] = master_catalogue['ferr_vhs_' + band][use_vhs]\n",
    "    \n",
    "    m_vista = np.full(len(master_catalogue), np.nan)\n",
    "    m_vista[use_video] = master_catalogue['m_video_' + band][use_video]\n",
    "    m_vista[use_viking] = master_catalogue['m_viking_' + band][use_viking]\n",
    "    if not (band == 'z'):\n",
    "        m_vista[use_vhs] = master_catalogue['m_vhs_' + band][use_vhs]\n",
    "\n",
    "    merr_vista = np.full(len(master_catalogue), np.nan)\n",
    "    merr_vista[use_video] = master_catalogue['merr_video_' + band][use_video]\n",
    "    merr_vista[use_viking] = master_catalogue['merr_viking_' + band][use_viking]\n",
    "    if not (band == 'z'):\n",
    "        merr_vista[use_vhs] = master_catalogue['merr_vhs_' + band][use_vhs]\n",
    "\n",
    "    flag_vista = np.full(len(master_catalogue), False, dtype=bool)\n",
    "    flag_vista[use_video] = master_catalogue['flag_video_' + band][use_video]\n",
    "    flag_vista[use_viking] = master_catalogue['flag_viking_' + band][use_viking]\n",
    "    if not (band == 'z'):\n",
    "        flag_vista[use_vhs] = master_catalogue['flag_vhs_' + band][use_vhs]\n",
    "\n",
    "    master_catalogue.add_column(Column(data=f_vista, name=\"f_vista_\" + band))\n",
    "    master_catalogue.add_column(Column(data=ferr_vista, name=\"ferr_vista_\" + band))\n",
    "    master_catalogue.add_column(Column(data=m_vista, name=\"m_vista_\" + band))\n",
    "    master_catalogue.add_column(Column(data=merr_vista, name=\"merr_vista_\" + band))\n",
    "    master_catalogue.add_column(Column(data=flag_vista, name=\"flag_vista_\" + band))\n",
    "\n",
    "    old_video_and_viking_columns = ['f_video_' + band, \n",
    "                                     'f_viking_' + band, \n",
    "                                     'ferr_video_' + band,\n",
    "                                     'ferr_viking_' + band, \n",
    "                                     'm_video_' + band, \n",
    "                                     'm_viking_' + band, \n",
    "                                     'merr_video_' + band,\n",
    "                                     'merr_viking_' + band,\n",
    "                                     'flag_video_' + band, \n",
    "                                     'flag_viking_' + band]\n",
    "    old_vhs_columns = ['f_vhs_' + band, \n",
    "                       'ferr_vhs_' + band, \n",
    "                       'm_vhs_' + band, \n",
    "                       'merr_vhs_' + band,\n",
    "                       'flag_vhs_' + band]\n",
    "    \n",
    "    if not (band == 'z'):\n",
    "        old_columns = old_video_and_viking_columns + old_vhs_columns\n",
    "    else:\n",
    "        old_columns = old_video_and_viking_columns\n",
    "    master_catalogue.remove_columns(old_columns)\n",
    "\n",
    "    origin = np.full(len(master_catalogue), '     ', dtype='<U5')\n",
    "    origin[use_video] = \"VIDEO\"\n",
    "    origin[use_viking] = \"VIKING\"\n",
    "    origin[use_vhs] = \"VHS\"\n",
    "    \n",
    "    vista_origin.add_column(Column(data=origin, name= 'f_vista_' + band ))\n",
    "    \n",
    "    \n",
    "    \n",
    "    # VISTA Aperture flux\n",
    "    has_ap_video = ~np.isnan(master_catalogue['f_ap_video_' + band])\n",
    "    has_ap_viking = ~np.isnan(master_catalogue['f_ap_viking_' + band])\n",
    "    if (band == 'z'):\n",
    "        has_ap_vhs = np.full(len(master_catalogue), False)\n",
    "    else:\n",
    "        has_ap_vhs = ~np.isnan(master_catalogue['f_ap_vhs_' + band])\n",
    "\n",
    "    #print(\"{} sources with VIDEO aperture flux\".format(np.sum(has_ap_video)))\n",
    "    #print(\"{} sources with VIKING aperture flux\".format(np.sum(has_ap_viking)))\n",
    "    #print(\"{} sources with VHS aperture flux\".format(np.sum(has_ap_vhs)))\n",
    "    #print(\"{} sources with VIDEO, VIKING and VHS aperture flux\".format(np.sum(has_ap_video & has_ap_viking & has_ap_vhs)))\n",
    "\n",
    "    use_ap_video = has_ap_video \n",
    "    use_ap_viking = has_ap_viking & ~has_ap_video\n",
    "    use_ap_vhs = has_ap_vhs & ~has_ap_video & ~has_ap_viking\n",
    "\n",
    "    #print(\"{} sources for which we use VIDEO aperture fluxes\".format(np.sum(use_ap_video)))\n",
    "    #print(\"{} sources for which we use VIKING aperture fluxes\".format(np.sum(use_ap_viking)))\n",
    "    #print(\"{} sources for which we use VHS aperture fluxes\".format(np.sum(use_ap_vhs)))\n",
    "\n",
    "    f_ap_vista = np.full(len(master_catalogue), np.nan)\n",
    "    f_ap_vista[use_ap_video] = master_catalogue['f_ap_video_' + band][use_ap_video]\n",
    "    f_ap_vista[use_ap_viking] = master_catalogue['f_ap_viking_' + band][use_ap_viking]\n",
    "    if not (band == 'z'):\n",
    "        f_ap_vista[use_ap_vhs] = master_catalogue['f_ap_vhs_' + band][use_ap_vhs]\n",
    "\n",
    "    ferr_ap_vista = np.full(len(master_catalogue), np.nan)\n",
    "    ferr_ap_vista[use_ap_video] = master_catalogue['ferr_ap_video_' + band][use_ap_video]\n",
    "    ferr_ap_vista[use_ap_viking] = master_catalogue['ferr_ap_viking_' + band][use_ap_viking]\n",
    "    if not (band == 'z'):\n",
    "        ferr_ap_vista[use_ap_vhs] = master_catalogue['ferr_ap_vhs_' + band][use_ap_vhs]\n",
    "    \n",
    "    m_ap_vista = np.full(len(master_catalogue), np.nan)\n",
    "    m_ap_vista[use_ap_video] = master_catalogue['m_ap_video_' + band][use_ap_video]\n",
    "    m_ap_vista[use_ap_viking] = master_catalogue['m_ap_viking_' + band][use_ap_viking]\n",
    "    if not (band == 'z'):\n",
    "        m_ap_vista[use_ap_vhs] = master_catalogue['m_ap_vhs_' + band][use_ap_vhs]\n",
    "\n",
    "    merr_ap_vista = np.full(len(master_catalogue), np.nan)\n",
    "    merr_ap_vista[use_ap_video] = master_catalogue['merr_ap_video_' + band][use_ap_video]\n",
    "    merr_ap_vista[use_ap_viking] = master_catalogue['merr_ap_viking_' + band][use_ap_viking]\n",
    "    if not (band == 'z'):\n",
    "        merr_ap_vista[use_ap_vhs] = master_catalogue['merr_ap_vhs_' + band][use_ap_vhs]\n",
    "\n",
    "\n",
    "    master_catalogue.add_column(Column(data=f_ap_vista, name=\"f_ap_vista_\" + band))\n",
    "    master_catalogue.add_column(Column(data=ferr_ap_vista, name=\"ferr_ap_vista_\" + band))\n",
    "    master_catalogue.add_column(Column(data=m_ap_vista, name=\"m_ap_vista_\" + band))\n",
    "    master_catalogue.add_column(Column(data=merr_vista, name=\"merr_ap_vista_\" + band))\n",
    "\n",
    "\n",
    "    ap_old_video_and_viking_columns = ['f_ap_video_' + band, \n",
    "                                     'f_ap_viking_' + band, \n",
    "                                     'ferr_ap_video_' + band,\n",
    "                                     'ferr_ap_viking_' + band, \n",
    "                                     'm_ap_video_' + band, \n",
    "                                     'm_ap_viking_' + band, \n",
    "                                     'merr_ap_video_' + band,\n",
    "                                     'merr_ap_viking_' + band]\n",
    "    ap_old_vhs_columns = ['f_ap_vhs_' + band, \n",
    "                       'ferr_ap_vhs_' + band, \n",
    "                       'm_ap_vhs_' + band, \n",
    "                       'merr_ap_vhs_' + band]\n",
    "    \n",
    "    if not (band == 'z'):\n",
    "        ap_old_columns = ap_old_video_and_viking_columns + ap_old_vhs_columns\n",
    "    else:\n",
    "        ap_old_columns = ap_old_video_and_viking_columns\n",
    "    master_catalogue.remove_columns(ap_old_columns)\n",
    "\n",
    "    origin_ap = np.full(len(master_catalogue), '     ', dtype='<U5')\n",
    "    origin_ap[use_ap_video] = \"VIDEO\"\n",
    "    origin_ap[use_ap_viking] = \"VIKING\"\n",
    "    origin_ap[use_ap_vhs] = \"VHS\"\n",
    "    \n",
    "    vista_origin.add_column(Column(data=origin_ap, name= 'f_ap_vista_' + band ))\n",
    "    \n",
    "    vista_stats['VIDEO'][vista_stats['Band'] == band] = np.sum(has_video)\n",
    "    vista_stats['VIKING'][vista_stats['Band'] == band] = np.sum(has_viking)\n",
    "    vista_stats['VHS'][vista_stats['Band'] == band] = np.sum(has_vhs)\n",
    "    vista_stats['use VIDEO'][vista_stats['Band'] == band] = np.sum(use_video)\n",
    "    vista_stats['use VIKING'][vista_stats['Band'] == band] = np.sum(use_viking)\n",
    "    vista_stats['use VHS'][vista_stats['Band'] == band] = np.sum(use_vhs)\n",
    "    vista_stats['VIDEO ap'][vista_stats['Band'] == band] = np.sum(has_ap_video)\n",
    "    vista_stats['VIKING ap'][vista_stats['Band'] == band] = np.sum(has_ap_viking)\n",
    "    vista_stats['VHS ap'][vista_stats['Band'] == band] = np.sum(has_ap_vhs)\n",
    "    vista_stats['use VIDEO ap'][vista_stats['Band'] == band] = np.sum(use_ap_video)\n",
    "    vista_stats['use VIKING ap'][vista_stats['Band'] == band] = np.sum(use_ap_viking)\n",
    "    vista_stats['use VHS ap'][vista_stats['Band'] == band] = np.sum(use_ap_vhs)\"\"\""
   ]
  },
  {
   "cell_type": "markdown",
   "metadata": {},
   "source": [
    "### Vista origin overview\n",
    "For each band show how many objects have fluxes from each survey for both total and aperture photometries."
   ]
  },
  {
   "cell_type": "code",
   "execution_count": 71,
   "metadata": {
    "collapsed": true
   },
   "outputs": [],
   "source": [
    "#vista_stats.show_in_notebook()"
   ]
  },
  {
   "cell_type": "code",
   "execution_count": 72,
   "metadata": {
    "collapsed": true
   },
   "outputs": [],
   "source": [
    "#vista_origin.write(\"{}/xmm-lss_vista_fluxes_origins{}.fits\".format(OUT_DIR, SUFFIX))"
   ]
  },
  {
   "cell_type": "markdown",
   "metadata": {},
   "source": [
    "### VII. d UKIDSS DXS and UDS\n",
    "\n",
    "There is no overlap between UDS and DXS so I simply merge the two columns."
   ]
  },
  {
   "cell_type": "code",
   "execution_count": 73,
   "metadata": {},
   "outputs": [
    {
     "data": {
      "text/plain": [
       "'#Band H is only in UDS so we can simply rename it\\nfor col in master_catalogue.colnames:\\n    if \\'uds_h\\' in col:\\n        master_catalogue[col].name = col.replace(\\'uds_h\\', \\'ukidss_h\\')\\n        \\nhas_uds_k =     ~np.isnan(master_catalogue[\\'f_uds_k\\'])\\nhas_uds_j =     ~np.isnan(master_catalogue[\\'f_uds_j\\'])\\nhas_ukidss_k =  ~np.isnan(master_catalogue[\\'f_ukidss_k\\'])\\nhas_ukidss_j =  ~np.isnan(master_catalogue[\\'f_ukidss_j\\'])\\n\\nmaster_catalogue[\\'f_ukidss_k\\'][has_uds_k] = master_catalogue[\\'f_uds_k\\'][has_uds_k]\\nmaster_catalogue[\\'ferr_ukidss_k\\'][has_uds_k] = master_catalogue[\\'ferr_uds_k\\'][has_uds_k]\\nmaster_catalogue[\\'m_ukidss_k\\'][has_uds_k] = master_catalogue[\\'m_uds_k\\'][has_uds_k]\\nmaster_catalogue[\\'merr_ukidss_k\\'][has_uds_k] = master_catalogue[\\'merr_uds_k\\'][has_uds_k]\\nmaster_catalogue[\\'flag_ukidss_k\\'][has_uds_k] = master_catalogue[\\'flag_uds_k\\'][has_uds_k]\\n\\nmaster_catalogue[\\'f_ukidss_j\\'][has_uds_j] = master_catalogue[\\'f_uds_j\\'][has_uds_j]\\nmaster_catalogue[\\'ferr_ukidss_j\\'][has_uds_j] = master_catalogue[\\'ferr_uds_j\\'][has_uds_j]\\nmaster_catalogue[\\'m_ukidss_j\\'][has_uds_j] = master_catalogue[\\'m_uds_j\\'][has_uds_j]\\nmaster_catalogue[\\'merr_ukidss_j\\'][has_uds_j] = master_catalogue[\\'merr_uds_j\\'][has_uds_j]\\nmaster_catalogue[\\'flag_ukidss_j\\'][has_uds_j] = master_catalogue[\\'flag_uds_j\\'][has_uds_j]\\n\\nhas_ap_uds_k =  ~np.isnan(master_catalogue[\\'f_ap_uds_k\\'])\\nhas_ap_uds_j =  ~np.isnan(master_catalogue[\\'f_ap_uds_j\\'])\\nhas_ap_ukidss_k =  ~np.isnan(master_catalogue[\\'f_ap_ukidss_k\\'])\\nhas_ap_ukidss_j =  ~np.isnan(master_catalogue[\\'f_ap_ukidss_j\\'])\\n\\nmaster_catalogue[\\'f_ap_ukidss_k\\'][has_ap_uds_k] = master_catalogue[\\'f_ap_uds_k\\'][has_ap_uds_k]\\nmaster_catalogue[\\'ferr_ap_ukidss_k\\'][has_ap_uds_k] = master_catalogue[\\'ferr_ap_uds_k\\'][has_ap_uds_k]\\nmaster_catalogue[\\'m_ap_ukidss_k\\'][has_ap_uds_k] = master_catalogue[\\'m_ap_uds_k\\'][has_ap_uds_k]\\nmaster_catalogue[\\'merr_ap_ukidss_k\\'][has_ap_uds_k] = master_catalogue[\\'merr_ap_uds_k\\'][has_ap_uds_k]\\n\\nmaster_catalogue[\\'f_ap_ukidss_j\\'][has_ap_uds_j] = master_catalogue[\\'f_ap_uds_j\\'][has_ap_uds_j]\\nmaster_catalogue[\\'ferr_ap_ukidss_j\\'][has_ap_uds_j] = master_catalogue[\\'ferr_ap_uds_j\\'][has_ap_uds_j]\\nmaster_catalogue[\\'m_ap_ukidss_j\\'][has_ap_uds_j] = master_catalogue[\\'m_ap_uds_j\\'][has_ap_uds_j]\\nmaster_catalogue[\\'merr_ap_ukidss_j\\'][has_ap_uds_j] = master_catalogue[\\'merr_ap_uds_j\\'][has_ap_uds_j]\\n\\nmaster_catalogue.remove_columns([\\'f_uds_j\\',\\'ferr_uds_j\\',\\'m_uds_j\\',\\'merr_uds_j\\',\\'flag_uds_j\\',\\n                               \\'f_uds_k\\',\\'ferr_uds_k\\',\\'m_uds_k\\',\\'merr_uds_k\\',\\'flag_uds_k\\',\\n                               \\'f_ap_uds_j\\',\\'ferr_ap_uds_j\\',\\'m_ap_uds_j\\',\\'merr_ap_uds_j\\',\\n                               \\'f_ap_uds_k\\',\\'ferr_ap_uds_k\\',\\'m_ap_uds_k\\',\\'merr_ap_uds_k\\'])\\n\\n\\nukidss_origin = Table()\\nukidss_origin.add_column(master_catalogue[\\'help_id\\'])\\norigin[has_uds_k] = \"UDS\"\\norigin[has_ukidss_k] = \"DXS\"\\nukidss_origin.add_column(Column(data=origin, name= \\'f_ukidss_k\\' ))\\norigin = np.full(len(master_catalogue), \\'     \\', dtype=\\'<U5\\')\\norigin[has_uds_j] = \"UDS\"\\norigin[has_ukidss_j] = \"DXS\"\\nukidss_origin.add_column(Column(data=origin, name= \\'f_ukidss_j\\' ))\\norigin_ap = np.full(len(master_catalogue), \\'     \\', dtype=\\'<U5\\')\\norigin_ap[has_ap_uds_k] = \"UDS\"\\norigin_ap[has_ap_ukidss_k] = \"DXS\"\\nukidss_origin.add_column(Column(data=origin_ap, name= \\'f_ap_ukidss_k\\' ))\\norigin_ap = np.full(len(master_catalogue), \\'     \\', dtype=\\'<U5\\')\\norigin_ap[has_ap_uds_j] = \"UDS\"\\norigin_ap[has_ap_ukidss_j] = \"DXS\"\\nukidss_origin.add_column(Column(data=origin_ap, name= \\'f_ap_ukidss_j\\' ))\\n\\nukidss_origin.write(\"{}/xmm-lss_ukidss_fluxes_origins{}.fits\".format(OUT_DIR, SUFFIX))'"
      ]
     },
     "execution_count": 73,
     "metadata": {},
     "output_type": "execute_result"
    }
   ],
   "source": [
    "\"\"\"#Band H is only in UDS so we can simply rename it\n",
    "for col in master_catalogue.colnames:\n",
    "    if 'uds_h' in col:\n",
    "        master_catalogue[col].name = col.replace('uds_h', 'ukidss_h')\n",
    "        \n",
    "has_uds_k =     ~np.isnan(master_catalogue['f_uds_k'])\n",
    "has_uds_j =     ~np.isnan(master_catalogue['f_uds_j'])\n",
    "has_ukidss_k =  ~np.isnan(master_catalogue['f_ukidss_k'])\n",
    "has_ukidss_j =  ~np.isnan(master_catalogue['f_ukidss_j'])\n",
    "\n",
    "master_catalogue['f_ukidss_k'][has_uds_k] = master_catalogue['f_uds_k'][has_uds_k]\n",
    "master_catalogue['ferr_ukidss_k'][has_uds_k] = master_catalogue['ferr_uds_k'][has_uds_k]\n",
    "master_catalogue['m_ukidss_k'][has_uds_k] = master_catalogue['m_uds_k'][has_uds_k]\n",
    "master_catalogue['merr_ukidss_k'][has_uds_k] = master_catalogue['merr_uds_k'][has_uds_k]\n",
    "master_catalogue['flag_ukidss_k'][has_uds_k] = master_catalogue['flag_uds_k'][has_uds_k]\n",
    "\n",
    "master_catalogue['f_ukidss_j'][has_uds_j] = master_catalogue['f_uds_j'][has_uds_j]\n",
    "master_catalogue['ferr_ukidss_j'][has_uds_j] = master_catalogue['ferr_uds_j'][has_uds_j]\n",
    "master_catalogue['m_ukidss_j'][has_uds_j] = master_catalogue['m_uds_j'][has_uds_j]\n",
    "master_catalogue['merr_ukidss_j'][has_uds_j] = master_catalogue['merr_uds_j'][has_uds_j]\n",
    "master_catalogue['flag_ukidss_j'][has_uds_j] = master_catalogue['flag_uds_j'][has_uds_j]\n",
    "\n",
    "has_ap_uds_k =  ~np.isnan(master_catalogue['f_ap_uds_k'])\n",
    "has_ap_uds_j =  ~np.isnan(master_catalogue['f_ap_uds_j'])\n",
    "has_ap_ukidss_k =  ~np.isnan(master_catalogue['f_ap_ukidss_k'])\n",
    "has_ap_ukidss_j =  ~np.isnan(master_catalogue['f_ap_ukidss_j'])\n",
    "\n",
    "master_catalogue['f_ap_ukidss_k'][has_ap_uds_k] = master_catalogue['f_ap_uds_k'][has_ap_uds_k]\n",
    "master_catalogue['ferr_ap_ukidss_k'][has_ap_uds_k] = master_catalogue['ferr_ap_uds_k'][has_ap_uds_k]\n",
    "master_catalogue['m_ap_ukidss_k'][has_ap_uds_k] = master_catalogue['m_ap_uds_k'][has_ap_uds_k]\n",
    "master_catalogue['merr_ap_ukidss_k'][has_ap_uds_k] = master_catalogue['merr_ap_uds_k'][has_ap_uds_k]\n",
    "\n",
    "master_catalogue['f_ap_ukidss_j'][has_ap_uds_j] = master_catalogue['f_ap_uds_j'][has_ap_uds_j]\n",
    "master_catalogue['ferr_ap_ukidss_j'][has_ap_uds_j] = master_catalogue['ferr_ap_uds_j'][has_ap_uds_j]\n",
    "master_catalogue['m_ap_ukidss_j'][has_ap_uds_j] = master_catalogue['m_ap_uds_j'][has_ap_uds_j]\n",
    "master_catalogue['merr_ap_ukidss_j'][has_ap_uds_j] = master_catalogue['merr_ap_uds_j'][has_ap_uds_j]\n",
    "\n",
    "master_catalogue.remove_columns(['f_uds_j','ferr_uds_j','m_uds_j','merr_uds_j','flag_uds_j',\n",
    "                               'f_uds_k','ferr_uds_k','m_uds_k','merr_uds_k','flag_uds_k',\n",
    "                               'f_ap_uds_j','ferr_ap_uds_j','m_ap_uds_j','merr_ap_uds_j',\n",
    "                               'f_ap_uds_k','ferr_ap_uds_k','m_ap_uds_k','merr_ap_uds_k'])\n",
    "\n",
    "\n",
    "ukidss_origin = Table()\n",
    "ukidss_origin.add_column(master_catalogue['help_id'])\n",
    "origin[has_uds_k] = \"UDS\"\n",
    "origin[has_ukidss_k] = \"DXS\"\n",
    "ukidss_origin.add_column(Column(data=origin, name= 'f_ukidss_k' ))\n",
    "origin = np.full(len(master_catalogue), '     ', dtype='<U5')\n",
    "origin[has_uds_j] = \"UDS\"\n",
    "origin[has_ukidss_j] = \"DXS\"\n",
    "ukidss_origin.add_column(Column(data=origin, name= 'f_ukidss_j' ))\n",
    "origin_ap = np.full(len(master_catalogue), '     ', dtype='<U5')\n",
    "origin_ap[has_ap_uds_k] = \"UDS\"\n",
    "origin_ap[has_ap_ukidss_k] = \"DXS\"\n",
    "ukidss_origin.add_column(Column(data=origin_ap, name= 'f_ap_ukidss_k' ))\n",
    "origin_ap = np.full(len(master_catalogue), '     ', dtype='<U5')\n",
    "origin_ap[has_ap_uds_j] = \"UDS\"\n",
    "origin_ap[has_ap_ukidss_j] = \"DXS\"\n",
    "ukidss_origin.add_column(Column(data=origin_ap, name= 'f_ap_ukidss_j' ))\n",
    "\n",
    "ukidss_origin.write(\"{}/xmm-lss_ukidss_fluxes_origins{}.fits\".format(OUT_DIR, SUFFIX))\"\"\""
   ]
  },
  {
   "cell_type": "markdown",
   "metadata": {},
   "source": [
    "### VII. e HSC wide, deep and udeep\n",
    "Here we straightforwardly take the deepest\n",
    "\n",
    "| Survey      | Bands observed   |\n",
    "|-------------|------------------|\n",
    "| HSC-WIDE    | grizy            |\n",
    "| HSC-DEEP    | grizy            |\n",
    "| HSC-UDEEP   | grizy n921 n816  |"
   ]
  },
  {
   "cell_type": "code",
   "execution_count": 74,
   "metadata": {},
   "outputs": [
    {
     "data": {
      "text/plain": [
       "\"suprime_origin = Table()\\nsuprime_origin.add_column(master_catalogue['help_id'])\""
      ]
     },
     "execution_count": 74,
     "metadata": {},
     "output_type": "execute_result"
    }
   ],
   "source": [
    "\"\"\"suprime_origin = Table()\n",
    "suprime_origin.add_column(master_catalogue['help_id'])\"\"\""
   ]
  },
  {
   "cell_type": "code",
   "execution_count": 75,
   "metadata": {},
   "outputs": [
    {
     "data": {
      "text/plain": [
       "'suprime_stats = Table()\\nsuprime_stats.add_column(Column(data=[\\'g\\',\\'r\\',\\'i\\',\\'z\\',\\'y\\'], name=\"Band\"))\\nfor col in [\"HSC-UDEEP\",  \"HSC-DEEP\", \"HSC-WIDE\"]:\\n    suprime_stats.add_column(Column(data=np.full(5, 0), name=\"{}\".format(col)))\\n    suprime_stats.add_column(Column(data=np.full(5, 0), name=\"use {}\".format(col)))\\n    suprime_stats.add_column(Column(data=np.full(5, 0), name=\"{} ap\".format(col)))\\n    suprime_stats.add_column(Column(data=np.full(5, 0), name=\"use {} ap\".format(col)))\\n    \\n#n921 and n816 only in udeep so we can just rename those columns\\nfor col in master_catalogue.colnames:\\n    if (\\'n921\\' in col) or (\\'n816\\' in col):\\n        master_catalogue[col].name = col.replace(\\'hsc-udeep\\', \\'suprime\\')'"
      ]
     },
     "execution_count": 75,
     "metadata": {},
     "output_type": "execute_result"
    }
   ],
   "source": [
    "\"\"\"suprime_stats = Table()\n",
    "suprime_stats.add_column(Column(data=['g','r','i','z','y'], name=\"Band\"))\n",
    "for col in [\"HSC-UDEEP\",  \"HSC-DEEP\", \"HSC-WIDE\"]:\n",
    "    suprime_stats.add_column(Column(data=np.full(5, 0), name=\"{}\".format(col)))\n",
    "    suprime_stats.add_column(Column(data=np.full(5, 0), name=\"use {}\".format(col)))\n",
    "    suprime_stats.add_column(Column(data=np.full(5, 0), name=\"{} ap\".format(col)))\n",
    "    suprime_stats.add_column(Column(data=np.full(5, 0), name=\"use {} ap\".format(col)))\n",
    "    \n",
    "#n921 and n816 only in udeep so we can just rename those columns\n",
    "for col in master_catalogue.colnames:\n",
    "    if ('n921' in col) or ('n816' in col):\n",
    "        master_catalogue[col].name = col.replace('hsc-udeep', 'suprime')\"\"\""
   ]
  },
  {
   "cell_type": "code",
   "execution_count": 76,
   "metadata": {},
   "outputs": [
    {
     "data": {
      "text/plain": [
       "'\\nsuprime_bands = [\\'g\\',\\'r\\',\\'i\\',\\'z\\',\\'y\\'] # Lowercase naming convention (k is Ks)\\nfor band in suprime_bands:\\n\\n    # Suprime total flux \\n    has_hsc_udeep = ~np.isnan(master_catalogue[\\'f_hsc-udeep_\\' + band])\\n    has_hsc_deep  = ~np.isnan(master_catalogue[\\'f_hsc-deep_\\' + band])\\n    has_hsc_wide  = ~np.isnan(master_catalogue[\\'f_hsc-wide_\\' + band])\\n    \\n\\n    use_hsc_udeep = has_hsc_udeep\\n    use_hsc_deep = has_hsc_deep & ~has_hsc_udeep\\n    use_hsc_wide = has_hsc_wide & ~has_hsc_deep & ~has_hsc_udeep\\n\\n    f_suprime = np.full(len(master_catalogue), np.nan)\\n    f_suprime[use_hsc_udeep] = master_catalogue[\\'f_hsc-udeep_\\' + band][use_hsc_udeep]\\n    f_suprime[use_hsc_deep] = master_catalogue[\\'f_hsc-deep_\\' + band][use_hsc_deep]\\n    f_suprime[use_hsc_wide] = master_catalogue[\\'f_hsc-wide_\\' + band][use_hsc_wide]\\n\\n    ferr_suprime = np.full(len(master_catalogue), np.nan)\\n    ferr_suprime[use_hsc_udeep] = master_catalogue[\\'ferr_hsc-udeep_\\' + band][use_hsc_udeep]\\n    ferr_suprime[use_hsc_deep] = master_catalogue[\\'ferr_hsc-deep_\\' + band][use_hsc_deep]\\n    ferr_suprime[use_hsc_wide] = master_catalogue[\\'ferr_hsc-wide_\\' + band][use_hsc_wide]\\n    \\n    m_suprime = np.full(len(master_catalogue), np.nan)\\n    m_suprime[use_hsc_udeep] = master_catalogue[\\'m_hsc-udeep_\\' + band][use_hsc_udeep]\\n    m_suprime[use_hsc_deep] = master_catalogue[\\'m_hsc-deep_\\' + band][use_hsc_deep]\\n    m_suprime[use_hsc_wide] = master_catalogue[\\'m_hsc-wide_\\' + band][use_hsc_wide]\\n\\n    merr_suprime = np.full(len(master_catalogue), np.nan)\\n    merr_suprime[use_hsc_udeep] = master_catalogue[\\'merr_hsc-udeep_\\' + band][use_hsc_udeep]\\n    merr_suprime[use_hsc_deep] = master_catalogue[\\'merr_hsc-deep_\\' + band][use_hsc_deep]\\n    merr_suprime[use_hsc_wide] = master_catalogue[\\'merr_hsc-wide_\\' + band][use_hsc_wide]\\n\\n    flag_suprime = np.full(len(master_catalogue), False, dtype=bool)\\n    flag_suprime[use_hsc_udeep] = master_catalogue[\\'flag_hsc-udeep_\\' + band][use_hsc_udeep]\\n    flag_suprime[use_hsc_deep] = master_catalogue[\\'flag_hsc-deep_\\' + band][use_hsc_deep]\\n    flag_suprime[use_hsc_wide] = master_catalogue[\\'flag_hsc-wide_\\' + band][use_hsc_wide]\\n\\n    master_catalogue.add_column(Column(data=f_suprime, name=\"f_suprime_\" + band))\\n    master_catalogue.add_column(Column(data=ferr_suprime, name=\"ferr_suprime_\" + band))\\n    master_catalogue.add_column(Column(data=m_suprime, name=\"m_suprime_\" + band))\\n    master_catalogue.add_column(Column(data=merr_suprime, name=\"merr_suprime_\" + band))\\n    master_catalogue.add_column(Column(data=flag_suprime, name=\"flag_suprime_\" + band))\\n\\n    old_hsc_udeep_columns = [\\'f_hsc-udeep_\\' + band,\\n                               \\'ferr_hsc-udeep_\\' + band,\\n                               \\'m_hsc-udeep_\\' + band, \\n                               \\'merr_hsc-udeep_\\' + band,\\n                               \\'flag_hsc-udeep_\\' + band]\\n    old_hsc_deep_columns = [\\'f_hsc-deep_\\' + band,\\n                               \\'ferr_hsc-deep_\\' + band,\\n                               \\'m_hsc-deep_\\' + band, \\n                               \\'merr_hsc-deep_\\' + band,\\n                               \\'flag_hsc-deep_\\' + band]\\n    old_hsc_wide_columns =      [\\'f_hsc-wide_\\' + band,\\n                               \\'ferr_hsc-wide_\\' + band,\\n                               \\'m_hsc-wide_\\' + band, \\n                               \\'merr_hsc-wide_\\' + band,\\n                               \\'flag_hsc-wide_\\' + band]\\n    \\n    old_columns = old_hsc_udeep_columns + old_hsc_deep_columns + old_hsc_wide_columns\\n    master_catalogue.remove_columns(old_columns)\\n\\n    origin = np.full(len(master_catalogue), \\'     \\', dtype=\\'<U5\\')\\n    origin[use_hsc_udeep] = \"HSC-UDEEP\"\\n    origin[use_hsc_deep] = \"HSC-DEEP\"\\n    origin[use_hsc_wide] = \"HSC-WIDE\"\\n    \\n    suprime_origin.add_column(Column(data=origin, name= \\'f_suprime_\\' + band ))\\n    \\n  \\n    # Suprime aperture flux \\n    has_ap_hsc_udeep = ~np.isnan(master_catalogue[\\'f_ap_hsc-udeep_\\' + band])\\n    has_ap_hsc_deep  = ~np.isnan(master_catalogue[\\'f_ap_hsc-deep_\\' + band])\\n    has_ap_hsc_wide  = ~np.isnan(master_catalogue[\\'f_ap_hsc-wide_\\' + band])\\n    \\n\\n    use_ap_hsc_udeep = has_ap_hsc_udeep\\n    use_ap_hsc_deep = has_ap_hsc_deep & ~has_ap_hsc_udeep\\n    use_ap_hsc_wide = has_ap_hsc_wide & ~has_ap_hsc_deep & ~has_ap_hsc_udeep\\n\\n    f_ap_suprime = np.full(len(master_catalogue), np.nan)\\n    f_ap_suprime[use_ap_hsc_udeep] = master_catalogue[\\'f_ap_hsc-udeep_\\' + band][use_ap_hsc_udeep]\\n    f_ap_suprime[use_ap_hsc_deep] = master_catalogue[\\'f_ap_hsc-deep_\\' + band][use_ap_hsc_deep]\\n    f_ap_suprime[use_ap_hsc_wide] = master_catalogue[\\'f_ap_hsc-wide_\\' + band][use_ap_hsc_wide]\\n\\n    ferr_ap_suprime = np.full(len(master_catalogue), np.nan)\\n    ferr_ap_suprime[use_ap_hsc_udeep] = master_catalogue[\\'ferr_ap_hsc-udeep_\\' + band][use_ap_hsc_udeep]\\n    ferr_ap_suprime[use_ap_hsc_deep] = master_catalogue[\\'ferr_ap_hsc-deep_\\' + band][use_ap_hsc_deep]\\n    ferr_ap_suprime[use_ap_hsc_wide] = master_catalogue[\\'ferr_ap_hsc-wide_\\' + band][use_ap_hsc_wide]\\n    \\n    m_ap_suprime = np.full(len(master_catalogue), np.nan)\\n    m_ap_suprime[use_ap_hsc_udeep] = master_catalogue[\\'m_ap_hsc-udeep_\\' + band][use_ap_hsc_udeep]\\n    m_ap_suprime[use_ap_hsc_deep] = master_catalogue[\\'m_ap_hsc-deep_\\' + band][use_ap_hsc_deep]\\n    m_ap_suprime[use_ap_hsc_wide] = master_catalogue[\\'m_ap_hsc-wide_\\' + band][use_ap_hsc_wide]\\n\\n    merr_ap_suprime = np.full(len(master_catalogue), np.nan)\\n    merr_ap_suprime[use_ap_hsc_udeep] = master_catalogue[\\'merr_ap_hsc-udeep_\\' + band][use_ap_hsc_udeep]\\n    merr_ap_suprime[use_ap_hsc_deep] = master_catalogue[\\'merr_ap_hsc-deep_\\' + band][use_ap_hsc_deep]\\n    merr_ap_suprime[use_ap_hsc_wide] = master_catalogue[\\'merr_ap_hsc-wide_\\' + band][use_ap_hsc_wide]\\n\\n\\n    master_catalogue.add_column(Column(data=f_ap_suprime, name=\"f_ap_suprime_\" + band))\\n    master_catalogue.add_column(Column(data=ferr_ap_suprime, name=\"ferr_ap_suprime_\" + band))\\n    master_catalogue.add_column(Column(data=m_ap_suprime, name=\"m_ap_suprime_\" + band))\\n    master_catalogue.add_column(Column(data=merr_ap_suprime, name=\"merr_ap_suprime_\" + band))\\n\\n\\n    old_ap_hsc_udeep_columns = [\\'f_ap_hsc-udeep_\\' + band,\\n                               \\'ferr_ap_hsc-udeep_\\' + band,\\n                               \\'m_ap_hsc-udeep_\\' + band, \\n                               \\'merr_ap_hsc-udeep_\\' + band]\\n    old_ap_hsc_deep_columns = [\\'f_ap_hsc-deep_\\' + band,\\n                               \\'ferr_ap_hsc-deep_\\' + band,\\n                               \\'m_ap_hsc-deep_\\' + band, \\n                               \\'merr_ap_hsc-deep_\\' + band]\\n    old_ap_hsc_wide_columns =      [\\'f_ap_hsc-wide_\\' + band,\\n                               \\'ferr_ap_hsc-wide_\\' + band,\\n                               \\'m_ap_hsc-wide_\\' + band, \\n                               \\'merr_ap_hsc-wide_\\' + band]\\n    \\n    old_ap_columns = old_ap_hsc_udeep_columns + old_ap_hsc_deep_columns + old_ap_hsc_wide_columns\\n    master_catalogue.remove_columns(old_ap_columns)\\n\\n    origin_ap = np.full(len(master_catalogue), \\'     \\', dtype=\\'<U5\\')\\n    origin_ap[use_ap_hsc_udeep] = \"HSC-UDEEP\"\\n    origin_ap[use_ap_hsc_deep] = \"HSC-DEEP\"\\n    origin_ap[use_ap_hsc_wide] = \"HSC-WIDE\"\\n    \\n    suprime_origin.add_column(Column(data=origin_ap, name= \\'f_ap_suprime_\\' + band ))\\n\\n   \\n    suprime_stats[\\'HSC-UDEEP\\'][suprime_stats[\\'Band\\'] == band] = np.sum(has_hsc_udeep)\\n    suprime_stats[\\'HSC-DEEP\\'][suprime_stats[\\'Band\\'] == band] = np.sum(has_hsc_deep)\\n    suprime_stats[\\'HSC-WIDE\\'][suprime_stats[\\'Band\\'] == band] = np.sum(has_hsc_wide)\\n    suprime_stats[\\'use HSC-UDEEP\\'][suprime_stats[\\'Band\\'] == band] = np.sum(use_hsc_udeep)\\n    suprime_stats[\\'use HSC-DEEP\\'][suprime_stats[\\'Band\\'] == band] = np.sum(use_hsc_deep)\\n    suprime_stats[\\'use HSC-WIDE\\'][suprime_stats[\\'Band\\'] == band] = np.sum(use_hsc_wide)\\n    suprime_stats[\\'HSC-UDEEP ap\\'][suprime_stats[\\'Band\\'] == band] = np.sum(has_ap_hsc_udeep)\\n    suprime_stats[\\'HSC-DEEP ap\\'][suprime_stats[\\'Band\\'] == band] = np.sum(has_ap_hsc_deep)\\n    suprime_stats[\\'HSC-WIDE ap\\'][suprime_stats[\\'Band\\'] == band] = np.sum(has_ap_hsc_wide)\\n    suprime_stats[\\'use HSC-UDEEP ap\\'][suprime_stats[\\'Band\\'] == band] = np.sum(use_ap_hsc_udeep)\\n    suprime_stats[\\'use HSC-DEEP ap\\'][suprime_stats[\\'Band\\'] == band] = np.sum(use_ap_hsc_deep)\\n    suprime_stats[\\'use HSC-WIDE ap\\'][suprime_stats[\\'Band\\'] == band] = np.sum(use_ap_hsc_wide)\\n'"
      ]
     },
     "execution_count": 76,
     "metadata": {},
     "output_type": "execute_result"
    }
   ],
   "source": [
    "\"\"\"\n",
    "suprime_bands = ['g','r','i','z','y'] # Lowercase naming convention (k is Ks)\n",
    "for band in suprime_bands:\n",
    "\n",
    "    # Suprime total flux \n",
    "    has_hsc_udeep = ~np.isnan(master_catalogue['f_hsc-udeep_' + band])\n",
    "    has_hsc_deep  = ~np.isnan(master_catalogue['f_hsc-deep_' + band])\n",
    "    has_hsc_wide  = ~np.isnan(master_catalogue['f_hsc-wide_' + band])\n",
    "    \n",
    "\n",
    "    use_hsc_udeep = has_hsc_udeep\n",
    "    use_hsc_deep = has_hsc_deep & ~has_hsc_udeep\n",
    "    use_hsc_wide = has_hsc_wide & ~has_hsc_deep & ~has_hsc_udeep\n",
    "\n",
    "    f_suprime = np.full(len(master_catalogue), np.nan)\n",
    "    f_suprime[use_hsc_udeep] = master_catalogue['f_hsc-udeep_' + band][use_hsc_udeep]\n",
    "    f_suprime[use_hsc_deep] = master_catalogue['f_hsc-deep_' + band][use_hsc_deep]\n",
    "    f_suprime[use_hsc_wide] = master_catalogue['f_hsc-wide_' + band][use_hsc_wide]\n",
    "\n",
    "    ferr_suprime = np.full(len(master_catalogue), np.nan)\n",
    "    ferr_suprime[use_hsc_udeep] = master_catalogue['ferr_hsc-udeep_' + band][use_hsc_udeep]\n",
    "    ferr_suprime[use_hsc_deep] = master_catalogue['ferr_hsc-deep_' + band][use_hsc_deep]\n",
    "    ferr_suprime[use_hsc_wide] = master_catalogue['ferr_hsc-wide_' + band][use_hsc_wide]\n",
    "    \n",
    "    m_suprime = np.full(len(master_catalogue), np.nan)\n",
    "    m_suprime[use_hsc_udeep] = master_catalogue['m_hsc-udeep_' + band][use_hsc_udeep]\n",
    "    m_suprime[use_hsc_deep] = master_catalogue['m_hsc-deep_' + band][use_hsc_deep]\n",
    "    m_suprime[use_hsc_wide] = master_catalogue['m_hsc-wide_' + band][use_hsc_wide]\n",
    "\n",
    "    merr_suprime = np.full(len(master_catalogue), np.nan)\n",
    "    merr_suprime[use_hsc_udeep] = master_catalogue['merr_hsc-udeep_' + band][use_hsc_udeep]\n",
    "    merr_suprime[use_hsc_deep] = master_catalogue['merr_hsc-deep_' + band][use_hsc_deep]\n",
    "    merr_suprime[use_hsc_wide] = master_catalogue['merr_hsc-wide_' + band][use_hsc_wide]\n",
    "\n",
    "    flag_suprime = np.full(len(master_catalogue), False, dtype=bool)\n",
    "    flag_suprime[use_hsc_udeep] = master_catalogue['flag_hsc-udeep_' + band][use_hsc_udeep]\n",
    "    flag_suprime[use_hsc_deep] = master_catalogue['flag_hsc-deep_' + band][use_hsc_deep]\n",
    "    flag_suprime[use_hsc_wide] = master_catalogue['flag_hsc-wide_' + band][use_hsc_wide]\n",
    "\n",
    "    master_catalogue.add_column(Column(data=f_suprime, name=\"f_suprime_\" + band))\n",
    "    master_catalogue.add_column(Column(data=ferr_suprime, name=\"ferr_suprime_\" + band))\n",
    "    master_catalogue.add_column(Column(data=m_suprime, name=\"m_suprime_\" + band))\n",
    "    master_catalogue.add_column(Column(data=merr_suprime, name=\"merr_suprime_\" + band))\n",
    "    master_catalogue.add_column(Column(data=flag_suprime, name=\"flag_suprime_\" + band))\n",
    "\n",
    "    old_hsc_udeep_columns = ['f_hsc-udeep_' + band,\n",
    "                               'ferr_hsc-udeep_' + band,\n",
    "                               'm_hsc-udeep_' + band, \n",
    "                               'merr_hsc-udeep_' + band,\n",
    "                               'flag_hsc-udeep_' + band]\n",
    "    old_hsc_deep_columns = ['f_hsc-deep_' + band,\n",
    "                               'ferr_hsc-deep_' + band,\n",
    "                               'm_hsc-deep_' + band, \n",
    "                               'merr_hsc-deep_' + band,\n",
    "                               'flag_hsc-deep_' + band]\n",
    "    old_hsc_wide_columns =      ['f_hsc-wide_' + band,\n",
    "                               'ferr_hsc-wide_' + band,\n",
    "                               'm_hsc-wide_' + band, \n",
    "                               'merr_hsc-wide_' + band,\n",
    "                               'flag_hsc-wide_' + band]\n",
    "    \n",
    "    old_columns = old_hsc_udeep_columns + old_hsc_deep_columns + old_hsc_wide_columns\n",
    "    master_catalogue.remove_columns(old_columns)\n",
    "\n",
    "    origin = np.full(len(master_catalogue), '     ', dtype='<U5')\n",
    "    origin[use_hsc_udeep] = \"HSC-UDEEP\"\n",
    "    origin[use_hsc_deep] = \"HSC-DEEP\"\n",
    "    origin[use_hsc_wide] = \"HSC-WIDE\"\n",
    "    \n",
    "    suprime_origin.add_column(Column(data=origin, name= 'f_suprime_' + band ))\n",
    "    \n",
    "  \n",
    "    # Suprime aperture flux \n",
    "    has_ap_hsc_udeep = ~np.isnan(master_catalogue['f_ap_hsc-udeep_' + band])\n",
    "    has_ap_hsc_deep  = ~np.isnan(master_catalogue['f_ap_hsc-deep_' + band])\n",
    "    has_ap_hsc_wide  = ~np.isnan(master_catalogue['f_ap_hsc-wide_' + band])\n",
    "    \n",
    "\n",
    "    use_ap_hsc_udeep = has_ap_hsc_udeep\n",
    "    use_ap_hsc_deep = has_ap_hsc_deep & ~has_ap_hsc_udeep\n",
    "    use_ap_hsc_wide = has_ap_hsc_wide & ~has_ap_hsc_deep & ~has_ap_hsc_udeep\n",
    "\n",
    "    f_ap_suprime = np.full(len(master_catalogue), np.nan)\n",
    "    f_ap_suprime[use_ap_hsc_udeep] = master_catalogue['f_ap_hsc-udeep_' + band][use_ap_hsc_udeep]\n",
    "    f_ap_suprime[use_ap_hsc_deep] = master_catalogue['f_ap_hsc-deep_' + band][use_ap_hsc_deep]\n",
    "    f_ap_suprime[use_ap_hsc_wide] = master_catalogue['f_ap_hsc-wide_' + band][use_ap_hsc_wide]\n",
    "\n",
    "    ferr_ap_suprime = np.full(len(master_catalogue), np.nan)\n",
    "    ferr_ap_suprime[use_ap_hsc_udeep] = master_catalogue['ferr_ap_hsc-udeep_' + band][use_ap_hsc_udeep]\n",
    "    ferr_ap_suprime[use_ap_hsc_deep] = master_catalogue['ferr_ap_hsc-deep_' + band][use_ap_hsc_deep]\n",
    "    ferr_ap_suprime[use_ap_hsc_wide] = master_catalogue['ferr_ap_hsc-wide_' + band][use_ap_hsc_wide]\n",
    "    \n",
    "    m_ap_suprime = np.full(len(master_catalogue), np.nan)\n",
    "    m_ap_suprime[use_ap_hsc_udeep] = master_catalogue['m_ap_hsc-udeep_' + band][use_ap_hsc_udeep]\n",
    "    m_ap_suprime[use_ap_hsc_deep] = master_catalogue['m_ap_hsc-deep_' + band][use_ap_hsc_deep]\n",
    "    m_ap_suprime[use_ap_hsc_wide] = master_catalogue['m_ap_hsc-wide_' + band][use_ap_hsc_wide]\n",
    "\n",
    "    merr_ap_suprime = np.full(len(master_catalogue), np.nan)\n",
    "    merr_ap_suprime[use_ap_hsc_udeep] = master_catalogue['merr_ap_hsc-udeep_' + band][use_ap_hsc_udeep]\n",
    "    merr_ap_suprime[use_ap_hsc_deep] = master_catalogue['merr_ap_hsc-deep_' + band][use_ap_hsc_deep]\n",
    "    merr_ap_suprime[use_ap_hsc_wide] = master_catalogue['merr_ap_hsc-wide_' + band][use_ap_hsc_wide]\n",
    "\n",
    "\n",
    "    master_catalogue.add_column(Column(data=f_ap_suprime, name=\"f_ap_suprime_\" + band))\n",
    "    master_catalogue.add_column(Column(data=ferr_ap_suprime, name=\"ferr_ap_suprime_\" + band))\n",
    "    master_catalogue.add_column(Column(data=m_ap_suprime, name=\"m_ap_suprime_\" + band))\n",
    "    master_catalogue.add_column(Column(data=merr_ap_suprime, name=\"merr_ap_suprime_\" + band))\n",
    "\n",
    "\n",
    "    old_ap_hsc_udeep_columns = ['f_ap_hsc-udeep_' + band,\n",
    "                               'ferr_ap_hsc-udeep_' + band,\n",
    "                               'm_ap_hsc-udeep_' + band, \n",
    "                               'merr_ap_hsc-udeep_' + band]\n",
    "    old_ap_hsc_deep_columns = ['f_ap_hsc-deep_' + band,\n",
    "                               'ferr_ap_hsc-deep_' + band,\n",
    "                               'm_ap_hsc-deep_' + band, \n",
    "                               'merr_ap_hsc-deep_' + band]\n",
    "    old_ap_hsc_wide_columns =      ['f_ap_hsc-wide_' + band,\n",
    "                               'ferr_ap_hsc-wide_' + band,\n",
    "                               'm_ap_hsc-wide_' + band, \n",
    "                               'merr_ap_hsc-wide_' + band]\n",
    "    \n",
    "    old_ap_columns = old_ap_hsc_udeep_columns + old_ap_hsc_deep_columns + old_ap_hsc_wide_columns\n",
    "    master_catalogue.remove_columns(old_ap_columns)\n",
    "\n",
    "    origin_ap = np.full(len(master_catalogue), '     ', dtype='<U5')\n",
    "    origin_ap[use_ap_hsc_udeep] = \"HSC-UDEEP\"\n",
    "    origin_ap[use_ap_hsc_deep] = \"HSC-DEEP\"\n",
    "    origin_ap[use_ap_hsc_wide] = \"HSC-WIDE\"\n",
    "    \n",
    "    suprime_origin.add_column(Column(data=origin_ap, name= 'f_ap_suprime_' + band ))\n",
    "\n",
    "   \n",
    "    suprime_stats['HSC-UDEEP'][suprime_stats['Band'] == band] = np.sum(has_hsc_udeep)\n",
    "    suprime_stats['HSC-DEEP'][suprime_stats['Band'] == band] = np.sum(has_hsc_deep)\n",
    "    suprime_stats['HSC-WIDE'][suprime_stats['Band'] == band] = np.sum(has_hsc_wide)\n",
    "    suprime_stats['use HSC-UDEEP'][suprime_stats['Band'] == band] = np.sum(use_hsc_udeep)\n",
    "    suprime_stats['use HSC-DEEP'][suprime_stats['Band'] == band] = np.sum(use_hsc_deep)\n",
    "    suprime_stats['use HSC-WIDE'][suprime_stats['Band'] == band] = np.sum(use_hsc_wide)\n",
    "    suprime_stats['HSC-UDEEP ap'][suprime_stats['Band'] == band] = np.sum(has_ap_hsc_udeep)\n",
    "    suprime_stats['HSC-DEEP ap'][suprime_stats['Band'] == band] = np.sum(has_ap_hsc_deep)\n",
    "    suprime_stats['HSC-WIDE ap'][suprime_stats['Band'] == band] = np.sum(has_ap_hsc_wide)\n",
    "    suprime_stats['use HSC-UDEEP ap'][suprime_stats['Band'] == band] = np.sum(use_ap_hsc_udeep)\n",
    "    suprime_stats['use HSC-DEEP ap'][suprime_stats['Band'] == band] = np.sum(use_ap_hsc_deep)\n",
    "    suprime_stats['use HSC-WIDE ap'][suprime_stats['Band'] == band] = np.sum(use_ap_hsc_wide)\n",
    "\"\"\""
   ]
  },
  {
   "cell_type": "code",
   "execution_count": 77,
   "metadata": {
    "collapsed": true
   },
   "outputs": [],
   "source": [
    "#suprime_stats.show_in_notebook()"
   ]
  },
  {
   "cell_type": "code",
   "execution_count": 78,
   "metadata": {
    "collapsed": true
   },
   "outputs": [],
   "source": [
    "#suprime_origin.write(\"{}/xmm-lss_suprime_fluxes_origins{}.fits\".format(OUT_DIR, SUFFIX))"
   ]
  },
  {
   "cell_type": "markdown",
   "metadata": {},
   "source": [
    "## VIII.a Wavelength domain coverage\n",
    "\n",
    "We add a binary `flag_optnir_obs` indicating that a source was observed in a given wavelength domain:\n",
    "\n",
    "- 1 for observation in optical;\n",
    "- 2 for observation in near-infrared;\n",
    "- 4 for observation in mid-infrared (IRAC).\n",
    "\n",
    "It's an integer binary flag, so a source observed both in optical and near-infrared by not in mid-infrared would have this flag at 1 + 2 = 3.\n",
    "\n",
    "*Note 1: The observation flag is based on the creation of multi-order coverage maps from the catalogues, this may not be accurate, especially on the edges of the coverage.*\n",
    "\n",
    "*Note 2: Being on the observation coverage does not mean having fluxes in that wavelength domain. For sources observed in one domain but having no flux in it, one must take into consideration the different depths in the catalogue we are using.*"
   ]
  },
  {
   "cell_type": "code",
   "execution_count": 79,
   "metadata": {
    "collapsed": true
   },
   "outputs": [],
   "source": [
    "candels_moc =   MOC(filename=\"../../dmu0/dmu0_CANDELS-3D-HST/data/CANDELS-3D-HST_XMM-LSS_MOC.fits\") # 1.1\n",
    "cfht_wirds_moc =  MOC(filename=\"../../dmu0/dmu0_CFHT-WIRDS/data/XMM-LSS_Ks-priors_MOC.fits\")        # 1.3\n",
    "cfhtls_wide_moc = MOC(filename=\"../../dmu0/dmu0_CFHTLS/data/CFHTLS-WIDE_XMM-LSS_MOC.fits\")          # 1.4a\n",
    "cfhtls_deep_moc = MOC(filename=\"../../dmu0/dmu0_CFHTLS/data/CFHTLS-DEEP_XMM-LSS_MOC.fits\")          # 1.4b\n",
    "cfhtls_moc = cfhtls_wide_moc + cfhtls_deep_moc\n",
    "#cfhtlens_moc = MOC(filename=\"../../dmu0/dmu0_CFHTLenS/data/CFHTLenS_XMM-LSS_MOC.fits\")              # 1.5\n",
    "decals_moc =  MOC(filename=\"../../dmu0/dmu0_DECaLS/data/DECaLS_XMM-LSS_MOC.fits\")                   # 1.6\n",
    "servs_moc = MOC(filename=\"../../dmu0/dmu0_DataFusion-Spitzer/data/DF-SERVS_XMM-LSS_MOC.fits\")       # 1.8\n",
    "swire_moc = MOC(filename=\"../../dmu0/dmu0_DataFusion-Spitzer/data/DF-SWIRE_XMM-LSS_MOC.fits\")       # 1.7\n",
    "hsc_wide_moc = MOC(filename=\"../../dmu0/dmu0_HSC/data/HSC-PDR1_wide_XMM-LSS_MOC.fits\")              # 1.9a\n",
    "hsc_deep_moc = MOC(filename=\"../../dmu0/dmu0_HSC/data/HSC-PDR1_deep_XMM-LSS_MOC.fits\")              # 1.9b\n",
    "hsc_udeep_moc = MOC(filename=\"../../dmu0/dmu0_HSC/data/HSC-PDR1_uDeep_XMM-LSS_MOC.fits\")            # 1.9c\n",
    "hsc_moc = hsc_wide_moc + hsc_deep_moc + hsc_udeep_moc\n",
    "ps1_moc = MOC(filename=\"../../dmu0/dmu0_PanSTARRS1-3SS/data/PanSTARRS1-3SS_XMM-LSS_MOC.fits\")       # 1.10\n",
    "sxds_moc = MOC(filename=\"../../dmu0/dmu0_SXDS/data/dmu0_SXDS_MOC.fits\")                             # 1.11\n",
    "sparcs_moc = MOC(filename=\"../../dmu0/dmu0_SpARCS/data/SpARCS_HELP_XMM-LSS_MOC.fits\")               # 1.12\n",
    "dxs_moc = MOC(filename=\"../../dmu0/dmu0_UKIDSS-DXS_DR10plus/data/UKIDSS-DR10plus_XMM-LSS_MOC.fits\") # 1.13\n",
    "uds_moc =  MOC(filename=\"../../dmu0/dmu0_UKIDSS-UDS/data/UKIDSS-UDS_XMM-LSS_MOC.fits\")              # 1.14\n",
    "vipers_moc =  MOC(filename=\"../../dmu0/dmu0_VIPERS-MLS/data/VIPERS-MLS_20160502_MOC.fits\")          # 1.15\n",
    "vhs_moc =   MOC(filename=\"../../dmu0/dmu0_VISTA-VHS/data/VHS_XMM-LSS_MOC.fits\")                     # 1.16\n",
    "video_moc =  MOC(filename=\"../../dmu0/dmu0_VISTA-VIDEO-private/data/VIDEO-all_2016-04-14_fullcat_errfix_XMM-LSS_MOC.fits\")         # 1.17\n",
    "viking_moc = MOC(filename=\"../../dmu0/dmu0_VISTA-VIKING/data/VIKING_XMM-LSS_MOC.fits\")              # 1.18"
   ]
  },
  {
   "cell_type": "code",
   "execution_count": 80,
   "metadata": {
    "collapsed": true
   },
   "outputs": [],
   "source": [
    "was_observed_optical = inMoc(\n",
    "    master_catalogue['ra'], master_catalogue['dec'],\n",
    "    (candels_moc + \n",
    "     cfht_wirds_moc + \n",
    "     cfhtls_moc + \n",
    "     #cfhtlens_moc + \n",
    "     sparcs_moc + \n",
    "     decals_moc + \n",
    "     hsc_moc + \n",
    "     ps1_moc) )\n",
    "\n",
    "was_observed_nir = inMoc(\n",
    "    master_catalogue['ra'], master_catalogue['dec'],\n",
    "    dxs_moc + uds_moc + vhs_moc + video_moc + viking_moc\n",
    ")\n",
    "\n",
    "was_observed_mir = inMoc(\n",
    "    master_catalogue['ra'], master_catalogue['dec'],\n",
    "    servs_moc + swire_moc\n",
    ")"
   ]
  },
  {
   "cell_type": "code",
   "execution_count": 81,
   "metadata": {
    "collapsed": true
   },
   "outputs": [],
   "source": [
    "master_catalogue.add_column(\n",
    "    Column(\n",
    "        1 * was_observed_optical + 2 * was_observed_nir + 4 * was_observed_mir,\n",
    "        name=\"flag_optnir_obs\")\n",
    ")"
   ]
  },
  {
   "cell_type": "markdown",
   "metadata": {},
   "source": [
    "## VIII.b Wavelength domain detection\n",
    "\n",
    "We add a binary `flag_optnir_det` indicating that a source was detected in a given wavelength domain:\n",
    "\n",
    "- 1 for detection in optical;\n",
    "- 2 for detection in near-infrared;\n",
    "- 4 for detection in mid-infrared (IRAC).\n",
    "\n",
    "It's an integer binary flag, so a source detected both in optical and near-infrared by not in mid-infrared would have this flag at 1 + 2 = 3.\n",
    "\n",
    "*Note 1: We use the total flux columns to know if the source has flux, in some catalogues, we may have aperture flux and no total flux.*\n",
    "\n",
    "To get rid of artefacts (chip edges, star flares, etc.) we consider that a source is detected in one wavelength domain when it has a flux value in **at least two bands**. That means that good sources will be excluded from this flag when they are on the coverage of only one band."
   ]
  },
  {
   "cell_type": "code",
   "execution_count": 82,
   "metadata": {
    "collapsed": true
   },
   "outputs": [],
   "source": [
    "# SpARCS is a catalogue of sources detected in r (with fluxes measured at \n",
    "# this prior position in the other bands).  Thus, we are only using the r\n",
    "# CFHT band.\n",
    "# Check to use catalogue flags from HSC and PanSTARRS.\n",
    "nb_optical_flux = np.zeros(len(master_catalogue), dtype=float)\n",
    "\n",
    "nb_nir_flux = np.zeros(len(master_catalogue), dtype=float)\n",
    "\n",
    "nb_mir_flux = np.zeros(len(master_catalogue), dtype=float)"
   ]
  },
  {
   "cell_type": "code",
   "execution_count": 83,
   "metadata": {
    "collapsed": true
   },
   "outputs": [],
   "source": [
    "has_optical_flux = nb_optical_flux >= 2\n",
    "has_nir_flux = nb_nir_flux >= 2\n",
    "has_mir_flux = nb_mir_flux >= 2\n",
    "\n",
    "master_catalogue.add_column(\n",
    "    Column(\n",
    "        1 * has_optical_flux + 2 * has_nir_flux + 4 * has_mir_flux,\n",
    "        name=\"flag_optnir_det\")\n",
    ")"
   ]
  },
  {
   "cell_type": "markdown",
   "metadata": {},
   "source": [
    "## IX - Cross-identification table\n",
    "\n",
    "We are producing a table associating to each HELP identifier, the identifiers of the sources in the pristine catalogues. This can be used to easily get additional information from them.\n",
    "\n",
    "For convenience, we also cross-match the master list with the SDSS catalogue and add the objID associated with each source, if any. **TODO: should we correct the astrometry with respect to Gaia positions?**"
   ]
  },
  {
   "cell_type": "code",
   "execution_count": 84,
   "metadata": {},
   "outputs": [
    {
     "name": "stdout",
     "output_type": "stream",
     "text": [
      "8 master list rows had multiple associations.\n"
     ]
    }
   ],
   "source": [
    "#\n",
    "# Addind SDSS ids\n",
    "#\n",
    "sdss = Table.read(\"../../dmu0/dmu0_SDSS-DR13/data/SDSS-DR13_XMM-LSS.fits\")['objID', 'ra', 'dec']\n",
    "sdss_coords = SkyCoord(sdss['ra'] * u.deg, sdss['dec'] * u.deg)\n",
    "idx_ml, d2d, _ = sdss_coords.match_to_catalog_sky(SkyCoord(master_catalogue['ra'], master_catalogue['dec']))\n",
    "idx_sdss = np.arange(len(sdss))\n",
    "\n",
    "# Limit the cross-match to 1 arcsec\n",
    "mask = d2d <= 1. * u.arcsec\n",
    "idx_ml = idx_ml[mask]\n",
    "idx_sdss = idx_sdss[mask]\n",
    "d2d = d2d[mask]\n",
    "nb_orig_matches = len(idx_ml)\n",
    "\n",
    "# In case of multiple associations of one master list object to an SDSS object, we keep only the\n",
    "# association to the nearest one.\n",
    "sort_idx = np.argsort(d2d)\n",
    "idx_ml = idx_ml[sort_idx]\n",
    "idx_sdss = idx_sdss[sort_idx]\n",
    "_, unique_idx = np.unique(idx_ml, return_index=True)\n",
    "idx_ml = idx_ml[unique_idx]\n",
    "idx_sdss = idx_sdss[unique_idx]\n",
    "print(\"{} master list rows had multiple associations.\".format(nb_orig_matches - len(idx_ml)))\n",
    "\n",
    "# Adding the ObjID to the master list\n",
    "master_catalogue.add_column(Column(data=np.full(len(master_catalogue), -1, dtype='>i8'), name=\"sdss_id\"))\n",
    "master_catalogue['sdss_id'][idx_ml] = sdss['objID'][idx_sdss]"
   ]
  },
  {
   "cell_type": "code",
   "execution_count": 85,
   "metadata": {},
   "outputs": [
    {
     "name": "stdout",
     "output_type": "stream",
     "text": [
      "['ps1_id', 'candels_id', 'wirds_intid', 'cfhtls-wide_id', 'cfhtls-deep_id', 'hsc-wide_id', 'hsc-deep_id', 'hsc-udeep_id', 'decals_id', 'sparcs_intid', 'sxds_b_id', 'dxs_id', 'uds_id', 'vipers_id', 'video_id', 'vhs_id', 'viking_id', 'servs_intid', 'swire_intid', 'help_id', 'specz_id', 'sdss_id']\n"
     ]
    }
   ],
   "source": [
    "id_names = []\n",
    "for col in master_catalogue.colnames:\n",
    "    if '_id' in col:\n",
    "        id_names += [col]\n",
    "    if '_intid' in col:\n",
    "        id_names += [col]\n",
    "        \n",
    "print(id_names)\n"
   ]
  },
  {
   "cell_type": "code",
   "execution_count": 86,
   "metadata": {
    "collapsed": true
   },
   "outputs": [],
   "source": [
    "master_catalogue[id_names].write(\n",
    "    \"{}/master_list_cross_ident_xmm-lss_low-memory{}.fits\".format(OUT_DIR, SUFFIX), overwrite=True)\n",
    "id_names.remove('help_id')\n",
    "#master_catalogue.remove_columns(id_names)"
   ]
  },
  {
   "cell_type": "markdown",
   "metadata": {},
   "source": [
    "## X - Adding HEALPix index\n",
    "\n",
    "We are adding a column with a HEALPix index at order 13 associated with each source."
   ]
  },
  {
   "cell_type": "code",
   "execution_count": 87,
   "metadata": {
    "collapsed": true
   },
   "outputs": [],
   "source": [
    "master_catalogue.add_column(Column(\n",
    "    data=coords_to_hpidx(master_catalogue['ra'], master_catalogue['dec'], order=13),\n",
    "    name=\"hp_idx\"\n",
    "))"
   ]
  },
  {
   "cell_type": "markdown",
   "metadata": {},
   "source": [
    "## XI - Saving the catalogue"
   ]
  },
  {
   "cell_type": "code",
   "execution_count": 88,
   "metadata": {
    "collapsed": true
   },
   "outputs": [],
   "source": [
    "columns = [\"help_id\", \"field\", \"ra\", \"dec\", \"hp_idx\"]\n",
    "\n",
    "bands = [column[5:] for column in master_catalogue.colnames if 'f_ap' in column]\n",
    "for band in bands:\n",
    "    columns += [\"f_ap_{}\".format(band), \"ferr_ap_{}\".format(band),\n",
    "                \"m_ap_{}\".format(band), \"merr_ap_{}\".format(band),\n",
    "                \"f_{}\".format(band), \"ferr_{}\".format(band),\n",
    "                \"m_{}\".format(band), \"merr_{}\".format(band),\n",
    "                \"flag_{}\".format(band)]    \n",
    "    \n",
    "columns += [\"stellarity\", \"stellarity_origin\", \"flag_cleaned\", \"flag_merged\", \"flag_gaia\", \"flag_optnir_obs\", \"flag_optnir_det\", \n",
    "            \"zspec\", \"zspec_qual\", \"zspec_association_flag\", \"ebv\"]"
   ]
  },
  {
   "cell_type": "code",
   "execution_count": 89,
   "metadata": {},
   "outputs": [
    {
     "name": "stdout",
     "output_type": "stream",
     "text": [
      "Missing columns: {'specz_id', 'vhs_id', 'swire_intid', 'uds_id', 'ps1_id', 'servs_intid', 'dxs_id', 'cfhtls-deep_id', 'decals_id', 'vipers_id', 'hsc-udeep_id', 'video_id', 'sxds_b_id', 'hsc-deep_id', 'wirds_intid', 'sdss_id', 'viking_id', 'sparcs_intid', 'hsc-wide_id', 'candels_id', 'cfhtls-wide_id'}\n"
     ]
    }
   ],
   "source": [
    "# We check for columns in the master catalogue that we will not save to disk.\n",
    "print(\"Missing columns: {}\".format(set(master_catalogue.colnames) - set(columns)))"
   ]
  },
  {
   "cell_type": "code",
   "execution_count": 90,
   "metadata": {
    "collapsed": true
   },
   "outputs": [],
   "source": [
    "master_catalogue[columns].write(\"{}/master_catalogue_xmm-lss_low-memory{}.fits\".format(OUT_DIR, SUFFIX), overwrite=True)"
   ]
  },
  {
   "cell_type": "markdown",
   "metadata": {},
   "source": [
    "## XII - folding in the photometry\n",
    "On XMM-LSS there is too much data to load all in to memory at once so we perform the cross matching without photometry columns. Only now do we fold in the photometry data by first cutting the catalogue up in to manageable sizes."
   ]
  },
  {
   "cell_type": "code",
   "execution_count": 92,
   "metadata": {},
   "outputs": [
    {
     "name": "stdout",
     "output_type": "stream",
     "text": [
      "19\n"
     ]
    }
   ],
   "source": [
    "split_length = 10000 #number of sources to include in every sub catalogue\n",
    "num_files = int(np.ceil(len(master_catalogue)/split_length))\n",
    "print(num_files)\n"
   ]
  },
  {
   "cell_type": "code",
   "execution_count": 95,
   "metadata": {},
   "outputs": [],
   "source": [
    "surveys = [\n",
    "    ['candels',      \"CANDELS.fits\"],\n",
    "    ['cfht_wirds',   \"CFHT-WIRDS.fits\"],\n",
    "    ['cfhtls_wide',  \"CFHTLS-WIDE.fits\"],\n",
    "    ['cfhtls_deep',  \"CFHTLS-DEEP.fits\"],\n",
    "    ['decals',       \"DECaLS.fits\"],\n",
    "    ['servs',        \"SERVS.fits\"],\n",
    "    ['swire',        \"SWIRE.fits\"],             \n",
    "    ['hsc_wide ',    \"HSC-WIDE.fits\"],\n",
    "    ['hsc_deep',     \"HSC-DEEP.fits\"],\n",
    "    ['hsc_udeep',    \"HSC-UDEEP.fits\"],      \n",
    "    ['ps1',          \"PS1.fits\"],                  \n",
    "    ['sxds',         \"SXDS.fits\"],               \n",
    "    ['sparcs',       \"SpARCS.fits\"],           \n",
    "    ['dxs',          \"UKIDSS-DXS.fits\"],          \n",
    "    ['uds',          \"UKIDSS-UDS.fits\"],          \n",
    "    ['vipers',       \"VIPERS.fits\"],           \n",
    "    ['vhs',          \"VISTA-VHS.fits\"],           \n",
    "    ['video',        \"VISTA-VIDEO.fits\"],       \n",
    "    ['viking',       \"VISTA-VIKING.fits\"]]     "
   ]
  },
  {
   "cell_type": "code",
   "execution_count": null,
   "metadata": {},
   "outputs": [
    {
     "name": "stderr",
     "output_type": "stream",
     "text": [
      "WARNING: MergeConflictWarning: Cannot merge meta key 'EXTNAME' types <class 'str'> and <class 'str'>, choosing EXTNAME='/Users/rs548/GitHub/dmu_products/dmu1/dmu1_ml_XMM-LSS/data_tmp/CF...' [astropy.utils.metadata]\n",
      "WARNING: MergeConflictWarning: Cannot merge meta key 'DATE-HDU' types <class 'str'> and <class 'str'>, choosing DATE-HDU='2017-10-26T17:44:50' [astropy.utils.metadata]\n"
     ]
    }
   ],
   "source": [
    "n=0\n",
    "for sub_file in range(num_files):\n",
    "    \n",
    "    sub_catalogue = master_catalogue[n*split_length:(n+1)*split_length-1]\n",
    "    \n",
    "    for survey in surveys:\n",
    "        sub_catalogue = join(sub_catalogue, \n",
    "                               Table.read(\"{}/{}\".format(TMP_DIR, survey[1])),\n",
    "                               join_type='left')\n",
    "    #sub_catalogue.remove_columns(id_names)\n",
    "    sub_catalogue.write(\"{}/master_catalogue_xmm-lss_low-memory{}_{}.fits\".format(OUT_DIR, SUFFIX, n), overwrite=True)\n",
    "    n += 1"
   ]
  },
  {
   "cell_type": "code",
   "execution_count": null,
   "metadata": {
    "collapsed": true
   },
   "outputs": [],
   "source": [
    "sub_catalogue[:10].show_in_notebook()"
   ]
  }
 ],
 "metadata": {
  "kernelspec": {
   "display_name": "Python (herschelhelp_internal)",
   "language": "python",
   "name": "helpint"
  },
  "language_info": {
   "codemirror_mode": {
    "name": "ipython",
    "version": 3
   },
   "file_extension": ".py",
   "mimetype": "text/x-python",
   "name": "python",
   "nbconvert_exporter": "python",
   "pygments_lexer": "ipython3",
   "version": "3.6.1"
  }
 },
 "nbformat": 4,
 "nbformat_minor": 2
}
