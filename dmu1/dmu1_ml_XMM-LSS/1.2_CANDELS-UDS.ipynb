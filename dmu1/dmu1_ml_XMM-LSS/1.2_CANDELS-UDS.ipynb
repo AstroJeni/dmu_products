{
 "cells": [
  {
   "cell_type": "markdown",
   "metadata": {},
   "source": [
    "# XMM-LSS master catalogue\n",
    "## Preparation of HST CANDELS-UDS data\n",
    "\n",
    "The UDS survey appears to be a cross match between CANDELS-3D-HST with various other multiwavelength catalogues that we are already including across XMM-LSS. I therefore choose not to use it here."
   ]
  }
 ],
 "metadata": {
  "anaconda-cloud": {},
  "kernelspec": {
   "display_name": "Python (herschelhelp_internal)",
   "language": "python",
   "name": "helpint"
  },
  "language_info": {
   "codemirror_mode": {
    "name": "ipython",
    "version": 3
   },
   "file_extension": ".py",
   "mimetype": "text/x-python",
   "name": "python",
   "nbconvert_exporter": "python",
   "pygments_lexer": "ipython3",
   "version": "3.6.1"
  }
 },
 "nbformat": 4,
 "nbformat_minor": 1
}
