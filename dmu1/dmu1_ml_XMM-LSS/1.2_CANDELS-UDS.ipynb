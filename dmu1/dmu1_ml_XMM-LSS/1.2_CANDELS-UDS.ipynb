{
 "cells": [
  {
   "cell_type": "markdown",
   "metadata": {},
   "source": [
    "# XMM-LSS master catalogue\n",
    "## Preparation of HST CANDELS-UDS data\n",
    "\n",
    "The UDS survey appears to be a cross match between CANDELS-3D-HST with various other multiwavelength catalogues that we are already including across XMM-LSS. We use this catalogue since these forced photometries are for onjects at much greater depths than the blod catalogues. \n",
    "\n",
    "CANDELS-UDS catalogue: the catalogue comes from `dmu0_CANDELS-UDS`.\n",
    "\n",
    "In the catalogue, we keep:\n",
    "\n",
    "- The identifier (it's unique in the catalogue);\n",
    "- The position;\n",
    "- The stellarity;\n",
    "- The total magnitude.\n",
    "\n",
    "We don't know when the maps have been observed. We will use the year of the reference paper."
   ]
  },
  {
   "cell_type": "code",
   "execution_count": 1,
   "metadata": {},
   "outputs": [
    {
     "name": "stdout",
     "output_type": "stream",
     "text": [
      "This notebook was run with herschelhelp_internal version: \n",
      "0246c5d (Thu Jan 25 17:01:47 2018 +0000)\n"
     ]
    }
   ],
   "source": [
    "from herschelhelp_internal import git_version\n",
    "print(\"This notebook was run with herschelhelp_internal version: \\n{}\".format(git_version()))"
   ]
  },
  {
   "cell_type": "code",
   "execution_count": 2,
   "metadata": {},
   "outputs": [
    {
     "name": "stderr",
     "output_type": "stream",
     "text": [
      "/Users/rs548/anaconda/envs/herschelhelp_internal/lib/python3.6/site-packages/seaborn/apionly.py:6: UserWarning: As seaborn no longer sets a default style on import, the seaborn.apionly module is deprecated. It will be removed in a future version.\n",
      "  warnings.warn(msg, UserWarning)\n"
     ]
    }
   ],
   "source": [
    "%matplotlib inline\n",
    "#%config InlineBackend.figure_format = 'svg'\n",
    "\n",
    "import matplotlib.pyplot as plt\n",
    "plt.rc('figure', figsize=(10, 6))\n",
    "\n",
    "from collections import OrderedDict\n",
    "import os\n",
    "\n",
    "from astropy import units as u\n",
    "from astropy.coordinates import SkyCoord\n",
    "from astropy.table import Column, Table\n",
    "import numpy as np\n",
    "\n",
    "from herschelhelp_internal.flagging import  gaia_flag_column\n",
    "from herschelhelp_internal.masterlist import nb_astcor_diag_plot, remove_duplicates\n",
    "from herschelhelp_internal.utils import astrometric_correction, flux_to_mag"
   ]
  },
  {
   "cell_type": "code",
   "execution_count": 3,
   "metadata": {
    "collapsed": true
   },
   "outputs": [],
   "source": [
    "OUT_DIR =  os.environ.get('TMP_DIR', \"./data_tmp\")\n",
    "try:\n",
    "    os.makedirs(OUT_DIR)\n",
    "except FileExistsError:\n",
    "    pass\n",
    "\n",
    "RA_COL = \"candels_ra\"\n",
    "DEC_COL = \"candels_dec\""
   ]
  },
  {
   "cell_type": "markdown",
   "metadata": {},
   "source": [
    "## I - Column selection"
   ]
  },
  {
   "cell_type": "code",
   "execution_count": null,
   "metadata": {
    "collapsed": true
   },
   "outputs": [],
   "source": [
    "imported_columns = OrderedDict({\n",
    "        'ID': \"candels_id\",\n",
    "        'RA': \"candels_ra\",\n",
    "        'DEC': \"candels_dec\",\n",
    "        'CLASS_STAR':  \"candels_stellarity\",\n",
    "    #HST data\n",
    " \n",
    "        'Flux_F606W_hst': \"f_acs_f606w\", \n",
    "        'FLuxerr_F606_hst': \"ferr_acs_f606w\", \n",
    "        'Flux_F814W_hst': \"f_acs_f814w\", \n",
    "        'FLuxerr_F814W_hst': \"ferr_acs_f814w\", \n",
    "\n",
    "        'Flux_F125W_hst': \"f_wfc3_f125w\", \n",
    "        'FLuxerr_F125W_hst': \"ferr_wfc3_f125w\", \n",
    "        'Flux_F160W_hst': \"f_wfc3_f160w\", \n",
    "        'FLuxerr_F160W_hst': \"ferr_wfc3_f160w\", \n",
    "\n",
    "    \n",
    "    # Suprime B, V, Rc, ip, zp - ip and zp are labelled with prime so as not to be confused with hsc i and z\n",
    "    \n",
    "    #HAWKI WIRCAM\n",
    "        'HAWKI_KS_FLUX': \"f_hawki_k\",# 33 WIRCAM_K_FLUX Flux density (in μJy) in the Ks-band (CFHT/WIRCam) (3)\n",
    "        'HAWKI_KS_FLUXERR': \"ferr_hawki_k\",# 34 WIRCAM_K_FLUXERR \n",
    "    \n",
    "    # UKIDSS J, H, K\n",
    "    \n",
    "    \n",
    "    \n",
    "    #Spitzer/IRAC\n",
    "        'IRAC_CH1_FLUX': \"f_candels-irac_i1\",# 47 IRAC_CH1_FLUX Flux density (in μJy) in the 3.6μm-band (Spitzer/IRAC) (3)\n",
    "        'IRAC_CH1_FLUXERR': \"ferr_candels-irac_i1\",# 48 IRAC_CH1_FLUXERR Flux uncertainty (in μJy) in the 3.6μm-band (Spitzer/IRAC) (3)\n",
    "        'IRAC_CH2_FLUX': \"f_candels-irac_i2\",# 49 IRAC_CH2_FLUX Flux density (in μJy) in the 4.5μm-band (Spitzer/IRAC) (3)\n",
    "        'IRAC_CH2_FLUXERR': \"ferr_candels-irac_i2\",# 50 IRAC_CH2_FLUXERR Flux uncertainty (in μJy) in the 4.5μm-band (Spitzer/IRAC) (3)\n",
    "        'IRAC_CH3_FLUX': \"f_candels-irac_i3\",# 51 IRAC_CH3_FLUX Flux density (in μJy) in the 5.8μm-band (Spitzer/IRAC) (3)\n",
    "        'IRAC_CH3_FLUXERR': \"ferr_candels-irac_i3\",# 52 IRAC_CH3_FLUXERR Flux uncertainty (in μJy) in the 5.8μm-band (Spitzer/IRAC) (3)\n",
    "        'IRAC_CH4_FLUX': \"f_candels-irac_i4\",# 53 IRAC_CH4_FLUX Flux density (in μJy) in the 8.0μm-band (Spitzer/IRAC) (3)\n",
    "        'IRAC_CH4_FLUXERR': \"ferr_candels-irac_i4\"# 54 IRAC_CH4_FLUXERR\n",
    "    \n",
    "    \n",
    "    })\n",
    "\n",
    "\n",
    "catalogue = Table.read(\"../../dmu0/dmu0_CANDELS-UDS/data/hlsp_candels_hst_uds-tot-multiband_f160w_v1_cat.fits\")[list(imported_columns)]\n",
    "for column in imported_columns:\n",
    "    catalogue[column].name = imported_columns[column]\n",
    "\n",
    "epoch = 2011\n",
    "\n",
    "# Clean table metadata\n",
    "catalogue.meta = None"
   ]
  },
  {
   "cell_type": "code",
   "execution_count": null,
   "metadata": {},
   "outputs": [],
   "source": [
    "# Adding flux and band-flag columns\n",
    "for col in catalogue.colnames:\n",
    "    if col.startswith('f_'):\n",
    "        \n",
    "        errcol = \"ferr{}\".format(col[1:])\n",
    "        \n",
    "        # Some object have a magnitude to 0, we suppose this means missing value\n",
    "        mask = np.isclose(catalogue[col], -99.) \n",
    "        catalogue[col][mask] = np.nan\n",
    "        catalogue[errcol][mask] = np.nan  \n",
    "        \n",
    "\n",
    "        mag, error = flux_to_mag(np.array(catalogue[col])*1.e-6, np.array(catalogue[errcol])*1.e-6)\n",
    "        \n",
    "        # Fluxes are added in µJy\n",
    "        catalogue.add_column(Column(mag, name=\"m{}\".format(col[1:])))\n",
    "        catalogue.add_column(Column(error, name=\"m{}\".format(errcol[1:])))\n",
    "        \n",
    "\n",
    "        \n",
    "        # Band-flag column\n",
    "        if \"ap\" not in col:\n",
    "            catalogue.add_column(Column(np.zeros(len(catalogue), dtype=bool), name=\"flag{}\".format(col[1:])))\n",
    "        \n",
    "catalogue['candels_stellarity'] = catalogue['candels_stellarity'].astype(float)"
   ]
  },
  {
   "cell_type": "code",
   "execution_count": null,
   "metadata": {},
   "outputs": [],
   "source": [
    "catalogue[:10].show_in_notebook()"
   ]
  },
  {
   "cell_type": "markdown",
   "metadata": {},
   "source": [
    "## II - Removal of duplicated sources"
   ]
  },
  {
   "cell_type": "markdown",
   "metadata": {},
   "source": [
    "We remove duplicated objects from the input catalogues."
   ]
  },
  {
   "cell_type": "code",
   "execution_count": null,
   "metadata": {},
   "outputs": [],
   "source": [
    "SORT_COLS = [\"ferr_acs_f435w\",\"ferr_acs_f606w\",\"ferr_acs_f775w\",\"ferr_acs_f814w\",\"ferr_acs_f850lp\",    \n",
    "             \"ferr_wfc3_f098m\",\"ferr_wfc3_f105w\",\"ferr_wfc3_f125w\",\"ferr_wfc3_f160w\",    \n",
    "             \"ferr_isaac_k\",\"ferr_hawki_k\",    \n",
    "             \"ferr_candels-irac_i1\",\"ferr_candels-irac_i2\",\"ferr_candels-irac_i3\",\"ferr_candels-irac_i4\"]\n",
    "FLAG_NAME = 'candels_flag_cleaned'\n",
    "\n",
    "nb_orig_sources = len(catalogue)\n",
    "\n",
    "catalogue = remove_duplicates(catalogue, RA_COL, DEC_COL, sort_col=SORT_COLS,flag_name=FLAG_NAME)\n",
    "\n",
    "nb_sources = len(catalogue)\n",
    "\n",
    "print(\"The initial catalogue had {} sources.\".format(nb_orig_sources))\n",
    "print(\"The cleaned catalogue has {} sources ({} removed).\".format(nb_sources, nb_orig_sources - nb_sources))\n",
    "print(\"The cleaned catalogue has {} sources flagged as having been cleaned\".format(np.sum(catalogue[FLAG_NAME])))"
   ]
  },
  {
   "cell_type": "markdown",
   "metadata": {},
   "source": [
    "## III - Astrometry correction\n",
    "\n",
    "We match the astrometry to the Gaia one. We limit the Gaia catalogue to sources with a g band flux between the 30th and the 70th percentile. Some quick tests show that this give the lower dispersion in the results."
   ]
  },
  {
   "cell_type": "code",
   "execution_count": null,
   "metadata": {
    "collapsed": true
   },
   "outputs": [],
   "source": [
    "gaia = Table.read(\"../../dmu0/dmu0_GAIA/data/GAIA_CDFS-SWIRE.fits\")\n",
    "gaia_coords = SkyCoord(gaia['ra'], gaia['dec'])"
   ]
  },
  {
   "cell_type": "code",
   "execution_count": null,
   "metadata": {},
   "outputs": [],
   "source": [
    "nb_astcor_diag_plot(catalogue[RA_COL], catalogue[DEC_COL], \n",
    "                    gaia_coords.ra, gaia_coords.dec)"
   ]
  },
  {
   "cell_type": "code",
   "execution_count": null,
   "metadata": {},
   "outputs": [],
   "source": [
    "delta_ra, delta_dec =  astrometric_correction(\n",
    "    SkyCoord(catalogue[RA_COL], catalogue[DEC_COL]),\n",
    "    gaia_coords\n",
    ")\n",
    "\n",
    "print(\"RA correction: {}\".format(delta_ra))\n",
    "print(\"Dec correction: {}\".format(delta_dec))"
   ]
  },
  {
   "cell_type": "code",
   "execution_count": null,
   "metadata": {
    "collapsed": true
   },
   "outputs": [],
   "source": [
    "catalogue[RA_COL].unit = u.deg\n",
    "catalogue[DEC_COL].unit = u.deg\n",
    "catalogue[RA_COL] = catalogue[RA_COL] +  delta_ra.to(u.deg)\n",
    "catalogue[DEC_COL] = catalogue[DEC_COL] + delta_dec.to(u.deg)"
   ]
  },
  {
   "cell_type": "code",
   "execution_count": null,
   "metadata": {},
   "outputs": [],
   "source": [
    "nb_astcor_diag_plot(catalogue[RA_COL], catalogue[DEC_COL], \n",
    "                    gaia_coords.ra, gaia_coords.dec)"
   ]
  },
  {
   "cell_type": "markdown",
   "metadata": {},
   "source": [
    "## IV - Flagging Gaia objects"
   ]
  },
  {
   "cell_type": "code",
   "execution_count": null,
   "metadata": {
    "collapsed": true
   },
   "outputs": [],
   "source": [
    "catalogue.add_column(\n",
    "    gaia_flag_column(SkyCoord(catalogue[RA_COL], catalogue[DEC_COL]), epoch, gaia)\n",
    ")"
   ]
  },
  {
   "cell_type": "code",
   "execution_count": null,
   "metadata": {},
   "outputs": [],
   "source": [
    "GAIA_FLAG_NAME = \"candels_flag_gaia\"\n",
    "\n",
    "catalogue['flag_gaia'].name = GAIA_FLAG_NAME\n",
    "print(\"{} sources flagged.\".format(np.sum(catalogue[GAIA_FLAG_NAME] > 0)))"
   ]
  },
  {
   "cell_type": "markdown",
   "metadata": {},
   "source": [
    "# V - Saving to disk"
   ]
  },
  {
   "cell_type": "code",
   "execution_count": null,
   "metadata": {
    "collapsed": true
   },
   "outputs": [],
   "source": [
    "catalogue.write(\"{}/CANDELS.fits\".format(OUT_DIR), overwrite=True)"
   ]
  }
 ],
 "metadata": {
  "anaconda-cloud": {},
  "kernelspec": {
   "display_name": "Python (herschelhelp_internal)",
   "language": "python",
   "name": "helpint"
  },
  "language_info": {
   "codemirror_mode": {
    "name": "ipython",
    "version": 3
   },
   "file_extension": ".py",
   "mimetype": "text/x-python",
   "name": "python",
   "nbconvert_exporter": "python",
   "pygments_lexer": "ipython3",
   "version": "3.6.1"
  }
 },
 "nbformat": 4,
 "nbformat_minor": 1
}
