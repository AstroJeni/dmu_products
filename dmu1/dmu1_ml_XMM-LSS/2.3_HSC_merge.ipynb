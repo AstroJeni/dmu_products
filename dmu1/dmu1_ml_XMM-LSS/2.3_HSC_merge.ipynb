{
 "cells": [
  {
   "cell_type": "markdown",
   "metadata": {},
   "source": [
    "# XMM-LSS master catalogue\n",
    "\n",
    "This notebook presents the merge of the various pristine catalogues to produce the HELP master catalogue on XMM-LSS."
   ]
  },
  {
   "cell_type": "code",
   "execution_count": 1,
   "metadata": {},
   "outputs": [
    {
     "name": "stdout",
     "output_type": "stream",
     "text": [
      "This notebook was run with herschelhelp_internal version: \n",
      "33f5ec7 (Wed Dec 6 16:56:17 2017 +0000) [with local modifications]\n"
     ]
    }
   ],
   "source": [
    "from herschelhelp_internal import git_version\n",
    "print(\"This notebook was run with herschelhelp_internal version: \\n{}\".format(git_version()))"
   ]
  },
  {
   "cell_type": "code",
   "execution_count": 2,
   "metadata": {},
   "outputs": [
    {
     "name": "stderr",
     "output_type": "stream",
     "text": [
      "/Users/rs548/anaconda/envs/herschelhelp_internal/lib/python3.6/site-packages/seaborn/apionly.py:6: UserWarning: As seaborn no longer sets a default style on import, the seaborn.apionly module is deprecated. It will be removed in a future version.\n",
      "  warnings.warn(msg, UserWarning)\n"
     ]
    }
   ],
   "source": [
    "%matplotlib inline\n",
    "#%config InlineBackend.figure_format = 'svg'\n",
    "\n",
    "import matplotlib.pyplot as plt\n",
    "plt.rc('figure', figsize=(10, 6))\n",
    "\n",
    "import os\n",
    "import time\n",
    "\n",
    "from astropy import units as u\n",
    "from astropy.coordinates import SkyCoord\n",
    "from astropy.table import Column, Table\n",
    "import numpy as np\n",
    "from pymoc import MOC\n",
    "\n",
    "from herschelhelp_internal.masterlist import merge_catalogues, nb_merge_dist_plot, specz_merge\n",
    "from herschelhelp_internal.utils import coords_to_hpidx, ebv, gen_help_id, inMoc"
   ]
  },
  {
   "cell_type": "code",
   "execution_count": 3,
   "metadata": {
    "collapsed": true
   },
   "outputs": [],
   "source": [
    "TMP_DIR = os.environ.get('TMP_DIR', \"./data_tmp\")\n",
    "OUT_DIR = os.environ.get('OUT_DIR', \"./data\")\n",
    "SUFFIX = os.environ.get('SUFFIX', time.strftime(\"_%Y%m%d\"))\n",
    "\n",
    "try:\n",
    "    os.makedirs(OUT_DIR)\n",
    "except FileExistsError:\n",
    "    pass"
   ]
  },
  {
   "cell_type": "markdown",
   "metadata": {},
   "source": [
    "## I - Reading the prepared pristine catalogues"
   ]
  },
  {
   "cell_type": "code",
   "execution_count": 4,
   "metadata": {
    "collapsed": true
   },
   "outputs": [],
   "source": [
    "#candels = Table.read(\"{}/CANDELS.fits\".format(TMP_DIR))           # 1.1\n",
    "#cfht_wirds = Table.read(\"{}/CFHT-WIRDS.fits\".format(TMP_DIR))     # 1.3\n",
    "#cfhtls_wide = Table.read(\"{}/CFHTLS-WIDE.fits\".format(TMP_DIR))   # 1.4a\n",
    "#cfhtls_deep = Table.read(\"{}/CFHTLS-DEEP.fits\".format(TMP_DIR))   # 1.4b\n",
    "#We no longer use CFHTLenS as it is the same raw data set as CFHTLS-WIDE\n",
    "# cfhtlens = Table.read(\"{}/CFHTLENS.fits\".format(TMP_DIR))         # 1.5\n",
    "#decals = Table.read(\"{}/DECaLS.fits\".format(TMP_DIR))             # 1.6\n",
    "#servs = Table.read(\"{}/SERVS.fits\".format(TMP_DIR))               # 1.8\n",
    "#swire = Table.read(\"{}/SWIRE.fits\".format(TMP_DIR))               # 1.7\n",
    "hsc_wide = Table.read(\"{}/HSC-WIDE.fits\".format(TMP_DIR))         # 1.9a\n",
    "hsc_deep = Table.read(\"{}/HSC-DEEP.fits\".format(TMP_DIR))         # 1.9b\n",
    "hsc_udeep = Table.read(\"{}/HSC-UDEEP.fits\".format(TMP_DIR))       # 1.9c\n",
    "#ps1 = Table.read(\"{}/PS1.fits\".format(TMP_DIR))                   # 1.10\n",
    "#sxds = Table.read(\"{}/SXDS.fits\".format(TMP_DIR))                 # 1.11\n",
    "#sparcs = Table.read(\"{}/SpARCS.fits\".format(TMP_DIR))             # 1.12\n",
    "#dxs = Table.read(\"{}/UKIDSS-DXS.fits\".format(TMP_DIR))            # 1.13\n",
    "#uds = Table.read(\"{}/UKIDSS-UDS.fits\".format(TMP_DIR))            # 1.14\n",
    "#vipers = Table.read(\"{}/VIPERS.fits\".format(TMP_DIR))             # 1.15\n",
    "#vhs = Table.read(\"{}/VISTA-VHS.fits\".format(TMP_DIR))             # 1.16\n",
    "#video = Table.read(\"{}/VISTA-VIDEO.fits\".format(TMP_DIR))         # 1.17\n",
    "#viking = Table.read(\"{}/VISTA-VIKING.fits\".format(TMP_DIR))       # 1.18"
   ]
  },
  {
   "cell_type": "markdown",
   "metadata": {},
   "source": [
    "## II - Merging tables\n",
    "\n",
    "We first merge the optical catalogues and then add the infrared ones. We start with PanSTARRS because it coevrs the whole field.\n",
    "\n",
    "At every step, we look at the distribution of the distances to the nearest source in the merged catalogue to determine the best crossmatching radius."
   ]
  },
  {
   "cell_type": "markdown",
   "metadata": {},
   "source": [
    "### Start with HSC-WIDE"
   ]
  },
  {
   "cell_type": "code",
   "execution_count": 5,
   "metadata": {
    "collapsed": true
   },
   "outputs": [],
   "source": [
    "master_catalogue = hsc_wide\n",
    "master_catalogue['hsc-wide_ra'].name = 'ra'\n",
    "master_catalogue['hsc-wide_dec'].name = 'dec'"
   ]
  },
  {
   "cell_type": "markdown",
   "metadata": {},
   "source": [
    "### Add HSC-DEEP"
   ]
  },
  {
   "cell_type": "code",
   "execution_count": 6,
   "metadata": {},
   "outputs": [
    {
     "data": {
      "image/png": "[encoded data removed]",
      "text/plain": [
       "<matplotlib.figure.Figure at 0x10ad7b978>"
      ]
     },
     "metadata": {},
     "output_type": "display_data"
    }
   ],
   "source": [
    "nb_merge_dist_plot(\n",
    "    SkyCoord(master_catalogue['ra'], master_catalogue['dec']),\n",
    "    SkyCoord(hsc_deep['hsc-deep_ra'], hsc_deep['hsc-deep_dec'])\n",
    ")"
   ]
  },
  {
   "cell_type": "code",
   "execution_count": 7,
   "metadata": {},
   "outputs": [],
   "source": [
    "# Given the graph above, we use 0.8 arc-second radius\n",
    "master_catalogue = merge_catalogues(master_catalogue, hsc_deep, \"hsc-deep_ra\", \"hsc-deep_dec\", radius=0.8*u.arcsec)\n"
   ]
  },
  {
   "cell_type": "markdown",
   "metadata": {},
   "source": [
    "### Add HSC-UDEEP"
   ]
  },
  {
   "cell_type": "code",
   "execution_count": 8,
   "metadata": {},
   "outputs": [
    {
     "data": {
      "image/png": "[encoded data removed]",
      "text/plain": [
       "<matplotlib.figure.Figure at 0x11434dda0>"
      ]
     },
     "metadata": {},
     "output_type": "display_data"
    }
   ],
   "source": [
    "nb_merge_dist_plot(\n",
    "    SkyCoord(master_catalogue['ra'], master_catalogue['dec']),\n",
    "    SkyCoord(hsc_udeep['hsc-udeep_ra'], hsc_udeep['hsc-udeep_dec'])\n",
    ")"
   ]
  },
  {
   "cell_type": "code",
   "execution_count": 9,
   "metadata": {
    "collapsed": true
   },
   "outputs": [],
   "source": [
    "master_catalogue = merge_catalogues(master_catalogue, hsc_udeep, \"hsc-udeep_ra\", \"hsc-udeep_dec\", radius=0.8*u.arcsec)"
   ]
  },
  {
   "cell_type": "markdown",
   "metadata": {},
   "source": [
    "### Cleaning\n",
    "\n",
    "When we merge the catalogues, astropy masks the non-existent values (e.g. when a row comes only from a catalogue and has no counterparts in the other, the columns from the latest are masked for that row). We indicate to use NaN for masked values for floats columns, False for flag columns and -1 for ID columns."
   ]
  },
  {
   "cell_type": "code",
   "execution_count": 10,
   "metadata": {
    "collapsed": true
   },
   "outputs": [],
   "source": [
    "for col in master_catalogue.colnames:\n",
    "    if \"m_\" in col or \"merr_\" in col or \"f_\" in col or \"ferr_\" in col or \"stellarity\" in col:\n",
    "        master_catalogue[col] = master_catalogue[col].astype(float)\n",
    "        master_catalogue[col].fill_value = np.nan\n",
    "    elif \"flag\" in col:\n",
    "        master_catalogue[col].fill_value = 0\n",
    "    elif \"id\" in col:\n",
    "        master_catalogue[col].fill_value = -1\n",
    "        \n",
    "master_catalogue = master_catalogue.filled()"
   ]
  },
  {
   "cell_type": "code",
   "execution_count": 11,
   "metadata": {},
   "outputs": [
    {
     "data": {
      "text/html": [
       "&lt;Table length=10&gt;\n",
       "<table id=\"table4622517024-312601\" class=\"table-striped table-bordered table-condensed\">\n",
       "<thead><tr><th>idx</th><th>hsc-wide_id</th><th>ra</th><th>dec</th><th>m_ap_hsc-wide_g</th><th>merr_ap_hsc-wide_g</th><th>m_hsc-wide_g</th><th>merr_hsc-wide_g</th><th>m_ap_hsc-wide_r</th><th>merr_ap_hsc-wide_r</th><th>m_hsc-wide_r</th><th>merr_hsc-wide_r</th><th>m_ap_hsc-wide_i</th><th>merr_ap_hsc-wide_i</th><th>m_hsc-wide_i</th><th>merr_hsc-wide_i</th><th>m_ap_hsc-wide_z</th><th>merr_ap_hsc-wide_z</th><th>m_hsc-wide_z</th><th>merr_hsc-wide_z</th><th>m_ap_hsc-wide_y</th><th>merr_ap_hsc-wide_y</th><th>m_hsc-wide_y</th><th>merr_hsc-wide_y</th><th>hsc-wide_stellarity</th><th>f_ap_hsc-wide_g</th><th>ferr_ap_hsc-wide_g</th><th>f_hsc-wide_g</th><th>ferr_hsc-wide_g</th><th>flag_hsc-wide_g</th><th>f_ap_hsc-wide_r</th><th>ferr_ap_hsc-wide_r</th><th>f_hsc-wide_r</th><th>ferr_hsc-wide_r</th><th>flag_hsc-wide_r</th><th>f_ap_hsc-wide_i</th><th>ferr_ap_hsc-wide_i</th><th>f_hsc-wide_i</th><th>ferr_hsc-wide_i</th><th>flag_hsc-wide_i</th><th>f_ap_hsc-wide_z</th><th>ferr_ap_hsc-wide_z</th><th>f_hsc-wide_z</th><th>ferr_hsc-wide_z</th><th>flag_hsc-wide_z</th><th>f_ap_hsc-wide_y</th><th>ferr_ap_hsc-wide_y</th><th>f_hsc-wide_y</th><th>ferr_hsc-wide_y</th><th>flag_hsc-wide_y</th><th>hsc-wide_flag_cleaned</th><th>hsc-wide_flag_gaia</th><th>flag_merged</th><th>hsc-deep_id</th><th>m_ap_hsc-deep_g</th><th>merr_ap_hsc-deep_g</th><th>m_hsc-deep_g</th><th>merr_hsc-deep_g</th><th>m_ap_hsc-deep_r</th><th>merr_ap_hsc-deep_r</th><th>m_hsc-deep_r</th><th>merr_hsc-deep_r</th><th>m_ap_hsc-deep_i</th><th>merr_ap_hsc-deep_i</th><th>m_hsc-deep_i</th><th>merr_hsc-deep_i</th><th>m_ap_hsc-deep_z</th><th>merr_ap_hsc-deep_z</th><th>m_hsc-deep_z</th><th>merr_hsc-deep_z</th><th>m_ap_hsc-deep_y</th><th>merr_ap_hsc-deep_y</th><th>m_hsc-deep_y</th><th>merr_hsc-deep_y</th><th>hsc-deep_stellarity</th><th>f_ap_hsc-deep_g</th><th>ferr_ap_hsc-deep_g</th><th>f_hsc-deep_g</th><th>ferr_hsc-deep_g</th><th>flag_hsc-deep_g</th><th>f_ap_hsc-deep_r</th><th>ferr_ap_hsc-deep_r</th><th>f_hsc-deep_r</th><th>ferr_hsc-deep_r</th><th>flag_hsc-deep_r</th><th>f_ap_hsc-deep_i</th><th>ferr_ap_hsc-deep_i</th><th>f_hsc-deep_i</th><th>ferr_hsc-deep_i</th><th>flag_hsc-deep_i</th><th>f_ap_hsc-deep_z</th><th>ferr_ap_hsc-deep_z</th><th>f_hsc-deep_z</th><th>ferr_hsc-deep_z</th><th>flag_hsc-deep_z</th><th>f_ap_hsc-deep_y</th><th>ferr_ap_hsc-deep_y</th><th>f_hsc-deep_y</th><th>ferr_hsc-deep_y</th><th>flag_hsc-deep_y</th><th>hsc-deep_flag_cleaned</th><th>hsc-deep_flag_gaia</th><th>hsc-udeep_id</th><th>m_ap_hsc-udeep_g</th><th>merr_ap_hsc-udeep_g</th><th>m_hsc-udeep_g</th><th>merr_hsc-udeep_g</th><th>m_ap_hsc-udeep_r</th><th>merr_ap_hsc-udeep_r</th><th>m_hsc-udeep_r</th><th>merr_hsc-udeep_r</th><th>m_ap_hsc-udeep_i</th><th>merr_ap_hsc-udeep_i</th><th>m_hsc-udeep_i</th><th>merr_hsc-udeep_i</th><th>m_ap_hsc-udeep_z</th><th>merr_ap_hsc-udeep_z</th><th>m_hsc-udeep_z</th><th>merr_hsc-udeep_z</th><th>m_ap_hsc-udeep_y</th><th>merr_ap_hsc-udeep_y</th><th>m_hsc-udeep_y</th><th>merr_hsc-udeep_y</th><th>m_ap_hsc-udeep_n921</th><th>merr_ap_hsc-udeep_n921</th><th>m_hsc-udeep_n921</th><th>merr_hsc-udeep_n921</th><th>m_ap_hsc-udeep_n816</th><th>merr_ap_hsc-udeep_n816</th><th>m_hsc-udeep_n816</th><th>merr_hsc-udeep_n816</th><th>hsc-udeep_stellarity</th><th>f_ap_hsc-udeep_g</th><th>ferr_ap_hsc-udeep_g</th><th>f_hsc-udeep_g</th><th>ferr_hsc-udeep_g</th><th>flag_hsc-udeep_g</th><th>f_ap_hsc-udeep_r</th><th>ferr_ap_hsc-udeep_r</th><th>f_hsc-udeep_r</th><th>ferr_hsc-udeep_r</th><th>flag_hsc-udeep_r</th><th>f_ap_hsc-udeep_i</th><th>ferr_ap_hsc-udeep_i</th><th>f_hsc-udeep_i</th><th>ferr_hsc-udeep_i</th><th>flag_hsc-udeep_i</th><th>f_ap_hsc-udeep_z</th><th>ferr_ap_hsc-udeep_z</th><th>f_hsc-udeep_z</th><th>ferr_hsc-udeep_z</th><th>flag_hsc-udeep_z</th><th>f_ap_hsc-udeep_y</th><th>ferr_ap_hsc-udeep_y</th><th>f_hsc-udeep_y</th><th>ferr_hsc-udeep_y</th><th>flag_hsc-udeep_y</th><th>f_ap_hsc-udeep_n921</th><th>ferr_ap_hsc-udeep_n921</th><th>f_hsc-udeep_n921</th><th>ferr_hsc-udeep_n921</th><th>flag_hsc-udeep_n921</th><th>f_ap_hsc-udeep_n816</th><th>ferr_ap_hsc-udeep_n816</th><th>f_hsc-udeep_n816</th><th>ferr_hsc-udeep_n816</th><th>flag_hsc-udeep_n816</th><th>hsc-udeep_flag_cleaned</th><th>hsc-udeep_flag_gaia</th></tr></thead>\n",
       "<thead><tr><th></th><th></th><th>deg</th><th>deg</th><th></th><th></th><th></th><th></th><th></th><th></th><th></th><th></th><th></th><th></th><th></th><th></th><th></th><th></th><th></th><th></th><th></th><th></th><th></th><th></th><th></th><th></th><th></th><th></th><th></th><th></th><th></th><th></th><th></th><th></th><th></th><th></th><th></th><th></th><th></th><th></th><th></th><th></th><th></th><th></th><th></th><th></th><th></th><th></th><th></th><th></th><th></th><th></th><th></th><th></th><th></th><th></th><th></th><th></th><th></th><th></th><th></th><th></th><th></th><th></th><th></th><th></th><th></th><th></th><th></th><th></th><th></th><th></th><th></th><th></th><th></th><th></th><th></th><th></th><th></th><th></th><th></th><th></th><th></th><th></th><th></th><th></th><th></th><th></th><th></th><th></th><th></th><th></th><th></th><th></th><th></th><th></th><th></th><th></th><th></th><th></th><th></th><th></th><th></th><th></th><th></th><th></th><th></th><th></th><th></th><th></th><th></th><th></th><th></th><th></th><th></th><th></th><th></th><th></th><th></th><th></th><th></th><th></th><th></th><th></th><th></th><th></th><th></th><th></th><th></th><th></th><th></th><th></th><th></th><th></th><th></th><th></th><th></th><th></th><th></th><th></th><th></th><th></th><th></th><th></th><th></th><th></th><th></th><th></th><th></th><th></th><th></th><th></th><th></th><th></th><th></th><th></th><th></th><th></th><th></th><th></th><th></th><th></th><th></th><th></th><th></th><th></th><th></th><th></th><th></th></tr></thead>\n",
       "<tr><td>0</td><td>37489940598115527</td><td>35.2182755144</td><td>-4.73289400882</td><td>18.0159263611</td><td>0.000288578914478</td><td>0.0043139429763</td><td>0.000286691647489</td><td>17.5676517487</td><td>0.000280097825453</td><td>17.7187156677</td><td>0.000279907428194</td><td>17.5323600769</td><td>0.000301370979287</td><td>17.5426635742</td><td>0.00029877826455</td><td>17.4092578888</td><td>0.000321840518154</td><td>17.4462947845</td><td>0.000335728167556</td><td>17.3854179382</td><td>0.000502319599036</td><td>17.3995494843</td><td>0.000550919387024</td><td>0.0</td><td>225.750823975</td><td>0.0600025430322</td><td>3616383744.0</td><td>954916.125</td><td>False</td><td>341.145141602</td><td>0.0880085006356</td><td>296.834014893</td><td>0.0765250772238</td><td>False</td><td>352.41607666</td><td>0.0978211537004</td><td>349.087585449</td><td>0.0960636511445</td><td>False</td><td>394.726959229</td><td>0.117007359862</td><td>381.488922119</td><td>0.117962889373</td><td>False</td><td>403.489807129</td><td>0.186675950885</td><td>398.272369385</td><td>0.202089577913</td><td>False</td><td>False</td><td>3</td><td>False</td><td>-1</td><td>nan</td><td>nan</td><td>nan</td><td>nan</td><td>nan</td><td>nan</td><td>nan</td><td>nan</td><td>nan</td><td>nan</td><td>nan</td><td>nan</td><td>nan</td><td>nan</td><td>nan</td><td>nan</td><td>nan</td><td>nan</td><td>nan</td><td>nan</td><td>nan</td><td>nan</td><td>nan</td><td>nan</td><td>nan</td><td>False</td><td>nan</td><td>nan</td><td>nan</td><td>nan</td><td>False</td><td>nan</td><td>nan</td><td>nan</td><td>nan</td><td>False</td><td>nan</td><td>nan</td><td>nan</td><td>nan</td><td>False</td><td>nan</td><td>nan</td><td>nan</td><td>nan</td><td>False</td><td>False</td><td>0</td><td>-1</td><td>nan</td><td>nan</td><td>nan</td><td>nan</td><td>nan</td><td>nan</td><td>nan</td><td>nan</td><td>nan</td><td>nan</td><td>nan</td><td>nan</td><td>nan</td><td>nan</td><td>nan</td><td>nan</td><td>nan</td><td>nan</td><td>nan</td><td>nan</td><td>nan</td><td>nan</td><td>nan</td><td>nan</td><td>nan</td><td>nan</td><td>nan</td><td>nan</td><td>nan</td><td>nan</td><td>nan</td><td>nan</td><td>nan</td><td>False</td><td>nan</td><td>nan</td><td>nan</td><td>nan</td><td>False</td><td>nan</td><td>nan</td><td>nan</td><td>nan</td><td>False</td><td>nan</td><td>nan</td><td>nan</td><td>nan</td><td>False</td><td>nan</td><td>nan</td><td>nan</td><td>nan</td><td>False</td><td>nan</td><td>nan</td><td>nan</td><td>nan</td><td>False</td><td>nan</td><td>nan</td><td>nan</td><td>nan</td><td>False</td><td>False</td><td>0</td></tr>\n",
       "<tr><td>1</td><td>37489936303155628</td><td>35.0539376098</td><td>-4.79219994186</td><td>20.1858406067</td><td>0.00105480628554</td><td>0.00426626112312</td><td>0.00110488187056</td><td>18.8889579773</td><td>0.000602334272116</td><td>19.030582428</td><td>0.000621127546765</td><td>17.8982162476</td><td>0.000302002066746</td><td>17.9048671722</td><td>0.000310835283017</td><td>17.4384250641</td><td>0.000361927435733</td><td>17.4713134766</td><td>0.000381847872632</td><td>17.28358078</td><td>0.000519150111359</td><td>17.2962551117</td><td>0.000571358716115</td><td>0.0</td><td>30.595911026</td><td>0.0297243092209</td><td>3616542464.0</td><td>3680316.0</td><td>False</td><td>101.02217865</td><td>0.0560441091657</td><td>88.66796875</td><td>0.0507251396775</td><td>False</td><td>251.601623535</td><td>0.069984048605</td><td>250.065002441</td><td>0.0715910717845</td><td>False</td><td>384.264068604</td><td>0.128093466163</td><td>372.798858643</td><td>0.131111443043</td><td>False</td><td>443.167175293</td><td>0.211902573705</td><td>438.023925781</td><td>0.23050609231</td><td>False</td><td>False</td><td>0</td><td>False</td><td>-1</td><td>nan</td><td>nan</td><td>nan</td><td>nan</td><td>nan</td><td>nan</td><td>nan</td><td>nan</td><td>nan</td><td>nan</td><td>nan</td><td>nan</td><td>nan</td><td>nan</td><td>nan</td><td>nan</td><td>nan</td><td>nan</td><td>nan</td><td>nan</td><td>nan</td><td>nan</td><td>nan</td><td>nan</td><td>nan</td><td>False</td><td>nan</td><td>nan</td><td>nan</td><td>nan</td><td>False</td><td>nan</td><td>nan</td><td>nan</td><td>nan</td><td>False</td><td>nan</td><td>nan</td><td>nan</td><td>nan</td><td>False</td><td>nan</td><td>nan</td><td>nan</td><td>nan</td><td>False</td><td>False</td><td>0</td><td>-1</td><td>nan</td><td>nan</td><td>nan</td><td>nan</td><td>nan</td><td>nan</td><td>nan</td><td>nan</td><td>nan</td><td>nan</td><td>nan</td><td>nan</td><td>nan</td><td>nan</td><td>nan</td><td>nan</td><td>nan</td><td>nan</td><td>nan</td><td>nan</td><td>nan</td><td>nan</td><td>nan</td><td>nan</td><td>nan</td><td>nan</td><td>nan</td><td>nan</td><td>nan</td><td>nan</td><td>nan</td><td>nan</td><td>nan</td><td>False</td><td>nan</td><td>nan</td><td>nan</td><td>nan</td><td>False</td><td>nan</td><td>nan</td><td>nan</td><td>nan</td><td>False</td><td>nan</td><td>nan</td><td>nan</td><td>nan</td><td>False</td><td>nan</td><td>nan</td><td>nan</td><td>nan</td><td>False</td><td>nan</td><td>nan</td><td>nan</td><td>nan</td><td>False</td><td>nan</td><td>nan</td><td>nan</td><td>nan</td><td>False</td><td>False</td><td>0</td></tr>\n",
       "<tr><td>2</td><td>37489940598115282</td><td>35.075910498</td><td>-4.73630896738</td><td>19.5905723572</td><td>0.000726663158275</td><td>0.00252901180647</td><td>0.000747066223994</td><td>18.3295536041</td><td>0.000432623899542</td><td>18.4643173218</td><td>0.000440236850409</td><td>17.4155426025</td><td>0.000302175059915</td><td>17.4214553833</td><td>0.000297307153232</td><td>16.9163742065</td><td>0.000284347304842</td><td>16.9413852692</td><td>0.000290573312668</td><td>16.8369522095</td><td>0.000394561531721</td><td>16.8470630646</td><td>0.000417996867327</td><td>0.0</td><td>52.9384346008</td><td>0.0354307107627</td><td>3622330624.0</td><td>2492429.5</td><td>False</td><td>169.113586426</td><td>0.0673852190375</td><td>149.373321533</td><td>0.060566868633</td><td>False</td><td>392.448699951</td><td>0.109223783016</td><td>390.31729126</td><td>0.10688059032</td><td>False</td><td>621.512878418</td><td>0.162770211697</td><td>607.35949707</td><td>0.162546351552</td><td>False</td><td>668.680847168</td><td>0.24300172925</td><td>662.482788086</td><td>0.255048811436</td><td>False</td><td>False</td><td>3</td><td>False</td><td>-1</td><td>nan</td><td>nan</td><td>nan</td><td>nan</td><td>nan</td><td>nan</td><td>nan</td><td>nan</td><td>nan</td><td>nan</td><td>nan</td><td>nan</td><td>nan</td><td>nan</td><td>nan</td><td>nan</td><td>nan</td><td>nan</td><td>nan</td><td>nan</td><td>nan</td><td>nan</td><td>nan</td><td>nan</td><td>nan</td><td>False</td><td>nan</td><td>nan</td><td>nan</td><td>nan</td><td>False</td><td>nan</td><td>nan</td><td>nan</td><td>nan</td><td>False</td><td>nan</td><td>nan</td><td>nan</td><td>nan</td><td>False</td><td>nan</td><td>nan</td><td>nan</td><td>nan</td><td>False</td><td>False</td><td>0</td><td>-1</td><td>nan</td><td>nan</td><td>nan</td><td>nan</td><td>nan</td><td>nan</td><td>nan</td><td>nan</td><td>nan</td><td>nan</td><td>nan</td><td>nan</td><td>nan</td><td>nan</td><td>nan</td><td>nan</td><td>nan</td><td>nan</td><td>nan</td><td>nan</td><td>nan</td><td>nan</td><td>nan</td><td>nan</td><td>nan</td><td>nan</td><td>nan</td><td>nan</td><td>nan</td><td>nan</td><td>nan</td><td>nan</td><td>nan</td><td>False</td><td>nan</td><td>nan</td><td>nan</td><td>nan</td><td>False</td><td>nan</td><td>nan</td><td>nan</td><td>nan</td><td>False</td><td>nan</td><td>nan</td><td>nan</td><td>nan</td><td>False</td><td>nan</td><td>nan</td><td>nan</td><td>nan</td><td>False</td><td>nan</td><td>nan</td><td>nan</td><td>nan</td><td>False</td><td>nan</td><td>nan</td><td>nan</td><td>nan</td><td>False</td><td>False</td><td>0</td></tr>\n",
       "<tr><td>3</td><td>37489803159162174</td><td>35.2521166566</td><td>-4.7105250129</td><td>18.7234535217</td><td>0.000463937001768</td><td>0.00487510254607</td><td>0.000464831886347</td><td>17.9530887604</td><td>0.00038080473314</td><td>18.1010856628</td><td>0.00038096413482</td><td>17.7262382507</td><td>0.000307159789372</td><td>17.7338905334</td><td>0.000307959242491</td><td>17.5157413483</td><td>0.000369413581211</td><td>17.5522003174</td><td>0.00038739136653</td><td>17.4067115784</td><td>0.000560221727937</td><td>17.4278182983</td><td>0.000617596204393</td><td>0.0</td><td>117.657165527</td><td>0.0502751171589</td><td>3614511872.0</td><td>1547466.5</td><td>False</td><td>239.201782227</td><td>0.083896227181</td><td>208.720703125</td><td>0.0732361152768</td><td>False</td><td>294.784454346</td><td>0.083395883441</td><td>292.714019775</td><td>0.0830256789923</td><td>False</td><td>357.851867676</td><td>0.121756397188</td><td>346.034759521</td><td>0.123465426266</td><td>False</td><td>395.653778076</td><td>0.204150721431</td><td>388.036376953</td><td>0.220725610852</td><td>False</td><td>False</td><td>3</td><td>False</td><td>-1</td><td>nan</td><td>nan</td><td>nan</td><td>nan</td><td>nan</td><td>nan</td><td>nan</td><td>nan</td><td>nan</td><td>nan</td><td>nan</td><td>nan</td><td>nan</td><td>nan</td><td>nan</td><td>nan</td><td>nan</td><td>nan</td><td>nan</td><td>nan</td><td>nan</td><td>nan</td><td>nan</td><td>nan</td><td>nan</td><td>False</td><td>nan</td><td>nan</td><td>nan</td><td>nan</td><td>False</td><td>nan</td><td>nan</td><td>nan</td><td>nan</td><td>False</td><td>nan</td><td>nan</td><td>nan</td><td>nan</td><td>False</td><td>nan</td><td>nan</td><td>nan</td><td>nan</td><td>False</td><td>False</td><td>0</td><td>-1</td><td>nan</td><td>nan</td><td>nan</td><td>nan</td><td>nan</td><td>nan</td><td>nan</td><td>nan</td><td>nan</td><td>nan</td><td>nan</td><td>nan</td><td>nan</td><td>nan</td><td>nan</td><td>nan</td><td>nan</td><td>nan</td><td>nan</td><td>nan</td><td>nan</td><td>nan</td><td>nan</td><td>nan</td><td>nan</td><td>nan</td><td>nan</td><td>nan</td><td>nan</td><td>nan</td><td>nan</td><td>nan</td><td>nan</td><td>False</td><td>nan</td><td>nan</td><td>nan</td><td>nan</td><td>False</td><td>nan</td><td>nan</td><td>nan</td><td>nan</td><td>False</td><td>nan</td><td>nan</td><td>nan</td><td>nan</td><td>False</td><td>nan</td><td>nan</td><td>nan</td><td>nan</td><td>False</td><td>nan</td><td>nan</td><td>nan</td><td>nan</td><td>False</td><td>nan</td><td>nan</td><td>nan</td><td>nan</td><td>False</td><td>False</td><td>0</td></tr>\n",
       "<tr><td>4</td><td>37489803159165343</td><td>35.3391695304</td><td>-4.62141778804</td><td>17.6503829956</td><td>0.000278700928902</td><td>0.000680512574036</td><td>0.000219611305511</td><td>16.8157653809</td><td>0.000216425192775</td><td>16.0805053711</td><td>0.00017119916447</td><td>16.9490013123</td><td>0.000314556295052</td><td>15.8921108246</td><td>0.000165938312421</td><td>16.2039451599</td><td>0.000200880938792</td><td>15.4327745438</td><td>0.000182129471796</td><td>16.0288734436</td><td>0.000267702213023</td><td>15.2603883743</td><td>0.000290989730274</td><td>0.0</td><td>316.11618042</td><td>0.0811448246241</td><td>3628502528.0</td><td>733935.375</td><td>False</td><td>681.857666016</td><td>0.135918080807</td><td>1342.13928223</td><td>0.211628869176</td><td>False</td><td>603.113891602</td><td>0.174732387066</td><td>1596.45068359</td><td>0.243993267417</td><td>False</td><td>1197.90356445</td><td>0.221633926034</td><td>2437.19311523</td><td>0.408832937479</td><td>False</td><td>1407.50646973</td><td>0.347038805485</td><td>2856.56689453</td><td>0.765592634678</td><td>False</td><td>False</td><td>0</td><td>False</td><td>-1</td><td>nan</td><td>nan</td><td>nan</td><td>nan</td><td>nan</td><td>nan</td><td>nan</td><td>nan</td><td>nan</td><td>nan</td><td>nan</td><td>nan</td><td>nan</td><td>nan</td><td>nan</td><td>nan</td><td>nan</td><td>nan</td><td>nan</td><td>nan</td><td>nan</td><td>nan</td><td>nan</td><td>nan</td><td>nan</td><td>False</td><td>nan</td><td>nan</td><td>nan</td><td>nan</td><td>False</td><td>nan</td><td>nan</td><td>nan</td><td>nan</td><td>False</td><td>nan</td><td>nan</td><td>nan</td><td>nan</td><td>False</td><td>nan</td><td>nan</td><td>nan</td><td>nan</td><td>False</td><td>False</td><td>0</td><td>-1</td><td>nan</td><td>nan</td><td>nan</td><td>nan</td><td>nan</td><td>nan</td><td>nan</td><td>nan</td><td>nan</td><td>nan</td><td>nan</td><td>nan</td><td>nan</td><td>nan</td><td>nan</td><td>nan</td><td>nan</td><td>nan</td><td>nan</td><td>nan</td><td>nan</td><td>nan</td><td>nan</td><td>nan</td><td>nan</td><td>nan</td><td>nan</td><td>nan</td><td>nan</td><td>nan</td><td>nan</td><td>nan</td><td>nan</td><td>False</td><td>nan</td><td>nan</td><td>nan</td><td>nan</td><td>False</td><td>nan</td><td>nan</td><td>nan</td><td>nan</td><td>False</td><td>nan</td><td>nan</td><td>nan</td><td>nan</td><td>False</td><td>nan</td><td>nan</td><td>nan</td><td>nan</td><td>False</td><td>nan</td><td>nan</td><td>nan</td><td>nan</td><td>False</td><td>nan</td><td>nan</td><td>nan</td><td>nan</td><td>False</td><td>False</td><td>0</td></tr>\n",
       "<tr><td>5</td><td>37489940598119374</td><td>35.1081632067</td><td>-4.66818574266</td><td>18.5849494934</td><td>0.000442814867711</td><td>0.00432432210073</td><td>0.000442111719167</td><td>17.8182601929</td><td>0.000337654782925</td><td>17.9708175659</td><td>0.00033727104892</td><td>17.6018371582</td><td>0.000328404275933</td><td>17.6176433563</td><td>0.000326948618749</td><td>17.4184074402</td><td>0.000355431751814</td><td>17.4584960938</td><td>0.000367875385564</td><td>17.3472862244</td><td>0.000530417019036</td><td>17.3666572571</td><td>0.000574865378439</td><td>0.0</td><td>133.665679932</td><td>0.0545152239501</td><td>3616347904.0</td><td>1472576.625</td><td>False</td><td>270.829437256</td><td>0.0842256695032</td><td>235.327606201</td><td>0.073101721704</td><td>False</td><td>330.571136475</td><td>0.0999883562326</td><td>325.793609619</td><td>0.0981064960361</td><td>False</td><td>391.414428711</td><td>0.128135278821</td><td>377.225891113</td><td>0.127813845873</td><td>False</td><td>417.912567139</td><td>0.204163715243</td><td>410.52255249</td><td>0.217359632254</td><td>False</td><td>False</td><td>3</td><td>False</td><td>-1</td><td>nan</td><td>nan</td><td>nan</td><td>nan</td><td>nan</td><td>nan</td><td>nan</td><td>nan</td><td>nan</td><td>nan</td><td>nan</td><td>nan</td><td>nan</td><td>nan</td><td>nan</td><td>nan</td><td>nan</td><td>nan</td><td>nan</td><td>nan</td><td>nan</td><td>nan</td><td>nan</td><td>nan</td><td>nan</td><td>False</td><td>nan</td><td>nan</td><td>nan</td><td>nan</td><td>False</td><td>nan</td><td>nan</td><td>nan</td><td>nan</td><td>False</td><td>nan</td><td>nan</td><td>nan</td><td>nan</td><td>False</td><td>nan</td><td>nan</td><td>nan</td><td>nan</td><td>False</td><td>False</td><td>0</td><td>-1</td><td>nan</td><td>nan</td><td>nan</td><td>nan</td><td>nan</td><td>nan</td><td>nan</td><td>nan</td><td>nan</td><td>nan</td><td>nan</td><td>nan</td><td>nan</td><td>nan</td><td>nan</td><td>nan</td><td>nan</td><td>nan</td><td>nan</td><td>nan</td><td>nan</td><td>nan</td><td>nan</td><td>nan</td><td>nan</td><td>nan</td><td>nan</td><td>nan</td><td>nan</td><td>nan</td><td>nan</td><td>nan</td><td>nan</td><td>False</td><td>nan</td><td>nan</td><td>nan</td><td>nan</td><td>False</td><td>nan</td><td>nan</td><td>nan</td><td>nan</td><td>False</td><td>nan</td><td>nan</td><td>nan</td><td>nan</td><td>False</td><td>nan</td><td>nan</td><td>nan</td><td>nan</td><td>False</td><td>nan</td><td>nan</td><td>nan</td><td>nan</td><td>False</td><td>nan</td><td>nan</td><td>nan</td><td>nan</td><td>False</td><td>False</td><td>0</td></tr>\n",
       "<tr><td>6</td><td>37489940598119592</td><td>35.0911191509</td><td>-4.66392176389</td><td>19.8578414917</td><td>0.00101378350519</td><td>0.00210764515214</td><td>0.000812259328086</td><td>18.8754062653</td><td>0.000728994898964</td><td>17.4447479248</td><td>0.000633143004961</td><td>18.4555778503</td><td>0.000336664379574</td><td>17.0222015381</td><td>0.000330892769853</td><td>18.1530132294</td><td>0.000516507599968</td><td>16.7587604523</td><td>0.000586765585467</td><td>18.0031585693</td><td>0.000872330681887</td><td>16.5862197876</td><td>0.00113636802416</td><td>0.0</td><td>41.3869361877</td><td>0.0386441834271</td><td>3623738880.0</td><td>2710986.0</td><td>False</td><td>102.290992737</td><td>0.0686811506748</td><td>382.032775879</td><td>0.22278098762</td><td>False</td><td>150.580490112</td><td>0.0466919019818</td><td>563.792297363</td><td>0.171823322773</td><td>False</td><td>198.973175049</td><td>0.0946557298303</td><td>718.613891602</td><td>0.388361275196</td><td>False</td><td>228.42124939</td><td>0.18352419138</td><td>842.387329102</td><td>0.881670892239</td><td>False</td><td>False</td><td>3</td><td>False</td><td>-1</td><td>nan</td><td>nan</td><td>nan</td><td>nan</td><td>nan</td><td>nan</td><td>nan</td><td>nan</td><td>nan</td><td>nan</td><td>nan</td><td>nan</td><td>nan</td><td>nan</td><td>nan</td><td>nan</td><td>nan</td><td>nan</td><td>nan</td><td>nan</td><td>nan</td><td>nan</td><td>nan</td><td>nan</td><td>nan</td><td>False</td><td>nan</td><td>nan</td><td>nan</td><td>nan</td><td>False</td><td>nan</td><td>nan</td><td>nan</td><td>nan</td><td>False</td><td>nan</td><td>nan</td><td>nan</td><td>nan</td><td>False</td><td>nan</td><td>nan</td><td>nan</td><td>nan</td><td>False</td><td>False</td><td>0</td><td>-1</td><td>nan</td><td>nan</td><td>nan</td><td>nan</td><td>nan</td><td>nan</td><td>nan</td><td>nan</td><td>nan</td><td>nan</td><td>nan</td><td>nan</td><td>nan</td><td>nan</td><td>nan</td><td>nan</td><td>nan</td><td>nan</td><td>nan</td><td>nan</td><td>nan</td><td>nan</td><td>nan</td><td>nan</td><td>nan</td><td>nan</td><td>nan</td><td>nan</td><td>nan</td><td>nan</td><td>nan</td><td>nan</td><td>nan</td><td>False</td><td>nan</td><td>nan</td><td>nan</td><td>nan</td><td>False</td><td>nan</td><td>nan</td><td>nan</td><td>nan</td><td>False</td><td>nan</td><td>nan</td><td>nan</td><td>nan</td><td>False</td><td>nan</td><td>nan</td><td>nan</td><td>nan</td><td>False</td><td>nan</td><td>nan</td><td>nan</td><td>nan</td><td>False</td><td>nan</td><td>nan</td><td>nan</td><td>nan</td><td>False</td><td>False</td><td>0</td></tr>\n",
       "<tr><td>7</td><td>37490073742109045</td><td>35.0314036694</td><td>-4.76000538695</td><td>18.4690132141</td><td>0.000392099580495</td><td>0.00594898452982</td><td>0.000391241133912</td><td>17.9195365906</td><td>0.000368395965779</td><td>18.0634918213</td><td>0.000368587294361</td><td>17.7973995209</td><td>0.000338446639944</td><td>17.8026676178</td><td>0.0003404103918</td><td>17.6234664917</td><td>0.000402815901907</td><td>17.65599823</td><td>0.000428296480095</td><td>17.6088790894</td><td>0.000707592756953</td><td>17.6187744141</td><td>0.000785661686677</td><td>0.0</td><td>148.728607178</td><td>0.0537114106119</td><td>3610940160.0</td><td>1301189.25</td><td>False</td><td>246.709121704</td><td>0.0837096944451</td><td>216.074279785</td><td>0.0733532086015</td><td>False</td><td>276.083251953</td><td>0.086060911417</td><td>274.74697876</td><td>0.0861412957311</td><td>False</td><td>324.050872803</td><td>0.120225198567</td><td>314.485443115</td><td>0.124056838453</td><td>False</td><td>328.434112549</td><td>0.214046090841</td><td>325.454315186</td><td>0.235505625606</td><td>False</td><td>False</td><td>3</td><td>False</td><td>-1</td><td>nan</td><td>nan</td><td>nan</td><td>nan</td><td>nan</td><td>nan</td><td>nan</td><td>nan</td><td>nan</td><td>nan</td><td>nan</td><td>nan</td><td>nan</td><td>nan</td><td>nan</td><td>nan</td><td>nan</td><td>nan</td><td>nan</td><td>nan</td><td>nan</td><td>nan</td><td>nan</td><td>nan</td><td>nan</td><td>False</td><td>nan</td><td>nan</td><td>nan</td><td>nan</td><td>False</td><td>nan</td><td>nan</td><td>nan</td><td>nan</td><td>False</td><td>nan</td><td>nan</td><td>nan</td><td>nan</td><td>False</td><td>nan</td><td>nan</td><td>nan</td><td>nan</td><td>False</td><td>False</td><td>0</td><td>-1</td><td>nan</td><td>nan</td><td>nan</td><td>nan</td><td>nan</td><td>nan</td><td>nan</td><td>nan</td><td>nan</td><td>nan</td><td>nan</td><td>nan</td><td>nan</td><td>nan</td><td>nan</td><td>nan</td><td>nan</td><td>nan</td><td>nan</td><td>nan</td><td>nan</td><td>nan</td><td>nan</td><td>nan</td><td>nan</td><td>nan</td><td>nan</td><td>nan</td><td>nan</td><td>nan</td><td>nan</td><td>nan</td><td>nan</td><td>False</td><td>nan</td><td>nan</td><td>nan</td><td>nan</td><td>False</td><td>nan</td><td>nan</td><td>nan</td><td>nan</td><td>False</td><td>nan</td><td>nan</td><td>nan</td><td>nan</td><td>False</td><td>nan</td><td>nan</td><td>nan</td><td>nan</td><td>False</td><td>nan</td><td>nan</td><td>nan</td><td>nan</td><td>False</td><td>nan</td><td>nan</td><td>nan</td><td>nan</td><td>False</td><td>False</td><td>0</td></tr>\n",
       "<tr><td>8</td><td>37489940598125691</td><td>35.2324287577</td><td>-4.57198478503</td><td>18.2919692993</td><td>0.000371923146304</td><td>0.00673164473847</td><td>0.000369688612409</td><td>17.9154262543</td><td>0.000360602542059</td><td>18.0873966217</td><td>0.000360315927537</td><td>17.8605003357</td><td>0.000342344545061</td><td>17.8807678223</td><td>0.000343804946169</td><td>17.8010063171</td><td>0.000464446260594</td><td>17.8460769653</td><td>0.000480138813145</td><td>17.7738075256</td><td>0.000752151652705</td><td>17.7968196869</td><td>0.000803427945357</td><td>0.0</td><td>175.07019043</td><td>0.0599709711969</td><td>3608336128.0</td><td>1228623.25</td><td>False</td><td>247.644866943</td><td>0.082249596715</td><td>211.369003296</td><td>0.070145599544</td><td>False</td><td>260.495147705</td><td>0.0821369811893</td><td>255.677581787</td><td>0.0809618607163</td><td>False</td><td>275.167633057</td><td>0.117708683014</td><td>263.978851318</td><td>0.116737827659</td><td>False</td><td>282.147918701</td><td>0.195460036397</td><td>276.230743408</td><td>0.204406455159</td><td>False</td><td>False</td><td>3</td><td>False</td><td>-1</td><td>nan</td><td>nan</td><td>nan</td><td>nan</td><td>nan</td><td>nan</td><td>nan</td><td>nan</td><td>nan</td><td>nan</td><td>nan</td><td>nan</td><td>nan</td><td>nan</td><td>nan</td><td>nan</td><td>nan</td><td>nan</td><td>nan</td><td>nan</td><td>nan</td><td>nan</td><td>nan</td><td>nan</td><td>nan</td><td>False</td><td>nan</td><td>nan</td><td>nan</td><td>nan</td><td>False</td><td>nan</td><td>nan</td><td>nan</td><td>nan</td><td>False</td><td>nan</td><td>nan</td><td>nan</td><td>nan</td><td>False</td><td>nan</td><td>nan</td><td>nan</td><td>nan</td><td>False</td><td>False</td><td>0</td><td>-1</td><td>nan</td><td>nan</td><td>nan</td><td>nan</td><td>nan</td><td>nan</td><td>nan</td><td>nan</td><td>nan</td><td>nan</td><td>nan</td><td>nan</td><td>nan</td><td>nan</td><td>nan</td><td>nan</td><td>nan</td><td>nan</td><td>nan</td><td>nan</td><td>nan</td><td>nan</td><td>nan</td><td>nan</td><td>nan</td><td>nan</td><td>nan</td><td>nan</td><td>nan</td><td>nan</td><td>nan</td><td>nan</td><td>nan</td><td>False</td><td>nan</td><td>nan</td><td>nan</td><td>nan</td><td>False</td><td>nan</td><td>nan</td><td>nan</td><td>nan</td><td>False</td><td>nan</td><td>nan</td><td>nan</td><td>nan</td><td>False</td><td>nan</td><td>nan</td><td>nan</td><td>nan</td><td>False</td><td>nan</td><td>nan</td><td>nan</td><td>nan</td><td>False</td><td>nan</td><td>nan</td><td>nan</td><td>nan</td><td>False</td><td>False</td><td>0</td></tr>\n",
       "<tr><td>9</td><td>37490073742108455</td><td>35.0329778014</td><td>-4.77164850494</td><td>20.6396942139</td><td>0.00162622635253</td><td>0.00457119848579</td><td>0.00170257198624</td><td>19.3096179962</td><td>0.00093030941207</td><td>19.4686050415</td><td>0.000964221835602</td><td>18.1110496521</td><td>0.000345926760929</td><td>18.1238498688</td><td>0.000352906266926</td><td>17.5297031403</td><td>0.000373203423806</td><td>17.5678596497</td><td>0.000390285335016</td><td>17.3733901978</td><td>0.000563284149393</td><td>17.3938484192</td><td>0.000606193440035</td><td>0.0</td><td>20.1428985596</td><td>0.0301702339202</td><td>3615526144.0</td><td>5669603.5</td><td>False</td><td>68.5729064941</td><td>0.0587564595044</td><td>59.2321815491</td><td>0.0526029802859</td><td>False</td><td>206.813980103</td><td>0.0658930689096</td><td>204.390106201</td><td>0.0664346888661</td><td>False</td><td>353.279632568</td><td>0.121433883905</td><td>341.079772949</td><td>0.122606605291</td><td>False</td><td>407.984680176</td><td>0.211664050817</td><td>400.368927002</td><td>0.223535910249</td><td>False</td><td>False</td><td>3</td><td>False</td><td>-1</td><td>nan</td><td>nan</td><td>nan</td><td>nan</td><td>nan</td><td>nan</td><td>nan</td><td>nan</td><td>nan</td><td>nan</td><td>nan</td><td>nan</td><td>nan</td><td>nan</td><td>nan</td><td>nan</td><td>nan</td><td>nan</td><td>nan</td><td>nan</td><td>nan</td><td>nan</td><td>nan</td><td>nan</td><td>nan</td><td>False</td><td>nan</td><td>nan</td><td>nan</td><td>nan</td><td>False</td><td>nan</td><td>nan</td><td>nan</td><td>nan</td><td>False</td><td>nan</td><td>nan</td><td>nan</td><td>nan</td><td>False</td><td>nan</td><td>nan</td><td>nan</td><td>nan</td><td>False</td><td>False</td><td>0</td><td>-1</td><td>nan</td><td>nan</td><td>nan</td><td>nan</td><td>nan</td><td>nan</td><td>nan</td><td>nan</td><td>nan</td><td>nan</td><td>nan</td><td>nan</td><td>nan</td><td>nan</td><td>nan</td><td>nan</td><td>nan</td><td>nan</td><td>nan</td><td>nan</td><td>nan</td><td>nan</td><td>nan</td><td>nan</td><td>nan</td><td>nan</td><td>nan</td><td>nan</td><td>nan</td><td>nan</td><td>nan</td><td>nan</td><td>nan</td><td>False</td><td>nan</td><td>nan</td><td>nan</td><td>nan</td><td>False</td><td>nan</td><td>nan</td><td>nan</td><td>nan</td><td>False</td><td>nan</td><td>nan</td><td>nan</td><td>nan</td><td>False</td><td>nan</td><td>nan</td><td>nan</td><td>nan</td><td>False</td><td>nan</td><td>nan</td><td>nan</td><td>nan</td><td>False</td><td>nan</td><td>nan</td><td>nan</td><td>nan</td><td>False</td><td>False</td><td>0</td></tr>\n",
       "</table><style>table.dataTable {clear: both; width: auto !important; margin: 0 !important;}\n",
       ".dataTables_info, .dataTables_length, .dataTables_filter, .dataTables_paginate{\n",
       "display: inline-block; margin-right: 1em; }\n",
       ".paginate_button { margin-right: 5px; }\n",
       "</style>\n",
       "<script>\n",
       "\n",
       "var astropy_sort_num = function(a, b) {\n",
       "    var a_num = parseFloat(a);\n",
       "    var b_num = parseFloat(b);\n",
       "\n",
       "    if (isNaN(a_num) && isNaN(b_num))\n",
       "        return ((a < b) ? -1 : ((a > b) ? 1 : 0));\n",
       "    else if (!isNaN(a_num) && !isNaN(b_num))\n",
       "        return ((a_num < b_num) ? -1 : ((a_num > b_num) ? 1 : 0));\n",
       "    else\n",
       "        return isNaN(a_num) ? -1 : 1;\n",
       "}\n",
       "\n",
       "require.config({paths: {\n",
       "    datatables: 'https://cdn.datatables.net/1.10.12/js/jquery.dataTables.min'\n",
       "}});\n",
       "require([\"datatables\"], function(){\n",
       "    console.log(\"$('#table4622517024-312601').dataTable()\");\n",
       "    \n",
       "jQuery.extend( jQuery.fn.dataTableExt.oSort, {\n",
       "    \"optionalnum-asc\": astropy_sort_num,\n",
       "    \"optionalnum-desc\": function (a,b) { return -astropy_sort_num(a, b); }\n",
       "});\n",
       "\n",
       "    $('#table4622517024-312601').dataTable({\n",
       "        order: [],\n",
       "        pageLength: 50,\n",
       "        lengthMenu: [[10, 25, 50, 100, 500, 1000, -1], [10, 25, 50, 100, 500, 1000, 'All']],\n",
       "        pagingType: \"full_numbers\",\n",
       "        columnDefs: [{targets: [0, 1, 2, 3, 4, 5, 6, 7, 8, 9, 10, 11, 12, 13, 14, 15, 16, 17, 18, 19, 20, 21, 22, 23, 24, 25, 26, 27, 28, 30, 31, 32, 33, 35, 36, 37, 38, 40, 41, 42, 43, 45, 46, 47, 48, 51, 53, 54, 55, 56, 57, 58, 59, 60, 61, 62, 63, 64, 65, 66, 67, 68, 69, 70, 71, 72, 73, 74, 75, 76, 77, 78, 80, 81, 82, 83, 85, 86, 87, 88, 90, 91, 92, 93, 95, 96, 97, 98, 101, 102, 103, 104, 105, 106, 107, 108, 109, 110, 111, 112, 113, 114, 115, 116, 117, 118, 119, 120, 121, 122, 123, 124, 125, 126, 127, 128, 129, 130, 131, 132, 133, 134, 135, 137, 138, 139, 140, 142, 143, 144, 145, 147, 148, 149, 150, 152, 153, 154, 155, 157, 158, 159, 160, 162, 163, 164, 165, 168], type: \"optionalnum\"}]\n",
       "    });\n",
       "});\n",
       "</script>\n"
      ],
      "text/plain": [
       "<IPython.core.display.HTML object>"
      ]
     },
     "execution_count": 11,
     "metadata": {},
     "output_type": "execute_result"
    }
   ],
   "source": [
    "master_catalogue[:10].show_in_notebook()"
   ]
  },
  {
   "cell_type": "code",
   "execution_count": 12,
   "metadata": {},
   "outputs": [],
   "source": [
    "master_catalogue.add_column(Column(data=(np.char.array(master_catalogue['hsc-wide_id'].astype(str)) \n",
    "                                    +  np.char.array(master_catalogue['hsc-deep_id'].astype(str) )\n",
    "                                    +  np.char.array(master_catalogue['hsc-udeep_id'].astype(str))), \n",
    "                              name=\"hsc_intid\"))"
   ]
  },
  {
   "cell_type": "code",
   "execution_count": 13,
   "metadata": {},
   "outputs": [
    {
     "name": "stdout",
     "output_type": "stream",
     "text": [
      "['hsc-wide_id', 'hsc-deep_id', 'hsc-udeep_id', 'hsc_intid']\n"
     ]
    }
   ],
   "source": [
    "id_names = []\n",
    "for col in master_catalogue.colnames:\n",
    "    if '_id' in col:\n",
    "        id_names += [col]\n",
    "    if '_intid' in col:\n",
    "        id_names += [col]\n",
    "        \n",
    "print(id_names)"
   ]
  },
  {
   "cell_type": "markdown",
   "metadata": {},
   "source": [
    "## VII - Choosing between multiple values for the same filter\n",
    "\n"
   ]
  },
  {
   "cell_type": "markdown",
   "metadata": {},
   "source": [
    "### VII. e HSC wide, deep and udeep\n",
    "Here we straightforwardly take the deepest\n",
    "\n",
    "| Survey      | Bands observed   |\n",
    "|-------------|------------------|\n",
    "| HSC-WIDE    | grizy            |\n",
    "| HSC-DEEP    | grizy            |\n",
    "| HSC-UDEEP   | grizy n921 n816  |"
   ]
  },
  {
   "cell_type": "code",
   "execution_count": 14,
   "metadata": {},
   "outputs": [],
   "source": [
    "suprime_origin = Table()\n",
    "suprime_origin.add_column(master_catalogue['hsc_intid'])"
   ]
  },
  {
   "cell_type": "code",
   "execution_count": 15,
   "metadata": {
    "collapsed": true
   },
   "outputs": [],
   "source": [
    "suprime_stats = Table()\n",
    "suprime_stats.add_column(Column(data=['g','r','i','z','y'], name=\"Band\"))\n",
    "for col in [\"HSC-UDEEP\",  \"HSC-DEEP\", \"HSC-WIDE\"]:\n",
    "    suprime_stats.add_column(Column(data=np.full(5, 0), name=\"{}\".format(col)))\n",
    "    suprime_stats.add_column(Column(data=np.full(5, 0), name=\"use {}\".format(col)))\n",
    "    suprime_stats.add_column(Column(data=np.full(5, 0), name=\"{} ap\".format(col)))\n",
    "    suprime_stats.add_column(Column(data=np.full(5, 0), name=\"use {} ap\".format(col)))\n",
    "    \n",
    "#n921 and n816 only in udeep so we can just rename those columns\n",
    "for col in master_catalogue.colnames:\n",
    "    if ('n921' in col) or ('n816' in col):\n",
    "        master_catalogue[col].name = col.replace('hsc-udeep', 'suprime')"
   ]
  },
  {
   "cell_type": "code",
   "execution_count": 16,
   "metadata": {
    "collapsed": true
   },
   "outputs": [],
   "source": [
    "suprime_bands = ['g','r','i','z','y'] # Lowercase naming convention (k is Ks)\n",
    "for band in suprime_bands:\n",
    "\n",
    "    # Suprime total flux \n",
    "    has_hsc_udeep = ~np.isnan(master_catalogue['f_hsc-udeep_' + band])\n",
    "    has_hsc_deep  = ~np.isnan(master_catalogue['f_hsc-deep_' + band])\n",
    "    has_hsc_wide  = ~np.isnan(master_catalogue['f_hsc-wide_' + band])\n",
    "    \n",
    "\n",
    "    use_hsc_udeep = has_hsc_udeep\n",
    "    use_hsc_deep = has_hsc_deep & ~has_hsc_udeep\n",
    "    use_hsc_wide = has_hsc_wide & ~has_hsc_deep & ~has_hsc_udeep\n",
    "\n",
    "    f_suprime = np.full(len(master_catalogue), np.nan)\n",
    "    f_suprime[use_hsc_udeep] = master_catalogue['f_hsc-udeep_' + band][use_hsc_udeep]\n",
    "    f_suprime[use_hsc_deep] = master_catalogue['f_hsc-deep_' + band][use_hsc_deep]\n",
    "    f_suprime[use_hsc_wide] = master_catalogue['f_hsc-wide_' + band][use_hsc_wide]\n",
    "\n",
    "    ferr_suprime = np.full(len(master_catalogue), np.nan)\n",
    "    ferr_suprime[use_hsc_udeep] = master_catalogue['ferr_hsc-udeep_' + band][use_hsc_udeep]\n",
    "    ferr_suprime[use_hsc_deep] = master_catalogue['ferr_hsc-deep_' + band][use_hsc_deep]\n",
    "    ferr_suprime[use_hsc_wide] = master_catalogue['ferr_hsc-wide_' + band][use_hsc_wide]\n",
    "    \n",
    "    m_suprime = np.full(len(master_catalogue), np.nan)\n",
    "    m_suprime[use_hsc_udeep] = master_catalogue['m_hsc-udeep_' + band][use_hsc_udeep]\n",
    "    m_suprime[use_hsc_deep] = master_catalogue['m_hsc-deep_' + band][use_hsc_deep]\n",
    "    m_suprime[use_hsc_wide] = master_catalogue['m_hsc-wide_' + band][use_hsc_wide]\n",
    "\n",
    "    merr_suprime = np.full(len(master_catalogue), np.nan)\n",
    "    merr_suprime[use_hsc_udeep] = master_catalogue['merr_hsc-udeep_' + band][use_hsc_udeep]\n",
    "    merr_suprime[use_hsc_deep] = master_catalogue['merr_hsc-deep_' + band][use_hsc_deep]\n",
    "    merr_suprime[use_hsc_wide] = master_catalogue['merr_hsc-wide_' + band][use_hsc_wide]\n",
    "\n",
    "    flag_suprime = np.full(len(master_catalogue), False, dtype=bool)\n",
    "    flag_suprime[use_hsc_udeep] = master_catalogue['flag_hsc-udeep_' + band][use_hsc_udeep]\n",
    "    flag_suprime[use_hsc_deep] = master_catalogue['flag_hsc-deep_' + band][use_hsc_deep]\n",
    "    flag_suprime[use_hsc_wide] = master_catalogue['flag_hsc-wide_' + band][use_hsc_wide]\n",
    "\n",
    "    master_catalogue.add_column(Column(data=f_suprime, name=\"f_suprime_\" + band))\n",
    "    master_catalogue.add_column(Column(data=ferr_suprime, name=\"ferr_suprime_\" + band))\n",
    "    master_catalogue.add_column(Column(data=m_suprime, name=\"m_suprime_\" + band))\n",
    "    master_catalogue.add_column(Column(data=merr_suprime, name=\"merr_suprime_\" + band))\n",
    "    master_catalogue.add_column(Column(data=flag_suprime, name=\"flag_suprime_\" + band))\n",
    "\n",
    "    old_hsc_udeep_columns = ['f_hsc-udeep_' + band,\n",
    "                               'ferr_hsc-udeep_' + band,\n",
    "                               'm_hsc-udeep_' + band, \n",
    "                               'merr_hsc-udeep_' + band,\n",
    "                               'flag_hsc-udeep_' + band]\n",
    "    old_hsc_deep_columns = ['f_hsc-deep_' + band,\n",
    "                               'ferr_hsc-deep_' + band,\n",
    "                               'm_hsc-deep_' + band, \n",
    "                               'merr_hsc-deep_' + band,\n",
    "                               'flag_hsc-deep_' + band]\n",
    "    old_hsc_wide_columns =      ['f_hsc-wide_' + band,\n",
    "                               'ferr_hsc-wide_' + band,\n",
    "                               'm_hsc-wide_' + band, \n",
    "                               'merr_hsc-wide_' + band,\n",
    "                               'flag_hsc-wide_' + band]\n",
    "    \n",
    "    old_columns = old_hsc_udeep_columns + old_hsc_deep_columns + old_hsc_wide_columns\n",
    "    master_catalogue.remove_columns(old_columns)\n",
    "\n",
    "    origin = np.full(len(master_catalogue), '     ', dtype='<U5')\n",
    "    origin[use_hsc_udeep] = \"HSC-UDEEP\"\n",
    "    origin[use_hsc_deep] = \"HSC-DEEP\"\n",
    "    origin[use_hsc_wide] = \"HSC-WIDE\"\n",
    "    \n",
    "    suprime_origin.add_column(Column(data=origin, name= 'f_suprime_' + band ))\n",
    "    \n",
    "  \n",
    "    # Suprime aperture flux \n",
    "    has_ap_hsc_udeep = ~np.isnan(master_catalogue['f_ap_hsc-udeep_' + band])\n",
    "    has_ap_hsc_deep  = ~np.isnan(master_catalogue['f_ap_hsc-deep_' + band])\n",
    "    has_ap_hsc_wide  = ~np.isnan(master_catalogue['f_ap_hsc-wide_' + band])\n",
    "    \n",
    "\n",
    "    use_ap_hsc_udeep = has_ap_hsc_udeep\n",
    "    use_ap_hsc_deep = has_ap_hsc_deep & ~has_ap_hsc_udeep\n",
    "    use_ap_hsc_wide = has_ap_hsc_wide & ~has_ap_hsc_deep & ~has_ap_hsc_udeep\n",
    "\n",
    "    f_ap_suprime = np.full(len(master_catalogue), np.nan)\n",
    "    f_ap_suprime[use_ap_hsc_udeep] = master_catalogue['f_ap_hsc-udeep_' + band][use_ap_hsc_udeep]\n",
    "    f_ap_suprime[use_ap_hsc_deep] = master_catalogue['f_ap_hsc-deep_' + band][use_ap_hsc_deep]\n",
    "    f_ap_suprime[use_ap_hsc_wide] = master_catalogue['f_ap_hsc-wide_' + band][use_ap_hsc_wide]\n",
    "\n",
    "    ferr_ap_suprime = np.full(len(master_catalogue), np.nan)\n",
    "    ferr_ap_suprime[use_ap_hsc_udeep] = master_catalogue['ferr_ap_hsc-udeep_' + band][use_ap_hsc_udeep]\n",
    "    ferr_ap_suprime[use_ap_hsc_deep] = master_catalogue['ferr_ap_hsc-deep_' + band][use_ap_hsc_deep]\n",
    "    ferr_ap_suprime[use_ap_hsc_wide] = master_catalogue['ferr_ap_hsc-wide_' + band][use_ap_hsc_wide]\n",
    "    \n",
    "    m_ap_suprime = np.full(len(master_catalogue), np.nan)\n",
    "    m_ap_suprime[use_ap_hsc_udeep] = master_catalogue['m_ap_hsc-udeep_' + band][use_ap_hsc_udeep]\n",
    "    m_ap_suprime[use_ap_hsc_deep] = master_catalogue['m_ap_hsc-deep_' + band][use_ap_hsc_deep]\n",
    "    m_ap_suprime[use_ap_hsc_wide] = master_catalogue['m_ap_hsc-wide_' + band][use_ap_hsc_wide]\n",
    "\n",
    "    merr_ap_suprime = np.full(len(master_catalogue), np.nan)\n",
    "    merr_ap_suprime[use_ap_hsc_udeep] = master_catalogue['merr_ap_hsc-udeep_' + band][use_ap_hsc_udeep]\n",
    "    merr_ap_suprime[use_ap_hsc_deep] = master_catalogue['merr_ap_hsc-deep_' + band][use_ap_hsc_deep]\n",
    "    merr_ap_suprime[use_ap_hsc_wide] = master_catalogue['merr_ap_hsc-wide_' + band][use_ap_hsc_wide]\n",
    "\n",
    "\n",
    "    master_catalogue.add_column(Column(data=f_ap_suprime, name=\"f_ap_suprime_\" + band))\n",
    "    master_catalogue.add_column(Column(data=ferr_ap_suprime, name=\"ferr_ap_suprime_\" + band))\n",
    "    master_catalogue.add_column(Column(data=m_ap_suprime, name=\"m_ap_suprime_\" + band))\n",
    "    master_catalogue.add_column(Column(data=merr_ap_suprime, name=\"merr_ap_suprime_\" + band))\n",
    "\n",
    "\n",
    "    old_ap_hsc_udeep_columns = ['f_ap_hsc-udeep_' + band,\n",
    "                               'ferr_ap_hsc-udeep_' + band,\n",
    "                               'm_ap_hsc-udeep_' + band, \n",
    "                               'merr_ap_hsc-udeep_' + band]\n",
    "    old_ap_hsc_deep_columns = ['f_ap_hsc-deep_' + band,\n",
    "                               'ferr_ap_hsc-deep_' + band,\n",
    "                               'm_ap_hsc-deep_' + band, \n",
    "                               'merr_ap_hsc-deep_' + band]\n",
    "    old_ap_hsc_wide_columns =      ['f_ap_hsc-wide_' + band,\n",
    "                               'ferr_ap_hsc-wide_' + band,\n",
    "                               'm_ap_hsc-wide_' + band, \n",
    "                               'merr_ap_hsc-wide_' + band]\n",
    "    \n",
    "    old_ap_columns = old_ap_hsc_udeep_columns + old_ap_hsc_deep_columns + old_ap_hsc_wide_columns\n",
    "    master_catalogue.remove_columns(old_ap_columns)\n",
    "\n",
    "    origin_ap = np.full(len(master_catalogue), '     ', dtype='<U5')\n",
    "    origin_ap[use_ap_hsc_udeep] = \"HSC-UDEEP\"\n",
    "    origin_ap[use_ap_hsc_deep] = \"HSC-DEEP\"\n",
    "    origin_ap[use_ap_hsc_wide] = \"HSC-WIDE\"\n",
    "    \n",
    "    suprime_origin.add_column(Column(data=origin_ap, name= 'f_ap_suprime_' + band ))\n",
    "\n",
    "   \n",
    "    suprime_stats['HSC-UDEEP'][suprime_stats['Band'] == band] = np.sum(has_hsc_udeep)\n",
    "    suprime_stats['HSC-DEEP'][suprime_stats['Band'] == band] = np.sum(has_hsc_deep)\n",
    "    suprime_stats['HSC-WIDE'][suprime_stats['Band'] == band] = np.sum(has_hsc_wide)\n",
    "    suprime_stats['use HSC-UDEEP'][suprime_stats['Band'] == band] = np.sum(use_hsc_udeep)\n",
    "    suprime_stats['use HSC-DEEP'][suprime_stats['Band'] == band] = np.sum(use_hsc_deep)\n",
    "    suprime_stats['use HSC-WIDE'][suprime_stats['Band'] == band] = np.sum(use_hsc_wide)\n",
    "    suprime_stats['HSC-UDEEP ap'][suprime_stats['Band'] == band] = np.sum(has_ap_hsc_udeep)\n",
    "    suprime_stats['HSC-DEEP ap'][suprime_stats['Band'] == band] = np.sum(has_ap_hsc_deep)\n",
    "    suprime_stats['HSC-WIDE ap'][suprime_stats['Band'] == band] = np.sum(has_ap_hsc_wide)\n",
    "    suprime_stats['use HSC-UDEEP ap'][suprime_stats['Band'] == band] = np.sum(use_ap_hsc_udeep)\n",
    "    suprime_stats['use HSC-DEEP ap'][suprime_stats['Band'] == band] = np.sum(use_ap_hsc_deep)\n",
    "    suprime_stats['use HSC-WIDE ap'][suprime_stats['Band'] == band] = np.sum(use_ap_hsc_wide)"
   ]
  },
  {
   "cell_type": "code",
   "execution_count": 17,
   "metadata": {},
   "outputs": [
    {
     "data": {
      "text/html": [
       "&lt;Table length=5&gt;\n",
       "<table id=\"table4669499376-115507\" class=\"table-striped table-bordered table-condensed\">\n",
       "<thead><tr><th>idx</th><th>Band</th><th>HSC-UDEEP</th><th>use HSC-UDEEP</th><th>HSC-UDEEP ap</th><th>use HSC-UDEEP ap</th><th>HSC-DEEP</th><th>use HSC-DEEP</th><th>HSC-DEEP ap</th><th>use HSC-DEEP ap</th><th>HSC-WIDE</th><th>use HSC-WIDE</th><th>HSC-WIDE ap</th><th>use HSC-WIDE ap</th></tr></thead>\n",
       "<tr><td>0</td><td>g</td><td>5370</td><td>5370</td><td>5796</td><td>5796</td><td>32081</td><td>29675</td><td>36356</td><td>33586</td><td>21981</td><td>8872</td><td>38351</td><td>13664</td></tr>\n",
       "<tr><td>1</td><td>r</td><td>5360</td><td>5360</td><td>5862</td><td>5862</td><td>31857</td><td>29494</td><td>36810</td><td>34011</td><td>34304</td><td>13776</td><td>38517</td><td>13601</td></tr>\n",
       "<tr><td>2</td><td>i</td><td>5375</td><td>5375</td><td>5884</td><td>5884</td><td>31504</td><td>29171</td><td>36001</td><td>33288</td><td>34942</td><td>14358</td><td>39236</td><td>14437</td></tr>\n",
       "<tr><td>3</td><td>z</td><td>5155</td><td>5155</td><td>5757</td><td>5757</td><td>29749</td><td>27556</td><td>33624</td><td>31076</td><td>33425</td><td>14147</td><td>38345</td><td>15002</td></tr>\n",
       "<tr><td>4</td><td>y</td><td>4834</td><td>4834</td><td>5507</td><td>5507</td><td>27318</td><td>25327</td><td>32150</td><td>29661</td><td>30515</td><td>13484</td><td>35532</td><td>13871</td></tr>\n",
       "</table><style>table.dataTable {clear: both; width: auto !important; margin: 0 !important;}\n",
       ".dataTables_info, .dataTables_length, .dataTables_filter, .dataTables_paginate{\n",
       "display: inline-block; margin-right: 1em; }\n",
       ".paginate_button { margin-right: 5px; }\n",
       "</style>\n",
       "<script>\n",
       "\n",
       "var astropy_sort_num = function(a, b) {\n",
       "    var a_num = parseFloat(a);\n",
       "    var b_num = parseFloat(b);\n",
       "\n",
       "    if (isNaN(a_num) && isNaN(b_num))\n",
       "        return ((a < b) ? -1 : ((a > b) ? 1 : 0));\n",
       "    else if (!isNaN(a_num) && !isNaN(b_num))\n",
       "        return ((a_num < b_num) ? -1 : ((a_num > b_num) ? 1 : 0));\n",
       "    else\n",
       "        return isNaN(a_num) ? -1 : 1;\n",
       "}\n",
       "\n",
       "require.config({paths: {\n",
       "    datatables: 'https://cdn.datatables.net/1.10.12/js/jquery.dataTables.min'\n",
       "}});\n",
       "require([\"datatables\"], function(){\n",
       "    console.log(\"$('#table4669499376-115507').dataTable()\");\n",
       "    \n",
       "jQuery.extend( jQuery.fn.dataTableExt.oSort, {\n",
       "    \"optionalnum-asc\": astropy_sort_num,\n",
       "    \"optionalnum-desc\": function (a,b) { return -astropy_sort_num(a, b); }\n",
       "});\n",
       "\n",
       "    $('#table4669499376-115507').dataTable({\n",
       "        order: [],\n",
       "        pageLength: 50,\n",
       "        lengthMenu: [[10, 25, 50, 100, 500, 1000, -1], [10, 25, 50, 100, 500, 1000, 'All']],\n",
       "        pagingType: \"full_numbers\",\n",
       "        columnDefs: [{targets: [0, 2, 3, 4, 5, 6, 7, 8, 9, 10, 11, 12, 13], type: \"optionalnum\"}]\n",
       "    });\n",
       "});\n",
       "</script>\n"
      ],
      "text/plain": [
       "<IPython.core.display.HTML object>"
      ]
     },
     "execution_count": 17,
     "metadata": {},
     "output_type": "execute_result"
    }
   ],
   "source": [
    "suprime_stats.show_in_notebook()"
   ]
  },
  {
   "cell_type": "code",
   "execution_count": 19,
   "metadata": {},
   "outputs": [],
   "source": [
    "suprime_origin.write(\"{}/xmm-lss_suprime_fluxes_origins{}.fits\".format(OUT_DIR, SUFFIX), overwrite=True)"
   ]
  },
  {
   "cell_type": "markdown",
   "metadata": {},
   "source": [
    "## XI - Saving the catalogue"
   ]
  },
  {
   "cell_type": "code",
   "execution_count": 20,
   "metadata": {
    "collapsed": true
   },
   "outputs": [],
   "source": [
    "columns = [\"help_id\", \"field\", \"ra\", \"dec\", \"hp_idx\"]\n",
    "\n",
    "bands = [column[5:] for column in master_catalogue.colnames if 'f_ap' in column]\n",
    "for band in bands:\n",
    "    columns += [\"f_ap_{}\".format(band), \"ferr_ap_{}\".format(band),\n",
    "                \"m_ap_{}\".format(band), \"merr_ap_{}\".format(band),\n",
    "                \"f_{}\".format(band), \"ferr_{}\".format(band),\n",
    "                \"m_{}\".format(band), \"merr_{}\".format(band),\n",
    "                \"flag_{}\".format(band)]    \n",
    "    \n",
    "columns += [\"stellarity\", \"stellarity_origin\", \"flag_cleaned\", \n",
    "            \"flag_merged\", \"flag_gaia\", \"flag_optnir_obs\", \"flag_optnir_det\", \n",
    "            \"zspec\", \"zspec_qual\", \"zspec_association_flag\", \"ebv\"]"
   ]
  },
  {
   "cell_type": "code",
   "execution_count": 21,
   "metadata": {},
   "outputs": [
    {
     "name": "stdout",
     "output_type": "stream",
     "text": [
      "Missing columns: {'hsc-udeep_flag_gaia', 'hsc-deep_id', 'hsc-wide_id', 'hsc-deep_flag_cleaned', 'hsc-deep_stellarity', 'hsc-udeep_stellarity', 'hsc_intid', 'hsc-deep_flag_gaia', 'hsc-wide_stellarity', 'hsc-wide_flag_gaia', 'hsc-udeep_id', 'hsc-udeep_flag_cleaned', 'hsc-wide_flag_cleaned'}\n"
     ]
    }
   ],
   "source": [
    "# We check for columns in the master catalogue that we will not save to disk.\n",
    "print(\"Missing columns: {}\".format(set(master_catalogue.colnames) - set(columns)))"
   ]
  },
  {
   "cell_type": "code",
   "execution_count": 22,
   "metadata": {
    "collapsed": true
   },
   "outputs": [],
   "source": [
    "master_catalogue.write(\"{}/HSC_merged_catalogue_xmm-lss{}.fits\".format(TMP_DIR, SUFFIX))"
   ]
  }
 ],
 "metadata": {
  "kernelspec": {
   "display_name": "Python (herschelhelp_internal)",
   "language": "python",
   "name": "helpint"
  },
  "language_info": {
   "codemirror_mode": {
    "name": "ipython",
    "version": 3
   },
   "file_extension": ".py",
   "mimetype": "text/x-python",
   "name": "python",
   "nbconvert_exporter": "python",
   "pygments_lexer": "ipython3",
   "version": "3.6.1"
  }
 },
 "nbformat": 4,
 "nbformat_minor": 2
}
