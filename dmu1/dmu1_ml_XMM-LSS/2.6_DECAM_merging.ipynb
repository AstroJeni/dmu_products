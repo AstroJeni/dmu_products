{
 "cells": [
  {
   "cell_type": "markdown",
   "metadata": {},
   "source": [
    "# XMM-LSS DECAM merging\n",
    "\n",
    "Both DES and DECaLS provide DECam fluxes which have overlapping coverage. We chose which to use DES preferentially. In this notebook we cross match both catalogues and take the DES fluxes where available, using DECaLS otherwise"
   ]
  },
  {
   "cell_type": "code",
   "execution_count": 1,
   "metadata": {},
   "outputs": [
    {
     "name": "stdout",
     "output_type": "stream",
     "text": [
      "This notebook was run with herschelhelp_internal version: \n",
      "33f5ec7 (Wed Dec 6 16:56:17 2017 +0000) [with local modifications]\n"
     ]
    }
   ],
   "source": [
    "from herschelhelp_internal import git_version\n",
    "print(\"This notebook was run with herschelhelp_internal version: \\n{}\".format(git_version()))"
   ]
  },
  {
   "cell_type": "code",
   "execution_count": 2,
   "metadata": {},
   "outputs": [
    {
     "name": "stderr",
     "output_type": "stream",
     "text": [
      "/Users/rs548/anaconda/envs/herschelhelp_internal/lib/python3.6/site-packages/seaborn/apionly.py:6: UserWarning: As seaborn no longer sets a default style on import, the seaborn.apionly module is deprecated. It will be removed in a future version.\n",
      "  warnings.warn(msg, UserWarning)\n"
     ]
    }
   ],
   "source": [
    "%matplotlib inline\n",
    "#%config InlineBackend.figure_format = 'svg'\n",
    "\n",
    "import matplotlib.pyplot as plt\n",
    "plt.rc('figure', figsize=(10, 6))\n",
    "\n",
    "import os\n",
    "import time\n",
    "\n",
    "from astropy import units as u\n",
    "from astropy.coordinates import SkyCoord\n",
    "from astropy.table import Column, Table\n",
    "import numpy as np\n",
    "from pymoc import MOC\n",
    "\n",
    "from herschelhelp_internal.masterlist import merge_catalogues, nb_merge_dist_plot\n",
    "from herschelhelp_internal.utils import coords_to_hpidx, ebv, gen_help_id, inMoc"
   ]
  },
  {
   "cell_type": "code",
   "execution_count": 3,
   "metadata": {
    "collapsed": true
   },
   "outputs": [],
   "source": [
    "TMP_DIR = os.environ.get('TMP_DIR', \"./data_tmp\")\n",
    "OUT_DIR = os.environ.get('OUT_DIR', \"./data\")\n",
    "SUFFIX = os.environ.get('SUFFIX', time.strftime(\"_%Y%m%d\"))\n",
    "\n",
    "try:\n",
    "    os.makedirs(OUT_DIR)\n",
    "except FileExistsError:\n",
    "    pass"
   ]
  },
  {
   "cell_type": "markdown",
   "metadata": {},
   "source": [
    "## I - Reading the prepared pristine catalogues"
   ]
  },
  {
   "cell_type": "code",
   "execution_count": 4,
   "metadata": {
    "collapsed": true
   },
   "outputs": [],
   "source": [
    "des = Table.read(\"{}/DES.fits\".format(TMP_DIR))\n",
    "decals = Table.read(\"{}/DECaLS.fits\".format(TMP_DIR))"
   ]
  },
  {
   "cell_type": "code",
   "execution_count": 5,
   "metadata": {
    "collapsed": true
   },
   "outputs": [],
   "source": [
    "for col in des.colnames:\n",
    "    if '_decam_' in col:\n",
    "        des[col].name = col.replace('_decam_', '_des-decam_')\n",
    "        \n",
    "for col in decals.colnames:\n",
    "    if '_decam_' in col:\n",
    "        decals[col].name = col.replace('_decam_', '_decals-decam_')"
   ]
  },
  {
   "cell_type": "markdown",
   "metadata": {},
   "source": [
    "## II - Merging tables\n",
    "\n",
    "We first merge the optical catalogues and then add the infrared ones: HSC, VHS, VICS82, UKIDSS-LAS, PanSTARRS, SHELA, SpIES.\n",
    "\n",
    "At every step, we look at the distribution of the distances to the nearest source in the merged catalogue to determine the best crossmatching radius."
   ]
  },
  {
   "cell_type": "markdown",
   "metadata": {},
   "source": [
    "### DES"
   ]
  },
  {
   "cell_type": "code",
   "execution_count": 7,
   "metadata": {
    "collapsed": true
   },
   "outputs": [],
   "source": [
    "master_catalogue = des\n",
    "master_catalogue['des_ra'].name = 'ra'\n",
    "master_catalogue['des_dec'].name = 'dec'\n"
   ]
  },
  {
   "cell_type": "markdown",
   "metadata": {},
   "source": [
    "## Add DECaLS"
   ]
  },
  {
   "cell_type": "code",
   "execution_count": 8,
   "metadata": {
    "scrolled": true
   },
   "outputs": [
    {
     "data": {
      "image/png": "[encoded data removed]",
      "text/plain": [
       "<matplotlib.figure.Figure at 0x1125580f0>"
      ]
     },
     "metadata": {},
     "output_type": "display_data"
    }
   ],
   "source": [
    "nb_merge_dist_plot(\n",
    "    SkyCoord(master_catalogue['ra'], master_catalogue['dec']),\n",
    "    SkyCoord(decals['decals_ra'], decals['decals_dec'])\n",
    ")"
   ]
  },
  {
   "cell_type": "code",
   "execution_count": 9,
   "metadata": {
    "collapsed": true
   },
   "outputs": [],
   "source": [
    "# Given the graph above, we use 0.8 arc-second radius\n",
    "master_catalogue = merge_catalogues(master_catalogue, decals, \"decals_ra\", \"decals_dec\", radius=0.8*u.arcsec)\n"
   ]
  },
  {
   "cell_type": "markdown",
   "metadata": {},
   "source": [
    "### Cleaning\n",
    "\n",
    "When we merge the catalogues, astropy masks the non-existent values (e.g. when a row comes only from a catalogue and has no counterparts in the other, the columns from the latest are masked for that row). We indicate to use NaN for masked values for floats columns, False for flag columns and -1 for ID columns."
   ]
  },
  {
   "cell_type": "code",
   "execution_count": 10,
   "metadata": {
    "collapsed": true
   },
   "outputs": [],
   "source": [
    "for col in master_catalogue.colnames:\n",
    "    if \"m_\" in col or \"merr_\" in col or \"f_\" in col or \"ferr_\" in col or \"stellarity\" in col:\n",
    "        master_catalogue[col].fill_value = np.nan\n",
    "    elif \"flag\" in col:\n",
    "        master_catalogue[col].fill_value = 0\n",
    "    elif \"id\" in col:\n",
    "        master_catalogue[col].fill_value = -1\n",
    "        \n",
    "master_catalogue = master_catalogue.filled()"
   ]
  },
  {
   "cell_type": "code",
   "execution_count": 11,
   "metadata": {},
   "outputs": [
    {
     "data": {
      "text/html": [
       "&lt;Table length=10&gt;\n",
       "<table id=\"table4602937976-932504\" class=\"table-striped table-bordered table-condensed\">\n",
       "<thead><tr><th>idx</th><th>des_id</th><th>ra</th><th>dec</th><th>des_stellarity</th><th>f_des-decam_g</th><th>ferr_des-decam_g</th><th>f_ap_des-decam_g</th><th>ferr_ap_des-decam_g</th><th>m_des-decam_g</th><th>merr_des-decam_g</th><th>m_ap_des-decam_g</th><th>merr_ap_des-decam_g</th><th>ferr_des-decam_r</th><th>f_ap_des-decam_r</th><th>ferr_ap_des-decam_r</th><th>m_des-decam_r</th><th>merr_des-decam_r</th><th>m_ap_des-decam_r</th><th>merr_ap_des-decam_r</th><th>ferr_des-decam_i</th><th>f_ap_des-decam_i</th><th>ferr_ap_des-decam_i</th><th>m_des-decam_i</th><th>merr_des-decam_i</th><th>m_ap_des-decam_i</th><th>merr_ap_des-decam_i</th><th>ferr_des-decam_z</th><th>f_ap_des-decam_z</th><th>ferr_ap_des-decam_z</th><th>m_des-decam_z</th><th>merr_des-decam_z</th><th>m_ap_des-decam_z</th><th>merr_ap_des-decam_z</th><th>ferr_des-decam_y</th><th>f_ap_des-decam_y</th><th>ferr_ap_des-decam_y</th><th>m_des-decam_y</th><th>merr_des-decam_y</th><th>m_ap_des-decam_y</th><th>merr_ap_des-decam_y</th><th>flag_des-decam_g</th><th>flag_des-decam_r</th><th>flag_des-decam_i</th><th>flag_des-decam_z</th><th>flag_des-decam_y</th><th>des_flag_cleaned</th><th>des_flag_gaia</th><th>f_des-decam_r</th><th>f_des-decam_i</th><th>f_des-decam_z</th><th>f_des-decam_y</th><th>flag_merged</th><th>decals_id</th><th>f_decals-decam_g</th><th>f_decals-decam_r</th><th>f_decals-decam_z</th><th>ferr_decals-decam_g</th><th>ferr_decals-decam_r</th><th>ferr_decals-decam_z</th><th>f_ap_decals-decam_g</th><th>f_ap_decals-decam_r</th><th>f_ap_decals-decam_z</th><th>ferr_ap_decals-decam_g</th><th>ferr_ap_decals-decam_r</th><th>ferr_ap_decals-decam_z</th><th>m_decals-decam_g</th><th>merr_decals-decam_g</th><th>flag_decals-decam_g</th><th>m_decals-decam_r</th><th>merr_decals-decam_r</th><th>flag_decals-decam_r</th><th>m_decals-decam_z</th><th>merr_decals-decam_z</th><th>flag_decals-decam_z</th><th>m_ap_decals-decam_g</th><th>merr_ap_decals-decam_g</th><th>m_ap_decals-decam_r</th><th>merr_ap_decals-decam_r</th><th>m_ap_decals-decam_z</th><th>merr_ap_decals-decam_z</th><th>decals_stellarity</th><th>decals_flag_cleaned</th><th>decals_flag_gaia</th></tr></thead>\n",
       "<thead><tr><th></th><th></th><th>deg</th><th>deg</th><th></th><th></th><th></th><th></th><th></th><th></th><th></th><th></th><th></th><th></th><th></th><th></th><th></th><th></th><th></th><th></th><th></th><th></th><th></th><th></th><th></th><th></th><th></th><th></th><th></th><th></th><th></th><th></th><th></th><th></th><th></th><th></th><th></th><th></th><th></th><th></th><th></th><th></th><th></th><th></th><th></th><th></th><th></th><th></th><th></th><th></th><th></th><th></th><th></th><th></th><th></th><th></th><th></th><th></th><th></th><th></th><th></th><th></th><th></th><th></th><th></th><th></th><th></th><th></th><th></th><th></th><th></th><th></th><th></th><th></th><th></th><th></th><th></th><th></th><th></th><th></th><th></th><th></th><th></th><th></th></tr></thead>\n",
       "<tr><td>0</td><td>117472574</td><td>36.4982660777</td><td>-4.3546492028</td><td>0.999620735645</td><td>627577.5</td><td>210.878005981</td><td>622513.0</td><td>237.839477539</td><td>15.5058317184</td><td>0.000364916719263</td><td>15.514629364</td><td>0.000414806301706</td><td>142.688995361</td><td>nan</td><td>nan</td><td>18.040096283</td><td>0.00254834699444</td><td>nan</td><td>nan</td><td>237.14364624</td><td>nan</td><td>nan</td><td>17.7047901154</td><td>0.00310998037457</td><td>nan</td><td>nan</td><td>493.255950928</td><td>1127991.125</td><td>656.743408203</td><td>15.5696983337</td><td>0.000905276683625</td><td>14.8692359924</td><td>0.000632120470982</td><td>1120.83337402</td><td>1106394.5</td><td>746.111572266</td><td>14.8521223068</td><td>0.00106223323382</td><td>14.8902254105</td><td>0.000732155924197</td><td>False</td><td>False</td><td>False</td><td>False</td><td>False</td><td>False</td><td>3</td><td>nan</td><td>nan</td><td>nan</td><td>nan</td><td>False</td><td>-1</td><td>nan</td><td>nan</td><td>nan</td><td>nan</td><td>nan</td><td>nan</td><td>nan</td><td>nan</td><td>nan</td><td>nan</td><td>nan</td><td>nan</td><td>nan</td><td>nan</td><td>False</td><td>nan</td><td>nan</td><td>False</td><td>nan</td><td>nan</td><td>False</td><td>nan</td><td>nan</td><td>nan</td><td>nan</td><td>nan</td><td>nan</td><td>nan</td><td>False</td><td>0</td></tr>\n",
       "<tr><td>1</td><td>117480986</td><td>36.3719590777</td><td>-4.5311002028</td><td>0.999829351902</td><td>391742.65625</td><td>163.329925537</td><td>391911.3125</td><td>189.648574829</td><td>16.0174980164</td><td>0.000452787819086</td><td>16.0170307159</td><td>0.000525377690792</td><td>190.604660034</td><td>785510.6875</td><td>451.99520874</td><td>15.8212499619</td><td>0.000441024953034</td><td>15.2621202469</td><td>0.000624728854746</td><td>188.461090088</td><td>nan</td><td>nan</td><td>17.9430828094</td><td>0.00307811424136</td><td>nan</td><td>nan</td><td>412.172241211</td><td>1101524.375</td><td>641.356140137</td><td>15.6366939545</td><td>0.000804611656349</td><td>14.8950147629</td><td>0.000632142531686</td><td>931.119934082</td><td>1130470.875</td><td>752.74407959</td><td>14.8522958755</td><td>0.000882579304744</td><td>14.8668518066</td><td>0.000722932629287</td><td>False</td><td>False</td><td>False</td><td>False</td><td>False</td><td>False</td><td>3</td><td>nan</td><td>nan</td><td>nan</td><td>nan</td><td>False</td><td>-1</td><td>nan</td><td>nan</td><td>nan</td><td>nan</td><td>nan</td><td>nan</td><td>nan</td><td>nan</td><td>nan</td><td>nan</td><td>nan</td><td>nan</td><td>nan</td><td>nan</td><td>False</td><td>nan</td><td>nan</td><td>False</td><td>nan</td><td>nan</td><td>False</td><td>nan</td><td>nan</td><td>nan</td><td>nan</td><td>nan</td><td>nan</td><td>nan</td><td>False</td><td>0</td></tr>\n",
       "<tr><td>2</td><td>117482704</td><td>36.5058400777</td><td>-4.5637142028</td><td>0.99825078249</td><td>176838.65625</td><td>98.4632034302</td><td>178060.234375</td><td>113.444343567</td><td>16.8810577393</td><td>0.000604681379627</td><td>16.87358284</td><td>0.000691712659318</td><td>145.854385376</td><td>428154.375</td><td>161.419754028</td><td>15.927359581</td><td>0.000372128590243</td><td>15.920999527</td><td>0.000409322994528</td><td>189.515838623</td><td>566979.9375</td><td>197.331817627</td><td>15.6263399124</td><td>0.000366447115084</td><td>15.6160802841</td><td>0.000377867254429</td><td>264.327026367</td><td>656407.4375</td><td>267.110870361</td><td>15.727807045</td><td>0.000561169756111</td><td>15.4570665359</td><td>0.000441802229034</td><td>651.921691895</td><td>679306.9375</td><td>570.004882812</td><td>15.4437789917</td><td>0.00106545886956</td><td>15.4198350906</td><td>0.000911008391995</td><td>False</td><td>False</td><td>False</td><td>False</td><td>False</td><td>False</td><td>3</td><td>nan</td><td>nan</td><td>nan</td><td>nan</td><td>False</td><td>-1</td><td>nan</td><td>nan</td><td>nan</td><td>nan</td><td>nan</td><td>nan</td><td>nan</td><td>nan</td><td>nan</td><td>nan</td><td>nan</td><td>nan</td><td>nan</td><td>nan</td><td>False</td><td>nan</td><td>nan</td><td>False</td><td>nan</td><td>nan</td><td>False</td><td>nan</td><td>nan</td><td>nan</td><td>nan</td><td>nan</td><td>nan</td><td>nan</td><td>False</td><td>0</td></tr>\n",
       "<tr><td>3</td><td>117480721</td><td>36.3724150777</td><td>-4.5279712028</td><td>0.998923420906</td><td>193585.265625</td><td>130.39704895</td><td>192941.078125</td><td>136.11529541</td><td>16.7828197479</td><td>0.000731518433895</td><td>16.7864379883</td><td>0.000765935226809</td><td>187.765289307</td><td>680981.1875</td><td>293.268981934</td><td>15.9648656845</td><td>0.000495897082146</td><td>15.4171619415</td><td>0.000467563746497</td><td>236.264846802</td><td>nan</td><td>nan</td><td>17.9063453674</td><td>0.00373050058261</td><td>nan</td><td>nan</td><td>450.244720459</td><td>nan</td><td>nan</td><td>17.3303527832</td><td>0.00418234057724</td><td>nan</td><td>nan</td><td>1084.24780273</td><td>2039649.5</td><td>941.048156738</td><td>14.1991052628</td><td>0.000563119363505</td><td>14.226111412</td><td>0.000500917434692</td><td>False</td><td>False</td><td>False</td><td>False</td><td>False</td><td>False</td><td>3</td><td>nan</td><td>nan</td><td>nan</td><td>nan</td><td>False</td><td>-1</td><td>nan</td><td>nan</td><td>nan</td><td>nan</td><td>nan</td><td>nan</td><td>nan</td><td>nan</td><td>nan</td><td>nan</td><td>nan</td><td>nan</td><td>nan</td><td>nan</td><td>False</td><td>nan</td><td>nan</td><td>False</td><td>nan</td><td>nan</td><td>False</td><td>nan</td><td>nan</td><td>nan</td><td>nan</td><td>nan</td><td>nan</td><td>nan</td><td>False</td><td>0</td></tr>\n",
       "<tr><td>4</td><td>117483054</td><td>36.5159250777</td><td>-4.5683712028</td><td>0.98460650444</td><td>63924.359375</td><td>68.8311157227</td><td>64640.1054688</td><td>72.2535629272</td><td>17.9858341217</td><td>0.00116936000995</td><td>17.9737453461</td><td>0.001213576179</td><td>89.2559127808</td><td>104370.6875</td><td>86.1550369263</td><td>17.4671802521</td><td>0.000940456229728</td><td>17.4535541534</td><td>0.00089621450752</td><td>130.707015991</td><td>118695.25</td><td>104.216423035</td><td>17.3283596039</td><td>0.00121191667859</td><td>17.31391716</td><td>0.000953262846451</td><td>215.155395508</td><td>124998.210938</td><td>135.462051392</td><td>17.2730007172</td><td>0.00189575611148</td><td>17.2577400208</td><td>0.00117658602539</td><td>541.38659668</td><td>123834.359375</td><td>356.270751953</td><td>17.3044471741</td><td>0.00491039594635</td><td>17.2678966522</td><td>0.00312355277129</td><td>False</td><td>False</td><td>False</td><td>False</td><td>False</td><td>False</td><td>3</td><td>nan</td><td>nan</td><td>nan</td><td>nan</td><td>False</td><td>-1</td><td>nan</td><td>nan</td><td>nan</td><td>nan</td><td>nan</td><td>nan</td><td>nan</td><td>nan</td><td>nan</td><td>nan</td><td>nan</td><td>nan</td><td>nan</td><td>nan</td><td>False</td><td>nan</td><td>nan</td><td>False</td><td>nan</td><td>nan</td><td>False</td><td>nan</td><td>nan</td><td>nan</td><td>nan</td><td>nan</td><td>nan</td><td>nan</td><td>False</td><td>0</td></tr>\n",
       "<tr><td>5</td><td>117478983</td><td>36.3578640777</td><td>-4.4871102028</td><td>0.992640733719</td><td>46486.3203125</td><td>61.8713493347</td><td>47347.46875</td><td>73.6281661987</td><td>18.3316879272</td><td>0.00144542055205</td><td>18.3117580414</td><td>0.00168832892086</td><td>79.3722686768</td><td>67353.3359375</td><td>82.2321166992</td><td>17.9427509308</td><td>0.0012959811138</td><td>17.929101944</td><td>0.00132553803269</td><td>121.629776001</td><td>74499.0</td><td>103.985137939</td><td>17.8292160034</td><td>0.00178877671715</td><td>17.8196239471</td><td>0.00151541188825</td><td>225.303497314</td><td>76487.7109375</td><td>129.451477051</td><td>17.811832428</td><td>0.00326084787957</td><td>17.791021347</td><td>0.0018374909414</td><td>586.705505371</td><td>74243.578125</td><td>433.753692627</td><td>17.8691558838</td><td>0.00895184651017</td><td>17.8233528137</td><td>0.00634299172089</td><td>False</td><td>False</td><td>False</td><td>False</td><td>False</td><td>False</td><td>3</td><td>nan</td><td>nan</td><td>nan</td><td>nan</td><td>False</td><td>-1</td><td>nan</td><td>nan</td><td>nan</td><td>nan</td><td>nan</td><td>nan</td><td>nan</td><td>nan</td><td>nan</td><td>nan</td><td>nan</td><td>nan</td><td>nan</td><td>nan</td><td>False</td><td>nan</td><td>nan</td><td>False</td><td>nan</td><td>nan</td><td>False</td><td>nan</td><td>nan</td><td>nan</td><td>nan</td><td>nan</td><td>nan</td><td>nan</td><td>False</td><td>0</td></tr>\n",
       "<tr><td>6</td><td>117473383</td><td>36.4737350777</td><td>-4.3697862028</td><td>0.983844399452</td><td>35864.65625</td><td>60.9314346313</td><td>36590.3789062</td><td>66.7588653564</td><td>18.6133327484</td><td>0.00184503477067</td><td>18.591583252</td><td>0.00198085140437</td><td>103.093856812</td><td>119430.578125</td><td>106.334602356</td><td>17.2818050385</td><td>0.000915765529498</td><td>17.3072109222</td><td>0.000966649269685</td><td>140.761291504</td><td>187696.265625</td><td>145.520675659</td><td>16.8314342499</td><td>0.000825822469778</td><td>16.8163604736</td><td>0.000841741857585</td><td>294.434509277</td><td>235143.578125</td><td>211.407836914</td><td>16.5951957703</td><td>0.00138962210622</td><td>16.5716667175</td><td>0.000976107839961</td><td>690.867431641</td><td>247998.875</td><td>498.786834717</td><td>16.5576171875</td><td>0.00314971781336</td><td>16.5138759613</td><td>0.00218361010775</td><td>False</td><td>False</td><td>False</td><td>False</td><td>False</td><td>False</td><td>3</td><td>nan</td><td>nan</td><td>nan</td><td>nan</td><td>False</td><td>-1</td><td>nan</td><td>nan</td><td>nan</td><td>nan</td><td>nan</td><td>nan</td><td>nan</td><td>nan</td><td>nan</td><td>nan</td><td>nan</td><td>nan</td><td>nan</td><td>nan</td><td>False</td><td>nan</td><td>nan</td><td>False</td><td>nan</td><td>nan</td><td>False</td><td>nan</td><td>nan</td><td>nan</td><td>nan</td><td>nan</td><td>nan</td><td>nan</td><td>False</td><td>0</td></tr>\n",
       "<tr><td>7</td><td>117473331</td><td>36.4183230777</td><td>-4.3679712028</td><td>0.983007252216</td><td>27548.53125</td><td>65.1870651245</td><td>28091.5058594</td><td>60.1340065002</td><td>18.8997535706</td><td>0.00256976136006</td><td>18.8785629272</td><td>0.00232410081662</td><td>97.1820983887</td><td>72680.3203125</td><td>86.6742630005</td><td>17.8621463776</td><td>0.00147324497811</td><td>17.8464584351</td><td>0.0012947418727</td><td>151.49937439</td><td>101169.742188</td><td>116.460319519</td><td>17.5066623688</td><td>0.00165540969465</td><td>17.4873733521</td><td>0.00124979030807</td><td>283.189575195</td><td>120078.140625</td><td>175.284011841</td><td>17.3239479065</td><td>0.00261508719996</td><td>17.3013401031</td><td>0.00158485013526</td><td>675.584960938</td><td>125311.101562</td><td>433.743652344</td><td>17.2966556549</td><td>0.0060837646015</td><td>17.2550258636</td><td>0.00375797087327</td><td>False</td><td>False</td><td>False</td><td>False</td><td>False</td><td>False</td><td>3</td><td>nan</td><td>nan</td><td>nan</td><td>nan</td><td>False</td><td>-1</td><td>nan</td><td>nan</td><td>nan</td><td>nan</td><td>nan</td><td>nan</td><td>nan</td><td>nan</td><td>nan</td><td>nan</td><td>nan</td><td>nan</td><td>nan</td><td>nan</td><td>False</td><td>nan</td><td>nan</td><td>False</td><td>nan</td><td>nan</td><td>False</td><td>nan</td><td>nan</td><td>nan</td><td>nan</td><td>nan</td><td>nan</td><td>nan</td><td>False</td><td>0</td></tr>\n",
       "<tr><td>8</td><td>117483022</td><td>36.3743140777</td><td>-4.5669862028</td><td>0.982359111309</td><td>19377.1972656</td><td>51.2678146362</td><td>19719.5761719</td><td>45.6342544556</td><td>19.2817726135</td><td>0.00287331780419</td><td>19.2627563477</td><td>0.00251248362474</td><td>67.0335464478</td><td>29929.8632812</td><td>53.4317550659</td><td>18.8326072693</td><td>0.00248407805339</td><td>18.8097381592</td><td>0.00193822651636</td><td>109.633110046</td><td>34091.1328125</td><td>70.6521759033</td><td>18.6928520203</td><td>0.00357200973667</td><td>18.6683959961</td><td>0.00225005927496</td><td>211.036422729</td><td>35865.1171875</td><td>112.478263855</td><td>18.6509780884</td><td>0.00661574257538</td><td>18.613319397</td><td>0.00340491440147</td><td>518.127746582</td><td>34676.0820312</td><td>340.448516846</td><td>18.7255439758</td><td>0.0173974074423</td><td>18.6499252319</td><td>0.0106593640521</td><td>False</td><td>False</td><td>False</td><td>False</td><td>False</td><td>False</td><td>3</td><td>nan</td><td>nan</td><td>nan</td><td>nan</td><td>False</td><td>-1</td><td>nan</td><td>nan</td><td>nan</td><td>nan</td><td>nan</td><td>nan</td><td>nan</td><td>nan</td><td>nan</td><td>nan</td><td>nan</td><td>nan</td><td>nan</td><td>nan</td><td>False</td><td>nan</td><td>nan</td><td>False</td><td>nan</td><td>nan</td><td>False</td><td>nan</td><td>nan</td><td>nan</td><td>nan</td><td>nan</td><td>nan</td><td>nan</td><td>False</td><td>0</td></tr>\n",
       "<tr><td>9</td><td>117473032</td><td>36.4048640777</td><td>-4.3591482028</td><td>0.984276354313</td><td>18912.5195312</td><td>57.398853302</td><td>19314.6894531</td><td>52.4832229614</td><td>19.3081264496</td><td>0.00329597294331</td><td>19.2852802277</td><td>0.00295014004223</td><td>75.5224761963</td><td>22389.1738281</td><td>57.1780433655</td><td>19.147857666</td><td>0.00374152953736</td><td>19.1249046326</td><td>0.0027726884</td><td>124.393737793</td><td>19968.3671875</td><td>77.5816421509</td><td>19.2810287476</td><td>0.00696690520272</td><td>19.2491436005</td><td>0.00421819090843</td><td>244.716949463</td><td>20765.8359375</td><td>137.884536743</td><td>19.2428207397</td><td>0.0132318921387</td><td>19.2066268921</td><td>0.00720901601017</td><td>545.06262207</td><td>18001.359375</td><td>376.036376953</td><td>19.4679145813</td><td>0.0362612195313</td><td>19.3617362976</td><td>0.0226795487106</td><td>False</td><td>False</td><td>False</td><td>False</td><td>False</td><td>False</td><td>3</td><td>nan</td><td>nan</td><td>nan</td><td>nan</td><td>False</td><td>-1</td><td>nan</td><td>nan</td><td>nan</td><td>nan</td><td>nan</td><td>nan</td><td>nan</td><td>nan</td><td>nan</td><td>nan</td><td>nan</td><td>nan</td><td>nan</td><td>nan</td><td>False</td><td>nan</td><td>nan</td><td>False</td><td>nan</td><td>nan</td><td>False</td><td>nan</td><td>nan</td><td>nan</td><td>nan</td><td>nan</td><td>nan</td><td>nan</td><td>False</td><td>0</td></tr>\n",
       "</table><style>table.dataTable {clear: both; width: auto !important; margin: 0 !important;}\n",
       ".dataTables_info, .dataTables_length, .dataTables_filter, .dataTables_paginate{\n",
       "display: inline-block; margin-right: 1em; }\n",
       ".paginate_button { margin-right: 5px; }\n",
       "</style>\n",
       "<script>\n",
       "\n",
       "var astropy_sort_num = function(a, b) {\n",
       "    var a_num = parseFloat(a);\n",
       "    var b_num = parseFloat(b);\n",
       "\n",
       "    if (isNaN(a_num) && isNaN(b_num))\n",
       "        return ((a < b) ? -1 : ((a > b) ? 1 : 0));\n",
       "    else if (!isNaN(a_num) && !isNaN(b_num))\n",
       "        return ((a_num < b_num) ? -1 : ((a_num > b_num) ? 1 : 0));\n",
       "    else\n",
       "        return isNaN(a_num) ? -1 : 1;\n",
       "}\n",
       "\n",
       "require.config({paths: {\n",
       "    datatables: 'https://cdn.datatables.net/1.10.12/js/jquery.dataTables.min'\n",
       "}});\n",
       "require([\"datatables\"], function(){\n",
       "    console.log(\"$('#table4602937976-932504').dataTable()\");\n",
       "    \n",
       "jQuery.extend( jQuery.fn.dataTableExt.oSort, {\n",
       "    \"optionalnum-asc\": astropy_sort_num,\n",
       "    \"optionalnum-desc\": function (a,b) { return -astropy_sort_num(a, b); }\n",
       "});\n",
       "\n",
       "    $('#table4602937976-932504').dataTable({\n",
       "        order: [],\n",
       "        pageLength: 50,\n",
       "        lengthMenu: [[10, 25, 50, 100, 500, 1000, -1], [10, 25, 50, 100, 500, 1000, 'All']],\n",
       "        pagingType: \"full_numbers\",\n",
       "        columnDefs: [{targets: [0, 1, 2, 3, 4, 5, 6, 7, 8, 9, 10, 11, 12, 13, 14, 15, 16, 17, 18, 19, 20, 21, 22, 23, 24, 25, 26, 27, 28, 29, 30, 31, 32, 33, 34, 35, 36, 37, 38, 39, 40, 47, 48, 49, 50, 51, 53, 54, 55, 56, 57, 58, 59, 60, 61, 62, 63, 64, 65, 66, 67, 69, 70, 72, 73, 75, 76, 77, 78, 79, 80, 81, 83], type: \"optionalnum\"}]\n",
       "    });\n",
       "});\n",
       "</script>\n"
      ],
      "text/plain": [
       "<IPython.core.display.HTML object>"
      ]
     },
     "execution_count": 11,
     "metadata": {},
     "output_type": "execute_result"
    }
   ],
   "source": [
    "master_catalogue[:10].show_in_notebook()"
   ]
  },
  {
   "cell_type": "markdown",
   "metadata": {},
   "source": [
    "## III - Merging flags and stellarity\n",
    "\n",
    "Each pristine catalogue contains a flag indicating if the source was associated to a another nearby source that was removed during the cleaning process.  We merge these flags in a single one."
   ]
  },
  {
   "cell_type": "code",
   "execution_count": 12,
   "metadata": {
    "collapsed": true
   },
   "outputs": [],
   "source": [
    "flag_cleaned_columns = [column for column in master_catalogue.colnames\n",
    "                        if 'flag_cleaned' in column]\n",
    "\n",
    "flag_column = np.zeros(len(master_catalogue), dtype=bool)\n",
    "for column in flag_cleaned_columns:\n",
    "    flag_column |= master_catalogue[column]\n",
    "    \n",
    "master_catalogue.add_column(Column(data=flag_column, name=\"decam_flag_cleaned\"))\n",
    "master_catalogue.remove_columns(flag_cleaned_columns)"
   ]
  },
  {
   "cell_type": "markdown",
   "metadata": {},
   "source": [
    "Each pristine catalogue contains a flag indicating the probability of a source being a Gaia object (0: not a Gaia object, 1: possibly, 2: probably, 3: definitely).  We merge these flags taking the highest value."
   ]
  },
  {
   "cell_type": "code",
   "execution_count": 13,
   "metadata": {
    "collapsed": true
   },
   "outputs": [],
   "source": [
    "flag_gaia_columns = [column for column in master_catalogue.colnames\n",
    "                     if 'flag_gaia' in column]\n",
    "\n",
    "master_catalogue.add_column(Column(\n",
    "    data=np.max([master_catalogue[column] for column in flag_gaia_columns], axis=0),\n",
    "    name=\"decam_flag_gaia\"\n",
    "))\n",
    "master_catalogue.remove_columns(flag_gaia_columns)"
   ]
  },
  {
   "cell_type": "markdown",
   "metadata": {},
   "source": [
    "Each prisitine catalogue may contain one or several stellarity columns indicating the probability (0 to 1) of each source being a star.  We merge these columns taking the highest value."
   ]
  },
  {
   "cell_type": "code",
   "execution_count": 14,
   "metadata": {
    "collapsed": true
   },
   "outputs": [],
   "source": [
    "stellarity_columns = [column for column in master_catalogue.colnames\n",
    "                      if 'stellarity' in column]\n",
    "\n",
    "master_catalogue.add_column(Column(\n",
    "    data=np.nanmax([master_catalogue[column] for column in stellarity_columns], axis=0),\n",
    "    name=\"decam_stellarity\"\n",
    "))\n",
    "master_catalogue.remove_columns(stellarity_columns)"
   ]
  },
  {
   "cell_type": "markdown",
   "metadata": {},
   "source": [
    "## VIII - Cross-identification table\n",
    "\n",
    "We are producing a table associating to each HELP identifier, the identifiers of the sources in the pristine catalogue. This can be used to easily get additional information from them."
   ]
  },
  {
   "cell_type": "code",
   "execution_count": 15,
   "metadata": {
    "collapsed": true
   },
   "outputs": [],
   "source": [
    "master_catalogue.add_column(Column(data=(np.char.array(master_catalogue['des_id'].astype(str)) \n",
    "                                    +  np.char.array(master_catalogue['decals_id'].astype(str) )), \n",
    "                              name=\"decam_intid\"))\n"
   ]
  },
  {
   "cell_type": "code",
   "execution_count": 16,
   "metadata": {},
   "outputs": [
    {
     "name": "stdout",
     "output_type": "stream",
     "text": [
      "['des_id', 'decals_id', 'decam_intid']\n"
     ]
    }
   ],
   "source": [
    "\n",
    "id_names = []\n",
    "for col in master_catalogue.colnames:\n",
    "    if '_id' in col:\n",
    "        id_names += [col]\n",
    "    if '_intid' in col:\n",
    "        id_names += [col]\n",
    "        \n",
    "print(id_names)"
   ]
  },
  {
   "cell_type": "markdown",
   "metadata": {},
   "source": [
    "## VI - Choosing between multiple values for the same filter\n",
    "\n"
   ]
  },
  {
   "cell_type": "code",
   "execution_count": 17,
   "metadata": {
    "collapsed": true
   },
   "outputs": [],
   "source": [
    "decam_origin = Table()\n",
    "decam_origin.add_column(master_catalogue['decam_intid'])"
   ]
  },
  {
   "cell_type": "code",
   "execution_count": 18,
   "metadata": {
    "collapsed": true
   },
   "outputs": [],
   "source": [
    "decam_stats = Table()\n",
    "decam_stats.add_column(Column(data=['g','r','i','z','y'], name=\"Band\"))\n",
    "for col in [\"DES\", \"DECaLS\"]:\n",
    "    decam_stats.add_column(Column(data=np.full(5, 0), name=\"{}\".format(col)))\n",
    "    decam_stats.add_column(Column(data=np.full(5, 0), name=\"use {}\".format(col)))\n",
    "    decam_stats.add_column(Column(data=np.full(5, 0), name=\"{} ap\".format(col)))\n",
    "    decam_stats.add_column(Column(data=np.full(5, 0), name=\"use {} ap\".format(col)))"
   ]
  },
  {
   "cell_type": "code",
   "execution_count": 19,
   "metadata": {},
   "outputs": [],
   "source": [
    "decam_bands = ['g','r','i','z','y'] # Lowercase naming convention (k is Ks)\n",
    "for band in decam_bands:\n",
    "    if (band == 'i') or (band == 'y'):\n",
    "        master_catalogue[\"f_des-decam_{}\".format(band)].name = \"f_decam_{}\".format(band)\n",
    "        master_catalogue[\"ferr_des-decam_{}\".format(band)].name = \"ferr_decam_{}\".format(band)\n",
    "        master_catalogue[\"m_des-decam_{}\".format(band)].name = \"m_decam_{}\".format(band)\n",
    "        master_catalogue[\"merr_des-decam_{}\".format(band)].name = \"merr_decam_{}\".format(band)\n",
    "        master_catalogue[\"f_ap_des-decam_{}\".format(band)].name = \"f_ap_decam_{}\".format(band)\n",
    "        master_catalogue[\"ferr_ap_des-decam_{}\".format(band)].name = \"ferr_ap_decam_{}\".format(band)\n",
    "        master_catalogue[\"m_ap_des-decam_{}\".format(band)].name = \"m_ap_decam_{}\".format(band)\n",
    "        master_catalogue[\"merr_ap_des-decam_{}\".format(band)].name = \"merr_ap_decam_{}\".format(band)\n",
    "        master_catalogue[\"flag_des-decam_{}\".format(band)].name = \"flag_decam_{}\".format(band)\n",
    "        \n",
    "        continue\n",
    "\n",
    "    # DECam total flux \n",
    "    has_des = ~np.isnan(master_catalogue['f_des-decam_' + band])\n",
    "    has_decals = ~np.isnan(master_catalogue['f_decals-decam_' + band])\n",
    "\n",
    "    use_des = has_des \n",
    "    use_decals = has_decals & ~has_des\n",
    "\n",
    "\n",
    "    f_decam = np.full(len(master_catalogue), np.nan)\n",
    "    f_decam[use_des] = master_catalogue['f_des-decam_' + band][use_des]\n",
    "    f_decam[use_decals] = master_catalogue['f_decals-decam_' + band][use_decals]\n",
    "\n",
    "    ferr_decam = np.full(len(master_catalogue), np.nan)\n",
    "    ferr_decam[use_des] = master_catalogue['ferr_des-decam_' + band][use_des]\n",
    "    ferr_decam[use_decals] = master_catalogue['ferr_decals-decam_' + band][use_decals]\n",
    "    \n",
    "    m_decam = np.full(len(master_catalogue), np.nan)\n",
    "    m_decam[use_des] = master_catalogue['m_des-decam_' + band][use_des]\n",
    "    m_decam[use_decals] = master_catalogue['m_decals-decam_' + band][use_decals]\n",
    "    \n",
    "    merr_decam = np.full(len(master_catalogue), np.nan)\n",
    "    merr_decam[use_des] = master_catalogue['merr_des-decam_' + band][use_des]\n",
    "    merr_decam[use_decals] = master_catalogue['merr_decals-decam_' + band][use_decals]\n",
    "    \n",
    "    flag_decam = np.full(len(master_catalogue), False, dtype=bool)\n",
    "    flag_decam[use_des] = master_catalogue['flag_des-decam_' + band][use_des]\n",
    "    flag_decam[use_decals] = master_catalogue['flag_decals-decam_' + band][use_decals]\n",
    "\n",
    "    master_catalogue.add_column(Column(data=f_decam, name=\"f_decam_\" + band))\n",
    "    master_catalogue.add_column(Column(data=ferr_decam, name=\"ferr_decam_\" + band))\n",
    "    master_catalogue.add_column(Column(data=m_decam, name=\"m_decam_\" + band))\n",
    "    master_catalogue.add_column(Column(data=merr_decam, name=\"merr_decam_\" + band))\n",
    "    master_catalogue.add_column(Column(data=flag_decam, name=\"flag_decam_\" + band))\n",
    "\n",
    "\n",
    "    old_des_columns = ['f_des-decam_' + band,\n",
    "                               'ferr_des-decam_' + band,\n",
    "                               'm_des-decam_' + band, \n",
    "                               'merr_des-decam_' + band,\n",
    "                               'flag_des-decam_' + band]\n",
    "    old_decals_columns =      ['f_decals-decam_' + band,\n",
    "                               'ferr_decals-decam_' + band,\n",
    "                               'm_decals-decam_' + band, \n",
    "                               'merr_decals-decam_' + band,\n",
    "                               'flag_decals-decam_' + band]\n",
    "    \n",
    "    old_columns = old_des_columns + old_decals_columns\n",
    "    master_catalogue.remove_columns(old_columns)\n",
    "\n",
    "    origin = np.full(len(master_catalogue), '     ', dtype='<U5')\n",
    "    origin[use_des] = \"DES\"\n",
    "    origin[use_decals] = \"DECaLS\"\n",
    "\n",
    "    \n",
    "    decam_origin.add_column(Column(data=origin, name= 'f_decam_' + band ))\n",
    "    \n",
    "    # DECam aperture flux \n",
    " \n",
    "    has_ap_des = ~np.isnan(master_catalogue['f_ap_des-decam_' + band])\n",
    "    has_ap_decals = ~np.isnan(master_catalogue['f_ap_decals-decam_' + band])\n",
    "\n",
    "    use_ap_des = has_ap_des \n",
    "    use_ap_decals = has_ap_decals & ~has_ap_des\n",
    "\n",
    "\n",
    "    f_ap_decam = np.full(len(master_catalogue), np.nan)\n",
    "    f_ap_decam[use_ap_des] = master_catalogue['f_ap_des-decam_' + band][use_ap_des]\n",
    "    f_ap_decam[use_ap_decals] = master_catalogue['f_ap_decals-decam_' + band][use_ap_decals]\n",
    "\n",
    "    ferr_ap_decam = np.full(len(master_catalogue), np.nan)\n",
    "    ferr_ap_decam[use_ap_des] = master_catalogue['ferr_ap_des-decam_' + band][use_ap_des]\n",
    "    ferr_ap_decam[use_ap_decals] = master_catalogue['ferr_ap_decals-decam_' + band][use_ap_decals]\n",
    "    \n",
    "    m_ap_decam = np.full(len(master_catalogue), np.nan)\n",
    "    m_ap_decam[use_ap_des] = master_catalogue['m_ap_des-decam_' + band][use_ap_des]\n",
    "    m_ap_decam[use_ap_decals] = master_catalogue['m_ap_decals-decam_' + band][use_ap_decals]\n",
    "    \n",
    "    merr_ap_decam = np.full(len(master_catalogue), np.nan)\n",
    "    merr_ap_decam[use_ap_des] = master_catalogue['merr_ap_des-decam_' + band][use_ap_des]\n",
    "    merr_ap_decam[use_ap_decals] = master_catalogue['merr_ap_decals-decam_' + band][use_ap_decals]\n",
    "    \n",
    "\n",
    "    master_catalogue.add_column(Column(data=f_ap_decam, name=\"f_ap_decam_\" + band))\n",
    "    master_catalogue.add_column(Column(data=ferr_ap_decam, name=\"ferr_ap_decam_\" + band))\n",
    "    master_catalogue.add_column(Column(data=m_ap_decam, name=\"m_ap_decam_\" + band))\n",
    "    master_catalogue.add_column(Column(data=merr_ap_decam, name=\"merr_ap_decam_\" + band))\n",
    "  \n",
    "\n",
    "\n",
    "    old_ap_des_columns = ['f_ap_des-decam_' + band,\n",
    "                               'ferr_ap_des-decam_' + band,\n",
    "                               'm_ap_des-decam_' + band, \n",
    "                               'merr_ap_des-decam_' + band]\n",
    "    old_ap_decals_columns =      ['f_ap_decals-decam_' + band,\n",
    "                               'ferr_ap_decals-decam_' + band,\n",
    "                               'm_ap_decals-decam_' + band, \n",
    "                               'merr_ap_decals-decam_' + band]\n",
    "    \n",
    "    old_ap_columns = old_ap_des_columns + old_ap_decals_columns\n",
    "    master_catalogue.remove_columns(old_ap_columns)\n",
    "\n",
    "    origin_ap = np.full(len(master_catalogue), '     ', dtype='<U5')\n",
    "    origin_ap[use_ap_des] = \"DES\"\n",
    "    origin_ap[use_ap_decals] = \"DECaLS\"\n",
    "\n",
    "    \n",
    "    decam_origin.add_column(Column(data=origin_ap, name= 'f_ap_decam_' + band ))    \n",
    "\n",
    "   \n",
    "    decam_stats['DES'][decam_stats['Band'] == band] = np.sum(has_des)\n",
    "    decam_stats['DECaLS'][decam_stats['Band'] == band] = np.sum(has_decals)\n",
    "\n",
    "    decam_stats['use DES'][decam_stats['Band'] == band] = np.sum(use_des)\n",
    "    decam_stats['use DECaLS'][decam_stats['Band'] == band] = np.sum(use_decals)\n",
    "\n",
    "    decam_stats['DES ap'][decam_stats['Band'] == band] = np.sum(has_ap_des)\n",
    "    decam_stats['DECaLS ap'][decam_stats['Band'] == band] = np.sum(has_ap_decals)\n",
    "\n",
    "    decam_stats['use DES ap'][decam_stats['Band'] == band] = np.sum(use_ap_des)\n",
    "    decam_stats['use DECaLS ap'][decam_stats['Band'] == band] = np.sum(use_ap_decals)\n"
   ]
  },
  {
   "cell_type": "code",
   "execution_count": 20,
   "metadata": {},
   "outputs": [
    {
     "data": {
      "text/html": [
       "&lt;Table length=5&gt;\n",
       "<table id=\"table4606576120-724948\" class=\"table-striped table-bordered table-condensed\">\n",
       "<thead><tr><th>idx</th><th>Band</th><th>DES</th><th>use DES</th><th>DES ap</th><th>use DES ap</th><th>DECaLS</th><th>use DECaLS</th><th>DECaLS ap</th><th>use DECaLS ap</th></tr></thead>\n",
       "<tr><td>0</td><td>g</td><td>3089</td><td>3089</td><td>1239</td><td>1239</td><td>3291</td><td>1065</td><td>3139</td><td>2211</td></tr>\n",
       "<tr><td>1</td><td>r</td><td>0</td><td>0</td><td>1855</td><td>1855</td><td>3290</td><td>3290</td><td>3118</td><td>1725</td></tr>\n",
       "<tr><td>2</td><td>i</td><td>0</td><td>0</td><td>0</td><td>0</td><td>0</td><td>0</td><td>0</td><td>0</td></tr>\n",
       "<tr><td>3</td><td>z</td><td>0</td><td>0</td><td>1308</td><td>1308</td><td>3292</td><td>3292</td><td>3039</td><td>2021</td></tr>\n",
       "<tr><td>4</td><td>y</td><td>0</td><td>0</td><td>0</td><td>0</td><td>0</td><td>0</td><td>0</td><td>0</td></tr>\n",
       "</table><style>table.dataTable {clear: both; width: auto !important; margin: 0 !important;}\n",
       ".dataTables_info, .dataTables_length, .dataTables_filter, .dataTables_paginate{\n",
       "display: inline-block; margin-right: 1em; }\n",
       ".paginate_button { margin-right: 5px; }\n",
       "</style>\n",
       "<script>\n",
       "\n",
       "var astropy_sort_num = function(a, b) {\n",
       "    var a_num = parseFloat(a);\n",
       "    var b_num = parseFloat(b);\n",
       "\n",
       "    if (isNaN(a_num) && isNaN(b_num))\n",
       "        return ((a < b) ? -1 : ((a > b) ? 1 : 0));\n",
       "    else if (!isNaN(a_num) && !isNaN(b_num))\n",
       "        return ((a_num < b_num) ? -1 : ((a_num > b_num) ? 1 : 0));\n",
       "    else\n",
       "        return isNaN(a_num) ? -1 : 1;\n",
       "}\n",
       "\n",
       "require.config({paths: {\n",
       "    datatables: 'https://cdn.datatables.net/1.10.12/js/jquery.dataTables.min'\n",
       "}});\n",
       "require([\"datatables\"], function(){\n",
       "    console.log(\"$('#table4606576120-724948').dataTable()\");\n",
       "    \n",
       "jQuery.extend( jQuery.fn.dataTableExt.oSort, {\n",
       "    \"optionalnum-asc\": astropy_sort_num,\n",
       "    \"optionalnum-desc\": function (a,b) { return -astropy_sort_num(a, b); }\n",
       "});\n",
       "\n",
       "    $('#table4606576120-724948').dataTable({\n",
       "        order: [],\n",
       "        pageLength: 50,\n",
       "        lengthMenu: [[10, 25, 50, 100, 500, 1000, -1], [10, 25, 50, 100, 500, 1000, 'All']],\n",
       "        pagingType: \"full_numbers\",\n",
       "        columnDefs: [{targets: [0, 2, 3, 4, 5, 6, 7, 8, 9], type: \"optionalnum\"}]\n",
       "    });\n",
       "});\n",
       "</script>\n"
      ],
      "text/plain": [
       "<IPython.core.display.HTML object>"
      ]
     },
     "execution_count": 20,
     "metadata": {},
     "output_type": "execute_result"
    }
   ],
   "source": [
    "decam_stats.show_in_notebook()"
   ]
  },
  {
   "cell_type": "code",
   "execution_count": 21,
   "metadata": {
    "collapsed": true
   },
   "outputs": [],
   "source": [
    "decam_origin.write(\"{}/xmm-lss_decam_fluxes_origins{}.fits\".format(OUT_DIR, SUFFIX), overwrite=True)"
   ]
  },
  {
   "cell_type": "markdown",
   "metadata": {},
   "source": [
    "## IX - Saving the catalogue"
   ]
  },
  {
   "cell_type": "code",
   "execution_count": 22,
   "metadata": {},
   "outputs": [
    {
     "data": {
      "text/plain": [
       "['des_id',\n",
       " 'ra',\n",
       " 'dec',\n",
       " 'ferr_decam_i',\n",
       " 'f_ap_decam_i',\n",
       " 'ferr_ap_decam_i',\n",
       " 'm_decam_i',\n",
       " 'merr_decam_i',\n",
       " 'm_ap_decam_i',\n",
       " 'merr_ap_decam_i',\n",
       " 'ferr_decam_y',\n",
       " 'f_ap_decam_y',\n",
       " 'ferr_ap_decam_y',\n",
       " 'm_decam_y',\n",
       " 'merr_decam_y',\n",
       " 'm_ap_decam_y',\n",
       " 'merr_ap_decam_y',\n",
       " 'flag_decam_i',\n",
       " 'flag_decam_y',\n",
       " 'f_decam_i',\n",
       " 'f_decam_y',\n",
       " 'flag_merged',\n",
       " 'decals_id',\n",
       " 'decam_flag_cleaned',\n",
       " 'decam_flag_gaia',\n",
       " 'decam_stellarity',\n",
       " 'decam_intid',\n",
       " 'f_decam_g',\n",
       " 'ferr_decam_g',\n",
       " 'm_decam_g',\n",
       " 'merr_decam_g',\n",
       " 'flag_decam_g',\n",
       " 'f_ap_decam_g',\n",
       " 'ferr_ap_decam_g',\n",
       " 'm_ap_decam_g',\n",
       " 'merr_ap_decam_g',\n",
       " 'f_decam_r',\n",
       " 'ferr_decam_r',\n",
       " 'm_decam_r',\n",
       " 'merr_decam_r',\n",
       " 'flag_decam_r',\n",
       " 'f_ap_decam_r',\n",
       " 'ferr_ap_decam_r',\n",
       " 'm_ap_decam_r',\n",
       " 'merr_ap_decam_r',\n",
       " 'f_decam_z',\n",
       " 'ferr_decam_z',\n",
       " 'm_decam_z',\n",
       " 'merr_decam_z',\n",
       " 'flag_decam_z',\n",
       " 'f_ap_decam_z',\n",
       " 'ferr_ap_decam_z',\n",
       " 'm_ap_decam_z',\n",
       " 'merr_ap_decam_z']"
      ]
     },
     "execution_count": 22,
     "metadata": {},
     "output_type": "execute_result"
    }
   ],
   "source": [
    "master_catalogue.colnames"
   ]
  },
  {
   "cell_type": "code",
   "execution_count": 23,
   "metadata": {
    "collapsed": true
   },
   "outputs": [],
   "source": [
    "master_catalogue[\"ra\"].name = \"decam_ra\"\n",
    "master_catalogue[\"dec\"].name = \"decam_dec\"\n",
    "master_catalogue[\"flag_merged\"].name = \"decam_flag_merged\""
   ]
  },
  {
   "cell_type": "code",
   "execution_count": 24,
   "metadata": {
    "collapsed": true
   },
   "outputs": [],
   "source": [
    "columns = [\"decam_intid\", \"des_id\", \"decals_id\",\n",
    "           'decam_ra', 'decam_dec', 'decam_flag_merged',  \n",
    "           'decam_flag_cleaned',  'decam_flag_gaia', 'decam_stellarity']\n",
    "\n",
    "bands = [column[5:] for column in master_catalogue.colnames if 'f_ap' in column]\n",
    "for band in bands:\n",
    "    columns += [\"f_ap_{}\".format(band), \"ferr_ap_{}\".format(band),\n",
    "                \"m_ap_{}\".format(band), \"merr_ap_{}\".format(band),\n",
    "                \"f_{}\".format(band), \"ferr_{}\".format(band),\n",
    "                \"m_{}\".format(band), \"merr_{}\".format(band),\n",
    "                \"flag_{}\".format(band)]    \n"
   ]
  },
  {
   "cell_type": "code",
   "execution_count": 25,
   "metadata": {},
   "outputs": [
    {
     "name": "stdout",
     "output_type": "stream",
     "text": [
      "Missing columns: set()\n"
     ]
    }
   ],
   "source": [
    "# We check for columns in the master catalogue that we will not save to disk.\n",
    "print(\"Missing columns: {}\".format(set(master_catalogue.colnames) - set(columns)))"
   ]
  },
  {
   "cell_type": "code",
   "execution_count": 26,
   "metadata": {},
   "outputs": [
    {
     "data": {
      "text/html": [
       "&lt;Table length=10&gt;\n",
       "<table id=\"table4607524256-253309\" class=\"table-striped table-bordered table-condensed\">\n",
       "<thead><tr><th>idx</th><th>des_id</th><th>decam_ra</th><th>decam_dec</th><th>ferr_decam_i</th><th>f_ap_decam_i</th><th>ferr_ap_decam_i</th><th>m_decam_i</th><th>merr_decam_i</th><th>m_ap_decam_i</th><th>merr_ap_decam_i</th><th>ferr_decam_y</th><th>f_ap_decam_y</th><th>ferr_ap_decam_y</th><th>m_decam_y</th><th>merr_decam_y</th><th>m_ap_decam_y</th><th>merr_ap_decam_y</th><th>flag_decam_i</th><th>flag_decam_y</th><th>f_decam_i</th><th>f_decam_y</th><th>decam_flag_merged</th><th>decals_id</th><th>decam_flag_cleaned</th><th>decam_flag_gaia</th><th>decam_stellarity</th><th>decam_intid</th><th>f_decam_g</th><th>ferr_decam_g</th><th>m_decam_g</th><th>merr_decam_g</th><th>flag_decam_g</th><th>f_ap_decam_g</th><th>ferr_ap_decam_g</th><th>m_ap_decam_g</th><th>merr_ap_decam_g</th><th>f_decam_r</th><th>ferr_decam_r</th><th>m_decam_r</th><th>merr_decam_r</th><th>flag_decam_r</th><th>f_ap_decam_r</th><th>ferr_ap_decam_r</th><th>m_ap_decam_r</th><th>merr_ap_decam_r</th><th>f_decam_z</th><th>ferr_decam_z</th><th>m_decam_z</th><th>merr_decam_z</th><th>flag_decam_z</th><th>f_ap_decam_z</th><th>ferr_ap_decam_z</th><th>m_ap_decam_z</th><th>merr_ap_decam_z</th></tr></thead>\n",
       "<thead><tr><th></th><th></th><th>deg</th><th>deg</th><th></th><th></th><th></th><th></th><th></th><th></th><th></th><th></th><th></th><th></th><th></th><th></th><th></th><th></th><th></th><th></th><th></th><th></th><th></th><th></th><th></th><th></th><th></th><th></th><th></th><th></th><th></th><th></th><th></th><th></th><th></th><th></th><th></th><th></th><th></th><th></th><th></th><th></th><th></th><th></th><th></th><th></th><th></th><th></th><th></th><th></th><th></th><th></th><th></th><th></th><th></th></tr></thead>\n",
       "<tr><td>0</td><td>117472574</td><td>36.4982660777</td><td>-4.3546492028</td><td>237.14364624</td><td>nan</td><td>nan</td><td>17.7047901154</td><td>0.00310998037457</td><td>nan</td><td>nan</td><td>1120.83337402</td><td>1106394.5</td><td>746.111572266</td><td>14.8521223068</td><td>0.00106223323382</td><td>14.8902254105</td><td>0.000732155924197</td><td>False</td><td>False</td><td>nan</td><td>nan</td><td>False</td><td>-1</td><td>False</td><td>3</td><td>0.999620735645</td><td>117472574-1</td><td>627577.5</td><td>210.878005981</td><td>15.5058317184</td><td>0.000364916719263</td><td>False</td><td>622513.0</td><td>237.839477539</td><td>15.514629364</td><td>0.000414806301706</td><td>nan</td><td>nan</td><td>nan</td><td>nan</td><td>False</td><td>nan</td><td>nan</td><td>nan</td><td>nan</td><td>nan</td><td>nan</td><td>nan</td><td>nan</td><td>False</td><td>1127991.125</td><td>656.743408203</td><td>14.8692359924</td><td>0.000632120470982</td></tr>\n",
       "<tr><td>1</td><td>117480986</td><td>36.3719590777</td><td>-4.5311002028</td><td>188.461090088</td><td>nan</td><td>nan</td><td>17.9430828094</td><td>0.00307811424136</td><td>nan</td><td>nan</td><td>931.119934082</td><td>1130470.875</td><td>752.74407959</td><td>14.8522958755</td><td>0.000882579304744</td><td>14.8668518066</td><td>0.000722932629287</td><td>False</td><td>False</td><td>nan</td><td>nan</td><td>False</td><td>-1</td><td>False</td><td>3</td><td>0.999829351902</td><td>117480986-1</td><td>391742.65625</td><td>163.329925537</td><td>16.0174980164</td><td>0.000452787819086</td><td>False</td><td>391911.3125</td><td>189.648574829</td><td>16.0170307159</td><td>0.000525377690792</td><td>nan</td><td>nan</td><td>nan</td><td>nan</td><td>False</td><td>785510.6875</td><td>451.99520874</td><td>15.2621202469</td><td>0.000624728854746</td><td>nan</td><td>nan</td><td>nan</td><td>nan</td><td>False</td><td>1101524.375</td><td>641.356140137</td><td>14.8950147629</td><td>0.000632142531686</td></tr>\n",
       "<tr><td>2</td><td>117482704</td><td>36.5058400777</td><td>-4.5637142028</td><td>189.515838623</td><td>566979.9375</td><td>197.331817627</td><td>15.6263399124</td><td>0.000366447115084</td><td>15.6160802841</td><td>0.000377867254429</td><td>651.921691895</td><td>679306.9375</td><td>570.004882812</td><td>15.4437789917</td><td>0.00106545886956</td><td>15.4198350906</td><td>0.000911008391995</td><td>False</td><td>False</td><td>nan</td><td>nan</td><td>False</td><td>-1</td><td>False</td><td>3</td><td>0.99825078249</td><td>117482704-1</td><td>176838.65625</td><td>98.4632034302</td><td>16.8810577393</td><td>0.000604681379627</td><td>False</td><td>178060.234375</td><td>113.444343567</td><td>16.87358284</td><td>0.000691712659318</td><td>nan</td><td>nan</td><td>nan</td><td>nan</td><td>False</td><td>428154.375</td><td>161.419754028</td><td>15.920999527</td><td>0.000409322994528</td><td>nan</td><td>nan</td><td>nan</td><td>nan</td><td>False</td><td>656407.4375</td><td>267.110870361</td><td>15.4570665359</td><td>0.000441802229034</td></tr>\n",
       "<tr><td>3</td><td>117480721</td><td>36.3724150777</td><td>-4.5279712028</td><td>236.264846802</td><td>nan</td><td>nan</td><td>17.9063453674</td><td>0.00373050058261</td><td>nan</td><td>nan</td><td>1084.24780273</td><td>2039649.5</td><td>941.048156738</td><td>14.1991052628</td><td>0.000563119363505</td><td>14.226111412</td><td>0.000500917434692</td><td>False</td><td>False</td><td>nan</td><td>nan</td><td>False</td><td>-1</td><td>False</td><td>3</td><td>0.998923420906</td><td>117480721-1</td><td>193585.265625</td><td>130.39704895</td><td>16.7828197479</td><td>0.000731518433895</td><td>False</td><td>192941.078125</td><td>136.11529541</td><td>16.7864379883</td><td>0.000765935226809</td><td>nan</td><td>nan</td><td>nan</td><td>nan</td><td>False</td><td>680981.1875</td><td>293.268981934</td><td>15.4171619415</td><td>0.000467563746497</td><td>nan</td><td>nan</td><td>nan</td><td>nan</td><td>False</td><td>nan</td><td>nan</td><td>nan</td><td>nan</td></tr>\n",
       "<tr><td>4</td><td>117483054</td><td>36.5159250777</td><td>-4.5683712028</td><td>130.707015991</td><td>118695.25</td><td>104.216423035</td><td>17.3283596039</td><td>0.00121191667859</td><td>17.31391716</td><td>0.000953262846451</td><td>541.38659668</td><td>123834.359375</td><td>356.270751953</td><td>17.3044471741</td><td>0.00491039594635</td><td>17.2678966522</td><td>0.00312355277129</td><td>False</td><td>False</td><td>nan</td><td>nan</td><td>False</td><td>-1</td><td>False</td><td>3</td><td>0.98460650444</td><td>117483054-1</td><td>63924.359375</td><td>68.8311157227</td><td>17.9858341217</td><td>0.00116936000995</td><td>False</td><td>64640.1054688</td><td>72.2535629272</td><td>17.9737453461</td><td>0.001213576179</td><td>nan</td><td>nan</td><td>nan</td><td>nan</td><td>False</td><td>104370.6875</td><td>86.1550369263</td><td>17.4535541534</td><td>0.00089621450752</td><td>nan</td><td>nan</td><td>nan</td><td>nan</td><td>False</td><td>124998.210938</td><td>135.462051392</td><td>17.2577400208</td><td>0.00117658602539</td></tr>\n",
       "<tr><td>5</td><td>117478983</td><td>36.3578640777</td><td>-4.4871102028</td><td>121.629776001</td><td>74499.0</td><td>103.985137939</td><td>17.8292160034</td><td>0.00178877671715</td><td>17.8196239471</td><td>0.00151541188825</td><td>586.705505371</td><td>74243.578125</td><td>433.753692627</td><td>17.8691558838</td><td>0.00895184651017</td><td>17.8233528137</td><td>0.00634299172089</td><td>False</td><td>False</td><td>nan</td><td>nan</td><td>False</td><td>-1</td><td>False</td><td>3</td><td>0.992640733719</td><td>117478983-1</td><td>46486.3203125</td><td>61.8713493347</td><td>18.3316879272</td><td>0.00144542055205</td><td>False</td><td>47347.46875</td><td>73.6281661987</td><td>18.3117580414</td><td>0.00168832892086</td><td>nan</td><td>nan</td><td>nan</td><td>nan</td><td>False</td><td>67353.3359375</td><td>82.2321166992</td><td>17.929101944</td><td>0.00132553803269</td><td>nan</td><td>nan</td><td>nan</td><td>nan</td><td>False</td><td>76487.7109375</td><td>129.451477051</td><td>17.791021347</td><td>0.0018374909414</td></tr>\n",
       "<tr><td>6</td><td>117473383</td><td>36.4737350777</td><td>-4.3697862028</td><td>140.761291504</td><td>187696.265625</td><td>145.520675659</td><td>16.8314342499</td><td>0.000825822469778</td><td>16.8163604736</td><td>0.000841741857585</td><td>690.867431641</td><td>247998.875</td><td>498.786834717</td><td>16.5576171875</td><td>0.00314971781336</td><td>16.5138759613</td><td>0.00218361010775</td><td>False</td><td>False</td><td>nan</td><td>nan</td><td>False</td><td>-1</td><td>False</td><td>3</td><td>0.983844399452</td><td>117473383-1</td><td>35864.65625</td><td>60.9314346313</td><td>18.6133327484</td><td>0.00184503477067</td><td>False</td><td>36590.3789062</td><td>66.7588653564</td><td>18.591583252</td><td>0.00198085140437</td><td>nan</td><td>nan</td><td>nan</td><td>nan</td><td>False</td><td>119430.578125</td><td>106.334602356</td><td>17.3072109222</td><td>0.000966649269685</td><td>nan</td><td>nan</td><td>nan</td><td>nan</td><td>False</td><td>235143.578125</td><td>211.407836914</td><td>16.5716667175</td><td>0.000976107839961</td></tr>\n",
       "<tr><td>7</td><td>117473331</td><td>36.4183230777</td><td>-4.3679712028</td><td>151.49937439</td><td>101169.742188</td><td>116.460319519</td><td>17.5066623688</td><td>0.00165540969465</td><td>17.4873733521</td><td>0.00124979030807</td><td>675.584960938</td><td>125311.101562</td><td>433.743652344</td><td>17.2966556549</td><td>0.0060837646015</td><td>17.2550258636</td><td>0.00375797087327</td><td>False</td><td>False</td><td>nan</td><td>nan</td><td>False</td><td>-1</td><td>False</td><td>3</td><td>0.983007252216</td><td>117473331-1</td><td>27548.53125</td><td>65.1870651245</td><td>18.8997535706</td><td>0.00256976136006</td><td>False</td><td>28091.5058594</td><td>60.1340065002</td><td>18.8785629272</td><td>0.00232410081662</td><td>nan</td><td>nan</td><td>nan</td><td>nan</td><td>False</td><td>72680.3203125</td><td>86.6742630005</td><td>17.8464584351</td><td>0.0012947418727</td><td>nan</td><td>nan</td><td>nan</td><td>nan</td><td>False</td><td>120078.140625</td><td>175.284011841</td><td>17.3013401031</td><td>0.00158485013526</td></tr>\n",
       "<tr><td>8</td><td>117483022</td><td>36.3743140777</td><td>-4.5669862028</td><td>109.633110046</td><td>34091.1328125</td><td>70.6521759033</td><td>18.6928520203</td><td>0.00357200973667</td><td>18.6683959961</td><td>0.00225005927496</td><td>518.127746582</td><td>34676.0820312</td><td>340.448516846</td><td>18.7255439758</td><td>0.0173974074423</td><td>18.6499252319</td><td>0.0106593640521</td><td>False</td><td>False</td><td>nan</td><td>nan</td><td>False</td><td>-1</td><td>False</td><td>3</td><td>0.982359111309</td><td>117483022-1</td><td>19377.1972656</td><td>51.2678146362</td><td>19.2817726135</td><td>0.00287331780419</td><td>False</td><td>19719.5761719</td><td>45.6342544556</td><td>19.2627563477</td><td>0.00251248362474</td><td>nan</td><td>nan</td><td>nan</td><td>nan</td><td>False</td><td>29929.8632812</td><td>53.4317550659</td><td>18.8097381592</td><td>0.00193822651636</td><td>nan</td><td>nan</td><td>nan</td><td>nan</td><td>False</td><td>35865.1171875</td><td>112.478263855</td><td>18.613319397</td><td>0.00340491440147</td></tr>\n",
       "<tr><td>9</td><td>117473032</td><td>36.4048640777</td><td>-4.3591482028</td><td>124.393737793</td><td>19968.3671875</td><td>77.5816421509</td><td>19.2810287476</td><td>0.00696690520272</td><td>19.2491436005</td><td>0.00421819090843</td><td>545.06262207</td><td>18001.359375</td><td>376.036376953</td><td>19.4679145813</td><td>0.0362612195313</td><td>19.3617362976</td><td>0.0226795487106</td><td>False</td><td>False</td><td>nan</td><td>nan</td><td>False</td><td>-1</td><td>False</td><td>3</td><td>0.984276354313</td><td>117473032-1</td><td>18912.5195312</td><td>57.398853302</td><td>19.3081264496</td><td>0.00329597294331</td><td>False</td><td>19314.6894531</td><td>52.4832229614</td><td>19.2852802277</td><td>0.00295014004223</td><td>nan</td><td>nan</td><td>nan</td><td>nan</td><td>False</td><td>22389.1738281</td><td>57.1780433655</td><td>19.1249046326</td><td>0.0027726884</td><td>nan</td><td>nan</td><td>nan</td><td>nan</td><td>False</td><td>20765.8359375</td><td>137.884536743</td><td>19.2066268921</td><td>0.00720901601017</td></tr>\n",
       "</table><style>table.dataTable {clear: both; width: auto !important; margin: 0 !important;}\n",
       ".dataTables_info, .dataTables_length, .dataTables_filter, .dataTables_paginate{\n",
       "display: inline-block; margin-right: 1em; }\n",
       ".paginate_button { margin-right: 5px; }\n",
       "</style>\n",
       "<script>\n",
       "\n",
       "var astropy_sort_num = function(a, b) {\n",
       "    var a_num = parseFloat(a);\n",
       "    var b_num = parseFloat(b);\n",
       "\n",
       "    if (isNaN(a_num) && isNaN(b_num))\n",
       "        return ((a < b) ? -1 : ((a > b) ? 1 : 0));\n",
       "    else if (!isNaN(a_num) && !isNaN(b_num))\n",
       "        return ((a_num < b_num) ? -1 : ((a_num > b_num) ? 1 : 0));\n",
       "    else\n",
       "        return isNaN(a_num) ? -1 : 1;\n",
       "}\n",
       "\n",
       "require.config({paths: {\n",
       "    datatables: 'https://cdn.datatables.net/1.10.12/js/jquery.dataTables.min'\n",
       "}});\n",
       "require([\"datatables\"], function(){\n",
       "    console.log(\"$('#table4607524256-253309').dataTable()\");\n",
       "    \n",
       "jQuery.extend( jQuery.fn.dataTableExt.oSort, {\n",
       "    \"optionalnum-asc\": astropy_sort_num,\n",
       "    \"optionalnum-desc\": function (a,b) { return -astropy_sort_num(a, b); }\n",
       "});\n",
       "\n",
       "    $('#table4607524256-253309').dataTable({\n",
       "        order: [],\n",
       "        pageLength: 50,\n",
       "        lengthMenu: [[10, 25, 50, 100, 500, 1000, -1], [10, 25, 50, 100, 500, 1000, 'All']],\n",
       "        pagingType: \"full_numbers\",\n",
       "        columnDefs: [{targets: [0, 1, 2, 3, 4, 5, 6, 7, 8, 9, 10, 11, 12, 13, 14, 15, 16, 17, 20, 21, 23, 25, 26, 28, 29, 30, 31, 33, 34, 35, 36, 37, 38, 39, 40, 42, 43, 44, 45, 46, 47, 48, 49, 51, 52, 53, 54], type: \"optionalnum\"}]\n",
       "    });\n",
       "});\n",
       "</script>\n"
      ],
      "text/plain": [
       "<IPython.core.display.HTML object>"
      ]
     },
     "execution_count": 26,
     "metadata": {},
     "output_type": "execute_result"
    }
   ],
   "source": [
    "master_catalogue[:10].show_in_notebook()"
   ]
  },
  {
   "cell_type": "code",
   "execution_count": 27,
   "metadata": {
    "collapsed": true
   },
   "outputs": [],
   "source": [
    "master_catalogue[columns].write(\"{}/decam_merged_catalogue_xmm-lss.fits\".format(TMP_DIR), overwrite=True)"
   ]
  }
 ],
 "metadata": {
  "kernelspec": {
   "display_name": "Python (herschelhelp_internal)",
   "language": "python",
   "name": "helpint"
  },
  "language_info": {
   "codemirror_mode": {
    "name": "ipython",
    "version": 3
   },
   "file_extension": ".py",
   "mimetype": "text/x-python",
   "name": "python",
   "nbconvert_exporter": "python",
   "pygments_lexer": "ipython3",
   "version": "3.6.1"
  }
 },
 "nbformat": 4,
 "nbformat_minor": 2
}
