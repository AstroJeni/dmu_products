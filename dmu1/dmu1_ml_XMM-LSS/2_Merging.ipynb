{
 "cells": [
  {
   "cell_type": "markdown",
   "metadata": {},
   "source": [
    "# XMM-LSS master catalogue\n",
    "\n",
    "This notebook presents the merge of the various pristine catalogues to produce the HELP master catalogue on XMM-LSS."
   ]
  },
  {
   "cell_type": "code",
   "execution_count": 1,
   "metadata": {},
   "outputs": [
    {
     "name": "stdout",
     "output_type": "stream",
     "text": [
      "This notebook was run with herschelhelp_internal version: \n",
      "91cdb7b (Fri Oct 20 11:48:11 2017 +0100) [with local modifications]\n"
     ]
    }
   ],
   "source": [
    "from herschelhelp_internal import git_version\n",
    "print(\"This notebook was run with herschelhelp_internal version: \\n{}\".format(git_version()))"
   ]
  },
  {
   "cell_type": "code",
   "execution_count": 2,
   "metadata": {},
   "outputs": [
    {
     "name": "stderr",
     "output_type": "stream",
     "text": [
      "/Users/rs548/anaconda/envs/herschelhelp_internal/lib/python3.6/site-packages/seaborn/apionly.py:6: UserWarning: As seaborn no longer sets a default style on import, the seaborn.apionly module is deprecated. It will be removed in a future version.\n",
      "  warnings.warn(msg, UserWarning)\n"
     ]
    }
   ],
   "source": [
    "%matplotlib inline\n",
    "#%config InlineBackend.figure_format = 'svg'\n",
    "\n",
    "import matplotlib.pyplot as plt\n",
    "plt.rc('figure', figsize=(10, 6))\n",
    "\n",
    "import os\n",
    "import time\n",
    "\n",
    "from astropy import units as u\n",
    "from astropy.coordinates import SkyCoord\n",
    "from astropy.table import Column, Table\n",
    "import numpy as np\n",
    "from pymoc import MOC\n",
    "\n",
    "from herschelhelp_internal.masterlist import merge_catalogues, nb_merge_dist_plot, specz_merge\n",
    "from herschelhelp_internal.utils import coords_to_hpidx, ebv, gen_help_id, inMoc"
   ]
  },
  {
   "cell_type": "code",
   "execution_count": 3,
   "metadata": {
    "collapsed": true
   },
   "outputs": [],
   "source": [
    "TMP_DIR = os.environ.get('TMP_DIR', \"./data_tmp\")\n",
    "OUT_DIR = os.environ.get('OUT_DIR', \"./data\")\n",
    "SUFFIX = os.environ.get('SUFFIX', time.strftime(\"_%Y%m%d\"))\n",
    "\n",
    "try:\n",
    "    os.makedirs(OUT_DIR)\n",
    "except FileExistsError:\n",
    "    pass"
   ]
  },
  {
   "cell_type": "markdown",
   "metadata": {},
   "source": [
    "## I - Reading the prepared pristine catalogues"
   ]
  },
  {
   "cell_type": "code",
   "execution_count": 4,
   "metadata": {
    "collapsed": true
   },
   "outputs": [],
   "source": [
    "candels = Table.read(\"{}/CANDELS.fits\".format(TMP_DIR))           # 1.1\n",
    "cfht_wirds = Table.read(\"{}/CFHT-WIRDS.fits\".format(TMP_DIR))     # 1.3\n",
    "cfhtls_wide = Table.read(\"{}/CFHTLS-WIDE.fits\".format(TMP_DIR))   # 1.4a\n",
    "cfhtls_deep = Table.read(\"{}/CFHTLS-DEEP.fits\".format(TMP_DIR))   # 1.4b\n",
    "#We no longer use CFHTLenS as it is the same raw data set as CFHTLS-WIDE\n",
    "# cfhtlens = Table.read(\"{}/CFHTLENS.fits\".format(TMP_DIR))         # 1.5\n",
    "decals = Table.read(\"{}/DECaLS.fits\".format(TMP_DIR))             # 1.6\n",
    "servs = Table.read(\"{}/SERVS.fits\".format(TMP_DIR))               # 1.8\n",
    "swire = Table.read(\"{}/SWIRE.fits\".format(TMP_DIR))               # 1.7\n",
    "hsc_wide = Table.read(\"{}/HSC-WIDE.fits\".format(TMP_DIR))         # 1.9a\n",
    "hsc_deep = Table.read(\"{}/HSC-DEEP.fits\".format(TMP_DIR))         # 1.9b\n",
    "hsc_udeep = Table.read(\"{}/HSC-UDEEP.fits\".format(TMP_DIR))       # 1.9c\n",
    "ps1 = Table.read(\"{}/PS1.fits\".format(TMP_DIR))                   # 1.10\n",
    "sxds = Table.read(\"{}/SXDS.fits\".format(TMP_DIR))                 # 1.11\n",
    "sparcs = Table.read(\"{}/SpARCS.fits\".format(TMP_DIR))             # 1.12\n",
    "dxs = Table.read(\"{}/UKIDSS-DXS.fits\".format(TMP_DIR))            # 1.13\n",
    "uds = Table.read(\"{}/UKIDSS-UDS.fits\".format(TMP_DIR))            # 1.14\n",
    "vipers = Table.read(\"{}/VIPERS.fits\".format(TMP_DIR))             # 1.15\n",
    "vhs = Table.read(\"{}/VISTA-VHS.fits\".format(TMP_DIR))             # 1.16\n",
    "video = Table.read(\"{}/VISTA-VIDEO.fits\".format(TMP_DIR))         # 1.17\n",
    "viking = Table.read(\"{}/VISTA-VIKING.fits\".format(TMP_DIR))       # 1.18"
   ]
  },
  {
   "cell_type": "markdown",
   "metadata": {},
   "source": [
    "## II - Merging tables\n",
    "\n",
    "We first merge the optical catalogues and then add the infrared ones. We start with PanSTARRS because it coevrs the whole field.\n",
    "\n",
    "At every step, we look at the distribution of the distances to the nearest source in the merged catalogue to determine the best crossmatching radius."
   ]
  },
  {
   "cell_type": "markdown",
   "metadata": {},
   "source": [
    "### Add PanSTARRS"
   ]
  },
  {
   "cell_type": "code",
   "execution_count": 5,
   "metadata": {
    "collapsed": true
   },
   "outputs": [],
   "source": [
    "master_catalogue = ps1\n",
    "master_catalogue['ps1_ra'].name = 'ra'\n",
    "master_catalogue['ps1_dec'].name = 'dec'"
   ]
  },
  {
   "cell_type": "markdown",
   "metadata": {},
   "source": [
    "### CANDELS"
   ]
  },
  {
   "cell_type": "code",
   "execution_count": 6,
   "metadata": {},
   "outputs": [
    {
     "name": "stdout",
     "output_type": "stream",
     "text": [
      "HELP Warning: There weren't any cross matches. The two surveys probably don't overlap.\n"
     ]
    }
   ],
   "source": [
    "nb_merge_dist_plot(\n",
    "    SkyCoord(master_catalogue['ra'], master_catalogue['dec']),\n",
    "    SkyCoord(candels['candels_ra'], candels['candels_dec'])\n",
    ")"
   ]
  },
  {
   "cell_type": "code",
   "execution_count": 7,
   "metadata": {
    "collapsed": true
   },
   "outputs": [],
   "source": [
    "# Given the graph above, we use 0.8 arc-second radius\n",
    "master_catalogue = merge_catalogues(master_catalogue, candels, \"candels_ra\", \"candels_dec\", radius=0.8*u.arcsec)"
   ]
  },
  {
   "cell_type": "markdown",
   "metadata": {},
   "source": [
    "### Add CFHT-WIRDS"
   ]
  },
  {
   "cell_type": "code",
   "execution_count": 8,
   "metadata": {},
   "outputs": [
    {
     "name": "stdout",
     "output_type": "stream",
     "text": [
      "HELP Warning: There weren't any cross matches. The two surveys probably don't overlap.\n"
     ]
    }
   ],
   "source": [
    "nb_merge_dist_plot(\n",
    "    SkyCoord(master_catalogue['ra'], master_catalogue['dec']),\n",
    "    SkyCoord(cfht_wirds['wirds_ra'], cfht_wirds['wirds_dec'])\n",
    ")"
   ]
  },
  {
   "cell_type": "markdown",
   "metadata": {},
   "source": [
    "Because CFHT-WIRDS is made by merging the different bands it has a flag_merged columns which must be removed. We throw this information away because one can get back to the original object using the combined id as described in the notebook."
   ]
  },
  {
   "cell_type": "code",
   "execution_count": 9,
   "metadata": {
    "collapsed": true
   },
   "outputs": [],
   "source": [
    "cfht_wirds['flag_merged'].name = 'flag_merged_wirds'"
   ]
  },
  {
   "cell_type": "code",
   "execution_count": 10,
   "metadata": {},
   "outputs": [
    {
     "name": "stderr",
     "output_type": "stream",
     "text": [
      "WARNING: MergeConflictWarning: Cannot merge meta key 'EXTNAME' types <class 'str'> and <class 'str'>, choosing EXTNAME='/Users/rs548/GitHub/dmu_products/dmu1/dmu1_ml_XMM-LSS/data_tmp/CF...' [astropy.utils.metadata]\n",
      "WARNING: MergeConflictWarning: Cannot merge meta key 'DATE-HDU' types <class 'str'> and <class 'str'>, choosing DATE-HDU='2017-10-26T17:44:50' [astropy.utils.metadata]\n",
      "WARNING: MergeConflictWarning: Cannot merge meta key 'EXTNAME' types <class 'str'> and <class 'str'>, choosing EXTNAME='/Users/rs548/GitHub/dmu_products/dmu1/dmu1_ml_XMM-LSS/data_tmp/CF...' [astropy.utils.metadata]\n",
      "WARNING: MergeConflictWarning: Cannot merge meta key 'DATE-HDU' types <class 'str'> and <class 'str'>, choosing DATE-HDU='2017-10-26T17:44:50' [astropy.utils.metadata]\n"
     ]
    }
   ],
   "source": [
    "# Given the graph above, we use 0.8 arc-second radius\n",
    "master_catalogue = merge_catalogues(master_catalogue, cfht_wirds, \"wirds_ra\", \"wirds_dec\", radius=0.8*u.arcsec)"
   ]
  },
  {
   "cell_type": "markdown",
   "metadata": {},
   "source": [
    "### Add CFHTLS"
   ]
  },
  {
   "cell_type": "code",
   "execution_count": 11,
   "metadata": {},
   "outputs": [
    {
     "data": {
      "image/png": "[encoded data removed]",
      "text/plain": [
       "<matplotlib.figure.Figure at 0x112e28f28>"
      ]
     },
     "metadata": {},
     "output_type": "display_data"
    }
   ],
   "source": [
    "nb_merge_dist_plot(\n",
    "    SkyCoord(master_catalogue['ra'], master_catalogue['dec']),\n",
    "    SkyCoord(cfhtls_wide['cfhtls-wide_ra'], cfhtls_wide['cfhtls-wide_dec'])\n",
    ")"
   ]
  },
  {
   "cell_type": "code",
   "execution_count": 12,
   "metadata": {
    "collapsed": true
   },
   "outputs": [],
   "source": [
    "# Given the graph above, we use 0.8 arc-second radius\n",
    "master_catalogue = merge_catalogues(master_catalogue, \n",
    "                                    cfhtls_wide, \n",
    "                                    \"cfhtls-wide_ra\", \n",
    "                                    \"cfhtls-wide_dec\", \n",
    "                                    radius=0.8*u.arcsec)\n",
    "master_catalogue = merge_catalogues(master_catalogue, \n",
    "                                    cfhtls_deep, \n",
    "                                    \"cfhtls-deep_ra\", \n",
    "                                    \"cfhtls-deep_dec\", \n",
    "                                    radius=0.8*u.arcsec)"
   ]
  },
  {
   "cell_type": "markdown",
   "metadata": {},
   "source": [
    "### Add CFHT-LenS\n",
    "\n",
    "CFHTLenS is no longer included since it is made from the same raw data as CFHTLS"
   ]
  },
  {
   "cell_type": "code",
   "execution_count": 13,
   "metadata": {},
   "outputs": [
    {
     "data": {
      "text/plain": [
       "\"\\nnb_merge_dist_plot(\\n    SkyCoord(master_catalogue['ra'], master_catalogue['dec']),\\n    SkyCoord(cfhtlens['cfhtlens_ra'], cfhtlens['cfhtlens_dec'])\\n)\\n\""
      ]
     },
     "execution_count": 13,
     "metadata": {},
     "output_type": "execute_result"
    }
   ],
   "source": [
    "\"\"\"\n",
    "nb_merge_dist_plot(\n",
    "    SkyCoord(master_catalogue['ra'], master_catalogue['dec']),\n",
    "    SkyCoord(cfhtlens['cfhtlens_ra'], cfhtlens['cfhtlens_dec'])\n",
    ")\n",
    "\"\"\""
   ]
  },
  {
   "cell_type": "code",
   "execution_count": 14,
   "metadata": {},
   "outputs": [
    {
     "data": {
      "text/plain": [
       "'# Given the graph above, we use 0.8 arc-second radius\\nmaster_catalogue = merge_catalogues(master_catalogue, \\n                                    cfhtlens, \\n                                    \"cfhtlens_ra\", \\n                                    \"cfhtlens_dec\", \\n                                    radius=0.8*u.arcsec)'"
      ]
     },
     "execution_count": 14,
     "metadata": {},
     "output_type": "execute_result"
    }
   ],
   "source": [
    "\"\"\"# Given the graph above, we use 0.8 arc-second radius\n",
    "master_catalogue = merge_catalogues(master_catalogue, \n",
    "                                    cfhtlens, \n",
    "                                    \"cfhtlens_ra\", \n",
    "                                    \"cfhtlens_dec\", \n",
    "                                    radius=0.8*u.arcsec)\"\"\""
   ]
  },
  {
   "cell_type": "markdown",
   "metadata": {},
   "source": [
    "### Add HSC-PSS"
   ]
  },
  {
   "cell_type": "code",
   "execution_count": 15,
   "metadata": {},
   "outputs": [
    {
     "data": {
      "image/png": "[encoded data removed]",
      "text/plain": [
       "<matplotlib.figure.Figure at 0x136f481d0>"
      ]
     },
     "metadata": {},
     "output_type": "display_data"
    }
   ],
   "source": [
    "nb_merge_dist_plot(\n",
    "    SkyCoord(master_catalogue['ra'], master_catalogue['dec']),\n",
    "    SkyCoord(hsc_wide['hsc-wide_ra'], hsc_wide['hsc-wide_dec'])\n",
    ")"
   ]
  },
  {
   "cell_type": "code",
   "execution_count": 16,
   "metadata": {},
   "outputs": [
    {
     "name": "stderr",
     "output_type": "stream",
     "text": [
      "WARNING: MergeConflictWarning: Cannot merge meta key 'EXTNAME' types <class 'str'> and <class 'str'>, choosing EXTNAME='/Users/rs548/GitHub/dmu_products/dmu1/dmu1_ml_XMM-LSS/data_tmp/HS...' [astropy.utils.metadata]\n",
      "WARNING: MergeConflictWarning: Cannot merge meta key 'DATE-HDU' types <class 'str'> and <class 'str'>, choosing DATE-HDU='2017-10-27T11:26:18' [astropy.utils.metadata]\n",
      "WARNING: MergeConflictWarning: Cannot merge meta key 'EXTNAME' types <class 'str'> and <class 'str'>, choosing EXTNAME='/Users/rs548/GitHub/dmu_products/dmu1/dmu1_ml_XMM-LSS/data_tmp/HS...' [astropy.utils.metadata]\n",
      "WARNING: MergeConflictWarning: Cannot merge meta key 'DATE-HDU' types <class 'str'> and <class 'str'>, choosing DATE-HDU='2017-10-27T11:26:18' [astropy.utils.metadata]\n"
     ]
    }
   ],
   "source": [
    "# Given the graph above, we use 0.8 arc-second radius\n",
    "master_catalogue = merge_catalogues(master_catalogue, hsc_wide, \"hsc-wide_ra\", \"hsc-wide_dec\", radius=0.8*u.arcsec)\n",
    "master_catalogue = merge_catalogues(master_catalogue, hsc_deep, \"hsc-deep_ra\", \"hsc-deep_dec\", radius=0.8*u.arcsec)\n",
    "master_catalogue = merge_catalogues(master_catalogue, hsc_udeep, \"hsc-udeep_ra\", \"hsc-udeep_dec\", radius=0.8*u.arcsec)"
   ]
  },
  {
   "cell_type": "markdown",
   "metadata": {},
   "source": [
    "### Add DECaLS"
   ]
  },
  {
   "cell_type": "code",
   "execution_count": 17,
   "metadata": {},
   "outputs": [
    {
     "data": {
      "image/png": "[encoded data removed]",
      "text/plain": [
       "<matplotlib.figure.Figure at 0x13166be80>"
      ]
     },
     "metadata": {},
     "output_type": "display_data"
    }
   ],
   "source": [
    "nb_merge_dist_plot(\n",
    "    SkyCoord(master_catalogue['ra'], master_catalogue['dec']),\n",
    "    SkyCoord(decals['decals_ra'], decals['decals_dec'])\n",
    ")"
   ]
  },
  {
   "cell_type": "code",
   "execution_count": 18,
   "metadata": {
    "collapsed": true
   },
   "outputs": [],
   "source": [
    "# Given the graph above, we use 0.8 arc-second radius\n",
    "master_catalogue = merge_catalogues(master_catalogue, decals, \"decals_ra\", \"decals_dec\", radius=0.8*u.arcsec)"
   ]
  },
  {
   "cell_type": "markdown",
   "metadata": {},
   "source": [
    "### Add SpARCS"
   ]
  },
  {
   "cell_type": "code",
   "execution_count": 19,
   "metadata": {},
   "outputs": [
    {
     "name": "stdout",
     "output_type": "stream",
     "text": [
      "HELP Warning: There weren't any cross matches. The two surveys probably don't overlap.\n"
     ]
    }
   ],
   "source": [
    "nb_merge_dist_plot(\n",
    "    SkyCoord(master_catalogue['ra'], master_catalogue['dec']),\n",
    "    SkyCoord(sparcs['sparcs_ra'], sparcs['sparcs_dec'])\n",
    ")"
   ]
  },
  {
   "cell_type": "code",
   "execution_count": 20,
   "metadata": {},
   "outputs": [],
   "source": [
    "# Given the graph above, we use 0.8 arc-second radius\n",
    "master_catalogue = merge_catalogues(master_catalogue, sparcs, \"sparcs_ra\", \"sparcs_dec\", radius=0.8*u.arcsec)"
   ]
  },
  {
   "cell_type": "markdown",
   "metadata": {},
   "source": [
    "### Add SXDS"
   ]
  },
  {
   "cell_type": "code",
   "execution_count": 21,
   "metadata": {},
   "outputs": [
    {
     "name": "stdout",
     "output_type": "stream",
     "text": [
      "HELP Warning: There weren't any cross matches. The two surveys probably don't overlap.\n"
     ]
    }
   ],
   "source": [
    "nb_merge_dist_plot(\n",
    "    SkyCoord(master_catalogue['ra'], master_catalogue['dec']),\n",
    "    SkyCoord(sxds['sxds_ra'], sxds['sxds_dec'])\n",
    ")"
   ]
  },
  {
   "cell_type": "markdown",
   "metadata": {},
   "source": [
    "It is strange that this does not peak at zero. This is bservable in the original band cross match. It implies there is a persistent offset. Perhaps each band should be astrometrically corrected before the original merge."
   ]
  },
  {
   "cell_type": "code",
   "execution_count": 22,
   "metadata": {
    "collapsed": true
   },
   "outputs": [],
   "source": [
    "sxds['flag_merged'].name = 'flag_merged_sxds'"
   ]
  },
  {
   "cell_type": "code",
   "execution_count": 23,
   "metadata": {},
   "outputs": [
    {
     "name": "stderr",
     "output_type": "stream",
     "text": [
      "WARNING: MergeConflictWarning: Cannot merge meta key 'EXTNAME' types <class 'str'> and <class 'str'>, choosing EXTNAME='/Users/rs548/GitHub/dmu_products/dmu1/dmu1_ml_XMM-LSS/data_tmp/SX...' [astropy.utils.metadata]\n",
      "WARNING: MergeConflictWarning: Cannot merge meta key 'DATE-HDU' types <class 'str'> and <class 'str'>, choosing DATE-HDU='2017-10-26T17:47:19' [astropy.utils.metadata]\n",
      "WARNING: MergeConflictWarning: Cannot merge meta key 'EXTNAME' types <class 'str'> and <class 'str'>, choosing EXTNAME='/Users/rs548/GitHub/dmu_products/dmu1/dmu1_ml_XMM-LSS/data_tmp/SX...' [astropy.utils.metadata]\n",
      "WARNING: MergeConflictWarning: Cannot merge meta key 'DATE-HDU' types <class 'str'> and <class 'str'>, choosing DATE-HDU='2017-10-26T17:47:19' [astropy.utils.metadata]\n"
     ]
    }
   ],
   "source": [
    "# Given the graph above, we use 0.8 arc-second radius\n",
    "master_catalogue = merge_catalogues(master_catalogue, sxds, \"sxds_ra\", \"sxds_dec\", radius=0.8*u.arcsec)"
   ]
  },
  {
   "cell_type": "markdown",
   "metadata": {},
   "source": [
    "### Add DXS"
   ]
  },
  {
   "cell_type": "code",
   "execution_count": 24,
   "metadata": {},
   "outputs": [
    {
     "data": {
      "image/png": "[encoded data removed]",
      "text/plain": [
       "<matplotlib.figure.Figure at 0x1316434e0>"
      ]
     },
     "metadata": {},
     "output_type": "display_data"
    }
   ],
   "source": [
    "nb_merge_dist_plot(\n",
    "    SkyCoord(master_catalogue['ra'], master_catalogue['dec']),\n",
    "    SkyCoord(dxs['dxs_ra'], dxs['dxs_dec'])\n",
    ")"
   ]
  },
  {
   "cell_type": "code",
   "execution_count": 25,
   "metadata": {},
   "outputs": [
    {
     "name": "stderr",
     "output_type": "stream",
     "text": [
      "WARNING: MergeConflictWarning: Cannot merge meta key 'EXTNAME' types <class 'str'> and <class 'str'>, choosing EXTNAME='/Users/rs548/GitHub/dmu_products/dmu1/dmu1_ml_XMM-LSS/data_tmp/UK...' [astropy.utils.metadata]\n",
      "WARNING: MergeConflictWarning: Cannot merge meta key 'DATE-HDU' types <class 'str'> and <class 'str'>, choosing DATE-HDU='2017-10-27T13:11:51' [astropy.utils.metadata]\n",
      "WARNING: MergeConflictWarning: Cannot merge meta key 'EXTNAME' types <class 'str'> and <class 'str'>, choosing EXTNAME='/Users/rs548/GitHub/dmu_products/dmu1/dmu1_ml_XMM-LSS/data_tmp/UK...' [astropy.utils.metadata]\n",
      "WARNING: MergeConflictWarning: Cannot merge meta key 'DATE-HDU' types <class 'str'> and <class 'str'>, choosing DATE-HDU='2017-10-27T13:11:51' [astropy.utils.metadata]\n"
     ]
    }
   ],
   "source": [
    "# Given the graph above, we use 0.8 arc-second radius\n",
    "master_catalogue = merge_catalogues(master_catalogue, dxs, \"dxs_ra\", \"dxs_dec\", radius=0.8*u.arcsec)"
   ]
  },
  {
   "cell_type": "markdown",
   "metadata": {},
   "source": [
    "### Add UDS"
   ]
  },
  {
   "cell_type": "code",
   "execution_count": 26,
   "metadata": {},
   "outputs": [
    {
     "data": {
      "image/png": "[encoded data removed]",
      "text/plain": [
       "<matplotlib.figure.Figure at 0x107fad9e8>"
      ]
     },
     "metadata": {},
     "output_type": "display_data"
    }
   ],
   "source": [
    "nb_merge_dist_plot(\n",
    "    SkyCoord(master_catalogue['ra'], master_catalogue['dec']),\n",
    "    SkyCoord(uds['uds_ra'], uds['uds_dec'])\n",
    ")"
   ]
  },
  {
   "cell_type": "code",
   "execution_count": 27,
   "metadata": {},
   "outputs": [
    {
     "name": "stderr",
     "output_type": "stream",
     "text": [
      "WARNING: MergeConflictWarning: Cannot merge meta key 'DATE-HDU' types <class 'str'> and <class 'str'>, choosing DATE-HDU='2017-10-27T13:11:22' [astropy.utils.metadata]\n",
      "WARNING: MergeConflictWarning: Cannot merge meta key 'DATE-HDU' types <class 'str'> and <class 'str'>, choosing DATE-HDU='2017-10-27T13:11:22' [astropy.utils.metadata]\n"
     ]
    }
   ],
   "source": [
    "# Given the graph above, we use 0.8 arc-second radius\n",
    "master_catalogue = merge_catalogues(master_catalogue, uds, \"uds_ra\", \"uds_dec\", radius=0.8*u.arcsec)"
   ]
  },
  {
   "cell_type": "markdown",
   "metadata": {},
   "source": [
    "### Add VIPERS"
   ]
  },
  {
   "cell_type": "code",
   "execution_count": null,
   "metadata": {},
   "outputs": [
    {
     "data": {
      "image/png": "[encoded data removed]",
      "text/plain": [
       "<matplotlib.figure.Figure at 0x1142336d8>"
      ]
     },
     "metadata": {},
     "output_type": "display_data"
    }
   ],
   "source": [
    "nb_merge_dist_plot(\n",
    "    SkyCoord(master_catalogue['ra'], master_catalogue['dec']),\n",
    "    SkyCoord(vipers['vipers_ra'], vipers['vipers_dec'])\n",
    ")"
   ]
  },
  {
   "cell_type": "code",
   "execution_count": null,
   "metadata": {},
   "outputs": [],
   "source": [
    "# Given the graph above, we use 0.8 arc-second radius\n",
    "master_catalogue = merge_catalogues(master_catalogue, vipers, \"vipers_ra\", \"vipers_dec\", radius=0.8*u.arcsec)"
   ]
  },
  {
   "cell_type": "markdown",
   "metadata": {},
   "source": [
    "### Add VIDEO"
   ]
  },
  {
   "cell_type": "code",
   "execution_count": null,
   "metadata": {},
   "outputs": [],
   "source": [
    "nb_merge_dist_plot(\n",
    "    SkyCoord(master_catalogue['ra'], master_catalogue['dec']),\n",
    "    SkyCoord(video['video_ra'], video['video_dec'])\n",
    ")"
   ]
  },
  {
   "cell_type": "code",
   "execution_count": null,
   "metadata": {},
   "outputs": [],
   "source": [
    "# Given the graph above, we use 0.8 arc-second radius\n",
    "master_catalogue = merge_catalogues(master_catalogue, video, \"video_ra\", \"video_dec\", radius=0.8*u.arcsec)"
   ]
  },
  {
   "cell_type": "markdown",
   "metadata": {},
   "source": [
    "### Add VHS"
   ]
  },
  {
   "cell_type": "code",
   "execution_count": null,
   "metadata": {},
   "outputs": [],
   "source": [
    "nb_merge_dist_plot(\n",
    "    SkyCoord(master_catalogue['ra'], master_catalogue['dec']),\n",
    "    SkyCoord(vhs['vhs_ra'], vhs['vhs_dec'])\n",
    ")"
   ]
  },
  {
   "cell_type": "code",
   "execution_count": null,
   "metadata": {},
   "outputs": [],
   "source": [
    "# Given the graph above, we use 0.8 arc-second radius\n",
    "master_catalogue = merge_catalogues(master_catalogue, vhs, \"vhs_ra\", \"vhs_dec\", radius=0.8*u.arcsec)"
   ]
  },
  {
   "cell_type": "markdown",
   "metadata": {},
   "source": [
    "### Add VIKING"
   ]
  },
  {
   "cell_type": "code",
   "execution_count": null,
   "metadata": {},
   "outputs": [],
   "source": [
    "nb_merge_dist_plot(\n",
    "    SkyCoord(master_catalogue['ra'], master_catalogue['dec']),\n",
    "    SkyCoord(viking['viking_ra'], viking['viking_dec'])\n",
    ")"
   ]
  },
  {
   "cell_type": "code",
   "execution_count": null,
   "metadata": {},
   "outputs": [],
   "source": [
    "# Given the graph above, we use 0.8 arc-second radius\n",
    "master_catalogue = merge_catalogues(master_catalogue, viking, \"viking_ra\", \"viking_dec\", radius=0.8*u.arcsec)"
   ]
  },
  {
   "cell_type": "markdown",
   "metadata": {},
   "source": [
    "### Add SERVS"
   ]
  },
  {
   "cell_type": "code",
   "execution_count": null,
   "metadata": {},
   "outputs": [],
   "source": [
    "nb_merge_dist_plot(\n",
    "    SkyCoord(master_catalogue['ra'], master_catalogue['dec']),\n",
    "    SkyCoord(servs['servs_ra'], servs['servs_dec'])\n",
    ")"
   ]
  },
  {
   "cell_type": "code",
   "execution_count": null,
   "metadata": {
    "collapsed": true
   },
   "outputs": [],
   "source": [
    "# Given the graph above, we use 1 arc-second radius\n",
    "master_catalogue = merge_catalogues(master_catalogue, servs, \"servs_ra\", \"servs_dec\", radius=1.*u.arcsec)"
   ]
  },
  {
   "cell_type": "markdown",
   "metadata": {},
   "source": [
    "### Add SWIRE"
   ]
  },
  {
   "cell_type": "code",
   "execution_count": null,
   "metadata": {},
   "outputs": [],
   "source": [
    "nb_merge_dist_plot(\n",
    "    SkyCoord(master_catalogue['ra'], master_catalogue['dec']),\n",
    "    SkyCoord(swire['swire_ra'], swire['swire_dec'])\n",
    ")"
   ]
  },
  {
   "cell_type": "code",
   "execution_count": null,
   "metadata": {
    "collapsed": true
   },
   "outputs": [],
   "source": [
    "# Given the graph above, we use 1 arc-second radius\n",
    "master_catalogue = merge_catalogues(master_catalogue, swire, \"swire_ra\", \"swire_dec\", radius=1.*u.arcsec)"
   ]
  },
  {
   "cell_type": "markdown",
   "metadata": {},
   "source": [
    "### Cleaning\n",
    "\n",
    "When we merge the catalogues, astropy masks the non-existent values (e.g. when a row comes only from a catalogue and has no counterparts in the other, the columns from the latest are masked for that row). We indicate to use NaN for masked values for floats columns, False for flag columns and -1 for ID columns."
   ]
  },
  {
   "cell_type": "code",
   "execution_count": null,
   "metadata": {},
   "outputs": [],
   "source": [
    "for col in master_catalogue.colnames:\n",
    "    if \"m_\" in col or \"merr_\" in col or \"f_\" in col or \"ferr_\" in col or \"stellarity\" in col:\n",
    "        master_catalogue[col] = master_catalogue[col].astype(float)\n",
    "        master_catalogue[col].fill_value = np.nan\n",
    "    elif \"flag\" in col:\n",
    "        master_catalogue[col].fill_value = 0\n",
    "    elif \"id\" in col:\n",
    "        master_catalogue[col].fill_value = -1\n",
    "        \n",
    "master_catalogue = master_catalogue.filled()"
   ]
  },
  {
   "cell_type": "code",
   "execution_count": null,
   "metadata": {},
   "outputs": [],
   "source": [
    "master_catalogue[:10].show_in_notebook()"
   ]
  },
  {
   "cell_type": "markdown",
   "metadata": {},
   "source": [
    "## III - Merging flags and stellarity\n",
    "\n",
    "Each pristine catalogue contains a flag indicating if the source was associated to a another nearby source that was removed during the cleaning process.  We merge these flags in a single one."
   ]
  },
  {
   "cell_type": "code",
   "execution_count": null,
   "metadata": {
    "collapsed": true
   },
   "outputs": [],
   "source": [
    "flag_cleaned_columns = [column for column in master_catalogue.colnames\n",
    "                        if 'flag_cleaned' in column]\n",
    "\n",
    "flag_column = np.zeros(len(master_catalogue), dtype=bool)\n",
    "for column in flag_cleaned_columns:\n",
    "    flag_column |= master_catalogue[column]\n",
    "    \n",
    "master_catalogue.add_column(Column(data=flag_column, name=\"flag_cleaned\"))\n",
    "master_catalogue.remove_columns(flag_cleaned_columns)"
   ]
  },
  {
   "cell_type": "markdown",
   "metadata": {},
   "source": [
    "combining the flag_merged column which contains information regarding multiple associations"
   ]
  },
  {
   "cell_type": "code",
   "execution_count": null,
   "metadata": {
    "collapsed": true
   },
   "outputs": [],
   "source": [
    "master_catalogue['flag_merged'].name = 'flag_merged_tmp'\n",
    "flag_merged_columns = [column for column in master_catalogue.colnames\n",
    "                        if 'flag_merged' in column]\n",
    "\n",
    "flag_merged_column = np.zeros(len(master_catalogue), dtype=bool)\n",
    "for column in flag_merged_columns:\n",
    "    flag_merged_column |= master_catalogue[column]\n",
    "    \n",
    "master_catalogue.add_column(Column(data=flag_merged_column, name=\"flag_merged\"))\n",
    "master_catalogue.remove_columns(flag_merged_columns)"
   ]
  },
  {
   "cell_type": "markdown",
   "metadata": {},
   "source": [
    "Each pristine catalogue contains a flag indicating the probability of a source being a Gaia object (0: not a Gaia object, 1: possibly, 2: probably, 3: definitely).  We merge these flags taking the highest value."
   ]
  },
  {
   "cell_type": "code",
   "execution_count": null,
   "metadata": {
    "collapsed": true
   },
   "outputs": [],
   "source": [
    "flag_gaia_columns = [column for column in master_catalogue.colnames\n",
    "                     if 'flag_gaia' in column]\n",
    "\n",
    "master_catalogue.add_column(Column(\n",
    "    data=np.max([master_catalogue[column] for column in flag_gaia_columns], axis=0),\n",
    "    name=\"flag_gaia\"\n",
    "))\n",
    "master_catalogue.remove_columns(flag_gaia_columns)"
   ]
  },
  {
   "cell_type": "markdown",
   "metadata": {},
   "source": [
    "Each prisitine catalogue may contain one or several stellarity columns indicating the probability (0 to 1) of each source being a star.  We merge these columns taking the highest value. We keep trace of the origin of the stellarity."
   ]
  },
  {
   "cell_type": "code",
   "execution_count": null,
   "metadata": {},
   "outputs": [],
   "source": [
    "stellarity_columns = [column for column in master_catalogue.colnames\n",
    "                      if 'stellarity' in column]\n",
    "\n",
    "print(\", \".join(stellarity_columns))"
   ]
  },
  {
   "cell_type": "code",
   "execution_count": null,
   "metadata": {
    "collapsed": true
   },
   "outputs": [],
   "source": [
    "\n",
    "# We create an masked array with all the stellarities and get the maximum value, as well as its\n",
    "# origin.  Some sources may not have an associated stellarity.\n",
    "stellarity_array = np.array([master_catalogue[column] for column in stellarity_columns])\n",
    "stellarity_array = np.ma.masked_array(stellarity_array, np.isnan(stellarity_array))\n",
    "\n",
    "max_stellarity = np.max(stellarity_array, axis=0)\n",
    "max_stellarity.fill_value = np.nan\n",
    "\n",
    "no_stellarity_mask = max_stellarity.mask\n",
    "\n",
    "master_catalogue.add_column(Column(data=max_stellarity.filled(), name=\"stellarity\"))\n",
    "\n",
    "stellarity_origin = np.full(len(master_catalogue), \"NO_INFORMATION\", dtype=\"S20\")\n",
    "stellarity_origin[~no_stellarity_mask] = np.array(stellarity_columns)[np.argmax(stellarity_array, axis=0)[~no_stellarity_mask]]\n",
    "\n",
    "master_catalogue.add_column(Column(data=stellarity_origin, name=\"stellarity_origin\"))\n",
    "\n",
    "master_catalogue.remove_columns(stellarity_columns)"
   ]
  },
  {
   "cell_type": "markdown",
   "metadata": {},
   "source": [
    "## IV - Adding E(B-V) column"
   ]
  },
  {
   "cell_type": "code",
   "execution_count": null,
   "metadata": {
    "collapsed": true
   },
   "outputs": [],
   "source": [
    "master_catalogue.add_column(\n",
    "    ebv(master_catalogue['ra'], master_catalogue['dec'])\n",
    ")"
   ]
  },
  {
   "cell_type": "markdown",
   "metadata": {},
   "source": [
    "## V - Adding HELP unique identifiers and field columns"
   ]
  },
  {
   "cell_type": "code",
   "execution_count": null,
   "metadata": {
    "collapsed": true
   },
   "outputs": [],
   "source": [
    "master_catalogue.add_column(Column(gen_help_id(master_catalogue['ra'], master_catalogue['dec']),\n",
    "                                   name=\"help_id\"))\n",
    "master_catalogue.add_column(Column(np.full(len(master_catalogue), \"ELAIS-N1\", dtype='<U18'),\n",
    "                                   name=\"field\"))"
   ]
  },
  {
   "cell_type": "code",
   "execution_count": null,
   "metadata": {},
   "outputs": [],
   "source": [
    "# Check that the HELP Ids are unique\n",
    "if len(master_catalogue) != len(np.unique(master_catalogue['help_id'])):\n",
    "    print(\"The HELP IDs are not unique!!!\")\n",
    "else:\n",
    "    print(\"OK!\")"
   ]
  },
  {
   "cell_type": "markdown",
   "metadata": {},
   "source": [
    "## VI - Cross-matching with spec-z catalogue"
   ]
  },
  {
   "cell_type": "code",
   "execution_count": null,
   "metadata": {
    "collapsed": true
   },
   "outputs": [],
   "source": [
    "specz =  Table.read(\"../../dmu23/dmu23_XMM-LSS/data/XMM-LSS-specz-v2.8.fits\")"
   ]
  },
  {
   "cell_type": "code",
   "execution_count": null,
   "metadata": {},
   "outputs": [],
   "source": [
    "specz['objid'].name = 'specz_id'"
   ]
  },
  {
   "cell_type": "code",
   "execution_count": null,
   "metadata": {},
   "outputs": [],
   "source": [
    "nb_merge_dist_plot(\n",
    "    SkyCoord(master_catalogue['ra'], master_catalogue['dec']),\n",
    "    SkyCoord(specz['ra'] * u.deg, specz['dec'] * u.deg)\n",
    ")"
   ]
  },
  {
   "cell_type": "code",
   "execution_count": null,
   "metadata": {},
   "outputs": [],
   "source": [
    "master_catalogue = specz_merge(master_catalogue, specz, radius=1. * u.arcsec)"
   ]
  },
  {
   "cell_type": "markdown",
   "metadata": {},
   "source": [
    "## VII - Choosing between multiple values for the same filter\n",
    "\n"
   ]
  },
  {
   "cell_type": "markdown",
   "metadata": {},
   "source": [
    "### VII.a SERVS and SWIRE IRAC fluxes\n",
    "\n",
    "Both SERVS and SWIRE provide IRAC1 and IRAC2 fluxes. SERVS is deeper but tends to under-estimate flux of bright sources (Mattia said over 2000 µJy) as illustrated by this comparison of SWIRE, SERVS, and Spitzer-EIP fluxes."
   ]
  },
  {
   "cell_type": "code",
   "execution_count": null,
   "metadata": {},
   "outputs": [],
   "source": [
    "seip = Table.read(\"../../dmu0/dmu0_SEIP/data/SEIP_XMM-LSS.fits\")\n",
    "seip_coords = SkyCoord(seip['ra'], seip['dec'])\n",
    "idx, d2d, _ = seip_coords.match_to_catalog_sky(SkyCoord(master_catalogue['ra'], master_catalogue['dec']))\n",
    "mask = d2d <= 2 * u.arcsec"
   ]
  },
  {
   "cell_type": "code",
   "execution_count": null,
   "metadata": {},
   "outputs": [],
   "source": [
    "fig, ax = plt.subplots()\n",
    "ax.scatter(seip['i1_f_ap1'][mask], master_catalogue[idx[mask]]['f_ap_servs_irac_i1'], label=\"SERVS\", s=2.)\n",
    "ax.scatter(seip['i1_f_ap1'][mask], master_catalogue[idx[mask]]['f_ap_swire_irac_i1'], label=\"SWIRE\", s=2.)\n",
    "ax.set_xscale('log')\n",
    "ax.set_yscale('log')\n",
    "ax.set_xlabel(\"SEIP flux [μJy]\")\n",
    "ax.set_ylabel(\"SERVS/SWIRE flux [μJy]\")\n",
    "ax.set_title(\"IRAC 1\")\n",
    "ax.legend()\n",
    "ax.axvline(2000, color=\"black\", linestyle=\"--\", linewidth=1.)\n",
    "ax.plot(seip['i1_f_ap1'][mask], seip['i1_f_ap1'][mask], linewidth=.1, color=\"black\", alpha=.5);"
   ]
  },
  {
   "cell_type": "code",
   "execution_count": null,
   "metadata": {},
   "outputs": [],
   "source": [
    "fig, ax = plt.subplots()\n",
    "ax.scatter(seip['i2_f_ap1'][mask], master_catalogue[idx[mask]]['f_ap_servs_irac_i2'], label=\"SERVS\", s=2.)\n",
    "ax.scatter(seip['i2_f_ap1'][mask], master_catalogue[idx[mask]]['f_ap_swire_irac_i2'], label=\"SWIRE\", s=2.)\n",
    "ax.set_xscale('log')\n",
    "ax.set_yscale('log')\n",
    "ax.set_xlabel(\"SEIP flux [μJy]\")\n",
    "ax.set_ylabel(\"SERVS/SWIRE flux [μJy]\")\n",
    "ax.set_title(\"IRAC 2\")\n",
    "ax.legend()\n",
    "ax.axvline(2000, color=\"black\", linestyle=\"--\", linewidth=1.)\n",
    "\n",
    "ax.plot(seip['i1_f_ap2'][mask], seip['i1_f_ap2'][mask], linewidth=.1, color=\"black\", alpha=.5);"
   ]
  },
  {
   "cell_type": "markdown",
   "metadata": {},
   "source": [
    "When both SWIRE and SERVS fluxes are provided, we use the SERVS flux below 2000 μJy and the SWIRE flux over.\n",
    "\n",
    "We create a table indicating for each source the origin on the IRAC1 and IRAC2 fluxes that will be saved separately."
   ]
  },
  {
   "cell_type": "code",
   "execution_count": null,
   "metadata": {
    "collapsed": true
   },
   "outputs": [],
   "source": [
    "irac_origin = Table()\n",
    "irac_origin.add_column(master_catalogue['help_id'])"
   ]
  },
  {
   "cell_type": "code",
   "execution_count": null,
   "metadata": {},
   "outputs": [],
   "source": [
    "# IRAC1 aperture flux and magnitudes\n",
    "has_servs = ~np.isnan(master_catalogue['f_ap_servs_irac_i1'])\n",
    "has_swire = ~np.isnan(master_catalogue['f_ap_swire_irac_i1'])\n",
    "has_both = has_servs & has_swire\n",
    "\n",
    "print(\"{} sources with SERVS flux\".format(np.sum(has_servs)))\n",
    "print(\"{} sources with SWIRE flux\".format(np.sum(has_swire)))\n",
    "print(\"{} sources with SERVS and SWIRE flux\".format(np.sum(has_both)))\n",
    "\n",
    "has_servs_above_limit = has_servs.copy()\n",
    "has_servs_above_limit[has_servs] = master_catalogue['f_ap_servs_irac_i1'][has_servs] > 2000\n",
    "\n",
    "use_swire = (has_swire & ~has_servs) | (has_both & has_servs_above_limit)\n",
    "use_servs = (has_servs & ~(has_both & has_servs_above_limit))\n",
    "\n",
    "print(\"{} sources for which we use SERVS\".format(np.sum(use_servs)))\n",
    "print(\"{} sources for which we use SWIRE\".format(np.sum(use_swire)))\n",
    "\n",
    "f_ap_irac_i = np.full(len(master_catalogue), np.nan)\n",
    "f_ap_irac_i[use_servs] = master_catalogue['f_ap_servs_irac_i1'][use_servs]\n",
    "f_ap_irac_i[use_swire] = master_catalogue['f_ap_swire_irac_i1'][use_swire]\n",
    "\n",
    "ferr_ap_irac_i = np.full(len(master_catalogue), np.nan)\n",
    "ferr_ap_irac_i[use_servs] = master_catalogue['ferr_ap_servs_irac_i1'][use_servs]\n",
    "ferr_ap_irac_i[use_swire] = master_catalogue['ferr_ap_swire_irac_i1'][use_swire]\n",
    "\n",
    "m_ap_irac_i = np.full(len(master_catalogue), np.nan)\n",
    "m_ap_irac_i[use_servs] = master_catalogue['m_ap_servs_irac_i1'][use_servs]\n",
    "m_ap_irac_i[use_swire] = master_catalogue['m_ap_swire_irac_i1'][use_swire]\n",
    "\n",
    "merr_ap_irac_i = np.full(len(master_catalogue), np.nan)\n",
    "merr_ap_irac_i[use_servs] = master_catalogue['merr_ap_servs_irac_i1'][use_servs]\n",
    "merr_ap_irac_i[use_swire] = master_catalogue['merr_ap_swire_irac_i1'][use_swire]\n",
    "\n",
    "master_catalogue.add_column(Column(data=f_ap_irac_i, name=\"f_ap_irac_i1\"))\n",
    "master_catalogue.add_column(Column(data=ferr_ap_irac_i, name=\"ferr_ap_irac_i1\"))\n",
    "master_catalogue.add_column(Column(data=m_ap_irac_i, name=\"m_ap_irac_i1\"))\n",
    "master_catalogue.add_column(Column(data=merr_ap_irac_i, name=\"merr_ap_irac_i1\"))\n",
    "\n",
    "master_catalogue.remove_columns(['f_ap_servs_irac_i1', 'f_ap_swire_irac_i1', 'ferr_ap_servs_irac_i1',\n",
    "                                     'ferr_ap_swire_irac_i1', 'm_ap_servs_irac_i1', 'm_ap_swire_irac_i1',\n",
    "                                     'merr_ap_servs_irac_i1', 'merr_ap_swire_irac_i1'])\n",
    "\n",
    "origin = np.full(len(master_catalogue), '     ', dtype='<U5')\n",
    "origin[use_servs] = \"SERVS\"\n",
    "origin[use_swire] = \"SWIRE\"\n",
    "irac_origin.add_column(Column(data=origin, name=\"IRAC1_app\"))"
   ]
  },
  {
   "cell_type": "code",
   "execution_count": null,
   "metadata": {},
   "outputs": [],
   "source": [
    "# IRAC1 total flux and magnitudes\n",
    "has_servs = ~np.isnan(master_catalogue['f_servs_irac_i1'])\n",
    "has_swire = ~np.isnan(master_catalogue['f_swire_irac_i1'])\n",
    "has_both = has_servs & has_swire\n",
    "\n",
    "print(\"{} sources with SERVS flux\".format(np.sum(has_servs)))\n",
    "print(\"{} sources with SWIRE flux\".format(np.sum(has_swire)))\n",
    "print(\"{} sources with SERVS and SWIRE flux\".format(np.sum(has_both)))\n",
    "\n",
    "has_servs_above_limit = has_servs.copy()\n",
    "has_servs_above_limit[has_servs] = master_catalogue['f_servs_irac_i1'][has_servs] > 2000\n",
    "\n",
    "use_swire = (has_swire & ~has_servs) | (has_both & has_servs_above_limit)\n",
    "use_servs = (has_servs & ~(has_both & has_servs_above_limit))\n",
    "\n",
    "print(\"{} sources for which we use SERVS\".format(np.sum(use_servs)))\n",
    "print(\"{} sources for which we use SWIRE\".format(np.sum(use_swire)))\n",
    "\n",
    "f_ap_irac_i = np.full(len(master_catalogue), np.nan)\n",
    "f_ap_irac_i[use_servs] = master_catalogue['f_servs_irac_i1'][use_servs]\n",
    "f_ap_irac_i[use_swire] = master_catalogue['f_swire_irac_i1'][use_swire]\n",
    "\n",
    "ferr_ap_irac_i = np.full(len(master_catalogue), np.nan)\n",
    "ferr_ap_irac_i[use_servs] = master_catalogue['ferr_servs_irac_i1'][use_servs]\n",
    "ferr_ap_irac_i[use_swire] = master_catalogue['ferr_swire_irac_i1'][use_swire]\n",
    "\n",
    "flag_irac_i = np.full(len(master_catalogue), False, dtype=bool)\n",
    "flag_irac_i[use_servs] = master_catalogue['flag_servs_irac_i1'][use_servs]\n",
    "flag_irac_i[use_swire] = master_catalogue['flag_swire_irac_i1'][use_swire]\n",
    "\n",
    "m_ap_irac_i = np.full(len(master_catalogue), np.nan)\n",
    "m_ap_irac_i[use_servs] = master_catalogue['m_servs_irac_i1'][use_servs]\n",
    "m_ap_irac_i[use_swire] = master_catalogue['m_swire_irac_i1'][use_swire]\n",
    "\n",
    "merr_ap_irac_i = np.full(len(master_catalogue), np.nan)\n",
    "merr_ap_irac_i[use_servs] = master_catalogue['merr_servs_irac_i1'][use_servs]\n",
    "merr_ap_irac_i[use_swire] = master_catalogue['merr_swire_irac_i1'][use_swire]\n",
    "\n",
    "master_catalogue.add_column(Column(data=f_ap_irac_i, name=\"f_irac_i1\"))\n",
    "master_catalogue.add_column(Column(data=ferr_ap_irac_i, name=\"ferr_irac_i1\"))\n",
    "master_catalogue.add_column(Column(data=m_ap_irac_i, name=\"m_irac_i1\"))\n",
    "master_catalogue.add_column(Column(data=merr_ap_irac_i, name=\"merr_irac_i1\"))\n",
    "master_catalogue.add_column(Column(data=flag_irac_i, name=\"flag_irac_i1\"))\n",
    "\n",
    "master_catalogue.remove_columns(['f_servs_irac_i1', 'f_swire_irac_i1', 'ferr_servs_irac_i1',\n",
    "                                 'ferr_swire_irac_i1', 'm_servs_irac_i1', 'flag_servs_irac_i1', 'm_swire_irac_i1',\n",
    "                                 'merr_servs_irac_i1', 'merr_swire_irac_i1', 'flag_swire_irac_i1'])\n",
    "\n",
    "origin = np.full(len(master_catalogue), '     ', dtype='<U5')\n",
    "origin[use_servs] = \"SERVS\"\n",
    "origin[use_swire] = \"SWIRE\"\n",
    "irac_origin.add_column(Column(data=origin, name=\"IRAC1_total\"))"
   ]
  },
  {
   "cell_type": "code",
   "execution_count": null,
   "metadata": {},
   "outputs": [],
   "source": [
    "# IRAC2 aperture flux and magnitudes\n",
    "has_servs = ~np.isnan(master_catalogue['f_ap_servs_irac_i2'])\n",
    "has_swire = ~np.isnan(master_catalogue['f_ap_swire_irac_i2'])\n",
    "has_both = has_servs & has_swire\n",
    "\n",
    "print(\"{} sources with SERVS flux\".format(np.sum(has_servs)))\n",
    "print(\"{} sources with SWIRE flux\".format(np.sum(has_swire)))\n",
    "print(\"{} sources with SERVS and SWIRE flux\".format(np.sum(has_both)))\n",
    "\n",
    "has_servs_above_limit = has_servs.copy()\n",
    "has_servs_above_limit[has_servs] = master_catalogue['f_ap_servs_irac_i2'][has_servs] > 2000\n",
    "\n",
    "use_swire = (has_swire & ~has_servs) | (has_both & has_servs_above_limit)\n",
    "use_servs = (has_servs & ~(has_both & has_servs_above_limit))\n",
    "\n",
    "print(\"{} sources for which we use SERVS\".format(np.sum(use_servs)))\n",
    "print(\"{} sources for which we use SWIRE\".format(np.sum(use_swire)))\n",
    "\n",
    "f_ap_irac_i = np.full(len(master_catalogue), np.nan)\n",
    "f_ap_irac_i[use_servs] = master_catalogue['f_ap_servs_irac_i2'][use_servs]\n",
    "f_ap_irac_i[use_swire] = master_catalogue['f_ap_swire_irac_i2'][use_swire]\n",
    "\n",
    "ferr_ap_irac_i = np.full(len(master_catalogue), np.nan)\n",
    "ferr_ap_irac_i[use_servs] = master_catalogue['ferr_ap_servs_irac_i2'][use_servs]\n",
    "ferr_ap_irac_i[use_swire] = master_catalogue['ferr_ap_swire_irac_i2'][use_swire]\n",
    "\n",
    "m_ap_irac_i = np.full(len(master_catalogue), np.nan)\n",
    "m_ap_irac_i[use_servs] = master_catalogue['m_ap_servs_irac_i2'][use_servs]\n",
    "m_ap_irac_i[use_swire] = master_catalogue['m_ap_swire_irac_i2'][use_swire]\n",
    "\n",
    "merr_ap_irac_i = np.full(len(master_catalogue), np.nan)\n",
    "merr_ap_irac_i[use_servs] = master_catalogue['merr_ap_servs_irac_i2'][use_servs]\n",
    "merr_ap_irac_i[use_swire] = master_catalogue['merr_ap_swire_irac_i2'][use_swire]\n",
    "\n",
    "master_catalogue.add_column(Column(data=f_ap_irac_i, name=\"f_ap_irac_i2\"))\n",
    "master_catalogue.add_column(Column(data=ferr_ap_irac_i, name=\"ferr_ap_irac_i2\"))\n",
    "master_catalogue.add_column(Column(data=m_ap_irac_i, name=\"m_ap_irac_i2\"))\n",
    "master_catalogue.add_column(Column(data=merr_ap_irac_i, name=\"merr_ap_irac_i2\"))\n",
    "\n",
    "master_catalogue.remove_columns(['f_ap_servs_irac_i2', 'f_ap_swire_irac_i2', 'ferr_ap_servs_irac_i2',\n",
    "                                 'ferr_ap_swire_irac_i2', 'm_ap_servs_irac_i2', 'm_ap_swire_irac_i2',\n",
    "                                 'merr_ap_servs_irac_i2', 'merr_ap_swire_irac_i2'])\n",
    "\n",
    "origin = np.full(len(master_catalogue), '     ', dtype='<U5')\n",
    "origin[use_servs] = \"SERVS\"\n",
    "origin[use_swire] = \"SWIRE\"\n",
    "irac_origin.add_column(Column(data=origin, name=\"IRAC2_app\"))"
   ]
  },
  {
   "cell_type": "code",
   "execution_count": null,
   "metadata": {},
   "outputs": [],
   "source": [
    "# IRAC2 total flux and magnitudes\n",
    "has_servs = ~np.isnan(master_catalogue['f_servs_irac_i2'])\n",
    "has_swire = ~np.isnan(master_catalogue['f_swire_irac_i2'])\n",
    "has_both = has_servs & has_swire\n",
    "\n",
    "print(\"{} sources with SERVS flux\".format(np.sum(has_servs)))\n",
    "print(\"{} sources with SWIRE flux\".format(np.sum(has_swire)))\n",
    "print(\"{} sources with SERVS and SWIRE flux\".format(np.sum(has_both)))\n",
    "\n",
    "has_servs_above_limit = has_servs.copy()\n",
    "has_servs_above_limit[has_servs] = master_catalogue['f_servs_irac_i2'][has_servs] > 2000\n",
    "\n",
    "use_swire = (has_swire & ~has_servs) | (has_both & has_servs_above_limit)\n",
    "use_servs = (has_servs & ~(has_both & has_servs_above_limit))\n",
    "\n",
    "print(\"{} sources for which we use SERVS\".format(np.sum(use_servs)))\n",
    "print(\"{} sources for which we use SWIRE\".format(np.sum(use_swire)))\n",
    "\n",
    "f_ap_irac_i = np.full(len(master_catalogue), np.nan)\n",
    "f_ap_irac_i[use_servs] = master_catalogue['f_servs_irac_i2'][use_servs]\n",
    "f_ap_irac_i[use_swire] = master_catalogue['f_swire_irac_i2'][use_swire]\n",
    "\n",
    "ferr_ap_irac_i = np.full(len(master_catalogue), np.nan)\n",
    "ferr_ap_irac_i[use_servs] = master_catalogue['ferr_servs_irac_i2'][use_servs]\n",
    "ferr_ap_irac_i[use_swire] = master_catalogue['ferr_swire_irac_i2'][use_swire]\n",
    "\n",
    "flag_irac_i = np.full(len(master_catalogue), False, dtype=bool)\n",
    "flag_irac_i[use_servs] = master_catalogue['flag_servs_irac_i2'][use_servs]\n",
    "flag_irac_i[use_swire] = master_catalogue['flag_swire_irac_i2'][use_swire]\n",
    "\n",
    "m_ap_irac_i = np.full(len(master_catalogue), np.nan)\n",
    "m_ap_irac_i[use_servs] = master_catalogue['m_servs_irac_i2'][use_servs]\n",
    "m_ap_irac_i[use_swire] = master_catalogue['m_swire_irac_i2'][use_swire]\n",
    "\n",
    "merr_ap_irac_i = np.full(len(master_catalogue), np.nan)\n",
    "merr_ap_irac_i[use_servs] = master_catalogue['merr_servs_irac_i2'][use_servs]\n",
    "merr_ap_irac_i[use_swire] = master_catalogue['merr_swire_irac_i2'][use_swire]\n",
    "\n",
    "master_catalogue.add_column(Column(data=f_ap_irac_i, name=\"f_irac_i2\"))\n",
    "master_catalogue.add_column(Column(data=ferr_ap_irac_i, name=\"ferr_irac_i2\"))\n",
    "master_catalogue.add_column(Column(data=m_ap_irac_i, name=\"m_irac_i2\"))\n",
    "master_catalogue.add_column(Column(data=merr_ap_irac_i, name=\"merr_irac_i2\"))\n",
    "master_catalogue.add_column(Column(data=flag_irac_i, name=\"flag_irac_i2\"))\n",
    "\n",
    "master_catalogue.remove_columns(['f_servs_irac_i2', 'f_swire_irac_i2', 'ferr_servs_irac_i2',\n",
    "                                 'ferr_swire_irac_i2', 'm_servs_irac_i2', 'flag_servs_irac_i2', 'm_swire_irac_i2',\n",
    "                                 'merr_servs_irac_i2', 'merr_swire_irac_i2', 'flag_swire_irac_i2'])\n",
    "\n",
    "origin = np.full(len(master_catalogue), '     ', dtype='<U5')\n",
    "origin[use_servs] = \"SERVS\"\n",
    "origin[use_swire] = \"SWIRE\"\n",
    "irac_origin.add_column(Column(data=origin, name=\"IRAC2_total\"))"
   ]
  },
  {
   "cell_type": "code",
   "execution_count": null,
   "metadata": {
    "collapsed": true
   },
   "outputs": [],
   "source": [
    "irac_origin.write(\"{}/elais-n1_irac_i_fluxes_origins{}.fits\".format(OUT_DIR, SUFFIX))"
   ]
  },
  {
   "cell_type": "markdown",
   "metadata": {},
   "source": [
    "### VII.b SpARCS, CFHTLS, CFHT-WIRDS amd CFHTLenS: CFHT Megacam fluxes\n",
    "\n",
    "According to Mattia CFHTLenS is built on the same data as CFHTLS-WIDE and should not be included. I have therefore excluded it from the merge above.\n",
    "\n",
    "CFHTLS-DEEP is prefferred to CFHTLS-WIDE which is prefferred to SpARCS\n",
    "\n",
    "|             |                  |\n",
    "|-------------|------------------|\n",
    "| CFHTLS-WIDE | u, g, r, i, z    |\n",
    "| CFHTLS-DEEP | u, g, r, i, z, y |\n",
    "| SpARCS      | u, g, r, z, y    |\n"
   ]
  },
  {
   "cell_type": "code",
   "execution_count": null,
   "metadata": {
    "collapsed": true
   },
   "outputs": [],
   "source": [
    "megacam_origin = Table()\n",
    "megacam_origin.add_column(master_catalogue['help_id'])"
   ]
  },
  {
   "cell_type": "code",
   "execution_count": null,
   "metadata": {
    "collapsed": true
   },
   "outputs": [],
   "source": [
    "megacam_stats = Table()\n",
    "megacam_stats.add_column(Column(data=['u','g','r','i','z','y'], name=\"Band\"))\n",
    "for col in [\"CFHTLS-DEEP\", \"CFHTLS-WIDE\", \"SpARCS\"]:\n",
    "    megacam_stats.add_column(Column(data=np.full(6, 0), name=\"{}\".format(col)))\n",
    "    megacam_stats.add_column(Column(data=np.full(6, 0), name=\"use {}\".format(col)))\n",
    "    megacam_stats.add_column(Column(data=np.full(6, 0), name=\"{} ap\".format(col)))\n",
    "    megacam_stats.add_column(Column(data=np.full(6, 0), name=\"use {} ap\".format(col)))\n",
    "    "
   ]
  },
  {
   "cell_type": "code",
   "execution_count": null,
   "metadata": {},
   "outputs": [],
   "source": [
    "\n",
    "megacam_bands = ['u','g','r','i','z','y'] # Lowercase naming convention (k is Ks)\n",
    "for band in megacam_bands:\n",
    "\n",
    "    # Megacam total flux \n",
    "    has_cfhtls_deep = ~np.isnan(master_catalogue['f_cfhtls-deep_' + band])\n",
    "    if band == 'y':\n",
    "        has_cfhtls_wide = np.full(len(master_catalogue), False)\n",
    "    else:\n",
    "        has_cfhtls_wide = ~np.isnan(master_catalogue['f_cfhtls-wide_' + band])\n",
    "    if band == 'i':\n",
    "        has_sparcs = np.full(len(master_catalogue), False)\n",
    "    else:\n",
    "        has_sparcs = ~np.isnan(master_catalogue['f_sparcs_' + band])\n",
    "    \n",
    "\n",
    "    use_cfhtls_deep = has_cfhtls_deep \n",
    "    use_cfhtls_wide = has_cfhtls_wide & ~has_cfhtls_deep\n",
    "    use_sparcs = has_sparcs & ~has_cfhtls_wide & ~has_cfhtls_deep\n",
    "\n",
    "    f_megacam = np.full(len(master_catalogue), np.nan)\n",
    "    f_megacam[use_cfhtls_deep] = master_catalogue['f_cfhtls-deep_' + band][use_cfhtls_deep]\n",
    "    if not (band == 'y'):\n",
    "        f_megacam[use_cfhtls_wide] = master_catalogue['f_cfhtls-wide_' + band][use_cfhtls_wide]\n",
    "    if not (band == 'i'):\n",
    "        f_megacam[use_sparcs] = master_catalogue['f_sparcs_' + band][use_sparcs]\n",
    "\n",
    "    ferr_megacam = np.full(len(master_catalogue), np.nan)\n",
    "    ferr_megacam[use_cfhtls_deep] = master_catalogue['ferr_cfhtls-deep_' + band][use_cfhtls_deep]\n",
    "    if not (band == 'y'):\n",
    "        ferr_megacam[use_cfhtls_wide] = master_catalogue['ferr_cfhtls-wide_' + band][use_cfhtls_wide]\n",
    "    if not (band == 'i'):\n",
    "        ferr_megacam[use_sparcs] = master_catalogue['ferr_sparcs_' + band][use_sparcs]\n",
    "    \n",
    "    m_megacam = np.full(len(master_catalogue), np.nan)\n",
    "    m_megacam[use_cfhtls_deep] = master_catalogue['m_cfhtls-deep_' + band][use_cfhtls_deep]\n",
    "    if not (band == 'y'):\n",
    "        m_megacam[use_cfhtls_wide] = master_catalogue['m_cfhtls-wide_' + band][use_cfhtls_wide]\n",
    "    if not (band == 'i'):\n",
    "        m_megacam[use_sparcs] = master_catalogue['m_sparcs_' + band][use_sparcs]\n",
    "\n",
    "    merr_megacam = np.full(len(master_catalogue), np.nan)\n",
    "    merr_megacam[use_cfhtls_deep] = master_catalogue['merr_cfhtls-deep_' + band][use_cfhtls_deep]\n",
    "    if not (band == 'y'):\n",
    "        merr_megacam[use_cfhtls_wide] = master_catalogue['merr_cfhtls-wide_' + band][use_cfhtls_wide]\n",
    "    if not (band == 'i'):\n",
    "        merr_megacam[use_sparcs] = master_catalogue['merr_sparcs_' + band][use_sparcs]\n",
    "\n",
    "    flag_megacam = np.full(len(master_catalogue), False, dtype=bool)\n",
    "    flag_megacam[use_cfhtls_deep] = master_catalogue['flag_cfhtls-deep_' + band][use_cfhtls_deep]\n",
    "    if not (band == 'y'):\n",
    "        flag_megacam[use_cfhtls_wide] = master_catalogue['flag_cfhtls-wide_' + band][use_cfhtls_wide]\n",
    "    if not (band == 'i'):\n",
    "        flag_megacam[use_sparcs] = master_catalogue['flag_sparcs_' + band][use_sparcs]\n",
    "\n",
    "    master_catalogue.add_column(Column(data=f_megacam, name=\"f_megacam_\" + band))\n",
    "    master_catalogue.add_column(Column(data=ferr_megacam, name=\"ferr_megacam_\" + band))\n",
    "    master_catalogue.add_column(Column(data=m_megacam, name=\"m_megacam_\" + band))\n",
    "    master_catalogue.add_column(Column(data=merr_megacam, name=\"merr_megacam_\" + band))\n",
    "    master_catalogue.add_column(Column(data=flag_megacam, name=\"flag_megacam_\" + band))\n",
    "\n",
    "    old_cfhtls_deep_columns = ['f_cfhtls-deep_' + band,\n",
    "                               'ferr_cfhtls-deep_' + band,\n",
    "                               'm_cfhtls-deep_' + band, \n",
    "                               'merr_cfhtls-deep_' + band,\n",
    "                               'flag_cfhtls-deep_' + band]\n",
    "    old_cfhtls_wide_columns = ['f_cfhtls-wide_' + band,\n",
    "                               'ferr_cfhtls-wide_' + band,\n",
    "                               'm_cfhtls-wide_' + band, \n",
    "                               'merr_cfhtls-wide_' + band,\n",
    "                               'flag_cfhtls-wide_' + band]\n",
    "    old_sparcs_columns =      ['f_sparcs_' + band,\n",
    "                               'ferr_sparcs_' + band,\n",
    "                               'm_sparcs_' + band, \n",
    "                               'merr_sparcs_' + band,\n",
    "                               'flag_sparcs_' + band]\n",
    "    \n",
    "    if (band == 'i'):\n",
    "        old_columns = old_cfhtls_deep_columns + old_cfhtls_wide_columns\n",
    "    elif (band == 'y'):\n",
    "        old_columns = old_cfhtls_deep_columns + old_sparcs_columns\n",
    "    else:\n",
    "        old_columns = old_cfhtls_deep_columns + old_cfhtls_wide_columns + old_sparcs_columns\n",
    "    master_catalogue.remove_columns(old_columns)\n",
    "\n",
    "    origin = np.full(len(master_catalogue), '     ', dtype='<U5')\n",
    "    origin[use_cfhtls_deep] = \"CFHTLS-DEEP\"\n",
    "    origin[use_cfhtls_wide] = \"CFHTLS-WIDE\"\n",
    "    origin[use_sparcs] = \"SpARCS\"\n",
    "    \n",
    "    megacam_origin.add_column(Column(data=origin, name= 'f_megacam_' + band ))\n",
    "    \n",
    "    # Megacam aperture flux \n",
    "    has_ap_cfhtls_deep = ~np.isnan(master_catalogue['f_ap_cfhtls-deep_' + band])\n",
    "    if band == 'y':\n",
    "        has_ap_cfhtls_wide = np.full(len(master_catalogue), False)\n",
    "    else:\n",
    "        has_ap_cfhtls_wide = ~np.isnan(master_catalogue['f_ap_cfhtls-wide_' + band])\n",
    "    if band == 'i':\n",
    "        has_ap_sparcs = np.full(len(master_catalogue), False)\n",
    "    else:\n",
    "        has_ap_sparcs = ~np.isnan(master_catalogue['f_ap_sparcs_' + band])\n",
    "    \n",
    "\n",
    "    use_ap_cfhtls_deep = has_ap_cfhtls_deep \n",
    "    use_ap_cfhtls_wide = has_ap_cfhtls_wide & ~has_ap_cfhtls_deep\n",
    "    use_ap_sparcs = has_ap_sparcs & ~has_ap_cfhtls_wide & ~has_ap_cfhtls_deep\n",
    "\n",
    "    f_ap_megacam = np.full(len(master_catalogue), np.nan)\n",
    "    f_ap_megacam[use_ap_cfhtls_deep] = master_catalogue['f_ap_cfhtls-deep_' + band][use_ap_cfhtls_deep]\n",
    "    if not (band == 'y'):\n",
    "        f_ap_megacam[use_ap_cfhtls_wide] = master_catalogue['f_ap_cfhtls-wide_' + band][use_ap_cfhtls_wide]\n",
    "    if not (band == 'i'):\n",
    "        f_ap_megacam[use_ap_sparcs] = master_catalogue['f_ap_sparcs_' + band][use_ap_sparcs]\n",
    "\n",
    "    ferr_ap_megacam = np.full(len(master_catalogue), np.nan)\n",
    "    ferr_ap_megacam[use_ap_cfhtls_deep] = master_catalogue['ferr_ap_cfhtls-deep_' + band][use_ap_cfhtls_deep]\n",
    "    if not (band == 'y'):\n",
    "        ferr_ap_megacam[use_ap_cfhtls_wide] = master_catalogue['ferr_ap_cfhtls-wide_' + band][use_ap_cfhtls_wide]\n",
    "    if not (band == 'i'):\n",
    "        ferr_ap_megacam[use_ap_sparcs] = master_catalogue['ferr_ap_sparcs_' + band][use_ap_sparcs]\n",
    "    \n",
    "    m_ap_megacam = np.full(len(master_catalogue), np.nan)\n",
    "    m_ap_megacam[use_ap_cfhtls_deep] = master_catalogue['m_ap_cfhtls-deep_' + band][use_ap_cfhtls_deep]\n",
    "    if not (band == 'y'):\n",
    "        m_ap_megacam[use_ap_cfhtls_wide] = master_catalogue['m_ap_cfhtls-wide_' + band][use_ap_cfhtls_wide]\n",
    "    if not (band == 'i'):\n",
    "        m_ap_megacam[use_ap_sparcs] = master_catalogue['m_ap_sparcs_' + band][use_ap_sparcs]\n",
    "\n",
    "    merr_ap_megacam = np.full(len(master_catalogue), np.nan)\n",
    "    merr_ap_megacam[use_ap_cfhtls_deep] = master_catalogue['merr_ap_cfhtls-deep_' + band][use_ap_cfhtls_deep]\n",
    "    if not (band == 'y'):\n",
    "        merr_ap_megacam[use_ap_cfhtls_wide] = master_catalogue['merr_ap_cfhtls-wide_' + band][use_ap_cfhtls_wide]\n",
    "    if not (band == 'i'):\n",
    "        merr_ap_megacam[use_ap_sparcs] = master_catalogue['merr_ap_sparcs_' + band][use_ap_sparcs]\n",
    "\n",
    "\n",
    "\n",
    "    master_catalogue.add_column(Column(data=f_ap_megacam, name=\"f_ap_megacam_\" + band))\n",
    "    master_catalogue.add_column(Column(data=ferr_ap_megacam, name=\"ferr_ap_megacam_\" + band))\n",
    "    master_catalogue.add_column(Column(data=m_ap_megacam, name=\"m_ap_megacam_\" + band))\n",
    "    master_catalogue.add_column(Column(data=merr_ap_megacam, name=\"merr_ap_megacam_\" + band))\n",
    "\n",
    "\n",
    "    old_ap_cfhtls_deep_columns = ['f_ap_cfhtls-deep_' + band,\n",
    "                               'ferr_ap_cfhtls-deep_' + band,\n",
    "                               'm_ap_cfhtls-deep_' + band, \n",
    "                               'merr_ap_cfhtls-deep_' + band]\n",
    "    old_ap_cfhtls_wide_columns = ['f_ap_cfhtls-wide_' + band,\n",
    "                               'ferr_ap_cfhtls-wide_' + band,\n",
    "                               'm_ap_cfhtls-wide_' + band, \n",
    "                               'merr_ap_cfhtls-wide_' + band]\n",
    "    old_ap_sparcs_columns =      ['f_ap_sparcs_' + band,\n",
    "                               'ferr_ap_sparcs_' + band,\n",
    "                               'm_ap_sparcs_' + band, \n",
    "                               'merr_ap_sparcs_' + band]\n",
    "    \n",
    "    if (band == 'i'):\n",
    "        old_ap_columns = old_ap_cfhtls_deep_columns + old_ap_cfhtls_wide_columns\n",
    "    elif (band == 'y'):\n",
    "        old_ap_columns = old_ap_cfhtls_deep_columns + old_ap_sparcs_columns\n",
    "    else:\n",
    "        old_ap_columns = old_ap_cfhtls_deep_columns + old_ap_cfhtls_wide_columns + old_ap_sparcs_columns\n",
    "    master_catalogue.remove_columns(old_ap_columns)\n",
    "\n",
    "    origin_ap = np.full(len(master_catalogue), '     ', dtype='<U5')\n",
    "    origin_ap[use_ap_cfhtls_deep] = \"CFHTLS-DEEP\"\n",
    "    origin_ap[use_ap_cfhtls_wide] = \"CFHTLS-WIDE\"\n",
    "    origin_ap[use_ap_sparcs] = \"SpARCS\"\n",
    "    \n",
    "    megacam_origin.add_column(Column(data=origin_ap, name= 'f_ap_megacam_' + band ))\n",
    "    \n",
    "\n",
    "   \n",
    "    megacam_stats['CFHTLS-DEEP'][megacam_stats['Band'] == band] = np.sum(has_cfhtls_deep)\n",
    "    megacam_stats['CFHTLS-WIDE'][megacam_stats['Band'] == band] = np.sum(has_cfhtls_wide)\n",
    "    megacam_stats['SpARCS'][megacam_stats['Band'] == band] = np.sum(has_sparcs)\n",
    "    megacam_stats['use CFHTLS-DEEP'][megacam_stats['Band'] == band] = np.sum(use_cfhtls_deep)\n",
    "    megacam_stats['use CFHTLS-WIDE'][megacam_stats['Band'] == band] = np.sum(use_cfhtls_wide)\n",
    "    megacam_stats['use SpARCS'][megacam_stats['Band'] == band] = np.sum(use_sparcs)\n",
    "    megacam_stats['CFHTLS-DEEP ap'][megacam_stats['Band'] == band] = np.sum(has_ap_cfhtls_deep)\n",
    "    megacam_stats['CFHTLS-WIDE ap'][megacam_stats['Band'] == band] = np.sum(has_ap_cfhtls_wide)\n",
    "    megacam_stats['SpARCS ap'][megacam_stats['Band'] == band] = np.sum(has_ap_sparcs)\n",
    "    megacam_stats['use CFHTLS-DEEP ap'][megacam_stats['Band'] == band] = np.sum(use_ap_cfhtls_deep)\n",
    "    megacam_stats['use CFHTLS-WIDE ap'][megacam_stats['Band'] == band] = np.sum(use_ap_cfhtls_wide)\n",
    "    megacam_stats['use SpARCS ap'][megacam_stats['Band'] == band] = np.sum(use_ap_sparcs)"
   ]
  },
  {
   "cell_type": "code",
   "execution_count": null,
   "metadata": {},
   "outputs": [],
   "source": [
    "megacam_stats.show_in_notebook()"
   ]
  },
  {
   "cell_type": "code",
   "execution_count": null,
   "metadata": {
    "collapsed": true
   },
   "outputs": [],
   "source": [
    "megacam_origin.write(\"{}/xmm-lss_megacam_fluxes_origins{}.fits\".format(OUT_DIR, SUFFIX))"
   ]
  },
  {
   "cell_type": "markdown",
   "metadata": {},
   "source": [
    "### VII.c VISTA VIDEO, VHS, and VIKING: UKIDSS fluxes\n",
    "\n",
    "According to Mattia Vacari VIDEO is deeper than VIKING which is deeper than VHS"
   ]
  },
  {
   "cell_type": "code",
   "execution_count": null,
   "metadata": {
    "collapsed": true
   },
   "outputs": [],
   "source": [
    "vista_origin = Table()\n",
    "vista_origin.add_column(master_catalogue['help_id'])"
   ]
  },
  {
   "cell_type": "code",
   "execution_count": null,
   "metadata": {},
   "outputs": [],
   "source": [
    "vista_stats = Table()\n",
    "vista_stats.add_column(Column(data=['y','j','h','k','z'], name=\"Band\"))\n",
    "vista_stats.add_column(Column(data=np.full(5, 0), name=\"VIDEO\"))\n",
    "vista_stats.add_column(Column(data=np.full(5, 0), name=\"VIKING\"))\n",
    "vista_stats.add_column(Column(data=np.full(5, 0), name=\"VHS\"))\n",
    "vista_stats.add_column(Column(data=np.full(5, 0), name=\"use VIDEO\"))\n",
    "vista_stats.add_column(Column(data=np.full(5, 0), name=\"use VIKING\"))\n",
    "vista_stats.add_column(Column(data=np.full(5, 0), name=\"use VHS\"))\n",
    "vista_stats.add_column(Column(data=np.full(5, 0), name=\"VIDEO ap\"))\n",
    "vista_stats.add_column(Column(data=np.full(5, 0), name=\"VIKING ap\"))\n",
    "vista_stats.add_column(Column(data=np.full(5, 0), name=\"VHS ap\"))\n",
    "vista_stats.add_column(Column(data=np.full(5, 0), name=\"use VIDEO ap\"))\n",
    "vista_stats.add_column(Column(data=np.full(5, 0), name=\"use VIKING ap\"))\n",
    "vista_stats.add_column(Column(data=np.full(5, 0), name=\"use VHS ap\"))"
   ]
  },
  {
   "cell_type": "code",
   "execution_count": null,
   "metadata": {},
   "outputs": [],
   "source": [
    "\n",
    "vista_bands = ['y','j','h','k','z'] # Lowercase naming convention (k is Ks)\n",
    "for band in vista_bands:\n",
    "    #print('For VISTA band ' + band + ':')\n",
    "    # VISTA total flux \n",
    "    has_video = ~np.isnan(master_catalogue['f_video_' + band])\n",
    "    has_viking = ~np.isnan(master_catalogue['f_viking_' + band])\n",
    "    if band == 'z':\n",
    "        has_vhs = np.full(len(master_catalogue), False)\n",
    "    else:\n",
    "        has_vhs = ~np.isnan(master_catalogue['f_vhs_' + band])\n",
    "    \n",
    "\n",
    "    #print(\"{} sources with VIDEO flux\".format(np.sum(has_video)))\n",
    "    #print(\"{} sources with VIKING flux\".format(np.sum(has_viking)))\n",
    "    #print(\"{} sources with VHS flux\".format(np.sum(has_vhs)))\n",
    "    #print(\"{} sources with VIDEO, VIKING, and VHS flux\".format(np.sum(has_video & has_viking & has_vhs)))\n",
    "\n",
    "\n",
    "    use_video = has_video \n",
    "    use_viking = has_viking & ~has_video\n",
    "    use_vhs = has_vhs & ~has_video & ~has_viking\n",
    "\n",
    "    #print(\"{} sources for which we use VIDEO\".format(np.sum(use_video)))\n",
    "    #print(\"{} sources for which we use VIKING\".format(np.sum(use_viking)))\n",
    "    #print(\"{} sources for which we use VHS\".format(np.sum(use_vhs)))\n",
    "\n",
    "    f_vista = np.full(len(master_catalogue), np.nan)\n",
    "    f_vista[use_video] = master_catalogue['f_video_' + band][use_video]\n",
    "    f_vista[use_viking] = master_catalogue['f_viking_' + band][use_viking]\n",
    "    if not (band == 'z'):\n",
    "        f_vista[use_vhs] = master_catalogue['f_vhs_' + band][use_vhs]\n",
    "\n",
    "    ferr_vista = np.full(len(master_catalogue), np.nan)\n",
    "    ferr_vista[use_video] = master_catalogue['ferr_video_' + band][use_video]\n",
    "    ferr_vista[use_viking] = master_catalogue['ferr_viking_' + band][use_viking]\n",
    "    if not (band == 'z'):\n",
    "        ferr_vista[use_vhs] = master_catalogue['ferr_vhs_' + band][use_vhs]\n",
    "    \n",
    "    m_vista = np.full(len(master_catalogue), np.nan)\n",
    "    m_vista[use_video] = master_catalogue['m_video_' + band][use_video]\n",
    "    m_vista[use_viking] = master_catalogue['m_viking_' + band][use_viking]\n",
    "    if not (band == 'z'):\n",
    "        m_vista[use_vhs] = master_catalogue['m_vhs_' + band][use_vhs]\n",
    "\n",
    "    merr_vista = np.full(len(master_catalogue), np.nan)\n",
    "    merr_vista[use_video] = master_catalogue['merr_video_' + band][use_video]\n",
    "    merr_vista[use_viking] = master_catalogue['merr_viking_' + band][use_viking]\n",
    "    if not (band == 'z'):\n",
    "        merr_vista[use_vhs] = master_catalogue['merr_vhs_' + band][use_vhs]\n",
    "\n",
    "    flag_vista = np.full(len(master_catalogue), False, dtype=bool)\n",
    "    flag_vista[use_video] = master_catalogue['flag_video_' + band][use_video]\n",
    "    flag_vista[use_viking] = master_catalogue['flag_viking_' + band][use_viking]\n",
    "    if not (band == 'z'):\n",
    "        flag_vista[use_vhs] = master_catalogue['flag_vhs_' + band][use_vhs]\n",
    "\n",
    "    master_catalogue.add_column(Column(data=f_vista, name=\"f_vista_\" + band))\n",
    "    master_catalogue.add_column(Column(data=ferr_vista, name=\"ferr_vista_\" + band))\n",
    "    master_catalogue.add_column(Column(data=m_vista, name=\"m_vista_\" + band))\n",
    "    master_catalogue.add_column(Column(data=merr_vista, name=\"merr_vista_\" + band))\n",
    "    master_catalogue.add_column(Column(data=flag_vista, name=\"flag_vista_\" + band))\n",
    "\n",
    "    old_video_and_viking_columns = ['f_video_' + band, \n",
    "                                     'f_viking_' + band, \n",
    "                                     'ferr_video_' + band,\n",
    "                                     'ferr_viking_' + band, \n",
    "                                     'm_video_' + band, \n",
    "                                     'm_viking_' + band, \n",
    "                                     'merr_video_' + band,\n",
    "                                     'merr_viking_' + band,\n",
    "                                     'flag_video_' + band, \n",
    "                                     'flag_viking_' + band]\n",
    "    old_vhs_columns = ['f_vhs_' + band, \n",
    "                       'ferr_vhs_' + band, \n",
    "                       'm_vhs_' + band, \n",
    "                       'merr_vhs_' + band,\n",
    "                       'flag_vhs_' + band]\n",
    "    \n",
    "    if not (band == 'z'):\n",
    "        old_columns = old_video_and_viking_columns + old_vhs_columns\n",
    "    else:\n",
    "        old_columns = old_video_and_viking_columns\n",
    "    master_catalogue.remove_columns(old_columns)\n",
    "\n",
    "    origin = np.full(len(master_catalogue), '     ', dtype='<U5')\n",
    "    origin[use_video] = \"VIDEO\"\n",
    "    origin[use_viking] = \"VIKING\"\n",
    "    origin[use_vhs] = \"VHS\"\n",
    "    \n",
    "    vista_origin.add_column(Column(data=origin, name= 'f_vista_' + band ))\n",
    "    \n",
    "    \n",
    "    \n",
    "    # VISTA Aperture flux\n",
    "    has_ap_video = ~np.isnan(master_catalogue['f_ap_video_' + band])\n",
    "    has_ap_viking = ~np.isnan(master_catalogue['f_ap_viking_' + band])\n",
    "    if (band == 'z'):\n",
    "        has_ap_vhs = np.full(len(master_catalogue), False)\n",
    "    else:\n",
    "        has_ap_vhs = ~np.isnan(master_catalogue['f_ap_vhs_' + band])\n",
    "\n",
    "    #print(\"{} sources with VIDEO aperture flux\".format(np.sum(has_ap_video)))\n",
    "    #print(\"{} sources with VIKING aperture flux\".format(np.sum(has_ap_viking)))\n",
    "    #print(\"{} sources with VHS aperture flux\".format(np.sum(has_ap_vhs)))\n",
    "    #print(\"{} sources with VIDEO, VIKING and VHS aperture flux\".format(np.sum(has_ap_video & has_ap_viking & has_ap_vhs)))\n",
    "\n",
    "    use_ap_video = has_ap_video \n",
    "    use_ap_viking = has_ap_viking & ~has_ap_video\n",
    "    use_ap_vhs = has_ap_vhs & ~has_ap_video & ~has_ap_viking\n",
    "\n",
    "    #print(\"{} sources for which we use VIDEO aperture fluxes\".format(np.sum(use_ap_video)))\n",
    "    #print(\"{} sources for which we use VIKING aperture fluxes\".format(np.sum(use_ap_viking)))\n",
    "    #print(\"{} sources for which we use VHS aperture fluxes\".format(np.sum(use_ap_vhs)))\n",
    "\n",
    "    f_ap_vista = np.full(len(master_catalogue), np.nan)\n",
    "    f_ap_vista[use_ap_video] = master_catalogue['f_ap_video_' + band][use_ap_video]\n",
    "    f_ap_vista[use_ap_viking] = master_catalogue['f_ap_viking_' + band][use_ap_viking]\n",
    "    if not (band == 'z'):\n",
    "        f_ap_vista[use_ap_vhs] = master_catalogue['f_ap_vhs_' + band][use_ap_vhs]\n",
    "\n",
    "    ferr_ap_vista = np.full(len(master_catalogue), np.nan)\n",
    "    ferr_ap_vista[use_ap_video] = master_catalogue['ferr_ap_video_' + band][use_ap_video]\n",
    "    ferr_ap_vista[use_ap_viking] = master_catalogue['ferr_ap_viking_' + band][use_ap_viking]\n",
    "    if not (band == 'z'):\n",
    "        ferr_ap_vista[use_ap_vhs] = master_catalogue['ferr_ap_vhs_' + band][use_ap_vhs]\n",
    "    \n",
    "    m_ap_vista = np.full(len(master_catalogue), np.nan)\n",
    "    m_ap_vista[use_ap_video] = master_catalogue['m_ap_video_' + band][use_ap_video]\n",
    "    m_ap_vista[use_ap_viking] = master_catalogue['m_ap_viking_' + band][use_ap_viking]\n",
    "    if not (band == 'z'):\n",
    "        m_ap_vista[use_ap_vhs] = master_catalogue['m_ap_vhs_' + band][use_ap_vhs]\n",
    "\n",
    "    merr_ap_vista = np.full(len(master_catalogue), np.nan)\n",
    "    merr_ap_vista[use_ap_video] = master_catalogue['merr_ap_video_' + band][use_ap_video]\n",
    "    merr_ap_vista[use_ap_viking] = master_catalogue['merr_ap_viking_' + band][use_ap_viking]\n",
    "    if not (band == 'z'):\n",
    "        merr_ap_vista[use_ap_vhs] = master_catalogue['merr_ap_vhs_' + band][use_ap_vhs]\n",
    "\n",
    "\n",
    "    master_catalogue.add_column(Column(data=f_ap_vista, name=\"f_ap_vista_\" + band))\n",
    "    master_catalogue.add_column(Column(data=ferr_ap_vista, name=\"ferr_ap_vista_\" + band))\n",
    "    master_catalogue.add_column(Column(data=m_ap_vista, name=\"m_ap_vista_\" + band))\n",
    "    master_catalogue.add_column(Column(data=merr_vista, name=\"merr_ap_vista_\" + band))\n",
    "\n",
    "\n",
    "    ap_old_video_and_viking_columns = ['f_ap_video_' + band, \n",
    "                                     'f_ap_viking_' + band, \n",
    "                                     'ferr_ap_video_' + band,\n",
    "                                     'ferr_ap_viking_' + band, \n",
    "                                     'm_ap_video_' + band, \n",
    "                                     'm_ap_viking_' + band, \n",
    "                                     'merr_ap_video_' + band,\n",
    "                                     'merr_ap_viking_' + band]\n",
    "    ap_old_vhs_columns = ['f_ap_vhs_' + band, \n",
    "                       'ferr_ap_vhs_' + band, \n",
    "                       'm_ap_vhs_' + band, \n",
    "                       'merr_ap_vhs_' + band]\n",
    "    \n",
    "    if not (band == 'z'):\n",
    "        ap_old_columns = ap_old_video_and_viking_columns + ap_old_vhs_columns\n",
    "    else:\n",
    "        ap_old_columns = ap_old_video_and_viking_columns\n",
    "    master_catalogue.remove_columns(ap_old_columns)\n",
    "\n",
    "    origin_ap = np.full(len(master_catalogue), '     ', dtype='<U5')\n",
    "    origin_ap[use_ap_video] = \"VIDEO\"\n",
    "    origin_ap[use_ap_viking] = \"VIKING\"\n",
    "    origin_ap[use_ap_vhs] = \"VHS\"\n",
    "    \n",
    "    vista_origin.add_column(Column(data=origin_ap, name= 'f_ap_vista_' + band ))\n",
    "    \n",
    "    vista_stats['VIDEO'][vista_stats['Band'] == band] = np.sum(has_video)\n",
    "    vista_stats['VIKING'][vista_stats['Band'] == band] = np.sum(has_viking)\n",
    "    vista_stats['VHS'][vista_stats['Band'] == band] = np.sum(has_vhs)\n",
    "    vista_stats['use VIDEO'][vista_stats['Band'] == band] = np.sum(use_video)\n",
    "    vista_stats['use VIKING'][vista_stats['Band'] == band] = np.sum(use_viking)\n",
    "    vista_stats['use VHS'][vista_stats['Band'] == band] = np.sum(use_vhs)\n",
    "    vista_stats['VIDEO ap'][vista_stats['Band'] == band] = np.sum(has_ap_video)\n",
    "    vista_stats['VIKING ap'][vista_stats['Band'] == band] = np.sum(has_ap_viking)\n",
    "    vista_stats['VHS ap'][vista_stats['Band'] == band] = np.sum(has_ap_vhs)\n",
    "    vista_stats['use VIDEO ap'][vista_stats['Band'] == band] = np.sum(use_ap_video)\n",
    "    vista_stats['use VIKING ap'][vista_stats['Band'] == band] = np.sum(use_ap_viking)\n",
    "    vista_stats['use VHS ap'][vista_stats['Band'] == band] = np.sum(use_ap_vhs)"
   ]
  },
  {
   "cell_type": "markdown",
   "metadata": {},
   "source": [
    "### Vista origin overview\n",
    "For each band show how many objects have fluxes from each survey for both total and aperture photometries."
   ]
  },
  {
   "cell_type": "code",
   "execution_count": null,
   "metadata": {},
   "outputs": [],
   "source": [
    "vista_stats.show_in_notebook()"
   ]
  },
  {
   "cell_type": "code",
   "execution_count": null,
   "metadata": {
    "collapsed": true
   },
   "outputs": [],
   "source": [
    "vista_origin.write(\"{}/xmm-lss_vista_fluxes_origins{}.fits\".format(OUT_DIR, SUFFIX))"
   ]
  },
  {
   "cell_type": "markdown",
   "metadata": {},
   "source": [
    "### VII. d UKIDSS DXS and UDS\n",
    "\n",
    "There is no overlap between UDS and DXS so I have named the columns 'ukidss' in the pristine catalogue production stage."
   ]
  },
  {
   "cell_type": "markdown",
   "metadata": {},
   "source": [
    "### VII. e HSC wide, deep and udeep\n",
    "Here we straightforwardly take the deepest\n",
    "\n",
    "| Survey      | Bands observed   |\n",
    "|-------------|------------------|\n",
    "| HSC-WIDE    | grizy            |\n",
    "| HSC-DEEP    | grizy            |\n",
    "| HSC-UDEEP   | grizy n921 n816  |"
   ]
  },
  {
   "cell_type": "code",
   "execution_count": null,
   "metadata": {
    "collapsed": true
   },
   "outputs": [],
   "source": [
    "suprime_origin = Table()\n",
    "suprime_origin.add_column(master_catalogue['help_id'])"
   ]
  },
  {
   "cell_type": "code",
   "execution_count": null,
   "metadata": {},
   "outputs": [],
   "source": [
    "suprime_stats = Table()\n",
    "suprime_stats.add_column(Column(data=['g','r','i','z','y'], name=\"Band\"))\n",
    "for col in [\"HSC-UDEEP\",  \"HSC-DEEP\", \"HSC-WIDE\"]:\n",
    "    suprime_stats.add_column(Column(data=np.full(5, 0), name=\"{}\".format(col)))\n",
    "    suprime_stats.add_column(Column(data=np.full(5, 0), name=\"use {}\".format(col)))\n",
    "    suprime_stats.add_column(Column(data=np.full(5, 0), name=\"{} ap\".format(col)))\n",
    "    suprime_stats.add_column(Column(data=np.full(5, 0), name=\"use {} ap\".format(col)))\n",
    "    \n",
    "#n921 and n816 only in udeep so we can just rename those columns\n",
    "for col in master_catalogue.colnames:\n",
    "    if ('n921' in col) or ('n816' in col):\n",
    "        master_catalogue[col].name = col.replace('hsc-udeep', 'suprime')"
   ]
  },
  {
   "cell_type": "code",
   "execution_count": null,
   "metadata": {
    "collapsed": true
   },
   "outputs": [],
   "source": [
    "suprime_bands = ['g','r','i','z','y'] # Lowercase naming convention (k is Ks)\n",
    "for band in suprime_bands:\n",
    "\n",
    "    # Suprime total flux \n",
    "    has_hsc_udeep = ~np.isnan(master_catalogue['f_hsc-udeep_' + band])\n",
    "    has_hsc_deep  = ~np.isnan(master_catalogue['f_hsc-deep_' + band])\n",
    "    has_hsc_wide  = ~np.isnan(master_catalogue['f_hsc-wide_' + band])\n",
    "    \n",
    "\n",
    "    use_hsc_udeep = has_hsc_udeep\n",
    "    use_hsc_deep = has_hsc_deep & ~has_hsc_udeep\n",
    "    use_hsc_wide = has_hsc_wide & ~has_hsc_deep & ~has_hsc_udeep\n",
    "\n",
    "    f_suprime = np.full(len(master_catalogue), np.nan)\n",
    "    f_suprime[use_hsc_udeep] = master_catalogue['f_hsc-udeep_' + band][use_hsc_udeep]\n",
    "    f_suprime[use_hsc_deep] = master_catalogue['f_hsc-deep_' + band][use_hsc_deep]\n",
    "    f_suprime[use_hsc_wide] = master_catalogue['f_hsc-wide_' + band][use_hsc_wide]\n",
    "\n",
    "    ferr_suprime = np.full(len(master_catalogue), np.nan)\n",
    "    ferr_suprime[use_hsc_udeep] = master_catalogue['ferr_hsc-udeep_' + band][use_hsc_udeep]\n",
    "    ferr_suprime[use_hsc_deep] = master_catalogue['ferr_hsc-deep_' + band][use_hsc_deep]\n",
    "    ferr_suprime[use_hsc_wide] = master_catalogue['ferr_hsc-wide_' + band][use_hsc_wide]\n",
    "    \n",
    "    m_suprime = np.full(len(master_catalogue), np.nan)\n",
    "    m_suprime[use_hsc_udeep] = master_catalogue['m_hsc-udeep_' + band][use_hsc_udeep]\n",
    "    m_suprime[use_hsc_deep] = master_catalogue['m_hsc-deep_' + band][use_hsc_deep]\n",
    "    m_suprime[use_hsc_wide] = master_catalogue['m_hsc-wide_' + band][use_hsc_wide]\n",
    "\n",
    "    merr_suprime = np.full(len(master_catalogue), np.nan)\n",
    "    merr_suprime[use_hsc_udeep] = master_catalogue['merr_hsc-udeep_' + band][use_hsc_udeep]\n",
    "    merr_suprime[use_hsc_deep] = master_catalogue['merr_hsc-deep_' + band][use_hsc_deep]\n",
    "    merr_suprime[use_hsc_wide] = master_catalogue['merr_hsc-wide_' + band][use_hsc_wide]\n",
    "\n",
    "    flag_suprime = np.full(len(master_catalogue), False, dtype=bool)\n",
    "    flag_suprime[use_hsc_udeep] = master_catalogue['flag_hsc-udeep_' + band][use_hsc_udeep]\n",
    "    flag_suprime[use_hsc_deep] = master_catalogue['flag_hsc-deep_' + band][use_hsc_deep]\n",
    "    flag_suprime[use_hsc_wide] = master_catalogue['flag_hsc-wide_' + band][use_hsc_wide]\n",
    "\n",
    "    master_catalogue.add_column(Column(data=f_suprime, name=\"f_suprime_\" + band))\n",
    "    master_catalogue.add_column(Column(data=ferr_suprime, name=\"ferr_suprime_\" + band))\n",
    "    master_catalogue.add_column(Column(data=m_suprime, name=\"m_suprime_\" + band))\n",
    "    master_catalogue.add_column(Column(data=merr_suprime, name=\"merr_suprime_\" + band))\n",
    "    master_catalogue.add_column(Column(data=flag_suprime, name=\"flag_suprime_\" + band))\n",
    "\n",
    "    old_hsc_udeep_columns = ['f_hsc-udeep_' + band,\n",
    "                               'ferr_hsc-udeep_' + band,\n",
    "                               'm_hsc-udeep_' + band, \n",
    "                               'merr_hsc-udeep_' + band,\n",
    "                               'flag_hsc-udeep_' + band]\n",
    "    old_hsc_deep_columns = ['f_hsc-deep_' + band,\n",
    "                               'ferr_hsc-deep_' + band,\n",
    "                               'm_hsc-deep_' + band, \n",
    "                               'merr_hsc-deep_' + band,\n",
    "                               'flag_hsc-deep_' + band]\n",
    "    old_hsc_wide_columns =      ['f_hsc-wide_' + band,\n",
    "                               'ferr_hsc-wide_' + band,\n",
    "                               'm_hsc-wide_' + band, \n",
    "                               'merr_hsc-wide_' + band,\n",
    "                               'flag_hsc-wide_' + band]\n",
    "    \n",
    "    old_columns = old_hsc_udeep_columns + old_hsc_deep_columns + old_hsc_wide_columns\n",
    "    master_catalogue.remove_columns(old_columns)\n",
    "\n",
    "    origin = np.full(len(master_catalogue), '     ', dtype='<U5')\n",
    "    origin[use_hsc_udeep] = \"HSC-UDEEP\"\n",
    "    origin[use_hsc_deep] = \"HSC-DEEP\"\n",
    "    origin[use_hsc_wide] = \"HSC-WIDE\"\n",
    "    \n",
    "    suprime_origin.add_column(Column(data=origin, name= 'f_suprime_' + band ))\n",
    "    \n",
    "  \n",
    "    # Suprime aperture flux \n",
    "    has_ap_hsc_udeep = ~np.isnan(master_catalogue['f_ap_hsc-udeep_' + band])\n",
    "    has_ap_hsc_deep  = ~np.isnan(master_catalogue['f_ap_hsc-deep_' + band])\n",
    "    has_ap_hsc_wide  = ~np.isnan(master_catalogue['f_ap_hsc-wide_' + band])\n",
    "    \n",
    "\n",
    "    use_ap_hsc_udeep = has_ap_hsc_udeep\n",
    "    use_ap_hsc_deep = has_ap_hsc_deep & ~has_ap_hsc_udeep\n",
    "    use_ap_hsc_wide = has_ap_hsc_wide & ~has_ap_hsc_deep & ~has_ap_hsc_udeep\n",
    "\n",
    "    f_ap_suprime = np.full(len(master_catalogue), np.nan)\n",
    "    f_ap_suprime[use_ap_hsc_udeep] = master_catalogue['f_ap_hsc-udeep_' + band][use_ap_hsc_udeep]\n",
    "    f_ap_suprime[use_ap_hsc_deep] = master_catalogue['f_ap_hsc-deep_' + band][use_ap_hsc_deep]\n",
    "    f_ap_suprime[use_ap_hsc_wide] = master_catalogue['f_ap_hsc-wide_' + band][use_ap_hsc_wide]\n",
    "\n",
    "    ferr_ap_suprime = np.full(len(master_catalogue), np.nan)\n",
    "    ferr_ap_suprime[use_ap_hsc_udeep] = master_catalogue['ferr_ap_hsc-udeep_' + band][use_ap_hsc_udeep]\n",
    "    ferr_ap_suprime[use_ap_hsc_deep] = master_catalogue['ferr_ap_hsc-deep_' + band][use_ap_hsc_deep]\n",
    "    ferr_ap_suprime[use_ap_hsc_wide] = master_catalogue['ferr_ap_hsc-wide_' + band][use_ap_hsc_wide]\n",
    "    \n",
    "    m_ap_suprime = np.full(len(master_catalogue), np.nan)\n",
    "    m_ap_suprime[use_ap_hsc_udeep] = master_catalogue['m_ap_hsc-udeep_' + band][use_ap_hsc_udeep]\n",
    "    m_ap_suprime[use_ap_hsc_deep] = master_catalogue['m_ap_hsc-deep_' + band][use_ap_hsc_deep]\n",
    "    m_ap_suprime[use_ap_hsc_wide] = master_catalogue['m_ap_hsc-wide_' + band][use_ap_hsc_wide]\n",
    "\n",
    "    merr_ap_suprime = np.full(len(master_catalogue), np.nan)\n",
    "    merr_ap_suprime[use_ap_hsc_udeep] = master_catalogue['merr_ap_hsc-udeep_' + band][use_ap_hsc_udeep]\n",
    "    merr_ap_suprime[use_ap_hsc_deep] = master_catalogue['merr_ap_hsc-deep_' + band][use_ap_hsc_deep]\n",
    "    merr_ap_suprime[use_ap_hsc_wide] = master_catalogue['merr_ap_hsc-wide_' + band][use_ap_hsc_wide]\n",
    "\n",
    "\n",
    "    master_catalogue.add_column(Column(data=f_ap_suprime, name=\"f_ap_suprime_\" + band))\n",
    "    master_catalogue.add_column(Column(data=ferr_ap_suprime, name=\"ferr_ap_suprime_\" + band))\n",
    "    master_catalogue.add_column(Column(data=m_ap_suprime, name=\"m_ap_suprime_\" + band))\n",
    "    master_catalogue.add_column(Column(data=merr_ap_suprime, name=\"merr_ap_suprime_\" + band))\n",
    "\n",
    "\n",
    "    old_ap_hsc_udeep_columns = ['f_ap_hsc-udeep_' + band,\n",
    "                               'ferr_ap_hsc-udeep_' + band,\n",
    "                               'm_ap_hsc-udeep_' + band, \n",
    "                               'merr_ap_hsc-udeep_' + band]\n",
    "    old_ap_hsc_deep_columns = ['f_ap_hsc-deep_' + band,\n",
    "                               'ferr_ap_hsc-deep_' + band,\n",
    "                               'm_ap_hsc-deep_' + band, \n",
    "                               'merr_ap_hsc-deep_' + band]\n",
    "    old_ap_hsc_wide_columns =      ['f_ap_hsc-wide_' + band,\n",
    "                               'ferr_ap_hsc-wide_' + band,\n",
    "                               'm_ap_hsc-wide_' + band, \n",
    "                               'merr_ap_hsc-wide_' + band]\n",
    "    \n",
    "    old_ap_columns = old_ap_hsc_udeep_columns + old_ap_hsc_deep_columns + old_ap_hsc_wide_columns\n",
    "    master_catalogue.remove_columns(old_ap_columns)\n",
    "\n",
    "    origin_ap = np.full(len(master_catalogue), '     ', dtype='<U5')\n",
    "    origin_ap[use_ap_hsc_udeep] = \"HSC-UDEEP\"\n",
    "    origin_ap[use_ap_hsc_deep] = \"HSC-DEEP\"\n",
    "    origin_ap[use_ap_hsc_wide] = \"HSC-WIDE\"\n",
    "    \n",
    "    suprime_origin.add_column(Column(data=origin_ap, name= 'f_ap_suprime_' + band ))\n",
    "\n",
    "   \n",
    "    suprime_stats['HSC-UDEEP'][suprime_stats['Band'] == band] = np.sum(has_hsc_udeep)\n",
    "    suprime_stats['HSC-DEEP'][suprime_stats['Band'] == band] = np.sum(has_hsc_deep)\n",
    "    suprime_stats['HSC-WIDE'][suprime_stats['Band'] == band] = np.sum(has_hsc_wide)\n",
    "    suprime_stats['use HSC-UDEEP'][suprime_stats['Band'] == band] = np.sum(use_hsc_udeep)\n",
    "    suprime_stats['use HSC-DEEP'][suprime_stats['Band'] == band] = np.sum(use_hsc_deep)\n",
    "    suprime_stats['use HSC-WIDE'][suprime_stats['Band'] == band] = np.sum(use_hsc_wide)\n",
    "    suprime_stats['HSC-UDEEP ap'][suprime_stats['Band'] == band] = np.sum(has_ap_hsc_udeep)\n",
    "    suprime_stats['HSC-DEEP ap'][suprime_stats['Band'] == band] = np.sum(has_ap_hsc_deep)\n",
    "    suprime_stats['HSC-WIDE ap'][suprime_stats['Band'] == band] = np.sum(has_ap_hsc_wide)\n",
    "    suprime_stats['use HSC-UDEEP ap'][suprime_stats['Band'] == band] = np.sum(use_ap_hsc_udeep)\n",
    "    suprime_stats['use HSC-DEEP ap'][suprime_stats['Band'] == band] = np.sum(use_ap_hsc_deep)\n",
    "    suprime_stats['use HSC-WIDE ap'][suprime_stats['Band'] == band] = np.sum(use_ap_hsc_wide)"
   ]
  },
  {
   "cell_type": "code",
   "execution_count": null,
   "metadata": {},
   "outputs": [],
   "source": [
    "suprime_stats.show_in_notebook()"
   ]
  },
  {
   "cell_type": "code",
   "execution_count": null,
   "metadata": {
    "collapsed": true
   },
   "outputs": [],
   "source": [
    "suprime_origin.write(\"{}/xmm-lss_suprime_fluxes_origins{}.fits\".format(OUT_DIR, SUFFIX))"
   ]
  },
  {
   "cell_type": "markdown",
   "metadata": {},
   "source": [
    "## VIII.a Wavelenght domain coverage\n",
    "\n",
    "We add a binary `flag_optnir_obs` indicating that a source was observed in a given wavelenght domain:\n",
    "\n",
    "- 1 for observation in optical;\n",
    "- 2 for observation in near-infrared;\n",
    "- 4 for observation in mid-infrared (IRAC).\n",
    "\n",
    "It's an integer binary flag, so a source observed both in optical and near-infrared by not in mid-infrared would have this flag at 1 + 2 = 3.\n",
    "\n",
    "*Note 1: The observation flag is based on the creation of multi-order coverage maps from the catalogues, this may not be accurate, especially on the edges of the coverage.*\n",
    "\n",
    "*Note 2: Being on the observation coverage does not mean having fluxes in that wavelength domain. For sources observed in one domain but having no flux in it, one must take into consideration the different depths in the catalogue we are using.*"
   ]
  },
  {
   "cell_type": "code",
   "execution_count": null,
   "metadata": {},
   "outputs": [],
   "source": [
    "candels_moc =   MOC(filename=\"../../dmu0/dmu0_CANDELS-3D-HST/data/CANDELS-3D-HST_XMM-LSS_MOC.fits\") # 1.1\n",
    "cfht_wirds_moc =  MOC(filename=\"../../dmu0/dmu0_CFHT-WIRDS/data/XMM-LSS_Ks-priors_MOC.fits\")        # 1.3\n",
    "cfhtls_wide_moc = MOC(filename=\"../../dmu0/dmu0_CFHTLS/data/CFHTLS-WIDE_XMM-LSS_MOC.fits\")          # 1.4a\n",
    "cfhtls_deep_moc = MOC(filename=\"../../dmu0/dmu0_CFHTLS/data/CFHTLS-DEEP_XMM-LSS_MOC.fits\")          # 1.4b\n",
    "cfhtls_moc = cfhtls_wide_moc + cfhtls_deep_moc\n",
    "#cfhtlens_moc = MOC(filename=\"../../dmu0/dmu0_CFHTLenS/data/CFHTLenS_XMM-LSS_MOC.fits\")              # 1.5\n",
    "decals_moc =  MOC(filename=\"../../dmu0/dmu0_DECaLS/data/DECaLS_XMM-LSS_MOC.fits\")                   # 1.6\n",
    "servs_moc = MOC(filename=\"../../dmu0/dmu0_DataFusion-Spitzer/data/DF-SERVS_XMM-LSS_MOC.fits\")       # 1.8\n",
    "swire_moc = MOC(filename=\"../../dmu0/dmu0_DataFusion-Spitzer/data/DF-SWIRE_XMM-LSS_MOC.fits\")       # 1.7\n",
    "hsc_wide_moc = MOC(filename=\"../../dmu0/dmu0_HSC/data/HSC-PDR1_wide_XMM-LSS_MOC.fits\")              # 1.9a\n",
    "hsc_deep_moc = MOC(filename=\"../../dmu0/dmu0_HSC/data/HSC-PDR1_deep_XMM-LSS_MOC.fits\")              # 1.9b\n",
    "hsc_udeep_moc = MOC(filename=\"../../dmu0/dmu0_HSC/data/HSC-PDR1_udeep_XMM-LSS_MOC.fits\")            # 1.9c\n",
    "hsc_moc = hsc_wide_moc + hsc_deep_moc + hsc_udeep_moc\n",
    "ps1_moc = MOC(filename=\"../../dmu0/dmu0_PanSTARRS1-3SS/data/PanSTARRS1-3SS_XMM-LSS_MOC.fits\")       # 1.10\n",
    "sxds_moc = MOC(filename=\"../../dmu0/dmu0_SXDS/data/dmu0_SXDS_MOC.fits\")                             # 1.11\n",
    "sparcs_moc = MOC(filename=\"../../dmu0/dmu0_SpARCS/data/SpARCS_HELP_XMM-LSS_MOC.fits\")               # 1.12\n",
    "dxs_moc = MOC(filename=\"../../dmu0/dmu0_UKIDSS-DXS_DR10plus/data/UKIDSS-DR10plus_XMM-LSS_MOC.fits\") # 1.13\n",
    "uds_moc =  MOC(filename=\"../../dmu0/dmu0_UKIDSS-UDS/data/UKIDSS-UDS_XMM-LSS_MOC.fits\")              # 1.14\n",
    "vipers_moc =  MOC(filename=\"../../dmu0/dmu0_VIPERS-MLS/data/VIPERS-MLS_20160502_MOC.fits\")          # 1.15\n",
    "vhs_moc =   MOC(filename=\"../../dmu0/dmu0_VISTA-VHS/data/VHS_XMM-LSS_MOC.fits\")                     # 1.16\n",
    "video_moc =  MOC(filename=\"../../dmu0/dmu0_VISTA-VIDEO-private/data/VIDEO-all_2016-04-14_fullcat_errfix_XMM-LSS_MOC.fits\")         # 1.17\n",
    "viking_moc = MOC(filename=\"../../dmu0/dmu0_VISTA-VIKING/data/VIKING_XMM-LSS_MOC.fits\")              # 1.18"
   ]
  },
  {
   "cell_type": "code",
   "execution_count": null,
   "metadata": {},
   "outputs": [],
   "source": [
    "was_observed_optical = inMoc(\n",
    "    master_catalogue['ra'], master_catalogue['dec'],\n",
    "    (candels_moc + \n",
    "     cfht_wirds_moc + \n",
    "     cfhtls_moc + \n",
    "     #cfhtlens_moc + \n",
    "     sparcs_moc + \n",
    "     decals_moc + \n",
    "     hsc_moc + \n",
    "     ps1_moc) )\n",
    "\n",
    "was_observed_nir = inMoc(\n",
    "    master_catalogue['ra'], master_catalogue['dec'],\n",
    "    dxs_moc + uds_moc + vhs_moc + video_moc + viking_moc\n",
    ")\n",
    "\n",
    "was_observed_mir = inMoc(\n",
    "    master_catalogue['ra'], master_catalogue['dec'],\n",
    "    servs_moc + swire_moc\n",
    ")"
   ]
  },
  {
   "cell_type": "code",
   "execution_count": null,
   "metadata": {
    "collapsed": true
   },
   "outputs": [],
   "source": [
    "master_catalogue.add_column(\n",
    "    Column(\n",
    "        1 * was_observed_optical + 2 * was_observed_nir + 4 * was_observed_mir,\n",
    "        name=\"flag_optnir_obs\")\n",
    ")"
   ]
  },
  {
   "cell_type": "markdown",
   "metadata": {},
   "source": [
    "## VIII.b Wavelength domain detection\n",
    "\n",
    "We add a binary `flag_optnir_det` indicating that a source was detected in a given wavelenght domain:\n",
    "\n",
    "- 1 for detection in optical;\n",
    "- 2 for detection in near-infrared;\n",
    "- 4 for detection in mid-infrared (IRAC).\n",
    "\n",
    "It's an integer binary flag, so a source detected both in optical and near-infrared by not in mid-infrared would have this flag at 1 + 2 = 3.\n",
    "\n",
    "*Note 1: We use the total flux columns to know if the source has flux, in some catalogues, we may have aperture flux and no total flux.*\n",
    "\n",
    "To get rid of artefacts (chip edges, star flares, etc.) we consider that a source is detected in one wavelength domain when it has a flux value in **at least two bands**. That means that good sources will be excluded from this flag when they are on the coverage of only one band."
   ]
  },
  {
   "cell_type": "code",
   "execution_count": null,
   "metadata": {},
   "outputs": [],
   "source": [
    "# SpARCS is a catalogue of sources detected in r (with fluxes measured at \n",
    "# this prior position in the other bands).  Thus, we are only using the r\n",
    "# CFHT band.\n",
    "# Check to use catalogue flags from HSC and PanSTARRS.\n",
    "nb_optical_flux = (\n",
    "    # CANDELS\n",
    "    1 * ~np.isnan(master_catalogue['candels_f140w']) + \n",
    "    1 * ~np.isnan(master_catalogue['f_candels_f160w']) +\n",
    "    1 * ~np.isnan(master_catalogue['f_candels_f606w']) +\n",
    "    1 * ~np.isnan(master_catalogue['f_candels_f814w']) +\n",
    "    1 * ~np.isnan(master_catalogue['f_candels_f125w']) +\n",
    "    # DECaLS\n",
    "    1 * ~np.isnan(master_catalogue['f_decam_g']) + \n",
    "    1 * ~np.isnan(master_catalogue['f_decam_r']) +\n",
    "    1 * ~np.isnan(master_catalogue['f_decam_i']) +\n",
    "    1 * ~np.isnan(master_catalogue['f_decam_z']) +\n",
    "    1 * ~np.isnan(master_catalogue['f_decam_y']) +\n",
    "    # HSC\n",
    "    1 * ~np.isnan(master_catalogue['f_suprime_g']) + \n",
    "    1 * ~np.isnan(master_catalogue['f_suprime_r']) +\n",
    "    1 * ~np.isnan(master_catalogue['f_suprime_i']) +\n",
    "    1 * ~np.isnan(master_catalogue['f_suprime_z']) +\n",
    "    1 * ~np.isnan(master_catalogue['f_suprime_y']) +\n",
    "    1 * ~np.isnan(master_catalogue['f_suprime_n921']) +\n",
    "    1 * ~np.isnan(master_catalogue['f_suprime_n816']) +\n",
    "    # PanSTARRS\n",
    "    1 * ~np.isnan(master_catalogue['f_gpc1_g']) +\n",
    "    1 * ~np.isnan(master_catalogue['f_gpc1_r']) +\n",
    "    1 * ~np.isnan(master_catalogue['f_gpc1_i']) +\n",
    "    1 * ~np.isnan(master_catalogue['f_gpc1_z']) +\n",
    "    1 * ~np.isnan(master_catalogue['f_gpc1_y']) +\n",
    "    # CFHT\n",
    "    1 * ~np.isnan(master_catalogue['f_megacam_u']) +\n",
    "    1 * ~np.isnan(master_catalogue['f_megacam_g']) +\n",
    "    1 * ~np.isnan(master_catalogue['f_megacam_r']) +\n",
    "    1 * ~np.isnan(master_catalogue['f_megacam_z']) +\n",
    "    1 * ~np.isnan(master_catalogue['f_megacam_y']) \n",
    ")\n",
    "\n",
    "nb_nir_flux = (\n",
    "    # UKIDSS\n",
    "    1 * ~np.isnan(master_catalogue['f_ukidss_j']) +\n",
    "    # 1 * ~np.isnan(master_catalogue['f_ukidss_h']) +\n",
    "    1 * ~np.isnan(master_catalogue['f_ukidss_k']) +\n",
    "    # VISTA\n",
    "    1 * ~np.isnan(master_catalogue['f_vista_z']) +\n",
    "    1 * ~np.isnan(master_catalogue['f_vista_y']) +\n",
    "    1 * ~np.isnan(master_catalogue['f_vista_j']) +\n",
    "    1 * ~np.isnan(master_catalogue['f_vista_h']) +\n",
    "    1 * ~np.isnan(master_catalogue['f_vista_k'])\n",
    ")\n",
    "\n",
    "nb_mir_flux = (\n",
    "    1 * ~np.isnan(master_catalogue['f_irac_i1']) +\n",
    "    1 * ~np.isnan(master_catalogue['f_irac_i2']) +\n",
    "    1 * ~np.isnan(master_catalogue['f_irac_i3']) +\n",
    "    1 * ~np.isnan(master_catalogue['f_irac_i4'])\n",
    ")"
   ]
  },
  {
   "cell_type": "code",
   "execution_count": null,
   "metadata": {
    "collapsed": true
   },
   "outputs": [],
   "source": [
    "has_optical_flux = nb_optical_flux >= 2\n",
    "has_nir_flux = nb_nir_flux >= 2\n",
    "has_mir_flux = nb_mir_flux >= 2\n",
    "\n",
    "master_catalogue.add_column(\n",
    "    Column(\n",
    "        1 * has_optical_flux + 2 * has_nir_flux + 4 * has_mir_flux,\n",
    "        name=\"flag_optnir_det\")\n",
    ")"
   ]
  },
  {
   "cell_type": "markdown",
   "metadata": {},
   "source": [
    "## IX - Cross-identification table\n",
    "\n",
    "We are producing a table associating to each HELP identifier, the identifiers of the sources in the pristine catalogues. This can be used to easily get additional information from them.\n",
    "\n",
    "For convenience, we also cross-match the master list with the SDSS catalogue and add the objID associated with each source, if any. **TODO: should we correct the astrometry with respect to Gaia positions?**"
   ]
  },
  {
   "cell_type": "code",
   "execution_count": null,
   "metadata": {},
   "outputs": [],
   "source": [
    "#\n",
    "# Addind SDSS ids\n",
    "#\n",
    "sdss = Table.read(\"../../dmu0/dmu0_SDSS-DR13/data/SDSS-DR13_XMM-LSS.fits\")['objID', 'ra', 'dec']\n",
    "sdss_coords = SkyCoord(sdss['ra'] * u.deg, sdss['dec'] * u.deg)\n",
    "idx_ml, d2d, _ = sdss_coords.match_to_catalog_sky(SkyCoord(master_catalogue['ra'], master_catalogue['dec']))\n",
    "idx_sdss = np.arange(len(sdss))\n",
    "\n",
    "# Limit the cross-match to 1 arcsec\n",
    "mask = d2d <= 1. * u.arcsec\n",
    "idx_ml = idx_ml[mask]\n",
    "idx_sdss = idx_sdss[mask]\n",
    "d2d = d2d[mask]\n",
    "nb_orig_matches = len(idx_ml)\n",
    "\n",
    "# In case of multiple associations of one master list object to an SDSS object, we keep only the\n",
    "# association to the nearest one.\n",
    "sort_idx = np.argsort(d2d)\n",
    "idx_ml = idx_ml[sort_idx]\n",
    "idx_sdss = idx_sdss[sort_idx]\n",
    "_, unique_idx = np.unique(idx_ml, return_index=True)\n",
    "idx_ml = idx_ml[unique_idx]\n",
    "idx_sdss = idx_sdss[unique_idx]\n",
    "print(\"{} master list rows had multiple associations.\".format(nb_orig_matches - len(idx_ml)))\n",
    "\n",
    "# Adding the ObjID to the master list\n",
    "master_catalogue.add_column(Column(data=np.full(len(master_catalogue), -1, dtype='>i8'), name=\"sdss_id\"))\n",
    "master_catalogue['sdss_id'][idx_ml] = sdss['objID'][idx_sdss]"
   ]
  },
  {
   "cell_type": "code",
   "execution_count": null,
   "metadata": {},
   "outputs": [],
   "source": [
    "id_names = []\n",
    "for col in master_catalogue.colnames:\n",
    "    if '_id' in col:\n",
    "        id_names += [col]\n",
    "    if '_intid' in col:\n",
    "        id_names += [col]\n",
    "        \n",
    "print(id_names)\n"
   ]
  },
  {
   "cell_type": "code",
   "execution_count": null,
   "metadata": {
    "collapsed": true
   },
   "outputs": [],
   "source": [
    "master_catalogue[id_names].write(\n",
    "    \"{}/master_list_cross_ident_xmm-lss{}.fits\".format(OUT_DIR, SUFFIX))\n",
    "id_names.remove('help_id')\n",
    "master_catalogue.remove_columns(id_names)"
   ]
  },
  {
   "cell_type": "markdown",
   "metadata": {},
   "source": [
    "## X - Adding HEALPix index\n",
    "\n",
    "We are adding a column with a HEALPix index at order 13 associated with each source."
   ]
  },
  {
   "cell_type": "code",
   "execution_count": null,
   "metadata": {
    "collapsed": true
   },
   "outputs": [],
   "source": [
    "master_catalogue.add_column(Column(\n",
    "    data=coords_to_hpidx(master_catalogue['ra'], master_catalogue['dec'], order=13),\n",
    "    name=\"hp_idx\"\n",
    "))"
   ]
  },
  {
   "cell_type": "markdown",
   "metadata": {},
   "source": [
    "## XI - Saving the catalogue"
   ]
  },
  {
   "cell_type": "code",
   "execution_count": null,
   "metadata": {
    "collapsed": true
   },
   "outputs": [],
   "source": [
    "columns = [\"help_id\", \"field\", \"ra\", \"dec\", \"hp_idx\"]\n",
    "\n",
    "bands = [column[5:] for column in master_catalogue.colnames if 'f_ap' in column]\n",
    "for band in bands:\n",
    "    columns += [\"f_ap_{}\".format(band), \"ferr_ap_{}\".format(band),\n",
    "                \"m_ap_{}\".format(band), \"merr_ap_{}\".format(band),\n",
    "                \"f_{}\".format(band), \"ferr_{}\".format(band),\n",
    "                \"m_{}\".format(band), \"merr_{}\".format(band),\n",
    "                \"flag_{}\".format(band)]    \n",
    "    \n",
    "columns += [\"stellarity\", \"stellarity_origin\", \"flag_cleaned\", \"flag_merged\", \"flag_gaia\", \"flag_optnir_obs\", \"flag_optnir_det\", \n",
    "            \"zspec\", \"zspec_qual\", \"zspec_association_flag\", \"ebv\"]"
   ]
  },
  {
   "cell_type": "code",
   "execution_count": null,
   "metadata": {},
   "outputs": [],
   "source": [
    "# We check for columns in the master catalogue that we will not save to disk.\n",
    "print(\"Missing columns: {}\".format(set(master_catalogue.colnames) - set(columns)))"
   ]
  },
  {
   "cell_type": "code",
   "execution_count": null,
   "metadata": {
    "collapsed": true
   },
   "outputs": [],
   "source": [
    "master_catalogue[columns].write(\"{}/master_catalogue_xmm-lss{}.fits\".format(OUT_DIR, SUFFIX))"
   ]
  }
 ],
 "metadata": {
  "kernelspec": {
   "display_name": "Python (herschelhelp_internal)",
   "language": "python",
   "name": "helpint"
  },
  "language_info": {
   "codemirror_mode": {
    "name": "ipython",
    "version": 3
   },
   "file_extension": ".py",
   "mimetype": "text/x-python",
   "name": "python",
   "nbconvert_exporter": "python",
   "pygments_lexer": "ipython3",
   "version": "3.6.1"
  }
 },
 "nbformat": 4,
 "nbformat_minor": 2
}
