{
 "cells": [
  {
   "cell_type": "markdown",
   "metadata": {},
   "source": [
    "# XMM-LSS master catalogue\n",
    "\n",
    "This notebook presents the merge of the various pristine catalogues to produce the HELP master catalogue on XMM-LSS."
   ]
  },
  {
   "cell_type": "code",
   "execution_count": 1,
   "metadata": {
    "collapsed": true
   },
   "outputs": [
    {
     "name": "stdout",
     "output_type": "stream",
     "text": [
      "This notebook was run with herschelhelp_internal version: \n",
      "33f5ec7 (Wed Dec 6 16:56:17 2017 +0000)\n"
     ]
    }
   ],
   "source": [
    "from herschelhelp_internal import git_version\n",
    "print(\"This notebook was run with herschelhelp_internal version: \\n{}\".format(git_version()))"
   ]
  },
  {
   "cell_type": "code",
   "execution_count": 2,
   "metadata": {
    "collapsed": true
   },
   "outputs": [],
   "source": [
    "%matplotlib inline\n",
    "#%config InlineBackend.figure_format = 'svg'\n",
    "\n",
    "import matplotlib.pyplot as plt\n",
    "plt.rc('figure', figsize=(10, 6))\n",
    "\n",
    "import os\n",
    "import time\n",
    "\n",
    "from astropy import units as u\n",
    "from astropy.coordinates import SkyCoord\n",
    "from astropy.table import Column, Table, join\n",
    "import numpy as np\n",
    "from pymoc import MOC\n",
    "\n",
    "from herschelhelp_internal.masterlist import merge_catalogues, nb_merge_dist_plot, specz_merge\n",
    "from herschelhelp_internal.utils import coords_to_hpidx, ebv, gen_help_id, inMoc"
   ]
  },
  {
   "cell_type": "code",
   "execution_count": 3,
   "metadata": {
    "collapsed": true
   },
   "outputs": [],
   "source": [
    "TMP_DIR = os.environ.get('TMP_DIR', \"./data_tmp\")\n",
    "OUT_DIR = os.environ.get('OUT_DIR', \"./data\")\n",
    "SUFFIX = os.environ.get('SUFFIX', time.strftime(\"_%Y%m%d\"))\n",
    "\n",
    "try:\n",
    "    os.makedirs(OUT_DIR)\n",
    "except FileExistsError:\n",
    "    pass"
   ]
  },
  {
   "cell_type": "markdown",
   "metadata": {},
   "source": [
    "## I - Reading the prepared pristine catalogues"
   ]
  },
  {
   "cell_type": "code",
   "execution_count": 4,
   "metadata": {
    "collapsed": true
   },
   "outputs": [],
   "source": [
    "candels = Table.read(\"{}/CANDELS.fits\".format(TMP_DIR)\n",
    "                    )[\"candels_id\",\n",
    "                      \"candels_ra\",\n",
    "                      \"candels_dec\"]           # 1.1\n",
    "#WIRCAM:\n",
    "cfht_wirds = Table.read(\"{}/CFHT-WIRDS.fits\".format(TMP_DIR)\n",
    "                       )[\"wirds_intid\",\n",
    "                         \"wirds_ra\",\n",
    "                         \"wirds_dec\"]     # 1.3\n",
    "\n",
    "#Megacam:\n",
    "#cfhtls_wide = Table.read(\"{}/CFHTLS-WIDE.fits\".format(TMP_DIR)\n",
    "#                        )[\"cfhtls-wide_id\",\n",
    "#                          \"cfhtls-wide_ra\",\n",
    "#                          \"cfhtls-wide_dec\",\n",
    "#                          \"cfhtls-wide_stellarity\"]   # 1.4a\n",
    "#cfhtls_deep = Table.read(\"{}/CFHTLS-DEEP.fits\".format(TMP_DIR)\n",
    "#                        )[\"cfhtls-deep_id\",\n",
    "#                          \"cfhtls-deep_ra\",\n",
    "#                          \"cfhtls-deep_dec\",\n",
    "#                          \"cfhtls-deep_stellarity\"]   # 1.4b\n",
    "#We no longer use CFHTLenS as it is the same raw data set as CFHTLS-WIDE\n",
    "# cfhtlens = Table.read(\"{}/CFHTLENS.fits\".format(TMP_DIR))         # 1.5\n",
    "#sparcs = Table.read(\"{}/SpARCS.fits\".format(TMP_DIR)\n",
    "#                   )['sparcs_intid', \n",
    "#                     'sparcs_ra', \n",
    "#                     'sparcs_dec', \n",
    "#                     'sparcs_stellarity']             # 1.12\n",
    "megacam = Table.read(\"{}/megacam_merged_catalogue_xmm-lss.fits\".format(TMP_DIR)\n",
    "                   )['megacam_intid', \n",
    "                     \"cfhtls-wide_id\",\n",
    "                     \"cfhtls-deep_id\",\n",
    "                     'sparcs_intid',\n",
    "                     'megacam_ra', \n",
    "                     'megacam_dec']             # 1.12\n",
    "\n",
    "\n",
    "\n",
    "#DECam:\n",
    "decals = Table.read(\"{}/DECaLS.fits\".format(TMP_DIR)\n",
    "                   )[\"decals_id\",\n",
    "                     \"decals_ra\",\n",
    "                     \"decals_dec\"]             # 1.6\n",
    "\n",
    "#Spitzer IRAC:\n",
    "#servs = Table.read(\"{}/SERVS.fits\".format(TMP_DIR)\n",
    "#                  )[\"servs_intid\",\n",
    "#                    \"servs_ra\",\n",
    "#                    \"servs_dec\"]               # 1.8\n",
    "#swire = Table.read(\"{}/SWIRE.fits\".format(TMP_DIR)\n",
    "#                  )[\"swire_intid\",\n",
    "#                    \"swire_ra\",\n",
    "#                    \"swire_dec\"]               # 1.7\n",
    "irac = Table.read(\"{}/irac_merged_catalogue_xmm-lss.fits\".format(TMP_DIR)\n",
    "                  )[\"irac_intid\",\n",
    "                    \"servs_intid\",\n",
    "                    \"swire_intid\",\n",
    "                    \"irac_ra\",\n",
    "                    \"irac_dec\"]               # 1.7\n",
    "\n",
    "\n",
    "#Hyper Suprime Cam:\n",
    "#hsc_wide = Table.read(\"{}/HSC-WIDE.fits\".format(TMP_DIR)\n",
    "#                     )[\"hsc-wide_id\",\n",
    "#                       \"hsc-wide_ra\",\n",
    "#                       \"hsc-wide_dec\", \n",
    "#                       \"hsc-wide_stellarity\"]         # 1.9a\n",
    "#hsc_deep = Table.read(\"{}/HSC-DEEP.fits\".format(TMP_DIR)\n",
    "#                     )[\"hsc-deep_id\",\n",
    "#                       \"hsc-deep_ra\",\n",
    "#                       \"hsc-deep_dec\", \n",
    "#                       \"hsc-deep_stellarity\"]         # 1.9b\n",
    "#hsc_udeep = Table.read(\"{}/HSC-UDEEP.fits\".format(TMP_DIR)\n",
    "#                      )[\"hsc-udeep_id\",\n",
    "#                        \"hsc-udeep_ra\",\n",
    "#                        \"hsc-udeep_dec\", \n",
    "#                        \"hsc-udeep_stellarity\"]       # 1.9c\n",
    "hsc = Table.read(\"{}/hsc_merged_catalogue_xmm-lss.fits\".format(TMP_DIR)\n",
    "                      )[\"hsc_intid\",\n",
    "                        \"hsc_ra\",\n",
    "                        \"hsc_dec\", \n",
    "                        \"hsc-wide_id\",\n",
    "                        \"hsc-deep_id\",\n",
    "                        \"hsc-udeep_id\"]       # 1.9c\n",
    "\n",
    "\n",
    "#GPC1:\n",
    "ps1 = Table.read(\"{}/PS1.fits\".format(TMP_DIR)\n",
    "                )[\"ps1_id\",\n",
    "                  \"ps1_ra\",\n",
    "                  \"ps1_dec\"]                   # 1.10\n",
    "#\n",
    "sxds = Table.read(\"{}/SXDS.fits\".format(TMP_DIR)\n",
    "                 )[\"sxds_intid\", \n",
    "                   \"sxds_ra\", \n",
    "                   \"sxds_dec\",\n",
    "                  # 'sxds_flag_merged'\n",
    "                  ]                 # 1.11\n",
    "\n",
    "# UKIDSS WFCAM:\n",
    "#dxs = Table.read(\"{}/UKIDSS-DXS.fits\".format(TMP_DIR)\n",
    "#                )['dxs_id',\n",
    "#                  'dxs_ra',\n",
    "#                  'dxs_dec', \n",
    "#                  'dxs_stellarity']            # 1.13\n",
    "#uds = Table.read(\"{}/UKIDSS-UDS.fits\".format(TMP_DIR)\n",
    "#                )['uds_id',\n",
    "#                  'uds_ra',\n",
    "#                  'uds_dec',\n",
    "#                  'uds_stellarity']            # 1.14\n",
    "ukidss = Table.read(\"{}/ukidss_merged_catalogue_xmm-lss.fits\".format(TMP_DIR)\n",
    "                )['ukidss_intid',\n",
    "                  'dxs_id',\n",
    "                  'uds_id',\n",
    "                  'ukidss_ra',\n",
    "                  'ukidss_dec',\n",
    "                 # 'ukidss_stellarity'\n",
    "                 ]            # 1.14\n",
    "\n",
    "#\n",
    "vipers = Table.read(\"{}/VIPERS.fits\".format(TMP_DIR)\n",
    "                   )[\"vipers_id\",\n",
    "                     \"vipers_ra\",\n",
    "                     \"vipers_dec\"]             # 1.15\n",
    "\n",
    "#VIRCAM:\n",
    "#vhs = Table.read(\"{}/VISTA-VHS.fits\".format(TMP_DIR)\n",
    "#                )[\"vhs_id\",\n",
    "#                  \"vhs_ra\",\n",
    "#                  \"vhs_dec\",\n",
    "#                  \"vhs_stellarity\"]             # 1.16\n",
    "#video = Table.read(\"{}/VISTA-VIDEO.fits\".format(TMP_DIR)\n",
    "#                  )['video_id',\n",
    "#                    'video_ra',\n",
    "#                    'video_dec',\n",
    "#                    'video_stellarity',\n",
    "#                    'video_flag_gaia']         # 1.17\n",
    "#viking = Table.read(\"{}/VISTA-VIKING.fits\".format(TMP_DIR)\n",
    "#                   )[\"viking_id\",\n",
    "#                     \"viking_ra\",\n",
    "#                     \"viking_dec\",\n",
    "#                     \"viking_stellarity\",\n",
    "#                     \"viking_flag_gaia\"]       # 1.18\n",
    "vircam = Table.read(\"{}/vircam_merged_catalogue_xmm-lss.fits\".format(TMP_DIR)\n",
    "                   )[\"vircam_intid\",\n",
    "                     \"vhs_id\",\n",
    "                     'video_id',\n",
    "                     \"viking_id\",\n",
    "                     \"vircam_ra\",\n",
    "                     \"vircam_dec\",\n",
    "                     #\"vircam_stellarity\",\n",
    "                     #\"vircam_flag_gaia\"\n",
    "                    ] "
   ]
  },
  {
   "cell_type": "markdown",
   "metadata": {},
   "source": [
    "## II - Merging tables\n",
    "\n",
    "We first merge the optical catalogues and then add the infrared ones. We start with PanSTARRS because it coevrs the whole field.\n",
    "\n",
    "At every step, we look at the distribution of the distances to the nearest source in the merged catalogue to determine the best crossmatching radius."
   ]
  },
  {
   "cell_type": "markdown",
   "metadata": {},
   "source": [
    "### Add PanSTARRS"
   ]
  },
  {
   "cell_type": "code",
   "execution_count": 5,
   "metadata": {
    "collapsed": true
   },
   "outputs": [],
   "source": [
    "master_catalogue = ps1\n",
    "master_catalogue['ps1_ra'].name = 'ra'\n",
    "master_catalogue['ps1_dec'].name = 'dec'"
   ]
  },
  {
   "cell_type": "markdown",
   "metadata": {},
   "source": [
    "### CANDELS"
   ]
  },
  {
   "cell_type": "code",
   "execution_count": 6,
   "metadata": {
    "collapsed": true
   },
   "outputs": [
    {
     "data": {
      "image/png": "[encoded data removed]",
      "text/plain": [
       "<matplotlib.figure.Figure at 0x7f718ca1f0f0>"
      ]
     },
     "metadata": {},
     "output_type": "display_data"
    }
   ],
   "source": [
    "nb_merge_dist_plot(\n",
    "    SkyCoord(master_catalogue['ra'], master_catalogue['dec']),\n",
    "    SkyCoord(candels['candels_ra'], candels['candels_dec'])\n",
    ")"
   ]
  },
  {
   "cell_type": "code",
   "execution_count": 7,
   "metadata": {
    "collapsed": true
   },
   "outputs": [],
   "source": [
    "# Given the graph above, we use 0.8 arc-second radius\n",
    "master_catalogue = merge_catalogues(master_catalogue, candels, \"candels_ra\", \"candels_dec\", radius=0.8*u.arcsec)"
   ]
  },
  {
   "cell_type": "markdown",
   "metadata": {},
   "source": [
    "### Add CFHT-WIRDS"
   ]
  },
  {
   "cell_type": "code",
   "execution_count": 8,
   "metadata": {
    "collapsed": true
   },
   "outputs": [
    {
     "data": {
      "image/png": "[encoded data removed]",
      "text/plain": [
       "<matplotlib.figure.Figure at 0x7f718c9195c0>"
      ]
     },
     "metadata": {},
     "output_type": "display_data"
    }
   ],
   "source": [
    "nb_merge_dist_plot(\n",
    "    SkyCoord(master_catalogue['ra'], master_catalogue['dec']),\n",
    "    SkyCoord(cfht_wirds['wirds_ra'], cfht_wirds['wirds_dec'])\n",
    ")"
   ]
  },
  {
   "cell_type": "markdown",
   "metadata": {},
   "source": [
    "Because CFHT-WIRDS is made by merging the different bands it has a flag_merged columns which must be removed. We throw this information away because one can get back to the original object using the combined id as described in the notebook."
   ]
  },
  {
   "cell_type": "code",
   "execution_count": 9,
   "metadata": {
    "collapsed": true
   },
   "outputs": [],
   "source": [
    "#cfht_wirds['flag_merged'].name = 'flag_merged_wirds'"
   ]
  },
  {
   "cell_type": "code",
   "execution_count": 10,
   "metadata": {
    "collapsed": true
   },
   "outputs": [],
   "source": [
    "# Given the graph above, we use 0.8 arc-second radius\n",
    "master_catalogue = merge_catalogues(master_catalogue, cfht_wirds, \"wirds_ra\", \"wirds_dec\", radius=0.8*u.arcsec)"
   ]
  },
  {
   "cell_type": "markdown",
   "metadata": {},
   "source": [
    "### Add Megacam"
   ]
  },
  {
   "cell_type": "code",
   "execution_count": 11,
   "metadata": {
    "collapsed": true
   },
   "outputs": [
    {
     "data": {
      "image/png": "[encoded data removed]",
      "text/plain": [
       "<matplotlib.figure.Figure at 0x7f718c910160>"
      ]
     },
     "metadata": {},
     "output_type": "display_data"
    }
   ],
   "source": [
    "nb_merge_dist_plot(\n",
    "    SkyCoord(master_catalogue['ra'], master_catalogue['dec']),\n",
    "    SkyCoord(megacam['megacam_ra'], megacam['megacam_dec'])\n",
    ")"
   ]
  },
  {
   "cell_type": "code",
   "execution_count": 12,
   "metadata": {
    "collapsed": true
   },
   "outputs": [],
   "source": [
    "# Given the graph above, we use 0.8 arc-second radius\n",
    "master_catalogue = merge_catalogues(master_catalogue, \n",
    "                                    megacam, \n",
    "                                    \"megacam_ra\", \n",
    "                                    \"megacam_dec\", \n",
    "                                    radius=0.8*u.arcsec)\n"
   ]
  },
  {
   "cell_type": "markdown",
   "metadata": {},
   "source": [
    "### Add HSC-PSS"
   ]
  },
  {
   "cell_type": "code",
   "execution_count": 13,
   "metadata": {
    "collapsed": true
   },
   "outputs": [
    {
     "data": {
      "image/png": "[encoded data removed]",
      "text/plain": [
       "<matplotlib.figure.Figure at 0x7f71c06ab6a0>"
      ]
     },
     "metadata": {},
     "output_type": "display_data"
    }
   ],
   "source": [
    "nb_merge_dist_plot(\n",
    "    SkyCoord(master_catalogue['ra'], master_catalogue['dec']),\n",
    "    SkyCoord(hsc['hsc_ra'], hsc['hsc_dec'])\n",
    ")"
   ]
  },
  {
   "cell_type": "code",
   "execution_count": 14,
   "metadata": {
    "collapsed": true
   },
   "outputs": [],
   "source": [
    "# Given the graph above, we use 0.8 arc-second radius\n",
    "master_catalogue = merge_catalogues(master_catalogue, hsc, \"hsc_ra\", \"hsc_dec\", radius=0.8*u.arcsec)\n"
   ]
  },
  {
   "cell_type": "markdown",
   "metadata": {},
   "source": [
    "### Add DECaLS"
   ]
  },
  {
   "cell_type": "code",
   "execution_count": 15,
   "metadata": {
    "collapsed": true
   },
   "outputs": [
    {
     "data": {
      "image/png": "[encoded data removed]",
      "text/plain": [
       "<matplotlib.figure.Figure at 0x7f718c975cc0>"
      ]
     },
     "metadata": {},
     "output_type": "display_data"
    }
   ],
   "source": [
    "nb_merge_dist_plot(\n",
    "    SkyCoord(master_catalogue['ra'], master_catalogue['dec']),\n",
    "    SkyCoord(decals['decals_ra'], decals['decals_dec'])\n",
    ")"
   ]
  },
  {
   "cell_type": "code",
   "execution_count": 16,
   "metadata": {
    "collapsed": true
   },
   "outputs": [],
   "source": [
    "# Given the graph above, we use 0.8 arc-second radius\n",
    "master_catalogue = merge_catalogues(master_catalogue, decals, \"decals_ra\", \"decals_dec\", radius=0.8*u.arcsec)"
   ]
  },
  {
   "cell_type": "markdown",
   "metadata": {},
   "source": [
    "### Add SXDS"
   ]
  },
  {
   "cell_type": "code",
   "execution_count": 17,
   "metadata": {
    "collapsed": true
   },
   "outputs": [
    {
     "data": {
      "image/png": "[encoded data removed]",
      "text/plain": [
       "<matplotlib.figure.Figure at 0x7f718c9e54e0>"
      ]
     },
     "metadata": {},
     "output_type": "display_data"
    }
   ],
   "source": [
    "nb_merge_dist_plot(\n",
    "    SkyCoord(master_catalogue['ra'], master_catalogue['dec']),\n",
    "    SkyCoord(sxds['sxds_ra'], sxds['sxds_dec'])\n",
    ")"
   ]
  },
  {
   "cell_type": "markdown",
   "metadata": {},
   "source": [
    "It is strange that this does not peak at zero. This is bservable in the original band cross match. It implies there is a persistent offset. Perhaps each band should be astrometrically corrected before the original merge."
   ]
  },
  {
   "cell_type": "code",
   "execution_count": 18,
   "metadata": {
    "collapsed": true
   },
   "outputs": [],
   "source": [
    "#sxds['flag_merged'].name = 'flag_merged_sxds'"
   ]
  },
  {
   "cell_type": "code",
   "execution_count": 19,
   "metadata": {
    "collapsed": true
   },
   "outputs": [],
   "source": [
    "# Given the graph above, we use 0.8 arc-second radius\n",
    "master_catalogue = merge_catalogues(master_catalogue, sxds, \"sxds_ra\", \"sxds_dec\", radius=0.8*u.arcsec)"
   ]
  },
  {
   "cell_type": "markdown",
   "metadata": {},
   "source": [
    "### Add UKIDSS"
   ]
  },
  {
   "cell_type": "code",
   "execution_count": 20,
   "metadata": {
    "collapsed": true
   },
   "outputs": [
    {
     "data": {
      "image/png": "[encoded data removed]",
      "text/plain": [
       "<matplotlib.figure.Figure at 0x7f718ca1d278>"
      ]
     },
     "metadata": {},
     "output_type": "display_data"
    }
   ],
   "source": [
    "nb_merge_dist_plot(\n",
    "    SkyCoord(master_catalogue['ra'], master_catalogue['dec']),\n",
    "    SkyCoord(ukidss['ukidss_ra'], ukidss['ukidss_dec'])\n",
    ")"
   ]
  },
  {
   "cell_type": "code",
   "execution_count": 21,
   "metadata": {
    "collapsed": true
   },
   "outputs": [],
   "source": [
    "# Given the graph above, we use 0.8 arc-second radius\n",
    "master_catalogue = merge_catalogues(master_catalogue, ukidss, \"ukidss_ra\", \"ukidss_dec\", radius=0.8*u.arcsec)"
   ]
  },
  {
   "cell_type": "markdown",
   "metadata": {},
   "source": [
    "### Add VIPERS"
   ]
  },
  {
   "cell_type": "code",
   "execution_count": 22,
   "metadata": {
    "collapsed": true
   },
   "outputs": [
    {
     "data": {
      "image/png": "[encoded data removed]",
      "text/plain": [
       "<matplotlib.figure.Figure at 0x7f718c96ee48>"
      ]
     },
     "metadata": {},
     "output_type": "display_data"
    }
   ],
   "source": [
    "nb_merge_dist_plot(\n",
    "    SkyCoord(master_catalogue['ra'], master_catalogue['dec']),\n",
    "    SkyCoord(vipers['vipers_ra'], vipers['vipers_dec'])\n",
    ")"
   ]
  },
  {
   "cell_type": "code",
   "execution_count": 23,
   "metadata": {
    "collapsed": true
   },
   "outputs": [],
   "source": [
    "# Given the graph above, we use 0.8 arc-second radius\n",
    "master_catalogue = merge_catalogues(master_catalogue, vipers, \"vipers_ra\", \"vipers_dec\", radius=0.8*u.arcsec)"
   ]
  },
  {
   "cell_type": "markdown",
   "metadata": {},
   "source": [
    "### Add VIRCAM"
   ]
  },
  {
   "cell_type": "code",
   "execution_count": 24,
   "metadata": {
    "collapsed": true
   },
   "outputs": [
    {
     "data": {
      "image/png": "[encoded data removed]",
      "text/plain": [
       "<matplotlib.figure.Figure at 0x7f718c97d320>"
      ]
     },
     "metadata": {},
     "output_type": "display_data"
    }
   ],
   "source": [
    "nb_merge_dist_plot(\n",
    "    SkyCoord(master_catalogue['ra'], master_catalogue['dec']),\n",
    "    SkyCoord(vircam['vircam_ra'], vircam['vircam_dec'])\n",
    ")"
   ]
  },
  {
   "cell_type": "code",
   "execution_count": 25,
   "metadata": {
    "collapsed": true
   },
   "outputs": [],
   "source": [
    "# Given the graph above, we use 0.8 arc-second radius\n",
    "master_catalogue = merge_catalogues(master_catalogue, vircam, \"vircam_ra\", \"vircam_dec\", radius=0.8*u.arcsec)"
   ]
  },
  {
   "cell_type": "markdown",
   "metadata": {},
   "source": [
    "### Add IRAC"
   ]
  },
  {
   "cell_type": "code",
   "execution_count": 26,
   "metadata": {
    "collapsed": true
   },
   "outputs": [
    {
     "data": {
      "image/png": "[encoded data removed]",
      "text/plain": [
       "<matplotlib.figure.Figure at 0x7f709fc3ff98>"
      ]
     },
     "metadata": {},
     "output_type": "display_data"
    }
   ],
   "source": [
    "nb_merge_dist_plot(\n",
    "    SkyCoord(master_catalogue['ra'], master_catalogue['dec']),\n",
    "    SkyCoord(irac['irac_ra'], irac['irac_dec'])\n",
    ")"
   ]
  },
  {
   "cell_type": "code",
   "execution_count": 27,
   "metadata": {
    "collapsed": true
   },
   "outputs": [],
   "source": [
    "# Given the graph above, we use 1 arc-second radius\n",
    "master_catalogue = merge_catalogues(master_catalogue, irac, \"irac_ra\", \"irac_dec\", radius=1.*u.arcsec)"
   ]
  },
  {
   "cell_type": "markdown",
   "metadata": {},
   "source": [
    "### Cleaning\n",
    "\n",
    "When we merge the catalogues, astropy masks the non-existent values (e.g. when a row comes only from a catalogue and has no counterparts in the other, the columns from the latest are masked for that row). We indicate to use NaN for masked values for floats columns, False for flag columns and -1 for ID columns."
   ]
  },
  {
   "cell_type": "code",
   "execution_count": 28,
   "metadata": {
    "collapsed": true
   },
   "outputs": [
    {
     "name": "stdout",
     "output_type": "stream",
     "text": [
      "ps1_id\n",
      "ra\n",
      "dec\n",
      "flag_merged\n",
      "candels_id\n",
      "wirds_intid\n",
      "megacam_intid\n",
      "cfhtls-wide_id\n",
      "cfhtls-deep_id\n",
      "sparcs_intid\n",
      "hsc_intid\n",
      "hsc-wide_id\n",
      "hsc-deep_id\n",
      "hsc-udeep_id\n",
      "decals_id\n",
      "sxds_intid\n",
      "ukidss_intid\n",
      "dxs_id\n",
      "uds_id\n",
      "vipers_id\n",
      "vircam_intid\n",
      "vhs_id\n",
      "video_id\n",
      "viking_id\n",
      "irac_intid\n",
      "servs_intid\n",
      "swire_intid\n"
     ]
    }
   ],
   "source": [
    "for col in master_catalogue.colnames:\n",
    "    print(col)\n",
    "    if (col.startswith(\"m_\") or col.startswith(\"merr_\") or col.startswith(\"f_\") or col.startswith(\"ferr_\")):\n",
    "        master_catalogue[col] = master_catalogue[col].astype(float)\n",
    "        master_catalogue[col].fill_value = np.nan\n",
    "    elif \"flag\" in col:\n",
    "        master_catalogue[col].fill_value = 0\n",
    "    elif \"id\" in col:\n",
    "        master_catalogue[col].fill_value = -1\n",
    "        \n",
    "master_catalogue = master_catalogue.filled()"
   ]
  },
  {
   "cell_type": "code",
   "execution_count": 29,
   "metadata": {
    "collapsed": true
   },
   "outputs": [
    {
     "data": {
      "text/html": [
       "&lt;Table length=10&gt;\n",
       "<table id=\"table140125666716136-255219\" class=\"table-striped table-bordered table-condensed\">\n",
       "<thead><tr><th>idx</th><th>ps1_id</th><th>ra</th><th>dec</th><th>flag_merged</th><th>candels_id</th><th>wirds_intid</th><th>megacam_intid</th><th>cfhtls-wide_id</th><th>cfhtls-deep_id</th><th>sparcs_intid</th><th>hsc_intid</th><th>hsc-wide_id</th><th>hsc-deep_id</th><th>hsc-udeep_id</th><th>decals_id</th><th>sxds_intid</th><th>ukidss_intid</th><th>dxs_id</th><th>uds_id</th><th>vipers_id</th><th>vircam_intid</th><th>vhs_id</th><th>video_id</th><th>viking_id</th><th>irac_intid</th><th>servs_intid</th><th>swire_intid</th></tr></thead>\n",
       "<thead><tr><th></th><th></th><th>deg</th><th>deg</th><th></th><th></th><th></th><th></th><th></th><th></th><th></th><th></th><th></th><th></th><th></th><th></th><th></th><th></th><th></th><th></th><th></th><th></th><th></th><th></th><th></th><th></th><th></th><th></th></tr></thead>\n",
       "<tr><td>0</td><td>104480347938550239</td><td>34.7939347123</td><td>-2.93372783477</td><td>False</td><td>-1</td><td>-1</td><td>-1</td><td>-1</td><td>-1</td><td>-1</td><td>-1</td><td>-1</td><td>-1</td><td>-1</td><td>-1</td><td>-1</td><td>-1</td><td>-1</td><td>-1</td><td>-1</td><td>-1</td><td>-1</td><td>-1</td><td>-1</td><td>-1</td><td>-1</td><td>-1</td></tr>\n",
       "<tr><td>1</td><td>104470347888590909</td><td>34.7889409923</td><td>-2.94131771477</td><td>False</td><td>-1</td><td>-1</td><td>-1</td><td>-1</td><td>-1</td><td>-1</td><td>-1</td><td>-1</td><td>-1</td><td>-1</td><td>-1</td><td>-1</td><td>-1</td><td>-1</td><td>-1</td><td>-1</td><td>-1</td><td>-1</td><td>-1</td><td>-1</td><td>-1</td><td>-1</td><td>-1</td></tr>\n",
       "<tr><td>2</td><td>104380348691566216</td><td>34.8690964323</td><td>-3.01188159477</td><td>False</td><td>-1</td><td>-1</td><td>-1</td><td>-1</td><td>-1</td><td>-1</td><td>-1</td><td>-1</td><td>-1</td><td>-1</td><td>-1</td><td>-1</td><td>-1</td><td>-1</td><td>-1</td><td>-1</td><td>-1</td><td>-1</td><td>-1</td><td>-1</td><td>-1</td><td>-1</td><td>-1</td></tr>\n",
       "<tr><td>3</td><td>103340342264462121</td><td>34.2265307523</td><td>-3.88177687477</td><td>False</td><td>-1</td><td>-1</td><td>-1</td><td>-1</td><td>-1</td><td>-1</td><td>-1</td><td>-1</td><td>-1</td><td>-1</td><td>-1</td><td>-1</td><td>-1</td><td>-1</td><td>-1</td><td>-1</td><td>-1</td><td>-1</td><td>-1</td><td>-1</td><td>-1</td><td>-1</td><td>-1</td></tr>\n",
       "<tr><td>4</td><td>102150346264006309</td><td>34.6264773123</td><td>-4.87011075477</td><td>False</td><td>-1</td><td>-1</td><td>-1</td><td>-1</td><td>-1</td><td>-1</td><td>-1</td><td>-1</td><td>-1</td><td>-1</td><td>-1</td><td>-1</td><td>-1</td><td>-1</td><td>-1</td><td>-1</td><td>-1</td><td>-1</td><td>-1</td><td>-1</td><td>-1</td><td>-1</td><td>-1</td></tr>\n",
       "<tr><td>5</td><td>102910369348595147</td><td>36.9348618523</td><td>-4.23782747477</td><td>False</td><td>-1</td><td>-1</td><td>-1</td><td>-1</td><td>-1</td><td>-1</td><td>-1</td><td>-1</td><td>-1</td><td>-1</td><td>-1</td><td>-1</td><td>-1</td><td>-1</td><td>-1</td><td>-1</td><td>-1</td><td>-1</td><td>-1</td><td>-1</td><td>-1</td><td>-1</td><td>-1</td></tr>\n",
       "<tr><td>6</td><td>104100354643169236</td><td>35.4645593723</td><td>-3.24264912477</td><td>False</td><td>-1</td><td>-1</td><td>-1</td><td>-1</td><td>-1</td><td>-1</td><td>-1</td><td>-1</td><td>-1</td><td>-1</td><td>-1</td><td>-1</td><td>-1</td><td>-1</td><td>-1</td><td>-1</td><td>-1</td><td>-1</td><td>-1</td><td>-1</td><td>-1</td><td>-1</td><td>-1</td></tr>\n",
       "<tr><td>7</td><td>101280363238941270</td><td>36.3242755923</td><td>-5.59929363477</td><td>False</td><td>-1</td><td>-1</td><td>-1</td><td>-1</td><td>-1</td><td>-1</td><td>-1</td><td>-1</td><td>-1</td><td>-1</td><td>-1</td><td>-1</td><td>-1</td><td>-1</td><td>-1</td><td>-1</td><td>-1</td><td>-1</td><td>-1</td><td>-1</td><td>-1</td><td>-1</td><td>-1</td></tr>\n",
       "<tr><td>8</td><td>104420348237537625</td><td>34.8238613523</td><td>-2.97741051477</td><td>False</td><td>-1</td><td>-1</td><td>-1</td><td>-1</td><td>-1</td><td>-1</td><td>-1</td><td>-1</td><td>-1</td><td>-1</td><td>-1</td><td>-1</td><td>-1</td><td>-1</td><td>-1</td><td>-1</td><td>-1</td><td>-1</td><td>-1</td><td>-1</td><td>-1</td><td>-1</td><td>-1</td></tr>\n",
       "<tr><td>9</td><td>102150346263985667</td><td>34.6265266323</td><td>-4.87072229477</td><td>False</td><td>-1</td><td>-1</td><td>-1</td><td>-1</td><td>-1</td><td>-1</td><td>-1</td><td>-1</td><td>-1</td><td>-1</td><td>-1</td><td>-1</td><td>-1</td><td>-1</td><td>-1</td><td>-1</td><td>-1</td><td>-1</td><td>-1</td><td>-1</td><td>-1</td><td>-1</td><td>-1</td></tr>\n",
       "</table><style>table.dataTable {clear: both; width: auto !important; margin: 0 !important;}\n",
       ".dataTables_info, .dataTables_length, .dataTables_filter, .dataTables_paginate{\n",
       "display: inline-block; margin-right: 1em; }\n",
       ".paginate_button { margin-right: 5px; }\n",
       "</style>\n",
       "<script>\n",
       "require.config({paths: {\n",
       "    datatables: 'https://cdn.datatables.net/1.10.12/js/jquery.dataTables.min'\n",
       "}});\n",
       "require([\"datatables\"], function(){\n",
       "    console.log(\"$('#table140125666716136-255219').dataTable()\");\n",
       "    $('#table140125666716136-255219').dataTable({\n",
       "        \"order\": [],\n",
       "        \"iDisplayLength\": 50,\n",
       "        \"aLengthMenu\": [[10, 25, 50, 100, 500, 1000, -1], [10, 25, 50, 100, 500, 1000, 'All']],\n",
       "        \"pagingType\": \"full_numbers\"\n",
       "    });\n",
       "});\n",
       "</script>\n"
      ],
      "text/plain": [
       "<IPython.core.display.HTML object>"
      ]
     },
     "execution_count": 29,
     "metadata": {},
     "output_type": "execute_result"
    }
   ],
   "source": [
    "master_catalogue[:10].show_in_notebook()"
   ]
  },
  {
   "cell_type": "markdown",
   "metadata": {},
   "source": [
    "## III - Merging flags and stellarity\n",
    "\n",
    "This all happens at the end now after the catalogue has been cut into strips."
   ]
  },
  {
   "cell_type": "markdown",
   "metadata": {},
   "source": [
    "## IV - Adding E(B-V) column"
   ]
  },
  {
   "cell_type": "code",
   "execution_count": 30,
   "metadata": {
    "collapsed": true
   },
   "outputs": [],
   "source": [
    "master_catalogue.add_column(\n",
    "    ebv(master_catalogue['ra'], master_catalogue['dec'])\n",
    ")"
   ]
  },
  {
   "cell_type": "markdown",
   "metadata": {},
   "source": [
    "## V - Adding HELP unique identifiers and field columns"
   ]
  },
  {
   "cell_type": "code",
   "execution_count": 31,
   "metadata": {
    "collapsed": true
   },
   "outputs": [],
   "source": [
    "master_catalogue.add_column(Column(gen_help_id(master_catalogue['ra'], master_catalogue['dec']),\n",
    "                                   name=\"help_id\"))\n",
    "master_catalogue.add_column(Column(np.full(len(master_catalogue), \"XMM-LSS\", dtype='<U18'),\n",
    "                                   name=\"field\"))"
   ]
  },
  {
   "cell_type": "code",
   "execution_count": 32,
   "metadata": {
    "collapsed": true
   },
   "outputs": [
    {
     "name": "stdout",
     "output_type": "stream",
     "text": [
      "OK!\n"
     ]
    }
   ],
   "source": [
    "# Check that the HELP Ids are unique\n",
    "if len(master_catalogue) != len(np.unique(master_catalogue['help_id'])):\n",
    "    print(\"The HELP IDs are not unique!!!\")\n",
    "else:\n",
    "    print(\"OK!\")"
   ]
  },
  {
   "cell_type": "markdown",
   "metadata": {},
   "source": [
    "## VI - Cross-matching with spec-z catalogue"
   ]
  },
  {
   "cell_type": "code",
   "execution_count": 33,
   "metadata": {
    "collapsed": true
   },
   "outputs": [],
   "source": [
    "specz =  Table.read(\"../../dmu23/dmu23_XMM-LSS/data/XMM-LSS-specz-v2.8.fits\")"
   ]
  },
  {
   "cell_type": "code",
   "execution_count": 34,
   "metadata": {
    "collapsed": true
   },
   "outputs": [
    {
     "data": {
      "image/png": "[encoded data removed]",
      "text/plain": [
       "<matplotlib.figure.Figure at 0x7f718c91e518>"
      ]
     },
     "metadata": {},
     "output_type": "display_data"
    }
   ],
   "source": [
    "nb_merge_dist_plot(\n",
    "    SkyCoord(master_catalogue['ra'], master_catalogue['dec']),\n",
    "    SkyCoord(specz['ra'] * u.deg, specz['dec'] * u.deg)\n",
    ")"
   ]
  },
  {
   "cell_type": "code",
   "execution_count": 35,
   "metadata": {
    "collapsed": true
   },
   "outputs": [],
   "source": [
    "master_catalogue = specz_merge(master_catalogue, specz, radius=1. * u.arcsec)"
   ]
  },
  {
   "cell_type": "markdown",
   "metadata": {},
   "source": [
    "## VIII.a Wavelength domain coverage\n",
    "\n",
    "We add a binary `flag_optnir_obs` indicating that a source was observed in a given wavelength domain:\n",
    "\n",
    "- 1 for observation in optical;\n",
    "- 2 for observation in near-infrared;\n",
    "- 4 for observation in mid-infrared (IRAC).\n",
    "\n",
    "It's an integer binary flag, so a source observed both in optical and near-infrared by not in mid-infrared would have this flag at 1 + 2 = 3.\n",
    "\n",
    "*Note 1: The observation flag is based on the creation of multi-order coverage maps from the catalogues, this may not be accurate, especially on the edges of the coverage.*\n",
    "\n",
    "*Note 2: Being on the observation coverage does not mean having fluxes in that wavelength domain. For sources observed in one domain but having no flux in it, one must take into consideration the different depths in the catalogue we are using.*"
   ]
  },
  {
   "cell_type": "code",
   "execution_count": 36,
   "metadata": {
    "collapsed": true
   },
   "outputs": [],
   "source": [
    "candels_moc =   MOC(filename=\"../../dmu0/dmu0_CANDELS-3D-HST/data/CANDELS-3D-HST_XMM-LSS_MOC.fits\") # 1.1\n",
    "cfht_wirds_moc =  MOC(filename=\"../../dmu0/dmu0_CFHT-WIRDS/data/XMM-LSS_Ks-priors_MOC.fits\")        # 1.3\n",
    "cfhtls_wide_moc = MOC(filename=\"../../dmu0/dmu0_CFHTLS/data/CFHTLS-WIDE_XMM-LSS_MOC.fits\")          # 1.4a\n",
    "cfhtls_deep_moc = MOC(filename=\"../../dmu0/dmu0_CFHTLS/data/CFHTLS-DEEP_XMM-LSS_MOC.fits\")          # 1.4b\n",
    "cfhtls_moc = cfhtls_wide_moc + cfhtls_deep_moc\n",
    "#cfhtlens_moc = MOC(filename=\"../../dmu0/dmu0_CFHTLenS/data/CFHTLenS_XMM-LSS_MOC.fits\")              # 1.5\n",
    "decals_moc =  MOC(filename=\"../../dmu0/dmu0_DECaLS/data/DECaLS_XMM-LSS_MOC.fits\")                   # 1.6\n",
    "servs_moc = MOC(filename=\"../../dmu0/dmu0_DataFusion-Spitzer/data/DF-SERVS_XMM-LSS_MOC.fits\")       # 1.8\n",
    "swire_moc = MOC(filename=\"../../dmu0/dmu0_DataFusion-Spitzer/data/DF-SWIRE_XMM-LSS_MOC.fits\")       # 1.7\n",
    "hsc_wide_moc = MOC(filename=\"../../dmu0/dmu0_HSC/data/HSC-PDR1_wide_XMM-LSS_MOC.fits\")              # 1.9a\n",
    "hsc_deep_moc = MOC(filename=\"../../dmu0/dmu0_HSC/data/HSC-PDR1_deep_XMM-LSS_MOC.fits\")              # 1.9b\n",
    "hsc_udeep_moc = MOC(filename=\"../../dmu0/dmu0_HSC/data/HSC-PDR1_uDeep_XMM-LSS_MOC.fits\")            # 1.9c\n",
    "hsc_moc = hsc_wide_moc + hsc_deep_moc + hsc_udeep_moc\n",
    "ps1_moc = MOC(filename=\"../../dmu0/dmu0_PanSTARRS1-3SS/data/PanSTARRS1-3SS_XMM-LSS_MOC.fits\")       # 1.10\n",
    "sxds_moc = MOC(filename=\"../../dmu0/dmu0_SXDS/data/dmu0_SXDS_MOC.fits\")                             # 1.11\n",
    "sparcs_moc = MOC(filename=\"../../dmu0/dmu0_SpARCS/data/SpARCS_HELP_XMM-LSS_MOC.fits\")               # 1.12\n",
    "dxs_moc = MOC(filename=\"../../dmu0/dmu0_UKIDSS-DXS_DR10plus/data/UKIDSS-DR10plus_XMM-LSS_MOC.fits\") # 1.13\n",
    "uds_moc =  MOC(filename=\"../../dmu0/dmu0_UKIDSS-UDS/data/UKIDSS-UDS_XMM-LSS_MOC.fits\")              # 1.14\n",
    "vipers_moc =  MOC(filename=\"../../dmu0/dmu0_VIPERS-MLS/data/VIPERS-MLS_20160502_MOC.fits\")          # 1.15\n",
    "vhs_moc =   MOC(filename=\"../../dmu0/dmu0_VISTA-VHS/data/VHS_XMM-LSS_MOC.fits\")                     # 1.16\n",
    "video_moc =  MOC(filename=\"../../dmu0/dmu0_VISTA-VIDEO-private/data/VIDEO-all_2016-04-14_fullcat_errfix_XMM-LSS_MOC.fits\")         # 1.17\n",
    "viking_moc = MOC(filename=\"../../dmu0/dmu0_VISTA-VIKING/data/VIKING_XMM-LSS_MOC.fits\")              # 1.18"
   ]
  },
  {
   "cell_type": "code",
   "execution_count": 37,
   "metadata": {
    "collapsed": true
   },
   "outputs": [],
   "source": [
    "was_observed_optical = inMoc(\n",
    "    master_catalogue['ra'], master_catalogue['dec'],\n",
    "    (candels_moc + \n",
    "     cfht_wirds_moc + \n",
    "     cfhtls_moc + \n",
    "     #cfhtlens_moc + \n",
    "     sparcs_moc + \n",
    "     decals_moc + \n",
    "     hsc_moc + \n",
    "     ps1_moc) )\n",
    "\n",
    "was_observed_nir = inMoc(\n",
    "    master_catalogue['ra'], master_catalogue['dec'],\n",
    "    dxs_moc + uds_moc + vhs_moc + video_moc + viking_moc\n",
    ")\n",
    "\n",
    "was_observed_mir = inMoc(\n",
    "    master_catalogue['ra'], master_catalogue['dec'],\n",
    "    servs_moc + swire_moc\n",
    ")"
   ]
  },
  {
   "cell_type": "code",
   "execution_count": 38,
   "metadata": {
    "collapsed": true
   },
   "outputs": [],
   "source": [
    "master_catalogue.add_column(\n",
    "    Column(\n",
    "        1 * was_observed_optical + 2 * was_observed_nir + 4 * was_observed_mir,\n",
    "        name=\"flag_optnir_obs\")\n",
    ")"
   ]
  },
  {
   "cell_type": "markdown",
   "metadata": {},
   "source": [
    "## VIII.b Wavelength domain detection\n",
    "\n",
    "We add a binary `flag_optnir_det` indicating that a source was detected in a given wavelength domain:\n",
    "\n",
    "- 1 for detection in optical;\n",
    "- 2 for detection in near-infrared;\n",
    "- 4 for detection in mid-infrared (IRAC).\n",
    "\n",
    "It's an integer binary flag, so a source detected both in optical and near-infrared by not in mid-infrared would have this flag at 1 + 2 = 3.\n",
    "\n",
    "*Note 1: We use the total flux columns to know if the source has flux, in some catalogues, we may have aperture flux and no total flux.*\n",
    "\n",
    "To get rid of artefacts (chip edges, star flares, etc.) we consider that a source is detected in one wavelength domain when it has a flux value in **at least two bands**. That means that good sources will be excluded from this flag when they are on the coverage of only one band."
   ]
  },
  {
   "cell_type": "code",
   "execution_count": 39,
   "metadata": {
    "collapsed": true
   },
   "outputs": [],
   "source": [
    "# SpARCS is a catalogue of sources detected in r (with fluxes measured at \n",
    "# this prior position in the other bands).  Thus, we are only using the r\n",
    "# CFHT band.\n",
    "# Check to use catalogue flags from HSC and PanSTARRS.\n",
    "#nb_optical_flux = np.zeros(len(master_catalogue), dtype=float)\n",
    "\n",
    "#nb_nir_flux = np.zeros(len(master_catalogue), dtype=float)\n",
    "\n",
    "#nb_mir_flux = np.zeros(len(master_catalogue), dtype=float)"
   ]
  },
  {
   "cell_type": "code",
   "execution_count": 40,
   "metadata": {
    "collapsed": true
   },
   "outputs": [],
   "source": [
    "#has_optical_flux = nb_optical_flux >= 2\n",
    "#has_nir_flux = nb_nir_flux >= 2\n",
    "#has_mir_flux = nb_mir_flux >= 2\n",
    "\n",
    "#master_catalogue.add_column(\n",
    "#    Column(\n",
    "#        1 * has_optical_flux + 2 * has_nir_flux + 4 * has_mir_flux,\n",
    "#        name=\"flag_optnir_det\")\n",
    "#)"
   ]
  },
  {
   "cell_type": "markdown",
   "metadata": {},
   "source": [
    "## IX - Cross-identification table\n",
    "\n",
    "We are producing a table associating to each HELP identifier, the identifiers of the sources in the pristine catalogues. This can be used to easily get additional information from them.\n",
    "\n",
    "For convenience, we also cross-match the master list with the SDSS catalogue and add the objID associated with each source, if any. **TODO: should we correct the astrometry with respect to Gaia positions?**"
   ]
  },
  {
   "cell_type": "code",
   "execution_count": 41,
   "metadata": {
    "collapsed": true
   },
   "outputs": [
    {
     "name": "stdout",
     "output_type": "stream",
     "text": [
      "320 master list rows had multiple associations.\n"
     ]
    }
   ],
   "source": [
    "#\n",
    "# Addind SDSS ids\n",
    "#\n",
    "sdss = Table.read(\"../../dmu0/dmu0_SDSS-DR13/data/SDSS-DR13_XMM-LSS.fits\")['objID', 'ra', 'dec']\n",
    "sdss_coords = SkyCoord(sdss['ra'] * u.deg, sdss['dec'] * u.deg)\n",
    "idx_ml, d2d, _ = sdss_coords.match_to_catalog_sky(SkyCoord(master_catalogue['ra'], master_catalogue['dec']))\n",
    "idx_sdss = np.arange(len(sdss))\n",
    "\n",
    "# Limit the cross-match to 1 arcsec\n",
    "mask = d2d <= 1. * u.arcsec\n",
    "idx_ml = idx_ml[mask]\n",
    "idx_sdss = idx_sdss[mask]\n",
    "d2d = d2d[mask]\n",
    "nb_orig_matches = len(idx_ml)\n",
    "\n",
    "# In case of multiple associations of one master list object to an SDSS object, we keep only the\n",
    "# association to the nearest one.\n",
    "sort_idx = np.argsort(d2d)\n",
    "idx_ml = idx_ml[sort_idx]\n",
    "idx_sdss = idx_sdss[sort_idx]\n",
    "_, unique_idx = np.unique(idx_ml, return_index=True)\n",
    "idx_ml = idx_ml[unique_idx]\n",
    "idx_sdss = idx_sdss[unique_idx]\n",
    "print(\"{} master list rows had multiple associations.\".format(nb_orig_matches - len(idx_ml)))\n",
    "\n",
    "# Adding the ObjID to the master list\n",
    "master_catalogue.add_column(Column(data=np.full(len(master_catalogue), -1, dtype='>i8'), name=\"sdss_id\"))\n",
    "master_catalogue['sdss_id'][idx_ml] = sdss['objID'][idx_sdss]"
   ]
  },
  {
   "cell_type": "code",
   "execution_count": 42,
   "metadata": {
    "collapsed": true
   },
   "outputs": [
    {
     "name": "stdout",
     "output_type": "stream",
     "text": [
      "['ps1_id', 'candels_id', 'wirds_intid', 'megacam_intid', 'cfhtls-wide_id', 'cfhtls-deep_id', 'sparcs_intid', 'hsc_intid', 'hsc-wide_id', 'hsc-deep_id', 'hsc-udeep_id', 'decals_id', 'sxds_intid', 'ukidss_intid', 'dxs_id', 'uds_id', 'vipers_id', 'vircam_intid', 'vhs_id', 'video_id', 'viking_id', 'irac_intid', 'servs_intid', 'swire_intid', 'help_id', 'specz_id', 'sdss_id']\n"
     ]
    }
   ],
   "source": [
    "id_names = []\n",
    "for col in master_catalogue.colnames:\n",
    "    if '_id' in col:\n",
    "        id_names += [col]\n",
    "    if '_intid' in col:\n",
    "        id_names += [col]\n",
    "        \n",
    "print(id_names)\n"
   ]
  },
  {
   "cell_type": "code",
   "execution_count": 43,
   "metadata": {
    "collapsed": true
   },
   "outputs": [],
   "source": [
    "master_catalogue[id_names].write(\n",
    "    \"{}/master_list_cross_ident_xmm-lss{}.fits\".format(OUT_DIR, SUFFIX), overwrite=True)\n",
    "id_names.remove('help_id')\n",
    "#master_catalogue.remove_columns(id_names)"
   ]
  },
  {
   "cell_type": "markdown",
   "metadata": {},
   "source": [
    "## X - Adding HEALPix index\n",
    "\n",
    "We are adding a column with a HEALPix index at order 13 associated with each source."
   ]
  },
  {
   "cell_type": "code",
   "execution_count": 44,
   "metadata": {
    "collapsed": true
   },
   "outputs": [],
   "source": [
    "master_catalogue.add_column(Column(\n",
    "    data=coords_to_hpidx(master_catalogue['ra'], master_catalogue['dec'], order=13),\n",
    "    name=\"hp_idx\"\n",
    "))"
   ]
  },
  {
   "cell_type": "markdown",
   "metadata": {},
   "source": [
    "## XI - Saving the catalogue"
   ]
  },
  {
   "cell_type": "code",
   "execution_count": 45,
   "metadata": {
    "collapsed": true
   },
   "outputs": [],
   "source": [
    "columns = [\"help_id\", \"field\", \"ra\", \"dec\", \"hp_idx\"]\n",
    "\n",
    "bands = [column[5:] for column in master_catalogue.colnames if 'f_ap' in column]\n",
    "for band in bands:\n",
    "    columns += [\"f_ap_{}\".format(band), \"ferr_ap_{}\".format(band),\n",
    "                \"m_ap_{}\".format(band), \"merr_ap_{}\".format(band),\n",
    "                \"f_{}\".format(band), \"ferr_{}\".format(band),\n",
    "                \"m_{}\".format(band), \"merr_{}\".format(band),\n",
    "                \"flag_{}\".format(band)]    \n",
    "    \n",
    "columns += [\"stellarity\", \"stellarity_origin\", \"flag_cleaned\", \"flag_merged\", \"flag_gaia\", \"flag_optnir_obs\", \"flag_optnir_det\", \n",
    "            \"zspec\", \"zspec_qual\", \"zspec_association_flag\", \"ebv\"]"
   ]
  },
  {
   "cell_type": "code",
   "execution_count": 46,
   "metadata": {
    "collapsed": true
   },
   "outputs": [
    {
     "name": "stdout",
     "output_type": "stream",
     "text": [
      "Missing columns: {'candels_id', 'hsc_intid', 'hsc-deep_id', 'hsc-udeep_id', 'vipers_id', 'swire_intid', 'video_id', 'dxs_id', 'cfhtls-wide_id', 'sxds_intid', 'vircam_intid', 'irac_intid', 'cfhtls-deep_id', 'vhs_id', 'viking_id', 'megacam_intid', 'ps1_id', 'uds_id', 'sparcs_intid', 'decals_id', 'servs_intid', 'wirds_intid', 'specz_id', 'ukidss_intid', 'sdss_id', 'hsc-wide_id'}\n"
     ]
    }
   ],
   "source": [
    "# We check for columns in the master catalogue that we will not save to disk.\n",
    "print(\"Missing columns: {}\".format(set(master_catalogue.colnames) - set(columns)))"
   ]
  },
  {
   "cell_type": "code",
   "execution_count": 47,
   "metadata": {
    "collapsed": true
   },
   "outputs": [],
   "source": [
    "#master_catalogue[columns].write(\"{}/master_catalogue_xmm-lss_low-memory{}.fits\".format(OUT_DIR, SUFFIX), overwrite=True)"
   ]
  },
  {
   "cell_type": "markdown",
   "metadata": {},
   "source": [
    "## XII - folding in the photometry\n",
    "On XMM-LSS there is too much data to load all in to memory at once so we perform the cross matching without photometry columns. Only now do we fold in the photometry data by first cutting the catalogue up in to manageable sizes."
   ]
  },
  {
   "cell_type": "code",
   "execution_count": 48,
   "metadata": {
    "collapsed": true
   },
   "outputs": [
    {
     "name": "stdout",
     "output_type": "stream",
     "text": [
      "88\n"
     ]
    }
   ],
   "source": [
    "split_length = 100000 #number of sources to include in every sub catalogue\n",
    "num_files = int(np.ceil(len(master_catalogue)/split_length))\n",
    "print(num_files)\n"
   ]
  },
  {
   "cell_type": "code",
   "execution_count": 49,
   "metadata": {
    "collapsed": true
   },
   "outputs": [],
   "source": [
    "#Sort catalogue by HELP id so that it is split up in RA strips\n",
    "master_catalogue.sort('help_id')\n",
    "#Remove all the old ids as they interfere with join\n",
    "master_catalogue.remove_columns([\n",
    " 'cfhtls-wide_id',\n",
    " 'cfhtls-deep_id',\n",
    " 'sparcs_intid',\n",
    "    \n",
    " 'hsc-wide_id',\n",
    " 'hsc-deep_id',\n",
    " 'hsc-udeep_id',\n",
    "\n",
    " 'dxs_id',\n",
    " 'uds_id',\n",
    " \n",
    " 'vhs_id',\n",
    " 'video_id',\n",
    " 'viking_id',\n",
    "\n",
    " 'servs_intid',\n",
    " 'swire_intid']\n",
    ")"
   ]
  },
  {
   "cell_type": "code",
   "execution_count": 50,
   "metadata": {
    "collapsed": true
   },
   "outputs": [],
   "source": [
    "surveys = [\n",
    "    ['candels',      \"CANDELS.fits\",        Table.read(\"{}/CANDELS.fits\".format(TMP_DIR)),       'candels_id'],\n",
    "    \n",
    "    ['cfht_wirds',   \"CFHT-WIRDS.fits\",     Table.read(\"{}/CFHT-WIRDS.fits\".format(TMP_DIR)),    'wirds_intid' ],\n",
    "    \n",
    "    #['cfhtls_wide',  \"CFHTLS-WIDE.fits\",    Table.read(\"{}/CFHTLS-WIDE.fits\".format(TMP_DIR)),   'cfhtls-wide_id'],\n",
    "    #['cfhtls_deep',  \"CFHTLS-DEEP.fits\",    Table.read(\"{}/CFHTLS-DEEP.fits\".format(TMP_DIR)),   'cfhtls-deep_id'],\n",
    "    #['sparcs',       \"SpARCS.fits\",         Table.read(\"{}/SpARCS.fits\".format(TMP_DIR)),        'sparcs_intid'],  \n",
    "    ['megacam',       \n",
    "     \"megacam_merged_catalogue_xmm-lss.fits\",        \n",
    "     Table.read(\"{}/megacam_merged_catalogue_xmm-lss.fits\".format(TMP_DIR)),        \n",
    "     'megacam_intid'], \n",
    "    \n",
    "    ['decals',       \"DECaLS.fits\",         Table.read(\"{}/DECaLS.fits\".format(TMP_DIR)),        'decals_id'],\n",
    "    \n",
    "    #['servs',        \"SERVS.fits\",          Table.read(\"{}/SERVS.fits\".format(TMP_DIR)),         'servs_intid'],\n",
    "    #['swire',        \"SWIRE.fits\",          Table.read(\"{}/SWIRE.fits\".format(TMP_DIR)),         'swire_intid'],  \n",
    "    ['irac',       \n",
    "     \"irac_merged_catalogue_xmm-lss.fits\",        \n",
    "     Table.read(\"{}/irac_merged_catalogue_xmm-lss.fits\".format(TMP_DIR)),        \n",
    "     'irac_intid'], \n",
    "    \n",
    "    #['hsc_wide ',    \"HSC-WIDE.fits\",       Table.read(\"{}/HSC-WIDE.fits\".format(TMP_DIR)),      'hsc-wide_id' ],\n",
    "    #['hsc_deep',     \"HSC-DEEP.fits\",       Table.read(\"{}/HSC-DEEP.fits\".format(TMP_DIR)),      'hsc-deep_id'],\n",
    "    #['hsc_udeep',    \"HSC-UDEEP.fits\",      Table.read(\"{}/HSC-UDEEP.fits\".format(TMP_DIR)),     'hsc-udeep_id'],  \n",
    "    ['hsc',       \n",
    "     \"hsc_merged_catalogue_xmm-lss.fits\",        \n",
    "     Table.read(\"{}/hsc_merged_catalogue_xmm-lss.fits\".format(TMP_DIR)),        \n",
    "     'hsc_intid'], \n",
    "    \n",
    "    ['ps1',          \"PS1.fits\",            Table.read(\"{}/PS1.fits\".format(TMP_DIR)),           'ps1_id'],    \n",
    "    \n",
    "    ['sxds',         \"SXDS.fits\",           Table.read(\"{}/SXDS.fits\".format(TMP_DIR)),          'sxds_intid'],               \n",
    "    \n",
    "    #['dxs',          \"UKIDSS-DXS.fits\",     Table.read(\"{}/UKIDSS-DXS.fits\".format(TMP_DIR)),    'dxs_id'],          \n",
    "    #['uds',          \"UKIDSS-UDS.fits\",     Table.read(\"{}/UKIDSS-UDS.fits\".format(TMP_DIR)),    'uds_id'],    \n",
    "    ['ukidss',       \n",
    "     \"ukidss_merged_catalogue_xmm-lss.fits\",        \n",
    "     Table.read(\"{}/ukidss_merged_catalogue_xmm-lss.fits\".format(TMP_DIR)),        \n",
    "     'ukidss_intid'], \n",
    "    \n",
    "    ['vipers',       \"VIPERS.fits\",         Table.read(\"{}/VIPERS.fits\".format(TMP_DIR)),        'vipers_id'],   \n",
    "    \n",
    "    #['vhs',          \"VISTA-VHS.fits\",      Table.read(\"{}/VISTA-VHS.fits\".format(TMP_DIR)),     'vhs_id'],           \n",
    "    #['video',        \"VISTA-VIDEO.fits\",    Table.read(\"{}/VISTA-VIDEO.fits\".format(TMP_DIR)),   'video_id'],       \n",
    "    #['viking',       \"VISTA-VIKING.fits\",   Table.read(\"{}/VISTA-VIKING.fits\".format(TMP_DIR)), 'viking_id']  \n",
    "    ['vircam',       \n",
    "     \"vircam_merged_catalogue_xmm-lss.fits\",        \n",
    "     Table.read(\"{}/vircam_merged_catalogue_xmm-lss.fits\".format(TMP_DIR)),        \n",
    "     'vircam_intid']\n",
    "]"
   ]
  },
  {
   "cell_type": "code",
   "execution_count": 51,
   "metadata": {
    "collapsed": true
   },
   "outputs": [],
   "source": [
    "n=0\n",
    "for sub_file in range(num_files):\n",
    "    \n",
    "    sub_catalogue = master_catalogue[n*split_length:(n+1)*split_length]\n",
    "    #print(n)\n",
    "    for survey in surveys:\n",
    "        #print(survey[0])\n",
    "        sub_catalogue = join(sub_catalogue, \n",
    "                               survey[2], #Table.read(\"{}/{}\".format(TMP_DIR, survey[1])),\n",
    "                               join_type='left',\n",
    "                               metadata_conflicts='silent',\n",
    "                               keys=survey[3]\n",
    "                            )\n",
    "        \n",
    "        \n",
    "        \n",
    "    #Each pristine catalogue contains a flag indicating if the source was associated to a another nearby source that was removed during the cleaning process. We merge these flags in a single one.\n",
    "\n",
    "\n",
    "    flag_cleaned_columns = [column for column in sub_catalogue.colnames\n",
    "                            if 'flag_cleaned' in column]\n",
    "\n",
    "    flag_column = np.zeros(len(sub_catalogue), dtype=bool)\n",
    "    for column in flag_cleaned_columns:\n",
    "        flag_column |= sub_catalogue[column]\n",
    "    \n",
    "    sub_catalogue.add_column(Column(data=flag_column, name=\"flag_cleaned\"))\n",
    "    sub_catalogue.remove_columns(flag_cleaned_columns)\n",
    "    #combining the flag_merged column which contains information regarding multiple associations\n",
    "    \n",
    "    \n",
    "    sub_catalogue['flag_merged'].name = 'flag_merged_tmp'\n",
    "    flag_merged_columns = [column for column in sub_catalogue.colnames\n",
    "                            if 'flag_merged' in column]\n",
    "    \n",
    "    flag_merged_column = np.zeros(len(sub_catalogue), dtype=bool)\n",
    "    for column in flag_merged_columns:\n",
    "        flag_merged_column |= sub_catalogue[column]\n",
    "    \n",
    "    sub_catalogue.add_column(Column(data=flag_merged_column, name=\"flag_merged\"))\n",
    "    sub_catalogue.remove_columns(flag_merged_columns)\n",
    "    sub_catalogue['flag_merged'].name = 'flag_merged_tmp'\n",
    "    flag_merged_columns = [column for column in sub_catalogue.colnames\n",
    "                            if 'flag_merged' in column]\n",
    "    \n",
    "    flag_merged_column = np.zeros(len(sub_catalogue), dtype=bool)\n",
    "    for column in flag_merged_columns:\n",
    "        flag_merged_column |= sub_catalogue[column]\n",
    "    \n",
    "    sub_catalogue.add_column(Column(data=flag_merged_column, name=\"flag_merged\"))\n",
    "    sub_catalogue.remove_columns(flag_merged_columns)\n",
    "    #Each pristine catalogue contains a flag indicating the probability of a source being a Gaia object (0: not a Gaia object, 1: possibly, 2: probably, 3: definitely). We merge these flags taking the highest value.\n",
    "\n",
    "\n",
    "    flag_gaia_columns = [column for column in sub_catalogue.colnames\n",
    "                         if 'flag_gaia' in column]\n",
    "\n",
    "    sub_catalogue.add_column(Column(\n",
    "        data=np.max([sub_catalogue[column] for column in flag_gaia_columns], axis=0),\n",
    "        name=\"flag_gaia\"\n",
    "    ))\n",
    "    sub_catalogue.remove_columns(flag_gaia_columns)\n",
    "    #Each prisitine catalogue may contain one or several stellarity columns indicating the #probability (0 to 1) of each source being a star. We merge these columns taking the highest value. We keep trace of the origin of the stellarity.\n",
    "\n",
    "\n",
    "\n",
    "    stellarity_columns = [column for column in sub_catalogue.colnames\n",
    "                          if 'stellarity' in column]\n",
    "\n",
    "    #print(\", \".join(stellarity_columns))\n",
    "\n",
    "\n",
    "\n",
    "    # We create an masked array with all the stellarities and get the maximum value, as well as its\n",
    "    # origin.  Some sources may not have an associated stellarity.\n",
    "    stellarity_array = np.array([sub_catalogue[column] for column in stellarity_columns])\n",
    "    stellarity_array = np.ma.masked_array(stellarity_array, np.isnan(stellarity_array))\n",
    "\n",
    "    max_stellarity = np.max(stellarity_array, axis=0)\n",
    "    max_stellarity.fill_value = np.nan\n",
    "\n",
    "    no_stellarity_mask = max_stellarity.mask\n",
    "\n",
    "    sub_catalogue.add_column(Column(data=max_stellarity.filled(), name=\"stellarity\"))\n",
    "\n",
    "    stellarity_origin = np.full(len(sub_catalogue), \"NO_INFORMATION\", dtype=\"S20\")\n",
    "    stellarity_origin[~no_stellarity_mask] = np.array(stellarity_columns)[np.argmax(stellarity_array, axis=0)[~no_stellarity_mask]]\n",
    "\n",
    "    sub_catalogue.add_column(Column(data=stellarity_origin, name=\"stellarity_origin\"))\n",
    "\n",
    "    sub_catalogue.remove_columns(stellarity_columns)\n",
    "\n",
    "\n",
    "        \n",
    "        \n",
    "    nb_optical_flux = (\n",
    "        # CANDELS\n",
    "        1 * ~np.isnan(sub_catalogue['f_candels_f140w']) + \n",
    "        1 * ~np.isnan(sub_catalogue['f_candels_f160w']) +\n",
    "        1 * ~np.isnan(sub_catalogue['f_candels_f606w']) +\n",
    "        1 * ~np.isnan(sub_catalogue['f_candels_f814w']) +\n",
    "        1 * ~np.isnan(sub_catalogue['f_candels_f125w']) +\n",
    "        # DECaLS\n",
    "        1 * ~np.isnan(sub_catalogue['f_decam_g']) + \n",
    "        1 * ~np.isnan(sub_catalogue['f_decam_r']) +\n",
    "        #1 * ~np.isnan(master_catalogue['f_decam_i']) +\n",
    "        1 * ~np.isnan(sub_catalogue['f_decam_z']) +\n",
    "        # 1 * ~np.isnan(master_catalogue['f_decam_y']) +\n",
    "        # HSC\n",
    "        1 * ~np.isnan(sub_catalogue['f_suprime_g']) + \n",
    "        1 * ~np.isnan(sub_catalogue['f_suprime_r']) +\n",
    "        1 * ~np.isnan(sub_catalogue['f_suprime_i']) +\n",
    "        1 * ~np.isnan(sub_catalogue['f_suprime_z']) +\n",
    "        1 * ~np.isnan(sub_catalogue['f_suprime_y']) +\n",
    "        1 * ~np.isnan(sub_catalogue['f_suprime_n921']) +\n",
    "        1 * ~np.isnan(sub_catalogue['f_suprime_n816']) +\n",
    "        # PanSTARRS\n",
    "        1 * ~np.isnan(sub_catalogue['f_gpc1_g']) +\n",
    "        1 * ~np.isnan(sub_catalogue['f_gpc1_r']) +\n",
    "        1 * ~np.isnan(sub_catalogue['f_gpc1_i']) +\n",
    "        1 * ~np.isnan(sub_catalogue['f_gpc1_z']) +\n",
    "        1 * ~np.isnan(sub_catalogue['f_gpc1_y']) +\n",
    "        # CFHT\n",
    "        1 * ~np.isnan(sub_catalogue['f_megacam_u']) +\n",
    "        1 * ~np.isnan(sub_catalogue['f_megacam_g']) +\n",
    "        1 * ~np.isnan(sub_catalogue['f_megacam_r']) +\n",
    "        1 * ~np.isnan(sub_catalogue['f_megacam_z']) +\n",
    "        1 * ~np.isnan(sub_catalogue['f_megacam_y']) \n",
    "    )\n",
    "\n",
    "    nb_nir_flux = (\n",
    "        # UKIDSS\n",
    "        1 * ~np.isnan(sub_catalogue['f_ukidss_j']) +\n",
    "        1 * ~np.isnan(sub_catalogue['f_ukidss_h']) +\n",
    "        1 * ~np.isnan(sub_catalogue['f_ukidss_k']) +\n",
    "        # VISTA\n",
    "        1 * ~np.isnan(sub_catalogue['f_vircam_z']) +\n",
    "        1 * ~np.isnan(sub_catalogue['f_vircam_y']) +\n",
    "        1 * ~np.isnan(sub_catalogue['f_vircam_j']) +\n",
    "        1 * ~np.isnan(sub_catalogue['f_vircam_h']) +\n",
    "        1 * ~np.isnan(sub_catalogue['f_vircam_k'])\n",
    "    )\n",
    "\n",
    "    nb_mir_flux = (\n",
    "        1 * ~np.isnan(sub_catalogue['f_irac_i1']) +\n",
    "        1 * ~np.isnan(sub_catalogue['f_irac_i2']) +\n",
    "        1 * ~np.isnan(sub_catalogue['f_irac_i3']) +\n",
    "        1 * ~np.isnan(sub_catalogue['f_irac_i4']) \n",
    "    )\n",
    "        \n",
    "    has_optical_flux = nb_optical_flux >= 2\n",
    "    has_nir_flux = nb_nir_flux >= 2\n",
    "    has_mir_flux = nb_mir_flux >= 2\n",
    "\n",
    "    sub_catalogue.add_column(\n",
    "        Column(\n",
    "            1 * has_optical_flux + 2 * has_nir_flux + 4 * has_mir_flux,\n",
    "            name=\"flag_optnir_det\")\n",
    "    )\n",
    "        \n",
    "    #print('Finished join')\n",
    "    #sub_catalogue.remove_columns(id_names)\n",
    "    sub_catalogue.write(\"{}/tiles/sub_catalogue_xmm-lss_{}_{}.fits\".format(OUT_DIR, SUFFIX, n), overwrite=True)\n",
    "    n += 1"
   ]
  }
 ],
 "metadata": {
  "kernelspec": {
   "display_name": "Python (herschelhelp_internal)",
   "language": "python",
   "name": "helpint"
  },
  "language_info": {
   "codemirror_mode": {
    "name": "ipython",
    "version": 3
   },
   "file_extension": ".py",
   "mimetype": "text/x-python",
   "name": "python",
   "nbconvert_exporter": "python",
   "pygments_lexer": "ipython3",
   "version": "3.6.1"
  }
 },
 "nbformat": 4,
 "nbformat_minor": 2
}
