{
 "cells": [
  {
   "cell_type": "markdown",
   "metadata": {},
   "source": [
    "# XMM-LSS master catalogue\n",
    "\n",
    "This notebook presents the merge of the pristine catalogues from CFHT Megacam. This has to be conducted separately on XMM-LSS due to the large amount of memory required on this field.\n",
    "\n",
    "This notebook also ingests all the CANDELS-UDS data apert from the photometry that needs to be merged in other 2.x notebooks\n",
    "\n"
   ]
  },
  {
   "cell_type": "code",
   "execution_count": 1,
   "metadata": {},
   "outputs": [
    {
     "name": "stdout",
     "output_type": "stream",
     "text": [
      "This notebook was run with herschelhelp_internal version: \n",
      "0246c5d (Thu Jan 25 17:01:47 2018 +0000)\n"
     ]
    }
   ],
   "source": [
    "from herschelhelp_internal import git_version\n",
    "print(\"This notebook was run with herschelhelp_internal version: \\n{}\".format(git_version()))"
   ]
  },
  {
   "cell_type": "code",
   "execution_count": 2,
   "metadata": {},
   "outputs": [
    {
     "name": "stderr",
     "output_type": "stream",
     "text": [
      "/Users/rs548/anaconda/envs/herschelhelp_internal/lib/python3.6/site-packages/seaborn/apionly.py:6: UserWarning: As seaborn no longer sets a default style on import, the seaborn.apionly module is deprecated. It will be removed in a future version.\n",
      "  warnings.warn(msg, UserWarning)\n"
     ]
    }
   ],
   "source": [
    "%matplotlib inline\n",
    "#%config InlineBackend.figure_format = 'svg'\n",
    "\n",
    "import matplotlib.pyplot as plt\n",
    "plt.rc('figure', figsize=(10, 6))\n",
    "\n",
    "import os\n",
    "import time\n",
    "\n",
    "from astropy import units as u\n",
    "from astropy.coordinates import SkyCoord\n",
    "from astropy.table import Column, Table\n",
    "import numpy as np\n",
    "from pymoc import MOC\n",
    "\n",
    "from herschelhelp_internal.masterlist import merge_catalogues, nb_merge_dist_plot, specz_merge\n",
    "from herschelhelp_internal.utils import coords_to_hpidx, ebv, gen_help_id, inMoc"
   ]
  },
  {
   "cell_type": "code",
   "execution_count": 3,
   "metadata": {
    "collapsed": true
   },
   "outputs": [],
   "source": [
    "TMP_DIR = os.environ.get('TMP_DIR', \"./data_tmp\")\n",
    "OUT_DIR = os.environ.get('OUT_DIR', \"./data\")\n",
    "SUFFIX = os.environ.get('SUFFIX', time.strftime(\"_%Y%m%d\"))\n",
    "\n",
    "try:\n",
    "    os.makedirs(OUT_DIR)\n",
    "except FileExistsError:\n",
    "    pass"
   ]
  },
  {
   "cell_type": "markdown",
   "metadata": {},
   "source": [
    "## I - Reading the prepared pristine catalogues"
   ]
  },
  {
   "cell_type": "code",
   "execution_count": 4,
   "metadata": {
    "collapsed": true
   },
   "outputs": [],
   "source": [
    "#candels = Table.read(\"{}/CANDELS.fits\".format(TMP_DIR))           # 1.1\n",
    "candels = Table.read(\"{}/CANDELS-UDS.fits\".format(TMP_DIR))           # 1.2\n",
    "cfht_wirds = Table.read(\"{}/CFHT-WIRDS.fits\".format(TMP_DIR))     # 1.3\n",
    "cfhtls_wide = Table.read(\"{}/CFHTLS-WIDE.fits\".format(TMP_DIR))   # 1.4a\n",
    "cfhtls_deep = Table.read(\"{}/CFHTLS-DEEP.fits\".format(TMP_DIR))   # 1.4b\n",
    "#We no longer use CFHTLenS as it is the same raw data set as CFHTLS-WIDE\n",
    "# cfhtlens = Table.read(\"{}/CFHTLENS.fits\".format(TMP_DIR))         # 1.5\n",
    "#decals = Table.read(\"{}/DECaLS.fits\".format(TMP_DIR))             # 1.6\n",
    "#servs = Table.read(\"{}/SERVS.fits\".format(TMP_DIR))               # 1.8\n",
    "#swire = Table.read(\"{}/SWIRE.fits\".format(TMP_DIR))               # 1.7\n",
    "#hsc_wide = Table.read(\"{}/HSC-WIDE.fits\".format(TMP_DIR))         # 1.9a\n",
    "#hsc_deep = Table.read(\"{}/HSC-DEEP.fits\".format(TMP_DIR))         # 1.9b\n",
    "#hsc_udeep = Table.read(\"{}/HSC-UDEEP.fits\".format(TMP_DIR))       # 1.9c\n",
    "#ps1 = Table.read(\"{}/PS1.fits\".format(TMP_DIR))                   # 1.10\n",
    "#sxds = Table.read(\"{}/SXDS.fits\".format(TMP_DIR))                 # 1.11\n",
    "sparcs = Table.read(\"{}/SpARCS.fits\".format(TMP_DIR))             # 1.12\n",
    "#dxs = Table.read(\"{}/UKIDSS-DXS.fits\".format(TMP_DIR))            # 1.13\n",
    "#uds = Table.read(\"{}/UKIDSS-UDS.fits\".format(TMP_DIR))            # 1.14\n",
    "vipers = Table.read(\"{}/VIPERS.fits\".format(TMP_DIR))             # 1.15\n",
    "#vhs = Table.read(\"{}/VISTA-VHS.fits\".format(TMP_DIR))             # 1.16\n",
    "#video = Table.read(\"{}/VISTA-VIDEO.fits\".format(TMP_DIR))         # 1.17\n",
    "#viking = Table.read(\"{}/VISTA-VIKING.fits\".format(TMP_DIR))       # 1.18"
   ]
  },
  {
   "cell_type": "markdown",
   "metadata": {},
   "source": [
    "## II - Merging tables\n",
    "\n",
    "We first merge the optical catalogues and then add the infrared ones. We start with PanSTARRS because it coevrs the whole field.\n",
    "\n",
    "At every step, we look at the distribution of the distances to the nearest source in the merged catalogue to determine the best crossmatching radius."
   ]
  },
  {
   "cell_type": "markdown",
   "metadata": {},
   "source": [
    "### Start with CANDELS"
   ]
  },
  {
   "cell_type": "code",
   "execution_count": 5,
   "metadata": {},
   "outputs": [
    {
     "name": "stdout",
     "output_type": "stream",
     "text": [
      "f_candels-ukidss_j  removed.\n",
      "ferr_candels-ukidss_j  removed.\n",
      "f_candels-ukidss_h  removed.\n",
      "ferr_candels-ukidss_h  removed.\n",
      "f_candels-ukidss_k  removed.\n",
      "ferr_candels-ukidss_k  removed.\n",
      "f_candels-irac_i1  removed.\n",
      "ferr_candels-irac_i1  removed.\n",
      "f_candels-irac_i2  removed.\n",
      "ferr_candels-irac_i2  removed.\n",
      "f_candels-irac_i3  removed.\n",
      "ferr_candels-irac_i3  removed.\n",
      "f_candels-irac_i4  removed.\n",
      "ferr_candels-irac_i4  removed.\n",
      "m_candels-ukidss_j  removed.\n",
      "merr_candels-ukidss_j  removed.\n",
      "flag_candels-ukidss_j  removed.\n",
      "m_candels-ukidss_h  removed.\n",
      "merr_candels-ukidss_h  removed.\n",
      "flag_candels-ukidss_h  removed.\n",
      "m_candels-ukidss_k  removed.\n",
      "merr_candels-ukidss_k  removed.\n",
      "flag_candels-ukidss_k  removed.\n",
      "m_candels-irac_i1  removed.\n",
      "merr_candels-irac_i1  removed.\n",
      "flag_candels-irac_i1  removed.\n",
      "m_candels-irac_i2  removed.\n",
      "merr_candels-irac_i2  removed.\n",
      "flag_candels-irac_i2  removed.\n",
      "m_candels-irac_i3  removed.\n",
      "merr_candels-irac_i3  removed.\n",
      "flag_candels-irac_i3  removed.\n",
      "m_candels-irac_i4  removed.\n",
      "merr_candels-irac_i4  removed.\n",
      "flag_candels-irac_i4  removed.\n"
     ]
    }
   ],
   "source": [
    "master_catalogue = candels\n",
    "master_catalogue['candels_ra'].name = 'ra'\n",
    "master_catalogue['candels_dec'].name = 'dec'\n",
    "del candels\n",
    "unused_bands = [ 'candels-ukidss', 'candels-irac']\n",
    "for col in master_catalogue.colnames:\n",
    "    \n",
    "    for band in unused_bands:\n",
    "        if band in col:\n",
    "            master_catalogue.remove_column(col)\n",
    "            print(col, ' removed.')"
   ]
  },
  {
   "cell_type": "markdown",
   "metadata": {},
   "source": [
    "###  Add CFHT-WIRDS"
   ]
  },
  {
   "cell_type": "code",
   "execution_count": null,
   "metadata": {
    "collapsed": true
   },
   "outputs": [],
   "source": [
    "nb_merge_dist_plot(\n",
    "    SkyCoord(master_catalogue['ra'], master_catalogue['dec']),\n",
    "    SkyCoord(cfht_wirds['wirds_ra'], cfht_wirds['wirds_dec'])\n",
    ")"
   ]
  },
  {
   "cell_type": "code",
   "execution_count": null,
   "metadata": {
    "collapsed": true
   },
   "outputs": [],
   "source": [
    "# Given the graph above, we use 0.8 arc-second radius\n",
    "master_catalogue = merge_catalogues(master_catalogue, \n",
    "                                    cfht_wirds, \n",
    "                                    \"wirds_ra\", \n",
    "                                    \"wirds_dec\", \n",
    "                                    radius=0.8*u.arcsec)"
   ]
  },
  {
   "cell_type": "markdown",
   "metadata": {},
   "source": [
    "### Add VIPERS"
   ]
  },
  {
   "cell_type": "code",
   "execution_count": null,
   "metadata": {
    "collapsed": true
   },
   "outputs": [],
   "source": [
    "nb_merge_dist_plot(\n",
    "    SkyCoord(master_catalogue['ra'], master_catalogue['dec']),\n",
    "    SkyCoord(vipers['vipers_ra'], vipers['vipers_dec'])\n",
    ")"
   ]
  },
  {
   "cell_type": "code",
   "execution_count": null,
   "metadata": {
    "collapsed": true
   },
   "outputs": [],
   "source": [
    "# Given the graph above, we use 0.8 arc-second radius\n",
    "master_catalogue = merge_catalogues(master_catalogue, \n",
    "                                    vipers, \n",
    "                                    \"vipers_ra\", \n",
    "                                    \"vipers_dec\", \n",
    "                                    radius=0.8*u.arcsec)"
   ]
  },
  {
   "cell_type": "markdown",
   "metadata": {},
   "source": [
    "###  Add CFHTLS-WIDE"
   ]
  },
  {
   "cell_type": "code",
   "execution_count": 6,
   "metadata": {},
   "outputs": [
    {
     "name": "stdout",
     "output_type": "stream",
     "text": [
      "HELP Warning: There weren't any cross matches. The two surveys probably don't overlap.\n"
     ]
    }
   ],
   "source": [
    "nb_merge_dist_plot(\n",
    "    SkyCoord(master_catalogue['ra'], master_catalogue['dec']),\n",
    "    SkyCoord(cfhtls_wide['cfhtls-wide_ra'], cfhtls_wide['cfhtls-wide_dec'])\n",
    ")"
   ]
  },
  {
   "cell_type": "code",
   "execution_count": 7,
   "metadata": {
    "collapsed": true
   },
   "outputs": [],
   "source": [
    "# Given the graph above, we use 0.8 arc-second radius\n",
    "master_catalogue = merge_catalogues(master_catalogue, \n",
    "                                    cfhtls_wide, \n",
    "                                    \"cfhtls-wide_ra\", \n",
    "                                    \"cfhtls-wide_dec\", \n",
    "                                    radius=0.8*u.arcsec)"
   ]
  },
  {
   "cell_type": "markdown",
   "metadata": {},
   "source": [
    "### Add CFHTLS-DEEP"
   ]
  },
  {
   "cell_type": "code",
   "execution_count": 8,
   "metadata": {},
   "outputs": [
    {
     "data": {
      "image/png": "[encoded data removed]",
      "text/plain": [
       "<matplotlib.figure.Figure at 0x10f85a828>"
      ]
     },
     "metadata": {},
     "output_type": "display_data"
    }
   ],
   "source": [
    "nb_merge_dist_plot(\n",
    "    SkyCoord(master_catalogue['ra'], master_catalogue['dec']),\n",
    "    SkyCoord(cfhtls_deep['cfhtls-deep_ra'], cfhtls_deep['cfhtls-deep_dec'])\n",
    ")"
   ]
  },
  {
   "cell_type": "code",
   "execution_count": 9,
   "metadata": {
    "collapsed": true
   },
   "outputs": [],
   "source": [
    "# Given the graph above, we use 0.8 arc-second radius\n",
    "master_catalogue = merge_catalogues(master_catalogue, \n",
    "                                    cfhtls_deep, \n",
    "                                    \"cfhtls-deep_ra\", \n",
    "                                    \"cfhtls-deep_dec\", \n",
    "                                    radius=0.8*u.arcsec)"
   ]
  },
  {
   "cell_type": "markdown",
   "metadata": {},
   "source": [
    "### Add SpARCS"
   ]
  },
  {
   "cell_type": "code",
   "execution_count": 10,
   "metadata": {},
   "outputs": [
    {
     "name": "stdout",
     "output_type": "stream",
     "text": [
      "HELP Warning: There weren't any cross matches. The two surveys probably don't overlap.\n"
     ]
    }
   ],
   "source": [
    "nb_merge_dist_plot(\n",
    "    SkyCoord(master_catalogue['ra'], master_catalogue['dec']),\n",
    "    SkyCoord(sparcs['sparcs_ra'], sparcs['sparcs_dec'])\n",
    ")"
   ]
  },
  {
   "cell_type": "code",
   "execution_count": 11,
   "metadata": {
    "collapsed": true
   },
   "outputs": [],
   "source": [
    "# Given the graph above, we use 0.8 arc-second radius\n",
    "master_catalogue = merge_catalogues(master_catalogue, sparcs, \"sparcs_ra\", \"sparcs_dec\", radius=0.8*u.arcsec)"
   ]
  },
  {
   "cell_type": "markdown",
   "metadata": {},
   "source": [
    "### Cleaning\n",
    "\n",
    "When we merge the catalogues, astropy masks the non-existent values (e.g. when a row comes only from a catalogue and has no counterparts in the other, the columns from the latest are masked for that row). We indicate to use NaN for masked values for floats columns, False for flag columns and -1 for ID columns."
   ]
  },
  {
   "cell_type": "code",
   "execution_count": 12,
   "metadata": {
    "collapsed": true
   },
   "outputs": [],
   "source": [
    "for col in master_catalogue.colnames:\n",
    "    if \"m_\" in col or \"merr_\" in col or \"f_\" in col or \"ferr_\" in col or \"stellarity\" in col:\n",
    "        master_catalogue[col] = master_catalogue[col].astype(float)\n",
    "        master_catalogue[col].fill_value = np.nan\n",
    "    elif \"flag\" in col:\n",
    "        master_catalogue[col].fill_value = 0\n",
    "    elif \"id\" in col:\n",
    "        master_catalogue[col].fill_value = -1\n",
    "        \n",
    "master_catalogue = master_catalogue.filled()"
   ]
  },
  {
   "cell_type": "code",
   "execution_count": 13,
   "metadata": {
    "collapsed": true
   },
   "outputs": [],
   "source": [
    "#Since this is not the final merged catalogue. We rename column names to make them unique\n",
    "master_catalogue['ra'].name = 'megacam_ra'\n",
    "master_catalogue['dec'].name = 'megacam_dec'\n",
    "master_catalogue['flag_merged'].name = 'megacam_flag_merged'"
   ]
  },
  {
   "cell_type": "code",
   "execution_count": 14,
   "metadata": {},
   "outputs": [
    {
     "data": {
      "text/html": [
       "&lt;Table length=10&gt;\n",
       "<table id=\"table4741356344-886602\" class=\"table-striped table-bordered table-condensed\">\n",
       "<thead><tr><th>idx</th><th>candels_id</th><th>megacam_ra</th><th>megacam_dec</th><th>candels_stellarity</th><th>f_acs_f606w</th><th>ferr_acs_f606w</th><th>f_ap_acs_f606w</th><th>ferr_ap_acs_f606w</th><th>f_acs_f814w</th><th>ferr_acs_f814w</th><th>f_ap_acs_f814w</th><th>ferr_ap_acs_f814w</th><th>f_wfc3_f125w</th><th>ferr_wfc3_f125w</th><th>f_ap_acs_f125w</th><th>ferr_ap_acs_f125w</th><th>f_wfc3_f160w</th><th>ferr_wfc3_f160w</th><th>f_ap_acs_f160w</th><th>ferr_ap_acs_f160w</th><th>f_candels-megacam_u</th><th>ferr_candels-megacam_u</th><th>f_suprime_b</th><th>ferr_suprime_b</th><th>f_suprime_v</th><th>ferr_suprime_v</th><th>f_suprime_rc</th><th>ferr_suprime_rc</th><th>f_suprime_ip</th><th>ferr_suprime_ip</th><th>f_suprime_zp</th><th>ferr_suprime_zp</th><th>f_hawki_k</th><th>ferr_hawki_y</th><th>ferr_hawki_k</th><th>m_acs_f606w</th><th>merr_acs_f606w</th><th>flag_acs_f606w</th><th>m_ap_acs_f606w</th><th>merr_ap_acs_f606w</th><th>m_acs_f814w</th><th>merr_acs_f814w</th><th>flag_acs_f814w</th><th>m_ap_acs_f814w</th><th>merr_ap_acs_f814w</th><th>m_wfc3_f125w</th><th>merr_wfc3_f125w</th><th>flag_wfc3_f125w</th><th>m_ap_acs_f125w</th><th>merr_ap_acs_f125w</th><th>m_wfc3_f160w</th><th>merr_wfc3_f160w</th><th>flag_wfc3_f160w</th><th>m_ap_acs_f160w</th><th>merr_ap_acs_f160w</th><th>m_candels-megacam_u</th><th>merr_candels-megacam_u</th><th>flag_candels-megacam_u</th><th>m_suprime_b</th><th>merr_suprime_b</th><th>flag_suprime_b</th><th>m_suprime_v</th><th>merr_suprime_v</th><th>flag_suprime_v</th><th>m_suprime_rc</th><th>merr_suprime_rc</th><th>flag_suprime_rc</th><th>m_suprime_ip</th><th>merr_suprime_ip</th><th>flag_suprime_ip</th><th>m_suprime_zp</th><th>merr_suprime_zp</th><th>flag_suprime_zp</th><th>m_hawki_k</th><th>merr_hawki_k</th><th>flag_hawki_k</th><th>candels_flag_cleaned</th><th>candels_flag_gaia</th><th>megacam_flag_merged</th><th>cfhtls-wide_id</th><th>cfhtls-wide_stellarity</th><th>m_cfhtls-wide_u</th><th>merr_cfhtls-wide_u</th><th>m_cfhtls-wide_g</th><th>merr_cfhtls-wide_g</th><th>m_cfhtls-wide_r</th><th>merr_cfhtls-wide_r</th><th>m_cfhtls-wide_i</th><th>merr_cfhtls-wide_i</th><th>m_cfhtls-wide_z</th><th>merr_cfhtls-wide_z</th><th>m_ap_cfhtls-wide_u</th><th>merr_ap_cfhtls-wide_u</th><th>m_ap_cfhtls-wide_g</th><th>merr_ap_cfhtls-wide_g</th><th>m_ap_cfhtls-wide_r</th><th>merr_ap_cfhtls-wide_r</th><th>m_ap_cfhtls-wide_i</th><th>merr_ap_cfhtls-wide_i</th><th>m_ap_cfhtls-wide_z</th><th>merr_ap_cfhtls-wide_z</th><th>f_cfhtls-wide_u</th><th>ferr_cfhtls-wide_u</th><th>flag_cfhtls-wide_u</th><th>f_cfhtls-wide_g</th><th>ferr_cfhtls-wide_g</th><th>flag_cfhtls-wide_g</th><th>f_cfhtls-wide_r</th><th>ferr_cfhtls-wide_r</th><th>flag_cfhtls-wide_r</th><th>f_cfhtls-wide_i</th><th>ferr_cfhtls-wide_i</th><th>flag_cfhtls-wide_i</th><th>f_cfhtls-wide_z</th><th>ferr_cfhtls-wide_z</th><th>flag_cfhtls-wide_z</th><th>f_ap_cfhtls-wide_u</th><th>ferr_ap_cfhtls-wide_u</th><th>f_ap_cfhtls-wide_g</th><th>ferr_ap_cfhtls-wide_g</th><th>f_ap_cfhtls-wide_r</th><th>ferr_ap_cfhtls-wide_r</th><th>f_ap_cfhtls-wide_i</th><th>ferr_ap_cfhtls-wide_i</th><th>f_ap_cfhtls-wide_z</th><th>ferr_ap_cfhtls-wide_z</th><th>cfhtls-wide_flag_cleaned</th><th>cfhtls-wide_flag_gaia</th><th>cfhtls-deep_id</th><th>cfhtls-deep_stellarity</th><th>m_cfhtls-deep_u</th><th>merr_cfhtls-deep_u</th><th>m_cfhtls-deep_g</th><th>merr_cfhtls-deep_g</th><th>m_cfhtls-deep_r</th><th>merr_cfhtls-deep_r</th><th>m_cfhtls-deep_i</th><th>merr_cfhtls-deep_i</th><th>m_cfhtls-deep_z</th><th>merr_cfhtls-deep_z</th><th>m_cfhtls-deep_y</th><th>merr_cfhtls-deep_y</th><th>m_ap_cfhtls-deep_u</th><th>merr_ap_cfhtls-deep_u</th><th>m_ap_cfhtls-deep_g</th><th>merr_ap_cfhtls-deep_g</th><th>m_ap_cfhtls-deep_r</th><th>merr_ap_cfhtls-deep_r</th><th>m_ap_cfhtls-deep_i</th><th>merr_ap_cfhtls-deep_i</th><th>m_ap_cfhtls-deep_z</th><th>merr_ap_cfhtls-deep_z</th><th>m_ap_cfhtls-deep_y</th><th>merr_ap_cfhtls-deep_y</th><th>f_cfhtls-deep_u</th><th>ferr_cfhtls-deep_u</th><th>flag_cfhtls-deep_u</th><th>f_cfhtls-deep_g</th><th>ferr_cfhtls-deep_g</th><th>flag_cfhtls-deep_g</th><th>f_cfhtls-deep_r</th><th>ferr_cfhtls-deep_r</th><th>flag_cfhtls-deep_r</th><th>f_cfhtls-deep_i</th><th>ferr_cfhtls-deep_i</th><th>flag_cfhtls-deep_i</th><th>f_cfhtls-deep_z</th><th>ferr_cfhtls-deep_z</th><th>flag_cfhtls-deep_z</th><th>f_cfhtls-deep_y</th><th>ferr_cfhtls-deep_y</th><th>flag_cfhtls-deep_y</th><th>f_ap_cfhtls-deep_u</th><th>ferr_ap_cfhtls-deep_u</th><th>f_ap_cfhtls-deep_g</th><th>ferr_ap_cfhtls-deep_g</th><th>f_ap_cfhtls-deep_r</th><th>ferr_ap_cfhtls-deep_r</th><th>f_ap_cfhtls-deep_i</th><th>ferr_ap_cfhtls-deep_i</th><th>f_ap_cfhtls-deep_z</th><th>ferr_ap_cfhtls-deep_z</th><th>f_ap_cfhtls-deep_y</th><th>ferr_ap_cfhtls-deep_y</th><th>cfhtls-deep_flag_cleaned</th><th>cfhtls-deep_flag_gaia</th><th>sparcs_intid</th><th>sparcs_stellarity</th><th>m_ap_sparcs_u</th><th>merr_ap_sparcs_u</th><th>f_ap_sparcs_u</th><th>ferr_ap_sparcs_u</th><th>m_sparcs_u</th><th>merr_sparcs_u</th><th>f_sparcs_u</th><th>ferr_sparcs_u</th><th>flag_sparcs_u</th><th>m_ap_sparcs_g</th><th>merr_ap_sparcs_g</th><th>f_ap_sparcs_g</th><th>ferr_ap_sparcs_g</th><th>m_sparcs_g</th><th>merr_sparcs_g</th><th>f_sparcs_g</th><th>ferr_sparcs_g</th><th>flag_sparcs_g</th><th>m_ap_sparcs_r</th><th>merr_ap_sparcs_r</th><th>f_ap_sparcs_r</th><th>ferr_ap_sparcs_r</th><th>m_sparcs_r</th><th>merr_sparcs_r</th><th>f_sparcs_r</th><th>ferr_sparcs_r</th><th>flag_sparcs_r</th><th>m_ap_sparcs_z</th><th>merr_ap_sparcs_z</th><th>f_ap_sparcs_z</th><th>ferr_ap_sparcs_z</th><th>m_sparcs_z</th><th>merr_sparcs_z</th><th>f_sparcs_z</th><th>ferr_sparcs_z</th><th>flag_sparcs_z</th><th>m_ap_sparcs_y</th><th>merr_ap_sparcs_y</th><th>f_ap_sparcs_y</th><th>ferr_ap_sparcs_y</th><th>m_sparcs_y</th><th>merr_sparcs_y</th><th>f_sparcs_y</th><th>ferr_sparcs_y</th><th>flag_sparcs_y</th><th>sparcs_flag_cleaned</th><th>sparcs_flag_gaia</th></tr></thead>\n",
       "<thead><tr><th></th><th></th><th>deg</th><th>deg</th><th></th><th></th><th></th><th></th><th></th><th></th><th></th><th></th><th></th><th></th><th></th><th></th><th></th><th></th><th></th><th></th><th></th><th></th><th></th><th></th><th></th><th></th><th></th><th></th><th></th><th></th><th></th><th></th><th></th><th></th><th></th><th></th><th></th><th></th><th></th><th></th><th></th><th></th><th></th><th></th><th></th><th></th><th></th><th></th><th></th><th></th><th></th><th></th><th></th><th></th><th></th><th></th><th></th><th></th><th></th><th></th><th></th><th></th><th></th><th></th><th></th><th></th><th></th><th></th><th></th><th></th><th></th><th></th><th></th><th></th><th></th><th></th><th></th><th></th><th></th><th></th><th></th><th></th><th>mag</th><th>mag</th><th>mag</th><th>mag</th><th>mag</th><th>mag</th><th>mag</th><th>mag</th><th>mag</th><th>mag</th><th>mag</th><th>mag</th><th>mag</th><th>mag</th><th>mag</th><th>mag</th><th>mag</th><th>mag</th><th>mag</th><th>mag</th><th></th><th></th><th></th><th></th><th></th><th></th><th></th><th></th><th></th><th></th><th></th><th></th><th></th><th></th><th></th><th></th><th></th><th></th><th></th><th></th><th></th><th></th><th></th><th></th><th></th><th></th><th></th><th></th><th></th><th>mag</th><th>mag</th><th>mag</th><th>mag</th><th>mag</th><th>mag</th><th>mag</th><th>mag</th><th>mag</th><th>mag</th><th>mag</th><th>mag</th><th>mag</th><th>mag</th><th>mag</th><th>mag</th><th>mag</th><th>mag</th><th>mag</th><th>mag</th><th>mag</th><th>mag</th><th>mag</th><th>mag</th><th></th><th></th><th></th><th></th><th></th><th></th><th></th><th></th><th></th><th></th><th></th><th></th><th></th><th></th><th></th><th></th><th></th><th></th><th></th><th></th><th></th><th></th><th></th><th></th><th></th><th></th><th></th><th></th><th></th><th></th><th></th><th></th><th></th><th></th><th></th><th></th><th></th><th></th><th>mag</th><th>mag</th><th></th><th></th><th></th><th></th><th></th><th></th><th></th><th>mag</th><th>mag</th><th></th><th></th><th></th><th></th><th></th><th></th><th></th><th>mag</th><th>mag</th><th></th><th></th><th></th><th></th><th></th><th></th><th></th><th>mag</th><th>mag</th><th></th><th></th><th></th><th></th><th></th><th></th><th></th><th>mag</th><th>mag</th><th></th><th></th><th></th><th></th><th></th></tr></thead>\n",
       "<tr><td>0</td><td>29320</td><td>34.2560562693</td><td>-5.23913655973</td><td>0.860000014305</td><td>-8.54853e-05</td><td>0.00176123</td><td>-0.00445142</td><td>0.0208456</td><td>0.0010798</td><td>0.00179576</td><td>0.0250893</td><td>0.0206301</td><td>0.00257839</td><td>0.00382529</td><td>-0.00362748</td><td>0.0450891</td><td>0.0280323</td><td>0.00747376</td><td>-0.0409414</td><td>0.0376881</td><td>0.0029311</td><td>0.0055871</td><td>0.0042004</td><td>0.0028315</td><td>0.0051335</td><td>0.0052162</td><td>-0.0048008</td><td>0.0046658</td><td>-0.003198</td><td>0.0059466</td><td>-0.0077058</td><td>0.0175283</td><td>-0.0190447</td><td>0.0118478</td><td>0.021351</td><td>nan</td><td>-22.3691228305</td><td>False</td><td>nan</td><td>-5.0844051179</td><td>31.3166416922</td><td>1.80563219768</td><td>False</td><td>27.9012786387</td><td>0.892764902878</td><td>30.3716284796</td><td>1.61079427344</td><td>False</td><td>nan</td><td>-13.4955584345</td><td>27.7808531692</td><td>0.28947078255</td><td>False</td><td>nan</td><td>-0.999461050637</td><td>30.2324234113</td><td>2.06957004183</td><td>0.0</td><td>29.8417733755</td><td>0.731897453522</td><td>False</td><td>29.6239660841</td><td>1.10322727014</td><td>False</td><td>nan</td><td>-1.05520496254</td><td>False</td><td>nan</td><td>-2.01889897286</td><td>False</td><td>nan</td><td>-2.46971241375</td><td>False</td><td>nan</td><td>-1.21721810833</td><td>False</td><td>False</td><td>0</td><td>False</td><td>-1</td><td>nan</td><td>nan</td><td>nan</td><td>nan</td><td>nan</td><td>nan</td><td>nan</td><td>nan</td><td>nan</td><td>nan</td><td>nan</td><td>nan</td><td>nan</td><td>nan</td><td>nan</td><td>nan</td><td>nan</td><td>nan</td><td>nan</td><td>nan</td><td>nan</td><td>nan</td><td>nan</td><td>False</td><td>nan</td><td>nan</td><td>False</td><td>nan</td><td>nan</td><td>False</td><td>nan</td><td>nan</td><td>False</td><td>nan</td><td>nan</td><td>False</td><td>nan</td><td>nan</td><td>nan</td><td>nan</td><td>nan</td><td>nan</td><td>nan</td><td>nan</td><td>nan</td><td>nan</td><td>False</td><td>0</td><td>-1</td><td>nan</td><td>nan</td><td>nan</td><td>nan</td><td>nan</td><td>nan</td><td>nan</td><td>nan</td><td>nan</td><td>nan</td><td>nan</td><td>nan</td><td>nan</td><td>nan</td><td>nan</td><td>nan</td><td>nan</td><td>nan</td><td>nan</td><td>nan</td><td>nan</td><td>nan</td><td>nan</td><td>nan</td><td>nan</td><td>nan</td><td>nan</td><td>False</td><td>nan</td><td>nan</td><td>False</td><td>nan</td><td>nan</td><td>False</td><td>nan</td><td>nan</td><td>False</td><td>nan</td><td>nan</td><td>False</td><td>nan</td><td>nan</td><td>False</td><td>nan</td><td>nan</td><td>nan</td><td>nan</td><td>nan</td><td>nan</td><td>nan</td><td>nan</td><td>nan</td><td>nan</td><td>nan</td><td>nan</td><td>False</td><td>0</td><td>-1</td><td>nan</td><td>nan</td><td>nan</td><td>nan</td><td>nan</td><td>nan</td><td>nan</td><td>nan</td><td>nan</td><td>False</td><td>nan</td><td>nan</td><td>nan</td><td>nan</td><td>nan</td><td>nan</td><td>nan</td><td>nan</td><td>False</td><td>nan</td><td>nan</td><td>nan</td><td>nan</td><td>nan</td><td>nan</td><td>nan</td><td>nan</td><td>False</td><td>nan</td><td>nan</td><td>nan</td><td>nan</td><td>nan</td><td>nan</td><td>nan</td><td>nan</td><td>False</td><td>nan</td><td>nan</td><td>nan</td><td>nan</td><td>nan</td><td>nan</td><td>nan</td><td>nan</td><td>False</td><td>False</td><td>0</td></tr>\n",
       "<tr><td>1</td><td>33404</td><td>34.3877076693</td><td>-5.16764645973</td><td>0.649999976158</td><td>0.00176775</td><td>0.00211874</td><td>-0.00676493</td><td>0.0229212</td><td>0.000428507</td><td>0.00222215</td><td>-0.00285492</td><td>0.0251148</td><td>0.00176735</td><td>0.00377466</td><td>0.0761616</td><td>0.0429133</td><td>0.00885379</td><td>0.00335168</td><td>0.100134</td><td>0.03619</td><td>0.006062</td><td>0.0073611</td><td>0.0241762</td><td>0.0040415</td><td>0.0243209</td><td>0.0051791</td><td>0.0254998</td><td>0.0074293</td><td>0.0115227</td><td>0.008745</td><td>0.0104471</td><td>0.0189184</td><td>0.0337377</td><td>0.0119581</td><td>0.0236784</td><td>30.7814478852</td><td>1.30131111666</td><td>False</td><td>nan</td><td>-3.67873380752</td><td>32.3201051978</td><td>5.63040675509</td><td>False</td><td>nan</td><td>-9.55124754293</td><td>30.7816935894</td><td>2.31888704708</td><td>False</td><td>26.6956598522</td><td>0.611758727175</td><td>29.0321769578</td><td>0.411014980338</td><td>False</td><td>26.3985460874</td><td>0.39240211367</td><td>29.4434601699</td><td>1.31841187345</td><td>0.0</td><td>27.9415299006</td><td>0.181500933626</td><td>False</td><td>27.9350508949</td><td>0.231205933089</td><td>False</td><td>27.8836580645</td><td>0.316326402011</td><td>False</td><td>28.7461143627</td><td>0.824005060499</td><td>False</td><td>28.8525106205</td><td>1.96613335912</td><td>False</td><td>27.5797113197</td><td>0.762010929931</td><td>False</td><td>False</td><td>0</td><td>False</td><td>-1</td><td>nan</td><td>nan</td><td>nan</td><td>nan</td><td>nan</td><td>nan</td><td>nan</td><td>nan</td><td>nan</td><td>nan</td><td>nan</td><td>nan</td><td>nan</td><td>nan</td><td>nan</td><td>nan</td><td>nan</td><td>nan</td><td>nan</td><td>nan</td><td>nan</td><td>nan</td><td>nan</td><td>False</td><td>nan</td><td>nan</td><td>False</td><td>nan</td><td>nan</td><td>False</td><td>nan</td><td>nan</td><td>False</td><td>nan</td><td>nan</td><td>False</td><td>nan</td><td>nan</td><td>nan</td><td>nan</td><td>nan</td><td>nan</td><td>nan</td><td>nan</td><td>nan</td><td>nan</td><td>False</td><td>0</td><td>-1</td><td>nan</td><td>nan</td><td>nan</td><td>nan</td><td>nan</td><td>nan</td><td>nan</td><td>nan</td><td>nan</td><td>nan</td><td>nan</td><td>nan</td><td>nan</td><td>nan</td><td>nan</td><td>nan</td><td>nan</td><td>nan</td><td>nan</td><td>nan</td><td>nan</td><td>nan</td><td>nan</td><td>nan</td><td>nan</td><td>nan</td><td>nan</td><td>False</td><td>nan</td><td>nan</td><td>False</td><td>nan</td><td>nan</td><td>False</td><td>nan</td><td>nan</td><td>False</td><td>nan</td><td>nan</td><td>False</td><td>nan</td><td>nan</td><td>False</td><td>nan</td><td>nan</td><td>nan</td><td>nan</td><td>nan</td><td>nan</td><td>nan</td><td>nan</td><td>nan</td><td>nan</td><td>nan</td><td>nan</td><td>False</td><td>0</td><td>-1</td><td>nan</td><td>nan</td><td>nan</td><td>nan</td><td>nan</td><td>nan</td><td>nan</td><td>nan</td><td>nan</td><td>False</td><td>nan</td><td>nan</td><td>nan</td><td>nan</td><td>nan</td><td>nan</td><td>nan</td><td>nan</td><td>False</td><td>nan</td><td>nan</td><td>nan</td><td>nan</td><td>nan</td><td>nan</td><td>nan</td><td>nan</td><td>False</td><td>nan</td><td>nan</td><td>nan</td><td>nan</td><td>nan</td><td>nan</td><td>nan</td><td>nan</td><td>False</td><td>nan</td><td>nan</td><td>nan</td><td>nan</td><td>nan</td><td>nan</td><td>nan</td><td>nan</td><td>False</td><td>False</td><td>0</td></tr>\n",
       "<tr><td>2</td><td>33613</td><td>34.2892987693</td><td>-5.16406335973</td><td>0.759999990463</td><td>0.00135356</td><td>0.00247255</td><td>0.00432549</td><td>0.020926</td><td>-0.000176634</td><td>0.0023789</td><td>0.0349174</td><td>0.0203523</td><td>0.00160623</td><td>0.005042</td><td>0.111584</td><td>0.0450771</td><td>0.0360691</td><td>0.00831939</td><td>0.084052</td><td>0.0380268</td><td>-0.0074983</td><td>0.0062188</td><td>0.0016097</td><td>0.0040312</td><td>-0.0002223</td><td>0.0046661</td><td>0.0105847</td><td>0.0064796</td><td>0.0025439</td><td>0.0082281</td><td>0.0262765</td><td>0.017254</td><td>0.0187801</td><td>0.0139473</td><td>0.0267243</td><td>31.0713062206</td><td>1.98331588779</td><td>False</td><td>29.8099117192</td><td>5.25261087663</td><td>nan</td><td>-14.6226539483</td><td>False</td><td>27.5423952549</td><td>0.632842908123</td><td>30.8854806673</td><td>3.40815570895</td><td>False</td><td>26.2809951858</td><td>0.438609831835</td><td>27.5071617353</td><td>0.250426623467</td><td>False</td><td>26.5886298704</td><td>0.491208698319</td><td>nan</td><td>-0.900467614012</td><td>0.0</td><td>30.8831376399</td><td>2.71902825907</td><td>False</td><td>nan</td><td>-22.7897152723</td><td>False</td><td>28.8383036165</td><td>0.664651460349</td><td>False</td><td>30.3862499117</td><td>3.51175206037</td><td>False</td><td>27.851081207</td><td>0.712929517892</td><td>False</td><td>28.2157552488</td><td>1.54501520529</td><td>False</td><td>False</td><td>0</td><td>False</td><td>-1</td><td>nan</td><td>nan</td><td>nan</td><td>nan</td><td>nan</td><td>nan</td><td>nan</td><td>nan</td><td>nan</td><td>nan</td><td>nan</td><td>nan</td><td>nan</td><td>nan</td><td>nan</td><td>nan</td><td>nan</td><td>nan</td><td>nan</td><td>nan</td><td>nan</td><td>nan</td><td>nan</td><td>False</td><td>nan</td><td>nan</td><td>False</td><td>nan</td><td>nan</td><td>False</td><td>nan</td><td>nan</td><td>False</td><td>nan</td><td>nan</td><td>False</td><td>nan</td><td>nan</td><td>nan</td><td>nan</td><td>nan</td><td>nan</td><td>nan</td><td>nan</td><td>nan</td><td>nan</td><td>False</td><td>0</td><td>-1</td><td>nan</td><td>nan</td><td>nan</td><td>nan</td><td>nan</td><td>nan</td><td>nan</td><td>nan</td><td>nan</td><td>nan</td><td>nan</td><td>nan</td><td>nan</td><td>nan</td><td>nan</td><td>nan</td><td>nan</td><td>nan</td><td>nan</td><td>nan</td><td>nan</td><td>nan</td><td>nan</td><td>nan</td><td>nan</td><td>nan</td><td>nan</td><td>False</td><td>nan</td><td>nan</td><td>False</td><td>nan</td><td>nan</td><td>False</td><td>nan</td><td>nan</td><td>False</td><td>nan</td><td>nan</td><td>False</td><td>nan</td><td>nan</td><td>False</td><td>nan</td><td>nan</td><td>nan</td><td>nan</td><td>nan</td><td>nan</td><td>nan</td><td>nan</td><td>nan</td><td>nan</td><td>nan</td><td>nan</td><td>False</td><td>0</td><td>-1</td><td>nan</td><td>nan</td><td>nan</td><td>nan</td><td>nan</td><td>nan</td><td>nan</td><td>nan</td><td>nan</td><td>False</td><td>nan</td><td>nan</td><td>nan</td><td>nan</td><td>nan</td><td>nan</td><td>nan</td><td>nan</td><td>False</td><td>nan</td><td>nan</td><td>nan</td><td>nan</td><td>nan</td><td>nan</td><td>nan</td><td>nan</td><td>False</td><td>nan</td><td>nan</td><td>nan</td><td>nan</td><td>nan</td><td>nan</td><td>nan</td><td>nan</td><td>False</td><td>nan</td><td>nan</td><td>nan</td><td>nan</td><td>nan</td><td>nan</td><td>nan</td><td>nan</td><td>False</td><td>False</td><td>0</td></tr>\n",
       "<tr><td>3</td><td>33647</td><td>34.3565318693</td><td>-5.16367805973</td><td>0.959999978542</td><td>0.00103999</td><td>0.00248949</td><td>0.0050441</td><td>0.0209175</td><td>0.000360351</td><td>0.00238935</td><td>-0.00972547</td><td>0.0205884</td><td>0.00248752</td><td>0.00482627</td><td>-0.0947231</td><td>0.044307</td><td>0.032083</td><td>0.00853232</td><td>-0.0238256</td><td>0.0372737</td><td>-0.0151542</td><td>0.006339</td><td>-0.0036213</td><td>0.0051467</td><td>-0.0073974</td><td>0.005986</td><td>-0.0137931</td><td>0.0076328</td><td>-0.0255821</td><td>0.0093295</td><td>0.0077622</td><td>0.01797</td><td>0.0186942</td><td>0.010475</td><td>0.0181146</td><td>31.3574270916</td><td>2.59899559071</td><td>False</td><td>29.6430407802</td><td>4.50246566544</td><td>32.508185671</td><td>7.19910254402</td><td>False</td><td>nan</td><td>-2.29845665845</td><td>30.410583547</td><td>2.10653826821</td><td>False</td><td>nan</td><td>-0.507856204286</td><td>27.6343125718</td><td>0.288746337144</td><td>False</td><td>nan</td><td>-1.69856816094</td><td>nan</td><td>-0.454163321189</td><td>0.0</td><td>nan</td><td>-1.54308080662</td><td>False</td><td>nan</td><td>-0.878581247693</td><td>False</td><td>nan</td><td>-0.600822679722</td><td>False</td><td>nan</td><td>-0.395955606549</td><td>False</td><td>29.1750379287</td><td>2.51355023054</td><td>False</td><td>28.2207327883</td><td>1.05207374772</td><td>False</td><td>False</td><td>0</td><td>False</td><td>-1</td><td>nan</td><td>nan</td><td>nan</td><td>nan</td><td>nan</td><td>nan</td><td>nan</td><td>nan</td><td>nan</td><td>nan</td><td>nan</td><td>nan</td><td>nan</td><td>nan</td><td>nan</td><td>nan</td><td>nan</td><td>nan</td><td>nan</td><td>nan</td><td>nan</td><td>nan</td><td>nan</td><td>False</td><td>nan</td><td>nan</td><td>False</td><td>nan</td><td>nan</td><td>False</td><td>nan</td><td>nan</td><td>False</td><td>nan</td><td>nan</td><td>False</td><td>nan</td><td>nan</td><td>nan</td><td>nan</td><td>nan</td><td>nan</td><td>nan</td><td>nan</td><td>nan</td><td>nan</td><td>False</td><td>0</td><td>-1</td><td>nan</td><td>nan</td><td>nan</td><td>nan</td><td>nan</td><td>nan</td><td>nan</td><td>nan</td><td>nan</td><td>nan</td><td>nan</td><td>nan</td><td>nan</td><td>nan</td><td>nan</td><td>nan</td><td>nan</td><td>nan</td><td>nan</td><td>nan</td><td>nan</td><td>nan</td><td>nan</td><td>nan</td><td>nan</td><td>nan</td><td>nan</td><td>False</td><td>nan</td><td>nan</td><td>False</td><td>nan</td><td>nan</td><td>False</td><td>nan</td><td>nan</td><td>False</td><td>nan</td><td>nan</td><td>False</td><td>nan</td><td>nan</td><td>False</td><td>nan</td><td>nan</td><td>nan</td><td>nan</td><td>nan</td><td>nan</td><td>nan</td><td>nan</td><td>nan</td><td>nan</td><td>nan</td><td>nan</td><td>False</td><td>0</td><td>-1</td><td>nan</td><td>nan</td><td>nan</td><td>nan</td><td>nan</td><td>nan</td><td>nan</td><td>nan</td><td>nan</td><td>False</td><td>nan</td><td>nan</td><td>nan</td><td>nan</td><td>nan</td><td>nan</td><td>nan</td><td>nan</td><td>False</td><td>nan</td><td>nan</td><td>nan</td><td>nan</td><td>nan</td><td>nan</td><td>nan</td><td>nan</td><td>False</td><td>nan</td><td>nan</td><td>nan</td><td>nan</td><td>nan</td><td>nan</td><td>nan</td><td>nan</td><td>False</td><td>nan</td><td>nan</td><td>nan</td><td>nan</td><td>nan</td><td>nan</td><td>nan</td><td>nan</td><td>False</td><td>False</td><td>0</td></tr>\n",
       "<tr><td>4</td><td>29341</td><td>34.3233023693</td><td>-5.23881325973</td><td>0.709999978542</td><td>0.00124499</td><td>0.00258748</td><td>-0.0195989</td><td>0.0207134</td><td>-0.000839744</td><td>0.00254458</td><td>-0.0179041</td><td>0.0203662</td><td>0.00390613</td><td>0.00488266</td><td>-0.0249178</td><td>0.0443968</td><td>0.0363689</td><td>0.00774506</td><td>-0.0258949</td><td>0.0391916</td><td>-0.0064842</td><td>0.00618</td><td>0.0072881</td><td>0.0033741</td><td>0.0052811</td><td>0.0061803</td><td>0.0028493</td><td>0.0054544</td><td>0.0045723</td><td>0.0070338</td><td>0.0295833</td><td>0.0219284</td><td>0.0359788</td><td>0.0128838</td><td>0.0248456</td><td>31.1620853422</td><td>2.25650062658</td><td>False</td><td>nan</td><td>-1.14747706778</td><td>nan</td><td>-3.28998198487</td><td>False</td><td>nan</td><td>-1.23504229162</td><td>29.9206332676</td><td>1.35716956106</td><td>False</td><td>nan</td><td>-1.93448912566</td><td>27.4981745856</td><td>0.231216562778</td><td>False</td><td>nan</td><td>-1.64324786125</td><td>nan</td><td>-1.03479993606</td><td>0.0</td><td>29.2434641926</td><td>0.502652615699</td><td>False</td><td>29.5931890222</td><td>1.27060185686</td><td>False</td><td>30.2631545548</td><td>2.07841910477</td><td>False</td><td>29.7496632055</td><td>1.67024283556</td><td>False</td><td>27.7223834558</td><td>0.804793846272</td><td>False</td><td>27.5098833144</td><td>0.749768403864</td><td>False</td><td>False</td><td>0</td><td>False</td><td>-1</td><td>nan</td><td>nan</td><td>nan</td><td>nan</td><td>nan</td><td>nan</td><td>nan</td><td>nan</td><td>nan</td><td>nan</td><td>nan</td><td>nan</td><td>nan</td><td>nan</td><td>nan</td><td>nan</td><td>nan</td><td>nan</td><td>nan</td><td>nan</td><td>nan</td><td>nan</td><td>nan</td><td>False</td><td>nan</td><td>nan</td><td>False</td><td>nan</td><td>nan</td><td>False</td><td>nan</td><td>nan</td><td>False</td><td>nan</td><td>nan</td><td>False</td><td>nan</td><td>nan</td><td>nan</td><td>nan</td><td>nan</td><td>nan</td><td>nan</td><td>nan</td><td>nan</td><td>nan</td><td>False</td><td>0</td><td>-1</td><td>nan</td><td>nan</td><td>nan</td><td>nan</td><td>nan</td><td>nan</td><td>nan</td><td>nan</td><td>nan</td><td>nan</td><td>nan</td><td>nan</td><td>nan</td><td>nan</td><td>nan</td><td>nan</td><td>nan</td><td>nan</td><td>nan</td><td>nan</td><td>nan</td><td>nan</td><td>nan</td><td>nan</td><td>nan</td><td>nan</td><td>nan</td><td>False</td><td>nan</td><td>nan</td><td>False</td><td>nan</td><td>nan</td><td>False</td><td>nan</td><td>nan</td><td>False</td><td>nan</td><td>nan</td><td>False</td><td>nan</td><td>nan</td><td>False</td><td>nan</td><td>nan</td><td>nan</td><td>nan</td><td>nan</td><td>nan</td><td>nan</td><td>nan</td><td>nan</td><td>nan</td><td>nan</td><td>nan</td><td>False</td><td>0</td><td>-1</td><td>nan</td><td>nan</td><td>nan</td><td>nan</td><td>nan</td><td>nan</td><td>nan</td><td>nan</td><td>nan</td><td>False</td><td>nan</td><td>nan</td><td>nan</td><td>nan</td><td>nan</td><td>nan</td><td>nan</td><td>nan</td><td>False</td><td>nan</td><td>nan</td><td>nan</td><td>nan</td><td>nan</td><td>nan</td><td>nan</td><td>nan</td><td>False</td><td>nan</td><td>nan</td><td>nan</td><td>nan</td><td>nan</td><td>nan</td><td>nan</td><td>nan</td><td>False</td><td>nan</td><td>nan</td><td>nan</td><td>nan</td><td>nan</td><td>nan</td><td>nan</td><td>nan</td><td>False</td><td>False</td><td>0</td></tr>\n",
       "<tr><td>5</td><td>7555</td><td>34.4266764693</td><td>-5.23343385973</td><td>0.289999991655</td><td>0.00648211</td><td>0.00261308</td><td>0.0514613</td><td>0.0243315</td><td>0.0078386</td><td>0.00260668</td><td>0.0951478</td><td>0.0244623</td><td>0.0202951</td><td>0.00505505</td><td>0.163851</td><td>0.0454082</td><td>0.0242834</td><td>0.00421682</td><td>0.122569</td><td>0.0392128</td><td>0.0078999</td><td>0.0071665</td><td>-0.0147576</td><td>0.0036762</td><td>-0.0199299</td><td>0.0064578</td><td>0.0049881</td><td>0.0061395</td><td>-0.009503</td><td>0.0077562</td><td>0.0048309</td><td>0.022328</td><td>-0.0205403</td><td>0.0112528</td><td>0.0203718</td><td>29.3707090084</td><td>0.437683958145</td><td>False</td><td>27.1212981174</td><td>0.513348680777</td><td>29.1644037421</td><td>0.361055143804</td><td>False</td><td>26.4540031225</td><td>0.279140503108</td><td>28.1315220111</td><td>0.270432311339</td><td>False</td><td>25.8638772593</td><td>0.300891216611</td><td>27.9367262658</td><td>0.188538431313</td><td>False</td><td>26.1790483929</td><td>0.347353381768</td><td>29.1559460154</td><td>0.984940127267</td><td>0.0</td><td>nan</td><td>-0.270462909683</td><td>False</td><td>nan</td><td>-0.351806444743</td><td>False</td><td>29.6551621212</td><td>1.33635601313</td><td>False</td><td>nan</td><td>-0.886160912485</td><td>False</td><td>29.6899298809</td><td>5.01817838909</td><td>False</td><td>nan</td><td>-1.07682949208</td><td>False</td><td>False</td><td>0</td><td>False</td><td>-1</td><td>nan</td><td>nan</td><td>nan</td><td>nan</td><td>nan</td><td>nan</td><td>nan</td><td>nan</td><td>nan</td><td>nan</td><td>nan</td><td>nan</td><td>nan</td><td>nan</td><td>nan</td><td>nan</td><td>nan</td><td>nan</td><td>nan</td><td>nan</td><td>nan</td><td>nan</td><td>nan</td><td>False</td><td>nan</td><td>nan</td><td>False</td><td>nan</td><td>nan</td><td>False</td><td>nan</td><td>nan</td><td>False</td><td>nan</td><td>nan</td><td>False</td><td>nan</td><td>nan</td><td>nan</td><td>nan</td><td>nan</td><td>nan</td><td>nan</td><td>nan</td><td>nan</td><td>nan</td><td>False</td><td>0</td><td>-1</td><td>nan</td><td>nan</td><td>nan</td><td>nan</td><td>nan</td><td>nan</td><td>nan</td><td>nan</td><td>nan</td><td>nan</td><td>nan</td><td>nan</td><td>nan</td><td>nan</td><td>nan</td><td>nan</td><td>nan</td><td>nan</td><td>nan</td><td>nan</td><td>nan</td><td>nan</td><td>nan</td><td>nan</td><td>nan</td><td>nan</td><td>nan</td><td>False</td><td>nan</td><td>nan</td><td>False</td><td>nan</td><td>nan</td><td>False</td><td>nan</td><td>nan</td><td>False</td><td>nan</td><td>nan</td><td>False</td><td>nan</td><td>nan</td><td>False</td><td>nan</td><td>nan</td><td>nan</td><td>nan</td><td>nan</td><td>nan</td><td>nan</td><td>nan</td><td>nan</td><td>nan</td><td>nan</td><td>nan</td><td>False</td><td>0</td><td>-1</td><td>nan</td><td>nan</td><td>nan</td><td>nan</td><td>nan</td><td>nan</td><td>nan</td><td>nan</td><td>nan</td><td>False</td><td>nan</td><td>nan</td><td>nan</td><td>nan</td><td>nan</td><td>nan</td><td>nan</td><td>nan</td><td>False</td><td>nan</td><td>nan</td><td>nan</td><td>nan</td><td>nan</td><td>nan</td><td>nan</td><td>nan</td><td>False</td><td>nan</td><td>nan</td><td>nan</td><td>nan</td><td>nan</td><td>nan</td><td>nan</td><td>nan</td><td>False</td><td>nan</td><td>nan</td><td>nan</td><td>nan</td><td>nan</td><td>nan</td><td>nan</td><td>nan</td><td>False</td><td>False</td><td>0</td></tr>\n",
       "<tr><td>6</td><td>33657</td><td>34.2883624693</td><td>-5.16356455973</td><td>0.870000004768</td><td>-0.000944553</td><td>0.00266309</td><td>-0.00733022</td><td>0.0206604</td><td>-0.000956514</td><td>0.00257389</td><td>-0.0558851</td><td>0.0198796</td><td>0.00963688</td><td>0.00891117</td><td>0.0409528</td><td>0.0637128</td><td>0.0370345</td><td>0.0117948</td><td>0.0817129</td><td>0.046112</td><td>0.0095483</td><td>0.0063252</td><td>0.0040362</td><td>0.0039897</td><td>0.0104277</td><td>0.004436</td><td>0.0006359</td><td>0.0061923</td><td>0.0051991</td><td>0.0081859</td><td>0.0182252</td><td>0.0171366</td><td>0.01376</td><td>0.0149227</td><td>0.0300022</td><td>nan</td><td>-3.06114450913</td><td>False</td><td>nan</td><td>-3.06017340336</td><td>nan</td><td>-2.92161490586</td><td>False</td><td>nan</td><td>-0.386221040243</td><td>28.9401588722</td><td>1.00397430452</td><td>False</td><td>27.3692909989</td><td>1.68914686338</td><td>27.4784837859</td><td>0.345786803869</td><td>False</td><td>26.6192734402</td><td>0.612699682349</td><td>28.9501848607</td><td>0.719237837347</td><td>0.0</td><td>29.8850683048</td><td>1.07322772314</td><td>False</td><td>28.8545286794</td><td>0.461878055977</td><td>False</td><td>31.8915279375</td><td>10.5727383248</td><td>False</td><td>29.6101795731</td><td>1.70947433181</td><td>False</td><td>28.2483192428</td><td>1.02088465676</td><td>False</td><td>28.5534539153</td><td>2.36733101471</td><td>False</td><td>False</td><td>0</td><td>False</td><td>-1</td><td>nan</td><td>nan</td><td>nan</td><td>nan</td><td>nan</td><td>nan</td><td>nan</td><td>nan</td><td>nan</td><td>nan</td><td>nan</td><td>nan</td><td>nan</td><td>nan</td><td>nan</td><td>nan</td><td>nan</td><td>nan</td><td>nan</td><td>nan</td><td>nan</td><td>nan</td><td>nan</td><td>False</td><td>nan</td><td>nan</td><td>False</td><td>nan</td><td>nan</td><td>False</td><td>nan</td><td>nan</td><td>False</td><td>nan</td><td>nan</td><td>False</td><td>nan</td><td>nan</td><td>nan</td><td>nan</td><td>nan</td><td>nan</td><td>nan</td><td>nan</td><td>nan</td><td>nan</td><td>False</td><td>0</td><td>-1</td><td>nan</td><td>nan</td><td>nan</td><td>nan</td><td>nan</td><td>nan</td><td>nan</td><td>nan</td><td>nan</td><td>nan</td><td>nan</td><td>nan</td><td>nan</td><td>nan</td><td>nan</td><td>nan</td><td>nan</td><td>nan</td><td>nan</td><td>nan</td><td>nan</td><td>nan</td><td>nan</td><td>nan</td><td>nan</td><td>nan</td><td>nan</td><td>False</td><td>nan</td><td>nan</td><td>False</td><td>nan</td><td>nan</td><td>False</td><td>nan</td><td>nan</td><td>False</td><td>nan</td><td>nan</td><td>False</td><td>nan</td><td>nan</td><td>False</td><td>nan</td><td>nan</td><td>nan</td><td>nan</td><td>nan</td><td>nan</td><td>nan</td><td>nan</td><td>nan</td><td>nan</td><td>nan</td><td>nan</td><td>False</td><td>0</td><td>-1</td><td>nan</td><td>nan</td><td>nan</td><td>nan</td><td>nan</td><td>nan</td><td>nan</td><td>nan</td><td>nan</td><td>False</td><td>nan</td><td>nan</td><td>nan</td><td>nan</td><td>nan</td><td>nan</td><td>nan</td><td>nan</td><td>False</td><td>nan</td><td>nan</td><td>nan</td><td>nan</td><td>nan</td><td>nan</td><td>nan</td><td>nan</td><td>False</td><td>nan</td><td>nan</td><td>nan</td><td>nan</td><td>nan</td><td>nan</td><td>nan</td><td>nan</td><td>False</td><td>nan</td><td>nan</td><td>nan</td><td>nan</td><td>nan</td><td>nan</td><td>nan</td><td>nan</td><td>False</td><td>False</td><td>0</td></tr>\n",
       "<tr><td>7</td><td>29189</td><td>34.2217950693</td><td>-5.24134055973</td><td>0.0500000007451</td><td>-0.00134821</td><td>0.00269773</td><td>-0.0197561</td><td>0.0223594</td><td>-0.00116135</td><td>0.00269182</td><td>0.0282655</td><td>0.0225137</td><td>nan</td><td>nan</td><td>nan</td><td>nan</td><td>nan</td><td>nan</td><td>0.0935511</td><td>0.0505927</td><td>0.0005809</td><td>0.005773</td><td>0.0055206</td><td>0.0025302</td><td>-0.0009367</td><td>0.004086</td><td>0.0026749</td><td>0.0052749</td><td>0.002974</td><td>0.0054325</td><td>-0.0097251</td><td>0.0144515</td><td>0.0157879</td><td>0.0164767</td><td>0.0318916</td><td>nan</td><td>-2.17252737456</td><td>False</td><td>nan</td><td>-1.22880579146</td><td>nan</td><td>-2.51655954767</td><td>False</td><td>27.7718583193</td><td>0.864797693056</td><td>nan</td><td>nan</td><td>False</td><td>nan</td><td>nan</td><td>nan</td><td>nan</td><td>False</td><td>26.4723777539</td><td>0.587169216465</td><td>31.9897465588</td><td>10.790075934</td><td>0.0</td><td>29.5450342973</td><td>0.4976143436</td><td>False</td><td>nan</td><td>-4.7361141589</td><td>False</td><td>30.3317311231</td><td>2.14107065927</td><td>False</td><td>30.2166475895</td><td>1.98327570018</td><td>False</td><td>nan</td><td>-1.61340415657</td><td>False</td><td>28.4041890827</td><td>2.19319002196</td><td>False</td><td>False</td><td>0</td><td>False</td><td>-1</td><td>nan</td><td>nan</td><td>nan</td><td>nan</td><td>nan</td><td>nan</td><td>nan</td><td>nan</td><td>nan</td><td>nan</td><td>nan</td><td>nan</td><td>nan</td><td>nan</td><td>nan</td><td>nan</td><td>nan</td><td>nan</td><td>nan</td><td>nan</td><td>nan</td><td>nan</td><td>nan</td><td>False</td><td>nan</td><td>nan</td><td>False</td><td>nan</td><td>nan</td><td>False</td><td>nan</td><td>nan</td><td>False</td><td>nan</td><td>nan</td><td>False</td><td>nan</td><td>nan</td><td>nan</td><td>nan</td><td>nan</td><td>nan</td><td>nan</td><td>nan</td><td>nan</td><td>nan</td><td>False</td><td>0</td><td>-1</td><td>nan</td><td>nan</td><td>nan</td><td>nan</td><td>nan</td><td>nan</td><td>nan</td><td>nan</td><td>nan</td><td>nan</td><td>nan</td><td>nan</td><td>nan</td><td>nan</td><td>nan</td><td>nan</td><td>nan</td><td>nan</td><td>nan</td><td>nan</td><td>nan</td><td>nan</td><td>nan</td><td>nan</td><td>nan</td><td>nan</td><td>nan</td><td>False</td><td>nan</td><td>nan</td><td>False</td><td>nan</td><td>nan</td><td>False</td><td>nan</td><td>nan</td><td>False</td><td>nan</td><td>nan</td><td>False</td><td>nan</td><td>nan</td><td>False</td><td>nan</td><td>nan</td><td>nan</td><td>nan</td><td>nan</td><td>nan</td><td>nan</td><td>nan</td><td>nan</td><td>nan</td><td>nan</td><td>nan</td><td>False</td><td>0</td><td>-1</td><td>nan</td><td>nan</td><td>nan</td><td>nan</td><td>nan</td><td>nan</td><td>nan</td><td>nan</td><td>nan</td><td>False</td><td>nan</td><td>nan</td><td>nan</td><td>nan</td><td>nan</td><td>nan</td><td>nan</td><td>nan</td><td>False</td><td>nan</td><td>nan</td><td>nan</td><td>nan</td><td>nan</td><td>nan</td><td>nan</td><td>nan</td><td>False</td><td>nan</td><td>nan</td><td>nan</td><td>nan</td><td>nan</td><td>nan</td><td>nan</td><td>nan</td><td>False</td><td>nan</td><td>nan</td><td>nan</td><td>nan</td><td>nan</td><td>nan</td><td>nan</td><td>nan</td><td>False</td><td>False</td><td>0</td></tr>\n",
       "<tr><td>8</td><td>6271</td><td>34.2217291693</td><td>-5.24009095973</td><td>0.0</td><td>-0.000385849</td><td>0.00271089</td><td>0.0123367</td><td>0.0209725</td><td>-0.000619646</td><td>0.00268373</td><td>0.00398078</td><td>0.0209392</td><td>nan</td><td>nan</td><td>nan</td><td>nan</td><td>nan</td><td>nan</td><td>0.125336</td><td>0.113987</td><td>-0.0079155</td><td>0.0060852</td><td>0.0015256</td><td>0.0027696</td><td>0.0038986</td><td>0.0044574</td><td>-0.0014639</td><td>0.0055689</td><td>-0.007663</td><td>0.0058294</td><td>0.0012693</td><td>0.0153915</td><td>0.0437487</td><td>0.0173088</td><td>0.0351411</td><td>nan</td><td>-7.62814318585</td><td>False</td><td>28.6720024904</td><td>1.84576122904</td><td>nan</td><td>-4.70239915177</td><td>False</td><td>29.9000795582</td><td>5.71105349672</td><td>nan</td><td>nan</td><td>False</td><td>nan</td><td>nan</td><td>nan</td><td>nan</td><td>False</td><td>26.154810424</td><td>0.987424305641</td><td>nan</td><td>-0.834681568214</td><td>0.0</td><td>30.9413982999</td><td>1.97106383895</td><td>False</td><td>29.9227283039</td><td>1.24135857977</td><td>False</td><td>nan</td><td>-4.13030695449</td><td>False</td><td>nan</td><td>-0.825941619733</td><td>False</td><td>31.1410892999</td><td>13.1656100178</td><td>False</td><td>27.297587119</td><td>0.872116532492</td><td>False</td><td>False</td><td>0</td><td>False</td><td>-1</td><td>nan</td><td>nan</td><td>nan</td><td>nan</td><td>nan</td><td>nan</td><td>nan</td><td>nan</td><td>nan</td><td>nan</td><td>nan</td><td>nan</td><td>nan</td><td>nan</td><td>nan</td><td>nan</td><td>nan</td><td>nan</td><td>nan</td><td>nan</td><td>nan</td><td>nan</td><td>nan</td><td>False</td><td>nan</td><td>nan</td><td>False</td><td>nan</td><td>nan</td><td>False</td><td>nan</td><td>nan</td><td>False</td><td>nan</td><td>nan</td><td>False</td><td>nan</td><td>nan</td><td>nan</td><td>nan</td><td>nan</td><td>nan</td><td>nan</td><td>nan</td><td>nan</td><td>nan</td><td>False</td><td>0</td><td>-1</td><td>nan</td><td>nan</td><td>nan</td><td>nan</td><td>nan</td><td>nan</td><td>nan</td><td>nan</td><td>nan</td><td>nan</td><td>nan</td><td>nan</td><td>nan</td><td>nan</td><td>nan</td><td>nan</td><td>nan</td><td>nan</td><td>nan</td><td>nan</td><td>nan</td><td>nan</td><td>nan</td><td>nan</td><td>nan</td><td>nan</td><td>nan</td><td>False</td><td>nan</td><td>nan</td><td>False</td><td>nan</td><td>nan</td><td>False</td><td>nan</td><td>nan</td><td>False</td><td>nan</td><td>nan</td><td>False</td><td>nan</td><td>nan</td><td>False</td><td>nan</td><td>nan</td><td>nan</td><td>nan</td><td>nan</td><td>nan</td><td>nan</td><td>nan</td><td>nan</td><td>nan</td><td>nan</td><td>nan</td><td>False</td><td>0</td><td>-1</td><td>nan</td><td>nan</td><td>nan</td><td>nan</td><td>nan</td><td>nan</td><td>nan</td><td>nan</td><td>nan</td><td>False</td><td>nan</td><td>nan</td><td>nan</td><td>nan</td><td>nan</td><td>nan</td><td>nan</td><td>nan</td><td>False</td><td>nan</td><td>nan</td><td>nan</td><td>nan</td><td>nan</td><td>nan</td><td>nan</td><td>nan</td><td>False</td><td>nan</td><td>nan</td><td>nan</td><td>nan</td><td>nan</td><td>nan</td><td>nan</td><td>nan</td><td>False</td><td>nan</td><td>nan</td><td>nan</td><td>nan</td><td>nan</td><td>nan</td><td>nan</td><td>nan</td><td>False</td><td>False</td><td>0</td></tr>\n",
       "<tr><td>9</td><td>29350</td><td>34.3569592693</td><td>-5.23864485973</td><td>0.759999990463</td><td>-0.002761</td><td>0.00288077</td><td>0.00566802</td><td>0.020968</td><td>-0.00160403</td><td>0.00286546</td><td>0.0144214</td><td>0.0208232</td><td>0.00242352</td><td>0.00585417</td><td>0.00486642</td><td>0.0446368</td><td>0.0435392</td><td>0.00971056</td><td>0.0267326</td><td>0.0385843</td><td>-0.0010504</td><td>0.0060591</td><td>0.0066895</td><td>0.0037302</td><td>0.0009902</td><td>0.0065823</td><td>0.0054725</td><td>0.0068716</td><td>-0.0080719</td><td>0.0085055</td><td>0.0299093</td><td>0.0223344</td><td>-0.00215722</td><td>0.00944822</td><td>0.016411</td><td>nan</td><td>-1.13283458406</td><td>False</td><td>29.516421565</td><td>4.01652018542</td><td>nan</td><td>-1.9395732407</td><td>False</td><td>28.5024814429</td><td>1.56770508681</td><td>30.4388834798</td><td>2.62266633566</td><td>False</td><td>29.6819760292</td><td>9.95881773964</td><td>27.3027988876</td><td>0.242152050577</td><td>False</td><td>27.8323969998</td><td>1.5670893009</td><td>nan</td><td>-6.26293244312</td><td>0.0</td><td>29.3365158548</td><td>0.605428386425</td><td>False</td><td>31.410692695</td><td>7.21737166288</td><td>False</td><td>29.5545355744</td><td>1.36331565183</td><td>False</td><td>nan</td><td>-1.14405893155</td><td>False</td><td>27.7104843778</td><td>0.810760087717</td><td>False</td><td>nan</td><td>-8.25971243373</td><td>False</td><td>False</td><td>0</td><td>False</td><td>-1</td><td>nan</td><td>nan</td><td>nan</td><td>nan</td><td>nan</td><td>nan</td><td>nan</td><td>nan</td><td>nan</td><td>nan</td><td>nan</td><td>nan</td><td>nan</td><td>nan</td><td>nan</td><td>nan</td><td>nan</td><td>nan</td><td>nan</td><td>nan</td><td>nan</td><td>nan</td><td>nan</td><td>False</td><td>nan</td><td>nan</td><td>False</td><td>nan</td><td>nan</td><td>False</td><td>nan</td><td>nan</td><td>False</td><td>nan</td><td>nan</td><td>False</td><td>nan</td><td>nan</td><td>nan</td><td>nan</td><td>nan</td><td>nan</td><td>nan</td><td>nan</td><td>nan</td><td>nan</td><td>False</td><td>0</td><td>-1</td><td>nan</td><td>nan</td><td>nan</td><td>nan</td><td>nan</td><td>nan</td><td>nan</td><td>nan</td><td>nan</td><td>nan</td><td>nan</td><td>nan</td><td>nan</td><td>nan</td><td>nan</td><td>nan</td><td>nan</td><td>nan</td><td>nan</td><td>nan</td><td>nan</td><td>nan</td><td>nan</td><td>nan</td><td>nan</td><td>nan</td><td>nan</td><td>False</td><td>nan</td><td>nan</td><td>False</td><td>nan</td><td>nan</td><td>False</td><td>nan</td><td>nan</td><td>False</td><td>nan</td><td>nan</td><td>False</td><td>nan</td><td>nan</td><td>False</td><td>nan</td><td>nan</td><td>nan</td><td>nan</td><td>nan</td><td>nan</td><td>nan</td><td>nan</td><td>nan</td><td>nan</td><td>nan</td><td>nan</td><td>False</td><td>0</td><td>-1</td><td>nan</td><td>nan</td><td>nan</td><td>nan</td><td>nan</td><td>nan</td><td>nan</td><td>nan</td><td>nan</td><td>False</td><td>nan</td><td>nan</td><td>nan</td><td>nan</td><td>nan</td><td>nan</td><td>nan</td><td>nan</td><td>False</td><td>nan</td><td>nan</td><td>nan</td><td>nan</td><td>nan</td><td>nan</td><td>nan</td><td>nan</td><td>False</td><td>nan</td><td>nan</td><td>nan</td><td>nan</td><td>nan</td><td>nan</td><td>nan</td><td>nan</td><td>False</td><td>nan</td><td>nan</td><td>nan</td><td>nan</td><td>nan</td><td>nan</td><td>nan</td><td>nan</td><td>False</td><td>False</td><td>0</td></tr>\n",
       "</table><style>table.dataTable {clear: both; width: auto !important; margin: 0 !important;}\n",
       ".dataTables_info, .dataTables_length, .dataTables_filter, .dataTables_paginate{\n",
       "display: inline-block; margin-right: 1em; }\n",
       ".paginate_button { margin-right: 5px; }\n",
       "</style>\n",
       "<script>\n",
       "\n",
       "var astropy_sort_num = function(a, b) {\n",
       "    var a_num = parseFloat(a);\n",
       "    var b_num = parseFloat(b);\n",
       "\n",
       "    if (isNaN(a_num) && isNaN(b_num))\n",
       "        return ((a < b) ? -1 : ((a > b) ? 1 : 0));\n",
       "    else if (!isNaN(a_num) && !isNaN(b_num))\n",
       "        return ((a_num < b_num) ? -1 : ((a_num > b_num) ? 1 : 0));\n",
       "    else\n",
       "        return isNaN(a_num) ? -1 : 1;\n",
       "}\n",
       "\n",
       "require.config({paths: {\n",
       "    datatables: 'https://cdn.datatables.net/1.10.12/js/jquery.dataTables.min'\n",
       "}});\n",
       "require([\"datatables\"], function(){\n",
       "    console.log(\"$('#table4741356344-886602').dataTable()\");\n",
       "    \n",
       "jQuery.extend( jQuery.fn.dataTableExt.oSort, {\n",
       "    \"optionalnum-asc\": astropy_sort_num,\n",
       "    \"optionalnum-desc\": function (a,b) { return -astropy_sort_num(a, b); }\n",
       "});\n",
       "\n",
       "    $('#table4741356344-886602').dataTable({\n",
       "        order: [],\n",
       "        pageLength: 50,\n",
       "        lengthMenu: [[10, 25, 50, 100, 500, 1000, -1], [10, 25, 50, 100, 500, 1000, 'All']],\n",
       "        pagingType: \"full_numbers\",\n",
       "        columnDefs: [{targets: [0, 1, 2, 3, 4, 5, 6, 7, 8, 9, 10, 11, 12, 13, 14, 15, 16, 17, 18, 19, 20, 21, 22, 23, 24, 25, 26, 27, 28, 29, 30, 31, 32, 33, 34, 35, 36, 37, 39, 40, 41, 42, 44, 45, 46, 47, 49, 50, 51, 52, 54, 55, 56, 57, 58, 59, 60, 62, 63, 65, 66, 68, 69, 71, 72, 74, 75, 78, 81, 82, 83, 84, 85, 86, 87, 88, 89, 90, 91, 92, 93, 94, 95, 96, 97, 98, 99, 100, 101, 102, 103, 105, 106, 108, 109, 111, 112, 114, 115, 117, 118, 119, 120, 121, 122, 123, 124, 125, 126, 128, 130, 131, 132, 133, 134, 135, 136, 137, 138, 139, 140, 141, 142, 143, 144, 145, 146, 147, 148, 149, 150, 151, 152, 153, 154, 155, 156, 158, 159, 161, 162, 164, 165, 167, 168, 170, 171, 173, 174, 175, 176, 177, 178, 179, 180, 181, 182, 183, 184, 186, 187, 188, 189, 190, 191, 192, 193, 194, 195, 196, 198, 199, 200, 201, 202, 203, 204, 205, 207, 208, 209, 210, 211, 212, 213, 214, 216, 217, 218, 219, 220, 221, 222, 223, 225, 226, 227, 228, 229, 230, 231, 232, 235], type: \"optionalnum\"}]\n",
       "    });\n",
       "});\n",
       "</script>\n"
      ],
      "text/plain": [
       "<IPython.core.display.HTML object>"
      ]
     },
     "execution_count": 14,
     "metadata": {},
     "output_type": "execute_result"
    }
   ],
   "source": [
    "master_catalogue[:10].show_in_notebook()"
   ]
  },
  {
   "cell_type": "code",
   "execution_count": 15,
   "metadata": {
    "collapsed": true
   },
   "outputs": [],
   "source": [
    "master_catalogue.add_column(Column(data=(np.char.array(master_catalogue['cfhtls-wide_id'].astype(str)) \n",
    "                                    +  np.char.array(master_catalogue['cfhtls-deep_id'].astype(str) )\n",
    "                                         +  np.char.array(master_catalogue['candels_id'].astype(str) )\n",
    "                                    +  np.char.array(master_catalogue['sparcs_intid'].astype(str))), \n",
    "                              name=\"megacam_intid\"))"
   ]
  },
  {
   "cell_type": "code",
   "execution_count": 16,
   "metadata": {},
   "outputs": [
    {
     "name": "stdout",
     "output_type": "stream",
     "text": [
      "['candels_id', 'cfhtls-wide_id', 'cfhtls-deep_id', 'sparcs_intid', 'megacam_intid']\n"
     ]
    }
   ],
   "source": [
    "id_names = []\n",
    "for col in master_catalogue.colnames:\n",
    "    if '_id' in col:\n",
    "        id_names += [col]\n",
    "    if '_intid' in col:\n",
    "        id_names += [col]\n",
    "        \n",
    "print(id_names)"
   ]
  },
  {
   "cell_type": "markdown",
   "metadata": {},
   "source": [
    "## VII - Choosing between multiple values for the same filter\n",
    "\n"
   ]
  },
  {
   "cell_type": "markdown",
   "metadata": {},
   "source": [
    "### VII.a CFHT Megacam fluxes: CFHTLS-DEEP, CFHTLS-WIDE SpARCS, CANDELS, CFHT-WIRDS and VIPERS\n",
    "\n",
    "According to Mattia CFHTLenS is built on the same data as CFHTLS-WIDE and should not be included. I have therefore excluded it from the merge above.\n",
    "\n",
    "CFHTLS-DEEP is prefferred to CFHTLS-WIDE which is prefferred to SpARCS\n",
    "\n",
    "| Survey (in HELP use order)            | Bands                 |\n",
    "|-------------|------------------|\n",
    "| CFHTLS-WIDE | u, g, r, i, z    |\n",
    "| CFHTLS-DEEP | u, g, r, i, z, y |\n",
    "| SpARCS      | u, g, r, z, y    |\n",
    "| CANDELS     | u                |\n",
    "| CFHT-WIRDS     | u, g, r, i, z  (+ WIRCAM J, H, Ks)            |\n",
    "| VIPERS     | u, g, r, i, z, y  (+ WIRCAM Ks)            |\n"
   ]
  },
  {
   "cell_type": "code",
   "execution_count": 17,
   "metadata": {
    "collapsed": true
   },
   "outputs": [],
   "source": [
    "megacam_origin = Table()\n",
    "megacam_origin.add_column(master_catalogue['megacam_intid'])"
   ]
  },
  {
   "cell_type": "code",
   "execution_count": 18,
   "metadata": {
    "collapsed": true
   },
   "outputs": [],
   "source": [
    "megacam_stats = Table()\n",
    "megacam_stats.add_column(Column(data=['u','g','r','i','z','y'], name=\"Band\"))\n",
    "for col in [\"CFHTLS-DEEP\", \"CFHTLS-WIDE\", \"SpARCS\", \"CANDELS\", \"CFHT-WIRDS\", \"VIPERS\"]:\n",
    "    megacam_stats.add_column(Column(data=np.full(6, 0), name=\"{}\".format(col)))\n",
    "    megacam_stats.add_column(Column(data=np.full(6, 0), name=\"use {}\".format(col)))\n",
    "    megacam_stats.add_column(Column(data=np.full(6, 0), name=\"{} ap\".format(col)))\n",
    "    megacam_stats.add_column(Column(data=np.full(6, 0), name=\"use {} ap\".format(col)))\n",
    "    "
   ]
  },
  {
   "cell_type": "code",
   "execution_count": 19,
   "metadata": {
    "collapsed": true
   },
   "outputs": [],
   "source": [
    "\n",
    "megacam_bands = ['u','g','r','i','z','y'] # Lowercase naming convention (k is Ks)\n",
    "for band in megacam_bands:\n",
    "\n",
    "    # Megacam total flux \n",
    "    has_cfhtls_deep = ~np.isnan(master_catalogue['f_cfhtls-deep_' + band])\n",
    "    if band == 'y':\n",
    "        has_cfhtls_wide = np.full(len(master_catalogue), False, dtype=bool)\n",
    "    else:\n",
    "        has_cfhtls_wide = ~np.isnan(master_catalogue['f_cfhtls-wide_' + band])\n",
    "        \n",
    "    if band == 'i':\n",
    "        has_sparcs = np.full(len(master_catalogue), False, dtype=bool)\n",
    "    else:\n",
    "        has_sparcs = ~np.isnan(master_catalogue['f_sparcs_' + band])\n",
    "        \n",
    "    if band == 'u':\n",
    "        has_candels = ~np.isnan(master_catalogue['f_candels-megacam_' + band])\n",
    "    else:\n",
    "        has_candels = np.full(len(master_catalogue), False, dtype=bool)\n",
    "        \n",
    "    if band == 'y':\n",
    "        has_wirds = np.full(len(master_catalogue), False, dtype=bool)\n",
    "    else:\n",
    "        has_wirds = ~np.isnan(master_catalogue['f_wirds_' + band])\n",
    "        \n",
    "    has_vipers =  = ~np.isnan(master_catalogue['f_vipers_' + band])\n",
    "    \n",
    "\n",
    "    use_cfhtls_deep = has_cfhtls_deep \n",
    "    use_cfhtls_wide = has_cfhtls_wide & ~has_cfhtls_deep\n",
    "    use_sparcs = has_sparcs & ~has_cfhtls_wide & ~has_cfhtls_deep\n",
    "    use_candels = has_candels & ~has_sparcs & ~has_cfhtls_wide & ~has_cfhtls_deep\n",
    "    use_wirds = has_wirds & ~has_candels & ~has_sparcs & ~has_cfhtls_wide & ~has_cfhtls_deep\n",
    "    use_vipers = has_vipers & ~has_wirds & ~has_candels & ~has_sparcs & ~has_cfhtls_wide & ~has_cfhtls_deep\n",
    "\n",
    "    f_megacam = np.full(len(master_catalogue), np.nan)\n",
    "    f_megacam[use_cfhtls_deep] = master_catalogue['f_cfhtls-deep_' + band][use_cfhtls_deep]\n",
    "    if not (band == 'y'):\n",
    "        f_megacam[use_cfhtls_wide] = master_catalogue['f_cfhtls-wide_' + band][use_cfhtls_wide]\n",
    "    if not (band == 'i'):\n",
    "        f_megacam[use_sparcs] = master_catalogue['f_sparcs_' + band][use_sparcs]\n",
    "    if band == 'u':\n",
    "        f_megacam[use_candels] = master_catalogue['f_candels-megacam_' + band][use_candels] \n",
    "    if not (band == 'y'):\n",
    "        f_megacam[use_wirds] = master_catalogue['f_wirds_' + band][use_wirds]\n",
    "    f_megacam[use_vipers] = master_catalogue['f_vipers_' + band][use_vipers]    \n",
    "\n",
    "    ferr_megacam = np.full(len(master_catalogue), np.nan)\n",
    "    ferr_megacam[use_cfhtls_deep] = master_catalogue['ferr_cfhtls-deep_' + band][use_cfhtls_deep]\n",
    "    if not (band == 'y'):\n",
    "        ferr_megacam[use_cfhtls_wide] = master_catalogue['ferr_cfhtls-wide_' + band][use_cfhtls_wide]\n",
    "    if not (band == 'i'):\n",
    "        ferr_megacam[use_sparcs] = master_catalogue['ferr_sparcs_' + band][use_sparcs]\n",
    "    if band == 'u':\n",
    "        ferr_megacam[use_candels] = master_catalogue['ferr_candels-megacam_' + band][use_candels]\n",
    "    if not (band == 'y'):\n",
    "        ferr_megacam[use_wirds] = master_catalogue['ferr_wirds_' + band][use_wirds]\n",
    "    ferr_megacam[use_vipers] = master_catalogue['ferr_vipers_' + band][use_vipers] \n",
    "    \n",
    "    m_megacam = np.full(len(master_catalogue), np.nan)\n",
    "    m_megacam[use_cfhtls_deep] = master_catalogue['m_cfhtls-deep_' + band][use_cfhtls_deep]\n",
    "    if not (band == 'y'):\n",
    "        m_megacam[use_cfhtls_wide] = master_catalogue['m_cfhtls-wide_' + band][use_cfhtls_wide]\n",
    "    if not (band == 'i'):\n",
    "        m_megacam[use_sparcs] = master_catalogue['m_sparcs_' + band][use_sparcs]\n",
    "    if band == 'u':\n",
    "        m_megacam[use_candels] = master_catalogue['m_candels-megacam_' + band][use_candels]\n",
    "    if not (band == 'y'):\n",
    "        m_megacam[use_wirds] = master_catalogue['m_wirds_' + band][use_wirds]\n",
    "    m_megacam[use_vipers] = master_catalogue['m_vipers_' + band][use_vipers] \n",
    "\n",
    "    merr_megacam = np.full(len(master_catalogue), np.nan)\n",
    "    merr_megacam[use_cfhtls_deep] = master_catalogue['merr_cfhtls-deep_' + band][use_cfhtls_deep]\n",
    "    if not (band == 'y'):\n",
    "        merr_megacam[use_cfhtls_wide] = master_catalogue['merr_cfhtls-wide_' + band][use_cfhtls_wide]\n",
    "    if not (band == 'i'):\n",
    "        merr_megacam[use_sparcs] = master_catalogue['merr_sparcs_' + band][use_sparcs]\n",
    "    if band == 'u':\n",
    "        merr_megacam[use_candels] = master_catalogue['merr_candels-megacam_' + band][use_candels]\n",
    "    if not (band == 'y'):\n",
    "        merr_megacam[use_wirds] = master_catalogue['merr_wirds_' + band][use_wirds]\n",
    "    merr_megacam[use_vipers] = master_catalogue['merr_vipers_' + band][use_vipers] \n",
    "\n",
    "    flag_megacam = np.full(len(master_catalogue), False, dtype=bool)\n",
    "    flag_megacam[use_cfhtls_deep] = master_catalogue['flag_cfhtls-deep_' + band][use_cfhtls_deep]\n",
    "    if not (band == 'y'):\n",
    "        flag_megacam[use_cfhtls_wide] = master_catalogue['flag_cfhtls-wide_' + band][use_cfhtls_wide]\n",
    "    if not (band == 'i'):\n",
    "        flag_megacam[use_sparcs] = master_catalogue['flag_sparcs_' + band][use_sparcs]\n",
    "    if band == 'u':\n",
    "        flag_megacam[use_candels] = master_catalogue['flag_candels-megacam_' + band][use_candels]\n",
    "    if not (band == 'y'):\n",
    "        flag_megacam[use_wirds] = master_catalogue['flag_wirds_' + band][use_wirds]\n",
    "    flag_megacam[use_vipers] = master_catalogue['flag_vipers_' + band][use_vipers] \n",
    "\n",
    "    master_catalogue.add_column(Column(data=f_megacam, name=\"f_megacam_\" + band))\n",
    "    master_catalogue.add_column(Column(data=ferr_megacam, name=\"ferr_megacam_\" + band))\n",
    "    master_catalogue.add_column(Column(data=m_megacam, name=\"m_megacam_\" + band))\n",
    "    master_catalogue.add_column(Column(data=merr_megacam, name=\"merr_megacam_\" + band))\n",
    "    master_catalogue.add_column(Column(data=flag_megacam, name=\"flag_megacam_\" + band))\n",
    "\n",
    "    old_cfhtls_deep_columns = ['f_cfhtls-deep_' + band,\n",
    "                               'ferr_cfhtls-deep_' + band,\n",
    "                               'm_cfhtls-deep_' + band, \n",
    "                               'merr_cfhtls-deep_' + band,\n",
    "                               'flag_cfhtls-deep_' + band]\n",
    "    old_cfhtls_wide_columns = ['f_cfhtls-wide_' + band,\n",
    "                               'ferr_cfhtls-wide_' + band,\n",
    "                               'm_cfhtls-wide_' + band, \n",
    "                               'merr_cfhtls-wide_' + band,\n",
    "                               'flag_cfhtls-wide_' + band]\n",
    "    old_sparcs_columns =      ['f_sparcs_' + band,\n",
    "                               'ferr_sparcs_' + band,\n",
    "                               'm_sparcs_' + band, \n",
    "                               'merr_sparcs_' + band,\n",
    "                               'flag_sparcs_' + band]\n",
    "    old_candels_columns =     ['f_candels-megacam_' + band,\n",
    "                               'ferr_candels-megacam_' + band,\n",
    "                               'm_candels-megacam_' + band, \n",
    "                               'merr_candels-megacam_' + band,\n",
    "                               'flag_candels-megacam_' + band]\n",
    "    \n",
    "    if (band == 'i'):\n",
    "        old_columns = old_cfhtls_deep_columns + old_cfhtls_wide_columns\n",
    "    elif (band == 'y'):\n",
    "        old_columns = old_cfhtls_deep_columns + old_sparcs_columns\n",
    "    else:\n",
    "        old_columns = old_cfhtls_deep_columns + old_cfhtls_wide_columns + old_sparcs_columns\n",
    "    if band == 'u':\n",
    "        old_columns = old_columns + old_candels_columns\n",
    "    \n",
    "    old_columns = []\n",
    "    column_types = ['f', 'ferr', 'm', 'merr', 'flag'] \n",
    "    for col_t in column_types:\n",
    "        old_columns += ['{}_cfhtls-deep_{}'.format(col_t)]\n",
    "    \n",
    "        \n",
    "    master_catalogue.remove_columns(old_columns)\n",
    "\n",
    "    origin = np.full(len(master_catalogue), '     ', dtype='<U5')\n",
    "    origin[use_cfhtls_deep] = \"CFHTLS-DEEP\"\n",
    "    origin[use_cfhtls_wide] = \"CFHTLS-WIDE\"\n",
    "    origin[use_sparcs] = \"SpARCS\"\n",
    "    origin[use_candels] = \"CANDELS\"\n",
    "    \n",
    "    megacam_origin.add_column(Column(data=origin, name= 'f_megacam_' + band ))\n",
    "    \n",
    "    # Megacam aperture flux \n",
    "    has_ap_cfhtls_deep = ~np.isnan(master_catalogue['f_ap_cfhtls-deep_' + band])\n",
    "    if band == 'y':\n",
    "        has_ap_cfhtls_wide = np.full(len(master_catalogue), False, dtype=bool)\n",
    "    else:\n",
    "        has_ap_cfhtls_wide = ~np.isnan(master_catalogue['f_ap_cfhtls-wide_' + band])\n",
    "    if band == 'i':\n",
    "        has_ap_sparcs = np.full(len(master_catalogue), False, dtype=bool)\n",
    "    else:\n",
    "        has_ap_sparcs = ~np.isnan(master_catalogue['f_ap_sparcs_' + band])\n",
    "    \n",
    "\n",
    "    use_ap_cfhtls_deep = has_ap_cfhtls_deep \n",
    "    use_ap_cfhtls_wide = has_ap_cfhtls_wide & ~has_ap_cfhtls_deep\n",
    "    use_ap_sparcs = has_ap_sparcs & ~has_ap_cfhtls_wide & ~has_ap_cfhtls_deep\n",
    "\n",
    "    f_ap_megacam = np.full(len(master_catalogue), np.nan)\n",
    "    f_ap_megacam[use_ap_cfhtls_deep] = master_catalogue['f_ap_cfhtls-deep_' + band][use_ap_cfhtls_deep]\n",
    "    if not (band == 'y'):\n",
    "        f_ap_megacam[use_ap_cfhtls_wide] = master_catalogue['f_ap_cfhtls-wide_' + band][use_ap_cfhtls_wide]\n",
    "    if not (band == 'i'):\n",
    "        f_ap_megacam[use_ap_sparcs] = master_catalogue['f_ap_sparcs_' + band][use_ap_sparcs]\n",
    "\n",
    "    ferr_ap_megacam = np.full(len(master_catalogue), np.nan)\n",
    "    ferr_ap_megacam[use_ap_cfhtls_deep] = master_catalogue['ferr_ap_cfhtls-deep_' + band][use_ap_cfhtls_deep]\n",
    "    if not (band == 'y'):\n",
    "        ferr_ap_megacam[use_ap_cfhtls_wide] = master_catalogue['ferr_ap_cfhtls-wide_' + band][use_ap_cfhtls_wide]\n",
    "    if not (band == 'i'):\n",
    "        ferr_ap_megacam[use_ap_sparcs] = master_catalogue['ferr_ap_sparcs_' + band][use_ap_sparcs]\n",
    "    \n",
    "    m_ap_megacam = np.full(len(master_catalogue), np.nan)\n",
    "    m_ap_megacam[use_ap_cfhtls_deep] = master_catalogue['m_ap_cfhtls-deep_' + band][use_ap_cfhtls_deep]\n",
    "    if not (band == 'y'):\n",
    "        m_ap_megacam[use_ap_cfhtls_wide] = master_catalogue['m_ap_cfhtls-wide_' + band][use_ap_cfhtls_wide]\n",
    "    if not (band == 'i'):\n",
    "        m_ap_megacam[use_ap_sparcs] = master_catalogue['m_ap_sparcs_' + band][use_ap_sparcs]\n",
    "\n",
    "    merr_ap_megacam = np.full(len(master_catalogue), np.nan)\n",
    "    merr_ap_megacam[use_ap_cfhtls_deep] = master_catalogue['merr_ap_cfhtls-deep_' + band][use_ap_cfhtls_deep]\n",
    "    if not (band == 'y'):\n",
    "        merr_ap_megacam[use_ap_cfhtls_wide] = master_catalogue['merr_ap_cfhtls-wide_' + band][use_ap_cfhtls_wide]\n",
    "    if not (band == 'i'):\n",
    "        merr_ap_megacam[use_ap_sparcs] = master_catalogue['merr_ap_sparcs_' + band][use_ap_sparcs]\n",
    "\n",
    "\n",
    "\n",
    "    master_catalogue.add_column(Column(data=f_ap_megacam, name=\"f_ap_megacam_\" + band))\n",
    "    master_catalogue.add_column(Column(data=ferr_ap_megacam, name=\"ferr_ap_megacam_\" + band))\n",
    "    master_catalogue.add_column(Column(data=m_ap_megacam, name=\"m_ap_megacam_\" + band))\n",
    "    master_catalogue.add_column(Column(data=merr_ap_megacam, name=\"merr_ap_megacam_\" + band))\n",
    "\n",
    "\n",
    "    old_ap_cfhtls_deep_columns = ['f_ap_cfhtls-deep_' + band,\n",
    "                               'ferr_ap_cfhtls-deep_' + band,\n",
    "                               'm_ap_cfhtls-deep_' + band, \n",
    "                               'merr_ap_cfhtls-deep_' + band]\n",
    "    old_ap_cfhtls_wide_columns = ['f_ap_cfhtls-wide_' + band,\n",
    "                               'ferr_ap_cfhtls-wide_' + band,\n",
    "                               'm_ap_cfhtls-wide_' + band, \n",
    "                               'merr_ap_cfhtls-wide_' + band]\n",
    "    old_ap_sparcs_columns =      ['f_ap_sparcs_' + band,\n",
    "                               'ferr_ap_sparcs_' + band,\n",
    "                               'm_ap_sparcs_' + band, \n",
    "                               'merr_ap_sparcs_' + band]\n",
    "    \n",
    "    if (band == 'i'):\n",
    "        old_ap_columns = old_ap_cfhtls_deep_columns + old_ap_cfhtls_wide_columns\n",
    "    elif (band == 'y'):\n",
    "        old_ap_columns = old_ap_cfhtls_deep_columns + old_ap_sparcs_columns\n",
    "    else:\n",
    "        old_ap_columns = old_ap_cfhtls_deep_columns + old_ap_cfhtls_wide_columns + old_ap_sparcs_columns\n",
    "    master_catalogue.remove_columns(old_ap_columns)\n",
    "\n",
    "    origin_ap = np.full(len(master_catalogue), '     ', dtype='<U5')\n",
    "    origin_ap[use_ap_cfhtls_deep] = \"CFHTLS-DEEP\"\n",
    "    origin_ap[use_ap_cfhtls_wide] = \"CFHTLS-WIDE\"\n",
    "    origin_ap[use_ap_sparcs] = \"SpARCS\"\n",
    "    \n",
    "    megacam_origin.add_column(Column(data=origin_ap, name= 'f_ap_megacam_' + band ))\n",
    "    \n",
    "\n",
    "   \n",
    "    megacam_stats['CFHTLS-DEEP'][megacam_stats['Band'] == band] = np.sum(has_cfhtls_deep)\n",
    "    megacam_stats['CFHTLS-WIDE'][megacam_stats['Band'] == band] = np.sum(has_cfhtls_wide)\n",
    "    megacam_stats['SpARCS'][megacam_stats['Band'] == band] = np.sum(has_sparcs)\n",
    "    megacam_stats['CANDELS'][megacam_stats['Band'] == band] = np.sum(has_candels)\n",
    "    megacam_stats['use CFHTLS-DEEP'][megacam_stats['Band'] == band] = np.sum(use_cfhtls_deep)\n",
    "    megacam_stats['use CFHTLS-WIDE'][megacam_stats['Band'] == band] = np.sum(use_cfhtls_wide)\n",
    "    megacam_stats['use SpARCS'][megacam_stats['Band'] == band] = np.sum(use_sparcs)\n",
    "    megacam_stats['use CANDELS'][megacam_stats['Band'] == band] = np.sum(use_candels)\n",
    "    megacam_stats['CFHTLS-DEEP ap'][megacam_stats['Band'] == band] = np.sum(has_ap_cfhtls_deep)\n",
    "    megacam_stats['CFHTLS-WIDE ap'][megacam_stats['Band'] == band] = np.sum(has_ap_cfhtls_wide)\n",
    "    megacam_stats['SpARCS ap'][megacam_stats['Band'] == band] = np.sum(has_ap_sparcs)\n",
    "    megacam_stats['use CFHTLS-DEEP ap'][megacam_stats['Band'] == band] = np.sum(use_ap_cfhtls_deep)\n",
    "    megacam_stats['use CFHTLS-WIDE ap'][megacam_stats['Band'] == band] = np.sum(use_ap_cfhtls_wide)\n",
    "    megacam_stats['use SpARCS ap'][megacam_stats['Band'] == band] = np.sum(use_ap_sparcs)"
   ]
  },
  {
   "cell_type": "code",
   "execution_count": 20,
   "metadata": {},
   "outputs": [
    {
     "data": {
      "text/html": [
       "&lt;Table length=6&gt;\n",
       "<table id=\"table4958474872-217643\" class=\"table-striped table-bordered table-condensed\">\n",
       "<thead><tr><th>idx</th><th>Band</th><th>CFHTLS-DEEP</th><th>use CFHTLS-DEEP</th><th>CFHTLS-DEEP ap</th><th>use CFHTLS-DEEP ap</th><th>CFHTLS-WIDE</th><th>use CFHTLS-WIDE</th><th>CFHTLS-WIDE ap</th><th>use CFHTLS-WIDE ap</th><th>SpARCS</th><th>use SpARCS</th><th>SpARCS ap</th><th>use SpARCS ap</th><th>CANDELS</th><th>use CANDELS</th><th>CANDELS ap</th><th>use CANDELS ap</th></tr></thead>\n",
       "<tr><td>0</td><td>u</td><td>2630</td><td>2630</td><td>2641</td><td>2641</td><td>1228</td><td>189</td><td>1247</td><td>194</td><td>4290</td><td>4290</td><td>4152</td><td>4152</td><td>35931</td><td>35931</td><td>0</td><td>0</td></tr>\n",
       "<tr><td>1</td><td>g</td><td>3051</td><td>3051</td><td>3037</td><td>3037</td><td>1347</td><td>194</td><td>1357</td><td>195</td><td>4550</td><td>4550</td><td>4472</td><td>4472</td><td>0</td><td>0</td><td>0</td><td>0</td></tr>\n",
       "<tr><td>2</td><td>r</td><td>3130</td><td>3130</td><td>3135</td><td>3135</td><td>1350</td><td>197</td><td>1355</td><td>200</td><td>4852</td><td>4852</td><td>4808</td><td>4808</td><td>0</td><td>0</td><td>0</td><td>0</td></tr>\n",
       "<tr><td>3</td><td>i</td><td>3123</td><td>3123</td><td>3126</td><td>3126</td><td>1319</td><td>194</td><td>1328</td><td>195</td><td>0</td><td>0</td><td>0</td><td>0</td><td>0</td><td>0</td><td>0</td><td>0</td></tr>\n",
       "<tr><td>4</td><td>z</td><td>2779</td><td>2779</td><td>2811</td><td>2811</td><td>1158</td><td>179</td><td>1206</td><td>186</td><td>4423</td><td>4423</td><td>4144</td><td>4144</td><td>0</td><td>0</td><td>0</td><td>0</td></tr>\n",
       "<tr><td>5</td><td>y</td><td>2913</td><td>2913</td><td>2928</td><td>2928</td><td>0</td><td>0</td><td>0</td><td>0</td><td>4559</td><td>4559</td><td>4404</td><td>4404</td><td>0</td><td>0</td><td>0</td><td>0</td></tr>\n",
       "</table><style>table.dataTable {clear: both; width: auto !important; margin: 0 !important;}\n",
       ".dataTables_info, .dataTables_length, .dataTables_filter, .dataTables_paginate{\n",
       "display: inline-block; margin-right: 1em; }\n",
       ".paginate_button { margin-right: 5px; }\n",
       "</style>\n",
       "<script>\n",
       "\n",
       "var astropy_sort_num = function(a, b) {\n",
       "    var a_num = parseFloat(a);\n",
       "    var b_num = parseFloat(b);\n",
       "\n",
       "    if (isNaN(a_num) && isNaN(b_num))\n",
       "        return ((a < b) ? -1 : ((a > b) ? 1 : 0));\n",
       "    else if (!isNaN(a_num) && !isNaN(b_num))\n",
       "        return ((a_num < b_num) ? -1 : ((a_num > b_num) ? 1 : 0));\n",
       "    else\n",
       "        return isNaN(a_num) ? -1 : 1;\n",
       "}\n",
       "\n",
       "require.config({paths: {\n",
       "    datatables: 'https://cdn.datatables.net/1.10.12/js/jquery.dataTables.min'\n",
       "}});\n",
       "require([\"datatables\"], function(){\n",
       "    console.log(\"$('#table4958474872-217643').dataTable()\");\n",
       "    \n",
       "jQuery.extend( jQuery.fn.dataTableExt.oSort, {\n",
       "    \"optionalnum-asc\": astropy_sort_num,\n",
       "    \"optionalnum-desc\": function (a,b) { return -astropy_sort_num(a, b); }\n",
       "});\n",
       "\n",
       "    $('#table4958474872-217643').dataTable({\n",
       "        order: [],\n",
       "        pageLength: 50,\n",
       "        lengthMenu: [[10, 25, 50, 100, 500, 1000, -1], [10, 25, 50, 100, 500, 1000, 'All']],\n",
       "        pagingType: \"full_numbers\",\n",
       "        columnDefs: [{targets: [0, 2, 3, 4, 5, 6, 7, 8, 9, 10, 11, 12, 13, 14, 15, 16, 17], type: \"optionalnum\"}]\n",
       "    });\n",
       "});\n",
       "</script>\n"
      ],
      "text/plain": [
       "<IPython.core.display.HTML object>"
      ]
     },
     "execution_count": 20,
     "metadata": {},
     "output_type": "execute_result"
    }
   ],
   "source": [
    "megacam_stats.show_in_notebook()"
   ]
  },
  {
   "cell_type": "code",
   "execution_count": 21,
   "metadata": {
    "collapsed": true
   },
   "outputs": [],
   "source": [
    "megacam_origin.write(\"{}/xmm-lss_megacam_fluxes_origins{}.fits\".format(OUT_DIR, SUFFIX), overwrite=True)"
   ]
  },
  {
   "cell_type": "markdown",
   "metadata": {},
   "source": [
    "### VII.b CFHT WIRCAM fluxes: CFHT-WIRDS and VIPERS\n",
    "\n",
    "We take WIRDS over VIPERS"
   ]
  },
  {
   "cell_type": "code",
   "execution_count": null,
   "metadata": {
    "collapsed": true
   },
   "outputs": [],
   "source": []
  },
  {
   "cell_type": "code",
   "execution_count": null,
   "metadata": {
    "collapsed": true
   },
   "outputs": [],
   "source": []
  },
  {
   "cell_type": "code",
   "execution_count": null,
   "metadata": {
    "collapsed": true
   },
   "outputs": [],
   "source": []
  },
  {
   "cell_type": "code",
   "execution_count": null,
   "metadata": {
    "collapsed": true
   },
   "outputs": [],
   "source": []
  },
  {
   "cell_type": "markdown",
   "metadata": {},
   "source": [
    "## XI - Saving the catalogue"
   ]
  },
  {
   "cell_type": "code",
   "execution_count": 22,
   "metadata": {
    "collapsed": true
   },
   "outputs": [],
   "source": [
    "master_catalogue.write(\"{}/megacam_merged_catalogue_xmm-lss.fits\".format(TMP_DIR), overwrite=True)"
   ]
  }
 ],
 "metadata": {
  "kernelspec": {
   "display_name": "Python (herschelhelp_internal)",
   "language": "python",
   "name": "helpint"
  },
  "language_info": {
   "codemirror_mode": {
    "name": "ipython",
    "version": 3
   },
   "file_extension": ".py",
   "mimetype": "text/x-python",
   "name": "python",
   "nbconvert_exporter": "python",
   "pygments_lexer": "ipython3",
   "version": "3.6.1"
  }
 },
 "nbformat": 4,
 "nbformat_minor": 2
}
