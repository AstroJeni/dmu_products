{
 "cells": [
  {
   "cell_type": "markdown",
   "metadata": {},
   "source": [
    "# XMM-LSS master catalogue\n",
    "\n",
    "This notebook presents the merge of the pristine catalogues from CFHT Megacam. This has to be conducted separately on XMM-LSS due to the large amount of memory required on this field.\n",
    "\n"
   ]
  },
  {
   "cell_type": "code",
   "execution_count": 1,
   "metadata": {},
   "outputs": [
    {
     "name": "stdout",
     "output_type": "stream",
     "text": [
      "This notebook was run with herschelhelp_internal version: \n",
      "33f5ec7 (Wed Dec 6 16:56:17 2017 +0000)\n"
     ]
    }
   ],
   "source": [
    "from herschelhelp_internal import git_version\n",
    "print(\"This notebook was run with herschelhelp_internal version: \\n{}\".format(git_version()))"
   ]
  },
  {
   "cell_type": "code",
   "execution_count": 2,
   "metadata": {},
   "outputs": [],
   "source": [
    "%matplotlib inline\n",
    "#%config InlineBackend.figure_format = 'svg'\n",
    "\n",
    "import matplotlib.pyplot as plt\n",
    "plt.rc('figure', figsize=(10, 6))\n",
    "\n",
    "import os\n",
    "import time\n",
    "\n",
    "from astropy import units as u\n",
    "from astropy.coordinates import SkyCoord\n",
    "from astropy.table import Column, Table\n",
    "import numpy as np\n",
    "from pymoc import MOC\n",
    "\n",
    "from herschelhelp_internal.masterlist import merge_catalogues, nb_merge_dist_plot, specz_merge\n",
    "from herschelhelp_internal.utils import coords_to_hpidx, ebv, gen_help_id, inMoc"
   ]
  },
  {
   "cell_type": "code",
   "execution_count": 3,
   "metadata": {
    "collapsed": true
   },
   "outputs": [],
   "source": [
    "TMP_DIR = os.environ.get('TMP_DIR', \"./data_tmp\")\n",
    "OUT_DIR = os.environ.get('OUT_DIR', \"./data\")\n",
    "SUFFIX = os.environ.get('SUFFIX', time.strftime(\"_%Y%m%d\"))\n",
    "\n",
    "try:\n",
    "    os.makedirs(OUT_DIR)\n",
    "except FileExistsError:\n",
    "    pass"
   ]
  },
  {
   "cell_type": "markdown",
   "metadata": {},
   "source": [
    "## I - Reading the prepared pristine catalogues"
   ]
  },
  {
   "cell_type": "code",
   "execution_count": 4,
   "metadata": {
    "collapsed": true
   },
   "outputs": [],
   "source": [
    "#candels = Table.read(\"{}/CANDELS.fits\".format(TMP_DIR))           # 1.1\n",
    "#cfht_wirds = Table.read(\"{}/CFHT-WIRDS.fits\".format(TMP_DIR))     # 1.3\n",
    "cfhtls_wide = Table.read(\"{}/CFHTLS-WIDE.fits\".format(TMP_DIR))   # 1.4a\n",
    "cfhtls_deep = Table.read(\"{}/CFHTLS-DEEP.fits\".format(TMP_DIR))   # 1.4b\n",
    "#We no longer use CFHTLenS as it is the same raw data set as CFHTLS-WIDE\n",
    "# cfhtlens = Table.read(\"{}/CFHTLENS.fits\".format(TMP_DIR))         # 1.5\n",
    "#decals = Table.read(\"{}/DECaLS.fits\".format(TMP_DIR))             # 1.6\n",
    "#servs = Table.read(\"{}/SERVS.fits\".format(TMP_DIR))               # 1.8\n",
    "#swire = Table.read(\"{}/SWIRE.fits\".format(TMP_DIR))               # 1.7\n",
    "#hsc_wide = Table.read(\"{}/HSC-WIDE.fits\".format(TMP_DIR))         # 1.9a\n",
    "#hsc_deep = Table.read(\"{}/HSC-DEEP.fits\".format(TMP_DIR))         # 1.9b\n",
    "#hsc_udeep = Table.read(\"{}/HSC-UDEEP.fits\".format(TMP_DIR))       # 1.9c\n",
    "#ps1 = Table.read(\"{}/PS1.fits\".format(TMP_DIR))                   # 1.10\n",
    "#sxds = Table.read(\"{}/SXDS.fits\".format(TMP_DIR))                 # 1.11\n",
    "sparcs = Table.read(\"{}/SpARCS.fits\".format(TMP_DIR))             # 1.12\n",
    "#dxs = Table.read(\"{}/UKIDSS-DXS.fits\".format(TMP_DIR))            # 1.13\n",
    "#uds = Table.read(\"{}/UKIDSS-UDS.fits\".format(TMP_DIR))            # 1.14\n",
    "#vipers = Table.read(\"{}/VIPERS.fits\".format(TMP_DIR))             # 1.15\n",
    "#vhs = Table.read(\"{}/VISTA-VHS.fits\".format(TMP_DIR))             # 1.16\n",
    "#video = Table.read(\"{}/VISTA-VIDEO.fits\".format(TMP_DIR))         # 1.17\n",
    "#viking = Table.read(\"{}/VISTA-VIKING.fits\".format(TMP_DIR))       # 1.18"
   ]
  },
  {
   "cell_type": "markdown",
   "metadata": {},
   "source": [
    "## II - Merging tables\n",
    "\n",
    "We first merge the optical catalogues and then add the infrared ones. We start with PanSTARRS because it coevrs the whole field.\n",
    "\n",
    "At every step, we look at the distribution of the distances to the nearest source in the merged catalogue to determine the best crossmatching radius."
   ]
  },
  {
   "cell_type": "markdown",
   "metadata": {},
   "source": [
    "###  Start with CFHTLS-WIDE"
   ]
  },
  {
   "cell_type": "code",
   "execution_count": 5,
   "metadata": {
    "collapsed": true
   },
   "outputs": [],
   "source": [
    "master_catalogue = cfhtls_wide\n",
    "master_catalogue['cfhtls-wide_ra'].name = 'ra'\n",
    "master_catalogue['cfhtls-wide_dec'].name = 'dec'\n",
    "del cfhtls_wide"
   ]
  },
  {
   "cell_type": "markdown",
   "metadata": {},
   "source": [
    "### Add CFHTLS-DEEP"
   ]
  },
  {
   "cell_type": "code",
   "execution_count": 6,
   "metadata": {},
   "outputs": [
    {
     "data": {
      "image/png": "[encoded data removed]",
      "text/plain": [
       "<matplotlib.figure.Figure at 0x7fe3216bf0b8>"
      ]
     },
     "metadata": {},
     "output_type": "display_data"
    }
   ],
   "source": [
    "nb_merge_dist_plot(\n",
    "    SkyCoord(master_catalogue['ra'], master_catalogue['dec']),\n",
    "    SkyCoord(cfhtls_deep['cfhtls-deep_ra'], cfhtls_deep['cfhtls-deep_dec'])\n",
    ")"
   ]
  },
  {
   "cell_type": "code",
   "execution_count": 7,
   "metadata": {
    "collapsed": true
   },
   "outputs": [],
   "source": [
    "# Given the graph above, we use 0.8 arc-second radius\n",
    "master_catalogue = merge_catalogues(master_catalogue, \n",
    "                                    cfhtls_deep, \n",
    "                                    \"cfhtls-deep_ra\", \n",
    "                                    \"cfhtls-deep_dec\", \n",
    "                                    radius=0.8*u.arcsec)"
   ]
  },
  {
   "cell_type": "markdown",
   "metadata": {},
   "source": [
    "### Add SpARCS"
   ]
  },
  {
   "cell_type": "code",
   "execution_count": 8,
   "metadata": {},
   "outputs": [
    {
     "data": {
      "image/png": "[encoded data removed]",
      "text/plain": [
       "<matplotlib.figure.Figure at 0x7fe31bffac88>"
      ]
     },
     "metadata": {},
     "output_type": "display_data"
    }
   ],
   "source": [
    "nb_merge_dist_plot(\n",
    "    SkyCoord(master_catalogue['ra'], master_catalogue['dec']),\n",
    "    SkyCoord(sparcs['sparcs_ra'], sparcs['sparcs_dec'])\n",
    ")"
   ]
  },
  {
   "cell_type": "code",
   "execution_count": 9,
   "metadata": {
    "collapsed": true
   },
   "outputs": [],
   "source": [
    "# Given the graph above, we use 0.8 arc-second radius\n",
    "master_catalogue = merge_catalogues(master_catalogue, sparcs, \"sparcs_ra\", \"sparcs_dec\", radius=0.8*u.arcsec)"
   ]
  },
  {
   "cell_type": "markdown",
   "metadata": {},
   "source": [
    "### Cleaning\n",
    "\n",
    "When we merge the catalogues, astropy masks the non-existent values (e.g. when a row comes only from a catalogue and has no counterparts in the other, the columns from the latest are masked for that row). We indicate to use NaN for masked values for floats columns, False for flag columns and -1 for ID columns."
   ]
  },
  {
   "cell_type": "code",
   "execution_count": 10,
   "metadata": {
    "collapsed": true
   },
   "outputs": [],
   "source": [
    "for col in master_catalogue.colnames:\n",
    "    if \"m_\" in col or \"merr_\" in col or \"f_\" in col or \"ferr_\" in col or \"stellarity\" in col:\n",
    "        master_catalogue[col] = master_catalogue[col].astype(float)\n",
    "        master_catalogue[col].fill_value = np.nan\n",
    "    elif \"flag\" in col:\n",
    "        master_catalogue[col].fill_value = 0\n",
    "    elif \"id\" in col:\n",
    "        master_catalogue[col].fill_value = -1\n",
    "        \n",
    "master_catalogue = master_catalogue.filled()"
   ]
  },
  {
   "cell_type": "code",
   "execution_count": 11,
   "metadata": {
    "collapsed": true
   },
   "outputs": [],
   "source": [
    "#Since this is not the final merged catalogue. We rename column names to make them unique\n",
    "master_catalogue['ra'].name = 'megacam_ra'\n",
    "master_catalogue['dec'].name = 'megacam_dec'\n",
    "master_catalogue['flag_merged'].name = 'megacam_flag_merged'"
   ]
  },
  {
   "cell_type": "code",
   "execution_count": 12,
   "metadata": {},
   "outputs": [
    {
     "data": {
      "text/html": [
       "&lt;Table length=10&gt;\n",
       "<table id=\"table140613493975752-889031\" class=\"table-striped table-bordered table-condensed\">\n",
       "<thead><tr><th>idx</th><th>cfhtls-wide_id</th><th>megacam_ra</th><th>megacam_dec</th><th>cfhtls-wide_stellarity</th><th>m_cfhtls-wide_u</th><th>merr_cfhtls-wide_u</th><th>m_cfhtls-wide_g</th><th>merr_cfhtls-wide_g</th><th>m_cfhtls-wide_r</th><th>merr_cfhtls-wide_r</th><th>m_cfhtls-wide_i</th><th>merr_cfhtls-wide_i</th><th>m_cfhtls-wide_z</th><th>merr_cfhtls-wide_z</th><th>m_ap_cfhtls-wide_u</th><th>merr_ap_cfhtls-wide_u</th><th>m_ap_cfhtls-wide_g</th><th>merr_ap_cfhtls-wide_g</th><th>m_ap_cfhtls-wide_r</th><th>merr_ap_cfhtls-wide_r</th><th>m_ap_cfhtls-wide_i</th><th>merr_ap_cfhtls-wide_i</th><th>m_ap_cfhtls-wide_z</th><th>merr_ap_cfhtls-wide_z</th><th>f_cfhtls-wide_u</th><th>ferr_cfhtls-wide_u</th><th>flag_cfhtls-wide_u</th><th>f_cfhtls-wide_g</th><th>ferr_cfhtls-wide_g</th><th>flag_cfhtls-wide_g</th><th>f_cfhtls-wide_r</th><th>ferr_cfhtls-wide_r</th><th>flag_cfhtls-wide_r</th><th>f_cfhtls-wide_i</th><th>ferr_cfhtls-wide_i</th><th>flag_cfhtls-wide_i</th><th>f_cfhtls-wide_z</th><th>ferr_cfhtls-wide_z</th><th>flag_cfhtls-wide_z</th><th>f_ap_cfhtls-wide_u</th><th>ferr_ap_cfhtls-wide_u</th><th>f_ap_cfhtls-wide_g</th><th>ferr_ap_cfhtls-wide_g</th><th>f_ap_cfhtls-wide_r</th><th>ferr_ap_cfhtls-wide_r</th><th>f_ap_cfhtls-wide_i</th><th>ferr_ap_cfhtls-wide_i</th><th>f_ap_cfhtls-wide_z</th><th>ferr_ap_cfhtls-wide_z</th><th>cfhtls-wide_flag_cleaned</th><th>cfhtls-wide_flag_gaia</th><th>megacam_flag_merged</th><th>cfhtls-deep_id</th><th>cfhtls-deep_stellarity</th><th>m_cfhtls-deep_u</th><th>merr_cfhtls-deep_u</th><th>m_cfhtls-deep_g</th><th>merr_cfhtls-deep_g</th><th>m_cfhtls-deep_r</th><th>merr_cfhtls-deep_r</th><th>m_cfhtls-deep_i</th><th>merr_cfhtls-deep_i</th><th>m_cfhtls-deep_z</th><th>merr_cfhtls-deep_z</th><th>m_cfhtls-deep_y</th><th>merr_cfhtls-deep_y</th><th>m_ap_cfhtls-deep_u</th><th>merr_ap_cfhtls-deep_u</th><th>m_ap_cfhtls-deep_g</th><th>merr_ap_cfhtls-deep_g</th><th>m_ap_cfhtls-deep_r</th><th>merr_ap_cfhtls-deep_r</th><th>m_ap_cfhtls-deep_i</th><th>merr_ap_cfhtls-deep_i</th><th>m_ap_cfhtls-deep_z</th><th>merr_ap_cfhtls-deep_z</th><th>m_ap_cfhtls-deep_y</th><th>merr_ap_cfhtls-deep_y</th><th>f_cfhtls-deep_u</th><th>ferr_cfhtls-deep_u</th><th>flag_cfhtls-deep_u</th><th>f_cfhtls-deep_g</th><th>ferr_cfhtls-deep_g</th><th>flag_cfhtls-deep_g</th><th>f_cfhtls-deep_r</th><th>ferr_cfhtls-deep_r</th><th>flag_cfhtls-deep_r</th><th>f_cfhtls-deep_i</th><th>ferr_cfhtls-deep_i</th><th>flag_cfhtls-deep_i</th><th>f_cfhtls-deep_z</th><th>ferr_cfhtls-deep_z</th><th>flag_cfhtls-deep_z</th><th>f_cfhtls-deep_y</th><th>ferr_cfhtls-deep_y</th><th>flag_cfhtls-deep_y</th><th>f_ap_cfhtls-deep_u</th><th>ferr_ap_cfhtls-deep_u</th><th>f_ap_cfhtls-deep_g</th><th>ferr_ap_cfhtls-deep_g</th><th>f_ap_cfhtls-deep_r</th><th>ferr_ap_cfhtls-deep_r</th><th>f_ap_cfhtls-deep_i</th><th>ferr_ap_cfhtls-deep_i</th><th>f_ap_cfhtls-deep_z</th><th>ferr_ap_cfhtls-deep_z</th><th>f_ap_cfhtls-deep_y</th><th>ferr_ap_cfhtls-deep_y</th><th>cfhtls-deep_flag_cleaned</th><th>cfhtls-deep_flag_gaia</th><th>sparcs_intid</th><th>sparcs_stellarity</th><th>m_ap_sparcs_u</th><th>merr_ap_sparcs_u</th><th>f_ap_sparcs_u</th><th>ferr_ap_sparcs_u</th><th>m_sparcs_u</th><th>merr_sparcs_u</th><th>f_sparcs_u</th><th>ferr_sparcs_u</th><th>flag_sparcs_u</th><th>m_ap_sparcs_g</th><th>merr_ap_sparcs_g</th><th>f_ap_sparcs_g</th><th>ferr_ap_sparcs_g</th><th>m_sparcs_g</th><th>merr_sparcs_g</th><th>f_sparcs_g</th><th>ferr_sparcs_g</th><th>flag_sparcs_g</th><th>m_ap_sparcs_r</th><th>merr_ap_sparcs_r</th><th>f_ap_sparcs_r</th><th>ferr_ap_sparcs_r</th><th>m_sparcs_r</th><th>merr_sparcs_r</th><th>f_sparcs_r</th><th>ferr_sparcs_r</th><th>flag_sparcs_r</th><th>m_ap_sparcs_z</th><th>merr_ap_sparcs_z</th><th>f_ap_sparcs_z</th><th>ferr_ap_sparcs_z</th><th>m_sparcs_z</th><th>merr_sparcs_z</th><th>f_sparcs_z</th><th>ferr_sparcs_z</th><th>flag_sparcs_z</th><th>m_ap_sparcs_y</th><th>merr_ap_sparcs_y</th><th>f_ap_sparcs_y</th><th>ferr_ap_sparcs_y</th><th>m_sparcs_y</th><th>merr_sparcs_y</th><th>f_sparcs_y</th><th>ferr_sparcs_y</th><th>flag_sparcs_y</th><th>sparcs_flag_cleaned</th><th>sparcs_flag_gaia</th></tr></thead>\n",
       "<thead><tr><th></th><th></th><th>deg</th><th>deg</th><th></th><th></th><th></th><th></th><th></th><th></th><th></th><th></th><th></th><th></th><th></th><th></th><th></th><th></th><th></th><th></th><th></th><th></th><th></th><th></th><th></th><th></th><th></th><th></th><th></th><th></th><th></th><th></th><th></th><th></th><th></th><th></th><th></th><th></th><th></th><th></th><th></th><th></th><th></th><th></th><th></th><th></th><th></th><th></th><th></th><th></th><th></th><th></th><th></th><th></th><th></th><th></th><th></th><th></th><th></th><th></th><th></th><th></th><th></th><th></th><th></th><th></th><th></th><th></th><th></th><th></th><th></th><th></th><th></th><th></th><th></th><th></th><th></th><th></th><th></th><th></th><th></th><th></th><th></th><th></th><th></th><th></th><th></th><th></th><th></th><th></th><th></th><th></th><th></th><th></th><th></th><th></th><th></th><th></th><th></th><th></th><th></th><th></th><th></th><th></th><th></th><th></th><th></th><th></th><th></th><th></th><th></th><th></th><th></th><th></th><th></th><th></th><th></th><th></th><th></th><th></th><th></th><th></th><th></th><th></th><th></th><th></th><th></th><th></th><th></th><th></th><th></th><th></th><th></th><th></th><th></th><th></th><th></th><th></th><th></th><th></th><th></th><th></th><th></th><th></th><th></th><th></th><th></th><th></th><th></th><th></th><th></th><th></th><th></th><th></th><th></th><th></th><th></th><th></th><th></th><th></th></tr></thead>\n",
       "<tr><td>0</td><td>1116_197486</td><td>32.9905559476</td><td>-4.7123801583</td><td>0.959999978542</td><td>15.8540000916</td><td>0.0010000000475</td><td>15.2600002289</td><td>0.0010000000475</td><td>15.0520000458</td><td>0.0010000000475</td><td>14.7259998322</td><td>0.0010000000475</td><td>14.3839998245</td><td>0.0010000000475</td><td>15.9600000381</td><td>0.0010000000475</td><td>15.6800003052</td><td>0.0010000000475</td><td>15.3979997635</td><td>0.0010000000475</td><td>15.2329998016</td><td>0.0010000000475</td><td>14.6319999695</td><td>0.0010000000475</td><td>1653.4831543</td><td>1.52291429043</td><td>False</td><td>2857.58959961</td><td>2.63193750381</td><td>False</td><td>3460.98583984</td><td>3.18768596649</td><td>False</td><td>4673.04541016</td><td>4.30403470993</td><td>False</td><td>6403.24023438</td><td>5.89760303497</td><td>False</td><td>1499.68444824</td><td>1.38126039505</td><td>1940.88427734</td><td>1.78762054443</td><td>2516.51757812</td><td>2.31779837608</td><td>2929.54370117</td><td>2.69820952415</td><td>5095.65283203</td><td>4.69327020645</td><td>False</td><td>3</td><td>False</td><td>-1</td><td>nan</td><td>nan</td><td>nan</td><td>nan</td><td>nan</td><td>nan</td><td>nan</td><td>nan</td><td>nan</td><td>nan</td><td>nan</td><td>nan</td><td>nan</td><td>nan</td><td>nan</td><td>nan</td><td>nan</td><td>nan</td><td>nan</td><td>nan</td><td>nan</td><td>nan</td><td>nan</td><td>nan</td><td>nan</td><td>nan</td><td>nan</td><td>False</td><td>nan</td><td>nan</td><td>False</td><td>nan</td><td>nan</td><td>False</td><td>nan</td><td>nan</td><td>False</td><td>nan</td><td>nan</td><td>False</td><td>nan</td><td>nan</td><td>False</td><td>nan</td><td>nan</td><td>nan</td><td>nan</td><td>nan</td><td>nan</td><td>nan</td><td>nan</td><td>nan</td><td>nan</td><td>nan</td><td>nan</td><td>False</td><td>0</td><td>-1</td><td>nan</td><td>nan</td><td>nan</td><td>nan</td><td>nan</td><td>nan</td><td>nan</td><td>nan</td><td>nan</td><td>False</td><td>nan</td><td>nan</td><td>nan</td><td>nan</td><td>nan</td><td>nan</td><td>nan</td><td>nan</td><td>False</td><td>nan</td><td>nan</td><td>nan</td><td>nan</td><td>nan</td><td>nan</td><td>nan</td><td>nan</td><td>False</td><td>nan</td><td>nan</td><td>nan</td><td>nan</td><td>nan</td><td>nan</td><td>nan</td><td>nan</td><td>False</td><td>nan</td><td>nan</td><td>nan</td><td>nan</td><td>nan</td><td>nan</td><td>nan</td><td>nan</td><td>False</td><td>False</td><td>0</td></tr>\n",
       "<tr><td>1</td><td>1122_105778</td><td>35.1308929476</td><td>-6.1899471583</td><td>0.850000023842</td><td>11.4969997406</td><td>0.0010000000475</td><td>11.6330003738</td><td>0.0010000000475</td><td>11.1719999313</td><td>0.0010000000475</td><td>11.5620002747</td><td>0.0010000000475</td><td>11.0290002823</td><td>0.0010000000475</td><td>15.2489995956</td><td>0.0010000000475</td><td>15.5839996338</td><td>0.0010000000475</td><td>15.2720003128</td><td>0.0010000000475</td><td>15.4739999771</td><td>0.0010000000475</td><td>14.8229999542</td><td>0.0010000000475</td><td>91453.4296875</td><td>84.2317276001</td><td>False</td><td>80686.2734375</td><td>74.3148040771</td><td>False</td><td>123367.25</td><td>113.625442505</td><td>False</td><td>86138.9765625</td><td>79.3369369507</td><td>False</td><td>140734.21875</td><td>129.621017456</td><td>False</td><td>2886.68969727</td><td>2.6587395668</td><td>2120.31323242</td><td>1.95288062096</td><td>2826.17993164</td><td>2.60300827026</td><td>2346.38867188</td><td>2.16110396385</td><td>4273.65820312</td><td>3.93618488312</td><td>False</td><td>0</td><td>False</td><td>-1</td><td>nan</td><td>nan</td><td>nan</td><td>nan</td><td>nan</td><td>nan</td><td>nan</td><td>nan</td><td>nan</td><td>nan</td><td>nan</td><td>nan</td><td>nan</td><td>nan</td><td>nan</td><td>nan</td><td>nan</td><td>nan</td><td>nan</td><td>nan</td><td>nan</td><td>nan</td><td>nan</td><td>nan</td><td>nan</td><td>nan</td><td>nan</td><td>False</td><td>nan</td><td>nan</td><td>False</td><td>nan</td><td>nan</td><td>False</td><td>nan</td><td>nan</td><td>False</td><td>nan</td><td>nan</td><td>False</td><td>nan</td><td>nan</td><td>False</td><td>nan</td><td>nan</td><td>nan</td><td>nan</td><td>nan</td><td>nan</td><td>nan</td><td>nan</td><td>nan</td><td>nan</td><td>nan</td><td>nan</td><td>False</td><td>0</td><td>-1</td><td>nan</td><td>nan</td><td>nan</td><td>nan</td><td>nan</td><td>nan</td><td>nan</td><td>nan</td><td>nan</td><td>False</td><td>nan</td><td>nan</td><td>nan</td><td>nan</td><td>nan</td><td>nan</td><td>nan</td><td>nan</td><td>False</td><td>nan</td><td>nan</td><td>nan</td><td>nan</td><td>nan</td><td>nan</td><td>nan</td><td>nan</td><td>False</td><td>nan</td><td>nan</td><td>nan</td><td>nan</td><td>nan</td><td>nan</td><td>nan</td><td>nan</td><td>False</td><td>nan</td><td>nan</td><td>nan</td><td>nan</td><td>nan</td><td>nan</td><td>nan</td><td>nan</td><td>False</td><td>False</td><td>0</td></tr>\n",
       "<tr><td>2</td><td>1116_178449</td><td>33.0483309476</td><td>-4.8048181583</td><td>1.0</td><td>18.2240009308</td><td>0.0010000000475</td><td>17.3330001831</td><td>0.0010000000475</td><td>17.0540008545</td><td>0.0010000000475</td><td>16.8020000458</td><td>0.0010000000475</td><td>16.7590007782</td><td>0.0010000000475</td><td>18.2800006866</td><td>0.0010000000475</td><td>17.4109992981</td><td>0.0010000000475</td><td>17.1089992523</td><td>0.0010000000475</td><td>16.8710002899</td><td>0.0010000000475</td><td>16.8349990845</td><td>0.0010000000475</td><td>186.380111694</td><td>0.171662434936</td><td>False</td><td>423.447753906</td><td>0.390009790659</td><td>False</td><td>547.51940918</td><td>0.504284083843</td><td>False</td><td>690.557434082</td><td>0.636026918888</td><td>False</td><td>718.454956055</td><td>0.661721467972</td><td>False</td><td>177.010757446</td><td>0.16303293407</td><td>394.094268799</td><td>0.362974256277</td><td>520.475341797</td><td>0.479375511408</td><td>648.036865234</td><td>0.596864104271</td><td>669.88494873</td><td>0.616986870766</td><td>False</td><td>3</td><td>False</td><td>-1</td><td>nan</td><td>nan</td><td>nan</td><td>nan</td><td>nan</td><td>nan</td><td>nan</td><td>nan</td><td>nan</td><td>nan</td><td>nan</td><td>nan</td><td>nan</td><td>nan</td><td>nan</td><td>nan</td><td>nan</td><td>nan</td><td>nan</td><td>nan</td><td>nan</td><td>nan</td><td>nan</td><td>nan</td><td>nan</td><td>nan</td><td>nan</td><td>False</td><td>nan</td><td>nan</td><td>False</td><td>nan</td><td>nan</td><td>False</td><td>nan</td><td>nan</td><td>False</td><td>nan</td><td>nan</td><td>False</td><td>nan</td><td>nan</td><td>False</td><td>nan</td><td>nan</td><td>nan</td><td>nan</td><td>nan</td><td>nan</td><td>nan</td><td>nan</td><td>nan</td><td>nan</td><td>nan</td><td>nan</td><td>False</td><td>0</td><td>-1</td><td>nan</td><td>nan</td><td>nan</td><td>nan</td><td>nan</td><td>nan</td><td>nan</td><td>nan</td><td>nan</td><td>False</td><td>nan</td><td>nan</td><td>nan</td><td>nan</td><td>nan</td><td>nan</td><td>nan</td><td>nan</td><td>False</td><td>nan</td><td>nan</td><td>nan</td><td>nan</td><td>nan</td><td>nan</td><td>nan</td><td>nan</td><td>False</td><td>nan</td><td>nan</td><td>nan</td><td>nan</td><td>nan</td><td>nan</td><td>nan</td><td>nan</td><td>False</td><td>nan</td><td>nan</td><td>nan</td><td>nan</td><td>nan</td><td>nan</td><td>nan</td><td>nan</td><td>False</td><td>False</td><td>0</td></tr>\n",
       "<tr><td>3</td><td>1112_081379</td><td>36.1947699476</td><td>-5.2686061583</td><td>1.0</td><td>18.6700000763</td><td>0.0010000000475</td><td>16.8129997253</td><td>0.0010000000475</td><td>15.9510002136</td><td>0.0010000000475</td><td>15.720000267</td><td>0.0010000000475</td><td>15.1499996185</td><td>0.0010000000475</td><td>18.7740001678</td><td>0.0010000000475</td><td>16.892999649</td><td>0.0010000000475</td><td>16.0429992676</td><td>0.0010000000475</td><td>15.8400001526</td><td>0.0010000000475</td><td>15.25</td><td>0.0010000000475</td><td>123.594680786</td><td>0.113834917545</td><td>False</td><td>683.596740723</td><td>0.629615962505</td><td>False</td><td>1512.16699219</td><td>1.39275729656</td><td>False</td><td>1870.68139648</td><td>1.72296142578</td><td>False</td><td>3162.27758789</td><td>2.91256570816</td><td>False</td><td>112.305175781</td><td>0.103436894715</td><td>635.038391113</td><td>0.584891974926</td><td>1389.31298828</td><td>1.27960467339</td><td>1674.94189453</td><td>1.54267859459</td><td>2884.03027344</td><td>2.65629029274</td><td>False</td><td>3</td><td>False</td><td>-1</td><td>nan</td><td>nan</td><td>nan</td><td>nan</td><td>nan</td><td>nan</td><td>nan</td><td>nan</td><td>nan</td><td>nan</td><td>nan</td><td>nan</td><td>nan</td><td>nan</td><td>nan</td><td>nan</td><td>nan</td><td>nan</td><td>nan</td><td>nan</td><td>nan</td><td>nan</td><td>nan</td><td>nan</td><td>nan</td><td>nan</td><td>nan</td><td>False</td><td>nan</td><td>nan</td><td>False</td><td>nan</td><td>nan</td><td>False</td><td>nan</td><td>nan</td><td>False</td><td>nan</td><td>nan</td><td>False</td><td>nan</td><td>nan</td><td>False</td><td>nan</td><td>nan</td><td>nan</td><td>nan</td><td>nan</td><td>nan</td><td>nan</td><td>nan</td><td>nan</td><td>nan</td><td>nan</td><td>nan</td><td>False</td><td>0</td><td>-1</td><td>nan</td><td>nan</td><td>nan</td><td>nan</td><td>nan</td><td>nan</td><td>nan</td><td>nan</td><td>nan</td><td>False</td><td>nan</td><td>nan</td><td>nan</td><td>nan</td><td>nan</td><td>nan</td><td>nan</td><td>nan</td><td>False</td><td>nan</td><td>nan</td><td>nan</td><td>nan</td><td>nan</td><td>nan</td><td>nan</td><td>nan</td><td>False</td><td>nan</td><td>nan</td><td>nan</td><td>nan</td><td>nan</td><td>nan</td><td>nan</td><td>nan</td><td>False</td><td>nan</td><td>nan</td><td>nan</td><td>nan</td><td>nan</td><td>nan</td><td>nan</td><td>nan</td><td>False</td><td>False</td><td>0</td></tr>\n",
       "<tr><td>4</td><td>1106_038463</td><td>33.9131679476</td><td>-4.5211071583</td><td>1.0</td><td>16.7549991608</td><td>0.0010000000475</td><td>15.9709997177</td><td>0.0010000000475</td><td>15.406999588</td><td>0.0010000000475</td><td>15.513999939</td><td>0.0010000000475</td><td>15.2790002823</td><td>0.0010000000475</td><td>16.8020000458</td><td>0.0010000000475</td><td>16.0720005035</td><td>0.0010000000475</td><td>15.5419998169</td><td>0.0010000000475</td><td>15.611000061</td><td>0.0010000000475</td><td>15.3500003815</td><td>0.0010000000475</td><td>721.107910156</td><td>0.664164960384</td><td>False</td><td>1484.56713867</td><td>1.36733710766</td><td>False</td><td>2495.74438477</td><td>2.29866552353</td><td>False</td><td>2261.51733398</td><td>2.082934618</td><td>False</td><td>2808.01708984</td><td>2.58627939224</td><td>False</td><td>690.557434082</td><td>0.636026918888</td><td>1352.6940918</td><td>1.24587750435</td><td>2203.94116211</td><td>2.02990484238</td><td>2068.23510742</td><td>1.90491497517</td><td>2630.265625</td><td>2.42256450653</td><td>False</td><td>3</td><td>False</td><td>-1</td><td>nan</td><td>nan</td><td>nan</td><td>nan</td><td>nan</td><td>nan</td><td>nan</td><td>nan</td><td>nan</td><td>nan</td><td>nan</td><td>nan</td><td>nan</td><td>nan</td><td>nan</td><td>nan</td><td>nan</td><td>nan</td><td>nan</td><td>nan</td><td>nan</td><td>nan</td><td>nan</td><td>nan</td><td>nan</td><td>nan</td><td>nan</td><td>False</td><td>nan</td><td>nan</td><td>False</td><td>nan</td><td>nan</td><td>False</td><td>nan</td><td>nan</td><td>False</td><td>nan</td><td>nan</td><td>False</td><td>nan</td><td>nan</td><td>False</td><td>nan</td><td>nan</td><td>nan</td><td>nan</td><td>nan</td><td>nan</td><td>nan</td><td>nan</td><td>nan</td><td>nan</td><td>nan</td><td>nan</td><td>False</td><td>0</td><td>-1</td><td>nan</td><td>nan</td><td>nan</td><td>nan</td><td>nan</td><td>nan</td><td>nan</td><td>nan</td><td>nan</td><td>False</td><td>nan</td><td>nan</td><td>nan</td><td>nan</td><td>nan</td><td>nan</td><td>nan</td><td>nan</td><td>False</td><td>nan</td><td>nan</td><td>nan</td><td>nan</td><td>nan</td><td>nan</td><td>nan</td><td>nan</td><td>False</td><td>nan</td><td>nan</td><td>nan</td><td>nan</td><td>nan</td><td>nan</td><td>nan</td><td>nan</td><td>False</td><td>nan</td><td>nan</td><td>nan</td><td>nan</td><td>nan</td><td>nan</td><td>nan</td><td>nan</td><td>False</td><td>False</td><td>0</td></tr>\n",
       "<tr><td>5</td><td>1102_056958</td><td>37.2280369476</td><td>-4.3890631583</td><td>0.839999973774</td><td>13.2410001755</td><td>0.0010000000475</td><td>13.0590000153</td><td>0.0010000000475</td><td>12.7060003281</td><td>0.0010000000475</td><td>12.6499996185</td><td>0.0010000000475</td><td>12.7430000305</td><td>0.0010000000475</td><td>14.1940002441</td><td>0.0010000000475</td><td>15.5670003891</td><td>0.0010000000475</td><td>15.093000412</td><td>0.0010000000475</td><td>15.1020002365</td><td>0.0010000000475</td><td>14.2709999084</td><td>0.0010000000475</td><td>18348.4667969</td><td>16.8995628357</td><td>False</td><td>21697.0058594</td><td>19.9836807251</td><td>False</td><td>30033.0703125</td><td>27.6614818573</td><td>False</td><td>31622.7753906</td><td>29.1256523132</td><td>False</td><td>29026.8417969</td><td>26.7347106934</td><td>False</td><td>7627.80908203</td><td>7.02547216415</td><td>2153.7722168</td><td>1.98369753361</td><td>3332.72680664</td><td>3.06955504417</td><td>3305.21582031</td><td>3.04421639442</td><td>7105.58642578</td><td>6.54448747635</td><td>False</td><td>3</td><td>False</td><td>-1</td><td>nan</td><td>nan</td><td>nan</td><td>nan</td><td>nan</td><td>nan</td><td>nan</td><td>nan</td><td>nan</td><td>nan</td><td>nan</td><td>nan</td><td>nan</td><td>nan</td><td>nan</td><td>nan</td><td>nan</td><td>nan</td><td>nan</td><td>nan</td><td>nan</td><td>nan</td><td>nan</td><td>nan</td><td>nan</td><td>nan</td><td>nan</td><td>False</td><td>nan</td><td>nan</td><td>False</td><td>nan</td><td>nan</td><td>False</td><td>nan</td><td>nan</td><td>False</td><td>nan</td><td>nan</td><td>False</td><td>nan</td><td>nan</td><td>False</td><td>nan</td><td>nan</td><td>nan</td><td>nan</td><td>nan</td><td>nan</td><td>nan</td><td>nan</td><td>nan</td><td>nan</td><td>nan</td><td>nan</td><td>False</td><td>0</td><td>-1</td><td>nan</td><td>nan</td><td>nan</td><td>nan</td><td>nan</td><td>nan</td><td>nan</td><td>nan</td><td>nan</td><td>False</td><td>nan</td><td>nan</td><td>nan</td><td>nan</td><td>nan</td><td>nan</td><td>nan</td><td>nan</td><td>False</td><td>nan</td><td>nan</td><td>nan</td><td>nan</td><td>nan</td><td>nan</td><td>nan</td><td>nan</td><td>False</td><td>nan</td><td>nan</td><td>nan</td><td>nan</td><td>nan</td><td>nan</td><td>nan</td><td>nan</td><td>False</td><td>nan</td><td>nan</td><td>nan</td><td>nan</td><td>nan</td><td>nan</td><td>nan</td><td>nan</td><td>False</td><td>False</td><td>0</td></tr>\n",
       "<tr><td>6</td><td>1130_169236</td><td>36.6150529476</td><td>-6.7321821583</td><td>0.72000002861</td><td>14.6020002365</td><td>0.0010000000475</td><td>14.6000003815</td><td>0.0010000000475</td><td>14.013999939</td><td>0.0010000000475</td><td>14.1049995422</td><td>0.0010000000475</td><td>13.7139997482</td><td>0.0010000000475</td><td>14.8809995651</td><td>0.0010000000475</td><td>15.5170001984</td><td>0.0010000000475</td><td>15.0050001144</td><td>0.0010000000475</td><td>15.0799999237</td><td>0.0010000000475</td><td>14.267999649</td><td>0.0010000000475</td><td>5238.41210938</td><td>4.82475614548</td><td>False</td><td>5248.07226562</td><td>4.83365345001</td><td>False</td><td>9003.26074219</td><td>8.29231071472</td><td>False</td><td>8279.42089844</td><td>7.62562942505</td><td>False</td><td>11868.6132812</td><td>10.931397438</td><td>False</td><td>4051.35180664</td><td>3.73143315315</td><td>2255.27612305</td><td>2.07718610764</td><td>3614.09741211</td><td>3.32870674133</td><td>3372.87231445</td><td>3.10653018951</td><td>7125.24658203</td><td>6.56259441376</td><td>False</td><td>3</td><td>False</td><td>-1</td><td>nan</td><td>nan</td><td>nan</td><td>nan</td><td>nan</td><td>nan</td><td>nan</td><td>nan</td><td>nan</td><td>nan</td><td>nan</td><td>nan</td><td>nan</td><td>nan</td><td>nan</td><td>nan</td><td>nan</td><td>nan</td><td>nan</td><td>nan</td><td>nan</td><td>nan</td><td>nan</td><td>nan</td><td>nan</td><td>nan</td><td>nan</td><td>False</td><td>nan</td><td>nan</td><td>False</td><td>nan</td><td>nan</td><td>False</td><td>nan</td><td>nan</td><td>False</td><td>nan</td><td>nan</td><td>False</td><td>nan</td><td>nan</td><td>False</td><td>nan</td><td>nan</td><td>nan</td><td>nan</td><td>nan</td><td>nan</td><td>nan</td><td>nan</td><td>nan</td><td>nan</td><td>nan</td><td>nan</td><td>False</td><td>0</td><td>-1</td><td>nan</td><td>nan</td><td>nan</td><td>nan</td><td>nan</td><td>nan</td><td>nan</td><td>nan</td><td>nan</td><td>False</td><td>nan</td><td>nan</td><td>nan</td><td>nan</td><td>nan</td><td>nan</td><td>nan</td><td>nan</td><td>False</td><td>nan</td><td>nan</td><td>nan</td><td>nan</td><td>nan</td><td>nan</td><td>nan</td><td>nan</td><td>False</td><td>nan</td><td>nan</td><td>nan</td><td>nan</td><td>nan</td><td>nan</td><td>nan</td><td>nan</td><td>False</td><td>nan</td><td>nan</td><td>nan</td><td>nan</td><td>nan</td><td>nan</td><td>nan</td><td>nan</td><td>False</td><td>False</td><td>0</td></tr>\n",
       "<tr><td>7</td><td>1124_103369</td><td>33.9695109476</td><td>-6.1676311583</td><td>1.0</td><td>17.7880001068</td><td>0.0010000000475</td><td>17.25</td><td>0.0010000000475</td><td>16.7840003967</td><td>0.0010000000475</td><td>16.9190006256</td><td>0.0010000000475</td><td>16.5860004425</td><td>0.0010000000475</td><td>17.8490009308</td><td>0.0010000000475</td><td>17.2940006256</td><td>0.0010000000475</td><td>16.8339996338</td><td>0.0010000000475</td><td>16.9549999237</td><td>0.0010000000475</td><td>16.6490001678</td><td>0.0010000000475</td><td>278.483795166</td><td>0.256493061781</td><td>False</td><td>457.088012695</td><td>0.42099365592</td><td>False</td><td>702.101318359</td><td>0.646659255028</td><td>False</td><td>620.011352539</td><td>0.571051597595</td><td>False</td><td>842.557495117</td><td>0.776024162769</td><td>False</td><td>263.268829346</td><td>0.242479562759</td><td>438.934326172</td><td>0.404273450375</td><td>670.501953125</td><td>0.617555141449</td><td>599.790893555</td><td>0.552427887917</td><td>795.059631348</td><td>0.732276976109</td><td>False</td><td>3</td><td>False</td><td>-1</td><td>nan</td><td>nan</td><td>nan</td><td>nan</td><td>nan</td><td>nan</td><td>nan</td><td>nan</td><td>nan</td><td>nan</td><td>nan</td><td>nan</td><td>nan</td><td>nan</td><td>nan</td><td>nan</td><td>nan</td><td>nan</td><td>nan</td><td>nan</td><td>nan</td><td>nan</td><td>nan</td><td>nan</td><td>nan</td><td>nan</td><td>nan</td><td>False</td><td>nan</td><td>nan</td><td>False</td><td>nan</td><td>nan</td><td>False</td><td>nan</td><td>nan</td><td>False</td><td>nan</td><td>nan</td><td>False</td><td>nan</td><td>nan</td><td>False</td><td>nan</td><td>nan</td><td>nan</td><td>nan</td><td>nan</td><td>nan</td><td>nan</td><td>nan</td><td>nan</td><td>nan</td><td>nan</td><td>nan</td><td>False</td><td>0</td><td>-1</td><td>nan</td><td>nan</td><td>nan</td><td>nan</td><td>nan</td><td>nan</td><td>nan</td><td>nan</td><td>nan</td><td>False</td><td>nan</td><td>nan</td><td>nan</td><td>nan</td><td>nan</td><td>nan</td><td>nan</td><td>nan</td><td>False</td><td>nan</td><td>nan</td><td>nan</td><td>nan</td><td>nan</td><td>nan</td><td>nan</td><td>nan</td><td>False</td><td>nan</td><td>nan</td><td>nan</td><td>nan</td><td>nan</td><td>nan</td><td>nan</td><td>nan</td><td>False</td><td>nan</td><td>nan</td><td>nan</td><td>nan</td><td>nan</td><td>nan</td><td>nan</td><td>nan</td><td>False</td><td>False</td><td>0</td></tr>\n",
       "<tr><td>8</td><td>1113_079264</td><td>35.7017499476</td><td>-5.2692431583</td><td>0.959999978542</td><td>15.2950000763</td><td>0.0010000000475</td><td>15.0699996948</td><td>0.0010000000475</td><td>14.873000145</td><td>0.0010000000475</td><td>14.6359996796</td><td>0.0010000000475</td><td>14.6309995651</td><td>0.0010000000475</td><td>15.4020004272</td><td>0.0010000000475</td><td>15.6529998779</td><td>0.0010000000475</td><td>15.3109998703</td><td>0.0010000000475</td><td>15.1590003967</td><td>0.0010000000475</td><td>14.7770004272</td><td>0.0010000000475</td><td>2766.94116211</td><td>2.54844713211</td><td>False</td><td>3404.08251953</td><td>3.13527584076</td><td>False</td><td>4081.31201172</td><td>3.75902748108</td><td>False</td><td>5076.91650391</td><td>4.67601299286</td><td>False</td><td>5100.3515625</td><td>4.6975979805</td><td>False</td><td>2507.26196289</td><td>2.30927395821</td><td>1989.75671387</td><td>1.83263373375</td><td>2726.46435547</td><td>2.51116681099</td><td>3136.17041016</td><td>2.88851976395</td><td>4458.61230469</td><td>4.10653400421</td><td>False</td><td>3</td><td>False</td><td>-1</td><td>nan</td><td>nan</td><td>nan</td><td>nan</td><td>nan</td><td>nan</td><td>nan</td><td>nan</td><td>nan</td><td>nan</td><td>nan</td><td>nan</td><td>nan</td><td>nan</td><td>nan</td><td>nan</td><td>nan</td><td>nan</td><td>nan</td><td>nan</td><td>nan</td><td>nan</td><td>nan</td><td>nan</td><td>nan</td><td>nan</td><td>nan</td><td>False</td><td>nan</td><td>nan</td><td>False</td><td>nan</td><td>nan</td><td>False</td><td>nan</td><td>nan</td><td>False</td><td>nan</td><td>nan</td><td>False</td><td>nan</td><td>nan</td><td>False</td><td>nan</td><td>nan</td><td>nan</td><td>nan</td><td>nan</td><td>nan</td><td>nan</td><td>nan</td><td>nan</td><td>nan</td><td>nan</td><td>nan</td><td>False</td><td>0</td><td>-1</td><td>nan</td><td>nan</td><td>nan</td><td>nan</td><td>nan</td><td>nan</td><td>nan</td><td>nan</td><td>nan</td><td>False</td><td>nan</td><td>nan</td><td>nan</td><td>nan</td><td>nan</td><td>nan</td><td>nan</td><td>nan</td><td>False</td><td>nan</td><td>nan</td><td>nan</td><td>nan</td><td>nan</td><td>nan</td><td>nan</td><td>nan</td><td>False</td><td>nan</td><td>nan</td><td>nan</td><td>nan</td><td>nan</td><td>nan</td><td>nan</td><td>nan</td><td>False</td><td>nan</td><td>nan</td><td>nan</td><td>nan</td><td>nan</td><td>nan</td><td>nan</td><td>nan</td><td>False</td><td>False</td><td>0</td></tr>\n",
       "<tr><td>9</td><td>1102_059209</td><td>37.2498539476</td><td>-4.3987151583</td><td>1.0</td><td>17.9400005341</td><td>0.0010000000475</td><td>16.6159992218</td><td>0.0010000000475</td><td>16.0130004883</td><td>0.0010000000475</td><td>15.7290000916</td><td>0.0010000000475</td><td>15.6899995804</td><td>0.0010000000475</td><td>18.0939998627</td><td>0.0010000000475</td><td>16.7290000916</td><td>0.0010000000475</td><td>16.1170005798</td><td>0.0010000000475</td><td>15.8780002594</td><td>0.0010000000475</td><td>15.7779998779</td><td>0.0010000000475</td><td>242.102676392</td><td>0.222984805703</td><td>False</td><td>819.596679688</td><td>0.754876494408</td><td>False</td><td>1428.23510742</td><td>1.31545317173</td><td>False</td><td>1855.23828125</td><td>1.70873773098</td><td>False</td><td>1923.09130859</td><td>1.77123260498</td><td>False</td><td>210.08732605</td><td>0.19349758327</td><td>738.583984375</td><td>0.680261075497</td><td>1297.77587891</td><td>1.1952958107</td><td>1617.33447266</td><td>1.48962008953</td><td>1773.37182617</td><td>1.63333594799</td><td>False</td><td>3</td><td>False</td><td>-1</td><td>nan</td><td>nan</td><td>nan</td><td>nan</td><td>nan</td><td>nan</td><td>nan</td><td>nan</td><td>nan</td><td>nan</td><td>nan</td><td>nan</td><td>nan</td><td>nan</td><td>nan</td><td>nan</td><td>nan</td><td>nan</td><td>nan</td><td>nan</td><td>nan</td><td>nan</td><td>nan</td><td>nan</td><td>nan</td><td>nan</td><td>nan</td><td>False</td><td>nan</td><td>nan</td><td>False</td><td>nan</td><td>nan</td><td>False</td><td>nan</td><td>nan</td><td>False</td><td>nan</td><td>nan</td><td>False</td><td>nan</td><td>nan</td><td>False</td><td>nan</td><td>nan</td><td>nan</td><td>nan</td><td>nan</td><td>nan</td><td>nan</td><td>nan</td><td>nan</td><td>nan</td><td>nan</td><td>nan</td><td>False</td><td>0</td><td>-1</td><td>nan</td><td>nan</td><td>nan</td><td>nan</td><td>nan</td><td>nan</td><td>nan</td><td>nan</td><td>nan</td><td>False</td><td>nan</td><td>nan</td><td>nan</td><td>nan</td><td>nan</td><td>nan</td><td>nan</td><td>nan</td><td>False</td><td>nan</td><td>nan</td><td>nan</td><td>nan</td><td>nan</td><td>nan</td><td>nan</td><td>nan</td><td>False</td><td>nan</td><td>nan</td><td>nan</td><td>nan</td><td>nan</td><td>nan</td><td>nan</td><td>nan</td><td>False</td><td>nan</td><td>nan</td><td>nan</td><td>nan</td><td>nan</td><td>nan</td><td>nan</td><td>nan</td><td>False</td><td>False</td><td>0</td></tr>\n",
       "</table><style>table.dataTable {clear: both; width: auto !important; margin: 0 !important;}\n",
       ".dataTables_info, .dataTables_length, .dataTables_filter, .dataTables_paginate{\n",
       "display: inline-block; margin-right: 1em; }\n",
       ".paginate_button { margin-right: 5px; }\n",
       "</style>\n",
       "<script>\n",
       "require.config({paths: {\n",
       "    datatables: 'https://cdn.datatables.net/1.10.12/js/jquery.dataTables.min'\n",
       "}});\n",
       "require([\"datatables\"], function(){\n",
       "    console.log(\"$('#table140613493975752-889031').dataTable()\");\n",
       "    $('#table140613493975752-889031').dataTable({\n",
       "        \"order\": [],\n",
       "        \"iDisplayLength\": 50,\n",
       "        \"aLengthMenu\": [[10, 25, 50, 100, 500, 1000, -1], [10, 25, 50, 100, 500, 1000, 'All']],\n",
       "        \"pagingType\": \"full_numbers\"\n",
       "    });\n",
       "});\n",
       "</script>\n"
      ],
      "text/plain": [
       "<IPython.core.display.HTML object>"
      ]
     },
     "execution_count": 12,
     "metadata": {},
     "output_type": "execute_result"
    }
   ],
   "source": [
    "master_catalogue[:10].show_in_notebook()"
   ]
  },
  {
   "cell_type": "code",
   "execution_count": 13,
   "metadata": {
    "collapsed": true
   },
   "outputs": [],
   "source": [
    "master_catalogue.add_column(Column(data=(np.char.array(master_catalogue['cfhtls-wide_id'].astype(str)) \n",
    "                                    +  np.char.array(master_catalogue['cfhtls-deep_id'].astype(str) )\n",
    "                                    +  np.char.array(master_catalogue['sparcs_intid'].astype(str))), \n",
    "                              name=\"megacam_intid\"))"
   ]
  },
  {
   "cell_type": "code",
   "execution_count": 14,
   "metadata": {},
   "outputs": [
    {
     "name": "stdout",
     "output_type": "stream",
     "text": [
      "['cfhtls-wide_id', 'cfhtls-deep_id', 'sparcs_intid', 'megacam_intid']\n"
     ]
    }
   ],
   "source": [
    "id_names = []\n",
    "for col in master_catalogue.colnames:\n",
    "    if '_id' in col:\n",
    "        id_names += [col]\n",
    "    if '_intid' in col:\n",
    "        id_names += [col]\n",
    "        \n",
    "print(id_names)"
   ]
  },
  {
   "cell_type": "markdown",
   "metadata": {},
   "source": [
    "## VII - Choosing between multiple values for the same filter\n",
    "\n"
   ]
  },
  {
   "cell_type": "markdown",
   "metadata": {},
   "source": [
    "### VII.b CFHTLS-DEEP, CFHTLS-WIDE and SpARCS: CFHT Megacam fluxes\n",
    "\n",
    "According to Mattia CFHTLenS is built on the same data as CFHTLS-WIDE and should not be included. I have therefore excluded it from the merge above.\n",
    "\n",
    "CFHTLS-DEEP is prefferred to CFHTLS-WIDE which is prefferred to SpARCS\n",
    "\n",
    "|             |                  |\n",
    "|-------------|------------------|\n",
    "| CFHTLS-WIDE | u, g, r, i, z    |\n",
    "| CFHTLS-DEEP | u, g, r, i, z, y |\n",
    "| SpARCS      | u, g, r, z, y    |\n"
   ]
  },
  {
   "cell_type": "code",
   "execution_count": 15,
   "metadata": {
    "collapsed": true
   },
   "outputs": [],
   "source": [
    "megacam_origin = Table()\n",
    "megacam_origin.add_column(master_catalogue['megacam_intid'])"
   ]
  },
  {
   "cell_type": "code",
   "execution_count": 16,
   "metadata": {
    "collapsed": true
   },
   "outputs": [
    {
     "name": "stderr",
     "output_type": "stream",
     "text": [
      "/opt/anaconda3/envs/herschelhelp_internal/lib/python3.6/site-packages/numpy/core/numeric.py:301: FutureWarning: in the future, full(6, 0) will return an array of dtype('int64')\n",
      "  format(shape, fill_value, array(fill_value).dtype), FutureWarning)\n"
     ]
    }
   ],
   "source": [
    "megacam_stats = Table()\n",
    "megacam_stats.add_column(Column(data=['u','g','r','i','z','y'], name=\"Band\"))\n",
    "for col in [\"CFHTLS-DEEP\", \"CFHTLS-WIDE\", \"SpARCS\"]:\n",
    "    megacam_stats.add_column(Column(data=np.full(6, 0), name=\"{}\".format(col)))\n",
    "    megacam_stats.add_column(Column(data=np.full(6, 0), name=\"use {}\".format(col)))\n",
    "    megacam_stats.add_column(Column(data=np.full(6, 0), name=\"{} ap\".format(col)))\n",
    "    megacam_stats.add_column(Column(data=np.full(6, 0), name=\"use {} ap\".format(col)))\n",
    "    "
   ]
  },
  {
   "cell_type": "code",
   "execution_count": 17,
   "metadata": {
    "collapsed": true
   },
   "outputs": [],
   "source": [
    "\n",
    "megacam_bands = ['u','g','r','i','z','y'] # Lowercase naming convention (k is Ks)\n",
    "for band in megacam_bands:\n",
    "\n",
    "    # Megacam total flux \n",
    "    has_cfhtls_deep = ~np.isnan(master_catalogue['f_cfhtls-deep_' + band])\n",
    "    if band == 'y':\n",
    "        has_cfhtls_wide = np.full(len(master_catalogue), False, dtype=bool)\n",
    "    else:\n",
    "        has_cfhtls_wide = ~np.isnan(master_catalogue['f_cfhtls-wide_' + band])\n",
    "    if band == 'i':\n",
    "        has_sparcs = np.full(len(master_catalogue), False, dtype=bool)\n",
    "    else:\n",
    "        has_sparcs = ~np.isnan(master_catalogue['f_sparcs_' + band])\n",
    "    \n",
    "\n",
    "    use_cfhtls_deep = has_cfhtls_deep \n",
    "    use_cfhtls_wide = has_cfhtls_wide & ~has_cfhtls_deep\n",
    "    use_sparcs = has_sparcs & ~has_cfhtls_wide & ~has_cfhtls_deep\n",
    "\n",
    "    f_megacam = np.full(len(master_catalogue), np.nan)\n",
    "    f_megacam[use_cfhtls_deep] = master_catalogue['f_cfhtls-deep_' + band][use_cfhtls_deep]\n",
    "    if not (band == 'y'):\n",
    "        f_megacam[use_cfhtls_wide] = master_catalogue['f_cfhtls-wide_' + band][use_cfhtls_wide]\n",
    "    if not (band == 'i'):\n",
    "        f_megacam[use_sparcs] = master_catalogue['f_sparcs_' + band][use_sparcs]\n",
    "\n",
    "    ferr_megacam = np.full(len(master_catalogue), np.nan)\n",
    "    ferr_megacam[use_cfhtls_deep] = master_catalogue['ferr_cfhtls-deep_' + band][use_cfhtls_deep]\n",
    "    if not (band == 'y'):\n",
    "        ferr_megacam[use_cfhtls_wide] = master_catalogue['ferr_cfhtls-wide_' + band][use_cfhtls_wide]\n",
    "    if not (band == 'i'):\n",
    "        ferr_megacam[use_sparcs] = master_catalogue['ferr_sparcs_' + band][use_sparcs]\n",
    "    \n",
    "    m_megacam = np.full(len(master_catalogue), np.nan)\n",
    "    m_megacam[use_cfhtls_deep] = master_catalogue['m_cfhtls-deep_' + band][use_cfhtls_deep]\n",
    "    if not (band == 'y'):\n",
    "        m_megacam[use_cfhtls_wide] = master_catalogue['m_cfhtls-wide_' + band][use_cfhtls_wide]\n",
    "    if not (band == 'i'):\n",
    "        m_megacam[use_sparcs] = master_catalogue['m_sparcs_' + band][use_sparcs]\n",
    "\n",
    "    merr_megacam = np.full(len(master_catalogue), np.nan)\n",
    "    merr_megacam[use_cfhtls_deep] = master_catalogue['merr_cfhtls-deep_' + band][use_cfhtls_deep]\n",
    "    if not (band == 'y'):\n",
    "        merr_megacam[use_cfhtls_wide] = master_catalogue['merr_cfhtls-wide_' + band][use_cfhtls_wide]\n",
    "    if not (band == 'i'):\n",
    "        merr_megacam[use_sparcs] = master_catalogue['merr_sparcs_' + band][use_sparcs]\n",
    "\n",
    "    flag_megacam = np.full(len(master_catalogue), False, dtype=bool)\n",
    "    flag_megacam[use_cfhtls_deep] = master_catalogue['flag_cfhtls-deep_' + band][use_cfhtls_deep]\n",
    "    if not (band == 'y'):\n",
    "        flag_megacam[use_cfhtls_wide] = master_catalogue['flag_cfhtls-wide_' + band][use_cfhtls_wide]\n",
    "    if not (band == 'i'):\n",
    "        flag_megacam[use_sparcs] = master_catalogue['flag_sparcs_' + band][use_sparcs]\n",
    "\n",
    "    master_catalogue.add_column(Column(data=f_megacam, name=\"f_megacam_\" + band))\n",
    "    master_catalogue.add_column(Column(data=ferr_megacam, name=\"ferr_megacam_\" + band))\n",
    "    master_catalogue.add_column(Column(data=m_megacam, name=\"m_megacam_\" + band))\n",
    "    master_catalogue.add_column(Column(data=merr_megacam, name=\"merr_megacam_\" + band))\n",
    "    master_catalogue.add_column(Column(data=flag_megacam, name=\"flag_megacam_\" + band))\n",
    "\n",
    "    old_cfhtls_deep_columns = ['f_cfhtls-deep_' + band,\n",
    "                               'ferr_cfhtls-deep_' + band,\n",
    "                               'm_cfhtls-deep_' + band, \n",
    "                               'merr_cfhtls-deep_' + band,\n",
    "                               'flag_cfhtls-deep_' + band]\n",
    "    old_cfhtls_wide_columns = ['f_cfhtls-wide_' + band,\n",
    "                               'ferr_cfhtls-wide_' + band,\n",
    "                               'm_cfhtls-wide_' + band, \n",
    "                               'merr_cfhtls-wide_' + band,\n",
    "                               'flag_cfhtls-wide_' + band]\n",
    "    old_sparcs_columns =      ['f_sparcs_' + band,\n",
    "                               'ferr_sparcs_' + band,\n",
    "                               'm_sparcs_' + band, \n",
    "                               'merr_sparcs_' + band,\n",
    "                               'flag_sparcs_' + band]\n",
    "    \n",
    "    if (band == 'i'):\n",
    "        old_columns = old_cfhtls_deep_columns + old_cfhtls_wide_columns\n",
    "    elif (band == 'y'):\n",
    "        old_columns = old_cfhtls_deep_columns + old_sparcs_columns\n",
    "    else:\n",
    "        old_columns = old_cfhtls_deep_columns + old_cfhtls_wide_columns + old_sparcs_columns\n",
    "    master_catalogue.remove_columns(old_columns)\n",
    "\n",
    "    origin = np.full(len(master_catalogue), '     ', dtype='<U5')\n",
    "    origin[use_cfhtls_deep] = \"CFHTLS-DEEP\"\n",
    "    origin[use_cfhtls_wide] = \"CFHTLS-WIDE\"\n",
    "    origin[use_sparcs] = \"SpARCS\"\n",
    "    \n",
    "    megacam_origin.add_column(Column(data=origin, name= 'f_megacam_' + band ))\n",
    "    \n",
    "    # Megacam aperture flux \n",
    "    has_ap_cfhtls_deep = ~np.isnan(master_catalogue['f_ap_cfhtls-deep_' + band])\n",
    "    if band == 'y':\n",
    "        has_ap_cfhtls_wide = np.full(len(master_catalogue), False, dtype=bool)\n",
    "    else:\n",
    "        has_ap_cfhtls_wide = ~np.isnan(master_catalogue['f_ap_cfhtls-wide_' + band])\n",
    "    if band == 'i':\n",
    "        has_ap_sparcs = np.full(len(master_catalogue), False, dtype=bool)\n",
    "    else:\n",
    "        has_ap_sparcs = ~np.isnan(master_catalogue['f_ap_sparcs_' + band])\n",
    "    \n",
    "\n",
    "    use_ap_cfhtls_deep = has_ap_cfhtls_deep \n",
    "    use_ap_cfhtls_wide = has_ap_cfhtls_wide & ~has_ap_cfhtls_deep\n",
    "    use_ap_sparcs = has_ap_sparcs & ~has_ap_cfhtls_wide & ~has_ap_cfhtls_deep\n",
    "\n",
    "    f_ap_megacam = np.full(len(master_catalogue), np.nan)\n",
    "    f_ap_megacam[use_ap_cfhtls_deep] = master_catalogue['f_ap_cfhtls-deep_' + band][use_ap_cfhtls_deep]\n",
    "    if not (band == 'y'):\n",
    "        f_ap_megacam[use_ap_cfhtls_wide] = master_catalogue['f_ap_cfhtls-wide_' + band][use_ap_cfhtls_wide]\n",
    "    if not (band == 'i'):\n",
    "        f_ap_megacam[use_ap_sparcs] = master_catalogue['f_ap_sparcs_' + band][use_ap_sparcs]\n",
    "\n",
    "    ferr_ap_megacam = np.full(len(master_catalogue), np.nan)\n",
    "    ferr_ap_megacam[use_ap_cfhtls_deep] = master_catalogue['ferr_ap_cfhtls-deep_' + band][use_ap_cfhtls_deep]\n",
    "    if not (band == 'y'):\n",
    "        ferr_ap_megacam[use_ap_cfhtls_wide] = master_catalogue['ferr_ap_cfhtls-wide_' + band][use_ap_cfhtls_wide]\n",
    "    if not (band == 'i'):\n",
    "        ferr_ap_megacam[use_ap_sparcs] = master_catalogue['ferr_ap_sparcs_' + band][use_ap_sparcs]\n",
    "    \n",
    "    m_ap_megacam = np.full(len(master_catalogue), np.nan)\n",
    "    m_ap_megacam[use_ap_cfhtls_deep] = master_catalogue['m_ap_cfhtls-deep_' + band][use_ap_cfhtls_deep]\n",
    "    if not (band == 'y'):\n",
    "        m_ap_megacam[use_ap_cfhtls_wide] = master_catalogue['m_ap_cfhtls-wide_' + band][use_ap_cfhtls_wide]\n",
    "    if not (band == 'i'):\n",
    "        m_ap_megacam[use_ap_sparcs] = master_catalogue['m_ap_sparcs_' + band][use_ap_sparcs]\n",
    "\n",
    "    merr_ap_megacam = np.full(len(master_catalogue), np.nan)\n",
    "    merr_ap_megacam[use_ap_cfhtls_deep] = master_catalogue['merr_ap_cfhtls-deep_' + band][use_ap_cfhtls_deep]\n",
    "    if not (band == 'y'):\n",
    "        merr_ap_megacam[use_ap_cfhtls_wide] = master_catalogue['merr_ap_cfhtls-wide_' + band][use_ap_cfhtls_wide]\n",
    "    if not (band == 'i'):\n",
    "        merr_ap_megacam[use_ap_sparcs] = master_catalogue['merr_ap_sparcs_' + band][use_ap_sparcs]\n",
    "\n",
    "\n",
    "\n",
    "    master_catalogue.add_column(Column(data=f_ap_megacam, name=\"f_ap_megacam_\" + band))\n",
    "    master_catalogue.add_column(Column(data=ferr_ap_megacam, name=\"ferr_ap_megacam_\" + band))\n",
    "    master_catalogue.add_column(Column(data=m_ap_megacam, name=\"m_ap_megacam_\" + band))\n",
    "    master_catalogue.add_column(Column(data=merr_ap_megacam, name=\"merr_ap_megacam_\" + band))\n",
    "\n",
    "\n",
    "    old_ap_cfhtls_deep_columns = ['f_ap_cfhtls-deep_' + band,\n",
    "                               'ferr_ap_cfhtls-deep_' + band,\n",
    "                               'm_ap_cfhtls-deep_' + band, \n",
    "                               'merr_ap_cfhtls-deep_' + band]\n",
    "    old_ap_cfhtls_wide_columns = ['f_ap_cfhtls-wide_' + band,\n",
    "                               'ferr_ap_cfhtls-wide_' + band,\n",
    "                               'm_ap_cfhtls-wide_' + band, \n",
    "                               'merr_ap_cfhtls-wide_' + band]\n",
    "    old_ap_sparcs_columns =      ['f_ap_sparcs_' + band,\n",
    "                               'ferr_ap_sparcs_' + band,\n",
    "                               'm_ap_sparcs_' + band, \n",
    "                               'merr_ap_sparcs_' + band]\n",
    "    \n",
    "    if (band == 'i'):\n",
    "        old_ap_columns = old_ap_cfhtls_deep_columns + old_ap_cfhtls_wide_columns\n",
    "    elif (band == 'y'):\n",
    "        old_ap_columns = old_ap_cfhtls_deep_columns + old_ap_sparcs_columns\n",
    "    else:\n",
    "        old_ap_columns = old_ap_cfhtls_deep_columns + old_ap_cfhtls_wide_columns + old_ap_sparcs_columns\n",
    "    master_catalogue.remove_columns(old_ap_columns)\n",
    "\n",
    "    origin_ap = np.full(len(master_catalogue), '     ', dtype='<U5')\n",
    "    origin_ap[use_ap_cfhtls_deep] = \"CFHTLS-DEEP\"\n",
    "    origin_ap[use_ap_cfhtls_wide] = \"CFHTLS-WIDE\"\n",
    "    origin_ap[use_ap_sparcs] = \"SpARCS\"\n",
    "    \n",
    "    megacam_origin.add_column(Column(data=origin_ap, name= 'f_ap_megacam_' + band ))\n",
    "    \n",
    "\n",
    "   \n",
    "    megacam_stats['CFHTLS-DEEP'][megacam_stats['Band'] == band] = np.sum(has_cfhtls_deep)\n",
    "    megacam_stats['CFHTLS-WIDE'][megacam_stats['Band'] == band] = np.sum(has_cfhtls_wide)\n",
    "    megacam_stats['SpARCS'][megacam_stats['Band'] == band] = np.sum(has_sparcs)\n",
    "    megacam_stats['use CFHTLS-DEEP'][megacam_stats['Band'] == band] = np.sum(use_cfhtls_deep)\n",
    "    megacam_stats['use CFHTLS-WIDE'][megacam_stats['Band'] == band] = np.sum(use_cfhtls_wide)\n",
    "    megacam_stats['use SpARCS'][megacam_stats['Band'] == band] = np.sum(use_sparcs)\n",
    "    megacam_stats['CFHTLS-DEEP ap'][megacam_stats['Band'] == band] = np.sum(has_ap_cfhtls_deep)\n",
    "    megacam_stats['CFHTLS-WIDE ap'][megacam_stats['Band'] == band] = np.sum(has_ap_cfhtls_wide)\n",
    "    megacam_stats['SpARCS ap'][megacam_stats['Band'] == band] = np.sum(has_ap_sparcs)\n",
    "    megacam_stats['use CFHTLS-DEEP ap'][megacam_stats['Band'] == band] = np.sum(use_ap_cfhtls_deep)\n",
    "    megacam_stats['use CFHTLS-WIDE ap'][megacam_stats['Band'] == band] = np.sum(use_ap_cfhtls_wide)\n",
    "    megacam_stats['use SpARCS ap'][megacam_stats['Band'] == band] = np.sum(use_ap_sparcs)"
   ]
  },
  {
   "cell_type": "code",
   "execution_count": 18,
   "metadata": {},
   "outputs": [
    {
     "data": {
      "text/html": [
       "&lt;Table length=6&gt;\n",
       "<table id=\"table140613495004688-826799\" class=\"table-striped table-bordered table-condensed\">\n",
       "<thead><tr><th>idx</th><th>Band</th><th>CFHTLS-DEEP</th><th>use CFHTLS-DEEP</th><th>CFHTLS-DEEP ap</th><th>use CFHTLS-DEEP ap</th><th>CFHTLS-WIDE</th><th>use CFHTLS-WIDE</th><th>CFHTLS-WIDE ap</th><th>use CFHTLS-WIDE ap</th><th>SpARCS</th><th>use SpARCS</th><th>SpARCS ap</th><th>use SpARCS ap</th></tr></thead>\n",
       "<tr><td>0</td><td>u</td><td>481650.0</td><td>481650.0</td><td>485877.0</td><td>485877.0</td><td>3115218.0</td><td>2928155.0</td><td>3163862.0</td><td>2974025.0</td><td>396423.0</td><td>375948.0</td><td>385887.0</td><td>365727.0</td></tr>\n",
       "<tr><td>1</td><td>g</td><td>551595.0</td><td>551595.0</td><td>553969.0</td><td>553969.0</td><td>3367177.0</td><td>3163292.0</td><td>3384048.0</td><td>3179110.0</td><td>436976.0</td><td>411025.0</td><td>429994.0</td><td>404289.0</td></tr>\n",
       "<tr><td>2</td><td>r</td><td>561918.0</td><td>561918.0</td><td>565280.0</td><td>565280.0</td><td>3366913.0</td><td>3163239.0</td><td>3397813.0</td><td>3192615.0</td><td>446308.0</td><td>418750.0</td><td>442998.0</td><td>415461.0</td></tr>\n",
       "<tr><td>3</td><td>i</td><td>557674.0</td><td>557674.0</td><td>561376.0</td><td>561376.0</td><td>3283920.0</td><td>3084634.0</td><td>3329406.0</td><td>3127407.0</td><td>0.0</td><td>0.0</td><td>0.0</td><td>0.0</td></tr>\n",
       "<tr><td>4</td><td>z</td><td>499627.0</td><td>499627.0</td><td>506086.0</td><td>506086.0</td><td>2864911.0</td><td>2688653.0</td><td>2971971.0</td><td>2789427.0</td><td>413627.0</td><td>391475.0</td><td>389357.0</td><td>367615.0</td></tr>\n",
       "<tr><td>5</td><td>y</td><td>522629.0</td><td>522629.0</td><td>528982.0</td><td>528982.0</td><td>0.0</td><td>0.0</td><td>0.0</td><td>0.0</td><td>405761.0</td><td>405761.0</td><td>391629.0</td><td>391629.0</td></tr>\n",
       "</table><style>table.dataTable {clear: both; width: auto !important; margin: 0 !important;}\n",
       ".dataTables_info, .dataTables_length, .dataTables_filter, .dataTables_paginate{\n",
       "display: inline-block; margin-right: 1em; }\n",
       ".paginate_button { margin-right: 5px; }\n",
       "</style>\n",
       "<script>\n",
       "require.config({paths: {\n",
       "    datatables: 'https://cdn.datatables.net/1.10.12/js/jquery.dataTables.min'\n",
       "}});\n",
       "require([\"datatables\"], function(){\n",
       "    console.log(\"$('#table140613495004688-826799').dataTable()\");\n",
       "    $('#table140613495004688-826799').dataTable({\n",
       "        \"order\": [],\n",
       "        \"iDisplayLength\": 50,\n",
       "        \"aLengthMenu\": [[10, 25, 50, 100, 500, 1000, -1], [10, 25, 50, 100, 500, 1000, 'All']],\n",
       "        \"pagingType\": \"full_numbers\"\n",
       "    });\n",
       "});\n",
       "</script>\n"
      ],
      "text/plain": [
       "<IPython.core.display.HTML object>"
      ]
     },
     "execution_count": 18,
     "metadata": {},
     "output_type": "execute_result"
    }
   ],
   "source": [
    "megacam_stats.show_in_notebook()"
   ]
  },
  {
   "cell_type": "code",
   "execution_count": 19,
   "metadata": {
    "collapsed": true
   },
   "outputs": [],
   "source": [
    "megacam_origin.write(\"{}/xmm-lss_megacam_fluxes_origins{}.fits\".format(OUT_DIR, SUFFIX), overwrite=True)"
   ]
  },
  {
   "cell_type": "markdown",
   "metadata": {},
   "source": [
    "## XI - Saving the catalogue"
   ]
  },
  {
   "cell_type": "code",
   "execution_count": 20,
   "metadata": {
    "collapsed": true
   },
   "outputs": [],
   "source": [
    "master_catalogue.write(\"{}/megacam_merged_catalogue_xmm-lss.fits\".format(TMP_DIR), overwrite=True)"
   ]
  }
 ],
 "metadata": {
  "kernelspec": {
   "display_name": "Python (herschelhelp_internal)",
   "language": "python",
   "name": "helpint"
  },
  "language_info": {
   "codemirror_mode": {
    "name": "ipython",
    "version": 3
   },
   "file_extension": ".py",
   "mimetype": "text/x-python",
   "name": "python",
   "nbconvert_exporter": "python",
   "pygments_lexer": "ipython3",
   "version": "3.6.1"
  }
 },
 "nbformat": 4,
 "nbformat_minor": 2
}
