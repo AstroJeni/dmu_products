{
 "cells": [
  {
   "cell_type": "markdown",
   "metadata": {},
   "source": [
    "# XMM-LSS master catalogue\n",
    "\n",
    "This notebook presents the merge of the pristine catalogues from CFHT Megacam. This has to be conducted separately on XMM-LSS due to the large amount of memory required on this field.\n",
    "\n",
    "This notebook also ingests all the CANDELS-UDS data apart from the photometry that needs to be merged in other 2.x notebooks.\n",
    "\n",
    "Since this is where we ingest all the CANDELS fluxes apert from UKIDSS and IRAC we take the opportunity here to merge them in with SXDS Suprime fluxes.\n",
    "\n"
   ]
  },
  {
   "cell_type": "code",
   "execution_count": 1,
   "metadata": {},
   "outputs": [
    {
     "name": "stdout",
     "output_type": "stream",
     "text": [
      "This notebook was run with herschelhelp_internal version: \n",
      "0246c5d (Thu Jan 25 17:01:47 2018 +0000) [with local modifications]\n",
      "This notebook was executed on: \n",
      "2018-02-19 14:17:41.586755\n"
     ]
    }
   ],
   "source": [
    "from herschelhelp_internal import git_version\n",
    "print(\"This notebook was run with herschelhelp_internal version: \\n{}\".format(git_version()))\n",
    "import datetime\n",
    "print(\"This notebook was executed on: \\n{}\".format(datetime.datetime.now()))"
   ]
  },
  {
   "cell_type": "code",
   "execution_count": 2,
   "metadata": {},
   "outputs": [
    {
     "name": "stderr",
     "output_type": "stream",
     "text": [
      "/Users/rs548/anaconda/envs/herschelhelp_internal/lib/python3.6/site-packages/seaborn/apionly.py:6: UserWarning: As seaborn no longer sets a default style on import, the seaborn.apionly module is deprecated. It will be removed in a future version.\n",
      "  warnings.warn(msg, UserWarning)\n"
     ]
    }
   ],
   "source": [
    "%matplotlib inline\n",
    "#%config InlineBackend.figure_format = 'svg'\n",
    "\n",
    "import matplotlib.pyplot as plt\n",
    "plt.rc('figure', figsize=(10, 6))\n",
    "\n",
    "import os\n",
    "import time\n",
    "\n",
    "from astropy import units as u\n",
    "from astropy.coordinates import SkyCoord\n",
    "from astropy.table import Column, Table\n",
    "import numpy as np\n",
    "from pymoc import MOC\n",
    "\n",
    "from herschelhelp_internal.masterlist import merge_catalogues, nb_merge_dist_plot, specz_merge\n",
    "from herschelhelp_internal.utils import coords_to_hpidx, ebv, gen_help_id, inMoc"
   ]
  },
  {
   "cell_type": "code",
   "execution_count": 3,
   "metadata": {
    "collapsed": true
   },
   "outputs": [],
   "source": [
    "TMP_DIR = os.environ.get('TMP_DIR', \"./data_tmp\")\n",
    "OUT_DIR = os.environ.get('OUT_DIR', \"./data\")\n",
    "SUFFIX = os.environ.get('SUFFIX', time.strftime(\"_%Y%m%d\"))\n",
    "\n",
    "try:\n",
    "    os.makedirs(OUT_DIR)\n",
    "except FileExistsError:\n",
    "    pass"
   ]
  },
  {
   "cell_type": "markdown",
   "metadata": {},
   "source": [
    "## I - Reading the prepared pristine catalogues"
   ]
  },
  {
   "cell_type": "code",
   "execution_count": 4,
   "metadata": {
    "collapsed": true
   },
   "outputs": [],
   "source": [
    "#candels = Table.read(\"{}/CANDELS.fits\".format(TMP_DIR))           # 1.1\n",
    "candels = Table.read(\"{}/CANDELS-UDS.fits\".format(TMP_DIR))           # 1.2\n",
    "cfht_wirds = Table.read(\"{}/CFHT-WIRDS.fits\".format(TMP_DIR))     # 1.3\n",
    "cfhtls_wide = Table.read(\"{}/CFHTLS-WIDE.fits\".format(TMP_DIR))   # 1.4a\n",
    "cfhtls_deep = Table.read(\"{}/CFHTLS-DEEP.fits\".format(TMP_DIR))   # 1.4b\n",
    "#We no longer use CFHTLenS as it is the same raw data set as CFHTLS-WIDE\n",
    "# cfhtlens = Table.read(\"{}/CFHTLENS.fits\".format(TMP_DIR))         # 1.5\n",
    "#decals = Table.read(\"{}/DECaLS.fits\".format(TMP_DIR))             # 1.6\n",
    "#servs = Table.read(\"{}/SERVS.fits\".format(TMP_DIR))               # 1.8\n",
    "#swire = Table.read(\"{}/SWIRE.fits\".format(TMP_DIR))               # 1.7\n",
    "#hsc_wide = Table.read(\"{}/HSC-WIDE.fits\".format(TMP_DIR))         # 1.9a\n",
    "#hsc_deep = Table.read(\"{}/HSC-DEEP.fits\".format(TMP_DIR))         # 1.9b\n",
    "#hsc_udeep = Table.read(\"{}/HSC-UDEEP.fits\".format(TMP_DIR))       # 1.9c\n",
    "#ps1 = Table.read(\"{}/PS1.fits\".format(TMP_DIR))                   # 1.10\n",
    "sxds = Table.read(\"{}/SXDS.fits\".format(TMP_DIR))                 # 1.11\n",
    "sparcs = Table.read(\"{}/SpARCS.fits\".format(TMP_DIR))             # 1.12\n",
    "#dxs = Table.read(\"{}/UKIDSS-DXS.fits\".format(TMP_DIR))            # 1.13\n",
    "#uds = Table.read(\"{}/UKIDSS-UDS.fits\".format(TMP_DIR))            # 1.14\n",
    "vipers = Table.read(\"{}/VIPERS.fits\".format(TMP_DIR))             # 1.15\n",
    "#vhs = Table.read(\"{}/VISTA-VHS.fits\".format(TMP_DIR))             # 1.16\n",
    "#video = Table.read(\"{}/VISTA-VIDEO.fits\".format(TMP_DIR))         # 1.17\n",
    "#viking = Table.read(\"{}/VISTA-VIKING.fits\".format(TMP_DIR))       # 1.18"
   ]
  },
  {
   "cell_type": "markdown",
   "metadata": {},
   "source": [
    "## II - Merging tables\n",
    "\n",
    "We first merge the optical catalogues and then add the infrared ones. We start with PanSTARRS because it coevrs the whole field.\n",
    "\n",
    "At every step, we look at the distribution of the distances to the nearest source in the merged catalogue to determine the best crossmatching radius."
   ]
  },
  {
   "cell_type": "markdown",
   "metadata": {},
   "source": [
    "### Start with CANDELS"
   ]
  },
  {
   "cell_type": "code",
   "execution_count": 5,
   "metadata": {},
   "outputs": [
    {
     "name": "stdout",
     "output_type": "stream",
     "text": [
      "f_candels-ukidss_j  removed.\n",
      "ferr_candels-ukidss_j  removed.\n",
      "f_candels-ukidss_h  removed.\n",
      "ferr_candels-ukidss_h  removed.\n",
      "f_candels-ukidss_k  removed.\n",
      "ferr_candels-ukidss_k  removed.\n",
      "f_candels-irac_i1  removed.\n",
      "ferr_candels-irac_i1  removed.\n",
      "f_candels-irac_i2  removed.\n",
      "ferr_candels-irac_i2  removed.\n",
      "f_candels-irac_i3  removed.\n",
      "ferr_candels-irac_i3  removed.\n",
      "f_candels-irac_i4  removed.\n",
      "ferr_candels-irac_i4  removed.\n",
      "m_candels-ukidss_j  removed.\n",
      "merr_candels-ukidss_j  removed.\n",
      "flag_candels-ukidss_j  removed.\n",
      "m_candels-ukidss_h  removed.\n",
      "merr_candels-ukidss_h  removed.\n",
      "flag_candels-ukidss_h  removed.\n",
      "m_candels-ukidss_k  removed.\n",
      "merr_candels-ukidss_k  removed.\n",
      "flag_candels-ukidss_k  removed.\n",
      "m_candels-irac_i1  removed.\n",
      "merr_candels-irac_i1  removed.\n",
      "flag_candels-irac_i1  removed.\n",
      "m_candels-irac_i2  removed.\n",
      "merr_candels-irac_i2  removed.\n",
      "flag_candels-irac_i2  removed.\n",
      "m_candels-irac_i3  removed.\n",
      "merr_candels-irac_i3  removed.\n",
      "flag_candels-irac_i3  removed.\n",
      "m_candels-irac_i4  removed.\n",
      "merr_candels-irac_i4  removed.\n",
      "flag_candels-irac_i4  removed.\n"
     ]
    }
   ],
   "source": [
    "master_catalogue = candels\n",
    "master_catalogue['candels_ra'].name = 'ra'\n",
    "master_catalogue['candels_dec'].name = 'dec'\n",
    "del candels\n",
    "unused_bands = [ 'candels-ukidss', 'candels-irac']\n",
    "for col in master_catalogue.colnames:\n",
    "    \n",
    "    for band in unused_bands:\n",
    "        if band in col:\n",
    "            master_catalogue.remove_column(col)\n",
    "            print(col, ' removed.')"
   ]
  },
  {
   "cell_type": "markdown",
   "metadata": {},
   "source": [
    "### Add CFHTLS-DEEP"
   ]
  },
  {
   "cell_type": "code",
   "execution_count": 6,
   "metadata": {},
   "outputs": [
    {
     "name": "stdout",
     "output_type": "stream",
     "text": [
      "HELP Warning: There weren't any cross matches. The two surveys probably don't overlap.\n"
     ]
    }
   ],
   "source": [
    "nb_merge_dist_plot(\n",
    "    SkyCoord(master_catalogue['ra'], master_catalogue['dec']),\n",
    "    SkyCoord(cfhtls_deep['cfhtls-deep_ra'], cfhtls_deep['cfhtls-deep_dec'])\n",
    ")"
   ]
  },
  {
   "cell_type": "code",
   "execution_count": 7,
   "metadata": {
    "collapsed": true
   },
   "outputs": [],
   "source": [
    "# Given the graph above, we use 0.8 arc-second radius\n",
    "master_catalogue = merge_catalogues(master_catalogue, \n",
    "                                    cfhtls_deep, \n",
    "                                    \"cfhtls-deep_ra\", \n",
    "                                    \"cfhtls-deep_dec\", \n",
    "                                    radius=0.8*u.arcsec)"
   ]
  },
  {
   "cell_type": "markdown",
   "metadata": {},
   "source": [
    "###  Add CFHTLS-WIDE"
   ]
  },
  {
   "cell_type": "code",
   "execution_count": 8,
   "metadata": {},
   "outputs": [
    {
     "data": {
      "image/png": "[encoded data removed]",
      "text/plain": [
       "<matplotlib.figure.Figure at 0x115b79a58>"
      ]
     },
     "metadata": {},
     "output_type": "display_data"
    }
   ],
   "source": [
    "nb_merge_dist_plot(\n",
    "    SkyCoord(master_catalogue['ra'], master_catalogue['dec']),\n",
    "    SkyCoord(cfhtls_wide['cfhtls-wide_ra'], cfhtls_wide['cfhtls-wide_dec'])\n",
    ")"
   ]
  },
  {
   "cell_type": "code",
   "execution_count": 9,
   "metadata": {
    "collapsed": true
   },
   "outputs": [],
   "source": [
    "# Given the graph above, we use 0.8 arc-second radius\n",
    "master_catalogue = merge_catalogues(master_catalogue, \n",
    "                                    cfhtls_wide, \n",
    "                                    \"cfhtls-wide_ra\", \n",
    "                                    \"cfhtls-wide_dec\", \n",
    "                                    radius=0.8*u.arcsec)"
   ]
  },
  {
   "cell_type": "markdown",
   "metadata": {},
   "source": [
    "### Add SpARCS"
   ]
  },
  {
   "cell_type": "code",
   "execution_count": 10,
   "metadata": {},
   "outputs": [
    {
     "name": "stdout",
     "output_type": "stream",
     "text": [
      "HELP Warning: There weren't any cross matches. The two surveys probably don't overlap.\n"
     ]
    }
   ],
   "source": [
    "nb_merge_dist_plot(\n",
    "    SkyCoord(master_catalogue['ra'], master_catalogue['dec']),\n",
    "    SkyCoord(sparcs['sparcs_ra'], sparcs['sparcs_dec'])\n",
    ")"
   ]
  },
  {
   "cell_type": "code",
   "execution_count": 11,
   "metadata": {
    "collapsed": true
   },
   "outputs": [],
   "source": [
    "# Given the graph above, we use 0.8 arc-second radius\n",
    "master_catalogue = merge_catalogues(master_catalogue, sparcs, \"sparcs_ra\", \"sparcs_dec\", radius=0.8*u.arcsec)"
   ]
  },
  {
   "cell_type": "markdown",
   "metadata": {},
   "source": [
    "###  Add CFHT-WIRDS"
   ]
  },
  {
   "cell_type": "code",
   "execution_count": 12,
   "metadata": {},
   "outputs": [
    {
     "data": {
      "image/png": "[encoded data removed]",
      "text/plain": [
       "<matplotlib.figure.Figure at 0x115b50e48>"
      ]
     },
     "metadata": {},
     "output_type": "display_data"
    }
   ],
   "source": [
    "nb_merge_dist_plot(\n",
    "    SkyCoord(master_catalogue['ra'], master_catalogue['dec']),\n",
    "    SkyCoord(cfht_wirds['wirds_ra'], cfht_wirds['wirds_dec'])\n",
    ")"
   ]
  },
  {
   "cell_type": "code",
   "execution_count": 13,
   "metadata": {
    "collapsed": true
   },
   "outputs": [],
   "source": [
    "# Given the graph above, we use 0.8 arc-second radius\n",
    "master_catalogue = merge_catalogues(master_catalogue, \n",
    "                                    cfht_wirds, \n",
    "                                    \"wirds_ra\", \n",
    "                                    \"wirds_dec\", \n",
    "                                    radius=0.8*u.arcsec)"
   ]
  },
  {
   "cell_type": "markdown",
   "metadata": {},
   "source": [
    "### Add VIPERS"
   ]
  },
  {
   "cell_type": "code",
   "execution_count": 14,
   "metadata": {},
   "outputs": [
    {
     "data": {
      "image/png": "[encoded data removed]",
      "text/plain": [
       "<matplotlib.figure.Figure at 0x123c237b8>"
      ]
     },
     "metadata": {},
     "output_type": "display_data"
    }
   ],
   "source": [
    "nb_merge_dist_plot(\n",
    "    SkyCoord(master_catalogue['ra'], master_catalogue['dec']),\n",
    "    SkyCoord(vipers['vipers_ra'], vipers['vipers_dec'])\n",
    ")"
   ]
  },
  {
   "cell_type": "code",
   "execution_count": 15,
   "metadata": {
    "collapsed": true
   },
   "outputs": [],
   "source": [
    "# Given the graph above, we use 0.8 arc-second radius\n",
    "master_catalogue = merge_catalogues(master_catalogue, \n",
    "                                    vipers, \n",
    "                                    \"vipers_ra\", \n",
    "                                    \"vipers_dec\", \n",
    "                                    radius=0.8*u.arcsec)"
   ]
  },
  {
   "cell_type": "markdown",
   "metadata": {},
   "source": [
    "## Add SXDS"
   ]
  },
  {
   "cell_type": "code",
   "execution_count": 16,
   "metadata": {},
   "outputs": [
    {
     "data": {
      "image/png": "[encoded data removed]",
      "text/plain": [
       "<matplotlib.figure.Figure at 0x1193ed438>"
      ]
     },
     "metadata": {},
     "output_type": "display_data"
    }
   ],
   "source": [
    "nb_merge_dist_plot(\n",
    "    SkyCoord(master_catalogue['ra'], master_catalogue['dec']),\n",
    "    SkyCoord(sxds['sxds_ra'], sxds['sxds_dec'])\n",
    ")"
   ]
  },
  {
   "cell_type": "code",
   "execution_count": 17,
   "metadata": {
    "collapsed": true
   },
   "outputs": [],
   "source": [
    "# Given the graph above, we use 0.8 arc-second radius\n",
    "master_catalogue = merge_catalogues(master_catalogue, \n",
    "                                    sxds, \n",
    "                                    \"sxds_ra\", \n",
    "                                    \"sxds_dec\", \n",
    "                                    radius=0.8*u.arcsec)"
   ]
  },
  {
   "cell_type": "markdown",
   "metadata": {},
   "source": [
    "### Cleaning\n",
    "\n",
    "When we merge the catalogues, astropy masks the non-existent values (e.g. when a row comes only from a catalogue and has no counterparts in the other, the columns from the latest are masked for that row). We indicate to use NaN for masked values for floats columns, False for flag columns and -1 for ID columns."
   ]
  },
  {
   "cell_type": "code",
   "execution_count": 18,
   "metadata": {
    "collapsed": true
   },
   "outputs": [],
   "source": [
    "for col in master_catalogue.colnames:\n",
    "    if \"m_\" in col or \"merr_\" in col or \"f_\" in col or \"ferr_\" in col or \"stellarity\" in col:\n",
    "        master_catalogue[col] = master_catalogue[col].astype(float)\n",
    "        master_catalogue[col].fill_value = np.nan\n",
    "    elif \"flag\" in col:\n",
    "        master_catalogue[col].fill_value = 0\n",
    "    elif \"id\" in col:\n",
    "        master_catalogue[col].fill_value = -1\n",
    "        \n",
    "master_catalogue = master_catalogue.filled()"
   ]
  },
  {
   "cell_type": "code",
   "execution_count": 19,
   "metadata": {
    "collapsed": true
   },
   "outputs": [],
   "source": [
    "#Since this is not the final merged catalogue. We rename column names to make them unique\n",
    "master_catalogue['ra'].name = 'cfht_ra'\n",
    "master_catalogue['dec'].name = 'cfht_dec'\n",
    "master_catalogue['flag_merged'].name = 'cfht_flag_merged'"
   ]
  },
  {
   "cell_type": "code",
   "execution_count": 20,
   "metadata": {},
   "outputs": [
    {
     "data": {
      "text/html": [
       "&lt;Table length=10&gt;\n",
       "<table id=\"table4734350952-276544\" class=\"table-striped table-bordered table-condensed\">\n",
       "<thead><tr><th>idx</th><th>candels_id</th><th>cfht_ra</th><th>cfht_dec</th><th>candels_stellarity</th><th>f_acs_f606w</th><th>ferr_acs_f606w</th><th>f_ap_acs_f606w</th><th>ferr_ap_acs_f606w</th><th>f_acs_f814w</th><th>ferr_acs_f814w</th><th>f_ap_acs_f814w</th><th>ferr_ap_acs_f814w</th><th>f_wfc3_f125w</th><th>ferr_wfc3_f125w</th><th>f_ap_wfc3_f125w</th><th>ferr_ap_wfc3_f125w</th><th>f_wfc3_f160w</th><th>ferr_wfc3_f160w</th><th>f_ap_wfc3_f160w</th><th>ferr_ap_wfc3_f160w</th><th>f_candels-megacam_u</th><th>ferr_candels-megacam_u</th><th>f_suprime_b</th><th>ferr_suprime_b</th><th>f_suprime_v</th><th>ferr_suprime_v</th><th>f_suprime_rc</th><th>ferr_suprime_rc</th><th>f_suprime_ip</th><th>ferr_suprime_ip</th><th>f_suprime_zp</th><th>ferr_suprime_zp</th><th>f_hawki_k</th><th>ferr_hawki_y</th><th>ferr_hawki_k</th><th>m_acs_f606w</th><th>merr_acs_f606w</th><th>flag_acs_f606w</th><th>m_ap_acs_f606w</th><th>merr_ap_acs_f606w</th><th>m_acs_f814w</th><th>merr_acs_f814w</th><th>flag_acs_f814w</th><th>m_ap_acs_f814w</th><th>merr_ap_acs_f814w</th><th>m_wfc3_f125w</th><th>merr_wfc3_f125w</th><th>flag_wfc3_f125w</th><th>m_ap_wfc3_f125w</th><th>merr_ap_wfc3_f125w</th><th>m_wfc3_f160w</th><th>merr_wfc3_f160w</th><th>flag_wfc3_f160w</th><th>m_ap_wfc3_f160w</th><th>merr_ap_wfc3_f160w</th><th>m_candels-megacam_u</th><th>merr_candels-megacam_u</th><th>flag_candels-megacam_u</th><th>m_suprime_b</th><th>merr_suprime_b</th><th>flag_suprime_b</th><th>m_suprime_v</th><th>merr_suprime_v</th><th>flag_suprime_v</th><th>m_suprime_rc</th><th>merr_suprime_rc</th><th>flag_suprime_rc</th><th>m_suprime_ip</th><th>merr_suprime_ip</th><th>flag_suprime_ip</th><th>m_suprime_zp</th><th>merr_suprime_zp</th><th>flag_suprime_zp</th><th>m_hawki_k</th><th>merr_hawki_k</th><th>flag_hawki_k</th><th>candels_flag_cleaned</th><th>candels_flag_gaia</th><th>cfht_flag_merged</th><th>cfhtls-deep_id</th><th>cfhtls-deep_stellarity</th><th>m_cfhtls-deep_u</th><th>merr_cfhtls-deep_u</th><th>m_cfhtls-deep_g</th><th>merr_cfhtls-deep_g</th><th>m_cfhtls-deep_r</th><th>merr_cfhtls-deep_r</th><th>m_cfhtls-deep_i</th><th>merr_cfhtls-deep_i</th><th>m_cfhtls-deep_z</th><th>merr_cfhtls-deep_z</th><th>m_cfhtls-deep_y</th><th>merr_cfhtls-deep_y</th><th>m_ap_cfhtls-deep_u</th><th>merr_ap_cfhtls-deep_u</th><th>m_ap_cfhtls-deep_g</th><th>merr_ap_cfhtls-deep_g</th><th>m_ap_cfhtls-deep_r</th><th>merr_ap_cfhtls-deep_r</th><th>m_ap_cfhtls-deep_i</th><th>merr_ap_cfhtls-deep_i</th><th>m_ap_cfhtls-deep_z</th><th>merr_ap_cfhtls-deep_z</th><th>m_ap_cfhtls-deep_y</th><th>merr_ap_cfhtls-deep_y</th><th>f_cfhtls-deep_u</th><th>ferr_cfhtls-deep_u</th><th>flag_cfhtls-deep_u</th><th>f_cfhtls-deep_g</th><th>ferr_cfhtls-deep_g</th><th>flag_cfhtls-deep_g</th><th>f_cfhtls-deep_r</th><th>ferr_cfhtls-deep_r</th><th>flag_cfhtls-deep_r</th><th>f_cfhtls-deep_i</th><th>ferr_cfhtls-deep_i</th><th>flag_cfhtls-deep_i</th><th>f_cfhtls-deep_z</th><th>ferr_cfhtls-deep_z</th><th>flag_cfhtls-deep_z</th><th>f_cfhtls-deep_y</th><th>ferr_cfhtls-deep_y</th><th>flag_cfhtls-deep_y</th><th>f_ap_cfhtls-deep_u</th><th>ferr_ap_cfhtls-deep_u</th><th>f_ap_cfhtls-deep_g</th><th>ferr_ap_cfhtls-deep_g</th><th>f_ap_cfhtls-deep_r</th><th>ferr_ap_cfhtls-deep_r</th><th>f_ap_cfhtls-deep_i</th><th>ferr_ap_cfhtls-deep_i</th><th>f_ap_cfhtls-deep_z</th><th>ferr_ap_cfhtls-deep_z</th><th>f_ap_cfhtls-deep_y</th><th>ferr_ap_cfhtls-deep_y</th><th>cfhtls-deep_flag_cleaned</th><th>cfhtls-deep_flag_gaia</th><th>cfhtls-wide_id</th><th>cfhtls-wide_stellarity</th><th>m_cfhtls-wide_u</th><th>merr_cfhtls-wide_u</th><th>m_cfhtls-wide_g</th><th>merr_cfhtls-wide_g</th><th>m_cfhtls-wide_r</th><th>merr_cfhtls-wide_r</th><th>m_cfhtls-wide_i</th><th>merr_cfhtls-wide_i</th><th>m_cfhtls-wide_z</th><th>merr_cfhtls-wide_z</th><th>m_ap_cfhtls-wide_u</th><th>merr_ap_cfhtls-wide_u</th><th>m_ap_cfhtls-wide_g</th><th>merr_ap_cfhtls-wide_g</th><th>m_ap_cfhtls-wide_r</th><th>merr_ap_cfhtls-wide_r</th><th>m_ap_cfhtls-wide_i</th><th>merr_ap_cfhtls-wide_i</th><th>m_ap_cfhtls-wide_z</th><th>merr_ap_cfhtls-wide_z</th><th>f_cfhtls-wide_u</th><th>ferr_cfhtls-wide_u</th><th>flag_cfhtls-wide_u</th><th>f_cfhtls-wide_g</th><th>ferr_cfhtls-wide_g</th><th>flag_cfhtls-wide_g</th><th>f_cfhtls-wide_r</th><th>ferr_cfhtls-wide_r</th><th>flag_cfhtls-wide_r</th><th>f_cfhtls-wide_i</th><th>ferr_cfhtls-wide_i</th><th>flag_cfhtls-wide_i</th><th>f_cfhtls-wide_z</th><th>ferr_cfhtls-wide_z</th><th>flag_cfhtls-wide_z</th><th>f_ap_cfhtls-wide_u</th><th>ferr_ap_cfhtls-wide_u</th><th>f_ap_cfhtls-wide_g</th><th>ferr_ap_cfhtls-wide_g</th><th>f_ap_cfhtls-wide_r</th><th>ferr_ap_cfhtls-wide_r</th><th>f_ap_cfhtls-wide_i</th><th>ferr_ap_cfhtls-wide_i</th><th>f_ap_cfhtls-wide_z</th><th>ferr_ap_cfhtls-wide_z</th><th>cfhtls-wide_flag_cleaned</th><th>cfhtls-wide_flag_gaia</th><th>sparcs_intid</th><th>sparcs_stellarity</th><th>m_ap_sparcs_u</th><th>merr_ap_sparcs_u</th><th>f_ap_sparcs_u</th><th>ferr_ap_sparcs_u</th><th>m_sparcs_u</th><th>merr_sparcs_u</th><th>f_sparcs_u</th><th>ferr_sparcs_u</th><th>flag_sparcs_u</th><th>m_ap_sparcs_g</th><th>merr_ap_sparcs_g</th><th>f_ap_sparcs_g</th><th>ferr_ap_sparcs_g</th><th>m_sparcs_g</th><th>merr_sparcs_g</th><th>f_sparcs_g</th><th>ferr_sparcs_g</th><th>flag_sparcs_g</th><th>m_ap_sparcs_r</th><th>merr_ap_sparcs_r</th><th>f_ap_sparcs_r</th><th>ferr_ap_sparcs_r</th><th>m_sparcs_r</th><th>merr_sparcs_r</th><th>f_sparcs_r</th><th>ferr_sparcs_r</th><th>flag_sparcs_r</th><th>m_ap_sparcs_z</th><th>merr_ap_sparcs_z</th><th>f_ap_sparcs_z</th><th>ferr_ap_sparcs_z</th><th>m_sparcs_z</th><th>merr_sparcs_z</th><th>f_sparcs_z</th><th>ferr_sparcs_z</th><th>flag_sparcs_z</th><th>m_ap_sparcs_y</th><th>merr_ap_sparcs_y</th><th>f_ap_sparcs_y</th><th>ferr_ap_sparcs_y</th><th>m_sparcs_y</th><th>merr_sparcs_y</th><th>f_sparcs_y</th><th>ferr_sparcs_y</th><th>flag_sparcs_y</th><th>sparcs_flag_cleaned</th><th>sparcs_flag_gaia</th><th>wirds_id</th><th>m_wirds_u</th><th>merr_wirds_u</th><th>m_ap_wirds_u</th><th>merr_ap_wirds_u</th><th>m_wirds_g</th><th>merr_wirds_g</th><th>m_ap_wirds_g</th><th>merr_ap_wirds_g</th><th>m_wirds_r</th><th>merr_wirds_r</th><th>m_ap_wirds_r</th><th>merr_ap_wirds_r</th><th>m_wirds_i</th><th>merr_wirds_i</th><th>m_ap_wirds_i</th><th>merr_ap_wirds_i</th><th>m_wirds_z</th><th>merr_wirds_z</th><th>m_ap_wirds_z</th><th>merr_ap_wirds_z</th><th>m_wirds_j</th><th>merr_wirds_j</th><th>m_ap_wirds_j</th><th>merr_ap_wirds_j</th><th>m_wirds_h</th><th>merr_wirds_h</th><th>m_ap_wirds_h</th><th>merr_ap_wirds_h</th><th>m_wirds_k</th><th>merr_wirds_k</th><th>m_ap_wirds_k</th><th>merr_ap_wirds_k</th><th>f_wirds_u</th><th>ferr_wirds_u</th><th>flag_wirds_u</th><th>f_ap_wirds_u</th><th>ferr_ap_wirds_u</th><th>f_wirds_g</th><th>ferr_wirds_g</th><th>flag_wirds_g</th><th>f_ap_wirds_g</th><th>ferr_ap_wirds_g</th><th>f_wirds_r</th><th>ferr_wirds_r</th><th>flag_wirds_r</th><th>f_ap_wirds_r</th><th>ferr_ap_wirds_r</th><th>f_wirds_i</th><th>ferr_wirds_i</th><th>flag_wirds_i</th><th>f_ap_wirds_i</th><th>ferr_ap_wirds_i</th><th>f_wirds_z</th><th>ferr_wirds_z</th><th>flag_wirds_z</th><th>f_ap_wirds_z</th><th>ferr_ap_wirds_z</th><th>f_wirds_j</th><th>ferr_wirds_j</th><th>flag_wirds_j</th><th>f_ap_wirds_j</th><th>ferr_ap_wirds_j</th><th>f_wirds_h</th><th>ferr_wirds_h</th><th>flag_wirds_h</th><th>f_ap_wirds_h</th><th>ferr_ap_wirds_h</th><th>f_wirds_k</th><th>ferr_wirds_k</th><th>flag_wirds_k</th><th>f_ap_wirds_k</th><th>ferr_ap_wirds_k</th><th>wirds_flag_cleaned</th><th>cfht-wirds_flag_gaia</th><th>vipers_id</th><th>m_vipers_u</th><th>merr_vipers_u</th><th>m_vipers_g</th><th>merr_vipers_g</th><th>m_vipers_r</th><th>merr_vipers_r</th><th>m_vipers_i</th><th>merr_vipers_i</th><th>m_vipers_y</th><th>merr_vipers_y</th><th>m_vipers_z</th><th>merr_vipers_z</th><th>m_vipers_ks</th><th>merr_vipers_ks</th><th>f_vipers_u</th><th>ferr_vipers_u</th><th>flag_vipers_u</th><th>f_vipers_g</th><th>ferr_vipers_g</th><th>flag_vipers_g</th><th>f_vipers_r</th><th>ferr_vipers_r</th><th>flag_vipers_r</th><th>f_vipers_i</th><th>ferr_vipers_i</th><th>flag_vipers_i</th><th>f_vipers_y</th><th>ferr_vipers_y</th><th>flag_vipers_y</th><th>f_vipers_z</th><th>ferr_vipers_z</th><th>flag_vipers_z</th><th>f_vipers_ks</th><th>ferr_vipers_ks</th><th>flag_vipers_ks</th><th>vipers_flag_cleaned</th><th>vipers_flag_gaia</th><th>sxds_b_id</th><th>m_ap_sxds-suprime_b</th><th>merr_ap_sxds-suprime_b</th><th>m_sxds-suprime_b</th><th>merr_sxds-suprime_b</th><th>sxds_flag_merged</th><th>sxds_v_id</th><th>m_ap_sxds-suprime_v</th><th>merr_ap_sxds-suprime_v</th><th>m_sxds-suprime_v</th><th>merr_sxds-suprime_v</th><th>sxds_r_id</th><th>m_ap_sxds-suprime_rc</th><th>merr_ap_sxds-suprime_rc</th><th>m_sxds-suprime_rc</th><th>merr_sxds-suprime_rc</th><th>sxds_i_id</th><th>m_ap_sxds-suprime_ip</th><th>merr_ap_sxds-suprime_ip</th><th>m_sxds-suprime_ip</th><th>merr_sxds-suprime_ip</th><th>sxds_z_id</th><th>m_ap_sxds-suprime_zp</th><th>merr_ap_sxds-suprime_zp</th><th>m_sxds-suprime_zp</th><th>merr_sxds-suprime_zp</th><th>f_ap_sxds-suprime_b</th><th>ferr_ap_sxds-suprime_b</th><th>f_sxds-suprime_b</th><th>ferr_sxds-suprime_b</th><th>flag_sxds-suprime_b</th><th>f_ap_sxds-suprime_v</th><th>ferr_ap_sxds-suprime_v</th><th>f_sxds-suprime_v</th><th>ferr_sxds-suprime_v</th><th>flag_sxds-suprime_v</th><th>f_ap_sxds-suprime_rc</th><th>ferr_ap_sxds-suprime_rc</th><th>f_sxds-suprime_rc</th><th>ferr_sxds-suprime_rc</th><th>flag_sxds-suprime_rc</th><th>f_ap_sxds-suprime_ip</th><th>ferr_ap_sxds-suprime_ip</th><th>f_sxds-suprime_ip</th><th>ferr_sxds-suprime_ip</th><th>flag_sxds-suprime_ip</th><th>f_ap_sxds-suprime_zp</th><th>ferr_ap_sxds-suprime_zp</th><th>f_sxds-suprime_zp</th><th>ferr_sxds-suprime_zp</th><th>flag_sxds-suprime_zp</th><th>sxds_stellarity</th><th>sxds_flag_cleaned</th><th>sxds_flag_gaia</th><th>sxds_intid</th></tr></thead>\n",
       "<thead><tr><th></th><th></th><th>deg</th><th>deg</th><th></th><th></th><th></th><th></th><th></th><th></th><th></th><th></th><th></th><th></th><th></th><th></th><th></th><th></th><th></th><th></th><th></th><th></th><th></th><th></th><th></th><th></th><th></th><th></th><th></th><th></th><th></th><th></th><th></th><th></th><th></th><th></th><th></th><th></th><th></th><th></th><th></th><th></th><th></th><th></th><th></th><th></th><th></th><th></th><th></th><th></th><th></th><th></th><th></th><th></th><th></th><th></th><th></th><th></th><th></th><th></th><th></th><th></th><th></th><th></th><th></th><th></th><th></th><th></th><th></th><th></th><th></th><th></th><th></th><th></th><th></th><th></th><th></th><th></th><th></th><th></th><th></th><th></th><th>mag</th><th>mag</th><th>mag</th><th>mag</th><th>mag</th><th>mag</th><th>mag</th><th>mag</th><th>mag</th><th>mag</th><th>mag</th><th>mag</th><th>mag</th><th>mag</th><th>mag</th><th>mag</th><th>mag</th><th>mag</th><th>mag</th><th>mag</th><th>mag</th><th>mag</th><th>mag</th><th>mag</th><th></th><th></th><th></th><th></th><th></th><th></th><th></th><th></th><th></th><th></th><th></th><th></th><th></th><th></th><th></th><th></th><th></th><th></th><th></th><th></th><th></th><th></th><th></th><th></th><th></th><th></th><th></th><th></th><th></th><th></th><th></th><th></th><th></th><th></th><th>mag</th><th>mag</th><th>mag</th><th>mag</th><th>mag</th><th>mag</th><th>mag</th><th>mag</th><th>mag</th><th>mag</th><th>mag</th><th>mag</th><th>mag</th><th>mag</th><th>mag</th><th>mag</th><th>mag</th><th>mag</th><th>mag</th><th>mag</th><th></th><th></th><th></th><th></th><th></th><th></th><th></th><th></th><th></th><th></th><th></th><th></th><th></th><th></th><th></th><th></th><th></th><th></th><th></th><th></th><th></th><th></th><th></th><th></th><th></th><th></th><th></th><th></th><th></th><th></th><th></th><th></th><th></th><th>mag</th><th>mag</th><th></th><th></th><th></th><th></th><th></th><th></th><th></th><th>mag</th><th>mag</th><th></th><th></th><th></th><th></th><th></th><th></th><th></th><th>mag</th><th>mag</th><th></th><th></th><th></th><th></th><th></th><th></th><th></th><th>mag</th><th>mag</th><th></th><th></th><th></th><th></th><th></th><th></th><th></th><th>mag</th><th>mag</th><th></th><th></th><th></th><th></th><th></th><th></th><th></th><th></th><th></th><th></th><th></th><th></th><th></th><th></th><th></th><th></th><th></th><th></th><th></th><th></th><th></th><th></th><th></th><th></th><th></th><th></th><th></th><th></th><th></th><th></th><th></th><th></th><th></th><th></th><th></th><th></th><th></th><th></th><th></th><th></th><th></th><th></th><th></th><th></th><th></th><th></th><th></th><th></th><th></th><th></th><th></th><th></th><th></th><th></th><th></th><th></th><th></th><th></th><th></th><th></th><th></th><th></th><th></th><th></th><th></th><th></th><th></th><th></th><th></th><th></th><th></th><th></th><th></th><th></th><th></th><th></th><th></th><th></th><th></th><th></th><th></th><th>mag</th><th>mag</th><th>mag</th><th>mag</th><th>mag</th><th>mag</th><th>mag</th><th>mag</th><th>mag</th><th>mag</th><th>mag</th><th>mag</th><th>mag</th><th>mag</th><th></th><th></th><th></th><th></th><th></th><th></th><th></th><th></th><th></th><th></th><th></th><th></th><th></th><th></th><th></th><th></th><th></th><th></th><th></th><th></th><th></th><th></th><th></th><th></th><th></th><th></th><th></th><th></th><th></th><th></th><th></th><th></th><th></th><th></th><th></th><th></th><th></th><th></th><th></th><th></th><th></th><th></th><th></th><th></th><th></th><th></th><th></th><th></th><th></th><th></th><th></th><th></th><th></th><th></th><th></th><th></th><th></th><th></th><th></th><th></th><th></th><th></th><th></th><th></th><th></th><th></th><th></th><th></th><th></th><th></th><th></th><th></th><th></th><th></th><th></th><th></th><th></th><th></th></tr></thead>\n",
       "<tr><td>0</td><td>35489</td><td>34.4574665693</td><td>-5.12505315973</td><td>0.810000002384</td><td>0.298381</td><td>0.0238874</td><td>10.9281</td><td>0.15288</td><td>0.00143149</td><td>0.0092305</td><td>-0.00183649</td><td>0.0642266</td><td>nan</td><td>nan</td><td>nan</td><td>nan</td><td>nan</td><td>nan</td><td>0.141817</td><td>0.122139</td><td>0.0001823</td><td>0.0009912</td><td>0.0004968</td><td>0.0005385</td><td>0.0005475</td><td>0.0006726</td><td>-0.0006306</td><td>0.0009151</td><td>0.0004952</td><td>0.0008751</td><td>-0.0030324</td><td>0.0022392</td><td>nan</td><td>-99.0</td><td>nan</td><td>25.2130720872</td><td>0.0869204641634</td><td>False</td><td>21.3036383488</td><td>0.0151890402708</td><td>31.0105292037</td><td>7.00101854573</td><td>False</td><td>nan</td><td>-37.9708819152</td><td>nan</td><td>nan</td><td>False</td><td>nan</td><td>nan</td><td>nan</td><td>nan</td><td>False</td><td>26.0206792648</td><td>0.935083483031</td><td>33.2480333284</td><td>5.90335560152</td><td>0.0</td><td>32.1595460321</td><td>1.17686985963</td><td>False</td><td>32.0540396912</td><td>1.333819491</td><td>False</td><td>nan</td><td>-1.57557437516</td><td>False</td><td>32.16304841</td><td>1.91867478349</td><td>False</td><td>nan</td><td>-0.80173476774</td><td>False</td><td>nan</td><td>nan</td><td>False</td><td>False</td><td>0</td><td>False</td><td>-1</td><td>nan</td><td>nan</td><td>nan</td><td>nan</td><td>nan</td><td>nan</td><td>nan</td><td>nan</td><td>nan</td><td>nan</td><td>nan</td><td>nan</td><td>nan</td><td>nan</td><td>nan</td><td>nan</td><td>nan</td><td>nan</td><td>nan</td><td>nan</td><td>nan</td><td>nan</td><td>nan</td><td>nan</td><td>nan</td><td>nan</td><td>nan</td><td>False</td><td>nan</td><td>nan</td><td>False</td><td>nan</td><td>nan</td><td>False</td><td>nan</td><td>nan</td><td>False</td><td>nan</td><td>nan</td><td>False</td><td>nan</td><td>nan</td><td>False</td><td>nan</td><td>nan</td><td>nan</td><td>nan</td><td>nan</td><td>nan</td><td>nan</td><td>nan</td><td>nan</td><td>nan</td><td>nan</td><td>nan</td><td>False</td><td>0</td><td>-1</td><td>nan</td><td>nan</td><td>nan</td><td>nan</td><td>nan</td><td>nan</td><td>nan</td><td>nan</td><td>nan</td><td>nan</td><td>nan</td><td>nan</td><td>nan</td><td>nan</td><td>nan</td><td>nan</td><td>nan</td><td>nan</td><td>nan</td><td>nan</td><td>nan</td><td>nan</td><td>nan</td><td>False</td><td>nan</td><td>nan</td><td>False</td><td>nan</td><td>nan</td><td>False</td><td>nan</td><td>nan</td><td>False</td><td>nan</td><td>nan</td><td>False</td><td>nan</td><td>nan</td><td>nan</td><td>nan</td><td>nan</td><td>nan</td><td>nan</td><td>nan</td><td>nan</td><td>nan</td><td>False</td><td>0</td><td>-1</td><td>nan</td><td>nan</td><td>nan</td><td>nan</td><td>nan</td><td>nan</td><td>nan</td><td>nan</td><td>nan</td><td>False</td><td>nan</td><td>nan</td><td>nan</td><td>nan</td><td>nan</td><td>nan</td><td>nan</td><td>nan</td><td>False</td><td>nan</td><td>nan</td><td>nan</td><td>nan</td><td>nan</td><td>nan</td><td>nan</td><td>nan</td><td>False</td><td>nan</td><td>nan</td><td>nan</td><td>nan</td><td>nan</td><td>nan</td><td>nan</td><td>nan</td><td>False</td><td>nan</td><td>nan</td><td>nan</td><td>nan</td><td>nan</td><td>nan</td><td>nan</td><td>nan</td><td>False</td><td>False</td><td>0</td><td>-1</td><td>nan</td><td>nan</td><td>nan</td><td>nan</td><td>nan</td><td>nan</td><td>nan</td><td>nan</td><td>nan</td><td>nan</td><td>nan</td><td>nan</td><td>nan</td><td>nan</td><td>nan</td><td>nan</td><td>nan</td><td>nan</td><td>nan</td><td>nan</td><td>nan</td><td>nan</td><td>nan</td><td>nan</td><td>nan</td><td>nan</td><td>nan</td><td>nan</td><td>nan</td><td>nan</td><td>nan</td><td>nan</td><td>nan</td><td>nan</td><td>False</td><td>nan</td><td>nan</td><td>nan</td><td>nan</td><td>False</td><td>nan</td><td>nan</td><td>nan</td><td>nan</td><td>False</td><td>nan</td><td>nan</td><td>nan</td><td>nan</td><td>False</td><td>nan</td><td>nan</td><td>nan</td><td>nan</td><td>False</td><td>nan</td><td>nan</td><td>nan</td><td>nan</td><td>False</td><td>nan</td><td>nan</td><td>nan</td><td>nan</td><td>False</td><td>nan</td><td>nan</td><td>nan</td><td>nan</td><td>False</td><td>nan</td><td>nan</td><td>False</td><td>0</td><td>-1</td><td>nan</td><td>nan</td><td>nan</td><td>nan</td><td>nan</td><td>nan</td><td>nan</td><td>nan</td><td>nan</td><td>nan</td><td>nan</td><td>nan</td><td>nan</td><td>nan</td><td>nan</td><td>nan</td><td>False</td><td>nan</td><td>nan</td><td>False</td><td>nan</td><td>nan</td><td>False</td><td>nan</td><td>nan</td><td>False</td><td>nan</td><td>nan</td><td>False</td><td>nan</td><td>nan</td><td>False</td><td>nan</td><td>nan</td><td>False</td><td>False</td><td>0</td><td>-1</td><td>nan</td><td>nan</td><td>nan</td><td>nan</td><td>False</td><td>-1</td><td>nan</td><td>nan</td><td>nan</td><td>nan</td><td>-1</td><td>nan</td><td>nan</td><td>nan</td><td>nan</td><td>-1</td><td>nan</td><td>nan</td><td>nan</td><td>nan</td><td>-1</td><td>nan</td><td>nan</td><td>nan</td><td>nan</td><td>nan</td><td>nan</td><td>nan</td><td>nan</td><td>False</td><td>nan</td><td>nan</td><td>nan</td><td>nan</td><td>False</td><td>nan</td><td>nan</td><td>nan</td><td>nan</td><td>False</td><td>nan</td><td>nan</td><td>nan</td><td>nan</td><td>False</td><td>nan</td><td>nan</td><td>nan</td><td>nan</td><td>False</td><td>nan</td><td>False</td><td>0</td><td>-1</td></tr>\n",
       "<tr><td>1</td><td>29734</td><td>34.3542499693</td><td>-5.23240925973</td><td>0.829999983311</td><td>0.0168011</td><td>0.006477</td><td>-0.0283977</td><td>0.0257063</td><td>0.0150584</td><td>0.00627075</td><td>-0.0189382</td><td>0.0252544</td><td>0.0229009</td><td>0.0108288</td><td>-0.0810519</td><td>0.0422124</td><td>0.0551637</td><td>0.00957762</td><td>0.0471614</td><td>0.0374389</td><td>0.013219</td><td>0.0063361</td><td>0.0268266</td><td>0.002989</td><td>1.8652055</td><td>0.004901</td><td>2.815156</td><td>0.004965</td><td>0.0656722</td><td>0.0065408</td><td>0.0366092</td><td>0.0201604</td><td>0.0179395</td><td>0.0148465</td><td>0.0226529</td><td>28.3366557081</td><td>0.418562677338</td><td>False</td><td>nan</td><td>-0.982835250755</td><td>28.4555529269</td><td>0.452131720899</td><td>False</td><td>nan</td><td>-1.44784701869</td><td>28.0003686241</td><td>0.513395552755</td><td>False</td><td>nan</td><td>-0.565459057341</td><td>27.0458665301</td><td>0.188507456705</td><td>False</td><td>27.2160332781</td><td>0.861907602326</td><td>28.5970034935</td><td>0.520412524924</td><td>0.0</td><td>27.8285859157</td><td>0.120971927714</td><td>False</td><td>23.2231832815</td><td>0.00285287231864</td><td>False</td><td>22.776243835</td><td>0.0019148779878</td><td>False</td><td>26.8565460868</td><td>0.108136827578</td><td>False</td><td>27.4910244035</td><td>0.597906432875</td><td>False</td><td>28.2654741639</td><td>1.37100106875</td><td>False</td><td>False</td><td>0</td><td>False</td><td>-1</td><td>nan</td><td>nan</td><td>nan</td><td>nan</td><td>nan</td><td>nan</td><td>nan</td><td>nan</td><td>nan</td><td>nan</td><td>nan</td><td>nan</td><td>nan</td><td>nan</td><td>nan</td><td>nan</td><td>nan</td><td>nan</td><td>nan</td><td>nan</td><td>nan</td><td>nan</td><td>nan</td><td>nan</td><td>nan</td><td>nan</td><td>nan</td><td>False</td><td>nan</td><td>nan</td><td>False</td><td>nan</td><td>nan</td><td>False</td><td>nan</td><td>nan</td><td>False</td><td>nan</td><td>nan</td><td>False</td><td>nan</td><td>nan</td><td>False</td><td>nan</td><td>nan</td><td>nan</td><td>nan</td><td>nan</td><td>nan</td><td>nan</td><td>nan</td><td>nan</td><td>nan</td><td>nan</td><td>nan</td><td>False</td><td>0</td><td>-1</td><td>nan</td><td>nan</td><td>nan</td><td>nan</td><td>nan</td><td>nan</td><td>nan</td><td>nan</td><td>nan</td><td>nan</td><td>nan</td><td>nan</td><td>nan</td><td>nan</td><td>nan</td><td>nan</td><td>nan</td><td>nan</td><td>nan</td><td>nan</td><td>nan</td><td>nan</td><td>nan</td><td>False</td><td>nan</td><td>nan</td><td>False</td><td>nan</td><td>nan</td><td>False</td><td>nan</td><td>nan</td><td>False</td><td>nan</td><td>nan</td><td>False</td><td>nan</td><td>nan</td><td>nan</td><td>nan</td><td>nan</td><td>nan</td><td>nan</td><td>nan</td><td>nan</td><td>nan</td><td>False</td><td>0</td><td>-1</td><td>nan</td><td>nan</td><td>nan</td><td>nan</td><td>nan</td><td>nan</td><td>nan</td><td>nan</td><td>nan</td><td>False</td><td>nan</td><td>nan</td><td>nan</td><td>nan</td><td>nan</td><td>nan</td><td>nan</td><td>nan</td><td>False</td><td>nan</td><td>nan</td><td>nan</td><td>nan</td><td>nan</td><td>nan</td><td>nan</td><td>nan</td><td>False</td><td>nan</td><td>nan</td><td>nan</td><td>nan</td><td>nan</td><td>nan</td><td>nan</td><td>nan</td><td>False</td><td>nan</td><td>nan</td><td>nan</td><td>nan</td><td>nan</td><td>nan</td><td>nan</td><td>nan</td><td>False</td><td>False</td><td>0</td><td>-1</td><td>nan</td><td>nan</td><td>nan</td><td>nan</td><td>nan</td><td>nan</td><td>nan</td><td>nan</td><td>nan</td><td>nan</td><td>nan</td><td>nan</td><td>nan</td><td>nan</td><td>nan</td><td>nan</td><td>nan</td><td>nan</td><td>nan</td><td>nan</td><td>nan</td><td>nan</td><td>nan</td><td>nan</td><td>nan</td><td>nan</td><td>nan</td><td>nan</td><td>nan</td><td>nan</td><td>nan</td><td>nan</td><td>nan</td><td>nan</td><td>False</td><td>nan</td><td>nan</td><td>nan</td><td>nan</td><td>False</td><td>nan</td><td>nan</td><td>nan</td><td>nan</td><td>False</td><td>nan</td><td>nan</td><td>nan</td><td>nan</td><td>False</td><td>nan</td><td>nan</td><td>nan</td><td>nan</td><td>False</td><td>nan</td><td>nan</td><td>nan</td><td>nan</td><td>False</td><td>nan</td><td>nan</td><td>nan</td><td>nan</td><td>False</td><td>nan</td><td>nan</td><td>nan</td><td>nan</td><td>False</td><td>nan</td><td>nan</td><td>False</td><td>0</td><td>-1</td><td>nan</td><td>nan</td><td>nan</td><td>nan</td><td>nan</td><td>nan</td><td>nan</td><td>nan</td><td>nan</td><td>nan</td><td>nan</td><td>nan</td><td>nan</td><td>nan</td><td>nan</td><td>nan</td><td>False</td><td>nan</td><td>nan</td><td>False</td><td>nan</td><td>nan</td><td>False</td><td>nan</td><td>nan</td><td>False</td><td>nan</td><td>nan</td><td>False</td><td>nan</td><td>nan</td><td>False</td><td>nan</td><td>nan</td><td>False</td><td>False</td><td>0</td><td>-1</td><td>nan</td><td>nan</td><td>nan</td><td>nan</td><td>False</td><td>-1</td><td>nan</td><td>nan</td><td>nan</td><td>nan</td><td>-1</td><td>nan</td><td>nan</td><td>nan</td><td>nan</td><td>-1</td><td>nan</td><td>nan</td><td>nan</td><td>nan</td><td>-1</td><td>nan</td><td>nan</td><td>nan</td><td>nan</td><td>nan</td><td>nan</td><td>nan</td><td>nan</td><td>False</td><td>nan</td><td>nan</td><td>nan</td><td>nan</td><td>False</td><td>nan</td><td>nan</td><td>nan</td><td>nan</td><td>False</td><td>nan</td><td>nan</td><td>nan</td><td>nan</td><td>False</td><td>nan</td><td>nan</td><td>nan</td><td>nan</td><td>False</td><td>nan</td><td>False</td><td>0</td><td>-1</td></tr>\n",
       "<tr><td>2</td><td>29795</td><td>34.5105653693</td><td>-5.23129955973</td><td>0.889999985695</td><td>nan</td><td>nan</td><td>nan</td><td>nan</td><td>nan</td><td>nan</td><td>nan</td><td>nan</td><td>-0.00577339</td><td>0.00644917</td><td>-0.04257</td><td>0.041368</td><td>0.054895</td><td>0.0100918</td><td>-0.139583</td><td>0.0507392</td><td>-0.0023542</td><td>0.0060387</td><td>0.040118</td><td>0.0049174</td><td>-0.0003879</td><td>0.0098896</td><td>-0.0079087</td><td>0.0113397</td><td>0.0061487</td><td>0.0165416</td><td>0.0193217</td><td>0.0255714</td><td>0.015189</td><td>0.0142362</td><td>0.0244848</td><td>nan</td><td>nan</td><td>False</td><td>nan</td><td>nan</td><td>nan</td><td>nan</td><td>False</td><td>nan</td><td>nan</td><td>nan</td><td>-1.21282251149</td><td>False</td><td>nan</td><td>-1.05507952357</td><td>27.0511680265</td><td>0.199599829332</td><td>False</td><td>nan</td><td>-0.394671173714</td><td>nan</td><td>-2.78499499604</td><td>0.0</td><td>27.3916518149</td><td>0.133082387289</td><td>False</td><td>nan</td><td>-27.6810950518</td><td>False</td><td>nan</td><td>-1.5567568426</td><td>False</td><td>29.42804174</td><td>2.92091238874</td><td>False</td><td>28.1848866632</td><td>1.43692298226</td><td>False</td><td>28.4461770447</td><td>1.75021619766</td><td>False</td><td>False</td><td>0</td><td>False</td><td>-1</td><td>nan</td><td>nan</td><td>nan</td><td>nan</td><td>nan</td><td>nan</td><td>nan</td><td>nan</td><td>nan</td><td>nan</td><td>nan</td><td>nan</td><td>nan</td><td>nan</td><td>nan</td><td>nan</td><td>nan</td><td>nan</td><td>nan</td><td>nan</td><td>nan</td><td>nan</td><td>nan</td><td>nan</td><td>nan</td><td>nan</td><td>nan</td><td>False</td><td>nan</td><td>nan</td><td>False</td><td>nan</td><td>nan</td><td>False</td><td>nan</td><td>nan</td><td>False</td><td>nan</td><td>nan</td><td>False</td><td>nan</td><td>nan</td><td>False</td><td>nan</td><td>nan</td><td>nan</td><td>nan</td><td>nan</td><td>nan</td><td>nan</td><td>nan</td><td>nan</td><td>nan</td><td>nan</td><td>nan</td><td>False</td><td>0</td><td>-1</td><td>nan</td><td>nan</td><td>nan</td><td>nan</td><td>nan</td><td>nan</td><td>nan</td><td>nan</td><td>nan</td><td>nan</td><td>nan</td><td>nan</td><td>nan</td><td>nan</td><td>nan</td><td>nan</td><td>nan</td><td>nan</td><td>nan</td><td>nan</td><td>nan</td><td>nan</td><td>nan</td><td>False</td><td>nan</td><td>nan</td><td>False</td><td>nan</td><td>nan</td><td>False</td><td>nan</td><td>nan</td><td>False</td><td>nan</td><td>nan</td><td>False</td><td>nan</td><td>nan</td><td>nan</td><td>nan</td><td>nan</td><td>nan</td><td>nan</td><td>nan</td><td>nan</td><td>nan</td><td>False</td><td>0</td><td>-1</td><td>nan</td><td>nan</td><td>nan</td><td>nan</td><td>nan</td><td>nan</td><td>nan</td><td>nan</td><td>nan</td><td>False</td><td>nan</td><td>nan</td><td>nan</td><td>nan</td><td>nan</td><td>nan</td><td>nan</td><td>nan</td><td>False</td><td>nan</td><td>nan</td><td>nan</td><td>nan</td><td>nan</td><td>nan</td><td>nan</td><td>nan</td><td>False</td><td>nan</td><td>nan</td><td>nan</td><td>nan</td><td>nan</td><td>nan</td><td>nan</td><td>nan</td><td>False</td><td>nan</td><td>nan</td><td>nan</td><td>nan</td><td>nan</td><td>nan</td><td>nan</td><td>nan</td><td>False</td><td>False</td><td>0</td><td>-1</td><td>nan</td><td>nan</td><td>nan</td><td>nan</td><td>nan</td><td>nan</td><td>nan</td><td>nan</td><td>nan</td><td>nan</td><td>nan</td><td>nan</td><td>nan</td><td>nan</td><td>nan</td><td>nan</td><td>nan</td><td>nan</td><td>nan</td><td>nan</td><td>nan</td><td>nan</td><td>nan</td><td>nan</td><td>nan</td><td>nan</td><td>nan</td><td>nan</td><td>nan</td><td>nan</td><td>nan</td><td>nan</td><td>nan</td><td>nan</td><td>False</td><td>nan</td><td>nan</td><td>nan</td><td>nan</td><td>False</td><td>nan</td><td>nan</td><td>nan</td><td>nan</td><td>False</td><td>nan</td><td>nan</td><td>nan</td><td>nan</td><td>False</td><td>nan</td><td>nan</td><td>nan</td><td>nan</td><td>False</td><td>nan</td><td>nan</td><td>nan</td><td>nan</td><td>False</td><td>nan</td><td>nan</td><td>nan</td><td>nan</td><td>False</td><td>nan</td><td>nan</td><td>nan</td><td>nan</td><td>False</td><td>nan</td><td>nan</td><td>False</td><td>0</td><td>-1</td><td>nan</td><td>nan</td><td>nan</td><td>nan</td><td>nan</td><td>nan</td><td>nan</td><td>nan</td><td>nan</td><td>nan</td><td>nan</td><td>nan</td><td>nan</td><td>nan</td><td>nan</td><td>nan</td><td>False</td><td>nan</td><td>nan</td><td>False</td><td>nan</td><td>nan</td><td>False</td><td>nan</td><td>nan</td><td>False</td><td>nan</td><td>nan</td><td>False</td><td>nan</td><td>nan</td><td>False</td><td>nan</td><td>nan</td><td>False</td><td>False</td><td>0</td><td>-1</td><td>nan</td><td>nan</td><td>nan</td><td>nan</td><td>False</td><td>-1</td><td>nan</td><td>nan</td><td>nan</td><td>nan</td><td>-1</td><td>nan</td><td>nan</td><td>nan</td><td>nan</td><td>-1</td><td>nan</td><td>nan</td><td>nan</td><td>nan</td><td>-1</td><td>nan</td><td>nan</td><td>nan</td><td>nan</td><td>nan</td><td>nan</td><td>nan</td><td>nan</td><td>False</td><td>nan</td><td>nan</td><td>nan</td><td>nan</td><td>False</td><td>nan</td><td>nan</td><td>nan</td><td>nan</td><td>False</td><td>nan</td><td>nan</td><td>nan</td><td>nan</td><td>False</td><td>nan</td><td>nan</td><td>nan</td><td>nan</td><td>False</td><td>nan</td><td>False</td><td>0</td><td>-1</td></tr>\n",
       "<tr><td>3</td><td>22107</td><td>34.4184061693</td><td>-5.15360365973</td><td>0.370000004768</td><td>0.0118447</td><td>0.00955809</td><td>-0.00196733</td><td>0.0282374</td><td>0.0260497</td><td>0.0103821</td><td>0.0819181</td><td>0.0304013</td><td>0.0516353</td><td>0.0149467</td><td>0.0734191</td><td>0.0431325</td><td>0.10456</td><td>0.0133934</td><td>0.0834438</td><td>0.0379538</td><td>-0.0014066</td><td>0.0067144</td><td>0.013506</td><td>0.0043072</td><td>0.0141018</td><td>0.0046401</td><td>0.018131</td><td>0.0065854</td><td>0.0155968</td><td>0.0066314</td><td>0.0048507</td><td>0.0163473</td><td>0.0348112</td><td>0.0140583</td><td>0.0297059</td><td>28.7161898363</td><td>0.876135686116</td><td>False</td><td>nan</td><td>-15.5837442159</td><td>27.8604931847</td><td>0.43271983368</td><td>False</td><td>26.6165503231</td><td>0.402936494886</td><td>27.1176332385</td><td>0.31428447848</td><td>False</td><td>26.7354773589</td><td>0.637851960208</td><td>26.3515860636</td><td>0.13907516531</td><td>False</td><td>26.5965148163</td><td>0.493839144048</td><td>nan</td><td>-5.18275783679</td><td>0.0</td><td>28.5736831365</td><td>0.346252256859</td><td>False</td><td>28.5268136226</td><td>0.357254007552</td><td>False</td><td>28.2539456052</td><td>0.394352611704</td><td>False</td><td>28.4174112421</td><td>0.461630018224</td><td>False</td><td>29.6854889606</td><td>3.65902971943</td><td>False</td><td>27.545702514</td><td>0.926505582253</td><td>False</td><td>False</td><td>0</td><td>False</td><td>-1</td><td>nan</td><td>nan</td><td>nan</td><td>nan</td><td>nan</td><td>nan</td><td>nan</td><td>nan</td><td>nan</td><td>nan</td><td>nan</td><td>nan</td><td>nan</td><td>nan</td><td>nan</td><td>nan</td><td>nan</td><td>nan</td><td>nan</td><td>nan</td><td>nan</td><td>nan</td><td>nan</td><td>nan</td><td>nan</td><td>nan</td><td>nan</td><td>False</td><td>nan</td><td>nan</td><td>False</td><td>nan</td><td>nan</td><td>False</td><td>nan</td><td>nan</td><td>False</td><td>nan</td><td>nan</td><td>False</td><td>nan</td><td>nan</td><td>False</td><td>nan</td><td>nan</td><td>nan</td><td>nan</td><td>nan</td><td>nan</td><td>nan</td><td>nan</td><td>nan</td><td>nan</td><td>nan</td><td>nan</td><td>False</td><td>0</td><td>-1</td><td>nan</td><td>nan</td><td>nan</td><td>nan</td><td>nan</td><td>nan</td><td>nan</td><td>nan</td><td>nan</td><td>nan</td><td>nan</td><td>nan</td><td>nan</td><td>nan</td><td>nan</td><td>nan</td><td>nan</td><td>nan</td><td>nan</td><td>nan</td><td>nan</td><td>nan</td><td>nan</td><td>False</td><td>nan</td><td>nan</td><td>False</td><td>nan</td><td>nan</td><td>False</td><td>nan</td><td>nan</td><td>False</td><td>nan</td><td>nan</td><td>False</td><td>nan</td><td>nan</td><td>nan</td><td>nan</td><td>nan</td><td>nan</td><td>nan</td><td>nan</td><td>nan</td><td>nan</td><td>False</td><td>0</td><td>-1</td><td>nan</td><td>nan</td><td>nan</td><td>nan</td><td>nan</td><td>nan</td><td>nan</td><td>nan</td><td>nan</td><td>False</td><td>nan</td><td>nan</td><td>nan</td><td>nan</td><td>nan</td><td>nan</td><td>nan</td><td>nan</td><td>False</td><td>nan</td><td>nan</td><td>nan</td><td>nan</td><td>nan</td><td>nan</td><td>nan</td><td>nan</td><td>False</td><td>nan</td><td>nan</td><td>nan</td><td>nan</td><td>nan</td><td>nan</td><td>nan</td><td>nan</td><td>False</td><td>nan</td><td>nan</td><td>nan</td><td>nan</td><td>nan</td><td>nan</td><td>nan</td><td>nan</td><td>False</td><td>False</td><td>0</td><td>-1</td><td>nan</td><td>nan</td><td>nan</td><td>nan</td><td>nan</td><td>nan</td><td>nan</td><td>nan</td><td>nan</td><td>nan</td><td>nan</td><td>nan</td><td>nan</td><td>nan</td><td>nan</td><td>nan</td><td>nan</td><td>nan</td><td>nan</td><td>nan</td><td>nan</td><td>nan</td><td>nan</td><td>nan</td><td>nan</td><td>nan</td><td>nan</td><td>nan</td><td>nan</td><td>nan</td><td>nan</td><td>nan</td><td>nan</td><td>nan</td><td>False</td><td>nan</td><td>nan</td><td>nan</td><td>nan</td><td>False</td><td>nan</td><td>nan</td><td>nan</td><td>nan</td><td>False</td><td>nan</td><td>nan</td><td>nan</td><td>nan</td><td>False</td><td>nan</td><td>nan</td><td>nan</td><td>nan</td><td>False</td><td>nan</td><td>nan</td><td>nan</td><td>nan</td><td>False</td><td>nan</td><td>nan</td><td>nan</td><td>nan</td><td>False</td><td>nan</td><td>nan</td><td>nan</td><td>nan</td><td>False</td><td>nan</td><td>nan</td><td>False</td><td>0</td><td>-1</td><td>nan</td><td>nan</td><td>nan</td><td>nan</td><td>nan</td><td>nan</td><td>nan</td><td>nan</td><td>nan</td><td>nan</td><td>nan</td><td>nan</td><td>nan</td><td>nan</td><td>nan</td><td>nan</td><td>False</td><td>nan</td><td>nan</td><td>False</td><td>nan</td><td>nan</td><td>False</td><td>nan</td><td>nan</td><td>False</td><td>nan</td><td>nan</td><td>False</td><td>nan</td><td>nan</td><td>False</td><td>nan</td><td>nan</td><td>False</td><td>False</td><td>0</td><td>-1</td><td>nan</td><td>nan</td><td>nan</td><td>nan</td><td>False</td><td>-1</td><td>nan</td><td>nan</td><td>nan</td><td>nan</td><td>-1</td><td>nan</td><td>nan</td><td>nan</td><td>nan</td><td>-1</td><td>nan</td><td>nan</td><td>nan</td><td>nan</td><td>-1</td><td>nan</td><td>nan</td><td>nan</td><td>nan</td><td>nan</td><td>nan</td><td>nan</td><td>nan</td><td>False</td><td>nan</td><td>nan</td><td>nan</td><td>nan</td><td>False</td><td>nan</td><td>nan</td><td>nan</td><td>nan</td><td>False</td><td>nan</td><td>nan</td><td>nan</td><td>nan</td><td>False</td><td>nan</td><td>nan</td><td>nan</td><td>nan</td><td>False</td><td>nan</td><td>False</td><td>0</td><td>-1</td></tr>\n",
       "<tr><td>4</td><td>20355</td><td>34.2564061693</td><td>-5.16347815973</td><td>0.019999999553</td><td>nan</td><td>nan</td><td>0.00129482</td><td>0.0227743</td><td>nan</td><td>nan</td><td>0.0115086</td><td>0.0223858</td><td>nan</td><td>nan</td><td>-0.00975834</td><td>0.0438277</td><td>0.0428081</td><td>0.0662998</td><td>0.0308803</td><td>0.0404783</td><td>-0.0132825</td><td>0.005533</td><td>0.0007043</td><td>0.0033865</td><td>0.0024769</td><td>0.0039072</td><td>0.0016127</td><td>0.0056878</td><td>-0.0065501</td><td>0.0055348</td><td>0.0066359</td><td>0.0148805</td><td>0.031697</td><td>0.0108008</td><td>0.0190923</td><td>nan</td><td>nan</td><td>False</td><td>31.1194765026</td><td>19.0967717891</td><td>nan</td><td>nan</td><td>False</td><td>28.7474437607</td><td>2.11190531711</td><td>nan</td><td>nan</td><td>False</td><td>nan</td><td>-4.87637453309</td><td>27.3211851188</td><td>1.68155309926</td><td>False</td><td>27.6757962229</td><td>1.42319717804</td><td>nan</td><td>-0.452277690264</td><td>0.0</td><td>31.780605779</td><td>5.22056745338</td><td>False</td><td>30.4152288171</td><td>1.71270075467</td><td>False</td><td>30.8811160351</td><td>3.82926172594</td><td>False</td><td>nan</td><td>-0.917441374345</td><td>False</td><td>29.345250418</td><td>2.43468069062</td><td>False</td><td>27.6474546004</td><td>0.653979914254</td><td>False</td><td>False</td><td>0</td><td>False</td><td>-1</td><td>nan</td><td>nan</td><td>nan</td><td>nan</td><td>nan</td><td>nan</td><td>nan</td><td>nan</td><td>nan</td><td>nan</td><td>nan</td><td>nan</td><td>nan</td><td>nan</td><td>nan</td><td>nan</td><td>nan</td><td>nan</td><td>nan</td><td>nan</td><td>nan</td><td>nan</td><td>nan</td><td>nan</td><td>nan</td><td>nan</td><td>nan</td><td>False</td><td>nan</td><td>nan</td><td>False</td><td>nan</td><td>nan</td><td>False</td><td>nan</td><td>nan</td><td>False</td><td>nan</td><td>nan</td><td>False</td><td>nan</td><td>nan</td><td>False</td><td>nan</td><td>nan</td><td>nan</td><td>nan</td><td>nan</td><td>nan</td><td>nan</td><td>nan</td><td>nan</td><td>nan</td><td>nan</td><td>nan</td><td>False</td><td>0</td><td>-1</td><td>nan</td><td>nan</td><td>nan</td><td>nan</td><td>nan</td><td>nan</td><td>nan</td><td>nan</td><td>nan</td><td>nan</td><td>nan</td><td>nan</td><td>nan</td><td>nan</td><td>nan</td><td>nan</td><td>nan</td><td>nan</td><td>nan</td><td>nan</td><td>nan</td><td>nan</td><td>nan</td><td>False</td><td>nan</td><td>nan</td><td>False</td><td>nan</td><td>nan</td><td>False</td><td>nan</td><td>nan</td><td>False</td><td>nan</td><td>nan</td><td>False</td><td>nan</td><td>nan</td><td>nan</td><td>nan</td><td>nan</td><td>nan</td><td>nan</td><td>nan</td><td>nan</td><td>nan</td><td>False</td><td>0</td><td>-1</td><td>nan</td><td>nan</td><td>nan</td><td>nan</td><td>nan</td><td>nan</td><td>nan</td><td>nan</td><td>nan</td><td>False</td><td>nan</td><td>nan</td><td>nan</td><td>nan</td><td>nan</td><td>nan</td><td>nan</td><td>nan</td><td>False</td><td>nan</td><td>nan</td><td>nan</td><td>nan</td><td>nan</td><td>nan</td><td>nan</td><td>nan</td><td>False</td><td>nan</td><td>nan</td><td>nan</td><td>nan</td><td>nan</td><td>nan</td><td>nan</td><td>nan</td><td>False</td><td>nan</td><td>nan</td><td>nan</td><td>nan</td><td>nan</td><td>nan</td><td>nan</td><td>nan</td><td>False</td><td>False</td><td>0</td><td>-1</td><td>nan</td><td>nan</td><td>nan</td><td>nan</td><td>nan</td><td>nan</td><td>nan</td><td>nan</td><td>nan</td><td>nan</td><td>nan</td><td>nan</td><td>nan</td><td>nan</td><td>nan</td><td>nan</td><td>nan</td><td>nan</td><td>nan</td><td>nan</td><td>nan</td><td>nan</td><td>nan</td><td>nan</td><td>nan</td><td>nan</td><td>nan</td><td>nan</td><td>nan</td><td>nan</td><td>nan</td><td>nan</td><td>nan</td><td>nan</td><td>False</td><td>nan</td><td>nan</td><td>nan</td><td>nan</td><td>False</td><td>nan</td><td>nan</td><td>nan</td><td>nan</td><td>False</td><td>nan</td><td>nan</td><td>nan</td><td>nan</td><td>False</td><td>nan</td><td>nan</td><td>nan</td><td>nan</td><td>False</td><td>nan</td><td>nan</td><td>nan</td><td>nan</td><td>False</td><td>nan</td><td>nan</td><td>nan</td><td>nan</td><td>False</td><td>nan</td><td>nan</td><td>nan</td><td>nan</td><td>False</td><td>nan</td><td>nan</td><td>False</td><td>0</td><td>-1</td><td>nan</td><td>nan</td><td>nan</td><td>nan</td><td>nan</td><td>nan</td><td>nan</td><td>nan</td><td>nan</td><td>nan</td><td>nan</td><td>nan</td><td>nan</td><td>nan</td><td>nan</td><td>nan</td><td>False</td><td>nan</td><td>nan</td><td>False</td><td>nan</td><td>nan</td><td>False</td><td>nan</td><td>nan</td><td>False</td><td>nan</td><td>nan</td><td>False</td><td>nan</td><td>nan</td><td>False</td><td>nan</td><td>nan</td><td>False</td><td>False</td><td>0</td><td>-1</td><td>nan</td><td>nan</td><td>nan</td><td>nan</td><td>False</td><td>-1</td><td>nan</td><td>nan</td><td>nan</td><td>nan</td><td>-1</td><td>nan</td><td>nan</td><td>nan</td><td>nan</td><td>-1</td><td>nan</td><td>nan</td><td>nan</td><td>nan</td><td>-1</td><td>nan</td><td>nan</td><td>nan</td><td>nan</td><td>nan</td><td>nan</td><td>nan</td><td>nan</td><td>False</td><td>nan</td><td>nan</td><td>nan</td><td>nan</td><td>False</td><td>nan</td><td>nan</td><td>nan</td><td>nan</td><td>False</td><td>nan</td><td>nan</td><td>nan</td><td>nan</td><td>False</td><td>nan</td><td>nan</td><td>nan</td><td>nan</td><td>False</td><td>nan</td><td>False</td><td>0</td><td>-1</td></tr>\n",
       "<tr><td>5</td><td>22441</td><td>34.5063538693</td><td>-5.15183335973</td><td>0.0299999993294</td><td>nan</td><td>nan</td><td>nan</td><td>nan</td><td>nan</td><td>nan</td><td>nan</td><td>nan</td><td>0.158452</td><td>0.0196398</td><td>0.14761</td><td>0.0430499</td><td>0.223192</td><td>0.0350264</td><td>0.217439</td><td>0.0555415</td><td>0.2635635</td><td>0.006929</td><td>0.4481217</td><td>0.0352946</td><td>0.433295</td><td>0.053166</td><td>0.4531529</td><td>0.0699998</td><td>0.3898494</td><td>0.0810781</td><td>0.317024</td><td>0.0932543</td><td>0.167073</td><td>0.0185209</td><td>0.0328558</td><td>nan</td><td>nan</td><td>False</td><td>nan</td><td>nan</td><td>nan</td><td>nan</td><td>False</td><td>nan</td><td>nan</td><td>25.9002556868</td><td>0.134574772892</td><td>False</td><td>25.9772105494</td><td>0.316650870816</td><td>25.5283034403</td><td>0.170388860722</td><td>False</td><td>25.5566563948</td><td>0.277334872845</td><td>25.3477868346</td><td>0.0285436570799</td><td>0.0</td><td>24.7715100629</td><td>0.085513879494</td><td>False</td><td>24.8080408062</td><td>0.133221595131</td><td>False</td><td>24.7593880909</td><td>0.167716718101</td><td>False</td><td>24.9227578246</td><td>0.225803678505</td><td>False</td><td>25.1472696467</td><td>0.319375093871</td><td>False</td><td>25.8427343226</td><td>0.213515837965</td><td>False</td><td>False</td><td>0</td><td>False</td><td>-1</td><td>nan</td><td>nan</td><td>nan</td><td>nan</td><td>nan</td><td>nan</td><td>nan</td><td>nan</td><td>nan</td><td>nan</td><td>nan</td><td>nan</td><td>nan</td><td>nan</td><td>nan</td><td>nan</td><td>nan</td><td>nan</td><td>nan</td><td>nan</td><td>nan</td><td>nan</td><td>nan</td><td>nan</td><td>nan</td><td>nan</td><td>nan</td><td>False</td><td>nan</td><td>nan</td><td>False</td><td>nan</td><td>nan</td><td>False</td><td>nan</td><td>nan</td><td>False</td><td>nan</td><td>nan</td><td>False</td><td>nan</td><td>nan</td><td>False</td><td>nan</td><td>nan</td><td>nan</td><td>nan</td><td>nan</td><td>nan</td><td>nan</td><td>nan</td><td>nan</td><td>nan</td><td>nan</td><td>nan</td><td>False</td><td>0</td><td>-1</td><td>nan</td><td>nan</td><td>nan</td><td>nan</td><td>nan</td><td>nan</td><td>nan</td><td>nan</td><td>nan</td><td>nan</td><td>nan</td><td>nan</td><td>nan</td><td>nan</td><td>nan</td><td>nan</td><td>nan</td><td>nan</td><td>nan</td><td>nan</td><td>nan</td><td>nan</td><td>nan</td><td>False</td><td>nan</td><td>nan</td><td>False</td><td>nan</td><td>nan</td><td>False</td><td>nan</td><td>nan</td><td>False</td><td>nan</td><td>nan</td><td>False</td><td>nan</td><td>nan</td><td>nan</td><td>nan</td><td>nan</td><td>nan</td><td>nan</td><td>nan</td><td>nan</td><td>nan</td><td>False</td><td>0</td><td>-1</td><td>nan</td><td>nan</td><td>nan</td><td>nan</td><td>nan</td><td>nan</td><td>nan</td><td>nan</td><td>nan</td><td>False</td><td>nan</td><td>nan</td><td>nan</td><td>nan</td><td>nan</td><td>nan</td><td>nan</td><td>nan</td><td>False</td><td>nan</td><td>nan</td><td>nan</td><td>nan</td><td>nan</td><td>nan</td><td>nan</td><td>nan</td><td>False</td><td>nan</td><td>nan</td><td>nan</td><td>nan</td><td>nan</td><td>nan</td><td>nan</td><td>nan</td><td>False</td><td>nan</td><td>nan</td><td>nan</td><td>nan</td><td>nan</td><td>nan</td><td>nan</td><td>nan</td><td>False</td><td>False</td><td>0</td><td>-1</td><td>nan</td><td>nan</td><td>nan</td><td>nan</td><td>nan</td><td>nan</td><td>nan</td><td>nan</td><td>nan</td><td>nan</td><td>nan</td><td>nan</td><td>nan</td><td>nan</td><td>nan</td><td>nan</td><td>nan</td><td>nan</td><td>nan</td><td>nan</td><td>nan</td><td>nan</td><td>nan</td><td>nan</td><td>nan</td><td>nan</td><td>nan</td><td>nan</td><td>nan</td><td>nan</td><td>nan</td><td>nan</td><td>nan</td><td>nan</td><td>False</td><td>nan</td><td>nan</td><td>nan</td><td>nan</td><td>False</td><td>nan</td><td>nan</td><td>nan</td><td>nan</td><td>False</td><td>nan</td><td>nan</td><td>nan</td><td>nan</td><td>False</td><td>nan</td><td>nan</td><td>nan</td><td>nan</td><td>False</td><td>nan</td><td>nan</td><td>nan</td><td>nan</td><td>False</td><td>nan</td><td>nan</td><td>nan</td><td>nan</td><td>False</td><td>nan</td><td>nan</td><td>nan</td><td>nan</td><td>False</td><td>nan</td><td>nan</td><td>False</td><td>0</td><td>-1</td><td>nan</td><td>nan</td><td>nan</td><td>nan</td><td>nan</td><td>nan</td><td>nan</td><td>nan</td><td>nan</td><td>nan</td><td>nan</td><td>nan</td><td>nan</td><td>nan</td><td>nan</td><td>nan</td><td>False</td><td>nan</td><td>nan</td><td>False</td><td>nan</td><td>nan</td><td>False</td><td>nan</td><td>nan</td><td>False</td><td>nan</td><td>nan</td><td>False</td><td>nan</td><td>nan</td><td>False</td><td>nan</td><td>nan</td><td>False</td><td>False</td><td>0</td><td>-1</td><td>nan</td><td>nan</td><td>nan</td><td>nan</td><td>False</td><td>-1</td><td>nan</td><td>nan</td><td>nan</td><td>nan</td><td>-1</td><td>nan</td><td>nan</td><td>nan</td><td>nan</td><td>-1</td><td>nan</td><td>nan</td><td>nan</td><td>nan</td><td>-1</td><td>nan</td><td>nan</td><td>nan</td><td>nan</td><td>nan</td><td>nan</td><td>nan</td><td>nan</td><td>False</td><td>nan</td><td>nan</td><td>nan</td><td>nan</td><td>False</td><td>nan</td><td>nan</td><td>nan</td><td>nan</td><td>False</td><td>nan</td><td>nan</td><td>nan</td><td>nan</td><td>False</td><td>nan</td><td>nan</td><td>nan</td><td>nan</td><td>False</td><td>nan</td><td>False</td><td>0</td><td>-1</td></tr>\n",
       "<tr><td>6</td><td>29366</td><td>34.2568366693</td><td>-5.23834725973</td><td>0.930000007153</td><td>-0.00169943</td><td>0.0029279</td><td>-0.00867197</td><td>0.0232932</td><td>0.00159549</td><td>0.00296411</td><td>0.0367496</td><td>0.0232113</td><td>-0.000514776</td><td>0.00542634</td><td>0.04136</td><td>0.0449612</td><td>0.0618561</td><td>0.0118421</td><td>0.00275104</td><td>0.0418551</td><td>0.0011746</td><td>0.0050631</td><td>0.0010153</td><td>0.0024886</td><td>-0.0015228</td><td>0.004601</td><td>0.0003174</td><td>0.0041315</td><td>-0.0020646</td><td>0.0052873</td><td>0.0145308</td><td>0.0153884</td><td>-0.00195076</td><td>0.00947274</td><td>0.0159742</td><td>nan</td><td>-1.87058427468</td><td>False</td><td>nan</td><td>-2.91632357638</td><td>30.8927647837</td><td>2.01708662661</td><td>False</td><td>27.4868684591</td><td>0.685758450963</td><td>nan</td><td>-11.4449271087</td><td>False</td><td>27.3585486748</td><td>1.18027085709</td><td>26.9215436639</td><td>0.207859802192</td><td>False</td><td>30.3012577374</td><td>16.5186974467</td><td>31.2252750087</td><td>4.68005361681</td><td>0.0</td><td>31.3835140345</td><td>2.66124605453</td><td>False</td><td>nan</td><td>-3.28045198194</td><td>False</td><td>32.645982694</td><td>14.1327004725</td><td>False</td><td>nan</td><td>-2.78049648136</td><td>False</td><td>28.4942761869</td><td>1.14981577155</td><td>False</td><td>nan</td><td>-8.89077450945</td><td>False</td><td>False</td><td>0</td><td>False</td><td>-1</td><td>nan</td><td>nan</td><td>nan</td><td>nan</td><td>nan</td><td>nan</td><td>nan</td><td>nan</td><td>nan</td><td>nan</td><td>nan</td><td>nan</td><td>nan</td><td>nan</td><td>nan</td><td>nan</td><td>nan</td><td>nan</td><td>nan</td><td>nan</td><td>nan</td><td>nan</td><td>nan</td><td>nan</td><td>nan</td><td>nan</td><td>nan</td><td>False</td><td>nan</td><td>nan</td><td>False</td><td>nan</td><td>nan</td><td>False</td><td>nan</td><td>nan</td><td>False</td><td>nan</td><td>nan</td><td>False</td><td>nan</td><td>nan</td><td>False</td><td>nan</td><td>nan</td><td>nan</td><td>nan</td><td>nan</td><td>nan</td><td>nan</td><td>nan</td><td>nan</td><td>nan</td><td>nan</td><td>nan</td><td>False</td><td>0</td><td>-1</td><td>nan</td><td>nan</td><td>nan</td><td>nan</td><td>nan</td><td>nan</td><td>nan</td><td>nan</td><td>nan</td><td>nan</td><td>nan</td><td>nan</td><td>nan</td><td>nan</td><td>nan</td><td>nan</td><td>nan</td><td>nan</td><td>nan</td><td>nan</td><td>nan</td><td>nan</td><td>nan</td><td>False</td><td>nan</td><td>nan</td><td>False</td><td>nan</td><td>nan</td><td>False</td><td>nan</td><td>nan</td><td>False</td><td>nan</td><td>nan</td><td>False</td><td>nan</td><td>nan</td><td>nan</td><td>nan</td><td>nan</td><td>nan</td><td>nan</td><td>nan</td><td>nan</td><td>nan</td><td>False</td><td>0</td><td>-1</td><td>nan</td><td>nan</td><td>nan</td><td>nan</td><td>nan</td><td>nan</td><td>nan</td><td>nan</td><td>nan</td><td>False</td><td>nan</td><td>nan</td><td>nan</td><td>nan</td><td>nan</td><td>nan</td><td>nan</td><td>nan</td><td>False</td><td>nan</td><td>nan</td><td>nan</td><td>nan</td><td>nan</td><td>nan</td><td>nan</td><td>nan</td><td>False</td><td>nan</td><td>nan</td><td>nan</td><td>nan</td><td>nan</td><td>nan</td><td>nan</td><td>nan</td><td>False</td><td>nan</td><td>nan</td><td>nan</td><td>nan</td><td>nan</td><td>nan</td><td>nan</td><td>nan</td><td>False</td><td>False</td><td>0</td><td>-1</td><td>nan</td><td>nan</td><td>nan</td><td>nan</td><td>nan</td><td>nan</td><td>nan</td><td>nan</td><td>nan</td><td>nan</td><td>nan</td><td>nan</td><td>nan</td><td>nan</td><td>nan</td><td>nan</td><td>nan</td><td>nan</td><td>nan</td><td>nan</td><td>nan</td><td>nan</td><td>nan</td><td>nan</td><td>nan</td><td>nan</td><td>nan</td><td>nan</td><td>nan</td><td>nan</td><td>nan</td><td>nan</td><td>nan</td><td>nan</td><td>False</td><td>nan</td><td>nan</td><td>nan</td><td>nan</td><td>False</td><td>nan</td><td>nan</td><td>nan</td><td>nan</td><td>False</td><td>nan</td><td>nan</td><td>nan</td><td>nan</td><td>False</td><td>nan</td><td>nan</td><td>nan</td><td>nan</td><td>False</td><td>nan</td><td>nan</td><td>nan</td><td>nan</td><td>False</td><td>nan</td><td>nan</td><td>nan</td><td>nan</td><td>False</td><td>nan</td><td>nan</td><td>nan</td><td>nan</td><td>False</td><td>nan</td><td>nan</td><td>False</td><td>0</td><td>-1</td><td>nan</td><td>nan</td><td>nan</td><td>nan</td><td>nan</td><td>nan</td><td>nan</td><td>nan</td><td>nan</td><td>nan</td><td>nan</td><td>nan</td><td>nan</td><td>nan</td><td>nan</td><td>nan</td><td>False</td><td>nan</td><td>nan</td><td>False</td><td>nan</td><td>nan</td><td>False</td><td>nan</td><td>nan</td><td>False</td><td>nan</td><td>nan</td><td>False</td><td>nan</td><td>nan</td><td>False</td><td>nan</td><td>nan</td><td>False</td><td>False</td><td>0</td><td>-1</td><td>nan</td><td>nan</td><td>nan</td><td>nan</td><td>False</td><td>-1</td><td>nan</td><td>nan</td><td>nan</td><td>nan</td><td>-1</td><td>nan</td><td>nan</td><td>nan</td><td>nan</td><td>-1</td><td>nan</td><td>nan</td><td>nan</td><td>nan</td><td>-1</td><td>nan</td><td>nan</td><td>nan</td><td>nan</td><td>nan</td><td>nan</td><td>nan</td><td>nan</td><td>False</td><td>nan</td><td>nan</td><td>nan</td><td>nan</td><td>False</td><td>nan</td><td>nan</td><td>nan</td><td>nan</td><td>False</td><td>nan</td><td>nan</td><td>nan</td><td>nan</td><td>False</td><td>nan</td><td>nan</td><td>nan</td><td>nan</td><td>False</td><td>nan</td><td>False</td><td>0</td><td>-1</td></tr>\n",
       "<tr><td>7</td><td>30157</td><td>34.4256537693</td><td>-5.22465695973</td><td>0.709999978542</td><td>-0.00368314</td><td>0.00902238</td><td>0.0399117</td><td>0.0306564</td><td>-0.00630313</td><td>0.00968635</td><td>0.0291597</td><td>0.0328583</td><td>-0.00421342</td><td>0.0133143</td><td>0.0346139</td><td>0.0460574</td><td>0.0563191</td><td>0.0143507</td><td>0.196871</td><td>0.0411368</td><td>-0.0039474</td><td>0.0064359</td><td>0.0005482</td><td>0.0033353</td><td>-0.0054103</td><td>0.0060625</td><td>0.0004354</td><td>0.0055307</td><td>0.000241</td><td>0.006847</td><td>-0.0276691</td><td>0.0209205</td><td>0.00285728</td><td>0.0125077</td><td>0.0250694</td><td>nan</td><td>-2.65966664832</td><td>False</td><td>27.3972494337</td><td>0.833960051502</td><td>nan</td><td>-1.66850769173</td><td>False</td><td>27.7380423711</td><td>1.22345037627</td><td>nan</td><td>-3.43089878318</td><td>False</td><td>27.5518736633</td><td>1.44468513161</td><td>27.023360735</td><td>0.27665702317</td><td>False</td><td>25.6645456318</td><td>0.226867914055</td><td>nan</td><td>-1.77020054725</td><td>0.0</td><td>32.052652422</td><td>6.60572047379</td><td>False</td><td>nan</td><td>-1.21661936332</td><td>False</td><td>32.3027789382</td><td>13.791642691</td><td>False</td><td>32.9449573936</td><td>30.8466215518</td><td>False</td><td>nan</td><td>-0.820920964962</td><td>False</td><td>30.2601179968</td><td>9.52610707091</td><td>False</td><td>False</td><td>0</td><td>False</td><td>-1</td><td>nan</td><td>nan</td><td>nan</td><td>nan</td><td>nan</td><td>nan</td><td>nan</td><td>nan</td><td>nan</td><td>nan</td><td>nan</td><td>nan</td><td>nan</td><td>nan</td><td>nan</td><td>nan</td><td>nan</td><td>nan</td><td>nan</td><td>nan</td><td>nan</td><td>nan</td><td>nan</td><td>nan</td><td>nan</td><td>nan</td><td>nan</td><td>False</td><td>nan</td><td>nan</td><td>False</td><td>nan</td><td>nan</td><td>False</td><td>nan</td><td>nan</td><td>False</td><td>nan</td><td>nan</td><td>False</td><td>nan</td><td>nan</td><td>False</td><td>nan</td><td>nan</td><td>nan</td><td>nan</td><td>nan</td><td>nan</td><td>nan</td><td>nan</td><td>nan</td><td>nan</td><td>nan</td><td>nan</td><td>False</td><td>0</td><td>-1</td><td>nan</td><td>nan</td><td>nan</td><td>nan</td><td>nan</td><td>nan</td><td>nan</td><td>nan</td><td>nan</td><td>nan</td><td>nan</td><td>nan</td><td>nan</td><td>nan</td><td>nan</td><td>nan</td><td>nan</td><td>nan</td><td>nan</td><td>nan</td><td>nan</td><td>nan</td><td>nan</td><td>False</td><td>nan</td><td>nan</td><td>False</td><td>nan</td><td>nan</td><td>False</td><td>nan</td><td>nan</td><td>False</td><td>nan</td><td>nan</td><td>False</td><td>nan</td><td>nan</td><td>nan</td><td>nan</td><td>nan</td><td>nan</td><td>nan</td><td>nan</td><td>nan</td><td>nan</td><td>False</td><td>0</td><td>-1</td><td>nan</td><td>nan</td><td>nan</td><td>nan</td><td>nan</td><td>nan</td><td>nan</td><td>nan</td><td>nan</td><td>False</td><td>nan</td><td>nan</td><td>nan</td><td>nan</td><td>nan</td><td>nan</td><td>nan</td><td>nan</td><td>False</td><td>nan</td><td>nan</td><td>nan</td><td>nan</td><td>nan</td><td>nan</td><td>nan</td><td>nan</td><td>False</td><td>nan</td><td>nan</td><td>nan</td><td>nan</td><td>nan</td><td>nan</td><td>nan</td><td>nan</td><td>False</td><td>nan</td><td>nan</td><td>nan</td><td>nan</td><td>nan</td><td>nan</td><td>nan</td><td>nan</td><td>False</td><td>False</td><td>0</td><td>-1</td><td>nan</td><td>nan</td><td>nan</td><td>nan</td><td>nan</td><td>nan</td><td>nan</td><td>nan</td><td>nan</td><td>nan</td><td>nan</td><td>nan</td><td>nan</td><td>nan</td><td>nan</td><td>nan</td><td>nan</td><td>nan</td><td>nan</td><td>nan</td><td>nan</td><td>nan</td><td>nan</td><td>nan</td><td>nan</td><td>nan</td><td>nan</td><td>nan</td><td>nan</td><td>nan</td><td>nan</td><td>nan</td><td>nan</td><td>nan</td><td>False</td><td>nan</td><td>nan</td><td>nan</td><td>nan</td><td>False</td><td>nan</td><td>nan</td><td>nan</td><td>nan</td><td>False</td><td>nan</td><td>nan</td><td>nan</td><td>nan</td><td>False</td><td>nan</td><td>nan</td><td>nan</td><td>nan</td><td>False</td><td>nan</td><td>nan</td><td>nan</td><td>nan</td><td>False</td><td>nan</td><td>nan</td><td>nan</td><td>nan</td><td>False</td><td>nan</td><td>nan</td><td>nan</td><td>nan</td><td>False</td><td>nan</td><td>nan</td><td>False</td><td>0</td><td>-1</td><td>nan</td><td>nan</td><td>nan</td><td>nan</td><td>nan</td><td>nan</td><td>nan</td><td>nan</td><td>nan</td><td>nan</td><td>nan</td><td>nan</td><td>nan</td><td>nan</td><td>nan</td><td>nan</td><td>False</td><td>nan</td><td>nan</td><td>False</td><td>nan</td><td>nan</td><td>False</td><td>nan</td><td>nan</td><td>False</td><td>nan</td><td>nan</td><td>False</td><td>nan</td><td>nan</td><td>False</td><td>nan</td><td>nan</td><td>False</td><td>False</td><td>0</td><td>-1</td><td>nan</td><td>nan</td><td>nan</td><td>nan</td><td>False</td><td>-1</td><td>nan</td><td>nan</td><td>nan</td><td>nan</td><td>-1</td><td>nan</td><td>nan</td><td>nan</td><td>nan</td><td>-1</td><td>nan</td><td>nan</td><td>nan</td><td>nan</td><td>-1</td><td>nan</td><td>nan</td><td>nan</td><td>nan</td><td>nan</td><td>nan</td><td>nan</td><td>nan</td><td>False</td><td>nan</td><td>nan</td><td>nan</td><td>nan</td><td>False</td><td>nan</td><td>nan</td><td>nan</td><td>nan</td><td>False</td><td>nan</td><td>nan</td><td>nan</td><td>nan</td><td>False</td><td>nan</td><td>nan</td><td>nan</td><td>nan</td><td>False</td><td>nan</td><td>False</td><td>0</td><td>-1</td></tr>\n",
       "<tr><td>8</td><td>34846</td><td>34.5050823693</td><td>-5.14364945973</td><td>0.910000026226</td><td>0.0118181</td><td>0.0125909</td><td>0.207346</td><td>0.0472298</td><td>0.0362847</td><td>0.0154889</td><td>0.21084</td><td>0.0504628</td><td>0.0390423</td><td>0.0126227</td><td>0.00386492</td><td>0.0429088</td><td>0.0710007</td><td>0.0181551</td><td>0.0669073</td><td>0.0556698</td><td>0.0338673</td><td>0.0065866</td><td>nan</td><td>nan</td><td>nan</td><td>nan</td><td>nan</td><td>nan</td><td>nan</td><td>nan</td><td>nan</td><td>nan</td><td>0.0343172</td><td>0.0198248</td><td>0.0291596</td><td>28.7186308488</td><td>1.15673382189</td><td>False</td><td>25.6082608459</td><td>0.247311758141</td><td>27.5006911582</td><td>0.463469713182</td><td>False</td><td>25.5901174811</td><td>0.259861928256</td><td>27.4211615144</td><td>0.35102753659</td><td>False</td><td>29.9321487278</td><td>12.0539720519</td><td>26.7718434238</td><td>0.277626127221</td><td>False</td><td>26.8363162386</td><td>0.903380010427</td><td>27.575548563</td><td>0.211156782095</td><td>0.0</td><td>nan</td><td>nan</td><td>False</td><td>nan</td><td>nan</td><td>False</td><td>nan</td><td>nan</td><td>False</td><td>nan</td><td>nan</td><td>False</td><td>nan</td><td>nan</td><td>False</td><td>27.5612203855</td><td>0.922558758764</td><td>False</td><td>False</td><td>0</td><td>False</td><td>-1</td><td>nan</td><td>nan</td><td>nan</td><td>nan</td><td>nan</td><td>nan</td><td>nan</td><td>nan</td><td>nan</td><td>nan</td><td>nan</td><td>nan</td><td>nan</td><td>nan</td><td>nan</td><td>nan</td><td>nan</td><td>nan</td><td>nan</td><td>nan</td><td>nan</td><td>nan</td><td>nan</td><td>nan</td><td>nan</td><td>nan</td><td>nan</td><td>False</td><td>nan</td><td>nan</td><td>False</td><td>nan</td><td>nan</td><td>False</td><td>nan</td><td>nan</td><td>False</td><td>nan</td><td>nan</td><td>False</td><td>nan</td><td>nan</td><td>False</td><td>nan</td><td>nan</td><td>nan</td><td>nan</td><td>nan</td><td>nan</td><td>nan</td><td>nan</td><td>nan</td><td>nan</td><td>nan</td><td>nan</td><td>False</td><td>0</td><td>-1</td><td>nan</td><td>nan</td><td>nan</td><td>nan</td><td>nan</td><td>nan</td><td>nan</td><td>nan</td><td>nan</td><td>nan</td><td>nan</td><td>nan</td><td>nan</td><td>nan</td><td>nan</td><td>nan</td><td>nan</td><td>nan</td><td>nan</td><td>nan</td><td>nan</td><td>nan</td><td>nan</td><td>False</td><td>nan</td><td>nan</td><td>False</td><td>nan</td><td>nan</td><td>False</td><td>nan</td><td>nan</td><td>False</td><td>nan</td><td>nan</td><td>False</td><td>nan</td><td>nan</td><td>nan</td><td>nan</td><td>nan</td><td>nan</td><td>nan</td><td>nan</td><td>nan</td><td>nan</td><td>False</td><td>0</td><td>-1</td><td>nan</td><td>nan</td><td>nan</td><td>nan</td><td>nan</td><td>nan</td><td>nan</td><td>nan</td><td>nan</td><td>False</td><td>nan</td><td>nan</td><td>nan</td><td>nan</td><td>nan</td><td>nan</td><td>nan</td><td>nan</td><td>False</td><td>nan</td><td>nan</td><td>nan</td><td>nan</td><td>nan</td><td>nan</td><td>nan</td><td>nan</td><td>False</td><td>nan</td><td>nan</td><td>nan</td><td>nan</td><td>nan</td><td>nan</td><td>nan</td><td>nan</td><td>False</td><td>nan</td><td>nan</td><td>nan</td><td>nan</td><td>nan</td><td>nan</td><td>nan</td><td>nan</td><td>False</td><td>False</td><td>0</td><td>-1</td><td>nan</td><td>nan</td><td>nan</td><td>nan</td><td>nan</td><td>nan</td><td>nan</td><td>nan</td><td>nan</td><td>nan</td><td>nan</td><td>nan</td><td>nan</td><td>nan</td><td>nan</td><td>nan</td><td>nan</td><td>nan</td><td>nan</td><td>nan</td><td>nan</td><td>nan</td><td>nan</td><td>nan</td><td>nan</td><td>nan</td><td>nan</td><td>nan</td><td>nan</td><td>nan</td><td>nan</td><td>nan</td><td>nan</td><td>nan</td><td>False</td><td>nan</td><td>nan</td><td>nan</td><td>nan</td><td>False</td><td>nan</td><td>nan</td><td>nan</td><td>nan</td><td>False</td><td>nan</td><td>nan</td><td>nan</td><td>nan</td><td>False</td><td>nan</td><td>nan</td><td>nan</td><td>nan</td><td>False</td><td>nan</td><td>nan</td><td>nan</td><td>nan</td><td>False</td><td>nan</td><td>nan</td><td>nan</td><td>nan</td><td>False</td><td>nan</td><td>nan</td><td>nan</td><td>nan</td><td>False</td><td>nan</td><td>nan</td><td>False</td><td>0</td><td>-1</td><td>nan</td><td>nan</td><td>nan</td><td>nan</td><td>nan</td><td>nan</td><td>nan</td><td>nan</td><td>nan</td><td>nan</td><td>nan</td><td>nan</td><td>nan</td><td>nan</td><td>nan</td><td>nan</td><td>False</td><td>nan</td><td>nan</td><td>False</td><td>nan</td><td>nan</td><td>False</td><td>nan</td><td>nan</td><td>False</td><td>nan</td><td>nan</td><td>False</td><td>nan</td><td>nan</td><td>False</td><td>nan</td><td>nan</td><td>False</td><td>False</td><td>0</td><td>-1</td><td>nan</td><td>nan</td><td>nan</td><td>nan</td><td>False</td><td>-1</td><td>nan</td><td>nan</td><td>nan</td><td>nan</td><td>-1</td><td>nan</td><td>nan</td><td>nan</td><td>nan</td><td>-1</td><td>nan</td><td>nan</td><td>nan</td><td>nan</td><td>-1</td><td>nan</td><td>nan</td><td>nan</td><td>nan</td><td>nan</td><td>nan</td><td>nan</td><td>nan</td><td>False</td><td>nan</td><td>nan</td><td>nan</td><td>nan</td><td>False</td><td>nan</td><td>nan</td><td>nan</td><td>nan</td><td>False</td><td>nan</td><td>nan</td><td>nan</td><td>nan</td><td>False</td><td>nan</td><td>nan</td><td>nan</td><td>nan</td><td>False</td><td>nan</td><td>False</td><td>0</td><td>-1</td></tr>\n",
       "<tr><td>9</td><td>29605</td><td>34.5061329693</td><td>-5.23450135973</td><td>0.800000011921</td><td>nan</td><td>nan</td><td>nan</td><td>nan</td><td>nan</td><td>nan</td><td>nan</td><td>nan</td><td>0.022715</td><td>0.0155916</td><td>0.0625956</td><td>0.0426256</td><td>0.0702955</td><td>0.0203761</td><td>0.00447982</td><td>0.0513319</td><td>0.0050671</td><td>0.0065572</td><td>0.007038</td><td>0.0033655</td><td>0.0119913</td><td>0.0065854</td><td>0.009911</td><td>0.0073214</td><td>0.0134793</td><td>0.0094574</td><td>0.0097289</td><td>0.0212447</td><td>-0.00681999</td><td>0.0152781</td><td>0.0261541</td><td>nan</td><td>nan</td><td>False</td><td>nan</td><td>nan</td><td>nan</td><td>nan</td><td>False</td><td>nan</td><td>nan</td><td>28.0092181471</td><td>0.745250478103</td><td>False</td><td>26.9086404834</td><td>0.739351602501</td><td>26.7826811891</td><td>0.314715301574</td><td>False</td><td>29.7718485892</td><td>12.440879832</td><td>29.6381013119</td><td>1.4050224866</td><td>0.0</td><td>29.2813768438</td><td>0.519188007547</td><td>False</td><td>28.7028343291</td><td>0.596266226582</td><td>False</td><td>28.9097063097</td><td>0.802049142318</td><td>False</td><td>28.5758316519</td><td>0.761778548061</td><td>False</td><td>28.9298406514</td><td>2.37088879002</td><td>False</td><td>nan</td><td>-4.16370893108</td><td>False</td><td>False</td><td>0</td><td>False</td><td>-1</td><td>nan</td><td>nan</td><td>nan</td><td>nan</td><td>nan</td><td>nan</td><td>nan</td><td>nan</td><td>nan</td><td>nan</td><td>nan</td><td>nan</td><td>nan</td><td>nan</td><td>nan</td><td>nan</td><td>nan</td><td>nan</td><td>nan</td><td>nan</td><td>nan</td><td>nan</td><td>nan</td><td>nan</td><td>nan</td><td>nan</td><td>nan</td><td>False</td><td>nan</td><td>nan</td><td>False</td><td>nan</td><td>nan</td><td>False</td><td>nan</td><td>nan</td><td>False</td><td>nan</td><td>nan</td><td>False</td><td>nan</td><td>nan</td><td>False</td><td>nan</td><td>nan</td><td>nan</td><td>nan</td><td>nan</td><td>nan</td><td>nan</td><td>nan</td><td>nan</td><td>nan</td><td>nan</td><td>nan</td><td>False</td><td>0</td><td>-1</td><td>nan</td><td>nan</td><td>nan</td><td>nan</td><td>nan</td><td>nan</td><td>nan</td><td>nan</td><td>nan</td><td>nan</td><td>nan</td><td>nan</td><td>nan</td><td>nan</td><td>nan</td><td>nan</td><td>nan</td><td>nan</td><td>nan</td><td>nan</td><td>nan</td><td>nan</td><td>nan</td><td>False</td><td>nan</td><td>nan</td><td>False</td><td>nan</td><td>nan</td><td>False</td><td>nan</td><td>nan</td><td>False</td><td>nan</td><td>nan</td><td>False</td><td>nan</td><td>nan</td><td>nan</td><td>nan</td><td>nan</td><td>nan</td><td>nan</td><td>nan</td><td>nan</td><td>nan</td><td>False</td><td>0</td><td>-1</td><td>nan</td><td>nan</td><td>nan</td><td>nan</td><td>nan</td><td>nan</td><td>nan</td><td>nan</td><td>nan</td><td>False</td><td>nan</td><td>nan</td><td>nan</td><td>nan</td><td>nan</td><td>nan</td><td>nan</td><td>nan</td><td>False</td><td>nan</td><td>nan</td><td>nan</td><td>nan</td><td>nan</td><td>nan</td><td>nan</td><td>nan</td><td>False</td><td>nan</td><td>nan</td><td>nan</td><td>nan</td><td>nan</td><td>nan</td><td>nan</td><td>nan</td><td>False</td><td>nan</td><td>nan</td><td>nan</td><td>nan</td><td>nan</td><td>nan</td><td>nan</td><td>nan</td><td>False</td><td>False</td><td>0</td><td>-1</td><td>nan</td><td>nan</td><td>nan</td><td>nan</td><td>nan</td><td>nan</td><td>nan</td><td>nan</td><td>nan</td><td>nan</td><td>nan</td><td>nan</td><td>nan</td><td>nan</td><td>nan</td><td>nan</td><td>nan</td><td>nan</td><td>nan</td><td>nan</td><td>nan</td><td>nan</td><td>nan</td><td>nan</td><td>nan</td><td>nan</td><td>nan</td><td>nan</td><td>nan</td><td>nan</td><td>nan</td><td>nan</td><td>nan</td><td>nan</td><td>False</td><td>nan</td><td>nan</td><td>nan</td><td>nan</td><td>False</td><td>nan</td><td>nan</td><td>nan</td><td>nan</td><td>False</td><td>nan</td><td>nan</td><td>nan</td><td>nan</td><td>False</td><td>nan</td><td>nan</td><td>nan</td><td>nan</td><td>False</td><td>nan</td><td>nan</td><td>nan</td><td>nan</td><td>False</td><td>nan</td><td>nan</td><td>nan</td><td>nan</td><td>False</td><td>nan</td><td>nan</td><td>nan</td><td>nan</td><td>False</td><td>nan</td><td>nan</td><td>False</td><td>0</td><td>-1</td><td>nan</td><td>nan</td><td>nan</td><td>nan</td><td>nan</td><td>nan</td><td>nan</td><td>nan</td><td>nan</td><td>nan</td><td>nan</td><td>nan</td><td>nan</td><td>nan</td><td>nan</td><td>nan</td><td>False</td><td>nan</td><td>nan</td><td>False</td><td>nan</td><td>nan</td><td>False</td><td>nan</td><td>nan</td><td>False</td><td>nan</td><td>nan</td><td>False</td><td>nan</td><td>nan</td><td>False</td><td>nan</td><td>nan</td><td>False</td><td>False</td><td>0</td><td>-1</td><td>nan</td><td>nan</td><td>nan</td><td>nan</td><td>False</td><td>-1</td><td>nan</td><td>nan</td><td>nan</td><td>nan</td><td>-1</td><td>nan</td><td>nan</td><td>nan</td><td>nan</td><td>-1</td><td>nan</td><td>nan</td><td>nan</td><td>nan</td><td>-1</td><td>nan</td><td>nan</td><td>nan</td><td>nan</td><td>nan</td><td>nan</td><td>nan</td><td>nan</td><td>False</td><td>nan</td><td>nan</td><td>nan</td><td>nan</td><td>False</td><td>nan</td><td>nan</td><td>nan</td><td>nan</td><td>False</td><td>nan</td><td>nan</td><td>nan</td><td>nan</td><td>False</td><td>nan</td><td>nan</td><td>nan</td><td>nan</td><td>False</td><td>nan</td><td>False</td><td>0</td><td>-1</td></tr>\n",
       "</table><style>table.dataTable {clear: both; width: auto !important; margin: 0 !important;}\n",
       ".dataTables_info, .dataTables_length, .dataTables_filter, .dataTables_paginate{\n",
       "display: inline-block; margin-right: 1em; }\n",
       ".paginate_button { margin-right: 5px; }\n",
       "</style>\n",
       "<script>\n",
       "\n",
       "var astropy_sort_num = function(a, b) {\n",
       "    var a_num = parseFloat(a);\n",
       "    var b_num = parseFloat(b);\n",
       "\n",
       "    if (isNaN(a_num) && isNaN(b_num))\n",
       "        return ((a < b) ? -1 : ((a > b) ? 1 : 0));\n",
       "    else if (!isNaN(a_num) && !isNaN(b_num))\n",
       "        return ((a_num < b_num) ? -1 : ((a_num > b_num) ? 1 : 0));\n",
       "    else\n",
       "        return isNaN(a_num) ? -1 : 1;\n",
       "}\n",
       "\n",
       "require.config({paths: {\n",
       "    datatables: 'https://cdn.datatables.net/1.10.12/js/jquery.dataTables.min'\n",
       "}});\n",
       "require([\"datatables\"], function(){\n",
       "    console.log(\"$('#table4734350952-276544').dataTable()\");\n",
       "    \n",
       "jQuery.extend( jQuery.fn.dataTableExt.oSort, {\n",
       "    \"optionalnum-asc\": astropy_sort_num,\n",
       "    \"optionalnum-desc\": function (a,b) { return -astropy_sort_num(a, b); }\n",
       "});\n",
       "\n",
       "    $('#table4734350952-276544').dataTable({\n",
       "        order: [],\n",
       "        pageLength: 50,\n",
       "        lengthMenu: [[10, 25, 50, 100, 500, 1000, -1], [10, 25, 50, 100, 500, 1000, 'All']],\n",
       "        pagingType: \"full_numbers\",\n",
       "        columnDefs: [{targets: [0, 1, 2, 3, 4, 5, 6, 7, 8, 9, 10, 11, 12, 13, 14, 15, 16, 17, 18, 19, 20, 21, 22, 23, 24, 25, 26, 27, 28, 29, 30, 31, 32, 33, 34, 35, 36, 37, 39, 40, 41, 42, 44, 45, 46, 47, 49, 50, 51, 52, 54, 55, 56, 57, 58, 59, 60, 62, 63, 65, 66, 68, 69, 71, 72, 74, 75, 78, 81, 82, 83, 84, 85, 86, 87, 88, 89, 90, 91, 92, 93, 94, 95, 96, 97, 98, 99, 100, 101, 102, 103, 104, 105, 106, 107, 109, 110, 112, 113, 115, 116, 118, 119, 121, 122, 124, 125, 126, 127, 128, 129, 130, 131, 132, 133, 134, 135, 137, 139, 140, 141, 142, 143, 144, 145, 146, 147, 148, 149, 150, 151, 152, 153, 154, 155, 156, 157, 158, 159, 160, 161, 163, 164, 166, 167, 169, 170, 172, 173, 175, 176, 177, 178, 179, 180, 181, 182, 183, 184, 186, 187, 188, 189, 190, 191, 192, 193, 194, 195, 196, 198, 199, 200, 201, 202, 203, 204, 205, 207, 208, 209, 210, 211, 212, 213, 214, 216, 217, 218, 219, 220, 221, 222, 223, 225, 226, 227, 228, 229, 230, 231, 232, 235, 236, 237, 238, 239, 240, 241, 242, 243, 244, 245, 246, 247, 248, 249, 250, 251, 252, 253, 254, 255, 256, 257, 258, 259, 260, 261, 262, 263, 264, 265, 266, 267, 268, 269, 270, 272, 273, 274, 275, 277, 278, 279, 280, 282, 283, 284, 285, 287, 288, 289, 290, 292, 293, 294, 295, 297, 298, 299, 300, 302, 303, 304, 305, 307, 308, 310, 311, 312, 313, 314, 315, 316, 317, 318, 319, 320, 321, 322, 323, 324, 325, 326, 327, 329, 330, 332, 333, 335, 336, 338, 339, 341, 342, 344, 345, 348, 350, 351, 352, 353, 356, 357, 358, 359, 361, 362, 363, 364, 366, 367, 368, 369, 371, 372, 373, 374, 375, 376, 377, 378, 380, 381, 382, 383, 385, 386, 387, 388, 390, 391, 392, 393, 395, 396, 397, 398, 400, 402, 403], type: \"optionalnum\"}]\n",
       "    });\n",
       "});\n",
       "</script>\n"
      ],
      "text/plain": [
       "<IPython.core.display.HTML object>"
      ]
     },
     "execution_count": 20,
     "metadata": {},
     "output_type": "execute_result"
    }
   ],
   "source": [
    "master_catalogue[:10].show_in_notebook()"
   ]
  },
  {
   "cell_type": "code",
   "execution_count": 21,
   "metadata": {
    "collapsed": true
   },
   "outputs": [],
   "source": [
    "master_catalogue.add_column(Column(data=(np.char.array(master_catalogue['cfhtls-wide_id'].astype(str)) \n",
    "                                    +  np.char.array(master_catalogue['cfhtls-deep_id'].astype(str) )\n",
    "                                         +  np.char.array(master_catalogue['candels_id'].astype(str) )\n",
    "                                    +  np.char.array(master_catalogue['sparcs_intid'].astype(str)) \n",
    "                                        +  np.char.array(master_catalogue['wirds_id'].astype(str)) \n",
    "                                        +  np.char.array(master_catalogue['vipers_id'].astype(str)) ), \n",
    "                              name=\"cfht_intid\"))"
   ]
  },
  {
   "cell_type": "code",
   "execution_count": 22,
   "metadata": {},
   "outputs": [
    {
     "name": "stdout",
     "output_type": "stream",
     "text": [
      "['candels_id', 'cfhtls-deep_id', 'cfhtls-wide_id', 'sparcs_intid', 'wirds_id', 'vipers_id', 'sxds_b_id', 'sxds_v_id', 'sxds_r_id', 'sxds_i_id', 'sxds_z_id', 'sxds_intid', 'cfht_intid']\n"
     ]
    }
   ],
   "source": [
    "id_names = []\n",
    "for col in master_catalogue.colnames:\n",
    "    if '_id' in col:\n",
    "        id_names += [col]\n",
    "    if '_intid' in col:\n",
    "        id_names += [col]\n",
    "        \n",
    "print(id_names)"
   ]
  },
  {
   "cell_type": "markdown",
   "metadata": {},
   "source": [
    "## VII - Choosing between multiple values for the same filter\n",
    "\n"
   ]
  },
  {
   "cell_type": "markdown",
   "metadata": {},
   "source": [
    "### VII.a CFHT Megacam fluxes: CFHTLS-DEEP, CFHTLS-WIDE SpARCS, CANDELS, CFHT-WIRDS and VIPERS\n",
    "\n",
    "According to Mattia CFHTLenS is built on the same data as CFHTLS-WIDE and should not be included. I have therefore excluded it from the merge above.\n",
    "\n",
    "CFHTLS-DEEP is prefferred to CFHTLS-WIDE which is prefferred to SpARCS... CANDELS... WIRDS... VIPERS\n",
    "\n",
    "| Survey (in HELP use order)            | Bands                 | notes |\n",
    "|:-------------|:------------------|-------------------|\n",
    "| CFHTLS-DEEP | u, g, r, i, z, y ||\n",
    "| CFHTLS-WIDE | u, g, r, i, z    ||\n",
    "| SpARCS      | u, g, r, z, y    ||\n",
    "| CANDELS     | u                | Total fluxes only |\n",
    "| CFHT-WIRDS     | u, g, r, i, z  (+ WIRCAM J, H, Ks)            ||\n",
    "| VIPERS     | u, g, r, i, z, y  (+ WIRCAM Ks)            | Total fluxes only |\n"
   ]
  },
  {
   "cell_type": "code",
   "execution_count": 23,
   "metadata": {
    "collapsed": true
   },
   "outputs": [],
   "source": [
    "megacam_origin = Table()\n",
    "megacam_origin.add_column(master_catalogue['cfht_intid'])"
   ]
  },
  {
   "cell_type": "code",
   "execution_count": 24,
   "metadata": {
    "collapsed": true
   },
   "outputs": [],
   "source": [
    "megacam_stats = Table()\n",
    "megacam_stats.add_column(Column(data=['u','g','r','i','z','y'], name=\"Band\"))\n",
    "for col in [\"CFHTLS-DEEP\", \"CFHTLS-WIDE\", \"SpARCS\", \"CANDELS\", \"CFHT-WIRDS\", \"VIPERS\"]:\n",
    "    megacam_stats.add_column(Column(data=np.full(6, 0), name=\"{}\".format(col)))\n",
    "    megacam_stats.add_column(Column(data=np.full(6, 0), name=\"use {}\".format(col)))\n",
    "    megacam_stats.add_column(Column(data=np.full(6, 0), name=\"{} ap\".format(col)))\n",
    "    megacam_stats.add_column(Column(data=np.full(6, 0), name=\"use {} ap\".format(col)))\n",
    "    "
   ]
  },
  {
   "cell_type": "code",
   "execution_count": 25,
   "metadata": {
    "collapsed": true
   },
   "outputs": [],
   "source": [
    "\n",
    "megacam_bands = ['u','g','r','i','z','y'] # Lowercase naming convention (k is Ks)\n",
    "for band in megacam_bands:\n",
    "\n",
    "    # Megacam total flux \n",
    "    has_cfhtls_deep = ~np.isnan(master_catalogue['f_cfhtls-deep_' + band])\n",
    "    if band == 'y':\n",
    "        has_cfhtls_wide = np.full(len(master_catalogue), False, dtype=bool)\n",
    "    else:\n",
    "        has_cfhtls_wide = ~np.isnan(master_catalogue['f_cfhtls-wide_' + band])\n",
    "        \n",
    "    if band == 'i':\n",
    "        has_sparcs = np.full(len(master_catalogue), False, dtype=bool)\n",
    "    else:\n",
    "        has_sparcs = ~np.isnan(master_catalogue['f_sparcs_' + band])\n",
    "        \n",
    "    if band == 'u':\n",
    "        has_candels = ~np.isnan(master_catalogue['f_candels-megacam_' + band])\n",
    "    else:\n",
    "        has_candels = np.full(len(master_catalogue), False, dtype=bool)\n",
    "        \n",
    "    if band == 'y':\n",
    "        has_wirds = np.full(len(master_catalogue), False, dtype=bool)\n",
    "    else:\n",
    "        has_wirds = ~np.isnan(master_catalogue['f_wirds_' + band])\n",
    "        \n",
    "    has_vipers  = ~np.isnan(master_catalogue['f_vipers_' + band])\n",
    "    \n",
    "\n",
    "    use_cfhtls_deep = has_cfhtls_deep \n",
    "    use_cfhtls_wide = has_cfhtls_wide & ~has_cfhtls_deep\n",
    "    use_sparcs = has_sparcs & ~has_cfhtls_wide & ~has_cfhtls_deep\n",
    "    use_candels = has_candels & ~has_sparcs & ~has_cfhtls_wide & ~has_cfhtls_deep\n",
    "    use_wirds = has_wirds & ~has_candels & ~has_sparcs & ~has_cfhtls_wide & ~has_cfhtls_deep\n",
    "    use_vipers = has_vipers & ~has_wirds & ~has_candels & ~has_sparcs & ~has_cfhtls_wide & ~has_cfhtls_deep\n",
    "\n",
    "    f_megacam = np.full(len(master_catalogue), np.nan)\n",
    "    f_megacam[use_cfhtls_deep] = master_catalogue['f_cfhtls-deep_' + band][use_cfhtls_deep]\n",
    "    if not (band == 'y'):\n",
    "        f_megacam[use_cfhtls_wide] = master_catalogue['f_cfhtls-wide_' + band][use_cfhtls_wide]\n",
    "    if not (band == 'i'):\n",
    "        f_megacam[use_sparcs] = master_catalogue['f_sparcs_' + band][use_sparcs]\n",
    "    if band == 'u':\n",
    "        f_megacam[use_candels] = master_catalogue['f_candels-megacam_' + band][use_candels] \n",
    "    if not (band == 'y'):\n",
    "        f_megacam[use_wirds] = master_catalogue['f_wirds_' + band][use_wirds]\n",
    "    f_megacam[use_vipers] = master_catalogue['f_vipers_' + band][use_vipers]    \n",
    "\n",
    "    ferr_megacam = np.full(len(master_catalogue), np.nan)\n",
    "    ferr_megacam[use_cfhtls_deep] = master_catalogue['ferr_cfhtls-deep_' + band][use_cfhtls_deep]\n",
    "    if not (band == 'y'):\n",
    "        ferr_megacam[use_cfhtls_wide] = master_catalogue['ferr_cfhtls-wide_' + band][use_cfhtls_wide]\n",
    "    if not (band == 'i'):\n",
    "        ferr_megacam[use_sparcs] = master_catalogue['ferr_sparcs_' + band][use_sparcs]\n",
    "    if band == 'u':\n",
    "        ferr_megacam[use_candels] = master_catalogue['ferr_candels-megacam_' + band][use_candels]\n",
    "    if not (band == 'y'):\n",
    "        ferr_megacam[use_wirds] = master_catalogue['ferr_wirds_' + band][use_wirds]\n",
    "    ferr_megacam[use_vipers] = master_catalogue['ferr_vipers_' + band][use_vipers] \n",
    "    \n",
    "    m_megacam = np.full(len(master_catalogue), np.nan)\n",
    "    m_megacam[use_cfhtls_deep] = master_catalogue['m_cfhtls-deep_' + band][use_cfhtls_deep]\n",
    "    if not (band == 'y'):\n",
    "        m_megacam[use_cfhtls_wide] = master_catalogue['m_cfhtls-wide_' + band][use_cfhtls_wide]\n",
    "    if not (band == 'i'):\n",
    "        m_megacam[use_sparcs] = master_catalogue['m_sparcs_' + band][use_sparcs]\n",
    "    if band == 'u':\n",
    "        m_megacam[use_candels] = master_catalogue['m_candels-megacam_' + band][use_candels]\n",
    "    if not (band == 'y'):\n",
    "        m_megacam[use_wirds] = master_catalogue['m_wirds_' + band][use_wirds]\n",
    "    m_megacam[use_vipers] = master_catalogue['m_vipers_' + band][use_vipers] \n",
    "\n",
    "    merr_megacam = np.full(len(master_catalogue), np.nan)\n",
    "    merr_megacam[use_cfhtls_deep] = master_catalogue['merr_cfhtls-deep_' + band][use_cfhtls_deep]\n",
    "    if not (band == 'y'):\n",
    "        merr_megacam[use_cfhtls_wide] = master_catalogue['merr_cfhtls-wide_' + band][use_cfhtls_wide]\n",
    "    if not (band == 'i'):\n",
    "        merr_megacam[use_sparcs] = master_catalogue['merr_sparcs_' + band][use_sparcs]\n",
    "    if band == 'u':\n",
    "        merr_megacam[use_candels] = master_catalogue['merr_candels-megacam_' + band][use_candels]\n",
    "    if not (band == 'y'):\n",
    "        merr_megacam[use_wirds] = master_catalogue['merr_wirds_' + band][use_wirds]\n",
    "    merr_megacam[use_vipers] = master_catalogue['merr_vipers_' + band][use_vipers] \n",
    "\n",
    "    flag_megacam = np.full(len(master_catalogue), False, dtype=bool)\n",
    "    flag_megacam[use_cfhtls_deep] = master_catalogue['flag_cfhtls-deep_' + band][use_cfhtls_deep]\n",
    "    if not (band == 'y'):\n",
    "        flag_megacam[use_cfhtls_wide] = master_catalogue['flag_cfhtls-wide_' + band][use_cfhtls_wide]\n",
    "    if not (band == 'i'):\n",
    "        flag_megacam[use_sparcs] = master_catalogue['flag_sparcs_' + band][use_sparcs]\n",
    "    if band == 'u':\n",
    "        flag_megacam[use_candels] = master_catalogue['flag_candels-megacam_' + band][use_candels]\n",
    "    if not (band == 'y'):\n",
    "        flag_megacam[use_wirds] = master_catalogue['flag_wirds_' + band][use_wirds]\n",
    "    flag_megacam[use_vipers] = master_catalogue['flag_vipers_' + band][use_vipers] \n",
    "\n",
    "    master_catalogue.add_column(Column(data=f_megacam, name=\"f_megacam_\" + band))\n",
    "    master_catalogue.add_column(Column(data=ferr_megacam, name=\"ferr_megacam_\" + band))\n",
    "    master_catalogue.add_column(Column(data=m_megacam, name=\"m_megacam_\" + band))\n",
    "    master_catalogue.add_column(Column(data=merr_megacam, name=\"merr_megacam_\" + band))\n",
    "    master_catalogue.add_column(Column(data=flag_megacam, name=\"flag_megacam_\" + band))\n",
    "\n",
    "    \n",
    "    old_columns = []\n",
    "    column_types = ['f', 'ferr', 'm', 'merr', 'flag'] \n",
    "    for col_t in column_types:\n",
    "        old_columns += ['{}_cfhtls-deep_{}'.format(col_t, band)]\n",
    "        if not (band == 'y'):\n",
    "            old_columns += ['{}_cfhtls-wide_{}'.format(col_t, band)]\n",
    "        if not (band == 'i'):\n",
    "            old_columns += ['{}_sparcs_{}'.format(col_t, band)]    \n",
    "        if band == 'u':\n",
    "            old_columns += ['{}_candels-megacam_{}'.format(col_t, band)] \n",
    "        if not (band == 'y'):\n",
    "            old_columns += ['{}_wirds_{}'.format(col_t, band)] \n",
    "        old_columns += ['{}_vipers_{}'.format(col_t, band)]     \n",
    "        \n",
    "    master_catalogue.remove_columns(old_columns)\n",
    "\n",
    "    origin = np.full(len(master_catalogue), '     ', dtype='<U5')\n",
    "    origin[use_cfhtls_deep] = \"CFHTLS-DEEP\"\n",
    "    origin[use_cfhtls_wide] = \"CFHTLS-WIDE\"\n",
    "    origin[use_sparcs] = \"SpARCS\"\n",
    "    origin[use_candels] = \"CANDELS\"\n",
    "    origin[use_wirds] = \"WIRDS\"\n",
    "    origin[use_vipers] = \"VIPERS\"\n",
    "    \n",
    "    megacam_origin.add_column(Column(data=origin, name= 'f_megacam_' + band ))\n",
    "    \n",
    "    # Megacam aperture flux \n",
    "    has_ap_cfhtls_deep = ~np.isnan(master_catalogue['f_ap_cfhtls-deep_' + band])\n",
    "    if band == 'y':\n",
    "        has_ap_cfhtls_wide = np.full(len(master_catalogue), False, dtype=bool)\n",
    "    else:\n",
    "        has_ap_cfhtls_wide = ~np.isnan(master_catalogue['f_ap_cfhtls-wide_' + band])\n",
    "    if band == 'i':\n",
    "        has_ap_sparcs = np.full(len(master_catalogue), False, dtype=bool)\n",
    "    else:\n",
    "        has_ap_sparcs = ~np.isnan(master_catalogue['f_ap_sparcs_' + band])\n",
    "    if not (band == 'y'):\n",
    "        has_ap_wirds = ~np.isnan(master_catalogue['f_ap_wirds_' + band])\n",
    "    else:\n",
    "        has_ap_wirds = np.full(len(master_catalogue), False, dtype=bool)\n",
    "    \n",
    "\n",
    "    use_ap_cfhtls_deep = has_ap_cfhtls_deep \n",
    "    use_ap_cfhtls_wide = has_ap_cfhtls_wide & ~has_ap_cfhtls_deep\n",
    "    use_ap_sparcs = has_ap_sparcs & ~has_ap_cfhtls_wide & ~has_ap_cfhtls_deep\n",
    "    use_ap_wirds = has_ap_wirds & ~has_ap_sparcs & ~has_ap_cfhtls_wide & ~has_ap_cfhtls_deep\n",
    "\n",
    "    f_ap_megacam = np.full(len(master_catalogue), np.nan)\n",
    "    f_ap_megacam[use_ap_cfhtls_deep] = master_catalogue['f_ap_cfhtls-deep_' + band][use_ap_cfhtls_deep]\n",
    "    if not (band == 'y'):\n",
    "        f_ap_megacam[use_ap_cfhtls_wide] = master_catalogue['f_ap_cfhtls-wide_' + band][use_ap_cfhtls_wide]\n",
    "    if not (band == 'i'):\n",
    "        f_ap_megacam[use_ap_sparcs] = master_catalogue['f_ap_sparcs_' + band][use_ap_sparcs]\n",
    "    if not (band == 'y'):\n",
    "        f_ap_megacam[use_ap_wirds] = master_catalogue['f_ap_wirds_' + band][use_ap_wirds]\n",
    "        \n",
    "    ferr_ap_megacam = np.full(len(master_catalogue), np.nan)\n",
    "    ferr_ap_megacam[use_ap_cfhtls_deep] = master_catalogue['ferr_ap_cfhtls-deep_' + band][use_ap_cfhtls_deep]\n",
    "    if not (band == 'y'):\n",
    "        ferr_ap_megacam[use_ap_cfhtls_wide] = master_catalogue['ferr_ap_cfhtls-wide_' + band][use_ap_cfhtls_wide]\n",
    "    if not (band == 'i'):\n",
    "        ferr_ap_megacam[use_ap_sparcs] = master_catalogue['ferr_ap_sparcs_' + band][use_ap_sparcs]\n",
    "    if not (band == 'y'):\n",
    "        ferr_ap_megacam[use_ap_wirds] = master_catalogue['ferr_ap_wirds_' + band][use_ap_wirds]\n",
    "    \n",
    "    m_ap_megacam = np.full(len(master_catalogue), np.nan)\n",
    "    m_ap_megacam[use_ap_cfhtls_deep] = master_catalogue['m_ap_cfhtls-deep_' + band][use_ap_cfhtls_deep]\n",
    "    if not (band == 'y'):\n",
    "        m_ap_megacam[use_ap_cfhtls_wide] = master_catalogue['m_ap_cfhtls-wide_' + band][use_ap_cfhtls_wide]\n",
    "    if not (band == 'i'):\n",
    "        m_ap_megacam[use_ap_sparcs] = master_catalogue['m_ap_sparcs_' + band][use_ap_sparcs]\n",
    "    if not (band == 'y'):\n",
    "        m_ap_megacam[use_ap_wirds] = master_catalogue['m_ap_wirds_' + band][use_ap_wirds]\n",
    "\n",
    "    merr_ap_megacam = np.full(len(master_catalogue), np.nan)\n",
    "    merr_ap_megacam[use_ap_cfhtls_deep] = master_catalogue['merr_ap_cfhtls-deep_' + band][use_ap_cfhtls_deep]\n",
    "    if not (band == 'y'):\n",
    "        merr_ap_megacam[use_ap_cfhtls_wide] = master_catalogue['merr_ap_cfhtls-wide_' + band][use_ap_cfhtls_wide]\n",
    "    if not (band == 'i'):\n",
    "        merr_ap_megacam[use_ap_sparcs] = master_catalogue['merr_ap_sparcs_' + band][use_ap_sparcs]\n",
    "    if not (band == 'y'):\n",
    "        merr_ap_megacam[use_ap_wirds] = master_catalogue['merr_ap_wirds_' + band][use_ap_wirds]\n",
    "\n",
    "\n",
    "\n",
    "    master_catalogue.add_column(Column(data=f_ap_megacam, name=\"f_ap_megacam_\" + band))\n",
    "    master_catalogue.add_column(Column(data=ferr_ap_megacam, name=\"ferr_ap_megacam_\" + band))\n",
    "    master_catalogue.add_column(Column(data=m_ap_megacam, name=\"m_ap_megacam_\" + band))\n",
    "    master_catalogue.add_column(Column(data=merr_ap_megacam, name=\"merr_ap_megacam_\" + band))\n",
    "\n",
    "\n",
    "    \n",
    "    old_ap_columns = []\n",
    "    column_types = ['f', 'ferr', 'm', 'merr'] \n",
    "    for col_t in column_types:\n",
    "        old_ap_columns += ['{}_ap_cfhtls-deep_{}'.format(col_t, band)]\n",
    "        if not (band == 'y'):\n",
    "            old_ap_columns += ['{}_ap_cfhtls-wide_{}'.format(col_t, band)]\n",
    "        if not (band == 'i'):\n",
    "            old_ap_columns += ['{}_ap_sparcs_{}'.format(col_t, band)]    \n",
    "        if not (band == 'y'):\n",
    "            old_ap_columns += ['{}_ap_wirds_{}'.format(col_t, band)] \n",
    "    \n",
    "        \n",
    "    master_catalogue.remove_columns(old_ap_columns)\n",
    "\n",
    "    origin_ap = np.full(len(master_catalogue), '     ', dtype='<U5')\n",
    "    origin_ap[use_ap_cfhtls_deep] = \"CFHTLS-DEEP\"\n",
    "    origin_ap[use_ap_cfhtls_wide] = \"CFHTLS-WIDE\"\n",
    "    origin_ap[use_ap_sparcs] = \"SpARCS\"\n",
    "    origin_ap[use_ap_wirds] = \"CFHT-WIRDS\"\n",
    "    \n",
    "    megacam_origin.add_column(Column(data=origin_ap, name= 'f_ap_megacam_' + band ))\n",
    "    \n",
    "\n",
    "   \n",
    "    megacam_stats['CFHTLS-DEEP'][megacam_stats['Band'] == band] = np.sum(has_cfhtls_deep)\n",
    "    megacam_stats['CFHTLS-WIDE'][megacam_stats['Band'] == band] = np.sum(has_cfhtls_wide)\n",
    "    megacam_stats['SpARCS'][megacam_stats['Band'] == band] = np.sum(has_sparcs)\n",
    "    megacam_stats['CANDELS'][megacam_stats['Band'] == band] = np.sum(has_candels)\n",
    "    megacam_stats['CFHT-WIRDS'][megacam_stats['Band'] == band] = np.sum(has_wirds)\n",
    "    megacam_stats['VIPERS'][megacam_stats['Band'] == band] = np.sum(has_vipers)\n",
    "    megacam_stats['use CFHTLS-DEEP'][megacam_stats['Band'] == band] = np.sum(use_cfhtls_deep)\n",
    "    megacam_stats['use CFHTLS-WIDE'][megacam_stats['Band'] == band] = np.sum(use_cfhtls_wide)\n",
    "    megacam_stats['use SpARCS'][megacam_stats['Band'] == band] = np.sum(use_sparcs)\n",
    "    megacam_stats['use CANDELS'][megacam_stats['Band'] == band] = np.sum(use_candels)\n",
    "    megacam_stats['use CFHT-WIRDS'][megacam_stats['Band'] == band] = np.sum(use_wirds)\n",
    "    megacam_stats['use VIPERS'][megacam_stats['Band'] == band] = np.sum(use_vipers)\n",
    "    \n",
    "    megacam_stats['CFHTLS-DEEP ap'][megacam_stats['Band'] == band] = np.sum(has_ap_cfhtls_deep)\n",
    "    megacam_stats['CFHTLS-WIDE ap'][megacam_stats['Band'] == band] = np.sum(has_ap_cfhtls_wide)\n",
    "    megacam_stats['SpARCS ap'][megacam_stats['Band'] == band] = np.sum(has_ap_sparcs)\n",
    "    megacam_stats['CFHT-WIRDS ap'][megacam_stats['Band'] == band] = np.sum(has_ap_wirds)\n",
    "    megacam_stats['use CFHTLS-DEEP ap'][megacam_stats['Band'] == band] = np.sum(use_ap_cfhtls_deep)\n",
    "    megacam_stats['use CFHTLS-WIDE ap'][megacam_stats['Band'] == band] = np.sum(use_ap_cfhtls_wide)\n",
    "    megacam_stats['use SpARCS ap'][megacam_stats['Band'] == band] = np.sum(use_ap_sparcs)\n",
    "    megacam_stats['use CFHT-WIRDS ap'][megacam_stats['Band'] == band] = np.sum(use_ap_wirds)"
   ]
  },
  {
   "cell_type": "code",
   "execution_count": 26,
   "metadata": {},
   "outputs": [
    {
     "data": {
      "text/html": [
       "&lt;Table length=6&gt;\n",
       "<table id=\"table4895397424-8625\" class=\"table-striped table-bordered table-condensed\">\n",
       "<thead><tr><th>idx</th><th>Band</th><th>CFHTLS-DEEP</th><th>use CFHTLS-DEEP</th><th>CFHTLS-DEEP ap</th><th>use CFHTLS-DEEP ap</th><th>CFHTLS-WIDE</th><th>use CFHTLS-WIDE</th><th>CFHTLS-WIDE ap</th><th>use CFHTLS-WIDE ap</th><th>SpARCS</th><th>use SpARCS</th><th>SpARCS ap</th><th>use SpARCS ap</th><th>CANDELS</th><th>use CANDELS</th><th>CANDELS ap</th><th>use CANDELS ap</th><th>CFHT-WIRDS</th><th>use CFHT-WIRDS</th><th>CFHT-WIRDS ap</th><th>use CFHT-WIRDS ap</th><th>VIPERS</th><th>use VIPERS</th><th>VIPERS ap</th><th>use VIPERS ap</th></tr></thead>\n",
       "<tr><td>0</td><td>u</td><td>2630</td><td>2630</td><td>2641</td><td>2641</td><td>1228</td><td>189</td><td>1247</td><td>194</td><td>4290</td><td>4290</td><td>4152</td><td>4152</td><td>35931</td><td>35931</td><td>0</td><td>0</td><td>134630</td><td>133723</td><td>135091</td><td>134173</td><td>908447</td><td>869492</td><td>0</td><td>0</td></tr>\n",
       "<tr><td>1</td><td>g</td><td>3051</td><td>3051</td><td>3037</td><td>3037</td><td>1347</td><td>194</td><td>1357</td><td>195</td><td>4550</td><td>4550</td><td>4472</td><td>4472</td><td>0</td><td>0</td><td>0</td><td>0</td><td>143047</td><td>142075</td><td>142074</td><td>141095</td><td>945986</td><td>910640</td><td>0</td><td>0</td></tr>\n",
       "<tr><td>2</td><td>r</td><td>3130</td><td>3130</td><td>3135</td><td>3135</td><td>1350</td><td>197</td><td>1355</td><td>200</td><td>4852</td><td>4852</td><td>4808</td><td>4808</td><td>0</td><td>0</td><td>0</td><td>0</td><td>144102</td><td>143120</td><td>143184</td><td>142198</td><td>949549</td><td>914214</td><td>0</td><td>0</td></tr>\n",
       "<tr><td>3</td><td>i</td><td>3123</td><td>3123</td><td>3126</td><td>3126</td><td>1319</td><td>194</td><td>1328</td><td>195</td><td>0</td><td>0</td><td>0</td><td>0</td><td>0</td><td>0</td><td>0</td><td>0</td><td>144330</td><td>143350</td><td>143316</td><td>142331</td><td>728690</td><td>704905</td><td>0</td><td>0</td></tr>\n",
       "<tr><td>4</td><td>z</td><td>2779</td><td>2779</td><td>2811</td><td>2811</td><td>1158</td><td>179</td><td>1206</td><td>186</td><td>4423</td><td>4423</td><td>4144</td><td>4144</td><td>0</td><td>0</td><td>0</td><td>0</td><td>141308</td><td>140349</td><td>141154</td><td>140184</td><td>922753</td><td>887609</td><td>0</td><td>0</td></tr>\n",
       "<tr><td>5</td><td>y</td><td>2913</td><td>2913</td><td>2928</td><td>2928</td><td>0</td><td>0</td><td>0</td><td>0</td><td>4559</td><td>4559</td><td>4404</td><td>4404</td><td>0</td><td>0</td><td>0</td><td>0</td><td>0</td><td>0</td><td>0</td><td>0</td><td>221194</td><td>221194</td><td>0</td><td>0</td></tr>\n",
       "</table><style>table.dataTable {clear: both; width: auto !important; margin: 0 !important;}\n",
       ".dataTables_info, .dataTables_length, .dataTables_filter, .dataTables_paginate{\n",
       "display: inline-block; margin-right: 1em; }\n",
       ".paginate_button { margin-right: 5px; }\n",
       "</style>\n",
       "<script>\n",
       "\n",
       "var astropy_sort_num = function(a, b) {\n",
       "    var a_num = parseFloat(a);\n",
       "    var b_num = parseFloat(b);\n",
       "\n",
       "    if (isNaN(a_num) && isNaN(b_num))\n",
       "        return ((a < b) ? -1 : ((a > b) ? 1 : 0));\n",
       "    else if (!isNaN(a_num) && !isNaN(b_num))\n",
       "        return ((a_num < b_num) ? -1 : ((a_num > b_num) ? 1 : 0));\n",
       "    else\n",
       "        return isNaN(a_num) ? -1 : 1;\n",
       "}\n",
       "\n",
       "require.config({paths: {\n",
       "    datatables: 'https://cdn.datatables.net/1.10.12/js/jquery.dataTables.min'\n",
       "}});\n",
       "require([\"datatables\"], function(){\n",
       "    console.log(\"$('#table4895397424-8625').dataTable()\");\n",
       "    \n",
       "jQuery.extend( jQuery.fn.dataTableExt.oSort, {\n",
       "    \"optionalnum-asc\": astropy_sort_num,\n",
       "    \"optionalnum-desc\": function (a,b) { return -astropy_sort_num(a, b); }\n",
       "});\n",
       "\n",
       "    $('#table4895397424-8625').dataTable({\n",
       "        order: [],\n",
       "        pageLength: 50,\n",
       "        lengthMenu: [[10, 25, 50, 100, 500, 1000, -1], [10, 25, 50, 100, 500, 1000, 'All']],\n",
       "        pagingType: \"full_numbers\",\n",
       "        columnDefs: [{targets: [0, 2, 3, 4, 5, 6, 7, 8, 9, 10, 11, 12, 13, 14, 15, 16, 17, 18, 19, 20, 21, 22, 23, 24, 25], type: \"optionalnum\"}]\n",
       "    });\n",
       "});\n",
       "</script>\n"
      ],
      "text/plain": [
       "<IPython.core.display.HTML object>"
      ]
     },
     "execution_count": 26,
     "metadata": {},
     "output_type": "execute_result"
    }
   ],
   "source": [
    "megacam_stats.show_in_notebook()"
   ]
  },
  {
   "cell_type": "code",
   "execution_count": 27,
   "metadata": {
    "collapsed": true
   },
   "outputs": [],
   "source": [
    "megacam_origin.write(\"{}/xmm-lss_megacam_fluxes_origins{}.fits\".format(OUT_DIR, SUFFIX), overwrite=True)"
   ]
  },
  {
   "cell_type": "markdown",
   "metadata": {},
   "source": [
    "### VII.b CFHT WIRCAM fluxes: CFHT-WIRDS and VIPERS\n",
    "\n",
    "We take WIRDS over VIPERS"
   ]
  },
  {
   "cell_type": "code",
   "execution_count": 28,
   "metadata": {
    "collapsed": true
   },
   "outputs": [],
   "source": [
    "for col in master_catalogue.colnames:\n",
    "    if '_wirds_j' in col:\n",
    "        master_catalogue.rename_column(col, col.replace('_wirds_j', '_wircam_j'))\n",
    "    if '_wirds_h' in col:\n",
    "        master_catalogue.rename_column(col, col.replace('_wirds_h', '_wircam_h'))\n",
    "    if '_wirds_k' in col:\n",
    "        master_catalogue.rename_column(col, col.replace('_wirds_k', '_wircam_ks'))"
   ]
  },
  {
   "cell_type": "code",
   "execution_count": 29,
   "metadata": {
    "collapsed": true
   },
   "outputs": [],
   "source": [
    "has_wirds = ~np.isnan(master_catalogue['f_wircam_ks' ])\n",
    "has_vipers = ~np.isnan(master_catalogue['f_vipers_ks' ])\n",
    "\n",
    "use_wirds = has_wirds\n",
    "use_vipers = has_vipers & ~has_wirds\n",
    "\n",
    "master_catalogue['f_wircam_ks'][use_vipers] = master_catalogue['f_vipers_ks'][use_vipers]\n",
    "master_catalogue['ferr_wircam_ks'][use_vipers] = master_catalogue['ferr_vipers_ks'][use_vipers]\n",
    "master_catalogue['m_wircam_ks'][use_vipers] = master_catalogue['m_vipers_ks'][use_vipers]\n",
    "master_catalogue['merr_wircam_ks'][use_vipers] = master_catalogue['merr_vipers_ks'][use_vipers]\n",
    "master_catalogue['flag_wircam_ks'][use_vipers] = master_catalogue['flag_vipers_ks'][use_vipers]\n",
    "\n",
    "master_catalogue.remove_columns(['f_vipers_ks', 'ferr_vipers_ks', 'm_vipers_ks', 'merr_vipers_ks', 'flag_vipers_ks'])\n",
    "\n",
    "\n"
   ]
  },
  {
   "cell_type": "code",
   "execution_count": 30,
   "metadata": {},
   "outputs": [
    {
     "name": "stdout",
     "output_type": "stream",
     "text": [
      "There are 157497 objects with WIRDS Ks fluxes and 644584 with VIPERS Ks.\n",
      "We use all 157497 Ks fluxes and take the remaining 644511 VIPERS Ks fluxes.\n"
     ]
    }
   ],
   "source": [
    "print('There are {} objects with WIRDS Ks fluxes and {} with VIPERS Ks.'.format(np.sum(has_wirds), np.sum(has_vipers)))\n",
    "print('We use all {} Ks fluxes and take the remaining {} VIPERS Ks fluxes.'.format(np.sum(use_wirds), np.sum(use_vipers)))"
   ]
  },
  {
   "cell_type": "code",
   "execution_count": 31,
   "metadata": {
    "collapsed": true
   },
   "outputs": [],
   "source": [
    "wircam_origin = Table()\n",
    "wircam_origin.add_column(master_catalogue['cfht_intid'])\n",
    "origin = np.full(len(master_catalogue), '     ', dtype='<U5')\n",
    "origin[use_wirds] = \"CFHT-WIRDS\"\n",
    "origin[use_vipers] = \"VIPERS\"\n",
    "wircam_origin.add_column(Column(data=origin, name= 'f_wircam_ks'  ))\n",
    "wircam_origin.write(\"{}/xmm-lss_wircam_fluxes_origins{}.fits\".format(OUT_DIR, SUFFIX), overwrite=True)"
   ]
  },
  {
   "cell_type": "markdown",
   "metadata": {},
   "source": [
    "### VII.c Subaru SuprimeCam fluxes: SXDS and CANDELS-UDS\n",
    "\n",
    "We take SXDS over CANDELS so that there are not objects with total and ap mags from different source."
   ]
  },
  {
   "cell_type": "code",
   "execution_count": 32,
   "metadata": {},
   "outputs": [],
   "source": [
    "suprime_origin = Table()\n",
    "suprime_origin.add_column(master_catalogue['cfht_intid'])"
   ]
  },
  {
   "cell_type": "code",
   "execution_count": 33,
   "metadata": {
    "collapsed": true
   },
   "outputs": [],
   "source": [
    "suprime_stats = Table()\n",
    "suprime_bands = ['b', 'v', 'rc', 'ip', 'zp']\n",
    "suprime_stats.add_column(Column(data=suprime_bands, name=\"Band\"))\n",
    "for col in [\"SXDS\", \"CANDELS-UDS\"]:\n",
    "    suprime_stats.add_column(Column(data=np.full(5, 0), name=\"{}\".format(col)))\n",
    "    suprime_stats.add_column(Column(data=np.full(5, 0), name=\"use {}\".format(col)))\n",
    "    suprime_stats.add_column(Column(data=np.full(5, 0), name=\"{} ap\".format(col)))\n",
    "    suprime_stats.add_column(Column(data=np.full(5, 0), name=\"use {} ap\".format(col)))"
   ]
  },
  {
   "cell_type": "code",
   "execution_count": 34,
   "metadata": {},
   "outputs": [],
   "source": [
    "suprime_bands = ['b', 'v', 'rc', 'ip', 'zp']\n",
    "for band in suprime_bands:\n",
    "\n",
    "    # SuprimeCam total flux \n",
    "    has_candels = ~np.isnan(master_catalogue['f_suprime_' + band])\n",
    "    has_sxds = ~np.isnan(master_catalogue['f_sxds-suprime_' + band])\n",
    "\n",
    "     \n",
    "    use_sxds = has_sxds \n",
    "    use_candels = has_candels & ~has_sxds\n",
    "\n",
    "\n",
    "    f_suprime = np.full(len(master_catalogue), np.nan)\n",
    "    f_suprime[use_candels] = master_catalogue['f_suprime_' + band][use_candels]\n",
    "    f_suprime[use_sxds] = master_catalogue['f_sxds-suprime_' + band][use_sxds]\n",
    "\n",
    "    ferr_suprime = np.full(len(master_catalogue), np.nan)\n",
    "    ferr_suprime[use_candels] = master_catalogue['ferr_suprime_' + band][use_candels]\n",
    "    ferr_suprime[use_sxds] = master_catalogue['ferr_sxds-suprime_' + band][use_sxds]\n",
    "    \n",
    "    m_suprime = np.full(len(master_catalogue), np.nan)\n",
    "    m_suprime[use_candels] = master_catalogue['m_suprime_' + band][use_candels]\n",
    "    m_suprime[use_sxds] = master_catalogue['m_sxds-suprime_' + band][use_sxds]\n",
    "    \n",
    "    merr_suprime = np.full(len(master_catalogue), np.nan)\n",
    "    merr_suprime[use_candels] = master_catalogue['merr_suprime_' + band][use_candels]\n",
    "    merr_suprime[use_sxds] = master_catalogue['merr_sxds-suprime_' + band][use_sxds]\n",
    "    \n",
    "    flag_suprime = np.full(len(master_catalogue), False, dtype=bool)\n",
    "    flag_suprime[use_candels] = master_catalogue['flag_suprime_' + band][use_candels]\n",
    "    flag_suprime[use_sxds] = master_catalogue['flag_sxds-suprime_' + band][use_sxds]\n",
    "\n",
    "    master_catalogue[\"f_suprime_\" + band][use_sxds] = master_catalogue[\"f_sxds-suprime_\" + band][use_sxds]\n",
    "    master_catalogue[\"ferr_suprime_\" + band][use_sxds] = master_catalogue[\"ferr_sxds-suprime_\" + band][use_sxds]\n",
    "    master_catalogue[\"m_suprime_\" + band][use_sxds] = master_catalogue[\"m_sxds-suprime_\" + band][use_sxds]\n",
    "    master_catalogue[\"merr_suprime_\" + band][use_sxds] = master_catalogue[\"merr_sxds-suprime_\" + band][use_sxds]\n",
    "    master_catalogue[\"flag_suprime_\" + band][use_sxds] = master_catalogue[\"flag_sxds-suprime_\" + band][use_sxds]\n",
    "\n",
    "\n",
    "    old_sxds_columns =      ['f_sxds-suprime_' + band,\n",
    "                               'ferr_sxds-suprime_' + band,\n",
    "                               'm_sxds-suprime_' + band, \n",
    "                               'merr_sxds-suprime_' + band,\n",
    "                               'flag_sxds-suprime_' + band]\n",
    "    \n",
    "\n",
    "    master_catalogue.remove_columns(old_sxds_columns)\n",
    "\n",
    "    origin = np.full(len(master_catalogue), '     ', dtype='<U7')\n",
    "    origin[use_candels] = \"CANDELS\"\n",
    "    origin[use_sxds] = \"SXDS\"\n",
    "\n",
    "    \n",
    "    suprime_origin.add_column(Column(data=origin, name= 'f_suprime_' + band ))\n",
    "        \n",
    "\n",
    "   \n",
    "    suprime_stats['CANDELS-UDS'][suprime_stats['Band'] == band] = np.sum(has_candels)\n",
    "    suprime_stats['SXDS'][suprime_stats['Band'] == band] = np.sum(has_sxds)\n",
    "\n",
    "    suprime_stats['use CANDELS-UDS'][suprime_stats['Band'] == band] = np.sum(use_candels)\n",
    "    suprime_stats['use SXDS'][suprime_stats['Band'] == band] = np.sum(use_sxds)\n",
    "    \n",
    "    suprime_stats['CANDELS-UDS ap'][suprime_stats['Band'] == band] = 0\n",
    "    has_ap_sxds = np.sum( ~np.isnan(master_catalogue['f_ap_sxds-suprime_' + band]))\n",
    "    suprime_stats['SXDS ap'][suprime_stats['Band'] == band] = has_ap_sxds\n",
    "\n",
    "    suprime_stats['use CANDELS-UDS ap'][suprime_stats['Band'] == band] = 0\n",
    "    suprime_stats['use SXDS ap'][suprime_stats['Band'] == band] = has_ap_sxds\n",
    "    \n",
    "\n"
   ]
  },
  {
   "cell_type": "code",
   "execution_count": 37,
   "metadata": {},
   "outputs": [],
   "source": [
    "#Aperture fluxes all from SXDS\n",
    "for col in master_catalogue.colnames:\n",
    "    if '_ap_sxds-suprime_' in col:\n",
    "        master_catalogue.rename_column(col, col.replace('_ap_sxds-suprime_', '_ap_suprime_'))"
   ]
  },
  {
   "cell_type": "code",
   "execution_count": 38,
   "metadata": {},
   "outputs": [
    {
     "data": {
      "text/html": [
       "&lt;Table length=5&gt;\n",
       "<table id=\"table4718630560-578394\" class=\"table-striped table-bordered table-condensed\">\n",
       "<thead><tr><th>idx</th><th>Band</th><th>SXDS</th><th>use SXDS</th><th>SXDS ap</th><th>use SXDS ap</th><th>CANDELS-UDS</th><th>use CANDELS-UDS</th><th>CANDELS-UDS ap</th><th>use CANDELS-UDS ap</th></tr></thead>\n",
       "<tr><td>0</td><td>b</td><td>906583</td><td>906583</td><td>883356</td><td>883356</td><td>35617</td><td>9695</td><td>0</td><td>0</td></tr>\n",
       "<tr><td>1</td><td>v</td><td>962920</td><td>962920</td><td>929149</td><td>929149</td><td>35617</td><td>9113</td><td>0</td><td>0</td></tr>\n",
       "<tr><td>2</td><td>rc</td><td>865240</td><td>865240</td><td>842174</td><td>842174</td><td>35617</td><td>9738</td><td>0</td><td>0</td></tr>\n",
       "<tr><td>3</td><td>ip</td><td>862147</td><td>862147</td><td>845760</td><td>845760</td><td>35617</td><td>9725</td><td>0</td><td>0</td></tr>\n",
       "<tr><td>4</td><td>zp</td><td>811731</td><td>811731</td><td>772020</td><td>772020</td><td>35617</td><td>12293</td><td>0</td><td>0</td></tr>\n",
       "</table><style>table.dataTable {clear: both; width: auto !important; margin: 0 !important;}\n",
       ".dataTables_info, .dataTables_length, .dataTables_filter, .dataTables_paginate{\n",
       "display: inline-block; margin-right: 1em; }\n",
       ".paginate_button { margin-right: 5px; }\n",
       "</style>\n",
       "<script>\n",
       "\n",
       "var astropy_sort_num = function(a, b) {\n",
       "    var a_num = parseFloat(a);\n",
       "    var b_num = parseFloat(b);\n",
       "\n",
       "    if (isNaN(a_num) && isNaN(b_num))\n",
       "        return ((a < b) ? -1 : ((a > b) ? 1 : 0));\n",
       "    else if (!isNaN(a_num) && !isNaN(b_num))\n",
       "        return ((a_num < b_num) ? -1 : ((a_num > b_num) ? 1 : 0));\n",
       "    else\n",
       "        return isNaN(a_num) ? -1 : 1;\n",
       "}\n",
       "\n",
       "require.config({paths: {\n",
       "    datatables: 'https://cdn.datatables.net/1.10.12/js/jquery.dataTables.min'\n",
       "}});\n",
       "require([\"datatables\"], function(){\n",
       "    console.log(\"$('#table4718630560-578394').dataTable()\");\n",
       "    \n",
       "jQuery.extend( jQuery.fn.dataTableExt.oSort, {\n",
       "    \"optionalnum-asc\": astropy_sort_num,\n",
       "    \"optionalnum-desc\": function (a,b) { return -astropy_sort_num(a, b); }\n",
       "});\n",
       "\n",
       "    $('#table4718630560-578394').dataTable({\n",
       "        order: [],\n",
       "        pageLength: 50,\n",
       "        lengthMenu: [[10, 25, 50, 100, 500, 1000, -1], [10, 25, 50, 100, 500, 1000, 'All']],\n",
       "        pagingType: \"full_numbers\",\n",
       "        columnDefs: [{targets: [0, 2, 3, 4, 5, 6, 7, 8, 9], type: \"optionalnum\"}]\n",
       "    });\n",
       "});\n",
       "</script>\n"
      ],
      "text/plain": [
       "<IPython.core.display.HTML object>"
      ]
     },
     "execution_count": 38,
     "metadata": {},
     "output_type": "execute_result"
    }
   ],
   "source": [
    "suprime_stats.show_in_notebook()"
   ]
  },
  {
   "cell_type": "code",
   "execution_count": 39,
   "metadata": {
    "collapsed": true
   },
   "outputs": [],
   "source": [
    "suprime_origin.write(\"{}/xmm-lss_suprime_fluxes_origins{}.fits\".format(OUT_DIR, SUFFIX), overwrite=True)"
   ]
  },
  {
   "cell_type": "code",
   "execution_count": null,
   "metadata": {},
   "outputs": [
    {
     "data": {
      "text/html": [
       "&lt;Table length=10&gt;\n",
       "<table id=\"table4689445832-607435\" class=\"table-striped table-bordered table-condensed\">\n",
       "<thead><tr><th>idx</th><th>candels_id</th><th>cfht_ra</th><th>cfht_dec</th><th>candels_stellarity</th><th>f_acs_f606w</th><th>ferr_acs_f606w</th><th>f_ap_acs_f606w</th><th>ferr_ap_acs_f606w</th><th>f_acs_f814w</th><th>ferr_acs_f814w</th><th>f_ap_acs_f814w</th><th>ferr_ap_acs_f814w</th><th>f_wfc3_f125w</th><th>ferr_wfc3_f125w</th><th>f_ap_wfc3_f125w</th><th>ferr_ap_wfc3_f125w</th><th>f_wfc3_f160w</th><th>ferr_wfc3_f160w</th><th>f_ap_wfc3_f160w</th><th>ferr_ap_wfc3_f160w</th><th>f_suprime_b</th><th>ferr_suprime_b</th><th>f_suprime_v</th><th>ferr_suprime_v</th><th>f_suprime_rc</th><th>ferr_suprime_rc</th><th>f_suprime_ip</th><th>ferr_suprime_ip</th><th>f_suprime_zp</th><th>ferr_suprime_zp</th><th>f_hawki_k</th><th>ferr_hawki_y</th><th>ferr_hawki_k</th><th>m_acs_f606w</th><th>merr_acs_f606w</th><th>flag_acs_f606w</th><th>m_ap_acs_f606w</th><th>merr_ap_acs_f606w</th><th>m_acs_f814w</th><th>merr_acs_f814w</th><th>flag_acs_f814w</th><th>m_ap_acs_f814w</th><th>merr_ap_acs_f814w</th><th>m_wfc3_f125w</th><th>merr_wfc3_f125w</th><th>flag_wfc3_f125w</th><th>m_ap_wfc3_f125w</th><th>merr_ap_wfc3_f125w</th><th>m_wfc3_f160w</th><th>merr_wfc3_f160w</th><th>flag_wfc3_f160w</th><th>m_ap_wfc3_f160w</th><th>merr_ap_wfc3_f160w</th><th>m_suprime_b</th><th>merr_suprime_b</th><th>flag_suprime_b</th><th>m_suprime_v</th><th>merr_suprime_v</th><th>flag_suprime_v</th><th>m_suprime_rc</th><th>merr_suprime_rc</th><th>flag_suprime_rc</th><th>m_suprime_ip</th><th>merr_suprime_ip</th><th>flag_suprime_ip</th><th>m_suprime_zp</th><th>merr_suprime_zp</th><th>flag_suprime_zp</th><th>m_hawki_k</th><th>merr_hawki_k</th><th>flag_hawki_k</th><th>candels_flag_cleaned</th><th>candels_flag_gaia</th><th>cfht_flag_merged</th><th>cfhtls-deep_id</th><th>cfhtls-deep_stellarity</th><th>cfhtls-deep_flag_cleaned</th><th>cfhtls-deep_flag_gaia</th><th>cfhtls-wide_id</th><th>cfhtls-wide_stellarity</th><th>cfhtls-wide_flag_cleaned</th><th>cfhtls-wide_flag_gaia</th><th>sparcs_intid</th><th>sparcs_stellarity</th><th>sparcs_flag_cleaned</th><th>sparcs_flag_gaia</th><th>wirds_id</th><th>m_wircam_j</th><th>merr_wircam_j</th><th>m_ap_wircam_j</th><th>merr_ap_wircam_j</th><th>m_wircam_h</th><th>merr_wircam_h</th><th>m_ap_wircam_h</th><th>merr_ap_wircam_h</th><th>m_wircam_ks</th><th>merr_wircam_ks</th><th>m_ap_wircam_ks</th><th>merr_ap_wircam_ks</th><th>f_wircam_j</th><th>ferr_wircam_j</th><th>flag_wircam_j</th><th>f_ap_wircam_j</th><th>ferr_ap_wircam_j</th><th>f_wircam_h</th><th>ferr_wircam_h</th><th>flag_wircam_h</th><th>f_ap_wircam_h</th><th>ferr_ap_wircam_h</th><th>f_wircam_ks</th><th>ferr_wircam_ks</th><th>flag_wircam_ks</th><th>f_ap_wircam_ks</th><th>ferr_ap_wircam_ks</th><th>wirds_flag_cleaned</th><th>cfht-wirds_flag_gaia</th><th>vipers_id</th><th>vipers_flag_cleaned</th><th>vipers_flag_gaia</th><th>sxds_b_id</th><th>m_ap_suprime_b</th><th>merr_ap_suprime_b</th><th>sxds_flag_merged</th><th>sxds_v_id</th><th>m_ap_suprime_v</th><th>merr_ap_suprime_v</th><th>sxds_r_id</th><th>m_ap_suprime_rc</th><th>merr_ap_suprime_rc</th><th>sxds_i_id</th><th>m_ap_suprime_ip</th><th>merr_ap_suprime_ip</th><th>sxds_z_id</th><th>m_ap_suprime_zp</th><th>merr_ap_suprime_zp</th><th>f_ap_suprime_b</th><th>ferr_ap_suprime_b</th><th>f_ap_suprime_v</th><th>ferr_ap_suprime_v</th><th>f_ap_suprime_rc</th><th>ferr_ap_suprime_rc</th><th>f_ap_suprime_ip</th><th>ferr_ap_suprime_ip</th><th>f_ap_suprime_zp</th><th>ferr_ap_suprime_zp</th><th>sxds_stellarity</th><th>sxds_flag_cleaned</th><th>sxds_flag_gaia</th><th>sxds_intid</th><th>cfht_intid</th><th>f_megacam_u</th><th>ferr_megacam_u</th><th>m_megacam_u</th><th>merr_megacam_u</th><th>flag_megacam_u</th><th>f_ap_megacam_u</th><th>ferr_ap_megacam_u</th><th>m_ap_megacam_u</th><th>merr_ap_megacam_u</th><th>f_megacam_g</th><th>ferr_megacam_g</th><th>m_megacam_g</th><th>merr_megacam_g</th><th>flag_megacam_g</th><th>f_ap_megacam_g</th><th>ferr_ap_megacam_g</th><th>m_ap_megacam_g</th><th>merr_ap_megacam_g</th><th>f_megacam_r</th><th>ferr_megacam_r</th><th>m_megacam_r</th><th>merr_megacam_r</th><th>flag_megacam_r</th><th>f_ap_megacam_r</th><th>ferr_ap_megacam_r</th><th>m_ap_megacam_r</th><th>merr_ap_megacam_r</th><th>f_megacam_i</th><th>ferr_megacam_i</th><th>m_megacam_i</th><th>merr_megacam_i</th><th>flag_megacam_i</th><th>f_ap_megacam_i</th><th>ferr_ap_megacam_i</th><th>m_ap_megacam_i</th><th>merr_ap_megacam_i</th><th>f_megacam_z</th><th>ferr_megacam_z</th><th>m_megacam_z</th><th>merr_megacam_z</th><th>flag_megacam_z</th><th>f_ap_megacam_z</th><th>ferr_ap_megacam_z</th><th>m_ap_megacam_z</th><th>merr_ap_megacam_z</th><th>f_megacam_y</th><th>ferr_megacam_y</th><th>m_megacam_y</th><th>merr_megacam_y</th><th>flag_megacam_y</th><th>f_ap_megacam_y</th><th>ferr_ap_megacam_y</th><th>m_ap_megacam_y</th><th>merr_ap_megacam_y</th></tr></thead>\n",
       "<thead><tr><th></th><th></th><th>deg</th><th>deg</th><th></th><th></th><th></th><th></th><th></th><th></th><th></th><th></th><th></th><th></th><th></th><th></th><th></th><th></th><th></th><th></th><th></th><th></th><th></th><th></th><th></th><th></th><th></th><th></th><th></th><th></th><th></th><th></th><th></th><th></th><th></th><th></th><th></th><th></th><th></th><th></th><th></th><th></th><th></th><th></th><th></th><th></th><th></th><th></th><th></th><th></th><th></th><th></th><th></th><th></th><th></th><th></th><th></th><th></th><th></th><th></th><th></th><th></th><th></th><th></th><th></th><th></th><th></th><th></th><th></th><th></th><th></th><th></th><th></th><th></th><th></th><th></th><th></th><th></th><th></th><th></th><th></th><th></th><th></th><th></th><th></th><th></th><th></th><th></th><th></th><th></th><th></th><th></th><th></th><th></th><th></th><th></th><th></th><th></th><th></th><th></th><th></th><th></th><th></th><th></th><th></th><th></th><th></th><th></th><th></th><th></th><th></th><th></th><th></th><th></th><th></th><th></th><th></th><th></th><th></th><th></th><th></th><th></th><th></th><th></th><th></th><th></th><th></th><th></th><th></th><th></th><th></th><th></th><th></th><th></th><th></th><th></th><th></th><th></th><th></th><th></th><th></th><th></th><th></th><th></th><th></th><th></th><th></th><th></th><th></th><th></th><th></th><th></th><th></th><th></th><th></th><th></th><th></th><th></th><th></th><th></th><th></th><th></th><th></th><th></th><th></th><th></th><th></th><th></th><th></th><th></th><th></th><th></th><th></th><th></th><th></th><th></th><th></th><th></th><th></th><th></th><th></th><th></th><th></th><th></th><th></th><th></th><th></th><th></th><th></th><th></th><th></th><th></th><th></th><th></th><th></th><th></th><th></th><th></th><th></th><th></th><th></th><th></th><th></th><th></th><th></th></tr></thead>\n",
       "<tr><td>0</td><td>35489</td><td>34.4574665693</td><td>-5.12505315973</td><td>0.810000002384</td><td>0.298381</td><td>0.0238874</td><td>10.9281</td><td>0.15288</td><td>0.00143149</td><td>0.0092305</td><td>-0.00183649</td><td>0.0642266</td><td>nan</td><td>nan</td><td>nan</td><td>nan</td><td>nan</td><td>nan</td><td>0.141817</td><td>0.122139</td><td>0.0004968</td><td>0.0005385</td><td>0.0005475</td><td>0.0006726</td><td>-0.0006306</td><td>0.0009151</td><td>0.0004952</td><td>0.0008751</td><td>-0.0030324</td><td>0.0022392</td><td>nan</td><td>-99.0</td><td>nan</td><td>25.2130720872</td><td>0.0869204641634</td><td>False</td><td>21.3036383488</td><td>0.0151890402708</td><td>31.0105292037</td><td>7.00101854573</td><td>False</td><td>nan</td><td>-37.9708819152</td><td>nan</td><td>nan</td><td>False</td><td>nan</td><td>nan</td><td>nan</td><td>nan</td><td>False</td><td>26.0206792648</td><td>0.935083483031</td><td>32.1595460321</td><td>1.17686985963</td><td>False</td><td>32.0540396912</td><td>1.333819491</td><td>False</td><td>nan</td><td>-1.57557437516</td><td>False</td><td>32.16304841</td><td>1.91867478349</td><td>False</td><td>nan</td><td>-0.80173476774</td><td>False</td><td>nan</td><td>nan</td><td>False</td><td>False</td><td>0</td><td>False</td><td>-1</td><td>nan</td><td>False</td><td>0</td><td>-1</td><td>nan</td><td>False</td><td>0</td><td>-1</td><td>nan</td><td>False</td><td>0</td><td>-1</td><td>nan</td><td>nan</td><td>nan</td><td>nan</td><td>nan</td><td>nan</td><td>nan</td><td>nan</td><td>nan</td><td>nan</td><td>nan</td><td>nan</td><td>nan</td><td>nan</td><td>False</td><td>nan</td><td>nan</td><td>nan</td><td>nan</td><td>False</td><td>nan</td><td>nan</td><td>nan</td><td>nan</td><td>False</td><td>nan</td><td>nan</td><td>False</td><td>0</td><td>-1</td><td>False</td><td>0</td><td>-1</td><td>nan</td><td>nan</td><td>False</td><td>-1</td><td>nan</td><td>nan</td><td>-1</td><td>nan</td><td>nan</td><td>-1</td><td>nan</td><td>nan</td><td>-1</td><td>nan</td><td>nan</td><td>nan</td><td>nan</td><td>nan</td><td>nan</td><td>nan</td><td>nan</td><td>nan</td><td>nan</td><td>nan</td><td>nan</td><td>nan</td><td>False</td><td>0</td><td>-1</td><td>-1-135489-1-1-1</td><td>0.0001823</td><td>0.0009912</td><td>33.2480333284</td><td>5.90335560152</td><td>False</td><td>nan</td><td>nan</td><td>nan</td><td>nan</td><td>nan</td><td>nan</td><td>nan</td><td>nan</td><td>False</td><td>nan</td><td>nan</td><td>nan</td><td>nan</td><td>nan</td><td>nan</td><td>nan</td><td>nan</td><td>False</td><td>nan</td><td>nan</td><td>nan</td><td>nan</td><td>nan</td><td>nan</td><td>nan</td><td>nan</td><td>False</td><td>nan</td><td>nan</td><td>nan</td><td>nan</td><td>nan</td><td>nan</td><td>nan</td><td>nan</td><td>False</td><td>nan</td><td>nan</td><td>nan</td><td>nan</td><td>nan</td><td>nan</td><td>nan</td><td>nan</td><td>False</td><td>nan</td><td>nan</td><td>nan</td><td>nan</td></tr>\n",
       "<tr><td>1</td><td>29734</td><td>34.3542499693</td><td>-5.23240925973</td><td>0.829999983311</td><td>0.0168011</td><td>0.006477</td><td>-0.0283977</td><td>0.0257063</td><td>0.0150584</td><td>0.00627075</td><td>-0.0189382</td><td>0.0252544</td><td>0.0229009</td><td>0.0108288</td><td>-0.0810519</td><td>0.0422124</td><td>0.0551637</td><td>0.00957762</td><td>0.0471614</td><td>0.0374389</td><td>0.0268266</td><td>0.002989</td><td>1.8652055</td><td>0.004901</td><td>2.815156</td><td>0.004965</td><td>0.0656722</td><td>0.0065408</td><td>0.0366092</td><td>0.0201604</td><td>0.0179395</td><td>0.0148465</td><td>0.0226529</td><td>28.3366557081</td><td>0.418562677338</td><td>False</td><td>nan</td><td>-0.982835250755</td><td>28.4555529269</td><td>0.452131720899</td><td>False</td><td>nan</td><td>-1.44784701869</td><td>28.0003686241</td><td>0.513395552755</td><td>False</td><td>nan</td><td>-0.565459057341</td><td>27.0458665301</td><td>0.188507456705</td><td>False</td><td>27.2160332781</td><td>0.861907602326</td><td>27.8285859157</td><td>0.120971927714</td><td>False</td><td>23.2231832815</td><td>0.00285287231864</td><td>False</td><td>22.776243835</td><td>0.0019148779878</td><td>False</td><td>26.8565460868</td><td>0.108136827578</td><td>False</td><td>27.4910244035</td><td>0.597906432875</td><td>False</td><td>28.2654741639</td><td>1.37100106875</td><td>False</td><td>False</td><td>0</td><td>False</td><td>-1</td><td>nan</td><td>False</td><td>0</td><td>-1</td><td>nan</td><td>False</td><td>0</td><td>-1</td><td>nan</td><td>False</td><td>0</td><td>-1</td><td>nan</td><td>nan</td><td>nan</td><td>nan</td><td>nan</td><td>nan</td><td>nan</td><td>nan</td><td>nan</td><td>nan</td><td>nan</td><td>nan</td><td>nan</td><td>nan</td><td>False</td><td>nan</td><td>nan</td><td>nan</td><td>nan</td><td>False</td><td>nan</td><td>nan</td><td>nan</td><td>nan</td><td>False</td><td>nan</td><td>nan</td><td>False</td><td>0</td><td>-1</td><td>False</td><td>0</td><td>-1</td><td>nan</td><td>nan</td><td>False</td><td>-1</td><td>nan</td><td>nan</td><td>-1</td><td>nan</td><td>nan</td><td>-1</td><td>nan</td><td>nan</td><td>-1</td><td>nan</td><td>nan</td><td>nan</td><td>nan</td><td>nan</td><td>nan</td><td>nan</td><td>nan</td><td>nan</td><td>nan</td><td>nan</td><td>nan</td><td>nan</td><td>False</td><td>0</td><td>-1</td><td>-1-129734-1-1-1</td><td>0.013219</td><td>0.0063361</td><td>28.5970034935</td><td>0.520412524924</td><td>False</td><td>nan</td><td>nan</td><td>nan</td><td>nan</td><td>nan</td><td>nan</td><td>nan</td><td>nan</td><td>False</td><td>nan</td><td>nan</td><td>nan</td><td>nan</td><td>nan</td><td>nan</td><td>nan</td><td>nan</td><td>False</td><td>nan</td><td>nan</td><td>nan</td><td>nan</td><td>nan</td><td>nan</td><td>nan</td><td>nan</td><td>False</td><td>nan</td><td>nan</td><td>nan</td><td>nan</td><td>nan</td><td>nan</td><td>nan</td><td>nan</td><td>False</td><td>nan</td><td>nan</td><td>nan</td><td>nan</td><td>nan</td><td>nan</td><td>nan</td><td>nan</td><td>False</td><td>nan</td><td>nan</td><td>nan</td><td>nan</td></tr>\n",
       "<tr><td>2</td><td>29795</td><td>34.5105653693</td><td>-5.23129955973</td><td>0.889999985695</td><td>nan</td><td>nan</td><td>nan</td><td>nan</td><td>nan</td><td>nan</td><td>nan</td><td>nan</td><td>-0.00577339</td><td>0.00644917</td><td>-0.04257</td><td>0.041368</td><td>0.054895</td><td>0.0100918</td><td>-0.139583</td><td>0.0507392</td><td>0.040118</td><td>0.0049174</td><td>-0.0003879</td><td>0.0098896</td><td>-0.0079087</td><td>0.0113397</td><td>0.0061487</td><td>0.0165416</td><td>0.0193217</td><td>0.0255714</td><td>0.015189</td><td>0.0142362</td><td>0.0244848</td><td>nan</td><td>nan</td><td>False</td><td>nan</td><td>nan</td><td>nan</td><td>nan</td><td>False</td><td>nan</td><td>nan</td><td>nan</td><td>-1.21282251149</td><td>False</td><td>nan</td><td>-1.05507952357</td><td>27.0511680265</td><td>0.199599829332</td><td>False</td><td>nan</td><td>-0.394671173714</td><td>27.3916518149</td><td>0.133082387289</td><td>False</td><td>nan</td><td>-27.6810950518</td><td>False</td><td>nan</td><td>-1.5567568426</td><td>False</td><td>29.42804174</td><td>2.92091238874</td><td>False</td><td>28.1848866632</td><td>1.43692298226</td><td>False</td><td>28.4461770447</td><td>1.75021619766</td><td>False</td><td>False</td><td>0</td><td>False</td><td>-1</td><td>nan</td><td>False</td><td>0</td><td>-1</td><td>nan</td><td>False</td><td>0</td><td>-1</td><td>nan</td><td>False</td><td>0</td><td>-1</td><td>nan</td><td>nan</td><td>nan</td><td>nan</td><td>nan</td><td>nan</td><td>nan</td><td>nan</td><td>nan</td><td>nan</td><td>nan</td><td>nan</td><td>nan</td><td>nan</td><td>False</td><td>nan</td><td>nan</td><td>nan</td><td>nan</td><td>False</td><td>nan</td><td>nan</td><td>nan</td><td>nan</td><td>False</td><td>nan</td><td>nan</td><td>False</td><td>0</td><td>-1</td><td>False</td><td>0</td><td>-1</td><td>nan</td><td>nan</td><td>False</td><td>-1</td><td>nan</td><td>nan</td><td>-1</td><td>nan</td><td>nan</td><td>-1</td><td>nan</td><td>nan</td><td>-1</td><td>nan</td><td>nan</td><td>nan</td><td>nan</td><td>nan</td><td>nan</td><td>nan</td><td>nan</td><td>nan</td><td>nan</td><td>nan</td><td>nan</td><td>nan</td><td>False</td><td>0</td><td>-1</td><td>-1-129795-1-1-1</td><td>-0.0023542</td><td>0.0060387</td><td>nan</td><td>-2.78499499604</td><td>False</td><td>nan</td><td>nan</td><td>nan</td><td>nan</td><td>nan</td><td>nan</td><td>nan</td><td>nan</td><td>False</td><td>nan</td><td>nan</td><td>nan</td><td>nan</td><td>nan</td><td>nan</td><td>nan</td><td>nan</td><td>False</td><td>nan</td><td>nan</td><td>nan</td><td>nan</td><td>nan</td><td>nan</td><td>nan</td><td>nan</td><td>False</td><td>nan</td><td>nan</td><td>nan</td><td>nan</td><td>nan</td><td>nan</td><td>nan</td><td>nan</td><td>False</td><td>nan</td><td>nan</td><td>nan</td><td>nan</td><td>nan</td><td>nan</td><td>nan</td><td>nan</td><td>False</td><td>nan</td><td>nan</td><td>nan</td><td>nan</td></tr>\n",
       "<tr><td>3</td><td>22107</td><td>34.4184061693</td><td>-5.15360365973</td><td>0.370000004768</td><td>0.0118447</td><td>0.00955809</td><td>-0.00196733</td><td>0.0282374</td><td>0.0260497</td><td>0.0103821</td><td>0.0819181</td><td>0.0304013</td><td>0.0516353</td><td>0.0149467</td><td>0.0734191</td><td>0.0431325</td><td>0.10456</td><td>0.0133934</td><td>0.0834438</td><td>0.0379538</td><td>0.013506</td><td>0.0043072</td><td>0.0141018</td><td>0.0046401</td><td>0.018131</td><td>0.0065854</td><td>0.0155968</td><td>0.0066314</td><td>0.0048507</td><td>0.0163473</td><td>0.0348112</td><td>0.0140583</td><td>0.0297059</td><td>28.7161898363</td><td>0.876135686116</td><td>False</td><td>nan</td><td>-15.5837442159</td><td>27.8604931847</td><td>0.43271983368</td><td>False</td><td>26.6165503231</td><td>0.402936494886</td><td>27.1176332385</td><td>0.31428447848</td><td>False</td><td>26.7354773589</td><td>0.637851960208</td><td>26.3515860636</td><td>0.13907516531</td><td>False</td><td>26.5965148163</td><td>0.493839144048</td><td>28.5736831365</td><td>0.346252256859</td><td>False</td><td>28.5268136226</td><td>0.357254007552</td><td>False</td><td>28.2539456052</td><td>0.394352611704</td><td>False</td><td>28.4174112421</td><td>0.461630018224</td><td>False</td><td>29.6854889606</td><td>3.65902971943</td><td>False</td><td>27.545702514</td><td>0.926505582253</td><td>False</td><td>False</td><td>0</td><td>False</td><td>-1</td><td>nan</td><td>False</td><td>0</td><td>-1</td><td>nan</td><td>False</td><td>0</td><td>-1</td><td>nan</td><td>False</td><td>0</td><td>-1</td><td>nan</td><td>nan</td><td>nan</td><td>nan</td><td>nan</td><td>nan</td><td>nan</td><td>nan</td><td>nan</td><td>nan</td><td>nan</td><td>nan</td><td>nan</td><td>nan</td><td>False</td><td>nan</td><td>nan</td><td>nan</td><td>nan</td><td>False</td><td>nan</td><td>nan</td><td>nan</td><td>nan</td><td>False</td><td>nan</td><td>nan</td><td>False</td><td>0</td><td>-1</td><td>False</td><td>0</td><td>-1</td><td>nan</td><td>nan</td><td>False</td><td>-1</td><td>nan</td><td>nan</td><td>-1</td><td>nan</td><td>nan</td><td>-1</td><td>nan</td><td>nan</td><td>-1</td><td>nan</td><td>nan</td><td>nan</td><td>nan</td><td>nan</td><td>nan</td><td>nan</td><td>nan</td><td>nan</td><td>nan</td><td>nan</td><td>nan</td><td>nan</td><td>False</td><td>0</td><td>-1</td><td>-1-122107-1-1-1</td><td>-0.0014066</td><td>0.0067144</td><td>nan</td><td>-5.18275783679</td><td>False</td><td>nan</td><td>nan</td><td>nan</td><td>nan</td><td>nan</td><td>nan</td><td>nan</td><td>nan</td><td>False</td><td>nan</td><td>nan</td><td>nan</td><td>nan</td><td>nan</td><td>nan</td><td>nan</td><td>nan</td><td>False</td><td>nan</td><td>nan</td><td>nan</td><td>nan</td><td>nan</td><td>nan</td><td>nan</td><td>nan</td><td>False</td><td>nan</td><td>nan</td><td>nan</td><td>nan</td><td>nan</td><td>nan</td><td>nan</td><td>nan</td><td>False</td><td>nan</td><td>nan</td><td>nan</td><td>nan</td><td>nan</td><td>nan</td><td>nan</td><td>nan</td><td>False</td><td>nan</td><td>nan</td><td>nan</td><td>nan</td></tr>\n",
       "<tr><td>4</td><td>20355</td><td>34.2564061693</td><td>-5.16347815973</td><td>0.019999999553</td><td>nan</td><td>nan</td><td>0.00129482</td><td>0.0227743</td><td>nan</td><td>nan</td><td>0.0115086</td><td>0.0223858</td><td>nan</td><td>nan</td><td>-0.00975834</td><td>0.0438277</td><td>0.0428081</td><td>0.0662998</td><td>0.0308803</td><td>0.0404783</td><td>0.0007043</td><td>0.0033865</td><td>0.0024769</td><td>0.0039072</td><td>0.0016127</td><td>0.0056878</td><td>-0.0065501</td><td>0.0055348</td><td>0.0066359</td><td>0.0148805</td><td>0.031697</td><td>0.0108008</td><td>0.0190923</td><td>nan</td><td>nan</td><td>False</td><td>31.1194765026</td><td>19.0967717891</td><td>nan</td><td>nan</td><td>False</td><td>28.7474437607</td><td>2.11190531711</td><td>nan</td><td>nan</td><td>False</td><td>nan</td><td>-4.87637453309</td><td>27.3211851188</td><td>1.68155309926</td><td>False</td><td>27.6757962229</td><td>1.42319717804</td><td>31.780605779</td><td>5.22056745338</td><td>False</td><td>30.4152288171</td><td>1.71270075467</td><td>False</td><td>30.8811160351</td><td>3.82926172594</td><td>False</td><td>nan</td><td>-0.917441374345</td><td>False</td><td>29.345250418</td><td>2.43468069062</td><td>False</td><td>27.6474546004</td><td>0.653979914254</td><td>False</td><td>False</td><td>0</td><td>False</td><td>-1</td><td>nan</td><td>False</td><td>0</td><td>-1</td><td>nan</td><td>False</td><td>0</td><td>-1</td><td>nan</td><td>False</td><td>0</td><td>-1</td><td>nan</td><td>nan</td><td>nan</td><td>nan</td><td>nan</td><td>nan</td><td>nan</td><td>nan</td><td>nan</td><td>nan</td><td>nan</td><td>nan</td><td>nan</td><td>nan</td><td>False</td><td>nan</td><td>nan</td><td>nan</td><td>nan</td><td>False</td><td>nan</td><td>nan</td><td>nan</td><td>nan</td><td>False</td><td>nan</td><td>nan</td><td>False</td><td>0</td><td>-1</td><td>False</td><td>0</td><td>-1</td><td>nan</td><td>nan</td><td>False</td><td>-1</td><td>nan</td><td>nan</td><td>-1</td><td>nan</td><td>nan</td><td>-1</td><td>nan</td><td>nan</td><td>-1</td><td>nan</td><td>nan</td><td>nan</td><td>nan</td><td>nan</td><td>nan</td><td>nan</td><td>nan</td><td>nan</td><td>nan</td><td>nan</td><td>nan</td><td>nan</td><td>False</td><td>0</td><td>-1</td><td>-1-120355-1-1-1</td><td>-0.0132825</td><td>0.005533</td><td>nan</td><td>-0.452277690264</td><td>False</td><td>nan</td><td>nan</td><td>nan</td><td>nan</td><td>nan</td><td>nan</td><td>nan</td><td>nan</td><td>False</td><td>nan</td><td>nan</td><td>nan</td><td>nan</td><td>nan</td><td>nan</td><td>nan</td><td>nan</td><td>False</td><td>nan</td><td>nan</td><td>nan</td><td>nan</td><td>nan</td><td>nan</td><td>nan</td><td>nan</td><td>False</td><td>nan</td><td>nan</td><td>nan</td><td>nan</td><td>nan</td><td>nan</td><td>nan</td><td>nan</td><td>False</td><td>nan</td><td>nan</td><td>nan</td><td>nan</td><td>nan</td><td>nan</td><td>nan</td><td>nan</td><td>False</td><td>nan</td><td>nan</td><td>nan</td><td>nan</td></tr>\n",
       "<tr><td>5</td><td>22441</td><td>34.5063538693</td><td>-5.15183335973</td><td>0.0299999993294</td><td>nan</td><td>nan</td><td>nan</td><td>nan</td><td>nan</td><td>nan</td><td>nan</td><td>nan</td><td>0.158452</td><td>0.0196398</td><td>0.14761</td><td>0.0430499</td><td>0.223192</td><td>0.0350264</td><td>0.217439</td><td>0.0555415</td><td>0.4481217</td><td>0.0352946</td><td>0.433295</td><td>0.053166</td><td>0.4531529</td><td>0.0699998</td><td>0.3898494</td><td>0.0810781</td><td>0.317024</td><td>0.0932543</td><td>0.167073</td><td>0.0185209</td><td>0.0328558</td><td>nan</td><td>nan</td><td>False</td><td>nan</td><td>nan</td><td>nan</td><td>nan</td><td>False</td><td>nan</td><td>nan</td><td>25.9002556868</td><td>0.134574772892</td><td>False</td><td>25.9772105494</td><td>0.316650870816</td><td>25.5283034403</td><td>0.170388860722</td><td>False</td><td>25.5566563948</td><td>0.277334872845</td><td>24.7715100629</td><td>0.085513879494</td><td>False</td><td>24.8080408062</td><td>0.133221595131</td><td>False</td><td>24.7593880909</td><td>0.167716718101</td><td>False</td><td>24.9227578246</td><td>0.225803678505</td><td>False</td><td>25.1472696467</td><td>0.319375093871</td><td>False</td><td>25.8427343226</td><td>0.213515837965</td><td>False</td><td>False</td><td>0</td><td>False</td><td>-1</td><td>nan</td><td>False</td><td>0</td><td>-1</td><td>nan</td><td>False</td><td>0</td><td>-1</td><td>nan</td><td>False</td><td>0</td><td>-1</td><td>nan</td><td>nan</td><td>nan</td><td>nan</td><td>nan</td><td>nan</td><td>nan</td><td>nan</td><td>nan</td><td>nan</td><td>nan</td><td>nan</td><td>nan</td><td>nan</td><td>False</td><td>nan</td><td>nan</td><td>nan</td><td>nan</td><td>False</td><td>nan</td><td>nan</td><td>nan</td><td>nan</td><td>False</td><td>nan</td><td>nan</td><td>False</td><td>0</td><td>-1</td><td>False</td><td>0</td><td>-1</td><td>nan</td><td>nan</td><td>False</td><td>-1</td><td>nan</td><td>nan</td><td>-1</td><td>nan</td><td>nan</td><td>-1</td><td>nan</td><td>nan</td><td>-1</td><td>nan</td><td>nan</td><td>nan</td><td>nan</td><td>nan</td><td>nan</td><td>nan</td><td>nan</td><td>nan</td><td>nan</td><td>nan</td><td>nan</td><td>nan</td><td>False</td><td>0</td><td>-1</td><td>-1-122441-1-1-1</td><td>0.2635635</td><td>0.006929</td><td>25.3477868346</td><td>0.0285436570799</td><td>False</td><td>nan</td><td>nan</td><td>nan</td><td>nan</td><td>nan</td><td>nan</td><td>nan</td><td>nan</td><td>False</td><td>nan</td><td>nan</td><td>nan</td><td>nan</td><td>nan</td><td>nan</td><td>nan</td><td>nan</td><td>False</td><td>nan</td><td>nan</td><td>nan</td><td>nan</td><td>nan</td><td>nan</td><td>nan</td><td>nan</td><td>False</td><td>nan</td><td>nan</td><td>nan</td><td>nan</td><td>nan</td><td>nan</td><td>nan</td><td>nan</td><td>False</td><td>nan</td><td>nan</td><td>nan</td><td>nan</td><td>nan</td><td>nan</td><td>nan</td><td>nan</td><td>False</td><td>nan</td><td>nan</td><td>nan</td><td>nan</td></tr>\n",
       "<tr><td>6</td><td>29366</td><td>34.2568366693</td><td>-5.23834725973</td><td>0.930000007153</td><td>-0.00169943</td><td>0.0029279</td><td>-0.00867197</td><td>0.0232932</td><td>0.00159549</td><td>0.00296411</td><td>0.0367496</td><td>0.0232113</td><td>-0.000514776</td><td>0.00542634</td><td>0.04136</td><td>0.0449612</td><td>0.0618561</td><td>0.0118421</td><td>0.00275104</td><td>0.0418551</td><td>0.0010153</td><td>0.0024886</td><td>-0.0015228</td><td>0.004601</td><td>0.0003174</td><td>0.0041315</td><td>-0.0020646</td><td>0.0052873</td><td>0.0145308</td><td>0.0153884</td><td>-0.00195076</td><td>0.00947274</td><td>0.0159742</td><td>nan</td><td>-1.87058427468</td><td>False</td><td>nan</td><td>-2.91632357638</td><td>30.8927647837</td><td>2.01708662661</td><td>False</td><td>27.4868684591</td><td>0.685758450963</td><td>nan</td><td>-11.4449271087</td><td>False</td><td>27.3585486748</td><td>1.18027085709</td><td>26.9215436639</td><td>0.207859802192</td><td>False</td><td>30.3012577374</td><td>16.5186974467</td><td>31.3835140345</td><td>2.66124605453</td><td>False</td><td>nan</td><td>-3.28045198194</td><td>False</td><td>32.645982694</td><td>14.1327004725</td><td>False</td><td>nan</td><td>-2.78049648136</td><td>False</td><td>28.4942761869</td><td>1.14981577155</td><td>False</td><td>nan</td><td>-8.89077450945</td><td>False</td><td>False</td><td>0</td><td>False</td><td>-1</td><td>nan</td><td>False</td><td>0</td><td>-1</td><td>nan</td><td>False</td><td>0</td><td>-1</td><td>nan</td><td>False</td><td>0</td><td>-1</td><td>nan</td><td>nan</td><td>nan</td><td>nan</td><td>nan</td><td>nan</td><td>nan</td><td>nan</td><td>nan</td><td>nan</td><td>nan</td><td>nan</td><td>nan</td><td>nan</td><td>False</td><td>nan</td><td>nan</td><td>nan</td><td>nan</td><td>False</td><td>nan</td><td>nan</td><td>nan</td><td>nan</td><td>False</td><td>nan</td><td>nan</td><td>False</td><td>0</td><td>-1</td><td>False</td><td>0</td><td>-1</td><td>nan</td><td>nan</td><td>False</td><td>-1</td><td>nan</td><td>nan</td><td>-1</td><td>nan</td><td>nan</td><td>-1</td><td>nan</td><td>nan</td><td>-1</td><td>nan</td><td>nan</td><td>nan</td><td>nan</td><td>nan</td><td>nan</td><td>nan</td><td>nan</td><td>nan</td><td>nan</td><td>nan</td><td>nan</td><td>nan</td><td>False</td><td>0</td><td>-1</td><td>-1-129366-1-1-1</td><td>0.0011746</td><td>0.0050631</td><td>31.2252750087</td><td>4.68005361681</td><td>False</td><td>nan</td><td>nan</td><td>nan</td><td>nan</td><td>nan</td><td>nan</td><td>nan</td><td>nan</td><td>False</td><td>nan</td><td>nan</td><td>nan</td><td>nan</td><td>nan</td><td>nan</td><td>nan</td><td>nan</td><td>False</td><td>nan</td><td>nan</td><td>nan</td><td>nan</td><td>nan</td><td>nan</td><td>nan</td><td>nan</td><td>False</td><td>nan</td><td>nan</td><td>nan</td><td>nan</td><td>nan</td><td>nan</td><td>nan</td><td>nan</td><td>False</td><td>nan</td><td>nan</td><td>nan</td><td>nan</td><td>nan</td><td>nan</td><td>nan</td><td>nan</td><td>False</td><td>nan</td><td>nan</td><td>nan</td><td>nan</td></tr>\n",
       "<tr><td>7</td><td>30157</td><td>34.4256537693</td><td>-5.22465695973</td><td>0.709999978542</td><td>-0.00368314</td><td>0.00902238</td><td>0.0399117</td><td>0.0306564</td><td>-0.00630313</td><td>0.00968635</td><td>0.0291597</td><td>0.0328583</td><td>-0.00421342</td><td>0.0133143</td><td>0.0346139</td><td>0.0460574</td><td>0.0563191</td><td>0.0143507</td><td>0.196871</td><td>0.0411368</td><td>0.0005482</td><td>0.0033353</td><td>-0.0054103</td><td>0.0060625</td><td>0.0004354</td><td>0.0055307</td><td>0.000241</td><td>0.006847</td><td>-0.0276691</td><td>0.0209205</td><td>0.00285728</td><td>0.0125077</td><td>0.0250694</td><td>nan</td><td>-2.65966664832</td><td>False</td><td>27.3972494337</td><td>0.833960051502</td><td>nan</td><td>-1.66850769173</td><td>False</td><td>27.7380423711</td><td>1.22345037627</td><td>nan</td><td>-3.43089878318</td><td>False</td><td>27.5518736633</td><td>1.44468513161</td><td>27.023360735</td><td>0.27665702317</td><td>False</td><td>25.6645456318</td><td>0.226867914055</td><td>32.052652422</td><td>6.60572047379</td><td>False</td><td>nan</td><td>-1.21661936332</td><td>False</td><td>32.3027789382</td><td>13.791642691</td><td>False</td><td>32.9449573936</td><td>30.8466215518</td><td>False</td><td>nan</td><td>-0.820920964962</td><td>False</td><td>30.2601179968</td><td>9.52610707091</td><td>False</td><td>False</td><td>0</td><td>False</td><td>-1</td><td>nan</td><td>False</td><td>0</td><td>-1</td><td>nan</td><td>False</td><td>0</td><td>-1</td><td>nan</td><td>False</td><td>0</td><td>-1</td><td>nan</td><td>nan</td><td>nan</td><td>nan</td><td>nan</td><td>nan</td><td>nan</td><td>nan</td><td>nan</td><td>nan</td><td>nan</td><td>nan</td><td>nan</td><td>nan</td><td>False</td><td>nan</td><td>nan</td><td>nan</td><td>nan</td><td>False</td><td>nan</td><td>nan</td><td>nan</td><td>nan</td><td>False</td><td>nan</td><td>nan</td><td>False</td><td>0</td><td>-1</td><td>False</td><td>0</td><td>-1</td><td>nan</td><td>nan</td><td>False</td><td>-1</td><td>nan</td><td>nan</td><td>-1</td><td>nan</td><td>nan</td><td>-1</td><td>nan</td><td>nan</td><td>-1</td><td>nan</td><td>nan</td><td>nan</td><td>nan</td><td>nan</td><td>nan</td><td>nan</td><td>nan</td><td>nan</td><td>nan</td><td>nan</td><td>nan</td><td>nan</td><td>False</td><td>0</td><td>-1</td><td>-1-130157-1-1-1</td><td>-0.0039474</td><td>0.0064359</td><td>nan</td><td>-1.77020054725</td><td>False</td><td>nan</td><td>nan</td><td>nan</td><td>nan</td><td>nan</td><td>nan</td><td>nan</td><td>nan</td><td>False</td><td>nan</td><td>nan</td><td>nan</td><td>nan</td><td>nan</td><td>nan</td><td>nan</td><td>nan</td><td>False</td><td>nan</td><td>nan</td><td>nan</td><td>nan</td><td>nan</td><td>nan</td><td>nan</td><td>nan</td><td>False</td><td>nan</td><td>nan</td><td>nan</td><td>nan</td><td>nan</td><td>nan</td><td>nan</td><td>nan</td><td>False</td><td>nan</td><td>nan</td><td>nan</td><td>nan</td><td>nan</td><td>nan</td><td>nan</td><td>nan</td><td>False</td><td>nan</td><td>nan</td><td>nan</td><td>nan</td></tr>\n",
       "<tr><td>8</td><td>34846</td><td>34.5050823693</td><td>-5.14364945973</td><td>0.910000026226</td><td>0.0118181</td><td>0.0125909</td><td>0.207346</td><td>0.0472298</td><td>0.0362847</td><td>0.0154889</td><td>0.21084</td><td>0.0504628</td><td>0.0390423</td><td>0.0126227</td><td>0.00386492</td><td>0.0429088</td><td>0.0710007</td><td>0.0181551</td><td>0.0669073</td><td>0.0556698</td><td>nan</td><td>nan</td><td>nan</td><td>nan</td><td>nan</td><td>nan</td><td>nan</td><td>nan</td><td>nan</td><td>nan</td><td>0.0343172</td><td>0.0198248</td><td>0.0291596</td><td>28.7186308488</td><td>1.15673382189</td><td>False</td><td>25.6082608459</td><td>0.247311758141</td><td>27.5006911582</td><td>0.463469713182</td><td>False</td><td>25.5901174811</td><td>0.259861928256</td><td>27.4211615144</td><td>0.35102753659</td><td>False</td><td>29.9321487278</td><td>12.0539720519</td><td>26.7718434238</td><td>0.277626127221</td><td>False</td><td>26.8363162386</td><td>0.903380010427</td><td>nan</td><td>nan</td><td>False</td><td>nan</td><td>nan</td><td>False</td><td>nan</td><td>nan</td><td>False</td><td>nan</td><td>nan</td><td>False</td><td>nan</td><td>nan</td><td>False</td><td>27.5612203855</td><td>0.922558758764</td><td>False</td><td>False</td><td>0</td><td>False</td><td>-1</td><td>nan</td><td>False</td><td>0</td><td>-1</td><td>nan</td><td>False</td><td>0</td><td>-1</td><td>nan</td><td>False</td><td>0</td><td>-1</td><td>nan</td><td>nan</td><td>nan</td><td>nan</td><td>nan</td><td>nan</td><td>nan</td><td>nan</td><td>nan</td><td>nan</td><td>nan</td><td>nan</td><td>nan</td><td>nan</td><td>False</td><td>nan</td><td>nan</td><td>nan</td><td>nan</td><td>False</td><td>nan</td><td>nan</td><td>nan</td><td>nan</td><td>False</td><td>nan</td><td>nan</td><td>False</td><td>0</td><td>-1</td><td>False</td><td>0</td><td>-1</td><td>nan</td><td>nan</td><td>False</td><td>-1</td><td>nan</td><td>nan</td><td>-1</td><td>nan</td><td>nan</td><td>-1</td><td>nan</td><td>nan</td><td>-1</td><td>nan</td><td>nan</td><td>nan</td><td>nan</td><td>nan</td><td>nan</td><td>nan</td><td>nan</td><td>nan</td><td>nan</td><td>nan</td><td>nan</td><td>nan</td><td>False</td><td>0</td><td>-1</td><td>-1-134846-1-1-1</td><td>0.0338673</td><td>0.0065866</td><td>27.575548563</td><td>0.211156782095</td><td>False</td><td>nan</td><td>nan</td><td>nan</td><td>nan</td><td>nan</td><td>nan</td><td>nan</td><td>nan</td><td>False</td><td>nan</td><td>nan</td><td>nan</td><td>nan</td><td>nan</td><td>nan</td><td>nan</td><td>nan</td><td>False</td><td>nan</td><td>nan</td><td>nan</td><td>nan</td><td>nan</td><td>nan</td><td>nan</td><td>nan</td><td>False</td><td>nan</td><td>nan</td><td>nan</td><td>nan</td><td>nan</td><td>nan</td><td>nan</td><td>nan</td><td>False</td><td>nan</td><td>nan</td><td>nan</td><td>nan</td><td>nan</td><td>nan</td><td>nan</td><td>nan</td><td>False</td><td>nan</td><td>nan</td><td>nan</td><td>nan</td></tr>\n",
       "<tr><td>9</td><td>29605</td><td>34.5061329693</td><td>-5.23450135973</td><td>0.800000011921</td><td>nan</td><td>nan</td><td>nan</td><td>nan</td><td>nan</td><td>nan</td><td>nan</td><td>nan</td><td>0.022715</td><td>0.0155916</td><td>0.0625956</td><td>0.0426256</td><td>0.0702955</td><td>0.0203761</td><td>0.00447982</td><td>0.0513319</td><td>0.007038</td><td>0.0033655</td><td>0.0119913</td><td>0.0065854</td><td>0.009911</td><td>0.0073214</td><td>0.0134793</td><td>0.0094574</td><td>0.0097289</td><td>0.0212447</td><td>-0.00681999</td><td>0.0152781</td><td>0.0261541</td><td>nan</td><td>nan</td><td>False</td><td>nan</td><td>nan</td><td>nan</td><td>nan</td><td>False</td><td>nan</td><td>nan</td><td>28.0092181471</td><td>0.745250478103</td><td>False</td><td>26.9086404834</td><td>0.739351602501</td><td>26.7826811891</td><td>0.314715301574</td><td>False</td><td>29.7718485892</td><td>12.440879832</td><td>29.2813768438</td><td>0.519188007547</td><td>False</td><td>28.7028343291</td><td>0.596266226582</td><td>False</td><td>28.9097063097</td><td>0.802049142318</td><td>False</td><td>28.5758316519</td><td>0.761778548061</td><td>False</td><td>28.9298406514</td><td>2.37088879002</td><td>False</td><td>nan</td><td>-4.16370893108</td><td>False</td><td>False</td><td>0</td><td>False</td><td>-1</td><td>nan</td><td>False</td><td>0</td><td>-1</td><td>nan</td><td>False</td><td>0</td><td>-1</td><td>nan</td><td>False</td><td>0</td><td>-1</td><td>nan</td><td>nan</td><td>nan</td><td>nan</td><td>nan</td><td>nan</td><td>nan</td><td>nan</td><td>nan</td><td>nan</td><td>nan</td><td>nan</td><td>nan</td><td>nan</td><td>False</td><td>nan</td><td>nan</td><td>nan</td><td>nan</td><td>False</td><td>nan</td><td>nan</td><td>nan</td><td>nan</td><td>False</td><td>nan</td><td>nan</td><td>False</td><td>0</td><td>-1</td><td>False</td><td>0</td><td>-1</td><td>nan</td><td>nan</td><td>False</td><td>-1</td><td>nan</td><td>nan</td><td>-1</td><td>nan</td><td>nan</td><td>-1</td><td>nan</td><td>nan</td><td>-1</td><td>nan</td><td>nan</td><td>nan</td><td>nan</td><td>nan</td><td>nan</td><td>nan</td><td>nan</td><td>nan</td><td>nan</td><td>nan</td><td>nan</td><td>nan</td><td>False</td><td>0</td><td>-1</td><td>-1-129605-1-1-1</td><td>0.0050671</td><td>0.0065572</td><td>29.6381013119</td><td>1.4050224866</td><td>False</td><td>nan</td><td>nan</td><td>nan</td><td>nan</td><td>nan</td><td>nan</td><td>nan</td><td>nan</td><td>False</td><td>nan</td><td>nan</td><td>nan</td><td>nan</td><td>nan</td><td>nan</td><td>nan</td><td>nan</td><td>False</td><td>nan</td><td>nan</td><td>nan</td><td>nan</td><td>nan</td><td>nan</td><td>nan</td><td>nan</td><td>False</td><td>nan</td><td>nan</td><td>nan</td><td>nan</td><td>nan</td><td>nan</td><td>nan</td><td>nan</td><td>False</td><td>nan</td><td>nan</td><td>nan</td><td>nan</td><td>nan</td><td>nan</td><td>nan</td><td>nan</td><td>False</td><td>nan</td><td>nan</td><td>nan</td><td>nan</td></tr>\n",
       "</table><style>table.dataTable {clear: both; width: auto !important; margin: 0 !important;}\n",
       ".dataTables_info, .dataTables_length, .dataTables_filter, .dataTables_paginate{\n",
       "display: inline-block; margin-right: 1em; }\n",
       ".paginate_button { margin-right: 5px; }\n",
       "</style>\n",
       "<script>\n",
       "\n",
       "var astropy_sort_num = function(a, b) {\n",
       "    var a_num = parseFloat(a);\n",
       "    var b_num = parseFloat(b);\n",
       "\n",
       "    if (isNaN(a_num) && isNaN(b_num))\n",
       "        return ((a < b) ? -1 : ((a > b) ? 1 : 0));\n",
       "    else if (!isNaN(a_num) && !isNaN(b_num))\n",
       "        return ((a_num < b_num) ? -1 : ((a_num > b_num) ? 1 : 0));\n",
       "    else\n",
       "        return isNaN(a_num) ? -1 : 1;\n",
       "}\n",
       "\n",
       "require.config({paths: {\n",
       "    datatables: 'https://cdn.datatables.net/1.10.12/js/jquery.dataTables.min'\n",
       "}});\n",
       "require([\"datatables\"], function(){\n",
       "    console.log(\"$('#table4689445832-607435').dataTable()\");\n",
       "    \n",
       "jQuery.extend( jQuery.fn.dataTableExt.oSort, {\n",
       "    \"optionalnum-asc\": astropy_sort_num,\n",
       "    \"optionalnum-desc\": function (a,b) { return -astropy_sort_num(a, b); }\n",
       "});\n",
       "\n",
       "    $('#table4689445832-607435').dataTable({\n",
       "        order: [],\n",
       "        pageLength: 50,\n",
       "        lengthMenu: [[10, 25, 50, 100, 500, 1000, -1], [10, 25, 50, 100, 500, 1000, 'All']],\n",
       "        pagingType: \"full_numbers\",\n",
       "        columnDefs: [{targets: [0, 1, 2, 3, 4, 5, 6, 7, 8, 9, 10, 11, 12, 13, 14, 15, 16, 17, 18, 19, 20, 21, 22, 23, 24, 25, 26, 27, 28, 29, 30, 31, 32, 33, 34, 35, 37, 38, 39, 40, 42, 43, 44, 45, 47, 48, 49, 50, 52, 53, 54, 55, 57, 58, 60, 61, 63, 64, 66, 67, 69, 70, 73, 76, 78, 80, 82, 83, 84, 86, 87, 88, 89, 90, 91, 92, 93, 94, 95, 96, 97, 98, 99, 100, 101, 103, 104, 105, 106, 108, 109, 110, 111, 113, 114, 116, 117, 119, 121, 122, 125, 126, 128, 129, 131, 132, 134, 135, 136, 137, 138, 139, 140, 141, 142, 143, 144, 145, 146, 148, 149, 151, 152, 153, 154, 156, 157, 158, 159, 160, 161, 162, 163, 165, 166, 167, 168, 169, 170, 171, 172, 174, 175, 176, 177, 178, 179, 180, 181, 183, 184, 185, 186, 187, 188, 189, 190, 192, 193, 194, 195, 196, 197, 198, 199, 201, 202, 203, 204], type: \"optionalnum\"}]\n",
       "    });\n",
       "});\n",
       "</script>\n"
      ],
      "text/plain": [
       "<IPython.core.display.HTML object>"
      ]
     },
     "execution_count": 40,
     "metadata": {},
     "output_type": "execute_result"
    }
   ],
   "source": [
    "master_catalogue[:10].show_in_notebook()"
   ]
  },
  {
   "cell_type": "markdown",
   "metadata": {},
   "source": [
    "## XI - Saving the catalogue"
   ]
  },
  {
   "cell_type": "code",
   "execution_count": null,
   "metadata": {
    "collapsed": true
   },
   "outputs": [],
   "source": [
    "master_catalogue.write(\"{}/cfht_merged_catalogue_xmm-lss.fits\".format(TMP_DIR), overwrite=True)"
   ]
  }
 ],
 "metadata": {
  "kernelspec": {
   "display_name": "Python (herschelhelp_internal)",
   "language": "python",
   "name": "helpint"
  },
  "language_info": {
   "codemirror_mode": {
    "name": "ipython",
    "version": 3
   },
   "file_extension": ".py",
   "mimetype": "text/x-python",
   "name": "python",
   "nbconvert_exporter": "python",
   "pygments_lexer": "ipython3",
   "version": "3.6.1"
  }
 },
 "nbformat": 4,
 "nbformat_minor": 2
}
