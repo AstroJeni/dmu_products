{
 "cells": [
  {
   "cell_type": "markdown",
   "metadata": {},
   "source": [
    "# ML match for LOFAR and the combined PanSTARRS WISE catalogue: Compute the $Q_0$"
   ]
  },
  {
   "cell_type": "markdown",
   "metadata": {},
   "source": [
    "## Configuration\n",
    "\n",
    "### Load libraries and setup"
   ]
  },
  {
   "cell_type": "code",
   "execution_count": 1,
   "metadata": {
    "collapsed": true
   },
   "outputs": [],
   "source": [
    "import numpy as np\n",
    "from astropy.table import Table\n",
    "from astropy import units as u\n",
    "from astropy.coordinates import SkyCoord, search_around_sky\n",
    "from IPython.display import clear_output\n",
    "from pymoc import MOC"
   ]
  },
  {
   "cell_type": "code",
   "execution_count": 2,
   "metadata": {
    "collapsed": true
   },
   "outputs": [],
   "source": [
    "from mltier import Field, Q_0, parallel_process, describe\n",
    "from test import gen_rand_cat_inMOC"
   ]
  },
  {
   "cell_type": "code",
   "execution_count": 3,
   "metadata": {
    "collapsed": true
   },
   "outputs": [],
   "source": [
    "%load_ext autoreload"
   ]
  },
  {
   "cell_type": "code",
   "execution_count": 4,
   "metadata": {
    "collapsed": true
   },
   "outputs": [],
   "source": [
    "%autoreload"
   ]
  },
  {
   "cell_type": "code",
   "execution_count": 5,
   "metadata": {
    "collapsed": true
   },
   "outputs": [],
   "source": [
    "from IPython.display import clear_output"
   ]
  },
  {
   "cell_type": "code",
   "execution_count": 6,
   "metadata": {},
   "outputs": [
    {
     "name": "stdout",
     "output_type": "stream",
     "text": [
      "Populating the interactive namespace from numpy and matplotlib\n"
     ]
    }
   ],
   "source": [
    "%pylab inline"
   ]
  },
  {
   "cell_type": "markdown",
   "metadata": {},
   "source": [
    "### Area limits"
   ]
  },
  {
   "cell_type": "code",
   "execution_count": 7,
   "metadata": {
    "collapsed": true
   },
   "outputs": [],
   "source": [
    "# Busy week Hatfield 2017\n",
    "ra_down = 170.\n",
    "ra_up = 190.\n",
    "dec_down = 46.8\n",
    "dec_up = 55.9\n",
    "\n",
    "# Lockman Swire deep region south\n",
    "ra_down = 161.9\n",
    "ra_up = 164.3\n",
    "dec_down = 56.9\n",
    "dec_up = 58.1\n",
    "\n",
    "#load the moc that describes the area where the maximum likelihood matching will occur\n",
    "#MOC_loc = '/lustre/scratch/astro/im281/data/Lockman_swire_deep/dmu13-lockman-hole-1_MOC.fits'\n",
    "MOC_loc = '/lustre/scratch/astro/im281/data/Lockman_swire_deep/lockman_deep_south_MOC.fits'\n",
    "MHz150_MOC = MOC(filename=MOC_loc)"
   ]
  },
  {
   "cell_type": "code",
   "execution_count": 8,
   "metadata": {},
   "outputs": [
    {
     "name": "stdout",
     "output_type": "stream",
     "text": [
      "field is using a MOC\n",
      "8242912.713030173\n"
     ]
    }
   ],
   "source": [
    "field = Field(ra_down, ra_up, dec_down, dec_up, MHz150_MOC)"
   ]
  },
  {
   "cell_type": "markdown",
   "metadata": {},
   "source": [
    "## Load data"
   ]
  },
  {
   "cell_type": "code",
   "execution_count": 9,
   "metadata": {
    "collapsed": true
   },
   "outputs": [],
   "source": [
    "lofar_150mhz = Table.read('/lustre/scratch/astro/im281/data/LOFAR/deep-lockman-v0.1.cat.fits')"
   ]
  },
  {
   "cell_type": "code",
   "execution_count": 10,
   "metadata": {},
   "outputs": [
    {
     "data": {
      "text/plain": [
       "37165"
      ]
     },
     "execution_count": 10,
     "metadata": {},
     "output_type": "execute_result"
    }
   ],
   "source": [
    "len(lofar_150mhz)"
   ]
  },
  {
   "cell_type": "code",
   "execution_count": 11,
   "metadata": {
    "collapsed": true
   },
   "outputs": [],
   "source": [
    "irac_data = Table.read('/lustre/scratch/astro/im281/data/Lockman_swire_deep/SERVS-I1_20160527.fits.gz')"
   ]
  },
  {
   "cell_type": "code",
   "execution_count": 12,
   "metadata": {},
   "outputs": [
    {
     "data": {
      "text/plain": [
       "array(['field', 'name', 'id', 'ra', 'dec', 'flux_aper_1', 'flux_aper_2',\n",
       "       'flux_aper_3', 'flux_aper_4', 'flux_aper_5', 'fluxerr_aper_1',\n",
       "       'fluxerr_aper_2', 'fluxerr_aper_3', 'fluxerr_aper_4',\n",
       "       'fluxerr_aper_5', 'snr_1', 'snr_2', 'snr_3', 'snr_4', 'snr_5',\n",
       "       'flux_iso', 'flux_auto', 'fluxerr_iso', 'fluxerr_auto', 'snr_iso',\n",
       "       'snr_auto', 'kron_radius', 'class_star', 'flags', 'mask', 'cov',\n",
       "       'csnr', 'poly', 'rel'], \n",
       "      dtype='<U14')"
      ]
     },
     "execution_count": 12,
     "metadata": {},
     "output_type": "execute_result"
    }
   ],
   "source": [
    "len(irac_data)\n",
    "np.array(irac_data.colnames)"
   ]
  },
  {
   "cell_type": "code",
   "execution_count": 13,
   "metadata": {
    "collapsed": true
   },
   "outputs": [],
   "source": [
    "#load in the matching data either r band or irac"
   ]
  },
  {
   "cell_type": "code",
   "execution_count": 14,
   "metadata": {
    "collapsed": true
   },
   "outputs": [],
   "source": [
    "#combined = Table.read(\"pw.fits\")"
   ]
  },
  {
   "cell_type": "code",
   "execution_count": 15,
   "metadata": {
    "collapsed": true
   },
   "outputs": [],
   "source": [
    "#lofar_all = Table.read(\"data/LOFAR_HBA_T1_DR1_catalog_v0.9.srl.fits\")"
   ]
  },
  {
   "cell_type": "code",
   "execution_count": 16,
   "metadata": {
    "collapsed": true
   },
   "outputs": [],
   "source": [
    "#np.array(combined.colnames)"
   ]
  },
  {
   "cell_type": "code",
   "execution_count": 17,
   "metadata": {
    "collapsed": true
   },
   "outputs": [],
   "source": [
    "#np.array(lofar_all.colnames)"
   ]
  },
  {
   "cell_type": "markdown",
   "metadata": {},
   "source": [
    "### Filter catalogues"
   ]
  },
  {
   "cell_type": "code",
   "execution_count": 18,
   "metadata": {},
   "outputs": [
    {
     "name": "stdout",
     "output_type": "stream",
     "text": [
      "filtering in a MOC\n"
     ]
    }
   ],
   "source": [
    "lofar = field.filter_catalogue(lofar_150mhz, colnames=('RA','DEC'))"
   ]
  },
  {
   "cell_type": "code",
   "execution_count": 19,
   "metadata": {},
   "outputs": [
    {
     "data": {
      "text/plain": [
       "1409"
      ]
     },
     "execution_count": 19,
     "metadata": {},
     "output_type": "execute_result"
    }
   ],
   "source": [
    "len(lofar)"
   ]
  },
  {
   "cell_type": "code",
   "execution_count": 20,
   "metadata": {},
   "outputs": [
    {
     "name": "stdout",
     "output_type": "stream",
     "text": [
      "filtering in a MOC\n"
     ]
    }
   ],
   "source": [
    "combined = field.filter_catalogue(irac_data, colnames=('ra','dec'))"
   ]
  },
  {
   "cell_type": "code",
   "execution_count": 21,
   "metadata": {},
   "outputs": [
    {
     "data": {
      "text/plain": [
       "59809"
      ]
     },
     "execution_count": 21,
     "metadata": {},
     "output_type": "execute_result"
    }
   ],
   "source": [
    "len(combined)"
   ]
  },
  {
   "cell_type": "code",
   "execution_count": 22,
   "metadata": {
    "collapsed": true
   },
   "outputs": [],
   "source": [
    "#filter r band or irac catalogue with moc"
   ]
  },
  {
   "cell_type": "code",
   "execution_count": 23,
   "metadata": {
    "collapsed": true
   },
   "outputs": [],
   "source": [
    "#lofar = field.filter_catalogue(lofar_all, colnames=(\"RA\", \"DEC\"))"
   ]
  },
  {
   "cell_type": "markdown",
   "metadata": {},
   "source": [
    "### Sky coordinates"
   ]
  },
  {
   "cell_type": "code",
   "execution_count": 24,
   "metadata": {
    "collapsed": true
   },
   "outputs": [],
   "source": [
    "coords_combined = SkyCoord(combined['ra'], \n",
    "                           combined['dec'], \n",
    "                           unit=(u.deg, u.deg), \n",
    "                           frame='icrs')"
   ]
  },
  {
   "cell_type": "code",
   "execution_count": 25,
   "metadata": {
    "collapsed": true
   },
   "outputs": [],
   "source": [
    "coords_lofar = SkyCoord(lofar['RA'], \n",
    "                       lofar['DEC'], \n",
    "                       unit=(u.deg, u.deg), \n",
    "                       frame='icrs')"
   ]
  },
  {
   "cell_type": "code",
   "execution_count": 26,
   "metadata": {},
   "outputs": [
    {
     "name": "stdout",
     "output_type": "stream",
     "text": [
      "162.307696761\n",
      "164.027831073\n",
      "57.0327409283\n",
      "57.9992060428\n",
      "field is using a MOC\n",
      "8242912.713030173\n"
     ]
    }
   ],
   "source": [
    "#create field again around the filtered sources to make random source generate quicker\n",
    "ra_down = min(lofar['RA']) - 10/3600\n",
    "print(ra_down)\n",
    "ra_up = max(lofar['RA']) + 10/3600\n",
    "print(ra_up)\n",
    "dec_down = min(lofar['DEC']) - 10/3600\n",
    "print(dec_down)\n",
    "dec_up = max(lofar['DEC']) + 10/3600\n",
    "print(dec_up)\n",
    "\n",
    "#field = Field(ra_down, ra_up, dec_down, dec_up,MHz150_MOC)\n",
    "field = Field(ra_down, ra_up, dec_down, dec_up, MHz150_MOC)"
   ]
  },
  {
   "cell_type": "markdown",
   "metadata": {},
   "source": [
    "### Summary of galaxy types in the combined catalogue"
   ]
  },
  {
   "cell_type": "code",
   "execution_count": 27,
   "metadata": {
    "collapsed": true
   },
   "outputs": [],
   "source": [
    "#combined_matched = (~np.isnan(combined[\"i\"]) & \n",
    "#                    ~np.isnan(combined[\"W1mag\"]))\n",
    "#np.sum(combined_matched) # Matches"
   ]
  },
  {
   "cell_type": "code",
   "execution_count": 28,
   "metadata": {
    "collapsed": true
   },
   "outputs": [],
   "source": [
    "#combined_panstarrs = (~np.isnan(combined[\"i\"]) & \n",
    "#                      np.isnan(combined[\"W1mag\"]))\n",
    "#np.sum(combined_panstarrs) # Only PanSTARSS"
   ]
  },
  {
   "cell_type": "code",
   "execution_count": 29,
   "metadata": {
    "collapsed": true
   },
   "outputs": [],
   "source": [
    "#combined_wise =(np.isnan(combined[\"i\"]) & \n",
    "#                ~np.isnan(combined[\"W1mag\"]))\n",
    "#np.sum(combined_wise) # Only WISE"
   ]
  },
  {
   "cell_type": "code",
   "execution_count": 30,
   "metadata": {
    "collapsed": true
   },
   "outputs": [],
   "source": [
    "#combined_i = combined_matched | combined_panstarrs\n",
    "#combined_w1 = combined_matched | combined_wise"
   ]
  },
  {
   "cell_type": "markdown",
   "metadata": {
    "collapsed": true
   },
   "source": [
    "## $Q_0$ dependence on the radius\n",
    "\n",
    "We will iterate 10 times for each radius. However, the error is so small that a direct computation can be accurate to 4 significant figures."
   ]
  },
  {
   "cell_type": "code",
   "execution_count": 31,
   "metadata": {
    "collapsed": true
   },
   "outputs": [],
   "source": [
    "n_iter = 10"
   ]
  },
  {
   "cell_type": "code",
   "execution_count": 35,
   "metadata": {
    "collapsed": true
   },
   "outputs": [],
   "source": [
    "rads = list(range(1,26))\n",
    "rads = np.linspace(0.25,5,26)"
   ]
  },
  {
   "cell_type": "markdown",
   "metadata": {},
   "source": [
    "### i-band"
   ]
  },
  {
   "cell_type": "code",
   "execution_count": 36,
   "metadata": {
    "collapsed": true
   },
   "outputs": [],
   "source": [
    "#q_0_comp_i = Q_0(coords_lofar, coords_combined[combined_i], field)\n",
    "q_0_comp_i = Q_0(coords_lofar, coords_combined, field)"
   ]
  },
  {
   "cell_type": "code",
   "execution_count": 37,
   "metadata": {},
   "outputs": [
    {
     "name": "stdout",
     "output_type": "stream",
     "text": [
      "0.25000 0.16240 +/- 0.00066 [0.16097 0.16335]\n",
      "0.44000 0.35477 +/- 0.00117 [0.35265 0.35679]\n",
      "0.63000 0.51828 +/- 0.00162 [0.51513 0.52100]\n",
      "0.82000 0.62965 +/- 0.00115 [0.62816 0.63188]\n",
      "1.01000 0.70579 +/- 0.00094 [0.70438 0.70779]\n",
      "1.20000 0.75870 +/- 0.00107 [0.75702 0.76073]\n",
      "1.39000 0.78260 +/- 0.00139 [0.78052 0.78519]\n",
      "1.58000 0.81140 +/- 0.00131 [0.80898 0.81338]\n",
      "1.77000 0.82137 +/- 0.00105 [0.81958 0.82326]\n",
      "1.96000 0.83671 +/- 0.00130 [0.83399 0.83844]\n",
      "2.15000 0.84438 +/- 0.00108 [0.84320 0.84723]\n",
      "2.34000 0.84884 +/- 0.00163 [0.84691 0.85156]\n",
      "2.53000 0.85470 +/- 0.00125 [0.85260 0.85679]\n",
      "2.72000 0.86194 +/- 0.00113 [0.86009 0.86473]\n",
      "2.91000 0.87120 +/- 0.00142 [0.86868 0.87340]\n",
      "3.10000 0.87332 +/- 0.00148 [0.87067 0.87544]\n",
      "3.29000 0.87377 +/- 0.00203 [0.87063 0.87724]\n",
      "3.48000 0.88006 +/- 0.00165 [0.87731 0.88333]\n",
      "3.67000 0.87749 +/- 0.00146 [0.87475 0.87914]\n",
      "3.86000 0.87759 +/- 0.00113 [0.87604 0.87968]\n",
      "4.05000 0.87605 +/- 0.00179 [0.87269 0.87813]\n",
      "4.24000 0.87402 +/- 0.00252 [0.86927 0.87807]\n",
      "4.43000 0.87151 +/- 0.00319 [0.86408 0.87692]\n",
      "4.62000 0.87458 +/- 0.00145 [0.87211 0.87734]\n",
      "4.81000 0.87725 +/- 0.00261 [0.87143 0.88015]\n",
      "5.00000 0.87611 +/- 0.00279 [0.87123 0.88056]\n"
     ]
    }
   ],
   "source": [
    "q_0_rad_i = []\n",
    "for radius in rads:\n",
    "    q_0_rad_aux = []\n",
    "    for i in range(n_iter):\n",
    "        out = q_0_comp_i(radius=radius)\n",
    "        q_0_rad_aux.append(out)\n",
    "    q_0_rad_i.append(np.mean(q_0_rad_aux))\n",
    "    print(\"{:7.5f} {:7.5f} +/- {:7.5f} [{:7.5f} {:7.5f}]\".format(radius, \n",
    "            np.mean(q_0_rad_aux), np.std(q_0_rad_aux), \n",
    "            np.min(q_0_rad_aux), np.max(q_0_rad_aux)))"
   ]
  },
  {
   "cell_type": "code",
   "execution_count": null,
   "metadata": {},
   "outputs": [],
   "source": [
    "plt.rcParams[\"figure.figsize\"] = (5,5)\n",
    "plot(rads, q_0_rad_i)\n",
    "xlabel(\"Radius (arcsecs)\")\n",
    "ylabel(\"$Q_0 i-band$\")\n",
    "ylim([-2, 1]);"
   ]
  },
  {
   "cell_type": "markdown",
   "metadata": {},
   "source": [
    "### W1-band"
   ]
  },
  {
   "cell_type": "code",
   "execution_count": null,
   "metadata": {
    "collapsed": true
   },
   "outputs": [],
   "source": [
    "#q_0_comp_w1 = Q_0(coords_lofar, coords_combined[combined_w1], field)"
   ]
  },
  {
   "cell_type": "code",
   "execution_count": null,
   "metadata": {
    "collapsed": true
   },
   "outputs": [],
   "source": [
    "#q_0_rad_w1 = []\n",
    "#for radius in rads:\n",
    "#    q_0_rad_aux = []\n",
    "#    for i in range(n_iter):\n",
    "#        out = q_0_comp_w1(radius=radius)\n",
    "#        q_0_rad_aux.append(out)\n",
    "#    q_0_rad_w1.append(np.mean(q_0_rad_aux))\n",
    "#    print(\"{:2d} {:7.5f} +/- {:7.5f} [{:7.5f} {:7.5f}]\".format(radius, \n",
    "#            np.mean(q_0_rad_aux), np.std(q_0_rad_aux), \n",
    "#            np.min(q_0_rad_aux), np.max(q_0_rad_aux)))"
   ]
  },
  {
   "cell_type": "code",
   "execution_count": null,
   "metadata": {
    "collapsed": true
   },
   "outputs": [],
   "source": [
    "#plt.rcParams[\"figure.figsize\"] = (5,5)\n",
    "#plot(rads, q_0_rad_w1)\n",
    "#xlabel(\"Radius (arcsecs)\")\n",
    "#ylabel(\"$Q_0 W1-band$\")\n",
    "#ylim([0, 1]);"
   ]
  },
  {
   "cell_type": "code",
   "execution_count": null,
   "metadata": {
    "collapsed": true
   },
   "outputs": [],
   "source": []
  }
 ],
 "metadata": {
  "kernelspec": {
   "display_name": "Python 3",
   "language": "python",
   "name": "python3"
  },
  "language_info": {
   "codemirror_mode": {
    "name": "ipython",
    "version": 3
   },
   "file_extension": ".py",
   "mimetype": "text/x-python",
   "name": "python",
   "nbconvert_exporter": "python",
   "pygments_lexer": "ipython3",
   "version": "3.6.1"
  }
 },
 "nbformat": 4,
 "nbformat_minor": 1
}
