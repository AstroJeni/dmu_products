{
 "cells": [
  {
   "cell_type": "markdown",
   "metadata": {},
   "source": [
    "# ML match for LOFAR and the combined PanSTARRS WISE catalogue: Source catalogue"
   ]
  },
  {
   "cell_type": "markdown",
   "metadata": {},
   "source": [
    "## Configuration\n",
    "\n",
    "### Load libraries and setup"
   ]
  },
  {
   "cell_type": "code",
   "execution_count": 1,
   "metadata": {
    "collapsed": true
   },
   "outputs": [],
   "source": [
    "import numpy as np\n",
    "from astropy.table import Table\n",
    "from astropy import units as u\n",
    "from astropy.coordinates import SkyCoord, search_around_sky\n",
    "from IPython.display import clear_output\n",
    "from scipy.optimize import curve_fit\n",
    "import pickle\n",
    "import os\n",
    "from pymoc import MOC"
   ]
  },
  {
   "cell_type": "code",
   "execution_count": 2,
   "metadata": {
    "collapsed": true
   },
   "outputs": [],
   "source": [
    "from mltier import (get_center, get_n_m, estimate_q_m, Field, SingleMLEstimator, MultiMLEstimator,\n",
    "                     parallel_process, get_sigma, get_q_m, get_threshold, q0_min_level, q0_min_numbers)\n",
    "from test import gen_rand_cat_inMOC"
   ]
  },
  {
   "cell_type": "code",
   "execution_count": null,
   "metadata": {
    "collapsed": true
   },
   "outputs": [],
   "source": []
  },
  {
   "cell_type": "code",
   "execution_count": 3,
   "metadata": {},
   "outputs": [],
   "source": [
    "%load_ext autoreload"
   ]
  },
  {
   "cell_type": "code",
   "execution_count": 4,
   "metadata": {
    "collapsed": true
   },
   "outputs": [],
   "source": [
    "%autoreload"
   ]
  },
  {
   "cell_type": "code",
   "execution_count": 5,
   "metadata": {},
   "outputs": [
    {
     "name": "stdout",
     "output_type": "stream",
     "text": [
      "Populating the interactive namespace from numpy and matplotlib\n"
     ]
    }
   ],
   "source": [
    "%pylab inline"
   ]
  },
  {
   "cell_type": "markdown",
   "metadata": {},
   "source": [
    "### General configuration"
   ]
  },
  {
   "cell_type": "code",
   "execution_count": 6,
   "metadata": {
    "collapsed": true
   },
   "outputs": [],
   "source": [
    "save_intermediate = True\n",
    "plot_intermediate = True"
   ]
  },
  {
   "cell_type": "code",
   "execution_count": 141,
   "metadata": {
    "collapsed": true
   },
   "outputs": [],
   "source": [
    "idp = \"idata/main\""
   ]
  },
  {
   "cell_type": "code",
   "execution_count": 142,
   "metadata": {
    "collapsed": true
   },
   "outputs": [],
   "source": [
    "if not os.path.isdir(idp):\n",
    "    os.makedirs(idp)"
   ]
  },
  {
   "cell_type": "markdown",
   "metadata": {},
   "source": [
    "### Area limits"
   ]
  },
  {
   "cell_type": "code",
   "execution_count": 143,
   "metadata": {
    "collapsed": true
   },
   "outputs": [],
   "source": [
    "ra_down0 = 170.0\n",
    "ra_up0 = 190.0\n",
    "dec_down0 = 45.5\n",
    "dec_up0 = 56.5"
   ]
  },
  {
   "cell_type": "code",
   "execution_count": 144,
   "metadata": {
    "collapsed": true
   },
   "outputs": [],
   "source": [
    "# Busy week Edinburgh 2017\n",
    "ra_down = 172.09\n",
    "ra_up = 187.5833\n",
    "dec_down = 46.106\n",
    "dec_up = 56.1611"
   ]
  },
  {
   "cell_type": "code",
   "execution_count": 145,
   "metadata": {
    "collapsed": true
   },
   "outputs": [],
   "source": [
    "# Busy week Hatfield 2017\n",
    "ra_down = 170.\n",
    "ra_up = 190.\n",
    "dec_down = 46.8\n",
    "dec_up = 55.9"
   ]
  },
  {
   "cell_type": "code",
   "execution_count": 146,
   "metadata": {
    "collapsed": true
   },
   "outputs": [],
   "source": [
    "# Lockman Swire deep region south\n",
    "ra_down = 150\n",
    "ra_up = 170\n",
    "dec_down = 50\n",
    "dec_up = 70\n",
    "\n",
    "#load the moc that describes the area where the maximum likelihood matching will occur\n",
    "#MOC_loc = '/lustre/scratch/astro/im281/data/Lockman_swire_deep/dmu13-lockman-hole-1_MOC.fits'\n",
    "MOC_loc = '/users/ianmccheyne/Documents/phd/data/SERVS-I1_20160527_MOC.fits'\n",
    "MHz150_MOC = MOC(filename=MOC_loc)"
   ]
  },
  {
   "cell_type": "code",
   "execution_count": 149,
   "metadata": {},
   "outputs": [
    {
     "data": {
      "text/plain": [
       "15.775483020303348"
      ]
     },
     "execution_count": 149,
     "metadata": {},
     "output_type": "execute_result"
    }
   ],
   "source": [
    "MHz150_MOC.area* (180/np.pi)**2"
   ]
  },
  {
   "cell_type": "code",
   "execution_count": 14,
   "metadata": {},
   "outputs": [
    {
     "name": "stdout",
     "output_type": "stream",
     "text": [
      "field is using a MOC\n",
      "204450259.9431314\n",
      "field is not using MOC\n",
      "2578860555.96\n"
     ]
    }
   ],
   "source": [
    "field = Field(ra_down, ra_up, dec_down, dec_up, MHz150_MOC)\n",
    "field_no_moc = Field(ra_down, ra_up, dec_down, dec_up)"
   ]
  },
  {
   "cell_type": "markdown",
   "metadata": {},
   "source": [
    "## Load data"
   ]
  },
  {
   "cell_type": "code",
   "execution_count": 15,
   "metadata": {},
   "outputs": [
    {
     "data": {
      "text/plain": [
       "37165"
      ]
     },
     "execution_count": 15,
     "metadata": {},
     "output_type": "execute_result"
    }
   ],
   "source": [
    "lofar_150mhz = Table.read('/users/ianmccheyne/Documents/phd/data/deep-lockman-v0.1.cat.fits')\n",
    "len(lofar_150mhz)"
   ]
  },
  {
   "cell_type": "code",
   "execution_count": 16,
   "metadata": {},
   "outputs": [
    {
     "data": {
      "text/plain": [
       "array(['Source_id', 'Isl_id', 'RA', 'E_RA', 'DEC', 'E_DEC', 'Total_flux',\n",
       "       'E_Total_flux', 'Peak_flux', 'E_Peak_flux', 'RA_max', 'E_RA_max',\n",
       "       'DEC_max', 'E_DEC_max', 'Maj', 'E_Maj', 'Min', 'E_Min', 'PA',\n",
       "       'E_PA', 'Maj_img_plane', 'E_Maj_img_plane', 'Min_img_plane',\n",
       "       'E_Min_img_plane', 'PA_img_plane', 'E_PA_img_plane', 'DC_Maj',\n",
       "       'E_DC_Maj', 'DC_Min', 'E_DC_Min', 'DC_PA', 'E_DC_PA',\n",
       "       'DC_Maj_img_plane', 'E_DC_Maj_img_plane', 'DC_Min_img_plane',\n",
       "       'E_DC_Min_img_plane', 'DC_PA_img_plane', 'E_DC_PA_img_plane',\n",
       "       'Isl_Total_flux', 'E_Isl_Total_flux', 'Isl_rms', 'Isl_mean',\n",
       "       'Resid_Isl_rms', 'Resid_Isl_mean', 'S_Code'],\n",
       "      dtype='<U18')"
      ]
     },
     "execution_count": 16,
     "metadata": {},
     "output_type": "execute_result"
    }
   ],
   "source": [
    "np.array(lofar_150mhz.colnames)"
   ]
  },
  {
   "cell_type": "code",
   "execution_count": 17,
   "metadata": {},
   "outputs": [
    {
     "data": {
      "text/plain": [
       "4641777"
      ]
     },
     "execution_count": 17,
     "metadata": {},
     "output_type": "execute_result"
    }
   ],
   "source": [
    "#irac_data = Table.read('/users/ianmccheyne/Documents/phd/data/master_catalogue_lockman-swire_iracall_20170710.fits')\n",
    "irac_data = Table.read('/users/ianmccheyne/Documents/phd/data/master_catalogue_lockman-swire_20170710.fits')\n",
    "len(irac_data)"
   ]
  },
  {
   "cell_type": "code",
   "execution_count": 18,
   "metadata": {},
   "outputs": [
    {
     "data": {
      "text/plain": [
       "array(['help_id', 'field', 'ra', 'dec', 'hp_idx', 'f_ap_wfc_u',\n",
       "       'ferr_ap_wfc_u', 'm_ap_wfc_u', 'merr_ap_wfc_u', 'f_wfc_u',\n",
       "       'ferr_wfc_u', 'm_wfc_u', 'merr_wfc_u', 'flag_wfc_u', 'f_ap_wfc_g',\n",
       "       'ferr_ap_wfc_g', 'm_ap_wfc_g', 'merr_ap_wfc_g', 'f_wfc_g',\n",
       "       'ferr_wfc_g', 'm_wfc_g', 'merr_wfc_g', 'flag_wfc_g', 'f_ap_wfc_r',\n",
       "       'ferr_ap_wfc_r', 'm_ap_wfc_r', 'merr_ap_wfc_r', 'f_wfc_r',\n",
       "       'ferr_wfc_r', 'm_wfc_r', 'merr_wfc_r', 'flag_wfc_r', 'f_ap_wfc_i',\n",
       "       'ferr_ap_wfc_i', 'm_ap_wfc_i', 'merr_ap_wfc_i', 'f_wfc_i',\n",
       "       'ferr_wfc_i', 'm_wfc_i', 'merr_wfc_i', 'flag_wfc_i', 'f_ap_wfc_z',\n",
       "       'ferr_ap_wfc_z', 'm_ap_wfc_z', 'merr_ap_wfc_z', 'f_wfc_z',\n",
       "       'ferr_wfc_z', 'm_wfc_z', 'merr_wfc_z', 'flag_wfc_z', 'f_ap_rcs_g',\n",
       "       'ferr_ap_rcs_g', 'm_ap_rcs_g', 'merr_ap_rcs_g', 'f_rcs_g',\n",
       "       'ferr_rcs_g', 'm_rcs_g', 'merr_rcs_g', 'flag_rcs_g', 'f_ap_rcs_r',\n",
       "       'ferr_ap_rcs_r', 'm_ap_rcs_r', 'merr_ap_rcs_r', 'f_rcs_r',\n",
       "       'ferr_rcs_r', 'm_rcs_r', 'merr_rcs_r', 'flag_rcs_r', 'f_ap_rcs_i',\n",
       "       'ferr_ap_rcs_i', 'm_ap_rcs_i', 'merr_ap_rcs_i', 'f_rcs_i',\n",
       "       'ferr_rcs_i', 'm_rcs_i', 'merr_rcs_i', 'flag_rcs_i', 'f_ap_rcs_z',\n",
       "       'ferr_ap_rcs_z', 'm_ap_rcs_z', 'merr_ap_rcs_z', 'f_rcs_z',\n",
       "       'ferr_rcs_z', 'm_rcs_z', 'merr_rcs_z', 'flag_rcs_z', 'f_ap_rcs_y',\n",
       "       'ferr_ap_rcs_y', 'm_ap_rcs_y', 'merr_ap_rcs_y', 'f_rcs_y',\n",
       "       'ferr_rcs_y', 'm_rcs_y', 'merr_rcs_y', 'flag_rcs_y', 'f_ap_gpc1_g',\n",
       "       'ferr_ap_gpc1_g', 'm_ap_gpc1_g', 'merr_ap_gpc1_g', 'f_gpc1_g',\n",
       "       'ferr_gpc1_g', 'm_gpc1_g', 'merr_gpc1_g', 'flag_gpc1_g',\n",
       "       'f_ap_gpc1_r', 'ferr_ap_gpc1_r', 'm_ap_gpc1_r', 'merr_ap_gpc1_r',\n",
       "       'f_gpc1_r', 'ferr_gpc1_r', 'm_gpc1_r', 'merr_gpc1_r', 'flag_gpc1_r',\n",
       "       'f_ap_gpc1_i', 'ferr_ap_gpc1_i', 'm_ap_gpc1_i', 'merr_ap_gpc1_i',\n",
       "       'f_gpc1_i', 'ferr_gpc1_i', 'm_gpc1_i', 'merr_gpc1_i', 'flag_gpc1_i',\n",
       "       'f_ap_gpc1_z', 'ferr_ap_gpc1_z', 'm_ap_gpc1_z', 'merr_ap_gpc1_z',\n",
       "       'f_gpc1_z', 'ferr_gpc1_z', 'm_gpc1_z', 'merr_gpc1_z', 'flag_gpc1_z',\n",
       "       'f_ap_gpc1_y', 'ferr_ap_gpc1_y', 'm_ap_gpc1_y', 'merr_ap_gpc1_y',\n",
       "       'f_gpc1_y', 'ferr_gpc1_y', 'm_gpc1_y', 'merr_gpc1_y', 'flag_gpc1_y',\n",
       "       'f_ap_cfht_megacam_u', 'ferr_ap_cfht_megacam_u',\n",
       "       'm_ap_cfht_megacam_u', 'merr_ap_cfht_megacam_u', 'f_cfht_megacam_u',\n",
       "       'ferr_cfht_megacam_u', 'm_cfht_megacam_u', 'merr_cfht_megacam_u',\n",
       "       'flag_cfht_megacam_u', 'f_ap_cfht_megacam_g',\n",
       "       'ferr_ap_cfht_megacam_g', 'm_ap_cfht_megacam_g',\n",
       "       'merr_ap_cfht_megacam_g', 'f_cfht_megacam_g', 'ferr_cfht_megacam_g',\n",
       "       'm_cfht_megacam_g', 'merr_cfht_megacam_g', 'flag_cfht_megacam_g',\n",
       "       'f_ap_cfht_megacam_r', 'ferr_ap_cfht_megacam_r',\n",
       "       'm_ap_cfht_megacam_r', 'merr_ap_cfht_megacam_r', 'f_cfht_megacam_r',\n",
       "       'ferr_cfht_megacam_r', 'm_cfht_megacam_r', 'merr_cfht_megacam_r',\n",
       "       'flag_cfht_megacam_r', 'f_ap_cfht_megacam_z',\n",
       "       'ferr_ap_cfht_megacam_z', 'm_ap_cfht_megacam_z',\n",
       "       'merr_ap_cfht_megacam_z', 'f_cfht_megacam_z', 'ferr_cfht_megacam_z',\n",
       "       'm_cfht_megacam_z', 'merr_cfht_megacam_z', 'flag_cfht_megacam_z',\n",
       "       'f_ap_ukidss_j', 'ferr_ap_ukidss_j', 'm_ap_ukidss_j',\n",
       "       'merr_ap_ukidss_j', 'f_ukidss_j', 'ferr_ukidss_j', 'm_ukidss_j',\n",
       "       'merr_ukidss_j', 'flag_ukidss_j', 'f_ap_ukidss_k',\n",
       "       'ferr_ap_ukidss_k', 'm_ap_ukidss_k', 'merr_ap_ukidss_k',\n",
       "       'f_ukidss_k', 'ferr_ukidss_k', 'm_ukidss_k', 'merr_ukidss_k',\n",
       "       'flag_ukidss_k', 'f_ap_irac3', 'ferr_ap_irac3', 'm_ap_irac3',\n",
       "       'merr_ap_irac3', 'f_irac3', 'ferr_irac3', 'm_irac3', 'merr_irac3',\n",
       "       'flag_irac3', 'f_ap_irac4', 'ferr_ap_irac4', 'm_ap_irac4',\n",
       "       'merr_ap_irac4', 'f_irac4', 'ferr_irac4', 'm_irac4', 'merr_irac4',\n",
       "       'flag_irac4', 'f_ap_irac1', 'ferr_ap_irac1', 'm_ap_irac1',\n",
       "       'merr_ap_irac1', 'f_irac1', 'ferr_irac1', 'm_irac1', 'merr_irac1',\n",
       "       'flag_irac1', 'f_ap_irac2', 'ferr_ap_irac2', 'm_ap_irac2',\n",
       "       'merr_ap_irac2', 'f_irac2', 'ferr_irac2', 'm_irac2', 'merr_irac2',\n",
       "       'flag_irac2', 'stellarity', 'flag_cleaned', 'flag_merged',\n",
       "       'flag_gaia', 'flag_optnir_obs', 'flag_optnir_det', 'ebv'],\n",
       "      dtype='<U22')"
      ]
     },
     "execution_count": 18,
     "metadata": {},
     "output_type": "execute_result"
    }
   ],
   "source": [
    "np.array(irac_data.colnames)"
   ]
  },
  {
   "cell_type": "code",
   "execution_count": 19,
   "metadata": {
    "collapsed": true
   },
   "outputs": [],
   "source": [
    "len(irac_data['f_irac1'][irac_data['f_irac1'] == np.nan])\n",
    "a = irac_data['f_irac1'][0]\n",
    "len(irac_data['f_irac1'][irac_data['f_irac1'] == a])\n",
    "b = irac_data['f_irac1'][1]\n",
    "irac0 = []\n",
    "iracnon0 = []\n",
    "for n in range(len(irac_data['f_irac1'])):\n",
    "    total = 0\n",
    "    if np.isnan(irac_data['f_irac1'][n]) == True:\n",
    "        if np.isnan(irac_data['f_irac2'][n]) == False:\n",
    "            total = total + irac_data['f_irac2'][n]\n",
    "        if np.isnan(irac_data['f_irac3'][n]) == False:\n",
    "            total = total + irac_data['f_irac3'][n]\n",
    "        if np.isnan(irac_data['f_irac4'][n]) == False:\n",
    "            total = total + irac_data['f_irac4'][n]\n",
    "        irac0.append(total)\n",
    "    \n",
    "    else:\n",
    "        total = total + irac_data['f_irac1'][n]\n",
    "        if np.isnan(irac_data['f_irac2'][n]) == False:\n",
    "            total = total + irac_data['f_irac2'][n]\n",
    "        if np.isnan(irac_data['f_irac3'][n]) == False:\n",
    "            total = total + irac_data['f_irac3'][n]\n",
    "        if np.isnan(irac_data['f_irac4'][n]) == False:\n",
    "            total = total + irac_data['f_irac4'][n]\n",
    "        iracnon0.append(total)\n",
    "        "
   ]
  },
  {
   "cell_type": "code",
   "execution_count": 20,
   "metadata": {
    "collapsed": true
   },
   "outputs": [],
   "source": [
    "for n in range(len(irac0)):\n",
    "    if irac0[n] <=0:\n",
    "        irac0[n] = 0.01\n",
    "for n in range(len(iracnon0)):\n",
    "    if iracnon0[n] <=0:\n",
    "        iracnon0[n] = 0.01"
   ]
  },
  {
   "cell_type": "code",
   "execution_count": 21,
   "metadata": {},
   "outputs": [
    {
     "data": {
      "text/plain": [
       "Text(0.5,0,'log(combined irac flux in all four bands)')"
      ]
     },
     "execution_count": 21,
     "metadata": {},
     "output_type": "execute_result"
    },
    {
     "data": {
      "image/png": "[encoded data removed]",
      "text/plain": [
       "<matplotlib.figure.Figure at 0x1112e2b38>"
      ]
     },
     "metadata": {},
     "output_type": "display_data"
    }
   ],
   "source": [
    "plt.hist(np.log(irac0),bins=100)\n",
    "plt.hist(np.log(iracnon0),bins = 100,alpha= 0.3)\n",
    "plt.xlim(-3,10)\n",
    "plt.ylim(0,100000)\n",
    "plt.xlabel('log(combined irac flux in all four bands)')"
   ]
  },
  {
   "cell_type": "markdown",
   "metadata": {},
   "source": [
    "### Filter catalogues"
   ]
  },
  {
   "cell_type": "code",
   "execution_count": 22,
   "metadata": {},
   "outputs": [
    {
     "name": "stdout",
     "output_type": "stream",
     "text": [
      "filtering in a MOC\n",
      "7685\n"
     ]
    },
    {
     "data": {
      "text/plain": [
       "7685"
      ]
     },
     "execution_count": 22,
     "metadata": {},
     "output_type": "execute_result"
    }
   ],
   "source": [
    "lofar = field.filter_catalogue(lofar_150mhz, colnames=('RA','DEC'))\n",
    "lofar = lofar[lofar['Maj']<30]\n",
    "len(lofar)"
   ]
  },
  {
   "cell_type": "code",
   "execution_count": 23,
   "metadata": {},
   "outputs": [
    {
     "name": "stdout",
     "output_type": "stream",
     "text": [
      "filtering in a MOC\n",
      "1125259\n"
     ]
    },
    {
     "data": {
      "text/plain": [
       "1125259"
      ]
     },
     "execution_count": 23,
     "metadata": {},
     "output_type": "execute_result"
    }
   ],
   "source": [
    "# currently filters in a rectangular area around the sources and does not \n",
    "#use a moc as the filter in a moc function wasn't working for some reason\n",
    "combined = field.filter_catalogue(irac_data, colnames=('ra','dec'))\n",
    "len(combined)"
   ]
  },
  {
   "cell_type": "code",
   "execution_count": 24,
   "metadata": {},
   "outputs": [
    {
     "data": {
      "text/plain": [
       "<matplotlib.collections.PathCollection at 0x151bd27438>"
      ]
     },
     "execution_count": 24,
     "metadata": {},
     "output_type": "execute_result"
    },
    {
     "data": {
      "image/png": "[encoded data removed]",
      "text/plain": [
       "<matplotlib.figure.Figure at 0x151bbdbeb8>"
      ]
     },
     "metadata": {},
     "output_type": "display_data"
    }
   ],
   "source": [
    "plt.scatter(irac_data['ra'],irac_data['dec'],s=0.1)\n",
    "plt.scatter(lofar_150mhz['RA'],lofar_150mhz['DEC'],s=0.1,alpha= 0.4)\n",
    "#plt.xlim(150,170)\n",
    "#plt.ylim(50,70)"
   ]
  },
  {
   "cell_type": "code",
   "execution_count": 25,
   "metadata": {},
   "outputs": [
    {
     "data": {
      "text/plain": [
       "<matplotlib.collections.PathCollection at 0x151bc00128>"
      ]
     },
     "execution_count": 25,
     "metadata": {},
     "output_type": "execute_result"
    },
    {
     "data": {
      "image/png": "[encoded data removed]",
      "text/plain": [
       "<matplotlib.figure.Figure at 0x151bf3f9e8>"
      ]
     },
     "metadata": {},
     "output_type": "display_data"
    }
   ],
   "source": [
    "plt.scatter(combined['ra'],combined['dec'],s=0.1)\n",
    "plt.scatter(lofar['RA'],lofar['DEC'],s=0.1)\n",
    "#plt.xlim(159.5,165)\n",
    "#plt.ylim(55,63)"
   ]
  },
  {
   "cell_type": "markdown",
   "metadata": {},
   "source": [
    "### Additional data"
   ]
  },
  {
   "cell_type": "markdown",
   "metadata": {},
   "source": [
    "### Sky coordinates"
   ]
  },
  {
   "cell_type": "code",
   "execution_count": 26,
   "metadata": {
    "collapsed": true
   },
   "outputs": [],
   "source": [
    "coords_combined = SkyCoord(combined['ra'], \n",
    "                           combined['dec'], \n",
    "                           unit=(u.deg, u.deg), \n",
    "                           frame='icrs')"
   ]
  },
  {
   "cell_type": "code",
   "execution_count": 27,
   "metadata": {
    "collapsed": true
   },
   "outputs": [],
   "source": [
    "coords_lofar = SkyCoord(lofar['RA'], \n",
    "                       lofar['DEC'], \n",
    "                       unit=(u.deg, u.deg), \n",
    "                       frame='icrs')"
   ]
  },
  {
   "cell_type": "markdown",
   "metadata": {},
   "source": [
    "### Class of sources in the combined catalogue\n",
    "\n",
    "The sources are grouped depending on the available photometric data."
   ]
  },
  {
   "cell_type": "markdown",
   "metadata": {},
   "source": [
    "## Description"
   ]
  },
  {
   "cell_type": "markdown",
   "metadata": {},
   "source": [
    "### Sky coverage"
   ]
  },
  {
   "cell_type": "code",
   "execution_count": 28,
   "metadata": {},
   "outputs": [
    {
     "data": {
      "image/png": "[encoded data removed]",
      "text/plain": [
       "<matplotlib.figure.Figure at 0x151bdc5be0>"
      ]
     },
     "metadata": {},
     "output_type": "display_data"
    }
   ],
   "source": [
    "plt.rcParams[\"figure.figsize\"] = (15,5)\n",
    "plot(lofar[\"RA\"],\n",
    "     lofar[\"DEC\"],\n",
    "     ls=\"\", marker=\",\");"
   ]
  },
  {
   "cell_type": "code",
   "execution_count": 29,
   "metadata": {},
   "outputs": [
    {
     "data": {
      "image/png": "[encoded data removed]",
      "text/plain": [
       "<matplotlib.figure.Figure at 0x151bb8c3c8>"
      ]
     },
     "metadata": {},
     "output_type": "display_data"
    }
   ],
   "source": [
    "plt.rcParams[\"figure.figsize\"] = (8,5)\n",
    "plot(lofar[\"RA\"],\n",
    "     lofar[\"DEC\"],\n",
    "     ls=\"\", marker=\",\");"
   ]
  },
  {
   "cell_type": "code",
   "execution_count": 30,
   "metadata": {},
   "outputs": [
    {
     "data": {
      "text/plain": [
       "7685"
      ]
     },
     "execution_count": 30,
     "metadata": {},
     "output_type": "execute_result"
    }
   ],
   "source": [
    "len(lofar)"
   ]
  },
  {
   "cell_type": "code",
   "execution_count": 31,
   "metadata": {
    "collapsed": true
   },
   "outputs": [],
   "source": [
    "combined[\"f_irac1\"][np.isnan(combined[\"f_irac1\"])] = 0"
   ]
  },
  {
   "cell_type": "code",
   "execution_count": 32,
   "metadata": {},
   "outputs": [
    {
     "data": {
      "text/plain": [
       "20294114.613391686"
      ]
     },
     "execution_count": 32,
     "metadata": {},
     "output_type": "execute_result"
    }
   ],
   "source": [
    "sum(combined['f_irac1'])"
   ]
  },
  {
   "cell_type": "markdown",
   "metadata": {},
   "source": [
    "### Summary of galaxy types in the combined catalogue"
   ]
  },
  {
   "cell_type": "code",
   "execution_count": 123,
   "metadata": {},
   "outputs": [
    {
     "data": {
      "text/plain": [
       "(0, 10000)"
      ]
     },
     "execution_count": 123,
     "metadata": {},
     "output_type": "execute_result"
    },
    {
     "data": {
      "image/png": "[encoded data removed]",
      "text/plain": [
       "<matplotlib.figure.Figure at 0x15218fc320>"
      ]
     },
     "metadata": {},
     "output_type": "display_data"
    }
   ],
   "source": [
    "plt.rcParams[\"figure.figsize\"] = (15,5)\n",
    "subplot(1,3,1)\n",
    "hist(combined[\"f_irac1\"], bins=100000)\n",
    "xlabel(\"i\")\n",
    "xlim(0,1000)\n",
    "ylim(0,10000)\n",
    "#subplot(1,3,2)\n",
    "#hist(combined[\"W1mag\"][combined_matched], bins=50)\n",
    "#xlabel(\"W1\")\n",
    "#subplot(1,3,3)\n",
    "#hist((combined[\"i\"] - combined[\"W1mag\"])[combined_matched], bins=50)\n",
    "#xlabel(\"(i - W1)\");"
   ]
  },
  {
   "cell_type": "markdown",
   "metadata": {
    "collapsed": true
   },
   "source": [
    "## Maximum Likelihood 1st"
   ]
  },
  {
   "cell_type": "markdown",
   "metadata": {},
   "source": [
    "### i-band preparation"
   ]
  },
  {
   "cell_type": "code",
   "execution_count": 34,
   "metadata": {
    "collapsed": true
   },
   "outputs": [],
   "source": [
    "catalogue_i = combined"
   ]
  },
  {
   "cell_type": "code",
   "execution_count": 35,
   "metadata": {
    "collapsed": true
   },
   "outputs": [],
   "source": [
    "bin_list_i = np.linspace(0., 200., 401) # Bins of 0.5"
   ]
  },
  {
   "cell_type": "code",
   "execution_count": 36,
   "metadata": {
    "collapsed": true
   },
   "outputs": [],
   "source": [
    "center_i = get_center(bin_list_i)\n",
    "# get the mid point of each bin i.e if there is a bin from 1 to 4 then the centre will be at 2.5"
   ]
  },
  {
   "cell_type": "code",
   "execution_count": 37,
   "metadata": {},
   "outputs": [
    {
     "data": {
      "text/plain": [
       "111.62175157946486"
      ]
     },
     "execution_count": 37,
     "metadata": {},
     "output_type": "execute_result"
    }
   ],
   "source": [
    "np.percentile(catalogue_i['f_irac1'],99)"
   ]
  },
  {
   "cell_type": "code",
   "execution_count": 38,
   "metadata": {
    "collapsed": true
   },
   "outputs": [],
   "source": [
    "#although the field was filtered in a rectangle around the sources the area is calcukated from the moc so is accurate\n",
    "n_m_i = get_n_m(catalogue_i[\"f_irac1\"], bin_list_i, field.area)\n",
    "# get a cumulative distribution of the magnitudes divided by the field area"
   ]
  },
  {
   "cell_type": "code",
   "execution_count": 39,
   "metadata": {},
   "outputs": [
    {
     "data": {
      "image/png": "[encoded data removed]",
      "text/plain": [
       "<matplotlib.figure.Figure at 0x151d0864e0>"
      ]
     },
     "metadata": {},
     "output_type": "display_data"
    }
   ],
   "source": [
    "plt.rcParams[\"figure.figsize\"] = (5,5)\n",
    "plot(center_i, n_m_i);"
   ]
  },
  {
   "cell_type": "code",
   "execution_count": 40,
   "metadata": {
    "collapsed": true
   },
   "outputs": [],
   "source": [
    "q_m_i = estimate_q_m(catalogue_i[\"f_irac1\"], bin_list_i, n_m_i, coords_lofar, coords_combined, radius=5)"
   ]
  },
  {
   "cell_type": "code",
   "execution_count": 41,
   "metadata": {},
   "outputs": [
    {
     "data": {
      "image/png": "[encoded data removed]",
      "text/plain": [
       "<matplotlib.figure.Figure at 0x111682198>"
      ]
     },
     "metadata": {},
     "output_type": "display_data"
    }
   ],
   "source": [
    "plt.rcParams[\"figure.figsize\"] = (5,5)\n",
    "plot(center_i, q_m_i);"
   ]
  },
  {
   "cell_type": "markdown",
   "metadata": {},
   "source": [
    "### $Q_0$ and likelihood estimators"
   ]
  },
  {
   "cell_type": "code",
   "execution_count": 42,
   "metadata": {
    "collapsed": true
   },
   "outputs": [],
   "source": [
    "# Old\n",
    "Q0_i = 0.545\n",
    "Q0_w1 = 0.77\n",
    "# Better Q0\n",
    "Q0_i = 0.877\n",
    "Q0_w1 = 0.699\n",
    "q0 = Q0_i"
   ]
  },
  {
   "cell_type": "code",
   "execution_count": 43,
   "metadata": {
    "collapsed": true
   },
   "outputs": [],
   "source": [
    "likelihood_ratio_i = SingleMLEstimator(Q0_i, n_m_i, q_m_i, center_i)"
   ]
  },
  {
   "cell_type": "markdown",
   "metadata": {},
   "source": [
    "### i-band match"
   ]
  },
  {
   "cell_type": "code",
   "execution_count": 44,
   "metadata": {
    "collapsed": true
   },
   "outputs": [],
   "source": [
    "radius = 10"
   ]
  },
  {
   "cell_type": "code",
   "execution_count": 45,
   "metadata": {
    "collapsed": true
   },
   "outputs": [],
   "source": [
    "idx_lofar, idx_i, d2d, d3d = search_around_sky(\n",
    "    coords_lofar, coords_combined, radius*u.arcsec)"
   ]
  },
  {
   "cell_type": "code",
   "execution_count": 46,
   "metadata": {},
   "outputs": [
    {
     "data": {
      "text/plain": [
       "array([   1511,   23136,  135706,  303146,  335781,  422373,  637736,\n",
       "       1011367, 1043681, 1109627])"
      ]
     },
     "execution_count": 46,
     "metadata": {},
     "output_type": "execute_result"
    }
   ],
   "source": [
    "idx_lofar_unique = np.unique(idx_lofar)\n",
    "idx_i[idx_lofar == 3]"
   ]
  },
  {
   "cell_type": "code",
   "execution_count": 47,
   "metadata": {},
   "outputs": [
    {
     "data": {
      "text/plain": [
       "array([   0,    1,    2, ..., 7682, 7683, 7684])"
      ]
     },
     "execution_count": 47,
     "metadata": {},
     "output_type": "execute_result"
    }
   ],
   "source": [
    "idx_lofar_unique"
   ]
  },
  {
   "cell_type": "code",
   "execution_count": 48,
   "metadata": {
    "collapsed": true
   },
   "outputs": [],
   "source": [
    "lofar[\"lr_i\"] = np.nan                   # Likelihood ratio\n",
    "lofar[\"lr_dist_i\"] = np.nan              # Distance to the selected source\n",
    "lofar[\"lr_index_i\"] = np.nan             # Index of the PanSTARRS source in combined"
   ]
  },
  {
   "cell_type": "code",
   "execution_count": 49,
   "metadata": {
    "collapsed": true
   },
   "outputs": [],
   "source": [
    "total_sources = len(idx_lofar_unique)\n",
    "combined_aux_index = np.arange(len(combined))"
   ]
  },
  {
   "cell_type": "code",
   "execution_count": 50,
   "metadata": {
    "collapsed": true
   },
   "outputs": [],
   "source": [
    "def ml(i):\n",
    "\n",
    "#    print(i)\n",
    "#    print(idx_lofar==i)\n",
    "    \n",
    "    idx_0 = idx_i[idx_lofar == i]\n",
    "#    print(idx_0)\n",
    "    d2d_0 = d2d[idx_lofar == i]\n",
    "#    print(d2d_0)\n",
    "#    i_mag = catalogue_i[\"flux_aper_1\"][idx_0]\n",
    "#    print(i_mag)\n",
    "#    i_mag = catalogue_i[\"flux_aper_2\"][idx_0]\n",
    "#    print(i_mag)\n",
    "#    i_mag = catalogue_i[\"flux_aper_3\"][idx_0]\n",
    "#    print(i_mag)\n",
    "#    i_mag = catalogue_i[\"flux_aper_4\"][idx_0]\n",
    "#    print(i_mag)\n",
    "#    i_mag = catalogue_i[\"flux_aper_5\"][idx_0]\n",
    "#    print(i_mag)\n",
    "    i_mag = catalogue_i[\"f_irac1\"][idx_0]\n",
    "    \n",
    "    \n",
    "    lofar_ra = lofar[i][\"RA\"]\n",
    "    lofar_dec = lofar[i][\"DEC\"]\n",
    "    lofar_pa = lofar[i][\"PA\"]\n",
    "    lofar_maj_err = lofar[i][\"E_Maj\"]\n",
    "    lofar_min_err = lofar[i][\"E_Min\"]\n",
    "    c_ra = catalogue_i[\"ra\"][idx_0]\n",
    "    c_dec = catalogue_i[\"dec\"][idx_0]\n",
    "#    c_ra_err = catalogue_i[\"raErr\"][idx_0]\n",
    "    c_ra_err = 1/3600\n",
    "#    c_dec_err = catalogue_i[\"decErr\"][idx_0]\n",
    "    c_dec_err = 1/3600\n",
    "    \n",
    "    sigma = get_sigma(lofar_maj_err, lofar_min_err, lofar_pa, \n",
    "                      lofar_ra, lofar_dec, \n",
    "                      c_ra, c_dec, c_ra_err, c_dec_err)\n",
    "    \n",
    "    lr_0 = likelihood_ratio_i(i_mag, d2d_0.arcsec, sigma)\n",
    "#    print (lr_0)\n",
    "    \n",
    "    if len(lr_0) == 0:\n",
    "        result = [nan,nan,nan]\n",
    "        return result\n",
    "    chosen_index = np.argmax(lr_0)\n",
    "    result = [combined_aux_index[idx_0[chosen_index]], # Index\n",
    "              (d2d_0.arcsec)[chosen_index],                        # distance\n",
    "              lr_0[chosen_index],(i_mag[chosen_index])]                                  # LR\n",
    "\n",
    "    return result"
   ]
  },
  {
   "cell_type": "code",
   "execution_count": 51,
   "metadata": {
    "collapsed": true
   },
   "outputs": [],
   "source": [
    "res = []\n",
    "nomatches = 0\n",
    "for i in range(len(lofar)):\n",
    "    result = ml(i)\n",
    "    if result == [nan,nan,nan]:\n",
    "        nomatches = nomatches + 1\n",
    "        continue\n",
    "    res.append(result)\n"
   ]
  },
  {
   "cell_type": "code",
   "execution_count": 52,
   "metadata": {},
   "outputs": [
    {
     "name": "stdout",
     "output_type": "stream",
     "text": [
      "0\n",
      "7685\n",
      "7685\n"
     ]
    }
   ],
   "source": [
    "print(nomatches)\n",
    "print(len(res))\n",
    "print(len(lofar[\"lr_index_i\"][idx_lofar_unique]))"
   ]
  },
  {
   "cell_type": "code",
   "execution_count": 53,
   "metadata": {
    "collapsed": true
   },
   "outputs": [],
   "source": [
    "(lofar[\"lr_index_i\"][idx_lofar_unique], \n",
    " lofar[\"lr_dist_i\"][idx_lofar_unique], \n",
    " lofar[\"lr_i\"][idx_lofar_unique],\n",
    " lofar['lr_i_flux']) = list(map(list, zip(*res)))"
   ]
  },
  {
   "cell_type": "markdown",
   "metadata": {},
   "source": [
    "#### Threshold and selection for i-band"
   ]
  },
  {
   "cell_type": "code",
   "execution_count": 54,
   "metadata": {
    "collapsed": true
   },
   "outputs": [],
   "source": [
    "lofar[\"lr_i\"][np.isnan(lofar[\"lr_i\"])] = 0"
   ]
  },
  {
   "cell_type": "code",
   "execution_count": 55,
   "metadata": {},
   "outputs": [
    {
     "data": {
      "text/plain": [
       "0.877"
      ]
     },
     "execution_count": 55,
     "metadata": {},
     "output_type": "execute_result"
    }
   ],
   "source": [
    "#threshold is taken for sources whose likelihood is greater than 0\n",
    "threshold_i = np.percentile(lofar[lofar['lr_i'] !=0][\"lr_i\"], 100*(1 - Q0_i))\n",
    "#threshold_i = np.percentile([\"lr_i\"], 100*(1 - Q0_i))\n",
    "Q0_i"
   ]
  },
  {
   "cell_type": "code",
   "execution_count": 56,
   "metadata": {},
   "outputs": [
    {
     "data": {
      "text/plain": [
       "5.7727465593234042"
      ]
     },
     "execution_count": 56,
     "metadata": {},
     "output_type": "execute_result"
    }
   ],
   "source": [
    "threshold_i"
   ]
  },
  {
   "cell_type": "code",
   "execution_count": 57,
   "metadata": {},
   "outputs": [
    {
     "data": {
      "image/png": "[encoded data removed]",
      "text/plain": [
       "<matplotlib.figure.Figure at 0x151c960c50>"
      ]
     },
     "metadata": {},
     "output_type": "display_data"
    }
   ],
   "source": [
    "plt.rcParams[\"figure.figsize\"] = (15,6)\n",
    "subplot(1,2,1)\n",
    "hist(lofar[lofar[\"lr_i\"] != 0][\"lr_i\"], bins=200)\n",
    "vlines([threshold_i], 0, 1000)\n",
    "ylim([0,100])\n",
    "subplot(1,2,2)\n",
    "hist(np.log10(lofar[lofar[\"lr_i\"] != 0][\"lr_i\"]+1), bins=200)\n",
    "vlines(np.log10(threshold_i+1), 0, 1000)\n",
    "ticks, _ = xticks()\n",
    "xticks(ticks, [\"{:.1f}\".format(10**t-1) for t in ticks])\n",
    "ylim([0,100]);"
   ]
  },
  {
   "cell_type": "code",
   "execution_count": 58,
   "metadata": {
    "collapsed": true
   },
   "outputs": [],
   "source": [
    "lofar[\"lrt\"] = lofar[\"lr_i\"]\n",
    "lofar[\"lrt\"][np.isnan(lofar[\"lr_i\"])] = 0"
   ]
  },
  {
   "cell_type": "code",
   "execution_count": 59,
   "metadata": {
    "collapsed": true
   },
   "outputs": [],
   "source": [
    "def completeness(lr, threshold, q0):\n",
    "    n = len(lr)\n",
    "    lrt = lr[lr < threshold]\n",
    "    return 1. - np.sum((q0 * lrt)/(q0 * lrt + (1 - q0)))/float(n)\n",
    "\n",
    "def reliability(lr, threshold, q0):\n",
    "    n = len(lr)\n",
    "    lrt = lr[lr > threshold]\n",
    "    return 1. - np.sum((1. - q0)/(q0 * lrt + (1 - q0)))/float(n)\n",
    "\n",
    "completeness_v = np.vectorize(completeness, excluded=[0])\n",
    "reliability_v = np.vectorize(reliability, excluded=[0])"
   ]
  },
  {
   "cell_type": "code",
   "execution_count": 60,
   "metadata": {
    "collapsed": true
   },
   "outputs": [],
   "source": [
    "n_test = 100\n",
    "threshold_mean = np.percentile(lofar[\"lrt\"], 100*(1 - q0))"
   ]
  },
  {
   "cell_type": "code",
   "execution_count": 61,
   "metadata": {
    "collapsed": true
   },
   "outputs": [],
   "source": [
    "thresholds = np.arange(0., 10., 0.01)\n",
    "thresholds_fine = np.arange(0.1, 1., 0.001)"
   ]
  },
  {
   "cell_type": "code",
   "execution_count": 62,
   "metadata": {
    "collapsed": true
   },
   "outputs": [],
   "source": [
    "completeness_t = completeness_v(lofar[\"lrt\"], thresholds, q0)\n",
    "reliability_t = reliability_v(lofar[\"lrt\"], thresholds, q0)\n",
    "average_t = (completeness_t + reliability_t)/2"
   ]
  },
  {
   "cell_type": "code",
   "execution_count": 63,
   "metadata": {
    "collapsed": true
   },
   "outputs": [],
   "source": [
    "completeness_t_fine = completeness_v(lofar[\"lrt\"], thresholds_fine, q0)\n",
    "reliability_t_fine = reliability_v(lofar[\"lrt\"], thresholds_fine, q0)\n",
    "average_t_fine = (completeness_t_fine + reliability_t_fine)/2"
   ]
  },
  {
   "cell_type": "code",
   "execution_count": 64,
   "metadata": {
    "collapsed": true
   },
   "outputs": [],
   "source": [
    "threshold_sel = thresholds_fine[np.argmax(average_t_fine)]"
   ]
  },
  {
   "cell_type": "code",
   "execution_count": 65,
   "metadata": {},
   "outputs": [
    {
     "data": {
      "text/plain": [
       "Text(0,0.5,'Completeness/Reliability')"
      ]
     },
     "execution_count": 65,
     "metadata": {},
     "output_type": "execute_result"
    },
    {
     "data": {
      "image/png": "[encoded data removed]",
      "text/plain": [
       "<matplotlib.figure.Figure at 0x151cfd04a8>"
      ]
     },
     "metadata": {},
     "output_type": "display_data"
    }
   ],
   "source": [
    "plt.rcParams[\"figure.figsize\"] = (15,6)\n",
    "subplot(1,2,1)\n",
    "plot(thresholds, completeness_t, \"r-\")\n",
    "plot(thresholds, reliability_t, \"g-\")\n",
    "plot(thresholds, average_t, \"k-\")\n",
    "vlines(threshold_sel, 0.9, 1., \"k\", linestyles=\"dashed\")\n",
    "vlines(threshold_mean, 0.9, 1., \"y\", linestyles=\"dashed\")\n",
    "ylim([0.9, 1.])\n",
    "xlabel(\"Threshold\")\n",
    "ylabel(\"Completeness/Reliability\")\n",
    "subplot(1,2,2)\n",
    "plot(thresholds_fine, completeness_t_fine, \"r-\")\n",
    "plot(thresholds_fine, reliability_t_fine, \"g-\")\n",
    "plot(thresholds_fine, average_t_fine, \"k-\")\n",
    "vlines(threshold_sel, 0.9, 1., \"k\", linestyles=\"dashed\")\n",
    "#vlines(threshold_mean, 0.9, 1., \"y\", linestyles=\"dashed\")\n",
    "ylim([0.97, 1.])\n",
    "xlabel(\"Threshold\")\n",
    "ylabel(\"Completeness/Reliability\")"
   ]
  },
  {
   "cell_type": "code",
   "execution_count": 66,
   "metadata": {},
   "outputs": [
    {
     "data": {
      "text/plain": [
       "[<matplotlib.lines.Line2D at 0x15228a5da0>]"
      ]
     },
     "execution_count": 66,
     "metadata": {},
     "output_type": "execute_result"
    },
    {
     "data": {
      "image/png": "[encoded data removed]",
      "text/plain": [
       "<matplotlib.figure.Figure at 0x151c983a58>"
      ]
     },
     "metadata": {},
     "output_type": "display_data"
    }
   ],
   "source": [
    "plt.rcParams[\"figure.figsize\"] = (15,6)\n",
    "plot(completeness_t,reliability_t)"
   ]
  },
  {
   "cell_type": "code",
   "execution_count": 67,
   "metadata": {},
   "outputs": [
    {
     "name": "stdout",
     "output_type": "stream",
     "text": [
      "0.138\n"
     ]
    }
   ],
   "source": [
    "print(threshold_sel)"
   ]
  },
  {
   "cell_type": "code",
   "execution_count": 68,
   "metadata": {},
   "outputs": [
    {
     "data": {
      "image/png": "[encoded data removed]",
      "text/plain": [
       "<matplotlib.figure.Figure at 0x152319e160>"
      ]
     },
     "metadata": {},
     "output_type": "display_data"
    }
   ],
   "source": [
    "plt.rcParams[\"figure.figsize\"] = (15,6)\n",
    "subplot(1,2,1)\n",
    "hist(lofar[lofar[\"lrt\"] != 0][\"lrt\"], bins=200)\n",
    "vlines([threshold_sel], 0, 500)\n",
    "ylim([0,300])\n",
    "subplot(1,2,2)\n",
    "hist(np.log10(lofar[lofar[\"lrt\"] != 0][\"lrt\"]+1), bins=200)\n",
    "vlines(np.log10(threshold_sel+1), 0, 500)\n",
    "ticks, _ = xticks()\n",
    "xticks(ticks, [\"{:.1f}\".format(10**t-1) for t in ticks])\n",
    "ylim([0,300]);"
   ]
  },
  {
   "cell_type": "code",
   "execution_count": 7,
   "metadata": {
    "collapsed": true
   },
   "outputs": [],
   "source": [
    "photoz = Table.read('/Users/ianmccheyne/Documents/phd/data/master_catalogue_Lockman-SWIRE_20170710_photoz_20170802_r_and_irac1_optimised.fits')"
   ]
  },
  {
   "cell_type": "code",
   "execution_count": 15,
   "metadata": {},
   "outputs": [
    {
     "data": {
      "text/html": [
       "&lt;Table length=8&gt;\n",
       "<table id=\"table90583161320\" class=\"table-striped table-bordered table-condensed\">\n",
       "<thead><tr><th>help_id</th><th>RA</th><th>DEC</th><th>id</th><th>z1_median</th><th>z1_min</th><th>z1_max</th><th>z1_area</th><th>z2_median</th><th>z2_min</th><th>z2_max</th><th>z2_area</th><th>za_hb</th><th>za_eazy</th><th>zm_eazy</th><th>zpeak_eazy</th><th>chi_r_eazy</th><th>l68_eazy</th><th>u68_eazy</th><th>nfilt_eazy</th><th>za_atlas</th><th>zm_atlas</th><th>zpeak_atlas</th><th>chi_r_atlas</th><th>l68_atlas</th><th>u68_atlas</th><th>nfilt_atlas</th><th>za_cosmos</th><th>zm_cosmos</th><th>zpeak_cosmos</th><th>chi_r_cosmos</th><th>l68_cosmos</th><th>u68_cosmos</th><th>nfilt_cosmos</th><th>chi_r_stellar</th><th>stellar_type</th></tr></thead>\n",
       "<thead><tr><th>str27</th><th>float64</th><th>float64</th><th>int64</th><th>float64</th><th>float64</th><th>float64</th><th>float64</th><th>float64</th><th>float64</th><th>float64</th><th>float64</th><th>float64</th><th>float64</th><th>float64</th><th>float64</th><th>float64</th><th>float64</th><th>float64</th><th>int64</th><th>float64</th><th>float64</th><th>float64</th><th>float64</th><th>float64</th><th>float64</th><th>int64</th><th>float64</th><th>float64</th><th>float64</th><th>float64</th><th>float64</th><th>float64</th><th>int64</th><th>float64</th><th>str6</th></tr></thead>\n",
       "<tr><td>HELP_J105455.339+572548.213</td><td>163.730578608</td><td>57.4300591879</td><td>127</td><td>0.2198</td><td>0.1874</td><td>0.2494</td><td>0.766</td><td>-99.0</td><td>-99.0</td><td>-99.0</td><td>-99.0</td><td>0.227149635921</td><td>4.153</td><td>4.158</td><td>4.1576</td><td>24.2823375</td><td>4.107</td><td>4.209</td><td>5</td><td>4.215</td><td>4.067</td><td>4.0672</td><td>22.9347525</td><td>3.763</td><td>4.255</td><td>5</td><td>4.107</td><td>3.898</td><td>3.8981</td><td>21.4151075</td><td>3.703</td><td>4.113</td><td>5</td><td>110.18145</td><td>k3i</td></tr>\n",
       "<tr><td>HELP_J105331.913+573410.713</td><td>163.382972069</td><td>57.5696425399</td><td>800</td><td>0.0801</td><td>0.0284</td><td>0.1386</td><td>0.783</td><td>-99.0</td><td>-99.0</td><td>-99.0</td><td>-99.0</td><td>0.0723968680483</td><td>2.751</td><td>2.503</td><td>2.7178</td><td>0.1155692</td><td>2.558</td><td>2.817</td><td>5</td><td>2.808</td><td>2.602</td><td>2.6199</td><td>0.2732135</td><td>2.413</td><td>2.817</td><td>5</td><td>2.023</td><td>2.168</td><td>2.1849</td><td>0.088402725</td><td>2.006</td><td>2.356</td><td>5</td><td>1.44887175</td><td>g0v</td></tr>\n",
       "<tr><td>HELP_J105527.800+575424.407</td><td>163.865835158</td><td>57.9067797839</td><td>2049</td><td>0.9878</td><td>0.8114</td><td>1.2207</td><td>0.793</td><td>-99.0</td><td>-99.0</td><td>-99.0</td><td>-99.0</td><td>0.855351841741</td><td>3.668</td><td>3.57</td><td>3.6845</td><td>40.3132</td><td>3.606</td><td>3.742</td><td>5</td><td>3.571</td><td>3.566</td><td>3.5667</td><td>38.761975</td><td>3.489</td><td>3.643</td><td>5</td><td>2.097</td><td>2.197</td><td>2.0877</td><td>41.809975</td><td>2.038</td><td>2.158</td><td>5</td><td>108.3082</td><td>b1i</td></tr>\n",
       "<tr><td>HELP_J104646.624+601224.028</td><td>161.694266613</td><td>60.2066745189</td><td>3148</td><td>0.0696</td><td>0.0253</td><td>0.115</td><td>0.781</td><td>-99.0</td><td>-99.0</td><td>-99.0</td><td>-99.0</td><td>0.053294796847</td><td>2.995</td><td>2.973</td><td>2.9736</td><td>1.84914925</td><td>2.871</td><td>3.074</td><td>5</td><td>2.565</td><td>2.596</td><td>2.6692</td><td>0.050988875</td><td>2.503</td><td>2.822</td><td>5</td><td>2.554</td><td>2.624</td><td>2.788</td><td>0.216888075</td><td>2.334</td><td>3.199</td><td>5</td><td>4.07228</td><td>k5v</td></tr>\n",
       "<tr><td>HELP_J105034.405+593434.787</td><td>162.64335526</td><td>59.5763297069</td><td>3151</td><td>0.7712</td><td>0.7475</td><td>0.7952</td><td>0.684</td><td>-99.0</td><td>-99.0</td><td>-99.0</td><td>-99.0</td><td>0.768525602462</td><td>3.091</td><td>3.101</td><td>3.1007</td><td>2.78713</td><td>3.064</td><td>3.137</td><td>5</td><td>3.116</td><td>3.121</td><td>3.1211</td><td>24.79483</td><td>3.087</td><td>3.157</td><td>5</td><td>2.181</td><td>2.219</td><td>2.1895</td><td>30.6239</td><td>2.146</td><td>2.237</td><td>5</td><td>57.492025</td><td>f0i</td></tr>\n",
       "<tr><td>HELP_J104700.697+603101.851</td><td>161.752905091</td><td>60.5171807769</td><td>3152</td><td>0.3288</td><td>0.2457</td><td>0.3875</td><td>0.672</td><td>0.1776</td><td>0.125</td><td>0.2345</td><td>0.117</td><td>0.318620779688</td><td>0.307</td><td>1.738</td><td>2.3391</td><td>0.3700905</td><td>0.313</td><td>2.412</td><td>5</td><td>2.005</td><td>2.246</td><td>2.1302</td><td>0.34619775</td><td>1.975</td><td>2.36</td><td>5</td><td>0.343</td><td>0.582</td><td>0.3368</td><td>0.230738975</td><td>0.319</td><td>0.367</td><td>5</td><td>10.98019</td><td>k4v</td></tr>\n",
       "<tr><td>HELP_J104700.735+601459.749</td><td>161.753062777</td><td>60.2499304079</td><td>4922</td><td>0.2286</td><td>0.001</td><td>0.583</td><td>0.798</td><td>-99.0</td><td>-99.0</td><td>-99.0</td><td>-99.0</td><td>0.148886156443</td><td>2.491</td><td>2.091</td><td>2.4759</td><td>0.00147433525</td><td>0.217</td><td>2.729</td><td>5</td><td>2.796</td><td>2.536</td><td>2.5509</td><td>0.071763075</td><td>2.108</td><td>2.881</td><td>5</td><td>2.023</td><td>2.041</td><td>2.1511</td><td>0.087912975</td><td>1.958</td><td>2.304</td><td>5</td><td>3.068795</td><td>wk0iii</td></tr>\n",
       "<tr><td>HELP_J104433.838+602158.646</td><td>161.140992438</td><td>60.3662905129</td><td>7675</td><td>1.9915</td><td>1.5641</td><td>2.4596</td><td>0.674</td><td>0.7688</td><td>0.6858</td><td>0.8498</td><td>0.063</td><td>1.9428624586</td><td>0.013</td><td>0.013</td><td>0.0134</td><td>19.00683</td><td>0.005</td><td>0.022</td><td>5</td><td>2.418</td><td>2.461</td><td>2.4612</td><td>34.892025</td><td>2.352</td><td>2.582</td><td>5</td><td>2.449</td><td>2.462</td><td>2.4615</td><td>39.02275</td><td>2.39</td><td>2.535</td><td>5</td><td>12.4638525</td><td>o5v</td></tr>\n",
       "</table>"
      ],
      "text/plain": [
       "<Table length=8>\n",
       "          help_id                 RA      ... chi_r_stellar stellar_type\n",
       "           str27               float64    ...    float64        str6    \n",
       "--------------------------- ------------- ... ------------- ------------\n",
       "HELP_J105455.339+572548.213 163.730578608 ...     110.18145          k3i\n",
       "HELP_J105331.913+573410.713 163.382972069 ...    1.44887175          g0v\n",
       "HELP_J105527.800+575424.407 163.865835158 ...      108.3082          b1i\n",
       "HELP_J104646.624+601224.028 161.694266613 ...       4.07228          k5v\n",
       "HELP_J105034.405+593434.787  162.64335526 ...     57.492025          f0i\n",
       "HELP_J104700.697+603101.851 161.752905091 ...      10.98019          k4v\n",
       "HELP_J104700.735+601459.749 161.753062777 ...      3.068795       wk0iii\n",
       "HELP_J104433.838+602158.646 161.140992438 ...    12.4638525          o5v"
      ]
     },
     "execution_count": 15,
     "metadata": {},
     "output_type": "execute_result"
    }
   ],
   "source": [
    "photoz[:8]"
   ]
  },
  {
   "cell_type": "code",
   "execution_count": 14,
   "metadata": {},
   "outputs": [
    {
     "data": {
      "text/plain": [
       "(0, 0.5)"
      ]
     },
     "execution_count": 14,
     "metadata": {},
     "output_type": "execute_result"
    },
    {
     "data": {
      "image/png": "[encoded data removed]",
      "text/plain": [
       "<matplotlib.figure.Figure at 0x1519eeba90>"
      ]
     },
     "metadata": {},
     "output_type": "display_data"
    }
   ],
   "source": [
    "plt.scatter(photoz['z1_area'],photoz['z2_area'],s=0.2)\n",
    "plt.plot([0,1],[1,0])\n",
    "plt.plot([0,1],[0,1])\n",
    "plt.xlim(0,1)\n",
    "plt.ylim(0,0.5)"
   ]
  },
  {
   "cell_type": "code",
   "execution_count": 77,
   "metadata": {},
   "outputs": [
    {
     "data": {
      "text/plain": [
       "['help_id',\n",
       " 'RA',\n",
       " 'DEC',\n",
       " 'id',\n",
       " 'z1_median',\n",
       " 'z1_min',\n",
       " 'z1_max',\n",
       " 'z1_area',\n",
       " 'z2_median',\n",
       " 'z2_min',\n",
       " 'z2_max',\n",
       " 'z2_area',\n",
       " 'za_hb',\n",
       " 'za_eazy',\n",
       " 'zm_eazy',\n",
       " 'zpeak_eazy',\n",
       " 'chi_r_eazy',\n",
       " 'l68_eazy',\n",
       " 'u68_eazy',\n",
       " 'nfilt_eazy',\n",
       " 'za_atlas',\n",
       " 'zm_atlas',\n",
       " 'zpeak_atlas',\n",
       " 'chi_r_atlas',\n",
       " 'l68_atlas',\n",
       " 'u68_atlas',\n",
       " 'nfilt_atlas',\n",
       " 'za_cosmos',\n",
       " 'zm_cosmos',\n",
       " 'zpeak_cosmos',\n",
       " 'chi_r_cosmos',\n",
       " 'l68_cosmos',\n",
       " 'u68_cosmos',\n",
       " 'nfilt_cosmos',\n",
       " 'chi_r_stellar',\n",
       " 'stellar_type']"
      ]
     },
     "execution_count": 77,
     "metadata": {},
     "output_type": "execute_result"
    }
   ],
   "source": [
    "photoz.colnames"
   ]
  },
  {
   "cell_type": "code",
   "execution_count": 102,
   "metadata": {},
   "outputs": [
    {
     "data": {
      "text/plain": [
       "['HELP_J105827.005+571136.076',\n",
       " 'HELP_J105823.704+571122.520',\n",
       " 'HELP_J105809.814+571337.554',\n",
       " 'HELP_J105803.375+571534.057',\n",
       " 'HELP_J105759.514+571605.275',\n",
       " 'HELP_J105753.346+571038.044',\n",
       " 'HELP_J105754.032+571726.816',\n",
       " 'HELP_J105751.170+571920.981',\n",
       " 'HELP_J105748.264+571508.964',\n",
       " 'HELP_J105746.450+571443.931',\n",
       " 'HELP_J105744.790+571623.497',\n",
       " 'HELP_J105742.864+571017.106',\n",
       " 'HELP_J105741.290+570818.094',\n",
       " 'HELP_J105742.699+571457.311',\n",
       " 'HELP_J105740.565+572042.845',\n",
       " 'HELP_J105737.001+571219.233',\n",
       " 'HELP_J105734.989+570726.413',\n",
       " 'HELP_J105735.926+571129.836',\n",
       " 'HELP_J105735.724+571327.880',\n",
       " 'HELP_J105735.632+571741.951',\n",
       " 'HELP_J105731.965+570720.057',\n",
       " 'HELP_J105727.273+571042.322',\n",
       " 'HELP_J105726.951+571130.783',\n",
       " 'HELP_J105726.042+571033.927',\n",
       " 'HELP_J105724.946+571206.571',\n",
       " 'HELP_J105724.391+571512.514',\n",
       " 'HELP_J105721.657+571244.403',\n",
       " 'HELP_J105720.708+571318.190',\n",
       " 'HELP_J105718.188+571011.936',\n",
       " 'HELP_J105716.672+571101.365',\n",
       " 'HELP_J105718.899+571903.971',\n",
       " 'HELP_J105719.079+572223.911',\n",
       " 'HELP_J105719.514+572315.953',\n",
       " 'HELP_J105712.328+570627.258',\n",
       " 'HELP_J105715.860+572314.249',\n",
       " 'HELP_J105711.640+571616.132',\n",
       " 'HELP_J105710.373+571651.653',\n",
       " 'HELP_J105704.701+570816.613',\n",
       " 'HELP_J105706.385+571527.009',\n",
       " 'HELP_J105702.681+570740.188',\n",
       " 'HELP_J105703.636+571553.952',\n",
       " 'HELP_J105659.545+571228.446',\n",
       " 'HELP_J105655.612+570739.620',\n",
       " 'HELP_J105701.226+572904.337',\n",
       " 'HELP_J105701.116+572919.578',\n",
       " 'HELP_J105701.601+573153.146',\n",
       " 'HELP_J105659.190+572445.192',\n",
       " 'HELP_J105700.760+573100.371',\n",
       " 'HELP_J105659.678+573311.629',\n",
       " 'HELP_J105655.948+571903.335',\n",
       " 'HELP_J105651.668+570523.587',\n",
       " 'HELP_J105655.871+572149.755',\n",
       " 'HELP_J105656.505+572828.442',\n",
       " 'HELP_J105650.258+570531.422',\n",
       " 'HELP_J105650.460+570817.608',\n",
       " 'HELP_J105651.135+571231.392',\n",
       " 'HELP_J105649.447+570725.614',\n",
       " 'HELP_J105652.006+572048.134',\n",
       " 'HELP_J105645.738+570800.732',\n",
       " 'HELP_J105648.179+571652.659',\n",
       " 'HELP_J105652.443+573337.100',\n",
       " 'HELP_J105645.988+571322.294',\n",
       " 'HELP_J105646.861+571829.993',\n",
       " 'HELP_J105650.181+573114.432',\n",
       " 'HELP_J105650.795+573322.507',\n",
       " 'HELP_J105646.114+571514.104',\n",
       " 'HELP_J105643.901+571315.187',\n",
       " 'HELP_J105642.404+570652.653',\n",
       " 'HELP_J105641.107+570404.842',\n",
       " 'HELP_J105644.029+571457.059',\n",
       " 'HELP_J105642.432+571057.595',\n",
       " 'HELP_J105647.088+572744.225',\n",
       " 'HELP_J105646.027+573522.599',\n",
       " 'HELP_J105640.844+571029.011',\n",
       " 'HELP_J105641.255+571414.874',\n",
       " 'HELP_J105642.863+571936.225',\n",
       " 'HELP_J105639.055+570750.669',\n",
       " 'HELP_J105644.058+572825.157',\n",
       " 'HELP_J105644.740+572929.165',\n",
       " 'HELP_J105639.957+571231.006',\n",
       " 'HELP_J105641.561+572226.569',\n",
       " 'HELP_J105637.855+570938.467',\n",
       " 'HELP_J105642.994+573123.092',\n",
       " 'HELP_J105636.006+570725.445',\n",
       " 'HELP_J105639.752+572452.000',\n",
       " 'HELP_J105641.220+573119.244',\n",
       " 'HELP_J105636.952+571704.007',\n",
       " 'HELP_J105635.114+571201.836',\n",
       " 'HELP_J105632.489+570402.465',\n",
       " 'HELP_J105634.327+571508.830',\n",
       " 'HELP_J105633.878+571433.088',\n",
       " 'HELP_J105633.567+571819.815',\n",
       " 'HELP_J105630.453+570710.679',\n",
       " 'HELP_J105629.962+570604.663',\n",
       " 'HELP_J105634.850+572740.296',\n",
       " 'HELP_J105636.938+573449.318',\n",
       " 'HELP_J105632.788+572021.422',\n",
       " 'HELP_J105634.568+572717.933',\n",
       " 'HELP_J105636.262+573309.332',\n",
       " 'HELP_J105635.571+573344.798',\n",
       " 'HELP_J105630.155+571428.619',\n",
       " 'HELP_J105629.931+571414.862',\n",
       " 'HELP_J105633.931+572942.363',\n",
       " 'HELP_J105627.437+570721.275',\n",
       " 'HELP_J105630.197+572528.919',\n",
       " 'HELP_J105632.549+573552.202',\n",
       " 'HELP_J105623.688+570334.150',\n",
       " 'HELP_J105630.374+573352.515',\n",
       " 'HELP_J105631.451+573708.371',\n",
       " 'HELP_J105625.849+571653.204',\n",
       " 'HELP_J105622.446+570459.424',\n",
       " 'HELP_J105622.352+570839.781',\n",
       " 'HELP_J105622.827+570953.892',\n",
       " 'HELP_J105622.487+571227.085',\n",
       " 'HELP_J105618.923+570340.436',\n",
       " 'HELP_J105628.129+573930.039',\n",
       " 'HELP_J105619.169+570530.690',\n",
       " 'HELP_J105624.280+572619.937',\n",
       " 'HELP_J105624.833+572809.454',\n",
       " 'HELP_J105620.574+571335.539',\n",
       " 'HELP_J105618.032+570510.931',\n",
       " 'HELP_J105622.206+572212.830',\n",
       " 'HELP_J105624.249+573309.315',\n",
       " 'HELP_J105624.359+573344.928',\n",
       " 'HELP_J105625.136+573722.553',\n",
       " 'HELP_J105624.323+573439.267',\n",
       " 'HELP_J105623.206+573355.466',\n",
       " 'HELP_J105624.839+573958.554',\n",
       " 'HELP_J105616.468+570922.716',\n",
       " 'HELP_J105614.981+570521.093',\n",
       " 'HELP_J105621.213+573333.618',\n",
       " 'HELP_J105616.344+571605.588',\n",
       " 'HELP_J105617.245+572145.963',\n",
       " 'HELP_J105616.823+572224.218',\n",
       " 'HELP_J105622.343+574210.156',\n",
       " 'HELP_J105617.468+572558.078',\n",
       " 'HELP_J105621.561+574134.457',\n",
       " 'HELP_J105613.971+571245.760',\n",
       " 'HELP_J105620.065+574034.969',\n",
       " 'HELP_J105615.090+572223.961',\n",
       " 'HELP_J105609.916+570246.433',\n",
       " 'HELP_J105609.092+570310.888',\n",
       " 'HELP_J105612.646+571613.294',\n",
       " 'HELP_J105613.690+572124.978',\n",
       " 'HELP_J105611.381+571416.866',\n",
       " 'HELP_J105615.957+573241.959',\n",
       " 'HELP_J105607.300+570144.234',\n",
       " 'HELP_J105608.604+571128.167',\n",
       " 'HELP_J105614.030+572917.420',\n",
       " 'HELP_J105616.305+573840.272',\n",
       " 'HELP_J105607.348+570344.189',\n",
       " 'HELP_J105607.436+570936.777',\n",
       " 'HELP_J105609.529+571507.481',\n",
       " 'HELP_J105607.295+570842.978',\n",
       " 'HELP_J105606.212+570949.234',\n",
       " 'HELP_J105612.549+573534.214',\n",
       " 'HELP_J105604.049+570934.078',\n",
       " 'HELP_J105603.267+570328.435',\n",
       " 'HELP_J105604.602+571002.198',\n",
       " 'HELP_J105604.959+570949.530',\n",
       " 'HELP_J105610.532+573406.796',\n",
       " 'HELP_J105603.864+570902.510',\n",
       " 'HELP_J105605.978+572238.449',\n",
       " 'HELP_J105601.565+570727.470',\n",
       " 'HELP_J105601.459+570936.317',\n",
       " 'HELP_J105609.679+574214.767',\n",
       " 'HELP_J105600.228+570540.646',\n",
       " 'HELP_J105601.882+571331.496',\n",
       " 'HELP_J105606.878+573825.701',\n",
       " 'HELP_J105602.707+572505.059',\n",
       " 'HELP_J105604.459+573710.400',\n",
       " 'HELP_J105556.093+570448.639',\n",
       " 'HELP_J105604.858+574230.046',\n",
       " 'HELP_J105559.572+571921.138',\n",
       " 'HELP_J105603.625+573734.785',\n",
       " 'HELP_J105603.042+573535.068',\n",
       " 'HELP_J105554.283+570137.575',\n",
       " 'HELP_J105557.619+571751.831',\n",
       " 'HELP_J105604.291+574445.987',\n",
       " 'HELP_J105602.402+573659.915',\n",
       " 'HELP_J105556.043+571957.854',\n",
       " 'HELP_J105601.448+573930.315',\n",
       " 'HELP_J105557.794+572641.585',\n",
       " 'HELP_J105600.090+573416.116',\n",
       " 'HELP_J105551.129+570402.812',\n",
       " 'HELP_J105550.287+570458.396',\n",
       " 'HELP_J105552.760+571913.827',\n",
       " 'HELP_J105557.457+573830.706',\n",
       " 'HELP_J105554.712+572953.275',\n",
       " 'HELP_J105556.892+573912.147',\n",
       " 'HELP_J105558.385+574636.559',\n",
       " 'HELP_J105554.534+573249.567',\n",
       " 'HELP_J105555.138+573400.727',\n",
       " 'HELP_J105547.350+570451.799',\n",
       " 'HELP_J105552.756+573102.423',\n",
       " 'HELP_J105552.800+573123.958',\n",
       " 'HELP_J105548.251+571831.246',\n",
       " 'HELP_J105545.656+570303.536',\n",
       " 'HELP_J105554.030+573934.484',\n",
       " 'HELP_J105552.153+573250.004',\n",
       " 'HELP_J105555.402+574828.298',\n",
       " 'HELP_J105554.997+574701.901',\n",
       " 'HELP_J105543.661+570222.722',\n",
       " 'HELP_J105552.941+573815.730',\n",
       " 'HELP_J105544.071+570339.793',\n",
       " 'HELP_J105552.565+574033.286',\n",
       " 'HELP_J105551.525+573809.078',\n",
       " 'HELP_J105548.680+572759.236',\n",
       " 'HELP_J105547.526+572215.278',\n",
       " 'HELP_J105551.745+574119.441',\n",
       " 'HELP_J105548.519+572847.525',\n",
       " 'HELP_J105549.325+573406.002',\n",
       " 'HELP_J105552.626+574702.315',\n",
       " 'HELP_J105540.850+565955.646',\n",
       " 'HELP_J105541.079+570525.330',\n",
       " 'HELP_J105539.610+570005.538',\n",
       " 'HELP_J105546.964+573111.631',\n",
       " 'HELP_J105549.089+574109.312',\n",
       " 'HELP_J105541.049+570632.147',\n",
       " 'HELP_J105549.897+574727.449',\n",
       " 'HELP_J105546.691+573350.616',\n",
       " 'HELP_J105544.469+572542.883',\n",
       " 'HELP_J105539.153+570314.599',\n",
       " 'HELP_J105547.920+574542.993',\n",
       " 'HELP_J105539.077+570926.180',\n",
       " 'HELP_J105548.223+574754.922',\n",
       " 'HELP_J105541.613+572239.342',\n",
       " 'HELP_J105545.662+574104.304',\n",
       " 'HELP_J105541.223+572355.607',\n",
       " 'HELP_J105545.265+574034.476',\n",
       " 'HELP_J105546.559+574650.506',\n",
       " 'HELP_J105541.479+572612.550',\n",
       " 'HELP_J105542.871+573752.168',\n",
       " 'HELP_J105543.988+574823.320',\n",
       " 'HELP_J105534.228+565902.548',\n",
       " 'HELP_J105536.562+571102.587',\n",
       " 'HELP_J105535.005+570525.104',\n",
       " 'HELP_J105537.863+572045.494',\n",
       " 'HELP_J105543.826+574553.752',\n",
       " 'HELP_J105533.141+570205.516',\n",
       " 'HELP_J105535.721+571456.872',\n",
       " 'HELP_J105537.421+572318.388',\n",
       " 'HELP_J105541.439+573959.382',\n",
       " 'HELP_J105531.778+570025.516',\n",
       " 'HELP_J105538.380+573103.204',\n",
       " 'HELP_J105534.513+571511.308',\n",
       " 'HELP_J105532.512+571152.769',\n",
       " 'HELP_J105537.871+573415.053',\n",
       " 'HELP_J105533.779+571950.090',\n",
       " 'HELP_J105536.074+573655.934',\n",
       " 'HELP_J105533.148+572349.331',\n",
       " 'HELP_J105529.570+571137.808',\n",
       " 'HELP_J105529.497+571525.968',\n",
       " 'HELP_J105527.731+570815.471',\n",
       " 'HELP_J105529.758+571859.496',\n",
       " 'HELP_J105531.748+572714.816',\n",
       " 'HELP_J105531.359+572543.669',\n",
       " 'HELP_J105533.909+573701.008',\n",
       " 'HELP_J105527.632+571000.233',\n",
       " 'HELP_J105535.327+574635.511',\n",
       " 'HELP_J105527.649+571608.291',\n",
       " 'HELP_J105530.084+572337.177',\n",
       " 'HELP_J105523.685+565743.214',\n",
       " 'HELP_J105529.297+572537.967',\n",
       " 'HELP_J105531.760+574021.652',\n",
       " 'HELP_J105532.775+574142.039',\n",
       " 'HELP_J105528.474+572246.744',\n",
       " 'HELP_J105525.580+571213.780',\n",
       " 'HELP_J105523.557+570459.922',\n",
       " 'HELP_J105530.501+573514.787',\n",
       " 'HELP_J105522.813+570126.947',\n",
       " 'HELP_J105522.955+570232.643',\n",
       " 'HELP_J105532.676+574349.885',\n",
       " 'HELP_J105520.741+565805.154',\n",
       " 'HELP_J105530.714+574254.434',\n",
       " 'HELP_J105522.410+570949.736',\n",
       " 'HELP_J105530.935+574735.880',\n",
       " 'HELP_J105528.968+574204.945',\n",
       " 'HELP_J105526.720+573306.618',\n",
       " 'HELP_J105518.809+570117.764',\n",
       " 'HELP_J105526.190+573517.177',\n",
       " 'HELP_J105528.828+574658.709',\n",
       " 'HELP_J105528.550+575421.871',\n",
       " 'HELP_J105519.470+570712.971',\n",
       " 'HELP_J105529.260+575045.118',\n",
       " 'HELP_J105520.062+571203.146',\n",
       " 'HELP_J105523.346+572927.564',\n",
       " 'HELP_J105526.044+573907.423',\n",
       " 'HELP_J105521.013+572239.925',\n",
       " 'HELP_J105526.840+574611.425',\n",
       " 'HELP_J105520.793+572103.350',\n",
       " 'HELP_J105521.220+572300.894',\n",
       " 'HELP_J105515.796+570145.399',\n",
       " 'HELP_J105517.423+570738.046',\n",
       " 'HELP_J105521.590+572925.738',\n",
       " 'HELP_J105515.175+570608.396',\n",
       " 'HELP_J105517.434+571137.550',\n",
       " 'HELP_J105518.065+571705.003',\n",
       " 'HELP_J105523.996+574132.766',\n",
       " 'HELP_J105524.670+574511.401',\n",
       " 'HELP_J105520.052+572619.475',\n",
       " 'HELP_J105515.605+570729.106',\n",
       " 'HELP_J105515.332+570643.955',\n",
       " 'HELP_J105524.584+575056.573',\n",
       " 'HELP_J105524.009+574630.618',\n",
       " 'HELP_J105516.112+571510.291',\n",
       " 'HELP_J105523.782+574718.534',\n",
       " 'HELP_J105521.774+573906.849',\n",
       " 'HELP_J105525.553+575600.411',\n",
       " 'HELP_J105522.635+574753.577',\n",
       " 'HELP_J105512.829+570415.614',\n",
       " 'HELP_J105515.178+572207.698',\n",
       " 'HELP_J105511.248+570341.815',\n",
       " 'HELP_J105519.030+574258.571',\n",
       " 'HELP_J105516.256+573259.341',\n",
       " 'HELP_J105510.528+570359.254',\n",
       " 'HELP_J105510.603+570532.827',\n",
       " 'HELP_J105520.379+574838.355',\n",
       " 'HELP_J105510.471+570857.527',\n",
       " 'HELP_J105514.691+572837.331',\n",
       " 'HELP_J105508.428+570242.769',\n",
       " 'HELP_J105511.029+571732.918',\n",
       " 'HELP_J105519.230+575342.196',\n",
       " 'HELP_J105508.740+570857.551',\n",
       " 'HELP_J105517.587+574723.950',\n",
       " 'HELP_J105515.603+573959.321',\n",
       " 'HELP_J105504.847+565620.285',\n",
       " 'HELP_J105517.829+575204.223',\n",
       " 'HELP_J105511.530+572552.694',\n",
       " 'HELP_J105510.714+572148.832',\n",
       " 'HELP_J105512.084+572759.164',\n",
       " 'HELP_J105516.636+574853.589',\n",
       " 'HELP_J105517.522+575319.177',\n",
       " 'HELP_J105508.888+571536.961',\n",
       " 'HELP_J105508.095+571344.227',\n",
       " 'HELP_J105504.148+565706.511',\n",
       " 'HELP_J105510.475+572730.968',\n",
       " 'HELP_J105509.500+572506.719',\n",
       " 'HELP_J105504.457+570424.189',\n",
       " 'HELP_J105510.391+572745.152',\n",
       " 'HELP_J105507.806+572502.541',\n",
       " 'HELP_J105512.822+574707.189',\n",
       " 'HELP_J105507.118+572249.460',\n",
       " 'HELP_J105512.927+575018.606',\n",
       " 'HELP_J105507.887+572906.598',\n",
       " 'HELP_J105506.961+572441.055',\n",
       " 'HELP_J105507.066+572618.141',\n",
       " 'HELP_J105502.730+570657.820',\n",
       " 'HELP_J105502.807+570711.038',\n",
       " 'HELP_J105500.000+565759.808',\n",
       " 'HELP_J105506.911+573020.543',\n",
       " 'HELP_J105510.103+574504.729',\n",
       " 'HELP_J105505.975+573000.105',\n",
       " 'HELP_J105500.615+570728.383',\n",
       " 'HELP_J105501.764+571352.126',\n",
       " 'HELP_J105501.394+571227.006',\n",
       " 'HELP_J105503.906+572148.832',\n",
       " 'HELP_J105511.119+575610.131',\n",
       " 'HELP_J105506.856+573909.553',\n",
       " 'HELP_J105503.583+572341.685',\n",
       " 'HELP_J105508.977+574934.584',\n",
       " 'HELP_J105458.496+570348.249',\n",
       " 'HELP_J105509.483+575817.722',\n",
       " 'HELP_J105458.132+570444.777',\n",
       " 'HELP_J105508.800+575614.525',\n",
       " 'HELP_J105507.437+575203.770',\n",
       " 'HELP_J105502.244+573225.549',\n",
       " 'HELP_J105456.166+570504.031',\n",
       " 'HELP_J105459.256+571925.442',\n",
       " 'HELP_J105454.116+565657.980',\n",
       " 'HELP_J105459.507+572217.832',\n",
       " 'HELP_J105458.540+572036.023',\n",
       " 'HELP_J105500.331+572640.201',\n",
       " 'HELP_J105500.346+572808.605',\n",
       " 'HELP_J105500.999+573345.911',\n",
       " 'HELP_J105506.244+575639.897',\n",
       " 'HELP_J105453.751+570052.548',\n",
       " 'HELP_J105458.434+572459.170',\n",
       " 'HELP_J105458.506+572828.209',\n",
       " 'HELP_J105455.162+571455.373',\n",
       " 'HELP_J105458.013+572727.045',\n",
       " 'HELP_J105504.346+575802.619',\n",
       " 'HELP_J105456.587+572407.535',\n",
       " 'HELP_J105453.292+571242.544',\n",
       " 'HELP_J105456.321+573017.145',\n",
       " 'HELP_J105451.962+571042.654',\n",
       " 'HELP_J105448.559+565618.729',\n",
       " 'HELP_J105455.756+573048.264',\n",
       " 'HELP_J105501.107+575325.787',\n",
       " 'HELP_J105452.113+571452.683',\n",
       " 'HELP_J105458.273+574412.857',\n",
       " 'HELP_J105459.985+575200.175',\n",
       " 'HELP_J105459.922+575227.268',\n",
       " 'HELP_J105456.438+573723.479',\n",
       " 'HELP_J105448.446+570312.510',\n",
       " 'HELP_J105453.289+572626.484',\n",
       " 'HELP_J105457.835+574644.796',\n",
       " 'HELP_J105454.903+573850.347',\n",
       " 'HELP_J105458.252+575427.478',\n",
       " 'HELP_J105455.553+574407.336',\n",
       " 'HELP_J105450.223+572349.203',\n",
       " 'HELP_J105449.878+572329.343',\n",
       " 'HELP_J105450.716+572740.240',\n",
       " 'HELP_J105449.976+572513.518',\n",
       " 'HELP_J105451.911+573414.467',\n",
       " 'HELP_J105454.892+574936.405',\n",
       " 'HELP_J105446.535+571341.695',\n",
       " 'HELP_J105444.495+570455.545',\n",
       " 'HELP_J105446.069+571237.084',\n",
       " 'HELP_J105448.439+572516.221',\n",
       " 'HELP_J105451.941+574118.482',\n",
       " 'HELP_J105448.073+572524.768',\n",
       " 'HELP_J105444.549+571026.697',\n",
       " 'HELP_J105449.213+573231.265',\n",
       " 'HELP_J105453.128+575213.129',\n",
       " 'HELP_J105450.886+574146.251',\n",
       " 'HELP_J105448.800+573454.629',\n",
       " 'HELP_J105447.437+572817.476',\n",
       " 'HELP_J105437.434+565930.868',\n",
       " 'HELP_J105448.118+573250.947',\n",
       " 'HELP_J105445.882+572747.220',\n",
       " 'HELP_J105447.266+573211.127',\n",
       " 'HELP_J105440.514+570029.344',\n",
       " 'HELP_J105452.739+575832.620',\n",
       " 'HELP_J105446.895+573406.509',\n",
       " 'HELP_J105448.666+574140.428',\n",
       " 'HELP_J105434.714+565503.125',\n",
       " 'HELP_J105439.167+565740.348',\n",
       " 'HELP_J105441.379+570920.714',\n",
       " 'HELP_J105442.395+571518.290',\n",
       " 'HELP_J105440.644+571647.471',\n",
       " 'HELP_J105442.131+571639.487',\n",
       " 'HELP_J105449.652+575020.103',\n",
       " 'HELP_J105447.944+574226.434',\n",
       " 'HELP_J105440.190+570625.075',\n",
       " 'HELP_J105440.951+570944.631',\n",
       " 'HELP_J105437.713+565804.939',\n",
       " 'HELP_J105442.554+572257.850',\n",
       " 'HELP_J105443.672+572649.339',\n",
       " 'HELP_J105444.240+573209.974',\n",
       " 'HELP_J105447.727+574821.471',\n",
       " 'HELP_J105441.643+571920.533',\n",
       " 'HELP_J105442.875+572526.506',\n",
       " 'HELP_J105442.896+572715.740',\n",
       " 'HELP_J105448.611+575432.437',\n",
       " 'HELP_J105442.619+573001.173',\n",
       " 'HELP_J105446.417+574849.982',\n",
       " 'HELP_J105438.310+571145.670',\n",
       " 'HELP_J105440.165+572158.917',\n",
       " 'HELP_J105444.717+574253.666',\n",
       " 'HELP_J105436.596+570553.581',\n",
       " 'HELP_J105445.849+575043.341',\n",
       " 'HELP_J105447.845+575847.483',\n",
       " 'HELP_J105448.453+580216.587',\n",
       " 'HELP_J105447.993+580308.305',\n",
       " 'HELP_J105446.703+575844.960',\n",
       " 'HELP_J105446.645+575958.371',\n",
       " 'HELP_J105434.971+570530.112',\n",
       " 'HELP_J105438.290+572255.825',\n",
       " 'HELP_J105440.450+573611.243',\n",
       " 'HELP_J105444.288+575324.518',\n",
       " 'HELP_J105434.136+570638.147',\n",
       " 'HELP_J105435.514+571346.572',\n",
       " 'HELP_J105441.317+574038.006',\n",
       " 'HELP_J105435.825+571708.872',\n",
       " 'HELP_J105443.290+575215.317',\n",
       " 'HELP_J105440.709+574159.818',\n",
       " 'HELP_J105433.406+570743.786',\n",
       " 'HELP_J105430.695+565618.662',\n",
       " 'HELP_J105434.937+571740.336',\n",
       " 'HELP_J105434.778+572023.535',\n",
       " 'HELP_J105436.083+572256.940',\n",
       " 'HELP_J105440.190+574356.904',\n",
       " 'HELP_J105432.317+570932.462',\n",
       " 'HELP_J105433.264+571412.980',\n",
       " 'HELP_J105443.789+580446.114',\n",
       " 'HELP_J105433.293+571738.754',\n",
       " 'HELP_J105436.169+573137.771',\n",
       " 'HELP_J105440.051+574948.882',\n",
       " 'HELP_J105439.520+575129.969',\n",
       " 'HELP_J105427.490+565902.405',\n",
       " 'HELP_J105429.564+570615.352',\n",
       " 'HELP_J105434.342+572915.775',\n",
       " 'HELP_J105438.261+574720.877',\n",
       " 'HELP_J105434.374+573010.414',\n",
       " 'HELP_J105439.217+575252.608',\n",
       " 'HELP_J105438.272+575138.477',\n",
       " 'HELP_J105433.130+572819.002',\n",
       " 'HELP_J105440.071+580246.959',\n",
       " 'HELP_J105438.027+575718.271',\n",
       " 'HELP_J105427.729+570759.919',\n",
       " 'HELP_J105427.102+571004.415',\n",
       " 'HELP_J105427.911+571150.104',\n",
       " 'HELP_J105426.840+570656.200',\n",
       " 'HELP_J105427.721+571354.818',\n",
       " 'HELP_J105436.356+575406.683',\n",
       " 'HELP_J105431.396+573202.118',\n",
       " 'HELP_J105423.756+565340.127',\n",
       " 'HELP_J105424.210+570004.404',\n",
       " 'HELP_J105433.933+574437.259',\n",
       " 'HELP_J105436.205+575624.909',\n",
       " 'HELP_J105429.362+572555.775',\n",
       " 'HELP_J105427.310+571535.387',\n",
       " 'HELP_J105429.037+572632.570',\n",
       " 'HELP_J105423.181+565848.851',\n",
       " 'HELP_J105424.189+570347.909',\n",
       " 'HELP_J105427.022+573646.798',\n",
       " 'HELP_J105426.391+571716.222',\n",
       " 'HELP_J105429.127+572941.289',\n",
       " 'HELP_J105432.492+574722.914',\n",
       " 'HELP_J105430.938+574035.394',\n",
       " 'HELP_J105424.374+571025.016',\n",
       " 'HELP_J105427.387+572411.285',\n",
       " 'HELP_J105432.696+575245.961',\n",
       " 'HELP_J105421.398+565638.023',\n",
       " 'HELP_J105434.153+580203.940',\n",
       " 'HELP_J105435.010+580311.873',\n",
       " 'HELP_J105425.677+571937.509',\n",
       " 'HELP_J105426.635+572623.261',\n",
       " 'HELP_J105418.373+565325.910',\n",
       " 'HELP_J105424.917+572512.346',\n",
       " 'HELP_J105432.230+580047.165',\n",
       " 'HELP_J105423.058+571945.242',\n",
       " 'HELP_J105424.821+572712.279',\n",
       " 'HELP_J105417.411+565247.509',\n",
       " 'HELP_J105423.990+572548.341',\n",
       " 'HELP_J105420.985+571424.877',\n",
       " 'HELP_J105428.171+575106.586',\n",
       " 'HELP_J105424.508+573113.374',\n",
       " 'HELP_J105426.198+574047.536',\n",
       " 'HELP_J105417.386+570025.766',\n",
       " 'HELP_J105421.197+572544.263',\n",
       " 'HELP_J105423.317+573446.590',\n",
       " 'HELP_J105423.912+574401.823',\n",
       " 'HELP_J105424.512+574624.432',\n",
       " 'HELP_J105414.413+565729.699',\n",
       " 'HELP_J105425.406+575554.264',\n",
       " 'HELP_J105426.457+575943.869',\n",
       " 'HELP_J105423.275+574523.559',\n",
       " 'HELP_J105413.958+570048.770',\n",
       " 'HELP_J105418.673+572419.002',\n",
       " 'HELP_J105422.105+574255.307',\n",
       " 'HELP_J105422.897+574736.055',\n",
       " 'HELP_J105424.592+575521.270',\n",
       " 'HELP_J105416.149+571530.499',\n",
       " 'HELP_J105425.967+580427.848',\n",
       " 'HELP_J105426.787+580748.652',\n",
       " 'HELP_J105411.289+565324.868',\n",
       " 'HELP_J105414.775+571242.194',\n",
       " 'HELP_J105423.414+575542.674',\n",
       " 'HELP_J105414.150+571153.894',\n",
       " 'HELP_J105418.693+573440.558',\n",
       " 'HELP_J105422.410+575212.645',\n",
       " 'HELP_J105419.969+574218.263',\n",
       " 'HELP_J105417.989+573308.807',\n",
       " 'HELP_J105422.155+575203.244',\n",
       " 'HELP_J105411.329+570244.359',\n",
       " 'HELP_J105417.415+573233.446',\n",
       " 'HELP_J105415.863+572801.390',\n",
       " 'HELP_J105419.561+574721.148',\n",
       " 'HELP_J105419.944+574758.919',\n",
       " 'HELP_J105420.491+575152.909',\n",
       " 'HELP_J105421.450+580059.959',\n",
       " 'HELP_J105413.240+571805.205',\n",
       " 'HELP_J105421.396+575914.460',\n",
       " 'HELP_J105423.515+580842.022',\n",
       " 'HELP_J105408.626+565510.089',\n",
       " 'HELP_J105419.559+574909.530',\n",
       " 'HELP_J105411.248+571016.269',\n",
       " 'HELP_J105409.158+570123.106',\n",
       " 'HELP_J105417.076+574155.292',\n",
       " 'HELP_J105415.196+573336.130',\n",
       " 'HELP_J105420.318+580045.771',\n",
       " 'HELP_J105416.297+573847.804',\n",
       " 'HELP_J105420.920+580259.220',\n",
       " 'HELP_J105416.006+574036.639',\n",
       " 'HELP_J105415.694+574022.125',\n",
       " 'HELP_J105419.099+575706.860',\n",
       " 'HELP_J105419.301+575732.682',\n",
       " 'HELP_J105418.160+575426.461',\n",
       " 'HELP_J105413.052+573001.309',\n",
       " 'HELP_J105417.138+575104.940',\n",
       " 'HELP_J105418.368+575824.733',\n",
       " 'HELP_J105408.026+570927.864',\n",
       " 'HELP_J105411.225+572726.279',\n",
       " 'HELP_J105406.716+571300.157',\n",
       " 'HELP_J105415.875+575325.685',\n",
       " 'HELP_J105416.248+575830.176',\n",
       " 'HELP_J105414.601+574721.788',\n",
       " 'HELP_J105415.371+575318.918',\n",
       " 'HELP_J105417.344+575845.478',\n",
       " 'HELP_J105418.594+580958.810',\n",
       " 'HELP_J105410.819+573029.997',\n",
       " 'HELP_J105411.734+573507.091',\n",
       " 'HELP_J105406.038+570909.121',\n",
       " 'HELP_J105415.611+575813.929',\n",
       " 'HELP_J105405.488+570853.102',\n",
       " 'HELP_J105417.504+581018.283',\n",
       " 'HELP_J105402.916+565729.749',\n",
       " 'HELP_J105403.478+570152.189',\n",
       " 'HELP_J105415.850+580530.124',\n",
       " 'HELP_J105412.870+575651.336',\n",
       " 'HELP_J105405.177+571311.375',\n",
       " 'HELP_J105408.571+573216.445',\n",
       " 'HELP_J105401.492+570015.246',\n",
       " 'HELP_J105406.044+572413.474',\n",
       " 'HELP_J105413.219+575911.253',\n",
       " 'HELP_J105414.035+580620.650',\n",
       " 'HELP_J105403.206+571318.388',\n",
       " 'HELP_J105405.736+572532.714',\n",
       " 'HELP_J105406.837+573308.939',\n",
       " 'HELP_J105359.499+565816.888',\n",
       " 'HELP_J105404.309+572036.340',\n",
       " 'HELP_J105410.047+574926.054',\n",
       " 'HELP_J105401.344+571305.022',\n",
       " 'HELP_J105412.351+580753.903',\n",
       " 'HELP_J105413.118+580927.936',\n",
       " 'HELP_J105403.823+572327.186',\n",
       " 'HELP_J105400.730+570746.945',\n",
       " 'HELP_J105403.786+572553.788',\n",
       " 'HELP_J105407.061+574118.316',\n",
       " 'HELP_J105410.725+580058.389',\n",
       " 'HELP_J105413.103+581234.144',\n",
       " 'HELP_J105409.085+575520.258',\n",
       " 'HELP_J105402.598+572234.844',\n",
       " 'HELP_J105404.563+573328.730',\n",
       " 'HELP_J105358.228+570315.227',\n",
       " 'HELP_J105401.759+572016.371',\n",
       " 'HELP_J105406.301+574307.998',\n",
       " 'HELP_J105401.158+571745.794',\n",
       " 'HELP_J105411.614+581124.293',\n",
       " 'HELP_J105358.854+570550.625',\n",
       " 'HELP_J105405.805+574245.450',\n",
       " 'HELP_J105410.139+580702.655',\n",
       " 'HELP_J105355.300+565216.192',\n",
       " 'HELP_J105403.716+573459.486',\n",
       " 'HELP_J105404.685+573842.275',\n",
       " 'HELP_J105356.223+565718.050',\n",
       " 'HELP_J105407.239+575505.528',\n",
       " 'HELP_J105359.477+571435.494',\n",
       " 'HELP_J105404.085+574019.774',\n",
       " 'HELP_J105357.840+570644.680',\n",
       " 'HELP_J105400.220+572237.913',\n",
       " 'HELP_J105406.634+575626.020',\n",
       " 'HELP_J105359.811+572059.822',\n",
       " 'HELP_J105400.992+572843.552',\n",
       " 'HELP_J105356.725+570721.823',\n",
       " 'HELP_J105405.121+574923.342',\n",
       " 'HELP_J105406.199+575524.103',\n",
       " 'HELP_J105356.158+570250.260',\n",
       " 'HELP_J105404.363+574814.579',\n",
       " 'HELP_J105406.343+575910.874',\n",
       " 'HELP_J105355.159+565846.477',\n",
       " 'HELP_J105401.221+573207.811',\n",
       " 'HELP_J105400.422+573321.729',\n",
       " 'HELP_J105359.976+572600.807',\n",
       " 'HELP_J105403.452+574508.123',\n",
       " 'HELP_J105405.371+575429.249',\n",
       " 'HELP_J105405.052+575259.127',\n",
       " 'HELP_J105358.650+572215.214',\n",
       " 'HELP_J105355.035+570740.693',\n",
       " 'HELP_J105353.320+565948.871',\n",
       " 'HELP_J105354.306+570525.949',\n",
       " 'HELP_J105357.976+572309.492',\n",
       " 'HELP_J105402.384+574548.746',\n",
       " 'HELP_J105357.758+572347.182',\n",
       " 'HELP_J105406.648+581055.240',\n",
       " 'HELP_J105356.427+572244.789',\n",
       " 'HELP_J105358.201+573232.920',\n",
       " 'HELP_J105405.065+580744.427',\n",
       " 'HELP_J105356.010+572355.296',\n",
       " 'HELP_J105359.176+573924.493',\n",
       " 'HELP_J105355.388+572112.823',\n",
       " 'HELP_J105356.278+572517.218',\n",
       " 'HELP_J105353.142+570850.935',\n",
       " 'HELP_J105356.716+572955.332',\n",
       " 'HELP_J105349.842+570709.572',\n",
       " 'HELP_J105353.577+571317.278',\n",
       " 'HELP_J105400.306+574810.392',\n",
       " 'HELP_J105349.457+565239.791',\n",
       " 'HELP_J105358.105+574001.871',\n",
       " 'HELP_J105402.169+580121.655',\n",
       " 'HELP_J105354.408+572339.901',\n",
       " 'HELP_J105354.014+572246.239',\n",
       " 'HELP_J105402.321+580627.767',\n",
       " 'HELP_J105359.497+575430.849',\n",
       " 'HELP_J105351.233+571204.081',\n",
       " 'HELP_J105350.699+570915.374',\n",
       " 'HELP_J105356.686+574239.757',\n",
       " 'HELP_J105350.200+571010.237',\n",
       " 'HELP_J105358.538+575244.018',\n",
       " 'HELP_J105358.270+575411.347',\n",
       " 'HELP_J105350.420+571355.213',\n",
       " 'HELP_J105353.415+573026.431',\n",
       " 'HELP_J105349.099+570850.173',\n",
       " 'HELP_J105358.070+575552.670',\n",
       " 'HELP_J105359.788+580533.884',\n",
       " 'HELP_J105347.631+570135.794',\n",
       " 'HELP_J105354.337+573728.281',\n",
       " 'HELP_J105350.785+572007.551',\n",
       " 'HELP_J105345.997+565608.705',\n",
       " 'HELP_J105351.734+572702.256',\n",
       " 'HELP_J105347.029+570652.501',\n",
       " 'HELP_J105354.066+574245.427',\n",
       " 'HELP_J105345.708+565524.312',\n",
       " 'HELP_J105345.425+565533.872',\n",
       " 'HELP_J105347.895+570835.244',\n",
       " 'HELP_J105348.938+571618.650',\n",
       " 'HELP_J105352.637+573639.987',\n",
       " 'HELP_J105355.509+575156.191',\n",
       " 'HELP_J105348.359+571413.790',\n",
       " 'HELP_J105351.180+573053.457',\n",
       " 'HELP_J105357.889+580812.576',\n",
       " 'HELP_J105348.241+571740.127',\n",
       " 'HELP_J105346.894+571101.949',\n",
       " 'HELP_J105351.083+573527.860',\n",
       " 'HELP_J105348.484+572357.903',\n",
       " 'HELP_J105352.796+574538.404',\n",
       " 'HELP_J105358.141+581324.929',\n",
       " 'HELP_J105341.570+565400.989',\n",
       " 'HELP_J105343.751+570110.088',\n",
       " 'HELP_J105346.861+571609.051',\n",
       " 'HELP_J105354.361+575445.016',\n",
       " 'HELP_J105353.106+575129.260',\n",
       " 'HELP_J105350.034+573438.081',\n",
       " 'HELP_J105352.269+574611.226',\n",
       " 'HELP_J105357.635+581407.093',\n",
       " 'HELP_J105348.729+573033.956',\n",
       " 'HELP_J105356.707+581219.685',\n",
       " 'HELP_J105346.922+572235.827',\n",
       " 'HELP_J105356.315+581428.847',\n",
       " 'HELP_J105344.342+571014.079',\n",
       " 'HELP_J105348.256+573249.318',\n",
       " 'HELP_J105347.025+572630.317',\n",
       " 'HELP_J105350.794+574915.422',\n",
       " 'HELP_J105345.573+572449.956',\n",
       " 'HELP_J105351.812+575554.882',\n",
       " 'HELP_J105339.709+565028.107',\n",
       " 'HELP_J105346.824+573510.337',\n",
       " 'HELP_J105350.533+575031.755',\n",
       " 'HELP_J105345.184+572329.353',\n",
       " 'HELP_J105344.926+572311.764',\n",
       " 'HELP_J105346.541+573044.604',\n",
       " 'HELP_J105348.428+574230.027',\n",
       " 'HELP_J105353.268+580806.729',\n",
       " 'HELP_J105343.262+571633.238',\n",
       " 'HELP_J105348.414+574245.233',\n",
       " 'HELP_J105348.867+574540.882',\n",
       " 'HELP_J105351.157+575802.753',\n",
       " 'HELP_J105345.070+572556.025',\n",
       " 'HELP_J105345.114+572743.328',\n",
       " 'HELP_J105343.457+572531.997',\n",
       " 'HELP_J105340.110+570454.940',\n",
       " 'HELP_J105347.006+574111.311',\n",
       " 'HELP_J105352.497+581234.886',\n",
       " 'HELP_J105342.144+571717.972',\n",
       " 'HELP_J105341.640+571429.862',\n",
       " 'HELP_J105353.363+581604.252',\n",
       " 'HELP_J105352.718+581533.603',\n",
       " 'HELP_J105337.607+565533.541',\n",
       " 'HELP_J105349.433+580104.041',\n",
       " 'HELP_J105350.622+580553.266',\n",
       " 'HELP_J105337.490+565443.736',\n",
       " 'HELP_J105341.222+571920.192',\n",
       " 'HELP_J105345.501+573958.222',\n",
       " 'HELP_J105340.822+571952.880',\n",
       " 'HELP_J105336.345+565307.495',\n",
       " 'HELP_J105342.997+572901.917',\n",
       " 'HELP_J105344.896+574100.877',\n",
       " 'HELP_J105344.744+574158.541',\n",
       " 'HELP_J105346.638+575217.461',\n",
       " 'HELP_J105338.004+570643.431',\n",
       " 'HELP_J105342.053+573026.153',\n",
       " 'HELP_J105349.280+580752.292',\n",
       " 'HELP_J105336.883+570056.603',\n",
       " 'HELP_J105341.109+572628.441',\n",
       " 'HELP_J105348.289+580411.475',\n",
       " 'HELP_J105339.123+571605.478',\n",
       " 'HELP_J105341.632+572907.770',\n",
       " 'HELP_J105342.316+573430.319',\n",
       " 'HELP_J105338.549+571515.366',\n",
       " 'HELP_J105341.263+573214.970',\n",
       " 'HELP_J105342.133+574436.669',\n",
       " 'HELP_J105344.532+574702.503',\n",
       " 'HELP_J105347.767+580504.065',\n",
       " 'HELP_J105348.238+580711.827',\n",
       " 'HELP_J105345.156+575315.203',\n",
       " 'HELP_J105346.836+580158.635',\n",
       " 'HELP_J105348.357+581116.406',\n",
       " 'HELP_J105348.828+581151.957',\n",
       " 'HELP_J105339.926+572719.788',\n",
       " 'HELP_J105344.183+575207.083',\n",
       " 'HELP_J105347.884+581218.955',\n",
       " 'HELP_J105348.028+581236.417',\n",
       " 'HELP_J105341.058+573905.408',\n",
       " 'HELP_J105333.159+565727.186',\n",
       " 'HELP_J105344.524+575800.417',\n",
       " 'HELP_J105331.962+565457.949',\n",
       " 'HELP_J105342.609+575102.018',\n",
       " 'HELP_J105332.156+565339.266',\n",
       " 'HELP_J105340.416+574122.086',\n",
       " 'HELP_J105341.819+574843.592',\n",
       " 'HELP_J105345.920+581132.851',\n",
       " 'HELP_J105334.780+571057.772',\n",
       " 'HELP_J105341.233+574611.469',\n",
       " 'HELP_J105345.913+581151.197',\n",
       " 'HELP_J105345.476+581216.597',\n",
       " 'HELP_J105333.500+570751.795',\n",
       " 'HELP_J105336.706+572356.969',\n",
       " 'HELP_J105334.184+571301.317',\n",
       " 'HELP_J105338.451+573411.200',\n",
       " 'HELP_J105330.292+565133.938',\n",
       " 'HELP_J105337.881+573538.880',\n",
       " 'HELP_J105342.694+580154.606',\n",
       " 'HELP_J105338.391+573920.987',\n",
       " 'HELP_J105337.679+574213.300',\n",
       " 'HELP_J105337.542+573714.751',\n",
       " 'HELP_J105344.585+581446.466',\n",
       " 'HELP_J105332.082+570835.701',\n",
       " 'HELP_J105334.638+572226.743',\n",
       " 'HELP_J105335.981+573035.831',\n",
       " 'HELP_J105335.149+572921.154',\n",
       " 'HELP_J105344.484+581718.115',\n",
       " 'HELP_J105337.296+574240.870',\n",
       " 'HELP_J105329.595+565838.198',\n",
       " 'HELP_J105334.550+572736.290',\n",
       " 'HELP_J105336.258+574318.705',\n",
       " 'HELP_J105340.742+580253.030',\n",
       " 'HELP_J105341.371+580725.356',\n",
       " 'HELP_J105330.786+570950.655',\n",
       " 'HELP_J105332.716+572004.200',\n",
       " 'HELP_J105337.024+574359.897',\n",
       " 'HELP_J105337.645+574752.439',\n",
       " 'HELP_J105341.625+580821.926',\n",
       " 'HELP_J105337.498+574647.410',\n",
       " 'HELP_J105338.233+575131.735',\n",
       " 'HELP_J105330.847+571155.060',\n",
       " 'HELP_J105336.362+574252.741',\n",
       " 'HELP_J105326.280+565424.969',\n",
       " 'HELP_J105332.592+572445.794',\n",
       " 'HELP_J105327.637+565618.144',\n",
       " 'HELP_J105328.191+570039.356',\n",
       " 'HELP_J105341.497+581400.151',\n",
       " 'HELP_J105338.707+575946.798',\n",
       " 'HELP_J105326.570+570307.311',\n",
       " 'HELP_J105328.980+570554.527',\n",
       " 'HELP_J105335.262+574233.678',\n",
       " 'HELP_J105337.799+575739.697',\n",
       " 'HELP_J105338.968+580525.689',\n",
       " 'HELP_J105334.513+574242.047',\n",
       " 'HELP_J105329.739+571506.532',\n",
       " 'HELP_J105332.741+573036.118',\n",
       " 'HELP_J105338.216+580122.633',\n",
       " 'HELP_J105338.317+580401.921',\n",
       " 'HELP_J105330.145+571731.215',\n",
       " 'HELP_J105339.958+581322.957',\n",
       " 'HELP_J105325.053+565330.919',\n",
       " 'HELP_J105336.723+575636.986',\n",
       " 'HELP_J105327.975+571115.731',\n",
       " 'HELP_J105329.657+571820.512',\n",
       " 'HELP_J105337.194+575902.570',\n",
       " 'HELP_J105340.692+581831.428',\n",
       " 'HELP_J105333.831+574345.273',\n",
       " 'HELP_J105324.483+565121.914',\n",
       " 'HELP_J105327.468+570931.767',\n",
       " 'HELP_J105333.467+574223.646',\n",
       " 'HELP_J105326.578+570520.850',\n",
       " 'HELP_J105332.563+573935.385',\n",
       " 'HELP_J105336.862+580350.699',\n",
       " 'HELP_J105336.582+580134.667',\n",
       " 'HELP_J105333.732+574613.258',\n",
       " 'HELP_J105330.832+573349.264',\n",
       " 'HELP_J105325.884+570618.682',\n",
       " 'HELP_J105326.680+571405.443',\n",
       " 'HELP_J105328.169+572048.012',\n",
       " 'HELP_J105332.123+574144.398',\n",
       " 'HELP_J105327.700+571945.475',\n",
       " 'HELP_J105330.898+573922.172',\n",
       " 'HELP_J105338.201+581915.809',\n",
       " 'HELP_J105328.999+572956.599',\n",
       " 'HELP_J105336.509+581125.918',\n",
       " 'HELP_J105323.676+570017.495',\n",
       " 'HELP_J105327.135+572313.354',\n",
       " 'HELP_J105335.719+581335.961',\n",
       " 'HELP_J105334.930+580717.554',\n",
       " 'HELP_J105324.625+571658.128',\n",
       " 'HELP_J105326.175+572232.273',\n",
       " 'HELP_J105330.880+575456.112',\n",
       " 'HELP_J105325.630+572248.255',\n",
       " 'HELP_J105331.707+575618.153',\n",
       " 'HELP_J105330.010+574817.141',\n",
       " 'HELP_J105322.563+571501.724',\n",
       " 'HELP_J105327.433+574542.015',\n",
       " 'HELP_J105327.100+573428.908',\n",
       " 'HELP_J105321.142+570216.493',\n",
       " 'HELP_J105321.703+570539.680',\n",
       " 'HELP_J105323.533+571734.308',\n",
       " 'HELP_J105325.342+572910.554',\n",
       " 'HELP_J105327.011+573704.031',\n",
       " 'HELP_J105330.719+575633.735',\n",
       " 'HELP_J105322.392+571032.132',\n",
       " 'HELP_J105331.378+580206.918',\n",
       " 'HELP_J105332.892+581223.831',\n",
       " 'HELP_J105333.886+581732.527',\n",
       " 'HELP_J105328.687+574841.020',\n",
       " 'HELP_J105331.508+580538.053',\n",
       " 'HELP_J105324.795+572823.346',\n",
       " 'HELP_J105326.574+573904.108',\n",
       " 'HELP_J105332.243+581131.639',\n",
       " 'HELP_J105330.872+580410.384',\n",
       " 'HELP_J105332.307+581159.486',\n",
       " 'HELP_J105332.824+581435.176',\n",
       " 'HELP_J105317.987+565124.764',\n",
       " 'HELP_J105321.631+571349.194',\n",
       " 'HELP_J105318.398+565609.020',\n",
       " 'HELP_J105317.960+565448.839',\n",
       " 'HELP_J105319.943+570546.662',\n",
       " 'HELP_J105330.926+580803.681',\n",
       " 'HELP_J105331.556+581151.791',\n",
       " 'HELP_J105331.747+581353.082',\n",
       " 'HELP_J105320.381+571029.487',\n",
       " 'HELP_J105320.881+571433.298',\n",
       " 'HELP_J105321.389+571718.610',\n",
       " 'HELP_J105330.354+581050.536',\n",
       " 'HELP_J105316.226+564821.941',\n",
       " 'HELP_J105326.183+574840.584',\n",
       " 'HELP_J105319.522+571245.896',\n",
       " 'HELP_J105315.305+565044.183',\n",
       " 'HELP_J105315.828+565523.467',\n",
       " 'HELP_J105315.528+565438.953',\n",
       " 'HELP_J105329.241+581145.911',\n",
       " 'HELP_J105318.995+571851.804',\n",
       " 'HELP_J105328.257+580830.433',\n",
       " 'HELP_J105315.076+565656.756',\n",
       " 'HELP_J105322.380+573652.732',\n",
       " 'HELP_J105326.041+575639.745',\n",
       " 'HELP_J105317.518+570927.569',\n",
       " 'HELP_J105319.174+572001.126',\n",
       " 'HELP_J105318.600+572044.520',\n",
       " 'HELP_J105319.265+572108.495',\n",
       " 'HELP_J105318.938+572140.480',\n",
       " 'HELP_J105314.349+565322.689',\n",
       " 'HELP_J105322.737+574323.956',\n",
       " 'HELP_J105313.215+564859.108',\n",
       " 'HELP_J105313.758+565332.956',\n",
       " 'HELP_J105322.575+574304.139',\n",
       " 'HELP_J105324.871+575614.972',\n",
       " 'HELP_J105326.835+580956.534',\n",
       " 'HELP_J105321.321+573747.184',\n",
       " 'HELP_J105322.044+574354.658',\n",
       " 'HELP_J105318.356+572502.475',\n",
       " 'HELP_J105320.964+573823.904',\n",
       " 'HELP_J105324.273+575929.307',\n",
       " 'HELP_J105319.976+573438.194',\n",
       " 'HELP_J105320.226+573649.705',\n",
       " 'HELP_J105317.387+571939.766',\n",
       " 'HELP_J105323.570+575628.732',\n",
       " 'HELP_J105324.130+580433.497',\n",
       " 'HELP_J105325.273+580446.427',\n",
       " 'HELP_J105314.398+570551.452',\n",
       " 'HELP_J105319.873+573814.539',\n",
       " 'HELP_J105327.539+582220.326',\n",
       " 'HELP_J105317.497+572722.919',\n",
       " 'HELP_J105323.359+580045.995',\n",
       " 'HELP_J105319.095+573820.554',\n",
       " 'HELP_J105319.295+574550.950',\n",
       " 'HELP_J105324.940+581425.980',\n",
       " 'HELP_J105312.281+570104.100',\n",
       " 'HELP_J105312.451+570343.735',\n",
       " 'HELP_J105315.465+571940.761',\n",
       " 'HELP_J105321.851+575620.227',\n",
       " 'HELP_J105321.892+580006.088',\n",
       " 'HELP_J105323.563+580644.741',\n",
       " 'HELP_J105309.402+565028.634',\n",
       " 'HELP_J105317.621+573636.594',\n",
       " 'HELP_J105321.290+575733.814',\n",
       " 'HELP_J105326.255+582326.081',\n",
       " 'HELP_J105312.199+571105.477',\n",
       " 'HELP_J105315.363+572439.119',\n",
       " 'HELP_J105316.743+573550.656',\n",
       " 'HELP_J105319.303+574817.673',\n",
       " 'HELP_J105323.710+581519.385',\n",
       " 'HELP_J105320.965+580031.549',\n",
       " 'HELP_J105313.646+571934.151',\n",
       " 'HELP_J105312.860+571621.412',\n",
       " 'HELP_J105314.398+572410.287',\n",
       " 'HELP_J105320.760+580110.503',\n",
       " 'HELP_J105314.258+573020.729',\n",
       " 'HELP_J105317.685+574910.197',\n",
       " 'HELP_J105309.572+570636.698',\n",
       " 'HELP_J105319.557+580007.761',\n",
       " 'HELP_J105321.118+581118.377',\n",
       " 'HELP_J105315.451+574131.155',\n",
       " 'HELP_J105312.489+572104.748',\n",
       " 'HELP_J105310.850+571422.081',\n",
       " 'HELP_J105320.828+581047.905',\n",
       " 'HELP_J105312.704+573111.890',\n",
       " 'HELP_J105317.108+575228.916',\n",
       " 'HELP_J105319.290+580321.303',\n",
       " 'HELP_J105321.037+581454.413',\n",
       " ...]"
      ]
     },
     "execution_count": 102,
     "metadata": {},
     "output_type": "execute_result"
    }
   ],
   "source": [
    "c_index = lofar['lr_index_i']\n",
    "help_id = []\n",
    "for n in c_index:\n",
    "    help_id.append(catalogue_i['help_id'][int(n)])\n",
    "help_id"
   ]
  },
  {
   "cell_type": "code",
   "execution_count": 79,
   "metadata": {},
   "outputs": [
    {
     "name": "stdout",
     "output_type": "stream",
     "text": [
      "filtering in a MOC\n",
      "428610\n"
     ]
    }
   ],
   "source": [
    "photoz_filter = field.filter_catalogue(photoz, colnames=('RA','DEC'))"
   ]
  },
  {
   "cell_type": "code",
   "execution_count": 101,
   "metadata": {},
   "outputs": [
    {
     "data": {
      "text/html": [
       "&lt;Column name=&apos;help_id&apos; dtype=&apos;str27&apos; length=1382785&gt;\n",
       "<table>\n",
       "<tr><td>HELP_J105455.339+572548.213</td></tr>\n",
       "<tr><td>HELP_J105331.913+573410.713</td></tr>\n",
       "<tr><td>HELP_J105527.800+575424.407</td></tr>\n",
       "<tr><td>HELP_J104646.624+601224.028</td></tr>\n",
       "<tr><td>HELP_J105034.405+593434.787</td></tr>\n",
       "<tr><td>HELP_J104700.697+603101.851</td></tr>\n",
       "<tr><td>HELP_J104700.735+601459.749</td></tr>\n",
       "<tr><td>HELP_J104433.838+602158.646</td></tr>\n",
       "<tr><td>HELP_J104606.116+603443.904</td></tr>\n",
       "<tr><td>HELP_J105233.276+571425.534</td></tr>\n",
       "<tr><td>HELP_J105436.496+572550.393</td></tr>\n",
       "<tr><td>HELP_J105304.233+571559.477</td></tr>\n",
       "<tr><td>...</td></tr>\n",
       "<tr><td>HELP_J105307.988+584825.160</td></tr>\n",
       "<tr><td>HELP_J105711.928+582423.857</td></tr>\n",
       "<tr><td>HELP_J103403.306+585238.119</td></tr>\n",
       "<tr><td>HELP_J104310.607+572116.608</td></tr>\n",
       "<tr><td>HELP_J104823.842+584735.492</td></tr>\n",
       "<tr><td>HELP_J104423.911+584522.199</td></tr>\n",
       "<tr><td>HELP_J103824.512+575223.765</td></tr>\n",
       "<tr><td>HELP_J104826.320+582221.916</td></tr>\n",
       "<tr><td>HELP_J105152.698+570252.556</td></tr>\n",
       "<tr><td>HELP_J104645.703+581315.516</td></tr>\n",
       "<tr><td>HELP_J105034.024+560726.790</td></tr>\n",
       "<tr><td>HELP_J105157.798+580735.571</td></tr>\n",
       "</table>"
      ],
      "text/plain": [
       "<Column name='help_id' dtype='str27' length=1382785>\n",
       "HELP_J105455.339+572548.213\n",
       "HELP_J105331.913+573410.713\n",
       "HELP_J105527.800+575424.407\n",
       "HELP_J104646.624+601224.028\n",
       "HELP_J105034.405+593434.787\n",
       "HELP_J104700.697+603101.851\n",
       "HELP_J104700.735+601459.749\n",
       "HELP_J104433.838+602158.646\n",
       "HELP_J104606.116+603443.904\n",
       "HELP_J105233.276+571425.534\n",
       "HELP_J105436.496+572550.393\n",
       "HELP_J105304.233+571559.477\n",
       "                        ...\n",
       "HELP_J105307.988+584825.160\n",
       "HELP_J105711.928+582423.857\n",
       "HELP_J103403.306+585238.119\n",
       "HELP_J104310.607+572116.608\n",
       "HELP_J104823.842+584735.492\n",
       "HELP_J104423.911+584522.199\n",
       "HELP_J103824.512+575223.765\n",
       "HELP_J104826.320+582221.916\n",
       "HELP_J105152.698+570252.556\n",
       "HELP_J104645.703+581315.516\n",
       "HELP_J105034.024+560726.790\n",
       "HELP_J105157.798+580735.571"
      ]
     },
     "execution_count": 101,
     "metadata": {},
     "output_type": "execute_result"
    }
   ],
   "source": [
    "photoz_id = photoz['help_id']\n",
    "photoz_id"
   ]
  },
  {
   "cell_type": "code",
   "execution_count": 83,
   "metadata": {
    "collapsed": true
   },
   "outputs": [],
   "source": [
    "sel = np.in1d(photoz_id,help_id)"
   ]
  },
  {
   "cell_type": "code",
   "execution_count": 85,
   "metadata": {},
   "outputs": [
    {
     "data": {
      "text/plain": [
       "1382785"
      ]
     },
     "execution_count": 85,
     "metadata": {},
     "output_type": "execute_result"
    }
   ],
   "source": [
    "len(sel)"
   ]
  },
  {
   "cell_type": "code",
   "execution_count": 86,
   "metadata": {
    "collapsed": true
   },
   "outputs": [],
   "source": [
    "photoz_match = photoz[sel]"
   ]
  },
  {
   "cell_type": "markdown",
   "metadata": {},
   "source": [
    "# number of matches with photoz data"
   ]
  },
  {
   "cell_type": "code",
   "execution_count": 104,
   "metadata": {},
   "outputs": [
    {
     "data": {
      "text/plain": [
       "5849"
      ]
     },
     "execution_count": 104,
     "metadata": {},
     "output_type": "execute_result"
    }
   ],
   "source": [
    "photoz_match_id = photoz_match['help_id']\n",
    "len(photoz_match)"
   ]
  },
  {
   "cell_type": "code",
   "execution_count": 91,
   "metadata": {
    "collapsed": true
   },
   "outputs": [],
   "source": [
    "xid = Table.read('/Users/ianmccheyne/Documents/phd/data/dmu26_XID+SPIRE_CDFS-SWIRE_cat_20170919.fits')"
   ]
  },
  {
   "cell_type": "code",
   "execution_count": 92,
   "metadata": {},
   "outputs": [
    {
     "data": {
      "text/plain": [
       "['HELP_ID',\n",
       " 'RA',\n",
       " 'Dec',\n",
       " 'F_SPIRE_250',\n",
       " 'FErr_SPIRE_250_u',\n",
       " 'FErr_SPIRE_250_l',\n",
       " 'F_SPIRE_350',\n",
       " 'FErr_SPIRE_350_u',\n",
       " 'FErr_SPIRE_350_l',\n",
       " 'F_SPIRE_500',\n",
       " 'FErr_SPIRE_500_u',\n",
       " 'FErr_SPIRE_500_l',\n",
       " 'Bkg_SPIRE_250',\n",
       " 'Bkg_SPIRE_350',\n",
       " 'Bkg_SPIRE_500',\n",
       " 'Sig_conf_SPIRE_250',\n",
       " 'Sig_conf_SPIRE_350',\n",
       " 'Sig_conf_SPIRE_500',\n",
       " 'Rhat_SPIRE_250',\n",
       " 'Rhat_SPIRE_350',\n",
       " 'Rhat_SPIRE_500',\n",
       " 'n_eff_SPIRE_250',\n",
       " 'n_eff_SPIRE_500',\n",
       " 'n_eff_SPIRE_350',\n",
       " 'Pval_res_250',\n",
       " 'Pval_res_350',\n",
       " 'Pval_res_500',\n",
       " 'flag_spire_250',\n",
       " 'flag_spire_350',\n",
       " 'flag_spire_500']"
      ]
     },
     "execution_count": 92,
     "metadata": {},
     "output_type": "execute_result"
    }
   ],
   "source": [
    "xid.colnames"
   ]
  },
  {
   "cell_type": "code",
   "execution_count": 115,
   "metadata": {},
   "outputs": [
    {
     "name": "stdout",
     "output_type": "stream",
     "text": [
      "filtering in a MOC\n",
      "179762\n",
      "179762\n",
      "HELP_J032918.164-285700.375\n",
      "HELP_J105018.143+574624.224\n"
     ]
    }
   ],
   "source": [
    "xid_match = field.filter_catalogue(xid, colnames=('RA','Dec'))\n",
    "xid_match_id = xid_match['HELP_ID']\n",
    "print(len(xid_match_id))\n",
    "print(xid_match_id[1])\n",
    "print(photoz_match_id[1])"
   ]
  },
  {
   "cell_type": "code",
   "execution_count": 117,
   "metadata": {},
   "outputs": [
    {
     "data": {
      "text/plain": [
       "0"
      ]
     },
     "execution_count": 117,
     "metadata": {},
     "output_type": "execute_result"
    }
   ],
   "source": [
    "sel = np.in1d(xid_id,help_id)\n",
    "sum(sel)"
   ]
  },
  {
   "cell_type": "code",
   "execution_count": 124,
   "metadata": {
    "collapsed": true
   },
   "outputs": [],
   "source": [
    "c_index = lofar['lr_index_i']\n",
    "irac_flux1 = []\n",
    "irac_flux2 = []\n",
    "irac_flux3 = []\n",
    "irac_flux4 = []\n",
    "lofar_flux = []\n",
    "for n in range(len(lofar['lrt'])):\n",
    "    irac_flux1.append(catalogue_i[\"f_irac1\"][int(c_index[n])])\n",
    "    irac_flux2.append(catalogue_i[\"f_irac2\"][int(c_index[n])])\n",
    "    irac_flux3.append(catalogue_i[\"f_irac3\"][int(c_index[n])])\n",
    "    irac_flux4.append(catalogue_i[\"f_irac4\"][int(c_index[n])])\n",
    "    lofar_flux.append(lofar['Peak_flux'][n])"
   ]
  },
  {
   "cell_type": "code",
   "execution_count": 125,
   "metadata": {},
   "outputs": [
    {
     "name": "stdout",
     "output_type": "stream",
     "text": [
      "0\n",
      "729\n",
      "3476\n",
      "4008\n"
     ]
    }
   ],
   "source": [
    "irac_flux1 = np.array(irac_flux1)\n",
    "irac_flux2 = np.array(irac_flux2)\n",
    "irac_flux3 = np.array(irac_flux3)\n",
    "irac_flux4 = np.array(irac_flux4)\n",
    "lofar_flux = []\n",
    "print(len(irac_flux1[np.isnan(irac_flux1)]))\n",
    "print(len(irac_flux2[np.isnan(irac_flux2)]))\n",
    "print(len(irac_flux3[np.isnan(irac_flux3)]))\n",
    "print(len(irac_flux4[np.isnan(irac_flux4)]))"
   ]
  },
  {
   "cell_type": "code",
   "execution_count": 126,
   "metadata": {
    "collapsed": true
   },
   "outputs": [],
   "source": [
    "test1 = lofar['lrt'] < threshold_i\n",
    "test2 = lofar['lrt'] < threshold_sel\n",
    "lofar_flux = np.array(lofar_flux)\n",
    "irac_flux = np.array(lofar['lr_i_flux'])"
   ]
  },
  {
   "cell_type": "code",
   "execution_count": 132,
   "metadata": {},
   "outputs": [
    {
     "name": "stdout",
     "output_type": "stream",
     "text": [
      "386\n",
      "136\n",
      "276\n",
      "290\n"
     ]
    }
   ],
   "source": [
    "thing2 = irac_flux2[test2]\n",
    "print(len(irac_flux1[test2]))\n",
    "print(len(thing2[np.isnan(thing2)]))\n",
    "thing3 = irac_flux3[test2]\n",
    "print(len(thing3[np.isnan(thing3)]))\n",
    "thing4 = irac_flux4[test2]\n",
    "print(len(thing4[np.isnan(thing4)]))"
   ]
  },
  {
   "cell_type": "code",
   "execution_count": 133,
   "metadata": {},
   "outputs": [
    {
     "name": "stdout",
     "output_type": "stream",
     "text": [
      "136\n",
      "136\n",
      "262\n",
      "136\n"
     ]
    }
   ],
   "source": [
    "and23 = 0\n",
    "and24 = 0\n",
    "and34 = 0\n",
    "and234 = 0\n",
    "for n in range(len(thing2)):\n",
    "    if np.isnan(thing2[n]) == True and np.isnan(thing3[n]) == True:\n",
    "        and23 = and23 + 1\n",
    "    if np.isnan(thing2[n]) == True and np.isnan(thing4[n]) == True:\n",
    "        and24 = and24 + 1\n",
    "    if np.isnan(thing3[n]) == True and np.isnan(thing4[n]) == True:\n",
    "        and34 = and34 + 1\n",
    "    if np.isnan(thing2[n]) == True and np.isnan(thing3[n]) == True and np.isnan(thing4[n]):\n",
    "        and234 = and234 + 1\n",
    "print(and23)\n",
    "print(and24)\n",
    "print(and34)\n",
    "print(and234)"
   ]
  },
  {
   "cell_type": "code",
   "execution_count": 134,
   "metadata": {},
   "outputs": [
    {
     "name": "stdout",
     "output_type": "stream",
     "text": [
      "726\n",
      "728\n",
      "3061\n",
      "725\n"
     ]
    }
   ],
   "source": [
    "and23 = 0\n",
    "and24 = 0\n",
    "and34 = 0\n",
    "and234 = 0\n",
    "for n in range(len(irac_flux1)):\n",
    "    if np.isnan(irac_flux2[n]) == True and np.isnan(irac_flux3[n]) == True:\n",
    "        and23 = and23 + 1\n",
    "    if np.isnan(irac_flux2[n]) == True and np.isnan(irac_flux4[n]) == True:\n",
    "        and24 = and24 + 1\n",
    "    if np.isnan(irac_flux3[n]) == True and np.isnan(irac_flux4[n]) == True:\n",
    "        and34 = and34 + 1\n",
    "    if np.isnan(irac_flux2[n]) == True and np.isnan(irac_flux3[n]) == True and np.isnan(irac_flux4[n]):\n",
    "        and234 = and234 + 1\n",
    "print(and23)\n",
    "print(and24)\n",
    "print(and34)\n",
    "print(and234)"
   ]
  },
  {
   "cell_type": "code",
   "execution_count": 130,
   "metadata": {},
   "outputs": [
    {
     "ename": "IndexError",
     "evalue": "boolean index did not match indexed array along dimension 0; dimension is 0 but corresponding boolean dimension is 7685",
     "output_type": "error",
     "traceback": [
      "\u001b[0;31m---------------------------------------------------------------------------\u001b[0m",
      "\u001b[0;31mIndexError\u001b[0m                                Traceback (most recent call last)",
      "\u001b[0;32m<ipython-input-130-2a7bdf33588e>\u001b[0m in \u001b[0;36m<module>\u001b[0;34m()\u001b[0m\n\u001b[0;32m----> 1\u001b[0;31m \u001b[0mlofar_below_original\u001b[0m \u001b[0;34m=\u001b[0m \u001b[0mlofar_flux\u001b[0m\u001b[0;34m[\u001b[0m\u001b[0;34m(\u001b[0m\u001b[0mtest1\u001b[0m\u001b[0;34m)\u001b[0m\u001b[0;34m]\u001b[0m\u001b[0;34m\u001b[0m\u001b[0m\n\u001b[0m\u001b[1;32m      2\u001b[0m \u001b[0mlofar_below_new\u001b[0m \u001b[0;34m=\u001b[0m \u001b[0mlofar_flux\u001b[0m\u001b[0;34m[\u001b[0m\u001b[0mlofar\u001b[0m\u001b[0;34m[\u001b[0m\u001b[0;34m'lrt'\u001b[0m\u001b[0;34m]\u001b[0m \u001b[0;34m>\u001b[0m \u001b[0mthreshold_sel\u001b[0m\u001b[0;34m]\u001b[0m\u001b[0;34m\u001b[0m\u001b[0m\n\u001b[1;32m      3\u001b[0m \u001b[0mirac_below_original\u001b[0m \u001b[0;34m=\u001b[0m \u001b[0mirac_flux\u001b[0m\u001b[0;34m[\u001b[0m\u001b[0;34m(\u001b[0m\u001b[0mtest1\u001b[0m\u001b[0;34m)\u001b[0m\u001b[0;34m]\u001b[0m\u001b[0;34m\u001b[0m\u001b[0m\n\u001b[1;32m      4\u001b[0m \u001b[0mirac_below_new\u001b[0m \u001b[0;34m=\u001b[0m \u001b[0mirac_flux\u001b[0m\u001b[0;34m[\u001b[0m\u001b[0mlofar\u001b[0m\u001b[0;34m[\u001b[0m\u001b[0;34m'lrt'\u001b[0m\u001b[0;34m]\u001b[0m \u001b[0;34m>\u001b[0m \u001b[0mthreshold_sel\u001b[0m\u001b[0;34m]\u001b[0m\u001b[0;34m\u001b[0m\u001b[0m\n",
      "\u001b[0;31mIndexError\u001b[0m: boolean index did not match indexed array along dimension 0; dimension is 0 but corresponding boolean dimension is 7685"
     ]
    }
   ],
   "source": [
    "lofar_below_original = lofar_flux[(test1)]\n",
    "lofar_below_new = lofar_flux[lofar['lrt'] > threshold_sel]\n",
    "irac_below_original = irac_flux[(test1)]\n",
    "irac_below_new = irac_flux[lofar['lrt'] > threshold_sel]"
   ]
  },
  {
   "cell_type": "code",
   "execution_count": 131,
   "metadata": {},
   "outputs": [
    {
     "name": "stderr",
     "output_type": "stream",
     "text": [
      "/anaconda3/lib/python3.6/site-packages/ipykernel_launcher.py:1: RuntimeWarning: divide by zero encountered in log\n",
      "  \"\"\"Entry point for launching an IPython kernel.\n",
      "/anaconda3/lib/python3.6/site-packages/ipykernel_launcher.py:1: RuntimeWarning: invalid value encountered in log\n",
      "  \"\"\"Entry point for launching an IPython kernel.\n"
     ]
    },
    {
     "ename": "ValueError",
     "evalue": "x and y must be the same size",
     "output_type": "error",
     "traceback": [
      "\u001b[0;31m---------------------------------------------------------------------------\u001b[0m",
      "\u001b[0;31mValueError\u001b[0m                                Traceback (most recent call last)",
      "\u001b[0;32m<ipython-input-131-c430bed25c0f>\u001b[0m in \u001b[0;36m<module>\u001b[0;34m()\u001b[0m\n\u001b[0;32m----> 1\u001b[0;31m \u001b[0mplt\u001b[0m\u001b[0;34m.\u001b[0m\u001b[0mscatter\u001b[0m\u001b[0;34m(\u001b[0m\u001b[0mnp\u001b[0m\u001b[0;34m.\u001b[0m\u001b[0mlog\u001b[0m\u001b[0;34m(\u001b[0m\u001b[0mlofar_flux\u001b[0m\u001b[0;34m)\u001b[0m\u001b[0;34m,\u001b[0m\u001b[0mnp\u001b[0m\u001b[0;34m.\u001b[0m\u001b[0mlog\u001b[0m\u001b[0;34m(\u001b[0m\u001b[0mirac_flux\u001b[0m\u001b[0;34m)\u001b[0m\u001b[0;34m,\u001b[0m\u001b[0ms\u001b[0m\u001b[0;34m=\u001b[0m\u001b[0;36m0.4\u001b[0m\u001b[0;34m)\u001b[0m\u001b[0;34m\u001b[0m\u001b[0m\n\u001b[0m\u001b[1;32m      2\u001b[0m \u001b[0mplt\u001b[0m\u001b[0;34m.\u001b[0m\u001b[0mscatter\u001b[0m\u001b[0;34m(\u001b[0m\u001b[0mnp\u001b[0m\u001b[0;34m.\u001b[0m\u001b[0mlog\u001b[0m\u001b[0;34m(\u001b[0m\u001b[0mlofar_below_original\u001b[0m\u001b[0;34m)\u001b[0m\u001b[0;34m,\u001b[0m\u001b[0mnp\u001b[0m\u001b[0;34m.\u001b[0m\u001b[0mlog\u001b[0m\u001b[0;34m(\u001b[0m\u001b[0mirac_below_original\u001b[0m\u001b[0;34m)\u001b[0m\u001b[0;34m,\u001b[0m\u001b[0ms\u001b[0m \u001b[0;34m=\u001b[0m\u001b[0;36m0.2\u001b[0m\u001b[0;34m)\u001b[0m\u001b[0;34m\u001b[0m\u001b[0m\n\u001b[1;32m      3\u001b[0m \u001b[0;31m#plt.scatter(np.log(lofar_below_new),np.log(irac_below_new),s=0.4)\u001b[0m\u001b[0;34m\u001b[0m\u001b[0;34m\u001b[0m\u001b[0m\n\u001b[1;32m      4\u001b[0m \u001b[0;31m#xlim(-0.001,0.1)\u001b[0m\u001b[0;34m\u001b[0m\u001b[0;34m\u001b[0m\u001b[0m\n\u001b[1;32m      5\u001b[0m \u001b[0;31m#ylim(-15,500)\u001b[0m\u001b[0;34m\u001b[0m\u001b[0;34m\u001b[0m\u001b[0m\n",
      "\u001b[0;32m/anaconda3/lib/python3.6/site-packages/matplotlib/pyplot.py\u001b[0m in \u001b[0;36mscatter\u001b[0;34m(x, y, s, c, marker, cmap, norm, vmin, vmax, alpha, linewidths, verts, edgecolors, hold, data, **kwargs)\u001b[0m\n\u001b[1;32m   3355\u001b[0m                          \u001b[0mvmin\u001b[0m\u001b[0;34m=\u001b[0m\u001b[0mvmin\u001b[0m\u001b[0;34m,\u001b[0m \u001b[0mvmax\u001b[0m\u001b[0;34m=\u001b[0m\u001b[0mvmax\u001b[0m\u001b[0;34m,\u001b[0m \u001b[0malpha\u001b[0m\u001b[0;34m=\u001b[0m\u001b[0malpha\u001b[0m\u001b[0;34m,\u001b[0m\u001b[0;34m\u001b[0m\u001b[0m\n\u001b[1;32m   3356\u001b[0m                          \u001b[0mlinewidths\u001b[0m\u001b[0;34m=\u001b[0m\u001b[0mlinewidths\u001b[0m\u001b[0;34m,\u001b[0m \u001b[0mverts\u001b[0m\u001b[0;34m=\u001b[0m\u001b[0mverts\u001b[0m\u001b[0;34m,\u001b[0m\u001b[0;34m\u001b[0m\u001b[0m\n\u001b[0;32m-> 3357\u001b[0;31m                          edgecolors=edgecolors, data=data, **kwargs)\n\u001b[0m\u001b[1;32m   3358\u001b[0m     \u001b[0;32mfinally\u001b[0m\u001b[0;34m:\u001b[0m\u001b[0;34m\u001b[0m\u001b[0m\n\u001b[1;32m   3359\u001b[0m         \u001b[0max\u001b[0m\u001b[0;34m.\u001b[0m\u001b[0m_hold\u001b[0m \u001b[0;34m=\u001b[0m \u001b[0mwashold\u001b[0m\u001b[0;34m\u001b[0m\u001b[0m\n",
      "\u001b[0;32m/anaconda3/lib/python3.6/site-packages/matplotlib/__init__.py\u001b[0m in \u001b[0;36minner\u001b[0;34m(ax, *args, **kwargs)\u001b[0m\n\u001b[1;32m   1708\u001b[0m                     warnings.warn(msg % (label_namer, func.__name__),\n\u001b[1;32m   1709\u001b[0m                                   RuntimeWarning, stacklevel=2)\n\u001b[0;32m-> 1710\u001b[0;31m             \u001b[0;32mreturn\u001b[0m \u001b[0mfunc\u001b[0m\u001b[0;34m(\u001b[0m\u001b[0max\u001b[0m\u001b[0;34m,\u001b[0m \u001b[0;34m*\u001b[0m\u001b[0margs\u001b[0m\u001b[0;34m,\u001b[0m \u001b[0;34m**\u001b[0m\u001b[0mkwargs\u001b[0m\u001b[0;34m)\u001b[0m\u001b[0;34m\u001b[0m\u001b[0m\n\u001b[0m\u001b[1;32m   1711\u001b[0m         \u001b[0mpre_doc\u001b[0m \u001b[0;34m=\u001b[0m \u001b[0minner\u001b[0m\u001b[0;34m.\u001b[0m\u001b[0m__doc__\u001b[0m\u001b[0;34m\u001b[0m\u001b[0m\n\u001b[1;32m   1712\u001b[0m         \u001b[0;32mif\u001b[0m \u001b[0mpre_doc\u001b[0m \u001b[0;32mis\u001b[0m \u001b[0;32mNone\u001b[0m\u001b[0;34m:\u001b[0m\u001b[0;34m\u001b[0m\u001b[0m\n",
      "\u001b[0;32m/anaconda3/lib/python3.6/site-packages/matplotlib/axes/_axes.py\u001b[0m in \u001b[0;36mscatter\u001b[0;34m(self, x, y, s, c, marker, cmap, norm, vmin, vmax, alpha, linewidths, verts, edgecolors, **kwargs)\u001b[0m\n\u001b[1;32m   4017\u001b[0m         \u001b[0my\u001b[0m \u001b[0;34m=\u001b[0m \u001b[0mnp\u001b[0m\u001b[0;34m.\u001b[0m\u001b[0mma\u001b[0m\u001b[0;34m.\u001b[0m\u001b[0mravel\u001b[0m\u001b[0;34m(\u001b[0m\u001b[0my\u001b[0m\u001b[0;34m)\u001b[0m\u001b[0;34m\u001b[0m\u001b[0m\n\u001b[1;32m   4018\u001b[0m         \u001b[0;32mif\u001b[0m \u001b[0mx\u001b[0m\u001b[0;34m.\u001b[0m\u001b[0msize\u001b[0m \u001b[0;34m!=\u001b[0m \u001b[0my\u001b[0m\u001b[0;34m.\u001b[0m\u001b[0msize\u001b[0m\u001b[0;34m:\u001b[0m\u001b[0;34m\u001b[0m\u001b[0m\n\u001b[0;32m-> 4019\u001b[0;31m             \u001b[0;32mraise\u001b[0m \u001b[0mValueError\u001b[0m\u001b[0;34m(\u001b[0m\u001b[0;34m\"x and y must be the same size\"\u001b[0m\u001b[0;34m)\u001b[0m\u001b[0;34m\u001b[0m\u001b[0m\n\u001b[0m\u001b[1;32m   4020\u001b[0m \u001b[0;34m\u001b[0m\u001b[0m\n\u001b[1;32m   4021\u001b[0m         \u001b[0;32mif\u001b[0m \u001b[0ms\u001b[0m \u001b[0;32mis\u001b[0m \u001b[0;32mNone\u001b[0m\u001b[0;34m:\u001b[0m\u001b[0;34m\u001b[0m\u001b[0m\n",
      "\u001b[0;31mValueError\u001b[0m: x and y must be the same size"
     ]
    },
    {
     "data": {
      "image/png": "[encoded data removed]",
      "text/plain": [
       "<matplotlib.figure.Figure at 0x15fd5deb00>"
      ]
     },
     "metadata": {},
     "output_type": "display_data"
    }
   ],
   "source": [
    "plt.scatter(np.log(lofar_flux),np.log(irac_flux),s=0.4)\n",
    "plt.scatter(np.log(lofar_below_original),np.log(irac_below_original),s =0.2)\n",
    "#plt.scatter(np.log(lofar_below_new),np.log(irac_below_new),s=0.4)\n",
    "#xlim(-0.001,0.1)\n",
    "#ylim(-15,500)"
   ]
  },
  {
   "cell_type": "code",
   "execution_count": null,
   "metadata": {
    "collapsed": true
   },
   "outputs": [],
   "source": [
    "plt.scatter(np.log(lofar_flux),np.log(irac_flux),s=1)\n",
    "#plt.scatter(np.log(lofar_below_original),np.log(irac_below_original),s =0.2)\n",
    "plt.scatter(np.log(lofar_below_new),np.log(irac_below_new),s=0.4)"
   ]
  },
  {
   "cell_type": "code",
   "execution_count": null,
   "metadata": {
    "collapsed": true
   },
   "outputs": [],
   "source": [
    "ratio = irac_flux/lofar_flux\n",
    "for n in range(len(ratio)):\n",
    "    if ratio[n] <=0:\n",
    "        ratio[n] = 0.00001\n",
    "\n",
    "plt.hist(np.log(ratio),bins=100)\n",
    "plt.hist(np.log(ratio[lofar['lrt'] < threshold_i]),bins=100)\n",
    "plt.hist(np.log(ratio[lofar['lrt'] < threshold_sel]),bins=100)\n",
    "plt.xlim(0,20)\n",
    "plt.xlabel('log( irac flux / lofar flux)')\n",
    "print(2)"
   ]
  },
  {
   "cell_type": "code",
   "execution_count": null,
   "metadata": {
    "collapsed": true
   },
   "outputs": [],
   "source": [
    "plt.hist(np.log(ratio[lofar['lrt'] < threshold_sel]),bins=100)\n",
    "plt.plot(np.arange(0.0,20.0,0.01),gauss(np.arange(0.0,20.0,0.01),16.307,0.224,250))"
   ]
  },
  {
   "cell_type": "code",
   "execution_count": null,
   "metadata": {
    "collapsed": true
   },
   "outputs": [],
   "source": [
    "ratio_hist = np.histogram(np.log(ratio),bins=100)\n",
    "ratio_hist_old = np.histogram(np.log(ratio[lofar['lrt'] < threshold_i]),bins=100)\n",
    "ratio_hist_new = np.histogram(np.log(ratio[lofar['lrt'] < threshold_sel]),bins=100)"
   ]
  },
  {
   "cell_type": "code",
   "execution_count": null,
   "metadata": {
    "collapsed": true
   },
   "outputs": [],
   "source": [
    "ratio_hist[0][0] = 0\n",
    "ratio_hist_old[0][0] = 0\n",
    "ratio_hist_new[0][0] = 0"
   ]
  },
  {
   "cell_type": "code",
   "execution_count": null,
   "metadata": {
    "collapsed": true
   },
   "outputs": [],
   "source": [
    "def gauss(x,mean,sig):\n",
    "    amp = 1 / (sig*np.sqrt(2*3.1419))\n",
    "    exp = -0.5 * (x-mean)**2/(sig**2)\n",
    "    return(amp * np.exp(exp))"
   ]
  },
  {
   "cell_type": "code",
   "execution_count": null,
   "metadata": {
    "collapsed": true
   },
   "outputs": [],
   "source": [
    "popt1, pcov1 = curve_fit(gauss,ratio_hist[1][:99],ratio_hist[0][:99])\n",
    "popt2, pcov2 = curve_fit(gauss,ratio_hist_old[1][:99],ratio_hist_old[0][:99])\n",
    "popt3, pcov3 = curve_fit(gauss,ratio_hist_new[1][:99],ratio_hist_new[1][:99])\n",
    "print(popt1)\n",
    "print(popt2)\n",
    "print(popt3)"
   ]
  },
  {
   "cell_type": "code",
   "execution_count": null,
   "metadata": {
    "collapsed": true
   },
   "outputs": [],
   "source": []
  },
  {
   "cell_type": "code",
   "execution_count": null,
   "metadata": {
    "collapsed": true
   },
   "outputs": [],
   "source": [
    "max(lofar['lr_i'])"
   ]
  },
  {
   "cell_type": "code",
   "execution_count": null,
   "metadata": {
    "collapsed": true
   },
   "outputs": [],
   "source": [
    "percent = np.linspace(0,60.531,201)\n",
    "hist = np.histogram(lofar[lofar['lr_i'] !=0]['lr_i'], bins=201)\n",
    "#print (hist)\n",
    "cum = np.cumsum(hist[0])\n",
    "print (cum)\n",
    "plt.plot(percent,cum/cum[-1])\n",
    "plt.xlabel('likelihood')\n",
    "plt.ylabel('cumulative fraction')"
   ]
  },
  {
   "cell_type": "code",
   "execution_count": null,
   "metadata": {
    "collapsed": true
   },
   "outputs": [],
   "source": [
    "lofar[\"lr_index_sel_i\"] = lofar[\"lr_index_i\"]\n",
    "lofar[\"lr_index_sel_i\"][lofar[\"lr_i\"] < threshold_i] = np.nan"
   ]
  },
  {
   "cell_type": "markdown",
   "metadata": {},
   "source": [
    "### W1-band match"
   ]
  },
  {
   "cell_type": "code",
   "execution_count": null,
   "metadata": {
    "collapsed": true
   },
   "outputs": [],
   "source": [
    "idx_lofar, idx_i, d2d, d3d = search_around_sky(\n",
    "    coords_lofar, coords_combined[combined_w1], radius*u.arcsec)"
   ]
  },
  {
   "cell_type": "code",
   "execution_count": null,
   "metadata": {
    "collapsed": true
   },
   "outputs": [],
   "source": [
    "idx_lofar_unique = np.unique(idx_lofar)"
   ]
  },
  {
   "cell_type": "code",
   "execution_count": null,
   "metadata": {
    "collapsed": true
   },
   "outputs": [],
   "source": [
    "lofar[\"lr_w1\"] = np.nan                   # Likelihood ratio\n",
    "lofar[\"lr_dist_w1\"] = np.nan              # Distance to the selected source\n",
    "lofar[\"lr_index_w1\"] = np.nan             # Index of the PanSTARRS source in combined"
   ]
  },
  {
   "cell_type": "code",
   "execution_count": null,
   "metadata": {
    "collapsed": true
   },
   "outputs": [],
   "source": [
    "def ml_w1(i):\n",
    "    idx_0 = idx_i[idx_lofar == i]\n",
    "    d2d_0 = d2d[idx_lofar == i]\n",
    "    w1_mag = catalogue_w1[\"W1mag\"][idx_0]\n",
    "    \n",
    "    lofar_ra = lofar[i][\"RA\"]\n",
    "    lofar_dec = lofar[i][\"DEC\"]\n",
    "    lofar_pa = lofar[i][\"PA\"]\n",
    "    lofar_maj_err = lofar[i][\"E_Maj\"]\n",
    "    lofar_min_err = lofar[i][\"E_Min\"]\n",
    "    c_ra = catalogue_w1[\"ra\"][idx_0]\n",
    "    c_dec = catalogue_w1[\"dec\"][idx_0]\n",
    "    c_ra_err = catalogue_w1[\"raErr\"][idx_0]\n",
    "    c_dec_err = catalogue_w1[\"decErr\"][idx_0]\n",
    "    \n",
    "    sigma = get_sigma(lofar_maj_err, lofar_min_err, lofar_pa, \n",
    "                      lofar_ra, lofar_dec, \n",
    "                      c_ra, c_dec, c_ra_err, c_dec_err)\n",
    "    \n",
    "    lr_0 = likelihood_ratio_w1(w1_mag, d2d_0.arcsec, sigma)\n",
    "    chosen_index = np.argmax(lr_0)\n",
    "    result = [combined_aux_index[combined_w1][idx_0[chosen_index]], # Index\n",
    "              (d2d_0.arcsec)[chosen_index],                        # distance\n",
    "              lr_0[chosen_index]]                                  # LR\n",
    "    return result"
   ]
  },
  {
   "cell_type": "code",
   "execution_count": null,
   "metadata": {
    "collapsed": true
   },
   "outputs": [],
   "source": [
    "res = parallel_process(idx_lofar_unique, ml_w1)"
   ]
  },
  {
   "cell_type": "code",
   "execution_count": null,
   "metadata": {
    "collapsed": true
   },
   "outputs": [],
   "source": [
    "(lofar[\"lr_index_w1\"][idx_lofar_unique], \n",
    " lofar[\"lr_dist_w1\"][idx_lofar_unique], \n",
    " lofar[\"lr_w1\"][idx_lofar_unique]) = list(map(list, zip(*res)))"
   ]
  },
  {
   "cell_type": "markdown",
   "metadata": {},
   "source": [
    "#### Threshold and selection for W1 band"
   ]
  },
  {
   "cell_type": "code",
   "execution_count": null,
   "metadata": {
    "collapsed": true
   },
   "outputs": [],
   "source": [
    "lofar[\"lr_w1\"][np.isnan(lofar[\"lr_w1\"])] = 0"
   ]
  },
  {
   "cell_type": "code",
   "execution_count": null,
   "metadata": {
    "collapsed": true
   },
   "outputs": [],
   "source": [
    "threshold_w1 = np.percentile(lofar[\"lr_w1\"], 100*(1 - Q0_w1))"
   ]
  },
  {
   "cell_type": "code",
   "execution_count": null,
   "metadata": {
    "collapsed": true
   },
   "outputs": [],
   "source": [
    "threshold_w1"
   ]
  },
  {
   "cell_type": "code",
   "execution_count": null,
   "metadata": {
    "collapsed": true
   },
   "outputs": [],
   "source": [
    "plt.rcParams[\"figure.figsize\"] = (15,6)\n",
    "subplot(1,2,1)\n",
    "hist(lofar[lofar[\"lr_w1\"] != 0][\"lr_w1\"], bins=200)\n",
    "vlines([threshold_i], 0, 1000)\n",
    "ylim([0,1000])\n",
    "subplot(1,2,2)\n",
    "hist(np.log10(lofar[lofar[\"lr_w1\"] != 0][\"lr_w1\"]+1), bins=200)\n",
    "vlines(np.log10(threshold_i+1), 0, 1000)\n",
    "ticks, _ = xticks()\n",
    "xticks(ticks, [\"{:.1f}\".format(10**t-1) for t in ticks])\n",
    "ylim([0,1000]);"
   ]
  },
  {
   "cell_type": "code",
   "execution_count": null,
   "metadata": {
    "collapsed": true
   },
   "outputs": [],
   "source": [
    "lofar[\"lr_index_sel_w1\"] = lofar[\"lr_index_w1\"]\n",
    "lofar[\"lr_index_sel_w1\"][lofar[\"lr_w1\"] < threshold_w1] = np.nan"
   ]
  },
  {
   "cell_type": "markdown",
   "metadata": {},
   "source": [
    "### Final selection of the match\n",
    "\n",
    "We combine the ML matching done in i-band and W1-band. All the galaxies were the LR is above the selection ratio for the respective band are finally selected."
   ]
  },
  {
   "cell_type": "code",
   "execution_count": null,
   "metadata": {
    "collapsed": true
   },
   "outputs": [],
   "source": [
    "# lr_i_and_w1 = (lofar[\"lr_i\"] != 0) & (lofar[\"lr_w1\"] != 0)\n",
    "# lr_only_i = (lofar[\"lr_i\"] != 0) & (lofar[\"lr_w1\"] == 0)\n",
    "# lr_only_w1 = (lofar[\"lr_i\"] == 0) & (lofar[\"lr_w1\"] != 0)\n",
    "# lr_no_match = (lofar[\"lr_i\"] == 0) & (lofar[\"lr_w1\"] == 0)\n",
    "lr_i_and_w1 = ~np.isnan(lofar[\"lr_index_sel_i\"]) & ~np.isnan(lofar[\"lr_index_sel_w1\"])\n",
    "lr_only_i = ~np.isnan(lofar[\"lr_index_sel_i\"]) & np.isnan(lofar[\"lr_index_sel_w1\"])\n",
    "lr_only_w1 = np.isnan(lofar[\"lr_index_sel_i\"]) & ~np.isnan(lofar[\"lr_index_sel_w1\"])\n",
    "lr_no_match = np.isnan(lofar[\"lr_index_sel_i\"]) & np.isnan(lofar[\"lr_index_sel_w1\"])"
   ]
  },
  {
   "cell_type": "code",
   "execution_count": null,
   "metadata": {
    "collapsed": true
   },
   "outputs": [],
   "source": [
    "print(np.sum(lr_i_and_w1))\n",
    "print(np.sum(lr_only_i))\n",
    "print(np.sum(lr_only_w1))\n",
    "print(np.sum(lr_no_match))"
   ]
  },
  {
   "cell_type": "code",
   "execution_count": null,
   "metadata": {
    "collapsed": true
   },
   "outputs": [],
   "source": [
    "lofar[\"lr_index_1\"] = np.nan\n",
    "lofar[\"lr_dist_1\"] = np.nan\n",
    "lofar[\"lr_1\"] = np.nan\n",
    "lofar[\"lr_type_1\"] = 0"
   ]
  },
  {
   "cell_type": "code",
   "execution_count": null,
   "metadata": {
    "collapsed": true
   },
   "outputs": [],
   "source": [
    "# Only i matches\n",
    "lofar[\"lr_1\"][lr_only_i] = lofar[\"lr_i\"][lr_only_i]\n",
    "lofar[\"lr_index_1\"][lr_only_i] = lofar[\"lr_index_i\"][lr_only_i]\n",
    "lofar[\"lr_dist_1\"][lr_only_i] = lofar[\"lr_dist_i\"][lr_only_i]\n",
    "lofar[\"lr_type_1\"][lr_only_i] = 1\n",
    "\n",
    "# Only w1 matches\n",
    "lofar[\"lr_1\"][lr_only_w1] = lofar[\"lr_w1\"][lr_only_w1]\n",
    "lofar[\"lr_index_1\"][lr_only_w1] = lofar[\"lr_index_w1\"][lr_only_w1]\n",
    "lofar[\"lr_dist_1\"][lr_only_w1] = lofar[\"lr_dist_w1\"][lr_only_w1]\n",
    "lofar[\"lr_type_1\"][lr_only_w1] = 2\n",
    "\n",
    "# Both matches\n",
    "lofar[\"lr_1\"][lr_i_and_w1] = np.max([lofar[\"lr_i\"][lr_i_and_w1], lofar[\"lr_w1\"][lr_i_and_w1]], axis=0)\n",
    "lofar[\"lr_type_1\"][lr_i_and_w1] = np.argmax([lofar[\"lr_i\"][lr_i_and_w1], lofar[\"lr_w1\"][lr_i_and_w1]], axis=0) + 1\n",
    "\n",
    "c1 = (lofar[\"lr_type_1\"] == 1)\n",
    "c2 = (lofar[\"lr_type_1\"] == 2)\n",
    "lofar[\"lr_index_1\"][lr_i_and_w1 & c1] = lofar[\"lr_index_i\"][lr_i_and_w1 & c1]\n",
    "lofar[\"lr_index_1\"][lr_i_and_w1 & c2] = lofar[\"lr_index_w1\"][lr_i_and_w1 & c2]\n",
    "lofar[\"lr_dist_1\"][lr_i_and_w1 & c1] = lofar[\"lr_dist_i\"][lr_i_and_w1 & c1]\n",
    "lofar[\"lr_dist_1\"][lr_i_and_w1 & c2] = lofar[\"lr_dist_w1\"][lr_i_and_w1 & c2]"
   ]
  },
  {
   "cell_type": "markdown",
   "metadata": {},
   "source": [
    "Summary of the number of sources matches of each type"
   ]
  },
  {
   "cell_type": "code",
   "execution_count": null,
   "metadata": {
    "collapsed": true
   },
   "outputs": [],
   "source": [
    "print(\"match    sel-i: \", np.sum(lofar[\"lr_type_1\"][lr_i_and_w1] == 1))\n",
    "print(\"match   sel-W1: \", np.sum(lofar[\"lr_type_1\"][lr_i_and_w1] == 2))\n",
    "print(\"match     both: \", np.sum(lofar[\"lr_type_1\"][lr_i_and_w1] == 1) + \n",
    "                          np.sum(lofar[\"lr_type_1\"][lr_i_and_w1] == 2))\n",
    "print(\"match   i-only: \", np.sum(lofar[\"lr_type_1\"] == 1) - np.sum(lofar[\"lr_type_1\"][lr_i_and_w1] == 1))\n",
    "print(\"match  W1-only: \", np.sum(lofar[\"lr_type_1\"] == 2) - np.sum(lofar[\"lr_type_1\"][lr_i_and_w1] == 2))\n",
    "print(\"match      all: \", np.sum(lofar[\"lr_type_1\"] == 1) + \n",
    "                          np.sum(lofar[\"lr_type_1\"] == 2))\n",
    "print(\"         Total: \", len(lofar))"
   ]
  },
  {
   "cell_type": "markdown",
   "metadata": {},
   "source": [
    "The number of sources for which the match in i-band and W1-band are above the threshold but gives a different match to the combined catalogue."
   ]
  },
  {
   "cell_type": "code",
   "execution_count": null,
   "metadata": {
    "collapsed": true
   },
   "outputs": [],
   "source": [
    "print(np.sum(lofar[\"lr_index_i\"][lr_i_and_w1] != lofar[\"lr_index_w1\"][lr_i_and_w1]))"
   ]
  },
  {
   "cell_type": "markdown",
   "metadata": {},
   "source": [
    "#### Duplicated sources\n",
    "\n",
    "This is the nymber of sources of the combined catalogue that are combined to multiple LOFAR sources. In the case of the catalogue of Gaussians the number can be very high."
   ]
  },
  {
   "cell_type": "code",
   "execution_count": null,
   "metadata": {
    "collapsed": true
   },
   "outputs": [],
   "source": [
    "values, counts = np.unique(lofar[lofar[\"lr_type_1\"] != 0][\"lr_index_1\"], return_counts=True)"
   ]
  },
  {
   "cell_type": "code",
   "execution_count": null,
   "metadata": {
    "collapsed": true
   },
   "outputs": [],
   "source": [
    "len(values[counts > 1])"
   ]
  },
  {
   "cell_type": "code",
   "execution_count": null,
   "metadata": {
    "collapsed": true
   },
   "outputs": [],
   "source": [
    "n_dup, n_sour = np.unique(counts[counts > 1], return_counts=True)"
   ]
  },
  {
   "cell_type": "code",
   "execution_count": null,
   "metadata": {
    "collapsed": true
   },
   "outputs": [],
   "source": [
    "plt.rcParams[\"figure.figsize\"] = (6,6)\n",
    "semilogy(n_dup, n_sour, marker=\"x\")\n",
    "xlabel(\"Number of multiple matches\")\n",
    "ylabel(\"Number of sources in the category\")"
   ]
  },
  {
   "cell_type": "markdown",
   "metadata": {},
   "source": [
    "### Save intermediate data"
   ]
  },
  {
   "cell_type": "code",
   "execution_count": null,
   "metadata": {
    "collapsed": true
   },
   "outputs": [],
   "source": [
    "if save_intermediate:\n",
    "    pickle.dump([bin_list_i, center_i, Q0_i, n_m_i, q_m_i], \n",
    "                open(\"{}/lofar_params_1i.pckl\".format(idp), 'wb'))\n",
    "    pickle.dump([bin_list_w1, center_w1, Q0_w1, n_m_w1, q_m_w1], \n",
    "                open(\"{}/lofar_params_1w1.pckl\".format(idp), 'wb'))\n",
    "    lofar.write(\"{}/lofar_m1.fits\".format(idp), format=\"fits\")"
   ]
  },
  {
   "cell_type": "markdown",
   "metadata": {},
   "source": [
    "## Second iteration using colour\n",
    "\n",
    "From now on we will take into account the effect of the colour. The sample was distributed in several categories according to the colour of the source and this is considered here.\n",
    "\n",
    "### Rusable parameters for all the iterations\n",
    "\n",
    "These parameters are derived from the underlying population and will not change.\n",
    "\n",
    "First we compute the number of galaxies in each bin for the combined catalogue"
   ]
  },
  {
   "cell_type": "code",
   "execution_count": null,
   "metadata": {
    "collapsed": true
   },
   "outputs": [],
   "source": [
    "bin_list = [bin_list_w1 if i == 0 else bin_list_i for i in range(len(colour_bin_def))]\n",
    "centers = [center_w1 if i == 0 else center_i for i in range(len(colour_bin_def))]"
   ]
  },
  {
   "cell_type": "code",
   "execution_count": null,
   "metadata": {
    "collapsed": true
   },
   "outputs": [],
   "source": [
    "numbers_combined_bins = np.array([np.sum(a[\"condition\"]) for a in colour_bin_def])"
   ]
  },
  {
   "cell_type": "code",
   "execution_count": null,
   "metadata": {
    "collapsed": true
   },
   "outputs": [],
   "source": [
    "numbers_combined_bins"
   ]
  },
  {
   "cell_type": "markdown",
   "metadata": {},
   "source": [
    "Get the colour category and magnitudes for the matched LOFAR sources"
   ]
  },
  {
   "cell_type": "code",
   "execution_count": null,
   "metadata": {
    "collapsed": true
   },
   "outputs": [],
   "source": [
    "n_m = []\n",
    "\n",
    "# W1 only sources\n",
    "n_m.append(get_n_m(combined[\"W1mag\"][combined[\"category\"] == 0], bin_list_w1, field.area))\n",
    "\n",
    "# Rest of the sources\n",
    "for i in range(1, len(colour_bin_def)):\n",
    "    n_m.append(get_n_m(combined[\"i\"][combined[\"category\"] == i], bin_list_i, field.area))"
   ]
  },
  {
   "cell_type": "code",
   "execution_count": null,
   "metadata": {
    "collapsed": true
   },
   "outputs": [],
   "source": [
    "plt.rcParams[\"figure.figsize\"] = (15,15)\n",
    "for i, n_m_k in enumerate(n_m):\n",
    "    subplot(5,5,i+1)\n",
    "    plot(centers[i], n_m_k)"
   ]
  },
  {
   "cell_type": "markdown",
   "metadata": {},
   "source": [
    "### Parameters of the matched sample\n",
    "\n",
    "The parameters derived from the matched LOFAR galaxies: $q_0$, q(m) and the number of sources per category.\n",
    "\n",
    "The columns \"category\", \"W1mag\" and \"i\" will contain the properties of the matched galaxies and will be updated in each iteration to save space."
   ]
  },
  {
   "cell_type": "code",
   "execution_count": null,
   "metadata": {
    "collapsed": true
   },
   "outputs": [],
   "source": [
    "lofar[\"category\"] = np.nan\n",
    "lofar[\"W1mag\"] = np.nan\n",
    "lofar[\"i\"] = np.nan"
   ]
  },
  {
   "cell_type": "code",
   "execution_count": null,
   "metadata": {
    "collapsed": true
   },
   "outputs": [],
   "source": [
    "c = ~np.isnan(lofar[\"lr_index_1\"])\n",
    "indices = lofar[\"lr_index_1\"][c].astype(int)\n",
    "lofar[\"category\"][c] = combined[indices][\"category\"]\n",
    "lofar[\"W1mag\"][c] = combined[indices][\"W1mag\"]\n",
    "lofar[\"i\"][c] = combined[indices][\"i\"]"
   ]
  },
  {
   "cell_type": "markdown",
   "metadata": {},
   "source": [
    "The next parameter represent the number of matched LOFAR sources in each colour category."
   ]
  },
  {
   "cell_type": "code",
   "execution_count": null,
   "metadata": {
    "collapsed": true
   },
   "outputs": [],
   "source": [
    "numbers_lofar_combined_bins = np.array([np.sum(lofar[\"category\"] == c) \n",
    "                                        for c in range(len(numbers_combined_bins))])"
   ]
  },
  {
   "cell_type": "code",
   "execution_count": null,
   "metadata": {
    "collapsed": true
   },
   "outputs": [],
   "source": [
    "numbers_lofar_combined_bins"
   ]
  },
  {
   "cell_type": "markdown",
   "metadata": {},
   "source": [
    "The $Q_0$ for each category are obtained by dividing the number of sources in the category by the total number of sources in the sample."
   ]
  },
  {
   "cell_type": "code",
   "execution_count": null,
   "metadata": {
    "collapsed": true
   },
   "outputs": [],
   "source": [
    "Q_0_colour = numbers_lofar_combined_bins/len(lofar) ### Q_0"
   ]
  },
  {
   "cell_type": "code",
   "execution_count": null,
   "metadata": {
    "collapsed": true
   },
   "outputs": [],
   "source": [
    "q0_total = np.sum(Q_0_colour)"
   ]
  },
  {
   "cell_type": "code",
   "execution_count": null,
   "metadata": {
    "collapsed": true
   },
   "outputs": [],
   "source": [
    "q0_total"
   ]
  },
  {
   "cell_type": "markdown",
   "metadata": {},
   "source": [
    "The q(m) is not estimated with the method of Fleuren et al. but with the most updated distributions and numbers for the matches."
   ]
  },
  {
   "cell_type": "code",
   "execution_count": null,
   "metadata": {
    "collapsed": true
   },
   "outputs": [],
   "source": [
    "q_m = []\n",
    "radius = 15. \n",
    "\n",
    "# W1 only sources\n",
    "q_m.append(get_q_m(lofar[\"W1mag\"][lofar[\"category\"] == 0], \n",
    "                   bin_list_w1, \n",
    "                   numbers_lofar_combined_bins[0], \n",
    "                   n_m[0], \n",
    "                   field.area, \n",
    "                   radius=radius))\n",
    "\n",
    "# Rest of the sources\n",
    "for i in range(1, len(numbers_lofar_combined_bins)):\n",
    "    q_m.append(get_q_m(lofar[\"i\"][lofar[\"category\"] == i], \n",
    "                   bin_list_i, \n",
    "                   numbers_lofar_combined_bins[i], \n",
    "                   n_m[i], \n",
    "                   field.area, \n",
    "                   radius=radius))"
   ]
  },
  {
   "cell_type": "code",
   "execution_count": null,
   "metadata": {
    "collapsed": true
   },
   "outputs": [],
   "source": [
    "plt.rcParams[\"figure.figsize\"] = (15,15)\n",
    "for i, q_m_k in enumerate(q_m):\n",
    "    subplot(5,5,i+1)\n",
    "    plot(centers[i], q_m_k)"
   ]
  },
  {
   "cell_type": "markdown",
   "metadata": {},
   "source": [
    "### Save intermediate parameters"
   ]
  },
  {
   "cell_type": "code",
   "execution_count": null,
   "metadata": {
    "collapsed": true
   },
   "outputs": [],
   "source": [
    "if save_intermediate:\n",
    "    pickle.dump([bin_list, centers, Q_0_colour, n_m, q_m], \n",
    "                open(\"{}/lofar_params_2.pckl\".format(idp), 'wb'))"
   ]
  },
  {
   "cell_type": "markdown",
   "metadata": {},
   "source": [
    "### Prepare for ML"
   ]
  },
  {
   "cell_type": "code",
   "execution_count": null,
   "metadata": {
    "collapsed": true
   },
   "outputs": [],
   "source": [
    "selection = ~np.isnan(combined[\"category\"]) # Avoid the two dreaded sources with no actual data\n",
    "catalogue = combined[selection]"
   ]
  },
  {
   "cell_type": "code",
   "execution_count": null,
   "metadata": {
    "collapsed": true
   },
   "outputs": [],
   "source": [
    "radius = 15"
   ]
  },
  {
   "cell_type": "code",
   "execution_count": null,
   "metadata": {
    "collapsed": true
   },
   "outputs": [],
   "source": [
    "def apply_ml(i, likelihood_ratio_function):\n",
    "    idx_0 = idx_i[idx_lofar == i]\n",
    "    d2d_0 = d2d[idx_lofar == i]\n",
    "    \n",
    "    category = catalogue[\"category\"][idx_0].astype(int)\n",
    "    mag = catalogue[\"i\"][idx_0]\n",
    "    mag[category == 0] = catalogue[\"W1mag\"][idx_0][category == 0]\n",
    "    \n",
    "    lofar_ra = lofar[i][\"RA\"]\n",
    "    lofar_dec = lofar[i][\"DEC\"]\n",
    "    lofar_pa = lofar[i][\"PA\"]\n",
    "    lofar_maj_err = lofar[i][\"E_Maj\"]\n",
    "    lofar_min_err = lofar[i][\"E_Min\"]\n",
    "    c_ra = catalogue[\"ra\"][idx_0]\n",
    "    c_dec = catalogue[\"dec\"][idx_0]\n",
    "    c_ra_err = catalogue[\"raErr\"][idx_0]\n",
    "    c_dec_err = catalogue[\"decErr\"][idx_0]\n",
    "    \n",
    "    sigma = get_sigma(lofar_maj_err, lofar_min_err, lofar_pa, \n",
    "                      lofar_ra, lofar_dec, \n",
    "                      c_ra, c_dec, c_ra_err, c_dec_err)\n",
    "\n",
    "    lr_0 = likelihood_ratio_function(mag, d2d_0.arcsec, sigma, category)\n",
    "    \n",
    "    chosen_index = np.argmax(lr_0)\n",
    "    result = [combined_aux_index[selection][idx_0[chosen_index]], # Index\n",
    "              (d2d_0.arcsec)[chosen_index],                        # distance\n",
    "              lr_0[chosen_index]]                                  # LR\n",
    "    return result"
   ]
  },
  {
   "cell_type": "markdown",
   "metadata": {},
   "source": [
    "### Run the cross-match\n",
    "\n",
    "This will not need to be repeated after"
   ]
  },
  {
   "cell_type": "code",
   "execution_count": null,
   "metadata": {
    "collapsed": true
   },
   "outputs": [],
   "source": [
    "idx_lofar, idx_i, d2d, d3d = search_around_sky(\n",
    "    coords_lofar, coords_combined[selection], radius*u.arcsec)"
   ]
  },
  {
   "cell_type": "code",
   "execution_count": null,
   "metadata": {
    "collapsed": true
   },
   "outputs": [],
   "source": [
    "idx_lofar_unique = np.unique(idx_lofar)"
   ]
  },
  {
   "cell_type": "markdown",
   "metadata": {},
   "source": [
    "### Run the ML matching"
   ]
  },
  {
   "cell_type": "code",
   "execution_count": null,
   "metadata": {
    "collapsed": true
   },
   "outputs": [],
   "source": [
    "likelihood_ratio = MultiMLEstimator(Q_0_colour, n_m, q_m, centers)"
   ]
  },
  {
   "cell_type": "code",
   "execution_count": null,
   "metadata": {
    "collapsed": true
   },
   "outputs": [],
   "source": [
    "def ml(i):\n",
    "    return apply_ml(i, likelihood_ratio)"
   ]
  },
  {
   "cell_type": "code",
   "execution_count": null,
   "metadata": {
    "collapsed": true
   },
   "outputs": [],
   "source": [
    "res = parallel_process(idx_lofar_unique, ml, n_jobs=4)"
   ]
  },
  {
   "cell_type": "code",
   "execution_count": null,
   "metadata": {
    "collapsed": true
   },
   "outputs": [],
   "source": [
    "lofar[\"lr_index_2\"] = np.nan\n",
    "lofar[\"lr_dist_2\"] = np.nan\n",
    "lofar[\"lr_2\"] = np.nan"
   ]
  },
  {
   "cell_type": "code",
   "execution_count": null,
   "metadata": {
    "collapsed": true
   },
   "outputs": [],
   "source": [
    "(lofar[\"lr_index_2\"][idx_lofar_unique], \n",
    " lofar[\"lr_dist_2\"][idx_lofar_unique], \n",
    " lofar[\"lr_2\"][idx_lofar_unique]) = list(map(list, zip(*res)))"
   ]
  },
  {
   "cell_type": "markdown",
   "metadata": {},
   "source": [
    "Get the new threshold for the ML matching. FIX THIS"
   ]
  },
  {
   "cell_type": "code",
   "execution_count": null,
   "metadata": {
    "collapsed": true
   },
   "outputs": [],
   "source": [
    "lofar[\"lr_2\"][np.isnan(lofar[\"lr_2\"])] = 0"
   ]
  },
  {
   "cell_type": "code",
   "execution_count": null,
   "metadata": {
    "collapsed": true
   },
   "outputs": [],
   "source": [
    "threshold = np.percentile(lofar[\"lr_2\"], 100*(1 - q0_total))\n",
    "#manual_q0 = 0.65\n",
    "#threshold = np.percentile(lofar[\"lr_2\"], 100*(1 - manual_q0))"
   ]
  },
  {
   "cell_type": "code",
   "execution_count": null,
   "metadata": {
    "collapsed": true
   },
   "outputs": [],
   "source": [
    "threshold"
   ]
  },
  {
   "cell_type": "code",
   "execution_count": null,
   "metadata": {
    "collapsed": true
   },
   "outputs": [],
   "source": [
    "plt.rcParams[\"figure.figsize\"] = (15,6)\n",
    "subplot(1,2,1)\n",
    "hist(lofar[lofar[\"lr_2\"] != 0][\"lr_2\"], bins=200)\n",
    "vlines([threshold_i], 0, 1000)\n",
    "ylim([0,1000])\n",
    "subplot(1,2,2)\n",
    "hist(np.log10(lofar[lofar[\"lr_2\"] != 0][\"lr_2\"]+1), bins=200)\n",
    "vlines(np.log10(threshold_i+1), 0, 1000)\n",
    "ticks, _ = xticks()\n",
    "xticks(ticks, [\"{:.1f}\".format(10**t-1) for t in ticks])\n",
    "ylim([0,1000]);"
   ]
  },
  {
   "cell_type": "code",
   "execution_count": null,
   "metadata": {
    "collapsed": true
   },
   "outputs": [],
   "source": [
    "lofar[\"lr_index_sel_2\"] = lofar[\"lr_index_2\"]\n",
    "lofar[\"lr_index_sel_2\"][lofar[\"lr_2\"] < threshold] = np.nan"
   ]
  },
  {
   "cell_type": "code",
   "execution_count": null,
   "metadata": {
    "collapsed": true
   },
   "outputs": [],
   "source": [
    "n_changes = np.sum((lofar[\"lr_index_sel_2\"] != lofar[\"lr_index_1\"]) & \n",
    "                   ~np.isnan(lofar[\"lr_index_sel_2\"]) &\n",
    "                   ~np.isnan(lofar[\"lr_index_1\"]))"
   ]
  },
  {
   "cell_type": "code",
   "execution_count": null,
   "metadata": {
    "collapsed": true
   },
   "outputs": [],
   "source": [
    "n_changes"
   ]
  },
  {
   "cell_type": "markdown",
   "metadata": {},
   "source": [
    "Enter the results"
   ]
  },
  {
   "cell_type": "code",
   "execution_count": null,
   "metadata": {
    "collapsed": true
   },
   "outputs": [],
   "source": [
    "# Clear aux columns\n",
    "lofar[\"category\"] = np.nan\n",
    "lofar[\"W1mag\"] = np.nan\n",
    "lofar[\"i\"] = np.nan\n",
    "\n",
    "c = ~np.isnan(lofar[\"lr_index_sel_2\"])\n",
    "indices = lofar[\"lr_index_sel_2\"][c].astype(int)\n",
    "lofar[\"category\"][c] = combined[indices][\"category\"]\n",
    "lofar[\"W1mag\"][c] = combined[indices][\"W1mag\"]\n",
    "lofar[\"i\"][c] = combined[indices][\"i\"]"
   ]
  },
  {
   "cell_type": "markdown",
   "metadata": {},
   "source": [
    "### Save intermediate data"
   ]
  },
  {
   "cell_type": "code",
   "execution_count": null,
   "metadata": {
    "collapsed": true
   },
   "outputs": [],
   "source": [
    "if save_intermediate:\n",
    "    lofar.write(\"{}/lofar_m2.fits\".format(idp), format=\"fits\")"
   ]
  },
  {
   "cell_type": "markdown",
   "metadata": {},
   "source": [
    "## Iterate until convergence"
   ]
  },
  {
   "cell_type": "code",
   "execution_count": null,
   "metadata": {
    "collapsed": true
   },
   "outputs": [],
   "source": [
    "radius = 15. "
   ]
  },
  {
   "cell_type": "code",
   "execution_count": null,
   "metadata": {
    "collapsed": true
   },
   "outputs": [],
   "source": [
    "from matplotlib import pyplot as plt"
   ]
  },
  {
   "cell_type": "code",
   "execution_count": null,
   "metadata": {
    "collapsed": true
   },
   "outputs": [],
   "source": [
    "for j in range(10):\n",
    "    iteration = j+3 \n",
    "    print(\"Iteration {}\".format(iteration))\n",
    "    print(\"=============\")\n",
    "    ## Get new parameters\n",
    "    # Number of matched sources per bin\n",
    "    numbers_lofar_combined_bins = np.array([np.sum(lofar[\"category\"] == c) \n",
    "                                            for c in range(len(numbers_combined_bins))])\n",
    "    print(\"numbers_lofar_combined_bins\")\n",
    "    print(numbers_lofar_combined_bins)\n",
    "    # q_0\n",
    "    Q_0_colour_est = numbers_lofar_combined_bins/len(lofar) ### Q_0\n",
    "    Q_0_colour = q0_min_numbers(Q_0_colour_est, numbers_combined_bins)\n",
    "    print(\"Q_0_colour\")\n",
    "    print(Q_0_colour)\n",
    "    q0_total = np.sum(Q_0_colour)\n",
    "    print(\"Q_0_total: \", q0_total)\n",
    "    # q_m\n",
    "    q_m = []\n",
    "    # W1 only sources\n",
    "    q_m.append(get_q_m(lofar[\"W1mag\"][lofar[\"category\"] == 0], \n",
    "                   bin_list_w1, \n",
    "                   numbers_lofar_combined_bins[0], \n",
    "                   n_m[0], \n",
    "                   field.area, \n",
    "                   radius=radius))\n",
    "    # Rest of the sources\n",
    "    for i in range(1, len(numbers_lofar_combined_bins)):\n",
    "        q_m.append(get_q_m(lofar[\"i\"][lofar[\"category\"] == i], \n",
    "                       bin_list_i, \n",
    "                       numbers_lofar_combined_bins[i], \n",
    "                       n_m[i], \n",
    "                       field.area, \n",
    "                       radius=radius))\n",
    "    # Save new parameters\n",
    "    if save_intermediate:\n",
    "        pickle.dump([bin_list, centers, Q_0_colour, n_m, q_m], \n",
    "                    open(\"{}/lofar_params_{}.pckl\".format(idp, iteration), 'wb'))\n",
    "    if plot_intermediate:\n",
    "        fig = plt.figure(figsize=(15,15))\n",
    "        for i, q_m_k in enumerate(q_m):\n",
    "            plt.subplot(5,5,i+1)\n",
    "            plt.plot(centers[i], q_m_k)\n",
    "        plt.savefig('{}/q0_{}.png'.format(idp, iteration))\n",
    "        del fig\n",
    "    ## Define new likelihood_ratio\n",
    "    likelihood_ratio = MultiMLEstimator(Q_0_colour, n_m, q_m, centers)\n",
    "    def ml(i):\n",
    "        return apply_ml(i, likelihood_ratio)\n",
    "    ## Run the ML\n",
    "    res = parallel_process(idx_lofar_unique, ml, n_jobs=4)\n",
    "    lofar[\"lr_index_{}\".format(iteration)] = np.nan\n",
    "    lofar[\"lr_dist_{}\".format(iteration)] = np.nan\n",
    "    lofar[\"lr_{}\".format(iteration)] = np.nan\n",
    "    (lofar[\"lr_index_{}\".format(iteration)][idx_lofar_unique], \n",
    "     lofar[\"lr_dist_{}\".format(iteration)][idx_lofar_unique], \n",
    "     lofar[\"lr_{}\".format(iteration)][idx_lofar_unique]) = list(map(list, zip(*res)))\n",
    "    lofar[\"lr_{}\".format(iteration)][np.isnan(lofar[\"lr_{}\".format(iteration)])] = 0\n",
    "    ## Get and apply the threshold\n",
    "    threshold = np.percentile(lofar[\"lr_{}\".format(iteration)], 100*(1 - q0_total))\n",
    "    #threshold = get_threshold(lofar[lofar[\"lr_{}\".format(iteration)] != 0][\"lr_{}\".format(iteration)])\n",
    "    print(\"Threshold: \", threshold)\n",
    "    if plot_intermediate:\n",
    "        fig = plt.figure(figsize=(15,6))\n",
    "        plt.subplot(1,2,1)\n",
    "        plt.hist(lofar[lofar[\"lr_{}\".format(iteration)] != 0][\"lr_{}\".format(iteration)], bins=200)\n",
    "        plt.vlines([threshold], 0, 1000)\n",
    "        plt.ylim([0,1000])\n",
    "        plt.subplot(1,2,2)\n",
    "        plt.hist(np.log10(lofar[lofar[\"lr_{}\".format(iteration)] != 0][\"lr_{}\".format(iteration)]+1), bins=200)\n",
    "        plt.vlines(np.log10(threshold+1), 0, 1000)\n",
    "        ticks, _ = plt.xticks()\n",
    "        plt.xticks(ticks, [\"{:.1f}\".format(10**t-1) for t in ticks])\n",
    "        plt.ylim([0,1000])\n",
    "        plt.savefig('{}/lr_distribution_{}.png'.format(idp, iteration))\n",
    "        del fig\n",
    "    ## Apply the threshold\n",
    "    lofar[\"lr_index_sel_{}\".format(iteration)] = lofar[\"lr_index_{}\".format(iteration)]\n",
    "    lofar[\"lr_index_sel_{}\".format(iteration)][lofar[\"lr_{}\".format(iteration)] < threshold] = np.nan\n",
    "    ## Enter changes into the catalogue\n",
    "    # Clear aux columns\n",
    "    lofar[\"category\"] = np.nan\n",
    "    lofar[\"W1mag\"] = np.nan\n",
    "    lofar[\"i\"] = np.nan\n",
    "    # Update data\n",
    "    c = ~np.isnan(lofar[\"lr_index_sel_{}\".format(iteration)])\n",
    "    indices = lofar[\"lr_index_sel_{}\".format(iteration)][c].astype(int)\n",
    "    lofar[\"category\"][c] = combined[indices][\"category\"]\n",
    "    lofar[\"W1mag\"][c] = combined[indices][\"W1mag\"]\n",
    "    lofar[\"i\"][c] = combined[indices][\"i\"]\n",
    "    # Save the data\n",
    "    if save_intermediate:\n",
    "        lofar.write(\"{}/lofar_m{}.fits\".format(idp, iteration), format=\"fits\")\n",
    "    ## Compute number of changes\n",
    "    n_changes = np.sum((\n",
    "            lofar[\"lr_index_sel_{}\".format(iteration)] != lofar[\"lr_index_sel_{}\".format(iteration-1)]) & \n",
    "            ~np.isnan(lofar[\"lr_index_sel_{}\".format(iteration)]) &\n",
    "            ~np.isnan(lofar[\"lr_index_sel_{}\".format(iteration-1)]))\n",
    "    print(\"N changes: \", n_changes)\n",
    "    ## Check changes\n",
    "    if n_changes == 0:\n",
    "        break\n",
    "    else:\n",
    "        print(\"******** continue **********\")"
   ]
  },
  {
   "cell_type": "code",
   "execution_count": null,
   "metadata": {
    "collapsed": true
   },
   "outputs": [],
   "source": []
  }
 ],
 "metadata": {
  "kernelspec": {
   "display_name": "Python 3",
   "language": "python",
   "name": "python3"
  },
  "language_info": {
   "codemirror_mode": {
    "name": "ipython",
    "version": 3
   },
   "file_extension": ".py",
   "mimetype": "text/x-python",
   "name": "python",
   "nbconvert_exporter": "python",
   "pygments_lexer": "ipython3",
   "version": "3.6.3"
  }
 },
 "nbformat": 4,
 "nbformat_minor": 1
}
