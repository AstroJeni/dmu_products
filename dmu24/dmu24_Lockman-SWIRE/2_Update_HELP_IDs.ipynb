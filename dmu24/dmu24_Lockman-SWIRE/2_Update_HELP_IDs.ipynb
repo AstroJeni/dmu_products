{
 "cells": [
  {
   "cell_type": "markdown",
   "metadata": {},
   "source": [
    "# Lockman-SWIRE check HELP IDs\n",
    "\n",
    "Because the photo-zs were computed from an early version of the masterlist, there is some concern that the HELP IDs may have changed. In this notebook we will check for differences and convert the old IDs to the new ones if required."
   ]
  },
  {
   "cell_type": "code",
   "execution_count": 1,
   "metadata": {},
   "outputs": [
    {
     "name": "stdout",
     "output_type": "stream",
     "text": [
      "This notebook was run with herschelhelp_internal version: \n",
      "0246c5d (Thu Jan 25 17:01:47 2018 +0000) [with local modifications]\n"
     ]
    }
   ],
   "source": [
    "from herschelhelp_internal import git_version\n",
    "print(\"This notebook was run with herschelhelp_internal version: \\n{}\".format(git_version()))"
   ]
  },
  {
   "cell_type": "code",
   "execution_count": 2,
   "metadata": {},
   "outputs": [],
   "source": [
    "%matplotlib inline\n",
    "#%config InlineBackend.figure_format = 'svg'\n",
    "\n",
    "import matplotlib.pyplot as plt\n",
    "plt.rc('figure', figsize=(10, 6))\n",
    "\n",
    "import os\n",
    "import time\n",
    "\n",
    "from astropy import units as u\n",
    "from astropy.coordinates import SkyCoord\n",
    "from astropy.table import join, Column, Table\n",
    "import numpy as np\n",
    "from pymoc import MOC\n",
    "\n",
    "from collections import Counter\n",
    "\n",
    "from herschelhelp_internal.masterlist import merge_catalogues, nb_merge_dist_plot, specz_merge\n",
    "from herschelhelp_internal.utils import coords_to_hpidx, ebv, gen_help_id, inMoc"
   ]
  },
  {
   "cell_type": "code",
   "execution_count": 3,
   "metadata": {
    "collapsed": true
   },
   "outputs": [],
   "source": [
    "\n",
    "OUT_DIR = os.environ.get('OUT_DIR', \"./data\")\n",
    "SUFFIX = os.environ.get('SUFFIX', time.strftime(\"_%Y%m%d\"))\n",
    "\n",
    "OLD_SUFFIX = \"20170710\"\n",
    "NEW_SUFFIX = \"20180219\"\n",
    "\n",
    "ML_FOLDER = \"../../dmu1/dmu1_ml_Lockman-SWIRE/\"\n",
    "\n",
    "try:\n",
    "    os.makedirs(OUT_DIR)\n",
    "except FileExistsError:\n",
    "    pass"
   ]
  },
  {
   "cell_type": "markdown",
   "metadata": {},
   "source": [
    "## I - Reading the prepared pristine catalogues"
   ]
  },
  {
   "cell_type": "code",
   "execution_count": 4,
   "metadata": {},
   "outputs": [],
   "source": [
    "photoz = Table.read(\"./data/master_catalogue_Lockman-SWIRE_20170710_photoz_20170802_r_and_irac1_optimised.fits\")\n",
    "master_catalogue = Table.read(\"{}data/master_catalogue_lockman-swire_{}.fits\".format(ML_FOLDER, NEW_SUFFIX))[\"help_id\",\"ra\",\"dec\"]\n"
   ]
  },
  {
   "cell_type": "code",
   "execution_count": 5,
   "metadata": {
    "collapsed": true
   },
   "outputs": [],
   "source": [
    "photoz.meta = None\n",
    "\n",
    "#photoz = photoz['help_id', 'z1_median', 'RA', 'DEC']\n",
    "\n",
    "photoz['RA'].name = 'photoz_ra'\n",
    "photoz['DEC'].name = 'photoz_dec'\n",
    "#photoz['z1_median'].name = 'redshift'\n",
    "\n",
    "photoz['z1_median'][photoz['z1_median'] < 0] = np.nan  # -99 used for missing values"
   ]
  },
  {
   "cell_type": "code",
   "execution_count": 6,
   "metadata": {},
   "outputs": [],
   "source": [
    "merged_table = join(master_catalogue, photoz, join_type='left')\n",
    "\n",
    "# Fill values\n",
    "merged_table['z1_median'].fill_value = np.nan\n",
    "merged_table = merged_table.filled()"
   ]
  },
  {
   "cell_type": "code",
   "execution_count": 7,
   "metadata": {},
   "outputs": [
    {
     "name": "stdout",
     "output_type": "stream",
     "text": [
      "Master catalogue length: 4366298\n",
      "Photoz length: 1382785\n",
      "Merged length: 4366298\n",
      "Merged photozs length: 797328\n",
      "Nonnan photozs length: 1377480\n"
     ]
    }
   ],
   "source": [
    "print(\"Master catalogue length: {}\".format(len(master_catalogue)))\n",
    "print(\"Photoz length: {}\".format(len(photoz)))\n",
    "print(\"Merged length: {}\".format(len(merged_table)))\n",
    "print(\"Merged photozs length: {}\".format(np.sum(~np.isnan(merged_table['z1_median']))))\n",
    "print(\"Nonnan photozs length: {}\".format(np.sum(~np.isnan(photoz['z1_median']))))"
   ]
  },
  {
   "cell_type": "markdown",
   "metadata": {},
   "source": [
    "### Check positions"
   ]
  },
  {
   "cell_type": "code",
   "execution_count": 8,
   "metadata": {},
   "outputs": [
    {
     "data": {
      "image/png": "[encoded data removed]",
      "text/plain": [
       "<matplotlib.figure.Figure at 0x7f36b368ed30>"
      ]
     },
     "metadata": {},
     "output_type": "display_data"
    }
   ],
   "source": [
    "photoz['photoz_ra'].unit = u.deg\n",
    "photoz['photoz_dec'].unit = u.deg\n",
    "nb_merge_dist_plot(\n",
    "    SkyCoord(photoz['photoz_ra'], photoz['photoz_dec']),\n",
    "    SkyCoord(master_catalogue['ra'], master_catalogue['dec'])\n",
    ")"
   ]
  },
  {
   "cell_type": "code",
   "execution_count": 9,
   "metadata": {
    "collapsed": true
   },
   "outputs": [],
   "source": [
    "def helpid_merge(catalogue, RA_COL, DEC_COL, master_catalogue, radius=0.4*u.arcsec):\n",
    "    \"\"\"Add a column with new HELP_ids to some catalogue.\n",
    "\n",
    "    This function cross-match a catalogue with the HELP latest masterlist:\n",
    "    \n",
    "    Occasionally some catalogue was produced from an out of date masterlist\n",
    "    leading to subtle differences in help_ids and causing problems with\n",
    "    joins and all means depending on help_ids for matches.\n",
    "    \n",
    "    This code uses a positional cross match to add up to date help_id data.\n",
    "   \n",
    "    Parameters\n",
    "    ----------\n",
    "    catalogue: astropy.table.Table\n",
    "        The table containing the catalogue. It must not contain a 'help_id' \n",
    "        column. \n",
    "    RA_COL: \n",
    "        The name of the ra column in the catalogue\n",
    "    DEC_COL:\n",
    "        The name of the dec column in the catalogue\n",
    "    master_catalogue: astropy.table.Table\n",
    "        The table containing the updated masterlist IDs from the latest HELP \n",
    "        masterlist.\n",
    "    radius: astropy.units.quantity.Quantity\n",
    "        The radius to look for counterparts.  When more than one counterpart is\n",
    "        found, the corresponding sources will be flagged.\n",
    "\n",
    "    Return\n",
    "    ------\n",
    "    astropy.table.Table\n",
    "        The catalogue with current help_id column added.\n",
    "\n",
    "    \"\"\"\n",
    "    catalogue = catalogue.copy()\n",
    "    cat_coords = SkyCoord(catalogue[RA_COL].data * u.deg,\n",
    "                          catalogue[DEC_COL].data * u.deg)\n",
    "    master_coords = SkyCoord(master_catalogue['ra'].data * u.deg,\n",
    "                            master_catalogue['dec'].data * u.deg)\n",
    "\n",
    "    idx_master, idx_cat,  d2d, _ = cat_coords.search_around_sky(\n",
    "        master_coords, radius)\n",
    "\n",
    "    # We sort the three array by increasing d2d\n",
    "    sort_idx = np.argsort(d2d)\n",
    "    idx_cat = idx_cat[sort_idx]\n",
    "    idx_master = idx_master[sort_idx]\n",
    "\n",
    "    # We want to flag as possible mis-associations the cat ids that may be\n",
    "    # associated to different sources with the given radius.\n",
    "    idx_master_toflag = np.unique(\n",
    "        [item for item, count in Counter(idx_master).items() if count > 1]\n",
    "    )\n",
    "\n",
    "    # We keep only the first association of a help_id to a source\n",
    "    _, unique_idx = np.unique(idx_master, return_index=True)\n",
    "    idx_cat = idx_cat[unique_idx]\n",
    "    idx_master = idx_master[unique_idx]\n",
    "\n",
    "    # We add the new help_id columns to the catalogue.\n",
    "    catalogue.add_column(\n",
    "        Column(data=np.full(len(catalogue), '', dtype='<U33'),\n",
    "               name=\"help_id\"))\n",
    "    catalogue['help_id'][idx_cat] = master_catalogue['help_id'][idx_master]\n",
    "\n",
    "\n",
    "\n",
    "    return catalogue"
   ]
  },
  {
   "cell_type": "code",
   "execution_count": 10,
   "metadata": {
    "collapsed": true
   },
   "outputs": [],
   "source": [
    "photoz['help_id'].name = 'help_id_old'"
   ]
  },
  {
   "cell_type": "code",
   "execution_count": 11,
   "metadata": {},
   "outputs": [],
   "source": [
    "photoz_new = helpid_merge(photoz, \"photoz_ra\", \"photoz_dec\", master_catalogue, radius=0.8*u.arcsec)"
   ]
  },
  {
   "cell_type": "code",
   "execution_count": 12,
   "metadata": {
    "collapsed": true
   },
   "outputs": [],
   "source": [
    "merged_table_new = join(master_catalogue, photoz_new, join_type='left')"
   ]
  },
  {
   "cell_type": "code",
   "execution_count": 13,
   "metadata": {},
   "outputs": [
    {
     "name": "stdout",
     "output_type": "stream",
     "text": [
      "Master catalogue length: 4366298\n",
      "Photoz length: 1382785\n",
      "Merged length: 4366298\n",
      "Merged photozs length: 1377139\n",
      "Nonnan photozs length: 1377480\n"
     ]
    }
   ],
   "source": [
    "print(\"Master catalogue length: {}\".format(len(master_catalogue)))\n",
    "print(\"Photoz length: {}\".format(len(photoz)))\n",
    "print(\"Merged length: {}\".format(len(merged_table_new)))\n",
    "print(\"Merged photozs length: {}\".format(np.sum(~np.isnan(merged_table_new['z1_median']))))\n",
    "print(\"Nonnan photozs length: {}\".format(np.sum(~np.isnan(photoz_new['z1_median']))))"
   ]
  },
  {
   "cell_type": "code",
   "execution_count": 14,
   "metadata": {},
   "outputs": [
    {
     "data": {
      "text/html": [
       "<i>Table length=10</i>\n",
       "<table id=\"table139871815437336-710579\" class=\"table-striped table-bordered table-condensed\">\n",
       "<thead><tr><th>idx</th><th>help_id_old</th><th>photoz_ra</th><th>photoz_dec</th><th>id</th><th>z1_median</th><th>z1_min</th><th>z1_max</th><th>z1_area</th><th>z2_median</th><th>z2_min</th><th>z2_max</th><th>z2_area</th><th>za_hb</th><th>za_eazy</th><th>zm_eazy</th><th>zpeak_eazy</th><th>chi_r_eazy</th><th>l68_eazy</th><th>u68_eazy</th><th>nfilt_eazy</th><th>za_atlas</th><th>zm_atlas</th><th>zpeak_atlas</th><th>chi_r_atlas</th><th>l68_atlas</th><th>u68_atlas</th><th>nfilt_atlas</th><th>za_cosmos</th><th>zm_cosmos</th><th>zpeak_cosmos</th><th>chi_r_cosmos</th><th>l68_cosmos</th><th>u68_cosmos</th><th>nfilt_cosmos</th><th>chi_r_stellar</th><th>stellar_type</th><th>help_id</th></tr></thead>\n",
       "<thead><tr><th></th><th></th><th>deg</th><th>deg</th><th></th><th></th><th></th><th></th><th></th><th></th><th></th><th></th><th></th><th></th><th></th><th></th><th></th><th></th><th></th><th></th><th></th><th></th><th></th><th></th><th></th><th></th><th></th><th></th><th></th><th></th><th></th><th></th><th></th><th></th><th></th><th></th><th></th><th></th></tr></thead>\n",
       "<tr><td>0</td><td>HELP_J105455.339+572548.213</td><td>163.730578608</td><td>57.4300591879</td><td>127</td><td>0.2198</td><td>0.1874</td><td>0.2494</td><td>0.766</td><td>-99.0</td><td>-99.0</td><td>-99.0</td><td>-99.0</td><td>0.227149635921</td><td>4.153</td><td>4.158</td><td>4.1576</td><td>24.2823375</td><td>4.107</td><td>4.209</td><td>5</td><td>4.215</td><td>4.067</td><td>4.0672</td><td>22.9347525</td><td>3.763</td><td>4.255</td><td>5</td><td>4.107</td><td>3.898</td><td>3.8981</td><td>21.4151075</td><td>3.703</td><td>4.113</td><td>5</td><td>110.18145</td><td>k3i</td><td>HELP_J105455.339+572548.213</td></tr>\n",
       "<tr><td>1</td><td>HELP_J105331.913+573410.713</td><td>163.382972069</td><td>57.5696425399</td><td>800</td><td>0.0801</td><td>0.0284</td><td>0.1386</td><td>0.783</td><td>-99.0</td><td>-99.0</td><td>-99.0</td><td>-99.0</td><td>0.0723968680483</td><td>2.751</td><td>2.503</td><td>2.7178</td><td>0.1155692</td><td>2.558</td><td>2.817</td><td>5</td><td>2.808</td><td>2.602</td><td>2.6199</td><td>0.2732135</td><td>2.413</td><td>2.817</td><td>5</td><td>2.023</td><td>2.168</td><td>2.1849</td><td>0.088402725</td><td>2.006</td><td>2.356</td><td>5</td><td>1.44887175</td><td>g0v</td><td>HELP_J105331.913+573410.713</td></tr>\n",
       "<tr><td>2</td><td>HELP_J105527.800+575424.407</td><td>163.865835158</td><td>57.9067797839</td><td>2049</td><td>0.9878</td><td>0.8114</td><td>1.2207</td><td>0.793</td><td>-99.0</td><td>-99.0</td><td>-99.0</td><td>-99.0</td><td>0.855351841741</td><td>3.668</td><td>3.57</td><td>3.6845</td><td>40.3132</td><td>3.606</td><td>3.742</td><td>5</td><td>3.571</td><td>3.566</td><td>3.5667</td><td>38.761975</td><td>3.489</td><td>3.643</td><td>5</td><td>2.097</td><td>2.197</td><td>2.0877</td><td>41.809975</td><td>2.038</td><td>2.158</td><td>5</td><td>108.3082</td><td>b1i</td><td>HELP_J105527.800+575424.407</td></tr>\n",
       "<tr><td>3</td><td>HELP_J104646.624+601224.028</td><td>161.694266613</td><td>60.2066745189</td><td>3148</td><td>0.0696</td><td>0.0253</td><td>0.115</td><td>0.781</td><td>-99.0</td><td>-99.0</td><td>-99.0</td><td>-99.0</td><td>0.053294796847</td><td>2.995</td><td>2.973</td><td>2.9736</td><td>1.84914925</td><td>2.871</td><td>3.074</td><td>5</td><td>2.565</td><td>2.596</td><td>2.6692</td><td>0.050988875</td><td>2.503</td><td>2.822</td><td>5</td><td>2.554</td><td>2.624</td><td>2.788</td><td>0.216888075</td><td>2.334</td><td>3.199</td><td>5</td><td>4.07228</td><td>k5v</td><td>HELP_J104646.624+601224.028</td></tr>\n",
       "<tr><td>4</td><td>HELP_J105034.405+593434.787</td><td>162.64335526</td><td>59.5763297069</td><td>3151</td><td>0.7712</td><td>0.7475</td><td>0.7952</td><td>0.684</td><td>-99.0</td><td>-99.0</td><td>-99.0</td><td>-99.0</td><td>0.768525602462</td><td>3.091</td><td>3.101</td><td>3.1007</td><td>2.78713</td><td>3.064</td><td>3.137</td><td>5</td><td>3.116</td><td>3.121</td><td>3.1211</td><td>24.79483</td><td>3.087</td><td>3.157</td><td>5</td><td>2.181</td><td>2.219</td><td>2.1895</td><td>30.6239</td><td>2.146</td><td>2.237</td><td>5</td><td>57.492025</td><td>f0i</td><td>HELP_J105034.405+593434.787</td></tr>\n",
       "<tr><td>5</td><td>HELP_J104700.697+603101.851</td><td>161.752905091</td><td>60.5171807769</td><td>3152</td><td>0.3288</td><td>0.2457</td><td>0.3875</td><td>0.672</td><td>0.1776</td><td>0.125</td><td>0.2345</td><td>0.117</td><td>0.318620779688</td><td>0.307</td><td>1.738</td><td>2.3391</td><td>0.3700905</td><td>0.313</td><td>2.412</td><td>5</td><td>2.005</td><td>2.246</td><td>2.1302</td><td>0.34619775</td><td>1.975</td><td>2.36</td><td>5</td><td>0.343</td><td>0.582</td><td>0.3368</td><td>0.230738975</td><td>0.319</td><td>0.367</td><td>5</td><td>10.98019</td><td>k4v</td><td>HELP_J104700.697+603101.851</td></tr>\n",
       "<tr><td>6</td><td>HELP_J104700.735+601459.749</td><td>161.753062777</td><td>60.2499304079</td><td>4922</td><td>0.2286</td><td>0.001</td><td>0.583</td><td>0.798</td><td>-99.0</td><td>-99.0</td><td>-99.0</td><td>-99.0</td><td>0.148886156443</td><td>2.491</td><td>2.091</td><td>2.4759</td><td>0.00147433525</td><td>0.217</td><td>2.729</td><td>5</td><td>2.796</td><td>2.536</td><td>2.5509</td><td>0.071763075</td><td>2.108</td><td>2.881</td><td>5</td><td>2.023</td><td>2.041</td><td>2.1511</td><td>0.087912975</td><td>1.958</td><td>2.304</td><td>5</td><td>3.068795</td><td>wk0iii</td><td>HELP_J104700.735+601459.749</td></tr>\n",
       "<tr><td>7</td><td>HELP_J104433.838+602158.646</td><td>161.140992438</td><td>60.3662905129</td><td>7675</td><td>1.9915</td><td>1.5641</td><td>2.4596</td><td>0.674</td><td>0.7688</td><td>0.6858</td><td>0.8498</td><td>0.063</td><td>1.9428624586</td><td>0.013</td><td>0.013</td><td>0.0134</td><td>19.00683</td><td>0.005</td><td>0.022</td><td>5</td><td>2.418</td><td>2.461</td><td>2.4612</td><td>34.892025</td><td>2.352</td><td>2.582</td><td>5</td><td>2.449</td><td>2.462</td><td>2.4615</td><td>39.02275</td><td>2.39</td><td>2.535</td><td>5</td><td>12.4638525</td><td>o5v</td><td>HELP_J104433.838+602158.646</td></tr>\n",
       "<tr><td>8</td><td>HELP_J104606.116+603443.904</td><td>161.525483406</td><td>60.5788621759</td><td>8872</td><td>0.3531</td><td>0.1183</td><td>0.6458</td><td>0.408</td><td>1.2572</td><td>1.0237</td><td>1.415</td><td>0.248</td><td>0.334515577084</td><td>0.335</td><td>1.145</td><td>0.335</td><td>0.543354</td><td>0.321</td><td>2.3</td><td>5</td><td>2.298</td><td>2.19</td><td>2.2789</td><td>1.40123525</td><td>1.977</td><td>2.322</td><td>5</td><td>0.331</td><td>0.594</td><td>0.335</td><td>2.39233425</td><td>0.321</td><td>1.336</td><td>5</td><td>12.6897025</td><td>k1iv</td><td>HELP_J104606.116+603443.904</td></tr>\n",
       "<tr><td>9</td><td>HELP_J105233.276+571425.534</td><td>163.138651479</td><td>57.2404260179</td><td>12204</td><td>0.7361</td><td>0.1981</td><td>1.3648</td><td>0.79</td><td>1.4279</td><td>1.415</td><td>1.4441</td><td>0.007</td><td>0.816852825143</td><td>0.817</td><td>0.804</td><td>0.5278</td><td>1.899803</td><td>0.482</td><td>0.862</td><td>5</td><td>0.518</td><td>0.686</td><td>0.6852</td><td>1.8510425</td><td>0.497</td><td>0.841</td><td>5</td><td>1.247</td><td>1.262</td><td>1.2385</td><td>1.6676295</td><td>1.162</td><td>1.321</td><td>5</td><td>17.4939825</td><td>wf5v</td><td>HELP_J105233.276+571425.534</td></tr>\n",
       "</table><style>table.dataTable {clear: both; width: auto !important; margin: 0 !important;}\n",
       ".dataTables_info, .dataTables_length, .dataTables_filter, .dataTables_paginate{\n",
       "display: inline-block; margin-right: 1em; }\n",
       ".paginate_button { margin-right: 5px; }\n",
       "</style>\n",
       "<script>\n",
       "\n",
       "var astropy_sort_num = function(a, b) {\n",
       "    var a_num = parseFloat(a);\n",
       "    var b_num = parseFloat(b);\n",
       "\n",
       "    if (isNaN(a_num) && isNaN(b_num))\n",
       "        return ((a < b) ? -1 : ((a > b) ? 1 : 0));\n",
       "    else if (!isNaN(a_num) && !isNaN(b_num))\n",
       "        return ((a_num < b_num) ? -1 : ((a_num > b_num) ? 1 : 0));\n",
       "    else\n",
       "        return isNaN(a_num) ? -1 : 1;\n",
       "}\n",
       "\n",
       "require.config({paths: {\n",
       "    datatables: 'https://cdn.datatables.net/1.10.12/js/jquery.dataTables.min'\n",
       "}});\n",
       "require([\"datatables\"], function(){\n",
       "    console.log(\"$('#table139871815437336-710579').dataTable()\");\n",
       "    \n",
       "jQuery.extend( jQuery.fn.dataTableExt.oSort, {\n",
       "    \"optionalnum-asc\": astropy_sort_num,\n",
       "    \"optionalnum-desc\": function (a,b) { return -astropy_sort_num(a, b); }\n",
       "});\n",
       "\n",
       "    $('#table139871815437336-710579').dataTable({\n",
       "        order: [],\n",
       "        pageLength: 50,\n",
       "        lengthMenu: [[10, 25, 50, 100, 500, 1000, -1], [10, 25, 50, 100, 500, 1000, 'All']],\n",
       "        pagingType: \"full_numbers\",\n",
       "        columnDefs: [{targets: [0, 2, 3, 4, 5, 6, 7, 8, 9, 10, 11, 12, 13, 14, 15, 16, 17, 18, 19, 20, 21, 22, 23, 24, 25, 26, 27, 28, 29, 30, 31, 32, 33, 34, 35], type: \"optionalnum\"}]\n",
       "    });\n",
       "});\n",
       "</script>\n"
      ],
      "text/plain": [
       "<IPython.core.display.HTML object>"
      ]
     },
     "execution_count": 14,
     "metadata": {},
     "output_type": "execute_result"
    }
   ],
   "source": [
    "photoz_new[:10].show_in_notebook()"
   ]
  },
  {
   "cell_type": "code",
   "execution_count": 15,
   "metadata": {},
   "outputs": [
    {
     "name": "stdout",
     "output_type": "stream",
     "text": [
      "Objects not given up to date ids: 347\n",
      "Objects with the same id before and after: 798933\n"
     ]
    }
   ],
   "source": [
    "photoz_new['help_id'].fill_value = ''\n",
    "photoz_new = photoz_new.filled()\n",
    "has_no_new_id = np.sum(photoz_new['help_id'] == '')\n",
    "has_same_id = np.sum(photoz_new['help_id'] == photoz_new['help_id_old'])\n",
    "print(\"Objects not given up to date ids: {}\".format(has_no_new_id))\n",
    "print(\"Objects with the same id before and after: {}\".format(has_same_id))"
   ]
  },
  {
   "cell_type": "code",
   "execution_count": 16,
   "metadata": {},
   "outputs": [
    {
     "data": {
      "text/plain": [
       "['help_id',\n",
       " 'help_id_old',\n",
       " 'photoz_ra',\n",
       " 'photoz_dec',\n",
       " 'id',\n",
       " 'z1_median',\n",
       " 'z1_min',\n",
       " 'z1_max',\n",
       " 'z1_area',\n",
       " 'z2_median',\n",
       " 'z2_min',\n",
       " 'z2_max',\n",
       " 'z2_area',\n",
       " 'za_hb',\n",
       " 'za_eazy',\n",
       " 'zm_eazy',\n",
       " 'zpeak_eazy',\n",
       " 'chi_r_eazy',\n",
       " 'l68_eazy',\n",
       " 'u68_eazy',\n",
       " 'nfilt_eazy',\n",
       " 'za_atlas',\n",
       " 'zm_atlas',\n",
       " 'zpeak_atlas',\n",
       " 'chi_r_atlas',\n",
       " 'l68_atlas',\n",
       " 'u68_atlas',\n",
       " 'nfilt_atlas',\n",
       " 'za_cosmos',\n",
       " 'zm_cosmos',\n",
       " 'zpeak_cosmos',\n",
       " 'chi_r_cosmos',\n",
       " 'l68_cosmos',\n",
       " 'u68_cosmos',\n",
       " 'nfilt_cosmos',\n",
       " 'chi_r_stellar',\n",
       " 'stellar_type']"
      ]
     },
     "execution_count": 16,
     "metadata": {},
     "output_type": "execute_result"
    }
   ],
   "source": [
    "cols = list(photoz_new.colnames)\n",
    "cols.remove('help_id')\n",
    "cols.remove('help_id_old')\n",
    "cols = ['help_id', 'help_id_old'] + cols\n",
    "cols"
   ]
  },
  {
   "cell_type": "code",
   "execution_count": 17,
   "metadata": {},
   "outputs": [
    {
     "data": {
      "text/html": [
       "<i>Table length=583852</i>\n",
       "<table id=\"table139872290954152\" class=\"table-striped table-bordered table-condensed\">\n",
       "<thead><tr><th>help_id</th><th>help_id_old</th></tr></thead>\n",
       "<thead><tr><th>str33</th><th>bytes27</th></tr></thead>\n",
       "<tr><td>HELP_J104622.461+603357.818</td><td>HELP_J104622.510+603358.173</td></tr>\n",
       "<tr><td>HELP_J104730.062+603109.289</td><td>HELP_J104730.140+603108.946</td></tr>\n",
       "<tr><td>HELP_J105618.837+573323.391</td><td>HELP_J105618.750+573323.211</td></tr>\n",
       "<tr><td>HELP_J104550.020+603355.908</td><td>HELP_J104550.109+603356.145</td></tr>\n",
       "<tr><td>HELP_J105431.951+600019.291</td><td>HELP_J105431.952+600019.293</td></tr>\n",
       "<tr><td>HELP_J104314.651+553713.690</td><td>HELP_J104314.652+553713.692</td></tr>\n",
       "<tr><td>HELP_J103016.810+570912.714</td><td>HELP_J103016.811+570912.716</td></tr>\n",
       "<tr><td>HELP_J110116.362+584859.411</td><td>HELP_J110116.362+584859.413</td></tr>\n",
       "<tr><td>HELP_J103926.939+554659.394</td><td>HELP_J103926.940+554659.396</td></tr>\n",
       "<tr><td>HELP_J110320.166+595456.130</td><td>HELP_J110320.167+595456.132</td></tr>\n",
       "<tr><td>...</td><td>...</td></tr>\n",
       "<tr><td>HELP_J105940.483+574644.396</td><td>HELP_J105940.484+574644.398</td></tr>\n",
       "<tr><td>HELP_J105407.245+572731.882</td><td>HELP_J105407.246+572731.884</td></tr>\n",
       "<tr><td>HELP_J105358.023+571704.684</td><td>HELP_J105358.024+571704.686</td></tr>\n",
       "<tr><td>HELP_J105101.507+585342.066</td><td>HELP_J105101.508+585342.068</td></tr>\n",
       "<tr><td>HELP_J105046.294+563145.779</td><td>HELP_J105046.274+563145.803</td></tr>\n",
       "<tr><td>HELP_J105345.207+573401.349</td><td>HELP_J105345.208+573401.352</td></tr>\n",
       "<tr><td>HELP_J105307.987+584825.158</td><td>HELP_J105307.988+584825.160</td></tr>\n",
       "<tr><td>HELP_J104823.842+584735.490</td><td>HELP_J104823.842+584735.492</td></tr>\n",
       "<tr><td>HELP_J104423.907+584522.265</td><td>HELP_J104423.911+584522.199</td></tr>\n",
       "<tr><td>HELP_J103824.511+575223.763</td><td>HELP_J103824.512+575223.765</td></tr>\n",
       "</table>"
      ],
      "text/plain": [
       "<Table length=583852>\n",
       "          help_id                   help_id_old        \n",
       "           str33                      bytes27          \n",
       "--------------------------- ---------------------------\n",
       "HELP_J104622.461+603357.818 HELP_J104622.510+603358.173\n",
       "HELP_J104730.062+603109.289 HELP_J104730.140+603108.946\n",
       "HELP_J105618.837+573323.391 HELP_J105618.750+573323.211\n",
       "HELP_J104550.020+603355.908 HELP_J104550.109+603356.145\n",
       "HELP_J105431.951+600019.291 HELP_J105431.952+600019.293\n",
       "HELP_J104314.651+553713.690 HELP_J104314.652+553713.692\n",
       "HELP_J103016.810+570912.714 HELP_J103016.811+570912.716\n",
       "HELP_J110116.362+584859.411 HELP_J110116.362+584859.413\n",
       "HELP_J103926.939+554659.394 HELP_J103926.940+554659.396\n",
       "HELP_J110320.166+595456.130 HELP_J110320.167+595456.132\n",
       "                        ...                         ...\n",
       "HELP_J105940.483+574644.396 HELP_J105940.484+574644.398\n",
       "HELP_J105407.245+572731.882 HELP_J105407.246+572731.884\n",
       "HELP_J105358.023+571704.684 HELP_J105358.024+571704.686\n",
       "HELP_J105101.507+585342.066 HELP_J105101.508+585342.068\n",
       "HELP_J105046.294+563145.779 HELP_J105046.274+563145.803\n",
       "HELP_J105345.207+573401.349 HELP_J105345.208+573401.352\n",
       "HELP_J105307.987+584825.158 HELP_J105307.988+584825.160\n",
       "HELP_J104823.842+584735.490 HELP_J104823.842+584735.492\n",
       "HELP_J104423.907+584522.265 HELP_J104423.911+584522.199\n",
       "HELP_J103824.511+575223.763 HELP_J103824.512+575223.765"
      ]
     },
     "execution_count": 17,
     "metadata": {},
     "output_type": "execute_result"
    }
   ],
   "source": [
    "photoz_new['help_id', 'help_id_old'][photoz_new['help_id'] != photoz_new['help_id_old']]"
   ]
  },
  {
   "cell_type": "code",
   "execution_count": 18,
   "metadata": {},
   "outputs": [
    {
     "name": "stdout",
     "output_type": "stream",
     "text": [
      "OK!\n"
     ]
    }
   ],
   "source": [
    "# Check that the HELP Ids are unique\n",
    "mask = (photoz_new['help_id'] != '')\n",
    "if len(photoz_new[mask]) != len(np.unique(photoz_new['help_id'][mask])):\n",
    "    print(\"The HELP IDs are not unique!!!\")\n",
    "else:\n",
    "    print(\"OK!\")"
   ]
  },
  {
   "cell_type": "code",
   "execution_count": 19,
   "metadata": {
    "collapsed": true
   },
   "outputs": [],
   "source": [
    "#We only include objects with help_ids to ensure joins don't break on empty id objects\n",
    "photoz_new = photoz_new[mask]"
   ]
  },
  {
   "cell_type": "markdown",
   "metadata": {},
   "source": [
    "## II - Saving the catalogue"
   ]
  },
  {
   "cell_type": "code",
   "execution_count": 20,
   "metadata": {},
   "outputs": [],
   "source": [
    "photoz_new[cols].write(\"./data/master_catalogue_Lockman-SWIRE_20170710_photoz_20170802_r_and_irac1_optimised_UPDATED_IDs_{}.fits\".format( NEW_SUFFIX)\n",
    "                      ,overwrite=True)"
   ]
  }
 ],
 "metadata": {
  "kernelspec": {
   "display_name": "Python (herschelhelp_internal)",
   "language": "python",
   "name": "helpint"
  },
  "language_info": {
   "codemirror_mode": {
    "name": "ipython",
    "version": 3
   },
   "file_extension": ".py",
   "mimetype": "text/x-python",
   "name": "python",
   "nbconvert_exporter": "python",
   "pygments_lexer": "ipython3",
   "version": "3.6.4"
  }
 },
 "nbformat": 4,
 "nbformat_minor": 2
}
