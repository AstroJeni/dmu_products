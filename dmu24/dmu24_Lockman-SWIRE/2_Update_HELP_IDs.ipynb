{
 "cells": [
  {
   "cell_type": "markdown",
   "metadata": {},
   "source": [
    "# Lockman-SWIRE check HELP IDs\n",
    "\n",
    "Because the photo-zs were computed from an early version of the masterlist, there is some concern that the HELP IDs may have changed. In this notebook we will check for differences and convert the old IDs to the new ones if required."
   ]
  },
  {
   "cell_type": "code",
   "execution_count": null,
   "metadata": {},
   "outputs": [],
   "source": [
    "from herschelhelp_internal import git_version\n",
    "print(\"This notebook was run with herschelhelp_internal version: \\n{}\".format(git_version()))"
   ]
  },
  {
   "cell_type": "code",
   "execution_count": null,
   "metadata": {},
   "outputs": [],
   "source": [
    "%matplotlib inline\n",
    "#%config InlineBackend.figure_format = 'svg'\n",
    "\n",
    "import matplotlib.pyplot as plt\n",
    "plt.rc('figure', figsize=(10, 6))\n",
    "\n",
    "import os\n",
    "import time\n",
    "\n",
    "from astropy import units as u\n",
    "from astropy.coordinates import SkyCoord\n",
    "from astropy.table import join, Column, Table\n",
    "import numpy as np\n",
    "from pymoc import MOC\n",
    "\n",
    "from collections import Counter\n",
    "\n",
    "from herschelhelp_internal.masterlist import merge_catalogues, nb_merge_dist_plot, specz_merge\n",
    "from herschelhelp_internal.utils import coords_to_hpidx, ebv, gen_help_id, inMoc"
   ]
  },
  {
   "cell_type": "code",
   "execution_count": null,
   "metadata": {
    "collapsed": true
   },
   "outputs": [],
   "source": [
    "\n",
    "OUT_DIR = os.environ.get('OUT_DIR', \"./data\")\n",
    "SUFFIX = os.environ.get('SUFFIX', time.strftime(\"_%Y%m%d\"))\n",
    "\n",
    "OLD_SUFFIX = \"20170710\"\n",
    "NEW_SUFFIX = \"20180219\"\n",
    "\n",
    "ML_FOLDER = \"../../dmu1/dmu1_ml_Lockman-SWIRE/\"\n",
    "\n",
    "try:\n",
    "    os.makedirs(OUT_DIR)\n",
    "except FileExistsError:\n",
    "    pass"
   ]
  },
  {
   "cell_type": "markdown",
   "metadata": {},
   "source": [
    "## I - Reading the prepared pristine catalogues"
   ]
  },
  {
   "cell_type": "code",
   "execution_count": null,
   "metadata": {},
   "outputs": [],
   "source": [
    "photoz = Table.read(\"./data/master_catalogue_Lockman-SWIRE_20170710_photoz_20170802_r_and_irac1_optimised.fits\")\n",
    "master_catalogue = Table.read(\"{}data/master_catalogue_lockman-swire_{}.fits\".format(ML_FOLDER, NEW_SUFFIX))[\"help_id\",\"ra\",\"dec\"]\n"
   ]
  },
  {
   "cell_type": "code",
   "execution_count": null,
   "metadata": {
    "collapsed": true
   },
   "outputs": [],
   "source": [
    "photoz.meta = None\n",
    "\n",
    "#photoz = photoz['help_id', 'z1_median', 'RA', 'DEC']\n",
    "\n",
    "photoz['RA'].name = 'photoz_ra'\n",
    "photoz['DEC'].name = 'photoz_dec'\n",
    "#photoz['z1_median'].name = 'redshift'\n",
    "\n",
    "photoz['z1_median'][photoz['z1_median'] < 0] = np.nan  # -99 used for missing values"
   ]
  },
  {
   "cell_type": "code",
   "execution_count": null,
   "metadata": {},
   "outputs": [],
   "source": [
    "merged_table = join(master_catalogue, photoz, join_type='left')\n",
    "\n",
    "# Fill values\n",
    "merged_table['z1_median'].fill_value = np.nan\n",
    "merged_table = merged_table.filled()"
   ]
  },
  {
   "cell_type": "code",
   "execution_count": null,
   "metadata": {},
   "outputs": [],
   "source": [
    "print(\"Master catalogue length: {}\".format(len(master_catalogue)))\n",
    "print(\"Photoz length: {}\".format(len(photoz)))\n",
    "print(\"Merged length: {}\".format(len(merged_table)))\n",
    "print(\"Merged photozs length: {}\".format(np.sum(~np.isnan(merged_table['z1_median']))))\n",
    "print(\"Nonnan photozs length: {}\".format(np.sum(~np.isnan(photoz['z1_median']))))"
   ]
  },
  {
   "cell_type": "markdown",
   "metadata": {},
   "source": [
    "### Check positions"
   ]
  },
  {
   "cell_type": "code",
   "execution_count": null,
   "metadata": {},
   "outputs": [],
   "source": [
    "photoz['photoz_ra'].unit = u.deg\n",
    "photoz['photoz_dec'].unit = u.deg\n",
    "nb_merge_dist_plot(\n",
    "    SkyCoord(photoz['photoz_ra'], photoz['photoz_dec']),\n",
    "    SkyCoord(master_catalogue['ra'], master_catalogue['dec'])\n",
    ")"
   ]
  },
  {
   "cell_type": "code",
   "execution_count": null,
   "metadata": {
    "collapsed": true
   },
   "outputs": [],
   "source": [
    "def helpid_merge(catalogue, RA_COL, DEC_COL, master_catalogue, radius=0.4*u.arcsec):\n",
    "    \"\"\"Add a column with new HELP_ids to some catalogue.\n",
    "\n",
    "    This function cross-match a catalogue with the HELP latest masterlist:\n",
    "    \n",
    "    Occasionally some catalogue was produced from an out of date masterlist\n",
    "    leading to subtle differences in help_ids and causing problems with\n",
    "    joins and all means depending on help_ids for matches.\n",
    "    \n",
    "    This code uses a positional cross match to add up to date help_id data.\n",
    "   \n",
    "    Parameters\n",
    "    ----------\n",
    "    catalogue: astropy.table.Table\n",
    "        The table containing the catalogue. It must not contain a 'help_id' \n",
    "        column. \n",
    "    RA_COL: \n",
    "        The name of the ra column in the catalogue\n",
    "    DEC_COL:\n",
    "        The name of the dec column in the catalogue\n",
    "    master_catalogue: astropy.table.Table\n",
    "        The table containing the updated masterlist IDs from the latest HELP \n",
    "        masterlist.\n",
    "    radius: astropy.units.quantity.Quantity\n",
    "        The radius to look for counterparts.  When more than one counterpart is\n",
    "        found, the corresponding sources will be flagged.\n",
    "\n",
    "    Return\n",
    "    ------\n",
    "    astropy.table.Table\n",
    "        The catalogue with current help_id column added.\n",
    "\n",
    "    \"\"\"\n",
    "    catalogue = catalogue.copy()\n",
    "    cat_coords = SkyCoord(catalogue[RA_COL].data * u.deg,\n",
    "                          catalogue[DEC_COL].data * u.deg)\n",
    "    master_coords = SkyCoord(master_catalogue['ra'].data * u.deg,\n",
    "                            master_catalogue['dec'].data * u.deg)\n",
    "\n",
    "    idx_master, idx_cat,  d2d, _ = cat_coords.search_around_sky(\n",
    "        master_coords, radius)\n",
    "\n",
    "    # We sort the three array by increasing d2d\n",
    "    sort_idx = np.argsort(d2d)\n",
    "    idx_cat = idx_cat[sort_idx]\n",
    "    idx_master = idx_master[sort_idx]\n",
    "\n",
    "    # We want to flag as possible mis-associations the cat ids that may be\n",
    "    # associated to different sources with the given radius.\n",
    "    idx_master_toflag = np.unique(\n",
    "        [item for item, count in Counter(idx_master).items() if count > 1]\n",
    "    )\n",
    "\n",
    "    # We keep only the first association of a help_id to a source\n",
    "    _, unique_idx = np.unique(idx_master, return_index=True)\n",
    "    idx_cat = idx_cat[unique_idx]\n",
    "    idx_master = idx_master[unique_idx]\n",
    "\n",
    "    # We add the new help_id columns to the catalogue.\n",
    "    catalogue.add_column(\n",
    "        Column(data=np.full(len(catalogue), '', dtype='<U33'),\n",
    "               name=\"help_id\"))\n",
    "    catalogue['help_id'][idx_cat] = master_catalogue['help_id'][idx_master]\n",
    "\n",
    "\n",
    "\n",
    "    return catalogue"
   ]
  },
  {
   "cell_type": "code",
   "execution_count": null,
   "metadata": {
    "collapsed": true
   },
   "outputs": [],
   "source": [
    "photoz['help_id'].name = 'help_id_old'"
   ]
  },
  {
   "cell_type": "code",
   "execution_count": null,
   "metadata": {},
   "outputs": [],
   "source": [
    "photoz_new = helpid_merge(photoz, \"photoz_ra\", \"photoz_dec\", master_catalogue, radius=0.8*u.arcsec)"
   ]
  },
  {
   "cell_type": "code",
   "execution_count": null,
   "metadata": {
    "collapsed": true
   },
   "outputs": [],
   "source": [
    "merged_table_new = join(master_catalogue, photoz_new, join_type='left')"
   ]
  },
  {
   "cell_type": "code",
   "execution_count": null,
   "metadata": {},
   "outputs": [],
   "source": [
    "print(\"Master catalogue length: {}\".format(len(master_catalogue)))\n",
    "print(\"Photoz length: {}\".format(len(photoz)))\n",
    "print(\"Merged length: {}\".format(len(merged_table_new)))\n",
    "print(\"Merged photozs length: {}\".format(np.sum(~np.isnan(merged_table_new['z1_median']))))\n",
    "print(\"Nonnan photozs length: {}\".format(np.sum(~np.isnan(photoz_new['z1_median']))))"
   ]
  },
  {
   "cell_type": "code",
   "execution_count": null,
   "metadata": {},
   "outputs": [],
   "source": [
    "photoz_new[:10].show_in_notebook()"
   ]
  },
  {
   "cell_type": "code",
   "execution_count": null,
   "metadata": {},
   "outputs": [],
   "source": [
    "photoz_new['help_id'].fill_value = ''\n",
    "photoz_new = photoz_new.filled()\n",
    "has_no_new_id = np.sum(photoz_new['help_id'] == '')\n",
    "has_same_id = np.sum(photoz_new['help_id'] == photoz_new['help_id_old'])\n",
    "print(\"Objects not given up to date ids: {}\".format(has_no_new_id))\n",
    "print(\"Objects with the same id before and after: {}\".format(has_same_id))"
   ]
  },
  {
   "cell_type": "code",
   "execution_count": null,
   "metadata": {},
   "outputs": [],
   "source": [
    "cols = list(photoz_new.colnames)\n",
    "cols.remove('help_id')\n",
    "cols.remove('help_id_old')\n",
    "cols = ['help_id', 'help_id_old'] + cols\n",
    "cols"
   ]
  },
  {
   "cell_type": "code",
   "execution_count": null,
   "metadata": {},
   "outputs": [],
   "source": [
    "photoz_new['help_id', 'help_id_old'][photoz_new['help_id'] != photoz_new['help_id_old']]"
   ]
  },
  {
   "cell_type": "code",
   "execution_count": null,
   "metadata": {},
   "outputs": [],
   "source": [
    "# Check that the HELP Ids are unique\n",
    "mask = (photoz_new['help_id'] != '')\n",
    "if len(photoz_new[mask]) != len(np.unique(photoz_new['help_id'][mask])):\n",
    "    print(\"The HELP IDs are not unique!!!\")\n",
    "else:\n",
    "    print(\"OK!\")"
   ]
  },
  {
   "cell_type": "code",
   "execution_count": null,
   "metadata": {
    "collapsed": true
   },
   "outputs": [],
   "source": [
    "#We only include objects with help_ids to ensure joins don't break on empty id objects\n",
    "photoz_new = photoz_new[mask]"
   ]
  },
  {
   "cell_type": "markdown",
   "metadata": {},
   "source": [
    "## II - Saving the catalogue"
   ]
  },
  {
   "cell_type": "code",
   "execution_count": null,
   "metadata": {},
   "outputs": [],
   "source": [
    "photoz_new[cols].write(\"./data/master_catalogue_Lockman-SWIRE_20170710_photoz_20170802_r_and_irac1_optimised_UPDATED_IDs_{}.fits\".format( NEW_SUFFIX)\n",
    "                      ,overwrite=True)"
   ]
  }
 ],
 "metadata": {
  "kernelspec": {
   "display_name": "Python (herschelhelp_internal)",
   "language": "python",
   "name": "helpint"
  },
  "language_info": {
   "codemirror_mode": {
    "name": "ipython",
    "version": 3
   },
   "file_extension": ".py",
   "mimetype": "text/x-python",
   "name": "python",
   "nbconvert_exporter": "python",
   "pygments_lexer": "ipython3",
   "version": "3.6.4"
  }
 },
 "nbformat": 4,
 "nbformat_minor": 2
}
