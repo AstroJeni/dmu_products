{
 "cells": [
  {
   "cell_type": "markdown",
   "metadata": {},
   "source": [
    "# XMM-LSS master catalogue: Flags"
   ]
  },
  {
   "cell_type": "code",
   "execution_count": null,
   "metadata": {
    "collapsed": true
   },
   "outputs": [],
   "source": [
    "import numpy as np\n",
    "from astropy.table import Table\n",
    "import itertools\n",
    "\n",
    "import glob\n",
    "\n",
    "from herschelhelp_internal.flagging import flag_outliers"
   ]
  },
  {
   "cell_type": "code",
   "execution_count": null,
   "metadata": {
    "collapsed": true
   },
   "outputs": [],
   "source": [
    "FIELD = 'XMM-LSS'\n",
    "SUFFIX = '20180504'\n",
    "# On Herschel-Stripe-82 we have a list of tiles due to the large size of the field. \n",
    "# Therefore, we here process each in turn\n",
    "file_list = glob.glob('../../dmu1/dmu1_ml_XMM-LSS/data/tiles/sub_catalogue_xmm-lss_{}_*.fits'.format(SUFFIX))"
   ]
  },
  {
   "cell_type": "code",
   "execution_count": null,
   "metadata": {
    "collapsed": true
   },
   "outputs": [],
   "source": [
    "g_bands = [\"Megacam g\", \"DECam g\", \"SUPRIME g\", \"GPC1 g\"]\n",
    "r_bands = [\"Megacam r\", \"DECam r\", \"SUPRIME r\", \"GPC1 r\"]\n",
    "i_bands = [\"Megacam i\", \"DECam i\", \"SUPRIME i\", \"GPC1 i\"]\n",
    "z_bands = [\"Megacam z\", \"DECam z\", \"SUPRIME z\", \"GPC1 z\", \"VISTA z\"]\n",
    "y_bands = [\"Megacam y\", \"DECam y\", \"SUPRIME y\", \"GPC1 y\", \"VISTA y\"]\n",
    "J_bands = [                                               \"VISTA J\", \"UKIDSS J\", \"WIRCAM J\"]\n",
    "H_bands = [                                               \"VISTA H\", \"UKIDSS H\", \"WIRCAM H\"]\n",
    "K_bands = [                                               \"VISTA Ks\", \"UKIDSS K\", \"WIRCAM Ks\"]\n",
    "\n",
    "all_bands = [u_bands, g_bands, r_bands, i_bands, z_bands, y_bands, J_bands, H_bands, K_bands]"
   ]
  },
  {
   "cell_type": "markdown",
   "metadata": {},
   "source": [
    "## 1. Magnitudes and magnitude erros"
   ]
  },
  {
   "cell_type": "code",
   "execution_count": null,
   "metadata": {
    "collapsed": true
   },
   "outputs": [],
   "source": [
    "def flag_mag(master_catalogue, flagcol, mask):\n",
    "    \n",
    "    # Add flag columns if does not exist\n",
    "    if flagcol not in master_catalogue.colnames:\n",
    "        master_catalogue.add_column(Column(data=np.zeros(len(master_catalogue), dtype=bool), name=flagcol))\n",
    "    \n",
    "    # Flagged\n",
    "    master_catalogue[flagcol][mask] = np.ones(len(mask), dtype=bool)\n",
    "    print('    Number of flagged objects:', len(master_catalogue[flagcol][mask]))\n",
    "    return master_catalogue"
   ]
  },
  {
   "cell_type": "markdown",
   "metadata": {},
   "source": [
    "### 1.a Pan-STARRS Aperture and Total magnitude errors"
   ]
  },
  {
   "cell_type": "code",
   "execution_count": null,
   "metadata": {
    "collapsed": true
   },
   "outputs": [],
   "source": [
    "def panstars_loopable(master_catalogue):\n",
    "    ## dmu0: Pan-STARRS stack cat \n",
    "    gpc1_err = 0.0010860000038519502\n",
    "    bands = [\"GPC1 g\", \"GPC1 r\", \"GPC1 i\", \"GPC1 z\", \"GPC1 y\"]\n",
    "\n",
    "    for i, band in enumerate(bands):\n",
    "        print(band)\n",
    "        basecol = band.replace(\" \", \"_\").lower()\n",
    "    \n",
    "        ecol_ap, ecol_tot = \"merr_ap_{}\".format(basecol), \"merr_{}\".format(basecol)\n",
    "        flagcol_ap, flagcol_tot = \"flag_{}_ap\".format(basecol), \"flag_{}\".format(basecol)\n",
    "    \n",
    "        mask_ap  = np.where(master_catalogue[ecol_ap]  == gpc1_err)[0]\n",
    "        mask_tot = np.where(master_catalogue[ecol_tot] == gpc1_err)[0]\n",
    "    \n",
    "        print('  Aperture magnitude')\n",
    "        master_catalogue = flag_mag(master_catalogue, flagcol_ap, mask_ap)\n",
    "        print('  Total magnitude')\n",
    "        master_catalogue = flag_mag(master_catalogue, flagcol_tot, mask_tot)\n",
    "        \n",
    "    return master_catalogue\n",
    "    "
   ]
  },
  {
   "cell_type": "markdown",
   "metadata": {},
   "source": [
    "### 2.c IRAC Aperture magnitudes"
   ]
  },
  {
   "cell_type": "code",
   "execution_count": null,
   "metadata": {
    "collapsed": true
   },
   "outputs": [],
   "source": [
    "def irac_loopable(master_catalogue):\n",
    "    irac_mag = 3.9000000001085695\n",
    "    bands = [\"IRAC i1\", \"IRAC i2\", \"IRAC i3\", \"IRAC i4\"]\n",
    "\n",
    "    for i, band in enumerate(bands):\n",
    "        print(band)\n",
    "        basecol = band.replace(\" \", \"_\").lower()\n",
    "    \n",
    "        ecol_ap = \"merr_ap_{}\".format(basecol)\n",
    "        flagcol_ap = \"flag_{}_ap\".format(basecol)\n",
    "    \n",
    "        mask_ap  = np.where(master_catalogue[ecol_ap]  == irac_mag)[0]\n",
    "    \n",
    "        print('  Aperture magnitude')\n",
    "        master_catalogue = flag_mag(master_catalogue, flagcol_ap, mask_ap)\n",
    "    return master_catalogue"
   ]
  },
  {
   "cell_type": "markdown",
   "metadata": {},
   "source": [
    "## 2. Outliers"
   ]
  },
  {
   "cell_type": "code",
   "execution_count": null,
   "metadata": {
    "collapsed": true
   },
   "outputs": [],
   "source": [
    "def outliers_loopable(master_catalogue):\n",
    "    for band_of_a_kind in all_bands:\n",
    "        for band1, band2 in itertools.combinations(band_of_a_kind, 2):\n",
    "            #print(band1, band2)\n",
    "    \n",
    "            basecol1, basecol2 = band1.replace(\" \", \"_\").lower(), band2.replace(\" \", \"_\").lower()\n",
    "            \n",
    "            # Aperture mag\n",
    "            col1, col2 = \"m_ap_{}\".format(basecol1), \"m_ap_{}\".format(basecol2)\n",
    "            ecol1, ecol2 = \"merr_ap_{}\".format(basecol1), \"merr_ap_{}\".format(basecol2)\n",
    "            flagcol1, flagcol2 = \"flag_ap_{}\".format(basecol1), \"flag_ap_{}\".format(basecol2)\n",
    "        \n",
    "            try:\n",
    "                master_catalogue = flag_outliers(master_catalogue, col1, col2,\n",
    "                          ecol1, ecol2,\n",
    "                          flagcol1, flagcol2,\n",
    "                          labels=(\"{} (aperture)\".format(band1), \"{} (aperture)\".format(band2)))\n",
    "            except KeyError:\n",
    "                print(\"One of {} and {} is not present in the catalogue.\".format(col1, col2))\n",
    "                      \n",
    "        \n",
    "            # Tot mag\n",
    "            col1, col2 = \"m_{}\".format(basecol1), \"m_{}\".format(basecol2)              \n",
    "            ecol1, ecol2 = \"merr_{}\".format(basecol1), \"merr_{}\".format(basecol2)              \n",
    "            flagcol1, flagcol2 = \"flag_{}\".format(basecol1), \"flag_{}\".format(basecol2)\n",
    "              \n",
    "            try:\n",
    "                master_catalogue = flag_outliers(master_catalogue, col1, col2, \n",
    "                          ecol1, ecol2,\n",
    "                          flagcol1, flagcol2,\n",
    "                          labels=(\"{} (total)\".format(band1), \"{} (total)\".format(band2)))   \n",
    "            except KeyError:\n",
    "                print(\"One of {} and {} is not present in the catalogue.\".format(col1, col2))  \n",
    "    return master_catalogue\n",
    "                      "
   ]
  },
  {
   "cell_type": "markdown",
   "metadata": {},
   "source": [
    "## 3. Loop over table\n"
   ]
  },
  {
   "cell_type": "code",
   "execution_count": null,
   "metadata": {
    "collapsed": true
   },
   "outputs": [],
   "source": [
    "for tile in file_list:\n",
    "    master_catalogue = Table.read(tile)\n",
    "    master_catalogue = panstars_loopable(master_catalogue)\n",
    "    master_catalogue = irac_loopable(master_catalogue)\n",
    "    master_catalogue = outliers_loopable(master_catalogue)\n",
    "    file_num = tile.split('_')[6].split('.')[0]\n",
    "    \n",
    "    flag_cols = [\"help_id\"]\n",
    "    for col in master_catalogue.colnames:\n",
    "        if col.startswith(\"flag_\"):\n",
    "            flag_cols += [col]\n",
    "    new_catname = \"./data/tiles/{}_{}_{}_flags.fits\".format(FIELD.lower(),SUFFIX, file_num)\n",
    "    master_catalogue[flag_cols].write(new_catname, overwrite = True)"
   ]
  }
 ],
 "metadata": {
  "kernelspec": {
   "display_name": "Python (herschelhelp_internal)",
   "language": "python",
   "name": "helpint"
  },
  "language_info": {
   "codemirror_mode": {
    "name": "ipython",
    "version": 3
   },
   "file_extension": ".py",
   "mimetype": "text/x-python",
   "name": "python",
   "nbconvert_exporter": "python",
   "pygments_lexer": "ipython3",
   "version": "3.6.4"
  }
 },
 "nbformat": 4,
 "nbformat_minor": 1
}
