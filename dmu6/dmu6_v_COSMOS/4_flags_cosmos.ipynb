{
 "cells": [
  {
   "cell_type": "markdown",
   "metadata": {},
   "source": [
    "# COSMOS master catalogue: Flags"
   ]
  },
  {
   "cell_type": "code",
   "execution_count": 1,
   "metadata": {
    "collapsed": true
   },
   "outputs": [],
   "source": [
    "import numpy as np\n",
    "from astropy.table import Table, Column\n",
    "\n",
    "import itertools\n",
    "\n",
    "from herschelhelp_internal.flagging import flag_outliers"
   ]
  },
  {
   "cell_type": "code",
   "execution_count": 2,
   "metadata": {
    "collapsed": true
   },
   "outputs": [],
   "source": [
    "SUFFIX = \"20180516\"\n",
    "FIELD = \"COSMOS\"\n",
    "catname = \"../../dmu1/dmu1_ml_COSMOS/data/master_catalogue_cosmos_{}.fits\".format(SUFFIX)\n",
    "master_catalogue = Table.read(catname)"
   ]
  },
  {
   "cell_type": "code",
   "execution_count": 3,
   "metadata": {
    "collapsed": true
   },
   "outputs": [],
   "source": [
    "u_bands = [\"Megacam u\",                      \"Omegacam u\"]\n",
    "g_bands = [\"Megacam g\", \"DECam g\", \"GPC1 g\", \"Omegacam g\", \"SUPRIME g\"]\n",
    "r_bands = [\"Megacam r\", \"DECam r\", \"GPC1 r\", \"Omegacam r\", \"SUPRIME r\"]\n",
    "i_bands = [\"Megacam i\",            \"GPC1 i\", \"Omegacam i\", \"SUPRIME i\"]\n",
    "z_bands = [\"Megacam z\", \"DECam z\", \"GPC1 z\",           \"SUPRIME z\"]\n",
    "y_bands = [                        \"GPC1 y\",           \"SUPRIME y\", \"UKIDSS Y\"]\n",
    "J_bands = [                                                         \"UKIDSS J\", \"WIRCAM J\"]\n",
    "H_bands = [                                                         \"UKIDSS H\", \"WIRCAM H\"]\n",
    "K_bands = [                                                         \"UKIDSS K\", \"WIRCAM Ks\"]\n",
    "\n",
    "all_bands = [u_bands, g_bands, r_bands, i_bands, z_bands, y_bands, J_bands, H_bands, K_bands]"
   ]
  },
  {
   "cell_type": "markdown",
   "metadata": {},
   "source": [
    "## 1. Magnitudes and magnitude erros"
   ]
  },
  {
   "cell_type": "code",
   "execution_count": 4,
   "metadata": {
    "collapsed": true
   },
   "outputs": [],
   "source": [
    "def flag_mag(flagcol, mask):\n",
    "    \n",
    "    # Add flag columns if does not exist\n",
    "    if flagcol not in master_catalogue.colnames:\n",
    "        master_catalogue.add_column(Column(data=np.zeros(len(master_catalogue), dtype=bool), name=flagcol))\n",
    "    \n",
    "    # Flagged\n",
    "    master_catalogue[flagcol][mask] = np.ones(len(mask), dtype=bool)\n",
    "    print('    Number of flagged objects:', len(master_catalogue[flagcol][mask]))"
   ]
  },
  {
   "cell_type": "markdown",
   "metadata": {},
   "source": [
    "### 1.a Pan-STARRS Aperture and Total magnitude errors"
   ]
  },
  {
   "cell_type": "code",
   "execution_count": 5,
   "metadata": {
    "collapsed": true
   },
   "outputs": [
    {
     "name": "stdout",
     "output_type": "stream",
     "text": [
      "GPC1 g\n",
      "  Aperture magnitude\n",
      "    Number of flagged objects: 60\n",
      "  Total magnitude\n",
      "    Number of flagged objects: 60\n",
      "GPC1 r\n",
      "  Aperture magnitude\n",
      "    Number of flagged objects: 100\n",
      "  Total magnitude\n",
      "    Number of flagged objects: 99\n",
      "GPC1 i\n",
      "  Aperture magnitude\n",
      "    Number of flagged objects: 139\n",
      "  Total magnitude\n",
      "    Number of flagged objects: 159\n",
      "GPC1 z\n",
      "  Aperture magnitude\n",
      "    Number of flagged objects: 69\n",
      "  Total magnitude\n",
      "    Number of flagged objects: 67\n",
      "GPC1 y\n",
      "  Aperture magnitude\n",
      "    Number of flagged objects: 36\n",
      "  Total magnitude\n",
      "    Number of flagged objects: 39\n"
     ]
    }
   ],
   "source": [
    "## dmu0: Pan-STARRS forced photometry cat \n",
    "gpc1_err = 0.0010860000038519502\n",
    "bands = [\"GPC1 g\", \"GPC1 r\", \"GPC1 i\", \"GPC1 z\", \"GPC1 y\"]\n",
    "\n",
    "for i, band in enumerate(bands):\n",
    "    print(band)\n",
    "    basecol = band.replace(\" \", \"_\").lower()\n",
    "    \n",
    "    ecol_ap, ecol_tot = \"merr_ap_{}\".format(basecol), \"merr_{}\".format(basecol)\n",
    "    flagcol_ap, flagcol_tot = \"flag_ap_{}\".format(basecol), \"flag_{}\".format(basecol)\n",
    "    \n",
    "    mask_ap  = np.where(master_catalogue[ecol_ap]  == gpc1_err)[0]\n",
    "    mask_tot = np.where(master_catalogue[ecol_tot] == gpc1_err)[0]\n",
    "    \n",
    "    print('  Aperture magnitude')\n",
    "    flag_mag(flagcol_ap, mask_ap)\n",
    "    print('  Total magnitude')\n",
    "    flag_mag(flagcol_tot, mask_tot)\n",
    "    "
   ]
  },
  {
   "cell_type": "markdown",
   "metadata": {},
   "source": [
    "### 2.a DECaLS Total magnitudes"
   ]
  },
  {
   "cell_type": "code",
   "execution_count": 6,
   "metadata": {
    "collapsed": true
   },
   "outputs": [
    {
     "name": "stdout",
     "output_type": "stream",
     "text": [
      "DECam g\n",
      "  Total magnitude\n",
      "    Number of flagged objects: 0\n",
      "DECam r\n"
     ]
    },
    {
     "name": "stderr",
     "output_type": "stream",
     "text": [
      "/opt/anaconda3/envs/herschelhelp_internal/lib/python3.6/site-packages/astropy/table/column.py:965: RuntimeWarning: invalid value encountered in less\n",
      "  return getattr(self.data, op)(other)\n"
     ]
    },
    {
     "name": "stdout",
     "output_type": "stream",
     "text": [
      "  Total magnitude\n",
      "    Number of flagged objects: 1\n",
      "DECam z\n",
      "  Total magnitude\n",
      "    Number of flagged objects: 0\n"
     ]
    }
   ],
   "source": [
    "decam_mag = 14.999935\n",
    "bands = [\"DECam g\", \"DECam r\", \"DECam z\"]\n",
    "\n",
    "for i, band in enumerate(bands):\n",
    "    print(band)\n",
    "    basecol = band.replace(\" \", \"_\").lower()\n",
    "    \n",
    "    col = \"m_{}\".format(basecol)\n",
    "    flagcol = \"flag_{}\".format(basecol)\n",
    "    \n",
    "    mask  = np.where((master_catalogue[col]  == decam_mag) | (master_catalogue[col] < 7))[0]\n",
    "    \n",
    "    print('  Total magnitude')\n",
    "    flag_mag(flagcol, mask)"
   ]
  },
  {
   "cell_type": "markdown",
   "metadata": {},
   "source": [
    "## 2. Outliers"
   ]
  },
  {
   "cell_type": "code",
   "execution_count": 8,
   "metadata": {},
   "outputs": [
    {
     "name": "stdout",
     "output_type": "stream",
     "text": [
      "Omegacam u (aperture) - Megacam u (aperture):\n",
      "  Number of outliers: 0\n",
      "Omegacam u (total) - Megacam u (total):\n",
      "  Number of outliers: 24\n",
      "DECam g (aperture) - Megacam g (aperture):\n",
      "  Number of outliers: 4\n",
      "DECam g (total) - Megacam g (total):\n",
      "  Number of outliers: 100\n"
     ]
    },
    {
     "name": "stderr",
     "output_type": "stream",
     "text": [
      "/opt/anaconda3/envs/herschelhelp_internal/lib/python3.6/site-packages/ipykernel/__main__.py:54: VisibleDeprecationWarning: boolean index did not match indexed array along dimension 0; dimension is 80697 but corresponding boolean dimension is 80696\n"
     ]
    },
    {
     "name": "stdout",
     "output_type": "stream",
     "text": [
      "GPC1 g (aperture) - Megacam g (aperture):\n",
      "  Number of outliers: 0\n"
     ]
    },
    {
     "name": "stderr",
     "output_type": "stream",
     "text": [
      "/opt/anaconda3/envs/herschelhelp_internal/lib/python3.6/site-packages/ipykernel/__main__.py:54: VisibleDeprecationWarning: boolean index did not match indexed array along dimension 0; dimension is 24320 but corresponding boolean dimension is 24319\n"
     ]
    },
    {
     "name": "stdout",
     "output_type": "stream",
     "text": [
      "GPC1 g (total) - Megacam g (total):\n",
      "  Number of outliers: 0\n"
     ]
    },
    {
     "name": "stderr",
     "output_type": "stream",
     "text": [
      "/opt/anaconda3/envs/herschelhelp_internal/lib/python3.6/site-packages/ipykernel/__main__.py:54: VisibleDeprecationWarning: boolean index did not match indexed array along dimension 0; dimension is 24217 but corresponding boolean dimension is 24215\n"
     ]
    },
    {
     "name": "stdout",
     "output_type": "stream",
     "text": [
      "Omegacam g (aperture) - Megacam g (aperture):\n",
      "  Number of outliers: 7\n",
      "Omegacam g (total) - Megacam g (total):\n",
      "  Number of outliers: 53\n",
      "SUPRIME g (aperture) - Megacam g (aperture):\n",
      "  Number of outliers: 3\n"
     ]
    },
    {
     "name": "stderr",
     "output_type": "stream",
     "text": [
      "/opt/anaconda3/envs/herschelhelp_internal/lib/python3.6/site-packages/ipykernel/__main__.py:54: VisibleDeprecationWarning: boolean index did not match indexed array along dimension 0; dimension is 462711 but corresponding boolean dimension is 462707\n"
     ]
    },
    {
     "name": "stdout",
     "output_type": "stream",
     "text": [
      "SUPRIME g (total) - Megacam g (total):\n",
      "  Number of outliers: 5\n"
     ]
    },
    {
     "name": "stderr",
     "output_type": "stream",
     "text": [
      "/opt/anaconda3/envs/herschelhelp_internal/lib/python3.6/site-packages/ipykernel/__main__.py:54: VisibleDeprecationWarning: boolean index did not match indexed array along dimension 0; dimension is 432354 but corresponding boolean dimension is 432352\n"
     ]
    },
    {
     "name": "stdout",
     "output_type": "stream",
     "text": [
      "GPC1 g (aperture) - DECam g (aperture):\n",
      "  Number of outliers: 33\n",
      "GPC1 g (total) - DECam g (total):\n",
      "  Number of outliers: 0\n"
     ]
    },
    {
     "name": "stderr",
     "output_type": "stream",
     "text": [
      "/opt/anaconda3/envs/herschelhelp_internal/lib/python3.6/site-packages/ipykernel/__main__.py:54: VisibleDeprecationWarning: boolean index did not match indexed array along dimension 0; dimension is 108675 but corresponding boolean dimension is 108673\n"
     ]
    },
    {
     "name": "stdout",
     "output_type": "stream",
     "text": [
      "Omegacam g (aperture) - DECam g (aperture):\n",
      "  Number of outliers: 1\n",
      "Omegacam g (total) - DECam g (total):\n",
      "  Number of outliers: 11\n",
      "SUPRIME g (aperture) - DECam g (aperture):\n",
      "  Number of outliers: 0\n"
     ]
    },
    {
     "name": "stderr",
     "output_type": "stream",
     "text": [
      "/opt/anaconda3/envs/herschelhelp_internal/lib/python3.6/site-packages/ipykernel/__main__.py:54: VisibleDeprecationWarning: boolean index did not match indexed array along dimension 0; dimension is 322544 but corresponding boolean dimension is 322543\n"
     ]
    },
    {
     "name": "stdout",
     "output_type": "stream",
     "text": [
      "SUPRIME g (total) - DECam g (total):\n",
      "  Number of outliers: 69\n"
     ]
    },
    {
     "name": "stderr",
     "output_type": "stream",
     "text": [
      "/opt/anaconda3/envs/herschelhelp_internal/lib/python3.6/site-packages/ipykernel/__main__.py:54: VisibleDeprecationWarning: boolean index did not match indexed array along dimension 0; dimension is 332077 but corresponding boolean dimension is 332075\n"
     ]
    },
    {
     "name": "stdout",
     "output_type": "stream",
     "text": [
      "Omegacam g (aperture) - GPC1 g (aperture):\n",
      "  Number of outliers: 0\n",
      "Omegacam g (total) - GPC1 g (total):\n",
      "  Number of outliers: 0\n",
      "SUPRIME g (aperture) - GPC1 g (aperture):\n",
      "  Number of outliers: 0\n",
      "SUPRIME g (total) - GPC1 g (total):\n",
      "  Number of outliers: 0\n",
      "SUPRIME g (aperture) - Omegacam g (aperture):\n",
      "  Number of outliers: 4\n"
     ]
    },
    {
     "name": "stderr",
     "output_type": "stream",
     "text": [
      "/opt/anaconda3/envs/herschelhelp_internal/lib/python3.6/site-packages/ipykernel/__main__.py:54: VisibleDeprecationWarning: boolean index did not match indexed array along dimension 0; dimension is 125000 but corresponding boolean dimension is 124999\n"
     ]
    },
    {
     "name": "stdout",
     "output_type": "stream",
     "text": [
      "SUPRIME g (total) - Omegacam g (total):\n",
      "  Number of outliers: 39\n",
      "DECam r (aperture) - Megacam r (aperture):\n",
      "  Number of outliers: 0\n",
      "DECam r (total) - Megacam r (total):\n",
      "  Number of outliers: 28\n",
      "GPC1 r (aperture) - Megacam r (aperture):\n",
      "  Number of outliers: 0\n"
     ]
    },
    {
     "name": "stderr",
     "output_type": "stream",
     "text": [
      "/opt/anaconda3/envs/herschelhelp_internal/lib/python3.6/site-packages/ipykernel/__main__.py:54: VisibleDeprecationWarning: boolean index did not match indexed array along dimension 0; dimension is 25622 but corresponding boolean dimension is 25619\n"
     ]
    },
    {
     "name": "stdout",
     "output_type": "stream",
     "text": [
      "GPC1 r (total) - Megacam r (total):\n",
      "  Number of outliers: 0\n"
     ]
    },
    {
     "name": "stderr",
     "output_type": "stream",
     "text": [
      "/opt/anaconda3/envs/herschelhelp_internal/lib/python3.6/site-packages/ipykernel/__main__.py:54: VisibleDeprecationWarning: boolean index did not match indexed array along dimension 0; dimension is 25544 but corresponding boolean dimension is 25541\n"
     ]
    },
    {
     "name": "stdout",
     "output_type": "stream",
     "text": [
      "Omegacam r (aperture) - Megacam r (aperture):\n",
      "  Number of outliers: 2\n",
      "Omegacam r (total) - Megacam r (total):\n",
      "  Number of outliers: 15\n"
     ]
    },
    {
     "name": "stderr",
     "output_type": "stream",
     "text": [
      "/opt/anaconda3/envs/herschelhelp_internal/lib/python3.6/site-packages/ipykernel/__main__.py:54: VisibleDeprecationWarning: boolean index did not match indexed array along dimension 0; dimension is 124172 but corresponding boolean dimension is 124171\n"
     ]
    },
    {
     "name": "stdout",
     "output_type": "stream",
     "text": [
      "SUPRIME r (aperture) - Megacam r (aperture):\n",
      "  Number of outliers: 7\n"
     ]
    },
    {
     "name": "stderr",
     "output_type": "stream",
     "text": [
      "/opt/anaconda3/envs/herschelhelp_internal/lib/python3.6/site-packages/ipykernel/__main__.py:54: VisibleDeprecationWarning: boolean index did not match indexed array along dimension 0; dimension is 476584 but corresponding boolean dimension is 476582\n"
     ]
    },
    {
     "name": "stdout",
     "output_type": "stream",
     "text": [
      "SUPRIME r (total) - Megacam r (total):\n",
      "  Number of outliers: 6\n",
      "GPC1 r (aperture) - DECam r (aperture):\n",
      "  Number of outliers: 8\n",
      "GPC1 r (total) - DECam r (total):\n",
      "  Number of outliers: 0\n",
      "Omegacam r (aperture) - DECam r (aperture):\n",
      "  Number of outliers: 0\n",
      "Omegacam r (total) - DECam r (total):\n",
      "  Number of outliers: 0\n"
     ]
    },
    {
     "name": "stderr",
     "output_type": "stream",
     "text": [
      "/opt/anaconda3/envs/herschelhelp_internal/lib/python3.6/site-packages/ipykernel/__main__.py:54: VisibleDeprecationWarning: boolean index did not match indexed array along dimension 0; dimension is 84369 but corresponding boolean dimension is 84368\n"
     ]
    },
    {
     "name": "stdout",
     "output_type": "stream",
     "text": [
      "SUPRIME r (aperture) - DECam r (aperture):\n",
      "  Number of outliers: 0\n",
      "SUPRIME r (total) - DECam r (total):\n",
      "  Number of outliers: 53\n"
     ]
    },
    {
     "name": "stderr",
     "output_type": "stream",
     "text": [
      "/opt/anaconda3/envs/herschelhelp_internal/lib/python3.6/site-packages/ipykernel/__main__.py:54: VisibleDeprecationWarning: boolean index did not match indexed array along dimension 0; dimension is 342900 but corresponding boolean dimension is 342898\n"
     ]
    },
    {
     "name": "stdout",
     "output_type": "stream",
     "text": [
      "Omegacam r (aperture) - GPC1 r (aperture):\n",
      "  Number of outliers: 0\n",
      "Omegacam r (total) - GPC1 r (total):\n",
      "  Number of outliers: 0\n",
      "SUPRIME r (aperture) - GPC1 r (aperture):\n",
      "  Number of outliers: 0\n",
      "SUPRIME r (total) - GPC1 r (total):\n",
      "  Number of outliers: 0\n",
      "SUPRIME r (aperture) - Omegacam r (aperture):\n",
      "  Number of outliers: 1\n"
     ]
    },
    {
     "name": "stderr",
     "output_type": "stream",
     "text": [
      "/opt/anaconda3/envs/herschelhelp_internal/lib/python3.6/site-packages/ipykernel/__main__.py:54: VisibleDeprecationWarning: boolean index did not match indexed array along dimension 0; dimension is 140755 but corresponding boolean dimension is 140754\n"
     ]
    },
    {
     "name": "stdout",
     "output_type": "stream",
     "text": [
      "SUPRIME r (total) - Omegacam r (total):\n",
      "  Number of outliers: 14\n"
     ]
    },
    {
     "name": "stderr",
     "output_type": "stream",
     "text": [
      "/opt/anaconda3/envs/herschelhelp_internal/lib/python3.6/site-packages/ipykernel/__main__.py:54: VisibleDeprecationWarning: boolean index did not match indexed array along dimension 0; dimension is 140121 but corresponding boolean dimension is 140120\n"
     ]
    },
    {
     "name": "stdout",
     "output_type": "stream",
     "text": [
      "GPC1 i (aperture) - Megacam i (aperture):\n",
      "  Number of outliers: 5\n"
     ]
    },
    {
     "name": "stderr",
     "output_type": "stream",
     "text": [
      "/opt/anaconda3/envs/herschelhelp_internal/lib/python3.6/site-packages/ipykernel/__main__.py:54: VisibleDeprecationWarning: boolean index did not match indexed array along dimension 0; dimension is 25676 but corresponding boolean dimension is 25673\n"
     ]
    },
    {
     "name": "stdout",
     "output_type": "stream",
     "text": [
      "GPC1 i (total) - Megacam i (total):\n",
      "  Number of outliers: 4\n"
     ]
    },
    {
     "name": "stderr",
     "output_type": "stream",
     "text": [
      "/opt/anaconda3/envs/herschelhelp_internal/lib/python3.6/site-packages/ipykernel/__main__.py:54: VisibleDeprecationWarning: boolean index did not match indexed array along dimension 0; dimension is 25638 but corresponding boolean dimension is 25637\n"
     ]
    },
    {
     "name": "stdout",
     "output_type": "stream",
     "text": [
      "Omegacam i (aperture) - Megacam i (aperture):\n",
      "  Number of outliers: 2\n",
      "Omegacam i (total) - Megacam i (total):\n",
      "  Number of outliers: 17\n",
      "SUPRIME i (aperture) - Megacam i (aperture):\n",
      "  Number of outliers: 12\n",
      "SUPRIME i (total) - Megacam i (total):\n",
      "  Number of outliers: 9\n",
      "Omegacam i (aperture) - GPC1 i (aperture):\n",
      "  Number of outliers: 0\n"
     ]
    },
    {
     "name": "stderr",
     "output_type": "stream",
     "text": [
      "/opt/anaconda3/envs/herschelhelp_internal/lib/python3.6/site-packages/ipykernel/__main__.py:54: VisibleDeprecationWarning: boolean index did not match indexed array along dimension 0; dimension is 27404 but corresponding boolean dimension is 27403\n"
     ]
    },
    {
     "name": "stdout",
     "output_type": "stream",
     "text": [
      "Omegacam i (total) - GPC1 i (total):\n",
      "  Number of outliers: 1\n",
      "SUPRIME i (aperture) - GPC1 i (aperture):\n",
      "  Number of outliers: 0\n",
      "SUPRIME i (total) - GPC1 i (total):\n",
      "  Number of outliers: 3\n",
      "SUPRIME i (aperture) - Omegacam i (aperture):\n",
      "  Number of outliers: 1\n"
     ]
    },
    {
     "name": "stderr",
     "output_type": "stream",
     "text": [
      "/opt/anaconda3/envs/herschelhelp_internal/lib/python3.6/site-packages/ipykernel/__main__.py:54: VisibleDeprecationWarning: boolean index did not match indexed array along dimension 0; dimension is 114287 but corresponding boolean dimension is 114286\n"
     ]
    },
    {
     "name": "stdout",
     "output_type": "stream",
     "text": [
      "SUPRIME i (total) - Omegacam i (total):\n",
      "  Number of outliers: 11\n"
     ]
    },
    {
     "name": "stderr",
     "output_type": "stream",
     "text": [
      "/opt/anaconda3/envs/herschelhelp_internal/lib/python3.6/site-packages/ipykernel/__main__.py:54: VisibleDeprecationWarning: boolean index did not match indexed array along dimension 0; dimension is 116025 but corresponding boolean dimension is 116024\n"
     ]
    },
    {
     "name": "stdout",
     "output_type": "stream",
     "text": [
      "DECam z (aperture) - Megacam z (aperture):\n",
      "  Number of outliers: 0\n",
      "DECam z (total) - Megacam z (total):\n",
      "  Number of outliers: 3\n"
     ]
    },
    {
     "name": "stderr",
     "output_type": "stream",
     "text": [
      "/opt/anaconda3/envs/herschelhelp_internal/lib/python3.6/site-packages/ipykernel/__main__.py:54: VisibleDeprecationWarning: boolean index did not match indexed array along dimension 0; dimension is 84368 but corresponding boolean dimension is 84366\n"
     ]
    },
    {
     "name": "stdout",
     "output_type": "stream",
     "text": [
      "GPC1 z (aperture) - Megacam z (aperture):\n",
      "  Number of outliers: 0\n"
     ]
    },
    {
     "name": "stderr",
     "output_type": "stream",
     "text": [
      "/opt/anaconda3/envs/herschelhelp_internal/lib/python3.6/site-packages/ipykernel/__main__.py:54: VisibleDeprecationWarning: boolean index did not match indexed array along dimension 0; dimension is 25424 but corresponding boolean dimension is 25423\n"
     ]
    },
    {
     "name": "stdout",
     "output_type": "stream",
     "text": [
      "GPC1 z (total) - Megacam z (total):\n",
      "  Number of outliers: 1\n"
     ]
    },
    {
     "name": "stderr",
     "output_type": "stream",
     "text": [
      "/opt/anaconda3/envs/herschelhelp_internal/lib/python3.6/site-packages/ipykernel/__main__.py:54: VisibleDeprecationWarning: boolean index did not match indexed array along dimension 0; dimension is 25361 but corresponding boolean dimension is 25357\n"
     ]
    },
    {
     "name": "stdout",
     "output_type": "stream",
     "text": [
      "SUPRIME z (aperture) - Megacam z (aperture):\n",
      "  Number of outliers: 8\n",
      "SUPRIME z (total) - Megacam z (total):\n",
      "  Number of outliers: 7\n",
      "GPC1 z (aperture) - DECam z (aperture):\n",
      "  Number of outliers: 7\n"
     ]
    },
    {
     "name": "stderr",
     "output_type": "stream",
     "text": [
      "/opt/anaconda3/envs/herschelhelp_internal/lib/python3.6/site-packages/ipykernel/__main__.py:54: VisibleDeprecationWarning: boolean index did not match indexed array along dimension 0; dimension is 115933 but corresponding boolean dimension is 115930\n"
     ]
    },
    {
     "name": "stdout",
     "output_type": "stream",
     "text": [
      "GPC1 z (total) - DECam z (total):\n",
      "  Number of outliers: 0\n",
      "SUPRIME z (aperture) - DECam z (aperture):\n",
      "  Number of outliers: 0\n"
     ]
    },
    {
     "name": "stderr",
     "output_type": "stream",
     "text": [
      "/opt/anaconda3/envs/herschelhelp_internal/lib/python3.6/site-packages/ipykernel/__main__.py:54: VisibleDeprecationWarning: boolean index did not match indexed array along dimension 0; dimension is 338731 but corresponding boolean dimension is 338730\n"
     ]
    },
    {
     "name": "stdout",
     "output_type": "stream",
     "text": [
      "SUPRIME z (total) - DECam z (total):\n",
      "  Number of outliers: 23\n"
     ]
    },
    {
     "name": "stderr",
     "output_type": "stream",
     "text": [
      "/opt/anaconda3/envs/herschelhelp_internal/lib/python3.6/site-packages/ipykernel/__main__.py:54: VisibleDeprecationWarning: boolean index did not match indexed array along dimension 0; dimension is 349172 but corresponding boolean dimension is 349171\n"
     ]
    },
    {
     "name": "stdout",
     "output_type": "stream",
     "text": [
      "SUPRIME z (aperture) - GPC1 z (aperture):\n",
      "  Number of outliers: 0\n",
      "SUPRIME z (total) - GPC1 z (total):\n",
      "  Number of outliers: 0\n",
      "SUPRIME y (aperture) - GPC1 y (aperture):\n",
      "  Number of outliers: 0\n",
      "SUPRIME y (total) - GPC1 y (total):\n",
      "  Number of outliers: 0\n"
     ]
    },
    {
     "name": "stderr",
     "output_type": "stream",
     "text": [
      "/opt/anaconda3/envs/herschelhelp_internal/lib/python3.6/site-packages/ipykernel/__main__.py:54: VisibleDeprecationWarning: boolean index did not match indexed array along dimension 0; dimension is 108947 but corresponding boolean dimension is 108946\n"
     ]
    },
    {
     "name": "stdout",
     "output_type": "stream",
     "text": [
      "UKIDSS Y (aperture) - GPC1 y (aperture):\n",
      "  Number of outliers: 13\n",
      "UKIDSS Y (total) - GPC1 y (total):\n",
      "  Number of outliers: 16\n",
      "UKIDSS Y (aperture) - SUPRIME y (aperture):\n",
      "  Number of outliers: 26\n",
      "UKIDSS Y (total) - SUPRIME y (total):\n",
      "  Number of outliers: 8\n",
      "WIRCAM J (aperture) - UKIDSS J (aperture):\n",
      "  Number of outliers: 0\n",
      "WIRCAM J (total) - UKIDSS J (total):\n",
      "  Number of outliers: 1\n",
      "WIRCAM H (aperture) - UKIDSS H (aperture):\n",
      "  Number of outliers: 1\n",
      "WIRCAM H (total) - UKIDSS H (total):\n",
      "  Number of outliers: 3\n",
      "WIRCAM Ks (aperture) - UKIDSS K (aperture):\n",
      "  Number of outliers: 0\n"
     ]
    },
    {
     "name": "stderr",
     "output_type": "stream",
     "text": [
      "/opt/anaconda3/envs/herschelhelp_internal/lib/python3.6/site-packages/ipykernel/__main__.py:54: VisibleDeprecationWarning: boolean index did not match indexed array along dimension 0; dimension is 17173 but corresponding boolean dimension is 17172\n"
     ]
    },
    {
     "name": "stdout",
     "output_type": "stream",
     "text": [
      "WIRCAM Ks (total) - UKIDSS K (total):\n",
      "  Number of outliers: 0\n"
     ]
    }
   ],
   "source": [
    "for band_of_a_kind in all_bands:\n",
    "    for band1, band2 in itertools.combinations(band_of_a_kind, 2):\n",
    "        #print(band1, band2)\n",
    "\n",
    "        basecol1, basecol2 = band1.replace(\" \", \"_\").lower(), band2.replace(\" \", \"_\").lower()\n",
    "        \n",
    "        # Aperture mag\n",
    "        col1, col2 = \"m_ap_{}\".format(basecol1), \"m_ap_{}\".format(basecol2)\n",
    "        ecol1, ecol2 = \"merr_ap_{}\".format(basecol1), \"merr_ap_{}\".format(basecol2)\n",
    "        flagcol1, flagcol2 = \"flag_ap_{}\".format(basecol1), \"flag_ap_{}\".format(basecol2)\n",
    "        \n",
    "        try:\n",
    "            master_catalogue = flag_outliers(master_catalogue, col1, col2,\n",
    "                      ecol1, ecol2,\n",
    "                      flagcol1, flagcol2,\n",
    "                      labels=(\"{} (aperture)\".format(band1), \"{} (aperture)\".format(band2)))\n",
    "        except KeyError:\n",
    "            print(\"One of {} and {} is not present in the catalogue.\".format(col1, col2))\n",
    "                      \n",
    "        \n",
    "        # Tot mag\n",
    "        col1, col2 = \"m_{}\".format(basecol1), \"m_{}\".format(basecol2)              \n",
    "        ecol1, ecol2 = \"merr_{}\".format(basecol1), \"merr_{}\".format(basecol2)              \n",
    "        flagcol1, flagcol2 = \"flag_{}\".format(basecol1), \"flag_{}\".format(basecol2)\n",
    "              \n",
    "        try:\n",
    "            master_catalogue = flag_outliers(master_catalogue, col1, col2, \n",
    "                      ecol1, ecol2,\n",
    "                      flagcol1, flagcol2,\n",
    "                      labels=(\"{} (total)\".format(band1), \"{} (total)\".format(band2)))   \n",
    "        except KeyError:\n",
    "            print(\"One of {} and {} is not present in the catalogue.\".format(col1, col2))"
   ]
  },
  {
   "cell_type": "markdown",
   "metadata": {},
   "source": [
    "## 3. Save table"
   ]
  },
  {
   "cell_type": "code",
   "execution_count": null,
   "metadata": {
    "collapsed": true
   },
   "outputs": [],
   "source": [
    "\n",
    "#Merge any aperture flags#Merge  \n",
    "for col in master_catalogue.colnames:\n",
    "    if col.startswith(\"flag_ap_\"):\n",
    "        try:\n",
    "            master_catalogue[col.replace(\"_ap_\", \"_\")] = (master_catalogue[col.replace(\"_ap_\", \"_\")] |\n",
    "                                                          master_catalogue[col])\n",
    "            master_catalogue.remove_column(col)\n",
    "        except KeyError:\n",
    "            print(\"{} only has aperture flags.\".format(col))\n",
    "            master_catalogue.rename_column(col, col.replace(\"_ap_\", \"_\"))"
   ]
  },
  {
   "cell_type": "code",
   "execution_count": 9,
   "metadata": {
    "collapsed": true
   },
   "outputs": [],
   "source": [
    "flag_cols = [\"help_id\"]\n",
    "for col in master_catalogue.colnames:\n",
    "    if col.startswith(\"flag_\"):\n",
    "        flag_cols += [col]\n",
    "new_catname = \"./data/{}_{}_flags.fits\".format(FIELD.lower(),SUFFIX)\n",
    "master_catalogue[flag_cols].write(new_catname, overwrite = True)"
   ]
  }
 ],
 "metadata": {
  "kernelspec": {
   "display_name": "Python (herschelhelp_internal)",
   "language": "python",
   "name": "helpint"
  },
  "language_info": {
   "codemirror_mode": {
    "name": "ipython",
    "version": 3
   },
   "file_extension": ".py",
   "mimetype": "text/x-python",
   "name": "python",
   "nbconvert_exporter": "python",
   "pygments_lexer": "ipython3",
   "version": "3.6.4"
  }
 },
 "nbformat": 4,
 "nbformat_minor": 1
}
