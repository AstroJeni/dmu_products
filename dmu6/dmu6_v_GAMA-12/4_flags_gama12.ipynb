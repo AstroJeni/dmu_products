{
 "cells": [
  {
   "cell_type": "markdown",
   "metadata": {},
   "source": [
    "# GAMA-12 master catalogue: Flags"
   ]
  },
  {
   "cell_type": "code",
   "execution_count": null,
   "metadata": {
    "collapsed": true
   },
   "outputs": [],
   "source": [
    "import numpy as np\n",
    "from astropy.table import Table\n",
    "\n",
    "import itertools"
   ]
  },
  {
   "cell_type": "code",
   "execution_count": null,
   "metadata": {
    "collapsed": true
   },
   "outputs": [],
   "source": [
    "SUFFIX = \"20180218\"\n",
    "FIELD = \"GAMA-12\"\n",
    "catname = \"../../dmu1/dmu1_ml_GAMA-12/data/master_catalogue_gama-12_{}.fits\".format(SUFFIX)\n",
    "master_catalogue = Table.read(catname)"
   ]
  },
  {
   "cell_type": "code",
   "execution_count": null,
   "metadata": {
    "collapsed": true
   },
   "outputs": [],
   "source": [
    "u_bands = [           \"KIDS u\"]\n",
    "g_bands = [\"DECam g\", \"KIDS g\", \"SUPRIME g\", \"GPC1 g\"]\n",
    "r_bands = [\"DECam r\", \"KIDS r\", \"SUPRIME r\", \"GPC1 r\"]\n",
    "i_bands = [           \"KIDS i\", \"SUPRIME i\", \"GPC1 i\"]\n",
    "z_bands = [\"DECam z\",           \"SUPRIME z\", \"GPC1 z\", \"VIRCAM Z\"]\n",
    "y_bands = [                     \"SUPRIME y\", \"GPC1 y\", \"VIRCAM Y\", \"WFCAM Y\"]\n",
    "J_bands = [                                            \"VIRCAM J\", \"WFCAM J\"]\n",
    "H_bands = [                                            \"VIRCAM H\", \"WFCAM H\"]\n",
    "K_bands = [                                            \"VIRCAM K\", \"WFCAM K\"]\n",
    "\n",
    "all_bands = [u_bands, g_bands, r_bands, i_bands, z_bands, y_bands, J_bands, H_bands, K_bands]"
   ]
  },
  {
   "cell_type": "markdown",
   "metadata": {},
   "source": [
    "## 1. Magnitudes and magnitude erros"
   ]
  },
  {
   "cell_type": "code",
   "execution_count": null,
   "metadata": {
    "collapsed": true
   },
   "outputs": [],
   "source": [
    "def flag_mag(flagcol, mask):\n",
    "    \n",
    "    # Add flag columns if does not exist\n",
    "    if flagcol not in master_catalogue.colnames:\n",
    "        master_catalogue[flagcol] = np.zeros(len(master_catalogue), dtype=bool)\n",
    "    \n",
    "    # Flagged\n",
    "    master_catalogue[flagcol][mask] = np.ones(len(mask), dtype=bool)\n",
    "    print('    Number of flagged objects:', len(master_catalogue[flagcol][mask]))"
   ]
  },
  {
   "cell_type": "markdown",
   "metadata": {},
   "source": [
    "### 1.a Pan-STARRS Aperture and Total magnitude errors"
   ]
  },
  {
   "cell_type": "code",
   "execution_count": null,
   "metadata": {
    "collapsed": true
   },
   "outputs": [],
   "source": [
    "## dmu0: Pan-STARRS forced photometry cat \n",
    "gpc1_err = 0.0010860000038519502\n",
    "bands = [\"GPC1 g\", \"GPC1 r\", \"GPC1 i\", \"GPC1 z\", \"GPC1 y\"]\n",
    "\n",
    "for i, band in enumerate(bands):\n",
    "    print(band)\n",
    "    basecol = band.replace(\" \", \"_\").lower()\n",
    "    \n",
    "    ecol_ap, ecol_tot = \"merr_ap_{}\".format(basecol), \"merr_{}\".format(basecol)\n",
    "    flagcol_ap, flagcol_tot = \"flag_{}_ap\".format(basecol), \"flag_{}\".format(basecol)\n",
    "    \n",
    "    mask_ap  = np.where(master_catalogue[ecol_ap]  == gpc1_err)[0]\n",
    "    mask_tot = np.where(master_catalogue[ecol_tot] == gpc1_err)[0]\n",
    "    \n",
    "    print('  Aperture magnitude')\n",
    "    flag_mag(flagcol_ap, mask_ap)\n",
    "    print('  Total magnitude')\n",
    "    flag_mag(flagcol_tot, mask_tot)\n",
    "    "
   ]
  },
  {
   "cell_type": "markdown",
   "metadata": {},
   "source": [
    "### 2.a DECaLS Total magnitudes"
   ]
  },
  {
   "cell_type": "code",
   "execution_count": null,
   "metadata": {
    "collapsed": true
   },
   "outputs": [],
   "source": [
    "decam_mag = 14.999935\n",
    "bands = [\"DECam g\", \"DECam r\", \"DECam z\"]\n",
    "\n",
    "for i, band in enumerate(bands):\n",
    "    print(band)\n",
    "    basecol = band.replace(\" \", \"_\").lower()\n",
    "    \n",
    "    col = \"m_{}\".format(basecol)\n",
    "    flagcol = \"flag_{}\".format(basecol)\n",
    "    \n",
    "    mask  = np.where((master_catalogue[col]  == decam_mag) or (master_catalogue[col] < 7))[0]\n",
    "    \n",
    "    print('  Total magnitude')\n",
    "    flag_mag(flagcol, mask)"
   ]
  },
  {
   "cell_type": "markdown",
   "metadata": {},
   "source": [
    "## 2. Outliers"
   ]
  },
  {
   "cell_type": "code",
   "execution_count": null,
   "metadata": {
    "collapsed": true
   },
   "outputs": [],
   "source": [
    "def flag_outliers(x, y, xerr, yerr, flagcol_x, flagcol_y, labels=[\"x\", \"y\"]):\n",
    "    \n",
    "    # Add flag columns if does not exist\n",
    "    if flagcol_x not in master_catalogue.colnames:\n",
    "        master_catalogue[flagcol_x] = np.zeros(len(master_catalogue), dtype=bool)\n",
    "    if flagcol_y not in master_catalogue.colnames:\n",
    "        master_catalogue[flagcol_y] = np.zeros(len(master_catalogue), dtype=bool)\n",
    "    flagx, flagy = master_catalogue[flagcol_x], master_catalogue[flagcol_y]\n",
    "        \n",
    "    ## Find outliers  \n",
    "    # Use only finite values\n",
    "    mask = np.isfinite(x) & np.isfinite(y) & np.isfinite(xerr) & np.isfinite(yerr)\n",
    "    x, y = np.copy(x[mask]), np.copy(y[mask])\n",
    "    xerr, yerr = np.copy(xerr[mask]), np.copy(yerr[mask])\n",
    "    flagx, flagy = np.copy(flagx[mask]), np.copy(flagy[mask])\n",
    "    \n",
    "    # Set the minimum error to 10^-3\n",
    "    if (len(xerr)!=0 and len(yerr)!=0):\n",
    "        np.clip(xerr, 5e-3, np.max(xerr), out=xerr)\n",
    "        np.clip(yerr, 5e-3, np.max(yerr), out=yerr)\n",
    "\n",
    "    diff = y - x\n",
    "    \n",
    "    x_label, y_label = labels\n",
    "    \n",
    "    # If the difference is all NaN there is nothing to compare.\n",
    "    if np.isnan(diff).all():\n",
    "        print(\"No sources have both {} and {} values.\".format(\n",
    "            x_label, y_label))\n",
    "        print(\"\")\n",
    "        return\n",
    "    \n",
    "    diff_label = \"{} - {}\".format(y_label, x_label)\n",
    "    print(\"{}:\".format(diff_label))\n",
    "    \n",
    "    # Chi2 (Normalized difference)\n",
    "    ichi2 = np.power(diff, 2) / (np.power(xerr, 2) + np.power(yerr, 2))\n",
    "    mask2 = ichi2 != 0.0\n",
    "    diff, ichi2 = np.copy(diff[mask2]), np.copy(ichi2[mask2])\n",
    "    x, y, xerr, yerr = np.copy(x[mask2]), np.copy(y[mask2]), np.copy(xerr[mask2]), np.copy(yerr[mask2])\n",
    "\n",
    "    log_ichi2_25p, log_ichi2_75p = np.percentile(np.log10(ichi2), [25., 75.])\n",
    "    out_lim = log_ichi2_75p + 3.2*abs(log_ichi2_25p-log_ichi2_75p)\n",
    "    \n",
    "    outliers = np.log10(ichi2) > out_lim \n",
    "    nb_outliers = len(x[outliers])\n",
    "\n",
    "    print(\"  Number of outliers: {}\".format(nb_outliers))\n",
    "    \n",
    "    \n",
    "    ## Flag outliers\n",
    "    flagx[outliers], flagy[outliers] = np.ones(nb_outliers, dtype=bool), np.ones(nb_outliers, dtype=bool)"
   ]
  },
  {
   "cell_type": "code",
   "execution_count": null,
   "metadata": {
    "collapsed": true
   },
   "outputs": [],
   "source": [
    "for band_of_a_kind in all_bands:\n",
    "    for band1, band2 in itertools.combinations(band_of_a_kind, 2):\n",
    "\n",
    "        basecol1, basecol2 = band1.replace(\" \", \"_\").lower(), band2.replace(\" \", \"_\").lower()\n",
    "        \n",
    "        # Aperture mag\n",
    "        try:\n",
    "            col1, col2 = \"m_ap_{}\".format(basecol1), \"m_ap_{}\".format(basecol2)\n",
    "            ecol1, ecol2 = \"merr_ap_{}\".format(basecol1), \"merr_ap_{}\".format(basecol2)\n",
    "            flagcol1, flagcol2 = \"flag_{}_ap\".format(basecol1), \"flag_{}_ap\".format(basecol2)\n",
    "        \n",
    "            flag_outliers(master_catalogue[col1], master_catalogue[col2],\n",
    "                          master_catalogue[ecol1], master_catalogue[ecol2],\n",
    "                          master_catalogue[flagcol1], master_catalogue[flagcol2],\n",
    "                          labels=(\"{} (aperture)\".format(band1), \"{} (aperture)\".format(band2)))\n",
    "        except KeyError:\n",
    "            print(\"Probably no aperture mag on {} or {}\".format(col1, col2))\n",
    "                      \n",
    "        try:\n",
    "            # Tot mag\n",
    "            col1, col2 = \"m_{}\".format(basecol1), \"m_{}\".format(basecol2)              \n",
    "            ecol1, ecol2 = \"merr_{}\".format(basecol1), \"merr_{}\".format(basecol2)              \n",
    "            flagcol1, flagcol2 = \"flag_{}\".format(basecol1), \"flag_{}\".format(basecol2)\n",
    "                      \n",
    "            flag_outliers(master_catalogue[col1], master_catalogue[col2], \n",
    "                          master_catalogue[ecol1], master_catalogue[ecol2],\n",
    "                          master_catalogue[flagcol1], master_catalogue[flagcol2],\n",
    "                          labels=(\"{} (total)\".format(band1), \"{} (total)\".format(band2)))\n",
    "        except KeyError:\n",
    "            print(\"Probably no aperture mag on {} or {}\".format(col1, col2))            \n",
    "                      "
   ]
  },
  {
   "cell_type": "markdown",
   "metadata": {},
   "source": [
    "## 3. Save table"
   ]
  },
  {
   "cell_type": "code",
   "execution_count": null,
   "metadata": {
    "collapsed": true
   },
   "outputs": [],
   "source": [
    "flag_cols = [\"help_id\"]\n",
    "for col in master_catalogue.colnames:\n",
    "    if col.startswith(\"flag_\"):\n",
    "        flag_cols += [col]\n",
    "new_catname = \"./data/{}_{}_flags.fits\".format(FIELD.lower(),SUFFIX)\n",
    "master_catalogue[flag_cols].write(new_catname, overwrite = True)"
   ]
  }
 ],
 "metadata": {
  "kernelspec": {
   "display_name": "Python (herschelhelp_internal)",
   "language": "python",
   "name": "helpint"
  },
  "language_info": {
   "codemirror_mode": {
    "name": "ipython",
    "version": 3
   },
   "file_extension": ".py",
   "mimetype": "text/x-python",
   "name": "python",
   "nbconvert_exporter": "python",
   "pygments_lexer": "ipython3",
   "version": "3.6.4"
  }
 },
 "nbformat": 4,
 "nbformat_minor": 1
}
