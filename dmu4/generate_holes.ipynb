{
 "cells": [
  {
   "cell_type": "markdown",
   "metadata": {},
   "source": [
    "# Generate hole region files\n",
    "This is currently producing the simplest possible hole regions. For every star brighter than 16 Mag it puts a 10 arcsec circle."
   ]
  },
  {
   "cell_type": "code",
   "execution_count": 1,
   "metadata": {
    "collapsed": false
   },
   "outputs": [],
   "source": [
    "from herschelhelp_internal import starmask\n"
   ]
  },
  {
   "cell_type": "code",
   "execution_count": 2,
   "metadata": {
    "collapsed": true
   },
   "outputs": [],
   "source": [
    "#Field names plus ra dec of first circle\n",
    "fields= [\n",
    "['AKARI-NEP', 274.654402036, 65.7962520276],\n",
    "['AKARI-SEP', 72.2316923316, -54.380443672],\n",
    "['Bootes', 216.431700722, 32.401081899],\n",
    "['CDFS-SWIRE', 51.0227099923, -29.8185285737],\n",
    "['COSMOS', 149.295925951, 1.08212668291],\n",
    "['EGS', 217.276981956, 53.6441519854],\n",
    "['ELAIS-N1', 247.096600963, 55.1757687739],\n",
    "['ELAIS-N2', 248.424493154, 39.1274077489],\n",
    "['ELAIS-S1', 7.10625839472, -43.8632559768],\n",
    "['GAMA-09', 129.076050945, -2.23171513025],\n",
    "['GAMA-12', 172.84437099, -0.482115877707],\n",
    "['GAMA-15', 211.756497623, -2.28573712848],\n",
    "['HDF-N', 190.259734752, 62.205265532],\n",
    "['Herschel-Stripe-82', 353.751913281, -7.10891111165],\n",
    "['Lockman-SWIRE', 161.942787703, 59.0563805825],\n",
    "['NGP', 192.899559129, 22.0990890388],\n",
    "['SA13', 197.895801254, 42.4400105492],\n",
    "['SGP', 334.297748942, -34.5037863499],\n",
    "['SPIRE-NEP', 266.334305546, 68.7904496043],\n",
    "['SSDF', 341.577544902, -59.1868365369],\n",
    "['xFLS', 261.387059958, 58.0184602211],\n",
    "['XMM-13hr', 203.318355937, 37.4745777866],\n",
    "['XMM-LSS', 32.9413834032, -6.02293494708]]"
   ]
  },
  {
   "cell_type": "code",
   "execution_count": 3,
   "metadata": {
    "collapsed": false
   },
   "outputs": [
    {
     "name": "stdout",
     "output_type": "stream",
     "text": [
      "There are 62607 GAIA stars in AKARI-NEP\n",
      "Starmask (basic 10 arcsec circles) written to dmu4_sm_AKARI-NEP/holes_AKARI-NEP.reg\n",
      "There are 39411 GAIA stars in AKARI-SEP\n",
      "Starmask (basic 10 arcsec circles) written to dmu4_sm_AKARI-SEP/holes_AKARI-SEP.reg\n",
      "There are 35005 GAIA stars in Bootes\n",
      "Starmask (basic 10 arcsec circles) written to dmu4_sm_Bootes/holes_Bootes.reg\n",
      "There are 35443 GAIA stars in CDFS-SWIRE\n",
      "Starmask (basic 10 arcsec circles) written to dmu4_sm_CDFS-SWIRE/holes_CDFS-SWIRE.reg\n",
      "There are 10709 GAIA stars in COSMOS\n",
      "Starmask (basic 10 arcsec circles) written to dmu4_sm_COSMOS/holes_COSMOS.reg\n",
      "There are 9542 GAIA stars in EGS\n",
      "Starmask (basic 10 arcsec circles) written to dmu4_sm_EGS/holes_EGS.reg\n",
      "There are 53681 GAIA stars in ELAIS-N1\n",
      "Starmask (basic 10 arcsec circles) written to dmu4_sm_ELAIS-N1/holes_ELAIS-N1.reg\n",
      "There are 48330 GAIA stars in ELAIS-N2\n",
      "Starmask (basic 10 arcsec circles) written to dmu4_sm_ELAIS-N2/holes_ELAIS-N2.reg\n",
      "There are 24528 GAIA stars in ELAIS-S1\n",
      "Starmask (basic 10 arcsec circles) written to dmu4_sm_ELAIS-S1/holes_ELAIS-S1.reg\n",
      "There are 286982 GAIA stars in GAMA-09\n",
      "Starmask (basic 10 arcsec circles) written to dmu4_sm_GAMA-09/holes_GAMA-09.reg\n",
      "There are 193963 GAIA stars in GAMA-12\n",
      "Starmask (basic 10 arcsec circles) written to dmu4_sm_GAMA-12/holes_GAMA-12.reg\n",
      "There are 238908 GAIA stars in GAMA-15\n",
      "Starmask (basic 10 arcsec circles) written to dmu4_sm_GAMA-15/holes_GAMA-15.reg\n",
      "There are 1556 GAIA stars in HDF-N\n",
      "Starmask (basic 10 arcsec circles) written to dmu4_sm_HDF-N/holes_HDF-N.reg\n",
      "There are 885551 GAIA stars in Herschel-Stripe-82\n",
      "Starmask (basic 10 arcsec circles) written to dmu4_sm_Herschel-Stripe-82/holes_Herschel-Stripe-82.reg\n",
      "There are 3444 GAIA stars in Lockman-SWIRE     \n",
      "Starmask (basic 10 arcsec circles) written to dmu4_sm_Lockman-SWIRE/holes_Lockman-SWIRE.reg\n",
      "There are 428701 GAIA stars in NGP\n",
      "Starmask (basic 10 arcsec circles) written to dmu4_sm_NGP/holes_NGP.reg\n",
      "There are 670 GAIA stars in SA13\n",
      "Starmask (basic 10 arcsec circles) written to dmu4_sm_SA13/holes_SA13.reg\n",
      "There are 745580 GAIA stars in SGP\n",
      "Starmask (basic 10 arcsec circles) written to dmu4_sm_SGP/holes_SGP.reg\n",
      "There are 3554 GAIA stars in SPIRE-NEP\n",
      "Starmask (basic 10 arcsec circles) written to dmu4_sm_SPIRE-NEP/holes_SPIRE-NEP.reg\n",
      "There are 458084 GAIA stars in SSDF\n",
      "Starmask (basic 10 arcsec circles) written to dmu4_sm_SSDF/holes_SSDF.reg\n",
      "There are 39625 GAIA stars in xFLS\n",
      "Starmask (basic 10 arcsec circles) written to dmu4_sm_xFLS/holes_xFLS.reg\n",
      "There are 1757 GAIA stars in XMM-13hr\n",
      "Starmask (basic 10 arcsec circles) written to dmu4_sm_XMM-13hr/holes_XMM-13hr.reg\n",
      "There are 42203 GAIA stars in XMM-LSS\n",
      "Starmask (basic 10 arcsec circles) written to dmu4_sm_XMM-LSS/holes_XMM-LSS.reg\n"
     ]
    }
   ],
   "source": [
    "for field in fields:\n",
    "    starmask.create_holes('../dmu0/dmu0_GAIA/data/GAIA_' + field[0] + '.fits',\n",
    "                             'dmu4_sm_' + field[0] + '/holes_' + field[0] + '.reg')\n",
    "    \n"
   ]
  }
 ],
 "metadata": {
  "kernelspec": {
   "display_name": "Python [conda env:herschelhelp_internal]",
   "language": "python",
   "name": "conda-env-herschelhelp_internal-py"
  },
  "language_info": {
   "codemirror_mode": {
    "name": "ipython",
    "version": 3
   },
   "file_extension": ".py",
   "mimetype": "text/x-python",
   "name": "python",
   "nbconvert_exporter": "python",
   "pygments_lexer": "ipython3",
   "version": "3.6.1"
  }
 },
 "nbformat": 4,
 "nbformat_minor": 2
}
