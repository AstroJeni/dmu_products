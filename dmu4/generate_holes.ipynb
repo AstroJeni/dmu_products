{
 "cells": [
  {
   "cell_type": "markdown",
   "metadata": {},
   "source": [
    "# Generate hole region files\n",
    "This is currently producing the simplest possible hole regions. For every star brighter than 16 Mag it puts a 10 arcsec circle."
   ]
  },
  {
   "cell_type": "code",
   "execution_count": 1,
   "metadata": {
    "collapsed": false
   },
   "outputs": [],
   "source": [
    "from herschelhelp_internal import starmask\n"
   ]
  },
  {
   "cell_type": "markdown",
   "metadata": {},
   "source": [
    "First we list all the fields including the ra and dec or the first star in the field. We do this because, due to a peculiarity of the pyregion code, we must supply an image header to produce mocs."
   ]
  },
  {
   "cell_type": "code",
   "execution_count": 2,
   "metadata": {
    "collapsed": true
   },
   "outputs": [],
   "source": [
    "#Field names plus ra dec of first circle\n",
    "fields= [\n",
    "['AKARI-NEP', 274.654402036, 65.7962520276],\n",
    "['AKARI-SEP', 72.2316923316, -54.380443672],\n",
    "['Bootes', 216.431700722, 32.401081899],\n",
    "['CDFS-SWIRE', 51.0227099923, -29.8185285737],\n",
    "['COSMOS', 149.295925951, 1.08212668291],\n",
    "['EGS', 217.276981956, 53.6441519854],\n",
    "['ELAIS-N1', 247.096600963, 55.1757687739],\n",
    "['ELAIS-N2', 248.424493154, 39.1274077489],\n",
    "['ELAIS-S1', 7.10625839472, -43.8632559768],\n",
    "['GAMA-09', 129.076050945, -2.23171513025],\n",
    "['GAMA-12', 172.84437099, -0.482115877707],\n",
    "['GAMA-15', 211.756497623, -2.28573712848],\n",
    "['HDF-N', 190.259734752, 62.205265532],\n",
    "['Herschel-Stripe-82', 353.751913281, -7.10891111165],\n",
    "['Lockman-SWIRE', 161.942787703, 59.0563805825],\n",
    "['NGP', 192.899559129, 22.0990890388],\n",
    "['SA13', 197.895801254, 42.4400105492],\n",
    "['SGP', 334.297748942, -34.5037863499],\n",
    "['SPIRE-NEP', 266.334305546, 68.7904496043],\n",
    "['SSDF', 341.577544902, -59.1868365369],\n",
    "['xFLS', 261.387059958, 58.0184602211],\n",
    "['XMM-13hr', 203.318355937, 37.4745777866],\n",
    "['XMM-LSS', 32.9413834032, -6.02293494708]]"
   ]
  },
  {
   "cell_type": "markdown",
   "metadata": {},
   "source": [
    "Then we generate a region file to define all the holes. At present this is very crude and simply puts a 10 arcsec hole over every star brighter than 16 Mag."
   ]
  },
  {
   "cell_type": "code",
   "execution_count": 3,
   "metadata": {
    "collapsed": false,
    "scrolled": false
   },
   "outputs": [
    {
     "name": "stdout",
     "output_type": "stream",
     "text": [
      "There are 62607 GAIA stars in AKARI-NEP\n",
      "Starmask (basic 10 arcsec circles) written to dmu4_sm_AKARI-NEP/data/holes_AKARI-NEP.reg\n",
      "There are 39411 GAIA stars in AKARI-SEP\n",
      "Starmask (basic 10 arcsec circles) written to dmu4_sm_AKARI-SEP/data/holes_AKARI-SEP.reg\n",
      "There are 35005 GAIA stars in Bootes\n",
      "Starmask (basic 10 arcsec circles) written to dmu4_sm_Bootes/data/holes_Bootes.reg\n",
      "There are 35443 GAIA stars in CDFS-SWIRE\n",
      "Starmask (basic 10 arcsec circles) written to dmu4_sm_CDFS-SWIRE/data/holes_CDFS-SWIRE.reg\n",
      "There are 10709 GAIA stars in COSMOS\n",
      "Starmask (basic 10 arcsec circles) written to dmu4_sm_COSMOS/data/holes_COSMOS.reg\n",
      "There are 9542 GAIA stars in EGS\n",
      "Starmask (basic 10 arcsec circles) written to dmu4_sm_EGS/data/holes_EGS.reg\n",
      "There are 53681 GAIA stars in ELAIS-N1\n",
      "Starmask (basic 10 arcsec circles) written to dmu4_sm_ELAIS-N1/data/holes_ELAIS-N1.reg\n",
      "There are 48330 GAIA stars in ELAIS-N2\n",
      "Starmask (basic 10 arcsec circles) written to dmu4_sm_ELAIS-N2/data/holes_ELAIS-N2.reg\n",
      "There are 24528 GAIA stars in ELAIS-S1\n",
      "Starmask (basic 10 arcsec circles) written to dmu4_sm_ELAIS-S1/data/holes_ELAIS-S1.reg\n",
      "There are 286982 GAIA stars in GAMA-09\n",
      "Starmask (basic 10 arcsec circles) written to dmu4_sm_GAMA-09/data/holes_GAMA-09.reg\n",
      "There are 193963 GAIA stars in GAMA-12\n",
      "Starmask (basic 10 arcsec circles) written to dmu4_sm_GAMA-12/data/holes_GAMA-12.reg\n",
      "There are 238908 GAIA stars in GAMA-15\n"
     ]
    },
    {
     "ename": "KeyboardInterrupt",
     "evalue": "",
     "output_type": "error",
     "traceback": [
      "\u001b[0;31m---------------------------------------------------------------------------\u001b[0m",
      "\u001b[0;31mKeyboardInterrupt\u001b[0m                         Traceback (most recent call last)",
      "\u001b[0;32m<ipython-input-3-99b37bd34e49>\u001b[0m in \u001b[0;36m<module>\u001b[0;34m()\u001b[0m\n\u001b[1;32m      1\u001b[0m \u001b[0;32mfor\u001b[0m \u001b[0mfield\u001b[0m \u001b[0;32min\u001b[0m \u001b[0mfields\u001b[0m\u001b[0;34m:\u001b[0m\u001b[0;34m\u001b[0m\u001b[0m\n\u001b[1;32m      2\u001b[0m     starmask.create_holes('../dmu0/dmu0_GAIA/data/GAIA_' + field[0] + '.fits',\n\u001b[0;32m----> 3\u001b[0;31m                              'dmu4_sm_' + field[0] + '/data/holes_' + field[0] + '.reg')\n\u001b[0m\u001b[1;32m      4\u001b[0m \u001b[0;34m\u001b[0m\u001b[0m\n",
      "\u001b[0;32m/Users/rs548/GitHub/herschelhelp_internal/herschelhelp_internal/starmask.py\u001b[0m in \u001b[0;36mcreate_holes\u001b[0;34m(gaia, target, radius)\u001b[0m\n\u001b[1;32m     60\u001b[0m \u001b[0;34m\u001b[0m\u001b[0m\n\u001b[1;32m     61\u001b[0m     \u001b[0;32mfor\u001b[0m \u001b[0mstar\u001b[0m \u001b[0;32min\u001b[0m \u001b[0mstars\u001b[0m\u001b[0;34m:\u001b[0m\u001b[0;34m\u001b[0m\u001b[0m\n\u001b[0;32m---> 62\u001b[0;31m         \u001b[0;32mif\u001b[0m \u001b[0mstar\u001b[0m\u001b[0;34m[\u001b[0m\u001b[0;34m'phot_g_mean_mag'\u001b[0m\u001b[0;34m]\u001b[0m \u001b[0;34m<\u001b[0m \u001b[0;36m16\u001b[0m\u001b[0;34m:\u001b[0m\u001b[0;34m\u001b[0m\u001b[0m\n\u001b[0m\u001b[1;32m     63\u001b[0m             f.writelines('circle ' \n\u001b[1;32m     64\u001b[0m                          \u001b[0;34m+\u001b[0m \u001b[0mstr\u001b[0m\u001b[0;34m(\u001b[0m\u001b[0mstar\u001b[0m\u001b[0;34m[\u001b[0m\u001b[0;34m'ra'\u001b[0m\u001b[0;34m]\u001b[0m\u001b[0;34m)\u001b[0m \u001b[0;34m+\u001b[0m \u001b[0;34m' '\u001b[0m\u001b[0;34m\u001b[0m\u001b[0m\n",
      "\u001b[0;32m/Users/rs548/anaconda/envs/herschelhelp_internal/lib/python3.6/site-packages/astropy/table/row.py\u001b[0m in \u001b[0;36m__getitem__\u001b[0;34m(self, item)\u001b[0m\n\u001b[1;32m     44\u001b[0m \u001b[0;34m\u001b[0m\u001b[0m\n\u001b[1;32m     45\u001b[0m     \u001b[0;32mdef\u001b[0m \u001b[0m__getitem__\u001b[0m\u001b[0;34m(\u001b[0m\u001b[0mself\u001b[0m\u001b[0;34m,\u001b[0m \u001b[0mitem\u001b[0m\u001b[0;34m)\u001b[0m\u001b[0;34m:\u001b[0m\u001b[0;34m\u001b[0m\u001b[0m\n\u001b[0;32m---> 46\u001b[0;31m         \u001b[0;32mreturn\u001b[0m \u001b[0mself\u001b[0m\u001b[0;34m.\u001b[0m\u001b[0m_table\u001b[0m\u001b[0;34m.\u001b[0m\u001b[0mcolumns\u001b[0m\u001b[0;34m[\u001b[0m\u001b[0mitem\u001b[0m\u001b[0;34m]\u001b[0m\u001b[0;34m[\u001b[0m\u001b[0mself\u001b[0m\u001b[0;34m.\u001b[0m\u001b[0m_index\u001b[0m\u001b[0;34m]\u001b[0m\u001b[0;34m\u001b[0m\u001b[0m\n\u001b[0m\u001b[1;32m     47\u001b[0m \u001b[0;34m\u001b[0m\u001b[0m\n\u001b[1;32m     48\u001b[0m     \u001b[0;32mdef\u001b[0m \u001b[0m__setitem__\u001b[0m\u001b[0;34m(\u001b[0m\u001b[0mself\u001b[0m\u001b[0;34m,\u001b[0m \u001b[0mitem\u001b[0m\u001b[0;34m,\u001b[0m \u001b[0mval\u001b[0m\u001b[0;34m)\u001b[0m\u001b[0;34m:\u001b[0m\u001b[0;34m\u001b[0m\u001b[0m\n",
      "\u001b[0;32mastropy/table/_column_mixins.pyx\u001b[0m in \u001b[0;36mastropy.table._column_mixins._MaskedColumnGetitemShim.__getitem__ (astropy/table/_column_mixins.c:1316)\u001b[0;34m()\u001b[0m\n",
      "\u001b[0;32mastropy/table/_column_mixins.pyx\u001b[0m in \u001b[0;36mastropy.table._column_mixins.base_getitem (astropy/table/_column_mixins.c:992)\u001b[0;34m()\u001b[0m\n",
      "\u001b[0;32mastropy/table/_column_mixins.pyx\u001b[0m in \u001b[0;36mastropy.table._column_mixins.masked_column_getitem (astropy/table/_column_mixins.c:1171)\u001b[0;34m()\u001b[0m\n",
      "\u001b[0;32m/Users/rs548/anaconda/envs/herschelhelp_internal/lib/python3.6/site-packages/numpy/ma/core.py\u001b[0m in \u001b[0;36m__getitem__\u001b[0;34m(self, indx)\u001b[0m\n\u001b[1;32m   3156\u001b[0m \u001b[0;34m\u001b[0m\u001b[0m\n\u001b[1;32m   3157\u001b[0m         \"\"\"\n\u001b[0;32m-> 3158\u001b[0;31m         \u001b[0mdout\u001b[0m \u001b[0;34m=\u001b[0m \u001b[0mself\u001b[0m\u001b[0;34m.\u001b[0m\u001b[0mdata\u001b[0m\u001b[0;34m[\u001b[0m\u001b[0mindx\u001b[0m\u001b[0;34m]\u001b[0m\u001b[0;34m\u001b[0m\u001b[0m\n\u001b[0m\u001b[1;32m   3159\u001b[0m         \u001b[0;31m# We could directly use ndarray.__getitem__ on self.\u001b[0m\u001b[0;34m\u001b[0m\u001b[0;34m\u001b[0m\u001b[0m\n\u001b[1;32m   3160\u001b[0m         \u001b[0;31m# But then we would have to modify __array_finalize__ to prevent the\u001b[0m\u001b[0;34m\u001b[0m\u001b[0;34m\u001b[0m\u001b[0m\n",
      "\u001b[0;32m/Users/rs548/anaconda/envs/herschelhelp_internal/lib/python3.6/site-packages/astropy/table/column.py\u001b[0m in \u001b[0;36mdata\u001b[0;34m(self)\u001b[0m\n\u001b[1;32m    997\u001b[0m         \u001b[0;31m# The following is necessary because of a bug in Numpy, which was\u001b[0m\u001b[0;34m\u001b[0m\u001b[0;34m\u001b[0m\u001b[0m\n\u001b[1;32m    998\u001b[0m         \u001b[0;31m# fixed in numpy/numpy#2703. The fix should be included in Numpy 1.8.0.\u001b[0m\u001b[0;34m\u001b[0m\u001b[0;34m\u001b[0m\u001b[0m\n\u001b[0;32m--> 999\u001b[0;31m         \u001b[0mout\u001b[0m\u001b[0;34m.\u001b[0m\u001b[0mfill_value\u001b[0m \u001b[0;34m=\u001b[0m \u001b[0mself\u001b[0m\u001b[0;34m.\u001b[0m\u001b[0mfill_value\u001b[0m\u001b[0;34m\u001b[0m\u001b[0m\n\u001b[0m\u001b[1;32m   1000\u001b[0m         \u001b[0;32mreturn\u001b[0m \u001b[0mout\u001b[0m\u001b[0;34m\u001b[0m\u001b[0m\n\u001b[1;32m   1001\u001b[0m \u001b[0;34m\u001b[0m\u001b[0m\n",
      "\u001b[0;32m/Users/rs548/anaconda/envs/herschelhelp_internal/lib/python3.6/site-packages/numpy/ma/core.py\u001b[0m in \u001b[0;36m__setattr__\u001b[0;34m(self, attr, value)\u001b[0m\n\u001b[1;32m   3306\u001b[0m         \u001b[0;32mreturn\u001b[0m\u001b[0;34m\u001b[0m\u001b[0m\n\u001b[1;32m   3307\u001b[0m \u001b[0;34m\u001b[0m\u001b[0m\n\u001b[0;32m-> 3308\u001b[0;31m     \u001b[0;32mdef\u001b[0m \u001b[0m__setattr__\u001b[0m\u001b[0;34m(\u001b[0m\u001b[0mself\u001b[0m\u001b[0;34m,\u001b[0m \u001b[0mattr\u001b[0m\u001b[0;34m,\u001b[0m \u001b[0mvalue\u001b[0m\u001b[0;34m)\u001b[0m\u001b[0;34m:\u001b[0m\u001b[0;34m\u001b[0m\u001b[0m\n\u001b[0m\u001b[1;32m   3309\u001b[0m         \u001b[0msuper\u001b[0m\u001b[0;34m(\u001b[0m\u001b[0mMaskedArray\u001b[0m\u001b[0;34m,\u001b[0m \u001b[0mself\u001b[0m\u001b[0;34m)\u001b[0m\u001b[0;34m.\u001b[0m\u001b[0m__setattr__\u001b[0m\u001b[0;34m(\u001b[0m\u001b[0mattr\u001b[0m\u001b[0;34m,\u001b[0m \u001b[0mvalue\u001b[0m\u001b[0;34m)\u001b[0m\u001b[0;34m\u001b[0m\u001b[0m\n\u001b[1;32m   3310\u001b[0m         \u001b[0;32mif\u001b[0m \u001b[0mattr\u001b[0m \u001b[0;34m==\u001b[0m \u001b[0;34m'dtype'\u001b[0m \u001b[0;32mand\u001b[0m \u001b[0mself\u001b[0m\u001b[0;34m.\u001b[0m\u001b[0m_mask\u001b[0m \u001b[0;32mis\u001b[0m \u001b[0;32mnot\u001b[0m \u001b[0mnomask\u001b[0m\u001b[0;34m:\u001b[0m\u001b[0;34m\u001b[0m\u001b[0m\n",
      "\u001b[0;31mKeyboardInterrupt\u001b[0m: "
     ]
    }
   ],
   "source": [
    "for field in fields:\n",
    "    starmask.create_holes('../dmu0/dmu0_GAIA/data/GAIA_' + field[0] + '.fits',\n",
    "                             'dmu4_sm_' + field[0] + '/data/holes_' + field[0] + '.reg')\n",
    "    \n"
   ]
  },
  {
   "cell_type": "markdown",
   "metadata": {},
   "source": [
    "Then we convert the region files to MOC format. We recomend against using the MOC since, even at this high order, it doesn't capture shape that well. This will become increasingly significant if we have smaller or more detailed shapes in the future."
   ]
  },
  {
   "cell_type": "code",
   "execution_count": null,
   "metadata": {
    "collapsed": false
   },
   "outputs": [
    {
     "name": "stderr",
     "output_type": "stream",
     "text": [
      "WARNING: The following header keyword is invalid or follows an unrecognized non-standard convention:\n",
      "\n",
      "WCSAXES =                    2 / Number of coordinate axes\n",
      "CRPIX1  =            [astropy.io.fits.card]\n",
      "WARNING: The following header keyword is invalid or follows an unrecognized non-standard convention:\n",
      "     0.5 / Pixel coordinate of reference point\n",
      "CRPIX2  =                0.5 / Pi [astropy.io.fits.card]\n",
      "WARNING: The following header keyword is invalid or follows an unrecognized non-standard convention:\n",
      "xel coordinate of reference point\n",
      "CDELT1  =                0.675 / [deg] Coordin [astropy.io.fits.card]\n",
      "WARNING: The following header keyword is invalid or follows an unrecognized non-standard convention:\n",
      "ate increment at reference point\n",
      "CDELT2  =                0.675 / [deg] Coordina [astropy.io.fits.card]\n",
      "WARNING: The following header keyword is invalid or follows an unrecognized non-standard convention:\n",
      "te increment at reference point\n",
      "RADECSYSa= 'ICRS    '           / International  [astropy.io.fits.card]\n",
      "WARNING: The following header keyword is invalid or follows an unrecognized non-standard convention:\n",
      "Celestial Ref. System\n",
      "CUNIT1  = 'deg     '                / Units of coordinate  [astropy.io.fits.card]\n",
      "WARNING: The following header keyword is invalid or follows an unrecognized non-standard convention:\n",
      "increment and value\n",
      "CUNIT2  = 'deg     '                / Units of coordinate in [astropy.io.fits.card]\n",
      "WARNING: The following header keyword is invalid or follows an unrecognized non-standard convention:\n",
      "crement and value\n",
      "CTYPE1  = 'RA---TAN'           / \n",
      "CTYPE2  = 'DEC--TAN'         [astropy.io.fits.card]\n",
      "WARNING: The following header keyword is invalid or follows an unrecognized non-standard convention:\n",
      "   / \n",
      "CRVAL1  =                  247.0 / [deg] Coordinate value at reference poi [astropy.io.fits.card]\n",
      "WARNING: The following header keyword is invalid or follows an unrecognized non-standard convention:\n",
      "nt\n",
      "CRVAL2  =                  55.1 / [deg] Coordinate value at reference point\n",
      "L [astropy.io.fits.card]\n",
      "WARNING: VerifyWarning: Verification reported errors: [astropy.io.fits.verify]\n",
      "WARNING: VerifyWarning: Card 'ONPOLE ' is not FITS standard (equal sign not at column 8).  Fixed 'ONPOLE ' card to meet the FITS standard. [astropy.io.fits.verify]\n",
      "WARNING: VerifyWarning: Unfixable error: Illegal keyword name 'ONPOLE ' [astropy.io.fits.verify]\n",
      "WARNING: VerifyWarning: Card 'ONPOLE ' is not FITS standard (invalid value string: '0.0 / [deg] Native longitude of celestial pole\\nLATPOLE').  Fixed 'ONPOLE ' card to meet the FITS standard. [astropy.io.fits.verify]\n",
      "WARNING: VerifyWarning: Unfixable error: Unprintable string '[deg] Native longitude of celestial pole\\nLATPOLE'; header comments may only contain printable ASCII characters [astropy.io.fits.verify]\n",
      "WARNING: VerifyWarning: Note: astropy.io.fits uses zero-based indexing.\n",
      " [astropy.io.fits.verify]\n",
      "WARNING: VerifyWarning: Card is too long, comment will be truncated. [astropy.io.fits.card]\n",
      "WARNING: VerifyWarning: Card '=' is not FITS standard (equal sign not at column 8).  Fixed '=' card to meet the FITS standard. [astropy.io.fits.verify]\n",
      "WARNING: VerifyWarning: Unfixable error: Illegal keyword name '=' [astropy.io.fits.verify]\n",
      "WARNING: FITSFixedWarning:  0.5 / Pixel coordinate of reference point\n",
      "a floating-point value was expected. [astropy.wcs.wcs]\n",
      "WARNING: FITSFixedWarning:  / \n",
      "the RADECSYS keyword is deprecated, use RADESYSa. [astropy.wcs.wcs]\n"
     ]
    }
   ],
   "source": [
    "ORDER=16\n",
    "for field in fields:\n",
    "    starmask.reg2moc('dmu4_sm_' + field[0] + '/data/holes_' + field[0] + '.reg',\n",
    "            '../dmu2/dmu2_field_coverages/' + field[0] + '_MOC.fits',\n",
    "            'dmu4_sm_' + field[0] + '/data/holes_' + field[0] + '_O' + str(ORDER) + '_MOC.fits',\n",
    "            ra_typ=field[1],\n",
    "            dec_typ=field[2],\n",
    "            order=ORDER)"
   ]
  }
 ],
 "metadata": {
  "kernelspec": {
   "display_name": "Python [conda env:herschelhelp_internal]",
   "language": "python",
   "name": "conda-env-herschelhelp_internal-py"
  },
  "language_info": {
   "codemirror_mode": {
    "name": "ipython",
    "version": 3
   },
   "file_extension": ".py",
   "mimetype": "text/x-python",
   "name": "python",
   "nbconvert_exporter": "python",
   "pygments_lexer": "ipython3",
   "version": "3.6.1"
  }
 },
 "nbformat": 4,
 "nbformat_minor": 2
}
