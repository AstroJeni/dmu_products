{
 "cells": [
  {
   "cell_type": "markdown",
   "metadata": {},
   "source": [
    "# Generate hole region files\n",
    "This is currently producing the simplest possible hole regions. For every star brighter than 16 Mag it puts a 10 arcsec circle. It then goes on to produce varying size holes for individual pristine catalogues based on parameters computed by Seb Oliver's IDL code."
   ]
  },
  {
   "cell_type": "code",
   "execution_count": 4,
   "metadata": {
    "collapsed": false
   },
   "outputs": [
    {
     "name": "stdout",
     "output_type": "stream",
     "text": [
      "This notebook was run with herschelhelp_internal version: \n",
      "18a938f (Wed Jun 7 18:24:44 2017 +0100) [with local modifications]\n"
     ]
    }
   ],
   "source": [
    "from herschelhelp_internal import git_version\n",
    "print(\"This notebook was run with herschelhelp_internal version: \\n{}\".format(git_version()))"
   ]
  },
  {
   "cell_type": "code",
   "execution_count": 5,
   "metadata": {
    "collapsed": false
   },
   "outputs": [],
   "source": [
    "from herschelhelp_internal import starmask\n"
   ]
  },
  {
   "cell_type": "markdown",
   "metadata": {},
   "source": [
    "First we list all the fields including the ra and dec or the first star in the field. We do this because, due to a peculiarity of the pyregion code, we must supply an image header to produce mocs."
   ]
  },
  {
   "cell_type": "code",
   "execution_count": 6,
   "metadata": {
    "collapsed": true
   },
   "outputs": [],
   "source": [
    "#Field names plus ra dec of first circle\n",
    "fields= [\n",
    "['AKARI-NEP', 274.654402036, 65.7962520276],\n",
    "['AKARI-SEP', 72.2316923316, -54.380443672],\n",
    "['Bootes', 216.431700722, 32.401081899],\n",
    "['CDFS-SWIRE', 51.0227099923, -29.8185285737],\n",
    "['COSMOS', 149.295925951, 1.08212668291],\n",
    "['EGS', 217.276981956, 53.6441519854],\n",
    "['ELAIS-N1', 247.096600963, 55.1757687739],\n",
    "['ELAIS-N2', 248.424493154, 39.1274077489],\n",
    "['ELAIS-S1', 7.10625839472, -43.8632559768],\n",
    "['GAMA-09', 129.076050945, -2.23171513025],\n",
    "['GAMA-12', 172.84437099, -0.482115877707],\n",
    "['GAMA-15', 211.756497623, -2.28573712848],\n",
    "['HDF-N', 190.259734752, 62.205265532],\n",
    "['Herschel-Stripe-82', 353.751913281, -7.10891111165],\n",
    "['Lockman-SWIRE', 161.942787703, 59.0563805825],\n",
    "['NGP', 192.899559129, 22.0990890388],\n",
    "['SA13', 197.895801254, 42.4400105492],\n",
    "['SGP', 334.297748942, -34.5037863499],\n",
    "['SPIRE-NEP', 266.334305546, 68.7904496043],\n",
    "['SSDF', 341.577544902, -59.1868365369],\n",
    "['xFLS', 261.387059958, 58.0184602211],\n",
    "['XMM-13hr', 203.318355937, 37.4745777866],\n",
    "['XMM-LSS', 32.9413834032, -6.02293494708]]"
   ]
  },
  {
   "cell_type": "markdown",
   "metadata": {},
   "source": [
    "Then we generate a region file to define all the holes. At present this is very crude and simply puts a 10 arcsec hole over every star brighter than 16 Mag."
   ]
  },
  {
   "cell_type": "code",
   "execution_count": 8,
   "metadata": {
    "collapsed": false,
    "scrolled": false
   },
   "outputs": [
    {
     "name": "stdout",
     "output_type": "stream",
     "text": [
      "There are 62607 GAIA stars in AKARI-NEP\n",
      "Starmask written to dmu4_sm_AKARI-NEP/data/10_arcsec_holes_AKARI-NEP.reg\n",
      "There are 39411 GAIA stars in AKARI-SEP\n",
      "Starmask written to dmu4_sm_AKARI-SEP/data/10_arcsec_holes_AKARI-SEP.reg\n",
      "There are 35005 GAIA stars in Bootes\n",
      "Starmask written to dmu4_sm_Bootes/data/10_arcsec_holes_Bootes.reg\n",
      "There are 35443 GAIA stars in CDFS-SWIRE\n",
      "Starmask written to dmu4_sm_CDFS-SWIRE/data/10_arcsec_holes_CDFS-SWIRE.reg\n",
      "There are 10709 GAIA stars in COSMOS\n",
      "Starmask written to dmu4_sm_COSMOS/data/10_arcsec_holes_COSMOS.reg\n",
      "There are 9542 GAIA stars in EGS\n",
      "Starmask written to dmu4_sm_EGS/data/10_arcsec_holes_EGS.reg\n",
      "There are 53681 GAIA stars in ELAIS-N1\n",
      "Starmask written to dmu4_sm_ELAIS-N1/data/10_arcsec_holes_ELAIS-N1.reg\n",
      "There are 48330 GAIA stars in ELAIS-N2\n",
      "Starmask written to dmu4_sm_ELAIS-N2/data/10_arcsec_holes_ELAIS-N2.reg\n",
      "There are 24528 GAIA stars in ELAIS-S1\n",
      "Starmask written to dmu4_sm_ELAIS-S1/data/10_arcsec_holes_ELAIS-S1.reg\n",
      "There are 286982 GAIA stars in GAMA-09\n",
      "Starmask written to dmu4_sm_GAMA-09/data/10_arcsec_holes_GAMA-09.reg\n",
      "There are 193963 GAIA stars in GAMA-12\n",
      "Starmask written to dmu4_sm_GAMA-12/data/10_arcsec_holes_GAMA-12.reg\n",
      "There are 238908 GAIA stars in GAMA-15\n",
      "Starmask written to dmu4_sm_GAMA-15/data/10_arcsec_holes_GAMA-15.reg\n",
      "There are 1556 GAIA stars in HDF-N\n",
      "Starmask written to dmu4_sm_HDF-N/data/10_arcsec_holes_HDF-N.reg\n",
      "There are 885551 GAIA stars in Herschel-Stripe-82\n",
      "Starmask written to dmu4_sm_Herschel-Stripe-82/data/10_arcsec_holes_Herschel-Stripe-82.reg\n",
      "There are 3444 GAIA stars in Lockman-SWIRE     \n",
      "Starmask written to dmu4_sm_Lockman-SWIRE/data/10_arcsec_holes_Lockman-SWIRE.reg\n",
      "There are 428701 GAIA stars in NGP\n",
      "Starmask written to dmu4_sm_NGP/data/10_arcsec_holes_NGP.reg\n",
      "There are 670 GAIA stars in SA13\n",
      "Starmask written to dmu4_sm_SA13/data/10_arcsec_holes_SA13.reg\n",
      "There are 745580 GAIA stars in SGP\n",
      "Starmask written to dmu4_sm_SGP/data/10_arcsec_holes_SGP.reg\n",
      "There are 3554 GAIA stars in SPIRE-NEP\n",
      "Starmask written to dmu4_sm_SPIRE-NEP/data/10_arcsec_holes_SPIRE-NEP.reg\n",
      "There are 458084 GAIA stars in SSDF\n",
      "Starmask written to dmu4_sm_SSDF/data/10_arcsec_holes_SSDF.reg\n",
      "There are 39625 GAIA stars in xFLS\n",
      "Starmask written to dmu4_sm_xFLS/data/10_arcsec_holes_xFLS.reg\n",
      "There are 1757 GAIA stars in XMM-13hr\n",
      "Starmask written to dmu4_sm_XMM-13hr/data/10_arcsec_holes_XMM-13hr.reg\n",
      "There are 42203 GAIA stars in XMM-LSS\n",
      "Starmask written to dmu4_sm_XMM-LSS/data/10_arcsec_holes_XMM-LSS.reg\n"
     ]
    }
   ],
   "source": [
    "for field in fields:\n",
    "    starmask.create_holes('../dmu0/dmu0_GAIA/data/GAIA_' + field[0] + '.fits',\n",
    "                             'dmu4_sm_' + field[0] + '/data/10_arcsec_holes_' + field[0] + '.reg')\n",
    "    \n"
   ]
  },
  {
   "cell_type": "markdown",
   "metadata": {},
   "source": [
    "Then we convert the region files to MOC format. We recomend against using the MOC since, even at this high order, it doesn't capture shape that well. This will become increasingly significant if we have smaller or more detailed shapes in the future."
   ]
  },
  {
   "cell_type": "code",
   "execution_count": null,
   "metadata": {
    "collapsed": false
   },
   "outputs": [],
   "source": [
    "ORDER=16\n",
    "for field in fields:\n",
    "    starmask.reg2moc('dmu4_sm_' + field[0] + '/data/holes_' + field[0] + '.reg',\n",
    "            '../dmu2/dmu2_field_coverages/' + field[0] + '_MOC.fits',\n",
    "            'dmu4_sm_' + field[0] + '/data/holes_' + field[0] + '_O' + str(ORDER) + '_MOC.fits',\n",
    "            ra_typ=field[1],\n",
    "            dec_typ=field[2],\n",
    "            order=ORDER)"
   ]
  },
  {
   "cell_type": "markdown",
   "metadata": {},
   "source": [
    "## Produce magnitude varying holes\n",
    "Then we produce a varying hole parameterised by Seb's code. We define an annulus with a 1 arcsec circle at the centre and an outer radius r_50 (the radius at which the artefact density goes over 0.5 x background density) = 10^(A + B x mag)."
   ]
  },
  {
   "cell_type": "code",
   "execution_count": 9,
   "metadata": {
    "collapsed": false
   },
   "outputs": [
    {
     "name": "stdout",
     "output_type": "stream",
     "text": [
      "There are 53681 GAIA stars in ELAIS-N1\n",
      "Starmask written to dmu4_sm_ELAIS-N1/data/holes_ELAIS-N1_megacam_r.reg\n",
      "There are 53681 GAIA stars in ELAIS-N1\n",
      "Starmask written to dmu4_sm_ELAIS-N1/data/holes_ELAIS-N1_gpc1_r.reg\n",
      "There are 53681 GAIA stars in ELAIS-N1\n",
      "Starmask written to dmu4_sm_ELAIS-N1/data/holes_ELAIS-N1_irac1.reg\n",
      "There are 53681 GAIA stars in ELAIS-N1\n",
      "Starmask written to dmu4_sm_ELAIS-N1/data/holes_ELAIS-N1_master.reg\n",
      "There are 53681 GAIA stars in ELAIS-N1\n",
      "Starmask written to dmu4_sm_ELAIS-N1/data/holes_ELAIS-N1_suprime_r.reg\n",
      "There are 53681 GAIA stars in ELAIS-N1\n",
      "Starmask written to dmu4_sm_ELAIS-N1/data/holes_ELAIS-N1_ukidss_k.reg\n",
      "There are 53681 GAIA stars in ELAIS-N1\n",
      "Starmask written to dmu4_sm_ELAIS-N1/data/holes_ELAIS-N1_wfc_r.reg\n"
     ]
    }
   ],
   "source": [
    "# For now just run ELAIS-N1 with Seb's emailed parameters\n",
    "# TODO: Implement code to generate params and store them in dmu for all relevant prisitine catalogues/fields.\n",
    "# Perhaps convert Seb's IDL code to python notebook to generate list of params per catalogue for every field\n",
    "per_catalogue_params = [\n",
    "    ['ELAIS-N1', 'megacam_r', 2.21267,  -0.0921318, 17],\n",
    "    ['ELAIS-N1', 'gpc1_r',    1.78775,  -0.0679605, 13],\n",
    "    ['ELAIS-N1', 'irac1',     2.64814,  -0.110282,  16], # Taking 16 as faint limit\n",
    "    ['ELAIS-N1', 'master',    3.64842,  -0.183238,  16], # Taking 16 as faint limit\n",
    "    ['ELAIS-N1', 'suprime_r', 2.57425,  -0.114519,  16],\n",
    "    ['ELAIS-N1', 'ukidss_k',  3.70217,  -0.183932,  16], # Taking 16 as faint limit\n",
    "    ['ELAIS-N1', 'wfc_r',     3.61105,  -0.181665,  14]\n",
    "]\n",
    "\n",
    "for pristine_cat in per_catalogue_params:\n",
    "    starmask.create_holes('../dmu0/dmu0_GAIA/data/GAIA_' + pristine_cat[0] + '.fits',\n",
    "                             'dmu4_sm_' + pristine_cat[0] + \n",
    "                          '/data/holes_' + pristine_cat[0] + '_' + pristine_cat[1] + '.reg',\n",
    "                         AB = [pristine_cat[2],pristine_cat[3]],\n",
    "                         mag_lim = pristine_cat[4])\n",
    "    "
   ]
  },
  {
   "cell_type": "markdown",
   "metadata": {},
   "source": [
    "Again we convert the region files to MOC format."
   ]
  },
  {
   "cell_type": "code",
   "execution_count": null,
   "metadata": {
    "collapsed": false
   },
   "outputs": [
    {
     "name": "stderr",
     "output_type": "stream",
     "text": [
      "WARNING: The following header keyword is invalid or follows an unrecognized non-standard convention:\n",
      "\n",
      "WCSAXES =                    2 / Number of coordinate axes\n",
      "CRPIX1  =            [astropy.io.fits.card]\n",
      "WARNING: The following header keyword is invalid or follows an unrecognized non-standard convention:\n",
      "     0.5 / Pixel coordinate of reference point\n",
      "CRPIX2  =                0.5 / Pi [astropy.io.fits.card]\n",
      "WARNING: The following header keyword is invalid or follows an unrecognized non-standard convention:\n",
      "xel coordinate of reference point\n",
      "CDELT1  =                0.675 / [deg] Coordin [astropy.io.fits.card]\n",
      "WARNING: The following header keyword is invalid or follows an unrecognized non-standard convention:\n",
      "ate increment at reference point\n",
      "CDELT2  =                0.675 / [deg] Coordina [astropy.io.fits.card]\n",
      "WARNING: The following header keyword is invalid or follows an unrecognized non-standard convention:\n",
      "te increment at reference point\n",
      "RADECSYSa= 'ICRS    '           / International  [astropy.io.fits.card]\n",
      "WARNING: The following header keyword is invalid or follows an unrecognized non-standard convention:\n",
      "Celestial Ref. System\n",
      "CUNIT1  = 'deg     '                / Units of coordinate  [astropy.io.fits.card]\n",
      "WARNING: The following header keyword is invalid or follows an unrecognized non-standard convention:\n",
      "increment and value\n",
      "CUNIT2  = 'deg     '                / Units of coordinate in [astropy.io.fits.card]\n",
      "WARNING: The following header keyword is invalid or follows an unrecognized non-standard convention:\n",
      "crement and value\n",
      "CTYPE1  = 'RA---TAN'           / \n",
      "CTYPE2  = 'DEC--TAN'         [astropy.io.fits.card]\n",
      "WARNING: The following header keyword is invalid or follows an unrecognized non-standard convention:\n",
      "   / \n",
      "CRVAL1  =                  247.0 / [deg] Coordinate value at reference poi [astropy.io.fits.card]\n",
      "WARNING: The following header keyword is invalid or follows an unrecognized non-standard convention:\n",
      "nt\n",
      "CRVAL2  =                  55.1 / [deg] Coordinate value at reference point\n",
      "L [astropy.io.fits.card]\n",
      "WARNING: VerifyWarning: Verification reported errors: [astropy.io.fits.verify]\n",
      "WARNING: VerifyWarning: Card 'ONPOLE ' is not FITS standard (equal sign not at column 8).  Fixed 'ONPOLE ' card to meet the FITS standard. [astropy.io.fits.verify]\n",
      "WARNING: VerifyWarning: Unfixable error: Illegal keyword name 'ONPOLE ' [astropy.io.fits.verify]\n",
      "WARNING: VerifyWarning: Card 'ONPOLE ' is not FITS standard (invalid value string: '0.0 / [deg] Native longitude of celestial pole\\nLATPOLE').  Fixed 'ONPOLE ' card to meet the FITS standard. [astropy.io.fits.verify]\n",
      "WARNING: VerifyWarning: Unfixable error: Unprintable string '[deg] Native longitude of celestial pole\\nLATPOLE'; header comments may only contain printable ASCII characters [astropy.io.fits.verify]\n",
      "WARNING: VerifyWarning: Note: astropy.io.fits uses zero-based indexing.\n",
      " [astropy.io.fits.verify]\n",
      "WARNING: VerifyWarning: Card is too long, comment will be truncated. [astropy.io.fits.card]\n",
      "WARNING: VerifyWarning: Card '=' is not FITS standard (equal sign not at column 8).  Fixed '=' card to meet the FITS standard. [astropy.io.fits.verify]\n",
      "WARNING: VerifyWarning: Unfixable error: Illegal keyword name '=' [astropy.io.fits.verify]\n",
      "WARNING: FITSFixedWarning:  0.5 / Pixel coordinate of reference point\n",
      "a floating-point value was expected. [astropy.wcs.wcs]\n",
      "WARNING: FITSFixedWarning:  / \n",
      "the RADECSYS keyword is deprecated, use RADESYSa. [astropy.wcs.wcs]\n"
     ]
    }
   ],
   "source": [
    "ORDER=15\n",
    "for pristine_cat in per_catalogue_params:\n",
    "    starmask.reg2moc('dmu4_sm_' + pristine_cat[0] + \n",
    "                          '/data/holes_' + pristine_cat[0] + '_' + pristine_cat[1] + '.reg',\n",
    "            '../dmu2/dmu2_field_coverages/' + pristine_cat[0] + '_MOC.fits',\n",
    "            'dmu4_sm_' + pristine_cat[0] + '/data/holes_' + pristine_cat[0] + '_O' + str(ORDER) + '_MOC.fits',\n",
    "            ra_typ=fields[6][1],\n",
    "            dec_typ=fields[6][2],\n",
    "            order=ORDER)"
   ]
  }
 ],
 "metadata": {
  "kernelspec": {
   "display_name": "Python [conda env:herschelhelp_internal]",
   "language": "python",
   "name": "conda-env-herschelhelp_internal-py"
  },
  "language_info": {
   "codemirror_mode": {
    "name": "ipython",
    "version": 3
   },
   "file_extension": ".py",
   "mimetype": "text/x-python",
   "name": "python",
   "nbconvert_exporter": "python",
   "pygments_lexer": "ipython3",
   "version": "3.6.1"
  }
 },
 "nbformat": 4,
 "nbformat_minor": 2
}
