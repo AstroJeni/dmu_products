{
 "cells": [
  {
   "cell_type": "markdown",
   "metadata": {},
   "source": [
    "# Investigate GAIA stars in ELAIS-N1\n",
    "Plot some useful statistics of the stars in the GAIA catalogue for the ELAIS-N1 field."
   ]
  },
  {
   "cell_type": "code",
   "execution_count": 10,
   "metadata": {
    "collapsed": false
   },
   "outputs": [],
   "source": [
    "import seaborn as sns\n",
    "from astropy.table import Table\n",
    "import pandas as pd\n",
    "%matplotlib inline\n"
   ]
  },
  {
   "cell_type": "code",
   "execution_count": 3,
   "metadata": {
    "collapsed": true
   },
   "outputs": [],
   "source": [
    "gaia = Table.read('../dmu0/dmu0_GAIA/data/GAIA_ELAIS-N1.fits')"
   ]
  },
  {
   "cell_type": "code",
   "execution_count": 5,
   "metadata": {
    "collapsed": false
   },
   "outputs": [
    {
     "data": {
      "text/html": [
       "&lt;Table masked=True length=10&gt;\n",
       "<table id=\"table4646243856-700507\" class=\"table-striped table-bordered table-condensed\">\n",
       "<thead><tr><th>idx</th><th>field</th><th>solution_id</th><th>source_id</th><th>random_index</th><th>ref_epoch</th><th>ra</th><th>ra_error</th><th>dec</th><th>dec_error</th><th>parallax</th><th>parallax_error</th><th>pmra</th><th>pmra_error</th><th>pmdec</th><th>pmdec_error</th><th>ra_dec_corr</th><th>ra_parallax_corr</th><th>ra_pmra_corr</th><th>ra_pmdec_corr</th><th>dec_parallax_corr</th><th>dec_pmra_corr</th><th>dec_pmdec_corr</th><th>parallax_pmra_corr</th><th>parallax_pmdec_corr</th><th>pmra_pmdec_corr</th><th>astrometric_n_obs_al</th><th>astrometric_n_obs_ac</th><th>astrometric_n_good_obs_al</th><th>astrometric_n_good_obs_ac</th><th>astrometric_n_bad_obs_al</th><th>astrometric_n_bad_obs_ac</th><th>astrometric_delta_q</th><th>astrometric_excess_noise</th><th>astrometric_excess_noise_sig</th><th>astrometric_primary_flag</th><th>astrometric_relegation_factor</th><th>astrometric_weight_al</th><th>astrometric_weight_ac</th><th>astrometric_priors_used</th><th>matched_observations</th><th>duplicated_source</th><th>scan_direction_strength_k1</th><th>scan_direction_strength_k2</th><th>scan_direction_strength_k3</th><th>scan_direction_strength_k4</th><th>scan_direction_mean_k1</th><th>scan_direction_mean_k2</th><th>scan_direction_mean_k3</th><th>scan_direction_mean_k4</th><th>phot_g_n_obs</th><th>phot_g_mean_flux</th><th>phot_g_mean_flux_error</th><th>phot_g_mean_mag</th><th>phot_variable_flag</th><th>l</th><th>b</th><th>ecl_lon</th><th>ecl_lat</th></tr></thead>\n",
       "<thead><tr><th></th><th></th><th></th><th></th><th></th><th>a</th><th>deg</th><th>mas</th><th>deg</th><th>mas</th><th>mas</th><th>mas</th><th>mas / yr</th><th>mas / yr</th><th>mas / yr</th><th>mas / yr</th><th></th><th></th><th></th><th></th><th></th><th></th><th></th><th></th><th></th><th></th><th></th><th></th><th></th><th></th><th></th><th></th><th></th><th>mas</th><th></th><th></th><th></th><th>1 / mas2</th><th>1 / mas2</th><th></th><th></th><th></th><th></th><th></th><th></th><th></th><th>deg</th><th>deg</th><th>deg</th><th>deg</th><th></th><th>1 / s</th><th>1 / s</th><th>mag</th><th></th><th>deg</th><th>deg</th><th>deg</th><th>deg</th></tr></thead>\n",
       "<tr><td>0</td><td>ELAIS-N1</td><td>1635378410781933568</td><td>1430174597185070208</td><td>975540496</td><td>2015.0</td><td>247.096600963</td><td>9.75536239202</td><td>55.1757687739</td><td>8.08904982454</td><td>nan</td><td>nan</td><td>nan</td><td>nan</td><td>nan</td><td>nan</td><td>-0.76585</td><td>nan</td><td>nan</td><td>nan</td><td>nan</td><td>nan</td><td>nan</td><td>nan</td><td>nan</td><td>nan</td><td>73</td><td>0</td><td>70</td><td>0</td><td>3</td><td>0</td><td>nan</td><td>14.1942399879</td><td>183.01135275</td><td>False</td><td>7.82726</td><td>0.00435663</td><td>nan</td><td>2</td><td>12</td><td>False</td><td>0.197377</td><td>0.190658</td><td>0.395514</td><td>0.121559</td><td>-81.7407</td><td>-44.3084</td><td>5.37467</td><td>22.7256</td><td>71</td><td>167.527237072</td><td>4.25991978257</td><td>19.9645564989</td><td>NOT_AVAILABLE</td><td>84.232821122</td><td>42.1714066728</td><td>215.082358782</td><td>74.241450288</td></tr>\n",
       "<tr><td>1</td><td>ELAIS-N1</td><td>1635378410781933568</td><td>1430174841998664960</td><td>1095560720</td><td>2015.0</td><td>247.04238854</td><td>11.8891304669</td><td>55.1708383337</td><td>12.9055525226</td><td>nan</td><td>nan</td><td>nan</td><td>nan</td><td>nan</td><td>nan</td><td>-0.94625</td><td>nan</td><td>nan</td><td>nan</td><td>nan</td><td>nan</td><td>nan</td><td>nan</td><td>nan</td><td>nan</td><td>60</td><td>0</td><td>59</td><td>0</td><td>1</td><td>0</td><td>nan</td><td>0.0</td><td>-6.8372006627e-16</td><td>False</td><td>1.0</td><td>0.0481842</td><td>nan</td><td>2</td><td>12</td><td>False</td><td>0.359176</td><td>0.406885</td><td>0.116278</td><td>0.324894</td><td>-132.858</td><td>-63.0536</td><td>8.39553</td><td>38.2017</td><td>59</td><td>128.453498532</td><td>1.83648493788</td><td>20.2529052211</td><td>NOT_AVAILABLE</td><td>84.2357465206</td><td>42.2026822787</td><td>214.999121392</td><td>74.2197443646</td></tr>\n",
       "<tr><td>2</td><td>ELAIS-N1</td><td>1635378410781933568</td><td>1430174425386375552</td><td>684182585</td><td>2015.0</td><td>247.030620364</td><td>1.83073677491</td><td>55.1377540787</td><td>2.13603608049</td><td>nan</td><td>nan</td><td>nan</td><td>nan</td><td>nan</td><td>nan</td><td>-0.70155</td><td>nan</td><td>nan</td><td>nan</td><td>nan</td><td>nan</td><td>nan</td><td>nan</td><td>nan</td><td>nan</td><td>69</td><td>0</td><td>67</td><td>0</td><td>2</td><td>0</td><td>nan</td><td>0.404385252649</td><td>0.164417559872</td><td>False</td><td>1.00807</td><td>0.0397303</td><td>nan</td><td>2</td><td>14</td><td>False</td><td>0.366171</td><td>0.20493</td><td>0.478846</td><td>0.0857158</td><td>-128.452</td><td>-83.4207</td><td>8.64021</td><td>-16.2446</td><td>75</td><td>152.676340505</td><td>2.11126614667</td><td>20.0653407093</td><td>NOT_AVAILABLE</td><td>84.194275615</td><td>42.2166907663</td><td>215.048119274</td><td>74.1887300714</td></tr>\n",
       "<tr><td>3</td><td>ELAIS-N1</td><td>1635378410781933568</td><td>1430174665904545408</td><td>706237184</td><td>2015.0</td><td>247.04429931</td><td>4.62564786435</td><td>55.1587171694</td><td>3.68445341608</td><td>nan</td><td>nan</td><td>nan</td><td>nan</td><td>nan</td><td>nan</td><td>-0.98035</td><td>nan</td><td>nan</td><td>nan</td><td>nan</td><td>nan</td><td>nan</td><td>nan</td><td>nan</td><td>nan</td><td>78</td><td>0</td><td>78</td><td>0</td><td>0</td><td>0</td><td>nan</td><td>0.0</td><td>5.88049352219e-16</td><td>False</td><td>1.0</td><td>0.178191</td><td>nan</td><td>2</td><td>14</td><td>False</td><td>0.21082</td><td>0.204888</td><td>0.329109</td><td>0.140336</td><td>-83.6355</td><td>-42.7429</td><td>5.2222</td><td>23.0539</td><td>85</td><td>396.088109018</td><td>2.17860230238</td><td>19.0302905523</td><td>NOT_AVAILABLE</td><td>84.2194725574</td><td>42.2043517528</td><td>215.027830585</td><td>74.2104104008</td></tr>\n",
       "<tr><td>4</td><td>ELAIS-N1</td><td>1635378410781933568</td><td>1430174665905988992</td><td>682027801</td><td>2015.0</td><td>247.03131474</td><td>12.7331367127</td><td>55.1522388823</td><td>15.7332239436</td><td>nan</td><td>nan</td><td>nan</td><td>nan</td><td>nan</td><td>nan</td><td>-0.5038</td><td>nan</td><td>nan</td><td>nan</td><td>nan</td><td>nan</td><td>nan</td><td>nan</td><td>nan</td><td>nan</td><td>17</td><td>0</td><td>17</td><td>0</td><td>0</td><td>0</td><td>nan</td><td>7.21479530473</td><td>2.30370394815</td><td>False</td><td>1.72902</td><td>0.00718229</td><td>nan</td><td>2</td><td>7</td><td>False</td><td>0.472465</td><td>0.561071</td><td>0.994587</td><td>0.379098</td><td>-167.128</td><td>-85.9325</td><td>6.6787</td><td>-36.3714</td><td>17</td><td>79.3221748459</td><td>4.57782613386</td><td>20.776283531</td><td>NOT_AVAILABLE</td><td>84.2132091622</td><td>42.2130398407</td><td>215.019007912</td><td>74.2008584713</td></tr>\n",
       "<tr><td>5</td><td>ELAIS-N1</td><td>1635378410781933568</td><td>1430174700264283008</td><td>253427521</td><td>2015.0</td><td>246.999563411</td><td>1.55126385012</td><td>55.1504066806</td><td>1.1890706155</td><td>nan</td><td>nan</td><td>nan</td><td>nan</td><td>nan</td><td>nan</td><td>-0.9822</td><td>nan</td><td>nan</td><td>nan</td><td>nan</td><td>nan</td><td>nan</td><td>nan</td><td>nan</td><td>nan</td><td>79</td><td>0</td><td>79</td><td>0</td><td>0</td><td>0</td><td>nan</td><td>0.454993462567</td><td>5.14085923228</td><td>False</td><td>1.33074</td><td>2.25052</td><td>nan</td><td>2</td><td>14</td><td>False</td><td>0.197088</td><td>0.213802</td><td>0.337594</td><td>0.147618</td><td>-85.4122</td><td>-43.506</td><td>5.16141</td><td>23.9028</td><td>86</td><td>4380.08180312</td><td>4.81044396217</td><td>16.42106451</td><td>NOT_AVAILABLE</td><td>84.2163285033</td><td>42.2311282726</td><td>214.968125062</td><td>74.1890067497</td></tr>\n",
       "<tr><td>6</td><td>ELAIS-N1</td><td>1635378410781933568</td><td>1430174704559393024</td><td>169347870</td><td>2015.0</td><td>246.994283275</td><td>12.1757017932</td><td>55.1536439672</td><td>12.9279532495</td><td>nan</td><td>nan</td><td>nan</td><td>nan</td><td>nan</td><td>nan</td><td>-0.92855</td><td>nan</td><td>nan</td><td>nan</td><td>nan</td><td>nan</td><td>nan</td><td>nan</td><td>nan</td><td>nan</td><td>62</td><td>0</td><td>62</td><td>0</td><td>0</td><td>0</td><td>nan</td><td>0.0</td><td>0.0</td><td>False</td><td>1.0</td><td>0.0303945</td><td>nan</td><td>2</td><td>14</td><td>False</td><td>0.368339</td><td>0.399922</td><td>0.158744</td><td>0.308857</td><td>-133.513</td><td>-65.0852</td><td>8.00462</td><td>39.2524</td><td>68</td><td>114.185564459</td><td>2.06640375521</td><td>20.3807420561</td><td>NOT_AVAILABLE</td><td>84.2215085001</td><td>42.2333356268</td><td>214.952251671</td><td>74.1899441549</td></tr>\n",
       "<tr><td>7</td><td>ELAIS-N1</td><td>1635378410781933568</td><td>1428673214057300096</td><td>360013551</td><td>2015.0</td><td>246.992527246</td><td>2.83415268426</td><td>55.1186583682</td><td>2.94819317063</td><td>nan</td><td>nan</td><td>nan</td><td>nan</td><td>nan</td><td>nan</td><td>-0.74025</td><td>nan</td><td>nan</td><td>nan</td><td>nan</td><td>nan</td><td>nan</td><td>nan</td><td>nan</td><td>nan</td><td>61</td><td>0</td><td>61</td><td>0</td><td>0</td><td>0</td><td>nan</td><td>0.0</td><td>0.0</td><td>False</td><td>1.0</td><td>0.0241947</td><td>nan</td><td>2</td><td>14</td><td>False</td><td>0.433932</td><td>0.157393</td><td>0.397506</td><td>0.182883</td><td>-110.64</td><td>84.2595</td><td>9.64454</td><td>-11.6697</td><td>68</td><td>116.357776768</td><td>1.90105977152</td><td>20.3602815272</td><td>NOT_AVAILABLE</td><td>84.1757806311</td><td>42.2422141473</td><td>215.022369952</td><td>74.1606287934</td></tr>\n",
       "<tr><td>8</td><td>ELAIS-N1</td><td>1635378410781933568</td><td>1428673385855992064</td><td>434149903</td><td>2015.0</td><td>246.970636595</td><td>0.33605527153</td><td>55.1178623156</td><td>0.49886989998</td><td>nan</td><td>nan</td><td>nan</td><td>nan</td><td>nan</td><td>nan</td><td>-0.39935</td><td>nan</td><td>nan</td><td>nan</td><td>nan</td><td>nan</td><td>nan</td><td>nan</td><td>nan</td><td>nan</td><td>90</td><td>0</td><td>89</td><td>0</td><td>1</td><td>0</td><td>nan</td><td>0.875792137149</td><td>3.67882643657</td><td>False</td><td>1.29714</td><td>0.473068</td><td>nan</td><td>2</td><td>15</td><td>False</td><td>0.367958</td><td>0.334454</td><td>0.204172</td><td>0.172579</td><td>-93.8809</td><td>-64.6897</td><td>10.0353</td><td>37.9239</td><td>98</td><td>1076.2067803</td><td>2.98371467708</td><td>17.9450307542</td><td>NOT_AVAILABLE</td><td>84.178550805</td><td>42.2545896165</td><td>214.986345675</td><td>74.1528421083</td></tr>\n",
       "<tr><td>9</td><td>ELAIS-N1</td><td>1635378410781933568</td><td>1428673454575469568</td><td>828525757</td><td>2015.0</td><td>246.963743432</td><td>1.21906548463</td><td>55.126967991</td><td>1.74004740134</td><td>nan</td><td>nan</td><td>nan</td><td>nan</td><td>nan</td><td>nan</td><td>-0.6186</td><td>nan</td><td>nan</td><td>nan</td><td>nan</td><td>nan</td><td>nan</td><td>nan</td><td>nan</td><td>nan</td><td>89</td><td>0</td><td>89</td><td>0</td><td>0</td><td>0</td><td>nan</td><td>3.27898082769</td><td>12.4027059431</td><td>False</td><td>2.11584</td><td>0.0552801</td><td>nan</td><td>2</td><td>15</td><td>False</td><td>0.28989</td><td>0.152267</td><td>0.379821</td><td>0.0645074</td><td>-87.7021</td><td>-57.8159</td><td>7.5538</td><td>10.7633</td><td>97</td><td>366.798873291</td><td>3.59933412182</td><td>19.1137000814</td><td>NOT_AVAILABLE</td><td>84.1917385713</td><td>42.2563710608</td><td>214.955473149</td><td>74.1580767029</td></tr>\n",
       "</table><style>table.dataTable {clear: both; width: auto !important; margin: 0 !important;}\n",
       ".dataTables_info, .dataTables_length, .dataTables_filter, .dataTables_paginate{\n",
       "display: inline-block; margin-right: 1em; }\n",
       ".paginate_button { margin-right: 5px; }\n",
       "</style>\n",
       "<script>\n",
       "\n",
       "var astropy_sort_num = function(a, b) {\n",
       "    var a_num = parseFloat(a);\n",
       "    var b_num = parseFloat(b);\n",
       "\n",
       "    if (isNaN(a_num) && isNaN(b_num))\n",
       "        return ((a < b) ? -1 : ((a > b) ? 1 : 0));\n",
       "    else if (!isNaN(a_num) && !isNaN(b_num))\n",
       "        return ((a_num < b_num) ? -1 : ((a_num > b_num) ? 1 : 0));\n",
       "    else\n",
       "        return isNaN(a_num) ? -1 : 1;\n",
       "}\n",
       "\n",
       "require.config({paths: {\n",
       "    datatables: 'https://cdn.datatables.net/1.10.12/js/jquery.dataTables.min'\n",
       "}});\n",
       "require([\"datatables\"], function(){\n",
       "    console.log(\"$('#table4646243856-700507').dataTable()\");\n",
       "    \n",
       "jQuery.extend( jQuery.fn.dataTableExt.oSort, {\n",
       "    \"optionalnum-asc\": astropy_sort_num,\n",
       "    \"optionalnum-desc\": function (a,b) { return -astropy_sort_num(a, b); }\n",
       "});\n",
       "\n",
       "    $('#table4646243856-700507').dataTable({\n",
       "        order: [],\n",
       "        pageLength: 50,\n",
       "        lengthMenu: [[10, 25, 50, 100, 500, 1000, -1], [10, 25, 50, 100, 500, 1000, 'All']],\n",
       "        pagingType: \"full_numbers\",\n",
       "        columnDefs: [{targets: [0, 2, 3, 4, 5, 6, 7, 8, 9, 10, 11, 12, 13, 14, 15, 16, 17, 18, 19, 20, 21, 22, 23, 24, 25, 26, 27, 28, 29, 30, 31, 32, 33, 34, 36, 37, 38, 39, 40, 42, 43, 44, 45, 46, 47, 48, 49, 50, 51, 52, 53, 55, 56, 57, 58], type: \"optionalnum\"}]\n",
       "    });\n",
       "});\n",
       "</script>\n"
      ],
      "text/plain": [
       "<IPython.core.display.HTML object>"
      ]
     },
     "execution_count": 5,
     "metadata": {},
     "output_type": "execute_result"
    }
   ],
   "source": [
    "gaia[:10].show_in_notebook()"
   ]
  },
  {
   "cell_type": "code",
   "execution_count": 17,
   "metadata": {
    "collapsed": false
   },
   "outputs": [
    {
     "data": {
      "image/png": "[encoded data removed]",
      "text/plain": [
       "<matplotlib.figure.Figure at 0x1169c07f0>"
      ]
     },
     "metadata": {},
     "output_type": "display_data"
    }
   ],
   "source": [
    "magplot = sns.distplot(gaia['phot_g_mean_mag'])\n",
    "fig = magplot.get_figure()\n",
    "fig.savefig(\"mag_hist.pdf\")"
   ]
  },
  {
   "cell_type": "code",
   "execution_count": null,
   "metadata": {
    "collapsed": true
   },
   "outputs": [],
   "source": []
  }
 ],
 "metadata": {
  "kernelspec": {
   "display_name": "Python [conda env:herschelhelp_internal]",
   "language": "python",
   "name": "conda-env-herschelhelp_internal-py"
  },
  "language_info": {
   "codemirror_mode": {
    "name": "ipython",
    "version": 3
   },
   "file_extension": ".py",
   "mimetype": "text/x-python",
   "name": "python",
   "nbconvert_exporter": "python",
   "pygments_lexer": "ipython3",
   "version": "3.6.1"
  }
 },
 "nbformat": 4,
 "nbformat_minor": 2
}
