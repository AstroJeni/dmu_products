{
 "cells": [
  {
   "cell_type": "markdown",
   "metadata": {},
   "source": [
    "This notebook prepare the catalogues that will be analysed by CIGALE for SED fitting and physical parameter estimation."
   ]
  },
  {
   "cell_type": "code",
   "execution_count": 1,
   "metadata": {
    "collapsed": true
   },
   "outputs": [],
   "source": [
    "import numpy as np\n",
    "import os\n",
    "\n",
    "from astropy.table import Table\n",
    "\n",
    "from herschelhelp.filters import correct_galactic_extinction\n",
    "from herschelhelp.external import convert_table_for_cigale"
   ]
  },
  {
   "cell_type": "code",
   "execution_count": 2,
   "metadata": {
    "collapsed": true
   },
   "outputs": [],
   "source": [
    "master_catalogue = Table.read(\"../../dmu32/dmu32_ELAIS-N1/data/ELAIS-N1_20170816_cigale.fits\")"
   ]
  },
  {
   "cell_type": "code",
   "execution_count": 3,
   "metadata": {},
   "outputs": [
    {
     "data": {
      "text/plain": [
       "4026292"
      ]
     },
     "execution_count": 3,
     "metadata": {},
     "output_type": "execute_result"
    }
   ],
   "source": [
    "len(master_catalogue)"
   ]
  },
  {
   "cell_type": "markdown",
   "metadata": {},
   "source": [
    "# Best sources\n",
    "\n",
    "Define a good far-IR measurement as:\n",
    "- an existing flux in the band;\n",
    "- the flag from XID+ must not be set;\n",
    "- the signal to noise ratio must be over 2."
   ]
  },
  {
   "cell_type": "code",
   "execution_count": 4,
   "metadata": {},
   "outputs": [],
   "source": [
    "good = {}\n",
    "for band in ['pacs_green', 'pacs_red', 'spire_250', 'spire_350', 'spire_500']:\n",
    "    good[band] = (~np.isnan(master_catalogue['f_{}'.format(band)]) & \n",
    "                                   ~master_catalogue['flag_{}'.format(band)])\n",
    "    good[band][good[band]] &= (master_catalogue[good[band]]['f_{}'.format(band)] /\n",
    "                              master_catalogue[good[band]]['ferr_{}'.format(band)] >= 2)"
   ]
  },
  {
   "cell_type": "code",
   "execution_count": 5,
   "metadata": {},
   "outputs": [],
   "source": [
    "combined_good = np.sum(list(good.values()), axis=0) >= 2"
   ]
  },
  {
   "cell_type": "code",
   "execution_count": 6,
   "metadata": {},
   "outputs": [
    {
     "name": "stdout",
     "output_type": "stream",
     "text": [
      "Number of good sources: 51153\n"
     ]
    }
   ],
   "source": [
    "print(\"Number of good sources: {}\".format(np.sum(combined_good)))"
   ]
  },
  {
   "cell_type": "markdown",
   "metadata": {},
   "source": [
    "# Main catalogue for CIGALE"
   ]
  },
  {
   "cell_type": "code",
   "execution_count": 7,
   "metadata": {},
   "outputs": [],
   "source": [
    "best_catalogue = master_catalogue[combined_good].copy()"
   ]
  },
  {
   "cell_type": "code",
   "execution_count": 8,
   "metadata": {
    "collapsed": true
   },
   "outputs": [],
   "source": [
    "# Correction for galactic extinction\n",
    "best_catalogue = correct_galactic_extinction(best_catalogue, inplace=True)"
   ]
  },
  {
   "cell_type": "code",
   "execution_count": 9,
   "metadata": {},
   "outputs": [
    {
     "name": "stderr",
     "output_type": "stream",
     "text": [
      "/opt/anaconda3/envs/herschelhelp_internal/lib/python3.6/site-packages/numpy/ma/core.py:852: RuntimeWarning: invalid value encountered in greater_equal\n",
      "  return umath.absolute(a) * self.tolerance >= umath.absolute(b)\n",
      "/opt/anaconda3/envs/herschelhelp_internal/lib/python3.6/site-packages/astropy/table/column.py:1096: MaskedArrayFutureWarning: setting an item on a masked array which has a shared mask will not copy the mask and also change the original mask array in the future.\n",
      "Check the NumPy 1.11 release notes for more information.\n",
      "  ma.MaskedArray.__setitem__(self, index, value)\n",
      "/opt/herschelhelp_python/herschelhelp/external.py:120: RuntimeWarning: invalid value encountered in greater\n",
      "  below_ly = np.where(FILTER_MIN_LAMBDAS[band] < lyman_limit_at_z)[0]\n",
      "INFO:herschelhelp.external:For 2572 sources, the band wfc_u should not be used because it overlaps or is below the Lyman limit at the redshift of these sources. These fluxes were set to NaN.\n",
      "INFO:herschelhelp.external:For 1745 sources, the band megacam_u should not be used because it overlaps or is below the Lyman limit at the redshift of these sources. These fluxes were set to NaN.\n",
      "INFO:herschelhelp.external:For 924 sources, the band suprime_g should not be used because it overlaps or is below the Lyman limit at the redshift of these sources. These fluxes were set to NaN.\n",
      "INFO:herschelhelp.external:For 909 sources, the band megacam_g should not be used because it overlaps or is below the Lyman limit at the redshift of these sources. These fluxes were set to NaN.\n",
      "INFO:herschelhelp.external:For 929 sources, the band gpc1_g should not be used because it overlaps or is below the Lyman limit at the redshift of these sources. These fluxes were set to NaN.\n",
      "INFO:herschelhelp.external:For 878 sources, the band wfc_g should not be used because it overlaps or is below the Lyman limit at the redshift of these sources. These fluxes were set to NaN.\n",
      "/opt/anaconda3/envs/herschelhelp_internal/lib/python3.6/site-packages/numpy/ma/core.py:852: RuntimeWarning: invalid value encountered in multiply\n",
      "  return umath.absolute(a) * self.tolerance >= umath.absolute(b)\n",
      "INFO:herschelhelp.external:For 490 sources, the band suprime_r should not be used because it overlaps or is below the Lyman limit at the redshift of these sources. These fluxes were set to NaN.\n",
      "INFO:herschelhelp.external:For 446 sources, the band gpc1_r should not be used because it overlaps or is below the Lyman limit at the redshift of these sources. These fluxes were set to NaN.\n",
      "INFO:herschelhelp.external:For 340 sources, the band wfc_r should not be used because it overlaps or is below the Lyman limit at the redshift of these sources. These fluxes were set to NaN.\n",
      "INFO:herschelhelp.external:For 357 sources, the band megacam_r should not be used because it overlaps or is below the Lyman limit at the redshift of these sources. These fluxes were set to NaN.\n",
      "INFO:herschelhelp.external:For 108 sources, the band gpc1_i should not be used because it overlaps or is below the Lyman limit at the redshift of these sources. These fluxes were set to NaN.\n",
      "INFO:herschelhelp.external:For 106 sources, the band suprime_i should not be used because it overlaps or is below the Lyman limit at the redshift of these sources. These fluxes were set to NaN.\n",
      "INFO:herschelhelp.external:For 109 sources, the band wfc_i should not be used because it overlaps or is below the Lyman limit at the redshift of these sources. These fluxes were set to NaN.\n"
     ]
    }
   ],
   "source": [
    "# Convertion to CIGALE format\n",
    "os.environ['DEBUG'] = 'info'\n",
    "best_catalogue = convert_table_for_cigale(best_catalogue, inplace=True)"
   ]
  },
  {
   "cell_type": "markdown",
   "metadata": {},
   "source": [
    "## Band selection\n",
    "\n",
    "We want to use only one filter for similar bands. We define an order of preference and set to NaN the flux in the lower prefered bands when a prefered band is available. Some band may have a 0 flux, we set there values to NaN."
   ]
  },
  {
   "cell_type": "code",
   "execution_count": 10,
   "metadata": {
    "collapsed": true
   },
   "outputs": [],
   "source": [
    "g_bands = ['suprime_g', 'megacam_g', 'wfc_g', 'gpc1_g']\n",
    "u_bands = ['megacam_u', 'wfc_u']\n",
    "r_bands = ['suprime_r', 'megacam_r', 'wfc_r', 'gpc1_r']\n",
    "i_bands = ['suprime_i', 'wfc_i']\n",
    "z_bands = ['suprime_z', 'megacam_z', 'wfc_z']\n",
    "y_bands = ['suprime_y', 'gpc1_y']\n",
    "\n",
    "def remove_unneeded_fluxes(list_of_bands):\n",
    "    for band_idx, band in enumerate(list_of_bands[:-1]):\n",
    "        mask = ~np.isnan(best_catalogue[band])\n",
    "        for lower_band in list_of_bands[band_idx+1:]:\n",
    "            best_catalogue[lower_band][mask] = np.nan\n",
    "            best_catalogue[\"{}_err\".format(lower_band)][mask] = np.nan"
   ]
  },
  {
   "cell_type": "code",
   "execution_count": 11,
   "metadata": {},
   "outputs": [
    {
     "name": "stderr",
     "output_type": "stream",
     "text": [
      "/opt/anaconda3/envs/herschelhelp_internal/lib/python3.6/site-packages/astropy/table/column.py:1096: MaskedArrayFutureWarning: setting an item on a masked array which has a shared mask will not copy the mask and also change the original mask array in the future.\n",
      "Check the NumPy 1.11 release notes for more information.\n",
      "  ma.MaskedArray.__setitem__(self, index, value)\n"
     ]
    }
   ],
   "source": [
    "remove_unneeded_fluxes(g_bands)\n",
    "remove_unneeded_fluxes(u_bands)\n",
    "remove_unneeded_fluxes(r_bands)\n",
    "remove_unneeded_fluxes(i_bands)\n",
    "remove_unneeded_fluxes(z_bands)\n",
    "remove_unneeded_fluxes(y_bands)"
   ]
  },
  {
   "cell_type": "code",
   "execution_count": 12,
   "metadata": {
    "collapsed": true
   },
   "outputs": [],
   "source": [
    "best_catalogue.write(\"data_tmp/ELAIS-N1_cigale_best_extcor_20171019.fits\")"
   ]
  },
  {
   "cell_type": "markdown",
   "metadata": {},
   "source": [
    "# Catalogue using spectroscopic redshift"
   ]
  },
  {
   "cell_type": "code",
   "execution_count": 13,
   "metadata": {
    "collapsed": true
   },
   "outputs": [],
   "source": [
    "best_catalogue = master_catalogue[combined_good].copy()"
   ]
  },
  {
   "cell_type": "code",
   "execution_count": 14,
   "metadata": {
    "collapsed": true
   },
   "outputs": [],
   "source": [
    "best_catalogue.remove_column(\"redshift\")\n",
    "best_catalogue[\"zspec\"].name = \"redshift\""
   ]
  },
  {
   "cell_type": "code",
   "execution_count": 15,
   "metadata": {},
   "outputs": [],
   "source": [
    "best_catalogue = best_catalogue[~np.isnan(best_catalogue[\"redshift\"])]"
   ]
  },
  {
   "cell_type": "code",
   "execution_count": 16,
   "metadata": {},
   "outputs": [
    {
     "name": "stdout",
     "output_type": "stream",
     "text": [
      "Number of sources with z-spec: 1532\n"
     ]
    }
   ],
   "source": [
    "print(\"Number of sources with z-spec: {}\".format(len(best_catalogue)))"
   ]
  },
  {
   "cell_type": "code",
   "execution_count": 17,
   "metadata": {
    "collapsed": true
   },
   "outputs": [],
   "source": [
    "# Correction for galactic extinction\n",
    "best_catalogue = correct_galactic_extinction(best_catalogue, inplace=True)"
   ]
  },
  {
   "cell_type": "code",
   "execution_count": 18,
   "metadata": {},
   "outputs": [
    {
     "name": "stderr",
     "output_type": "stream",
     "text": [
      "/opt/anaconda3/envs/herschelhelp_internal/lib/python3.6/site-packages/numpy/ma/core.py:852: RuntimeWarning: invalid value encountered in greater_equal\n",
      "  return umath.absolute(a) * self.tolerance >= umath.absolute(b)\n",
      "/opt/anaconda3/envs/herschelhelp_internal/lib/python3.6/site-packages/astropy/table/column.py:1096: MaskedArrayFutureWarning: setting an item on a masked array which has a shared mask will not copy the mask and also change the original mask array in the future.\n",
      "Check the NumPy 1.11 release notes for more information.\n",
      "  ma.MaskedArray.__setitem__(self, index, value)\n",
      "INFO:herschelhelp.external:For 70 sources, the band wfc_u should not be used because it overlaps or is below the Lyman limit at the redshift of these sources. These fluxes were set to NaN.\n",
      "INFO:herschelhelp.external:For 46 sources, the band megacam_u should not be used because it overlaps or is below the Lyman limit at the redshift of these sources. These fluxes were set to NaN.\n",
      "INFO:herschelhelp.external:For 26 sources, the band suprime_g should not be used because it overlaps or is below the Lyman limit at the redshift of these sources. These fluxes were set to NaN.\n",
      "INFO:herschelhelp.external:For 26 sources, the band megacam_g should not be used because it overlaps or is below the Lyman limit at the redshift of these sources. These fluxes were set to NaN.\n",
      "INFO:herschelhelp.external:For 27 sources, the band gpc1_g should not be used because it overlaps or is below the Lyman limit at the redshift of these sources. These fluxes were set to NaN.\n",
      "INFO:herschelhelp.external:For 25 sources, the band wfc_g should not be used because it overlaps or is below the Lyman limit at the redshift of these sources. These fluxes were set to NaN.\n",
      "INFO:herschelhelp.external:For 18 sources, the band suprime_r should not be used because it overlaps or is below the Lyman limit at the redshift of these sources. These fluxes were set to NaN.\n",
      "INFO:herschelhelp.external:For 18 sources, the band gpc1_r should not be used because it overlaps or is below the Lyman limit at the redshift of these sources. These fluxes were set to NaN.\n",
      "INFO:herschelhelp.external:For 18 sources, the band wfc_r should not be used because it overlaps or is below the Lyman limit at the redshift of these sources. These fluxes were set to NaN.\n",
      "INFO:herschelhelp.external:For 18 sources, the band megacam_r should not be used because it overlaps or is below the Lyman limit at the redshift of these sources. These fluxes were set to NaN.\n",
      "INFO:herschelhelp.external:For 1 sources, the band gpc1_i should not be used because it overlaps or is below the Lyman limit at the redshift of these sources. These fluxes were set to NaN.\n",
      "INFO:herschelhelp.external:For 1 sources, the band suprime_i should not be used because it overlaps or is below the Lyman limit at the redshift of these sources. These fluxes were set to NaN.\n",
      "INFO:herschelhelp.external:For 1 sources, the band wfc_i should not be used because it overlaps or is below the Lyman limit at the redshift of these sources. These fluxes were set to NaN.\n"
     ]
    }
   ],
   "source": [
    "# Convertion to CIGALE format\n",
    "os.environ['DEBUG'] = 'info'\n",
    "best_catalogue = convert_table_for_cigale(best_catalogue, inplace=True)"
   ]
  },
  {
   "cell_type": "code",
   "execution_count": 19,
   "metadata": {},
   "outputs": [
    {
     "name": "stderr",
     "output_type": "stream",
     "text": [
      "/opt/anaconda3/envs/herschelhelp_internal/lib/python3.6/site-packages/astropy/table/column.py:1096: MaskedArrayFutureWarning: setting an item on a masked array which has a shared mask will not copy the mask and also change the original mask array in the future.\n",
      "Check the NumPy 1.11 release notes for more information.\n",
      "  ma.MaskedArray.__setitem__(self, index, value)\n"
     ]
    }
   ],
   "source": [
    "remove_unneeded_fluxes(g_bands)\n",
    "remove_unneeded_fluxes(u_bands)\n",
    "remove_unneeded_fluxes(r_bands)\n",
    "remove_unneeded_fluxes(i_bands)\n",
    "remove_unneeded_fluxes(z_bands)\n",
    "remove_unneeded_fluxes(y_bands)"
   ]
  },
  {
   "cell_type": "code",
   "execution_count": 20,
   "metadata": {
    "collapsed": true
   },
   "outputs": [],
   "source": [
    "best_catalogue.write(\"data_tmp/ELAIS-N1_cigale_best_extcor_zspec_20171019.fits\")"
   ]
  }
 ],
 "metadata": {
  "kernelspec": {
   "display_name": "Python (herschelhelp_internal)",
   "language": "python",
   "name": "helpint"
  },
  "language_info": {
   "codemirror_mode": {
    "name": "ipython",
    "version": 3
   },
   "file_extension": ".py",
   "mimetype": "text/x-python",
   "name": "python",
   "nbconvert_exporter": "python",
   "pygments_lexer": "ipython3",
   "version": "3.6.0"
  }
 },
 "nbformat": 4,
 "nbformat_minor": 2
}
