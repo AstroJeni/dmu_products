{
 "cells": [
  {
   "cell_type": "markdown",
   "metadata": {},
   "source": [
    "This notebook prepare the catalogues that will be analysed by CIGALE for SED fitting and physical parameter estimation."
   ]
  },
  {
   "cell_type": "code",
   "execution_count": 1,
   "metadata": {
    "collapsed": true
   },
   "outputs": [],
   "source": [
    "import numpy as np\n",
    "import os\n",
    "os.environ['LOG_LEVEL'] = 'INFO'\n",
    "import glob\n",
    "from astropy.table import Table\n",
    "\n",
    "from herschelhelp.filters import correct_galactic_extinction\n",
    "from herschelhelp.external import convert_table_for_cigale"
   ]
  },
  {
   "cell_type": "code",
   "execution_count": 2,
   "metadata": {
    "collapsed": true
   },
   "outputs": [],
   "source": [
    "SUFFIX = '20180221'\n",
    "file_list = glob.glob('../../dmu32/dmu32_XMM-LSS/data/tiles/xmm-lss_{}_cigale_*.fits'.format(SUFFIX))"
   ]
  },
  {
   "cell_type": "code",
   "execution_count": 3,
   "metadata": {
    "collapsed": true
   },
   "outputs": [],
   "source": [
    "#len(master_catalogue)"
   ]
  },
  {
   "cell_type": "markdown",
   "metadata": {},
   "source": [
    "# Best sources\n",
    "\n",
    "Define a good far-IR measurement as:\n",
    "- an existing flux in the band;\n",
    "- the flag from XID+ must not be set;\n",
    "- the signal to noise ratio must be over 2."
   ]
  },
  {
   "cell_type": "code",
   "execution_count": 4,
   "metadata": {
    "collapsed": true
   },
   "outputs": [],
   "source": [
    "# good = {}\n",
    "# for band in ['pacs_green', 'pacs_red', 'spire_250', 'spire_350', 'spire_500']:\n",
    "#     good[band] = (~np.isnan(master_catalogue['f_{}'.format(band)]) & \n",
    "#                                    ~master_catalogue['flag_{}'.format(band)])\n",
    "#     good[band][good[band]] &= (master_catalogue[good[band]]['f_{}'.format(band)] /\n",
    "#                               master_catalogue[good[band]]['ferr_{}'.format(band)] >= 2)"
   ]
  },
  {
   "cell_type": "markdown",
   "metadata": {},
   "source": [
    "We will keep only sources with at leat 2 good far-IR measurements (we may actually use less sources are not all may have a redshift)."
   ]
  },
  {
   "cell_type": "code",
   "execution_count": 5,
   "metadata": {
    "collapsed": true
   },
   "outputs": [],
   "source": [
    "# combined_good = np.sum(list(good.values()), axis=0) >= 2"
   ]
  },
  {
   "cell_type": "code",
   "execution_count": 6,
   "metadata": {
    "collapsed": true
   },
   "outputs": [],
   "source": [
    "# print(\"Number of good sources: {}\".format(np.sum(combined_good)))"
   ]
  },
  {
   "cell_type": "markdown",
   "metadata": {},
   "source": [
    "# Main catalogue for CIGALE"
   ]
  },
  {
   "cell_type": "code",
   "execution_count": 7,
   "metadata": {
    "collapsed": true
   },
   "outputs": [],
   "source": [
    "# best_catalogue = master_catalogue[combined_good].copy()"
   ]
  },
  {
   "cell_type": "code",
   "execution_count": 8,
   "metadata": {
    "collapsed": true
   },
   "outputs": [],
   "source": [
    "# Correction for galactic extinction\n",
    "#best_catalogue = correct_galactic_extinction(best_catalogue, inplace=True)"
   ]
  },
  {
   "cell_type": "code",
   "execution_count": 9,
   "metadata": {
    "collapsed": true,
    "scrolled": false
   },
   "outputs": [],
   "source": [
    "# Convertion to CIGALE format\n",
    "#best_catalogue = convert_table_for_cigale(best_catalogue, inplace=True, remove_zerofluxes=True)"
   ]
  },
  {
   "cell_type": "markdown",
   "metadata": {},
   "source": [
    "## Band selection\n",
    "\n",
    "We want to use only one filter for similar bands. We define an order of preference and set to NaN the flux in the lower prefered bands when a prefered band is available. Some band may have a 0 flux, we set there values to NaN."
   ]
  },
  {
   "cell_type": "code",
   "execution_count": 10,
   "metadata": {
    "collapsed": true
   },
   "outputs": [],
   "source": [
    "u_bands = [                         \"megacam_u\"]\n",
    "g_bands = [            \"suprime_g\", \"megacam_g\", \"decam_g\", \"gpc1_g\" ]\n",
    "r_bands = [            \"suprime_r\", \"megacam_r\", \"decam_r\", \"gpc1_r\" ]\n",
    "i_bands = [            \"suprime_i\", \"megacam_i\", \"decam_i\", \"gpc1_i\" ]\n",
    "z_bands = [\"vista_z\",  \"suprime_z\", \"megacam_z\", \"decam_z\", \"gpc1_z\" ]\n",
    "y_bands = [\"vista_y\",  \"suprime_y\", \"megacam_y\", \"decam_y\", \"gpc1_y\" ]\n",
    "j_bands = [\"vista_j\",  \"wircam_j\",  \"ukidss_j\"]\n",
    "h_bands = [\"vista_h\",  \"wircam_h\",  \"ukidss_h\"]\n",
    "k_bands = [\"vista_ks\", \"wircam_ks\"] #, \"ukidss_k\"]\n",
    "\n",
    "def remove_unneeded_fluxes(list_of_bands):\n",
    "    for band_idx, band in enumerate(list_of_bands[:-1]):\n",
    "        mask = ~np.isnan(best_catalogue[band])\n",
    "        for lower_band in list_of_bands[band_idx+1:]:\n",
    "            best_catalogue[lower_band][mask] = np.nan\n",
    "            best_catalogue[\"{}_err\".format(lower_band)][mask] = np.nan"
   ]
  },
  {
   "cell_type": "code",
   "execution_count": 11,
   "metadata": {
    "collapsed": true
   },
   "outputs": [],
   "source": [
    "# remove_unneeded_fluxes(g_bands)\n",
    "# remove_unneeded_fluxes(u_bands)\n",
    "# remove_unneeded_fluxes(r_bands)\n",
    "# remove_unneeded_fluxes(i_bands)\n",
    "# remove_unneeded_fluxes(z_bands)\n",
    "# remove_unneeded_fluxes(y_bands)"
   ]
  },
  {
   "cell_type": "code",
   "execution_count": 12,
   "metadata": {
    "collapsed": true
   },
   "outputs": [],
   "source": [
    "#best_catalogue.write(\"data_tmp/CDFS-SWIRE_cigale_best_extcor_20180129.fits\")"
   ]
  },
  {
   "cell_type": "markdown",
   "metadata": {},
   "source": [
    "# Catalogue using spectroscopic redshift"
   ]
  },
  {
   "cell_type": "code",
   "execution_count": 13,
   "metadata": {
    "collapsed": true
   },
   "outputs": [
    {
     "name": "stdout",
     "output_type": "stream",
     "text": [
      "Number of sources with z-spec in file 40: 1896\n"
     ]
    },
    {
     "name": "stderr",
     "output_type": "stream",
     "text": [
      "ERROR:herschelhelp.filters:The filters are missing in the database: hawki_y.\n",
      "The are present in these columns: ferr_hawki_y.\n",
      "INFO:herschelhelp.external:For 7 sources, the band megacam_u should not be used because it overlaps or is below the Lyman limit at the redshift of these sources. These fluxes were set to NaN.\n",
      "INFO:herschelhelp.external:For 4 sources, the band suprime_b should not be used because it overlaps or is below the Lyman limit at the redshift of these sources. These fluxes were set to NaN.\n",
      "INFO:herschelhelp.external:For 2 sources, the band suprime_g should not be used because it overlaps or is below the Lyman limit at the redshift of these sources. These fluxes were set to NaN.\n",
      "INFO:herschelhelp.external:For 2 sources, the band decam_g should not be used because it overlaps or is below the Lyman limit at the redshift of these sources. These fluxes were set to NaN.\n",
      "INFO:herschelhelp.external:For 2 sources, the band megacam_g should not be used because it overlaps or is below the Lyman limit at the redshift of these sources. These fluxes were set to NaN.\n",
      "INFO:herschelhelp.external:For 2 sources, the band gpc1_g should not be used because it overlaps or is below the Lyman limit at the redshift of these sources. These fluxes were set to NaN.\n"
     ]
    },
    {
     "name": "stdout",
     "output_type": "stream",
     "text": [
      "Number of sources with z-spec in file 2: 1035\n"
     ]
    },
    {
     "name": "stderr",
     "output_type": "stream",
     "text": [
      "ERROR:herschelhelp.filters:The filters are missing in the database: hawki_y.\n",
      "The are present in these columns: ferr_hawki_y.\n",
      "INFO:herschelhelp.external:For 4 sources, the band megacam_u should not be used because it overlaps or is below the Lyman limit at the redshift of these sources. These fluxes were set to NaN.\n",
      "INFO:herschelhelp.external:For 3 sources, the band suprime_b should not be used because it overlaps or is below the Lyman limit at the redshift of these sources. These fluxes were set to NaN.\n",
      "INFO:herschelhelp.external:For 2 sources, the band suprime_g should not be used because it overlaps or is below the Lyman limit at the redshift of these sources. These fluxes were set to NaN.\n",
      "INFO:herschelhelp.external:For 2 sources, the band decam_g should not be used because it overlaps or is below the Lyman limit at the redshift of these sources. These fluxes were set to NaN.\n",
      "INFO:herschelhelp.external:For 2 sources, the band megacam_g should not be used because it overlaps or is below the Lyman limit at the redshift of these sources. These fluxes were set to NaN.\n",
      "INFO:herschelhelp.external:For 2 sources, the band gpc1_g should not be used because it overlaps or is below the Lyman limit at the redshift of these sources. These fluxes were set to NaN.\n"
     ]
    },
    {
     "name": "stdout",
     "output_type": "stream",
     "text": [
      "Number of sources with z-spec in file 71: 1539\n"
     ]
    },
    {
     "name": "stderr",
     "output_type": "stream",
     "text": [
      "ERROR:herschelhelp.filters:The filters are missing in the database: hawki_y.\n",
      "The are present in these columns: ferr_hawki_y.\n",
      "INFO:herschelhelp.external:For 45 sources, the band megacam_u should not be used because it overlaps or is below the Lyman limit at the redshift of these sources. These fluxes were set to NaN.\n",
      "INFO:herschelhelp.external:For 31 sources, the band suprime_b should not be used because it overlaps or is below the Lyman limit at the redshift of these sources. These fluxes were set to NaN.\n",
      "INFO:herschelhelp.external:For 21 sources, the band suprime_g should not be used because it overlaps or is below the Lyman limit at the redshift of these sources. These fluxes were set to NaN.\n",
      "INFO:herschelhelp.external:For 21 sources, the band decam_g should not be used because it overlaps or is below the Lyman limit at the redshift of these sources. These fluxes were set to NaN.\n",
      "INFO:herschelhelp.external:For 21 sources, the band megacam_g should not be used because it overlaps or is below the Lyman limit at the redshift of these sources. These fluxes were set to NaN.\n",
      "INFO:herschelhelp.external:For 21 sources, the band gpc1_g should not be used because it overlaps or is below the Lyman limit at the redshift of these sources. These fluxes were set to NaN.\n"
     ]
    },
    {
     "name": "stdout",
     "output_type": "stream",
     "text": [
      "Number of sources with z-spec in file 58: 1917\n"
     ]
    },
    {
     "name": "stderr",
     "output_type": "stream",
     "text": [
      "ERROR:herschelhelp.filters:The filters are missing in the database: hawki_y.\n",
      "The are present in these columns: ferr_hawki_y.\n",
      "INFO:herschelhelp.external:For 5 sources, the band megacam_u should not be used because it overlaps or is below the Lyman limit at the redshift of these sources. These fluxes were set to NaN.\n",
      "INFO:herschelhelp.external:For 3 sources, the band suprime_b should not be used because it overlaps or is below the Lyman limit at the redshift of these sources. These fluxes were set to NaN.\n",
      "INFO:herschelhelp.external:For 1 sources, the band suprime_g should not be used because it overlaps or is below the Lyman limit at the redshift of these sources. These fluxes were set to NaN.\n",
      "INFO:herschelhelp.external:For 1 sources, the band decam_g should not be used because it overlaps or is below the Lyman limit at the redshift of these sources. These fluxes were set to NaN.\n",
      "INFO:herschelhelp.external:For 1 sources, the band megacam_g should not be used because it overlaps or is below the Lyman limit at the redshift of these sources. These fluxes were set to NaN.\n",
      "INFO:herschelhelp.external:For 1 sources, the band gpc1_g should not be used because it overlaps or is below the Lyman limit at the redshift of these sources. These fluxes were set to NaN.\n"
     ]
    },
    {
     "name": "stdout",
     "output_type": "stream",
     "text": [
      "Number of sources with z-spec in file 13: 1386\n"
     ]
    },
    {
     "name": "stderr",
     "output_type": "stream",
     "text": [
      "ERROR:herschelhelp.filters:The filters are missing in the database: hawki_y.\n",
      "The are present in these columns: ferr_hawki_y.\n",
      "INFO:herschelhelp.external:For 4 sources, the band megacam_u should not be used because it overlaps or is below the Lyman limit at the redshift of these sources. These fluxes were set to NaN.\n",
      "INFO:herschelhelp.external:For 1 sources, the band suprime_b should not be used because it overlaps or is below the Lyman limit at the redshift of these sources. These fluxes were set to NaN.\n",
      "INFO:herschelhelp.external:For 1 sources, the band suprime_g should not be used because it overlaps or is below the Lyman limit at the redshift of these sources. These fluxes were set to NaN.\n",
      "INFO:herschelhelp.external:For 1 sources, the band decam_g should not be used because it overlaps or is below the Lyman limit at the redshift of these sources. These fluxes were set to NaN.\n",
      "INFO:herschelhelp.external:For 1 sources, the band megacam_g should not be used because it overlaps or is below the Lyman limit at the redshift of these sources. These fluxes were set to NaN.\n",
      "INFO:herschelhelp.external:For 1 sources, the band gpc1_g should not be used because it overlaps or is below the Lyman limit at the redshift of these sources. These fluxes were set to NaN.\n"
     ]
    },
    {
     "name": "stdout",
     "output_type": "stream",
     "text": [
      "Number of sources with z-spec in file 22: 1200\n"
     ]
    },
    {
     "name": "stderr",
     "output_type": "stream",
     "text": [
      "ERROR:herschelhelp.filters:The filters are missing in the database: hawki_y.\n",
      "The are present in these columns: ferr_hawki_y.\n",
      "INFO:herschelhelp.external:For 12 sources, the band megacam_u should not be used because it overlaps or is below the Lyman limit at the redshift of these sources. These fluxes were set to NaN.\n",
      "INFO:herschelhelp.external:For 8 sources, the band suprime_b should not be used because it overlaps or is below the Lyman limit at the redshift of these sources. These fluxes were set to NaN.\n",
      "INFO:herschelhelp.external:For 2 sources, the band suprime_g should not be used because it overlaps or is below the Lyman limit at the redshift of these sources. These fluxes were set to NaN.\n",
      "INFO:herschelhelp.external:For 2 sources, the band decam_g should not be used because it overlaps or is below the Lyman limit at the redshift of these sources. These fluxes were set to NaN.\n",
      "INFO:herschelhelp.external:For 2 sources, the band megacam_g should not be used because it overlaps or is below the Lyman limit at the redshift of these sources. These fluxes were set to NaN.\n",
      "INFO:herschelhelp.external:For 2 sources, the band gpc1_g should not be used because it overlaps or is below the Lyman limit at the redshift of these sources. These fluxes were set to NaN.\n"
     ]
    },
    {
     "name": "stdout",
     "output_type": "stream",
     "text": [
      "Number of sources with z-spec in file 69: 1326\n"
     ]
    },
    {
     "name": "stderr",
     "output_type": "stream",
     "text": [
      "ERROR:herschelhelp.filters:The filters are missing in the database: hawki_y.\n",
      "The are present in these columns: ferr_hawki_y.\n",
      "INFO:herschelhelp.external:For 37 sources, the band megacam_u should not be used because it overlaps or is below the Lyman limit at the redshift of these sources. These fluxes were set to NaN.\n",
      "INFO:herschelhelp.external:For 25 sources, the band suprime_b should not be used because it overlaps or is below the Lyman limit at the redshift of these sources. These fluxes were set to NaN.\n",
      "INFO:herschelhelp.external:For 16 sources, the band suprime_g should not be used because it overlaps or is below the Lyman limit at the redshift of these sources. These fluxes were set to NaN.\n",
      "INFO:herschelhelp.external:For 16 sources, the band decam_g should not be used because it overlaps or is below the Lyman limit at the redshift of these sources. These fluxes were set to NaN.\n",
      "INFO:herschelhelp.external:For 16 sources, the band megacam_g should not be used because it overlaps or is below the Lyman limit at the redshift of these sources. These fluxes were set to NaN.\n",
      "INFO:herschelhelp.external:For 16 sources, the band gpc1_g should not be used because it overlaps or is below the Lyman limit at the redshift of these sources. These fluxes were set to NaN.\n",
      "INFO:herschelhelp.external:For 1 sources, the band acs_f606w should not be used because it overlaps or is below the Lyman limit at the redshift of these sources. These fluxes were set to NaN.\n"
     ]
    },
    {
     "name": "stdout",
     "output_type": "stream",
     "text": [
      "Number of sources with z-spec in file 80: 639\n"
     ]
    },
    {
     "name": "stderr",
     "output_type": "stream",
     "text": [
      "ERROR:herschelhelp.filters:The filters are missing in the database: hawki_y.\n",
      "The are present in these columns: ferr_hawki_y.\n",
      "INFO:herschelhelp.external:For 1 sources, the band megacam_u should not be used because it overlaps or is below the Lyman limit at the redshift of these sources. These fluxes were set to NaN.\n"
     ]
    },
    {
     "name": "stdout",
     "output_type": "stream",
     "text": [
      "Number of sources with z-spec in file 75: 1498\n"
     ]
    },
    {
     "name": "stderr",
     "output_type": "stream",
     "text": [
      "ERROR:herschelhelp.filters:The filters are missing in the database: hawki_y.\n",
      "The are present in these columns: ferr_hawki_y.\n",
      "INFO:herschelhelp.external:For 34 sources, the band megacam_u should not be used because it overlaps or is below the Lyman limit at the redshift of these sources. These fluxes were set to NaN.\n",
      "INFO:herschelhelp.external:For 22 sources, the band suprime_b should not be used because it overlaps or is below the Lyman limit at the redshift of these sources. These fluxes were set to NaN.\n",
      "INFO:herschelhelp.external:For 13 sources, the band suprime_g should not be used because it overlaps or is below the Lyman limit at the redshift of these sources. These fluxes were set to NaN.\n",
      "INFO:herschelhelp.external:For 14 sources, the band decam_g should not be used because it overlaps or is below the Lyman limit at the redshift of these sources. These fluxes were set to NaN.\n",
      "INFO:herschelhelp.external:For 13 sources, the band megacam_g should not be used because it overlaps or is below the Lyman limit at the redshift of these sources. These fluxes were set to NaN.\n",
      "INFO:herschelhelp.external:For 13 sources, the band gpc1_g should not be used because it overlaps or is below the Lyman limit at the redshift of these sources. These fluxes were set to NaN.\n",
      "INFO:herschelhelp.external:For 3 sources, the band suprime_v should not be used because it overlaps or is below the Lyman limit at the redshift of these sources. These fluxes were set to NaN.\n",
      "INFO:herschelhelp.external:For 3 sources, the band acs_f606w should not be used because it overlaps or is below the Lyman limit at the redshift of these sources. These fluxes were set to NaN.\n",
      "INFO:herschelhelp.external:For 1 sources, the band suprime_r should not be used because it overlaps or is below the Lyman limit at the redshift of these sources. These fluxes were set to NaN.\n",
      "INFO:herschelhelp.external:For 1 sources, the band gpc1_r should not be used because it overlaps or is below the Lyman limit at the redshift of these sources. These fluxes were set to NaN.\n",
      "INFO:herschelhelp.external:For 1 sources, the band megacam_r should not be used because it overlaps or is below the Lyman limit at the redshift of these sources. These fluxes were set to NaN.\n",
      "INFO:herschelhelp.external:For 1 sources, the band decam_r should not be used because it overlaps or is below the Lyman limit at the redshift of these sources. These fluxes were set to NaN.\n"
     ]
    },
    {
     "name": "stdout",
     "output_type": "stream",
     "text": [
      "Number of sources with z-spec in file 6: 813\n"
     ]
    },
    {
     "name": "stderr",
     "output_type": "stream",
     "text": [
      "ERROR:herschelhelp.filters:The filters are missing in the database: hawki_y.\n",
      "The are present in these columns: ferr_hawki_y.\n",
      "INFO:herschelhelp.external:For 5 sources, the band megacam_u should not be used because it overlaps or is below the Lyman limit at the redshift of these sources. These fluxes were set to NaN.\n",
      "INFO:herschelhelp.external:For 4 sources, the band suprime_b should not be used because it overlaps or is below the Lyman limit at the redshift of these sources. These fluxes were set to NaN.\n",
      "INFO:herschelhelp.external:For 2 sources, the band suprime_g should not be used because it overlaps or is below the Lyman limit at the redshift of these sources. These fluxes were set to NaN.\n",
      "INFO:herschelhelp.external:For 2 sources, the band decam_g should not be used because it overlaps or is below the Lyman limit at the redshift of these sources. These fluxes were set to NaN.\n",
      "INFO:herschelhelp.external:For 2 sources, the band megacam_g should not be used because it overlaps or is below the Lyman limit at the redshift of these sources. These fluxes were set to NaN.\n",
      "INFO:herschelhelp.external:For 2 sources, the band gpc1_g should not be used because it overlaps or is below the Lyman limit at the redshift of these sources. These fluxes were set to NaN.\n"
     ]
    },
    {
     "name": "stdout",
     "output_type": "stream",
     "text": [
      "Number of sources with z-spec in file 44: 1313\n"
     ]
    },
    {
     "name": "stderr",
     "output_type": "stream",
     "text": [
      "ERROR:herschelhelp.filters:The filters are missing in the database: hawki_y.\n",
      "The are present in these columns: ferr_hawki_y.\n",
      "INFO:herschelhelp.external:For 2 sources, the band megacam_u should not be used because it overlaps or is below the Lyman limit at the redshift of these sources. These fluxes were set to NaN.\n"
     ]
    },
    {
     "name": "stdout",
     "output_type": "stream",
     "text": [
      "Number of sources with z-spec in file 26: 2169\n"
     ]
    },
    {
     "name": "stderr",
     "output_type": "stream",
     "text": [
      "ERROR:herschelhelp.filters:The filters are missing in the database: hawki_y.\n",
      "The are present in these columns: ferr_hawki_y.\n",
      "INFO:herschelhelp.external:For 29 sources, the band megacam_u should not be used because it overlaps or is below the Lyman limit at the redshift of these sources. These fluxes were set to NaN.\n",
      "INFO:herschelhelp.external:For 26 sources, the band suprime_b should not be used because it overlaps or is below the Lyman limit at the redshift of these sources. These fluxes were set to NaN.\n",
      "INFO:herschelhelp.external:For 17 sources, the band suprime_g should not be used because it overlaps or is below the Lyman limit at the redshift of these sources. These fluxes were set to NaN.\n",
      "INFO:herschelhelp.external:For 17 sources, the band decam_g should not be used because it overlaps or is below the Lyman limit at the redshift of these sources. These fluxes were set to NaN.\n",
      "INFO:herschelhelp.external:For 17 sources, the band megacam_g should not be used because it overlaps or is below the Lyman limit at the redshift of these sources. These fluxes were set to NaN.\n",
      "INFO:herschelhelp.external:For 17 sources, the band gpc1_g should not be used because it overlaps or is below the Lyman limit at the redshift of these sources. These fluxes were set to NaN.\n",
      "INFO:herschelhelp.external:For 12 sources, the band suprime_v should not be used because it overlaps or is below the Lyman limit at the redshift of these sources. These fluxes were set to NaN.\n",
      "INFO:herschelhelp.external:For 12 sources, the band acs_f606w should not be used because it overlaps or is below the Lyman limit at the redshift of these sources. These fluxes were set to NaN.\n",
      "INFO:herschelhelp.external:For 9 sources, the band suprime_r should not be used because it overlaps or is below the Lyman limit at the redshift of these sources. These fluxes were set to NaN.\n",
      "INFO:herschelhelp.external:For 9 sources, the band gpc1_r should not be used because it overlaps or is below the Lyman limit at the redshift of these sources. These fluxes were set to NaN.\n",
      "INFO:herschelhelp.external:For 9 sources, the band megacam_r should not be used because it overlaps or is below the Lyman limit at the redshift of these sources. These fluxes were set to NaN.\n",
      "INFO:herschelhelp.external:For 9 sources, the band decam_r should not be used because it overlaps or is below the Lyman limit at the redshift of these sources. These fluxes were set to NaN.\n",
      "INFO:herschelhelp.external:For 9 sources, the band suprime_rc should not be used because it overlaps or is below the Lyman limit at the redshift of these sources. These fluxes were set to NaN.\n"
     ]
    },
    {
     "name": "stdout",
     "output_type": "stream",
     "text": [
      "Number of sources with z-spec in file 84: 443\n"
     ]
    },
    {
     "name": "stderr",
     "output_type": "stream",
     "text": [
      "ERROR:herschelhelp.filters:The filters are missing in the database: hawki_y.\n",
      "The are present in these columns: ferr_hawki_y.\n",
      "INFO:herschelhelp.external:For 4 sources, the band megacam_u should not be used because it overlaps or is below the Lyman limit at the redshift of these sources. These fluxes were set to NaN.\n",
      "INFO:herschelhelp.external:For 2 sources, the band suprime_b should not be used because it overlaps or is below the Lyman limit at the redshift of these sources. These fluxes were set to NaN.\n",
      "INFO:herschelhelp.external:For 1 sources, the band suprime_g should not be used because it overlaps or is below the Lyman limit at the redshift of these sources. These fluxes were set to NaN.\n",
      "INFO:herschelhelp.external:For 1 sources, the band decam_g should not be used because it overlaps or is below the Lyman limit at the redshift of these sources. These fluxes were set to NaN.\n",
      "INFO:herschelhelp.external:For 1 sources, the band megacam_g should not be used because it overlaps or is below the Lyman limit at the redshift of these sources. These fluxes were set to NaN.\n",
      "INFO:herschelhelp.external:For 1 sources, the band gpc1_g should not be used because it overlaps or is below the Lyman limit at the redshift of these sources. These fluxes were set to NaN.\n"
     ]
    },
    {
     "name": "stdout",
     "output_type": "stream",
     "text": [
      "Number of sources with z-spec in file 17: 1687\n"
     ]
    },
    {
     "name": "stderr",
     "output_type": "stream",
     "text": [
      "ERROR:herschelhelp.filters:The filters are missing in the database: hawki_y.\n",
      "The are present in these columns: ferr_hawki_y.\n",
      "INFO:herschelhelp.external:For 13 sources, the band megacam_u should not be used because it overlaps or is below the Lyman limit at the redshift of these sources. These fluxes were set to NaN.\n",
      "INFO:herschelhelp.external:For 10 sources, the band suprime_b should not be used because it overlaps or is below the Lyman limit at the redshift of these sources. These fluxes were set to NaN.\n",
      "INFO:herschelhelp.external:For 5 sources, the band suprime_g should not be used because it overlaps or is below the Lyman limit at the redshift of these sources. These fluxes were set to NaN.\n",
      "INFO:herschelhelp.external:For 5 sources, the band decam_g should not be used because it overlaps or is below the Lyman limit at the redshift of these sources. These fluxes were set to NaN.\n",
      "INFO:herschelhelp.external:For 4 sources, the band megacam_g should not be used because it overlaps or is below the Lyman limit at the redshift of these sources. These fluxes were set to NaN.\n",
      "INFO:herschelhelp.external:For 5 sources, the band gpc1_g should not be used because it overlaps or is below the Lyman limit at the redshift of these sources. These fluxes were set to NaN.\n",
      "INFO:herschelhelp.external:For 1 sources, the band suprime_v should not be used because it overlaps or is below the Lyman limit at the redshift of these sources. These fluxes were set to NaN.\n",
      "INFO:herschelhelp.external:For 1 sources, the band acs_f606w should not be used because it overlaps or is below the Lyman limit at the redshift of these sources. These fluxes were set to NaN.\n"
     ]
    },
    {
     "name": "stdout",
     "output_type": "stream",
     "text": [
      "Number of sources with z-spec in file 50: 2001\n"
     ]
    },
    {
     "name": "stderr",
     "output_type": "stream",
     "text": [
      "ERROR:herschelhelp.filters:The filters are missing in the database: hawki_y.\n",
      "The are present in these columns: ferr_hawki_y.\n",
      "INFO:herschelhelp.external:For 5 sources, the band megacam_u should not be used because it overlaps or is below the Lyman limit at the redshift of these sources. These fluxes were set to NaN.\n",
      "INFO:herschelhelp.external:For 4 sources, the band suprime_b should not be used because it overlaps or is below the Lyman limit at the redshift of these sources. These fluxes were set to NaN.\n",
      "INFO:herschelhelp.external:For 2 sources, the band suprime_g should not be used because it overlaps or is below the Lyman limit at the redshift of these sources. These fluxes were set to NaN.\n",
      "INFO:herschelhelp.external:For 2 sources, the band decam_g should not be used because it overlaps or is below the Lyman limit at the redshift of these sources. These fluxes were set to NaN.\n",
      "INFO:herschelhelp.external:For 2 sources, the band megacam_g should not be used because it overlaps or is below the Lyman limit at the redshift of these sources. These fluxes were set to NaN.\n",
      "INFO:herschelhelp.external:For 2 sources, the band gpc1_g should not be used because it overlaps or is below the Lyman limit at the redshift of these sources. These fluxes were set to NaN.\n"
     ]
    },
    {
     "name": "stdout",
     "output_type": "stream",
     "text": [
      "Number of sources with z-spec in file 61: 491\n"
     ]
    },
    {
     "name": "stderr",
     "output_type": "stream",
     "text": [
      "ERROR:herschelhelp.filters:The filters are missing in the database: hawki_y.\n",
      "The are present in these columns: ferr_hawki_y.\n",
      "INFO:herschelhelp.external:For 4 sources, the band megacam_u should not be used because it overlaps or is below the Lyman limit at the redshift of these sources. These fluxes were set to NaN.\n",
      "INFO:herschelhelp.external:For 4 sources, the band suprime_b should not be used because it overlaps or is below the Lyman limit at the redshift of these sources. These fluxes were set to NaN.\n",
      "INFO:herschelhelp.external:For 1 sources, the band suprime_g should not be used because it overlaps or is below the Lyman limit at the redshift of these sources. These fluxes were set to NaN.\n",
      "INFO:herschelhelp.external:For 1 sources, the band decam_g should not be used because it overlaps or is below the Lyman limit at the redshift of these sources. These fluxes were set to NaN.\n",
      "INFO:herschelhelp.external:For 1 sources, the band megacam_g should not be used because it overlaps or is below the Lyman limit at the redshift of these sources. These fluxes were set to NaN.\n",
      "INFO:herschelhelp.external:For 1 sources, the band gpc1_g should not be used because it overlaps or is below the Lyman limit at the redshift of these sources. These fluxes were set to NaN.\n"
     ]
    },
    {
     "name": "stdout",
     "output_type": "stream",
     "text": [
      "Number of sources with z-spec in file 48: 1659\n"
     ]
    },
    {
     "name": "stderr",
     "output_type": "stream",
     "text": [
      "ERROR:herschelhelp.filters:The filters are missing in the database: hawki_y.\n",
      "The are present in these columns: ferr_hawki_y.\n",
      "INFO:herschelhelp.external:For 7 sources, the band megacam_u should not be used because it overlaps or is below the Lyman limit at the redshift of these sources. These fluxes were set to NaN.\n",
      "INFO:herschelhelp.external:For 3 sources, the band suprime_b should not be used because it overlaps or is below the Lyman limit at the redshift of these sources. These fluxes were set to NaN.\n",
      "INFO:herschelhelp.external:For 1 sources, the band suprime_g should not be used because it overlaps or is below the Lyman limit at the redshift of these sources. These fluxes were set to NaN.\n",
      "INFO:herschelhelp.external:For 1 sources, the band decam_g should not be used because it overlaps or is below the Lyman limit at the redshift of these sources. These fluxes were set to NaN.\n",
      "INFO:herschelhelp.external:For 1 sources, the band megacam_g should not be used because it overlaps or is below the Lyman limit at the redshift of these sources. These fluxes were set to NaN.\n",
      "INFO:herschelhelp.external:For 1 sources, the band gpc1_g should not be used because it overlaps or is below the Lyman limit at the redshift of these sources. These fluxes were set to NaN.\n"
     ]
    },
    {
     "name": "stdout",
     "output_type": "stream",
     "text": [
      "Number of sources with z-spec in file 79: 957\n"
     ]
    },
    {
     "name": "stderr",
     "output_type": "stream",
     "text": [
      "ERROR:herschelhelp.filters:The filters are missing in the database: hawki_y.\n",
      "The are present in these columns: ferr_hawki_y.\n",
      "INFO:herschelhelp.external:For 14 sources, the band megacam_u should not be used because it overlaps or is below the Lyman limit at the redshift of these sources. These fluxes were set to NaN.\n",
      "INFO:herschelhelp.external:For 11 sources, the band suprime_b should not be used because it overlaps or is below the Lyman limit at the redshift of these sources. These fluxes were set to NaN.\n",
      "INFO:herschelhelp.external:For 7 sources, the band suprime_g should not be used because it overlaps or is below the Lyman limit at the redshift of these sources. These fluxes were set to NaN.\n",
      "INFO:herschelhelp.external:For 7 sources, the band decam_g should not be used because it overlaps or is below the Lyman limit at the redshift of these sources. These fluxes were set to NaN.\n",
      "INFO:herschelhelp.external:For 6 sources, the band megacam_g should not be used because it overlaps or is below the Lyman limit at the redshift of these sources. These fluxes were set to NaN.\n",
      "INFO:herschelhelp.external:For 7 sources, the band gpc1_g should not be used because it overlaps or is below the Lyman limit at the redshift of these sources. These fluxes were set to NaN.\n",
      "INFO:herschelhelp.external:For 1 sources, the band acs_f606w should not be used because it overlaps or is below the Lyman limit at the redshift of these sources. These fluxes were set to NaN.\n"
     ]
    },
    {
     "name": "stdout",
     "output_type": "stream",
     "text": [
      "Number of sources with z-spec in file 32: 1480\n"
     ]
    },
    {
     "name": "stderr",
     "output_type": "stream",
     "text": [
      "ERROR:herschelhelp.filters:The filters are missing in the database: hawki_y.\n",
      "The are present in these columns: ferr_hawki_y.\n",
      "INFO:herschelhelp.external:For 9 sources, the band megacam_u should not be used because it overlaps or is below the Lyman limit at the redshift of these sources. These fluxes were set to NaN.\n",
      "INFO:herschelhelp.external:For 7 sources, the band suprime_b should not be used because it overlaps or is below the Lyman limit at the redshift of these sources. These fluxes were set to NaN.\n",
      "INFO:herschelhelp.external:For 4 sources, the band suprime_g should not be used because it overlaps or is below the Lyman limit at the redshift of these sources. These fluxes were set to NaN.\n",
      "INFO:herschelhelp.external:For 4 sources, the band decam_g should not be used because it overlaps or is below the Lyman limit at the redshift of these sources. These fluxes were set to NaN.\n",
      "INFO:herschelhelp.external:For 4 sources, the band megacam_g should not be used because it overlaps or is below the Lyman limit at the redshift of these sources. These fluxes were set to NaN.\n",
      "INFO:herschelhelp.external:For 4 sources, the band gpc1_g should not be used because it overlaps or is below the Lyman limit at the redshift of these sources. These fluxes were set to NaN.\n",
      "INFO:herschelhelp.external:For 1 sources, the band suprime_v should not be used because it overlaps or is below the Lyman limit at the redshift of these sources. These fluxes were set to NaN.\n",
      "INFO:herschelhelp.external:For 2 sources, the band acs_f606w should not be used because it overlaps or is below the Lyman limit at the redshift of these sources. These fluxes were set to NaN.\n"
     ]
    },
    {
     "name": "stdout",
     "output_type": "stream",
     "text": [
      "Number of sources with z-spec in file 65: 774\n"
     ]
    },
    {
     "name": "stderr",
     "output_type": "stream",
     "text": [
      "ERROR:herschelhelp.filters:The filters are missing in the database: hawki_y.\n",
      "The are present in these columns: ferr_hawki_y.\n",
      "INFO:herschelhelp.external:For 8 sources, the band megacam_u should not be used because it overlaps or is below the Lyman limit at the redshift of these sources. These fluxes were set to NaN.\n",
      "INFO:herschelhelp.external:For 6 sources, the band suprime_b should not be used because it overlaps or is below the Lyman limit at the redshift of these sources. These fluxes were set to NaN.\n",
      "INFO:herschelhelp.external:For 4 sources, the band suprime_g should not be used because it overlaps or is below the Lyman limit at the redshift of these sources. These fluxes were set to NaN.\n",
      "INFO:herschelhelp.external:For 4 sources, the band decam_g should not be used because it overlaps or is below the Lyman limit at the redshift of these sources. These fluxes were set to NaN.\n",
      "INFO:herschelhelp.external:For 4 sources, the band megacam_g should not be used because it overlaps or is below the Lyman limit at the redshift of these sources. These fluxes were set to NaN.\n",
      "INFO:herschelhelp.external:For 4 sources, the band gpc1_g should not be used because it overlaps or is below the Lyman limit at the redshift of these sources. These fluxes were set to NaN.\n"
     ]
    },
    {
     "name": "stdout",
     "output_type": "stream",
     "text": [
      "Number of sources with z-spec in file 54: 1713\n"
     ]
    },
    {
     "name": "stderr",
     "output_type": "stream",
     "text": [
      "ERROR:herschelhelp.filters:The filters are missing in the database: hawki_y.\n",
      "The are present in these columns: ferr_hawki_y.\n",
      "INFO:herschelhelp.external:For 8 sources, the band megacam_u should not be used because it overlaps or is below the Lyman limit at the redshift of these sources. These fluxes were set to NaN.\n",
      "INFO:herschelhelp.external:For 3 sources, the band suprime_b should not be used because it overlaps or is below the Lyman limit at the redshift of these sources. These fluxes were set to NaN.\n",
      "INFO:herschelhelp.external:For 3 sources, the band suprime_g should not be used because it overlaps or is below the Lyman limit at the redshift of these sources. These fluxes were set to NaN.\n",
      "INFO:herschelhelp.external:For 3 sources, the band decam_g should not be used because it overlaps or is below the Lyman limit at the redshift of these sources. These fluxes were set to NaN.\n",
      "INFO:herschelhelp.external:For 3 sources, the band megacam_g should not be used because it overlaps or is below the Lyman limit at the redshift of these sources. These fluxes were set to NaN.\n",
      "INFO:herschelhelp.external:For 3 sources, the band gpc1_g should not be used because it overlaps or is below the Lyman limit at the redshift of these sources. These fluxes were set to NaN.\n"
     ]
    },
    {
     "name": "stdout",
     "output_type": "stream",
     "text": [
      "Number of sources with z-spec in file 36: 777\n"
     ]
    },
    {
     "name": "stderr",
     "output_type": "stream",
     "text": [
      "ERROR:herschelhelp.filters:The filters are missing in the database: hawki_y.\n",
      "The are present in these columns: ferr_hawki_y.\n",
      "INFO:herschelhelp.external:For 8 sources, the band megacam_u should not be used because it overlaps or is below the Lyman limit at the redshift of these sources. These fluxes were set to NaN.\n",
      "INFO:herschelhelp.external:For 5 sources, the band suprime_b should not be used because it overlaps or is below the Lyman limit at the redshift of these sources. These fluxes were set to NaN.\n",
      "INFO:herschelhelp.external:For 5 sources, the band suprime_g should not be used because it overlaps or is below the Lyman limit at the redshift of these sources. These fluxes were set to NaN.\n",
      "INFO:herschelhelp.external:For 5 sources, the band decam_g should not be used because it overlaps or is below the Lyman limit at the redshift of these sources. These fluxes were set to NaN.\n",
      "INFO:herschelhelp.external:For 5 sources, the band megacam_g should not be used because it overlaps or is below the Lyman limit at the redshift of these sources. These fluxes were set to NaN.\n",
      "INFO:herschelhelp.external:For 5 sources, the band gpc1_g should not be used because it overlaps or is below the Lyman limit at the redshift of these sources. These fluxes were set to NaN.\n",
      "INFO:herschelhelp.external:For 1 sources, the band suprime_v should not be used because it overlaps or is below the Lyman limit at the redshift of these sources. These fluxes were set to NaN.\n",
      "INFO:herschelhelp.external:For 1 sources, the band acs_f606w should not be used because it overlaps or is below the Lyman limit at the redshift of these sources. These fluxes were set to NaN.\n"
     ]
    },
    {
     "name": "stdout",
     "output_type": "stream",
     "text": [
      "Number of sources with z-spec in file 51: 1945\n"
     ]
    },
    {
     "name": "stderr",
     "output_type": "stream",
     "text": [
      "ERROR:herschelhelp.filters:The filters are missing in the database: hawki_y.\n",
      "The are present in these columns: ferr_hawki_y.\n",
      "INFO:herschelhelp.external:For 3 sources, the band megacam_u should not be used because it overlaps or is below the Lyman limit at the redshift of these sources. These fluxes were set to NaN.\n",
      "INFO:herschelhelp.external:For 2 sources, the band suprime_b should not be used because it overlaps or is below the Lyman limit at the redshift of these sources. These fluxes were set to NaN.\n",
      "INFO:herschelhelp.external:For 1 sources, the band suprime_g should not be used because it overlaps or is below the Lyman limit at the redshift of these sources. These fluxes were set to NaN.\n",
      "INFO:herschelhelp.external:For 1 sources, the band decam_g should not be used because it overlaps or is below the Lyman limit at the redshift of these sources. These fluxes were set to NaN.\n",
      "INFO:herschelhelp.external:For 1 sources, the band megacam_g should not be used because it overlaps or is below the Lyman limit at the redshift of these sources. These fluxes were set to NaN.\n",
      "INFO:herschelhelp.external:For 1 sources, the band gpc1_g should not be used because it overlaps or is below the Lyman limit at the redshift of these sources. These fluxes were set to NaN.\n",
      "INFO:herschelhelp.external:For 1 sources, the band suprime_v should not be used because it overlaps or is below the Lyman limit at the redshift of these sources. These fluxes were set to NaN.\n",
      "INFO:herschelhelp.external:For 1 sources, the band acs_f606w should not be used because it overlaps or is below the Lyman limit at the redshift of these sources. These fluxes were set to NaN.\n"
     ]
    },
    {
     "name": "stdout",
     "output_type": "stream",
     "text": [
      "Number of sources with z-spec in file 60: 1244\n"
     ]
    },
    {
     "name": "stderr",
     "output_type": "stream",
     "text": [
      "ERROR:herschelhelp.filters:The filters are missing in the database: hawki_y.\n",
      "The are present in these columns: ferr_hawki_y.\n",
      "INFO:herschelhelp.external:For 2 sources, the band megacam_u should not be used because it overlaps or is below the Lyman limit at the redshift of these sources. These fluxes were set to NaN.\n"
     ]
    },
    {
     "name": "stdout",
     "output_type": "stream",
     "text": [
      "Number of sources with z-spec in file 49: 1784\n"
     ]
    },
    {
     "name": "stderr",
     "output_type": "stream",
     "text": [
      "ERROR:herschelhelp.filters:The filters are missing in the database: hawki_y.\n",
      "The are present in these columns: ferr_hawki_y.\n",
      "INFO:herschelhelp.external:For 6 sources, the band megacam_u should not be used because it overlaps or is below the Lyman limit at the redshift of these sources. These fluxes were set to NaN.\n",
      "INFO:herschelhelp.external:For 3 sources, the band suprime_b should not be used because it overlaps or is below the Lyman limit at the redshift of these sources. These fluxes were set to NaN.\n",
      "INFO:herschelhelp.external:For 2 sources, the band suprime_g should not be used because it overlaps or is below the Lyman limit at the redshift of these sources. These fluxes were set to NaN.\n",
      "INFO:herschelhelp.external:For 2 sources, the band decam_g should not be used because it overlaps or is below the Lyman limit at the redshift of these sources. These fluxes were set to NaN.\n",
      "INFO:herschelhelp.external:For 1 sources, the band megacam_g should not be used because it overlaps or is below the Lyman limit at the redshift of these sources. These fluxes were set to NaN.\n",
      "INFO:herschelhelp.external:For 2 sources, the band gpc1_g should not be used because it overlaps or is below the Lyman limit at the redshift of these sources. These fluxes were set to NaN.\n"
     ]
    },
    {
     "name": "stdout",
     "output_type": "stream",
     "text": [
      "Number of sources with z-spec in file 33: 1022\n"
     ]
    },
    {
     "name": "stderr",
     "output_type": "stream",
     "text": [
      "ERROR:herschelhelp.filters:The filters are missing in the database: hawki_y.\n",
      "The are present in these columns: ferr_hawki_y.\n",
      "INFO:herschelhelp.external:For 8 sources, the band megacam_u should not be used because it overlaps or is below the Lyman limit at the redshift of these sources. These fluxes were set to NaN.\n",
      "INFO:herschelhelp.external:For 6 sources, the band suprime_b should not be used because it overlaps or is below the Lyman limit at the redshift of these sources. These fluxes were set to NaN.\n",
      "INFO:herschelhelp.external:For 4 sources, the band suprime_g should not be used because it overlaps or is below the Lyman limit at the redshift of these sources. These fluxes were set to NaN.\n",
      "INFO:herschelhelp.external:For 4 sources, the band decam_g should not be used because it overlaps or is below the Lyman limit at the redshift of these sources. These fluxes were set to NaN.\n",
      "INFO:herschelhelp.external:For 4 sources, the band megacam_g should not be used because it overlaps or is below the Lyman limit at the redshift of these sources. These fluxes were set to NaN.\n",
      "INFO:herschelhelp.external:For 4 sources, the band gpc1_g should not be used because it overlaps or is below the Lyman limit at the redshift of these sources. These fluxes were set to NaN.\n",
      "INFO:herschelhelp.external:For 1 sources, the band suprime_v should not be used because it overlaps or is below the Lyman limit at the redshift of these sources. These fluxes were set to NaN.\n",
      "INFO:herschelhelp.external:For 1 sources, the band acs_f606w should not be used because it overlaps or is below the Lyman limit at the redshift of these sources. These fluxes were set to NaN.\n"
     ]
    },
    {
     "name": "stdout",
     "output_type": "stream",
     "text": [
      "Number of sources with z-spec in file 78: 901\n"
     ]
    },
    {
     "name": "stderr",
     "output_type": "stream",
     "text": [
      "ERROR:herschelhelp.filters:The filters are missing in the database: hawki_y.\n",
      "The are present in these columns: ferr_hawki_y.\n",
      "INFO:herschelhelp.external:For 22 sources, the band megacam_u should not be used because it overlaps or is below the Lyman limit at the redshift of these sources. These fluxes were set to NaN.\n",
      "INFO:herschelhelp.external:For 15 sources, the band suprime_b should not be used because it overlaps or is below the Lyman limit at the redshift of these sources. These fluxes were set to NaN.\n",
      "INFO:herschelhelp.external:For 10 sources, the band suprime_g should not be used because it overlaps or is below the Lyman limit at the redshift of these sources. These fluxes were set to NaN.\n",
      "INFO:herschelhelp.external:For 10 sources, the band decam_g should not be used because it overlaps or is below the Lyman limit at the redshift of these sources. These fluxes were set to NaN.\n",
      "INFO:herschelhelp.external:For 10 sources, the band megacam_g should not be used because it overlaps or is below the Lyman limit at the redshift of these sources. These fluxes were set to NaN.\n",
      "INFO:herschelhelp.external:For 10 sources, the band gpc1_g should not be used because it overlaps or is below the Lyman limit at the redshift of these sources. These fluxes were set to NaN.\n",
      "INFO:herschelhelp.external:For 1 sources, the band suprime_v should not be used because it overlaps or is below the Lyman limit at the redshift of these sources. These fluxes were set to NaN.\n",
      "INFO:herschelhelp.external:For 1 sources, the band acs_f606w should not be used because it overlaps or is below the Lyman limit at the redshift of these sources. These fluxes were set to NaN.\n"
     ]
    },
    {
     "name": "stdout",
     "output_type": "stream",
     "text": [
      "Number of sources with z-spec in file 64: 500\n"
     ]
    },
    {
     "name": "stderr",
     "output_type": "stream",
     "text": [
      "ERROR:herschelhelp.filters:The filters are missing in the database: hawki_y.\n",
      "The are present in these columns: ferr_hawki_y.\n",
      "INFO:herschelhelp.external:For 5 sources, the band megacam_u should not be used because it overlaps or is below the Lyman limit at the redshift of these sources. These fluxes were set to NaN.\n",
      "INFO:herschelhelp.external:For 2 sources, the band suprime_b should not be used because it overlaps or is below the Lyman limit at the redshift of these sources. These fluxes were set to NaN.\n",
      "INFO:herschelhelp.external:For 2 sources, the band suprime_g should not be used because it overlaps or is below the Lyman limit at the redshift of these sources. These fluxes were set to NaN.\n",
      "INFO:herschelhelp.external:For 2 sources, the band decam_g should not be used because it overlaps or is below the Lyman limit at the redshift of these sources. These fluxes were set to NaN.\n",
      "INFO:herschelhelp.external:For 2 sources, the band megacam_g should not be used because it overlaps or is below the Lyman limit at the redshift of these sources. These fluxes were set to NaN.\n",
      "INFO:herschelhelp.external:For 2 sources, the band gpc1_g should not be used because it overlaps or is below the Lyman limit at the redshift of these sources. These fluxes were set to NaN.\n",
      "INFO:herschelhelp.external:For 1 sources, the band suprime_v should not be used because it overlaps or is below the Lyman limit at the redshift of these sources. These fluxes were set to NaN.\n",
      "INFO:herschelhelp.external:For 1 sources, the band acs_f606w should not be used because it overlaps or is below the Lyman limit at the redshift of these sources. These fluxes were set to NaN.\n"
     ]
    },
    {
     "name": "stdout",
     "output_type": "stream",
     "text": [
      "Number of sources with z-spec in file 55: 2220\n"
     ]
    },
    {
     "name": "stderr",
     "output_type": "stream",
     "text": [
      "ERROR:herschelhelp.filters:The filters are missing in the database: hawki_y.\n",
      "The are present in these columns: ferr_hawki_y.\n",
      "INFO:herschelhelp.external:For 7 sources, the band megacam_u should not be used because it overlaps or is below the Lyman limit at the redshift of these sources. These fluxes were set to NaN.\n",
      "INFO:herschelhelp.external:For 3 sources, the band suprime_b should not be used because it overlaps or is below the Lyman limit at the redshift of these sources. These fluxes were set to NaN.\n",
      "INFO:herschelhelp.external:For 1 sources, the band suprime_g should not be used because it overlaps or is below the Lyman limit at the redshift of these sources. These fluxes were set to NaN.\n",
      "INFO:herschelhelp.external:For 1 sources, the band decam_g should not be used because it overlaps or is below the Lyman limit at the redshift of these sources. These fluxes were set to NaN.\n",
      "INFO:herschelhelp.external:For 1 sources, the band megacam_g should not be used because it overlaps or is below the Lyman limit at the redshift of these sources. These fluxes were set to NaN.\n",
      "INFO:herschelhelp.external:For 1 sources, the band gpc1_g should not be used because it overlaps or is below the Lyman limit at the redshift of these sources. These fluxes were set to NaN.\n"
     ]
    },
    {
     "name": "stdout",
     "output_type": "stream",
     "text": [
      "Number of sources with z-spec in file 37: 1696\n"
     ]
    },
    {
     "name": "stderr",
     "output_type": "stream",
     "text": [
      "ERROR:herschelhelp.filters:The filters are missing in the database: hawki_y.\n",
      "The are present in these columns: ferr_hawki_y.\n",
      "INFO:herschelhelp.external:For 12 sources, the band megacam_u should not be used because it overlaps or is below the Lyman limit at the redshift of these sources. These fluxes were set to NaN.\n",
      "INFO:herschelhelp.external:For 5 sources, the band suprime_b should not be used because it overlaps or is below the Lyman limit at the redshift of these sources. These fluxes were set to NaN.\n",
      "INFO:herschelhelp.external:For 4 sources, the band suprime_g should not be used because it overlaps or is below the Lyman limit at the redshift of these sources. These fluxes were set to NaN.\n",
      "INFO:herschelhelp.external:For 4 sources, the band decam_g should not be used because it overlaps or is below the Lyman limit at the redshift of these sources. These fluxes were set to NaN.\n",
      "INFO:herschelhelp.external:For 4 sources, the band megacam_g should not be used because it overlaps or is below the Lyman limit at the redshift of these sources. These fluxes were set to NaN.\n",
      "INFO:herschelhelp.external:For 4 sources, the band gpc1_g should not be used because it overlaps or is below the Lyman limit at the redshift of these sources. These fluxes were set to NaN.\n",
      "INFO:herschelhelp.external:For 1 sources, the band suprime_v should not be used because it overlaps or is below the Lyman limit at the redshift of these sources. These fluxes were set to NaN.\n",
      "INFO:herschelhelp.external:For 1 sources, the band acs_f606w should not be used because it overlaps or is below the Lyman limit at the redshift of these sources. These fluxes were set to NaN.\n"
     ]
    },
    {
     "name": "stdout",
     "output_type": "stream",
     "text": [
      "Number of sources with z-spec in file 41: 1909\n"
     ]
    },
    {
     "name": "stderr",
     "output_type": "stream",
     "text": [
      "ERROR:herschelhelp.filters:The filters are missing in the database: hawki_y.\n",
      "The are present in these columns: ferr_hawki_y.\n",
      "INFO:herschelhelp.external:For 7 sources, the band megacam_u should not be used because it overlaps or is below the Lyman limit at the redshift of these sources. These fluxes were set to NaN.\n",
      "INFO:herschelhelp.external:For 3 sources, the band suprime_b should not be used because it overlaps or is below the Lyman limit at the redshift of these sources. These fluxes were set to NaN.\n",
      "INFO:herschelhelp.external:For 2 sources, the band suprime_g should not be used because it overlaps or is below the Lyman limit at the redshift of these sources. These fluxes were set to NaN.\n",
      "INFO:herschelhelp.external:For 2 sources, the band decam_g should not be used because it overlaps or is below the Lyman limit at the redshift of these sources. These fluxes were set to NaN.\n",
      "INFO:herschelhelp.external:For 2 sources, the band megacam_g should not be used because it overlaps or is below the Lyman limit at the redshift of these sources. These fluxes were set to NaN.\n",
      "INFO:herschelhelp.external:For 2 sources, the band gpc1_g should not be used because it overlaps or is below the Lyman limit at the redshift of these sources. These fluxes were set to NaN.\n",
      "INFO:herschelhelp.external:For 1 sources, the band suprime_v should not be used because it overlaps or is below the Lyman limit at the redshift of these sources. These fluxes were set to NaN.\n",
      "INFO:herschelhelp.external:For 1 sources, the band acs_f606w should not be used because it overlaps or is below the Lyman limit at the redshift of these sources. These fluxes were set to NaN.\n",
      "INFO:herschelhelp.external:For 1 sources, the band suprime_r should not be used because it overlaps or is below the Lyman limit at the redshift of these sources. These fluxes were set to NaN.\n",
      "INFO:herschelhelp.external:For 1 sources, the band gpc1_r should not be used because it overlaps or is below the Lyman limit at the redshift of these sources. These fluxes were set to NaN.\n",
      "INFO:herschelhelp.external:For 1 sources, the band megacam_r should not be used because it overlaps or is below the Lyman limit at the redshift of these sources. These fluxes were set to NaN.\n",
      "INFO:herschelhelp.external:For 1 sources, the band decam_r should not be used because it overlaps or is below the Lyman limit at the redshift of these sources. These fluxes were set to NaN.\n",
      "INFO:herschelhelp.external:For 1 sources, the band suprime_rc should not be used because it overlaps or is below the Lyman limit at the redshift of these sources. These fluxes were set to NaN.\n"
     ]
    },
    {
     "name": "stdout",
     "output_type": "stream",
     "text": [
      "Number of sources with z-spec in file 3: 923\n"
     ]
    },
    {
     "name": "stderr",
     "output_type": "stream",
     "text": [
      "ERROR:herschelhelp.filters:The filters are missing in the database: hawki_y.\n",
      "The are present in these columns: ferr_hawki_y.\n",
      "INFO:herschelhelp.external:For 4 sources, the band megacam_u should not be used because it overlaps or is below the Lyman limit at the redshift of these sources. These fluxes were set to NaN.\n"
     ]
    },
    {
     "name": "stdout",
     "output_type": "stream",
     "text": [
      "Number of sources with z-spec in file 70: 1444\n"
     ]
    },
    {
     "name": "stderr",
     "output_type": "stream",
     "text": [
      "ERROR:herschelhelp.filters:The filters are missing in the database: hawki_y.\n",
      "The are present in these columns: ferr_hawki_y.\n",
      "INFO:herschelhelp.external:For 44 sources, the band megacam_u should not be used because it overlaps or is below the Lyman limit at the redshift of these sources. These fluxes were set to NaN.\n",
      "INFO:herschelhelp.external:For 30 sources, the band suprime_b should not be used because it overlaps or is below the Lyman limit at the redshift of these sources. These fluxes were set to NaN.\n",
      "INFO:herschelhelp.external:For 19 sources, the band suprime_g should not be used because it overlaps or is below the Lyman limit at the redshift of these sources. These fluxes were set to NaN.\n",
      "INFO:herschelhelp.external:For 19 sources, the band decam_g should not be used because it overlaps or is below the Lyman limit at the redshift of these sources. These fluxes were set to NaN.\n",
      "INFO:herschelhelp.external:For 19 sources, the band megacam_g should not be used because it overlaps or is below the Lyman limit at the redshift of these sources. These fluxes were set to NaN.\n",
      "INFO:herschelhelp.external:For 19 sources, the band gpc1_g should not be used because it overlaps or is below the Lyman limit at the redshift of these sources. These fluxes were set to NaN.\n",
      "INFO:herschelhelp.external:For 2 sources, the band suprime_v should not be used because it overlaps or is below the Lyman limit at the redshift of these sources. These fluxes were set to NaN.\n",
      "INFO:herschelhelp.external:For 2 sources, the band acs_f606w should not be used because it overlaps or is below the Lyman limit at the redshift of these sources. These fluxes were set to NaN.\n"
     ]
    },
    {
     "name": "stdout",
     "output_type": "stream",
     "text": [
      "Number of sources with z-spec in file 12: 907\n"
     ]
    },
    {
     "name": "stderr",
     "output_type": "stream",
     "text": [
      "ERROR:herschelhelp.filters:The filters are missing in the database: hawki_y.\n",
      "The are present in these columns: ferr_hawki_y.\n",
      "INFO:herschelhelp.external:For 4 sources, the band megacam_u should not be used because it overlaps or is below the Lyman limit at the redshift of these sources. These fluxes were set to NaN.\n",
      "INFO:herschelhelp.external:For 4 sources, the band suprime_b should not be used because it overlaps or is below the Lyman limit at the redshift of these sources. These fluxes were set to NaN.\n",
      "INFO:herschelhelp.external:For 2 sources, the band suprime_g should not be used because it overlaps or is below the Lyman limit at the redshift of these sources. These fluxes were set to NaN.\n",
      "INFO:herschelhelp.external:For 2 sources, the band decam_g should not be used because it overlaps or is below the Lyman limit at the redshift of these sources. These fluxes were set to NaN.\n",
      "INFO:herschelhelp.external:For 2 sources, the band megacam_g should not be used because it overlaps or is below the Lyman limit at the redshift of these sources. These fluxes were set to NaN.\n",
      "INFO:herschelhelp.external:For 2 sources, the band gpc1_g should not be used because it overlaps or is below the Lyman limit at the redshift of these sources. These fluxes were set to NaN.\n"
     ]
    },
    {
     "name": "stdout",
     "output_type": "stream",
     "text": [
      "Number of sources with z-spec in file 59: 1707\n"
     ]
    },
    {
     "name": "stderr",
     "output_type": "stream",
     "text": [
      "ERROR:herschelhelp.filters:The filters are missing in the database: hawki_y.\n",
      "The are present in these columns: ferr_hawki_y.\n",
      "INFO:herschelhelp.external:For 4 sources, the band megacam_u should not be used because it overlaps or is below the Lyman limit at the redshift of these sources. These fluxes were set to NaN.\n",
      "INFO:herschelhelp.external:For 2 sources, the band suprime_b should not be used because it overlaps or is below the Lyman limit at the redshift of these sources. These fluxes were set to NaN.\n",
      "INFO:herschelhelp.external:For 2 sources, the band suprime_g should not be used because it overlaps or is below the Lyman limit at the redshift of these sources. These fluxes were set to NaN.\n",
      "INFO:herschelhelp.external:For 2 sources, the band decam_g should not be used because it overlaps or is below the Lyman limit at the redshift of these sources. These fluxes were set to NaN.\n",
      "INFO:herschelhelp.external:For 1 sources, the band megacam_g should not be used because it overlaps or is below the Lyman limit at the redshift of these sources. These fluxes were set to NaN.\n",
      "INFO:herschelhelp.external:For 2 sources, the band gpc1_g should not be used because it overlaps or is below the Lyman limit at the redshift of these sources. These fluxes were set to NaN.\n"
     ]
    },
    {
     "name": "stdout",
     "output_type": "stream",
     "text": [
      "Number of sources with z-spec in file 68: 1395\n"
     ]
    },
    {
     "name": "stderr",
     "output_type": "stream",
     "text": [
      "ERROR:herschelhelp.filters:The filters are missing in the database: hawki_y.\n",
      "The are present in these columns: ferr_hawki_y.\n",
      "INFO:herschelhelp.external:For 52 sources, the band megacam_u should not be used because it overlaps or is below the Lyman limit at the redshift of these sources. These fluxes were set to NaN.\n",
      "INFO:herschelhelp.external:For 35 sources, the band suprime_b should not be used because it overlaps or is below the Lyman limit at the redshift of these sources. These fluxes were set to NaN.\n",
      "INFO:herschelhelp.external:For 24 sources, the band suprime_g should not be used because it overlaps or is below the Lyman limit at the redshift of these sources. These fluxes were set to NaN.\n",
      "INFO:herschelhelp.external:For 25 sources, the band decam_g should not be used because it overlaps or is below the Lyman limit at the redshift of these sources. These fluxes were set to NaN.\n",
      "INFO:herschelhelp.external:For 23 sources, the band megacam_g should not be used because it overlaps or is below the Lyman limit at the redshift of these sources. These fluxes were set to NaN.\n",
      "INFO:herschelhelp.external:For 25 sources, the band gpc1_g should not be used because it overlaps or is below the Lyman limit at the redshift of these sources. These fluxes were set to NaN.\n",
      "INFO:herschelhelp.external:For 3 sources, the band suprime_v should not be used because it overlaps or is below the Lyman limit at the redshift of these sources. These fluxes were set to NaN.\n",
      "INFO:herschelhelp.external:For 5 sources, the band acs_f606w should not be used because it overlaps or is below the Lyman limit at the redshift of these sources. These fluxes were set to NaN.\n",
      "INFO:herschelhelp.external:For 2 sources, the band suprime_r should not be used because it overlaps or is below the Lyman limit at the redshift of these sources. These fluxes were set to NaN.\n",
      "INFO:herschelhelp.external:For 2 sources, the band gpc1_r should not be used because it overlaps or is below the Lyman limit at the redshift of these sources. These fluxes were set to NaN.\n",
      "INFO:herschelhelp.external:For 2 sources, the band megacam_r should not be used because it overlaps or is below the Lyman limit at the redshift of these sources. These fluxes were set to NaN.\n",
      "INFO:herschelhelp.external:For 2 sources, the band decam_r should not be used because it overlaps or is below the Lyman limit at the redshift of these sources. These fluxes were set to NaN.\n"
     ]
    },
    {
     "name": "stdout",
     "output_type": "stream",
     "text": [
      "Number of sources with z-spec in file 23: 2035\n"
     ]
    },
    {
     "name": "stderr",
     "output_type": "stream",
     "text": [
      "ERROR:herschelhelp.filters:The filters are missing in the database: hawki_y.\n",
      "The are present in these columns: ferr_hawki_y.\n",
      "INFO:herschelhelp.external:For 21 sources, the band megacam_u should not be used because it overlaps or is below the Lyman limit at the redshift of these sources. These fluxes were set to NaN.\n",
      "INFO:herschelhelp.external:For 15 sources, the band suprime_b should not be used because it overlaps or is below the Lyman limit at the redshift of these sources. These fluxes were set to NaN.\n",
      "INFO:herschelhelp.external:For 11 sources, the band suprime_g should not be used because it overlaps or is below the Lyman limit at the redshift of these sources. These fluxes were set to NaN.\n",
      "INFO:herschelhelp.external:For 11 sources, the band decam_g should not be used because it overlaps or is below the Lyman limit at the redshift of these sources. These fluxes were set to NaN.\n",
      "INFO:herschelhelp.external:For 11 sources, the band megacam_g should not be used because it overlaps or is below the Lyman limit at the redshift of these sources. These fluxes were set to NaN.\n",
      "INFO:herschelhelp.external:For 11 sources, the band gpc1_g should not be used because it overlaps or is below the Lyman limit at the redshift of these sources. These fluxes were set to NaN.\n",
      "INFO:herschelhelp.external:For 4 sources, the band suprime_v should not be used because it overlaps or is below the Lyman limit at the redshift of these sources. These fluxes were set to NaN.\n",
      "INFO:herschelhelp.external:For 5 sources, the band acs_f606w should not be used because it overlaps or is below the Lyman limit at the redshift of these sources. These fluxes were set to NaN.\n"
     ]
    },
    {
     "name": "stdout",
     "output_type": "stream",
     "text": [
      "Number of sources with z-spec in file 81: 662\n"
     ]
    },
    {
     "name": "stderr",
     "output_type": "stream",
     "text": [
      "ERROR:herschelhelp.filters:The filters are missing in the database: hawki_y.\n",
      "The are present in these columns: ferr_hawki_y.\n",
      "INFO:herschelhelp.external:For 7 sources, the band megacam_u should not be used because it overlaps or is below the Lyman limit at the redshift of these sources. These fluxes were set to NaN.\n",
      "INFO:herschelhelp.external:For 3 sources, the band suprime_b should not be used because it overlaps or is below the Lyman limit at the redshift of these sources. These fluxes were set to NaN.\n"
     ]
    },
    {
     "name": "stdout",
     "output_type": "stream",
     "text": [
      "Number of sources with z-spec in file 74: 1394\n"
     ]
    },
    {
     "name": "stderr",
     "output_type": "stream",
     "text": [
      "ERROR:herschelhelp.filters:The filters are missing in the database: hawki_y.\n",
      "The are present in these columns: ferr_hawki_y.\n",
      "INFO:herschelhelp.external:For 42 sources, the band megacam_u should not be used because it overlaps or is below the Lyman limit at the redshift of these sources. These fluxes were set to NaN.\n",
      "INFO:herschelhelp.external:For 31 sources, the band suprime_b should not be used because it overlaps or is below the Lyman limit at the redshift of these sources. These fluxes were set to NaN.\n",
      "INFO:herschelhelp.external:For 17 sources, the band suprime_g should not be used because it overlaps or is below the Lyman limit at the redshift of these sources. These fluxes were set to NaN.\n",
      "INFO:herschelhelp.external:For 19 sources, the band decam_g should not be used because it overlaps or is below the Lyman limit at the redshift of these sources. These fluxes were set to NaN.\n",
      "INFO:herschelhelp.external:For 17 sources, the band megacam_g should not be used because it overlaps or is below the Lyman limit at the redshift of these sources. These fluxes were set to NaN.\n",
      "INFO:herschelhelp.external:For 18 sources, the band gpc1_g should not be used because it overlaps or is below the Lyman limit at the redshift of these sources. These fluxes were set to NaN.\n",
      "INFO:herschelhelp.external:For 1 sources, the band suprime_v should not be used because it overlaps or is below the Lyman limit at the redshift of these sources. These fluxes were set to NaN.\n",
      "INFO:herschelhelp.external:For 1 sources, the band acs_f606w should not be used because it overlaps or is below the Lyman limit at the redshift of these sources. These fluxes were set to NaN.\n"
     ]
    },
    {
     "name": "stdout",
     "output_type": "stream",
     "text": [
      "Number of sources with z-spec in file 7: 819\n"
     ]
    },
    {
     "name": "stderr",
     "output_type": "stream",
     "text": [
      "ERROR:herschelhelp.filters:The filters are missing in the database: hawki_y.\n",
      "The are present in these columns: ferr_hawki_y.\n",
      "INFO:herschelhelp.external:For 7 sources, the band megacam_u should not be used because it overlaps or is below the Lyman limit at the redshift of these sources. These fluxes were set to NaN.\n",
      "INFO:herschelhelp.external:For 6 sources, the band suprime_b should not be used because it overlaps or is below the Lyman limit at the redshift of these sources. These fluxes were set to NaN.\n",
      "INFO:herschelhelp.external:For 2 sources, the band suprime_g should not be used because it overlaps or is below the Lyman limit at the redshift of these sources. These fluxes were set to NaN.\n",
      "INFO:herschelhelp.external:For 2 sources, the band decam_g should not be used because it overlaps or is below the Lyman limit at the redshift of these sources. These fluxes were set to NaN.\n",
      "INFO:herschelhelp.external:For 1 sources, the band megacam_g should not be used because it overlaps or is below the Lyman limit at the redshift of these sources. These fluxes were set to NaN.\n",
      "INFO:herschelhelp.external:For 2 sources, the band gpc1_g should not be used because it overlaps or is below the Lyman limit at the redshift of these sources. These fluxes were set to NaN.\n",
      "INFO:herschelhelp.external:For 1 sources, the band suprime_v should not be used because it overlaps or is below the Lyman limit at the redshift of these sources. These fluxes were set to NaN.\n",
      "INFO:herschelhelp.external:For 1 sources, the band acs_f606w should not be used because it overlaps or is below the Lyman limit at the redshift of these sources. These fluxes were set to NaN.\n"
     ]
    },
    {
     "name": "stdout",
     "output_type": "stream",
     "text": [
      "Number of sources with z-spec in file 45: 1604\n"
     ]
    },
    {
     "name": "stderr",
     "output_type": "stream",
     "text": [
      "ERROR:herschelhelp.filters:The filters are missing in the database: hawki_y.\n",
      "The are present in these columns: ferr_hawki_y.\n",
      "INFO:herschelhelp.external:For 8 sources, the band megacam_u should not be used because it overlaps or is below the Lyman limit at the redshift of these sources. These fluxes were set to NaN.\n",
      "INFO:herschelhelp.external:For 4 sources, the band suprime_b should not be used because it overlaps or is below the Lyman limit at the redshift of these sources. These fluxes were set to NaN.\n",
      "INFO:herschelhelp.external:For 1 sources, the band suprime_g should not be used because it overlaps or is below the Lyman limit at the redshift of these sources. These fluxes were set to NaN.\n",
      "INFO:herschelhelp.external:For 1 sources, the band decam_g should not be used because it overlaps or is below the Lyman limit at the redshift of these sources. These fluxes were set to NaN.\n",
      "INFO:herschelhelp.external:For 1 sources, the band megacam_g should not be used because it overlaps or is below the Lyman limit at the redshift of these sources. These fluxes were set to NaN.\n",
      "INFO:herschelhelp.external:For 1 sources, the band gpc1_g should not be used because it overlaps or is below the Lyman limit at the redshift of these sources. These fluxes were set to NaN.\n"
     ]
    },
    {
     "name": "stdout",
     "output_type": "stream",
     "text": [
      "Number of sources with z-spec in file 27: 2157\n"
     ]
    },
    {
     "name": "stderr",
     "output_type": "stream",
     "text": [
      "ERROR:herschelhelp.filters:The filters are missing in the database: hawki_y.\n",
      "The are present in these columns: ferr_hawki_y.\n",
      "INFO:herschelhelp.external:For 7 sources, the band megacam_u should not be used because it overlaps or is below the Lyman limit at the redshift of these sources. These fluxes were set to NaN.\n",
      "INFO:herschelhelp.external:For 7 sources, the band suprime_b should not be used because it overlaps or is below the Lyman limit at the redshift of these sources. These fluxes were set to NaN.\n",
      "INFO:herschelhelp.external:For 3 sources, the band suprime_g should not be used because it overlaps or is below the Lyman limit at the redshift of these sources. These fluxes were set to NaN.\n",
      "INFO:herschelhelp.external:For 3 sources, the band decam_g should not be used because it overlaps or is below the Lyman limit at the redshift of these sources. These fluxes were set to NaN.\n",
      "INFO:herschelhelp.external:For 3 sources, the band megacam_g should not be used because it overlaps or is below the Lyman limit at the redshift of these sources. These fluxes were set to NaN.\n",
      "INFO:herschelhelp.external:For 3 sources, the band gpc1_g should not be used because it overlaps or is below the Lyman limit at the redshift of these sources. These fluxes were set to NaN.\n",
      "INFO:herschelhelp.external:For 2 sources, the band suprime_v should not be used because it overlaps or is below the Lyman limit at the redshift of these sources. These fluxes were set to NaN.\n",
      "INFO:herschelhelp.external:For 2 sources, the band acs_f606w should not be used because it overlaps or is below the Lyman limit at the redshift of these sources. These fluxes were set to NaN.\n"
     ]
    },
    {
     "name": "stdout",
     "output_type": "stream",
     "text": [
      "Number of sources with z-spec in file 85: 646\n"
     ]
    },
    {
     "name": "stderr",
     "output_type": "stream",
     "text": [
      "ERROR:herschelhelp.filters:The filters are missing in the database: hawki_y.\n",
      "The are present in these columns: ferr_hawki_y.\n",
      "INFO:herschelhelp.external:For 6 sources, the band megacam_u should not be used because it overlaps or is below the Lyman limit at the redshift of these sources. These fluxes were set to NaN.\n",
      "INFO:herschelhelp.external:For 5 sources, the band suprime_b should not be used because it overlaps or is below the Lyman limit at the redshift of these sources. These fluxes were set to NaN.\n",
      "INFO:herschelhelp.external:For 1 sources, the band suprime_g should not be used because it overlaps or is below the Lyman limit at the redshift of these sources. These fluxes were set to NaN.\n",
      "INFO:herschelhelp.external:For 1 sources, the band decam_g should not be used because it overlaps or is below the Lyman limit at the redshift of these sources. These fluxes were set to NaN.\n",
      "INFO:herschelhelp.external:For 1 sources, the band megacam_g should not be used because it overlaps or is below the Lyman limit at the redshift of these sources. These fluxes were set to NaN.\n",
      "INFO:herschelhelp.external:For 1 sources, the band gpc1_g should not be used because it overlaps or is below the Lyman limit at the redshift of these sources. These fluxes were set to NaN.\n",
      "INFO:herschelhelp.external:For 1 sources, the band suprime_v should not be used because it overlaps or is below the Lyman limit at the redshift of these sources. These fluxes were set to NaN.\n",
      "INFO:herschelhelp.external:For 1 sources, the band acs_f606w should not be used because it overlaps or is below the Lyman limit at the redshift of these sources. These fluxes were set to NaN.\n",
      "INFO:herschelhelp.external:For 1 sources, the band suprime_r should not be used because it overlaps or is below the Lyman limit at the redshift of these sources. These fluxes were set to NaN.\n",
      "INFO:herschelhelp.external:For 1 sources, the band gpc1_r should not be used because it overlaps or is below the Lyman limit at the redshift of these sources. These fluxes were set to NaN.\n",
      "INFO:herschelhelp.external:For 1 sources, the band megacam_r should not be used because it overlaps or is below the Lyman limit at the redshift of these sources. These fluxes were set to NaN.\n",
      "INFO:herschelhelp.external:For 1 sources, the band decam_r should not be used because it overlaps or is below the Lyman limit at the redshift of these sources. These fluxes were set to NaN.\n"
     ]
    },
    {
     "name": "stdout",
     "output_type": "stream",
     "text": [
      "Number of sources with z-spec in file 16: 1815\n"
     ]
    },
    {
     "name": "stderr",
     "output_type": "stream",
     "text": [
      "ERROR:herschelhelp.filters:The filters are missing in the database: hawki_y.\n",
      "The are present in these columns: ferr_hawki_y.\n",
      "INFO:herschelhelp.external:For 8 sources, the band megacam_u should not be used because it overlaps or is below the Lyman limit at the redshift of these sources. These fluxes were set to NaN.\n",
      "INFO:herschelhelp.external:For 4 sources, the band suprime_b should not be used because it overlaps or is below the Lyman limit at the redshift of these sources. These fluxes were set to NaN.\n",
      "INFO:herschelhelp.external:For 1 sources, the band suprime_g should not be used because it overlaps or is below the Lyman limit at the redshift of these sources. These fluxes were set to NaN.\n",
      "INFO:herschelhelp.external:For 1 sources, the band decam_g should not be used because it overlaps or is below the Lyman limit at the redshift of these sources. These fluxes were set to NaN.\n",
      "INFO:herschelhelp.external:For 1 sources, the band megacam_g should not be used because it overlaps or is below the Lyman limit at the redshift of these sources. These fluxes were set to NaN.\n",
      "INFO:herschelhelp.external:For 1 sources, the band gpc1_g should not be used because it overlaps or is below the Lyman limit at the redshift of these sources. These fluxes were set to NaN.\n"
     ]
    },
    {
     "name": "stdout",
     "output_type": "stream",
     "text": [
      "Number of sources with z-spec in file 53: 1611\n"
     ]
    },
    {
     "name": "stderr",
     "output_type": "stream",
     "text": [
      "ERROR:herschelhelp.filters:The filters are missing in the database: hawki_y.\n",
      "The are present in these columns: ferr_hawki_y.\n",
      "INFO:herschelhelp.external:For 6 sources, the band megacam_u should not be used because it overlaps or is below the Lyman limit at the redshift of these sources. These fluxes were set to NaN.\n",
      "INFO:herschelhelp.external:For 1 sources, the band suprime_b should not be used because it overlaps or is below the Lyman limit at the redshift of these sources. These fluxes were set to NaN.\n",
      "INFO:herschelhelp.external:For 1 sources, the band suprime_g should not be used because it overlaps or is below the Lyman limit at the redshift of these sources. These fluxes were set to NaN.\n",
      "INFO:herschelhelp.external:For 1 sources, the band decam_g should not be used because it overlaps or is below the Lyman limit at the redshift of these sources. These fluxes were set to NaN.\n",
      "INFO:herschelhelp.external:For 1 sources, the band megacam_g should not be used because it overlaps or is below the Lyman limit at the redshift of these sources. These fluxes were set to NaN.\n",
      "INFO:herschelhelp.external:For 1 sources, the band gpc1_g should not be used because it overlaps or is below the Lyman limit at the redshift of these sources. These fluxes were set to NaN.\n",
      "INFO:herschelhelp.external:For 1 sources, the band suprime_v should not be used because it overlaps or is below the Lyman limit at the redshift of these sources. These fluxes were set to NaN.\n",
      "INFO:herschelhelp.external:For 1 sources, the band acs_f606w should not be used because it overlaps or is below the Lyman limit at the redshift of these sources. These fluxes were set to NaN.\n"
     ]
    },
    {
     "name": "stdout",
     "output_type": "stream",
     "text": [
      "Number of sources with z-spec in file 18: 1771\n"
     ]
    },
    {
     "name": "stderr",
     "output_type": "stream",
     "text": [
      "ERROR:herschelhelp.filters:The filters are missing in the database: hawki_y.\n",
      "The are present in these columns: ferr_hawki_y.\n",
      "INFO:herschelhelp.external:For 9 sources, the band megacam_u should not be used because it overlaps or is below the Lyman limit at the redshift of these sources. These fluxes were set to NaN.\n",
      "INFO:herschelhelp.external:For 3 sources, the band suprime_b should not be used because it overlaps or is below the Lyman limit at the redshift of these sources. These fluxes were set to NaN.\n"
     ]
    },
    {
     "name": "stdout",
     "output_type": "stream",
     "text": [
      "Number of sources with z-spec in file 29: 1968\n"
     ]
    },
    {
     "name": "stderr",
     "output_type": "stream",
     "text": [
      "ERROR:herschelhelp.filters:The filters are missing in the database: hawki_y.\n",
      "The are present in these columns: ferr_hawki_y.\n",
      "INFO:herschelhelp.external:For 13 sources, the band megacam_u should not be used because it overlaps or is below the Lyman limit at the redshift of these sources. These fluxes were set to NaN.\n",
      "INFO:herschelhelp.external:For 8 sources, the band suprime_b should not be used because it overlaps or is below the Lyman limit at the redshift of these sources. These fluxes were set to NaN.\n",
      "INFO:herschelhelp.external:For 6 sources, the band suprime_g should not be used because it overlaps or is below the Lyman limit at the redshift of these sources. These fluxes were set to NaN.\n",
      "INFO:herschelhelp.external:For 6 sources, the band decam_g should not be used because it overlaps or is below the Lyman limit at the redshift of these sources. These fluxes were set to NaN.\n",
      "INFO:herschelhelp.external:For 6 sources, the band megacam_g should not be used because it overlaps or is below the Lyman limit at the redshift of these sources. These fluxes were set to NaN.\n",
      "INFO:herschelhelp.external:For 6 sources, the band gpc1_g should not be used because it overlaps or is below the Lyman limit at the redshift of these sources. These fluxes were set to NaN.\n",
      "INFO:herschelhelp.external:For 4 sources, the band suprime_v should not be used because it overlaps or is below the Lyman limit at the redshift of these sources. These fluxes were set to NaN.\n",
      "INFO:herschelhelp.external:For 4 sources, the band acs_f606w should not be used because it overlaps or is below the Lyman limit at the redshift of these sources. These fluxes were set to NaN.\n",
      "INFO:herschelhelp.external:For 4 sources, the band suprime_r should not be used because it overlaps or is below the Lyman limit at the redshift of these sources. These fluxes were set to NaN.\n",
      "INFO:herschelhelp.external:For 3 sources, the band gpc1_r should not be used because it overlaps or is below the Lyman limit at the redshift of these sources. These fluxes were set to NaN.\n",
      "INFO:herschelhelp.external:For 3 sources, the band megacam_r should not be used because it overlaps or is below the Lyman limit at the redshift of these sources. These fluxes were set to NaN.\n",
      "INFO:herschelhelp.external:For 3 sources, the band decam_r should not be used because it overlaps or is below the Lyman limit at the redshift of these sources. These fluxes were set to NaN.\n",
      "INFO:herschelhelp.external:For 3 sources, the band suprime_rc should not be used because it overlaps or is below the Lyman limit at the redshift of these sources. These fluxes were set to NaN.\n"
     ]
    },
    {
     "name": "stdout",
     "output_type": "stream",
     "text": [
      "Number of sources with z-spec in file 62: 558\n"
     ]
    },
    {
     "name": "stderr",
     "output_type": "stream",
     "text": [
      "ERROR:herschelhelp.filters:The filters are missing in the database: hawki_y.\n",
      "The are present in these columns: ferr_hawki_y.\n",
      "INFO:herschelhelp.external:For 3 sources, the band megacam_u should not be used because it overlaps or is below the Lyman limit at the redshift of these sources. These fluxes were set to NaN.\n",
      "INFO:herschelhelp.external:For 1 sources, the band suprime_b should not be used because it overlaps or is below the Lyman limit at the redshift of these sources. These fluxes were set to NaN.\n"
     ]
    },
    {
     "name": "stdout",
     "output_type": "stream",
     "text": [
      "Number of sources with z-spec in file 31: 1805\n"
     ]
    },
    {
     "name": "stderr",
     "output_type": "stream",
     "text": [
      "ERROR:herschelhelp.filters:The filters are missing in the database: hawki_y.\n",
      "The are present in these columns: ferr_hawki_y.\n",
      "INFO:herschelhelp.external:For 12 sources, the band megacam_u should not be used because it overlaps or is below the Lyman limit at the redshift of these sources. These fluxes were set to NaN.\n",
      "INFO:herschelhelp.external:For 10 sources, the band suprime_b should not be used because it overlaps or is below the Lyman limit at the redshift of these sources. These fluxes were set to NaN.\n",
      "INFO:herschelhelp.external:For 5 sources, the band suprime_g should not be used because it overlaps or is below the Lyman limit at the redshift of these sources. These fluxes were set to NaN.\n",
      "INFO:herschelhelp.external:For 5 sources, the band decam_g should not be used because it overlaps or is below the Lyman limit at the redshift of these sources. These fluxes were set to NaN.\n",
      "INFO:herschelhelp.external:For 5 sources, the band megacam_g should not be used because it overlaps or is below the Lyman limit at the redshift of these sources. These fluxes were set to NaN.\n",
      "INFO:herschelhelp.external:For 5 sources, the band gpc1_g should not be used because it overlaps or is below the Lyman limit at the redshift of these sources. These fluxes were set to NaN.\n"
     ]
    },
    {
     "name": "stdout",
     "output_type": "stream",
     "text": [
      "Number of sources with z-spec in file 9: 702\n"
     ]
    },
    {
     "name": "stderr",
     "output_type": "stream",
     "text": [
      "ERROR:herschelhelp.filters:The filters are missing in the database: hawki_y.\n",
      "The are present in these columns: ferr_hawki_y.\n",
      "INFO:herschelhelp.external:For 4 sources, the band megacam_u should not be used because it overlaps or is below the Lyman limit at the redshift of these sources. These fluxes were set to NaN.\n",
      "INFO:herschelhelp.external:For 1 sources, the band suprime_b should not be used because it overlaps or is below the Lyman limit at the redshift of these sources. These fluxes were set to NaN.\n",
      "INFO:herschelhelp.external:For 1 sources, the band suprime_g should not be used because it overlaps or is below the Lyman limit at the redshift of these sources. These fluxes were set to NaN.\n",
      "INFO:herschelhelp.external:For 1 sources, the band decam_g should not be used because it overlaps or is below the Lyman limit at the redshift of these sources. These fluxes were set to NaN.\n",
      "INFO:herschelhelp.external:For 1 sources, the band megacam_g should not be used because it overlaps or is below the Lyman limit at the redshift of these sources. These fluxes were set to NaN.\n",
      "INFO:herschelhelp.external:For 1 sources, the band gpc1_g should not be used because it overlaps or is below the Lyman limit at the redshift of these sources. These fluxes were set to NaN.\n"
     ]
    },
    {
     "name": "stdout",
     "output_type": "stream",
     "text": [
      "Number of sources with z-spec in file 66: 952\n"
     ]
    },
    {
     "name": "stderr",
     "output_type": "stream",
     "text": [
      "ERROR:herschelhelp.filters:The filters are missing in the database: hawki_y.\n",
      "The are present in these columns: ferr_hawki_y.\n",
      "INFO:herschelhelp.external:For 25 sources, the band megacam_u should not be used because it overlaps or is below the Lyman limit at the redshift of these sources. These fluxes were set to NaN.\n",
      "INFO:herschelhelp.external:For 19 sources, the band suprime_b should not be used because it overlaps or is below the Lyman limit at the redshift of these sources. These fluxes were set to NaN.\n",
      "INFO:herschelhelp.external:For 12 sources, the band suprime_g should not be used because it overlaps or is below the Lyman limit at the redshift of these sources. These fluxes were set to NaN.\n",
      "INFO:herschelhelp.external:For 12 sources, the band decam_g should not be used because it overlaps or is below the Lyman limit at the redshift of these sources. These fluxes were set to NaN.\n",
      "INFO:herschelhelp.external:For 12 sources, the band megacam_g should not be used because it overlaps or is below the Lyman limit at the redshift of these sources. These fluxes were set to NaN.\n",
      "INFO:herschelhelp.external:For 12 sources, the band gpc1_g should not be used because it overlaps or is below the Lyman limit at the redshift of these sources. These fluxes were set to NaN.\n",
      "INFO:herschelhelp.external:For 2 sources, the band suprime_v should not be used because it overlaps or is below the Lyman limit at the redshift of these sources. These fluxes were set to NaN.\n",
      "INFO:herschelhelp.external:For 3 sources, the band acs_f606w should not be used because it overlaps or is below the Lyman limit at the redshift of these sources. These fluxes were set to NaN.\n"
     ]
    },
    {
     "name": "stdout",
     "output_type": "stream",
     "text": [
      "Number of sources with z-spec in file 57: 1795\n"
     ]
    },
    {
     "name": "stderr",
     "output_type": "stream",
     "text": [
      "ERROR:herschelhelp.filters:The filters are missing in the database: hawki_y.\n",
      "The are present in these columns: ferr_hawki_y.\n",
      "INFO:herschelhelp.external:For 5 sources, the band megacam_u should not be used because it overlaps or is below the Lyman limit at the redshift of these sources. These fluxes were set to NaN.\n",
      "INFO:herschelhelp.external:For 2 sources, the band suprime_b should not be used because it overlaps or is below the Lyman limit at the redshift of these sources. These fluxes were set to NaN.\n",
      "INFO:herschelhelp.external:For 2 sources, the band suprime_g should not be used because it overlaps or is below the Lyman limit at the redshift of these sources. These fluxes were set to NaN.\n",
      "INFO:herschelhelp.external:For 2 sources, the band decam_g should not be used because it overlaps or is below the Lyman limit at the redshift of these sources. These fluxes were set to NaN.\n",
      "INFO:herschelhelp.external:For 1 sources, the band megacam_g should not be used because it overlaps or is below the Lyman limit at the redshift of these sources. These fluxes were set to NaN.\n",
      "INFO:herschelhelp.external:For 2 sources, the band gpc1_g should not be used because it overlaps or is below the Lyman limit at the redshift of these sources. These fluxes were set to NaN.\n"
     ]
    },
    {
     "name": "stdout",
     "output_type": "stream",
     "text": [
      "Number of sources with z-spec in file 35: 1135\n"
     ]
    },
    {
     "name": "stderr",
     "output_type": "stream",
     "text": [
      "ERROR:herschelhelp.filters:The filters are missing in the database: hawki_y.\n",
      "The are present in these columns: ferr_hawki_y.\n",
      "INFO:herschelhelp.external:For 6 sources, the band megacam_u should not be used because it overlaps or is below the Lyman limit at the redshift of these sources. These fluxes were set to NaN.\n",
      "INFO:herschelhelp.external:For 5 sources, the band suprime_b should not be used because it overlaps or is below the Lyman limit at the redshift of these sources. These fluxes were set to NaN.\n",
      "INFO:herschelhelp.external:For 2 sources, the band suprime_g should not be used because it overlaps or is below the Lyman limit at the redshift of these sources. These fluxes were set to NaN.\n",
      "INFO:herschelhelp.external:For 3 sources, the band decam_g should not be used because it overlaps or is below the Lyman limit at the redshift of these sources. These fluxes were set to NaN.\n",
      "INFO:herschelhelp.external:For 2 sources, the band megacam_g should not be used because it overlaps or is below the Lyman limit at the redshift of these sources. These fluxes were set to NaN.\n",
      "INFO:herschelhelp.external:For 3 sources, the band gpc1_g should not be used because it overlaps or is below the Lyman limit at the redshift of these sources. These fluxes were set to NaN.\n",
      "INFO:herschelhelp.external:For 1 sources, the band suprime_v should not be used because it overlaps or is below the Lyman limit at the redshift of these sources. These fluxes were set to NaN.\n",
      "INFO:herschelhelp.external:For 1 sources, the band acs_f606w should not be used because it overlaps or is below the Lyman limit at the redshift of these sources. These fluxes were set to NaN.\n"
     ]
    },
    {
     "name": "stdout",
     "output_type": "stream",
     "text": [
      "Number of sources with z-spec in file 43: 1580\n"
     ]
    },
    {
     "name": "stderr",
     "output_type": "stream",
     "text": [
      "ERROR:herschelhelp.filters:The filters are missing in the database: hawki_y.\n",
      "The are present in these columns: ferr_hawki_y.\n",
      "INFO:herschelhelp.external:For 9 sources, the band megacam_u should not be used because it overlaps or is below the Lyman limit at the redshift of these sources. These fluxes were set to NaN.\n",
      "INFO:herschelhelp.external:For 5 sources, the band suprime_b should not be used because it overlaps or is below the Lyman limit at the redshift of these sources. These fluxes were set to NaN.\n",
      "INFO:herschelhelp.external:For 4 sources, the band suprime_g should not be used because it overlaps or is below the Lyman limit at the redshift of these sources. These fluxes were set to NaN.\n",
      "INFO:herschelhelp.external:For 4 sources, the band decam_g should not be used because it overlaps or is below the Lyman limit at the redshift of these sources. These fluxes were set to NaN.\n",
      "INFO:herschelhelp.external:For 4 sources, the band megacam_g should not be used because it overlaps or is below the Lyman limit at the redshift of these sources. These fluxes were set to NaN.\n",
      "INFO:herschelhelp.external:For 4 sources, the band gpc1_g should not be used because it overlaps or is below the Lyman limit at the redshift of these sources. These fluxes were set to NaN.\n",
      "INFO:herschelhelp.external:For 1 sources, the band suprime_v should not be used because it overlaps or is below the Lyman limit at the redshift of these sources. These fluxes were set to NaN.\n",
      "INFO:herschelhelp.external:For 1 sources, the band acs_f606w should not be used because it overlaps or is below the Lyman limit at the redshift of these sources. These fluxes were set to NaN.\n",
      "INFO:herschelhelp.external:For 1 sources, the band suprime_r should not be used because it overlaps or is below the Lyman limit at the redshift of these sources. These fluxes were set to NaN.\n",
      "INFO:herschelhelp.external:For 1 sources, the band gpc1_r should not be used because it overlaps or is below the Lyman limit at the redshift of these sources. These fluxes were set to NaN.\n",
      "INFO:herschelhelp.external:For 1 sources, the band megacam_r should not be used because it overlaps or is below the Lyman limit at the redshift of these sources. These fluxes were set to NaN.\n",
      "INFO:herschelhelp.external:For 1 sources, the band decam_r should not be used because it overlaps or is below the Lyman limit at the redshift of these sources. These fluxes were set to NaN.\n",
      "INFO:herschelhelp.external:For 1 sources, the band suprime_rc should not be used because it overlaps or is below the Lyman limit at the redshift of these sources. These fluxes were set to NaN.\n"
     ]
    },
    {
     "name": "stdout",
     "output_type": "stream",
     "text": [
      "Number of sources with z-spec in file 1: 1222\n"
     ]
    },
    {
     "name": "stderr",
     "output_type": "stream",
     "text": [
      "ERROR:herschelhelp.filters:The filters are missing in the database: hawki_y.\n",
      "The are present in these columns: ferr_hawki_y.\n",
      "INFO:herschelhelp.external:For 5 sources, the band megacam_u should not be used because it overlaps or is below the Lyman limit at the redshift of these sources. These fluxes were set to NaN.\n",
      "INFO:herschelhelp.external:For 3 sources, the band suprime_b should not be used because it overlaps or is below the Lyman limit at the redshift of these sources. These fluxes were set to NaN.\n",
      "INFO:herschelhelp.external:For 1 sources, the band suprime_g should not be used because it overlaps or is below the Lyman limit at the redshift of these sources. These fluxes were set to NaN.\n",
      "INFO:herschelhelp.external:For 1 sources, the band decam_g should not be used because it overlaps or is below the Lyman limit at the redshift of these sources. These fluxes were set to NaN.\n",
      "INFO:herschelhelp.external:For 1 sources, the band megacam_g should not be used because it overlaps or is below the Lyman limit at the redshift of these sources. These fluxes were set to NaN.\n",
      "INFO:herschelhelp.external:For 1 sources, the band gpc1_g should not be used because it overlaps or is below the Lyman limit at the redshift of these sources. These fluxes were set to NaN.\n",
      "INFO:herschelhelp.external:For 1 sources, the band suprime_v should not be used because it overlaps or is below the Lyman limit at the redshift of these sources. These fluxes were set to NaN.\n",
      "INFO:herschelhelp.external:For 1 sources, the band acs_f606w should not be used because it overlaps or is below the Lyman limit at the redshift of these sources. These fluxes were set to NaN.\n",
      "INFO:herschelhelp.external:For 1 sources, the band suprime_r should not be used because it overlaps or is below the Lyman limit at the redshift of these sources. These fluxes were set to NaN.\n",
      "INFO:herschelhelp.external:For 1 sources, the band gpc1_r should not be used because it overlaps or is below the Lyman limit at the redshift of these sources. These fluxes were set to NaN.\n",
      "INFO:herschelhelp.external:For 1 sources, the band megacam_r should not be used because it overlaps or is below the Lyman limit at the redshift of these sources. These fluxes were set to NaN.\n",
      "INFO:herschelhelp.external:For 1 sources, the band decam_r should not be used because it overlaps or is below the Lyman limit at the redshift of these sources. These fluxes were set to NaN.\n",
      "INFO:herschelhelp.external:For 1 sources, the band suprime_rc should not be used because it overlaps or is below the Lyman limit at the redshift of these sources. These fluxes were set to NaN.\n",
      "INFO:herschelhelp.external:For 1 sources, the band gpc1_i should not be used because it overlaps or is below the Lyman limit at the redshift of these sources. These fluxes were set to NaN.\n",
      "INFO:herschelhelp.external:For 1 sources, the band megacam_i should not be used because it overlaps or is below the Lyman limit at the redshift of these sources. These fluxes were set to NaN.\n",
      "INFO:herschelhelp.external:For 1 sources, the band suprime_ip should not be used because it overlaps or is below the Lyman limit at the redshift of these sources. These fluxes were set to NaN.\n",
      "INFO:herschelhelp.external:For 1 sources, the band megacam_y should not be used because it overlaps or is below the Lyman limit at the redshift of these sources. These fluxes were set to NaN.\n",
      "INFO:herschelhelp.external:For 1 sources, the band suprime_i should not be used because it overlaps or is below the Lyman limit at the redshift of these sources. These fluxes were set to NaN.\n",
      "INFO:herschelhelp.external:For 1 sources, the band decam_i should not be used because it overlaps or is below the Lyman limit at the redshift of these sources. These fluxes were set to NaN.\n",
      "INFO:herschelhelp.external:For 1 sources, the band acs_f814w should not be used because it overlaps or is below the Lyman limit at the redshift of these sources. These fluxes were set to NaN.\n"
     ]
    },
    {
     "name": "stdout",
     "output_type": "stream",
     "text": [
      "Number of sources with z-spec in file 72: 1612\n"
     ]
    },
    {
     "name": "stderr",
     "output_type": "stream",
     "text": [
      "ERROR:herschelhelp.filters:The filters are missing in the database: hawki_y.\n",
      "The are present in these columns: ferr_hawki_y.\n",
      "INFO:herschelhelp.external:For 52 sources, the band megacam_u should not be used because it overlaps or is below the Lyman limit at the redshift of these sources. These fluxes were set to NaN.\n",
      "INFO:herschelhelp.external:For 35 sources, the band suprime_b should not be used because it overlaps or is below the Lyman limit at the redshift of these sources. These fluxes were set to NaN.\n",
      "INFO:herschelhelp.external:For 19 sources, the band suprime_g should not be used because it overlaps or is below the Lyman limit at the redshift of these sources. These fluxes were set to NaN.\n",
      "INFO:herschelhelp.external:For 19 sources, the band decam_g should not be used because it overlaps or is below the Lyman limit at the redshift of these sources. These fluxes were set to NaN.\n",
      "INFO:herschelhelp.external:For 19 sources, the band megacam_g should not be used because it overlaps or is below the Lyman limit at the redshift of these sources. These fluxes were set to NaN.\n",
      "INFO:herschelhelp.external:For 19 sources, the band gpc1_g should not be used because it overlaps or is below the Lyman limit at the redshift of these sources. These fluxes were set to NaN.\n",
      "INFO:herschelhelp.external:For 3 sources, the band suprime_v should not be used because it overlaps or is below the Lyman limit at the redshift of these sources. These fluxes were set to NaN.\n",
      "INFO:herschelhelp.external:For 4 sources, the band acs_f606w should not be used because it overlaps or is below the Lyman limit at the redshift of these sources. These fluxes were set to NaN.\n",
      "INFO:herschelhelp.external:For 1 sources, the band suprime_r should not be used because it overlaps or is below the Lyman limit at the redshift of these sources. These fluxes were set to NaN.\n",
      "INFO:herschelhelp.external:For 1 sources, the band gpc1_r should not be used because it overlaps or is below the Lyman limit at the redshift of these sources. These fluxes were set to NaN.\n",
      "INFO:herschelhelp.external:For 1 sources, the band megacam_r should not be used because it overlaps or is below the Lyman limit at the redshift of these sources. These fluxes were set to NaN.\n"
     ]
    },
    {
     "name": "stdout",
     "output_type": "stream",
     "text": [
      "Number of sources with z-spec in file 39: 1610\n"
     ]
    },
    {
     "name": "stderr",
     "output_type": "stream",
     "text": [
      "ERROR:herschelhelp.filters:The filters are missing in the database: hawki_y.\n",
      "The are present in these columns: ferr_hawki_y.\n",
      "INFO:herschelhelp.external:For 5 sources, the band megacam_u should not be used because it overlaps or is below the Lyman limit at the redshift of these sources. These fluxes were set to NaN.\n",
      "INFO:herschelhelp.external:For 3 sources, the band suprime_b should not be used because it overlaps or is below the Lyman limit at the redshift of these sources. These fluxes were set to NaN.\n",
      "INFO:herschelhelp.external:For 2 sources, the band suprime_g should not be used because it overlaps or is below the Lyman limit at the redshift of these sources. These fluxes were set to NaN.\n",
      "INFO:herschelhelp.external:For 2 sources, the band decam_g should not be used because it overlaps or is below the Lyman limit at the redshift of these sources. These fluxes were set to NaN.\n",
      "INFO:herschelhelp.external:For 2 sources, the band megacam_g should not be used because it overlaps or is below the Lyman limit at the redshift of these sources. These fluxes were set to NaN.\n",
      "INFO:herschelhelp.external:For 2 sources, the band gpc1_g should not be used because it overlaps or is below the Lyman limit at the redshift of these sources. These fluxes were set to NaN.\n",
      "INFO:herschelhelp.external:For 1 sources, the band suprime_v should not be used because it overlaps or is below the Lyman limit at the redshift of these sources. These fluxes were set to NaN.\n",
      "INFO:herschelhelp.external:For 1 sources, the band acs_f606w should not be used because it overlaps or is below the Lyman limit at the redshift of these sources. These fluxes were set to NaN.\n"
     ]
    },
    {
     "name": "stdout",
     "output_type": "stream",
     "text": [
      "Number of sources with z-spec in file 10: 1233\n"
     ]
    },
    {
     "name": "stderr",
     "output_type": "stream",
     "text": [
      "ERROR:herschelhelp.filters:The filters are missing in the database: hawki_y.\n",
      "The are present in these columns: ferr_hawki_y.\n",
      "INFO:herschelhelp.external:For 5 sources, the band megacam_u should not be used because it overlaps or is below the Lyman limit at the redshift of these sources. These fluxes were set to NaN.\n",
      "INFO:herschelhelp.external:For 3 sources, the band suprime_b should not be used because it overlaps or is below the Lyman limit at the redshift of these sources. These fluxes were set to NaN.\n",
      "INFO:herschelhelp.external:For 1 sources, the band suprime_g should not be used because it overlaps or is below the Lyman limit at the redshift of these sources. These fluxes were set to NaN.\n",
      "INFO:herschelhelp.external:For 1 sources, the band decam_g should not be used because it overlaps or is below the Lyman limit at the redshift of these sources. These fluxes were set to NaN.\n",
      "INFO:herschelhelp.external:For 1 sources, the band megacam_g should not be used because it overlaps or is below the Lyman limit at the redshift of these sources. These fluxes were set to NaN.\n",
      "INFO:herschelhelp.external:For 1 sources, the band gpc1_g should not be used because it overlaps or is below the Lyman limit at the redshift of these sources. These fluxes were set to NaN.\n"
     ]
    },
    {
     "name": "stdout",
     "output_type": "stream",
     "text": [
      "Number of sources with z-spec in file 83: 581\n"
     ]
    },
    {
     "name": "stderr",
     "output_type": "stream",
     "text": [
      "ERROR:herschelhelp.filters:The filters are missing in the database: hawki_y.\n",
      "The are present in these columns: ferr_hawki_y.\n"
     ]
    },
    {
     "name": "stdout",
     "output_type": "stream",
     "text": [
      "Number of sources with z-spec in file 21: 1358\n"
     ]
    },
    {
     "name": "stderr",
     "output_type": "stream",
     "text": [
      "ERROR:herschelhelp.filters:The filters are missing in the database: hawki_y.\n",
      "The are present in these columns: ferr_hawki_y.\n",
      "INFO:herschelhelp.external:For 10 sources, the band megacam_u should not be used because it overlaps or is below the Lyman limit at the redshift of these sources. These fluxes were set to NaN.\n",
      "INFO:herschelhelp.external:For 7 sources, the band suprime_b should not be used because it overlaps or is below the Lyman limit at the redshift of these sources. These fluxes were set to NaN.\n",
      "INFO:herschelhelp.external:For 5 sources, the band suprime_g should not be used because it overlaps or is below the Lyman limit at the redshift of these sources. These fluxes were set to NaN.\n",
      "INFO:herschelhelp.external:For 5 sources, the band decam_g should not be used because it overlaps or is below the Lyman limit at the redshift of these sources. These fluxes were set to NaN.\n",
      "INFO:herschelhelp.external:For 5 sources, the band megacam_g should not be used because it overlaps or is below the Lyman limit at the redshift of these sources. These fluxes were set to NaN.\n",
      "INFO:herschelhelp.external:For 5 sources, the band gpc1_g should not be used because it overlaps or is below the Lyman limit at the redshift of these sources. These fluxes were set to NaN.\n",
      "INFO:herschelhelp.external:For 1 sources, the band suprime_v should not be used because it overlaps or is below the Lyman limit at the redshift of these sources. These fluxes were set to NaN.\n",
      "INFO:herschelhelp.external:For 1 sources, the band acs_f606w should not be used because it overlaps or is below the Lyman limit at the redshift of these sources. These fluxes were set to NaN.\n"
     ]
    },
    {
     "name": "stdout",
     "output_type": "stream",
     "text": [
      "Number of sources with z-spec in file 76: 1435\n"
     ]
    },
    {
     "name": "stderr",
     "output_type": "stream",
     "text": [
      "ERROR:herschelhelp.filters:The filters are missing in the database: hawki_y.\n",
      "The are present in these columns: ferr_hawki_y.\n",
      "INFO:herschelhelp.external:For 40 sources, the band megacam_u should not be used because it overlaps or is below the Lyman limit at the redshift of these sources. These fluxes were set to NaN.\n",
      "INFO:herschelhelp.external:For 21 sources, the band suprime_b should not be used because it overlaps or is below the Lyman limit at the redshift of these sources. These fluxes were set to NaN.\n",
      "INFO:herschelhelp.external:For 9 sources, the band suprime_g should not be used because it overlaps or is below the Lyman limit at the redshift of these sources. These fluxes were set to NaN.\n",
      "INFO:herschelhelp.external:For 11 sources, the band decam_g should not be used because it overlaps or is below the Lyman limit at the redshift of these sources. These fluxes were set to NaN.\n",
      "INFO:herschelhelp.external:For 8 sources, the band megacam_g should not be used because it overlaps or is below the Lyman limit at the redshift of these sources. These fluxes were set to NaN.\n",
      "INFO:herschelhelp.external:For 10 sources, the band gpc1_g should not be used because it overlaps or is below the Lyman limit at the redshift of these sources. These fluxes were set to NaN.\n",
      "INFO:herschelhelp.external:For 1 sources, the band suprime_v should not be used because it overlaps or is below the Lyman limit at the redshift of these sources. These fluxes were set to NaN.\n",
      "INFO:herschelhelp.external:For 1 sources, the band acs_f606w should not be used because it overlaps or is below the Lyman limit at the redshift of these sources. These fluxes were set to NaN.\n"
     ]
    },
    {
     "name": "stdout",
     "output_type": "stream",
     "text": [
      "Number of sources with z-spec in file 5: 868\n"
     ]
    },
    {
     "name": "stderr",
     "output_type": "stream",
     "text": [
      "ERROR:herschelhelp.filters:The filters are missing in the database: hawki_y.\n",
      "The are present in these columns: ferr_hawki_y.\n",
      "INFO:herschelhelp.external:For 5 sources, the band megacam_u should not be used because it overlaps or is below the Lyman limit at the redshift of these sources. These fluxes were set to NaN.\n",
      "INFO:herschelhelp.external:For 2 sources, the band suprime_b should not be used because it overlaps or is below the Lyman limit at the redshift of these sources. These fluxes were set to NaN.\n"
     ]
    },
    {
     "name": "stdout",
     "output_type": "stream",
     "text": [
      "Number of sources with z-spec in file 47: 1922\n"
     ]
    },
    {
     "name": "stderr",
     "output_type": "stream",
     "text": [
      "ERROR:herschelhelp.filters:The filters are missing in the database: hawki_y.\n",
      "The are present in these columns: ferr_hawki_y.\n",
      "INFO:herschelhelp.external:For 5 sources, the band megacam_u should not be used because it overlaps or is below the Lyman limit at the redshift of these sources. These fluxes were set to NaN.\n",
      "INFO:herschelhelp.external:For 3 sources, the band suprime_b should not be used because it overlaps or is below the Lyman limit at the redshift of these sources. These fluxes were set to NaN.\n",
      "INFO:herschelhelp.external:For 1 sources, the band suprime_g should not be used because it overlaps or is below the Lyman limit at the redshift of these sources. These fluxes were set to NaN.\n",
      "INFO:herschelhelp.external:For 1 sources, the band decam_g should not be used because it overlaps or is below the Lyman limit at the redshift of these sources. These fluxes were set to NaN.\n",
      "INFO:herschelhelp.external:For 1 sources, the band megacam_g should not be used because it overlaps or is below the Lyman limit at the redshift of these sources. These fluxes were set to NaN.\n",
      "INFO:herschelhelp.external:For 1 sources, the band gpc1_g should not be used because it overlaps or is below the Lyman limit at the redshift of these sources. These fluxes were set to NaN.\n",
      "INFO:herschelhelp.external:For 1 sources, the band suprime_v should not be used because it overlaps or is below the Lyman limit at the redshift of these sources. These fluxes were set to NaN.\n",
      "INFO:herschelhelp.external:For 1 sources, the band acs_f606w should not be used because it overlaps or is below the Lyman limit at the redshift of these sources. These fluxes were set to NaN.\n",
      "INFO:herschelhelp.external:For 1 sources, the band suprime_r should not be used because it overlaps or is below the Lyman limit at the redshift of these sources. These fluxes were set to NaN.\n",
      "INFO:herschelhelp.external:For 1 sources, the band gpc1_r should not be used because it overlaps or is below the Lyman limit at the redshift of these sources. These fluxes were set to NaN.\n",
      "INFO:herschelhelp.external:For 1 sources, the band megacam_r should not be used because it overlaps or is below the Lyman limit at the redshift of these sources. These fluxes were set to NaN.\n"
     ]
    },
    {
     "name": "stdout",
     "output_type": "stream",
     "text": [
      "Number of sources with z-spec in file 87: 1\n"
     ]
    },
    {
     "name": "stderr",
     "output_type": "stream",
     "text": [
      "ERROR:herschelhelp.filters:The filters are missing in the database: hawki_y.\n",
      "The are present in these columns: ferr_hawki_y.\n"
     ]
    },
    {
     "name": "stdout",
     "output_type": "stream",
     "text": [
      "Number of sources with z-spec in file 25: 2339\n"
     ]
    },
    {
     "name": "stderr",
     "output_type": "stream",
     "text": [
      "ERROR:herschelhelp.filters:The filters are missing in the database: hawki_y.\n",
      "The are present in these columns: ferr_hawki_y.\n",
      "INFO:herschelhelp.external:For 20 sources, the band megacam_u should not be used because it overlaps or is below the Lyman limit at the redshift of these sources. These fluxes were set to NaN.\n",
      "INFO:herschelhelp.external:For 14 sources, the band suprime_b should not be used because it overlaps or is below the Lyman limit at the redshift of these sources. These fluxes were set to NaN.\n",
      "INFO:herschelhelp.external:For 8 sources, the band suprime_g should not be used because it overlaps or is below the Lyman limit at the redshift of these sources. These fluxes were set to NaN.\n",
      "INFO:herschelhelp.external:For 8 sources, the band decam_g should not be used because it overlaps or is below the Lyman limit at the redshift of these sources. These fluxes were set to NaN.\n",
      "INFO:herschelhelp.external:For 8 sources, the band megacam_g should not be used because it overlaps or is below the Lyman limit at the redshift of these sources. These fluxes were set to NaN.\n",
      "INFO:herschelhelp.external:For 8 sources, the band gpc1_g should not be used because it overlaps or is below the Lyman limit at the redshift of these sources. These fluxes were set to NaN.\n",
      "INFO:herschelhelp.external:For 5 sources, the band suprime_v should not be used because it overlaps or is below the Lyman limit at the redshift of these sources. These fluxes were set to NaN.\n",
      "INFO:herschelhelp.external:For 5 sources, the band acs_f606w should not be used because it overlaps or is below the Lyman limit at the redshift of these sources. These fluxes were set to NaN.\n",
      "INFO:herschelhelp.external:For 1 sources, the band suprime_r should not be used because it overlaps or is below the Lyman limit at the redshift of these sources. These fluxes were set to NaN.\n",
      "INFO:herschelhelp.external:For 1 sources, the band gpc1_r should not be used because it overlaps or is below the Lyman limit at the redshift of these sources. These fluxes were set to NaN.\n",
      "INFO:herschelhelp.external:For 1 sources, the band megacam_r should not be used because it overlaps or is below the Lyman limit at the redshift of these sources. These fluxes were set to NaN.\n",
      "INFO:herschelhelp.external:For 1 sources, the band decam_r should not be used because it overlaps or is below the Lyman limit at the redshift of these sources. These fluxes were set to NaN.\n",
      "INFO:herschelhelp.external:For 1 sources, the band suprime_rc should not be used because it overlaps or is below the Lyman limit at the redshift of these sources. These fluxes were set to NaN.\n"
     ]
    },
    {
     "name": "stdout",
     "output_type": "stream",
     "text": [
      "Number of sources with z-spec in file 14: 1734\n"
     ]
    },
    {
     "name": "stderr",
     "output_type": "stream",
     "text": [
      "ERROR:herschelhelp.filters:The filters are missing in the database: hawki_y.\n",
      "The are present in these columns: ferr_hawki_y.\n",
      "INFO:herschelhelp.external:For 6 sources, the band megacam_u should not be used because it overlaps or is below the Lyman limit at the redshift of these sources. These fluxes were set to NaN.\n",
      "INFO:herschelhelp.external:For 2 sources, the band suprime_b should not be used because it overlaps or is below the Lyman limit at the redshift of these sources. These fluxes were set to NaN.\n",
      "INFO:herschelhelp.external:For 1 sources, the band suprime_g should not be used because it overlaps or is below the Lyman limit at the redshift of these sources. These fluxes were set to NaN.\n",
      "INFO:herschelhelp.external:For 1 sources, the band decam_g should not be used because it overlaps or is below the Lyman limit at the redshift of these sources. These fluxes were set to NaN.\n",
      "INFO:herschelhelp.external:For 1 sources, the band megacam_g should not be used because it overlaps or is below the Lyman limit at the redshift of these sources. These fluxes were set to NaN.\n",
      "INFO:herschelhelp.external:For 1 sources, the band gpc1_g should not be used because it overlaps or is below the Lyman limit at the redshift of these sources. These fluxes were set to NaN.\n"
     ]
    },
    {
     "name": "stdout",
     "output_type": "stream",
     "text": [
      "Number of sources with z-spec in file 42: 1826\n"
     ]
    },
    {
     "name": "stderr",
     "output_type": "stream",
     "text": [
      "ERROR:herschelhelp.filters:The filters are missing in the database: hawki_y.\n",
      "The are present in these columns: ferr_hawki_y.\n",
      "INFO:herschelhelp.external:For 10 sources, the band megacam_u should not be used because it overlaps or is below the Lyman limit at the redshift of these sources. These fluxes were set to NaN.\n",
      "INFO:herschelhelp.external:For 5 sources, the band suprime_b should not be used because it overlaps or is below the Lyman limit at the redshift of these sources. These fluxes were set to NaN.\n",
      "INFO:herschelhelp.external:For 5 sources, the band suprime_g should not be used because it overlaps or is below the Lyman limit at the redshift of these sources. These fluxes were set to NaN.\n",
      "INFO:herschelhelp.external:For 5 sources, the band decam_g should not be used because it overlaps or is below the Lyman limit at the redshift of these sources. These fluxes were set to NaN.\n",
      "INFO:herschelhelp.external:For 5 sources, the band megacam_g should not be used because it overlaps or is below the Lyman limit at the redshift of these sources. These fluxes were set to NaN.\n",
      "INFO:herschelhelp.external:For 5 sources, the band gpc1_g should not be used because it overlaps or is below the Lyman limit at the redshift of these sources. These fluxes were set to NaN.\n",
      "INFO:herschelhelp.external:For 3 sources, the band suprime_v should not be used because it overlaps or is below the Lyman limit at the redshift of these sources. These fluxes were set to NaN.\n",
      "INFO:herschelhelp.external:For 4 sources, the band acs_f606w should not be used because it overlaps or is below the Lyman limit at the redshift of these sources. These fluxes were set to NaN.\n",
      "INFO:herschelhelp.external:For 1 sources, the band suprime_r should not be used because it overlaps or is below the Lyman limit at the redshift of these sources. These fluxes were set to NaN.\n",
      "INFO:herschelhelp.external:For 1 sources, the band gpc1_r should not be used because it overlaps or is below the Lyman limit at the redshift of these sources. These fluxes were set to NaN.\n",
      "INFO:herschelhelp.external:For 1 sources, the band megacam_r should not be used because it overlaps or is below the Lyman limit at the redshift of these sources. These fluxes were set to NaN.\n",
      "INFO:herschelhelp.external:For 1 sources, the band decam_r should not be used because it overlaps or is below the Lyman limit at the redshift of these sources. These fluxes were set to NaN.\n",
      "INFO:herschelhelp.external:For 1 sources, the band suprime_rc should not be used because it overlaps or is below the Lyman limit at the redshift of these sources. These fluxes were set to NaN.\n"
     ]
    },
    {
     "name": "stdout",
     "output_type": "stream",
     "text": [
      "Number of sources with z-spec in file 38: 1866\n"
     ]
    },
    {
     "name": "stderr",
     "output_type": "stream",
     "text": [
      "ERROR:herschelhelp.filters:The filters are missing in the database: hawki_y.\n",
      "The are present in these columns: ferr_hawki_y.\n",
      "INFO:herschelhelp.external:For 10 sources, the band megacam_u should not be used because it overlaps or is below the Lyman limit at the redshift of these sources. These fluxes were set to NaN.\n",
      "INFO:herschelhelp.external:For 5 sources, the band suprime_b should not be used because it overlaps or is below the Lyman limit at the redshift of these sources. These fluxes were set to NaN.\n",
      "INFO:herschelhelp.external:For 2 sources, the band suprime_g should not be used because it overlaps or is below the Lyman limit at the redshift of these sources. These fluxes were set to NaN.\n",
      "INFO:herschelhelp.external:For 2 sources, the band decam_g should not be used because it overlaps or is below the Lyman limit at the redshift of these sources. These fluxes were set to NaN.\n",
      "INFO:herschelhelp.external:For 2 sources, the band megacam_g should not be used because it overlaps or is below the Lyman limit at the redshift of these sources. These fluxes were set to NaN.\n",
      "INFO:herschelhelp.external:For 2 sources, the band gpc1_g should not be used because it overlaps or is below the Lyman limit at the redshift of these sources. These fluxes were set to NaN.\n",
      "INFO:herschelhelp.external:For 1 sources, the band acs_f606w should not be used because it overlaps or is below the Lyman limit at the redshift of these sources. These fluxes were set to NaN.\n"
     ]
    },
    {
     "name": "stdout",
     "output_type": "stream",
     "text": [
      "Number of sources with z-spec in file 0: 1388\n"
     ]
    },
    {
     "name": "stderr",
     "output_type": "stream",
     "text": [
      "ERROR:herschelhelp.filters:The filters are missing in the database: hawki_y.\n",
      "The are present in these columns: ferr_hawki_y.\n",
      "INFO:herschelhelp.external:For 4 sources, the band megacam_u should not be used because it overlaps or is below the Lyman limit at the redshift of these sources. These fluxes were set to NaN.\n",
      "INFO:herschelhelp.external:For 1 sources, the band suprime_b should not be used because it overlaps or is below the Lyman limit at the redshift of these sources. These fluxes were set to NaN.\n"
     ]
    },
    {
     "name": "stdout",
     "output_type": "stream",
     "text": [
      "Number of sources with z-spec in file 73: 1544\n"
     ]
    },
    {
     "name": "stderr",
     "output_type": "stream",
     "text": [
      "ERROR:herschelhelp.filters:The filters are missing in the database: hawki_y.\n",
      "The are present in these columns: ferr_hawki_y.\n",
      "INFO:herschelhelp.external:For 50 sources, the band megacam_u should not be used because it overlaps or is below the Lyman limit at the redshift of these sources. These fluxes were set to NaN.\n",
      "INFO:herschelhelp.external:For 34 sources, the band suprime_b should not be used because it overlaps or is below the Lyman limit at the redshift of these sources. These fluxes were set to NaN.\n",
      "INFO:herschelhelp.external:For 23 sources, the band suprime_g should not be used because it overlaps or is below the Lyman limit at the redshift of these sources. These fluxes were set to NaN.\n",
      "INFO:herschelhelp.external:For 23 sources, the band decam_g should not be used because it overlaps or is below the Lyman limit at the redshift of these sources. These fluxes were set to NaN.\n",
      "INFO:herschelhelp.external:For 22 sources, the band megacam_g should not be used because it overlaps or is below the Lyman limit at the redshift of these sources. These fluxes were set to NaN.\n",
      "INFO:herschelhelp.external:For 23 sources, the band gpc1_g should not be used because it overlaps or is below the Lyman limit at the redshift of these sources. These fluxes were set to NaN.\n",
      "INFO:herschelhelp.external:For 1 sources, the band suprime_v should not be used because it overlaps or is below the Lyman limit at the redshift of these sources. These fluxes were set to NaN.\n",
      "INFO:herschelhelp.external:For 3 sources, the band acs_f606w should not be used because it overlaps or is below the Lyman limit at the redshift of these sources. These fluxes were set to NaN.\n"
     ]
    },
    {
     "name": "stdout",
     "output_type": "stream",
     "text": [
      "Number of sources with z-spec in file 11: 1274\n"
     ]
    },
    {
     "name": "stderr",
     "output_type": "stream",
     "text": [
      "ERROR:herschelhelp.filters:The filters are missing in the database: hawki_y.\n",
      "The are present in these columns: ferr_hawki_y.\n",
      "INFO:herschelhelp.external:For 4 sources, the band megacam_u should not be used because it overlaps or is below the Lyman limit at the redshift of these sources. These fluxes were set to NaN.\n",
      "INFO:herschelhelp.external:For 1 sources, the band suprime_b should not be used because it overlaps or is below the Lyman limit at the redshift of these sources. These fluxes were set to NaN.\n"
     ]
    },
    {
     "name": "stdout",
     "output_type": "stream",
     "text": [
      "Number of sources with z-spec in file 82: 758\n"
     ]
    },
    {
     "name": "stderr",
     "output_type": "stream",
     "text": [
      "ERROR:herschelhelp.filters:The filters are missing in the database: hawki_y.\n",
      "The are present in these columns: ferr_hawki_y.\n",
      "INFO:herschelhelp.external:For 3 sources, the band megacam_u should not be used because it overlaps or is below the Lyman limit at the redshift of these sources. These fluxes were set to NaN.\n",
      "INFO:herschelhelp.external:For 2 sources, the band suprime_b should not be used because it overlaps or is below the Lyman limit at the redshift of these sources. These fluxes were set to NaN.\n"
     ]
    },
    {
     "name": "stdout",
     "output_type": "stream",
     "text": [
      "Number of sources with z-spec in file 20: 990\n"
     ]
    },
    {
     "name": "stderr",
     "output_type": "stream",
     "text": [
      "ERROR:herschelhelp.filters:The filters are missing in the database: hawki_y.\n",
      "The are present in these columns: ferr_hawki_y.\n",
      "INFO:herschelhelp.external:For 11 sources, the band megacam_u should not be used because it overlaps or is below the Lyman limit at the redshift of these sources. These fluxes were set to NaN.\n",
      "INFO:herschelhelp.external:For 9 sources, the band suprime_b should not be used because it overlaps or is below the Lyman limit at the redshift of these sources. These fluxes were set to NaN.\n",
      "INFO:herschelhelp.external:For 6 sources, the band suprime_g should not be used because it overlaps or is below the Lyman limit at the redshift of these sources. These fluxes were set to NaN.\n",
      "INFO:herschelhelp.external:For 6 sources, the band decam_g should not be used because it overlaps or is below the Lyman limit at the redshift of these sources. These fluxes were set to NaN.\n",
      "INFO:herschelhelp.external:For 6 sources, the band megacam_g should not be used because it overlaps or is below the Lyman limit at the redshift of these sources. These fluxes were set to NaN.\n",
      "INFO:herschelhelp.external:For 6 sources, the band gpc1_g should not be used because it overlaps or is below the Lyman limit at the redshift of these sources. These fluxes were set to NaN.\n",
      "INFO:herschelhelp.external:For 3 sources, the band acs_f606w should not be used because it overlaps or is below the Lyman limit at the redshift of these sources. These fluxes were set to NaN.\n"
     ]
    },
    {
     "name": "stdout",
     "output_type": "stream",
     "text": [
      "Number of sources with z-spec in file 77: 1132\n"
     ]
    },
    {
     "name": "stderr",
     "output_type": "stream",
     "text": [
      "ERROR:herschelhelp.filters:The filters are missing in the database: hawki_y.\n",
      "The are present in these columns: ferr_hawki_y.\n",
      "INFO:herschelhelp.external:For 38 sources, the band megacam_u should not be used because it overlaps or is below the Lyman limit at the redshift of these sources. These fluxes were set to NaN.\n",
      "INFO:herschelhelp.external:For 28 sources, the band suprime_b should not be used because it overlaps or is below the Lyman limit at the redshift of these sources. These fluxes were set to NaN.\n",
      "INFO:herschelhelp.external:For 18 sources, the band suprime_g should not be used because it overlaps or is below the Lyman limit at the redshift of these sources. These fluxes were set to NaN.\n",
      "INFO:herschelhelp.external:For 19 sources, the band decam_g should not be used because it overlaps or is below the Lyman limit at the redshift of these sources. These fluxes were set to NaN.\n",
      "INFO:herschelhelp.external:For 18 sources, the band megacam_g should not be used because it overlaps or is below the Lyman limit at the redshift of these sources. These fluxes were set to NaN.\n",
      "INFO:herschelhelp.external:For 19 sources, the band gpc1_g should not be used because it overlaps or is below the Lyman limit at the redshift of these sources. These fluxes were set to NaN.\n",
      "INFO:herschelhelp.external:For 3 sources, the band suprime_v should not be used because it overlaps or is below the Lyman limit at the redshift of these sources. These fluxes were set to NaN.\n",
      "INFO:herschelhelp.external:For 3 sources, the band acs_f606w should not be used because it overlaps or is below the Lyman limit at the redshift of these sources. These fluxes were set to NaN.\n",
      "INFO:herschelhelp.external:For 1 sources, the band suprime_r should not be used because it overlaps or is below the Lyman limit at the redshift of these sources. These fluxes were set to NaN.\n",
      "INFO:herschelhelp.external:For 1 sources, the band gpc1_r should not be used because it overlaps or is below the Lyman limit at the redshift of these sources. These fluxes were set to NaN.\n"
     ]
    },
    {
     "name": "stdout",
     "output_type": "stream",
     "text": [
      "Number of sources with z-spec in file 4: 831\n"
     ]
    },
    {
     "name": "stderr",
     "output_type": "stream",
     "text": [
      "ERROR:herschelhelp.filters:The filters are missing in the database: hawki_y.\n",
      "The are present in these columns: ferr_hawki_y.\n",
      "INFO:herschelhelp.external:For 1 sources, the band megacam_u should not be used because it overlaps or is below the Lyman limit at the redshift of these sources. These fluxes were set to NaN.\n"
     ]
    },
    {
     "name": "stdout",
     "output_type": "stream",
     "text": [
      "Number of sources with z-spec in file 46: 1795\n"
     ]
    },
    {
     "name": "stderr",
     "output_type": "stream",
     "text": [
      "ERROR:herschelhelp.filters:The filters are missing in the database: hawki_y.\n",
      "The are present in these columns: ferr_hawki_y.\n",
      "INFO:herschelhelp.external:For 4 sources, the band megacam_u should not be used because it overlaps or is below the Lyman limit at the redshift of these sources. These fluxes were set to NaN.\n",
      "INFO:herschelhelp.external:For 2 sources, the band suprime_b should not be used because it overlaps or is below the Lyman limit at the redshift of these sources. These fluxes were set to NaN.\n",
      "INFO:herschelhelp.external:For 1 sources, the band suprime_g should not be used because it overlaps or is below the Lyman limit at the redshift of these sources. These fluxes were set to NaN.\n",
      "INFO:herschelhelp.external:For 1 sources, the band decam_g should not be used because it overlaps or is below the Lyman limit at the redshift of these sources. These fluxes were set to NaN.\n",
      "INFO:herschelhelp.external:For 1 sources, the band megacam_g should not be used because it overlaps or is below the Lyman limit at the redshift of these sources. These fluxes were set to NaN.\n",
      "INFO:herschelhelp.external:For 1 sources, the band gpc1_g should not be used because it overlaps or is below the Lyman limit at the redshift of these sources. These fluxes were set to NaN.\n"
     ]
    },
    {
     "name": "stdout",
     "output_type": "stream",
     "text": [
      "Number of sources with z-spec in file 86: 333\n"
     ]
    },
    {
     "name": "stderr",
     "output_type": "stream",
     "text": [
      "ERROR:herschelhelp.filters:The filters are missing in the database: hawki_y.\n",
      "The are present in these columns: ferr_hawki_y.\n",
      "INFO:herschelhelp.external:For 3 sources, the band megacam_u should not be used because it overlaps or is below the Lyman limit at the redshift of these sources. These fluxes were set to NaN.\n",
      "INFO:herschelhelp.external:For 1 sources, the band suprime_b should not be used because it overlaps or is below the Lyman limit at the redshift of these sources. These fluxes were set to NaN.\n",
      "INFO:herschelhelp.external:For 1 sources, the band suprime_g should not be used because it overlaps or is below the Lyman limit at the redshift of these sources. These fluxes were set to NaN.\n",
      "INFO:herschelhelp.external:For 1 sources, the band decam_g should not be used because it overlaps or is below the Lyman limit at the redshift of these sources. These fluxes were set to NaN.\n",
      "INFO:herschelhelp.external:For 1 sources, the band megacam_g should not be used because it overlaps or is below the Lyman limit at the redshift of these sources. These fluxes were set to NaN.\n",
      "INFO:herschelhelp.external:For 1 sources, the band gpc1_g should not be used because it overlaps or is below the Lyman limit at the redshift of these sources. These fluxes were set to NaN.\n"
     ]
    },
    {
     "name": "stdout",
     "output_type": "stream",
     "text": [
      "Number of sources with z-spec in file 24: 2270\n"
     ]
    },
    {
     "name": "stderr",
     "output_type": "stream",
     "text": [
      "ERROR:herschelhelp.filters:The filters are missing in the database: hawki_y.\n",
      "The are present in these columns: ferr_hawki_y.\n",
      "INFO:herschelhelp.external:For 24 sources, the band megacam_u should not be used because it overlaps or is below the Lyman limit at the redshift of these sources. These fluxes were set to NaN.\n",
      "INFO:herschelhelp.external:For 18 sources, the band suprime_b should not be used because it overlaps or is below the Lyman limit at the redshift of these sources. These fluxes were set to NaN.\n",
      "INFO:herschelhelp.external:For 12 sources, the band suprime_g should not be used because it overlaps or is below the Lyman limit at the redshift of these sources. These fluxes were set to NaN.\n",
      "INFO:herschelhelp.external:For 13 sources, the band decam_g should not be used because it overlaps or is below the Lyman limit at the redshift of these sources. These fluxes were set to NaN.\n",
      "INFO:herschelhelp.external:For 12 sources, the band megacam_g should not be used because it overlaps or is below the Lyman limit at the redshift of these sources. These fluxes were set to NaN.\n",
      "INFO:herschelhelp.external:For 12 sources, the band gpc1_g should not be used because it overlaps or is below the Lyman limit at the redshift of these sources. These fluxes were set to NaN.\n",
      "INFO:herschelhelp.external:For 4 sources, the band suprime_v should not be used because it overlaps or is below the Lyman limit at the redshift of these sources. These fluxes were set to NaN.\n",
      "INFO:herschelhelp.external:For 4 sources, the band acs_f606w should not be used because it overlaps or is below the Lyman limit at the redshift of these sources. These fluxes were set to NaN.\n",
      "INFO:herschelhelp.external:For 1 sources, the band suprime_r should not be used because it overlaps or is below the Lyman limit at the redshift of these sources. These fluxes were set to NaN.\n",
      "INFO:herschelhelp.external:For 1 sources, the band gpc1_r should not be used because it overlaps or is below the Lyman limit at the redshift of these sources. These fluxes were set to NaN.\n",
      "INFO:herschelhelp.external:For 1 sources, the band megacam_r should not be used because it overlaps or is below the Lyman limit at the redshift of these sources. These fluxes were set to NaN.\n",
      "INFO:herschelhelp.external:For 1 sources, the band decam_r should not be used because it overlaps or is below the Lyman limit at the redshift of these sources. These fluxes were set to NaN.\n"
     ]
    },
    {
     "name": "stdout",
     "output_type": "stream",
     "text": [
      "Number of sources with z-spec in file 15: 1631\n"
     ]
    },
    {
     "name": "stderr",
     "output_type": "stream",
     "text": [
      "ERROR:herschelhelp.filters:The filters are missing in the database: hawki_y.\n",
      "The are present in these columns: ferr_hawki_y.\n",
      "INFO:herschelhelp.external:For 2 sources, the band megacam_u should not be used because it overlaps or is below the Lyman limit at the redshift of these sources. These fluxes were set to NaN.\n",
      "INFO:herschelhelp.external:For 1 sources, the band suprime_b should not be used because it overlaps or is below the Lyman limit at the redshift of these sources. These fluxes were set to NaN.\n",
      "INFO:herschelhelp.external:For 1 sources, the band suprime_g should not be used because it overlaps or is below the Lyman limit at the redshift of these sources. These fluxes were set to NaN.\n",
      "INFO:herschelhelp.external:For 1 sources, the band decam_g should not be used because it overlaps or is below the Lyman limit at the redshift of these sources. These fluxes were set to NaN.\n",
      "INFO:herschelhelp.external:For 1 sources, the band megacam_g should not be used because it overlaps or is below the Lyman limit at the redshift of these sources. These fluxes were set to NaN.\n",
      "INFO:herschelhelp.external:For 1 sources, the band gpc1_g should not be used because it overlaps or is below the Lyman limit at the redshift of these sources. These fluxes were set to NaN.\n"
     ]
    },
    {
     "name": "stdout",
     "output_type": "stream",
     "text": [
      "Number of sources with z-spec in file 19: 1108\n"
     ]
    },
    {
     "name": "stderr",
     "output_type": "stream",
     "text": [
      "ERROR:herschelhelp.filters:The filters are missing in the database: hawki_y.\n",
      "The are present in these columns: ferr_hawki_y.\n",
      "INFO:herschelhelp.external:For 5 sources, the band megacam_u should not be used because it overlaps or is below the Lyman limit at the redshift of these sources. These fluxes were set to NaN.\n",
      "INFO:herschelhelp.external:For 2 sources, the band suprime_b should not be used because it overlaps or is below the Lyman limit at the redshift of these sources. These fluxes were set to NaN.\n",
      "INFO:herschelhelp.external:For 2 sources, the band suprime_g should not be used because it overlaps or is below the Lyman limit at the redshift of these sources. These fluxes were set to NaN.\n",
      "INFO:herschelhelp.external:For 2 sources, the band decam_g should not be used because it overlaps or is below the Lyman limit at the redshift of these sources. These fluxes were set to NaN.\n",
      "INFO:herschelhelp.external:For 2 sources, the band megacam_g should not be used because it overlaps or is below the Lyman limit at the redshift of these sources. These fluxes were set to NaN.\n",
      "INFO:herschelhelp.external:For 2 sources, the band gpc1_g should not be used because it overlaps or is below the Lyman limit at the redshift of these sources. These fluxes were set to NaN.\n"
     ]
    },
    {
     "name": "stdout",
     "output_type": "stream",
     "text": [
      "Number of sources with z-spec in file 52: 1404\n"
     ]
    },
    {
     "name": "stderr",
     "output_type": "stream",
     "text": [
      "ERROR:herschelhelp.filters:The filters are missing in the database: hawki_y.\n",
      "The are present in these columns: ferr_hawki_y.\n",
      "INFO:herschelhelp.external:For 2 sources, the band megacam_u should not be used because it overlaps or is below the Lyman limit at the redshift of these sources. These fluxes were set to NaN.\n",
      "INFO:herschelhelp.external:For 2 sources, the band suprime_b should not be used because it overlaps or is below the Lyman limit at the redshift of these sources. These fluxes were set to NaN.\n"
     ]
    },
    {
     "name": "stdout",
     "output_type": "stream",
     "text": [
      "Number of sources with z-spec in file 63: 460\n"
     ]
    },
    {
     "name": "stderr",
     "output_type": "stream",
     "text": [
      "ERROR:herschelhelp.filters:The filters are missing in the database: hawki_y.\n",
      "The are present in these columns: ferr_hawki_y.\n",
      "INFO:herschelhelp.external:For 3 sources, the band megacam_u should not be used because it overlaps or is below the Lyman limit at the redshift of these sources. These fluxes were set to NaN.\n",
      "INFO:herschelhelp.external:For 1 sources, the band suprime_b should not be used because it overlaps or is below the Lyman limit at the redshift of these sources. These fluxes were set to NaN.\n"
     ]
    },
    {
     "name": "stdout",
     "output_type": "stream",
     "text": [
      "Number of sources with z-spec in file 28: 2028\n"
     ]
    },
    {
     "name": "stderr",
     "output_type": "stream",
     "text": [
      "ERROR:herschelhelp.filters:The filters are missing in the database: hawki_y.\n",
      "The are present in these columns: ferr_hawki_y.\n",
      "INFO:herschelhelp.external:For 13 sources, the band megacam_u should not be used because it overlaps or is below the Lyman limit at the redshift of these sources. These fluxes were set to NaN.\n",
      "INFO:herschelhelp.external:For 8 sources, the band suprime_b should not be used because it overlaps or is below the Lyman limit at the redshift of these sources. These fluxes were set to NaN.\n",
      "INFO:herschelhelp.external:For 4 sources, the band suprime_g should not be used because it overlaps or is below the Lyman limit at the redshift of these sources. These fluxes were set to NaN.\n",
      "INFO:herschelhelp.external:For 4 sources, the band decam_g should not be used because it overlaps or is below the Lyman limit at the redshift of these sources. These fluxes were set to NaN.\n",
      "INFO:herschelhelp.external:For 4 sources, the band megacam_g should not be used because it overlaps or is below the Lyman limit at the redshift of these sources. These fluxes were set to NaN.\n",
      "INFO:herschelhelp.external:For 4 sources, the band gpc1_g should not be used because it overlaps or is below the Lyman limit at the redshift of these sources. These fluxes were set to NaN.\n"
     ]
    },
    {
     "name": "stdout",
     "output_type": "stream",
     "text": [
      "Number of sources with z-spec in file 8: 787\n"
     ]
    },
    {
     "name": "stderr",
     "output_type": "stream",
     "text": [
      "ERROR:herschelhelp.filters:The filters are missing in the database: hawki_y.\n",
      "The are present in these columns: ferr_hawki_y.\n",
      "INFO:herschelhelp.external:For 3 sources, the band megacam_u should not be used because it overlaps or is below the Lyman limit at the redshift of these sources. These fluxes were set to NaN.\n",
      "INFO:herschelhelp.external:For 1 sources, the band suprime_b should not be used because it overlaps or is below the Lyman limit at the redshift of these sources. These fluxes were set to NaN.\n",
      "INFO:herschelhelp.external:For 1 sources, the band suprime_g should not be used because it overlaps or is below the Lyman limit at the redshift of these sources. These fluxes were set to NaN.\n",
      "INFO:herschelhelp.external:For 1 sources, the band decam_g should not be used because it overlaps or is below the Lyman limit at the redshift of these sources. These fluxes were set to NaN.\n",
      "INFO:herschelhelp.external:For 1 sources, the band megacam_g should not be used because it overlaps or is below the Lyman limit at the redshift of these sources. These fluxes were set to NaN.\n",
      "INFO:herschelhelp.external:For 1 sources, the band gpc1_g should not be used because it overlaps or is below the Lyman limit at the redshift of these sources. These fluxes were set to NaN.\n"
     ]
    },
    {
     "name": "stdout",
     "output_type": "stream",
     "text": [
      "Number of sources with z-spec in file 30: 1910\n"
     ]
    },
    {
     "name": "stderr",
     "output_type": "stream",
     "text": [
      "ERROR:herschelhelp.filters:The filters are missing in the database: hawki_y.\n",
      "The are present in these columns: ferr_hawki_y.\n",
      "INFO:herschelhelp.external:For 15 sources, the band megacam_u should not be used because it overlaps or is below the Lyman limit at the redshift of these sources. These fluxes were set to NaN.\n",
      "INFO:herschelhelp.external:For 12 sources, the band suprime_b should not be used because it overlaps or is below the Lyman limit at the redshift of these sources. These fluxes were set to NaN.\n",
      "INFO:herschelhelp.external:For 8 sources, the band suprime_g should not be used because it overlaps or is below the Lyman limit at the redshift of these sources. These fluxes were set to NaN.\n",
      "INFO:herschelhelp.external:For 8 sources, the band decam_g should not be used because it overlaps or is below the Lyman limit at the redshift of these sources. These fluxes were set to NaN.\n",
      "INFO:herschelhelp.external:For 8 sources, the band megacam_g should not be used because it overlaps or is below the Lyman limit at the redshift of these sources. These fluxes were set to NaN.\n",
      "INFO:herschelhelp.external:For 8 sources, the band gpc1_g should not be used because it overlaps or is below the Lyman limit at the redshift of these sources. These fluxes were set to NaN.\n",
      "INFO:herschelhelp.external:For 3 sources, the band suprime_v should not be used because it overlaps or is below the Lyman limit at the redshift of these sources. These fluxes were set to NaN.\n",
      "INFO:herschelhelp.external:For 3 sources, the band acs_f606w should not be used because it overlaps or is below the Lyman limit at the redshift of these sources. These fluxes were set to NaN.\n",
      "INFO:herschelhelp.external:For 2 sources, the band suprime_r should not be used because it overlaps or is below the Lyman limit at the redshift of these sources. These fluxes were set to NaN.\n",
      "INFO:herschelhelp.external:For 2 sources, the band gpc1_r should not be used because it overlaps or is below the Lyman limit at the redshift of these sources. These fluxes were set to NaN.\n",
      "INFO:herschelhelp.external:For 2 sources, the band megacam_r should not be used because it overlaps or is below the Lyman limit at the redshift of these sources. These fluxes were set to NaN.\n",
      "INFO:herschelhelp.external:For 2 sources, the band decam_r should not be used because it overlaps or is below the Lyman limit at the redshift of these sources. These fluxes were set to NaN.\n",
      "INFO:herschelhelp.external:For 2 sources, the band suprime_rc should not be used because it overlaps or is below the Lyman limit at the redshift of these sources. These fluxes were set to NaN.\n"
     ]
    },
    {
     "name": "stdout",
     "output_type": "stream",
     "text": [
      "Number of sources with z-spec in file 67: 1094\n"
     ]
    },
    {
     "name": "stderr",
     "output_type": "stream",
     "text": [
      "ERROR:herschelhelp.filters:The filters are missing in the database: hawki_y.\n",
      "The are present in these columns: ferr_hawki_y.\n",
      "INFO:herschelhelp.external:For 35 sources, the band megacam_u should not be used because it overlaps or is below the Lyman limit at the redshift of these sources. These fluxes were set to NaN.\n",
      "INFO:herschelhelp.external:For 19 sources, the band suprime_b should not be used because it overlaps or is below the Lyman limit at the redshift of these sources. These fluxes were set to NaN.\n",
      "INFO:herschelhelp.external:For 10 sources, the band suprime_g should not be used because it overlaps or is below the Lyman limit at the redshift of these sources. These fluxes were set to NaN.\n",
      "INFO:herschelhelp.external:For 13 sources, the band decam_g should not be used because it overlaps or is below the Lyman limit at the redshift of these sources. These fluxes were set to NaN.\n",
      "INFO:herschelhelp.external:For 10 sources, the band megacam_g should not be used because it overlaps or is below the Lyman limit at the redshift of these sources. These fluxes were set to NaN.\n",
      "INFO:herschelhelp.external:For 13 sources, the band gpc1_g should not be used because it overlaps or is below the Lyman limit at the redshift of these sources. These fluxes were set to NaN.\n",
      "INFO:herschelhelp.external:For 3 sources, the band acs_f606w should not be used because it overlaps or is below the Lyman limit at the redshift of these sources. These fluxes were set to NaN.\n"
     ]
    },
    {
     "name": "stdout",
     "output_type": "stream",
     "text": [
      "Number of sources with z-spec in file 56: 1977\n"
     ]
    },
    {
     "name": "stderr",
     "output_type": "stream",
     "text": [
      "ERROR:herschelhelp.filters:The filters are missing in the database: hawki_y.\n",
      "The are present in these columns: ferr_hawki_y.\n",
      "INFO:herschelhelp.external:For 9 sources, the band megacam_u should not be used because it overlaps or is below the Lyman limit at the redshift of these sources. These fluxes were set to NaN.\n",
      "INFO:herschelhelp.external:For 5 sources, the band suprime_b should not be used because it overlaps or is below the Lyman limit at the redshift of these sources. These fluxes were set to NaN.\n",
      "INFO:herschelhelp.external:For 3 sources, the band suprime_g should not be used because it overlaps or is below the Lyman limit at the redshift of these sources. These fluxes were set to NaN.\n",
      "INFO:herschelhelp.external:For 3 sources, the band decam_g should not be used because it overlaps or is below the Lyman limit at the redshift of these sources. These fluxes were set to NaN.\n",
      "INFO:herschelhelp.external:For 3 sources, the band megacam_g should not be used because it overlaps or is below the Lyman limit at the redshift of these sources. These fluxes were set to NaN.\n",
      "INFO:herschelhelp.external:For 3 sources, the band gpc1_g should not be used because it overlaps or is below the Lyman limit at the redshift of these sources. These fluxes were set to NaN.\n"
     ]
    },
    {
     "name": "stdout",
     "output_type": "stream",
     "text": [
      "Number of sources with z-spec in file 34: 1223\n"
     ]
    },
    {
     "name": "stderr",
     "output_type": "stream",
     "text": [
      "ERROR:herschelhelp.filters:The filters are missing in the database: hawki_y.\n",
      "The are present in these columns: ferr_hawki_y.\n",
      "INFO:herschelhelp.external:For 6 sources, the band megacam_u should not be used because it overlaps or is below the Lyman limit at the redshift of these sources. These fluxes were set to NaN.\n",
      "INFO:herschelhelp.external:For 2 sources, the band suprime_b should not be used because it overlaps or is below the Lyman limit at the redshift of these sources. These fluxes were set to NaN.\n",
      "INFO:herschelhelp.external:For 1 sources, the band suprime_g should not be used because it overlaps or is below the Lyman limit at the redshift of these sources. These fluxes were set to NaN.\n",
      "INFO:herschelhelp.external:For 1 sources, the band decam_g should not be used because it overlaps or is below the Lyman limit at the redshift of these sources. These fluxes were set to NaN.\n",
      "INFO:herschelhelp.external:For 1 sources, the band megacam_g should not be used because it overlaps or is below the Lyman limit at the redshift of these sources. These fluxes were set to NaN.\n",
      "INFO:herschelhelp.external:For 1 sources, the band gpc1_g should not be used because it overlaps or is below the Lyman limit at the redshift of these sources. These fluxes were set to NaN.\n"
     ]
    }
   ],
   "source": [
    "for tile in file_list:\n",
    "        \n",
    "    file_num = tile.split('_')[4].split('.')[0]\n",
    "    best_catalogue = Table.read(tile)\n",
    "    optnir = ((best_catalogue['flag_optnir_det'] == 3) \n",
    "          | (best_catalogue['flag_optnir_det'] == 7))\n",
    "    \n",
    "    best_catalogue = best_catalogue[optnir]\n",
    "\n",
    "\n",
    "    best_catalogue = best_catalogue[~np.isnan(best_catalogue[\"redshift\"])]\n",
    "\n",
    "    print(\"Number of sources with z-spec in file {}: {}\".format(file_num, len(best_catalogue)))\n",
    "\n",
    "    # Correction for galactic extinction\n",
    "    best_catalogue = correct_galactic_extinction(best_catalogue, inplace=True)\n",
    "\n",
    "    # Convertion to CIGALE format\n",
    "\n",
    "    best_catalogue = convert_table_for_cigale(best_catalogue, inplace=True, remove_zerofluxes=True)\n",
    "\n",
    "    remove_unneeded_fluxes(g_bands)\n",
    "    remove_unneeded_fluxes(u_bands)\n",
    "    remove_unneeded_fluxes(r_bands)\n",
    "    remove_unneeded_fluxes(i_bands)\n",
    "    remove_unneeded_fluxes(z_bands)\n",
    "    remove_unneeded_fluxes(y_bands)\n",
    "    remove_unneeded_fluxes(j_bands)\n",
    "    remove_unneeded_fluxes(h_bands)\n",
    "    remove_unneeded_fluxes(k_bands)\n",
    "\n",
    "    best_catalogue.write(\"data_tmp/tiles/XMM-LSS_cigale_optnir_extcor_zspec_{}_{}.fits\".format(SUFFIX, file_num), overwrite=True)"
   ]
  }
 ],
 "metadata": {
  "kernelspec": {
   "display_name": "Python (herschelhelp_internal)",
   "language": "python",
   "name": "helpint"
  },
  "language_info": {
   "codemirror_mode": {
    "name": "ipython",
    "version": 3
   },
   "file_extension": ".py",
   "mimetype": "text/x-python",
   "name": "python",
   "nbconvert_exporter": "python",
   "pygments_lexer": "ipython3",
   "version": "3.6.4"
  }
 },
 "nbformat": 4,
 "nbformat_minor": 2
}
