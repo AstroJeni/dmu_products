{
 "cells": [
  {
   "cell_type": "markdown",
   "metadata": {},
   "source": [
    "This notebook prepare the catalogues that will be analysed by CIGALE for SED fitting and physical parameter estimation."
   ]
  },
  {
   "cell_type": "code",
   "execution_count": 1,
   "metadata": {
    "collapsed": true
   },
   "outputs": [],
   "source": [
    "import numpy as np\n",
    "import os\n",
    "os.environ['LOG_LEVEL'] = 'INFO'\n",
    "import glob\n",
    "from astropy.table import Table\n",
    "\n",
    "from herschelhelp.filters import correct_galactic_extinction\n",
    "from herschelhelp.external import convert_table_for_cigale"
   ]
  },
  {
   "cell_type": "code",
   "execution_count": 2,
   "metadata": {
    "collapsed": true
   },
   "outputs": [],
   "source": [
    "SUFFIX = '20180221'\n",
    "file_list = glob.glob('../../dmu32/dmu32_SGP/data/tiles/sgp_{}_cigale_*.fits'.format(SUFFIX))"
   ]
  },
  {
   "cell_type": "code",
   "execution_count": 3,
   "metadata": {
    "collapsed": true
   },
   "outputs": [],
   "source": [
    "#len(master_catalogue)"
   ]
  },
  {
   "cell_type": "markdown",
   "metadata": {},
   "source": [
    "# Best sources\n",
    "\n",
    "Define a good far-IR measurement as:\n",
    "- an existing flux in the band;\n",
    "- the flag from XID+ must not be set;\n",
    "- the signal to noise ratio must be over 2."
   ]
  },
  {
   "cell_type": "code",
   "execution_count": 4,
   "metadata": {
    "collapsed": true
   },
   "outputs": [],
   "source": [
    "# good = {}\n",
    "# for band in ['pacs_green', 'pacs_red', 'spire_250', 'spire_350', 'spire_500']:\n",
    "#     good[band] = (~np.isnan(master_catalogue['f_{}'.format(band)]) & \n",
    "#                                    ~master_catalogue['flag_{}'.format(band)])\n",
    "#     good[band][good[band]] &= (master_catalogue[good[band]]['f_{}'.format(band)] /\n",
    "#                               master_catalogue[good[band]]['ferr_{}'.format(band)] >= 2)"
   ]
  },
  {
   "cell_type": "markdown",
   "metadata": {},
   "source": [
    "We will keep only sources with at leat 2 good far-IR measurements (we may actually use less sources are not all may have a redshift)."
   ]
  },
  {
   "cell_type": "code",
   "execution_count": 5,
   "metadata": {
    "collapsed": true
   },
   "outputs": [],
   "source": [
    "# combined_good = np.sum(list(good.values()), axis=0) >= 2"
   ]
  },
  {
   "cell_type": "code",
   "execution_count": 6,
   "metadata": {
    "collapsed": true
   },
   "outputs": [],
   "source": [
    "# print(\"Number of good sources: {}\".format(np.sum(combined_good)))"
   ]
  },
  {
   "cell_type": "markdown",
   "metadata": {},
   "source": [
    "# Main catalogue for CIGALE"
   ]
  },
  {
   "cell_type": "code",
   "execution_count": 7,
   "metadata": {
    "collapsed": true
   },
   "outputs": [],
   "source": [
    "# best_catalogue = master_catalogue[combined_good].copy()"
   ]
  },
  {
   "cell_type": "code",
   "execution_count": 8,
   "metadata": {
    "collapsed": true
   },
   "outputs": [],
   "source": [
    "# # Correction for galactic extinction\n",
    "# best_catalogue = correct_galactic_extinction(best_catalogue, inplace=True)"
   ]
  },
  {
   "cell_type": "code",
   "execution_count": 9,
   "metadata": {
    "collapsed": true,
    "scrolled": false
   },
   "outputs": [],
   "source": [
    "# # Convertion to CIGALE format\n",
    "# best_catalogue = convert_table_for_cigale(best_catalogue, inplace=True, remove_zerofluxes=True)"
   ]
  },
  {
   "cell_type": "markdown",
   "metadata": {},
   "source": [
    "## Band selection\n",
    "\n",
    "We want to use only one filter for similar bands. We define an order of preference and set to NaN the flux in the lower prefered bands when a prefered band is available. Some band may have a 0 flux, we set there values to NaN."
   ]
  },
  {
   "cell_type": "code",
   "execution_count": 10,
   "metadata": {
    "collapsed": true
   },
   "outputs": [],
   "source": [
    "u_bands = [\"omegacam_u\"]\n",
    "g_bands = [\"omegacam_g\", \"decam_g\",            \"gpc1_g\"]\n",
    "r_bands = [\"omegacam_r\", \"decam_r\",            \"gpc1_r\"]\n",
    "i_bands = [\"omegacam_i\", \"decam_i\",            \"gpc1_i\"]\n",
    "z_bands = [              \"decam_z\", \"vista_z\", \"gpc1_z\"]\n",
    "y_bands = [              \"decam_y\", \"vista_y\", \"gpc1_y\"]\n",
    "\n",
    "def remove_unneeded_fluxes(list_of_bands):\n",
    "    for band_idx, band in enumerate(list_of_bands[:-1]):\n",
    "        mask = ~np.isnan(best_catalogue[band])\n",
    "        for lower_band in list_of_bands[band_idx+1:]:\n",
    "            best_catalogue[lower_band][mask] = np.nan\n",
    "            best_catalogue[\"{}_err\".format(lower_band)][mask] = np.nan"
   ]
  },
  {
   "cell_type": "code",
   "execution_count": 11,
   "metadata": {
    "collapsed": true
   },
   "outputs": [],
   "source": [
    "# remove_unneeded_fluxes(g_bands)\n",
    "# remove_unneeded_fluxes(u_bands)\n",
    "# remove_unneeded_fluxes(r_bands)\n",
    "# remove_unneeded_fluxes(i_bands)\n",
    "# remove_unneeded_fluxes(z_bands)\n",
    "# remove_unneeded_fluxes(y_bands)"
   ]
  },
  {
   "cell_type": "code",
   "execution_count": 12,
   "metadata": {
    "collapsed": true
   },
   "outputs": [],
   "source": [
    "#best_catalogue.write(\"data_tmp/CDFS-SWIRE_cigale_best_extcor_20180129.fits\")"
   ]
  },
  {
   "cell_type": "markdown",
   "metadata": {},
   "source": [
    "# Catalogue using spectroscopic redshift"
   ]
  },
  {
   "cell_type": "code",
   "execution_count": 13,
   "metadata": {
    "collapsed": true
   },
   "outputs": [
    {
     "name": "stdout",
     "output_type": "stream",
     "text": [
      "Number of sources with z-spec in file 265: 54\n",
      "Number of sources with z-spec in file 54: 50\n",
      "Number of sources with z-spec in file 182: 96\n",
      "Number of sources with z-spec in file 120: 92\n",
      "Number of sources with z-spec in file 111: 113\n",
      "Number of sources with z-spec in file 254: 38\n",
      "Number of sources with z-spec in file 65: 91\n",
      "Number of sources with z-spec in file 173: 51\n",
      "Number of sources with z-spec in file 294: 162\n",
      "Number of sources with z-spec in file 138: 14\n",
      "Number of sources with z-spec in file 236: 86\n",
      "Number of sources with z-spec in file 36: 87\n",
      "Number of sources with z-spec in file 207: 87\n",
      "Number of sources with z-spec in file 109: 102\n",
      "Number of sources with z-spec in file 94: 81\n",
      "Number of sources with z-spec in file 142: 26\n",
      "Number of sources with z-spec in file 9: 76\n",
      "Number of sources with z-spec in file 115: 93\n",
      "Number of sources with z-spec in file 88: 101\n",
      "Number of sources with z-spec in file 61: 67\n",
      "Number of sources with z-spec in file 250: 74\n",
      "Number of sources with z-spec in file 186: 82\n",
      "Number of sources with z-spec in file 50: 73\n",
      "Number of sources with z-spec in file 261: 72\n",
      "Number of sources with z-spec in file 124: 104\n",
      "Number of sources with z-spec in file 288: 79\n",
      "Number of sources with z-spec in file 248: 49\n",
      "Number of sources with z-spec in file 79: 84\n",
      "Number of sources with z-spec in file 203: 55\n",
      "Number of sources with z-spec in file 32: 106\n",
      "Number of sources with z-spec in file 146: 26\n",
      "Number of sources with z-spec in file 90: 71\n",
      "Number of sources with z-spec in file 290: 140\n",
      "Number of sources with z-spec in file 177: 45\n",
      "Number of sources with z-spec in file 232: 135\n",
      "Number of sources with z-spec in file 279: 17\n",
      "Number of sources with z-spec in file 48: 78\n",
      "Number of sources with z-spec in file 130: 7\n",
      "Number of sources with z-spec in file 192: 62\n",
      "Number of sources with z-spec in file 44: 70\n",
      "Number of sources with z-spec in file 275: 32\n",
      "Number of sources with z-spec in file 75: 87\n",
      "Number of sources with z-spec in file 244: 95\n",
      "Number of sources with z-spec in file 1: 80\n",
      "Number of sources with z-spec in file 101: 110\n",
      "Number of sources with z-spec in file 226: 62\n",
      "Number of sources with z-spec in file 17: 40\n",
      "Number of sources with z-spec in file 128: 45\n",
      "Number of sources with z-spec in file 284: 27\n",
      "Number of sources with z-spec in file 163: 68\n",
      "Number of sources with z-spec in file 152: 44\n",
      "Number of sources with z-spec in file 84: 43\n",
      "Number of sources with z-spec in file 119: 58\n",
      "Number of sources with z-spec in file 217: 90\n",
      "Number of sources with z-spec in file 26: 117\n",
      "Number of sources with z-spec in file 240: 77\n",
      "Number of sources with z-spec in file 71: 108\n",
      "Number of sources with z-spec in file 5: 65\n",
      "Number of sources with z-spec in file 98: 57\n",
      "Number of sources with z-spec in file 105: 81\n",
      "Number of sources with z-spec in file 134: 3\n",
      "Number of sources with z-spec in file 271: 24\n",
      "Number of sources with z-spec in file 40: 90\n",
      "Number of sources with z-spec in file 196: 113\n",
      "Number of sources with z-spec in file 80: 78\n",
      "Number of sources with z-spec in file 156: 53\n",
      "Number of sources with z-spec in file 22: 28\n",
      "Number of sources with z-spec in file 213: 73\n",
      "Number of sources with z-spec in file 69: 52\n",
      "Number of sources with z-spec in file 258: 77\n",
      "Number of sources with z-spec in file 58: 47\n",
      "Number of sources with z-spec in file 269: 27\n",
      "Number of sources with z-spec in file 13: 85\n",
      "Number of sources with z-spec in file 222: 70\n",
      "Number of sources with z-spec in file 167: 28\n",
      "Number of sources with z-spec in file 280: 30\n",
      "Number of sources with z-spec in file 131: 13\n",
      "Number of sources with z-spec in file 45: 76\n",
      "Number of sources with z-spec in file 274: 14\n",
      "Number of sources with z-spec in file 193: 72\n",
      "Number of sources with z-spec in file 74: 85\n",
      "Number of sources with z-spec in file 245: 71\n",
      "Number of sources with z-spec in file 100: 78\n",
      "Number of sources with z-spec in file 0: 105\n",
      "Number of sources with z-spec in file 227: 80\n",
      "Number of sources with z-spec in file 16: 89\n",
      "Number of sources with z-spec in file 162: 53\n",
      "Number of sources with z-spec in file 129: 27\n",
      "Number of sources with z-spec in file 285: 43\n",
      "Number of sources with z-spec in file 85: 60\n",
      "Number of sources with z-spec in file 118: 92\n",
      "Number of sources with z-spec in file 153: 56\n",
      "Number of sources with z-spec in file 216: 63\n",
      "Number of sources with z-spec in file 27: 91\n",
      "Number of sources with z-spec in file 241: 69\n",
      "Number of sources with z-spec in file 70: 85\n",
      "Number of sources with z-spec in file 99: 60\n",
      "Number of sources with z-spec in file 104: 93\n"
     ]
    },
    {
     "name": "stderr",
     "output_type": "stream",
     "text": [
      "INFO:herschelhelp.external:For 1 sources, the band omegacam_u should not be used because it overlaps or is below the Lyman limit at the redshift of these sources. These fluxes were set to NaN.\n"
     ]
    },
    {
     "name": "stdout",
     "output_type": "stream",
     "text": [
      "Number of sources with z-spec in file 4: 65\n",
      "Number of sources with z-spec in file 135: 9\n",
      "Number of sources with z-spec in file 197: 123\n",
      "Number of sources with z-spec in file 270: 23\n",
      "Number of sources with z-spec in file 41: 100\n",
      "Number of sources with z-spec in file 157: 71\n",
      "Number of sources with z-spec in file 81: 85\n",
      "Number of sources with z-spec in file 68: 50\n",
      "Number of sources with z-spec in file 259: 41\n",
      "Number of sources with z-spec in file 23: 69\n",
      "Number of sources with z-spec in file 212: 54\n",
      "Number of sources with z-spec in file 12: 67\n",
      "Number of sources with z-spec in file 223: 79\n",
      "Number of sources with z-spec in file 59: 22\n",
      "Number of sources with z-spec in file 268: 90\n",
      "Number of sources with z-spec in file 281: 32\n",
      "Number of sources with z-spec in file 166: 52\n",
      "Number of sources with z-spec in file 183: 102\n",
      "Number of sources with z-spec in file 264: 62\n",
      "Number of sources with z-spec in file 55: 47\n",
      "Number of sources with z-spec in file 121: 93\n",
      "Number of sources with z-spec in file 110: 55\n",
      "Number of sources with z-spec in file 255: 44\n",
      "Number of sources with z-spec in file 64: 122\n",
      "Number of sources with z-spec in file 295: 117\n",
      "Number of sources with z-spec in file 139: 29\n",
      "Number of sources with z-spec in file 172: 60\n",
      "Number of sources with z-spec in file 237: 57\n",
      "Number of sources with z-spec in file 37: 99\n",
      "Number of sources with z-spec in file 206: 84\n",
      "Number of sources with z-spec in file 8: 52\n",
      "Number of sources with z-spec in file 143: 34\n",
      "Number of sources with z-spec in file 108: 90\n",
      "Number of sources with z-spec in file 95: 89\n",
      "Number of sources with z-spec in file 114: 92\n",
      "Number of sources with z-spec in file 89: 99\n",
      "Number of sources with z-spec in file 60: 84\n",
      "Number of sources with z-spec in file 251: 51\n",
      "Number of sources with z-spec in file 51: 60\n",
      "Number of sources with z-spec in file 260: 55\n",
      "Number of sources with z-spec in file 187: 86\n",
      "Number of sources with z-spec in file 125: 70\n",
      "Number of sources with z-spec in file 289: 90\n",
      "Number of sources with z-spec in file 202: 68\n",
      "Number of sources with z-spec in file 33: 71\n",
      "Number of sources with z-spec in file 249: 77\n",
      "Number of sources with z-spec in file 78: 103\n",
      "Number of sources with z-spec in file 91: 58\n",
      "Number of sources with z-spec in file 147: 7\n",
      "Number of sources with z-spec in file 176: 39\n",
      "Number of sources with z-spec in file 291: 124\n",
      "Number of sources with z-spec in file 278: 29\n",
      "Number of sources with z-spec in file 49: 61\n",
      "Number of sources with z-spec in file 233: 125\n",
      "Number of sources with z-spec in file 47: 66\n",
      "Number of sources with z-spec in file 276: 49\n",
      "Number of sources with z-spec in file 191: 63\n",
      "Number of sources with z-spec in file 178: 40\n",
      "Number of sources with z-spec in file 133: 3\n",
      "Number of sources with z-spec in file 2: 80\n",
      "Number of sources with z-spec in file 102: 87\n",
      "Number of sources with z-spec in file 149: 27\n",
      "Number of sources with z-spec in file 76: 67\n",
      "Number of sources with z-spec in file 247: 66\n",
      "Number of sources with z-spec in file 160: 54\n",
      "Number of sources with z-spec in file 287: 41\n",
      "Number of sources with z-spec in file 225: 74\n",
      "Number of sources with z-spec in file 189: 67\n",
      "Number of sources with z-spec in file 14: 85\n",
      "Number of sources with z-spec in file 214: 64\n",
      "Number of sources with z-spec in file 25: 110\n",
      "Number of sources with z-spec in file 87: 82\n",
      "Number of sources with z-spec in file 151: 35\n",
      "Number of sources with z-spec in file 6: 60\n",
      "Number of sources with z-spec in file 106: 63\n",
      "Number of sources with z-spec in file 243: 79\n",
      "Number of sources with z-spec in file 72: 104\n",
      "Number of sources with z-spec in file 208: 71\n",
      "Number of sources with z-spec in file 39: 79\n",
      "Number of sources with z-spec in file 195: 98\n",
      "Number of sources with z-spec in file 239: 59\n",
      "Number of sources with z-spec in file 272: 19\n",
      "Number of sources with z-spec in file 43: 72\n",
      "Number of sources with z-spec in file 137: 20\n",
      "Number of sources with z-spec in file 21: 60\n",
      "Number of sources with z-spec in file 210: 49\n",
      "Number of sources with z-spec in file 155: 44\n",
      "Number of sources with z-spec in file 83: 79\n",
      "Number of sources with z-spec in file 283: 28\n",
      "Number of sources with z-spec in file 164: 48\n",
      "Number of sources with z-spec in file 10: 83\n",
      "Number of sources with z-spec in file 221: 67\n",
      "Number of sources with z-spec in file 123: 86\n",
      "Number of sources with z-spec in file 168: 33\n",
      "Number of sources with z-spec in file 181: 53\n",
      "Number of sources with z-spec in file 266: 63\n",
      "Number of sources with z-spec in file 57: 70\n",
      "Number of sources with z-spec in file 257: 55\n",
      "Number of sources with z-spec in file 66: 61\n",
      "Number of sources with z-spec in file 159: 60\n",
      "Number of sources with z-spec in file 112: 102\n",
      "Number of sources with z-spec in file 199: 112\n",
      "Number of sources with z-spec in file 235: 58\n",
      "Number of sources with z-spec in file 297: 97\n",
      "Number of sources with z-spec in file 170: 38\n",
      "Number of sources with z-spec in file 141: 28\n",
      "Number of sources with z-spec in file 97: 83\n",
      "Number of sources with z-spec in file 35: 54\n",
      "Number of sources with z-spec in file 204: 65\n",
      "Number of sources with z-spec in file 29: 97\n",
      "Number of sources with z-spec in file 218: 102\n",
      "Number of sources with z-spec in file 62: 48\n",
      "Number of sources with z-spec in file 253: 52\n",
      "Number of sources with z-spec in file 116: 107\n",
      "Number of sources with z-spec in file 127: 75\n",
      "Number of sources with z-spec in file 53: 90\n",
      "Number of sources with z-spec in file 262: 78\n",
      "Number of sources with z-spec in file 18: 54\n",
      "Number of sources with z-spec in file 229: 118\n",
      "Number of sources with z-spec in file 185: 78\n",
      "Number of sources with z-spec in file 93: 73\n",
      "Number of sources with z-spec in file 145: 19\n",
      "Number of sources with z-spec in file 200: 112\n",
      "Number of sources with z-spec in file 31: 101\n",
      "Number of sources with z-spec in file 231: 145\n",
      "Number of sources with z-spec in file 174: 60\n",
      "Number of sources with z-spec in file 293: 161\n",
      "Number of sources with z-spec in file 169: 57\n",
      "Number of sources with z-spec in file 122: 106\n",
      "Number of sources with z-spec in file 267: 66\n",
      "Number of sources with z-spec in file 56: 58\n",
      "Number of sources with z-spec in file 180: 57\n",
      "Number of sources with z-spec in file 256: 43\n",
      "Number of sources with z-spec in file 67: 69\n",
      "Number of sources with z-spec in file 113: 103\n",
      "Number of sources with z-spec in file 158: 109\n",
      "Number of sources with z-spec in file 198: 111\n",
      "Number of sources with z-spec in file 234: 67\n",
      "Number of sources with z-spec in file 171: 54\n",
      "Number of sources with z-spec in file 296: 131\n",
      "Number of sources with z-spec in file 96: 85\n",
      "Number of sources with z-spec in file 140: 16\n",
      "Number of sources with z-spec in file 34: 101\n",
      "Number of sources with z-spec in file 205: 71\n",
      "Number of sources with z-spec in file 63: 126\n",
      "Number of sources with z-spec in file 252: 64\n",
      "Number of sources with z-spec in file 28: 78\n",
      "Number of sources with z-spec in file 219: 85\n",
      "Number of sources with z-spec in file 117: 83\n",
      "Number of sources with z-spec in file 126: 93\n",
      "Number of sources with z-spec in file 19: 107\n",
      "Number of sources with z-spec in file 228: 108\n",
      "Number of sources with z-spec in file 184: 123\n",
      "Number of sources with z-spec in file 52: 69\n",
      "Number of sources with z-spec in file 263: 66\n",
      "Number of sources with z-spec in file 144: 28\n",
      "Number of sources with z-spec in file 92: 66\n",
      "Number of sources with z-spec in file 201: 84\n",
      "Number of sources with z-spec in file 30: 87\n",
      "Number of sources with z-spec in file 230: 114\n",
      "Number of sources with z-spec in file 292: 143\n",
      "Number of sources with z-spec in file 175: 37\n",
      "Number of sources with z-spec in file 190: 79\n",
      "Number of sources with z-spec in file 46: 98\n",
      "Number of sources with z-spec in file 277: 10\n",
      "Number of sources with z-spec in file 132: 9\n",
      "Number of sources with z-spec in file 179: 44\n",
      "Number of sources with z-spec in file 148: 8\n",
      "Number of sources with z-spec in file 103: 105\n",
      "Number of sources with z-spec in file 3: 78\n",
      "Number of sources with z-spec in file 77: 62\n",
      "Number of sources with z-spec in file 246: 74\n",
      "Number of sources with z-spec in file 286: 25\n",
      "Number of sources with z-spec in file 161: 85\n",
      "Number of sources with z-spec in file 224: 79\n",
      "Number of sources with z-spec in file 188: 88\n",
      "Number of sources with z-spec in file 15: 103\n",
      "Number of sources with z-spec in file 215: 73\n",
      "Number of sources with z-spec in file 24: 89\n",
      "Number of sources with z-spec in file 150: 10\n",
      "Number of sources with z-spec in file 86: 117\n",
      "Number of sources with z-spec in file 107: 76\n",
      "Number of sources with z-spec in file 7: 57\n",
      "Number of sources with z-spec in file 209: 69\n",
      "Number of sources with z-spec in file 38: 82\n",
      "Number of sources with z-spec in file 242: 72\n",
      "Number of sources with z-spec in file 73: 52\n",
      "Number of sources with z-spec in file 273: 26\n",
      "Number of sources with z-spec in file 42: 91\n",
      "Number of sources with z-spec in file 194: 58\n",
      "Number of sources with z-spec in file 238: 70\n",
      "Number of sources with z-spec in file 136: 12\n",
      "Number of sources with z-spec in file 20: 58\n",
      "Number of sources with z-spec in file 211: 44\n",
      "Number of sources with z-spec in file 82: 75\n",
      "Number of sources with z-spec in file 154: 47\n",
      "Number of sources with z-spec in file 165: 56\n",
      "Number of sources with z-spec in file 282: 40\n",
      "Number of sources with z-spec in file 11: 112\n",
      "Number of sources with z-spec in file 220: 88\n"
     ]
    }
   ],
   "source": [
    "for tile in file_list:\n",
    "        \n",
    "    file_num = tile.split('_')[4].split('.')[0]\n",
    "    best_catalogue = Table.read(tile)\n",
    "    optnir = ((best_catalogue['flag_optnir_det'] == 3) \n",
    "          | (best_catalogue['flag_optnir_det'] == 7))\n",
    "    \n",
    "    best_catalogue = best_catalogue[optnir]\n",
    "\n",
    "\n",
    "    best_catalogue = best_catalogue[~np.isnan(best_catalogue[\"zspec\"])]\n",
    "    best_catalogue[\"zspec\"].name = \"redshift\"\n",
    "\n",
    "    print(\"Number of sources with z-spec in file {}: {}\".format(file_num, len(best_catalogue)))\n",
    "\n",
    "    # Correction for galactic extinction\n",
    "    best_catalogue = correct_galactic_extinction(best_catalogue, inplace=True)\n",
    "\n",
    "    # Convertion to CIGALE format\n",
    "\n",
    "    best_catalogue = convert_table_for_cigale(best_catalogue, inplace=True, remove_zerofluxes=True)\n",
    "\n",
    "    remove_unneeded_fluxes(g_bands)\n",
    "    remove_unneeded_fluxes(u_bands)\n",
    "    remove_unneeded_fluxes(r_bands)\n",
    "    remove_unneeded_fluxes(i_bands)\n",
    "    remove_unneeded_fluxes(z_bands)\n",
    "    remove_unneeded_fluxes(y_bands)\n",
    "\n",
    "\n",
    "    best_catalogue.write(\"data_tmp/tiles/SGP_cigale_optnir_extcor_zspec_{}_{}.fits\".format(SUFFIX, file_num), overwrite=True)"
   ]
  }
 ],
 "metadata": {
  "kernelspec": {
   "display_name": "Python (herschelhelp_internal)",
   "language": "python",
   "name": "helpint"
  },
  "language_info": {
   "codemirror_mode": {
    "name": "ipython",
    "version": 3
   },
   "file_extension": ".py",
   "mimetype": "text/x-python",
   "name": "python",
   "nbconvert_exporter": "python",
   "pygments_lexer": "ipython3",
   "version": "3.6.4"
  }
 },
 "nbformat": 4,
 "nbformat_minor": 2
}
