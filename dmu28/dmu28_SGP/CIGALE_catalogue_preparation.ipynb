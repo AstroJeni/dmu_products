{
 "cells": [
  {
   "cell_type": "markdown",
   "metadata": {},
   "source": [
    "This notebook prepare the catalogues that will be analysed by CIGALE for SED fitting and physical parameter estimation."
   ]
  },
  {
   "cell_type": "code",
   "execution_count": 1,
   "metadata": {
    "collapsed": true
   },
   "outputs": [],
   "source": [
    "import numpy as np\n",
    "import os\n",
    "os.environ['LOG_LEVEL'] = 'INFO'\n",
    "import glob\n",
    "from astropy.table import Table\n",
    "\n",
    "from herschelhelp.filters import correct_galactic_extinction\n",
    "from herschelhelp.external import convert_table_for_cigale"
   ]
  },
  {
   "cell_type": "code",
   "execution_count": 2,
   "metadata": {
    "collapsed": true
   },
   "outputs": [],
   "source": [
    "SUFFIX = '20180221'\n",
    "file_list = glob.glob('../../dmu32/dmu32_SGP/data/tiles/sgp_{}_cigale_*.fits'.format(SUFFIX))"
   ]
  },
  {
   "cell_type": "code",
   "execution_count": 3,
   "metadata": {
    "collapsed": true
   },
   "outputs": [],
   "source": [
    "#len(master_catalogue)"
   ]
  },
  {
   "cell_type": "markdown",
   "metadata": {},
   "source": [
    "# Best sources\n",
    "\n",
    "Define a good far-IR measurement as:\n",
    "- an existing flux in the band;\n",
    "- the flag from XID+ must not be set;\n",
    "- the signal to noise ratio must be over 2."
   ]
  },
  {
   "cell_type": "code",
   "execution_count": 4,
   "metadata": {
    "collapsed": true
   },
   "outputs": [],
   "source": [
    "# good = {}\n",
    "# for band in ['pacs_green', 'pacs_red', 'spire_250', 'spire_350', 'spire_500']:\n",
    "#     good[band] = (~np.isnan(master_catalogue['f_{}'.format(band)]) & \n",
    "#                                    ~master_catalogue['flag_{}'.format(band)])\n",
    "#     good[band][good[band]] &= (master_catalogue[good[band]]['f_{}'.format(band)] /\n",
    "#                               master_catalogue[good[band]]['ferr_{}'.format(band)] >= 2)"
   ]
  },
  {
   "cell_type": "markdown",
   "metadata": {},
   "source": [
    "We will keep only sources with at leat 2 good far-IR measurements (we may actually use less sources are not all may have a redshift)."
   ]
  },
  {
   "cell_type": "code",
   "execution_count": 5,
   "metadata": {
    "collapsed": true
   },
   "outputs": [],
   "source": [
    "# combined_good = np.sum(list(good.values()), axis=0) >= 2"
   ]
  },
  {
   "cell_type": "code",
   "execution_count": 6,
   "metadata": {
    "collapsed": true
   },
   "outputs": [],
   "source": [
    "# print(\"Number of good sources: {}\".format(np.sum(combined_good)))"
   ]
  },
  {
   "cell_type": "markdown",
   "metadata": {},
   "source": [
    "# Main catalogue for CIGALE"
   ]
  },
  {
   "cell_type": "code",
   "execution_count": 7,
   "metadata": {
    "collapsed": true
   },
   "outputs": [],
   "source": [
    "# best_catalogue = master_catalogue[combined_good].copy()"
   ]
  },
  {
   "cell_type": "code",
   "execution_count": 8,
   "metadata": {
    "collapsed": true
   },
   "outputs": [],
   "source": [
    "# # Correction for galactic extinction\n",
    "# best_catalogue = correct_galactic_extinction(best_catalogue, inplace=True)"
   ]
  },
  {
   "cell_type": "code",
   "execution_count": 9,
   "metadata": {
    "collapsed": true,
    "scrolled": false
   },
   "outputs": [],
   "source": [
    "# # Convertion to CIGALE format\n",
    "# best_catalogue = convert_table_for_cigale(best_catalogue, inplace=True, remove_zerofluxes=True)"
   ]
  },
  {
   "cell_type": "markdown",
   "metadata": {},
   "source": [
    "## Band selection\n",
    "\n",
    "We want to use only one filter for similar bands. We define an order of preference and set to NaN the flux in the lower prefered bands when a prefered band is available. Some band may have a 0 flux, we set there values to NaN."
   ]
  },
  {
   "cell_type": "code",
   "execution_count": 10,
   "metadata": {
    "collapsed": true
   },
   "outputs": [],
   "source": [
    "u_bands = [\"omegacam_u\"]\n",
    "g_bands = [\"omegacam_g\", \"decam_g\",            \"gpc1_g\"]\n",
    "r_bands = [\"omegacam_r\", \"decam_r\",            \"gpc1_r\"]\n",
    "i_bands = [\"omegacam_i\", \"decam_i\",            \"gpc1_i\"]\n",
    "z_bands = [              \"decam_z\", \"vista_z\", \"gpc1_z\"]\n",
    "y_bands = [              \"decam_y\", \"vista_y\", \"gpc1_y\"]\n",
    "\n",
    "def remove_unneeded_fluxes(list_of_bands):\n",
    "    for band_idx, band in enumerate(list_of_bands[:-1]):\n",
    "        mask = ~np.isnan(best_catalogue[band])\n",
    "        for lower_band in list_of_bands[band_idx+1:]:\n",
    "            best_catalogue[lower_band][mask] = np.nan\n",
    "            best_catalogue[\"{}_err\".format(lower_band)][mask] = np.nan"
   ]
  },
  {
   "cell_type": "code",
   "execution_count": 11,
   "metadata": {
    "collapsed": true
   },
   "outputs": [],
   "source": [
    "# remove_unneeded_fluxes(g_bands)\n",
    "# remove_unneeded_fluxes(u_bands)\n",
    "# remove_unneeded_fluxes(r_bands)\n",
    "# remove_unneeded_fluxes(i_bands)\n",
    "# remove_unneeded_fluxes(z_bands)\n",
    "# remove_unneeded_fluxes(y_bands)"
   ]
  },
  {
   "cell_type": "code",
   "execution_count": 12,
   "metadata": {
    "collapsed": true
   },
   "outputs": [],
   "source": [
    "#best_catalogue.write(\"data_tmp/CDFS-SWIRE_cigale_best_extcor_20180129.fits\")"
   ]
  },
  {
   "cell_type": "markdown",
   "metadata": {},
   "source": [
    "# Catalogue using spectroscopic redshift"
   ]
  },
  {
   "cell_type": "code",
   "execution_count": 13,
   "metadata": {
    "collapsed": true
   },
   "outputs": [
    {
     "name": "stdout",
     "output_type": "stream",
     "text": [
      "Number of sources with z-spec in file 265: 88\n",
      "Number of sources with z-spec in file 54: 79\n",
      "Number of sources with z-spec in file 182: 121\n",
      "Number of sources with z-spec in file 120: 134\n",
      "Number of sources with z-spec in file 111: 169\n",
      "Number of sources with z-spec in file 254: 53\n",
      "Number of sources with z-spec in file 65: 153\n",
      "Number of sources with z-spec in file 173: 63\n",
      "Number of sources with z-spec in file 294: 236\n",
      "Number of sources with z-spec in file 138: 135\n",
      "Number of sources with z-spec in file 236: 110\n",
      "Number of sources with z-spec in file 36: 158\n",
      "Number of sources with z-spec in file 207: 110\n",
      "Number of sources with z-spec in file 109: 158\n",
      "Number of sources with z-spec in file 94: 141\n",
      "Number of sources with z-spec in file 142: 132\n",
      "Number of sources with z-spec in file 9: 106\n",
      "Number of sources with z-spec in file 115: 149\n",
      "Number of sources with z-spec in file 88: 158\n",
      "Number of sources with z-spec in file 61: 88\n",
      "Number of sources with z-spec in file 250: 96\n",
      "Number of sources with z-spec in file 186: 103\n",
      "Number of sources with z-spec in file 50: 104\n",
      "Number of sources with z-spec in file 261: 124\n",
      "Number of sources with z-spec in file 124: 172\n",
      "Number of sources with z-spec in file 288: 127\n",
      "Number of sources with z-spec in file 248: 98\n",
      "Number of sources with z-spec in file 79: 133\n",
      "Number of sources with z-spec in file 203: 83\n",
      "Number of sources with z-spec in file 32: 155\n",
      "Number of sources with z-spec in file 146: 111\n",
      "Number of sources with z-spec in file 90: 145\n",
      "Number of sources with z-spec in file 290: 195\n",
      "Number of sources with z-spec in file 177: 67\n",
      "Number of sources with z-spec in file 232: 175\n",
      "Number of sources with z-spec in file 279: 35\n",
      "Number of sources with z-spec in file 48: 126\n",
      "Number of sources with z-spec in file 130: 164\n",
      "Number of sources with z-spec in file 192: 89\n",
      "Number of sources with z-spec in file 44: 132\n",
      "Number of sources with z-spec in file 275: 52\n",
      "Number of sources with z-spec in file 75: 123\n",
      "Number of sources with z-spec in file 244: 124\n",
      "Number of sources with z-spec in file 1: 118\n",
      "Number of sources with z-spec in file 101: 179\n",
      "Number of sources with z-spec in file 226: 88\n",
      "Number of sources with z-spec in file 17: 91\n",
      "Number of sources with z-spec in file 128: 113\n",
      "Number of sources with z-spec in file 284: 40\n",
      "Number of sources with z-spec in file 163: 96\n",
      "Number of sources with z-spec in file 152: 94\n",
      "Number of sources with z-spec in file 84: 104\n",
      "Number of sources with z-spec in file 119: 103\n",
      "Number of sources with z-spec in file 217: 123\n",
      "Number of sources with z-spec in file 26: 173\n",
      "Number of sources with z-spec in file 240: 103\n",
      "Number of sources with z-spec in file 71: 146\n",
      "Number of sources with z-spec in file 5: 87\n",
      "Number of sources with z-spec in file 98: 127\n",
      "Number of sources with z-spec in file 105: 127\n",
      "Number of sources with z-spec in file 134: 121\n",
      "Number of sources with z-spec in file 271: 45\n",
      "Number of sources with z-spec in file 40: 154\n",
      "Number of sources with z-spec in file 196: 153\n",
      "Number of sources with z-spec in file 80: 128\n",
      "Number of sources with z-spec in file 156: 132\n",
      "Number of sources with z-spec in file 22: 53\n",
      "Number of sources with z-spec in file 213: 116\n",
      "Number of sources with z-spec in file 69: 104\n",
      "Number of sources with z-spec in file 258: 114\n",
      "Number of sources with z-spec in file 58: 65\n",
      "Number of sources with z-spec in file 269: 40\n",
      "Number of sources with z-spec in file 13: 142\n",
      "Number of sources with z-spec in file 222: 101\n",
      "Number of sources with z-spec in file 167: 46\n",
      "Number of sources with z-spec in file 280: 44\n",
      "Number of sources with z-spec in file 131: 171\n",
      "Number of sources with z-spec in file 45: 128\n",
      "Number of sources with z-spec in file 274: 24\n",
      "Number of sources with z-spec in file 193: 110\n",
      "Number of sources with z-spec in file 74: 138\n",
      "Number of sources with z-spec in file 245: 107\n",
      "Number of sources with z-spec in file 100: 122\n",
      "Number of sources with z-spec in file 0: 159\n",
      "Number of sources with z-spec in file 227: 104\n",
      "Number of sources with z-spec in file 16: 117\n",
      "Number of sources with z-spec in file 162: 76\n",
      "Number of sources with z-spec in file 129: 129\n",
      "Number of sources with z-spec in file 285: 71\n",
      "Number of sources with z-spec in file 85: 104\n",
      "Number of sources with z-spec in file 118: 134\n",
      "Number of sources with z-spec in file 153: 116\n",
      "Number of sources with z-spec in file 216: 92\n",
      "Number of sources with z-spec in file 27: 180\n",
      "Number of sources with z-spec in file 241: 90\n",
      "Number of sources with z-spec in file 70: 118\n",
      "Number of sources with z-spec in file 99: 114\n",
      "Number of sources with z-spec in file 104: 169\n"
     ]
    },
    {
     "name": "stderr",
     "output_type": "stream",
     "text": [
      "INFO:herschelhelp.external:For 1 sources, the band omegacam_u should not be used because it overlaps or is below the Lyman limit at the redshift of these sources. These fluxes were set to NaN.\n"
     ]
    },
    {
     "name": "stdout",
     "output_type": "stream",
     "text": [
      "Number of sources with z-spec in file 4: 110\n",
      "Number of sources with z-spec in file 135: 133\n",
      "Number of sources with z-spec in file 197: 184\n",
      "Number of sources with z-spec in file 270: 40\n",
      "Number of sources with z-spec in file 41: 150\n",
      "Number of sources with z-spec in file 157: 126\n",
      "Number of sources with z-spec in file 81: 166\n",
      "Number of sources with z-spec in file 68: 92\n",
      "Number of sources with z-spec in file 259: 73\n",
      "Number of sources with z-spec in file 23: 107\n",
      "Number of sources with z-spec in file 212: 77\n",
      "Number of sources with z-spec in file 12: 123\n",
      "Number of sources with z-spec in file 223: 108\n",
      "Number of sources with z-spec in file 59: 64\n",
      "Number of sources with z-spec in file 268: 126\n",
      "Number of sources with z-spec in file 281: 48\n",
      "Number of sources with z-spec in file 166: 69\n",
      "Number of sources with z-spec in file 183: 129\n",
      "Number of sources with z-spec in file 264: 93\n",
      "Number of sources with z-spec in file 55: 84\n",
      "Number of sources with z-spec in file 121: 131\n",
      "Number of sources with z-spec in file 110: 129\n",
      "Number of sources with z-spec in file 255: 59\n",
      "Number of sources with z-spec in file 64: 169\n",
      "Number of sources with z-spec in file 295: 187\n",
      "Number of sources with z-spec in file 139: 147\n",
      "Number of sources with z-spec in file 172: 80\n",
      "Number of sources with z-spec in file 237: 89\n",
      "Number of sources with z-spec in file 37: 137\n",
      "Number of sources with z-spec in file 206: 104\n",
      "Number of sources with z-spec in file 8: 78\n",
      "Number of sources with z-spec in file 143: 160\n",
      "Number of sources with z-spec in file 108: 148\n",
      "Number of sources with z-spec in file 95: 145\n",
      "Number of sources with z-spec in file 114: 151\n",
      "Number of sources with z-spec in file 89: 149\n",
      "Number of sources with z-spec in file 60: 130\n",
      "Number of sources with z-spec in file 251: 82\n",
      "Number of sources with z-spec in file 51: 88\n",
      "Number of sources with z-spec in file 260: 105\n",
      "Number of sources with z-spec in file 187: 104\n",
      "Number of sources with z-spec in file 125: 161\n",
      "Number of sources with z-spec in file 289: 155\n",
      "Number of sources with z-spec in file 202: 106\n",
      "Number of sources with z-spec in file 33: 109\n",
      "Number of sources with z-spec in file 249: 101\n",
      "Number of sources with z-spec in file 78: 150\n",
      "Number of sources with z-spec in file 91: 101\n",
      "Number of sources with z-spec in file 147: 71\n",
      "Number of sources with z-spec in file 176: 66\n",
      "Number of sources with z-spec in file 291: 191\n",
      "Number of sources with z-spec in file 278: 46\n",
      "Number of sources with z-spec in file 49: 122\n",
      "Number of sources with z-spec in file 233: 152\n",
      "Number of sources with z-spec in file 47: 128\n",
      "Number of sources with z-spec in file 276: 63\n",
      "Number of sources with z-spec in file 191: 97\n",
      "Number of sources with z-spec in file 178: 70\n",
      "Number of sources with z-spec in file 133: 176\n",
      "Number of sources with z-spec in file 2: 140\n",
      "Number of sources with z-spec in file 102: 136\n",
      "Number of sources with z-spec in file 149: 93\n",
      "Number of sources with z-spec in file 76: 116\n",
      "Number of sources with z-spec in file 247: 102\n",
      "Number of sources with z-spec in file 160: 77\n",
      "Number of sources with z-spec in file 287: 67\n",
      "Number of sources with z-spec in file 225: 114\n",
      "Number of sources with z-spec in file 189: 88\n",
      "Number of sources with z-spec in file 14: 156\n",
      "Number of sources with z-spec in file 214: 91\n",
      "Number of sources with z-spec in file 25: 173\n",
      "Number of sources with z-spec in file 87: 148\n",
      "Number of sources with z-spec in file 151: 111\n",
      "Number of sources with z-spec in file 6: 94\n",
      "Number of sources with z-spec in file 106: 126\n",
      "Number of sources with z-spec in file 243: 123\n",
      "Number of sources with z-spec in file 72: 150\n",
      "Number of sources with z-spec in file 208: 104\n",
      "Number of sources with z-spec in file 39: 133\n",
      "Number of sources with z-spec in file 195: 139\n",
      "Number of sources with z-spec in file 239: 86\n",
      "Number of sources with z-spec in file 272: 33\n",
      "Number of sources with z-spec in file 43: 106\n",
      "Number of sources with z-spec in file 137: 166\n",
      "Number of sources with z-spec in file 21: 96\n",
      "Number of sources with z-spec in file 210: 78\n",
      "Number of sources with z-spec in file 155: 160\n",
      "Number of sources with z-spec in file 83: 143\n",
      "Number of sources with z-spec in file 283: 42\n",
      "Number of sources with z-spec in file 164: 59\n",
      "Number of sources with z-spec in file 10: 118\n",
      "Number of sources with z-spec in file 221: 91\n",
      "Number of sources with z-spec in file 123: 127\n",
      "Number of sources with z-spec in file 168: 48\n",
      "Number of sources with z-spec in file 181: 91\n",
      "Number of sources with z-spec in file 266: 83\n",
      "Number of sources with z-spec in file 57: 102\n",
      "Number of sources with z-spec in file 257: 78\n",
      "Number of sources with z-spec in file 66: 101\n",
      "Number of sources with z-spec in file 159: 92\n",
      "Number of sources with z-spec in file 112: 144\n",
      "Number of sources with z-spec in file 199: 142\n",
      "Number of sources with z-spec in file 235: 77\n",
      "Number of sources with z-spec in file 297: 152\n",
      "Number of sources with z-spec in file 170: 56\n",
      "Number of sources with z-spec in file 141: 146\n",
      "Number of sources with z-spec in file 97: 116\n",
      "Number of sources with z-spec in file 35: 142\n",
      "Number of sources with z-spec in file 204: 93\n",
      "Number of sources with z-spec in file 29: 152\n",
      "Number of sources with z-spec in file 218: 135\n",
      "Number of sources with z-spec in file 62: 79\n",
      "Number of sources with z-spec in file 253: 79\n",
      "Number of sources with z-spec in file 116: 179\n",
      "Number of sources with z-spec in file 127: 141\n",
      "Number of sources with z-spec in file 53: 128\n",
      "Number of sources with z-spec in file 262: 135\n",
      "Number of sources with z-spec in file 18: 92\n",
      "Number of sources with z-spec in file 229: 151\n",
      "Number of sources with z-spec in file 185: 98\n",
      "Number of sources with z-spec in file 93: 127\n",
      "Number of sources with z-spec in file 145: 149\n",
      "Number of sources with z-spec in file 200: 159\n",
      "Number of sources with z-spec in file 31: 150\n",
      "Number of sources with z-spec in file 231: 195\n",
      "Number of sources with z-spec in file 174: 79\n",
      "Number of sources with z-spec in file 293: 250\n",
      "Number of sources with z-spec in file 169: 81\n",
      "Number of sources with z-spec in file 122: 144\n",
      "Number of sources with z-spec in file 267: 87\n",
      "Number of sources with z-spec in file 56: 124\n",
      "Number of sources with z-spec in file 180: 81\n",
      "Number of sources with z-spec in file 256: 62\n",
      "Number of sources with z-spec in file 67: 113\n",
      "Number of sources with z-spec in file 113: 161\n",
      "Number of sources with z-spec in file 158: 146\n",
      "Number of sources with z-spec in file 198: 151\n",
      "Number of sources with z-spec in file 234: 91\n",
      "Number of sources with z-spec in file 171: 71\n",
      "Number of sources with z-spec in file 296: 235\n",
      "Number of sources with z-spec in file 96: 140\n",
      "Number of sources with z-spec in file 140: 138\n",
      "Number of sources with z-spec in file 34: 158\n",
      "Number of sources with z-spec in file 205: 99\n",
      "Number of sources with z-spec in file 63: 181\n",
      "Number of sources with z-spec in file 252: 98\n",
      "Number of sources with z-spec in file 28: 136\n",
      "Number of sources with z-spec in file 219: 123\n",
      "Number of sources with z-spec in file 117: 137\n",
      "Number of sources with z-spec in file 126: 174\n",
      "Number of sources with z-spec in file 19: 154\n",
      "Number of sources with z-spec in file 228: 149\n",
      "Number of sources with z-spec in file 184: 146\n",
      "Number of sources with z-spec in file 52: 90\n",
      "Number of sources with z-spec in file 263: 99\n",
      "Number of sources with z-spec in file 144: 126\n",
      "Number of sources with z-spec in file 92: 98\n",
      "Number of sources with z-spec in file 201: 118\n",
      "Number of sources with z-spec in file 30: 137\n",
      "Number of sources with z-spec in file 230: 166\n",
      "Number of sources with z-spec in file 292: 231\n",
      "Number of sources with z-spec in file 175: 54\n",
      "Number of sources with z-spec in file 190: 93\n",
      "Number of sources with z-spec in file 46: 139\n",
      "Number of sources with z-spec in file 277: 37\n",
      "Number of sources with z-spec in file 132: 215\n",
      "Number of sources with z-spec in file 179: 71\n",
      "Number of sources with z-spec in file 148: 89\n",
      "Number of sources with z-spec in file 103: 153\n",
      "Number of sources with z-spec in file 3: 108\n",
      "Number of sources with z-spec in file 77: 100\n",
      "Number of sources with z-spec in file 246: 120\n",
      "Number of sources with z-spec in file 286: 46\n",
      "Number of sources with z-spec in file 161: 119\n",
      "Number of sources with z-spec in file 224: 113\n",
      "Number of sources with z-spec in file 188: 107\n",
      "Number of sources with z-spec in file 15: 170\n",
      "Number of sources with z-spec in file 215: 107\n",
      "Number of sources with z-spec in file 24: 139\n",
      "Number of sources with z-spec in file 150: 165\n",
      "Number of sources with z-spec in file 86: 161\n",
      "Number of sources with z-spec in file 107: 154\n",
      "Number of sources with z-spec in file 7: 84\n",
      "Number of sources with z-spec in file 209: 115\n",
      "Number of sources with z-spec in file 38: 138\n",
      "Number of sources with z-spec in file 242: 93\n",
      "Number of sources with z-spec in file 73: 97\n",
      "Number of sources with z-spec in file 273: 41\n",
      "Number of sources with z-spec in file 42: 125\n",
      "Number of sources with z-spec in file 194: 103\n",
      "Number of sources with z-spec in file 238: 96\n",
      "Number of sources with z-spec in file 136: 134\n",
      "Number of sources with z-spec in file 20: 90\n",
      "Number of sources with z-spec in file 211: 66\n",
      "Number of sources with z-spec in file 82: 173\n",
      "Number of sources with z-spec in file 154: 159\n",
      "Number of sources with z-spec in file 165: 87\n",
      "Number of sources with z-spec in file 282: 61\n",
      "Number of sources with z-spec in file 11: 160\n",
      "Number of sources with z-spec in file 220: 127\n"
     ]
    }
   ],
   "source": [
    "for tile in file_list:\n",
    "        \n",
    "    file_num = tile.split('_')[4].split('.')[0]\n",
    "    best_catalogue = Table.read(tile)\n",
    "\n",
    "\n",
    "\n",
    "    best_catalogue = best_catalogue[~np.isnan(best_catalogue[\"zspec\"])]\n",
    "    best_catalogue[\"zspec\"].name = \"redshift\"\n",
    "\n",
    "    print(\"Number of sources with z-spec in file {}: {}\".format(file_num, len(best_catalogue)))\n",
    "\n",
    "    # Correction for galactic extinction\n",
    "    best_catalogue = correct_galactic_extinction(best_catalogue, inplace=True)\n",
    "\n",
    "    # Convertion to CIGALE format\n",
    "\n",
    "    best_catalogue = convert_table_for_cigale(best_catalogue, inplace=True, remove_zerofluxes=True)\n",
    "\n",
    "    remove_unneeded_fluxes(g_bands)\n",
    "    remove_unneeded_fluxes(u_bands)\n",
    "    remove_unneeded_fluxes(r_bands)\n",
    "    remove_unneeded_fluxes(i_bands)\n",
    "    remove_unneeded_fluxes(z_bands)\n",
    "    remove_unneeded_fluxes(y_bands)\n",
    "\n",
    "\n",
    "    best_catalogue.write(\"data_tmp/tiles/SGP_cigale_optnir_extcor_zspec_{}_{}.fits\".format(SUFFIX, file_num), overwrite=True)"
   ]
  }
 ],
 "metadata": {
  "kernelspec": {
   "display_name": "Python (herschelhelp_internal)",
   "language": "python",
   "name": "helpint"
  },
  "language_info": {
   "codemirror_mode": {
    "name": "ipython",
    "version": 3
   },
   "file_extension": ".py",
   "mimetype": "text/x-python",
   "name": "python",
   "nbconvert_exporter": "python",
   "pygments_lexer": "ipython3",
   "version": "3.6.1"
  }
 },
 "nbformat": 4,
 "nbformat_minor": 2
}
