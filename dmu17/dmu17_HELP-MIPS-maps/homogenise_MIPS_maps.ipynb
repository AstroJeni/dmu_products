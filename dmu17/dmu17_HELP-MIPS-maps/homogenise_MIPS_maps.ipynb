{
 "cells": [
  {
   "cell_type": "markdown",
   "metadata": {},
   "source": [
    "<h1> SEIP MIPS map homogenisation</h1>\n",
    "\n",
    "<img src=https://avatars1.githubusercontent.com/u/7880370?s=200&v=4>\n",
    "\n",
    "These MIPS maps have ben produced by IPAC. This code takes the individual image files and adds them into a single multi-layered fits files to have the homogeneous HELP format.  This code was adapted from code used for SPIRE homogenisaton (Yannick Roehlly) and in turn adapted for PACS data (Peter Hurely). \n",
    "\n",
    "<h2> Caveats</h2>\n",
    "* Although many of the longer wavelength MIPS maps are available I've only run this on the MIPS 24micron maps at the moment\n",
    "* Some of the SEIP maps may not have successfully down-loaded, this hasn't been checked\n",
    "* only puts in image, error and coverage files (and adds blank PSF extension)\n",
    "\n",
    "<hr>\n",
    "\n",
    "Seb Oliver 28-March-2018"
   ]
  },
  {
   "cell_type": "markdown",
   "metadata": {},
   "source": [
    "<h2> Guide</h2>\n",
    "<h3>Steps: </h3>\n",
    "* Obtain list of fields from sub-folders\n",
    "for each field:\n",
    "* read in coverage, image and noise\n",
    "* attach meta data\n",
    "* create PSF extension\n",
    "* Save out\n",
    "\n",
    "<h3>Things you may wish to edit</h3>\n",
    "* You'll need to change the folder path in the 2nd code block to point you where the files are in your system\n",
    "* Add in a specifc field (or switch to wild chracter) in the path to pick field(s)\n",
    "* change the 1.mosaic pattern to 2.mosaic for MIPS 70 micron or 3.mosaic for MIPS 160.\n",
    "* read in more of the available files and add as additional extensions"
   ]
  },
  {
   "cell_type": "code",
   "execution_count": 1,
   "metadata": {
    "collapsed": true
   },
   "outputs": [],
   "source": [
    "from datetime import datetime\n",
    "from itertools import product\n",
    "import glob\n",
    "\n",
    "import numpy as np\n",
    "import astropy as astropy\n",
    "\n",
    "from astropy.io import fits\n",
    "from astropy.table import Table\n",
    "from astropy import wcs\n",
    "VERSION = \"0.9\""
   ]
  },
  {
   "cell_type": "code",
   "execution_count": 2,
   "metadata": {
    "collapsed": true
   },
   "outputs": [],
   "source": [
    "field_specified='HDF-N' # could use wild cards e.g. * would do all the fields\n",
    "mainfolder='/Volumes/Seagate Backup Plus Drive/HELP/mips_fields'\n",
    "moc_dir='/Volumes/Seagate Backup Plus Drive/HELP/dmu_products/dmu2/dmu2_field_coverages/'\n",
    "\n",
    "mainfolder='/Users/sjo/Data/SEIP/mips_fields'\n",
    "moc_dir='/Users/sjo/Data/dmu2_field_coverages/'"
   ]
  },
  {
   "cell_type": "code",
   "execution_count": 3,
   "metadata": {
    "collapsed": true
   },
   "outputs": [],
   "source": [
    "# finding all the SEIP mosaic files (other files should be there if the mosaic file is)\n",
    "filelist= glob.glob(f\"{mainfolder}/{field_specified}/*1.mosaic.fits\", recursive=True)"
   ]
  },
  {
   "cell_type": "code",
   "execution_count": 4,
   "metadata": {},
   "outputs": [
    {
     "name": "stdout",
     "output_type": "stream",
     "text": [
      "Filename: /Users/sjo/Data/SEIP/mips_fields/mosaic_tiles_HDF-N.fits\n",
      "No.    Name      Ver    Type      Cards   Dimensions   Format\n",
      "  0  PRIMARY       1 PrimaryHDU       4   ()      \n",
      "  1  mosaic_tiles.cat    1 BinTableHDU    104   28R x 37C   [J, 20A, 4A, I, J, D, D, D, D, D, D, D, I, J, I, I, I, I, 22A, 29A, D, D, D, D, D, D, D, D, D, D, E, D, 5A, L, 143A, 44A, L]   \n",
      "XTENSION= 'BINTABLE'           / binary table extension                         \n",
      "BITPIX  =                    8 / 8-bit bytes                                    \n",
      "NAXIS   =                    2 / 2-dimensional table                            \n",
      "NAXIS1  =                  441 / width of table in bytes                        \n",
      "NAXIS2  =                   28 / number of rows in table                        \n",
      "PCOUNT  =                    0 / size of special data area                      \n",
      "GCOUNT  =                    1 / one data group                                 \n",
      "TFIELDS =                   37 / number of columns                              \n",
      "COMMENT                                                                         \n",
      "COMMENT  *** End of mandatory fields ***                                        \n",
      "COMMENT                                                                         \n",
      "EXTNAME = 'mosaic_tiles.cat'   / table name                                     \n",
      "COMMENT                                                                         \n",
      "COMMENT  *** Column names ***                                                   \n",
      "COMMENT                                                                         \n",
      "TTYPE1  = 'SMID    '           / label for column 1                             \n",
      "COMMENT                                                                         \n",
      "COMMENT  *** Column formats ***                                                 \n",
      "COMMENT                                                                         \n",
      "TFORM1  = 'J       '           / format for column 1                            \n",
      "TNULL1  =          -2147483648 / blank value for column 1                       \n",
      "TTYPE2  = 'REGID   '           / label for column 2                             \n",
      "TFORM2  = '20A     '           / format for column 2                            \n",
      "TTYPE3  = 'TYPE    '           / label for column 3                             \n",
      "TFORM3  = '4A      '           / format for column 3                            \n",
      "TTYPE4  = 'CH      '           / label for column 4                             \n",
      "TFORM4  = 'I       '           / format for column 4                            \n",
      "TNULL4  =               -32768 / blank value for column 4                       \n",
      "TTYPE5  = 'NDCE    '           / label for column 5                             \n",
      "TFORM5  = 'J       '           / format for column 5                            \n",
      "TNULL5  =          -2147483648 / blank value for column 5                       \n",
      "TTYPE6  = 'AREA    '           / label for column 6                             \n",
      "TFORM6  = 'D       '           / format for column 6                            \n",
      "TTYPE7  = 'RACEN   '           / label for column 7                             \n",
      "TFORM7  = 'D       '           / format for column 7                            \n",
      "TTYPE8  = 'DECCEN  '           / label for column 8                             \n",
      "TFORM8  = 'D       '           / format for column 8                            \n",
      "TTYPE9  = 'X1_0_   '           / label for column 9                             \n",
      "TFORM9  = 'D       '           / format for column 9                            \n",
      "TTYPE10 = 'X1_1_   '           / label for column 10                            \n",
      "TFORM10 = 'D       '           / format for column 10                           \n",
      "TTYPE11 = 'X2_0_   '           / label for column 11                            \n",
      "TFORM11 = 'D       '           / format for column 11                           \n",
      "TTYPE12 = 'X2_1_   '           / label for column 12                            \n",
      "TFORM12 = 'D       '           / format for column 12                           \n",
      "TTYPE13 = 'GROUP   '           / label for column 13                            \n",
      "TFORM13 = 'I       '           / format for column 13                           \n",
      "TNULL13 =               -32768 / blank value for column 13                      \n",
      "TTYPE14 = 'NTILE   '           / label for column 14                            \n",
      "TFORM14 = 'J       '           / format for column 14                           \n",
      "TNULL14 =          -2147483648 / blank value for column 14                      \n",
      "TTYPE15 = 'TPATTERN_0_'        / label for column 15                            \n",
      "TFORM15 = 'I       '           / format for column 15                           \n",
      "TNULL15 =               -32768 / blank value for column 15                      \n",
      "TTYPE16 = 'TPATTERN_1_'        / label for column 16                            \n",
      "TFORM16 = 'I       '           / format for column 16                           \n",
      "TNULL16 =               -32768 / blank value for column 16                      \n",
      "TTYPE17 = 'XT_0_   '           / label for column 17                            \n",
      "TFORM17 = 'I       '           / format for column 17                           \n",
      "TNULL17 =               -32768 / blank value for column 17                      \n",
      "TTYPE18 = 'XT_1_   '           / label for column 18                            \n",
      "TFORM18 = 'I       '           / format for column 18                           \n",
      "TNULL18 =               -32768 / blank value for column 18                      \n",
      "TTYPE19 = 'OLNL    '           / label for column 19                            \n",
      "TFORM19 = '22A     '           / format for column 19                           \n",
      "TTYPE20 = 'MNL     '           / label for column 20                            \n",
      "TFORM20 = '29A     '           / format for column 20                           \n",
      "TTYPE21 = 'MJD_START'          / label for column 21                            \n",
      "TFORM21 = 'D       '           / format for column 21                           \n",
      "TTYPE22 = 'MJD_MEAN'           / label for column 22                            \n",
      "TFORM22 = 'D       '           / format for column 22                           \n",
      "TTYPE23 = 'MJD_MEDIAN'         / label for column 23                            \n",
      "TFORM23 = 'D       '           / format for column 23                           \n",
      "TTYPE24 = 'MJD_END '           / label for column 24                            \n",
      "TFORM24 = 'D       '           / format for column 24                           \n",
      "TTYPE25 = 'COVERAGE'           / label for column 25                            \n",
      "TFORM25 = 'D       '           / format for column 25                           \n",
      "TTYPE26 = 'EXPTIME '           / label for column 26                            \n",
      "TFORM26 = 'D       '           / format for column 26                           \n",
      "TTYPE27 = 'ISM     '           / label for column 27                            \n",
      "TFORM27 = 'D       '           / format for column 27                           \n",
      "TTYPE28 = 'ZODY    '           / label for column 28                            \n",
      "TFORM28 = 'D       '           / format for column 28                           \n",
      "TTYPE29 = 'ETMIN   '           / label for column 29                            \n",
      "TFORM29 = 'D       '           / format for column 29                           \n",
      "TTYPE30 = 'ETMAX   '           / label for column 30                            \n",
      "TFORM30 = 'D       '           / format for column 30                           \n",
      "TTYPE31 = 'MEDIANCOV'          / label for column 31                            \n",
      "TFORM31 = 'E       '           / format for column 31                           \n",
      "TTYPE32 = 'MEDIANEXP'          / label for column 32                            \n",
      "TFORM32 = 'D       '           / format for column 32                           \n",
      "TTYPE33 = 'FIELD   '           / label for column 33                            \n",
      "TFORM33 = '5A      '           / format for column 33                           \n",
      "TTYPE34 = 'INHELP  '           / label for column 34                            \n",
      "TFORM34 = 'L       '           / format for column 34                           \n",
      "TTYPE35 = 'IPAC_URL'           / label for column 35                            \n",
      "TFORM35 = '143A    '           / format for column 35                           \n",
      "TTYPE36 = 'FILE    '           / label for column 36                            \n",
      "TFORM36 = '44A     '           / format for column 36                           \n",
      "TTYPE37 = 'DOWNLOADED'         / label for column 37                            \n",
      "TFORM37 = 'L       '           / format for column 37                           \n",
      "DATE-HDU= '2018-03-29T11:46:56' / Date of HDU creation (UTC)                    \n",
      "STILVERS= '3.0-13  '           / Version of STIL software                       \n",
      "STILCLAS= 'uk.ac.starlink.votable.FitsPlusTableWriter' / Author class in STIL so\n"
     ]
    }
   ],
   "source": [
    "# opening the table of SEIP in which we will update some records\n",
    "seip_table = fits.open(f\"{mainfolder}/mosaic_tiles_{field_specified}.fits\", mode='update')\n",
    "seip_table.info()\n",
    "seip_hd=seip_table[1].header\n",
    "seip_data=seip_table[1].data\n",
    "print(repr(seip_hd))"
   ]
  },
  {
   "cell_type": "code",
   "execution_count": 5,
   "metadata": {},
   "outputs": [
    {
     "data": {
      "text/plain": [
       "(<function print>, chararray(['40044260.40044260-0.MIPS.1.mosaic.fits',\n",
       "            '40053870.40053870-0.IRAC.1.mosaic.fits',\n",
       "            '40053870.40053870-0.IRAC.2.mosaic.fits',\n",
       "            '40053870.40053870-0.IRAC.3.mosaic.fits',\n",
       "            '40053870.40053870-0.IRAC.4.mosaic.fits',\n",
       "            '50071640.50071640-0.IRAC.1.mosaic.fits',\n",
       "            '50071640.50071640-0-short.IRAC.1.mosaic.fits',\n",
       "            '50071640.50071640-0.IRAC.2.mosaic.fits',\n",
       "            '50071640.50071640-0-short.IRAC.2.mosaic.fits',\n",
       "            '50071640.50071640-0.IRAC.3.mosaic.fits',\n",
       "            '50071640.50071640-0-short.IRAC.3.mosaic.fits',\n",
       "            '50071640.50071640-0.IRAC.4.mosaic.fits',\n",
       "            '50071640.50071640-0-short.IRAC.4.mosaic.fits',\n",
       "            '50071640.50071640-0.MIPS.1.mosaic.fits',\n",
       "            '50071640.50071640-0.MIPS.2.mosaic.fits',\n",
       "            '50071640.50071640-0.MIPS.3.mosaic.fits',\n",
       "            '60087170.60087170-0.IRAC.1.mosaic.fits',\n",
       "            '60087170.60087170-0.IRAC.2.mosaic.fits',\n",
       "            '60087170.60087170-0.IRAC.3.mosaic.fits',\n",
       "            '60087170.60087170-0.IRAC.4.mosaic.fits',\n",
       "            '60087170.60087170-0.MIPS.1.mosaic.fits',\n",
       "            '70101860.70101860-0.IRAC.1.mosaic.fits',\n",
       "            '70101860.70101860-0.IRAC.2.mosaic.fits',\n",
       "            '70101860.70101860-0.IRAC.3.mosaic.fits',\n",
       "            '70101860.70101860-0.IRAC.4.mosaic.fits',\n",
       "            '70101860.70101860-0.MIPS.1.mosaic.fits',\n",
       "            '70101860.70101860-0.MIPS.2.mosaic.fits',\n",
       "            '70101860.70101860-0.MIPS.3.mosaic.fits'], dtype='<U44'))"
      ]
     },
     "execution_count": 5,
     "metadata": {},
     "output_type": "execute_result"
    }
   ],
   "source": [
    "print,seip_data.field('file')"
   ]
  },
  {
   "cell_type": "code",
   "execution_count": 6,
   "metadata": {},
   "outputs": [
    {
     "name": "stdout",
     "output_type": "stream",
     "text": [
      "['/Users/sjo/Data/SEIP/mips_fields/HDF-N/40044260.40044260-0.MIPS.1.mosaic.fits', '/Users/sjo/Data/SEIP/mips_fields/HDF-N/50071640.50071640-0.MIPS.1.mosaic.fits', '/Users/sjo/Data/SEIP/mips_fields/HDF-N/60087170.60087170-0.MIPS.1.mosaic.fits', '/Users/sjo/Data/SEIP/mips_fields/HDF-N/70101860.70101860-0.MIPS.1.mosaic.fits']\n"
     ]
    }
   ],
   "source": [
    "print(filelist)"
   ]
  },
  {
   "cell_type": "markdown",
   "metadata": {},
   "source": [
    "<h2> MOC libraries</h2>\n",
    "This next block of code comes from Peter Hurley's XID libraray and allows us to create a MOC from the error array\n"
   ]
  },
  {
   "cell_type": "code",
   "execution_count": 7,
   "metadata": {
    "collapsed": true
   },
   "outputs": [],
   "source": [
    "\n",
    "import pymoc as pymoc\n",
    "from pymoc import MOC\n",
    "from pymoc import io\n",
    "\n",
    "from healpy import pixelfunc\n",
    "from pymoc.util import catalog\n",
    "\n",
    "import numpy as np\n",
    "def get_HEALPix_pixels(order,ra,dec,unique=True):\n",
    "\n",
    "\n",
    "    \"\"\"Work out what HEALPix a source is in\n",
    "    :param order: order of HEALPix\n",
    "    :param ra: Right Ascension\n",
    "    :param dec: Declination\n",
    "    :param unique: if unique is true, removes duplicate pixels\n",
    "    :return: list of HEALPix pixels :rtype:\n",
    "    \"\"\"\n",
    "    HPX_D2R=np.pi/180.0\n",
    "    #Convert catalogue to polar co-ords in radians\n",
    "    phi = ra*HPX_D2R\n",
    "    theta = np.pi/2.0 - dec*HPX_D2R\n",
    "    #calculate what pixel each object is in\n",
    "    ipix = pixelfunc.ang2pix(2**order, theta, phi, nest=True)\n",
    "    #return unique pixels (i.e. remove duplicates)\n",
    "    if unique is True:\n",
    "        return np.unique(ipix)\n",
    "    else:\n",
    "        return ipix\n",
    "\n",
    "\n",
    "def create_MOC_from_map(good,wcs):\n",
    "    \"\"\"Generate MOC from map\n",
    "    :param good: boolean array associated with map\n",
    "    :param wcs: wcs information\n",
    "    :return: MOC :rtype: pymoc.MOC\n",
    "    \"\"\"\n",
    "    x_pix,y_pix=np.meshgrid(np.arange(0,wcs._naxis1),np.arange(0,wcs._naxis2))\n",
    "    ra,dec= wcs.wcs_pix2world(x_pix,y_pix,0)\n",
    "\n",
    "    pixels=get_HEALPix_pixels(15,ra[good],dec[good])\n",
    "    map_moc=MOC()\n",
    "    map_moc.add(15,pixels)\n",
    "    return map_moc\n"
   ]
  },
  {
   "cell_type": "code",
   "execution_count": 8,
   "metadata": {
    "collapsed": true
   },
   "outputs": [],
   "source": [
    "# setting up global MOCS\n",
    "\n",
    "# sum of all SEIP MOCS\n",
    "total_moc=MOC()\n"
   ]
  },
  {
   "cell_type": "code",
   "execution_count": 21,
   "metadata": {},
   "outputs": [
    {
     "name": "stdout",
     "output_type": "stream",
     "text": [
      "/Users/sjo/Data/SEIP/mips_fields/HDF-N/40044260.40044260-0.MIPS.1.mosaic.fits\n",
      "8\n",
      "HDF-N\n",
      "/Users/sjo/Data/SEIP/mips_fields/HDF-N/50071640.50071640-0.MIPS.1.mosaic.fits\n",
      "8\n",
      "HDF-N\n",
      "/Users/sjo/Data/SEIP/mips_fields/HDF-N/60087170.60087170-0.MIPS.1.mosaic.fits\n",
      "8\n",
      "HDF-N\n",
      "/Users/sjo/Data/SEIP/mips_fields/HDF-N/70101860.70101860-0.MIPS.1.mosaic.fits\n",
      "8\n",
      "HDF-N\n"
     ]
    }
   ],
   "source": [
    "for i, file in enumerate(filelist):\n",
    "    \n",
    "    print(file)\n",
    "    folders=file.split('/')\n",
    "    print(len(folders))\n",
    "    print(folders[len(folders)-2])\n"
   ]
  },
  {
   "cell_type": "code",
   "execution_count": 22,
   "metadata": {},
   "outputs": [
    {
     "name": "stdout",
     "output_type": "stream",
     "text": [
      "/Users/sjo/Data/SEIP/mips_fields/HDF-N/40044260.40044260-0.MIPS.1.mosaic.fits\n",
      "HDF-N\n",
      "/Users/sjo/Data/dmu2_field_coverages/HDF-N_MOC.fits\n",
      "0.0\n",
      "/Users/sjo/Data/SEIP/mips_fields/HDF-N/50071640.50071640-0.MIPS.1.mosaic.fits\n",
      "HDF-N\n",
      "/Users/sjo/Data/dmu2_field_coverages/HDF-N_MOC.fits\n",
      "0.0\n",
      "/Users/sjo/Data/SEIP/mips_fields/HDF-N/60087170.60087170-0.MIPS.1.mosaic.fits\n",
      "HDF-N\n",
      "/Users/sjo/Data/dmu2_field_coverages/HDF-N_MOC.fits\n",
      "0.0\n",
      "/Users/sjo/Data/SEIP/mips_fields/HDF-N/70101860.70101860-0.MIPS.1.mosaic.fits\n",
      "HDF-N\n",
      "/Users/sjo/Data/dmu2_field_coverages/HDF-N_MOC.fits\n",
      "0.00013344153551843324\n"
     ]
    }
   ],
   "source": [
    "for i, file in enumerate(filelist):\n",
    "    \n",
    "    print(file)\n",
    "    folders=file.split('/')\n",
    "    print(folders[len(folders)-2])\n",
    "    field=folders[len(folders)-2]\n",
    "    filename=folders[len(folders)-1]\n",
    "    seip_id=(filename==seip_data.field('file')) \n",
    "\n",
    "# actual HELP SPIRE MOC\n",
    "    print(f'{moc_dir}{field}_MOC.fits')\n",
    "#    help_moc_hdu = fits.open(f'{moc_dir}{field}_MOC.fits')\n",
    "    help_moc=MOC()\n",
    "#    pymoc.io.fits.read_moc_fits(help_moc, f'{moc_dir}{field}_MOC.fits',include_meta=False)\n",
    "    help_moc.read(f'{moc_dir}{field}_MOC.fits')\n",
    "    \n",
    "    \n",
    "    ext=0\n",
    "    \n",
    "    try:\n",
    "       # Load in image map\n",
    "        image_map=fits.open(file)\n",
    "        image_hdu = fits.ImageHDU(header=image_map[ext].header,\n",
    "                                data=image_map[ext].data)\n",
    "        image_hdu.header['EXTNAME'] = \"IMAGE\"\n",
    " \n",
    "    # Load in uncertainty map\n",
    "        noise_map=fits.open(file.replace('mosaic','unc'))\n",
    "        noise_hdu = fits.ImageHDU(header=noise_map[ext].header,\n",
    "                                data=noise_map[ext].data)\n",
    "        noise_hdu.header['EXTNAME'] = \"ERROR\"\n",
    " \n",
    "    # we'll use the uncertainty map to generate a MOC\n",
    "        good=~np.isnan(noise_map[ext].data)\n",
    "        w = wcs.WCS(noise_map[ext].header)     \n",
    "        m=create_MOC_from_map(good,w)\n",
    "        total_moc=total_moc+m\n",
    "        \n",
    "        intersect=m.intersection(help_moc)\n",
    "        print(repr(intersect.area))\n",
    "        \n",
    "#        moc_hdu=io.fits.write_moc_fits_hdu(m)\n",
    "#        io.fits.write_moc_fits(m,file.replace('mosaic','moc3'),overwrite=True)\n",
    "        \n",
    "        m.write(file.replace('mosaic','moc'), overwrite=True)\n",
    "        \n",
    "    # Load in coverage map\n",
    "        cov_map=fits.open(file.replace('mosaic','cov'))\n",
    "        cov_hdu = fits.ImageHDU(header=cov_map[ext].header,\n",
    "                                data=cov_map[ext].data)\n",
    "        cov_hdu.header['EXTNAME'] = \"COVERAGE\"\n",
    "\n",
    "    # Mark this tile as successfully downloaded\n",
    "        \n",
    "        seip_data.field('downloaded')[seip_id]=True\n",
    "        print,seip_data.field('downloaded')\n",
    "\n",
    "        # mark this tile with area of overlap with HELP\n",
    "        seip_data.field('inhelp')[seip_id]=(intersect.area>0.)\n",
    "\n",
    "    except:\n",
    "        stop\n",
    "        # update the SEIP file to clearly indicate that this file is not there\n",
    "        seip_data.field('downloaded')[seip_id]=False\n",
    "        print,'error'\n",
    "        #fits.close(file)\n",
    "        pass\n",
    "            \n",
    "    #Create primary header\n",
    "    primary_hdu = fits.PrimaryHDU()\n",
    "    primary_hdu.header.append((\n",
    "            \"CREATOR\", \"Herschel Extragalactic Legacy Project\"\n",
    "        ))\n",
    "    primary_hdu.header.append((\n",
    "            \"TIMESYS\", \"UTC\", \"All dates are in UTC time\"\n",
    "        ))\n",
    "    primary_hdu.header.append((\n",
    "            \"DATE\", datetime.now().replace(microsecond=0).isoformat(),\n",
    "            \"Date of file creation\"\n",
    "    ))\n",
    "    primary_hdu.header.append((\n",
    "        \"VERSION\", VERSION, \"HELP product version\"\n",
    "    ))\n",
    "    primary_hdu.header.append((\n",
    "        \"TELESCOP\", \"Spitzer\", \"Name of the telescope\"\n",
    "    ))\n",
    "    primary_hdu.header.append((\n",
    "        \"INSTRUME\", \"MIPS\", \"Name of the instrument\"\n",
    "    ))\n",
    "    primary_hdu.header.append((\n",
    "        \"FILTER\", \"MIPS-24\", \"Name of the filter\"\n",
    "    ))\n",
    "    primary_hdu.header.append((\n",
    "        \"FIELD\", field, \"Name of the HELP field\"\n",
    "    ))\n",
    "\n",
    "\n",
    "    #Add empty extension for PSF\n",
    "    psf_hdu = fits.ImageHDU()\n",
    "    psf_hdu.header['EXTNAME'] = \"PSF\"\n",
    "    psf_hdu.header.add_comment(\"The PSF is not available.\")\n",
    "\n",
    "    hdu_list = fits.HDUList([primary_hdu, image_hdu, noise_hdu, cov_hdu, psf_hdu])\n",
    "    hdu_list.writeto(file.replace('mosaic','help'),\n",
    "                 checksum=True, overwrite=True)\n",
    "   # print(f\"{file} /  processed...\")"
   ]
  },
  {
   "cell_type": "code",
   "execution_count": null,
   "metadata": {
    "collapsed": true
   },
   "outputs": [],
   "source": []
  },
  {
   "cell_type": "code",
   "execution_count": null,
   "metadata": {
    "collapsed": true
   },
   "outputs": [],
   "source": []
  },
  {
   "cell_type": "markdown",
   "metadata": {},
   "source": [
    "<h2> Running through the files</h2>"
   ]
  },
  {
   "cell_type": "raw",
   "metadata": {},
   "source": []
  },
  {
   "cell_type": "code",
   "execution_count": 20,
   "metadata": {},
   "outputs": [
    {
     "name": "stdout",
     "output_type": "stream",
     "text": [
      "/Users/sjo/Data/SEIP/mips_fields/HDF-N/70101860.70101860-0.MIPS.1.cov.fits\n",
      "XTENSION= 'IMAGE   '           / Image extension                                \n",
      "BITPIX  =                  -32 / array data type                                \n",
      "NAXIS   =                    2 / number of array dimensions                     \n",
      "NAXIS1  =                 2019                                                  \n",
      "NAXIS2  =                 2237                                                  \n",
      "PCOUNT  =                    0 / number of parameters                           \n",
      "GCOUNT  =                    1 / number of groups                               \n",
      "ORIGIN  = 'Spitzer Super-Mosaic Pipeline' / Origin of these image data          \n",
      "CREATOR = 'Spitzer Science Center' / Creator of this FITS file                  \n",
      "                                                                                \n",
      "          / TIME AND EXPOSURE INFORMATION                                       \n",
      "                                                                                \n",
      "TELESCOP= 'Spitzer '           / Name of Telescope                              \n",
      "INSTRUME= 'MIPS    '           / Name of Instrument                             \n",
      "CHNLNUM =                    1 / Instrument channel number                      \n",
      "WAVELEN =                23.68 / [microns] effective wavelength of band / [micro\n",
      "MJDSTART=         53152.923126 / MJD of first observation in mosaic             \n",
      "MJDMEAN =         53443.941768 / Mean MJD of observations in mosaic             \n",
      "MJDMED  =             53337.93 / Median MJD of observations in mosaic           \n",
      "MJDEND  =         54075.319357 / MJD of last observation in mosaic              \n",
      "EXPTIME =              5088.42 / Mean exposure time in seconds per pixel        \n",
      "MEXPTIME=               1344.6 / Median exposure time in seconds per pixel      \n",
      "ETMIN   =                 9.96 / Minimum exposure time in seconds of input expos\n",
      "ETMAX   =                30.93 / Maximum exposure time in seconds of input expos\n",
      "COV     =               360.09 / Mean coverage in exposures per pixel           \n",
      "MEDCOV  =               360.09 / Median coverage in exposures per pixel         \n",
      "SATMAX  =               20.080 / Soft saturation counts for shortest exposure in\n",
      "SATMIN  =                6.466 / Soft saturation counts for longest exposure / S\n",
      "                                                                                \n",
      "          / SUPER-MOSAIC DATA PRODUCT INFORMATION                               \n",
      "                                                                                \n",
      "IMTYPE  = 'cov     '           / Image product type                             \n",
      "REGID   =             70101860 / Mosaic region identifier                       \n",
      "SUBREGID= '70101860-0'         / Sub-mosaic region identifier                   \n",
      "NXTILE  =                    1 / Number of sub-region tiles in X direction      \n",
      "NYTILE  =                    1 / Number of sub-region tiles in Y direction      \n",
      "XTILE   =                    0 / X position of sub-region tile                  \n",
      "YTILE   =                    0 / Y position of sub-region tile                  \n",
      "SMCASE  =                    6 / Super-Mosaic use-case                          \n",
      "                                                                                \n",
      "          / DATA PROCESSING INFORMATION                                         \n",
      "                                                                                \n",
      "OVRLPNL = 'overlap_extgal_mips.nl' / Overlap correction namelist                \n",
      "MOSNL   = 'mosaic_extgal_mips.nl' / Mosaic namelist                             \n",
      "MOPEXVER= '18.5.6a '           / Version of MOPEX used for mosaic processing    \n",
      "PIPEVER = 'S18.12.0'           / Version of calibration pipeline for input image\n",
      "SMVER   = '2.0     '           / Super-Mosaic pipeline version                  \n",
      "FCREATE = '2012-10-26T17:58:08' / File creation date/time (UTC)                 \n",
      "                                                                                \n",
      "          / PHOTOMETRY                                                          \n",
      "                                                                                \n",
      "BUNIT   = '        '           / Units for image counts                         \n",
      "GAIN    =           569174.497 / Mean conversion in e- / Mean conversion in e- /\n",
      "EXPGAIN =                5.000 / e- / e- / e-/DN for input exposures            \n",
      "EFCONV  =               0.0447 / (MJy / (MJy / (MJy/sr)/(DN/s) for input exposur\n",
      "ZPAB    =              18.5263 / Magnitude Zero-Point on AB System / Magnitude Z\n",
      "ZPVEGA  =              11.7293 / Magnitude Zero-Point on Vega System / Magnitude\n",
      "                                                                                \n",
      "          / ASTROMETRY                                                          \n",
      "                                                                                \n",
      "RADESYS = 'ICRS    '           / International Celestial Reference System       \n",
      "CRVAL1  =           189.510377 / [deg] RA of reference point                    \n",
      "CRVAL2  =             62.40646 / [deg] DEC of reference point                   \n",
      "CRPIX1  =             1009.913 / [pix] Image reference point                    \n",
      "CRPIX2  =              1119.16 / [pix] Image reference point                    \n",
      "CTYPE1  = 'RA---TAN'           / RA projection type                             \n",
      "CTYPE2  = 'DEC--TAN'           / DEC projection type                            \n",
      "PA      =                  -0. / [deg] Position angle of axis 2 (E of N)        \n",
      "CD1_1   =         -0.000680556 / Transformation matrix                          \n",
      "CD1_2   =                  -0.                                                  \n",
      "CD2_1   =                  -0.                                                  \n",
      "CD2_2   =          0.000680556                                                  \n",
      "PIXSCALE=                 2.45 / arcsec/pix                                     \n",
      "EQUINOX =                2000. / [yr] Equatorial coordinates definition         \n",
      "                                                                                \n",
      "          / SKY BACKGROUND INFORMATION                                          \n",
      "                                                                                \n",
      "ISM_EST =                0.026 / Estimated mean ISM background MJy/str          \n",
      "ZODY_EST=               18.263 / Estimated mean Zody background MJy/str         \n",
      "EXTNAME = 'COVERAGE'                                                            \n"
     ]
    }
   ],
   "source": [
    "cov_map=fits.open(file.replace('mosaic','cov'))\n",
    "cov_hdu = fits.ImageHDU(header=cov_map[ext].header,\n",
    "    data=cov_map[ext].data)\n",
    "cov_hdu.header['EXTNAME'] = \"COVERAGE\"\n",
    "print(file.replace('mosaic','cov'))\n",
    "print(repr(cov_hdu.header))"
   ]
  },
  {
   "cell_type": "markdown",
   "metadata": {},
   "source": [
    "<h2> Wrap up </h2>"
   ]
  },
  {
   "cell_type": "code",
   "execution_count": 14,
   "metadata": {
    "collapsed": true
   },
   "outputs": [],
   "source": [
    "# writing out the SEIP Table\n",
    "seip_table.flush()\n",
    "\n",
    "# writing out the combined moc\n",
    "total_moc.write('help_moc.fits', overwrite=True)\n"
   ]
  },
  {
   "cell_type": "code",
   "execution_count": 16,
   "metadata": {},
   "outputs": [
    {
     "data": {
      "text/plain": [
       "(<function print>,\n",
       " SIMPLE  =                    T / Fits standard                                  \n",
       " BITPIX  =                  -32 / Bits per pixel - floating point                \n",
       " NAXIS   =                    2 / Number of axes                                 \n",
       " NAXIS1  =                 2019 / X axis length                                  \n",
       " NAXIS2  =                 2237 / Y axis length                                  \n",
       " ORIGIN  = 'Spitzer Super-Mosaic Pipeline' / Origin of these image data          \n",
       " CREATOR = 'Spitzer Science Center' / Creator of this FITS file                  \n",
       "                                                                                 \n",
       "           / TIME AND EXPOSURE INFORMATION                                       \n",
       "                                                                                 \n",
       " TELESCOP= 'Spitzer '           / Name of Telescope                              \n",
       " INSTRUME= 'MIPS    '           / Name of Instrument                             \n",
       " CHNLNUM =                    1 / Instrument channel number                      \n",
       " WAVELEN =                23.68 / [microns] effective wavelength of band / [micro\n",
       " MJDSTART=         53152.923126 / MJD of first observation in mosaic             \n",
       " MJDMEAN =         53443.941768 / Mean MJD of observations in mosaic             \n",
       " MJDMED  =             53337.93 / Median MJD of observations in mosaic           \n",
       " MJDEND  =         54075.319357 / MJD of last observation in mosaic              \n",
       " EXPTIME =              5088.42 / Mean exposure time in seconds per pixel        \n",
       " MEXPTIME=               1344.6 / Median exposure time in seconds per pixel      \n",
       " ETMIN   =                 9.96 / Minimum exposure time in seconds of input expos\n",
       " ETMAX   =                30.93 / Maximum exposure time in seconds of input expos\n",
       " COV     =               360.09 / Mean coverage in exposures per pixel           \n",
       " MEDCOV  =               360.09 / Median coverage in exposures per pixel         \n",
       " SATMAX  =               20.080 / Soft saturation counts for shortest exposure in\n",
       " SATMIN  =                6.466 / Soft saturation counts for longest exposure / S\n",
       "                                                                                 \n",
       "           / SUPER-MOSAIC DATA PRODUCT INFORMATION                               \n",
       "                                                                                 \n",
       " IMTYPE  = 'unc     '           / Image product type                             \n",
       " REGID   =             70101860 / Mosaic region identifier                       \n",
       " SUBREGID= '70101860-0'         / Sub-mosaic region identifier                   \n",
       " NXTILE  =                    1 / Number of sub-region tiles in X direction      \n",
       " NYTILE  =                    1 / Number of sub-region tiles in Y direction      \n",
       " XTILE   =                    0 / X position of sub-region tile                  \n",
       " YTILE   =                    0 / Y position of sub-region tile                  \n",
       " SMCASE  =                    6 / Super-Mosaic use-case                          \n",
       "                                                                                 \n",
       "           / DATA PROCESSING INFORMATION                                         \n",
       "                                                                                 \n",
       " OVRLPNL = 'overlap_extgal_mips.nl' / Overlap correction namelist                \n",
       " MOSNL   = 'mosaic_extgal_mips.nl' / Mosaic namelist                             \n",
       " MOPEXVER= '18.5.6a '           / Version of MOPEX used for mosaic processing    \n",
       " PIPEVER = 'S18.12.0'           / Version of calibration pipeline for input image\n",
       " SMVER   = '2.0     '           / Super-Mosaic pipeline version                  \n",
       " FCREATE = '2012-10-26T17:58:02' / File creation date/time (UTC)                 \n",
       "                                                                                 \n",
       "           / PHOTOMETRY                                                          \n",
       "                                                                                 \n",
       " BUNIT   = 'MJy/sr  '           / Units for image counts                         \n",
       " GAIN    =           569174.497 / Mean conversion in e- / Mean conversion in e- /\n",
       " EXPGAIN =                5.000 / e- / e- / e-/DN for input exposures            \n",
       " EFCONV  =               0.0447 / (MJy / (MJy / (MJy/sr)/(DN/s) for input exposur\n",
       " ZPAB    =              18.5263 / Magnitude Zero-Point on AB System / Magnitude Z\n",
       " ZPVEGA  =              11.7293 / Magnitude Zero-Point on Vega System / Magnitude\n",
       "                                                                                 \n",
       "           / ASTROMETRY                                                          \n",
       "                                                                                 \n",
       " RADESYS = 'ICRS    '           / International Celestial Reference System       \n",
       " CRVAL1  =           189.510377 / [deg] RA of reference point                    \n",
       " CRVAL2  =             62.40646 / [deg] DEC of reference point                   \n",
       " CRPIX1  =             1009.913 / [pix] Image reference point                    \n",
       " CRPIX2  =              1119.16 / [pix] Image reference point                    \n",
       " CTYPE1  = 'RA---TAN'           / RA projection type                             \n",
       " CTYPE2  = 'DEC--TAN'           / DEC projection type                            \n",
       " PA      =                  -0. / [deg] Position angle of axis 2 (E of N)        \n",
       " CD1_1   =         -0.000680556 / Transformation matrix                          \n",
       " CD1_2   =                  -0.                                                  \n",
       " CD2_1   =                  -0.                                                  \n",
       " CD2_2   =          0.000680556                                                  \n",
       " PIXSCALE=                 2.45 / arcsec/pix                                     \n",
       " EQUINOX =                2000. / [yr] Equatorial coordinates definition         \n",
       "                                                                                 \n",
       "           / SKY BACKGROUND INFORMATION                                          \n",
       "                                                                                 \n",
       " ISM_EST =                0.026 / Estimated mean ISM background MJy/str          \n",
       " ZODY_EST=               18.263 / Estimated mean Zody background MJy/str         )"
      ]
     },
     "execution_count": 16,
     "metadata": {},
     "output_type": "execute_result"
    }
   ],
   "source": [
    "\n",
    "\n",
    "print,(noise_map[ext].header)\n"
   ]
  },
  {
   "cell_type": "code",
   "execution_count": null,
   "metadata": {
    "collapsed": true
   },
   "outputs": [],
   "source": []
  },
  {
   "cell_type": "code",
   "execution_count": 17,
   "metadata": {
    "collapsed": true
   },
   "outputs": [],
   "source": [
    "cov_map=fits.open(file.replace('mosaic','cov'))\n",
    "cov_hdu = fits.ImageHDU(header=cov_map[ext].header,\n",
    "                                data=cov_map[ext].data)\n",
    "cov_hdu.header['EXTNAME'] = \"COVERAGE\"\n"
   ]
  },
  {
   "cell_type": "raw",
   "metadata": {},
   "source": [
    "print(cov_hdu.header['EXTNAME'])"
   ]
  },
  {
   "cell_type": "code",
   "execution_count": 18,
   "metadata": {},
   "outputs": [
    {
     "name": "stdout",
     "output_type": "stream",
     "text": [
      "/Users/sjo/Data/SEIP/mips_fields/HDF-N/70101860.70101860-0.MIPS.1.cov.fits\n"
     ]
    }
   ],
   "source": [
    "print(file.replace('mosaic','cov'))"
   ]
  },
  {
   "cell_type": "code",
   "execution_count": 19,
   "metadata": {},
   "outputs": [
    {
     "name": "stdout",
     "output_type": "stream",
     "text": [
      "/Users/sjo/Data/dmu2_field_coverages//HDF-N_MOC.fits\n"
     ]
    }
   ],
   "source": [
    "print(f'{moc_dir}/{field}_MOC.fits')"
   ]
  },
  {
   "cell_type": "code",
   "execution_count": null,
   "metadata": {
    "collapsed": true
   },
   "outputs": [],
   "source": []
  },
  {
   "cell_type": "code",
   "execution_count": null,
   "metadata": {
    "collapsed": true
   },
   "outputs": [],
   "source": []
  }
 ],
 "metadata": {
  "kernelspec": {
   "display_name": "Python 3",
   "language": "python",
   "name": "python3"
  },
  "language_info": {
   "codemirror_mode": {
    "name": "ipython",
    "version": 3
   },
   "file_extension": ".py",
   "mimetype": "text/x-python",
   "name": "python",
   "nbconvert_exporter": "python",
   "pygments_lexer": "ipython3",
   "version": "3.6.3"
  }
 },
 "nbformat": 4,
 "nbformat_minor": 2
}
