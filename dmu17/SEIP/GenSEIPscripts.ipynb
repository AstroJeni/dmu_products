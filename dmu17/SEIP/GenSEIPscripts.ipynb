{
 "cells": [
  {
   "cell_type": "code",
   "execution_count": 4,
   "metadata": {},
   "outputs": [],
   "source": [
    "import numpy as np\n",
    "import astropy as astropy\n",
    "\n",
    "from astropy.io import fits\n",
    "from astropy.table import Table\n",
    "from astropy.table import Column\n",
    "from astropy import wcs\n",
    "from subprocess import call\n",
    "import os"
   ]
  },
  {
   "cell_type": "code",
   "execution_count": 5,
   "metadata": {},
   "outputs": [],
   "source": [
    "\n",
    "mainfolder='../../dmu17/SEIP/'\n",
    "\n",
    "field_specified='XMM-LSS' \n",
    "\n",
    "seip_table=Table.read(f\"{mainfolder}/{field_specified}/mosaic_tiles_{field_specified}.fits\")\n"
   ]
  },
  {
   "cell_type": "code",
   "execution_count": 6,
   "metadata": {},
   "outputs": [],
   "source": [
    "mips1=np.logical_and(seip_table.field('TYPE')==\"MIPS\", seip_table.field('CH')==1)\n"
   ]
  },
  {
   "cell_type": "code",
   "execution_count": 7,
   "metadata": {},
   "outputs": [
    {
     "name": "stdout",
     "output_type": "stream",
     "text": [
      "<Table masked=True length=447>\n",
      "  SMID        REGID       ... DOWNLOADED\n",
      " int32       bytes20      ...    bool   \n",
      "-------- ---------------- ... ----------\n",
      "40005010       40005010-0 ...       True\n",
      "40005010       40005010-0 ...      False\n",
      "40005010       40005010-0 ...      False\n",
      "40032010       40032010-0 ...       True\n",
      "40032010       40032010-0 ...      False\n",
      "40032010       40032010-0 ...      False\n",
      "40041240       40041240-0 ...       True\n",
      "40050390       40050390-0 ...      False\n",
      "40050390       40050390-0 ...      False\n",
      "40050390       40050390-0 ...      False\n",
      "     ...              ... ...        ...\n",
      "60099550 60099550-0-short ...      False\n",
      "60099550       60099550-0 ...      False\n",
      "60099550 60099550-0-short ...      False\n",
      "70101890       70101890-0 ...      False\n",
      "70101890       70101890-0 ...      False\n",
      "70101890       70101890-0 ...      False\n",
      "70101890       70101890-0 ...      False\n",
      "70101890       70101890-0 ...       True\n",
      "70101890       70101890-0 ...      False\n",
      "70101890       70101890-0 ...      False\n"
     ]
    }
   ],
   "source": [
    "print(repr(seip_table))"
   ]
  },
  {
   "cell_type": "code",
   "execution_count": 11,
   "metadata": {},
   "outputs": [
    {
     "name": "stdout",
     "output_type": "stream",
     "text": [
      "zero\n",
      "perl get_SEIP_data_seb.pl 40005010 40005010-0\n",
      "perl get_SEIP_data_seb.pl 40032010 40032010-0\n",
      "perl get_SEIP_data_seb.pl 40041240 40041240-0\n",
      "perl get_SEIP_data_seb.pl 50061580 50061580-0\n",
      "perl get_SEIP_data_seb.pl 50066830 50066830-0\n",
      "perl get_SEIP_data_seb.pl 60081160 60081160-0\n",
      "perl get_SEIP_data_seb.pl 60081170 60081170-0\n",
      "perl get_SEIP_data_seb.pl 60095871 60095871-3\n",
      "perl get_SEIP_data_seb.pl 60095871 60095871-4\n",
      "perl get_SEIP_data_seb.pl 60095871 60095871-5\n",
      "perl get_SEIP_data_seb.pl 60095871 60095871-6\n",
      "perl get_SEIP_data_seb.pl 60095871 60095871-9\n",
      "perl get_SEIP_data_seb.pl 60095871 60095871-10\n",
      "perl get_SEIP_data_seb.pl 60095871 60095871-11\n",
      "perl get_SEIP_data_seb.pl 60095871 60095871-12\n",
      "perl get_SEIP_data_seb.pl 60095871 60095871-13\n",
      "perl get_SEIP_data_seb.pl 60095871 60095871-14\n",
      "perl get_SEIP_data_seb.pl 60095871 60095871-15\n",
      "perl get_SEIP_data_seb.pl 60095871 60095871-18\n",
      "perl get_SEIP_data_seb.pl 60095871 60095871-19\n",
      "perl get_SEIP_data_seb.pl 60095871 60095871-20\n",
      "perl get_SEIP_data_seb.pl 60095871 60095871-21\n",
      "perl get_SEIP_data_seb.pl 60095871 60095871-22\n",
      "perl get_SEIP_data_seb.pl 60095871 60095871-23\n",
      "perl get_SEIP_data_seb.pl 60095871 60095871-24\n",
      "perl get_SEIP_data_seb.pl 60095871 60095871-27\n",
      "perl get_SEIP_data_seb.pl 60095871 60095871-28\n",
      "perl get_SEIP_data_seb.pl 60095871 60095871-29\n",
      "perl get_SEIP_data_seb.pl 60095871 60095871-30\n",
      "perl get_SEIP_data_seb.pl 60095871 60095871-31\n",
      "perl get_SEIP_data_seb.pl 60095871 60095871-32\n",
      "perl get_SEIP_data_seb.pl 60095871 60095871-33\n",
      "perl get_SEIP_data_seb.pl 60095871 60095871-34\n",
      "perl get_SEIP_data_seb.pl 60095871 60095871-36\n",
      "perl get_SEIP_data_seb.pl 60095871 60095871-37\n",
      "perl get_SEIP_data_seb.pl 60095871 60095871-38\n",
      "perl get_SEIP_data_seb.pl 60095871 60095871-39\n",
      "perl get_SEIP_data_seb.pl 60095871 60095871-40\n",
      "perl get_SEIP_data_seb.pl 60095871 60095871-41\n",
      "perl get_SEIP_data_seb.pl 60095871 60095871-42\n",
      "perl get_SEIP_data_seb.pl 60095871 60095871-43\n",
      "perl get_SEIP_data_seb.pl 60095871 60095871-45\n",
      "perl get_SEIP_data_seb.pl 60095871 60095871-46\n",
      "perl get_SEIP_data_seb.pl 60095871 60095871-47\n",
      "perl get_SEIP_data_seb.pl 60095871 60095871-48\n",
      "perl get_SEIP_data_seb.pl 60095871 60095871-49\n",
      "perl get_SEIP_data_seb.pl 60095871 60095871-50\n",
      "perl get_SEIP_data_seb.pl 60095871 60095871-51\n",
      "perl get_SEIP_data_seb.pl 60095871 60095871-52\n",
      "perl get_SEIP_data_seb.pl 60095871 60095871-55\n",
      "perl get_SEIP_data_seb.pl 60095871 60095871-56\n",
      "perl get_SEIP_data_seb.pl 60095871 60095871-57\n",
      "perl get_SEIP_data_seb.pl 60095871 60095871-58\n",
      "perl get_SEIP_data_seb.pl 60095871 60095871-59\n",
      "perl get_SEIP_data_seb.pl 60095871 60095871-60\n",
      "perl get_SEIP_data_seb.pl 60095871 60095871-61\n",
      "perl get_SEIP_data_seb.pl 60095871 60095871-62\n",
      "perl get_SEIP_data_seb.pl 60095871 60095871-64\n",
      "perl get_SEIP_data_seb.pl 60095871 60095871-65\n",
      "perl get_SEIP_data_seb.pl 60095871 60095871-66\n",
      "perl get_SEIP_data_seb.pl 60095871 60095871-67\n",
      "perl get_SEIP_data_seb.pl 60095871 60095871-68\n",
      "perl get_SEIP_data_seb.pl 60095871 60095871-69\n",
      "perl get_SEIP_data_seb.pl 60095871 60095871-70\n",
      "perl get_SEIP_data_seb.pl 60095871 60095871-73\n",
      "perl get_SEIP_data_seb.pl 60095871 60095871-74\n",
      "perl get_SEIP_data_seb.pl 60095871 60095871-75\n",
      "perl get_SEIP_data_seb.pl 60095871 60095871-76\n",
      "perl get_SEIP_data_seb.pl 60095871 60095871-83\n",
      "perl get_SEIP_data_seb.pl 70101890 70101890-0\n"
     ]
    }
   ],
   "source": [
    "for i, regid in enumerate(seip_table.field('REGID')[mips1]):\n",
    "    if i==0:\n",
    "        print(\"zero\")\n",
    "        f=open(f\"{mainfolder}/{field_specified}/wget_{field_specified}.csh\", 'w')\n",
    "        f.write(\"rm log\\n\")\n",
    "        f.close()\n",
    "        \n",
    "    os.system(f\"perl {mainfolder}get_SEIP_data_seb.pl {seip_table.field('SMID')[mips1][i]} {seip_table.field('REGID')[mips1][i]} >> {mainfolder}/{field_specified}/wget_{field_specified}.csh\")\n",
    "   \n",
    "    print(\"perl get_SEIP_data_seb.pl\", seip_table.field('SMID')[mips1][i], seip_table.field('REGID')[mips1][i])"
   ]
  },
  {
   "cell_type": "code",
   "execution_count": null,
   "metadata": {},
   "outputs": [],
   "source": []
  },
  {
   "cell_type": "code",
   "execution_count": null,
   "metadata": {},
   "outputs": [],
   "source": []
  }
 ],
 "metadata": {
  "kernelspec": {
   "display_name": "Python (herschelhelp_internal)",
   "language": "python",
   "name": "helpint"
  },
  "language_info": {
   "codemirror_mode": {
    "name": "ipython",
    "version": 3
   },
   "file_extension": ".py",
   "mimetype": "text/x-python",
   "name": "python",
   "nbconvert_exporter": "python",
   "pygments_lexer": "ipython3",
   "version": "3.6.5"
  }
 },
 "nbformat": 4,
 "nbformat_minor": 2
}
