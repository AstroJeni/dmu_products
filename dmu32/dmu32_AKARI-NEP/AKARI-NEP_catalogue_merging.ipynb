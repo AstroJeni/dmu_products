{
 "cells": [
  {
   "cell_type": "markdown",
   "metadata": {},
   "source": [
    "# AKARI-NEP Merging HELP data products\n",
    "\n",
    "There are no spectral or photometric redshifts yet. \n",
    "\n",
    "This notebook merges the various HELP data products on CDFS-SWIRE.\n",
    "\n",
    "It is first used to create a catalogue that will be used for SED fitting by CIGALE by merging the optical master list, the photo-z and the XID+ far infrared fluxes.  Then, this notebook is used to incorporate the CIGALE physical parameter estimations and generate the final HELP data product on the field."
   ]
  },
  {
   "cell_type": "code",
   "execution_count": 1,
   "metadata": {},
   "outputs": [
    {
     "name": "stdout",
     "output_type": "stream",
     "text": [
      "This notebook was run with herschelhelp_internal version: \n",
      "708e28f (Tue May 8 18:05:21 2018 +0100)\n",
      "This notebook was executed on: \n",
      "2018-05-31 00:51:28.340801\n"
     ]
    }
   ],
   "source": [
    "from herschelhelp_internal import git_version\n",
    "print(\"This notebook was run with herschelhelp_internal version: \\n{}\".format(git_version()))\n",
    "import datetime\n",
    "print(\"This notebook was executed on: \\n{}\".format(datetime.datetime.now()))"
   ]
  },
  {
   "cell_type": "code",
   "execution_count": 2,
   "metadata": {
    "collapsed": true
   },
   "outputs": [],
   "source": [
    "# Set this to true to produce only the catalogue for CIGALE and to false \n",
    "# to continue and merge the CIGALE results too.\n",
    "FIRST_RUN_FOR_CIGALE = True"
   ]
  },
  {
   "cell_type": "code",
   "execution_count": 3,
   "metadata": {
    "collapsed": true
   },
   "outputs": [],
   "source": [
    "import numpy as np\n",
    "\n",
    "from astropy.table import Column, MaskedColumn, Table, join, vstack\n",
    "\n",
    "from herschelhelp.filters import get_filter_meta_table\n",
    "\n",
    "filter_mean_lambda = {\n",
    "    item['filter_id']: item['mean_wavelength'] for item in\n",
    "    get_filter_meta_table()\n",
    "}"
   ]
  },
  {
   "cell_type": "markdown",
   "metadata": {},
   "source": [
    "# Reading the masterlist, XID+, and photo-z catalogues"
   ]
  },
  {
   "cell_type": "code",
   "execution_count": 16,
   "metadata": {
    "collapsed": true
   },
   "outputs": [],
   "source": [
    "#! env python3\n",
    "\n",
    "from astropy.table import Table\n",
    "import yaml\n",
    "\n",
    "\n",
    "\n",
    "\n",
    "\n",
    "\n",
    "def add_column_meta(catalogue, column_yml_file):\n",
    "    \"\"\"Add column descriptions and other meta data\n",
    "        \n",
    "    Given a table and a yml file with a list of column names \n",
    "    and descriptions and ucd descriptors write all these to \n",
    "    the appropriate columns in the table.\n",
    "\n",
    "\n",
    "    Parameters\n",
    "    ----------\n",
    "    catalogue: astropy.table.Table object\n",
    "        The table to add descriptions to\n",
    "    column_yml_file: String\n",
    "        link to yml file describing column definitions.\n",
    "\n",
    "    Returns\n",
    "    -------\n",
    "    catalogue: astropy.table.Table object\n",
    "        The output catalogue as input but with added column meta.\n",
    "    \n",
    "    \"\"\"\n",
    "    meta = yaml.load(open(column_yml_file, \"r\"))\n",
    "    \n",
    "    for col in catalogue.itercols():\n",
    "        try:\n",
    "            unit = meta[col.name]['unit']\n",
    "            if unit != \"None\":\n",
    "                catalogue[col.name].unit = unit\n",
    "            catalogue[col.name].description = meta[col.name]['description']\n",
    "        except KeyError:\n",
    "            print(\"Column {} has missing data\".format(col.name))\n",
    "\n",
    "        \n",
    "    return catalogue\n",
    "        \n",
    "    \n",
    "    \n",
    "\n"
   ]
  },
  {
   "cell_type": "code",
   "execution_count": 17,
   "metadata": {
    "collapsed": true
   },
   "outputs": [],
   "source": [
    "# Master list\n",
    "SUFFIX='20180215'\n",
    "ml = Table.read(\n",
    "    \"../../dmu1/dmu1_ml_AKARI-NEP/data/master_catalogue_akari-nep_{}.fits\".format(SUFFIX))\n",
    "ml.meta = None"
   ]
  },
  {
   "cell_type": "code",
   "execution_count": 12,
   "metadata": {
    "collapsed": true
   },
   "outputs": [],
   "source": [
    "meta = yaml.load(open('../columns.yml', \"r\"))"
   ]
  },
  {
   "cell_type": "code",
   "execution_count": 13,
   "metadata": {},
   "outputs": [
    {
     "ename": "KeyError",
     "evalue": "'f_megacam_u'",
     "output_type": "error",
     "traceback": [
      "\u001b[0;31m---------------------------------------------------------------------------\u001b[0m",
      "\u001b[0;31mKeyError\u001b[0m                                  Traceback (most recent call last)",
      "\u001b[0;32m<ipython-input-13-b5f382d6b514>\u001b[0m in \u001b[0;36m<module>\u001b[0;34m()\u001b[0m\n\u001b[0;32m----> 1\u001b[0;31m \u001b[0mmeta\u001b[0m\u001b[0;34m[\u001b[0m\u001b[0;34m'f_megacam_u'\u001b[0m\u001b[0;34m]\u001b[0m\u001b[0;34m[\u001b[0m\u001b[0;34m'description'\u001b[0m\u001b[0;34m]\u001b[0m\u001b[0;34m\u001b[0m\u001b[0m\n\u001b[0m",
      "\u001b[0;31mKeyError\u001b[0m: 'f_megacam_u'"
     ]
    }
   ],
   "source": [
    "meta['f_megacam_u']['description']"
   ]
  },
  {
   "cell_type": "code",
   "execution_count": 18,
   "metadata": {},
   "outputs": [
    {
     "name": "stdout",
     "output_type": "stream",
     "text": [
      "Column f_megacam_u has missing data\n",
      "Column ferr_megacam_u has missing data\n",
      "Column m_megacam_u has missing data\n",
      "Column merr_megacam_u has missing data\n",
      "Column f_megacam_g has missing data\n",
      "Column ferr_megacam_g has missing data\n",
      "Column m_megacam_g has missing data\n",
      "Column merr_megacam_g has missing data\n",
      "Column f_megacam_r has missing data\n",
      "Column ferr_megacam_r has missing data\n",
      "Column m_megacam_r has missing data\n",
      "Column merr_megacam_r has missing data\n",
      "Column f_megacam_i has missing data\n",
      "Column ferr_megacam_i has missing data\n",
      "Column m_megacam_i has missing data\n",
      "Column merr_megacam_i has missing data\n",
      "Column f_megacam_z has missing data\n",
      "Column ferr_megacam_z has missing data\n",
      "Column m_megacam_z has missing data\n",
      "Column merr_megacam_z has missing data\n",
      "Column stellarity has missing data\n",
      "Column stellarity_origin has missing data\n"
     ]
    }
   ],
   "source": [
    "ml = add_column_meta(ml, '../columns.yml')"
   ]
  },
  {
   "cell_type": "code",
   "execution_count": 19,
   "metadata": {},
   "outputs": [
    {
     "name": "stdout",
     "output_type": "stream",
     "text": [
      "help_id has unit: None and description: HELP identifier, based on J2000 position.\n",
      "field has unit: None and description: Name of the field in HELP survey.\n",
      "ra has unit: deg and description: Right Ascension (J2000).\n",
      "dec has unit: deg and description: Declination (J2000).\n",
      "hp_idx has unit: None and description: HEALPix index of the source position at order 13 using the nested scheme..\n",
      "f_ap_gpc1_g has unit: uJy and description: Aperture (nearest aperture to 2 arcsec, aperture correction applied) flux density in the B band of The Pan-STARRS Gigapixel Camera on The Panoramic Survey Telescope and Rapid Response System (Pan-STARRS)..\n",
      "ferr_ap_gpc1_g has unit: uJy and description: Uncertainty on f_ap_gpc1_g..\n",
      "m_ap_gpc1_g has unit: mag and description: Aperture (nearest aperture to 2 arcsec, aperture correction applied) AB magnitude in the B band of The Pan-STARRS Gigapixel Camera on The Panoramic Survey Telescope and Rapid Response System (Pan-STARRS)..\n",
      "merr_ap_gpc1_g has unit: mag and description: Mean error on m_ap_gpc1_g.\n",
      "f_gpc1_g has unit: uJy and description: Total flux density in the B band of The Pan-STARRS Gigapixel Camera on The Panoramic Survey Telescope and Rapid Response System (Pan-STARRS)..\n",
      "ferr_gpc1_g has unit: uJy and description: Uncertainty on f_gpc1_g..\n",
      "m_gpc1_g has unit: mag and description: Total AB magnitude in the B band of The Pan-STARRS Gigapixel Camera on The Panoramic Survey Telescope and Rapid Response System (Pan-STARRS)..\n",
      "merr_gpc1_g has unit: mag and description: Mean error on m_gpc1_g..\n",
      "f_ap_gpc1_r has unit: uJy and description: Aperture (nearest aperture to 2 arcsec, aperture correction applied) flux density in the R band of The Pan-STARRS Gigapixel Camera on The Panoramic Survey Telescope and Rapid Response System (Pan-STARRS)..\n",
      "ferr_ap_gpc1_r has unit: uJy and description: Uncertainty on f_ap_gpc1_r..\n",
      "m_ap_gpc1_r has unit: mag and description: Aperture (nearest aperture to 2 arcsec, aperture correction applied) AB magnitude in the R band of The Pan-STARRS Gigapixel Camera on The Panoramic Survey Telescope and Rapid Response System (Pan-STARRS)..\n",
      "merr_ap_gpc1_r has unit: mag and description: Mean error on m_ap_gpc1_r.\n",
      "f_gpc1_r has unit: uJy and description: Total flux density in the R band of The Pan-STARRS Gigapixel Camera on The Panoramic Survey Telescope and Rapid Response System (Pan-STARRS)..\n",
      "ferr_gpc1_r has unit: uJy and description: Uncertainty on f_gpc1_r..\n",
      "m_gpc1_r has unit: mag and description: Total AB magnitude in the R band of The Pan-STARRS Gigapixel Camera on The Panoramic Survey Telescope and Rapid Response System (Pan-STARRS)..\n",
      "merr_gpc1_r has unit: mag and description: Mean error on m_gpc1_r..\n",
      "f_ap_gpc1_i has unit: uJy and description: Aperture (nearest aperture to 2 arcsec, aperture correction applied) flux density in the I band of The Pan-STARRS Gigapixel Camera on The Panoramic Survey Telescope and Rapid Response System (Pan-STARRS)..\n",
      "ferr_ap_gpc1_i has unit: uJy and description: Uncertainty on f_ap_gpc1_i..\n",
      "m_ap_gpc1_i has unit: mag and description: Aperture (nearest aperture to 2 arcsec, aperture correction applied) AB magnitude in the I band of The Pan-STARRS Gigapixel Camera on The Panoramic Survey Telescope and Rapid Response System (Pan-STARRS)..\n",
      "merr_ap_gpc1_i has unit: mag and description: Mean error on m_ap_gpc1_i.\n",
      "f_gpc1_i has unit: uJy and description: Total flux density in the I band of The Pan-STARRS Gigapixel Camera on The Panoramic Survey Telescope and Rapid Response System (Pan-STARRS)..\n",
      "ferr_gpc1_i has unit: uJy and description: Uncertainty on f_gpc1_i..\n",
      "m_gpc1_i has unit: mag and description: Total AB magnitude in the I band of The Pan-STARRS Gigapixel Camera on The Panoramic Survey Telescope and Rapid Response System (Pan-STARRS)..\n",
      "merr_gpc1_i has unit: mag and description: Mean error on m_gpc1_i..\n",
      "f_ap_gpc1_z has unit: uJy and description: Aperture (nearest aperture to 2 arcsec, aperture correction applied) flux density in the I band of The Pan-STARRS Gigapixel Camera on The Panoramic Survey Telescope and Rapid Response System (Pan-STARRS)..\n",
      "ferr_ap_gpc1_z has unit: uJy and description: Uncertainty on f_ap_gpc1_z..\n",
      "m_ap_gpc1_z has unit: mag and description: Aperture (nearest aperture to 2 arcsec, aperture correction applied) AB magnitude in the I band of The Pan-STARRS Gigapixel Camera on The Panoramic Survey Telescope and Rapid Response System (Pan-STARRS)..\n",
      "merr_ap_gpc1_z has unit: mag and description: Mean error on m_ap_gpc1_z.\n",
      "f_gpc1_z has unit: uJy and description: Total flux density in the I band of The Pan-STARRS Gigapixel Camera on The Panoramic Survey Telescope and Rapid Response System (Pan-STARRS)..\n",
      "ferr_gpc1_z has unit: uJy and description: Uncertainty on f_gpc1_z..\n",
      "m_gpc1_z has unit: mag and description: Total AB magnitude in the I band of The Pan-STARRS Gigapixel Camera on The Panoramic Survey Telescope and Rapid Response System (Pan-STARRS)..\n",
      "merr_gpc1_z has unit: mag and description: Mean error on m_gpc1_z..\n",
      "f_ap_gpc1_y has unit: uJy and description: Aperture (nearest aperture to 2 arcsec, aperture correction applied) flux density in the I band of The Pan-STARRS Gigapixel Camera on The Panoramic Survey Telescope and Rapid Response System (Pan-STARRS)..\n",
      "ferr_ap_gpc1_y has unit: uJy and description: Uncertainty on f_ap_gpc1_y..\n",
      "m_ap_gpc1_y has unit: mag and description: Aperture (nearest aperture to 2 arcsec, aperture correction applied) AB magnitude in the I band of The Pan-STARRS Gigapixel Camera on The Panoramic Survey Telescope and Rapid Response System (Pan-STARRS)..\n",
      "merr_ap_gpc1_y has unit: mag and description: Mean error on m_ap_gpc1_y.\n",
      "f_gpc1_y has unit: uJy and description: Total flux density in the I band of The Pan-STARRS Gigapixel Camera on The Panoramic Survey Telescope and Rapid Response System (Pan-STARRS)..\n",
      "ferr_gpc1_y has unit: uJy and description: Uncertainty on f_gpc1_y..\n",
      "m_gpc1_y has unit: mag and description: Total AB magnitude in the I band of The Pan-STARRS Gigapixel Camera on The Panoramic Survey Telescope and Rapid Response System (Pan-STARRS)..\n",
      "merr_gpc1_y has unit: mag and description: Mean error on m_gpc1_y..\n",
      "f_ap_irac_i1 has unit: uJy and description: Aperture (nearest aperture to 2 arcsec, aperture correction applied) flux density in the 3-4um band of The Infrared Array Camera (IRAC) on The Spitzer Space Telescope..\n",
      "ferr_ap_irac_i1 has unit: uJy and description: Uncertainty on f_ap_irac_i1..\n",
      "m_ap_irac_i1 has unit: mag and description: Aperture (nearest aperture to 2 arcsec, aperture correction applied) AB magnitude in the 3-4um band of The Infrared Array Camera (IRAC) on The Spitzer Space Telescope..\n",
      "merr_ap_irac_i1 has unit: mag and description: Mean error on m_ap_irac_i1.\n",
      "f_irac_i1 has unit: uJy and description: Total flux density in the 3-4um band of The Infrared Array Camera (IRAC) on The Spitzer Space Telescope..\n",
      "ferr_irac_i1 has unit: uJy and description: Uncertainty on f_irac_i1..\n",
      "m_irac_i1 has unit: mag and description: Total AB magnitude in the 3-4um band of The Infrared Array Camera (IRAC) on The Spitzer Space Telescope..\n",
      "merr_irac_i1 has unit: mag and description: Mean error on m_irac_i1..\n",
      "f_ap_irac_i2 has unit: uJy and description: Aperture (nearest aperture to 2 arcsec, aperture correction applied) flux density in the 4-8um band of The Infrared Array Camera (IRAC) on The Spitzer Space Telescope..\n",
      "ferr_ap_irac_i2 has unit: uJy and description: Uncertainty on f_ap_irac_i2..\n",
      "m_ap_irac_i2 has unit: mag and description: Aperture (nearest aperture to 2 arcsec, aperture correction applied) AB magnitude in the 4-8um band of The Infrared Array Camera (IRAC) on The Spitzer Space Telescope..\n",
      "merr_ap_irac_i2 has unit: mag and description: Mean error on m_ap_irac_i2.\n",
      "f_irac_i2 has unit: uJy and description: Total flux density in the 4-8um band of The Infrared Array Camera (IRAC) on The Spitzer Space Telescope..\n",
      "ferr_irac_i2 has unit: uJy and description: Uncertainty on f_irac_i2..\n",
      "m_irac_i2 has unit: mag and description: Total AB magnitude in the 4-8um band of The Infrared Array Camera (IRAC) on The Spitzer Space Telescope..\n",
      "merr_irac_i2 has unit: mag and description: Mean error on m_irac_i2..\n",
      "f_megacam_u has unit: None and description: None.\n",
      "ferr_megacam_u has unit: None and description: None.\n",
      "m_megacam_u has unit: mag and description: None.\n",
      "merr_megacam_u has unit: mag and description: None.\n",
      "f_megacam_g has unit: None and description: None.\n",
      "ferr_megacam_g has unit: None and description: None.\n",
      "m_megacam_g has unit: mag and description: None.\n",
      "merr_megacam_g has unit: mag and description: None.\n",
      "f_megacam_r has unit: None and description: None.\n",
      "ferr_megacam_r has unit: None and description: None.\n",
      "m_megacam_r has unit: mag and description: None.\n",
      "merr_megacam_r has unit: mag and description: None.\n",
      "f_megacam_i has unit: None and description: None.\n",
      "ferr_megacam_i has unit: None and description: None.\n",
      "m_megacam_i has unit: mag and description: None.\n",
      "merr_megacam_i has unit: mag and description: None.\n",
      "f_megacam_z has unit: None and description: None.\n",
      "ferr_megacam_z has unit: None and description: None.\n",
      "m_megacam_z has unit: mag and description: None.\n",
      "merr_megacam_z has unit: mag and description: None.\n",
      "f_wircam_j has unit: uJy and description: Total flux density in the J band of Wide-field InfraRed Camera (WIRCam) on Canada France Hawaii Telescope (CFHT)..\n",
      "ferr_wircam_j has unit: uJy and description: Uncertainty on f_wircam_j..\n",
      "m_wircam_j has unit: mag and description: Total AB magnitude in the J band of Wide-field InfraRed Camera (WIRCam) on Canada France Hawaii Telescope (CFHT)..\n",
      "merr_wircam_j has unit: mag and description: Mean error on m_wircam_j..\n",
      "f_wircam_ks has unit: uJy and description: Total flux density in the K band of Wide-field InfraRed Camera (WIRCam) on Canada France Hawaii Telescope (CFHT)..\n",
      "ferr_wircam_ks has unit: uJy and description: Uncertainty on f_wircam_ks..\n",
      "m_wircam_ks has unit: mag and description: Total AB magnitude in the K band of Wide-field InfraRed Camera (WIRCam) on Canada France Hawaii Telescope (CFHT)..\n",
      "merr_wircam_ks has unit: mag and description: Mean error on m_wircam_ks..\n",
      "f_wircam_y has unit: uJy and description: Total flux density in the I band of Wide-field InfraRed Camera (WIRCam) on Canada France Hawaii Telescope (CFHT)..\n",
      "ferr_wircam_y has unit: uJy and description: Uncertainty on f_wircam_y..\n",
      "m_wircam_y has unit: mag and description: Total AB magnitude in the I band of Wide-field InfraRed Camera (WIRCam) on Canada France Hawaii Telescope (CFHT)..\n",
      "merr_wircam_y has unit: mag and description: Mean error on m_wircam_y..\n",
      "stellarity has unit: None and description: None.\n",
      "stellarity_origin has unit: None and description: None.\n",
      "flag_cleaned has unit: None and description: Boolean flag denoting that the source was associated to really near object that were removed during the cleaning procedure..\n",
      "flag_merged has unit: None and description: Boolean flag denoting a possible mis-association during the cross-matching of the various catalogues..\n",
      "flag_gaia has unit: None and description: Flag indicating the increasing probability of the source being a Gaia object (see note)..\n",
      "flag_optnir_obs has unit: None and description: Flag indicating in which wavelength regimes the source was observed (see note)..\n",
      "flag_optnir_det has unit: None and description: Flag indicating in which wavelength regimes the source was detected (see note)..\n",
      "ebv has unit: None and description: Galactic extinction (Schlegel et al. 1998) at the object position.\n",
      "zspec_association_flag has unit: None and description: Boolean flag set to true when the association of a source to it's redshift may be problematic (possible mis-cross-association)..\n",
      "zspec_qual has unit: None and description: Spectroscopic redshift quality flag. FIXME code meaning..\n",
      "zspec has unit: None and description: Spectroscopic redshift collated from the literature..\n"
     ]
    }
   ],
   "source": [
    "for col in ml.colnames:\n",
    "    print(\"{} has unit: {} and description: {}.\".format(col, ml[col].unit, ml[col].description))"
   ]
  },
  {
   "cell_type": "code",
   "execution_count": 5,
   "metadata": {
    "collapsed": true
   },
   "outputs": [],
   "source": [
    "# # XID+ MIPS24\n",
    "\n",
    "# xid_mips24 = Table.read(\"../../dmu26/dmu26_XID+MIPS_CDFS-SWIRE/data/\"\n",
    "#                           \"dmu26_XID+MIPS_CDFS-SWIRE_cat_20170901.fits\")\n",
    "# xid_mips24.meta = None\n",
    "\n",
    "# # Adding the error column\n",
    "# xid_mips24.add_column(Column(\n",
    "#     data=np.max([xid_mips24['FErr_MIPS_24_u'] - xid_mips24['F_MIPS_24'],\n",
    "#                  xid_mips24['F_MIPS_24'] - xid_mips24['FErr_MIPS_24_l']],\n",
    "#                 axis=0),\n",
    "#     name=\"ferr_mips_24\"\n",
    "# ))\n",
    "# xid_mips24['F_MIPS_24'].name = \"f_mips_24\"\n",
    "# xid_mips24 = xid_mips24['help_id', 'f_mips_24', 'ferr_mips_24', 'flag_mips_24']"
   ]
  },
  {
   "cell_type": "code",
   "execution_count": 6,
   "metadata": {
    "collapsed": true
   },
   "outputs": [],
   "source": [
    "# # XID+ PACS\n",
    "\n",
    "# xid_pacs = Table.read(\"../../dmu26/dmu26_XID+PACS_CDFS-SWIRE/data/\"\n",
    "#                         \"dmu26_XID+PACS_CDFS-SWIRE_cat_20171019.fits\")\n",
    "# xid_pacs.meta = None\n",
    "\n",
    "# # Convert from mJy to μJy\n",
    "# for col in [\"F_PACS_100\", \"FErr_PACS_100_u\", \"FErr_PACS_100_l\",\n",
    "#             \"F_PACS_160\", \"FErr_PACS_160_u\", \"FErr_PACS_160_l\"]:\n",
    "#     xid_pacs[col] *= 1000\n",
    "\n",
    "# xid_pacs.add_column(Column(\n",
    "#     data=np.max([xid_pacs['FErr_PACS_100_u'] - xid_pacs['F_PACS_100'],\n",
    "#                  xid_pacs['F_PACS_100'] - xid_pacs['FErr_PACS_100_l']],\n",
    "#                 axis=0),\n",
    "#     name=\"ferr_pacs_green\"\n",
    "# ))\n",
    "# xid_pacs['F_PACS_100'].name = \"f_pacs_green\"\n",
    "# xid_pacs['flag_PACS_100'].name = \"flag_pacs_green\"\n",
    "\n",
    "# xid_pacs.add_column(Column(\n",
    "#     data=np.max([xid_pacs['FErr_PACS_160_u'] - xid_pacs['F_PACS_160'],\n",
    "#                  xid_pacs['F_PACS_160'] - xid_pacs['FErr_PACS_160_l']],\n",
    "#                 axis=0),\n",
    "#     name=\"ferr_pacs_red\"\n",
    "# ))\n",
    "# xid_pacs['F_PACS_160'].name = \"f_pacs_red\"\n",
    "# xid_pacs['flag_PACS_160'].name = \"flag_pacs_red\"\n",
    "\n",
    "# xid_pacs = xid_pacs['help_id', 'f_pacs_green', 'ferr_pacs_green',\n",
    "#                     'flag_pacs_green', 'f_pacs_red', 'ferr_pacs_red',\n",
    "#                     'flag_pacs_red']\n"
   ]
  },
  {
   "cell_type": "code",
   "execution_count": 7,
   "metadata": {
    "collapsed": true
   },
   "outputs": [],
   "source": [
    "# # XID+ SPIRE\n",
    "\n",
    "# xid_spire = Table.read(\"../../dmu26/dmu26_XID+SPIRE_CDFS-SWIRE/data/\"\n",
    "#                          \"dmu26_XID+SPIRE_CDFS-SWIRE_cat_20170919.fits\")\n",
    "# xid_spire.meta = None\n",
    "\n",
    "# xid_spire['HELP_ID'].name = \"help_id\"\n",
    "\n",
    "# # Convert from mJy to μJy\n",
    "# for col in [\"F_SPIRE_250\", \"FErr_SPIRE_250_u\", \"FErr_SPIRE_250_l\",\n",
    "#             \"F_SPIRE_350\", \"FErr_SPIRE_350_u\", \"FErr_SPIRE_350_l\",\n",
    "#             \"F_SPIRE_500\", \"FErr_SPIRE_500_u\", \"FErr_SPIRE_500_l\"]:\n",
    "#     xid_spire[col] *= 1000\n",
    "\n",
    "# xid_spire.add_column(Column(\n",
    "#     data=np.max([xid_spire['FErr_SPIRE_250_u'] - xid_spire['F_SPIRE_250'],\n",
    "#                  xid_spire['F_SPIRE_250'] - xid_spire['FErr_SPIRE_250_l']],\n",
    "#                 axis=0),\n",
    "#     name=\"ferr_spire_250\"\n",
    "# ))\n",
    "# xid_spire['F_SPIRE_250'].name = \"f_spire_250\"\n",
    "# xid_spire.add_column(Column(\n",
    "#     data=np.max([xid_spire['FErr_SPIRE_350_u'] - xid_spire['F_SPIRE_350'],\n",
    "#                  xid_spire['F_SPIRE_350'] - xid_spire['FErr_SPIRE_350_l']],\n",
    "#                 axis=0),\n",
    "#     name=\"ferr_spire_350\"\n",
    "# ))\n",
    "# xid_spire['F_SPIRE_350'].name = \"f_spire_350\"\n",
    "# xid_spire.add_column(Column(\n",
    "#     data=np.max([xid_spire['FErr_SPIRE_500_u'] - xid_spire['F_SPIRE_500'],\n",
    "#                  xid_spire['F_SPIRE_500'] - xid_spire['FErr_SPIRE_500_l']],\n",
    "#                 axis=0),\n",
    "#     name=\"ferr_spire_500\"\n",
    "# ))\n",
    "# xid_spire['F_SPIRE_500'].name = \"f_spire_500\"\n",
    "\n",
    "# xid_spire = xid_spire['help_id',\n",
    "#                       'f_spire_250', 'ferr_spire_250', 'flag_spire_250',\n",
    "#                       'f_spire_350', 'ferr_spire_350', 'flag_spire_350',\n",
    "#                       'f_spire_500', 'ferr_spire_500', 'flag_spire_500']"
   ]
  },
  {
   "cell_type": "code",
   "execution_count": 8,
   "metadata": {
    "collapsed": true
   },
   "outputs": [],
   "source": [
    "# Photo-z\n",
    "\n",
    "#photoz = Table.read(\"../../dmu24/dmu24_/data/\")\n",
    "#photoz.meta = None\n",
    "\n",
    "#photoz = photoz['help_id', 'z1_median']\n",
    "#photoz['z1_median'].name = 'redshift'\n",
    "\n",
    "#photoz['redshift'][photoz['redshift'] < 0] = np.nan  # -99 used for missing values"
   ]
  },
  {
   "cell_type": "code",
   "execution_count": 9,
   "metadata": {},
   "outputs": [
    {
     "name": "stderr",
     "output_type": "stream",
     "text": [
      "/opt/anaconda3/envs/herschelhelp_internal/lib/python3.6/site-packages/astropy/table/column.py:965: RuntimeWarning: invalid value encountered in less\n",
      "  return getattr(self.data, op)(other)\n"
     ]
    }
   ],
   "source": [
    "# Temp spec-z\n",
    "\n",
    "ml['zspec'][ml['zspec'] < 0] = np.nan  # -99 used for missing values"
   ]
  },
  {
   "cell_type": "code",
   "execution_count": 10,
   "metadata": {
    "collapsed": true
   },
   "outputs": [],
   "source": [
    "# Flags\n",
    "flags = Table.read(\"../../dmu6/dmu6_v_AKARI-NEP/data/akari-nep_20180215_flags.fits\")"
   ]
  },
  {
   "cell_type": "markdown",
   "metadata": {},
   "source": [
    "# Merging"
   ]
  },
  {
   "cell_type": "code",
   "execution_count": 11,
   "metadata": {
    "collapsed": true
   },
   "outputs": [],
   "source": [
    "# merged_table = join(ml, xid_mips24, join_type='left')\n",
    "\n",
    "# # Fill values\n",
    "# for col in xid_mips24.colnames:\n",
    "#     if col.startswith(\"f_\") or col.startswith(\"ferr_\"):\n",
    "#         merged_table[col].fill_value = np.nan\n",
    "#     elif col.startswith(\"flag_\"):\n",
    "#         merged_table[col].fill_value = False\n",
    "# merged_table = merged_table.filled()"
   ]
  },
  {
   "cell_type": "code",
   "execution_count": 12,
   "metadata": {
    "collapsed": true
   },
   "outputs": [],
   "source": [
    "# merged_table = join(merged_table, xid_pacs, join_type='left')\n",
    "        \n",
    "# # Fill values\n",
    "# for col in xid_pacs.colnames:\n",
    "#     if col.startswith(\"f_\") or col.startswith(\"ferr_\"):\n",
    "#         merged_table[col].fill_value = np.nan\n",
    "#     elif col.startswith(\"flag_\"):\n",
    "#         merged_table[col].fill_value = False\n",
    "# merged_table = merged_table.filled()"
   ]
  },
  {
   "cell_type": "code",
   "execution_count": 13,
   "metadata": {
    "collapsed": true
   },
   "outputs": [],
   "source": [
    "# merged_table = join(merged_table, xid_spire, join_type='left')\n",
    "        \n",
    "# # Fill values\n",
    "# for col in xid_spire.colnames:\n",
    "#     if col.startswith(\"f_\") or col.startswith(\"ferr_\"):\n",
    "#         merged_table[col].fill_value = np.nan\n",
    "#     elif col.startswith(\"flag_\"):\n",
    "#         merged_table[col].fill_value = False\n",
    "# merged_table = merged_table.filled()"
   ]
  },
  {
   "cell_type": "code",
   "execution_count": 14,
   "metadata": {
    "collapsed": true
   },
   "outputs": [],
   "source": [
    "#merged_table = join(merged_table, photoz, join_type='left')\n",
    "\n",
    "# Fill values\n",
    "#merged_table['redshift'].fill_value = np.nan\n",
    "#merged_table = merged_table.filled()"
   ]
  },
  {
   "cell_type": "code",
   "execution_count": 15,
   "metadata": {
    "collapsed": true
   },
   "outputs": [],
   "source": [
    "merged_table = ml"
   ]
  },
  {
   "cell_type": "code",
   "execution_count": 16,
   "metadata": {
    "collapsed": true
   },
   "outputs": [
    {
     "name": "stdout",
     "output_type": "stream",
     "text": [
      "Column: flag_gpc1_g not in masterlist.\n",
      "Column: flag_gpc1_r not in masterlist.\n",
      "Column: flag_gpc1_i not in masterlist.\n",
      "Column: flag_gpc1_z not in masterlist.\n",
      "Column: flag_gpc1_y not in masterlist.\n",
      "Column: flag_irac_i1_ap not in masterlist.\n",
      "Column: flag_irac_i2_ap not in masterlist.\n"
     ]
    }
   ],
   "source": [
    "for col in flags.colnames:\n",
    "    if 'flag' in col:\n",
    "        try:\n",
    "            merged_table.remove_column(col)\n",
    "        except KeyError:\n",
    "            print(\"Column: {} not in masterlist.\".format(col))\n",
    "        \n",
    "merged_table = join(merged_table, flags, join_type='left')\n",
    "# Fill values\n",
    "for col in merged_table.colnames:\n",
    "    if 'flag' in col:\n",
    "        merged_table[col].fill_value = False\n",
    "merged_table = merged_table.filled()"
   ]
  },
  {
   "cell_type": "markdown",
   "metadata": {},
   "source": [
    "# Saving the catalogue for CIGALE (first run)"
   ]
  },
  {
   "cell_type": "code",
   "execution_count": 17,
   "metadata": {
    "collapsed": true
   },
   "outputs": [
    {
     "name": "stdout",
     "output_type": "stream",
     "text": [
      "set()\n",
      "{'flag_irac_i2_ap', 'flag_irac_i1_ap'}\n"
     ]
    }
   ],
   "source": [
    "if FIRST_RUN_FOR_CIGALE:\n",
    "    \n",
    "    # Sorting the columns\n",
    "    bands_tot = [col[2:] for col in merged_table.colnames\n",
    "             if col.startswith('f_') and not col.startswith('f_ap')]\n",
    "    bands_ap = [col[5:] for col in merged_table.colnames\n",
    "             if col.startswith('f_ap_') ]\n",
    "    bands = list(set(bands_tot) | set(bands_ap))\n",
    "    bands.sort(key=lambda x: filter_mean_lambda[x])\n",
    "    \n",
    "    columns = ['help_id', 'field', 'ra', 'dec', 'hp_idx', 'ebv', #'redshift', \n",
    "               'zspec']\n",
    "    for band in bands:\n",
    "        for col_tpl in ['f_{}', 'ferr_{}', 'f_ap_{}', 'ferr_ap_{}',\n",
    "                        'm_{}', 'merr_{}', 'm_ap_{}', 'merr_ap_{}',\n",
    "                        'flag_{}']:\n",
    "            colname = col_tpl.format(band)\n",
    "            if colname in merged_table.colnames:\n",
    "                columns.append(colname)\n",
    "    columns += ['stellarity', 'stellarity_origin', 'flag_cleaned',\n",
    "                'flag_merged', 'flag_gaia', 'flag_optnir_obs',\n",
    "                'flag_optnir_det', 'zspec_qual', 'zspec_association_flag']\n",
    "    \n",
    "\n",
    "    # Check that we did not forget any column\n",
    "    print(set(columns) - set(merged_table.colnames))\n",
    "    print( set(merged_table.colnames) - set(columns) )\n",
    "    \n",
    "    \n",
    "    merged_table[columns].write(\"data/AKARI-NEP_{}_cigale.fits\".format(SUFFIX), overwrite=True)"
   ]
  },
  {
   "cell_type": "markdown",
   "metadata": {},
   "source": [
    "# Merging CIGALE outputs\n",
    "\n",
    "We merge the CIGALE outputs to the main catalogue. The CIGALE products provides several χ² with associated thresholds. For simplicity, we convert these two values to flags."
   ]
  },
  {
   "cell_type": "code",
   "execution_count": 18,
   "metadata": {
    "collapsed": true
   },
   "outputs": [],
   "source": [
    "if not FIRST_RUN_FOR_CIGALE:\n",
    "\n",
    "    # Cigale outputs\n",
    "    cigale = Table.read(\"../../dmu28/dmu28_CDFS-SWIRE/data/HELP_final_results.fits\")\n",
    "    cigale['id'].name = \"help_id\"\n",
    "\n",
    "    # We convert the various Chi2 and threshold to flags\n",
    "    flag_cigale_opt = cigale[\"UVoptIR_OPTchi2\"] <= cigale[\"UVoptIR_OPTchi2_threshold\"]\n",
    "    flag_cigale_ir = cigale[\"UVoptIR_IRchi2\"] <= cigale[\"UVoptIR_IRchi2_threshold\"]\n",
    "    flag_cigale = (\n",
    "        (cigale[\"UVoptIR_best.reduced_chi_square\"] \n",
    "             <=  cigale[\"UVoptIR_best.reduced_chi_square_threshold\"]) &\n",
    "        flag_cigale_opt & flag_cigale_ir)\n",
    "    flag_cigale_ironly = cigale[\"IRonly_IRchi2\"] <= cigale[\"IRonly_IRchi2_threshold\"]\n",
    "\n",
    "    cigale.add_columns([\n",
    "        MaskedColumn(flag_cigale, \"flag_cigale\", \n",
    "                     dtype=int, fill_value=-1),\n",
    "        MaskedColumn(flag_cigale_opt, \"flag_cigale_opt\", \n",
    "                     dtype=int, fill_value=-1),\n",
    "        MaskedColumn(flag_cigale_ir, \"flag_cigale_ir\", \n",
    "                     dtype=int, fill_value=-1),\n",
    "        MaskedColumn(flag_cigale_ironly, \"flag_cigale_ironly\", \n",
    "                     dtype=int, fill_value=-1)\n",
    "    ])\n",
    "\n",
    "    cigale['UVoptIR_bayes.stellar.m_star'].name =  \"cigale_mstar\"\n",
    "    cigale['UVoptIR_bayes.stellar.m_star_err'].name = \"cigale_mstar_err\"\n",
    "    cigale['UVoptIR_bayes.sfh.sfr10Myrs'].name = \"cigale_sfr\"\n",
    "    cigale['UVoptIR_bayes.sfh.sfr10Myrs_err'].name = \"cigale_sfr_err\"\n",
    "    cigale['UVoptIR_bayes.dust.luminosity'].name = \"cigale_dustlumin\"\n",
    "    cigale['UVoptIR_bayes.dust.luminosity_err'].name = \"cigale_dustlumin_err\"\n",
    "    cigale['IR_bayes.dust.luminosity'].name = \"cigale_dustlumin_ironly\"\n",
    "    cigale['IR_bayes.dust.luminosity_err'].name = \"cigale_dustlumin_ironly_err\"\n",
    "\n",
    "    cigale = cigale['help_id', 'cigale_mstar', 'cigale_mstar_err', 'cigale_sfr',\n",
    "                    'cigale_sfr_err', 'cigale_dustlumin', 'cigale_dustlumin_err', \n",
    "                    'cigale_dustlumin_ironly', 'cigale_dustlumin_ironly_err', \n",
    "                    'flag_cigale', 'flag_cigale_opt', 'flag_cigale_ir', \n",
    "                    'flag_cigale_ironly']"
   ]
  },
  {
   "cell_type": "code",
   "execution_count": 19,
   "metadata": {
    "collapsed": true
   },
   "outputs": [],
   "source": [
    "if not FIRST_RUN_FOR_CIGALE:\n",
    "\n",
    "    merged_table = join(merged_table, cigale, join_type='left')\n",
    "\n",
    "    # Fill values\n",
    "    for col in cigale.colnames:\n",
    "        if col.startswith(\"cigale_\"):\n",
    "            merged_table[col].fill_value = np.nan\n",
    "        elif col.startswith(\"flag_\"):\n",
    "            merged_table[col].fill_value = -1\n",
    "    merged_table = merged_table.filled()"
   ]
  },
  {
   "cell_type": "markdown",
   "metadata": {},
   "source": [
    "# Sorting columns\n",
    "\n",
    "We sort the columns by increasing band wavelength."
   ]
  },
  {
   "cell_type": "code",
   "execution_count": 20,
   "metadata": {
    "collapsed": true
   },
   "outputs": [],
   "source": [
    "if not FIRST_RUN_FOR_CIGALE:\n",
    "\n",
    "    bands = [col[2:] for col in merged_table.colnames\n",
    "             if col.startswith('f_') and not col.startswith('f_ap')]\n",
    "    bands.sort(key=lambda x: filter_mean_lambda[x])"
   ]
  },
  {
   "cell_type": "code",
   "execution_count": 21,
   "metadata": {
    "collapsed": true
   },
   "outputs": [],
   "source": [
    "if not FIRST_RUN_FOR_CIGALE:\n",
    "\n",
    "    columns = ['help_id', 'field', 'ra', 'dec', 'hp_idx', 'ebv', 'redshift', 'zspec']\n",
    "    for band in bands:\n",
    "        for col_tpl in ['f_{}', 'ferr_{}', 'f_ap_{}', 'ferr_ap_{}',\n",
    "                        'm_{}', 'merr_{}', 'm_ap_{}', 'merr_ap_{}',\n",
    "                        'flag_{}']:\n",
    "            colname = col_tpl.format(band)\n",
    "            if colname in merged_table.colnames:\n",
    "                columns.append(colname)\n",
    "    columns += ['cigale_mstar', 'cigale_mstar_err', 'cigale_sfr', 'cigale_sfr_err',\n",
    "                'cigale_dustlumin', 'cigale_dustlumin_err', 'cigale_dustlumin_ironly', \n",
    "                'cigale_dustlumin_ironly_err', 'flag_cigale', 'flag_cigale_opt', \n",
    "                'flag_cigale_ir', 'flag_cigale_ironly', 'stellarity', \n",
    "                'stellarity_origin', 'flag_cleaned', 'flag_merged', 'flag_gaia', \n",
    "                'flag_optnir_obs', 'flag_optnir_det', 'zspec_qual', \n",
    "                'zspec_association_flag']"
   ]
  },
  {
   "cell_type": "code",
   "execution_count": 22,
   "metadata": {
    "collapsed": true
   },
   "outputs": [],
   "source": [
    "if not FIRST_RUN_FOR_CIGALE:\n",
    "\n",
    "    # Check that we did not forget any column\n",
    "    assert set(columns) == set(merged_table.colnames)"
   ]
  },
  {
   "cell_type": "markdown",
   "metadata": {},
   "source": [
    "# Saving"
   ]
  },
  {
   "cell_type": "code",
   "execution_count": 23,
   "metadata": {
    "collapsed": true
   },
   "outputs": [],
   "source": [
    "if not FIRST_RUN_FOR_CIGALE:\n",
    "\n",
    "    merged_table[columns].write(\"data/CDFS-SWIRE.fits\", overwrite=True)"
   ]
  }
 ],
 "metadata": {
  "kernelspec": {
   "display_name": "Python (herschelhelp_internal)",
   "language": "python",
   "name": "helpint"
  },
  "language_info": {
   "codemirror_mode": {
    "name": "ipython",
    "version": 3
   },
   "file_extension": ".py",
   "mimetype": "text/x-python",
   "name": "python",
   "nbconvert_exporter": "python",
   "pygments_lexer": "ipython3",
   "version": "3.6.4"
  }
 },
 "nbformat": 4,
 "nbformat_minor": 2
}
