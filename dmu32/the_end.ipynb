{
 "cells": [
  {
   "cell_type": "markdown",
   "metadata": {},
   "source": [
    "# Final stage of HELP data processing\n",
    "\n",
    "This notebook performs collates the final output files ready for writing to csv for ingestion to a VO server\n",
    "\n",
    "- Take DR1 masterlist suffixes from overview table\n",
    "- Find dmu32 full table names and write to a file"
   ]
  },
  {
   "cell_type": "code",
   "execution_count": 1,
   "metadata": {},
   "outputs": [
    {
     "name": "stderr",
     "output_type": "stream",
     "text": [
      "/Users/rs548/anaconda/envs/herschelhelp_internal/lib/python3.6/site-packages/seaborn/apionly.py:6: UserWarning: As seaborn no longer sets a default style on import, the seaborn.apionly module is deprecated. It will be removed in a future version.\n",
      "  warnings.warn(msg, UserWarning)\n"
     ]
    }
   ],
   "source": [
    "from astropy.table import Table, Column\n",
    "from astropy import units as u\n",
    "import numpy as np\n",
    "\n",
    "from pymoc import MOC\n",
    "\n",
    "from herschelhelp_internal.masterlist import find_last_ml_suffix\n",
    "\n",
    "import os\n",
    "import humanfriendly"
   ]
  },
  {
   "cell_type": "markdown",
   "metadata": {},
   "source": [
    "## The definition of HELP DR1\n",
    "Here we take the DR1 definition from dmu1. We then propagate those suffixes through to dmu32. Note that this does not include a specification of how the masterlist made its way through the whole HELP process."
   ]
  },
  {
   "cell_type": "code",
   "execution_count": 2,
   "metadata": {
    "collapsed": true
   },
   "outputs": [],
   "source": [
    "dr1 = Table.read(\"../dmu1/dr1_overview.fits\")"
   ]
  },
  {
   "cell_type": "code",
   "execution_count": 3,
   "metadata": {},
   "outputs": [
    {
     "data": {
      "text/html": [
       "<i>Table length=23</i>\n",
       "<table id=\"table4547832800-892334\" class=\"table-striped table-bordered table-condensed\">\n",
       "<thead><tr><th>idx</th><th>field</th><th>dr1_suffix</th><th>last_suffix</th><th>objects</th><th>area_sq_degrees</th><th>file_size_bytes</th><th>file_size_readable</th></tr></thead>\n",
       "<tr><td>0</td><td>AKARI-NEP</td><td>20171202</td><td>20171211</td><td>285786</td><td>9.0</td><td>241231680</td><td>241.23 MB</td></tr>\n",
       "<tr><td>1</td><td>AKARI-SEP</td><td>20180122</td><td>20180201</td><td>844172</td><td>9.0</td><td>524255040</td><td>524.26 MB</td></tr>\n",
       "<tr><td>2</td><td>Bootes</td><td>20180111</td><td>20180111</td><td>3388482</td><td>11.0</td><td>4537221120</td><td>4.54 GB</td></tr>\n",
       "<tr><td>3</td><td>CDFS-SWIRE</td><td>20180129</td><td>20180130</td><td>2171051</td><td>13.0</td><td>5731646400</td><td>5.73 GB</td></tr>\n",
       "<tr><td>4</td><td>COSMOS</td><td>20180112</td><td>20180201</td><td>2779194</td><td>5.0</td><td>4630199040</td><td>4.63 GB</td></tr>\n",
       "<tr><td>5</td><td>EGS</td><td>20171202</td><td>20171202</td><td>1412613</td><td>4.0</td><td>3890416320</td><td>3.89 GB</td></tr>\n",
       "<tr><td>6</td><td>ELAIS-N1</td><td>20171016</td><td>20171016</td><td>4026292</td><td>14.0</td><td>5242279680</td><td>5.24 GB</td></tr>\n",
       "<tr><td>7</td><td>ELAIS-N2</td><td>20171207</td><td>20180201</td><td>1783240</td><td>9.0</td><td>1941984000</td><td>1.94 GB</td></tr>\n",
       "<tr><td>8</td><td>ELAIS-S1</td><td>20180122</td><td>20180201</td><td>1655564</td><td>9.0</td><td>1908901440</td><td>1.91 GB</td></tr>\n",
       "<tr><td>9</td><td>GAMA-09</td><td>20171206</td><td>20171206</td><td>12937982</td><td>62.0</td><td>19652852160</td><td>19.65 GB</td></tr>\n",
       "<tr><td>10</td><td>GAMA-12</td><td>20180129</td><td>20180129</td><td>12369415</td><td>63.0</td><td>14385677760</td><td>14.39 GB</td></tr>\n",
       "<tr><td>11</td><td>GAMA-15</td><td>20180129</td><td>20180129</td><td>14232880</td><td>62.0</td><td>16310928960</td><td>16.31 GB</td></tr>\n",
       "<tr><td>12</td><td>HDF-N</td><td>20171212</td><td>20180201</td><td>130679</td><td>1.0</td><td>188346240</td><td>188.35 MB</td></tr>\n",
       "<tr><td>13</td><td>Herschel-Stripe-82</td><td>20180113</td><td>20180113</td><td>49243287</td><td>363.0</td><td>111585386880</td><td>111.59 GB</td></tr>\n",
       "<tr><td>14</td><td>Lockman-SWIRE</td><td>20171201</td><td>20171201</td><td>4366298</td><td>22.0</td><td>5108604480</td><td>5.11 GB</td></tr>\n",
       "<tr><td>15</td><td>NGP</td><td>20171207</td><td>20171207</td><td>6759591</td><td>178.0</td><td>4704701760</td><td>4.7 GB</td></tr>\n",
       "<tr><td>16</td><td>SA13</td><td>20171123</td><td>20180201</td><td>9799</td><td>0.0</td><td>2554560</td><td>2.55 MB</td></tr>\n",
       "<tr><td>17</td><td>SGP</td><td>20180124</td><td>20180124</td><td>29790690</td><td>295.0</td><td>48529091520</td><td>48.53 GB</td></tr>\n",
       "<tr><td>18</td><td>SPIRE-NEP</td><td>20171122</td><td>20171122</td><td>2674</td><td>0.0</td><td>1157760</td><td>1.16 MB</td></tr>\n",
       "<tr><td>19</td><td>SSDF</td><td>20180122</td><td>20180122</td><td>12661903</td><td>111.0</td><td>7825080960</td><td>7.83 GB</td></tr>\n",
       "<tr><td>20</td><td>xFLS</td><td>20171201</td><td>20171201</td><td>977148</td><td>7.0</td><td>1050474240</td><td>1.05 GB</td></tr>\n",
       "<tr><td>21</td><td>XMM-13hr</td><td>20171123</td><td>20180201</td><td>38629</td><td>1.0</td><td>10019520</td><td>10.02 MB</td></tr>\n",
       "<tr><td>22</td><td>XMM-LSS</td><td>20180130</td><td>20180130</td><td>8752529</td><td>22.0</td><td>33819894720</td><td>33.82 GB</td></tr>\n",
       "</table><style>table.dataTable {clear: both; width: auto !important; margin: 0 !important;}\n",
       ".dataTables_info, .dataTables_length, .dataTables_filter, .dataTables_paginate{\n",
       "display: inline-block; margin-right: 1em; }\n",
       ".paginate_button { margin-right: 5px; }\n",
       "</style>\n",
       "<script>\n",
       "\n",
       "var astropy_sort_num = function(a, b) {\n",
       "    var a_num = parseFloat(a);\n",
       "    var b_num = parseFloat(b);\n",
       "\n",
       "    if (isNaN(a_num) && isNaN(b_num))\n",
       "        return ((a < b) ? -1 : ((a > b) ? 1 : 0));\n",
       "    else if (!isNaN(a_num) && !isNaN(b_num))\n",
       "        return ((a_num < b_num) ? -1 : ((a_num > b_num) ? 1 : 0));\n",
       "    else\n",
       "        return isNaN(a_num) ? -1 : 1;\n",
       "}\n",
       "\n",
       "require.config({paths: {\n",
       "    datatables: 'https://cdn.datatables.net/1.10.12/js/jquery.dataTables.min'\n",
       "}});\n",
       "require([\"datatables\"], function(){\n",
       "    console.log(\"$('#table4547832800-892334').dataTable()\");\n",
       "    \n",
       "jQuery.extend( jQuery.fn.dataTableExt.oSort, {\n",
       "    \"optionalnum-asc\": astropy_sort_num,\n",
       "    \"optionalnum-desc\": function (a,b) { return -astropy_sort_num(a, b); }\n",
       "});\n",
       "\n",
       "    $('#table4547832800-892334').dataTable({\n",
       "        order: [],\n",
       "        pageLength: 50,\n",
       "        lengthMenu: [[10, 25, 50, 100, 500, 1000, -1], [10, 25, 50, 100, 500, 1000, 'All']],\n",
       "        pagingType: \"full_numbers\",\n",
       "        columnDefs: [{targets: [0, 4, 5, 6], type: \"optionalnum\"}]\n",
       "    });\n",
       "});\n",
       "</script>\n"
      ],
      "text/plain": [
       "<IPython.core.display.HTML object>"
      ]
     },
     "execution_count": 3,
     "metadata": {},
     "output_type": "execute_result"
    }
   ],
   "source": [
    "dr1.show_in_notebook()"
   ]
  },
  {
   "cell_type": "code",
   "execution_count": 6,
   "metadata": {},
   "outputs": [
    {
     "name": "stdout",
     "output_type": "stream",
     "text": [
      "./dmu32_AKARI-NEP/data/AKARI-NEP_20171202.fits\n",
      "./dmu32_AKARI-SEP/data/AKARI-SEP_20180122.fits\n",
      "./dmu32_Bootes/data/Bootes_20180111.fits\n",
      "./dmu32_CDFS-SWIRE/data/CDFS-SWIRE_20180129.fits\n",
      "./dmu32_COSMOS/data/COSMOS_20180112.fits\n",
      "./dmu32_EGS/data/EGS_20171202.fits\n",
      "./dmu32_ELAIS-N1/data/ELAIS-N1_20171016.fits\n",
      "./dmu32_ELAIS-N2/data/ELAIS-N2_20171207.fits\n",
      "./dmu32_ELAIS-S1/data/ELAIS-S1_20180122.fits\n",
      "./dmu32_GAMA-09/data/GAMA-09_20171206.fits\n",
      "./dmu32_GAMA-12/data/GAMA-12_20180129.fits\n",
      "./dmu32_GAMA-15/data/GAMA-15_20180129.fits\n",
      "./dmu32_HDF-N/data/HDF-N_20171212.fits\n",
      "./dmu32_Herschel-Stripe-82/data/Herschel-Stripe-82_20180113.fits\n",
      "./dmu32_Lockman-SWIRE/data/Lockman-SWIRE_20171201.fits\n",
      "./dmu32_NGP/data/NGP_20171207.fits\n",
      "./dmu32_SA13/data/SA13_20171123.fits\n",
      "./dmu32_SGP/data/SGP_20180124.fits\n",
      "./dmu32_SPIRE-NEP/data/SPIRE-NEP_20171122.fits\n",
      "./dmu32_SSDF/data/SSDF_20180122.fits\n",
      "./dmu32_xFLS/data/xFLS_20171201.fits\n",
      "./dmu32_XMM-13hr/data/XMM-13hr_20171123.fits\n",
      "./dmu32_XMM-LSS/data/XMM-LSS_20180130.fits\n"
     ]
    }
   ],
   "source": [
    "\n",
    "final_data = open('help.lis', 'w+')\n",
    "for field in dr1:\n",
    "    print('./dmu32_{}/data/{}_{}.fits'.format(field[0], field[0], field[1]))\n",
    "    final_data.write('./dmu32_{}/data/{}_{}.fits'.format(field[0], field[0], field[1]))\n",
    "    \n",
    "final_data.close()"
   ]
  },
  {
   "cell_type": "markdown",
   "metadata": {},
   "source": [
    "The out put of this notebook is a file 'dr1_all_final_cats.lis' which contains a list of all the final dmu32\n",
    "\n",
    "<pre>\n",
    "stilts tcat in=@final_data.lis ofmt=csv out=help.csv\n",
    "</pre>"
   ]
  },
  {
   "cell_type": "code",
   "execution_count": null,
   "metadata": {
    "collapsed": true
   },
   "outputs": [],
   "source": []
  }
 ],
 "metadata": {
  "kernelspec": {
   "display_name": "Python (herschelhelp_internal)",
   "language": "python",
   "name": "helpint"
  },
  "language_info": {
   "codemirror_mode": {
    "name": "ipython",
    "version": 3
   },
   "file_extension": ".py",
   "mimetype": "text/x-python",
   "name": "python",
   "nbconvert_exporter": "python",
   "pygments_lexer": "ipython3",
   "version": "3.6.1"
  }
 },
 "nbformat": 4,
 "nbformat_minor": 2
}
