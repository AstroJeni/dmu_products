{
 "cells": [
  {
   "cell_type": "markdown",
   "metadata": {},
   "source": [
    "# Final stage of HELP data processing\n",
    "\n",
    "This notebook performs collates the final output files ready for writing to csv for ingestion to a VO server\n",
    "\n",
    "- Take DR1 masterlist suffixes from overview table\n",
    "- Find dmu32 full table names and write to a file"
   ]
  },
  {
   "cell_type": "code",
   "execution_count": 1,
   "metadata": {
    "collapsed": true
   },
   "outputs": [],
   "source": [
    "from astropy.table import Table, Column\n",
    "from astropy import units as u\n",
    "import numpy as np\n",
    "\n",
    "from pymoc import MOC\n",
    "\n",
    "from herschelhelp_internal.masterlist import find_last_ml_suffix\n",
    "\n",
    "import os\n",
    "\n",
    "import humanfriendly"
   ]
  },
  {
   "cell_type": "markdown",
   "metadata": {},
   "source": [
    "## The definition of HELP DR1\n",
    "Here we take the DR1 definition from dmu1. We then propagate those suffixes through to dmu32. Note that this does not include a specification of how the masterlist made its way through the whole HELP process."
   ]
  },
  {
   "cell_type": "code",
   "execution_count": 2,
   "metadata": {
    "collapsed": true
   },
   "outputs": [],
   "source": [
    "dr1 = Table.read(\"../dmu1/dr1_overview.fits\")"
   ]
  },
  {
   "cell_type": "code",
   "execution_count": 3,
   "metadata": {},
   "outputs": [
    {
     "data": {
      "text/html": [
       "<i>Table length=23</i>\n",
       "<table id=\"table139909371936384-314606\" class=\"table-striped table-bordered table-condensed\">\n",
       "<thead><tr><th>idx</th><th>field</th><th>dr1_suffix</th><th>last_suffix</th><th>objects</th><th>area_sq_degrees</th><th>file_size_bytes</th><th>file_size_readable</th></tr></thead>\n",
       "<tr><td>0</td><td>AKARI-NEP</td><td>20180215</td><td>20180215</td><td>531746</td><td>9.0</td><td>348848640</td><td>348.85 MB</td></tr>\n",
       "<tr><td>1</td><td>AKARI-SEP</td><td>20180221</td><td>20180221</td><td>844172</td><td>9.0</td><td>538606080</td><td>538.61 MB</td></tr>\n",
       "<tr><td>2</td><td>Bootes</td><td>20180307</td><td>20180307</td><td>3367490</td><td>11.0</td><td>4310429760</td><td>4.31 GB</td></tr>\n",
       "<tr><td>3</td><td>CDFS-SWIRE</td><td>20180221</td><td>20180221</td><td>2171051</td><td>13.0</td><td>5705593920</td><td>5.71 GB</td></tr>\n",
       "<tr><td>4</td><td>COSMOS</td><td>20180313</td><td>20180313</td><td>2599374</td><td>5.0</td><td>10446992640</td><td>10.45 GB</td></tr>\n",
       "<tr><td>5</td><td>EGS</td><td>20180217</td><td>20180217</td><td>1412613</td><td>4.0</td><td>3778816320</td><td>3.78 GB</td></tr>\n",
       "<tr><td>6</td><td>ELAIS-N1</td><td>20171016</td><td>20180216</td><td>4026292</td><td>14.0</td><td>5242279680</td><td>5.24 GB</td></tr>\n",
       "<tr><td>7</td><td>ELAIS-N2</td><td>20180218</td><td>20180218</td><td>1783240</td><td>9.0</td><td>2007964800</td><td>2.01 GB</td></tr>\n",
       "<tr><td>8</td><td>ELAIS-S1</td><td>20180221</td><td>20180221</td><td>1655564</td><td>9.0</td><td>1970156160</td><td>1.97 GB</td></tr>\n",
       "<tr><td>9</td><td>GAMA-09</td><td>20171206</td><td>20171206</td><td>12937982</td><td>62.0</td><td>19652852160</td><td>19.65 GB</td></tr>\n",
       "<tr><td>10</td><td>GAMA-12</td><td>20180218</td><td>20180218</td><td>12369415</td><td>63.0</td><td>14633066880</td><td>14.63 GB</td></tr>\n",
       "<tr><td>11</td><td>GAMA-15</td><td>20180213</td><td>20180213</td><td>14232880</td><td>62.0</td><td>16595585280</td><td>16.6 GB</td></tr>\n",
       "<tr><td>12</td><td>HDF-N</td><td>20180219</td><td>20180219</td><td>130679</td><td>1.0</td><td>183251520</td><td>183.25 MB</td></tr>\n",
       "<tr><td>13</td><td>Herschel-Stripe-82</td><td>20180307</td><td>20180307</td><td>50196455</td><td>363.0</td><td>127047306240</td><td>127.05 GB</td></tr>\n",
       "<tr><td>14</td><td>Lockman-SWIRE</td><td>20180219</td><td>20180219</td><td>4366298</td><td>22.0</td><td>5195931840</td><td>5.2 GB</td></tr>\n",
       "<tr><td>15</td><td>NGP</td><td>20180219</td><td>20180219</td><td>6759591</td><td>178.0</td><td>4954806720</td><td>4.95 GB</td></tr>\n",
       "<tr><td>16</td><td>SA13</td><td>20180219</td><td>20180219</td><td>9799</td><td>0.0</td><td>2721600</td><td>2.72 MB</td></tr>\n",
       "<tr><td>17</td><td>SGP</td><td>20180221</td><td>20180221</td><td>29790690</td><td>295.0</td><td>45192530880</td><td>45.19 GB</td></tr>\n",
       "<tr><td>18</td><td>SPIRE-NEP</td><td>20180220</td><td>20180220</td><td>2674</td><td>0.0</td><td>1203840</td><td>1.2 MB</td></tr>\n",
       "<tr><td>19</td><td>SSDF</td><td>20180221</td><td>20180221</td><td>12661903</td><td>111.0</td><td>8078319360</td><td>8.08 GB</td></tr>\n",
       "<tr><td>20</td><td>xFLS</td><td>20180221</td><td>20180221</td><td>977148</td><td>7.0</td><td>1050474240</td><td>1.05 GB</td></tr>\n",
       "<tr><td>21</td><td>XMM-13hr</td><td>20180221</td><td>20180221</td><td>38629</td><td>1.0</td><td>10676160</td><td>10.68 MB</td></tr>\n",
       "<tr><td>22</td><td>XMM-LSS</td><td>20180221</td><td>20180221</td><td>8704751</td><td>22.0</td><td>28238313600</td><td>28.24 GB</td></tr>\n",
       "</table><style>table.dataTable {clear: both; width: auto !important; margin: 0 !important;}\n",
       ".dataTables_info, .dataTables_length, .dataTables_filter, .dataTables_paginate{\n",
       "display: inline-block; margin-right: 1em; }\n",
       ".paginate_button { margin-right: 5px; }\n",
       "</style>\n",
       "<script>\n",
       "\n",
       "var astropy_sort_num = function(a, b) {\n",
       "    var a_num = parseFloat(a);\n",
       "    var b_num = parseFloat(b);\n",
       "\n",
       "    if (isNaN(a_num) && isNaN(b_num))\n",
       "        return ((a < b) ? -1 : ((a > b) ? 1 : 0));\n",
       "    else if (!isNaN(a_num) && !isNaN(b_num))\n",
       "        return ((a_num < b_num) ? -1 : ((a_num > b_num) ? 1 : 0));\n",
       "    else\n",
       "        return isNaN(a_num) ? -1 : 1;\n",
       "}\n",
       "\n",
       "require.config({paths: {\n",
       "    datatables: 'https://cdn.datatables.net/1.10.12/js/jquery.dataTables.min'\n",
       "}});\n",
       "require([\"datatables\"], function(){\n",
       "    console.log(\"$('#table139909371936384-314606').dataTable()\");\n",
       "    \n",
       "jQuery.extend( jQuery.fn.dataTableExt.oSort, {\n",
       "    \"optionalnum-asc\": astropy_sort_num,\n",
       "    \"optionalnum-desc\": function (a,b) { return -astropy_sort_num(a, b); }\n",
       "});\n",
       "\n",
       "    $('#table139909371936384-314606').dataTable({\n",
       "        order: [],\n",
       "        pageLength: 50,\n",
       "        lengthMenu: [[10, 25, 50, 100, 500, 1000, -1], [10, 25, 50, 100, 500, 1000, 'All']],\n",
       "        pagingType: \"full_numbers\",\n",
       "        columnDefs: [{targets: [0, 4, 5, 6], type: \"optionalnum\"}]\n",
       "    });\n",
       "});\n",
       "</script>\n"
      ],
      "text/plain": [
       "<IPython.core.display.HTML object>"
      ]
     },
     "execution_count": 3,
     "metadata": {},
     "output_type": "execute_result"
    }
   ],
   "source": [
    "dr1.show_in_notebook()"
   ]
  },
  {
   "cell_type": "code",
   "execution_count": 4,
   "metadata": {},
   "outputs": [
    {
     "name": "stdout",
     "output_type": "stream",
     "text": [
      "./dmu32_AKARI-NEP/data/AKARI-NEP_20180215_cigale.fits\n",
      "./dmu32_AKARI-SEP/data/AKARI-SEP_20180221_cigale.fits\n",
      "./dmu32_Bootes/data/Bootes_20180307_cigale.fits\n",
      "./dmu32_CDFS-SWIRE/data/CDFS-SWIRE_20180221.fits\n",
      "./dmu32_COSMOS/data/COSMOS_20180313_cigale.fits\n",
      "./dmu32_EGS/data/EGS_20180217_cigale.fits\n",
      "./dmu32_ELAIS-N1/data/ELAIS-N1_20171016.fits\n",
      "./dmu32_ELAIS-N2/data/ELAIS-N2_20180218_cigale.fits\n",
      "./dmu32_ELAIS-S1/data/ELAIS-S1_20180221_cigale.fits\n",
      "./dmu32_GAMA-09/data/GAMA-09_20171206_cigale.fits\n",
      "./dmu32_GAMA-12/data/GAMA-12_20180218_cigale.fits\n",
      "./dmu32_GAMA-15/data/GAMA-15_20180213_cigale.fits\n",
      "./dmu32_HDF-N/data/HDF-N_20180219_cigale.fits\n",
      "./dmu32_Herschel-Stripe-82/data/Herschel-Stripe-82_20180307_cigale.fits\n",
      "./dmu32_Lockman-SWIRE/data/Lockman-SWIRE_20180219.fits\n",
      "./dmu32_NGP/data/NGP_20180219_cigale.fits\n",
      "./dmu32_SA13/data/SA13_20180219_cigale.fits\n",
      "./dmu32_SGP/data/SGP_20180221_cigale.fits\n",
      "./dmu32_SPIRE-NEP/data/SPIRE-NEP_20180220_cigale.fits\n",
      "./dmu32_SSDF/data/SSDF_20180221_cigale.fits\n",
      "./dmu32_xFLS/data/xFLS_20180221_cigale.fits\n",
      "./dmu32_XMM-13hr/data/XMM-13hr_20180221_cigale.fits\n",
      "./dmu32_XMM-LSS/data/XMM-LSS_20180221_cigale.fits\n"
     ]
    }
   ],
   "source": [
    "GAVO_FOLDER = '/mnt/hedam/data_vo/'\n",
    "stilts_command = 'stilts tpipe {in_file} omode=out ofmt=csv out={GAVO_FOLDER}{out_file}'\n",
    "\n",
    "final_data = open('help_to_vo.sh', 'w+')\n",
    "for field in dr1:\n",
    "    final_help_product = './dmu32_{}/data/{}_{}.fits'.format(field[0], field[0], field[1])\n",
    "    cigale_input = './dmu32_{}/data/{}_{}_cigale.fits'.format(field[0], field[0], field[1])\n",
    "\n",
    "    if os.path.exists(final_help_product):\n",
    "        print(final_help_product)\n",
    "    \n",
    "        #Test with Cigale input files\n",
    "        final_data.write(stilts_command.format(in_file=final_help_product, \n",
    "                                               GAVO_FOLDER=GAVO_FOLDER, \n",
    "                                               out_file='herschelhelp/main/{}_{}_all.csv \\n'.format(field[0], \n",
    "                                                                                                field[1])))\n",
    "    elif os.path.exists(cigale_input):\n",
    "        print(cigale_input)\n",
    "        final_data.write(stilts_command.format(in_file=cigale_input, \n",
    "                                               GAVO_FOLDER=GAVO_FOLDER, \n",
    "                                               out_file='herschelhelp/main/{}_{}_incomplete.csv \\n'.format(field[0], \n",
    "                                                                                                       field[1])))\n",
    "        \n",
    "    else:\n",
    "        final_data.write('# No data for {} \\n'.format(field[0]))\n",
    "        \n",
    "    #final_data.write('./dmu32_{}/data/{}_{}.fits'.format(field[0], field[0], field[1]))\n",
    "    \n",
    "final_data.close()"
   ]
  },
  {
   "cell_type": "markdown",
   "metadata": {},
   "source": [
    "The out put of this notebook is a shell script which will write all the fits files to csv files in the vo folder"
   ]
  },
  {
   "cell_type": "code",
   "execution_count": 5,
   "metadata": {
    "collapsed": true
   },
   "outputs": [],
   "source": [
    "depths_to_vo = open('depths_to_vo.sh', 'w+')\n",
    "for field in dr1:\n",
    "    final_depth_product = './dmu1_ml_{}/data/depths_{}_{}.fits'.format(field[0], field[0].lower(), field[1])\n",
    "    \n",
    "\n",
    "    if os.path.exists(final_depth_product):\n",
    "        print(final_depth_product)\n",
    "    \n",
    "        #Test with Cigale input files\n",
    "        depths_to_vo.write(stilts_command.format(in_file=final_depth_product, \n",
    "                                               GAVO_FOLDER=GAVO_FOLDER, \n",
    "                                               out_file='depths/main/{}_{}.csv \\n'.format(field[0], \n",
    "                                                                                                field[1])))\n",
    "\n",
    "        \n",
    "    else:\n",
    "        depths_to_vo.write('# No depths for {} \\n'.format(field[0]))\n",
    "        \n",
    "    #final_data.write('./dmu32_{}/data/{}_{}.fits'.format(field[0], field[0], field[1]))\n",
    "    \n",
    "depths_to_vo.close()"
   ]
  }
 ],
 "metadata": {
  "kernelspec": {
   "display_name": "Python (herschelhelp_internal)",
   "language": "python",
   "name": "helpint"
  },
  "language_info": {
   "codemirror_mode": {
    "name": "ipython",
    "version": 3
   },
   "file_extension": ".py",
   "mimetype": "text/x-python",
   "name": "python",
   "nbconvert_exporter": "python",
   "pygments_lexer": "ipython3",
   "version": "3.6.4"
  }
 },
 "nbformat": 4,
 "nbformat_minor": 2
}
