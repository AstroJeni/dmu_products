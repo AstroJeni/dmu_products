{
 "cells": [
  {
   "cell_type": "markdown",
   "metadata": {},
   "source": [
    "# Final Processing\n",
    "The final processing stage requires:\n",
    "1. Quick validation of catalogues and Bayesian Pvalue maps\n",
    "2. Skewness level\n",
    "3. Adding flag to catalogue"
   ]
  },
  {
   "cell_type": "code",
   "execution_count": 1,
   "metadata": {
    "collapsed": true
   },
   "outputs": [],
   "source": [
    "import seaborn as sns\n",
    "from astropy.table import Table\n",
    "%matplotlib inline\n",
    "import numpy as np\n",
    "import pylab as plt"
   ]
  },
  {
   "cell_type": "markdown",
   "metadata": {},
   "source": [
    "## Read tables"
   ]
  },
  {
   "cell_type": "code",
   "execution_count": 2,
   "metadata": {},
   "outputs": [],
   "source": [
    "cat=Table.read('../data/Lockman-SWIRE/MIPS/dmu26_XID+MIPS_Lockman-SWIRE_cat.fits')\n"
   ]
  },
  {
   "cell_type": "code",
   "execution_count": 3,
   "metadata": {},
   "outputs": [
    {
     "data": {
      "text/html": [
       "&lt;Table length=10&gt;\n",
       "<table id=\"table4326790144\" class=\"table-striped table-bordered table-condensed\">\n",
       "<thead><tr><th>help_id</th><th>RA</th><th>Dec</th><th>F_MIPS_24</th><th>FErr_MIPS_24_u</th><th>FErr_MIPS_24_l</th><th>Bkg_MIPS_24</th><th>Sig_conf_MIPS_24</th><th>Rhat_MIPS_24</th><th>n_eff_MIPS_24</th><th>Pval_res_24</th></tr></thead>\n",
       "<thead><tr><th></th><th>degrees</th><th>degrees</th><th>muJy</th><th>muJy</th><th>muJy</th><th>MJy / sr</th><th>MJy / sr</th><th></th><th></th><th></th></tr></thead>\n",
       "<thead><tr><th>str27</th><th>float64</th><th>float64</th><th>float32</th><th>float32</th><th>float32</th><th>float32</th><th>float32</th><th>float32</th><th>float32</th><th>float32</th></tr></thead>\n",
       "<tr><td>HELP_J104834.640+553618.070</td><td>162.1443344</td><td>55.6050193754</td><td>953.652</td><td>1391.02</td><td>558.782</td><td>-0.263134</td><td>4.94239e-06</td><td>1.0021</td><td>959.0</td><td>0.0</td></tr>\n",
       "<tr><td>HELP_J104844.111+553806.455</td><td>162.18379776</td><td>55.6351263157</td><td>5.835</td><td>15.6855</td><td>1.42353</td><td>-0.124418</td><td>5.0304e-06</td><td>nan</td><td>1428.0</td><td>0.0</td></tr>\n",
       "<tr><td>HELP_J104909.113+554129.002</td><td>162.287969389</td><td>55.6913894849</td><td>16.5938</td><td>33.347</td><td>5.67531</td><td>3.73435e-05</td><td>4.89605e-06</td><td>1.00059</td><td>1623.0</td><td>0.0</td></tr>\n",
       "<tr><td>HELP_J104910.454+554135.336</td><td>162.293559631</td><td>55.6931488629</td><td>47.5049</td><td>66.385</td><td>28.2103</td><td>3.73435e-05</td><td>4.89605e-06</td><td>nan</td><td>775.0</td><td>0.0</td></tr>\n",
       "<tr><td>HELP_J104911.099+554218.548</td><td>162.29624584</td><td>55.7051523559</td><td>187.706</td><td>204.257</td><td>169.476</td><td>-0.00208601</td><td>5.06499e-06</td><td>1.00105</td><td>1615.0</td><td>0.0</td></tr>\n",
       "<tr><td>HELP_J104919.290+554303.561</td><td>162.330374299</td><td>55.7176559469</td><td>39.9872</td><td>58.7282</td><td>22.266</td><td>-0.00208601</td><td>5.06499e-06</td><td>nan</td><td>2000.0</td><td>0.0</td></tr>\n",
       "<tr><td>HELP_J104916.682+554301.860</td><td>162.319507377</td><td>55.7171832419</td><td>18.1097</td><td>33.5374</td><td>6.31178</td><td>-0.00208601</td><td>5.06499e-06</td><td>1.00147</td><td>1201.0</td><td>0.0</td></tr>\n",
       "<tr><td>HELP_J104914.098+554211.057</td><td>162.308741513</td><td>55.7030714689</td><td>270.506</td><td>288.916</td><td>253.788</td><td>-0.00208601</td><td>5.06499e-06</td><td>nan</td><td>1763.0</td><td>0.0</td></tr>\n",
       "<tr><td>HELP_J104910.874+554227.417</td><td>162.295306988</td><td>55.7076158319</td><td>30.2717</td><td>47.4151</td><td>13.7691</td><td>-0.00208601</td><td>5.06499e-06</td><td>0.999344</td><td>1381.0</td><td>0.0</td></tr>\n",
       "<tr><td>HELP_J104914.130+554220.288</td><td>162.308873375</td><td>55.7056354849</td><td>251.413</td><td>270.354</td><td>232.821</td><td>-0.00208601</td><td>5.06499e-06</td><td>nan</td><td>1918.0</td><td>0.0</td></tr>\n",
       "</table>"
      ],
      "text/plain": [
       "<Table length=10>\n",
       "          help_id                 RA      ... n_eff_MIPS_24 Pval_res_24\n",
       "                               degrees    ...                          \n",
       "           str27               float64    ...    float32      float32  \n",
       "--------------------------- ------------- ... ------------- -----------\n",
       "HELP_J104834.640+553618.070   162.1443344 ...         959.0         0.0\n",
       "HELP_J104844.111+553806.455  162.18379776 ...        1428.0         0.0\n",
       "HELP_J104909.113+554129.002 162.287969389 ...        1623.0         0.0\n",
       "HELP_J104910.454+554135.336 162.293559631 ...         775.0         0.0\n",
       "HELP_J104911.099+554218.548  162.29624584 ...        1615.0         0.0\n",
       "HELP_J104919.290+554303.561 162.330374299 ...        2000.0         0.0\n",
       "HELP_J104916.682+554301.860 162.319507377 ...        1201.0         0.0\n",
       "HELP_J104914.098+554211.057 162.308741513 ...        1763.0         0.0\n",
       "HELP_J104910.874+554227.417 162.295306988 ...        1381.0         0.0\n",
       "HELP_J104914.130+554220.288 162.308873375 ...        1918.0         0.0"
      ]
     },
     "execution_count": 3,
     "metadata": {},
     "output_type": "execute_result"
    }
   ],
   "source": [
    "cat[0:10]"
   ]
  },
  {
   "cell_type": "code",
   "execution_count": 5,
   "metadata": {
    "collapsed": true
   },
   "outputs": [],
   "source": [
    "from astropy import units as u"
   ]
  },
  {
   "cell_type": "code",
   "execution_count": 6,
   "metadata": {},
   "outputs": [
    {
     "data": {
      "text/latex": [
       "$\\mathrm{{}^{\\circ}}$"
      ],
      "text/plain": [
       "Unit(\"deg\")"
      ]
     },
     "execution_count": 6,
     "metadata": {},
     "output_type": "execute_result"
    }
   ],
   "source": [
    "u.degree"
   ]
  },
  {
   "cell_type": "code",
   "execution_count": 7,
   "metadata": {},
   "outputs": [],
   "source": [
    "cat['RA'].unit=u.degree\n",
    "cat['Dec'].unit=u.degree\n",
    "cat['F_MIPS_24'].unit=u.uJy\n",
    "cat['FErr_MIPS_24_l'].unit=u.uJy\n",
    "cat['FErr_MIPS_24_u'].unit=u.uJy"
   ]
  },
  {
   "cell_type": "markdown",
   "metadata": {},
   "source": [
    "## Look at Symmetry of PDFs to determine depth level of catalogue"
   ]
  },
  {
   "cell_type": "code",
   "execution_count": 8,
   "metadata": {},
   "outputs": [
    {
     "data": {
      "image/png": "[encoded data removed]",
      "text/plain": [
       "<matplotlib.figure.Figure at 0x10cd0ec88>"
      ]
     },
     "metadata": {},
     "output_type": "display_data"
    }
   ],
   "source": [
    "skew=(cat['FErr_MIPS_24_u']-cat['F_MIPS_24'])/(cat['F_MIPS_24']-cat['FErr_MIPS_24_l'])\n",
    "skew.name='(84th-50th)/(50th-16th) percentile'\n",
    "#g=sns.jointplot(x=np.log10(cat['F_MIPS_24']),y=skew,ylim=(0.1,10))\n",
    "g=sns.jointplot(x=np.log10(cat['F_MIPS_24'][0:5000]),y=skew[0:5000],ylim=(0.1,10))\n"
   ]
  },
  {
   "cell_type": "markdown",
   "metadata": {},
   "source": [
    "Both seem to have flux pdfs that become Gaussian at ~20$\\mathrm{\\mu Jy}$ "
   ]
  },
  {
   "cell_type": "markdown",
   "metadata": {},
   "source": [
    "## Add flag to catalogue"
   ]
  },
  {
   "cell_type": "code",
   "execution_count": 10,
   "metadata": {
    "collapsed": true
   },
   "outputs": [],
   "source": [
    "from astropy.table import Column\n",
    "cat.add_column(Column(np.zeros(len(cat), dtype=bool),name='flag_mips_24'))\n"
   ]
  },
  {
   "cell_type": "code",
   "execution_count": 11,
   "metadata": {
    "collapsed": true
   },
   "outputs": [],
   "source": [
    "ind=(cat['Pval_res_24']>0.5) | (cat['F_MIPS_24'] < 20.0)\n"
   ]
  },
  {
   "cell_type": "code",
   "execution_count": 12,
   "metadata": {
    "collapsed": true
   },
   "outputs": [],
   "source": [
    "cat['flag_mips_24'][ind]=True\n"
   ]
  },
  {
   "cell_type": "code",
   "execution_count": 13,
   "metadata": {
    "collapsed": true
   },
   "outputs": [],
   "source": [
    "cat.write('../data/Lockman-SWIRE/MIPS/dmu26_XID+MIPS_Lockman-SWIRE_cat_20171214.fits', format='fits',overwrite=True)\n"
   ]
  },
  {
   "cell_type": "code",
   "execution_count": null,
   "metadata": {
    "collapsed": true
   },
   "outputs": [],
   "source": []
  }
 ],
 "metadata": {
  "kernelspec": {
   "display_name": "Python [conda env:new]",
   "language": "python",
   "name": "conda-env-new-py"
  },
  "language_info": {
   "codemirror_mode": {
    "name": "ipython",
    "version": 3
   },
   "file_extension": ".py",
   "mimetype": "text/x-python",
   "name": "python",
   "nbconvert_exporter": "python",
   "pygments_lexer": "ipython3",
   "version": "3.6.0"
  }
 },
 "nbformat": 4,
 "nbformat_minor": 1
}
