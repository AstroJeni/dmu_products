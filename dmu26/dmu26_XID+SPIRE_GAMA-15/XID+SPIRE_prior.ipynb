{
 "cells": [
  {
   "cell_type": "code",
   "execution_count": 23,
   "metadata": {
    "collapsed": true
   },
   "outputs": [],
   "source": [
    "import pylab as plt\n",
    "import pymoc\n",
    "import xidplus\n",
    "import numpy as np\n",
    "%matplotlib inline\n",
    "from astropy.table import Table, join"
   ]
  },
  {
   "cell_type": "code",
   "execution_count": 2,
   "metadata": {
    "collapsed": true
   },
   "outputs": [],
   "source": [
    "import seaborn as sns"
   ]
  },
  {
   "cell_type": "markdown",
   "metadata": {},
   "source": [
    "This notebook uses all the raw data from the CIGALE predictions and photoz catalogue, maps, PSF and relevant MOCs to create XID+ prior object and relevant tiling scheme"
   ]
  },
  {
   "cell_type": "markdown",
   "metadata": {},
   "source": [
    "## Read in MOCs\n",
    "The selection functions required are the main MOC associated with the masterlist. "
   ]
  },
  {
   "cell_type": "code",
   "execution_count": 13,
   "metadata": {
    "collapsed": true
   },
   "outputs": [],
   "source": [
    "Sel_func=pymoc.MOC()\n",
    "Sel_func.read('../../dmu4/dmu4_sm_GAMA-15/data/holes_GAMA-15_ukidss_k_O16_20180327.fits')"
   ]
  },
  {
   "cell_type": "markdown",
   "metadata": {},
   "source": [
    "## Read in CIGALE predictions catalogue"
   ]
  },
  {
   "cell_type": "code",
   "execution_count": 14,
   "metadata": {
    "collapsed": true
   },
   "outputs": [],
   "source": [
    "cigale=Table.read('../GAMA15_Ldust_prediction_results.fits')"
   ]
  },
  {
   "cell_type": "code",
   "execution_count": 15,
   "metadata": {},
   "outputs": [],
   "source": [
    "cigale['id'].name = 'help_id'"
   ]
  },
  {
   "cell_type": "markdown",
   "metadata": {},
   "source": [
    "## Read in photoz"
   ]
  },
  {
   "cell_type": "code",
   "execution_count": 16,
   "metadata": {},
   "outputs": [],
   "source": [
    "photoz=Table.read('../../dmu24/dmu24_GAMA-15/data/master_catalogue_gama-15_20180119_photoz_20180210_r_optimised.fits')"
   ]
  },
  {
   "cell_type": "code",
   "execution_count": 17,
   "metadata": {},
   "outputs": [
    {
     "data": {
      "text/html": [
       "&lt;Table length=10109159&gt;\n",
       "<table id=\"table4601774432\" class=\"table-striped table-bordered table-condensed\">\n",
       "<thead><tr><th>help_id</th><th>RA</th><th>DEC</th><th>id</th><th>z1_median</th><th>z1_min</th><th>z1_max</th><th>z1_area</th><th>z2_median</th><th>z2_min</th><th>z2_max</th><th>z2_area</th><th>za_hb</th><th>chi_r_eazy</th><th>chi_r_atlas</th><th>chi_r_cosmos</th><th>chi_r_stellar</th><th>stellar_type</th></tr></thead>\n",
       "<thead><tr><th>str27</th><th>float64</th><th>float64</th><th>int64</th><th>float64</th><th>float64</th><th>float64</th><th>float64</th><th>float64</th><th>float64</th><th>float64</th><th>float64</th><th>float64</th><th>float64</th><th>float64</th><th>float64</th><th>float64</th><th>str6</th></tr></thead>\n",
       "<tr><td>HELP_J141546.547+000529.927</td><td>213.943944434</td><td>0.0916463485464</td><td>322065</td><td>0.9028</td><td>0.583</td><td>1.2407</td><td>0.78</td><td>1.6682</td><td>1.642</td><td>1.698</td><td>0.019</td><td>0.888999651538</td><td>0.0038901725</td><td>0.036354</td><td>0.070896275</td><td>1.8363205</td><td>m4iii</td></tr>\n",
       "<tr><td>HELP_J144113.844-000720.633</td><td>220.307684538</td><td>-0.122398155882</td><td>322066</td><td>1.1282</td><td>0.5225</td><td>1.856</td><td>0.775</td><td>0.3912</td><td>0.3587</td><td>0.4212</td><td>0.021</td><td>0.860917897266</td><td>0.067539125</td><td>0.034600075</td><td>0.01283038</td><td>1.328487</td><td>f8v</td></tr>\n",
       "<tr><td>HELP_J143631.813+002833.098</td><td>219.132553285</td><td>0.475860557929</td><td>322067</td><td>1.29</td><td>0.7952</td><td>1.8991</td><td>0.796</td><td>-99.0</td><td>-99.0</td><td>-99.0</td><td>-99.0</td><td>1.04812787974</td><td>0.0010802005</td><td>0.01882907</td><td>0.0368701</td><td>9.1299375</td><td>m1iii</td></tr>\n",
       "<tr><td>HELP_J143302.417+002405.826</td><td>218.260071119</td><td>0.401618282766</td><td>322068</td><td>1.1347</td><td>0.3875</td><td>1.9517</td><td>0.798</td><td>-99.0</td><td>-99.0</td><td>-99.0</td><td>-99.0</td><td>1.00562871194</td><td>-99.0</td><td>-99.0</td><td>-99.0</td><td>-99.0</td><td></td></tr>\n",
       "<tr><td>HELP_J144038.334-002408.434</td><td>220.159726887</td><td>-0.402342819039</td><td>322069</td><td>1.0148</td><td>0.6858</td><td>1.4809</td><td>0.775</td><td>1.7087</td><td>1.6659</td><td>1.7552</td><td>0.024</td><td>0.866500650958</td><td>0.000401907</td><td>0.125252075</td><td>0.29048875</td><td>12.5883675</td><td>wg8iii</td></tr>\n",
       "<tr><td>HELP_J143418.946-004636.350</td><td>218.578941517</td><td>-0.776763821989</td><td>322070</td><td>0.886</td><td>0.5089</td><td>1.2677</td><td>0.702</td><td>1.7168</td><td>1.5872</td><td>1.856</td><td>0.073</td><td>0.88334960273</td><td>0.2708705</td><td>0.57580525</td><td>0.44484775</td><td>6.14024</td><td>wk2iii</td></tr>\n",
       "<tr><td>HELP_J143159.128-000214.789</td><td>217.996368068</td><td>-0.0374412653439</td><td>322071</td><td>0.8571</td><td>0.3958</td><td>1.2813</td><td>0.641</td><td>1.6539</td><td>1.3862</td><td>1.9165</td><td>0.156</td><td>0.88334960273</td><td>0.041801725</td><td>0.573121</td><td>0.220772575</td><td>2.48693275</td><td>wk2iii</td></tr>\n",
       "<tr><td>HELP_J144020.768-002750.029</td><td>220.08653192</td><td>-0.463896849488</td><td>322072</td><td>0.9088</td><td>0.6908</td><td>1.2207</td><td>0.796</td><td>-99.0</td><td>-99.0</td><td>-99.0</td><td>-99.0</td><td>0.872100152911</td><td>0.11123585</td><td>0.70335325</td><td>0.6111925</td><td>18.1824775</td><td>wk2iii</td></tr>\n",
       "<tr><td>HELP_J143048.452+010925.488</td><td>217.701882934</td><td>1.15707996473</td><td>322073</td><td>0.9517</td><td>0.6262</td><td>1.2677</td><td>0.796</td><td>-99.0</td><td>-99.0</td><td>-99.0</td><td>-99.0</td><td>0.888999651538</td><td>0.1052213</td><td>0.85642575</td><td>0.41004575</td><td>17.4037275</td><td>wk2iii</td></tr>\n",
       "<tr><td>HELP_J143927.123-001348.344</td><td>219.863013416</td><td>-0.230095614814</td><td>322074</td><td>0.5226</td><td>0.2198</td><td>0.8388</td><td>0.8</td><td>-99.0</td><td>-99.0</td><td>-99.0</td><td>-99.0</td><td>0.504391837105</td><td>0.074208675</td><td>0.043641775</td><td>0.157884675</td><td>2.0616415</td><td>m2v</td></tr>\n",
       "<tr><td>...</td><td>...</td><td>...</td><td>...</td><td>...</td><td>...</td><td>...</td><td>...</td><td>...</td><td>...</td><td>...</td><td>...</td><td>...</td><td>...</td><td>...</td><td>...</td><td>...</td><td>...</td></tr>\n",
       "<tr><td>HELP_J141432.049-001555.249</td><td>213.633535508</td><td>-0.265346961897</td><td>13138251</td><td>1.4656</td><td>0.6908</td><td>2.3878</td><td>0.798</td><td>-99.0</td><td>-99.0</td><td>-99.0</td><td>-99.0</td><td>1.28818740686</td><td>2.977648</td><td>3.185886</td><td>3.05304</td><td>4.956148</td><td>g5v</td></tr>\n",
       "<tr><td>HELP_J145243.725-004513.007</td><td>223.182187893</td><td>-0.753613056524</td><td>13138252</td><td>1.0016</td><td>0.6069</td><td>1.415</td><td>0.796</td><td>-99.0</td><td>-99.0</td><td>-99.0</td><td>-99.0</td><td>0.999629822475</td><td>0.132135066667</td><td>0.05726725</td><td>0.4176485</td><td>8.42179333333</td><td>rf6v</td></tr>\n",
       "<tr><td>HELP_J143044.968-005458.450</td><td>217.687367398</td><td>-0.916236072866</td><td>13138253</td><td>1.4788</td><td>0.964</td><td>1.9873</td><td>0.795</td><td>-99.0</td><td>-99.0</td><td>-99.0</td><td>-99.0</td><td>1.47352241136</td><td>1.97330333333</td><td>2.260025</td><td>1.49758666667</td><td>10.41183</td><td>wg8iii</td></tr>\n",
       "<tr><td>HELP_J142956.441+005309.413</td><td>217.485170314</td><td>0.885947960598</td><td>13138254</td><td>1.9846</td><td>1.5184</td><td>2.5118</td><td>0.748</td><td>1.4381</td><td>1.3862</td><td>1.4884</td><td>0.026</td><td>1.9428624586</td><td>8.67150857143</td><td>8.41175571429</td><td>9.11155428571</td><td>19.0278142857</td><td>m3iii</td></tr>\n",
       "<tr><td>HELP_J142936.521+000426.316</td><td>217.402169378</td><td>0.0739765903559</td><td>13138255</td><td>1.307</td><td>0.4169</td><td>2.3175</td><td>0.798</td><td>-99.0</td><td>-99.0</td><td>-99.0</td><td>-99.0</td><td>1.09780218548</td><td>2.725484</td><td>2.713892</td><td>2.793834</td><td>3.652842</td><td>k3i</td></tr>\n",
       "<tr><td>HELP_J143426.623-021144.593</td><td>218.610930822</td><td>-2.19572022242</td><td>13138256</td><td>0.8812</td><td>0.3186</td><td>1.4884</td><td>0.798</td><td>-99.0</td><td>-99.0</td><td>-99.0</td><td>-99.0</td><td>0.800598771417</td><td>-99.0</td><td>-99.0</td><td>-99.0</td><td>-99.0</td><td></td></tr>\n",
       "<tr><td>HELP_J140237.451+002023.210</td><td>210.656047278</td><td>0.339780497272</td><td>13138257</td><td>0.3699</td><td>0.1981</td><td>0.5548</td><td>0.795</td><td>-99.0</td><td>-99.0</td><td>-99.0</td><td>-99.0</td><td>0.310744515892</td><td>1.028767625</td><td>1.076810625</td><td>0.794361625</td><td>3.46422375</td><td>rk5iii</td></tr>\n",
       "<tr><td>HELP_J142950.230+010506.501</td><td>217.459289722</td><td>1.0851390778</td><td>13138259</td><td>2.9565</td><td>2.4389</td><td>3.3052</td><td>0.619</td><td>1.8947</td><td>1.6184</td><td>2.2003</td><td>0.177</td><td>2.99452490203</td><td>0.7181672</td><td>0.687532</td><td>5.801876</td><td>13.938702</td><td>rk3iii</td></tr>\n",
       "<tr><td>HELP_J142338.189+014606.589</td><td>215.9091202</td><td>1.76849694126</td><td>13138260</td><td>0.4161</td><td>0.1627</td><td>0.6858</td><td>0.795</td><td>-99.0</td><td>-99.0</td><td>-99.0</td><td>-99.0</td><td>0.387508897362</td><td>-99.0</td><td>-99.0</td><td>-99.0</td><td>-99.0</td><td></td></tr>\n",
       "<tr><td>HELP_J143044.353+004718.948</td><td>217.684803532</td><td>0.788596531709</td><td>13138261</td><td>0.3838</td><td>0.2271</td><td>0.5363</td><td>0.782</td><td>0.2082</td><td>0.2017</td><td>0.2162</td><td>0.01</td><td>0.383358820899</td><td>0.277488444444</td><td>0.323098888889</td><td>0.461244666667</td><td>1.35382444444</td><td>rk4iii</td></tr>\n",
       "</table>"
      ],
      "text/plain": [
       "<Table length=10109159>\n",
       "          help_id                 RA      ... chi_r_stellar stellar_type\n",
       "           str27               float64    ...    float64        str6    \n",
       "--------------------------- ------------- ... ------------- ------------\n",
       "HELP_J141546.547+000529.927 213.943944434 ...     1.8363205        m4iii\n",
       "HELP_J144113.844-000720.633 220.307684538 ...      1.328487          f8v\n",
       "HELP_J143631.813+002833.098 219.132553285 ...     9.1299375        m1iii\n",
       "HELP_J143302.417+002405.826 218.260071119 ...         -99.0             \n",
       "HELP_J144038.334-002408.434 220.159726887 ...    12.5883675       wg8iii\n",
       "HELP_J143418.946-004636.350 218.578941517 ...       6.14024       wk2iii\n",
       "HELP_J143159.128-000214.789 217.996368068 ...    2.48693275       wk2iii\n",
       "HELP_J144020.768-002750.029  220.08653192 ...    18.1824775       wk2iii\n",
       "HELP_J143048.452+010925.488 217.701882934 ...    17.4037275       wk2iii\n",
       "HELP_J143927.123-001348.344 219.863013416 ...     2.0616415          m2v\n",
       "                        ...           ... ...           ...          ...\n",
       "HELP_J141432.049-001555.249 213.633535508 ...      4.956148          g5v\n",
       "HELP_J145243.725-004513.007 223.182187893 ... 8.42179333333         rf6v\n",
       "HELP_J143044.968-005458.450 217.687367398 ...      10.41183       wg8iii\n",
       "HELP_J142956.441+005309.413 217.485170314 ... 19.0278142857        m3iii\n",
       "HELP_J142936.521+000426.316 217.402169378 ...      3.652842          k3i\n",
       "HELP_J143426.623-021144.593 218.610930822 ...         -99.0             \n",
       "HELP_J140237.451+002023.210 210.656047278 ...    3.46422375       rk5iii\n",
       "HELP_J142950.230+010506.501 217.459289722 ...     13.938702       rk3iii\n",
       "HELP_J142338.189+014606.589   215.9091202 ...         -99.0             \n",
       "HELP_J143044.353+004718.948 217.684803532 ... 1.35382444444       rk4iii"
      ]
     },
     "execution_count": 17,
     "metadata": {},
     "output_type": "execute_result"
    }
   ],
   "source": [
    "photoz"
   ]
  },
  {
   "cell_type": "markdown",
   "metadata": {},
   "source": [
    "## Join CIGALE and photoz tables"
   ]
  },
  {
   "cell_type": "code",
   "execution_count": 18,
   "metadata": {},
   "outputs": [],
   "source": [
    "prior=join(cigale,photoz)"
   ]
  },
  {
   "cell_type": "code",
   "execution_count": 19,
   "metadata": {},
   "outputs": [],
   "source": [
    "from astropy.cosmology import Planck15 as cosmo\n",
    "from astropy import units as u\n",
    "f_pred=prior['bayes.dust.luminosity']/(4*np.pi*cosmo.luminosity_distance(prior['z1_median']).to(u.cm))"
   ]
  },
  {
   "cell_type": "code",
   "execution_count": 36,
   "metadata": {},
   "outputs": [],
   "source": [
    "prior=prior[np.isfinite(f_pred.value)][np.log10(f_pred.value[np.isfinite(f_pred.value)])>8.5]"
   ]
  },
  {
   "cell_type": "code",
   "execution_count": 50,
   "metadata": {},
   "outputs": [],
   "source": [
    "prior['DEC'].name='Dec'"
   ]
  },
  {
   "cell_type": "markdown",
   "metadata": {},
   "source": [
    "## Read in Maps"
   ]
  },
  {
   "cell_type": "code",
   "execution_count": 43,
   "metadata": {
    "collapsed": true
   },
   "outputs": [],
   "source": [
    "pswfits='../../dmu19/dmu19_HELP-SPIRE-maps/data/GAMA-15_SPIRE250_v0.9.fits'#SPIRE 250 map\n",
    "pmwfits='../../dmu19/dmu19_HELP-SPIRE-maps/data/GAMA-15_SPIRE350_v0.9.fits'#SPIRE 350 map\n",
    "plwfits='../../dmu19/dmu19_HELP-SPIRE-maps/data/GAMA-15_SPIRE500_v0.9.fits'#SPIRE 500 map\n",
    "\n",
    "#output folder\n",
    "output_folder='./'"
   ]
  },
  {
   "cell_type": "code",
   "execution_count": 47,
   "metadata": {},
   "outputs": [],
   "source": [
    "from astropy.io import fits\n",
    "from astropy import wcs\n",
    "\n",
    "#-----250-------------\n",
    "hdulist = fits.open(pswfits)\n",
    "im250phdu=hdulist[0].header\n",
    "im250hdu=hdulist[1].header\n",
    "\n",
    "im250=hdulist[1].data*1.0E3 #convert to mJy\n",
    "nim250=hdulist[3].data*1.0E3 #convert to mJy\n",
    "w_250 = wcs.WCS(hdulist[1].header)\n",
    "pixsize250=3600.0*w_250.wcs.cdelt #pixel size (in arcseconds)\n",
    "hdulist.close()\n",
    "#-----350-------------\n",
    "hdulist = fits.open(pmwfits)\n",
    "im350phdu=hdulist[0].header\n",
    "im350hdu=hdulist[1].header\n",
    "\n",
    "im350=hdulist[1].data*1.0E3 #convert to mJy\n",
    "nim350=hdulist[3].data*1.0E3 #convert to mJy\n",
    "w_350 = wcs.WCS(hdulist[1].header)\n",
    "pixsize350=3600.0*w_350.wcs.cdelt #pixel size (in arcseconds)\n",
    "hdulist.close()\n",
    "#-----500-------------\n",
    "hdulist = fits.open(plwfits)\n",
    "im500phdu=hdulist[0].header\n",
    "im500hdu=hdulist[1].header\n",
    "im500=hdulist[1].data*1.0E3 #convert to mJy\n",
    "nim500=hdulist[3].data*1.0E3 #convert to mJy\n",
    "w_500 = wcs.WCS(hdulist[1].header)\n",
    "pixsize500=3600.0*w_500.wcs.cdelt #pixel size (in arcseconds)\n",
    "hdulist.close()"
   ]
  },
  {
   "cell_type": "code",
   "execution_count": 48,
   "metadata": {
    "collapsed": true
   },
   "outputs": [],
   "source": [
    "## Set XID+ prior class"
   ]
  },
  {
   "cell_type": "code",
   "execution_count": 51,
   "metadata": {},
   "outputs": [],
   "source": [
    "#---prior250--------\n",
    "prior250=xidplus.prior(im250,nim250,im250phdu,im250hdu, moc=Sel_func)#Initialise with map, uncertianty map, wcs info and primary header\n",
    "prior250.prior_cat(prior['RA'] ,prior['Dec'] ,'GAMA15_Ldust_prediction_results.fits',ID=prior['help_id'] )#Set input catalogue\n",
    "prior250.prior_bkg(-5.0,5)#Set prior on background (assumes Gaussian pdf with mu and sigma)\n",
    "#---prior350--------\n",
    "prior350=xidplus.prior(im350,nim350,im350phdu,im350hdu, moc=Sel_func)\n",
    "prior350.prior_cat(prior['RA'] ,prior['Dec'] ,'GAMA15_Ldust_prediction_results.fits',ID=prior['help_id'] )\n",
    "prior350.prior_bkg(-5.0,5)\n",
    "\n",
    "#---prior500--------\n",
    "prior500=xidplus.prior(im500,nim500,im500phdu,im500hdu, moc=Sel_func)\n",
    "prior500.prior_cat(prior['RA'] ,prior['Dec'] ,'GAMA15_Ldust_prediction_results.fits',ID=prior['help_id'] )\n",
    "prior500.prior_bkg(-5.0,5)"
   ]
  },
  {
   "cell_type": "code",
   "execution_count": 55,
   "metadata": {},
   "outputs": [],
   "source": [
    "#pixsize array (size of pixels in arcseconds)\n",
    "pixsize=np.array([pixsize250,pixsize350,pixsize500])\n",
    "#point response function for the three bands\n",
    "prfsize=np.array([18.15,25.15,36.3])\n",
    "#use Gaussian2DKernel to create prf (requires stddev rather than fwhm hence pfwhm/2.355)\n",
    "from astropy.convolution import Gaussian2DKernel\n",
    "\n",
    "##---------fit using Gaussian beam-----------------------\n",
    "prf250=Gaussian2DKernel(prfsize[0]/2.355,x_size=101,y_size=101)\n",
    "prf250.normalize(mode='peak')\n",
    "prf350=Gaussian2DKernel(prfsize[1]/2.355,x_size=101,y_size=101)\n",
    "prf350.normalize(mode='peak')\n",
    "prf500=Gaussian2DKernel(prfsize[2]/2.355,x_size=101,y_size=101)\n",
    "prf500.normalize(mode='peak')\n",
    "\n",
    "pind250=np.arange(0,101,1)*1.0/pixsize[0,1] #get 250 scale in terms of pixel scale of map\n",
    "pind350=np.arange(0,101,1)*1.0/pixsize[1,1] #get 350 scale in terms of pixel scale of map\n",
    "pind500=np.arange(0,101,1)*1.0/pixsize[2,1] #get 500 scale in terms of pixel scale of map\n",
    "\n",
    "prior250.set_prf(prf250.array,pind250,pind250)#requires psf as 2d grid, and x and y bins for grid (in pixel scale)\n",
    "prior350.set_prf(prf350.array,pind350,pind350)\n",
    "prior500.set_prf(prf500.array,pind500,pind500)"
   ]
  },
  {
   "cell_type": "code",
   "execution_count": 56,
   "metadata": {},
   "outputs": [
    {
     "name": "stdout",
     "output_type": "stream",
     "text": [
      "----- There are 4940 tiles required for input catalogue and 101 large tiles\n",
      "writing total_bytes=1549524018...\n",
      "writing bytes [0, 1073741824)... done.\n",
      "writing bytes [1073741824, 1549524018)... done.\n"
     ]
    },
    {
     "ename": "SystemExit",
     "evalue": "",
     "traceback": [
      "An exception has occurred, use %tb to see the full traceback.\n",
      "\u001b[0;31mSystemExit\u001b[0m\n"
     ],
     "output_type": "error"
    }
   ],
   "source": [
    "import pickle\n",
    "#from moc, get healpix pixels at a given order\n",
    "from xidplus import moc_routines\n",
    "order=9\n",
    "tiles=moc_routines.get_HEALPix_pixels(order,prior250.sra,prior250.sdec,unique=True)\n",
    "order_large=6\n",
    "tiles_large=moc_routines.get_HEALPix_pixels(order_large,prior250.sra,prior250.sdec,unique=True)\n",
    "print('----- There are '+str(len(tiles))+' tiles required for input catalogue and '+str(len(tiles_large))+' large tiles')\n",
    "output_folder='./'\n",
    "outfile=output_folder+'Master_prior.pkl'\n",
    "xidplus.io.pickle_dump({'priors':[prior250,prior350,prior500],'tiles':tiles,'order':order,'version':xidplus.io.git_version()},outfile)\n",
    "outfile=output_folder+'Tiles.pkl'\n",
    "with open(outfile, 'wb') as f:\n",
    "    pickle.dump({'tiles':tiles,'order':order,'tiles_large':tiles_large,'order_large':order_large,'version':xidplus.io.git_version()},f)\n",
    "raise SystemExit()"
   ]
  },
  {
   "cell_type": "code",
   "execution_count": 57,
   "metadata": {},
   "outputs": [
    {
     "data": {
      "text/plain": [
       "1236678"
      ]
     },
     "execution_count": 57,
     "metadata": {},
     "output_type": "execute_result"
    }
   ],
   "source": [
    "prior250.nsrc"
   ]
  },
  {
   "cell_type": "code",
   "execution_count": null,
   "metadata": {
    "collapsed": true
   },
   "outputs": [],
   "source": [
    ""
   ]
  }
 ],
 "metadata": {
  "kernelspec": {
   "display_name": "Python [default]",
   "language": "python",
   "name": "python3"
  },
  "language_info": {
   "codemirror_mode": {
    "name": "ipython",
    "version": 3.0
   },
   "file_extension": ".py",
   "mimetype": "text/x-python",
   "name": "python",
   "nbconvert_exporter": "python",
   "pygments_lexer": "ipython3",
   "version": "3.6.0"
  }
 },
 "nbformat": 4,
 "nbformat_minor": 0
}