{
 "cells": [
  {
   "cell_type": "markdown",
   "metadata": {},
   "source": [
    "# XID+MIPS ELAIS-S1 Prior"
   ]
  },
  {
   "cell_type": "code",
   "execution_count": 1,
   "metadata": {},
   "outputs": [],
   "source": [
    "import pylab\n",
    "import pymoc\n",
    "import xidplus\n",
    "import numpy as np\n",
    "%matplotlib inline"
   ]
  },
  {
   "cell_type": "markdown",
   "metadata": {},
   "source": [
    "This notebook uses all the raw data from the masterlist, maps, PSF and relevant MOCs to create XID+ prior object and relevant tiling scheme"
   ]
  },
  {
   "cell_type": "markdown",
   "metadata": {},
   "source": [
    "## Read in MOCs\n",
    "The selection functions required are the main MOC associated with the masterlist. As the prior for XID+ is based on IRAC detected sources coming from two different surveys at different depths (SERVS and SWIRE) I will split the XID+ run into two different runs. Here we use the SERVS depth."
   ]
  },
  {
   "cell_type": "code",
   "execution_count": 3,
   "metadata": {
    "collapsed": true
   },
   "outputs": [],
   "source": [
    "Sel_func=pymoc.MOC()\n",
    "Sel_func.read('../data/ELAIS-S1/holes_ELAIS-S1_irac1_O16_20180122_MOC.fits')"
   ]
  },
  {
   "cell_type": "markdown",
   "metadata": {},
   "source": [
    "## Read in Masterlist\n",
    "Next step is to read in Masterlist and select only sources that are detected in mid-infrared and at least one other wavelength domain (i.e. optical or nir). This will remove most of the objects in the catalogue that are artefacts. We can do this by using the `flag_optnir_det` flag and selecting sources that have a binary value of $>= 5$"
   ]
  },
  {
   "cell_type": "code",
   "execution_count": 4,
   "metadata": {
    "collapsed": true
   },
   "outputs": [],
   "source": [
    "from astropy.io import fits\n",
    "\n",
    "masterlist=fits.open('../data/ELAIS-S1/master_catalogue_elais-s1_20171207.fits')"
   ]
  },
  {
   "cell_type": "code",
   "execution_count": 5,
   "metadata": {
    "collapsed": true
   },
   "outputs": [],
   "source": [
    "good=masterlist[1].data['flag_optnir_det']>=5"
   ]
  },
  {
   "cell_type": "code",
   "execution_count": 16,
   "metadata": {},
   "outputs": [
    {
     "data": {
      "text/plain": [
       "ColDefs(\n",
       "    name = 'help_id'; format = '27A'\n",
       "    name = 'field'; format = '18A'\n",
       "    name = 'ra'; format = 'D'; unit = 'deg'\n",
       "    name = 'dec'; format = 'D'; unit = 'deg'\n",
       "    name = 'hp_idx'; format = 'K'\n",
       "    name = 'f_ap_voice_b99'; format = 'E'\n",
       "    name = 'ferr_ap_voice_b99'; format = 'E'\n",
       "    name = 'm_ap_voice_b99'; format = 'E'\n",
       "    name = 'merr_ap_voice_b99'; format = 'E'; unit = 'mag'\n",
       "    name = 'f_voice_b99'; format = 'E'\n",
       "    name = 'ferr_voice_b99'; format = 'E'\n",
       "    name = 'm_voice_b99'; format = 'E'; unit = 'mag'\n",
       "    name = 'merr_voice_b99'; format = 'E'; unit = 'mag'\n",
       "    name = 'flag_voice_b99'; format = 'L'\n",
       "    name = 'f_ap_voice_b123'; format = 'E'\n",
       "    name = 'ferr_ap_voice_b123'; format = 'E'\n",
       "    name = 'm_ap_voice_b123'; format = 'E'\n",
       "    name = 'merr_ap_voice_b123'; format = 'E'; unit = 'mag'\n",
       "    name = 'f_voice_b123'; format = 'E'\n",
       "    name = 'ferr_voice_b123'; format = 'E'\n",
       "    name = 'm_voice_b123'; format = 'E'; unit = 'mag'\n",
       "    name = 'merr_voice_b123'; format = 'E'; unit = 'mag'\n",
       "    name = 'flag_voice_b123'; format = 'L'\n",
       "    name = 'f_ap_voice_v'; format = 'E'\n",
       "    name = 'ferr_ap_voice_v'; format = 'E'\n",
       "    name = 'm_ap_voice_v'; format = 'E'\n",
       "    name = 'merr_ap_voice_v'; format = 'E'; unit = 'mag'\n",
       "    name = 'f_voice_v'; format = 'E'\n",
       "    name = 'ferr_voice_v'; format = 'E'\n",
       "    name = 'm_voice_v'; format = 'E'; unit = 'mag'\n",
       "    name = 'merr_voice_v'; format = 'E'; unit = 'mag'\n",
       "    name = 'flag_voice_v'; format = 'L'\n",
       "    name = 'f_ap_voice_r'; format = 'E'\n",
       "    name = 'ferr_ap_voice_r'; format = 'E'\n",
       "    name = 'm_ap_voice_r'; format = 'E'\n",
       "    name = 'merr_ap_voice_r'; format = 'E'; unit = 'mag'\n",
       "    name = 'f_voice_r'; format = 'E'\n",
       "    name = 'ferr_voice_r'; format = 'E'\n",
       "    name = 'm_voice_r'; format = 'E'; unit = 'mag'\n",
       "    name = 'merr_voice_r'; format = 'E'; unit = 'mag'\n",
       "    name = 'flag_voice_r'; format = 'L'\n",
       "    name = 'f_ap_irac3'; format = 'D'; unit = 'uJy'\n",
       "    name = 'ferr_ap_irac3'; format = 'D'; unit = 'uJy'\n",
       "    name = 'm_ap_irac3'; format = 'D'\n",
       "    name = 'merr_ap_irac3'; format = 'D'\n",
       "    name = 'f_irac3'; format = 'D'; unit = 'uJy'\n",
       "    name = 'ferr_irac3'; format = 'D'; unit = 'uJy'\n",
       "    name = 'm_irac3'; format = 'D'\n",
       "    name = 'merr_irac3'; format = 'D'\n",
       "    name = 'flag_irac3'; format = 'L'\n",
       "    name = 'f_ap_irac4'; format = 'D'; unit = 'uJy'\n",
       "    name = 'ferr_ap_irac4'; format = 'D'; unit = 'uJy'\n",
       "    name = 'm_ap_irac4'; format = 'D'\n",
       "    name = 'merr_ap_irac4'; format = 'D'\n",
       "    name = 'f_irac4'; format = 'D'; unit = 'uJy'\n",
       "    name = 'ferr_irac4'; format = 'D'; unit = 'uJy'\n",
       "    name = 'm_irac4'; format = 'D'\n",
       "    name = 'merr_irac4'; format = 'D'\n",
       "    name = 'flag_irac4'; format = 'L'\n",
       "    name = 'f_ap_irac1'; format = 'D'\n",
       "    name = 'ferr_ap_irac1'; format = 'D'\n",
       "    name = 'm_ap_irac1'; format = 'D'\n",
       "    name = 'merr_ap_irac1'; format = 'D'\n",
       "    name = 'f_irac1'; format = 'D'\n",
       "    name = 'ferr_irac1'; format = 'D'\n",
       "    name = 'm_irac1'; format = 'D'\n",
       "    name = 'merr_irac1'; format = 'D'\n",
       "    name = 'flag_irac1'; format = 'L'\n",
       "    name = 'f_ap_irac2'; format = 'D'\n",
       "    name = 'ferr_ap_irac2'; format = 'D'\n",
       "    name = 'm_ap_irac2'; format = 'D'\n",
       "    name = 'merr_ap_irac2'; format = 'D'\n",
       "    name = 'f_irac2'; format = 'D'\n",
       "    name = 'ferr_irac2'; format = 'D'\n",
       "    name = 'm_irac2'; format = 'D'\n",
       "    name = 'merr_irac2'; format = 'D'\n",
       "    name = 'flag_irac2'; format = 'L'\n",
       "    name = 'f_ap_vista_y'; format = 'D'\n",
       "    name = 'ferr_ap_vista_y'; format = 'D'\n",
       "    name = 'm_ap_vista_y'; format = 'D'\n",
       "    name = 'merr_ap_vista_y'; format = 'D'\n",
       "    name = 'f_vista_y'; format = 'D'\n",
       "    name = 'ferr_vista_y'; format = 'D'\n",
       "    name = 'm_vista_y'; format = 'D'\n",
       "    name = 'merr_vista_y'; format = 'D'\n",
       "    name = 'flag_vista_y'; format = 'L'\n",
       "    name = 'f_ap_vista_j'; format = 'D'\n",
       "    name = 'ferr_ap_vista_j'; format = 'D'\n",
       "    name = 'm_ap_vista_j'; format = 'D'\n",
       "    name = 'merr_ap_vista_j'; format = 'D'\n",
       "    name = 'f_vista_j'; format = 'D'\n",
       "    name = 'ferr_vista_j'; format = 'D'\n",
       "    name = 'm_vista_j'; format = 'D'\n",
       "    name = 'merr_vista_j'; format = 'D'\n",
       "    name = 'flag_vista_j'; format = 'L'\n",
       "    name = 'f_ap_vista_h'; format = 'D'\n",
       "    name = 'ferr_ap_vista_h'; format = 'D'\n",
       "    name = 'm_ap_vista_h'; format = 'D'\n",
       "    name = 'merr_ap_vista_h'; format = 'D'\n",
       "    name = 'f_vista_h'; format = 'D'\n",
       "    name = 'ferr_vista_h'; format = 'D'\n",
       "    name = 'm_vista_h'; format = 'D'\n",
       "    name = 'merr_vista_h'; format = 'D'\n",
       "    name = 'flag_vista_h'; format = 'L'\n",
       "    name = 'f_ap_vista_k'; format = 'D'\n",
       "    name = 'ferr_ap_vista_k'; format = 'D'\n",
       "    name = 'm_ap_vista_k'; format = 'D'\n",
       "    name = 'merr_ap_vista_k'; format = 'D'\n",
       "    name = 'f_vista_k'; format = 'D'\n",
       "    name = 'ferr_vista_k'; format = 'D'\n",
       "    name = 'm_vista_k'; format = 'D'\n",
       "    name = 'merr_vista_k'; format = 'D'\n",
       "    name = 'flag_vista_k'; format = 'L'\n",
       "    name = 'f_ap_vista_z'; format = 'D'\n",
       "    name = 'ferr_ap_vista_z'; format = 'D'\n",
       "    name = 'm_ap_vista_z'; format = 'D'\n",
       "    name = 'merr_ap_vista_z'; format = 'D'\n",
       "    name = 'f_vista_z'; format = 'D'\n",
       "    name = 'ferr_vista_z'; format = 'D'\n",
       "    name = 'm_vista_z'; format = 'D'\n",
       "    name = 'merr_vista_z'; format = 'D'\n",
       "    name = 'flag_vista_z'; format = 'L'\n",
       "    name = 'stellarity'; format = 'D'\n",
       "    name = 'flag_cleaned'; format = 'L'\n",
       "    name = 'flag_merged'; format = 'L'\n",
       "    name = 'flag_gaia'; format = 'K'\n",
       "    name = 'flag_optnir_obs'; format = 'K'\n",
       "    name = 'flag_optnir_det'; format = 'K'\n",
       "    name = 'ebv'; format = 'D'\n",
       ")"
      ]
     },
     "execution_count": 16,
     "metadata": {},
     "output_type": "execute_result"
    }
   ],
   "source": [
    "masterlist[1].columns"
   ]
  },
  {
   "cell_type": "markdown",
   "metadata": {},
   "source": [
    "### Create uninformative (i.e. conservative) upper and lower limits based on IRAC fluxes\n",
    "As the default flux prior for XID+ is a uniform distribution, it makes sense to set reasonable upper and lower 24 micron flux limits based on the longest wavelength IRAC flux available. For a lower limit I take IRAC/500.0 and for upper limit I take IRACx500."
   ]
  },
  {
   "cell_type": "code",
   "execution_count": 6,
   "metadata": {
    "collapsed": true
   },
   "outputs": [],
   "source": [
    "MIPS_lower=np.full(good.sum(),0.0)\n",
    "MIPS_upper=np.full(good.sum(),1E5)"
   ]
  },
  {
   "cell_type": "code",
   "execution_count": 19,
   "metadata": {
    "collapsed": true
   },
   "outputs": [],
   "source": [
    "for i in range(0,good.sum()):\n",
    "    if masterlist[1].data['f_irac4'][good][i]>0:\n",
    "        MIPS_lower[i]=masterlist[1].data['f_irac4'][good][i]/500.0\n",
    "        MIPS_upper[i]=masterlist[1].data['f_irac4'][good][i]*500.0\n",
    "    elif masterlist[1].data['f_irac3'][good][i]>0:\n",
    "        MIPS_lower[i]=masterlist[1].data['f_irac3'][good][i]/500.0\n",
    "        MIPS_upper[i]=masterlist[1].data['f_irac3'][good][i]*500.0\n",
    "    elif masterlist[1].data['f_irac2'][good][i]>0:\n",
    "        MIPS_lower[i]=masterlist[1].data['f_irac2'][good][i]/500.0\n",
    "        MIPS_upper[i]=masterlist[1].data['f_irac2'][good][i]*500.0\n",
    "    elif masterlist[1].data['f_irac1'][good][i]>0:\n",
    "        MIPS_lower[i]=masterlist[1].data['f_irac1'][good][i]/500.0\n",
    "        MIPS_upper[i]=masterlist[1].data['f_irac1'][good][i]*500.0"
   ]
  },
  {
   "cell_type": "code",
   "execution_count": 20,
   "metadata": {
    "collapsed": true
   },
   "outputs": [],
   "source": [
    "MIPS_Map=fits.open('../data/ELAIS-S1/MIPS/wp4_elais-s1_mips24_map_v1.0.fits.gz')"
   ]
  },
  {
   "cell_type": "markdown",
   "metadata": {},
   "source": [
    "## Read in PSF"
   ]
  },
  {
   "cell_type": "code",
   "execution_count": 21,
   "metadata": {
    "collapsed": true
   },
   "outputs": [],
   "source": [
    "MIPS_psf=fits.open('../../dmu17/dmu17_ELAIS-S1/data/dmu17_MIPS_ELAIS-S1_20180116.fits')"
   ]
  },
  {
   "cell_type": "code",
   "execution_count": 22,
   "metadata": {
    "collapsed": true
   },
   "outputs": [],
   "source": [
    "centre=np.long((MIPS_psf[1].header['NAXIS1']-1)/2)\n",
    "radius=20"
   ]
  },
  {
   "cell_type": "code",
   "execution_count": 23,
   "metadata": {},
   "outputs": [
    {
     "data": {
      "text/plain": [
       "<matplotlib.colorbar.Colorbar at 0x113191c88>"
      ]
     },
     "execution_count": 23,
     "metadata": {},
     "output_type": "execute_result"
    },
    {
     "data": {
      "image/png": "[encoded data removed]",
      "text/plain": [
       "<matplotlib.figure.Figure at 0x11ba31f60>"
      ]
     },
     "metadata": {},
     "output_type": "display_data"
    }
   ],
   "source": [
    "import pylab as plt\n",
    "plt.imshow(np.log10(MIPS_psf[1].data[centre-radius:centre+radius+1,centre-radius:centre+radius+1]/np.max(MIPS_psf[1].data[centre-radius:centre+radius+1,centre-radius:centre+radius+1])))\n",
    "plt.colorbar()"
   ]
  },
  {
   "cell_type": "markdown",
   "metadata": {},
   "source": [
    "## Set XID+ prior class"
   ]
  },
  {
   "cell_type": "code",
   "execution_count": 25,
   "metadata": {
    "collapsed": true
   },
   "outputs": [],
   "source": [
    "prior_MIPS=xidplus.prior(MIPS_Map[1].data,MIPS_Map[2].data,MIPS_Map[0].header,MIPS_Map[1].header,moc=Sel_func)\n",
    "prior_MIPS.prior_cat(masterlist[1].data['ra'][good],masterlist[1].data['dec'][good],'master_catalogue_elais-s1_20171207.fits',flux_lower=MIPS_lower,\n",
    "                     flux_upper=MIPS_upper,ID=masterlist[1].data['help_id'][good])\n",
    "prior_MIPS.set_prf(MIPS_psf[1].data[centre-radius:centre+radius+1,centre-radius:centre+radius+1]/1.0E6,np.arange(0,41/2.0,0.5),np.arange(0,41/2.0,0.5))"
   ]
  },
  {
   "cell_type": "markdown",
   "metadata": {},
   "source": [
    "## Calculate tiles\n",
    "As fitting the whole map would be too computationally expensive, I split based on HEALPix pixels. For MIPS, the optimum order is 11. So that I don't have to read the master prior based on the whole map into memory each time (which requires a lot more memory) I also create another layer of HEALPix pixels based at the lower order of 7."
   ]
  },
  {
   "cell_type": "code",
   "execution_count": 26,
   "metadata": {},
   "outputs": [
    {
     "name": "stdout",
     "output_type": "stream",
     "text": [
      "----- There are 8189 tiles required for input catalogue and 50 large tiles\n"
     ]
    },
    {
     "ename": "SystemExit",
     "evalue": "",
     "traceback": [
      "An exception has occurred, use %tb to see the full traceback.\n",
      "\u001b[0;31mSystemExit\u001b[0m\n"
     ],
     "output_type": "error"
    }
   ],
   "source": [
    "import pickle\n",
    "#from moc, get healpix pixels at a given order\n",
    "from xidplus import moc_routines\n",
    "order=11\n",
    "tiles=moc_routines.get_HEALPix_pixels(order,prior_MIPS.sra,prior_MIPS.sdec,unique=True)\n",
    "order_large=7\n",
    "tiles_large=moc_routines.get_HEALPix_pixels(order_large,prior_MIPS.sra,prior_MIPS.sdec,unique=True)\n",
    "print('----- There are '+str(len(tiles))+' tiles required for input catalogue and '+str(len(tiles_large))+' large tiles')\n",
    "output_folder=''\n",
    "outfile=output_folder+'Master_prior.pkl'\n",
    "with open(outfile, 'wb') as f:\n",
    "    pickle.dump({'priors':[prior_MIPS],'tiles':tiles,'order':order,'version':xidplus.io.git_version()},f)\n",
    "outfile=output_folder+'Tiles.pkl'\n",
    "with open(outfile, 'wb') as f:\n",
    "    pickle.dump({'tiles':tiles,'order':order,'tiles_large':tiles_large,'order_large':order_large,'version':xidplus.io.git_version()},f)\n",
    "raise SystemExit()"
   ]
  },
  {
   "cell_type": "code",
   "execution_count": 27,
   "metadata": {
    "collapsed": true
   },
   "outputs": [],
   "source": [
    "with open('Master_prior.pkl', 'wb') as f:\n",
    "    pickle.dump({'priors':prior_MIPS,'tiles':tiles,'order':order,'version':xidplus.io.git_version()},f)"
   ]
  },
  {
   "cell_type": "code",
   "execution_count": 28,
   "metadata": {},
   "outputs": [
    {
     "data": {
      "text/plain": [
       "'4606071 (Mon Nov 27 11:43:56 2017 +0000) [with local modifications]'"
      ]
     },
     "execution_count": 28,
     "metadata": {},
     "output_type": "execute_result"
    }
   ],
   "source": [
    "xidplus.io.git_version()"
   ]
  },
  {
   "cell_type": "markdown",
   "metadata": {
    "collapsed": true
   },
   "source": [
    "## Large pickle problem\n",
    "It would appear that if the file trying to be saved is too big, then pickle will fail. To get round this, use the following fix:"
   ]
  },
  {
   "cell_type": "code",
   "execution_count": 29,
   "metadata": {
    "collapsed": true
   },
   "outputs": [],
   "source": [
    "import copy"
   ]
  },
  {
   "cell_type": "code",
   "execution_count": 3,
   "metadata": {
    "collapsed": true
   },
   "outputs": [],
   "source": [
    "import pickle\n",
    "class MacOSFile(object):\n",
    "    \n",
    "\n",
    "\n",
    "    def __init__(self, f):\n",
    "        self.f = f\n",
    "\n",
    "    def __getattr__(self, item):\n",
    "        return getattr(self.f, item)\n",
    "\n",
    "    def read(self, n):\n",
    "        # print(\"reading total_bytes=%s\" % n, flush=True)\n",
    "        if n >= (1 << 31):\n",
    "            buffer = bytearray(n)\n",
    "            idx = 0\n",
    "            while idx < n:\n",
    "                batch_size = min(n - idx, 1 << 31 - 1)\n",
    "                # print(\"reading bytes [%s,%s)...\" % (idx, idx + batch_size), end=\"\", flush=True)\n",
    "                buffer[idx:idx + batch_size] = self.f.read(batch_size)\n",
    "                # print(\"done.\", flush=True)\n",
    "                idx += batch_size\n",
    "            return buffer\n",
    "        return self.f.read(n)\n",
    "\n",
    "    def write(self, buffer):\n",
    "        n = len(buffer)\n",
    "        print(\"writing total_bytes=%s...\" % n, flush=True)\n",
    "        idx = 0\n",
    "        while idx < n:\n",
    "            batch_size = min(n - idx, 1 << 31 - 1)\n",
    "            print(\"writing bytes [%s, %s)... \" % (idx, idx + batch_size), end=\"\", flush=True)\n",
    "            self.f.write(buffer[idx:idx + batch_size])\n",
    "            print(\"done.\", flush=True)\n",
    "            idx += batch_size\n",
    "\n",
    "\n",
    "def pickle_dump(obj, file_path):\n",
    "    with open(file_path, \"wb\") as f:\n",
    "        return pickle.dump(obj, MacOSFile(f), protocol=pickle.HIGHEST_PROTOCOL)\n",
    "\n",
    "\n",
    "def pickle_load(file_path):\n",
    "    with open(file_path, \"rb\") as f:\n",
    "        return pickle.load(MacOSFile(f))"
   ]
  },
  {
   "cell_type": "code",
   "execution_count": 31,
   "metadata": {},
   "outputs": [
    {
     "name": "stdout",
     "output_type": "stream",
     "text": [
      "writing total_bytes=1418884427...\n",
      "writing bytes [0, 1073741824)... done.\n",
      "writing bytes [1073741824, 1418884427)... done.\n"
     ]
    }
   ],
   "source": [
    "pickle_dump({'priors':[prior_MIPS],'tiles':tiles,'order':order,'version':xidplus.io.git_version()},'Master_prior.pkl')"
   ]
  },
  {
   "cell_type": "code",
   "execution_count": 4,
   "metadata": {
    "collapsed": true
   },
   "outputs": [],
   "source": [
    "obj=pickle_load('Tiles.pkl')"
   ]
  },
  {
   "cell_type": "code",
   "execution_count": 5,
   "metadata": {},
   "outputs": [
    {
     "data": {
      "text/plain": [
       "(array([47]),)"
      ]
     },
     "execution_count": 5,
     "metadata": {},
     "output_type": "execute_result"
    }
   ],
   "source": [
    "import numpy as np\n",
    "np.where(obj['tiles_large'] == 141913)"
   ]
  },
  {
   "cell_type": "code",
   "execution_count": 7,
   "metadata": {},
   "outputs": [
    {
     "data": {
      "text/plain": [
       "141913"
      ]
     },
     "execution_count": 7,
     "metadata": {},
     "output_type": "execute_result"
    }
   ],
   "source": [
    "obj['tiles_large'][47]"
   ]
  },
  {
   "cell_type": "code",
   "execution_count": 8,
   "metadata": {},
   "outputs": [
    {
     "data": {
      "text/plain": [
       "298"
      ]
     },
     "execution_count": 8,
     "metadata": {},
     "output_type": "execute_result"
    }
   ],
   "source": [
    "8189 - 7891"
   ]
  },
  {
   "cell_type": "code",
   "execution_count": null,
   "metadata": {
    "collapsed": true
   },
   "outputs": [],
   "source": [
    ""
   ]
  }
 ],
 "metadata": {
  "kernelspec": {
   "display_name": "Python [default]",
   "language": "python",
   "name": "python3"
  },
  "language_info": {
   "codemirror_mode": {
    "name": "ipython",
    "version": 3.0
   },
   "file_extension": ".py",
   "mimetype": "text/x-python",
   "name": "python",
   "nbconvert_exporter": "python",
   "pygments_lexer": "ipython3",
   "version": "3.6.0"
  }
 },
 "nbformat": 4,
 "nbformat_minor": 0
}