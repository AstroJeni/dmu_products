{
 "cells": [
  {
   "cell_type": "markdown",
   "metadata": {},
   "source": [
    "# Final Processing XID+MIPS ELAIS-S1\n",
    "The final processing stage requires:\n",
    "1. Quick validation of catalogues and Bayesian Pvalue maps\n",
    "2. Skewness level\n",
    "3. Adding flag to catalogue"
   ]
  },
  {
   "cell_type": "code",
   "execution_count": 1,
   "metadata": {
    "collapsed": true
   },
   "outputs": [],
   "source": [
    "import seaborn as sns\n",
    "from astropy.table import Table\n",
    "%matplotlib inline\n",
    "import numpy as np\n",
    "import pylab as plt"
   ]
  },
  {
   "cell_type": "markdown",
   "metadata": {},
   "source": [
    "## Read tables"
   ]
  },
  {
   "cell_type": "code",
   "execution_count": 2,
   "metadata": {
    "collapsed": true
   },
   "outputs": [],
   "source": [
    "cat=Table.read('./data/dmu26_XID+MIPS_ELAIS-S1_20180212.fits')\n"
   ]
  },
  {
   "cell_type": "code",
   "execution_count": 3,
   "metadata": {},
   "outputs": [
    {
     "data": {
      "text/html": [
       "&lt;Table length=10&gt;\n",
       "<table id=\"table4753603888\" class=\"table-striped table-bordered table-condensed\">\n",
       "<thead><tr><th>help_id</th><th>RA</th><th>Dec</th><th>F_MIPS_24</th><th>FErr_MIPS_24_u</th><th>FErr_MIPS_24_l</th><th>Bkg_MIPS_24</th><th>Sig_conf_MIPS_24</th><th>Rhat_MIPS_24</th><th>n_eff_MIPS_24</th><th>Pval_res_24</th></tr></thead>\n",
       "<thead><tr><th></th><th>degrees</th><th>degrees</th><th>muJy</th><th>muJy</th><th>muJy</th><th>MJy / sr</th><th>MJy / sr</th><th></th><th></th><th></th></tr></thead>\n",
       "<thead><tr><th>str27</th><th>float64</th><th>float64</th><th>float32</th><th>float32</th><th>float32</th><th>float32</th><th>float32</th><th>float32</th><th>float32</th><th>float32</th></tr></thead>\n",
       "<tr><td>HELP_J003311.854-452559.212</td><td>8.2993897334</td><td>-45.4331144811</td><td>70.8551</td><td>100.277</td><td>43.0187</td><td>-0.00853529</td><td>4.94265e-06</td><td>0.998633</td><td>1508.0</td><td>0.0</td></tr>\n",
       "<tr><td>HELP_J003311.199-452603.296</td><td>8.2966614384</td><td>-45.4342490173</td><td>136.227</td><td>164.495</td><td>106.93</td><td>-0.00853529</td><td>4.94265e-06</td><td>1.00005</td><td>2000.0</td><td>0.0</td></tr>\n",
       "<tr><td>HELP_J003315.424-452615.143</td><td>8.31426712989</td><td>-45.4375397927</td><td>93.2529</td><td>124.365</td><td>62.9979</td><td>-0.00853529</td><td>4.94265e-06</td><td>nan</td><td>1138.0</td><td>0.0</td></tr>\n",
       "<tr><td>HELP_J003315.452-452606.430</td><td>8.31438135339</td><td>-45.4351194503</td><td>9.39005</td><td>23.3159</td><td>2.61225</td><td>-0.00853529</td><td>4.94265e-06</td><td>nan</td><td>2000.0</td><td>0.0</td></tr>\n",
       "<tr><td>HELP_J003314.599-452546.572</td><td>8.31082943334</td><td>-45.4296033101</td><td>152.254</td><td>179.911</td><td>125.606</td><td>-0.00853529</td><td>4.94265e-06</td><td>nan</td><td>2000.0</td><td>0.0</td></tr>\n",
       "<tr><td>HELP_J003306.225-452506.589</td><td>8.27593562562</td><td>-45.4184968362</td><td>372.777</td><td>395.828</td><td>348.451</td><td>-0.00271362</td><td>5.25661e-06</td><td>nan</td><td>2000.0</td><td>0.0</td></tr>\n",
       "<tr><td>HELP_J003302.815-452550.432</td><td>8.26173107575</td><td>-45.4306756516</td><td>12.826</td><td>28.9045</td><td>3.70633</td><td>-0.00271362</td><td>5.25661e-06</td><td>nan</td><td>2000.0</td><td>0.0</td></tr>\n",
       "<tr><td>HELP_J003304.883-452634.388</td><td>8.27034568672</td><td>-45.4428854649</td><td>430.479</td><td>459.679</td><td>402.075</td><td>-0.00271362</td><td>5.25661e-06</td><td>nan</td><td>2000.0</td><td>0.0</td></tr>\n",
       "<tr><td>HELP_J003304.125-452627.612</td><td>8.26718894541</td><td>-45.4410033252</td><td>87.1341</td><td>118.441</td><td>55.7075</td><td>-0.00271362</td><td>5.25661e-06</td><td>1.00012</td><td>2000.0</td><td>0.0</td></tr>\n",
       "<tr><td>HELP_J003302.331-452556.063</td><td>8.25971159268</td><td>-45.432239714</td><td>15.7296</td><td>35.0684</td><td>4.842</td><td>-0.00271362</td><td>5.25661e-06</td><td>nan</td><td>2000.0</td><td>0.0</td></tr>\n",
       "</table>"
      ],
      "text/plain": [
       "<Table length=10>\n",
       "          help_id                 RA      ... n_eff_MIPS_24 Pval_res_24\n",
       "                               degrees    ...                          \n",
       "           str27               float64    ...    float32      float32  \n",
       "--------------------------- ------------- ... ------------- -----------\n",
       "HELP_J003311.854-452559.212  8.2993897334 ...        1508.0         0.0\n",
       "HELP_J003311.199-452603.296  8.2966614384 ...        2000.0         0.0\n",
       "HELP_J003315.424-452615.143 8.31426712989 ...        1138.0         0.0\n",
       "HELP_J003315.452-452606.430 8.31438135339 ...        2000.0         0.0\n",
       "HELP_J003314.599-452546.572 8.31082943334 ...        2000.0         0.0\n",
       "HELP_J003306.225-452506.589 8.27593562562 ...        2000.0         0.0\n",
       "HELP_J003302.815-452550.432 8.26173107575 ...        2000.0         0.0\n",
       "HELP_J003304.883-452634.388 8.27034568672 ...        2000.0         0.0\n",
       "HELP_J003304.125-452627.612 8.26718894541 ...        2000.0         0.0\n",
       "HELP_J003302.331-452556.063 8.25971159268 ...        2000.0         0.0"
      ]
     },
     "execution_count": 3,
     "metadata": {},
     "output_type": "execute_result"
    }
   ],
   "source": [
    "cat[0:10]"
   ]
  },
  {
   "cell_type": "code",
   "execution_count": 4,
   "metadata": {
    "collapsed": true
   },
   "outputs": [],
   "source": [
    "from astropy import units as u"
   ]
  },
  {
   "cell_type": "code",
   "execution_count": 5,
   "metadata": {},
   "outputs": [
    {
     "data": {
      "text/latex": [
       "$\\mathrm{{}^{\\circ}}$"
      ],
      "text/plain": [
       "Unit(\"deg\")"
      ]
     },
     "execution_count": 5,
     "metadata": {},
     "output_type": "execute_result"
    }
   ],
   "source": [
    "u.degree"
   ]
  },
  {
   "cell_type": "code",
   "execution_count": 6,
   "metadata": {
    "collapsed": true
   },
   "outputs": [],
   "source": [
    "cat['RA'].unit=u.degree\n",
    "cat['Dec'].unit=u.degree\n",
    "cat['F_MIPS_24'].unit=u.uJy\n",
    "cat['FErr_MIPS_24_l'].unit=u.uJy\n",
    "cat['FErr_MIPS_24_u'].unit=u.uJy"
   ]
  },
  {
   "cell_type": "markdown",
   "metadata": {},
   "source": [
    "## Look at Symmetry of PDFs to determine depth level of catalogue"
   ]
  },
  {
   "cell_type": "code",
   "execution_count": 12,
   "metadata": {},
   "outputs": [
    {
     "data": {
      "image/png": "[encoded data removed]",
      "text/plain": [
       "<matplotlib.figure.Figure at 0x11b94aba8>"
      ]
     },
     "metadata": {},
     "output_type": "display_data"
    }
   ],
   "source": [
    "skew=(cat['FErr_MIPS_24_u']-cat['F_MIPS_24'])/(cat['F_MIPS_24']-cat['FErr_MIPS_24_l'])\n",
    "skew.name='(84th-50th)/(50th-16th) percentile'\n",
    "#g=sns.jointplot(x=np.log10(cat['F_MIPS_24']),y=skew,ylim=(0.1,10))\n",
    "g=sns.jointplot(x=np.log10(cat['F_MIPS_24'][0:5000]),y=skew[0:5000],ylim=(0.1,10), kind='hex')\n"
   ]
  },
  {
   "cell_type": "markdown",
   "metadata": {},
   "source": [
    "Both seem to have flux pdfs that become Gaussian at ~30$\\mathrm{\\mu Jy}$ "
   ]
  },
  {
   "cell_type": "markdown",
   "metadata": {},
   "source": [
    "## Add flag to catalogue"
   ]
  },
  {
   "cell_type": "code",
   "execution_count": 15,
   "metadata": {
    "collapsed": true
   },
   "outputs": [],
   "source": [
    "from astropy.table import Column\n",
    "cat.add_column(Column(np.zeros(len(cat), dtype=bool),name='flag_mips_24'))\n"
   ]
  },
  {
   "cell_type": "code",
   "execution_count": 16,
   "metadata": {
    "collapsed": true
   },
   "outputs": [],
   "source": [
    "ind=(cat['Pval_res_24']>0.5) | (cat['F_MIPS_24'] < 30.0)\n"
   ]
  },
  {
   "cell_type": "code",
   "execution_count": 17,
   "metadata": {
    "collapsed": true
   },
   "outputs": [],
   "source": [
    "cat['flag_mips_24'][ind]=True\n"
   ]
  },
  {
   "cell_type": "code",
   "execution_count": 18,
   "metadata": {
    "collapsed": true
   },
   "outputs": [],
   "source": [
    "cat.write('./data/dmu26_XID+MIPS_ELAIS-S1_20180215.fits', format='fits',overwrite=True)\n"
   ]
  },
  {
   "cell_type": "code",
   "execution_count": null,
   "metadata": {
    "collapsed": true
   },
   "outputs": [],
   "source": []
  }
 ],
 "metadata": {
  "kernelspec": {
   "display_name": "Python [conda env:new]",
   "language": "python",
   "name": "conda-env-new-py"
  },
  "language_info": {
   "codemirror_mode": {
    "name": "ipython",
    "version": 3
   },
   "file_extension": ".py",
   "mimetype": "text/x-python",
   "name": "python",
   "nbconvert_exporter": "python",
   "pygments_lexer": "ipython3",
   "version": "3.6.0"
  }
 },
 "nbformat": 4,
 "nbformat_minor": 1
}
