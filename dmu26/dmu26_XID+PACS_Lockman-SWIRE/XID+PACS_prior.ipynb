{
 "cells": [
  {
   "cell_type": "markdown",
   "metadata": {},
   "source": [
    "# XID+PACS Lockman-SWIRE Prior"
   ]
  },
  {
   "cell_type": "code",
   "execution_count": 1,
   "metadata": {
    "collapsed": true
   },
   "outputs": [],
   "source": [
    "import pylab\n",
    "import pymoc\n",
    "import xidplus\n",
    "import numpy as np\n",
    "%matplotlib inline\n",
    "from astropy.table import Table"
   ]
  },
  {
   "cell_type": "code",
   "execution_count": 2,
   "metadata": {
    "collapsed": true
   },
   "outputs": [],
   "source": [
    "import seaborn as sns"
   ]
  },
  {
   "cell_type": "markdown",
   "metadata": {},
   "source": [
    "This notebook uses all the raw data from the XID+PACS catalogue, maps, PSF and relevant MOCs to create XID+ prior object and relevant tiling scheme"
   ]
  },
  {
   "cell_type": "markdown",
   "metadata": {},
   "source": [
    "## Read in MOCs\n",
    "The selection functions required are the main MOC associated with the masterlist. As the prior for XID+ is based on IRAC detected sources."
   ]
  },
  {
   "cell_type": "code",
   "execution_count": 3,
   "metadata": {
    "collapsed": true
   },
   "outputs": [],
   "source": [
    "Sel_func=pymoc.MOC()\n",
    "Sel_func.read('../data/Lockman-SWIRE/holes_Lockman-SWIRE_irac1_20171214_O16_MOC.fits')"
   ]
  },
  {
   "cell_type": "markdown",
   "metadata": {},
   "source": [
    "## Read in XID+MIPS catalogue"
   ]
  },
  {
   "cell_type": "code",
   "execution_count": 4,
   "metadata": {
    "collapsed": true
   },
   "outputs": [],
   "source": [
    "XID_MIPS=Table.read('../data/Lockman-SWIRE/MIPS/dmu26_XID+MIPS_Lockman-SWIRE_cat_20171214.fits')"
   ]
  },
  {
   "cell_type": "code",
   "execution_count": 5,
   "metadata": {},
   "outputs": [
    {
     "data": {
      "text/html": [
       "&lt;Table length=10&gt;\n",
       "<table id=\"table4507813704\" class=\"table-striped table-bordered table-condensed\">\n",
       "<thead><tr><th>help_id</th><th>RA</th><th>Dec</th><th>F_MIPS_24</th><th>FErr_MIPS_24_u</th><th>FErr_MIPS_24_l</th><th>Bkg_MIPS_24</th><th>Sig_conf_MIPS_24</th><th>Rhat_MIPS_24</th><th>n_eff_MIPS_24</th><th>Pval_res_24</th><th>flag_mips_24</th></tr></thead>\n",
       "<thead><tr><th></th><th>deg</th><th>deg</th><th>uJy</th><th>uJy</th><th>uJy</th><th>MJy / sr</th><th>MJy / sr</th><th></th><th></th><th></th><th></th></tr></thead>\n",
       "<thead><tr><th>str27</th><th>float64</th><th>float64</th><th>float32</th><th>float32</th><th>float32</th><th>float32</th><th>float32</th><th>float32</th><th>float32</th><th>float32</th><th>bool</th></tr></thead>\n",
       "<tr><td>HELP_J104834.640+553618.070</td><td>162.1443344</td><td>55.6050193754</td><td>953.652</td><td>1391.02</td><td>558.782</td><td>-0.263134</td><td>4.94239e-06</td><td>1.0021</td><td>959.0</td><td>0.0</td><td>False</td></tr>\n",
       "<tr><td>HELP_J104844.111+553806.455</td><td>162.18379776</td><td>55.6351263157</td><td>5.835</td><td>15.6855</td><td>1.42353</td><td>-0.124418</td><td>5.0304e-06</td><td>nan</td><td>1428.0</td><td>0.0</td><td>True</td></tr>\n",
       "<tr><td>HELP_J104909.113+554129.002</td><td>162.287969389</td><td>55.6913894849</td><td>16.5938</td><td>33.347</td><td>5.67531</td><td>3.73435e-05</td><td>4.89605e-06</td><td>1.00059</td><td>1623.0</td><td>0.0</td><td>True</td></tr>\n",
       "<tr><td>HELP_J104910.454+554135.336</td><td>162.293559631</td><td>55.6931488629</td><td>47.5049</td><td>66.385</td><td>28.2103</td><td>3.73435e-05</td><td>4.89605e-06</td><td>nan</td><td>775.0</td><td>0.0</td><td>False</td></tr>\n",
       "<tr><td>HELP_J104911.099+554218.548</td><td>162.29624584</td><td>55.7051523559</td><td>187.706</td><td>204.257</td><td>169.476</td><td>-0.00208601</td><td>5.06499e-06</td><td>1.00105</td><td>1615.0</td><td>0.0</td><td>False</td></tr>\n",
       "<tr><td>HELP_J104919.290+554303.561</td><td>162.330374299</td><td>55.7176559469</td><td>39.9872</td><td>58.7282</td><td>22.266</td><td>-0.00208601</td><td>5.06499e-06</td><td>nan</td><td>2000.0</td><td>0.0</td><td>False</td></tr>\n",
       "<tr><td>HELP_J104916.682+554301.860</td><td>162.319507377</td><td>55.7171832419</td><td>18.1097</td><td>33.5374</td><td>6.31178</td><td>-0.00208601</td><td>5.06499e-06</td><td>1.00147</td><td>1201.0</td><td>0.0</td><td>True</td></tr>\n",
       "<tr><td>HELP_J104914.098+554211.057</td><td>162.308741513</td><td>55.7030714689</td><td>270.506</td><td>288.916</td><td>253.788</td><td>-0.00208601</td><td>5.06499e-06</td><td>nan</td><td>1763.0</td><td>0.0</td><td>False</td></tr>\n",
       "<tr><td>HELP_J104910.874+554227.417</td><td>162.295306988</td><td>55.7076158319</td><td>30.2717</td><td>47.4151</td><td>13.7691</td><td>-0.00208601</td><td>5.06499e-06</td><td>0.999344</td><td>1381.0</td><td>0.0</td><td>False</td></tr>\n",
       "<tr><td>HELP_J104914.130+554220.288</td><td>162.308873375</td><td>55.7056354849</td><td>251.413</td><td>270.354</td><td>232.821</td><td>-0.00208601</td><td>5.06499e-06</td><td>nan</td><td>1918.0</td><td>0.0</td><td>False</td></tr>\n",
       "</table>"
      ],
      "text/plain": [
       "<Table length=10>\n",
       "          help_id                 RA      ... Pval_res_24 flag_mips_24\n",
       "                                 deg      ...                         \n",
       "           str27               float64    ...   float32       bool    \n",
       "--------------------------- ------------- ... ----------- ------------\n",
       "HELP_J104834.640+553618.070   162.1443344 ...         0.0        False\n",
       "HELP_J104844.111+553806.455  162.18379776 ...         0.0         True\n",
       "HELP_J104909.113+554129.002 162.287969389 ...         0.0         True\n",
       "HELP_J104910.454+554135.336 162.293559631 ...         0.0        False\n",
       "HELP_J104911.099+554218.548  162.29624584 ...         0.0        False\n",
       "HELP_J104919.290+554303.561 162.330374299 ...         0.0        False\n",
       "HELP_J104916.682+554301.860 162.319507377 ...         0.0         True\n",
       "HELP_J104914.098+554211.057 162.308741513 ...         0.0        False\n",
       "HELP_J104910.874+554227.417 162.295306988 ...         0.0        False\n",
       "HELP_J104914.130+554220.288 162.308873375 ...         0.0        False"
      ]
     },
     "execution_count": 5,
     "metadata": {},
     "output_type": "execute_result"
    }
   ],
   "source": [
    "XID_MIPS[0:10]"
   ]
  },
  {
   "cell_type": "code",
   "execution_count": 6,
   "metadata": {},
   "outputs": [
    {
     "data": {
      "image/png": "[encoded data removed]",
      "text/plain": [
       "<matplotlib.figure.Figure at 0x112caa358>"
      ]
     },
     "metadata": {},
     "output_type": "display_data"
    }
   ],
   "source": [
    "skew=(XID_MIPS['FErr_MIPS_24_u']-XID_MIPS['F_MIPS_24'])/(XID_MIPS['F_MIPS_24']-XID_MIPS['FErr_MIPS_24_l'])\n",
    "skew.name='(84th-50th)/(50th-16th) percentile'\n",
    "g=sns.jointplot(x=np.log10(XID_MIPS['F_MIPS_24']),y=skew, kind='hex')"
   ]
  },
  {
   "cell_type": "markdown",
   "metadata": {},
   "source": [
    "The uncertianties become Gaussian by $\\sim 20 \\mathrm{\\mu Jy}$"
   ]
  },
  {
   "cell_type": "code",
   "execution_count": 6,
   "metadata": {
    "collapsed": true
   },
   "outputs": [],
   "source": [
    "good=XID_MIPS['F_MIPS_24']>20"
   ]
  },
  {
   "cell_type": "code",
   "execution_count": 7,
   "metadata": {},
   "outputs": [
    {
     "data": {
      "text/plain": [
       "249732"
      ]
     },
     "execution_count": 7,
     "metadata": {},
     "output_type": "execute_result"
    }
   ],
   "source": [
    "good.sum()"
   ]
  },
  {
   "cell_type": "markdown",
   "metadata": {},
   "source": [
    "## Read in Maps"
   ]
  },
  {
   "cell_type": "code",
   "execution_count": 8,
   "metadata": {
    "collapsed": true
   },
   "outputs": [],
   "source": [
    "im100fits='../data/Lockman-SWIRE/PACS/Lockman-SWIRE_PACS100_20160921_img_gls.fits'#PACS 100 map\n",
    "nim100fits='../data/Lockman-SWIRE/PACS/Lockman-SWIRE_PACS100_20160921_img_noise.fits'#PACS 100 noise map\n",
    "im160fits='../data/Lockman-SWIRE/PACS/Lockman-SWIRE_PACS160_20160921_img_gls.fits'#PACS 160 map\n",
    "nim160fits='../data/Lockman-SWIRE/PACS/Lockman-SWIRE_PACS160_20160921_img_noise.fits'#PACS 100 noise map\n",
    "#output folder\n",
    "output_folder='./'"
   ]
  },
  {
   "cell_type": "code",
   "execution_count": 9,
   "metadata": {
    "collapsed": true
   },
   "outputs": [],
   "source": [
    "from astropy.io import fits\n",
    "from astropy import wcs\n",
    "\n",
    "#-----100-------------\n",
    "hdulist = fits.open(im100fits)\n",
    "im100phdu=hdulist[0].header\n",
    "im100hdu=hdulist[0].header\n",
    "im100=hdulist[0].data\n",
    "w_100 = wcs.WCS(hdulist[0].header)\n",
    "pixsize100=3600.0*np.abs(hdulist[0].header['CDELT1']) #pixel size (in arcseconds)\n",
    "hdulist.close()\n",
    "\n",
    "hdulist = fits.open(nim100fits)\n",
    "nim100=hdulist[0].data\n",
    "hdulist.close()\n",
    "\n",
    "#-----160-------------\n",
    "hdulist = fits.open(im160fits)\n",
    "im160phdu=hdulist[0].header\n",
    "im160hdu=hdulist[0].header\n",
    "\n",
    "im160=hdulist[0].data #convert to mJy\n",
    "w_160 = wcs.WCS(hdulist[0].header)\n",
    "pixsize160=3600.0*np.abs(hdulist[0].header['CDELT1']) #pixel size (in arcseconds)\n",
    "hdulist.close()\n",
    "\n",
    "hdulist = fits.open(nim160fits)\n",
    "nim160=hdulist[0].data\n",
    "hdulist.close()"
   ]
  },
  {
   "cell_type": "markdown",
   "metadata": {},
   "source": [
    "## Read in PSF"
   ]
  },
  {
   "cell_type": "code",
   "execution_count": 10,
   "metadata": {
    "collapsed": true
   },
   "outputs": [],
   "source": [
    "pacs100_psf=fits.open('../../dmu18/dmu18_Lockman-SWIRE/dmu18_PACS_100_PSF_Lockman-SWIRE_20171214.fits')\n",
    "pacs160_psf=fits.open('../../dmu18/dmu18_Lockman-SWIRE/dmu18_PACS_160_PSF_Lockman-SWIRE_20171214.fits')\n",
    "\n",
    "centre100=np.long((pacs100_psf[1].header['NAXIS1']-1)/2)\n",
    "radius100=15\n",
    "centre160=np.long((pacs160_psf[1].header['NAXIS1']-1)/2)\n",
    "radius160=25\n",
    "\n",
    "pind100=np.arange(0,radius100+1+radius100,1)*3600*np.abs(pacs100_psf[1].header['CDELT1'])/pixsize100 #get 100 scale in terms of pixel scale of map\n",
    "pind160=np.arange(0,radius160+1+radius160,1)*3600*np.abs(pacs160_psf[1].header['CDELT1'])/pixsize160 #get 160 scale in terms of pixel scale of map"
   ]
  },
  {
   "cell_type": "code",
   "execution_count": 11,
   "metadata": {},
   "outputs": [
    {
     "name": "stdout",
     "output_type": "stream",
     "text": [
      "[  0.           0.33333333   0.66666667   1.           1.33333333\n",
      "   1.66666667   2.           2.33333333   2.66666667   3.           3.33333333\n",
      "   3.66666667   4.           4.33333333   4.66666667   5.           5.33333333\n",
      "   5.66666667   6.           6.33333333   6.66666667   7.           7.33333333\n",
      "   7.66666667   8.           8.33333333   8.66666667   9.           9.33333333\n",
      "   9.66666667  10.        ]\n"
     ]
    }
   ],
   "source": [
    "print(pind100)"
   ]
  },
  {
   "cell_type": "code",
   "execution_count": 12,
   "metadata": {},
   "outputs": [
    {
     "data": {
      "text/plain": [
       "<matplotlib.colorbar.Colorbar at 0x1143f3438>"
      ]
     },
     "execution_count": 12,
     "metadata": {},
     "output_type": "execute_result"
    },
    {
     "data": {
      "image/png": "[encoded data removed]",
      "text/plain": [
       "<matplotlib.figure.Figure at 0x11e3bfb70>"
      ]
     },
     "metadata": {},
     "output_type": "display_data"
    }
   ],
   "source": [
    "import pylab as plt\n",
    "plt.figure(figsize=(20,10))\n",
    "plt.subplot(1,2,1)\n",
    "plt.imshow(pacs100_psf[1].data[centre100-radius100:centre100+radius100+1,centre100-radius100:centre100+radius100+1])\n",
    "plt.colorbar()\n",
    "plt.subplot(1,2,2)\n",
    "plt.imshow(pacs160_psf[1].data[centre160-radius160:centre160+radius160+1,centre160-radius160:centre160+radius160+1])\n",
    "plt.colorbar()"
   ]
  },
  {
   "cell_type": "markdown",
   "metadata": {
    "collapsed": true
   },
   "source": [
    "## Set XID+ prior class"
   ]
  },
  {
   "cell_type": "code",
   "execution_count": 13,
   "metadata": {
    "collapsed": true
   },
   "outputs": [],
   "source": [
    "#---prior100--------\n",
    "prior100=xidplus.prior(im100,nim100,im100phdu,im100hdu, moc=Sel_func)#Initialise with map, uncertianty map, wcs info and primary header\n",
    "prior100.prior_cat(XID_MIPS['RA'][good],XID_MIPS['Dec'][good],'dmu26_XID+MIPS_Lockman-SWIRE_cat_20171214.fits',ID=XID_MIPS['help_id'][good])#Set input catalogue\n",
    "prior100.prior_bkg(0.0,5)#Set prior on background (assumes Gaussian pdf with mu and sigma)\n",
    "\n",
    "#---prior160--------\n",
    "prior160=xidplus.prior(im160,nim160,im160phdu,im160hdu, moc=Sel_func)\n",
    "prior160.prior_cat(XID_MIPS['RA'][good],XID_MIPS['Dec'][good],'dmu26_XID+MIPS_Lockman-SWIRE_cat_20171214.fits',ID=XID_MIPS['help_id'][good])\n",
    "prior160.prior_bkg(0.0,5)"
   ]
  },
  {
   "cell_type": "code",
   "execution_count": 14,
   "metadata": {
    "collapsed": true
   },
   "outputs": [],
   "source": [
    "# Divide by 1000 so that units are mJy\n",
    "prior100.set_prf(pacs100_psf[1].data[centre100-radius100:centre100+radius100+1,centre100-radius100:centre100+radius100+1]/1000.0,\n",
    "                pind100,pind100)\n",
    "prior160.set_prf(pacs160_psf[1].data[centre160-radius160:centre160+radius160+1,centre160-radius160:centre160+radius160+1]/1000.0,\n",
    "                pind160,pind160)"
   ]
  },
  {
   "cell_type": "code",
   "execution_count": 15,
   "metadata": {},
   "outputs": [
    {
     "name": "stdout",
     "output_type": "stream",
     "text": [
      "----- There are 13996 tiles required for input catalogue and 24 large tiles\n",
      "writing total_bytes=1342530523...\n",
      "writing bytes [0, 1073741824)... done.\n",
      "writing bytes [1073741824, 1342530523)... done.\n"
     ]
    },
    {
     "ename": "SystemExit",
     "evalue": "",
     "traceback": [
      "An exception has occurred, use %tb to see the full traceback.\n",
      "\u001b[0;31mSystemExit\u001b[0m\n"
     ],
     "output_type": "error"
    }
   ],
   "source": [
    "import pickle\n",
    "#from moc, get healpix pixels at a given order\n",
    "from xidplus import moc_routines\n",
    "order=11\n",
    "tiles=moc_routines.get_HEALPix_pixels(order,prior100.sra,prior100.sdec,unique=True)\n",
    "order_large=6\n",
    "tiles_large=moc_routines.get_HEALPix_pixels(order_large,prior100.sra,prior100.sdec,unique=True)\n",
    "print('----- There are '+str(len(tiles))+' tiles required for input catalogue and '+str(len(tiles_large))+' large tiles')\n",
    "output_folder='./'\n",
    "xidplus.io.pickle_dump({'priors':[prior100,prior160],'tiles':tiles,'order':order,'version':xidplus.io.git_version()},'Master_prior.pkl')\n",
    "outfile=output_folder+'Tiles.pkl'\n",
    "with open(outfile, 'wb') as f:\n",
    "    pickle.dump({'tiles':tiles,'order':order,'tiles_large':tiles_large,'order_large':order_large,'version':xidplus.io.git_version()},f)\n",
    "raise SystemExit()"
   ]
  },
  {
   "cell_type": "code",
   "execution_count": 17,
   "metadata": {},
   "outputs": [
    {
     "name": "stdout",
     "output_type": "stream",
     "text": [
      "total 2622552\r\n",
      "-rw-rw-r--  1 pdh21  pdh21   111K 15 Dec 13:11 Tiles.pkl\r\n",
      "-rw-rw-r--  1 pdh21  pdh21   1.3G 15 Dec 13:11 Master_prior.pkl\r\n",
      "-rw-rw-r--  1 pdh21  pdh21    95K 15 Dec 13:12 XID+PACS_prior.ipynb\r\n"
     ]
    }
   ],
   "source": [
    "ls -ltrh"
   ]
  },
  {
   "cell_type": "code",
   "execution_count": null,
   "metadata": {
    "collapsed": true
   },
   "outputs": [],
   "source": [
    ""
   ]
  },
  {
   "cell_type": "code",
   "execution_count": null,
   "metadata": {
    "collapsed": true
   },
   "outputs": [],
   "source": [
    ""
   ]
  },
  {
   "cell_type": "code",
   "execution_count": null,
   "metadata": {
    "collapsed": true
   },
   "outputs": [],
   "source": [
    ""
   ]
  }
 ],
 "metadata": {
  "kernelspec": {
   "display_name": "Python [default]",
   "language": "python",
   "name": "python3"
  },
  "language_info": {
   "codemirror_mode": {
    "name": "ipython",
    "version": 3.0
   },
   "file_extension": ".py",
   "mimetype": "text/x-python",
   "name": "python",
   "nbconvert_exporter": "python",
   "pygments_lexer": "ipython3",
   "version": "3.6.0"
  }
 },
 "nbformat": 4,
 "nbformat_minor": 0
}